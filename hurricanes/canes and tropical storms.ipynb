{
 "cells": [
  {
   "cell_type": "code",
   "execution_count": 1,
   "id": "93eba3e5",
   "metadata": {},
   "outputs": [],
   "source": [
    "import pandas as pd\n",
    "import numpy as np"
   ]
  },
  {
   "cell_type": "markdown",
   "id": "31686960",
   "metadata": {},
   "source": [
    "## Hurricanes"
   ]
  },
  {
   "cell_type": "code",
   "execution_count": 2,
   "id": "a111c07b",
   "metadata": {},
   "outputs": [],
   "source": [
    "canes = pd.read_csv('./hurricanes.csv')"
   ]
  },
  {
   "cell_type": "code",
   "execution_count": 3,
   "id": "f9c3135d",
   "metadata": {},
   "outputs": [
    {
     "data": {
      "text/html": [
       "<div>\n",
       "<style scoped>\n",
       "    .dataframe tbody tr th:only-of-type {\n",
       "        vertical-align: middle;\n",
       "    }\n",
       "\n",
       "    .dataframe tbody tr th {\n",
       "        vertical-align: top;\n",
       "    }\n",
       "\n",
       "    .dataframe thead th {\n",
       "        text-align: right;\n",
       "    }\n",
       "</style>\n",
       "<table border=\"1\" class=\"dataframe\">\n",
       "  <thead>\n",
       "    <tr style=\"text-align: right;\">\n",
       "      <th></th>\n",
       "      <th>year</th>\n",
       "      <th>month</th>\n",
       "      <th>affected_states</th>\n",
       "      <th>state_1</th>\n",
       "      <th>state_2</th>\n",
       "      <th>state_3</th>\n",
       "      <th>state_4</th>\n",
       "      <th>state_5</th>\n",
       "      <th>state_6</th>\n",
       "      <th>state_7</th>\n",
       "      <th>category</th>\n",
       "      <th>mb_pressure</th>\n",
       "      <th>wind_kt</th>\n",
       "      <th>name</th>\n",
       "    </tr>\n",
       "  </thead>\n",
       "  <tbody>\n",
       "    <tr>\n",
       "      <th>0</th>\n",
       "      <td>1851.0</td>\n",
       "      <td>Jun</td>\n",
       "      <td>TX, C1</td>\n",
       "      <td>TX</td>\n",
       "      <td>NaN</td>\n",
       "      <td>NaN</td>\n",
       "      <td>NaN</td>\n",
       "      <td>NaN</td>\n",
       "      <td>NaN</td>\n",
       "      <td>NaN</td>\n",
       "      <td>1.0</td>\n",
       "      <td>974.0</td>\n",
       "      <td>80</td>\n",
       "      <td>-----</td>\n",
       "    </tr>\n",
       "    <tr>\n",
       "      <th>1</th>\n",
       "      <td>1851.0</td>\n",
       "      <td>Aug</td>\n",
       "      <td>FL, NW3; I-GA, 1</td>\n",
       "      <td>FL</td>\n",
       "      <td>GA</td>\n",
       "      <td>NaN</td>\n",
       "      <td>NaN</td>\n",
       "      <td>NaN</td>\n",
       "      <td>NaN</td>\n",
       "      <td>NaN</td>\n",
       "      <td>3.0</td>\n",
       "      <td>955.0</td>\n",
       "      <td>100</td>\n",
       "      <td>\"Great Middle Florida\"</td>\n",
       "    </tr>\n",
       "    <tr>\n",
       "      <th>2</th>\n",
       "      <td>1852.0</td>\n",
       "      <td>Aug</td>\n",
       "      <td>AL, 3; MS, 3; LA, 2; FL, SW2, NW1</td>\n",
       "      <td>AL</td>\n",
       "      <td>MS</td>\n",
       "      <td>LA</td>\n",
       "      <td>FL</td>\n",
       "      <td>NaN</td>\n",
       "      <td>NaN</td>\n",
       "      <td>NaN</td>\n",
       "      <td>3.0</td>\n",
       "      <td>961.0</td>\n",
       "      <td>100</td>\n",
       "      <td>\"Great Mobile\"</td>\n",
       "    </tr>\n",
       "    <tr>\n",
       "      <th>3</th>\n",
       "      <td>1852.0</td>\n",
       "      <td>Sep</td>\n",
       "      <td>FL, SW1</td>\n",
       "      <td>FL</td>\n",
       "      <td>NaN</td>\n",
       "      <td>NaN</td>\n",
       "      <td>NaN</td>\n",
       "      <td>NaN</td>\n",
       "      <td>NaN</td>\n",
       "      <td>NaN</td>\n",
       "      <td>1.0</td>\n",
       "      <td>982.0</td>\n",
       "      <td>70</td>\n",
       "      <td>-----</td>\n",
       "    </tr>\n",
       "    <tr>\n",
       "      <th>4</th>\n",
       "      <td>1852.0</td>\n",
       "      <td>Oct</td>\n",
       "      <td>FL, NW2; I-GA, 1</td>\n",
       "      <td>FL</td>\n",
       "      <td>GA</td>\n",
       "      <td>NaN</td>\n",
       "      <td>NaN</td>\n",
       "      <td>NaN</td>\n",
       "      <td>NaN</td>\n",
       "      <td>NaN</td>\n",
       "      <td>2.0</td>\n",
       "      <td>965.0</td>\n",
       "      <td>90</td>\n",
       "      <td>\"Middle Florida\"</td>\n",
       "    </tr>\n",
       "  </tbody>\n",
       "</table>\n",
       "</div>"
      ],
      "text/plain": [
       "     year month                    affected_states state_1 state_2 state_3  \\\n",
       "0  1851.0   Jun                             TX, C1      TX     NaN     NaN   \n",
       "1  1851.0   Aug                   FL, NW3; I-GA, 1      FL      GA     NaN   \n",
       "2  1852.0   Aug  AL, 3; MS, 3; LA, 2; FL, SW2, NW1      AL      MS      LA   \n",
       "3  1852.0   Sep                            FL, SW1      FL     NaN     NaN   \n",
       "4  1852.0   Oct                   FL, NW2; I-GA, 1      FL      GA     NaN   \n",
       "\n",
       "  state_4 state_5 state_6 state_7  category  mb_pressure wind_kt  \\\n",
       "0     NaN     NaN     NaN     NaN       1.0        974.0      80   \n",
       "1     NaN     NaN     NaN     NaN       3.0        955.0     100   \n",
       "2      FL     NaN     NaN     NaN       3.0        961.0     100   \n",
       "3     NaN     NaN     NaN     NaN       1.0        982.0      70   \n",
       "4     NaN     NaN     NaN     NaN       2.0        965.0      90   \n",
       "\n",
       "                     name  \n",
       "0                   -----  \n",
       "1  \"Great Middle Florida\"  \n",
       "2          \"Great Mobile\"  \n",
       "3                   -----  \n",
       "4        \"Middle Florida\"  "
      ]
     },
     "execution_count": 3,
     "metadata": {},
     "output_type": "execute_result"
    }
   ],
   "source": [
    "canes.head()"
   ]
  },
  {
   "cell_type": "code",
   "execution_count": 4,
   "id": "54d2171e",
   "metadata": {},
   "outputs": [],
   "source": [
    "canes = canes.drop(columns=[\"affected_states\", 'name'])"
   ]
  },
  {
   "cell_type": "code",
   "execution_count": 5,
   "id": "efd97a97",
   "metadata": {},
   "outputs": [
    {
     "data": {
      "text/html": [
       "<div>\n",
       "<style scoped>\n",
       "    .dataframe tbody tr th:only-of-type {\n",
       "        vertical-align: middle;\n",
       "    }\n",
       "\n",
       "    .dataframe tbody tr th {\n",
       "        vertical-align: top;\n",
       "    }\n",
       "\n",
       "    .dataframe thead th {\n",
       "        text-align: right;\n",
       "    }\n",
       "</style>\n",
       "<table border=\"1\" class=\"dataframe\">\n",
       "  <thead>\n",
       "    <tr style=\"text-align: right;\">\n",
       "      <th></th>\n",
       "      <th>year</th>\n",
       "      <th>month</th>\n",
       "      <th>state_1</th>\n",
       "      <th>state_2</th>\n",
       "      <th>state_3</th>\n",
       "      <th>state_4</th>\n",
       "      <th>state_5</th>\n",
       "      <th>state_6</th>\n",
       "      <th>state_7</th>\n",
       "      <th>category</th>\n",
       "      <th>mb_pressure</th>\n",
       "      <th>wind_kt</th>\n",
       "    </tr>\n",
       "  </thead>\n",
       "  <tbody>\n",
       "    <tr>\n",
       "      <th>0</th>\n",
       "      <td>1851.0</td>\n",
       "      <td>Jun</td>\n",
       "      <td>TX</td>\n",
       "      <td>NaN</td>\n",
       "      <td>NaN</td>\n",
       "      <td>NaN</td>\n",
       "      <td>NaN</td>\n",
       "      <td>NaN</td>\n",
       "      <td>NaN</td>\n",
       "      <td>1.0</td>\n",
       "      <td>974.0</td>\n",
       "      <td>80</td>\n",
       "    </tr>\n",
       "    <tr>\n",
       "      <th>1</th>\n",
       "      <td>1851.0</td>\n",
       "      <td>Aug</td>\n",
       "      <td>FL</td>\n",
       "      <td>GA</td>\n",
       "      <td>NaN</td>\n",
       "      <td>NaN</td>\n",
       "      <td>NaN</td>\n",
       "      <td>NaN</td>\n",
       "      <td>NaN</td>\n",
       "      <td>3.0</td>\n",
       "      <td>955.0</td>\n",
       "      <td>100</td>\n",
       "    </tr>\n",
       "    <tr>\n",
       "      <th>2</th>\n",
       "      <td>1852.0</td>\n",
       "      <td>Aug</td>\n",
       "      <td>AL</td>\n",
       "      <td>MS</td>\n",
       "      <td>LA</td>\n",
       "      <td>FL</td>\n",
       "      <td>NaN</td>\n",
       "      <td>NaN</td>\n",
       "      <td>NaN</td>\n",
       "      <td>3.0</td>\n",
       "      <td>961.0</td>\n",
       "      <td>100</td>\n",
       "    </tr>\n",
       "    <tr>\n",
       "      <th>3</th>\n",
       "      <td>1852.0</td>\n",
       "      <td>Sep</td>\n",
       "      <td>FL</td>\n",
       "      <td>NaN</td>\n",
       "      <td>NaN</td>\n",
       "      <td>NaN</td>\n",
       "      <td>NaN</td>\n",
       "      <td>NaN</td>\n",
       "      <td>NaN</td>\n",
       "      <td>1.0</td>\n",
       "      <td>982.0</td>\n",
       "      <td>70</td>\n",
       "    </tr>\n",
       "    <tr>\n",
       "      <th>4</th>\n",
       "      <td>1852.0</td>\n",
       "      <td>Oct</td>\n",
       "      <td>FL</td>\n",
       "      <td>GA</td>\n",
       "      <td>NaN</td>\n",
       "      <td>NaN</td>\n",
       "      <td>NaN</td>\n",
       "      <td>NaN</td>\n",
       "      <td>NaN</td>\n",
       "      <td>2.0</td>\n",
       "      <td>965.0</td>\n",
       "      <td>90</td>\n",
       "    </tr>\n",
       "  </tbody>\n",
       "</table>\n",
       "</div>"
      ],
      "text/plain": [
       "     year month state_1 state_2 state_3 state_4 state_5 state_6 state_7  \\\n",
       "0  1851.0   Jun      TX     NaN     NaN     NaN     NaN     NaN     NaN   \n",
       "1  1851.0   Aug      FL      GA     NaN     NaN     NaN     NaN     NaN   \n",
       "2  1852.0   Aug      AL      MS      LA      FL     NaN     NaN     NaN   \n",
       "3  1852.0   Sep      FL     NaN     NaN     NaN     NaN     NaN     NaN   \n",
       "4  1852.0   Oct      FL      GA     NaN     NaN     NaN     NaN     NaN   \n",
       "\n",
       "   category  mb_pressure wind_kt  \n",
       "0       1.0        974.0      80  \n",
       "1       3.0        955.0     100  \n",
       "2       3.0        961.0     100  \n",
       "3       1.0        982.0      70  \n",
       "4       2.0        965.0      90  "
      ]
     },
     "execution_count": 5,
     "metadata": {},
     "output_type": "execute_result"
    }
   ],
   "source": [
    "canes.head()"
   ]
  },
  {
   "cell_type": "code",
   "execution_count": 6,
   "id": "c30fe683",
   "metadata": {},
   "outputs": [
    {
     "data": {
      "text/plain": [
       "MA    1\n",
       "Name: state_7, dtype: int64"
      ]
     },
     "execution_count": 6,
     "metadata": {},
     "output_type": "execute_result"
    }
   ],
   "source": [
    "canes['state_7'].value_counts()"
   ]
  },
  {
   "cell_type": "code",
   "execution_count": 7,
   "id": "13a994b8",
   "metadata": {},
   "outputs": [],
   "source": [
    "la1 = canes[canes[\"state_1\"] == 'LA']"
   ]
  },
  {
   "cell_type": "code",
   "execution_count": 8,
   "id": "2ee37dbf",
   "metadata": {},
   "outputs": [],
   "source": [
    "la2 = canes[canes[\"state_2\"] == 'LA']"
   ]
  },
  {
   "cell_type": "code",
   "execution_count": 9,
   "id": "4b20d6cc",
   "metadata": {},
   "outputs": [],
   "source": [
    "la3 = canes[canes[\"state_3\"] == 'LA']"
   ]
  },
  {
   "cell_type": "code",
   "execution_count": 10,
   "id": "ec2d5ff9",
   "metadata": {},
   "outputs": [],
   "source": [
    "la4 = canes[canes[\"state_4\"] == 'LA']"
   ]
  },
  {
   "cell_type": "code",
   "execution_count": 11,
   "id": "1a6ee838",
   "metadata": {},
   "outputs": [],
   "source": [
    "la1 = la1.drop(columns=['state_2', 'state_3', 'state_4', 'state_5', 'state_6', 'state_7'])\n"
   ]
  },
  {
   "cell_type": "code",
   "execution_count": 12,
   "id": "2055993b",
   "metadata": {},
   "outputs": [],
   "source": [
    "la2 = la2.drop(columns=['state_1', 'state_3', 'state_4', 'state_5', 'state_6', 'state_7'])\n"
   ]
  },
  {
   "cell_type": "code",
   "execution_count": 13,
   "id": "57151d19",
   "metadata": {},
   "outputs": [],
   "source": [
    "la3= la3.drop(columns=['state_1', 'state_2', 'state_4', 'state_5', 'state_6', 'state_7'])\n"
   ]
  },
  {
   "cell_type": "code",
   "execution_count": 14,
   "id": "d17306ae",
   "metadata": {},
   "outputs": [],
   "source": [
    "la4= la4.drop(columns=['state_1', 'state_2', 'state_3', 'state_5', 'state_6', 'state_7'])\n"
   ]
  },
  {
   "cell_type": "code",
   "execution_count": 15,
   "id": "62a379b2",
   "metadata": {},
   "outputs": [],
   "source": [
    "la1 = la1.rename(columns={\"state_1\": \"state\"})"
   ]
  },
  {
   "cell_type": "code",
   "execution_count": 16,
   "id": "472f0b86",
   "metadata": {},
   "outputs": [],
   "source": [
    "la2 = la2.rename(columns={\"state_2\": \"state\"})"
   ]
  },
  {
   "cell_type": "code",
   "execution_count": 17,
   "id": "2b4d9078",
   "metadata": {},
   "outputs": [],
   "source": [
    "la3 = la3.rename(columns={\"state_3\": \"state\"})"
   ]
  },
  {
   "cell_type": "code",
   "execution_count": 18,
   "id": "731bfdaf",
   "metadata": {},
   "outputs": [],
   "source": [
    "la4 = la4.rename(columns={\"state_4\": \"state\"})"
   ]
  },
  {
   "cell_type": "code",
   "execution_count": 19,
   "id": "beda2aaf",
   "metadata": {},
   "outputs": [],
   "source": [
    "frames = [la1, la2, la3, la4]\n",
    "\n",
    "louisiana = pd.concat(frames)"
   ]
  },
  {
   "cell_type": "code",
   "execution_count": 20,
   "id": "6ee7cc02",
   "metadata": {},
   "outputs": [
    {
     "data": {
      "text/html": [
       "<div>\n",
       "<style scoped>\n",
       "    .dataframe tbody tr th:only-of-type {\n",
       "        vertical-align: middle;\n",
       "    }\n",
       "\n",
       "    .dataframe tbody tr th {\n",
       "        vertical-align: top;\n",
       "    }\n",
       "\n",
       "    .dataframe thead th {\n",
       "        text-align: right;\n",
       "    }\n",
       "</style>\n",
       "<table border=\"1\" class=\"dataframe\">\n",
       "  <thead>\n",
       "    <tr style=\"text-align: right;\">\n",
       "      <th></th>\n",
       "      <th>year</th>\n",
       "      <th>month</th>\n",
       "      <th>state</th>\n",
       "      <th>category</th>\n",
       "      <th>mb_pressure</th>\n",
       "      <th>wind_kt</th>\n",
       "    </tr>\n",
       "  </thead>\n",
       "  <tbody>\n",
       "    <tr>\n",
       "      <th>9</th>\n",
       "      <td>1855.0</td>\n",
       "      <td>Sep</td>\n",
       "      <td>LA</td>\n",
       "      <td>3.0</td>\n",
       "      <td>945.0</td>\n",
       "      <td>110</td>\n",
       "    </tr>\n",
       "    <tr>\n",
       "      <th>10</th>\n",
       "      <td>1856.0</td>\n",
       "      <td>Aug</td>\n",
       "      <td>LA</td>\n",
       "      <td>4.0</td>\n",
       "      <td>934.0</td>\n",
       "      <td>130</td>\n",
       "    </tr>\n",
       "    <tr>\n",
       "      <th>16</th>\n",
       "      <td>1860.0</td>\n",
       "      <td>Aug</td>\n",
       "      <td>LA</td>\n",
       "      <td>3.0</td>\n",
       "      <td>945.0</td>\n",
       "      <td>110</td>\n",
       "    </tr>\n",
       "    <tr>\n",
       "      <th>17</th>\n",
       "      <td>1860.0</td>\n",
       "      <td>Sep</td>\n",
       "      <td>LA</td>\n",
       "      <td>2.0</td>\n",
       "      <td>965.0</td>\n",
       "      <td>90</td>\n",
       "    </tr>\n",
       "    <tr>\n",
       "      <th>18</th>\n",
       "      <td>1860.0</td>\n",
       "      <td>Oct</td>\n",
       "      <td>LA</td>\n",
       "      <td>2.0</td>\n",
       "      <td>965.0</td>\n",
       "      <td>90</td>\n",
       "    </tr>\n",
       "    <tr>\n",
       "      <th>...</th>\n",
       "      <td>...</td>\n",
       "      <td>...</td>\n",
       "      <td>...</td>\n",
       "      <td>...</td>\n",
       "      <td>...</td>\n",
       "      <td>...</td>\n",
       "    </tr>\n",
       "    <tr>\n",
       "      <th>278</th>\n",
       "      <td>2005.0</td>\n",
       "      <td>Sep</td>\n",
       "      <td>LA</td>\n",
       "      <td>3.0</td>\n",
       "      <td>937.0</td>\n",
       "      <td>100</td>\n",
       "    </tr>\n",
       "    <tr>\n",
       "      <th>280</th>\n",
       "      <td>2007.0</td>\n",
       "      <td>Sep</td>\n",
       "      <td>LA</td>\n",
       "      <td>1.0</td>\n",
       "      <td>985.0</td>\n",
       "      <td>80</td>\n",
       "    </tr>\n",
       "    <tr>\n",
       "      <th>283</th>\n",
       "      <td>2008.0</td>\n",
       "      <td>Sep</td>\n",
       "      <td>LA</td>\n",
       "      <td>2.0</td>\n",
       "      <td>950.0</td>\n",
       "      <td>95</td>\n",
       "    </tr>\n",
       "    <tr>\n",
       "      <th>2</th>\n",
       "      <td>1852.0</td>\n",
       "      <td>Aug</td>\n",
       "      <td>LA</td>\n",
       "      <td>3.0</td>\n",
       "      <td>961.0</td>\n",
       "      <td>100</td>\n",
       "    </tr>\n",
       "    <tr>\n",
       "      <th>106</th>\n",
       "      <td>1906.0</td>\n",
       "      <td>Sep</td>\n",
       "      <td>LA</td>\n",
       "      <td>2.0</td>\n",
       "      <td>958.0</td>\n",
       "      <td>95</td>\n",
       "    </tr>\n",
       "  </tbody>\n",
       "</table>\n",
       "<p>63 rows × 6 columns</p>\n",
       "</div>"
      ],
      "text/plain": [
       "       year month state  category  mb_pressure wind_kt\n",
       "9    1855.0   Sep    LA       3.0        945.0     110\n",
       "10   1856.0   Aug    LA       4.0        934.0     130\n",
       "16   1860.0   Aug    LA       3.0        945.0     110\n",
       "17   1860.0   Sep    LA       2.0        965.0      90\n",
       "18   1860.0   Oct    LA       2.0        965.0      90\n",
       "..      ...   ...   ...       ...          ...     ...\n",
       "278  2005.0   Sep    LA       3.0        937.0     100\n",
       "280  2007.0   Sep    LA       1.0        985.0      80\n",
       "283  2008.0   Sep    LA       2.0        950.0      95\n",
       "2    1852.0   Aug    LA       3.0        961.0     100\n",
       "106  1906.0   Sep    LA       2.0        958.0      95\n",
       "\n",
       "[63 rows x 6 columns]"
      ]
     },
     "execution_count": 20,
     "metadata": {},
     "output_type": "execute_result"
    }
   ],
   "source": [
    "louisiana"
   ]
  },
  {
   "cell_type": "code",
   "execution_count": 21,
   "id": "4e99a9ce",
   "metadata": {},
   "outputs": [
    {
     "data": {
      "text/plain": [
       "Sep    27\n",
       "Aug    17\n",
       "Oct    12\n",
       "Jul     4\n",
       "Jun     3\n",
       "Name: month, dtype: int64"
      ]
     },
     "execution_count": 21,
     "metadata": {},
     "output_type": "execute_result"
    }
   ],
   "source": [
    "louisiana[\"month\"].value_counts()"
   ]
  },
  {
   "cell_type": "code",
   "execution_count": 24,
   "id": "f5fd2873",
   "metadata": {},
   "outputs": [
    {
     "data": {
      "text/plain": [
       "(63, 6)"
      ]
     },
     "execution_count": 24,
     "metadata": {},
     "output_type": "execute_result"
    }
   ],
   "source": [
    "louisiana.shape"
   ]
  },
  {
   "cell_type": "code",
   "execution_count": 26,
   "id": "f0479080",
   "metadata": {},
   "outputs": [
    {
     "data": {
      "text/plain": [
       "0.42857142857142855"
      ]
     },
     "execution_count": 26,
     "metadata": {},
     "output_type": "execute_result"
    }
   ],
   "source": [
    "27/63"
   ]
  },
  {
   "cell_type": "markdown",
   "id": "d05cbeb5",
   "metadata": {},
   "source": [
    "percent of louisiana hurricanes in Septermber 42.88%"
   ]
  },
  {
   "cell_type": "code",
   "execution_count": 27,
   "id": "fdab1cfb",
   "metadata": {},
   "outputs": [
    {
     "data": {
      "text/plain": [
       "0.2698412698412698"
      ]
     },
     "execution_count": 27,
     "metadata": {},
     "output_type": "execute_result"
    }
   ],
   "source": [
    "17/63"
   ]
  },
  {
   "cell_type": "markdown",
   "id": "e2160197",
   "metadata": {},
   "source": [
    "percent of "
   ]
  },
  {
   "cell_type": "code",
   "execution_count": 28,
   "id": "0fd60770",
   "metadata": {},
   "outputs": [
    {
     "data": {
      "text/plain": [
       "0.19047619047619047"
      ]
     },
     "execution_count": 28,
     "metadata": {},
     "output_type": "execute_result"
    }
   ],
   "source": [
    "12/63"
   ]
  },
  {
   "cell_type": "markdown",
   "id": "5e1f7de9",
   "metadata": {},
   "source": [
    "## Tropical Storms"
   ]
  },
  {
   "cell_type": "code",
   "execution_count": 29,
   "id": "c87836ed",
   "metadata": {},
   "outputs": [],
   "source": [
    "tropics = pd.read_csv('./Continental United States Tropical Storms Impacts:Landfalls 1851-1970, 1983-2021.csv')"
   ]
  },
  {
   "cell_type": "code",
   "execution_count": 30,
   "id": "5aee5b57",
   "metadata": {},
   "outputs": [
    {
     "data": {
      "text/html": [
       "<div>\n",
       "<style scoped>\n",
       "    .dataframe tbody tr th:only-of-type {\n",
       "        vertical-align: middle;\n",
       "    }\n",
       "\n",
       "    .dataframe tbody tr th {\n",
       "        vertical-align: top;\n",
       "    }\n",
       "\n",
       "    .dataframe thead th {\n",
       "        text-align: right;\n",
       "    }\n",
       "</style>\n",
       "<table border=\"1\" class=\"dataframe\">\n",
       "  <thead>\n",
       "    <tr style=\"text-align: right;\">\n",
       "      <th></th>\n",
       "      <th>storm #</th>\n",
       "      <th>date</th>\n",
       "      <th>time</th>\n",
       "      <th>lat_n</th>\n",
       "      <th>lon_w</th>\n",
       "      <th>max_winds(kt)</th>\n",
       "      <th>landfall_state</th>\n",
       "      <th>storm_names</th>\n",
       "    </tr>\n",
       "  </thead>\n",
       "  <tbody>\n",
       "    <tr>\n",
       "      <th>0</th>\n",
       "      <td>6</td>\n",
       "      <td>10/19/1851</td>\n",
       "      <td>1500Z</td>\n",
       "      <td>41.1</td>\n",
       "      <td>71.7</td>\n",
       "      <td>50</td>\n",
       "      <td>NY</td>\n",
       "      <td>NaN</td>\n",
       "    </tr>\n",
       "    <tr>\n",
       "      <th>1</th>\n",
       "      <td>3</td>\n",
       "      <td>8/19/1856</td>\n",
       "      <td>1100Z</td>\n",
       "      <td>34.8</td>\n",
       "      <td>76.4</td>\n",
       "      <td>50</td>\n",
       "      <td>NC</td>\n",
       "      <td>NaN</td>\n",
       "    </tr>\n",
       "    <tr>\n",
       "      <th>2</th>\n",
       "      <td>4</td>\n",
       "      <td>9/30/1857$</td>\n",
       "      <td>1000Z</td>\n",
       "      <td>25.8</td>\n",
       "      <td>97.0</td>\n",
       "      <td>50</td>\n",
       "      <td>TX</td>\n",
       "      <td>NaN</td>\n",
       "    </tr>\n",
       "    <tr>\n",
       "      <th>3</th>\n",
       "      <td>3</td>\n",
       "      <td>9/14/1858$</td>\n",
       "      <td>1500Z</td>\n",
       "      <td>27.6</td>\n",
       "      <td>82.7</td>\n",
       "      <td>60</td>\n",
       "      <td>FL</td>\n",
       "      <td>NaN</td>\n",
       "    </tr>\n",
       "    <tr>\n",
       "      <th>4</th>\n",
       "      <td>3</td>\n",
       "      <td>9/16/1858*</td>\n",
       "      <td>0300Z</td>\n",
       "      <td>35.2</td>\n",
       "      <td>75.2</td>\n",
       "      <td>50</td>\n",
       "      <td>NC</td>\n",
       "      <td>NaN</td>\n",
       "    </tr>\n",
       "  </tbody>\n",
       "</table>\n",
       "</div>"
      ],
      "text/plain": [
       "   storm #        date   time  lat_n  lon_w  max_winds(kt) landfall_state  \\\n",
       "0        6  10/19/1851  1500Z   41.1   71.7             50             NY   \n",
       "1        3   8/19/1856  1100Z   34.8   76.4             50             NC   \n",
       "2        4  9/30/1857$  1000Z   25.8   97.0             50             TX   \n",
       "3        3  9/14/1858$  1500Z   27.6   82.7             60             FL   \n",
       "4        3  9/16/1858*  0300Z   35.2   75.2             50             NC   \n",
       "\n",
       "  storm_names  \n",
       "0         NaN  \n",
       "1         NaN  \n",
       "2         NaN  \n",
       "3         NaN  \n",
       "4         NaN  "
      ]
     },
     "execution_count": 30,
     "metadata": {},
     "output_type": "execute_result"
    }
   ],
   "source": [
    "tropics.head()"
   ]
  },
  {
   "cell_type": "code",
   "execution_count": 31,
   "id": "7c83daaa",
   "metadata": {},
   "outputs": [],
   "source": [
    "tropics = tropics.drop(columns=[\"storm #\", 'lat_n', 'lon_w', 'time'])"
   ]
  },
  {
   "cell_type": "code",
   "execution_count": 32,
   "id": "d2226417",
   "metadata": {},
   "outputs": [
    {
     "data": {
      "text/html": [
       "<div>\n",
       "<style scoped>\n",
       "    .dataframe tbody tr th:only-of-type {\n",
       "        vertical-align: middle;\n",
       "    }\n",
       "\n",
       "    .dataframe tbody tr th {\n",
       "        vertical-align: top;\n",
       "    }\n",
       "\n",
       "    .dataframe thead th {\n",
       "        text-align: right;\n",
       "    }\n",
       "</style>\n",
       "<table border=\"1\" class=\"dataframe\">\n",
       "  <thead>\n",
       "    <tr style=\"text-align: right;\">\n",
       "      <th></th>\n",
       "      <th>date</th>\n",
       "      <th>max_winds(kt)</th>\n",
       "      <th>landfall_state</th>\n",
       "      <th>storm_names</th>\n",
       "    </tr>\n",
       "  </thead>\n",
       "  <tbody>\n",
       "    <tr>\n",
       "      <th>0</th>\n",
       "      <td>10/19/1851</td>\n",
       "      <td>50</td>\n",
       "      <td>NY</td>\n",
       "      <td>NaN</td>\n",
       "    </tr>\n",
       "    <tr>\n",
       "      <th>1</th>\n",
       "      <td>8/19/1856</td>\n",
       "      <td>50</td>\n",
       "      <td>NC</td>\n",
       "      <td>NaN</td>\n",
       "    </tr>\n",
       "    <tr>\n",
       "      <th>2</th>\n",
       "      <td>9/30/1857$</td>\n",
       "      <td>50</td>\n",
       "      <td>TX</td>\n",
       "      <td>NaN</td>\n",
       "    </tr>\n",
       "    <tr>\n",
       "      <th>3</th>\n",
       "      <td>9/14/1858$</td>\n",
       "      <td>60</td>\n",
       "      <td>FL</td>\n",
       "      <td>NaN</td>\n",
       "    </tr>\n",
       "    <tr>\n",
       "      <th>4</th>\n",
       "      <td>9/16/1858*</td>\n",
       "      <td>50</td>\n",
       "      <td>NC</td>\n",
       "      <td>NaN</td>\n",
       "    </tr>\n",
       "  </tbody>\n",
       "</table>\n",
       "</div>"
      ],
      "text/plain": [
       "         date  max_winds(kt) landfall_state storm_names\n",
       "0  10/19/1851             50             NY         NaN\n",
       "1   8/19/1856             50             NC         NaN\n",
       "2  9/30/1857$             50             TX         NaN\n",
       "3  9/14/1858$             60             FL         NaN\n",
       "4  9/16/1858*             50             NC         NaN"
      ]
     },
     "execution_count": 32,
     "metadata": {},
     "output_type": "execute_result"
    }
   ],
   "source": [
    "tropics.head()"
   ]
  },
  {
   "cell_type": "code",
   "execution_count": 33,
   "id": "5c571ff6",
   "metadata": {},
   "outputs": [],
   "source": [
    "la_tropics = tropics[tropics[\"landfall_state\"] == 'LA']"
   ]
  },
  {
   "cell_type": "code",
   "execution_count": 34,
   "id": "e87c0610",
   "metadata": {},
   "outputs": [
    {
     "data": {
      "text/plain": [
       "(49, 4)"
      ]
     },
     "execution_count": 34,
     "metadata": {},
     "output_type": "execute_result"
    }
   ],
   "source": [
    "la_tropics.shape"
   ]
  },
  {
   "cell_type": "code",
   "execution_count": 35,
   "id": "536a0413",
   "metadata": {},
   "outputs": [],
   "source": [
    "tropical_s = pd.read_csv('tropical_storms.csv')"
   ]
  },
  {
   "cell_type": "code",
   "execution_count": 36,
   "id": "69792010",
   "metadata": {},
   "outputs": [
    {
     "data": {
      "text/html": [
       "<div>\n",
       "<style scoped>\n",
       "    .dataframe tbody tr th:only-of-type {\n",
       "        vertical-align: middle;\n",
       "    }\n",
       "\n",
       "    .dataframe tbody tr th {\n",
       "        vertical-align: top;\n",
       "    }\n",
       "\n",
       "    .dataframe thead th {\n",
       "        text-align: right;\n",
       "    }\n",
       "</style>\n",
       "<table border=\"1\" class=\"dataframe\">\n",
       "  <thead>\n",
       "    <tr style=\"text-align: right;\">\n",
       "      <th></th>\n",
       "      <th>storm_number</th>\n",
       "      <th>date</th>\n",
       "      <th>time</th>\n",
       "      <th>lat_n</th>\n",
       "      <th>lon_w</th>\n",
       "      <th>max_winds(kt)</th>\n",
       "      <th>landfall_state</th>\n",
       "      <th>storm_names</th>\n",
       "    </tr>\n",
       "  </thead>\n",
       "  <tbody>\n",
       "    <tr>\n",
       "      <th>0</th>\n",
       "      <td>6</td>\n",
       "      <td>10/19/1851</td>\n",
       "      <td>1500</td>\n",
       "      <td>41.1</td>\n",
       "      <td>71.7</td>\n",
       "      <td>50</td>\n",
       "      <td>NY</td>\n",
       "      <td>NaN</td>\n",
       "    </tr>\n",
       "    <tr>\n",
       "      <th>1</th>\n",
       "      <td>3</td>\n",
       "      <td>8/19/1856</td>\n",
       "      <td>1100</td>\n",
       "      <td>34.8</td>\n",
       "      <td>76.4</td>\n",
       "      <td>50</td>\n",
       "      <td>NC</td>\n",
       "      <td>NaN</td>\n",
       "    </tr>\n",
       "    <tr>\n",
       "      <th>2</th>\n",
       "      <td>4</td>\n",
       "      <td>9/30/1857</td>\n",
       "      <td>1000</td>\n",
       "      <td>25.8</td>\n",
       "      <td>97.0</td>\n",
       "      <td>50</td>\n",
       "      <td>TX</td>\n",
       "      <td>NaN</td>\n",
       "    </tr>\n",
       "    <tr>\n",
       "      <th>3</th>\n",
       "      <td>3</td>\n",
       "      <td>9/14/1858</td>\n",
       "      <td>1500</td>\n",
       "      <td>27.6</td>\n",
       "      <td>82.7</td>\n",
       "      <td>60</td>\n",
       "      <td>FL</td>\n",
       "      <td>NaN</td>\n",
       "    </tr>\n",
       "    <tr>\n",
       "      <th>4</th>\n",
       "      <td>3</td>\n",
       "      <td>9/16/1858</td>\n",
       "      <td>300</td>\n",
       "      <td>35.2</td>\n",
       "      <td>75.2</td>\n",
       "      <td>50</td>\n",
       "      <td>NC</td>\n",
       "      <td>NaN</td>\n",
       "    </tr>\n",
       "  </tbody>\n",
       "</table>\n",
       "</div>"
      ],
      "text/plain": [
       "   storm_number        date  time  lat_n  lon_w  max_winds(kt) landfall_state  \\\n",
       "0             6  10/19/1851  1500   41.1   71.7             50             NY   \n",
       "1             3   8/19/1856  1100   34.8   76.4             50             NC   \n",
       "2             4   9/30/1857  1000   25.8   97.0             50             TX   \n",
       "3             3   9/14/1858  1500   27.6   82.7             60             FL   \n",
       "4             3   9/16/1858   300   35.2   75.2             50             NC   \n",
       "\n",
       "  storm_names  \n",
       "0         NaN  \n",
       "1         NaN  \n",
       "2         NaN  \n",
       "3         NaN  \n",
       "4         NaN  "
      ]
     },
     "execution_count": 36,
     "metadata": {},
     "output_type": "execute_result"
    }
   ],
   "source": [
    "tropical_s.head()"
   ]
  },
  {
   "cell_type": "code",
   "execution_count": 37,
   "id": "37432eaa",
   "metadata": {},
   "outputs": [
    {
     "data": {
      "text/plain": [
       "storm_number        int64\n",
       "date               object\n",
       "time               object\n",
       "lat_n             float64\n",
       "lon_w             float64\n",
       "max_winds(kt)       int64\n",
       "landfall_state     object\n",
       "storm_names        object\n",
       "dtype: object"
      ]
     },
     "execution_count": 37,
     "metadata": {},
     "output_type": "execute_result"
    }
   ],
   "source": [
    "tropical_s.dtypes"
   ]
  },
  {
   "cell_type": "code",
   "execution_count": 38,
   "id": "dcac09d3",
   "metadata": {
    "scrolled": false
   },
   "outputs": [
    {
     "data": {
      "text/html": [
       "<div>\n",
       "<style scoped>\n",
       "    .dataframe tbody tr th:only-of-type {\n",
       "        vertical-align: middle;\n",
       "    }\n",
       "\n",
       "    .dataframe tbody tr th {\n",
       "        vertical-align: top;\n",
       "    }\n",
       "\n",
       "    .dataframe thead th {\n",
       "        text-align: right;\n",
       "    }\n",
       "</style>\n",
       "<table border=\"1\" class=\"dataframe\">\n",
       "  <thead>\n",
       "    <tr style=\"text-align: right;\">\n",
       "      <th></th>\n",
       "      <th>date</th>\n",
       "      <th>time</th>\n",
       "      <th>lat_n</th>\n",
       "      <th>lon_w</th>\n",
       "      <th>max_winds(kt)</th>\n",
       "      <th>landfall_state</th>\n",
       "    </tr>\n",
       "  </thead>\n",
       "  <tbody>\n",
       "    <tr>\n",
       "      <th>0</th>\n",
       "      <td>10/19/1851</td>\n",
       "      <td>1500</td>\n",
       "      <td>41.1</td>\n",
       "      <td>71.7</td>\n",
       "      <td>50</td>\n",
       "      <td>NY</td>\n",
       "    </tr>\n",
       "    <tr>\n",
       "      <th>1</th>\n",
       "      <td>8/19/1856</td>\n",
       "      <td>1100</td>\n",
       "      <td>34.8</td>\n",
       "      <td>76.4</td>\n",
       "      <td>50</td>\n",
       "      <td>NC</td>\n",
       "    </tr>\n",
       "    <tr>\n",
       "      <th>2</th>\n",
       "      <td>9/30/1857</td>\n",
       "      <td>1000</td>\n",
       "      <td>25.8</td>\n",
       "      <td>97.0</td>\n",
       "      <td>50</td>\n",
       "      <td>TX</td>\n",
       "    </tr>\n",
       "    <tr>\n",
       "      <th>3</th>\n",
       "      <td>9/14/1858</td>\n",
       "      <td>1500</td>\n",
       "      <td>27.6</td>\n",
       "      <td>82.7</td>\n",
       "      <td>60</td>\n",
       "      <td>FL</td>\n",
       "    </tr>\n",
       "    <tr>\n",
       "      <th>4</th>\n",
       "      <td>9/16/1858</td>\n",
       "      <td>300</td>\n",
       "      <td>35.2</td>\n",
       "      <td>75.2</td>\n",
       "      <td>50</td>\n",
       "      <td>NC</td>\n",
       "    </tr>\n",
       "    <tr>\n",
       "      <th>...</th>\n",
       "      <td>...</td>\n",
       "      <td>...</td>\n",
       "      <td>...</td>\n",
       "      <td>...</td>\n",
       "      <td>...</td>\n",
       "      <td>...</td>\n",
       "    </tr>\n",
       "    <tr>\n",
       "      <th>387</th>\n",
       "      <td>7/9/21</td>\n",
       "      <td>1630</td>\n",
       "      <td>41.4</td>\n",
       "      <td>71.7</td>\n",
       "      <td>50</td>\n",
       "      <td>RI</td>\n",
       "    </tr>\n",
       "    <tr>\n",
       "      <th>388</th>\n",
       "      <td>8/16/21</td>\n",
       "      <td>1900</td>\n",
       "      <td>29.7</td>\n",
       "      <td>85.4</td>\n",
       "      <td>55</td>\n",
       "      <td>FL</td>\n",
       "    </tr>\n",
       "    <tr>\n",
       "      <th>389</th>\n",
       "      <td>8/22/21</td>\n",
       "      <td>1520</td>\n",
       "      <td>41.2</td>\n",
       "      <td>71.6</td>\n",
       "      <td>55</td>\n",
       "      <td>RI</td>\n",
       "    </tr>\n",
       "    <tr>\n",
       "      <th>390</th>\n",
       "      <td>8/22/21</td>\n",
       "      <td>1615</td>\n",
       "      <td>41.3</td>\n",
       "      <td>71.8</td>\n",
       "      <td>55</td>\n",
       "      <td>RI</td>\n",
       "    </tr>\n",
       "    <tr>\n",
       "      <th>391</th>\n",
       "      <td>9/9/21</td>\n",
       "      <td>115</td>\n",
       "      <td>29.7</td>\n",
       "      <td>85.1</td>\n",
       "      <td>50</td>\n",
       "      <td>FL</td>\n",
       "    </tr>\n",
       "  </tbody>\n",
       "</table>\n",
       "<p>392 rows × 6 columns</p>\n",
       "</div>"
      ],
      "text/plain": [
       "           date  time  lat_n  lon_w  max_winds(kt) landfall_state\n",
       "0    10/19/1851  1500   41.1   71.7             50             NY\n",
       "1     8/19/1856  1100   34.8   76.4             50             NC\n",
       "2     9/30/1857  1000   25.8   97.0             50             TX\n",
       "3     9/14/1858  1500   27.6   82.7             60             FL\n",
       "4     9/16/1858   300   35.2   75.2             50             NC\n",
       "..          ...   ...    ...    ...            ...            ...\n",
       "387      7/9/21  1630   41.4   71.7             50             RI\n",
       "388     8/16/21  1900   29.7   85.4             55             FL\n",
       "389     8/22/21  1520   41.2   71.6             55             RI\n",
       "390     8/22/21  1615   41.3   71.8             55             RI\n",
       "391      9/9/21   115   29.7   85.1             50             FL\n",
       "\n",
       "[392 rows x 6 columns]"
      ]
     },
     "execution_count": 38,
     "metadata": {},
     "output_type": "execute_result"
    }
   ],
   "source": [
    "tropical_s.drop(columns=[\"storm_names\", 'storm_number'])"
   ]
  },
  {
   "cell_type": "code",
   "execution_count": 39,
   "id": "d7ad987a",
   "metadata": {},
   "outputs": [],
   "source": [
    "tropical_la = tropical_s[tropical_s[\"landfall_state\"]==\"LA\"]"
   ]
  },
  {
   "cell_type": "markdown",
   "id": "e90bbc5f",
   "metadata": {},
   "source": [
    "### Number of tropical storms to hit louisiana"
   ]
  },
  {
   "cell_type": "code",
   "execution_count": 41,
   "id": "9d4b740b",
   "metadata": {},
   "outputs": [
    {
     "data": {
      "text/plain": [
       "storm_number  date      time  lat_n  lon_w  max_winds(kt)  landfall_state  storm_names\n",
       "1             5/30/59   2200  29.6   91.6   55             LA              Arlene         1\n",
       "5             9/5/58    1800  26.8   94.0   40             LA              Ella           1\n",
       "14            10/10/04  1100  29.2   91.0   35             LA              Matthew        1\n",
       "13            9/4/11    1030  29.6   92.1   40             LA              Lee            1\n",
       "11            11/10/09  0     28.9   88.7   50             LA              Ida            1\n",
       "10            9/26/02   600   29.1   90.3   55             LA              Isidore        1\n",
       "9             9/14/02   800   29.1   89.1   50             LA              Hanna          1\n",
       "              8/30/17   800   29.8   93.5   40             LA              Harvey         1\n",
       "8             9/20/98   500   29.1   90.9   35             LA              Hermine        1\n",
       "6             9/18/57   1200  29.2   90.9   55             LA              Esther         1\n",
       "5             9/29/65   2000  29.1   90.2   35             LA              Debbie         1\n",
       "1             6/13/56   1700  29.1   90.7   50             LA              Unnamed        1\n",
       "5             8/27/55   400   30.0   89.2   45             LA              Unnamed        1\n",
       "              7/29/54   1000  29.7   92.8   50             LA              Barbara        1\n",
       "3             6/7/20    2200  29.3   89.8   45             LA              Cristobal      1\n",
       "              6/30/03   1900  29.3   91.0   50             LA              Bill           1\n",
       "              6/22/17   700   29.8   93.7   45             LA              Cindy          1\n",
       "              6/19/21   430   29.2   91.0   40             LA              Claudette      1\n",
       "2             8/5/02    200   29.4   89.3   35             LA              Bertha         1\n",
       "1             8/1/55    1700  29.7   89.4   55             LA              Brenda         1\n",
       "23            10/1/69   600   27.9   86.6   35             LA              Unnamed        1\n",
       "dtype: int64"
      ]
     },
     "execution_count": 41,
     "metadata": {},
     "output_type": "execute_result"
    }
   ],
   "source": [
    "tropical_la.value_counts()"
   ]
  },
  {
   "cell_type": "code",
   "execution_count": 40,
   "id": "26862228",
   "metadata": {},
   "outputs": [
    {
     "data": {
      "text/plain": [
       "21"
      ]
     },
     "execution_count": 40,
     "metadata": {},
     "output_type": "execute_result"
    }
   ],
   "source": [
    "tropical_la.value_counts().sum()"
   ]
  },
  {
   "cell_type": "code",
   "execution_count": null,
   "id": "3ffd7172",
   "metadata": {},
   "outputs": [],
   "source": []
  },
  {
   "cell_type": "code",
   "execution_count": null,
   "id": "38332402",
   "metadata": {},
   "outputs": [],
   "source": []
  },
  {
   "cell_type": "code",
   "execution_count": null,
   "id": "cda25866",
   "metadata": {},
   "outputs": [],
   "source": []
  }
 ],
 "metadata": {
  "kernelspec": {
   "display_name": "Python 3 (ipykernel)",
   "language": "python",
   "name": "python3"
  },
  "language_info": {
   "codemirror_mode": {
    "name": "ipython",
    "version": 3
   },
   "file_extension": ".py",
   "mimetype": "text/x-python",
   "name": "python",
   "nbconvert_exporter": "python",
   "pygments_lexer": "ipython3",
   "version": "3.9.12"
  }
 },
 "nbformat": 4,
 "nbformat_minor": 5
}
