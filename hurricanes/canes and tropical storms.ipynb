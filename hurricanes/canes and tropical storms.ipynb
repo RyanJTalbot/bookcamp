{
 "cells": [
  {
   "cell_type": "code",
   "execution_count": 1,
   "metadata": {},
   "outputs": [],
   "source": [
    "import pandas as pd\n",
    "import numpy as np"
   ]
  },
  {
   "cell_type": "markdown",
   "metadata": {},
   "source": [
    "## Hurricanes"
   ]
  },
  {
   "cell_type": "code",
   "execution_count": 2,
   "metadata": {},
   "outputs": [],
   "source": [
    "canes = pd.read_csv('./hurricanes.csv')"
   ]
  },
  {
   "cell_type": "code",
   "execution_count": 3,
   "metadata": {},
   "outputs": [],
   "source": [
    "ts = pd.read_csv('tropical_storms.csv')"
   ]
  },
  {
   "cell_type": "code",
   "execution_count": 4,
   "metadata": {},
   "outputs": [
    {
     "data": {
      "text/html": [
       "<div>\n",
       "<style scoped>\n",
       "    .dataframe tbody tr th:only-of-type {\n",
       "        vertical-align: middle;\n",
       "    }\n",
       "\n",
       "    .dataframe tbody tr th {\n",
       "        vertical-align: top;\n",
       "    }\n",
       "\n",
       "    .dataframe thead th {\n",
       "        text-align: right;\n",
       "    }\n",
       "</style>\n",
       "<table border=\"1\" class=\"dataframe\">\n",
       "  <thead>\n",
       "    <tr style=\"text-align: right;\">\n",
       "      <th></th>\n",
       "      <th>year</th>\n",
       "      <th>month</th>\n",
       "      <th>affected_states</th>\n",
       "      <th>state_1</th>\n",
       "      <th>state_2</th>\n",
       "      <th>state_3</th>\n",
       "      <th>state_4</th>\n",
       "      <th>state_5</th>\n",
       "      <th>state_6</th>\n",
       "      <th>state_7</th>\n",
       "      <th>category</th>\n",
       "      <th>mb_pressure</th>\n",
       "      <th>wind_kt</th>\n",
       "      <th>name</th>\n",
       "    </tr>\n",
       "  </thead>\n",
       "  <tbody>\n",
       "    <tr>\n",
       "      <th>0</th>\n",
       "      <td>1851.0</td>\n",
       "      <td>Jun</td>\n",
       "      <td>TX, C1</td>\n",
       "      <td>TX</td>\n",
       "      <td>NaN</td>\n",
       "      <td>NaN</td>\n",
       "      <td>NaN</td>\n",
       "      <td>NaN</td>\n",
       "      <td>NaN</td>\n",
       "      <td>NaN</td>\n",
       "      <td>1.0</td>\n",
       "      <td>974.0</td>\n",
       "      <td>80</td>\n",
       "      <td>-----</td>\n",
       "    </tr>\n",
       "    <tr>\n",
       "      <th>1</th>\n",
       "      <td>1851.0</td>\n",
       "      <td>Aug</td>\n",
       "      <td>FL, NW3; I-GA, 1</td>\n",
       "      <td>FL</td>\n",
       "      <td>GA</td>\n",
       "      <td>NaN</td>\n",
       "      <td>NaN</td>\n",
       "      <td>NaN</td>\n",
       "      <td>NaN</td>\n",
       "      <td>NaN</td>\n",
       "      <td>3.0</td>\n",
       "      <td>955.0</td>\n",
       "      <td>100</td>\n",
       "      <td>\"Great Middle Florida\"</td>\n",
       "    </tr>\n",
       "    <tr>\n",
       "      <th>2</th>\n",
       "      <td>1852.0</td>\n",
       "      <td>Aug</td>\n",
       "      <td>AL, 3; MS, 3; LA, 2; FL, SW2, NW1</td>\n",
       "      <td>AL</td>\n",
       "      <td>MS</td>\n",
       "      <td>LA</td>\n",
       "      <td>FL</td>\n",
       "      <td>NaN</td>\n",
       "      <td>NaN</td>\n",
       "      <td>NaN</td>\n",
       "      <td>3.0</td>\n",
       "      <td>961.0</td>\n",
       "      <td>100</td>\n",
       "      <td>\"Great Mobile\"</td>\n",
       "    </tr>\n",
       "    <tr>\n",
       "      <th>3</th>\n",
       "      <td>1852.0</td>\n",
       "      <td>Sep</td>\n",
       "      <td>FL, SW1</td>\n",
       "      <td>FL</td>\n",
       "      <td>NaN</td>\n",
       "      <td>NaN</td>\n",
       "      <td>NaN</td>\n",
       "      <td>NaN</td>\n",
       "      <td>NaN</td>\n",
       "      <td>NaN</td>\n",
       "      <td>1.0</td>\n",
       "      <td>982.0</td>\n",
       "      <td>70</td>\n",
       "      <td>-----</td>\n",
       "    </tr>\n",
       "    <tr>\n",
       "      <th>4</th>\n",
       "      <td>1852.0</td>\n",
       "      <td>Oct</td>\n",
       "      <td>FL, NW2; I-GA, 1</td>\n",
       "      <td>FL</td>\n",
       "      <td>GA</td>\n",
       "      <td>NaN</td>\n",
       "      <td>NaN</td>\n",
       "      <td>NaN</td>\n",
       "      <td>NaN</td>\n",
       "      <td>NaN</td>\n",
       "      <td>2.0</td>\n",
       "      <td>965.0</td>\n",
       "      <td>90</td>\n",
       "      <td>\"Middle Florida\"</td>\n",
       "    </tr>\n",
       "  </tbody>\n",
       "</table>\n",
       "</div>"
      ],
      "text/plain": [
       "     year month                    affected_states state_1 state_2 state_3  \\\n",
       "0  1851.0   Jun                             TX, C1      TX     NaN     NaN   \n",
       "1  1851.0   Aug                   FL, NW3; I-GA, 1      FL      GA     NaN   \n",
       "2  1852.0   Aug  AL, 3; MS, 3; LA, 2; FL, SW2, NW1      AL      MS      LA   \n",
       "3  1852.0   Sep                            FL, SW1      FL     NaN     NaN   \n",
       "4  1852.0   Oct                   FL, NW2; I-GA, 1      FL      GA     NaN   \n",
       "\n",
       "  state_4 state_5 state_6 state_7  category  mb_pressure wind_kt  \\\n",
       "0     NaN     NaN     NaN     NaN       1.0        974.0      80   \n",
       "1     NaN     NaN     NaN     NaN       3.0        955.0     100   \n",
       "2      FL     NaN     NaN     NaN       3.0        961.0     100   \n",
       "3     NaN     NaN     NaN     NaN       1.0        982.0      70   \n",
       "4     NaN     NaN     NaN     NaN       2.0        965.0      90   \n",
       "\n",
       "                     name  \n",
       "0                   -----  \n",
       "1  \"Great Middle Florida\"  \n",
       "2          \"Great Mobile\"  \n",
       "3                   -----  \n",
       "4        \"Middle Florida\"  "
      ]
     },
     "execution_count": 4,
     "metadata": {},
     "output_type": "execute_result"
    }
   ],
   "source": [
    "canes.head()"
   ]
  },
  {
   "cell_type": "code",
   "execution_count": 5,
   "metadata": {},
   "outputs": [
    {
     "data": {
      "text/html": [
       "<div>\n",
       "<style scoped>\n",
       "    .dataframe tbody tr th:only-of-type {\n",
       "        vertical-align: middle;\n",
       "    }\n",
       "\n",
       "    .dataframe tbody tr th {\n",
       "        vertical-align: top;\n",
       "    }\n",
       "\n",
       "    .dataframe thead th {\n",
       "        text-align: right;\n",
       "    }\n",
       "</style>\n",
       "<table border=\"1\" class=\"dataframe\">\n",
       "  <thead>\n",
       "    <tr style=\"text-align: right;\">\n",
       "      <th></th>\n",
       "      <th>storm_number</th>\n",
       "      <th>date</th>\n",
       "      <th>time</th>\n",
       "      <th>lat_n</th>\n",
       "      <th>lon_w</th>\n",
       "      <th>max_winds(kt)</th>\n",
       "      <th>landfall_state</th>\n",
       "      <th>storm_names</th>\n",
       "    </tr>\n",
       "  </thead>\n",
       "  <tbody>\n",
       "    <tr>\n",
       "      <th>0</th>\n",
       "      <td>6</td>\n",
       "      <td>10/19/1851</td>\n",
       "      <td>1500</td>\n",
       "      <td>41.1</td>\n",
       "      <td>71.7</td>\n",
       "      <td>50</td>\n",
       "      <td>NY</td>\n",
       "      <td>NaN</td>\n",
       "    </tr>\n",
       "    <tr>\n",
       "      <th>1</th>\n",
       "      <td>3</td>\n",
       "      <td>8/19/1856</td>\n",
       "      <td>1100</td>\n",
       "      <td>34.8</td>\n",
       "      <td>76.4</td>\n",
       "      <td>50</td>\n",
       "      <td>NC</td>\n",
       "      <td>NaN</td>\n",
       "    </tr>\n",
       "    <tr>\n",
       "      <th>2</th>\n",
       "      <td>4</td>\n",
       "      <td>9/30/1857</td>\n",
       "      <td>1000</td>\n",
       "      <td>25.8</td>\n",
       "      <td>97.0</td>\n",
       "      <td>50</td>\n",
       "      <td>TX</td>\n",
       "      <td>NaN</td>\n",
       "    </tr>\n",
       "    <tr>\n",
       "      <th>3</th>\n",
       "      <td>3</td>\n",
       "      <td>9/14/1858</td>\n",
       "      <td>1500</td>\n",
       "      <td>27.6</td>\n",
       "      <td>82.7</td>\n",
       "      <td>60</td>\n",
       "      <td>FL</td>\n",
       "      <td>NaN</td>\n",
       "    </tr>\n",
       "    <tr>\n",
       "      <th>4</th>\n",
       "      <td>3</td>\n",
       "      <td>9/16/1858</td>\n",
       "      <td>300</td>\n",
       "      <td>35.2</td>\n",
       "      <td>75.2</td>\n",
       "      <td>50</td>\n",
       "      <td>NC</td>\n",
       "      <td>NaN</td>\n",
       "    </tr>\n",
       "  </tbody>\n",
       "</table>\n",
       "</div>"
      ],
      "text/plain": [
       "   storm_number        date  time  lat_n  lon_w  max_winds(kt) landfall_state  \\\n",
       "0             6  10/19/1851  1500   41.1   71.7             50             NY   \n",
       "1             3   8/19/1856  1100   34.8   76.4             50             NC   \n",
       "2             4   9/30/1857  1000   25.8   97.0             50             TX   \n",
       "3             3   9/14/1858  1500   27.6   82.7             60             FL   \n",
       "4             3   9/16/1858   300   35.2   75.2             50             NC   \n",
       "\n",
       "  storm_names  \n",
       "0         NaN  \n",
       "1         NaN  \n",
       "2         NaN  \n",
       "3         NaN  \n",
       "4         NaN  "
      ]
     },
     "execution_count": 5,
     "metadata": {},
     "output_type": "execute_result"
    }
   ],
   "source": [
    "ts.head()"
   ]
  },
  {
   "cell_type": "code",
   "execution_count": 6,
   "metadata": {},
   "outputs": [],
   "source": [
    "la = ts[ts['landfall_state'] == 'LA']"
   ]
  },
  {
   "cell_type": "code",
   "execution_count": 7,
   "metadata": {},
   "outputs": [
    {
     "data": {
      "text/html": [
       "<div>\n",
       "<style scoped>\n",
       "    .dataframe tbody tr th:only-of-type {\n",
       "        vertical-align: middle;\n",
       "    }\n",
       "\n",
       "    .dataframe tbody tr th {\n",
       "        vertical-align: top;\n",
       "    }\n",
       "\n",
       "    .dataframe thead th {\n",
       "        text-align: right;\n",
       "    }\n",
       "</style>\n",
       "<table border=\"1\" class=\"dataframe\">\n",
       "  <thead>\n",
       "    <tr style=\"text-align: right;\">\n",
       "      <th></th>\n",
       "      <th>storm_number</th>\n",
       "      <th>date</th>\n",
       "      <th>time</th>\n",
       "      <th>lat_n</th>\n",
       "      <th>lon_w</th>\n",
       "      <th>max_winds(kt)</th>\n",
       "      <th>landfall_state</th>\n",
       "      <th>storm_names</th>\n",
       "    </tr>\n",
       "  </thead>\n",
       "  <tbody>\n",
       "    <tr>\n",
       "      <th>14</th>\n",
       "      <td>5</td>\n",
       "      <td>7/1865</td>\n",
       "      <td>0</td>\n",
       "      <td>29.7</td>\n",
       "      <td>92.0</td>\n",
       "      <td>60</td>\n",
       "      <td>LA</td>\n",
       "      <td>NaN</td>\n",
       "    </tr>\n",
       "    <tr>\n",
       "      <th>23</th>\n",
       "      <td>1</td>\n",
       "      <td>7/11/1872</td>\n",
       "      <td>500</td>\n",
       "      <td>29.1</td>\n",
       "      <td>89.1</td>\n",
       "      <td>50</td>\n",
       "      <td>LA</td>\n",
       "      <td>NaN</td>\n",
       "    </tr>\n",
       "    <tr>\n",
       "      <th>39</th>\n",
       "      <td>5</td>\n",
       "      <td>7/1879</td>\n",
       "      <td>500</td>\n",
       "      <td>29.0</td>\n",
       "      <td>89.2</td>\n",
       "      <td>50</td>\n",
       "      <td>LA</td>\n",
       "      <td>NaN</td>\n",
       "    </tr>\n",
       "    <tr>\n",
       "      <th>48</th>\n",
       "      <td>3</td>\n",
       "      <td>9/15/1882</td>\n",
       "      <td>500</td>\n",
       "      <td>29.8</td>\n",
       "      <td>93.7</td>\n",
       "      <td>50</td>\n",
       "      <td>LA</td>\n",
       "      <td>NaN</td>\n",
       "    </tr>\n",
       "    <tr>\n",
       "      <th>53</th>\n",
       "      <td>4</td>\n",
       "      <td>9/21/1885</td>\n",
       "      <td>300</td>\n",
       "      <td>29.0</td>\n",
       "      <td>89.4</td>\n",
       "      <td>50</td>\n",
       "      <td>LA</td>\n",
       "      <td>NaN</td>\n",
       "    </tr>\n",
       "  </tbody>\n",
       "</table>\n",
       "</div>"
      ],
      "text/plain": [
       "    storm_number       date time  lat_n  lon_w  max_winds(kt) landfall_state  \\\n",
       "14             5     7/1865    0   29.7   92.0             60             LA   \n",
       "23             1  7/11/1872  500   29.1   89.1             50             LA   \n",
       "39             5     7/1879  500   29.0   89.2             50             LA   \n",
       "48             3  9/15/1882  500   29.8   93.7             50             LA   \n",
       "53             4  9/21/1885  300   29.0   89.4             50             LA   \n",
       "\n",
       "   storm_names  \n",
       "14         NaN  \n",
       "23         NaN  \n",
       "39         NaN  \n",
       "48         NaN  \n",
       "53         NaN  "
      ]
     },
     "execution_count": 7,
     "metadata": {},
     "output_type": "execute_result"
    }
   ],
   "source": [
    "la.head()\n"
   ]
  },
  {
   "cell_type": "code",
   "execution_count": 8,
   "metadata": {},
   "outputs": [],
   "source": [
    "canes = canes.drop(columns=[\"affected_states\", 'name'])"
   ]
  },
  {
   "cell_type": "code",
   "execution_count": 9,
   "metadata": {},
   "outputs": [
    {
     "data": {
      "text/html": [
       "<div>\n",
       "<style scoped>\n",
       "    .dataframe tbody tr th:only-of-type {\n",
       "        vertical-align: middle;\n",
       "    }\n",
       "\n",
       "    .dataframe tbody tr th {\n",
       "        vertical-align: top;\n",
       "    }\n",
       "\n",
       "    .dataframe thead th {\n",
       "        text-align: right;\n",
       "    }\n",
       "</style>\n",
       "<table border=\"1\" class=\"dataframe\">\n",
       "  <thead>\n",
       "    <tr style=\"text-align: right;\">\n",
       "      <th></th>\n",
       "      <th>year</th>\n",
       "      <th>month</th>\n",
       "      <th>state_1</th>\n",
       "      <th>state_2</th>\n",
       "      <th>state_3</th>\n",
       "      <th>state_4</th>\n",
       "      <th>state_5</th>\n",
       "      <th>state_6</th>\n",
       "      <th>state_7</th>\n",
       "      <th>category</th>\n",
       "      <th>mb_pressure</th>\n",
       "      <th>wind_kt</th>\n",
       "    </tr>\n",
       "  </thead>\n",
       "  <tbody>\n",
       "    <tr>\n",
       "      <th>0</th>\n",
       "      <td>1851.0</td>\n",
       "      <td>Jun</td>\n",
       "      <td>TX</td>\n",
       "      <td>NaN</td>\n",
       "      <td>NaN</td>\n",
       "      <td>NaN</td>\n",
       "      <td>NaN</td>\n",
       "      <td>NaN</td>\n",
       "      <td>NaN</td>\n",
       "      <td>1.0</td>\n",
       "      <td>974.0</td>\n",
       "      <td>80</td>\n",
       "    </tr>\n",
       "    <tr>\n",
       "      <th>1</th>\n",
       "      <td>1851.0</td>\n",
       "      <td>Aug</td>\n",
       "      <td>FL</td>\n",
       "      <td>GA</td>\n",
       "      <td>NaN</td>\n",
       "      <td>NaN</td>\n",
       "      <td>NaN</td>\n",
       "      <td>NaN</td>\n",
       "      <td>NaN</td>\n",
       "      <td>3.0</td>\n",
       "      <td>955.0</td>\n",
       "      <td>100</td>\n",
       "    </tr>\n",
       "    <tr>\n",
       "      <th>2</th>\n",
       "      <td>1852.0</td>\n",
       "      <td>Aug</td>\n",
       "      <td>AL</td>\n",
       "      <td>MS</td>\n",
       "      <td>LA</td>\n",
       "      <td>FL</td>\n",
       "      <td>NaN</td>\n",
       "      <td>NaN</td>\n",
       "      <td>NaN</td>\n",
       "      <td>3.0</td>\n",
       "      <td>961.0</td>\n",
       "      <td>100</td>\n",
       "    </tr>\n",
       "    <tr>\n",
       "      <th>3</th>\n",
       "      <td>1852.0</td>\n",
       "      <td>Sep</td>\n",
       "      <td>FL</td>\n",
       "      <td>NaN</td>\n",
       "      <td>NaN</td>\n",
       "      <td>NaN</td>\n",
       "      <td>NaN</td>\n",
       "      <td>NaN</td>\n",
       "      <td>NaN</td>\n",
       "      <td>1.0</td>\n",
       "      <td>982.0</td>\n",
       "      <td>70</td>\n",
       "    </tr>\n",
       "    <tr>\n",
       "      <th>4</th>\n",
       "      <td>1852.0</td>\n",
       "      <td>Oct</td>\n",
       "      <td>FL</td>\n",
       "      <td>GA</td>\n",
       "      <td>NaN</td>\n",
       "      <td>NaN</td>\n",
       "      <td>NaN</td>\n",
       "      <td>NaN</td>\n",
       "      <td>NaN</td>\n",
       "      <td>2.0</td>\n",
       "      <td>965.0</td>\n",
       "      <td>90</td>\n",
       "    </tr>\n",
       "  </tbody>\n",
       "</table>\n",
       "</div>"
      ],
      "text/plain": [
       "     year month state_1 state_2 state_3 state_4 state_5 state_6 state_7  \\\n",
       "0  1851.0   Jun      TX     NaN     NaN     NaN     NaN     NaN     NaN   \n",
       "1  1851.0   Aug      FL      GA     NaN     NaN     NaN     NaN     NaN   \n",
       "2  1852.0   Aug      AL      MS      LA      FL     NaN     NaN     NaN   \n",
       "3  1852.0   Sep      FL     NaN     NaN     NaN     NaN     NaN     NaN   \n",
       "4  1852.0   Oct      FL      GA     NaN     NaN     NaN     NaN     NaN   \n",
       "\n",
       "   category  mb_pressure wind_kt  \n",
       "0       1.0        974.0      80  \n",
       "1       3.0        955.0     100  \n",
       "2       3.0        961.0     100  \n",
       "3       1.0        982.0      70  \n",
       "4       2.0        965.0      90  "
      ]
     },
     "execution_count": 9,
     "metadata": {},
     "output_type": "execute_result"
    }
   ],
   "source": [
    "canes.head()"
   ]
  },
  {
   "cell_type": "code",
   "execution_count": 10,
   "metadata": {},
   "outputs": [
    {
     "data": {
      "text/plain": [
       "MA    1\n",
       "Name: state_7, dtype: int64"
      ]
     },
     "execution_count": 10,
     "metadata": {},
     "output_type": "execute_result"
    }
   ],
   "source": [
    "canes['state_7'].value_counts()"
   ]
  },
  {
   "cell_type": "code",
   "execution_count": 11,
   "metadata": {},
   "outputs": [],
   "source": [
    "la1 = canes[canes[\"state_1\"] == 'LA']"
   ]
  },
  {
   "cell_type": "code",
   "execution_count": 12,
   "metadata": {},
   "outputs": [],
   "source": [
    "la2 = canes[canes[\"state_2\"] == 'LA']"
   ]
  },
  {
   "cell_type": "code",
   "execution_count": 13,
   "metadata": {},
   "outputs": [],
   "source": [
    "la3 = canes[canes[\"state_3\"] == 'LA']"
   ]
  },
  {
   "cell_type": "code",
   "execution_count": 14,
   "metadata": {},
   "outputs": [],
   "source": [
    "la4 = canes[canes[\"state_4\"] == 'LA']"
   ]
  },
  {
   "cell_type": "code",
   "execution_count": 15,
   "metadata": {},
   "outputs": [],
   "source": [
    "la1 = la1.drop(columns=['state_2', 'state_3', 'state_4', 'state_5', 'state_6', 'state_7'])\n"
   ]
  },
  {
   "cell_type": "code",
   "execution_count": 16,
   "metadata": {},
   "outputs": [],
   "source": [
    "la2 = la2.drop(columns=['state_1', 'state_3', 'state_4', 'state_5', 'state_6', 'state_7'])\n"
   ]
  },
  {
   "cell_type": "code",
   "execution_count": 17,
   "metadata": {},
   "outputs": [],
   "source": [
    "la3= la3.drop(columns=['state_1', 'state_2', 'state_4', 'state_5', 'state_6', 'state_7'])\n"
   ]
  },
  {
   "cell_type": "code",
   "execution_count": 18,
   "metadata": {},
   "outputs": [],
   "source": [
    "la4= la4.drop(columns=['state_1', 'state_2', 'state_3', 'state_5', 'state_6', 'state_7'])\n"
   ]
  },
  {
   "cell_type": "code",
   "execution_count": 19,
   "metadata": {},
   "outputs": [],
   "source": [
    "la1 = la1.rename(columns={\"state_1\": \"state\"})"
   ]
  },
  {
   "cell_type": "code",
   "execution_count": 20,
   "metadata": {},
   "outputs": [],
   "source": [
    "la2 = la2.rename(columns={\"state_2\": \"state\"})"
   ]
  },
  {
   "cell_type": "code",
   "execution_count": 21,
   "metadata": {},
   "outputs": [],
   "source": [
    "la3 = la3.rename(columns={\"state_3\": \"state\"})"
   ]
  },
  {
   "cell_type": "code",
   "execution_count": 22,
   "metadata": {},
   "outputs": [],
   "source": [
    "la4 = la4.rename(columns={\"state_4\": \"state\"})"
   ]
  },
  {
   "cell_type": "code",
   "execution_count": 23,
   "metadata": {},
   "outputs": [],
   "source": [
    "frames = [la1, la2, la3, la4]\n",
    "\n",
    "louisiana = pd.concat(frames)"
   ]
  },
  {
   "cell_type": "code",
   "execution_count": 24,
   "metadata": {},
   "outputs": [
    {
     "data": {
      "text/html": [
       "<div>\n",
       "<style scoped>\n",
       "    .dataframe tbody tr th:only-of-type {\n",
       "        vertical-align: middle;\n",
       "    }\n",
       "\n",
       "    .dataframe tbody tr th {\n",
       "        vertical-align: top;\n",
       "    }\n",
       "\n",
       "    .dataframe thead th {\n",
       "        text-align: right;\n",
       "    }\n",
       "</style>\n",
       "<table border=\"1\" class=\"dataframe\">\n",
       "  <thead>\n",
       "    <tr style=\"text-align: right;\">\n",
       "      <th></th>\n",
       "      <th>year</th>\n",
       "      <th>month</th>\n",
       "      <th>state</th>\n",
       "      <th>category</th>\n",
       "      <th>mb_pressure</th>\n",
       "      <th>wind_kt</th>\n",
       "    </tr>\n",
       "  </thead>\n",
       "  <tbody>\n",
       "    <tr>\n",
       "      <th>9</th>\n",
       "      <td>1855.0</td>\n",
       "      <td>Sep</td>\n",
       "      <td>LA</td>\n",
       "      <td>3.0</td>\n",
       "      <td>945.0</td>\n",
       "      <td>110</td>\n",
       "    </tr>\n",
       "    <tr>\n",
       "      <th>10</th>\n",
       "      <td>1856.0</td>\n",
       "      <td>Aug</td>\n",
       "      <td>LA</td>\n",
       "      <td>4.0</td>\n",
       "      <td>934.0</td>\n",
       "      <td>130</td>\n",
       "    </tr>\n",
       "    <tr>\n",
       "      <th>16</th>\n",
       "      <td>1860.0</td>\n",
       "      <td>Aug</td>\n",
       "      <td>LA</td>\n",
       "      <td>3.0</td>\n",
       "      <td>945.0</td>\n",
       "      <td>110</td>\n",
       "    </tr>\n",
       "    <tr>\n",
       "      <th>17</th>\n",
       "      <td>1860.0</td>\n",
       "      <td>Sep</td>\n",
       "      <td>LA</td>\n",
       "      <td>2.0</td>\n",
       "      <td>965.0</td>\n",
       "      <td>90</td>\n",
       "    </tr>\n",
       "    <tr>\n",
       "      <th>18</th>\n",
       "      <td>1860.0</td>\n",
       "      <td>Oct</td>\n",
       "      <td>LA</td>\n",
       "      <td>2.0</td>\n",
       "      <td>965.0</td>\n",
       "      <td>90</td>\n",
       "    </tr>\n",
       "    <tr>\n",
       "      <th>...</th>\n",
       "      <td>...</td>\n",
       "      <td>...</td>\n",
       "      <td>...</td>\n",
       "      <td>...</td>\n",
       "      <td>...</td>\n",
       "      <td>...</td>\n",
       "    </tr>\n",
       "    <tr>\n",
       "      <th>278</th>\n",
       "      <td>2005.0</td>\n",
       "      <td>Sep</td>\n",
       "      <td>LA</td>\n",
       "      <td>3.0</td>\n",
       "      <td>937.0</td>\n",
       "      <td>100</td>\n",
       "    </tr>\n",
       "    <tr>\n",
       "      <th>280</th>\n",
       "      <td>2007.0</td>\n",
       "      <td>Sep</td>\n",
       "      <td>LA</td>\n",
       "      <td>1.0</td>\n",
       "      <td>985.0</td>\n",
       "      <td>80</td>\n",
       "    </tr>\n",
       "    <tr>\n",
       "      <th>283</th>\n",
       "      <td>2008.0</td>\n",
       "      <td>Sep</td>\n",
       "      <td>LA</td>\n",
       "      <td>2.0</td>\n",
       "      <td>950.0</td>\n",
       "      <td>95</td>\n",
       "    </tr>\n",
       "    <tr>\n",
       "      <th>2</th>\n",
       "      <td>1852.0</td>\n",
       "      <td>Aug</td>\n",
       "      <td>LA</td>\n",
       "      <td>3.0</td>\n",
       "      <td>961.0</td>\n",
       "      <td>100</td>\n",
       "    </tr>\n",
       "    <tr>\n",
       "      <th>106</th>\n",
       "      <td>1906.0</td>\n",
       "      <td>Sep</td>\n",
       "      <td>LA</td>\n",
       "      <td>2.0</td>\n",
       "      <td>958.0</td>\n",
       "      <td>95</td>\n",
       "    </tr>\n",
       "  </tbody>\n",
       "</table>\n",
       "<p>63 rows × 6 columns</p>\n",
       "</div>"
      ],
      "text/plain": [
       "       year month state  category  mb_pressure wind_kt\n",
       "9    1855.0   Sep    LA       3.0        945.0     110\n",
       "10   1856.0   Aug    LA       4.0        934.0     130\n",
       "16   1860.0   Aug    LA       3.0        945.0     110\n",
       "17   1860.0   Sep    LA       2.0        965.0      90\n",
       "18   1860.0   Oct    LA       2.0        965.0      90\n",
       "..      ...   ...   ...       ...          ...     ...\n",
       "278  2005.0   Sep    LA       3.0        937.0     100\n",
       "280  2007.0   Sep    LA       1.0        985.0      80\n",
       "283  2008.0   Sep    LA       2.0        950.0      95\n",
       "2    1852.0   Aug    LA       3.0        961.0     100\n",
       "106  1906.0   Sep    LA       2.0        958.0      95\n",
       "\n",
       "[63 rows x 6 columns]"
      ]
     },
     "execution_count": 24,
     "metadata": {},
     "output_type": "execute_result"
    }
   ],
   "source": [
    "louisiana"
   ]
  },
  {
   "cell_type": "code",
   "execution_count": 25,
   "metadata": {},
   "outputs": [
    {
     "data": {
      "text/plain": [
       "Sep    27\n",
       "Aug    17\n",
       "Oct    12\n",
       "Jul     4\n",
       "Jun     3\n",
       "Name: month, dtype: int64"
      ]
     },
     "execution_count": 25,
     "metadata": {},
     "output_type": "execute_result"
    }
   ],
   "source": [
    "louisiana[\"month\"].value_counts()"
   ]
  },
  {
   "cell_type": "code",
   "execution_count": null,
   "metadata": {},
   "outputs": [],
   "source": []
  },
  {
   "cell_type": "code",
   "execution_count": 26,
   "metadata": {},
   "outputs": [
    {
     "data": {
      "text/plain": [
       "(63, 6)"
      ]
     },
     "execution_count": 26,
     "metadata": {},
     "output_type": "execute_result"
    }
   ],
   "source": [
    "louisiana.shape"
   ]
  },
  {
   "cell_type": "code",
   "execution_count": 27,
   "metadata": {},
   "outputs": [
    {
     "data": {
      "text/plain": [
       "0.42857142857142855"
      ]
     },
     "execution_count": 27,
     "metadata": {},
     "output_type": "execute_result"
    }
   ],
   "source": [
    "27/63"
   ]
  },
  {
   "cell_type": "markdown",
   "metadata": {},
   "source": [
    "percent of louisiana hurricanes in Septermber 42.88%"
   ]
  },
  {
   "cell_type": "code",
   "execution_count": 28,
   "metadata": {},
   "outputs": [
    {
     "data": {
      "text/plain": [
       "0.2698412698412698"
      ]
     },
     "execution_count": 28,
     "metadata": {},
     "output_type": "execute_result"
    }
   ],
   "source": [
    "17/63"
   ]
  },
  {
   "cell_type": "markdown",
   "metadata": {},
   "source": [
    "percent of "
   ]
  },
  {
   "cell_type": "code",
   "execution_count": 29,
   "metadata": {},
   "outputs": [
    {
     "data": {
      "text/plain": [
       "0.19047619047619047"
      ]
     },
     "execution_count": 29,
     "metadata": {},
     "output_type": "execute_result"
    }
   ],
   "source": [
    "12/63"
   ]
  },
  {
   "cell_type": "markdown",
   "metadata": {},
   "source": [
    "## Tropical Storms"
   ]
  },
  {
   "cell_type": "code",
   "execution_count": 30,
   "metadata": {},
   "outputs": [],
   "source": [
    "tropics = pd.read_csv('./Continental United States Tropical Storms Impacts:Landfalls 1851-1970, 1983-2021.csv')"
   ]
  },
  {
   "cell_type": "code",
   "execution_count": 31,
   "metadata": {},
   "outputs": [
    {
     "data": {
      "text/html": [
       "<div>\n",
       "<style scoped>\n",
       "    .dataframe tbody tr th:only-of-type {\n",
       "        vertical-align: middle;\n",
       "    }\n",
       "\n",
       "    .dataframe tbody tr th {\n",
       "        vertical-align: top;\n",
       "    }\n",
       "\n",
       "    .dataframe thead th {\n",
       "        text-align: right;\n",
       "    }\n",
       "</style>\n",
       "<table border=\"1\" class=\"dataframe\">\n",
       "  <thead>\n",
       "    <tr style=\"text-align: right;\">\n",
       "      <th></th>\n",
       "      <th>storm #</th>\n",
       "      <th>date</th>\n",
       "      <th>time</th>\n",
       "      <th>lat_n</th>\n",
       "      <th>lon_w</th>\n",
       "      <th>max_winds(kt)</th>\n",
       "      <th>landfall_state</th>\n",
       "      <th>storm_names</th>\n",
       "    </tr>\n",
       "  </thead>\n",
       "  <tbody>\n",
       "    <tr>\n",
       "      <th>0</th>\n",
       "      <td>6</td>\n",
       "      <td>10/19/1851</td>\n",
       "      <td>1500Z</td>\n",
       "      <td>41.1</td>\n",
       "      <td>71.7</td>\n",
       "      <td>50</td>\n",
       "      <td>NY</td>\n",
       "      <td>NaN</td>\n",
       "    </tr>\n",
       "    <tr>\n",
       "      <th>1</th>\n",
       "      <td>3</td>\n",
       "      <td>8/19/1856</td>\n",
       "      <td>1100Z</td>\n",
       "      <td>34.8</td>\n",
       "      <td>76.4</td>\n",
       "      <td>50</td>\n",
       "      <td>NC</td>\n",
       "      <td>NaN</td>\n",
       "    </tr>\n",
       "    <tr>\n",
       "      <th>2</th>\n",
       "      <td>4</td>\n",
       "      <td>9/30/1857$</td>\n",
       "      <td>1000Z</td>\n",
       "      <td>25.8</td>\n",
       "      <td>97.0</td>\n",
       "      <td>50</td>\n",
       "      <td>TX</td>\n",
       "      <td>NaN</td>\n",
       "    </tr>\n",
       "    <tr>\n",
       "      <th>3</th>\n",
       "      <td>3</td>\n",
       "      <td>9/14/1858$</td>\n",
       "      <td>1500Z</td>\n",
       "      <td>27.6</td>\n",
       "      <td>82.7</td>\n",
       "      <td>60</td>\n",
       "      <td>FL</td>\n",
       "      <td>NaN</td>\n",
       "    </tr>\n",
       "    <tr>\n",
       "      <th>4</th>\n",
       "      <td>3</td>\n",
       "      <td>9/16/1858*</td>\n",
       "      <td>0300Z</td>\n",
       "      <td>35.2</td>\n",
       "      <td>75.2</td>\n",
       "      <td>50</td>\n",
       "      <td>NC</td>\n",
       "      <td>NaN</td>\n",
       "    </tr>\n",
       "  </tbody>\n",
       "</table>\n",
       "</div>"
      ],
      "text/plain": [
       "   storm #        date   time  lat_n  lon_w  max_winds(kt) landfall_state  \\\n",
       "0        6  10/19/1851  1500Z   41.1   71.7             50             NY   \n",
       "1        3   8/19/1856  1100Z   34.8   76.4             50             NC   \n",
       "2        4  9/30/1857$  1000Z   25.8   97.0             50             TX   \n",
       "3        3  9/14/1858$  1500Z   27.6   82.7             60             FL   \n",
       "4        3  9/16/1858*  0300Z   35.2   75.2             50             NC   \n",
       "\n",
       "  storm_names  \n",
       "0         NaN  \n",
       "1         NaN  \n",
       "2         NaN  \n",
       "3         NaN  \n",
       "4         NaN  "
      ]
     },
     "execution_count": 31,
     "metadata": {},
     "output_type": "execute_result"
    }
   ],
   "source": [
    "tropics.head()"
   ]
  },
  {
   "cell_type": "code",
   "execution_count": 32,
   "metadata": {},
   "outputs": [],
   "source": [
    "tropics = tropics.drop(columns=[\"storm #\", 'lat_n', 'lon_w', 'time'])"
   ]
  },
  {
   "cell_type": "code",
   "execution_count": 33,
   "metadata": {},
   "outputs": [
    {
     "data": {
      "text/html": [
       "<div>\n",
       "<style scoped>\n",
       "    .dataframe tbody tr th:only-of-type {\n",
       "        vertical-align: middle;\n",
       "    }\n",
       "\n",
       "    .dataframe tbody tr th {\n",
       "        vertical-align: top;\n",
       "    }\n",
       "\n",
       "    .dataframe thead th {\n",
       "        text-align: right;\n",
       "    }\n",
       "</style>\n",
       "<table border=\"1\" class=\"dataframe\">\n",
       "  <thead>\n",
       "    <tr style=\"text-align: right;\">\n",
       "      <th></th>\n",
       "      <th>date</th>\n",
       "      <th>max_winds(kt)</th>\n",
       "      <th>landfall_state</th>\n",
       "      <th>storm_names</th>\n",
       "    </tr>\n",
       "  </thead>\n",
       "  <tbody>\n",
       "    <tr>\n",
       "      <th>0</th>\n",
       "      <td>10/19/1851</td>\n",
       "      <td>50</td>\n",
       "      <td>NY</td>\n",
       "      <td>NaN</td>\n",
       "    </tr>\n",
       "    <tr>\n",
       "      <th>1</th>\n",
       "      <td>8/19/1856</td>\n",
       "      <td>50</td>\n",
       "      <td>NC</td>\n",
       "      <td>NaN</td>\n",
       "    </tr>\n",
       "    <tr>\n",
       "      <th>2</th>\n",
       "      <td>9/30/1857$</td>\n",
       "      <td>50</td>\n",
       "      <td>TX</td>\n",
       "      <td>NaN</td>\n",
       "    </tr>\n",
       "    <tr>\n",
       "      <th>3</th>\n",
       "      <td>9/14/1858$</td>\n",
       "      <td>60</td>\n",
       "      <td>FL</td>\n",
       "      <td>NaN</td>\n",
       "    </tr>\n",
       "    <tr>\n",
       "      <th>4</th>\n",
       "      <td>9/16/1858*</td>\n",
       "      <td>50</td>\n",
       "      <td>NC</td>\n",
       "      <td>NaN</td>\n",
       "    </tr>\n",
       "  </tbody>\n",
       "</table>\n",
       "</div>"
      ],
      "text/plain": [
       "         date  max_winds(kt) landfall_state storm_names\n",
       "0  10/19/1851             50             NY         NaN\n",
       "1   8/19/1856             50             NC         NaN\n",
       "2  9/30/1857$             50             TX         NaN\n",
       "3  9/14/1858$             60             FL         NaN\n",
       "4  9/16/1858*             50             NC         NaN"
      ]
     },
     "execution_count": 33,
     "metadata": {},
     "output_type": "execute_result"
    }
   ],
   "source": [
    "tropics.head()"
   ]
  },
  {
   "cell_type": "code",
   "execution_count": 34,
   "metadata": {},
   "outputs": [],
   "source": [
    "la_tropics = tropics[tropics[\"landfall_state\"] == 'LA']"
   ]
  },
  {
   "cell_type": "code",
   "execution_count": 35,
   "metadata": {},
   "outputs": [
    {
     "data": {
      "text/plain": [
       "(49, 4)"
      ]
     },
     "execution_count": 35,
     "metadata": {},
     "output_type": "execute_result"
    }
   ],
   "source": [
    "la_tropics.shape"
   ]
  },
  {
   "cell_type": "code",
   "execution_count": 36,
   "metadata": {},
   "outputs": [],
   "source": [
    "tropical_s = pd.read_csv('tropical_storms.csv')"
   ]
  },
  {
   "cell_type": "code",
   "execution_count": 37,
   "metadata": {},
   "outputs": [
    {
     "data": {
      "text/html": [
       "<div>\n",
       "<style scoped>\n",
       "    .dataframe tbody tr th:only-of-type {\n",
       "        vertical-align: middle;\n",
       "    }\n",
       "\n",
       "    .dataframe tbody tr th {\n",
       "        vertical-align: top;\n",
       "    }\n",
       "\n",
       "    .dataframe thead th {\n",
       "        text-align: right;\n",
       "    }\n",
       "</style>\n",
       "<table border=\"1\" class=\"dataframe\">\n",
       "  <thead>\n",
       "    <tr style=\"text-align: right;\">\n",
       "      <th></th>\n",
       "      <th>storm_number</th>\n",
       "      <th>date</th>\n",
       "      <th>time</th>\n",
       "      <th>lat_n</th>\n",
       "      <th>lon_w</th>\n",
       "      <th>max_winds(kt)</th>\n",
       "      <th>landfall_state</th>\n",
       "      <th>storm_names</th>\n",
       "    </tr>\n",
       "  </thead>\n",
       "  <tbody>\n",
       "    <tr>\n",
       "      <th>0</th>\n",
       "      <td>6</td>\n",
       "      <td>10/19/1851</td>\n",
       "      <td>1500</td>\n",
       "      <td>41.1</td>\n",
       "      <td>71.7</td>\n",
       "      <td>50</td>\n",
       "      <td>NY</td>\n",
       "      <td>NaN</td>\n",
       "    </tr>\n",
       "    <tr>\n",
       "      <th>1</th>\n",
       "      <td>3</td>\n",
       "      <td>8/19/1856</td>\n",
       "      <td>1100</td>\n",
       "      <td>34.8</td>\n",
       "      <td>76.4</td>\n",
       "      <td>50</td>\n",
       "      <td>NC</td>\n",
       "      <td>NaN</td>\n",
       "    </tr>\n",
       "    <tr>\n",
       "      <th>2</th>\n",
       "      <td>4</td>\n",
       "      <td>9/30/1857</td>\n",
       "      <td>1000</td>\n",
       "      <td>25.8</td>\n",
       "      <td>97.0</td>\n",
       "      <td>50</td>\n",
       "      <td>TX</td>\n",
       "      <td>NaN</td>\n",
       "    </tr>\n",
       "    <tr>\n",
       "      <th>3</th>\n",
       "      <td>3</td>\n",
       "      <td>9/14/1858</td>\n",
       "      <td>1500</td>\n",
       "      <td>27.6</td>\n",
       "      <td>82.7</td>\n",
       "      <td>60</td>\n",
       "      <td>FL</td>\n",
       "      <td>NaN</td>\n",
       "    </tr>\n",
       "    <tr>\n",
       "      <th>4</th>\n",
       "      <td>3</td>\n",
       "      <td>9/16/1858</td>\n",
       "      <td>300</td>\n",
       "      <td>35.2</td>\n",
       "      <td>75.2</td>\n",
       "      <td>50</td>\n",
       "      <td>NC</td>\n",
       "      <td>NaN</td>\n",
       "    </tr>\n",
       "  </tbody>\n",
       "</table>\n",
       "</div>"
      ],
      "text/plain": [
       "   storm_number        date  time  lat_n  lon_w  max_winds(kt) landfall_state  \\\n",
       "0             6  10/19/1851  1500   41.1   71.7             50             NY   \n",
       "1             3   8/19/1856  1100   34.8   76.4             50             NC   \n",
       "2             4   9/30/1857  1000   25.8   97.0             50             TX   \n",
       "3             3   9/14/1858  1500   27.6   82.7             60             FL   \n",
       "4             3   9/16/1858   300   35.2   75.2             50             NC   \n",
       "\n",
       "  storm_names  \n",
       "0         NaN  \n",
       "1         NaN  \n",
       "2         NaN  \n",
       "3         NaN  \n",
       "4         NaN  "
      ]
     },
     "execution_count": 37,
     "metadata": {},
     "output_type": "execute_result"
    }
   ],
   "source": [
    "tropical_s.head()"
   ]
  },
  {
   "cell_type": "code",
   "execution_count": 38,
   "metadata": {},
   "outputs": [
    {
     "data": {
      "text/plain": [
       "storm_number        int64\n",
       "date               object\n",
       "time               object\n",
       "lat_n             float64\n",
       "lon_w             float64\n",
       "max_winds(kt)       int64\n",
       "landfall_state     object\n",
       "storm_names        object\n",
       "dtype: object"
      ]
     },
     "execution_count": 38,
     "metadata": {},
     "output_type": "execute_result"
    }
   ],
   "source": [
    "tropical_s.dtypes"
   ]
  },
  {
   "cell_type": "code",
   "execution_count": 39,
   "metadata": {
    "scrolled": false
   },
   "outputs": [
    {
     "data": {
      "text/html": [
       "<div>\n",
       "<style scoped>\n",
       "    .dataframe tbody tr th:only-of-type {\n",
       "        vertical-align: middle;\n",
       "    }\n",
       "\n",
       "    .dataframe tbody tr th {\n",
       "        vertical-align: top;\n",
       "    }\n",
       "\n",
       "    .dataframe thead th {\n",
       "        text-align: right;\n",
       "    }\n",
       "</style>\n",
       "<table border=\"1\" class=\"dataframe\">\n",
       "  <thead>\n",
       "    <tr style=\"text-align: right;\">\n",
       "      <th></th>\n",
       "      <th>date</th>\n",
       "      <th>time</th>\n",
       "      <th>lat_n</th>\n",
       "      <th>lon_w</th>\n",
       "      <th>max_winds(kt)</th>\n",
       "      <th>landfall_state</th>\n",
       "    </tr>\n",
       "  </thead>\n",
       "  <tbody>\n",
       "    <tr>\n",
       "      <th>0</th>\n",
       "      <td>10/19/1851</td>\n",
       "      <td>1500</td>\n",
       "      <td>41.1</td>\n",
       "      <td>71.7</td>\n",
       "      <td>50</td>\n",
       "      <td>NY</td>\n",
       "    </tr>\n",
       "    <tr>\n",
       "      <th>1</th>\n",
       "      <td>8/19/1856</td>\n",
       "      <td>1100</td>\n",
       "      <td>34.8</td>\n",
       "      <td>76.4</td>\n",
       "      <td>50</td>\n",
       "      <td>NC</td>\n",
       "    </tr>\n",
       "    <tr>\n",
       "      <th>2</th>\n",
       "      <td>9/30/1857</td>\n",
       "      <td>1000</td>\n",
       "      <td>25.8</td>\n",
       "      <td>97.0</td>\n",
       "      <td>50</td>\n",
       "      <td>TX</td>\n",
       "    </tr>\n",
       "    <tr>\n",
       "      <th>3</th>\n",
       "      <td>9/14/1858</td>\n",
       "      <td>1500</td>\n",
       "      <td>27.6</td>\n",
       "      <td>82.7</td>\n",
       "      <td>60</td>\n",
       "      <td>FL</td>\n",
       "    </tr>\n",
       "    <tr>\n",
       "      <th>4</th>\n",
       "      <td>9/16/1858</td>\n",
       "      <td>300</td>\n",
       "      <td>35.2</td>\n",
       "      <td>75.2</td>\n",
       "      <td>50</td>\n",
       "      <td>NC</td>\n",
       "    </tr>\n",
       "    <tr>\n",
       "      <th>...</th>\n",
       "      <td>...</td>\n",
       "      <td>...</td>\n",
       "      <td>...</td>\n",
       "      <td>...</td>\n",
       "      <td>...</td>\n",
       "      <td>...</td>\n",
       "    </tr>\n",
       "    <tr>\n",
       "      <th>387</th>\n",
       "      <td>7/9/21</td>\n",
       "      <td>1630</td>\n",
       "      <td>41.4</td>\n",
       "      <td>71.7</td>\n",
       "      <td>50</td>\n",
       "      <td>RI</td>\n",
       "    </tr>\n",
       "    <tr>\n",
       "      <th>388</th>\n",
       "      <td>8/16/21</td>\n",
       "      <td>1900</td>\n",
       "      <td>29.7</td>\n",
       "      <td>85.4</td>\n",
       "      <td>55</td>\n",
       "      <td>FL</td>\n",
       "    </tr>\n",
       "    <tr>\n",
       "      <th>389</th>\n",
       "      <td>8/22/21</td>\n",
       "      <td>1520</td>\n",
       "      <td>41.2</td>\n",
       "      <td>71.6</td>\n",
       "      <td>55</td>\n",
       "      <td>RI</td>\n",
       "    </tr>\n",
       "    <tr>\n",
       "      <th>390</th>\n",
       "      <td>8/22/21</td>\n",
       "      <td>1615</td>\n",
       "      <td>41.3</td>\n",
       "      <td>71.8</td>\n",
       "      <td>55</td>\n",
       "      <td>RI</td>\n",
       "    </tr>\n",
       "    <tr>\n",
       "      <th>391</th>\n",
       "      <td>9/9/21</td>\n",
       "      <td>115</td>\n",
       "      <td>29.7</td>\n",
       "      <td>85.1</td>\n",
       "      <td>50</td>\n",
       "      <td>FL</td>\n",
       "    </tr>\n",
       "  </tbody>\n",
       "</table>\n",
       "<p>392 rows × 6 columns</p>\n",
       "</div>"
      ],
      "text/plain": [
       "           date  time  lat_n  lon_w  max_winds(kt) landfall_state\n",
       "0    10/19/1851  1500   41.1   71.7             50             NY\n",
       "1     8/19/1856  1100   34.8   76.4             50             NC\n",
       "2     9/30/1857  1000   25.8   97.0             50             TX\n",
       "3     9/14/1858  1500   27.6   82.7             60             FL\n",
       "4     9/16/1858   300   35.2   75.2             50             NC\n",
       "..          ...   ...    ...    ...            ...            ...\n",
       "387      7/9/21  1630   41.4   71.7             50             RI\n",
       "388     8/16/21  1900   29.7   85.4             55             FL\n",
       "389     8/22/21  1520   41.2   71.6             55             RI\n",
       "390     8/22/21  1615   41.3   71.8             55             RI\n",
       "391      9/9/21   115   29.7   85.1             50             FL\n",
       "\n",
       "[392 rows x 6 columns]"
      ]
     },
     "execution_count": 39,
     "metadata": {},
     "output_type": "execute_result"
    }
   ],
   "source": [
    "tropical_s.drop(columns=[\"storm_names\", 'storm_number'])"
   ]
  },
  {
   "cell_type": "code",
   "execution_count": 40,
   "metadata": {},
   "outputs": [],
   "source": [
    "tropical_la = tropical_s[tropical_s[\"landfall_state\"]==\"LA\"]"
   ]
  },
  {
   "cell_type": "markdown",
   "metadata": {},
   "source": [
    "### Number of tropical storms to hit louisiana"
   ]
  },
  {
   "cell_type": "code",
   "execution_count": 41,
   "metadata": {},
   "outputs": [
    {
     "data": {
      "text/plain": [
       "storm_number  date      time  lat_n  lon_w  max_winds(kt)  landfall_state  storm_names\n",
       "1             5/30/59   2200  29.6   91.6   55             LA              Arlene         1\n",
       "5             9/5/58    1800  26.8   94.0   40             LA              Ella           1\n",
       "14            10/10/04  1100  29.2   91.0   35             LA              Matthew        1\n",
       "13            9/4/11    1030  29.6   92.1   40             LA              Lee            1\n",
       "11            11/10/09  0     28.9   88.7   50             LA              Ida            1\n",
       "10            9/26/02   600   29.1   90.3   55             LA              Isidore        1\n",
       "9             9/14/02   800   29.1   89.1   50             LA              Hanna          1\n",
       "              8/30/17   800   29.8   93.5   40             LA              Harvey         1\n",
       "8             9/20/98   500   29.1   90.9   35             LA              Hermine        1\n",
       "6             9/18/57   1200  29.2   90.9   55             LA              Esther         1\n",
       "5             9/29/65   2000  29.1   90.2   35             LA              Debbie         1\n",
       "1             6/13/56   1700  29.1   90.7   50             LA              Unnamed        1\n",
       "5             8/27/55   400   30.0   89.2   45             LA              Unnamed        1\n",
       "              7/29/54   1000  29.7   92.8   50             LA              Barbara        1\n",
       "3             6/7/20    2200  29.3   89.8   45             LA              Cristobal      1\n",
       "              6/30/03   1900  29.3   91.0   50             LA              Bill           1\n",
       "              6/22/17   700   29.8   93.7   45             LA              Cindy          1\n",
       "              6/19/21   430   29.2   91.0   40             LA              Claudette      1\n",
       "2             8/5/02    200   29.4   89.3   35             LA              Bertha         1\n",
       "1             8/1/55    1700  29.7   89.4   55             LA              Brenda         1\n",
       "23            10/1/69   600   27.9   86.6   35             LA              Unnamed        1\n",
       "dtype: int64"
      ]
     },
     "execution_count": 41,
     "metadata": {},
     "output_type": "execute_result"
    }
   ],
   "source": [
    "tropical_la.value_counts()"
   ]
  },
  {
   "cell_type": "code",
   "execution_count": 42,
   "metadata": {},
   "outputs": [
    {
     "data": {
      "text/plain": [
       "21"
      ]
     },
     "execution_count": 42,
     "metadata": {},
     "output_type": "execute_result"
    }
   ],
   "source": [
    "tropical_la.value_counts().sum()"
   ]
  },
  {
   "cell_type": "code",
   "execution_count": 43,
   "metadata": {},
   "outputs": [
    {
     "name": "stdout",
     "output_type": "stream",
     "text": [
      "<class 'pandas.core.frame.DataFrame'>\n",
      "Int64Index: 49 entries, 14 to 383\n",
      "Data columns (total 8 columns):\n",
      " #   Column          Non-Null Count  Dtype  \n",
      "---  ------          --------------  -----  \n",
      " 0   storm_number    49 non-null     int64  \n",
      " 1   date            49 non-null     object \n",
      " 2   time            49 non-null     object \n",
      " 3   lat_n           49 non-null     float64\n",
      " 4   lon_w           49 non-null     float64\n",
      " 5   max_winds(kt)   49 non-null     int64  \n",
      " 6   landfall_state  49 non-null     object \n",
      " 7   storm_names     21 non-null     object \n",
      "dtypes: float64(2), int64(2), object(4)\n",
      "memory usage: 3.4+ KB\n"
     ]
    }
   ],
   "source": [
    "la.info()"
   ]
  },
  {
   "cell_type": "code",
   "execution_count": 44,
   "metadata": {},
   "outputs": [
    {
     "data": {
      "text/html": [
       "<div>\n",
       "<style scoped>\n",
       "    .dataframe tbody tr th:only-of-type {\n",
       "        vertical-align: middle;\n",
       "    }\n",
       "\n",
       "    .dataframe tbody tr th {\n",
       "        vertical-align: top;\n",
       "    }\n",
       "\n",
       "    .dataframe thead th {\n",
       "        text-align: right;\n",
       "    }\n",
       "</style>\n",
       "<table border=\"1\" class=\"dataframe\">\n",
       "  <thead>\n",
       "    <tr style=\"text-align: right;\">\n",
       "      <th></th>\n",
       "      <th>storm_number</th>\n",
       "      <th>date</th>\n",
       "      <th>time</th>\n",
       "      <th>lat_n</th>\n",
       "      <th>lon_w</th>\n",
       "      <th>max_winds(kt)</th>\n",
       "      <th>landfall_state</th>\n",
       "      <th>storm_names</th>\n",
       "    </tr>\n",
       "  </thead>\n",
       "  <tbody>\n",
       "    <tr>\n",
       "      <th>14</th>\n",
       "      <td>5</td>\n",
       "      <td>7/1865</td>\n",
       "      <td>0</td>\n",
       "      <td>29.7</td>\n",
       "      <td>92.0</td>\n",
       "      <td>60</td>\n",
       "      <td>LA</td>\n",
       "      <td>NaN</td>\n",
       "    </tr>\n",
       "    <tr>\n",
       "      <th>23</th>\n",
       "      <td>1</td>\n",
       "      <td>7/11/1872</td>\n",
       "      <td>500</td>\n",
       "      <td>29.1</td>\n",
       "      <td>89.1</td>\n",
       "      <td>50</td>\n",
       "      <td>LA</td>\n",
       "      <td>NaN</td>\n",
       "    </tr>\n",
       "    <tr>\n",
       "      <th>39</th>\n",
       "      <td>5</td>\n",
       "      <td>7/1879</td>\n",
       "      <td>500</td>\n",
       "      <td>29.0</td>\n",
       "      <td>89.2</td>\n",
       "      <td>50</td>\n",
       "      <td>LA</td>\n",
       "      <td>NaN</td>\n",
       "    </tr>\n",
       "    <tr>\n",
       "      <th>48</th>\n",
       "      <td>3</td>\n",
       "      <td>9/15/1882</td>\n",
       "      <td>500</td>\n",
       "      <td>29.8</td>\n",
       "      <td>93.7</td>\n",
       "      <td>50</td>\n",
       "      <td>LA</td>\n",
       "      <td>NaN</td>\n",
       "    </tr>\n",
       "    <tr>\n",
       "      <th>53</th>\n",
       "      <td>4</td>\n",
       "      <td>9/21/1885</td>\n",
       "      <td>300</td>\n",
       "      <td>29.0</td>\n",
       "      <td>89.4</td>\n",
       "      <td>50</td>\n",
       "      <td>LA</td>\n",
       "      <td>NaN</td>\n",
       "    </tr>\n",
       "  </tbody>\n",
       "</table>\n",
       "</div>"
      ],
      "text/plain": [
       "    storm_number       date time  lat_n  lon_w  max_winds(kt) landfall_state  \\\n",
       "14             5     7/1865    0   29.7   92.0             60             LA   \n",
       "23             1  7/11/1872  500   29.1   89.1             50             LA   \n",
       "39             5     7/1879  500   29.0   89.2             50             LA   \n",
       "48             3  9/15/1882  500   29.8   93.7             50             LA   \n",
       "53             4  9/21/1885  300   29.0   89.4             50             LA   \n",
       "\n",
       "   storm_names  \n",
       "14         NaN  \n",
       "23         NaN  \n",
       "39         NaN  \n",
       "48         NaN  \n",
       "53         NaN  "
      ]
     },
     "execution_count": 44,
     "metadata": {},
     "output_type": "execute_result"
    }
   ],
   "source": [
    "la.head()"
   ]
  },
  {
   "cell_type": "code",
   "execution_count": 45,
   "metadata": {},
   "outputs": [],
   "source": [
    "months = la['date']"
   ]
  },
  {
   "cell_type": "code",
   "execution_count": 46,
   "metadata": {},
   "outputs": [],
   "source": [
    "month = []\n",
    "\n",
    "for mon in months:\n",
    "    month.append(mon[0])\n",
    "    \n",
    "    "
   ]
  },
  {
   "cell_type": "code",
   "execution_count": 47,
   "metadata": {},
   "outputs": [
    {
     "data": {
      "text/plain": [
       "['7',\n",
       " '7',\n",
       " '7',\n",
       " '9',\n",
       " '9',\n",
       " '9',\n",
       " '8',\n",
       " '9',\n",
       " '8',\n",
       " '9',\n",
       " '9',\n",
       " '9',\n",
       " '1',\n",
       " '7',\n",
       " '6',\n",
       " '6',\n",
       " '7',\n",
       " '9',\n",
       " '7',\n",
       " '9',\n",
       " '1',\n",
       " '1',\n",
       " '9',\n",
       " '9',\n",
       " '9',\n",
       " '9',\n",
       " '8',\n",
       " '9',\n",
       " '7',\n",
       " '8',\n",
       " '8',\n",
       " '6',\n",
       " '9',\n",
       " '9',\n",
       " '5',\n",
       " '9',\n",
       " '1',\n",
       " '9',\n",
       " '8',\n",
       " '9',\n",
       " '9',\n",
       " '6',\n",
       " '1',\n",
       " '1',\n",
       " '9',\n",
       " '6',\n",
       " '8',\n",
       " '6',\n",
       " '6']"
      ]
     },
     "execution_count": 47,
     "metadata": {},
     "output_type": "execute_result"
    }
   ],
   "source": [
    "month\n"
   ]
  },
  {
   "cell_type": "code",
   "execution_count": 48,
   "metadata": {},
   "outputs": [
    {
     "name": "stderr",
     "output_type": "stream",
     "text": [
      "/var/folders/j_/555m2zps099832fjh_m8jjnc0000gn/T/ipykernel_67129/3411313911.py:1: SettingWithCopyWarning: \n",
      "A value is trying to be set on a copy of a slice from a DataFrame.\n",
      "Try using .loc[row_indexer,col_indexer] = value instead\n",
      "\n",
      "See the caveats in the documentation: https://pandas.pydata.org/pandas-docs/stable/user_guide/indexing.html#returning-a-view-versus-a-copy\n",
      "  la['month'] = month\n"
     ]
    }
   ],
   "source": [
    "la['month'] = month"
   ]
  },
  {
   "cell_type": "code",
   "execution_count": 49,
   "metadata": {},
   "outputs": [
    {
     "name": "stderr",
     "output_type": "stream",
     "text": [
      "/var/folders/j_/555m2zps099832fjh_m8jjnc0000gn/T/ipykernel_67129/4239912277.py:1: SettingWithCopyWarning: \n",
      "A value is trying to be set on a copy of a slice from a DataFrame.\n",
      "Try using .loc[row_indexer,col_indexer] = value instead\n",
      "\n",
      "See the caveats in the documentation: https://pandas.pydata.org/pandas-docs/stable/user_guide/indexing.html#returning-a-view-versus-a-copy\n",
      "  la['month'] = pd.to_numeric(la['month'])\n"
     ]
    }
   ],
   "source": [
    "la['month'] = pd.to_numeric(la['month'])"
   ]
  },
  {
   "cell_type": "code",
   "execution_count": 50,
   "metadata": {},
   "outputs": [
    {
     "data": {
      "text/plain": [
       "9    21\n",
       "7     7\n",
       "8     7\n",
       "6     7\n",
       "1     6\n",
       "5     1\n",
       "Name: month, dtype: int64"
      ]
     },
     "execution_count": 50,
     "metadata": {},
     "output_type": "execute_result"
    }
   ],
   "source": [
    "la['month'].value_counts()"
   ]
  },
  {
   "cell_type": "code",
   "execution_count": 51,
   "metadata": {},
   "outputs": [
    {
     "data": {
      "text/plain": [
       "Sep    27\n",
       "Aug    17\n",
       "Oct    12\n",
       "Jul     4\n",
       "Jun     3\n",
       "Name: month, dtype: int64"
      ]
     },
     "execution_count": 51,
     "metadata": {},
     "output_type": "execute_result"
    }
   ],
   "source": [
    "louisiana[\"month\"].value_counts()"
   ]
  },
  {
   "cell_type": "code",
   "execution_count": 52,
   "metadata": {},
   "outputs": [
    {
     "name": "stdout",
     "output_type": "stream",
     "text": [
      "september: 48\n",
      "August: 24\n",
      "October: 17\n",
      "July: 11\n",
      "June: 10\n"
     ]
    }
   ],
   "source": [
    "print(f'september: {21+27}')\n",
    "print(f'August: {17+7}')\n",
    "print(f'October: {12+5}')\n",
    "print(f'July: {4+7}')\n",
    "print(f'June: {3+7}')"
   ]
  },
  {
   "cell_type": "markdown",
   "metadata": {},
   "source": [
    "## Hurricanes and Tropical Storms\n",
    "- September: 48\n",
    "- August: 24\n",
    "- October: 17\n",
    "- July: 11\n",
    "- June: 10\n"
   ]
  },
  {
   "cell_type": "code",
   "execution_count": 59,
   "metadata": {
    "scrolled": true
   },
   "outputs": [
    {
     "data": {
      "text/plain": [
       "(49, 9)"
      ]
     },
     "execution_count": 59,
     "metadata": {},
     "output_type": "execute_result"
    }
   ],
   "source": [
    "la.shape"
   ]
  },
  {
   "cell_type": "code",
   "execution_count": 61,
   "metadata": {},
   "outputs": [
    {
     "data": {
      "text/plain": [
       "0.42857142857142855"
      ]
     },
     "execution_count": 61,
     "metadata": {},
     "output_type": "execute_result"
    }
   ],
   "source": [
    "48/112"
   ]
  },
  {
   "cell_type": "code",
   "execution_count": 62,
   "metadata": {},
   "outputs": [
    {
     "data": {
      "text/plain": [
       "0.15178571428571427"
      ]
     },
     "execution_count": 62,
     "metadata": {},
     "output_type": "execute_result"
    }
   ],
   "source": [
    "17/112"
   ]
  },
  {
   "cell_type": "code",
   "execution_count": 63,
   "metadata": {},
   "outputs": [
    {
     "data": {
      "text/plain": [
       "65"
      ]
     },
     "execution_count": 63,
     "metadata": {},
     "output_type": "execute_result"
    }
   ],
   "source": [
    "48+17"
   ]
  },
  {
   "cell_type": "code",
   "execution_count": 64,
   "metadata": {},
   "outputs": [
    {
     "data": {
      "text/plain": [
       "0.5803571428571429"
      ]
     },
     "execution_count": 64,
     "metadata": {},
     "output_type": "execute_result"
    }
   ],
   "source": [
    "65/112"
   ]
  },
  {
   "cell_type": "markdown",
   "metadata": {},
   "source": [
    "63 hurricanes and 49 tropical storms"
   ]
  },
  {
   "cell_type": "code",
   "execution_count": 60,
   "metadata": {},
   "outputs": [
    {
     "data": {
      "text/plain": [
       "112"
      ]
     },
     "execution_count": 60,
     "metadata": {},
     "output_type": "execute_result"
    }
   ],
   "source": [
    "63 + 49"
   ]
  },
  {
   "cell_type": "code",
   "execution_count": 65,
   "metadata": {},
   "outputs": [
    {
     "data": {
      "text/plain": [
       "(305, 12)"
      ]
     },
     "execution_count": 65,
     "metadata": {},
     "output_type": "execute_result"
    }
   ],
   "source": [
    "canes.shape"
   ]
  },
  {
   "cell_type": "code",
   "execution_count": 67,
   "metadata": {},
   "outputs": [
    {
     "data": {
      "text/plain": [
       "(392, 8)"
      ]
     },
     "execution_count": 67,
     "metadata": {},
     "output_type": "execute_result"
    }
   ],
   "source": [
    "ts.shape"
   ]
  },
  {
   "cell_type": "code",
   "execution_count": 68,
   "metadata": {},
   "outputs": [
    {
     "data": {
      "text/plain": [
       "697"
      ]
     },
     "execution_count": 68,
     "metadata": {},
     "output_type": "execute_result"
    }
   ],
   "source": [
    "305+392"
   ]
  },
  {
   "cell_type": "code",
   "execution_count": 69,
   "metadata": {},
   "outputs": [
    {
     "data": {
      "text/plain": [
       "0.2857142857142857"
      ]
     },
     "execution_count": 69,
     "metadata": {},
     "output_type": "execute_result"
    }
   ],
   "source": [
    "112/392"
   ]
  },
  {
   "cell_type": "code",
   "execution_count": 70,
   "metadata": {},
   "outputs": [
    {
     "data": {
      "text/plain": [
       "47"
      ]
     },
     "execution_count": 70,
     "metadata": {},
     "output_type": "execute_result"
    }
   ],
   "source": [
    "112-65"
   ]
  },
  {
   "cell_type": "markdown",
   "metadata": {},
   "source": [
    "## Of 697 Tropical Storms and Hurricanes to hit the USA, 112 hit Louisiana or 28.57%"
   ]
  },
  {
   "cell_type": "markdown",
   "metadata": {},
   "source": [
    "## Of the 112 storms to hit Louisiana 65 hit in either September or October or 58.03%\n",
    "\n",
    "- September: 48\n",
    "- August: 24\n",
    "- October: 17\n",
    "- July: 11\n",
    "- June: 10\n"
   ]
  },
  {
   "cell_type": "code",
   "execution_count": 76,
   "metadata": {},
   "outputs": [
    {
     "data": {
      "image/png": "[encoded data removed]",
      "text/plain": [
       "<Figure size 432x288 with 1 Axes>"
      ]
     },
     "metadata": {},
     "output_type": "display_data"
    }
   ],
   "source": [
    " import matplotlib.pyplot as plt\n",
    "\n",
    "# Pie chart, where the slices will be ordered and plotted counter-clockwise:\n",
    "labels = 'September', 'August', 'October', 'July', 'June'\n",
    "sizes = [48, 24, 17, 11, 10]\n",
    "explode = (0, 0, 0, 0, 0)  # only \"explode\" the 2nd slice (i.e. 'Hogs')\n",
    "\n",
    "fig1, ax1 = plt.subplots()\n",
    "ax1.pie(sizes, explode=explode, labels=labels, autopct='%1.1f%%',\n",
    "        shadow=True, startangle=90)\n",
    "ax1.axis('equal')  # Equal aspect ratio ensures that pie is drawn as a circle.\n",
    "\n",
    "plt.show()"
   ]
  },
  {
   "cell_type": "code",
   "execution_count": null,
   "metadata": {},
   "outputs": [],
   "source": []
  }
 ],
 "metadata": {
  "kernelspec": {
   "display_name": "Python 3 (ipykernel)",
   "language": "python",
   "name": "python3"
  },
  "language_info": {
   "codemirror_mode": {
    "name": "ipython",
    "version": 3
   },
   "file_extension": ".py",
   "mimetype": "text/x-python",
   "name": "python",
   "nbconvert_exporter": "python",
   "pygments_lexer": "ipython3",
   "version": "3.9.12"
  }
 },
 "nbformat": 4,
 "nbformat_minor": 5
}
