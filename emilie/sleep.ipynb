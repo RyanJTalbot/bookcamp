{
 "cells": [
  {
   "cell_type": "code",
   "execution_count": 1,
   "id": "186d9e9b",
   "metadata": {},
   "outputs": [],
   "source": [
    "import pandas as pd\n",
    "import numpy as np"
   ]
  },
  {
   "cell_type": "code",
   "execution_count": 2,
   "id": "a6271edd",
   "metadata": {},
   "outputs": [],
   "source": [
    "df = pd.read_csv('sleep.csv')"
   ]
  },
  {
   "cell_type": "code",
   "execution_count": 3,
   "id": "9d10b654",
   "metadata": {},
   "outputs": [
    {
     "data": {
      "text/html": [
       "<div>\n",
       "<style scoped>\n",
       "    .dataframe tbody tr th:only-of-type {\n",
       "        vertical-align: middle;\n",
       "    }\n",
       "\n",
       "    .dataframe tbody tr th {\n",
       "        vertical-align: top;\n",
       "    }\n",
       "\n",
       "    .dataframe thead th {\n",
       "        text-align: right;\n",
       "    }\n",
       "</style>\n",
       "<table border=\"1\" class=\"dataframe\">\n",
       "  <thead>\n",
       "    <tr style=\"text-align: right;\">\n",
       "      <th></th>\n",
       "      <th>Unnamed: 0</th>\n",
       "      <th>Duration (min)</th>\n",
       "      <th>Text</th>\n",
       "      <th>date_time</th>\n",
       "    </tr>\n",
       "  </thead>\n",
       "  <tbody>\n",
       "    <tr>\n",
       "      <th>0</th>\n",
       "      <td>0</td>\n",
       "      <td>12.0</td>\n",
       "      <td>Émilie slept (12m)</td>\n",
       "      <td>2023-02-13 13:47:00</td>\n",
       "    </tr>\n",
       "    <tr>\n",
       "      <th>1</th>\n",
       "      <td>21</td>\n",
       "      <td>741.0</td>\n",
       "      <td>Émilie slept (12h21m)</td>\n",
       "      <td>2021-08-13 18:51:00</td>\n",
       "    </tr>\n",
       "    <tr>\n",
       "      <th>2</th>\n",
       "      <td>23</td>\n",
       "      <td>106.0</td>\n",
       "      <td>Émilie slept (1h46m)</td>\n",
       "      <td>2021-08-13 14:45:00</td>\n",
       "    </tr>\n",
       "    <tr>\n",
       "      <th>3</th>\n",
       "      <td>27</td>\n",
       "      <td>131.0</td>\n",
       "      <td>Émilie slept (2h11m)</td>\n",
       "      <td>2021-08-13 10:04:00</td>\n",
       "    </tr>\n",
       "    <tr>\n",
       "      <th>4</th>\n",
       "      <td>30</td>\n",
       "      <td>688.0</td>\n",
       "      <td>Émilie slept (11h28m)</td>\n",
       "      <td>2021-08-12 18:58:00</td>\n",
       "    </tr>\n",
       "  </tbody>\n",
       "</table>\n",
       "</div>"
      ],
      "text/plain": [
       "   Unnamed: 0  Duration (min)                   Text            date_time\n",
       "0           0            12.0     Émilie slept (12m)  2023-02-13 13:47:00\n",
       "1          21           741.0  Émilie slept (12h21m)  2021-08-13 18:51:00\n",
       "2          23           106.0   Émilie slept (1h46m)  2021-08-13 14:45:00\n",
       "3          27           131.0   Émilie slept (2h11m)  2021-08-13 10:04:00\n",
       "4          30           688.0  Émilie slept (11h28m)  2021-08-12 18:58:00"
      ]
     },
     "execution_count": 3,
     "metadata": {},
     "output_type": "execute_result"
    }
   ],
   "source": [
    "df.head()"
   ]
  },
  {
   "cell_type": "code",
   "execution_count": 4,
   "id": "9387f994",
   "metadata": {},
   "outputs": [
    {
     "data": {
      "text/html": [
       "<div>\n",
       "<style scoped>\n",
       "    .dataframe tbody tr th:only-of-type {\n",
       "        vertical-align: middle;\n",
       "    }\n",
       "\n",
       "    .dataframe tbody tr th {\n",
       "        vertical-align: top;\n",
       "    }\n",
       "\n",
       "    .dataframe thead th {\n",
       "        text-align: right;\n",
       "    }\n",
       "</style>\n",
       "<table border=\"1\" class=\"dataframe\">\n",
       "  <thead>\n",
       "    <tr style=\"text-align: right;\">\n",
       "      <th></th>\n",
       "      <th>Unnamed: 0</th>\n",
       "      <th>Duration (min)</th>\n",
       "      <th>Text</th>\n",
       "      <th>date_time</th>\n",
       "    </tr>\n",
       "  </thead>\n",
       "  <tbody>\n",
       "    <tr>\n",
       "      <th>574</th>\n",
       "      <td>2690</td>\n",
       "      <td>95.0</td>\n",
       "      <td>Emilie slept (1h35m)</td>\n",
       "      <td>2020-12-23 09:45:00</td>\n",
       "    </tr>\n",
       "    <tr>\n",
       "      <th>575</th>\n",
       "      <td>2695</td>\n",
       "      <td>83.0</td>\n",
       "      <td>Emilie slept (1h23m)</td>\n",
       "      <td>2020-12-23 07:40:00</td>\n",
       "    </tr>\n",
       "    <tr>\n",
       "      <th>576</th>\n",
       "      <td>2708</td>\n",
       "      <td>57.0</td>\n",
       "      <td>Emilie slept (57m)</td>\n",
       "      <td>2020-12-22 17:20:00</td>\n",
       "    </tr>\n",
       "    <tr>\n",
       "      <th>577</th>\n",
       "      <td>2710</td>\n",
       "      <td>128.0</td>\n",
       "      <td>Emilie slept (2h08m)</td>\n",
       "      <td>2020-12-22 14:35:00</td>\n",
       "    </tr>\n",
       "    <tr>\n",
       "      <th>578</th>\n",
       "      <td>2713</td>\n",
       "      <td>112.0</td>\n",
       "      <td>Emilie slept (1h52m)</td>\n",
       "      <td>2020-12-22 12:25:00</td>\n",
       "    </tr>\n",
       "  </tbody>\n",
       "</table>\n",
       "</div>"
      ],
      "text/plain": [
       "     Unnamed: 0  Duration (min)                  Text            date_time\n",
       "574        2690            95.0  Emilie slept (1h35m)  2020-12-23 09:45:00\n",
       "575        2695            83.0  Emilie slept (1h23m)  2020-12-23 07:40:00\n",
       "576        2708            57.0    Emilie slept (57m)  2020-12-22 17:20:00\n",
       "577        2710           128.0  Emilie slept (2h08m)  2020-12-22 14:35:00\n",
       "578        2713           112.0  Emilie slept (1h52m)  2020-12-22 12:25:00"
      ]
     },
     "execution_count": 4,
     "metadata": {},
     "output_type": "execute_result"
    }
   ],
   "source": [
    "df.tail()"
   ]
  },
  {
   "cell_type": "code",
   "execution_count": 7,
   "id": "3798b15a",
   "metadata": {},
   "outputs": [],
   "source": [
    "df = df.iloc[1:]"
   ]
  },
  {
   "cell_type": "code",
   "execution_count": 8,
   "id": "bb443665",
   "metadata": {},
   "outputs": [
    {
     "data": {
      "text/plain": [
       "2312"
      ]
     },
     "execution_count": 8,
     "metadata": {},
     "output_type": "execute_result"
    }
   ],
   "source": [
    "df.size"
   ]
  },
  {
   "cell_type": "code",
   "execution_count": 9,
   "id": "ee21c744",
   "metadata": {},
   "outputs": [],
   "source": [
    "df = df.drop(columns=['Unnamed: 0'])"
   ]
  },
  {
   "cell_type": "code",
   "execution_count": 10,
   "id": "3cbf4ef3",
   "metadata": {},
   "outputs": [],
   "source": [
    "df['date_time'] = pd.to_datetime(df['date_time'])"
   ]
  },
  {
   "cell_type": "code",
   "execution_count": 11,
   "id": "bee65a13",
   "metadata": {
    "scrolled": true
   },
   "outputs": [
    {
     "name": "stdout",
     "output_type": "stream",
     "text": [
      "<class 'pandas.core.frame.DataFrame'>\n",
      "RangeIndex: 578 entries, 1 to 578\n",
      "Data columns (total 3 columns):\n",
      " #   Column          Non-Null Count  Dtype         \n",
      "---  ------          --------------  -----         \n",
      " 0   Duration (min)  578 non-null    float64       \n",
      " 1   Text            578 non-null    object        \n",
      " 2   date_time       578 non-null    datetime64[ns]\n",
      "dtypes: datetime64[ns](1), float64(1), object(1)\n",
      "memory usage: 13.7+ KB\n"
     ]
    }
   ],
   "source": [
    "df.info()"
   ]
  },
  {
   "cell_type": "code",
   "execution_count": 12,
   "id": "318ed1f5",
   "metadata": {},
   "outputs": [
    {
     "data": {
      "text/plain": [
       "<AxesSubplot:>"
      ]
     },
     "execution_count": 12,
     "metadata": {},
     "output_type": "execute_result"
    },
    {
     "data": {
      "image/png": "[encoded data removed]",
      "text/plain": [
       "<Figure size 432x288 with 1 Axes>"
      ]
     },
     "metadata": {
      "needs_background": "light"
     },
     "output_type": "display_data"
    }
   ],
   "source": [
    "df.plot()"
   ]
  },
  {
   "cell_type": "code",
   "execution_count": null,
   "id": "3657d5bf",
   "metadata": {},
   "outputs": [],
   "source": []
  },
  {
   "cell_type": "code",
   "execution_count": 13,
   "id": "ce45c16e",
   "metadata": {},
   "outputs": [],
   "source": [
    "import matplotlib.pyplot as plt"
   ]
  },
  {
   "cell_type": "code",
   "execution_count": 14,
   "id": "c06b39ed",
   "metadata": {
    "scrolled": true
   },
   "outputs": [
    {
     "data": {
      "text/plain": [
       "<Figure size 432x288 with 0 Axes>"
      ]
     },
     "metadata": {},
     "output_type": "display_data"
    },
    {
     "data": {
      "image/png": "[encoded data removed]",
      "text/plain": [
       "<Figure size 432x288 with 1 Axes>"
      ]
     },
     "metadata": {
      "needs_background": "light"
     },
     "output_type": "display_data"
    }
   ],
   "source": [
    "plt.figure();\n",
    "df.plot(kind=\"bar\");\n"
   ]
  },
  {
   "cell_type": "code",
   "execution_count": 15,
   "id": "44d17e91",
   "metadata": {},
   "outputs": [],
   "source": [
    "dfz = df.copy()"
   ]
  },
  {
   "cell_type": "code",
   "execution_count": 16,
   "id": "8c84e233",
   "metadata": {},
   "outputs": [],
   "source": [
    "dfz = dfz.drop(columns=['Text'])"
   ]
  },
  {
   "cell_type": "code",
   "execution_count": 17,
   "id": "d0080777",
   "metadata": {
    "scrolled": true
   },
   "outputs": [
    {
     "name": "stdout",
     "output_type": "stream",
     "text": [
      "<class 'pandas.core.frame.DataFrame'>\n",
      "RangeIndex: 578 entries, 1 to 578\n",
      "Data columns (total 2 columns):\n",
      " #   Column          Non-Null Count  Dtype         \n",
      "---  ------          --------------  -----         \n",
      " 0   Duration (min)  578 non-null    float64       \n",
      " 1   date_time       578 non-null    datetime64[ns]\n",
      "dtypes: datetime64[ns](1), float64(1)\n",
      "memory usage: 9.2 KB\n"
     ]
    }
   ],
   "source": [
    "dfz.info()"
   ]
  },
  {
   "cell_type": "code",
   "execution_count": 18,
   "id": "d7513265",
   "metadata": {},
   "outputs": [
    {
     "name": "stdout",
     "output_type": "stream",
     "text": [
      "Original Dataframe:\n",
      "   Duration (min)           date_time           Date_time\n",
      "1           741.0 2021-08-13 18:51:00 2021-08-13 18:51:00\n",
      "2           106.0 2021-08-13 14:45:00 2021-08-13 14:45:00\n",
      "3           131.0 2021-08-13 10:04:00 2021-08-13 10:04:00\n",
      "4           688.0 2021-08-12 18:58:00 2021-08-12 18:58:00\n",
      "5            82.0 2021-08-12 15:05:00 2021-08-12 15:05:00\n",
      "\n",
      "Sleep entries by year:\n",
      "Year\n",
      "2020     42\n",
      "2021    536\n",
      "dtype: int64\n"
     ]
    }
   ],
   "source": [
    "dfz['Date_time'] = dfz['date_time'].astype('datetime64[ns]')\n",
    "print(\"Original Dataframe:\")\n",
    "print(dfz.head())\n",
    "dfz['Year'] = dfz['date_time'].apply(lambda x: \"%d\" % (x.year))\n",
    "result = dfz.groupby(['Year']).size()\n",
    "print(\"\\nSleep entries by year:\")\n",
    "print(result)"
   ]
  },
  {
   "cell_type": "code",
   "execution_count": 19,
   "id": "075c1405",
   "metadata": {},
   "outputs": [
    {
     "name": "stdout",
     "output_type": "stream",
     "text": [
      "<class 'pandas.core.frame.DataFrame'>\n",
      "RangeIndex: 578 entries, 1 to 578\n",
      "Data columns (total 4 columns):\n",
      " #   Column          Non-Null Count  Dtype         \n",
      "---  ------          --------------  -----         \n",
      " 0   Duration (min)  578 non-null    float64       \n",
      " 1   date_time       578 non-null    datetime64[ns]\n",
      " 2   Date_time       578 non-null    datetime64[ns]\n",
      " 3   Year            578 non-null    object        \n",
      "dtypes: datetime64[ns](2), float64(1), object(1)\n",
      "memory usage: 18.2+ KB\n"
     ]
    }
   ],
   "source": [
    "dfz.info()"
   ]
  },
  {
   "cell_type": "code",
   "execution_count": 20,
   "id": "5d5d85fc",
   "metadata": {},
   "outputs": [
    {
     "data": {
      "text/html": [
       "<div>\n",
       "<style scoped>\n",
       "    .dataframe tbody tr th:only-of-type {\n",
       "        vertical-align: middle;\n",
       "    }\n",
       "\n",
       "    .dataframe tbody tr th {\n",
       "        vertical-align: top;\n",
       "    }\n",
       "\n",
       "    .dataframe thead th {\n",
       "        text-align: right;\n",
       "    }\n",
       "</style>\n",
       "<table border=\"1\" class=\"dataframe\">\n",
       "  <thead>\n",
       "    <tr style=\"text-align: right;\">\n",
       "      <th></th>\n",
       "      <th>Duration (min)</th>\n",
       "      <th>date_time</th>\n",
       "      <th>Date_time</th>\n",
       "      <th>Year</th>\n",
       "    </tr>\n",
       "  </thead>\n",
       "  <tbody>\n",
       "    <tr>\n",
       "      <th>1</th>\n",
       "      <td>741.0</td>\n",
       "      <td>2021-08-13 18:51:00</td>\n",
       "      <td>2021-08-13 18:51:00</td>\n",
       "      <td>2021</td>\n",
       "    </tr>\n",
       "    <tr>\n",
       "      <th>2</th>\n",
       "      <td>106.0</td>\n",
       "      <td>2021-08-13 14:45:00</td>\n",
       "      <td>2021-08-13 14:45:00</td>\n",
       "      <td>2021</td>\n",
       "    </tr>\n",
       "    <tr>\n",
       "      <th>3</th>\n",
       "      <td>131.0</td>\n",
       "      <td>2021-08-13 10:04:00</td>\n",
       "      <td>2021-08-13 10:04:00</td>\n",
       "      <td>2021</td>\n",
       "    </tr>\n",
       "    <tr>\n",
       "      <th>4</th>\n",
       "      <td>688.0</td>\n",
       "      <td>2021-08-12 18:58:00</td>\n",
       "      <td>2021-08-12 18:58:00</td>\n",
       "      <td>2021</td>\n",
       "    </tr>\n",
       "    <tr>\n",
       "      <th>5</th>\n",
       "      <td>82.0</td>\n",
       "      <td>2021-08-12 15:05:00</td>\n",
       "      <td>2021-08-12 15:05:00</td>\n",
       "      <td>2021</td>\n",
       "    </tr>\n",
       "    <tr>\n",
       "      <th>...</th>\n",
       "      <td>...</td>\n",
       "      <td>...</td>\n",
       "      <td>...</td>\n",
       "      <td>...</td>\n",
       "    </tr>\n",
       "    <tr>\n",
       "      <th>574</th>\n",
       "      <td>95.0</td>\n",
       "      <td>2020-12-23 09:45:00</td>\n",
       "      <td>2020-12-23 09:45:00</td>\n",
       "      <td>2020</td>\n",
       "    </tr>\n",
       "    <tr>\n",
       "      <th>575</th>\n",
       "      <td>83.0</td>\n",
       "      <td>2020-12-23 07:40:00</td>\n",
       "      <td>2020-12-23 07:40:00</td>\n",
       "      <td>2020</td>\n",
       "    </tr>\n",
       "    <tr>\n",
       "      <th>576</th>\n",
       "      <td>57.0</td>\n",
       "      <td>2020-12-22 17:20:00</td>\n",
       "      <td>2020-12-22 17:20:00</td>\n",
       "      <td>2020</td>\n",
       "    </tr>\n",
       "    <tr>\n",
       "      <th>577</th>\n",
       "      <td>128.0</td>\n",
       "      <td>2020-12-22 14:35:00</td>\n",
       "      <td>2020-12-22 14:35:00</td>\n",
       "      <td>2020</td>\n",
       "    </tr>\n",
       "    <tr>\n",
       "      <th>578</th>\n",
       "      <td>112.0</td>\n",
       "      <td>2020-12-22 12:25:00</td>\n",
       "      <td>2020-12-22 12:25:00</td>\n",
       "      <td>2020</td>\n",
       "    </tr>\n",
       "  </tbody>\n",
       "</table>\n",
       "<p>578 rows × 4 columns</p>\n",
       "</div>"
      ],
      "text/plain": [
       "     Duration (min)           date_time           Date_time  Year\n",
       "1             741.0 2021-08-13 18:51:00 2021-08-13 18:51:00  2021\n",
       "2             106.0 2021-08-13 14:45:00 2021-08-13 14:45:00  2021\n",
       "3             131.0 2021-08-13 10:04:00 2021-08-13 10:04:00  2021\n",
       "4             688.0 2021-08-12 18:58:00 2021-08-12 18:58:00  2021\n",
       "5              82.0 2021-08-12 15:05:00 2021-08-12 15:05:00  2021\n",
       "..              ...                 ...                 ...   ...\n",
       "574            95.0 2020-12-23 09:45:00 2020-12-23 09:45:00  2020\n",
       "575            83.0 2020-12-23 07:40:00 2020-12-23 07:40:00  2020\n",
       "576            57.0 2020-12-22 17:20:00 2020-12-22 17:20:00  2020\n",
       "577           128.0 2020-12-22 14:35:00 2020-12-22 14:35:00  2020\n",
       "578           112.0 2020-12-22 12:25:00 2020-12-22 12:25:00  2020\n",
       "\n",
       "[578 rows x 4 columns]"
      ]
     },
     "execution_count": 20,
     "metadata": {},
     "output_type": "execute_result"
    }
   ],
   "source": [
    "dfz"
   ]
  },
  {
   "cell_type": "code",
   "execution_count": 21,
   "id": "c2945b77",
   "metadata": {},
   "outputs": [],
   "source": [
    "from datetime import datetime as dt\n",
    "dfz['Date_time'] = dfz['date_time'].dt.normalize()"
   ]
  },
  {
   "cell_type": "code",
   "execution_count": 22,
   "id": "cec5f1d3",
   "metadata": {},
   "outputs": [
    {
     "data": {
      "text/plain": [
       "Duration (min)    220\n",
       "date_time         575\n",
       "Date_time         210\n",
       "Year                2\n",
       "dtype: int64"
      ]
     },
     "execution_count": 22,
     "metadata": {},
     "output_type": "execute_result"
    }
   ],
   "source": [
    "dfz.nunique()"
   ]
  },
  {
   "cell_type": "code",
   "execution_count": 23,
   "id": "0cab0f5d",
   "metadata": {},
   "outputs": [
    {
     "data": {
      "text/html": [
       "<div>\n",
       "<style scoped>\n",
       "    .dataframe tbody tr th:only-of-type {\n",
       "        vertical-align: middle;\n",
       "    }\n",
       "\n",
       "    .dataframe tbody tr th {\n",
       "        vertical-align: top;\n",
       "    }\n",
       "\n",
       "    .dataframe thead th {\n",
       "        text-align: right;\n",
       "    }\n",
       "</style>\n",
       "<table border=\"1\" class=\"dataframe\">\n",
       "  <thead>\n",
       "    <tr style=\"text-align: right;\">\n",
       "      <th></th>\n",
       "      <th>Duration (min)</th>\n",
       "      <th>date_time</th>\n",
       "      <th>Date_time</th>\n",
       "      <th>Year</th>\n",
       "    </tr>\n",
       "  </thead>\n",
       "  <tbody>\n",
       "    <tr>\n",
       "      <th>1</th>\n",
       "      <td>741.0</td>\n",
       "      <td>2021-08-13 18:51:00</td>\n",
       "      <td>2021-08-13</td>\n",
       "      <td>2021</td>\n",
       "    </tr>\n",
       "    <tr>\n",
       "      <th>2</th>\n",
       "      <td>106.0</td>\n",
       "      <td>2021-08-13 14:45:00</td>\n",
       "      <td>2021-08-13</td>\n",
       "      <td>2021</td>\n",
       "    </tr>\n",
       "    <tr>\n",
       "      <th>3</th>\n",
       "      <td>131.0</td>\n",
       "      <td>2021-08-13 10:04:00</td>\n",
       "      <td>2021-08-13</td>\n",
       "      <td>2021</td>\n",
       "    </tr>\n",
       "    <tr>\n",
       "      <th>4</th>\n",
       "      <td>688.0</td>\n",
       "      <td>2021-08-12 18:58:00</td>\n",
       "      <td>2021-08-12</td>\n",
       "      <td>2021</td>\n",
       "    </tr>\n",
       "    <tr>\n",
       "      <th>5</th>\n",
       "      <td>82.0</td>\n",
       "      <td>2021-08-12 15:05:00</td>\n",
       "      <td>2021-08-12</td>\n",
       "      <td>2021</td>\n",
       "    </tr>\n",
       "    <tr>\n",
       "      <th>...</th>\n",
       "      <td>...</td>\n",
       "      <td>...</td>\n",
       "      <td>...</td>\n",
       "      <td>...</td>\n",
       "    </tr>\n",
       "    <tr>\n",
       "      <th>574</th>\n",
       "      <td>95.0</td>\n",
       "      <td>2020-12-23 09:45:00</td>\n",
       "      <td>2020-12-23</td>\n",
       "      <td>2020</td>\n",
       "    </tr>\n",
       "    <tr>\n",
       "      <th>575</th>\n",
       "      <td>83.0</td>\n",
       "      <td>2020-12-23 07:40:00</td>\n",
       "      <td>2020-12-23</td>\n",
       "      <td>2020</td>\n",
       "    </tr>\n",
       "    <tr>\n",
       "      <th>576</th>\n",
       "      <td>57.0</td>\n",
       "      <td>2020-12-22 17:20:00</td>\n",
       "      <td>2020-12-22</td>\n",
       "      <td>2020</td>\n",
       "    </tr>\n",
       "    <tr>\n",
       "      <th>577</th>\n",
       "      <td>128.0</td>\n",
       "      <td>2020-12-22 14:35:00</td>\n",
       "      <td>2020-12-22</td>\n",
       "      <td>2020</td>\n",
       "    </tr>\n",
       "    <tr>\n",
       "      <th>578</th>\n",
       "      <td>112.0</td>\n",
       "      <td>2020-12-22 12:25:00</td>\n",
       "      <td>2020-12-22</td>\n",
       "      <td>2020</td>\n",
       "    </tr>\n",
       "  </tbody>\n",
       "</table>\n",
       "<p>578 rows × 4 columns</p>\n",
       "</div>"
      ],
      "text/plain": [
       "     Duration (min)           date_time  Date_time  Year\n",
       "1             741.0 2021-08-13 18:51:00 2021-08-13  2021\n",
       "2             106.0 2021-08-13 14:45:00 2021-08-13  2021\n",
       "3             131.0 2021-08-13 10:04:00 2021-08-13  2021\n",
       "4             688.0 2021-08-12 18:58:00 2021-08-12  2021\n",
       "5              82.0 2021-08-12 15:05:00 2021-08-12  2021\n",
       "..              ...                 ...        ...   ...\n",
       "574            95.0 2020-12-23 09:45:00 2020-12-23  2020\n",
       "575            83.0 2020-12-23 07:40:00 2020-12-23  2020\n",
       "576            57.0 2020-12-22 17:20:00 2020-12-22  2020\n",
       "577           128.0 2020-12-22 14:35:00 2020-12-22  2020\n",
       "578           112.0 2020-12-22 12:25:00 2020-12-22  2020\n",
       "\n",
       "[578 rows x 4 columns]"
      ]
     },
     "execution_count": 23,
     "metadata": {},
     "output_type": "execute_result"
    }
   ],
   "source": [
    "dfz"
   ]
  },
  {
   "cell_type": "code",
   "execution_count": null,
   "id": "6c449792",
   "metadata": {},
   "outputs": [],
   "source": []
  },
  {
   "cell_type": "code",
   "execution_count": 24,
   "id": "98f44ad9",
   "metadata": {},
   "outputs": [],
   "source": [
    "# for index, row in df.iterrows():\n",
    "#     (row[\"firstname\"]) "
   ]
  },
  {
   "cell_type": "code",
   "execution_count": 25,
   "id": "963bc8b2",
   "metadata": {},
   "outputs": [
    {
     "name": "stdout",
     "output_type": "stream",
     "text": [
      "Date_time\n",
      "2020-12-22    297.0\n",
      "2020-12-23    328.0\n",
      "2020-12-25    956.0\n",
      "2020-12-26    563.0\n",
      "2020-12-27    716.0\n",
      "              ...  \n",
      "2021-08-09    935.0\n",
      "2021-08-10    949.0\n",
      "2021-08-11    940.0\n",
      "2021-08-12    860.0\n",
      "2021-08-13    978.0\n",
      "Name: Duration (min), Length: 210, dtype: float64\n"
     ]
    }
   ],
   "source": [
    "sleep_days = dfz.groupby([\"Date_time\"])[\"Duration (min)\"].sum()\n",
    "print(sleep_days)"
   ]
  },
  {
   "cell_type": "code",
   "execution_count": 26,
   "id": "23f13b99",
   "metadata": {},
   "outputs": [],
   "source": [
    "sleeps = sleep_days.to_frame(name='duration')"
   ]
  },
  {
   "cell_type": "code",
   "execution_count": 27,
   "id": "f8bb77a6",
   "metadata": {},
   "outputs": [
    {
     "data": {
      "text/html": [
       "<div>\n",
       "<style scoped>\n",
       "    .dataframe tbody tr th:only-of-type {\n",
       "        vertical-align: middle;\n",
       "    }\n",
       "\n",
       "    .dataframe tbody tr th {\n",
       "        vertical-align: top;\n",
       "    }\n",
       "\n",
       "    .dataframe thead th {\n",
       "        text-align: right;\n",
       "    }\n",
       "</style>\n",
       "<table border=\"1\" class=\"dataframe\">\n",
       "  <thead>\n",
       "    <tr style=\"text-align: right;\">\n",
       "      <th></th>\n",
       "      <th>Date_time</th>\n",
       "      <th>duration</th>\n",
       "    </tr>\n",
       "  </thead>\n",
       "  <tbody>\n",
       "    <tr>\n",
       "      <th>0</th>\n",
       "      <td>2020-12-22</td>\n",
       "      <td>297.0</td>\n",
       "    </tr>\n",
       "    <tr>\n",
       "      <th>1</th>\n",
       "      <td>2020-12-23</td>\n",
       "      <td>328.0</td>\n",
       "    </tr>\n",
       "    <tr>\n",
       "      <th>2</th>\n",
       "      <td>2020-12-25</td>\n",
       "      <td>956.0</td>\n",
       "    </tr>\n",
       "    <tr>\n",
       "      <th>3</th>\n",
       "      <td>2020-12-26</td>\n",
       "      <td>563.0</td>\n",
       "    </tr>\n",
       "    <tr>\n",
       "      <th>4</th>\n",
       "      <td>2020-12-27</td>\n",
       "      <td>716.0</td>\n",
       "    </tr>\n",
       "    <tr>\n",
       "      <th>...</th>\n",
       "      <td>...</td>\n",
       "      <td>...</td>\n",
       "    </tr>\n",
       "    <tr>\n",
       "      <th>205</th>\n",
       "      <td>2021-08-09</td>\n",
       "      <td>935.0</td>\n",
       "    </tr>\n",
       "    <tr>\n",
       "      <th>206</th>\n",
       "      <td>2021-08-10</td>\n",
       "      <td>949.0</td>\n",
       "    </tr>\n",
       "    <tr>\n",
       "      <th>207</th>\n",
       "      <td>2021-08-11</td>\n",
       "      <td>940.0</td>\n",
       "    </tr>\n",
       "    <tr>\n",
       "      <th>208</th>\n",
       "      <td>2021-08-12</td>\n",
       "      <td>860.0</td>\n",
       "    </tr>\n",
       "    <tr>\n",
       "      <th>209</th>\n",
       "      <td>2021-08-13</td>\n",
       "      <td>978.0</td>\n",
       "    </tr>\n",
       "  </tbody>\n",
       "</table>\n",
       "<p>210 rows × 2 columns</p>\n",
       "</div>"
      ],
      "text/plain": [
       "     Date_time  duration\n",
       "0   2020-12-22     297.0\n",
       "1   2020-12-23     328.0\n",
       "2   2020-12-25     956.0\n",
       "3   2020-12-26     563.0\n",
       "4   2020-12-27     716.0\n",
       "..         ...       ...\n",
       "205 2021-08-09     935.0\n",
       "206 2021-08-10     949.0\n",
       "207 2021-08-11     940.0\n",
       "208 2021-08-12     860.0\n",
       "209 2021-08-13     978.0\n",
       "\n",
       "[210 rows x 2 columns]"
      ]
     },
     "execution_count": 27,
     "metadata": {},
     "output_type": "execute_result"
    }
   ],
   "source": [
    "sleeps.reset_index()"
   ]
  },
  {
   "cell_type": "code",
   "execution_count": 28,
   "id": "e3f6d5a6",
   "metadata": {},
   "outputs": [
    {
     "data": {
      "text/plain": [
       "<AxesSubplot:xlabel='Date_time'>"
      ]
     },
     "execution_count": 28,
     "metadata": {},
     "output_type": "execute_result"
    },
    {
     "data": {
      "image/png": "[encoded data removed]",
      "text/plain": [
       "<Figure size 432x288 with 1 Axes>"
      ]
     },
     "metadata": {
      "needs_background": "light"
     },
     "output_type": "display_data"
    }
   ],
   "source": [
    "sleeps.plot()"
   ]
  },
  {
   "cell_type": "code",
   "execution_count": 30,
   "id": "3b90b782",
   "metadata": {},
   "outputs": [
    {
     "name": "stdout",
     "output_type": "stream",
     "text": [
      "<class 'pandas.core.frame.DataFrame'>\n",
      "DatetimeIndex: 210 entries, 2020-12-22 to 2021-08-13\n",
      "Data columns (total 1 columns):\n",
      " #   Column    Non-Null Count  Dtype  \n",
      "---  ------    --------------  -----  \n",
      " 0   duration  210 non-null    float64\n",
      "dtypes: float64(1)\n",
      "memory usage: 3.3 KB\n"
     ]
    }
   ],
   "source": [
    "sleeps.info()"
   ]
  },
  {
   "cell_type": "code",
   "execution_count": 31,
   "id": "0057902a",
   "metadata": {},
   "outputs": [
    {
     "data": {
      "text/plain": [
       "Date_time\n",
       "2020-12-22    297.0\n",
       "2020-12-23    328.0\n",
       "2020-12-25    956.0\n",
       "2020-12-26    563.0\n",
       "2020-12-27    716.0\n",
       "              ...  \n",
       "2021-08-09    935.0\n",
       "2021-08-10    949.0\n",
       "2021-08-11    940.0\n",
       "2021-08-12    860.0\n",
       "2021-08-13    978.0\n",
       "Name: duration, Length: 210, dtype: float64"
      ]
     },
     "execution_count": 31,
     "metadata": {},
     "output_type": "execute_result"
    }
   ],
   "source": [
    "sleeps['duration']"
   ]
  },
  {
   "cell_type": "code",
   "execution_count": 35,
   "id": "8b247834",
   "metadata": {},
   "outputs": [],
   "source": [
    "hours = []\n",
    "for index, row in sleeps.iterrows():\n",
    "    hours.append((row[\"duration\"] /60).round(2))\n",
    "    "
   ]
  },
  {
   "cell_type": "code",
   "execution_count": 36,
   "id": "02f6a9f1",
   "metadata": {},
   "outputs": [],
   "source": [
    "sleeps['hours'] = hours"
   ]
  },
  {
   "cell_type": "code",
   "execution_count": 37,
   "id": "50394a5c",
   "metadata": {},
   "outputs": [
    {
     "data": {
      "text/html": [
       "<div>\n",
       "<style scoped>\n",
       "    .dataframe tbody tr th:only-of-type {\n",
       "        vertical-align: middle;\n",
       "    }\n",
       "\n",
       "    .dataframe tbody tr th {\n",
       "        vertical-align: top;\n",
       "    }\n",
       "\n",
       "    .dataframe thead th {\n",
       "        text-align: right;\n",
       "    }\n",
       "</style>\n",
       "<table border=\"1\" class=\"dataframe\">\n",
       "  <thead>\n",
       "    <tr style=\"text-align: right;\">\n",
       "      <th></th>\n",
       "      <th>duration</th>\n",
       "      <th>hours</th>\n",
       "    </tr>\n",
       "    <tr>\n",
       "      <th>Date_time</th>\n",
       "      <th></th>\n",
       "      <th></th>\n",
       "    </tr>\n",
       "  </thead>\n",
       "  <tbody>\n",
       "    <tr>\n",
       "      <th>2020-12-22</th>\n",
       "      <td>297.0</td>\n",
       "      <td>4.95</td>\n",
       "    </tr>\n",
       "    <tr>\n",
       "      <th>2020-12-23</th>\n",
       "      <td>328.0</td>\n",
       "      <td>5.47</td>\n",
       "    </tr>\n",
       "    <tr>\n",
       "      <th>2020-12-25</th>\n",
       "      <td>956.0</td>\n",
       "      <td>15.93</td>\n",
       "    </tr>\n",
       "    <tr>\n",
       "      <th>2020-12-26</th>\n",
       "      <td>563.0</td>\n",
       "      <td>9.38</td>\n",
       "    </tr>\n",
       "    <tr>\n",
       "      <th>2020-12-27</th>\n",
       "      <td>716.0</td>\n",
       "      <td>11.93</td>\n",
       "    </tr>\n",
       "    <tr>\n",
       "      <th>...</th>\n",
       "      <td>...</td>\n",
       "      <td>...</td>\n",
       "    </tr>\n",
       "    <tr>\n",
       "      <th>2021-08-09</th>\n",
       "      <td>935.0</td>\n",
       "      <td>15.58</td>\n",
       "    </tr>\n",
       "    <tr>\n",
       "      <th>2021-08-10</th>\n",
       "      <td>949.0</td>\n",
       "      <td>15.82</td>\n",
       "    </tr>\n",
       "    <tr>\n",
       "      <th>2021-08-11</th>\n",
       "      <td>940.0</td>\n",
       "      <td>15.67</td>\n",
       "    </tr>\n",
       "    <tr>\n",
       "      <th>2021-08-12</th>\n",
       "      <td>860.0</td>\n",
       "      <td>14.33</td>\n",
       "    </tr>\n",
       "    <tr>\n",
       "      <th>2021-08-13</th>\n",
       "      <td>978.0</td>\n",
       "      <td>16.30</td>\n",
       "    </tr>\n",
       "  </tbody>\n",
       "</table>\n",
       "<p>210 rows × 2 columns</p>\n",
       "</div>"
      ],
      "text/plain": [
       "            duration  hours\n",
       "Date_time                  \n",
       "2020-12-22     297.0   4.95\n",
       "2020-12-23     328.0   5.47\n",
       "2020-12-25     956.0  15.93\n",
       "2020-12-26     563.0   9.38\n",
       "2020-12-27     716.0  11.93\n",
       "...              ...    ...\n",
       "2021-08-09     935.0  15.58\n",
       "2021-08-10     949.0  15.82\n",
       "2021-08-11     940.0  15.67\n",
       "2021-08-12     860.0  14.33\n",
       "2021-08-13     978.0  16.30\n",
       "\n",
       "[210 rows x 2 columns]"
      ]
     },
     "execution_count": 37,
     "metadata": {},
     "output_type": "execute_result"
    }
   ],
   "source": [
    "sleeps"
   ]
  },
  {
   "cell_type": "code",
   "execution_count": 39,
   "id": "9ae8a6f4",
   "metadata": {},
   "outputs": [],
   "source": [
    "schlaf = sleeps.copy()"
   ]
  },
  {
   "cell_type": "code",
   "execution_count": 41,
   "id": "9eb40001",
   "metadata": {},
   "outputs": [],
   "source": [
    "schlaf = schlaf.drop(columns=['duration'])"
   ]
  },
  {
   "cell_type": "code",
   "execution_count": 50,
   "id": "54e02427",
   "metadata": {},
   "outputs": [
    {
     "data": {
      "text/plain": [
       "<AxesSubplot:xlabel='Date_time'>"
      ]
     },
     "execution_count": 50,
     "metadata": {},
     "output_type": "execute_result"
    },
    {
     "data": {
      "image/png": "[encoded data removed]",
      "text/plain": [
       "<Figure size 432x288 with 1 Axes>"
      ]
     },
     "metadata": {
      "needs_background": "light"
     },
     "output_type": "display_data"
    }
   ],
   "source": [
    "schlaf.plot()"
   ]
  },
  {
   "cell_type": "code",
   "execution_count": 51,
   "id": "0117feff",
   "metadata": {},
   "outputs": [
    {
     "data": {
      "text/plain": [
       "<AxesSubplot:xlabel='Date_time'>"
      ]
     },
     "execution_count": 51,
     "metadata": {},
     "output_type": "execute_result"
    },
    {
     "data": {
      "image/png": "[encoded data removed]",
      "text/plain": [
       "<Figure size 1080x720 with 1 Axes>"
      ]
     },
     "metadata": {
      "needs_background": "light"
     },
     "output_type": "display_data"
    }
   ],
   "source": [
    "schlaf.plot(figsize=(15, 10))"
   ]
  },
  {
   "cell_type": "code",
   "execution_count": 52,
   "id": "3a50bb9d",
   "metadata": {},
   "outputs": [
    {
     "data": {
      "text/html": [
       "<div>\n",
       "<style scoped>\n",
       "    .dataframe tbody tr th:only-of-type {\n",
       "        vertical-align: middle;\n",
       "    }\n",
       "\n",
       "    .dataframe tbody tr th {\n",
       "        vertical-align: top;\n",
       "    }\n",
       "\n",
       "    .dataframe thead th {\n",
       "        text-align: right;\n",
       "    }\n",
       "</style>\n",
       "<table border=\"1\" class=\"dataframe\">\n",
       "  <thead>\n",
       "    <tr style=\"text-align: right;\">\n",
       "      <th></th>\n",
       "      <th>Duration (min)</th>\n",
       "      <th>Text</th>\n",
       "      <th>date_time</th>\n",
       "    </tr>\n",
       "  </thead>\n",
       "  <tbody>\n",
       "    <tr>\n",
       "      <th>1</th>\n",
       "      <td>741.0</td>\n",
       "      <td>Émilie slept (12h21m)</td>\n",
       "      <td>2021-08-13 18:51:00</td>\n",
       "    </tr>\n",
       "    <tr>\n",
       "      <th>2</th>\n",
       "      <td>106.0</td>\n",
       "      <td>Émilie slept (1h46m)</td>\n",
       "      <td>2021-08-13 14:45:00</td>\n",
       "    </tr>\n",
       "    <tr>\n",
       "      <th>3</th>\n",
       "      <td>131.0</td>\n",
       "      <td>Émilie slept (2h11m)</td>\n",
       "      <td>2021-08-13 10:04:00</td>\n",
       "    </tr>\n",
       "    <tr>\n",
       "      <th>4</th>\n",
       "      <td>688.0</td>\n",
       "      <td>Émilie slept (11h28m)</td>\n",
       "      <td>2021-08-12 18:58:00</td>\n",
       "    </tr>\n",
       "    <tr>\n",
       "      <th>5</th>\n",
       "      <td>82.0</td>\n",
       "      <td>Emilie slept (1h22m)</td>\n",
       "      <td>2021-08-12 15:05:00</td>\n",
       "    </tr>\n",
       "    <tr>\n",
       "      <th>...</th>\n",
       "      <td>...</td>\n",
       "      <td>...</td>\n",
       "      <td>...</td>\n",
       "    </tr>\n",
       "    <tr>\n",
       "      <th>574</th>\n",
       "      <td>95.0</td>\n",
       "      <td>Emilie slept (1h35m)</td>\n",
       "      <td>2020-12-23 09:45:00</td>\n",
       "    </tr>\n",
       "    <tr>\n",
       "      <th>575</th>\n",
       "      <td>83.0</td>\n",
       "      <td>Emilie slept (1h23m)</td>\n",
       "      <td>2020-12-23 07:40:00</td>\n",
       "    </tr>\n",
       "    <tr>\n",
       "      <th>576</th>\n",
       "      <td>57.0</td>\n",
       "      <td>Emilie slept (57m)</td>\n",
       "      <td>2020-12-22 17:20:00</td>\n",
       "    </tr>\n",
       "    <tr>\n",
       "      <th>577</th>\n",
       "      <td>128.0</td>\n",
       "      <td>Emilie slept (2h08m)</td>\n",
       "      <td>2020-12-22 14:35:00</td>\n",
       "    </tr>\n",
       "    <tr>\n",
       "      <th>578</th>\n",
       "      <td>112.0</td>\n",
       "      <td>Emilie slept (1h52m)</td>\n",
       "      <td>2020-12-22 12:25:00</td>\n",
       "    </tr>\n",
       "  </tbody>\n",
       "</table>\n",
       "<p>578 rows × 3 columns</p>\n",
       "</div>"
      ],
      "text/plain": [
       "     Duration (min)                   Text           date_time\n",
       "1             741.0  Émilie slept (12h21m) 2021-08-13 18:51:00\n",
       "2             106.0   Émilie slept (1h46m) 2021-08-13 14:45:00\n",
       "3             131.0   Émilie slept (2h11m) 2021-08-13 10:04:00\n",
       "4             688.0  Émilie slept (11h28m) 2021-08-12 18:58:00\n",
       "5              82.0   Emilie slept (1h22m) 2021-08-12 15:05:00\n",
       "..              ...                    ...                 ...\n",
       "574            95.0   Emilie slept (1h35m) 2020-12-23 09:45:00\n",
       "575            83.0   Emilie slept (1h23m) 2020-12-23 07:40:00\n",
       "576            57.0     Emilie slept (57m) 2020-12-22 17:20:00\n",
       "577           128.0   Emilie slept (2h08m) 2020-12-22 14:35:00\n",
       "578           112.0   Emilie slept (1h52m) 2020-12-22 12:25:00\n",
       "\n",
       "[578 rows x 3 columns]"
      ]
     },
     "execution_count": 52,
     "metadata": {},
     "output_type": "execute_result"
    }
   ],
   "source": [
    "df"
   ]
  },
  {
   "cell_type": "code",
   "execution_count": 63,
   "id": "1648009d",
   "metadata": {},
   "outputs": [
    {
     "data": {
      "text/html": [
       "<div>\n",
       "<style scoped>\n",
       "    .dataframe tbody tr th:only-of-type {\n",
       "        vertical-align: middle;\n",
       "    }\n",
       "\n",
       "    .dataframe tbody tr th {\n",
       "        vertical-align: top;\n",
       "    }\n",
       "\n",
       "    .dataframe thead th {\n",
       "        text-align: right;\n",
       "    }\n",
       "</style>\n",
       "<table border=\"1\" class=\"dataframe\">\n",
       "  <thead>\n",
       "    <tr style=\"text-align: right;\">\n",
       "      <th></th>\n",
       "      <th>Duration (min)</th>\n",
       "      <th>Text</th>\n",
       "      <th>date_time</th>\n",
       "    </tr>\n",
       "  </thead>\n",
       "  <tbody>\n",
       "    <tr>\n",
       "      <th>401</th>\n",
       "      <td>25.0</td>\n",
       "      <td>Emilie slept (25m)</td>\n",
       "      <td>2021-02-14 11:30:00</td>\n",
       "    </tr>\n",
       "    <tr>\n",
       "      <th>402</th>\n",
       "      <td>57.0</td>\n",
       "      <td>Emilie slept (57m)</td>\n",
       "      <td>2021-02-14 08:53:00</td>\n",
       "    </tr>\n",
       "    <tr>\n",
       "      <th>403</th>\n",
       "      <td>735.0</td>\n",
       "      <td>Emilie slept (12h15m)</td>\n",
       "      <td>2021-02-13 19:00:00</td>\n",
       "    </tr>\n",
       "    <tr>\n",
       "      <th>404</th>\n",
       "      <td>39.0</td>\n",
       "      <td>Emilie slept (39m)</td>\n",
       "      <td>2021-02-13 16:20:00</td>\n",
       "    </tr>\n",
       "    <tr>\n",
       "      <th>405</th>\n",
       "      <td>39.0</td>\n",
       "      <td>Emilie slept (39m)</td>\n",
       "      <td>2021-02-13 14:05:00</td>\n",
       "    </tr>\n",
       "    <tr>\n",
       "      <th>...</th>\n",
       "      <td>...</td>\n",
       "      <td>...</td>\n",
       "      <td>...</td>\n",
       "    </tr>\n",
       "    <tr>\n",
       "      <th>574</th>\n",
       "      <td>95.0</td>\n",
       "      <td>Emilie slept (1h35m)</td>\n",
       "      <td>2020-12-23 09:45:00</td>\n",
       "    </tr>\n",
       "    <tr>\n",
       "      <th>575</th>\n",
       "      <td>83.0</td>\n",
       "      <td>Emilie slept (1h23m)</td>\n",
       "      <td>2020-12-23 07:40:00</td>\n",
       "    </tr>\n",
       "    <tr>\n",
       "      <th>576</th>\n",
       "      <td>57.0</td>\n",
       "      <td>Emilie slept (57m)</td>\n",
       "      <td>2020-12-22 17:20:00</td>\n",
       "    </tr>\n",
       "    <tr>\n",
       "      <th>577</th>\n",
       "      <td>128.0</td>\n",
       "      <td>Emilie slept (2h08m)</td>\n",
       "      <td>2020-12-22 14:35:00</td>\n",
       "    </tr>\n",
       "    <tr>\n",
       "      <th>578</th>\n",
       "      <td>112.0</td>\n",
       "      <td>Emilie slept (1h52m)</td>\n",
       "      <td>2020-12-22 12:25:00</td>\n",
       "    </tr>\n",
       "  </tbody>\n",
       "</table>\n",
       "<p>178 rows × 3 columns</p>\n",
       "</div>"
      ],
      "text/plain": [
       "     Duration (min)                   Text           date_time\n",
       "401            25.0     Emilie slept (25m) 2021-02-14 11:30:00\n",
       "402            57.0     Emilie slept (57m) 2021-02-14 08:53:00\n",
       "403           735.0  Emilie slept (12h15m) 2021-02-13 19:00:00\n",
       "404            39.0     Emilie slept (39m) 2021-02-13 16:20:00\n",
       "405            39.0     Emilie slept (39m) 2021-02-13 14:05:00\n",
       "..              ...                    ...                 ...\n",
       "574            95.0   Emilie slept (1h35m) 2020-12-23 09:45:00\n",
       "575            83.0   Emilie slept (1h23m) 2020-12-23 07:40:00\n",
       "576            57.0     Emilie slept (57m) 2020-12-22 17:20:00\n",
       "577           128.0   Emilie slept (2h08m) 2020-12-22 14:35:00\n",
       "578           112.0   Emilie slept (1h52m) 2020-12-22 12:25:00\n",
       "\n",
       "[178 rows x 3 columns]"
      ]
     },
     "execution_count": 63,
     "metadata": {},
     "output_type": "execute_result"
    }
   ],
   "source": [
    "df.iloc[400:]"
   ]
  },
  {
   "cell_type": "code",
   "execution_count": 65,
   "id": "2be43d07",
   "metadata": {},
   "outputs": [],
   "source": [
    "march = df.iloc[300:]"
   ]
  },
  {
   "cell_type": "code",
   "execution_count": 66,
   "id": "d8d52f65",
   "metadata": {},
   "outputs": [
    {
     "data": {
      "text/html": [
       "<div>\n",
       "<style scoped>\n",
       "    .dataframe tbody tr th:only-of-type {\n",
       "        vertical-align: middle;\n",
       "    }\n",
       "\n",
       "    .dataframe tbody tr th {\n",
       "        vertical-align: top;\n",
       "    }\n",
       "\n",
       "    .dataframe thead th {\n",
       "        text-align: right;\n",
       "    }\n",
       "</style>\n",
       "<table border=\"1\" class=\"dataframe\">\n",
       "  <thead>\n",
       "    <tr style=\"text-align: right;\">\n",
       "      <th></th>\n",
       "      <th>Duration (min)</th>\n",
       "      <th>Text</th>\n",
       "      <th>date_time</th>\n",
       "    </tr>\n",
       "  </thead>\n",
       "  <tbody>\n",
       "    <tr>\n",
       "      <th>301</th>\n",
       "      <td>677.0</td>\n",
       "      <td>Emilie slept (11h17m)</td>\n",
       "      <td>2021-03-07 19:04:00</td>\n",
       "    </tr>\n",
       "    <tr>\n",
       "      <th>302</th>\n",
       "      <td>42.0</td>\n",
       "      <td>Emilie slept (42m)</td>\n",
       "      <td>2021-03-07 15:10:00</td>\n",
       "    </tr>\n",
       "    <tr>\n",
       "      <th>303</th>\n",
       "      <td>73.0</td>\n",
       "      <td>Emilie slept (1h13m)</td>\n",
       "      <td>2021-03-07 12:07:00</td>\n",
       "    </tr>\n",
       "    <tr>\n",
       "      <th>304</th>\n",
       "      <td>40.0</td>\n",
       "      <td>Emilie slept (40m)</td>\n",
       "      <td>2021-03-07 08:01:00</td>\n",
       "    </tr>\n",
       "    <tr>\n",
       "      <th>305</th>\n",
       "      <td>687.0</td>\n",
       "      <td>Emilie slept (11h27m)</td>\n",
       "      <td>2021-03-06 18:55:00</td>\n",
       "    </tr>\n",
       "    <tr>\n",
       "      <th>...</th>\n",
       "      <td>...</td>\n",
       "      <td>...</td>\n",
       "      <td>...</td>\n",
       "    </tr>\n",
       "    <tr>\n",
       "      <th>574</th>\n",
       "      <td>95.0</td>\n",
       "      <td>Emilie slept (1h35m)</td>\n",
       "      <td>2020-12-23 09:45:00</td>\n",
       "    </tr>\n",
       "    <tr>\n",
       "      <th>575</th>\n",
       "      <td>83.0</td>\n",
       "      <td>Emilie slept (1h23m)</td>\n",
       "      <td>2020-12-23 07:40:00</td>\n",
       "    </tr>\n",
       "    <tr>\n",
       "      <th>576</th>\n",
       "      <td>57.0</td>\n",
       "      <td>Emilie slept (57m)</td>\n",
       "      <td>2020-12-22 17:20:00</td>\n",
       "    </tr>\n",
       "    <tr>\n",
       "      <th>577</th>\n",
       "      <td>128.0</td>\n",
       "      <td>Emilie slept (2h08m)</td>\n",
       "      <td>2020-12-22 14:35:00</td>\n",
       "    </tr>\n",
       "    <tr>\n",
       "      <th>578</th>\n",
       "      <td>112.0</td>\n",
       "      <td>Emilie slept (1h52m)</td>\n",
       "      <td>2020-12-22 12:25:00</td>\n",
       "    </tr>\n",
       "  </tbody>\n",
       "</table>\n",
       "<p>278 rows × 3 columns</p>\n",
       "</div>"
      ],
      "text/plain": [
       "     Duration (min)                   Text           date_time\n",
       "301           677.0  Emilie slept (11h17m) 2021-03-07 19:04:00\n",
       "302            42.0     Emilie slept (42m) 2021-03-07 15:10:00\n",
       "303            73.0   Emilie slept (1h13m) 2021-03-07 12:07:00\n",
       "304            40.0     Emilie slept (40m) 2021-03-07 08:01:00\n",
       "305           687.0  Emilie slept (11h27m) 2021-03-06 18:55:00\n",
       "..              ...                    ...                 ...\n",
       "574            95.0   Emilie slept (1h35m) 2020-12-23 09:45:00\n",
       "575            83.0   Emilie slept (1h23m) 2020-12-23 07:40:00\n",
       "576            57.0     Emilie slept (57m) 2020-12-22 17:20:00\n",
       "577           128.0   Emilie slept (2h08m) 2020-12-22 14:35:00\n",
       "578           112.0   Emilie slept (1h52m) 2020-12-22 12:25:00\n",
       "\n",
       "[278 rows x 3 columns]"
      ]
     },
     "execution_count": 66,
     "metadata": {},
     "output_type": "execute_result"
    }
   ],
   "source": [
    "march"
   ]
  },
  {
   "cell_type": "code",
   "execution_count": null,
   "id": "0e94e925",
   "metadata": {},
   "outputs": [],
   "source": []
  }
 ],
 "metadata": {
  "kernelspec": {
   "display_name": "Python 3 (ipykernel)",
   "language": "python",
   "name": "python3"
  },
  "language_info": {
   "codemirror_mode": {
    "name": "ipython",
    "version": 3
   },
   "file_extension": ".py",
   "mimetype": "text/x-python",
   "name": "python",
   "nbconvert_exporter": "python",
   "pygments_lexer": "ipython3",
   "version": "3.9.12"
  }
 },
 "nbformat": 4,
 "nbformat_minor": 5
}
