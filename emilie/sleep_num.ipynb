{
 "cells": [
  {
   "cell_type": "code",
   "execution_count": 1,
   "id": "bde83616",
   "metadata": {},
   "outputs": [],
   "source": [
    "import pandas as pd\n",
    "import numpy as np"
   ]
  },
  {
   "cell_type": "code",
   "execution_count": 6,
   "id": "a02f5967",
   "metadata": {},
   "outputs": [],
   "source": [
    "df = pd.read_csv('sleep.csv')"
   ]
  },
  {
   "cell_type": "code",
   "execution_count": 7,
   "id": "3b503970",
   "metadata": {},
   "outputs": [
    {
     "data": {
      "text/html": [
       "<div>\n",
       "<style scoped>\n",
       "    .dataframe tbody tr th:only-of-type {\n",
       "        vertical-align: middle;\n",
       "    }\n",
       "\n",
       "    .dataframe tbody tr th {\n",
       "        vertical-align: top;\n",
       "    }\n",
       "\n",
       "    .dataframe thead th {\n",
       "        text-align: right;\n",
       "    }\n",
       "</style>\n",
       "<table border=\"1\" class=\"dataframe\">\n",
       "  <thead>\n",
       "    <tr style=\"text-align: right;\">\n",
       "      <th></th>\n",
       "      <th>Unnamed: 0</th>\n",
       "      <th>Duration (min)</th>\n",
       "      <th>Text</th>\n",
       "      <th>date_time</th>\n",
       "    </tr>\n",
       "  </thead>\n",
       "  <tbody>\n",
       "    <tr>\n",
       "      <th>0</th>\n",
       "      <td>0</td>\n",
       "      <td>12.0</td>\n",
       "      <td>Émilie slept (12m)</td>\n",
       "      <td>2023-02-13 13:47:00</td>\n",
       "    </tr>\n",
       "    <tr>\n",
       "      <th>1</th>\n",
       "      <td>21</td>\n",
       "      <td>741.0</td>\n",
       "      <td>Émilie slept (12h21m)</td>\n",
       "      <td>2021-08-13 18:51:00</td>\n",
       "    </tr>\n",
       "    <tr>\n",
       "      <th>2</th>\n",
       "      <td>23</td>\n",
       "      <td>106.0</td>\n",
       "      <td>Émilie slept (1h46m)</td>\n",
       "      <td>2021-08-13 14:45:00</td>\n",
       "    </tr>\n",
       "    <tr>\n",
       "      <th>3</th>\n",
       "      <td>27</td>\n",
       "      <td>131.0</td>\n",
       "      <td>Émilie slept (2h11m)</td>\n",
       "      <td>2021-08-13 10:04:00</td>\n",
       "    </tr>\n",
       "    <tr>\n",
       "      <th>4</th>\n",
       "      <td>30</td>\n",
       "      <td>688.0</td>\n",
       "      <td>Émilie slept (11h28m)</td>\n",
       "      <td>2021-08-12 18:58:00</td>\n",
       "    </tr>\n",
       "    <tr>\n",
       "      <th>...</th>\n",
       "      <td>...</td>\n",
       "      <td>...</td>\n",
       "      <td>...</td>\n",
       "      <td>...</td>\n",
       "    </tr>\n",
       "    <tr>\n",
       "      <th>574</th>\n",
       "      <td>2690</td>\n",
       "      <td>95.0</td>\n",
       "      <td>Emilie slept (1h35m)</td>\n",
       "      <td>2020-12-23 09:45:00</td>\n",
       "    </tr>\n",
       "    <tr>\n",
       "      <th>575</th>\n",
       "      <td>2695</td>\n",
       "      <td>83.0</td>\n",
       "      <td>Emilie slept (1h23m)</td>\n",
       "      <td>2020-12-23 07:40:00</td>\n",
       "    </tr>\n",
       "    <tr>\n",
       "      <th>576</th>\n",
       "      <td>2708</td>\n",
       "      <td>57.0</td>\n",
       "      <td>Emilie slept (57m)</td>\n",
       "      <td>2020-12-22 17:20:00</td>\n",
       "    </tr>\n",
       "    <tr>\n",
       "      <th>577</th>\n",
       "      <td>2710</td>\n",
       "      <td>128.0</td>\n",
       "      <td>Emilie slept (2h08m)</td>\n",
       "      <td>2020-12-22 14:35:00</td>\n",
       "    </tr>\n",
       "    <tr>\n",
       "      <th>578</th>\n",
       "      <td>2713</td>\n",
       "      <td>112.0</td>\n",
       "      <td>Emilie slept (1h52m)</td>\n",
       "      <td>2020-12-22 12:25:00</td>\n",
       "    </tr>\n",
       "  </tbody>\n",
       "</table>\n",
       "<p>579 rows × 4 columns</p>\n",
       "</div>"
      ],
      "text/plain": [
       "     Unnamed: 0  Duration (min)                   Text            date_time\n",
       "0             0            12.0     Émilie slept (12m)  2023-02-13 13:47:00\n",
       "1            21           741.0  Émilie slept (12h21m)  2021-08-13 18:51:00\n",
       "2            23           106.0   Émilie slept (1h46m)  2021-08-13 14:45:00\n",
       "3            27           131.0   Émilie slept (2h11m)  2021-08-13 10:04:00\n",
       "4            30           688.0  Émilie slept (11h28m)  2021-08-12 18:58:00\n",
       "..          ...             ...                    ...                  ...\n",
       "574        2690            95.0   Emilie slept (1h35m)  2020-12-23 09:45:00\n",
       "575        2695            83.0   Emilie slept (1h23m)  2020-12-23 07:40:00\n",
       "576        2708            57.0     Emilie slept (57m)  2020-12-22 17:20:00\n",
       "577        2710           128.0   Emilie slept (2h08m)  2020-12-22 14:35:00\n",
       "578        2713           112.0   Emilie slept (1h52m)  2020-12-22 12:25:00\n",
       "\n",
       "[579 rows x 4 columns]"
      ]
     },
     "execution_count": 7,
     "metadata": {},
     "output_type": "execute_result"
    }
   ],
   "source": [
    "df"
   ]
  },
  {
   "cell_type": "code",
   "execution_count": 8,
   "id": "243a329e",
   "metadata": {},
   "outputs": [],
   "source": [
    "df = df.drop(columns=['Unnamed: 0', 'Text'])"
   ]
  },
  {
   "cell_type": "code",
   "execution_count": 9,
   "id": "ffd4a9dc",
   "metadata": {},
   "outputs": [
    {
     "data": {
      "text/html": [
       "<div>\n",
       "<style scoped>\n",
       "    .dataframe tbody tr th:only-of-type {\n",
       "        vertical-align: middle;\n",
       "    }\n",
       "\n",
       "    .dataframe tbody tr th {\n",
       "        vertical-align: top;\n",
       "    }\n",
       "\n",
       "    .dataframe thead th {\n",
       "        text-align: right;\n",
       "    }\n",
       "</style>\n",
       "<table border=\"1\" class=\"dataframe\">\n",
       "  <thead>\n",
       "    <tr style=\"text-align: right;\">\n",
       "      <th></th>\n",
       "      <th>Duration (min)</th>\n",
       "      <th>date_time</th>\n",
       "    </tr>\n",
       "  </thead>\n",
       "  <tbody>\n",
       "    <tr>\n",
       "      <th>0</th>\n",
       "      <td>12.0</td>\n",
       "      <td>2023-02-13 13:47:00</td>\n",
       "    </tr>\n",
       "    <tr>\n",
       "      <th>1</th>\n",
       "      <td>741.0</td>\n",
       "      <td>2021-08-13 18:51:00</td>\n",
       "    </tr>\n",
       "    <tr>\n",
       "      <th>2</th>\n",
       "      <td>106.0</td>\n",
       "      <td>2021-08-13 14:45:00</td>\n",
       "    </tr>\n",
       "    <tr>\n",
       "      <th>3</th>\n",
       "      <td>131.0</td>\n",
       "      <td>2021-08-13 10:04:00</td>\n",
       "    </tr>\n",
       "    <tr>\n",
       "      <th>4</th>\n",
       "      <td>688.0</td>\n",
       "      <td>2021-08-12 18:58:00</td>\n",
       "    </tr>\n",
       "    <tr>\n",
       "      <th>...</th>\n",
       "      <td>...</td>\n",
       "      <td>...</td>\n",
       "    </tr>\n",
       "    <tr>\n",
       "      <th>574</th>\n",
       "      <td>95.0</td>\n",
       "      <td>2020-12-23 09:45:00</td>\n",
       "    </tr>\n",
       "    <tr>\n",
       "      <th>575</th>\n",
       "      <td>83.0</td>\n",
       "      <td>2020-12-23 07:40:00</td>\n",
       "    </tr>\n",
       "    <tr>\n",
       "      <th>576</th>\n",
       "      <td>57.0</td>\n",
       "      <td>2020-12-22 17:20:00</td>\n",
       "    </tr>\n",
       "    <tr>\n",
       "      <th>577</th>\n",
       "      <td>128.0</td>\n",
       "      <td>2020-12-22 14:35:00</td>\n",
       "    </tr>\n",
       "    <tr>\n",
       "      <th>578</th>\n",
       "      <td>112.0</td>\n",
       "      <td>2020-12-22 12:25:00</td>\n",
       "    </tr>\n",
       "  </tbody>\n",
       "</table>\n",
       "<p>579 rows × 2 columns</p>\n",
       "</div>"
      ],
      "text/plain": [
       "     Duration (min)            date_time\n",
       "0              12.0  2023-02-13 13:47:00\n",
       "1             741.0  2021-08-13 18:51:00\n",
       "2             106.0  2021-08-13 14:45:00\n",
       "3             131.0  2021-08-13 10:04:00\n",
       "4             688.0  2021-08-12 18:58:00\n",
       "..              ...                  ...\n",
       "574            95.0  2020-12-23 09:45:00\n",
       "575            83.0  2020-12-23 07:40:00\n",
       "576            57.0  2020-12-22 17:20:00\n",
       "577           128.0  2020-12-22 14:35:00\n",
       "578           112.0  2020-12-22 12:25:00\n",
       "\n",
       "[579 rows x 2 columns]"
      ]
     },
     "execution_count": 9,
     "metadata": {},
     "output_type": "execute_result"
    }
   ],
   "source": [
    "df"
   ]
  },
  {
   "cell_type": "code",
   "execution_count": 10,
   "id": "05da9f82",
   "metadata": {},
   "outputs": [
    {
     "name": "stdout",
     "output_type": "stream",
     "text": [
      "<class 'pandas.core.frame.DataFrame'>\n",
      "RangeIndex: 579 entries, 0 to 578\n",
      "Data columns (total 2 columns):\n",
      " #   Column          Non-Null Count  Dtype  \n",
      "---  ------          --------------  -----  \n",
      " 0   Duration (min)  579 non-null    float64\n",
      " 1   date_time       579 non-null    object \n",
      "dtypes: float64(1), object(1)\n",
      "memory usage: 9.2+ KB\n"
     ]
    }
   ],
   "source": [
    "df.info()"
   ]
  },
  {
   "cell_type": "code",
   "execution_count": 11,
   "id": "d73eb39b",
   "metadata": {},
   "outputs": [],
   "source": [
    "df['date_time'] = pd.to_datetime(df['date_time'])"
   ]
  },
  {
   "cell_type": "code",
   "execution_count": 13,
   "id": "353fc6e3",
   "metadata": {},
   "outputs": [
    {
     "name": "stdout",
     "output_type": "stream",
     "text": [
      "<class 'pandas.core.frame.DataFrame'>\n",
      "RangeIndex: 579 entries, 0 to 578\n",
      "Data columns (total 2 columns):\n",
      " #   Column          Non-Null Count  Dtype         \n",
      "---  ------          --------------  -----         \n",
      " 0   Duration (min)  579 non-null    float64       \n",
      " 1   date_time       579 non-null    datetime64[ns]\n",
      "dtypes: datetime64[ns](1), float64(1)\n",
      "memory usage: 9.2 KB\n"
     ]
    }
   ],
   "source": [
    "df.info()"
   ]
  },
  {
   "cell_type": "code",
   "execution_count": null,
   "id": "78be3dbe",
   "metadata": {},
   "outputs": [],
   "source": []
  }
 ],
 "metadata": {
  "kernelspec": {
   "display_name": "Python 3 (ipykernel)",
   "language": "python",
   "name": "python3"
  },
  "language_info": {
   "codemirror_mode": {
    "name": "ipython",
    "version": 3
   },
   "file_extension": ".py",
   "mimetype": "text/x-python",
   "name": "python",
   "nbconvert_exporter": "python",
   "pygments_lexer": "ipython3",
   "version": "3.9.12"
  }
 },
 "nbformat": 4,
 "nbformat_minor": 5
}
