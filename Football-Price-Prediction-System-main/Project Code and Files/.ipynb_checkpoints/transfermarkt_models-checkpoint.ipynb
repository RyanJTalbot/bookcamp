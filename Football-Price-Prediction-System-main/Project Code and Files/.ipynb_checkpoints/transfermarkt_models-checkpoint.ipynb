{
 "cells": [
  {
   "cell_type": "code",
   "execution_count": null,
   "metadata": {
    "colab": {
     "base_uri": "https://localhost:8080/"
    },
    "id": "XaL4EHOG-ws6",
    "outputId": "fedca908-d85f-49cb-f85e-91cdf418250e"
   },
   "outputs": [
    {
     "name": "stdout",
     "output_type": "stream",
     "text": [
      "Requirement already satisfied: pandas in /usr/local/lib/python3.7/dist-packages (1.3.5)\n",
      "Requirement already satisfied: python-dateutil>=2.7.3 in /usr/local/lib/python3.7/dist-packages (from pandas) (2.8.2)\n",
      "Requirement already satisfied: pytz>=2017.3 in /usr/local/lib/python3.7/dist-packages (from pandas) (2022.1)\n",
      "Requirement already satisfied: numpy>=1.17.3 in /usr/local/lib/python3.7/dist-packages (from pandas) (1.21.6)\n",
      "Requirement already satisfied: six>=1.5 in /usr/local/lib/python3.7/dist-packages (from python-dateutil>=2.7.3->pandas) (1.15.0)\n"
     ]
    }
   ],
   "source": [
    "!pip install pandas"
   ]
  },
  {
   "cell_type": "code",
   "execution_count": null,
   "metadata": {
    "id": "W1D4kBP4-oU2"
   },
   "outputs": [],
   "source": [
    "import requests\n",
    "from bs4 import BeautifulSoup\n",
    "import pandas as pd \n",
    "import numpy as np"
   ]
  },
  {
   "cell_type": "code",
   "execution_count": null,
   "metadata": {
    "colab": {
     "base_uri": "https://localhost:8080/"
    },
    "id": "0rqy896KzzTc",
    "outputId": "6200da2f-80ad-4445-9b93-8a089d12407a"
   },
   "outputs": [
    {
     "name": "stdout",
     "output_type": "stream",
     "text": [
      "Mounted at /content/drive/\n"
     ]
    }
   ],
   "source": [
    "from google.colab import drive\n",
    "drive.mount('/content/drive/', force_remount=True)"
   ]
  },
  {
   "cell_type": "code",
   "execution_count": null,
   "metadata": {
    "id": "oT1xhL1dCdtv"
   },
   "outputs": [],
   "source": [
    "exchange_rate = 1.09745390694"
   ]
  },
  {
   "cell_type": "code",
   "execution_count": null,
   "metadata": {
    "id": "qkThAxvr_IyP"
   },
   "outputs": [],
   "source": [
    "\n",
    "\n",
    "def scrapeDataframeForFootballTeam(page, teamName):\n",
    "  PlayersList = []\n",
    "  ValuesList = []\n",
    "  listOfPlayer = []\n",
    "  playerAndValueList = []\n",
    "  headers = {'User-Agent': \n",
    "       'Mozilla/5.0 (X11; Linux x86_64) AppleWebKit/537.36 (KHTML, like Gecko) Chrome/47.0.2526.106 Safari/537.36'}\n",
    "  pageTree = requests.get(page, headers=headers)\n",
    "  pageSoup = BeautifulSoup(pageTree.content, 'html.parser')\n",
    "\n",
    "  PlayersList =   pageSoup.find_all(\"td\", {\"class\": \"hauptlink\"})\n",
    "  #print(PlayersList)\n",
    "  \n",
    "  #PlayersListNames =   pageSoup.find_all('a', title=True,class_= \"di nowrap\")\n",
    "  #PlayersListVal = pageSoup.find_all(\"title\", {\"class\": \"hauptlink\"})\n",
    "  Values = pageSoup.find_all(\"td\", {\"class\": \"rechts hauptlink\"})\n",
    "\n",
    "  ValuesList = []\n",
    "  PlayersListValue = []\n",
    "  length = len(Values)\n",
    "  #print(\"length of values\",length)\n",
    "  lengthOfPlayer = len(PlayersList)\n",
    "  \n",
    "\n",
    "  #print(PlayersListName)\n",
    "  for i in range(0,length):\n",
    "      valueCleaned = Values[i].text.replace(\"\\xa0\", \"\")\n",
    "      valueCleaned = valueCleaned.replace(\"£\", \"\")\n",
    "      valueCleaned =  valueCleaned.replace(\"m\", \"\")\n",
    "      sizeOfValue = len(valueCleaned)\n",
    "      if \"Th.\" in valueCleaned:\n",
    "          valueCleaned =  valueCleaned.replace(\"Th.\", \"\")\n",
    "          valueCleaned = float(valueCleaned)*(1000)*exchange_rate\n",
    "          ValuesList.append(valueCleaned)\n",
    "          continue\n",
    "      if sizeOfValue == 0:\n",
    "          valueCleaned = 0\n",
    "          ValuesList.append(valueCleaned)\n",
    "          continue\n",
    "      else:\n",
    "          valueCleaned = float(valueCleaned)*(1000000)*exchange_rate\n",
    "          ValuesList.append(valueCleaned)\n",
    "\n",
    "  for i in range(0,length):\n",
    "      PlayersListValue.append(PlayersList[i].text)\n",
    "\n",
    "  for i in range(0,len(PlayersList),2):\n",
    "      playerName = PlayersList[i].text\n",
    "      indexOfFullStop = playerName.find(\".\")\n",
    "      if(indexOfFullStop > -1):\n",
    "        playerName = playerName[0:indexOfFullStop-1]\n",
    "        listOfPlayer.append(playerName)\n",
    "      else:\n",
    "        indextoSplitTo = len(playerName)/2\n",
    "        playerName = playerName[0:int(indextoSplitTo)]\n",
    "        listOfPlayer.append(playerName)\n",
    "\n",
    "  df = pd.DataFrame({\"Players\":listOfPlayer[0:len(ValuesList)],\"Values\":ValuesList})\n",
    "  \n",
    "  filepath = teamName + \".csv\"\n",
    "  df.to_csv(\"/content/drive/MyDrive/footballTeamData/\" + filepath)"
   ]
  },
  {
   "cell_type": "code",
   "execution_count": null,
   "metadata": {
    "id": "f-Z6jrBjxhTQ"
   },
   "outputs": [],
   "source": [
    "pageSpanish = [\"https://www.transfermarkt.co.uk/rayo-vallecano/startseite/verein/367?saison_id=2020\", \"https://www.transfermarkt.co.uk/atletico-de-madrid/startseite/verein/13?saison_id=2020\", \"https://www.transfermarkt.co.uk/real-madrid/startseite/verein/418?saison_id=2020\", \"https://www.transfermarkt.co.uk/fc-barcelona/startseite/verein/131?saison_id=2020\", \"https://www.transfermarkt.co.uk/fc-sevilla/startseite/verein/368?saison_id=2020\",\"https://www.transfermarkt.co.uk/real-sociedad-san-sebastian/startseite/verein/681?saison_id=2020\",\"https://www.transfermarkt.co.uk/real-betis-sevilla/startseite/verein/150?saison_id=2020\",\"https://www.transfermarkt.co.uk/fc-villarreal/startseite/verein/1050?saison_id=2020\",\"https://www.transfermarkt.co.uk/celta-vigo/startseite/verein/940?saison_id=2020\",\"https://www.transfermarkt.co.uk/athletic-bilbao/startseite/verein/621?saison_id=2020\", \"https://www.transfermarkt.co.uk/fc-granada/startseite/verein/16795?saison_id=2020\", \"https://www.transfermarkt.co.uk/ca-osasuna/startseite/verein/331?saison_id=2020\", \"https://www.transfermarkt.co.uk/fc-cadiz/startseite/verein/2687?saison_id=2020\", \"https://www.transfermarkt.co.uk/fc-valencia/startseite/verein/1049?saison_id=2020\", \"https://www.transfermarkt.co.uk/ud-levante/startseite/verein/3368?saison_id=2020\", \"https://www.transfermarkt.co.uk/fc-getafe/startseite/verein/3709?saison_id=2020\", \"https://www.transfermarkt.co.uk/deportivo-alaves/startseite/verein/1108?saison_id=2020\", \"https://www.transfermarkt.co.uk/fc-elche/startseite/verein/1531?saison_id=2020\",\"https://www.transfermarkt.co.uk/sd-huesca/startseite/verein/5358?saison_id=2020\",\"https://www.transfermarkt.co.uk/real-valladolid/spielplan/verein/366?saison_id=2020\",\"https://www.transfermarkt.co.uk/sd-eibar/startseite/verein/1533?saison_id=2020\"]"
   ]
  },
  {
   "cell_type": "code",
   "execution_count": null,
   "metadata": {
    "id": "vb80tUG5fxek"
   },
   "outputs": [],
   "source": [
    "for i in range(len(pageSpanish)):\n",
    "  scrapeDataframeForFootballTeam(pageSpanish[i], \"spanishTeam\" + str(i))"
   ]
  },
  {
   "cell_type": "code",
   "execution_count": null,
   "metadata": {
    "id": "Z4Mzx2WV4y0g"
   },
   "outputs": [],
   "source": [
    "pageFrench = [\"https://www.transfermarkt.co.uk/fc-paris-saint-germain/startseite/verein/583/saison_id/2020\",\"https://www.transfermarkt.co.uk/olympique-lyon/startseite/verein/1041/saison_id/2020\",\"https://www.transfermarkt.co.uk/as-monaco/startseite/verein/162/saison_id/2020\",\"https://www.transfermarkt.co.uk/losc-lille/startseite/verein/1082/saison_id/2020\",\"https://www.transfermarkt.co.uk/fc-stade-rennes/startseite/verein/273/saison_id/2020\",\"https://www.transfermarkt.co.uk/olympique-marseille/startseite/verein/244/saison_id/2020\",\"https://www.transfermarkt.co.uk/ogc-nizza/startseite/verein/417/saison_id/2020\",\"https://www.transfermarkt.co.uk/as-saint-etienne/startseite/verein/618/saison_id/2020\",\"https://www.transfermarkt.co.uk/montpellier-hsc/startseite/verein/969/saison_id/2020\",\"https://www.transfermarkt.co.uk/sco-angers/startseite/verein/1420/saison_id/2020\",\"https://www.transfermarkt.co.uk/rc-strassburg-alsace/startseite/verein/667/saison_id/2020\",\"https://www.transfermarkt.co.uk/fc-girondins-bordeaux/startseite/verein/40/saison_id/2020\",\"https://www.transfermarkt.co.uk/stade-reims/startseite/verein/1421/saison_id/2020\",\"https://www.transfermarkt.co.uk/rc-lens/startseite/verein/826/saison_id/2020\",\"https://www.transfermarkt.co.uk/fc-nantes/startseite/verein/995/saison_id/2020\", \"https://www.transfermarkt.co.uk/fc-lorient/startseite/verein/1158/saison_id/2020\", \"https://www.transfermarkt.co.uk/dijon-fco/startseite/verein/2969/saison_id/2020\", \"https://www.transfermarkt.co.uk/nimes-olympique/startseite/verein/1160/saison_id/2020\"]"
   ]
  },
  {
   "cell_type": "code",
   "execution_count": null,
   "metadata": {
    "id": "Usi8gBzh5GYW"
   },
   "outputs": [],
   "source": [
    "for i in range(len(pageFrench)):\n",
    "  scrapeDataframeForFootballTeam(pageFrench[i], \"frenchTeam\" + str(i))"
   ]
  },
  {
   "cell_type": "code",
   "execution_count": null,
   "metadata": {
    "id": "Nu8cqkCg4y_o"
   },
   "outputs": [],
   "source": [
    "pageItaly = [\"https://www.transfermarkt.co.uk/inter-mailand/startseite/verein/46/saison_id/2020\",\"https://www.transfermarkt.co.uk/juventus-turin/startseite/verein/506/saison_id/2020\",\"https://www.transfermarkt.co.uk/ac-mailand/startseite/verein/5/saison_id/2020\",\"https://www.transfermarkt.co.uk/ssc-neapel/startseite/verein/6195/saison_id/2020\",\"https://www.transfermarkt.co.uk/atalanta-bergamo/startseite/verein/800/saison_id/2020\",\"https://www.transfermarkt.co.uk/as-rom/startseite/verein/12/saison_id/2020\",\"https://www.transfermarkt.co.uk/lazio-rom/startseite/verein/398/saison_id/2020\",\"https://www.transfermarkt.co.uk/ac-florenz/startseite/verein/430/saison_id/2020\",\"https://www.transfermarkt.co.uk/us-sassuolo/startseite/verein/6574/saison_id/2020\",\"https://www.transfermarkt.co.uk/cagliari-calcio/startseite/verein/1390/saison_id/2020\",\"https://www.transfermarkt.co.uk/fc-turin/startseite/verein/416/saison_id/2020\",\"https://www.transfermarkt.co.uk/udinese-calcio/startseite/verein/410/saison_id/2020\",\"https://www.transfermarkt.co.uk/hellas-verona/startseite/verein/276/saison_id/2020\",\"https://www.transfermarkt.co.uk/fc-bologna/startseite/verein/1025/saison_id/2020\",\"https://www.transfermarkt.co.uk/parma-calcio-1913/startseite/verein/130/saison_id/2020\",\"https://www.transfermarkt.co.uk/sampdoria-genua/startseite/verein/1038/saison_id/2020\",\"https://www.transfermarkt.co.uk/genua-cfc/startseite/verein/252/saison_id/2020\",\"https://www.transfermarkt.co.uk/spezia-calcio/startseite/verein/3522/saison_id/2020\",\"https://www.transfermarkt.co.uk/fc-crotone/startseite/verein/4083/saison_id/2020\",\"https://www.transfermarkt.co.uk/benevento-calcio/startseite/verein/4171/saison_id/2020\"] "
   ]
  },
  {
   "cell_type": "code",
   "execution_count": null,
   "metadata": {
    "id": "LnGgASOd5G-n"
   },
   "outputs": [],
   "source": [
    "for i in range(len(pageItaly)):\n",
    "  scrapeDataframeForFootballTeam(pageItaly[i], \"italyTeam\" + str(i))"
   ]
  },
  {
   "cell_type": "code",
   "execution_count": null,
   "metadata": {
    "id": "Mndf01EC4zH6"
   },
   "outputs": [],
   "source": [
    "pageGermany =  [\"https://www.transfermarkt.co.uk/bayern-munich/startseite/verein/27?saison_id=2020\",\"https://www.transfermarkt.co.uk/borussia-dortmund/startseite/verein/16?saison_id=2020\",\"https://www.transfermarkt.co.uk/rb-leipzig/startseite/verein/23826?saison_id=2020\",\"https://www.transfermarkt.co.uk/bayer-04-leverkusen/startseite/verein/15?saison_id=2020\",\"https://www.transfermarkt.co.uk/vfl-wolfsburg/startseite/verein/82?saison_id=2020\",\"https://www.transfermarkt.co.uk/borussia-monchengladbach/startseite/verein/18?saison_id=2020\",\"https://www.transfermarkt.co.uk/tsg-1899-hoffenheim/startseite/verein/533?saison_id=2020\",\"https://www.transfermarkt.co.uk/eintracht-frankfurt/startseite/verein/24?saison_id=2020\",\"https://www.transfermarkt.co.uk/vfb-stuttgart/startseite/verein/79?saison_id=2020\",\"https://www.transfermarkt.co.uk/sc-freiburg/startseite/verein/60?saison_id=2020\",\"https://www.transfermarkt.co.uk/1-fsv-mainz-05/startseite/verein/39?saison_id=2020\",\"https://www.transfermarkt.co.uk/fc-augsburg/startseite/verein/167?saison_id=2020\",\"https://www.transfermarkt.co.uk/hertha-bsc/startseite/verein/44?saison_id=2020\",\"https://www.transfermarkt.co.uk/1-fc-koln/startseite/verein/3?saison_id=2020\",\"https://www.transfermarkt.co.uk/1-fc-union-berlin/startseite/verein/89?saison_id=2020\",\"https://www.transfermarkt.co.uk/arminia-bielefeld/startseite/verein/10?saison_id=2020\",\"https://www.transfermarkt.co.uk/vfl-bochum/startseite/verein/80?saison_id=2020\",\"https://www.transfermarkt.co.uk/spvgg-greuther-furth/startseite/verein/65?saison_id=2020\"]"
   ]
  },
  {
   "cell_type": "code",
   "execution_count": null,
   "metadata": {
    "id": "xtF71qPg5HfH"
   },
   "outputs": [],
   "source": [
    "for i in range(len(pageGermany)):\n",
    "  scrapeDataframeForFootballTeam(pageGermany[i], \"germanTeam\" + str(i))"
   ]
  },
  {
   "cell_type": "code",
   "execution_count": null,
   "metadata": {
    "id": "0IRACeDu4zKT"
   },
   "outputs": [],
   "source": [
    "pageEnglish =[\"https://www.transfermarkt.co.uk/manchester-city/startseite/verein/281?saison_id=2020\",\"https://www.transfermarkt.co.uk/manchester-united/startseite/verein/985?saison_id=2020\",\"https://www.transfermarkt.co.uk/liverpool-fc/startseite/verein/31?saison_id=2020\",\"https://www.transfermarkt.co.uk/chelsea-fc/startseite/verein/631?saison_id=2020\",\"https://www.transfermarkt.co.uk/leicester-city/startseite/verein/1003?saison_id=2020\",\"https://www.transfermarkt.co.uk/west-ham-united/startseite/verein/379?saison_id=2020\",\"https://www.transfermarkt.co.uk/tottenham-hotspur/startseite/verein/148?saison_id=2020\",\"https://www.transfermarkt.co.uk/arsenal-fc/startseite/verein/11?saison_id=2020\",\"https://www.transfermarkt.co.uk/leeds-united/startseite/verein/399?saison_id=2020\",\"https://www.transfermarkt.co.uk/everton-fc/startseite/verein/29?saison_id=2020\",\"https://www.transfermarkt.co.uk/aston-villa/startseite/verein/405?saison_id=2020\",\"https://www.transfermarkt.co.uk/newcastle-united/startseite/verein/762?saison_id=2020\",\"https://www.transfermarkt.co.uk/wolverhampton-wanderers/startseite/verein/543?saison_id=2020\",\"https://www.transfermarkt.co.uk/crystal-palace/startseite/verein/873?saison_id=2020\",\"https://www.transfermarkt.co.uk/southampton-fc/startseite/verein/180?saison_id=2020\",\"https://www.transfermarkt.co.uk/brighton-amp-hove-albion/startseite/verein/1237?saison_id=2020\",\"https://www.transfermarkt.co.uk/burnley-fc/startseite/verein/1132?saison_id=2020\",\"https://www.transfermarkt.co.uk/fulham-fc/startseite/verein/931?saison_id=2020\",\"https://www.transfermarkt.co.uk/west-bromwich-albion/startseite/verein/984?saison_id=2020\",\"https://www.transfermarkt.co.uk/sheffield-united/startseite/verein/350?saison_id=2020\"]"
   ]
  },
  {
   "cell_type": "code",
   "execution_count": null,
   "metadata": {
    "id": "nOiA3Lqb5CLG"
   },
   "outputs": [],
   "source": [
    "for i in range(len(pageEnglish)):\n",
    "  scrapeDataframeForFootballTeam(pageEnglish[i], \"englishTeam\" + str(i))"
   ]
  },
  {
   "cell_type": "code",
   "execution_count": null,
   "metadata": {
    "id": "qRtK9_IEVXwo"
   },
   "outputs": [],
   "source": [
    "\n",
    "import cv2\n",
    "import glob\n",
    "\n",
    "all_files = \"/content/drive/MyDrive/footballTeamData/*.*\"\n",
    "listOfDfs= []\n",
    "\n",
    "\n",
    "for filename in glob.glob(all_files):\n",
    "  df = pd.read_csv(filename, index_col=None, header=0)\n",
    "  listOfDfs.append(df)\n",
    "\n",
    "joinedDataframe = pd.concat(listOfDfs, axis=0, ignore_index=True)"
   ]
  },
  {
   "cell_type": "code",
   "execution_count": null,
   "metadata": {
    "id": "MMWAG30YXWFL"
   },
   "outputs": [],
   "source": [
    "columnsOfJoinedDf = joinedDataframe.columns.tolist()"
   ]
  },
  {
   "cell_type": "code",
   "execution_count": null,
   "metadata": {
    "id": "pUZNJX4yW43w"
   },
   "outputs": [],
   "source": [
    "joinedDataframe.drop([columnsOfJoinedDf[0]], axis=1, inplace=True)"
   ]
  },
  {
   "cell_type": "code",
   "execution_count": null,
   "metadata": {
    "colab": {
     "base_uri": "https://localhost:8080/",
     "height": 423
    },
    "id": "1LrbdQ1YXtI3",
    "outputId": "633c08d8-ea42-4f0c-b75b-36be26efa1a1"
   },
   "outputs": [
    {
     "data": {
      "text/html": [
       "\n",
       "  <div id=\"df-d4eb9f13-8060-4f36-ad2f-232401db718f\">\n",
       "    <div class=\"colab-df-container\">\n",
       "      <div>\n",
       "<style scoped>\n",
       "    .dataframe tbody tr th:only-of-type {\n",
       "        vertical-align: middle;\n",
       "    }\n",
       "\n",
       "    .dataframe tbody tr th {\n",
       "        vertical-align: top;\n",
       "    }\n",
       "\n",
       "    .dataframe thead th {\n",
       "        text-align: right;\n",
       "    }\n",
       "</style>\n",
       "<table border=\"1\" class=\"dataframe\">\n",
       "  <thead>\n",
       "    <tr style=\"text-align: right;\">\n",
       "      <th></th>\n",
       "      <th>Players</th>\n",
       "      <th>Values</th>\n",
       "    </tr>\n",
       "  </thead>\n",
       "  <tbody>\n",
       "    <tr>\n",
       "      <th>0</th>\n",
       "      <td>Stole Dimitrievski</td>\n",
       "      <td>1.185250e+06</td>\n",
       "    </tr>\n",
       "    <tr>\n",
       "      <th>1</th>\n",
       "      <td>Luca Zidane</td>\n",
       "      <td>9.877085e+05</td>\n",
       "    </tr>\n",
       "    <tr>\n",
       "      <th>2</th>\n",
       "      <td>Miguel Ángel Morro</td>\n",
       "      <td>5.926251e+05</td>\n",
       "    </tr>\n",
       "    <tr>\n",
       "      <th>3</th>\n",
       "      <td>Alberto García</td>\n",
       "      <td>9.877085e+04</td>\n",
       "    </tr>\n",
       "    <tr>\n",
       "      <th>4</th>\n",
       "      <td>Roberto González</td>\n",
       "      <td>0.000000e+00</td>\n",
       "    </tr>\n",
       "    <tr>\n",
       "      <th>...</th>\n",
       "      <td>...</td>\n",
       "      <td>...</td>\n",
       "    </tr>\n",
       "    <tr>\n",
       "      <th>3624</th>\n",
       "      <td>David McGoldrick</td>\n",
       "      <td>1.481563e+06</td>\n",
       "    </tr>\n",
       "    <tr>\n",
       "      <th>3625</th>\n",
       "      <td>Daniel Jebbison</td>\n",
       "      <td>9.877085e+05</td>\n",
       "    </tr>\n",
       "    <tr>\n",
       "      <th>3626</th>\n",
       "      <td>Billy Sharp</td>\n",
       "      <td>4.938543e+05</td>\n",
       "    </tr>\n",
       "    <tr>\n",
       "      <th>3627</th>\n",
       "      <td>Antwoine Hackford</td>\n",
       "      <td>9.877085e+04</td>\n",
       "    </tr>\n",
       "    <tr>\n",
       "      <th>3628</th>\n",
       "      <td>William Osula</td>\n",
       "      <td>0.000000e+00</td>\n",
       "    </tr>\n",
       "  </tbody>\n",
       "</table>\n",
       "<p>3629 rows × 2 columns</p>\n",
       "</div>\n",
       "      <button class=\"colab-df-convert\" onclick=\"convertToInteractive('df-d4eb9f13-8060-4f36-ad2f-232401db718f')\"\n",
       "              title=\"Convert this dataframe to an interactive table.\"\n",
       "              style=\"display:none;\">\n",
       "        \n",
       "  <svg xmlns=\"http://www.w3.org/2000/svg\" height=\"24px\"viewBox=\"0 0 24 24\"\n",
       "       width=\"24px\">\n",
       "    <path d=\"M0 0h24v24H0V0z\" fill=\"none\"/>\n",
       "    <path d=\"M18.56 5.44l.94 2.06.94-2.06 2.06-.94-2.06-.94-.94-2.06-.94 2.06-2.06.94zm-11 1L8.5 8.5l.94-2.06 2.06-.94-2.06-.94L8.5 2.5l-.94 2.06-2.06.94zm10 10l.94 2.06.94-2.06 2.06-.94-2.06-.94-.94-2.06-.94 2.06-2.06.94z\"/><path d=\"M17.41 7.96l-1.37-1.37c-.4-.4-.92-.59-1.43-.59-.52 0-1.04.2-1.43.59L10.3 9.45l-7.72 7.72c-.78.78-.78 2.05 0 2.83L4 21.41c.39.39.9.59 1.41.59.51 0 1.02-.2 1.41-.59l7.78-7.78 2.81-2.81c.8-.78.8-2.07 0-2.86zM5.41 20L4 18.59l7.72-7.72 1.47 1.35L5.41 20z\"/>\n",
       "  </svg>\n",
       "      </button>\n",
       "      \n",
       "  <style>\n",
       "    .colab-df-container {\n",
       "      display:flex;\n",
       "      flex-wrap:wrap;\n",
       "      gap: 12px;\n",
       "    }\n",
       "\n",
       "    .colab-df-convert {\n",
       "      background-color: #E8F0FE;\n",
       "      border: none;\n",
       "      border-radius: 50%;\n",
       "      cursor: pointer;\n",
       "      display: none;\n",
       "      fill: #1967D2;\n",
       "      height: 32px;\n",
       "      padding: 0 0 0 0;\n",
       "      width: 32px;\n",
       "    }\n",
       "\n",
       "    .colab-df-convert:hover {\n",
       "      background-color: #E2EBFA;\n",
       "      box-shadow: 0px 1px 2px rgba(60, 64, 67, 0.3), 0px 1px 3px 1px rgba(60, 64, 67, 0.15);\n",
       "      fill: #174EA6;\n",
       "    }\n",
       "\n",
       "    [theme=dark] .colab-df-convert {\n",
       "      background-color: #3B4455;\n",
       "      fill: #D2E3FC;\n",
       "    }\n",
       "\n",
       "    [theme=dark] .colab-df-convert:hover {\n",
       "      background-color: #434B5C;\n",
       "      box-shadow: 0px 1px 3px 1px rgba(0, 0, 0, 0.15);\n",
       "      filter: drop-shadow(0px 1px 2px rgba(0, 0, 0, 0.3));\n",
       "      fill: #FFFFFF;\n",
       "    }\n",
       "  </style>\n",
       "\n",
       "      <script>\n",
       "        const buttonEl =\n",
       "          document.querySelector('#df-d4eb9f13-8060-4f36-ad2f-232401db718f button.colab-df-convert');\n",
       "        buttonEl.style.display =\n",
       "          google.colab.kernel.accessAllowed ? 'block' : 'none';\n",
       "\n",
       "        async function convertToInteractive(key) {\n",
       "          const element = document.querySelector('#df-d4eb9f13-8060-4f36-ad2f-232401db718f');\n",
       "          const dataTable =\n",
       "            await google.colab.kernel.invokeFunction('convertToInteractive',\n",
       "                                                     [key], {});\n",
       "          if (!dataTable) return;\n",
       "\n",
       "          const docLinkHtml = 'Like what you see? Visit the ' +\n",
       "            '<a target=\"_blank\" href=https://colab.research.google.com/notebooks/data_table.ipynb>data table notebook</a>'\n",
       "            + ' to learn more about interactive tables.';\n",
       "          element.innerHTML = '';\n",
       "          dataTable['output_type'] = 'display_data';\n",
       "          await google.colab.output.renderOutput(dataTable, element);\n",
       "          const docLink = document.createElement('div');\n",
       "          docLink.innerHTML = docLinkHtml;\n",
       "          element.appendChild(docLink);\n",
       "        }\n",
       "      </script>\n",
       "    </div>\n",
       "  </div>\n",
       "  "
      ],
      "text/plain": [
       "                 Players        Values\n",
       "0     Stole Dimitrievski  1.185250e+06\n",
       "1            Luca Zidane  9.877085e+05\n",
       "2     Miguel Ángel Morro  5.926251e+05\n",
       "3         Alberto García  9.877085e+04\n",
       "4       Roberto González  0.000000e+00\n",
       "...                  ...           ...\n",
       "3624    David McGoldrick  1.481563e+06\n",
       "3625     Daniel Jebbison  9.877085e+05\n",
       "3626         Billy Sharp  4.938543e+05\n",
       "3627   Antwoine Hackford  9.877085e+04\n",
       "3628       William Osula  0.000000e+00\n",
       "\n",
       "[3629 rows x 2 columns]"
      ]
     },
     "execution_count": 20,
     "metadata": {},
     "output_type": "execute_result"
    }
   ],
   "source": [
    "joinedDataframe"
   ]
  },
  {
   "cell_type": "code",
   "execution_count": null,
   "metadata": {
    "id": "m1aTV_47YRx1"
   },
   "outputs": [],
   "source": [
    "joinedDataframe.replace(0, np.nan, inplace=True)"
   ]
  },
  {
   "cell_type": "code",
   "execution_count": null,
   "metadata": {
    "id": "EyNAEOnLYUw5"
   },
   "outputs": [],
   "source": [
    "joinedDataframe.dropna(inplace=True)"
   ]
  },
  {
   "cell_type": "code",
   "execution_count": null,
   "metadata": {
    "colab": {
     "base_uri": "https://localhost:8080/"
    },
    "id": "I9wsIDfpYuop",
    "outputId": "3a80b804-5d71-4156-fee8-60c685a954fc"
   },
   "outputs": [
    {
     "data": {
      "text/plain": [
       "(3461, 2)"
      ]
     },
     "execution_count": 23,
     "metadata": {},
     "output_type": "execute_result"
    }
   ],
   "source": [
    "joinedDataframe.shape"
   ]
  },
  {
   "cell_type": "code",
   "execution_count": null,
   "metadata": {
    "colab": {
     "base_uri": "https://localhost:8080/"
    },
    "id": "yFWTWTacZTNx",
    "outputId": "ec7afa76-43e9-4f5d-f1e5-7308ebec4639"
   },
   "outputs": [
    {
     "data": {
      "text/plain": [
       "<bound method NDFrame.tail of                  Players        Values\n",
       "0     Stole Dimitrievski  1.185250e+06\n",
       "1            Luca Zidane  9.877085e+05\n",
       "2     Miguel Ángel Morro  5.926251e+05\n",
       "3         Alberto García  9.877085e+04\n",
       "5       Alejandro Catena  2.469271e+06\n",
       "...                  ...           ...\n",
       "3623        Oliver Burke  5.926251e+06\n",
       "3624    David McGoldrick  1.481563e+06\n",
       "3625     Daniel Jebbison  9.877085e+05\n",
       "3626         Billy Sharp  4.938543e+05\n",
       "3627   Antwoine Hackford  9.877085e+04\n",
       "\n",
       "[3461 rows x 2 columns]>"
      ]
     },
     "execution_count": 24,
     "metadata": {},
     "output_type": "execute_result"
    }
   ],
   "source": [
    "joinedDataframe.tail"
   ]
  },
  {
   "cell_type": "code",
   "execution_count": null,
   "metadata": {
    "id": "ZoZn0bWtxpxC"
   },
   "outputs": [],
   "source": [
    "  filepathForConcatenatedDataframe = \"joinedDataframe.csv\"\n",
    "  joinedDataframe.to_csv(\"/content/drive/MyDrive/footballTeamData/\" + filepathForConcatenatedDataframe)"
   ]
  }
 ],
 "metadata": {
  "accelerator": "GPU",
  "colab": {
   "collapsed_sections": [],
   "machine_shape": "hm",
   "name": "transfermarkt_webscraping.ipynb",
   "provenance": []
  },
  "kernelspec": {
   "display_name": "Python 3 (ipykernel)",
   "language": "python",
   "name": "python3"
  },
  "language_info": {
   "codemirror_mode": {
    "name": "ipython",
    "version": 3
   },
   "file_extension": ".py",
   "mimetype": "text/x-python",
   "name": "python",
   "nbconvert_exporter": "python",
   "pygments_lexer": "ipython3",
   "version": "3.9.12"
  }
 },
 "nbformat": 4,
 "nbformat_minor": 1
}
