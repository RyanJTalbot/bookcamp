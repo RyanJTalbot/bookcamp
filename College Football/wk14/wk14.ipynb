{
 "cells": [
  {
   "cell_type": "code",
   "execution_count": 1,
   "metadata": {},
   "outputs": [],
   "source": [
    "import pandas as pd \n",
    "import numpy as np"
   ]
  },
  {
   "cell_type": "code",
   "execution_count": 3,
   "metadata": {},
   "outputs": [],
   "source": [
    "df = pd.read_csv('wk15.csv')"
   ]
  },
  {
   "cell_type": "code",
   "execution_count": 4,
   "metadata": {},
   "outputs": [
    {
     "data": {
      "text/html": [
       "<div>\n",
       "<style scoped>\n",
       "    .dataframe tbody tr th:only-of-type {\n",
       "        vertical-align: middle;\n",
       "    }\n",
       "\n",
       "    .dataframe tbody tr th {\n",
       "        vertical-align: top;\n",
       "    }\n",
       "\n",
       "    .dataframe thead th {\n",
       "        text-align: right;\n",
       "    }\n",
       "</style>\n",
       "<table border=\"1\" class=\"dataframe\">\n",
       "  <thead>\n",
       "    <tr style=\"text-align: right;\">\n",
       "      <th></th>\n",
       "      <th>Wk</th>\n",
       "      <th>Date</th>\n",
       "      <th>Time</th>\n",
       "      <th>Day</th>\n",
       "      <th>Winner</th>\n",
       "      <th>Pts</th>\n",
       "      <th>Unnamed: 6</th>\n",
       "      <th>Loser</th>\n",
       "      <th>Pts.1</th>\n",
       "    </tr>\n",
       "  </thead>\n",
       "  <tbody>\n",
       "    <tr>\n",
       "      <th>0</th>\n",
       "      <td>1</td>\n",
       "      <td>27-Aug-22</td>\n",
       "      <td>7:00 PM</td>\n",
       "      <td>Sat</td>\n",
       "      <td>Florida Atlantic</td>\n",
       "      <td>43</td>\n",
       "      <td>NaN</td>\n",
       "      <td>Charlotte</td>\n",
       "      <td>13</td>\n",
       "    </tr>\n",
       "    <tr>\n",
       "      <th>1</th>\n",
       "      <td>1</td>\n",
       "      <td>27-Aug-22</td>\n",
       "      <td>5:00 PM</td>\n",
       "      <td>Sat</td>\n",
       "      <td>Florida State</td>\n",
       "      <td>47</td>\n",
       "      <td>NaN</td>\n",
       "      <td>Duquesne</td>\n",
       "      <td>7</td>\n",
       "    </tr>\n",
       "    <tr>\n",
       "      <th>2</th>\n",
       "      <td>1</td>\n",
       "      <td>27-Aug-22</td>\n",
       "      <td>4:00 PM</td>\n",
       "      <td>Sat</td>\n",
       "      <td>Illinois</td>\n",
       "      <td>38</td>\n",
       "      <td>NaN</td>\n",
       "      <td>Wyoming</td>\n",
       "      <td>6</td>\n",
       "    </tr>\n",
       "    <tr>\n",
       "      <th>3</th>\n",
       "      <td>1</td>\n",
       "      <td>27-Aug-22</td>\n",
       "      <td>10:00 PM</td>\n",
       "      <td>Sat</td>\n",
       "      <td>Nevada</td>\n",
       "      <td>23</td>\n",
       "      <td>@</td>\n",
       "      <td>New Mexico State</td>\n",
       "      <td>12</td>\n",
       "    </tr>\n",
       "    <tr>\n",
       "      <th>4</th>\n",
       "      <td>1</td>\n",
       "      <td>27-Aug-22</td>\n",
       "      <td>3:30 PM</td>\n",
       "      <td>Sat</td>\n",
       "      <td>Nevada-Las Vegas</td>\n",
       "      <td>52</td>\n",
       "      <td>NaN</td>\n",
       "      <td>Idaho State</td>\n",
       "      <td>21</td>\n",
       "    </tr>\n",
       "    <tr>\n",
       "      <th>...</th>\n",
       "      <td>...</td>\n",
       "      <td>...</td>\n",
       "      <td>...</td>\n",
       "      <td>...</td>\n",
       "      <td>...</td>\n",
       "      <td>...</td>\n",
       "      <td>...</td>\n",
       "      <td>...</td>\n",
       "      <td>...</td>\n",
       "    </tr>\n",
       "    <tr>\n",
       "      <th>839</th>\n",
       "      <td>14</td>\n",
       "      <td>26-Nov-22</td>\n",
       "      <td>4:00 PM</td>\n",
       "      <td>Sat</td>\n",
       "      <td>(14) Utah</td>\n",
       "      <td>63</td>\n",
       "      <td>@</td>\n",
       "      <td>Colorado</td>\n",
       "      <td>21</td>\n",
       "    </tr>\n",
       "    <tr>\n",
       "      <th>840</th>\n",
       "      <td>14</td>\n",
       "      <td>26-Nov-22</td>\n",
       "      <td>NaN</td>\n",
       "      <td>Sat</td>\n",
       "      <td>Virginia</td>\n",
       "      <td>0</td>\n",
       "      <td>@</td>\n",
       "      <td>Virginia Tech</td>\n",
       "      <td>0</td>\n",
       "    </tr>\n",
       "    <tr>\n",
       "      <th>841</th>\n",
       "      <td>14</td>\n",
       "      <td>26-Nov-22</td>\n",
       "      <td>10:30 PM</td>\n",
       "      <td>Sat</td>\n",
       "      <td>(12) Washington</td>\n",
       "      <td>51</td>\n",
       "      <td>@</td>\n",
       "      <td>Washington State</td>\n",
       "      <td>33</td>\n",
       "    </tr>\n",
       "    <tr>\n",
       "      <th>842</th>\n",
       "      <td>14</td>\n",
       "      <td>26-Nov-22</td>\n",
       "      <td>12:00 PM</td>\n",
       "      <td>Sat</td>\n",
       "      <td>West Virginia</td>\n",
       "      <td>24</td>\n",
       "      <td>@</td>\n",
       "      <td>Oklahoma State</td>\n",
       "      <td>19</td>\n",
       "    </tr>\n",
       "    <tr>\n",
       "      <th>843</th>\n",
       "      <td>14</td>\n",
       "      <td>26-Nov-22</td>\n",
       "      <td>12:00 PM</td>\n",
       "      <td>Sat</td>\n",
       "      <td>Western Kentucky</td>\n",
       "      <td>32</td>\n",
       "      <td>@</td>\n",
       "      <td>Florida Atlantic</td>\n",
       "      <td>31</td>\n",
       "    </tr>\n",
       "  </tbody>\n",
       "</table>\n",
       "<p>844 rows × 9 columns</p>\n",
       "</div>"
      ],
      "text/plain": [
       "     Wk       Date      Time  Day            Winner  Pts Unnamed: 6  \\\n",
       "0     1  27-Aug-22   7:00 PM  Sat  Florida Atlantic   43        NaN   \n",
       "1     1  27-Aug-22   5:00 PM  Sat     Florida State   47        NaN   \n",
       "2     1  27-Aug-22   4:00 PM  Sat          Illinois   38        NaN   \n",
       "3     1  27-Aug-22  10:00 PM  Sat            Nevada   23          @   \n",
       "4     1  27-Aug-22   3:30 PM  Sat  Nevada-Las Vegas   52        NaN   \n",
       "..   ..        ...       ...  ...               ...  ...        ...   \n",
       "839  14  26-Nov-22   4:00 PM  Sat         (14) Utah   63          @   \n",
       "840  14  26-Nov-22       NaN  Sat          Virginia    0          @   \n",
       "841  14  26-Nov-22  10:30 PM  Sat   (12) Washington   51          @   \n",
       "842  14  26-Nov-22  12:00 PM  Sat     West Virginia   24          @   \n",
       "843  14  26-Nov-22  12:00 PM  Sat  Western Kentucky   32          @   \n",
       "\n",
       "                Loser  Pts.1  \n",
       "0           Charlotte     13  \n",
       "1            Duquesne      7  \n",
       "2             Wyoming      6  \n",
       "3    New Mexico State     12  \n",
       "4         Idaho State     21  \n",
       "..                ...    ...  \n",
       "839          Colorado     21  \n",
       "840     Virginia Tech      0  \n",
       "841  Washington State     33  \n",
       "842    Oklahoma State     19  \n",
       "843  Florida Atlantic     31  \n",
       "\n",
       "[844 rows x 9 columns]"
      ]
     },
     "execution_count": 4,
     "metadata": {},
     "output_type": "execute_result"
    }
   ],
   "source": [
    "df"
   ]
  },
  {
   "cell_type": "code",
   "execution_count": 5,
   "metadata": {},
   "outputs": [
    {
     "data": {
      "text/html": [
       "<div>\n",
       "<style scoped>\n",
       "    .dataframe tbody tr th:only-of-type {\n",
       "        vertical-align: middle;\n",
       "    }\n",
       "\n",
       "    .dataframe tbody tr th {\n",
       "        vertical-align: top;\n",
       "    }\n",
       "\n",
       "    .dataframe thead th {\n",
       "        text-align: right;\n",
       "    }\n",
       "</style>\n",
       "<table border=\"1\" class=\"dataframe\">\n",
       "  <thead>\n",
       "    <tr style=\"text-align: right;\">\n",
       "      <th></th>\n",
       "      <th>Wk</th>\n",
       "      <th>Date</th>\n",
       "      <th>Time</th>\n",
       "      <th>Day</th>\n",
       "      <th>Winner</th>\n",
       "      <th>Pts</th>\n",
       "      <th>Unnamed: 6</th>\n",
       "      <th>Loser</th>\n",
       "      <th>Pts.1</th>\n",
       "    </tr>\n",
       "  </thead>\n",
       "  <tbody>\n",
       "    <tr>\n",
       "      <th>526</th>\n",
       "      <td>9</td>\n",
       "      <td>22-Oct-22</td>\n",
       "      <td>6:00 PM</td>\n",
       "      <td>Sat</td>\n",
       "      <td>San Jose State</td>\n",
       "      <td>0</td>\n",
       "      <td>@</td>\n",
       "      <td>New Mexico State</td>\n",
       "      <td>0</td>\n",
       "    </tr>\n",
       "    <tr>\n",
       "      <th>734</th>\n",
       "      <td>13</td>\n",
       "      <td>19-Nov-22</td>\n",
       "      <td>3:30 PM</td>\n",
       "      <td>Sat</td>\n",
       "      <td>(23) Coastal Carolina</td>\n",
       "      <td>0</td>\n",
       "      <td>@</td>\n",
       "      <td>Virginia</td>\n",
       "      <td>0</td>\n",
       "    </tr>\n",
       "    <tr>\n",
       "      <th>840</th>\n",
       "      <td>14</td>\n",
       "      <td>26-Nov-22</td>\n",
       "      <td>NaN</td>\n",
       "      <td>Sat</td>\n",
       "      <td>Virginia</td>\n",
       "      <td>0</td>\n",
       "      <td>@</td>\n",
       "      <td>Virginia Tech</td>\n",
       "      <td>0</td>\n",
       "    </tr>\n",
       "  </tbody>\n",
       "</table>\n",
       "</div>"
      ],
      "text/plain": [
       "     Wk       Date     Time  Day                 Winner  Pts Unnamed: 6  \\\n",
       "526   9  22-Oct-22  6:00 PM  Sat         San Jose State    0          @   \n",
       "734  13  19-Nov-22  3:30 PM  Sat  (23) Coastal Carolina    0          @   \n",
       "840  14  26-Nov-22      NaN  Sat               Virginia    0          @   \n",
       "\n",
       "                Loser  Pts.1  \n",
       "526  New Mexico State      0  \n",
       "734          Virginia      0  \n",
       "840     Virginia Tech      0  "
      ]
     },
     "execution_count": 5,
     "metadata": {},
     "output_type": "execute_result"
    }
   ],
   "source": [
    "df[df['Pts'] == 0]"
   ]
  },
  {
   "cell_type": "code",
   "execution_count": 11,
   "metadata": {},
   "outputs": [],
   "source": [
    "df = df.drop(df.index[[526, 734, 840]])"
   ]
  },
  {
   "cell_type": "code",
   "execution_count": 12,
   "metadata": {},
   "outputs": [
    {
     "data": {
      "text/html": [
       "<div>\n",
       "<style scoped>\n",
       "    .dataframe tbody tr th:only-of-type {\n",
       "        vertical-align: middle;\n",
       "    }\n",
       "\n",
       "    .dataframe tbody tr th {\n",
       "        vertical-align: top;\n",
       "    }\n",
       "\n",
       "    .dataframe thead th {\n",
       "        text-align: right;\n",
       "    }\n",
       "</style>\n",
       "<table border=\"1\" class=\"dataframe\">\n",
       "  <thead>\n",
       "    <tr style=\"text-align: right;\">\n",
       "      <th></th>\n",
       "      <th>Wk</th>\n",
       "      <th>Date</th>\n",
       "      <th>Time</th>\n",
       "      <th>Day</th>\n",
       "      <th>Winner</th>\n",
       "      <th>Pts</th>\n",
       "      <th>Unnamed: 6</th>\n",
       "      <th>Loser</th>\n",
       "      <th>Pts.1</th>\n",
       "    </tr>\n",
       "  </thead>\n",
       "  <tbody>\n",
       "  </tbody>\n",
       "</table>\n",
       "</div>"
      ],
      "text/plain": [
       "Empty DataFrame\n",
       "Columns: [Wk, Date, Time, Day, Winner, Pts, Unnamed: 6, Loser, Pts.1]\n",
       "Index: []"
      ]
     },
     "execution_count": 12,
     "metadata": {},
     "output_type": "execute_result"
    }
   ],
   "source": [
    "df[df['Pts'] == 0]"
   ]
  },
  {
   "cell_type": "code",
   "execution_count": 13,
   "metadata": {},
   "outputs": [],
   "source": [
    "won = df['Winner']\n",
    "new_winner = []\n",
    "\n",
    "for i in won:\n",
    "    if(i[2] == \")\"):\n",
    "        new_winner.append(i[4:])\n",
    "#         if(i[1] == \"(\"):\n",
    "#             new_winner.append(i[5:])\n",
    "    elif(i[3] == \")\"):\n",
    "        new_winner.append(i[5:])\n",
    "    else:\n",
    "        new_winner.append(i)"
   ]
  },
  {
   "cell_type": "code",
   "execution_count": 14,
   "metadata": {},
   "outputs": [],
   "source": [
    "df['winners'] = new_winner"
   ]
  },
  {
   "cell_type": "code",
   "execution_count": 15,
   "metadata": {},
   "outputs": [],
   "source": [
    "lost = df['Loser']\n",
    "new_lose = []\n",
    "\n",
    "for i in lost:\n",
    "    if(i[2] == \")\"):\n",
    "        new_lose.append(i[4:])\n",
    "#         if(i[1] == \"(\"):\n",
    "#             new_winner.append(i[5:])\n",
    "    elif(i[3] == \")\"):\n",
    "        new_lose.append(i[5:])\n",
    "    else:\n",
    "        new_lose.append(i)\n",
    "    "
   ]
  },
  {
   "cell_type": "code",
   "execution_count": 16,
   "metadata": {},
   "outputs": [],
   "source": [
    "df['losers'] = new_lose"
   ]
  },
  {
   "cell_type": "code",
   "execution_count": 17,
   "metadata": {},
   "outputs": [],
   "source": [
    "location = df['Unnamed: 6']\n",
    "home = []\n",
    "\n",
    "for index, row in df.iterrows():\n",
    "    location = (row['Unnamed: 6'])\n",
    "    if (location == 'N'):\n",
    "        home.append('Neutral')\n",
    "    elif (location == '@'):\n",
    "        home.append(row['Loser'])\n",
    "    else:\n",
    "        home.append(row['Winner'])"
   ]
  },
  {
   "cell_type": "code",
   "execution_count": 18,
   "metadata": {},
   "outputs": [],
   "source": [
    "df['home_team'] = home"
   ]
  },
  {
   "cell_type": "code",
   "execution_count": 19,
   "metadata": {},
   "outputs": [],
   "source": [
    "away = []\n",
    "for index, row in df.iterrows():\n",
    "    if (row['home_team'] == row['Winner']):\n",
    "        away.append(row['Loser'])\n",
    "    elif (row['home_team'] == row['Loser']):\n",
    "        away.append(row['Winner'])\n",
    "    else:\n",
    "        away.append('neutral')"
   ]
  },
  {
   "cell_type": "code",
   "execution_count": 20,
   "metadata": {},
   "outputs": [],
   "source": [
    "df['away'] = away"
   ]
  },
  {
   "cell_type": "code",
   "execution_count": 21,
   "metadata": {},
   "outputs": [
    {
     "data": {
      "text/plain": [
       "neutral                   12\n",
       "Louisiana-Monroe           7\n",
       "Middle Tennessee State     7\n",
       "Buffalo                    7\n",
       "Western Kentucky           7\n",
       "                          ..\n",
       "Tennessee State            1\n",
       "(20) Mississippi           1\n",
       "Abilene Christian          1\n",
       "(6) Oklahoma               1\n",
       "(12) Washington            1\n",
       "Name: away, Length: 322, dtype: int64"
      ]
     },
     "execution_count": 21,
     "metadata": {},
     "output_type": "execute_result"
    }
   ],
   "source": [
    "df.away.value_counts()"
   ]
  },
  {
   "cell_type": "code",
   "execution_count": 22,
   "metadata": {},
   "outputs": [],
   "source": [
    "home = df['home_team']\n",
    "\n",
    "home_rank = []\n",
    "\n",
    "for i in home:\n",
    "    if (i[2] == \")\"):\n",
    "        home_rank.append(i[1:2])\n",
    "    elif(i[3] == \")\"):\n",
    "        home_rank.append(i[1:3])\n",
    "    else:\n",
    "        home_rank.append(99)"
   ]
  },
  {
   "cell_type": "code",
   "execution_count": 23,
   "metadata": {},
   "outputs": [],
   "source": [
    "away = df['away']\n",
    "\n",
    "away_rank = []\n",
    "\n",
    "for i in away:\n",
    "    if (i[2] == \")\"):\n",
    "        away_rank.append(i[1:2])\n",
    "    elif(i[3] == \")\"):\n",
    "        away_rank.append(i[1:3])\n",
    "    else:\n",
    "        away_rank.append(99)"
   ]
  },
  {
   "cell_type": "code",
   "execution_count": 24,
   "metadata": {},
   "outputs": [],
   "source": [
    "df['home_rank'] = home_rank"
   ]
  },
  {
   "cell_type": "code",
   "execution_count": 25,
   "metadata": {},
   "outputs": [],
   "source": [
    "df['away_rank'] = away_rank"
   ]
  },
  {
   "cell_type": "code",
   "execution_count": 26,
   "metadata": {},
   "outputs": [],
   "source": [
    "home = df['home_team']\n",
    "home_team = []\n",
    "\n",
    "for i in home:\n",
    "    if(i[2] == \")\"):\n",
    "        home_team.append(i[4:])\n",
    "#         if(i[1] == \"(\"):\n",
    "#             new_winner.append(i[5:])\n",
    "    elif(i[3] == \")\"):\n",
    "        home_team.append(i[5:])\n",
    "    else:\n",
    "        home_team.append(i)\n",
    "    "
   ]
  },
  {
   "cell_type": "code",
   "execution_count": 27,
   "metadata": {},
   "outputs": [],
   "source": [
    "df['home_team'] = home_team"
   ]
  },
  {
   "cell_type": "code",
   "execution_count": 28,
   "metadata": {},
   "outputs": [],
   "source": [
    "aways = df['away']\n",
    "away_team = []\n",
    "\n",
    "for i in aways:\n",
    "    if(i[2] == \")\"):\n",
    "        away_team.append(i[4:])\n",
    "#         if(i[1] == \"(\"):\n",
    "#             new_winner.append(i[5:])\n",
    "    elif(i[3] == \")\"):\n",
    "        away_team.append(i[5:])\n",
    "    else:\n",
    "        away_team.append(i)"
   ]
  },
  {
   "cell_type": "code",
   "execution_count": 29,
   "metadata": {},
   "outputs": [],
   "source": [
    "df['away'] = away_team"
   ]
  },
  {
   "cell_type": "code",
   "execution_count": 30,
   "metadata": {},
   "outputs": [],
   "source": [
    "df[\"home_team_code\"] = df[\"home_team\"].astype(\"category\").cat.codes"
   ]
  },
  {
   "cell_type": "code",
   "execution_count": 31,
   "metadata": {},
   "outputs": [],
   "source": [
    "df[\"away_team_code\"] = df[\"away\"].astype(\"category\").cat.codes"
   ]
  },
  {
   "cell_type": "code",
   "execution_count": 32,
   "metadata": {},
   "outputs": [],
   "source": [
    "homes = df['home_team']"
   ]
  },
  {
   "cell_type": "code",
   "execution_count": 33,
   "metadata": {},
   "outputs": [],
   "source": [
    "df1 = df.copy()"
   ]
  },
  {
   "cell_type": "code",
   "execution_count": 34,
   "metadata": {},
   "outputs": [],
   "source": [
    "home_results = []\n",
    "for index, row in df1.iterrows():\n",
    "    if (row['home_team'] == row['winners']):\n",
    "        home_results.append(0)\n",
    "    elif (row['home_team'] == row['losers']):\n",
    "        home_results.append(1)\n",
    "    else:\n",
    "        home_results.append(3)"
   ]
  },
  {
   "cell_type": "code",
   "execution_count": 35,
   "metadata": {},
   "outputs": [],
   "source": [
    "df1['home_results'] = home_results"
   ]
  },
  {
   "cell_type": "code",
   "execution_count": 36,
   "metadata": {},
   "outputs": [],
   "source": [
    "wins = df1['Winner']"
   ]
  },
  {
   "cell_type": "code",
   "execution_count": 37,
   "metadata": {},
   "outputs": [],
   "source": [
    "winners = []\n",
    "for i in wins:\n",
    "    if (i[2] == \")\"):\n",
    "        winners.append(i[1:2])\n",
    "    elif(i[3] == \")\"):\n",
    "        winners.append(i[1:3])\n",
    "    else:\n",
    "        winners.append(99)"
   ]
  },
  {
   "cell_type": "code",
   "execution_count": 38,
   "metadata": {},
   "outputs": [],
   "source": [
    "df1['win_rank'] = winners"
   ]
  },
  {
   "cell_type": "code",
   "execution_count": 39,
   "metadata": {},
   "outputs": [],
   "source": [
    "lose = df1['Loser']"
   ]
  },
  {
   "cell_type": "code",
   "execution_count": 40,
   "metadata": {},
   "outputs": [],
   "source": [
    "losers = []\n",
    "for i in lose:\n",
    "    if (i[2] == \")\"):\n",
    "        losers.append(i[1:2])\n",
    "    elif(i[3] == \")\"):\n",
    "        losers.append(i[1:3])\n",
    "    else:\n",
    "        losers.append(99)"
   ]
  },
  {
   "cell_type": "code",
   "execution_count": 41,
   "metadata": {},
   "outputs": [
    {
     "data": {
      "text/plain": [
       "841"
      ]
     },
     "execution_count": 41,
     "metadata": {},
     "output_type": "execute_result"
    }
   ],
   "source": [
    "len(losers)"
   ]
  },
  {
   "cell_type": "code",
   "execution_count": 42,
   "metadata": {},
   "outputs": [],
   "source": [
    "df1['lose_rank'] = losers"
   ]
  },
  {
   "cell_type": "code",
   "execution_count": 43,
   "metadata": {},
   "outputs": [],
   "source": [
    "df1 = df1.drop(columns=['Unnamed: 6'])"
   ]
  },
  {
   "cell_type": "code",
   "execution_count": 44,
   "metadata": {},
   "outputs": [],
   "source": [
    "df1 = df1.drop(columns=['home_team', 'away'])"
   ]
  },
  {
   "cell_type": "code",
   "execution_count": 45,
   "metadata": {},
   "outputs": [],
   "source": [
    "dates = df1[\"Date\"]"
   ]
  },
  {
   "cell_type": "code",
   "execution_count": 46,
   "metadata": {},
   "outputs": [],
   "source": [
    "month_num = []\n",
    "\n",
    "for i in dates:\n",
    "    if(i[1] =='-'):\n",
    "        if(i[2:5] == 'Sep'):\n",
    "            month_num.append('9')\n",
    "        elif(i[2:5] == 'Oct'):\n",
    "            month_num.append('10')\n",
    "        elif(i[2:5] == 'Nov'):\n",
    "            month_num.append('11')\n",
    "        elif(i[2:5] == 'Aug'):\n",
    "            month_num.append('8')\n",
    "    elif(i[2] =='-'):\n",
    "        if(i[3:6] == 'Aug'):\n",
    "            month_num.append('8')\n",
    "        elif(i[3:6] == 'Sep'):\n",
    "            month_num.append('9')\n",
    "        elif(i[3:6] == 'Oct'):\n",
    "            month_num.append('10')\n",
    "        elif(i[3:6] == 'Nov'):\n",
    "            month_num.append('11')\n"
   ]
  },
  {
   "cell_type": "code",
   "execution_count": 47,
   "metadata": {},
   "outputs": [],
   "source": [
    "days = []\n",
    "\n",
    "for i in dates: \n",
    "    if(i[1] == '-'):\n",
    "        days.append(i[0])\n",
    "    if(i[2] == \"-\"):\n",
    "        days.append(i[0:2])"
   ]
  },
  {
   "cell_type": "code",
   "execution_count": 48,
   "metadata": {},
   "outputs": [],
   "source": [
    "years = []\n",
    "\n",
    "for i in dates: \n",
    "    years.append('2022')"
   ]
  },
  {
   "cell_type": "code",
   "execution_count": 49,
   "metadata": {},
   "outputs": [],
   "source": [
    "df1['months']= month_num\n",
    "df1['years'] = years\n",
    "df1['days'] = days"
   ]
  },
  {
   "cell_type": "code",
   "execution_count": 50,
   "metadata": {},
   "outputs": [],
   "source": [
    "df1[\"dates\"] = df1[\n",
    "    'years'].astype(\n",
    "    str) +\"-\"+ df1['months'].astype(str) + \"-\" + df1['days'].astype(str)"
   ]
  },
  {
   "cell_type": "code",
   "execution_count": 51,
   "metadata": {},
   "outputs": [],
   "source": [
    "df1 = df1.drop(columns=['Date'])"
   ]
  },
  {
   "cell_type": "code",
   "execution_count": 52,
   "metadata": {},
   "outputs": [],
   "source": [
    "df1 = df1.drop(columns=['months', 'years', 'days', 'Day'])"
   ]
  },
  {
   "cell_type": "code",
   "execution_count": 53,
   "metadata": {},
   "outputs": [
    {
     "data": {
      "text/plain": [
       "2022-9-10     80\n",
       "2022-9-17     69\n",
       "2022-9-24     60\n",
       "2022-11-19    57\n",
       "2022-9-3      56\n",
       "2022-10-1     55\n",
       "2022-11-12    54\n",
       "2022-10-8     52\n",
       "2022-11-5     51\n",
       "2022-10-22    48\n",
       "2022-10-15    48\n",
       "2022-11-26    47\n",
       "2022-10-29    42\n",
       "2022-9-1      16\n",
       "2022-11-25    13\n",
       "2022-8-27     11\n",
       "2022-9-2       8\n",
       "2022-9-30      5\n",
       "2022-10-7      4\n",
       "2022-9-22      3\n",
       "2022-11-8      3\n",
       "2022-11-9      3\n",
       "2022-10-27     3\n",
       "2022-11-11     3\n",
       "2022-11-4      3\n",
       "2022-9-23      3\n",
       "2022-11-16     3\n",
       "2022-11-3      2\n",
       "2022-11-10     2\n",
       "2022-11-18     2\n",
       "2022-9-4       2\n",
       "2022-11-22     2\n",
       "2022-9-9       2\n",
       "2022-11-15     2\n",
       "2022-11-2      2\n",
       "2022-10-20     2\n",
       "2022-10-13     2\n",
       "2022-9-16      2\n",
       "2022-10-28     2\n",
       "2022-10-21     2\n",
       "2022-9-29      2\n",
       "2022-11-1      2\n",
       "2022-10-14     2\n",
       "2022-10-5      1\n",
       "2022-11-24     1\n",
       "2022-10-12     1\n",
       "2022-10-2      1\n",
       "2022-11-17     1\n",
       "2022-9-5       1\n",
       "2022-9-18      1\n",
       "2022-10-30     1\n",
       "2022-10-19     1\n",
       "Name: dates, dtype: int64"
      ]
     },
     "execution_count": 53,
     "metadata": {},
     "output_type": "execute_result"
    }
   ],
   "source": [
    "df1[\"dates\"].value_counts()"
   ]
  },
  {
   "cell_type": "code",
   "execution_count": 54,
   "metadata": {},
   "outputs": [],
   "source": [
    "df1['dates'] = pd.to_datetime(df1['dates'])"
   ]
  },
  {
   "cell_type": "code",
   "execution_count": 55,
   "metadata": {},
   "outputs": [],
   "source": [
    "df1[\"day_code\"] = df1[\"dates\"].dt.dayofweek"
   ]
  },
  {
   "cell_type": "code",
   "execution_count": 56,
   "metadata": {},
   "outputs": [],
   "source": [
    "times = df1['Time']"
   ]
  },
  {
   "cell_type": "code",
   "execution_count": 57,
   "metadata": {},
   "outputs": [],
   "source": [
    "nums = []\n",
    "\n",
    "for i in times:\n",
    "    i = str(i)\n",
    "    nums.append(i[:-2])"
   ]
  },
  {
   "cell_type": "code",
   "execution_count": 58,
   "metadata": {},
   "outputs": [],
   "source": [
    "hours = []\n",
    "mins = []\n",
    "\n",
    "for i in nums:\n",
    "    if(len(i) == 5):\n",
    "        hours.append(i[0])\n",
    "        mins.append(i[2:4])        \n",
    "    else:\n",
    "        hours.append(i[0:2])\n",
    "        mins.append(i[3:5])"
   ]
  },
  {
   "cell_type": "code",
   "execution_count": 59,
   "metadata": {},
   "outputs": [],
   "source": [
    "df1['hour'] = hours"
   ]
  },
  {
   "cell_type": "code",
   "execution_count": 60,
   "metadata": {},
   "outputs": [],
   "source": [
    "df1['minutes'] = mins"
   ]
  },
  {
   "cell_type": "code",
   "execution_count": 61,
   "metadata": {},
   "outputs": [],
   "source": [
    "new_hour= []\n",
    "for index, row in df1.iterrows():\n",
    "    if(row['hour'] == 'n'):\n",
    "        new_hour.append(5)\n",
    "    else:\n",
    "        new_hour.append(row['hour'])"
   ]
  },
  {
   "cell_type": "code",
   "execution_count": 62,
   "metadata": {},
   "outputs": [],
   "source": [
    "df1['hours'] = new_hour"
   ]
  },
  {
   "cell_type": "code",
   "execution_count": 63,
   "metadata": {},
   "outputs": [
    {
     "data": {
      "text/plain": [
       "7     209\n",
       "3     168\n",
       "12    152\n",
       "8      62\n",
       "4      55\n",
       "10     41\n",
       "2      41\n",
       "6      32\n",
       "5      24\n",
       "9      23\n",
       "1      19\n",
       "11     13\n",
       "5       2\n",
       "Name: hours, dtype: int64"
      ]
     },
     "execution_count": 63,
     "metadata": {},
     "output_type": "execute_result"
    }
   ],
   "source": [
    "df1['hours'].value_counts()"
   ]
  },
  {
   "cell_type": "code",
   "execution_count": 64,
   "metadata": {},
   "outputs": [],
   "source": [
    "hour = (df1['hours'])\n",
    "hours = []\n",
    "\n",
    "for x in hour:\n",
    "    if (x == '12'):\n",
    "        hours.append('12')\n",
    "    elif(x == '1'):\n",
    "        hours.append('13')\n",
    "    elif(x == '2'):\n",
    "        hours.append('14')\n",
    "    elif(x == '3'):\n",
    "        hours.append('15')\n",
    "    elif(x == '4'):\n",
    "        hours.append('16')\n",
    "    elif(x == '5'):\n",
    "        hours.append('17')\n",
    "    elif(x == '6'):\n",
    "        hours.append('18')\n",
    "    elif(x == '7'):\n",
    "        hours.append('19')\n",
    "    elif(x == '8'):\n",
    "        hours.append('20')\n",
    "    elif(x == '9'):\n",
    "        hours.append('21')\n",
    "    elif(x == '10'):\n",
    "        hours.append('22')\n",
    "    elif(x == '11'):\n",
    "        hours.append('11')\n",
    "    else:\n",
    "        hours.append('5')"
   ]
  },
  {
   "cell_type": "code",
   "execution_count": 65,
   "metadata": {},
   "outputs": [],
   "source": [
    "df1['hours'] = hours"
   ]
  },
  {
   "cell_type": "code",
   "execution_count": 66,
   "metadata": {},
   "outputs": [
    {
     "data": {
      "text/plain": [
       "00    511\n",
       "30    318\n",
       "45      5\n",
       "15      3\n",
       "        2\n",
       "59      1\n",
       "35      1\n",
       "Name: minutes, dtype: int64"
      ]
     },
     "execution_count": 66,
     "metadata": {},
     "output_type": "execute_result"
    }
   ],
   "source": [
    "df1['minutes'].value_counts()"
   ]
  },
  {
   "cell_type": "code",
   "execution_count": 67,
   "metadata": {},
   "outputs": [],
   "source": [
    "mins = df1['minutes']\n",
    "minute = []\n",
    "\n",
    "for i in mins:\n",
    "    if(i == '00'):\n",
    "        minute.append('00')\n",
    "    elif(i == '30'):\n",
    "        minute.append('30')\n",
    "    elif(i == '45'):\n",
    "        minute.append('45')\n",
    "    elif(i == '15'):\n",
    "        minute.append('15')\n",
    "    elif(i == '59'):\n",
    "        minute.append('00')\n",
    "    elif(i == '35'):\n",
    "        minute.append('30')\n",
    "    else:\n",
    "        minute.append('00')"
   ]
  },
  {
   "cell_type": "code",
   "execution_count": 68,
   "metadata": {},
   "outputs": [],
   "source": [
    "df1['minutes'] = minute"
   ]
  },
  {
   "cell_type": "code",
   "execution_count": 69,
   "metadata": {},
   "outputs": [],
   "source": [
    "df1 = df1.drop(columns=['hour', 'Time'])"
   ]
  },
  {
   "cell_type": "code",
   "execution_count": 70,
   "metadata": {},
   "outputs": [],
   "source": [
    "df1 = df1.drop(columns=['dates'])"
   ]
  },
  {
   "cell_type": "code",
   "execution_count": 71,
   "metadata": {},
   "outputs": [],
   "source": [
    "hr = df1['hours']\n",
    "hour = []\n",
    "\n",
    "for i in hr:\n",
    "    i = int(i)\n",
    "    hour.append(i)"
   ]
  },
  {
   "cell_type": "code",
   "execution_count": 72,
   "metadata": {},
   "outputs": [],
   "source": [
    "df1['hours'] = hour"
   ]
  },
  {
   "cell_type": "code",
   "execution_count": 73,
   "metadata": {},
   "outputs": [],
   "source": [
    "mins = df1['minutes']\n",
    "null = []\n",
    "half = []\n",
    "quart = []\n",
    "three_quart = []\n",
    "\n",
    "for i in mins:\n",
    "    if (i == '00'):\n",
    "        null.append(1)\n",
    "        half.append(0)\n",
    "        quart.append(0)\n",
    "        three_quart.append(0)\n",
    "    elif(i == '30'):\n",
    "        null.append(0)\n",
    "        half.append(1)\n",
    "        quart.append(0)\n",
    "        three_quart.append(0)\n",
    "    elif(i == '45'):\n",
    "        null.append(0)\n",
    "        half.append(0)\n",
    "        quart.append(1)\n",
    "        three_quart.append(0)\n",
    "    elif(i == '15'):\n",
    "        null.append(0)\n",
    "        half.append(0)\n",
    "        quart.append(0)\n",
    "        three_quart.append(1)"
   ]
  },
  {
   "cell_type": "code",
   "execution_count": 74,
   "metadata": {},
   "outputs": [],
   "source": [
    "df2 = df1.copy()"
   ]
  },
  {
   "cell_type": "code",
   "execution_count": 75,
   "metadata": {},
   "outputs": [],
   "source": [
    "df2['null'] = null\n",
    "df2['half'] = half\n",
    "df2['quart'] = quart\n",
    "df2['three_quart'] = three_quart"
   ]
  },
  {
   "cell_type": "code",
   "execution_count": 76,
   "metadata": {},
   "outputs": [],
   "source": [
    "df2 = df2.drop(columns=['minutes'])"
   ]
  },
  {
   "cell_type": "code",
   "execution_count": 77,
   "metadata": {},
   "outputs": [
    {
     "data": {
      "text/plain": [
       "Wk                0\n",
       "Winner            0\n",
       "Pts               0\n",
       "Loser             0\n",
       "Pts.1             0\n",
       "winners           0\n",
       "losers            0\n",
       "home_rank         0\n",
       "away_rank         0\n",
       "home_team_code    0\n",
       "away_team_code    0\n",
       "home_results      0\n",
       "win_rank          0\n",
       "lose_rank         0\n",
       "day_code          0\n",
       "hours             0\n",
       "null              0\n",
       "half              0\n",
       "quart             0\n",
       "three_quart       0\n",
       "dtype: int64"
      ]
     },
     "execution_count": 77,
     "metadata": {},
     "output_type": "execute_result"
    }
   ],
   "source": [
    "df2.isnull().sum()"
   ]
  },
  {
   "cell_type": "code",
   "execution_count": 78,
   "metadata": {},
   "outputs": [],
   "source": [
    "# df2.to_csv('encoded_df.csv', index=False)"
   ]
  },
  {
   "cell_type": "code",
   "execution_count": null,
   "metadata": {},
   "outputs": [],
   "source": []
  }
 ],
 "metadata": {
  "kernelspec": {
   "display_name": "Python 3 (ipykernel)",
   "language": "python",
   "name": "python3"
  },
  "language_info": {
   "codemirror_mode": {
    "name": "ipython",
    "version": 3
   },
   "file_extension": ".py",
   "mimetype": "text/x-python",
   "name": "python",
   "nbconvert_exporter": "python",
   "pygments_lexer": "ipython3",
   "version": "3.9.12"
  }
 },
 "nbformat": 4,
 "nbformat_minor": 2
}
