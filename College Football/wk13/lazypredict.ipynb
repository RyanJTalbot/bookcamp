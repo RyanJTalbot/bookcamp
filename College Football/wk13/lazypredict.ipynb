{
 "cells": [
  {
   "cell_type": "markdown",
   "metadata": {},
   "source": [
    "https://medium.com/@fareedkhandev/apply-40-machine-learning-models-in-two-lines-of-code-c01dad24ad99"
   ]
  },
  {
   "cell_type": "code",
   "execution_count": 16,
   "metadata": {},
   "outputs": [],
   "source": [
    "import pandas as pd\n",
    "import numpy as np\n",
    "\n",
    "import lazypredict\n",
    "from lazypredict.Supervised import LazyRegressor\n",
    "from lazypredict.Supervised import LazyClassifier"
   ]
  },
  {
   "cell_type": "code",
   "execution_count": 17,
   "metadata": {},
   "outputs": [],
   "source": [
    "df = pd.read_csv('encoded_df.csv')"
   ]
  },
  {
   "cell_type": "code",
   "execution_count": 18,
   "metadata": {},
   "outputs": [],
   "source": [
    "from sklearn.model_selection import train_test_split"
   ]
  },
  {
   "cell_type": "code",
   "execution_count": 19,
   "metadata": {},
   "outputs": [
    {
     "data": {
      "text/html": [
       "<div>\n",
       "<style scoped>\n",
       "    .dataframe tbody tr th:only-of-type {\n",
       "        vertical-align: middle;\n",
       "    }\n",
       "\n",
       "    .dataframe tbody tr th {\n",
       "        vertical-align: top;\n",
       "    }\n",
       "\n",
       "    .dataframe thead th {\n",
       "        text-align: right;\n",
       "    }\n",
       "</style>\n",
       "<table border=\"1\" class=\"dataframe\">\n",
       "  <thead>\n",
       "    <tr style=\"text-align: right;\">\n",
       "      <th></th>\n",
       "      <th>Wk</th>\n",
       "      <th>Winner</th>\n",
       "      <th>Pts</th>\n",
       "      <th>Loser</th>\n",
       "      <th>Pts.1</th>\n",
       "      <th>winners</th>\n",
       "      <th>losers</th>\n",
       "      <th>home_rank</th>\n",
       "      <th>away_rank</th>\n",
       "      <th>home_team_code</th>\n",
       "      <th>away_team_code</th>\n",
       "      <th>home_results</th>\n",
       "      <th>win_rank</th>\n",
       "      <th>lose_rank</th>\n",
       "      <th>day_code</th>\n",
       "      <th>hours</th>\n",
       "      <th>null</th>\n",
       "      <th>half</th>\n",
       "      <th>quart</th>\n",
       "      <th>three_quart</th>\n",
       "    </tr>\n",
       "  </thead>\n",
       "  <tbody>\n",
       "    <tr>\n",
       "      <th>0</th>\n",
       "      <td>1</td>\n",
       "      <td>Florida Atlantic</td>\n",
       "      <td>43</td>\n",
       "      <td>Charlotte</td>\n",
       "      <td>13</td>\n",
       "      <td>Florida Atlantic</td>\n",
       "      <td>Charlotte</td>\n",
       "      <td>99</td>\n",
       "      <td>99</td>\n",
       "      <td>32</td>\n",
       "      <td>37</td>\n",
       "      <td>0</td>\n",
       "      <td>99</td>\n",
       "      <td>99</td>\n",
       "      <td>5</td>\n",
       "      <td>19</td>\n",
       "      <td>1</td>\n",
       "      <td>0</td>\n",
       "      <td>0</td>\n",
       "      <td>0</td>\n",
       "    </tr>\n",
       "    <tr>\n",
       "      <th>1</th>\n",
       "      <td>1</td>\n",
       "      <td>Florida State</td>\n",
       "      <td>47</td>\n",
       "      <td>Duquesne</td>\n",
       "      <td>7</td>\n",
       "      <td>Florida State</td>\n",
       "      <td>Duquesne</td>\n",
       "      <td>99</td>\n",
       "      <td>99</td>\n",
       "      <td>34</td>\n",
       "      <td>49</td>\n",
       "      <td>0</td>\n",
       "      <td>99</td>\n",
       "      <td>99</td>\n",
       "      <td>5</td>\n",
       "      <td>17</td>\n",
       "      <td>1</td>\n",
       "      <td>0</td>\n",
       "      <td>0</td>\n",
       "      <td>0</td>\n",
       "    </tr>\n",
       "    <tr>\n",
       "      <th>2</th>\n",
       "      <td>1</td>\n",
       "      <td>Illinois</td>\n",
       "      <td>38</td>\n",
       "      <td>Wyoming</td>\n",
       "      <td>6</td>\n",
       "      <td>Illinois</td>\n",
       "      <td>Wyoming</td>\n",
       "      <td>99</td>\n",
       "      <td>99</td>\n",
       "      <td>42</td>\n",
       "      <td>224</td>\n",
       "      <td>0</td>\n",
       "      <td>99</td>\n",
       "      <td>99</td>\n",
       "      <td>5</td>\n",
       "      <td>16</td>\n",
       "      <td>1</td>\n",
       "      <td>0</td>\n",
       "      <td>0</td>\n",
       "      <td>0</td>\n",
       "    </tr>\n",
       "    <tr>\n",
       "      <th>3</th>\n",
       "      <td>1</td>\n",
       "      <td>Nevada</td>\n",
       "      <td>23</td>\n",
       "      <td>New Mexico State</td>\n",
       "      <td>12</td>\n",
       "      <td>Nevada</td>\n",
       "      <td>New Mexico State</td>\n",
       "      <td>99</td>\n",
       "      <td>99</td>\n",
       "      <td>76</td>\n",
       "      <td>122</td>\n",
       "      <td>1</td>\n",
       "      <td>99</td>\n",
       "      <td>99</td>\n",
       "      <td>5</td>\n",
       "      <td>22</td>\n",
       "      <td>1</td>\n",
       "      <td>0</td>\n",
       "      <td>0</td>\n",
       "      <td>0</td>\n",
       "    </tr>\n",
       "    <tr>\n",
       "      <th>4</th>\n",
       "      <td>1</td>\n",
       "      <td>Nevada-Las Vegas</td>\n",
       "      <td>52</td>\n",
       "      <td>Idaho State</td>\n",
       "      <td>21</td>\n",
       "      <td>Nevada-Las Vegas</td>\n",
       "      <td>Idaho State</td>\n",
       "      <td>99</td>\n",
       "      <td>99</td>\n",
       "      <td>74</td>\n",
       "      <td>77</td>\n",
       "      <td>0</td>\n",
       "      <td>99</td>\n",
       "      <td>99</td>\n",
       "      <td>5</td>\n",
       "      <td>15</td>\n",
       "      <td>0</td>\n",
       "      <td>1</td>\n",
       "      <td>0</td>\n",
       "      <td>0</td>\n",
       "    </tr>\n",
       "  </tbody>\n",
       "</table>\n",
       "</div>"
      ],
      "text/plain": [
       "   Wk            Winner  Pts             Loser  Pts.1           winners  \\\n",
       "0   1  Florida Atlantic   43         Charlotte     13  Florida Atlantic   \n",
       "1   1     Florida State   47          Duquesne      7     Florida State   \n",
       "2   1          Illinois   38           Wyoming      6          Illinois   \n",
       "3   1            Nevada   23  New Mexico State     12            Nevada   \n",
       "4   1  Nevada-Las Vegas   52       Idaho State     21  Nevada-Las Vegas   \n",
       "\n",
       "             losers  home_rank  away_rank  home_team_code  away_team_code  \\\n",
       "0         Charlotte         99         99              32              37   \n",
       "1          Duquesne         99         99              34              49   \n",
       "2           Wyoming         99         99              42             224   \n",
       "3  New Mexico State         99         99              76             122   \n",
       "4       Idaho State         99         99              74              77   \n",
       "\n",
       "   home_results  win_rank  lose_rank  day_code  hours  null  half  quart  \\\n",
       "0             0        99         99         5     19     1     0      0   \n",
       "1             0        99         99         5     17     1     0      0   \n",
       "2             0        99         99         5     16     1     0      0   \n",
       "3             1        99         99         5     22     1     0      0   \n",
       "4             0        99         99         5     15     0     1      0   \n",
       "\n",
       "   three_quart  \n",
       "0            0  \n",
       "1            0  \n",
       "2            0  \n",
       "3            0  \n",
       "4            0  "
      ]
     },
     "execution_count": 19,
     "metadata": {},
     "output_type": "execute_result"
    }
   ],
   "source": [
    "df.head()"
   ]
  },
  {
   "cell_type": "code",
   "execution_count": 20,
   "metadata": {},
   "outputs": [],
   "source": [
    "df1 = df.drop(columns=['Winner', 'Loser', 'winners', 'losers',\n",
    "                       'null', 'half', 'quart', 'three_quart'])"
   ]
  },
  {
   "cell_type": "code",
   "execution_count": 21,
   "metadata": {},
   "outputs": [
    {
     "data": {
      "text/html": [
       "<div>\n",
       "<style scoped>\n",
       "    .dataframe tbody tr th:only-of-type {\n",
       "        vertical-align: middle;\n",
       "    }\n",
       "\n",
       "    .dataframe tbody tr th {\n",
       "        vertical-align: top;\n",
       "    }\n",
       "\n",
       "    .dataframe thead th {\n",
       "        text-align: right;\n",
       "    }\n",
       "</style>\n",
       "<table border=\"1\" class=\"dataframe\">\n",
       "  <thead>\n",
       "    <tr style=\"text-align: right;\">\n",
       "      <th></th>\n",
       "      <th>Wk</th>\n",
       "      <th>Pts</th>\n",
       "      <th>Pts.1</th>\n",
       "      <th>home_rank</th>\n",
       "      <th>away_rank</th>\n",
       "      <th>home_team_code</th>\n",
       "      <th>away_team_code</th>\n",
       "      <th>home_results</th>\n",
       "      <th>win_rank</th>\n",
       "      <th>lose_rank</th>\n",
       "      <th>day_code</th>\n",
       "      <th>hours</th>\n",
       "    </tr>\n",
       "  </thead>\n",
       "  <tbody>\n",
       "    <tr>\n",
       "      <th>0</th>\n",
       "      <td>1</td>\n",
       "      <td>43</td>\n",
       "      <td>13</td>\n",
       "      <td>99</td>\n",
       "      <td>99</td>\n",
       "      <td>32</td>\n",
       "      <td>37</td>\n",
       "      <td>0</td>\n",
       "      <td>99</td>\n",
       "      <td>99</td>\n",
       "      <td>5</td>\n",
       "      <td>19</td>\n",
       "    </tr>\n",
       "    <tr>\n",
       "      <th>1</th>\n",
       "      <td>1</td>\n",
       "      <td>47</td>\n",
       "      <td>7</td>\n",
       "      <td>99</td>\n",
       "      <td>99</td>\n",
       "      <td>34</td>\n",
       "      <td>49</td>\n",
       "      <td>0</td>\n",
       "      <td>99</td>\n",
       "      <td>99</td>\n",
       "      <td>5</td>\n",
       "      <td>17</td>\n",
       "    </tr>\n",
       "    <tr>\n",
       "      <th>2</th>\n",
       "      <td>1</td>\n",
       "      <td>38</td>\n",
       "      <td>6</td>\n",
       "      <td>99</td>\n",
       "      <td>99</td>\n",
       "      <td>42</td>\n",
       "      <td>224</td>\n",
       "      <td>0</td>\n",
       "      <td>99</td>\n",
       "      <td>99</td>\n",
       "      <td>5</td>\n",
       "      <td>16</td>\n",
       "    </tr>\n",
       "    <tr>\n",
       "      <th>3</th>\n",
       "      <td>1</td>\n",
       "      <td>23</td>\n",
       "      <td>12</td>\n",
       "      <td>99</td>\n",
       "      <td>99</td>\n",
       "      <td>76</td>\n",
       "      <td>122</td>\n",
       "      <td>1</td>\n",
       "      <td>99</td>\n",
       "      <td>99</td>\n",
       "      <td>5</td>\n",
       "      <td>22</td>\n",
       "    </tr>\n",
       "    <tr>\n",
       "      <th>4</th>\n",
       "      <td>1</td>\n",
       "      <td>52</td>\n",
       "      <td>21</td>\n",
       "      <td>99</td>\n",
       "      <td>99</td>\n",
       "      <td>74</td>\n",
       "      <td>77</td>\n",
       "      <td>0</td>\n",
       "      <td>99</td>\n",
       "      <td>99</td>\n",
       "      <td>5</td>\n",
       "      <td>15</td>\n",
       "    </tr>\n",
       "  </tbody>\n",
       "</table>\n",
       "</div>"
      ],
      "text/plain": [
       "   Wk  Pts  Pts.1  home_rank  away_rank  home_team_code  away_team_code  \\\n",
       "0   1   43     13         99         99              32              37   \n",
       "1   1   47      7         99         99              34              49   \n",
       "2   1   38      6         99         99              42             224   \n",
       "3   1   23     12         99         99              76             122   \n",
       "4   1   52     21         99         99              74              77   \n",
       "\n",
       "   home_results  win_rank  lose_rank  day_code  hours  \n",
       "0             0        99         99         5     19  \n",
       "1             0        99         99         5     17  \n",
       "2             0        99         99         5     16  \n",
       "3             1        99         99         5     22  \n",
       "4             0        99         99         5     15  "
      ]
     },
     "execution_count": 21,
     "metadata": {},
     "output_type": "execute_result"
    }
   ],
   "source": [
    "df1.head()"
   ]
  },
  {
   "cell_type": "code",
   "execution_count": 30,
   "metadata": {},
   "outputs": [],
   "source": [
    "test = df1.iloc[713:]\n",
    "train = df.iloc[:714]"
   ]
  },
  {
   "cell_type": "code",
   "execution_count": 31,
   "metadata": {},
   "outputs": [],
   "source": [
    "X_train = train.drop(columns=['Pts', 'Pts.1'])\n",
    "X_test = test.drop(columns=['Pts', 'Pts.1'])\n",
    "\n",
    "y_train = train['Pts']\n",
    "y_test = test['Pts']"
   ]
  },
  {
   "cell_type": "code",
   "execution_count": 32,
   "metadata": {},
   "outputs": [],
   "source": [
    "multiple_ML_model = LazyRegressor(verbose=0,\n",
    "                                  ignore_warnings=True,\n",
    "                                 predictions=True)"
   ]
  },
  {
   "cell_type": "code",
   "execution_count": 33,
   "metadata": {},
   "outputs": [
    {
     "name": "stderr",
     "output_type": "stream",
     "text": [
      "100%|███████████████████████████████████████████| 42/42 [00:06<00:00,  6.66it/s]\n"
     ]
    }
   ],
   "source": [
    "models, predictions= multiple_ML_model.fit(X_train, X_test, y_train, y_test)"
   ]
  },
  {
   "cell_type": "code",
   "execution_count": 36,
   "metadata": {},
   "outputs": [
    {
     "data": {
      "text/html": [
       "<div>\n",
       "<style scoped>\n",
       "    .dataframe tbody tr th:only-of-type {\n",
       "        vertical-align: middle;\n",
       "    }\n",
       "\n",
       "    .dataframe tbody tr th {\n",
       "        vertical-align: top;\n",
       "    }\n",
       "\n",
       "    .dataframe thead th {\n",
       "        text-align: right;\n",
       "    }\n",
       "</style>\n",
       "<table border=\"1\" class=\"dataframe\">\n",
       "  <thead>\n",
       "    <tr style=\"text-align: right;\">\n",
       "      <th></th>\n",
       "      <th>Adjusted R-Squared</th>\n",
       "      <th>R-Squared</th>\n",
       "      <th>RMSE</th>\n",
       "      <th>Time Taken</th>\n",
       "    </tr>\n",
       "    <tr>\n",
       "      <th>Model</th>\n",
       "      <th></th>\n",
       "      <th></th>\n",
       "      <th></th>\n",
       "      <th></th>\n",
       "    </tr>\n",
       "  </thead>\n",
       "  <tbody>\n",
       "  </tbody>\n",
       "</table>\n",
       "</div>"
      ],
      "text/plain": [
       "Empty DataFrame\n",
       "Columns: [Adjusted R-Squared, R-Squared, RMSE, Time Taken]\n",
       "Index: []"
      ]
     },
     "execution_count": 36,
     "metadata": {},
     "output_type": "execute_result"
    }
   ],
   "source": [
    "models\n"
   ]
  },
  {
   "cell_type": "code",
   "execution_count": 37,
   "metadata": {},
   "outputs": [
    {
     "name": "stdout",
     "output_type": "stream",
     "text": [
      "'tuple' object has no attribute '__name__'\n",
      "Invalid Regressor(s)\n"
     ]
    },
    {
     "name": "stderr",
     "output_type": "stream",
     "text": [
      "100%|███████████████████████████████████████████| 42/42 [00:07<00:00,  5.94it/s]\n"
     ]
    }
   ],
   "source": [
    "models, predictions= multiple_ML_model.fit(X_train, \n",
    "                                           X_test, y_train, y_test)"
   ]
  },
  {
   "cell_type": "code",
   "execution_count": 38,
   "metadata": {},
   "outputs": [
    {
     "data": {
      "text/html": [
       "<div>\n",
       "<style scoped>\n",
       "    .dataframe tbody tr th:only-of-type {\n",
       "        vertical-align: middle;\n",
       "    }\n",
       "\n",
       "    .dataframe tbody tr th {\n",
       "        vertical-align: top;\n",
       "    }\n",
       "\n",
       "    .dataframe thead th {\n",
       "        text-align: right;\n",
       "    }\n",
       "</style>\n",
       "<table border=\"1\" class=\"dataframe\">\n",
       "  <thead>\n",
       "    <tr style=\"text-align: right;\">\n",
       "      <th></th>\n",
       "    </tr>\n",
       "  </thead>\n",
       "  <tbody>\n",
       "  </tbody>\n",
       "</table>\n",
       "</div>"
      ],
      "text/plain": [
       "Empty DataFrame\n",
       "Columns: []\n",
       "Index: []"
      ]
     },
     "execution_count": 38,
     "metadata": {},
     "output_type": "execute_result"
    }
   ],
   "source": [
    "predictions"
   ]
  },
  {
   "cell_type": "code",
   "execution_count": null,
   "metadata": {},
   "outputs": [],
   "source": []
  }
 ],
 "metadata": {
  "kernelspec": {
   "display_name": "Python 3 (ipykernel)",
   "language": "python",
   "name": "python3"
  },
  "language_info": {
   "codemirror_mode": {
    "name": "ipython",
    "version": 3
   },
   "file_extension": ".py",
   "mimetype": "text/x-python",
   "name": "python",
   "nbconvert_exporter": "python",
   "pygments_lexer": "ipython3",
   "version": "3.9.12"
  }
 },
 "nbformat": 4,
 "nbformat_minor": 2
}
