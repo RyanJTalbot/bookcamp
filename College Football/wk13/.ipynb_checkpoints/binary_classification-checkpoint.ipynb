{
 "cells": [
  {
   "cell_type": "code",
   "execution_count": 1,
   "metadata": {},
   "outputs": [],
   "source": [
    "import pandas as pd\n",
    "import seaborn as sns\n",
    "\n",
    "import numpy as np\n",
    "import matplotlib.pyplot as plt\n",
    "from matplotlib.colors import ListedColormap\n",
    "from sklearn.model_selection import train_test_split\n",
    "from sklearn.preprocessing import StandardScaler\n",
    "from sklearn.datasets import make_moons, make_circles, make_classification\n",
    "from sklearn.neural_network import MLPClassifier\n",
    "from sklearn.neighbors import KNeighborsClassifier\n",
    "from sklearn.svm import SVC\n",
    "from sklearn.gaussian_process import GaussianProcessClassifier\n",
    "from sklearn.gaussian_process.kernels import RBF\n",
    "from sklearn.tree import DecisionTreeClassifier\n",
    "from sklearn.ensemble import RandomForestClassifier, AdaBoostClassifier\n",
    "from sklearn.naive_bayes import GaussianNB\n",
    "from sklearn.discriminant_analysis import QuadraticDiscriminantAnalysis\n",
    "from sklearn.inspection import DecisionBoundaryDisplay\n"
   ]
  },
  {
   "cell_type": "code",
   "execution_count": 2,
   "metadata": {},
   "outputs": [],
   "source": [
    "df = pd.read_csv('encoded_df.csv')"
   ]
  },
  {
   "cell_type": "code",
   "execution_count": 3,
   "metadata": {},
   "outputs": [
    {
     "data": {
      "text/plain": [
       "(781, 20)"
      ]
     },
     "execution_count": 3,
     "metadata": {},
     "output_type": "execute_result"
    }
   ],
   "source": [
    "df.shape"
   ]
  },
  {
   "cell_type": "code",
   "execution_count": 4,
   "metadata": {},
   "outputs": [],
   "source": [
    "df = df.drop(df[df.home_results > 2].index)"
   ]
  },
  {
   "cell_type": "code",
   "execution_count": 5,
   "metadata": {},
   "outputs": [
    {
     "name": "stdout",
     "output_type": "stream",
     "text": [
      "0    493\n",
      "1    276\n",
      "Name: home_results, dtype: int64\n"
     ]
    }
   ],
   "source": [
    "print(df['home_results'].value_counts())"
   ]
  },
  {
   "cell_type": "code",
   "execution_count": 6,
   "metadata": {},
   "outputs": [
    {
     "data": {
      "text/plain": [
       "(769, 20)"
      ]
     },
     "execution_count": 6,
     "metadata": {},
     "output_type": "execute_result"
    }
   ],
   "source": [
    "df.shape"
   ]
  },
  {
   "cell_type": "code",
   "execution_count": 7,
   "metadata": {},
   "outputs": [],
   "source": [
    "df = df.drop(columns=['Winner', 'Pts', 'Loser', 'Pts.1', 'winners', \n",
    "                      'losers', 'win_rank', 'lose_rank', 'hours', \n",
    "                      'null', 'half', 'quart', 'three_quart'])"
   ]
  },
  {
   "cell_type": "code",
   "execution_count": 8,
   "metadata": {},
   "outputs": [],
   "source": [
    "X = df.drop(columns=['home_results'])\n",
    "y = df['home_results']"
   ]
  },
  {
   "cell_type": "code",
   "execution_count": 9,
   "metadata": {},
   "outputs": [],
   "source": [
    "from sklearn.model_selection import train_test_split\n",
    "\n",
    "X_train, X_test, y_train, y_test = train_test_split(X, y,\n",
    "                                                    test_size=0.20, random_state=0)\n"
   ]
  },
  {
   "cell_type": "code",
   "execution_count": 10,
   "metadata": {},
   "outputs": [],
   "source": [
    "from sklearn.preprocessing import StandardScaler\n",
    "\n",
    "ss = StandardScaler()\n",
    "X_train_ss = ss.fit_transform(X_train)\n",
    "X_test_ss = ss.fit_transform(X_test)"
   ]
  },
  {
   "cell_type": "code",
   "execution_count": null,
   "metadata": {},
   "outputs": [],
   "source": [
    "len()"
   ]
  },
  {
   "cell_type": "code",
   "execution_count": 11,
   "metadata": {},
   "outputs": [],
   "source": [
    "import matplotlib as mpl\n",
    "from matplotlib import pyplot as plt\n",
    "from matplotlib import cm\n",
    "\n",
    "from sklearn.preprocessing import MinMaxScaler\n",
    "from sklearn.preprocessing import minmax_scale\n",
    "from sklearn.preprocessing import MaxAbsScaler\n",
    "from sklearn.preprocessing import StandardScaler\n",
    "from sklearn.preprocessing import RobustScaler\n",
    "from sklearn.preprocessing import Normalizer\n",
    "from sklearn.preprocessing import QuantileTransformer\n",
    "from sklearn.preprocessing import PowerTransformer"
   ]
  },
  {
   "cell_type": "code",
   "execution_count": 16,
   "metadata": {},
   "outputs": [
    {
     "data": {
      "text/html": [
       "<div>\n",
       "<style scoped>\n",
       "    .dataframe tbody tr th:only-of-type {\n",
       "        vertical-align: middle;\n",
       "    }\n",
       "\n",
       "    .dataframe tbody tr th {\n",
       "        vertical-align: top;\n",
       "    }\n",
       "\n",
       "    .dataframe thead th {\n",
       "        text-align: right;\n",
       "    }\n",
       "</style>\n",
       "<table border=\"1\" class=\"dataframe\">\n",
       "  <thead>\n",
       "    <tr style=\"text-align: right;\">\n",
       "      <th></th>\n",
       "      <th>Wk</th>\n",
       "      <th>home_rank</th>\n",
       "      <th>away_rank</th>\n",
       "      <th>home_team_code</th>\n",
       "      <th>away_team_code</th>\n",
       "      <th>home_results</th>\n",
       "      <th>day_code</th>\n",
       "    </tr>\n",
       "  </thead>\n",
       "  <tbody>\n",
       "    <tr>\n",
       "      <th>Wk</th>\n",
       "      <td>13.400398</td>\n",
       "      <td>3.162877</td>\n",
       "      <td>-14.257045</td>\n",
       "      <td>-0.057395</td>\n",
       "      <td>2.980653</td>\n",
       "      <td>0.318582</td>\n",
       "      <td>-0.165324</td>\n",
       "    </tr>\n",
       "    <tr>\n",
       "      <th>home_rank</th>\n",
       "      <td>3.162877</td>\n",
       "      <td>1206.668458</td>\n",
       "      <td>159.339886</td>\n",
       "      <td>-115.303233</td>\n",
       "      <td>-63.077031</td>\n",
       "      <td>2.897511</td>\n",
       "      <td>-2.279325</td>\n",
       "    </tr>\n",
       "    <tr>\n",
       "      <th>away_rank</th>\n",
       "      <td>-14.257045</td>\n",
       "      <td>159.339886</td>\n",
       "      <td>945.087631</td>\n",
       "      <td>-49.556404</td>\n",
       "      <td>-116.543487</td>\n",
       "      <td>-3.042256</td>\n",
       "      <td>-1.725076</td>\n",
       "    </tr>\n",
       "    <tr>\n",
       "      <th>home_team_code</th>\n",
       "      <td>-0.057395</td>\n",
       "      <td>-115.303233</td>\n",
       "      <td>-49.556404</td>\n",
       "      <td>1486.982882</td>\n",
       "      <td>-30.654990</td>\n",
       "      <td>-1.050038</td>\n",
       "      <td>0.863164</td>\n",
       "    </tr>\n",
       "    <tr>\n",
       "      <th>away_team_code</th>\n",
       "      <td>2.980653</td>\n",
       "      <td>-63.077031</td>\n",
       "      <td>-116.543487</td>\n",
       "      <td>-30.654990</td>\n",
       "      <td>4186.770674</td>\n",
       "      <td>1.513784</td>\n",
       "      <td>1.111227</td>\n",
       "    </tr>\n",
       "    <tr>\n",
       "      <th>home_results</th>\n",
       "      <td>0.318582</td>\n",
       "      <td>2.897511</td>\n",
       "      <td>-3.042256</td>\n",
       "      <td>-1.050038</td>\n",
       "      <td>1.513784</td>\n",
       "      <td>0.230393</td>\n",
       "      <td>-0.016174</td>\n",
       "    </tr>\n",
       "    <tr>\n",
       "      <th>day_code</th>\n",
       "      <td>-0.165324</td>\n",
       "      <td>-2.279325</td>\n",
       "      <td>-1.725076</td>\n",
       "      <td>0.863164</td>\n",
       "      <td>1.111227</td>\n",
       "      <td>-0.016174</td>\n",
       "      <td>0.487196</td>\n",
       "    </tr>\n",
       "  </tbody>\n",
       "</table>\n",
       "</div>"
      ],
      "text/plain": [
       "                       Wk    home_rank   away_rank  home_team_code  \\\n",
       "Wk              13.400398     3.162877  -14.257045       -0.057395   \n",
       "home_rank        3.162877  1206.668458  159.339886     -115.303233   \n",
       "away_rank      -14.257045   159.339886  945.087631      -49.556404   \n",
       "home_team_code  -0.057395  -115.303233  -49.556404     1486.982882   \n",
       "away_team_code   2.980653   -63.077031 -116.543487      -30.654990   \n",
       "home_results     0.318582     2.897511   -3.042256       -1.050038   \n",
       "day_code        -0.165324    -2.279325   -1.725076        0.863164   \n",
       "\n",
       "                away_team_code  home_results  day_code  \n",
       "Wk                    2.980653      0.318582 -0.165324  \n",
       "home_rank           -63.077031      2.897511 -2.279325  \n",
       "away_rank          -116.543487     -3.042256 -1.725076  \n",
       "home_team_code      -30.654990     -1.050038  0.863164  \n",
       "away_team_code     4186.770674      1.513784  1.111227  \n",
       "home_results          1.513784      0.230393 -0.016174  \n",
       "day_code              1.111227     -0.016174  0.487196  "
      ]
     },
     "execution_count": 16,
     "metadata": {},
     "output_type": "execute_result"
    }
   ],
   "source": [
    "df.cov()"
   ]
  },
  {
   "cell_type": "markdown",
   "metadata": {},
   "source": [
    "https://scikit-learn.org/stable/auto_examples/preprocessing/plot_all_scaling.html#sphx-glr-auto-examples-preprocessing-plot-all-scaling-py"
   ]
  },
  {
   "cell_type": "code",
   "execution_count": 55,
   "metadata": {},
   "outputs": [],
   "source": [
    "from sklearn.preprocessing import Normalizer\n",
    "\n",
    "transformer = Normalizer().fit(X)  # fit does nothing.\n",
    "normalizer_x = transformer.transform(X)\n",
    "X_train_norm = transformer.transform(X_train)\n",
    "X_test_norm = transformer.transform(X_test)"
   ]
  },
  {
   "cell_type": "code",
   "execution_count": 56,
   "metadata": {},
   "outputs": [
    {
     "data": {
      "text/plain": [
       "array([[0.0337467 , 0.37121375, 0.37121375, 0.39371155, 0.7536764 ,\n",
       "        0.01499854],\n",
       "       [0.0302737 , 0.1210948 , 0.20182467, 0.31282824, 0.91830225,\n",
       "        0.05045617],\n",
       "       [0.02186452, 0.00874581, 0.43291747, 0.00874581, 0.90081817,\n",
       "        0.02186452],\n",
       "       ...,\n",
       "       [0.04560705, 0.41046342, 0.41046342, 0.01243829, 0.81263466,\n",
       "        0.02073048],\n",
       "       [0.04515374, 0.44702208, 0.44702208, 0.29801472, 0.71342917,\n",
       "        0.02257687],\n",
       "       [0.05006262, 0.41301659, 0.41301659, 0.50896994, 0.6299546 ,\n",
       "        0.02085942]])"
      ]
     },
     "execution_count": 56,
     "metadata": {},
     "output_type": "execute_result"
    }
   ],
   "source": [
    "X_train_norm"
   ]
  },
  {
   "cell_type": "code",
   "execution_count": 102,
   "metadata": {},
   "outputs": [],
   "source": [
    "from sklearn.preprocessing import QuantileTransformer\n",
    "qt = QuantileTransformer(n_quantiles=10, random_state=0)\n",
    "quantile_x = qt.fit_transform(X)\n",
    "quantile_xtrain = qt.fit_transform(X_train)\n",
    "quantile_xtest = qt.fit_transform(X_test)"
   ]
  },
  {
   "cell_type": "code",
   "execution_count": 29,
   "metadata": {},
   "outputs": [
    {
     "data": {
      "text/plain": [
       "array([[0.        , 1.        , 1.        , 0.24806202, 0.16666667,\n",
       "        0.55555556],\n",
       "       [0.        , 1.        , 1.        , 0.26356589, 0.21794872,\n",
       "        0.55555556],\n",
       "       [0.        , 1.        , 1.        , 0.3255814 , 0.99555556,\n",
       "        0.55555556],\n",
       "       ...,\n",
       "       [1.        , 0.1124183 , 1.        , 0.95      , 0.1965812 ,\n",
       "        0.55555556],\n",
       "       [1.        , 1.        , 1.        , 0.04166667, 0.95111111,\n",
       "        0.55555556],\n",
       "       [1.        , 1.        , 1.        , 0.54074074, 0.98666667,\n",
       "        0.55555556]])"
      ]
     },
     "execution_count": 29,
     "metadata": {},
     "output_type": "execute_result"
    }
   ],
   "source": [
    "quantile_x"
   ]
  },
  {
   "cell_type": "code",
   "execution_count": 96,
   "metadata": {},
   "outputs": [],
   "source": [
    "from sklearn.preprocessing import PowerTransformer\n",
    "pt = PowerTransformer()\n",
    "pt.fit(X)\n",
    "pt.lambdas_\n",
    "transform_x = pt.transform(X)\n",
    "transform_xtrain = pt.transform(X_train)\n",
    "transform_xtest = pt.transform(X_test)"
   ]
  },
  {
   "cell_type": "code",
   "execution_count": 31,
   "metadata": {},
   "outputs": [
    {
     "data": {
      "text/plain": [
       "array([[-1.9985626 ,  0.50234953,  0.41932668, -0.79972816, -1.16848421,\n",
       "         0.26835758],\n",
       "       [-1.9985626 ,  0.50234953,  0.41932668, -0.74048982, -0.94054286,\n",
       "         0.26835758],\n",
       "       [-1.9985626 ,  0.50234953,  0.41932668, -0.51260556,  1.55687177,\n",
       "         0.26835758],\n",
       "       ...,\n",
       "       [ 1.47123503, -1.98781078,  0.41932668,  1.4085153 , -1.03345791,\n",
       "         0.26835758],\n",
       "       [ 1.47123503,  0.50234953,  0.41932668, -1.77355907,  1.43487049,\n",
       "         0.26835758],\n",
       "       [ 1.47123503,  0.50234953,  0.41932668,  0.22835256,  1.53259257,\n",
       "         0.26835758]])"
      ]
     },
     "execution_count": 31,
     "metadata": {},
     "output_type": "execute_result"
    }
   ],
   "source": [
    "transform_x"
   ]
  },
  {
   "cell_type": "code",
   "execution_count": 90,
   "metadata": {},
   "outputs": [],
   "source": [
    "from sklearn.preprocessing import RobustScaler\n",
    "transformer = RobustScaler().fit(X)\n",
    "robust_x = transformer.transform(X)\n",
    "robust_xtrain = transformer.transform(X_train)\n",
    "robust_xtest = transformer.transform(X_test)"
   ]
  },
  {
   "cell_type": "code",
   "execution_count": 33,
   "metadata": {},
   "outputs": [
    {
     "data": {
      "text/plain": [
       "array([[-1.00000000e+00,  0.00000000e+00,  0.00000000e+00,\n",
       "        -5.07462687e-01, -6.72727273e-01,  0.00000000e+00],\n",
       "       [-1.00000000e+00,  0.00000000e+00,  0.00000000e+00,\n",
       "        -4.77611940e-01, -5.63636364e-01,  0.00000000e+00],\n",
       "       [-1.00000000e+00,  0.00000000e+00,  0.00000000e+00,\n",
       "        -3.58208955e-01,  1.02727273e+00,  0.00000000e+00],\n",
       "       ...,\n",
       "       [ 1.00000000e+00, -8.40000000e+01,  0.00000000e+00,\n",
       "         8.80597015e-01, -6.09090909e-01,  0.00000000e+00],\n",
       "       [ 1.00000000e+00,  0.00000000e+00,  0.00000000e+00,\n",
       "        -9.10447761e-01,  9.36363636e-01,  0.00000000e+00],\n",
       "       [ 1.00000000e+00,  0.00000000e+00,  0.00000000e+00,\n",
       "         7.46268657e-02,  1.00909091e+00,  0.00000000e+00]])"
      ]
     },
     "execution_count": 33,
     "metadata": {},
     "output_type": "execute_result"
    }
   ],
   "source": [
    "robust_x"
   ]
  },
  {
   "cell_type": "code",
   "execution_count": 84,
   "metadata": {},
   "outputs": [],
   "source": [
    "from sklearn.preprocessing import MinMaxScaler\n",
    "scaler = MinMaxScaler()\n",
    "scaler.fit(X)\n",
    "scaler.data_max_\n",
    "minmax_x = scaler.transform(X)\n",
    "minmax_xtrain = scaler.transform(X_train)\n",
    "minmax_xtest = scaler.transform(X_test)"
   ]
  },
  {
   "cell_type": "code",
   "execution_count": 35,
   "metadata": {},
   "outputs": [
    {
     "data": {
      "text/plain": [
       "array([[0.        , 1.        , 1.        , 0.24427481, 0.16444444,\n",
       "        0.83333333],\n",
       "       [0.        , 1.        , 1.        , 0.25954198, 0.21777778,\n",
       "        0.83333333],\n",
       "       [0.        , 1.        , 1.        , 0.32061069, 0.99555556,\n",
       "        0.83333333],\n",
       "       ...,\n",
       "       [1.        , 0.14285714, 1.        , 0.95419847, 0.19555556,\n",
       "        0.83333333],\n",
       "       [1.        , 1.        , 1.        , 0.03816794, 0.95111111,\n",
       "        0.83333333],\n",
       "       [1.        , 1.        , 1.        , 0.54198473, 0.98666667,\n",
       "        0.83333333]])"
      ]
     },
     "execution_count": 35,
     "metadata": {},
     "output_type": "execute_result"
    }
   ],
   "source": [
    "minmax_x"
   ]
  },
  {
   "cell_type": "code",
   "execution_count": 78,
   "metadata": {},
   "outputs": [],
   "source": [
    "from sklearn.preprocessing import MaxAbsScaler\n",
    "transformer = MaxAbsScaler().fit(X)\n",
    "maxabs_x = transformer.transform(X)\n",
    "maxabs_xtrain = transformer.transform(X_train)\n",
    "maxabs_xtest = transformer.transform(X_test)"
   ]
  },
  {
   "cell_type": "code",
   "execution_count": 37,
   "metadata": {},
   "outputs": [
    {
     "data": {
      "text/plain": [
       "array([[0.07692308, 1.        , 1.        , 0.24427481, 0.16444444,\n",
       "        0.83333333],\n",
       "       [0.07692308, 1.        , 1.        , 0.25954198, 0.21777778,\n",
       "        0.83333333],\n",
       "       [0.07692308, 1.        , 1.        , 0.32061069, 0.99555556,\n",
       "        0.83333333],\n",
       "       ...,\n",
       "       [1.        , 0.15151515, 1.        , 0.95419847, 0.19555556,\n",
       "        0.83333333],\n",
       "       [1.        , 1.        , 1.        , 0.03816794, 0.95111111,\n",
       "        0.83333333],\n",
       "       [1.        , 1.        , 1.        , 0.54198473, 0.98666667,\n",
       "        0.83333333]])"
      ]
     },
     "execution_count": 37,
     "metadata": {},
     "output_type": "execute_result"
    }
   ],
   "source": [
    "maxabs_x"
   ]
  },
  {
   "cell_type": "markdown",
   "metadata": {},
   "source": [
    "---\n",
    "Scalers:\n",
    "    - maxabs_xtrain and maxabs_xtest\n",
    "    - X_train_norm and X_test_norm\n",
    "    - quantile_xtrain quantile_xtest\n",
    "    - transform_xtrain and transform_xtest\n",
    "    - robust_xtrain and robust_xtest\n",
    "    - minmax_xtrain and minmax_xtest\n",
    "    - X_train_ss and X_test_ss "
   ]
  },
  {
   "cell_type": "code",
   "execution_count": 108,
   "metadata": {},
   "outputs": [],
   "source": [
    "from sklearn.linear_model import LogisticRegression\n",
    "\n",
    "clf = LogisticRegression(max_iter=80)"
   ]
  },
  {
   "cell_type": "code",
   "execution_count": 109,
   "metadata": {},
   "outputs": [
    {
     "data": {
      "text/html": [
       "<style>#sk-container-id-11 {color: black;background-color: white;}#sk-container-id-11 pre{padding: 0;}#sk-container-id-11 div.sk-toggleable {background-color: white;}#sk-container-id-11 label.sk-toggleable__label {cursor: pointer;display: block;width: 100%;margin-bottom: 0;padding: 0.3em;box-sizing: border-box;text-align: center;}#sk-container-id-11 label.sk-toggleable__label-arrow:before {content: \"▸\";float: left;margin-right: 0.25em;color: #696969;}#sk-container-id-11 label.sk-toggleable__label-arrow:hover:before {color: black;}#sk-container-id-11 div.sk-estimator:hover label.sk-toggleable__label-arrow:before {color: black;}#sk-container-id-11 div.sk-toggleable__content {max-height: 0;max-width: 0;overflow: hidden;text-align: left;background-color: #f0f8ff;}#sk-container-id-11 div.sk-toggleable__content pre {margin: 0.2em;color: black;border-radius: 0.25em;background-color: #f0f8ff;}#sk-container-id-11 input.sk-toggleable__control:checked~div.sk-toggleable__content {max-height: 200px;max-width: 100%;overflow: auto;}#sk-container-id-11 input.sk-toggleable__control:checked~label.sk-toggleable__label-arrow:before {content: \"▾\";}#sk-container-id-11 div.sk-estimator input.sk-toggleable__control:checked~label.sk-toggleable__label {background-color: #d4ebff;}#sk-container-id-11 div.sk-label input.sk-toggleable__control:checked~label.sk-toggleable__label {background-color: #d4ebff;}#sk-container-id-11 input.sk-hidden--visually {border: 0;clip: rect(1px 1px 1px 1px);clip: rect(1px, 1px, 1px, 1px);height: 1px;margin: -1px;overflow: hidden;padding: 0;position: absolute;width: 1px;}#sk-container-id-11 div.sk-estimator {font-family: monospace;background-color: #f0f8ff;border: 1px dotted black;border-radius: 0.25em;box-sizing: border-box;margin-bottom: 0.5em;}#sk-container-id-11 div.sk-estimator:hover {background-color: #d4ebff;}#sk-container-id-11 div.sk-parallel-item::after {content: \"\";width: 100%;border-bottom: 1px solid gray;flex-grow: 1;}#sk-container-id-11 div.sk-label:hover label.sk-toggleable__label {background-color: #d4ebff;}#sk-container-id-11 div.sk-serial::before {content: \"\";position: absolute;border-left: 1px solid gray;box-sizing: border-box;top: 0;bottom: 0;left: 50%;z-index: 0;}#sk-container-id-11 div.sk-serial {display: flex;flex-direction: column;align-items: center;background-color: white;padding-right: 0.2em;padding-left: 0.2em;position: relative;}#sk-container-id-11 div.sk-item {position: relative;z-index: 1;}#sk-container-id-11 div.sk-parallel {display: flex;align-items: stretch;justify-content: center;background-color: white;position: relative;}#sk-container-id-11 div.sk-item::before, #sk-container-id-11 div.sk-parallel-item::before {content: \"\";position: absolute;border-left: 1px solid gray;box-sizing: border-box;top: 0;bottom: 0;left: 50%;z-index: -1;}#sk-container-id-11 div.sk-parallel-item {display: flex;flex-direction: column;z-index: 1;position: relative;background-color: white;}#sk-container-id-11 div.sk-parallel-item:first-child::after {align-self: flex-end;width: 50%;}#sk-container-id-11 div.sk-parallel-item:last-child::after {align-self: flex-start;width: 50%;}#sk-container-id-11 div.sk-parallel-item:only-child::after {width: 0;}#sk-container-id-11 div.sk-dashed-wrapped {border: 1px dashed gray;margin: 0 0.4em 0.5em 0.4em;box-sizing: border-box;padding-bottom: 0.4em;background-color: white;}#sk-container-id-11 div.sk-label label {font-family: monospace;font-weight: bold;display: inline-block;line-height: 1.2em;}#sk-container-id-11 div.sk-label-container {text-align: center;}#sk-container-id-11 div.sk-container {/* jupyter's `normalize.less` sets `[hidden] { display: none; }` but bootstrap.min.css set `[hidden] { display: none !important; }` so we also need the `!important` here to be able to override the default hidden behavior on the sphinx rendered scikit-learn.org. See: https://github.com/scikit-learn/scikit-learn/issues/21755 */display: inline-block !important;position: relative;}#sk-container-id-11 div.sk-text-repr-fallback {display: none;}</style><div id=\"sk-container-id-11\" class=\"sk-top-container\"><div class=\"sk-text-repr-fallback\"><pre>LogisticRegression(max_iter=80)</pre><b>In a Jupyter environment, please rerun this cell to show the HTML representation or trust the notebook. <br />On GitHub, the HTML representation is unable to render, please try loading this page with nbviewer.org.</b></div><div class=\"sk-container\" hidden><div class=\"sk-item\"><div class=\"sk-estimator sk-toggleable\"><input class=\"sk-toggleable__control sk-hidden--visually\" id=\"sk-estimator-id-11\" type=\"checkbox\" checked><label for=\"sk-estimator-id-11\" class=\"sk-toggleable__label sk-toggleable__label-arrow\">LogisticRegression</label><div class=\"sk-toggleable__content\"><pre>LogisticRegression(max_iter=80)</pre></div></div></div></div></div>"
      ],
      "text/plain": [
       "LogisticRegression(max_iter=80)"
      ]
     },
     "execution_count": 109,
     "metadata": {},
     "output_type": "execute_result"
    }
   ],
   "source": [
    "clf.fit(X_train_norm, y_train)"
   ]
  },
  {
   "cell_type": "code",
   "execution_count": 110,
   "metadata": {},
   "outputs": [],
   "source": [
    "predictions = clf.predict(X_test_norm)"
   ]
  },
  {
   "cell_type": "code",
   "execution_count": 111,
   "metadata": {},
   "outputs": [],
   "source": [
    "from sklearn.metrics import confusion_matrix"
   ]
  },
  {
   "cell_type": "code",
   "execution_count": 112,
   "metadata": {},
   "outputs": [
    {
     "data": {
      "text/plain": [
       "array([[97,  2],\n",
       "       [42, 13]])"
      ]
     },
     "execution_count": 112,
     "metadata": {},
     "output_type": "execute_result"
    }
   ],
   "source": [
    "confusion_matrix(y_test, predictions)\n"
   ]
  },
  {
   "cell_type": "markdown",
   "metadata": {},
   "source": [
    "basic:\n",
    "\n",
    "    -array([[95,  4],\n",
    "        - [41, 14]])\n",
    "        \n",
    "ss: \n",
    "    - array([[95,  4],\n",
    "       - [41, 14]])\n",
    "       \n",
    "normalization:\n",
    "    - array([[97,  2],\n",
    "       - [42, 13]])\n",
    "       \n",
    "maxabs:\n",
    "    - array([[95,  4],\n",
    "       - [42, 13]])\n",
    "       \n",
    "minmax:\n",
    "    - array([[95,  4],\n",
    "       - [42, 13]])\n",
    "       \n",
    "robust: \n",
    "    - array([[95,  4],\n",
    "       - [41, 14]])\n",
    "       \n",
    "transformer:\n",
    "    - array([[95,  4],\n",
    "       - [43, 12]])\n",
    "       \n",
    "quantile:\n",
    "    - array([[95,  4],\n",
    "       - [42, 13]])"
   ]
  },
  {
   "cell_type": "code",
   "execution_count": 45,
   "metadata": {},
   "outputs": [
    {
     "name": "stdout",
     "output_type": "stream",
     "text": [
      "True Positive(TP)  =  14\n",
      "True Negative(TN)  =  95\n",
      "False Positive(FP) =  4\n",
      "False Negative(FN) =  41\n"
     ]
    }
   ],
   "source": [
    "from sklearn.metrics import confusion_matrix\n",
    "\n",
    "# cm = confusion_matrix(y_test, predictions)\n",
    "\n",
    "TN, FP, FN, TP = confusion_matrix(y_test, predictions).ravel()\n",
    "\n",
    "print('True Positive(TP)  = ', TP)\n",
    "print('True Negative(TN)  = ', TN)\n",
    "print('False Positive(FP) = ', FP)\n",
    "print('False Negative(FN) = ', FN)\n"
   ]
  },
  {
   "cell_type": "code",
   "execution_count": 46,
   "metadata": {},
   "outputs": [
    {
     "name": "stdout",
     "output_type": "stream",
     "text": [
      "Accuracy of the binary classifier = 0.708\n"
     ]
    }
   ],
   "source": [
    "accuracy =  (TP + TN) / (TP + FP + TN + FN)\n",
    "\n",
    "print('Accuracy of the binary classifier = {:0.3f}'.format(accuracy))\n"
   ]
  },
  {
   "cell_type": "code",
   "execution_count": 51,
   "metadata": {},
   "outputs": [],
   "source": [
    "models = {}\n",
    "\n",
    "# Logistic Regression\n",
    "from sklearn.linear_model import LogisticRegression\n",
    "models['Logistic Regression'] = LogisticRegression()\n",
    "\n",
    "# Support Vector Machines\n",
    "from sklearn.svm import LinearSVC\n",
    "models['Support Vector Machines'] = LinearSVC(max_iter=100000)\n",
    "\n",
    "# Decision Trees\n",
    "from sklearn.tree import DecisionTreeClassifier\n",
    "models['Decision Trees'] = DecisionTreeClassifier()\n",
    "\n",
    "# Random Forest\n",
    "from sklearn.ensemble import RandomForestClassifier\n",
    "models['Random Forest'] = RandomForestClassifier()\n",
    "\n",
    "# Naive Bayes\n",
    "from sklearn.naive_bayes import GaussianNB\n",
    "models['Naive Bayes'] = GaussianNB()\n",
    "\n",
    "# K-Nearest Neighbors\n",
    "from sklearn.neighbors import KNeighborsClassifier\n",
    "models['K-Nearest Neighbor'] = KNeighborsClassifier()"
   ]
  },
  {
   "cell_type": "code",
   "execution_count": 52,
   "metadata": {},
   "outputs": [
    {
     "name": "stderr",
     "output_type": "stream",
     "text": [
      "/Users/ryantalbot/opt/anaconda3/envs/tf2/lib/python3.9/site-packages/sklearn/svm/_base.py:1225: ConvergenceWarning: Liblinear failed to converge, increase the number of iterations.\n",
      "  warnings.warn(\n"
     ]
    }
   ],
   "source": [
    "from sklearn.metrics import accuracy_score, precision_score, recall_score\n",
    "\n",
    "accuracy, precision, recall = {}, {}, {}\n",
    "\n",
    "for key in models.keys():\n",
    "    \n",
    "    # Fit the classifier\n",
    "    models[key].fit(X_train, y_train)\n",
    "    \n",
    "    # Make predictions\n",
    "    predictions = models[key].predict(X_test)\n",
    "    \n",
    "    # Calculate metrics\n",
    "    accuracy[key] = accuracy_score(predictions, y_test)\n",
    "    precision[key] = precision_score(predictions, y_test)\n",
    "    recall[key] = recall_score(predictions, y_test)"
   ]
  },
  {
   "cell_type": "code",
   "execution_count": 53,
   "metadata": {},
   "outputs": [
    {
     "data": {
      "text/html": [
       "<div>\n",
       "<style scoped>\n",
       "    .dataframe tbody tr th:only-of-type {\n",
       "        vertical-align: middle;\n",
       "    }\n",
       "\n",
       "    .dataframe tbody tr th {\n",
       "        vertical-align: top;\n",
       "    }\n",
       "\n",
       "    .dataframe thead th {\n",
       "        text-align: right;\n",
       "    }\n",
       "</style>\n",
       "<table border=\"1\" class=\"dataframe\">\n",
       "  <thead>\n",
       "    <tr style=\"text-align: right;\">\n",
       "      <th></th>\n",
       "      <th>Accuracy</th>\n",
       "      <th>Precision</th>\n",
       "      <th>Recall</th>\n",
       "    </tr>\n",
       "  </thead>\n",
       "  <tbody>\n",
       "    <tr>\n",
       "      <th>Logistic Regression</th>\n",
       "      <td>0.707792</td>\n",
       "      <td>0.254545</td>\n",
       "      <td>0.777778</td>\n",
       "    </tr>\n",
       "    <tr>\n",
       "      <th>Support Vector Machines</th>\n",
       "      <td>0.701299</td>\n",
       "      <td>0.200000</td>\n",
       "      <td>0.846154</td>\n",
       "    </tr>\n",
       "    <tr>\n",
       "      <th>Decision Trees</th>\n",
       "      <td>0.597403</td>\n",
       "      <td>0.472727</td>\n",
       "      <td>0.440678</td>\n",
       "    </tr>\n",
       "    <tr>\n",
       "      <th>Random Forest</th>\n",
       "      <td>0.610390</td>\n",
       "      <td>0.290909</td>\n",
       "      <td>0.432432</td>\n",
       "    </tr>\n",
       "    <tr>\n",
       "      <th>Naive Bayes</th>\n",
       "      <td>0.701299</td>\n",
       "      <td>0.327273</td>\n",
       "      <td>0.666667</td>\n",
       "    </tr>\n",
       "    <tr>\n",
       "      <th>K-Nearest Neighbor</th>\n",
       "      <td>0.707792</td>\n",
       "      <td>0.454545</td>\n",
       "      <td>0.625000</td>\n",
       "    </tr>\n",
       "  </tbody>\n",
       "</table>\n",
       "</div>"
      ],
      "text/plain": [
       "                         Accuracy  Precision    Recall\n",
       "Logistic Regression      0.707792   0.254545  0.777778\n",
       "Support Vector Machines  0.701299   0.200000  0.846154\n",
       "Decision Trees           0.597403   0.472727  0.440678\n",
       "Random Forest            0.610390   0.290909  0.432432\n",
       "Naive Bayes              0.701299   0.327273  0.666667\n",
       "K-Nearest Neighbor       0.707792   0.454545  0.625000"
      ]
     },
     "execution_count": 53,
     "metadata": {},
     "output_type": "execute_result"
    }
   ],
   "source": [
    "import pandas as pd\n",
    "\n",
    "df_model = pd.DataFrame(index=models.keys(), columns=['Accuracy', 'Precision', 'Recall'])\n",
    "df_model['Accuracy'] = accuracy.values()\n",
    "df_model['Precision'] = precision.values()\n",
    "df_model['Recall'] = recall.values()\n",
    "\n",
    "df_model\n"
   ]
  },
  {
   "cell_type": "code",
   "execution_count": 54,
   "metadata": {},
   "outputs": [
    {
     "data": {
      "image/png": "[encoded data removed]",
      "text/plain": [
       "<Figure size 432x288 with 1 Axes>"
      ]
     },
     "metadata": {
      "needs_background": "light"
     },
     "output_type": "display_data"
    }
   ],
   "source": [
    "ax = df_model.plot.barh()\n",
    "ax.legend(\n",
    "    ncol=len(models.keys()), \n",
    "    bbox_to_anchor=(0, 1), \n",
    "    loc='lower left', \n",
    "    prop={'size': 14}\n",
    ")\n",
    "plt.tight_layout()\n"
   ]
  },
  {
   "cell_type": "code",
   "execution_count": null,
   "metadata": {},
   "outputs": [],
   "source": []
  }
 ],
 "metadata": {
  "kernelspec": {
   "display_name": "Python 3 (ipykernel)",
   "language": "python",
   "name": "python3"
  },
  "language_info": {
   "codemirror_mode": {
    "name": "ipython",
    "version": 3
   },
   "file_extension": ".py",
   "mimetype": "text/x-python",
   "name": "python",
   "nbconvert_exporter": "python",
   "pygments_lexer": "ipython3",
   "version": "3.9.12"
  }
 },
 "nbformat": 4,
 "nbformat_minor": 2
}
