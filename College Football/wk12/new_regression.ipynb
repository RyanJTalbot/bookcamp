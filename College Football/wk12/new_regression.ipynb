{
 "cells": [
  {
   "cell_type": "markdown",
   "metadata": {},
   "source": [
    "Log-loss is indicative of how close the prediction probability is to the corresponding actual/true value (0 or 1 in case of binary classification). "
   ]
  },
  {
   "cell_type": "code",
   "execution_count": 1,
   "metadata": {},
   "outputs": [],
   "source": [
    "import pandas as pd\n",
    "import numpy as np\n",
    "from sklearn.model_selection import train_test_split\n",
    "from sklearn.metrics import mean_squared_error\n",
    "from sklearn.metrics import r2_score\n",
    "from sklearn.metrics import mean_absolute_error\n",
    "from sklearn.metrics import mean_absolute_percentage_error\n",
    "\n",
    "from sklearn.ensemble import AdaBoostRegressor\n",
    "from sklearn.tree import DecisionTreeRegressor\n",
    "from sklearn.ensemble import RandomForestClassifier\n",
    "from sklearn.metrics import accuracy_score\n",
    "from sklearn.metrics import precision_score"
   ]
  },
  {
   "cell_type": "code",
   "execution_count": 2,
   "metadata": {},
   "outputs": [],
   "source": [
    "df = pd.read_csv('encoded_df.csv')"
   ]
  },
  {
   "cell_type": "code",
   "execution_count": 3,
   "metadata": {
    "scrolled": true
   },
   "outputs": [
    {
     "data": {
      "text/html": [
       "<div>\n",
       "<style scoped>\n",
       "    .dataframe tbody tr th:only-of-type {\n",
       "        vertical-align: middle;\n",
       "    }\n",
       "\n",
       "    .dataframe tbody tr th {\n",
       "        vertical-align: top;\n",
       "    }\n",
       "\n",
       "    .dataframe thead th {\n",
       "        text-align: right;\n",
       "    }\n",
       "</style>\n",
       "<table border=\"1\" class=\"dataframe\">\n",
       "  <thead>\n",
       "    <tr style=\"text-align: right;\">\n",
       "      <th></th>\n",
       "      <th>Wk</th>\n",
       "      <th>Winner</th>\n",
       "      <th>Pts</th>\n",
       "      <th>Loser</th>\n",
       "      <th>Pts.1</th>\n",
       "      <th>winners</th>\n",
       "      <th>losers</th>\n",
       "      <th>home_rank</th>\n",
       "      <th>away_rank</th>\n",
       "      <th>home_team_code</th>\n",
       "      <th>away_team_code</th>\n",
       "      <th>home_results</th>\n",
       "      <th>win_rank</th>\n",
       "      <th>lose_rank</th>\n",
       "      <th>day_code</th>\n",
       "      <th>hours</th>\n",
       "      <th>null</th>\n",
       "      <th>half</th>\n",
       "      <th>quart</th>\n",
       "      <th>three_quart</th>\n",
       "    </tr>\n",
       "  </thead>\n",
       "  <tbody>\n",
       "    <tr>\n",
       "      <th>0</th>\n",
       "      <td>1</td>\n",
       "      <td>Florida Atlantic</td>\n",
       "      <td>43</td>\n",
       "      <td>Charlotte</td>\n",
       "      <td>13</td>\n",
       "      <td>Florida Atlantic</td>\n",
       "      <td>Charlotte</td>\n",
       "      <td>99</td>\n",
       "      <td>99</td>\n",
       "      <td>32</td>\n",
       "      <td>37</td>\n",
       "      <td>0</td>\n",
       "      <td>99</td>\n",
       "      <td>99</td>\n",
       "      <td>5</td>\n",
       "      <td>19</td>\n",
       "      <td>1</td>\n",
       "      <td>0</td>\n",
       "      <td>0</td>\n",
       "      <td>0</td>\n",
       "    </tr>\n",
       "    <tr>\n",
       "      <th>1</th>\n",
       "      <td>1</td>\n",
       "      <td>Florida State</td>\n",
       "      <td>47</td>\n",
       "      <td>Duquesne</td>\n",
       "      <td>7</td>\n",
       "      <td>Florida State</td>\n",
       "      <td>Duquesne</td>\n",
       "      <td>99</td>\n",
       "      <td>99</td>\n",
       "      <td>34</td>\n",
       "      <td>49</td>\n",
       "      <td>0</td>\n",
       "      <td>99</td>\n",
       "      <td>99</td>\n",
       "      <td>5</td>\n",
       "      <td>17</td>\n",
       "      <td>1</td>\n",
       "      <td>0</td>\n",
       "      <td>0</td>\n",
       "      <td>0</td>\n",
       "    </tr>\n",
       "    <tr>\n",
       "      <th>2</th>\n",
       "      <td>1</td>\n",
       "      <td>Illinois</td>\n",
       "      <td>38</td>\n",
       "      <td>Wyoming</td>\n",
       "      <td>6</td>\n",
       "      <td>Illinois</td>\n",
       "      <td>Wyoming</td>\n",
       "      <td>99</td>\n",
       "      <td>99</td>\n",
       "      <td>42</td>\n",
       "      <td>221</td>\n",
       "      <td>0</td>\n",
       "      <td>99</td>\n",
       "      <td>99</td>\n",
       "      <td>5</td>\n",
       "      <td>16</td>\n",
       "      <td>1</td>\n",
       "      <td>0</td>\n",
       "      <td>0</td>\n",
       "      <td>0</td>\n",
       "    </tr>\n",
       "    <tr>\n",
       "      <th>3</th>\n",
       "      <td>1</td>\n",
       "      <td>Nevada</td>\n",
       "      <td>23</td>\n",
       "      <td>New Mexico State</td>\n",
       "      <td>12</td>\n",
       "      <td>Nevada</td>\n",
       "      <td>New Mexico State</td>\n",
       "      <td>99</td>\n",
       "      <td>99</td>\n",
       "      <td>76</td>\n",
       "      <td>121</td>\n",
       "      <td>1</td>\n",
       "      <td>99</td>\n",
       "      <td>99</td>\n",
       "      <td>5</td>\n",
       "      <td>22</td>\n",
       "      <td>1</td>\n",
       "      <td>0</td>\n",
       "      <td>0</td>\n",
       "      <td>0</td>\n",
       "    </tr>\n",
       "    <tr>\n",
       "      <th>4</th>\n",
       "      <td>1</td>\n",
       "      <td>Nevada-Las Vegas</td>\n",
       "      <td>52</td>\n",
       "      <td>Idaho State</td>\n",
       "      <td>21</td>\n",
       "      <td>Nevada-Las Vegas</td>\n",
       "      <td>Idaho State</td>\n",
       "      <td>99</td>\n",
       "      <td>99</td>\n",
       "      <td>74</td>\n",
       "      <td>76</td>\n",
       "      <td>0</td>\n",
       "      <td>99</td>\n",
       "      <td>99</td>\n",
       "      <td>5</td>\n",
       "      <td>15</td>\n",
       "      <td>0</td>\n",
       "      <td>1</td>\n",
       "      <td>0</td>\n",
       "      <td>0</td>\n",
       "    </tr>\n",
       "  </tbody>\n",
       "</table>\n",
       "</div>"
      ],
      "text/plain": [
       "   Wk            Winner  Pts             Loser  Pts.1           winners  \\\n",
       "0   1  Florida Atlantic   43         Charlotte     13  Florida Atlantic   \n",
       "1   1     Florida State   47          Duquesne      7     Florida State   \n",
       "2   1          Illinois   38           Wyoming      6          Illinois   \n",
       "3   1            Nevada   23  New Mexico State     12            Nevada   \n",
       "4   1  Nevada-Las Vegas   52       Idaho State     21  Nevada-Las Vegas   \n",
       "\n",
       "             losers  home_rank  away_rank  home_team_code  away_team_code  \\\n",
       "0         Charlotte         99         99              32              37   \n",
       "1          Duquesne         99         99              34              49   \n",
       "2           Wyoming         99         99              42             221   \n",
       "3  New Mexico State         99         99              76             121   \n",
       "4       Idaho State         99         99              74              76   \n",
       "\n",
       "   home_results  win_rank  lose_rank  day_code  hours  null  half  quart  \\\n",
       "0             0        99         99         5     19     1     0      0   \n",
       "1             0        99         99         5     17     1     0      0   \n",
       "2             0        99         99         5     16     1     0      0   \n",
       "3             1        99         99         5     22     1     0      0   \n",
       "4             0        99         99         5     15     0     1      0   \n",
       "\n",
       "   three_quart  \n",
       "0            0  \n",
       "1            0  \n",
       "2            0  \n",
       "3            0  \n",
       "4            0  "
      ]
     },
     "execution_count": 3,
     "metadata": {},
     "output_type": "execute_result"
    }
   ],
   "source": [
    "df.head()\n"
   ]
  },
  {
   "cell_type": "code",
   "execution_count": 4,
   "metadata": {},
   "outputs": [],
   "source": [
    "df = df.drop(columns=['Winner', 'Loser', 'hours', 'null', 'half', 'quart', 'three_quart'])"
   ]
  },
  {
   "cell_type": "code",
   "execution_count": 5,
   "metadata": {},
   "outputs": [
    {
     "data": {
      "text/html": [
       "<div>\n",
       "<style scoped>\n",
       "    .dataframe tbody tr th:only-of-type {\n",
       "        vertical-align: middle;\n",
       "    }\n",
       "\n",
       "    .dataframe tbody tr th {\n",
       "        vertical-align: top;\n",
       "    }\n",
       "\n",
       "    .dataframe thead th {\n",
       "        text-align: right;\n",
       "    }\n",
       "</style>\n",
       "<table border=\"1\" class=\"dataframe\">\n",
       "  <thead>\n",
       "    <tr style=\"text-align: right;\">\n",
       "      <th></th>\n",
       "      <th>Wk</th>\n",
       "      <th>Pts</th>\n",
       "      <th>Pts.1</th>\n",
       "      <th>winners</th>\n",
       "      <th>losers</th>\n",
       "      <th>home_rank</th>\n",
       "      <th>away_rank</th>\n",
       "      <th>home_team_code</th>\n",
       "      <th>away_team_code</th>\n",
       "      <th>home_results</th>\n",
       "      <th>win_rank</th>\n",
       "      <th>lose_rank</th>\n",
       "      <th>day_code</th>\n",
       "    </tr>\n",
       "  </thead>\n",
       "  <tbody>\n",
       "    <tr>\n",
       "      <th>83</th>\n",
       "      <td>2</td>\n",
       "      <td>42</td>\n",
       "      <td>10</td>\n",
       "      <td>Tulane</td>\n",
       "      <td>Massachusetts</td>\n",
       "      <td>99</td>\n",
       "      <td>99</td>\n",
       "      <td>116</td>\n",
       "      <td>103</td>\n",
       "      <td>0</td>\n",
       "      <td>99</td>\n",
       "      <td>99</td>\n",
       "      <td>5</td>\n",
       "    </tr>\n",
       "    <tr>\n",
       "      <th>165</th>\n",
       "      <td>3</td>\n",
       "      <td>52</td>\n",
       "      <td>0</td>\n",
       "      <td>Tulane</td>\n",
       "      <td>Alcorn State</td>\n",
       "      <td>99</td>\n",
       "      <td>99</td>\n",
       "      <td>116</td>\n",
       "      <td>8</td>\n",
       "      <td>0</td>\n",
       "      <td>99</td>\n",
       "      <td>99</td>\n",
       "      <td>5</td>\n",
       "    </tr>\n",
       "    <tr>\n",
       "      <th>235</th>\n",
       "      <td>4</td>\n",
       "      <td>17</td>\n",
       "      <td>10</td>\n",
       "      <td>Tulane</td>\n",
       "      <td>Kansas State</td>\n",
       "      <td>99</td>\n",
       "      <td>99</td>\n",
       "      <td>48</td>\n",
       "      <td>198</td>\n",
       "      <td>1</td>\n",
       "      <td>99</td>\n",
       "      <td>99</td>\n",
       "      <td>5</td>\n",
       "    </tr>\n",
       "    <tr>\n",
       "      <th>319</th>\n",
       "      <td>6</td>\n",
       "      <td>27</td>\n",
       "      <td>24</td>\n",
       "      <td>Tulane</td>\n",
       "      <td>Houston</td>\n",
       "      <td>99</td>\n",
       "      <td>99</td>\n",
       "      <td>41</td>\n",
       "      <td>198</td>\n",
       "      <td>1</td>\n",
       "      <td>99</td>\n",
       "      <td>99</td>\n",
       "      <td>4</td>\n",
       "    </tr>\n",
       "    <tr>\n",
       "      <th>428</th>\n",
       "      <td>7</td>\n",
       "      <td>24</td>\n",
       "      <td>9</td>\n",
       "      <td>Tulane</td>\n",
       "      <td>East Carolina</td>\n",
       "      <td>99</td>\n",
       "      <td>99</td>\n",
       "      <td>116</td>\n",
       "      <td>50</td>\n",
       "      <td>0</td>\n",
       "      <td>99</td>\n",
       "      <td>99</td>\n",
       "      <td>5</td>\n",
       "    </tr>\n",
       "    <tr>\n",
       "      <th>482</th>\n",
       "      <td>8</td>\n",
       "      <td>45</td>\n",
       "      <td>31</td>\n",
       "      <td>Tulane</td>\n",
       "      <td>South Florida</td>\n",
       "      <td>99</td>\n",
       "      <td>99</td>\n",
       "      <td>99</td>\n",
       "      <td>198</td>\n",
       "      <td>1</td>\n",
       "      <td>99</td>\n",
       "      <td>99</td>\n",
       "      <td>5</td>\n",
       "    </tr>\n",
       "    <tr>\n",
       "      <th>535</th>\n",
       "      <td>9</td>\n",
       "      <td>38</td>\n",
       "      <td>28</td>\n",
       "      <td>Tulane</td>\n",
       "      <td>Memphis</td>\n",
       "      <td>25</td>\n",
       "      <td>99</td>\n",
       "      <td>116</td>\n",
       "      <td>105</td>\n",
       "      <td>0</td>\n",
       "      <td>25</td>\n",
       "      <td>99</td>\n",
       "      <td>5</td>\n",
       "    </tr>\n",
       "    <tr>\n",
       "      <th>642</th>\n",
       "      <td>11</td>\n",
       "      <td>27</td>\n",
       "      <td>13</td>\n",
       "      <td>Tulane</td>\n",
       "      <td>Tulsa</td>\n",
       "      <td>99</td>\n",
       "      <td>19</td>\n",
       "      <td>117</td>\n",
       "      <td>198</td>\n",
       "      <td>1</td>\n",
       "      <td>19</td>\n",
       "      <td>99</td>\n",
       "      <td>5</td>\n",
       "    </tr>\n",
       "  </tbody>\n",
       "</table>\n",
       "</div>"
      ],
      "text/plain": [
       "     Wk  Pts  Pts.1 winners         losers  home_rank  away_rank  \\\n",
       "83    2   42     10  Tulane  Massachusetts         99         99   \n",
       "165   3   52      0  Tulane   Alcorn State         99         99   \n",
       "235   4   17     10  Tulane   Kansas State         99         99   \n",
       "319   6   27     24  Tulane        Houston         99         99   \n",
       "428   7   24      9  Tulane  East Carolina         99         99   \n",
       "482   8   45     31  Tulane  South Florida         99         99   \n",
       "535   9   38     28  Tulane        Memphis         25         99   \n",
       "642  11   27     13  Tulane          Tulsa         99         19   \n",
       "\n",
       "     home_team_code  away_team_code  home_results  win_rank  lose_rank  \\\n",
       "83              116             103             0        99         99   \n",
       "165             116               8             0        99         99   \n",
       "235              48             198             1        99         99   \n",
       "319              41             198             1        99         99   \n",
       "428             116              50             0        99         99   \n",
       "482              99             198             1        99         99   \n",
       "535             116             105             0        25         99   \n",
       "642             117             198             1        19         99   \n",
       "\n",
       "     day_code  \n",
       "83          5  \n",
       "165         5  \n",
       "235         5  \n",
       "319         4  \n",
       "428         5  \n",
       "482         5  \n",
       "535         5  \n",
       "642         5  "
      ]
     },
     "execution_count": 5,
     "metadata": {},
     "output_type": "execute_result"
    }
   ],
   "source": [
    "df[df['winners'] == 'Tulane']"
   ]
  },
  {
   "cell_type": "code",
   "execution_count": 6,
   "metadata": {},
   "outputs": [
    {
     "data": {
      "text/html": [
       "<div>\n",
       "<style scoped>\n",
       "    .dataframe tbody tr th:only-of-type {\n",
       "        vertical-align: middle;\n",
       "    }\n",
       "\n",
       "    .dataframe tbody tr th {\n",
       "        vertical-align: top;\n",
       "    }\n",
       "\n",
       "    .dataframe thead th {\n",
       "        text-align: right;\n",
       "    }\n",
       "</style>\n",
       "<table border=\"1\" class=\"dataframe\">\n",
       "  <thead>\n",
       "    <tr style=\"text-align: right;\">\n",
       "      <th></th>\n",
       "      <th>Wk</th>\n",
       "      <th>Pts</th>\n",
       "      <th>Pts.1</th>\n",
       "      <th>winners</th>\n",
       "      <th>losers</th>\n",
       "      <th>home_rank</th>\n",
       "      <th>away_rank</th>\n",
       "      <th>home_team_code</th>\n",
       "      <th>away_team_code</th>\n",
       "      <th>home_results</th>\n",
       "      <th>win_rank</th>\n",
       "      <th>lose_rank</th>\n",
       "      <th>day_code</th>\n",
       "    </tr>\n",
       "  </thead>\n",
       "  <tbody>\n",
       "    <tr>\n",
       "      <th>207</th>\n",
       "      <td>4</td>\n",
       "      <td>34</td>\n",
       "      <td>27</td>\n",
       "      <td>Maryland</td>\n",
       "      <td>Southern Methodist</td>\n",
       "      <td>99</td>\n",
       "      <td>99</td>\n",
       "      <td>58</td>\n",
       "      <td>173</td>\n",
       "      <td>0</td>\n",
       "      <td>99</td>\n",
       "      <td>99</td>\n",
       "      <td>5</td>\n",
       "    </tr>\n",
       "    <tr>\n",
       "      <th>305</th>\n",
       "      <td>5</td>\n",
       "      <td>42</td>\n",
       "      <td>34</td>\n",
       "      <td>Texas Christian</td>\n",
       "      <td>Southern Methodist</td>\n",
       "      <td>99</td>\n",
       "      <td>99</td>\n",
       "      <td>101</td>\n",
       "      <td>189</td>\n",
       "      <td>1</td>\n",
       "      <td>99</td>\n",
       "      <td>99</td>\n",
       "      <td>5</td>\n",
       "    </tr>\n",
       "    <tr>\n",
       "      <th>377</th>\n",
       "      <td>7</td>\n",
       "      <td>41</td>\n",
       "      <td>19</td>\n",
       "      <td>Central Florida</td>\n",
       "      <td>Southern Methodist</td>\n",
       "      <td>99</td>\n",
       "      <td>99</td>\n",
       "      <td>19</td>\n",
       "      <td>173</td>\n",
       "      <td>0</td>\n",
       "      <td>99</td>\n",
       "      <td>99</td>\n",
       "      <td>2</td>\n",
       "    </tr>\n",
       "    <tr>\n",
       "      <th>498</th>\n",
       "      <td>9</td>\n",
       "      <td>29</td>\n",
       "      <td>27</td>\n",
       "      <td>Cincinnati</td>\n",
       "      <td>Southern Methodist</td>\n",
       "      <td>99</td>\n",
       "      <td>21</td>\n",
       "      <td>101</td>\n",
       "      <td>39</td>\n",
       "      <td>1</td>\n",
       "      <td>21</td>\n",
       "      <td>99</td>\n",
       "      <td>5</td>\n",
       "    </tr>\n",
       "  </tbody>\n",
       "</table>\n",
       "</div>"
      ],
      "text/plain": [
       "     Wk  Pts  Pts.1          winners              losers  home_rank  \\\n",
       "207   4   34     27         Maryland  Southern Methodist         99   \n",
       "305   5   42     34  Texas Christian  Southern Methodist         99   \n",
       "377   7   41     19  Central Florida  Southern Methodist         99   \n",
       "498   9   29     27       Cincinnati  Southern Methodist         99   \n",
       "\n",
       "     away_rank  home_team_code  away_team_code  home_results  win_rank  \\\n",
       "207         99              58             173             0        99   \n",
       "305         99             101             189             1        99   \n",
       "377         99              19             173             0        99   \n",
       "498         21             101              39             1        21   \n",
       "\n",
       "     lose_rank  day_code  \n",
       "207         99         5  \n",
       "305         99         5  \n",
       "377         99         2  \n",
       "498         99         5  "
      ]
     },
     "execution_count": 6,
     "metadata": {},
     "output_type": "execute_result"
    }
   ],
   "source": [
    "df[df['losers'] == 'Southern Methodist']"
   ]
  },
  {
   "cell_type": "code",
   "execution_count": 7,
   "metadata": {},
   "outputs": [
    {
     "data": {
      "text/plain": [
       "(714, 13)"
      ]
     },
     "execution_count": 7,
     "metadata": {},
     "output_type": "execute_result"
    }
   ],
   "source": [
    "df.shape"
   ]
  },
  {
   "cell_type": "code",
   "execution_count": 8,
   "metadata": {},
   "outputs": [],
   "source": [
    "train = df.iloc[:614]"
   ]
  },
  {
   "cell_type": "code",
   "execution_count": 9,
   "metadata": {},
   "outputs": [],
   "source": [
    "test = df.iloc[614:]"
   ]
  },
  {
   "cell_type": "code",
   "execution_count": 10,
   "metadata": {},
   "outputs": [],
   "source": [
    "X_train = train.drop(columns=['winners', 'losers', 'Pts.1', 'Pts'])"
   ]
  },
  {
   "cell_type": "code",
   "execution_count": 11,
   "metadata": {},
   "outputs": [],
   "source": [
    "y_train = train['Pts']"
   ]
  },
  {
   "cell_type": "code",
   "execution_count": 12,
   "metadata": {},
   "outputs": [],
   "source": [
    "X_test = test.drop(columns=['winners', 'losers', 'Pts.1',  'Pts'])"
   ]
  },
  {
   "cell_type": "code",
   "execution_count": 13,
   "metadata": {},
   "outputs": [],
   "source": [
    "y_test = test['Pts']"
   ]
  },
  {
   "cell_type": "code",
   "execution_count": 14,
   "metadata": {},
   "outputs": [],
   "source": [
    "# X = df.drop(columns=['winners', 'losers', 'Pts.1'])"
   ]
  },
  {
   "cell_type": "code",
   "execution_count": 15,
   "metadata": {},
   "outputs": [],
   "source": [
    "# y = df['Pts.1']"
   ]
  },
  {
   "cell_type": "code",
   "execution_count": 16,
   "metadata": {},
   "outputs": [],
   "source": [
    "# X_train,X_test,y_train,y_test=train_test_split(X,y,test_size=0.2,random_state=123)\n"
   ]
  },
  {
   "cell_type": "code",
   "execution_count": 17,
   "metadata": {},
   "outputs": [],
   "source": [
    "from sklearn.ensemble import RandomForestRegressor\n",
    "from sklearn.datasets import make_regression"
   ]
  },
  {
   "cell_type": "code",
   "execution_count": 18,
   "metadata": {
    "scrolled": true
   },
   "outputs": [
    {
     "data": {
      "text/html": [
       "<style>#sk-container-id-1 {color: black;background-color: white;}#sk-container-id-1 pre{padding: 0;}#sk-container-id-1 div.sk-toggleable {background-color: white;}#sk-container-id-1 label.sk-toggleable__label {cursor: pointer;display: block;width: 100%;margin-bottom: 0;padding: 0.3em;box-sizing: border-box;text-align: center;}#sk-container-id-1 label.sk-toggleable__label-arrow:before {content: \"▸\";float: left;margin-right: 0.25em;color: #696969;}#sk-container-id-1 label.sk-toggleable__label-arrow:hover:before {color: black;}#sk-container-id-1 div.sk-estimator:hover label.sk-toggleable__label-arrow:before {color: black;}#sk-container-id-1 div.sk-toggleable__content {max-height: 0;max-width: 0;overflow: hidden;text-align: left;background-color: #f0f8ff;}#sk-container-id-1 div.sk-toggleable__content pre {margin: 0.2em;color: black;border-radius: 0.25em;background-color: #f0f8ff;}#sk-container-id-1 input.sk-toggleable__control:checked~div.sk-toggleable__content {max-height: 200px;max-width: 100%;overflow: auto;}#sk-container-id-1 input.sk-toggleable__control:checked~label.sk-toggleable__label-arrow:before {content: \"▾\";}#sk-container-id-1 div.sk-estimator input.sk-toggleable__control:checked~label.sk-toggleable__label {background-color: #d4ebff;}#sk-container-id-1 div.sk-label input.sk-toggleable__control:checked~label.sk-toggleable__label {background-color: #d4ebff;}#sk-container-id-1 input.sk-hidden--visually {border: 0;clip: rect(1px 1px 1px 1px);clip: rect(1px, 1px, 1px, 1px);height: 1px;margin: -1px;overflow: hidden;padding: 0;position: absolute;width: 1px;}#sk-container-id-1 div.sk-estimator {font-family: monospace;background-color: #f0f8ff;border: 1px dotted black;border-radius: 0.25em;box-sizing: border-box;margin-bottom: 0.5em;}#sk-container-id-1 div.sk-estimator:hover {background-color: #d4ebff;}#sk-container-id-1 div.sk-parallel-item::after {content: \"\";width: 100%;border-bottom: 1px solid gray;flex-grow: 1;}#sk-container-id-1 div.sk-label:hover label.sk-toggleable__label {background-color: #d4ebff;}#sk-container-id-1 div.sk-serial::before {content: \"\";position: absolute;border-left: 1px solid gray;box-sizing: border-box;top: 0;bottom: 0;left: 50%;z-index: 0;}#sk-container-id-1 div.sk-serial {display: flex;flex-direction: column;align-items: center;background-color: white;padding-right: 0.2em;padding-left: 0.2em;position: relative;}#sk-container-id-1 div.sk-item {position: relative;z-index: 1;}#sk-container-id-1 div.sk-parallel {display: flex;align-items: stretch;justify-content: center;background-color: white;position: relative;}#sk-container-id-1 div.sk-item::before, #sk-container-id-1 div.sk-parallel-item::before {content: \"\";position: absolute;border-left: 1px solid gray;box-sizing: border-box;top: 0;bottom: 0;left: 50%;z-index: -1;}#sk-container-id-1 div.sk-parallel-item {display: flex;flex-direction: column;z-index: 1;position: relative;background-color: white;}#sk-container-id-1 div.sk-parallel-item:first-child::after {align-self: flex-end;width: 50%;}#sk-container-id-1 div.sk-parallel-item:last-child::after {align-self: flex-start;width: 50%;}#sk-container-id-1 div.sk-parallel-item:only-child::after {width: 0;}#sk-container-id-1 div.sk-dashed-wrapped {border: 1px dashed gray;margin: 0 0.4em 0.5em 0.4em;box-sizing: border-box;padding-bottom: 0.4em;background-color: white;}#sk-container-id-1 div.sk-label label {font-family: monospace;font-weight: bold;display: inline-block;line-height: 1.2em;}#sk-container-id-1 div.sk-label-container {text-align: center;}#sk-container-id-1 div.sk-container {/* jupyter's `normalize.less` sets `[hidden] { display: none; }` but bootstrap.min.css set `[hidden] { display: none !important; }` so we also need the `!important` here to be able to override the default hidden behavior on the sphinx rendered scikit-learn.org. See: https://github.com/scikit-learn/scikit-learn/issues/21755 */display: inline-block !important;position: relative;}#sk-container-id-1 div.sk-text-repr-fallback {display: none;}</style><div id=\"sk-container-id-1\" class=\"sk-top-container\"><div class=\"sk-text-repr-fallback\"><pre>RandomForestRegressor(max_depth=50000, min_samples_split=10, n_estimators=65,\n",
       "                      random_state=0)</pre><b>In a Jupyter environment, please rerun this cell to show the HTML representation or trust the notebook. <br />On GitHub, the HTML representation is unable to render, please try loading this page with nbviewer.org.</b></div><div class=\"sk-container\" hidden><div class=\"sk-item\"><div class=\"sk-estimator sk-toggleable\"><input class=\"sk-toggleable__control sk-hidden--visually\" id=\"sk-estimator-id-1\" type=\"checkbox\" checked><label for=\"sk-estimator-id-1\" class=\"sk-toggleable__label sk-toggleable__label-arrow\">RandomForestRegressor</label><div class=\"sk-toggleable__content\"><pre>RandomForestRegressor(max_depth=50000, min_samples_split=10, n_estimators=65,\n",
       "                      random_state=0)</pre></div></div></div></div></div>"
      ],
      "text/plain": [
       "RandomForestRegressor(max_depth=50000, min_samples_split=10, n_estimators=65,\n",
       "                      random_state=0)"
      ]
     },
     "execution_count": 18,
     "metadata": {},
     "output_type": "execute_result"
    }
   ],
   "source": [
    "regr = RandomForestRegressor(n_estimators=65, max_depth=50000, min_samples_split=10, random_state=0)\n",
    "regr.fit(X_train, y_train)"
   ]
  },
  {
   "cell_type": "code",
   "execution_count": 19,
   "metadata": {},
   "outputs": [
    {
     "name": "stdout",
     "output_type": "stream",
     "text": [
      "RMSE: 11.883194377886023\n",
      "R Squared: -0.002815124235760802\n",
      "MSE TEST: 141.210308622622\n",
      "MAE TEST: 9.272805314909482\n",
      "MAPE: 0.32135245843506494\n"
     ]
    }
   ],
   "source": [
    "test_pred = regr.predict(X_test)\n",
    "\n",
    "print('RMSE: '+str(np.sqrt(mean_squared_error(y_test, test_pred))))\n",
    "print('R Squared: '+str(r2_score(y_test, test_pred)))\n",
    "print('MSE TEST: '+str(mean_squared_error(y_test, test_pred)))\n",
    "print('MAE TEST: '+str(mean_absolute_error(y_test, test_pred)))\n",
    "print('MAPE: '+str(mean_absolute_percentage_error(y_test, test_pred)))"
   ]
  },
  {
   "cell_type": "code",
   "execution_count": 20,
   "metadata": {},
   "outputs": [],
   "source": [
    "# MAPE: 0.2739362930995831\n",
    "# MAPE: 0.2725312745993308 est=70\n",
    "# MAPE: 0.27160883487219817 est=65\n",
    "# MAPE: 0.27129296438880546 min_samples_split=10,\n"
   ]
  },
  {
   "cell_type": "code",
   "execution_count": 21,
   "metadata": {},
   "outputs": [],
   "source": [
    "# X['day_code'].value_counts()"
   ]
  },
  {
   "cell_type": "code",
   "execution_count": 22,
   "metadata": {},
   "outputs": [],
   "source": [
    "# lsu homecode = 53\n",
    "# uab awaycode = 6"
   ]
  },
  {
   "cell_type": "code",
   "execution_count": 23,
   "metadata": {},
   "outputs": [],
   "source": [
    "# tulane hteam code = 116 / rank = 21\n",
    "# smu away tea,m code = 173"
   ]
  },
  {
   "cell_type": "code",
   "execution_count": 24,
   "metadata": {
    "scrolled": true
   },
   "outputs": [],
   "source": [
    "# # no = [[13, 37, 21, 99, 116, 173, 0, 21, 99, 3]]\n",
    "# # tul = pd.DataFrame(no, columns=['Wk', 'Pts', 'home_rank', 'away_rank',\n",
    "# #                                 'home_team_code', 'away_team_code', 'home_results', \n",
    "# #                                'win_rank', 'lose_rank', 'day_code'])\n",
    "# # tul\n",
    "\n",
    "# la = [[13, 38, 6, 99, 53, 6, 0, 6, 99, 5]]\n",
    "# lsu = pd.DataFrame(la, columns=['Wk', 'Pts', 'home_rank', 'away_rank',\n",
    "#                                 'home_team_code', 'away_team_code', 'home_results', \n",
    "#                                'win_rank', 'lose_rank', 'day_code'])\n",
    "# lsu\n",
    "\n",
    "# # oregon home code = 146 - 12\n",
    "\n",
    "# # utah away code = 201 - 10\n",
    "\n",
    "# # sc = [[13, 16, 7, 118, 171, 5]]\n",
    "# # usc = pd.DataFrame(sc, columns=['Wk', 'home_rank', 'away_rank',\n",
    "# #                                 'home_team_code', 'away_team_code', 'day_code'])\n",
    "# # usc"
   ]
  },
  {
   "cell_type": "code",
   "execution_count": 25,
   "metadata": {},
   "outputs": [],
   "source": [
    "# test_pred = regr.predict(lsu)\n",
    "# test_pred"
   ]
  },
  {
   "cell_type": "code",
   "execution_count": 26,
   "metadata": {},
   "outputs": [],
   "source": [
    "## Tulane 37.481 - smu 20.0068\n",
    "\n",
    "# Actual results tulane 59 - smu 24\n",
    "# spread was tulane -3.5 with over/under at 66"
   ]
  },
  {
   "cell_type": "code",
   "execution_count": null,
   "metadata": {},
   "outputs": [],
   "source": []
  },
  {
   "cell_type": "markdown",
   "metadata": {},
   "source": [
    "# Results LSU 41 - UAB 10"
   ]
  },
  {
   "cell_type": "markdown",
   "metadata": {},
   "source": [
    "\n",
    "# * Update with test being last week *\n",
    "## lsu 38.323 - uab 22.079"
   ]
  },
  {
   "cell_type": "markdown",
   "metadata": {},
   "source": [
    "# updated models\n",
    "## lsu 36.594 - uab 15.333\n"
   ]
  },
  {
   "cell_type": "markdown",
   "metadata": {},
   "source": [
    "# lsu 37.13 - uab 21.8\n",
    "##### difference 15.3\n",
    "\n",
    "# wire shark prediction \n",
    "### lsu 39.4 - uab 29.0\n",
    "\n",
    "### lsu -14.5 (as of 11/18/22 spread moved to -15)\n",
    "### over/under 52.5\n",
    "\n",
    "-------"
   ]
  },
  {
   "cell_type": "markdown",
   "metadata": {},
   "source": [
    "# Results Utah 17 - Oregon 20"
   ]
  },
  {
   "cell_type": "code",
   "execution_count": 27,
   "metadata": {},
   "outputs": [],
   "source": [
    "# with minutes and hours\n",
    "# oregon 37.72\n",
    "# utah 20.38"
   ]
  },
  {
   "cell_type": "code",
   "execution_count": 28,
   "metadata": {},
   "outputs": [],
   "source": [
    "# with hours and not minutes\n",
    "# oregon 38.72 \n",
    "# urtah 21.12"
   ]
  },
  {
   "cell_type": "code",
   "execution_count": 29,
   "metadata": {},
   "outputs": [],
   "source": [
    "# with ouliers and hours but without minutes\n",
    "# oregon 38.83\n",
    "# Utah 24.15\n",
    "\n",
    "# with outliers and without hours\n",
    "# Oregon 40.49\n",
    "# Utah 21.12"
   ]
  }
 ],
 "metadata": {
  "kernelspec": {
   "display_name": "Python 3 (ipykernel)",
   "language": "python",
   "name": "python3"
  },
  "language_info": {
   "codemirror_mode": {
    "name": "ipython",
    "version": 3
   },
   "file_extension": ".py",
   "mimetype": "text/x-python",
   "name": "python",
   "nbconvert_exporter": "python",
   "pygments_lexer": "ipython3",
   "version": "3.9.12"
  }
 },
 "nbformat": 4,
 "nbformat_minor": 2
}
