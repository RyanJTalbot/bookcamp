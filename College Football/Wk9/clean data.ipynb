{
 "cells": [
  {
   "cell_type": "markdown",
   "metadata": {},
   "source": [
    "# Add\n",
    "## Home / Away Rank\n"
   ]
  },
  {
   "cell_type": "code",
   "execution_count": 1,
   "metadata": {},
   "outputs": [],
   "source": [
    "import pandas as pd\n",
    "import numpy as np"
   ]
  },
  {
   "cell_type": "code",
   "execution_count": 2,
   "metadata": {},
   "outputs": [],
   "source": [
    "df = pd.read_csv('cfb_wk9.csv')"
   ]
  },
  {
   "cell_type": "code",
   "execution_count": 3,
   "metadata": {},
   "outputs": [
    {
     "data": {
      "text/html": [
       "<div>\n",
       "<style scoped>\n",
       "    .dataframe tbody tr th:only-of-type {\n",
       "        vertical-align: middle;\n",
       "    }\n",
       "\n",
       "    .dataframe tbody tr th {\n",
       "        vertical-align: top;\n",
       "    }\n",
       "\n",
       "    .dataframe thead th {\n",
       "        text-align: right;\n",
       "    }\n",
       "</style>\n",
       "<table border=\"1\" class=\"dataframe\">\n",
       "  <thead>\n",
       "    <tr style=\"text-align: right;\">\n",
       "      <th></th>\n",
       "      <th>Rk</th>\n",
       "      <th>Wk</th>\n",
       "      <th>Winner</th>\n",
       "      <th>Pts</th>\n",
       "      <th>Unnamed: 4</th>\n",
       "      <th>Loser</th>\n",
       "      <th>Pts.1</th>\n",
       "      <th>Notes</th>\n",
       "    </tr>\n",
       "  </thead>\n",
       "  <tbody>\n",
       "    <tr>\n",
       "      <th>0</th>\n",
       "      <td>1</td>\n",
       "      <td>1</td>\n",
       "      <td>Florida Atlantic</td>\n",
       "      <td>43</td>\n",
       "      <td>NaN</td>\n",
       "      <td>Charlotte</td>\n",
       "      <td>13</td>\n",
       "      <td>NaN</td>\n",
       "    </tr>\n",
       "    <tr>\n",
       "      <th>1</th>\n",
       "      <td>2</td>\n",
       "      <td>1</td>\n",
       "      <td>Florida State</td>\n",
       "      <td>47</td>\n",
       "      <td>NaN</td>\n",
       "      <td>Duquesne</td>\n",
       "      <td>7</td>\n",
       "      <td>NaN</td>\n",
       "    </tr>\n",
       "    <tr>\n",
       "      <th>2</th>\n",
       "      <td>3</td>\n",
       "      <td>1</td>\n",
       "      <td>Illinois</td>\n",
       "      <td>38</td>\n",
       "      <td>NaN</td>\n",
       "      <td>Wyoming</td>\n",
       "      <td>6</td>\n",
       "      <td>NaN</td>\n",
       "    </tr>\n",
       "    <tr>\n",
       "      <th>3</th>\n",
       "      <td>4</td>\n",
       "      <td>1</td>\n",
       "      <td>Nevada</td>\n",
       "      <td>23</td>\n",
       "      <td>@</td>\n",
       "      <td>New Mexico State</td>\n",
       "      <td>12</td>\n",
       "      <td>NaN</td>\n",
       "    </tr>\n",
       "    <tr>\n",
       "      <th>4</th>\n",
       "      <td>5</td>\n",
       "      <td>1</td>\n",
       "      <td>Nevada-Las Vegas</td>\n",
       "      <td>52</td>\n",
       "      <td>NaN</td>\n",
       "      <td>Idaho State</td>\n",
       "      <td>21</td>\n",
       "      <td>NaN</td>\n",
       "    </tr>\n",
       "    <tr>\n",
       "      <th>...</th>\n",
       "      <td>...</td>\n",
       "      <td>...</td>\n",
       "      <td>...</td>\n",
       "      <td>...</td>\n",
       "      <td>...</td>\n",
       "      <td>...</td>\n",
       "      <td>...</td>\n",
       "      <td>...</td>\n",
       "    </tr>\n",
       "    <tr>\n",
       "      <th>495</th>\n",
       "      <td>496</td>\n",
       "      <td>9</td>\n",
       "      <td>Boise State</td>\n",
       "      <td>19</td>\n",
       "      <td>@</td>\n",
       "      <td>Air Force</td>\n",
       "      <td>14</td>\n",
       "      <td>NaN</td>\n",
       "    </tr>\n",
       "    <tr>\n",
       "      <th>496</th>\n",
       "      <td>497</td>\n",
       "      <td>9</td>\n",
       "      <td>Bowling Green</td>\n",
       "      <td>34</td>\n",
       "      <td>@</td>\n",
       "      <td>Central Michigan</td>\n",
       "      <td>18</td>\n",
       "      <td>NaN</td>\n",
       "    </tr>\n",
       "    <tr>\n",
       "      <th>497</th>\n",
       "      <td>498</td>\n",
       "      <td>9</td>\n",
       "      <td>Buffalo</td>\n",
       "      <td>34</td>\n",
       "      <td>NaN</td>\n",
       "      <td>Toledo</td>\n",
       "      <td>27</td>\n",
       "      <td>NaN</td>\n",
       "    </tr>\n",
       "    <tr>\n",
       "      <th>498</th>\n",
       "      <td>499</td>\n",
       "      <td>9</td>\n",
       "      <td>(21) Cincinnati</td>\n",
       "      <td>29</td>\n",
       "      <td>@</td>\n",
       "      <td>Southern Methodist</td>\n",
       "      <td>27</td>\n",
       "      <td>NaN</td>\n",
       "    </tr>\n",
       "    <tr>\n",
       "      <th>499</th>\n",
       "      <td>500</td>\n",
       "      <td>9</td>\n",
       "      <td>(5) Clemson</td>\n",
       "      <td>27</td>\n",
       "      <td>NaN</td>\n",
       "      <td>(14) Syracuse</td>\n",
       "      <td>21</td>\n",
       "      <td>NaN</td>\n",
       "    </tr>\n",
       "  </tbody>\n",
       "</table>\n",
       "<p>500 rows × 8 columns</p>\n",
       "</div>"
      ],
      "text/plain": [
       "      Rk  Wk            Winner  Pts Unnamed: 4               Loser  Pts.1  \\\n",
       "0      1   1  Florida Atlantic   43        NaN           Charlotte     13   \n",
       "1      2   1     Florida State   47        NaN            Duquesne      7   \n",
       "2      3   1          Illinois   38        NaN             Wyoming      6   \n",
       "3      4   1            Nevada   23          @    New Mexico State     12   \n",
       "4      5   1  Nevada-Las Vegas   52        NaN         Idaho State     21   \n",
       "..   ...  ..               ...  ...        ...                 ...    ...   \n",
       "495  496   9       Boise State   19          @           Air Force     14   \n",
       "496  497   9     Bowling Green   34          @    Central Michigan     18   \n",
       "497  498   9           Buffalo   34        NaN              Toledo     27   \n",
       "498  499   9   (21) Cincinnati   29          @  Southern Methodist     27   \n",
       "499  500   9       (5) Clemson   27        NaN       (14) Syracuse     21   \n",
       "\n",
       "     Notes  \n",
       "0      NaN  \n",
       "1      NaN  \n",
       "2      NaN  \n",
       "3      NaN  \n",
       "4      NaN  \n",
       "..     ...  \n",
       "495    NaN  \n",
       "496    NaN  \n",
       "497    NaN  \n",
       "498    NaN  \n",
       "499    NaN  \n",
       "\n",
       "[500 rows x 8 columns]"
      ]
     },
     "execution_count": 3,
     "metadata": {},
     "output_type": "execute_result"
    }
   ],
   "source": [
    "df"
   ]
  },
  {
   "cell_type": "code",
   "execution_count": 4,
   "metadata": {},
   "outputs": [],
   "source": [
    "df = df.drop(columns=['Rk', 'Notes'])"
   ]
  },
  {
   "cell_type": "code",
   "execution_count": 5,
   "metadata": {},
   "outputs": [
    {
     "data": {
      "text/plain": [
       "(500, 6)"
      ]
     },
     "execution_count": 5,
     "metadata": {},
     "output_type": "execute_result"
    }
   ],
   "source": [
    "df.shape"
   ]
  },
  {
   "cell_type": "code",
   "execution_count": 6,
   "metadata": {},
   "outputs": [],
   "source": [
    "location = df['Unnamed: 4']"
   ]
  },
  {
   "cell_type": "code",
   "execution_count": 7,
   "metadata": {},
   "outputs": [],
   "source": [
    "# home = []\n",
    "\n",
    "# for index, row in df.iterrows():\n",
    "#     location = (row['Unnamed: 4'])\n",
    "#     if (location == 'N'):\n",
    "#         home.append(0)\n",
    "#     elif (location == '@'):\n",
    "#         home.append(row['Loser'])\n",
    "#     else:\n",
    "#         home.append(row['Winner'])\n",
    "\n"
   ]
  },
  {
   "cell_type": "code",
   "execution_count": 8,
   "metadata": {},
   "outputs": [],
   "source": [
    "# df['home_team'] = home"
   ]
  },
  {
   "cell_type": "code",
   "execution_count": 9,
   "metadata": {},
   "outputs": [
    {
     "data": {
      "text/html": [
       "<div>\n",
       "<style scoped>\n",
       "    .dataframe tbody tr th:only-of-type {\n",
       "        vertical-align: middle;\n",
       "    }\n",
       "\n",
       "    .dataframe tbody tr th {\n",
       "        vertical-align: top;\n",
       "    }\n",
       "\n",
       "    .dataframe thead th {\n",
       "        text-align: right;\n",
       "    }\n",
       "</style>\n",
       "<table border=\"1\" class=\"dataframe\">\n",
       "  <thead>\n",
       "    <tr style=\"text-align: right;\">\n",
       "      <th></th>\n",
       "      <th>Wk</th>\n",
       "      <th>Winner</th>\n",
       "      <th>Pts</th>\n",
       "      <th>Unnamed: 4</th>\n",
       "      <th>Loser</th>\n",
       "      <th>Pts.1</th>\n",
       "      <th>home_team</th>\n",
       "    </tr>\n",
       "  </thead>\n",
       "  <tbody>\n",
       "    <tr>\n",
       "      <th>0</th>\n",
       "      <td>1</td>\n",
       "      <td>Florida Atlantic</td>\n",
       "      <td>43</td>\n",
       "      <td>NaN</td>\n",
       "      <td>Charlotte</td>\n",
       "      <td>13</td>\n",
       "      <td>Florida Atlantic</td>\n",
       "    </tr>\n",
       "    <tr>\n",
       "      <th>1</th>\n",
       "      <td>1</td>\n",
       "      <td>Florida State</td>\n",
       "      <td>47</td>\n",
       "      <td>NaN</td>\n",
       "      <td>Duquesne</td>\n",
       "      <td>7</td>\n",
       "      <td>Florida State</td>\n",
       "    </tr>\n",
       "    <tr>\n",
       "      <th>2</th>\n",
       "      <td>1</td>\n",
       "      <td>Illinois</td>\n",
       "      <td>38</td>\n",
       "      <td>NaN</td>\n",
       "      <td>Wyoming</td>\n",
       "      <td>6</td>\n",
       "      <td>Illinois</td>\n",
       "    </tr>\n",
       "    <tr>\n",
       "      <th>3</th>\n",
       "      <td>1</td>\n",
       "      <td>Nevada</td>\n",
       "      <td>23</td>\n",
       "      <td>@</td>\n",
       "      <td>New Mexico State</td>\n",
       "      <td>12</td>\n",
       "      <td>New Mexico State</td>\n",
       "    </tr>\n",
       "    <tr>\n",
       "      <th>4</th>\n",
       "      <td>1</td>\n",
       "      <td>Nevada-Las Vegas</td>\n",
       "      <td>52</td>\n",
       "      <td>NaN</td>\n",
       "      <td>Idaho State</td>\n",
       "      <td>21</td>\n",
       "      <td>Nevada-Las Vegas</td>\n",
       "    </tr>\n",
       "    <tr>\n",
       "      <th>...</th>\n",
       "      <td>...</td>\n",
       "      <td>...</td>\n",
       "      <td>...</td>\n",
       "      <td>...</td>\n",
       "      <td>...</td>\n",
       "      <td>...</td>\n",
       "      <td>...</td>\n",
       "    </tr>\n",
       "    <tr>\n",
       "      <th>495</th>\n",
       "      <td>9</td>\n",
       "      <td>Boise State</td>\n",
       "      <td>19</td>\n",
       "      <td>@</td>\n",
       "      <td>Air Force</td>\n",
       "      <td>14</td>\n",
       "      <td>Air Force</td>\n",
       "    </tr>\n",
       "    <tr>\n",
       "      <th>496</th>\n",
       "      <td>9</td>\n",
       "      <td>Bowling Green</td>\n",
       "      <td>34</td>\n",
       "      <td>@</td>\n",
       "      <td>Central Michigan</td>\n",
       "      <td>18</td>\n",
       "      <td>Central Michigan</td>\n",
       "    </tr>\n",
       "    <tr>\n",
       "      <th>497</th>\n",
       "      <td>9</td>\n",
       "      <td>Buffalo</td>\n",
       "      <td>34</td>\n",
       "      <td>NaN</td>\n",
       "      <td>Toledo</td>\n",
       "      <td>27</td>\n",
       "      <td>Buffalo</td>\n",
       "    </tr>\n",
       "    <tr>\n",
       "      <th>498</th>\n",
       "      <td>9</td>\n",
       "      <td>(21) Cincinnati</td>\n",
       "      <td>29</td>\n",
       "      <td>@</td>\n",
       "      <td>Southern Methodist</td>\n",
       "      <td>27</td>\n",
       "      <td>Southern Methodist</td>\n",
       "    </tr>\n",
       "    <tr>\n",
       "      <th>499</th>\n",
       "      <td>9</td>\n",
       "      <td>(5) Clemson</td>\n",
       "      <td>27</td>\n",
       "      <td>NaN</td>\n",
       "      <td>(14) Syracuse</td>\n",
       "      <td>21</td>\n",
       "      <td>(5) Clemson</td>\n",
       "    </tr>\n",
       "  </tbody>\n",
       "</table>\n",
       "<p>500 rows × 7 columns</p>\n",
       "</div>"
      ],
      "text/plain": [
       "     Wk            Winner  Pts Unnamed: 4               Loser  Pts.1  \\\n",
       "0     1  Florida Atlantic   43        NaN           Charlotte     13   \n",
       "1     1     Florida State   47        NaN            Duquesne      7   \n",
       "2     1          Illinois   38        NaN             Wyoming      6   \n",
       "3     1            Nevada   23          @    New Mexico State     12   \n",
       "4     1  Nevada-Las Vegas   52        NaN         Idaho State     21   \n",
       "..   ..               ...  ...        ...                 ...    ...   \n",
       "495   9       Boise State   19          @           Air Force     14   \n",
       "496   9     Bowling Green   34          @    Central Michigan     18   \n",
       "497   9           Buffalo   34        NaN              Toledo     27   \n",
       "498   9   (21) Cincinnati   29          @  Southern Methodist     27   \n",
       "499   9       (5) Clemson   27        NaN       (14) Syracuse     21   \n",
       "\n",
       "              home_team  \n",
       "0      Florida Atlantic  \n",
       "1         Florida State  \n",
       "2              Illinois  \n",
       "3      New Mexico State  \n",
       "4      Nevada-Las Vegas  \n",
       "..                  ...  \n",
       "495           Air Force  \n",
       "496    Central Michigan  \n",
       "497             Buffalo  \n",
       "498  Southern Methodist  \n",
       "499         (5) Clemson  \n",
       "\n",
       "[500 rows x 7 columns]"
      ]
     },
     "execution_count": 9,
     "metadata": {},
     "output_type": "execute_result"
    }
   ],
   "source": [
    "df"
   ]
  },
  {
   "cell_type": "code",
   "execution_count": 12,
   "metadata": {},
   "outputs": [],
   "source": [
    "# away = []\n",
    "# for index, row in df.iterrows():\n",
    "#     if (row['home_team'] == row['Winner']):\n",
    "#         away.append(row['Loser'])\n",
    "#     elif (row['home_team'] == row['Loser']):\n",
    "#         away.append(row['Winner'])\n",
    "#     else:\n",
    "#         away.append(3)"
   ]
  },
  {
   "cell_type": "code",
   "execution_count": 14,
   "metadata": {},
   "outputs": [],
   "source": [
    "# df['away'] = away"
   ]
  },
  {
   "cell_type": "code",
   "execution_count": 15,
   "metadata": {},
   "outputs": [
    {
     "data": {
      "text/html": [
       "<div>\n",
       "<style scoped>\n",
       "    .dataframe tbody tr th:only-of-type {\n",
       "        vertical-align: middle;\n",
       "    }\n",
       "\n",
       "    .dataframe tbody tr th {\n",
       "        vertical-align: top;\n",
       "    }\n",
       "\n",
       "    .dataframe thead th {\n",
       "        text-align: right;\n",
       "    }\n",
       "</style>\n",
       "<table border=\"1\" class=\"dataframe\">\n",
       "  <thead>\n",
       "    <tr style=\"text-align: right;\">\n",
       "      <th></th>\n",
       "      <th>Wk</th>\n",
       "      <th>Winner</th>\n",
       "      <th>Pts</th>\n",
       "      <th>Unnamed: 4</th>\n",
       "      <th>Loser</th>\n",
       "      <th>Pts.1</th>\n",
       "      <th>home_team</th>\n",
       "      <th>away</th>\n",
       "    </tr>\n",
       "  </thead>\n",
       "  <tbody>\n",
       "    <tr>\n",
       "      <th>0</th>\n",
       "      <td>1</td>\n",
       "      <td>Florida Atlantic</td>\n",
       "      <td>43</td>\n",
       "      <td>NaN</td>\n",
       "      <td>Charlotte</td>\n",
       "      <td>13</td>\n",
       "      <td>Florida Atlantic</td>\n",
       "      <td>Charlotte</td>\n",
       "    </tr>\n",
       "    <tr>\n",
       "      <th>1</th>\n",
       "      <td>1</td>\n",
       "      <td>Florida State</td>\n",
       "      <td>47</td>\n",
       "      <td>NaN</td>\n",
       "      <td>Duquesne</td>\n",
       "      <td>7</td>\n",
       "      <td>Florida State</td>\n",
       "      <td>Duquesne</td>\n",
       "    </tr>\n",
       "    <tr>\n",
       "      <th>2</th>\n",
       "      <td>1</td>\n",
       "      <td>Illinois</td>\n",
       "      <td>38</td>\n",
       "      <td>NaN</td>\n",
       "      <td>Wyoming</td>\n",
       "      <td>6</td>\n",
       "      <td>Illinois</td>\n",
       "      <td>Wyoming</td>\n",
       "    </tr>\n",
       "    <tr>\n",
       "      <th>3</th>\n",
       "      <td>1</td>\n",
       "      <td>Nevada</td>\n",
       "      <td>23</td>\n",
       "      <td>@</td>\n",
       "      <td>New Mexico State</td>\n",
       "      <td>12</td>\n",
       "      <td>New Mexico State</td>\n",
       "      <td>Nevada</td>\n",
       "    </tr>\n",
       "    <tr>\n",
       "      <th>4</th>\n",
       "      <td>1</td>\n",
       "      <td>Nevada-Las Vegas</td>\n",
       "      <td>52</td>\n",
       "      <td>NaN</td>\n",
       "      <td>Idaho State</td>\n",
       "      <td>21</td>\n",
       "      <td>Nevada-Las Vegas</td>\n",
       "      <td>Idaho State</td>\n",
       "    </tr>\n",
       "    <tr>\n",
       "      <th>...</th>\n",
       "      <td>...</td>\n",
       "      <td>...</td>\n",
       "      <td>...</td>\n",
       "      <td>...</td>\n",
       "      <td>...</td>\n",
       "      <td>...</td>\n",
       "      <td>...</td>\n",
       "      <td>...</td>\n",
       "    </tr>\n",
       "    <tr>\n",
       "      <th>495</th>\n",
       "      <td>9</td>\n",
       "      <td>Boise State</td>\n",
       "      <td>19</td>\n",
       "      <td>@</td>\n",
       "      <td>Air Force</td>\n",
       "      <td>14</td>\n",
       "      <td>Air Force</td>\n",
       "      <td>Boise State</td>\n",
       "    </tr>\n",
       "    <tr>\n",
       "      <th>496</th>\n",
       "      <td>9</td>\n",
       "      <td>Bowling Green</td>\n",
       "      <td>34</td>\n",
       "      <td>@</td>\n",
       "      <td>Central Michigan</td>\n",
       "      <td>18</td>\n",
       "      <td>Central Michigan</td>\n",
       "      <td>Bowling Green</td>\n",
       "    </tr>\n",
       "    <tr>\n",
       "      <th>497</th>\n",
       "      <td>9</td>\n",
       "      <td>Buffalo</td>\n",
       "      <td>34</td>\n",
       "      <td>NaN</td>\n",
       "      <td>Toledo</td>\n",
       "      <td>27</td>\n",
       "      <td>Buffalo</td>\n",
       "      <td>Toledo</td>\n",
       "    </tr>\n",
       "    <tr>\n",
       "      <th>498</th>\n",
       "      <td>9</td>\n",
       "      <td>(21) Cincinnati</td>\n",
       "      <td>29</td>\n",
       "      <td>@</td>\n",
       "      <td>Southern Methodist</td>\n",
       "      <td>27</td>\n",
       "      <td>Southern Methodist</td>\n",
       "      <td>(21) Cincinnati</td>\n",
       "    </tr>\n",
       "    <tr>\n",
       "      <th>499</th>\n",
       "      <td>9</td>\n",
       "      <td>(5) Clemson</td>\n",
       "      <td>27</td>\n",
       "      <td>NaN</td>\n",
       "      <td>(14) Syracuse</td>\n",
       "      <td>21</td>\n",
       "      <td>(5) Clemson</td>\n",
       "      <td>(14) Syracuse</td>\n",
       "    </tr>\n",
       "  </tbody>\n",
       "</table>\n",
       "<p>500 rows × 8 columns</p>\n",
       "</div>"
      ],
      "text/plain": [
       "     Wk            Winner  Pts Unnamed: 4               Loser  Pts.1  \\\n",
       "0     1  Florida Atlantic   43        NaN           Charlotte     13   \n",
       "1     1     Florida State   47        NaN            Duquesne      7   \n",
       "2     1          Illinois   38        NaN             Wyoming      6   \n",
       "3     1            Nevada   23          @    New Mexico State     12   \n",
       "4     1  Nevada-Las Vegas   52        NaN         Idaho State     21   \n",
       "..   ..               ...  ...        ...                 ...    ...   \n",
       "495   9       Boise State   19          @           Air Force     14   \n",
       "496   9     Bowling Green   34          @    Central Michigan     18   \n",
       "497   9           Buffalo   34        NaN              Toledo     27   \n",
       "498   9   (21) Cincinnati   29          @  Southern Methodist     27   \n",
       "499   9       (5) Clemson   27        NaN       (14) Syracuse     21   \n",
       "\n",
       "              home_team             away  \n",
       "0      Florida Atlantic        Charlotte  \n",
       "1         Florida State         Duquesne  \n",
       "2              Illinois          Wyoming  \n",
       "3      New Mexico State           Nevada  \n",
       "4      Nevada-Las Vegas      Idaho State  \n",
       "..                  ...              ...  \n",
       "495           Air Force      Boise State  \n",
       "496    Central Michigan    Bowling Green  \n",
       "497             Buffalo           Toledo  \n",
       "498  Southern Methodist  (21) Cincinnati  \n",
       "499         (5) Clemson    (14) Syracuse  \n",
       "\n",
       "[500 rows x 8 columns]"
      ]
     },
     "execution_count": 15,
     "metadata": {},
     "output_type": "execute_result"
    }
   ],
   "source": [
    "# df"
   ]
  },
  {
   "cell_type": "code",
   "execution_count": 25,
   "metadata": {},
   "outputs": [
    {
     "data": {
      "text/plain": [
       "(500, 8)"
      ]
     },
     "execution_count": 25,
     "metadata": {},
     "output_type": "execute_result"
    }
   ],
   "source": [
    "df.shape"
   ]
  },
  {
   "cell_type": "code",
   "execution_count": 19,
   "metadata": {},
   "outputs": [],
   "source": [
    "# homes = df['home_team']"
   ]
  },
  {
   "cell_type": "code",
   "execution_count": 27,
   "metadata": {},
   "outputs": [
    {
     "data": {
      "text/plain": [
       "0                      9\n",
       "Auburn                 5\n",
       "Georgia Tech           5\n",
       "Indiana                5\n",
       "Air Force              5\n",
       "                      ..\n",
       "(12) Oklahoma State    1\n",
       "(13) Utah              1\n",
       "Tennessee              1\n",
       "(22) Wake Forest       1\n",
       "Baylor                 1\n",
       "Name: home_team, Length: 205, dtype: int64"
      ]
     },
     "execution_count": 27,
     "metadata": {},
     "output_type": "execute_result"
    }
   ],
   "source": [
    "# homes.value_counts()"
   ]
  },
  {
   "cell_type": "code",
   "execution_count": 28,
   "metadata": {},
   "outputs": [],
   "source": [
    "# home_rank = []\n",
    "# for i in homes:\n",
    "# #     if(i[1] == \"(\"):\n",
    "#         print(i[0])"
   ]
  },
  {
   "cell_type": "code",
   "execution_count": null,
   "metadata": {},
   "outputs": [],
   "source": []
  },
  {
   "cell_type": "code",
   "execution_count": null,
   "metadata": {},
   "outputs": [],
   "source": []
  },
  {
   "cell_type": "code",
   "execution_count": null,
   "metadata": {},
   "outputs": [],
   "source": []
  },
  {
   "cell_type": "code",
   "execution_count": null,
   "metadata": {},
   "outputs": [],
   "source": []
  },
  {
   "cell_type": "code",
   "execution_count": null,
   "metadata": {},
   "outputs": [],
   "source": []
  },
  {
   "cell_type": "code",
   "execution_count": 9,
   "metadata": {},
   "outputs": [],
   "source": [
    "df = df.drop(columns=['Unnamed: 4'])"
   ]
  },
  {
   "cell_type": "code",
   "execution_count": 10,
   "metadata": {},
   "outputs": [
    {
     "data": {
      "text/html": [
       "<div>\n",
       "<style scoped>\n",
       "    .dataframe tbody tr th:only-of-type {\n",
       "        vertical-align: middle;\n",
       "    }\n",
       "\n",
       "    .dataframe tbody tr th {\n",
       "        vertical-align: top;\n",
       "    }\n",
       "\n",
       "    .dataframe thead th {\n",
       "        text-align: right;\n",
       "    }\n",
       "</style>\n",
       "<table border=\"1\" class=\"dataframe\">\n",
       "  <thead>\n",
       "    <tr style=\"text-align: right;\">\n",
       "      <th></th>\n",
       "      <th>Wk</th>\n",
       "      <th>Winner</th>\n",
       "      <th>Pts</th>\n",
       "      <th>Loser</th>\n",
       "      <th>Pts.1</th>\n",
       "      <th>home_team</th>\n",
       "    </tr>\n",
       "  </thead>\n",
       "  <tbody>\n",
       "    <tr>\n",
       "      <th>0</th>\n",
       "      <td>1</td>\n",
       "      <td>Florida Atlantic</td>\n",
       "      <td>43</td>\n",
       "      <td>Charlotte</td>\n",
       "      <td>13</td>\n",
       "      <td>Florida Atlantic</td>\n",
       "    </tr>\n",
       "    <tr>\n",
       "      <th>1</th>\n",
       "      <td>1</td>\n",
       "      <td>Florida State</td>\n",
       "      <td>47</td>\n",
       "      <td>Duquesne</td>\n",
       "      <td>7</td>\n",
       "      <td>Florida State</td>\n",
       "    </tr>\n",
       "    <tr>\n",
       "      <th>2</th>\n",
       "      <td>1</td>\n",
       "      <td>Illinois</td>\n",
       "      <td>38</td>\n",
       "      <td>Wyoming</td>\n",
       "      <td>6</td>\n",
       "      <td>Illinois</td>\n",
       "    </tr>\n",
       "    <tr>\n",
       "      <th>3</th>\n",
       "      <td>1</td>\n",
       "      <td>Nevada</td>\n",
       "      <td>23</td>\n",
       "      <td>New Mexico State</td>\n",
       "      <td>12</td>\n",
       "      <td>New Mexico State</td>\n",
       "    </tr>\n",
       "    <tr>\n",
       "      <th>4</th>\n",
       "      <td>1</td>\n",
       "      <td>Nevada-Las Vegas</td>\n",
       "      <td>52</td>\n",
       "      <td>Idaho State</td>\n",
       "      <td>21</td>\n",
       "      <td>Nevada-Las Vegas</td>\n",
       "    </tr>\n",
       "    <tr>\n",
       "      <th>...</th>\n",
       "      <td>...</td>\n",
       "      <td>...</td>\n",
       "      <td>...</td>\n",
       "      <td>...</td>\n",
       "      <td>...</td>\n",
       "      <td>...</td>\n",
       "    </tr>\n",
       "    <tr>\n",
       "      <th>495</th>\n",
       "      <td>9</td>\n",
       "      <td>Boise State</td>\n",
       "      <td>19</td>\n",
       "      <td>Air Force</td>\n",
       "      <td>14</td>\n",
       "      <td>Air Force</td>\n",
       "    </tr>\n",
       "    <tr>\n",
       "      <th>496</th>\n",
       "      <td>9</td>\n",
       "      <td>Bowling Green</td>\n",
       "      <td>34</td>\n",
       "      <td>Central Michigan</td>\n",
       "      <td>18</td>\n",
       "      <td>Central Michigan</td>\n",
       "    </tr>\n",
       "    <tr>\n",
       "      <th>497</th>\n",
       "      <td>9</td>\n",
       "      <td>Buffalo</td>\n",
       "      <td>34</td>\n",
       "      <td>Toledo</td>\n",
       "      <td>27</td>\n",
       "      <td>Buffalo</td>\n",
       "    </tr>\n",
       "    <tr>\n",
       "      <th>498</th>\n",
       "      <td>9</td>\n",
       "      <td>(21) Cincinnati</td>\n",
       "      <td>29</td>\n",
       "      <td>Southern Methodist</td>\n",
       "      <td>27</td>\n",
       "      <td>Southern Methodist</td>\n",
       "    </tr>\n",
       "    <tr>\n",
       "      <th>499</th>\n",
       "      <td>9</td>\n",
       "      <td>(5) Clemson</td>\n",
       "      <td>27</td>\n",
       "      <td>(14) Syracuse</td>\n",
       "      <td>21</td>\n",
       "      <td>(5) Clemson</td>\n",
       "    </tr>\n",
       "  </tbody>\n",
       "</table>\n",
       "<p>500 rows × 6 columns</p>\n",
       "</div>"
      ],
      "text/plain": [
       "     Wk            Winner  Pts               Loser  Pts.1           home_team\n",
       "0     1  Florida Atlantic   43           Charlotte     13    Florida Atlantic\n",
       "1     1     Florida State   47            Duquesne      7       Florida State\n",
       "2     1          Illinois   38             Wyoming      6            Illinois\n",
       "3     1            Nevada   23    New Mexico State     12    New Mexico State\n",
       "4     1  Nevada-Las Vegas   52         Idaho State     21    Nevada-Las Vegas\n",
       "..   ..               ...  ...                 ...    ...                 ...\n",
       "495   9       Boise State   19           Air Force     14           Air Force\n",
       "496   9     Bowling Green   34    Central Michigan     18    Central Michigan\n",
       "497   9           Buffalo   34              Toledo     27             Buffalo\n",
       "498   9   (21) Cincinnati   29  Southern Methodist     27  Southern Methodist\n",
       "499   9       (5) Clemson   27       (14) Syracuse     21         (5) Clemson\n",
       "\n",
       "[500 rows x 6 columns]"
      ]
     },
     "execution_count": 10,
     "metadata": {},
     "output_type": "execute_result"
    }
   ],
   "source": [
    "df"
   ]
  },
  {
   "cell_type": "code",
   "execution_count": 11,
   "metadata": {},
   "outputs": [],
   "source": [
    "new_df = df.copy()"
   ]
  },
  {
   "cell_type": "code",
   "execution_count": 12,
   "metadata": {},
   "outputs": [],
   "source": [
    "home_results = []\n",
    "for index, row in new_df.iterrows():\n",
    "    if (row['home_team'] == row['Winner']):\n",
    "        home_results.append(0)\n",
    "    elif (row['home_team'] == row['Loser']):\n",
    "        home_results.append(1)\n",
    "    else:\n",
    "        home_results.append(3)"
   ]
  },
  {
   "cell_type": "code",
   "execution_count": 13,
   "metadata": {
    "scrolled": true
   },
   "outputs": [
    {
     "data": {
      "text/plain": [
       "(500, 6)"
      ]
     },
     "execution_count": 13,
     "metadata": {},
     "output_type": "execute_result"
    }
   ],
   "source": [
    "new_df.shape"
   ]
  },
  {
   "cell_type": "code",
   "execution_count": 14,
   "metadata": {},
   "outputs": [],
   "source": [
    "new_df['home_results'] = home_results"
   ]
  },
  {
   "cell_type": "code",
   "execution_count": 15,
   "metadata": {},
   "outputs": [
    {
     "data": {
      "text/html": [
       "<div>\n",
       "<style scoped>\n",
       "    .dataframe tbody tr th:only-of-type {\n",
       "        vertical-align: middle;\n",
       "    }\n",
       "\n",
       "    .dataframe tbody tr th {\n",
       "        vertical-align: top;\n",
       "    }\n",
       "\n",
       "    .dataframe thead th {\n",
       "        text-align: right;\n",
       "    }\n",
       "</style>\n",
       "<table border=\"1\" class=\"dataframe\">\n",
       "  <thead>\n",
       "    <tr style=\"text-align: right;\">\n",
       "      <th></th>\n",
       "      <th>Wk</th>\n",
       "      <th>Winner</th>\n",
       "      <th>Pts</th>\n",
       "      <th>Loser</th>\n",
       "      <th>Pts.1</th>\n",
       "      <th>home_team</th>\n",
       "      <th>home_results</th>\n",
       "    </tr>\n",
       "  </thead>\n",
       "  <tbody>\n",
       "    <tr>\n",
       "      <th>0</th>\n",
       "      <td>1</td>\n",
       "      <td>Florida Atlantic</td>\n",
       "      <td>43</td>\n",
       "      <td>Charlotte</td>\n",
       "      <td>13</td>\n",
       "      <td>Florida Atlantic</td>\n",
       "      <td>0</td>\n",
       "    </tr>\n",
       "    <tr>\n",
       "      <th>1</th>\n",
       "      <td>1</td>\n",
       "      <td>Florida State</td>\n",
       "      <td>47</td>\n",
       "      <td>Duquesne</td>\n",
       "      <td>7</td>\n",
       "      <td>Florida State</td>\n",
       "      <td>0</td>\n",
       "    </tr>\n",
       "    <tr>\n",
       "      <th>2</th>\n",
       "      <td>1</td>\n",
       "      <td>Illinois</td>\n",
       "      <td>38</td>\n",
       "      <td>Wyoming</td>\n",
       "      <td>6</td>\n",
       "      <td>Illinois</td>\n",
       "      <td>0</td>\n",
       "    </tr>\n",
       "    <tr>\n",
       "      <th>3</th>\n",
       "      <td>1</td>\n",
       "      <td>Nevada</td>\n",
       "      <td>23</td>\n",
       "      <td>New Mexico State</td>\n",
       "      <td>12</td>\n",
       "      <td>New Mexico State</td>\n",
       "      <td>1</td>\n",
       "    </tr>\n",
       "    <tr>\n",
       "      <th>4</th>\n",
       "      <td>1</td>\n",
       "      <td>Nevada-Las Vegas</td>\n",
       "      <td>52</td>\n",
       "      <td>Idaho State</td>\n",
       "      <td>21</td>\n",
       "      <td>Nevada-Las Vegas</td>\n",
       "      <td>0</td>\n",
       "    </tr>\n",
       "    <tr>\n",
       "      <th>...</th>\n",
       "      <td>...</td>\n",
       "      <td>...</td>\n",
       "      <td>...</td>\n",
       "      <td>...</td>\n",
       "      <td>...</td>\n",
       "      <td>...</td>\n",
       "      <td>...</td>\n",
       "    </tr>\n",
       "    <tr>\n",
       "      <th>495</th>\n",
       "      <td>9</td>\n",
       "      <td>Boise State</td>\n",
       "      <td>19</td>\n",
       "      <td>Air Force</td>\n",
       "      <td>14</td>\n",
       "      <td>Air Force</td>\n",
       "      <td>1</td>\n",
       "    </tr>\n",
       "    <tr>\n",
       "      <th>496</th>\n",
       "      <td>9</td>\n",
       "      <td>Bowling Green</td>\n",
       "      <td>34</td>\n",
       "      <td>Central Michigan</td>\n",
       "      <td>18</td>\n",
       "      <td>Central Michigan</td>\n",
       "      <td>1</td>\n",
       "    </tr>\n",
       "    <tr>\n",
       "      <th>497</th>\n",
       "      <td>9</td>\n",
       "      <td>Buffalo</td>\n",
       "      <td>34</td>\n",
       "      <td>Toledo</td>\n",
       "      <td>27</td>\n",
       "      <td>Buffalo</td>\n",
       "      <td>0</td>\n",
       "    </tr>\n",
       "    <tr>\n",
       "      <th>498</th>\n",
       "      <td>9</td>\n",
       "      <td>(21) Cincinnati</td>\n",
       "      <td>29</td>\n",
       "      <td>Southern Methodist</td>\n",
       "      <td>27</td>\n",
       "      <td>Southern Methodist</td>\n",
       "      <td>1</td>\n",
       "    </tr>\n",
       "    <tr>\n",
       "      <th>499</th>\n",
       "      <td>9</td>\n",
       "      <td>(5) Clemson</td>\n",
       "      <td>27</td>\n",
       "      <td>(14) Syracuse</td>\n",
       "      <td>21</td>\n",
       "      <td>(5) Clemson</td>\n",
       "      <td>0</td>\n",
       "    </tr>\n",
       "  </tbody>\n",
       "</table>\n",
       "<p>500 rows × 7 columns</p>\n",
       "</div>"
      ],
      "text/plain": [
       "     Wk            Winner  Pts               Loser  Pts.1           home_team  \\\n",
       "0     1  Florida Atlantic   43           Charlotte     13    Florida Atlantic   \n",
       "1     1     Florida State   47            Duquesne      7       Florida State   \n",
       "2     1          Illinois   38             Wyoming      6            Illinois   \n",
       "3     1            Nevada   23    New Mexico State     12    New Mexico State   \n",
       "4     1  Nevada-Las Vegas   52         Idaho State     21    Nevada-Las Vegas   \n",
       "..   ..               ...  ...                 ...    ...                 ...   \n",
       "495   9       Boise State   19           Air Force     14           Air Force   \n",
       "496   9     Bowling Green   34    Central Michigan     18    Central Michigan   \n",
       "497   9           Buffalo   34              Toledo     27             Buffalo   \n",
       "498   9   (21) Cincinnati   29  Southern Methodist     27  Southern Methodist   \n",
       "499   9       (5) Clemson   27       (14) Syracuse     21         (5) Clemson   \n",
       "\n",
       "     home_results  \n",
       "0               0  \n",
       "1               0  \n",
       "2               0  \n",
       "3               1  \n",
       "4               0  \n",
       "..            ...  \n",
       "495             1  \n",
       "496             1  \n",
       "497             0  \n",
       "498             1  \n",
       "499             0  \n",
       "\n",
       "[500 rows x 7 columns]"
      ]
     },
     "execution_count": 15,
     "metadata": {},
     "output_type": "execute_result"
    }
   ],
   "source": [
    "new_df"
   ]
  },
  {
   "cell_type": "code",
   "execution_count": 16,
   "metadata": {},
   "outputs": [],
   "source": [
    "wins = new_df['Winner']"
   ]
  },
  {
   "cell_type": "code",
   "execution_count": 17,
   "metadata": {},
   "outputs": [],
   "source": [
    "winners = []\n",
    "for i in wins:\n",
    "    if (i[2] == \")\"):\n",
    "        winners.append(i[1:2])\n",
    "        if(i[1] == \"(\"):\n",
    "            winners.append(i[1:3])\n",
    "    else:\n",
    "        winners.append(99)\n",
    "    "
   ]
  },
  {
   "cell_type": "code",
   "execution_count": 18,
   "metadata": {},
   "outputs": [
    {
     "data": {
      "text/plain": [
       "500"
      ]
     },
     "execution_count": 18,
     "metadata": {},
     "output_type": "execute_result"
    }
   ],
   "source": [
    "len(winners)"
   ]
  },
  {
   "cell_type": "code",
   "execution_count": 19,
   "metadata": {},
   "outputs": [],
   "source": [
    "new_df['win_rank'] = winners"
   ]
  },
  {
   "cell_type": "code",
   "execution_count": 20,
   "metadata": {},
   "outputs": [],
   "source": [
    "lose = new_df['Loser']"
   ]
  },
  {
   "cell_type": "code",
   "execution_count": 21,
   "metadata": {},
   "outputs": [],
   "source": [
    "losers = []\n",
    "for i in lose:\n",
    "    if (i[2] == \")\"):\n",
    "        losers.append(i[1:2])\n",
    "        if(i[1] == \"(\"):\n",
    "            losers.append(i[1:3])\n",
    "    else:\n",
    "        losers.append(99)"
   ]
  },
  {
   "cell_type": "code",
   "execution_count": 22,
   "metadata": {},
   "outputs": [
    {
     "data": {
      "text/plain": [
       "500"
      ]
     },
     "execution_count": 22,
     "metadata": {},
     "output_type": "execute_result"
    }
   ],
   "source": [
    "len(losers)"
   ]
  },
  {
   "cell_type": "code",
   "execution_count": 23,
   "metadata": {},
   "outputs": [],
   "source": [
    "new_df['lose_rank'] = losers"
   ]
  },
  {
   "cell_type": "code",
   "execution_count": 24,
   "metadata": {},
   "outputs": [],
   "source": [
    "new_df = new_df.drop(columns=['Winner', 'Loser', 'home_team'])"
   ]
  },
  {
   "cell_type": "code",
   "execution_count": 25,
   "metadata": {},
   "outputs": [
    {
     "data": {
      "text/html": [
       "<div>\n",
       "<style scoped>\n",
       "    .dataframe tbody tr th:only-of-type {\n",
       "        vertical-align: middle;\n",
       "    }\n",
       "\n",
       "    .dataframe tbody tr th {\n",
       "        vertical-align: top;\n",
       "    }\n",
       "\n",
       "    .dataframe thead th {\n",
       "        text-align: right;\n",
       "    }\n",
       "</style>\n",
       "<table border=\"1\" class=\"dataframe\">\n",
       "  <thead>\n",
       "    <tr style=\"text-align: right;\">\n",
       "      <th></th>\n",
       "      <th>Wk</th>\n",
       "      <th>Pts</th>\n",
       "      <th>Pts.1</th>\n",
       "      <th>home_results</th>\n",
       "      <th>win_rank</th>\n",
       "      <th>lose_rank</th>\n",
       "    </tr>\n",
       "  </thead>\n",
       "  <tbody>\n",
       "    <tr>\n",
       "      <th>0</th>\n",
       "      <td>1</td>\n",
       "      <td>43</td>\n",
       "      <td>13</td>\n",
       "      <td>0</td>\n",
       "      <td>99</td>\n",
       "      <td>99</td>\n",
       "    </tr>\n",
       "    <tr>\n",
       "      <th>1</th>\n",
       "      <td>1</td>\n",
       "      <td>47</td>\n",
       "      <td>7</td>\n",
       "      <td>0</td>\n",
       "      <td>99</td>\n",
       "      <td>99</td>\n",
       "    </tr>\n",
       "    <tr>\n",
       "      <th>2</th>\n",
       "      <td>1</td>\n",
       "      <td>38</td>\n",
       "      <td>6</td>\n",
       "      <td>0</td>\n",
       "      <td>99</td>\n",
       "      <td>99</td>\n",
       "    </tr>\n",
       "    <tr>\n",
       "      <th>3</th>\n",
       "      <td>1</td>\n",
       "      <td>23</td>\n",
       "      <td>12</td>\n",
       "      <td>1</td>\n",
       "      <td>99</td>\n",
       "      <td>99</td>\n",
       "    </tr>\n",
       "    <tr>\n",
       "      <th>4</th>\n",
       "      <td>1</td>\n",
       "      <td>52</td>\n",
       "      <td>21</td>\n",
       "      <td>0</td>\n",
       "      <td>99</td>\n",
       "      <td>99</td>\n",
       "    </tr>\n",
       "    <tr>\n",
       "      <th>...</th>\n",
       "      <td>...</td>\n",
       "      <td>...</td>\n",
       "      <td>...</td>\n",
       "      <td>...</td>\n",
       "      <td>...</td>\n",
       "      <td>...</td>\n",
       "    </tr>\n",
       "    <tr>\n",
       "      <th>495</th>\n",
       "      <td>9</td>\n",
       "      <td>19</td>\n",
       "      <td>14</td>\n",
       "      <td>1</td>\n",
       "      <td>99</td>\n",
       "      <td>99</td>\n",
       "    </tr>\n",
       "    <tr>\n",
       "      <th>496</th>\n",
       "      <td>9</td>\n",
       "      <td>34</td>\n",
       "      <td>18</td>\n",
       "      <td>1</td>\n",
       "      <td>99</td>\n",
       "      <td>99</td>\n",
       "    </tr>\n",
       "    <tr>\n",
       "      <th>497</th>\n",
       "      <td>9</td>\n",
       "      <td>34</td>\n",
       "      <td>27</td>\n",
       "      <td>0</td>\n",
       "      <td>99</td>\n",
       "      <td>99</td>\n",
       "    </tr>\n",
       "    <tr>\n",
       "      <th>498</th>\n",
       "      <td>9</td>\n",
       "      <td>29</td>\n",
       "      <td>27</td>\n",
       "      <td>1</td>\n",
       "      <td>99</td>\n",
       "      <td>99</td>\n",
       "    </tr>\n",
       "    <tr>\n",
       "      <th>499</th>\n",
       "      <td>9</td>\n",
       "      <td>27</td>\n",
       "      <td>21</td>\n",
       "      <td>0</td>\n",
       "      <td>5</td>\n",
       "      <td>99</td>\n",
       "    </tr>\n",
       "  </tbody>\n",
       "</table>\n",
       "<p>500 rows × 6 columns</p>\n",
       "</div>"
      ],
      "text/plain": [
       "     Wk  Pts  Pts.1  home_results win_rank lose_rank\n",
       "0     1   43     13             0       99        99\n",
       "1     1   47      7             0       99        99\n",
       "2     1   38      6             0       99        99\n",
       "3     1   23     12             1       99        99\n",
       "4     1   52     21             0       99        99\n",
       "..   ..  ...    ...           ...      ...       ...\n",
       "495   9   19     14             1       99        99\n",
       "496   9   34     18             1       99        99\n",
       "497   9   34     27             0       99        99\n",
       "498   9   29     27             1       99        99\n",
       "499   9   27     21             0        5        99\n",
       "\n",
       "[500 rows x 6 columns]"
      ]
     },
     "execution_count": 25,
     "metadata": {},
     "output_type": "execute_result"
    }
   ],
   "source": [
    "new_df"
   ]
  },
  {
   "cell_type": "code",
   "execution_count": 26,
   "metadata": {},
   "outputs": [],
   "source": [
    "import pandas as pd\n",
    "import numpy as np\n",
    "from sklearn.model_selection import train_test_split\n",
    "from sklearn.metrics import mean_squared_error\n",
    "from sklearn.metrics import r2_score\n",
    "from sklearn.metrics import mean_absolute_error\n",
    "from sklearn.metrics import mean_absolute_percentage_error\n",
    "\n",
    "from sklearn.ensemble import AdaBoostRegressor\n",
    "from sklearn.tree import DecisionTreeRegressor"
   ]
  },
  {
   "cell_type": "code",
   "execution_count": 27,
   "metadata": {},
   "outputs": [],
   "source": [
    "df3 = new_df"
   ]
  },
  {
   "cell_type": "code",
   "execution_count": 89,
   "metadata": {},
   "outputs": [
    {
     "name": "stdout",
     "output_type": "stream",
     "text": [
      "<class 'pandas.core.frame.DataFrame'>\n",
      "RangeIndex: 500 entries, 0 to 499\n",
      "Data columns (total 6 columns):\n",
      " #   Column        Non-Null Count  Dtype \n",
      "---  ------        --------------  ----- \n",
      " 0   Wk            500 non-null    int64 \n",
      " 1   Pts           500 non-null    int64 \n",
      " 2   Pts.1         500 non-null    int64 \n",
      " 3   home_results  500 non-null    int64 \n",
      " 4   win_rank      500 non-null    object\n",
      " 5   lose_rank     500 non-null    object\n",
      "dtypes: int64(4), object(2)\n",
      "memory usage: 23.6+ KB\n"
     ]
    }
   ],
   "source": [
    "df3.info()"
   ]
  },
  {
   "cell_type": "code",
   "execution_count": 90,
   "metadata": {},
   "outputs": [],
   "source": [
    "wins = df3['win_rank']\n",
    "\n",
    "winners = pd.to_numeric(wins) "
   ]
  },
  {
   "cell_type": "code",
   "execution_count": 92,
   "metadata": {},
   "outputs": [],
   "source": [
    "df3['win_rank'] = winners"
   ]
  },
  {
   "cell_type": "code",
   "execution_count": 94,
   "metadata": {},
   "outputs": [],
   "source": [
    "lose = df3['lose_rank']\n",
    "\n",
    "losers = pd.to_numeric(lose) "
   ]
  },
  {
   "cell_type": "code",
   "execution_count": 95,
   "metadata": {},
   "outputs": [],
   "source": [
    "df3['lose_rank'] = losers"
   ]
  },
  {
   "cell_type": "code",
   "execution_count": 96,
   "metadata": {},
   "outputs": [
    {
     "name": "stdout",
     "output_type": "stream",
     "text": [
      "<class 'pandas.core.frame.DataFrame'>\n",
      "RangeIndex: 500 entries, 0 to 499\n",
      "Data columns (total 6 columns):\n",
      " #   Column        Non-Null Count  Dtype\n",
      "---  ------        --------------  -----\n",
      " 0   Wk            500 non-null    int64\n",
      " 1   Pts           500 non-null    int64\n",
      " 2   Pts.1         500 non-null    int64\n",
      " 3   home_results  500 non-null    int64\n",
      " 4   win_rank      500 non-null    int64\n",
      " 5   lose_rank     500 non-null    int64\n",
      "dtypes: int64(6)\n",
      "memory usage: 23.6 KB\n"
     ]
    }
   ],
   "source": [
    "df3.info()"
   ]
  },
  {
   "cell_type": "code",
   "execution_count": null,
   "metadata": {},
   "outputs": [],
   "source": []
  },
  {
   "cell_type": "code",
   "execution_count": null,
   "metadata": {},
   "outputs": [],
   "source": []
  },
  {
   "cell_type": "code",
   "execution_count": null,
   "metadata": {},
   "outputs": [],
   "source": []
  },
  {
   "cell_type": "code",
   "execution_count": 61,
   "metadata": {},
   "outputs": [
    {
     "data": {
      "text/html": [
       "<div>\n",
       "<style scoped>\n",
       "    .dataframe tbody tr th:only-of-type {\n",
       "        vertical-align: middle;\n",
       "    }\n",
       "\n",
       "    .dataframe tbody tr th {\n",
       "        vertical-align: top;\n",
       "    }\n",
       "\n",
       "    .dataframe thead th {\n",
       "        text-align: right;\n",
       "    }\n",
       "</style>\n",
       "<table border=\"1\" class=\"dataframe\">\n",
       "  <thead>\n",
       "    <tr style=\"text-align: right;\">\n",
       "      <th></th>\n",
       "      <th>Wk</th>\n",
       "      <th>Pts</th>\n",
       "      <th>home_results</th>\n",
       "      <th>win_rank</th>\n",
       "      <th>lose_rank</th>\n",
       "    </tr>\n",
       "  </thead>\n",
       "  <tbody>\n",
       "    <tr>\n",
       "      <th>0</th>\n",
       "      <td>10</td>\n",
       "      <td>30</td>\n",
       "      <td>0</td>\n",
       "      <td>13</td>\n",
       "      <td>2</td>\n",
       "    </tr>\n",
       "  </tbody>\n",
       "</table>\n",
       "</div>"
      ],
      "text/plain": [
       "   Wk  Pts  home_results  win_rank  lose_rank\n",
       "0  10   30             0        13          2"
      ]
     },
     "execution_count": 61,
     "metadata": {},
     "output_type": "execute_result"
    }
   ],
   "source": [
    "# oh = [[10, 0, 13, 2]]\n",
    "# osu = pd.DataFrame(oh, columns=['Wk', 'home_results', 'win_rank', 'lose_rank'])\n",
    "# osu\n",
    "\n",
    "pn = [[10, 30, 0, 13, 2]]\n",
    "pen = pd.DataFrame(pn, columns=['Wk', 'Pts', 'home_results', 'win_rank', 'lose_rank'])\n",
    "pen"
   ]
  },
  {
   "cell_type": "code",
   "execution_count": 62,
   "metadata": {},
   "outputs": [],
   "source": [
    "# ut = [[10, 0, 3, 19]]\n",
    "# tenn = pd.DataFrame(ut, columns=['Wk', 'home_results', 'win_rank', 'lose_rank'])\n",
    "# tenn\n",
    "\n",
    "# ky = [[10, 37, 0, 3, 19]]\n",
    "# ken = pd.DataFrame(ky, columns=['Wk', 'Pts', 'home_results', 'win_rank', 'lose_rank'])\n",
    "# ken"
   ]
  },
  {
   "cell_type": "code",
   "execution_count": 63,
   "metadata": {},
   "outputs": [
    {
     "data": {
      "text/html": [
       "<div>\n",
       "<style scoped>\n",
       "    .dataframe tbody tr th:only-of-type {\n",
       "        vertical-align: middle;\n",
       "    }\n",
       "\n",
       "    .dataframe tbody tr th {\n",
       "        vertical-align: top;\n",
       "    }\n",
       "\n",
       "    .dataframe thead th {\n",
       "        text-align: right;\n",
       "    }\n",
       "</style>\n",
       "<table border=\"1\" class=\"dataframe\">\n",
       "  <thead>\n",
       "    <tr style=\"text-align: right;\">\n",
       "      <th></th>\n",
       "      <th>Wk</th>\n",
       "      <th>Pts</th>\n",
       "      <th>Pts.1</th>\n",
       "      <th>home_results</th>\n",
       "      <th>win_rank</th>\n",
       "      <th>lose_rank</th>\n",
       "    </tr>\n",
       "  </thead>\n",
       "  <tbody>\n",
       "    <tr>\n",
       "      <th>0</th>\n",
       "      <td>1</td>\n",
       "      <td>43</td>\n",
       "      <td>13</td>\n",
       "      <td>0</td>\n",
       "      <td>99</td>\n",
       "      <td>99</td>\n",
       "    </tr>\n",
       "    <tr>\n",
       "      <th>1</th>\n",
       "      <td>1</td>\n",
       "      <td>47</td>\n",
       "      <td>7</td>\n",
       "      <td>0</td>\n",
       "      <td>99</td>\n",
       "      <td>99</td>\n",
       "    </tr>\n",
       "    <tr>\n",
       "      <th>2</th>\n",
       "      <td>1</td>\n",
       "      <td>38</td>\n",
       "      <td>6</td>\n",
       "      <td>0</td>\n",
       "      <td>99</td>\n",
       "      <td>99</td>\n",
       "    </tr>\n",
       "    <tr>\n",
       "      <th>3</th>\n",
       "      <td>1</td>\n",
       "      <td>23</td>\n",
       "      <td>12</td>\n",
       "      <td>1</td>\n",
       "      <td>99</td>\n",
       "      <td>99</td>\n",
       "    </tr>\n",
       "    <tr>\n",
       "      <th>4</th>\n",
       "      <td>1</td>\n",
       "      <td>52</td>\n",
       "      <td>21</td>\n",
       "      <td>0</td>\n",
       "      <td>99</td>\n",
       "      <td>99</td>\n",
       "    </tr>\n",
       "    <tr>\n",
       "      <th>...</th>\n",
       "      <td>...</td>\n",
       "      <td>...</td>\n",
       "      <td>...</td>\n",
       "      <td>...</td>\n",
       "      <td>...</td>\n",
       "      <td>...</td>\n",
       "    </tr>\n",
       "    <tr>\n",
       "      <th>495</th>\n",
       "      <td>9</td>\n",
       "      <td>19</td>\n",
       "      <td>14</td>\n",
       "      <td>1</td>\n",
       "      <td>99</td>\n",
       "      <td>99</td>\n",
       "    </tr>\n",
       "    <tr>\n",
       "      <th>496</th>\n",
       "      <td>9</td>\n",
       "      <td>34</td>\n",
       "      <td>18</td>\n",
       "      <td>1</td>\n",
       "      <td>99</td>\n",
       "      <td>99</td>\n",
       "    </tr>\n",
       "    <tr>\n",
       "      <th>497</th>\n",
       "      <td>9</td>\n",
       "      <td>34</td>\n",
       "      <td>27</td>\n",
       "      <td>0</td>\n",
       "      <td>99</td>\n",
       "      <td>99</td>\n",
       "    </tr>\n",
       "    <tr>\n",
       "      <th>498</th>\n",
       "      <td>9</td>\n",
       "      <td>29</td>\n",
       "      <td>27</td>\n",
       "      <td>1</td>\n",
       "      <td>99</td>\n",
       "      <td>99</td>\n",
       "    </tr>\n",
       "    <tr>\n",
       "      <th>499</th>\n",
       "      <td>9</td>\n",
       "      <td>27</td>\n",
       "      <td>21</td>\n",
       "      <td>0</td>\n",
       "      <td>5</td>\n",
       "      <td>99</td>\n",
       "    </tr>\n",
       "  </tbody>\n",
       "</table>\n",
       "<p>500 rows × 6 columns</p>\n",
       "</div>"
      ],
      "text/plain": [
       "     Wk  Pts  Pts.1  home_results win_rank lose_rank\n",
       "0     1   43     13             0       99        99\n",
       "1     1   47      7             0       99        99\n",
       "2     1   38      6             0       99        99\n",
       "3     1   23     12             1       99        99\n",
       "4     1   52     21             0       99        99\n",
       "..   ..  ...    ...           ...      ...       ...\n",
       "495   9   19     14             1       99        99\n",
       "496   9   34     18             1       99        99\n",
       "497   9   34     27             0       99        99\n",
       "498   9   29     27             1       99        99\n",
       "499   9   27     21             0        5        99\n",
       "\n",
       "[500 rows x 6 columns]"
      ]
     },
     "execution_count": 63,
     "metadata": {},
     "output_type": "execute_result"
    }
   ],
   "source": [
    "df3"
   ]
  },
  {
   "cell_type": "code",
   "execution_count": 97,
   "metadata": {},
   "outputs": [
    {
     "data": {
      "text/html": [
       "<div>\n",
       "<style scoped>\n",
       "    .dataframe tbody tr th:only-of-type {\n",
       "        vertical-align: middle;\n",
       "    }\n",
       "\n",
       "    .dataframe tbody tr th {\n",
       "        vertical-align: top;\n",
       "    }\n",
       "\n",
       "    .dataframe thead th {\n",
       "        text-align: right;\n",
       "    }\n",
       "</style>\n",
       "<table border=\"1\" class=\"dataframe\">\n",
       "  <thead>\n",
       "    <tr style=\"text-align: right;\">\n",
       "      <th></th>\n",
       "      <th>Wk</th>\n",
       "      <th>Pts</th>\n",
       "      <th>Pts.1</th>\n",
       "      <th>home_results</th>\n",
       "      <th>win_rank</th>\n",
       "      <th>lose_rank</th>\n",
       "    </tr>\n",
       "  </thead>\n",
       "  <tbody>\n",
       "    <tr>\n",
       "      <th>Wk</th>\n",
       "      <td>1.000000</td>\n",
       "      <td>-0.218743</td>\n",
       "      <td>0.180504</td>\n",
       "      <td>0.089044</td>\n",
       "      <td>-0.062909</td>\n",
       "      <td>-0.006077</td>\n",
       "    </tr>\n",
       "    <tr>\n",
       "      <th>Pts</th>\n",
       "      <td>-0.218743</td>\n",
       "      <td>1.000000</td>\n",
       "      <td>0.109307</td>\n",
       "      <td>-0.116091</td>\n",
       "      <td>-0.107362</td>\n",
       "      <td>0.062930</td>\n",
       "    </tr>\n",
       "    <tr>\n",
       "      <th>Pts.1</th>\n",
       "      <td>0.180504</td>\n",
       "      <td>0.109307</td>\n",
       "      <td>1.000000</td>\n",
       "      <td>0.140962</td>\n",
       "      <td>0.089717</td>\n",
       "      <td>-0.128621</td>\n",
       "    </tr>\n",
       "    <tr>\n",
       "      <th>home_results</th>\n",
       "      <td>0.089044</td>\n",
       "      <td>-0.116091</td>\n",
       "      <td>0.140962</td>\n",
       "      <td>1.000000</td>\n",
       "      <td>-0.007406</td>\n",
       "      <td>0.013346</td>\n",
       "    </tr>\n",
       "    <tr>\n",
       "      <th>win_rank</th>\n",
       "      <td>-0.062909</td>\n",
       "      <td>-0.107362</td>\n",
       "      <td>0.089717</td>\n",
       "      <td>-0.007406</td>\n",
       "      <td>1.000000</td>\n",
       "      <td>0.048159</td>\n",
       "    </tr>\n",
       "    <tr>\n",
       "      <th>lose_rank</th>\n",
       "      <td>-0.006077</td>\n",
       "      <td>0.062930</td>\n",
       "      <td>-0.128621</td>\n",
       "      <td>0.013346</td>\n",
       "      <td>0.048159</td>\n",
       "      <td>1.000000</td>\n",
       "    </tr>\n",
       "  </tbody>\n",
       "</table>\n",
       "</div>"
      ],
      "text/plain": [
       "                    Wk       Pts     Pts.1  home_results  win_rank  lose_rank\n",
       "Wk            1.000000 -0.218743  0.180504      0.089044 -0.062909  -0.006077\n",
       "Pts          -0.218743  1.000000  0.109307     -0.116091 -0.107362   0.062930\n",
       "Pts.1         0.180504  0.109307  1.000000      0.140962  0.089717  -0.128621\n",
       "home_results  0.089044 -0.116091  0.140962      1.000000 -0.007406   0.013346\n",
       "win_rank     -0.062909 -0.107362  0.089717     -0.007406  1.000000   0.048159\n",
       "lose_rank    -0.006077  0.062930 -0.128621      0.013346  0.048159   1.000000"
      ]
     },
     "execution_count": 97,
     "metadata": {},
     "output_type": "execute_result"
    }
   ],
   "source": [
    "df3.corr()"
   ]
  },
  {
   "cell_type": "code",
   "execution_count": 100,
   "metadata": {},
   "outputs": [],
   "source": [
    "y = df3['Pts']\n",
    "X = df3.drop(columns=['Pts', 'Pts.1'])\n",
    "\n",
    "X_train, X_test, y_train, y_test = train_test_split(\n",
    "     X, y, test_size=0.01, random_state=2)"
   ]
  },
  {
   "cell_type": "code",
   "execution_count": 98,
   "metadata": {},
   "outputs": [
    {
     "data": {
      "image/png": "[encoded data removed]",
      "text/plain": [
       "<Figure size 1800x1440 with 2 Axes>"
      ]
     },
     "metadata": {
      "needs_background": "light"
     },
     "output_type": "display_data"
    }
   ],
   "source": [
    "import seaborn as sns\n",
    "import matplotlib.pyplot as plt\n",
    "\n",
    "fig = plt.figure(figsize=(25, 20))\n",
    "sns.heatmap(df3.corr(), annot=True)\n",
    "plt.savefig(\"Heatmap.png\")"
   ]
  },
  {
   "cell_type": "code",
   "execution_count": 99,
   "metadata": {},
   "outputs": [],
   "source": [
    "from sklearn.preprocessing import StandardScaler"
   ]
  },
  {
   "cell_type": "code",
   "execution_count": null,
   "metadata": {},
   "outputs": [],
   "source": []
  },
  {
   "cell_type": "code",
   "execution_count": null,
   "metadata": {},
   "outputs": [],
   "source": []
  },
  {
   "cell_type": "code",
   "execution_count": 101,
   "metadata": {},
   "outputs": [],
   "source": [
    "scaler = StandardScaler()\n",
    "\n",
    "X_train = pd.DataFrame(scaler.fit_transform(X_train), columns = X.columns)\n",
    "\n",
    "X_test = pd.DataFrame(scaler.transform(X_test), columns = X.columns)"
   ]
  },
  {
   "cell_type": "code",
   "execution_count": 102,
   "metadata": {},
   "outputs": [
    {
     "name": "stdout",
     "output_type": "stream",
     "text": [
      "Logistic Regression accuracy score with all the features: 0.2000\n"
     ]
    }
   ],
   "source": [
    "from sklearn.linear_model import LogisticRegression\n",
    "from sklearn.metrics import accuracy_score\n",
    "\n",
    "logreg = LogisticRegression()\n",
    "logreg.fit(X_train, y_train)\n",
    "y_pred = logreg.predict(X_test)\n",
    "\n",
    "print('Logistic Regression accuracy score with all the features: {0:0.4f}'. format(accuracy_score(y_test, y_pred)))"
   ]
  },
  {
   "cell_type": "code",
   "execution_count": null,
   "metadata": {},
   "outputs": [],
   "source": []
  },
  {
   "cell_type": "code",
   "execution_count": null,
   "metadata": {},
   "outputs": [],
   "source": []
  },
  {
   "cell_type": "code",
   "execution_count": null,
   "metadata": {},
   "outputs": [],
   "source": []
  },
  {
   "cell_type": "code",
   "execution_count": null,
   "metadata": {},
   "outputs": [],
   "source": []
  },
  {
   "cell_type": "code",
   "execution_count": 68,
   "metadata": {},
   "outputs": [],
   "source": []
  },
  {
   "cell_type": "code",
   "execution_count": 69,
   "metadata": {},
   "outputs": [],
   "source": [
    "regr_1 = DecisionTreeRegressor(max_depth=4)\n",
    "\n",
    "regr_2 = AdaBoostRegressor(\n",
    "    DecisionTreeRegressor(max_depth=5), n_estimators=299, random_state=42\n",
    ")"
   ]
  },
  {
   "cell_type": "code",
   "execution_count": 70,
   "metadata": {},
   "outputs": [],
   "source": [
    "regr_1.fit(X_train, y_train)\n",
    "regr_2.fit(X_train, y_train)\n",
    "\n",
    "y_1 = regr_1.predict(X_train)\n",
    "y_2 = regr_2.predict(X_train)"
   ]
  },
  {
   "cell_type": "code",
   "execution_count": 71,
   "metadata": {},
   "outputs": [],
   "source": [
    "y_pred = regr_2.predict(pen)"
   ]
  },
  {
   "cell_type": "code",
   "execution_count": 72,
   "metadata": {},
   "outputs": [
    {
     "data": {
      "text/plain": [
       "array([12.43023256])"
      ]
     },
     "execution_count": 72,
     "metadata": {},
     "output_type": "execute_result"
    }
   ],
   "source": [
    "y_pred\n"
   ]
  },
  {
   "cell_type": "code",
   "execution_count": null,
   "metadata": {},
   "outputs": [],
   "source": [
    "# Ohio State University: 34\n",
    "# Penn State: 18.373\n",
    "# 34+18 = 52\n",
    "# 34-18 = 16\n",
    "\n",
    "# Spread: Ohio State -15.5\n",
    "# Over/under: 61"
   ]
  },
  {
   "cell_type": "markdown",
   "metadata": {},
   "source": [
    "# tennessee 36.57\n",
    "# kentucky 26"
   ]
  },
  {
   "cell_type": "code",
   "execution_count": null,
   "metadata": {},
   "outputs": [],
   "source": [
    "# tennessee 36.57\n",
    "# kentucky 26\n",
    "\n",
    "# 37 + 26 = 63"
   ]
  },
  {
   "cell_type": "code",
   "execution_count": null,
   "metadata": {},
   "outputs": [],
   "source": [
    "# Kentucky\t+12.5 -105\n",
    "# Tennessee\t-12.5 -115\n",
    "# over under 63.5 -110"
   ]
  },
  {
   "cell_type": "markdown",
   "metadata": {},
   "source": [
    "## vw picks:\n",
    "## tenn 30\n",
    "## ken 16\n",
    "\n"
   ]
  },
  {
   "cell_type": "markdown",
   "metadata": {},
   "source": [
    "rt picks:\n",
    "tenn 45\n",
    "ken 10"
   ]
  },
  {
   "cell_type": "code",
   "execution_count": null,
   "metadata": {},
   "outputs": [],
   "source": []
  }
 ],
 "metadata": {
  "kernelspec": {
   "display_name": "Python 3 (ipykernel)",
   "language": "python",
   "name": "python3"
  },
  "language_info": {
   "codemirror_mode": {
    "name": "ipython",
    "version": 3
   },
   "file_extension": ".py",
   "mimetype": "text/x-python",
   "name": "python",
   "nbconvert_exporter": "python",
   "pygments_lexer": "ipython3",
   "version": "3.9.12"
  }
 },
 "nbformat": 4,
 "nbformat_minor": 2
}
