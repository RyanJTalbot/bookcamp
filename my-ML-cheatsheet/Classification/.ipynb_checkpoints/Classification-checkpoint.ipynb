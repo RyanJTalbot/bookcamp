{
 "cells": [
  {
   "cell_type": "markdown",
   "id": "c9561713",
   "metadata": {},
   "source": [
    "# Classification Walk-through"
   ]
  },
  {
   "cell_type": "markdown",
   "id": "3ce1ee3f",
   "metadata": {},
   "source": [
    "links: https://drivendata.github.io/cookiecutter-data-science/"
   ]
  },
  {
   "cell_type": "code",
   "execution_count": 2,
   "id": "006a6f32",
   "metadata": {},
   "outputs": [],
   "source": [
    "import pandas as pd\n",
    "import numpy as np\n",
    "import matplotlib.pyplot as plt\n",
    "\n",
    "# sklearn\n",
    "from sklearn import (ensemble, preprocessing, tree)\n",
    "from sklearn.metrics import (auc, confusion_matrix, roc_auc_score, roc_curve)\n",
    "from sklearn.model_selection import (train_test_split, StratifiedKFold)\n",
    "\n",
    "# Yellowbrick a visualization library for evaluating models\n",
    "from yellowbrick.classifier import (ConfusionMatrix, ROCAUC)\n",
    "from yellowbrick.model_selection import (LearningCurve)"
   ]
  },
  {
   "cell_type": "code",
   "execution_count": 3,
   "id": "501fcd7b",
   "metadata": {},
   "outputs": [
    {
     "data": {
      "text/plain": [
       "['/Users/ryantalbot/Desktop/bookcamp/my-ML-cheatsheet',\n",
       " '/Users/ryantalbot/opt/anaconda3/envs/tf2/lib/python39.zip',\n",
       " '/Users/ryantalbot/opt/anaconda3/envs/tf2/lib/python3.9',\n",
       " '/Users/ryantalbot/opt/anaconda3/envs/tf2/lib/python3.9/lib-dynload',\n",
       " '',\n",
       " '/Users/ryantalbot/.local/lib/python3.9/site-packages',\n",
       " '/Users/ryantalbot/opt/anaconda3/envs/tf2/lib/python3.9/site-packages']"
      ]
     },
     "execution_count": 3,
     "metadata": {},
     "output_type": "execute_result"
    }
   ],
   "source": [
    "# import sys\n",
    "# sys.path"
   ]
  },
  {
   "cell_type": "markdown",
   "id": "0a90be7e",
   "metadata": {},
   "source": [
    " /Users/ryantalbot/opt/anaconda3/envs/tf2/bin/python -m pip install yellowbrick\n"
   ]
  },
  {
   "cell_type": "markdown",
   "id": "8debe2b5",
   "metadata": {},
   "source": [
    "## Import Data"
   ]
  },
  {
   "cell_type": "code",
   "execution_count": 3,
   "id": "a68bd7a3",
   "metadata": {},
   "outputs": [],
   "source": [
    "train = pd.read_csv('./train.csv')"
   ]
  },
  {
   "cell_type": "code",
   "execution_count": null,
   "id": "48f56a85",
   "metadata": {},
   "outputs": [],
   "source": []
  }
 ],
 "metadata": {
  "kernelspec": {
   "display_name": "Python 3 (ipykernel)",
   "language": "python",
   "name": "python3"
  },
  "language_info": {
   "codemirror_mode": {
    "name": "ipython",
    "version": 3
   },
   "file_extension": ".py",
   "mimetype": "text/x-python",
   "name": "python",
   "nbconvert_exporter": "python",
   "pygments_lexer": "ipython3",
   "version": "3.9.12"
  }
 },
 "nbformat": 4,
 "nbformat_minor": 5
}
