{
 "cells": [
  {
   "cell_type": "code",
   "execution_count": 5,
   "id": "4e8d5403",
   "metadata": {},
   "outputs": [
    {
     "ename": "ImportError",
     "evalue": "cannot import name 'ChromeDriver' from 'selenium' (/Users/ryantalbot/opt/anaconda3/envs/tf2/lib/python3.9/site-packages/selenium/__init__.py)",
     "output_type": "error",
     "traceback": [
      "\u001b[0;31m---------------------------------------------------------------------------\u001b[0m",
      "\u001b[0;31mImportError\u001b[0m                               Traceback (most recent call last)",
      "Input \u001b[0;32mIn [5]\u001b[0m, in \u001b[0;36m<cell line: 11>\u001b[0;34m()\u001b[0m\n\u001b[1;32m      8\u001b[0m \u001b[38;5;28;01mfrom\u001b[39;00m \u001b[38;5;21;01mselenium\u001b[39;00m \u001b[38;5;28;01mimport\u001b[39;00m webdriver\n\u001b[1;32m     10\u001b[0m \u001b[38;5;66;03m# selenium 3\u001b[39;00m\n\u001b[0;32m---> 11\u001b[0m \u001b[38;5;28;01mfrom\u001b[39;00m \u001b[38;5;21;01mselenium\u001b[39;00m \u001b[38;5;28;01mimport\u001b[39;00m ChromeDriver\n\u001b[1;32m     14\u001b[0m driver \u001b[38;5;241m=\u001b[39m webdriver\u001b[38;5;241m.\u001b[39mChrome(ChromeDriverManager()\u001b[38;5;241m.\u001b[39minstall())\n",
      "\u001b[0;31mImportError\u001b[0m: cannot import name 'ChromeDriver' from 'selenium' (/Users/ryantalbot/opt/anaconda3/envs/tf2/lib/python3.9/site-packages/selenium/__init__.py)"
     ]
    }
   ],
   "source": [
    "import datetime\n",
    "import hashlib\n",
    "import os\n",
    "import time\n",
    "\n",
    "import pandas as pd\n",
    "from bs4 import BeautifulSoup\n",
    "from selenium import webdriver\n",
    "\n",
    "# selenium 3\n",
    "from selenium import ChromeDriver\n",
    "\n",
    "\n",
    "driver = webdriver.Chrome(ChromeDriverManager().install())\n"
   ]
  },
  {
   "cell_type": "code",
   "execution_count": null,
   "id": "0b572667",
   "metadata": {},
   "outputs": [],
   "source": [
    "if __name__ == '__main__':\n",
    "    if not os.path.exists('.cache'):\n",
    "        os.makedirs('.cache')\n",
    "\n",
    "    first_rank, last_rank = 2, 287\n",
    "    fifa_url = 'https://www.fifa.com/fifa-world-ranking/ranking-table/men/rank={}/index.html'\n",
    "\n",
    "    full_results = []\n",
    "    driver = webdriver.Chrome()\n",
    "    try:\n",
    "        for i in range(first_rank, last_rank+1):\n",
    "            retr_url = fifa_url.format(i)\n",
    "            cache_path = os.path.join('.cache', hashlib.md5(\n",
    "                retr_url.encode('utf-8')).hexdigest() + '.html')\n",
    "            if not os.path.exists(cache_path):\n",
    "                print('Cache miss! Retrieving {}'.format(retr_url))\n",
    "                driver.get(retr_url)\n",
    "                time.sleep(2)\n",
    "                # Expand all teams.\n",
    "                driver.find_element_by_link_text('201-211').click()\n",
    "\n",
    "                with open(cache_path, 'w') as cache_file:\n",
    "                    cache_file.write(driver.page_source)\n",
    "\n",
    "                soup = BeautifulSoup(driver.page_source, 'html.parser')\n",
    "            else:\n",
    "                print('Cache hit! {}'.format(retr_url))\n",
    "                with open(cache_path, 'r') as cached_file:\n",
    "                    soup = BeautifulSoup(cached_file, 'html.parser')\n",
    "\n",
    "            # Date\n",
    "            rank_date = soup.find(\n",
    "                'div', {'class': ['slider-wrap']}).find('li').text.strip()\n",
    "            rank_date = datetime.datetime.strptime(rank_date, '%d %B %Y')\n",
    "\n",
    "            # Ranking Table\n",
    "            table_classes = {\n",
    "                'class': ['table', 'tbl-ranking', 'table-striped']}\n",
    "            tr_classes = {'class': ['anchor', 'expanded']}\n",
    "            td_skip = [0, 3, 8, 17, 18]\n",
    "            for table in soup.find_all('table', table_classes):\n",
    "                for tr in table.find_all('tr', tr_classes):\n",
    "                    try:\n",
    "                        res = [td.text.strip() for i, td in enumerate(\n",
    "                            tr.find_all('td')) if i not in td_skip]\n",
    "                        res += [rank_date]\n",
    "                        full_results.append(res)\n",
    "                    except TypeError:\n",
    "                        pass\n",
    "    finally:\n",
    "        driver.quit()\n",
    "\n",
    "    col_names = ['rank', 'country_full', 'country_abrv', 'total_points', 'previous_points', 'rank_change',\n",
    "                 'cur_year_avg', 'cur_year_avg_weighted', 'last_year_avg', 'last_year_avg_weighted', 'two_year_ago_avg',\n",
    "                 'two_year_ago_weighted', 'three_year_ago_avg', 'three_year_ago_weighted', 'confederation', 'rank_date']\n",
    "\n",
    "    fifa_rank_df = pd.DataFrame(full_results, columns=col_names)\n",
    "    fifa_rank_df['total_points'] = fifa_rank_df['total_points'].apply(\n",
    "        lambda x: float(x.split('(')[1][:-1]))\n",
    "    num_cols = ['rank', 'total_points', 'previous_points', 'rank_change', 'cur_year_avg', 'cur_year_avg_weighted',\n",
    "                'last_year_avg', 'last_year_avg_weighted', 'two_year_ago_avg', 'two_year_ago_weighted',\n",
    "                'three_year_ago_avg', 'three_year_ago_weighted']\n",
    "\n",
    "    for nc in num_cols:\n",
    "        fifa_rank_df[nc] = pd.to_numeric(fifa_rank_df[nc], errors='coerce')\n",
    "\n",
    "    fifa_rank_df.to_csv('fifa_ranking.csv', index=False, encoding='utf-8')\n"
   ]
  },
  {
   "cell_type": "code",
   "execution_count": null,
   "id": "8c58717a",
   "metadata": {},
   "outputs": [],
   "source": []
  }
 ],
 "metadata": {
  "kernelspec": {
   "display_name": "Python 3 (ipykernel)",
   "language": "python",
   "name": "python3"
  },
  "language_info": {
   "codemirror_mode": {
    "name": "ipython",
    "version": 3
   },
   "file_extension": ".py",
   "mimetype": "text/x-python",
   "name": "python",
   "nbconvert_exporter": "python",
   "pygments_lexer": "ipython3",
   "version": "3.9.12"
  }
 },
 "nbformat": 4,
 "nbformat_minor": 5
}
