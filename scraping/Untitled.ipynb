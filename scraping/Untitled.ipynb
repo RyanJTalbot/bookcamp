{
 "cells": [
  {
   "cell_type": "code",
   "execution_count": 1,
   "id": "4e8d5403",
   "metadata": {},
   "outputs": [],
   "source": [
    "import requests\n",
    "from bs4 import BeautifulSoup\n",
    "import pandas as pd"
   ]
  },
  {
   "cell_type": "code",
   "execution_count": 2,
   "id": "0b572667",
   "metadata": {},
   "outputs": [
    {
     "ename": "SyntaxError",
     "evalue": "invalid syntax (3725758687.py, line 24)",
     "output_type": "error",
     "traceback": [
      "\u001b[0;36m  Input \u001b[0;32mIn [2]\u001b[0;36m\u001b[0m\n\u001b[0;31m    slick-header ui-state-default full-header\u001b[0m\n\u001b[0m                 ^\u001b[0m\n\u001b[0;31mSyntaxError\u001b[0m\u001b[0;31m:\u001b[0m invalid syntax\n"
     ]
    }
   ],
   "source": [
    "url = \"https://www.eloratings.net/\"\n",
    "\n",
    "try:\n",
    "    page_response = requests.get(url, timeout=5)  \n",
    "    \n",
    "    if page_response.status_code == 200:\n",
    "        page_content = BeautifulSoup(page_response.content,'lxml')\n",
    "        tournaments = page_content.find(attrs={'id':'alleditions'})\n",
    "\n",
    "        link_list = []\n",
    "        for link in tournaments.find_all('a'):\n",
    "            group_link = 'https://www.eloratings.net' + link.get('href').replace('index.html','groups/index.html')\n",
    "            link_list.append(group_link)\n",
    "        link_list = link_list[0:6]\n",
    "\n",
    "    else:\n",
    "        print(page_response.status_code)\n",
    "        \n",
    "except requests.Timeout as e:\n",
    "        print('Timeout occurred for requested page: ' + url)\n",
    "        print(str(e))\n",
    "\n",
    "        \n",
    "        slick-header ui-state-default full-header\n",
    "# parent div - id=\"maintable_World\" \n"
   ]
  },
  {
   "cell_type": "code",
   "execution_count": null,
   "id": "8c58717a",
   "metadata": {},
   "outputs": [],
   "source": []
  }
 ],
 "metadata": {
  "kernelspec": {
   "display_name": "Python 3 (ipykernel)",
   "language": "python",
   "name": "python3"
  },
  "language_info": {
   "codemirror_mode": {
    "name": "ipython",
    "version": 3
   },
   "file_extension": ".py",
   "mimetype": "text/x-python",
   "name": "python",
   "nbconvert_exporter": "python",
   "pygments_lexer": "ipython3",
   "version": "3.9.12"
  }
 },
 "nbformat": 4,
 "nbformat_minor": 5
}
