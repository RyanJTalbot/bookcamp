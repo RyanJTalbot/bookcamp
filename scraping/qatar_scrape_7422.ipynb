{
 "cells": [
  {
   "cell_type": "markdown",
   "metadata": {},
   "source": [
    "## https://docs.football-data.org/general/v4/index.html\n",
    "\n",
    "## https://github.com/johnwmillr/WorldCup2018/blob/master/scrape_soccer_data.ipynb"
   ]
  },
  {
   "cell_type": "code",
   "execution_count": 1,
   "metadata": {},
   "outputs": [],
   "source": [
    "import requests\n",
    "import json\n",
    "import time\n",
    "import random\n",
    "import numpy as np\n",
    "import pandas as pd\n",
    "import matplotlib.pyplot as plt\n",
    "FS = 16\n",
    "import seaborn as sns\n",
    "sns.set(style='ticks')"
   ]
  },
  {
   "cell_type": "code",
   "execution_count": 2,
   "metadata": {},
   "outputs": [],
   "source": [
    "plt.style.use('fivethirtyeight')"
   ]
  },
  {
   "cell_type": "code",
   "execution_count": 3,
   "metadata": {},
   "outputs": [],
   "source": [
    "uri = 'http://api.football-data.org/v4/competitions/WC/teams'\n",
    "headers = { 'X-Auth-Token': 'f6c0996b1bc54c889f73cb722ad25385' }\n",
    "\n",
    "\n",
    "response = requests.get(uri, headers=headers)\n",
    "assert response.status_code == 200, \"Error in API requests.\"\n",
    "team_data = response.json()\n"
   ]
  },
  {
   "cell_type": "code",
   "execution_count": 4,
   "metadata": {},
   "outputs": [
    {
     "name": "stdout",
     "output_type": "stream",
     "text": [
      "(1/32) Uruguay\n",
      "Football-data Error: '_links'\n",
      "(2/32) Germany\n",
      "Football-data Error: '_links'\n",
      "(3/32) Spain\n",
      "Football-data Error: '_links'\n",
      "(4/32) Argentina\n",
      "Football-data Error: '_links'\n",
      "(5/32) Ghana\n",
      "Football-data Error: '_links'\n",
      "(6/32) Brazil\n",
      "Football-data Error: '_links'\n",
      "(7/32) Portugal\n",
      "Football-data Error: '_links'\n",
      "(8/32) Japan\n",
      "Football-data Error: '_links'\n",
      "(9/32) Mexico\n",
      "Football-data Error: '_links'\n",
      "(10/32) England\n",
      "Football-data Error: '_links'\n",
      "(11/32) United States\n",
      "Football-data Error: '_links'\n",
      "(12/32) South Korea\n",
      "Football-data Error: '_links'\n",
      "(13/32) France\n",
      "Football-data Error: '_links'\n",
      "(14/32) Australia\n",
      "Football-data Error: '_links'\n",
      "(15/32) Serbia\n",
      "Football-data Error: '_links'\n",
      "(16/32) Cameroon\n",
      "Football-data Error: '_links'\n",
      "(17/32) Denmark\n",
      "Football-data Error: '_links'\n",
      "(18/32) Switzerland\n",
      "Football-data Error: '_links'\n",
      "(19/32) Ecuador\n",
      "Football-data Error: '_links'\n",
      "(20/32) Costa Rica\n",
      "Football-data Error: '_links'\n",
      "(21/32) Poland\n",
      "Football-data Error: '_links'\n",
      "(22/32) Croatia\n",
      "Football-data Error: '_links'\n",
      "(23/32) Saudi Arabia\n",
      "Football-data Error: '_links'\n",
      "(24/32) Tunisia\n",
      "Football-data Error: '_links'\n",
      "(25/32) Senegal\n",
      "Football-data Error: '_links'\n",
      "(26/32) Belgium\n",
      "Football-data Error: '_links'\n",
      "(27/32) Morocco\n",
      "Football-data Error: '_links'\n",
      "(28/32) Canada\n",
      "Football-data Error: '_links'\n",
      "(29/32) Wales\n",
      "Football-data Error: '_links'\n",
      "(30/32) Iran\n",
      "Football-data Error: '_links'\n",
      "(31/32) Qatar\n",
      "Football-data Error: '_links'\n",
      "(32/32) Netherlands\n",
      "Football-data Error: '_links'\n",
      "Saving the data... Done.\n"
     ]
    }
   ],
   "source": [
    "# Get player data for each team in the 2018 World Cup\n",
    "soccer_data = []\n",
    "num_teams = team_data['count']\n",
    "for n,team in enumerate(team_data['teams']):\n",
    "    print(\"({n}/{total}) {name}\".format(n=n+1, total=num_teams, name=team['name']))    \n",
    "    try:\n",
    "        response = requests.get(team['_links']['players']['href'])\n",
    "        assert response.status_code == 200, \"Error in API request ({}).\".format(n)\n",
    "        team['players'] = response.json()\n",
    "        soccer_data.append(team)    \n",
    "    except Exception as e:\n",
    "        print(\"Football-data Error: {error}\".format(error=e))\n",
    "    time.sleep(5)\n",
    "    \n",
    "# Save the data\n",
    "print(\"Saving the data...\", end=\"\", flush=True)\n",
    "with open('soccer_teams.json', 'w') as outfile:\n",
    "    json.dump(soccer_data, outfile)\n",
    "print(\" Done.\")"
   ]
  },
  {
   "cell_type": "code",
   "execution_count": 6,
   "metadata": {},
   "outputs": [
    {
     "name": "stdout",
     "output_type": "stream",
     "text": [
      "Total players: 0\n"
     ]
    }
   ],
   "source": [
    "player_count = 0\n",
    "for team in soccer_data:\n",
    "    print(\"-\"*50 + '\\n' + team['name'])\n",
    "    for player in team['players']['players']:\n",
    "        print(player['name'])\n",
    "        player_count += 1\n",
    "        \n",
    "print(\"Total players: {}\".format(player_count))"
   ]
  },
  {
   "cell_type": "code",
   "execution_count": null,
   "metadata": {},
   "outputs": [],
   "source": []
  }
 ],
 "metadata": {
  "kernelspec": {
   "display_name": "Python 3 (ipykernel)",
   "language": "python",
   "name": "python3"
  },
  "language_info": {
   "codemirror_mode": {
    "name": "ipython",
    "version": 3
   },
   "file_extension": ".py",
   "mimetype": "text/x-python",
   "name": "python",
   "nbconvert_exporter": "python",
   "pygments_lexer": "ipython3",
   "version": "3.9.12"
  }
 },
 "nbformat": 4,
 "nbformat_minor": 5
}
