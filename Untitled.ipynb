{
 "cells": [
  {
   "cell_type": "code",
   "execution_count": 1,
   "metadata": {},
   "outputs": [
    {
     "data": {
      "text/plain": [
       "['/Users/ryantalbot/Desktop/bookcamp',\n",
       " '/Users/ryantalbot/opt/anaconda3/envs/tf2/lib/python39.zip',\n",
       " '/Users/ryantalbot/opt/anaconda3/envs/tf2/lib/python3.9',\n",
       " '/Users/ryantalbot/opt/anaconda3/envs/tf2/lib/python3.9/lib-dynload',\n",
       " '',\n",
       " '/Users/ryantalbot/.local/lib/python3.9/site-packages',\n",
       " '/Users/ryantalbot/opt/anaconda3/envs/tf2/lib/python3.9/site-packages',\n",
       " '/Users/ryantalbot/.local/lib/python3.9/site-packages/IPython/extensions',\n",
       " '/Users/ryantalbot/.ipython']"
      ]
     },
     "execution_count": 1,
     "metadata": {},
     "output_type": "execute_result"
    }
   ],
   "source": [
    "import sys\n",
    "sys.path"
   ]
  },
  {
   "cell_type": "code",
   "execution_count": 2,
   "metadata": {},
   "outputs": [],
   "source": [
    "# /Users/yufeng/anaconda3/envs/py33/bin/python -m pip install plotly"
   ]
  },
  {
   "cell_type": "code",
   "execution_count": 3,
   "metadata": {},
   "outputs": [],
   "source": [
    "# /Users/ryantalbot/opt/anaconda3/envs/tf2/bin/python "
   ]
  },
  {
   "cell_type": "code",
   "execution_count": null,
   "metadata": {},
   "outputs": [],
   "source": [
    "/Users/ryantalbot/opt/anaconda3/envs/tf2/bin/python -m pip install deepchecks -U --user\n"
   ]
  }
 ],
 "metadata": {
  "kernelspec": {
   "display_name": "Python 3 (ipykernel)",
   "language": "python",
   "name": "python3"
  },
  "language_info": {
   "codemirror_mode": {
    "name": "ipython",
    "version": 3
   },
   "file_extension": ".py",
   "mimetype": "text/x-python",
   "name": "python",
   "nbconvert_exporter": "python",
   "pygments_lexer": "ipython3",
   "version": "3.9.12"
  }
 },
 "nbformat": 4,
 "nbformat_minor": 2
}
