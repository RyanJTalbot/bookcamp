{
 "cells": [
  {
   "cell_type": "code",
   "execution_count": 1,
   "id": "238df07b",
   "metadata": {},
   "outputs": [],
   "source": [
    "import pandas as pd\n",
    "import numpy as np"
   ]
  },
  {
   "cell_type": "code",
   "execution_count": 11,
   "id": "36d67958",
   "metadata": {},
   "outputs": [],
   "source": [
    "twentyOne= pd.read_csv('Clockify_Time_Report_Summary_01_01_2021-12_31_2021.csv')"
   ]
  },
  {
   "cell_type": "code",
   "execution_count": 12,
   "id": "5afeb6c9",
   "metadata": {},
   "outputs": [
    {
     "data": {
      "text/html": [
       "<div>\n",
       "<style scoped>\n",
       "    .dataframe tbody tr th:only-of-type {\n",
       "        vertical-align: middle;\n",
       "    }\n",
       "\n",
       "    .dataframe tbody tr th {\n",
       "        vertical-align: top;\n",
       "    }\n",
       "\n",
       "    .dataframe thead th {\n",
       "        text-align: right;\n",
       "    }\n",
       "</style>\n",
       "<table border=\"1\" class=\"dataframe\">\n",
       "  <thead>\n",
       "    <tr style=\"text-align: right;\">\n",
       "      <th></th>\n",
       "      <th>Project</th>\n",
       "      <th>Client</th>\n",
       "      <th>Description</th>\n",
       "      <th>Time (h)</th>\n",
       "      <th>Time (decimal)</th>\n",
       "      <th>Amount (USD)</th>\n",
       "    </tr>\n",
       "  </thead>\n",
       "  <tbody>\n",
       "    <tr>\n",
       "      <th>0</th>\n",
       "      <td>(Without project)</td>\n",
       "      <td>(Without client)</td>\n",
       "      <td>(Without description)</td>\n",
       "      <td>1:46</td>\n",
       "      <td>1.766667</td>\n",
       "      <td>0.0</td>\n",
       "    </tr>\n",
       "    <tr>\n",
       "      <th>1</th>\n",
       "      <td>Jobs</td>\n",
       "      <td>(Without client)</td>\n",
       "      <td>(Without description)</td>\n",
       "      <td>16:05</td>\n",
       "      <td>16.083333</td>\n",
       "      <td>0.0</td>\n",
       "    </tr>\n",
       "    <tr>\n",
       "      <th>2</th>\n",
       "      <td>Launch School</td>\n",
       "      <td>(Without client)</td>\n",
       "      <td>(Without description)</td>\n",
       "      <td>703:32</td>\n",
       "      <td>703.533333</td>\n",
       "      <td>0.0</td>\n",
       "    </tr>\n",
       "    <tr>\n",
       "      <th>3</th>\n",
       "      <td>Launch School</td>\n",
       "      <td>(Without client)</td>\n",
       "      <td>Exam</td>\n",
       "      <td>3:16</td>\n",
       "      <td>3.266667</td>\n",
       "      <td>0.0</td>\n",
       "    </tr>\n",
       "    <tr>\n",
       "      <th>4</th>\n",
       "      <td>Launch School</td>\n",
       "      <td>(Without client)</td>\n",
       "      <td>Launch School</td>\n",
       "      <td>0:32</td>\n",
       "      <td>0.533333</td>\n",
       "      <td>0.0</td>\n",
       "    </tr>\n",
       "  </tbody>\n",
       "</table>\n",
       "</div>"
      ],
      "text/plain": [
       "             Project            Client            Description Time (h)  \\\n",
       "0  (Without project)  (Without client)  (Without description)     1:46   \n",
       "1               Jobs  (Without client)  (Without description)    16:05   \n",
       "2      Launch School  (Without client)  (Without description)   703:32   \n",
       "3      Launch School  (Without client)                   Exam     3:16   \n",
       "4      Launch School  (Without client)          Launch School     0:32   \n",
       "\n",
       "   Time (decimal)  Amount (USD)  \n",
       "0        1.766667           0.0  \n",
       "1       16.083333           0.0  \n",
       "2      703.533333           0.0  \n",
       "3        3.266667           0.0  \n",
       "4        0.533333           0.0  "
      ]
     },
     "execution_count": 12,
     "metadata": {},
     "output_type": "execute_result"
    }
   ],
   "source": [
    "twentyOne"
   ]
  },
  {
   "cell_type": "code",
   "execution_count": 9,
   "id": "56c8a896",
   "metadata": {},
   "outputs": [],
   "source": [
    "twentytwo = pd.read_csv('Clockify_Time_Report_Summary_01_01_2022-12_31_2022.csv')"
   ]
  },
  {
   "cell_type": "code",
   "execution_count": 13,
   "id": "0117942f",
   "metadata": {
    "scrolled": true
   },
   "outputs": [
    {
     "data": {
      "text/html": [
       "<div>\n",
       "<style scoped>\n",
       "    .dataframe tbody tr th:only-of-type {\n",
       "        vertical-align: middle;\n",
       "    }\n",
       "\n",
       "    .dataframe tbody tr th {\n",
       "        vertical-align: top;\n",
       "    }\n",
       "\n",
       "    .dataframe thead th {\n",
       "        text-align: right;\n",
       "    }\n",
       "</style>\n",
       "<table border=\"1\" class=\"dataframe\">\n",
       "  <thead>\n",
       "    <tr style=\"text-align: right;\">\n",
       "      <th></th>\n",
       "      <th>Project</th>\n",
       "      <th>Client</th>\n",
       "      <th>Description</th>\n",
       "      <th>Time (h)</th>\n",
       "      <th>Time (decimal)</th>\n",
       "      <th>Amount (USD)</th>\n",
       "    </tr>\n",
       "  </thead>\n",
       "  <tbody>\n",
       "    <tr>\n",
       "      <th>0</th>\n",
       "      <td>(Without project)</td>\n",
       "      <td>(Without client)</td>\n",
       "      <td>(Without description)</td>\n",
       "      <td>0:21</td>\n",
       "      <td>0.350000</td>\n",
       "      <td>0.0</td>\n",
       "    </tr>\n",
       "    <tr>\n",
       "      <th>1</th>\n",
       "      <td>IBM</td>\n",
       "      <td>(Without client)</td>\n",
       "      <td>(Without description)</td>\n",
       "      <td>1582:56</td>\n",
       "      <td>1582.933333</td>\n",
       "      <td>0.0</td>\n",
       "    </tr>\n",
       "    <tr>\n",
       "      <th>2</th>\n",
       "      <td>Jobs</td>\n",
       "      <td>(Without client)</td>\n",
       "      <td>(Without description)</td>\n",
       "      <td>1779:41</td>\n",
       "      <td>1779.683333</td>\n",
       "      <td>0.0</td>\n",
       "    </tr>\n",
       "    <tr>\n",
       "      <th>3</th>\n",
       "      <td>Launch School</td>\n",
       "      <td>(Without client)</td>\n",
       "      <td>(Without description)</td>\n",
       "      <td>9:50</td>\n",
       "      <td>9.833333</td>\n",
       "      <td>0.0</td>\n",
       "    </tr>\n",
       "  </tbody>\n",
       "</table>\n",
       "</div>"
      ],
      "text/plain": [
       "             Project            Client            Description Time (h)  \\\n",
       "0  (Without project)  (Without client)  (Without description)     0:21   \n",
       "1                IBM  (Without client)  (Without description)  1582:56   \n",
       "2               Jobs  (Without client)  (Without description)  1779:41   \n",
       "3      Launch School  (Without client)  (Without description)     9:50   \n",
       "\n",
       "   Time (decimal)  Amount (USD)  \n",
       "0        0.350000           0.0  \n",
       "1     1582.933333           0.0  \n",
       "2     1779.683333           0.0  \n",
       "3        9.833333           0.0  "
      ]
     },
     "execution_count": 13,
     "metadata": {},
     "output_type": "execute_result"
    }
   ],
   "source": [
    "twentytwo"
   ]
  },
  {
   "cell_type": "code",
   "execution_count": 10,
   "id": "95a03a34",
   "metadata": {},
   "outputs": [],
   "source": [
    "twentythree = pd.read_csv('Clockify_Time_Report_Summary_01_01_2023-12_31_2023.csv')"
   ]
  },
  {
   "cell_type": "code",
   "execution_count": 14,
   "id": "93903dd7",
   "metadata": {},
   "outputs": [
    {
     "data": {
      "text/html": [
       "<div>\n",
       "<style scoped>\n",
       "    .dataframe tbody tr th:only-of-type {\n",
       "        vertical-align: middle;\n",
       "    }\n",
       "\n",
       "    .dataframe tbody tr th {\n",
       "        vertical-align: top;\n",
       "    }\n",
       "\n",
       "    .dataframe thead th {\n",
       "        text-align: right;\n",
       "    }\n",
       "</style>\n",
       "<table border=\"1\" class=\"dataframe\">\n",
       "  <thead>\n",
       "    <tr style=\"text-align: right;\">\n",
       "      <th></th>\n",
       "      <th>Project</th>\n",
       "      <th>Client</th>\n",
       "      <th>Description</th>\n",
       "      <th>Time (h)</th>\n",
       "      <th>Time (decimal)</th>\n",
       "      <th>Amount (USD)</th>\n",
       "    </tr>\n",
       "  </thead>\n",
       "  <tbody>\n",
       "    <tr>\n",
       "      <th>0</th>\n",
       "      <td>IBM</td>\n",
       "      <td>(Without client)</td>\n",
       "      <td>(Without description)</td>\n",
       "      <td>112:38</td>\n",
       "      <td>112.633333</td>\n",
       "      <td>0.0</td>\n",
       "    </tr>\n",
       "    <tr>\n",
       "      <th>1</th>\n",
       "      <td>Jobs</td>\n",
       "      <td>(Without client)</td>\n",
       "      <td>(Without description)</td>\n",
       "      <td>78:01</td>\n",
       "      <td>78.016667</td>\n",
       "      <td>0.0</td>\n",
       "    </tr>\n",
       "  </tbody>\n",
       "</table>\n",
       "</div>"
      ],
      "text/plain": [
       "  Project            Client            Description Time (h)  Time (decimal)  \\\n",
       "0     IBM  (Without client)  (Without description)   112:38      112.633333   \n",
       "1    Jobs  (Without client)  (Without description)    78:01       78.016667   \n",
       "\n",
       "   Amount (USD)  \n",
       "0           0.0  \n",
       "1           0.0  "
      ]
     },
     "execution_count": 14,
     "metadata": {},
     "output_type": "execute_result"
    }
   ],
   "source": [
    "twentythree"
   ]
  },
  {
   "cell_type": "code",
   "execution_count": 15,
   "id": "63bf7530",
   "metadata": {},
   "outputs": [],
   "source": [
    "dec22 = pd.read_csv('Clockify_Time_Report_Summary_12_01_2022-12_31_2022.csv')"
   ]
  },
  {
   "cell_type": "code",
   "execution_count": 17,
   "id": "e145958f",
   "metadata": {},
   "outputs": [],
   "source": [
    "nov22 = pd.read_csv('Clockify_Time_Report_Summary_11_01_2022-11_30_2022.csv')"
   ]
  },
  {
   "cell_type": "code",
   "execution_count": 26,
   "id": "b4d6101d",
   "metadata": {},
   "outputs": [],
   "source": [
    "oct22 = pd.read_csv('Clockify_Time_Report_Summary_10_01_2022-10_31_2022.csv')"
   ]
  },
  {
   "cell_type": "code",
   "execution_count": 34,
   "id": "8ec98d20",
   "metadata": {},
   "outputs": [],
   "source": [
    "sep22 = pd.read_csv('Clockify_Time_Report_Summary_09_01_2022-09_30_2022.csv')"
   ]
  },
  {
   "cell_type": "code",
   "execution_count": 46,
   "id": "b7f47c11",
   "metadata": {},
   "outputs": [],
   "source": [
    "aug22 = pd.read_csv('Clockify_Time_Report_Summary_08_01_2022-08_31_2022.csv')"
   ]
  },
  {
   "cell_type": "code",
   "execution_count": 47,
   "id": "5476a21d",
   "metadata": {},
   "outputs": [],
   "source": [
    "jul22 = pd.read_csv('Clockify_Time_Report_Summary_07_01_2022-07_31_2022.csv')"
   ]
  },
  {
   "cell_type": "code",
   "execution_count": 48,
   "id": "3b21680b",
   "metadata": {},
   "outputs": [],
   "source": [
    "jun22 = pd.read_csv('Clockify_Time_Report_Summary_06_01_2022-06_30_2022.csv')"
   ]
  },
  {
   "cell_type": "code",
   "execution_count": 49,
   "id": "e4922e42",
   "metadata": {},
   "outputs": [],
   "source": [
    "may22 = pd.read_csv('Clockify_Time_Report_Summary_05_01_2022-05_31_2022.csv')"
   ]
  },
  {
   "cell_type": "code",
   "execution_count": 50,
   "id": "0f824439",
   "metadata": {},
   "outputs": [],
   "source": [
    "apr22 = pd.read_csv('Clockify_Time_Report_Summary_04_01_2022-04_30_2022.csv')"
   ]
  },
  {
   "cell_type": "code",
   "execution_count": 51,
   "id": "da96e04d",
   "metadata": {},
   "outputs": [],
   "source": [
    "mar22 = pd.read_csv('Clockify_Time_Report_Summary_03_01_2022-03_31_2022.csv')"
   ]
  },
  {
   "cell_type": "code",
   "execution_count": 52,
   "id": "0fcd7eee",
   "metadata": {},
   "outputs": [],
   "source": [
    "feb22 = pd.read_csv('Clockify_Time_Report_Summary_02_01_2022-02_28_2022.csv')"
   ]
  },
  {
   "cell_type": "code",
   "execution_count": 70,
   "id": "8763e36e",
   "metadata": {},
   "outputs": [],
   "source": [
    "jan22 = pd.read_csv('Clockify_Time_Report_Summary_02_01_2022-02_28_2022(1).csv')"
   ]
  },
  {
   "cell_type": "code",
   "execution_count": 79,
   "id": "47113d32",
   "metadata": {},
   "outputs": [],
   "source": [
    "jan22['month'] = 'jan22'"
   ]
  },
  {
   "cell_type": "code",
   "execution_count": 73,
   "id": "aaf86de2",
   "metadata": {},
   "outputs": [],
   "source": [
    "may22['month'] = 'may22'"
   ]
  },
  {
   "cell_type": "code",
   "execution_count": 76,
   "id": "7e0246f7",
   "metadata": {},
   "outputs": [],
   "source": [
    "may22 = may22.set_index(\"month\")"
   ]
  },
  {
   "cell_type": "code",
   "execution_count": 81,
   "id": "fa1d528d",
   "metadata": {},
   "outputs": [],
   "source": [
    "jan22 = jan22.set_index(\"month\")"
   ]
  },
  {
   "cell_type": "code",
   "execution_count": 83,
   "id": "dc19c5db",
   "metadata": {},
   "outputs": [],
   "source": [
    "feb22['month'] = 'feb22'"
   ]
  },
  {
   "cell_type": "code",
   "execution_count": 84,
   "id": "23c8aec2",
   "metadata": {},
   "outputs": [],
   "source": [
    "feb22 = feb22.set_index(\"month\")"
   ]
  },
  {
   "cell_type": "code",
   "execution_count": 86,
   "id": "724f8648",
   "metadata": {},
   "outputs": [],
   "source": [
    "mar22['month'] = 'mar22'"
   ]
  },
  {
   "cell_type": "code",
   "execution_count": 87,
   "id": "58f0c73a",
   "metadata": {},
   "outputs": [],
   "source": [
    "mar22 = mar22.set_index(\"month\")"
   ]
  },
  {
   "cell_type": "code",
   "execution_count": 89,
   "id": "123b8ed6",
   "metadata": {},
   "outputs": [],
   "source": [
    "apr22['month'] = 'apr22'"
   ]
  },
  {
   "cell_type": "code",
   "execution_count": 90,
   "id": "c9a76cf8",
   "metadata": {},
   "outputs": [],
   "source": [
    "apr22 = apr22.set_index(\"month\")"
   ]
  },
  {
   "cell_type": "code",
   "execution_count": 92,
   "id": "d7ef7d80",
   "metadata": {},
   "outputs": [],
   "source": [
    "jun22['month'] = 'jun22'"
   ]
  },
  {
   "cell_type": "code",
   "execution_count": 93,
   "id": "83b87edb",
   "metadata": {},
   "outputs": [],
   "source": [
    "jun22 = jun22.set_index(\"month\")"
   ]
  },
  {
   "cell_type": "code",
   "execution_count": 95,
   "id": "4a4a887e",
   "metadata": {},
   "outputs": [],
   "source": [
    "jul22['month'] = 'jul22'"
   ]
  },
  {
   "cell_type": "code",
   "execution_count": 96,
   "id": "4fce70e9",
   "metadata": {},
   "outputs": [],
   "source": [
    "jul22 = jul22.set_index(\"month\")"
   ]
  },
  {
   "cell_type": "code",
   "execution_count": 98,
   "id": "5fb7f9b0",
   "metadata": {},
   "outputs": [],
   "source": [
    "aug22['month'] = 'aug22'"
   ]
  },
  {
   "cell_type": "code",
   "execution_count": 99,
   "id": "a73a8e9d",
   "metadata": {},
   "outputs": [],
   "source": [
    "aug22 = aug22.set_index(\"month\")"
   ]
  },
  {
   "cell_type": "code",
   "execution_count": 101,
   "id": "88911dc5",
   "metadata": {},
   "outputs": [],
   "source": [
    "sep22['month'] = 'sep22'"
   ]
  },
  {
   "cell_type": "code",
   "execution_count": 102,
   "id": "1b860868",
   "metadata": {},
   "outputs": [],
   "source": [
    "sep22 = sep22.set_index(\"month\")"
   ]
  },
  {
   "cell_type": "code",
   "execution_count": 104,
   "id": "d59aa4a9",
   "metadata": {},
   "outputs": [],
   "source": [
    "oct22['month'] = 'oct22'"
   ]
  },
  {
   "cell_type": "code",
   "execution_count": 105,
   "id": "dbd3629f",
   "metadata": {},
   "outputs": [],
   "source": [
    "oct22 = oct22.set_index(\"month\")"
   ]
  },
  {
   "cell_type": "code",
   "execution_count": 107,
   "id": "52d80127",
   "metadata": {},
   "outputs": [],
   "source": [
    "nov22['month'] = 'nov22'"
   ]
  },
  {
   "cell_type": "code",
   "execution_count": 108,
   "id": "e553e80c",
   "metadata": {},
   "outputs": [],
   "source": [
    "nov22 = nov22.set_index(\"month\")"
   ]
  },
  {
   "cell_type": "code",
   "execution_count": 110,
   "id": "965b0dbd",
   "metadata": {},
   "outputs": [],
   "source": [
    "dec22['month'] = 'dec22'"
   ]
  },
  {
   "cell_type": "code",
   "execution_count": 111,
   "id": "3b438160",
   "metadata": {},
   "outputs": [],
   "source": [
    "dec22 = dec22.set_index(\"month\")"
   ]
  },
  {
   "cell_type": "code",
   "execution_count": 112,
   "id": "5f994600",
   "metadata": {},
   "outputs": [
    {
     "data": {
      "text/html": [
       "<div>\n",
       "<style scoped>\n",
       "    .dataframe tbody tr th:only-of-type {\n",
       "        vertical-align: middle;\n",
       "    }\n",
       "\n",
       "    .dataframe tbody tr th {\n",
       "        vertical-align: top;\n",
       "    }\n",
       "\n",
       "    .dataframe thead th {\n",
       "        text-align: right;\n",
       "    }\n",
       "</style>\n",
       "<table border=\"1\" class=\"dataframe\">\n",
       "  <thead>\n",
       "    <tr style=\"text-align: right;\">\n",
       "      <th></th>\n",
       "      <th>Project</th>\n",
       "      <th>Client</th>\n",
       "      <th>Description</th>\n",
       "      <th>Time (h)</th>\n",
       "      <th>Time (decimal)</th>\n",
       "      <th>Amount (USD)</th>\n",
       "    </tr>\n",
       "    <tr>\n",
       "      <th>month</th>\n",
       "      <th></th>\n",
       "      <th></th>\n",
       "      <th></th>\n",
       "      <th></th>\n",
       "      <th></th>\n",
       "      <th></th>\n",
       "    </tr>\n",
       "  </thead>\n",
       "  <tbody>\n",
       "    <tr>\n",
       "      <th>jan22</th>\n",
       "      <td>Jobs</td>\n",
       "      <td>(Without client)</td>\n",
       "      <td>(Without description)</td>\n",
       "      <td>142:39</td>\n",
       "      <td>142.650000</td>\n",
       "      <td>0.0</td>\n",
       "    </tr>\n",
       "    <tr>\n",
       "      <th>feb22</th>\n",
       "      <td>Jobs</td>\n",
       "      <td>(Without client)</td>\n",
       "      <td>(Without description)</td>\n",
       "      <td>142:39</td>\n",
       "      <td>142.650000</td>\n",
       "      <td>0.0</td>\n",
       "    </tr>\n",
       "    <tr>\n",
       "      <th>mar22</th>\n",
       "      <td>IBM</td>\n",
       "      <td>(Without client)</td>\n",
       "      <td>(Without description)</td>\n",
       "      <td>7:56</td>\n",
       "      <td>7.933333</td>\n",
       "      <td>0.0</td>\n",
       "    </tr>\n",
       "    <tr>\n",
       "      <th>mar22</th>\n",
       "      <td>Jobs</td>\n",
       "      <td>(Without client)</td>\n",
       "      <td>(Without description)</td>\n",
       "      <td>192:05</td>\n",
       "      <td>192.083333</td>\n",
       "      <td>0.0</td>\n",
       "    </tr>\n",
       "    <tr>\n",
       "      <th>apr22</th>\n",
       "      <td>IBM</td>\n",
       "      <td>(Without client)</td>\n",
       "      <td>(Without description)</td>\n",
       "      <td>187:08</td>\n",
       "      <td>187.133333</td>\n",
       "      <td>0.0</td>\n",
       "    </tr>\n",
       "    <tr>\n",
       "      <th>apr22</th>\n",
       "      <td>Jobs</td>\n",
       "      <td>(Without client)</td>\n",
       "      <td>(Without description)</td>\n",
       "      <td>96:11</td>\n",
       "      <td>96.183333</td>\n",
       "      <td>0.0</td>\n",
       "    </tr>\n",
       "    <tr>\n",
       "      <th>may22</th>\n",
       "      <td>IBM</td>\n",
       "      <td>(Without client)</td>\n",
       "      <td>(Without description)</td>\n",
       "      <td>204:28</td>\n",
       "      <td>204.466667</td>\n",
       "      <td>0.0</td>\n",
       "    </tr>\n",
       "    <tr>\n",
       "      <th>may22</th>\n",
       "      <td>Jobs</td>\n",
       "      <td>(Without client)</td>\n",
       "      <td>(Without description)</td>\n",
       "      <td>113:52</td>\n",
       "      <td>113.866667</td>\n",
       "      <td>0.0</td>\n",
       "    </tr>\n",
       "    <tr>\n",
       "      <th>jun22</th>\n",
       "      <td>IBM</td>\n",
       "      <td>(Without client)</td>\n",
       "      <td>(Without description)</td>\n",
       "      <td>194:49</td>\n",
       "      <td>194.816667</td>\n",
       "      <td>0.0</td>\n",
       "    </tr>\n",
       "    <tr>\n",
       "      <th>jun22</th>\n",
       "      <td>Jobs</td>\n",
       "      <td>(Without client)</td>\n",
       "      <td>(Without description)</td>\n",
       "      <td>137:56</td>\n",
       "      <td>137.933333</td>\n",
       "      <td>0.0</td>\n",
       "    </tr>\n",
       "    <tr>\n",
       "      <th>jul22</th>\n",
       "      <td>IBM</td>\n",
       "      <td>(Without client)</td>\n",
       "      <td>(Without description)</td>\n",
       "      <td>179:59</td>\n",
       "      <td>179.983333</td>\n",
       "      <td>0.0</td>\n",
       "    </tr>\n",
       "    <tr>\n",
       "      <th>jul22</th>\n",
       "      <td>Jobs</td>\n",
       "      <td>(Without client)</td>\n",
       "      <td>(Without description)</td>\n",
       "      <td>153:54</td>\n",
       "      <td>153.900000</td>\n",
       "      <td>0.0</td>\n",
       "    </tr>\n",
       "    <tr>\n",
       "      <th>aug22</th>\n",
       "      <td>IBM</td>\n",
       "      <td>(Without client)</td>\n",
       "      <td>(Without description)</td>\n",
       "      <td>158:11</td>\n",
       "      <td>158.183333</td>\n",
       "      <td>0.0</td>\n",
       "    </tr>\n",
       "    <tr>\n",
       "      <th>aug22</th>\n",
       "      <td>Jobs</td>\n",
       "      <td>(Without client)</td>\n",
       "      <td>(Without description)</td>\n",
       "      <td>133:41</td>\n",
       "      <td>133.683333</td>\n",
       "      <td>0.0</td>\n",
       "    </tr>\n",
       "    <tr>\n",
       "      <th>sep22</th>\n",
       "      <td>(Without project)</td>\n",
       "      <td>(Without client)</td>\n",
       "      <td>(Without description)</td>\n",
       "      <td>0:21</td>\n",
       "      <td>0.350000</td>\n",
       "      <td>0.0</td>\n",
       "    </tr>\n",
       "    <tr>\n",
       "      <th>sep22</th>\n",
       "      <td>IBM</td>\n",
       "      <td>(Without client)</td>\n",
       "      <td>(Without description)</td>\n",
       "      <td>166:48</td>\n",
       "      <td>166.800000</td>\n",
       "      <td>0.0</td>\n",
       "    </tr>\n",
       "    <tr>\n",
       "      <th>sep22</th>\n",
       "      <td>Jobs</td>\n",
       "      <td>(Without client)</td>\n",
       "      <td>(Without description)</td>\n",
       "      <td>181:31</td>\n",
       "      <td>181.516667</td>\n",
       "      <td>0.0</td>\n",
       "    </tr>\n",
       "    <tr>\n",
       "      <th>oct22</th>\n",
       "      <td>IBM</td>\n",
       "      <td>(Without client)</td>\n",
       "      <td>(Without description)</td>\n",
       "      <td>195:32</td>\n",
       "      <td>195.533333</td>\n",
       "      <td>0.0</td>\n",
       "    </tr>\n",
       "    <tr>\n",
       "      <th>oct22</th>\n",
       "      <td>Jobs</td>\n",
       "      <td>(Without client)</td>\n",
       "      <td>(Without description)</td>\n",
       "      <td>144:13</td>\n",
       "      <td>144.216667</td>\n",
       "      <td>0.0</td>\n",
       "    </tr>\n",
       "    <tr>\n",
       "      <th>nov22</th>\n",
       "      <td>IBM</td>\n",
       "      <td>(Without client)</td>\n",
       "      <td>(Without description)</td>\n",
       "      <td>174:11</td>\n",
       "      <td>174.183333</td>\n",
       "      <td>0.0</td>\n",
       "    </tr>\n",
       "    <tr>\n",
       "      <th>nov22</th>\n",
       "      <td>Jobs</td>\n",
       "      <td>(Without client)</td>\n",
       "      <td>(Without description)</td>\n",
       "      <td>164:23</td>\n",
       "      <td>164.383333</td>\n",
       "      <td>0.0</td>\n",
       "    </tr>\n",
       "    <tr>\n",
       "      <th>dec22</th>\n",
       "      <td>IBM</td>\n",
       "      <td>(Without client)</td>\n",
       "      <td>(Without description)</td>\n",
       "      <td>113:54</td>\n",
       "      <td>113.900000</td>\n",
       "      <td>0.0</td>\n",
       "    </tr>\n",
       "    <tr>\n",
       "      <th>dec22</th>\n",
       "      <td>Jobs</td>\n",
       "      <td>(Without client)</td>\n",
       "      <td>(Without description)</td>\n",
       "      <td>136:30</td>\n",
       "      <td>136.500000</td>\n",
       "      <td>0.0</td>\n",
       "    </tr>\n",
       "  </tbody>\n",
       "</table>\n",
       "</div>"
      ],
      "text/plain": [
       "                 Project            Client            Description Time (h)  \\\n",
       "month                                                                        \n",
       "jan22               Jobs  (Without client)  (Without description)   142:39   \n",
       "feb22               Jobs  (Without client)  (Without description)   142:39   \n",
       "mar22                IBM  (Without client)  (Without description)     7:56   \n",
       "mar22               Jobs  (Without client)  (Without description)   192:05   \n",
       "apr22                IBM  (Without client)  (Without description)   187:08   \n",
       "apr22               Jobs  (Without client)  (Without description)    96:11   \n",
       "may22                IBM  (Without client)  (Without description)   204:28   \n",
       "may22               Jobs  (Without client)  (Without description)   113:52   \n",
       "jun22                IBM  (Without client)  (Without description)   194:49   \n",
       "jun22               Jobs  (Without client)  (Without description)   137:56   \n",
       "jul22                IBM  (Without client)  (Without description)   179:59   \n",
       "jul22               Jobs  (Without client)  (Without description)   153:54   \n",
       "aug22                IBM  (Without client)  (Without description)   158:11   \n",
       "aug22               Jobs  (Without client)  (Without description)   133:41   \n",
       "sep22  (Without project)  (Without client)  (Without description)     0:21   \n",
       "sep22                IBM  (Without client)  (Without description)   166:48   \n",
       "sep22               Jobs  (Without client)  (Without description)   181:31   \n",
       "oct22                IBM  (Without client)  (Without description)   195:32   \n",
       "oct22               Jobs  (Without client)  (Without description)   144:13   \n",
       "nov22                IBM  (Without client)  (Without description)   174:11   \n",
       "nov22               Jobs  (Without client)  (Without description)   164:23   \n",
       "dec22                IBM  (Without client)  (Without description)   113:54   \n",
       "dec22               Jobs  (Without client)  (Without description)   136:30   \n",
       "\n",
       "       Time (decimal)  Amount (USD)  \n",
       "month                                \n",
       "jan22      142.650000           0.0  \n",
       "feb22      142.650000           0.0  \n",
       "mar22        7.933333           0.0  \n",
       "mar22      192.083333           0.0  \n",
       "apr22      187.133333           0.0  \n",
       "apr22       96.183333           0.0  \n",
       "may22      204.466667           0.0  \n",
       "may22      113.866667           0.0  \n",
       "jun22      194.816667           0.0  \n",
       "jun22      137.933333           0.0  \n",
       "jul22      179.983333           0.0  \n",
       "jul22      153.900000           0.0  \n",
       "aug22      158.183333           0.0  \n",
       "aug22      133.683333           0.0  \n",
       "sep22        0.350000           0.0  \n",
       "sep22      166.800000           0.0  \n",
       "sep22      181.516667           0.0  \n",
       "oct22      195.533333           0.0  \n",
       "oct22      144.216667           0.0  \n",
       "nov22      174.183333           0.0  \n",
       "nov22      164.383333           0.0  \n",
       "dec22      113.900000           0.0  \n",
       "dec22      136.500000           0.0  "
      ]
     },
     "metadata": {},
     "output_type": "display_data"
    }
   ],
   "source": [
    "frames = [jan22, feb22, mar22, apr22, may22, jun22, jul22, aug22, sep22, oct22, nov22, dec22]\n",
    "  \n",
    "result = pd.concat(frames)\n",
    "display(result)"
   ]
  },
  {
   "cell_type": "code",
   "execution_count": 113,
   "id": "2bd7b34f",
   "metadata": {},
   "outputs": [],
   "source": [
    "import plotly.express as px"
   ]
  },
  {
   "cell_type": "code",
   "execution_count": 114,
   "id": "54166663",
   "metadata": {},
   "outputs": [],
   "source": [
    "result = result.drop(columns=['Client', 'Description', 'Amount (USD)'])"
   ]
  },
  {
   "cell_type": "code",
   "execution_count": 115,
   "id": "a235846b",
   "metadata": {},
   "outputs": [],
   "source": [
    "result = result.drop(columns=['Time (h)'])"
   ]
  },
  {
   "cell_type": "code",
   "execution_count": 122,
   "id": "398a0c69",
   "metadata": {},
   "outputs": [
    {
     "data": {
      "text/plain": [
       "Project           (Without project)\n",
       "Time (decimal)                 0.35\n",
       "Name: sep22, dtype: object"
      ]
     },
     "execution_count": 122,
     "metadata": {},
     "output_type": "execute_result"
    }
   ],
   "source": [
    "result.iloc[-9]"
   ]
  },
  {
   "cell_type": "code",
   "execution_count": 117,
   "id": "be90f1d0",
   "metadata": {},
   "outputs": [
    {
     "data": {
      "text/plain": [
       "<AxesSubplot:xlabel='month'>"
      ]
     },
     "execution_count": 117,
     "metadata": {},
     "output_type": "execute_result"
    },
    {
     "data": {
      "image/png": "[encoded data removed]",
      "text/plain": [
       "<Figure size 432x288 with 1 Axes>"
      ]
     },
     "metadata": {
      "needs_background": "light"
     },
     "output_type": "display_data"
    }
   ],
   "source": [
    "result.plot()"
   ]
  },
  {
   "cell_type": "code",
   "execution_count": 126,
   "id": "ae905a13",
   "metadata": {},
   "outputs": [],
   "source": [
    "# for index, row in result.iterrows():\n",
    "#     print(row[\"month\"]) "
   ]
  },
  {
   "cell_type": "code",
   "execution_count": null,
   "id": "9b8d8fc0",
   "metadata": {},
   "outputs": [],
   "source": []
  }
 ],
 "metadata": {
  "kernelspec": {
   "display_name": "Python 3 (ipykernel)",
   "language": "python",
   "name": "python3"
  },
  "language_info": {
   "codemirror_mode": {
    "name": "ipython",
    "version": 3
   },
   "file_extension": ".py",
   "mimetype": "text/x-python",
   "name": "python",
   "nbconvert_exporter": "python",
   "pygments_lexer": "ipython3",
   "version": "3.9.12"
  }
 },
 "nbformat": 4,
 "nbformat_minor": 5
}
