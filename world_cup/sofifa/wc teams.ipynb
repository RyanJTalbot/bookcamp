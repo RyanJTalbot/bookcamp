{
 "cells": [
  {
   "cell_type": "markdown",
   "id": "66f48ebb",
   "metadata": {},
   "source": [
    "### Objective\n",
    "\n",
    "get top 14 players from each country in world cup\n",
    "\n",
    "go from there ...?"
   ]
  },
  {
   "cell_type": "code",
   "execution_count": 1,
   "id": "24d88d56",
   "metadata": {},
   "outputs": [],
   "source": [
    "import pandas as pd\n",
    "import numpy as np"
   ]
  },
  {
   "cell_type": "code",
   "execution_count": 2,
   "id": "7294472e",
   "metadata": {},
   "outputs": [],
   "source": [
    "# player_data = pd.read_csv('basicplayerdata.csv')\n",
    "player_data = pd.read_csv('work.csv')"
   ]
  },
  {
   "cell_type": "code",
   "execution_count": 3,
   "id": "9deab327",
   "metadata": {},
   "outputs": [
    {
     "data": {
      "text/html": [
       "<div>\n",
       "<style scoped>\n",
       "    .dataframe tbody tr th:only-of-type {\n",
       "        vertical-align: middle;\n",
       "    }\n",
       "\n",
       "    .dataframe tbody tr th {\n",
       "        vertical-align: top;\n",
       "    }\n",
       "\n",
       "    .dataframe thead th {\n",
       "        text-align: right;\n",
       "    }\n",
       "</style>\n",
       "<table border=\"1\" class=\"dataframe\">\n",
       "  <thead>\n",
       "    <tr style=\"text-align: right;\">\n",
       "      <th></th>\n",
       "      <th>ID</th>\n",
       "      <th>Name</th>\n",
       "      <th>Photo</th>\n",
       "      <th>Nationality</th>\n",
       "      <th>Flag</th>\n",
       "      <th>Overall</th>\n",
       "      <th>Potential</th>\n",
       "      <th>Club</th>\n",
       "      <th>Club Logo</th>\n",
       "      <th>Value</th>\n",
       "      <th>Wage</th>\n",
       "      <th>Special</th>\n",
       "    </tr>\n",
       "  </thead>\n",
       "  <tbody>\n",
       "    <tr>\n",
       "      <th>0</th>\n",
       "      <td>215223</td>\n",
       "      <td>W. Benítez</td>\n",
       "      <td>https://cdn.sofifa.net/players/215/223/22_60.png</td>\n",
       "      <td>NaN</td>\n",
       "      <td>Argentina</td>\n",
       "      <td>80</td>\n",
       "      <td>82</td>\n",
       "      <td>OGC Nice</td>\n",
       "      <td>https://cdn.sofifa.net/teams/72/30.png</td>\n",
       "      <td>€18M</td>\n",
       "      <td>€32K</td>\n",
       "      <td>1281</td>\n",
       "    </tr>\n",
       "    <tr>\n",
       "      <th>1</th>\n",
       "      <td>230767</td>\n",
       "      <td>Renato Sanches</td>\n",
       "      <td>https://cdn.sofifa.net/players/230/767/22_60.png</td>\n",
       "      <td>NaN</td>\n",
       "      <td>Portugal</td>\n",
       "      <td>80</td>\n",
       "      <td>86</td>\n",
       "      <td>LOSC Lille</td>\n",
       "      <td>https://cdn.sofifa.net/teams/65/30.png</td>\n",
       "      <td>€33M</td>\n",
       "      <td>€38K</td>\n",
       "      <td>2218</td>\n",
       "    </tr>\n",
       "    <tr>\n",
       "      <th>2</th>\n",
       "      <td>225713</td>\n",
       "      <td>J. Augustin</td>\n",
       "      <td>https://cdn.sofifa.net/players/225/713/22_60.png</td>\n",
       "      <td>NaN</td>\n",
       "      <td>France</td>\n",
       "      <td>65</td>\n",
       "      <td>68</td>\n",
       "      <td>FC Nantes</td>\n",
       "      <td>https://cdn.sofifa.net/teams/71/30.png</td>\n",
       "      <td>€1M</td>\n",
       "      <td>€6K</td>\n",
       "      <td>1593</td>\n",
       "    </tr>\n",
       "    <tr>\n",
       "      <th>3</th>\n",
       "      <td>255253</td>\n",
       "      <td>Vitinha</td>\n",
       "      <td>https://cdn.sofifa.net/players/255/253/22_60.png</td>\n",
       "      <td>NaN</td>\n",
       "      <td>Portugal</td>\n",
       "      <td>78</td>\n",
       "      <td>88</td>\n",
       "      <td>FC Porto</td>\n",
       "      <td>https://cdn.sofifa.net/teams/236/30.png</td>\n",
       "      <td>€31.5M</td>\n",
       "      <td>€12K</td>\n",
       "      <td>1999</td>\n",
       "    </tr>\n",
       "    <tr>\n",
       "      <th>4</th>\n",
       "      <td>256197</td>\n",
       "      <td>P. Hincapié</td>\n",
       "      <td>https://cdn.sofifa.net/players/256/197/22_60.png</td>\n",
       "      <td>NaN</td>\n",
       "      <td>Ecuador</td>\n",
       "      <td>76</td>\n",
       "      <td>84</td>\n",
       "      <td>Bayer 04 Leverkusen</td>\n",
       "      <td>https://cdn.sofifa.net/teams/32/30.png</td>\n",
       "      <td>€15M</td>\n",
       "      <td>€21K</td>\n",
       "      <td>1817</td>\n",
       "    </tr>\n",
       "  </tbody>\n",
       "</table>\n",
       "</div>"
      ],
      "text/plain": [
       "       ID            Name                                             Photo  \\\n",
       "0  215223      W. Benítez  https://cdn.sofifa.net/players/215/223/22_60.png   \n",
       "1  230767  Renato Sanches  https://cdn.sofifa.net/players/230/767/22_60.png   \n",
       "2  225713     J. Augustin  https://cdn.sofifa.net/players/225/713/22_60.png   \n",
       "3  255253         Vitinha  https://cdn.sofifa.net/players/255/253/22_60.png   \n",
       "4  256197     P. Hincapié  https://cdn.sofifa.net/players/256/197/22_60.png   \n",
       "\n",
       "   Nationality       Flag  Overall  Potential                 Club  \\\n",
       "0          NaN  Argentina       80         82             OGC Nice   \n",
       "1          NaN   Portugal       80         86           LOSC Lille   \n",
       "2          NaN     France       65         68            FC Nantes   \n",
       "3          NaN   Portugal       78         88             FC Porto   \n",
       "4          NaN    Ecuador       76         84  Bayer 04 Leverkusen   \n",
       "\n",
       "                                 Club Logo   Value  Wage  Special  \n",
       "0   https://cdn.sofifa.net/teams/72/30.png    €18M  €32K     1281  \n",
       "1   https://cdn.sofifa.net/teams/65/30.png    €33M  €38K     2218  \n",
       "2   https://cdn.sofifa.net/teams/71/30.png     €1M   €6K     1593  \n",
       "3  https://cdn.sofifa.net/teams/236/30.png  €31.5M  €12K     1999  \n",
       "4   https://cdn.sofifa.net/teams/32/30.png    €15M  €21K     1817  "
      ]
     },
     "execution_count": 3,
     "metadata": {},
     "output_type": "execute_result"
    }
   ],
   "source": [
    "player_data.head()"
   ]
  },
  {
   "cell_type": "code",
   "execution_count": 4,
   "id": "f6e089cf",
   "metadata": {},
   "outputs": [],
   "source": [
    "player_data.drop(['Nationality'], axis=1, inplace=True)"
   ]
  },
  {
   "cell_type": "code",
   "execution_count": 5,
   "id": "a31770c3",
   "metadata": {},
   "outputs": [],
   "source": [
    "df = player_data.rename(columns={'Flag': 'Nationality'})"
   ]
  },
  {
   "cell_type": "code",
   "execution_count": 6,
   "id": "aba5f544",
   "metadata": {},
   "outputs": [
    {
     "data": {
      "text/html": [
       "<div>\n",
       "<style scoped>\n",
       "    .dataframe tbody tr th:only-of-type {\n",
       "        vertical-align: middle;\n",
       "    }\n",
       "\n",
       "    .dataframe tbody tr th {\n",
       "        vertical-align: top;\n",
       "    }\n",
       "\n",
       "    .dataframe thead th {\n",
       "        text-align: right;\n",
       "    }\n",
       "</style>\n",
       "<table border=\"1\" class=\"dataframe\">\n",
       "  <thead>\n",
       "    <tr style=\"text-align: right;\">\n",
       "      <th></th>\n",
       "      <th>ID</th>\n",
       "      <th>Name</th>\n",
       "      <th>Photo</th>\n",
       "      <th>Nationality</th>\n",
       "      <th>Overall</th>\n",
       "      <th>Potential</th>\n",
       "      <th>Club</th>\n",
       "      <th>Club Logo</th>\n",
       "      <th>Value</th>\n",
       "      <th>Wage</th>\n",
       "      <th>Special</th>\n",
       "    </tr>\n",
       "  </thead>\n",
       "  <tbody>\n",
       "    <tr>\n",
       "      <th>0</th>\n",
       "      <td>215223</td>\n",
       "      <td>W. Benítez</td>\n",
       "      <td>https://cdn.sofifa.net/players/215/223/22_60.png</td>\n",
       "      <td>Argentina</td>\n",
       "      <td>80</td>\n",
       "      <td>82</td>\n",
       "      <td>OGC Nice</td>\n",
       "      <td>https://cdn.sofifa.net/teams/72/30.png</td>\n",
       "      <td>€18M</td>\n",
       "      <td>€32K</td>\n",
       "      <td>1281</td>\n",
       "    </tr>\n",
       "    <tr>\n",
       "      <th>1</th>\n",
       "      <td>230767</td>\n",
       "      <td>Renato Sanches</td>\n",
       "      <td>https://cdn.sofifa.net/players/230/767/22_60.png</td>\n",
       "      <td>Portugal</td>\n",
       "      <td>80</td>\n",
       "      <td>86</td>\n",
       "      <td>LOSC Lille</td>\n",
       "      <td>https://cdn.sofifa.net/teams/65/30.png</td>\n",
       "      <td>€33M</td>\n",
       "      <td>€38K</td>\n",
       "      <td>2218</td>\n",
       "    </tr>\n",
       "    <tr>\n",
       "      <th>2</th>\n",
       "      <td>225713</td>\n",
       "      <td>J. Augustin</td>\n",
       "      <td>https://cdn.sofifa.net/players/225/713/22_60.png</td>\n",
       "      <td>France</td>\n",
       "      <td>65</td>\n",
       "      <td>68</td>\n",
       "      <td>FC Nantes</td>\n",
       "      <td>https://cdn.sofifa.net/teams/71/30.png</td>\n",
       "      <td>€1M</td>\n",
       "      <td>€6K</td>\n",
       "      <td>1593</td>\n",
       "    </tr>\n",
       "    <tr>\n",
       "      <th>3</th>\n",
       "      <td>255253</td>\n",
       "      <td>Vitinha</td>\n",
       "      <td>https://cdn.sofifa.net/players/255/253/22_60.png</td>\n",
       "      <td>Portugal</td>\n",
       "      <td>78</td>\n",
       "      <td>88</td>\n",
       "      <td>FC Porto</td>\n",
       "      <td>https://cdn.sofifa.net/teams/236/30.png</td>\n",
       "      <td>€31.5M</td>\n",
       "      <td>€12K</td>\n",
       "      <td>1999</td>\n",
       "    </tr>\n",
       "    <tr>\n",
       "      <th>4</th>\n",
       "      <td>256197</td>\n",
       "      <td>P. Hincapié</td>\n",
       "      <td>https://cdn.sofifa.net/players/256/197/22_60.png</td>\n",
       "      <td>Ecuador</td>\n",
       "      <td>76</td>\n",
       "      <td>84</td>\n",
       "      <td>Bayer 04 Leverkusen</td>\n",
       "      <td>https://cdn.sofifa.net/teams/32/30.png</td>\n",
       "      <td>€15M</td>\n",
       "      <td>€21K</td>\n",
       "      <td>1817</td>\n",
       "    </tr>\n",
       "  </tbody>\n",
       "</table>\n",
       "</div>"
      ],
      "text/plain": [
       "       ID            Name                                             Photo  \\\n",
       "0  215223      W. Benítez  https://cdn.sofifa.net/players/215/223/22_60.png   \n",
       "1  230767  Renato Sanches  https://cdn.sofifa.net/players/230/767/22_60.png   \n",
       "2  225713     J. Augustin  https://cdn.sofifa.net/players/225/713/22_60.png   \n",
       "3  255253         Vitinha  https://cdn.sofifa.net/players/255/253/22_60.png   \n",
       "4  256197     P. Hincapié  https://cdn.sofifa.net/players/256/197/22_60.png   \n",
       "\n",
       "  Nationality  Overall  Potential                 Club  \\\n",
       "0   Argentina       80         82             OGC Nice   \n",
       "1    Portugal       80         86           LOSC Lille   \n",
       "2      France       65         68            FC Nantes   \n",
       "3    Portugal       78         88             FC Porto   \n",
       "4     Ecuador       76         84  Bayer 04 Leverkusen   \n",
       "\n",
       "                                 Club Logo   Value  Wage  Special  \n",
       "0   https://cdn.sofifa.net/teams/72/30.png    €18M  €32K     1281  \n",
       "1   https://cdn.sofifa.net/teams/65/30.png    €33M  €38K     2218  \n",
       "2   https://cdn.sofifa.net/teams/71/30.png     €1M   €6K     1593  \n",
       "3  https://cdn.sofifa.net/teams/236/30.png  €31.5M  €12K     1999  \n",
       "4   https://cdn.sofifa.net/teams/32/30.png    €15M  €21K     1817  "
      ]
     },
     "execution_count": 6,
     "metadata": {},
     "output_type": "execute_result"
    }
   ],
   "source": [
    "df.head()"
   ]
  },
  {
   "cell_type": "code",
   "execution_count": 7,
   "id": "ccf3800a",
   "metadata": {},
   "outputs": [
    {
     "data": {
      "text/plain": [
       "(13500, 11)"
      ]
     },
     "execution_count": 7,
     "metadata": {},
     "output_type": "execute_result"
    }
   ],
   "source": [
    "df.shape"
   ]
  },
  {
   "cell_type": "code",
   "execution_count": 8,
   "id": "a8bd4605",
   "metadata": {},
   "outputs": [
    {
     "data": {
      "text/plain": [
       "148500"
      ]
     },
     "execution_count": 8,
     "metadata": {},
     "output_type": "execute_result"
    }
   ],
   "source": [
    "13500*11"
   ]
  },
  {
   "cell_type": "code",
   "execution_count": 9,
   "id": "c4ae8162",
   "metadata": {
    "scrolled": true
   },
   "outputs": [
    {
     "name": "stdout",
     "output_type": "stream",
     "text": [
      "England              1232\n",
      "Spain                 779\n",
      "Germany               736\n",
      "Argentina             670\n",
      "France                626\n",
      "                     ... \n",
      "Philippines             1\n",
      "Malawi                  1\n",
      "Libya                   1\n",
      "Brunei Darussalam       1\n",
      "Kazakhstan              1\n",
      "Name: Nationality, Length: 151, dtype: int64\n"
     ]
    }
   ],
   "source": [
    "print(df['Nationality'].value_counts())"
   ]
  },
  {
   "cell_type": "code",
   "execution_count": 10,
   "id": "b5a3b202",
   "metadata": {},
   "outputs": [],
   "source": [
    "df = df.drop(['Photo', 'Club Logo', 'Club', 'ID', 'Wage'], axis=1)"
   ]
  },
  {
   "cell_type": "markdown",
   "id": "80b65b5b",
   "metadata": {},
   "source": [
    "## Separate df by nationality"
   ]
  },
  {
   "cell_type": "code",
   "execution_count": 11,
   "id": "b5ea842d",
   "metadata": {},
   "outputs": [],
   "source": [
    "england = df[df[\"Nationality\"] == \"England\"]"
   ]
  },
  {
   "cell_type": "code",
   "execution_count": 12,
   "id": "6dad4494",
   "metadata": {},
   "outputs": [],
   "source": [
    "germany = df[df[\"Nationality\"] == \"Germany\"]"
   ]
  },
  {
   "cell_type": "code",
   "execution_count": 13,
   "id": "0a8f51a6",
   "metadata": {},
   "outputs": [],
   "source": [
    "spain = df[df[\"Nationality\"] == \"Spain\"]"
   ]
  },
  {
   "cell_type": "code",
   "execution_count": 14,
   "id": "a346c0c8",
   "metadata": {},
   "outputs": [],
   "source": [
    "france = df[df[\"Nationality\"] == \"France\"]"
   ]
  },
  {
   "cell_type": "code",
   "execution_count": 15,
   "id": "706ade0a",
   "metadata": {},
   "outputs": [],
   "source": [
    "argentina = df[df[\"Nationality\"] == \"Argentina\"]"
   ]
  },
  {
   "cell_type": "code",
   "execution_count": 16,
   "id": "f9cd216e",
   "metadata": {},
   "outputs": [],
   "source": [
    "brazil = df[df[\"Nationality\"] == \"Brazil\"]"
   ]
  },
  {
   "cell_type": "code",
   "execution_count": 17,
   "id": "4d39c4e6",
   "metadata": {},
   "outputs": [],
   "source": [
    "swiss = df[df[\"Nationality\"] == \"Switzerland\"]"
   ]
  },
  {
   "cell_type": "code",
   "execution_count": 18,
   "id": "0c5ea869",
   "metadata": {},
   "outputs": [],
   "source": [
    "usa = df[df[\"Nationality\"] == \"USA\"]"
   ]
  },
  {
   "cell_type": "code",
   "execution_count": 19,
   "id": "d4d2e424",
   "metadata": {},
   "outputs": [],
   "source": [
    "netherlands = df[df[\"Nationality\"] == \"Netherlands\"]"
   ]
  },
  {
   "cell_type": "code",
   "execution_count": 20,
   "id": "7f673800",
   "metadata": {},
   "outputs": [],
   "source": [
    "senegal = df[df[\"Nationality\"] == \"Senegal\"]"
   ]
  },
  {
   "cell_type": "code",
   "execution_count": 21,
   "id": "b19fa8b4",
   "metadata": {},
   "outputs": [],
   "source": [
    "ecuador = df[df[\"Nationality\"] == \"Ecuador\"]"
   ]
  },
  {
   "cell_type": "code",
   "execution_count": 22,
   "id": "0efcec0e",
   "metadata": {},
   "outputs": [],
   "source": [
    "wales = df[df[\"Nationality\"] == \"Wales\"]"
   ]
  },
  {
   "cell_type": "code",
   "execution_count": 23,
   "id": "88f6ddff",
   "metadata": {},
   "outputs": [],
   "source": [
    "iran = df[df[\"Nationality\"] == \"Iran\"]"
   ]
  },
  {
   "cell_type": "code",
   "execution_count": 24,
   "id": "e2149786",
   "metadata": {},
   "outputs": [],
   "source": [
    "poland = df[df[\"Nationality\"] == \"Poland\"]"
   ]
  },
  {
   "cell_type": "code",
   "execution_count": 25,
   "id": "89c74022",
   "metadata": {},
   "outputs": [],
   "source": [
    "mexico = df[df[\"Nationality\"] == \"Mexico\"]"
   ]
  },
  {
   "cell_type": "code",
   "execution_count": 26,
   "id": "219095e1",
   "metadata": {},
   "outputs": [],
   "source": [
    "saudi_arabia = df[df[\"Nationality\"] == \"Saudi Arabia\"]"
   ]
  },
  {
   "cell_type": "code",
   "execution_count": 27,
   "id": "40cc0463",
   "metadata": {},
   "outputs": [],
   "source": [
    "denmark = df[df[\"Nationality\"] == \"Denmark\"]"
   ]
  },
  {
   "cell_type": "code",
   "execution_count": 28,
   "id": "9b326e44",
   "metadata": {},
   "outputs": [],
   "source": [
    "tunisia = df[df[\"Nationality\"] == \"Tunisia\"]"
   ]
  },
  {
   "cell_type": "code",
   "execution_count": 29,
   "id": "3338f9bb",
   "metadata": {},
   "outputs": [],
   "source": [
    "australia = df[df[\"Nationality\"] == \"Australia\"]"
   ]
  },
  {
   "cell_type": "code",
   "execution_count": 30,
   "id": "b291df64",
   "metadata": {},
   "outputs": [],
   "source": [
    "japan = df[df[\"Nationality\"] == \"Japan\"]"
   ]
  },
  {
   "cell_type": "code",
   "execution_count": 31,
   "id": "04cbf483",
   "metadata": {},
   "outputs": [],
   "source": [
    "costa_rica = df[df[\"Nationality\"] == \"Costa Rica\"]"
   ]
  },
  {
   "cell_type": "code",
   "execution_count": 32,
   "id": "b961a10a",
   "metadata": {},
   "outputs": [],
   "source": [
    "belgium = df[df[\"Nationality\"] == \"Belgium\"]"
   ]
  },
  {
   "cell_type": "code",
   "execution_count": 33,
   "id": "400e02a7",
   "metadata": {},
   "outputs": [],
   "source": [
    "croatia = df[df[\"Nationality\"] == \"Croatia\"]"
   ]
  },
  {
   "cell_type": "code",
   "execution_count": 34,
   "id": "9ec4bed4",
   "metadata": {},
   "outputs": [],
   "source": [
    "canada = df[df[\"Nationality\"] == \"Canada\"]"
   ]
  },
  {
   "cell_type": "code",
   "execution_count": 35,
   "id": "9dbd5262",
   "metadata": {},
   "outputs": [],
   "source": [
    "morocco = df[df[\"Nationality\"] == \"Morocco\"]"
   ]
  },
  {
   "cell_type": "code",
   "execution_count": 36,
   "id": "211d099c",
   "metadata": {},
   "outputs": [],
   "source": [
    "serbia = df[df[\"Nationality\"] == \"Serbia\"]"
   ]
  },
  {
   "cell_type": "code",
   "execution_count": 37,
   "id": "ce0d62a7",
   "metadata": {},
   "outputs": [],
   "source": [
    "cameroon = df[df[\"Nationality\"] == \"Cameroon\"]"
   ]
  },
  {
   "cell_type": "code",
   "execution_count": 38,
   "id": "8aa70ba8",
   "metadata": {},
   "outputs": [],
   "source": [
    "portugal = df[df[\"Nationality\"] == \"Portugal\"]"
   ]
  },
  {
   "cell_type": "code",
   "execution_count": 39,
   "id": "23782a41",
   "metadata": {},
   "outputs": [],
   "source": [
    "uruguay = df[df[\"Nationality\"] == \"Uruguay\"]"
   ]
  },
  {
   "cell_type": "code",
   "execution_count": 40,
   "id": "d6564f5b",
   "metadata": {},
   "outputs": [],
   "source": [
    "ghana = df[df[\"Nationality\"] == \"Ghana\"]"
   ]
  },
  {
   "cell_type": "code",
   "execution_count": 41,
   "id": "63ed23f3",
   "metadata": {},
   "outputs": [],
   "source": [
    "korea_republic = df[df[\"Nationality\"] == \"Korea Republic\"]"
   ]
  },
  {
   "cell_type": "code",
   "execution_count": 42,
   "id": "db0ec589",
   "metadata": {},
   "outputs": [],
   "source": [
    "qatar = df[df[\"Nationality\"] == \"Qatar\"]"
   ]
  },
  {
   "cell_type": "markdown",
   "id": "efe78a52",
   "metadata": {},
   "source": [
    "## Separate into top 14 players overall by nationality"
   ]
  },
  {
   "cell_type": "code",
   "execution_count": 43,
   "id": "fa57301c",
   "metadata": {},
   "outputs": [],
   "source": [
    "portugal = portugal.sort_values(by=['Overall'], ascending=False)\n",
    "portugal = portugal.iloc[:14]"
   ]
  },
  {
   "cell_type": "code",
   "execution_count": 44,
   "id": "828207d5",
   "metadata": {},
   "outputs": [],
   "source": [
    "uruguay = uruguay.sort_values(by=['Overall'], ascending=False)\n",
    "uruguay = uruguay.iloc[:14]"
   ]
  },
  {
   "cell_type": "code",
   "execution_count": 45,
   "id": "18441e55",
   "metadata": {},
   "outputs": [],
   "source": [
    "ghana = ghana.sort_values(by=['Overall'], ascending=False)\n",
    "ghana = ghana.iloc[:14]"
   ]
  },
  {
   "cell_type": "code",
   "execution_count": 46,
   "id": "266dd545",
   "metadata": {},
   "outputs": [],
   "source": [
    "korea_republic = korea_republic.sort_values(by=['Overall'], ascending=False)\n",
    "korea_republic = korea_republic.iloc[:14]"
   ]
  },
  {
   "cell_type": "code",
   "execution_count": 47,
   "id": "a730249c",
   "metadata": {},
   "outputs": [],
   "source": [
    "qatar = qatar.sort_values(by=['Overall'], ascending=False)\n",
    "qatar = qatar.iloc[:14]"
   ]
  },
  {
   "cell_type": "code",
   "execution_count": 48,
   "id": "d91b5374",
   "metadata": {},
   "outputs": [],
   "source": [
    "japan = japan.sort_values(by=['Overall'], ascending=False)\n",
    "japan = japan.iloc[:14]"
   ]
  },
  {
   "cell_type": "code",
   "execution_count": 49,
   "id": "9724d266",
   "metadata": {},
   "outputs": [],
   "source": [
    "costa_rica = costa_rica.sort_values(by=['Overall'], ascending=False)\n",
    "costa_rica = costa_rica.iloc[:14]"
   ]
  },
  {
   "cell_type": "code",
   "execution_count": 50,
   "id": "92d9cb5c",
   "metadata": {},
   "outputs": [],
   "source": [
    "belgium = belgium.sort_values(by=['Overall'], ascending=False)\n",
    "belgium = belgium.iloc[:14]"
   ]
  },
  {
   "cell_type": "code",
   "execution_count": 51,
   "id": "fef03c86",
   "metadata": {},
   "outputs": [],
   "source": [
    "croatia = croatia.sort_values(by=['Overall'], ascending=False)\n",
    "croatia = croatia.iloc[:14]"
   ]
  },
  {
   "cell_type": "code",
   "execution_count": 52,
   "id": "563492ad",
   "metadata": {},
   "outputs": [],
   "source": [
    "canada = canada.sort_values(by=['Overall'], ascending=False)\n",
    "canada = canada.iloc[:14]"
   ]
  },
  {
   "cell_type": "code",
   "execution_count": 53,
   "id": "9d269a68",
   "metadata": {},
   "outputs": [],
   "source": [
    "morocco = morocco.sort_values(by=['Overall'], ascending=False)\n",
    "morocco = morocco.iloc[:14]"
   ]
  },
  {
   "cell_type": "code",
   "execution_count": 54,
   "id": "45c3738c",
   "metadata": {},
   "outputs": [],
   "source": [
    "cameroon = cameroon.sort_values(by=['Overall'], ascending=False)\n",
    "cameroon = cameroon.iloc[:14]"
   ]
  },
  {
   "cell_type": "code",
   "execution_count": 55,
   "id": "aab41688",
   "metadata": {},
   "outputs": [],
   "source": [
    "england = england.sort_values(by=['Overall'], ascending=False)\n",
    "england = england.iloc[:14]"
   ]
  },
  {
   "cell_type": "code",
   "execution_count": 56,
   "id": "4189dbde",
   "metadata": {},
   "outputs": [],
   "source": [
    "serbia = serbia.sort_values(by=['Overall'], ascending=False)\n",
    "serbia = serbia.iloc[:14]"
   ]
  },
  {
   "cell_type": "code",
   "execution_count": 57,
   "id": "f955b3a5",
   "metadata": {},
   "outputs": [],
   "source": [
    "germany = germany.sort_values(by=['Overall'], ascending=False)\n",
    "germany = germany.iloc[:14]"
   ]
  },
  {
   "cell_type": "code",
   "execution_count": 58,
   "id": "7a4e9df2",
   "metadata": {},
   "outputs": [],
   "source": [
    "spain = spain.sort_values(by=['Overall'], ascending=False)\n",
    "spain = spain.iloc[:14]"
   ]
  },
  {
   "cell_type": "code",
   "execution_count": 59,
   "id": "cc81c786",
   "metadata": {},
   "outputs": [],
   "source": [
    "france = france.sort_values(by=['Overall'], ascending=False)\n",
    "france = france.iloc[:14]"
   ]
  },
  {
   "cell_type": "code",
   "execution_count": 60,
   "id": "5d97bccb",
   "metadata": {},
   "outputs": [],
   "source": [
    "argentina = argentina.sort_values(by=['Overall'], ascending=False)\n",
    "argentina = argentina.iloc[:14]"
   ]
  },
  {
   "cell_type": "code",
   "execution_count": 61,
   "id": "bd390bd9",
   "metadata": {},
   "outputs": [],
   "source": [
    "brazil = brazil.sort_values(by=['Overall'], ascending=False)\n",
    "brazil = brazil.iloc[:14]"
   ]
  },
  {
   "cell_type": "code",
   "execution_count": 62,
   "id": "c4e8602e",
   "metadata": {},
   "outputs": [],
   "source": [
    "swiss = swiss.sort_values(by=['Overall'], ascending=False)\n",
    "swiss = swiss.iloc[:14]"
   ]
  },
  {
   "cell_type": "code",
   "execution_count": 63,
   "id": "55af48f9",
   "metadata": {},
   "outputs": [],
   "source": [
    "usa = usa.sort_values(by=['Overall'], ascending=False)\n",
    "usa = usa.iloc[:14]"
   ]
  },
  {
   "cell_type": "code",
   "execution_count": 64,
   "id": "4e9bdebb",
   "metadata": {},
   "outputs": [],
   "source": [
    "netherlands = netherlands.sort_values(by=['Overall'], ascending=False)\n",
    "netherlands = netherlands.iloc[:14]"
   ]
  },
  {
   "cell_type": "code",
   "execution_count": 65,
   "id": "e8c9e6cf",
   "metadata": {},
   "outputs": [],
   "source": [
    "senegal = senegal.sort_values(by=['Overall'], ascending=False)\n",
    "senegal = senegal.iloc[:14]"
   ]
  },
  {
   "cell_type": "code",
   "execution_count": 66,
   "id": "8415a299",
   "metadata": {},
   "outputs": [],
   "source": [
    "ecuador = ecuador.sort_values(by=['Overall'], ascending=False)\n",
    "ecuador = ecuador.iloc[:14]"
   ]
  },
  {
   "cell_type": "code",
   "execution_count": 67,
   "id": "3e352323",
   "metadata": {},
   "outputs": [],
   "source": [
    "wales = wales.sort_values(by=['Overall'], ascending=False)\n",
    "wales = wales.iloc[:14]"
   ]
  },
  {
   "cell_type": "code",
   "execution_count": 68,
   "id": "6664c0a2",
   "metadata": {},
   "outputs": [],
   "source": [
    "iran = iran.sort_values(by=['Overall'], ascending=False)\n",
    "iran = iran.iloc[:14]"
   ]
  },
  {
   "cell_type": "code",
   "execution_count": 69,
   "id": "11e98859",
   "metadata": {},
   "outputs": [],
   "source": [
    "poland = poland.sort_values(by=['Overall'], ascending=False)\n",
    "poland = poland.iloc[:14]"
   ]
  },
  {
   "cell_type": "code",
   "execution_count": 70,
   "id": "442f9186",
   "metadata": {},
   "outputs": [],
   "source": [
    "mexico = mexico.sort_values(by=['Overall'], ascending=False)\n",
    "mexico = mexico.iloc[:14]"
   ]
  },
  {
   "cell_type": "code",
   "execution_count": 71,
   "id": "ca8d77cf",
   "metadata": {},
   "outputs": [],
   "source": [
    "saudi_arabia = saudi_arabia.sort_values(by=['Overall'], ascending=False)\n",
    "saudi_arabia = saudi_arabia.iloc[:14]"
   ]
  },
  {
   "cell_type": "code",
   "execution_count": 72,
   "id": "2a80e136",
   "metadata": {},
   "outputs": [],
   "source": [
    "denmark = denmark.sort_values(by=['Overall'], ascending=False)\n",
    "denmark = denmark.iloc[:14]"
   ]
  },
  {
   "cell_type": "code",
   "execution_count": 73,
   "id": "1c8c1106",
   "metadata": {},
   "outputs": [],
   "source": [
    "tunisia = tunisia.sort_values(by=['Overall'], ascending=False)\n",
    "tunisia = tunisia.iloc[:14]"
   ]
  },
  {
   "cell_type": "code",
   "execution_count": 74,
   "id": "06ff1d4d",
   "metadata": {},
   "outputs": [],
   "source": [
    "australia = australia.sort_values(by=['Overall'], ascending=False)\n",
    "australia = australia.iloc[:14]"
   ]
  },
  {
   "cell_type": "code",
   "execution_count": null,
   "id": "f442e00a",
   "metadata": {},
   "outputs": [],
   "source": []
  },
  {
   "cell_type": "code",
   "execution_count": 75,
   "id": "767e5c5e",
   "metadata": {},
   "outputs": [
    {
     "data": {
      "text/html": [
       "<div>\n",
       "<style scoped>\n",
       "    .dataframe tbody tr th:only-of-type {\n",
       "        vertical-align: middle;\n",
       "    }\n",
       "\n",
       "    .dataframe tbody tr th {\n",
       "        vertical-align: top;\n",
       "    }\n",
       "\n",
       "    .dataframe thead th {\n",
       "        text-align: right;\n",
       "    }\n",
       "</style>\n",
       "<table border=\"1\" class=\"dataframe\">\n",
       "  <thead>\n",
       "    <tr style=\"text-align: right;\">\n",
       "      <th></th>\n",
       "      <th>Name</th>\n",
       "      <th>Nationality</th>\n",
       "      <th>Overall</th>\n",
       "      <th>Potential</th>\n",
       "      <th>Value</th>\n",
       "      <th>Special</th>\n",
       "    </tr>\n",
       "  </thead>\n",
       "  <tbody>\n",
       "    <tr>\n",
       "      <th>2718</th>\n",
       "      <td>S. Al Dawsari</td>\n",
       "      <td>Saudi Arabia</td>\n",
       "      <td>76</td>\n",
       "      <td>76</td>\n",
       "      <td>€7.5M</td>\n",
       "      <td>1986</td>\n",
       "    </tr>\n",
       "    <tr>\n",
       "      <th>5292</th>\n",
       "      <td>S. Al Faraj</td>\n",
       "      <td>Saudi Arabia</td>\n",
       "      <td>75</td>\n",
       "      <td>75</td>\n",
       "      <td>€4.6M</td>\n",
       "      <td>2009</td>\n",
       "    </tr>\n",
       "    <tr>\n",
       "      <th>1406</th>\n",
       "      <td>Y. Al Shahrani</td>\n",
       "      <td>Saudi Arabia</td>\n",
       "      <td>73</td>\n",
       "      <td>73</td>\n",
       "      <td>€2.7M</td>\n",
       "      <td>1936</td>\n",
       "    </tr>\n",
       "    <tr>\n",
       "      <th>4260</th>\n",
       "      <td>S. Al Ghannam</td>\n",
       "      <td>Saudi Arabia</td>\n",
       "      <td>72</td>\n",
       "      <td>72</td>\n",
       "      <td>€2.3M</td>\n",
       "      <td>1919</td>\n",
       "    </tr>\n",
       "    <tr>\n",
       "      <th>4951</th>\n",
       "      <td>A. Al Mayoof</td>\n",
       "      <td>Saudi Arabia</td>\n",
       "      <td>70</td>\n",
       "      <td>70</td>\n",
       "      <td>€275K</td>\n",
       "      <td>1245</td>\n",
       "    </tr>\n",
       "    <tr>\n",
       "      <th>4972</th>\n",
       "      <td>M. Al Owais</td>\n",
       "      <td>Saudi Arabia</td>\n",
       "      <td>69</td>\n",
       "      <td>69</td>\n",
       "      <td>€950K</td>\n",
       "      <td>1167</td>\n",
       "    </tr>\n",
       "    <tr>\n",
       "      <th>10819</th>\n",
       "      <td>M. Al Harbi</td>\n",
       "      <td>Saudi Arabia</td>\n",
       "      <td>63</td>\n",
       "      <td>72</td>\n",
       "      <td>€1M</td>\n",
       "      <td>1664</td>\n",
       "    </tr>\n",
       "    <tr>\n",
       "      <th>3480</th>\n",
       "      <td>N. Boushal</td>\n",
       "      <td>Saudi Arabia</td>\n",
       "      <td>63</td>\n",
       "      <td>74</td>\n",
       "      <td>€1M</td>\n",
       "      <td>1614</td>\n",
       "    </tr>\n",
       "    <tr>\n",
       "      <th>4653</th>\n",
       "      <td>K. Al Kaabi</td>\n",
       "      <td>Saudi Arabia</td>\n",
       "      <td>63</td>\n",
       "      <td>63</td>\n",
       "      <td>€475K</td>\n",
       "      <td>1543</td>\n",
       "    </tr>\n",
       "    <tr>\n",
       "      <th>13162</th>\n",
       "      <td>K. Al Khathlan</td>\n",
       "      <td>Saudi Arabia</td>\n",
       "      <td>63</td>\n",
       "      <td>65</td>\n",
       "      <td>€550K</td>\n",
       "      <td>1520</td>\n",
       "    </tr>\n",
       "    <tr>\n",
       "      <th>4878</th>\n",
       "      <td>A. Al Jadaani</td>\n",
       "      <td>Saudi Arabia</td>\n",
       "      <td>62</td>\n",
       "      <td>62</td>\n",
       "      <td>€275K</td>\n",
       "      <td>1154</td>\n",
       "    </tr>\n",
       "    <tr>\n",
       "      <th>9700</th>\n",
       "      <td>I. Omar</td>\n",
       "      <td>Saudi Arabia</td>\n",
       "      <td>61</td>\n",
       "      <td>61</td>\n",
       "      <td>€325K</td>\n",
       "      <td>1574</td>\n",
       "    </tr>\n",
       "    <tr>\n",
       "      <th>8096</th>\n",
       "      <td>F. Al Azmi</td>\n",
       "      <td>Saudi Arabia</td>\n",
       "      <td>61</td>\n",
       "      <td>62</td>\n",
       "      <td>€350K</td>\n",
       "      <td>1591</td>\n",
       "    </tr>\n",
       "    <tr>\n",
       "      <th>12730</th>\n",
       "      <td>M. Al Dawsari</td>\n",
       "      <td>Saudi Arabia</td>\n",
       "      <td>61</td>\n",
       "      <td>71</td>\n",
       "      <td>€700K</td>\n",
       "      <td>1529</td>\n",
       "    </tr>\n",
       "  </tbody>\n",
       "</table>\n",
       "</div>"
      ],
      "text/plain": [
       "                 Name   Nationality  Overall  Potential  Value  Special\n",
       "2718    S. Al Dawsari  Saudi Arabia       76         76  €7.5M     1986\n",
       "5292      S. Al Faraj  Saudi Arabia       75         75  €4.6M     2009\n",
       "1406   Y. Al Shahrani  Saudi Arabia       73         73  €2.7M     1936\n",
       "4260    S. Al Ghannam  Saudi Arabia       72         72  €2.3M     1919\n",
       "4951     A. Al Mayoof  Saudi Arabia       70         70  €275K     1245\n",
       "4972      M. Al Owais  Saudi Arabia       69         69  €950K     1167\n",
       "10819     M. Al Harbi  Saudi Arabia       63         72    €1M     1664\n",
       "3480       N. Boushal  Saudi Arabia       63         74    €1M     1614\n",
       "4653      K. Al Kaabi  Saudi Arabia       63         63  €475K     1543\n",
       "13162  K. Al Khathlan  Saudi Arabia       63         65  €550K     1520\n",
       "4878    A. Al Jadaani  Saudi Arabia       62         62  €275K     1154\n",
       "9700          I. Omar  Saudi Arabia       61         61  €325K     1574\n",
       "8096       F. Al Azmi  Saudi Arabia       61         62  €350K     1591\n",
       "12730   M. Al Dawsari  Saudi Arabia       61         71  €700K     1529"
      ]
     },
     "execution_count": 75,
     "metadata": {},
     "output_type": "execute_result"
    }
   ],
   "source": [
    "saudi_arabia"
   ]
  },
  {
   "cell_type": "code",
   "execution_count": 76,
   "id": "3363762c",
   "metadata": {},
   "outputs": [],
   "source": [
    "teams = [netherlands, senegal, ecuador, england, usa, wales, iran, \n",
    "         argentina, poland, mexico, saudi_arabia, france, denmark, tunisia, \n",
    "         australia, germany, spain, japan, costa_rica, belgium, croatia, \n",
    "         canada, morocco, brazil, swiss, serbia, cameroon, portugal, \n",
    "         uruguay, ghana, korea_republic, qatar]\n"
   ]
  },
  {
   "cell_type": "code",
   "execution_count": 77,
   "id": "bc221237",
   "metadata": {},
   "outputs": [],
   "source": [
    "wc_teams = pd.concat(teams)"
   ]
  },
  {
   "cell_type": "code",
   "execution_count": 78,
   "id": "27f722f1",
   "metadata": {},
   "outputs": [
    {
     "data": {
      "text/html": [
       "<div>\n",
       "<style scoped>\n",
       "    .dataframe tbody tr th:only-of-type {\n",
       "        vertical-align: middle;\n",
       "    }\n",
       "\n",
       "    .dataframe tbody tr th {\n",
       "        vertical-align: top;\n",
       "    }\n",
       "\n",
       "    .dataframe thead th {\n",
       "        text-align: right;\n",
       "    }\n",
       "</style>\n",
       "<table border=\"1\" class=\"dataframe\">\n",
       "  <thead>\n",
       "    <tr style=\"text-align: right;\">\n",
       "      <th></th>\n",
       "      <th>Name</th>\n",
       "      <th>Nationality</th>\n",
       "      <th>Overall</th>\n",
       "      <th>Potential</th>\n",
       "      <th>Value</th>\n",
       "      <th>Special</th>\n",
       "    </tr>\n",
       "  </thead>\n",
       "  <tbody>\n",
       "    <tr>\n",
       "      <th>143</th>\n",
       "      <td>V. van Dijk</td>\n",
       "      <td>Netherlands</td>\n",
       "      <td>90</td>\n",
       "      <td>90</td>\n",
       "      <td>€100M</td>\n",
       "      <td>2118</td>\n",
       "    </tr>\n",
       "    <tr>\n",
       "      <th>53</th>\n",
       "      <td>F. de Jong</td>\n",
       "      <td>Netherlands</td>\n",
       "      <td>87</td>\n",
       "      <td>92</td>\n",
       "      <td>€119.5M</td>\n",
       "      <td>2234</td>\n",
       "    </tr>\n",
       "    <tr>\n",
       "      <th>368</th>\n",
       "      <td>M. Depay</td>\n",
       "      <td>Netherlands</td>\n",
       "      <td>85</td>\n",
       "      <td>85</td>\n",
       "      <td>€58.5M</td>\n",
       "      <td>2088</td>\n",
       "    </tr>\n",
       "    <tr>\n",
       "      <th>96</th>\n",
       "      <td>M. de Ligt</td>\n",
       "      <td>Netherlands</td>\n",
       "      <td>85</td>\n",
       "      <td>89</td>\n",
       "      <td>€71M</td>\n",
       "      <td>1984</td>\n",
       "    </tr>\n",
       "    <tr>\n",
       "      <th>5489</th>\n",
       "      <td>09 M. van der Poel</td>\n",
       "      <td>Netherlands</td>\n",
       "      <td>85</td>\n",
       "      <td>92</td>\n",
       "      <td>€0</td>\n",
       "      <td>1720</td>\n",
       "    </tr>\n",
       "    <tr>\n",
       "      <th>...</th>\n",
       "      <td>...</td>\n",
       "      <td>...</td>\n",
       "      <td>...</td>\n",
       "      <td>...</td>\n",
       "      <td>...</td>\n",
       "      <td>...</td>\n",
       "    </tr>\n",
       "    <tr>\n",
       "      <th>5626</th>\n",
       "      <td>Lee Chung Yong</td>\n",
       "      <td>Korea Republic</td>\n",
       "      <td>71</td>\n",
       "      <td>71</td>\n",
       "      <td>€1.5M</td>\n",
       "      <td>1831</td>\n",
       "    </tr>\n",
       "    <tr>\n",
       "      <th>1603</th>\n",
       "      <td>Won Du Jae</td>\n",
       "      <td>Korea Republic</td>\n",
       "      <td>70</td>\n",
       "      <td>74</td>\n",
       "      <td>€2.1M</td>\n",
       "      <td>1683</td>\n",
       "    </tr>\n",
       "    <tr>\n",
       "      <th>3924</th>\n",
       "      <td>Lee Dong Jun</td>\n",
       "      <td>Korea Republic</td>\n",
       "      <td>70</td>\n",
       "      <td>73</td>\n",
       "      <td>€2.2M</td>\n",
       "      <td>1758</td>\n",
       "    </tr>\n",
       "    <tr>\n",
       "      <th>4125</th>\n",
       "      <td>Jeong Tae Wook</td>\n",
       "      <td>Korea Republic</td>\n",
       "      <td>69</td>\n",
       "      <td>76</td>\n",
       "      <td>€2.6M</td>\n",
       "      <td>1466</td>\n",
       "    </tr>\n",
       "    <tr>\n",
       "      <th>4690</th>\n",
       "      <td>Kim Min Woo</td>\n",
       "      <td>Korea Republic</td>\n",
       "      <td>69</td>\n",
       "      <td>69</td>\n",
       "      <td>€1.1M</td>\n",
       "      <td>1931</td>\n",
       "    </tr>\n",
       "  </tbody>\n",
       "</table>\n",
       "<p>412 rows × 6 columns</p>\n",
       "</div>"
      ],
      "text/plain": [
       "                    Name     Nationality  Overall  Potential    Value  Special\n",
       "143          V. van Dijk     Netherlands       90         90    €100M     2118\n",
       "53            F. de Jong     Netherlands       87         92  €119.5M     2234\n",
       "368             M. Depay     Netherlands       85         85   €58.5M     2088\n",
       "96            M. de Ligt     Netherlands       85         89     €71M     1984\n",
       "5489  09 M. van der Poel     Netherlands       85         92       €0     1720\n",
       "...                  ...             ...      ...        ...      ...      ...\n",
       "5626      Lee Chung Yong  Korea Republic       71         71    €1.5M     1831\n",
       "1603          Won Du Jae  Korea Republic       70         74    €2.1M     1683\n",
       "3924        Lee Dong Jun  Korea Republic       70         73    €2.2M     1758\n",
       "4125      Jeong Tae Wook  Korea Republic       69         76    €2.6M     1466\n",
       "4690         Kim Min Woo  Korea Republic       69         69    €1.1M     1931\n",
       "\n",
       "[412 rows x 6 columns]"
      ]
     },
     "execution_count": 78,
     "metadata": {},
     "output_type": "execute_result"
    }
   ],
   "source": [
    "wc_teams"
   ]
  },
  {
   "cell_type": "code",
   "execution_count": null,
   "id": "851bcdc1",
   "metadata": {},
   "outputs": [],
   "source": []
  },
  {
   "cell_type": "code",
   "execution_count": 79,
   "id": "d5419eab",
   "metadata": {
    "scrolled": true
   },
   "outputs": [
    {
     "ename": "NameError",
     "evalue": "name 'wc' is not defined",
     "output_type": "error",
     "traceback": [
      "\u001b[0;31m---------------------------------------------------------------------------\u001b[0m",
      "\u001b[0;31mNameError\u001b[0m                                 Traceback (most recent call last)",
      "Input \u001b[0;32mIn [79]\u001b[0m, in \u001b[0;36m<cell line: 1>\u001b[0;34m()\u001b[0m\n\u001b[0;32m----> 1\u001b[0m \u001b[43mwc\u001b[49m\n",
      "\u001b[0;31mNameError\u001b[0m: name 'wc' is not defined"
     ]
    }
   ],
   "source": [
    "wc"
   ]
  },
  {
   "cell_type": "code",
   "execution_count": null,
   "id": "02b3f810",
   "metadata": {},
   "outputs": [],
   "source": [
    "32*23\n",
    "# 32 teams x 23 players"
   ]
  },
  {
   "cell_type": "code",
   "execution_count": null,
   "id": "df3bc71f",
   "metadata": {
    "scrolled": true
   },
   "outputs": [],
   "source": [
    "teams2022 = wc['Nationality']"
   ]
  },
  {
   "cell_type": "code",
   "execution_count": null,
   "id": "4fb7c698",
   "metadata": {},
   "outputs": [],
   "source": [
    "teams2022"
   ]
  },
  {
   "cell_type": "markdown",
   "id": "c888c4fe",
   "metadata": {},
   "source": [
    "Teams:\n",
    "* Group A:\n",
    "    - Qatar\n",
    "    - Netherlands\n",
    "    - Senegal\n",
    "    - Ecuador\n",
    "    \n",
    "* Group B:\n",
    "    - England\n",
    "    - USA\n",
    "    - Wales\n",
    "    - Iran\n",
    "    \n",
    "* Group C:\n",
    "    - Argentina\n",
    "    - Poland\n",
    "    - Mexico\n",
    "    - Saudi Arabia\n",
    "    \n",
    "* Group D:\n",
    "    - France\n",
    "    - Denmark\n",
    "    - Tunisia\n",
    "    - Australia\n",
    "    \n",
    "* Group E:\n",
    "    - Germany\n",
    "    - Spain\n",
    "    - Canada\n",
    "    - Morocco\n",
    "    \n",
    "* Group F:\n",
    "    - Belgium\n",
    "    - Croatia\n",
    "    - Canada\n",
    "    - Morocoo\n",
    "    \n",
    "* Group G\n",
    "    - Brazil\n",
    "    - Switzerland\n",
    "    - Serbia\n",
    "    - Cameroon\n",
    "    \n",
    "* Group H:\n",
    "    - Portugal\n",
    "    - Uruguay\n",
    "    - Ghana\n",
    "    - Korea Republic"
   ]
  },
  {
   "cell_type": "code",
   "execution_count": null,
   "id": "4733434d",
   "metadata": {},
   "outputs": [],
   "source": []
  }
 ],
 "metadata": {
  "kernelspec": {
   "display_name": "Python 3 (ipykernel)",
   "language": "python",
   "name": "python3"
  },
  "language_info": {
   "codemirror_mode": {
    "name": "ipython",
    "version": 3
   },
   "file_extension": ".py",
   "mimetype": "text/x-python",
   "name": "python",
   "nbconvert_exporter": "python",
   "pygments_lexer": "ipython3",
   "version": "3.9.12"
  }
 },
 "nbformat": 4,
 "nbformat_minor": 5
}
