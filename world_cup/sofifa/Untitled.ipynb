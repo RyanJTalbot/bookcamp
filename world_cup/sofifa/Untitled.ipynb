{
 "cells": [
  {
   "cell_type": "code",
   "execution_count": 1,
   "id": "24d88d56",
   "metadata": {},
   "outputs": [],
   "source": [
    "import pandas as pd"
   ]
  },
  {
   "cell_type": "code",
   "execution_count": 18,
   "id": "7294472e",
   "metadata": {},
   "outputs": [],
   "source": [
    "# player_data = pd.read_csv('basicplayerdata.csv')\n",
    "player_data = pd.read_csv('work.csv')"
   ]
  },
  {
   "cell_type": "code",
   "execution_count": 19,
   "id": "9deab327",
   "metadata": {},
   "outputs": [
    {
     "data": {
      "text/html": [
       "<div>\n",
       "<style scoped>\n",
       "    .dataframe tbody tr th:only-of-type {\n",
       "        vertical-align: middle;\n",
       "    }\n",
       "\n",
       "    .dataframe tbody tr th {\n",
       "        vertical-align: top;\n",
       "    }\n",
       "\n",
       "    .dataframe thead th {\n",
       "        text-align: right;\n",
       "    }\n",
       "</style>\n",
       "<table border=\"1\" class=\"dataframe\">\n",
       "  <thead>\n",
       "    <tr style=\"text-align: right;\">\n",
       "      <th></th>\n",
       "      <th>ID</th>\n",
       "      <th>Name</th>\n",
       "      <th>Photo</th>\n",
       "      <th>Nationality</th>\n",
       "      <th>Flag</th>\n",
       "      <th>Overall</th>\n",
       "      <th>Potential</th>\n",
       "      <th>Club</th>\n",
       "      <th>Club Logo</th>\n",
       "      <th>Value</th>\n",
       "      <th>Wage</th>\n",
       "      <th>Special</th>\n",
       "    </tr>\n",
       "  </thead>\n",
       "  <tbody>\n",
       "    <tr>\n",
       "      <th>0</th>\n",
       "      <td>215223</td>\n",
       "      <td>W. Benítez</td>\n",
       "      <td>https://cdn.sofifa.net/players/215/223/22_60.png</td>\n",
       "      <td>NaN</td>\n",
       "      <td>Argentina</td>\n",
       "      <td>80</td>\n",
       "      <td>82</td>\n",
       "      <td>OGC Nice</td>\n",
       "      <td>https://cdn.sofifa.net/teams/72/30.png</td>\n",
       "      <td>€18M</td>\n",
       "      <td>€32K</td>\n",
       "      <td>1281</td>\n",
       "    </tr>\n",
       "    <tr>\n",
       "      <th>1</th>\n",
       "      <td>230767</td>\n",
       "      <td>Renato Sanches</td>\n",
       "      <td>https://cdn.sofifa.net/players/230/767/22_60.png</td>\n",
       "      <td>NaN</td>\n",
       "      <td>Portugal</td>\n",
       "      <td>80</td>\n",
       "      <td>86</td>\n",
       "      <td>LOSC Lille</td>\n",
       "      <td>https://cdn.sofifa.net/teams/65/30.png</td>\n",
       "      <td>€33M</td>\n",
       "      <td>€38K</td>\n",
       "      <td>2218</td>\n",
       "    </tr>\n",
       "    <tr>\n",
       "      <th>2</th>\n",
       "      <td>225713</td>\n",
       "      <td>J. Augustin</td>\n",
       "      <td>https://cdn.sofifa.net/players/225/713/22_60.png</td>\n",
       "      <td>NaN</td>\n",
       "      <td>France</td>\n",
       "      <td>65</td>\n",
       "      <td>68</td>\n",
       "      <td>FC Nantes</td>\n",
       "      <td>https://cdn.sofifa.net/teams/71/30.png</td>\n",
       "      <td>€1M</td>\n",
       "      <td>€6K</td>\n",
       "      <td>1593</td>\n",
       "    </tr>\n",
       "    <tr>\n",
       "      <th>3</th>\n",
       "      <td>255253</td>\n",
       "      <td>Vitinha</td>\n",
       "      <td>https://cdn.sofifa.net/players/255/253/22_60.png</td>\n",
       "      <td>NaN</td>\n",
       "      <td>Portugal</td>\n",
       "      <td>78</td>\n",
       "      <td>88</td>\n",
       "      <td>FC Porto</td>\n",
       "      <td>https://cdn.sofifa.net/teams/236/30.png</td>\n",
       "      <td>€31.5M</td>\n",
       "      <td>€12K</td>\n",
       "      <td>1999</td>\n",
       "    </tr>\n",
       "    <tr>\n",
       "      <th>4</th>\n",
       "      <td>256197</td>\n",
       "      <td>P. Hincapié</td>\n",
       "      <td>https://cdn.sofifa.net/players/256/197/22_60.png</td>\n",
       "      <td>NaN</td>\n",
       "      <td>Ecuador</td>\n",
       "      <td>76</td>\n",
       "      <td>84</td>\n",
       "      <td>Bayer 04 Leverkusen</td>\n",
       "      <td>https://cdn.sofifa.net/teams/32/30.png</td>\n",
       "      <td>€15M</td>\n",
       "      <td>€21K</td>\n",
       "      <td>1817</td>\n",
       "    </tr>\n",
       "  </tbody>\n",
       "</table>\n",
       "</div>"
      ],
      "text/plain": [
       "       ID            Name                                             Photo  \\\n",
       "0  215223      W. Benítez  https://cdn.sofifa.net/players/215/223/22_60.png   \n",
       "1  230767  Renato Sanches  https://cdn.sofifa.net/players/230/767/22_60.png   \n",
       "2  225713     J. Augustin  https://cdn.sofifa.net/players/225/713/22_60.png   \n",
       "3  255253         Vitinha  https://cdn.sofifa.net/players/255/253/22_60.png   \n",
       "4  256197     P. Hincapié  https://cdn.sofifa.net/players/256/197/22_60.png   \n",
       "\n",
       "   Nationality       Flag  Overall  Potential                 Club  \\\n",
       "0          NaN  Argentina       80         82             OGC Nice   \n",
       "1          NaN   Portugal       80         86           LOSC Lille   \n",
       "2          NaN     France       65         68            FC Nantes   \n",
       "3          NaN   Portugal       78         88             FC Porto   \n",
       "4          NaN    Ecuador       76         84  Bayer 04 Leverkusen   \n",
       "\n",
       "                                 Club Logo   Value  Wage  Special  \n",
       "0   https://cdn.sofifa.net/teams/72/30.png    €18M  €32K     1281  \n",
       "1   https://cdn.sofifa.net/teams/65/30.png    €33M  €38K     2218  \n",
       "2   https://cdn.sofifa.net/teams/71/30.png     €1M   €6K     1593  \n",
       "3  https://cdn.sofifa.net/teams/236/30.png  €31.5M  €12K     1999  \n",
       "4   https://cdn.sofifa.net/teams/32/30.png    €15M  €21K     1817  "
      ]
     },
     "execution_count": 19,
     "metadata": {},
     "output_type": "execute_result"
    }
   ],
   "source": [
    "player_data.head()"
   ]
  },
  {
   "cell_type": "code",
   "execution_count": 20,
   "id": "f6e089cf",
   "metadata": {},
   "outputs": [],
   "source": [
    "player_data.drop(['Nationality'], axis=1, inplace=True)"
   ]
  },
  {
   "cell_type": "code",
   "execution_count": 21,
   "id": "a31770c3",
   "metadata": {},
   "outputs": [],
   "source": [
    "df = player_data.rename(columns={'Flag': 'Nationality'})"
   ]
  },
  {
   "cell_type": "code",
   "execution_count": 22,
   "id": "aba5f544",
   "metadata": {},
   "outputs": [
    {
     "data": {
      "text/html": [
       "<div>\n",
       "<style scoped>\n",
       "    .dataframe tbody tr th:only-of-type {\n",
       "        vertical-align: middle;\n",
       "    }\n",
       "\n",
       "    .dataframe tbody tr th {\n",
       "        vertical-align: top;\n",
       "    }\n",
       "\n",
       "    .dataframe thead th {\n",
       "        text-align: right;\n",
       "    }\n",
       "</style>\n",
       "<table border=\"1\" class=\"dataframe\">\n",
       "  <thead>\n",
       "    <tr style=\"text-align: right;\">\n",
       "      <th></th>\n",
       "      <th>ID</th>\n",
       "      <th>Name</th>\n",
       "      <th>Photo</th>\n",
       "      <th>Nationality</th>\n",
       "      <th>Overall</th>\n",
       "      <th>Potential</th>\n",
       "      <th>Club</th>\n",
       "      <th>Club Logo</th>\n",
       "      <th>Value</th>\n",
       "      <th>Wage</th>\n",
       "      <th>Special</th>\n",
       "    </tr>\n",
       "  </thead>\n",
       "  <tbody>\n",
       "    <tr>\n",
       "      <th>0</th>\n",
       "      <td>215223</td>\n",
       "      <td>W. Benítez</td>\n",
       "      <td>https://cdn.sofifa.net/players/215/223/22_60.png</td>\n",
       "      <td>Argentina</td>\n",
       "      <td>80</td>\n",
       "      <td>82</td>\n",
       "      <td>OGC Nice</td>\n",
       "      <td>https://cdn.sofifa.net/teams/72/30.png</td>\n",
       "      <td>€18M</td>\n",
       "      <td>€32K</td>\n",
       "      <td>1281</td>\n",
       "    </tr>\n",
       "    <tr>\n",
       "      <th>1</th>\n",
       "      <td>230767</td>\n",
       "      <td>Renato Sanches</td>\n",
       "      <td>https://cdn.sofifa.net/players/230/767/22_60.png</td>\n",
       "      <td>Portugal</td>\n",
       "      <td>80</td>\n",
       "      <td>86</td>\n",
       "      <td>LOSC Lille</td>\n",
       "      <td>https://cdn.sofifa.net/teams/65/30.png</td>\n",
       "      <td>€33M</td>\n",
       "      <td>€38K</td>\n",
       "      <td>2218</td>\n",
       "    </tr>\n",
       "    <tr>\n",
       "      <th>2</th>\n",
       "      <td>225713</td>\n",
       "      <td>J. Augustin</td>\n",
       "      <td>https://cdn.sofifa.net/players/225/713/22_60.png</td>\n",
       "      <td>France</td>\n",
       "      <td>65</td>\n",
       "      <td>68</td>\n",
       "      <td>FC Nantes</td>\n",
       "      <td>https://cdn.sofifa.net/teams/71/30.png</td>\n",
       "      <td>€1M</td>\n",
       "      <td>€6K</td>\n",
       "      <td>1593</td>\n",
       "    </tr>\n",
       "    <tr>\n",
       "      <th>3</th>\n",
       "      <td>255253</td>\n",
       "      <td>Vitinha</td>\n",
       "      <td>https://cdn.sofifa.net/players/255/253/22_60.png</td>\n",
       "      <td>Portugal</td>\n",
       "      <td>78</td>\n",
       "      <td>88</td>\n",
       "      <td>FC Porto</td>\n",
       "      <td>https://cdn.sofifa.net/teams/236/30.png</td>\n",
       "      <td>€31.5M</td>\n",
       "      <td>€12K</td>\n",
       "      <td>1999</td>\n",
       "    </tr>\n",
       "    <tr>\n",
       "      <th>4</th>\n",
       "      <td>256197</td>\n",
       "      <td>P. Hincapié</td>\n",
       "      <td>https://cdn.sofifa.net/players/256/197/22_60.png</td>\n",
       "      <td>Ecuador</td>\n",
       "      <td>76</td>\n",
       "      <td>84</td>\n",
       "      <td>Bayer 04 Leverkusen</td>\n",
       "      <td>https://cdn.sofifa.net/teams/32/30.png</td>\n",
       "      <td>€15M</td>\n",
       "      <td>€21K</td>\n",
       "      <td>1817</td>\n",
       "    </tr>\n",
       "  </tbody>\n",
       "</table>\n",
       "</div>"
      ],
      "text/plain": [
       "       ID            Name                                             Photo  \\\n",
       "0  215223      W. Benítez  https://cdn.sofifa.net/players/215/223/22_60.png   \n",
       "1  230767  Renato Sanches  https://cdn.sofifa.net/players/230/767/22_60.png   \n",
       "2  225713     J. Augustin  https://cdn.sofifa.net/players/225/713/22_60.png   \n",
       "3  255253         Vitinha  https://cdn.sofifa.net/players/255/253/22_60.png   \n",
       "4  256197     P. Hincapié  https://cdn.sofifa.net/players/256/197/22_60.png   \n",
       "\n",
       "  Nationality  Overall  Potential                 Club  \\\n",
       "0   Argentina       80         82             OGC Nice   \n",
       "1    Portugal       80         86           LOSC Lille   \n",
       "2      France       65         68            FC Nantes   \n",
       "3    Portugal       78         88             FC Porto   \n",
       "4     Ecuador       76         84  Bayer 04 Leverkusen   \n",
       "\n",
       "                                 Club Logo   Value  Wage  Special  \n",
       "0   https://cdn.sofifa.net/teams/72/30.png    €18M  €32K     1281  \n",
       "1   https://cdn.sofifa.net/teams/65/30.png    €33M  €38K     2218  \n",
       "2   https://cdn.sofifa.net/teams/71/30.png     €1M   €6K     1593  \n",
       "3  https://cdn.sofifa.net/teams/236/30.png  €31.5M  €12K     1999  \n",
       "4   https://cdn.sofifa.net/teams/32/30.png    €15M  €21K     1817  "
      ]
     },
     "execution_count": 22,
     "metadata": {},
     "output_type": "execute_result"
    }
   ],
   "source": [
    "df.head()"
   ]
  },
  {
   "cell_type": "code",
   "execution_count": 23,
   "id": "ccf3800a",
   "metadata": {},
   "outputs": [
    {
     "data": {
      "text/plain": [
       "(13500, 11)"
      ]
     },
     "execution_count": 23,
     "metadata": {},
     "output_type": "execute_result"
    }
   ],
   "source": [
    "df.shape"
   ]
  },
  {
   "cell_type": "code",
   "execution_count": 25,
   "id": "a8bd4605",
   "metadata": {},
   "outputs": [
    {
     "data": {
      "text/plain": [
       "148500"
      ]
     },
     "execution_count": 25,
     "metadata": {},
     "output_type": "execute_result"
    }
   ],
   "source": [
    "13500*11"
   ]
  },
  {
   "cell_type": "code",
   "execution_count": 34,
   "id": "c4ae8162",
   "metadata": {},
   "outputs": [
    {
     "name": "stdout",
     "output_type": "stream",
     "text": [
      "England              1232\n",
      "Spain                 779\n",
      "Germany               736\n",
      "Argentina             670\n",
      "France                626\n",
      "                     ... \n",
      "Philippines             1\n",
      "Malawi                  1\n",
      "Libya                   1\n",
      "Brunei Darussalam       1\n",
      "Kazakhstan              1\n",
      "Name: Nationality, Length: 151, dtype: int64\n"
     ]
    }
   ],
   "source": [
    "print(df['Nationality'].value_counts())"
   ]
  },
  {
   "cell_type": "code",
   "execution_count": 31,
   "id": "b5ea842d",
   "metadata": {},
   "outputs": [
    {
     "data": {
      "text/plain": [
       "151"
      ]
     },
     "execution_count": 31,
     "metadata": {},
     "output_type": "execute_result"
    }
   ],
   "source": [
    "counts"
   ]
  },
  {
   "cell_type": "markdown",
   "id": "c888c4fe",
   "metadata": {},
   "source": [
    "Teams:\n",
    "* Group A:\n",
    "    - Qatar\n",
    "    - Netherlands\n",
    "    - Senegal\n",
    "    - Ecuador\n",
    "    \n",
    "* Group B:\n",
    "    - England\n",
    "    - USA\n",
    "    - Wales\n",
    "    - Iran\n",
    "    \n",
    "* Group C:\n",
    "    - Argentina\n",
    "    - Poland\n",
    "    - Mexico\n",
    "    - Saudi Arabia\n",
    "    \n",
    "* Group D:\n",
    "    - France\n",
    "    - Denmark\n",
    "    - Tunisia\n",
    "    - Australia\n",
    "    \n",
    "* Group E:\n",
    "    - Germany\n",
    "    - Spain\n",
    "    - Canada\n",
    "    - Morocco\n",
    "    \n",
    "* Group F:\n",
    "    - Belgium\n",
    "    - Croatia\n",
    "    - Canada\n",
    "    - Morocoo\n",
    "    \n",
    "* Group G\n",
    "    - Brazil\n",
    "    - Switzerland\n",
    "    - Serbia\n",
    "    - Cameroon\n",
    "    \n",
    "* Group H:\n",
    "    - Portugal\n",
    "    - Uruguay\n",
    "    - Ghana\n",
    "    - Korea Republic"
   ]
  },
  {
   "cell_type": "code",
   "execution_count": null,
   "id": "8d485d15",
   "metadata": {},
   "outputs": [],
   "source": []
  }
 ],
 "metadata": {
  "kernelspec": {
   "display_name": "Python 3 (ipykernel)",
   "language": "python",
   "name": "python3"
  },
  "language_info": {
   "codemirror_mode": {
    "name": "ipython",
    "version": 3
   },
   "file_extension": ".py",
   "mimetype": "text/x-python",
   "name": "python",
   "nbconvert_exporter": "python",
   "pygments_lexer": "ipython3",
   "version": "3.9.12"
  }
 },
 "nbformat": 4,
 "nbformat_minor": 5
}
