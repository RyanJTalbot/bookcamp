{
 "cells": [
  {
   "cell_type": "code",
   "execution_count": 1,
   "id": "24d88d56",
   "metadata": {},
   "outputs": [],
   "source": [
    "import pandas as pd"
   ]
  },
  {
   "cell_type": "code",
   "execution_count": 2,
   "id": "7294472e",
   "metadata": {},
   "outputs": [],
   "source": [
    "player_data = pd.read_csv('basicplayerdata.csv')"
   ]
  },
  {
   "cell_type": "code",
   "execution_count": 3,
   "id": "9deab327",
   "metadata": {},
   "outputs": [
    {
     "data": {
      "text/html": [
       "<div>\n",
       "<style scoped>\n",
       "    .dataframe tbody tr th:only-of-type {\n",
       "        vertical-align: middle;\n",
       "    }\n",
       "\n",
       "    .dataframe tbody tr th {\n",
       "        vertical-align: top;\n",
       "    }\n",
       "\n",
       "    .dataframe thead th {\n",
       "        text-align: right;\n",
       "    }\n",
       "</style>\n",
       "<table border=\"1\" class=\"dataframe\">\n",
       "  <thead>\n",
       "    <tr style=\"text-align: right;\">\n",
       "      <th></th>\n",
       "      <th>Unnamed: 0</th>\n",
       "      <th>ID</th>\n",
       "      <th>Name</th>\n",
       "      <th>Photo</th>\n",
       "      <th>Nationality</th>\n",
       "      <th>Flag</th>\n",
       "      <th>Overall</th>\n",
       "      <th>Potential</th>\n",
       "      <th>Club</th>\n",
       "      <th>Club Logo</th>\n",
       "      <th>Value</th>\n",
       "      <th>Wage</th>\n",
       "      <th>Special</th>\n",
       "    </tr>\n",
       "  </thead>\n",
       "  <tbody>\n",
       "    <tr>\n",
       "      <th>0</th>\n",
       "      <td>0</td>\n",
       "      <td>236988</td>\n",
       "      <td>ST</td>\n",
       "      <td>https://cdn.sofifa.net/players/236/988/22_60.png</td>\n",
       "      <td>NaN</td>\n",
       "      <td>https://cdn.sofifa.net/flags/gb-eng.png</td>\n",
       "      <td>72</td>\n",
       "      <td>79</td>\n",
       "      <td>Arsenal</td>\n",
       "      <td>https://cdn.sofifa.net/teams/1/30.png</td>\n",
       "      <td>€4.8M</td>\n",
       "      <td>€45K</td>\n",
       "      <td>1698</td>\n",
       "    </tr>\n",
       "    <tr>\n",
       "      <th>1</th>\n",
       "      <td>1</td>\n",
       "      <td>255253</td>\n",
       "      <td>CM</td>\n",
       "      <td>https://cdn.sofifa.net/players/255/253/22_60.png</td>\n",
       "      <td>NaN</td>\n",
       "      <td>https://cdn.sofifa.net/flags/pt.png</td>\n",
       "      <td>78</td>\n",
       "      <td>88</td>\n",
       "      <td>FC Porto</td>\n",
       "      <td>https://cdn.sofifa.net/teams/236/30.png</td>\n",
       "      <td>€31.5M</td>\n",
       "      <td>€12K</td>\n",
       "      <td>1999</td>\n",
       "    </tr>\n",
       "    <tr>\n",
       "      <th>2</th>\n",
       "      <td>2</td>\n",
       "      <td>239301</td>\n",
       "      <td>CB</td>\n",
       "      <td>https://cdn.sofifa.net/players/239/301/22_60.png</td>\n",
       "      <td>NaN</td>\n",
       "      <td>https://cdn.sofifa.net/flags/ar.png</td>\n",
       "      <td>80</td>\n",
       "      <td>85</td>\n",
       "      <td>Ajax</td>\n",
       "      <td>https://cdn.sofifa.net/teams/245/30.png</td>\n",
       "      <td>€29M</td>\n",
       "      <td>€17K</td>\n",
       "      <td>2109</td>\n",
       "    </tr>\n",
       "    <tr>\n",
       "      <th>3</th>\n",
       "      <td>3</td>\n",
       "      <td>256958</td>\n",
       "      <td>CAM</td>\n",
       "      <td>https://cdn.sofifa.net/players/256/958/22_60.png</td>\n",
       "      <td>NaN</td>\n",
       "      <td>https://cdn.sofifa.net/flags/pt.png</td>\n",
       "      <td>76</td>\n",
       "      <td>86</td>\n",
       "      <td>FC Porto</td>\n",
       "      <td>https://cdn.sofifa.net/teams/236/30.png</td>\n",
       "      <td>€17M</td>\n",
       "      <td>€10K</td>\n",
       "      <td>1838</td>\n",
       "    </tr>\n",
       "    <tr>\n",
       "      <th>4</th>\n",
       "      <td>4</td>\n",
       "      <td>236403</td>\n",
       "      <td>CB</td>\n",
       "      <td>https://cdn.sofifa.net/players/236/403/22_60.png</td>\n",
       "      <td>NaN</td>\n",
       "      <td>https://cdn.sofifa.net/flags/fr.png</td>\n",
       "      <td>80</td>\n",
       "      <td>85</td>\n",
       "      <td>Eintracht Frankfurt</td>\n",
       "      <td>https://cdn.sofifa.net/teams/1824/30.png</td>\n",
       "      <td>€29.5M</td>\n",
       "      <td>€23K</td>\n",
       "      <td>1935</td>\n",
       "    </tr>\n",
       "  </tbody>\n",
       "</table>\n",
       "</div>"
      ],
      "text/plain": [
       "   Unnamed: 0      ID Name                                             Photo  \\\n",
       "0           0  236988   ST  https://cdn.sofifa.net/players/236/988/22_60.png   \n",
       "1           1  255253   CM  https://cdn.sofifa.net/players/255/253/22_60.png   \n",
       "2           2  239301   CB  https://cdn.sofifa.net/players/239/301/22_60.png   \n",
       "3           3  256958  CAM  https://cdn.sofifa.net/players/256/958/22_60.png   \n",
       "4           4  236403   CB  https://cdn.sofifa.net/players/236/403/22_60.png   \n",
       "\n",
       "   Nationality                                     Flag  Overall  Potential  \\\n",
       "0          NaN  https://cdn.sofifa.net/flags/gb-eng.png       72         79   \n",
       "1          NaN      https://cdn.sofifa.net/flags/pt.png       78         88   \n",
       "2          NaN      https://cdn.sofifa.net/flags/ar.png       80         85   \n",
       "3          NaN      https://cdn.sofifa.net/flags/pt.png       76         86   \n",
       "4          NaN      https://cdn.sofifa.net/flags/fr.png       80         85   \n",
       "\n",
       "                  Club                                 Club Logo   Value  \\\n",
       "0              Arsenal     https://cdn.sofifa.net/teams/1/30.png   €4.8M   \n",
       "1             FC Porto   https://cdn.sofifa.net/teams/236/30.png  €31.5M   \n",
       "2                 Ajax   https://cdn.sofifa.net/teams/245/30.png    €29M   \n",
       "3             FC Porto   https://cdn.sofifa.net/teams/236/30.png    €17M   \n",
       "4  Eintracht Frankfurt  https://cdn.sofifa.net/teams/1824/30.png  €29.5M   \n",
       "\n",
       "   Wage  Special  \n",
       "0  €45K     1698  \n",
       "1  €12K     1999  \n",
       "2  €17K     2109  \n",
       "3  €10K     1838  \n",
       "4  €23K     1935  "
      ]
     },
     "execution_count": 3,
     "metadata": {},
     "output_type": "execute_result"
    }
   ],
   "source": [
    "player_data.head()"
   ]
  },
  {
   "cell_type": "code",
   "execution_count": 4,
   "id": "86cc4c32",
   "metadata": {},
   "outputs": [],
   "source": [
    "df = pd.read_csv('Dataset.csv')\n",
    "full_player = pd.read_csv('full_player_data.csv')\n",
    "player_attributes = pd.read_csv('PlayerAttributeData.csv')"
   ]
  },
  {
   "cell_type": "code",
   "execution_count": 5,
   "id": "36e24773",
   "metadata": {},
   "outputs": [
    {
     "data": {
      "text/html": [
       "<div>\n",
       "<style scoped>\n",
       "    .dataframe tbody tr th:only-of-type {\n",
       "        vertical-align: middle;\n",
       "    }\n",
       "\n",
       "    .dataframe tbody tr th {\n",
       "        vertical-align: top;\n",
       "    }\n",
       "\n",
       "    .dataframe thead th {\n",
       "        text-align: right;\n",
       "    }\n",
       "</style>\n",
       "<table border=\"1\" class=\"dataframe\">\n",
       "  <thead>\n",
       "    <tr style=\"text-align: right;\">\n",
       "      <th></th>\n",
       "      <th>Unnamed: 0</th>\n",
       "      <th>Name</th>\n",
       "      <th>Photo</th>\n",
       "      <th>Nationality</th>\n",
       "      <th>Flag</th>\n",
       "      <th>Overall</th>\n",
       "      <th>Potential</th>\n",
       "      <th>Club</th>\n",
       "      <th>Club Logo</th>\n",
       "      <th>Value</th>\n",
       "      <th>Wage</th>\n",
       "      <th>Special</th>\n",
       "      <th>ID</th>\n",
       "    </tr>\n",
       "  </thead>\n",
       "  <tbody>\n",
       "    <tr>\n",
       "      <th>0</th>\n",
       "      <td>0</td>\n",
       "      <td>ST</td>\n",
       "      <td>https://cdn.sofifa.net/players/236/988/22_60.png</td>\n",
       "      <td>NaN</td>\n",
       "      <td>https://cdn.sofifa.net/flags/gb-eng.png</td>\n",
       "      <td>72</td>\n",
       "      <td>79</td>\n",
       "      <td>Arsenal</td>\n",
       "      <td>https://cdn.sofifa.net/teams/1/30.png</td>\n",
       "      <td>€4.8M</td>\n",
       "      <td>€45K</td>\n",
       "      <td>1698</td>\n",
       "      <td>236988</td>\n",
       "    </tr>\n",
       "    <tr>\n",
       "      <th>1</th>\n",
       "      <td>0</td>\n",
       "      <td>ST</td>\n",
       "      <td>https://cdn.sofifa.net/players/236/988/22_60.png</td>\n",
       "      <td>NaN</td>\n",
       "      <td>https://cdn.sofifa.net/flags/gb-eng.png</td>\n",
       "      <td>72</td>\n",
       "      <td>79</td>\n",
       "      <td>Arsenal</td>\n",
       "      <td>https://cdn.sofifa.net/teams/1/30.png</td>\n",
       "      <td>€4.8M</td>\n",
       "      <td>€45K</td>\n",
       "      <td>1698</td>\n",
       "      <td>236988</td>\n",
       "    </tr>\n",
       "    <tr>\n",
       "      <th>2</th>\n",
       "      <td>1</td>\n",
       "      <td>CM</td>\n",
       "      <td>https://cdn.sofifa.net/players/255/253/22_60.png</td>\n",
       "      <td>NaN</td>\n",
       "      <td>https://cdn.sofifa.net/flags/pt.png</td>\n",
       "      <td>78</td>\n",
       "      <td>88</td>\n",
       "      <td>FC Porto</td>\n",
       "      <td>https://cdn.sofifa.net/teams/236/30.png</td>\n",
       "      <td>€31.5M</td>\n",
       "      <td>€12K</td>\n",
       "      <td>1999</td>\n",
       "      <td>255253</td>\n",
       "    </tr>\n",
       "    <tr>\n",
       "      <th>3</th>\n",
       "      <td>1</td>\n",
       "      <td>CM</td>\n",
       "      <td>https://cdn.sofifa.net/players/255/253/22_60.png</td>\n",
       "      <td>NaN</td>\n",
       "      <td>https://cdn.sofifa.net/flags/pt.png</td>\n",
       "      <td>78</td>\n",
       "      <td>88</td>\n",
       "      <td>FC Porto</td>\n",
       "      <td>https://cdn.sofifa.net/teams/236/30.png</td>\n",
       "      <td>€31.5M</td>\n",
       "      <td>€12K</td>\n",
       "      <td>1999</td>\n",
       "      <td>255253</td>\n",
       "    </tr>\n",
       "    <tr>\n",
       "      <th>4</th>\n",
       "      <td>2</td>\n",
       "      <td>CB</td>\n",
       "      <td>https://cdn.sofifa.net/players/239/301/22_60.png</td>\n",
       "      <td>NaN</td>\n",
       "      <td>https://cdn.sofifa.net/flags/ar.png</td>\n",
       "      <td>80</td>\n",
       "      <td>85</td>\n",
       "      <td>Ajax</td>\n",
       "      <td>https://cdn.sofifa.net/teams/245/30.png</td>\n",
       "      <td>€29M</td>\n",
       "      <td>€17K</td>\n",
       "      <td>2109</td>\n",
       "      <td>239301</td>\n",
       "    </tr>\n",
       "  </tbody>\n",
       "</table>\n",
       "</div>"
      ],
      "text/plain": [
       "   Unnamed: 0 Name                                             Photo  \\\n",
       "0           0   ST  https://cdn.sofifa.net/players/236/988/22_60.png   \n",
       "1           0   ST  https://cdn.sofifa.net/players/236/988/22_60.png   \n",
       "2           1   CM  https://cdn.sofifa.net/players/255/253/22_60.png   \n",
       "3           1   CM  https://cdn.sofifa.net/players/255/253/22_60.png   \n",
       "4           2   CB  https://cdn.sofifa.net/players/239/301/22_60.png   \n",
       "\n",
       "   Nationality                                     Flag  Overall  Potential  \\\n",
       "0          NaN  https://cdn.sofifa.net/flags/gb-eng.png       72         79   \n",
       "1          NaN  https://cdn.sofifa.net/flags/gb-eng.png       72         79   \n",
       "2          NaN      https://cdn.sofifa.net/flags/pt.png       78         88   \n",
       "3          NaN      https://cdn.sofifa.net/flags/pt.png       78         88   \n",
       "4          NaN      https://cdn.sofifa.net/flags/ar.png       80         85   \n",
       "\n",
       "       Club                                Club Logo   Value  Wage  Special  \\\n",
       "0   Arsenal    https://cdn.sofifa.net/teams/1/30.png   €4.8M  €45K     1698   \n",
       "1   Arsenal    https://cdn.sofifa.net/teams/1/30.png   €4.8M  €45K     1698   \n",
       "2  FC Porto  https://cdn.sofifa.net/teams/236/30.png  €31.5M  €12K     1999   \n",
       "3  FC Porto  https://cdn.sofifa.net/teams/236/30.png  €31.5M  €12K     1999   \n",
       "4      Ajax  https://cdn.sofifa.net/teams/245/30.png    €29M  €17K     2109   \n",
       "\n",
       "       ID  \n",
       "0  236988  \n",
       "1  236988  \n",
       "2  255253  \n",
       "3  255253  \n",
       "4  239301  "
      ]
     },
     "execution_count": 5,
     "metadata": {},
     "output_type": "execute_result"
    }
   ],
   "source": [
    "df.head()"
   ]
  },
  {
   "cell_type": "code",
   "execution_count": 6,
   "id": "a974791d",
   "metadata": {},
   "outputs": [
    {
     "data": {
      "text/html": [
       "<div>\n",
       "<style scoped>\n",
       "    .dataframe tbody tr th:only-of-type {\n",
       "        vertical-align: middle;\n",
       "    }\n",
       "\n",
       "    .dataframe tbody tr th {\n",
       "        vertical-align: top;\n",
       "    }\n",
       "\n",
       "    .dataframe thead th {\n",
       "        text-align: right;\n",
       "    }\n",
       "</style>\n",
       "<table border=\"1\" class=\"dataframe\">\n",
       "  <thead>\n",
       "    <tr style=\"text-align: right;\">\n",
       "      <th></th>\n",
       "      <th>Unnamed: 0</th>\n",
       "      <th>ID</th>\n",
       "      <th>Name</th>\n",
       "      <th>Photo</th>\n",
       "      <th>Nationality</th>\n",
       "      <th>Flag</th>\n",
       "      <th>Overall</th>\n",
       "      <th>Potential</th>\n",
       "      <th>Club</th>\n",
       "      <th>Club Logo</th>\n",
       "      <th>Value</th>\n",
       "      <th>Wage</th>\n",
       "      <th>Special</th>\n",
       "    </tr>\n",
       "  </thead>\n",
       "  <tbody>\n",
       "    <tr>\n",
       "      <th>0</th>\n",
       "      <td>0</td>\n",
       "      <td>236988</td>\n",
       "      <td>ST</td>\n",
       "      <td>https://cdn.sofifa.net/players/236/988/22_60.png</td>\n",
       "      <td>NaN</td>\n",
       "      <td>https://cdn.sofifa.net/flags/gb-eng.png</td>\n",
       "      <td>72</td>\n",
       "      <td>79</td>\n",
       "      <td>Arsenal</td>\n",
       "      <td>https://cdn.sofifa.net/teams/1/30.png</td>\n",
       "      <td>€4.8M</td>\n",
       "      <td>€45K</td>\n",
       "      <td>1698</td>\n",
       "    </tr>\n",
       "    <tr>\n",
       "      <th>1</th>\n",
       "      <td>1</td>\n",
       "      <td>255253</td>\n",
       "      <td>CM</td>\n",
       "      <td>https://cdn.sofifa.net/players/255/253/22_60.png</td>\n",
       "      <td>NaN</td>\n",
       "      <td>https://cdn.sofifa.net/flags/pt.png</td>\n",
       "      <td>78</td>\n",
       "      <td>88</td>\n",
       "      <td>FC Porto</td>\n",
       "      <td>https://cdn.sofifa.net/teams/236/30.png</td>\n",
       "      <td>€31.5M</td>\n",
       "      <td>€12K</td>\n",
       "      <td>1999</td>\n",
       "    </tr>\n",
       "    <tr>\n",
       "      <th>2</th>\n",
       "      <td>2</td>\n",
       "      <td>239301</td>\n",
       "      <td>CB</td>\n",
       "      <td>https://cdn.sofifa.net/players/239/301/22_60.png</td>\n",
       "      <td>NaN</td>\n",
       "      <td>https://cdn.sofifa.net/flags/ar.png</td>\n",
       "      <td>80</td>\n",
       "      <td>85</td>\n",
       "      <td>Ajax</td>\n",
       "      <td>https://cdn.sofifa.net/teams/245/30.png</td>\n",
       "      <td>€29M</td>\n",
       "      <td>€17K</td>\n",
       "      <td>2109</td>\n",
       "    </tr>\n",
       "    <tr>\n",
       "      <th>3</th>\n",
       "      <td>3</td>\n",
       "      <td>256958</td>\n",
       "      <td>CAM</td>\n",
       "      <td>https://cdn.sofifa.net/players/256/958/22_60.png</td>\n",
       "      <td>NaN</td>\n",
       "      <td>https://cdn.sofifa.net/flags/pt.png</td>\n",
       "      <td>76</td>\n",
       "      <td>86</td>\n",
       "      <td>FC Porto</td>\n",
       "      <td>https://cdn.sofifa.net/teams/236/30.png</td>\n",
       "      <td>€17M</td>\n",
       "      <td>€10K</td>\n",
       "      <td>1838</td>\n",
       "    </tr>\n",
       "    <tr>\n",
       "      <th>4</th>\n",
       "      <td>4</td>\n",
       "      <td>236403</td>\n",
       "      <td>CB</td>\n",
       "      <td>https://cdn.sofifa.net/players/236/403/22_60.png</td>\n",
       "      <td>NaN</td>\n",
       "      <td>https://cdn.sofifa.net/flags/fr.png</td>\n",
       "      <td>80</td>\n",
       "      <td>85</td>\n",
       "      <td>Eintracht Frankfurt</td>\n",
       "      <td>https://cdn.sofifa.net/teams/1824/30.png</td>\n",
       "      <td>€29.5M</td>\n",
       "      <td>€23K</td>\n",
       "      <td>1935</td>\n",
       "    </tr>\n",
       "  </tbody>\n",
       "</table>\n",
       "</div>"
      ],
      "text/plain": [
       "   Unnamed: 0      ID Name                                             Photo  \\\n",
       "0           0  236988   ST  https://cdn.sofifa.net/players/236/988/22_60.png   \n",
       "1           1  255253   CM  https://cdn.sofifa.net/players/255/253/22_60.png   \n",
       "2           2  239301   CB  https://cdn.sofifa.net/players/239/301/22_60.png   \n",
       "3           3  256958  CAM  https://cdn.sofifa.net/players/256/958/22_60.png   \n",
       "4           4  236403   CB  https://cdn.sofifa.net/players/236/403/22_60.png   \n",
       "\n",
       "   Nationality                                     Flag  Overall  Potential  \\\n",
       "0          NaN  https://cdn.sofifa.net/flags/gb-eng.png       72         79   \n",
       "1          NaN      https://cdn.sofifa.net/flags/pt.png       78         88   \n",
       "2          NaN      https://cdn.sofifa.net/flags/ar.png       80         85   \n",
       "3          NaN      https://cdn.sofifa.net/flags/pt.png       76         86   \n",
       "4          NaN      https://cdn.sofifa.net/flags/fr.png       80         85   \n",
       "\n",
       "                  Club                                 Club Logo   Value  \\\n",
       "0              Arsenal     https://cdn.sofifa.net/teams/1/30.png   €4.8M   \n",
       "1             FC Porto   https://cdn.sofifa.net/teams/236/30.png  €31.5M   \n",
       "2                 Ajax   https://cdn.sofifa.net/teams/245/30.png    €29M   \n",
       "3             FC Porto   https://cdn.sofifa.net/teams/236/30.png    €17M   \n",
       "4  Eintracht Frankfurt  https://cdn.sofifa.net/teams/1824/30.png  €29.5M   \n",
       "\n",
       "   Wage  Special  \n",
       "0  €45K     1698  \n",
       "1  €12K     1999  \n",
       "2  €17K     2109  \n",
       "3  €10K     1838  \n",
       "4  €23K     1935  "
      ]
     },
     "execution_count": 6,
     "metadata": {},
     "output_type": "execute_result"
    }
   ],
   "source": [
    "full_player.head()"
   ]
  },
  {
   "cell_type": "code",
   "execution_count": 8,
   "id": "654e8d69",
   "metadata": {},
   "outputs": [
    {
     "data": {
      "text/plain": [
       "(13500, 13)"
      ]
     },
     "execution_count": 8,
     "metadata": {},
     "output_type": "execute_result"
    }
   ],
   "source": [
    "player_data.shape"
   ]
  },
  {
   "cell_type": "code",
   "execution_count": 9,
   "id": "507fdc2d",
   "metadata": {},
   "outputs": [
    {
     "data": {
      "text/plain": [
       "(14500, 13)"
      ]
     },
     "execution_count": 9,
     "metadata": {},
     "output_type": "execute_result"
    }
   ],
   "source": [
    "df.shape"
   ]
  },
  {
   "cell_type": "code",
   "execution_count": 11,
   "id": "e228d628",
   "metadata": {},
   "outputs": [
    {
     "data": {
      "text/plain": [
       "(13500, 13)"
      ]
     },
     "execution_count": 11,
     "metadata": {},
     "output_type": "execute_result"
    }
   ],
   "source": [
    "full_player.shape"
   ]
  },
  {
   "cell_type": "code",
   "execution_count": 12,
   "id": "9b5a7f72",
   "metadata": {},
   "outputs": [
    {
     "data": {
      "text/plain": [
       "175500"
      ]
     },
     "execution_count": 12,
     "metadata": {},
     "output_type": "execute_result"
    }
   ],
   "source": [
    "13500*13"
   ]
  },
  {
   "cell_type": "code",
   "execution_count": 15,
   "id": "b80cf14a",
   "metadata": {},
   "outputs": [
    {
     "data": {
      "text/plain": [
       "Series([], Name: Nationality, dtype: int64)"
      ]
     },
     "execution_count": 15,
     "metadata": {},
     "output_type": "execute_result"
    }
   ],
   "source": [
    "full_player.Nationality.value_counts()"
   ]
  },
  {
   "cell_type": "code",
   "execution_count": 16,
   "id": "3131dd2a",
   "metadata": {},
   "outputs": [
    {
     "data": {
      "text/plain": [
       "0       NaN\n",
       "1       NaN\n",
       "2       NaN\n",
       "3       NaN\n",
       "4       NaN\n",
       "         ..\n",
       "13495   NaN\n",
       "13496   NaN\n",
       "13497   NaN\n",
       "13498   NaN\n",
       "13499   NaN\n",
       "Name: Nationality, Length: 13500, dtype: float64"
      ]
     },
     "execution_count": 16,
     "metadata": {},
     "output_type": "execute_result"
    }
   ],
   "source": [
    "full_player.Nationality"
   ]
  },
  {
   "cell_type": "code",
   "execution_count": 17,
   "id": "6063345e",
   "metadata": {},
   "outputs": [
    {
     "data": {
      "text/plain": [
       "array([72, 78, 80, 76, 79, 65, 67, 81, 77, 74, 73, 69, 88, 89, 82, 75, 64,\n",
       "       84, 68, 83, 86, 92, 70, 91, 87, 66, 85, 62, 90, 71, 61, 63, 56, 60,\n",
       "       59, 57, 55, 53, 58, 49, 50, 47, 51, 54, 52, 45, 48, 44, 46])"
      ]
     },
     "execution_count": 17,
     "metadata": {},
     "output_type": "execute_result"
    }
   ],
   "source": [
    "full_player.Overall.unique()"
   ]
  },
  {
   "cell_type": "code",
   "execution_count": 18,
   "id": "7c3648c6",
   "metadata": {},
   "outputs": [
    {
     "data": {
      "text/plain": [
       "array([nan])"
      ]
     },
     "execution_count": 18,
     "metadata": {},
     "output_type": "execute_result"
    }
   ],
   "source": [
    "full_player.Nationality.unique()"
   ]
  },
  {
   "cell_type": "code",
   "execution_count": null,
   "id": "a31770c3",
   "metadata": {},
   "outputs": [],
   "source": []
  }
 ],
 "metadata": {
  "kernelspec": {
   "display_name": "Python 3 (ipykernel)",
   "language": "python",
   "name": "python3"
  },
  "language_info": {
   "codemirror_mode": {
    "name": "ipython",
    "version": 3
   },
   "file_extension": ".py",
   "mimetype": "text/x-python",
   "name": "python",
   "nbconvert_exporter": "python",
   "pygments_lexer": "ipython3",
   "version": "3.9.12"
  }
 },
 "nbformat": 4,
 "nbformat_minor": 5
}
