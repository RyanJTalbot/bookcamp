{
 "cells": [
  {
   "cell_type": "markdown",
   "id": "39c4e9c6",
   "metadata": {},
   "source": [
    "https://github.com/4m4n5/fifa18-all-player-statistics/blob/master/crawler.ipynb"
   ]
  },
  {
   "cell_type": "code",
   "execution_count": 1,
   "id": "b2391723",
   "metadata": {},
   "outputs": [],
   "source": [
    "# Initial imports\n",
    "import numpy as np\n",
    "import pandas as pd \n",
    "from pandas import DataFrame, Series\n",
    "import matplotlib.pyplot as plt\n",
    "import seaborn as sns\n",
    "from scipy import stats\n",
    "%matplotlib inline\n",
    "\n",
    "import random\n",
    "import urllib.request\n",
    "import requests\n",
    "from bs4 import BeautifulSoup\n",
    "import warnings\n",
    "warnings.filterwarnings('ignore')"
   ]
  },
  {
   "cell_type": "code",
   "execution_count": 4,
   "id": "3f393d9c",
   "metadata": {},
   "outputs": [
    {
     "name": "stdout",
     "output_type": "stream",
     "text": [
      "20\n",
      "40\n",
      "60\n",
      "80\n",
      "100\n",
      "120\n",
      "140\n",
      "160\n",
      "180\n",
      "200\n",
      "220\n"
     ]
    }
   ],
   "source": [
    "base_url = \"https://sofifa.com/players?offset=\"\n",
    "offset = 0\n",
    "columns = ['ID', 'Name', 'Photo', 'Nationality', 'Flag', 'Overall', 'Potential', 'Club', \n",
    "           'Club Logo', 'Value', 'Wage', 'Special']\n",
    "data = DataFrame(columns=columns)\n",
    "for offset in range(225):\n",
    "    url = base_url + str(offset*80)\n",
    "    source_code = requests.get(url)\n",
    "    plain_text = source_code.text\n",
    "    soup = BeautifulSoup(plain_text)\n",
    "    table_body = soup.find('tbody')\n",
    "    for row in table_body.findAll('tr'):\n",
    "        td = row.findAll('td')\n",
    "        picture = td[0].find('img').get('data-src')\n",
    "        pid = td[0].find('img').get('id')\n",
    "        nationality = td[1].find('a').get('title')\n",
    "        flag_img = td[1].find('img').get('data-src')\n",
    "        name = td[1].findAll('a')[1].text\n",
    "        overall = td[3].text.strip()\n",
    "        potential = td[4].text.strip()\n",
    "        club = td[5].find('a').text\n",
    "        club_logo = td[5].find('img').get('data-src')\n",
    "        value = td[6].text.strip()\n",
    "        wage = td[7].text.strip()\n",
    "        special = td[8].text.strip()\n",
    "        player_data = DataFrame([[pid, name, picture, nationality, flag_img, overall, \n",
    "                                  potential, club, club_logo, value, wage, special]])\n",
    "        player_data.columns = columns\n",
    "        data = data.append(player_data, ignore_index=True)\n",
    "    offset+=1\n",
    "    data.to_csv('full_player_data.csv', encoding='utf-8')\n",
    "    if (offset % 20 == 0):\n",
    "        print(offset)\n"
   ]
  },
  {
   "cell_type": "code",
   "execution_count": 6,
   "id": "2eec6878",
   "metadata": {},
   "outputs": [],
   "source": [
    "data.to_csv('basicplayerdata.csv', encoding='utf-8')"
   ]
  },
  {
   "cell_type": "code",
   "execution_count": 7,
   "id": "b39908b4",
   "metadata": {},
   "outputs": [],
   "source": [
    "player_data_url = 'https://sofifa.com/player/'\n",
    "for index, row in data.iterrows():\n",
    "    skill_names = []\n",
    "    skill_map = {'ID' : str(row['ID'])}\n",
    "    url = player_data_url + str(row['ID'])\n",
    "    source_code = requests.get(url)\n",
    "    plain_text = source_code.text\n",
    "    soup = BeautifulSoup(plain_text)\n",
    "    categories = soup.findAll('div', {'class': 'column col-4 mb-20'})\n",
    "    for category in categories[:-1]:\n",
    "        skills = category.findAll('li')\n",
    "        for skill in skills:\n",
    "            a = skill.text.split()\n",
    "            a.reverse()\n",
    "            value = a.pop()\n",
    "            a.reverse()\n",
    "            n = ' '.join(a)\n",
    "            skill_names.append(n)\n",
    "            skill_map[str(n)] = value\n",
    "    master_data = DataFrame(columns=skill_names)\n",
    "    break"
   ]
  },
  {
   "cell_type": "code",
   "execution_count": 8,
   "id": "8dbf3b12",
   "metadata": {},
   "outputs": [
    {
     "data": {
      "text/plain": [
       "Index([], dtype='object')"
      ]
     },
     "execution_count": 8,
     "metadata": {},
     "output_type": "execute_result"
    }
   ],
   "source": [
    "master_data.columns"
   ]
  },
  {
   "cell_type": "code",
   "execution_count": 10,
   "id": "46f0dfd8",
   "metadata": {},
   "outputs": [
    {
     "name": "stdout",
     "output_type": "stream",
     "text": [
      "1000\n",
      "2000\n",
      "3000\n",
      "4000\n",
      "5000\n",
      "6000\n",
      "7000\n",
      "8000\n",
      "9000\n",
      "10000\n",
      "11000\n",
      "12000\n",
      "13000\n"
     ]
    }
   ],
   "source": [
    "player_data_url = 'https://sofifa.com/player/'\n",
    "r = 0\n",
    "for index, row in data.iterrows():\n",
    "    skill_names = []\n",
    "    skill_map = {'ID' : str(row['ID'])}\n",
    "    url = player_data_url + str(row['ID'])\n",
    "    source_code = requests.get(url)\n",
    "    plain_text = source_code.text\n",
    "    soup = BeautifulSoup(plain_text)\n",
    "    categories = soup.findAll('div', {'class': 'column col-4 mb-20'})\n",
    "    for category in categories[:-1]:\n",
    "        skills = category.findAll('li')\n",
    "        for skill in skills:\n",
    "            a = skill.text.split()\n",
    "            a.reverse()\n",
    "            value = a.pop()\n",
    "            a.reverse()\n",
    "            n = ' '.join(a)\n",
    "            skill_names.append(n)\n",
    "            skill_map[str(n)] = value\n",
    "    attr_data = DataFrame(columns=skill_names)\n",
    "    for key in skill_map.keys():\n",
    "        attr_data.loc[r,key] = skill_map[key]\n",
    "    r = r + 1\n",
    "    master_data = pd.concat([master_data, attr_data])\n",
    "    if r % 1000 == 0:\n",
    "        print(r)\n",
    "        master_data.to_csv('PlayerAttributeData.csv', encoding='utf-8')\n"
   ]
  },
  {
   "cell_type": "code",
   "execution_count": 11,
   "id": "0467575c",
   "metadata": {},
   "outputs": [
    {
     "data": {
      "text/html": [
       "<div>\n",
       "<style scoped>\n",
       "    .dataframe tbody tr th:only-of-type {\n",
       "        vertical-align: middle;\n",
       "    }\n",
       "\n",
       "    .dataframe tbody tr th {\n",
       "        vertical-align: top;\n",
       "    }\n",
       "\n",
       "    .dataframe thead th {\n",
       "        text-align: right;\n",
       "    }\n",
       "</style>\n",
       "<table border=\"1\" class=\"dataframe\">\n",
       "  <thead>\n",
       "    <tr style=\"text-align: right;\">\n",
       "      <th></th>\n",
       "      <th>ID</th>\n",
       "    </tr>\n",
       "  </thead>\n",
       "  <tbody>\n",
       "    <tr>\n",
       "      <th>0</th>\n",
       "      <td>236988</td>\n",
       "    </tr>\n",
       "    <tr>\n",
       "      <th>1</th>\n",
       "      <td>255253</td>\n",
       "    </tr>\n",
       "    <tr>\n",
       "      <th>2</th>\n",
       "      <td>239301</td>\n",
       "    </tr>\n",
       "    <tr>\n",
       "      <th>3</th>\n",
       "      <td>256958</td>\n",
       "    </tr>\n",
       "    <tr>\n",
       "      <th>4</th>\n",
       "      <td>236403</td>\n",
       "    </tr>\n",
       "  </tbody>\n",
       "</table>\n",
       "</div>"
      ],
      "text/plain": [
       "       ID\n",
       "0  236988\n",
       "1  255253\n",
       "2  239301\n",
       "3  256958\n",
       "4  236403"
      ]
     },
     "execution_count": 11,
     "metadata": {},
     "output_type": "execute_result"
    }
   ],
   "source": [
    "master_data.head()"
   ]
  },
  {
   "cell_type": "code",
   "execution_count": 12,
   "id": "506f4d8a",
   "metadata": {},
   "outputs": [],
   "source": [
    "full_data = pd.merge(data, master_data, left_index=True, right_index=True)"
   ]
  },
  {
   "cell_type": "code",
   "execution_count": 13,
   "id": "a93b667d",
   "metadata": {},
   "outputs": [],
   "source": [
    "master_data.to_csv('PlayerAttributeData.csv', encoding='utf-8')"
   ]
  },
  {
   "cell_type": "code",
   "execution_count": 14,
   "id": "b42531f5",
   "metadata": {},
   "outputs": [],
   "source": [
    "full_data.to_csv('Dataset.csv', encoding='utf-8')"
   ]
  },
  {
   "cell_type": "code",
   "execution_count": 17,
   "id": "230c04fd",
   "metadata": {},
   "outputs": [],
   "source": [
    "# full_data.drop('Unnamed: 0', 1,  inplace=True)"
   ]
  },
  {
   "cell_type": "code",
   "execution_count": 18,
   "id": "43f7941e",
   "metadata": {},
   "outputs": [],
   "source": [
    "full_data.drop('ID_x', 1,  inplace=True)"
   ]
  },
  {
   "cell_type": "code",
   "execution_count": 19,
   "id": "36f95be1",
   "metadata": {},
   "outputs": [
    {
     "data": {
      "text/plain": [
       "0    236988\n",
       "0    236988\n",
       "1    255253\n",
       "1    255253\n",
       "2    239301\n",
       "Name: ID_y, dtype: object"
      ]
     },
     "execution_count": 19,
     "metadata": {},
     "output_type": "execute_result"
    }
   ],
   "source": [
    "full_data['ID_y'][:5]"
   ]
  },
  {
   "cell_type": "code",
   "execution_count": 20,
   "id": "f3908e2b",
   "metadata": {},
   "outputs": [],
   "source": [
    "f = full_data.rename(index=str, columns={\"ID_y\": \"ID\"})"
   ]
  },
  {
   "cell_type": "code",
   "execution_count": 21,
   "id": "17434fc4",
   "metadata": {},
   "outputs": [
    {
     "data": {
      "text/plain": [
       "0    236988\n",
       "0    236988\n",
       "1    255253\n",
       "1    255253\n",
       "2    239301\n",
       "Name: ID, dtype: object"
      ]
     },
     "execution_count": 21,
     "metadata": {},
     "output_type": "execute_result"
    }
   ],
   "source": [
    "f['ID'][:5]"
   ]
  },
  {
   "cell_type": "code",
   "execution_count": 22,
   "id": "dba853ed",
   "metadata": {},
   "outputs": [],
   "source": [
    "f.to_csv('Dataset.csv', encoding='utf-8')"
   ]
  },
  {
   "cell_type": "code",
   "execution_count": null,
   "id": "2bec5729",
   "metadata": {},
   "outputs": [],
   "source": []
  }
 ],
 "metadata": {
  "kernelspec": {
   "display_name": "Python 3 (ipykernel)",
   "language": "python",
   "name": "python3"
  },
  "language_info": {
   "codemirror_mode": {
    "name": "ipython",
    "version": 3
   },
   "file_extension": ".py",
   "mimetype": "text/x-python",
   "name": "python",
   "nbconvert_exporter": "python",
   "pygments_lexer": "ipython3",
   "version": "3.9.12"
  }
 },
 "nbformat": 4,
 "nbformat_minor": 5
}
