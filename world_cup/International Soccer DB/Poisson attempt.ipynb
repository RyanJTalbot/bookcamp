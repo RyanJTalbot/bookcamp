{
 "cells": [
  {
   "cell_type": "code",
   "execution_count": 1,
   "metadata": {},
   "outputs": [],
   "source": [
    "import pandas as pd\n",
    "import numpy as np\n",
    "from scipy import stats"
   ]
  },
  {
   "cell_type": "code",
   "execution_count": 2,
   "metadata": {},
   "outputs": [],
   "source": [
    "df1 = pd.read_csv('isdbv1.csv')"
   ]
  },
  {
   "cell_type": "code",
   "execution_count": 3,
   "metadata": {},
   "outputs": [],
   "source": [
    "df2 = pd.read_csv('isdbv2.csv')"
   ]
  },
  {
   "cell_type": "code",
   "execution_count": 4,
   "metadata": {},
   "outputs": [],
   "source": [
    "frames = [df1, df2]\n",
    "\n",
    "df = pd.concat(frames)\n"
   ]
  },
  {
   "cell_type": "code",
   "execution_count": 5,
   "metadata": {},
   "outputs": [],
   "source": [
    "df = df.drop_duplicates()"
   ]
  },
  {
   "cell_type": "code",
   "execution_count": 6,
   "metadata": {},
   "outputs": [
    {
     "data": {
      "text/plain": [
       "(220728, 9)"
      ]
     },
     "execution_count": 6,
     "metadata": {},
     "output_type": "execute_result"
    }
   ],
   "source": [
    "df.shape"
   ]
  },
  {
   "cell_type": "code",
   "execution_count": 7,
   "metadata": {},
   "outputs": [
    {
     "name": "stdout",
     "output_type": "stream",
     "text": [
      "<class 'pandas.core.frame.DataFrame'>\n",
      "Int64Index: 220728 entries, 0 to 218915\n",
      "Data columns (total 9 columns):\n",
      " #   Column  Non-Null Count   Dtype \n",
      "---  ------  --------------   ----- \n",
      " 0   Sea     220728 non-null  object\n",
      " 1   Lge     220728 non-null  object\n",
      " 2   Date    220728 non-null  object\n",
      " 3   HT      220728 non-null  object\n",
      " 4   AT      220728 non-null  object\n",
      " 5   HS      220728 non-null  int64 \n",
      " 6   AS      220728 non-null  int64 \n",
      " 7   GD      220728 non-null  int64 \n",
      " 8   WDL     220728 non-null  object\n",
      "dtypes: int64(3), object(6)\n",
      "memory usage: 16.8+ MB\n"
     ]
    }
   ],
   "source": [
    "df.info()"
   ]
  },
  {
   "cell_type": "code",
   "execution_count": null,
   "metadata": {},
   "outputs": [],
   "source": []
  },
  {
   "cell_type": "code",
   "execution_count": null,
   "metadata": {},
   "outputs": [],
   "source": []
  },
  {
   "cell_type": "code",
   "execution_count": null,
   "metadata": {},
   "outputs": [],
   "source": [
    "def PredictScore():\n",
    "    \n",
    "    home_team = input(\"Enter Home Team: \")\n",
    "    ht = (''.join(home_team.split())).lower()\n",
    "    away_team = input(\"Enter Away Team: \")\n",
    "    at = (''.join(away_team.split())).lower()\n",
    "    \n",
    "    if len(data[(data.home_team ==ht) & (data.away_team ==at)]) > 20:\n",
    "        \n",
    "        avg_home_score = data[(data.home_team ==ht) & (data.away_team ==at)].home_score.mean()\n",
    "        avg_away_score = data[(data.home_team ==ht) & (data.away_team ==at)].away_score.mean()\n",
    "        \n",
    "        home_goal = int(stats.mode(np.random.poisson(avg_home_score,100000))[0])                    \n",
    "        away_goal = int(stats.mode(np.random.poisson(avg_away_score,100000))[0])\n",
    "        \n",
    "    else:\n",
    "        avg_home_goal_conceded = data[(data.home_team ==ht)].away_score.mean()\n",
    "        avg_away_goal_scored   = data[(data.away_team ==at)].away_score.mean()\n",
    "        away_goal = int(stats.mode(np.random.poisson(1/2*(avg_home_goal_conceded+avg_away_goal_scored),100000))[0])\n",
    "        \n",
    "        avg_away_goal_conceded = data[(data.home_team ==at)].home_score.mean()\n",
    "        avg_home_goal_scored   = data[(data.away_team ==ht)].home_score.mean()\n",
    "        home_goal = int(stats.mode(np.random.poisson(1/2*(avg_away_goal_conceded+avg_home_goal_scored),100000))[0])\n",
    "    \n",
    "    avg_total_score = int(stats.mode(\n",
    "        np.random.poisson((data[(data.home_team==ht) &    (data.away_team==at)].total_goals.mean()),100000))[0])\n",
    "    \n",
    "    print(f'Expected total goals are {avg_total_score}')\n",
    "    print(f'They have played {len(data[(data.home_team ==ht) & (data.away_team ==at)])} matches')\n",
    "    print(f'The scoreline is {home_team} {home_goal}:{away_goal} {away_team}')"
   ]
  }
 ],
 "metadata": {
  "kernelspec": {
   "display_name": "Python 3 (ipykernel)",
   "language": "python",
   "name": "python3"
  },
  "language_info": {
   "codemirror_mode": {
    "name": "ipython",
    "version": 3
   },
   "file_extension": ".py",
   "mimetype": "text/x-python",
   "name": "python",
   "nbconvert_exporter": "python",
   "pygments_lexer": "ipython3",
   "version": "3.9.12"
  }
 },
 "nbformat": 4,
 "nbformat_minor": 2
}
