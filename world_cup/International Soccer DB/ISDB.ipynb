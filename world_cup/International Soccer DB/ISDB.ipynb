{
 "cells": [
  {
   "cell_type": "code",
   "execution_count": 1,
   "id": "5c95e16e",
   "metadata": {},
   "outputs": [],
   "source": [
    "import pandas as pd\n",
    "import numpy as np"
   ]
  },
  {
   "cell_type": "code",
   "execution_count": 2,
   "id": "4a6594e0",
   "metadata": {},
   "outputs": [],
   "source": [
    "df1 = pd.read_csv('isdbv1.csv')"
   ]
  },
  {
   "cell_type": "code",
   "execution_count": 3,
   "id": "c8e92990",
   "metadata": {},
   "outputs": [],
   "source": [
    "df2 = pd.read_csv('isdbv2.csv')"
   ]
  },
  {
   "cell_type": "code",
   "execution_count": 4,
   "id": "8c44f858",
   "metadata": {},
   "outputs": [
    {
     "data": {
      "text/html": [
       "<div>\n",
       "<style scoped>\n",
       "    .dataframe tbody tr th:only-of-type {\n",
       "        vertical-align: middle;\n",
       "    }\n",
       "\n",
       "    .dataframe tbody tr th {\n",
       "        vertical-align: top;\n",
       "    }\n",
       "\n",
       "    .dataframe thead th {\n",
       "        text-align: right;\n",
       "    }\n",
       "</style>\n",
       "<table border=\"1\" class=\"dataframe\">\n",
       "  <thead>\n",
       "    <tr style=\"text-align: right;\">\n",
       "      <th></th>\n",
       "      <th>Sea</th>\n",
       "      <th>Lge</th>\n",
       "      <th>Date</th>\n",
       "      <th>HT</th>\n",
       "      <th>AT</th>\n",
       "      <th>HS</th>\n",
       "      <th>AS</th>\n",
       "      <th>GD</th>\n",
       "      <th>WDL</th>\n",
       "    </tr>\n",
       "  </thead>\n",
       "  <tbody>\n",
       "    <tr>\n",
       "      <th>0</th>\n",
       "      <td>00-01</td>\n",
       "      <td>GER1</td>\n",
       "      <td>11/8/00</td>\n",
       "      <td>Dortmund</td>\n",
       "      <td>Hansa Rostock</td>\n",
       "      <td>1</td>\n",
       "      <td>0</td>\n",
       "      <td>1</td>\n",
       "      <td>W</td>\n",
       "    </tr>\n",
       "    <tr>\n",
       "      <th>1</th>\n",
       "      <td>00-01</td>\n",
       "      <td>GER1</td>\n",
       "      <td>12/8/00</td>\n",
       "      <td>Bayern Munich</td>\n",
       "      <td>Hertha Berlin</td>\n",
       "      <td>4</td>\n",
       "      <td>1</td>\n",
       "      <td>3</td>\n",
       "      <td>W</td>\n",
       "    </tr>\n",
       "    <tr>\n",
       "      <th>2</th>\n",
       "      <td>00-01</td>\n",
       "      <td>GER1</td>\n",
       "      <td>12/8/00</td>\n",
       "      <td>Freiburg</td>\n",
       "      <td>VfB Stuttgart</td>\n",
       "      <td>4</td>\n",
       "      <td>0</td>\n",
       "      <td>4</td>\n",
       "      <td>W</td>\n",
       "    </tr>\n",
       "    <tr>\n",
       "      <th>3</th>\n",
       "      <td>00-01</td>\n",
       "      <td>GER1</td>\n",
       "      <td>12/8/00</td>\n",
       "      <td>Hamburger SV</td>\n",
       "      <td>Munich 1860</td>\n",
       "      <td>2</td>\n",
       "      <td>2</td>\n",
       "      <td>0</td>\n",
       "      <td>D</td>\n",
       "    </tr>\n",
       "    <tr>\n",
       "      <th>4</th>\n",
       "      <td>00-01</td>\n",
       "      <td>GER1</td>\n",
       "      <td>12/8/00</td>\n",
       "      <td>Kaiserslautern</td>\n",
       "      <td>Bochum</td>\n",
       "      <td>0</td>\n",
       "      <td>1</td>\n",
       "      <td>-1</td>\n",
       "      <td>L</td>\n",
       "    </tr>\n",
       "    <tr>\n",
       "      <th>...</th>\n",
       "      <td>...</td>\n",
       "      <td>...</td>\n",
       "      <td>...</td>\n",
       "      <td>...</td>\n",
       "      <td>...</td>\n",
       "      <td>...</td>\n",
       "      <td>...</td>\n",
       "      <td>...</td>\n",
       "      <td>...</td>\n",
       "    </tr>\n",
       "    <tr>\n",
       "      <th>218911</th>\n",
       "      <td>16-17</td>\n",
       "      <td>ZAF1</td>\n",
       "      <td>27/05/2017</td>\n",
       "      <td>Ajax Cape Town</td>\n",
       "      <td>Baroka FC</td>\n",
       "      <td>0</td>\n",
       "      <td>1</td>\n",
       "      <td>-1</td>\n",
       "      <td>L</td>\n",
       "    </tr>\n",
       "    <tr>\n",
       "      <th>218912</th>\n",
       "      <td>16-17</td>\n",
       "      <td>ZAF1</td>\n",
       "      <td>27/05/2017</td>\n",
       "      <td>Free State Stars</td>\n",
       "      <td>Chippa United</td>\n",
       "      <td>0</td>\n",
       "      <td>0</td>\n",
       "      <td>0</td>\n",
       "      <td>D</td>\n",
       "    </tr>\n",
       "    <tr>\n",
       "      <th>218913</th>\n",
       "      <td>16-17</td>\n",
       "      <td>ZAF1</td>\n",
       "      <td>27/05/2017</td>\n",
       "      <td>Polokwane City</td>\n",
       "      <td>Cape Town City FC</td>\n",
       "      <td>4</td>\n",
       "      <td>2</td>\n",
       "      <td>2</td>\n",
       "      <td>W</td>\n",
       "    </tr>\n",
       "    <tr>\n",
       "      <th>218914</th>\n",
       "      <td>16-17</td>\n",
       "      <td>ZAF1</td>\n",
       "      <td>27/05/2017</td>\n",
       "      <td>Maritzburg United</td>\n",
       "      <td>Bloemfontein Celtic</td>\n",
       "      <td>1</td>\n",
       "      <td>1</td>\n",
       "      <td>0</td>\n",
       "      <td>D</td>\n",
       "    </tr>\n",
       "    <tr>\n",
       "      <th>218915</th>\n",
       "      <td>16-17</td>\n",
       "      <td>ZAF1</td>\n",
       "      <td>27/05/2017</td>\n",
       "      <td>Highlands Park</td>\n",
       "      <td>Mamelodi Sundowns</td>\n",
       "      <td>2</td>\n",
       "      <td>2</td>\n",
       "      <td>0</td>\n",
       "      <td>D</td>\n",
       "    </tr>\n",
       "  </tbody>\n",
       "</table>\n",
       "<p>218916 rows × 9 columns</p>\n",
       "</div>"
      ],
      "text/plain": [
       "          Sea   Lge        Date                 HT                   AT  HS  \\\n",
       "0       00-01  GER1     11/8/00           Dortmund        Hansa Rostock   1   \n",
       "1       00-01  GER1     12/8/00      Bayern Munich        Hertha Berlin   4   \n",
       "2       00-01  GER1     12/8/00           Freiburg        VfB Stuttgart   4   \n",
       "3       00-01  GER1     12/8/00       Hamburger SV          Munich 1860   2   \n",
       "4       00-01  GER1     12/8/00     Kaiserslautern               Bochum   0   \n",
       "...       ...   ...         ...                ...                  ...  ..   \n",
       "218911  16-17  ZAF1  27/05/2017     Ajax Cape Town            Baroka FC   0   \n",
       "218912  16-17  ZAF1  27/05/2017   Free State Stars        Chippa United   0   \n",
       "218913  16-17  ZAF1  27/05/2017     Polokwane City    Cape Town City FC   4   \n",
       "218914  16-17  ZAF1  27/05/2017  Maritzburg United  Bloemfontein Celtic   1   \n",
       "218915  16-17  ZAF1  27/05/2017     Highlands Park    Mamelodi Sundowns   2   \n",
       "\n",
       "        AS  GD WDL  \n",
       "0        0   1   W  \n",
       "1        1   3   W  \n",
       "2        0   4   W  \n",
       "3        2   0   D  \n",
       "4        1  -1   L  \n",
       "...     ..  ..  ..  \n",
       "218911   1  -1   L  \n",
       "218912   0   0   D  \n",
       "218913   2   2   W  \n",
       "218914   1   0   D  \n",
       "218915   2   0   D  \n",
       "\n",
       "[218916 rows x 9 columns]"
      ]
     },
     "execution_count": 4,
     "metadata": {},
     "output_type": "execute_result"
    }
   ],
   "source": [
    "df2"
   ]
  },
  {
   "cell_type": "code",
   "execution_count": 5,
   "id": "f75b320d",
   "metadata": {},
   "outputs": [
    {
     "data": {
      "text/html": [
       "<div>\n",
       "<style scoped>\n",
       "    .dataframe tbody tr th:only-of-type {\n",
       "        vertical-align: middle;\n",
       "    }\n",
       "\n",
       "    .dataframe tbody tr th {\n",
       "        vertical-align: top;\n",
       "    }\n",
       "\n",
       "    .dataframe thead th {\n",
       "        text-align: right;\n",
       "    }\n",
       "</style>\n",
       "<table border=\"1\" class=\"dataframe\">\n",
       "  <thead>\n",
       "    <tr style=\"text-align: right;\">\n",
       "      <th></th>\n",
       "      <th>Sea</th>\n",
       "      <th>Lge</th>\n",
       "      <th>Date</th>\n",
       "      <th>HT</th>\n",
       "      <th>AT</th>\n",
       "      <th>HS</th>\n",
       "      <th>AS</th>\n",
       "      <th>GD</th>\n",
       "      <th>WDL</th>\n",
       "    </tr>\n",
       "  </thead>\n",
       "  <tbody>\n",
       "    <tr>\n",
       "      <th>0</th>\n",
       "      <td>00-01</td>\n",
       "      <td>GER1</td>\n",
       "      <td>11/8/00</td>\n",
       "      <td>Dortmund</td>\n",
       "      <td>Hansa Rostock</td>\n",
       "      <td>1</td>\n",
       "      <td>0</td>\n",
       "      <td>1</td>\n",
       "      <td>W</td>\n",
       "    </tr>\n",
       "    <tr>\n",
       "      <th>1</th>\n",
       "      <td>00-01</td>\n",
       "      <td>GER1</td>\n",
       "      <td>12/8/00</td>\n",
       "      <td>Bayern Munich</td>\n",
       "      <td>Hertha Berlin</td>\n",
       "      <td>4</td>\n",
       "      <td>1</td>\n",
       "      <td>3</td>\n",
       "      <td>W</td>\n",
       "    </tr>\n",
       "    <tr>\n",
       "      <th>2</th>\n",
       "      <td>00-01</td>\n",
       "      <td>GER1</td>\n",
       "      <td>12/8/00</td>\n",
       "      <td>Freiburg</td>\n",
       "      <td>VfB Stuttgart</td>\n",
       "      <td>4</td>\n",
       "      <td>0</td>\n",
       "      <td>4</td>\n",
       "      <td>W</td>\n",
       "    </tr>\n",
       "    <tr>\n",
       "      <th>3</th>\n",
       "      <td>00-01</td>\n",
       "      <td>GER1</td>\n",
       "      <td>12/8/00</td>\n",
       "      <td>Hamburger SV</td>\n",
       "      <td>Munich 1860</td>\n",
       "      <td>2</td>\n",
       "      <td>2</td>\n",
       "      <td>0</td>\n",
       "      <td>D</td>\n",
       "    </tr>\n",
       "    <tr>\n",
       "      <th>4</th>\n",
       "      <td>00-01</td>\n",
       "      <td>GER1</td>\n",
       "      <td>12/8/00</td>\n",
       "      <td>Kaiserslautern</td>\n",
       "      <td>Bochum</td>\n",
       "      <td>0</td>\n",
       "      <td>1</td>\n",
       "      <td>-1</td>\n",
       "      <td>L</td>\n",
       "    </tr>\n",
       "    <tr>\n",
       "      <th>...</th>\n",
       "      <td>...</td>\n",
       "      <td>...</td>\n",
       "      <td>...</td>\n",
       "      <td>...</td>\n",
       "      <td>...</td>\n",
       "      <td>...</td>\n",
       "      <td>...</td>\n",
       "      <td>...</td>\n",
       "      <td>...</td>\n",
       "    </tr>\n",
       "    <tr>\n",
       "      <th>216738</th>\n",
       "      <td>17-18</td>\n",
       "      <td>VEN1</td>\n",
       "      <td>19/03/2017</td>\n",
       "      <td>Atletico Socopo</td>\n",
       "      <td>Monagas</td>\n",
       "      <td>0</td>\n",
       "      <td>2</td>\n",
       "      <td>-2</td>\n",
       "      <td>L</td>\n",
       "    </tr>\n",
       "    <tr>\n",
       "      <th>216739</th>\n",
       "      <td>17-18</td>\n",
       "      <td>VEN1</td>\n",
       "      <td>19/03/2017</td>\n",
       "      <td>Portuguesa FC</td>\n",
       "      <td>Trujillanos FC</td>\n",
       "      <td>0</td>\n",
       "      <td>0</td>\n",
       "      <td>0</td>\n",
       "      <td>D</td>\n",
       "    </tr>\n",
       "    <tr>\n",
       "      <th>216740</th>\n",
       "      <td>17-18</td>\n",
       "      <td>VEN1</td>\n",
       "      <td>19/03/2017</td>\n",
       "      <td>Mineros de Guayana</td>\n",
       "      <td>Aragua FC</td>\n",
       "      <td>3</td>\n",
       "      <td>3</td>\n",
       "      <td>0</td>\n",
       "      <td>D</td>\n",
       "    </tr>\n",
       "    <tr>\n",
       "      <th>216741</th>\n",
       "      <td>17-18</td>\n",
       "      <td>VEN1</td>\n",
       "      <td>19/03/2017</td>\n",
       "      <td>Deportivo Tachira</td>\n",
       "      <td>Deportivo Lara</td>\n",
       "      <td>4</td>\n",
       "      <td>1</td>\n",
       "      <td>3</td>\n",
       "      <td>W</td>\n",
       "    </tr>\n",
       "    <tr>\n",
       "      <th>216742</th>\n",
       "      <td>17-18</td>\n",
       "      <td>VEN1</td>\n",
       "      <td>19/03/2017</td>\n",
       "      <td>Zulia FC</td>\n",
       "      <td>Zamora FC</td>\n",
       "      <td>3</td>\n",
       "      <td>0</td>\n",
       "      <td>3</td>\n",
       "      <td>W</td>\n",
       "    </tr>\n",
       "  </tbody>\n",
       "</table>\n",
       "<p>216743 rows × 9 columns</p>\n",
       "</div>"
      ],
      "text/plain": [
       "          Sea   Lge        Date                  HT              AT  HS  AS  \\\n",
       "0       00-01  GER1     11/8/00            Dortmund   Hansa Rostock   1   0   \n",
       "1       00-01  GER1     12/8/00       Bayern Munich   Hertha Berlin   4   1   \n",
       "2       00-01  GER1     12/8/00            Freiburg   VfB Stuttgart   4   0   \n",
       "3       00-01  GER1     12/8/00        Hamburger SV     Munich 1860   2   2   \n",
       "4       00-01  GER1     12/8/00      Kaiserslautern          Bochum   0   1   \n",
       "...       ...   ...         ...                 ...             ...  ..  ..   \n",
       "216738  17-18  VEN1  19/03/2017     Atletico Socopo         Monagas   0   2   \n",
       "216739  17-18  VEN1  19/03/2017       Portuguesa FC  Trujillanos FC   0   0   \n",
       "216740  17-18  VEN1  19/03/2017  Mineros de Guayana       Aragua FC   3   3   \n",
       "216741  17-18  VEN1  19/03/2017   Deportivo Tachira  Deportivo Lara   4   1   \n",
       "216742  17-18  VEN1  19/03/2017            Zulia FC       Zamora FC   3   0   \n",
       "\n",
       "        GD WDL  \n",
       "0        1   W  \n",
       "1        3   W  \n",
       "2        4   W  \n",
       "3        0   D  \n",
       "4       -1   L  \n",
       "...     ..  ..  \n",
       "216738  -2   L  \n",
       "216739   0   D  \n",
       "216740   0   D  \n",
       "216741   3   W  \n",
       "216742   3   W  \n",
       "\n",
       "[216743 rows x 9 columns]"
      ]
     },
     "execution_count": 5,
     "metadata": {},
     "output_type": "execute_result"
    }
   ],
   "source": [
    "df1"
   ]
  },
  {
   "cell_type": "code",
   "execution_count": 6,
   "id": "cd485f39",
   "metadata": {},
   "outputs": [
    {
     "data": {
      "text/plain": [
       "(216743, 9)"
      ]
     },
     "execution_count": 6,
     "metadata": {},
     "output_type": "execute_result"
    }
   ],
   "source": [
    "df1.shape"
   ]
  },
  {
   "cell_type": "code",
   "execution_count": 7,
   "id": "b763bb85",
   "metadata": {},
   "outputs": [
    {
     "data": {
      "text/plain": [
       "(218916, 9)"
      ]
     },
     "execution_count": 7,
     "metadata": {},
     "output_type": "execute_result"
    }
   ],
   "source": [
    "df2.shape"
   ]
  },
  {
   "cell_type": "code",
   "execution_count": 8,
   "id": "e193d14a",
   "metadata": {},
   "outputs": [
    {
     "data": {
      "text/html": [
       "<div>\n",
       "<style scoped>\n",
       "    .dataframe tbody tr th:only-of-type {\n",
       "        vertical-align: middle;\n",
       "    }\n",
       "\n",
       "    .dataframe tbody tr th {\n",
       "        vertical-align: top;\n",
       "    }\n",
       "\n",
       "    .dataframe thead th {\n",
       "        text-align: right;\n",
       "    }\n",
       "</style>\n",
       "<table border=\"1\" class=\"dataframe\">\n",
       "  <thead>\n",
       "    <tr style=\"text-align: right;\">\n",
       "      <th></th>\n",
       "      <th>Sea</th>\n",
       "      <th>Lge</th>\n",
       "      <th>Date</th>\n",
       "      <th>HT</th>\n",
       "      <th>AT</th>\n",
       "      <th>HS</th>\n",
       "      <th>AS</th>\n",
       "      <th>GD</th>\n",
       "      <th>WDL</th>\n",
       "    </tr>\n",
       "  </thead>\n",
       "  <tbody>\n",
       "    <tr>\n",
       "      <th>216738</th>\n",
       "      <td>17-18</td>\n",
       "      <td>VEN1</td>\n",
       "      <td>19/03/2017</td>\n",
       "      <td>Atletico Socopo</td>\n",
       "      <td>Monagas</td>\n",
       "      <td>0</td>\n",
       "      <td>2</td>\n",
       "      <td>-2</td>\n",
       "      <td>L</td>\n",
       "    </tr>\n",
       "    <tr>\n",
       "      <th>216739</th>\n",
       "      <td>17-18</td>\n",
       "      <td>VEN1</td>\n",
       "      <td>19/03/2017</td>\n",
       "      <td>Portuguesa FC</td>\n",
       "      <td>Trujillanos FC</td>\n",
       "      <td>0</td>\n",
       "      <td>0</td>\n",
       "      <td>0</td>\n",
       "      <td>D</td>\n",
       "    </tr>\n",
       "    <tr>\n",
       "      <th>216740</th>\n",
       "      <td>17-18</td>\n",
       "      <td>VEN1</td>\n",
       "      <td>19/03/2017</td>\n",
       "      <td>Mineros de Guayana</td>\n",
       "      <td>Aragua FC</td>\n",
       "      <td>3</td>\n",
       "      <td>3</td>\n",
       "      <td>0</td>\n",
       "      <td>D</td>\n",
       "    </tr>\n",
       "    <tr>\n",
       "      <th>216741</th>\n",
       "      <td>17-18</td>\n",
       "      <td>VEN1</td>\n",
       "      <td>19/03/2017</td>\n",
       "      <td>Deportivo Tachira</td>\n",
       "      <td>Deportivo Lara</td>\n",
       "      <td>4</td>\n",
       "      <td>1</td>\n",
       "      <td>3</td>\n",
       "      <td>W</td>\n",
       "    </tr>\n",
       "    <tr>\n",
       "      <th>216742</th>\n",
       "      <td>17-18</td>\n",
       "      <td>VEN1</td>\n",
       "      <td>19/03/2017</td>\n",
       "      <td>Zulia FC</td>\n",
       "      <td>Zamora FC</td>\n",
       "      <td>3</td>\n",
       "      <td>0</td>\n",
       "      <td>3</td>\n",
       "      <td>W</td>\n",
       "    </tr>\n",
       "  </tbody>\n",
       "</table>\n",
       "</div>"
      ],
      "text/plain": [
       "          Sea   Lge        Date                  HT              AT  HS  AS  \\\n",
       "216738  17-18  VEN1  19/03/2017     Atletico Socopo         Monagas   0   2   \n",
       "216739  17-18  VEN1  19/03/2017       Portuguesa FC  Trujillanos FC   0   0   \n",
       "216740  17-18  VEN1  19/03/2017  Mineros de Guayana       Aragua FC   3   3   \n",
       "216741  17-18  VEN1  19/03/2017   Deportivo Tachira  Deportivo Lara   4   1   \n",
       "216742  17-18  VEN1  19/03/2017            Zulia FC       Zamora FC   3   0   \n",
       "\n",
       "        GD WDL  \n",
       "216738  -2   L  \n",
       "216739   0   D  \n",
       "216740   0   D  \n",
       "216741   3   W  \n",
       "216742   3   W  "
      ]
     },
     "execution_count": 8,
     "metadata": {},
     "output_type": "execute_result"
    }
   ],
   "source": [
    "df1.tail()"
   ]
  },
  {
   "cell_type": "code",
   "execution_count": 9,
   "id": "afb49834",
   "metadata": {},
   "outputs": [
    {
     "data": {
      "text/html": [
       "<div>\n",
       "<style scoped>\n",
       "    .dataframe tbody tr th:only-of-type {\n",
       "        vertical-align: middle;\n",
       "    }\n",
       "\n",
       "    .dataframe tbody tr th {\n",
       "        vertical-align: top;\n",
       "    }\n",
       "\n",
       "    .dataframe thead th {\n",
       "        text-align: right;\n",
       "    }\n",
       "</style>\n",
       "<table border=\"1\" class=\"dataframe\">\n",
       "  <thead>\n",
       "    <tr style=\"text-align: right;\">\n",
       "      <th></th>\n",
       "      <th>Sea</th>\n",
       "      <th>Lge</th>\n",
       "      <th>Date</th>\n",
       "      <th>HT</th>\n",
       "      <th>AT</th>\n",
       "      <th>HS</th>\n",
       "      <th>AS</th>\n",
       "      <th>GD</th>\n",
       "      <th>WDL</th>\n",
       "    </tr>\n",
       "  </thead>\n",
       "  <tbody>\n",
       "    <tr>\n",
       "      <th>218911</th>\n",
       "      <td>16-17</td>\n",
       "      <td>ZAF1</td>\n",
       "      <td>27/05/2017</td>\n",
       "      <td>Ajax Cape Town</td>\n",
       "      <td>Baroka FC</td>\n",
       "      <td>0</td>\n",
       "      <td>1</td>\n",
       "      <td>-1</td>\n",
       "      <td>L</td>\n",
       "    </tr>\n",
       "    <tr>\n",
       "      <th>218912</th>\n",
       "      <td>16-17</td>\n",
       "      <td>ZAF1</td>\n",
       "      <td>27/05/2017</td>\n",
       "      <td>Free State Stars</td>\n",
       "      <td>Chippa United</td>\n",
       "      <td>0</td>\n",
       "      <td>0</td>\n",
       "      <td>0</td>\n",
       "      <td>D</td>\n",
       "    </tr>\n",
       "    <tr>\n",
       "      <th>218913</th>\n",
       "      <td>16-17</td>\n",
       "      <td>ZAF1</td>\n",
       "      <td>27/05/2017</td>\n",
       "      <td>Polokwane City</td>\n",
       "      <td>Cape Town City FC</td>\n",
       "      <td>4</td>\n",
       "      <td>2</td>\n",
       "      <td>2</td>\n",
       "      <td>W</td>\n",
       "    </tr>\n",
       "    <tr>\n",
       "      <th>218914</th>\n",
       "      <td>16-17</td>\n",
       "      <td>ZAF1</td>\n",
       "      <td>27/05/2017</td>\n",
       "      <td>Maritzburg United</td>\n",
       "      <td>Bloemfontein Celtic</td>\n",
       "      <td>1</td>\n",
       "      <td>1</td>\n",
       "      <td>0</td>\n",
       "      <td>D</td>\n",
       "    </tr>\n",
       "    <tr>\n",
       "      <th>218915</th>\n",
       "      <td>16-17</td>\n",
       "      <td>ZAF1</td>\n",
       "      <td>27/05/2017</td>\n",
       "      <td>Highlands Park</td>\n",
       "      <td>Mamelodi Sundowns</td>\n",
       "      <td>2</td>\n",
       "      <td>2</td>\n",
       "      <td>0</td>\n",
       "      <td>D</td>\n",
       "    </tr>\n",
       "  </tbody>\n",
       "</table>\n",
       "</div>"
      ],
      "text/plain": [
       "          Sea   Lge        Date                 HT                   AT  HS  \\\n",
       "218911  16-17  ZAF1  27/05/2017     Ajax Cape Town            Baroka FC   0   \n",
       "218912  16-17  ZAF1  27/05/2017   Free State Stars        Chippa United   0   \n",
       "218913  16-17  ZAF1  27/05/2017     Polokwane City    Cape Town City FC   4   \n",
       "218914  16-17  ZAF1  27/05/2017  Maritzburg United  Bloemfontein Celtic   1   \n",
       "218915  16-17  ZAF1  27/05/2017     Highlands Park    Mamelodi Sundowns   2   \n",
       "\n",
       "        AS  GD WDL  \n",
       "218911   1  -1   L  \n",
       "218912   0   0   D  \n",
       "218913   2   2   W  \n",
       "218914   1   0   D  \n",
       "218915   2   0   D  "
      ]
     },
     "execution_count": 9,
     "metadata": {},
     "output_type": "execute_result"
    }
   ],
   "source": [
    "df2.tail()"
   ]
  },
  {
   "cell_type": "code",
   "execution_count": 10,
   "id": "0008fa8b",
   "metadata": {},
   "outputs": [
    {
     "name": "stdout",
     "output_type": "stream",
     "text": [
      "<class 'pandas.core.frame.DataFrame'>\n",
      "RangeIndex: 218916 entries, 0 to 218915\n",
      "Data columns (total 9 columns):\n",
      " #   Column  Non-Null Count   Dtype \n",
      "---  ------  --------------   ----- \n",
      " 0   Sea     218916 non-null  object\n",
      " 1   Lge     218916 non-null  object\n",
      " 2   Date    218916 non-null  object\n",
      " 3   HT      218916 non-null  object\n",
      " 4   AT      218916 non-null  object\n",
      " 5   HS      218916 non-null  int64 \n",
      " 6   AS      218916 non-null  int64 \n",
      " 7   GD      218916 non-null  int64 \n",
      " 8   WDL     218916 non-null  object\n",
      "dtypes: int64(3), object(6)\n",
      "memory usage: 15.0+ MB\n"
     ]
    }
   ],
   "source": [
    "df2.info()"
   ]
  },
  {
   "cell_type": "code",
   "execution_count": 12,
   "id": "f322a7d6",
   "metadata": {},
   "outputs": [
    {
     "data": {
      "text/html": [
       "<div>\n",
       "<style scoped>\n",
       "    .dataframe tbody tr th:only-of-type {\n",
       "        vertical-align: middle;\n",
       "    }\n",
       "\n",
       "    .dataframe tbody tr th {\n",
       "        vertical-align: top;\n",
       "    }\n",
       "\n",
       "    .dataframe thead th {\n",
       "        text-align: right;\n",
       "    }\n",
       "</style>\n",
       "<table border=\"1\" class=\"dataframe\">\n",
       "  <thead>\n",
       "    <tr style=\"text-align: right;\">\n",
       "      <th></th>\n",
       "      <th>HS</th>\n",
       "      <th>AS</th>\n",
       "      <th>GD</th>\n",
       "    </tr>\n",
       "  </thead>\n",
       "  <tbody>\n",
       "    <tr>\n",
       "      <th>count</th>\n",
       "      <td>218916.000000</td>\n",
       "      <td>218916.000000</td>\n",
       "      <td>218916.000000</td>\n",
       "    </tr>\n",
       "    <tr>\n",
       "      <th>mean</th>\n",
       "      <td>1.483606</td>\n",
       "      <td>1.110896</td>\n",
       "      <td>0.372709</td>\n",
       "    </tr>\n",
       "    <tr>\n",
       "      <th>std</th>\n",
       "      <td>1.251810</td>\n",
       "      <td>1.093406</td>\n",
       "      <td>1.669193</td>\n",
       "    </tr>\n",
       "    <tr>\n",
       "      <th>min</th>\n",
       "      <td>0.000000</td>\n",
       "      <td>0.000000</td>\n",
       "      <td>-10.000000</td>\n",
       "    </tr>\n",
       "    <tr>\n",
       "      <th>25%</th>\n",
       "      <td>1.000000</td>\n",
       "      <td>0.000000</td>\n",
       "      <td>-1.000000</td>\n",
       "    </tr>\n",
       "    <tr>\n",
       "      <th>50%</th>\n",
       "      <td>1.000000</td>\n",
       "      <td>1.000000</td>\n",
       "      <td>0.000000</td>\n",
       "    </tr>\n",
       "    <tr>\n",
       "      <th>75%</th>\n",
       "      <td>2.000000</td>\n",
       "      <td>2.000000</td>\n",
       "      <td>1.000000</td>\n",
       "    </tr>\n",
       "    <tr>\n",
       "      <th>max</th>\n",
       "      <td>11.000000</td>\n",
       "      <td>10.000000</td>\n",
       "      <td>10.000000</td>\n",
       "    </tr>\n",
       "  </tbody>\n",
       "</table>\n",
       "</div>"
      ],
      "text/plain": [
       "                  HS             AS             GD\n",
       "count  218916.000000  218916.000000  218916.000000\n",
       "mean        1.483606       1.110896       0.372709\n",
       "std         1.251810       1.093406       1.669193\n",
       "min         0.000000       0.000000     -10.000000\n",
       "25%         1.000000       0.000000      -1.000000\n",
       "50%         1.000000       1.000000       0.000000\n",
       "75%         2.000000       2.000000       1.000000\n",
       "max        11.000000      10.000000      10.000000"
      ]
     },
     "execution_count": 12,
     "metadata": {},
     "output_type": "execute_result"
    }
   ],
   "source": [
    "df2.describe()"
   ]
  },
  {
   "cell_type": "code",
   "execution_count": 13,
   "id": "8bf52950",
   "metadata": {},
   "outputs": [
    {
     "data": {
      "text/plain": [
       "W    99459\n",
       "L    60188\n",
       "D    59269\n",
       "Name: WDL, dtype: int64"
      ]
     },
     "execution_count": 13,
     "metadata": {},
     "output_type": "execute_result"
    }
   ],
   "source": [
    "df2['WDL'].value_counts()"
   ]
  },
  {
   "cell_type": "code",
   "execution_count": 20,
   "id": "9f36ebe1",
   "metadata": {},
   "outputs": [
    {
     "data": {
      "text/plain": [
       "(218916, 9)"
      ]
     },
     "execution_count": 20,
     "metadata": {},
     "output_type": "execute_result"
    }
   ],
   "source": [
    "df2.shape"
   ]
  },
  {
   "cell_type": "code",
   "execution_count": 21,
   "id": "dc264bdf",
   "metadata": {},
   "outputs": [
    {
     "data": {
      "text/plain": [
       "218916"
      ]
     },
     "execution_count": 21,
     "metadata": {},
     "output_type": "execute_result"
    }
   ],
   "source": [
    "99459+60188+59269"
   ]
  },
  {
   "cell_type": "code",
   "execution_count": 14,
   "id": "024a9250",
   "metadata": {},
   "outputs": [
    {
     "data": {
      "text/plain": [
       " 0     59269\n",
       " 1     50335\n",
       "-1     34991\n",
       " 2     28783\n",
       "-2     16381\n",
       " 3     13108\n",
       "-3      6114\n",
       " 4      4885\n",
       "-4      1966\n",
       " 5      1624\n",
       "-5       540\n",
       " 6       520\n",
       " 7       158\n",
       "-6       152\n",
       " 8        34\n",
       "-7        28\n",
       "-8        10\n",
       " 9         9\n",
       "-9         5\n",
       " 10        3\n",
       "-10        1\n",
       "Name: GD, dtype: int64"
      ]
     },
     "execution_count": 14,
     "metadata": {},
     "output_type": "execute_result"
    }
   ],
   "source": [
    "df2['GD'].value_counts()"
   ]
  },
  {
   "cell_type": "code",
   "execution_count": 15,
   "id": "c29b3865",
   "metadata": {},
   "outputs": [
    {
     "data": {
      "text/plain": [
       "1     73391\n",
       "2     53221\n",
       "0     51128\n",
       "3     26283\n",
       "4     10230\n",
       "5      3274\n",
       "6      1028\n",
       "7       275\n",
       "8        61\n",
       "9        19\n",
       "10        5\n",
       "11        1\n",
       "Name: HS, dtype: int64"
      ]
     },
     "execution_count": 15,
     "metadata": {},
     "output_type": "execute_result"
    }
   ],
   "source": [
    "df2['HS'].value_counts()"
   ]
  },
  {
   "cell_type": "code",
   "execution_count": 28,
   "id": "7ba9827a",
   "metadata": {},
   "outputs": [
    {
     "data": {
      "text/plain": [
       "218916"
      ]
     },
     "execution_count": 28,
     "metadata": {},
     "output_type": "execute_result"
    }
   ],
   "source": [
    "df2['HS'].value_counts().sum()"
   ]
  },
  {
   "cell_type": "code",
   "execution_count": 27,
   "id": "4d1c3f0a",
   "metadata": {},
   "outputs": [
    {
     "data": {
      "text/plain": [
       "324713"
      ]
     },
     "execution_count": 27,
     "metadata": {},
     "output_type": "execute_result"
    }
   ],
   "source": [
    "11+50+(9*11)+(8*61)+(7*275)+(6*1028)+(5*3274)+(4*10230)+(3*26283)+(2*53221)+73391"
   ]
  },
  {
   "cell_type": "code",
   "execution_count": 29,
   "id": "fbeae1df",
   "metadata": {},
   "outputs": [
    {
     "data": {
      "text/plain": [
       "1     78486\n",
       "0     74508\n",
       "2     42510\n",
       "3     16417\n",
       "4      5154\n",
       "5      1357\n",
       "6       387\n",
       "7        72\n",
       "8        17\n",
       "9         7\n",
       "10        1\n",
       "Name: AS, dtype: int64"
      ]
     },
     "execution_count": 29,
     "metadata": {},
     "output_type": "execute_result"
    }
   ],
   "source": [
    "df2['AS'].value_counts()"
   ]
  },
  {
   "cell_type": "code",
   "execution_count": 35,
   "id": "5c1c83e8",
   "metadata": {},
   "outputs": [
    {
     "data": {
      "text/plain": [
       "243193"
      ]
     },
     "execution_count": 35,
     "metadata": {},
     "output_type": "execute_result"
    }
   ],
   "source": [
    "10+63+(8*17)+(7*72)+(6*387)+(5*1357)+(4*5154)+(3*16417)+(2*42510)+78486"
   ]
  },
  {
   "cell_type": "markdown",
   "id": "7fd8a0a1",
   "metadata": {},
   "source": [
    "## HOME GOALS: 324,713\n",
    "## AWAY GOALS: 243,193\n",
    "## NUMBER OF MATCHES: 218,916"
   ]
  },
  {
   "cell_type": "markdown",
   "id": "c10959ea",
   "metadata": {},
   "source": [
    "HOME GOALS PER GAME"
   ]
  },
  {
   "cell_type": "code",
   "execution_count": 36,
   "id": "5c456efa",
   "metadata": {},
   "outputs": [
    {
     "data": {
      "text/plain": [
       "1.4832766906027883"
      ]
     },
     "execution_count": 36,
     "metadata": {},
     "output_type": "execute_result"
    }
   ],
   "source": [
    "324713/218916"
   ]
  },
  {
   "cell_type": "markdown",
   "id": "86ece701",
   "metadata": {},
   "source": [
    "AWAY GOALS PER GAME"
   ]
  },
  {
   "cell_type": "code",
   "execution_count": 37,
   "id": "eadd304d",
   "metadata": {},
   "outputs": [
    {
     "data": {
      "text/plain": [
       "1.110896416890497"
      ]
     },
     "execution_count": 37,
     "metadata": {},
     "output_type": "execute_result"
    }
   ],
   "source": [
    "243193/218916"
   ]
  },
  {
   "cell_type": "markdown",
   "id": "cccc1862",
   "metadata": {},
   "source": [
    "TOTAL GOALS PER GAME"
   ]
  },
  {
   "cell_type": "code",
   "execution_count": 38,
   "id": "4dc4799e",
   "metadata": {},
   "outputs": [
    {
     "data": {
      "text/plain": [
       "2.594173107493285"
      ]
     },
     "execution_count": 38,
     "metadata": {},
     "output_type": "execute_result"
    }
   ],
   "source": [
    "(324713+243193)/218916"
   ]
  },
  {
   "cell_type": "code",
   "execution_count": null,
   "id": "af9c20fd",
   "metadata": {},
   "outputs": [],
   "source": []
  }
 ],
 "metadata": {
  "kernelspec": {
   "display_name": "Python 3 (ipykernel)",
   "language": "python",
   "name": "python3"
  },
  "language_info": {
   "codemirror_mode": {
    "name": "ipython",
    "version": 3
   },
   "file_extension": ".py",
   "mimetype": "text/x-python",
   "name": "python",
   "nbconvert_exporter": "python",
   "pygments_lexer": "ipython3",
   "version": "3.9.12"
  }
 },
 "nbformat": 4,
 "nbformat_minor": 5
}
