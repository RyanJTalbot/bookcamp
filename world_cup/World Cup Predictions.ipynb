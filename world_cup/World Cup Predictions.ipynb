{
 "cells": [
  {
   "cell_type": "markdown",
   "id": "252f815f",
   "metadata": {},
   "source": [
    "https://github.com/neaorin/PredictTheWorldCup/blob/master/src/WorldCup.ipynb\n",
    "\n",
    "https://github.com/mrthlinh/FIFA-World-Cup-Prediction/blob/master/EDA/EDA.ipynb"
   ]
  },
  {
   "cell_type": "markdown",
   "id": "3c093ec0",
   "metadata": {},
   "source": [
    "# Objective"
   ]
  },
  {
   "cell_type": "markdown",
   "id": "3b483074",
   "metadata": {},
   "source": [
    "* Given a match between two teams, what is the expected goal differential at the end of the match?\n",
    "* Given a match between two teams, what is the expected percentage of `team1` winning.\n",
    "\n",
    "\n",
    "Note: The outcome value can be zero (for draws), positive (whenever team1 wins), or negative (whenever team2 wins the match)."
   ]
  },
  {
   "cell_type": "markdown",
   "id": "79a292e8",
   "metadata": {},
   "source": [
    "### The Data"
   ]
  },
  {
   "cell_type": "markdown",
   "id": "36cf9391",
   "metadata": {},
   "source": [
    "#### Matches\n",
    "\n",
    "We're going to use a dataset containing more than thirty-thousand international football matches played between 1950 and 2017. All these matches are played between senior men's national teams - there are no club matches, and no youth / women's games.\n",
    "\n",
    "The dataset is available as [CSV](https://raw.githubusercontent.com/neaorin/PredictTheWorldCup/master/input/matches.csv) and [JSON](https://raw.githubusercontent.com/neaorin/PredictTheWorldCup/master/input/matches.json) files.\n",
    "\n",
    "Below is a small sample from the JSON file:"
   ]
  },
  {
   "cell_type": "markdown",
   "id": "8e5a41ce",
   "metadata": {},
   "source": [
    "#### Teams\n",
    "\n",
    "We also have some information regarding the international associations and the FIFA confederations they are part of. We may find that useful when looking at past opponents of a team.\n",
    "\n",
    "This dataset is available as a CSV file."
   ]
  },
  {
   "cell_type": "markdown",
   "id": "6f352680",
   "metadata": {},
   "source": [
    "#### Qualified for the World Cup\n",
    "\n",
    "Last, we have a list of the teams which have qualified for the World Cup, and their group stage draw.\n",
    "\n",
    "This dataset is available as a CSV file."
   ]
  },
  {
   "cell_type": "code",
   "execution_count": 1,
   "id": "6352b531",
   "metadata": {},
   "outputs": [],
   "source": [
    "import csv\n",
    "import pandas as pd\n",
    "import numpy as np\n",
    "import time\n",
    "from sklearn.decomposition import PCA\n",
    "import matplotlib.pyplot as plt\n",
    "from scipy.stats import ttest_ind\n",
    "import datetime as dt\n",
    "import seaborn as sns\n",
    "plt.style.use('ggplot')"
   ]
  },
  {
   "cell_type": "code",
   "execution_count": null,
   "id": "92568f87",
   "metadata": {},
   "outputs": [],
   "source": []
  }
 ],
 "metadata": {
  "kernelspec": {
   "display_name": "Python 3 (ipykernel)",
   "language": "python",
   "name": "python3"
  },
  "language_info": {
   "codemirror_mode": {
    "name": "ipython",
    "version": 3
   },
   "file_extension": ".py",
   "mimetype": "text/x-python",
   "name": "python",
   "nbconvert_exporter": "python",
   "pygments_lexer": "ipython3",
   "version": "3.9.12"
  }
 },
 "nbformat": 4,
 "nbformat_minor": 5
}
