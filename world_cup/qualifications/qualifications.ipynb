{
 "cells": [
  {
   "cell_type": "code",
   "execution_count": 1,
   "metadata": {},
   "outputs": [],
   "source": [
    "import pandas as pd\n",
    "import numpy as np"
   ]
  },
  {
   "cell_type": "code",
   "execution_count": 2,
   "metadata": {},
   "outputs": [],
   "source": [
    "df = pd.read_csv('wc-qual.csv')"
   ]
  },
  {
   "cell_type": "code",
   "execution_count": 3,
   "metadata": {},
   "outputs": [
    {
     "data": {
      "text/html": [
       "<div>\n",
       "<style scoped>\n",
       "    .dataframe tbody tr th:only-of-type {\n",
       "        vertical-align: middle;\n",
       "    }\n",
       "\n",
       "    .dataframe tbody tr th {\n",
       "        vertical-align: top;\n",
       "    }\n",
       "\n",
       "    .dataframe thead th {\n",
       "        text-align: right;\n",
       "    }\n",
       "</style>\n",
       "<table border=\"1\" class=\"dataframe\">\n",
       "  <thead>\n",
       "    <tr style=\"text-align: right;\">\n",
       "      <th></th>\n",
       "      <th>team</th>\n",
       "      <th>elo_after_qual</th>\n",
       "      <th>first_qual</th>\n",
       "      <th>wc_results</th>\n",
       "      <th>W</th>\n",
       "      <th>D</th>\n",
       "      <th>L</th>\n",
       "      <th>GF</th>\n",
       "      <th>GA</th>\n",
       "      <th>GD</th>\n",
       "      <th>Pts</th>\n",
       "    </tr>\n",
       "  </thead>\n",
       "  <tbody>\n",
       "    <tr>\n",
       "      <th>0</th>\n",
       "      <td>France18</td>\n",
       "      <td>6</td>\n",
       "      <td>1</td>\n",
       "      <td>1</td>\n",
       "      <td>7</td>\n",
       "      <td>2</td>\n",
       "      <td>1</td>\n",
       "      <td>18</td>\n",
       "      <td>6</td>\n",
       "      <td>12</td>\n",
       "      <td>23</td>\n",
       "    </tr>\n",
       "    <tr>\n",
       "      <th>1</th>\n",
       "      <td>Sweden18</td>\n",
       "      <td>19</td>\n",
       "      <td>0</td>\n",
       "      <td>7</td>\n",
       "      <td>6</td>\n",
       "      <td>1</td>\n",
       "      <td>3</td>\n",
       "      <td>26</td>\n",
       "      <td>9</td>\n",
       "      <td>17</td>\n",
       "      <td>19</td>\n",
       "    </tr>\n",
       "    <tr>\n",
       "      <th>2</th>\n",
       "      <td>Portugaul18</td>\n",
       "      <td>4</td>\n",
       "      <td>1</td>\n",
       "      <td>13</td>\n",
       "      <td>9</td>\n",
       "      <td>0</td>\n",
       "      <td>1</td>\n",
       "      <td>32</td>\n",
       "      <td>4</td>\n",
       "      <td>28</td>\n",
       "      <td>27</td>\n",
       "    </tr>\n",
       "    <tr>\n",
       "      <th>3</th>\n",
       "      <td>Switzerland18</td>\n",
       "      <td>13</td>\n",
       "      <td>0</td>\n",
       "      <td>14</td>\n",
       "      <td>9</td>\n",
       "      <td>0</td>\n",
       "      <td>1</td>\n",
       "      <td>23</td>\n",
       "      <td>7</td>\n",
       "      <td>16</td>\n",
       "      <td>27</td>\n",
       "    </tr>\n",
       "    <tr>\n",
       "      <th>4</th>\n",
       "      <td>Germany18</td>\n",
       "      <td>2</td>\n",
       "      <td>1</td>\n",
       "      <td>23</td>\n",
       "      <td>10</td>\n",
       "      <td>0</td>\n",
       "      <td>0</td>\n",
       "      <td>43</td>\n",
       "      <td>4</td>\n",
       "      <td>39</td>\n",
       "      <td>30</td>\n",
       "    </tr>\n",
       "  </tbody>\n",
       "</table>\n",
       "</div>"
      ],
      "text/plain": [
       "            team  elo_after_qual  first_qual  wc_results   W  D  L  GF  GA  \\\n",
       "0       France18               6           1           1   7  2  1  18   6   \n",
       "1       Sweden18              19           0           7   6  1  3  26   9   \n",
       "2    Portugaul18               4           1          13   9  0  1  32   4   \n",
       "3  Switzerland18              13           0          14   9  0  1  23   7   \n",
       "4      Germany18               2           1          23  10  0  0  43   4   \n",
       "\n",
       "   GD  Pts  \n",
       "0  12   23  \n",
       "1  17   19  \n",
       "2  28   27  \n",
       "3  16   27  \n",
       "4  39   30  "
      ]
     },
     "execution_count": 3,
     "metadata": {},
     "output_type": "execute_result"
    }
   ],
   "source": [
    "df.head()"
   ]
  },
  {
   "cell_type": "code",
   "execution_count": 4,
   "metadata": {},
   "outputs": [
    {
     "data": {
      "text/html": [
       "<div>\n",
       "<style scoped>\n",
       "    .dataframe tbody tr th:only-of-type {\n",
       "        vertical-align: middle;\n",
       "    }\n",
       "\n",
       "    .dataframe tbody tr th {\n",
       "        vertical-align: top;\n",
       "    }\n",
       "\n",
       "    .dataframe thead th {\n",
       "        text-align: right;\n",
       "    }\n",
       "</style>\n",
       "<table border=\"1\" class=\"dataframe\">\n",
       "  <thead>\n",
       "    <tr style=\"text-align: right;\">\n",
       "      <th></th>\n",
       "      <th>elo_after_qual</th>\n",
       "      <th>first_qual</th>\n",
       "      <th>wc_results</th>\n",
       "      <th>W</th>\n",
       "      <th>D</th>\n",
       "      <th>L</th>\n",
       "      <th>GF</th>\n",
       "      <th>GA</th>\n",
       "      <th>GD</th>\n",
       "      <th>Pts</th>\n",
       "    </tr>\n",
       "  </thead>\n",
       "  <tbody>\n",
       "    <tr>\n",
       "      <th>elo_after_qual</th>\n",
       "      <td>1.000000</td>\n",
       "      <td>-0.322218</td>\n",
       "      <td>0.238045</td>\n",
       "      <td>-0.438525</td>\n",
       "      <td>0.161264</td>\n",
       "      <td>0.638340</td>\n",
       "      <td>-0.359219</td>\n",
       "      <td>0.374078</td>\n",
       "      <td>-0.452542</td>\n",
       "      <td>-0.482316</td>\n",
       "    </tr>\n",
       "    <tr>\n",
       "      <th>first_qual</th>\n",
       "      <td>-0.322218</td>\n",
       "      <td>1.000000</td>\n",
       "      <td>-0.088114</td>\n",
       "      <td>0.566969</td>\n",
       "      <td>-0.214683</td>\n",
       "      <td>-0.649365</td>\n",
       "      <td>0.402680</td>\n",
       "      <td>-0.222153</td>\n",
       "      <td>0.446751</td>\n",
       "      <td>0.621635</td>\n",
       "    </tr>\n",
       "    <tr>\n",
       "      <th>wc_results</th>\n",
       "      <td>0.238045</td>\n",
       "      <td>-0.088114</td>\n",
       "      <td>1.000000</td>\n",
       "      <td>-0.373296</td>\n",
       "      <td>0.358404</td>\n",
       "      <td>0.216227</td>\n",
       "      <td>-0.163362</td>\n",
       "      <td>0.362973</td>\n",
       "      <td>-0.265016</td>\n",
       "      <td>-0.340771</td>\n",
       "    </tr>\n",
       "    <tr>\n",
       "      <th>W</th>\n",
       "      <td>-0.438525</td>\n",
       "      <td>0.566969</td>\n",
       "      <td>-0.373296</td>\n",
       "      <td>1.000000</td>\n",
       "      <td>-0.753148</td>\n",
       "      <td>-0.559473</td>\n",
       "      <td>0.752323</td>\n",
       "      <td>-0.230403</td>\n",
       "      <td>0.777967</td>\n",
       "      <td>0.978201</td>\n",
       "    </tr>\n",
       "    <tr>\n",
       "      <th>D</th>\n",
       "      <td>0.161264</td>\n",
       "      <td>-0.214683</td>\n",
       "      <td>0.358404</td>\n",
       "      <td>-0.753148</td>\n",
       "      <td>1.000000</td>\n",
       "      <td>0.026855</td>\n",
       "      <td>-0.525919</td>\n",
       "      <td>0.083398</td>\n",
       "      <td>-0.520000</td>\n",
       "      <td>-0.600120</td>\n",
       "    </tr>\n",
       "    <tr>\n",
       "      <th>L</th>\n",
       "      <td>0.638340</td>\n",
       "      <td>-0.649365</td>\n",
       "      <td>0.216227</td>\n",
       "      <td>-0.559473</td>\n",
       "      <td>0.026855</td>\n",
       "      <td>1.000000</td>\n",
       "      <td>-0.369270</td>\n",
       "      <td>0.471318</td>\n",
       "      <td>-0.491847</td>\n",
       "      <td>-0.671811</td>\n",
       "    </tr>\n",
       "    <tr>\n",
       "      <th>GF</th>\n",
       "      <td>-0.359219</td>\n",
       "      <td>0.402680</td>\n",
       "      <td>-0.163362</td>\n",
       "      <td>0.752323</td>\n",
       "      <td>-0.525919</td>\n",
       "      <td>-0.369270</td>\n",
       "      <td>1.000000</td>\n",
       "      <td>-0.038153</td>\n",
       "      <td>0.951769</td>\n",
       "      <td>0.748767</td>\n",
       "    </tr>\n",
       "    <tr>\n",
       "      <th>GA</th>\n",
       "      <td>0.374078</td>\n",
       "      <td>-0.222153</td>\n",
       "      <td>0.362973</td>\n",
       "      <td>-0.230403</td>\n",
       "      <td>0.083398</td>\n",
       "      <td>0.471318</td>\n",
       "      <td>-0.038153</td>\n",
       "      <td>1.000000</td>\n",
       "      <td>-0.342904</td>\n",
       "      <td>-0.253832</td>\n",
       "    </tr>\n",
       "    <tr>\n",
       "      <th>GD</th>\n",
       "      <td>-0.452542</td>\n",
       "      <td>0.446751</td>\n",
       "      <td>-0.265016</td>\n",
       "      <td>0.777967</td>\n",
       "      <td>-0.520000</td>\n",
       "      <td>-0.491847</td>\n",
       "      <td>0.951769</td>\n",
       "      <td>-0.342904</td>\n",
       "      <td>1.000000</td>\n",
       "      <td>0.781819</td>\n",
       "    </tr>\n",
       "    <tr>\n",
       "      <th>Pts</th>\n",
       "      <td>-0.482316</td>\n",
       "      <td>0.621635</td>\n",
       "      <td>-0.340771</td>\n",
       "      <td>0.978201</td>\n",
       "      <td>-0.600120</td>\n",
       "      <td>-0.671811</td>\n",
       "      <td>0.748767</td>\n",
       "      <td>-0.253832</td>\n",
       "      <td>0.781819</td>\n",
       "      <td>1.000000</td>\n",
       "    </tr>\n",
       "  </tbody>\n",
       "</table>\n",
       "</div>"
      ],
      "text/plain": [
       "                elo_after_qual  first_qual  wc_results         W         D  \\\n",
       "elo_after_qual        1.000000   -0.322218    0.238045 -0.438525  0.161264   \n",
       "first_qual           -0.322218    1.000000   -0.088114  0.566969 -0.214683   \n",
       "wc_results            0.238045   -0.088114    1.000000 -0.373296  0.358404   \n",
       "W                    -0.438525    0.566969   -0.373296  1.000000 -0.753148   \n",
       "D                     0.161264   -0.214683    0.358404 -0.753148  1.000000   \n",
       "L                     0.638340   -0.649365    0.216227 -0.559473  0.026855   \n",
       "GF                   -0.359219    0.402680   -0.163362  0.752323 -0.525919   \n",
       "GA                    0.374078   -0.222153    0.362973 -0.230403  0.083398   \n",
       "GD                   -0.452542    0.446751   -0.265016  0.777967 -0.520000   \n",
       "Pts                  -0.482316    0.621635   -0.340771  0.978201 -0.600120   \n",
       "\n",
       "                       L        GF        GA        GD       Pts  \n",
       "elo_after_qual  0.638340 -0.359219  0.374078 -0.452542 -0.482316  \n",
       "first_qual     -0.649365  0.402680 -0.222153  0.446751  0.621635  \n",
       "wc_results      0.216227 -0.163362  0.362973 -0.265016 -0.340771  \n",
       "W              -0.559473  0.752323 -0.230403  0.777967  0.978201  \n",
       "D               0.026855 -0.525919  0.083398 -0.520000 -0.600120  \n",
       "L               1.000000 -0.369270  0.471318 -0.491847 -0.671811  \n",
       "GF             -0.369270  1.000000 -0.038153  0.951769  0.748767  \n",
       "GA              0.471318 -0.038153  1.000000 -0.342904 -0.253832  \n",
       "GD             -0.491847  0.951769 -0.342904  1.000000  0.781819  \n",
       "Pts            -0.671811  0.748767 -0.253832  0.781819  1.000000  "
      ]
     },
     "execution_count": 4,
     "metadata": {},
     "output_type": "execute_result"
    }
   ],
   "source": [
    "df.corr()"
   ]
  },
  {
   "cell_type": "code",
   "execution_count": 5,
   "metadata": {},
   "outputs": [
    {
     "data": {
      "text/plain": [
       "(34, 11)"
      ]
     },
     "execution_count": 5,
     "metadata": {},
     "output_type": "execute_result"
    }
   ],
   "source": [
    "df.shape"
   ]
  },
  {
   "cell_type": "code",
   "execution_count": 6,
   "metadata": {},
   "outputs": [
    {
     "name": "stdout",
     "output_type": "stream",
     "text": [
      "<class 'pandas.core.frame.DataFrame'>\n",
      "RangeIndex: 34 entries, 0 to 33\n",
      "Data columns (total 11 columns):\n",
      " #   Column          Non-Null Count  Dtype \n",
      "---  ------          --------------  ----- \n",
      " 0   team            34 non-null     object\n",
      " 1   elo_after_qual  34 non-null     int64 \n",
      " 2   first_qual      34 non-null     int64 \n",
      " 3   wc_results      34 non-null     int64 \n",
      " 4   W               34 non-null     int64 \n",
      " 5   D               34 non-null     int64 \n",
      " 6   L               34 non-null     int64 \n",
      " 7   GF              34 non-null     int64 \n",
      " 8   GA              34 non-null     int64 \n",
      " 9   GD              34 non-null     int64 \n",
      " 10  Pts             34 non-null     int64 \n",
      "dtypes: int64(10), object(1)\n",
      "memory usage: 3.0+ KB\n"
     ]
    }
   ],
   "source": [
    "df.info()"
   ]
  },
  {
   "cell_type": "code",
   "execution_count": 7,
   "metadata": {},
   "outputs": [],
   "source": [
    "df = df.drop(columns=['team'])"
   ]
  },
  {
   "cell_type": "code",
   "execution_count": 8,
   "metadata": {},
   "outputs": [],
   "source": [
    "import numpy as np\n",
    "from sklearn.model_selection import train_test_split"
   ]
  },
  {
   "cell_type": "code",
   "execution_count": 9,
   "metadata": {},
   "outputs": [],
   "source": [
    "y = df['wc_results']"
   ]
  },
  {
   "cell_type": "code",
   "execution_count": 10,
   "metadata": {},
   "outputs": [],
   "source": [
    "X = df.drop(columns=['wc_results'])"
   ]
  },
  {
   "cell_type": "code",
   "execution_count": 11,
   "metadata": {},
   "outputs": [],
   "source": [
    "X_train, X_test, y_train, y_test = train_test_split(X, y, test_size=0.33, random_state=42)"
   ]
  },
  {
   "cell_type": "code",
   "execution_count": 12,
   "metadata": {},
   "outputs": [],
   "source": [
    "from sklearn import linear_model\n",
    "reg = linear_model.LinearRegression()\n"
   ]
  },
  {
   "cell_type": "code",
   "execution_count": 13,
   "metadata": {},
   "outputs": [
    {
     "data": {
      "text/plain": [
       "LinearRegression()"
      ]
     },
     "execution_count": 13,
     "metadata": {},
     "output_type": "execute_result"
    }
   ],
   "source": [
    "reg.fit(X_train, y_train)"
   ]
  },
  {
   "cell_type": "code",
   "execution_count": 14,
   "metadata": {},
   "outputs": [
    {
     "data": {
      "text/plain": [
       "array([ 0.08582096,  0.35324903, -1.18297838,  4.92519968,  1.74800243,\n",
       "        0.18879194,  0.61061827, -0.42182633,  1.37626455])"
      ]
     },
     "execution_count": 14,
     "metadata": {},
     "output_type": "execute_result"
    }
   ],
   "source": [
    "reg.coef_"
   ]
  },
  {
   "cell_type": "code",
   "execution_count": 15,
   "metadata": {},
   "outputs": [],
   "source": [
    "from sklearn import linear_model\n",
    "reg = linear_model.Ridge(alpha=.5)"
   ]
  },
  {
   "cell_type": "code",
   "execution_count": 16,
   "metadata": {},
   "outputs": [
    {
     "data": {
      "text/plain": [
       "Ridge(alpha=0.5)"
      ]
     },
     "execution_count": 16,
     "metadata": {},
     "output_type": "execute_result"
    }
   ],
   "source": [
    "reg.fit(X_train, y_train)"
   ]
  },
  {
   "cell_type": "code",
   "execution_count": 17,
   "metadata": {},
   "outputs": [
    {
     "data": {
      "text/plain": [
       "array([ 0.09346791,  0.19546318, -1.13659273,  4.6376574 ,  1.25201447,\n",
       "        0.20535662,  0.63394303, -0.42858641,  1.22787919])"
      ]
     },
     "execution_count": 17,
     "metadata": {},
     "output_type": "execute_result"
    }
   ],
   "source": [
    "reg.coef_"
   ]
  },
  {
   "cell_type": "code",
   "execution_count": 18,
   "metadata": {},
   "outputs": [
    {
     "data": {
      "text/plain": [
       "-19.430382509178997"
      ]
     },
     "execution_count": 18,
     "metadata": {},
     "output_type": "execute_result"
    }
   ],
   "source": [
    "reg.intercept_"
   ]
  },
  {
   "cell_type": "code",
   "execution_count": 20,
   "metadata": {},
   "outputs": [
    {
     "data": {
      "text/plain": [
       "array([ 7.74419486,  8.02773003, 11.86169106,  4.09973427, 12.69624013,\n",
       "       12.84852489, 18.13243116, 14.7869166 , 20.65835829,  4.9857406 ,\n",
       "       14.49533016,  1.07370188])"
      ]
     },
     "execution_count": 20,
     "metadata": {},
     "output_type": "execute_result"
    }
   ],
   "source": [
    "reg.predict(X_test)"
   ]
  },
  {
   "cell_type": "code",
   "execution_count": 21,
   "metadata": {},
   "outputs": [
    {
     "data": {
      "text/plain": [
       "15     3\n",
       "19    23\n",
       "27    23\n",
       "26    13\n",
       "8      4\n",
       "24     3\n",
       "21    24\n",
       "12     6\n",
       "32    11\n",
       "9     10\n",
       "0      1\n",
       "4     23\n",
       "Name: wc_results, dtype: int64"
      ]
     },
     "execution_count": 21,
     "metadata": {},
     "output_type": "execute_result"
    }
   ],
   "source": [
    "y_test"
   ]
  },
  {
   "cell_type": "code",
   "execution_count": null,
   "metadata": {},
   "outputs": [],
   "source": []
  }
 ],
 "metadata": {
  "kernelspec": {
   "display_name": "Python 3 (ipykernel)",
   "language": "python",
   "name": "python3"
  },
  "language_info": {
   "codemirror_mode": {
    "name": "ipython",
    "version": 3
   },
   "file_extension": ".py",
   "mimetype": "text/x-python",
   "name": "python",
   "nbconvert_exporter": "python",
   "pygments_lexer": "ipython3",
   "version": "3.9.12"
  }
 },
 "nbformat": 4,
 "nbformat_minor": 2
}
