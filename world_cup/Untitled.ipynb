{
 "cells": [
  {
   "cell_type": "markdown",
   "id": "d8fd4ed7",
   "metadata": {},
   "source": [
    "good data for international teams for world cup 2022: https://footystats.org/clubs/switzerland-national-team-7960#"
   ]
  },
  {
   "cell_type": "code",
   "execution_count": null,
   "id": "e19afba4",
   "metadata": {},
   "outputs": [],
   "source": []
  }
 ],
 "metadata": {
  "kernelspec": {
   "display_name": "Python 3 (ipykernel)",
   "language": "python",
   "name": "python3"
  },
  "language_info": {
   "codemirror_mode": {
    "name": "ipython",
    "version": 3
   },
   "file_extension": ".py",
   "mimetype": "text/x-python",
   "name": "python",
   "nbconvert_exporter": "python",
   "pygments_lexer": "ipython3",
   "version": "3.9.12"
  }
 },
 "nbformat": 4,
 "nbformat_minor": 5
}
