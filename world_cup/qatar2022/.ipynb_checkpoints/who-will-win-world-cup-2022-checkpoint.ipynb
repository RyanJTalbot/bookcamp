{
 "cells": [
  {
   "cell_type": "code",
   "execution_count": 3,
   "metadata": {
    "_cell_guid": "b1076dfc-b9ad-4769-8c92-a6c4dae69d19",
    "_uuid": "8f2839f25d086af736a60e9eeb907d3b93b6e0e5",
    "execution": {
     "iopub.execute_input": "2022-07-02T23:21:02.863236Z",
     "iopub.status.busy": "2022-07-02T23:21:02.862829Z",
     "iopub.status.idle": "2022-07-02T23:21:02.889611Z",
     "shell.execute_reply": "2022-07-02T23:21:02.888606Z",
     "shell.execute_reply.started": "2022-07-02T23:21:02.863204Z"
    }
   },
   "outputs": [],
   "source": [
    "# This Python 3 environment comes with many helpful analytics libraries installed\n",
    "# It is defined by the kaggle/python Docker image: https://github.com/kaggle/docker-python\n",
    "# For example, here's several helpful packages to load\n",
    "\n",
    "import numpy as np # linear algebra\n",
    "import pandas as pd # data processing, CSV file I/O (e.g. pd.read_csv)\n",
    "\n",
    "# Input data files are available in the read-only \"../input/\" directory\n",
    "# For example, running this (by clicking run or pressing Shift+Enter) will list all files under the input directory\n",
    "\n",
    "import os\n",
    "for dirname, _, filenames in os.walk('/kaggle/input'):\n",
    "    for filename in filenames:\n",
    "        print(os.path.join(dirname, filename))\n",
    "\n",
    "# You can write up to 20GB to the current directory (/kaggle/working/) that gets preserved as output when you create a version using \"Save & Run All\" \n",
    "# You can also write temporary files to /kaggle/temp/, but they won't be saved outside of the current session"
   ]
  },
  {
   "cell_type": "code",
   "execution_count": 4,
   "metadata": {
    "execution": {
     "iopub.execute_input": "2022-07-02T23:21:02.897431Z",
     "iopub.status.busy": "2022-07-02T23:21:02.896549Z",
     "iopub.status.idle": "2022-07-02T23:21:03.055135Z",
     "shell.execute_reply": "2022-07-02T23:21:03.054226Z",
     "shell.execute_reply.started": "2022-07-02T23:21:02.897377Z"
    }
   },
   "outputs": [],
   "source": [
    "# read and display results\n",
    "results = pd.read_csv(\"/kaggle/input/international-football-results-from-1872-to-2017/results.csv\")\n",
    "results.head(10)"
   ]
  },
  {
   "cell_type": "code",
   "execution_count": 5,
   "metadata": {
    "execution": {
     "iopub.execute_input": "2022-07-02T23:21:03.057151Z",
     "iopub.status.busy": "2022-07-02T23:21:03.056439Z",
     "iopub.status.idle": "2022-07-02T23:21:03.065365Z",
     "shell.execute_reply": "2022-07-02T23:21:03.064200Z",
     "shell.execute_reply.started": "2022-07-02T23:21:03.057114Z"
    }
   },
   "outputs": [],
   "source": [
    "# Check for types of columns\n",
    "results.dtypes"
   ]
  },
  {
   "cell_type": "markdown",
   "metadata": {},
   "source": [
    "### Transform date columns to a date"
   ]
  },
  {
   "cell_type": "code",
   "execution_count": 6,
   "metadata": {
    "execution": {
     "iopub.execute_input": "2022-07-02T23:21:03.067268Z",
     "iopub.status.busy": "2022-07-02T23:21:03.066509Z",
     "iopub.status.idle": "2022-07-02T23:21:03.097193Z",
     "shell.execute_reply": "2022-07-02T23:21:03.096283Z",
     "shell.execute_reply.started": "2022-07-02T23:21:03.067231Z"
    }
   },
   "outputs": [],
   "source": [
    "results['date'] = pd.to_datetime(results['date'])"
   ]
  },
  {
   "cell_type": "markdown",
   "metadata": {},
   "source": [
    "### Create columns for year, month and day"
   ]
  },
  {
   "cell_type": "code",
   "execution_count": 7,
   "metadata": {
    "execution": {
     "iopub.execute_input": "2022-07-02T23:21:03.099873Z",
     "iopub.status.busy": "2022-07-02T23:21:03.099150Z",
     "iopub.status.idle": "2022-07-02T23:21:04.075883Z",
     "shell.execute_reply": "2022-07-02T23:21:04.074735Z",
     "shell.execute_reply.started": "2022-07-02T23:21:03.099830Z"
    }
   },
   "outputs": [],
   "source": [
    "results['year'] = results['date'].apply(lambda x : x.year)\n",
    "results['month'] = results['date'].apply(lambda x : x.month)\n",
    "results['day'] = results['date'].apply(lambda x : x.day)"
   ]
  },
  {
   "cell_type": "markdown",
   "metadata": {},
   "source": [
    "### Creat home_team_wins and away_team_wins and draw columns"
   ]
  },
  {
   "cell_type": "code",
   "execution_count": 8,
   "metadata": {
    "execution": {
     "iopub.execute_input": "2022-07-02T23:21:04.077667Z",
     "iopub.status.busy": "2022-07-02T23:21:04.077185Z",
     "iopub.status.idle": "2022-07-02T23:21:04.088431Z",
     "shell.execute_reply": "2022-07-02T23:21:04.087613Z",
     "shell.execute_reply.started": "2022-07-02T23:21:04.077624Z"
    }
   },
   "outputs": [],
   "source": [
    "results['home_team_wins'] = (results['home_score'] - results['away_score']) > 0\n",
    "results['away_team_wins'] = (results['home_score'] - results['away_score']) < 0\n",
    "results['draw'] = (results['home_score'] - results['away_score']) == 0"
   ]
  },
  {
   "cell_type": "markdown",
   "metadata": {
    "execution": {
     "iopub.execute_input": "2022-06-17T09:55:22.014554Z",
     "iopub.status.busy": "2022-06-17T09:55:22.014132Z",
     "iopub.status.idle": "2022-06-17T09:55:22.038438Z",
     "shell.execute_reply": "2022-06-17T09:55:22.03734Z",
     "shell.execute_reply.started": "2022-06-17T09:55:22.01452Z"
    }
   },
   "source": [
    "### Store home teams and away teams in lists\n"
   ]
  },
  {
   "cell_type": "code",
   "execution_count": 9,
   "metadata": {
    "execution": {
     "iopub.execute_input": "2022-07-02T23:21:04.090539Z",
     "iopub.status.busy": "2022-07-02T23:21:04.089774Z",
     "iopub.status.idle": "2022-07-02T23:21:04.110224Z",
     "shell.execute_reply": "2022-07-02T23:21:04.109379Z",
     "shell.execute_reply.started": "2022-07-02T23:21:04.090491Z"
    }
   },
   "outputs": [],
   "source": [
    "home_teams = results['home_team'].unique()\n",
    "away_teams = results['away_team'].unique()"
   ]
  },
  {
   "cell_type": "markdown",
   "metadata": {},
   "source": [
    "### tournaments, cities and countries"
   ]
  },
  {
   "cell_type": "code",
   "execution_count": 10,
   "metadata": {
    "execution": {
     "iopub.execute_input": "2022-07-02T23:21:04.112488Z",
     "iopub.status.busy": "2022-07-02T23:21:04.111756Z",
     "iopub.status.idle": "2022-07-02T23:21:04.132847Z",
     "shell.execute_reply": "2022-07-02T23:21:04.132092Z",
     "shell.execute_reply.started": "2022-07-02T23:21:04.112435Z"
    }
   },
   "outputs": [],
   "source": [
    "tournaments = results['tournament'].unique()\n",
    "cities = results['city'].unique()\n",
    "countries = results['country'].unique()"
   ]
  },
  {
   "cell_type": "markdown",
   "metadata": {
    "execution": {
     "iopub.execute_input": "2022-06-17T10:03:29.376191Z",
     "iopub.status.busy": "2022-06-17T10:03:29.375744Z",
     "iopub.status.idle": "2022-06-17T10:03:29.383859Z",
     "shell.execute_reply": "2022-06-17T10:03:29.382921Z",
     "shell.execute_reply.started": "2022-06-17T10:03:29.376155Z"
    }
   },
   "source": [
    "### See results of Morocco\n"
   ]
  },
  {
   "cell_type": "code",
   "execution_count": 11,
   "metadata": {
    "execution": {
     "iopub.execute_input": "2022-07-02T23:21:04.135047Z",
     "iopub.status.busy": "2022-07-02T23:21:04.134353Z",
     "iopub.status.idle": "2022-07-02T23:21:04.187287Z",
     "shell.execute_reply": "2022-07-02T23:21:04.186235Z",
     "shell.execute_reply.started": "2022-07-02T23:21:04.134979Z"
    }
   },
   "outputs": [],
   "source": [
    "results_morocco = results.loc[(results.home_team == 'Morocco') | (results.away_team == 'Morocco'), :]\n",
    "results_morocco"
   ]
  },
  {
   "cell_type": "markdown",
   "metadata": {},
   "source": [
    "### Get results of a specific two countries"
   ]
  },
  {
   "cell_type": "code",
   "execution_count": 12,
   "metadata": {
    "execution": {
     "iopub.execute_input": "2022-07-02T23:21:04.189700Z",
     "iopub.status.busy": "2022-07-02T23:21:04.188930Z",
     "iopub.status.idle": "2022-07-02T23:21:04.196714Z",
     "shell.execute_reply": "2022-07-02T23:21:04.195904Z",
     "shell.execute_reply.started": "2022-07-02T23:21:04.189640Z"
    }
   },
   "outputs": [],
   "source": [
    "def get_results_of_two_countries(results_, country1, country2):\n",
    "    results_of_two_countries = results_.loc[((results_.home_team == country1) & (results_.away_team == country2)) \n",
    "                                           | ((results_.home_team == country2) & (results_.away_team == country1)), :]\n",
    "    return results_of_two_countries"
   ]
  },
  {
   "cell_type": "markdown",
   "metadata": {},
   "source": [
    "### Get results for Morocco and Brazil"
   ]
  },
  {
   "cell_type": "code",
   "execution_count": 13,
   "metadata": {
    "execution": {
     "iopub.execute_input": "2022-07-02T23:21:04.199995Z",
     "iopub.status.busy": "2022-07-02T23:21:04.199378Z",
     "iopub.status.idle": "2022-07-02T23:21:04.249715Z",
     "shell.execute_reply": "2022-07-02T23:21:04.249039Z",
     "shell.execute_reply.started": "2022-07-02T23:21:04.199955Z"
    }
   },
   "outputs": [],
   "source": [
    "get_results_of_two_countries(results, 'Morocco', 'Brazil')"
   ]
  },
  {
   "cell_type": "markdown",
   "metadata": {},
   "source": [
    "### Define a function that return historical probabilies of win, loose and draw for two countries"
   ]
  },
  {
   "cell_type": "code",
   "execution_count": 14,
   "metadata": {
    "execution": {
     "iopub.execute_input": "2022-07-02T23:21:04.251537Z",
     "iopub.status.busy": "2022-07-02T23:21:04.250973Z",
     "iopub.status.idle": "2022-07-02T23:21:04.274972Z",
     "shell.execute_reply": "2022-07-02T23:21:04.274091Z",
     "shell.execute_reply.started": "2022-07-02T23:21:04.251502Z"
    }
   },
   "outputs": [],
   "source": [
    "def get_hist_proba_of_two_countries(results_, country1, country2):\n",
    "    probas = dict()\n",
    "    # get results of country1 and country2\n",
    "    temp = get_results_of_two_countries(results_, country1, country2)\n",
    "    temp = temp[['home_team', 'away_team', 'home_team_wins', 'away_team_wins',  'draw']]\n",
    "    temp = temp.groupby(['home_team', 'away_team']).sum()\n",
    "    \n",
    "    probas[(country1, country2)] = {'Win' : 0, 'Loose' : 0, 'Draw' : 0, 'Games' : 0 }\n",
    "    temp\n",
    "    \n",
    "    if len(temp) == 2: # games are played in country1 and country2\n",
    "        probas[(country1, country2)]['Win'] = temp.loc[(country1, country2)]['home_team_wins'] + temp.loc[(country2, country1)]['away_team_wins']\n",
    "        probas[(country1, country2)]['Loose'] = temp.loc[(country1, country2)]['away_team_wins'] + temp.loc[(country2, country1)]['home_team_wins']\n",
    "        probas[(country1, country2)]['Draw'] = temp.loc[(country1, country2)]['draw'] + temp.loc[(country2, country1)]['draw']\n",
    "        n_games = probas[(country1, country2)]['Win'] + probas[(country1, country2)]['Loose'] + probas[(country1, country2)]['Draw']\n",
    "        \n",
    "        if n_games > 0 :\n",
    "            probas[(country1, country2)]['Win'] = probas[(country1, country2)]['Win']/n_games\n",
    "            probas[(country1, country2)]['Loose'] = probas[(country1, country2)]['Loose']/n_games\n",
    "            probas[(country1, country2)]['Draw'] = probas[(country1, country2)]['Draw']/n_games\n",
    "            probas[(country1, country2)]['Games'] = n_games\n",
    "            \n",
    "    \n",
    "    if len(temp) == 1: # games are played in one country only\n",
    "        if (country1, country2) in temp.index: # all games were played in country1, so use (country1, country2) as index for temp\n",
    "            probas[(country1, country2)]['Win'] = temp.loc[(country1, country2)]['home_team_wins']\n",
    "            probas[(country1, country2)]['Loose'] = temp.loc[(country1, country2)]['away_team_wins']\n",
    "            probas[(country1, country2)]['Draw'] = temp.loc[(country1, country2)]['draw']\n",
    "            n_games = probas[(country1, country2)]['Win'] + probas[(country1, country2)]['Loose'] + probas[(country1, country2)]['Draw']\n",
    "        \n",
    "            if n_games > 0 :\n",
    "                probas[(country1, country2)]['Win'] = probas[(country1, country2)]['Win']/n_games\n",
    "                probas[(country1, country2)]['Loose'] = probas[(country1, country2)]['Loose']/n_games\n",
    "                probas[(country1, country2)]['Draw'] = probas[(country1, country2)]['Draw']/n_games\n",
    "                probas[(country1, country2)]['Games'] = n_games\n",
    "        else: # all games were played in country2, so use (country2, country1) as index for temp\n",
    "            probas[(country1, country2)]['Win'] = temp.loc[(country2, country1)]['away_team_wins']\n",
    "            probas[(country1, country2)]['Loose'] = temp.loc[(country2, country1)]['home_team_wins']\n",
    "            probas[(country1, country2)]['Draw'] = temp.loc[(country2, country1)]['draw']\n",
    "            n_games = probas[(country1, country2)]['Win'] + probas[(country1, country2)]['Loose'] + probas[(country1, country2)]['Draw']\n",
    "        \n",
    "            if n_games > 0 :\n",
    "                probas[(country1, country2)]['Win'] = probas[(country1, country2)]['Win']/n_games\n",
    "                probas[(country1, country2)]['Loose'] = probas[(country1, country2)]['Loose']/n_games\n",
    "                probas[(country1, country2)]['Draw'] = probas[(country1, country2)]['Draw']/n_games\n",
    "                probas[(country1, country2)]['Games'] = n_games\n",
    "                                                    \n",
    "       \n",
    "    return probas\n",
    "    "
   ]
  },
  {
   "cell_type": "markdown",
   "metadata": {},
   "source": [
    "### historical probabilities of Argentina and Brazil"
   ]
  },
  {
   "cell_type": "code",
   "execution_count": 15,
   "metadata": {
    "execution": {
     "iopub.execute_input": "2022-07-02T23:21:04.277195Z",
     "iopub.status.busy": "2022-07-02T23:21:04.276520Z",
     "iopub.status.idle": "2022-07-02T23:21:04.347325Z",
     "shell.execute_reply": "2022-07-02T23:21:04.346113Z",
     "shell.execute_reply.started": "2022-07-02T23:21:04.277157Z"
    }
   },
   "outputs": [],
   "source": [
    "argentina_brazil = get_hist_proba_of_two_countries(results,  'Argentina', 'Brazil')\n",
    "argentina_brazil"
   ]
  },
  {
   "cell_type": "markdown",
   "metadata": {},
   "source": [
    "### Define a function that returns historical probabilities for each pair of two countries\n",
    "### from a given set of results"
   ]
  },
  {
   "cell_type": "code",
   "execution_count": 16,
   "metadata": {
    "execution": {
     "iopub.execute_input": "2022-07-02T23:21:04.349796Z",
     "iopub.status.busy": "2022-07-02T23:21:04.349136Z",
     "iopub.status.idle": "2022-07-02T23:21:04.371086Z",
     "shell.execute_reply": "2022-07-02T23:21:04.370217Z",
     "shell.execute_reply.started": "2022-07-02T23:21:04.349745Z"
    }
   },
   "outputs": [],
   "source": [
    "def get_hist_proba(results_): # not using results to avoid ambiguity !\n",
    "    # get all pairs of countries having played a match\n",
    "    matches = list(results_[['home_team', 'away_team', 'home_score']].groupby(['home_team', 'away_team']).sum().index)\n",
    "    \n",
    "    # get ride of (country2, country1) if (country1, country2) already exist in the list\n",
    "    matches2 = [] # new list after removing duplicates\n",
    "    for m in matches:\n",
    "        if ((m[0], m[1]) in matches2) or ((m[1], m[0]) in matches2):\n",
    "            continue\n",
    "        else:\n",
    "            matches2.append(m)\n",
    "    \n",
    "    countries1 = [] # first country : country1\n",
    "    countries2 = [] # second country : country2\n",
    "    games = [] # number of games played by that pair of countries (country1, country2)\n",
    "    wins = []  # number of games wined by country1 for the pair (country1, country2)\n",
    "    looses = [] # number of games lost by country1 for the pair (country1, country2)\n",
    "    draws = [] # number of draws for the pair (country1, country2)\n",
    "    for m in matches2:\n",
    "        temp = get_hist_proba_of_two_countries(results_,  m[0], m[1])\n",
    "        # we have to add two raws : one for country1, country2 and the other for country2, country1\n",
    "        # country1, country2\n",
    "        countries1.append(m[0])\n",
    "        countries2.append(m[1])\n",
    "        games.append(temp[m]['Games'])\n",
    "        wins.append(temp[m]['Win'])\n",
    "        looses.append(temp[m]['Loose'])\n",
    "        draws.append(temp[m]['Draw'])\n",
    "        # country2, country1\n",
    "        countries1.append(m[1])\n",
    "        countries2.append(m[0])\n",
    "        games.append(temp[m]['Games']) # games played is the same\n",
    "        wins.append(temp[m]['Loose']) # for win and loose we have to switch !\n",
    "        looses.append(temp[m]['Win']) # for win and loose we have to switch !\n",
    "        draws.append(temp[m]['Draw']) # draw  is the same\n",
    "        \n",
    "    \n",
    "    historical_ratios = pd.DataFrame({'country1' : countries1 , 'country2' : countries2 ,'games' : games,'wins' : wins, 'looses' : looses,  'draws' : draws})\n",
    "\n",
    "    historical_ratios = historical_ratios.set_index(['country1', 'country2'])\n",
    "\n",
    "    return historical_ratios\n",
    "    "
   ]
  },
  {
   "cell_type": "code",
   "execution_count": 17,
   "metadata": {
    "execution": {
     "iopub.execute_input": "2022-07-02T23:21:04.373213Z",
     "iopub.status.busy": "2022-07-02T23:21:04.372506Z",
     "iopub.status.idle": "2022-07-02T23:21:04.405462Z",
     "shell.execute_reply": "2022-07-02T23:21:04.404312Z",
     "shell.execute_reply.started": "2022-07-02T23:21:04.373158Z"
    }
   },
   "outputs": [],
   "source": [
    "# Read qatar 2022 teams file\n",
    "qatar_2022_teams = pd.read_csv('/kaggle/input/qatar2022worldcupschudule/Qatar2022-teams.csv',sep=';')\n",
    "qatar_2022_teams"
   ]
  },
  {
   "cell_type": "markdown",
   "metadata": {},
   "source": [
    "### get results for these teams"
   ]
  },
  {
   "cell_type": "code",
   "execution_count": 18,
   "metadata": {
    "execution": {
     "iopub.execute_input": "2022-07-02T23:21:04.407628Z",
     "iopub.status.busy": "2022-07-02T23:21:04.407088Z",
     "iopub.status.idle": "2022-07-02T23:21:04.447892Z",
     "shell.execute_reply": "2022-07-02T23:21:04.446739Z",
     "shell.execute_reply.started": "2022-07-02T23:21:04.407579Z"
    }
   },
   "outputs": [],
   "source": [
    "# get results for these teams\n",
    "qatar_2022_teams_list = list(qatar_2022_teams['Team'])\n",
    "qatar_2022_results = results.loc[(results.home_team.isin(qatar_2022_teams_list)) & (results.away_team.isin(qatar_2022_teams_list)),: ]\n",
    "\n",
    "qatar_2022_results"
   ]
  },
  {
   "cell_type": "markdown",
   "metadata": {},
   "source": [
    "## Get historical probabilities of teams participating in 2022 World Cup"
   ]
  },
  {
   "cell_type": "code",
   "execution_count": 19,
   "metadata": {
    "execution": {
     "iopub.execute_input": "2022-07-02T23:21:04.450713Z",
     "iopub.status.busy": "2022-07-02T23:21:04.449903Z",
     "iopub.status.idle": "2022-07-02T23:21:07.778153Z",
     "shell.execute_reply": "2022-07-02T23:21:07.776969Z",
     "shell.execute_reply.started": "2022-07-02T23:21:04.450657Z"
    }
   },
   "outputs": [],
   "source": [
    "hist_proba_qatar_teams = get_hist_proba(qatar_2022_results)\n",
    "hist_proba_qatar_teams.reset_index().to_csv('/kaggle/working/historical_win-loose-draw_ratios_qatar2022_teams.csv', index=None)\n",
    "hist_proba_qatar_teams"
   ]
  },
  {
   "cell_type": "code",
   "execution_count": 20,
   "metadata": {
    "execution": {
     "iopub.execute_input": "2022-07-02T23:21:07.780484Z",
     "iopub.status.busy": "2022-07-02T23:21:07.779990Z",
     "iopub.status.idle": "2022-07-02T23:21:07.791398Z",
     "shell.execute_reply": "2022-07-02T23:21:07.790345Z",
     "shell.execute_reply.started": "2022-07-02T23:21:07.780438Z"
    }
   },
   "outputs": [],
   "source": [
    "# Check for Argentina and Brazil - we can search for ('Argentina', 'Brazil') or ('Brazil', 'Argentina')\n",
    "# and it should give the same results !\n",
    "print ( 'Probabiliy Argentina wins : ' , hist_proba_qatar_teams.loc[('Argentina', 'Brazil')]['wins'])\n",
    "print ( 'Probabiliy Brazil wins : ' , hist_proba_qatar_teams.loc[('Argentina', 'Brazil')]['looses'])\n",
    "print ( 'Probabiliy of draw : ' , hist_proba_qatar_teams.loc[('Argentina', 'Brazil')]['draws'])\n",
    "print(\"-----------------------------------------------------------------------------------------------------------\")\n",
    "print ( 'Probabiliy Argentina wins : ' , hist_proba_qatar_teams.loc[('Brazil', 'Argentina')]['looses'])\n",
    "print ( 'Probabiliy Brazil wins : ' , hist_proba_qatar_teams.loc[('Brazil', 'Argentina')]['wins'])\n",
    "print ( 'Probabiliy of draw : ' , hist_proba_qatar_teams.loc[('Brazil', 'Argentina')]['draws'])\n"
   ]
  },
  {
   "cell_type": "code",
   "execution_count": 21,
   "metadata": {
    "execution": {
     "iopub.execute_input": "2022-07-02T23:21:07.793418Z",
     "iopub.status.busy": "2022-07-02T23:21:07.792561Z",
     "iopub.status.idle": "2022-07-02T23:21:07.813229Z",
     "shell.execute_reply": "2022-07-02T23:21:07.812332Z",
     "shell.execute_reply.started": "2022-07-02T23:21:07.793382Z"
    }
   },
   "outputs": [],
   "source": [
    "hist_proba_qatar_teams.reset_index().to_csv('/kaggle/working/hist_proba_qatar_teams.csv', index=None)"
   ]
  }
 ],
 "metadata": {
  "kernelspec": {
   "display_name": "Python 3 (ipykernel)",
   "language": "python",
   "name": "python3"
  },
  "language_info": {
   "codemirror_mode": {
    "name": "ipython",
    "version": 3
   },
   "file_extension": ".py",
   "mimetype": "text/x-python",
   "name": "python",
   "nbconvert_exporter": "python",
   "pygments_lexer": "ipython3",
   "version": "3.9.12"
  }
 },
 "nbformat": 4,
 "nbformat_minor": 4
}
