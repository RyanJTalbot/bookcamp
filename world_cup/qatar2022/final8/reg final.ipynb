{
 "cells": [
  {
   "cell_type": "code",
   "execution_count": 9,
   "id": "0d2dedd1",
   "metadata": {},
   "outputs": [],
   "source": [
    "import numpy as np\n",
    "import pandas as pd\n",
    "from sklearn import svm"
   ]
  },
  {
   "cell_type": "code",
   "execution_count": 10,
   "id": "bfabf627",
   "metadata": {},
   "outputs": [],
   "source": [
    "df = pd.read_csv('final4.csv')"
   ]
  },
  {
   "cell_type": "code",
   "execution_count": 11,
   "id": "bb59ada5",
   "metadata": {},
   "outputs": [],
   "source": [
    "df = df.iloc[:32, :]"
   ]
  },
  {
   "cell_type": "code",
   "execution_count": 12,
   "id": "631ea9fd",
   "metadata": {},
   "outputs": [
    {
     "data": {
      "text/plain": [
       "MP            0\n",
       "Gls.1         0\n",
       "Ast.1         0\n",
       "G+A           0\n",
       "G-PK.1        0\n",
       "G+A-PK        0\n",
       "xG            0\n",
       "npxG          0\n",
       "xAG           0\n",
       "npxG+xAG      0\n",
       "xG.1          0\n",
       "xAG.1         0\n",
       "xG+xAG        0\n",
       "npxG.1        0\n",
       "npxG+xAG.1    0\n",
       "Squad_code    0\n",
       "gls_gm        0\n",
       "poss          0\n",
       "dtype: int64"
      ]
     },
     "execution_count": 12,
     "metadata": {},
     "output_type": "execute_result"
    }
   ],
   "source": [
    "df.isnull().sum()"
   ]
  },
  {
   "cell_type": "code",
   "execution_count": 15,
   "id": "4cbe0e1a",
   "metadata": {},
   "outputs": [],
   "source": [
    "argentina = df[df['Squad_code']== 0]"
   ]
  },
  {
   "cell_type": "code",
   "execution_count": 17,
   "id": "85f94d72",
   "metadata": {},
   "outputs": [],
   "source": [
    "france = df[df['Squad_code']== 13]"
   ]
  },
  {
   "cell_type": "code",
   "execution_count": 27,
   "id": "d3c9a20c",
   "metadata": {},
   "outputs": [],
   "source": [
    "data = df.loc[df[\"Squad_code\"] != 0]"
   ]
  },
  {
   "cell_type": "code",
   "execution_count": 28,
   "id": "154ea054",
   "metadata": {},
   "outputs": [],
   "source": [
    "data = data.loc[data[\"Squad_code\"] != 13]"
   ]
  },
  {
   "cell_type": "code",
   "execution_count": 30,
   "id": "b40f8838",
   "metadata": {},
   "outputs": [
    {
     "name": "stdout",
     "output_type": "stream",
     "text": [
      "<class 'pandas.core.frame.DataFrame'>\n",
      "Int64Index: 30 entries, 1 to 31\n",
      "Data columns (total 18 columns):\n",
      " #   Column      Non-Null Count  Dtype  \n",
      "---  ------      --------------  -----  \n",
      " 0   MP          30 non-null     float64\n",
      " 1   Gls.1       30 non-null     float64\n",
      " 2   Ast.1       30 non-null     float64\n",
      " 3   G+A         30 non-null     float64\n",
      " 4   G-PK.1      30 non-null     float64\n",
      " 5   G+A-PK      30 non-null     float64\n",
      " 6   xG          30 non-null     float64\n",
      " 7   npxG        30 non-null     float64\n",
      " 8   xAG         30 non-null     float64\n",
      " 9   npxG+xAG    30 non-null     float64\n",
      " 10  xG.1        30 non-null     float64\n",
      " 11  xAG.1       30 non-null     float64\n",
      " 12  xG+xAG      30 non-null     float64\n",
      " 13  npxG.1      30 non-null     float64\n",
      " 14  npxG+xAG.1  30 non-null     float64\n",
      " 15  Squad_code  30 non-null     int64  \n",
      " 16  gls_gm      30 non-null     float64\n",
      " 17  poss        30 non-null     float64\n",
      "dtypes: float64(17), int64(1)\n",
      "memory usage: 4.5 KB\n"
     ]
    }
   ],
   "source": [
    "data.info()"
   ]
  },
  {
   "cell_type": "code",
   "execution_count": 31,
   "id": "65c8a6b3",
   "metadata": {},
   "outputs": [],
   "source": [
    "X = data.drop(columns=['MP'])\n",
    "y = data['MP']"
   ]
  },
  {
   "cell_type": "code",
   "execution_count": 32,
   "id": "19d29091",
   "metadata": {},
   "outputs": [],
   "source": [
    "from sklearn.model_selection import train_test_split"
   ]
  },
  {
   "cell_type": "code",
   "execution_count": 21,
   "id": "f1b07fd0",
   "metadata": {},
   "outputs": [],
   "source": [
    "# X_train, X_test, y_train, y_test = train_test_split(X, y, test_size=0.13, random_state=42)\n"
   ]
  },
  {
   "cell_type": "code",
   "execution_count": 34,
   "id": "a62108a6",
   "metadata": {},
   "outputs": [],
   "source": [
    "# X_train"
   ]
  },
  {
   "cell_type": "code",
   "execution_count": 35,
   "id": "1050581c",
   "metadata": {},
   "outputs": [],
   "source": [
    "regr = svm.SVR()\n"
   ]
  },
  {
   "cell_type": "code",
   "execution_count": 36,
   "id": "36bed2d8",
   "metadata": {},
   "outputs": [
    {
     "data": {
      "text/html": [
       "<style>#sk-container-id-1 {color: black;background-color: white;}#sk-container-id-1 pre{padding: 0;}#sk-container-id-1 div.sk-toggleable {background-color: white;}#sk-container-id-1 label.sk-toggleable__label {cursor: pointer;display: block;width: 100%;margin-bottom: 0;padding: 0.3em;box-sizing: border-box;text-align: center;}#sk-container-id-1 label.sk-toggleable__label-arrow:before {content: \"▸\";float: left;margin-right: 0.25em;color: #696969;}#sk-container-id-1 label.sk-toggleable__label-arrow:hover:before {color: black;}#sk-container-id-1 div.sk-estimator:hover label.sk-toggleable__label-arrow:before {color: black;}#sk-container-id-1 div.sk-toggleable__content {max-height: 0;max-width: 0;overflow: hidden;text-align: left;background-color: #f0f8ff;}#sk-container-id-1 div.sk-toggleable__content pre {margin: 0.2em;color: black;border-radius: 0.25em;background-color: #f0f8ff;}#sk-container-id-1 input.sk-toggleable__control:checked~div.sk-toggleable__content {max-height: 200px;max-width: 100%;overflow: auto;}#sk-container-id-1 input.sk-toggleable__control:checked~label.sk-toggleable__label-arrow:before {content: \"▾\";}#sk-container-id-1 div.sk-estimator input.sk-toggleable__control:checked~label.sk-toggleable__label {background-color: #d4ebff;}#sk-container-id-1 div.sk-label input.sk-toggleable__control:checked~label.sk-toggleable__label {background-color: #d4ebff;}#sk-container-id-1 input.sk-hidden--visually {border: 0;clip: rect(1px 1px 1px 1px);clip: rect(1px, 1px, 1px, 1px);height: 1px;margin: -1px;overflow: hidden;padding: 0;position: absolute;width: 1px;}#sk-container-id-1 div.sk-estimator {font-family: monospace;background-color: #f0f8ff;border: 1px dotted black;border-radius: 0.25em;box-sizing: border-box;margin-bottom: 0.5em;}#sk-container-id-1 div.sk-estimator:hover {background-color: #d4ebff;}#sk-container-id-1 div.sk-parallel-item::after {content: \"\";width: 100%;border-bottom: 1px solid gray;flex-grow: 1;}#sk-container-id-1 div.sk-label:hover label.sk-toggleable__label {background-color: #d4ebff;}#sk-container-id-1 div.sk-serial::before {content: \"\";position: absolute;border-left: 1px solid gray;box-sizing: border-box;top: 0;bottom: 0;left: 50%;z-index: 0;}#sk-container-id-1 div.sk-serial {display: flex;flex-direction: column;align-items: center;background-color: white;padding-right: 0.2em;padding-left: 0.2em;position: relative;}#sk-container-id-1 div.sk-item {position: relative;z-index: 1;}#sk-container-id-1 div.sk-parallel {display: flex;align-items: stretch;justify-content: center;background-color: white;position: relative;}#sk-container-id-1 div.sk-item::before, #sk-container-id-1 div.sk-parallel-item::before {content: \"\";position: absolute;border-left: 1px solid gray;box-sizing: border-box;top: 0;bottom: 0;left: 50%;z-index: -1;}#sk-container-id-1 div.sk-parallel-item {display: flex;flex-direction: column;z-index: 1;position: relative;background-color: white;}#sk-container-id-1 div.sk-parallel-item:first-child::after {align-self: flex-end;width: 50%;}#sk-container-id-1 div.sk-parallel-item:last-child::after {align-self: flex-start;width: 50%;}#sk-container-id-1 div.sk-parallel-item:only-child::after {width: 0;}#sk-container-id-1 div.sk-dashed-wrapped {border: 1px dashed gray;margin: 0 0.4em 0.5em 0.4em;box-sizing: border-box;padding-bottom: 0.4em;background-color: white;}#sk-container-id-1 div.sk-label label {font-family: monospace;font-weight: bold;display: inline-block;line-height: 1.2em;}#sk-container-id-1 div.sk-label-container {text-align: center;}#sk-container-id-1 div.sk-container {/* jupyter's `normalize.less` sets `[hidden] { display: none; }` but bootstrap.min.css set `[hidden] { display: none !important; }` so we also need the `!important` here to be able to override the default hidden behavior on the sphinx rendered scikit-learn.org. See: https://github.com/scikit-learn/scikit-learn/issues/21755 */display: inline-block !important;position: relative;}#sk-container-id-1 div.sk-text-repr-fallback {display: none;}</style><div id=\"sk-container-id-1\" class=\"sk-top-container\"><div class=\"sk-text-repr-fallback\"><pre>SVR()</pre><b>In a Jupyter environment, please rerun this cell to show the HTML representation or trust the notebook. <br />On GitHub, the HTML representation is unable to render, please try loading this page with nbviewer.org.</b></div><div class=\"sk-container\" hidden><div class=\"sk-item\"><div class=\"sk-estimator sk-toggleable\"><input class=\"sk-toggleable__control sk-hidden--visually\" id=\"sk-estimator-id-1\" type=\"checkbox\" checked><label for=\"sk-estimator-id-1\" class=\"sk-toggleable__label sk-toggleable__label-arrow\">SVR</label><div class=\"sk-toggleable__content\"><pre>SVR()</pre></div></div></div></div></div>"
      ],
      "text/plain": [
       "SVR()"
      ]
     },
     "execution_count": 36,
     "metadata": {},
     "output_type": "execute_result"
    }
   ],
   "source": [
    "regr.fit(X, y)"
   ]
  },
  {
   "cell_type": "code",
   "execution_count": 59,
   "id": "8a11a151",
   "metadata": {},
   "outputs": [],
   "source": [
    "new_df = argentina"
   ]
  },
  {
   "cell_type": "code",
   "execution_count": 61,
   "id": "d58b5d1a",
   "metadata": {},
   "outputs": [
    {
     "name": "stderr",
     "output_type": "stream",
     "text": [
      "/var/folders/j_/555m2zps099832fjh_m8jjnc0000gn/T/ipykernel_6136/592270563.py:1: FutureWarning: The frame.append method is deprecated and will be removed from pandas in a future version. Use pandas.concat instead.\n",
      "  new_df = new_df.append(france)\n"
     ]
    }
   ],
   "source": [
    "new_df = new_df.append(france)"
   ]
  },
  {
   "cell_type": "code",
   "execution_count": 62,
   "id": "6edc1098",
   "metadata": {},
   "outputs": [
    {
     "data": {
      "text/html": [
       "<div>\n",
       "<style scoped>\n",
       "    .dataframe tbody tr th:only-of-type {\n",
       "        vertical-align: middle;\n",
       "    }\n",
       "\n",
       "    .dataframe tbody tr th {\n",
       "        vertical-align: top;\n",
       "    }\n",
       "\n",
       "    .dataframe thead th {\n",
       "        text-align: right;\n",
       "    }\n",
       "</style>\n",
       "<table border=\"1\" class=\"dataframe\">\n",
       "  <thead>\n",
       "    <tr style=\"text-align: right;\">\n",
       "      <th></th>\n",
       "      <th>MP</th>\n",
       "      <th>Gls.1</th>\n",
       "      <th>Ast.1</th>\n",
       "      <th>G+A</th>\n",
       "      <th>G-PK.1</th>\n",
       "      <th>G+A-PK</th>\n",
       "      <th>xG</th>\n",
       "      <th>npxG</th>\n",
       "      <th>xAG</th>\n",
       "      <th>npxG+xAG</th>\n",
       "      <th>xG.1</th>\n",
       "      <th>xAG.1</th>\n",
       "      <th>xG+xAG</th>\n",
       "      <th>npxG.1</th>\n",
       "      <th>npxG+xAG.1</th>\n",
       "      <th>Squad_code</th>\n",
       "      <th>gls_gm</th>\n",
       "      <th>poss</th>\n",
       "    </tr>\n",
       "  </thead>\n",
       "  <tbody>\n",
       "    <tr>\n",
       "      <th>0</th>\n",
       "      <td>6.0</td>\n",
       "      <td>1.89</td>\n",
       "      <td>1.11</td>\n",
       "      <td>3.0</td>\n",
       "      <td>1.42</td>\n",
       "      <td>2.53</td>\n",
       "      <td>11.8</td>\n",
       "      <td>8.9</td>\n",
       "      <td>6.2</td>\n",
       "      <td>15.0</td>\n",
       "      <td>1.87</td>\n",
       "      <td>0.98</td>\n",
       "      <td>2.84</td>\n",
       "      <td>1.40</td>\n",
       "      <td>2.37</td>\n",
       "      <td>0</td>\n",
       "      <td>2.000000</td>\n",
       "      <td>58.0</td>\n",
       "    </tr>\n",
       "    <tr>\n",
       "      <th>2</th>\n",
       "      <td>6.0</td>\n",
       "      <td>2.17</td>\n",
       "      <td>1.83</td>\n",
       "      <td>4.0</td>\n",
       "      <td>2.17</td>\n",
       "      <td>4.00</td>\n",
       "      <td>11.6</td>\n",
       "      <td>11.6</td>\n",
       "      <td>9.7</td>\n",
       "      <td>21.2</td>\n",
       "      <td>1.93</td>\n",
       "      <td>1.61</td>\n",
       "      <td>3.54</td>\n",
       "      <td>1.93</td>\n",
       "      <td>3.54</td>\n",
       "      <td>13</td>\n",
       "      <td>2.166667</td>\n",
       "      <td>52.2</td>\n",
       "    </tr>\n",
       "  </tbody>\n",
       "</table>\n",
       "</div>"
      ],
      "text/plain": [
       "    MP  Gls.1  Ast.1  G+A  G-PK.1  G+A-PK    xG  npxG  xAG  npxG+xAG  xG.1  \\\n",
       "0  6.0   1.89   1.11  3.0    1.42    2.53  11.8   8.9  6.2      15.0  1.87   \n",
       "2  6.0   2.17   1.83  4.0    2.17    4.00  11.6  11.6  9.7      21.2  1.93   \n",
       "\n",
       "   xAG.1  xG+xAG  npxG.1  npxG+xAG.1  Squad_code    gls_gm  poss  \n",
       "0   0.98    2.84    1.40        2.37           0  2.000000  58.0  \n",
       "2   1.61    3.54    1.93        3.54          13  2.166667  52.2  "
      ]
     },
     "execution_count": 62,
     "metadata": {},
     "output_type": "execute_result"
    }
   ],
   "source": [
    "new_df"
   ]
  },
  {
   "cell_type": "code",
   "execution_count": 63,
   "id": "0e35dc8f",
   "metadata": {},
   "outputs": [
    {
     "data": {
      "text/html": [
       "<div>\n",
       "<style scoped>\n",
       "    .dataframe tbody tr th:only-of-type {\n",
       "        vertical-align: middle;\n",
       "    }\n",
       "\n",
       "    .dataframe tbody tr th {\n",
       "        vertical-align: top;\n",
       "    }\n",
       "\n",
       "    .dataframe thead th {\n",
       "        text-align: right;\n",
       "    }\n",
       "</style>\n",
       "<table border=\"1\" class=\"dataframe\">\n",
       "  <thead>\n",
       "    <tr style=\"text-align: right;\">\n",
       "      <th></th>\n",
       "      <th>Gls.1</th>\n",
       "      <th>Ast.1</th>\n",
       "      <th>G+A</th>\n",
       "      <th>G-PK.1</th>\n",
       "      <th>G+A-PK</th>\n",
       "      <th>xG</th>\n",
       "      <th>npxG</th>\n",
       "      <th>xAG</th>\n",
       "      <th>npxG+xAG</th>\n",
       "      <th>xG.1</th>\n",
       "      <th>xAG.1</th>\n",
       "      <th>xG+xAG</th>\n",
       "      <th>npxG.1</th>\n",
       "      <th>npxG+xAG.1</th>\n",
       "      <th>Squad_code</th>\n",
       "      <th>gls_gm</th>\n",
       "      <th>poss</th>\n",
       "    </tr>\n",
       "  </thead>\n",
       "  <tbody>\n",
       "    <tr>\n",
       "      <th>0</th>\n",
       "      <td>1.89</td>\n",
       "      <td>1.11</td>\n",
       "      <td>3.0</td>\n",
       "      <td>1.42</td>\n",
       "      <td>2.53</td>\n",
       "      <td>11.8</td>\n",
       "      <td>8.9</td>\n",
       "      <td>6.2</td>\n",
       "      <td>15.0</td>\n",
       "      <td>1.87</td>\n",
       "      <td>0.98</td>\n",
       "      <td>2.84</td>\n",
       "      <td>1.40</td>\n",
       "      <td>2.37</td>\n",
       "      <td>0</td>\n",
       "      <td>2.000000</td>\n",
       "      <td>58.0</td>\n",
       "    </tr>\n",
       "    <tr>\n",
       "      <th>2</th>\n",
       "      <td>2.17</td>\n",
       "      <td>1.83</td>\n",
       "      <td>4.0</td>\n",
       "      <td>2.17</td>\n",
       "      <td>4.00</td>\n",
       "      <td>11.6</td>\n",
       "      <td>11.6</td>\n",
       "      <td>9.7</td>\n",
       "      <td>21.2</td>\n",
       "      <td>1.93</td>\n",
       "      <td>1.61</td>\n",
       "      <td>3.54</td>\n",
       "      <td>1.93</td>\n",
       "      <td>3.54</td>\n",
       "      <td>13</td>\n",
       "      <td>2.166667</td>\n",
       "      <td>52.2</td>\n",
       "    </tr>\n",
       "  </tbody>\n",
       "</table>\n",
       "</div>"
      ],
      "text/plain": [
       "   Gls.1  Ast.1  G+A  G-PK.1  G+A-PK    xG  npxG  xAG  npxG+xAG  xG.1  xAG.1  \\\n",
       "0   1.89   1.11  3.0    1.42    2.53  11.8   8.9  6.2      15.0  1.87   0.98   \n",
       "2   2.17   1.83  4.0    2.17    4.00  11.6  11.6  9.7      21.2  1.93   1.61   \n",
       "\n",
       "   xG+xAG  npxG.1  npxG+xAG.1  Squad_code    gls_gm  poss  \n",
       "0    2.84    1.40        2.37           0  2.000000  58.0  \n",
       "2    3.54    1.93        3.54          13  2.166667  52.2  "
      ]
     },
     "execution_count": 63,
     "metadata": {},
     "output_type": "execute_result"
    }
   ],
   "source": [
    "new_x"
   ]
  },
  {
   "cell_type": "code",
   "execution_count": 64,
   "id": "e633b431",
   "metadata": {},
   "outputs": [
    {
     "data": {
      "text/plain": [
       "0    6.0\n",
       "2    6.0\n",
       "Name: MP, dtype: float64"
      ]
     },
     "execution_count": 64,
     "metadata": {},
     "output_type": "execute_result"
    }
   ],
   "source": [
    "new_y"
   ]
  },
  {
   "cell_type": "code",
   "execution_count": 65,
   "id": "1bc3a1b6",
   "metadata": {},
   "outputs": [],
   "source": [
    "new_x = new_df.drop(columns=['MP'])"
   ]
  },
  {
   "cell_type": "code",
   "execution_count": 66,
   "id": "532c558b",
   "metadata": {},
   "outputs": [],
   "source": [
    "new_y = new_df['MP']"
   ]
  },
  {
   "cell_type": "code",
   "execution_count": 67,
   "id": "13117624",
   "metadata": {},
   "outputs": [
    {
     "data": {
      "text/plain": [
       "array([3.92326679, 4.19143896])"
      ]
     },
     "execution_count": 67,
     "metadata": {},
     "output_type": "execute_result"
    }
   ],
   "source": [
    "predz"
   ]
  },
  {
   "cell_type": "code",
   "execution_count": 55,
   "id": "2d5a3187",
   "metadata": {},
   "outputs": [],
   "source": [
    "predz = regr.predict(new_x)"
   ]
  },
  {
   "cell_type": "code",
   "execution_count": 58,
   "id": "74adbc4b",
   "metadata": {},
   "outputs": [],
   "source": [
    "# argentina 3.92326679, \n",
    "# france 4.19143896"
   ]
  },
  {
   "cell_type": "code",
   "execution_count": 68,
   "id": "6c1b8bc8",
   "metadata": {},
   "outputs": [],
   "source": [
    "# data = {'y_test': y_test, 'y_pred': predz}\n",
    "# new_df = pd.DataFrame(data)\n",
    "# diff = (new_df['y_test'] - new_df['y_pred']).abs()\n",
    "# new_df['diff'] = diff\n",
    "# new_df = new_df.sort_values(by='diff', ascending=True)\n",
    "# new_df"
   ]
  },
  {
   "cell_type": "code",
   "execution_count": 31,
   "id": "9f148f4d",
   "metadata": {},
   "outputs": [
    {
     "data": {
      "text/html": [
       "<div>\n",
       "<style scoped>\n",
       "    .dataframe tbody tr th:only-of-type {\n",
       "        vertical-align: middle;\n",
       "    }\n",
       "\n",
       "    .dataframe tbody tr th {\n",
       "        vertical-align: top;\n",
       "    }\n",
       "\n",
       "    .dataframe thead th {\n",
       "        text-align: right;\n",
       "    }\n",
       "</style>\n",
       "<table border=\"1\" class=\"dataframe\">\n",
       "  <thead>\n",
       "    <tr style=\"text-align: right;\">\n",
       "      <th></th>\n",
       "      <th>MP</th>\n",
       "      <th>Gls.1</th>\n",
       "      <th>Ast.1</th>\n",
       "      <th>G+A</th>\n",
       "      <th>G-PK.1</th>\n",
       "      <th>G+A-PK</th>\n",
       "      <th>xG</th>\n",
       "      <th>npxG</th>\n",
       "      <th>xAG</th>\n",
       "      <th>npxG+xAG</th>\n",
       "      <th>xG.1</th>\n",
       "      <th>xAG.1</th>\n",
       "      <th>xG+xAG</th>\n",
       "      <th>npxG.1</th>\n",
       "      <th>npxG+xAG.1</th>\n",
       "      <th>Squad_code</th>\n",
       "      <th>gls_gm</th>\n",
       "      <th>poss</th>\n",
       "    </tr>\n",
       "  </thead>\n",
       "  <tbody>\n",
       "    <tr>\n",
       "      <th>0</th>\n",
       "      <td>6.0</td>\n",
       "      <td>1.89</td>\n",
       "      <td>1.11</td>\n",
       "      <td>3.00</td>\n",
       "      <td>1.42</td>\n",
       "      <td>2.53</td>\n",
       "      <td>11.8</td>\n",
       "      <td>8.9</td>\n",
       "      <td>6.2</td>\n",
       "      <td>15.0</td>\n",
       "      <td>1.87</td>\n",
       "      <td>0.98</td>\n",
       "      <td>2.84</td>\n",
       "      <td>1.40</td>\n",
       "      <td>2.37</td>\n",
       "      <td>0</td>\n",
       "      <td>2.000000</td>\n",
       "      <td>58.0</td>\n",
       "    </tr>\n",
       "    <tr>\n",
       "      <th>1</th>\n",
       "      <td>6.0</td>\n",
       "      <td>0.90</td>\n",
       "      <td>0.90</td>\n",
       "      <td>1.80</td>\n",
       "      <td>0.90</td>\n",
       "      <td>1.80</td>\n",
       "      <td>6.4</td>\n",
       "      <td>6.4</td>\n",
       "      <td>5.0</td>\n",
       "      <td>11.4</td>\n",
       "      <td>0.95</td>\n",
       "      <td>0.75</td>\n",
       "      <td>1.71</td>\n",
       "      <td>0.95</td>\n",
       "      <td>1.71</td>\n",
       "      <td>15</td>\n",
       "      <td>1.000000</td>\n",
       "      <td>55.0</td>\n",
       "    </tr>\n",
       "    <tr>\n",
       "      <th>2</th>\n",
       "      <td>6.0</td>\n",
       "      <td>2.17</td>\n",
       "      <td>1.83</td>\n",
       "      <td>4.00</td>\n",
       "      <td>2.17</td>\n",
       "      <td>4.00</td>\n",
       "      <td>11.6</td>\n",
       "      <td>11.6</td>\n",
       "      <td>9.7</td>\n",
       "      <td>21.2</td>\n",
       "      <td>1.93</td>\n",
       "      <td>1.61</td>\n",
       "      <td>3.54</td>\n",
       "      <td>1.93</td>\n",
       "      <td>3.54</td>\n",
       "      <td>13</td>\n",
       "      <td>2.166667</td>\n",
       "      <td>52.2</td>\n",
       "    </tr>\n",
       "    <tr>\n",
       "      <th>3</th>\n",
       "      <td>6.0</td>\n",
       "      <td>0.79</td>\n",
       "      <td>0.63</td>\n",
       "      <td>1.42</td>\n",
       "      <td>0.79</td>\n",
       "      <td>1.42</td>\n",
       "      <td>5.4</td>\n",
       "      <td>5.4</td>\n",
       "      <td>4.3</td>\n",
       "      <td>9.7</td>\n",
       "      <td>0.86</td>\n",
       "      <td>0.68</td>\n",
       "      <td>1.54</td>\n",
       "      <td>0.86</td>\n",
       "      <td>1.54</td>\n",
       "      <td>19</td>\n",
       "      <td>0.833333</td>\n",
       "      <td>37.2</td>\n",
       "    </tr>\n",
       "    <tr>\n",
       "      <th>4</th>\n",
       "      <td>5.0</td>\n",
       "      <td>1.50</td>\n",
       "      <td>1.13</td>\n",
       "      <td>2.62</td>\n",
       "      <td>1.31</td>\n",
       "      <td>2.44</td>\n",
       "      <td>12.0</td>\n",
       "      <td>11.2</td>\n",
       "      <td>8.2</td>\n",
       "      <td>19.4</td>\n",
       "      <td>2.24</td>\n",
       "      <td>1.54</td>\n",
       "      <td>3.79</td>\n",
       "      <td>2.09</td>\n",
       "      <td>3.64</td>\n",
       "      <td>3</td>\n",
       "      <td>1.600000</td>\n",
       "      <td>56.2</td>\n",
       "    </tr>\n",
       "  </tbody>\n",
       "</table>\n",
       "</div>"
      ],
      "text/plain": [
       "    MP  Gls.1  Ast.1   G+A  G-PK.1  G+A-PK    xG  npxG  xAG  npxG+xAG  xG.1  \\\n",
       "0  6.0   1.89   1.11  3.00    1.42    2.53  11.8   8.9  6.2      15.0  1.87   \n",
       "1  6.0   0.90   0.90  1.80    0.90    1.80   6.4   6.4  5.0      11.4  0.95   \n",
       "2  6.0   2.17   1.83  4.00    2.17    4.00  11.6  11.6  9.7      21.2  1.93   \n",
       "3  6.0   0.79   0.63  1.42    0.79    1.42   5.4   5.4  4.3       9.7  0.86   \n",
       "4  5.0   1.50   1.13  2.62    1.31    2.44  12.0  11.2  8.2      19.4  2.24   \n",
       "\n",
       "   xAG.1  xG+xAG  npxG.1  npxG+xAG.1  Squad_code    gls_gm  poss  \n",
       "0   0.98    2.84    1.40        2.37           0  2.000000  58.0  \n",
       "1   0.75    1.71    0.95        1.71          15  1.000000  55.0  \n",
       "2   1.61    3.54    1.93        3.54          13  2.166667  52.2  \n",
       "3   0.68    1.54    0.86        1.54          19  0.833333  37.2  \n",
       "4   1.54    3.79    2.09        3.64           3  1.600000  56.2  "
      ]
     },
     "execution_count": 31,
     "metadata": {},
     "output_type": "execute_result"
    }
   ],
   "source": [
    "df.head()"
   ]
  },
  {
   "cell_type": "code",
   "execution_count": null,
   "id": "9334d3c1",
   "metadata": {},
   "outputs": [],
   "source": []
  }
 ],
 "metadata": {
  "kernelspec": {
   "display_name": "Python 3 (ipykernel)",
   "language": "python",
   "name": "python3"
  },
  "language_info": {
   "codemirror_mode": {
    "name": "ipython",
    "version": 3
   },
   "file_extension": ".py",
   "mimetype": "text/x-python",
   "name": "python",
   "nbconvert_exporter": "python",
   "pygments_lexer": "ipython3",
   "version": "3.9.12"
  }
 },
 "nbformat": 4,
 "nbformat_minor": 5
}
