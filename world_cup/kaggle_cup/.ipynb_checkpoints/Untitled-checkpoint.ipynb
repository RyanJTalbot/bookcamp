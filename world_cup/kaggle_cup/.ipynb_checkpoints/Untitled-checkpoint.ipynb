{
 "cells": [
  {
   "cell_type": "code",
   "execution_count": 9,
   "id": "a68f263b",
   "metadata": {},
   "outputs": [],
   "source": [
    "import pandas as pd\n",
    "import numpy as np"
   ]
  },
  {
   "cell_type": "code",
   "execution_count": 2,
   "id": "502de705",
   "metadata": {},
   "outputs": [],
   "source": [
    "rank = pd.read_csv('fifa_ranking.csv')"
   ]
  },
  {
   "cell_type": "code",
   "execution_count": 3,
   "id": "e5a84829",
   "metadata": {},
   "outputs": [],
   "source": [
    "results = pd.read_csv('results.csv')"
   ]
  },
  {
   "cell_type": "code",
   "execution_count": 4,
   "id": "e2ddddb8",
   "metadata": {},
   "outputs": [],
   "source": [
    "last_wc = pd.read_csv('world cup 2018 Dataset.csv')"
   ]
  },
  {
   "cell_type": "code",
   "execution_count": 5,
   "id": "aa6640f7",
   "metadata": {},
   "outputs": [
    {
     "data": {
      "text/html": [
       "<div>\n",
       "<style scoped>\n",
       "    .dataframe tbody tr th:only-of-type {\n",
       "        vertical-align: middle;\n",
       "    }\n",
       "\n",
       "    .dataframe tbody tr th {\n",
       "        vertical-align: top;\n",
       "    }\n",
       "\n",
       "    .dataframe thead th {\n",
       "        text-align: right;\n",
       "    }\n",
       "</style>\n",
       "<table border=\"1\" class=\"dataframe\">\n",
       "  <thead>\n",
       "    <tr style=\"text-align: right;\">\n",
       "      <th></th>\n",
       "      <th>Team</th>\n",
       "      <th>Group</th>\n",
       "      <th>Previous \\nappearances</th>\n",
       "      <th>Previous \\ntitles</th>\n",
       "      <th>Previous\\n finals</th>\n",
       "      <th>Previous\\n semifinals</th>\n",
       "      <th>Current \\nFIFA rank</th>\n",
       "      <th>First match \\nagainst</th>\n",
       "      <th>Match index</th>\n",
       "      <th>history with \\nfirst opponent\\n W-L</th>\n",
       "      <th>history with\\n first opponent\\n goals</th>\n",
       "      <th>Second match\\n against</th>\n",
       "      <th>Match index.1</th>\n",
       "      <th>history with\\n second opponent\\n W-L</th>\n",
       "      <th>history with\\n second opponent\\n goals</th>\n",
       "      <th>Third match\\n against</th>\n",
       "      <th>Match index.2</th>\n",
       "      <th>history with\\n third opponent\\n W-L</th>\n",
       "      <th>history with\\n third opponent\\n goals</th>\n",
       "      <th>Unnamed: 19</th>\n",
       "    </tr>\n",
       "  </thead>\n",
       "  <tbody>\n",
       "    <tr>\n",
       "      <th>0</th>\n",
       "      <td>Russia</td>\n",
       "      <td>A</td>\n",
       "      <td>10.0</td>\n",
       "      <td>0.0</td>\n",
       "      <td>0.0</td>\n",
       "      <td>1.0</td>\n",
       "      <td>65.0</td>\n",
       "      <td>Saudi Arabia</td>\n",
       "      <td>1.0</td>\n",
       "      <td>-1.0</td>\n",
       "      <td>-2.0</td>\n",
       "      <td>Egypt</td>\n",
       "      <td>17.0</td>\n",
       "      <td>NaN</td>\n",
       "      <td>NaN</td>\n",
       "      <td>Uruguay</td>\n",
       "      <td>33.0</td>\n",
       "      <td>0.0</td>\n",
       "      <td>0.0</td>\n",
       "      <td>NaN</td>\n",
       "    </tr>\n",
       "    <tr>\n",
       "      <th>1</th>\n",
       "      <td>Saudi Arabia</td>\n",
       "      <td>A</td>\n",
       "      <td>4.0</td>\n",
       "      <td>0.0</td>\n",
       "      <td>0.0</td>\n",
       "      <td>0.0</td>\n",
       "      <td>63.0</td>\n",
       "      <td>Russia</td>\n",
       "      <td>1.0</td>\n",
       "      <td>1.0</td>\n",
       "      <td>2.0</td>\n",
       "      <td>Uruguay</td>\n",
       "      <td>18.0</td>\n",
       "      <td>1.0</td>\n",
       "      <td>1.0</td>\n",
       "      <td>Egypt</td>\n",
       "      <td>34.0</td>\n",
       "      <td>-5.0</td>\n",
       "      <td>-5.0</td>\n",
       "      <td>NaN</td>\n",
       "    </tr>\n",
       "    <tr>\n",
       "      <th>2</th>\n",
       "      <td>Egypt</td>\n",
       "      <td>A</td>\n",
       "      <td>2.0</td>\n",
       "      <td>0.0</td>\n",
       "      <td>0.0</td>\n",
       "      <td>0.0</td>\n",
       "      <td>31.0</td>\n",
       "      <td>Uruguay</td>\n",
       "      <td>2.0</td>\n",
       "      <td>-1.0</td>\n",
       "      <td>-2.0</td>\n",
       "      <td>Russia</td>\n",
       "      <td>17.0</td>\n",
       "      <td>NaN</td>\n",
       "      <td>NaN</td>\n",
       "      <td>Saudi Arabia</td>\n",
       "      <td>34.0</td>\n",
       "      <td>5.0</td>\n",
       "      <td>5.0</td>\n",
       "      <td>NaN</td>\n",
       "    </tr>\n",
       "    <tr>\n",
       "      <th>3</th>\n",
       "      <td>Uruguay</td>\n",
       "      <td>A</td>\n",
       "      <td>12.0</td>\n",
       "      <td>2.0</td>\n",
       "      <td>2.0</td>\n",
       "      <td>5.0</td>\n",
       "      <td>21.0</td>\n",
       "      <td>Egypt</td>\n",
       "      <td>2.0</td>\n",
       "      <td>1.0</td>\n",
       "      <td>2.0</td>\n",
       "      <td>Saudi Arabia</td>\n",
       "      <td>18.0</td>\n",
       "      <td>-1.0</td>\n",
       "      <td>-1.0</td>\n",
       "      <td>Russia</td>\n",
       "      <td>33.0</td>\n",
       "      <td>0.0</td>\n",
       "      <td>0.0</td>\n",
       "      <td>NaN</td>\n",
       "    </tr>\n",
       "    <tr>\n",
       "      <th>4</th>\n",
       "      <td>Porugal</td>\n",
       "      <td>B</td>\n",
       "      <td>6.0</td>\n",
       "      <td>0.0</td>\n",
       "      <td>0.0</td>\n",
       "      <td>2.0</td>\n",
       "      <td>3.0</td>\n",
       "      <td>Spain</td>\n",
       "      <td>3.0</td>\n",
       "      <td>-12.0</td>\n",
       "      <td>-31.0</td>\n",
       "      <td>Morocco</td>\n",
       "      <td>19.0</td>\n",
       "      <td>-1.0</td>\n",
       "      <td>-2.0</td>\n",
       "      <td>Iran</td>\n",
       "      <td>35.0</td>\n",
       "      <td>2.0</td>\n",
       "      <td>5.0</td>\n",
       "      <td>NaN</td>\n",
       "    </tr>\n",
       "  </tbody>\n",
       "</table>\n",
       "</div>"
      ],
      "text/plain": [
       "           Team Group  Previous \\nappearances  Previous \\ntitles  \\\n",
       "0        Russia     A                    10.0                0.0   \n",
       "1  Saudi Arabia     A                     4.0                0.0   \n",
       "2         Egypt     A                     2.0                0.0   \n",
       "3       Uruguay     A                    12.0                2.0   \n",
       "4       Porugal     B                     6.0                0.0   \n",
       "\n",
       "   Previous\\n finals  Previous\\n semifinals  Current \\nFIFA rank  \\\n",
       "0                0.0                    1.0                 65.0   \n",
       "1                0.0                    0.0                 63.0   \n",
       "2                0.0                    0.0                 31.0   \n",
       "3                2.0                    5.0                 21.0   \n",
       "4                0.0                    2.0                  3.0   \n",
       "\n",
       "  First match \\nagainst  Match index  history with \\nfirst opponent\\n W-L  \\\n",
       "0          Saudi Arabia          1.0                                 -1.0   \n",
       "1                Russia          1.0                                  1.0   \n",
       "2               Uruguay          2.0                                 -1.0   \n",
       "3                 Egypt          2.0                                  1.0   \n",
       "4                 Spain          3.0                                -12.0   \n",
       "\n",
       "   history with\\n first opponent\\n goals Second match\\n against  \\\n",
       "0                                   -2.0                  Egypt   \n",
       "1                                    2.0                Uruguay   \n",
       "2                                   -2.0                 Russia   \n",
       "3                                    2.0           Saudi Arabia   \n",
       "4                                  -31.0                Morocco   \n",
       "\n",
       "   Match index.1  history with\\n second opponent\\n W-L  \\\n",
       "0           17.0                                   NaN   \n",
       "1           18.0                                   1.0   \n",
       "2           17.0                                   NaN   \n",
       "3           18.0                                  -1.0   \n",
       "4           19.0                                  -1.0   \n",
       "\n",
       "   history with\\n second opponent\\n goals Third match\\n against  \\\n",
       "0                                     NaN               Uruguay   \n",
       "1                                     1.0                 Egypt   \n",
       "2                                     NaN          Saudi Arabia   \n",
       "3                                    -1.0                Russia   \n",
       "4                                    -2.0                  Iran   \n",
       "\n",
       "   Match index.2  history with\\n third opponent\\n W-L  \\\n",
       "0           33.0                                  0.0   \n",
       "1           34.0                                 -5.0   \n",
       "2           34.0                                  5.0   \n",
       "3           33.0                                  0.0   \n",
       "4           35.0                                  2.0   \n",
       "\n",
       "   history with\\n third opponent\\n goals  Unnamed: 19  \n",
       "0                                    0.0          NaN  \n",
       "1                                   -5.0          NaN  \n",
       "2                                    5.0          NaN  \n",
       "3                                    0.0          NaN  \n",
       "4                                    5.0          NaN  "
      ]
     },
     "execution_count": 5,
     "metadata": {},
     "output_type": "execute_result"
    }
   ],
   "source": [
    "last_wc.head()"
   ]
  },
  {
   "cell_type": "code",
   "execution_count": 6,
   "id": "fb3b88f6",
   "metadata": {},
   "outputs": [
    {
     "data": {
      "text/plain": [
       "(33, 20)"
      ]
     },
     "execution_count": 6,
     "metadata": {},
     "output_type": "execute_result"
    }
   ],
   "source": [
    "last_wc.shape"
   ]
  },
  {
   "cell_type": "code",
   "execution_count": 16,
   "id": "f6f1821f",
   "metadata": {},
   "outputs": [],
   "source": [
    "str_cats = last_wc.dtypes[last_wc.dtypes==np.object]"
   ]
  },
  {
   "cell_type": "code",
   "execution_count": 17,
   "id": "1c74e916",
   "metadata": {},
   "outputs": [
    {
     "data": {
      "text/plain": [
       "Team                      object\n",
       "Group                     object\n",
       "First match \\nagainst     object\n",
       "Second match\\n against    object\n",
       "Third match\\n against     object\n",
       "dtype: object"
      ]
     },
     "execution_count": 17,
     "metadata": {},
     "output_type": "execute_result"
    }
   ],
   "source": [
    "str_cats"
   ]
  },
  {
   "cell_type": "code",
   "execution_count": 14,
   "id": "0be77744",
   "metadata": {},
   "outputs": [],
   "source": [
    "cats = str_cats.index.tolist()"
   ]
  },
  {
   "cell_type": "code",
   "execution_count": 15,
   "id": "15a0d86d",
   "metadata": {},
   "outputs": [
    {
     "data": {
      "text/plain": [
       "['Team',\n",
       " 'Group',\n",
       " 'First match \\nagainst',\n",
       " 'Second match\\n against',\n",
       " 'Third match\\n against']"
      ]
     },
     "execution_count": 15,
     "metadata": {},
     "output_type": "execute_result"
    }
   ],
   "source": [
    "cats"
   ]
  },
  {
   "cell_type": "code",
   "execution_count": null,
   "id": "4f845e7e",
   "metadata": {},
   "outputs": [],
   "source": []
  },
  {
   "cell_type": "code",
   "execution_count": null,
   "id": "089760dd",
   "metadata": {},
   "outputs": [],
   "source": []
  }
 ],
 "metadata": {
  "kernelspec": {
   "display_name": "Python 3 (ipykernel)",
   "language": "python",
   "name": "python3"
  },
  "language_info": {
   "codemirror_mode": {
    "name": "ipython",
    "version": 3
   },
   "file_extension": ".py",
   "mimetype": "text/x-python",
   "name": "python",
   "nbconvert_exporter": "python",
   "pygments_lexer": "ipython3",
   "version": "3.8.13"
  }
 },
 "nbformat": 4,
 "nbformat_minor": 5
}
