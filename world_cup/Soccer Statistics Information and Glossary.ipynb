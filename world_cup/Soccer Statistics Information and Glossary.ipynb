{
 "cells": [
  {
   "cell_type": "markdown",
   "metadata": {},
   "source": [
    "## Resources:\n",
    "- https://medium.com/@max_vander_werf/an-overview-of-advanced-metrics-in-football-analysis-4e75fd82bef8\n",
    "- https://karun.in/blog/expected-threat.html\n",
    "- https://www.samford.edu/sports-analytics/fans/2020/A-Crash-Course-in-Soccer-Analytics\n",
    "- https://www.americansocceranalysis.com/\n",
    "- https://sharmaabhishekk.github.io/projects/xt-derivation-julia\n"
   ]
  },
  {
   "cell_type": "markdown",
   "metadata": {},
   "source": [
    "## Note: Its important to scale the stats by using stat per 90\n",
    "\n",
    "### Expected goals (xG)\n",
    "- remains the gold standard for predicting future performance. Conceptually the idea is simple. Instead of counting shots, give each shot a value reflecting the likelihood it will be a goal.\n",
    "\n",
    "### Non-shot based xG\n",
    "- An xG model predicts how many goals a team “should” have scored from the shots it has taken, while a non-shot xG model is predicting how many goals a team should have scored from the shots it has taken and the pass it has made.\n",
    "\n",
    "### Expected Threat (xT)\n",
    "- The expected threat or xT model is a possession-based model. That is, it divides matches into possessions, which are periods of the game where the same team has control of the ball. The key insights underlying xT are that (1) players perform actions with the intention to increase their team’s chance of scoring, and (2) the chance of scoring can be adequately captured by only considering the location of the ball\n",
    "-  measures the offensive contribution of any non-shot action (pass, dribble, cross).2 The main idea revolves around rewarding individual player actions on how much they contribute offensively using probabilistic outcomes. If a player sends a cross into the box, for example, how much it increases the change of a goal. Such measures play a critical role in evaluation player performances even if the outcome of the attack is not successful.\n",
    "\n",
    "### Passes Allowed per Defensive Action (PPDA) \n",
    "- calculates the number of passes of the opponent before a team makes a defensive action (a tackle, interception, challenge or foul).\n",
    "\n",
    "### Expected Goals on Target (xGOT)\n",
    "- Expected goals on target (or xGOT) measures the likelihood of an on-target shot resulting in a goal, based on the combination of the underlying chance quality (xG) and the end location of the shot within the goalmouth. It gives more credit to shots that end up in the corners than shots that go straight down the middle of the goal.\n",
    "- xGOT is measured on a scale between zero and one, where zero represents a shot that will never result in a goal and one represents a shot that is expected to be scored every single time. \n",
    "\n",
    "### Shooting Goals Added (SGA)\n",
    "- a player whose xGOT is exceeding their xG is executing better quality shots, given the quality of chances he has attempted shots from. We call this difference between xGOT and xG, Shooting Goals Added (or SGA).\n",
    "\n",
    "### Ejections (EJ)\t\n",
    "- (Red Cards) The referee Ejects a player from a game by \"showing\" a Red Card. (Usually a Red Card results in that team remaining a player short for the rest of the game. Any time a Yellow or Red Card is shown, a direct or indirect kick will also be awarded.)\n",
    "\n",
    "### Cautions (C)\t\n",
    "- (Yellow Card) The referee indicates a formal Caution by holding up (or \"showing\") a Yellow Card. A player who receives 2 Yellow Cards is given a Red Card & ejected. (League rules vary as to whether a Red Card resulting from 2 Yellow Cards results in that team remaining a player short for the rest of the game. Any time a Yellow or Red Card is shown, a direct or indirect kick will also be awarded.)\n",
    "\n",
    "### Fouls Sustained (FS)\t\n",
    "- Fouls sustained by a player leading to a free kick for his/her team.\n",
    "\n",
    "### Fouls Committed (FC)\t\n",
    "- Fouls committed by a player leading to a free kick for the opposite team.\n",
    "\n",
    "### Goals Prevented\n",
    "- Expected goals on target [or post-shot expecected goals] / Number of Goals Conceded = goals prevented.\n",
    "- better metric than save percentage\n",
    "\n",
    "### True Tackle win-rate\n",
    "- total tackles / (total tackles + challenges lost + fouls when attempting a tackle) = True tackle win-rate\n",
    "- better metric than tackle win rate\n",
    "\n"
   ]
  },
  {
   "cell_type": "code",
   "execution_count": null,
   "metadata": {},
   "outputs": [],
   "source": []
  }
 ],
 "metadata": {
  "kernelspec": {
   "display_name": "Python 3 (ipykernel)",
   "language": "python",
   "name": "python3"
  },
  "language_info": {
   "codemirror_mode": {
    "name": "ipython",
    "version": 3
   },
   "file_extension": ".py",
   "mimetype": "text/x-python",
   "name": "python",
   "nbconvert_exporter": "python",
   "pygments_lexer": "ipython3",
   "version": "3.9.12"
  }
 },
 "nbformat": 4,
 "nbformat_minor": 5
}
