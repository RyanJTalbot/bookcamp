{
 "cells": [
  {
   "cell_type": "markdown",
   "metadata": {},
   "source": [
    "Data:\n",
    "- Elo Ranking\n",
    "- Attack Strength\n",
    "- Defense Strength\n",
    "- Location of the match"
   ]
  },
  {
   "cell_type": "markdown",
   "metadata": {},
   "source": [
    "Question:\n",
    "    1. which team has the best chance to win world cup?\n",
    "    2. how big are the probabilities that a team will win its group or be eliminated in the group stage?\n",
    "    3. The probability of a team reaching a certain stage of the tournament\n",
    "    \n",
    "    "
   ]
  },
  {
   "cell_type": "markdown",
   "metadata": {},
   "source": [
    "<b>Nested Zero-Inflated Generalized Poisson Regression (ZIGP)</b>\n",
    "\n",
    "using a rested regression approach for estimating the probabilities of the exact result of single matches. \n",
    "\n",
    "A discrete random variable X follows a Zero-Inflated Generalized Poisson distribution with \n",
    "Poisson parameter u > 0, etc..."
   ]
  },
  {
   "cell_type": "markdown",
   "metadata": {},
   "source": [
    "the number of goals scored by the weaker team (according to the Elo ranking)\n",
    "does additionally depend on the number of scored goals of the stronger team."
   ]
  },
  {
   "cell_type": "markdown",
   "metadata": {},
   "source": [
    "In particular, the presented model generalizes the model used in\n",
    "Gilch (2019) by adding a dispersion parameter, zero-in\n",
    "ation and a regression approach\n",
    "which weights historical data according to importance and time depreciation."
   ]
  },
  {
   "cell_type": "code",
   "execution_count": null,
   "metadata": {},
   "outputs": [],
   "source": []
  }
 ],
 "metadata": {
  "kernelspec": {
   "display_name": "Python 3 (ipykernel)",
   "language": "python",
   "name": "python3"
  },
  "language_info": {
   "codemirror_mode": {
    "name": "ipython",
    "version": 3
   },
   "file_extension": ".py",
   "mimetype": "text/x-python",
   "name": "python",
   "nbconvert_exporter": "python",
   "pygments_lexer": "ipython3",
   "version": "3.9.12"
  }
 },
 "nbformat": 4,
 "nbformat_minor": 2
}
