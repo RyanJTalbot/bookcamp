{
 "cells": [
  {
   "cell_type": "markdown",
   "metadata": {
    "_uuid": "7c235841c6763544cc0b8cc2a6645529de818edc"
   },
   "source": [
    "# Which team will win the 2018 FIFA world cup ?\n",
    "\n",
    "Hello world ! 👋\n",
    "\n",
    "This year is the year of the FIFA world cup that will take place in Russia from the 14th june to the 15th july. I think it can be fun to try to predict which team will win by using all international football matches and the result.\n",
    "\n",
    "Also for me I will try to have a better comprehension about the poisson distribution.\n",
    "\n",
    "So the model that I will build is based on the number of goals scored and conceded by each team, I will also add a weight which depends on the date of the match and the tournament type (Friendly, FIFA World Cup, ...) then we can simulate a match with a goal average for each team and thanks to the matrix I will have, I will find out the probability of a team to win, loose or draw. After that let's simulate the whole tournament ! ⚽\n",
    "\n",
    "This kernel is inspired from this article : [link](https://dashee87.github.io/football/python/predicting-football-results-with-statistical-modelling/).\n",
    "\n",
    "## Table of content\n",
    "\n",
    "* [Import librairies](#Import-libraries)\n",
    "* [Reading the data](#Reading-the-data)\n",
    "* [Exploratory data analysis and visualizations](#Exploratory-data-analysis-and-visualizations)\n",
    "    * [What are the most tournament played ?](#What-are-the-most-tournament-played-?)\n",
    "    * [What are the teams with the best goal average ?](#What-are-the-teams-with-the-best-goal-average-?)\n",
    "    * [What are the teams who played the most matches ?](#What-are-the-teams-who-played-the-most-matches-?)\n",
    "    * [What are the teams who scored the most ?](#What-are-the-teams-who-scored-the-most-?)\n",
    "    * [Poisson distribution for the score (all team)](#Poisson-distribution-for-the-score-(all-team))\n",
    "    * [Poisson distribution for the score (France and Germany)](#Poisson-distribution-for-the-score-(France-and-Germany))\n",
    "* [Building the model](#Building-the-model)\n",
    "* [Simulate the competition](#Simulate-the-competition)\n",
    "\n",
    "\n",
    "## Import libraries"
   ]
  },
  {
   "cell_type": "code",
   "execution_count": 1,
   "metadata": {
    "_cell_guid": "b1076dfc-b9ad-4769-8c92-a6c4dae69d19",
    "_uuid": "8f2839f25d086af736a60e9eeb907d3b93b6e0e5",
    "execution": {
     "iopub.execute_input": "2022-07-26T02:28:42.756263Z",
     "iopub.status.busy": "2022-07-26T02:28:42.755868Z",
     "iopub.status.idle": "2022-07-26T02:28:43.764651Z",
     "shell.execute_reply": "2022-07-26T02:28:43.763782Z",
     "shell.execute_reply.started": "2022-07-26T02:28:42.756202Z"
    }
   },
   "outputs": [],
   "source": [
    "import pandas as pd\n",
    "import matplotlib.pyplot as plt\n",
    "import matplotlib.image as mpimg\n",
    "import numpy as np\n",
    "import seaborn as sns\n",
    "from scipy.stats import poisson\n",
    "import statsmodels.api as sm\n",
    "import statsmodels.formula.api as smf\n",
    "import itertools\n",
    "from IPython.display import display, HTML"
   ]
  },
  {
   "cell_type": "markdown",
   "metadata": {
    "_uuid": "1a2106b886bc76281b928090cd9141f42fce5f2a"
   },
   "source": [
    "## Reading the data"
   ]
  },
  {
   "cell_type": "code",
   "execution_count": 2,
   "metadata": {
    "_cell_guid": "79c7e3d0-c299-4dcb-8224-4455121ee9b0",
    "_uuid": "d629ff2d2480ee46fbb7e2d37f6b5fab8052498a",
    "execution": {
     "iopub.execute_input": "2022-07-26T02:28:43.765773Z",
     "iopub.status.busy": "2022-07-26T02:28:43.765564Z",
     "iopub.status.idle": "2022-07-26T02:28:43.928565Z",
     "shell.execute_reply": "2022-07-26T02:28:43.927629Z",
     "shell.execute_reply.started": "2022-07-26T02:28:43.765742Z"
    }
   },
   "outputs": [],
   "source": [
    "matches = pd.read_csv('results.csv')"
   ]
  },
  {
   "cell_type": "markdown",
   "metadata": {
    "_uuid": "22e2a58ea7854d8f6ff6c8a32077d13959435eda"
   },
   "source": [
    "## Exploratory data analysis and visualizations"
   ]
  },
  {
   "cell_type": "code",
   "execution_count": 3,
   "metadata": {
    "_uuid": "cd3e18132f011c855327eee99ea31810b2842ac2",
    "execution": {
     "iopub.execute_input": "2022-07-26T02:28:43.930280Z",
     "iopub.status.busy": "2022-07-26T02:28:43.929930Z",
     "iopub.status.idle": "2022-07-26T02:28:43.969088Z",
     "shell.execute_reply": "2022-07-26T02:28:43.968268Z",
     "shell.execute_reply.started": "2022-07-26T02:28:43.930228Z"
    }
   },
   "outputs": [
    {
     "data": {
      "text/html": [
       "<div>\n",
       "<style scoped>\n",
       "    .dataframe tbody tr th:only-of-type {\n",
       "        vertical-align: middle;\n",
       "    }\n",
       "\n",
       "    .dataframe tbody tr th {\n",
       "        vertical-align: top;\n",
       "    }\n",
       "\n",
       "    .dataframe thead th {\n",
       "        text-align: right;\n",
       "    }\n",
       "</style>\n",
       "<table border=\"1\" class=\"dataframe\">\n",
       "  <thead>\n",
       "    <tr style=\"text-align: right;\">\n",
       "      <th></th>\n",
       "      <th>date</th>\n",
       "      <th>home_team</th>\n",
       "      <th>away_team</th>\n",
       "      <th>home_score</th>\n",
       "      <th>away_score</th>\n",
       "      <th>tournament</th>\n",
       "      <th>city</th>\n",
       "      <th>country</th>\n",
       "      <th>neutral</th>\n",
       "    </tr>\n",
       "  </thead>\n",
       "  <tbody>\n",
       "    <tr>\n",
       "      <th>0</th>\n",
       "      <td>1872-11-30</td>\n",
       "      <td>Scotland</td>\n",
       "      <td>England</td>\n",
       "      <td>0</td>\n",
       "      <td>0</td>\n",
       "      <td>Friendly</td>\n",
       "      <td>Glasgow</td>\n",
       "      <td>Scotland</td>\n",
       "      <td>False</td>\n",
       "    </tr>\n",
       "    <tr>\n",
       "      <th>1</th>\n",
       "      <td>1873-03-08</td>\n",
       "      <td>England</td>\n",
       "      <td>Scotland</td>\n",
       "      <td>4</td>\n",
       "      <td>2</td>\n",
       "      <td>Friendly</td>\n",
       "      <td>London</td>\n",
       "      <td>England</td>\n",
       "      <td>False</td>\n",
       "    </tr>\n",
       "  </tbody>\n",
       "</table>\n",
       "</div>"
      ],
      "text/plain": [
       "         date home_team away_team  home_score  away_score tournament     city  \\\n",
       "0  1872-11-30  Scotland   England           0           0   Friendly  Glasgow   \n",
       "1  1873-03-08   England  Scotland           4           2   Friendly   London   \n",
       "\n",
       "    country  neutral  \n",
       "0  Scotland    False  \n",
       "1   England    False  "
      ]
     },
     "execution_count": 3,
     "metadata": {},
     "output_type": "execute_result"
    }
   ],
   "source": [
    "matches.head(2)"
   ]
  },
  {
   "cell_type": "markdown",
   "metadata": {
    "_uuid": "c0e873abff6079c4cc691735519f193a26e02a59"
   },
   "source": [
    "So we can see that each row is composed of :\n",
    "* a date\n",
    "* the two teams and their score\n",
    "* the tournament\n",
    "* the location : country and city\n",
    "* if the location is neutral\n",
    "\n",
    "First I set the type of the date to datetime."
   ]
  },
  {
   "cell_type": "code",
   "execution_count": 4,
   "metadata": {
    "_uuid": "0585aba9a9c613963a9bfab9ddde97fe83e1a542",
    "execution": {
     "iopub.execute_input": "2022-07-26T02:28:43.970650Z",
     "iopub.status.busy": "2022-07-26T02:28:43.970210Z",
     "iopub.status.idle": "2022-07-26T02:28:44.008441Z",
     "shell.execute_reply": "2022-07-26T02:28:44.007795Z",
     "shell.execute_reply.started": "2022-07-26T02:28:43.970600Z"
    }
   },
   "outputs": [],
   "source": [
    "matches = matches.astype({'date':'datetime64[ns]'})"
   ]
  },
  {
   "cell_type": "markdown",
   "metadata": {
    "_uuid": "d93f9ba36e1db554d57e24fdda284ed063a2aa9c"
   },
   "source": [
    "Now let's see which tournament type is the most played.\n",
    "\n",
    "### What are the most tournament played ?"
   ]
  },
  {
   "cell_type": "code",
   "execution_count": 5,
   "metadata": {
    "_kg_hide-input": true,
    "_uuid": "e65e153594f40aa5d7efd8307fe5c05192e88050",
    "execution": {
     "iopub.execute_input": "2022-07-26T02:28:44.009874Z",
     "iopub.status.busy": "2022-07-26T02:28:44.009463Z",
     "iopub.status.idle": "2022-07-26T02:28:44.333061Z",
     "shell.execute_reply": "2022-07-26T02:28:44.332299Z",
     "shell.execute_reply.started": "2022-07-26T02:28:44.009836Z"
    }
   },
   "outputs": [
    {
     "data": {
      "text/plain": [
       "Text(0.5, 1.0, 'TOP 10 TYPE OF MATCH TOURNAMENTS')"
      ]
     },
     "execution_count": 5,
     "metadata": {},
     "output_type": "execute_result"
    },
    {
     "data": {
      "image/png": "[encoded data removed]",
      "text/plain": [
       "<Figure size 1080x720 with 1 Axes>"
      ]
     },
     "metadata": {
      "needs_background": "light"
     },
     "output_type": "display_data"
    }
   ],
   "source": [
    "tournament = matches['tournament'].value_counts()\n",
    "tournament = tournament[:10]\n",
    "\n",
    "plt.figure(figsize = (15,10))\n",
    "sns.set_style(\"whitegrid\")\n",
    "ax = sns.barplot(y=tournament.index, x=tournament.values, palette=\"Reds_r\", orient='h')\n",
    "ax.set_ylabel('Tournament', size=16)\n",
    "ax.set_xlabel('Number of tournament', size=16)\n",
    "ax.set_title(\"TOP 10 TYPE OF MATCH TOURNAMENTS\", fontsize=18)"
   ]
  },
  {
   "cell_type": "markdown",
   "metadata": {
    "_uuid": "4b1e4f147531d0ed906c3b397ea73ca876878e45"
   },
   "source": [
    "Then I create a dataframe with some statistics by team like the sum, count and mean of score for each team."
   ]
  },
  {
   "cell_type": "code",
   "execution_count": 6,
   "metadata": {
    "_uuid": "de3c5a896ea8134a039645915b7355e5ff3680e8",
    "execution": {
     "iopub.execute_input": "2022-07-26T02:28:44.334438Z",
     "iopub.status.busy": "2022-07-26T02:28:44.334181Z",
     "iopub.status.idle": "2022-07-26T02:28:44.383717Z",
     "shell.execute_reply": "2022-07-26T02:28:44.383014Z",
     "shell.execute_reply.started": "2022-07-26T02:28:44.334388Z"
    }
   },
   "outputs": [],
   "source": [
    "# create two dataframe for the home and away teams\n",
    "home = matches[['home_team', 'home_score']].rename(columns={'home_team':'team', 'home_score':'score'})\n",
    "away = matches[['away_team', 'away_score']].rename(columns={'away_team':'team', 'away_score':'score'})\n",
    "# merge it into one\n",
    "team_score = home.append(away).reset_index(drop=True)\n",
    "# make an aggregation of the the score column group by the team\n",
    "country_info = team_score.groupby('team')['score'].agg(['sum','count','mean']).reset_index()\n",
    "country_info = country_info.rename(columns={'sum':'nb_goals', 'count':'nb_matches', 'mean':'goal_avg'})\n",
    "\n",
    "del home, away"
   ]
  },
  {
   "cell_type": "markdown",
   "metadata": {
    "_uuid": "f028581c5bf5c19b3c0f581af876cb530838b1f4"
   },
   "source": [
    "Now let's have a look about it with some visualizations.\n",
    "\n",
    "### What are the teams with the best goal average ?"
   ]
  },
  {
   "cell_type": "code",
   "execution_count": 7,
   "metadata": {
    "_kg_hide-input": true,
    "_uuid": "7601c1616f0f969928f9050f0b4d69eea3113c08",
    "execution": {
     "iopub.execute_input": "2022-07-26T02:28:44.385265Z",
     "iopub.status.busy": "2022-07-26T02:28:44.384903Z",
     "iopub.status.idle": "2022-07-26T02:28:44.631302Z",
     "shell.execute_reply": "2022-07-26T02:28:44.630585Z",
     "shell.execute_reply.started": "2022-07-26T02:28:44.385210Z"
    }
   },
   "outputs": [
    {
     "data": {
      "text/plain": [
       "Text(0.5, 1.0, 'TOP 10 OF GOAL AVERAGE PER MATCH')"
      ]
     },
     "execution_count": 7,
     "metadata": {},
     "output_type": "execute_result"
    },
    {
     "data": {
      "image/png": "[encoded data removed]",
      "text/plain": [
       "<Figure size 1080x720 with 1 Axes>"
      ]
     },
     "metadata": {},
     "output_type": "display_data"
    }
   ],
   "source": [
    "plt.figure(figsize = (15,10))\n",
    "sns.set_style(\"whitegrid\")\n",
    "plt_data = country_info.sort_values(by='goal_avg', ascending=False)[:10]\n",
    "ax = sns.barplot(x=\"team\", y=\"goal_avg\", data=plt_data, palette=\"Blues_r\")\n",
    "ax.set_xlabel('Team', size=16)\n",
    "ax.set_ylabel('Goal average per match', size=16)\n",
    "ax.set_title(\"TOP 10 OF GOAL AVERAGE PER MATCH\", fontsize=18)"
   ]
  },
  {
   "cell_type": "markdown",
   "metadata": {
    "_uuid": "bbc523b7361186dddad4c68a2ac8f89e780a7512"
   },
   "source": [
    "### What are the teams who played the most matches ?"
   ]
  },
  {
   "cell_type": "code",
   "execution_count": 8,
   "metadata": {
    "_kg_hide-input": true,
    "_uuid": "d51eb900140ed5e84bc00ccc0a2289957cabad22",
    "execution": {
     "iopub.execute_input": "2022-07-26T02:28:44.632819Z",
     "iopub.status.busy": "2022-07-26T02:28:44.632557Z",
     "iopub.status.idle": "2022-07-26T02:28:44.874086Z",
     "shell.execute_reply": "2022-07-26T02:28:44.873273Z",
     "shell.execute_reply.started": "2022-07-26T02:28:44.632761Z"
    }
   },
   "outputs": [
    {
     "data": {
      "text/plain": [
       "Text(0.5, 1.0, 'TOP 10 OF NUMBER OF MATCHES')"
      ]
     },
     "execution_count": 8,
     "metadata": {},
     "output_type": "execute_result"
    },
    {
     "data": {
      "image/png": "[encoded data removed]",
      "text/plain": [
       "<Figure size 1080x720 with 1 Axes>"
      ]
     },
     "metadata": {},
     "output_type": "display_data"
    }
   ],
   "source": [
    "plt.figure(figsize = (15,10))\n",
    "sns.set_style(\"whitegrid\")\n",
    "plt_data = country_info.sort_values(by='nb_matches', ascending=False)[:10]\n",
    "ax = sns.barplot(x=\"team\", y=\"nb_matches\", data=plt_data, palette=\"Blues_r\")\n",
    "ax.set_xlabel('Team', size=16)\n",
    "ax.set_ylabel('Number of matches', size=16)\n",
    "ax.set_title(\"TOP 10 OF NUMBER OF MATCHES\", fontsize=18)"
   ]
  },
  {
   "cell_type": "markdown",
   "metadata": {
    "_uuid": "80566a732b242e73f2f5ab0ba2a48d04c68ad5ca"
   },
   "source": [
    "### What are the teams who scored the most ?"
   ]
  },
  {
   "cell_type": "code",
   "execution_count": 9,
   "metadata": {
    "_kg_hide-input": true,
    "_uuid": "8f46e5ad183e2c90da2f81e8a8f35cb94d6769e1",
    "execution": {
     "iopub.execute_input": "2022-07-26T02:28:44.875855Z",
     "iopub.status.busy": "2022-07-26T02:28:44.875560Z",
     "iopub.status.idle": "2022-07-26T02:28:45.115821Z",
     "shell.execute_reply": "2022-07-26T02:28:45.115058Z",
     "shell.execute_reply.started": "2022-07-26T02:28:44.875809Z"
    }
   },
   "outputs": [
    {
     "data": {
      "image/png": "[encoded data removed]",
      "text/plain": [
       "<Figure size 1080x720 with 1 Axes>"
      ]
     },
     "metadata": {},
     "output_type": "display_data"
    }
   ],
   "source": [
    "plt.figure(figsize = (15,10))\n",
    "sns.set_style(\"whitegrid\")\n",
    "plt_data = country_info.sort_values(by='nb_goals', ascending=False)[:10]\n",
    "ax = sns.barplot(x=\"team\", y=\"nb_goals\", data=plt_data, palette=\"Blues_r\")\n",
    "ax.set_xlabel('Team', size=16)\n",
    "ax.set_ylabel('Number of goals', size=16)\n",
    "ax.set_title(\"TOP 10 OF NUMBER OF GOALS\", fontsize=18)\n",
    "\n",
    "del plt_data, country_info"
   ]
  },
  {
   "cell_type": "code",
   "execution_count": 10,
   "metadata": {
    "_uuid": "e478282b04112326455221bf78f0fc15745428c4",
    "execution": {
     "iopub.execute_input": "2022-07-26T02:28:45.117714Z",
     "iopub.status.busy": "2022-07-26T02:28:45.117398Z",
     "iopub.status.idle": "2022-07-26T02:28:45.126381Z",
     "shell.execute_reply": "2022-07-26T02:28:45.125610Z",
     "shell.execute_reply.started": "2022-07-26T02:28:45.117658Z"
    }
   },
   "outputs": [
    {
     "data": {
      "text/plain": [
       "home_score    1.740126\n",
       "away_score    1.180129\n",
       "dtype: float64"
      ]
     },
     "execution_count": 10,
     "metadata": {},
     "output_type": "execute_result"
    }
   ],
   "source": [
    "means = matches[['home_score','away_score']].mean()\n",
    "means"
   ]
  },
  {
   "cell_type": "markdown",
   "metadata": {
    "_uuid": "da1193a9b645c2fe095f4e52131c945fec324a46"
   },
   "source": [
    "We can notice that, on average, the home team scored more goals than the away team. So now it's time to introduce the Poisson distribution : it's a discrete probability distribution (it provides the probabilities of occurrence of different possible outcomes in an event) that expresses the probability of a given number of events occurring in a fixed interval of time or space if these events occur with a known constant rate and independently of the time since the last event (Wikipedia definition).\n",
    "\n",
    "An important assumption is that each events are independent in time. Here, it means that goals don't become more or less likely by the number of goals that is already scored in a match. We can formulate this by the probability mass function : \n",
    "\n",
    "$$\n",
    "P(x) = \\frac{{e}^{-\\lambda}{\\lambda}^{x}}{x!}, \\lambda > 0\n",
    "$$\n",
    "\n",
    "$\\lambda$ represents the average rate. So now we can visualisate it for all the match and for two differents teams.\n",
    "\n",
    " ### Poisson distribution for the score (all team)"
   ]
  },
  {
   "cell_type": "code",
   "execution_count": 11,
   "metadata": {
    "_kg_hide-input": true,
    "_uuid": "2c9a5eabb78d3ecfe72034dace91d697c94241ef",
    "execution": {
     "iopub.execute_input": "2022-07-26T02:28:45.127935Z",
     "iopub.status.busy": "2022-07-26T02:28:45.127579Z",
     "iopub.status.idle": "2022-07-26T02:28:45.438919Z",
     "shell.execute_reply": "2022-07-26T02:28:45.438051Z",
     "shell.execute_reply.started": "2022-07-26T02:28:45.127881Z"
    }
   },
   "outputs": [
    {
     "ename": "AttributeError",
     "evalue": "'Rectangle' object has no property 'normed'",
     "output_type": "error",
     "traceback": [
      "\u001b[0;31m---------------------------------------------------------------------------\u001b[0m",
      "\u001b[0;31mAttributeError\u001b[0m                            Traceback (most recent call last)",
      "Input \u001b[0;32mIn [11]\u001b[0m, in \u001b[0;36m<cell line: 6>\u001b[0;34m()\u001b[0m\n\u001b[1;32m      4\u001b[0m poisson_pred \u001b[38;5;241m=\u001b[39m np\u001b[38;5;241m.\u001b[39mcolumn_stack([[poisson\u001b[38;5;241m.\u001b[39mpmf(k, means[j]) \u001b[38;5;28;01mfor\u001b[39;00m k \u001b[38;5;129;01min\u001b[39;00m \u001b[38;5;28mrange\u001b[39m(\u001b[38;5;241m10\u001b[39m)] \u001b[38;5;28;01mfor\u001b[39;00m j \u001b[38;5;129;01min\u001b[39;00m \u001b[38;5;28mrange\u001b[39m(\u001b[38;5;241m2\u001b[39m)])\n\u001b[1;32m      5\u001b[0m \u001b[38;5;66;03m# plot histogram of actual goals\u001b[39;00m\n\u001b[0;32m----> 6\u001b[0m \u001b[43mplt\u001b[49m\u001b[38;5;241;43m.\u001b[39;49m\u001b[43mhist\u001b[49m\u001b[43m(\u001b[49m\u001b[43mmatches\u001b[49m\u001b[43m[\u001b[49m\u001b[43m[\u001b[49m\u001b[38;5;124;43m'\u001b[39;49m\u001b[38;5;124;43mhome_score\u001b[39;49m\u001b[38;5;124;43m'\u001b[39;49m\u001b[43m,\u001b[49m\u001b[43m \u001b[49m\u001b[38;5;124;43m'\u001b[39;49m\u001b[38;5;124;43maway_score\u001b[39;49m\u001b[38;5;124;43m'\u001b[39;49m\u001b[43m]\u001b[49m\u001b[43m]\u001b[49m\u001b[38;5;241;43m.\u001b[39;49m\u001b[43mvalues\u001b[49m\u001b[43m,\u001b[49m\u001b[43m \u001b[49m\u001b[38;5;28;43mrange\u001b[39;49m\u001b[43m(\u001b[49m\u001b[38;5;241;43m11\u001b[39;49m\u001b[43m)\u001b[49m\u001b[43m,\u001b[49m\u001b[43m \u001b[49m\u001b[43malpha\u001b[49m\u001b[38;5;241;43m=\u001b[39;49m\u001b[38;5;241;43m0.8\u001b[39;49m\u001b[43m,\u001b[49m\n\u001b[1;32m      7\u001b[0m \u001b[43m         \u001b[49m\u001b[43mlabel\u001b[49m\u001b[38;5;241;43m=\u001b[39;49m\u001b[43m[\u001b[49m\u001b[38;5;124;43m'\u001b[39;49m\u001b[38;5;124;43mHome\u001b[39;49m\u001b[38;5;124;43m'\u001b[39;49m\u001b[43m,\u001b[49m\u001b[43m \u001b[49m\u001b[38;5;124;43m'\u001b[39;49m\u001b[38;5;124;43mAway\u001b[39;49m\u001b[38;5;124;43m'\u001b[39;49m\u001b[43m]\u001b[49m\u001b[43m,\u001b[49m\u001b[43mnormed\u001b[49m\u001b[38;5;241;43m=\u001b[39;49m\u001b[38;5;28;43;01mTrue\u001b[39;49;00m\u001b[43m,\u001b[49m\u001b[43m \u001b[49m\u001b[43mcolor\u001b[49m\u001b[38;5;241;43m=\u001b[39;49m\u001b[43m[\u001b[49m\u001b[38;5;124;43m\"\u001b[39;49m\u001b[38;5;124;43m#3498db\u001b[39;49m\u001b[38;5;124;43m\"\u001b[39;49m\u001b[43m,\u001b[49m\u001b[43m \u001b[49m\u001b[38;5;124;43m\"\u001b[39;49m\u001b[38;5;124;43m#e74c3c\u001b[39;49m\u001b[38;5;124;43m\"\u001b[39;49m\u001b[43m]\u001b[49m\u001b[43m)\u001b[49m\n\u001b[1;32m      9\u001b[0m \u001b[38;5;66;03m# add lines for the Poisson distributions\u001b[39;00m\n\u001b[1;32m     10\u001b[0m pois1, \u001b[38;5;241m=\u001b[39m plt\u001b[38;5;241m.\u001b[39mplot([i\u001b[38;5;241m-\u001b[39m\u001b[38;5;241m0.5\u001b[39m \u001b[38;5;28;01mfor\u001b[39;00m i \u001b[38;5;129;01min\u001b[39;00m \u001b[38;5;28mrange\u001b[39m(\u001b[38;5;241m1\u001b[39m,\u001b[38;5;241m11\u001b[39m)], poisson_pred[:,\u001b[38;5;241m0\u001b[39m],\n\u001b[1;32m     11\u001b[0m                   linestyle\u001b[38;5;241m=\u001b[39m\u001b[38;5;124m'\u001b[39m\u001b[38;5;124m-\u001b[39m\u001b[38;5;124m'\u001b[39m, marker\u001b[38;5;241m=\u001b[39m\u001b[38;5;124m'\u001b[39m\u001b[38;5;124mo\u001b[39m\u001b[38;5;124m'\u001b[39m,label\u001b[38;5;241m=\u001b[39m\u001b[38;5;124m\"\u001b[39m\u001b[38;5;124mHome\u001b[39m\u001b[38;5;124m\"\u001b[39m, color \u001b[38;5;241m=\u001b[39m \u001b[38;5;124m'\u001b[39m\u001b[38;5;124m#2980b9\u001b[39m\u001b[38;5;124m'\u001b[39m)\n",
      "File \u001b[0;32m~/opt/anaconda3/envs/tf2/lib/python3.9/site-packages/matplotlib/pyplot.py:2590\u001b[0m, in \u001b[0;36mhist\u001b[0;34m(x, bins, range, density, weights, cumulative, bottom, histtype, align, orientation, rwidth, log, color, label, stacked, data, **kwargs)\u001b[0m\n\u001b[1;32m   2584\u001b[0m \u001b[38;5;129m@_copy_docstring_and_deprecators\u001b[39m(Axes\u001b[38;5;241m.\u001b[39mhist)\n\u001b[1;32m   2585\u001b[0m \u001b[38;5;28;01mdef\u001b[39;00m \u001b[38;5;21mhist\u001b[39m(\n\u001b[1;32m   2586\u001b[0m         x, bins\u001b[38;5;241m=\u001b[39m\u001b[38;5;28;01mNone\u001b[39;00m, \u001b[38;5;28mrange\u001b[39m\u001b[38;5;241m=\u001b[39m\u001b[38;5;28;01mNone\u001b[39;00m, density\u001b[38;5;241m=\u001b[39m\u001b[38;5;28;01mFalse\u001b[39;00m, weights\u001b[38;5;241m=\u001b[39m\u001b[38;5;28;01mNone\u001b[39;00m,\n\u001b[1;32m   2587\u001b[0m         cumulative\u001b[38;5;241m=\u001b[39m\u001b[38;5;28;01mFalse\u001b[39;00m, bottom\u001b[38;5;241m=\u001b[39m\u001b[38;5;28;01mNone\u001b[39;00m, histtype\u001b[38;5;241m=\u001b[39m\u001b[38;5;124m'\u001b[39m\u001b[38;5;124mbar\u001b[39m\u001b[38;5;124m'\u001b[39m, align\u001b[38;5;241m=\u001b[39m\u001b[38;5;124m'\u001b[39m\u001b[38;5;124mmid\u001b[39m\u001b[38;5;124m'\u001b[39m,\n\u001b[1;32m   2588\u001b[0m         orientation\u001b[38;5;241m=\u001b[39m\u001b[38;5;124m'\u001b[39m\u001b[38;5;124mvertical\u001b[39m\u001b[38;5;124m'\u001b[39m, rwidth\u001b[38;5;241m=\u001b[39m\u001b[38;5;28;01mNone\u001b[39;00m, log\u001b[38;5;241m=\u001b[39m\u001b[38;5;28;01mFalse\u001b[39;00m, color\u001b[38;5;241m=\u001b[39m\u001b[38;5;28;01mNone\u001b[39;00m,\n\u001b[1;32m   2589\u001b[0m         label\u001b[38;5;241m=\u001b[39m\u001b[38;5;28;01mNone\u001b[39;00m, stacked\u001b[38;5;241m=\u001b[39m\u001b[38;5;28;01mFalse\u001b[39;00m, \u001b[38;5;241m*\u001b[39m, data\u001b[38;5;241m=\u001b[39m\u001b[38;5;28;01mNone\u001b[39;00m, \u001b[38;5;241m*\u001b[39m\u001b[38;5;241m*\u001b[39mkwargs):\n\u001b[0;32m-> 2590\u001b[0m     \u001b[38;5;28;01mreturn\u001b[39;00m \u001b[43mgca\u001b[49m\u001b[43m(\u001b[49m\u001b[43m)\u001b[49m\u001b[38;5;241;43m.\u001b[39;49m\u001b[43mhist\u001b[49m\u001b[43m(\u001b[49m\n\u001b[1;32m   2591\u001b[0m \u001b[43m        \u001b[49m\u001b[43mx\u001b[49m\u001b[43m,\u001b[49m\u001b[43m \u001b[49m\u001b[43mbins\u001b[49m\u001b[38;5;241;43m=\u001b[39;49m\u001b[43mbins\u001b[49m\u001b[43m,\u001b[49m\u001b[43m \u001b[49m\u001b[38;5;28;43mrange\u001b[39;49m\u001b[38;5;241;43m=\u001b[39;49m\u001b[38;5;28;43mrange\u001b[39;49m\u001b[43m,\u001b[49m\u001b[43m \u001b[49m\u001b[43mdensity\u001b[49m\u001b[38;5;241;43m=\u001b[39;49m\u001b[43mdensity\u001b[49m\u001b[43m,\u001b[49m\u001b[43m \u001b[49m\u001b[43mweights\u001b[49m\u001b[38;5;241;43m=\u001b[39;49m\u001b[43mweights\u001b[49m\u001b[43m,\u001b[49m\n\u001b[1;32m   2592\u001b[0m \u001b[43m        \u001b[49m\u001b[43mcumulative\u001b[49m\u001b[38;5;241;43m=\u001b[39;49m\u001b[43mcumulative\u001b[49m\u001b[43m,\u001b[49m\u001b[43m \u001b[49m\u001b[43mbottom\u001b[49m\u001b[38;5;241;43m=\u001b[39;49m\u001b[43mbottom\u001b[49m\u001b[43m,\u001b[49m\u001b[43m \u001b[49m\u001b[43mhisttype\u001b[49m\u001b[38;5;241;43m=\u001b[39;49m\u001b[43mhisttype\u001b[49m\u001b[43m,\u001b[49m\n\u001b[1;32m   2593\u001b[0m \u001b[43m        \u001b[49m\u001b[43malign\u001b[49m\u001b[38;5;241;43m=\u001b[39;49m\u001b[43malign\u001b[49m\u001b[43m,\u001b[49m\u001b[43m \u001b[49m\u001b[43morientation\u001b[49m\u001b[38;5;241;43m=\u001b[39;49m\u001b[43morientation\u001b[49m\u001b[43m,\u001b[49m\u001b[43m \u001b[49m\u001b[43mrwidth\u001b[49m\u001b[38;5;241;43m=\u001b[39;49m\u001b[43mrwidth\u001b[49m\u001b[43m,\u001b[49m\u001b[43m \u001b[49m\u001b[43mlog\u001b[49m\u001b[38;5;241;43m=\u001b[39;49m\u001b[43mlog\u001b[49m\u001b[43m,\u001b[49m\n\u001b[1;32m   2594\u001b[0m \u001b[43m        \u001b[49m\u001b[43mcolor\u001b[49m\u001b[38;5;241;43m=\u001b[39;49m\u001b[43mcolor\u001b[49m\u001b[43m,\u001b[49m\u001b[43m \u001b[49m\u001b[43mlabel\u001b[49m\u001b[38;5;241;43m=\u001b[39;49m\u001b[43mlabel\u001b[49m\u001b[43m,\u001b[49m\u001b[43m \u001b[49m\u001b[43mstacked\u001b[49m\u001b[38;5;241;43m=\u001b[39;49m\u001b[43mstacked\u001b[49m\u001b[43m,\u001b[49m\n\u001b[1;32m   2595\u001b[0m \u001b[43m        \u001b[49m\u001b[38;5;241;43m*\u001b[39;49m\u001b[38;5;241;43m*\u001b[39;49m\u001b[43m(\u001b[49m\u001b[43m{\u001b[49m\u001b[38;5;124;43m\"\u001b[39;49m\u001b[38;5;124;43mdata\u001b[39;49m\u001b[38;5;124;43m\"\u001b[39;49m\u001b[43m:\u001b[49m\u001b[43m \u001b[49m\u001b[43mdata\u001b[49m\u001b[43m}\u001b[49m\u001b[43m \u001b[49m\u001b[38;5;28;43;01mif\u001b[39;49;00m\u001b[43m \u001b[49m\u001b[43mdata\u001b[49m\u001b[43m \u001b[49m\u001b[38;5;129;43;01mis\u001b[39;49;00m\u001b[43m \u001b[49m\u001b[38;5;129;43;01mnot\u001b[39;49;00m\u001b[43m \u001b[49m\u001b[38;5;28;43;01mNone\u001b[39;49;00m\u001b[43m \u001b[49m\u001b[38;5;28;43;01melse\u001b[39;49;00m\u001b[43m \u001b[49m\u001b[43m{\u001b[49m\u001b[43m}\u001b[49m\u001b[43m)\u001b[49m\u001b[43m,\u001b[49m\u001b[43m \u001b[49m\u001b[38;5;241;43m*\u001b[39;49m\u001b[38;5;241;43m*\u001b[39;49m\u001b[43mkwargs\u001b[49m\u001b[43m)\u001b[49m\n",
      "File \u001b[0;32m~/opt/anaconda3/envs/tf2/lib/python3.9/site-packages/matplotlib/__init__.py:1412\u001b[0m, in \u001b[0;36m_preprocess_data.<locals>.inner\u001b[0;34m(ax, data, *args, **kwargs)\u001b[0m\n\u001b[1;32m   1409\u001b[0m \u001b[38;5;129m@functools\u001b[39m\u001b[38;5;241m.\u001b[39mwraps(func)\n\u001b[1;32m   1410\u001b[0m \u001b[38;5;28;01mdef\u001b[39;00m \u001b[38;5;21minner\u001b[39m(ax, \u001b[38;5;241m*\u001b[39margs, data\u001b[38;5;241m=\u001b[39m\u001b[38;5;28;01mNone\u001b[39;00m, \u001b[38;5;241m*\u001b[39m\u001b[38;5;241m*\u001b[39mkwargs):\n\u001b[1;32m   1411\u001b[0m     \u001b[38;5;28;01mif\u001b[39;00m data \u001b[38;5;129;01mis\u001b[39;00m \u001b[38;5;28;01mNone\u001b[39;00m:\n\u001b[0;32m-> 1412\u001b[0m         \u001b[38;5;28;01mreturn\u001b[39;00m \u001b[43mfunc\u001b[49m\u001b[43m(\u001b[49m\u001b[43max\u001b[49m\u001b[43m,\u001b[49m\u001b[43m \u001b[49m\u001b[38;5;241;43m*\u001b[39;49m\u001b[38;5;28;43mmap\u001b[39;49m\u001b[43m(\u001b[49m\u001b[43msanitize_sequence\u001b[49m\u001b[43m,\u001b[49m\u001b[43m \u001b[49m\u001b[43margs\u001b[49m\u001b[43m)\u001b[49m\u001b[43m,\u001b[49m\u001b[43m \u001b[49m\u001b[38;5;241;43m*\u001b[39;49m\u001b[38;5;241;43m*\u001b[39;49m\u001b[43mkwargs\u001b[49m\u001b[43m)\u001b[49m\n\u001b[1;32m   1414\u001b[0m     bound \u001b[38;5;241m=\u001b[39m new_sig\u001b[38;5;241m.\u001b[39mbind(ax, \u001b[38;5;241m*\u001b[39margs, \u001b[38;5;241m*\u001b[39m\u001b[38;5;241m*\u001b[39mkwargs)\n\u001b[1;32m   1415\u001b[0m     auto_label \u001b[38;5;241m=\u001b[39m (bound\u001b[38;5;241m.\u001b[39marguments\u001b[38;5;241m.\u001b[39mget(label_namer)\n\u001b[1;32m   1416\u001b[0m                   \u001b[38;5;129;01mor\u001b[39;00m bound\u001b[38;5;241m.\u001b[39mkwargs\u001b[38;5;241m.\u001b[39mget(label_namer))\n",
      "File \u001b[0;32m~/opt/anaconda3/envs/tf2/lib/python3.9/site-packages/matplotlib/axes/_axes.py:6791\u001b[0m, in \u001b[0;36mAxes.hist\u001b[0;34m(self, x, bins, range, density, weights, cumulative, bottom, histtype, align, orientation, rwidth, log, color, label, stacked, **kwargs)\u001b[0m\n\u001b[1;32m   6789\u001b[0m \u001b[38;5;28;01mif\u001b[39;00m patch:\n\u001b[1;32m   6790\u001b[0m     p \u001b[38;5;241m=\u001b[39m patch[\u001b[38;5;241m0\u001b[39m]\n\u001b[0;32m-> 6791\u001b[0m     \u001b[43mp\u001b[49m\u001b[38;5;241;43m.\u001b[39;49m\u001b[43mupdate\u001b[49m\u001b[43m(\u001b[49m\u001b[43mkwargs\u001b[49m\u001b[43m)\u001b[49m\n\u001b[1;32m   6792\u001b[0m     \u001b[38;5;28;01mif\u001b[39;00m lbl \u001b[38;5;129;01mis\u001b[39;00m \u001b[38;5;129;01mnot\u001b[39;00m \u001b[38;5;28;01mNone\u001b[39;00m:\n\u001b[1;32m   6793\u001b[0m         p\u001b[38;5;241m.\u001b[39mset_label(lbl)\n",
      "File \u001b[0;32m~/opt/anaconda3/envs/tf2/lib/python3.9/site-packages/matplotlib/artist.py:1064\u001b[0m, in \u001b[0;36mArtist.update\u001b[0;34m(self, props)\u001b[0m\n\u001b[1;32m   1062\u001b[0m             func \u001b[38;5;241m=\u001b[39m \u001b[38;5;28mgetattr\u001b[39m(\u001b[38;5;28mself\u001b[39m, \u001b[38;5;124mf\u001b[39m\u001b[38;5;124m\"\u001b[39m\u001b[38;5;124mset_\u001b[39m\u001b[38;5;132;01m{\u001b[39;00mk\u001b[38;5;132;01m}\u001b[39;00m\u001b[38;5;124m\"\u001b[39m, \u001b[38;5;28;01mNone\u001b[39;00m)\n\u001b[1;32m   1063\u001b[0m             \u001b[38;5;28;01mif\u001b[39;00m \u001b[38;5;129;01mnot\u001b[39;00m callable(func):\n\u001b[0;32m-> 1064\u001b[0m                 \u001b[38;5;28;01mraise\u001b[39;00m \u001b[38;5;167;01mAttributeError\u001b[39;00m(\u001b[38;5;124mf\u001b[39m\u001b[38;5;124m\"\u001b[39m\u001b[38;5;132;01m{\u001b[39;00m\u001b[38;5;28mtype\u001b[39m(\u001b[38;5;28mself\u001b[39m)\u001b[38;5;241m.\u001b[39m\u001b[38;5;18m__name__\u001b[39m\u001b[38;5;132;01m!r}\u001b[39;00m\u001b[38;5;124m object \u001b[39m\u001b[38;5;124m\"\u001b[39m\n\u001b[1;32m   1065\u001b[0m                                      \u001b[38;5;124mf\u001b[39m\u001b[38;5;124m\"\u001b[39m\u001b[38;5;124mhas no property \u001b[39m\u001b[38;5;132;01m{\u001b[39;00mk\u001b[38;5;132;01m!r}\u001b[39;00m\u001b[38;5;124m\"\u001b[39m)\n\u001b[1;32m   1066\u001b[0m             ret\u001b[38;5;241m.\u001b[39mappend(func(v))\n\u001b[1;32m   1067\u001b[0m \u001b[38;5;28;01mif\u001b[39;00m ret:\n",
      "\u001b[0;31mAttributeError\u001b[0m: 'Rectangle' object has no property 'normed'"
     ]
    },
    {
     "data": {
      "image/png": "[encoded data removed]",
      "text/plain": [
       "<Figure size 1080x720 with 1 Axes>"
      ]
     },
     "metadata": {},
     "output_type": "display_data"
    }
   ],
   "source": [
    "plt.figure(figsize=(15,10))\n",
    "sns.set_style(\"white\")\n",
    "# construct Poisson  for each mean goals value\n",
    "poisson_pred = np.column_stack([[poisson.pmf(k, means[j]) for k in range(10)] for j in range(2)])\n",
    "# plot histogram of actual goals\n",
    "plt.hist(matches[['home_score', 'away_score']].values, range(11), alpha=0.8,\n",
    "         label=['Home', 'Away'],normed=True, color=[\"#3498db\", \"#e74c3c\"])\n",
    "\n",
    "# add lines for the Poisson distributions\n",
    "pois1, = plt.plot([i-0.5 for i in range(1,11)], poisson_pred[:,0],\n",
    "                  linestyle='-', marker='o',label=\"Home\", color = '#2980b9')\n",
    "pois2, = plt.plot([i-0.5 for i in range(1,11)], poisson_pred[:,1],\n",
    "                  linestyle='-', marker='o',label=\"Away\", color = '#c0392b')\n",
    "\n",
    "leg=plt.legend(loc='upper right', fontsize=16, ncol=2)\n",
    "leg.set_title(\"Poisson        Actual      \", prop = {'size':'18', 'weight':'bold'})\n",
    "\n",
    "plt.xticks([i-0.5 for i in range(1,11)],[i for i in range(11)])\n",
    "plt.xlabel(\"Goals per Match\",size=18)\n",
    "plt.ylabel(\"Proportion of Matches\",size=18)\n",
    "plt.title(\"Number of Goals per Match\",size=20,fontweight='bold')\n",
    "plt.show()"
   ]
  },
  {
   "cell_type": "markdown",
   "metadata": {
    "_uuid": "4cdd57167d0825fc01b3ea69c3d16a8d1034be5f"
   },
   "source": [
    " ### Poisson distribution for the score (France and Germany)"
   ]
  },
  {
   "cell_type": "code",
   "execution_count": null,
   "metadata": {
    "_kg_hide-input": true,
    "_uuid": "b47bd9bb69c22e6e72aa8492bdfb098612dffbb4",
    "execution": {
     "iopub.execute_input": "2022-07-26T02:28:45.440798Z",
     "iopub.status.busy": "2022-07-26T02:28:45.440299Z",
     "iopub.status.idle": "2022-07-26T02:28:45.793230Z",
     "shell.execute_reply": "2022-07-26T02:28:45.792379Z",
     "shell.execute_reply.started": "2022-07-26T02:28:45.440740Z"
    }
   },
   "outputs": [],
   "source": [
    "plt.figure(figsize=(15,10))\n",
    "sns.set_style(\"white\")\n",
    "team1, team2 = \"France\", \"Germany\"\n",
    "matches_t1 = team_score[team_score['team'] == team1]\n",
    "matches_t2 = team_score[team_score['team'] == team2]\n",
    "    \n",
    "mean_t1 = matches_t1['score'].mean()\n",
    "mean_t2 = matches_t2['score'].mean()\n",
    "\n",
    "# construct Poisson  for each mean goals value\n",
    "poisson_pred_t1 = [poisson.pmf(k, mean_t1) for k in range(10)]\n",
    "poisson_pred_t2 = [poisson.pmf(k, mean_t2) for k in range(10)]\n",
    "\n",
    "# plot histogram of actual goals\n",
    "plt.hist([matches_t1['score'].values, matches_t2['score'].values], range(11), alpha=0.8,\n",
    "         label=[team1, team2],normed=True, color=[\"#3498db\", \"#e74c3c\"])\n",
    "\n",
    "# add lines for the Poisson distributions\n",
    "pois1, = plt.plot([i-0.5 for i in range(1,11)], poisson_pred_t1,\n",
    "                  linestyle='-', marker='o',label=team1, color = '#2980b9')\n",
    "pois2, = plt.plot([i-0.5 for i in range(1,11)], poisson_pred_t2,\n",
    "                  linestyle='-', marker='o',label=team2, color = '#c0392b')\n",
    "\n",
    "leg=plt.legend(loc='upper right', fontsize=16, ncol=2)\n",
    "leg.set_title(\"Poisson          Actual      \", prop = {'size':'18', 'weight':'bold'})\n",
    "\n",
    "plt.xticks([i-0.5 for i in range(1,11)],[i for i in range(11)])\n",
    "plt.xlabel(\"Goals per Match\",size=18)\n",
    "plt.ylabel(\"Proportion of Matches\",size=18)\n",
    "plt.title(\"Number of Goals per Match\",size=20,fontweight='bold')\n",
    "plt.show()"
   ]
  },
  {
   "cell_type": "markdown",
   "metadata": {
    "_uuid": "5f196ded76b4d38b96088886ca5873c1854341fa"
   },
   "source": [
    "## Building the model\n",
    "\n",
    "Now we can agree to say that each team follow the Poisson distribution due to the number of game. So first I will add a weight column that is based on the date of the game because it's obvious that a game that took place this year has more weight than the first game in 1872.\n",
    "\n",
    "Then I create the data for the model which is composed of 4 columns : team, opponent, goals and weight."
   ]
  },
  {
   "cell_type": "code",
   "execution_count": null,
   "metadata": {
    "_uuid": "85f58748f80edaef1680ba2b57c71d90a1c268be",
    "execution": {
     "iopub.execute_input": "2022-07-26T02:28:45.794668Z",
     "iopub.status.busy": "2022-07-26T02:28:45.794440Z",
     "iopub.status.idle": "2022-07-26T02:28:45.907739Z",
     "shell.execute_reply": "2022-07-26T02:28:45.906701Z",
     "shell.execute_reply.started": "2022-07-26T02:28:45.794628Z"
    }
   },
   "outputs": [],
   "source": [
    "def weight_from_tournament(tournament):\n",
    "    if 'Cup' in tournament or 'Euro' in tournament:\n",
    "        return 1\n",
    "    else :\n",
    "        return 100\n",
    "\n",
    "# Create weight column based on the date\n",
    "matches.loc[:,'weight'] = matches['tournament'].apply(weight_from_tournament)\n",
    "matches.loc[:,'weight'] = 1 / ((2019 - matches['date'].dt.year.astype('int64'))*matches['weight'])\n",
    "\n",
    "# Create model data\n",
    "matches_model_data = pd.concat([matches[['home_team','away_team','home_score','weight']].rename(\n",
    "            columns={'home_team':'team', 'away_team':'opponent','home_score':'goals'}),\n",
    "           matches[['away_team','home_team','away_score','weight']].rename(\n",
    "            columns={'away_team':'team', 'home_team':'opponent','away_score':'goals'})])"
   ]
  },
  {
   "cell_type": "markdown",
   "metadata": {
    "_uuid": "0d733bc90a81ee6430aa53f351995747f94b144a"
   },
   "source": [
    "So here using the statsmodels librairies I create my model with a Poisson regression."
   ]
  },
  {
   "cell_type": "code",
   "execution_count": null,
   "metadata": {
    "_uuid": "8e1198f87e5b3f54712e2b32a07c74172899ebf5",
    "execution": {
     "iopub.execute_input": "2022-07-26T02:28:45.909653Z",
     "iopub.status.busy": "2022-07-26T02:28:45.909380Z",
     "iopub.status.idle": "2022-07-26T02:29:24.939659Z",
     "shell.execute_reply": "2022-07-26T02:29:24.879712Z",
     "shell.execute_reply.started": "2022-07-26T02:28:45.909608Z"
    }
   },
   "outputs": [],
   "source": [
    "poisson_model = smf.glm(formula=\"goals ~ team + opponent\", data=matches_model_data, \n",
    "                        family=sm.families.Poisson(), freq_weights=matches_model_data['weight'].values).fit()"
   ]
  },
  {
   "cell_type": "markdown",
   "metadata": {
    "_uuid": "dfe44256f5a4c8c139021606fe4b8d061648619b"
   },
   "source": [
    "Now it's time to make a function that can return the result of a game, there is some information that we need to know :\n",
    "* The two teams\n",
    "* If the match is a elimination or not (if True we can't return a draw result)\n",
    "* The maximum of draw which will indicate how many draw we will do for the game. The greater this number is, the result will mostly be the result with the greatest probability.\n",
    "* The maximum goals in the game\n",
    "\n",
    "So first I define the function that will a tuple of two array : \n",
    "* An array with the 3 probabilites of the team 1 to win, a draw game and the team 2 to win.\n",
    "* An array with the probabilities of score for each team"
   ]
  },
  {
   "cell_type": "code",
   "execution_count": null,
   "metadata": {
    "_uuid": "dabb293e43fcd3bf56703ffdcb71303f9e037a1a",
    "execution": {
     "iopub.status.busy": "2022-07-26T02:29:24.880501Z",
     "iopub.status.idle": "2022-07-26T02:29:24.880862Z"
    }
   },
   "outputs": [],
   "source": [
    "def get_proba_match(foot_model, team1, team2, max_goals=10):\n",
    "    # Get the average goal for each team\n",
    "    t1_goals_avg = foot_model.predict(pd.DataFrame(data={'team': team1, 'opponent': team2}, index=[1])).values[0]\n",
    "    t2_goals_avg = foot_model.predict(pd.DataFrame(data={'team': team2, 'opponent': team1}, index=[1])).values[0]\n",
    "    \n",
    "    # Get probability of all possible score for each team\n",
    "    team_pred = [[poisson.pmf(i, team_avg) for i in range(0, max_goals+1)] for team_avg in [t1_goals_avg, t2_goals_avg]]\n",
    "    \n",
    "    # Do the product of the 2 vectors to get the matrix of the match\n",
    "    match = np.outer(np.array(team_pred[0]), np.array(team_pred[1]))\n",
    "    \n",
    "    # Get the proba for each possible outcome\n",
    "    t1_wins = np.sum(np.tril(match, -1))\n",
    "    draw = np.sum(np.diag(match))\n",
    "    t2_wins = np.sum(np.triu(match, 1))\n",
    "    result_proba = [t1_wins, draw, t2_wins]\n",
    "    \n",
    "    # Adjust the proba to sum to one\n",
    "    result_proba =  np.array(result_proba)/ np.array(result_proba).sum(axis=0,keepdims=1)\n",
    "    team_pred[0] = np.array(team_pred[0])/np.array(team_pred[0]).sum(axis=0,keepdims=1)\n",
    "    team_pred[1] = np.array(team_pred[1])/np.array(team_pred[1]).sum(axis=0,keepdims=1)\n",
    "    return result_proba, [np.array(team_pred[0]), np.array(team_pred[1])]"
   ]
  },
  {
   "cell_type": "markdown",
   "metadata": {
    "_uuid": "70e490dda655f28c3ca4171ac6aac537f81cd267"
   },
   "source": [
    "Now I can do the function that will get us the result of the game. It will return the result first (the winner or draw), the looser (it will be 'draw' if it's a draw result) and the score of each team."
   ]
  },
  {
   "cell_type": "code",
   "execution_count": null,
   "metadata": {
    "_uuid": "cdd3a028099d13e80f7580fe456716d41c3e0831",
    "execution": {
     "iopub.status.busy": "2022-07-26T02:29:24.881596Z",
     "iopub.status.idle": "2022-07-26T02:29:24.881915Z"
    }
   },
   "outputs": [],
   "source": [
    "def get_match_result(foot_model, team1, team2, elimination=False, max_draw=50, max_goals=10):\n",
    "    # Get the proba\n",
    "    proba, score_proba = get_proba_match(foot_model, team1, team2, max_goals)\n",
    "    \n",
    "    # Get the result, if it's an elimination game we have to be sure the result is not draw\n",
    "    results = pd.Series([np.random.choice([team1, 'draw', team2], p=proba) for i in range(0,max_draw)]).value_counts()\n",
    "    result = results.index[0] if not elimination or (elimination and results.index[0] != 'draw') else results.index[1]\n",
    "    \n",
    "    # If the result is not a draw game then we calculate the score of the winner from 1 to the max_goals \n",
    "    # and the score of the looser from 0 to the score of the winner\n",
    "    if (result != 'draw'): \n",
    "        i_win, i_loose = (0,1) if result == team1 else (1,0)\n",
    "        score_proba[i_win] = score_proba[i_win][1:]/score_proba[i_win][1:].sum(axis=0,keepdims=1)\n",
    "        winner_score = pd.Series([np.random.choice(range(1, max_goals+1), p=score_proba[i_win]) for i in range(0,max_draw)]).value_counts().index[0]\n",
    "        score_proba[i_loose] = score_proba[i_loose][:winner_score]/score_proba[i_loose][:winner_score].sum(axis=0,keepdims=1)\n",
    "        looser_score = pd.Series([np.random.choice(range(0, winner_score), p=score_proba[i_loose]) for i in range(0,max_draw)]).value_counts().index[0]\n",
    "        score = [winner_score, looser_score]\n",
    "    # If it's a draw then we calculate a score and repeat it twice\n",
    "    else:\n",
    "        score = np.repeat(pd.Series([np.random.choice(range(0, max_goals+1), p=score_proba[0]) for i in range(0,max_draw)]).value_counts().index[0],2)\n",
    "    looser = team2 if result == team1 else team1 if result != 'draw' else 'draw'\n",
    "    return result, looser, score"
   ]
  },
  {
   "cell_type": "markdown",
   "metadata": {
    "_uuid": "58b772d49a4d4d9539da48f61ae578629dc3f826"
   },
   "source": [
    "Now let's try it !"
   ]
  },
  {
   "cell_type": "code",
   "execution_count": null,
   "metadata": {
    "_uuid": "4389bb6cdaef28de5832a88187f38a019a98edd3",
    "execution": {
     "iopub.status.busy": "2022-07-26T02:29:24.882673Z",
     "iopub.status.idle": "2022-07-26T02:29:24.883048Z"
    }
   },
   "outputs": [],
   "source": [
    "print(get_match_result(poisson_model, 'Gabon', 'Togo'))\n",
    "print(get_match_result(poisson_model, 'France', 'Togo', elimination=True))\n",
    "print(get_match_result(poisson_model, 'Argentina', 'Germany'))\n",
    "print(get_match_result(poisson_model, 'Brazil', 'Vatican', max_goals=20))\n",
    "print(get_match_result(poisson_model, 'England', 'Morocco'))\n",
    "print(get_match_result(poisson_model, 'Iran', 'Japan'))"
   ]
  },
  {
   "cell_type": "markdown",
   "metadata": {
    "_uuid": "4deae9848c2065ffa94b0d0732a817088a72c9f3"
   },
   "source": [
    "## Simulate the competition\n",
    "\n",
    "It's time to do the competition !  First let's create the groups following the image below :\n",
    "\n",
    "![](https://i.redd.it/u20bx17v2c101.jpg)"
   ]
  },
  {
   "cell_type": "code",
   "execution_count": null,
   "metadata": {
    "_uuid": "887cecce34400407c5f0e8a6ec15110313ca0972",
    "execution": {
     "iopub.status.busy": "2022-07-26T02:29:24.883738Z",
     "iopub.status.idle": "2022-07-26T02:29:24.884206Z"
    }
   },
   "outputs": [],
   "source": [
    "groupA = ['Qatar', 'Ecuador', 'Senegal', 'Netherlands']\n",
    "groupB = ['England', 'Iran', 'USA', 'Wales']\n",
    "groupC = ['Argentina', 'Saudi Arabia', 'Mexico', 'Poland']\n",
    "groupD = ['France', 'Denmark', 'Tunisia', 'Australia']\n",
    "groupE = ['Spain', 'Germany', 'Japan', 'Costa Rica']\n",
    "groupF = ['Belium', 'Canada', 'Morocco', 'Croatia']\n",
    "groupG = ['Brazil', 'Serbia', 'Switzerland', 'Cameroon']\n",
    "groupH = ['Portugal', 'Ghana', 'Uruguay', 'Korea Republic']\n",
    "groups = [groupA, groupB, groupC, groupD, groupE, groupF, groupG, groupH]"
   ]
  },
  {
   "cell_type": "markdown",
   "metadata": {
    "_uuid": "f649957adf138917c8c76f0009a153db42c24f61"
   },
   "source": [
    "Now I create 2 functions : one for the group result and the other for the final result."
   ]
  },
  {
   "cell_type": "code",
   "execution_count": null,
   "metadata": {
    "_kg_hide-input": true,
    "_uuid": "c5768204ab07a7e9b37611f971341d75ac6b8f7b",
    "execution": {
     "iopub.status.busy": "2022-07-26T02:29:24.884822Z",
     "iopub.status.idle": "2022-07-26T02:29:24.885172Z"
    }
   },
   "outputs": [],
   "source": [
    "def get_group_result(foot_model, group):\n",
    "    ranking = pd.DataFrame({'points':[0,0,0,0], 'diff':[0,0,0,0], 'goals':[0,0,0,0]}, index=group)\n",
    "    for team1, team2 in itertools.combinations(group, 2):\n",
    "        result, looser, score = get_match_result(foot_model, team1, team2)\n",
    "        #print(result, '-', looser,':', score)\n",
    "        if result == 'draw':\n",
    "            ranking.loc[[team1, team2], 'points'] += 1\n",
    "            ranking.loc[[team1, team2], 'goals'] += score[0]\n",
    "        else:\n",
    "            ranking.loc[result, 'points'] += 3\n",
    "            ranking.loc[result, 'goals'] += score[0]\n",
    "            ranking.loc[looser, 'goals'] += score[1]\n",
    "            ranking.loc[result, 'diff'] += score[0]-score[1]\n",
    "            ranking.loc[looser, 'diff'] -= score[0]-score[1]\n",
    "            \n",
    "    return ranking.sort_values(by=['points','diff','goals'], ascending=False)\n",
    "\n",
    "def get_final_result(foot_model, groups_result):\n",
    "    round_of_16 = []\n",
    "    quarter_finals = []\n",
    "    semi_finals = []\n",
    "    \n",
    "    # SIMULATE ROUND OF 16\n",
    "    for i in range(0, 8, 2):\n",
    "        round_of_16.append(get_match_result(foot_model, groups_result[i].index[0], groups_result[i+1].index[1], elimination=True))\n",
    "        round_of_16.append(get_match_result(foot_model, groups_result[i].index[1], groups_result[i+1].index[0], elimination=True))\n",
    "    \n",
    "    # SIMULATE QUATER FINALS\n",
    "    quarter_finals.append(get_match_result(foot_model, round_of_16[0][0], round_of_16[2][0], elimination=True))\n",
    "    quarter_finals.append(get_match_result(foot_model, round_of_16[1][0], round_of_16[3][0], elimination=True))\n",
    "    quarter_finals.append(get_match_result(foot_model, round_of_16[4][0], round_of_16[6][0], elimination=True))\n",
    "    quarter_finals.append(get_match_result(foot_model, round_of_16[5][0], round_of_16[7][0], elimination=True))\n",
    "    \n",
    "    # SIMULATE SEMI FINALS\n",
    "    semi_finals.append(get_match_result(foot_model, quarter_finals[0][0], quarter_finals[2][0], elimination=True))\n",
    "    semi_finals.append(get_match_result(foot_model, quarter_finals[1][0], quarter_finals[3][0], elimination=True))\n",
    "    \n",
    "    # SIMULATE 3RD PLACE MATCH\n",
    "    little_final = get_match_result(foot_model, semi_finals[0][1], semi_finals[1][1], elimination=True)\n",
    "    \n",
    "    # SIMULATE FINAL\n",
    "    final = get_match_result(foot_model, semi_finals[0][0], semi_finals[1][0], elimination=True)\n",
    "    \n",
    "    return round_of_16, quarter_finals, semi_finals, little_final, final"
   ]
  },
  {
   "cell_type": "markdown",
   "metadata": {
    "_uuid": "e64e7b1497953119b46148712057453b335e1c32"
   },
   "source": [
    "And just like that 4 lines will get us the whole result of the competition !"
   ]
  },
  {
   "cell_type": "code",
   "execution_count": null,
   "metadata": {
    "_uuid": "1cc4125a6b1a26819bb8759b9d16fd9c8c2374fd",
    "execution": {
     "iopub.status.busy": "2022-07-26T02:29:24.885794Z",
     "iopub.status.idle": "2022-07-26T02:29:24.886176Z"
    }
   },
   "outputs": [],
   "source": [
    "groups_ranking = []\n",
    "for group in groups:\n",
    "    groups_ranking.append(get_group_result(poisson_model, group))\n",
    "\n",
    "round_of_16, quarter_finals, semi_finals, little_final, final = get_final_result(poisson_model, groups_ranking)"
   ]
  },
  {
   "cell_type": "markdown",
   "metadata": {
    "_uuid": "1f5132127e9375f9814826db78c7c7d0d14237ae"
   },
   "source": [
    "Let's visualizate the competition result. First we take a look on the groups result with the differents ranking."
   ]
  },
  {
   "cell_type": "code",
   "execution_count": null,
   "metadata": {
    "_uuid": "2ba5f20c054738bcbbfa7e64a173677164e30eeb",
    "execution": {
     "iopub.status.busy": "2022-07-26T02:29:24.886653Z",
     "iopub.status.idle": "2022-07-26T02:29:24.886993Z"
    }
   },
   "outputs": [],
   "source": [
    "for group_rank in groups_ranking:\n",
    "    display(group_rank)"
   ]
  },
  {
   "cell_type": "markdown",
   "metadata": {
    "_uuid": "c88ab3dd0275dfaf4e85ebef73f7495171a81b23"
   },
   "source": [
    "We can now make the final result in an amazing plot :"
   ]
  },
  {
   "cell_type": "code",
   "execution_count": null,
   "metadata": {
    "_kg_hide-input": true,
    "_uuid": "67e74fa78dd00f0fe4dcbd7d7e76705fbc960e32",
    "execution": {
     "iopub.status.busy": "2022-07-26T02:29:24.887544Z",
     "iopub.status.idle": "2022-07-26T02:29:24.887950Z"
    }
   },
   "outputs": [],
   "source": [
    "plt.figure(figsize = (25,14))\n",
    "img = mpimg.imread('../input/images/fifa-world-cup.png')\n",
    "plt.imshow(img)\n",
    "plt.axis('off')\n",
    "\n",
    "def text_match(x, y, match, final=False):\n",
    "    col_win, col_loose = ('green', 'red') if (not final) else ('gold', 'silver')\n",
    "    plt.text(x, y, match[0], fontsize=12, color=col_win, weight='bold')\n",
    "    plt.text(x+100, y+1, match[2][0], fontsize=18, color=col_win, weight='bold')\n",
    "    plt.text(x, y+50, match[1], fontsize=12, color=col_loose, weight='bold')\n",
    "    plt.text(x+100, y+51, match[2][1], fontsize=18, color=col_loose, weight='bold')\n",
    "\n",
    "\n",
    "round_of_16_xy = [(40,110),(898,110),(40,280),(898,280),(40,430),(898,430),(40,600),(898,600)]\n",
    "quarter_finals_xy = [(212,198),(726,198),(212,518),(726,518)]\n",
    "semi_finals_xy = [(378,365),(560,365)]\n",
    "x_little_final, y_little_final = 560, 576\n",
    "x_final, y_final = 469, 157\n",
    "\n",
    "for (x, y), match in zip(round_of_16_xy, round_of_16):\n",
    "    text_match(x, y, match)\n",
    "for (x, y), match in zip(quarter_finals_xy, quarter_finals):\n",
    "    text_match(x, y, match)\n",
    "for (x, y), match in zip(semi_finals_xy, semi_finals):\n",
    "    text_match(x, y, match)\n",
    "text_match(x_little_final, y_little_final, little_final)\n",
    "text_match(x_final, y_final, final, final=True)\n",
    "plt.show()"
   ]
  },
  {
   "cell_type": "markdown",
   "metadata": {
    "_uuid": "a6ed124db94ed2883ccd7193f556da9089a4b8fd"
   },
   "source": [
    "Thanks for reading, I know this model is not really accurate but I enjoyed playing with Poisson distribution.\n",
    "\n",
    "If you have any comments I will be glad to hear it.  👍"
   ]
  },
  {
   "cell_type": "code",
   "execution_count": null,
   "metadata": {},
   "outputs": [],
   "source": []
  },
  {
   "cell_type": "code",
   "execution_count": null,
   "metadata": {},
   "outputs": [],
   "source": []
  }
 ],
 "metadata": {
  "kernelspec": {
   "display_name": "Python 3 (ipykernel)",
   "language": "python",
   "name": "python3"
  },
  "language_info": {
   "codemirror_mode": {
    "name": "ipython",
    "version": 3
   },
   "file_extension": ".py",
   "mimetype": "text/x-python",
   "name": "python",
   "nbconvert_exporter": "python",
   "pygments_lexer": "ipython3",
   "version": "3.9.12"
  }
 },
 "nbformat": 4,
 "nbformat_minor": 4
}
