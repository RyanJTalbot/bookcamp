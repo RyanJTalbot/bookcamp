{
 "cells": [
  {
   "cell_type": "markdown",
   "metadata": {
    "_cell_guid": "b1076dfc-b9ad-4769-8c92-a6c4dae69d19",
    "_uuid": "8f2839f25d086af736a60e9eeb907d3b93b6e0e5",
    "papermill": {
     "duration": 0.003979,
     "end_time": "2022-08-29T20:01:16.936178",
     "exception": false,
     "start_time": "2022-08-29T20:01:16.932199",
     "status": "completed"
    },
    "tags": []
   },
   "source": [
    "# Threshold + Random\n",
    "\n",
    "Inspired by AmbroseM guessing notebook<br>\n",
    "It's not much but honest work :)"
   ]
  },
  {
   "cell_type": "code",
   "execution_count": 1,
   "metadata": {
    "execution": {
     "iopub.execute_input": "2022-08-29T20:01:16.945535Z",
     "iopub.status.busy": "2022-08-29T20:01:16.945185Z",
     "iopub.status.idle": "2022-08-29T20:01:16.998986Z",
     "shell.execute_reply": "2022-08-29T20:01:16.998218Z"
    },
    "papermill": {
     "duration": 0.060797,
     "end_time": "2022-08-29T20:01:17.001182",
     "exception": false,
     "start_time": "2022-08-29T20:01:16.940385",
     "status": "completed"
    },
    "tags": []
   },
   "outputs": [],
   "source": [
    "import numpy as np\n",
    "import pandas as pd\n",
    "sub = pd.read_csv('../input/tps-aug-simple-baseline/submission_no_splits.csv', index_col='id')\n",
    "\n",
    "## from the notebook I copied\n",
    "sub.loc[28901] = 0"
   ]
  },
  {
   "cell_type": "code",
   "execution_count": 2,
   "metadata": {
    "execution": {
     "iopub.execute_input": "2022-08-29T20:01:17.009934Z",
     "iopub.status.busy": "2022-08-29T20:01:17.008864Z",
     "iopub.status.idle": "2022-08-29T20:01:17.031097Z",
     "shell.execute_reply": "2022-08-29T20:01:17.029910Z"
    },
    "papermill": {
     "duration": 0.028269,
     "end_time": "2022-08-29T20:01:17.032870",
     "exception": false,
     "start_time": "2022-08-29T20:01:17.004601",
     "status": "completed"
    },
    "tags": []
   },
   "outputs": [
    {
     "data": {
      "text/html": [
       "<div>\n",
       "<style scoped>\n",
       "    .dataframe tbody tr th:only-of-type {\n",
       "        vertical-align: middle;\n",
       "    }\n",
       "\n",
       "    .dataframe tbody tr th {\n",
       "        vertical-align: top;\n",
       "    }\n",
       "\n",
       "    .dataframe thead th {\n",
       "        text-align: right;\n",
       "    }\n",
       "</style>\n",
       "<table border=\"1\" class=\"dataframe\">\n",
       "  <thead>\n",
       "    <tr style=\"text-align: right;\">\n",
       "      <th></th>\n",
       "      <th>failure</th>\n",
       "    </tr>\n",
       "  </thead>\n",
       "  <tbody>\n",
       "    <tr>\n",
       "      <th>count</th>\n",
       "      <td>20775.000000</td>\n",
       "    </tr>\n",
       "    <tr>\n",
       "      <th>mean</th>\n",
       "      <td>0.210864</td>\n",
       "    </tr>\n",
       "    <tr>\n",
       "      <th>std</th>\n",
       "      <td>0.019377</td>\n",
       "    </tr>\n",
       "    <tr>\n",
       "      <th>min</th>\n",
       "      <td>0.000000</td>\n",
       "    </tr>\n",
       "    <tr>\n",
       "      <th>25%</th>\n",
       "      <td>0.197486</td>\n",
       "    </tr>\n",
       "    <tr>\n",
       "      <th>50%</th>\n",
       "      <td>0.208134</td>\n",
       "    </tr>\n",
       "    <tr>\n",
       "      <th>75%</th>\n",
       "      <td>0.221364</td>\n",
       "    </tr>\n",
       "    <tr>\n",
       "      <th>max</th>\n",
       "      <td>0.329420</td>\n",
       "    </tr>\n",
       "  </tbody>\n",
       "</table>\n",
       "</div>"
      ],
      "text/plain": [
       "            failure\n",
       "count  20775.000000\n",
       "mean       0.210864\n",
       "std        0.019377\n",
       "min        0.000000\n",
       "25%        0.197486\n",
       "50%        0.208134\n",
       "75%        0.221364\n",
       "max        0.329420"
      ]
     },
     "execution_count": 2,
     "metadata": {},
     "output_type": "execute_result"
    }
   ],
   "source": [
    "sub.describe()"
   ]
  },
  {
   "cell_type": "code",
   "execution_count": 3,
   "metadata": {
    "execution": {
     "iopub.execute_input": "2022-08-29T20:01:17.041602Z",
     "iopub.status.busy": "2022-08-29T20:01:17.041229Z",
     "iopub.status.idle": "2022-08-29T20:01:17.054892Z",
     "shell.execute_reply": "2022-08-29T20:01:17.054246Z"
    },
    "papermill": {
     "duration": 0.020571,
     "end_time": "2022-08-29T20:01:17.057110",
     "exception": false,
     "start_time": "2022-08-29T20:01:17.036539",
     "status": "completed"
    },
    "tags": []
   },
   "outputs": [
    {
     "name": "stdout",
     "output_type": "stream",
     "text": [
      "<class 'pandas.core.frame.DataFrame'>\n",
      "Int64Index: 20775 entries, 26570 to 47344\n",
      "Data columns (total 1 columns):\n",
      " #   Column   Non-Null Count  Dtype  \n",
      "---  ------   --------------  -----  \n",
      " 0   failure  20775 non-null  float64\n",
      "dtypes: float64(1)\n",
      "memory usage: 840.6 KB\n"
     ]
    }
   ],
   "source": [
    "sub.info()"
   ]
  },
  {
   "cell_type": "code",
   "execution_count": 4,
   "metadata": {
    "execution": {
     "iopub.execute_input": "2022-08-29T20:01:17.066466Z",
     "iopub.status.busy": "2022-08-29T20:01:17.065776Z",
     "iopub.status.idle": "2022-08-29T20:01:17.243717Z",
     "shell.execute_reply": "2022-08-29T20:01:17.242342Z"
    },
    "papermill": {
     "duration": 0.185676,
     "end_time": "2022-08-29T20:01:17.246644",
     "exception": false,
     "start_time": "2022-08-29T20:01:17.060968",
     "status": "completed"
    },
    "tags": []
   },
   "outputs": [
    {
     "data": {
      "text/plain": [
       "<AxesSubplot:>"
      ]
     },
     "execution_count": 4,
     "metadata": {},
     "output_type": "execute_result"
    },
    {
     "data": {
      "image/png": "[encoded data removed]",
      "text/plain": [
       "<Figure size 432x288 with 1 Axes>"
      ]
     },
     "metadata": {
      "needs_background": "light"
     },
     "output_type": "display_data"
    }
   ],
   "source": [
    "sub.boxplot()"
   ]
  },
  {
   "cell_type": "markdown",
   "metadata": {
    "papermill": {
     "duration": 0.004854,
     "end_time": "2022-08-29T20:01:17.256968",
     "exception": false,
     "start_time": "2022-08-29T20:01:17.252114",
     "status": "completed"
    },
    "tags": []
   },
   "source": [
    "## Setup a threshold to change values"
   ]
  },
  {
   "cell_type": "code",
   "execution_count": 5,
   "metadata": {
    "execution": {
     "iopub.execute_input": "2022-08-29T20:01:17.266892Z",
     "iopub.status.busy": "2022-08-29T20:01:17.266550Z",
     "iopub.status.idle": "2022-08-29T20:01:17.274115Z",
     "shell.execute_reply": "2022-08-29T20:01:17.273394Z"
    },
    "papermill": {
     "duration": 0.014456,
     "end_time": "2022-08-29T20:01:17.275696",
     "exception": false,
     "start_time": "2022-08-29T20:01:17.261240",
     "status": "completed"
    },
    "tags": []
   },
   "outputs": [
    {
     "data": {
      "text/plain": [
       "failure    0\n",
       "dtype: int64"
      ]
     },
     "execution_count": 5,
     "metadata": {},
     "output_type": "execute_result"
    }
   ],
   "source": [
    "sub.isnull().sum()"
   ]
  },
  {
   "cell_type": "code",
   "execution_count": 6,
   "metadata": {
    "execution": {
     "iopub.execute_input": "2022-08-29T20:01:17.286160Z",
     "iopub.status.busy": "2022-08-29T20:01:17.285148Z",
     "iopub.status.idle": "2022-08-29T20:01:17.289155Z",
     "shell.execute_reply": "2022-08-29T20:01:17.288537Z"
    },
    "papermill": {
     "duration": 0.011237,
     "end_time": "2022-08-29T20:01:17.291151",
     "exception": false,
     "start_time": "2022-08-29T20:01:17.279914",
     "status": "completed"
    },
    "tags": []
   },
   "outputs": [],
   "source": [
    "# 118/1670"
   ]
  },
  {
   "cell_type": "code",
   "execution_count": 7,
   "metadata": {
    "execution": {
     "iopub.execute_input": "2022-08-29T20:01:17.301958Z",
     "iopub.status.busy": "2022-08-29T20:01:17.301461Z",
     "iopub.status.idle": "2022-08-29T20:01:17.306543Z",
     "shell.execute_reply": "2022-08-29T20:01:17.305664Z"
    },
    "papermill": {
     "duration": 0.013161,
     "end_time": "2022-08-29T20:01:17.308782",
     "exception": false,
     "start_time": "2022-08-29T20:01:17.295621",
     "status": "completed"
    },
    "tags": []
   },
   "outputs": [],
   "source": [
    "sub[sub['failure'] > 0.25] = 1.0\n",
    "sub[sub['failure'] < 0.18] = 0."
   ]
  },
  {
   "cell_type": "markdown",
   "metadata": {
    "papermill": {
     "duration": 0.00406,
     "end_time": "2022-08-29T20:01:17.317820",
     "exception": false,
     "start_time": "2022-08-29T20:01:17.313760",
     "status": "completed"
    },
    "tags": []
   },
   "source": [
    "## Adding a percentage to 0"
   ]
  },
  {
   "cell_type": "code",
   "execution_count": 8,
   "metadata": {
    "execution": {
     "iopub.execute_input": "2022-08-29T20:01:17.328176Z",
     "iopub.status.busy": "2022-08-29T20:01:17.327575Z",
     "iopub.status.idle": "2022-08-29T20:01:17.335841Z",
     "shell.execute_reply": "2022-08-29T20:01:17.335108Z"
    },
    "papermill": {
     "duration": 0.015986,
     "end_time": "2022-08-29T20:01:17.338047",
     "exception": false,
     "start_time": "2022-08-29T20:01:17.322061",
     "status": "completed"
    },
    "tags": []
   },
   "outputs": [],
   "source": [
    "indices = np.array(list(sub[(sub['failure'] > 0.18) & (sub['failure'] < 0.25)].index))\n",
    "nr_indices = len(indices)\n",
    "np.random.seed(42)\n",
    "percentage_change = 0.0205"
   ]
  },
  {
   "cell_type": "code",
   "execution_count": 9,
   "metadata": {
    "execution": {
     "iopub.execute_input": "2022-08-29T20:01:17.347793Z",
     "iopub.status.busy": "2022-08-29T20:01:17.347448Z",
     "iopub.status.idle": "2022-08-29T20:01:17.352698Z",
     "shell.execute_reply": "2022-08-29T20:01:17.352130Z"
    },
    "papermill": {
     "duration": 0.011833,
     "end_time": "2022-08-29T20:01:17.354224",
     "exception": false,
     "start_time": "2022-08-29T20:01:17.342391",
     "status": "completed"
    },
    "tags": []
   },
   "outputs": [],
   "source": [
    "random_ones = np.random.choice(2, nr_indices, p=[1 - percentage_change, percentage_change])"
   ]
  },
  {
   "cell_type": "code",
   "execution_count": 10,
   "metadata": {
    "execution": {
     "iopub.execute_input": "2022-08-29T20:01:17.363540Z",
     "iopub.status.busy": "2022-08-29T20:01:17.363055Z",
     "iopub.status.idle": "2022-08-29T20:01:17.367474Z",
     "shell.execute_reply": "2022-08-29T20:01:17.366672Z"
    },
    "papermill": {
     "duration": 0.010886,
     "end_time": "2022-08-29T20:01:17.369230",
     "exception": false,
     "start_time": "2022-08-29T20:01:17.358344",
     "status": "completed"
    },
    "tags": []
   },
   "outputs": [],
   "source": [
    "sub.loc[indices[np.where((random_ones * indices) != 0)[0]]] = 0"
   ]
  },
  {
   "cell_type": "markdown",
   "metadata": {
    "papermill": {
     "duration": 0.003546,
     "end_time": "2022-08-29T20:01:17.377357",
     "exception": false,
     "start_time": "2022-08-29T20:01:17.373811",
     "status": "completed"
    },
    "tags": []
   },
   "source": [
    "## Submission"
   ]
  },
  {
   "cell_type": "code",
   "execution_count": 11,
   "metadata": {
    "execution": {
     "iopub.execute_input": "2022-08-29T20:01:17.386472Z",
     "iopub.status.busy": "2022-08-29T20:01:17.385928Z",
     "iopub.status.idle": "2022-08-29T20:01:17.434104Z",
     "shell.execute_reply": "2022-08-29T20:01:17.432862Z"
    },
    "papermill": {
     "duration": 0.055326,
     "end_time": "2022-08-29T20:01:17.436408",
     "exception": false,
     "start_time": "2022-08-29T20:01:17.381082",
     "status": "completed"
    },
    "tags": []
   },
   "outputs": [],
   "source": [
    "sub.to_csv('submission.csv')"
   ]
  },
  {
   "cell_type": "code",
   "execution_count": null,
   "metadata": {
    "papermill": {
     "duration": 0.003988,
     "end_time": "2022-08-29T20:01:17.444634",
     "exception": false,
     "start_time": "2022-08-29T20:01:17.440646",
     "status": "completed"
    },
    "tags": []
   },
   "outputs": [],
   "source": []
  }
 ],
 "metadata": {
  "kernelspec": {
   "display_name": "Python 3 (ipykernel)",
   "language": "python",
   "name": "python3"
  },
  "language_info": {
   "codemirror_mode": {
    "name": "ipython",
    "version": 3
   },
   "file_extension": ".py",
   "mimetype": "text/x-python",
   "name": "python",
   "nbconvert_exporter": "python",
   "pygments_lexer": "ipython3",
   "version": "3.9.12"
  },
  "papermill": {
   "default_parameters": {},
   "duration": 8.833403,
   "end_time": "2022-08-29T20:01:18.069792",
   "environment_variables": {},
   "exception": null,
   "input_path": "__notebook__.ipynb",
   "output_path": "__notebook__.ipynb",
   "parameters": {},
   "start_time": "2022-08-29T20:01:09.236389",
   "version": "2.3.4"
  }
 },
 "nbformat": 4,
 "nbformat_minor": 5
}
