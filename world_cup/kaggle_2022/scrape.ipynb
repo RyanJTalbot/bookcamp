{
 "cells": [
  {
   "cell_type": "markdown",
   "id": "45b8105c",
   "metadata": {},
   "source": [
    "### tutorial: https://towardsdatascience.com/using-machine-learning-to-simulate-world-cup-matches-959e24d0731"
   ]
  },
  {
   "cell_type": "code",
   "execution_count": 1,
   "id": "c90be811",
   "metadata": {},
   "outputs": [],
   "source": [
    "import pandas as pd"
   ]
  },
  {
   "cell_type": "code",
   "execution_count": 4,
   "id": "5d9b535a",
   "metadata": {},
   "outputs": [
    {
     "ename": "IndentationError",
     "evalue": "unindent does not match any outer indentation level (<tokenize>, line 14)",
     "output_type": "error",
     "traceback": [
      "\u001b[0;36m  File \u001b[0;32m<tokenize>:14\u001b[0;36m\u001b[0m\n\u001b[0;31m    soup = get_soup(source_address)\u001b[0m\n\u001b[0m    ^\u001b[0m\n\u001b[0;31mIndentationError\u001b[0m\u001b[0;31m:\u001b[0m unindent does not match any outer indentation level\n"
     ]
    }
   ],
   "source": [
    "web_address = 'https://www.fifaindex.com/teams/?type=1'\n",
    "\n",
    "df = pd.DataFrame()\n",
    "\n",
    "for title in range(1,50,1):\n",
    "#      for pag in range(1,30):\n",
    "            \n",
    "            source_address = 'https://www.fifaindex.com/teams/?type=1'\n",
    "#          source_address = web_address + '05_' + str(day) + '/' + str(pag) + '/' + '?type=1'\n",
    "#          print('Day:', str(day))\n",
    "#          print(pag)\n",
    "#             print(pag)\n",
    "        \n",
    "    soup = get_soup(source_address)\n",
    "    result_list =  soup.find('tbody')\n",
    "except:\n",
    "    print('Page not found.')\n",
    "    break\n",
    "        \n",
    "date = str(soup.find('a', {'class': 'link-team'}))\n",
    "    \n",
    "if df.empty:\n",
    "        df = pd.read_html(str(result_list))[0]\n",
    "        df['title'] = title\n",
    "else:\n",
    "        temp_df = pd.read_html(str(result_list))[0]\n",
    "        temp_df['title'] = title\n",
    "        df = df.append(temp_df)"
   ]
  },
  {
   "cell_type": "code",
   "execution_count": null,
   "id": "e3918cae",
   "metadata": {},
   "outputs": [],
   "source": []
  }
 ],
 "metadata": {
  "kernelspec": {
   "display_name": "Python 3 (ipykernel)",
   "language": "python",
   "name": "python3"
  },
  "language_info": {
   "codemirror_mode": {
    "name": "ipython",
    "version": 3
   },
   "file_extension": ".py",
   "mimetype": "text/x-python",
   "name": "python",
   "nbconvert_exporter": "python",
   "pygments_lexer": "ipython3",
   "version": "3.9.12"
  }
 },
 "nbformat": 4,
 "nbformat_minor": 5
}
