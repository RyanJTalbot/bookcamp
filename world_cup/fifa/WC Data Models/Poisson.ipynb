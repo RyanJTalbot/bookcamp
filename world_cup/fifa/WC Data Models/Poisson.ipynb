{
 "cells": [
  {
   "cell_type": "code",
   "execution_count": 1,
   "metadata": {},
   "outputs": [],
   "source": [
    "import pandas as pd\n",
    "import numpy as np\n",
    "from sklearn.model_selection import train_test_split\n",
    "from sklearn.metrics import mean_squared_error\n",
    "from sklearn.metrics import r2_score\n",
    "from sklearn.metrics import mean_absolute_error\n",
    "from sklearn.metrics import mean_absolute_percentage_error\n",
    "\n",
    "from sklearn import linear_model\n",
    "from sklearn.pipeline import Pipeline\n",
    "from sklearn import metrics\n",
    "from sklearn.linear_model import PoissonRegressor"
   ]
  },
  {
   "cell_type": "code",
   "execution_count": 2,
   "metadata": {},
   "outputs": [],
   "source": [
    "df = pd.read_csv('wc-wo-outliers.csv')"
   ]
  },
  {
   "cell_type": "code",
   "execution_count": 3,
   "metadata": {},
   "outputs": [],
   "source": [
    "y = df['results']\n",
    "X = df.drop(columns=['results'])\n",
    "\n",
    "X_train, X_test, y_train, y_test = train_test_split(\n",
    "     X, y, test_size=0.20, random_state=1)"
   ]
  },
  {
   "cell_type": "code",
   "execution_count": 4,
   "metadata": {},
   "outputs": [
    {
     "data": {
      "text/plain": [
       "PoissonRegressor()"
      ]
     },
     "execution_count": 4,
     "metadata": {},
     "output_type": "execute_result"
    }
   ],
   "source": [
    "clf = linear_model.PoissonRegressor()\n",
    "clf.fit(X_train, y_train)"
   ]
  },
  {
   "cell_type": "code",
   "execution_count": 5,
   "metadata": {},
   "outputs": [
    {
     "name": "stdout",
     "output_type": "stream",
     "text": [
      "POISSON\n",
      "R Squared test: 0.2835520452867639\n"
     ]
    }
   ],
   "source": [
    "# Doing a polynomial regression: Comparing linear, quadratic and cubic fits\n",
    "# Pipeline helps you associate two models or objects to be built sequentially with each other, \n",
    "# in this case, PoissonRegressor() is the only object\n",
    "\n",
    "pipeline = Pipeline([('model', PoissonRegressor())])\n",
    "pipeline.fit(X_train, y_train)\n",
    "y_pred = pipeline.predict(X_test)\n",
    "r2_test = metrics.r2_score(y_test, y_pred)\n",
    "\n",
    "\n",
    "print('POISSON')\n",
    "print('R Squared test: '+str(r2_test))"
   ]
  },
  {
   "cell_type": "code",
   "execution_count": 6,
   "metadata": {},
   "outputs": [
    {
     "name": "stdout",
     "output_type": "stream",
     "text": [
      "POISSON\n",
      "R Squared trian: 0.4152865866940675\n"
     ]
    }
   ],
   "source": [
    "# training performance\n",
    "y_pred_train = pipeline.predict(X_train)\n",
    "r2_train = metrics.r2_score(y_train, y_pred_train)\n",
    "\n",
    "print('POISSON')\n",
    "print('R Squared trian: '+str(r2_train))"
   ]
  },
  {
   "cell_type": "code",
   "execution_count": 7,
   "metadata": {},
   "outputs": [
    {
     "name": "stdout",
     "output_type": "stream",
     "text": [
      "Poisson REGRESSION\n",
      "r2 score: 0.2835520452867639\n",
      "RMSE : 7.65068636442433\n",
      "MSE: 58.53300184678837\n",
      "MAE: 6.834865708284868\n",
      "MAPE: 1.133230869742865\n"
     ]
    }
   ],
   "source": [
    "print('Poisson REGRESSION')\n",
    "print('r2 score: '+str(r2_score(y_test, y_pred)))\n",
    "print('RMSE : '+str(np.sqrt(mean_squared_error(y_test, y_pred))))\n",
    "print('MSE: '+str(mean_squared_error(y_test, y_pred)))\n",
    "print('MAE: '+str(mean_absolute_error(y_test, y_pred)))\n",
    "print('MAPE: '+str(mean_absolute_percentage_error(y_test, y_pred)))\n"
   ]
  },
  {
   "cell_type": "code",
   "execution_count": 8,
   "metadata": {},
   "outputs": [
    {
     "name": "stdout",
     "output_type": "stream",
     "text": [
      "Poisson REGRESSION\n",
      "r2 score: 0.4152865866940675\n",
      "RMSE : 7.119906290844168\n",
      "MSE: 50.693065590402355\n",
      "MAE: 5.9212285397298325\n",
      "MAPE: 1.203035582197779\n"
     ]
    }
   ],
   "source": [
    "print('Poisson REGRESSION')\n",
    "print('r2 score: '+str(r2_score(y_train, y_pred_train)))\n",
    "print('RMSE : '+str(np.sqrt(mean_squared_error(y_train, y_pred_train))))\n",
    "print('MSE: '+str(mean_squared_error(y_train, y_pred_train)))\n",
    "print('MAE: '+str(mean_absolute_error(y_train, y_pred_train)))\n",
    "print('MAPE: '+str(mean_absolute_percentage_error(y_train, y_pred_train)))\n"
   ]
  },
  {
   "cell_type": "code",
   "execution_count": null,
   "metadata": {},
   "outputs": [],
   "source": []
  }
 ],
 "metadata": {
  "kernelspec": {
   "display_name": "Python 3 (ipykernel)",
   "language": "python",
   "name": "python3"
  },
  "language_info": {
   "codemirror_mode": {
    "name": "ipython",
    "version": 3
   },
   "file_extension": ".py",
   "mimetype": "text/x-python",
   "name": "python",
   "nbconvert_exporter": "python",
   "pygments_lexer": "ipython3",
   "version": "3.9.12"
  }
 },
 "nbformat": 4,
 "nbformat_minor": 2
}
