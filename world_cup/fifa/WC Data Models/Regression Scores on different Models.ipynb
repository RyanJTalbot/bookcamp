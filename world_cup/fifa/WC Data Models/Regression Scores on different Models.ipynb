{
 "cells": [
  {
   "cell_type": "markdown",
   "metadata": {},
   "source": [
    "- https://scikit-learn.org/stable/modules/classes.html#module-sklearn.linear_model"
   ]
  },
  {
   "cell_type": "markdown",
   "metadata": {},
   "source": [
    "! = model used on final df"
   ]
  },
  {
   "cell_type": "markdown",
   "metadata": {},
   "source": [
    "# Perceptron \n",
    "- MAPE: 0.4196676514758074\n",
    "- mean = 6.068965517241379\n",
    "- median = 5.0"
   ]
  },
  {
   "cell_type": "markdown",
   "metadata": {},
   "source": [
    "# Orthogonal Matching Pursuit \n",
    "- MAPE: 0.44445905812127073\n",
    "- mean = 4.889\n",
    "- median = 3.849"
   ]
  },
  {
   "cell_type": "markdown",
   "metadata": {},
   "source": [
    "# Lasso Regression \n",
    "\n",
    "- MAPE: 0.44651230853202784\n",
    "- mean: 4.833265803474132\n",
    "- median: 3.681036967430444"
   ]
  },
  {
   "cell_type": "markdown",
   "metadata": {},
   "source": [
    "# Theil Sen Regressor \n",
    "- MAPE: 0.4499469793425231"
   ]
  },
  {
   "cell_type": "markdown",
   "metadata": {},
   "source": [
    "# Lasso Lars IC \n",
    "- MAPE: 0.46051151781438643\n",
    "- mean: 4.813428951211474\n",
    "- median: 3.459060844861648"
   ]
  },
  {
   "cell_type": "markdown",
   "metadata": {},
   "source": [
    "# RIDGE REGRESSION \n",
    "---------------------\n",
    "- MAPE: 0.4613972168596109\n",
    "- mean = 4.883242900554594\n",
    "- median = 3.521435688667369"
   ]
  },
  {
   "cell_type": "markdown",
   "metadata": {},
   "source": [
    "# QuantileRegressor \n",
    "- MAPE: 0.5758410546566246"
   ]
  },
  {
   "cell_type": "markdown",
   "metadata": {},
   "source": [
    "# Poisson Regression \n",
    "- MAPE: 0.5997577343582997"
   ]
  },
  {
   "cell_type": "markdown",
   "metadata": {},
   "source": [
    "# Bayesian Ridge \n",
    "- MAPE: 0.7543190406719813"
   ]
  },
  {
   "cell_type": "markdown",
   "metadata": {},
   "source": [
    "# ARD Regression \n",
    "- MAPE: 1.2685683903338687"
   ]
  },
  {
   "cell_type": "markdown",
   "metadata": {},
   "source": [
    "# *GRADIENT BOOSTING REGRESSION !\n",
    "- MAPE: 0.2777979228251335\n",
    "- mean: 3.86815038340844\n",
    "- median: 2.707828182090825"
   ]
  },
  {
   "cell_type": "markdown",
   "metadata": {},
   "source": [
    "# Neural Network Regression !\n",
    "\n",
    "- MAPE: 0.29692564734209903\n",
    "- mean 4.229\n",
    "- median 3.036\n"
   ]
  },
  {
   "cell_type": "markdown",
   "metadata": {},
   "source": [
    "# Linear Regression !\n",
    "---------------------\n",
    "- MAPE: 0.3378688869285835\n",
    "- mean: 4.370877473889989\n",
    "- median: 3.0817040648362273"
   ]
  },
  {
   "cell_type": "markdown",
   "metadata": {},
   "source": [
    "# Tweedie Regressor!\n",
    "- MAPE: 0.3390065148424509"
   ]
  },
  {
   "cell_type": "markdown",
   "metadata": {},
   "source": [
    "# ELASTIC NET *\n",
    "- MAPE: 0.5071599152907355\n",
    "* only set alpha to 0, which should be equivalent to linear regression\n",
    "- mean 4.987237918196946\n",
    "- median 3.5006434106789452"
   ]
  },
  {
   "cell_type": "markdown",
   "metadata": {},
   "source": [
    "# Passive Aggressive Regressor !\n",
    "results vary - why does this happen on certain models?"
   ]
  },
  {
   "cell_type": "markdown",
   "metadata": {},
   "source": [
    "# Stochastic Gradient Descent Regression !\n",
    "\n",
    "- MAPE: 0.41184301502200876\n",
    "- mean: 4.8985144292639\n",
    "- median: 4.144498418542534"
   ]
  },
  {
   "cell_type": "markdown",
   "metadata": {},
   "source": [
    "# DECISION FOREST REGRESSION !\n",
    "\n",
    "- MAPE: 0.5104779151171952\n",
    "- mean 6.389\n",
    "- median 5.3\n"
   ]
  },
  {
   "cell_type": "markdown",
   "metadata": {},
   "source": [
    "# ---------------------------------------------------"
   ]
  },
  {
   "cell_type": "markdown",
   "metadata": {},
   "source": [
    "\n",
    "- R Square \n",
    "    - <b>value is between 0 to 1 and a bigger value indicates a better fit</b> between prediction and actual value.\n",
    "- MSE \n",
    "    - <b>An ideal Mean Squared Error (MSE) value is 0.0,</b> which means that all predicted values matched the expected values exactly. MSE gives larger penalization to big prediction error by square it while MAE treats all errors the same.\n",
    "- RMSE \n",
    "    - Based on a rule of thumb, it can be said that <b>RMSE values between 0.2 and 0.5 </b>shows that the model can relatively predict the data accurately. In addition, <b>Adjusted R-squared more than 0.75 is a very good</b> value for showing the accuracy. In some cases, Adjusted R-squared of 0.4 or more is acceptable as well.\n",
    "- MAE \n",
    "    - <b>The lower the MAE score the better.</b> This is because MAE is a measure of the average error between the predictions and intended targets, thus we want to minimise this value.\n",
    "\n",
    "\n",
    "- There is no ideal value for MAE as it is returned on the same scale that you are predicting, so an ideal MAE value for one dataset will not be the same for another.\n",
    "- MAE cannot be compared across different models and datasets. However, by converting MAE to MAPE (Mean Absolute Percentage Error), it becomes possible to compare model performance as this error is returned as a percentage.\n",
    "\n",
    "\n",
    "- https://stephenallwright.com/good-mae-score/\n",
    "- https://stephenallwright.com/good-mape-score/"
   ]
  },
  {
   "cell_type": "code",
   "execution_count": null,
   "metadata": {},
   "outputs": [],
   "source": []
  }
 ],
 "metadata": {
  "kernelspec": {
   "display_name": "Python 3 (ipykernel)",
   "language": "python",
   "name": "python3"
  },
  "language_info": {
   "codemirror_mode": {
    "name": "ipython",
    "version": 3
   },
   "file_extension": ".py",
   "mimetype": "text/x-python",
   "name": "python",
   "nbconvert_exporter": "python",
   "pygments_lexer": "ipython3",
   "version": "3.9.12"
  }
 },
 "nbformat": 4,
 "nbformat_minor": 2
}
