{
 "cells": [
  {
   "cell_type": "markdown",
   "metadata": {},
   "source": [
    "# Lasso Regression\n",
    "\n",
    "--------------------\n",
    "- RMSE: 6.329393351473491\n",
    "- R Squared: 0.5379184010639302\n",
    "- MSE: 40.06122019767683\n",
    "- MAE: 5.076692255868899\n",
    "- MAPE: 0.9332757212458366\n",
    "\n",
    "--------------------\n",
    "- RMSE: 7.529292443316629\n",
    "- R Squared: 0.30610751911101197\n",
    "- MSE: 56.69024469698489\n",
    "- MAE: 6.2808329296098915\n",
    "- MAPE: 0.8915791092660579\n"
   ]
  },
  {
   "cell_type": "markdown",
   "metadata": {},
   "source": [
    "# Poisson Regressino \n",
    "\n",
    "- r2 score: 0.4152865866940675\n",
    "- RMSE : 7.119906290844168\n",
    "- MSE: 50.693065590402355\n",
    "- MAE: 5.9212285397298325\n",
    "- MAPE: 1.203035582197779\n",
    "\n",
    "\n",
    "- r2 score: 0.2835520452867639\n",
    "- RMSE : 7.65068636442433\n",
    "- MSE: 58.53300184678837\n",
    "- MAE: 6.834865708284868\n",
    "- MAPE: 1.133230869742865"
   ]
  },
  {
   "cell_type": "markdown",
   "metadata": {},
   "source": [
    "# *DECISION FOREST REGRESSION\n",
    "\n",
    "- r2 score: 0.6537024302603123\n",
    "- RMSE : 5.4793301770887375\n",
    "- MSE: 30.023059189555298\n",
    "- MAE: 4.455042366330979\n",
    "- MAPE: 0.8959957656659829\n",
    "\n",
    "-----------------\n",
    "\n",
    "- r2 score: 0.3793435086796769\n",
    "- RMSE : 7.120880965340364\n",
    "- MSE: 50.706945722546706\n",
    "- MAE: 5.7138367095225275\n",
    "- MAPE: 0.8403571344521343\n",
    "\n",
    "## Update Hyperparameters\n",
    "- r2 score: 0.2967831866338452\n",
    "- RMSE : 7.579711887664333\n",
    "- MSE: 57.4520323\n",
    "- MAE: 5.838099999999999\n",
    "- MAPE: 0.7793818583999947\n",
    "-----------------\n",
    "- r2 score: 0.9296137881016225\n",
    "- RMSE : 2.470282067199093\n",
    "- MSE: 6.102293491525424\n",
    "- MAE: 2.0082711864406777\n",
    "- <b>MAPE: 0.37432196450623323</b>\n"
   ]
  },
  {
   "cell_type": "markdown",
   "metadata": {},
   "source": [
    "# **Neural Network Regression\n",
    "\n",
    "- r2 score: 0.9992320233044637\n",
    "- RMSE : 0.25803390212941985\n",
    "- MSE: 0.06658149464813501\n",
    "- MAE: 0.17906714000929108\n",
    "- MAPE: 0.030356789834672267\n",
    "\n",
    "----------------\n",
    "\n",
    "- r2 score: -0.4642555623489475\n",
    "- RMSE : 10.937460971051928\n",
    "- MSE: 119.62805249328419\n",
    "- MAE: 8.888064088667432\n",
    "- MAPE: 1.1755273624373175"
   ]
  },
  {
   "cell_type": "markdown",
   "metadata": {},
   "source": [
    "# RIDGE REGRESSION\n",
    "---------------------\n",
    "- RMSE: 6.322774446405506\n",
    "- R Squared: 0.538884330934796\n",
    "- MSE: 39.97747670011846\n",
    "- MAE: 5.071131247388322\n",
    "- MAPE: 0.9281152618060577\n",
    "\n",
    "---------------------\n",
    "- RMSE : 7.585305989448098\n",
    "- R2 : 0.29574480465936615\n",
    "- MSE: 57.53686695355718\n",
    "- MAE: 6.295148452223242\n",
    "- MAPE: 0.8953871800036423"
   ]
  },
  {
   "cell_type": "markdown",
   "metadata": {},
   "source": [
    "# Stochastic Gradient Descent Regression\n",
    "- RMSE: 6.334037190256963\n",
    "- R Squared: 0.5372400992035754\n",
    "- MSE: 40.12002712755833\n",
    "- MAE: 5.067617401581519\n",
    "- MAPE: 0.932425131828416\n",
    "\n",
    "--------------------\n",
    "- RMSE: 7.523856752524682\n",
    "- R Squared: 0.3071090537167631\n",
    "- MSE: 56.60842043251125\n",
    "- MAE: 6.277309807691817\n",
    "- MAPE: 0.8927151874798465\n"
   ]
  },
  {
   "cell_type": "markdown",
   "metadata": {},
   "source": [
    "# Linear Regression \n",
    "---------------------\n",
    "- RMSE: 6.322750364864893\n",
    "- R Squared: 0.5388878434290846\n",
    "- MSE: 39.97717217639914\n",
    "- MAE: 5.0711348407757555\n",
    "- MAPE: 0.9277204828534783 \n",
    "\n",
    "---------------------\n",
    "- RMSE : 7.589107793384392\n",
    "- R2 : 0.2950386733173721\n",
    "- MSE: 57.59455709960772\n",
    "- MAE: 6.294988780232196\n",
    "- MAPE: 0.8948800905643852\n"
   ]
  },
  {
   "cell_type": "markdown",
   "metadata": {},
   "source": [
    "# *GRADIENT BOOSTING REGRESSION\n",
    "- RMSE: 0.8952197208892592\n",
    "- R Squared: 0.990756130987963\n",
    "- MSE : 0.801418348669043\n",
    "- MAE : 0.712172875378222\n",
    "- MAPE: 0.15944413356405088\n",
    "\n",
    "-------------------\n",
    "- RMSE: 8.213466104637618\n",
    "- R Squared: 0.17427242439271662\n",
    "- MSE TEST: 67.46102545203105\n",
    "- MAE TEST: 6.1027936780475915\n",
    "- MAPE: 0.856851596768791\n",
    "\n",
    "\n",
    "## Updated Hyperparameters\n",
    "- RMSE: 1.4209434568692931\n",
    "- R Squared: 0.9767111472810475\n",
    "- MSE : 2.0190803076196566\n",
    "- MAE : 0.995764907025137\n",
    "- MAPE: 0.1810600859451868\n",
    "-------------------\n",
    "- RMSE: 8.281913619323443\n",
    "- R Squared: 0.1604525577915975\n",
    "- MSE TEST: 68.59009319793515\n",
    "- MAE TEST: 6.234854803962002\n",
    "- MAPE: 0.7348006692476325\n"
   ]
  },
  {
   "cell_type": "markdown",
   "metadata": {},
   "source": [
    "# ELASTIC NET\n",
    "\n",
    "Train set evaluation:\n",
    "_____________________________________\n",
    "- MAE: 5.448454459760207\n",
    "- MSE: 44.3280483823645\n",
    "- RMSE: 6.657931238933345\n",
    "- R2 Square 0.4887031554913477\n",
    "- MAPE: 1.0216528745133036\n",
    "\n",
    "_________________________________\n",
    "\n",
    "\n",
    "Test set evaluation:\n",
    "_____________________________________\n",
    "- MAE: 6.371990184131323\n",
    "- MSE: 51.21149162596699\n",
    "- RMSE: 7.156220484722853\n",
    "- R2 Square 0.37316783223802463\n",
    "- MAPE: 0.9600375602110183\n",
    "\n",
    "__________________________________\n"
   ]
  },
  {
   "cell_type": "markdown",
   "metadata": {},
   "source": [
    "\n",
    "- R Square - <b>value is between 0 to 1 and a bigger value indicates a better fit</b> between prediction and actual value.\n",
    "- MSE - <b>An ideal Mean Squared Error (MSE) value is 0.0,</b> which means that all predicted values matched the expected values exactly. MSE gives larger penalization to big prediction error by square it while MAE treats all errors the same.\n",
    "- RMSE - Based on a rule of thumb, it can be said that <b>RMSE values between 0.2 and 0.5 </b>shows that the model can relatively predict the data accurately. In addition, <b>Adjusted R-squared more than 0.75 is a very good</b> value for showing the accuracy. In some cases, Adjusted R-squared of 0.4 or more is acceptable as well.\n",
    "- MAE - <b>The lower the MAE score the better.</b> This is because MAE is a measure of the average error between the predictions and intended targets, thus we want to minimise this value.\n",
    "\n",
    "\n",
    "- There is no ideal value for MAE as it is returned on the same scale that you are predicting, so an ideal MAE value for one dataset will not be the same for another.\n",
    "- MAE cannot be compared across different models and datasets. However, by converting MAE to MAPE (Mean Absolute Percentage Error), it becomes possible to compare model performance as this error is returned as a percentage.\n",
    "\n",
    "\n",
    "- https://stephenallwright.com/good-mae-score/\n",
    "- https://stephenallwright.com/good-mape-score/"
   ]
  },
  {
   "cell_type": "markdown",
   "metadata": {},
   "source": [
    "hyper parameter tuning useful here?"
   ]
  },
  {
   "cell_type": "code",
   "execution_count": null,
   "metadata": {},
   "outputs": [],
   "source": []
  }
 ],
 "metadata": {
  "kernelspec": {
   "display_name": "Python 3 (ipykernel)",
   "language": "python",
   "name": "python3"
  },
  "language_info": {
   "codemirror_mode": {
    "name": "ipython",
    "version": 3
   },
   "file_extension": ".py",
   "mimetype": "text/x-python",
   "name": "python",
   "nbconvert_exporter": "python",
   "pygments_lexer": "ipython3",
   "version": "3.9.12"
  }
 },
 "nbformat": 4,
 "nbformat_minor": 2
}
