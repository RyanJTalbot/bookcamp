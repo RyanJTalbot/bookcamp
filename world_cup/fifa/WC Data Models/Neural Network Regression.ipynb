{
 "cells": [
  {
   "cell_type": "code",
   "execution_count": 1,
   "metadata": {},
   "outputs": [],
   "source": [
    "import pandas as pd\n",
    "import numpy as np\n",
    "from sklearn.model_selection import train_test_split\n",
    "from sklearn.metrics import mean_squared_error\n",
    "from sklearn.metrics import r2_score\n",
    "from sklearn.metrics import mean_absolute_error\n",
    "from sklearn.metrics import mean_absolute_percentage_error\n",
    "\n",
    "from sklearn.neural_network import MLPRegressor\n",
    "from sklearn.datasets import make_regression\n",
    "from sklearn.model_selection import train_test_split"
   ]
  },
  {
   "cell_type": "code",
   "execution_count": 2,
   "metadata": {},
   "outputs": [],
   "source": [
    "df = pd.read_csv('wc-wo-outliers.csv')"
   ]
  },
  {
   "cell_type": "code",
   "execution_count": 3,
   "metadata": {},
   "outputs": [],
   "source": [
    "y = df['results']\n",
    "X = df.drop(columns=['results'])\n",
    "\n",
    "X_train, X_test, y_train, y_test = train_test_split(\n",
    "     X, y, test_size=0.20, random_state=1)"
   ]
  },
  {
   "cell_type": "code",
   "execution_count": 4,
   "metadata": {},
   "outputs": [],
   "source": [
    "regr = MLPRegressor(random_state=1, hidden_layer_sizes=(58), \n",
    "                    max_iter=6000).fit(X_train, y_train)\n"
   ]
  },
  {
   "cell_type": "code",
   "execution_count": 5,
   "metadata": {},
   "outputs": [
    {
     "data": {
      "text/plain": [
       "array([12.6656768 , -1.59115221])"
      ]
     },
     "execution_count": 5,
     "metadata": {},
     "output_type": "execute_result"
    }
   ],
   "source": [
    "regr.predict(X_test[:2])"
   ]
  },
  {
   "cell_type": "code",
   "execution_count": 6,
   "metadata": {},
   "outputs": [
    {
     "data": {
      "text/plain": [
       "-0.43787398720360127"
      ]
     },
     "execution_count": 6,
     "metadata": {},
     "output_type": "execute_result"
    }
   ],
   "source": [
    "regr.score(X_test, y_test)"
   ]
  },
  {
   "cell_type": "code",
   "execution_count": 26,
   "metadata": {},
   "outputs": [],
   "source": [
    "y_pred = regr.predict(X_test)"
   ]
  },
  {
   "cell_type": "code",
   "execution_count": 8,
   "metadata": {},
   "outputs": [],
   "source": [
    "y_train_pred = regr.predict(X_train)"
   ]
  },
  {
   "cell_type": "code",
   "execution_count": 18,
   "metadata": {},
   "outputs": [
    {
     "name": "stdout",
     "output_type": "stream",
     "text": [
      "Neural Network Regression\n",
      "r2 score: -0.43787398720360127\n",
      "RMSE : 10.277461899709312\n",
      "MSE: 105.62622309997656\n",
      "MAE: 8.754472829208435\n",
      "MAPE: 1.2176183046988704\n",
      "----------------\n",
      "r2 score: 0.9991944877510535\n",
      "RMSE : 0.25493237367886185\n",
      "MSE: 0.06499051514953884\n",
      "MAE: 0.1724085872621033\n",
      "MAPE: 0.031775024245246475\n"
     ]
    }
   ],
   "source": [
    "print('Neural Network Regression')\n",
    "print('r2 score: '+str(r2_score(y_test, y_pred)))\n",
    "print('RMSE : '+str(np.sqrt(mean_squared_error(y_test, y_pred))))\n",
    "print('MSE: '+str(mean_squared_error(y_test, y_pred)))\n",
    "print('MAE: '+str(mean_absolute_error(y_test, y_pred)))\n",
    "print('MAPE: '+str(mean_absolute_percentage_error(y_test, y_pred)))\n",
    "\n",
    "print('----------------')\n",
    "print('r2 score: '+str(r2_score(y_train, y_train_pred)))\n",
    "print('RMSE : '+str(np.sqrt(mean_squared_error(y_train, y_train_pred))))\n",
    "print('MSE: '+str(mean_squared_error(y_train, y_train_pred)))\n",
    "print('MAE: '+str(mean_absolute_error(y_train, y_train_pred)))\n",
    "print('MAPE: '+str(mean_absolute_percentage_error(y_train, y_train_pred)))"
   ]
  },
  {
   "cell_type": "markdown",
   "metadata": {},
   "source": [
    "## Neural Network Regression\n",
    "- r2 score: -0.4642555623489475\n",
    "- RMSE : 10.937460971051928\n",
    "- MSE: 119.62805249328419\n",
    "- MAE: 8.888064088667432\n",
    "- MAPE: 1.1755273624373175\n",
    "\n",
    "----------------\n",
    "- r2 score: 0.9992320233044637\n",
    "- RMSE : 0.25803390212941985\n",
    "- MSE: 0.06658149464813501\n",
    "- MAE: 0.17906714000929108\n",
    "- MAPE: 0.030356789834672267\n"
   ]
  },
  {
   "cell_type": "markdown",
   "metadata": {},
   "source": [
    "N## eural Network Regression\n",
    "r2 score: -0.43787398720360127\n",
    "RMSE : 10.277461899709312\n",
    "MSE: 105.62622309997656\n",
    "MAE: 8.754472829208435\n",
    "MAPE: 1.2176183046988704\n",
    "----------------\n",
    "r2 score: 0.9991944877510535\n",
    "RMSE : 0.25493237367886185\n",
    "MSE: 0.06499051514953884\n",
    "MAE: 0.1724085872621033\n",
    "MAPE: 0.031775024245246475"
   ]
  },
  {
   "cell_type": "code",
   "execution_count": 19,
   "metadata": {},
   "outputs": [],
   "source": [
    "data = {'y_test': y_test, 'y_pred': y_pred}\n",
    "new_df = pd.DataFrame(data)\n",
    "diff = (new_df['y_test'] - new_df['y_pred']).abs()\n",
    "new_df['diff'] = diff\n",
    "new_df = new_df.sort_values(by='diff', ascending=True)"
   ]
  },
  {
   "cell_type": "code",
   "execution_count": 20,
   "metadata": {},
   "outputs": [],
   "source": [
    "new_df = new_df.sort_values(by='diff', ascending=True)"
   ]
  },
  {
   "cell_type": "code",
   "execution_count": 21,
   "metadata": {},
   "outputs": [],
   "source": [
    "new_df['y_pred'] = round(new_df['y_pred'], 1)"
   ]
  },
  {
   "cell_type": "code",
   "execution_count": 23,
   "metadata": {
    "scrolled": true
   },
   "outputs": [
    {
     "data": {
      "text/html": [
       "<div>\n",
       "<style scoped>\n",
       "    .dataframe tbody tr th:only-of-type {\n",
       "        vertical-align: middle;\n",
       "    }\n",
       "\n",
       "    .dataframe tbody tr th {\n",
       "        vertical-align: top;\n",
       "    }\n",
       "\n",
       "    .dataframe thead th {\n",
       "        text-align: right;\n",
       "    }\n",
       "</style>\n",
       "<table border=\"1\" class=\"dataframe\">\n",
       "  <thead>\n",
       "    <tr style=\"text-align: right;\">\n",
       "      <th></th>\n",
       "      <th>y_test</th>\n",
       "      <th>y_pred</th>\n",
       "      <th>diff</th>\n",
       "    </tr>\n",
       "  </thead>\n",
       "  <tbody>\n",
       "    <tr>\n",
       "      <th>29</th>\n",
       "      <td>4</td>\n",
       "      <td>3.4</td>\n",
       "      <td>0.602202</td>\n",
       "    </tr>\n",
       "    <tr>\n",
       "      <th>16</th>\n",
       "      <td>18</td>\n",
       "      <td>17.0</td>\n",
       "      <td>1.005290</td>\n",
       "    </tr>\n",
       "    <tr>\n",
       "      <th>95</th>\n",
       "      <td>23</td>\n",
       "      <td>24.7</td>\n",
       "      <td>1.713241</td>\n",
       "    </tr>\n",
       "    <tr>\n",
       "      <th>38</th>\n",
       "      <td>15</td>\n",
       "      <td>16.9</td>\n",
       "      <td>1.881709</td>\n",
       "    </tr>\n",
       "    <tr>\n",
       "      <th>190</th>\n",
       "      <td>24</td>\n",
       "      <td>26.4</td>\n",
       "      <td>2.416654</td>\n",
       "    </tr>\n",
       "    <tr>\n",
       "      <th>172</th>\n",
       "      <td>8</td>\n",
       "      <td>5.5</td>\n",
       "      <td>2.498264</td>\n",
       "    </tr>\n",
       "    <tr>\n",
       "      <th>163</th>\n",
       "      <td>14</td>\n",
       "      <td>10.7</td>\n",
       "      <td>3.311338</td>\n",
       "    </tr>\n",
       "    <tr>\n",
       "      <th>84</th>\n",
       "      <td>29</td>\n",
       "      <td>25.7</td>\n",
       "      <td>3.318794</td>\n",
       "    </tr>\n",
       "    <tr>\n",
       "      <th>119</th>\n",
       "      <td>28</td>\n",
       "      <td>31.5</td>\n",
       "      <td>3.526184</td>\n",
       "    </tr>\n",
       "    <tr>\n",
       "      <th>191</th>\n",
       "      <td>25</td>\n",
       "      <td>20.9</td>\n",
       "      <td>4.096669</td>\n",
       "    </tr>\n",
       "    <tr>\n",
       "      <th>31</th>\n",
       "      <td>2</td>\n",
       "      <td>6.2</td>\n",
       "      <td>4.203994</td>\n",
       "    </tr>\n",
       "    <tr>\n",
       "      <th>18</th>\n",
       "      <td>10</td>\n",
       "      <td>5.1</td>\n",
       "      <td>4.947129</td>\n",
       "    </tr>\n",
       "    <tr>\n",
       "      <th>174</th>\n",
       "      <td>22</td>\n",
       "      <td>16.9</td>\n",
       "      <td>5.097657</td>\n",
       "    </tr>\n",
       "    <tr>\n",
       "      <th>185</th>\n",
       "      <td>19</td>\n",
       "      <td>24.9</td>\n",
       "      <td>5.853953</td>\n",
       "    </tr>\n",
       "    <tr>\n",
       "      <th>116</th>\n",
       "      <td>7</td>\n",
       "      <td>13.3</td>\n",
       "      <td>6.338593</td>\n",
       "    </tr>\n",
       "    <tr>\n",
       "      <th>99</th>\n",
       "      <td>7</td>\n",
       "      <td>-0.3</td>\n",
       "      <td>7.325861</td>\n",
       "    </tr>\n",
       "    <tr>\n",
       "      <th>28</th>\n",
       "      <td>6</td>\n",
       "      <td>-1.6</td>\n",
       "      <td>7.591152</td>\n",
       "    </tr>\n",
       "    <tr>\n",
       "      <th>166</th>\n",
       "      <td>8</td>\n",
       "      <td>15.6</td>\n",
       "      <td>7.611181</td>\n",
       "    </tr>\n",
       "    <tr>\n",
       "      <th>56</th>\n",
       "      <td>8</td>\n",
       "      <td>16.1</td>\n",
       "      <td>8.122400</td>\n",
       "    </tr>\n",
       "    <tr>\n",
       "      <th>107</th>\n",
       "      <td>10</td>\n",
       "      <td>18.4</td>\n",
       "      <td>8.353419</td>\n",
       "    </tr>\n",
       "    <tr>\n",
       "      <th>120</th>\n",
       "      <td>3</td>\n",
       "      <td>11.8</td>\n",
       "      <td>8.781208</td>\n",
       "    </tr>\n",
       "    <tr>\n",
       "      <th>181</th>\n",
       "      <td>16</td>\n",
       "      <td>25.0</td>\n",
       "      <td>9.035015</td>\n",
       "    </tr>\n",
       "    <tr>\n",
       "      <th>53</th>\n",
       "      <td>17</td>\n",
       "      <td>7.7</td>\n",
       "      <td>9.266287</td>\n",
       "    </tr>\n",
       "    <tr>\n",
       "      <th>35</th>\n",
       "      <td>3</td>\n",
       "      <td>12.7</td>\n",
       "      <td>9.665677</td>\n",
       "    </tr>\n",
       "    <tr>\n",
       "      <th>40</th>\n",
       "      <td>7</td>\n",
       "      <td>17.0</td>\n",
       "      <td>9.951495</td>\n",
       "    </tr>\n",
       "    <tr>\n",
       "      <th>108</th>\n",
       "      <td>4</td>\n",
       "      <td>14.0</td>\n",
       "      <td>9.953150</td>\n",
       "    </tr>\n",
       "    <tr>\n",
       "      <th>44</th>\n",
       "      <td>6</td>\n",
       "      <td>-4.0</td>\n",
       "      <td>9.953425</td>\n",
       "    </tr>\n",
       "    <tr>\n",
       "      <th>169</th>\n",
       "      <td>18</td>\n",
       "      <td>7.7</td>\n",
       "      <td>10.343733</td>\n",
       "    </tr>\n",
       "    <tr>\n",
       "      <th>11</th>\n",
       "      <td>3</td>\n",
       "      <td>14.2</td>\n",
       "      <td>11.167608</td>\n",
       "    </tr>\n",
       "    <tr>\n",
       "      <th>4</th>\n",
       "      <td>5</td>\n",
       "      <td>16.6</td>\n",
       "      <td>11.554826</td>\n",
       "    </tr>\n",
       "    <tr>\n",
       "      <th>89</th>\n",
       "      <td>29</td>\n",
       "      <td>16.2</td>\n",
       "      <td>12.773952</td>\n",
       "    </tr>\n",
       "    <tr>\n",
       "      <th>105</th>\n",
       "      <td>4</td>\n",
       "      <td>16.8</td>\n",
       "      <td>12.824505</td>\n",
       "    </tr>\n",
       "    <tr>\n",
       "      <th>138</th>\n",
       "      <td>2</td>\n",
       "      <td>14.9</td>\n",
       "      <td>12.915743</td>\n",
       "    </tr>\n",
       "    <tr>\n",
       "      <th>113</th>\n",
       "      <td>16</td>\n",
       "      <td>30.0</td>\n",
       "      <td>14.019885</td>\n",
       "    </tr>\n",
       "    <tr>\n",
       "      <th>27</th>\n",
       "      <td>5</td>\n",
       "      <td>-9.6</td>\n",
       "      <td>14.562519</td>\n",
       "    </tr>\n",
       "    <tr>\n",
       "      <th>170</th>\n",
       "      <td>22</td>\n",
       "      <td>6.5</td>\n",
       "      <td>15.474934</td>\n",
       "    </tr>\n",
       "    <tr>\n",
       "      <th>127</th>\n",
       "      <td>18</td>\n",
       "      <td>2.1</td>\n",
       "      <td>15.911622</td>\n",
       "    </tr>\n",
       "    <tr>\n",
       "      <th>47</th>\n",
       "      <td>16</td>\n",
       "      <td>-1.2</td>\n",
       "      <td>17.214966</td>\n",
       "    </tr>\n",
       "    <tr>\n",
       "      <th>147</th>\n",
       "      <td>30</td>\n",
       "      <td>8.4</td>\n",
       "      <td>21.579099</td>\n",
       "    </tr>\n",
       "    <tr>\n",
       "      <th>102</th>\n",
       "      <td>17</td>\n",
       "      <td>-6.4</td>\n",
       "      <td>23.413582</td>\n",
       "    </tr>\n",
       "  </tbody>\n",
       "</table>\n",
       "</div>"
      ],
      "text/plain": [
       "     y_test  y_pred       diff\n",
       "29        4     3.4   0.602202\n",
       "16       18    17.0   1.005290\n",
       "95       23    24.7   1.713241\n",
       "38       15    16.9   1.881709\n",
       "190      24    26.4   2.416654\n",
       "172       8     5.5   2.498264\n",
       "163      14    10.7   3.311338\n",
       "84       29    25.7   3.318794\n",
       "119      28    31.5   3.526184\n",
       "191      25    20.9   4.096669\n",
       "31        2     6.2   4.203994\n",
       "18       10     5.1   4.947129\n",
       "174      22    16.9   5.097657\n",
       "185      19    24.9   5.853953\n",
       "116       7    13.3   6.338593\n",
       "99        7    -0.3   7.325861\n",
       "28        6    -1.6   7.591152\n",
       "166       8    15.6   7.611181\n",
       "56        8    16.1   8.122400\n",
       "107      10    18.4   8.353419\n",
       "120       3    11.8   8.781208\n",
       "181      16    25.0   9.035015\n",
       "53       17     7.7   9.266287\n",
       "35        3    12.7   9.665677\n",
       "40        7    17.0   9.951495\n",
       "108       4    14.0   9.953150\n",
       "44        6    -4.0   9.953425\n",
       "169      18     7.7  10.343733\n",
       "11        3    14.2  11.167608\n",
       "4         5    16.6  11.554826\n",
       "89       29    16.2  12.773952\n",
       "105       4    16.8  12.824505\n",
       "138       2    14.9  12.915743\n",
       "113      16    30.0  14.019885\n",
       "27        5    -9.6  14.562519\n",
       "170      22     6.5  15.474934\n",
       "127      18     2.1  15.911622\n",
       "47       16    -1.2  17.214966\n",
       "147      30     8.4  21.579099\n",
       "102      17    -6.4  23.413582"
      ]
     },
     "execution_count": 23,
     "metadata": {},
     "output_type": "execute_result"
    }
   ],
   "source": [
    "new_df"
   ]
  },
  {
   "cell_type": "code",
   "execution_count": 24,
   "metadata": {},
   "outputs": [
    {
     "data": {
      "text/plain": [
       "8.754472829208435"
      ]
     },
     "execution_count": 24,
     "metadata": {},
     "output_type": "execute_result"
    }
   ],
   "source": [
    "new_df['diff'].mean()"
   ]
  },
  {
   "cell_type": "code",
   "execution_count": 25,
   "metadata": {},
   "outputs": [
    {
     "data": {
      "text/plain": [
       "8.567313585848957"
      ]
     },
     "execution_count": 25,
     "metadata": {},
     "output_type": "execute_result"
    }
   ],
   "source": [
    "new_df['diff'].median()"
   ]
  },
  {
   "cell_type": "code",
   "execution_count": null,
   "metadata": {},
   "outputs": [],
   "source": []
  }
 ],
 "metadata": {
  "kernelspec": {
   "display_name": "Python 3 (ipykernel)",
   "language": "python",
   "name": "python3"
  },
  "language_info": {
   "codemirror_mode": {
    "name": "ipython",
    "version": 3
   },
   "file_extension": ".py",
   "mimetype": "text/x-python",
   "name": "python",
   "nbconvert_exporter": "python",
   "pygments_lexer": "ipython3",
   "version": "3.9.12"
  }
 },
 "nbformat": 4,
 "nbformat_minor": 2
}
