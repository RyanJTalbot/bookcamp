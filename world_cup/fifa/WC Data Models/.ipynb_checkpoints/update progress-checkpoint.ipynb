{
 "cells": [
  {
   "cell_type": "code",
   "execution_count": 88,
   "metadata": {},
   "outputs": [],
   "source": [
    "import pandas as pd\n",
    "import numpy as np"
   ]
  },
  {
   "cell_type": "code",
   "execution_count": 89,
   "metadata": {},
   "outputs": [],
   "source": [
    "df = pd.read_csv('WC-almost-final.csv')"
   ]
  },
  {
   "cell_type": "code",
   "execution_count": 90,
   "metadata": {},
   "outputs": [
    {
     "data": {
      "text/plain": [
       "(281, 20)"
      ]
     },
     "execution_count": 90,
     "metadata": {},
     "output_type": "execute_result"
    }
   ],
   "source": [
    "df.shape"
   ]
  },
  {
   "cell_type": "code",
   "execution_count": 91,
   "metadata": {},
   "outputs": [
    {
     "data": {
      "text/plain": [
       "7"
      ]
     },
     "execution_count": 91,
     "metadata": {},
     "output_type": "execute_result"
    }
   ],
   "source": [
    "((4 * 24) + (6*32)) - 281"
   ]
  },
  {
   "cell_type": "code",
   "execution_count": 92,
   "metadata": {},
   "outputs": [],
   "source": [
    "df = df.drop(columns= ['Unnamed: 0'])"
   ]
  },
  {
   "cell_type": "code",
   "execution_count": 93,
   "metadata": {},
   "outputs": [
    {
     "data": {
      "text/html": [
       "<div>\n",
       "<style scoped>\n",
       "    .dataframe tbody tr th:only-of-type {\n",
       "        vertical-align: middle;\n",
       "    }\n",
       "\n",
       "    .dataframe tbody tr th {\n",
       "        vertical-align: top;\n",
       "    }\n",
       "\n",
       "    .dataframe thead th {\n",
       "        text-align: right;\n",
       "    }\n",
       "</style>\n",
       "<table border=\"1\" class=\"dataframe\">\n",
       "  <thead>\n",
       "    <tr style=\"text-align: right;\">\n",
       "      <th></th>\n",
       "      <th>country</th>\n",
       "      <th>goals</th>\n",
       "      <th>xg</th>\n",
       "      <th>crosses</th>\n",
       "      <th>boxtouches</th>\n",
       "      <th>passes</th>\n",
       "      <th>progpasses</th>\n",
       "      <th>takeons</th>\n",
       "      <th>progruns</th>\n",
       "      <th>tackles</th>\n",
       "      <th>interceptions</th>\n",
       "      <th>clearances</th>\n",
       "      <th>blocks</th>\n",
       "      <th>aerials</th>\n",
       "      <th>fouls</th>\n",
       "      <th>fouled</th>\n",
       "      <th>nsxg</th>\n",
       "      <th>results</th>\n",
       "      <th>year</th>\n",
       "    </tr>\n",
       "  </thead>\n",
       "  <tbody>\n",
       "    <tr>\n",
       "      <th>266</th>\n",
       "      <td>togo</td>\n",
       "      <td>-0.227692</td>\n",
       "      <td>-0.22</td>\n",
       "      <td>-0.184615</td>\n",
       "      <td>-0.028462</td>\n",
       "      <td>-0.176154</td>\n",
       "      <td>-0.295385</td>\n",
       "      <td>0.466923</td>\n",
       "      <td>0.152308</td>\n",
       "      <td>-0.525385</td>\n",
       "      <td>-0.310769</td>\n",
       "      <td>0.198462</td>\n",
       "      <td>-0.053077</td>\n",
       "      <td>0.132308</td>\n",
       "      <td>0.158462</td>\n",
       "      <td>0.039231</td>\n",
       "      <td>-0.256923</td>\n",
       "      <td>30</td>\n",
       "      <td>6</td>\n",
       "    </tr>\n",
       "  </tbody>\n",
       "</table>\n",
       "</div>"
      ],
      "text/plain": [
       "    country     goals    xg   crosses  boxtouches    passes  progpasses  \\\n",
       "266    togo -0.227692 -0.22 -0.184615   -0.028462 -0.176154   -0.295385   \n",
       "\n",
       "      takeons  progruns   tackles  interceptions  clearances    blocks  \\\n",
       "266  0.466923  0.152308 -0.525385      -0.310769    0.198462 -0.053077   \n",
       "\n",
       "      aerials     fouls    fouled      nsxg  results  year  \n",
       "266  0.132308  0.158462  0.039231 -0.256923       30     6  "
      ]
     },
     "execution_count": 93,
     "metadata": {},
     "output_type": "execute_result"
    }
   ],
   "source": [
    "df[df['country'] == 'togo']"
   ]
  },
  {
   "cell_type": "code",
   "execution_count": 94,
   "metadata": {},
   "outputs": [
    {
     "data": {
      "text/html": [
       "<div>\n",
       "<style scoped>\n",
       "    .dataframe tbody tr th:only-of-type {\n",
       "        vertical-align: middle;\n",
       "    }\n",
       "\n",
       "    .dataframe tbody tr th {\n",
       "        vertical-align: top;\n",
       "    }\n",
       "\n",
       "    .dataframe thead th {\n",
       "        text-align: right;\n",
       "    }\n",
       "</style>\n",
       "<table border=\"1\" class=\"dataframe\">\n",
       "  <thead>\n",
       "    <tr style=\"text-align: right;\">\n",
       "      <th></th>\n",
       "      <th>country</th>\n",
       "      <th>goals</th>\n",
       "      <th>xg</th>\n",
       "      <th>crosses</th>\n",
       "      <th>boxtouches</th>\n",
       "      <th>passes</th>\n",
       "      <th>progpasses</th>\n",
       "      <th>takeons</th>\n",
       "      <th>progruns</th>\n",
       "      <th>tackles</th>\n",
       "      <th>interceptions</th>\n",
       "      <th>clearances</th>\n",
       "      <th>blocks</th>\n",
       "      <th>aerials</th>\n",
       "      <th>fouls</th>\n",
       "      <th>fouled</th>\n",
       "      <th>nsxg</th>\n",
       "      <th>results</th>\n",
       "      <th>year</th>\n",
       "    </tr>\n",
       "  </thead>\n",
       "  <tbody>\n",
       "    <tr>\n",
       "      <th>278</th>\n",
       "      <td>panama</td>\n",
       "      <td>-0.42</td>\n",
       "      <td>-0.23</td>\n",
       "      <td>-0.150769</td>\n",
       "      <td>-0.435385</td>\n",
       "      <td>-0.687692</td>\n",
       "      <td>-0.408462</td>\n",
       "      <td>-0.256923</td>\n",
       "      <td>-0.586154</td>\n",
       "      <td>-0.629231</td>\n",
       "      <td>-0.56</td>\n",
       "      <td>-0.145385</td>\n",
       "      <td>-0.404615</td>\n",
       "      <td>-0.509231</td>\n",
       "      <td>-0.173077</td>\n",
       "      <td>-0.193077</td>\n",
       "      <td>-0.369231</td>\n",
       "      <td>32</td>\n",
       "      <td>16</td>\n",
       "    </tr>\n",
       "  </tbody>\n",
       "</table>\n",
       "</div>"
      ],
      "text/plain": [
       "    country  goals    xg   crosses  boxtouches    passes  progpasses  \\\n",
       "278  panama  -0.42 -0.23 -0.150769   -0.435385 -0.687692   -0.408462   \n",
       "\n",
       "      takeons  progruns   tackles  interceptions  clearances    blocks  \\\n",
       "278 -0.256923 -0.586154 -0.629231          -0.56   -0.145385 -0.404615   \n",
       "\n",
       "      aerials     fouls    fouled      nsxg  results  year  \n",
       "278 -0.509231 -0.173077 -0.193077 -0.369231       32    16  "
      ]
     },
     "execution_count": 94,
     "metadata": {},
     "output_type": "execute_result"
    }
   ],
   "source": [
    "df[df['country'] == 'panama']"
   ]
  },
  {
   "cell_type": "code",
   "execution_count": 95,
   "metadata": {},
   "outputs": [],
   "source": [
    "pan = df.iloc[278]"
   ]
  },
  {
   "cell_type": "code",
   "execution_count": 96,
   "metadata": {},
   "outputs": [
    {
     "name": "stderr",
     "output_type": "stream",
     "text": [
      "/Users/ryantalbot/opt/anaconda3/envs/tf2/lib/python3.9/site-packages/pandas/core/series.py:1056: SettingWithCopyWarning: \n",
      "A value is trying to be set on a copy of a slice from a DataFrame\n",
      "\n",
      "See the caveats in the documentation: https://pandas.pydata.org/pandas-docs/stable/user_guide/indexing.html#returning-a-view-versus-a-copy\n",
      "  cacher_needs_updating = self._check_is_chained_assignment_possible()\n"
     ]
    }
   ],
   "source": [
    "pan['year'] = 18"
   ]
  },
  {
   "cell_type": "code",
   "execution_count": 97,
   "metadata": {},
   "outputs": [
    {
     "data": {
      "text/html": [
       "<div>\n",
       "<style scoped>\n",
       "    .dataframe tbody tr th:only-of-type {\n",
       "        vertical-align: middle;\n",
       "    }\n",
       "\n",
       "    .dataframe tbody tr th {\n",
       "        vertical-align: top;\n",
       "    }\n",
       "\n",
       "    .dataframe thead th {\n",
       "        text-align: right;\n",
       "    }\n",
       "</style>\n",
       "<table border=\"1\" class=\"dataframe\">\n",
       "  <thead>\n",
       "    <tr style=\"text-align: right;\">\n",
       "      <th></th>\n",
       "      <th>country</th>\n",
       "      <th>goals</th>\n",
       "      <th>xg</th>\n",
       "      <th>crosses</th>\n",
       "      <th>boxtouches</th>\n",
       "      <th>passes</th>\n",
       "      <th>progpasses</th>\n",
       "      <th>takeons</th>\n",
       "      <th>progruns</th>\n",
       "      <th>tackles</th>\n",
       "      <th>interceptions</th>\n",
       "      <th>clearances</th>\n",
       "      <th>blocks</th>\n",
       "      <th>aerials</th>\n",
       "      <th>fouls</th>\n",
       "      <th>fouled</th>\n",
       "      <th>nsxg</th>\n",
       "      <th>results</th>\n",
       "      <th>year</th>\n",
       "    </tr>\n",
       "  </thead>\n",
       "  <tbody>\n",
       "    <tr>\n",
       "      <th>278</th>\n",
       "      <td>panama</td>\n",
       "      <td>-0.42</td>\n",
       "      <td>-0.23</td>\n",
       "      <td>-0.150769</td>\n",
       "      <td>-0.435385</td>\n",
       "      <td>-0.687692</td>\n",
       "      <td>-0.408462</td>\n",
       "      <td>-0.256923</td>\n",
       "      <td>-0.586154</td>\n",
       "      <td>-0.629231</td>\n",
       "      <td>-0.56</td>\n",
       "      <td>-0.145385</td>\n",
       "      <td>-0.404615</td>\n",
       "      <td>-0.509231</td>\n",
       "      <td>-0.173077</td>\n",
       "      <td>-0.193077</td>\n",
       "      <td>-0.369231</td>\n",
       "      <td>32</td>\n",
       "      <td>16</td>\n",
       "    </tr>\n",
       "  </tbody>\n",
       "</table>\n",
       "</div>"
      ],
      "text/plain": [
       "    country  goals    xg   crosses  boxtouches    passes  progpasses  \\\n",
       "278  panama  -0.42 -0.23 -0.150769   -0.435385 -0.687692   -0.408462   \n",
       "\n",
       "      takeons  progruns   tackles  interceptions  clearances    blocks  \\\n",
       "278 -0.256923 -0.586154 -0.629231          -0.56   -0.145385 -0.404615   \n",
       "\n",
       "      aerials     fouls    fouled      nsxg  results  year  \n",
       "278 -0.509231 -0.173077 -0.193077 -0.369231       32    16  "
      ]
     },
     "execution_count": 97,
     "metadata": {},
     "output_type": "execute_result"
    }
   ],
   "source": [
    "df[df['country'] == 'panama']"
   ]
  },
  {
   "cell_type": "code",
   "execution_count": 80,
   "metadata": {},
   "outputs": [
    {
     "data": {
      "text/plain": [
       "False    281\n",
       "dtype: int64"
      ]
     },
     "execution_count": 80,
     "metadata": {},
     "output_type": "execute_result"
    }
   ],
   "source": [
    "df.duplicated().value_counts()"
   ]
  },
  {
   "cell_type": "code",
   "execution_count": 81,
   "metadata": {},
   "outputs": [
    {
     "data": {
      "text/plain": [
       "18    31\n",
       "6     31\n",
       "2     31\n",
       "14    31\n",
       "98    31\n",
       "10    31\n",
       "86    24\n",
       "90    24\n",
       "94    23\n",
       "82    23\n",
       "16     1\n",
       "Name: year, dtype: int64"
      ]
     },
     "execution_count": 81,
     "metadata": {},
     "output_type": "execute_result"
    }
   ],
   "source": [
    "df['year'].value_counts()"
   ]
  },
  {
   "cell_type": "code",
   "execution_count": 82,
   "metadata": {},
   "outputs": [],
   "source": [
    "# 98 - 18 => 32 teams\n",
    "# 82 - 94 => 24 trams"
   ]
  },
  {
   "cell_type": "markdown",
   "metadata": {},
   "source": [
    "# 18 / -1"
   ]
  },
  {
   "cell_type": "code",
   "execution_count": 86,
   "metadata": {},
   "outputs": [],
   "source": [
    "wc18 = df[df['year'] == 18]"
   ]
  },
  {
   "cell_type": "code",
   "execution_count": 87,
   "metadata": {},
   "outputs": [
    {
     "data": {
      "text/plain": [
       "(31, 19)"
      ]
     },
     "execution_count": 87,
     "metadata": {},
     "output_type": "execute_result"
    }
   ],
   "source": [
    "wc18.shape"
   ]
  },
  {
   "cell_type": "code",
   "execution_count": null,
   "metadata": {},
   "outputs": [],
   "source": []
  },
  {
   "cell_type": "code",
   "execution_count": 85,
   "metadata": {},
   "outputs": [
    {
     "data": {
      "text/html": [
       "<div>\n",
       "<style scoped>\n",
       "    .dataframe tbody tr th:only-of-type {\n",
       "        vertical-align: middle;\n",
       "    }\n",
       "\n",
       "    .dataframe tbody tr th {\n",
       "        vertical-align: top;\n",
       "    }\n",
       "\n",
       "    .dataframe thead th {\n",
       "        text-align: right;\n",
       "    }\n",
       "</style>\n",
       "<table border=\"1\" class=\"dataframe\">\n",
       "  <thead>\n",
       "    <tr style=\"text-align: right;\">\n",
       "      <th></th>\n",
       "      <th>country</th>\n",
       "      <th>goals</th>\n",
       "      <th>xg</th>\n",
       "      <th>crosses</th>\n",
       "      <th>boxtouches</th>\n",
       "      <th>passes</th>\n",
       "      <th>progpasses</th>\n",
       "      <th>takeons</th>\n",
       "      <th>progruns</th>\n",
       "      <th>tackles</th>\n",
       "      <th>interceptions</th>\n",
       "      <th>clearances</th>\n",
       "      <th>blocks</th>\n",
       "      <th>aerials</th>\n",
       "      <th>fouls</th>\n",
       "      <th>fouled</th>\n",
       "      <th>nsxg</th>\n",
       "      <th>results</th>\n",
       "      <th>year</th>\n",
       "    </tr>\n",
       "  </thead>\n",
       "  <tbody>\n",
       "    <tr>\n",
       "      <th>2</th>\n",
       "      <td>france</td>\n",
       "      <td>0.489231</td>\n",
       "      <td>0.231538</td>\n",
       "      <td>-0.124615</td>\n",
       "      <td>0.189231</td>\n",
       "      <td>0.123846</td>\n",
       "      <td>-0.039231</td>\n",
       "      <td>0.350769</td>\n",
       "      <td>0.080769</td>\n",
       "      <td>0.179231</td>\n",
       "      <td>0.126154</td>\n",
       "      <td>0.456923</td>\n",
       "      <td>-0.144615</td>\n",
       "      <td>0.266923</td>\n",
       "      <td>0.320000</td>\n",
       "      <td>0.460769</td>\n",
       "      <td>0.129231</td>\n",
       "      <td>1</td>\n",
       "      <td>18</td>\n",
       "    </tr>\n",
       "    <tr>\n",
       "      <th>12</th>\n",
       "      <td>croatia</td>\n",
       "      <td>0.520000</td>\n",
       "      <td>0.379231</td>\n",
       "      <td>0.298462</td>\n",
       "      <td>0.375385</td>\n",
       "      <td>0.407692</td>\n",
       "      <td>0.074615</td>\n",
       "      <td>0.304615</td>\n",
       "      <td>0.265385</td>\n",
       "      <td>0.610000</td>\n",
       "      <td>0.431538</td>\n",
       "      <td>0.184615</td>\n",
       "      <td>0.324615</td>\n",
       "      <td>0.540769</td>\n",
       "      <td>0.376923</td>\n",
       "      <td>0.317692</td>\n",
       "      <td>0.198462</td>\n",
       "      <td>2</td>\n",
       "      <td>18</td>\n",
       "    </tr>\n",
       "    <tr>\n",
       "      <th>23</th>\n",
       "      <td>belgium</td>\n",
       "      <td>0.566154</td>\n",
       "      <td>0.560769</td>\n",
       "      <td>0.234615</td>\n",
       "      <td>0.446923</td>\n",
       "      <td>0.162308</td>\n",
       "      <td>-0.037692</td>\n",
       "      <td>0.473846</td>\n",
       "      <td>0.542308</td>\n",
       "      <td>-0.023077</td>\n",
       "      <td>-0.093077</td>\n",
       "      <td>-0.225385</td>\n",
       "      <td>0.313846</td>\n",
       "      <td>-0.235385</td>\n",
       "      <td>0.063077</td>\n",
       "      <td>-0.043077</td>\n",
       "      <td>0.558462</td>\n",
       "      <td>3</td>\n",
       "      <td>18</td>\n",
       "    </tr>\n",
       "    <tr>\n",
       "      <th>30</th>\n",
       "      <td>england</td>\n",
       "      <td>0.446923</td>\n",
       "      <td>0.404615</td>\n",
       "      <td>0.126154</td>\n",
       "      <td>0.366923</td>\n",
       "      <td>0.234615</td>\n",
       "      <td>-0.184615</td>\n",
       "      <td>0.084615</td>\n",
       "      <td>0.086154</td>\n",
       "      <td>-0.088462</td>\n",
       "      <td>0.021538</td>\n",
       "      <td>-0.183846</td>\n",
       "      <td>0.236154</td>\n",
       "      <td>0.466923</td>\n",
       "      <td>-0.143077</td>\n",
       "      <td>0.170000</td>\n",
       "      <td>0.280000</td>\n",
       "      <td>4</td>\n",
       "      <td>18</td>\n",
       "    </tr>\n",
       "    <tr>\n",
       "      <th>42</th>\n",
       "      <td>uruguay</td>\n",
       "      <td>0.215385</td>\n",
       "      <td>0.316154</td>\n",
       "      <td>0.171538</td>\n",
       "      <td>0.174615</td>\n",
       "      <td>0.030769</td>\n",
       "      <td>-0.002308</td>\n",
       "      <td>-0.020769</td>\n",
       "      <td>-0.018462</td>\n",
       "      <td>-0.178462</td>\n",
       "      <td>0.920000</td>\n",
       "      <td>0.103846</td>\n",
       "      <td>-0.055385</td>\n",
       "      <td>-0.013846</td>\n",
       "      <td>0.104615</td>\n",
       "      <td>0.224615</td>\n",
       "      <td>0.164615</td>\n",
       "      <td>5</td>\n",
       "      <td>18</td>\n",
       "    </tr>\n",
       "    <tr>\n",
       "      <th>51</th>\n",
       "      <td>brazil</td>\n",
       "      <td>0.427692</td>\n",
       "      <td>0.864615</td>\n",
       "      <td>0.352308</td>\n",
       "      <td>1.153077</td>\n",
       "      <td>0.580769</td>\n",
       "      <td>-0.015385</td>\n",
       "      <td>0.663846</td>\n",
       "      <td>1.092308</td>\n",
       "      <td>0.813077</td>\n",
       "      <td>0.810000</td>\n",
       "      <td>-0.140769</td>\n",
       "      <td>0.348462</td>\n",
       "      <td>-0.026154</td>\n",
       "      <td>-0.186923</td>\n",
       "      <td>0.419231</td>\n",
       "      <td>1.027692</td>\n",
       "      <td>6</td>\n",
       "      <td>18</td>\n",
       "    </tr>\n",
       "    <tr>\n",
       "      <th>69</th>\n",
       "      <td>sweden</td>\n",
       "      <td>0.110000</td>\n",
       "      <td>0.338462</td>\n",
       "      <td>-0.006923</td>\n",
       "      <td>0.064615</td>\n",
       "      <td>-0.353077</td>\n",
       "      <td>-0.141538</td>\n",
       "      <td>-0.211538</td>\n",
       "      <td>-0.300769</td>\n",
       "      <td>-0.573846</td>\n",
       "      <td>-0.342308</td>\n",
       "      <td>0.558462</td>\n",
       "      <td>0.088462</td>\n",
       "      <td>0.298462</td>\n",
       "      <td>0.081538</td>\n",
       "      <td>0.203846</td>\n",
       "      <td>0.050769</td>\n",
       "      <td>7</td>\n",
       "      <td>18</td>\n",
       "    </tr>\n",
       "    <tr>\n",
       "      <th>72</th>\n",
       "      <td>russia</td>\n",
       "      <td>0.572308</td>\n",
       "      <td>0.006154</td>\n",
       "      <td>-0.037692</td>\n",
       "      <td>0.076154</td>\n",
       "      <td>-0.416923</td>\n",
       "      <td>-0.153846</td>\n",
       "      <td>-0.170769</td>\n",
       "      <td>-0.191538</td>\n",
       "      <td>-0.466154</td>\n",
       "      <td>-0.107692</td>\n",
       "      <td>0.344615</td>\n",
       "      <td>-0.072308</td>\n",
       "      <td>0.683077</td>\n",
       "      <td>0.365385</td>\n",
       "      <td>-0.138462</td>\n",
       "      <td>-0.017692</td>\n",
       "      <td>8</td>\n",
       "      <td>18</td>\n",
       "    </tr>\n",
       "    <tr>\n",
       "      <th>85</th>\n",
       "      <td>colombia</td>\n",
       "      <td>0.313077</td>\n",
       "      <td>-0.103077</td>\n",
       "      <td>0.029231</td>\n",
       "      <td>-0.319231</td>\n",
       "      <td>-0.093846</td>\n",
       "      <td>-0.152308</td>\n",
       "      <td>-0.142308</td>\n",
       "      <td>-0.181538</td>\n",
       "      <td>0.058462</td>\n",
       "      <td>-0.141538</td>\n",
       "      <td>0.016923</td>\n",
       "      <td>-0.018462</td>\n",
       "      <td>0.121538</td>\n",
       "      <td>0.212308</td>\n",
       "      <td>0.083077</td>\n",
       "      <td>-0.171538</td>\n",
       "      <td>9</td>\n",
       "      <td>18</td>\n",
       "    </tr>\n",
       "    <tr>\n",
       "      <th>91</th>\n",
       "      <td>spain</td>\n",
       "      <td>0.190769</td>\n",
       "      <td>0.680769</td>\n",
       "      <td>0.319231</td>\n",
       "      <td>0.763077</td>\n",
       "      <td>1.410769</td>\n",
       "      <td>0.267692</td>\n",
       "      <td>0.516923</td>\n",
       "      <td>0.981538</td>\n",
       "      <td>0.420000</td>\n",
       "      <td>0.449231</td>\n",
       "      <td>-0.392308</td>\n",
       "      <td>0.094615</td>\n",
       "      <td>-0.016923</td>\n",
       "      <td>-0.410000</td>\n",
       "      <td>0.195385</td>\n",
       "      <td>0.726154</td>\n",
       "      <td>10</td>\n",
       "      <td>18</td>\n",
       "    </tr>\n",
       "    <tr>\n",
       "      <th>105</th>\n",
       "      <td>denmark</td>\n",
       "      <td>-0.053077</td>\n",
       "      <td>-0.192308</td>\n",
       "      <td>-0.136923</td>\n",
       "      <td>0.065385</td>\n",
       "      <td>-0.374615</td>\n",
       "      <td>-0.263846</td>\n",
       "      <td>-0.010000</td>\n",
       "      <td>-0.393077</td>\n",
       "      <td>-0.394615</td>\n",
       "      <td>-0.314615</td>\n",
       "      <td>-0.200000</td>\n",
       "      <td>-0.136154</td>\n",
       "      <td>0.326923</td>\n",
       "      <td>-0.046154</td>\n",
       "      <td>-0.413077</td>\n",
       "      <td>-0.019231</td>\n",
       "      <td>11</td>\n",
       "      <td>18</td>\n",
       "    </tr>\n",
       "    <tr>\n",
       "      <th>118</th>\n",
       "      <td>mexico</td>\n",
       "      <td>-0.023077</td>\n",
       "      <td>0.194615</td>\n",
       "      <td>0.029231</td>\n",
       "      <td>0.341538</td>\n",
       "      <td>0.273846</td>\n",
       "      <td>0.556154</td>\n",
       "      <td>0.688462</td>\n",
       "      <td>0.982308</td>\n",
       "      <td>0.532308</td>\n",
       "      <td>0.364615</td>\n",
       "      <td>0.086154</td>\n",
       "      <td>0.961538</td>\n",
       "      <td>0.006923</td>\n",
       "      <td>0.352308</td>\n",
       "      <td>0.240000</td>\n",
       "      <td>0.260000</td>\n",
       "      <td>12</td>\n",
       "      <td>18</td>\n",
       "    </tr>\n",
       "    <tr>\n",
       "      <th>121</th>\n",
       "      <td>portugal</td>\n",
       "      <td>0.373846</td>\n",
       "      <td>0.166154</td>\n",
       "      <td>0.297692</td>\n",
       "      <td>0.044615</td>\n",
       "      <td>0.316923</td>\n",
       "      <td>-0.044615</td>\n",
       "      <td>0.379231</td>\n",
       "      <td>0.212308</td>\n",
       "      <td>0.300769</td>\n",
       "      <td>0.247692</td>\n",
       "      <td>-0.024615</td>\n",
       "      <td>-0.263846</td>\n",
       "      <td>0.294615</td>\n",
       "      <td>0.183846</td>\n",
       "      <td>0.386154</td>\n",
       "      <td>0.120000</td>\n",
       "      <td>13</td>\n",
       "      <td>18</td>\n",
       "    </tr>\n",
       "    <tr>\n",
       "      <th>132</th>\n",
       "      <td>switzerland</td>\n",
       "      <td>0.241538</td>\n",
       "      <td>0.330769</td>\n",
       "      <td>0.522308</td>\n",
       "      <td>0.181538</td>\n",
       "      <td>0.219231</td>\n",
       "      <td>0.113077</td>\n",
       "      <td>0.045385</td>\n",
       "      <td>0.286923</td>\n",
       "      <td>0.679231</td>\n",
       "      <td>0.503077</td>\n",
       "      <td>-0.172308</td>\n",
       "      <td>0.457692</td>\n",
       "      <td>-0.246923</td>\n",
       "      <td>-0.040000</td>\n",
       "      <td>0.116154</td>\n",
       "      <td>0.186923</td>\n",
       "      <td>14</td>\n",
       "      <td>18</td>\n",
       "    </tr>\n",
       "    <tr>\n",
       "      <th>144</th>\n",
       "      <td>japan</td>\n",
       "      <td>0.373846</td>\n",
       "      <td>0.119231</td>\n",
       "      <td>-0.105385</td>\n",
       "      <td>-0.072308</td>\n",
       "      <td>-0.012308</td>\n",
       "      <td>-0.359231</td>\n",
       "      <td>-0.240769</td>\n",
       "      <td>-0.116154</td>\n",
       "      <td>0.253846</td>\n",
       "      <td>-0.034615</td>\n",
       "      <td>-0.258462</td>\n",
       "      <td>0.244615</td>\n",
       "      <td>-0.196154</td>\n",
       "      <td>-0.266154</td>\n",
       "      <td>0.068462</td>\n",
       "      <td>-0.086923</td>\n",
       "      <td>15</td>\n",
       "      <td>18</td>\n",
       "    </tr>\n",
       "    <tr>\n",
       "      <th>151</th>\n",
       "      <td>argentina</td>\n",
       "      <td>0.373846</td>\n",
       "      <td>0.110000</td>\n",
       "      <td>0.030000</td>\n",
       "      <td>0.300769</td>\n",
       "      <td>0.497692</td>\n",
       "      <td>-0.213846</td>\n",
       "      <td>0.450000</td>\n",
       "      <td>0.743077</td>\n",
       "      <td>0.881538</td>\n",
       "      <td>0.370769</td>\n",
       "      <td>0.012308</td>\n",
       "      <td>0.074615</td>\n",
       "      <td>0.006923</td>\n",
       "      <td>-0.040769</td>\n",
       "      <td>0.656154</td>\n",
       "      <td>0.316923</td>\n",
       "      <td>16</td>\n",
       "      <td>18</td>\n",
       "    </tr>\n",
       "    <tr>\n",
       "      <th>165</th>\n",
       "      <td>senegal</td>\n",
       "      <td>0.110769</td>\n",
       "      <td>-0.074615</td>\n",
       "      <td>0.148462</td>\n",
       "      <td>0.087692</td>\n",
       "      <td>-0.320769</td>\n",
       "      <td>-0.150769</td>\n",
       "      <td>0.028462</td>\n",
       "      <td>0.121538</td>\n",
       "      <td>-0.384615</td>\n",
       "      <td>-0.240769</td>\n",
       "      <td>-0.145385</td>\n",
       "      <td>-0.353077</td>\n",
       "      <td>0.302308</td>\n",
       "      <td>0.352308</td>\n",
       "      <td>-0.095385</td>\n",
       "      <td>0.071538</td>\n",
       "      <td>17</td>\n",
       "      <td>18</td>\n",
       "    </tr>\n",
       "    <tr>\n",
       "      <th>169</th>\n",
       "      <td>iran</td>\n",
       "      <td>-0.243077</td>\n",
       "      <td>0.063846</td>\n",
       "      <td>-0.090769</td>\n",
       "      <td>-0.287692</td>\n",
       "      <td>-0.704615</td>\n",
       "      <td>-0.441538</td>\n",
       "      <td>-0.098462</td>\n",
       "      <td>-0.383077</td>\n",
       "      <td>-0.722308</td>\n",
       "      <td>-0.606154</td>\n",
       "      <td>0.313846</td>\n",
       "      <td>-0.336923</td>\n",
       "      <td>0.032308</td>\n",
       "      <td>0.425385</td>\n",
       "      <td>0.426923</td>\n",
       "      <td>-0.306154</td>\n",
       "      <td>18</td>\n",
       "      <td>18</td>\n",
       "    </tr>\n",
       "    <tr>\n",
       "      <th>185</th>\n",
       "      <td>southkorea</td>\n",
       "      <td>0.110000</td>\n",
       "      <td>0.032308</td>\n",
       "      <td>-0.150000</td>\n",
       "      <td>0.017692</td>\n",
       "      <td>-0.373077</td>\n",
       "      <td>-0.323077</td>\n",
       "      <td>0.376923</td>\n",
       "      <td>-0.113846</td>\n",
       "      <td>-0.230000</td>\n",
       "      <td>-0.154615</td>\n",
       "      <td>0.297692</td>\n",
       "      <td>-0.116923</td>\n",
       "      <td>-0.215385</td>\n",
       "      <td>0.799231</td>\n",
       "      <td>-0.030000</td>\n",
       "      <td>0.176154</td>\n",
       "      <td>19</td>\n",
       "      <td>18</td>\n",
       "    </tr>\n",
       "    <tr>\n",
       "      <th>190</th>\n",
       "      <td>peru</td>\n",
       "      <td>-0.066154</td>\n",
       "      <td>-0.143846</td>\n",
       "      <td>-0.150769</td>\n",
       "      <td>0.256154</td>\n",
       "      <td>0.185385</td>\n",
       "      <td>0.366923</td>\n",
       "      <td>-0.002308</td>\n",
       "      <td>0.240000</td>\n",
       "      <td>0.542308</td>\n",
       "      <td>0.206154</td>\n",
       "      <td>0.380769</td>\n",
       "      <td>0.153077</td>\n",
       "      <td>0.009231</td>\n",
       "      <td>-0.100769</td>\n",
       "      <td>0.133077</td>\n",
       "      <td>-0.080769</td>\n",
       "      <td>20</td>\n",
       "      <td>18</td>\n",
       "    </tr>\n",
       "    <tr>\n",
       "      <th>201</th>\n",
       "      <td>nigeria</td>\n",
       "      <td>0.110000</td>\n",
       "      <td>-0.004615</td>\n",
       "      <td>-0.030769</td>\n",
       "      <td>-0.038462</td>\n",
       "      <td>-0.182308</td>\n",
       "      <td>0.062308</td>\n",
       "      <td>0.568462</td>\n",
       "      <td>-0.147692</td>\n",
       "      <td>-0.150769</td>\n",
       "      <td>-0.020000</td>\n",
       "      <td>0.100000</td>\n",
       "      <td>-0.142308</td>\n",
       "      <td>-0.058462</td>\n",
       "      <td>0.201538</td>\n",
       "      <td>0.229231</td>\n",
       "      <td>-0.026923</td>\n",
       "      <td>21</td>\n",
       "      <td>18</td>\n",
       "    </tr>\n",
       "    <tr>\n",
       "      <th>205</th>\n",
       "      <td>serbia</td>\n",
       "      <td>-0.066154</td>\n",
       "      <td>0.076154</td>\n",
       "      <td>0.387692</td>\n",
       "      <td>0.673846</td>\n",
       "      <td>0.050769</td>\n",
       "      <td>0.183077</td>\n",
       "      <td>0.283077</td>\n",
       "      <td>0.358462</td>\n",
       "      <td>0.179231</td>\n",
       "      <td>-0.340769</td>\n",
       "      <td>0.233077</td>\n",
       "      <td>0.257692</td>\n",
       "      <td>0.618462</td>\n",
       "      <td>0.575385</td>\n",
       "      <td>0.330000</td>\n",
       "      <td>0.600000</td>\n",
       "      <td>22</td>\n",
       "      <td>18</td>\n",
       "    </tr>\n",
       "    <tr>\n",
       "      <th>217</th>\n",
       "      <td>germany</td>\n",
       "      <td>-0.066154</td>\n",
       "      <td>0.162308</td>\n",
       "      <td>0.266923</td>\n",
       "      <td>0.741538</td>\n",
       "      <td>0.566154</td>\n",
       "      <td>0.604615</td>\n",
       "      <td>-0.193846</td>\n",
       "      <td>0.526923</td>\n",
       "      <td>0.376923</td>\n",
       "      <td>0.288462</td>\n",
       "      <td>-0.490000</td>\n",
       "      <td>-0.120769</td>\n",
       "      <td>-0.350769</td>\n",
       "      <td>-0.510769</td>\n",
       "      <td>-0.260000</td>\n",
       "      <td>0.861538</td>\n",
       "      <td>23</td>\n",
       "      <td>18</td>\n",
       "    </tr>\n",
       "    <tr>\n",
       "      <th>234</th>\n",
       "      <td>tunisia</td>\n",
       "      <td>0.463846</td>\n",
       "      <td>0.343077</td>\n",
       "      <td>0.029231</td>\n",
       "      <td>-0.026154</td>\n",
       "      <td>0.173077</td>\n",
       "      <td>0.200769</td>\n",
       "      <td>0.092308</td>\n",
       "      <td>0.123077</td>\n",
       "      <td>0.163846</td>\n",
       "      <td>-0.186923</td>\n",
       "      <td>-0.276154</td>\n",
       "      <td>0.076923</td>\n",
       "      <td>-0.283077</td>\n",
       "      <td>0.237692</td>\n",
       "      <td>0.100000</td>\n",
       "      <td>0.160000</td>\n",
       "      <td>24</td>\n",
       "      <td>18</td>\n",
       "    </tr>\n",
       "    <tr>\n",
       "      <th>239</th>\n",
       "      <td>poland</td>\n",
       "      <td>-0.066154</td>\n",
       "      <td>0.173077</td>\n",
       "      <td>-0.090769</td>\n",
       "      <td>0.234615</td>\n",
       "      <td>-0.040000</td>\n",
       "      <td>-0.076154</td>\n",
       "      <td>-0.353077</td>\n",
       "      <td>-0.315385</td>\n",
       "      <td>-0.107692</td>\n",
       "      <td>-0.104615</td>\n",
       "      <td>0.067692</td>\n",
       "      <td>0.073077</td>\n",
       "      <td>0.213077</td>\n",
       "      <td>-0.287692</td>\n",
       "      <td>-0.030000</td>\n",
       "      <td>0.090769</td>\n",
       "      <td>25</td>\n",
       "      <td>18</td>\n",
       "    </tr>\n",
       "    <tr>\n",
       "      <th>243</th>\n",
       "      <td>saudi</td>\n",
       "      <td>-0.066154</td>\n",
       "      <td>0.226154</td>\n",
       "      <td>0.148462</td>\n",
       "      <td>-0.128462</td>\n",
       "      <td>0.689231</td>\n",
       "      <td>0.070769</td>\n",
       "      <td>0.091538</td>\n",
       "      <td>0.425385</td>\n",
       "      <td>0.726154</td>\n",
       "      <td>0.230000</td>\n",
       "      <td>-0.324615</td>\n",
       "      <td>0.072308</td>\n",
       "      <td>-0.440769</td>\n",
       "      <td>-0.173846</td>\n",
       "      <td>0.296154</td>\n",
       "      <td>-0.046923</td>\n",
       "      <td>26</td>\n",
       "      <td>18</td>\n",
       "    </tr>\n",
       "    <tr>\n",
       "      <th>250</th>\n",
       "      <td>morocco</td>\n",
       "      <td>-0.243077</td>\n",
       "      <td>0.000769</td>\n",
       "      <td>0.207692</td>\n",
       "      <td>0.120769</td>\n",
       "      <td>-0.172308</td>\n",
       "      <td>-0.327692</td>\n",
       "      <td>0.378462</td>\n",
       "      <td>0.037692</td>\n",
       "      <td>0.003077</td>\n",
       "      <td>-0.016154</td>\n",
       "      <td>-0.178462</td>\n",
       "      <td>0.182308</td>\n",
       "      <td>0.279231</td>\n",
       "      <td>0.837692</td>\n",
       "      <td>-0.063077</td>\n",
       "      <td>-0.002308</td>\n",
       "      <td>27</td>\n",
       "      <td>18</td>\n",
       "    </tr>\n",
       "    <tr>\n",
       "      <th>254</th>\n",
       "      <td>australia</td>\n",
       "      <td>-0.066923</td>\n",
       "      <td>0.165385</td>\n",
       "      <td>0.447692</td>\n",
       "      <td>0.188462</td>\n",
       "      <td>0.470000</td>\n",
       "      <td>0.346923</td>\n",
       "      <td>0.250000</td>\n",
       "      <td>0.105385</td>\n",
       "      <td>0.216923</td>\n",
       "      <td>0.132308</td>\n",
       "      <td>0.330769</td>\n",
       "      <td>-0.331538</td>\n",
       "      <td>0.303846</td>\n",
       "      <td>0.313077</td>\n",
       "      <td>0.066923</td>\n",
       "      <td>0.139231</td>\n",
       "      <td>28</td>\n",
       "      <td>18</td>\n",
       "    </tr>\n",
       "    <tr>\n",
       "      <th>261</th>\n",
       "      <td>iceland</td>\n",
       "      <td>-0.066154</td>\n",
       "      <td>0.300000</td>\n",
       "      <td>0.147692</td>\n",
       "      <td>0.244615</td>\n",
       "      <td>-0.453846</td>\n",
       "      <td>0.003846</td>\n",
       "      <td>0.029231</td>\n",
       "      <td>-0.213846</td>\n",
       "      <td>-0.634615</td>\n",
       "      <td>-0.443077</td>\n",
       "      <td>0.395385</td>\n",
       "      <td>-0.274615</td>\n",
       "      <td>0.235385</td>\n",
       "      <td>0.013846</td>\n",
       "      <td>-0.226154</td>\n",
       "      <td>0.127692</td>\n",
       "      <td>29</td>\n",
       "      <td>18</td>\n",
       "    </tr>\n",
       "    <tr>\n",
       "      <th>269</th>\n",
       "      <td>costarica</td>\n",
       "      <td>-0.243077</td>\n",
       "      <td>-0.021538</td>\n",
       "      <td>0.090000</td>\n",
       "      <td>-0.117692</td>\n",
       "      <td>-0.190000</td>\n",
       "      <td>-0.030000</td>\n",
       "      <td>0.283077</td>\n",
       "      <td>-0.349231</td>\n",
       "      <td>-0.252308</td>\n",
       "      <td>-0.284615</td>\n",
       "      <td>0.215385</td>\n",
       "      <td>-0.198462</td>\n",
       "      <td>-0.012308</td>\n",
       "      <td>0.201538</td>\n",
       "      <td>-0.129231</td>\n",
       "      <td>-0.084615</td>\n",
       "      <td>30</td>\n",
       "      <td>18</td>\n",
       "    </tr>\n",
       "    <tr>\n",
       "      <th>275</th>\n",
       "      <td>egypt</td>\n",
       "      <td>-0.066923</td>\n",
       "      <td>-0.147692</td>\n",
       "      <td>0.028462</td>\n",
       "      <td>-0.050000</td>\n",
       "      <td>-0.076154</td>\n",
       "      <td>0.314615</td>\n",
       "      <td>-0.224615</td>\n",
       "      <td>0.122308</td>\n",
       "      <td>-0.207692</td>\n",
       "      <td>0.190769</td>\n",
       "      <td>0.413846</td>\n",
       "      <td>-0.044615</td>\n",
       "      <td>-0.035385</td>\n",
       "      <td>-0.173846</td>\n",
       "      <td>-0.323846</td>\n",
       "      <td>-0.006923</td>\n",
       "      <td>31</td>\n",
       "      <td>18</td>\n",
       "    </tr>\n",
       "  </tbody>\n",
       "</table>\n",
       "</div>"
      ],
      "text/plain": [
       "         country     goals        xg   crosses  boxtouches    passes  \\\n",
       "2         france  0.489231  0.231538 -0.124615    0.189231  0.123846   \n",
       "12       croatia  0.520000  0.379231  0.298462    0.375385  0.407692   \n",
       "23       belgium  0.566154  0.560769  0.234615    0.446923  0.162308   \n",
       "30       england  0.446923  0.404615  0.126154    0.366923  0.234615   \n",
       "42       uruguay  0.215385  0.316154  0.171538    0.174615  0.030769   \n",
       "51        brazil  0.427692  0.864615  0.352308    1.153077  0.580769   \n",
       "69        sweden  0.110000  0.338462 -0.006923    0.064615 -0.353077   \n",
       "72        russia  0.572308  0.006154 -0.037692    0.076154 -0.416923   \n",
       "85      colombia  0.313077 -0.103077  0.029231   -0.319231 -0.093846   \n",
       "91         spain  0.190769  0.680769  0.319231    0.763077  1.410769   \n",
       "105      denmark -0.053077 -0.192308 -0.136923    0.065385 -0.374615   \n",
       "118       mexico -0.023077  0.194615  0.029231    0.341538  0.273846   \n",
       "121     portugal  0.373846  0.166154  0.297692    0.044615  0.316923   \n",
       "132  switzerland  0.241538  0.330769  0.522308    0.181538  0.219231   \n",
       "144        japan  0.373846  0.119231 -0.105385   -0.072308 -0.012308   \n",
       "151    argentina  0.373846  0.110000  0.030000    0.300769  0.497692   \n",
       "165      senegal  0.110769 -0.074615  0.148462    0.087692 -0.320769   \n",
       "169         iran -0.243077  0.063846 -0.090769   -0.287692 -0.704615   \n",
       "185   southkorea  0.110000  0.032308 -0.150000    0.017692 -0.373077   \n",
       "190         peru -0.066154 -0.143846 -0.150769    0.256154  0.185385   \n",
       "201      nigeria  0.110000 -0.004615 -0.030769   -0.038462 -0.182308   \n",
       "205       serbia -0.066154  0.076154  0.387692    0.673846  0.050769   \n",
       "217      germany -0.066154  0.162308  0.266923    0.741538  0.566154   \n",
       "234      tunisia  0.463846  0.343077  0.029231   -0.026154  0.173077   \n",
       "239       poland -0.066154  0.173077 -0.090769    0.234615 -0.040000   \n",
       "243        saudi -0.066154  0.226154  0.148462   -0.128462  0.689231   \n",
       "250      morocco -0.243077  0.000769  0.207692    0.120769 -0.172308   \n",
       "254    australia -0.066923  0.165385  0.447692    0.188462  0.470000   \n",
       "261      iceland -0.066154  0.300000  0.147692    0.244615 -0.453846   \n",
       "269    costarica -0.243077 -0.021538  0.090000   -0.117692 -0.190000   \n",
       "275        egypt -0.066923 -0.147692  0.028462   -0.050000 -0.076154   \n",
       "\n",
       "     progpasses   takeons  progruns   tackles  interceptions  clearances  \\\n",
       "2     -0.039231  0.350769  0.080769  0.179231       0.126154    0.456923   \n",
       "12     0.074615  0.304615  0.265385  0.610000       0.431538    0.184615   \n",
       "23    -0.037692  0.473846  0.542308 -0.023077      -0.093077   -0.225385   \n",
       "30    -0.184615  0.084615  0.086154 -0.088462       0.021538   -0.183846   \n",
       "42    -0.002308 -0.020769 -0.018462 -0.178462       0.920000    0.103846   \n",
       "51    -0.015385  0.663846  1.092308  0.813077       0.810000   -0.140769   \n",
       "69    -0.141538 -0.211538 -0.300769 -0.573846      -0.342308    0.558462   \n",
       "72    -0.153846 -0.170769 -0.191538 -0.466154      -0.107692    0.344615   \n",
       "85    -0.152308 -0.142308 -0.181538  0.058462      -0.141538    0.016923   \n",
       "91     0.267692  0.516923  0.981538  0.420000       0.449231   -0.392308   \n",
       "105   -0.263846 -0.010000 -0.393077 -0.394615      -0.314615   -0.200000   \n",
       "118    0.556154  0.688462  0.982308  0.532308       0.364615    0.086154   \n",
       "121   -0.044615  0.379231  0.212308  0.300769       0.247692   -0.024615   \n",
       "132    0.113077  0.045385  0.286923  0.679231       0.503077   -0.172308   \n",
       "144   -0.359231 -0.240769 -0.116154  0.253846      -0.034615   -0.258462   \n",
       "151   -0.213846  0.450000  0.743077  0.881538       0.370769    0.012308   \n",
       "165   -0.150769  0.028462  0.121538 -0.384615      -0.240769   -0.145385   \n",
       "169   -0.441538 -0.098462 -0.383077 -0.722308      -0.606154    0.313846   \n",
       "185   -0.323077  0.376923 -0.113846 -0.230000      -0.154615    0.297692   \n",
       "190    0.366923 -0.002308  0.240000  0.542308       0.206154    0.380769   \n",
       "201    0.062308  0.568462 -0.147692 -0.150769      -0.020000    0.100000   \n",
       "205    0.183077  0.283077  0.358462  0.179231      -0.340769    0.233077   \n",
       "217    0.604615 -0.193846  0.526923  0.376923       0.288462   -0.490000   \n",
       "234    0.200769  0.092308  0.123077  0.163846      -0.186923   -0.276154   \n",
       "239   -0.076154 -0.353077 -0.315385 -0.107692      -0.104615    0.067692   \n",
       "243    0.070769  0.091538  0.425385  0.726154       0.230000   -0.324615   \n",
       "250   -0.327692  0.378462  0.037692  0.003077      -0.016154   -0.178462   \n",
       "254    0.346923  0.250000  0.105385  0.216923       0.132308    0.330769   \n",
       "261    0.003846  0.029231 -0.213846 -0.634615      -0.443077    0.395385   \n",
       "269   -0.030000  0.283077 -0.349231 -0.252308      -0.284615    0.215385   \n",
       "275    0.314615 -0.224615  0.122308 -0.207692       0.190769    0.413846   \n",
       "\n",
       "       blocks   aerials     fouls    fouled      nsxg  results  year  \n",
       "2   -0.144615  0.266923  0.320000  0.460769  0.129231        1    18  \n",
       "12   0.324615  0.540769  0.376923  0.317692  0.198462        2    18  \n",
       "23   0.313846 -0.235385  0.063077 -0.043077  0.558462        3    18  \n",
       "30   0.236154  0.466923 -0.143077  0.170000  0.280000        4    18  \n",
       "42  -0.055385 -0.013846  0.104615  0.224615  0.164615        5    18  \n",
       "51   0.348462 -0.026154 -0.186923  0.419231  1.027692        6    18  \n",
       "69   0.088462  0.298462  0.081538  0.203846  0.050769        7    18  \n",
       "72  -0.072308  0.683077  0.365385 -0.138462 -0.017692        8    18  \n",
       "85  -0.018462  0.121538  0.212308  0.083077 -0.171538        9    18  \n",
       "91   0.094615 -0.016923 -0.410000  0.195385  0.726154       10    18  \n",
       "105 -0.136154  0.326923 -0.046154 -0.413077 -0.019231       11    18  \n",
       "118  0.961538  0.006923  0.352308  0.240000  0.260000       12    18  \n",
       "121 -0.263846  0.294615  0.183846  0.386154  0.120000       13    18  \n",
       "132  0.457692 -0.246923 -0.040000  0.116154  0.186923       14    18  \n",
       "144  0.244615 -0.196154 -0.266154  0.068462 -0.086923       15    18  \n",
       "151  0.074615  0.006923 -0.040769  0.656154  0.316923       16    18  \n",
       "165 -0.353077  0.302308  0.352308 -0.095385  0.071538       17    18  \n",
       "169 -0.336923  0.032308  0.425385  0.426923 -0.306154       18    18  \n",
       "185 -0.116923 -0.215385  0.799231 -0.030000  0.176154       19    18  \n",
       "190  0.153077  0.009231 -0.100769  0.133077 -0.080769       20    18  \n",
       "201 -0.142308 -0.058462  0.201538  0.229231 -0.026923       21    18  \n",
       "205  0.257692  0.618462  0.575385  0.330000  0.600000       22    18  \n",
       "217 -0.120769 -0.350769 -0.510769 -0.260000  0.861538       23    18  \n",
       "234  0.076923 -0.283077  0.237692  0.100000  0.160000       24    18  \n",
       "239  0.073077  0.213077 -0.287692 -0.030000  0.090769       25    18  \n",
       "243  0.072308 -0.440769 -0.173846  0.296154 -0.046923       26    18  \n",
       "250  0.182308  0.279231  0.837692 -0.063077 -0.002308       27    18  \n",
       "254 -0.331538  0.303846  0.313077  0.066923  0.139231       28    18  \n",
       "261 -0.274615  0.235385  0.013846 -0.226154  0.127692       29    18  \n",
       "269 -0.198462 -0.012308  0.201538 -0.129231 -0.084615       30    18  \n",
       "275 -0.044615 -0.035385 -0.173846 -0.323846 -0.006923       31    18  "
      ]
     },
     "execution_count": 85,
     "metadata": {},
     "output_type": "execute_result"
    }
   ],
   "source": [
    "wc18"
   ]
  },
  {
   "cell_type": "code",
   "execution_count": 26,
   "metadata": {},
   "outputs": [],
   "source": [
    "# 32 Panama"
   ]
  },
  {
   "cell_type": "markdown",
   "metadata": {},
   "source": [
    "# 14 / -1"
   ]
  },
  {
   "cell_type": "code",
   "execution_count": 27,
   "metadata": {},
   "outputs": [],
   "source": [
    "wc14 = df[df['year'] == 14]"
   ]
  },
  {
   "cell_type": "code",
   "execution_count": 28,
   "metadata": {},
   "outputs": [
    {
     "data": {
      "text/plain": [
       "(31, 19)"
      ]
     },
     "execution_count": 28,
     "metadata": {},
     "output_type": "execute_result"
    }
   ],
   "source": [
    "wc14.shape"
   ]
  },
  {
   "cell_type": "code",
   "execution_count": 29,
   "metadata": {},
   "outputs": [],
   "source": [
    "# wc14"
   ]
  },
  {
   "cell_type": "code",
   "execution_count": 30,
   "metadata": {},
   "outputs": [],
   "source": [
    "# 13 Greece"
   ]
  },
  {
   "cell_type": "markdown",
   "metadata": {},
   "source": [
    "# 10 / -1"
   ]
  },
  {
   "cell_type": "code",
   "execution_count": 31,
   "metadata": {},
   "outputs": [],
   "source": [
    "wc10 = df[df['year'] == 10]"
   ]
  },
  {
   "cell_type": "code",
   "execution_count": 32,
   "metadata": {},
   "outputs": [
    {
     "data": {
      "text/plain": [
       "(31, 19)"
      ]
     },
     "execution_count": 32,
     "metadata": {},
     "output_type": "execute_result"
    }
   ],
   "source": [
    "wc10.shape"
   ]
  },
  {
   "cell_type": "code",
   "execution_count": 33,
   "metadata": {},
   "outputs": [],
   "source": [
    "# wc10"
   ]
  },
  {
   "cell_type": "code",
   "execution_count": 34,
   "metadata": {},
   "outputs": [],
   "source": [
    "# 32 North Korea"
   ]
  },
  {
   "cell_type": "markdown",
   "metadata": {},
   "source": [
    "# 06 / -1"
   ]
  },
  {
   "cell_type": "code",
   "execution_count": 35,
   "metadata": {},
   "outputs": [],
   "source": [
    "wc06 = df[df['year'] == 6]"
   ]
  },
  {
   "cell_type": "code",
   "execution_count": 36,
   "metadata": {},
   "outputs": [
    {
     "data": {
      "text/plain": [
       "(31, 19)"
      ]
     },
     "execution_count": 36,
     "metadata": {},
     "output_type": "execute_result"
    }
   ],
   "source": [
    "wc06.shape"
   ]
  },
  {
   "cell_type": "code",
   "execution_count": 37,
   "metadata": {},
   "outputs": [],
   "source": [
    "# wc06"
   ]
  },
  {
   "cell_type": "code",
   "execution_count": 38,
   "metadata": {},
   "outputs": [],
   "source": [
    "\n",
    "# 32  Serbia and Montenegro"
   ]
  },
  {
   "cell_type": "markdown",
   "metadata": {},
   "source": [
    "# 02 / -1"
   ]
  },
  {
   "cell_type": "code",
   "execution_count": 39,
   "metadata": {},
   "outputs": [],
   "source": [
    "wc02 = df[df['year'] == 2]"
   ]
  },
  {
   "cell_type": "code",
   "execution_count": 40,
   "metadata": {},
   "outputs": [
    {
     "data": {
      "text/plain": [
       "(31, 19)"
      ]
     },
     "execution_count": 40,
     "metadata": {},
     "output_type": "execute_result"
    }
   ],
   "source": [
    "wc02.shape"
   ]
  },
  {
   "cell_type": "code",
   "execution_count": 41,
   "metadata": {},
   "outputs": [],
   "source": [
    "# wc02"
   ]
  },
  {
   "cell_type": "code",
   "execution_count": 42,
   "metadata": {},
   "outputs": [],
   "source": [
    "# 19  Costa Rica "
   ]
  },
  {
   "cell_type": "markdown",
   "metadata": {},
   "source": [
    "# 98 / -1"
   ]
  },
  {
   "cell_type": "code",
   "execution_count": 43,
   "metadata": {},
   "outputs": [],
   "source": [
    "wc98 = df[df['year'] == 98]"
   ]
  },
  {
   "cell_type": "code",
   "execution_count": 44,
   "metadata": {},
   "outputs": [
    {
     "data": {
      "text/plain": [
       "(31, 19)"
      ]
     },
     "execution_count": 44,
     "metadata": {},
     "output_type": "execute_result"
    }
   ],
   "source": [
    "wc98.shape"
   ]
  },
  {
   "cell_type": "code",
   "execution_count": 45,
   "metadata": {},
   "outputs": [],
   "source": [
    "# wc98"
   ]
  },
  {
   "cell_type": "code",
   "execution_count": 46,
   "metadata": {},
   "outputs": [],
   "source": [
    "# 20 Iran\n"
   ]
  },
  {
   "cell_type": "markdown",
   "metadata": {},
   "source": [
    " # 94 / -1"
   ]
  },
  {
   "cell_type": "code",
   "execution_count": 47,
   "metadata": {},
   "outputs": [],
   "source": [
    "wc94 = df[df['year'] == 94]"
   ]
  },
  {
   "cell_type": "code",
   "execution_count": 48,
   "metadata": {},
   "outputs": [
    {
     "data": {
      "text/plain": [
       "(23, 19)"
      ]
     },
     "execution_count": 48,
     "metadata": {},
     "output_type": "execute_result"
    }
   ],
   "source": [
    "wc94.shape"
   ]
  },
  {
   "cell_type": "code",
   "execution_count": 49,
   "metadata": {},
   "outputs": [],
   "source": [
    "# wc94"
   ]
  },
  {
   "cell_type": "code",
   "execution_count": 50,
   "metadata": {},
   "outputs": [],
   "source": [
    "# 13 Mexico"
   ]
  },
  {
   "cell_type": "markdown",
   "metadata": {},
   "source": [
    "# 90 / 0"
   ]
  },
  {
   "cell_type": "code",
   "execution_count": 51,
   "metadata": {},
   "outputs": [],
   "source": [
    "wc90 = df[df['year'] == 90]"
   ]
  },
  {
   "cell_type": "code",
   "execution_count": 52,
   "metadata": {},
   "outputs": [
    {
     "data": {
      "text/plain": [
       "(24, 19)"
      ]
     },
     "execution_count": 52,
     "metadata": {},
     "output_type": "execute_result"
    }
   ],
   "source": [
    "wc90.shape"
   ]
  },
  {
   "cell_type": "code",
   "execution_count": 53,
   "metadata": {},
   "outputs": [],
   "source": [
    "# wc90"
   ]
  },
  {
   "cell_type": "markdown",
   "metadata": {},
   "source": [
    "# 86 / 0"
   ]
  },
  {
   "cell_type": "code",
   "execution_count": 54,
   "metadata": {},
   "outputs": [],
   "source": [
    "wc86 = df[df['year'] == 86]"
   ]
  },
  {
   "cell_type": "code",
   "execution_count": 55,
   "metadata": {},
   "outputs": [
    {
     "data": {
      "text/plain": [
       "(24, 19)"
      ]
     },
     "execution_count": 55,
     "metadata": {},
     "output_type": "execute_result"
    }
   ],
   "source": [
    "wc86.shape"
   ]
  },
  {
   "cell_type": "code",
   "execution_count": 56,
   "metadata": {},
   "outputs": [],
   "source": [
    "# wc86"
   ]
  },
  {
   "cell_type": "markdown",
   "metadata": {},
   "source": [
    "# 82 / -1"
   ]
  },
  {
   "cell_type": "code",
   "execution_count": 57,
   "metadata": {},
   "outputs": [],
   "source": [
    "wc82 = df[df['year'] == 82]"
   ]
  },
  {
   "cell_type": "code",
   "execution_count": 58,
   "metadata": {},
   "outputs": [
    {
     "data": {
      "text/plain": [
       "(23, 19)"
      ]
     },
     "execution_count": 58,
     "metadata": {},
     "output_type": "execute_result"
    }
   ],
   "source": [
    "wc82.shape"
   ]
  },
  {
   "cell_type": "code",
   "execution_count": 59,
   "metadata": {},
   "outputs": [],
   "source": [
    "# wc82\n"
   ]
  },
  {
   "cell_type": "code",
   "execution_count": 60,
   "metadata": {},
   "outputs": [],
   "source": [
    "# 14 Hungary"
   ]
  },
  {
   "cell_type": "code",
   "execution_count": 61,
   "metadata": {},
   "outputs": [],
   "source": [
    "# 15 mexico\n",
    "# 17 south korea\n",
    "# 20 Czech Republic\n",
    "# 23 Angola\n",
    "# 27 Trinidad and Tobago\n",
    "# 30  Togo\n",
    "# 31 Costa Rica\n",
    "# 32  Serbia and Montenegro\n",
    "\n"
   ]
  },
  {
   "cell_type": "code",
   "execution_count": 62,
   "metadata": {},
   "outputs": [],
   "source": [
    "#2018 - 4\n",
    "# 1 italy\n",
    "# 4 france\n",
    "# 9 northern ireland\n",
    "# 21 kuwait\n",
    "\n",
    "#2014 - 4\n",
    "# 6 mexico\n",
    "# 14 poland\n",
    "# 21 northern ireland\n",
    "\n",
    "#2010 -3 \n",
    "# 4 england\n",
    "# 7 cameroon\n",
    "\n",
    "#2006 - 3 \n",
    "# 7 netherlands\n",
    "# 13 saudi arabia\n",
    "\n",
    "# 2002 - 4 \n",
    "# 1 france\n",
    "# 13 mexico\n",
    "# 20 iran\n",
    "# 30 south korea\n",
    "\n",
    "# 1998 - 5 \n",
    "# 5 spain\n",
    "# 10 denmark\n",
    "# 11 mexico\n",
    "# 19 costa rica\n",
    "\n",
    "# 1994 - 8\n",
    "# 9 spain\n",
    "# 15 mexico\n",
    "# 23 angola\n",
    "# 27 trinidad \n",
    "# 30 toga\n",
    "# 31 costa rica\n",
    "# 32 serbia\n",
    "\n",
    "# 1990 - 6\n",
    "# 9 japan\n",
    "# 10 chile\n",
    "# 14 mexico\n",
    "# 20 south africa\n",
    "# 32 north koreaf\n",
    "\n",
    "# 1986 - 6\n",
    "# 9 chile\n",
    "# 13 greece\n",
    "# 14 algeria\n",
    "# 23 spain\n",
    "# 31 honduras\n",
    "\n",
    "# 1982 - 5\n",
    "# 5 uruguay\n",
    "# 10 spain\n",
    "# 15 japan\n",
    "# 23 germany\n",
    "\n",
    "# missing 48 values"
   ]
  },
  {
   "cell_type": "code",
   "execution_count": null,
   "metadata": {},
   "outputs": [],
   "source": []
  },
  {
   "cell_type": "code",
   "execution_count": null,
   "metadata": {},
   "outputs": [],
   "source": []
  },
  {
   "cell_type": "code",
   "execution_count": null,
   "metadata": {},
   "outputs": [],
   "source": []
  }
 ],
 "metadata": {
  "kernelspec": {
   "display_name": "Python 3 (ipykernel)",
   "language": "python",
   "name": "python3"
  },
  "language_info": {
   "codemirror_mode": {
    "name": "ipython",
    "version": 3
   },
   "file_extension": ".py",
   "mimetype": "text/x-python",
   "name": "python",
   "nbconvert_exporter": "python",
   "pygments_lexer": "ipython3",
   "version": "3.9.12"
  }
 },
 "nbformat": 4,
 "nbformat_minor": 2
}
