{
 "cells": [
  {
   "cell_type": "code",
   "execution_count": 1,
   "metadata": {},
   "outputs": [],
   "source": [
    "import pandas as pd\n",
    "import numpy as np\n",
    "from sklearn.model_selection import train_test_split\n",
    "from sklearn.metrics import mean_squared_error\n",
    "from sklearn.metrics import r2_score\n",
    "from sklearn.metrics import mean_absolute_error\n",
    "from sklearn.metrics import mean_absolute_percentage_error\n",
    "\n",
    "from sklearn import linear_model\n"
   ]
  },
  {
   "cell_type": "code",
   "execution_count": 2,
   "metadata": {},
   "outputs": [],
   "source": [
    "df = pd.read_csv('wc-wo-outliers.csv')"
   ]
  },
  {
   "cell_type": "code",
   "execution_count": 3,
   "metadata": {},
   "outputs": [],
   "source": [
    "y = df['results']\n",
    "X = df.drop(columns=['results'])\n",
    "\n",
    "X_train, X_test, y_train, y_test = train_test_split(\n",
    "     X, y, test_size=0.20, random_state=1)"
   ]
  },
  {
   "cell_type": "code",
   "execution_count": 4,
   "metadata": {},
   "outputs": [],
   "source": [
    "reg = linear_model.LinearRegression()\n",
    "reg.fit(X_train, y_train)\n",
    "pred_train= reg.predict(X_train)"
   ]
  },
  {
   "cell_type": "code",
   "execution_count": 5,
   "metadata": {},
   "outputs": [
    {
     "name": "stdout",
     "output_type": "stream",
     "text": [
      "Linear Regression \n",
      "---------------------\n",
      "RMSE: 6.322750364864893\n",
      "R Squared: 0.5388878434290846\n",
      "MSE: 39.97717217639914\n",
      "MAE: 5.0711348407757555\n",
      "MAPE: 0.9277204828534783\n",
      "---------------------\n",
      "RMSE : 7.589107793384392\n",
      "R2 : 0.2950386733173721\n",
      "MSE: 57.59455709960772\n",
      "MAE: 6.294988780232196\n",
      "MAPE: 0.8948800905643852\n"
     ]
    }
   ],
   "source": [
    "print('Linear Regression ')\n",
    "print('---------------------')\n",
    "print('RMSE: '+str(np.sqrt(mean_squared_error(y_train,pred_train))))\n",
    "print('R Squared: '+str(r2_score(y_train, pred_train)))\n",
    "print('MSE: '+str(mean_squared_error(y_train, pred_train)))\n",
    "print('MAE: '+str(mean_absolute_error(y_train, pred_train)))\n",
    "print('MAPE: '+str(mean_absolute_percentage_error(y_train, pred_train)))\n",
    "\n",
    "print('---------------------')\n",
    "\n",
    "pred_test= reg.predict(X_test)\n",
    "\n",
    "print('RMSE : '+str(np.sqrt(mean_squared_error(y_test,pred_test)))) \n",
    "print('R2 : '+str(r2_score(y_test, pred_test)))\n",
    "print('MSE: '+str(mean_squared_error(y_test, pred_test)))\n",
    "print('MAE: '+str(mean_absolute_error(y_test, pred_test)))\n",
    "print('MAPE: '+str(mean_absolute_percentage_error(y_test, pred_test)))"
   ]
  },
  {
   "cell_type": "code",
   "execution_count": 31,
   "metadata": {},
   "outputs": [
    {
     "name": "stdout",
     "output_type": "stream",
     "text": [
      "Mean Squared Log Error: 0.6288239705759868\n"
     ]
    }
   ],
   "source": [
    "from sklearn.metrics import mean_squared_log_error\n",
    "print('Mean Squared Log Error: ' +str(mean_squared_log_error( y_test, pred_test, squared=False)))"
   ]
  },
  {
   "cell_type": "code",
   "execution_count": 34,
   "metadata": {},
   "outputs": [
    {
     "name": "stdout",
     "output_type": "stream",
     "text": [
      "Adjusted r^2: 0.46584037308121673\n"
     ]
    }
   ],
   "source": [
    "#display adjusted R-squared\n",
    "print('Adjusted r^2: ' +str(1 - (1-reg.score(X_train, y_train))*(len(y_train)-1)/(len(y_train)-X_train.shape[1]-1)))"
   ]
  },
  {
   "cell_type": "markdown",
   "metadata": {},
   "source": [
    "The value for R-squared can range from 0 to 1. A value of 0 indicates that the response variable cannot be explained by the predictor variable at all while a value of 1 indicates that the response variable can be perfectly explained without error by the predictor variables."
   ]
  },
  {
   "cell_type": "markdown",
   "metadata": {},
   "source": [
    "- AIC stands for (Akaike’s Information Criteria), a metric developped by the Japanese Statistician, Hirotugu Akaike, 1970. The basic idea of AIC is to penalize the inclusion of additional variables to a model. It adds a penalty that increases the error when including additional terms. The lower the AIC, the better the model.\n",
    "- AICc is a version of AIC corrected for small sample sizes.\n",
    "- BIC (or Bayesian information criteria) is a variant of AIC with a stronger penalty for including additional variables to the model.\n",
    "- Mallows Cp: A variant of AIC developed by Colin Mallows.\n"
   ]
  },
  {
   "cell_type": "code",
   "execution_count": 35,
   "metadata": {},
   "outputs": [],
   "source": [
    "import statsmodels.api as sm"
   ]
  },
  {
   "cell_type": "code",
   "execution_count": 37,
   "metadata": {},
   "outputs": [
    {
     "name": "stdout",
     "output_type": "stream",
     "text": [
      "AIC: 804.0899081188967\n"
     ]
    }
   ],
   "source": [
    "#add constant to predictor variables\n",
    "X_train = sm.add_constant(X_train)\n",
    "\n",
    "#fit regression model\n",
    "model = sm.OLS(y_train, X_train).fit()\n",
    "\n",
    "#view AIC of model\n",
    "print('AIC: '+str(model.aic))"
   ]
  },
  {
   "cell_type": "code",
   "execution_count": 38,
   "metadata": {},
   "outputs": [
    {
     "data": {
      "text/html": [
       "<div>\n",
       "<style scoped>\n",
       "    .dataframe tbody tr th:only-of-type {\n",
       "        vertical-align: middle;\n",
       "    }\n",
       "\n",
       "    .dataframe tbody tr th {\n",
       "        vertical-align: top;\n",
       "    }\n",
       "\n",
       "    .dataframe thead th {\n",
       "        text-align: right;\n",
       "    }\n",
       "</style>\n",
       "<table border=\"1\" class=\"dataframe\">\n",
       "  <thead>\n",
       "    <tr style=\"text-align: right;\">\n",
       "      <th></th>\n",
       "      <th>const</th>\n",
       "      <th>goals_z</th>\n",
       "      <th>xg_z</th>\n",
       "      <th>crosses_z</th>\n",
       "      <th>boxtouches_z</th>\n",
       "      <th>passes_z</th>\n",
       "      <th>progpasses_z</th>\n",
       "      <th>takeons_z</th>\n",
       "      <th>progruns_z</th>\n",
       "      <th>tackles_z</th>\n",
       "      <th>interceptions_z</th>\n",
       "      <th>clearances_z</th>\n",
       "      <th>blocks_z</th>\n",
       "      <th>aerials_z</th>\n",
       "      <th>fouls_z</th>\n",
       "      <th>fouled_z</th>\n",
       "      <th>nsxg_z</th>\n",
       "    </tr>\n",
       "  </thead>\n",
       "  <tbody>\n",
       "    <tr>\n",
       "      <th>126</th>\n",
       "      <td>1.0</td>\n",
       "      <td>-0.018462</td>\n",
       "      <td>0.184615</td>\n",
       "      <td>0.168462</td>\n",
       "      <td>0.276923</td>\n",
       "      <td>-0.106923</td>\n",
       "      <td>-0.225385</td>\n",
       "      <td>0.138462</td>\n",
       "      <td>0.063846</td>\n",
       "      <td>-0.024615</td>\n",
       "      <td>-0.153846</td>\n",
       "      <td>-0.119231</td>\n",
       "      <td>0.056923</td>\n",
       "      <td>0.285385</td>\n",
       "      <td>-0.036923</td>\n",
       "      <td>-0.293077</td>\n",
       "      <td>0.228462</td>\n",
       "    </tr>\n",
       "    <tr>\n",
       "      <th>97</th>\n",
       "      <td>1.0</td>\n",
       "      <td>0.198462</td>\n",
       "      <td>-0.116154</td>\n",
       "      <td>-0.090000</td>\n",
       "      <td>-0.013077</td>\n",
       "      <td>0.193077</td>\n",
       "      <td>0.132308</td>\n",
       "      <td>0.010769</td>\n",
       "      <td>0.395385</td>\n",
       "      <td>0.102308</td>\n",
       "      <td>0.802308</td>\n",
       "      <td>-0.154615</td>\n",
       "      <td>-0.013077</td>\n",
       "      <td>0.016154</td>\n",
       "      <td>0.668462</td>\n",
       "      <td>0.585385</td>\n",
       "      <td>-0.030000</td>\n",
       "    </tr>\n",
       "    <tr>\n",
       "      <th>42</th>\n",
       "      <td>1.0</td>\n",
       "      <td>0.214615</td>\n",
       "      <td>0.523077</td>\n",
       "      <td>-0.176154</td>\n",
       "      <td>0.277692</td>\n",
       "      <td>-0.196923</td>\n",
       "      <td>-0.245385</td>\n",
       "      <td>-0.013846</td>\n",
       "      <td>-0.178462</td>\n",
       "      <td>-0.228462</td>\n",
       "      <td>-0.250000</td>\n",
       "      <td>0.096154</td>\n",
       "      <td>0.032308</td>\n",
       "      <td>0.760769</td>\n",
       "      <td>-0.122308</td>\n",
       "      <td>0.119231</td>\n",
       "      <td>0.124615</td>\n",
       "    </tr>\n",
       "    <tr>\n",
       "      <th>135</th>\n",
       "      <td>1.0</td>\n",
       "      <td>0.766923</td>\n",
       "      <td>0.643846</td>\n",
       "      <td>-0.265385</td>\n",
       "      <td>0.230000</td>\n",
       "      <td>0.353077</td>\n",
       "      <td>-0.015385</td>\n",
       "      <td>0.496154</td>\n",
       "      <td>0.606923</td>\n",
       "      <td>0.446154</td>\n",
       "      <td>-0.096923</td>\n",
       "      <td>-0.128462</td>\n",
       "      <td>0.086923</td>\n",
       "      <td>-0.233846</td>\n",
       "      <td>0.180769</td>\n",
       "      <td>-0.118462</td>\n",
       "      <td>0.404615</td>\n",
       "    </tr>\n",
       "    <tr>\n",
       "      <th>28</th>\n",
       "      <td>1.0</td>\n",
       "      <td>0.332308</td>\n",
       "      <td>0.362308</td>\n",
       "      <td>-0.043846</td>\n",
       "      <td>0.316923</td>\n",
       "      <td>0.060000</td>\n",
       "      <td>0.019231</td>\n",
       "      <td>0.140769</td>\n",
       "      <td>0.210000</td>\n",
       "      <td>0.343846</td>\n",
       "      <td>0.276154</td>\n",
       "      <td>-0.057692</td>\n",
       "      <td>0.112308</td>\n",
       "      <td>-0.053846</td>\n",
       "      <td>0.143077</td>\n",
       "      <td>0.060769</td>\n",
       "      <td>0.192308</td>\n",
       "    </tr>\n",
       "  </tbody>\n",
       "</table>\n",
       "</div>"
      ],
      "text/plain": [
       "     const   goals_z      xg_z  crosses_z  boxtouches_z  passes_z  \\\n",
       "126    1.0 -0.018462  0.184615   0.168462      0.276923 -0.106923   \n",
       "97     1.0  0.198462 -0.116154  -0.090000     -0.013077  0.193077   \n",
       "42     1.0  0.214615  0.523077  -0.176154      0.277692 -0.196923   \n",
       "135    1.0  0.766923  0.643846  -0.265385      0.230000  0.353077   \n",
       "28     1.0  0.332308  0.362308  -0.043846      0.316923  0.060000   \n",
       "\n",
       "     progpasses_z  takeons_z  progruns_z  tackles_z  interceptions_z  \\\n",
       "126     -0.225385   0.138462    0.063846  -0.024615        -0.153846   \n",
       "97       0.132308   0.010769    0.395385   0.102308         0.802308   \n",
       "42      -0.245385  -0.013846   -0.178462  -0.228462        -0.250000   \n",
       "135     -0.015385   0.496154    0.606923   0.446154        -0.096923   \n",
       "28       0.019231   0.140769    0.210000   0.343846         0.276154   \n",
       "\n",
       "     clearances_z  blocks_z  aerials_z   fouls_z  fouled_z    nsxg_z  \n",
       "126     -0.119231  0.056923   0.285385 -0.036923 -0.293077  0.228462  \n",
       "97      -0.154615 -0.013077   0.016154  0.668462  0.585385 -0.030000  \n",
       "42       0.096154  0.032308   0.760769 -0.122308  0.119231  0.124615  \n",
       "135     -0.128462  0.086923  -0.233846  0.180769 -0.118462  0.404615  \n",
       "28      -0.057692  0.112308  -0.053846  0.143077  0.060769  0.192308  "
      ]
     },
     "execution_count": 38,
     "metadata": {},
     "output_type": "execute_result"
    }
   ],
   "source": [
    "X_train.head()"
   ]
  },
  {
   "cell_type": "code",
   "execution_count": 40,
   "metadata": {},
   "outputs": [],
   "source": [
    "new_x = X_train[['goals_z', 'boxtouches_z', 'fouls_z', 'fouled_z', 'blocks_z']]"
   ]
  },
  {
   "cell_type": "code",
   "execution_count": 41,
   "metadata": {},
   "outputs": [
    {
     "name": "stdout",
     "output_type": "stream",
     "text": [
      "794.4357164871906\n"
     ]
    }
   ],
   "source": [
    "#add constant to predictor variables\n",
    "new_x = sm.add_constant(new_x)\n",
    "\n",
    "#fit regression model\n",
    "model = sm.OLS(y_train, new_x).fit()\n",
    "\n",
    "#view AIC of model\n",
    "print(model.aic)"
   ]
  },
  {
   "cell_type": "markdown",
   "metadata": {},
   "source": [
    "for AIC - the model with a lower AIC value is the better fitting model. "
   ]
  },
  {
   "cell_type": "code",
   "execution_count": 43,
   "metadata": {},
   "outputs": [
    {
     "data": {
      "text/html": [
       "<div>\n",
       "<style scoped>\n",
       "    .dataframe tbody tr th:only-of-type {\n",
       "        vertical-align: middle;\n",
       "    }\n",
       "\n",
       "    .dataframe tbody tr th {\n",
       "        vertical-align: top;\n",
       "    }\n",
       "\n",
       "    .dataframe thead th {\n",
       "        text-align: right;\n",
       "    }\n",
       "</style>\n",
       "<table border=\"1\" class=\"dataframe\">\n",
       "  <thead>\n",
       "    <tr style=\"text-align: right;\">\n",
       "      <th></th>\n",
       "      <th>goals_z</th>\n",
       "      <th>xg_z</th>\n",
       "      <th>crosses_z</th>\n",
       "      <th>boxtouches_z</th>\n",
       "      <th>passes_z</th>\n",
       "      <th>progpasses_z</th>\n",
       "      <th>takeons_z</th>\n",
       "      <th>progruns_z</th>\n",
       "      <th>tackles_z</th>\n",
       "      <th>interceptions_z</th>\n",
       "      <th>clearances_z</th>\n",
       "      <th>blocks_z</th>\n",
       "      <th>aerials_z</th>\n",
       "      <th>fouls_z</th>\n",
       "      <th>fouled_z</th>\n",
       "      <th>nsxg_z</th>\n",
       "      <th>results</th>\n",
       "    </tr>\n",
       "  </thead>\n",
       "  <tbody>\n",
       "    <tr>\n",
       "      <th>goals_z</th>\n",
       "      <td>1.000000</td>\n",
       "      <td>0.563200</td>\n",
       "      <td>-0.023642</td>\n",
       "      <td>0.257357</td>\n",
       "      <td>0.281465</td>\n",
       "      <td>0.144265</td>\n",
       "      <td>0.247732</td>\n",
       "      <td>0.228703</td>\n",
       "      <td>0.303571</td>\n",
       "      <td>0.245405</td>\n",
       "      <td>-0.083437</td>\n",
       "      <td>0.186413</td>\n",
       "      <td>0.077414</td>\n",
       "      <td>-0.097406</td>\n",
       "      <td>0.013629</td>\n",
       "      <td>0.343646</td>\n",
       "      <td>-0.686074</td>\n",
       "    </tr>\n",
       "    <tr>\n",
       "      <th>xg_z</th>\n",
       "      <td>0.563200</td>\n",
       "      <td>1.000000</td>\n",
       "      <td>0.332501</td>\n",
       "      <td>0.615918</td>\n",
       "      <td>0.349206</td>\n",
       "      <td>0.193602</td>\n",
       "      <td>0.227966</td>\n",
       "      <td>0.401422</td>\n",
       "      <td>0.371983</td>\n",
       "      <td>0.273211</td>\n",
       "      <td>-0.275451</td>\n",
       "      <td>0.226644</td>\n",
       "      <td>0.125091</td>\n",
       "      <td>0.010405</td>\n",
       "      <td>0.114389</td>\n",
       "      <td>0.632199</td>\n",
       "      <td>-0.325367</td>\n",
       "    </tr>\n",
       "    <tr>\n",
       "      <th>crosses_z</th>\n",
       "      <td>-0.023642</td>\n",
       "      <td>0.332501</td>\n",
       "      <td>1.000000</td>\n",
       "      <td>0.647695</td>\n",
       "      <td>0.250075</td>\n",
       "      <td>0.341407</td>\n",
       "      <td>0.030013</td>\n",
       "      <td>0.238411</td>\n",
       "      <td>0.190856</td>\n",
       "      <td>0.216208</td>\n",
       "      <td>-0.180670</td>\n",
       "      <td>0.195745</td>\n",
       "      <td>0.275481</td>\n",
       "      <td>0.085361</td>\n",
       "      <td>0.166262</td>\n",
       "      <td>0.667891</td>\n",
       "      <td>0.008766</td>\n",
       "    </tr>\n",
       "    <tr>\n",
       "      <th>boxtouches_z</th>\n",
       "      <td>0.257357</td>\n",
       "      <td>0.615918</td>\n",
       "      <td>0.647695</td>\n",
       "      <td>1.000000</td>\n",
       "      <td>0.341549</td>\n",
       "      <td>0.279011</td>\n",
       "      <td>0.059851</td>\n",
       "      <td>0.329907</td>\n",
       "      <td>0.351479</td>\n",
       "      <td>0.294917</td>\n",
       "      <td>-0.386322</td>\n",
       "      <td>0.298506</td>\n",
       "      <td>0.317604</td>\n",
       "      <td>-0.008728</td>\n",
       "      <td>0.084373</td>\n",
       "      <td>0.839111</td>\n",
       "      <td>-0.174968</td>\n",
       "    </tr>\n",
       "    <tr>\n",
       "      <th>passes_z</th>\n",
       "      <td>0.281465</td>\n",
       "      <td>0.349206</td>\n",
       "      <td>0.250075</td>\n",
       "      <td>0.341549</td>\n",
       "      <td>1.000000</td>\n",
       "      <td>0.749139</td>\n",
       "      <td>0.378908</td>\n",
       "      <td>0.637138</td>\n",
       "      <td>0.760528</td>\n",
       "      <td>0.697863</td>\n",
       "      <td>-0.092854</td>\n",
       "      <td>0.387830</td>\n",
       "      <td>0.023646</td>\n",
       "      <td>0.028690</td>\n",
       "      <td>0.257476</td>\n",
       "      <td>0.502357</td>\n",
       "      <td>-0.129844</td>\n",
       "    </tr>\n",
       "    <tr>\n",
       "      <th>progpasses_z</th>\n",
       "      <td>0.144265</td>\n",
       "      <td>0.193602</td>\n",
       "      <td>0.341407</td>\n",
       "      <td>0.279011</td>\n",
       "      <td>0.749139</td>\n",
       "      <td>1.000000</td>\n",
       "      <td>0.176248</td>\n",
       "      <td>0.415549</td>\n",
       "      <td>0.512285</td>\n",
       "      <td>0.476149</td>\n",
       "      <td>-0.059196</td>\n",
       "      <td>0.287707</td>\n",
       "      <td>0.063655</td>\n",
       "      <td>0.146764</td>\n",
       "      <td>0.091293</td>\n",
       "      <td>0.437218</td>\n",
       "      <td>-0.076013</td>\n",
       "    </tr>\n",
       "    <tr>\n",
       "      <th>takeons_z</th>\n",
       "      <td>0.247732</td>\n",
       "      <td>0.227966</td>\n",
       "      <td>0.030013</td>\n",
       "      <td>0.059851</td>\n",
       "      <td>0.378908</td>\n",
       "      <td>0.176248</td>\n",
       "      <td>1.000000</td>\n",
       "      <td>0.539493</td>\n",
       "      <td>0.341033</td>\n",
       "      <td>0.339543</td>\n",
       "      <td>0.037811</td>\n",
       "      <td>0.254110</td>\n",
       "      <td>-0.004019</td>\n",
       "      <td>0.089240</td>\n",
       "      <td>0.331388</td>\n",
       "      <td>0.265547</td>\n",
       "      <td>-0.154032</td>\n",
       "    </tr>\n",
       "    <tr>\n",
       "      <th>progruns_z</th>\n",
       "      <td>0.228703</td>\n",
       "      <td>0.401422</td>\n",
       "      <td>0.238411</td>\n",
       "      <td>0.329907</td>\n",
       "      <td>0.637138</td>\n",
       "      <td>0.415549</td>\n",
       "      <td>0.539493</td>\n",
       "      <td>1.000000</td>\n",
       "      <td>0.566131</td>\n",
       "      <td>0.463349</td>\n",
       "      <td>-0.014233</td>\n",
       "      <td>0.319688</td>\n",
       "      <td>0.012882</td>\n",
       "      <td>0.083453</td>\n",
       "      <td>0.270851</td>\n",
       "      <td>0.514162</td>\n",
       "      <td>-0.155687</td>\n",
       "    </tr>\n",
       "    <tr>\n",
       "      <th>tackles_z</th>\n",
       "      <td>0.303571</td>\n",
       "      <td>0.371983</td>\n",
       "      <td>0.190856</td>\n",
       "      <td>0.351479</td>\n",
       "      <td>0.760528</td>\n",
       "      <td>0.512285</td>\n",
       "      <td>0.341033</td>\n",
       "      <td>0.566131</td>\n",
       "      <td>1.000000</td>\n",
       "      <td>0.692089</td>\n",
       "      <td>-0.190389</td>\n",
       "      <td>0.288950</td>\n",
       "      <td>0.066171</td>\n",
       "      <td>-0.054803</td>\n",
       "      <td>0.261507</td>\n",
       "      <td>0.465843</td>\n",
       "      <td>-0.206774</td>\n",
       "    </tr>\n",
       "    <tr>\n",
       "      <th>interceptions_z</th>\n",
       "      <td>0.245405</td>\n",
       "      <td>0.273211</td>\n",
       "      <td>0.216208</td>\n",
       "      <td>0.294917</td>\n",
       "      <td>0.697863</td>\n",
       "      <td>0.476149</td>\n",
       "      <td>0.339543</td>\n",
       "      <td>0.463349</td>\n",
       "      <td>0.692089</td>\n",
       "      <td>1.000000</td>\n",
       "      <td>-0.076003</td>\n",
       "      <td>0.295889</td>\n",
       "      <td>0.113126</td>\n",
       "      <td>0.042158</td>\n",
       "      <td>0.295886</td>\n",
       "      <td>0.420245</td>\n",
       "      <td>-0.152989</td>\n",
       "    </tr>\n",
       "    <tr>\n",
       "      <th>clearances_z</th>\n",
       "      <td>-0.083437</td>\n",
       "      <td>-0.275451</td>\n",
       "      <td>-0.180670</td>\n",
       "      <td>-0.386322</td>\n",
       "      <td>-0.092854</td>\n",
       "      <td>-0.059196</td>\n",
       "      <td>0.037811</td>\n",
       "      <td>-0.014233</td>\n",
       "      <td>-0.190389</td>\n",
       "      <td>-0.076003</td>\n",
       "      <td>1.000000</td>\n",
       "      <td>0.144296</td>\n",
       "      <td>0.228044</td>\n",
       "      <td>0.205541</td>\n",
       "      <td>0.147127</td>\n",
       "      <td>-0.394408</td>\n",
       "      <td>0.054720</td>\n",
       "    </tr>\n",
       "    <tr>\n",
       "      <th>blocks_z</th>\n",
       "      <td>0.186413</td>\n",
       "      <td>0.226644</td>\n",
       "      <td>0.195745</td>\n",
       "      <td>0.298506</td>\n",
       "      <td>0.387830</td>\n",
       "      <td>0.287707</td>\n",
       "      <td>0.254110</td>\n",
       "      <td>0.319688</td>\n",
       "      <td>0.288950</td>\n",
       "      <td>0.295889</td>\n",
       "      <td>0.144296</td>\n",
       "      <td>1.000000</td>\n",
       "      <td>0.141247</td>\n",
       "      <td>0.184379</td>\n",
       "      <td>0.127160</td>\n",
       "      <td>0.305324</td>\n",
       "      <td>-0.060691</td>\n",
       "    </tr>\n",
       "    <tr>\n",
       "      <th>aerials_z</th>\n",
       "      <td>0.077414</td>\n",
       "      <td>0.125091</td>\n",
       "      <td>0.275481</td>\n",
       "      <td>0.317604</td>\n",
       "      <td>0.023646</td>\n",
       "      <td>0.063655</td>\n",
       "      <td>-0.004019</td>\n",
       "      <td>0.012882</td>\n",
       "      <td>0.066171</td>\n",
       "      <td>0.113126</td>\n",
       "      <td>0.228044</td>\n",
       "      <td>0.141247</td>\n",
       "      <td>1.000000</td>\n",
       "      <td>0.206689</td>\n",
       "      <td>0.028595</td>\n",
       "      <td>0.186768</td>\n",
       "      <td>-0.071676</td>\n",
       "    </tr>\n",
       "    <tr>\n",
       "      <th>fouls_z</th>\n",
       "      <td>-0.097406</td>\n",
       "      <td>0.010405</td>\n",
       "      <td>0.085361</td>\n",
       "      <td>-0.008728</td>\n",
       "      <td>0.028690</td>\n",
       "      <td>0.146764</td>\n",
       "      <td>0.089240</td>\n",
       "      <td>0.083453</td>\n",
       "      <td>-0.054803</td>\n",
       "      <td>0.042158</td>\n",
       "      <td>0.205541</td>\n",
       "      <td>0.184379</td>\n",
       "      <td>0.206689</td>\n",
       "      <td>1.000000</td>\n",
       "      <td>0.240899</td>\n",
       "      <td>0.020945</td>\n",
       "      <td>0.138605</td>\n",
       "    </tr>\n",
       "    <tr>\n",
       "      <th>fouled_z</th>\n",
       "      <td>0.013629</td>\n",
       "      <td>0.114389</td>\n",
       "      <td>0.166262</td>\n",
       "      <td>0.084373</td>\n",
       "      <td>0.257476</td>\n",
       "      <td>0.091293</td>\n",
       "      <td>0.331388</td>\n",
       "      <td>0.270851</td>\n",
       "      <td>0.261507</td>\n",
       "      <td>0.295886</td>\n",
       "      <td>0.147127</td>\n",
       "      <td>0.127160</td>\n",
       "      <td>0.028595</td>\n",
       "      <td>0.240899</td>\n",
       "      <td>1.000000</td>\n",
       "      <td>0.198266</td>\n",
       "      <td>-0.008101</td>\n",
       "    </tr>\n",
       "    <tr>\n",
       "      <th>nsxg_z</th>\n",
       "      <td>0.343646</td>\n",
       "      <td>0.632199</td>\n",
       "      <td>0.667891</td>\n",
       "      <td>0.839111</td>\n",
       "      <td>0.502357</td>\n",
       "      <td>0.437218</td>\n",
       "      <td>0.265547</td>\n",
       "      <td>0.514162</td>\n",
       "      <td>0.465843</td>\n",
       "      <td>0.420245</td>\n",
       "      <td>-0.394408</td>\n",
       "      <td>0.305324</td>\n",
       "      <td>0.186768</td>\n",
       "      <td>0.020945</td>\n",
       "      <td>0.198266</td>\n",
       "      <td>1.000000</td>\n",
       "      <td>-0.212645</td>\n",
       "    </tr>\n",
       "    <tr>\n",
       "      <th>results</th>\n",
       "      <td>-0.686074</td>\n",
       "      <td>-0.325367</td>\n",
       "      <td>0.008766</td>\n",
       "      <td>-0.174968</td>\n",
       "      <td>-0.129844</td>\n",
       "      <td>-0.076013</td>\n",
       "      <td>-0.154032</td>\n",
       "      <td>-0.155687</td>\n",
       "      <td>-0.206774</td>\n",
       "      <td>-0.152989</td>\n",
       "      <td>0.054720</td>\n",
       "      <td>-0.060691</td>\n",
       "      <td>-0.071676</td>\n",
       "      <td>0.138605</td>\n",
       "      <td>-0.008101</td>\n",
       "      <td>-0.212645</td>\n",
       "      <td>1.000000</td>\n",
       "    </tr>\n",
       "  </tbody>\n",
       "</table>\n",
       "</div>"
      ],
      "text/plain": [
       "                  goals_z      xg_z  crosses_z  boxtouches_z  passes_z  \\\n",
       "goals_z          1.000000  0.563200  -0.023642      0.257357  0.281465   \n",
       "xg_z             0.563200  1.000000   0.332501      0.615918  0.349206   \n",
       "crosses_z       -0.023642  0.332501   1.000000      0.647695  0.250075   \n",
       "boxtouches_z     0.257357  0.615918   0.647695      1.000000  0.341549   \n",
       "passes_z         0.281465  0.349206   0.250075      0.341549  1.000000   \n",
       "progpasses_z     0.144265  0.193602   0.341407      0.279011  0.749139   \n",
       "takeons_z        0.247732  0.227966   0.030013      0.059851  0.378908   \n",
       "progruns_z       0.228703  0.401422   0.238411      0.329907  0.637138   \n",
       "tackles_z        0.303571  0.371983   0.190856      0.351479  0.760528   \n",
       "interceptions_z  0.245405  0.273211   0.216208      0.294917  0.697863   \n",
       "clearances_z    -0.083437 -0.275451  -0.180670     -0.386322 -0.092854   \n",
       "blocks_z         0.186413  0.226644   0.195745      0.298506  0.387830   \n",
       "aerials_z        0.077414  0.125091   0.275481      0.317604  0.023646   \n",
       "fouls_z         -0.097406  0.010405   0.085361     -0.008728  0.028690   \n",
       "fouled_z         0.013629  0.114389   0.166262      0.084373  0.257476   \n",
       "nsxg_z           0.343646  0.632199   0.667891      0.839111  0.502357   \n",
       "results         -0.686074 -0.325367   0.008766     -0.174968 -0.129844   \n",
       "\n",
       "                 progpasses_z  takeons_z  progruns_z  tackles_z  \\\n",
       "goals_z              0.144265   0.247732    0.228703   0.303571   \n",
       "xg_z                 0.193602   0.227966    0.401422   0.371983   \n",
       "crosses_z            0.341407   0.030013    0.238411   0.190856   \n",
       "boxtouches_z         0.279011   0.059851    0.329907   0.351479   \n",
       "passes_z             0.749139   0.378908    0.637138   0.760528   \n",
       "progpasses_z         1.000000   0.176248    0.415549   0.512285   \n",
       "takeons_z            0.176248   1.000000    0.539493   0.341033   \n",
       "progruns_z           0.415549   0.539493    1.000000   0.566131   \n",
       "tackles_z            0.512285   0.341033    0.566131   1.000000   \n",
       "interceptions_z      0.476149   0.339543    0.463349   0.692089   \n",
       "clearances_z        -0.059196   0.037811   -0.014233  -0.190389   \n",
       "blocks_z             0.287707   0.254110    0.319688   0.288950   \n",
       "aerials_z            0.063655  -0.004019    0.012882   0.066171   \n",
       "fouls_z              0.146764   0.089240    0.083453  -0.054803   \n",
       "fouled_z             0.091293   0.331388    0.270851   0.261507   \n",
       "nsxg_z               0.437218   0.265547    0.514162   0.465843   \n",
       "results             -0.076013  -0.154032   -0.155687  -0.206774   \n",
       "\n",
       "                 interceptions_z  clearances_z  blocks_z  aerials_z   fouls_z  \\\n",
       "goals_z                 0.245405     -0.083437  0.186413   0.077414 -0.097406   \n",
       "xg_z                    0.273211     -0.275451  0.226644   0.125091  0.010405   \n",
       "crosses_z               0.216208     -0.180670  0.195745   0.275481  0.085361   \n",
       "boxtouches_z            0.294917     -0.386322  0.298506   0.317604 -0.008728   \n",
       "passes_z                0.697863     -0.092854  0.387830   0.023646  0.028690   \n",
       "progpasses_z            0.476149     -0.059196  0.287707   0.063655  0.146764   \n",
       "takeons_z               0.339543      0.037811  0.254110  -0.004019  0.089240   \n",
       "progruns_z              0.463349     -0.014233  0.319688   0.012882  0.083453   \n",
       "tackles_z               0.692089     -0.190389  0.288950   0.066171 -0.054803   \n",
       "interceptions_z         1.000000     -0.076003  0.295889   0.113126  0.042158   \n",
       "clearances_z           -0.076003      1.000000  0.144296   0.228044  0.205541   \n",
       "blocks_z                0.295889      0.144296  1.000000   0.141247  0.184379   \n",
       "aerials_z               0.113126      0.228044  0.141247   1.000000  0.206689   \n",
       "fouls_z                 0.042158      0.205541  0.184379   0.206689  1.000000   \n",
       "fouled_z                0.295886      0.147127  0.127160   0.028595  0.240899   \n",
       "nsxg_z                  0.420245     -0.394408  0.305324   0.186768  0.020945   \n",
       "results                -0.152989      0.054720 -0.060691  -0.071676  0.138605   \n",
       "\n",
       "                 fouled_z    nsxg_z   results  \n",
       "goals_z          0.013629  0.343646 -0.686074  \n",
       "xg_z             0.114389  0.632199 -0.325367  \n",
       "crosses_z        0.166262  0.667891  0.008766  \n",
       "boxtouches_z     0.084373  0.839111 -0.174968  \n",
       "passes_z         0.257476  0.502357 -0.129844  \n",
       "progpasses_z     0.091293  0.437218 -0.076013  \n",
       "takeons_z        0.331388  0.265547 -0.154032  \n",
       "progruns_z       0.270851  0.514162 -0.155687  \n",
       "tackles_z        0.261507  0.465843 -0.206774  \n",
       "interceptions_z  0.295886  0.420245 -0.152989  \n",
       "clearances_z     0.147127 -0.394408  0.054720  \n",
       "blocks_z         0.127160  0.305324 -0.060691  \n",
       "aerials_z        0.028595  0.186768 -0.071676  \n",
       "fouls_z          0.240899  0.020945  0.138605  \n",
       "fouled_z         1.000000  0.198266 -0.008101  \n",
       "nsxg_z           0.198266  1.000000 -0.212645  \n",
       "results         -0.008101 -0.212645  1.000000  "
      ]
     },
     "execution_count": 43,
     "metadata": {},
     "output_type": "execute_result"
    }
   ],
   "source": [
    "df.corr()"
   ]
  },
  {
   "cell_type": "markdown",
   "metadata": {},
   "source": [
    "# https://scikit-learn.org/stable/modules/model_evaluation.html#regression-metrics"
   ]
  },
  {
   "cell_type": "code",
   "execution_count": 6,
   "metadata": {},
   "outputs": [],
   "source": [
    "from sklearn.metrics import explained_variance_score"
   ]
  },
  {
   "cell_type": "code",
   "execution_count": 7,
   "metadata": {},
   "outputs": [
    {
     "data": {
      "text/plain": [
       "0.29504085230276744"
      ]
     },
     "execution_count": 7,
     "metadata": {},
     "output_type": "execute_result"
    }
   ],
   "source": [
    "explained_variance_score(y_test, pred_test)"
   ]
  },
  {
   "cell_type": "code",
   "execution_count": 8,
   "metadata": {},
   "outputs": [
    {
     "data": {
      "text/plain": [
       "3.1528313658246794"
      ]
     },
     "execution_count": 8,
     "metadata": {},
     "output_type": "execute_result"
    }
   ],
   "source": [
    "from sklearn.metrics import mean_pinball_loss\n",
    "mean_pinball_loss(y_test, pred_test, alpha=0.1)"
   ]
  },
  {
   "cell_type": "markdown",
   "metadata": {},
   "source": [
    "The pinball loss output is a non-negative floating point. The best value is 0.0."
   ]
  },
  {
   "cell_type": "code",
   "execution_count": 9,
   "metadata": {},
   "outputs": [
    {
     "data": {
      "text/plain": [
       "3.1421574144075164"
      ]
     },
     "execution_count": 9,
     "metadata": {},
     "output_type": "execute_result"
    }
   ],
   "source": [
    "from sklearn.metrics import mean_pinball_loss\n",
    "mean_pinball_loss(y_test, pred_test, alpha=0.9)"
   ]
  },
  {
   "cell_type": "markdown",
   "metadata": {},
   "source": [
    "https://www.kaggle.com/code/satishgunjal/tutorial-k-fold-cross-validation"
   ]
  },
  {
   "cell_type": "code",
   "execution_count": 15,
   "metadata": {},
   "outputs": [
    {
     "name": "stdout",
     "output_type": "stream",
     "text": [
      "Ttest_indResult(statistic=-0.75011141092798, pvalue=0.4540780092168577)\n"
     ]
    }
   ],
   "source": [
    "import numpy as np\n",
    "from scipy.stats import ttest_ind\n",
    "\n",
    "v1 = np.random.normal(size=100)\n",
    "v2 = np.random.normal(size=100)\n",
    "\n",
    "res = ttest_ind(v1, v2)\n",
    "\n",
    "print(res)"
   ]
  },
  {
   "cell_type": "code",
   "execution_count": 16,
   "metadata": {},
   "outputs": [
    {
     "name": "stdout",
     "output_type": "stream",
     "text": [
      "Ttest_indResult(statistic=-0.006640338550430307, pvalue=0.9947246027266792)\n"
     ]
    }
   ],
   "source": [
    "import numpy as np\n",
    "from scipy.stats import ttest_ind\n",
    "\n",
    "v1 = y_test\n",
    "v2 = pred_test\n",
    "\n",
    "res = ttest_ind(v1, v2)\n",
    "\n",
    "print(res)"
   ]
  },
  {
   "cell_type": "code",
   "execution_count": 17,
   "metadata": {},
   "outputs": [
    {
     "name": "stdout",
     "output_type": "stream",
     "text": [
      "KstestResult(statistic=0.9264024104247022, pvalue=3.9023458533302164e-134)\n"
     ]
    }
   ],
   "source": [
    "from scipy.stats import kstest\n",
    "\n",
    "v = y_train\n",
    "\n",
    "res = kstest(v, 'norm')\n",
    "\n",
    "print(res)"
   ]
  },
  {
   "cell_type": "code",
   "execution_count": 18,
   "metadata": {},
   "outputs": [],
   "source": [
    "from sklearn.model_selection import KFold, StratifiedKFold, cross_val_score\n",
    "from sklearn import linear_model, tree, ensemble"
   ]
  },
  {
   "cell_type": "code",
   "execution_count": 19,
   "metadata": {},
   "outputs": [
    {
     "name": "stdout",
     "output_type": "stream",
     "text": [
      "Fold:1, Train set: 118, Test set:30\n",
      "Fold:2, Train set: 118, Test set:30\n",
      "Fold:3, Train set: 118, Test set:30\n",
      "Fold:4, Train set: 119, Test set:29\n",
      "Fold:5, Train set: 119, Test set:29\n"
     ]
    }
   ],
   "source": [
    "# Lets split the data into 5 folds.  \n",
    "# We will use this 'kf'(KFold splitting stratergy) object as input to cross_val_score() method\n",
    "kf =KFold(n_splits=5, shuffle=True, random_state=42)\n",
    "\n",
    "cnt = 1\n",
    "# split()  method generate indices to split data into training and test set.\n",
    "for train_index, test_index in kf.split(X, y):\n",
    "    print(f'Fold:{cnt}, Train set: {len(train_index)}, Test set:{len(test_index)}')\n",
    "    cnt += 1\n",
    "\n"
   ]
  },
  {
   "cell_type": "code",
   "execution_count": 20,
   "metadata": {},
   "outputs": [],
   "source": [
    "def rmse(score):\n",
    "    rmse = np.sqrt(-score)\n",
    "    print(f'rmse= {\"{:.2f}\".format(rmse)}')"
   ]
  },
  {
   "cell_type": "code",
   "execution_count": 21,
   "metadata": {},
   "outputs": [
    {
     "name": "stdout",
     "output_type": "stream",
     "text": [
      "Scores for each fold: [-42.90060139 -67.83759025 -55.70044129 -48.72097654 -60.44251809]\n",
      "rmse= 7.42\n"
     ]
    }
   ],
   "source": [
    "score = cross_val_score(linear_model.LinearRegression(), X, y, cv= kf, scoring=\"neg_mean_squared_error\")\n",
    "print(f'Scores for each fold: {score}')\n",
    "rmse(score.mean())"
   ]
  },
  {
   "cell_type": "code",
   "execution_count": 22,
   "metadata": {},
   "outputs": [
    {
     "name": "stdout",
     "output_type": "stream",
     "text": [
      "Scores for each fold: [-101.9        -107.93333333  -95.83333333  -89.68965517 -118.34482759]\n",
      "rmse= 10.14\n"
     ]
    }
   ],
   "source": [
    "score = cross_val_score(tree.DecisionTreeRegressor(random_state= 42), X, y, cv=kf, scoring=\"neg_mean_squared_error\")\n",
    "print(f'Scores for each fold: {score}')\n",
    "rmse(score.mean())"
   ]
  },
  {
   "cell_type": "code",
   "execution_count": 23,
   "metadata": {},
   "outputs": [
    {
     "name": "stdout",
     "output_type": "stream",
     "text": [
      "Scores for each fold are: [-48.77826333 -52.32521333 -57.16118667 -40.13016897 -45.96182759]\n",
      "rmse= 6.99\n"
     ]
    }
   ],
   "source": [
    "score = cross_val_score(ensemble.RandomForestRegressor(random_state= 42), X, y, cv= kf, scoring=\"neg_mean_squared_error\")\n",
    "print(f'Scores for each fold are: {score}')\n",
    "rmse(score.mean())"
   ]
  },
  {
   "cell_type": "code",
   "execution_count": 24,
   "metadata": {},
   "outputs": [
    {
     "name": "stdout",
     "output_type": "stream",
     "text": [
      "For max depth: 1\n",
      "rmse= 7.10\n",
      "For max depth: 2\n",
      "rmse= 7.26\n",
      "For max depth: 3\n",
      "rmse= 7.72\n",
      "For max depth: 4\n",
      "rmse= 9.31\n",
      "For max depth: 5\n",
      "rmse= 9.60\n",
      "For max depth: 6\n",
      "rmse= 9.57\n",
      "For max depth: 7\n",
      "rmse= 9.90\n",
      "For max depth: 8\n",
      "rmse= 9.68\n",
      "For max depth: 9\n",
      "rmse= 9.85\n",
      "For max depth: 10\n",
      "rmse= 10.06\n"
     ]
    }
   ],
   "source": [
    "max_depth = [1,2,3,4,5,6,7,8,9,10]\n",
    "\n",
    "for val in max_depth:\n",
    "    score = cross_val_score(tree.DecisionTreeRegressor(max_depth= val, random_state= 42), X, y, cv= kf, scoring=\"neg_mean_squared_error\")\n",
    "    print(f'For max depth: {val}')\n",
    "    rmse(score.mean())"
   ]
  },
  {
   "cell_type": "code",
   "execution_count": 25,
   "metadata": {},
   "outputs": [
    {
     "name": "stdout",
     "output_type": "stream",
     "text": [
      "For estimators: 50\n",
      "rmse= 7.08\n",
      "For estimators: 100\n",
      "rmse= 6.99\n",
      "For estimators: 150\n",
      "rmse= 6.98\n",
      "For estimators: 200\n",
      "rmse= 6.96\n",
      "For estimators: 250\n",
      "rmse= 6.96\n",
      "For estimators: 300\n",
      "rmse= 6.95\n",
      "For estimators: 350\n",
      "rmse= 6.93\n"
     ]
    }
   ],
   "source": [
    "estimators = [50, 100, 150, 200, 250, 300, 350]\n",
    "\n",
    "for count in estimators:\n",
    "    score = cross_val_score(ensemble.RandomForestRegressor(n_estimators= count, random_state= 42), X, y, cv= kf, scoring=\"neg_mean_squared_error\")\n",
    "    print(f'For estimators: {count}')\n",
    "    rmse(score.mean())"
   ]
  },
  {
   "cell_type": "code",
   "execution_count": null,
   "metadata": {},
   "outputs": [],
   "source": []
  }
 ],
 "metadata": {
  "kernelspec": {
   "display_name": "Python 3 (ipykernel)",
   "language": "python",
   "name": "python3"
  },
  "language_info": {
   "codemirror_mode": {
    "name": "ipython",
    "version": 3
   },
   "file_extension": ".py",
   "mimetype": "text/x-python",
   "name": "python",
   "nbconvert_exporter": "python",
   "pygments_lexer": "ipython3",
   "version": "3.9.12"
  }
 },
 "nbformat": 4,
 "nbformat_minor": 2
}
