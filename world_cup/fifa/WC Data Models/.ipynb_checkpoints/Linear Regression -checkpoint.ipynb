{
 "cells": [
  {
   "cell_type": "code",
   "execution_count": 1,
   "metadata": {},
   "outputs": [],
   "source": [
    "#                                  OLS Regression Results                                \n",
    "# =======================================================================================\n",
    "# Dep. Variable:                results   R-squared (uncentered):                   0.316\n",
    "# Model:                            OLS   Adj. R-squared (uncentered):              0.232\n",
    "# Method:                 Least Squares   F-statistic:                              3.781\n",
    "# Date:                Sun, 18 Sep 2022   Prob (F-statistic):                    9.88e-06\n",
    "# Time:                        11:29:27   Log-Likelihood:                         -602.64\n",
    "# No. Observations:                 147   AIC:                                      1237.\n",
    "# Df Residuals:                     131   BIC:                                      1285.\n",
    "# Df Model:                          16                                                  \n",
    "# Covariance Type:            nonrobust                                                  \n",
    "# ===================================================================================\n",
    "#                       coef    std err          t      P>|t|      [0.025      0.975]\n",
    "\n",
    "\n",
    "# Omnibus:                        3.493   Durbin-Watson:                   1.122\n",
    "# Prob(Omnibus):                  0.174   Jarque-Bera (JB):                2.831\n",
    "# Skew:                           0.223   Prob(JB):                        0.243\n",
    "# Kurtosis:                       2.487   Cond. No.                         6.79"
   ]
  },
  {
   "cell_type": "code",
   "execution_count": 1,
   "metadata": {},
   "outputs": [],
   "source": [
    "import pandas as pd\n",
    "import numpy as np\n",
    "from sklearn.model_selection import train_test_split\n",
    "from sklearn.metrics import mean_squared_error\n",
    "from sklearn.metrics import r2_score\n",
    "from sklearn.metrics import mean_absolute_error\n",
    "from sklearn.metrics import mean_absolute_percentage_error\n",
    "\n",
    "from sklearn import linear_model\n",
    "import statsmodels.api as sm\n",
    "import matplotlib.pyplot as plt\n",
    "import numpy as np\n",
    "import pandas as pd\n",
    "import statsmodels.api as sm"
   ]
  },
  {
   "cell_type": "code",
   "execution_count": 2,
   "metadata": {},
   "outputs": [],
   "source": [
    "df = pd.read_csv('WC-stats.csv')\n"
   ]
  },
  {
   "cell_type": "code",
   "execution_count": 18,
   "metadata": {},
   "outputs": [],
   "source": [
    "y = df['results']\n",
    "X = df.drop(columns=['results'])\n",
    "\n",
    "X_train, X_test, y_train, y_test = train_test_split(\n",
    "     X, y, test_size=0.10, random_state=2)"
   ]
  },
  {
   "cell_type": "code",
   "execution_count": 19,
   "metadata": {},
   "outputs": [],
   "source": [
    "reg = linear_model.LinearRegression()\n",
    "reg.fit(X_train, y_train)\n",
    "pred_train= reg.predict(X_train)"
   ]
  },
  {
   "cell_type": "markdown",
   "metadata": {},
   "source": [
    "Theres no clear difference between using all the features or a few features. mape goes back and forth depending on the random_state value"
   ]
  },
  {
   "cell_type": "code",
   "execution_count": 21,
   "metadata": {},
   "outputs": [
    {
     "name": "stdout",
     "output_type": "stream",
     "text": [
      "---------------------\n",
      "RMSE : 5.9011787927101995\n",
      "R2 : 0.5328359054941799\n",
      "MSE: 34.82391114353261\n",
      "MAE: 4.37087747388999\n",
      "MAPE: 0.3378688869285835\n"
     ]
    }
   ],
   "source": [
    "# print('Linear Regression ')\n",
    "# print('---------------------')\n",
    "# print('RMSE: '+str(np.sqrt(mean_squared_error(y_train,pred_train))))\n",
    "# print('R Squared: '+str(r2_score(y_train, pred_train)))\n",
    "# print('MSE: '+str(mean_squared_error(y_train, pred_train)))\n",
    "# print('MAE: '+str(mean_absolute_error(y_train, pred_train)))\n",
    "# print('MAPE: '+str(mean_absolute_percentage_error(y_train, pred_train)))\n",
    "\n",
    "# print('RMSE : '+str(np.sqrt(mean_squared_error(y_test2,pred_test2)))) \n",
    "# print('R2 : '+str(r2_score(y_test2, pred_test2)))\n",
    "# print('MSE: '+str(mean_squared_error(y_test2, pred_test2)))\n",
    "# print('MAE: '+str(mean_absolute_error(y_test2, pred_test2)))\n",
    "# print('MAPE: '+str(mean_absolute_percentage_error(y_test2, pred_test2)))\n",
    "\n",
    "print('---------------------')\n",
    "\n",
    "pred_test= reg.predict(X_test)\n",
    "\n",
    "print('RMSE : '+str(np.sqrt(mean_squared_error(y_test,pred_test)))) \n",
    "print('R2 : '+str(r2_score(y_test, pred_test)))\n",
    "print('MSE: '+str(mean_squared_error(y_test, pred_test)))\n",
    "print('MAE: '+str(mean_absolute_error(y_test, pred_test)))\n",
    "print('MAPE: '+str(mean_absolute_percentage_error(y_test, pred_test)))"
   ]
  },
  {
   "cell_type": "code",
   "execution_count": 24,
   "metadata": {},
   "outputs": [],
   "source": [
    "data = {'y_test': y_test, 'y_pred': pred_test}\n",
    "new_df = pd.DataFrame(data)\n",
    "diff = (new_df['y_test'] - new_df['y_pred']).abs()\n",
    "new_df['diff'] = diff\n",
    "new_df = new_df.sort_values(by='diff', ascending=True)\n"
   ]
  },
  {
   "cell_type": "code",
   "execution_count": 26,
   "metadata": {},
   "outputs": [
    {
     "data": {
      "text/plain": [
       "4.370877473889989"
      ]
     },
     "execution_count": 26,
     "metadata": {},
     "output_type": "execute_result"
    }
   ],
   "source": [
    "new_df['diff'].mean()"
   ]
  },
  {
   "cell_type": "code",
   "execution_count": 27,
   "metadata": {},
   "outputs": [
    {
     "data": {
      "text/plain": [
       "3.0817040648362273"
      ]
     },
     "execution_count": 27,
     "metadata": {},
     "output_type": "execute_result"
    }
   ],
   "source": [
    "new_df['diff'].median()"
   ]
  },
  {
   "cell_type": "code",
   "execution_count": null,
   "metadata": {},
   "outputs": [],
   "source": []
  },
  {
   "cell_type": "code",
   "execution_count": 22,
   "metadata": {},
   "outputs": [
    {
     "name": "stdout",
     "output_type": "stream",
     "text": [
      "                                 OLS Regression Results                                \n",
      "=======================================================================================\n",
      "Dep. Variable:                results   R-squared (uncentered):                   0.280\n",
      "Model:                            OLS   Adj. R-squared (uncentered):              0.229\n",
      "Method:                 Least Squares   F-statistic:                              5.452\n",
      "Date:                Tue, 20 Sep 2022   Prob (F-statistic):                    9.08e-10\n",
      "Time:                        13:23:23   Log-Likelihood:                         -981.38\n",
      "No. Observations:                 240   AIC:                                      1995.\n",
      "Df Residuals:                     224   BIC:                                      2050.\n",
      "Df Model:                          16                                                  \n",
      "Covariance Type:            nonrobust                                                  \n",
      "===================================================================================\n",
      "                      coef    std err          t      P>|t|      [0.025      0.975]\n",
      "-----------------------------------------------------------------------------------\n",
      "goals_z            -6.6642      4.659     -1.430      0.154     -15.845       2.517\n",
      "xg_z               12.9239      6.032      2.142      0.033       1.037      24.811\n",
      "crosses_z          15.8736      6.166      2.574      0.011       3.723      28.024\n",
      "boxtouches_z       24.9754      7.285      3.428      0.001      10.619      39.332\n",
      "passes_z            9.2560      6.750      1.371      0.172      -4.046      22.558\n",
      "progpasses_z      -16.7217      6.737     -2.482      0.014     -29.998      -3.446\n",
      "takeons_z           6.4057      4.329      1.480      0.140      -2.126      14.937\n",
      "progruns_z         -2.8554      4.149     -0.688      0.492     -11.031       5.321\n",
      "tackles_z          -3.7337      4.272     -0.874      0.383     -12.152       4.684\n",
      "interceptions_z    -1.1138      4.135     -0.269      0.788      -9.263       7.036\n",
      "clearances_z        7.0511      5.265      1.339      0.182      -3.323      17.425\n",
      "blocks_z           -5.4375      3.999     -1.360      0.175     -13.317       2.442\n",
      "aerials_z           0.7031      4.306      0.163      0.870      -7.783       9.189\n",
      "fouls_z            12.0217      3.761      3.196      0.002       4.610      19.434\n",
      "fouled_z            3.7704      4.318      0.873      0.383      -4.739      12.279\n",
      "nsxg_z            -30.3071      7.761     -3.905      0.000     -45.602     -15.013\n",
      "==============================================================================\n",
      "Omnibus:                        3.554   Durbin-Watson:                   0.962\n",
      "Prob(Omnibus):                  0.169   Jarque-Bera (JB):                3.230\n",
      "Skew:                           0.210   Prob(JB):                        0.199\n",
      "Kurtosis:                       2.617   Cond. No.                         8.03\n",
      "==============================================================================\n",
      "\n",
      "Notes:\n",
      "[1] R² is computed without centering (uncentered) since the model does not contain a constant.\n",
      "[2] Standard Errors assume that the covariance matrix of the errors is correctly specified.\n"
     ]
    }
   ],
   "source": [
    "model = sm.OLS(y_train, X_train)\n",
    "results = model.fit()\n",
    "print(results.summary())\n",
    "\n",
    "# https://www.statsmodels.org/dev/examples/notebooks/generated/ols.html\n"
   ]
  },
  {
   "cell_type": "code",
   "execution_count": 15,
   "metadata": {},
   "outputs": [
    {
     "name": "stdout",
     "output_type": "stream",
     "text": [
      "Linear Regression \n",
      "---------------------\n",
      "RMSE : 8.326618479383576\n",
      "R2 : 0.18791803162961818\n",
      "MSE: 69.33257530121205\n",
      "MAE: 6.930290335388316\n",
      "MAPE: 1.765332386947045\n"
     ]
    }
   ],
   "source": [
    "print('Linear Regression ')\n",
    "print('---------------------')\n",
    "# print('RMSE: '+str(np.sqrt(mean_squared_error(y_tr,pred_new))))\n",
    "# print('R Squared: '+str(r2_score(y_tr, pred_new)))\n",
    "# print('MSE: '+str(mean_squared_error(y_tr, pred_new)))\n",
    "# print('MAE: '+str(mean_absolute_error(y_tr, pred_new)))\n",
    "# print('MAPE: '+str(mean_absolute_percentage_error(y_tr, pred_new)))\n",
    "\n",
    "# print('---------------------')\n",
    "\n",
    "pred_tt= reg.predict(X_tt)\n",
    "\n",
    "print('RMSE : '+str(np.sqrt(mean_squared_error(y_tt,pred_tt)))) \n",
    "print('R2 : '+str(r2_score(y_tt, pred_tt)))\n",
    "print('MSE: '+str(mean_squared_error(y_tt, pred_tt)))\n",
    "print('MAE: '+str(mean_absolute_error(y_tt, pred_tt)))\n",
    "print('MAPE: '+str(mean_absolute_percentage_error(y_tt, pred_tt)))"
   ]
  },
  {
   "cell_type": "code",
   "execution_count": 16,
   "metadata": {},
   "outputs": [],
   "source": [
    "x_train = X_train[['goals_z', 'xg_z', 'tackles_z', 'nsxg_z']]"
   ]
  },
  {
   "cell_type": "code",
   "execution_count": 17,
   "metadata": {},
   "outputs": [],
   "source": [
    "x_test = X_test[['goals_z', 'xg_z', 'tackles_z', 'nsxg_z']]"
   ]
  },
  {
   "cell_type": "code",
   "execution_count": 18,
   "metadata": {},
   "outputs": [],
   "source": [
    "reg.fit(x_train, y_train)\n",
    "pred_train= reg.predict(x_train)"
   ]
  },
  {
   "cell_type": "code",
   "execution_count": 19,
   "metadata": {},
   "outputs": [
    {
     "name": "stdout",
     "output_type": "stream",
     "text": [
      "Linear Regression \n",
      "---------------------\n",
      "---------------------\n",
      "RMSE : 8.413174396654563\n",
      "R2 : 0.17094695561603135\n",
      "MSE: 70.78150342852388\n",
      "MAE: 7.151357682585862\n",
      "MAPE: 1.7159454521224509\n"
     ]
    }
   ],
   "source": [
    "print('Linear Regression ')\n",
    "print('---------------------')\n",
    "# print('RMSE: '+str(np.sqrt(mean_squared_error(y_train,pred_train))))\n",
    "# print('R Squared: '+str(r2_score(y_train, pred_train)))\n",
    "# print('MSE: '+str(mean_squared_error(y_train, pred_train)))\n",
    "# print('MAE: '+str(mean_absolute_error(y_train, pred_train)))\n",
    "# print('MAPE: '+str(mean_absolute_percentage_error(y_train, pred_train)))\n",
    "\n",
    "print('---------------------')\n",
    "\n",
    "pred_test= reg.predict(x_test)\n",
    "\n",
    "print('RMSE : '+str(np.sqrt(mean_squared_error(y_test,pred_test)))) \n",
    "print('R2 : '+str(r2_score(y_test, pred_test)))\n",
    "print('MSE: '+str(mean_squared_error(y_test, pred_test)))\n",
    "print('MAE: '+str(mean_absolute_error(y_test, pred_test)))\n",
    "print('MAPE: '+str(mean_absolute_percentage_error(y_test, pred_test)))"
   ]
  },
  {
   "cell_type": "markdown",
   "metadata": {},
   "source": [
    "the lowest MAPE value, which tells us that it’s able to forecast the most accurately among the potential models."
   ]
  },
  {
   "cell_type": "code",
   "execution_count": null,
   "metadata": {},
   "outputs": [],
   "source": []
  },
  {
   "cell_type": "code",
   "execution_count": 20,
   "metadata": {},
   "outputs": [
    {
     "name": "stdout",
     "output_type": "stream",
     "text": [
      "Mean Squared Log Error: 0.9117718537197432\n"
     ]
    }
   ],
   "source": [
    "from sklearn.metrics import mean_squared_log_error\n",
    "print('Mean Squared Log Error: ' +str(mean_squared_log_error( y_test, pred_test, squared=False)))"
   ]
  },
  {
   "cell_type": "code",
   "execution_count": 21,
   "metadata": {},
   "outputs": [],
   "source": [
    "# #display adjusted R-squared\n",
    "# print('Adjusted r^2: ' +str(1 - (1-reg.score(X_train, y_train))*(len(y_train)-1)/(len(y_train)-X_train.shape[1]-1)))"
   ]
  },
  {
   "cell_type": "markdown",
   "metadata": {},
   "source": [
    "The value for R-squared can range from 0 to 1. A value of 0 indicates that the response variable cannot be explained by the predictor variable at all while a value of 1 indicates that the response variable can be perfectly explained without error by the predictor variables."
   ]
  },
  {
   "cell_type": "markdown",
   "metadata": {},
   "source": [
    "- AIC stands for (Akaike’s Information Criteria), a metric developped by the Japanese Statistician, Hirotugu Akaike, 1970. The basic idea of AIC is to penalize the inclusion of additional variables to a model. It adds a penalty that increases the error when including additional terms. The lower the AIC, the better the model.\n",
    "- AICc is a version of AIC corrected for small sample sizes.\n",
    "- BIC (or Bayesian information criteria) is a variant of AIC with a stronger penalty for including additional variables to the model.\n",
    "- Mallows Cp: A variant of AIC developed by Colin Mallows.\n"
   ]
  },
  {
   "cell_type": "markdown",
   "metadata": {},
   "source": [
    "# AIC"
   ]
  },
  {
   "cell_type": "code",
   "execution_count": 22,
   "metadata": {},
   "outputs": [],
   "source": [
    "import statsmodels.api as sm"
   ]
  },
  {
   "cell_type": "code",
   "execution_count": 23,
   "metadata": {},
   "outputs": [
    {
     "name": "stdout",
     "output_type": "stream",
     "text": [
      "AIC: 933.6069495486269\n"
     ]
    }
   ],
   "source": [
    "#add constant to predictor variables\n",
    "X_train = sm.add_constant(X_train)\n",
    "\n",
    "#fit regression model\n",
    "model = sm.OLS(y_train, X_train).fit()\n",
    "\n",
    "#view AIC of model\n",
    "print('AIC: '+str(model.aic))"
   ]
  },
  {
   "cell_type": "code",
   "execution_count": 24,
   "metadata": {},
   "outputs": [
    {
     "data": {
      "text/html": [
       "<div>\n",
       "<style scoped>\n",
       "    .dataframe tbody tr th:only-of-type {\n",
       "        vertical-align: middle;\n",
       "    }\n",
       "\n",
       "    .dataframe tbody tr th {\n",
       "        vertical-align: top;\n",
       "    }\n",
       "\n",
       "    .dataframe thead th {\n",
       "        text-align: right;\n",
       "    }\n",
       "</style>\n",
       "<table border=\"1\" class=\"dataframe\">\n",
       "  <thead>\n",
       "    <tr style=\"text-align: right;\">\n",
       "      <th></th>\n",
       "      <th>const</th>\n",
       "      <th>goals_z</th>\n",
       "      <th>xg_z</th>\n",
       "      <th>crosses_z</th>\n",
       "      <th>boxtouches_z</th>\n",
       "      <th>passes_z</th>\n",
       "      <th>progpasses_z</th>\n",
       "      <th>takeons_z</th>\n",
       "      <th>progruns_z</th>\n",
       "      <th>tackles_z</th>\n",
       "      <th>interceptions_z</th>\n",
       "      <th>clearances_z</th>\n",
       "      <th>blocks_z</th>\n",
       "      <th>aerials_z</th>\n",
       "      <th>fouls_z</th>\n",
       "      <th>fouled_z</th>\n",
       "      <th>nsxg_z</th>\n",
       "    </tr>\n",
       "  </thead>\n",
       "  <tbody>\n",
       "    <tr>\n",
       "      <th>90</th>\n",
       "      <td>1.0</td>\n",
       "      <td>-0.152308</td>\n",
       "      <td>0.048462</td>\n",
       "      <td>0.340769</td>\n",
       "      <td>-0.140000</td>\n",
       "      <td>-0.177692</td>\n",
       "      <td>-0.020769</td>\n",
       "      <td>0.083846</td>\n",
       "      <td>0.151538</td>\n",
       "      <td>0.327692</td>\n",
       "      <td>0.089231</td>\n",
       "      <td>0.031538</td>\n",
       "      <td>-0.366923</td>\n",
       "      <td>-0.170000</td>\n",
       "      <td>0.173077</td>\n",
       "      <td>0.409231</td>\n",
       "      <td>0.182308</td>\n",
       "    </tr>\n",
       "    <tr>\n",
       "      <th>89</th>\n",
       "      <td>1.0</td>\n",
       "      <td>-0.159231</td>\n",
       "      <td>-0.067692</td>\n",
       "      <td>-0.177692</td>\n",
       "      <td>-0.230000</td>\n",
       "      <td>-0.439231</td>\n",
       "      <td>-0.371538</td>\n",
       "      <td>0.294615</td>\n",
       "      <td>0.179231</td>\n",
       "      <td>-0.490000</td>\n",
       "      <td>-0.513846</td>\n",
       "      <td>0.153846</td>\n",
       "      <td>-0.358462</td>\n",
       "      <td>-0.078462</td>\n",
       "      <td>0.251538</td>\n",
       "      <td>0.506923</td>\n",
       "      <td>-0.276154</td>\n",
       "    </tr>\n",
       "    <tr>\n",
       "      <th>127</th>\n",
       "      <td>1.0</td>\n",
       "      <td>-0.051538</td>\n",
       "      <td>-0.145385</td>\n",
       "      <td>0.025385</td>\n",
       "      <td>-0.077692</td>\n",
       "      <td>0.152308</td>\n",
       "      <td>-0.122308</td>\n",
       "      <td>0.416154</td>\n",
       "      <td>0.668462</td>\n",
       "      <td>0.161538</td>\n",
       "      <td>0.006154</td>\n",
       "      <td>0.262308</td>\n",
       "      <td>0.083846</td>\n",
       "      <td>0.110769</td>\n",
       "      <td>0.229231</td>\n",
       "      <td>-0.048462</td>\n",
       "      <td>0.018462</td>\n",
       "    </tr>\n",
       "    <tr>\n",
       "      <th>118</th>\n",
       "      <td>1.0</td>\n",
       "      <td>0.148462</td>\n",
       "      <td>0.080000</td>\n",
       "      <td>0.282308</td>\n",
       "      <td>0.136923</td>\n",
       "      <td>-0.076154</td>\n",
       "      <td>-0.136154</td>\n",
       "      <td>0.069231</td>\n",
       "      <td>0.194615</td>\n",
       "      <td>-0.005385</td>\n",
       "      <td>-0.285385</td>\n",
       "      <td>-0.273846</td>\n",
       "      <td>0.194615</td>\n",
       "      <td>-0.096154</td>\n",
       "      <td>0.026923</td>\n",
       "      <td>-0.044615</td>\n",
       "      <td>-0.052308</td>\n",
       "    </tr>\n",
       "    <tr>\n",
       "      <th>48</th>\n",
       "      <td>1.0</td>\n",
       "      <td>0.200000</td>\n",
       "      <td>0.046154</td>\n",
       "      <td>-0.056154</td>\n",
       "      <td>0.129231</td>\n",
       "      <td>0.120769</td>\n",
       "      <td>0.053077</td>\n",
       "      <td>0.010769</td>\n",
       "      <td>0.267692</td>\n",
       "      <td>0.001538</td>\n",
       "      <td>0.106154</td>\n",
       "      <td>-0.132308</td>\n",
       "      <td>-0.310769</td>\n",
       "      <td>0.063846</td>\n",
       "      <td>0.234615</td>\n",
       "      <td>-0.180000</td>\n",
       "      <td>-0.002308</td>\n",
       "    </tr>\n",
       "  </tbody>\n",
       "</table>\n",
       "</div>"
      ],
      "text/plain": [
       "     const   goals_z      xg_z  crosses_z  boxtouches_z  passes_z  \\\n",
       "90     1.0 -0.152308  0.048462   0.340769     -0.140000 -0.177692   \n",
       "89     1.0 -0.159231 -0.067692  -0.177692     -0.230000 -0.439231   \n",
       "127    1.0 -0.051538 -0.145385   0.025385     -0.077692  0.152308   \n",
       "118    1.0  0.148462  0.080000   0.282308      0.136923 -0.076154   \n",
       "48     1.0  0.200000  0.046154  -0.056154      0.129231  0.120769   \n",
       "\n",
       "     progpasses_z  takeons_z  progruns_z  tackles_z  interceptions_z  \\\n",
       "90      -0.020769   0.083846    0.151538   0.327692         0.089231   \n",
       "89      -0.371538   0.294615    0.179231  -0.490000        -0.513846   \n",
       "127     -0.122308   0.416154    0.668462   0.161538         0.006154   \n",
       "118     -0.136154   0.069231    0.194615  -0.005385        -0.285385   \n",
       "48       0.053077   0.010769    0.267692   0.001538         0.106154   \n",
       "\n",
       "     clearances_z  blocks_z  aerials_z   fouls_z  fouled_z    nsxg_z  \n",
       "90       0.031538 -0.366923  -0.170000  0.173077  0.409231  0.182308  \n",
       "89       0.153846 -0.358462  -0.078462  0.251538  0.506923 -0.276154  \n",
       "127      0.262308  0.083846   0.110769  0.229231 -0.048462  0.018462  \n",
       "118     -0.273846  0.194615  -0.096154  0.026923 -0.044615 -0.052308  \n",
       "48      -0.132308 -0.310769   0.063846  0.234615 -0.180000 -0.002308  "
      ]
     },
     "execution_count": 24,
     "metadata": {},
     "output_type": "execute_result"
    }
   ],
   "source": [
    "X_train.head()"
   ]
  },
  {
   "cell_type": "code",
   "execution_count": 25,
   "metadata": {},
   "outputs": [],
   "source": [
    "new_x = X_train[['goals_z', 'boxtouches_z', 'fouls_z', 'fouled_z', 'blocks_z']]"
   ]
  },
  {
   "cell_type": "code",
   "execution_count": 26,
   "metadata": {},
   "outputs": [
    {
     "name": "stdout",
     "output_type": "stream",
     "text": [
      "918.3137064392761\n"
     ]
    }
   ],
   "source": [
    "#add constant to predictor variables\n",
    "new_x = sm.add_constant(new_x)\n",
    "\n",
    "#fit regression model\n",
    "model = sm.OLS(y_train, new_x).fit()\n",
    "\n",
    "#view AIC of model\n",
    "print(model.aic)"
   ]
  },
  {
   "cell_type": "markdown",
   "metadata": {},
   "source": [
    "for AIC - the model with a lower AIC value is the better fitting model. \n",
    "\n",
    "https://www.statology.org/aic-in-python/"
   ]
  },
  {
   "cell_type": "code",
   "execution_count": 27,
   "metadata": {},
   "outputs": [],
   "source": [
    "x = X_train[['goals_z', 'xg_z', 'tackles_z', 'nsxg_z']]"
   ]
  },
  {
   "cell_type": "code",
   "execution_count": 28,
   "metadata": {},
   "outputs": [
    {
     "name": "stdout",
     "output_type": "stream",
     "text": [
      "920.8005738434097\n"
     ]
    }
   ],
   "source": [
    "#add constant to predictor variables\n",
    "x = sm.add_constant(x)\n",
    "\n",
    "#fit regression model\n",
    "model = sm.OLS(y_train, x).fit()\n",
    "\n",
    "#view AIC of model\n",
    "print(model.aic)"
   ]
  },
  {
   "cell_type": "code",
   "execution_count": 29,
   "metadata": {},
   "outputs": [],
   "source": [
    "x_t = X_test[['goals_z', 'xg_z', 'tackles_z', 'nsxg_z']]"
   ]
  },
  {
   "cell_type": "code",
   "execution_count": 30,
   "metadata": {},
   "outputs": [
    {
     "name": "stdout",
     "output_type": "stream",
     "text": [
      "253.53947764010422\n"
     ]
    }
   ],
   "source": [
    "#add constant to predictor variables\n",
    "x_t = sm.add_constant(x_t)\n",
    "\n",
    "#fit regression model\n",
    "model = sm.OLS(y_test, x_t).fit()\n",
    "\n",
    "#view AIC of model\n",
    "print(model.aic)"
   ]
  },
  {
   "cell_type": "code",
   "execution_count": 31,
   "metadata": {},
   "outputs": [
    {
     "name": "stdout",
     "output_type": "stream",
     "text": [
      "248.75507495358127\n"
     ]
    }
   ],
   "source": [
    "#add constant to predictor variables\n",
    "x = sm.add_constant(X_test)\n",
    "\n",
    "#fit regression model\n",
    "model = sm.OLS(y_test, x).fit()\n",
    "\n",
    "#view AIC of model\n",
    "print(model.aic)"
   ]
  },
  {
   "cell_type": "code",
   "execution_count": 32,
   "metadata": {},
   "outputs": [
    {
     "data": {
      "text/plain": [
       "Index(['goals_z', 'xg_z', 'crosses_z', 'boxtouches_z', 'passes_z',\n",
       "       'progpasses_z', 'takeons_z', 'progruns_z', 'tackles_z',\n",
       "       'interceptions_z', 'clearances_z', 'blocks_z', 'aerials_z', 'fouls_z',\n",
       "       'fouled_z', 'nsxg_z', 'results'],\n",
       "      dtype='object')"
      ]
     },
     "execution_count": 32,
     "metadata": {},
     "output_type": "execute_result"
    }
   ],
   "source": [
    "df.columns"
   ]
  },
  {
   "cell_type": "code",
   "execution_count": 33,
   "metadata": {},
   "outputs": [],
   "source": [
    "x_t = X_test[['goals_z', 'xg_z', 'nsxg_z','clearances_z', \n",
    "              'progpasses_z', 'interceptions_z']]"
   ]
  },
  {
   "cell_type": "code",
   "execution_count": 34,
   "metadata": {},
   "outputs": [
    {
     "name": "stdout",
     "output_type": "stream",
     "text": [
      "254.3108595567764\n"
     ]
    }
   ],
   "source": [
    "#add constant to predictor variables\n",
    "x_t = sm.add_constant(x_t)\n",
    "\n",
    "#fit regression model\n",
    "model = sm.OLS(y_test, x_t).fit()\n",
    "\n",
    "#view AIC of model\n",
    "print(model.aic)"
   ]
  },
  {
   "cell_type": "markdown",
   "metadata": {},
   "source": [
    "- <b>205.0406 = ['goals_z', 'xg_z', 'nsxg_z','clearances_z', 'progpasses_z', 'interceptions_z']</b>\n",
    "- 209.6710 = ['goals_z', 'xg_z', 'tackles_z', 'nsxg_z']\n",
    "- 222.0039 = all features"
   ]
  },
  {
   "cell_type": "markdown",
   "metadata": {},
   "source": [
    "# Feature Selection"
   ]
  },
  {
   "cell_type": "code",
   "execution_count": 35,
   "metadata": {},
   "outputs": [],
   "source": [
    "from sklearn.feature_selection import SelectKBest, chi2\n"
   ]
  },
  {
   "cell_type": "markdown",
   "metadata": {},
   "source": [
    "# https://scikit-learn.org/stable/modules/model_evaluation.html#regression-metrics"
   ]
  },
  {
   "cell_type": "markdown",
   "metadata": {},
   "source": [
    "https://www.kaggle.com/code/satishgunjal/tutorial-k-fold-cross-validation"
   ]
  },
  {
   "cell_type": "code",
   "execution_count": null,
   "metadata": {},
   "outputs": [],
   "source": []
  }
 ],
 "metadata": {
  "kernelspec": {
   "display_name": "Python 3 (ipykernel)",
   "language": "python",
   "name": "python3"
  },
  "language_info": {
   "codemirror_mode": {
    "name": "ipython",
    "version": 3
   },
   "file_extension": ".py",
   "mimetype": "text/x-python",
   "name": "python",
   "nbconvert_exporter": "python",
   "pygments_lexer": "ipython3",
   "version": "3.9.12"
  }
 },
 "nbformat": 4,
 "nbformat_minor": 2
}
