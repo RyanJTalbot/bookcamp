{
 "cells": [
  {
   "cell_type": "code",
   "execution_count": 32,
   "metadata": {},
   "outputs": [],
   "source": [
    "import pandas as pd\n",
    "import numpy as np\n",
    "from sklearn.model_selection import train_test_split\n",
    "from sklearn.metrics import mean_squared_error\n",
    "from sklearn.metrics import r2_score\n",
    "from sklearn.metrics import mean_absolute_error\n",
    "from sklearn.metrics import mean_absolute_percentage_error\n",
    "\n",
    "from sklearn.neural_network import MLPRegressor\n",
    "from sklearn.datasets import make_regression\n",
    "from sklearn.model_selection import train_test_split"
   ]
  },
  {
   "cell_type": "code",
   "execution_count": 33,
   "metadata": {},
   "outputs": [],
   "source": [
    "# df = pd.read_csv('wc-wo-outliers.csv')"
   ]
  },
  {
   "cell_type": "code",
   "execution_count": 34,
   "metadata": {},
   "outputs": [],
   "source": [
    "df2 = pd.read_csv('wc-w-outliers.csv')"
   ]
  },
  {
   "cell_type": "code",
   "execution_count": 35,
   "metadata": {},
   "outputs": [],
   "source": [
    "# y = df['results']\n",
    "# X = df.drop(columns=['results'])\n",
    "\n",
    "# X_train, X_test, y_train, y_test = train_test_split(\n",
    "#      X, y, test_size=0.20, random_state=2)"
   ]
  },
  {
   "cell_type": "code",
   "execution_count": 73,
   "metadata": {},
   "outputs": [],
   "source": [
    "y2 = df2['results']\n",
    "X2 = df2.drop(columns=['results'])\n",
    "\n",
    "X_train2, X_test2, y_train2, y_test2 = train_test_split(\n",
    "     X2, y2, test_size=0.10, random_state=2)"
   ]
  },
  {
   "cell_type": "code",
   "execution_count": 74,
   "metadata": {},
   "outputs": [
    {
     "name": "stderr",
     "output_type": "stream",
     "text": [
      "/Users/ryantalbot/opt/anaconda3/envs/tf2/lib/python3.9/site-packages/sklearn/neural_network/_multilayer_perceptron.py:692: ConvergenceWarning: Stochastic Optimizer: Maximum iterations (600) reached and the optimization hasn't converged yet.\n",
      "  warnings.warn(\n"
     ]
    }
   ],
   "source": [
    "regr2 = MLPRegressor(random_state=1, hidden_layer_sizes=(1580), learning_rate='invscaling',\n",
    "                    power_t=.49, max_iter=600).fit(X_train2, y_train2)\n"
   ]
  },
  {
   "cell_type": "code",
   "execution_count": 75,
   "metadata": {},
   "outputs": [],
   "source": [
    "# regr = MLPRegressor(random_state=1, hidden_layer_sizes=(1580), learning_rate='invscaling',\n",
    "#                     solver='sgd', power_t=.49, max_iter=600).fit(X_train, y_train)\n"
   ]
  },
  {
   "cell_type": "code",
   "execution_count": 76,
   "metadata": {},
   "outputs": [],
   "source": [
    "# regr.predict(X_test[:2])"
   ]
  },
  {
   "cell_type": "code",
   "execution_count": 77,
   "metadata": {},
   "outputs": [],
   "source": [
    "# regr.score(X_test, y_test)"
   ]
  },
  {
   "cell_type": "code",
   "execution_count": 78,
   "metadata": {},
   "outputs": [],
   "source": [
    "# y_pred = regr.predict(X_test)"
   ]
  },
  {
   "cell_type": "code",
   "execution_count": 79,
   "metadata": {},
   "outputs": [],
   "source": [
    "# y_train_pred = regr.predict(X_train)"
   ]
  },
  {
   "cell_type": "code",
   "execution_count": 80,
   "metadata": {},
   "outputs": [],
   "source": [
    "y_pred2 = regr2.predict(X_test2)"
   ]
  },
  {
   "cell_type": "code",
   "execution_count": 81,
   "metadata": {},
   "outputs": [
    {
     "name": "stdout",
     "output_type": "stream",
     "text": [
      "Neural Network Regression\n",
      "r2 score: -0.556265484576139\n",
      "RMSE : 9.687986486405524\n",
      "MSE: 93.85708216077606\n",
      "MAE: 7.958090417137228\n",
      "MAPE: 0.6672188613618901\n"
     ]
    }
   ],
   "source": [
    "print('Neural Network Regression')\n",
    "print('r2 score: '+str(r2_score(y_test2, y_pred2)))\n",
    "print('RMSE : '+str(np.sqrt(mean_squared_error(y_test2, y_pred2))))\n",
    "print('MSE: '+str(mean_squared_error(y_test2, y_pred2)))\n",
    "print('MAE: '+str(mean_absolute_error(y_test2, y_pred2)))\n",
    "print('MAPE: '+str(mean_absolute_percentage_error(y_test2, y_pred2)))"
   ]
  },
  {
   "cell_type": "code",
   "execution_count": 82,
   "metadata": {},
   "outputs": [],
   "source": [
    "# print('Neural Network Regression')\n",
    "# print('r2 score: '+str(r2_score(y_test, y_pred)))\n",
    "# print('RMSE : '+str(np.sqrt(mean_squared_error(y_test, y_pred))))\n",
    "# print('MSE: '+str(mean_squared_error(y_test, y_pred)))\n",
    "# print('MAE: '+str(mean_absolute_error(y_test, y_pred)))\n",
    "# print('MAPE: '+str(mean_absolute_percentage_error(y_test, y_pred)))\n",
    "\n",
    "# # print('----------------')\n",
    "# # print('r2 score: '+str(r2_score(y_train, y_train_pred)))\n",
    "# # print('RMSE : '+str(np.sqrt(mean_squared_error(y_train, y_train_pred))))\n",
    "# # print('MSE: '+str(mean_squared_error(y_train, y_train_pred)))\n",
    "# # print('MAE: '+str(mean_absolute_error(y_train, y_train_pred)))\n",
    "# # print('MAPE: '+str(mean_absolute_percentage_error(y_train, y_train_pred)))"
   ]
  },
  {
   "cell_type": "code",
   "execution_count": 83,
   "metadata": {},
   "outputs": [
    {
     "data": {
      "text/plain": [
       "(174, 17)"
      ]
     },
     "execution_count": 83,
     "metadata": {},
     "output_type": "execute_result"
    }
   ],
   "source": [
    "df.shape"
   ]
  },
  {
   "cell_type": "code",
   "execution_count": 84,
   "metadata": {},
   "outputs": [],
   "source": [
    "# mape on test .766 @ (182, 17)"
   ]
  },
  {
   "cell_type": "markdown",
   "metadata": {},
   "source": [
    "## Neural Network Regression\n",
    "- Neural Network Regression\n",
    "- r2 score: -1.1588778924721903\n",
    "- RMSE : 12.855249923451426\n",
    "- MSE: 165.25745059439788\n",
    "- MAE: 9.746986045650164\n",
    "- MAPE: 0.7569210486642853\n"
   ]
  },
  {
   "cell_type": "code",
   "execution_count": 85,
   "metadata": {},
   "outputs": [],
   "source": [
    "data = {'y_test': y_test2, 'y_pred': y_pred2}\n",
    "new_df = pd.DataFrame(data)\n",
    "diff = (new_df['y_test'] - new_df['y_pred']).abs()\n",
    "new_df['diff'] = diff\n",
    "new_df = new_df.sort_values(by='diff', ascending=True)"
   ]
  },
  {
   "cell_type": "code",
   "execution_count": 86,
   "metadata": {},
   "outputs": [],
   "source": [
    "new_df = new_df.sort_values(by='diff', ascending=True)"
   ]
  },
  {
   "cell_type": "code",
   "execution_count": 87,
   "metadata": {},
   "outputs": [],
   "source": [
    "new_df['y_pred'] = round(new_df['y_pred'], 1)"
   ]
  },
  {
   "cell_type": "code",
   "execution_count": 92,
   "metadata": {},
   "outputs": [],
   "source": [
    "prediction=new_df['y_pred']\n",
    "reality=new_df['y_test']"
   ]
  },
  {
   "cell_type": "code",
   "execution_count": 116,
   "metadata": {},
   "outputs": [],
   "source": [
    "# new_y = []\n",
    "\n",
    "# for i in len(prediction):\n",
    "#     if i < 1:\n",
    "#         new_y.append(1)\n",
    "#     elif i > 32:\n",
    "#         new_y.append(32)\n",
    "#     else:\n",
    "#         new_y.append(i)\n",
    "# print(new_y)\n",
    "        "
   ]
  },
  {
   "cell_type": "code",
   "execution_count": 117,
   "metadata": {
    "scrolled": true
   },
   "outputs": [
    {
     "data": {
      "text/html": [
       "<div>\n",
       "<style scoped>\n",
       "    .dataframe tbody tr th:only-of-type {\n",
       "        vertical-align: middle;\n",
       "    }\n",
       "\n",
       "    .dataframe tbody tr th {\n",
       "        vertical-align: top;\n",
       "    }\n",
       "\n",
       "    .dataframe thead th {\n",
       "        text-align: right;\n",
       "    }\n",
       "</style>\n",
       "<table border=\"1\" class=\"dataframe\">\n",
       "  <thead>\n",
       "    <tr style=\"text-align: right;\">\n",
       "      <th></th>\n",
       "      <th>y_test</th>\n",
       "      <th>y_pred</th>\n",
       "      <th>diff</th>\n",
       "    </tr>\n",
       "  </thead>\n",
       "  <tbody>\n",
       "    <tr>\n",
       "      <th>130</th>\n",
       "      <td>16</td>\n",
       "      <td>16.0</td>\n",
       "      <td>0.004624</td>\n",
       "    </tr>\n",
       "    <tr>\n",
       "      <th>156</th>\n",
       "      <td>10</td>\n",
       "      <td>11.2</td>\n",
       "      <td>1.155457</td>\n",
       "    </tr>\n",
       "    <tr>\n",
       "      <th>175</th>\n",
       "      <td>19</td>\n",
       "      <td>20.2</td>\n",
       "      <td>1.173674</td>\n",
       "    </tr>\n",
       "    <tr>\n",
       "      <th>219</th>\n",
       "      <td>14</td>\n",
       "      <td>15.6</td>\n",
       "      <td>1.582073</td>\n",
       "    </tr>\n",
       "    <tr>\n",
       "      <th>3</th>\n",
       "      <td>5</td>\n",
       "      <td>2.3</td>\n",
       "      <td>2.741121</td>\n",
       "    </tr>\n",
       "    <tr>\n",
       "      <th>35</th>\n",
       "      <td>6</td>\n",
       "      <td>2.9</td>\n",
       "      <td>3.137941</td>\n",
       "    </tr>\n",
       "    <tr>\n",
       "      <th>30</th>\n",
       "      <td>4</td>\n",
       "      <td>7.4</td>\n",
       "      <td>3.448209</td>\n",
       "    </tr>\n",
       "    <tr>\n",
       "      <th>24</th>\n",
       "      <td>5</td>\n",
       "      <td>8.6</td>\n",
       "      <td>3.562504</td>\n",
       "    </tr>\n",
       "    <tr>\n",
       "      <th>224</th>\n",
       "      <td>18</td>\n",
       "      <td>22.9</td>\n",
       "      <td>4.898397</td>\n",
       "    </tr>\n",
       "    <tr>\n",
       "      <th>225</th>\n",
       "      <td>23</td>\n",
       "      <td>17.5</td>\n",
       "      <td>5.502964</td>\n",
       "    </tr>\n",
       "    <tr>\n",
       "      <th>126</th>\n",
       "      <td>4</td>\n",
       "      <td>9.9</td>\n",
       "      <td>5.868820</td>\n",
       "    </tr>\n",
       "    <tr>\n",
       "      <th>84</th>\n",
       "      <td>23</td>\n",
       "      <td>16.7</td>\n",
       "      <td>6.277355</td>\n",
       "    </tr>\n",
       "    <tr>\n",
       "      <th>93</th>\n",
       "      <td>28</td>\n",
       "      <td>21.5</td>\n",
       "      <td>6.527768</td>\n",
       "    </tr>\n",
       "    <tr>\n",
       "      <th>242</th>\n",
       "      <td>18</td>\n",
       "      <td>11.1</td>\n",
       "      <td>6.870625</td>\n",
       "    </tr>\n",
       "    <tr>\n",
       "      <th>134</th>\n",
       "      <td>7</td>\n",
       "      <td>13.9</td>\n",
       "      <td>6.942561</td>\n",
       "    </tr>\n",
       "    <tr>\n",
       "      <th>181</th>\n",
       "      <td>21</td>\n",
       "      <td>12.3</td>\n",
       "      <td>8.669932</td>\n",
       "    </tr>\n",
       "    <tr>\n",
       "      <th>169</th>\n",
       "      <td>20</td>\n",
       "      <td>11.0</td>\n",
       "      <td>9.038795</td>\n",
       "    </tr>\n",
       "    <tr>\n",
       "      <th>176</th>\n",
       "      <td>9</td>\n",
       "      <td>18.4</td>\n",
       "      <td>9.414171</td>\n",
       "    </tr>\n",
       "    <tr>\n",
       "      <th>229</th>\n",
       "      <td>19</td>\n",
       "      <td>9.1</td>\n",
       "      <td>9.865279</td>\n",
       "    </tr>\n",
       "    <tr>\n",
       "      <th>235</th>\n",
       "      <td>8</td>\n",
       "      <td>19.0</td>\n",
       "      <td>11.019487</td>\n",
       "    </tr>\n",
       "    <tr>\n",
       "      <th>90</th>\n",
       "      <td>7</td>\n",
       "      <td>21.8</td>\n",
       "      <td>14.800107</td>\n",
       "    </tr>\n",
       "    <tr>\n",
       "      <th>188</th>\n",
       "      <td>14</td>\n",
       "      <td>28.8</td>\n",
       "      <td>14.837026</td>\n",
       "    </tr>\n",
       "    <tr>\n",
       "      <th>89</th>\n",
       "      <td>13</td>\n",
       "      <td>28.5</td>\n",
       "      <td>15.470096</td>\n",
       "    </tr>\n",
       "    <tr>\n",
       "      <th>91</th>\n",
       "      <td>25</td>\n",
       "      <td>9.1</td>\n",
       "      <td>15.884066</td>\n",
       "    </tr>\n",
       "    <tr>\n",
       "      <th>10</th>\n",
       "      <td>32</td>\n",
       "      <td>13.8</td>\n",
       "      <td>18.200581</td>\n",
       "    </tr>\n",
       "    <tr>\n",
       "      <th>139</th>\n",
       "      <td>17</td>\n",
       "      <td>37.0</td>\n",
       "      <td>20.016717</td>\n",
       "    </tr>\n",
       "  </tbody>\n",
       "</table>\n",
       "</div>"
      ],
      "text/plain": [
       "     y_test  y_pred       diff\n",
       "130      16    16.0   0.004624\n",
       "156      10    11.2   1.155457\n",
       "175      19    20.2   1.173674\n",
       "219      14    15.6   1.582073\n",
       "3         5     2.3   2.741121\n",
       "35        6     2.9   3.137941\n",
       "30        4     7.4   3.448209\n",
       "24        5     8.6   3.562504\n",
       "224      18    22.9   4.898397\n",
       "225      23    17.5   5.502964\n",
       "126       4     9.9   5.868820\n",
       "84       23    16.7   6.277355\n",
       "93       28    21.5   6.527768\n",
       "242      18    11.1   6.870625\n",
       "134       7    13.9   6.942561\n",
       "181      21    12.3   8.669932\n",
       "169      20    11.0   9.038795\n",
       "176       9    18.4   9.414171\n",
       "229      19     9.1   9.865279\n",
       "235       8    19.0  11.019487\n",
       "90        7    21.8  14.800107\n",
       "188      14    28.8  14.837026\n",
       "89       13    28.5  15.470096\n",
       "91       25     9.1  15.884066\n",
       "10       32    13.8  18.200581\n",
       "139      17    37.0  20.016717"
      ]
     },
     "execution_count": 117,
     "metadata": {},
     "output_type": "execute_result"
    }
   ],
   "source": [
    "new_df"
   ]
  },
  {
   "cell_type": "code",
   "execution_count": 118,
   "metadata": {},
   "outputs": [
    {
     "data": {
      "text/plain": [
       "7.958090417137228"
      ]
     },
     "execution_count": 118,
     "metadata": {},
     "output_type": "execute_result"
    }
   ],
   "source": [
    "new_df['diff'].mean()"
   ]
  },
  {
   "cell_type": "code",
   "execution_count": 119,
   "metadata": {},
   "outputs": [
    {
     "data": {
      "text/plain": [
       "6.699196632474924"
      ]
     },
     "execution_count": 119,
     "metadata": {},
     "output_type": "execute_result"
    }
   ],
   "source": [
    "new_df['diff'].median()"
   ]
  },
  {
   "cell_type": "code",
   "execution_count": null,
   "metadata": {},
   "outputs": [],
   "source": []
  },
  {
   "cell_type": "code",
   "execution_count": null,
   "metadata": {},
   "outputs": [],
   "source": []
  },
  {
   "cell_type": "code",
   "execution_count": null,
   "metadata": {},
   "outputs": [],
   "source": []
  }
 ],
 "metadata": {
  "kernelspec": {
   "display_name": "Python 3 (ipykernel)",
   "language": "python",
   "name": "python3"
  },
  "language_info": {
   "codemirror_mode": {
    "name": "ipython",
    "version": 3
   },
   "file_extension": ".py",
   "mimetype": "text/x-python",
   "name": "python",
   "nbconvert_exporter": "python",
   "pygments_lexer": "ipython3",
   "version": "3.9.12"
  }
 },
 "nbformat": 4,
 "nbformat_minor": 2
}
