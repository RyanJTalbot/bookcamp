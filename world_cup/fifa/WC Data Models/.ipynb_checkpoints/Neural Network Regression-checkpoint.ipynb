{
 "cells": [
  {
   "cell_type": "code",
   "execution_count": 4,
   "metadata": {},
   "outputs": [],
   "source": [
    "import pandas as pd\n",
    "import numpy as np\n",
    "from sklearn.model_selection import train_test_split\n",
    "from sklearn.metrics import mean_squared_error\n",
    "from sklearn.metrics import r2_score\n",
    "from sklearn.metrics import mean_absolute_error\n",
    "from sklearn.metrics import mean_absolute_percentage_error\n",
    "\n",
    "from sklearn.neural_network import MLPRegressor\n",
    "from sklearn.datasets import make_regression\n",
    "from sklearn.model_selection import train_test_split"
   ]
  },
  {
   "cell_type": "code",
   "execution_count": 2,
   "metadata": {},
   "outputs": [],
   "source": [
    "df = pd.read_csv('wc-wo-outliers.csv')"
   ]
  },
  {
   "cell_type": "code",
   "execution_count": 3,
   "metadata": {},
   "outputs": [],
   "source": [
    "y = df['results']\n",
    "X = df.drop(columns=['results'])\n",
    "\n",
    "X_train, X_test, y_train, y_test = train_test_split(\n",
    "     X, y, test_size=0.20, random_state=1)"
   ]
  },
  {
   "cell_type": "code",
   "execution_count": 38,
   "metadata": {},
   "outputs": [],
   "source": [
    "regr = MLPRegressor(random_state=1, hidden_layer_sizes=(58), \n",
    "                    max_iter=6000).fit(X_train, y_train)\n"
   ]
  },
  {
   "cell_type": "code",
   "execution_count": 39,
   "metadata": {},
   "outputs": [
    {
     "data": {
      "text/plain": [
       "array([15.69090578, 15.39327041])"
      ]
     },
     "execution_count": 39,
     "metadata": {},
     "output_type": "execute_result"
    }
   ],
   "source": [
    "regr.predict(X_test[:2])"
   ]
  },
  {
   "cell_type": "code",
   "execution_count": 40,
   "metadata": {},
   "outputs": [
    {
     "data": {
      "text/plain": [
       "-0.4642555623489475"
      ]
     },
     "execution_count": 40,
     "metadata": {},
     "output_type": "execute_result"
    }
   ],
   "source": [
    "regr.score(X_test, y_test)"
   ]
  },
  {
   "cell_type": "code",
   "execution_count": 41,
   "metadata": {},
   "outputs": [],
   "source": [
    "y_pred = regr.predict(X_test)"
   ]
  },
  {
   "cell_type": "code",
   "execution_count": 42,
   "metadata": {},
   "outputs": [],
   "source": [
    "y_train_pred = regr.predict(X_train)"
   ]
  },
  {
   "cell_type": "code",
   "execution_count": 43,
   "metadata": {},
   "outputs": [
    {
     "name": "stdout",
     "output_type": "stream",
     "text": [
      "Neural Network Regression\n",
      "r2 score: -0.4642555623489475\n",
      "RMSE : 10.937460971051928\n",
      "MSE: 119.62805249328419\n",
      "MAE: 8.888064088667432\n",
      "MAPE: 1.1755273624373175\n",
      "----------------\n",
      "r2 score: 0.9992320233044637\n",
      "RMSE : 0.25803390212941985\n",
      "MSE: 0.06658149464813501\n",
      "MAE: 0.17906714000929108\n",
      "MAPE: 0.030356789834672267\n"
     ]
    }
   ],
   "source": [
    "print('Neural Network Regression')\n",
    "print('r2 score: '+str(r2_score(y_test, y_pred)))\n",
    "print('RMSE : '+str(np.sqrt(mean_squared_error(y_test, y_pred))))\n",
    "print('MSE: '+str(mean_squared_error(y_test, y_pred)))\n",
    "print('MAE: '+str(mean_absolute_error(y_test, y_pred)))\n",
    "print('MAPE: '+str(mean_absolute_percentage_error(y_test, y_pred)))\n",
    "\n",
    "print('----------------')\n",
    "print('r2 score: '+str(r2_score(y_train, y_train_pred)))\n",
    "print('RMSE : '+str(np.sqrt(mean_squared_error(y_train, y_train_pred))))\n",
    "print('MSE: '+str(mean_squared_error(y_train, y_train_pred)))\n",
    "print('MAE: '+str(mean_absolute_error(y_train, y_train_pred)))\n",
    "print('MAPE: '+str(mean_absolute_percentage_error(y_train, y_train_pred)))"
   ]
  },
  {
   "cell_type": "code",
   "execution_count": null,
   "metadata": {},
   "outputs": [],
   "source": []
  }
 ],
 "metadata": {
  "kernelspec": {
   "display_name": "Python 3 (ipykernel)",
   "language": "python",
   "name": "python3"
  },
  "language_info": {
   "codemirror_mode": {
    "name": "ipython",
    "version": 3
   },
   "file_extension": ".py",
   "mimetype": "text/x-python",
   "name": "python",
   "nbconvert_exporter": "python",
   "pygments_lexer": "ipython3",
   "version": "3.9.12"
  }
 },
 "nbformat": 4,
 "nbformat_minor": 2
}
