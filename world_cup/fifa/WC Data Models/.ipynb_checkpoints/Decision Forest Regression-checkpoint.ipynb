{
 "cells": [
  {
   "cell_type": "code",
   "execution_count": 1,
   "metadata": {},
   "outputs": [],
   "source": [
    "import pandas as pd\n",
    "import numpy as np\n",
    "from sklearn.model_selection import train_test_split\n",
    "from sklearn.metrics import mean_squared_error\n",
    "from sklearn.metrics import r2_score\n",
    "from sklearn.metrics import mean_absolute_error\n",
    "from sklearn.metrics import mean_absolute_percentage_error\n",
    "\n",
    "from sklearn.ensemble import RandomForestRegressor\n",
    "from sklearn.datasets import make_regression"
   ]
  },
  {
   "cell_type": "code",
   "execution_count": 2,
   "metadata": {},
   "outputs": [],
   "source": [
    "df = pd.read_csv('wc-wo-outliers.csv')"
   ]
  },
  {
   "cell_type": "code",
   "execution_count": 3,
   "metadata": {},
   "outputs": [],
   "source": [
    "y = df['results']\n",
    "X = df.drop(columns=['results'])\n",
    "\n",
    "X_train, X_test, y_train, y_test = train_test_split(\n",
    "     X, y, test_size=0.20, random_state=1)"
   ]
  },
  {
   "cell_type": "code",
   "execution_count": 4,
   "metadata": {},
   "outputs": [
    {
     "data": {
      "text/plain": [
       "RandomForestRegressor(max_depth=20, max_features=15, n_estimators=1000,\n",
       "                      random_state=1)"
      ]
     },
     "execution_count": 4,
     "metadata": {},
     "output_type": "execute_result"
    }
   ],
   "source": [
    "regr = RandomForestRegressor(max_depth=20, n_estimators=1000, min_samples_split=2, \n",
    "                             max_features=15, random_state=1)\n",
    "regr.fit(X_train, y_train)"
   ]
  },
  {
   "cell_type": "code",
   "execution_count": 5,
   "metadata": {},
   "outputs": [],
   "source": [
    "y_pred = regr.predict(X_test)"
   ]
  },
  {
   "cell_type": "code",
   "execution_count": 6,
   "metadata": {},
   "outputs": [
    {
     "name": "stdout",
     "output_type": "stream",
     "text": [
      "DECISION FOREST REGRESSION\n",
      "r2 score: 0.2967831866338452\n",
      "RMSE : 7.579711887664333\n",
      "MSE: 57.4520323\n",
      "MAE: 5.838099999999999\n",
      "MAPE: 0.7793818583999947\n",
      "-----------------\n",
      "r2 score: 0.9296137881016225\n",
      "RMSE : 2.470282067199093\n",
      "MSE: 6.102293491525424\n",
      "MAE: 2.0082711864406777\n",
      "MAPE: 0.37432196450623323\n"
     ]
    }
   ],
   "source": [
    "print('DECISION FOREST REGRESSION')\n",
    "print('r2 score: '+str(r2_score(y_test, y_pred)))\n",
    "print('RMSE : '+str(np.sqrt(mean_squared_error(y_test, y_pred))))\n",
    "print('MSE: '+str(mean_squared_error(y_test, y_pred)))\n",
    "print('MAE: '+str(mean_absolute_error(y_test, y_pred)))\n",
    "print('MAPE: '+str(mean_absolute_percentage_error(y_test, y_pred)))\n",
    "\n",
    "\n",
    "print('-----------------')\n",
    "\n",
    "y_train_pred = regr.predict(X_train)\n",
    "\n",
    "print('r2 score: '+str(r2_score(y_train, y_train_pred)))\n",
    "print('RMSE : '+str(np.sqrt(mean_squared_error(y_train, y_train_pred))))\n",
    "print('MSE: '+str(mean_squared_error(y_train, y_train_pred)))\n",
    "print('MAE: '+str(mean_absolute_error(y_train, y_train_pred)))\n",
    "print('MAPE: '+str(mean_absolute_percentage_error(y_train, y_train_pred)))"
   ]
  },
  {
   "cell_type": "code",
   "execution_count": 8,
   "metadata": {},
   "outputs": [
    {
     "data": {
      "text/plain": [
       "array([18.428, 12.837,  5.141, 24.897, 19.896, 12.382, 20.437,  7.535,\n",
       "        8.807, 10.104,  9.006,  9.647, 19.877,  9.371,  7.581, 10.935,\n",
       "        9.984,  3.552,  8.906,  8.993, 24.268, 16.242,  3.624, 27.275,\n",
       "        5.535,  6.206,  5.629,  6.498, 20.181, 25.365])"
      ]
     },
     "execution_count": 8,
     "metadata": {},
     "output_type": "execute_result"
    }
   ],
   "source": [
    "y_pred"
   ]
  },
  {
   "cell_type": "code",
   "execution_count": 32,
   "metadata": {},
   "outputs": [],
   "source": [
    "data = {'y_test': y_test, 'y_pred': y_pred}"
   ]
  },
  {
   "cell_type": "code",
   "execution_count": 33,
   "metadata": {},
   "outputs": [],
   "source": [
    "new_df = pd.DataFrame(data)"
   ]
  },
  {
   "cell_type": "code",
   "execution_count": 38,
   "metadata": {},
   "outputs": [],
   "source": [
    "diff = (new_df['y_test'] - new_df['y_pred']).abs()"
   ]
  },
  {
   "cell_type": "code",
   "execution_count": 40,
   "metadata": {},
   "outputs": [],
   "source": [
    "new_df['diff'] = diff"
   ]
  },
  {
   "cell_type": "code",
   "execution_count": 51,
   "metadata": {
    "scrolled": true
   },
   "outputs": [
    {
     "data": {
      "text/html": [
       "<div>\n",
       "<style scoped>\n",
       "    .dataframe tbody tr th:only-of-type {\n",
       "        vertical-align: middle;\n",
       "    }\n",
       "\n",
       "    .dataframe tbody tr th {\n",
       "        vertical-align: top;\n",
       "    }\n",
       "\n",
       "    .dataframe thead th {\n",
       "        text-align: right;\n",
       "    }\n",
       "</style>\n",
       "<table border=\"1\" class=\"dataframe\">\n",
       "  <thead>\n",
       "    <tr style=\"text-align: right;\">\n",
       "      <th></th>\n",
       "      <th>y_test</th>\n",
       "      <th>y_pred</th>\n",
       "      <th>diff</th>\n",
       "    </tr>\n",
       "  </thead>\n",
       "  <tbody>\n",
       "    <tr>\n",
       "      <th>58</th>\n",
       "      <td>7</td>\n",
       "      <td>7.581</td>\n",
       "      <td>0.581</td>\n",
       "    </tr>\n",
       "    <tr>\n",
       "      <th>51</th>\n",
       "      <td>5</td>\n",
       "      <td>5.629</td>\n",
       "      <td>0.629</td>\n",
       "    </tr>\n",
       "    <tr>\n",
       "      <th>142</th>\n",
       "      <td>26</td>\n",
       "      <td>25.365</td>\n",
       "      <td>0.635</td>\n",
       "    </tr>\n",
       "    <tr>\n",
       "      <th>89</th>\n",
       "      <td>21</td>\n",
       "      <td>20.181</td>\n",
       "      <td>0.819</td>\n",
       "    </tr>\n",
       "    <tr>\n",
       "      <th>66</th>\n",
       "      <td>10</td>\n",
       "      <td>8.906</td>\n",
       "      <td>1.094</td>\n",
       "    </tr>\n",
       "    <tr>\n",
       "      <th>31</th>\n",
       "      <td>5</td>\n",
       "      <td>3.624</td>\n",
       "      <td>1.376</td>\n",
       "    </tr>\n",
       "    <tr>\n",
       "      <th>121</th>\n",
       "      <td>11</td>\n",
       "      <td>12.837</td>\n",
       "      <td>1.837</td>\n",
       "    </tr>\n",
       "    <tr>\n",
       "      <th>5</th>\n",
       "      <td>7</td>\n",
       "      <td>9.006</td>\n",
       "      <td>2.006</td>\n",
       "    </tr>\n",
       "    <tr>\n",
       "      <th>104</th>\n",
       "      <td>27</td>\n",
       "      <td>24.897</td>\n",
       "      <td>2.103</td>\n",
       "    </tr>\n",
       "    <tr>\n",
       "      <th>48</th>\n",
       "      <td>4</td>\n",
       "      <td>6.498</td>\n",
       "      <td>2.498</td>\n",
       "    </tr>\n",
       "    <tr>\n",
       "      <th>29</th>\n",
       "      <td>1</td>\n",
       "      <td>3.552</td>\n",
       "      <td>2.552</td>\n",
       "    </tr>\n",
       "    <tr>\n",
       "      <th>44</th>\n",
       "      <td>6</td>\n",
       "      <td>8.807</td>\n",
       "      <td>2.807</td>\n",
       "    </tr>\n",
       "    <tr>\n",
       "      <th>75</th>\n",
       "      <td>16</td>\n",
       "      <td>12.382</td>\n",
       "      <td>3.618</td>\n",
       "    </tr>\n",
       "    <tr>\n",
       "      <th>110</th>\n",
       "      <td>10</td>\n",
       "      <td>5.535</td>\n",
       "      <td>4.465</td>\n",
       "    </tr>\n",
       "    <tr>\n",
       "      <th>90</th>\n",
       "      <td>25</td>\n",
       "      <td>20.437</td>\n",
       "      <td>4.563</td>\n",
       "    </tr>\n",
       "    <tr>\n",
       "      <th>100</th>\n",
       "      <td>23</td>\n",
       "      <td>18.428</td>\n",
       "      <td>4.572</td>\n",
       "    </tr>\n",
       "    <tr>\n",
       "      <th>16</th>\n",
       "      <td>4</td>\n",
       "      <td>9.647</td>\n",
       "      <td>5.647</td>\n",
       "    </tr>\n",
       "    <tr>\n",
       "      <th>19</th>\n",
       "      <td>13</td>\n",
       "      <td>6.206</td>\n",
       "      <td>6.794</td>\n",
       "    </tr>\n",
       "    <tr>\n",
       "      <th>59</th>\n",
       "      <td>17</td>\n",
       "      <td>10.104</td>\n",
       "      <td>6.896</td>\n",
       "    </tr>\n",
       "    <tr>\n",
       "      <th>33</th>\n",
       "      <td>4</td>\n",
       "      <td>10.935</td>\n",
       "      <td>6.935</td>\n",
       "    </tr>\n",
       "    <tr>\n",
       "      <th>35</th>\n",
       "      <td>2</td>\n",
       "      <td>8.993</td>\n",
       "      <td>6.993</td>\n",
       "    </tr>\n",
       "    <tr>\n",
       "      <th>14</th>\n",
       "      <td>2</td>\n",
       "      <td>9.371</td>\n",
       "      <td>7.371</td>\n",
       "    </tr>\n",
       "    <tr>\n",
       "      <th>53</th>\n",
       "      <td>16</td>\n",
       "      <td>7.535</td>\n",
       "      <td>8.465</td>\n",
       "    </tr>\n",
       "    <tr>\n",
       "      <th>99</th>\n",
       "      <td>29</td>\n",
       "      <td>19.896</td>\n",
       "      <td>9.104</td>\n",
       "    </tr>\n",
       "    <tr>\n",
       "      <th>92</th>\n",
       "      <td>29</td>\n",
       "      <td>19.877</td>\n",
       "      <td>9.123</td>\n",
       "    </tr>\n",
       "    <tr>\n",
       "      <th>85</th>\n",
       "      <td>7</td>\n",
       "      <td>16.242</td>\n",
       "      <td>9.242</td>\n",
       "    </tr>\n",
       "    <tr>\n",
       "      <th>141</th>\n",
       "      <td>14</td>\n",
       "      <td>27.275</td>\n",
       "      <td>13.275</td>\n",
       "    </tr>\n",
       "    <tr>\n",
       "      <th>73</th>\n",
       "      <td>24</td>\n",
       "      <td>9.984</td>\n",
       "      <td>14.016</td>\n",
       "    </tr>\n",
       "    <tr>\n",
       "      <th>118</th>\n",
       "      <td>10</td>\n",
       "      <td>24.268</td>\n",
       "      <td>14.268</td>\n",
       "    </tr>\n",
       "    <tr>\n",
       "      <th>54</th>\n",
       "      <td>26</td>\n",
       "      <td>5.141</td>\n",
       "      <td>20.859</td>\n",
       "    </tr>\n",
       "  </tbody>\n",
       "</table>\n",
       "</div>"
      ],
      "text/plain": [
       "     y_test  y_pred    diff\n",
       "58        7   7.581   0.581\n",
       "51        5   5.629   0.629\n",
       "142      26  25.365   0.635\n",
       "89       21  20.181   0.819\n",
       "66       10   8.906   1.094\n",
       "31        5   3.624   1.376\n",
       "121      11  12.837   1.837\n",
       "5         7   9.006   2.006\n",
       "104      27  24.897   2.103\n",
       "48        4   6.498   2.498\n",
       "29        1   3.552   2.552\n",
       "44        6   8.807   2.807\n",
       "75       16  12.382   3.618\n",
       "110      10   5.535   4.465\n",
       "90       25  20.437   4.563\n",
       "100      23  18.428   4.572\n",
       "16        4   9.647   5.647\n",
       "19       13   6.206   6.794\n",
       "59       17  10.104   6.896\n",
       "33        4  10.935   6.935\n",
       "35        2   8.993   6.993\n",
       "14        2   9.371   7.371\n",
       "53       16   7.535   8.465\n",
       "99       29  19.896   9.104\n",
       "92       29  19.877   9.123\n",
       "85        7  16.242   9.242\n",
       "141      14  27.275  13.275\n",
       "73       24   9.984  14.016\n",
       "118      10  24.268  14.268\n",
       "54       26   5.141  20.859"
      ]
     },
     "execution_count": 51,
     "metadata": {},
     "output_type": "execute_result"
    }
   ],
   "source": [
    "new_df.sort_values(by='diff', ascending=True)"
   ]
  },
  {
   "cell_type": "code",
   "execution_count": 42,
   "metadata": {},
   "outputs": [
    {
     "data": {
      "text/plain": [
       "175.14299999999997"
      ]
     },
     "execution_count": 42,
     "metadata": {},
     "output_type": "execute_result"
    }
   ],
   "source": [
    "new_df['diff'].sum()"
   ]
  },
  {
   "cell_type": "code",
   "execution_count": 43,
   "metadata": {},
   "outputs": [
    {
     "data": {
      "text/plain": [
       "5.8381"
      ]
     },
     "execution_count": 43,
     "metadata": {},
     "output_type": "execute_result"
    }
   ],
   "source": [
    "new_df['diff'].mean()"
   ]
  },
  {
   "cell_type": "code",
   "execution_count": 44,
   "metadata": {},
   "outputs": [
    {
     "data": {
      "text/plain": [
       "4.567499999999999"
      ]
     },
     "execution_count": 44,
     "metadata": {},
     "output_type": "execute_result"
    }
   ],
   "source": [
    "new_df['diff'].median()"
   ]
  },
  {
   "cell_type": "code",
   "execution_count": null,
   "metadata": {},
   "outputs": [],
   "source": []
  }
 ],
 "metadata": {
  "kernelspec": {
   "display_name": "Python 3 (ipykernel)",
   "language": "python",
   "name": "python3"
  },
  "language_info": {
   "codemirror_mode": {
    "name": "ipython",
    "version": 3
   },
   "file_extension": ".py",
   "mimetype": "text/x-python",
   "name": "python",
   "nbconvert_exporter": "python",
   "pygments_lexer": "ipython3",
   "version": "3.9.12"
  }
 },
 "nbformat": 4,
 "nbformat_minor": 2
}
