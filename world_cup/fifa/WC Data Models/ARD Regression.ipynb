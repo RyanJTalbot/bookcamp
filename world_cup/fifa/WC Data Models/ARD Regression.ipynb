{
 "cells": [
  {
   "cell_type": "code",
   "execution_count": 1,
   "metadata": {},
   "outputs": [],
   "source": [
    "import pandas as pd\n",
    "import numpy as np\n",
    "from sklearn.model_selection import train_test_split\n",
    "from sklearn.metrics import mean_squared_error\n",
    "from sklearn.metrics import r2_score\n",
    "from sklearn.metrics import mean_absolute_error\n",
    "from sklearn.metrics import mean_absolute_percentage_error\n",
    "\n",
    "from sklearn import linear_model"
   ]
  },
  {
   "cell_type": "code",
   "execution_count": 2,
   "metadata": {},
   "outputs": [],
   "source": [
    "# df = pd.read_csv('wc-wo-outliers.csv')\n",
    "# df2 = pd.read_csv('wc-w-outliers.csv')\n",
    "df = pd.read_csv('WC-stats.csv')"
   ]
  },
  {
   "cell_type": "code",
   "execution_count": 3,
   "metadata": {},
   "outputs": [],
   "source": [
    "# df2.shape"
   ]
  },
  {
   "cell_type": "code",
   "execution_count": 17,
   "metadata": {},
   "outputs": [],
   "source": [
    "y = df['results']\n",
    "X = df.drop(columns=['results'])\n",
    "\n",
    "X_train, X_test, y_train, y_test = train_test_split(\n",
    "     X, y, test_size=0.10, random_state=2)"
   ]
  },
  {
   "cell_type": "code",
   "execution_count": 18,
   "metadata": {},
   "outputs": [],
   "source": [
    "# y2 = df2['results']\n",
    "# X2 = df2.drop(columns=['results'])\n",
    "\n",
    "# X_train2, X_test2, y_train2, y_test2 = train_test_split(\n",
    "#      X2, y2, test_size=0.20, random_state=1)"
   ]
  },
  {
   "cell_type": "code",
   "execution_count": 19,
   "metadata": {},
   "outputs": [],
   "source": [
    "clf = linear_model.ARDRegression()\n",
    "# clf2 = linear_model.ARDRegression()"
   ]
  },
  {
   "cell_type": "code",
   "execution_count": 20,
   "metadata": {},
   "outputs": [
    {
     "data": {
      "text/plain": [
       "ARDRegression()"
      ]
     },
     "execution_count": 20,
     "metadata": {},
     "output_type": "execute_result"
    }
   ],
   "source": [
    "clf.fit(X_train, y_train)\n",
    "# clf2.fit(X_train2, y_train2)"
   ]
  },
  {
   "cell_type": "code",
   "execution_count": 21,
   "metadata": {},
   "outputs": [],
   "source": [
    "pred_train= clf.predict(X_train)\n",
    "pred_test= clf.predict(X_test)"
   ]
  },
  {
   "cell_type": "code",
   "execution_count": 22,
   "metadata": {},
   "outputs": [],
   "source": [
    "# pred_train= clf2.predict(X_train2)\n",
    "# pred_test= clf2.predict(X_test2)"
   ]
  },
  {
   "cell_type": "code",
   "execution_count": 24,
   "metadata": {},
   "outputs": [
    {
     "name": "stdout",
     "output_type": "stream",
     "text": [
      "---------------------\n",
      "RMSE : 5.405358012609792\n",
      "R2 : 0.6080408223247309\n",
      "MSE: 29.217895244484875\n",
      "MAE: 4.010791116242779\n",
      "MAPE: 0.3222468382077148\n"
     ]
    }
   ],
   "source": [
    "# print('RMSE : '+str(np.sqrt(mean_squared_error(y_test2,pred_test2)))) \n",
    "# print('R2 : '+str(r2_score(y_test2, pred_test2)))\n",
    "# print('MSE: '+str(mean_squared_error(y_test2, pred_test2)))\n",
    "# print('MAE: '+str(mean_absolute_error(y_test2, pred_test2)))\n",
    "# print('MAPE: '+str(mean_absolute_percentage_error(y_test2, pred_test2)))\n",
    "\n",
    "print('---------------------')\n",
    "\n",
    "# pred_test= clf.predict(X_test)\n",
    "\n",
    "print('RMSE : '+str(np.sqrt(mean_squared_error(y_test,pred_test)))) \n",
    "print('R2 : '+str(r2_score(y_test, pred_test)))\n",
    "print('MSE: '+str(mean_squared_error(y_test, pred_test)))\n",
    "print('MAE: '+str(mean_absolute_error(y_test, pred_test)))\n",
    "print('MAPE: '+str(mean_absolute_percentage_error(y_test, pred_test)))"
   ]
  },
  {
   "cell_type": "code",
   "execution_count": 25,
   "metadata": {},
   "outputs": [],
   "source": [
    "data = {'y_test': y_test, 'y_pred': pred_test}\n",
    "new_df = pd.DataFrame(data)\n",
    "diff = (new_df['y_test'] - new_df['y_pred']).abs()\n",
    "new_df['diff'] = diff\n",
    "new_df = new_df.sort_values(by='diff', ascending=True)\n"
   ]
  },
  {
   "cell_type": "code",
   "execution_count": 26,
   "metadata": {},
   "outputs": [
    {
     "data": {
      "text/html": [
       "<div>\n",
       "<style scoped>\n",
       "    .dataframe tbody tr th:only-of-type {\n",
       "        vertical-align: middle;\n",
       "    }\n",
       "\n",
       "    .dataframe tbody tr th {\n",
       "        vertical-align: top;\n",
       "    }\n",
       "\n",
       "    .dataframe thead th {\n",
       "        text-align: right;\n",
       "    }\n",
       "</style>\n",
       "<table border=\"1\" class=\"dataframe\">\n",
       "  <thead>\n",
       "    <tr style=\"text-align: right;\">\n",
       "      <th></th>\n",
       "      <th>y_test</th>\n",
       "      <th>y_pred</th>\n",
       "      <th>diff</th>\n",
       "    </tr>\n",
       "  </thead>\n",
       "  <tbody>\n",
       "    <tr>\n",
       "      <th>257</th>\n",
       "      <td>24</td>\n",
       "      <td>24.160677</td>\n",
       "      <td>0.160677</td>\n",
       "    </tr>\n",
       "    <tr>\n",
       "      <th>247</th>\n",
       "      <td>20</td>\n",
       "      <td>20.270597</td>\n",
       "      <td>0.270597</td>\n",
       "    </tr>\n",
       "    <tr>\n",
       "      <th>217</th>\n",
       "      <td>24</td>\n",
       "      <td>23.545812</td>\n",
       "      <td>0.454188</td>\n",
       "    </tr>\n",
       "    <tr>\n",
       "      <th>184</th>\n",
       "      <td>21</td>\n",
       "      <td>20.526044</td>\n",
       "      <td>0.473956</td>\n",
       "    </tr>\n",
       "    <tr>\n",
       "      <th>183</th>\n",
       "      <td>19</td>\n",
       "      <td>18.510507</td>\n",
       "      <td>0.489493</td>\n",
       "    </tr>\n",
       "    <tr>\n",
       "      <th>144</th>\n",
       "      <td>8</td>\n",
       "      <td>8.618924</td>\n",
       "      <td>0.618924</td>\n",
       "    </tr>\n",
       "    <tr>\n",
       "      <th>127</th>\n",
       "      <td>11</td>\n",
       "      <td>11.869629</td>\n",
       "      <td>0.869629</td>\n",
       "    </tr>\n",
       "    <tr>\n",
       "      <th>53</th>\n",
       "      <td>18</td>\n",
       "      <td>19.096498</td>\n",
       "      <td>1.096498</td>\n",
       "    </tr>\n",
       "    <tr>\n",
       "      <th>35</th>\n",
       "      <td>6</td>\n",
       "      <td>4.489605</td>\n",
       "      <td>1.510395</td>\n",
       "    </tr>\n",
       "    <tr>\n",
       "      <th>249</th>\n",
       "      <td>23</td>\n",
       "      <td>21.286789</td>\n",
       "      <td>1.713211</td>\n",
       "    </tr>\n",
       "    <tr>\n",
       "      <th>187</th>\n",
       "      <td>13</td>\n",
       "      <td>15.321151</td>\n",
       "      <td>2.321151</td>\n",
       "    </tr>\n",
       "    <tr>\n",
       "      <th>3</th>\n",
       "      <td>5</td>\n",
       "      <td>7.657880</td>\n",
       "      <td>2.657880</td>\n",
       "    </tr>\n",
       "    <tr>\n",
       "      <th>175</th>\n",
       "      <td>19</td>\n",
       "      <td>15.946173</td>\n",
       "      <td>3.053827</td>\n",
       "    </tr>\n",
       "    <tr>\n",
       "      <th>89</th>\n",
       "      <td>13</td>\n",
       "      <td>16.473428</td>\n",
       "      <td>3.473428</td>\n",
       "    </tr>\n",
       "    <tr>\n",
       "      <th>147</th>\n",
       "      <td>23</td>\n",
       "      <td>19.323315</td>\n",
       "      <td>3.676685</td>\n",
       "    </tr>\n",
       "    <tr>\n",
       "      <th>71</th>\n",
       "      <td>12</td>\n",
       "      <td>15.780865</td>\n",
       "      <td>3.780865</td>\n",
       "    </tr>\n",
       "    <tr>\n",
       "      <th>208</th>\n",
       "      <td>5</td>\n",
       "      <td>9.287153</td>\n",
       "      <td>4.287153</td>\n",
       "    </tr>\n",
       "    <tr>\n",
       "      <th>166</th>\n",
       "      <td>22</td>\n",
       "      <td>17.693678</td>\n",
       "      <td>4.306322</td>\n",
       "    </tr>\n",
       "    <tr>\n",
       "      <th>30</th>\n",
       "      <td>4</td>\n",
       "      <td>8.393076</td>\n",
       "      <td>4.393076</td>\n",
       "    </tr>\n",
       "    <tr>\n",
       "      <th>173</th>\n",
       "      <td>15</td>\n",
       "      <td>9.501852</td>\n",
       "      <td>5.498148</td>\n",
       "    </tr>\n",
       "    <tr>\n",
       "      <th>64</th>\n",
       "      <td>24</td>\n",
       "      <td>18.428831</td>\n",
       "      <td>5.571169</td>\n",
       "    </tr>\n",
       "    <tr>\n",
       "      <th>84</th>\n",
       "      <td>23</td>\n",
       "      <td>16.109914</td>\n",
       "      <td>6.890086</td>\n",
       "    </tr>\n",
       "    <tr>\n",
       "      <th>228</th>\n",
       "      <td>29</td>\n",
       "      <td>21.702985</td>\n",
       "      <td>7.297015</td>\n",
       "    </tr>\n",
       "    <tr>\n",
       "      <th>126</th>\n",
       "      <td>4</td>\n",
       "      <td>12.161329</td>\n",
       "      <td>8.161329</td>\n",
       "    </tr>\n",
       "    <tr>\n",
       "      <th>98</th>\n",
       "      <td>32</td>\n",
       "      <td>23.771942</td>\n",
       "      <td>8.228058</td>\n",
       "    </tr>\n",
       "    <tr>\n",
       "      <th>244</th>\n",
       "      <td>31</td>\n",
       "      <td>18.138990</td>\n",
       "      <td>12.861010</td>\n",
       "    </tr>\n",
       "    <tr>\n",
       "      <th>10</th>\n",
       "      <td>32</td>\n",
       "      <td>17.823409</td>\n",
       "      <td>14.176591</td>\n",
       "    </tr>\n",
       "  </tbody>\n",
       "</table>\n",
       "</div>"
      ],
      "text/plain": [
       "     y_test     y_pred       diff\n",
       "257      24  24.160677   0.160677\n",
       "247      20  20.270597   0.270597\n",
       "217      24  23.545812   0.454188\n",
       "184      21  20.526044   0.473956\n",
       "183      19  18.510507   0.489493\n",
       "144       8   8.618924   0.618924\n",
       "127      11  11.869629   0.869629\n",
       "53       18  19.096498   1.096498\n",
       "35        6   4.489605   1.510395\n",
       "249      23  21.286789   1.713211\n",
       "187      13  15.321151   2.321151\n",
       "3         5   7.657880   2.657880\n",
       "175      19  15.946173   3.053827\n",
       "89       13  16.473428   3.473428\n",
       "147      23  19.323315   3.676685\n",
       "71       12  15.780865   3.780865\n",
       "208       5   9.287153   4.287153\n",
       "166      22  17.693678   4.306322\n",
       "30        4   8.393076   4.393076\n",
       "173      15   9.501852   5.498148\n",
       "64       24  18.428831   5.571169\n",
       "84       23  16.109914   6.890086\n",
       "228      29  21.702985   7.297015\n",
       "126       4  12.161329   8.161329\n",
       "98       32  23.771942   8.228058\n",
       "244      31  18.138990  12.861010\n",
       "10       32  17.823409  14.176591"
      ]
     },
     "execution_count": 26,
     "metadata": {},
     "output_type": "execute_result"
    }
   ],
   "source": [
    "new_df"
   ]
  },
  {
   "cell_type": "code",
   "execution_count": 29,
   "metadata": {},
   "outputs": [
    {
     "data": {
      "text/plain": [
       "4.01079111624278"
      ]
     },
     "execution_count": 29,
     "metadata": {},
     "output_type": "execute_result"
    }
   ],
   "source": [
    "new_df['diff'].mean()"
   ]
  },
  {
   "cell_type": "code",
   "execution_count": 30,
   "metadata": {},
   "outputs": [
    {
     "data": {
      "text/plain": [
       "3.473427505922057"
      ]
     },
     "execution_count": 30,
     "metadata": {},
     "output_type": "execute_result"
    }
   ],
   "source": [
    "new_df['diff'].median()"
   ]
  },
  {
   "cell_type": "code",
   "execution_count": null,
   "metadata": {},
   "outputs": [],
   "source": []
  }
 ],
 "metadata": {
  "kernelspec": {
   "display_name": "Python 3 (ipykernel)",
   "language": "python",
   "name": "python3"
  },
  "language_info": {
   "codemirror_mode": {
    "name": "ipython",
    "version": 3
   },
   "file_extension": ".py",
   "mimetype": "text/x-python",
   "name": "python",
   "nbconvert_exporter": "python",
   "pygments_lexer": "ipython3",
   "version": "3.9.12"
  }
 },
 "nbformat": 4,
 "nbformat_minor": 2
}
