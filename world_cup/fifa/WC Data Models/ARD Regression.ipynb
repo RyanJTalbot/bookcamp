{
 "cells": [
  {
   "cell_type": "code",
   "execution_count": 5,
   "metadata": {},
   "outputs": [],
   "source": [
    "import pandas as pd\n",
    "import numpy as np\n",
    "from sklearn.model_selection import train_test_split\n",
    "from sklearn.metrics import mean_squared_error\n",
    "from sklearn.metrics import r2_score\n",
    "from sklearn.metrics import mean_absolute_error\n",
    "from sklearn.metrics import mean_absolute_percentage_error\n",
    "\n",
    "from sklearn import linear_model"
   ]
  },
  {
   "cell_type": "code",
   "execution_count": 6,
   "metadata": {},
   "outputs": [],
   "source": [
    "# df = pd.read_csv('wc-wo-outliers.csv')\n",
    "# df2 = pd.read_csv('wc-w-outliers.csv')\n",
    "df = pd.read_csv('WC-stats.csv')"
   ]
  },
  {
   "cell_type": "code",
   "execution_count": 7,
   "metadata": {},
   "outputs": [],
   "source": [
    "# df2.shape"
   ]
  },
  {
   "cell_type": "code",
   "execution_count": 8,
   "metadata": {},
   "outputs": [],
   "source": [
    "y = df['results']\n",
    "X = df.drop(columns=['results'])\n",
    "\n",
    "X_train, X_test, y_train, y_test = train_test_split(\n",
    "     X, y, test_size=0.20, random_state=1)"
   ]
  },
  {
   "cell_type": "code",
   "execution_count": 9,
   "metadata": {},
   "outputs": [],
   "source": [
    "# y2 = df2['results']\n",
    "# X2 = df2.drop(columns=['results'])\n",
    "\n",
    "# X_train2, X_test2, y_train2, y_test2 = train_test_split(\n",
    "#      X2, y2, test_size=0.20, random_state=1)"
   ]
  },
  {
   "cell_type": "code",
   "execution_count": 10,
   "metadata": {},
   "outputs": [],
   "source": [
    "clf = linear_model.ARDRegression()\n",
    "# clf2 = linear_model.ARDRegression()"
   ]
  },
  {
   "cell_type": "code",
   "execution_count": 11,
   "metadata": {},
   "outputs": [
    {
     "data": {
      "text/plain": [
       "ARDRegression()"
      ]
     },
     "execution_count": 11,
     "metadata": {},
     "output_type": "execute_result"
    }
   ],
   "source": [
    "clf.fit(X_train, y_train)\n",
    "# clf2.fit(X_train2, y_train2)"
   ]
  },
  {
   "cell_type": "code",
   "execution_count": 12,
   "metadata": {},
   "outputs": [],
   "source": [
    "pred_train= clf.predict(X_train)\n",
    "pred_test= clf.predict(X_test)"
   ]
  },
  {
   "cell_type": "code",
   "execution_count": 13,
   "metadata": {},
   "outputs": [],
   "source": [
    "# pred_train= clf2.predict(X_train2)\n",
    "# pred_test= clf2.predict(X_test2)"
   ]
  },
  {
   "cell_type": "code",
   "execution_count": 14,
   "metadata": {},
   "outputs": [
    {
     "name": "stdout",
     "output_type": "stream",
     "text": [
      "---------------------\n",
      "RMSE : 6.800157374752796\n",
      "R2 : 0.4496243312627486\n",
      "MSE: 46.24214032140484\n",
      "MAE: 5.750944266734739\n",
      "MAPE: 0.990259872771853\n"
     ]
    }
   ],
   "source": [
    "# print('RMSE : '+str(np.sqrt(mean_squared_error(y_test2,pred_test2)))) \n",
    "# print('R2 : '+str(r2_score(y_test2, pred_test2)))\n",
    "# print('MSE: '+str(mean_squared_error(y_test2, pred_test2)))\n",
    "# print('MAE: '+str(mean_absolute_error(y_test2, pred_test2)))\n",
    "# print('MAPE: '+str(mean_absolute_percentage_error(y_test2, pred_test2)))\n",
    "\n",
    "print('---------------------')\n",
    "\n",
    "# pred_test= clf.predict(X_test)\n",
    "\n",
    "print('RMSE : '+str(np.sqrt(mean_squared_error(y_test,pred_test)))) \n",
    "print('R2 : '+str(r2_score(y_test, pred_test)))\n",
    "print('MSE: '+str(mean_squared_error(y_test, pred_test)))\n",
    "print('MAE: '+str(mean_absolute_error(y_test, pred_test)))\n",
    "print('MAPE: '+str(mean_absolute_percentage_error(y_test, pred_test)))"
   ]
  },
  {
   "cell_type": "code",
   "execution_count": null,
   "metadata": {},
   "outputs": [],
   "source": []
  }
 ],
 "metadata": {
  "kernelspec": {
   "display_name": "Python 3 (ipykernel)",
   "language": "python",
   "name": "python3"
  },
  "language_info": {
   "codemirror_mode": {
    "name": "ipython",
    "version": 3
   },
   "file_extension": ".py",
   "mimetype": "text/x-python",
   "name": "python",
   "nbconvert_exporter": "python",
   "pygments_lexer": "ipython3",
   "version": "3.9.12"
  }
 },
 "nbformat": 4,
 "nbformat_minor": 2
}
