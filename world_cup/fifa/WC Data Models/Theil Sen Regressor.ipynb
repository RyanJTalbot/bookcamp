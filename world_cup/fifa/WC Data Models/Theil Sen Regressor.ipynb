{
 "cells": [
  {
   "cell_type": "code",
   "execution_count": 1,
   "metadata": {},
   "outputs": [],
   "source": [
    "import pandas as pd\n",
    "import numpy as np\n",
    "from sklearn.model_selection import train_test_split\n",
    "from sklearn.metrics import mean_squared_error\n",
    "from sklearn.metrics import r2_score\n",
    "from sklearn.metrics import mean_absolute_error\n",
    "from sklearn.metrics import mean_absolute_percentage_error\n",
    "\n",
    "from sklearn.linear_model import TheilSenRegressor"
   ]
  },
  {
   "cell_type": "code",
   "execution_count": 2,
   "metadata": {},
   "outputs": [],
   "source": [
    "df = pd.read_csv('WC-stats.csv')"
   ]
  },
  {
   "cell_type": "code",
   "execution_count": 3,
   "metadata": {},
   "outputs": [],
   "source": [
    "y = df['results']\n",
    "X = df.drop(columns=['results'])\n",
    "\n",
    "X_train, X_test, y_train, y_test = train_test_split(\n",
    "     X, y, test_size=0.10, random_state=2)"
   ]
  },
  {
   "cell_type": "code",
   "execution_count": 4,
   "metadata": {},
   "outputs": [],
   "source": [
    "reg = TheilSenRegressor(n_jobs=1, max_iter=9)"
   ]
  },
  {
   "cell_type": "code",
   "execution_count": 5,
   "metadata": {},
   "outputs": [
    {
     "data": {
      "text/plain": [
       "TheilSenRegressor(max_iter=9, max_subpopulation=10000, n_jobs=1)"
      ]
     },
     "execution_count": 5,
     "metadata": {},
     "output_type": "execute_result"
    }
   ],
   "source": [
    "reg.fit(X_train, y_train)"
   ]
  },
  {
   "cell_type": "code",
   "execution_count": 6,
   "metadata": {},
   "outputs": [],
   "source": [
    "pred_test= reg.predict(X_test)"
   ]
  },
  {
   "cell_type": "code",
   "execution_count": 7,
   "metadata": {},
   "outputs": [
    {
     "name": "stdout",
     "output_type": "stream",
     "text": [
      "RMSE : 5.490323512070716\n",
      "R2 : 0.5956217566010404\n",
      "MSE: 30.143652267196515\n",
      "MAE: 4.078785537059796\n",
      "MAPE: 0.315751818460062\n"
     ]
    }
   ],
   "source": [
    "print('RMSE : '+str(np.sqrt(mean_squared_error(y_test,pred_test)))) \n",
    "print('R2 : '+str(r2_score(y_test, pred_test)))\n",
    "print('MSE: '+str(mean_squared_error(y_test, pred_test)))\n",
    "print('MAE: '+str(mean_absolute_error(y_test, pred_test)))\n",
    "print('MAPE: '+str(mean_absolute_percentage_error(y_test, pred_test)))"
   ]
  },
  {
   "cell_type": "code",
   "execution_count": 8,
   "metadata": {},
   "outputs": [],
   "source": [
    "# MAPE: 0.3087420150445577 max_subpopulation=9000\n",
    "# MAPE: between 0.3061675796779334  and .31575"
   ]
  },
  {
   "cell_type": "code",
   "execution_count": 9,
   "metadata": {},
   "outputs": [],
   "source": [
    "data = {'y_test': y_test, 'y_pred': pred_test}\n",
    "new_df = pd.DataFrame(data)\n",
    "diff = (new_df['y_test'] - new_df['y_pred']).abs()\n",
    "new_df['diff'] = diff\n",
    "new_df = new_df.sort_values(by='diff', ascending=True)\n"
   ]
  },
  {
   "cell_type": "code",
   "execution_count": 10,
   "metadata": {},
   "outputs": [
    {
     "data": {
      "text/html": [
       "<div>\n",
       "<style scoped>\n",
       "    .dataframe tbody tr th:only-of-type {\n",
       "        vertical-align: middle;\n",
       "    }\n",
       "\n",
       "    .dataframe tbody tr th {\n",
       "        vertical-align: top;\n",
       "    }\n",
       "\n",
       "    .dataframe thead th {\n",
       "        text-align: right;\n",
       "    }\n",
       "</style>\n",
       "<table border=\"1\" class=\"dataframe\">\n",
       "  <thead>\n",
       "    <tr style=\"text-align: right;\">\n",
       "      <th></th>\n",
       "      <th>y_test</th>\n",
       "      <th>y_pred</th>\n",
       "      <th>diff</th>\n",
       "    </tr>\n",
       "  </thead>\n",
       "  <tbody>\n",
       "    <tr>\n",
       "      <th>184</th>\n",
       "      <td>21</td>\n",
       "      <td>21.137743</td>\n",
       "      <td>0.137743</td>\n",
       "    </tr>\n",
       "    <tr>\n",
       "      <th>71</th>\n",
       "      <td>12</td>\n",
       "      <td>12.281697</td>\n",
       "      <td>0.281697</td>\n",
       "    </tr>\n",
       "    <tr>\n",
       "      <th>249</th>\n",
       "      <td>23</td>\n",
       "      <td>22.399921</td>\n",
       "      <td>0.600079</td>\n",
       "    </tr>\n",
       "    <tr>\n",
       "      <th>187</th>\n",
       "      <td>13</td>\n",
       "      <td>12.304175</td>\n",
       "      <td>0.695825</td>\n",
       "    </tr>\n",
       "    <tr>\n",
       "      <th>127</th>\n",
       "      <td>11</td>\n",
       "      <td>10.110767</td>\n",
       "      <td>0.889233</td>\n",
       "    </tr>\n",
       "    <tr>\n",
       "      <th>247</th>\n",
       "      <td>20</td>\n",
       "      <td>18.951535</td>\n",
       "      <td>1.048465</td>\n",
       "    </tr>\n",
       "    <tr>\n",
       "      <th>183</th>\n",
       "      <td>19</td>\n",
       "      <td>20.158806</td>\n",
       "      <td>1.158806</td>\n",
       "    </tr>\n",
       "    <tr>\n",
       "      <th>217</th>\n",
       "      <td>24</td>\n",
       "      <td>25.414019</td>\n",
       "      <td>1.414019</td>\n",
       "    </tr>\n",
       "    <tr>\n",
       "      <th>53</th>\n",
       "      <td>18</td>\n",
       "      <td>19.470255</td>\n",
       "      <td>1.470255</td>\n",
       "    </tr>\n",
       "    <tr>\n",
       "      <th>144</th>\n",
       "      <td>8</td>\n",
       "      <td>6.125533</td>\n",
       "      <td>1.874467</td>\n",
       "    </tr>\n",
       "    <tr>\n",
       "      <th>208</th>\n",
       "      <td>5</td>\n",
       "      <td>7.082036</td>\n",
       "      <td>2.082036</td>\n",
       "    </tr>\n",
       "    <tr>\n",
       "      <th>175</th>\n",
       "      <td>19</td>\n",
       "      <td>16.847828</td>\n",
       "      <td>2.152172</td>\n",
       "    </tr>\n",
       "    <tr>\n",
       "      <th>30</th>\n",
       "      <td>4</td>\n",
       "      <td>6.363531</td>\n",
       "      <td>2.363531</td>\n",
       "    </tr>\n",
       "    <tr>\n",
       "      <th>166</th>\n",
       "      <td>22</td>\n",
       "      <td>19.229010</td>\n",
       "      <td>2.770990</td>\n",
       "    </tr>\n",
       "    <tr>\n",
       "      <th>257</th>\n",
       "      <td>24</td>\n",
       "      <td>27.665137</td>\n",
       "      <td>3.665137</td>\n",
       "    </tr>\n",
       "    <tr>\n",
       "      <th>3</th>\n",
       "      <td>5</td>\n",
       "      <td>8.901999</td>\n",
       "      <td>3.901999</td>\n",
       "    </tr>\n",
       "    <tr>\n",
       "      <th>35</th>\n",
       "      <td>6</td>\n",
       "      <td>1.859060</td>\n",
       "      <td>4.140940</td>\n",
       "    </tr>\n",
       "    <tr>\n",
       "      <th>147</th>\n",
       "      <td>23</td>\n",
       "      <td>18.123841</td>\n",
       "      <td>4.876159</td>\n",
       "    </tr>\n",
       "    <tr>\n",
       "      <th>98</th>\n",
       "      <td>32</td>\n",
       "      <td>26.813043</td>\n",
       "      <td>5.186957</td>\n",
       "    </tr>\n",
       "    <tr>\n",
       "      <th>64</th>\n",
       "      <td>24</td>\n",
       "      <td>18.617540</td>\n",
       "      <td>5.382460</td>\n",
       "    </tr>\n",
       "    <tr>\n",
       "      <th>89</th>\n",
       "      <td>13</td>\n",
       "      <td>18.987191</td>\n",
       "      <td>5.987191</td>\n",
       "    </tr>\n",
       "    <tr>\n",
       "      <th>84</th>\n",
       "      <td>23</td>\n",
       "      <td>16.670439</td>\n",
       "      <td>6.329561</td>\n",
       "    </tr>\n",
       "    <tr>\n",
       "      <th>126</th>\n",
       "      <td>4</td>\n",
       "      <td>11.800652</td>\n",
       "      <td>7.800652</td>\n",
       "    </tr>\n",
       "    <tr>\n",
       "      <th>173</th>\n",
       "      <td>15</td>\n",
       "      <td>7.092791</td>\n",
       "      <td>7.907209</td>\n",
       "    </tr>\n",
       "    <tr>\n",
       "      <th>228</th>\n",
       "      <td>29</td>\n",
       "      <td>20.383039</td>\n",
       "      <td>8.616961</td>\n",
       "    </tr>\n",
       "    <tr>\n",
       "      <th>244</th>\n",
       "      <td>31</td>\n",
       "      <td>18.980498</td>\n",
       "      <td>12.019502</td>\n",
       "    </tr>\n",
       "    <tr>\n",
       "      <th>10</th>\n",
       "      <td>32</td>\n",
       "      <td>16.626836</td>\n",
       "      <td>15.373164</td>\n",
       "    </tr>\n",
       "  </tbody>\n",
       "</table>\n",
       "</div>"
      ],
      "text/plain": [
       "     y_test     y_pred       diff\n",
       "184      21  21.137743   0.137743\n",
       "71       12  12.281697   0.281697\n",
       "249      23  22.399921   0.600079\n",
       "187      13  12.304175   0.695825\n",
       "127      11  10.110767   0.889233\n",
       "247      20  18.951535   1.048465\n",
       "183      19  20.158806   1.158806\n",
       "217      24  25.414019   1.414019\n",
       "53       18  19.470255   1.470255\n",
       "144       8   6.125533   1.874467\n",
       "208       5   7.082036   2.082036\n",
       "175      19  16.847828   2.152172\n",
       "30        4   6.363531   2.363531\n",
       "166      22  19.229010   2.770990\n",
       "257      24  27.665137   3.665137\n",
       "3         5   8.901999   3.901999\n",
       "35        6   1.859060   4.140940\n",
       "147      23  18.123841   4.876159\n",
       "98       32  26.813043   5.186957\n",
       "64       24  18.617540   5.382460\n",
       "89       13  18.987191   5.987191\n",
       "84       23  16.670439   6.329561\n",
       "126       4  11.800652   7.800652\n",
       "173      15   7.092791   7.907209\n",
       "228      29  20.383039   8.616961\n",
       "244      31  18.980498  12.019502\n",
       "10       32  16.626836  15.373164"
      ]
     },
     "execution_count": 10,
     "metadata": {},
     "output_type": "execute_result"
    }
   ],
   "source": [
    "new_df"
   ]
  },
  {
   "cell_type": "code",
   "execution_count": null,
   "metadata": {},
   "outputs": [],
   "source": []
  }
 ],
 "metadata": {
  "kernelspec": {
   "display_name": "Python 3 (ipykernel)",
   "language": "python",
   "name": "python3"
  },
  "language_info": {
   "codemirror_mode": {
    "name": "ipython",
    "version": 3
   },
   "file_extension": ".py",
   "mimetype": "text/x-python",
   "name": "python",
   "nbconvert_exporter": "python",
   "pygments_lexer": "ipython3",
   "version": "3.9.12"
  }
 },
 "nbformat": 4,
 "nbformat_minor": 2
}
