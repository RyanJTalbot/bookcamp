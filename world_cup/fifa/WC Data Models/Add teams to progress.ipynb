{
 "cells": [
  {
   "cell_type": "code",
   "execution_count": 1,
   "metadata": {},
   "outputs": [],
   "source": [
    "import pandas as pd\n",
    "import numpy as np\n",
    "import matplotlib.pyplot as plt\n",
    "import seaborn as sns\n",
    "import matplotlib.ticker as ticker\n",
    "import matplotlib.ticker as plticker\n",
    "from sklearn.model_selection import train_test_split\n",
    "from sklearn.linear_model import LogisticRegression\n",
    "\n",
    "import matplotlib.pyplot as pyplot\n",
    "import seaborn as sns"
   ]
  },
  {
   "cell_type": "code",
   "execution_count": 3,
   "metadata": {},
   "outputs": [],
   "source": [
    "years = [2018, 2014, 2010, 2006, 2002, 1998, 1994, 1990, 1986, 1982]"
   ]
  },
  {
   "cell_type": "code",
   "execution_count": 18,
   "metadata": {},
   "outputs": [],
   "source": [
    "comparisons = pd.read_csv('../world_cup_comparisons.csv')"
   ]
  },
  {
   "cell_type": "code",
   "execution_count": 19,
   "metadata": {},
   "outputs": [],
   "source": [
    "# teams_all = ['Italy', 'South Korea', 'Nigeria','Colombia','Paraguay',\n",
    "#              'Sweden','Russia','Scotland','Algeria','Chile','Greece',\n",
    "#              'Honduras','Austria','Bulgaria','USSR','Ivory Coast',               \n",
    "#              'Romania','Yugoslavia','South Africa','Rep of Ireland',\n",
    "#              'Czechoslovakia','Hungary','Egypt','Slovenia','Norway',                     \n",
    "#              'Northern Ireland','Peru','New Zealand','Bosnia and Herzegovina',     \n",
    "#              'Panama','Slovakia','Iraq','China PR','Jamaica','Turkey',                     \n",
    "#              'Ukraine','Bolivia','Trinidad and Tobago','Togo','Czech Republic',             \n",
    "#              'Angola','United Arab Emirates','Iceland','El Salvador','Kuwait',\n",
    "#              'North Korea', 'Mexico']"
   ]
  },
  {
   "cell_type": "code",
   "execution_count": 20,
   "metadata": {},
   "outputs": [],
   "source": [
    "# comparisons = comparisons.loc[comparisons['team'].isin(teams_all)]"
   ]
  },
  {
   "cell_type": "code",
   "execution_count": 21,
   "metadata": {},
   "outputs": [],
   "source": [
    "df = comparisons.drop(columns = ['player'])\n"
   ]
  },
  {
   "cell_type": "code",
   "execution_count": 22,
   "metadata": {},
   "outputs": [],
   "source": [
    "wc86 = df[df['season'] == 1986]"
   ]
  },
  {
   "cell_type": "code",
   "execution_count": 23,
   "metadata": {},
   "outputs": [
    {
     "data": {
      "text/plain": [
       "Belgium             20\n",
       "USSR                20\n",
       "France              20\n",
       "Scotland            19\n",
       "Uruguay             18\n",
       "Bulgaria            18\n",
       "Spain               18\n",
       "Hungary             18\n",
       "West Germany        17\n",
       "Poland              17\n",
       "England             17\n",
       "Iraq                17\n",
       "South Korea         16\n",
       "Algeria             16\n",
       "Argentina           16\n",
       "Denmark             16\n",
       "Canada              16\n",
       "Brazil              16\n",
       "Portugal            15\n",
       "Mexico              15\n",
       "Northern Ireland    14\n",
       "Italy               14\n",
       "Paraguay            13\n",
       "Morocco             13\n",
       "Name: team, dtype: int64"
      ]
     },
     "execution_count": 23,
     "metadata": {},
     "output_type": "execute_result"
    }
   ],
   "source": [
    "wc86['team'].value_counts()"
   ]
  },
  {
   "cell_type": "code",
   "execution_count": null,
   "metadata": {},
   "outputs": [],
   "source": []
  },
  {
   "cell_type": "code",
   "execution_count": null,
   "metadata": {},
   "outputs": [],
   "source": []
  },
  {
   "cell_type": "code",
   "execution_count": null,
   "metadata": {},
   "outputs": [],
   "source": []
  },
  {
   "cell_type": "code",
   "execution_count": null,
   "metadata": {},
   "outputs": [],
   "source": [
    "sko = ['South Korea']\n",
    "sko_year = df.loc[df[\"team\"].isin(sko)]\n",
    "sko_year['season'].value_counts()\n",
    "# 2018, 2014, 2010, 2006, 02, 98, 94, 90, 86, 82aa"
   ]
  },
  {
   "cell_type": "code",
   "execution_count": null,
   "metadata": {},
   "outputs": [],
   "source": [
    "sko18year = sko_year.loc[sko_year[\"season\"].isin(year2018)]\n",
    "sko18xg = sko18year.sort_values(by=[\"goals_z\"], ascending=False)\n",
    "sko18xg13 = sko18xg.head(13)\n",
    "sko18xg13 = sko18xg13.drop(columns=['season', 'team'])\n",
    "sko18 = sko18xg13.mean()"
   ]
  },
  {
   "cell_type": "code",
   "execution_count": null,
   "metadata": {},
   "outputs": [],
   "source": []
  }
 ],
 "metadata": {
  "kernelspec": {
   "display_name": "Python 3 (ipykernel)",
   "language": "python",
   "name": "python3"
  },
  "language_info": {
   "codemirror_mode": {
    "name": "ipython",
    "version": 3
   },
   "file_extension": ".py",
   "mimetype": "text/x-python",
   "name": "python",
   "nbconvert_exporter": "python",
   "pygments_lexer": "ipython3",
   "version": "3.9.12"
  }
 },
 "nbformat": 4,
 "nbformat_minor": 2
}
