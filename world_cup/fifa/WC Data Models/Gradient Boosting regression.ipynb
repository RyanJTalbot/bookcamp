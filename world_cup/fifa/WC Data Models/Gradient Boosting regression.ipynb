{
 "cells": [
  {
   "cell_type": "code",
   "execution_count": 1,
   "metadata": {},
   "outputs": [],
   "source": [
    "import pandas as pd\n",
    "import numpy as np\n",
    "from sklearn.model_selection import train_test_split\n",
    "from sklearn.metrics import mean_squared_error\n",
    "from sklearn.metrics import r2_score\n",
    "from sklearn.metrics import mean_absolute_error\n",
    "from sklearn.metrics import mean_absolute_percentage_error\n",
    "\n",
    "from sklearn import ensemble\n",
    "from sklearn.inspection import permutation_importance"
   ]
  },
  {
   "cell_type": "code",
   "execution_count": 2,
   "metadata": {},
   "outputs": [],
   "source": [
    "df = pd.read_csv('wc-wo-outliers.csv')"
   ]
  },
  {
   "cell_type": "code",
   "execution_count": 3,
   "metadata": {},
   "outputs": [],
   "source": [
    "y = df['results']\n",
    "X = df.drop(columns=['results'])\n",
    "\n",
    "X_train, X_test, y_train, y_test = train_test_split(\n",
    "     X, y, test_size=0.20, random_state=1)"
   ]
  },
  {
   "cell_type": "code",
   "execution_count": 4,
   "metadata": {},
   "outputs": [],
   "source": [
    "params = {\n",
    "    \"n_estimators\": 500,\n",
    "    \"max_depth\": 400,\n",
    "    \"min_samples_split\": 4,\n",
    "    \"learning_rate\": 0.0159,\n",
    "    \"loss\": \"squared_error\",\n",
    "    \"max_features\": 14,\n",
    "    \"min_weight_fraction_leaf\": 0.1,\n",
    "}"
   ]
  },
  {
   "cell_type": "code",
   "execution_count": 5,
   "metadata": {},
   "outputs": [
    {
     "name": "stdout",
     "output_type": "stream",
     "text": [
      "GRADIENT BOOSTING REGRESSION\n",
      "RMSE: 1.4085006065370824\n",
      "R Squared: 0.9771172309190482\n",
      "MSE : 1.983873958615329\n",
      "MAE : 0.9935352251162074\n",
      "MAPE: 0.17917003212808258\n",
      "-------------------\n",
      "RMSE: 8.317783919090752\n",
      "R Squared: 0.15316437878638034\n",
      "MSE TEST: 69.18552932468471\n",
      "MAE TEST: 6.239568070180534\n",
      "MAPE: 0.7352778300900868\n"
     ]
    }
   ],
   "source": [
    "reg = ensemble.GradientBoostingRegressor(**params)\n",
    "reg.fit(X_train, y_train)\n",
    "\n",
    "# mse = mean_squared_error(y_test, reg.predict(X_test))\n",
    "predictions = reg.predict(X_train)\n",
    "\n",
    "print('GRADIENT BOOSTING REGRESSION')\n",
    "# print(\"The mean squared error (MSE) on test set: {:.4f}\".format(mse))\n",
    "\n",
    "\n",
    "print('RMSE: '+str(np.sqrt(mean_squared_error(y_train, predictions))))\n",
    "print('R Squared: '+str(r2_score(y_train, predictions)))\n",
    "print('MSE : '+str(mean_squared_error(y_train, predictions)))\n",
    "print('MAE : '+str(mean_absolute_error(y_train, predictions)))\n",
    "print('MAPE: '+str(mean_absolute_percentage_error(y_train, predictions)))\n",
    "\n",
    "print('-------------------')\n",
    "\n",
    "\n",
    "test_pred = reg.predict(X_test)\n",
    "\n",
    "print('RMSE: '+str(np.sqrt(mean_squared_error(y_test, test_pred))))\n",
    "print('R Squared: '+str(r2_score(y_test, test_pred)))\n",
    "print('MSE TEST: '+str(mean_squared_error(y_test, test_pred)))\n",
    "print('MAE TEST: '+str(mean_absolute_error(y_test, test_pred)))\n",
    "print('MAPE: '+str(mean_absolute_percentage_error(y_test, test_pred)))\n"
   ]
  },
  {
   "cell_type": "code",
   "execution_count": 6,
   "metadata": {},
   "outputs": [],
   "source": [
    "new = 72259"
   ]
  },
  {
   "cell_type": "code",
   "execution_count": 7,
   "metadata": {},
   "outputs": [
    {
     "data": {
      "text/plain": [
       "7322001"
      ]
     },
     "execution_count": 7,
     "metadata": {},
     "output_type": "execute_result"
    }
   ],
   "source": [
    "7322001"
   ]
  }
 ],
 "metadata": {
  "kernelspec": {
   "display_name": "Python 3 (ipykernel)",
   "language": "python",
   "name": "python3"
  },
  "language_info": {
   "codemirror_mode": {
    "name": "ipython",
    "version": 3
   },
   "file_extension": ".py",
   "mimetype": "text/x-python",
   "name": "python",
   "nbconvert_exporter": "python",
   "pygments_lexer": "ipython3",
   "version": "3.9.12"
  }
 },
 "nbformat": 4,
 "nbformat_minor": 2
}
