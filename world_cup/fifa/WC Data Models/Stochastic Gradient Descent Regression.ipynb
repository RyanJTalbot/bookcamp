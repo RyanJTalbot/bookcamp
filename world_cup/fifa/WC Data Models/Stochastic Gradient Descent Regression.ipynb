{
 "cells": [
  {
   "cell_type": "code",
   "execution_count": 1,
   "metadata": {},
   "outputs": [],
   "source": [
    "import pandas as pd\n",
    "import numpy as np\n",
    "from sklearn.model_selection import train_test_split\n",
    "from sklearn.metrics import mean_squared_error\n",
    "from sklearn.metrics import r2_score\n",
    "from sklearn.metrics import mean_absolute_error\n",
    "from sklearn.metrics import mean_absolute_percentage_error\n",
    "\n",
    "from sklearn.linear_model import SGDRegressor\n",
    "from sklearn.pipeline import make_pipeline\n",
    "from sklearn.preprocessing import StandardScaler"
   ]
  },
  {
   "cell_type": "code",
   "execution_count": 2,
   "metadata": {},
   "outputs": [],
   "source": [
    "df = pd.read_csv('wc-wo-outliers.csv')"
   ]
  },
  {
   "cell_type": "code",
   "execution_count": 3,
   "metadata": {},
   "outputs": [],
   "source": [
    "y = df['results']\n",
    "X = df.drop(columns=['results'])\n",
    "\n",
    "X_train, X_test, y_train, y_test = train_test_split(\n",
    "     X, y, test_size=0.20, random_state=1)"
   ]
  },
  {
   "cell_type": "code",
   "execution_count": 4,
   "metadata": {},
   "outputs": [],
   "source": [
    "n_samples, n_features = 10, 5\n",
    "\n",
    "# Always scale the input. The most convenient way is to use a pipeline.\n",
    "reg = make_pipeline(StandardScaler(),\n",
    "                    SGDRegressor(max_iter=1000, tol=1e-3))"
   ]
  },
  {
   "cell_type": "code",
   "execution_count": 5,
   "metadata": {},
   "outputs": [
    {
     "data": {
      "text/plain": [
       "Pipeline(steps=[('standardscaler', StandardScaler()),\n",
       "                ('sgdregressor', SGDRegressor())])"
      ]
     },
     "execution_count": 5,
     "metadata": {},
     "output_type": "execute_result"
    }
   ],
   "source": [
    "reg.fit(X_train, y_train)"
   ]
  },
  {
   "cell_type": "code",
   "execution_count": 6,
   "metadata": {},
   "outputs": [
    {
     "data": {
      "text/plain": [
       "0.22127707138424924"
      ]
     },
     "execution_count": 6,
     "metadata": {},
     "output_type": "execute_result"
    }
   ],
   "source": [
    "reg.score(X_test, y_test, sample_weight=None)"
   ]
  },
  {
   "cell_type": "code",
   "execution_count": 7,
   "metadata": {},
   "outputs": [],
   "source": [
    "pred_train= reg.predict(X_train)\n",
    "predictions = reg.predict(X_test)"
   ]
  },
  {
   "cell_type": "code",
   "execution_count": 8,
   "metadata": {},
   "outputs": [
    {
     "name": "stdout",
     "output_type": "stream",
     "text": [
      "Stochastic Gradient Descent Regression\n",
      "RMSE: 6.375387212025714\n",
      "R Squared: 0.49622651760551373\n",
      "MSE: 40.645562103261014\n",
      "MAE: 5.2048301220510425\n",
      "MAPE: 0.8477046414296767\n",
      "--------------------\n",
      "RMSE: 7.5633978036404415\n",
      "R Squared: 0.22127707138424924\n",
      "MSE: 57.20498633611305\n",
      "MAE: 6.364266400748778\n",
      "MAPE: 0.8947413432409581\n"
     ]
    }
   ],
   "source": [
    "print('Stochastic Gradient Descent Regression')\n",
    "print('RMSE: '+str(np.sqrt(mean_squared_error(y_train,pred_train))))\n",
    "print('R Squared: '+str(r2_score(y_train, pred_train)))\n",
    "print('MSE: '+str(mean_squared_error(y_train, pred_train)))\n",
    "print('MAE: '+str(mean_absolute_error(y_train, pred_train)))\n",
    "print('MAPE: '+str(mean_absolute_percentage_error(y_train, pred_train)))\n",
    "\n",
    "print('--------------------')\n",
    "print('RMSE: '+str(np.sqrt(mean_squared_error(y_test,predictions))))\n",
    "print('R Squared: '+str(r2_score(y_test, predictions)))\n",
    "print('MSE: '+str(mean_squared_error(y_test, predictions)))\n",
    "print('MAE: '+str(mean_absolute_error(y_test, predictions)))\n",
    "print('MAPE: '+str(mean_absolute_percentage_error(y_test, predictions)))"
   ]
  },
  {
   "cell_type": "code",
   "execution_count": null,
   "metadata": {},
   "outputs": [],
   "source": []
  }
 ],
 "metadata": {
  "kernelspec": {
   "display_name": "Python 3 (ipykernel)",
   "language": "python",
   "name": "python3"
  },
  "language_info": {
   "codemirror_mode": {
    "name": "ipython",
    "version": 3
   },
   "file_extension": ".py",
   "mimetype": "text/x-python",
   "name": "python",
   "nbconvert_exporter": "python",
   "pygments_lexer": "ipython3",
   "version": "3.9.12"
  }
 },
 "nbformat": 4,
 "nbformat_minor": 2
}
