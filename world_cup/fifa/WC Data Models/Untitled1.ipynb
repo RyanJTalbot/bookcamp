{
 "cells": [
  {
   "cell_type": "markdown",
   "metadata": {},
   "source": [
    "## Assess Model\n",
    "- rmse\n",
    "- rse\n",
    "- r2\n",
    "- t-statistic\n",
    "- p-value\n",
    "- F-statistic?\n",
    "- k-fold cross-validation"
   ]
  },
  {
   "cell_type": "markdown",
   "metadata": {},
   "source": [
    "# Model Selection\n",
    "- AIC\n",
    "- AICc\n",
    "- BIC (Bayesian information criteria\n",
    "- Mallows Cp\n",
    "- all subset regression\n",
    "- stepwise regression\n",
    "    - backward elimination\n",
    "- forward and backward seleciton\n",
    "- Penalized regression\n",
    "    - ridge and lasso fall under this category\n",
    "    "
   ]
  },
  {
   "cell_type": "markdown",
   "metadata": {},
   "source": [
    "- correlated predictors\n"
   ]
  }
 ],
 "metadata": {
  "kernelspec": {
   "display_name": "Python 3 (ipykernel)",
   "language": "python",
   "name": "python3"
  },
  "language_info": {
   "codemirror_mode": {
    "name": "ipython",
    "version": 3
   },
   "file_extension": ".py",
   "mimetype": "text/x-python",
   "name": "python",
   "nbconvert_exporter": "python",
   "pygments_lexer": "ipython3",
   "version": "3.9.12"
  }
 },
 "nbformat": 4,
 "nbformat_minor": 2
}
