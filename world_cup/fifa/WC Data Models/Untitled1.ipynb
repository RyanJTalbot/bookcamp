{
 "cells": [
  {
   "cell_type": "markdown",
   "metadata": {},
   "source": [
    "## Assess Model\n",
    "- rmse\n",
    "- rse\n",
    "- r2\n",
    "- t-statistic\n",
    "- p-value\n",
    "- F-statistic?\n",
    "- k-fold cross-validation"
   ]
  },
  {
   "cell_type": "markdown",
   "metadata": {},
   "source": [
    "# Model Selection\n",
    "- AIC\n",
    "- AICc\n",
    "- BIC (Bayesian information criteria\n",
    "- Mallows Cp\n",
    "- all subset regression\n",
    "- stepwise regression\n",
    "    - backward elimination\n",
    "- forward and backward seleciton\n",
    "- Penalized regression\n",
    "    - ridge and lasso fall under this category\n",
    "    "
   ]
  },
  {
   "cell_type": "markdown",
   "metadata": {},
   "source": [
    "- correlated predictors\n"
   ]
  },
  {
   "cell_type": "markdown",
   "metadata": {},
   "source": [
    "\n",
    "    Coaching Change - was there a change in coach during the offseason (Yes or No)\n",
    "    Conference in which the team plays (East or West)\n",
    "    Expansion Team - is the team an expansion team (Yes or No)\n",
    "    Average Age of Roster\n",
    "    Shots per 90 minutes\n",
    "    Shots on Goal per 90 minutes\n",
    "    Fouls Committed per 90 minutes\n",
    "    Fouls Received per 90 minutes\n",
    "    Corners per 90 minutes\n",
    "    Offsides per 90 minutes\n",
    "    Penalty Kicks Won\n",
    "    Penalty Kicks Conceded\n",
    "    Total Team Salary\n",
    "    Number of Home Grown Players\n",
    "    Number of Designated Players\n",
    "    The Salary of those Designated Players\n",
    "    Average Attendance\n",
    "    Percentage of Stadium Filled on Average (using MLS capacity numbers, not stadium max)\n"
   ]
  },
  {
   "cell_type": "markdown",
   "metadata": {},
   "source": [
    "The features that are taken into account in the main models are:\n",
    "\n",
    "    Date\n",
    "    Indicator of home field advantage\n",
    "    Teams skills\n",
    "    Tournament importance (ex: Friendly Game rated as 1, Euro or World Cup Game rated as 8, etc.)\n",
    "    Confederation of opponent\n",
    "    Indicator showing if team is in list of “special playstyles” (compsition of the list is selected to maximize prediction accuracy)\n",
    "    Interaction term skill difference x tournament importance"
   ]
  },
  {
   "cell_type": "markdown",
   "metadata": {},
   "source": [
    "All of these options are useful error measures to compare regressions:\n",
    "# a. ROC index\n"
   ]
  },
  {
   "cell_type": "code",
   "execution_count": null,
   "metadata": {},
   "outputs": [],
   "source": []
  }
 ],
 "metadata": {
  "kernelspec": {
   "display_name": "Python 3 (ipykernel)",
   "language": "python",
   "name": "python3"
  },
  "language_info": {
   "codemirror_mode": {
    "name": "ipython",
    "version": 3
   },
   "file_extension": ".py",
   "mimetype": "text/x-python",
   "name": "python",
   "nbconvert_exporter": "python",
   "pygments_lexer": "ipython3",
   "version": "3.9.12"
  }
 },
 "nbformat": 4,
 "nbformat_minor": 2
}
