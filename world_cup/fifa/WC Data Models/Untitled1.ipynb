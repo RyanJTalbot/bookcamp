{
 "cells": [
  {
   "cell_type": "markdown",
   "metadata": {},
   "source": [
    "## Assess Model\n",
    "- rmse\n",
    "- rse\n",
    "- r2\n",
    "- t-statistic\n",
    "- p-value\n",
    "- F-statistic?\n",
    "- k-fold cross-validation"
   ]
  },
  {
   "cell_type": "markdown",
   "metadata": {},
   "source": [
    "# Model Selection\n",
    "- AIC\n",
    "- AICc\n",
    "- BIC (Bayesian information criteria\n",
    "- Mallows Cp\n",
    "- all subset regression\n",
    "- stepwise regression\n",
    "    - backward elimination\n",
    "- forward and backward seleciton\n",
    "- Penalized regression\n",
    "    - ridge and lasso fall under this category\n",
    "    "
   ]
  },
  {
   "cell_type": "markdown",
   "metadata": {},
   "source": [
    "- correlated predictors\n"
   ]
  },
  {
   "cell_type": "markdown",
   "metadata": {},
   "source": [
    "\n",
    "    Coaching Change - was there a change in coach during the offseason (Yes or No)\n",
    "    Conference in which the team plays (East or West)\n",
    "    Expansion Team - is the team an expansion team (Yes or No)\n",
    "    Average Age of Roster\n",
    "    Shots per 90 minutes\n",
    "    Shots on Goal per 90 minutes\n",
    "    Fouls Committed per 90 minutes\n",
    "    Fouls Received per 90 minutes\n",
    "    Corners per 90 minutes\n",
    "    Offsides per 90 minutes\n",
    "    Penalty Kicks Won\n",
    "    Penalty Kicks Conceded\n",
    "    Total Team Salary\n",
    "    Number of Home Grown Players\n",
    "    Number of Designated Players\n",
    "    The Salary of those Designated Players\n",
    "    Average Attendance\n",
    "    Percentage of Stadium Filled on Average (using MLS capacity numbers, not stadium max)\n"
   ]
  },
  {
   "cell_type": "markdown",
   "metadata": {},
   "source": [
    "The features that are taken into account in the main models are:\n",
    "\n",
    "    Date\n",
    "    Indicator of home field advantage\n",
    "    Teams skills\n",
    "    Tournament importance (ex: Friendly Game rated as 1, Euro or World Cup Game rated as 8, etc.)\n",
    "    Confederation of opponent\n",
    "    Indicator showing if team is in list of “special playstyles” (compsition of the list is selected to maximize prediction accuracy)\n",
    "    Interaction term skill difference x tournament importance"
   ]
  },
  {
   "cell_type": "markdown",
   "metadata": {},
   "source": [
    "All of these options are useful error measures to compare regressions:\n",
    "# a. ROC index\n"
   ]
  },
  {
   "cell_type": "markdown",
   "metadata": {},
   "source": [
    "## Difference between a Models parameters vs a Models Attributes\n"
   ]
  },
  {
   "cell_type": "markdown",
   "metadata": {},
   "source": [
    "## params\n",
    "\n",
    "We mostly use parameter to refer to the aspects of an estimator that can be specified in its construction. For example, max_depth and random_state are parameters of RandomForestClassifier. Parameters to an estimator’s constructor are stored unmodified as attributes on the estimator instance, and conventionally start with an alphabetic character and end with an alphanumeric character. Each estimator’s constructor parameters are described in the estimator’s docstring.\n",
    "\n",
    "We do not use parameters in the statistical sense, where parameters are values that specify a model and can be estimated from data. What we call parameters might be what statisticians call hyperparameters to the model: aspects for configuring model structure that are often not directly learnt from data. However, our parameters are also used to prescribe modeling operations that do not affect the learnt model, such as n_jobs for controlling parallelism.\n",
    "\n",
    "When talking about the parameters of a meta-estimator, we may also be including the parameters of the estimators wrapped by the meta-estimator. Ordinarily, these nested parameters are denoted by using a double underscore (__) to separate between the estimator-as-parameter and its parameter. Thus clf = BaggingClassifier(base_estimator=DecisionTreeClassifier(max_depth=3)) has a deep parameter base_estimator__max_depth with value 3, which is accessible with clf.base_estimator.max_depth or clf.get_params()['base_estimator__max_depth'].\n",
    "\n",
    "The list of parameters and their current values can be retrieved from an estimator instance using its get_params method.\n",
    "\n",
    "Between construction and fitting, parameters may be modified using set_params. To enable this, parameters are not ordinarily validated or altered when the estimator is constructed, or when each parameter is set. Parameter validation is performed when fit is called.\n",
    "\n",
    "Common parameters are listed below.\n"
   ]
  },
  {
   "cell_type": "markdown",
   "metadata": {},
   "source": [
    "## attributes\n",
    "\n",
    "We mostly use attribute to refer to how model information is stored on an estimator during fitting. Any public attribute stored on an estimator instance is required to begin with an alphabetic character and end in a single underscore if it is set in fit or partial_fit. These are what is documented under an estimator’s Attributes documentation. The information stored in attributes is usually either: sufficient statistics used for prediction or transformation; transductive outputs such as labels_ or embedding_; or diagnostic data, such as feature_importances_. Common attributes are listed below.\n",
    "\n",
    "A public attribute may have the same name as a constructor parameter, with a _ appended. This is used to store a validated or estimated version of the user’s input. For example, decomposition.PCA is constructed with an n_components parameter. From this, together with other parameters and the data, PCA estimates the attribute n_components_.\n",
    "\n",
    "Further private attributes used in prediction/transformation/etc. may also be set when fitting. These begin with a single underscore and are not assured to be stable for public access.\n",
    "\n",
    "A public attribute on an estimator instance that does not end in an underscore should be the stored, unmodified value of an __init__ parameter of the same name. Because of this equivalence, these are documented under an estimator’s Parameters documentation.\n"
   ]
  },
  {
   "cell_type": "code",
   "execution_count": null,
   "metadata": {},
   "outputs": [],
   "source": []
  }
 ],
 "metadata": {
  "kernelspec": {
   "display_name": "Python 3 (ipykernel)",
   "language": "python",
   "name": "python3"
  },
  "language_info": {
   "codemirror_mode": {
    "name": "ipython",
    "version": 3
   },
   "file_extension": ".py",
   "mimetype": "text/x-python",
   "name": "python",
   "nbconvert_exporter": "python",
   "pygments_lexer": "ipython3",
   "version": "3.9.12"
  }
 },
 "nbformat": 4,
 "nbformat_minor": 2
}
