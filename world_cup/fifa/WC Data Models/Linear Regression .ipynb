{
 "cells": [
  {
   "cell_type": "code",
   "execution_count": 29,
   "metadata": {},
   "outputs": [],
   "source": [
    "#                                  OLS Regression Results                                \n",
    "# =======================================================================================\n",
    "# Dep. Variable:                results   R-squared (uncentered):                   0.316\n",
    "# Model:                            OLS   Adj. R-squared (uncentered):              0.232\n",
    "# Method:                 Least Squares   F-statistic:                              3.781\n",
    "# Date:                Sun, 18 Sep 2022   Prob (F-statistic):                    9.88e-06\n",
    "# Time:                        11:29:27   Log-Likelihood:                         -602.64\n",
    "# No. Observations:                 147   AIC:                                      1237.\n",
    "# Df Residuals:                     131   BIC:                                      1285.\n",
    "# Df Model:                          16                                                  \n",
    "# Covariance Type:            nonrobust                                                  \n",
    "# ===================================================================================\n",
    "#                       coef    std err          t      P>|t|      [0.025      0.975]\n",
    "\n",
    "\n",
    "# Omnibus:                        3.493   Durbin-Watson:                   1.122\n",
    "# Prob(Omnibus):                  0.174   Jarque-Bera (JB):                2.831\n",
    "# Skew:                           0.223   Prob(JB):                        0.243\n",
    "# Kurtosis:                       2.487   Cond. No.                         6.79"
   ]
  },
  {
   "cell_type": "code",
   "execution_count": 25,
   "metadata": {},
   "outputs": [],
   "source": [
    "import pandas as pd\n",
    "import numpy as np\n",
    "from sklearn.model_selection import train_test_split\n",
    "from sklearn.metrics import mean_squared_error\n",
    "from sklearn.metrics import r2_score\n",
    "from sklearn.metrics import mean_absolute_error\n",
    "from sklearn.metrics import mean_absolute_percentage_error\n",
    "\n",
    "from sklearn import linear_model\n",
    "import statsmodels.api as sm\n",
    "import matplotlib.pyplot as plt\n",
    "import numpy as np\n",
    "import pandas as pd\n",
    "import statsmodels.api as sm"
   ]
  },
  {
   "cell_type": "code",
   "execution_count": 2,
   "metadata": {},
   "outputs": [],
   "source": [
    "df = pd.read_csv('wc-wo-outliers.csv')"
   ]
  },
  {
   "cell_type": "code",
   "execution_count": 11,
   "metadata": {},
   "outputs": [],
   "source": [
    "new_X = df.drop(columns=['results'])"
   ]
  },
  {
   "cell_type": "code",
   "execution_count": 12,
   "metadata": {},
   "outputs": [
    {
     "data": {
      "text/html": [
       "<div>\n",
       "<style scoped>\n",
       "    .dataframe tbody tr th:only-of-type {\n",
       "        vertical-align: middle;\n",
       "    }\n",
       "\n",
       "    .dataframe tbody tr th {\n",
       "        vertical-align: top;\n",
       "    }\n",
       "\n",
       "    .dataframe thead th {\n",
       "        text-align: right;\n",
       "    }\n",
       "</style>\n",
       "<table border=\"1\" class=\"dataframe\">\n",
       "  <thead>\n",
       "    <tr style=\"text-align: right;\">\n",
       "      <th></th>\n",
       "      <th>goals_z</th>\n",
       "      <th>xg_z</th>\n",
       "      <th>crosses_z</th>\n",
       "      <th>boxtouches_z</th>\n",
       "      <th>passes_z</th>\n",
       "      <th>progpasses_z</th>\n",
       "      <th>takeons_z</th>\n",
       "      <th>progruns_z</th>\n",
       "      <th>tackles_z</th>\n",
       "      <th>interceptions_z</th>\n",
       "      <th>clearances_z</th>\n",
       "      <th>blocks_z</th>\n",
       "      <th>aerials_z</th>\n",
       "      <th>fouls_z</th>\n",
       "      <th>fouled_z</th>\n",
       "      <th>nsxg_z</th>\n",
       "    </tr>\n",
       "  </thead>\n",
       "  <tbody>\n",
       "    <tr>\n",
       "      <th>0</th>\n",
       "      <td>0.423077</td>\n",
       "      <td>0.146923</td>\n",
       "      <td>-0.136154</td>\n",
       "      <td>-0.030000</td>\n",
       "      <td>0.429231</td>\n",
       "      <td>0.037692</td>\n",
       "      <td>0.244615</td>\n",
       "      <td>-0.220000</td>\n",
       "      <td>0.216154</td>\n",
       "      <td>0.270000</td>\n",
       "      <td>-0.076923</td>\n",
       "      <td>-0.097692</td>\n",
       "      <td>-0.020000</td>\n",
       "      <td>-0.224615</td>\n",
       "      <td>0.100769</td>\n",
       "      <td>-0.124615</td>\n",
       "    </tr>\n",
       "    <tr>\n",
       "      <th>1</th>\n",
       "      <td>0.245385</td>\n",
       "      <td>0.097692</td>\n",
       "      <td>0.549231</td>\n",
       "      <td>0.490000</td>\n",
       "      <td>0.090769</td>\n",
       "      <td>0.071538</td>\n",
       "      <td>-0.473077</td>\n",
       "      <td>-0.150769</td>\n",
       "      <td>0.096923</td>\n",
       "      <td>0.277692</td>\n",
       "      <td>-0.153077</td>\n",
       "      <td>-0.212308</td>\n",
       "      <td>0.033846</td>\n",
       "      <td>-0.145385</td>\n",
       "      <td>-0.036154</td>\n",
       "      <td>0.487692</td>\n",
       "    </tr>\n",
       "    <tr>\n",
       "      <th>2</th>\n",
       "      <td>0.337692</td>\n",
       "      <td>0.270000</td>\n",
       "      <td>0.292308</td>\n",
       "      <td>0.281538</td>\n",
       "      <td>0.065385</td>\n",
       "      <td>-0.142308</td>\n",
       "      <td>-0.076923</td>\n",
       "      <td>0.430000</td>\n",
       "      <td>0.688462</td>\n",
       "      <td>0.002308</td>\n",
       "      <td>0.020769</td>\n",
       "      <td>0.165385</td>\n",
       "      <td>-0.075385</td>\n",
       "      <td>0.193077</td>\n",
       "      <td>0.087692</td>\n",
       "      <td>0.393846</td>\n",
       "    </tr>\n",
       "    <tr>\n",
       "      <th>3</th>\n",
       "      <td>0.673077</td>\n",
       "      <td>0.642308</td>\n",
       "      <td>0.502308</td>\n",
       "      <td>0.277692</td>\n",
       "      <td>0.310000</td>\n",
       "      <td>0.146923</td>\n",
       "      <td>0.153077</td>\n",
       "      <td>0.081538</td>\n",
       "      <td>0.814615</td>\n",
       "      <td>0.464615</td>\n",
       "      <td>-0.150769</td>\n",
       "      <td>-0.007692</td>\n",
       "      <td>-0.060769</td>\n",
       "      <td>-0.220000</td>\n",
       "      <td>0.006154</td>\n",
       "      <td>0.387692</td>\n",
       "    </tr>\n",
       "    <tr>\n",
       "      <th>4</th>\n",
       "      <td>0.114615</td>\n",
       "      <td>0.155385</td>\n",
       "      <td>0.271538</td>\n",
       "      <td>0.330769</td>\n",
       "      <td>-0.015385</td>\n",
       "      <td>0.028462</td>\n",
       "      <td>0.128462</td>\n",
       "      <td>0.109231</td>\n",
       "      <td>0.130769</td>\n",
       "      <td>0.056923</td>\n",
       "      <td>-0.232308</td>\n",
       "      <td>-0.146923</td>\n",
       "      <td>-0.023077</td>\n",
       "      <td>0.078462</td>\n",
       "      <td>0.532308</td>\n",
       "      <td>0.140769</td>\n",
       "    </tr>\n",
       "    <tr>\n",
       "      <th>...</th>\n",
       "      <td>...</td>\n",
       "      <td>...</td>\n",
       "      <td>...</td>\n",
       "      <td>...</td>\n",
       "      <td>...</td>\n",
       "      <td>...</td>\n",
       "      <td>...</td>\n",
       "      <td>...</td>\n",
       "      <td>...</td>\n",
       "      <td>...</td>\n",
       "      <td>...</td>\n",
       "      <td>...</td>\n",
       "      <td>...</td>\n",
       "      <td>...</td>\n",
       "      <td>...</td>\n",
       "      <td>...</td>\n",
       "    </tr>\n",
       "    <tr>\n",
       "      <th>179</th>\n",
       "      <td>-0.080769</td>\n",
       "      <td>-0.243846</td>\n",
       "      <td>-0.133846</td>\n",
       "      <td>-0.276154</td>\n",
       "      <td>0.096154</td>\n",
       "      <td>0.124615</td>\n",
       "      <td>-0.200769</td>\n",
       "      <td>0.102308</td>\n",
       "      <td>0.060000</td>\n",
       "      <td>-0.073077</td>\n",
       "      <td>0.062308</td>\n",
       "      <td>-0.343077</td>\n",
       "      <td>-0.007692</td>\n",
       "      <td>-0.325385</td>\n",
       "      <td>-0.152308</td>\n",
       "      <td>-0.331538</td>\n",
       "    </tr>\n",
       "    <tr>\n",
       "      <th>180</th>\n",
       "      <td>-0.066923</td>\n",
       "      <td>-0.147692</td>\n",
       "      <td>0.028462</td>\n",
       "      <td>-0.050000</td>\n",
       "      <td>-0.076154</td>\n",
       "      <td>0.314615</td>\n",
       "      <td>-0.224615</td>\n",
       "      <td>0.122308</td>\n",
       "      <td>-0.207692</td>\n",
       "      <td>0.190769</td>\n",
       "      <td>0.413846</td>\n",
       "      <td>-0.044615</td>\n",
       "      <td>-0.035385</td>\n",
       "      <td>-0.173846</td>\n",
       "      <td>-0.323846</td>\n",
       "      <td>-0.006923</td>\n",
       "    </tr>\n",
       "    <tr>\n",
       "      <th>181</th>\n",
       "      <td>-0.066154</td>\n",
       "      <td>-0.143846</td>\n",
       "      <td>-0.150769</td>\n",
       "      <td>0.256154</td>\n",
       "      <td>0.185385</td>\n",
       "      <td>0.366923</td>\n",
       "      <td>-0.002308</td>\n",
       "      <td>0.240000</td>\n",
       "      <td>0.542308</td>\n",
       "      <td>0.206154</td>\n",
       "      <td>0.380769</td>\n",
       "      <td>0.153077</td>\n",
       "      <td>0.009231</td>\n",
       "      <td>-0.100769</td>\n",
       "      <td>0.133077</td>\n",
       "      <td>-0.080769</td>\n",
       "    </tr>\n",
       "    <tr>\n",
       "      <th>182</th>\n",
       "      <td>-0.193846</td>\n",
       "      <td>-0.290769</td>\n",
       "      <td>-0.075385</td>\n",
       "      <td>-0.372308</td>\n",
       "      <td>-0.380000</td>\n",
       "      <td>-0.211538</td>\n",
       "      <td>-0.340000</td>\n",
       "      <td>-0.636923</td>\n",
       "      <td>-0.611538</td>\n",
       "      <td>-0.588462</td>\n",
       "      <td>0.342308</td>\n",
       "      <td>-0.099231</td>\n",
       "      <td>0.266154</td>\n",
       "      <td>-0.360000</td>\n",
       "      <td>-0.209231</td>\n",
       "      <td>-0.310000</td>\n",
       "    </tr>\n",
       "    <tr>\n",
       "      <th>183</th>\n",
       "      <td>-0.044615</td>\n",
       "      <td>-0.314615</td>\n",
       "      <td>-0.078462</td>\n",
       "      <td>-0.232308</td>\n",
       "      <td>-0.153077</td>\n",
       "      <td>-0.076154</td>\n",
       "      <td>0.004615</td>\n",
       "      <td>-0.446154</td>\n",
       "      <td>-0.537692</td>\n",
       "      <td>-0.330000</td>\n",
       "      <td>0.531538</td>\n",
       "      <td>-0.081538</td>\n",
       "      <td>-0.033077</td>\n",
       "      <td>0.741538</td>\n",
       "      <td>0.106923</td>\n",
       "      <td>-0.129231</td>\n",
       "    </tr>\n",
       "  </tbody>\n",
       "</table>\n",
       "<p>184 rows × 16 columns</p>\n",
       "</div>"
      ],
      "text/plain": [
       "      goals_z      xg_z  crosses_z  boxtouches_z  passes_z  progpasses_z  \\\n",
       "0    0.423077  0.146923  -0.136154     -0.030000  0.429231      0.037692   \n",
       "1    0.245385  0.097692   0.549231      0.490000  0.090769      0.071538   \n",
       "2    0.337692  0.270000   0.292308      0.281538  0.065385     -0.142308   \n",
       "3    0.673077  0.642308   0.502308      0.277692  0.310000      0.146923   \n",
       "4    0.114615  0.155385   0.271538      0.330769 -0.015385      0.028462   \n",
       "..        ...       ...        ...           ...       ...           ...   \n",
       "179 -0.080769 -0.243846  -0.133846     -0.276154  0.096154      0.124615   \n",
       "180 -0.066923 -0.147692   0.028462     -0.050000 -0.076154      0.314615   \n",
       "181 -0.066154 -0.143846  -0.150769      0.256154  0.185385      0.366923   \n",
       "182 -0.193846 -0.290769  -0.075385     -0.372308 -0.380000     -0.211538   \n",
       "183 -0.044615 -0.314615  -0.078462     -0.232308 -0.153077     -0.076154   \n",
       "\n",
       "     takeons_z  progruns_z  tackles_z  interceptions_z  clearances_z  \\\n",
       "0     0.244615   -0.220000   0.216154         0.270000     -0.076923   \n",
       "1    -0.473077   -0.150769   0.096923         0.277692     -0.153077   \n",
       "2    -0.076923    0.430000   0.688462         0.002308      0.020769   \n",
       "3     0.153077    0.081538   0.814615         0.464615     -0.150769   \n",
       "4     0.128462    0.109231   0.130769         0.056923     -0.232308   \n",
       "..         ...         ...        ...              ...           ...   \n",
       "179  -0.200769    0.102308   0.060000        -0.073077      0.062308   \n",
       "180  -0.224615    0.122308  -0.207692         0.190769      0.413846   \n",
       "181  -0.002308    0.240000   0.542308         0.206154      0.380769   \n",
       "182  -0.340000   -0.636923  -0.611538        -0.588462      0.342308   \n",
       "183   0.004615   -0.446154  -0.537692        -0.330000      0.531538   \n",
       "\n",
       "     blocks_z  aerials_z   fouls_z  fouled_z    nsxg_z  \n",
       "0   -0.097692  -0.020000 -0.224615  0.100769 -0.124615  \n",
       "1   -0.212308   0.033846 -0.145385 -0.036154  0.487692  \n",
       "2    0.165385  -0.075385  0.193077  0.087692  0.393846  \n",
       "3   -0.007692  -0.060769 -0.220000  0.006154  0.387692  \n",
       "4   -0.146923  -0.023077  0.078462  0.532308  0.140769  \n",
       "..        ...        ...       ...       ...       ...  \n",
       "179 -0.343077  -0.007692 -0.325385 -0.152308 -0.331538  \n",
       "180 -0.044615  -0.035385 -0.173846 -0.323846 -0.006923  \n",
       "181  0.153077   0.009231 -0.100769  0.133077 -0.080769  \n",
       "182 -0.099231   0.266154 -0.360000 -0.209231 -0.310000  \n",
       "183 -0.081538  -0.033077  0.741538  0.106923 -0.129231  \n",
       "\n",
       "[184 rows x 16 columns]"
      ]
     },
     "execution_count": 12,
     "metadata": {},
     "output_type": "execute_result"
    }
   ],
   "source": [
    "new_X"
   ]
  },
  {
   "cell_type": "code",
   "execution_count": 13,
   "metadata": {},
   "outputs": [],
   "source": [
    "y = df['results']\n",
    "\n",
    "X_tr, X_tt, y_tr, y_tt = train_test_split(\n",
    "     new_X, y, test_size=0.20, random_state=1)"
   ]
  },
  {
   "cell_type": "code",
   "execution_count": 14,
   "metadata": {},
   "outputs": [],
   "source": [
    "y = df['results']\n",
    "X = df.drop(columns=['results'])\n",
    "\n",
    "X_train, X_test, y_train, y_test = train_test_split(\n",
    "     X, y, test_size=0.20, random_state=1)"
   ]
  },
  {
   "cell_type": "code",
   "execution_count": 15,
   "metadata": {},
   "outputs": [],
   "source": [
    "reg = linear_model.LinearRegression()\n",
    "reg.fit(X_train, y_train)\n",
    "pred_train= reg.predict(X_train)"
   ]
  },
  {
   "cell_type": "code",
   "execution_count": 16,
   "metadata": {},
   "outputs": [],
   "source": [
    "reg = linear_model.LinearRegression()\n",
    "reg.fit(X_tr, y_tr)\n",
    "pred_new= reg.predict(X_tr)"
   ]
  },
  {
   "cell_type": "markdown",
   "metadata": {},
   "source": [
    "Theres no clear difference between using all the features or a few features. mape goes back and forth depending on the random_state value"
   ]
  },
  {
   "cell_type": "code",
   "execution_count": 17,
   "metadata": {},
   "outputs": [
    {
     "name": "stdout",
     "output_type": "stream",
     "text": [
      "RMSE : 7.313588408701075\n",
      "R2 : 0.32155561150656986\n",
      "MSE: 53.48857541188672\n",
      "MAE: 6.190975448358605\n",
      "MAPE: 1.056767915202244\n"
     ]
    }
   ],
   "source": [
    "# print('Linear Regression ')\n",
    "# print('---------------------')\n",
    "# print('RMSE: '+str(np.sqrt(mean_squared_error(y_train,pred_train))))\n",
    "# print('R Squared: '+str(r2_score(y_train, pred_train)))\n",
    "# print('MSE: '+str(mean_squared_error(y_train, pred_train)))\n",
    "# print('MAE: '+str(mean_absolute_error(y_train, pred_train)))\n",
    "# print('MAPE: '+str(mean_absolute_percentage_error(y_train, pred_train)))\n",
    "\n",
    "# print('---------------------')\n",
    "\n",
    "pred_test= reg.predict(X_test)\n",
    "\n",
    "print('RMSE : '+str(np.sqrt(mean_squared_error(y_test,pred_test)))) \n",
    "print('R2 : '+str(r2_score(y_test, pred_test)))\n",
    "print('MSE: '+str(mean_squared_error(y_test, pred_test)))\n",
    "print('MAE: '+str(mean_absolute_error(y_test, pred_test)))\n",
    "print('MAPE: '+str(mean_absolute_percentage_error(y_test, pred_test)))"
   ]
  },
  {
   "cell_type": "code",
   "execution_count": 31,
   "metadata": {},
   "outputs": [
    {
     "name": "stdout",
     "output_type": "stream",
     "text": [
      "                                 OLS Regression Results                                \n",
      "=======================================================================================\n",
      "Dep. Variable:                results   R-squared (uncentered):                   0.316\n",
      "Model:                            OLS   Adj. R-squared (uncentered):              0.232\n",
      "Method:                 Least Squares   F-statistic:                              3.781\n",
      "Date:                Sun, 18 Sep 2022   Prob (F-statistic):                    9.88e-06\n",
      "Time:                        18:04:58   Log-Likelihood:                         -602.64\n",
      "No. Observations:                 147   AIC:                                      1237.\n",
      "Df Residuals:                     131   BIC:                                      1285.\n",
      "Df Model:                          16                                                  \n",
      "Covariance Type:            nonrobust                                                  \n",
      "===================================================================================\n",
      "                      coef    std err          t      P>|t|      [0.025      0.975]\n",
      "-----------------------------------------------------------------------------------\n",
      "goals_z            -6.7264      6.410     -1.049      0.296     -19.406       5.953\n",
      "xg_z               12.1549      8.703      1.397      0.165      -5.062      29.372\n",
      "crosses_z          15.8940      8.110      1.960      0.052      -0.149      31.937\n",
      "boxtouches_z       27.7500      9.771      2.840      0.005       8.420      47.080\n",
      "passes_z           14.1678      9.433      1.502      0.136      -4.492      32.828\n",
      "progpasses_z      -18.2098      9.163     -1.987      0.049     -36.336      -0.084\n",
      "takeons_z           1.6452      6.240      0.264      0.792     -10.700      13.990\n",
      "progruns_z          2.0372      5.931      0.344      0.732      -9.695      13.769\n",
      "tackles_z          -7.5220      5.967     -1.261      0.210     -19.327       4.283\n",
      "interceptions_z    -1.8678      6.172     -0.303      0.763     -14.078      10.342\n",
      "clearances_z       10.4657      7.635      1.371      0.173      -4.638      25.569\n",
      "blocks_z           -9.0222      6.834     -1.320      0.189     -22.542       4.497\n",
      "aerials_z           2.1866      6.643      0.329      0.743     -10.954      15.328\n",
      "fouls_z             6.9648      5.109      1.363      0.175      -3.142      17.072\n",
      "fouled_z           10.5443      5.711      1.846      0.067      -0.753      21.841\n",
      "nsxg_z            -31.3430     11.559     -2.712      0.008     -54.210      -8.476\n",
      "==============================================================================\n",
      "Omnibus:                        3.493   Durbin-Watson:                   1.122\n",
      "Prob(Omnibus):                  0.174   Jarque-Bera (JB):                2.831\n",
      "Skew:                           0.223   Prob(JB):                        0.243\n",
      "Kurtosis:                       2.487   Cond. No.                         6.79\n",
      "==============================================================================\n",
      "\n",
      "Notes:\n",
      "[1] R² is computed without centering (uncentered) since the model does not contain a constant.\n",
      "[2] Standard Errors assume that the covariance matrix of the errors is correctly specified.\n"
     ]
    }
   ],
   "source": [
    "model = sm.OLS(y_train, X_train)\n",
    "results = model.fit()\n",
    "print(results.summary())\n",
    "\n",
    "# https://www.statsmodels.org/dev/examples/notebooks/generated/ols.html\n"
   ]
  },
  {
   "cell_type": "code",
   "execution_count": 18,
   "metadata": {},
   "outputs": [
    {
     "name": "stdout",
     "output_type": "stream",
     "text": [
      "Linear Regression \n",
      "---------------------\n",
      "RMSE: 6.579236560582229\n",
      "R Squared: 0.4575845582345789\n",
      "MSE: 43.286353720101886\n",
      "MAE: 5.445821401520943\n",
      "MAPE: 0.8212018104777041\n",
      "---------------------\n",
      "RMSE : 7.313588408701075\n",
      "R2 : 0.32155561150656986\n",
      "MSE: 53.48857541188672\n",
      "MAE: 6.190975448358605\n",
      "MAPE: 1.056767915202244\n"
     ]
    }
   ],
   "source": [
    "print('Linear Regression ')\n",
    "print('---------------------')\n",
    "print('RMSE: '+str(np.sqrt(mean_squared_error(y_tr,pred_new))))\n",
    "print('R Squared: '+str(r2_score(y_tr, pred_new)))\n",
    "print('MSE: '+str(mean_squared_error(y_tr, pred_new)))\n",
    "print('MAE: '+str(mean_absolute_error(y_tr, pred_new)))\n",
    "print('MAPE: '+str(mean_absolute_percentage_error(y_tr, pred_new)))\n",
    "\n",
    "print('---------------------')\n",
    "\n",
    "pred_tt= reg.predict(X_tt)\n",
    "\n",
    "print('RMSE : '+str(np.sqrt(mean_squared_error(y_tt,pred_tt)))) \n",
    "print('R2 : '+str(r2_score(y_tt, pred_tt)))\n",
    "print('MSE: '+str(mean_squared_error(y_tt, pred_tt)))\n",
    "print('MAE: '+str(mean_absolute_error(y_tt, pred_tt)))\n",
    "print('MAPE: '+str(mean_absolute_percentage_error(y_tt, pred_tt)))"
   ]
  },
  {
   "cell_type": "code",
   "execution_count": 19,
   "metadata": {},
   "outputs": [],
   "source": [
    "x_train = X_train[['goals_z', 'xg_z', 'tackles_z', 'nsxg_z']]"
   ]
  },
  {
   "cell_type": "code",
   "execution_count": 20,
   "metadata": {},
   "outputs": [],
   "source": [
    "x_test = X_test[['goals_z', 'xg_z', 'tackles_z', 'nsxg_z']]"
   ]
  },
  {
   "cell_type": "code",
   "execution_count": 21,
   "metadata": {},
   "outputs": [],
   "source": [
    "reg.fit(x_train, y_train)\n",
    "pred_train= reg.predict(x_train)"
   ]
  },
  {
   "cell_type": "code",
   "execution_count": 22,
   "metadata": {},
   "outputs": [
    {
     "name": "stdout",
     "output_type": "stream",
     "text": [
      "Linear Regression \n",
      "---------------------\n",
      "RMSE: 6.7559220831846405\n",
      "R Squared: 0.4280602185838347\n",
      "MSE: 45.64248319406189\n",
      "MAE: 5.630387090633862\n",
      "MAPE: 0.8641609743558922\n",
      "---------------------\n",
      "RMSE : 7.387770211766454\n",
      "R2 : 0.3077228757657464\n",
      "MSE: 54.57914870186375\n",
      "MAE: 6.33870065693538\n",
      "MAPE: 1.1000763785952064\n"
     ]
    }
   ],
   "source": [
    "print('Linear Regression ')\n",
    "print('---------------------')\n",
    "print('RMSE: '+str(np.sqrt(mean_squared_error(y_train,pred_train))))\n",
    "print('R Squared: '+str(r2_score(y_train, pred_train)))\n",
    "print('MSE: '+str(mean_squared_error(y_train, pred_train)))\n",
    "print('MAE: '+str(mean_absolute_error(y_train, pred_train)))\n",
    "print('MAPE: '+str(mean_absolute_percentage_error(y_train, pred_train)))\n",
    "\n",
    "print('---------------------')\n",
    "\n",
    "pred_test= reg.predict(x_test)\n",
    "\n",
    "print('RMSE : '+str(np.sqrt(mean_squared_error(y_test,pred_test)))) \n",
    "print('R2 : '+str(r2_score(y_test, pred_test)))\n",
    "print('MSE: '+str(mean_squared_error(y_test, pred_test)))\n",
    "print('MAE: '+str(mean_absolute_error(y_test, pred_test)))\n",
    "print('MAPE: '+str(mean_absolute_percentage_error(y_test, pred_test)))"
   ]
  },
  {
   "cell_type": "markdown",
   "metadata": {},
   "source": [
    "the lowest MAPE value, which tells us that it’s able to forecast the most accurately among the potential models."
   ]
  },
  {
   "cell_type": "code",
   "execution_count": null,
   "metadata": {},
   "outputs": [],
   "source": []
  },
  {
   "cell_type": "code",
   "execution_count": 10,
   "metadata": {},
   "outputs": [
    {
     "name": "stdout",
     "output_type": "stream",
     "text": [
      "Mean Squared Log Error: 0.5892030828713158\n"
     ]
    }
   ],
   "source": [
    "from sklearn.metrics import mean_squared_log_error\n",
    "print('Mean Squared Log Error: ' +str(mean_squared_log_error( y_test, pred_test, squared=False)))"
   ]
  },
  {
   "cell_type": "code",
   "execution_count": 12,
   "metadata": {},
   "outputs": [],
   "source": [
    "# #display adjusted R-squared\n",
    "# print('Adjusted r^2: ' +str(1 - (1-reg.score(X_train, y_train))*(len(y_train)-1)/(len(y_train)-X_train.shape[1]-1)))"
   ]
  },
  {
   "cell_type": "markdown",
   "metadata": {},
   "source": [
    "The value for R-squared can range from 0 to 1. A value of 0 indicates that the response variable cannot be explained by the predictor variable at all while a value of 1 indicates that the response variable can be perfectly explained without error by the predictor variables."
   ]
  },
  {
   "cell_type": "markdown",
   "metadata": {},
   "source": [
    "- AIC stands for (Akaike’s Information Criteria), a metric developped by the Japanese Statistician, Hirotugu Akaike, 1970. The basic idea of AIC is to penalize the inclusion of additional variables to a model. It adds a penalty that increases the error when including additional terms. The lower the AIC, the better the model.\n",
    "- AICc is a version of AIC corrected for small sample sizes.\n",
    "- BIC (or Bayesian information criteria) is a variant of AIC with a stronger penalty for including additional variables to the model.\n",
    "- Mallows Cp: A variant of AIC developed by Colin Mallows.\n"
   ]
  },
  {
   "cell_type": "markdown",
   "metadata": {},
   "source": [
    "# AIC"
   ]
  },
  {
   "cell_type": "code",
   "execution_count": 13,
   "metadata": {},
   "outputs": [],
   "source": [
    "import statsmodels.api as sm"
   ]
  },
  {
   "cell_type": "code",
   "execution_count": 14,
   "metadata": {},
   "outputs": [
    {
     "name": "stdout",
     "output_type": "stream",
     "text": [
      "AIC: 804.0899081188967\n"
     ]
    }
   ],
   "source": [
    "#add constant to predictor variables\n",
    "X_train = sm.add_constant(X_train)\n",
    "\n",
    "#fit regression model\n",
    "model = sm.OLS(y_train, X_train).fit()\n",
    "\n",
    "#view AIC of model\n",
    "print('AIC: '+str(model.aic))"
   ]
  },
  {
   "cell_type": "code",
   "execution_count": 15,
   "metadata": {},
   "outputs": [
    {
     "data": {
      "text/html": [
       "<div>\n",
       "<style scoped>\n",
       "    .dataframe tbody tr th:only-of-type {\n",
       "        vertical-align: middle;\n",
       "    }\n",
       "\n",
       "    .dataframe tbody tr th {\n",
       "        vertical-align: top;\n",
       "    }\n",
       "\n",
       "    .dataframe thead th {\n",
       "        text-align: right;\n",
       "    }\n",
       "</style>\n",
       "<table border=\"1\" class=\"dataframe\">\n",
       "  <thead>\n",
       "    <tr style=\"text-align: right;\">\n",
       "      <th></th>\n",
       "      <th>const</th>\n",
       "      <th>goals_z</th>\n",
       "      <th>xg_z</th>\n",
       "      <th>crosses_z</th>\n",
       "      <th>boxtouches_z</th>\n",
       "      <th>passes_z</th>\n",
       "      <th>progpasses_z</th>\n",
       "      <th>takeons_z</th>\n",
       "      <th>progruns_z</th>\n",
       "      <th>tackles_z</th>\n",
       "      <th>interceptions_z</th>\n",
       "      <th>clearances_z</th>\n",
       "      <th>blocks_z</th>\n",
       "      <th>aerials_z</th>\n",
       "      <th>fouls_z</th>\n",
       "      <th>fouled_z</th>\n",
       "      <th>nsxg_z</th>\n",
       "    </tr>\n",
       "  </thead>\n",
       "  <tbody>\n",
       "    <tr>\n",
       "      <th>126</th>\n",
       "      <td>1.0</td>\n",
       "      <td>-0.018462</td>\n",
       "      <td>0.184615</td>\n",
       "      <td>0.168462</td>\n",
       "      <td>0.276923</td>\n",
       "      <td>-0.106923</td>\n",
       "      <td>-0.225385</td>\n",
       "      <td>0.138462</td>\n",
       "      <td>0.063846</td>\n",
       "      <td>-0.024615</td>\n",
       "      <td>-0.153846</td>\n",
       "      <td>-0.119231</td>\n",
       "      <td>0.056923</td>\n",
       "      <td>0.285385</td>\n",
       "      <td>-0.036923</td>\n",
       "      <td>-0.293077</td>\n",
       "      <td>0.228462</td>\n",
       "    </tr>\n",
       "    <tr>\n",
       "      <th>97</th>\n",
       "      <td>1.0</td>\n",
       "      <td>0.198462</td>\n",
       "      <td>-0.116154</td>\n",
       "      <td>-0.090000</td>\n",
       "      <td>-0.013077</td>\n",
       "      <td>0.193077</td>\n",
       "      <td>0.132308</td>\n",
       "      <td>0.010769</td>\n",
       "      <td>0.395385</td>\n",
       "      <td>0.102308</td>\n",
       "      <td>0.802308</td>\n",
       "      <td>-0.154615</td>\n",
       "      <td>-0.013077</td>\n",
       "      <td>0.016154</td>\n",
       "      <td>0.668462</td>\n",
       "      <td>0.585385</td>\n",
       "      <td>-0.030000</td>\n",
       "    </tr>\n",
       "    <tr>\n",
       "      <th>42</th>\n",
       "      <td>1.0</td>\n",
       "      <td>0.214615</td>\n",
       "      <td>0.523077</td>\n",
       "      <td>-0.176154</td>\n",
       "      <td>0.277692</td>\n",
       "      <td>-0.196923</td>\n",
       "      <td>-0.245385</td>\n",
       "      <td>-0.013846</td>\n",
       "      <td>-0.178462</td>\n",
       "      <td>-0.228462</td>\n",
       "      <td>-0.250000</td>\n",
       "      <td>0.096154</td>\n",
       "      <td>0.032308</td>\n",
       "      <td>0.760769</td>\n",
       "      <td>-0.122308</td>\n",
       "      <td>0.119231</td>\n",
       "      <td>0.124615</td>\n",
       "    </tr>\n",
       "    <tr>\n",
       "      <th>135</th>\n",
       "      <td>1.0</td>\n",
       "      <td>0.766923</td>\n",
       "      <td>0.643846</td>\n",
       "      <td>-0.265385</td>\n",
       "      <td>0.230000</td>\n",
       "      <td>0.353077</td>\n",
       "      <td>-0.015385</td>\n",
       "      <td>0.496154</td>\n",
       "      <td>0.606923</td>\n",
       "      <td>0.446154</td>\n",
       "      <td>-0.096923</td>\n",
       "      <td>-0.128462</td>\n",
       "      <td>0.086923</td>\n",
       "      <td>-0.233846</td>\n",
       "      <td>0.180769</td>\n",
       "      <td>-0.118462</td>\n",
       "      <td>0.404615</td>\n",
       "    </tr>\n",
       "    <tr>\n",
       "      <th>28</th>\n",
       "      <td>1.0</td>\n",
       "      <td>0.332308</td>\n",
       "      <td>0.362308</td>\n",
       "      <td>-0.043846</td>\n",
       "      <td>0.316923</td>\n",
       "      <td>0.060000</td>\n",
       "      <td>0.019231</td>\n",
       "      <td>0.140769</td>\n",
       "      <td>0.210000</td>\n",
       "      <td>0.343846</td>\n",
       "      <td>0.276154</td>\n",
       "      <td>-0.057692</td>\n",
       "      <td>0.112308</td>\n",
       "      <td>-0.053846</td>\n",
       "      <td>0.143077</td>\n",
       "      <td>0.060769</td>\n",
       "      <td>0.192308</td>\n",
       "    </tr>\n",
       "  </tbody>\n",
       "</table>\n",
       "</div>"
      ],
      "text/plain": [
       "     const   goals_z      xg_z  crosses_z  boxtouches_z  passes_z  \\\n",
       "126    1.0 -0.018462  0.184615   0.168462      0.276923 -0.106923   \n",
       "97     1.0  0.198462 -0.116154  -0.090000     -0.013077  0.193077   \n",
       "42     1.0  0.214615  0.523077  -0.176154      0.277692 -0.196923   \n",
       "135    1.0  0.766923  0.643846  -0.265385      0.230000  0.353077   \n",
       "28     1.0  0.332308  0.362308  -0.043846      0.316923  0.060000   \n",
       "\n",
       "     progpasses_z  takeons_z  progruns_z  tackles_z  interceptions_z  \\\n",
       "126     -0.225385   0.138462    0.063846  -0.024615        -0.153846   \n",
       "97       0.132308   0.010769    0.395385   0.102308         0.802308   \n",
       "42      -0.245385  -0.013846   -0.178462  -0.228462        -0.250000   \n",
       "135     -0.015385   0.496154    0.606923   0.446154        -0.096923   \n",
       "28       0.019231   0.140769    0.210000   0.343846         0.276154   \n",
       "\n",
       "     clearances_z  blocks_z  aerials_z   fouls_z  fouled_z    nsxg_z  \n",
       "126     -0.119231  0.056923   0.285385 -0.036923 -0.293077  0.228462  \n",
       "97      -0.154615 -0.013077   0.016154  0.668462  0.585385 -0.030000  \n",
       "42       0.096154  0.032308   0.760769 -0.122308  0.119231  0.124615  \n",
       "135     -0.128462  0.086923  -0.233846  0.180769 -0.118462  0.404615  \n",
       "28      -0.057692  0.112308  -0.053846  0.143077  0.060769  0.192308  "
      ]
     },
     "execution_count": 15,
     "metadata": {},
     "output_type": "execute_result"
    }
   ],
   "source": [
    "X_train.head()"
   ]
  },
  {
   "cell_type": "code",
   "execution_count": 16,
   "metadata": {},
   "outputs": [],
   "source": [
    "new_x = X_train[['goals_z', 'boxtouches_z', 'fouls_z', 'fouled_z', 'blocks_z']]"
   ]
  },
  {
   "cell_type": "code",
   "execution_count": 17,
   "metadata": {},
   "outputs": [
    {
     "name": "stdout",
     "output_type": "stream",
     "text": [
      "794.4357164871906\n"
     ]
    }
   ],
   "source": [
    "#add constant to predictor variables\n",
    "new_x = sm.add_constant(new_x)\n",
    "\n",
    "#fit regression model\n",
    "model = sm.OLS(y_train, new_x).fit()\n",
    "\n",
    "#view AIC of model\n",
    "print(model.aic)"
   ]
  },
  {
   "cell_type": "markdown",
   "metadata": {},
   "source": [
    "for AIC - the model with a lower AIC value is the better fitting model. \n",
    "\n",
    "https://www.statology.org/aic-in-python/"
   ]
  },
  {
   "cell_type": "code",
   "execution_count": 18,
   "metadata": {},
   "outputs": [],
   "source": [
    "x = X_train[['goals_z', 'xg_z', 'tackles_z', 'nsxg_z']]"
   ]
  },
  {
   "cell_type": "code",
   "execution_count": 19,
   "metadata": {},
   "outputs": [
    {
     "name": "stdout",
     "output_type": "stream",
     "text": [
      "792.1161813534175\n"
     ]
    }
   ],
   "source": [
    "#add constant to predictor variables\n",
    "x = sm.add_constant(x)\n",
    "\n",
    "#fit regression model\n",
    "model = sm.OLS(y_train, x).fit()\n",
    "\n",
    "#view AIC of model\n",
    "print(model.aic)"
   ]
  },
  {
   "cell_type": "code",
   "execution_count": 20,
   "metadata": {},
   "outputs": [],
   "source": [
    "x_t = X_test[['goals_z', 'xg_z', 'tackles_z', 'nsxg_z']]"
   ]
  },
  {
   "cell_type": "code",
   "execution_count": 21,
   "metadata": {},
   "outputs": [
    {
     "name": "stdout",
     "output_type": "stream",
     "text": [
      "209.67105935243535\n"
     ]
    }
   ],
   "source": [
    "#add constant to predictor variables\n",
    "x_t = sm.add_constant(x_t)\n",
    "\n",
    "#fit regression model\n",
    "model = sm.OLS(y_test, x_t).fit()\n",
    "\n",
    "#view AIC of model\n",
    "print(model.aic)"
   ]
  },
  {
   "cell_type": "code",
   "execution_count": 22,
   "metadata": {},
   "outputs": [
    {
     "name": "stdout",
     "output_type": "stream",
     "text": [
      "222.00398789642531\n"
     ]
    }
   ],
   "source": [
    "#add constant to predictor variables\n",
    "x = sm.add_constant(X_test)\n",
    "\n",
    "#fit regression model\n",
    "model = sm.OLS(y_test, x).fit()\n",
    "\n",
    "#view AIC of model\n",
    "print(model.aic)"
   ]
  },
  {
   "cell_type": "code",
   "execution_count": 27,
   "metadata": {},
   "outputs": [
    {
     "data": {
      "text/plain": [
       "Index(['goals_z', 'xg_z', 'crosses_z', 'boxtouches_z', 'passes_z',\n",
       "       'progpasses_z', 'takeons_z', 'progruns_z', 'tackles_z',\n",
       "       'interceptions_z', 'clearances_z', 'blocks_z', 'aerials_z', 'fouls_z',\n",
       "       'fouled_z', 'nsxg_z', 'results'],\n",
       "      dtype='object')"
      ]
     },
     "execution_count": 27,
     "metadata": {},
     "output_type": "execute_result"
    }
   ],
   "source": [
    "df.columns"
   ]
  },
  {
   "cell_type": "code",
   "execution_count": 86,
   "metadata": {},
   "outputs": [],
   "source": [
    "x_t = X_test[['goals_z', 'xg_z', 'nsxg_z','clearances_z', \n",
    "              'progpasses_z', 'interceptions_z']]"
   ]
  },
  {
   "cell_type": "code",
   "execution_count": 87,
   "metadata": {},
   "outputs": [
    {
     "name": "stdout",
     "output_type": "stream",
     "text": [
      "205.04062985068555\n"
     ]
    }
   ],
   "source": [
    "#add constant to predictor variables\n",
    "x_t = sm.add_constant(x_t)\n",
    "\n",
    "#fit regression model\n",
    "model = sm.OLS(y_test, x_t).fit()\n",
    "\n",
    "#view AIC of model\n",
    "print(model.aic)"
   ]
  },
  {
   "cell_type": "markdown",
   "metadata": {},
   "source": [
    "- <b>205.0406 = ['goals_z', 'xg_z', 'nsxg_z','clearances_z', 'progpasses_z', 'interceptions_z']</b>\n",
    "- 209.6710 = ['goals_z', 'xg_z', 'tackles_z', 'nsxg_z']\n",
    "- 222.0039 = all features"
   ]
  },
  {
   "cell_type": "markdown",
   "metadata": {},
   "source": [
    "# Feature Selection"
   ]
  },
  {
   "cell_type": "code",
   "execution_count": null,
   "metadata": {},
   "outputs": [],
   "source": [
    "from sklearn.feature_selection import SelectKBest, chi2\n"
   ]
  },
  {
   "cell_type": "markdown",
   "metadata": {},
   "source": [
    "# https://scikit-learn.org/stable/modules/model_evaluation.html#regression-metrics"
   ]
  },
  {
   "cell_type": "markdown",
   "metadata": {},
   "source": [
    "https://www.kaggle.com/code/satishgunjal/tutorial-k-fold-cross-validation"
   ]
  },
  {
   "cell_type": "code",
   "execution_count": null,
   "metadata": {},
   "outputs": [],
   "source": []
  }
 ],
 "metadata": {
  "kernelspec": {
   "display_name": "Python 3 (ipykernel)",
   "language": "python",
   "name": "python3"
  },
  "language_info": {
   "codemirror_mode": {
    "name": "ipython",
    "version": 3
   },
   "file_extension": ".py",
   "mimetype": "text/x-python",
   "name": "python",
   "nbconvert_exporter": "python",
   "pygments_lexer": "ipython3",
   "version": "3.9.12"
  }
 },
 "nbformat": 4,
 "nbformat_minor": 2
}
