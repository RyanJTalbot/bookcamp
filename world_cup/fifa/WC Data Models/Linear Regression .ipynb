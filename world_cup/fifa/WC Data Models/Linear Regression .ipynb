{
 "cells": [
  {
   "cell_type": "code",
   "execution_count": 1,
   "metadata": {},
   "outputs": [],
   "source": [
    "#                                  OLS Regression Results                                \n",
    "# =======================================================================================\n",
    "# Dep. Variable:                results   R-squared (uncentered):                   0.316\n",
    "# Model:                            OLS   Adj. R-squared (uncentered):              0.232\n",
    "# Method:                 Least Squares   F-statistic:                              3.781\n",
    "# Date:                Sun, 18 Sep 2022   Prob (F-statistic):                    9.88e-06\n",
    "# Time:                        11:29:27   Log-Likelihood:                         -602.64\n",
    "# No. Observations:                 147   AIC:                                      1237.\n",
    "# Df Residuals:                     131   BIC:                                      1285.\n",
    "# Df Model:                          16                                                  \n",
    "# Covariance Type:            nonrobust                                                  \n",
    "# ===================================================================================\n",
    "#                       coef    std err          t      P>|t|      [0.025      0.975]\n",
    "\n",
    "\n",
    "# Omnibus:                        3.493   Durbin-Watson:                   1.122\n",
    "# Prob(Omnibus):                  0.174   Jarque-Bera (JB):                2.831\n",
    "# Skew:                           0.223   Prob(JB):                        0.243\n",
    "# Kurtosis:                       2.487   Cond. No.                         6.79"
   ]
  },
  {
   "cell_type": "code",
   "execution_count": 2,
   "metadata": {},
   "outputs": [],
   "source": [
    "import pandas as pd\n",
    "import numpy as np\n",
    "from sklearn.model_selection import train_test_split\n",
    "from sklearn.metrics import mean_squared_error\n",
    "from sklearn.metrics import r2_score\n",
    "from sklearn.metrics import mean_absolute_error\n",
    "from sklearn.metrics import mean_absolute_percentage_error\n",
    "\n",
    "from sklearn import linear_model\n",
    "import statsmodels.api as sm\n",
    "import matplotlib.pyplot as plt\n",
    "import numpy as np\n",
    "import pandas as pd\n",
    "import statsmodels.api as sm"
   ]
  },
  {
   "cell_type": "code",
   "execution_count": 3,
   "metadata": {},
   "outputs": [],
   "source": [
    "df = pd.read_csv('wc-wo-outliers.csv')"
   ]
  },
  {
   "cell_type": "code",
   "execution_count": 4,
   "metadata": {},
   "outputs": [],
   "source": [
    "df2 = pd.read_csv('wc-w-outliers.csv')"
   ]
  },
  {
   "cell_type": "code",
   "execution_count": 5,
   "metadata": {},
   "outputs": [],
   "source": [
    "new_X = df.drop(columns=['results'])"
   ]
  },
  {
   "cell_type": "code",
   "execution_count": 6,
   "metadata": {},
   "outputs": [
    {
     "data": {
      "text/html": [
       "<div>\n",
       "<style scoped>\n",
       "    .dataframe tbody tr th:only-of-type {\n",
       "        vertical-align: middle;\n",
       "    }\n",
       "\n",
       "    .dataframe tbody tr th {\n",
       "        vertical-align: top;\n",
       "    }\n",
       "\n",
       "    .dataframe thead th {\n",
       "        text-align: right;\n",
       "    }\n",
       "</style>\n",
       "<table border=\"1\" class=\"dataframe\">\n",
       "  <thead>\n",
       "    <tr style=\"text-align: right;\">\n",
       "      <th></th>\n",
       "      <th>goals_z</th>\n",
       "      <th>xg_z</th>\n",
       "      <th>crosses_z</th>\n",
       "      <th>boxtouches_z</th>\n",
       "      <th>passes_z</th>\n",
       "      <th>progpasses_z</th>\n",
       "      <th>takeons_z</th>\n",
       "      <th>progruns_z</th>\n",
       "      <th>tackles_z</th>\n",
       "      <th>interceptions_z</th>\n",
       "      <th>clearances_z</th>\n",
       "      <th>blocks_z</th>\n",
       "      <th>aerials_z</th>\n",
       "      <th>fouls_z</th>\n",
       "      <th>fouled_z</th>\n",
       "      <th>nsxg_z</th>\n",
       "    </tr>\n",
       "  </thead>\n",
       "  <tbody>\n",
       "    <tr>\n",
       "      <th>0</th>\n",
       "      <td>0.423077</td>\n",
       "      <td>0.146923</td>\n",
       "      <td>-0.136154</td>\n",
       "      <td>-0.030000</td>\n",
       "      <td>0.429231</td>\n",
       "      <td>0.037692</td>\n",
       "      <td>0.244615</td>\n",
       "      <td>-0.220000</td>\n",
       "      <td>0.216154</td>\n",
       "      <td>0.270000</td>\n",
       "      <td>-0.076923</td>\n",
       "      <td>-0.097692</td>\n",
       "      <td>-0.020000</td>\n",
       "      <td>-0.224615</td>\n",
       "      <td>0.100769</td>\n",
       "      <td>-0.124615</td>\n",
       "    </tr>\n",
       "    <tr>\n",
       "      <th>1</th>\n",
       "      <td>0.245385</td>\n",
       "      <td>0.097692</td>\n",
       "      <td>0.549231</td>\n",
       "      <td>0.490000</td>\n",
       "      <td>0.090769</td>\n",
       "      <td>0.071538</td>\n",
       "      <td>-0.473077</td>\n",
       "      <td>-0.150769</td>\n",
       "      <td>0.096923</td>\n",
       "      <td>0.277692</td>\n",
       "      <td>-0.153077</td>\n",
       "      <td>-0.212308</td>\n",
       "      <td>0.033846</td>\n",
       "      <td>-0.145385</td>\n",
       "      <td>-0.036154</td>\n",
       "      <td>0.487692</td>\n",
       "    </tr>\n",
       "    <tr>\n",
       "      <th>2</th>\n",
       "      <td>0.337692</td>\n",
       "      <td>0.270000</td>\n",
       "      <td>0.292308</td>\n",
       "      <td>0.281538</td>\n",
       "      <td>0.065385</td>\n",
       "      <td>-0.142308</td>\n",
       "      <td>-0.076923</td>\n",
       "      <td>0.430000</td>\n",
       "      <td>0.688462</td>\n",
       "      <td>0.002308</td>\n",
       "      <td>0.020769</td>\n",
       "      <td>0.165385</td>\n",
       "      <td>-0.075385</td>\n",
       "      <td>0.193077</td>\n",
       "      <td>0.087692</td>\n",
       "      <td>0.393846</td>\n",
       "    </tr>\n",
       "    <tr>\n",
       "      <th>3</th>\n",
       "      <td>0.673077</td>\n",
       "      <td>0.642308</td>\n",
       "      <td>0.502308</td>\n",
       "      <td>0.277692</td>\n",
       "      <td>0.310000</td>\n",
       "      <td>0.146923</td>\n",
       "      <td>0.153077</td>\n",
       "      <td>0.081538</td>\n",
       "      <td>0.814615</td>\n",
       "      <td>0.464615</td>\n",
       "      <td>-0.150769</td>\n",
       "      <td>-0.007692</td>\n",
       "      <td>-0.060769</td>\n",
       "      <td>-0.220000</td>\n",
       "      <td>0.006154</td>\n",
       "      <td>0.387692</td>\n",
       "    </tr>\n",
       "    <tr>\n",
       "      <th>4</th>\n",
       "      <td>0.114615</td>\n",
       "      <td>0.155385</td>\n",
       "      <td>0.271538</td>\n",
       "      <td>0.330769</td>\n",
       "      <td>-0.015385</td>\n",
       "      <td>0.028462</td>\n",
       "      <td>0.128462</td>\n",
       "      <td>0.109231</td>\n",
       "      <td>0.130769</td>\n",
       "      <td>0.056923</td>\n",
       "      <td>-0.232308</td>\n",
       "      <td>-0.146923</td>\n",
       "      <td>-0.023077</td>\n",
       "      <td>0.078462</td>\n",
       "      <td>0.532308</td>\n",
       "      <td>0.140769</td>\n",
       "    </tr>\n",
       "    <tr>\n",
       "      <th>...</th>\n",
       "      <td>...</td>\n",
       "      <td>...</td>\n",
       "      <td>...</td>\n",
       "      <td>...</td>\n",
       "      <td>...</td>\n",
       "      <td>...</td>\n",
       "      <td>...</td>\n",
       "      <td>...</td>\n",
       "      <td>...</td>\n",
       "      <td>...</td>\n",
       "      <td>...</td>\n",
       "      <td>...</td>\n",
       "      <td>...</td>\n",
       "      <td>...</td>\n",
       "      <td>...</td>\n",
       "      <td>...</td>\n",
       "    </tr>\n",
       "    <tr>\n",
       "      <th>169</th>\n",
       "      <td>-0.193846</td>\n",
       "      <td>0.228462</td>\n",
       "      <td>-0.313846</td>\n",
       "      <td>-0.167692</td>\n",
       "      <td>-0.563077</td>\n",
       "      <td>-0.534615</td>\n",
       "      <td>0.062308</td>\n",
       "      <td>-0.100769</td>\n",
       "      <td>-0.315385</td>\n",
       "      <td>-0.446923</td>\n",
       "      <td>-0.064615</td>\n",
       "      <td>-0.349231</td>\n",
       "      <td>-0.193077</td>\n",
       "      <td>-0.331538</td>\n",
       "      <td>-0.135385</td>\n",
       "      <td>-0.362308</td>\n",
       "    </tr>\n",
       "    <tr>\n",
       "      <th>170</th>\n",
       "      <td>-0.080769</td>\n",
       "      <td>-0.243846</td>\n",
       "      <td>-0.133846</td>\n",
       "      <td>-0.276154</td>\n",
       "      <td>0.096154</td>\n",
       "      <td>0.124615</td>\n",
       "      <td>-0.200769</td>\n",
       "      <td>0.102308</td>\n",
       "      <td>0.060000</td>\n",
       "      <td>-0.073077</td>\n",
       "      <td>0.062308</td>\n",
       "      <td>-0.343077</td>\n",
       "      <td>-0.007692</td>\n",
       "      <td>-0.325385</td>\n",
       "      <td>-0.152308</td>\n",
       "      <td>-0.331538</td>\n",
       "    </tr>\n",
       "    <tr>\n",
       "      <th>171</th>\n",
       "      <td>-0.066923</td>\n",
       "      <td>-0.147692</td>\n",
       "      <td>0.028462</td>\n",
       "      <td>-0.050000</td>\n",
       "      <td>-0.076154</td>\n",
       "      <td>0.314615</td>\n",
       "      <td>-0.224615</td>\n",
       "      <td>0.122308</td>\n",
       "      <td>-0.207692</td>\n",
       "      <td>0.190769</td>\n",
       "      <td>0.413846</td>\n",
       "      <td>-0.044615</td>\n",
       "      <td>-0.035385</td>\n",
       "      <td>-0.173846</td>\n",
       "      <td>-0.323846</td>\n",
       "      <td>-0.006923</td>\n",
       "    </tr>\n",
       "    <tr>\n",
       "      <th>172</th>\n",
       "      <td>-0.066154</td>\n",
       "      <td>-0.143846</td>\n",
       "      <td>-0.150769</td>\n",
       "      <td>0.256154</td>\n",
       "      <td>0.185385</td>\n",
       "      <td>0.366923</td>\n",
       "      <td>-0.002308</td>\n",
       "      <td>0.240000</td>\n",
       "      <td>0.542308</td>\n",
       "      <td>0.206154</td>\n",
       "      <td>0.380769</td>\n",
       "      <td>0.153077</td>\n",
       "      <td>0.009231</td>\n",
       "      <td>-0.100769</td>\n",
       "      <td>0.133077</td>\n",
       "      <td>-0.080769</td>\n",
       "    </tr>\n",
       "    <tr>\n",
       "      <th>173</th>\n",
       "      <td>-0.193846</td>\n",
       "      <td>-0.290769</td>\n",
       "      <td>-0.075385</td>\n",
       "      <td>-0.372308</td>\n",
       "      <td>-0.380000</td>\n",
       "      <td>-0.211538</td>\n",
       "      <td>-0.340000</td>\n",
       "      <td>-0.636923</td>\n",
       "      <td>-0.611538</td>\n",
       "      <td>-0.588462</td>\n",
       "      <td>0.342308</td>\n",
       "      <td>-0.099231</td>\n",
       "      <td>0.266154</td>\n",
       "      <td>-0.360000</td>\n",
       "      <td>-0.209231</td>\n",
       "      <td>-0.310000</td>\n",
       "    </tr>\n",
       "  </tbody>\n",
       "</table>\n",
       "<p>174 rows × 16 columns</p>\n",
       "</div>"
      ],
      "text/plain": [
       "      goals_z      xg_z  crosses_z  boxtouches_z  passes_z  progpasses_z  \\\n",
       "0    0.423077  0.146923  -0.136154     -0.030000  0.429231      0.037692   \n",
       "1    0.245385  0.097692   0.549231      0.490000  0.090769      0.071538   \n",
       "2    0.337692  0.270000   0.292308      0.281538  0.065385     -0.142308   \n",
       "3    0.673077  0.642308   0.502308      0.277692  0.310000      0.146923   \n",
       "4    0.114615  0.155385   0.271538      0.330769 -0.015385      0.028462   \n",
       "..        ...       ...        ...           ...       ...           ...   \n",
       "169 -0.193846  0.228462  -0.313846     -0.167692 -0.563077     -0.534615   \n",
       "170 -0.080769 -0.243846  -0.133846     -0.276154  0.096154      0.124615   \n",
       "171 -0.066923 -0.147692   0.028462     -0.050000 -0.076154      0.314615   \n",
       "172 -0.066154 -0.143846  -0.150769      0.256154  0.185385      0.366923   \n",
       "173 -0.193846 -0.290769  -0.075385     -0.372308 -0.380000     -0.211538   \n",
       "\n",
       "     takeons_z  progruns_z  tackles_z  interceptions_z  clearances_z  \\\n",
       "0     0.244615   -0.220000   0.216154         0.270000     -0.076923   \n",
       "1    -0.473077   -0.150769   0.096923         0.277692     -0.153077   \n",
       "2    -0.076923    0.430000   0.688462         0.002308      0.020769   \n",
       "3     0.153077    0.081538   0.814615         0.464615     -0.150769   \n",
       "4     0.128462    0.109231   0.130769         0.056923     -0.232308   \n",
       "..         ...         ...        ...              ...           ...   \n",
       "169   0.062308   -0.100769  -0.315385        -0.446923     -0.064615   \n",
       "170  -0.200769    0.102308   0.060000        -0.073077      0.062308   \n",
       "171  -0.224615    0.122308  -0.207692         0.190769      0.413846   \n",
       "172  -0.002308    0.240000   0.542308         0.206154      0.380769   \n",
       "173  -0.340000   -0.636923  -0.611538        -0.588462      0.342308   \n",
       "\n",
       "     blocks_z  aerials_z   fouls_z  fouled_z    nsxg_z  \n",
       "0   -0.097692  -0.020000 -0.224615  0.100769 -0.124615  \n",
       "1   -0.212308   0.033846 -0.145385 -0.036154  0.487692  \n",
       "2    0.165385  -0.075385  0.193077  0.087692  0.393846  \n",
       "3   -0.007692  -0.060769 -0.220000  0.006154  0.387692  \n",
       "4   -0.146923  -0.023077  0.078462  0.532308  0.140769  \n",
       "..        ...        ...       ...       ...       ...  \n",
       "169 -0.349231  -0.193077 -0.331538 -0.135385 -0.362308  \n",
       "170 -0.343077  -0.007692 -0.325385 -0.152308 -0.331538  \n",
       "171 -0.044615  -0.035385 -0.173846 -0.323846 -0.006923  \n",
       "172  0.153077   0.009231 -0.100769  0.133077 -0.080769  \n",
       "173 -0.099231   0.266154 -0.360000 -0.209231 -0.310000  \n",
       "\n",
       "[174 rows x 16 columns]"
      ]
     },
     "execution_count": 6,
     "metadata": {},
     "output_type": "execute_result"
    }
   ],
   "source": [
    "new_X"
   ]
  },
  {
   "cell_type": "code",
   "execution_count": 7,
   "metadata": {},
   "outputs": [],
   "source": [
    "y = df['results']\n",
    "\n",
    "X_tr, X_tt, y_tr, y_tt = train_test_split(\n",
    "     new_X, y, test_size=0.20, random_state=1)"
   ]
  },
  {
   "cell_type": "code",
   "execution_count": 8,
   "metadata": {},
   "outputs": [],
   "source": [
    "y2 = df2['results']\n",
    "X2 = df2.drop(columns=['results'])\n",
    "\n",
    "X_train2, X_test2, y_train2, y_test2 = train_test_split(\n",
    "     X2, y2, test_size=0.20, random_state=1)"
   ]
  },
  {
   "cell_type": "code",
   "execution_count": 9,
   "metadata": {},
   "outputs": [],
   "source": [
    "y = df['results']\n",
    "X = df.drop(columns=['results'])\n",
    "\n",
    "X_train, X_test, y_train, y_test = train_test_split(\n",
    "     X, y, test_size=0.20, random_state=1)"
   ]
  },
  {
   "cell_type": "code",
   "execution_count": 10,
   "metadata": {},
   "outputs": [],
   "source": [
    "reg = linear_model.LinearRegression()\n",
    "reg.fit(X_train, y_train)\n",
    "pred_train= reg.predict(X_train)"
   ]
  },
  {
   "cell_type": "code",
   "execution_count": 11,
   "metadata": {},
   "outputs": [],
   "source": [
    "reg = linear_model.LinearRegression()\n",
    "reg.fit(X_tr, y_tr)\n",
    "pred_new= reg.predict(X_tr)"
   ]
  },
  {
   "cell_type": "code",
   "execution_count": 12,
   "metadata": {},
   "outputs": [],
   "source": [
    "reg2 = linear_model.LinearRegression()\n",
    "reg2.fit(X_train2, y_train2)\n",
    "pred_train2= reg2.predict(X_train2)\n",
    "pred_test2= reg2.predict(X_test2)\n"
   ]
  },
  {
   "cell_type": "markdown",
   "metadata": {},
   "source": [
    "Theres no clear difference between using all the features or a few features. mape goes back and forth depending on the random_state value"
   ]
  },
  {
   "cell_type": "code",
   "execution_count": 13,
   "metadata": {},
   "outputs": [
    {
     "name": "stdout",
     "output_type": "stream",
     "text": [
      "RMSE : 6.47564809479636\n",
      "R2 : 0.39138228077612336\n",
      "MSE: 41.93401824763973\n",
      "MAE: 5.254619419958431\n",
      "MAPE: 0.926779686265549\n",
      "---------------------\n",
      "RMSE : 8.326618479383576\n",
      "R2 : 0.18791803162961818\n",
      "MSE: 69.33257530121205\n",
      "MAE: 6.930290335388316\n",
      "MAPE: 1.765332386947045\n"
     ]
    }
   ],
   "source": [
    "# print('Linear Regression ')\n",
    "# print('---------------------')\n",
    "# print('RMSE: '+str(np.sqrt(mean_squared_error(y_train,pred_train))))\n",
    "# print('R Squared: '+str(r2_score(y_train, pred_train)))\n",
    "# print('MSE: '+str(mean_squared_error(y_train, pred_train)))\n",
    "# print('MAE: '+str(mean_absolute_error(y_train, pred_train)))\n",
    "# print('MAPE: '+str(mean_absolute_percentage_error(y_train, pred_train)))\n",
    "\n",
    "print('RMSE : '+str(np.sqrt(mean_squared_error(y_test2,pred_test2)))) \n",
    "print('R2 : '+str(r2_score(y_test2, pred_test2)))\n",
    "print('MSE: '+str(mean_squared_error(y_test2, pred_test2)))\n",
    "print('MAE: '+str(mean_absolute_error(y_test2, pred_test2)))\n",
    "print('MAPE: '+str(mean_absolute_percentage_error(y_test2, pred_test2)))\n",
    "\n",
    "print('---------------------')\n",
    "\n",
    "pred_test= reg.predict(X_test)\n",
    "\n",
    "print('RMSE : '+str(np.sqrt(mean_squared_error(y_test,pred_test)))) \n",
    "print('R2 : '+str(r2_score(y_test, pred_test)))\n",
    "print('MSE: '+str(mean_squared_error(y_test, pred_test)))\n",
    "print('MAE: '+str(mean_absolute_error(y_test, pred_test)))\n",
    "print('MAPE: '+str(mean_absolute_percentage_error(y_test, pred_test)))"
   ]
  },
  {
   "cell_type": "code",
   "execution_count": 14,
   "metadata": {},
   "outputs": [
    {
     "name": "stdout",
     "output_type": "stream",
     "text": [
      "                                 OLS Regression Results                                \n",
      "=======================================================================================\n",
      "Dep. Variable:                results   R-squared (uncentered):                   0.305\n",
      "Model:                            OLS   Adj. R-squared (uncentered):              0.215\n",
      "Method:                 Least Squares   F-statistic:                              3.377\n",
      "Date:                Mon, 19 Sep 2022   Prob (F-statistic):                    6.26e-05\n",
      "Time:                        12:50:32   Log-Likelihood:                         -571.58\n",
      "No. Observations:                 139   AIC:                                      1175.\n",
      "Df Residuals:                     123   BIC:                                      1222.\n",
      "Df Model:                          16                                                  \n",
      "Covariance Type:            nonrobust                                                  \n",
      "===================================================================================\n",
      "                      coef    std err          t      P>|t|      [0.025      0.975]\n",
      "-----------------------------------------------------------------------------------\n",
      "goals_z            -7.8467      6.862     -1.143      0.255     -21.430       5.737\n",
      "xg_z                6.7749      9.650      0.702      0.484     -12.326      25.876\n",
      "crosses_z          17.6639      8.178      2.160      0.033       1.476      33.852\n",
      "boxtouches_z       32.0513     10.012      3.201      0.002      12.234      51.868\n",
      "passes_z           14.6941      9.935      1.479      0.142      -4.971      34.359\n",
      "progpasses_z      -20.1137      9.629     -2.089      0.039     -39.174      -1.054\n",
      "takeons_z           5.6436      6.862      0.823      0.412      -7.938      19.226\n",
      "progruns_z          3.3357      6.588      0.506      0.614      -9.705      16.376\n",
      "tackles_z          -4.3929      6.618     -0.664      0.508     -17.493       8.707\n",
      "interceptions_z    -7.6855      7.032     -1.093      0.277     -21.604       6.233\n",
      "clearances_z       11.3955      8.466      1.346      0.181      -5.362      28.153\n",
      "blocks_z          -12.2002      7.011     -1.740      0.084     -26.078       1.678\n",
      "aerials_z           1.1707      7.642      0.153      0.878     -13.957      16.298\n",
      "fouls_z             9.9561      5.694      1.749      0.083      -1.314      21.227\n",
      "fouled_z            7.4676      6.525      1.144      0.255      -5.449      20.384\n",
      "nsxg_z            -33.2512     12.158     -2.735      0.007     -57.317      -9.186\n",
      "==============================================================================\n",
      "Omnibus:                        3.075   Durbin-Watson:                   1.071\n",
      "Prob(Omnibus):                  0.215   Jarque-Bera (JB):                3.097\n",
      "Skew:                           0.331   Prob(JB):                        0.213\n",
      "Kurtosis:                       2.690   Cond. No.                         6.46\n",
      "==============================================================================\n",
      "\n",
      "Notes:\n",
      "[1] R² is computed without centering (uncentered) since the model does not contain a constant.\n",
      "[2] Standard Errors assume that the covariance matrix of the errors is correctly specified.\n"
     ]
    }
   ],
   "source": [
    "model = sm.OLS(y_train, X_train)\n",
    "results = model.fit()\n",
    "print(results.summary())\n",
    "\n",
    "# https://www.statsmodels.org/dev/examples/notebooks/generated/ols.html\n"
   ]
  },
  {
   "cell_type": "code",
   "execution_count": 15,
   "metadata": {},
   "outputs": [
    {
     "name": "stdout",
     "output_type": "stream",
     "text": [
      "Linear Regression \n",
      "---------------------\n",
      "RMSE : 8.326618479383576\n",
      "R2 : 0.18791803162961818\n",
      "MSE: 69.33257530121205\n",
      "MAE: 6.930290335388316\n",
      "MAPE: 1.765332386947045\n"
     ]
    }
   ],
   "source": [
    "print('Linear Regression ')\n",
    "print('---------------------')\n",
    "# print('RMSE: '+str(np.sqrt(mean_squared_error(y_tr,pred_new))))\n",
    "# print('R Squared: '+str(r2_score(y_tr, pred_new)))\n",
    "# print('MSE: '+str(mean_squared_error(y_tr, pred_new)))\n",
    "# print('MAE: '+str(mean_absolute_error(y_tr, pred_new)))\n",
    "# print('MAPE: '+str(mean_absolute_percentage_error(y_tr, pred_new)))\n",
    "\n",
    "# print('---------------------')\n",
    "\n",
    "pred_tt= reg.predict(X_tt)\n",
    "\n",
    "print('RMSE : '+str(np.sqrt(mean_squared_error(y_tt,pred_tt)))) \n",
    "print('R2 : '+str(r2_score(y_tt, pred_tt)))\n",
    "print('MSE: '+str(mean_squared_error(y_tt, pred_tt)))\n",
    "print('MAE: '+str(mean_absolute_error(y_tt, pred_tt)))\n",
    "print('MAPE: '+str(mean_absolute_percentage_error(y_tt, pred_tt)))"
   ]
  },
  {
   "cell_type": "code",
   "execution_count": 16,
   "metadata": {},
   "outputs": [],
   "source": [
    "x_train = X_train[['goals_z', 'xg_z', 'tackles_z', 'nsxg_z']]"
   ]
  },
  {
   "cell_type": "code",
   "execution_count": 17,
   "metadata": {},
   "outputs": [],
   "source": [
    "x_test = X_test[['goals_z', 'xg_z', 'tackles_z', 'nsxg_z']]"
   ]
  },
  {
   "cell_type": "code",
   "execution_count": 18,
   "metadata": {},
   "outputs": [],
   "source": [
    "reg.fit(x_train, y_train)\n",
    "pred_train= reg.predict(x_train)"
   ]
  },
  {
   "cell_type": "code",
   "execution_count": 19,
   "metadata": {},
   "outputs": [
    {
     "name": "stdout",
     "output_type": "stream",
     "text": [
      "Linear Regression \n",
      "---------------------\n",
      "---------------------\n",
      "RMSE : 8.413174396654563\n",
      "R2 : 0.17094695561603135\n",
      "MSE: 70.78150342852388\n",
      "MAE: 7.151357682585862\n",
      "MAPE: 1.7159454521224509\n"
     ]
    }
   ],
   "source": [
    "print('Linear Regression ')\n",
    "print('---------------------')\n",
    "# print('RMSE: '+str(np.sqrt(mean_squared_error(y_train,pred_train))))\n",
    "# print('R Squared: '+str(r2_score(y_train, pred_train)))\n",
    "# print('MSE: '+str(mean_squared_error(y_train, pred_train)))\n",
    "# print('MAE: '+str(mean_absolute_error(y_train, pred_train)))\n",
    "# print('MAPE: '+str(mean_absolute_percentage_error(y_train, pred_train)))\n",
    "\n",
    "print('---------------------')\n",
    "\n",
    "pred_test= reg.predict(x_test)\n",
    "\n",
    "print('RMSE : '+str(np.sqrt(mean_squared_error(y_test,pred_test)))) \n",
    "print('R2 : '+str(r2_score(y_test, pred_test)))\n",
    "print('MSE: '+str(mean_squared_error(y_test, pred_test)))\n",
    "print('MAE: '+str(mean_absolute_error(y_test, pred_test)))\n",
    "print('MAPE: '+str(mean_absolute_percentage_error(y_test, pred_test)))"
   ]
  },
  {
   "cell_type": "markdown",
   "metadata": {},
   "source": [
    "the lowest MAPE value, which tells us that it’s able to forecast the most accurately among the potential models."
   ]
  },
  {
   "cell_type": "code",
   "execution_count": null,
   "metadata": {},
   "outputs": [],
   "source": []
  },
  {
   "cell_type": "code",
   "execution_count": 20,
   "metadata": {},
   "outputs": [
    {
     "name": "stdout",
     "output_type": "stream",
     "text": [
      "Mean Squared Log Error: 0.9117718537197432\n"
     ]
    }
   ],
   "source": [
    "from sklearn.metrics import mean_squared_log_error\n",
    "print('Mean Squared Log Error: ' +str(mean_squared_log_error( y_test, pred_test, squared=False)))"
   ]
  },
  {
   "cell_type": "code",
   "execution_count": 21,
   "metadata": {},
   "outputs": [],
   "source": [
    "# #display adjusted R-squared\n",
    "# print('Adjusted r^2: ' +str(1 - (1-reg.score(X_train, y_train))*(len(y_train)-1)/(len(y_train)-X_train.shape[1]-1)))"
   ]
  },
  {
   "cell_type": "markdown",
   "metadata": {},
   "source": [
    "The value for R-squared can range from 0 to 1. A value of 0 indicates that the response variable cannot be explained by the predictor variable at all while a value of 1 indicates that the response variable can be perfectly explained without error by the predictor variables."
   ]
  },
  {
   "cell_type": "markdown",
   "metadata": {},
   "source": [
    "- AIC stands for (Akaike’s Information Criteria), a metric developped by the Japanese Statistician, Hirotugu Akaike, 1970. The basic idea of AIC is to penalize the inclusion of additional variables to a model. It adds a penalty that increases the error when including additional terms. The lower the AIC, the better the model.\n",
    "- AICc is a version of AIC corrected for small sample sizes.\n",
    "- BIC (or Bayesian information criteria) is a variant of AIC with a stronger penalty for including additional variables to the model.\n",
    "- Mallows Cp: A variant of AIC developed by Colin Mallows.\n"
   ]
  },
  {
   "cell_type": "markdown",
   "metadata": {},
   "source": [
    "# AIC"
   ]
  },
  {
   "cell_type": "code",
   "execution_count": 22,
   "metadata": {},
   "outputs": [],
   "source": [
    "import statsmodels.api as sm"
   ]
  },
  {
   "cell_type": "code",
   "execution_count": 23,
   "metadata": {},
   "outputs": [
    {
     "name": "stdout",
     "output_type": "stream",
     "text": [
      "AIC: 933.6069495486269\n"
     ]
    }
   ],
   "source": [
    "#add constant to predictor variables\n",
    "X_train = sm.add_constant(X_train)\n",
    "\n",
    "#fit regression model\n",
    "model = sm.OLS(y_train, X_train).fit()\n",
    "\n",
    "#view AIC of model\n",
    "print('AIC: '+str(model.aic))"
   ]
  },
  {
   "cell_type": "code",
   "execution_count": 24,
   "metadata": {},
   "outputs": [
    {
     "data": {
      "text/html": [
       "<div>\n",
       "<style scoped>\n",
       "    .dataframe tbody tr th:only-of-type {\n",
       "        vertical-align: middle;\n",
       "    }\n",
       "\n",
       "    .dataframe tbody tr th {\n",
       "        vertical-align: top;\n",
       "    }\n",
       "\n",
       "    .dataframe thead th {\n",
       "        text-align: right;\n",
       "    }\n",
       "</style>\n",
       "<table border=\"1\" class=\"dataframe\">\n",
       "  <thead>\n",
       "    <tr style=\"text-align: right;\">\n",
       "      <th></th>\n",
       "      <th>const</th>\n",
       "      <th>goals_z</th>\n",
       "      <th>xg_z</th>\n",
       "      <th>crosses_z</th>\n",
       "      <th>boxtouches_z</th>\n",
       "      <th>passes_z</th>\n",
       "      <th>progpasses_z</th>\n",
       "      <th>takeons_z</th>\n",
       "      <th>progruns_z</th>\n",
       "      <th>tackles_z</th>\n",
       "      <th>interceptions_z</th>\n",
       "      <th>clearances_z</th>\n",
       "      <th>blocks_z</th>\n",
       "      <th>aerials_z</th>\n",
       "      <th>fouls_z</th>\n",
       "      <th>fouled_z</th>\n",
       "      <th>nsxg_z</th>\n",
       "    </tr>\n",
       "  </thead>\n",
       "  <tbody>\n",
       "    <tr>\n",
       "      <th>90</th>\n",
       "      <td>1.0</td>\n",
       "      <td>-0.152308</td>\n",
       "      <td>0.048462</td>\n",
       "      <td>0.340769</td>\n",
       "      <td>-0.140000</td>\n",
       "      <td>-0.177692</td>\n",
       "      <td>-0.020769</td>\n",
       "      <td>0.083846</td>\n",
       "      <td>0.151538</td>\n",
       "      <td>0.327692</td>\n",
       "      <td>0.089231</td>\n",
       "      <td>0.031538</td>\n",
       "      <td>-0.366923</td>\n",
       "      <td>-0.170000</td>\n",
       "      <td>0.173077</td>\n",
       "      <td>0.409231</td>\n",
       "      <td>0.182308</td>\n",
       "    </tr>\n",
       "    <tr>\n",
       "      <th>89</th>\n",
       "      <td>1.0</td>\n",
       "      <td>-0.159231</td>\n",
       "      <td>-0.067692</td>\n",
       "      <td>-0.177692</td>\n",
       "      <td>-0.230000</td>\n",
       "      <td>-0.439231</td>\n",
       "      <td>-0.371538</td>\n",
       "      <td>0.294615</td>\n",
       "      <td>0.179231</td>\n",
       "      <td>-0.490000</td>\n",
       "      <td>-0.513846</td>\n",
       "      <td>0.153846</td>\n",
       "      <td>-0.358462</td>\n",
       "      <td>-0.078462</td>\n",
       "      <td>0.251538</td>\n",
       "      <td>0.506923</td>\n",
       "      <td>-0.276154</td>\n",
       "    </tr>\n",
       "    <tr>\n",
       "      <th>127</th>\n",
       "      <td>1.0</td>\n",
       "      <td>-0.051538</td>\n",
       "      <td>-0.145385</td>\n",
       "      <td>0.025385</td>\n",
       "      <td>-0.077692</td>\n",
       "      <td>0.152308</td>\n",
       "      <td>-0.122308</td>\n",
       "      <td>0.416154</td>\n",
       "      <td>0.668462</td>\n",
       "      <td>0.161538</td>\n",
       "      <td>0.006154</td>\n",
       "      <td>0.262308</td>\n",
       "      <td>0.083846</td>\n",
       "      <td>0.110769</td>\n",
       "      <td>0.229231</td>\n",
       "      <td>-0.048462</td>\n",
       "      <td>0.018462</td>\n",
       "    </tr>\n",
       "    <tr>\n",
       "      <th>118</th>\n",
       "      <td>1.0</td>\n",
       "      <td>0.148462</td>\n",
       "      <td>0.080000</td>\n",
       "      <td>0.282308</td>\n",
       "      <td>0.136923</td>\n",
       "      <td>-0.076154</td>\n",
       "      <td>-0.136154</td>\n",
       "      <td>0.069231</td>\n",
       "      <td>0.194615</td>\n",
       "      <td>-0.005385</td>\n",
       "      <td>-0.285385</td>\n",
       "      <td>-0.273846</td>\n",
       "      <td>0.194615</td>\n",
       "      <td>-0.096154</td>\n",
       "      <td>0.026923</td>\n",
       "      <td>-0.044615</td>\n",
       "      <td>-0.052308</td>\n",
       "    </tr>\n",
       "    <tr>\n",
       "      <th>48</th>\n",
       "      <td>1.0</td>\n",
       "      <td>0.200000</td>\n",
       "      <td>0.046154</td>\n",
       "      <td>-0.056154</td>\n",
       "      <td>0.129231</td>\n",
       "      <td>0.120769</td>\n",
       "      <td>0.053077</td>\n",
       "      <td>0.010769</td>\n",
       "      <td>0.267692</td>\n",
       "      <td>0.001538</td>\n",
       "      <td>0.106154</td>\n",
       "      <td>-0.132308</td>\n",
       "      <td>-0.310769</td>\n",
       "      <td>0.063846</td>\n",
       "      <td>0.234615</td>\n",
       "      <td>-0.180000</td>\n",
       "      <td>-0.002308</td>\n",
       "    </tr>\n",
       "  </tbody>\n",
       "</table>\n",
       "</div>"
      ],
      "text/plain": [
       "     const   goals_z      xg_z  crosses_z  boxtouches_z  passes_z  \\\n",
       "90     1.0 -0.152308  0.048462   0.340769     -0.140000 -0.177692   \n",
       "89     1.0 -0.159231 -0.067692  -0.177692     -0.230000 -0.439231   \n",
       "127    1.0 -0.051538 -0.145385   0.025385     -0.077692  0.152308   \n",
       "118    1.0  0.148462  0.080000   0.282308      0.136923 -0.076154   \n",
       "48     1.0  0.200000  0.046154  -0.056154      0.129231  0.120769   \n",
       "\n",
       "     progpasses_z  takeons_z  progruns_z  tackles_z  interceptions_z  \\\n",
       "90      -0.020769   0.083846    0.151538   0.327692         0.089231   \n",
       "89      -0.371538   0.294615    0.179231  -0.490000        -0.513846   \n",
       "127     -0.122308   0.416154    0.668462   0.161538         0.006154   \n",
       "118     -0.136154   0.069231    0.194615  -0.005385        -0.285385   \n",
       "48       0.053077   0.010769    0.267692   0.001538         0.106154   \n",
       "\n",
       "     clearances_z  blocks_z  aerials_z   fouls_z  fouled_z    nsxg_z  \n",
       "90       0.031538 -0.366923  -0.170000  0.173077  0.409231  0.182308  \n",
       "89       0.153846 -0.358462  -0.078462  0.251538  0.506923 -0.276154  \n",
       "127      0.262308  0.083846   0.110769  0.229231 -0.048462  0.018462  \n",
       "118     -0.273846  0.194615  -0.096154  0.026923 -0.044615 -0.052308  \n",
       "48      -0.132308 -0.310769   0.063846  0.234615 -0.180000 -0.002308  "
      ]
     },
     "execution_count": 24,
     "metadata": {},
     "output_type": "execute_result"
    }
   ],
   "source": [
    "X_train.head()"
   ]
  },
  {
   "cell_type": "code",
   "execution_count": 25,
   "metadata": {},
   "outputs": [],
   "source": [
    "new_x = X_train[['goals_z', 'boxtouches_z', 'fouls_z', 'fouled_z', 'blocks_z']]"
   ]
  },
  {
   "cell_type": "code",
   "execution_count": 26,
   "metadata": {},
   "outputs": [
    {
     "name": "stdout",
     "output_type": "stream",
     "text": [
      "918.3137064392761\n"
     ]
    }
   ],
   "source": [
    "#add constant to predictor variables\n",
    "new_x = sm.add_constant(new_x)\n",
    "\n",
    "#fit regression model\n",
    "model = sm.OLS(y_train, new_x).fit()\n",
    "\n",
    "#view AIC of model\n",
    "print(model.aic)"
   ]
  },
  {
   "cell_type": "markdown",
   "metadata": {},
   "source": [
    "for AIC - the model with a lower AIC value is the better fitting model. \n",
    "\n",
    "https://www.statology.org/aic-in-python/"
   ]
  },
  {
   "cell_type": "code",
   "execution_count": 27,
   "metadata": {},
   "outputs": [],
   "source": [
    "x = X_train[['goals_z', 'xg_z', 'tackles_z', 'nsxg_z']]"
   ]
  },
  {
   "cell_type": "code",
   "execution_count": 28,
   "metadata": {},
   "outputs": [
    {
     "name": "stdout",
     "output_type": "stream",
     "text": [
      "920.8005738434097\n"
     ]
    }
   ],
   "source": [
    "#add constant to predictor variables\n",
    "x = sm.add_constant(x)\n",
    "\n",
    "#fit regression model\n",
    "model = sm.OLS(y_train, x).fit()\n",
    "\n",
    "#view AIC of model\n",
    "print(model.aic)"
   ]
  },
  {
   "cell_type": "code",
   "execution_count": 29,
   "metadata": {},
   "outputs": [],
   "source": [
    "x_t = X_test[['goals_z', 'xg_z', 'tackles_z', 'nsxg_z']]"
   ]
  },
  {
   "cell_type": "code",
   "execution_count": 30,
   "metadata": {},
   "outputs": [
    {
     "name": "stdout",
     "output_type": "stream",
     "text": [
      "253.53947764010422\n"
     ]
    }
   ],
   "source": [
    "#add constant to predictor variables\n",
    "x_t = sm.add_constant(x_t)\n",
    "\n",
    "#fit regression model\n",
    "model = sm.OLS(y_test, x_t).fit()\n",
    "\n",
    "#view AIC of model\n",
    "print(model.aic)"
   ]
  },
  {
   "cell_type": "code",
   "execution_count": 31,
   "metadata": {},
   "outputs": [
    {
     "name": "stdout",
     "output_type": "stream",
     "text": [
      "248.75507495358127\n"
     ]
    }
   ],
   "source": [
    "#add constant to predictor variables\n",
    "x = sm.add_constant(X_test)\n",
    "\n",
    "#fit regression model\n",
    "model = sm.OLS(y_test, x).fit()\n",
    "\n",
    "#view AIC of model\n",
    "print(model.aic)"
   ]
  },
  {
   "cell_type": "code",
   "execution_count": 32,
   "metadata": {},
   "outputs": [
    {
     "data": {
      "text/plain": [
       "Index(['goals_z', 'xg_z', 'crosses_z', 'boxtouches_z', 'passes_z',\n",
       "       'progpasses_z', 'takeons_z', 'progruns_z', 'tackles_z',\n",
       "       'interceptions_z', 'clearances_z', 'blocks_z', 'aerials_z', 'fouls_z',\n",
       "       'fouled_z', 'nsxg_z', 'results'],\n",
       "      dtype='object')"
      ]
     },
     "execution_count": 32,
     "metadata": {},
     "output_type": "execute_result"
    }
   ],
   "source": [
    "df.columns"
   ]
  },
  {
   "cell_type": "code",
   "execution_count": 33,
   "metadata": {},
   "outputs": [],
   "source": [
    "x_t = X_test[['goals_z', 'xg_z', 'nsxg_z','clearances_z', \n",
    "              'progpasses_z', 'interceptions_z']]"
   ]
  },
  {
   "cell_type": "code",
   "execution_count": 34,
   "metadata": {},
   "outputs": [
    {
     "name": "stdout",
     "output_type": "stream",
     "text": [
      "254.3108595567764\n"
     ]
    }
   ],
   "source": [
    "#add constant to predictor variables\n",
    "x_t = sm.add_constant(x_t)\n",
    "\n",
    "#fit regression model\n",
    "model = sm.OLS(y_test, x_t).fit()\n",
    "\n",
    "#view AIC of model\n",
    "print(model.aic)"
   ]
  },
  {
   "cell_type": "markdown",
   "metadata": {},
   "source": [
    "- <b>205.0406 = ['goals_z', 'xg_z', 'nsxg_z','clearances_z', 'progpasses_z', 'interceptions_z']</b>\n",
    "- 209.6710 = ['goals_z', 'xg_z', 'tackles_z', 'nsxg_z']\n",
    "- 222.0039 = all features"
   ]
  },
  {
   "cell_type": "markdown",
   "metadata": {},
   "source": [
    "# Feature Selection"
   ]
  },
  {
   "cell_type": "code",
   "execution_count": 35,
   "metadata": {},
   "outputs": [],
   "source": [
    "from sklearn.feature_selection import SelectKBest, chi2\n"
   ]
  },
  {
   "cell_type": "markdown",
   "metadata": {},
   "source": [
    "# https://scikit-learn.org/stable/modules/model_evaluation.html#regression-metrics"
   ]
  },
  {
   "cell_type": "markdown",
   "metadata": {},
   "source": [
    "https://www.kaggle.com/code/satishgunjal/tutorial-k-fold-cross-validation"
   ]
  },
  {
   "cell_type": "code",
   "execution_count": null,
   "metadata": {},
   "outputs": [],
   "source": []
  }
 ],
 "metadata": {
  "kernelspec": {
   "display_name": "Python 3 (ipykernel)",
   "language": "python",
   "name": "python3"
  },
  "language_info": {
   "codemirror_mode": {
    "name": "ipython",
    "version": 3
   },
   "file_extension": ".py",
   "mimetype": "text/x-python",
   "name": "python",
   "nbconvert_exporter": "python",
   "pygments_lexer": "ipython3",
   "version": "3.9.12"
  }
 },
 "nbformat": 4,
 "nbformat_minor": 2
}
