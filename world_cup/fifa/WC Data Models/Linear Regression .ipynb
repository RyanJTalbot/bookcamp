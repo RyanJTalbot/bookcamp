{
 "cells": [
  {
   "cell_type": "code",
   "execution_count": 1,
   "metadata": {},
   "outputs": [],
   "source": [
    "#                                  OLS Regression Results                                \n",
    "# =======================================================================================\n",
    "# Dep. Variable:                results   R-squared (uncentered):                   0.316\n",
    "# Model:                            OLS   Adj. R-squared (uncentered):              0.232\n",
    "# Method:                 Least Squares   F-statistic:                              3.781\n",
    "# Date:                Sun, 18 Sep 2022   Prob (F-statistic):                    9.88e-06\n",
    "# Time:                        11:29:27   Log-Likelihood:                         -602.64\n",
    "# No. Observations:                 147   AIC:                                      1237.\n",
    "# Df Residuals:                     131   BIC:                                      1285.\n",
    "# Df Model:                          16                                                  \n",
    "# Covariance Type:            nonrobust                                                  \n",
    "# ===================================================================================\n",
    "#                       coef    std err          t      P>|t|      [0.025      0.975]\n",
    "\n",
    "\n",
    "# Omnibus:                        3.493   Durbin-Watson:                   1.122\n",
    "# Prob(Omnibus):                  0.174   Jarque-Bera (JB):                2.831\n",
    "# Skew:                           0.223   Prob(JB):                        0.243\n",
    "# Kurtosis:                       2.487   Cond. No.                         6.79"
   ]
  },
  {
   "cell_type": "code",
   "execution_count": 2,
   "metadata": {},
   "outputs": [],
   "source": [
    "import pandas as pd\n",
    "import numpy as np\n",
    "from sklearn.model_selection import train_test_split\n",
    "from sklearn.metrics import mean_squared_error\n",
    "from sklearn.metrics import r2_score\n",
    "from sklearn.metrics import mean_absolute_error\n",
    "from sklearn.metrics import mean_absolute_percentage_error\n",
    "\n",
    "from sklearn import linear_model\n",
    "import statsmodels.api as sm\n",
    "import matplotlib.pyplot as plt\n",
    "import numpy as np\n",
    "import pandas as pd\n",
    "import statsmodels.api as sm"
   ]
  },
  {
   "cell_type": "code",
   "execution_count": 3,
   "metadata": {},
   "outputs": [],
   "source": [
    "df = pd.read_csv('hotData.csv')\n"
   ]
  },
  {
   "cell_type": "code",
   "execution_count": 12,
   "metadata": {},
   "outputs": [
    {
     "data": {
      "text/html": [
       "<div>\n",
       "<style scoped>\n",
       "    .dataframe tbody tr th:only-of-type {\n",
       "        vertical-align: middle;\n",
       "    }\n",
       "\n",
       "    .dataframe tbody tr th {\n",
       "        vertical-align: top;\n",
       "    }\n",
       "\n",
       "    .dataframe thead th {\n",
       "        text-align: right;\n",
       "    }\n",
       "</style>\n",
       "<table border=\"1\" class=\"dataframe\">\n",
       "  <thead>\n",
       "    <tr style=\"text-align: right;\">\n",
       "      <th></th>\n",
       "      <th>goals</th>\n",
       "      <th>xg</th>\n",
       "      <th>crosses</th>\n",
       "      <th>boxtouches</th>\n",
       "      <th>passes</th>\n",
       "      <th>progpasses</th>\n",
       "      <th>takeons</th>\n",
       "      <th>progruns</th>\n",
       "      <th>tackles</th>\n",
       "      <th>interceptions</th>\n",
       "      <th>...</th>\n",
       "      <th>64</th>\n",
       "      <th>65</th>\n",
       "      <th>66</th>\n",
       "      <th>67</th>\n",
       "      <th>68</th>\n",
       "      <th>69</th>\n",
       "      <th>70</th>\n",
       "      <th>71</th>\n",
       "      <th>72</th>\n",
       "      <th>73</th>\n",
       "    </tr>\n",
       "  </thead>\n",
       "  <tbody>\n",
       "    <tr>\n",
       "      <th>0</th>\n",
       "      <td>0.055385</td>\n",
       "      <td>-0.119231</td>\n",
       "      <td>-0.020769</td>\n",
       "      <td>0.236154</td>\n",
       "      <td>-0.781538</td>\n",
       "      <td>-0.649231</td>\n",
       "      <td>-0.407692</td>\n",
       "      <td>-0.568462</td>\n",
       "      <td>-0.578462</td>\n",
       "      <td>-0.444615</td>\n",
       "      <td>...</td>\n",
       "      <td>0.0</td>\n",
       "      <td>0.0</td>\n",
       "      <td>0.0</td>\n",
       "      <td>0.0</td>\n",
       "      <td>0.0</td>\n",
       "      <td>0.0</td>\n",
       "      <td>0.0</td>\n",
       "      <td>0.0</td>\n",
       "      <td>0.0</td>\n",
       "      <td>0.0</td>\n",
       "    </tr>\n",
       "    <tr>\n",
       "      <th>1</th>\n",
       "      <td>-0.243077</td>\n",
       "      <td>0.063846</td>\n",
       "      <td>-0.090769</td>\n",
       "      <td>-0.287692</td>\n",
       "      <td>-0.704615</td>\n",
       "      <td>-0.441538</td>\n",
       "      <td>-0.098462</td>\n",
       "      <td>-0.383077</td>\n",
       "      <td>-0.722308</td>\n",
       "      <td>-0.606154</td>\n",
       "      <td>...</td>\n",
       "      <td>0.0</td>\n",
       "      <td>0.0</td>\n",
       "      <td>0.0</td>\n",
       "      <td>0.0</td>\n",
       "      <td>0.0</td>\n",
       "      <td>0.0</td>\n",
       "      <td>0.0</td>\n",
       "      <td>0.0</td>\n",
       "      <td>0.0</td>\n",
       "      <td>0.0</td>\n",
       "    </tr>\n",
       "    <tr>\n",
       "      <th>2</th>\n",
       "      <td>-0.420000</td>\n",
       "      <td>-0.230000</td>\n",
       "      <td>-0.150769</td>\n",
       "      <td>-0.435385</td>\n",
       "      <td>-0.687692</td>\n",
       "      <td>-0.408462</td>\n",
       "      <td>-0.256923</td>\n",
       "      <td>-0.586154</td>\n",
       "      <td>-0.629231</td>\n",
       "      <td>-0.560000</td>\n",
       "      <td>...</td>\n",
       "      <td>0.0</td>\n",
       "      <td>0.0</td>\n",
       "      <td>0.0</td>\n",
       "      <td>0.0</td>\n",
       "      <td>0.0</td>\n",
       "      <td>0.0</td>\n",
       "      <td>0.0</td>\n",
       "      <td>0.0</td>\n",
       "      <td>0.0</td>\n",
       "      <td>0.0</td>\n",
       "    </tr>\n",
       "    <tr>\n",
       "      <th>3</th>\n",
       "      <td>-0.070769</td>\n",
       "      <td>-0.368462</td>\n",
       "      <td>-0.493846</td>\n",
       "      <td>-0.247692</td>\n",
       "      <td>-0.681538</td>\n",
       "      <td>-0.536923</td>\n",
       "      <td>-0.210000</td>\n",
       "      <td>-0.427692</td>\n",
       "      <td>-0.539231</td>\n",
       "      <td>-0.622308</td>\n",
       "      <td>...</td>\n",
       "      <td>0.0</td>\n",
       "      <td>0.0</td>\n",
       "      <td>0.0</td>\n",
       "      <td>0.0</td>\n",
       "      <td>0.0</td>\n",
       "      <td>0.0</td>\n",
       "      <td>0.0</td>\n",
       "      <td>0.0</td>\n",
       "      <td>0.0</td>\n",
       "      <td>0.0</td>\n",
       "    </tr>\n",
       "    <tr>\n",
       "      <th>4</th>\n",
       "      <td>0.153077</td>\n",
       "      <td>0.197692</td>\n",
       "      <td>0.030000</td>\n",
       "      <td>0.088462</td>\n",
       "      <td>-0.665385</td>\n",
       "      <td>-0.347692</td>\n",
       "      <td>-0.200000</td>\n",
       "      <td>-0.407692</td>\n",
       "      <td>-0.646154</td>\n",
       "      <td>-0.612308</td>\n",
       "      <td>...</td>\n",
       "      <td>0.0</td>\n",
       "      <td>0.0</td>\n",
       "      <td>0.0</td>\n",
       "      <td>0.0</td>\n",
       "      <td>0.0</td>\n",
       "      <td>0.0</td>\n",
       "      <td>0.0</td>\n",
       "      <td>1.0</td>\n",
       "      <td>0.0</td>\n",
       "      <td>0.0</td>\n",
       "    </tr>\n",
       "    <tr>\n",
       "      <th>...</th>\n",
       "      <td>...</td>\n",
       "      <td>...</td>\n",
       "      <td>...</td>\n",
       "      <td>...</td>\n",
       "      <td>...</td>\n",
       "      <td>...</td>\n",
       "      <td>...</td>\n",
       "      <td>...</td>\n",
       "      <td>...</td>\n",
       "      <td>...</td>\n",
       "      <td>...</td>\n",
       "      <td>...</td>\n",
       "      <td>...</td>\n",
       "      <td>...</td>\n",
       "      <td>...</td>\n",
       "      <td>...</td>\n",
       "      <td>...</td>\n",
       "      <td>...</td>\n",
       "      <td>...</td>\n",
       "      <td>...</td>\n",
       "      <td>...</td>\n",
       "    </tr>\n",
       "    <tr>\n",
       "      <th>276</th>\n",
       "      <td>0.076923</td>\n",
       "      <td>0.238462</td>\n",
       "      <td>0.079231</td>\n",
       "      <td>0.261538</td>\n",
       "      <td>1.023077</td>\n",
       "      <td>0.255385</td>\n",
       "      <td>0.172308</td>\n",
       "      <td>1.163077</td>\n",
       "      <td>1.258462</td>\n",
       "      <td>0.603846</td>\n",
       "      <td>...</td>\n",
       "      <td>0.0</td>\n",
       "      <td>0.0</td>\n",
       "      <td>0.0</td>\n",
       "      <td>0.0</td>\n",
       "      <td>0.0</td>\n",
       "      <td>0.0</td>\n",
       "      <td>0.0</td>\n",
       "      <td>0.0</td>\n",
       "      <td>0.0</td>\n",
       "      <td>0.0</td>\n",
       "    </tr>\n",
       "    <tr>\n",
       "      <th>277</th>\n",
       "      <td>-0.043077</td>\n",
       "      <td>-0.164615</td>\n",
       "      <td>-0.090000</td>\n",
       "      <td>-0.200000</td>\n",
       "      <td>1.063077</td>\n",
       "      <td>0.873846</td>\n",
       "      <td>-0.184615</td>\n",
       "      <td>0.191538</td>\n",
       "      <td>0.570769</td>\n",
       "      <td>1.036923</td>\n",
       "      <td>...</td>\n",
       "      <td>0.0</td>\n",
       "      <td>0.0</td>\n",
       "      <td>0.0</td>\n",
       "      <td>0.0</td>\n",
       "      <td>0.0</td>\n",
       "      <td>0.0</td>\n",
       "      <td>0.0</td>\n",
       "      <td>0.0</td>\n",
       "      <td>0.0</td>\n",
       "      <td>0.0</td>\n",
       "    </tr>\n",
       "    <tr>\n",
       "      <th>278</th>\n",
       "      <td>0.013846</td>\n",
       "      <td>0.266923</td>\n",
       "      <td>-0.103846</td>\n",
       "      <td>0.443077</td>\n",
       "      <td>1.092308</td>\n",
       "      <td>0.601538</td>\n",
       "      <td>0.500769</td>\n",
       "      <td>-0.234615</td>\n",
       "      <td>0.880000</td>\n",
       "      <td>1.216154</td>\n",
       "      <td>...</td>\n",
       "      <td>0.0</td>\n",
       "      <td>0.0</td>\n",
       "      <td>0.0</td>\n",
       "      <td>0.0</td>\n",
       "      <td>0.0</td>\n",
       "      <td>0.0</td>\n",
       "      <td>0.0</td>\n",
       "      <td>0.0</td>\n",
       "      <td>0.0</td>\n",
       "      <td>0.0</td>\n",
       "    </tr>\n",
       "    <tr>\n",
       "      <th>279</th>\n",
       "      <td>0.180000</td>\n",
       "      <td>0.539231</td>\n",
       "      <td>0.383077</td>\n",
       "      <td>0.868462</td>\n",
       "      <td>1.156923</td>\n",
       "      <td>0.320000</td>\n",
       "      <td>0.616923</td>\n",
       "      <td>1.432308</td>\n",
       "      <td>0.753846</td>\n",
       "      <td>0.910000</td>\n",
       "      <td>...</td>\n",
       "      <td>0.0</td>\n",
       "      <td>0.0</td>\n",
       "      <td>0.0</td>\n",
       "      <td>0.0</td>\n",
       "      <td>0.0</td>\n",
       "      <td>0.0</td>\n",
       "      <td>0.0</td>\n",
       "      <td>0.0</td>\n",
       "      <td>0.0</td>\n",
       "      <td>0.0</td>\n",
       "    </tr>\n",
       "    <tr>\n",
       "      <th>280</th>\n",
       "      <td>0.190769</td>\n",
       "      <td>0.680769</td>\n",
       "      <td>0.319231</td>\n",
       "      <td>0.763077</td>\n",
       "      <td>1.410769</td>\n",
       "      <td>0.267692</td>\n",
       "      <td>0.516923</td>\n",
       "      <td>0.981538</td>\n",
       "      <td>0.420000</td>\n",
       "      <td>0.449231</td>\n",
       "      <td>...</td>\n",
       "      <td>0.0</td>\n",
       "      <td>0.0</td>\n",
       "      <td>0.0</td>\n",
       "      <td>0.0</td>\n",
       "      <td>0.0</td>\n",
       "      <td>0.0</td>\n",
       "      <td>0.0</td>\n",
       "      <td>0.0</td>\n",
       "      <td>0.0</td>\n",
       "      <td>0.0</td>\n",
       "    </tr>\n",
       "  </tbody>\n",
       "</table>\n",
       "<p>281 rows × 91 columns</p>\n",
       "</div>"
      ],
      "text/plain": [
       "        goals        xg   crosses  boxtouches    passes  progpasses   takeons  \\\n",
       "0    0.055385 -0.119231 -0.020769    0.236154 -0.781538   -0.649231 -0.407692   \n",
       "1   -0.243077  0.063846 -0.090769   -0.287692 -0.704615   -0.441538 -0.098462   \n",
       "2   -0.420000 -0.230000 -0.150769   -0.435385 -0.687692   -0.408462 -0.256923   \n",
       "3   -0.070769 -0.368462 -0.493846   -0.247692 -0.681538   -0.536923 -0.210000   \n",
       "4    0.153077  0.197692  0.030000    0.088462 -0.665385   -0.347692 -0.200000   \n",
       "..        ...       ...       ...         ...       ...         ...       ...   \n",
       "276  0.076923  0.238462  0.079231    0.261538  1.023077    0.255385  0.172308   \n",
       "277 -0.043077 -0.164615 -0.090000   -0.200000  1.063077    0.873846 -0.184615   \n",
       "278  0.013846  0.266923 -0.103846    0.443077  1.092308    0.601538  0.500769   \n",
       "279  0.180000  0.539231  0.383077    0.868462  1.156923    0.320000  0.616923   \n",
       "280  0.190769  0.680769  0.319231    0.763077  1.410769    0.267692  0.516923   \n",
       "\n",
       "     progruns   tackles  interceptions  ...   64   65   66   67   68   69  \\\n",
       "0   -0.568462 -0.578462      -0.444615  ...  0.0  0.0  0.0  0.0  0.0  0.0   \n",
       "1   -0.383077 -0.722308      -0.606154  ...  0.0  0.0  0.0  0.0  0.0  0.0   \n",
       "2   -0.586154 -0.629231      -0.560000  ...  0.0  0.0  0.0  0.0  0.0  0.0   \n",
       "3   -0.427692 -0.539231      -0.622308  ...  0.0  0.0  0.0  0.0  0.0  0.0   \n",
       "4   -0.407692 -0.646154      -0.612308  ...  0.0  0.0  0.0  0.0  0.0  0.0   \n",
       "..        ...       ...            ...  ...  ...  ...  ...  ...  ...  ...   \n",
       "276  1.163077  1.258462       0.603846  ...  0.0  0.0  0.0  0.0  0.0  0.0   \n",
       "277  0.191538  0.570769       1.036923  ...  0.0  0.0  0.0  0.0  0.0  0.0   \n",
       "278 -0.234615  0.880000       1.216154  ...  0.0  0.0  0.0  0.0  0.0  0.0   \n",
       "279  1.432308  0.753846       0.910000  ...  0.0  0.0  0.0  0.0  0.0  0.0   \n",
       "280  0.981538  0.420000       0.449231  ...  0.0  0.0  0.0  0.0  0.0  0.0   \n",
       "\n",
       "      70   71   72   73  \n",
       "0    0.0  0.0  0.0  0.0  \n",
       "1    0.0  0.0  0.0  0.0  \n",
       "2    0.0  0.0  0.0  0.0  \n",
       "3    0.0  0.0  0.0  0.0  \n",
       "4    0.0  1.0  0.0  0.0  \n",
       "..   ...  ...  ...  ...  \n",
       "276  0.0  0.0  0.0  0.0  \n",
       "277  0.0  0.0  0.0  0.0  \n",
       "278  0.0  0.0  0.0  0.0  \n",
       "279  0.0  0.0  0.0  0.0  \n",
       "280  0.0  0.0  0.0  0.0  \n",
       "\n",
       "[281 rows x 91 columns]"
      ]
     },
     "execution_count": 12,
     "metadata": {},
     "output_type": "execute_result"
    }
   ],
   "source": [
    "df"
   ]
  },
  {
   "cell_type": "code",
   "execution_count": 4,
   "metadata": {},
   "outputs": [],
   "source": [
    "y = df['results']\n",
    "X = df.drop(columns=['results'])\n",
    "\n",
    "X_train, X_test, y_train, y_test = train_test_split(\n",
    "     X, y, test_size=0.10, random_state=2)"
   ]
  },
  {
   "cell_type": "code",
   "execution_count": 5,
   "metadata": {},
   "outputs": [],
   "source": [
    "reg = linear_model.LinearRegression()\n",
    "reg.fit(X_train, y_train)\n",
    "pred_train= reg.predict(X_train)"
   ]
  },
  {
   "cell_type": "markdown",
   "metadata": {},
   "source": [
    "Theres no clear difference between using all the features or a few features. mape goes back and forth depending on the random_state value"
   ]
  },
  {
   "cell_type": "code",
   "execution_count": 6,
   "metadata": {},
   "outputs": [
    {
     "name": "stdout",
     "output_type": "stream",
     "text": [
      "---------------------\n",
      "RMSE : 11763589878.826605\n",
      "R2 : -1.8061784366966487e+18\n",
      "MSE: 1.3838204683723171e+20\n",
      "MAE: 3089269999.581622\n",
      "MAPE: 965506850.1593784\n"
     ]
    }
   ],
   "source": [
    "# print('Linear Regression ')\n",
    "# print('---------------------')\n",
    "# print('RMSE: '+str(np.sqrt(mean_squared_error(y_train,pred_train))))\n",
    "# print('R Squared: '+str(r2_score(y_train, pred_train)))\n",
    "# print('MSE: '+str(mean_squared_error(y_train, pred_train)))\n",
    "# print('MAE: '+str(mean_absolute_error(y_train, pred_train)))\n",
    "# print('MAPE: '+str(mean_absolute_percentage_error(y_train, pred_train)))\n",
    "\n",
    "# print('RMSE : '+str(np.sqrt(mean_squared_error(y_test2,pred_test2)))) \n",
    "# print('R2 : '+str(r2_score(y_test2, pred_test2)))\n",
    "# print('MSE: '+str(mean_squared_error(y_test2, pred_test2)))\n",
    "# print('MAE: '+str(mean_absolute_error(y_test2, pred_test2)))\n",
    "# print('MAPE: '+str(mean_absolute_percentage_error(y_test2, pred_test2)))\n",
    "\n",
    "print('---------------------')\n",
    "\n",
    "pred_test= reg.predict(X_test)\n",
    "\n",
    "print('RMSE : '+str(np.sqrt(mean_squared_error(y_test,pred_test)))) \n",
    "print('R2 : '+str(r2_score(y_test, pred_test)))\n",
    "print('MSE: '+str(mean_squared_error(y_test, pred_test)))\n",
    "print('MAE: '+str(mean_absolute_error(y_test, pred_test)))\n",
    "print('MAPE: '+str(mean_absolute_percentage_error(y_test, pred_test)))"
   ]
  },
  {
   "cell_type": "code",
   "execution_count": 7,
   "metadata": {},
   "outputs": [],
   "source": [
    "data = {'y_test': y_test, 'y_pred': pred_test}\n",
    "new_df = pd.DataFrame(data)\n",
    "diff = (new_df['y_test'] - new_df['y_pred']).abs()\n",
    "new_df['diff'] = diff\n",
    "new_df = new_df.sort_values(by='diff', ascending=True)\n"
   ]
  },
  {
   "cell_type": "code",
   "execution_count": 8,
   "metadata": {},
   "outputs": [
    {
     "data": {
      "text/plain": [
       "3089269999.581622"
      ]
     },
     "execution_count": 8,
     "metadata": {},
     "output_type": "execute_result"
    }
   ],
   "source": [
    "new_df['diff'].mean()"
   ]
  },
  {
   "cell_type": "code",
   "execution_count": 9,
   "metadata": {},
   "outputs": [
    {
     "data": {
      "text/plain": [
       "6.340972900390625"
      ]
     },
     "execution_count": 9,
     "metadata": {},
     "output_type": "execute_result"
    }
   ],
   "source": [
    "new_df['diff'].median()"
   ]
  },
  {
   "cell_type": "code",
   "execution_count": null,
   "metadata": {},
   "outputs": [],
   "source": []
  },
  {
   "cell_type": "code",
   "execution_count": 10,
   "metadata": {},
   "outputs": [
    {
     "name": "stdout",
     "output_type": "stream",
     "text": [
      "                            OLS Regression Results                            \n",
      "==============================================================================\n",
      "Dep. Variable:                results   R-squared:                       0.689\n",
      "Model:                            OLS   Adj. R-squared:                  0.524\n",
      "Method:                 Least Squares   F-statistic:                     4.171\n",
      "Date:                Sun, 25 Sep 2022   Prob (F-statistic):           1.80e-15\n",
      "Time:                        19:37:10   Log-Likelihood:                -755.96\n",
      "No. Observations:                 252   AIC:                             1688.\n",
      "Df Residuals:                     164   BIC:                             1999.\n",
      "Df Model:                          87                                         \n",
      "Covariance Type:            nonrobust                                         \n",
      "=================================================================================\n",
      "                    coef    std err          t      P>|t|      [0.025      0.975]\n",
      "---------------------------------------------------------------------------------\n",
      "goals           -17.6633      2.113     -8.358      0.000     -21.836     -13.490\n",
      "xg               -0.8904      2.753     -0.323      0.747      -6.326       4.545\n",
      "crosses           2.6594      2.774      0.959      0.339      -2.818       8.137\n",
      "boxtouches        4.0758      3.730      1.093      0.276      -3.289      11.440\n",
      "passes            3.0491      2.859      1.066      0.288      -2.597       8.695\n",
      "progpasses       -1.6841      3.089     -0.545      0.586      -7.783       4.414\n",
      "takeons           5.1588      2.109      2.447      0.015       0.996       9.322\n",
      "progruns         -3.5975      1.920     -1.874      0.063      -7.389       0.194\n",
      "tackles          -2.8635      2.065     -1.387      0.167      -6.940       1.213\n",
      "interceptions    -0.4481      1.937     -0.231      0.817      -4.273       3.377\n",
      "clearances       -0.7038      2.503     -0.281      0.779      -5.646       4.238\n",
      "blocks           -1.1501      1.964     -0.586      0.559      -5.028       2.727\n",
      "aerials           0.1586      2.100      0.076      0.940      -3.987       4.305\n",
      "fouls             2.3884      1.700      1.405      0.162      -0.969       5.746\n",
      "fouled           -3.4081      1.966     -1.734      0.085      -7.289       0.473\n",
      "nsxg             -2.7045      3.930     -0.688      0.492     -10.465       5.056\n",
      "0                19.3020      3.709      5.204      0.000      11.978      26.626\n",
      "1                11.1067      6.155      1.804      0.073      -1.047      23.260\n",
      "2                22.5187      2.131     10.565      0.000      18.310      26.727\n",
      "3                20.2951      3.188      6.366      0.000      14.000      26.590\n",
      "4                14.5013      6.307      2.299      0.023       2.049      26.954\n",
      "5                12.0008      2.212      5.426      0.000       7.634      16.368\n",
      "6                12.4632      6.263      1.990      0.048       0.096      24.830\n",
      "7                19.6519      6.424      3.059      0.003       6.968      32.335\n",
      "8                23.8124      1.978     12.040      0.000      19.907      27.717\n",
      "9                13.1840      3.718      3.546      0.001       5.842      20.526\n",
      "10               15.9127      2.358      6.748      0.000      11.256      20.569\n",
      "11             1.268e-14   5.94e-15      2.136      0.034     9.6e-16    2.44e-14\n",
      "12               18.5150      3.672      5.042      0.000      11.264      25.766\n",
      "13                5.9621      6.382      0.934      0.352      -6.639      18.563\n",
      "14               25.2658      3.138      8.053      0.000      19.071      31.461\n",
      "15               15.7274      6.187      2.542      0.012       3.511      27.944\n",
      "16               15.1165      3.791      3.988      0.000       7.631      22.602\n",
      "17               18.7435      3.648      5.138      0.000      11.540      25.947\n",
      "18               15.8204      6.386      2.477      0.014       3.210      28.431\n",
      "19               19.8975      6.261      3.178      0.002       7.534      32.261\n",
      "20               12.7639      2.910      4.387      0.000       7.019      18.509\n",
      "21               11.9184      4.540      2.625      0.009       2.955      20.882\n",
      "22               15.0897      4.406      3.425      0.001       6.390      23.790\n",
      "23               12.2275      6.147      1.989      0.048       0.090      24.365\n",
      "24               16.3993      2.086      7.861      0.000      12.280      20.518\n",
      "25               21.2458      2.413      8.803      0.000      16.480      26.011\n",
      "26               17.8711      2.202      8.116      0.000      13.523      22.219\n",
      "27               17.9030      3.618      4.948      0.000      10.759      25.047\n",
      "28                8.8590      4.415      2.007      0.046       0.141      17.577\n",
      "29                7.0851      3.631      1.951      0.053      -0.084      14.254\n",
      "30               27.2808      6.306      4.326      0.000      14.830      39.732\n",
      "31                3.9962      6.193      0.645      0.520      -8.231      16.224\n",
      "32                7.1335      4.557      1.565      0.119      -1.865      16.132\n",
      "33               17.7976      6.330      2.812      0.006       5.299      30.296\n",
      "34               17.7663      2.465      7.208      0.000      12.899      22.633\n",
      "35               19.4992      3.646      5.348      0.000      12.300      26.698\n",
      "36               21.9282      6.224      3.523      0.001       9.639      34.217\n",
      "37               14.4809      3.183      4.549      0.000       8.195      20.767\n",
      "38               31.8698      6.630      4.807      0.000      18.779      44.960\n",
      "39               19.3531      2.442      7.926      0.000      14.532      24.175\n",
      "40               16.6176      3.649      4.554      0.000       9.413      23.822\n",
      "41               19.8508      2.634      7.537      0.000      14.650      25.051\n",
      "42                7.4729      4.570      1.635      0.104      -1.551      16.497\n",
      "43               13.5802      2.615      5.193      0.000       8.416      18.744\n",
      "44               16.9040      4.769      3.544      0.001       7.487      26.321\n",
      "45                8.0743      4.479      1.803      0.073      -0.770      16.919\n",
      "46                9.2833      6.297      1.474      0.142      -3.150      21.716\n",
      "47               14.4527      3.201      4.515      0.000       8.132      20.774\n",
      "48               19.2521      4.464      4.313      0.000      10.438      28.066\n",
      "49               17.7831      2.917      6.097      0.000      12.024      23.542\n",
      "50               21.0894      2.612      8.074      0.000      15.932      26.247\n",
      "51               21.1990      3.814      5.558      0.000      13.668      28.730\n",
      "52               24.7376      3.759      6.580      0.000      17.314      32.161\n",
      "53                9.4868      2.768      3.427      0.001       4.020      14.953\n",
      "54               14.2466      3.180      4.480      0.000       7.968      20.526\n",
      "55               19.9801      3.590      5.566      0.000      12.892      27.068\n",
      "56               12.8154      4.550      2.816      0.005       3.830      21.800\n",
      "57               19.6762      4.334      4.540      0.000      11.119      28.233\n",
      "58             7.028e-15   2.51e-15      2.800      0.006    2.07e-15     1.2e-14\n",
      "59                9.9173      4.544      2.182      0.031       0.945      18.890\n",
      "60               21.5530      3.618      5.958      0.000      14.410      28.696\n",
      "61               16.3787      2.196      7.460      0.000      12.043      20.714\n",
      "62               17.9418      2.458      7.301      0.000      13.089      22.794\n",
      "63               15.7135      2.885      5.447      0.000      10.018      21.409\n",
      "64               17.5933      2.943      5.978      0.000      11.783      23.404\n",
      "65                4.6208      6.348      0.728      0.468      -7.914      17.155\n",
      "66                1.4458      6.261      0.231      0.818     -10.917      13.809\n",
      "67               11.9931      3.582      3.348      0.001       4.920      19.067\n",
      "68               18.8475      6.192      3.044      0.003       6.622      31.073\n",
      "69               20.2851      6.574      3.085      0.002       7.304      33.267\n",
      "70               14.0635      6.413      2.193      0.030       1.401      26.726\n",
      "71               13.5810      2.708      5.016      0.000       8.235      18.927\n",
      "72               12.0438      2.375      5.070      0.000       7.353      16.734\n",
      "73               15.0075      3.557      4.220      0.000       7.985      22.030\n",
      "==============================================================================\n",
      "Omnibus:                        1.902   Durbin-Watson:                   1.847\n",
      "Prob(Omnibus):                  0.386   Jarque-Bera (JB):                1.672\n",
      "Skew:                           0.079   Prob(JB):                        0.433\n",
      "Kurtosis:                       3.366   Cond. No.                     3.50e+17\n",
      "==============================================================================\n",
      "\n",
      "Notes:\n",
      "[1] Standard Errors assume that the covariance matrix of the errors is correctly specified.\n",
      "[2] The smallest eigenvalue is 1.34e-33. This might indicate that there are\n",
      "strong multicollinearity problems or that the design matrix is singular.\n"
     ]
    }
   ],
   "source": [
    "model = sm.OLS(y_train, X_train)\n",
    "results = model.fit()\n",
    "print(results.summary())\n",
    "\n",
    "# https://www.statsmodels.org/dev/examples/notebooks/generated/ols.html\n"
   ]
  },
  {
   "cell_type": "code",
   "execution_count": 11,
   "metadata": {},
   "outputs": [
    {
     "name": "stdout",
     "output_type": "stream",
     "text": [
      "Linear Regression \n",
      "---------------------\n"
     ]
    },
    {
     "ename": "NameError",
     "evalue": "name 'X_tt' is not defined",
     "output_type": "error",
     "traceback": [
      "\u001b[0;31m---------------------------------------------------------------------------\u001b[0m",
      "\u001b[0;31mNameError\u001b[0m                                 Traceback (most recent call last)",
      "Input \u001b[0;32mIn [11]\u001b[0m, in \u001b[0;36m<cell line: 11>\u001b[0;34m()\u001b[0m\n\u001b[1;32m      2\u001b[0m \u001b[38;5;28mprint\u001b[39m(\u001b[38;5;124m'\u001b[39m\u001b[38;5;124m---------------------\u001b[39m\u001b[38;5;124m'\u001b[39m)\n\u001b[1;32m      3\u001b[0m \u001b[38;5;66;03m# print('RMSE: '+str(np.sqrt(mean_squared_error(y_tr,pred_new))))\u001b[39;00m\n\u001b[1;32m      4\u001b[0m \u001b[38;5;66;03m# print('R Squared: '+str(r2_score(y_tr, pred_new)))\u001b[39;00m\n\u001b[1;32m      5\u001b[0m \u001b[38;5;66;03m# print('MSE: '+str(mean_squared_error(y_tr, pred_new)))\u001b[39;00m\n\u001b[0;32m   (...)\u001b[0m\n\u001b[1;32m      8\u001b[0m \n\u001b[1;32m      9\u001b[0m \u001b[38;5;66;03m# print('---------------------')\u001b[39;00m\n\u001b[0;32m---> 11\u001b[0m pred_tt\u001b[38;5;241m=\u001b[39m reg\u001b[38;5;241m.\u001b[39mpredict(\u001b[43mX_tt\u001b[49m)\n\u001b[1;32m     13\u001b[0m \u001b[38;5;28mprint\u001b[39m(\u001b[38;5;124m'\u001b[39m\u001b[38;5;124mRMSE : \u001b[39m\u001b[38;5;124m'\u001b[39m\u001b[38;5;241m+\u001b[39m\u001b[38;5;28mstr\u001b[39m(np\u001b[38;5;241m.\u001b[39msqrt(mean_squared_error(y_tt,pred_tt)))) \n\u001b[1;32m     14\u001b[0m \u001b[38;5;28mprint\u001b[39m(\u001b[38;5;124m'\u001b[39m\u001b[38;5;124mR2 : \u001b[39m\u001b[38;5;124m'\u001b[39m\u001b[38;5;241m+\u001b[39m\u001b[38;5;28mstr\u001b[39m(r2_score(y_tt, pred_tt)))\n",
      "\u001b[0;31mNameError\u001b[0m: name 'X_tt' is not defined"
     ]
    }
   ],
   "source": [
    "print('Linear Regression ')\n",
    "print('---------------------')\n",
    "# print('RMSE: '+str(np.sqrt(mean_squared_error(y_tr,pred_new))))\n",
    "# print('R Squared: '+str(r2_score(y_tr, pred_new)))\n",
    "# print('MSE: '+str(mean_squared_error(y_tr, pred_new)))\n",
    "# print('MAE: '+str(mean_absolute_error(y_tr, pred_new)))\n",
    "# print('MAPE: '+str(mean_absolute_percentage_error(y_tr, pred_new)))\n",
    "\n",
    "# print('---------------------')\n",
    "\n",
    "pred_tt= reg.predict(X_tt)\n",
    "\n",
    "print('RMSE : '+str(np.sqrt(mean_squared_error(y_tt,pred_tt)))) \n",
    "print('R2 : '+str(r2_score(y_tt, pred_tt)))\n",
    "print('MSE: '+str(mean_squared_error(y_tt, pred_tt)))\n",
    "print('MAE: '+str(mean_absolute_error(y_tt, pred_tt)))\n",
    "print('MAPE: '+str(mean_absolute_percentage_error(y_tt, pred_tt)))"
   ]
  },
  {
   "cell_type": "code",
   "execution_count": 16,
   "metadata": {},
   "outputs": [],
   "source": [
    "x_train = X_train[['goals_z', 'xg_z', 'tackles_z', 'nsxg_z']]"
   ]
  },
  {
   "cell_type": "code",
   "execution_count": 17,
   "metadata": {},
   "outputs": [],
   "source": [
    "x_test = X_test[['goals_z', 'xg_z', 'tackles_z', 'nsxg_z']]"
   ]
  },
  {
   "cell_type": "code",
   "execution_count": 18,
   "metadata": {},
   "outputs": [],
   "source": [
    "reg.fit(x_train, y_train)\n",
    "pred_train= reg.predict(x_train)"
   ]
  },
  {
   "cell_type": "code",
   "execution_count": 19,
   "metadata": {},
   "outputs": [
    {
     "name": "stdout",
     "output_type": "stream",
     "text": [
      "Linear Regression \n",
      "---------------------\n",
      "---------------------\n",
      "RMSE : 8.413174396654563\n",
      "R2 : 0.17094695561603135\n",
      "MSE: 70.78150342852388\n",
      "MAE: 7.151357682585862\n",
      "MAPE: 1.7159454521224509\n"
     ]
    }
   ],
   "source": [
    "print('Linear Regression ')\n",
    "print('---------------------')\n",
    "# print('RMSE: '+str(np.sqrt(mean_squared_error(y_train,pred_train))))\n",
    "# print('R Squared: '+str(r2_score(y_train, pred_train)))\n",
    "# print('MSE: '+str(mean_squared_error(y_train, pred_train)))\n",
    "# print('MAE: '+str(mean_absolute_error(y_train, pred_train)))\n",
    "# print('MAPE: '+str(mean_absolute_percentage_error(y_train, pred_train)))\n",
    "\n",
    "print('---------------------')\n",
    "\n",
    "pred_test= reg.predict(x_test)\n",
    "\n",
    "print('RMSE : '+str(np.sqrt(mean_squared_error(y_test,pred_test)))) \n",
    "print('R2 : '+str(r2_score(y_test, pred_test)))\n",
    "print('MSE: '+str(mean_squared_error(y_test, pred_test)))\n",
    "print('MAE: '+str(mean_absolute_error(y_test, pred_test)))\n",
    "print('MAPE: '+str(mean_absolute_percentage_error(y_test, pred_test)))"
   ]
  },
  {
   "cell_type": "markdown",
   "metadata": {},
   "source": [
    "the lowest MAPE value, which tells us that it’s able to forecast the most accurately among the potential models."
   ]
  },
  {
   "cell_type": "code",
   "execution_count": null,
   "metadata": {},
   "outputs": [],
   "source": []
  },
  {
   "cell_type": "code",
   "execution_count": 20,
   "metadata": {},
   "outputs": [
    {
     "name": "stdout",
     "output_type": "stream",
     "text": [
      "Mean Squared Log Error: 0.9117718537197432\n"
     ]
    }
   ],
   "source": [
    "from sklearn.metrics import mean_squared_log_error\n",
    "print('Mean Squared Log Error: ' +str(mean_squared_log_error( y_test, pred_test, squared=False)))"
   ]
  },
  {
   "cell_type": "code",
   "execution_count": 21,
   "metadata": {},
   "outputs": [],
   "source": [
    "# #display adjusted R-squared\n",
    "# print('Adjusted r^2: ' +str(1 - (1-reg.score(X_train, y_train))*(len(y_train)-1)/(len(y_train)-X_train.shape[1]-1)))"
   ]
  },
  {
   "cell_type": "markdown",
   "metadata": {},
   "source": [
    "The value for R-squared can range from 0 to 1. A value of 0 indicates that the response variable cannot be explained by the predictor variable at all while a value of 1 indicates that the response variable can be perfectly explained without error by the predictor variables."
   ]
  },
  {
   "cell_type": "markdown",
   "metadata": {},
   "source": [
    "- AIC stands for (Akaike’s Information Criteria), a metric developped by the Japanese Statistician, Hirotugu Akaike, 1970. The basic idea of AIC is to penalize the inclusion of additional variables to a model. It adds a penalty that increases the error when including additional terms. The lower the AIC, the better the model.\n",
    "- AICc is a version of AIC corrected for small sample sizes.\n",
    "- BIC (or Bayesian information criteria) is a variant of AIC with a stronger penalty for including additional variables to the model.\n",
    "- Mallows Cp: A variant of AIC developed by Colin Mallows.\n"
   ]
  },
  {
   "cell_type": "markdown",
   "metadata": {},
   "source": [
    "# AIC"
   ]
  },
  {
   "cell_type": "code",
   "execution_count": 22,
   "metadata": {},
   "outputs": [],
   "source": [
    "import statsmodels.api as sm"
   ]
  },
  {
   "cell_type": "code",
   "execution_count": 23,
   "metadata": {},
   "outputs": [
    {
     "name": "stdout",
     "output_type": "stream",
     "text": [
      "AIC: 933.6069495486269\n"
     ]
    }
   ],
   "source": [
    "#add constant to predictor variables\n",
    "X_train = sm.add_constant(X_train)\n",
    "\n",
    "#fit regression model\n",
    "model = sm.OLS(y_train, X_train).fit()\n",
    "\n",
    "#view AIC of model\n",
    "print('AIC: '+str(model.aic))"
   ]
  },
  {
   "cell_type": "code",
   "execution_count": 24,
   "metadata": {},
   "outputs": [
    {
     "data": {
      "text/html": [
       "<div>\n",
       "<style scoped>\n",
       "    .dataframe tbody tr th:only-of-type {\n",
       "        vertical-align: middle;\n",
       "    }\n",
       "\n",
       "    .dataframe tbody tr th {\n",
       "        vertical-align: top;\n",
       "    }\n",
       "\n",
       "    .dataframe thead th {\n",
       "        text-align: right;\n",
       "    }\n",
       "</style>\n",
       "<table border=\"1\" class=\"dataframe\">\n",
       "  <thead>\n",
       "    <tr style=\"text-align: right;\">\n",
       "      <th></th>\n",
       "      <th>const</th>\n",
       "      <th>goals_z</th>\n",
       "      <th>xg_z</th>\n",
       "      <th>crosses_z</th>\n",
       "      <th>boxtouches_z</th>\n",
       "      <th>passes_z</th>\n",
       "      <th>progpasses_z</th>\n",
       "      <th>takeons_z</th>\n",
       "      <th>progruns_z</th>\n",
       "      <th>tackles_z</th>\n",
       "      <th>interceptions_z</th>\n",
       "      <th>clearances_z</th>\n",
       "      <th>blocks_z</th>\n",
       "      <th>aerials_z</th>\n",
       "      <th>fouls_z</th>\n",
       "      <th>fouled_z</th>\n",
       "      <th>nsxg_z</th>\n",
       "    </tr>\n",
       "  </thead>\n",
       "  <tbody>\n",
       "    <tr>\n",
       "      <th>90</th>\n",
       "      <td>1.0</td>\n",
       "      <td>-0.152308</td>\n",
       "      <td>0.048462</td>\n",
       "      <td>0.340769</td>\n",
       "      <td>-0.140000</td>\n",
       "      <td>-0.177692</td>\n",
       "      <td>-0.020769</td>\n",
       "      <td>0.083846</td>\n",
       "      <td>0.151538</td>\n",
       "      <td>0.327692</td>\n",
       "      <td>0.089231</td>\n",
       "      <td>0.031538</td>\n",
       "      <td>-0.366923</td>\n",
       "      <td>-0.170000</td>\n",
       "      <td>0.173077</td>\n",
       "      <td>0.409231</td>\n",
       "      <td>0.182308</td>\n",
       "    </tr>\n",
       "    <tr>\n",
       "      <th>89</th>\n",
       "      <td>1.0</td>\n",
       "      <td>-0.159231</td>\n",
       "      <td>-0.067692</td>\n",
       "      <td>-0.177692</td>\n",
       "      <td>-0.230000</td>\n",
       "      <td>-0.439231</td>\n",
       "      <td>-0.371538</td>\n",
       "      <td>0.294615</td>\n",
       "      <td>0.179231</td>\n",
       "      <td>-0.490000</td>\n",
       "      <td>-0.513846</td>\n",
       "      <td>0.153846</td>\n",
       "      <td>-0.358462</td>\n",
       "      <td>-0.078462</td>\n",
       "      <td>0.251538</td>\n",
       "      <td>0.506923</td>\n",
       "      <td>-0.276154</td>\n",
       "    </tr>\n",
       "    <tr>\n",
       "      <th>127</th>\n",
       "      <td>1.0</td>\n",
       "      <td>-0.051538</td>\n",
       "      <td>-0.145385</td>\n",
       "      <td>0.025385</td>\n",
       "      <td>-0.077692</td>\n",
       "      <td>0.152308</td>\n",
       "      <td>-0.122308</td>\n",
       "      <td>0.416154</td>\n",
       "      <td>0.668462</td>\n",
       "      <td>0.161538</td>\n",
       "      <td>0.006154</td>\n",
       "      <td>0.262308</td>\n",
       "      <td>0.083846</td>\n",
       "      <td>0.110769</td>\n",
       "      <td>0.229231</td>\n",
       "      <td>-0.048462</td>\n",
       "      <td>0.018462</td>\n",
       "    </tr>\n",
       "    <tr>\n",
       "      <th>118</th>\n",
       "      <td>1.0</td>\n",
       "      <td>0.148462</td>\n",
       "      <td>0.080000</td>\n",
       "      <td>0.282308</td>\n",
       "      <td>0.136923</td>\n",
       "      <td>-0.076154</td>\n",
       "      <td>-0.136154</td>\n",
       "      <td>0.069231</td>\n",
       "      <td>0.194615</td>\n",
       "      <td>-0.005385</td>\n",
       "      <td>-0.285385</td>\n",
       "      <td>-0.273846</td>\n",
       "      <td>0.194615</td>\n",
       "      <td>-0.096154</td>\n",
       "      <td>0.026923</td>\n",
       "      <td>-0.044615</td>\n",
       "      <td>-0.052308</td>\n",
       "    </tr>\n",
       "    <tr>\n",
       "      <th>48</th>\n",
       "      <td>1.0</td>\n",
       "      <td>0.200000</td>\n",
       "      <td>0.046154</td>\n",
       "      <td>-0.056154</td>\n",
       "      <td>0.129231</td>\n",
       "      <td>0.120769</td>\n",
       "      <td>0.053077</td>\n",
       "      <td>0.010769</td>\n",
       "      <td>0.267692</td>\n",
       "      <td>0.001538</td>\n",
       "      <td>0.106154</td>\n",
       "      <td>-0.132308</td>\n",
       "      <td>-0.310769</td>\n",
       "      <td>0.063846</td>\n",
       "      <td>0.234615</td>\n",
       "      <td>-0.180000</td>\n",
       "      <td>-0.002308</td>\n",
       "    </tr>\n",
       "  </tbody>\n",
       "</table>\n",
       "</div>"
      ],
      "text/plain": [
       "     const   goals_z      xg_z  crosses_z  boxtouches_z  passes_z  \\\n",
       "90     1.0 -0.152308  0.048462   0.340769     -0.140000 -0.177692   \n",
       "89     1.0 -0.159231 -0.067692  -0.177692     -0.230000 -0.439231   \n",
       "127    1.0 -0.051538 -0.145385   0.025385     -0.077692  0.152308   \n",
       "118    1.0  0.148462  0.080000   0.282308      0.136923 -0.076154   \n",
       "48     1.0  0.200000  0.046154  -0.056154      0.129231  0.120769   \n",
       "\n",
       "     progpasses_z  takeons_z  progruns_z  tackles_z  interceptions_z  \\\n",
       "90      -0.020769   0.083846    0.151538   0.327692         0.089231   \n",
       "89      -0.371538   0.294615    0.179231  -0.490000        -0.513846   \n",
       "127     -0.122308   0.416154    0.668462   0.161538         0.006154   \n",
       "118     -0.136154   0.069231    0.194615  -0.005385        -0.285385   \n",
       "48       0.053077   0.010769    0.267692   0.001538         0.106154   \n",
       "\n",
       "     clearances_z  blocks_z  aerials_z   fouls_z  fouled_z    nsxg_z  \n",
       "90       0.031538 -0.366923  -0.170000  0.173077  0.409231  0.182308  \n",
       "89       0.153846 -0.358462  -0.078462  0.251538  0.506923 -0.276154  \n",
       "127      0.262308  0.083846   0.110769  0.229231 -0.048462  0.018462  \n",
       "118     -0.273846  0.194615  -0.096154  0.026923 -0.044615 -0.052308  \n",
       "48      -0.132308 -0.310769   0.063846  0.234615 -0.180000 -0.002308  "
      ]
     },
     "execution_count": 24,
     "metadata": {},
     "output_type": "execute_result"
    }
   ],
   "source": [
    "X_train.head()"
   ]
  },
  {
   "cell_type": "code",
   "execution_count": 25,
   "metadata": {},
   "outputs": [],
   "source": [
    "new_x = X_train[['goals_z', 'boxtouches_z', 'fouls_z', 'fouled_z', 'blocks_z']]"
   ]
  },
  {
   "cell_type": "code",
   "execution_count": 26,
   "metadata": {},
   "outputs": [
    {
     "name": "stdout",
     "output_type": "stream",
     "text": [
      "918.3137064392761\n"
     ]
    }
   ],
   "source": [
    "#add constant to predictor variables\n",
    "new_x = sm.add_constant(new_x)\n",
    "\n",
    "#fit regression model\n",
    "model = sm.OLS(y_train, new_x).fit()\n",
    "\n",
    "#view AIC of model\n",
    "print(model.aic)"
   ]
  },
  {
   "cell_type": "markdown",
   "metadata": {},
   "source": [
    "for AIC - the model with a lower AIC value is the better fitting model. \n",
    "\n",
    "https://www.statology.org/aic-in-python/"
   ]
  },
  {
   "cell_type": "code",
   "execution_count": 27,
   "metadata": {},
   "outputs": [],
   "source": [
    "x = X_train[['goals_z', 'xg_z', 'tackles_z', 'nsxg_z']]"
   ]
  },
  {
   "cell_type": "code",
   "execution_count": 28,
   "metadata": {},
   "outputs": [
    {
     "name": "stdout",
     "output_type": "stream",
     "text": [
      "920.8005738434097\n"
     ]
    }
   ],
   "source": [
    "#add constant to predictor variables\n",
    "x = sm.add_constant(x)\n",
    "\n",
    "#fit regression model\n",
    "model = sm.OLS(y_train, x).fit()\n",
    "\n",
    "#view AIC of model\n",
    "print(model.aic)"
   ]
  },
  {
   "cell_type": "code",
   "execution_count": 29,
   "metadata": {},
   "outputs": [],
   "source": [
    "x_t = X_test[['goals_z', 'xg_z', 'tackles_z', 'nsxg_z']]"
   ]
  },
  {
   "cell_type": "code",
   "execution_count": 30,
   "metadata": {},
   "outputs": [
    {
     "name": "stdout",
     "output_type": "stream",
     "text": [
      "253.53947764010422\n"
     ]
    }
   ],
   "source": [
    "#add constant to predictor variables\n",
    "x_t = sm.add_constant(x_t)\n",
    "\n",
    "#fit regression model\n",
    "model = sm.OLS(y_test, x_t).fit()\n",
    "\n",
    "#view AIC of model\n",
    "print(model.aic)"
   ]
  },
  {
   "cell_type": "code",
   "execution_count": 31,
   "metadata": {},
   "outputs": [
    {
     "name": "stdout",
     "output_type": "stream",
     "text": [
      "248.75507495358127\n"
     ]
    }
   ],
   "source": [
    "#add constant to predictor variables\n",
    "x = sm.add_constant(X_test)\n",
    "\n",
    "#fit regression model\n",
    "model = sm.OLS(y_test, x).fit()\n",
    "\n",
    "#view AIC of model\n",
    "print(model.aic)"
   ]
  },
  {
   "cell_type": "code",
   "execution_count": 32,
   "metadata": {},
   "outputs": [
    {
     "data": {
      "text/plain": [
       "Index(['goals_z', 'xg_z', 'crosses_z', 'boxtouches_z', 'passes_z',\n",
       "       'progpasses_z', 'takeons_z', 'progruns_z', 'tackles_z',\n",
       "       'interceptions_z', 'clearances_z', 'blocks_z', 'aerials_z', 'fouls_z',\n",
       "       'fouled_z', 'nsxg_z', 'results'],\n",
       "      dtype='object')"
      ]
     },
     "execution_count": 32,
     "metadata": {},
     "output_type": "execute_result"
    }
   ],
   "source": [
    "df.columns"
   ]
  },
  {
   "cell_type": "code",
   "execution_count": 33,
   "metadata": {},
   "outputs": [],
   "source": [
    "x_t = X_test[['goals_z', 'xg_z', 'nsxg_z','clearances_z', \n",
    "              'progpasses_z', 'interceptions_z']]"
   ]
  },
  {
   "cell_type": "code",
   "execution_count": 34,
   "metadata": {},
   "outputs": [
    {
     "name": "stdout",
     "output_type": "stream",
     "text": [
      "254.3108595567764\n"
     ]
    }
   ],
   "source": [
    "#add constant to predictor variables\n",
    "x_t = sm.add_constant(x_t)\n",
    "\n",
    "#fit regression model\n",
    "model = sm.OLS(y_test, x_t).fit()\n",
    "\n",
    "#view AIC of model\n",
    "print(model.aic)"
   ]
  },
  {
   "cell_type": "markdown",
   "metadata": {},
   "source": [
    "- <b>205.0406 = ['goals_z', 'xg_z', 'nsxg_z','clearances_z', 'progpasses_z', 'interceptions_z']</b>\n",
    "- 209.6710 = ['goals_z', 'xg_z', 'tackles_z', 'nsxg_z']\n",
    "- 222.0039 = all features"
   ]
  },
  {
   "cell_type": "markdown",
   "metadata": {},
   "source": [
    "# Feature Selection"
   ]
  },
  {
   "cell_type": "code",
   "execution_count": 35,
   "metadata": {},
   "outputs": [],
   "source": [
    "from sklearn.feature_selection import SelectKBest, chi2\n"
   ]
  },
  {
   "cell_type": "markdown",
   "metadata": {},
   "source": [
    "# https://scikit-learn.org/stable/modules/model_evaluation.html#regression-metrics"
   ]
  },
  {
   "cell_type": "markdown",
   "metadata": {},
   "source": [
    "https://www.kaggle.com/code/satishgunjal/tutorial-k-fold-cross-validation"
   ]
  },
  {
   "cell_type": "code",
   "execution_count": null,
   "metadata": {},
   "outputs": [],
   "source": []
  }
 ],
 "metadata": {
  "kernelspec": {
   "display_name": "Python 3 (ipykernel)",
   "language": "python",
   "name": "python3"
  },
  "language_info": {
   "codemirror_mode": {
    "name": "ipython",
    "version": 3
   },
   "file_extension": ".py",
   "mimetype": "text/x-python",
   "name": "python",
   "nbconvert_exporter": "python",
   "pygments_lexer": "ipython3",
   "version": "3.9.12"
  }
 },
 "nbformat": 4,
 "nbformat_minor": 2
}
