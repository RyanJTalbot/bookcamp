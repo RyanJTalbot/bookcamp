{
 "cells": [
  {
   "cell_type": "code",
   "execution_count": 1,
   "metadata": {},
   "outputs": [],
   "source": [
    "import pandas as pd\n",
    "import numpy as np\n",
    "from sklearn.model_selection import train_test_split\n",
    "from sklearn.metrics import mean_squared_error\n",
    "from sklearn.metrics import r2_score\n",
    "from sklearn.metrics import mean_absolute_error\n",
    "from sklearn.metrics import mean_absolute_percentage_error\n",
    "\n",
    "from sklearn import linear_model\n"
   ]
  },
  {
   "cell_type": "code",
   "execution_count": 2,
   "metadata": {},
   "outputs": [],
   "source": [
    "df = pd.read_csv('wc-wo-outliers.csv')"
   ]
  },
  {
   "cell_type": "code",
   "execution_count": 3,
   "metadata": {},
   "outputs": [],
   "source": [
    "y = df['results']\n",
    "X = df.drop(columns=['results'])\n",
    "\n",
    "X_train, X_test, y_train, y_test = train_test_split(\n",
    "     X, y, test_size=0.20, random_state=1)"
   ]
  },
  {
   "cell_type": "code",
   "execution_count": 4,
   "metadata": {},
   "outputs": [],
   "source": [
    "reg = linear_model.LinearRegression()\n",
    "reg.fit(X_train, y_train)\n",
    "pred_train= reg.predict(X_train)"
   ]
  },
  {
   "cell_type": "code",
   "execution_count": 5,
   "metadata": {},
   "outputs": [
    {
     "name": "stdout",
     "output_type": "stream",
     "text": [
      "Linear Regression \n",
      "---------------------\n",
      "RMSE: 6.322750364864893\n",
      "R Squared: 0.5388878434290846\n",
      "MSE: 39.97717217639914\n",
      "MAE: 5.0711348407757555\n",
      "MAPE: 0.9277204828534783\n",
      "---------------------\n",
      "RMSE : 7.589107793384392\n",
      "R2 : 0.2950386733173721\n",
      "MSE: 57.59455709960772\n",
      "MAE: 6.294988780232196\n",
      "MAPE: 0.8948800905643852\n"
     ]
    }
   ],
   "source": [
    "print('Linear Regression ')\n",
    "print('---------------------')\n",
    "print('RMSE: '+str(np.sqrt(mean_squared_error(y_train,pred_train))))\n",
    "print('R Squared: '+str(r2_score(y_train, pred_train)))\n",
    "print('MSE: '+str(mean_squared_error(y_train, pred_train)))\n",
    "print('MAE: '+str(mean_absolute_error(y_train, pred_train)))\n",
    "print('MAPE: '+str(mean_absolute_percentage_error(y_train, pred_train)))\n",
    "\n",
    "print('---------------------')\n",
    "\n",
    "pred_test= reg.predict(X_test)\n",
    "\n",
    "print('RMSE : '+str(np.sqrt(mean_squared_error(y_test,pred_test)))) \n",
    "print('R2 : '+str(r2_score(y_test, pred_test)))\n",
    "print('MSE: '+str(mean_squared_error(y_test, pred_test)))\n",
    "print('MAE: '+str(mean_absolute_error(y_test, pred_test)))\n",
    "print('MAPE: '+str(mean_absolute_percentage_error(y_test, pred_test)))"
   ]
  },
  {
   "cell_type": "code",
   "execution_count": 51,
   "metadata": {},
   "outputs": [],
   "source": [
    "x_train = X_train[['goals_z', 'xg_z', 'tackles_z', 'nsxg_z']]"
   ]
  },
  {
   "cell_type": "code",
   "execution_count": 52,
   "metadata": {},
   "outputs": [],
   "source": [
    "x_test = X_test[['goals_z', 'xg_z', 'tackles_z', 'nsxg_z']]"
   ]
  },
  {
   "cell_type": "code",
   "execution_count": 54,
   "metadata": {},
   "outputs": [],
   "source": [
    "reg.fit(x_train, y_train)\n",
    "pred_train= reg.predict(x_train)"
   ]
  },
  {
   "cell_type": "code",
   "execution_count": 55,
   "metadata": {},
   "outputs": [
    {
     "name": "stdout",
     "output_type": "stream",
     "text": [
      "Linear Regression \n",
      "---------------------\n",
      "RMSE: 6.653300735302932\n",
      "R Squared: 0.48941410864051593\n",
      "MSE: 44.266410674382534\n",
      "MAE: 5.4312779157090025\n",
      "MAPE: 0.9624719869928929\n",
      "---------------------\n",
      "RMSE : 6.901090797137889\n",
      "R2 : 0.41706607228022774\n",
      "MSE: 47.62505419034126\n",
      "MAE: 5.974021049665942\n",
      "MAPE: 0.8674060149631102\n"
     ]
    }
   ],
   "source": [
    "print('Linear Regression ')\n",
    "print('---------------------')\n",
    "print('RMSE: '+str(np.sqrt(mean_squared_error(y_train,pred_train))))\n",
    "print('R Squared: '+str(r2_score(y_train, pred_train)))\n",
    "print('MSE: '+str(mean_squared_error(y_train, pred_train)))\n",
    "print('MAE: '+str(mean_absolute_error(y_train, pred_train)))\n",
    "print('MAPE: '+str(mean_absolute_percentage_error(y_train, pred_train)))\n",
    "\n",
    "print('---------------------')\n",
    "\n",
    "pred_test= reg.predict(x_test)\n",
    "\n",
    "print('RMSE : '+str(np.sqrt(mean_squared_error(y_test,pred_test)))) \n",
    "print('R2 : '+str(r2_score(y_test, pred_test)))\n",
    "print('MSE: '+str(mean_squared_error(y_test, pred_test)))\n",
    "print('MAE: '+str(mean_absolute_error(y_test, pred_test)))\n",
    "print('MAPE: '+str(mean_absolute_percentage_error(y_test, pred_test)))"
   ]
  },
  {
   "cell_type": "markdown",
   "metadata": {},
   "source": [
    "the lowest MAPE value, which tells us that it’s able to forecast the most accurately among the potential models."
   ]
  },
  {
   "cell_type": "code",
   "execution_count": null,
   "metadata": {},
   "outputs": [],
   "source": []
  },
  {
   "cell_type": "code",
   "execution_count": 31,
   "metadata": {},
   "outputs": [
    {
     "name": "stdout",
     "output_type": "stream",
     "text": [
      "Mean Squared Log Error: 0.6288239705759868\n"
     ]
    }
   ],
   "source": [
    "from sklearn.metrics import mean_squared_log_error\n",
    "print('Mean Squared Log Error: ' +str(mean_squared_log_error( y_test, pred_test, squared=False)))"
   ]
  },
  {
   "cell_type": "code",
   "execution_count": 34,
   "metadata": {},
   "outputs": [
    {
     "name": "stdout",
     "output_type": "stream",
     "text": [
      "Adjusted r^2: 0.46584037308121673\n"
     ]
    }
   ],
   "source": [
    "#display adjusted R-squared\n",
    "print('Adjusted r^2: ' +str(1 - (1-reg.score(X_train, y_train))*(len(y_train)-1)/(len(y_train)-X_train.shape[1]-1)))"
   ]
  },
  {
   "cell_type": "markdown",
   "metadata": {},
   "source": [
    "The value for R-squared can range from 0 to 1. A value of 0 indicates that the response variable cannot be explained by the predictor variable at all while a value of 1 indicates that the response variable can be perfectly explained without error by the predictor variables."
   ]
  },
  {
   "cell_type": "markdown",
   "metadata": {},
   "source": [
    "- AIC stands for (Akaike’s Information Criteria), a metric developped by the Japanese Statistician, Hirotugu Akaike, 1970. The basic idea of AIC is to penalize the inclusion of additional variables to a model. It adds a penalty that increases the error when including additional terms. The lower the AIC, the better the model.\n",
    "- AICc is a version of AIC corrected for small sample sizes.\n",
    "- BIC (or Bayesian information criteria) is a variant of AIC with a stronger penalty for including additional variables to the model.\n",
    "- Mallows Cp: A variant of AIC developed by Colin Mallows.\n"
   ]
  },
  {
   "cell_type": "code",
   "execution_count": 35,
   "metadata": {},
   "outputs": [],
   "source": [
    "import statsmodels.api as sm"
   ]
  },
  {
   "cell_type": "code",
   "execution_count": 37,
   "metadata": {},
   "outputs": [
    {
     "name": "stdout",
     "output_type": "stream",
     "text": [
      "AIC: 804.0899081188967\n"
     ]
    }
   ],
   "source": [
    "#add constant to predictor variables\n",
    "X_train = sm.add_constant(X_train)\n",
    "\n",
    "#fit regression model\n",
    "model = sm.OLS(y_train, X_train).fit()\n",
    "\n",
    "#view AIC of model\n",
    "print('AIC: '+str(model.aic))"
   ]
  },
  {
   "cell_type": "code",
   "execution_count": 38,
   "metadata": {},
   "outputs": [
    {
     "data": {
      "text/html": [
       "<div>\n",
       "<style scoped>\n",
       "    .dataframe tbody tr th:only-of-type {\n",
       "        vertical-align: middle;\n",
       "    }\n",
       "\n",
       "    .dataframe tbody tr th {\n",
       "        vertical-align: top;\n",
       "    }\n",
       "\n",
       "    .dataframe thead th {\n",
       "        text-align: right;\n",
       "    }\n",
       "</style>\n",
       "<table border=\"1\" class=\"dataframe\">\n",
       "  <thead>\n",
       "    <tr style=\"text-align: right;\">\n",
       "      <th></th>\n",
       "      <th>const</th>\n",
       "      <th>goals_z</th>\n",
       "      <th>xg_z</th>\n",
       "      <th>crosses_z</th>\n",
       "      <th>boxtouches_z</th>\n",
       "      <th>passes_z</th>\n",
       "      <th>progpasses_z</th>\n",
       "      <th>takeons_z</th>\n",
       "      <th>progruns_z</th>\n",
       "      <th>tackles_z</th>\n",
       "      <th>interceptions_z</th>\n",
       "      <th>clearances_z</th>\n",
       "      <th>blocks_z</th>\n",
       "      <th>aerials_z</th>\n",
       "      <th>fouls_z</th>\n",
       "      <th>fouled_z</th>\n",
       "      <th>nsxg_z</th>\n",
       "    </tr>\n",
       "  </thead>\n",
       "  <tbody>\n",
       "    <tr>\n",
       "      <th>126</th>\n",
       "      <td>1.0</td>\n",
       "      <td>-0.018462</td>\n",
       "      <td>0.184615</td>\n",
       "      <td>0.168462</td>\n",
       "      <td>0.276923</td>\n",
       "      <td>-0.106923</td>\n",
       "      <td>-0.225385</td>\n",
       "      <td>0.138462</td>\n",
       "      <td>0.063846</td>\n",
       "      <td>-0.024615</td>\n",
       "      <td>-0.153846</td>\n",
       "      <td>-0.119231</td>\n",
       "      <td>0.056923</td>\n",
       "      <td>0.285385</td>\n",
       "      <td>-0.036923</td>\n",
       "      <td>-0.293077</td>\n",
       "      <td>0.228462</td>\n",
       "    </tr>\n",
       "    <tr>\n",
       "      <th>97</th>\n",
       "      <td>1.0</td>\n",
       "      <td>0.198462</td>\n",
       "      <td>-0.116154</td>\n",
       "      <td>-0.090000</td>\n",
       "      <td>-0.013077</td>\n",
       "      <td>0.193077</td>\n",
       "      <td>0.132308</td>\n",
       "      <td>0.010769</td>\n",
       "      <td>0.395385</td>\n",
       "      <td>0.102308</td>\n",
       "      <td>0.802308</td>\n",
       "      <td>-0.154615</td>\n",
       "      <td>-0.013077</td>\n",
       "      <td>0.016154</td>\n",
       "      <td>0.668462</td>\n",
       "      <td>0.585385</td>\n",
       "      <td>-0.030000</td>\n",
       "    </tr>\n",
       "    <tr>\n",
       "      <th>42</th>\n",
       "      <td>1.0</td>\n",
       "      <td>0.214615</td>\n",
       "      <td>0.523077</td>\n",
       "      <td>-0.176154</td>\n",
       "      <td>0.277692</td>\n",
       "      <td>-0.196923</td>\n",
       "      <td>-0.245385</td>\n",
       "      <td>-0.013846</td>\n",
       "      <td>-0.178462</td>\n",
       "      <td>-0.228462</td>\n",
       "      <td>-0.250000</td>\n",
       "      <td>0.096154</td>\n",
       "      <td>0.032308</td>\n",
       "      <td>0.760769</td>\n",
       "      <td>-0.122308</td>\n",
       "      <td>0.119231</td>\n",
       "      <td>0.124615</td>\n",
       "    </tr>\n",
       "    <tr>\n",
       "      <th>135</th>\n",
       "      <td>1.0</td>\n",
       "      <td>0.766923</td>\n",
       "      <td>0.643846</td>\n",
       "      <td>-0.265385</td>\n",
       "      <td>0.230000</td>\n",
       "      <td>0.353077</td>\n",
       "      <td>-0.015385</td>\n",
       "      <td>0.496154</td>\n",
       "      <td>0.606923</td>\n",
       "      <td>0.446154</td>\n",
       "      <td>-0.096923</td>\n",
       "      <td>-0.128462</td>\n",
       "      <td>0.086923</td>\n",
       "      <td>-0.233846</td>\n",
       "      <td>0.180769</td>\n",
       "      <td>-0.118462</td>\n",
       "      <td>0.404615</td>\n",
       "    </tr>\n",
       "    <tr>\n",
       "      <th>28</th>\n",
       "      <td>1.0</td>\n",
       "      <td>0.332308</td>\n",
       "      <td>0.362308</td>\n",
       "      <td>-0.043846</td>\n",
       "      <td>0.316923</td>\n",
       "      <td>0.060000</td>\n",
       "      <td>0.019231</td>\n",
       "      <td>0.140769</td>\n",
       "      <td>0.210000</td>\n",
       "      <td>0.343846</td>\n",
       "      <td>0.276154</td>\n",
       "      <td>-0.057692</td>\n",
       "      <td>0.112308</td>\n",
       "      <td>-0.053846</td>\n",
       "      <td>0.143077</td>\n",
       "      <td>0.060769</td>\n",
       "      <td>0.192308</td>\n",
       "    </tr>\n",
       "  </tbody>\n",
       "</table>\n",
       "</div>"
      ],
      "text/plain": [
       "     const   goals_z      xg_z  crosses_z  boxtouches_z  passes_z  \\\n",
       "126    1.0 -0.018462  0.184615   0.168462      0.276923 -0.106923   \n",
       "97     1.0  0.198462 -0.116154  -0.090000     -0.013077  0.193077   \n",
       "42     1.0  0.214615  0.523077  -0.176154      0.277692 -0.196923   \n",
       "135    1.0  0.766923  0.643846  -0.265385      0.230000  0.353077   \n",
       "28     1.0  0.332308  0.362308  -0.043846      0.316923  0.060000   \n",
       "\n",
       "     progpasses_z  takeons_z  progruns_z  tackles_z  interceptions_z  \\\n",
       "126     -0.225385   0.138462    0.063846  -0.024615        -0.153846   \n",
       "97       0.132308   0.010769    0.395385   0.102308         0.802308   \n",
       "42      -0.245385  -0.013846   -0.178462  -0.228462        -0.250000   \n",
       "135     -0.015385   0.496154    0.606923   0.446154        -0.096923   \n",
       "28       0.019231   0.140769    0.210000   0.343846         0.276154   \n",
       "\n",
       "     clearances_z  blocks_z  aerials_z   fouls_z  fouled_z    nsxg_z  \n",
       "126     -0.119231  0.056923   0.285385 -0.036923 -0.293077  0.228462  \n",
       "97      -0.154615 -0.013077   0.016154  0.668462  0.585385 -0.030000  \n",
       "42       0.096154  0.032308   0.760769 -0.122308  0.119231  0.124615  \n",
       "135     -0.128462  0.086923  -0.233846  0.180769 -0.118462  0.404615  \n",
       "28      -0.057692  0.112308  -0.053846  0.143077  0.060769  0.192308  "
      ]
     },
     "execution_count": 38,
     "metadata": {},
     "output_type": "execute_result"
    }
   ],
   "source": [
    "X_train.head()"
   ]
  },
  {
   "cell_type": "code",
   "execution_count": 40,
   "metadata": {},
   "outputs": [],
   "source": [
    "new_x = X_train[['goals_z', 'boxtouches_z', 'fouls_z', 'fouled_z', 'blocks_z']]"
   ]
  },
  {
   "cell_type": "code",
   "execution_count": 41,
   "metadata": {},
   "outputs": [
    {
     "name": "stdout",
     "output_type": "stream",
     "text": [
      "794.4357164871906\n"
     ]
    }
   ],
   "source": [
    "#add constant to predictor variables\n",
    "new_x = sm.add_constant(new_x)\n",
    "\n",
    "#fit regression model\n",
    "model = sm.OLS(y_train, new_x).fit()\n",
    "\n",
    "#view AIC of model\n",
    "print(model.aic)"
   ]
  },
  {
   "cell_type": "markdown",
   "metadata": {},
   "source": [
    "for AIC - the model with a lower AIC value is the better fitting model. \n",
    "\n",
    "https://www.statology.org/aic-in-python/"
   ]
  },
  {
   "cell_type": "code",
   "execution_count": 44,
   "metadata": {},
   "outputs": [],
   "source": [
    "x = X_train[['goals_z', 'xg_z', 'tackles_z', 'nsxg_z']]"
   ]
  },
  {
   "cell_type": "code",
   "execution_count": 45,
   "metadata": {},
   "outputs": [
    {
     "name": "stdout",
     "output_type": "stream",
     "text": [
      "792.1161813534175\n"
     ]
    }
   ],
   "source": [
    "#add constant to predictor variables\n",
    "x = sm.add_constant(x)\n",
    "\n",
    "#fit regression model\n",
    "model = sm.OLS(y_train, x).fit()\n",
    "\n",
    "#view AIC of model\n",
    "print(model.aic)"
   ]
  },
  {
   "cell_type": "code",
   "execution_count": 46,
   "metadata": {},
   "outputs": [],
   "source": [
    "x_t = X_test[['goals_z', 'xg_z', 'tackles_z', 'nsxg_z']]"
   ]
  },
  {
   "cell_type": "code",
   "execution_count": 48,
   "metadata": {},
   "outputs": [
    {
     "name": "stdout",
     "output_type": "stream",
     "text": [
      "209.67105935243535\n"
     ]
    }
   ],
   "source": [
    "#add constant to predictor variables\n",
    "x_t = sm.add_constant(x_t)\n",
    "\n",
    "#fit regression model\n",
    "model = sm.OLS(y_test, x_t).fit()\n",
    "\n",
    "#view AIC of model\n",
    "print(model.aic)"
   ]
  },
  {
   "cell_type": "code",
   "execution_count": 50,
   "metadata": {},
   "outputs": [
    {
     "name": "stdout",
     "output_type": "stream",
     "text": [
      "222.00398789642531\n"
     ]
    }
   ],
   "source": [
    "#add constant to predictor variables\n",
    "x = sm.add_constant(X_test)\n",
    "\n",
    "#fit regression model\n",
    "model = sm.OLS(y_test, x).fit()\n",
    "\n",
    "#view AIC of model\n",
    "print(model.aic)"
   ]
  },
  {
   "cell_type": "markdown",
   "metadata": {},
   "source": [
    "# Feature Selection"
   ]
  },
  {
   "cell_type": "code",
   "execution_count": 57,
   "metadata": {},
   "outputs": [],
   "source": [
    "from sklearn.feature_selection import SelectKBest, chi2\n"
   ]
  },
  {
   "cell_type": "markdown",
   "metadata": {},
   "source": [
    "# https://scikit-learn.org/stable/modules/model_evaluation.html#regression-metrics"
   ]
  },
  {
   "cell_type": "code",
   "execution_count": 6,
   "metadata": {},
   "outputs": [],
   "source": [
    "from sklearn.metrics import explained_variance_score"
   ]
  },
  {
   "cell_type": "code",
   "execution_count": 7,
   "metadata": {},
   "outputs": [
    {
     "data": {
      "text/plain": [
       "0.29504085230276744"
      ]
     },
     "execution_count": 7,
     "metadata": {},
     "output_type": "execute_result"
    }
   ],
   "source": [
    "explained_variance_score(y_test, pred_test)"
   ]
  },
  {
   "cell_type": "code",
   "execution_count": 8,
   "metadata": {},
   "outputs": [
    {
     "data": {
      "text/plain": [
       "3.1528313658246794"
      ]
     },
     "execution_count": 8,
     "metadata": {},
     "output_type": "execute_result"
    }
   ],
   "source": [
    "from sklearn.metrics import mean_pinball_loss\n",
    "mean_pinball_loss(y_test, pred_test, alpha=0.1)"
   ]
  },
  {
   "cell_type": "markdown",
   "metadata": {},
   "source": [
    "The pinball loss output is a non-negative floating point. The best value is 0.0."
   ]
  },
  {
   "cell_type": "code",
   "execution_count": 9,
   "metadata": {},
   "outputs": [
    {
     "data": {
      "text/plain": [
       "3.1421574144075164"
      ]
     },
     "execution_count": 9,
     "metadata": {},
     "output_type": "execute_result"
    }
   ],
   "source": [
    "from sklearn.metrics import mean_pinball_loss\n",
    "mean_pinball_loss(y_test, pred_test, alpha=0.9)"
   ]
  },
  {
   "cell_type": "markdown",
   "metadata": {},
   "source": [
    "https://www.kaggle.com/code/satishgunjal/tutorial-k-fold-cross-validation"
   ]
  },
  {
   "cell_type": "code",
   "execution_count": 15,
   "metadata": {},
   "outputs": [
    {
     "name": "stdout",
     "output_type": "stream",
     "text": [
      "Ttest_indResult(statistic=-0.75011141092798, pvalue=0.4540780092168577)\n"
     ]
    }
   ],
   "source": [
    "import numpy as np\n",
    "from scipy.stats import ttest_ind\n",
    "\n",
    "v1 = np.random.normal(size=100)\n",
    "v2 = np.random.normal(size=100)\n",
    "\n",
    "res = ttest_ind(v1, v2)\n",
    "\n",
    "print(res)"
   ]
  },
  {
   "cell_type": "code",
   "execution_count": 16,
   "metadata": {},
   "outputs": [
    {
     "name": "stdout",
     "output_type": "stream",
     "text": [
      "Ttest_indResult(statistic=-0.006640338550430307, pvalue=0.9947246027266792)\n"
     ]
    }
   ],
   "source": [
    "import numpy as np\n",
    "from scipy.stats import ttest_ind\n",
    "\n",
    "v1 = y_test\n",
    "v2 = pred_test\n",
    "\n",
    "res = ttest_ind(v1, v2)\n",
    "\n",
    "print(res)"
   ]
  },
  {
   "cell_type": "code",
   "execution_count": 17,
   "metadata": {},
   "outputs": [
    {
     "name": "stdout",
     "output_type": "stream",
     "text": [
      "KstestResult(statistic=0.9264024104247022, pvalue=3.9023458533302164e-134)\n"
     ]
    }
   ],
   "source": [
    "from scipy.stats import kstest\n",
    "\n",
    "v = y_train\n",
    "\n",
    "res = kstest(v, 'norm')\n",
    "\n",
    "print(res)"
   ]
  },
  {
   "cell_type": "code",
   "execution_count": 18,
   "metadata": {},
   "outputs": [],
   "source": [
    "from sklearn.model_selection import KFold, StratifiedKFold, cross_val_score\n",
    "from sklearn import linear_model, tree, ensemble"
   ]
  },
  {
   "cell_type": "code",
   "execution_count": 19,
   "metadata": {},
   "outputs": [
    {
     "name": "stdout",
     "output_type": "stream",
     "text": [
      "Fold:1, Train set: 118, Test set:30\n",
      "Fold:2, Train set: 118, Test set:30\n",
      "Fold:3, Train set: 118, Test set:30\n",
      "Fold:4, Train set: 119, Test set:29\n",
      "Fold:5, Train set: 119, Test set:29\n"
     ]
    }
   ],
   "source": [
    "# Lets split the data into 5 folds.  \n",
    "# We will use this 'kf'(KFold splitting stratergy) object as input to cross_val_score() method\n",
    "kf =KFold(n_splits=5, shuffle=True, random_state=42)\n",
    "\n",
    "cnt = 1\n",
    "# split()  method generate indices to split data into training and test set.\n",
    "for train_index, test_index in kf.split(X, y):\n",
    "    print(f'Fold:{cnt}, Train set: {len(train_index)}, Test set:{len(test_index)}')\n",
    "    cnt += 1\n",
    "\n"
   ]
  },
  {
   "cell_type": "code",
   "execution_count": 20,
   "metadata": {},
   "outputs": [],
   "source": [
    "def rmse(score):\n",
    "    rmse = np.sqrt(-score)\n",
    "    print(f'rmse= {\"{:.2f}\".format(rmse)}')"
   ]
  },
  {
   "cell_type": "code",
   "execution_count": 21,
   "metadata": {},
   "outputs": [
    {
     "name": "stdout",
     "output_type": "stream",
     "text": [
      "Scores for each fold: [-42.90060139 -67.83759025 -55.70044129 -48.72097654 -60.44251809]\n",
      "rmse= 7.42\n"
     ]
    }
   ],
   "source": [
    "score = cross_val_score(linear_model.LinearRegression(), X, y, cv= kf, scoring=\"neg_mean_squared_error\")\n",
    "print(f'Scores for each fold: {score}')\n",
    "rmse(score.mean())"
   ]
  },
  {
   "cell_type": "code",
   "execution_count": 22,
   "metadata": {},
   "outputs": [
    {
     "name": "stdout",
     "output_type": "stream",
     "text": [
      "Scores for each fold: [-101.9        -107.93333333  -95.83333333  -89.68965517 -118.34482759]\n",
      "rmse= 10.14\n"
     ]
    }
   ],
   "source": [
    "score = cross_val_score(tree.DecisionTreeRegressor(random_state= 42), X, y, cv=kf, scoring=\"neg_mean_squared_error\")\n",
    "print(f'Scores for each fold: {score}')\n",
    "rmse(score.mean())"
   ]
  },
  {
   "cell_type": "code",
   "execution_count": 23,
   "metadata": {},
   "outputs": [
    {
     "name": "stdout",
     "output_type": "stream",
     "text": [
      "Scores for each fold are: [-48.77826333 -52.32521333 -57.16118667 -40.13016897 -45.96182759]\n",
      "rmse= 6.99\n"
     ]
    }
   ],
   "source": [
    "score = cross_val_score(ensemble.RandomForestRegressor(random_state= 42), X, y, cv= kf, scoring=\"neg_mean_squared_error\")\n",
    "print(f'Scores for each fold are: {score}')\n",
    "rmse(score.mean())"
   ]
  },
  {
   "cell_type": "code",
   "execution_count": 24,
   "metadata": {},
   "outputs": [
    {
     "name": "stdout",
     "output_type": "stream",
     "text": [
      "For max depth: 1\n",
      "rmse= 7.10\n",
      "For max depth: 2\n",
      "rmse= 7.26\n",
      "For max depth: 3\n",
      "rmse= 7.72\n",
      "For max depth: 4\n",
      "rmse= 9.31\n",
      "For max depth: 5\n",
      "rmse= 9.60\n",
      "For max depth: 6\n",
      "rmse= 9.57\n",
      "For max depth: 7\n",
      "rmse= 9.90\n",
      "For max depth: 8\n",
      "rmse= 9.68\n",
      "For max depth: 9\n",
      "rmse= 9.85\n",
      "For max depth: 10\n",
      "rmse= 10.06\n"
     ]
    }
   ],
   "source": [
    "max_depth = [1,2,3,4,5,6,7,8,9,10]\n",
    "\n",
    "for val in max_depth:\n",
    "    score = cross_val_score(tree.DecisionTreeRegressor(max_depth= val, random_state= 42), X, y, cv= kf, scoring=\"neg_mean_squared_error\")\n",
    "    print(f'For max depth: {val}')\n",
    "    rmse(score.mean())"
   ]
  },
  {
   "cell_type": "code",
   "execution_count": 25,
   "metadata": {},
   "outputs": [
    {
     "name": "stdout",
     "output_type": "stream",
     "text": [
      "For estimators: 50\n",
      "rmse= 7.08\n",
      "For estimators: 100\n",
      "rmse= 6.99\n",
      "For estimators: 150\n",
      "rmse= 6.98\n",
      "For estimators: 200\n",
      "rmse= 6.96\n",
      "For estimators: 250\n",
      "rmse= 6.96\n",
      "For estimators: 300\n",
      "rmse= 6.95\n",
      "For estimators: 350\n",
      "rmse= 6.93\n"
     ]
    }
   ],
   "source": [
    "estimators = [50, 100, 150, 200, 250, 300, 350]\n",
    "\n",
    "for count in estimators:\n",
    "    score = cross_val_score(ensemble.RandomForestRegressor(n_estimators= count, random_state= 42), X, y, cv= kf, scoring=\"neg_mean_squared_error\")\n",
    "    print(f'For estimators: {count}')\n",
    "    rmse(score.mean())"
   ]
  },
  {
   "cell_type": "code",
   "execution_count": null,
   "metadata": {},
   "outputs": [],
   "source": []
  }
 ],
 "metadata": {
  "kernelspec": {
   "display_name": "Python 3 (ipykernel)",
   "language": "python",
   "name": "python3"
  },
  "language_info": {
   "codemirror_mode": {
    "name": "ipython",
    "version": 3
   },
   "file_extension": ".py",
   "mimetype": "text/x-python",
   "name": "python",
   "nbconvert_exporter": "python",
   "pygments_lexer": "ipython3",
   "version": "3.9.12"
  }
 },
 "nbformat": 4,
 "nbformat_minor": 2
}
