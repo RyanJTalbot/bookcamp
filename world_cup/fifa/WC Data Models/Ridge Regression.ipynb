{
 "cells": [
  {
   "cell_type": "code",
   "execution_count": 1,
   "metadata": {},
   "outputs": [],
   "source": [
    "import pandas as pd\n",
    "import numpy as np\n",
    "from sklearn.model_selection import train_test_split\n",
    "from sklearn.metrics import mean_squared_error\n",
    "from sklearn.metrics import r2_score\n",
    "from sklearn.metrics import mean_absolute_error\n",
    "from sklearn.metrics import mean_absolute_percentage_error\n",
    "\n",
    "from sklearn.linear_model import Ridge"
   ]
  },
  {
   "cell_type": "code",
   "execution_count": 6,
   "metadata": {},
   "outputs": [],
   "source": [
    "df2 = pd.read_csv('wc-w-outliers.csv')"
   ]
  },
  {
   "cell_type": "code",
   "execution_count": 2,
   "metadata": {},
   "outputs": [],
   "source": [
    "df = pd.read_csv('wc-wo-outliers.csv')"
   ]
  },
  {
   "cell_type": "code",
   "execution_count": 7,
   "metadata": {},
   "outputs": [],
   "source": [
    "y2 = df2['results']\n",
    "X2 = df2.drop(columns=['results'])\n",
    "\n",
    "X_train2, X_test2, y_train2, y_test2 = train_test_split(\n",
    "     X2, y2, test_size=0.20, random_state=1)"
   ]
  },
  {
   "cell_type": "code",
   "execution_count": 8,
   "metadata": {},
   "outputs": [],
   "source": [
    "y = df['results']\n",
    "X = df.drop(columns=['results'])\n",
    "\n",
    "X_train, X_test, y_train, y_test = train_test_split(\n",
    "     X, y, test_size=0.20, random_state=1)"
   ]
  },
  {
   "cell_type": "code",
   "execution_count": 11,
   "metadata": {},
   "outputs": [],
   "source": [
    "rr = Ridge(alpha=0.0, )\n",
    "rr.fit(X_train, y_train) \n",
    "pred_train_rr= rr.predict(X_train)\n",
    "pred_test_rr= rr.predict(X_test)\n"
   ]
  },
  {
   "cell_type": "code",
   "execution_count": 12,
   "metadata": {},
   "outputs": [],
   "source": [
    "rr2 = Ridge(alpha=0.0, )\n",
    "rr2.fit(X_train2, y_train2) \n",
    "pred_train_rr2= rr2.predict(X_train2)\n",
    "pred_test_rr2= rr2.predict(X_test2)\n"
   ]
  },
  {
   "cell_type": "code",
   "execution_count": 14,
   "metadata": {},
   "outputs": [
    {
     "name": "stdout",
     "output_type": "stream",
     "text": [
      "RIDGE REGRESSION\n",
      "---------------------\n",
      "RMSE: 6.475648094796362\n",
      "R Squared: 0.3913822807761229\n",
      "MSE: 41.93401824763976\n",
      "MAE: 5.254619419958433\n",
      "MAPE: 0.926779686265549\n",
      "---------------------\n",
      "RMSE : 8.326618479383576\n",
      "R2 : 0.1879180316296183\n",
      "MSE: 69.33257530121205\n",
      "MAE: 6.930290335388318\n",
      "MAPE: 1.765332386947046\n"
     ]
    }
   ],
   "source": [
    "\n",
    "\n",
    "print('RIDGE REGRESSION')\n",
    "print('---------------------')\n",
    "print('RMSE: '+str(np.sqrt(mean_squared_error(y_test2,pred_test_rr2))))\n",
    "print('R Squared: '+str(r2_score(y_test2, pred_test_rr2)))\n",
    "print('MSE: '+str(mean_squared_error(y_test2, pred_test_rr2)))\n",
    "print('MAE: '+str(mean_absolute_error(y_test2, pred_test_rr2)))\n",
    "print('MAPE: '+str(mean_absolute_percentage_error(y_test2, pred_test_rr2)))\n",
    "\n",
    "print('---------------------')\n",
    "\n",
    "\n",
    "print('RMSE : '+str(np.sqrt(mean_squared_error(y_test,pred_test_rr)))) \n",
    "print('R2 : '+str(r2_score(y_test, pred_test_rr)))\n",
    "print('MSE: '+str(mean_squared_error(y_test, pred_test_rr)))\n",
    "print('MAE: '+str(mean_absolute_error(y_test, pred_test_rr)))\n",
    "print('MAPE: '+str(mean_absolute_percentage_error(y_test, pred_test_rr)))"
   ]
  },
  {
   "cell_type": "code",
   "execution_count": 5,
   "metadata": {},
   "outputs": [],
   "source": [
    "# MAPE: 1.057296243857532"
   ]
  },
  {
   "cell_type": "code",
   "execution_count": null,
   "metadata": {},
   "outputs": [],
   "source": []
  },
  {
   "cell_type": "markdown",
   "metadata": {},
   "source": []
  }
 ],
 "metadata": {
  "kernelspec": {
   "display_name": "Python 3 (ipykernel)",
   "language": "python",
   "name": "python3"
  },
  "language_info": {
   "codemirror_mode": {
    "name": "ipython",
    "version": 3
   },
   "file_extension": ".py",
   "mimetype": "text/x-python",
   "name": "python",
   "nbconvert_exporter": "python",
   "pygments_lexer": "ipython3",
   "version": "3.9.12"
  }
 },
 "nbformat": 4,
 "nbformat_minor": 2
}
