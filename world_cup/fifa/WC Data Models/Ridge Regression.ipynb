{
 "cells": [
  {
   "cell_type": "code",
   "execution_count": 1,
   "metadata": {},
   "outputs": [],
   "source": [
    "import pandas as pd\n",
    "import numpy as np\n",
    "from sklearn.model_selection import train_test_split\n",
    "from sklearn.metrics import mean_squared_error\n",
    "from sklearn.metrics import r2_score\n",
    "from sklearn.metrics import mean_absolute_error\n",
    "from sklearn.metrics import mean_absolute_percentage_error\n",
    "\n",
    "from sklearn.linear_model import Ridge"
   ]
  },
  {
   "cell_type": "code",
   "execution_count": 2,
   "metadata": {},
   "outputs": [],
   "source": [
    "df = pd.read_csv('hotData.csv')\n"
   ]
  },
  {
   "cell_type": "code",
   "execution_count": 3,
   "metadata": {},
   "outputs": [],
   "source": [
    "y = df['results']\n",
    "X = df.drop(columns=['results'])\n",
    "\n",
    "X_train, X_test, y_train, y_test = train_test_split(\n",
    "     X, y, test_size=0.10, random_state=2)"
   ]
  },
  {
   "cell_type": "code",
   "execution_count": 4,
   "metadata": {},
   "outputs": [],
   "source": [
    "rr = Ridge(alpha=0.0, )\n",
    "rr.fit(X_train, y_train) \n",
    "pred_train_rr= rr.predict(X_train)\n",
    "pred_test_rr= rr.predict(X_test)\n"
   ]
  },
  {
   "cell_type": "code",
   "execution_count": 5,
   "metadata": {},
   "outputs": [
    {
     "name": "stdout",
     "output_type": "stream",
     "text": [
      "RIDGE REGRESSION\n",
      "---------------------\n",
      "RMSE : 365690675150.24207\n",
      "R2 : -1.7454550761870648e+21\n",
      "MSE: 1.3372966989183987e+23\n",
      "MAE: 96035074443.15938\n",
      "MAPE: 30014379571.183292\n"
     ]
    }
   ],
   "source": [
    "\n",
    "\n",
    "print('RIDGE REGRESSION')\n",
    "\n",
    "print('---------------------')\n",
    "\n",
    "\n",
    "print('RMSE : '+str(np.sqrt(mean_squared_error(y_test,pred_test_rr)))) \n",
    "print('R2 : '+str(r2_score(y_test, pred_test_rr)))\n",
    "print('MSE: '+str(mean_squared_error(y_test, pred_test_rr)))\n",
    "print('MAE: '+str(mean_absolute_error(y_test, pred_test_rr)))\n",
    "print('MAPE: '+str(mean_absolute_percentage_error(y_test, pred_test_rr)))"
   ]
  },
  {
   "cell_type": "code",
   "execution_count": 6,
   "metadata": {},
   "outputs": [],
   "source": [
    "# MAPE: 1.057296243857532"
   ]
  },
  {
   "cell_type": "code",
   "execution_count": 7,
   "metadata": {},
   "outputs": [],
   "source": [
    "data = {'y_test': y_test, 'y_pred': pred_test_rr}\n",
    "new_df = pd.DataFrame(data)\n",
    "diff = (new_df['y_test'] - new_df['y_pred']).abs()\n",
    "new_df['diff'] = diff\n",
    "new_df = new_df.sort_values(by='diff', ascending=True)\n"
   ]
  },
  {
   "cell_type": "code",
   "execution_count": 8,
   "metadata": {},
   "outputs": [
    {
     "data": {
      "text/html": [
       "<div>\n",
       "<style scoped>\n",
       "    .dataframe tbody tr th:only-of-type {\n",
       "        vertical-align: middle;\n",
       "    }\n",
       "\n",
       "    .dataframe tbody tr th {\n",
       "        vertical-align: top;\n",
       "    }\n",
       "\n",
       "    .dataframe thead th {\n",
       "        text-align: right;\n",
       "    }\n",
       "</style>\n",
       "<table border=\"1\" class=\"dataframe\">\n",
       "  <thead>\n",
       "    <tr style=\"text-align: right;\">\n",
       "      <th></th>\n",
       "      <th>y_test</th>\n",
       "      <th>y_pred</th>\n",
       "      <th>diff</th>\n",
       "    </tr>\n",
       "  </thead>\n",
       "  <tbody>\n",
       "    <tr>\n",
       "      <th>118</th>\n",
       "      <td>7</td>\n",
       "      <td>7.563965e+00</td>\n",
       "      <td>5.639648e-01</td>\n",
       "    </tr>\n",
       "    <tr>\n",
       "      <th>11</th>\n",
       "      <td>27</td>\n",
       "      <td>2.828491e+01</td>\n",
       "      <td>1.284912e+00</td>\n",
       "    </tr>\n",
       "    <tr>\n",
       "      <th>152</th>\n",
       "      <td>15</td>\n",
       "      <td>1.659399e+01</td>\n",
       "      <td>1.593994e+00</td>\n",
       "    </tr>\n",
       "    <tr>\n",
       "      <th>13</th>\n",
       "      <td>25</td>\n",
       "      <td>2.254102e+01</td>\n",
       "      <td>2.458984e+00</td>\n",
       "    </tr>\n",
       "    <tr>\n",
       "      <th>66</th>\n",
       "      <td>12</td>\n",
       "      <td>1.448096e+01</td>\n",
       "      <td>2.480957e+00</td>\n",
       "    </tr>\n",
       "    <tr>\n",
       "      <th>89</th>\n",
       "      <td>12</td>\n",
       "      <td>1.462427e+01</td>\n",
       "      <td>2.624268e+00</td>\n",
       "    </tr>\n",
       "    <tr>\n",
       "      <th>77</th>\n",
       "      <td>16</td>\n",
       "      <td>1.880273e+01</td>\n",
       "      <td>2.802734e+00</td>\n",
       "    </tr>\n",
       "    <tr>\n",
       "      <th>250</th>\n",
       "      <td>10</td>\n",
       "      <td>1.344604e+01</td>\n",
       "      <td>3.446045e+00</td>\n",
       "    </tr>\n",
       "    <tr>\n",
       "      <th>245</th>\n",
       "      <td>9</td>\n",
       "      <td>1.291016e+01</td>\n",
       "      <td>3.910156e+00</td>\n",
       "    </tr>\n",
       "    <tr>\n",
       "      <th>176</th>\n",
       "      <td>19</td>\n",
       "      <td>2.291504e+01</td>\n",
       "      <td>3.915039e+00</td>\n",
       "    </tr>\n",
       "    <tr>\n",
       "      <th>101</th>\n",
       "      <td>13</td>\n",
       "      <td>8.573975e+00</td>\n",
       "      <td>4.426025e+00</td>\n",
       "    </tr>\n",
       "    <tr>\n",
       "      <th>173</th>\n",
       "      <td>3</td>\n",
       "      <td>8.206299e+00</td>\n",
       "      <td>5.206299e+00</td>\n",
       "    </tr>\n",
       "    <tr>\n",
       "      <th>127</th>\n",
       "      <td>15</td>\n",
       "      <td>9.727539e+00</td>\n",
       "      <td>5.272461e+00</td>\n",
       "    </tr>\n",
       "    <tr>\n",
       "      <th>7</th>\n",
       "      <td>30</td>\n",
       "      <td>2.404297e+01</td>\n",
       "      <td>5.957031e+00</td>\n",
       "    </tr>\n",
       "    <tr>\n",
       "      <th>227</th>\n",
       "      <td>4</td>\n",
       "      <td>1.034106e+01</td>\n",
       "      <td>6.341064e+00</td>\n",
       "    </tr>\n",
       "    <tr>\n",
       "      <th>35</th>\n",
       "      <td>23</td>\n",
       "      <td>1.631860e+01</td>\n",
       "      <td>6.681396e+00</td>\n",
       "    </tr>\n",
       "    <tr>\n",
       "      <th>113</th>\n",
       "      <td>4</td>\n",
       "      <td>1.087915e+01</td>\n",
       "      <td>6.879150e+00</td>\n",
       "    </tr>\n",
       "    <tr>\n",
       "      <th>252</th>\n",
       "      <td>28</td>\n",
       "      <td>2.102954e+01</td>\n",
       "      <td>6.970459e+00</td>\n",
       "    </tr>\n",
       "    <tr>\n",
       "      <th>133</th>\n",
       "      <td>22</td>\n",
       "      <td>1.476147e+01</td>\n",
       "      <td>7.238525e+00</td>\n",
       "    </tr>\n",
       "    <tr>\n",
       "      <th>93</th>\n",
       "      <td>24</td>\n",
       "      <td>1.520654e+01</td>\n",
       "      <td>8.793457e+00</td>\n",
       "    </tr>\n",
       "    <tr>\n",
       "      <th>112</th>\n",
       "      <td>28</td>\n",
       "      <td>1.844067e+01</td>\n",
       "      <td>9.559326e+00</td>\n",
       "    </tr>\n",
       "    <tr>\n",
       "      <th>191</th>\n",
       "      <td>20</td>\n",
       "      <td>1.043921e+01</td>\n",
       "      <td>9.560791e+00</td>\n",
       "    </tr>\n",
       "    <tr>\n",
       "      <th>141</th>\n",
       "      <td>24</td>\n",
       "      <td>1.363062e+01</td>\n",
       "      <td>1.036938e+01</td>\n",
       "    </tr>\n",
       "    <tr>\n",
       "      <th>142</th>\n",
       "      <td>5</td>\n",
       "      <td>1.624512e+01</td>\n",
       "      <td>1.124512e+01</td>\n",
       "    </tr>\n",
       "    <tr>\n",
       "      <th>128</th>\n",
       "      <td>31</td>\n",
       "      <td>1.846118e+01</td>\n",
       "      <td>1.253882e+01</td>\n",
       "    </tr>\n",
       "    <tr>\n",
       "      <th>157</th>\n",
       "      <td>15</td>\n",
       "      <td>9.702148e-01</td>\n",
       "      <td>1.402979e+01</td>\n",
       "    </tr>\n",
       "    <tr>\n",
       "      <th>29</th>\n",
       "      <td>11</td>\n",
       "      <td>2.991138e+01</td>\n",
       "      <td>1.891138e+01</td>\n",
       "    </tr>\n",
       "    <tr>\n",
       "      <th>99</th>\n",
       "      <td>8</td>\n",
       "      <td>-1.392244e+12</td>\n",
       "      <td>1.392244e+12</td>\n",
       "    </tr>\n",
       "    <tr>\n",
       "      <th>3</th>\n",
       "      <td>2</td>\n",
       "      <td>-1.392773e+12</td>\n",
       "      <td>1.392773e+12</td>\n",
       "    </tr>\n",
       "  </tbody>\n",
       "</table>\n",
       "</div>"
      ],
      "text/plain": [
       "     y_test        y_pred          diff\n",
       "118       7  7.563965e+00  5.639648e-01\n",
       "11       27  2.828491e+01  1.284912e+00\n",
       "152      15  1.659399e+01  1.593994e+00\n",
       "13       25  2.254102e+01  2.458984e+00\n",
       "66       12  1.448096e+01  2.480957e+00\n",
       "89       12  1.462427e+01  2.624268e+00\n",
       "77       16  1.880273e+01  2.802734e+00\n",
       "250      10  1.344604e+01  3.446045e+00\n",
       "245       9  1.291016e+01  3.910156e+00\n",
       "176      19  2.291504e+01  3.915039e+00\n",
       "101      13  8.573975e+00  4.426025e+00\n",
       "173       3  8.206299e+00  5.206299e+00\n",
       "127      15  9.727539e+00  5.272461e+00\n",
       "7        30  2.404297e+01  5.957031e+00\n",
       "227       4  1.034106e+01  6.341064e+00\n",
       "35       23  1.631860e+01  6.681396e+00\n",
       "113       4  1.087915e+01  6.879150e+00\n",
       "252      28  2.102954e+01  6.970459e+00\n",
       "133      22  1.476147e+01  7.238525e+00\n",
       "93       24  1.520654e+01  8.793457e+00\n",
       "112      28  1.844067e+01  9.559326e+00\n",
       "191      20  1.043921e+01  9.560791e+00\n",
       "141      24  1.363062e+01  1.036938e+01\n",
       "142       5  1.624512e+01  1.124512e+01\n",
       "128      31  1.846118e+01  1.253882e+01\n",
       "157      15  9.702148e-01  1.402979e+01\n",
       "29       11  2.991138e+01  1.891138e+01\n",
       "99        8 -1.392244e+12  1.392244e+12\n",
       "3         2 -1.392773e+12  1.392773e+12"
      ]
     },
     "execution_count": 8,
     "metadata": {},
     "output_type": "execute_result"
    }
   ],
   "source": [
    "new_df"
   ]
  },
  {
   "cell_type": "code",
   "execution_count": 26,
   "metadata": {},
   "outputs": [
    {
     "data": {
      "text/plain": [
       "4.370877473890004"
      ]
     },
     "execution_count": 26,
     "metadata": {},
     "output_type": "execute_result"
    }
   ],
   "source": [
    "new_df['diff'].mean()"
   ]
  },
  {
   "cell_type": "code",
   "execution_count": 27,
   "metadata": {},
   "outputs": [
    {
     "data": {
      "text/plain": [
       "3.0817040648362664"
      ]
     },
     "execution_count": 27,
     "metadata": {},
     "output_type": "execute_result"
    }
   ],
   "source": [
    "new_df['diff'].median()"
   ]
  },
  {
   "cell_type": "code",
   "execution_count": null,
   "metadata": {},
   "outputs": [],
   "source": []
  }
 ],
 "metadata": {
  "kernelspec": {
   "display_name": "Python 3 (ipykernel)",
   "language": "python",
   "name": "python3"
  },
  "language_info": {
   "codemirror_mode": {
    "name": "ipython",
    "version": 3
   },
   "file_extension": ".py",
   "mimetype": "text/x-python",
   "name": "python",
   "nbconvert_exporter": "python",
   "pygments_lexer": "ipython3",
   "version": "3.9.12"
  }
 },
 "nbformat": 4,
 "nbformat_minor": 2
}
