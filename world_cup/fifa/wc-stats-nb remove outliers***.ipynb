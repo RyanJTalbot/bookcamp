{
 "cells": [
  {
   "cell_type": "markdown",
   "metadata": {},
   "source": [
    "https://santiagof.medium.com/model-interpretability-making-your-model-confess-feature-importance-34993e001d99"
   ]
  },
  {
   "cell_type": "code",
   "execution_count": 233,
   "metadata": {},
   "outputs": [],
   "source": [
    "import pandas as pd\n",
    "import numpy as np\n",
    "from sklearn.model_selection import train_test_split\n",
    "import seaborn as sns\n",
    "import matplotlib.pyplot as plt"
   ]
  },
  {
   "cell_type": "code",
   "execution_count": 234,
   "metadata": {},
   "outputs": [],
   "source": [
    "df = pd.read_csv('WC-stats.csv')"
   ]
  },
  {
   "cell_type": "code",
   "execution_count": 235,
   "metadata": {},
   "outputs": [
    {
     "data": {
      "text/html": [
       "<div>\n",
       "<style scoped>\n",
       "    .dataframe tbody tr th:only-of-type {\n",
       "        vertical-align: middle;\n",
       "    }\n",
       "\n",
       "    .dataframe tbody tr th {\n",
       "        vertical-align: top;\n",
       "    }\n",
       "\n",
       "    .dataframe thead th {\n",
       "        text-align: right;\n",
       "    }\n",
       "</style>\n",
       "<table border=\"1\" class=\"dataframe\">\n",
       "  <thead>\n",
       "    <tr style=\"text-align: right;\">\n",
       "      <th></th>\n",
       "      <th>goals_z</th>\n",
       "      <th>xg_z</th>\n",
       "      <th>crosses_z</th>\n",
       "      <th>boxtouches_z</th>\n",
       "      <th>passes_z</th>\n",
       "      <th>progpasses_z</th>\n",
       "      <th>takeons_z</th>\n",
       "      <th>progruns_z</th>\n",
       "      <th>tackles_z</th>\n",
       "      <th>interceptions_z</th>\n",
       "      <th>clearances_z</th>\n",
       "      <th>blocks_z</th>\n",
       "      <th>aerials_z</th>\n",
       "      <th>fouls_z</th>\n",
       "      <th>fouled_z</th>\n",
       "      <th>nsxg_z</th>\n",
       "      <th>results</th>\n",
       "    </tr>\n",
       "  </thead>\n",
       "  <tbody>\n",
       "    <tr>\n",
       "      <th>0</th>\n",
       "      <td>0.423077</td>\n",
       "      <td>0.146923</td>\n",
       "      <td>-0.136154</td>\n",
       "      <td>-0.030000</td>\n",
       "      <td>0.429231</td>\n",
       "      <td>0.037692</td>\n",
       "      <td>0.244615</td>\n",
       "      <td>-0.220000</td>\n",
       "      <td>0.216154</td>\n",
       "      <td>0.270000</td>\n",
       "      <td>-0.076923</td>\n",
       "      <td>-0.097692</td>\n",
       "      <td>-0.020000</td>\n",
       "      <td>-0.224615</td>\n",
       "      <td>0.100769</td>\n",
       "      <td>-0.124615</td>\n",
       "      <td>2</td>\n",
       "    </tr>\n",
       "    <tr>\n",
       "      <th>1</th>\n",
       "      <td>0.216923</td>\n",
       "      <td>0.348462</td>\n",
       "      <td>0.031538</td>\n",
       "      <td>0.158462</td>\n",
       "      <td>0.835385</td>\n",
       "      <td>0.626923</td>\n",
       "      <td>0.270000</td>\n",
       "      <td>0.266923</td>\n",
       "      <td>1.143846</td>\n",
       "      <td>0.834615</td>\n",
       "      <td>-0.059231</td>\n",
       "      <td>-0.134615</td>\n",
       "      <td>0.196923</td>\n",
       "      <td>-0.016923</td>\n",
       "      <td>0.033846</td>\n",
       "      <td>0.146923</td>\n",
       "      <td>1</td>\n",
       "    </tr>\n",
       "    <tr>\n",
       "      <th>2</th>\n",
       "      <td>0.113846</td>\n",
       "      <td>0.392308</td>\n",
       "      <td>0.599231</td>\n",
       "      <td>0.513846</td>\n",
       "      <td>0.833077</td>\n",
       "      <td>0.405385</td>\n",
       "      <td>0.521538</td>\n",
       "      <td>1.139231</td>\n",
       "      <td>1.109231</td>\n",
       "      <td>0.859231</td>\n",
       "      <td>0.084615</td>\n",
       "      <td>0.103077</td>\n",
       "      <td>0.683846</td>\n",
       "      <td>0.213846</td>\n",
       "      <td>0.353846</td>\n",
       "      <td>0.786923</td>\n",
       "      <td>9</td>\n",
       "    </tr>\n",
       "    <tr>\n",
       "      <th>3</th>\n",
       "      <td>0.479231</td>\n",
       "      <td>0.609231</td>\n",
       "      <td>0.227692</td>\n",
       "      <td>0.450769</td>\n",
       "      <td>0.770769</td>\n",
       "      <td>0.042308</td>\n",
       "      <td>0.337692</td>\n",
       "      <td>0.927692</td>\n",
       "      <td>0.506923</td>\n",
       "      <td>1.015385</td>\n",
       "      <td>0.020769</td>\n",
       "      <td>0.381538</td>\n",
       "      <td>0.038462</td>\n",
       "      <td>0.039231</td>\n",
       "      <td>0.022308</td>\n",
       "      <td>0.692308</td>\n",
       "      <td>5</td>\n",
       "    </tr>\n",
       "    <tr>\n",
       "      <th>4</th>\n",
       "      <td>0.877692</td>\n",
       "      <td>0.773846</td>\n",
       "      <td>0.428462</td>\n",
       "      <td>0.659231</td>\n",
       "      <td>0.754615</td>\n",
       "      <td>0.335385</td>\n",
       "      <td>0.023077</td>\n",
       "      <td>0.638462</td>\n",
       "      <td>0.493846</td>\n",
       "      <td>0.637692</td>\n",
       "      <td>-0.117692</td>\n",
       "      <td>-0.033846</td>\n",
       "      <td>0.572308</td>\n",
       "      <td>-0.016154</td>\n",
       "      <td>-0.096923</td>\n",
       "      <td>0.890769</td>\n",
       "      <td>5</td>\n",
       "    </tr>\n",
       "  </tbody>\n",
       "</table>\n",
       "</div>"
      ],
      "text/plain": [
       "    goals_z      xg_z  crosses_z  boxtouches_z  passes_z  progpasses_z  \\\n",
       "0  0.423077  0.146923  -0.136154     -0.030000  0.429231      0.037692   \n",
       "1  0.216923  0.348462   0.031538      0.158462  0.835385      0.626923   \n",
       "2  0.113846  0.392308   0.599231      0.513846  0.833077      0.405385   \n",
       "3  0.479231  0.609231   0.227692      0.450769  0.770769      0.042308   \n",
       "4  0.877692  0.773846   0.428462      0.659231  0.754615      0.335385   \n",
       "\n",
       "   takeons_z  progruns_z  tackles_z  interceptions_z  clearances_z  blocks_z  \\\n",
       "0   0.244615   -0.220000   0.216154         0.270000     -0.076923 -0.097692   \n",
       "1   0.270000    0.266923   1.143846         0.834615     -0.059231 -0.134615   \n",
       "2   0.521538    1.139231   1.109231         0.859231      0.084615  0.103077   \n",
       "3   0.337692    0.927692   0.506923         1.015385      0.020769  0.381538   \n",
       "4   0.023077    0.638462   0.493846         0.637692     -0.117692 -0.033846   \n",
       "\n",
       "   aerials_z   fouls_z  fouled_z    nsxg_z  results  \n",
       "0  -0.020000 -0.224615  0.100769 -0.124615        2  \n",
       "1   0.196923 -0.016923  0.033846  0.146923        1  \n",
       "2   0.683846  0.213846  0.353846  0.786923        9  \n",
       "3   0.038462  0.039231  0.022308  0.692308        5  \n",
       "4   0.572308 -0.016154 -0.096923  0.890769        5  "
      ]
     },
     "execution_count": 235,
     "metadata": {},
     "output_type": "execute_result"
    }
   ],
   "source": [
    "df.head()"
   ]
  },
  {
   "cell_type": "code",
   "execution_count": 236,
   "metadata": {},
   "outputs": [
    {
     "data": {
      "text/plain": [
       "(249, 17)"
      ]
     },
     "execution_count": 236,
     "metadata": {},
     "output_type": "execute_result"
    }
   ],
   "source": [
    "df.shape"
   ]
  },
  {
   "cell_type": "code",
   "execution_count": 237,
   "metadata": {},
   "outputs": [
    {
     "name": "stdout",
     "output_type": "stream",
     "text": [
      "<class 'pandas.core.frame.DataFrame'>\n",
      "RangeIndex: 249 entries, 0 to 248\n",
      "Data columns (total 17 columns):\n",
      " #   Column           Non-Null Count  Dtype  \n",
      "---  ------           --------------  -----  \n",
      " 0   goals_z          249 non-null    float64\n",
      " 1   xg_z             249 non-null    float64\n",
      " 2   crosses_z        249 non-null    float64\n",
      " 3   boxtouches_z     249 non-null    float64\n",
      " 4   passes_z         249 non-null    float64\n",
      " 5   progpasses_z     249 non-null    float64\n",
      " 6   takeons_z        249 non-null    float64\n",
      " 7   progruns_z       249 non-null    float64\n",
      " 8   tackles_z        249 non-null    float64\n",
      " 9   interceptions_z  249 non-null    float64\n",
      " 10  clearances_z     249 non-null    float64\n",
      " 11  blocks_z         249 non-null    float64\n",
      " 12  aerials_z        249 non-null    float64\n",
      " 13  fouls_z          249 non-null    float64\n",
      " 14  fouled_z         249 non-null    float64\n",
      " 15  nsxg_z           249 non-null    float64\n",
      " 16  results          249 non-null    int64  \n",
      "dtypes: float64(16), int64(1)\n",
      "memory usage: 33.2 KB\n"
     ]
    }
   ],
   "source": [
    "df.info()"
   ]
  },
  {
   "cell_type": "code",
   "execution_count": 238,
   "metadata": {},
   "outputs": [
    {
     "data": {
      "text/html": [
       "<div>\n",
       "<style scoped>\n",
       "    .dataframe tbody tr th:only-of-type {\n",
       "        vertical-align: middle;\n",
       "    }\n",
       "\n",
       "    .dataframe tbody tr th {\n",
       "        vertical-align: top;\n",
       "    }\n",
       "\n",
       "    .dataframe thead th {\n",
       "        text-align: right;\n",
       "    }\n",
       "</style>\n",
       "<table border=\"1\" class=\"dataframe\">\n",
       "  <thead>\n",
       "    <tr style=\"text-align: right;\">\n",
       "      <th></th>\n",
       "      <th>goals_z</th>\n",
       "      <th>xg_z</th>\n",
       "      <th>crosses_z</th>\n",
       "      <th>boxtouches_z</th>\n",
       "      <th>passes_z</th>\n",
       "      <th>progpasses_z</th>\n",
       "      <th>takeons_z</th>\n",
       "      <th>progruns_z</th>\n",
       "      <th>tackles_z</th>\n",
       "      <th>interceptions_z</th>\n",
       "      <th>clearances_z</th>\n",
       "      <th>blocks_z</th>\n",
       "      <th>aerials_z</th>\n",
       "      <th>fouls_z</th>\n",
       "      <th>fouled_z</th>\n",
       "      <th>nsxg_z</th>\n",
       "      <th>results</th>\n",
       "    </tr>\n",
       "  </thead>\n",
       "  <tbody>\n",
       "    <tr>\n",
       "      <th>goals_z</th>\n",
       "      <td>1.000000</td>\n",
       "      <td>0.626423</td>\n",
       "      <td>0.121791</td>\n",
       "      <td>0.361573</td>\n",
       "      <td>0.201254</td>\n",
       "      <td>0.057748</td>\n",
       "      <td>0.280116</td>\n",
       "      <td>0.210852</td>\n",
       "      <td>0.220027</td>\n",
       "      <td>0.185047</td>\n",
       "      <td>-0.206795</td>\n",
       "      <td>0.044809</td>\n",
       "      <td>0.025145</td>\n",
       "      <td>-0.080193</td>\n",
       "      <td>0.062243</td>\n",
       "      <td>0.389946</td>\n",
       "      <td>-0.603331</td>\n",
       "    </tr>\n",
       "    <tr>\n",
       "      <th>xg_z</th>\n",
       "      <td>0.626423</td>\n",
       "      <td>1.000000</td>\n",
       "      <td>0.403630</td>\n",
       "      <td>0.658816</td>\n",
       "      <td>0.317344</td>\n",
       "      <td>0.110861</td>\n",
       "      <td>0.370343</td>\n",
       "      <td>0.376921</td>\n",
       "      <td>0.345147</td>\n",
       "      <td>0.274207</td>\n",
       "      <td>-0.393340</td>\n",
       "      <td>0.052933</td>\n",
       "      <td>0.019199</td>\n",
       "      <td>-0.010628</td>\n",
       "      <td>0.172793</td>\n",
       "      <td>0.648870</td>\n",
       "      <td>-0.314959</td>\n",
       "    </tr>\n",
       "    <tr>\n",
       "      <th>crosses_z</th>\n",
       "      <td>0.121791</td>\n",
       "      <td>0.403630</td>\n",
       "      <td>1.000000</td>\n",
       "      <td>0.646816</td>\n",
       "      <td>0.261067</td>\n",
       "      <td>0.283617</td>\n",
       "      <td>0.144843</td>\n",
       "      <td>0.271905</td>\n",
       "      <td>0.224616</td>\n",
       "      <td>0.229022</td>\n",
       "      <td>-0.265786</td>\n",
       "      <td>0.032907</td>\n",
       "      <td>0.229716</td>\n",
       "      <td>0.081504</td>\n",
       "      <td>0.174428</td>\n",
       "      <td>0.692136</td>\n",
       "      <td>-0.012455</td>\n",
       "    </tr>\n",
       "    <tr>\n",
       "      <th>boxtouches_z</th>\n",
       "      <td>0.361573</td>\n",
       "      <td>0.658816</td>\n",
       "      <td>0.646816</td>\n",
       "      <td>1.000000</td>\n",
       "      <td>0.370556</td>\n",
       "      <td>0.241600</td>\n",
       "      <td>0.243476</td>\n",
       "      <td>0.382399</td>\n",
       "      <td>0.386077</td>\n",
       "      <td>0.284006</td>\n",
       "      <td>-0.421671</td>\n",
       "      <td>0.123944</td>\n",
       "      <td>0.223041</td>\n",
       "      <td>0.045067</td>\n",
       "      <td>0.175380</td>\n",
       "      <td>0.858338</td>\n",
       "      <td>-0.205333</td>\n",
       "    </tr>\n",
       "    <tr>\n",
       "      <th>passes_z</th>\n",
       "      <td>0.201254</td>\n",
       "      <td>0.317344</td>\n",
       "      <td>0.261067</td>\n",
       "      <td>0.370556</td>\n",
       "      <td>1.000000</td>\n",
       "      <td>0.743343</td>\n",
       "      <td>0.390093</td>\n",
       "      <td>0.578904</td>\n",
       "      <td>0.736886</td>\n",
       "      <td>0.748676</td>\n",
       "      <td>-0.119142</td>\n",
       "      <td>0.381609</td>\n",
       "      <td>-0.019652</td>\n",
       "      <td>0.080286</td>\n",
       "      <td>0.307298</td>\n",
       "      <td>0.481129</td>\n",
       "      <td>-0.145072</td>\n",
       "    </tr>\n",
       "    <tr>\n",
       "      <th>progpasses_z</th>\n",
       "      <td>0.057748</td>\n",
       "      <td>0.110861</td>\n",
       "      <td>0.283617</td>\n",
       "      <td>0.241600</td>\n",
       "      <td>0.743343</td>\n",
       "      <td>1.000000</td>\n",
       "      <td>0.150204</td>\n",
       "      <td>0.314679</td>\n",
       "      <td>0.498668</td>\n",
       "      <td>0.559612</td>\n",
       "      <td>-0.006009</td>\n",
       "      <td>0.343120</td>\n",
       "      <td>0.032038</td>\n",
       "      <td>0.221248</td>\n",
       "      <td>0.190707</td>\n",
       "      <td>0.364531</td>\n",
       "      <td>-0.026958</td>\n",
       "    </tr>\n",
       "    <tr>\n",
       "      <th>takeons_z</th>\n",
       "      <td>0.280116</td>\n",
       "      <td>0.370343</td>\n",
       "      <td>0.144843</td>\n",
       "      <td>0.243476</td>\n",
       "      <td>0.390093</td>\n",
       "      <td>0.150204</td>\n",
       "      <td>1.000000</td>\n",
       "      <td>0.550012</td>\n",
       "      <td>0.387286</td>\n",
       "      <td>0.381535</td>\n",
       "      <td>-0.116678</td>\n",
       "      <td>0.167480</td>\n",
       "      <td>-0.132021</td>\n",
       "      <td>0.125744</td>\n",
       "      <td>0.341139</td>\n",
       "      <td>0.392535</td>\n",
       "      <td>-0.179808</td>\n",
       "    </tr>\n",
       "    <tr>\n",
       "      <th>progruns_z</th>\n",
       "      <td>0.210852</td>\n",
       "      <td>0.376921</td>\n",
       "      <td>0.271905</td>\n",
       "      <td>0.382399</td>\n",
       "      <td>0.578904</td>\n",
       "      <td>0.314679</td>\n",
       "      <td>0.550012</td>\n",
       "      <td>1.000000</td>\n",
       "      <td>0.512019</td>\n",
       "      <td>0.416062</td>\n",
       "      <td>-0.093093</td>\n",
       "      <td>0.272149</td>\n",
       "      <td>-0.097711</td>\n",
       "      <td>0.035097</td>\n",
       "      <td>0.251172</td>\n",
       "      <td>0.468336</td>\n",
       "      <td>-0.198999</td>\n",
       "    </tr>\n",
       "    <tr>\n",
       "      <th>tackles_z</th>\n",
       "      <td>0.220027</td>\n",
       "      <td>0.345147</td>\n",
       "      <td>0.224616</td>\n",
       "      <td>0.386077</td>\n",
       "      <td>0.736886</td>\n",
       "      <td>0.498668</td>\n",
       "      <td>0.387286</td>\n",
       "      <td>0.512019</td>\n",
       "      <td>1.000000</td>\n",
       "      <td>0.695414</td>\n",
       "      <td>-0.207252</td>\n",
       "      <td>0.266387</td>\n",
       "      <td>0.013539</td>\n",
       "      <td>0.020043</td>\n",
       "      <td>0.300686</td>\n",
       "      <td>0.461608</td>\n",
       "      <td>-0.174490</td>\n",
       "    </tr>\n",
       "    <tr>\n",
       "      <th>interceptions_z</th>\n",
       "      <td>0.185047</td>\n",
       "      <td>0.274207</td>\n",
       "      <td>0.229022</td>\n",
       "      <td>0.284006</td>\n",
       "      <td>0.748676</td>\n",
       "      <td>0.559612</td>\n",
       "      <td>0.381535</td>\n",
       "      <td>0.416062</td>\n",
       "      <td>0.695414</td>\n",
       "      <td>1.000000</td>\n",
       "      <td>-0.117102</td>\n",
       "      <td>0.311170</td>\n",
       "      <td>-0.009078</td>\n",
       "      <td>0.145117</td>\n",
       "      <td>0.320314</td>\n",
       "      <td>0.405356</td>\n",
       "      <td>-0.109239</td>\n",
       "    </tr>\n",
       "    <tr>\n",
       "      <th>clearances_z</th>\n",
       "      <td>-0.206795</td>\n",
       "      <td>-0.393340</td>\n",
       "      <td>-0.265786</td>\n",
       "      <td>-0.421671</td>\n",
       "      <td>-0.119142</td>\n",
       "      <td>-0.006009</td>\n",
       "      <td>-0.116678</td>\n",
       "      <td>-0.093093</td>\n",
       "      <td>-0.207252</td>\n",
       "      <td>-0.117102</td>\n",
       "      <td>1.000000</td>\n",
       "      <td>0.202925</td>\n",
       "      <td>0.285981</td>\n",
       "      <td>0.204690</td>\n",
       "      <td>0.034775</td>\n",
       "      <td>-0.413704</td>\n",
       "      <td>0.107403</td>\n",
       "    </tr>\n",
       "    <tr>\n",
       "      <th>blocks_z</th>\n",
       "      <td>0.044809</td>\n",
       "      <td>0.052933</td>\n",
       "      <td>0.032907</td>\n",
       "      <td>0.123944</td>\n",
       "      <td>0.381609</td>\n",
       "      <td>0.343120</td>\n",
       "      <td>0.167480</td>\n",
       "      <td>0.272149</td>\n",
       "      <td>0.266387</td>\n",
       "      <td>0.311170</td>\n",
       "      <td>0.202925</td>\n",
       "      <td>1.000000</td>\n",
       "      <td>0.023616</td>\n",
       "      <td>0.187962</td>\n",
       "      <td>0.079754</td>\n",
       "      <td>0.154483</td>\n",
       "      <td>-0.063775</td>\n",
       "    </tr>\n",
       "    <tr>\n",
       "      <th>aerials_z</th>\n",
       "      <td>0.025145</td>\n",
       "      <td>0.019199</td>\n",
       "      <td>0.229716</td>\n",
       "      <td>0.223041</td>\n",
       "      <td>-0.019652</td>\n",
       "      <td>0.032038</td>\n",
       "      <td>-0.132021</td>\n",
       "      <td>-0.097711</td>\n",
       "      <td>0.013539</td>\n",
       "      <td>-0.009078</td>\n",
       "      <td>0.285981</td>\n",
       "      <td>0.023616</td>\n",
       "      <td>1.000000</td>\n",
       "      <td>0.127747</td>\n",
       "      <td>0.008107</td>\n",
       "      <td>0.151427</td>\n",
       "      <td>-0.034183</td>\n",
       "    </tr>\n",
       "    <tr>\n",
       "      <th>fouls_z</th>\n",
       "      <td>-0.080193</td>\n",
       "      <td>-0.010628</td>\n",
       "      <td>0.081504</td>\n",
       "      <td>0.045067</td>\n",
       "      <td>0.080286</td>\n",
       "      <td>0.221248</td>\n",
       "      <td>0.125744</td>\n",
       "      <td>0.035097</td>\n",
       "      <td>0.020043</td>\n",
       "      <td>0.145117</td>\n",
       "      <td>0.204690</td>\n",
       "      <td>0.187962</td>\n",
       "      <td>0.127747</td>\n",
       "      <td>1.000000</td>\n",
       "      <td>0.283676</td>\n",
       "      <td>0.096396</td>\n",
       "      <td>0.095687</td>\n",
       "    </tr>\n",
       "    <tr>\n",
       "      <th>fouled_z</th>\n",
       "      <td>0.062243</td>\n",
       "      <td>0.172793</td>\n",
       "      <td>0.174428</td>\n",
       "      <td>0.175380</td>\n",
       "      <td>0.307298</td>\n",
       "      <td>0.190707</td>\n",
       "      <td>0.341139</td>\n",
       "      <td>0.251172</td>\n",
       "      <td>0.300686</td>\n",
       "      <td>0.320314</td>\n",
       "      <td>0.034775</td>\n",
       "      <td>0.079754</td>\n",
       "      <td>0.008107</td>\n",
       "      <td>0.283676</td>\n",
       "      <td>1.000000</td>\n",
       "      <td>0.268655</td>\n",
       "      <td>-0.111887</td>\n",
       "    </tr>\n",
       "    <tr>\n",
       "      <th>nsxg_z</th>\n",
       "      <td>0.389946</td>\n",
       "      <td>0.648870</td>\n",
       "      <td>0.692136</td>\n",
       "      <td>0.858338</td>\n",
       "      <td>0.481129</td>\n",
       "      <td>0.364531</td>\n",
       "      <td>0.392535</td>\n",
       "      <td>0.468336</td>\n",
       "      <td>0.461608</td>\n",
       "      <td>0.405356</td>\n",
       "      <td>-0.413704</td>\n",
       "      <td>0.154483</td>\n",
       "      <td>0.151427</td>\n",
       "      <td>0.096396</td>\n",
       "      <td>0.268655</td>\n",
       "      <td>1.000000</td>\n",
       "      <td>-0.228251</td>\n",
       "    </tr>\n",
       "    <tr>\n",
       "      <th>results</th>\n",
       "      <td>-0.603331</td>\n",
       "      <td>-0.314959</td>\n",
       "      <td>-0.012455</td>\n",
       "      <td>-0.205333</td>\n",
       "      <td>-0.145072</td>\n",
       "      <td>-0.026958</td>\n",
       "      <td>-0.179808</td>\n",
       "      <td>-0.198999</td>\n",
       "      <td>-0.174490</td>\n",
       "      <td>-0.109239</td>\n",
       "      <td>0.107403</td>\n",
       "      <td>-0.063775</td>\n",
       "      <td>-0.034183</td>\n",
       "      <td>0.095687</td>\n",
       "      <td>-0.111887</td>\n",
       "      <td>-0.228251</td>\n",
       "      <td>1.000000</td>\n",
       "    </tr>\n",
       "  </tbody>\n",
       "</table>\n",
       "</div>"
      ],
      "text/plain": [
       "                  goals_z      xg_z  crosses_z  boxtouches_z  passes_z  \\\n",
       "goals_z          1.000000  0.626423   0.121791      0.361573  0.201254   \n",
       "xg_z             0.626423  1.000000   0.403630      0.658816  0.317344   \n",
       "crosses_z        0.121791  0.403630   1.000000      0.646816  0.261067   \n",
       "boxtouches_z     0.361573  0.658816   0.646816      1.000000  0.370556   \n",
       "passes_z         0.201254  0.317344   0.261067      0.370556  1.000000   \n",
       "progpasses_z     0.057748  0.110861   0.283617      0.241600  0.743343   \n",
       "takeons_z        0.280116  0.370343   0.144843      0.243476  0.390093   \n",
       "progruns_z       0.210852  0.376921   0.271905      0.382399  0.578904   \n",
       "tackles_z        0.220027  0.345147   0.224616      0.386077  0.736886   \n",
       "interceptions_z  0.185047  0.274207   0.229022      0.284006  0.748676   \n",
       "clearances_z    -0.206795 -0.393340  -0.265786     -0.421671 -0.119142   \n",
       "blocks_z         0.044809  0.052933   0.032907      0.123944  0.381609   \n",
       "aerials_z        0.025145  0.019199   0.229716      0.223041 -0.019652   \n",
       "fouls_z         -0.080193 -0.010628   0.081504      0.045067  0.080286   \n",
       "fouled_z         0.062243  0.172793   0.174428      0.175380  0.307298   \n",
       "nsxg_z           0.389946  0.648870   0.692136      0.858338  0.481129   \n",
       "results         -0.603331 -0.314959  -0.012455     -0.205333 -0.145072   \n",
       "\n",
       "                 progpasses_z  takeons_z  progruns_z  tackles_z  \\\n",
       "goals_z              0.057748   0.280116    0.210852   0.220027   \n",
       "xg_z                 0.110861   0.370343    0.376921   0.345147   \n",
       "crosses_z            0.283617   0.144843    0.271905   0.224616   \n",
       "boxtouches_z         0.241600   0.243476    0.382399   0.386077   \n",
       "passes_z             0.743343   0.390093    0.578904   0.736886   \n",
       "progpasses_z         1.000000   0.150204    0.314679   0.498668   \n",
       "takeons_z            0.150204   1.000000    0.550012   0.387286   \n",
       "progruns_z           0.314679   0.550012    1.000000   0.512019   \n",
       "tackles_z            0.498668   0.387286    0.512019   1.000000   \n",
       "interceptions_z      0.559612   0.381535    0.416062   0.695414   \n",
       "clearances_z        -0.006009  -0.116678   -0.093093  -0.207252   \n",
       "blocks_z             0.343120   0.167480    0.272149   0.266387   \n",
       "aerials_z            0.032038  -0.132021   -0.097711   0.013539   \n",
       "fouls_z              0.221248   0.125744    0.035097   0.020043   \n",
       "fouled_z             0.190707   0.341139    0.251172   0.300686   \n",
       "nsxg_z               0.364531   0.392535    0.468336   0.461608   \n",
       "results             -0.026958  -0.179808   -0.198999  -0.174490   \n",
       "\n",
       "                 interceptions_z  clearances_z  blocks_z  aerials_z   fouls_z  \\\n",
       "goals_z                 0.185047     -0.206795  0.044809   0.025145 -0.080193   \n",
       "xg_z                    0.274207     -0.393340  0.052933   0.019199 -0.010628   \n",
       "crosses_z               0.229022     -0.265786  0.032907   0.229716  0.081504   \n",
       "boxtouches_z            0.284006     -0.421671  0.123944   0.223041  0.045067   \n",
       "passes_z                0.748676     -0.119142  0.381609  -0.019652  0.080286   \n",
       "progpasses_z            0.559612     -0.006009  0.343120   0.032038  0.221248   \n",
       "takeons_z               0.381535     -0.116678  0.167480  -0.132021  0.125744   \n",
       "progruns_z              0.416062     -0.093093  0.272149  -0.097711  0.035097   \n",
       "tackles_z               0.695414     -0.207252  0.266387   0.013539  0.020043   \n",
       "interceptions_z         1.000000     -0.117102  0.311170  -0.009078  0.145117   \n",
       "clearances_z           -0.117102      1.000000  0.202925   0.285981  0.204690   \n",
       "blocks_z                0.311170      0.202925  1.000000   0.023616  0.187962   \n",
       "aerials_z              -0.009078      0.285981  0.023616   1.000000  0.127747   \n",
       "fouls_z                 0.145117      0.204690  0.187962   0.127747  1.000000   \n",
       "fouled_z                0.320314      0.034775  0.079754   0.008107  0.283676   \n",
       "nsxg_z                  0.405356     -0.413704  0.154483   0.151427  0.096396   \n",
       "results                -0.109239      0.107403 -0.063775  -0.034183  0.095687   \n",
       "\n",
       "                 fouled_z    nsxg_z   results  \n",
       "goals_z          0.062243  0.389946 -0.603331  \n",
       "xg_z             0.172793  0.648870 -0.314959  \n",
       "crosses_z        0.174428  0.692136 -0.012455  \n",
       "boxtouches_z     0.175380  0.858338 -0.205333  \n",
       "passes_z         0.307298  0.481129 -0.145072  \n",
       "progpasses_z     0.190707  0.364531 -0.026958  \n",
       "takeons_z        0.341139  0.392535 -0.179808  \n",
       "progruns_z       0.251172  0.468336 -0.198999  \n",
       "tackles_z        0.300686  0.461608 -0.174490  \n",
       "interceptions_z  0.320314  0.405356 -0.109239  \n",
       "clearances_z     0.034775 -0.413704  0.107403  \n",
       "blocks_z         0.079754  0.154483 -0.063775  \n",
       "aerials_z        0.008107  0.151427 -0.034183  \n",
       "fouls_z          0.283676  0.096396  0.095687  \n",
       "fouled_z         1.000000  0.268655 -0.111887  \n",
       "nsxg_z           0.268655  1.000000 -0.228251  \n",
       "results         -0.111887 -0.228251  1.000000  "
      ]
     },
     "execution_count": 238,
     "metadata": {},
     "output_type": "execute_result"
    }
   ],
   "source": [
    "df.corr()"
   ]
  },
  {
   "cell_type": "code",
   "execution_count": 239,
   "metadata": {},
   "outputs": [
    {
     "data": {
      "text/html": [
       "<div>\n",
       "<style scoped>\n",
       "    .dataframe tbody tr th:only-of-type {\n",
       "        vertical-align: middle;\n",
       "    }\n",
       "\n",
       "    .dataframe tbody tr th {\n",
       "        vertical-align: top;\n",
       "    }\n",
       "\n",
       "    .dataframe thead th {\n",
       "        text-align: right;\n",
       "    }\n",
       "</style>\n",
       "<table border=\"1\" class=\"dataframe\">\n",
       "  <thead>\n",
       "    <tr style=\"text-align: right;\">\n",
       "      <th></th>\n",
       "      <th>count</th>\n",
       "      <th>mean</th>\n",
       "      <th>std</th>\n",
       "      <th>min</th>\n",
       "      <th>25%</th>\n",
       "      <th>50%</th>\n",
       "      <th>75%</th>\n",
       "      <th>max</th>\n",
       "    </tr>\n",
       "  </thead>\n",
       "  <tbody>\n",
       "    <tr>\n",
       "      <th>goals_z</th>\n",
       "      <td>249.0</td>\n",
       "      <td>0.135640</td>\n",
       "      <td>0.279986</td>\n",
       "      <td>-0.410000</td>\n",
       "      <td>-0.066923</td>\n",
       "      <td>0.116923</td>\n",
       "      <td>0.318462</td>\n",
       "      <td>0.881538</td>\n",
       "    </tr>\n",
       "    <tr>\n",
       "      <th>xg_z</th>\n",
       "      <td>249.0</td>\n",
       "      <td>0.153830</td>\n",
       "      <td>0.268228</td>\n",
       "      <td>-0.466923</td>\n",
       "      <td>-0.041538</td>\n",
       "      <td>0.152308</td>\n",
       "      <td>0.316154</td>\n",
       "      <td>1.015385</td>\n",
       "    </tr>\n",
       "    <tr>\n",
       "      <th>crosses_z</th>\n",
       "      <td>249.0</td>\n",
       "      <td>0.079231</td>\n",
       "      <td>0.251258</td>\n",
       "      <td>-0.493846</td>\n",
       "      <td>-0.092308</td>\n",
       "      <td>0.040000</td>\n",
       "      <td>0.256923</td>\n",
       "      <td>0.853846</td>\n",
       "    </tr>\n",
       "    <tr>\n",
       "      <th>boxtouches_z</th>\n",
       "      <td>249.0</td>\n",
       "      <td>0.155443</td>\n",
       "      <td>0.284795</td>\n",
       "      <td>-0.634615</td>\n",
       "      <td>-0.040000</td>\n",
       "      <td>0.146923</td>\n",
       "      <td>0.300769</td>\n",
       "      <td>1.153077</td>\n",
       "    </tr>\n",
       "    <tr>\n",
       "      <th>passes_z</th>\n",
       "      <td>249.0</td>\n",
       "      <td>0.053933</td>\n",
       "      <td>0.355156</td>\n",
       "      <td>-0.781538</td>\n",
       "      <td>-0.186923</td>\n",
       "      <td>0.035385</td>\n",
       "      <td>0.270000</td>\n",
       "      <td>1.410769</td>\n",
       "    </tr>\n",
       "    <tr>\n",
       "      <th>progpasses_z</th>\n",
       "      <td>249.0</td>\n",
       "      <td>-0.011270</td>\n",
       "      <td>0.256855</td>\n",
       "      <td>-0.649231</td>\n",
       "      <td>-0.193077</td>\n",
       "      <td>-0.025385</td>\n",
       "      <td>0.130769</td>\n",
       "      <td>0.873846</td>\n",
       "    </tr>\n",
       "    <tr>\n",
       "      <th>takeons_z</th>\n",
       "      <td>249.0</td>\n",
       "      <td>0.098532</td>\n",
       "      <td>0.296844</td>\n",
       "      <td>-0.473077</td>\n",
       "      <td>-0.126923</td>\n",
       "      <td>0.083846</td>\n",
       "      <td>0.283077</td>\n",
       "      <td>1.100769</td>\n",
       "    </tr>\n",
       "    <tr>\n",
       "      <th>progruns_z</th>\n",
       "      <td>249.0</td>\n",
       "      <td>0.090153</td>\n",
       "      <td>0.352999</td>\n",
       "      <td>-0.568462</td>\n",
       "      <td>-0.147692</td>\n",
       "      <td>0.039231</td>\n",
       "      <td>0.273077</td>\n",
       "      <td>1.432308</td>\n",
       "    </tr>\n",
       "    <tr>\n",
       "      <th>tackles_z</th>\n",
       "      <td>249.0</td>\n",
       "      <td>0.057784</td>\n",
       "      <td>0.372819</td>\n",
       "      <td>-0.722308</td>\n",
       "      <td>-0.189231</td>\n",
       "      <td>0.008462</td>\n",
       "      <td>0.260000</td>\n",
       "      <td>1.146154</td>\n",
       "    </tr>\n",
       "    <tr>\n",
       "      <th>interceptions_z</th>\n",
       "      <td>249.0</td>\n",
       "      <td>0.055451</td>\n",
       "      <td>0.390992</td>\n",
       "      <td>-0.649231</td>\n",
       "      <td>-0.220769</td>\n",
       "      <td>0.002308</td>\n",
       "      <td>0.279231</td>\n",
       "      <td>1.216154</td>\n",
       "    </tr>\n",
       "    <tr>\n",
       "      <th>clearances_z</th>\n",
       "      <td>249.0</td>\n",
       "      <td>-0.007871</td>\n",
       "      <td>0.251003</td>\n",
       "      <td>-0.614615</td>\n",
       "      <td>-0.178462</td>\n",
       "      <td>-0.024615</td>\n",
       "      <td>0.139231</td>\n",
       "      <td>0.754615</td>\n",
       "    </tr>\n",
       "    <tr>\n",
       "      <th>blocks_z</th>\n",
       "      <td>249.0</td>\n",
       "      <td>0.002885</td>\n",
       "      <td>0.288923</td>\n",
       "      <td>-0.520000</td>\n",
       "      <td>-0.212308</td>\n",
       "      <td>-0.021538</td>\n",
       "      <td>0.153077</td>\n",
       "      <td>0.997500</td>\n",
       "    </tr>\n",
       "    <tr>\n",
       "      <th>aerials_z</th>\n",
       "      <td>249.0</td>\n",
       "      <td>0.066532</td>\n",
       "      <td>0.268939</td>\n",
       "      <td>-0.473846</td>\n",
       "      <td>-0.119231</td>\n",
       "      <td>0.032308</td>\n",
       "      <td>0.263846</td>\n",
       "      <td>0.878462</td>\n",
       "    </tr>\n",
       "    <tr>\n",
       "      <th>fouls_z</th>\n",
       "      <td>249.0</td>\n",
       "      <td>0.077052</td>\n",
       "      <td>0.296424</td>\n",
       "      <td>-0.534615</td>\n",
       "      <td>-0.136923</td>\n",
       "      <td>0.040000</td>\n",
       "      <td>0.290000</td>\n",
       "      <td>1.035833</td>\n",
       "    </tr>\n",
       "    <tr>\n",
       "      <th>fouled_z</th>\n",
       "      <td>249.0</td>\n",
       "      <td>0.098499</td>\n",
       "      <td>0.264990</td>\n",
       "      <td>-0.578462</td>\n",
       "      <td>-0.076923</td>\n",
       "      <td>0.083846</td>\n",
       "      <td>0.288462</td>\n",
       "      <td>0.833077</td>\n",
       "    </tr>\n",
       "    <tr>\n",
       "      <th>nsxg_z</th>\n",
       "      <td>249.0</td>\n",
       "      <td>0.120605</td>\n",
       "      <td>0.306985</td>\n",
       "      <td>-0.699231</td>\n",
       "      <td>-0.084615</td>\n",
       "      <td>0.107692</td>\n",
       "      <td>0.296154</td>\n",
       "      <td>1.027692</td>\n",
       "    </tr>\n",
       "    <tr>\n",
       "      <th>results</th>\n",
       "      <td>249.0</td>\n",
       "      <td>14.510040</td>\n",
       "      <td>8.679840</td>\n",
       "      <td>1.000000</td>\n",
       "      <td>7.000000</td>\n",
       "      <td>14.000000</td>\n",
       "      <td>21.000000</td>\n",
       "      <td>32.000000</td>\n",
       "    </tr>\n",
       "  </tbody>\n",
       "</table>\n",
       "</div>"
      ],
      "text/plain": [
       "                 count       mean       std       min       25%        50%  \\\n",
       "goals_z          249.0   0.135640  0.279986 -0.410000 -0.066923   0.116923   \n",
       "xg_z             249.0   0.153830  0.268228 -0.466923 -0.041538   0.152308   \n",
       "crosses_z        249.0   0.079231  0.251258 -0.493846 -0.092308   0.040000   \n",
       "boxtouches_z     249.0   0.155443  0.284795 -0.634615 -0.040000   0.146923   \n",
       "passes_z         249.0   0.053933  0.355156 -0.781538 -0.186923   0.035385   \n",
       "progpasses_z     249.0  -0.011270  0.256855 -0.649231 -0.193077  -0.025385   \n",
       "takeons_z        249.0   0.098532  0.296844 -0.473077 -0.126923   0.083846   \n",
       "progruns_z       249.0   0.090153  0.352999 -0.568462 -0.147692   0.039231   \n",
       "tackles_z        249.0   0.057784  0.372819 -0.722308 -0.189231   0.008462   \n",
       "interceptions_z  249.0   0.055451  0.390992 -0.649231 -0.220769   0.002308   \n",
       "clearances_z     249.0  -0.007871  0.251003 -0.614615 -0.178462  -0.024615   \n",
       "blocks_z         249.0   0.002885  0.288923 -0.520000 -0.212308  -0.021538   \n",
       "aerials_z        249.0   0.066532  0.268939 -0.473846 -0.119231   0.032308   \n",
       "fouls_z          249.0   0.077052  0.296424 -0.534615 -0.136923   0.040000   \n",
       "fouled_z         249.0   0.098499  0.264990 -0.578462 -0.076923   0.083846   \n",
       "nsxg_z           249.0   0.120605  0.306985 -0.699231 -0.084615   0.107692   \n",
       "results          249.0  14.510040  8.679840  1.000000  7.000000  14.000000   \n",
       "\n",
       "                       75%        max  \n",
       "goals_z           0.318462   0.881538  \n",
       "xg_z              0.316154   1.015385  \n",
       "crosses_z         0.256923   0.853846  \n",
       "boxtouches_z      0.300769   1.153077  \n",
       "passes_z          0.270000   1.410769  \n",
       "progpasses_z      0.130769   0.873846  \n",
       "takeons_z         0.283077   1.100769  \n",
       "progruns_z        0.273077   1.432308  \n",
       "tackles_z         0.260000   1.146154  \n",
       "interceptions_z   0.279231   1.216154  \n",
       "clearances_z      0.139231   0.754615  \n",
       "blocks_z          0.153077   0.997500  \n",
       "aerials_z         0.263846   0.878462  \n",
       "fouls_z           0.290000   1.035833  \n",
       "fouled_z          0.288462   0.833077  \n",
       "nsxg_z            0.296154   1.027692  \n",
       "results          21.000000  32.000000  "
      ]
     },
     "execution_count": 239,
     "metadata": {},
     "output_type": "execute_result"
    }
   ],
   "source": [
    "df.describe().T"
   ]
  },
  {
   "cell_type": "code",
   "execution_count": 240,
   "metadata": {},
   "outputs": [
    {
     "data": {
      "image/png": "[encoded data removed]",
      "text/plain": [
       "<Figure size 432x288 with 2 Axes>"
      ]
     },
     "metadata": {
      "needs_background": "light"
     },
     "output_type": "display_data"
    }
   ],
   "source": [
    "sns.heatmap(df.corr());"
   ]
  },
  {
   "cell_type": "code",
   "execution_count": 241,
   "metadata": {},
   "outputs": [
    {
     "name": "stderr",
     "output_type": "stream",
     "text": [
      "/var/folders/j_/555m2zps099832fjh_m8jjnc0000gn/T/ipykernel_5268/2528632801.py:4: DeprecationWarning: `np.bool` is a deprecated alias for the builtin `bool`. To silence this warning, use `bool` by itself. Doing this will not modify any behavior and is safe. If you specifically wanted the numpy scalar type, use `np.bool_` here.\n",
      "Deprecated in NumPy 1.20; for more details and guidance: https://numpy.org/devdocs/release/1.20.0-notes.html#deprecations\n",
      "  mask = np.triu(np.ones_like(df.corr(), dtype=np.bool))\n"
     ]
    },
    {
     "data": {
      "image/png": "[encoded data removed]",
      "text/plain": [
       "<Figure size 1152x432 with 2 Axes>"
      ]
     },
     "metadata": {
      "needs_background": "light"
     },
     "output_type": "display_data"
    }
   ],
   "source": [
    "plt.figure(figsize=(16, 6))\n",
    "\n",
    "# define the mask to set the values in the upper triangle to True\n",
    "mask = np.triu(np.ones_like(df.corr(), dtype=np.bool))\n",
    "\n",
    "heatmap = sns.heatmap(df.corr(), mask=mask, vmin=-1, vmax=1, annot=True, cmap='BrBG')\n",
    "heatmap.set_title('Triangle Correlation Heatmap', fontdict={'fontsize':18}, pad=16);"
   ]
  },
  {
   "cell_type": "code",
   "execution_count": 242,
   "metadata": {},
   "outputs": [
    {
     "data": {
      "text/plain": [
       "<seaborn.axisgrid.JointGrid at 0x7f94230528b0>"
      ]
     },
     "execution_count": 242,
     "metadata": {},
     "output_type": "execute_result"
    },
    {
     "data": {
      "image/png": "[encoded data removed]",
      "text/plain": [
       "<Figure size 432x432 with 3 Axes>"
      ]
     },
     "metadata": {
      "needs_background": "light"
     },
     "output_type": "display_data"
    }
   ],
   "source": [
    "sns.jointplot(x=df['results'],y=df['goals_z'],\n",
    "              joint_kws={'alpha':0.1,'s':5,'color':'red'},\n",
    "              marginal_kws={'color':'red'})"
   ]
  },
  {
   "cell_type": "code",
   "execution_count": 243,
   "metadata": {},
   "outputs": [],
   "source": [
    "y = df['results']\n"
   ]
  },
  {
   "cell_type": "code",
   "execution_count": 244,
   "metadata": {},
   "outputs": [],
   "source": [
    "X = df.drop(columns=['results'])"
   ]
  },
  {
   "cell_type": "code",
   "execution_count": 245,
   "metadata": {},
   "outputs": [
    {
     "data": {
      "text/html": [
       "<div>\n",
       "<style scoped>\n",
       "    .dataframe tbody tr th:only-of-type {\n",
       "        vertical-align: middle;\n",
       "    }\n",
       "\n",
       "    .dataframe tbody tr th {\n",
       "        vertical-align: top;\n",
       "    }\n",
       "\n",
       "    .dataframe thead th {\n",
       "        text-align: right;\n",
       "    }\n",
       "</style>\n",
       "<table border=\"1\" class=\"dataframe\">\n",
       "  <thead>\n",
       "    <tr style=\"text-align: right;\">\n",
       "      <th></th>\n",
       "      <th>goals_z</th>\n",
       "      <th>xg_z</th>\n",
       "      <th>crosses_z</th>\n",
       "      <th>boxtouches_z</th>\n",
       "      <th>passes_z</th>\n",
       "      <th>progpasses_z</th>\n",
       "      <th>takeons_z</th>\n",
       "      <th>progruns_z</th>\n",
       "      <th>tackles_z</th>\n",
       "      <th>interceptions_z</th>\n",
       "      <th>clearances_z</th>\n",
       "      <th>blocks_z</th>\n",
       "      <th>aerials_z</th>\n",
       "      <th>fouls_z</th>\n",
       "      <th>fouled_z</th>\n",
       "      <th>nsxg_z</th>\n",
       "    </tr>\n",
       "  </thead>\n",
       "  <tbody>\n",
       "    <tr>\n",
       "      <th>0</th>\n",
       "      <td>0.423077</td>\n",
       "      <td>0.146923</td>\n",
       "      <td>-0.136154</td>\n",
       "      <td>-0.030000</td>\n",
       "      <td>0.429231</td>\n",
       "      <td>0.037692</td>\n",
       "      <td>0.244615</td>\n",
       "      <td>-0.220000</td>\n",
       "      <td>0.216154</td>\n",
       "      <td>0.270000</td>\n",
       "      <td>-0.076923</td>\n",
       "      <td>-0.097692</td>\n",
       "      <td>-0.020000</td>\n",
       "      <td>-0.224615</td>\n",
       "      <td>0.100769</td>\n",
       "      <td>-0.124615</td>\n",
       "    </tr>\n",
       "    <tr>\n",
       "      <th>1</th>\n",
       "      <td>0.216923</td>\n",
       "      <td>0.348462</td>\n",
       "      <td>0.031538</td>\n",
       "      <td>0.158462</td>\n",
       "      <td>0.835385</td>\n",
       "      <td>0.626923</td>\n",
       "      <td>0.270000</td>\n",
       "      <td>0.266923</td>\n",
       "      <td>1.143846</td>\n",
       "      <td>0.834615</td>\n",
       "      <td>-0.059231</td>\n",
       "      <td>-0.134615</td>\n",
       "      <td>0.196923</td>\n",
       "      <td>-0.016923</td>\n",
       "      <td>0.033846</td>\n",
       "      <td>0.146923</td>\n",
       "    </tr>\n",
       "    <tr>\n",
       "      <th>2</th>\n",
       "      <td>0.113846</td>\n",
       "      <td>0.392308</td>\n",
       "      <td>0.599231</td>\n",
       "      <td>0.513846</td>\n",
       "      <td>0.833077</td>\n",
       "      <td>0.405385</td>\n",
       "      <td>0.521538</td>\n",
       "      <td>1.139231</td>\n",
       "      <td>1.109231</td>\n",
       "      <td>0.859231</td>\n",
       "      <td>0.084615</td>\n",
       "      <td>0.103077</td>\n",
       "      <td>0.683846</td>\n",
       "      <td>0.213846</td>\n",
       "      <td>0.353846</td>\n",
       "      <td>0.786923</td>\n",
       "    </tr>\n",
       "    <tr>\n",
       "      <th>3</th>\n",
       "      <td>0.479231</td>\n",
       "      <td>0.609231</td>\n",
       "      <td>0.227692</td>\n",
       "      <td>0.450769</td>\n",
       "      <td>0.770769</td>\n",
       "      <td>0.042308</td>\n",
       "      <td>0.337692</td>\n",
       "      <td>0.927692</td>\n",
       "      <td>0.506923</td>\n",
       "      <td>1.015385</td>\n",
       "      <td>0.020769</td>\n",
       "      <td>0.381538</td>\n",
       "      <td>0.038462</td>\n",
       "      <td>0.039231</td>\n",
       "      <td>0.022308</td>\n",
       "      <td>0.692308</td>\n",
       "    </tr>\n",
       "    <tr>\n",
       "      <th>4</th>\n",
       "      <td>0.877692</td>\n",
       "      <td>0.773846</td>\n",
       "      <td>0.428462</td>\n",
       "      <td>0.659231</td>\n",
       "      <td>0.754615</td>\n",
       "      <td>0.335385</td>\n",
       "      <td>0.023077</td>\n",
       "      <td>0.638462</td>\n",
       "      <td>0.493846</td>\n",
       "      <td>0.637692</td>\n",
       "      <td>-0.117692</td>\n",
       "      <td>-0.033846</td>\n",
       "      <td>0.572308</td>\n",
       "      <td>-0.016154</td>\n",
       "      <td>-0.096923</td>\n",
       "      <td>0.890769</td>\n",
       "    </tr>\n",
       "  </tbody>\n",
       "</table>\n",
       "</div>"
      ],
      "text/plain": [
       "    goals_z      xg_z  crosses_z  boxtouches_z  passes_z  progpasses_z  \\\n",
       "0  0.423077  0.146923  -0.136154     -0.030000  0.429231      0.037692   \n",
       "1  0.216923  0.348462   0.031538      0.158462  0.835385      0.626923   \n",
       "2  0.113846  0.392308   0.599231      0.513846  0.833077      0.405385   \n",
       "3  0.479231  0.609231   0.227692      0.450769  0.770769      0.042308   \n",
       "4  0.877692  0.773846   0.428462      0.659231  0.754615      0.335385   \n",
       "\n",
       "   takeons_z  progruns_z  tackles_z  interceptions_z  clearances_z  blocks_z  \\\n",
       "0   0.244615   -0.220000   0.216154         0.270000     -0.076923 -0.097692   \n",
       "1   0.270000    0.266923   1.143846         0.834615     -0.059231 -0.134615   \n",
       "2   0.521538    1.139231   1.109231         0.859231      0.084615  0.103077   \n",
       "3   0.337692    0.927692   0.506923         1.015385      0.020769  0.381538   \n",
       "4   0.023077    0.638462   0.493846         0.637692     -0.117692 -0.033846   \n",
       "\n",
       "   aerials_z   fouls_z  fouled_z    nsxg_z  \n",
       "0  -0.020000 -0.224615  0.100769 -0.124615  \n",
       "1   0.196923 -0.016923  0.033846  0.146923  \n",
       "2   0.683846  0.213846  0.353846  0.786923  \n",
       "3   0.038462  0.039231  0.022308  0.692308  \n",
       "4   0.572308 -0.016154 -0.096923  0.890769  "
      ]
     },
     "execution_count": 245,
     "metadata": {},
     "output_type": "execute_result"
    }
   ],
   "source": [
    "X.head()"
   ]
  },
  {
   "cell_type": "code",
   "execution_count": 246,
   "metadata": {},
   "outputs": [],
   "source": [
    "import matplotlib.pyplot as plt\n",
    "from scipy import stats\n"
   ]
  },
  {
   "cell_type": "code",
   "execution_count": 247,
   "metadata": {},
   "outputs": [
    {
     "data": {
      "image/png": "[encoded data removed]",
      "text/plain": [
       "<Figure size 1152x576 with 1 Axes>"
      ]
     },
     "metadata": {
      "needs_background": "light"
     },
     "output_type": "display_data"
    }
   ],
   "source": [
    "fig, ax = plt.subplots(figsize=(16,8))\n",
    "ax.scatter(df['results'], df['goals_z'])\n",
    "ax.set_xlabel('results')\n",
    "ax.set_ylabel('goals_z')\n",
    "plt.show()"
   ]
  },
  {
   "cell_type": "code",
   "execution_count": 248,
   "metadata": {},
   "outputs": [
    {
     "name": "stdout",
     "output_type": "stream",
     "text": [
      "      goals_z      xg_z  crosses_z  boxtouches_z  passes_z  progpasses_z  \\\n",
      "0    1.028680  0.025804   0.858952      0.652456  1.058840      0.191007   \n",
      "1    0.290897  0.727079   0.190198      0.010621  2.204735      2.489652   \n",
      "2    0.077995  0.890875   2.073750      1.260994  2.198224      1.625409   \n",
      "3    1.229644  1.701230   0.592060      1.039067  2.022433      0.209012   \n",
      "4    2.655658  2.316180   1.392725      1.772511  1.976858      1.352333   \n",
      "..        ...       ...        ...           ...       ...           ...   \n",
      "244  0.724932  1.126392   0.202469      0.722823  0.367018      1.271310   \n",
      "245  1.399398  1.517202   0.730110      0.016034  1.473848      0.856286   \n",
      "246  0.292723  0.149486   1.901959      0.373283  0.718599      0.719155   \n",
      "247  1.179164  0.097761   0.619673      0.000205  0.444658      1.514378   \n",
      "248  0.722179  1.112024   0.917238      0.354338  0.370869      1.475367   \n",
      "\n",
      "     takeons_z  progruns_z  tackles_z  interceptions_z  clearances_z  \\\n",
      "0     0.493112    0.880393   0.425646         0.549836      0.275660   \n",
      "1     0.578799    0.501773   2.918973         1.996804      0.205031   \n",
      "2     1.427881    2.977882   2.825938         2.059887      0.369208   \n",
      "3     0.807298    2.377415   1.207136         2.460071      0.114332   \n",
      "4     0.254703    1.556412   1.171990         1.492139      0.438412   \n",
      "..         ...         ...        ...              ...           ...   \n",
      "244   1.090802    0.091272   0.713511         0.346787      1.683511   \n",
      "245   1.828231    1.631523   1.583901         1.533878      1.683511   \n",
      "246   1.054450    0.646757   1.441248         1.559506      0.627156   \n",
      "247   0.069870    0.537581   0.336746         0.323131      0.562669   \n",
      "248   0.340390    0.425350   1.302239         0.386214      1.551467   \n",
      "\n",
      "     blocks_z  aerials_z   fouls_z  fouled_z    nsxg_z   results  \n",
      "0    0.348810   0.322403  1.019735  0.008585  0.800410  1.444178  \n",
      "1    0.476863   0.485811  0.317666  0.244473  0.085904  1.559620  \n",
      "2    0.347477   2.299994  0.462412  0.965551  2.174893  0.636088  \n",
      "3    1.313208   0.104586  0.127847  0.288103  1.866064  1.097854  \n",
      "4    0.127386   1.884423  0.315066  0.738954  2.513852  1.097854  \n",
      "..        ...        ...       ...       ...       ...       ...  \n",
      "244  0.164735   0.379723  0.848118  1.597023  0.416257  1.903626  \n",
      "245  0.431511   3.022228  1.154080  1.282882  0.792877  0.287445  \n",
      "246  0.829008   2.729895  0.421676  1.207256  1.489444  0.056562  \n",
      "247  0.403500   0.173416  1.902955  2.777677  0.814038  0.633769  \n",
      "248  0.520881   0.213495  0.601094  0.130751  0.657294  0.633769  \n",
      "\n",
      "[249 rows x 17 columns]\n"
     ]
    }
   ],
   "source": [
    "z = np.abs(stats.zscore(df))\n",
    "print(z)"
   ]
  },
  {
   "cell_type": "code",
   "execution_count": 249,
   "metadata": {
    "scrolled": true
   },
   "outputs": [
    {
     "data": {
      "text/plain": [
       "<AxesSubplot:>"
      ]
     },
     "execution_count": 249,
     "metadata": {},
     "output_type": "execute_result"
    },
    {
     "data": {
      "image/png": "[encoded data removed]",
      "text/plain": [
       "<Figure size 432x288 with 1 Axes>"
      ]
     },
     "metadata": {
      "needs_background": "light"
     },
     "output_type": "display_data"
    }
   ],
   "source": [
    "z.plot()"
   ]
  },
  {
   "cell_type": "code",
   "execution_count": 250,
   "metadata": {},
   "outputs": [
    {
     "data": {
      "text/plain": [
       "<AxesSubplot:>"
      ]
     },
     "execution_count": 250,
     "metadata": {},
     "output_type": "execute_result"
    },
    {
     "data": {
      "image/png": "[encoded data removed]",
      "text/plain": [
       "<Figure size 432x288 with 1 Axes>"
      ]
     },
     "metadata": {
      "needs_background": "light"
     },
     "output_type": "display_data"
    }
   ],
   "source": [
    "z.goals_z.plot()"
   ]
  },
  {
   "cell_type": "code",
   "execution_count": 251,
   "metadata": {},
   "outputs": [
    {
     "data": {
      "text/html": [
       "<div>\n",
       "<style scoped>\n",
       "    .dataframe tbody tr th:only-of-type {\n",
       "        vertical-align: middle;\n",
       "    }\n",
       "\n",
       "    .dataframe tbody tr th {\n",
       "        vertical-align: top;\n",
       "    }\n",
       "\n",
       "    .dataframe thead th {\n",
       "        text-align: right;\n",
       "    }\n",
       "</style>\n",
       "<table border=\"1\" class=\"dataframe\">\n",
       "  <thead>\n",
       "    <tr style=\"text-align: right;\">\n",
       "      <th></th>\n",
       "      <th>count</th>\n",
       "      <th>mean</th>\n",
       "      <th>std</th>\n",
       "      <th>min</th>\n",
       "      <th>25%</th>\n",
       "      <th>50%</th>\n",
       "      <th>75%</th>\n",
       "      <th>max</th>\n",
       "    </tr>\n",
       "  </thead>\n",
       "  <tbody>\n",
       "    <tr>\n",
       "      <th>goals_z</th>\n",
       "      <td>249.0</td>\n",
       "      <td>0.812489</td>\n",
       "      <td>0.584151</td>\n",
       "      <td>0.007346</td>\n",
       "      <td>0.354214</td>\n",
       "      <td>0.722179</td>\n",
       "      <td>1.204867</td>\n",
       "      <td>2.669423</td>\n",
       "    </tr>\n",
       "    <tr>\n",
       "      <th>xg_z</th>\n",
       "      <td>249.0</td>\n",
       "      <td>0.789202</td>\n",
       "      <td>0.615371</td>\n",
       "      <td>0.005689</td>\n",
       "      <td>0.290175</td>\n",
       "      <td>0.660987</td>\n",
       "      <td>1.155246</td>\n",
       "      <td>3.218490</td>\n",
       "    </tr>\n",
       "    <tr>\n",
       "      <th>crosses_z</th>\n",
       "      <td>249.0</td>\n",
       "      <td>0.806613</td>\n",
       "      <td>0.592270</td>\n",
       "      <td>0.006133</td>\n",
       "      <td>0.355849</td>\n",
       "      <td>0.693298</td>\n",
       "      <td>1.119705</td>\n",
       "      <td>3.089152</td>\n",
       "    </tr>\n",
       "    <tr>\n",
       "      <th>boxtouches_z</th>\n",
       "      <td>249.0</td>\n",
       "      <td>0.772802</td>\n",
       "      <td>0.635926</td>\n",
       "      <td>0.000205</td>\n",
       "      <td>0.278968</td>\n",
       "      <td>0.595211</td>\n",
       "      <td>1.134201</td>\n",
       "      <td>3.510042</td>\n",
       "    </tr>\n",
       "    <tr>\n",
       "      <th>passes_z</th>\n",
       "      <td>249.0</td>\n",
       "      <td>0.779737</td>\n",
       "      <td>0.627369</td>\n",
       "      <td>0.001925</td>\n",
       "      <td>0.317102</td>\n",
       "      <td>0.668194</td>\n",
       "      <td>1.100564</td>\n",
       "      <td>3.828086</td>\n",
       "    </tr>\n",
       "    <tr>\n",
       "      <th>progpasses_z</th>\n",
       "      <td>249.0</td>\n",
       "      <td>0.777504</td>\n",
       "      <td>0.630144</td>\n",
       "      <td>0.004047</td>\n",
       "      <td>0.287034</td>\n",
       "      <td>0.646227</td>\n",
       "      <td>1.156370</td>\n",
       "      <td>3.452922</td>\n",
       "    </tr>\n",
       "    <tr>\n",
       "      <th>takeons_z</th>\n",
       "      <td>249.0</td>\n",
       "      <td>0.794749</td>\n",
       "      <td>0.608161</td>\n",
       "      <td>0.004955</td>\n",
       "      <td>0.293652</td>\n",
       "      <td>0.709105</td>\n",
       "      <td>1.176489</td>\n",
       "      <td>3.383106</td>\n",
       "    </tr>\n",
       "    <tr>\n",
       "      <th>progruns_z</th>\n",
       "      <td>249.0</td>\n",
       "      <td>0.784643</td>\n",
       "      <td>0.621196</td>\n",
       "      <td>0.002619</td>\n",
       "      <td>0.343248</td>\n",
       "      <td>0.624922</td>\n",
       "      <td>1.151149</td>\n",
       "      <td>3.809802</td>\n",
       "    </tr>\n",
       "    <tr>\n",
       "      <th>tackles_z</th>\n",
       "      <td>249.0</td>\n",
       "      <td>0.790774</td>\n",
       "      <td>0.613341</td>\n",
       "      <td>0.000246</td>\n",
       "      <td>0.300024</td>\n",
       "      <td>0.647353</td>\n",
       "      <td>1.116169</td>\n",
       "      <td>2.925175</td>\n",
       "    </tr>\n",
       "    <tr>\n",
       "      <th>interceptions_z</th>\n",
       "      <td>249.0</td>\n",
       "      <td>0.793950</td>\n",
       "      <td>0.609208</td>\n",
       "      <td>0.003772</td>\n",
       "      <td>0.345156</td>\n",
       "      <td>0.666145</td>\n",
       "      <td>1.119555</td>\n",
       "      <td>2.974592</td>\n",
       "    </tr>\n",
       "    <tr>\n",
       "      <th>clearances_z</th>\n",
       "      <td>249.0</td>\n",
       "      <td>0.803133</td>\n",
       "      <td>0.597000</td>\n",
       "      <td>0.008500</td>\n",
       "      <td>0.355501</td>\n",
       "      <td>0.631873</td>\n",
       "      <td>1.164546</td>\n",
       "      <td>3.043876</td>\n",
       "    </tr>\n",
       "    <tr>\n",
       "      <th>blocks_z</th>\n",
       "      <td>249.0</td>\n",
       "      <td>0.769436</td>\n",
       "      <td>0.640010</td>\n",
       "      <td>0.003335</td>\n",
       "      <td>0.314130</td>\n",
       "      <td>0.615587</td>\n",
       "      <td>1.055769</td>\n",
       "      <td>3.449422</td>\n",
       "    </tr>\n",
       "    <tr>\n",
       "      <th>aerials_z</th>\n",
       "      <td>249.0</td>\n",
       "      <td>0.794468</td>\n",
       "      <td>0.608529</td>\n",
       "      <td>0.010008</td>\n",
       "      <td>0.288057</td>\n",
       "      <td>0.712226</td>\n",
       "      <td>1.130617</td>\n",
       "      <td>3.025094</td>\n",
       "    </tr>\n",
       "    <tr>\n",
       "      <th>fouls_z</th>\n",
       "      <td>249.0</td>\n",
       "      <td>0.819838</td>\n",
       "      <td>0.573749</td>\n",
       "      <td>0.002166</td>\n",
       "      <td>0.368802</td>\n",
       "      <td>0.723306</td>\n",
       "      <td>1.154080</td>\n",
       "      <td>3.241004</td>\n",
       "    </tr>\n",
       "    <tr>\n",
       "      <th>fouled_z</th>\n",
       "      <td>249.0</td>\n",
       "      <td>0.808115</td>\n",
       "      <td>0.590212</td>\n",
       "      <td>0.000141</td>\n",
       "      <td>0.334643</td>\n",
       "      <td>0.709584</td>\n",
       "      <td>1.207256</td>\n",
       "      <td>2.777677</td>\n",
       "    </tr>\n",
       "    <tr>\n",
       "      <th>nsxg_z</th>\n",
       "      <td>249.0</td>\n",
       "      <td>0.780227</td>\n",
       "      <td>0.626757</td>\n",
       "      <td>0.001974</td>\n",
       "      <td>0.281747</td>\n",
       "      <td>0.605641</td>\n",
       "      <td>1.152996</td>\n",
       "      <td>2.960775</td>\n",
       "    </tr>\n",
       "    <tr>\n",
       "      <th>results</th>\n",
       "      <td>249.0</td>\n",
       "      <td>0.852872</td>\n",
       "      <td>0.523171</td>\n",
       "      <td>0.056562</td>\n",
       "      <td>0.402886</td>\n",
       "      <td>0.864653</td>\n",
       "      <td>1.213295</td>\n",
       "      <td>2.019068</td>\n",
       "    </tr>\n",
       "  </tbody>\n",
       "</table>\n",
       "</div>"
      ],
      "text/plain": [
       "                 count      mean       std       min       25%       50%  \\\n",
       "goals_z          249.0  0.812489  0.584151  0.007346  0.354214  0.722179   \n",
       "xg_z             249.0  0.789202  0.615371  0.005689  0.290175  0.660987   \n",
       "crosses_z        249.0  0.806613  0.592270  0.006133  0.355849  0.693298   \n",
       "boxtouches_z     249.0  0.772802  0.635926  0.000205  0.278968  0.595211   \n",
       "passes_z         249.0  0.779737  0.627369  0.001925  0.317102  0.668194   \n",
       "progpasses_z     249.0  0.777504  0.630144  0.004047  0.287034  0.646227   \n",
       "takeons_z        249.0  0.794749  0.608161  0.004955  0.293652  0.709105   \n",
       "progruns_z       249.0  0.784643  0.621196  0.002619  0.343248  0.624922   \n",
       "tackles_z        249.0  0.790774  0.613341  0.000246  0.300024  0.647353   \n",
       "interceptions_z  249.0  0.793950  0.609208  0.003772  0.345156  0.666145   \n",
       "clearances_z     249.0  0.803133  0.597000  0.008500  0.355501  0.631873   \n",
       "blocks_z         249.0  0.769436  0.640010  0.003335  0.314130  0.615587   \n",
       "aerials_z        249.0  0.794468  0.608529  0.010008  0.288057  0.712226   \n",
       "fouls_z          249.0  0.819838  0.573749  0.002166  0.368802  0.723306   \n",
       "fouled_z         249.0  0.808115  0.590212  0.000141  0.334643  0.709584   \n",
       "nsxg_z           249.0  0.780227  0.626757  0.001974  0.281747  0.605641   \n",
       "results          249.0  0.852872  0.523171  0.056562  0.402886  0.864653   \n",
       "\n",
       "                      75%       max  \n",
       "goals_z          1.204867  2.669423  \n",
       "xg_z             1.155246  3.218490  \n",
       "crosses_z        1.119705  3.089152  \n",
       "boxtouches_z     1.134201  3.510042  \n",
       "passes_z         1.100564  3.828086  \n",
       "progpasses_z     1.156370  3.452922  \n",
       "takeons_z        1.176489  3.383106  \n",
       "progruns_z       1.151149  3.809802  \n",
       "tackles_z        1.116169  2.925175  \n",
       "interceptions_z  1.119555  2.974592  \n",
       "clearances_z     1.164546  3.043876  \n",
       "blocks_z         1.055769  3.449422  \n",
       "aerials_z        1.130617  3.025094  \n",
       "fouls_z          1.154080  3.241004  \n",
       "fouled_z         1.207256  2.777677  \n",
       "nsxg_z           1.152996  2.960775  \n",
       "results          1.213295  2.019068  "
      ]
     },
     "execution_count": 251,
     "metadata": {},
     "output_type": "execute_result"
    }
   ],
   "source": [
    "z.describe().T"
   ]
  },
  {
   "cell_type": "code",
   "execution_count": 252,
   "metadata": {},
   "outputs": [
    {
     "name": "stdout",
     "output_type": "stream",
     "text": [
      "(array([  1,   2,   2,  21,  21,  22,  22,  23,  24,  33,  37,  37,  37,\n",
      "        50,  69,  71,  75,  80,  91,  93, 121, 139, 139, 146, 146, 146,\n",
      "       153, 156, 156, 156, 182, 182, 183, 183, 193, 214, 220, 221, 236,\n",
      "       241, 243, 245, 246, 247]), array([ 8,  7,  8,  1,  9,  4,  7,  8,  4,  6,  3,  7, 15, 11,  8, 11,  3,\n",
      "       11,  2, 10,  2, 11, 13,  4,  5, 11,  8,  6, 14, 15,  5,  9,  4,  9,\n",
      "        1,  7, 10,  3, 12,  1, 10, 12, 12, 14]))\n"
     ]
    }
   ],
   "source": [
    "threshold = 2.2\n",
    "print(np.where(z > 2.7))"
   ]
  },
  {
   "cell_type": "code",
   "execution_count": 253,
   "metadata": {},
   "outputs": [
    {
     "name": "stdout",
     "output_type": "stream",
     "text": [
      "goals_z             0.385385\n",
      "xg_z                0.357692\n",
      "crosses_z           0.349231\n",
      "boxtouches_z        0.340769\n",
      "passes_z            0.456923\n",
      "progpasses_z        0.323846\n",
      "takeons_z           0.410000\n",
      "progruns_z          0.420769\n",
      "tackles_z           0.449231\n",
      "interceptions_z     0.500000\n",
      "clearances_z        0.317692\n",
      "blocks_z            0.365385\n",
      "aerials_z           0.383077\n",
      "fouls_z             0.426923\n",
      "fouled_z            0.365385\n",
      "nsxg_z              0.380769\n",
      "results            14.000000\n",
      "dtype: float64\n"
     ]
    }
   ],
   "source": [
    "Q1 = df.quantile(0.25)\n",
    "Q3 = df.quantile(0.75)\n",
    "IQR = Q3 - Q1\n",
    "print(IQR)"
   ]
  },
  {
   "cell_type": "code",
   "execution_count": 254,
   "metadata": {},
   "outputs": [],
   "source": [
    "# print(df < (Q1 - 1.5 * IQR)) |(df > (Q3 + 1.5 * IQR))"
   ]
  },
  {
   "cell_type": "code",
   "execution_count": 255,
   "metadata": {},
   "outputs": [
    {
     "data": {
      "text/plain": [
       "goals_z            0\n",
       "xg_z               0\n",
       "crosses_z          0\n",
       "boxtouches_z       0\n",
       "passes_z           0\n",
       "progpasses_z       0\n",
       "takeons_z          0\n",
       "progruns_z         0\n",
       "tackles_z          0\n",
       "interceptions_z    0\n",
       "clearances_z       0\n",
       "blocks_z           0\n",
       "aerials_z          0\n",
       "fouls_z            0\n",
       "fouled_z           0\n",
       "nsxg_z             0\n",
       "results            0\n",
       "dtype: int64"
      ]
     },
     "execution_count": 255,
     "metadata": {},
     "output_type": "execute_result"
    }
   ],
   "source": [
    "df.isnull().sum()"
   ]
  },
  {
   "cell_type": "code",
   "execution_count": 256,
   "metadata": {},
   "outputs": [],
   "source": [
    "df_z = df[(z < 2.25).all(axis=1)]"
   ]
  },
  {
   "cell_type": "code",
   "execution_count": 257,
   "metadata": {},
   "outputs": [
    {
     "data": {
      "text/plain": [
       "(182, 17)"
      ]
     },
     "execution_count": 257,
     "metadata": {},
     "output_type": "execute_result"
    }
   ],
   "source": [
    "df_z.shape"
   ]
  },
  {
   "cell_type": "code",
   "execution_count": 258,
   "metadata": {},
   "outputs": [
    {
     "data": {
      "text/plain": [
       "(249, 17)"
      ]
     },
     "execution_count": 258,
     "metadata": {},
     "output_type": "execute_result"
    }
   ],
   "source": [
    "df.shape"
   ]
  },
  {
   "cell_type": "code",
   "execution_count": null,
   "metadata": {},
   "outputs": [],
   "source": []
  },
  {
   "cell_type": "code",
   "execution_count": 259,
   "metadata": {},
   "outputs": [
    {
     "data": {
      "image/png": "[encoded data removed]",
      "text/plain": [
       "<Figure size 1152x576 with 1 Axes>"
      ]
     },
     "metadata": {
      "needs_background": "light"
     },
     "output_type": "display_data"
    }
   ],
   "source": [
    "fig, ax = plt.subplots(figsize=(16,8))\n",
    "ax.scatter(df_z['results'], df_z['goals_z'])\n",
    "ax.set_xlabel('results')\n",
    "ax.set_ylabel('goals_z')\n",
    "plt.show()"
   ]
  },
  {
   "cell_type": "code",
   "execution_count": 260,
   "metadata": {},
   "outputs": [
    {
     "data": {
      "image/png": "[encoded data removed]",
      "text/plain": [
       "<Figure size 1152x576 with 1 Axes>"
      ]
     },
     "metadata": {
      "needs_background": "light"
     },
     "output_type": "display_data"
    }
   ],
   "source": [
    "fig, ax = plt.subplots(figsize=(16,8))\n",
    "ax.scatter(df['results'], df['goals_z'])\n",
    "ax.set_xlabel('results')\n",
    "ax.set_ylabel('goals_z')\n",
    "plt.show()"
   ]
  },
  {
   "cell_type": "code",
   "execution_count": 231,
   "metadata": {},
   "outputs": [
    {
     "data": {
      "text/html": [
       "<div>\n",
       "<style scoped>\n",
       "    .dataframe tbody tr th:only-of-type {\n",
       "        vertical-align: middle;\n",
       "    }\n",
       "\n",
       "    .dataframe tbody tr th {\n",
       "        vertical-align: top;\n",
       "    }\n",
       "\n",
       "    .dataframe thead th {\n",
       "        text-align: right;\n",
       "    }\n",
       "</style>\n",
       "<table border=\"1\" class=\"dataframe\">\n",
       "  <thead>\n",
       "    <tr style=\"text-align: right;\">\n",
       "      <th></th>\n",
       "      <th>goals_z</th>\n",
       "      <th>xg_z</th>\n",
       "      <th>crosses_z</th>\n",
       "      <th>boxtouches_z</th>\n",
       "      <th>passes_z</th>\n",
       "      <th>progpasses_z</th>\n",
       "      <th>takeons_z</th>\n",
       "      <th>progruns_z</th>\n",
       "      <th>tackles_z</th>\n",
       "      <th>interceptions_z</th>\n",
       "      <th>clearances_z</th>\n",
       "      <th>blocks_z</th>\n",
       "      <th>aerials_z</th>\n",
       "      <th>fouls_z</th>\n",
       "      <th>fouled_z</th>\n",
       "      <th>nsxg_z</th>\n",
       "      <th>results</th>\n",
       "    </tr>\n",
       "  </thead>\n",
       "  <tbody>\n",
       "    <tr>\n",
       "      <th>98</th>\n",
       "      <td>-0.410000</td>\n",
       "      <td>-0.271538</td>\n",
       "      <td>-0.201538</td>\n",
       "      <td>-0.313077</td>\n",
       "      <td>0.321538</td>\n",
       "      <td>-0.080769</td>\n",
       "      <td>0.053077</td>\n",
       "      <td>-0.030769</td>\n",
       "      <td>-0.309231</td>\n",
       "      <td>-0.114615</td>\n",
       "      <td>0.203077</td>\n",
       "      <td>-0.212308</td>\n",
       "      <td>-0.440769</td>\n",
       "      <td>-0.219231</td>\n",
       "      <td>0.034615</td>\n",
       "      <td>-0.321538</td>\n",
       "      <td>32</td>\n",
       "    </tr>\n",
       "    <tr>\n",
       "      <th>72</th>\n",
       "      <td>-0.410000</td>\n",
       "      <td>0.329231</td>\n",
       "      <td>0.606923</td>\n",
       "      <td>0.713846</td>\n",
       "      <td>0.467692</td>\n",
       "      <td>-0.033077</td>\n",
       "      <td>0.140769</td>\n",
       "      <td>0.609231</td>\n",
       "      <td>0.610769</td>\n",
       "      <td>0.639231</td>\n",
       "      <td>-0.492308</td>\n",
       "      <td>-0.385385</td>\n",
       "      <td>0.008462</td>\n",
       "      <td>-0.016923</td>\n",
       "      <td>0.310769</td>\n",
       "      <td>0.633077</td>\n",
       "      <td>28</td>\n",
       "    </tr>\n",
       "    <tr>\n",
       "      <th>201</th>\n",
       "      <td>-0.400000</td>\n",
       "      <td>-0.104615</td>\n",
       "      <td>0.471538</td>\n",
       "      <td>-0.059231</td>\n",
       "      <td>0.270000</td>\n",
       "      <td>0.046154</td>\n",
       "      <td>-0.040000</td>\n",
       "      <td>0.204615</td>\n",
       "      <td>0.142308</td>\n",
       "      <td>0.485385</td>\n",
       "      <td>0.329231</td>\n",
       "      <td>-0.003077</td>\n",
       "      <td>0.197692</td>\n",
       "      <td>0.399231</td>\n",
       "      <td>0.011538</td>\n",
       "      <td>0.020769</td>\n",
       "      <td>28</td>\n",
       "    </tr>\n",
       "    <tr>\n",
       "      <th>221</th>\n",
       "      <td>-0.400000</td>\n",
       "      <td>-0.466923</td>\n",
       "      <td>-0.353846</td>\n",
       "      <td>-0.634615</td>\n",
       "      <td>-0.516923</td>\n",
       "      <td>-0.090769</td>\n",
       "      <td>-0.300769</td>\n",
       "      <td>-0.359231</td>\n",
       "      <td>-0.571538</td>\n",
       "      <td>-0.513846</td>\n",
       "      <td>0.177692</td>\n",
       "      <td>0.046154</td>\n",
       "      <td>-0.079231</td>\n",
       "      <td>-0.191538</td>\n",
       "      <td>-0.210769</td>\n",
       "      <td>-0.699231</td>\n",
       "      <td>30</td>\n",
       "    </tr>\n",
       "    <tr>\n",
       "      <th>217</th>\n",
       "      <td>-0.390000</td>\n",
       "      <td>-0.233077</td>\n",
       "      <td>0.611538</td>\n",
       "      <td>-0.166923</td>\n",
       "      <td>-0.031538</td>\n",
       "      <td>-0.073846</td>\n",
       "      <td>0.014615</td>\n",
       "      <td>-0.071538</td>\n",
       "      <td>0.070769</td>\n",
       "      <td>0.356923</td>\n",
       "      <td>-0.239231</td>\n",
       "      <td>0.000769</td>\n",
       "      <td>-0.353846</td>\n",
       "      <td>-0.232308</td>\n",
       "      <td>0.316923</td>\n",
       "      <td>0.033846</td>\n",
       "      <td>24</td>\n",
       "    </tr>\n",
       "    <tr>\n",
       "      <th>...</th>\n",
       "      <td>...</td>\n",
       "      <td>...</td>\n",
       "      <td>...</td>\n",
       "      <td>...</td>\n",
       "      <td>...</td>\n",
       "      <td>...</td>\n",
       "      <td>...</td>\n",
       "      <td>...</td>\n",
       "      <td>...</td>\n",
       "      <td>...</td>\n",
       "      <td>...</td>\n",
       "      <td>...</td>\n",
       "      <td>...</td>\n",
       "      <td>...</td>\n",
       "      <td>...</td>\n",
       "      <td>...</td>\n",
       "      <td>...</td>\n",
       "    </tr>\n",
       "    <tr>\n",
       "      <th>193</th>\n",
       "      <td>0.786154</td>\n",
       "      <td>0.946923</td>\n",
       "      <td>0.149231</td>\n",
       "      <td>0.242308</td>\n",
       "      <td>-0.258462</td>\n",
       "      <td>-0.413077</td>\n",
       "      <td>0.680769</td>\n",
       "      <td>-0.091538</td>\n",
       "      <td>0.090000</td>\n",
       "      <td>0.136923</td>\n",
       "      <td>-0.546923</td>\n",
       "      <td>-0.329231</td>\n",
       "      <td>-0.127692</td>\n",
       "      <td>-0.190769</td>\n",
       "      <td>-0.055385</td>\n",
       "      <td>0.313077</td>\n",
       "      <td>10</td>\n",
       "    </tr>\n",
       "    <tr>\n",
       "      <th>12</th>\n",
       "      <td>0.816923</td>\n",
       "      <td>0.433846</td>\n",
       "      <td>-0.024615</td>\n",
       "      <td>0.452308</td>\n",
       "      <td>0.194615</td>\n",
       "      <td>-0.104615</td>\n",
       "      <td>0.006154</td>\n",
       "      <td>0.384615</td>\n",
       "      <td>0.047692</td>\n",
       "      <td>0.056923</td>\n",
       "      <td>-0.066923</td>\n",
       "      <td>0.276154</td>\n",
       "      <td>0.296154</td>\n",
       "      <td>-0.387692</td>\n",
       "      <td>-0.258462</td>\n",
       "      <td>0.276154</td>\n",
       "      <td>3</td>\n",
       "    </tr>\n",
       "    <tr>\n",
       "      <th>33</th>\n",
       "      <td>0.843846</td>\n",
       "      <td>0.712308</td>\n",
       "      <td>0.016923</td>\n",
       "      <td>0.245385</td>\n",
       "      <td>0.010769</td>\n",
       "      <td>-0.181538</td>\n",
       "      <td>0.940769</td>\n",
       "      <td>0.834615</td>\n",
       "      <td>0.241538</td>\n",
       "      <td>0.035385</td>\n",
       "      <td>-0.039231</td>\n",
       "      <td>0.131538</td>\n",
       "      <td>-0.166154</td>\n",
       "      <td>-0.134615</td>\n",
       "      <td>0.100769</td>\n",
       "      <td>0.306154</td>\n",
       "      <td>1</td>\n",
       "    </tr>\n",
       "    <tr>\n",
       "      <th>4</th>\n",
       "      <td>0.877692</td>\n",
       "      <td>0.773846</td>\n",
       "      <td>0.428462</td>\n",
       "      <td>0.659231</td>\n",
       "      <td>0.754615</td>\n",
       "      <td>0.335385</td>\n",
       "      <td>0.023077</td>\n",
       "      <td>0.638462</td>\n",
       "      <td>0.493846</td>\n",
       "      <td>0.637692</td>\n",
       "      <td>-0.117692</td>\n",
       "      <td>-0.033846</td>\n",
       "      <td>0.572308</td>\n",
       "      <td>-0.016154</td>\n",
       "      <td>-0.096923</td>\n",
       "      <td>0.890769</td>\n",
       "      <td>5</td>\n",
       "    </tr>\n",
       "    <tr>\n",
       "      <th>21</th>\n",
       "      <td>0.881538</td>\n",
       "      <td>1.015385</td>\n",
       "      <td>0.637692</td>\n",
       "      <td>0.533077</td>\n",
       "      <td>0.500769</td>\n",
       "      <td>0.266154</td>\n",
       "      <td>0.676923</td>\n",
       "      <td>0.080000</td>\n",
       "      <td>0.447692</td>\n",
       "      <td>1.215385</td>\n",
       "      <td>-0.337692</td>\n",
       "      <td>-0.442308</td>\n",
       "      <td>-0.273077</td>\n",
       "      <td>0.041538</td>\n",
       "      <td>0.093077</td>\n",
       "      <td>0.650769</td>\n",
       "      <td>23</td>\n",
       "    </tr>\n",
       "  </tbody>\n",
       "</table>\n",
       "<p>249 rows × 17 columns</p>\n",
       "</div>"
      ],
      "text/plain": [
       "      goals_z      xg_z  crosses_z  boxtouches_z  passes_z  progpasses_z  \\\n",
       "98  -0.410000 -0.271538  -0.201538     -0.313077  0.321538     -0.080769   \n",
       "72  -0.410000  0.329231   0.606923      0.713846  0.467692     -0.033077   \n",
       "201 -0.400000 -0.104615   0.471538     -0.059231  0.270000      0.046154   \n",
       "221 -0.400000 -0.466923  -0.353846     -0.634615 -0.516923     -0.090769   \n",
       "217 -0.390000 -0.233077   0.611538     -0.166923 -0.031538     -0.073846   \n",
       "..        ...       ...        ...           ...       ...           ...   \n",
       "193  0.786154  0.946923   0.149231      0.242308 -0.258462     -0.413077   \n",
       "12   0.816923  0.433846  -0.024615      0.452308  0.194615     -0.104615   \n",
       "33   0.843846  0.712308   0.016923      0.245385  0.010769     -0.181538   \n",
       "4    0.877692  0.773846   0.428462      0.659231  0.754615      0.335385   \n",
       "21   0.881538  1.015385   0.637692      0.533077  0.500769      0.266154   \n",
       "\n",
       "     takeons_z  progruns_z  tackles_z  interceptions_z  clearances_z  \\\n",
       "98    0.053077   -0.030769  -0.309231        -0.114615      0.203077   \n",
       "72    0.140769    0.609231   0.610769         0.639231     -0.492308   \n",
       "201  -0.040000    0.204615   0.142308         0.485385      0.329231   \n",
       "221  -0.300769   -0.359231  -0.571538        -0.513846      0.177692   \n",
       "217   0.014615   -0.071538   0.070769         0.356923     -0.239231   \n",
       "..         ...         ...        ...              ...           ...   \n",
       "193   0.680769   -0.091538   0.090000         0.136923     -0.546923   \n",
       "12    0.006154    0.384615   0.047692         0.056923     -0.066923   \n",
       "33    0.940769    0.834615   0.241538         0.035385     -0.039231   \n",
       "4     0.023077    0.638462   0.493846         0.637692     -0.117692   \n",
       "21    0.676923    0.080000   0.447692         1.215385     -0.337692   \n",
       "\n",
       "     blocks_z  aerials_z   fouls_z  fouled_z    nsxg_z  results  \n",
       "98  -0.212308  -0.440769 -0.219231  0.034615 -0.321538       32  \n",
       "72  -0.385385   0.008462 -0.016923  0.310769  0.633077       28  \n",
       "201 -0.003077   0.197692  0.399231  0.011538  0.020769       28  \n",
       "221  0.046154  -0.079231 -0.191538 -0.210769 -0.699231       30  \n",
       "217  0.000769  -0.353846 -0.232308  0.316923  0.033846       24  \n",
       "..        ...        ...       ...       ...       ...      ...  \n",
       "193 -0.329231  -0.127692 -0.190769 -0.055385  0.313077       10  \n",
       "12   0.276154   0.296154 -0.387692 -0.258462  0.276154        3  \n",
       "33   0.131538  -0.166154 -0.134615  0.100769  0.306154        1  \n",
       "4   -0.033846   0.572308 -0.016154 -0.096923  0.890769        5  \n",
       "21  -0.442308  -0.273077  0.041538  0.093077  0.650769       23  \n",
       "\n",
       "[249 rows x 17 columns]"
      ]
     },
     "execution_count": 231,
     "metadata": {},
     "output_type": "execute_result"
    }
   ],
   "source": [
    " df.sort_values(['goals_z'])"
   ]
  },
  {
   "cell_type": "markdown",
   "metadata": {},
   "source": [
    "# new csv"
   ]
  },
  {
   "cell_type": "code",
   "execution_count": 261,
   "metadata": {},
   "outputs": [],
   "source": [
    "df_z.to_csv('./WC Data Models/wc-wo-outliers.csv', index=False)"
   ]
  },
  {
   "cell_type": "code",
   "execution_count": null,
   "metadata": {},
   "outputs": [],
   "source": []
  },
  {
   "cell_type": "code",
   "execution_count": 77,
   "metadata": {},
   "outputs": [],
   "source": [
    "from sklearn.metrics import mean_absolute_percentage_error\n",
    "from sklearn.linear_model import LinearRegression"
   ]
  },
  {
   "cell_type": "code",
   "execution_count": 209,
   "metadata": {},
   "outputs": [],
   "source": [
    "from sklearn.linear_model import LinearRegression"
   ]
  },
  {
   "cell_type": "code",
   "execution_count": 210,
   "metadata": {},
   "outputs": [],
   "source": [
    "y = df_z['results']"
   ]
  },
  {
   "cell_type": "code",
   "execution_count": 211,
   "metadata": {},
   "outputs": [],
   "source": [
    "X = df_z.drop(columns=['results'])"
   ]
  },
  {
   "cell_type": "code",
   "execution_count": 212,
   "metadata": {},
   "outputs": [],
   "source": [
    "X_train, X_test, y_train, y_test = train_test_split(\n",
    "     X, y, test_size=0.20, random_state=1)"
   ]
  },
  {
   "cell_type": "code",
   "execution_count": 213,
   "metadata": {},
   "outputs": [],
   "source": [
    "reg = LinearRegression().fit(X_train, y_train)"
   ]
  },
  {
   "cell_type": "code",
   "execution_count": 214,
   "metadata": {},
   "outputs": [],
   "source": [
    "predictions = reg.predict(X_test)"
   ]
  },
  {
   "cell_type": "code",
   "execution_count": 332,
   "metadata": {},
   "outputs": [
    {
     "name": "stdout",
     "output_type": "stream",
     "text": [
      "LINEAR REGRESSION\n",
      "r2 score: 0.45812714082277384\n",
      "RMSE : 6.746346591344607\n",
      "MSE: 45.513192330547\n",
      "MAE: 5.6049298574127615\n",
      "MAPE: 0.608694879466424\n"
     ]
    }
   ],
   "source": [
    "#Finding the r2 score and root mean squared error\n",
    "from sklearn.metrics import r2_score, mean_squared_error\n",
    "from sklearn.metrics import mean_absolute_error\n",
    "from sklearn.metrics import mean_squared_error\n",
    "import math\n",
    "\n",
    "print('LINEAR REGRESSION')\n",
    "print('r2 score: '+str(r2_score(y_test, predictions)))\n",
    "print('RMSE : '+str(np.sqrt(mean_squared_error(y_test, predictions))))\n",
    "print('MSE: '+str(mean_squared_error(y_test, predictions)))\n",
    "print('MAE: '+str(mean_absolute_error(y_test, predictions)))\n",
    "print('MAPE: '+str(mean_absolute_percentage_error(y_test, predictions)))"
   ]
  },
  {
   "cell_type": "markdown",
   "metadata": {},
   "source": [
    "# 46%"
   ]
  },
  {
   "cell_type": "code",
   "execution_count": 216,
   "metadata": {},
   "outputs": [],
   "source": [
    "import eli5\n",
    "from eli5.sklearn import PermutationImportance"
   ]
  },
  {
   "cell_type": "code",
   "execution_count": 217,
   "metadata": {},
   "outputs": [
    {
     "data": {
      "text/html": [
       "\n",
       "    <style>\n",
       "    table.eli5-weights tr:hover {\n",
       "        filter: brightness(85%);\n",
       "    }\n",
       "</style>\n",
       "\n",
       "\n",
       "\n",
       "    \n",
       "\n",
       "    \n",
       "\n",
       "    \n",
       "\n",
       "    \n",
       "\n",
       "    \n",
       "\n",
       "    \n",
       "\n",
       "\n",
       "    \n",
       "\n",
       "    \n",
       "\n",
       "    \n",
       "\n",
       "    \n",
       "\n",
       "    \n",
       "\n",
       "    \n",
       "\n",
       "\n",
       "    \n",
       "\n",
       "    \n",
       "\n",
       "    \n",
       "\n",
       "    \n",
       "\n",
       "    \n",
       "        <table class=\"eli5-weights eli5-feature-importances\" style=\"border-collapse: collapse; border: none; margin-top: 0em; table-layout: auto;\">\n",
       "    <thead>\n",
       "    <tr style=\"border: none;\">\n",
       "        <th style=\"padding: 0 1em 0 0.5em; text-align: right; border: none;\">Weight</th>\n",
       "        <th style=\"padding: 0 0.5em 0 0.5em; text-align: left; border: none;\">Feature</th>\n",
       "    </tr>\n",
       "    </thead>\n",
       "    <tbody>\n",
       "    \n",
       "        <tr style=\"background-color: hsl(120, 100.00%, 80.00%); border: none;\">\n",
       "            <td style=\"padding: 0 1em 0 0.5em; text-align: right; border: none;\">\n",
       "                0.9349\n",
       "                \n",
       "                    &plusmn; 0.1796\n",
       "                \n",
       "            </td>\n",
       "            <td style=\"padding: 0 0.5em 0 0.5em; text-align: left; border: none;\">\n",
       "                goals_z\n",
       "            </td>\n",
       "        </tr>\n",
       "    \n",
       "        <tr style=\"background-color: hsl(120, 100.00%, 95.19%); border: none;\">\n",
       "            <td style=\"padding: 0 1em 0 0.5em; text-align: right; border: none;\">\n",
       "                0.1222\n",
       "                \n",
       "                    &plusmn; 0.1041\n",
       "                \n",
       "            </td>\n",
       "            <td style=\"padding: 0 0.5em 0 0.5em; text-align: left; border: none;\">\n",
       "                passes_z\n",
       "            </td>\n",
       "        </tr>\n",
       "    \n",
       "        <tr style=\"background-color: hsl(120, 100.00%, 96.62%); border: none;\">\n",
       "            <td style=\"padding: 0 1em 0 0.5em; text-align: right; border: none;\">\n",
       "                0.0737\n",
       "                \n",
       "                    &plusmn; 0.1101\n",
       "                \n",
       "            </td>\n",
       "            <td style=\"padding: 0 0.5em 0 0.5em; text-align: left; border: none;\">\n",
       "                boxtouches_z\n",
       "            </td>\n",
       "        </tr>\n",
       "    \n",
       "        <tr style=\"background-color: hsl(120, 100.00%, 98.25%); border: none;\">\n",
       "            <td style=\"padding: 0 1em 0 0.5em; text-align: right; border: none;\">\n",
       "                0.0288\n",
       "                \n",
       "                    &plusmn; 0.0474\n",
       "                \n",
       "            </td>\n",
       "            <td style=\"padding: 0 0.5em 0 0.5em; text-align: left; border: none;\">\n",
       "                progruns_z\n",
       "            </td>\n",
       "        </tr>\n",
       "    \n",
       "        <tr style=\"background-color: hsl(120, 100.00%, 99.08%); border: none;\">\n",
       "            <td style=\"padding: 0 1em 0 0.5em; text-align: right; border: none;\">\n",
       "                0.0116\n",
       "                \n",
       "                    &plusmn; 0.0068\n",
       "                \n",
       "            </td>\n",
       "            <td style=\"padding: 0 0.5em 0 0.5em; text-align: left; border: none;\">\n",
       "                clearances_z\n",
       "            </td>\n",
       "        </tr>\n",
       "    \n",
       "        <tr style=\"background-color: hsl(120, 100.00%, 99.12%); border: none;\">\n",
       "            <td style=\"padding: 0 1em 0 0.5em; text-align: right; border: none;\">\n",
       "                0.0108\n",
       "                \n",
       "                    &plusmn; 0.0308\n",
       "                \n",
       "            </td>\n",
       "            <td style=\"padding: 0 0.5em 0 0.5em; text-align: left; border: none;\">\n",
       "                tackles_z\n",
       "            </td>\n",
       "        </tr>\n",
       "    \n",
       "        <tr style=\"background-color: hsl(120, 100.00%, 99.69%); border: none;\">\n",
       "            <td style=\"padding: 0 1em 0 0.5em; text-align: right; border: none;\">\n",
       "                0.0024\n",
       "                \n",
       "                    &plusmn; 0.0157\n",
       "                \n",
       "            </td>\n",
       "            <td style=\"padding: 0 0.5em 0 0.5em; text-align: left; border: none;\">\n",
       "                crosses_z\n",
       "            </td>\n",
       "        </tr>\n",
       "    \n",
       "        <tr style=\"background-color: hsl(120, 100.00%, 99.73%); border: none;\">\n",
       "            <td style=\"padding: 0 1em 0 0.5em; text-align: right; border: none;\">\n",
       "                0.0020\n",
       "                \n",
       "                    &plusmn; 0.0018\n",
       "                \n",
       "            </td>\n",
       "            <td style=\"padding: 0 0.5em 0 0.5em; text-align: left; border: none;\">\n",
       "                interceptions_z\n",
       "            </td>\n",
       "        </tr>\n",
       "    \n",
       "        <tr style=\"background-color: hsl(120, 100.00%, 99.75%); border: none;\">\n",
       "            <td style=\"padding: 0 1em 0 0.5em; text-align: right; border: none;\">\n",
       "                0.0018\n",
       "                \n",
       "                    &plusmn; 0.0253\n",
       "                \n",
       "            </td>\n",
       "            <td style=\"padding: 0 0.5em 0 0.5em; text-align: left; border: none;\">\n",
       "                fouled_z\n",
       "            </td>\n",
       "        </tr>\n",
       "    \n",
       "        <tr style=\"background-color: hsl(120, 100.00%, 99.81%); border: none;\">\n",
       "            <td style=\"padding: 0 1em 0 0.5em; text-align: right; border: none;\">\n",
       "                0.0012\n",
       "                \n",
       "                    &plusmn; 0.0043\n",
       "                \n",
       "            </td>\n",
       "            <td style=\"padding: 0 0.5em 0 0.5em; text-align: left; border: none;\">\n",
       "                takeons_z\n",
       "            </td>\n",
       "        </tr>\n",
       "    \n",
       "        <tr style=\"background-color: hsl(120, 100.00%, 99.82%); border: none;\">\n",
       "            <td style=\"padding: 0 1em 0 0.5em; text-align: right; border: none;\">\n",
       "                0.0011\n",
       "                \n",
       "                    &plusmn; 0.0185\n",
       "                \n",
       "            </td>\n",
       "            <td style=\"padding: 0 0.5em 0 0.5em; text-align: left; border: none;\">\n",
       "                progpasses_z\n",
       "            </td>\n",
       "        </tr>\n",
       "    \n",
       "        <tr style=\"background-color: hsl(120, 100.00%, 99.83%); border: none;\">\n",
       "            <td style=\"padding: 0 1em 0 0.5em; text-align: right; border: none;\">\n",
       "                0.0010\n",
       "                \n",
       "                    &plusmn; 0.0328\n",
       "                \n",
       "            </td>\n",
       "            <td style=\"padding: 0 0.5em 0 0.5em; text-align: left; border: none;\">\n",
       "                nsxg_z\n",
       "            </td>\n",
       "        </tr>\n",
       "    \n",
       "        <tr style=\"background-color: hsl(0, 100.00%, 99.73%); border: none;\">\n",
       "            <td style=\"padding: 0 1em 0 0.5em; text-align: right; border: none;\">\n",
       "                -0.0019\n",
       "                \n",
       "                    &plusmn; 0.0105\n",
       "                \n",
       "            </td>\n",
       "            <td style=\"padding: 0 0.5em 0 0.5em; text-align: left; border: none;\">\n",
       "                blocks_z\n",
       "            </td>\n",
       "        </tr>\n",
       "    \n",
       "        <tr style=\"background-color: hsl(0, 100.00%, 99.71%); border: none;\">\n",
       "            <td style=\"padding: 0 1em 0 0.5em; text-align: right; border: none;\">\n",
       "                -0.0022\n",
       "                \n",
       "                    &plusmn; 0.0245\n",
       "                \n",
       "            </td>\n",
       "            <td style=\"padding: 0 0.5em 0 0.5em; text-align: left; border: none;\">\n",
       "                fouls_z\n",
       "            </td>\n",
       "        </tr>\n",
       "    \n",
       "        <tr style=\"background-color: hsl(0, 100.00%, 98.98%); border: none;\">\n",
       "            <td style=\"padding: 0 1em 0 0.5em; text-align: right; border: none;\">\n",
       "                -0.0134\n",
       "                \n",
       "                    &plusmn; 0.0388\n",
       "                \n",
       "            </td>\n",
       "            <td style=\"padding: 0 0.5em 0 0.5em; text-align: left; border: none;\">\n",
       "                xg_z\n",
       "            </td>\n",
       "        </tr>\n",
       "    \n",
       "        <tr style=\"background-color: hsl(0, 100.00%, 98.61%); border: none;\">\n",
       "            <td style=\"padding: 0 1em 0 0.5em; text-align: right; border: none;\">\n",
       "                -0.0207\n",
       "                \n",
       "                    &plusmn; 0.0363\n",
       "                \n",
       "            </td>\n",
       "            <td style=\"padding: 0 0.5em 0 0.5em; text-align: left; border: none;\">\n",
       "                aerials_z\n",
       "            </td>\n",
       "        </tr>\n",
       "    \n",
       "    \n",
       "    </tbody>\n",
       "</table>\n",
       "    \n",
       "\n",
       "    \n",
       "\n",
       "\n",
       "    \n",
       "\n",
       "    \n",
       "\n",
       "    \n",
       "\n",
       "    \n",
       "\n",
       "    \n",
       "\n",
       "    \n",
       "\n",
       "\n",
       "\n"
      ],
      "text/plain": [
       "<IPython.core.display.HTML object>"
      ]
     },
     "execution_count": 217,
     "metadata": {},
     "output_type": "execute_result"
    }
   ],
   "source": [
    "perm = PermutationImportance(reg, random_state=1).fit(X_test, y_test)\n",
    "eli5.show_weights(perm, feature_names = X_test.columns.tolist())\n",
    "#Top 3 important features are goals_z & passes_z "
   ]
  },
  {
   "cell_type": "markdown",
   "metadata": {},
   "source": [
    "The previous table shows the feature importance of each of the columns. The weight column represents the importance of the feature measured as the MDA. The +/- sign represents the standard deviation of the importance calculated before. This value tries to measure the amount of randomness in our permutation importance calculation by repeating the process with multiple shuffles. Weight’s column then represents the mean of the error accumulated in the multiple shuffles instead of in a single trial."
   ]
  },
  {
   "cell_type": "code",
   "execution_count": 218,
   "metadata": {},
   "outputs": [],
   "source": [
    "importances = eli5.explain_weights_df(perm, feature_names=X_test.columns.tolist())"
   ]
  },
  {
   "cell_type": "code",
   "execution_count": 219,
   "metadata": {},
   "outputs": [
    {
     "data": {
      "text/html": [
       "<div>\n",
       "<style scoped>\n",
       "    .dataframe tbody tr th:only-of-type {\n",
       "        vertical-align: middle;\n",
       "    }\n",
       "\n",
       "    .dataframe tbody tr th {\n",
       "        vertical-align: top;\n",
       "    }\n",
       "\n",
       "    .dataframe thead th {\n",
       "        text-align: right;\n",
       "    }\n",
       "</style>\n",
       "<table border=\"1\" class=\"dataframe\">\n",
       "  <thead>\n",
       "    <tr style=\"text-align: right;\">\n",
       "      <th></th>\n",
       "      <th>feature</th>\n",
       "      <th>weight</th>\n",
       "      <th>std</th>\n",
       "    </tr>\n",
       "  </thead>\n",
       "  <tbody>\n",
       "    <tr>\n",
       "      <th>0</th>\n",
       "      <td>goals_z</td>\n",
       "      <td>0.934914</td>\n",
       "      <td>0.089776</td>\n",
       "    </tr>\n",
       "    <tr>\n",
       "      <th>1</th>\n",
       "      <td>passes_z</td>\n",
       "      <td>0.122191</td>\n",
       "      <td>0.052064</td>\n",
       "    </tr>\n",
       "    <tr>\n",
       "      <th>2</th>\n",
       "      <td>boxtouches_z</td>\n",
       "      <td>0.073670</td>\n",
       "      <td>0.055029</td>\n",
       "    </tr>\n",
       "    <tr>\n",
       "      <th>3</th>\n",
       "      <td>progruns_z</td>\n",
       "      <td>0.028777</td>\n",
       "      <td>0.023706</td>\n",
       "    </tr>\n",
       "    <tr>\n",
       "      <th>4</th>\n",
       "      <td>clearances_z</td>\n",
       "      <td>0.011562</td>\n",
       "      <td>0.003391</td>\n",
       "    </tr>\n",
       "    <tr>\n",
       "      <th>5</th>\n",
       "      <td>tackles_z</td>\n",
       "      <td>0.010752</td>\n",
       "      <td>0.015405</td>\n",
       "    </tr>\n",
       "    <tr>\n",
       "      <th>6</th>\n",
       "      <td>crosses_z</td>\n",
       "      <td>0.002439</td>\n",
       "      <td>0.007833</td>\n",
       "    </tr>\n",
       "    <tr>\n",
       "      <th>7</th>\n",
       "      <td>interceptions_z</td>\n",
       "      <td>0.001995</td>\n",
       "      <td>0.000885</td>\n",
       "    </tr>\n",
       "    <tr>\n",
       "      <th>8</th>\n",
       "      <td>fouled_z</td>\n",
       "      <td>0.001828</td>\n",
       "      <td>0.012629</td>\n",
       "    </tr>\n",
       "    <tr>\n",
       "      <th>9</th>\n",
       "      <td>takeons_z</td>\n",
       "      <td>0.001193</td>\n",
       "      <td>0.002133</td>\n",
       "    </tr>\n",
       "    <tr>\n",
       "      <th>10</th>\n",
       "      <td>progpasses_z</td>\n",
       "      <td>0.001104</td>\n",
       "      <td>0.009243</td>\n",
       "    </tr>\n",
       "    <tr>\n",
       "      <th>11</th>\n",
       "      <td>nsxg_z</td>\n",
       "      <td>0.001038</td>\n",
       "      <td>0.016385</td>\n",
       "    </tr>\n",
       "    <tr>\n",
       "      <th>12</th>\n",
       "      <td>blocks_z</td>\n",
       "      <td>-0.001949</td>\n",
       "      <td>0.005255</td>\n",
       "    </tr>\n",
       "    <tr>\n",
       "      <th>13</th>\n",
       "      <td>fouls_z</td>\n",
       "      <td>-0.002214</td>\n",
       "      <td>0.012237</td>\n",
       "    </tr>\n",
       "    <tr>\n",
       "      <th>14</th>\n",
       "      <td>xg_z</td>\n",
       "      <td>-0.013395</td>\n",
       "      <td>0.019387</td>\n",
       "    </tr>\n",
       "    <tr>\n",
       "      <th>15</th>\n",
       "      <td>aerials_z</td>\n",
       "      <td>-0.020705</td>\n",
       "      <td>0.018151</td>\n",
       "    </tr>\n",
       "  </tbody>\n",
       "</table>\n",
       "</div>"
      ],
      "text/plain": [
       "            feature    weight       std\n",
       "0           goals_z  0.934914  0.089776\n",
       "1          passes_z  0.122191  0.052064\n",
       "2      boxtouches_z  0.073670  0.055029\n",
       "3        progruns_z  0.028777  0.023706\n",
       "4      clearances_z  0.011562  0.003391\n",
       "5         tackles_z  0.010752  0.015405\n",
       "6         crosses_z  0.002439  0.007833\n",
       "7   interceptions_z  0.001995  0.000885\n",
       "8          fouled_z  0.001828  0.012629\n",
       "9         takeons_z  0.001193  0.002133\n",
       "10     progpasses_z  0.001104  0.009243\n",
       "11           nsxg_z  0.001038  0.016385\n",
       "12         blocks_z -0.001949  0.005255\n",
       "13          fouls_z -0.002214  0.012237\n",
       "14             xg_z -0.013395  0.019387\n",
       "15        aerials_z -0.020705  0.018151"
      ]
     },
     "execution_count": 219,
     "metadata": {},
     "output_type": "execute_result"
    }
   ],
   "source": [
    "importances"
   ]
  },
  {
   "cell_type": "code",
   "execution_count": 40,
   "metadata": {},
   "outputs": [
    {
     "data": {
      "text/plain": [
       "<AxesSubplot:xlabel='feature', ylabel='weight'>"
      ]
     },
     "execution_count": 40,
     "metadata": {},
     "output_type": "execute_result"
    },
    {
     "data": {
      "image/png": "[encoded data removed]",
      "text/plain": [
       "<Figure size 432x288 with 1 Axes>"
      ]
     },
     "metadata": {
      "needs_background": "light"
     },
     "output_type": "display_data"
    }
   ],
   "source": [
    "import seaborn as sns\n",
    "import matplotlib.pyplot as plt\n",
    "\n",
    "\n",
    "plt.errorbar(x=importances['feature'],\n",
    "    y=importances['weight'],\n",
    "    yerr=importances['std'],\n",
    "    ecolor='r', capsize=8, fmt='none',)\n",
    "sns.pointplot(x='feature', \n",
    "    y='weight', \n",
    "    data=importances, \n",
    "    dodge=True, join=False, ci='none')"
   ]
  },
  {
   "cell_type": "markdown",
   "metadata": {},
   "source": [
    "This graph is telling us the importance of each of the features in classifying something as present or past. "
   ]
  },
  {
   "cell_type": "markdown",
   "metadata": {},
   "source": [
    "## Ridge Regression\n"
   ]
  },
  {
   "cell_type": "code",
   "execution_count": 41,
   "metadata": {},
   "outputs": [],
   "source": [
    "from sklearn.linear_model import Ridge"
   ]
  },
  {
   "cell_type": "code",
   "execution_count": 42,
   "metadata": {},
   "outputs": [],
   "source": [
    "clf = Ridge(alpha=1.0)"
   ]
  },
  {
   "cell_type": "code",
   "execution_count": 43,
   "metadata": {},
   "outputs": [
    {
     "data": {
      "text/plain": [
       "Ridge()"
      ]
     },
     "execution_count": 43,
     "metadata": {},
     "output_type": "execute_result"
    }
   ],
   "source": [
    "clf.fit(X_train, y_train)"
   ]
  },
  {
   "cell_type": "code",
   "execution_count": 44,
   "metadata": {},
   "outputs": [],
   "source": [
    "from sklearn.metrics import mean_squared_error\n",
    "from sklearn.metrics import r2_score"
   ]
  },
  {
   "cell_type": "code",
   "execution_count": 45,
   "metadata": {},
   "outputs": [
    {
     "name": "stdout",
     "output_type": "stream",
     "text": [
      "RIDGE REGRESSION\n",
      "RMSE: 6.645452818212983\n",
      "R Squared: 0.5207879337372383\n",
      "MAPE: 0.9405473114946074\n"
     ]
    }
   ],
   "source": [
    "rr = Ridge(alpha=0.01)\n",
    "rr.fit(X_train, y_train) \n",
    "pred_train_rr= rr.predict(X_train)\n",
    "\n",
    "print('RIDGE REGRESSION')\n",
    "print('RMSE: '+str(np.sqrt(mean_squared_error(y_train,pred_train_rr))))\n",
    "print('R Squared: '+str(r2_score(y_train, pred_train_rr)))\n",
    "# print('MSE: '+str(mean_squared_error(y_test, pred_train_rr)))\n",
    "# print('MAE: '+str(mean_absolute_error(y_test, pred_train_rr)))\n",
    "print('MAPE: '+str(mean_absolute_percentage_error(y_train, pred_train_rr)))"
   ]
  },
  {
   "cell_type": "code",
   "execution_count": 46,
   "metadata": {
    "scrolled": true
   },
   "outputs": [
    {
     "name": "stdout",
     "output_type": "stream",
     "text": [
      "6.546574410596934\n",
      "0.4591748160801836\n"
     ]
    }
   ],
   "source": [
    "pred_test_rr= rr.predict(X_test)\n",
    "\n",
    "print(np.sqrt(mean_squared_error(y_test,pred_test_rr))) \n",
    "print(r2_score(y_test, pred_test_rr))"
   ]
  },
  {
   "cell_type": "markdown",
   "metadata": {},
   "source": [
    "## 46%-57%"
   ]
  },
  {
   "cell_type": "markdown",
   "metadata": {},
   "source": [
    "# Lasso"
   ]
  },
  {
   "cell_type": "code",
   "execution_count": 47,
   "metadata": {},
   "outputs": [],
   "source": [
    "from sklearn import linear_model\n"
   ]
  },
  {
   "cell_type": "code",
   "execution_count": 48,
   "metadata": {},
   "outputs": [],
   "source": [
    "clf = linear_model.Lasso(alpha=0.1)"
   ]
  },
  {
   "cell_type": "code",
   "execution_count": 49,
   "metadata": {},
   "outputs": [
    {
     "data": {
      "text/plain": [
       "Lasso(alpha=0.1)"
      ]
     },
     "execution_count": 49,
     "metadata": {},
     "output_type": "execute_result"
    }
   ],
   "source": [
    "clf.fit(X, y)"
   ]
  },
  {
   "cell_type": "code",
   "execution_count": 50,
   "metadata": {},
   "outputs": [
    {
     "name": "stdout",
     "output_type": "stream",
     "text": [
      "[-22.12892651   0.           0.          -0.           1.11803102\n",
      "   0.          -0.          -0.          -0.04202932  -0.\n",
      "  -0.           0.25686828  -0.           1.08267984  -0.\n",
      "   0.        ]\n"
     ]
    }
   ],
   "source": [
    "print(clf.coef_)"
   ]
  },
  {
   "cell_type": "code",
   "execution_count": 51,
   "metadata": {},
   "outputs": [
    {
     "name": "stdout",
     "output_type": "stream",
     "text": [
      "17.24337558499466\n"
     ]
    }
   ],
   "source": [
    "print(clf.intercept_)"
   ]
  },
  {
   "cell_type": "code",
   "execution_count": 52,
   "metadata": {},
   "outputs": [
    {
     "name": "stdout",
     "output_type": "stream",
     "text": [
      "LASSO REGRESSION\n",
      "RMSE: 6.654226955476154\n",
      "R Squared: 0.5195216699254779\n",
      "MSE: 42.88816264502233\n",
      "MAE: 5.441647295277558\n",
      "MAPE: 0.8581266877876318\n",
      "--------------------\n",
      "RMSE: 6.4986296685245195\n",
      "R Squared: 0.4670674244494648\n",
      "MSE: 42.232187568627104\n",
      "MAE: 5.34439587548745\n",
      "MAPE: 0.8234574915992052\n"
     ]
    }
   ],
   "source": [
    "model_lasso = linear_model.Lasso(alpha=0.01)\n",
    "model_lasso.fit(X_train, y_train) \n",
    "pred_train_lasso= model_lasso.predict(X_train)\n",
    "\n",
    "print('LASSO REGRESSION')\n",
    "\n",
    "print('RMSE: '+str(np.sqrt(mean_squared_error(y_train,pred_train_lasso))))\n",
    "print('R Squared: '+str(r2_score(y_train, pred_train_lasso)))\n",
    "print('MSE: '+str(mean_squared_error(y_test, predictions)))\n",
    "print('MAE: '+str(mean_absolute_error(y_test, predictions)))\n",
    "print('MAPE: '+str(mean_absolute_percentage_error(y_test, predictions)))\n",
    "\n",
    "print('--------------------')\n",
    "pred_test_lasso= model_lasso.predict(X_test)\n",
    "\n",
    "print('RMSE: '+str(np.sqrt(mean_squared_error(y_test,pred_test_lasso)))) \n",
    "print('R Squared: '+str(r2_score(y_test, pred_test_lasso)))\n",
    "print('MSE: '+str(mean_squared_error(y_test, pred_test_lasso)))\n",
    "print('MAE: '+str(mean_absolute_error(y_test, pred_test_lasso)))\n",
    "print('MAPE: '+str(mean_absolute_percentage_error(y_test, pred_test_lasso)))"
   ]
  },
  {
   "cell_type": "markdown",
   "metadata": {},
   "source": [
    "## 47%-57%"
   ]
  },
  {
   "cell_type": "markdown",
   "metadata": {},
   "source": [
    "## Elastic Net"
   ]
  },
  {
   "cell_type": "code",
   "execution_count": 53,
   "metadata": {},
   "outputs": [],
   "source": [
    "from sklearn import metrics\n",
    "from sklearn.model_selection import cross_val_score\n",
    "\n",
    "def cross_val(model):\n",
    "    pred = cross_val_score(model, X, y, cv=10)\n",
    "    return pred.mean()\n",
    "\n",
    "def print_evaluate(true, predicted):  \n",
    "    mae = metrics.mean_absolute_error(true, predicted)\n",
    "    mse = metrics.mean_squared_error(true, predicted)\n",
    "    rmse = np.sqrt(metrics.mean_squared_error(true, predicted))\n",
    "    r2_square = metrics.r2_score(true, predicted)\n",
    "    print('MAE:', mae)\n",
    "    print('MSE:', mse)\n",
    "    print('RMSE:', rmse)\n",
    "    print('R2 Square', r2_square)\n",
    "    print('__________________________________')\n",
    "    \n",
    "def evaluate(true, predicted):\n",
    "    mae = metrics.mean_absolute_error(true, predicted)\n",
    "    mse = metrics.mean_squared_error(true, predicted)\n",
    "    rmse = np.sqrt(metrics.mean_squared_error(true, predicted))\n",
    "    r2_square = metrics.r2_score(true, predicted)\n",
    "    return mae, mse, rmse, r2_square"
   ]
  },
  {
   "cell_type": "code",
   "execution_count": 54,
   "metadata": {},
   "outputs": [],
   "source": [
    "from sklearn.linear_model import ElasticNet\n",
    "from sklearn.datasets import make_regression"
   ]
  },
  {
   "cell_type": "code",
   "execution_count": 55,
   "metadata": {},
   "outputs": [],
   "source": [
    "model = ElasticNet(alpha=0.1, l1_ratio=0.9, selection='random', random_state=42)"
   ]
  },
  {
   "cell_type": "code",
   "execution_count": 56,
   "metadata": {},
   "outputs": [
    {
     "data": {
      "text/plain": [
       "ElasticNet(alpha=0.1, l1_ratio=0.9, random_state=42, selection='random')"
      ]
     },
     "execution_count": 56,
     "metadata": {},
     "output_type": "execute_result"
    }
   ],
   "source": [
    "model.fit(X_train, y_train)"
   ]
  },
  {
   "cell_type": "code",
   "execution_count": 57,
   "metadata": {},
   "outputs": [],
   "source": [
    "test_pred = model.predict(X_test)\n",
    "train_pred = model.predict(X_train)"
   ]
  },
  {
   "cell_type": "code",
   "execution_count": 58,
   "metadata": {},
   "outputs": [],
   "source": [
    "results_df = pd.DataFrame(data=[[\"Linear Regression\", *evaluate(y_test, test_pred) , cross_val(LinearRegression())]], \n",
    "                          columns=['Model', 'MAE', 'MSE', 'RMSE', 'R2 Square', \"Cross Validation\"])"
   ]
  },
  {
   "cell_type": "code",
   "execution_count": 59,
   "metadata": {},
   "outputs": [
    {
     "name": "stdout",
     "output_type": "stream",
     "text": [
      "ELASTIC NET\n",
      "Test set evaluation:\n",
      "_____________________________________\n",
      "MAE: 5.176351828568661\n",
      "MSE: 40.10564374896148\n",
      "RMSE: 6.332901684769903\n",
      "R2 Square 0.4939025125678309\n",
      "__________________________________\n",
      "====================================\n",
      "Train set evaluation:\n",
      "_____________________________________\n",
      "MAE: 5.825735023910361\n",
      "MSE: 47.612001656327244\n",
      "RMSE: 6.900145046035427\n",
      "R2 Square 0.48335167350752983\n",
      "__________________________________\n"
     ]
    }
   ],
   "source": [
    "print('ELASTIC NET')\n",
    "print('Test set evaluation:\\n_____________________________________')\n",
    "print_evaluate(y_test, test_pred)\n",
    "print('====================================')\n",
    "print('Train set evaluation:\\n_____________________________________')\n",
    "print_evaluate(y_train, train_pred)\n",
    "\n",
    "results_df_2 = pd.DataFrame(data=[[\"Elastic Net Regression\", *evaluate(y_test, test_pred) , cross_val(ElasticNet())]], \n",
    "                            columns=['Model', 'MAE', 'MSE', 'RMSE', 'R2 Square', \"Cross Validation\"])\n",
    "results_df = results_df.append(results_df_2, ignore_index=True)"
   ]
  },
  {
   "cell_type": "code",
   "execution_count": 60,
   "metadata": {},
   "outputs": [
    {
     "name": "stdout",
     "output_type": "stream",
     "text": [
      "MAPE: 0.6772758405894522\n",
      "MAPE: 1.1048890675934306\n"
     ]
    }
   ],
   "source": [
    "print('MAPE: '+str(mean_absolute_percentage_error(y_test, test_pred)))\n",
    "print('MAPE: '+str(mean_absolute_percentage_error(y_train, train_pred)))\n"
   ]
  },
  {
   "cell_type": "code",
   "execution_count": 61,
   "metadata": {},
   "outputs": [],
   "source": [
    "regr = ElasticNet(random_state=0)"
   ]
  },
  {
   "cell_type": "code",
   "execution_count": 62,
   "metadata": {},
   "outputs": [
    {
     "data": {
      "text/plain": [
       "ElasticNet(random_state=0)"
      ]
     },
     "execution_count": 62,
     "metadata": {},
     "output_type": "execute_result"
    }
   ],
   "source": [
    "regr.fit(X, y)"
   ]
  },
  {
   "cell_type": "code",
   "execution_count": 63,
   "metadata": {},
   "outputs": [
    {
     "name": "stdout",
     "output_type": "stream",
     "text": [
      "[-2.34194886 -0.27265099  0.         -0.         -0.         -0.\n",
      " -0.         -0.         -0.2697666  -0.          0.         -0.\n",
      " -0.          0.         -0.         -0.        ]\n"
     ]
    }
   ],
   "source": [
    "print(regr.coef_)"
   ]
  },
  {
   "cell_type": "code",
   "execution_count": 64,
   "metadata": {},
   "outputs": [
    {
     "name": "stdout",
     "output_type": "stream",
     "text": [
      "14.173917970362385\n"
     ]
    }
   ],
   "source": [
    "print(regr.intercept_)"
   ]
  },
  {
   "cell_type": "markdown",
   "metadata": {},
   "source": [
    "# Poisson\n",
    "\n",
    "https://www.kaggle.com/code/gauravduttakiit/explore-the-poisson-regression/notebook"
   ]
  },
  {
   "cell_type": "code",
   "execution_count": 65,
   "metadata": {},
   "outputs": [],
   "source": [
    "from sklearn import linear_model\n",
    "from sklearn.pipeline import Pipeline\n",
    "from sklearn import metrics\n",
    "from sklearn.linear_model import PoissonRegressor"
   ]
  },
  {
   "cell_type": "code",
   "execution_count": 66,
   "metadata": {},
   "outputs": [
    {
     "data": {
      "text/plain": [
       "PoissonRegressor()"
      ]
     },
     "execution_count": 66,
     "metadata": {},
     "output_type": "execute_result"
    }
   ],
   "source": [
    "clf = linear_model.PoissonRegressor()\n",
    "clf.fit(X_train, y_train)"
   ]
  },
  {
   "cell_type": "code",
   "execution_count": 67,
   "metadata": {},
   "outputs": [
    {
     "data": {
      "text/plain": [
       "0.37344864683918855"
      ]
     },
     "execution_count": 67,
     "metadata": {},
     "output_type": "execute_result"
    }
   ],
   "source": [
    "clf.score(X_train, y_train)"
   ]
  },
  {
   "cell_type": "code",
   "execution_count": 68,
   "metadata": {},
   "outputs": [
    {
     "data": {
      "text/plain": [
       "2.7614764844589703"
      ]
     },
     "execution_count": 68,
     "metadata": {},
     "output_type": "execute_result"
    }
   ],
   "source": [
    "clf.intercept_\n"
   ]
  },
  {
   "cell_type": "code",
   "execution_count": 69,
   "metadata": {},
   "outputs": [
    {
     "name": "stdout",
     "output_type": "stream",
     "text": [
      "POISSON\n",
      "R Squared test: 0.3829207110459202\n"
     ]
    }
   ],
   "source": [
    "# Doing a polynomial regression: Comparing linear, quadratic and cubic fits\n",
    "# Pipeline helps you associate two models or objects to be built sequentially with each other, \n",
    "# in this case, PoissonRegressor() is the only object\n",
    "\n",
    "pipeline = Pipeline([('model', PoissonRegressor())])\n",
    "pipeline.fit(X_train, y_train)\n",
    "y_pred = pipeline.predict(X_test)\n",
    "r2_test = metrics.r2_score(y_test, y_pred)\n",
    "\n",
    "\n",
    "print('POISSON')\n",
    "print('R Squared test: '+str(r2_test))\n"
   ]
  },
  {
   "cell_type": "code",
   "execution_count": 70,
   "metadata": {},
   "outputs": [
    {
     "name": "stdout",
     "output_type": "stream",
     "text": [
      "POISSON\n",
      "R Squared trian: 0.4061594064996301\n"
     ]
    }
   ],
   "source": [
    "# training performance\n",
    "y_pred_train = pipeline.predict(X_train)\n",
    "r2_train = metrics.r2_score(y_train, y_pred_train)\n",
    "\n",
    "print('POISSON')\n",
    "print('R Squared trian: '+str(r2_train))"
   ]
  },
  {
   "cell_type": "code",
   "execution_count": 71,
   "metadata": {},
   "outputs": [
    {
     "data": {
      "text/html": [
       "<div>\n",
       "<style scoped>\n",
       "    .dataframe tbody tr th:only-of-type {\n",
       "        vertical-align: middle;\n",
       "    }\n",
       "\n",
       "    .dataframe tbody tr th {\n",
       "        vertical-align: top;\n",
       "    }\n",
       "\n",
       "    .dataframe thead th {\n",
       "        text-align: right;\n",
       "    }\n",
       "</style>\n",
       "<table border=\"1\" class=\"dataframe\">\n",
       "  <thead>\n",
       "    <tr style=\"text-align: right;\">\n",
       "      <th></th>\n",
       "      <th>index</th>\n",
       "      <th>y_pred</th>\n",
       "      <th>y</th>\n",
       "    </tr>\n",
       "  </thead>\n",
       "  <tbody>\n",
       "    <tr>\n",
       "      <th>0</th>\n",
       "      <td>73</td>\n",
       "      <td>11.0</td>\n",
       "      <td>2</td>\n",
       "    </tr>\n",
       "    <tr>\n",
       "      <th>1</th>\n",
       "      <td>65</td>\n",
       "      <td>13.0</td>\n",
       "      <td>12</td>\n",
       "    </tr>\n",
       "    <tr>\n",
       "      <th>2</th>\n",
       "      <td>48</td>\n",
       "      <td>14.0</td>\n",
       "      <td>6</td>\n",
       "    </tr>\n",
       "    <tr>\n",
       "      <th>3</th>\n",
       "      <td>118</td>\n",
       "      <td>11.0</td>\n",
       "      <td>8</td>\n",
       "    </tr>\n",
       "    <tr>\n",
       "      <th>4</th>\n",
       "      <td>6</td>\n",
       "      <td>11.0</td>\n",
       "      <td>5</td>\n",
       "    </tr>\n",
       "  </tbody>\n",
       "</table>\n",
       "</div>"
      ],
      "text/plain": [
       "   index  y_pred   y\n",
       "0     73    11.0   2\n",
       "1     65    13.0  12\n",
       "2     48    14.0   6\n",
       "3    118    11.0   8\n",
       "4      6    11.0   5"
      ]
     },
     "execution_count": 71,
     "metadata": {},
     "output_type": "execute_result"
    }
   ],
   "source": [
    "eval = pd.DataFrame({'y_pred': [round(y, 0) for y in y_pred], 'y': y_test}).reset_index()\n",
    "eval.head()"
   ]
  },
  {
   "cell_type": "code",
   "execution_count": 72,
   "metadata": {},
   "outputs": [
    {
     "name": "stdout",
     "output_type": "stream",
     "text": [
      "     Frequency table\n"
     ]
    },
    {
     "data": {
      "text/html": [
       "<div>\n",
       "<style scoped>\n",
       "    .dataframe tbody tr th:only-of-type {\n",
       "        vertical-align: middle;\n",
       "    }\n",
       "\n",
       "    .dataframe tbody tr th {\n",
       "        vertical-align: top;\n",
       "    }\n",
       "\n",
       "    .dataframe thead th {\n",
       "        text-align: right;\n",
       "    }\n",
       "</style>\n",
       "<table border=\"1\" class=\"dataframe\">\n",
       "  <thead>\n",
       "    <tr style=\"text-align: right;\">\n",
       "      <th>y_pred</th>\n",
       "      <th>6.0</th>\n",
       "      <th>9.0</th>\n",
       "      <th>10.0</th>\n",
       "      <th>11.0</th>\n",
       "      <th>12.0</th>\n",
       "      <th>13.0</th>\n",
       "      <th>14.0</th>\n",
       "      <th>15.0</th>\n",
       "      <th>16.0</th>\n",
       "      <th>17.0</th>\n",
       "      <th>20.0</th>\n",
       "      <th>21.0</th>\n",
       "    </tr>\n",
       "    <tr>\n",
       "      <th>y</th>\n",
       "      <th></th>\n",
       "      <th></th>\n",
       "      <th></th>\n",
       "      <th></th>\n",
       "      <th></th>\n",
       "      <th></th>\n",
       "      <th></th>\n",
       "      <th></th>\n",
       "      <th></th>\n",
       "      <th></th>\n",
       "      <th></th>\n",
       "      <th></th>\n",
       "    </tr>\n",
       "  </thead>\n",
       "  <tbody>\n",
       "    <tr>\n",
       "      <th>1</th>\n",
       "      <td>1.0</td>\n",
       "      <td>0.0</td>\n",
       "      <td>0.0</td>\n",
       "      <td>0.0</td>\n",
       "      <td>0.0</td>\n",
       "      <td>0.0</td>\n",
       "      <td>0.0</td>\n",
       "      <td>0.0</td>\n",
       "      <td>0.0</td>\n",
       "      <td>0.0</td>\n",
       "      <td>0.0</td>\n",
       "      <td>0.0</td>\n",
       "    </tr>\n",
       "    <tr>\n",
       "      <th>2</th>\n",
       "      <td>0.0</td>\n",
       "      <td>0.0</td>\n",
       "      <td>0.0</td>\n",
       "      <td>1.0</td>\n",
       "      <td>0.0</td>\n",
       "      <td>0.0</td>\n",
       "      <td>0.0</td>\n",
       "      <td>0.0</td>\n",
       "      <td>0.0</td>\n",
       "      <td>0.0</td>\n",
       "      <td>0.0</td>\n",
       "      <td>0.0</td>\n",
       "    </tr>\n",
       "    <tr>\n",
       "      <th>3</th>\n",
       "      <td>0.0</td>\n",
       "      <td>0.0</td>\n",
       "      <td>1.0</td>\n",
       "      <td>0.0</td>\n",
       "      <td>0.0</td>\n",
       "      <td>0.0</td>\n",
       "      <td>0.0</td>\n",
       "      <td>0.0</td>\n",
       "      <td>0.0</td>\n",
       "      <td>0.0</td>\n",
       "      <td>0.0</td>\n",
       "      <td>0.0</td>\n",
       "    </tr>\n",
       "    <tr>\n",
       "      <th>4</th>\n",
       "      <td>0.0</td>\n",
       "      <td>0.0</td>\n",
       "      <td>1.0</td>\n",
       "      <td>0.0</td>\n",
       "      <td>0.0</td>\n",
       "      <td>0.0</td>\n",
       "      <td>0.0</td>\n",
       "      <td>0.0</td>\n",
       "      <td>0.0</td>\n",
       "      <td>0.0</td>\n",
       "      <td>0.0</td>\n",
       "      <td>0.0</td>\n",
       "    </tr>\n",
       "    <tr>\n",
       "      <th>5</th>\n",
       "      <td>0.0</td>\n",
       "      <td>0.0</td>\n",
       "      <td>0.0</td>\n",
       "      <td>1.0</td>\n",
       "      <td>0.0</td>\n",
       "      <td>1.0</td>\n",
       "      <td>0.0</td>\n",
       "      <td>0.0</td>\n",
       "      <td>0.0</td>\n",
       "      <td>0.0</td>\n",
       "      <td>0.0</td>\n",
       "      <td>0.0</td>\n",
       "    </tr>\n",
       "    <tr>\n",
       "      <th>6</th>\n",
       "      <td>0.0</td>\n",
       "      <td>1.0</td>\n",
       "      <td>0.0</td>\n",
       "      <td>0.0</td>\n",
       "      <td>0.0</td>\n",
       "      <td>0.0</td>\n",
       "      <td>1.0</td>\n",
       "      <td>0.0</td>\n",
       "      <td>0.0</td>\n",
       "      <td>0.0</td>\n",
       "      <td>0.0</td>\n",
       "      <td>0.0</td>\n",
       "    </tr>\n",
       "    <tr>\n",
       "      <th>8</th>\n",
       "      <td>0.0</td>\n",
       "      <td>0.0</td>\n",
       "      <td>0.0</td>\n",
       "      <td>1.0</td>\n",
       "      <td>1.0</td>\n",
       "      <td>0.0</td>\n",
       "      <td>1.0</td>\n",
       "      <td>0.0</td>\n",
       "      <td>0.0</td>\n",
       "      <td>0.0</td>\n",
       "      <td>0.0</td>\n",
       "      <td>0.0</td>\n",
       "    </tr>\n",
       "    <tr>\n",
       "      <th>9</th>\n",
       "      <td>0.0</td>\n",
       "      <td>0.0</td>\n",
       "      <td>0.0</td>\n",
       "      <td>0.0</td>\n",
       "      <td>0.0</td>\n",
       "      <td>0.0</td>\n",
       "      <td>0.0</td>\n",
       "      <td>1.0</td>\n",
       "      <td>0.0</td>\n",
       "      <td>0.0</td>\n",
       "      <td>0.0</td>\n",
       "      <td>0.0</td>\n",
       "    </tr>\n",
       "    <tr>\n",
       "      <th>10</th>\n",
       "      <td>0.0</td>\n",
       "      <td>1.0</td>\n",
       "      <td>0.0</td>\n",
       "      <td>0.0</td>\n",
       "      <td>0.0</td>\n",
       "      <td>0.0</td>\n",
       "      <td>0.0</td>\n",
       "      <td>0.0</td>\n",
       "      <td>0.0</td>\n",
       "      <td>0.0</td>\n",
       "      <td>0.0</td>\n",
       "      <td>0.0</td>\n",
       "    </tr>\n",
       "    <tr>\n",
       "      <th>11</th>\n",
       "      <td>0.0</td>\n",
       "      <td>0.0</td>\n",
       "      <td>0.0</td>\n",
       "      <td>0.0</td>\n",
       "      <td>0.0</td>\n",
       "      <td>0.0</td>\n",
       "      <td>0.0</td>\n",
       "      <td>0.0</td>\n",
       "      <td>1.0</td>\n",
       "      <td>0.0</td>\n",
       "      <td>0.0</td>\n",
       "      <td>0.0</td>\n",
       "    </tr>\n",
       "    <tr>\n",
       "      <th>12</th>\n",
       "      <td>0.0</td>\n",
       "      <td>0.0</td>\n",
       "      <td>0.0</td>\n",
       "      <td>0.0</td>\n",
       "      <td>0.0</td>\n",
       "      <td>1.0</td>\n",
       "      <td>0.0</td>\n",
       "      <td>0.0</td>\n",
       "      <td>0.0</td>\n",
       "      <td>1.0</td>\n",
       "      <td>0.0</td>\n",
       "      <td>0.0</td>\n",
       "    </tr>\n",
       "    <tr>\n",
       "      <th>14</th>\n",
       "      <td>0.0</td>\n",
       "      <td>0.0</td>\n",
       "      <td>0.0</td>\n",
       "      <td>0.0</td>\n",
       "      <td>1.0</td>\n",
       "      <td>0.0</td>\n",
       "      <td>1.0</td>\n",
       "      <td>0.0</td>\n",
       "      <td>0.0</td>\n",
       "      <td>0.0</td>\n",
       "      <td>0.0</td>\n",
       "      <td>0.0</td>\n",
       "    </tr>\n",
       "    <tr>\n",
       "      <th>17</th>\n",
       "      <td>0.0</td>\n",
       "      <td>0.0</td>\n",
       "      <td>0.0</td>\n",
       "      <td>0.0</td>\n",
       "      <td>0.0</td>\n",
       "      <td>0.0</td>\n",
       "      <td>0.0</td>\n",
       "      <td>1.0</td>\n",
       "      <td>1.0</td>\n",
       "      <td>0.0</td>\n",
       "      <td>0.0</td>\n",
       "      <td>0.0</td>\n",
       "    </tr>\n",
       "    <tr>\n",
       "      <th>18</th>\n",
       "      <td>0.0</td>\n",
       "      <td>0.0</td>\n",
       "      <td>0.0</td>\n",
       "      <td>0.0</td>\n",
       "      <td>0.0</td>\n",
       "      <td>0.0</td>\n",
       "      <td>1.0</td>\n",
       "      <td>0.0</td>\n",
       "      <td>0.0</td>\n",
       "      <td>0.0</td>\n",
       "      <td>0.0</td>\n",
       "      <td>0.0</td>\n",
       "    </tr>\n",
       "    <tr>\n",
       "      <th>21</th>\n",
       "      <td>0.0</td>\n",
       "      <td>0.0</td>\n",
       "      <td>1.0</td>\n",
       "      <td>0.0</td>\n",
       "      <td>0.0</td>\n",
       "      <td>0.0</td>\n",
       "      <td>0.0</td>\n",
       "      <td>0.0</td>\n",
       "      <td>0.0</td>\n",
       "      <td>0.0</td>\n",
       "      <td>0.0</td>\n",
       "      <td>0.0</td>\n",
       "    </tr>\n",
       "    <tr>\n",
       "      <th>23</th>\n",
       "      <td>0.0</td>\n",
       "      <td>0.0</td>\n",
       "      <td>0.0</td>\n",
       "      <td>0.0</td>\n",
       "      <td>0.0</td>\n",
       "      <td>0.0</td>\n",
       "      <td>0.0</td>\n",
       "      <td>0.0</td>\n",
       "      <td>1.0</td>\n",
       "      <td>0.0</td>\n",
       "      <td>0.0</td>\n",
       "      <td>0.0</td>\n",
       "    </tr>\n",
       "    <tr>\n",
       "      <th>25</th>\n",
       "      <td>0.0</td>\n",
       "      <td>0.0</td>\n",
       "      <td>0.0</td>\n",
       "      <td>0.0</td>\n",
       "      <td>0.0</td>\n",
       "      <td>0.0</td>\n",
       "      <td>1.0</td>\n",
       "      <td>0.0</td>\n",
       "      <td>0.0</td>\n",
       "      <td>0.0</td>\n",
       "      <td>0.0</td>\n",
       "      <td>0.0</td>\n",
       "    </tr>\n",
       "    <tr>\n",
       "      <th>26</th>\n",
       "      <td>0.0</td>\n",
       "      <td>0.0</td>\n",
       "      <td>0.0</td>\n",
       "      <td>0.0</td>\n",
       "      <td>0.0</td>\n",
       "      <td>0.0</td>\n",
       "      <td>0.0</td>\n",
       "      <td>0.0</td>\n",
       "      <td>0.0</td>\n",
       "      <td>0.0</td>\n",
       "      <td>0.0</td>\n",
       "      <td>1.0</td>\n",
       "    </tr>\n",
       "    <tr>\n",
       "      <th>28</th>\n",
       "      <td>0.0</td>\n",
       "      <td>0.0</td>\n",
       "      <td>0.0</td>\n",
       "      <td>0.0</td>\n",
       "      <td>0.0</td>\n",
       "      <td>0.0</td>\n",
       "      <td>0.0</td>\n",
       "      <td>0.0</td>\n",
       "      <td>0.0</td>\n",
       "      <td>1.0</td>\n",
       "      <td>0.0</td>\n",
       "      <td>0.0</td>\n",
       "    </tr>\n",
       "    <tr>\n",
       "      <th>31</th>\n",
       "      <td>0.0</td>\n",
       "      <td>0.0</td>\n",
       "      <td>0.0</td>\n",
       "      <td>0.0</td>\n",
       "      <td>0.0</td>\n",
       "      <td>0.0</td>\n",
       "      <td>0.0</td>\n",
       "      <td>1.0</td>\n",
       "      <td>0.0</td>\n",
       "      <td>0.0</td>\n",
       "      <td>0.0</td>\n",
       "      <td>0.0</td>\n",
       "    </tr>\n",
       "    <tr>\n",
       "      <th>32</th>\n",
       "      <td>0.0</td>\n",
       "      <td>0.0</td>\n",
       "      <td>0.0</td>\n",
       "      <td>0.0</td>\n",
       "      <td>0.0</td>\n",
       "      <td>0.0</td>\n",
       "      <td>0.0</td>\n",
       "      <td>0.0</td>\n",
       "      <td>0.0</td>\n",
       "      <td>0.0</td>\n",
       "      <td>1.0</td>\n",
       "      <td>0.0</td>\n",
       "    </tr>\n",
       "  </tbody>\n",
       "</table>\n",
       "</div>"
      ],
      "text/plain": [
       "y_pred  6.0   9.0   10.0  11.0  12.0  13.0  14.0  15.0  16.0  17.0  20.0  21.0\n",
       "y                                                                             \n",
       "1        1.0   0.0   0.0   0.0   0.0   0.0   0.0   0.0   0.0   0.0   0.0   0.0\n",
       "2        0.0   0.0   0.0   1.0   0.0   0.0   0.0   0.0   0.0   0.0   0.0   0.0\n",
       "3        0.0   0.0   1.0   0.0   0.0   0.0   0.0   0.0   0.0   0.0   0.0   0.0\n",
       "4        0.0   0.0   1.0   0.0   0.0   0.0   0.0   0.0   0.0   0.0   0.0   0.0\n",
       "5        0.0   0.0   0.0   1.0   0.0   1.0   0.0   0.0   0.0   0.0   0.0   0.0\n",
       "6        0.0   1.0   0.0   0.0   0.0   0.0   1.0   0.0   0.0   0.0   0.0   0.0\n",
       "8        0.0   0.0   0.0   1.0   1.0   0.0   1.0   0.0   0.0   0.0   0.0   0.0\n",
       "9        0.0   0.0   0.0   0.0   0.0   0.0   0.0   1.0   0.0   0.0   0.0   0.0\n",
       "10       0.0   1.0   0.0   0.0   0.0   0.0   0.0   0.0   0.0   0.0   0.0   0.0\n",
       "11       0.0   0.0   0.0   0.0   0.0   0.0   0.0   0.0   1.0   0.0   0.0   0.0\n",
       "12       0.0   0.0   0.0   0.0   0.0   1.0   0.0   0.0   0.0   1.0   0.0   0.0\n",
       "14       0.0   0.0   0.0   0.0   1.0   0.0   1.0   0.0   0.0   0.0   0.0   0.0\n",
       "17       0.0   0.0   0.0   0.0   0.0   0.0   0.0   1.0   1.0   0.0   0.0   0.0\n",
       "18       0.0   0.0   0.0   0.0   0.0   0.0   1.0   0.0   0.0   0.0   0.0   0.0\n",
       "21       0.0   0.0   1.0   0.0   0.0   0.0   0.0   0.0   0.0   0.0   0.0   0.0\n",
       "23       0.0   0.0   0.0   0.0   0.0   0.0   0.0   0.0   1.0   0.0   0.0   0.0\n",
       "25       0.0   0.0   0.0   0.0   0.0   0.0   1.0   0.0   0.0   0.0   0.0   0.0\n",
       "26       0.0   0.0   0.0   0.0   0.0   0.0   0.0   0.0   0.0   0.0   0.0   1.0\n",
       "28       0.0   0.0   0.0   0.0   0.0   0.0   0.0   0.0   0.0   1.0   0.0   0.0\n",
       "31       0.0   0.0   0.0   0.0   0.0   0.0   0.0   1.0   0.0   0.0   0.0   0.0\n",
       "32       0.0   0.0   0.0   0.0   0.0   0.0   0.0   0.0   0.0   0.0   1.0   0.0"
      ]
     },
     "execution_count": 72,
     "metadata": {},
     "output_type": "execute_result"
    }
   ],
   "source": [
    "print('     Frequency table')\n",
    "eval.groupby(['y', 'y_pred']).agg('count').reset_index().pivot(index='y', columns='y_pred', values='index').fillna(0)"
   ]
  },
  {
   "cell_type": "code",
   "execution_count": null,
   "metadata": {},
   "outputs": [],
   "source": []
  },
  {
   "cell_type": "code",
   "execution_count": 73,
   "metadata": {},
   "outputs": [
    {
     "name": "stdout",
     "output_type": "stream",
     "text": [
      "Poisson REGRESSION\n",
      "r2 score: 0.3829207110459202\n",
      "RMSE : 6.992881043310523\n",
      "MSE: 48.900385285891666\n",
      "MAE: 5.8573098719682894\n",
      "MAPE: 0.880738720808836\n"
     ]
    }
   ],
   "source": [
    "print('Poisson REGRESSION')\n",
    "print('r2 score: '+str(r2_score(y_test, y_pred)))\n",
    "print('RMSE : '+str(np.sqrt(mean_squared_error(y_test, y_pred))))\n",
    "print('MSE: '+str(mean_squared_error(y_test, y_pred)))\n",
    "print('MAE: '+str(mean_absolute_error(y_test, y_pred)))\n",
    "print('MAPE: '+str(mean_absolute_percentage_error(y_test, y_pred)))\n"
   ]
  },
  {
   "cell_type": "code",
   "execution_count": null,
   "metadata": {},
   "outputs": [],
   "source": []
  },
  {
   "cell_type": "code",
   "execution_count": null,
   "metadata": {},
   "outputs": [],
   "source": []
  },
  {
   "cell_type": "code",
   "execution_count": null,
   "metadata": {},
   "outputs": [],
   "source": []
  },
  {
   "cell_type": "markdown",
   "metadata": {},
   "source": [
    "# Ordinary Least Square"
   ]
  },
  {
   "cell_type": "code",
   "execution_count": 74,
   "metadata": {},
   "outputs": [],
   "source": [
    "from sklearn import linear_model\n",
    "reg = linear_model.LinearRegression()\n"
   ]
  },
  {
   "cell_type": "code",
   "execution_count": 75,
   "metadata": {},
   "outputs": [
    {
     "data": {
      "text/plain": [
       "LinearRegression()"
      ]
     },
     "execution_count": 75,
     "metadata": {},
     "output_type": "execute_result"
    }
   ],
   "source": [
    "reg.fit(X_train, y_train)"
   ]
  },
  {
   "cell_type": "code",
   "execution_count": 76,
   "metadata": {},
   "outputs": [
    {
     "data": {
      "text/plain": [
       "array([-25.79811972,   4.77306203,  -1.58024539,  -6.6893377 ,\n",
       "         8.50223852,  -3.60909006,  -3.52875252,  -0.79159283,\n",
       "        -3.0813026 ,  -0.86876513,   1.19619694,   2.99154161,\n",
       "         1.89192749,   1.4619753 ,  -1.04046835,   6.13568188])"
      ]
     },
     "execution_count": 76,
     "metadata": {},
     "output_type": "execute_result"
    }
   ],
   "source": [
    "reg.coef_"
   ]
  },
  {
   "cell_type": "markdown",
   "metadata": {},
   "source": [
    "# Gradient Boosting regression"
   ]
  },
  {
   "cell_type": "code",
   "execution_count": 77,
   "metadata": {},
   "outputs": [],
   "source": [
    "from sklearn import ensemble\n",
    "from sklearn.inspection import permutation_importance\n",
    "from sklearn.metrics import mean_squared_error\n",
    "from sklearn.model_selection import train_test_split"
   ]
  },
  {
   "cell_type": "code",
   "execution_count": 78,
   "metadata": {},
   "outputs": [],
   "source": [
    "params = {\n",
    "    \"n_estimators\": 500,\n",
    "    \"max_depth\": 4,\n",
    "    \"min_samples_split\": 5,\n",
    "    \"learning_rate\": 0.01,\n",
    "    \"loss\": \"squared_error\",\n",
    "}"
   ]
  },
  {
   "cell_type": "code",
   "execution_count": 79,
   "metadata": {},
   "outputs": [
    {
     "name": "stdout",
     "output_type": "stream",
     "text": [
      "GRADIENT BOOSTING REGRESSION\n",
      "RMSE AND R SQUARE ARE MOST LIKELY WRONG - SHOULD USE X_TRAIN IN PREDICTIONS\n",
      "RMSE: 1.3660685450274905\n",
      "R Squared: 0.9797500679712643\n",
      "MSE TEST: 41.16848232674044\n",
      "MAE TEST: 4.962457517557501\n",
      "MAPE: 1.0607454107319387\n"
     ]
    }
   ],
   "source": [
    "reg = ensemble.GradientBoostingRegressor(**params)\n",
    "reg.fit(X_train, y_train)\n",
    "\n",
    "mse = mean_squared_error(y_test, reg.predict(X_test))\n",
    "predictions = reg.predict(X_train)\n",
    "\n",
    "print('GRADIENT BOOSTING REGRESSION')\n",
    "# print(\"The mean squared error (MSE) on test set: {:.4f}\".format(mse))\n",
    "\n",
    "\n",
    "print('RMSE AND R SQUARE ARE MOST LIKELY WRONG - SHOULD USE X_TRAIN IN PREDICTIONS')\n",
    "print('RMSE: '+str(np.sqrt(mean_squared_error(y_train, predictions))))\n",
    "print('R Squared: '+str(r2_score(y_train, predictions)))\n",
    "print('MSE TEST: '+str(mean_squared_error(y_test, reg.predict(X_test))))\n",
    "print('MAE TEST: '+str(mean_absolute_error(y_test, reg.predict(X_test))))\n",
    "print('MAPE: '+str(mean_absolute_percentage_error(y_test, reg.predict(X_test))))\n"
   ]
  },
  {
   "cell_type": "code",
   "execution_count": 80,
   "metadata": {},
   "outputs": [
    {
     "data": {
      "image/png": "[encoded data removed]",
      "text/plain": [
       "<Figure size 432x432 with 1 Axes>"
      ]
     },
     "metadata": {
      "needs_background": "light"
     },
     "output_type": "display_data"
    }
   ],
   "source": [
    "test_score = np.zeros((params[\"n_estimators\"],), dtype=np.float64)\n",
    "for i, y_pred in enumerate(reg.staged_predict(X_test)):\n",
    "    test_score[i] = reg.loss_(y_test, y_pred)\n",
    "\n",
    "fig = plt.figure(figsize=(6, 6))\n",
    "plt.subplot(1, 1, 1)\n",
    "plt.title(\"Deviance\")\n",
    "plt.plot(\n",
    "    np.arange(params[\"n_estimators\"]) + 1,\n",
    "    reg.train_score_,\n",
    "    \"b-\",\n",
    "    label=\"Training Set Deviance\",\n",
    ")\n",
    "plt.plot(\n",
    "    np.arange(params[\"n_estimators\"]) + 1, test_score, \"r-\", label=\"Test Set Deviance\"\n",
    ")\n",
    "plt.legend(loc=\"upper right\")\n",
    "plt.xlabel(\"Boosting Iterations\")\n",
    "plt.ylabel(\"Deviance\")\n",
    "fig.tight_layout()\n",
    "plt.show()"
   ]
  },
  {
   "cell_type": "code",
   "execution_count": 81,
   "metadata": {},
   "outputs": [
    {
     "data": {
      "image/png": "[encoded data removed]",
      "text/plain": [
       "<Figure size 864x432 with 2 Axes>"
      ]
     },
     "metadata": {
      "needs_background": "light"
     },
     "output_type": "display_data"
    }
   ],
   "source": [
    "feature_importance = reg.feature_importances_\n",
    "sorted_idx = np.argsort(feature_importance)\n",
    "pos = np.arange(sorted_idx.shape[0]) + 0.5\n",
    "fig = plt.figure(figsize=(12, 6))\n",
    "plt.subplot(1, 2, 1)\n",
    "plt.barh(pos, feature_importance[sorted_idx], align=\"center\")\n",
    "plt.yticks(pos, np.array(df.columns)[sorted_idx])\n",
    "plt.title(\"Feature Importance (MDI)\")\n",
    "\n",
    "result = permutation_importance(\n",
    "    reg, X_test, y_test, n_repeats=10, random_state=42, n_jobs=2\n",
    ")\n",
    "sorted_idx = result.importances_mean.argsort()\n",
    "plt.subplot(1, 2, 2)\n",
    "plt.boxplot(\n",
    "    result.importances[sorted_idx].T,\n",
    "    vert=False,\n",
    "    labels=np.array(df.columns)[sorted_idx],\n",
    ")\n",
    "plt.title(\"Permutation Importance (test set)\")\n",
    "fig.tight_layout()\n",
    "plt.show()"
   ]
  },
  {
   "cell_type": "markdown",
   "metadata": {},
   "source": [
    "# Decision Forest Regression"
   ]
  },
  {
   "cell_type": "code",
   "execution_count": 82,
   "metadata": {},
   "outputs": [],
   "source": [
    "from sklearn.ensemble import RandomForestRegressor\n",
    "from sklearn.datasets import make_regression"
   ]
  },
  {
   "cell_type": "code",
   "execution_count": 83,
   "metadata": {},
   "outputs": [
    {
     "data": {
      "text/plain": [
       "RandomForestRegressor(max_depth=2, random_state=0)"
      ]
     },
     "execution_count": 83,
     "metadata": {},
     "output_type": "execute_result"
    }
   ],
   "source": [
    "regr = RandomForestRegressor(max_depth=2, random_state=0)\n",
    "regr.fit(X_train, y_train)"
   ]
  },
  {
   "cell_type": "code",
   "execution_count": 84,
   "metadata": {},
   "outputs": [],
   "source": [
    "y_pred = regr.predict(X_test)"
   ]
  },
  {
   "cell_type": "code",
   "execution_count": 85,
   "metadata": {},
   "outputs": [
    {
     "name": "stdout",
     "output_type": "stream",
     "text": [
      "DECISION FOREST REGRESSION\n",
      "r2 score: 0.5771181675621109\n",
      "RMSE : 5.788888292265893\n",
      "MSE: 33.51122766033313\n",
      "MAE: 4.744589342346552\n",
      "MAPE: 0.7432507123614697\n"
     ]
    }
   ],
   "source": [
    "print('DECISION FOREST REGRESSION')\n",
    "print('r2 score: '+str(r2_score(y_test, y_pred)))\n",
    "print('RMSE : '+str(np.sqrt(mean_squared_error(y_test, y_pred))))\n",
    "print('MSE: '+str(mean_squared_error(y_test, y_pred)))\n",
    "print('MAE: '+str(mean_absolute_error(y_test, y_pred)))\n",
    "print('MAPE: '+str(mean_absolute_percentage_error(y_test, y_pred)))"
   ]
  },
  {
   "cell_type": "markdown",
   "metadata": {},
   "source": [
    "# Boosted Decision Tree Regression"
   ]
  },
  {
   "cell_type": "code",
   "execution_count": 86,
   "metadata": {},
   "outputs": [],
   "source": [
    "from sklearn.ensemble import AdaBoostRegressor\n",
    "from sklearn.tree import DecisionTreeRegressor\n",
    "\n",
    "regr_1 = DecisionTreeRegressor(max_depth=4)\n",
    "\n",
    "regr_2 = AdaBoostRegressor(\n",
    "    DecisionTreeRegressor(max_depth=4), n_estimators=300, random_state=42\n",
    ")"
   ]
  },
  {
   "cell_type": "code",
   "execution_count": 87,
   "metadata": {},
   "outputs": [],
   "source": [
    "regr_1.fit(X_train, y_train)\n",
    "regr_2.fit(X_train, y_train)\n",
    "\n",
    "y_1 = regr_1.predict(X_train)\n",
    "y_2 = regr_2.predict(X_train)"
   ]
  },
  {
   "cell_type": "markdown",
   "metadata": {},
   "source": [
    "Finally, we plot how well our two regressors, single decision tree regressor and AdaBoost regressor, could fit the data."
   ]
  },
  {
   "cell_type": "code",
   "execution_count": 88,
   "metadata": {},
   "outputs": [],
   "source": [
    "# import matplotlib.pyplot as plt\n",
    "# import seaborn as sns\n",
    "\n",
    "# X_train=np.arange(0,len(X_train),1)\n",
    "\n",
    "# colors = sns.color_palette(\"colorblind\")\n",
    "\n",
    "# plt.figure()\n",
    "# plt.scatter(X_train, y_train, color=colors[0], label=\"training\")\n",
    "# plt.plot(X_train, y_1, color=colors[1], label=\"n_estimators=1\", linewidth=1)\n",
    "# plt.plot(X_train, y_2, color=colors[2], label=\"n_estimators=300\", linewidth=1)\n",
    "# plt.xlabel(\"data\")\n",
    "# plt.ylabel(\"target\")\n",
    "# plt.title(\"Boosted Decision Tree Regression\")\n",
    "# plt.legend()\n",
    "# plt.show()"
   ]
  },
  {
   "cell_type": "markdown",
   "metadata": {},
   "source": [
    "# Neural Network Regression"
   ]
  },
  {
   "cell_type": "code",
   "execution_count": 89,
   "metadata": {},
   "outputs": [],
   "source": [
    "from sklearn.neural_network import MLPRegressor\n",
    "from sklearn.datasets import make_regression\n",
    "from sklearn.model_selection import train_test_split\n"
   ]
  },
  {
   "cell_type": "code",
   "execution_count": 90,
   "metadata": {},
   "outputs": [],
   "source": [
    "# regr = MLPRegressor(random_state=1, max_iter=700).fit(X_train, y_train)\n"
   ]
  },
  {
   "cell_type": "code",
   "execution_count": 91,
   "metadata": {},
   "outputs": [
    {
     "name": "stderr",
     "output_type": "stream",
     "text": [
      "/Users/ryantalbot/opt/anaconda3/envs/tf2/lib/python3.9/site-packages/sklearn/neural_network/_multilayer_perceptron.py:692: ConvergenceWarning: Stochastic Optimizer: Maximum iterations (700) reached and the optimization hasn't converged yet.\n",
      "  warnings.warn(\n"
     ]
    }
   ],
   "source": [
    "regr = MLPRegressor(random_state=1, hidden_layer_sizes=(58), \n",
    "                    max_iter=700).fit(X_train, y_train)\n"
   ]
  },
  {
   "cell_type": "code",
   "execution_count": 92,
   "metadata": {
    "scrolled": true
   },
   "outputs": [
    {
     "data": {
      "text/plain": [
       "array([10.4846913, 10.6237257])"
      ]
     },
     "execution_count": 92,
     "metadata": {},
     "output_type": "execute_result"
    }
   ],
   "source": [
    "regr.predict(X_test[:2])"
   ]
  },
  {
   "cell_type": "code",
   "execution_count": 93,
   "metadata": {},
   "outputs": [
    {
     "data": {
      "text/plain": [
       "0.4535084308765823"
      ]
     },
     "execution_count": 93,
     "metadata": {},
     "output_type": "execute_result"
    }
   ],
   "source": [
    "regr.score(X_test, y_test)"
   ]
  },
  {
   "cell_type": "code",
   "execution_count": 94,
   "metadata": {},
   "outputs": [],
   "source": [
    "y_pred = regr.predict(X_test)"
   ]
  },
  {
   "cell_type": "code",
   "execution_count": 95,
   "metadata": {},
   "outputs": [
    {
     "name": "stdout",
     "output_type": "stream",
     "text": [
      "Neural Network Regression\n",
      "r2 score: 0.4535084308765823\n",
      "RMSE : 6.58078024482959\n",
      "MSE: 43.3066686307394\n",
      "MAE: 5.276057548150234\n",
      "MAPE: 0.5775679428367543\n"
     ]
    }
   ],
   "source": [
    "print('Neural Network Regression')\n",
    "print('r2 score: '+str(r2_score(y_test, y_pred)))\n",
    "print('RMSE : '+str(np.sqrt(mean_squared_error(y_test, y_pred))))\n",
    "print('MSE: '+str(mean_squared_error(y_test, y_pred)))\n",
    "print('MAE: '+str(mean_absolute_error(y_test, y_pred)))\n",
    "print('MAPE: '+str(mean_absolute_percentage_error(y_test, y_pred)))"
   ]
  },
  {
   "cell_type": "markdown",
   "metadata": {},
   "source": [
    "Best results is sith hidden_layer_sizes=(58"
   ]
  },
  {
   "cell_type": "markdown",
   "metadata": {},
   "source": [
    "# Stochastic Gradient Descent Regression"
   ]
  },
  {
   "cell_type": "code",
   "execution_count": 96,
   "metadata": {},
   "outputs": [],
   "source": [
    "from sklearn.linear_model import SGDRegressor\n",
    "from sklearn.pipeline import make_pipeline\n",
    "from sklearn.preprocessing import StandardScaler"
   ]
  },
  {
   "cell_type": "code",
   "execution_count": 97,
   "metadata": {},
   "outputs": [],
   "source": [
    "n_samples, n_features = 10, 5\n",
    "\n",
    "# Always scale the input. The most convenient way is to use a pipeline.\n",
    "reg = make_pipeline(StandardScaler(),\n",
    "                    SGDRegressor(max_iter=1000, tol=1e-3))"
   ]
  },
  {
   "cell_type": "code",
   "execution_count": 98,
   "metadata": {},
   "outputs": [
    {
     "data": {
      "text/plain": [
       "Pipeline(steps=[('standardscaler', StandardScaler()),\n",
       "                ('sgdregressor', SGDRegressor())])"
      ]
     },
     "execution_count": 98,
     "metadata": {},
     "output_type": "execute_result"
    }
   ],
   "source": [
    "reg.fit(X_train, y_train)"
   ]
  },
  {
   "cell_type": "code",
   "execution_count": 99,
   "metadata": {},
   "outputs": [
    {
     "data": {
      "text/plain": [
       "array([ 9.89340726, 13.1917194 , 15.55633179,  7.50754916, 10.02140029,\n",
       "       16.35184614, -3.69950173,  6.7746063 , 17.07459281, 20.17032075,\n",
       "       21.92123995,  7.2108497 , 20.89808977, 16.33898502,  9.69742806,\n",
       "       19.10697599, 18.76718452, 13.67184118, 11.68172548, 13.67948651,\n",
       "       19.56386196,  5.37182705,  7.23759558, 18.6150722 , 13.71083586,\n",
       "       11.5050281 , 15.23530504, 25.84297384])"
      ]
     },
     "execution_count": 99,
     "metadata": {},
     "output_type": "execute_result"
    }
   ],
   "source": [
    "reg.predict(X_test)"
   ]
  },
  {
   "cell_type": "code",
   "execution_count": 100,
   "metadata": {},
   "outputs": [
    {
     "data": {
      "text/plain": [
       "0.46245172555797254"
      ]
     },
     "execution_count": 100,
     "metadata": {},
     "output_type": "execute_result"
    }
   ],
   "source": [
    "reg.score(X_test, y_test, sample_weight=None)"
   ]
  },
  {
   "cell_type": "code",
   "execution_count": 101,
   "metadata": {},
   "outputs": [],
   "source": [
    "pred_train= reg.predict(X_train)"
   ]
  },
  {
   "cell_type": "code",
   "execution_count": 102,
   "metadata": {},
   "outputs": [],
   "source": [
    "predictions = reg.predict(X_test)"
   ]
  },
  {
   "cell_type": "code",
   "execution_count": 103,
   "metadata": {},
   "outputs": [
    {
     "name": "stdout",
     "output_type": "stream",
     "text": [
      "Stochastic Gradient Descent Regression\n",
      "RMSE: 6.672635836353489\n",
      "R Squared: 0.5168595114757346\n",
      "MSE: 42.59795815629372\n",
      "MAE: 5.337918283707794\n"
     ]
    }
   ],
   "source": [
    "print('Stochastic Gradient Descent Regression')\n",
    "print('RMSE: '+str(np.sqrt(mean_squared_error(y_train,pred_train))))\n",
    "print('R Squared: '+str(r2_score(y_train, pred_train)))\n",
    "print('MSE: '+str(mean_squared_error(y_test, predictions)))\n",
    "print('MAE: '+str(mean_absolute_error(y_test, predictions)))"
   ]
  },
  {
   "cell_type": "code",
   "execution_count": 104,
   "metadata": {},
   "outputs": [
    {
     "name": "stdout",
     "output_type": "stream",
     "text": [
      "MAPE: 0.5775679428367543\n"
     ]
    }
   ],
   "source": [
    "print('MAPE: '+str(mean_absolute_percentage_error(y_test, y_pred)))"
   ]
  },
  {
   "cell_type": "markdown",
   "metadata": {},
   "source": [
    "### LINEAR REGRESSION\n",
    "- RMSE : 6.5489054539688025\n",
    "- r2 score: 0.45878960350087705\n",
    "- MSE: 42.88816264502233\n",
    "- MAE: 5.441647295277558\n",
    "- MAPE: 0.8581266877876318\n",
    "--------------\n",
    "\n",
    "### RIDGE REGRESSION\n",
    "- RMSE: 6.645452818212983\n",
    "- R Squared: 0.5207879337372383\n",
    "- MSE: 42.88816264502233\n",
    "- MAE: 5.441647295277558\n",
    "- MAPE: 0.9405473114946074\n",
    "----------------\n",
    "\n",
    "### LASSO REGRESSION\n",
    "- RMSE: 6.654226955476154\n",
    "- R Squared: 0.5195216699254779\n",
    "- MSE: 42.88816264502233\n",
    "- MAE: 5.441647295277558\n",
    "- MAPE: 0.8581266877876318\n",
    "---\n",
    "- RMSE: 6.4986296685245195\n",
    "- R Squared: 0.4670674244494648\n",
    "- MSE: 42.232187568627104\n",
    "- MAE: 5.34439587548745\n",
    "- MAPE: 0.8234574915992052\n",
    "\n",
    "\n",
    "---\n",
    "### ELASTIC NET\n",
    "- Test set evaluation:\n",
    "    - RMSE: 6.332901684769903\n",
    "    - R2 Square 0.4939025125678309\n",
    "    - MSE: 40.10564374896148\n",
    "    - MAE: 5.176351828568661\n",
    "    - MAPE: 0.6772758405894522\n",
    "\n",
    "- Train set evaluation:\n",
    "    - RMSE: 6.900145046035427\n",
    "    - R2 Square 0.48335167350752983\n",
    "    - MSE: 47.612001656327244   \n",
    "    - MAE: 5.825735023910361\n",
    "    - MAPE: 1.1048890675934306\n",
    "\n",
    "    \n",
    "__________________________________\n",
    "\n",
    "### POISSON\n",
    "- r2 test: 0.3829207110459202\n",
    "- r2 trian: 0.4061594064996301\n",
    "\n",
    "\n",
    "- Poisson REGRESSION test\n",
    "    - RMSE : 6.992881043310523\n",
    "    - r2 score: 0.3829207110459202\n",
    "    - MSE: 48.900385285891666\n",
    "    - MAE: 5.8573098719682894\n",
    "    - MAPE: 0.880738720808836\n",
    "\n",
    "\n",
    "-------\n",
    "\n",
    "### Gradient Boosting regression\n",
    "- MSE TEST: 41.291555765943784\n",
    "- MAE TEST: 4.9700608677096065\n",
    "\n",
    "----\n",
    "\n",
    "### Stochastic Gradient Descent Regression\n",
    "- RMSE: 6.664364750268197\n",
    "- r2 score: 0.5180565256641232\n",
    "- MSE: 42.77056375122684\n",
    "- MAE: 5.372601073664727\n",
    "\n",
    "### DECISION FOREST REGRESSION\n",
    "- RMSE : 5.788888292265893\n",
    "- r2 score: 0.5771181675621109\n",
    "- MSE: 33.51122766033313\n",
    "- MAE: 4.744589342346552\n",
    "- MAPE: 0.7432507123614697\n",
    "\n",
    "\n",
    "### Neural Network Regression\n",
    "- RMSE : 6.269715984388013\n",
    "- r2 score: 0.5039511749369979\n",
    "- MSE: 39.30933852489055\n",
    "- MAE: 5.104212120461294\n",
    "- <b>MAPE: 0.5908518807785906</b>\n",
    "\n",
    "\n",
    "### Neural Network Regression (58 hidden layers)\n",
    "- r2 score: 0.4535084308765823\n",
    "- RMSE : 6.58078024482959\n",
    "- MSE: 43.3066686307394\n",
    "- MAE: 5.276057548150234\n",
    "- <b>MAPE: 0.5775679428367543</b>\n",
    "\n"
   ]
  },
  {
   "cell_type": "markdown",
   "metadata": {},
   "source": [
    "\n",
    "- R Square - <b>value is between 0 to 1 and a bigger value indicates a better fit</b> between prediction and actual value.\n",
    "- MSE - <b>An ideal Mean Squared Error (MSE) value is 0.0,</b> which means that all predicted values matched the expected values exactly. MSE gives larger penalization to big prediction error by square it while MAE treats all errors the same.\n",
    "- RMSE - Based on a rule of thumb, it can be said that <b>RMSE values between 0.2 and 0.5 </b>shows that the model can relatively predict the data accurately. In addition, <b>Adjusted R-squared more than 0.75 is a very good</b> value for showing the accuracy. In some cases, Adjusted R-squared of 0.4 or more is acceptable as well.\n",
    "- MAE - <b>The lower the MAE score the better.</b> This is because MAE is a measure of the average error between the predictions and intended targets, thus we want to minimise this value.\n",
    "\n",
    "\n",
    "- There is no ideal value for MAE as it is returned on the same scale that you are predicting, so an ideal MAE value for one dataset will not be the same for another.\n",
    "- MAE cannot be compared across different models and datasets. However, by converting MAE to MAPE (Mean Absolute Percentage Error), it becomes possible to compare model performance as this error is returned as a percentage.\n",
    "\n",
    "\n",
    "- https://stephenallwright.com/good-mae-score/\n",
    "- https://stephenallwright.com/good-mape-score/"
   ]
  },
  {
   "cell_type": "code",
   "execution_count": null,
   "metadata": {},
   "outputs": [],
   "source": []
  }
 ],
 "metadata": {
  "kernelspec": {
   "display_name": "Python 3 (ipykernel)",
   "language": "python",
   "name": "python3"
  },
  "language_info": {
   "codemirror_mode": {
    "name": "ipython",
    "version": 3
   },
   "file_extension": ".py",
   "mimetype": "text/x-python",
   "name": "python",
   "nbconvert_exporter": "python",
   "pygments_lexer": "ipython3",
   "version": "3.9.12"
  }
 },
 "nbformat": 4,
 "nbformat_minor": 5
}
