{
 "cells": [
  {
   "cell_type": "markdown",
   "metadata": {},
   "source": [
    "## Brazil will win World Cup|"
   ]
  },
  {
   "cell_type": "markdown",
   "metadata": {},
   "source": [
    "# TODO:\n",
    "- Update all teams to add:\n",
    "    - 'goals_z'\n",
    "    - 'g_z'\n",
    "    - 'boxtouches_z'\n",
    "    - 'progpasses_z'\n",
    "    - 'progruns_z',\n",
    "    \n",
    "- Maybe add miles from country? \n",
    "- Add Continent of country\n",
    "- Continent of winners\n",
    "    - South America\n",
    "    - Europe"
   ]
  },
  {
   "cell_type": "markdown",
   "metadata": {},
   "source": [
    "# Cecklist\n",
    "\n",
    "## Frame the problem and look at big picture\n",
    "[X] Define the objective.\n",
    "\n",
    "    - predict winners of each game in world cup\n",
    "\n",
    "[X] What are the current solutions if any\n",
    "\n",
    "    - Many\n",
    "\n",
    "[X] How should performance be measures\n",
    "\n",
    "    - How well predictions come to fruition. \n",
    "\n",
    "[X] List the assumptions you or others have made so far.\n",
    "\n",
    "    - spi will predict winner\n",
    "    - gather SPI of starters for each team\n",
    "    - use cummulative SPI for each team \n",
    "    - performance in qualifying tournaments and performance in fifa\n",
    "    - performance in qualifying rounds and performance in elimination\n",
    "\n",
    "[ ] Verify assumptions if possible\n",
    "\n",
    "\n",
    "\n",
    "## Get the Data\n",
    "[X] List data you need and how much is needed\n",
    "\n",
    "    - Historical World Cup data for wins and losses?\n",
    "    - SPI of all starters on national teams\n",
    "\n",
    "[ ] Find and document where you get data\n",
    "\n",
    "[ ] Get the data\n",
    "\n",
    "[ ] Convert the data to a format you can manipulate\n",
    "\n",
    "[ ] Check size and type of data (time series, sample, geographial, etc.)\n",
    "\n",
    "[ ] Sample a test set, put it aside, and don't look at it. \n",
    "\n",
    "\n",
    "## Explore the data to gain insights\n",
    "Note: try to get insights from a field expert for these steps.\n",
    "\n",
    "[ ] Create a copy of the data for exploration\n",
    "\n",
    "[ ] Create a jupyter notebook to keep record of data \n",
    "exploration\n",
    "\n",
    "[ ] Study each attribute and its characteristics:\n",
    "\n",
    "    - Name    \n",
    "    - Type (categorical, int/float, bount/unbounded, text, structured, etc.)\n",
    "            - .info(), .describe(), .shape, .head()        \n",
    "    - Noisiness and type of noise (stochastic, outliers, rounding errors, etc.   \n",
    "    - Possibly useful for the task?\n",
    "    - Type of distribution (Gaussian, uniform, logarithmic, etc.)\n",
    "\n",
    "[ ] For supervised learning, Identify the target attribute(s)\n",
    "\n",
    "[ ] Visualize the data.\n",
    "\n",
    "[ ] Study the correlations between attributes\n",
    "\n",
    "[ ] Identify promising transformations you may want to apply. \n",
    "\n",
    "[ ] Document what you have learned\n",
    "    \n",
    "\n",
    "## Prepare the data to better expose the underlying data patterns to ML algorithms\n",
    "Notes: \n",
    "\n",
    "    - Work on copies of data (Keep the original dataset intact).\n",
    "    - Write functions for all data transformation you apply, for 5 reasons:\n",
    "        1. You can easily prepare the data the next time you get a fresh dataset\n",
    "        2. ability to apply these transformations in future projects\n",
    "        3. To clean and prepare the test set\n",
    "        4. To clean and new data instances\n",
    "        5. To make it easy to treate your preparation choices as hyperparamteres\n",
    " \n",
    "\n",
    "[ ] **Data Clearning**:\n",
    "\n",
    "    - Fix or remove outliers (optional)\n",
    "    - Fill in missing values (e.g., with zero, mean, median, etc.) or drop rows (columns)\n",
    "\n",
    "[ ] Feature Selection (optional)\n",
    "\n",
    "    - Drop the attributes that provide no useful information for the task.\n",
    "\n",
    "[ ] **Feature engineering**, where appropriate:\n",
    "\n",
    "    - Discretize continuous features.\n",
    "    - Decompose features (e.g., categorical, date/time, etc.)\n",
    "    - Aggregate features into promising new features.\n",
    "\n",
    "[ ] **Feature Scaling** \n",
    "\n",
    "    - Standardize or normalize features\n",
    "\n",
    "\n",
    "## Explore many different models and short-list the best ones\n",
    "note: try to automate these steps as much as possible.\n",
    "\n",
    "\n",
    "[ ] Train many quick and dirty models from different categories, using standard parameters.\n",
    "\n",
    "    - regression \n",
    "    - linear\n",
    "    - naive\n",
    "    - Bayes\n",
    "    - SVM\n",
    "    - Random Forest\n",
    "    - Neural net\n",
    "    - etc.\n",
    "\n",
    "[ ] Measure and compare their performance\n",
    "\n",
    "    - For each model, use **N-fold cross-validation** and compute the standard deviation of their performance.\n",
    "\n",
    "[ ] Analyze the most significant variables for each algorithm\n",
    "\n",
    "[ ] Analyze the types of errors the models make\n",
    "\n",
    "[ ] Quick round of feature selection and engineering\n",
    "\n",
    "[ ] One or two more quick iterations of the 5 previous steps\n",
    "\n",
    "[ ] short-list the top three to five most promising models, preferring models that make different types of errors\n",
    "\n",
    "\n",
    "## Fine-tune your models and combine them into a solution.\n",
    "Note: \n",
    "\n",
    "    - you will want to use as much data as possible for this step, especially as you move toward the end of fine-tuning.\n",
    "    - automate what you can\n",
    "    \n",
    "\n",
    "[ ] Find-tune hyperparameters using **cross-validation**\n",
    "\n",
    "    - treat your data transformation choices asa hyperparameters, especially when you are note sure about them (e.g., should I replace missing values with zero or the median value, etc.)\n",
    "    - Unless there are very few hyperparameter values to explore, prefer random search over grid search. If training is very long, you might prefer a Bayesian optimization approach(e.g., a gaussian process priors)\n",
    "\n",
    "[ ] Try **Ensemble methods**. Combining your best models will often perform better than running them indiviually.\n",
    "\n",
    "[ ] Once you are confident about your final model, measure its performance on the test set to estimate the generalization error. \n",
    "\n",
    "**Note: Don't tweak your model after measuring the generalization error: you would just start overfitting the test set.**\n",
    "\n",
    "\n",
    "## Present solution\n",
    "\n",
    "[ ] Document what you have done\n",
    "\n",
    "[ ] Create Presentation\n",
    "\n",
    "\n",
    "## Launch, monitor, and Maintain"
   ]
  },
  {
   "cell_type": "markdown",
   "metadata": {},
   "source": [
    "### https://www.kaggle.com/code/launay10christian/world-cup-prediction/notebook\n",
    "\n",
    "Good source for baseline"
   ]
  },
  {
   "cell_type": "markdown",
   "metadata": {},
   "source": [
    "## Glossary\n",
    "\n",
    "**SPI** - rating designed to provide the best possible objective representation of a team's current overall skill level."
   ]
  },
  {
   "cell_type": "code",
   "execution_count": 1,
   "metadata": {},
   "outputs": [],
   "source": [
    "import pandas as pd\n",
    "import numpy as np\n",
    "import matplotlib.pyplot as plt\n",
    "import seaborn as sns\n",
    "import matplotlib.ticker as ticker\n",
    "import matplotlib.ticker as plticker\n",
    "from sklearn.model_selection import train_test_split\n",
    "from sklearn.linear_model import LogisticRegression\n",
    "\n",
    "import matplotlib.pyplot as pyplot\n",
    "import seaborn as sns"
   ]
  },
  {
   "cell_type": "markdown",
   "metadata": {},
   "source": [
    "### Variables for wc 2018, 2014, 2010, 2004, 2000 and for teams in 2022 world cup"
   ]
  },
  {
   "cell_type": "code",
   "execution_count": 2,
   "metadata": {},
   "outputs": [],
   "source": [
    "years = [2018, 2014, 2010, 2006, 2002]"
   ]
  },
  {
   "cell_type": "code",
   "execution_count": 3,
   "metadata": {},
   "outputs": [],
   "source": [
    "teams_2022 = ['Qatar', 'Netherlands', 'Senegal', 'Ecuador', 'England', 'USA', 'Wales', 'Iran', 'Argentina', 'Poland', 'Mexico', 'Saudi Arabia', 'France', 'Denmark', 'Tunisia', 'Australia', 'Germany', 'Spain', 'Japan', 'Costa Rica', 'Belgium', 'Croatia', 'Canada', 'Morocco', 'Brazil', 'Switzerland', 'Serbia', 'Cameroon', 'Portugal', 'Uruguay', 'Ghana', 'Korea Republic']"
   ]
  },
  {
   "cell_type": "markdown",
   "metadata": {},
   "source": [
    "## World Cup 2018 Matches  "
   ]
  },
  {
   "cell_type": "code",
   "execution_count": 4,
   "metadata": {},
   "outputs": [],
   "source": [
    "matches = pd.read_csv('wc_matches.csv')"
   ]
  },
  {
   "cell_type": "code",
   "execution_count": 5,
   "metadata": {},
   "outputs": [
    {
     "data": {
      "text/html": [
       "<div>\n",
       "<style scoped>\n",
       "    .dataframe tbody tr th:only-of-type {\n",
       "        vertical-align: middle;\n",
       "    }\n",
       "\n",
       "    .dataframe tbody tr th {\n",
       "        vertical-align: top;\n",
       "    }\n",
       "\n",
       "    .dataframe thead th {\n",
       "        text-align: right;\n",
       "    }\n",
       "</style>\n",
       "<table border=\"1\" class=\"dataframe\">\n",
       "  <thead>\n",
       "    <tr style=\"text-align: right;\">\n",
       "      <th></th>\n",
       "      <th>date</th>\n",
       "      <th>league_id</th>\n",
       "      <th>league</th>\n",
       "      <th>team1</th>\n",
       "      <th>team2</th>\n",
       "      <th>spi1</th>\n",
       "      <th>spi2</th>\n",
       "      <th>prob1</th>\n",
       "      <th>prob2</th>\n",
       "      <th>probtie</th>\n",
       "      <th>proj_score1</th>\n",
       "      <th>proj_score2</th>\n",
       "      <th>score1</th>\n",
       "      <th>score2</th>\n",
       "      <th>xg1</th>\n",
       "      <th>xg2</th>\n",
       "      <th>nsxg1</th>\n",
       "      <th>nsxg2</th>\n",
       "      <th>adj_score1</th>\n",
       "      <th>adj_score2</th>\n",
       "    </tr>\n",
       "  </thead>\n",
       "  <tbody>\n",
       "    <tr>\n",
       "      <th>0</th>\n",
       "      <td>2018-06-14</td>\n",
       "      <td>1908</td>\n",
       "      <td>FIFA World Cup</td>\n",
       "      <td>Russia</td>\n",
       "      <td>Saudi Arabia</td>\n",
       "      <td>70.14</td>\n",
       "      <td>51.33</td>\n",
       "      <td>0.6615</td>\n",
       "      <td>0.1200</td>\n",
       "      <td>0.2184</td>\n",
       "      <td>2.03</td>\n",
       "      <td>0.73</td>\n",
       "      <td>5</td>\n",
       "      <td>0</td>\n",
       "      <td>1.62</td>\n",
       "      <td>0.20</td>\n",
       "      <td>1.55</td>\n",
       "      <td>0.11</td>\n",
       "      <td>4.18</td>\n",
       "      <td>0.00</td>\n",
       "    </tr>\n",
       "    <tr>\n",
       "      <th>1</th>\n",
       "      <td>2018-06-15</td>\n",
       "      <td>1908</td>\n",
       "      <td>FIFA World Cup</td>\n",
       "      <td>Egypt</td>\n",
       "      <td>Uruguay</td>\n",
       "      <td>62.46</td>\n",
       "      <td>79.52</td>\n",
       "      <td>0.1845</td>\n",
       "      <td>0.5433</td>\n",
       "      <td>0.2723</td>\n",
       "      <td>0.82</td>\n",
       "      <td>1.61</td>\n",
       "      <td>0</td>\n",
       "      <td>1</td>\n",
       "      <td>0.42</td>\n",
       "      <td>1.94</td>\n",
       "      <td>0.65</td>\n",
       "      <td>1.94</td>\n",
       "      <td>0.00</td>\n",
       "      <td>1.05</td>\n",
       "    </tr>\n",
       "    <tr>\n",
       "      <th>2</th>\n",
       "      <td>2018-06-15</td>\n",
       "      <td>1908</td>\n",
       "      <td>FIFA World Cup</td>\n",
       "      <td>Morocco</td>\n",
       "      <td>Iran</td>\n",
       "      <td>72.33</td>\n",
       "      <td>65.57</td>\n",
       "      <td>0.4004</td>\n",
       "      <td>0.2667</td>\n",
       "      <td>0.3330</td>\n",
       "      <td>1.13</td>\n",
       "      <td>0.86</td>\n",
       "      <td>0</td>\n",
       "      <td>1</td>\n",
       "      <td>0.86</td>\n",
       "      <td>0.72</td>\n",
       "      <td>0.57</td>\n",
       "      <td>0.36</td>\n",
       "      <td>0.00</td>\n",
       "      <td>1.05</td>\n",
       "    </tr>\n",
       "    <tr>\n",
       "      <th>3</th>\n",
       "      <td>2018-06-15</td>\n",
       "      <td>1908</td>\n",
       "      <td>FIFA World Cup</td>\n",
       "      <td>Portugal</td>\n",
       "      <td>Spain</td>\n",
       "      <td>83.47</td>\n",
       "      <td>91.30</td>\n",
       "      <td>0.2459</td>\n",
       "      <td>0.4809</td>\n",
       "      <td>0.2732</td>\n",
       "      <td>1.07</td>\n",
       "      <td>1.60</td>\n",
       "      <td>3</td>\n",
       "      <td>3</td>\n",
       "      <td>1.15</td>\n",
       "      <td>1.63</td>\n",
       "      <td>0.80</td>\n",
       "      <td>2.59</td>\n",
       "      <td>3.15</td>\n",
       "      <td>3.15</td>\n",
       "    </tr>\n",
       "    <tr>\n",
       "      <th>4</th>\n",
       "      <td>2018-06-16</td>\n",
       "      <td>1908</td>\n",
       "      <td>FIFA World Cup</td>\n",
       "      <td>France</td>\n",
       "      <td>Australia</td>\n",
       "      <td>87.18</td>\n",
       "      <td>61.69</td>\n",
       "      <td>0.7694</td>\n",
       "      <td>0.0746</td>\n",
       "      <td>0.1560</td>\n",
       "      <td>2.61</td>\n",
       "      <td>0.69</td>\n",
       "      <td>2</td>\n",
       "      <td>1</td>\n",
       "      <td>1.38</td>\n",
       "      <td>1.03</td>\n",
       "      <td>1.24</td>\n",
       "      <td>0.39</td>\n",
       "      <td>2.10</td>\n",
       "      <td>1.05</td>\n",
       "    </tr>\n",
       "  </tbody>\n",
       "</table>\n",
       "</div>"
      ],
      "text/plain": [
       "         date  league_id          league     team1         team2   spi1  \\\n",
       "0  2018-06-14       1908  FIFA World Cup    Russia  Saudi Arabia  70.14   \n",
       "1  2018-06-15       1908  FIFA World Cup     Egypt       Uruguay  62.46   \n",
       "2  2018-06-15       1908  FIFA World Cup   Morocco          Iran  72.33   \n",
       "3  2018-06-15       1908  FIFA World Cup  Portugal         Spain  83.47   \n",
       "4  2018-06-16       1908  FIFA World Cup    France     Australia  87.18   \n",
       "\n",
       "    spi2   prob1   prob2  probtie  proj_score1  proj_score2  score1  score2  \\\n",
       "0  51.33  0.6615  0.1200   0.2184         2.03         0.73       5       0   \n",
       "1  79.52  0.1845  0.5433   0.2723         0.82         1.61       0       1   \n",
       "2  65.57  0.4004  0.2667   0.3330         1.13         0.86       0       1   \n",
       "3  91.30  0.2459  0.4809   0.2732         1.07         1.60       3       3   \n",
       "4  61.69  0.7694  0.0746   0.1560         2.61         0.69       2       1   \n",
       "\n",
       "    xg1   xg2  nsxg1  nsxg2  adj_score1  adj_score2  \n",
       "0  1.62  0.20   1.55   0.11        4.18        0.00  \n",
       "1  0.42  1.94   0.65   1.94        0.00        1.05  \n",
       "2  0.86  0.72   0.57   0.36        0.00        1.05  \n",
       "3  1.15  1.63   0.80   2.59        3.15        3.15  \n",
       "4  1.38  1.03   1.24   0.39        2.10        1.05  "
      ]
     },
     "execution_count": 5,
     "metadata": {},
     "output_type": "execute_result"
    }
   ],
   "source": [
    "matches.head()"
   ]
  },
  {
   "cell_type": "code",
   "execution_count": 6,
   "metadata": {},
   "outputs": [
    {
     "data": {
      "text/plain": [
       "Index(['date', 'league_id', 'league', 'team1', 'team2', 'spi1', 'spi2',\n",
       "       'prob1', 'prob2', 'probtie', 'proj_score1', 'proj_score2', 'score1',\n",
       "       'score2', 'xg1', 'xg2', 'nsxg1', 'nsxg2', 'adj_score1', 'adj_score2'],\n",
       "      dtype='object')"
      ]
     },
     "execution_count": 6,
     "metadata": {},
     "output_type": "execute_result"
    }
   ],
   "source": [
    "matches.columns"
   ]
  },
  {
   "cell_type": "code",
   "execution_count": 7,
   "metadata": {},
   "outputs": [],
   "source": [
    "matches['date'] =  pd.to_datetime(matches['date'],  format=\"%Y/%m/%d\")\n"
   ]
  },
  {
   "cell_type": "code",
   "execution_count": 8,
   "metadata": {},
   "outputs": [],
   "source": [
    "matches = matches.set_index('date')"
   ]
  },
  {
   "cell_type": "code",
   "execution_count": 9,
   "metadata": {},
   "outputs": [],
   "source": [
    "# matches.plot()"
   ]
  },
  {
   "cell_type": "code",
   "execution_count": 10,
   "metadata": {},
   "outputs": [],
   "source": [
    "# matches['xg2'].plot()"
   ]
  },
  {
   "cell_type": "code",
   "execution_count": 11,
   "metadata": {},
   "outputs": [],
   "source": [
    "# axs = matches.plot.area(figsize=(34, 26), subplots=True)"
   ]
  },
  {
   "cell_type": "code",
   "execution_count": 12,
   "metadata": {},
   "outputs": [],
   "source": [
    "# matches.plot.scatter(x=\"xg1\", y=\"nsxg1\", alpha=0.5)\n"
   ]
  },
  {
   "cell_type": "markdown",
   "metadata": {},
   "source": [
    "overview of the available plot methods:"
   ]
  },
  {
   "cell_type": "code",
   "execution_count": 13,
   "metadata": {},
   "outputs": [
    {
     "data": {
      "text/plain": [
       "['area',\n",
       " 'bar',\n",
       " 'barh',\n",
       " 'box',\n",
       " 'density',\n",
       " 'hexbin',\n",
       " 'hist',\n",
       " 'kde',\n",
       " 'line',\n",
       " 'pie',\n",
       " 'scatter']"
      ]
     },
     "execution_count": 13,
     "metadata": {},
     "output_type": "execute_result"
    }
   ],
   "source": [
    "[\n",
    "    method_name\n",
    "    for method_name in dir(matches.plot)\n",
    "    if not method_name.startswith(\"_\")\n",
    "]"
   ]
  },
  {
   "cell_type": "code",
   "execution_count": 14,
   "metadata": {},
   "outputs": [
    {
     "data": {
      "text/plain": [
       "<AxesSubplot:>"
      ]
     },
     "execution_count": 14,
     "metadata": {},
     "output_type": "execute_result"
    },
    {
     "data": {
      "image/png": "[encoded data removed]",
      "text/plain": [
       "<Figure size 432x288 with 1 Axes>"
      ]
     },
     "metadata": {
      "needs_background": "light"
     },
     "output_type": "display_data"
    }
   ],
   "source": [
    "new_df = matches.drop(columns=['league_id', 'spi1', 'spi2'])\n",
    "new_df.plot.box()"
   ]
  },
  {
   "cell_type": "code",
   "execution_count": 15,
   "metadata": {},
   "outputs": [],
   "source": [
    "# fig, axs = plt.subplots(figsize=(12, 4))        # Create an empty matplotlib Figure and Axes\n",
    "# new_df.plot.area(ax=axs)                   # Use pandas to put the area plot on the prepared Figure/Axes\n",
    "# axs.set_ylabel(\"Date\")          # Do any matplotlib customization you like\n",
    "# fig.savefig(\"testing.png\")           # Save the Figure/Axes using the existing matplotlib method.\n"
   ]
  },
  {
   "cell_type": "code",
   "execution_count": 16,
   "metadata": {
    "scrolled": true
   },
   "outputs": [],
   "source": [
    "# df = df.rename(columns=str.lower)"
   ]
  },
  {
   "cell_type": "code",
   "execution_count": 17,
   "metadata": {},
   "outputs": [
    {
     "data": {
      "text/plain": [
       "Index(['league', 'team1', 'team2', 'prob1', 'prob2', 'probtie', 'proj_score1',\n",
       "       'proj_score2', 'score1', 'score2', 'xg1', 'xg2', 'nsxg1', 'nsxg2',\n",
       "       'adj_score1', 'adj_score2'],\n",
       "      dtype='object')"
      ]
     },
     "execution_count": 17,
     "metadata": {},
     "output_type": "execute_result"
    }
   ],
   "source": [
    "new_df.columns"
   ]
  },
  {
   "cell_type": "code",
   "execution_count": 18,
   "metadata": {},
   "outputs": [
    {
     "data": {
      "text/html": [
       "<div>\n",
       "<style scoped>\n",
       "    .dataframe tbody tr th:only-of-type {\n",
       "        vertical-align: middle;\n",
       "    }\n",
       "\n",
       "    .dataframe tbody tr th {\n",
       "        vertical-align: top;\n",
       "    }\n",
       "\n",
       "    .dataframe thead th {\n",
       "        text-align: right;\n",
       "    }\n",
       "</style>\n",
       "<table border=\"1\" class=\"dataframe\">\n",
       "  <thead>\n",
       "    <tr style=\"text-align: right;\">\n",
       "      <th></th>\n",
       "      <th>prob1</th>\n",
       "      <th>prob2</th>\n",
       "      <th>probtie</th>\n",
       "      <th>proj_score1</th>\n",
       "      <th>proj_score2</th>\n",
       "      <th>score2</th>\n",
       "      <th>xg1</th>\n",
       "      <th>xg2</th>\n",
       "      <th>nsxg1</th>\n",
       "      <th>nsxg2</th>\n",
       "      <th>adj_score1</th>\n",
       "      <th>adj_score2</th>\n",
       "    </tr>\n",
       "    <tr>\n",
       "      <th>score1</th>\n",
       "      <th></th>\n",
       "      <th></th>\n",
       "      <th></th>\n",
       "      <th></th>\n",
       "      <th></th>\n",
       "      <th></th>\n",
       "      <th></th>\n",
       "      <th></th>\n",
       "      <th></th>\n",
       "      <th></th>\n",
       "      <th></th>\n",
       "      <th></th>\n",
       "    </tr>\n",
       "  </thead>\n",
       "  <tbody>\n",
       "    <tr>\n",
       "      <th>0</th>\n",
       "      <td>0.302400</td>\n",
       "      <td>0.458224</td>\n",
       "      <td>0.239412</td>\n",
       "      <td>1.114118</td>\n",
       "      <td>1.456471</td>\n",
       "      <td>1.529412</td>\n",
       "      <td>0.829412</td>\n",
       "      <td>1.115294</td>\n",
       "      <td>1.192353</td>\n",
       "      <td>1.259412</td>\n",
       "      <td>0.000000</td>\n",
       "      <td>1.547059</td>\n",
       "    </tr>\n",
       "    <tr>\n",
       "      <th>1</th>\n",
       "      <td>0.451336</td>\n",
       "      <td>0.360277</td>\n",
       "      <td>0.188395</td>\n",
       "      <td>1.412727</td>\n",
       "      <td>1.200000</td>\n",
       "      <td>1.136364</td>\n",
       "      <td>1.442727</td>\n",
       "      <td>1.177727</td>\n",
       "      <td>1.576818</td>\n",
       "      <td>1.128182</td>\n",
       "      <td>1.050000</td>\n",
       "      <td>1.174091</td>\n",
       "    </tr>\n",
       "    <tr>\n",
       "      <th>2</th>\n",
       "      <td>0.500573</td>\n",
       "      <td>0.343227</td>\n",
       "      <td>0.156187</td>\n",
       "      <td>1.515333</td>\n",
       "      <td>1.140000</td>\n",
       "      <td>0.866667</td>\n",
       "      <td>1.669333</td>\n",
       "      <td>1.028000</td>\n",
       "      <td>1.751333</td>\n",
       "      <td>1.415333</td>\n",
       "      <td>1.970667</td>\n",
       "      <td>0.910000</td>\n",
       "    </tr>\n",
       "    <tr>\n",
       "      <th>3</th>\n",
       "      <td>0.537300</td>\n",
       "      <td>0.261820</td>\n",
       "      <td>0.200880</td>\n",
       "      <td>1.696000</td>\n",
       "      <td>1.040000</td>\n",
       "      <td>1.200000</td>\n",
       "      <td>1.840000</td>\n",
       "      <td>0.866000</td>\n",
       "      <td>1.914000</td>\n",
       "      <td>1.282000</td>\n",
       "      <td>3.000000</td>\n",
       "      <td>1.260000</td>\n",
       "    </tr>\n",
       "    <tr>\n",
       "      <th>4</th>\n",
       "      <td>0.569200</td>\n",
       "      <td>0.430800</td>\n",
       "      <td>0.000000</td>\n",
       "      <td>1.395000</td>\n",
       "      <td>1.135000</td>\n",
       "      <td>2.500000</td>\n",
       "      <td>1.645000</td>\n",
       "      <td>0.825000</td>\n",
       "      <td>0.840000</td>\n",
       "      <td>1.465000</td>\n",
       "      <td>4.200000</td>\n",
       "      <td>2.625000</td>\n",
       "    </tr>\n",
       "    <tr>\n",
       "      <th>5</th>\n",
       "      <td>0.708950</td>\n",
       "      <td>0.098750</td>\n",
       "      <td>0.192250</td>\n",
       "      <td>2.250000</td>\n",
       "      <td>0.695000</td>\n",
       "      <td>1.000000</td>\n",
       "      <td>3.225000</td>\n",
       "      <td>0.655000</td>\n",
       "      <td>1.830000</td>\n",
       "      <td>0.770000</td>\n",
       "      <td>4.460000</td>\n",
       "      <td>1.050000</td>\n",
       "    </tr>\n",
       "    <tr>\n",
       "      <th>6</th>\n",
       "      <td>0.757400</td>\n",
       "      <td>0.053800</td>\n",
       "      <td>0.188900</td>\n",
       "      <td>2.040000</td>\n",
       "      <td>0.360000</td>\n",
       "      <td>1.000000</td>\n",
       "      <td>3.060000</td>\n",
       "      <td>1.020000</td>\n",
       "      <td>1.350000</td>\n",
       "      <td>0.890000</td>\n",
       "      <td>6.300000</td>\n",
       "      <td>1.050000</td>\n",
       "    </tr>\n",
       "  </tbody>\n",
       "</table>\n",
       "</div>"
      ],
      "text/plain": [
       "           prob1     prob2   probtie  proj_score1  proj_score2    score2  \\\n",
       "score1                                                                     \n",
       "0       0.302400  0.458224  0.239412     1.114118     1.456471  1.529412   \n",
       "1       0.451336  0.360277  0.188395     1.412727     1.200000  1.136364   \n",
       "2       0.500573  0.343227  0.156187     1.515333     1.140000  0.866667   \n",
       "3       0.537300  0.261820  0.200880     1.696000     1.040000  1.200000   \n",
       "4       0.569200  0.430800  0.000000     1.395000     1.135000  2.500000   \n",
       "5       0.708950  0.098750  0.192250     2.250000     0.695000  1.000000   \n",
       "6       0.757400  0.053800  0.188900     2.040000     0.360000  1.000000   \n",
       "\n",
       "             xg1       xg2     nsxg1     nsxg2  adj_score1  adj_score2  \n",
       "score1                                                                  \n",
       "0       0.829412  1.115294  1.192353  1.259412    0.000000    1.547059  \n",
       "1       1.442727  1.177727  1.576818  1.128182    1.050000    1.174091  \n",
       "2       1.669333  1.028000  1.751333  1.415333    1.970667    0.910000  \n",
       "3       1.840000  0.866000  1.914000  1.282000    3.000000    1.260000  \n",
       "4       1.645000  0.825000  0.840000  1.465000    4.200000    2.625000  \n",
       "5       3.225000  0.655000  1.830000  0.770000    4.460000    1.050000  \n",
       "6       3.060000  1.020000  1.350000  0.890000    6.300000    1.050000  "
      ]
     },
     "execution_count": 18,
     "metadata": {},
     "output_type": "execute_result"
    }
   ],
   "source": [
    "new_df.groupby(\"score1\").mean()"
   ]
  },
  {
   "cell_type": "code",
   "execution_count": 19,
   "metadata": {},
   "outputs": [],
   "source": [
    "# new_df.groupby(\"score1\")[\"xg1\"].mean()"
   ]
  },
  {
   "cell_type": "code",
   "execution_count": 20,
   "metadata": {},
   "outputs": [],
   "source": [
    "# new_df[[\"score1\", \"xg1\"]].groupby(\"score1\").mean()"
   ]
  },
  {
   "cell_type": "code",
   "execution_count": 21,
   "metadata": {},
   "outputs": [],
   "source": [
    "# new_df.groupby([\"score1\", \"xg1\"])[\"nsxg1\"].mean()"
   ]
  },
  {
   "cell_type": "code",
   "execution_count": 22,
   "metadata": {},
   "outputs": [],
   "source": [
    "# new_df.groupby(\"score1\")[\"score1\"].count()"
   ]
  },
  {
   "cell_type": "code",
   "execution_count": 23,
   "metadata": {},
   "outputs": [],
   "source": [
    "# new_df.sort_values(by=\"score1\").head()"
   ]
  },
  {
   "cell_type": "code",
   "execution_count": 24,
   "metadata": {},
   "outputs": [],
   "source": [
    "# new_df['team1'].value_counts()"
   ]
  },
  {
   "cell_type": "code",
   "execution_count": 25,
   "metadata": {
    "scrolled": true
   },
   "outputs": [],
   "source": [
    "# #Adding goal difference and establishing who is the winner \n",
    "# winner = []\n",
    "# for i in range (len(matches['team2'])):\n",
    "#     if matches ['score2'][i] > matches['score1'][i]:\n",
    "#         winner.append(matches['team2'][i])\n",
    "#     elif matches['score2'][i] < matches ['score1'][i]:\n",
    "#         winner.append(matches['team1'][i])\n",
    "#     else:\n",
    "#         winner.append('Draw')\n",
    "# matches['winning_team'] = winner\n",
    "\n",
    "# #adding goal difference column\n",
    "# matches['goal_difference'] = np.absolute(matches['score2'] - matches['score1'])\n",
    "\n",
    "# # matches.head()"
   ]
  },
  {
   "cell_type": "code",
   "execution_count": 26,
   "metadata": {},
   "outputs": [
    {
     "data": {
      "text/plain": [
       "(64, 19)"
      ]
     },
     "execution_count": 26,
     "metadata": {},
     "output_type": "execute_result"
    }
   ],
   "source": [
    "matches.shape"
   ]
  },
  {
   "cell_type": "markdown",
   "metadata": {},
   "source": [
    "## World Cup Comparisons Data"
   ]
  },
  {
   "cell_type": "code",
   "execution_count": 27,
   "metadata": {},
   "outputs": [],
   "source": [
    "comparisons = pd.read_csv('world_cup_comparisons.csv')"
   ]
  },
  {
   "cell_type": "code",
   "execution_count": 28,
   "metadata": {},
   "outputs": [
    {
     "data": {
      "text/plain": [
       "Index(['player', 'season', 'team', 'goals_z', 'xg_z', 'crosses_z',\n",
       "       'boxtouches_z', 'passes_z', 'progpasses_z', 'takeons_z', 'progruns_z',\n",
       "       'tackles_z', 'interceptions_z', 'clearances_z', 'blocks_z', 'aerials_z',\n",
       "       'fouls_z', 'fouled_z', 'nsxg_z'],\n",
       "      dtype='object')"
      ]
     },
     "execution_count": 28,
     "metadata": {},
     "output_type": "execute_result"
    }
   ],
   "source": [
    "comparisons.columns"
   ]
  },
  {
   "cell_type": "code",
   "execution_count": 29,
   "metadata": {},
   "outputs": [
    {
     "data": {
      "text/plain": [
       "(5899, 19)"
      ]
     },
     "execution_count": 29,
     "metadata": {},
     "output_type": "execute_result"
    }
   ],
   "source": [
    "comparisons.shape"
   ]
  },
  {
   "cell_type": "markdown",
   "metadata": {},
   "source": [
    "### Change comparisons to world cups 2018, 2014, and 2010, 2004, 2000"
   ]
  },
  {
   "cell_type": "markdown",
   "metadata": {},
   "source": [
    "comparisons years 2000-2018"
   ]
  },
  {
   "cell_type": "code",
   "execution_count": 30,
   "metadata": {},
   "outputs": [
    {
     "data": {
      "text/plain": [
       "[2018, 2014, 2010, 2006, 2002]"
      ]
     },
     "execution_count": 30,
     "metadata": {},
     "output_type": "execute_result"
    }
   ],
   "source": [
    "years"
   ]
  },
  {
   "cell_type": "code",
   "execution_count": 31,
   "metadata": {},
   "outputs": [
    {
     "data": {
      "text/plain": [
       "2018    560\n",
       "2006    559\n",
       "2014    558\n",
       "2010    550\n",
       "2002    537\n",
       "1998    533\n",
       "1986    399\n",
       "1994    397\n",
       "1990    389\n",
       "1982    374\n",
       "1978    266\n",
       "1970    265\n",
       "1974    258\n",
       "1966    254\n",
       "Name: season, dtype: int64"
      ]
     },
     "execution_count": 31,
     "metadata": {},
     "output_type": "execute_result"
    }
   ],
   "source": [
    "comparisons['season'].value_counts()"
   ]
  },
  {
   "cell_type": "code",
   "execution_count": 32,
   "metadata": {},
   "outputs": [],
   "source": [
    "comparisons = comparisons.loc[comparisons['season'].isin(years)]"
   ]
  },
  {
   "cell_type": "code",
   "execution_count": 33,
   "metadata": {},
   "outputs": [
    {
     "data": {
      "text/plain": [
       "(2764, 19)"
      ]
     },
     "execution_count": 33,
     "metadata": {},
     "output_type": "execute_result"
    }
   ],
   "source": [
    "comparisons.shape"
   ]
  },
  {
   "cell_type": "markdown",
   "metadata": {},
   "source": [
    "comparisons teams that are in world cup 2022"
   ]
  },
  {
   "cell_type": "code",
   "execution_count": 34,
   "metadata": {},
   "outputs": [],
   "source": [
    "comparisons = comparisons.loc[comparisons['team'].isin(teams_2022)]"
   ]
  },
  {
   "cell_type": "code",
   "execution_count": 35,
   "metadata": {},
   "outputs": [
    {
     "data": {
      "text/plain": [
       "(1837, 19)"
      ]
     },
     "execution_count": 35,
     "metadata": {},
     "output_type": "execute_result"
    }
   ],
   "source": [
    "comparisons.shape"
   ]
  },
  {
   "cell_type": "code",
   "execution_count": 36,
   "metadata": {},
   "outputs": [
    {
     "data": {
      "text/html": [
       "<div>\n",
       "<style scoped>\n",
       "    .dataframe tbody tr th:only-of-type {\n",
       "        vertical-align: middle;\n",
       "    }\n",
       "\n",
       "    .dataframe tbody tr th {\n",
       "        vertical-align: top;\n",
       "    }\n",
       "\n",
       "    .dataframe thead th {\n",
       "        text-align: right;\n",
       "    }\n",
       "</style>\n",
       "<table border=\"1\" class=\"dataframe\">\n",
       "  <thead>\n",
       "    <tr style=\"text-align: right;\">\n",
       "      <th></th>\n",
       "      <th>player</th>\n",
       "      <th>season</th>\n",
       "      <th>team</th>\n",
       "      <th>goals_z</th>\n",
       "      <th>xg_z</th>\n",
       "      <th>crosses_z</th>\n",
       "      <th>boxtouches_z</th>\n",
       "      <th>passes_z</th>\n",
       "      <th>progpasses_z</th>\n",
       "      <th>takeons_z</th>\n",
       "      <th>progruns_z</th>\n",
       "      <th>tackles_z</th>\n",
       "      <th>interceptions_z</th>\n",
       "      <th>clearances_z</th>\n",
       "      <th>blocks_z</th>\n",
       "      <th>aerials_z</th>\n",
       "      <th>fouls_z</th>\n",
       "      <th>fouled_z</th>\n",
       "      <th>nsxg_z</th>\n",
       "    </tr>\n",
       "  </thead>\n",
       "  <tbody>\n",
       "    <tr>\n",
       "      <th>0</th>\n",
       "      <td>Cristian Pavón</td>\n",
       "      <td>2018</td>\n",
       "      <td>Argentina</td>\n",
       "      <td>-0.42</td>\n",
       "      <td>-0.55</td>\n",
       "      <td>0.08</td>\n",
       "      <td>-0.24</td>\n",
       "      <td>-0.61</td>\n",
       "      <td>-0.72</td>\n",
       "      <td>-0.05</td>\n",
       "      <td>0.15</td>\n",
       "      <td>0.30</td>\n",
       "      <td>-0.79</td>\n",
       "      <td>-0.80</td>\n",
       "      <td>-0.45</td>\n",
       "      <td>-0.23</td>\n",
       "      <td>-0.38</td>\n",
       "      <td>-0.91</td>\n",
       "      <td>-0.58</td>\n",
       "    </tr>\n",
       "    <tr>\n",
       "      <th>1</th>\n",
       "      <td>Eduardo Salvio</td>\n",
       "      <td>2018</td>\n",
       "      <td>Argentina</td>\n",
       "      <td>-0.42</td>\n",
       "      <td>-0.50</td>\n",
       "      <td>-0.51</td>\n",
       "      <td>0.64</td>\n",
       "      <td>0.02</td>\n",
       "      <td>-0.46</td>\n",
       "      <td>-0.05</td>\n",
       "      <td>0.48</td>\n",
       "      <td>0.61</td>\n",
       "      <td>0.67</td>\n",
       "      <td>0.32</td>\n",
       "      <td>-0.45</td>\n",
       "      <td>0.21</td>\n",
       "      <td>-1.11</td>\n",
       "      <td>0.68</td>\n",
       "      <td>-0.03</td>\n",
       "    </tr>\n",
       "    <tr>\n",
       "      <th>2</th>\n",
       "      <td>Enzo Pérez</td>\n",
       "      <td>2018</td>\n",
       "      <td>Argentina</td>\n",
       "      <td>-0.42</td>\n",
       "      <td>0.11</td>\n",
       "      <td>-0.51</td>\n",
       "      <td>-0.69</td>\n",
       "      <td>0.27</td>\n",
       "      <td>-0.65</td>\n",
       "      <td>-0.36</td>\n",
       "      <td>-0.34</td>\n",
       "      <td>0.35</td>\n",
       "      <td>-0.22</td>\n",
       "      <td>-0.80</td>\n",
       "      <td>-0.45</td>\n",
       "      <td>-0.89</td>\n",
       "      <td>0.72</td>\n",
       "      <td>0.04</td>\n",
       "      <td>-0.66</td>\n",
       "    </tr>\n",
       "    <tr>\n",
       "      <th>3</th>\n",
       "      <td>Federico Fazio</td>\n",
       "      <td>2018</td>\n",
       "      <td>Argentina</td>\n",
       "      <td>-0.42</td>\n",
       "      <td>-0.59</td>\n",
       "      <td>-0.51</td>\n",
       "      <td>-0.69</td>\n",
       "      <td>-0.97</td>\n",
       "      <td>-0.91</td>\n",
       "      <td>-0.67</td>\n",
       "      <td>-0.84</td>\n",
       "      <td>-0.82</td>\n",
       "      <td>-0.79</td>\n",
       "      <td>-0.64</td>\n",
       "      <td>-0.45</td>\n",
       "      <td>0.21</td>\n",
       "      <td>-1.11</td>\n",
       "      <td>-0.59</td>\n",
       "      <td>-0.77</td>\n",
       "    </tr>\n",
       "    <tr>\n",
       "      <th>4</th>\n",
       "      <td>Franco Armani</td>\n",
       "      <td>2018</td>\n",
       "      <td>Argentina</td>\n",
       "      <td>-0.42</td>\n",
       "      <td>-0.59</td>\n",
       "      <td>-0.51</td>\n",
       "      <td>-0.80</td>\n",
       "      <td>-0.67</td>\n",
       "      <td>0.64</td>\n",
       "      <td>-0.67</td>\n",
       "      <td>-0.67</td>\n",
       "      <td>-0.82</td>\n",
       "      <td>-0.79</td>\n",
       "      <td>-0.64</td>\n",
       "      <td>-0.45</td>\n",
       "      <td>-0.89</td>\n",
       "      <td>-1.11</td>\n",
       "      <td>-0.91</td>\n",
       "      <td>-0.77</td>\n",
       "    </tr>\n",
       "  </tbody>\n",
       "</table>\n",
       "</div>"
      ],
      "text/plain": [
       "           player  season       team  goals_z  xg_z  crosses_z  boxtouches_z  \\\n",
       "0  Cristian Pavón    2018  Argentina    -0.42 -0.55       0.08         -0.24   \n",
       "1  Eduardo Salvio    2018  Argentina    -0.42 -0.50      -0.51          0.64   \n",
       "2      Enzo Pérez    2018  Argentina    -0.42  0.11      -0.51         -0.69   \n",
       "3  Federico Fazio    2018  Argentina    -0.42 -0.59      -0.51         -0.69   \n",
       "4   Franco Armani    2018  Argentina    -0.42 -0.59      -0.51         -0.80   \n",
       "\n",
       "   passes_z  progpasses_z  takeons_z  progruns_z  tackles_z  interceptions_z  \\\n",
       "0     -0.61         -0.72      -0.05        0.15       0.30            -0.79   \n",
       "1      0.02         -0.46      -0.05        0.48       0.61             0.67   \n",
       "2      0.27         -0.65      -0.36       -0.34       0.35            -0.22   \n",
       "3     -0.97         -0.91      -0.67       -0.84      -0.82            -0.79   \n",
       "4     -0.67          0.64      -0.67       -0.67      -0.82            -0.79   \n",
       "\n",
       "   clearances_z  blocks_z  aerials_z  fouls_z  fouled_z  nsxg_z  \n",
       "0         -0.80     -0.45      -0.23    -0.38     -0.91   -0.58  \n",
       "1          0.32     -0.45       0.21    -1.11      0.68   -0.03  \n",
       "2         -0.80     -0.45      -0.89     0.72      0.04   -0.66  \n",
       "3         -0.64     -0.45       0.21    -1.11     -0.59   -0.77  \n",
       "4         -0.64     -0.45      -0.89    -1.11     -0.91   -0.77  "
      ]
     },
     "execution_count": 36,
     "metadata": {},
     "output_type": "execute_result"
    }
   ],
   "source": [
    "comparisons.head()"
   ]
  },
  {
   "cell_type": "code",
   "execution_count": 37,
   "metadata": {},
   "outputs": [
    {
     "data": {
      "text/html": [
       "<div>\n",
       "<style scoped>\n",
       "    .dataframe tbody tr th:only-of-type {\n",
       "        vertical-align: middle;\n",
       "    }\n",
       "\n",
       "    .dataframe tbody tr th {\n",
       "        vertical-align: top;\n",
       "    }\n",
       "\n",
       "    .dataframe thead th {\n",
       "        text-align: right;\n",
       "    }\n",
       "</style>\n",
       "<table border=\"1\" class=\"dataframe\">\n",
       "  <thead>\n",
       "    <tr style=\"text-align: right;\">\n",
       "      <th></th>\n",
       "      <th>player</th>\n",
       "      <th>season</th>\n",
       "      <th>team</th>\n",
       "      <th>goals_z</th>\n",
       "      <th>xg_z</th>\n",
       "      <th>crosses_z</th>\n",
       "      <th>boxtouches_z</th>\n",
       "      <th>passes_z</th>\n",
       "      <th>progpasses_z</th>\n",
       "      <th>takeons_z</th>\n",
       "      <th>progruns_z</th>\n",
       "      <th>tackles_z</th>\n",
       "      <th>interceptions_z</th>\n",
       "      <th>clearances_z</th>\n",
       "      <th>blocks_z</th>\n",
       "      <th>aerials_z</th>\n",
       "      <th>fouls_z</th>\n",
       "      <th>fouled_z</th>\n",
       "      <th>nsxg_z</th>\n",
       "    </tr>\n",
       "  </thead>\n",
       "  <tbody>\n",
       "    <tr>\n",
       "      <th>2759</th>\n",
       "      <td>Mario Regueiro</td>\n",
       "      <td>2002</td>\n",
       "      <td>Uruguay</td>\n",
       "      <td>-0.41</td>\n",
       "      <td>-0.65</td>\n",
       "      <td>0.02</td>\n",
       "      <td>0.18</td>\n",
       "      <td>-1.15</td>\n",
       "      <td>-0.89</td>\n",
       "      <td>1.49</td>\n",
       "      <td>0.10</td>\n",
       "      <td>-0.45</td>\n",
       "      <td>-0.16</td>\n",
       "      <td>-0.75</td>\n",
       "      <td>-0.52</td>\n",
       "      <td>-0.31</td>\n",
       "      <td>-0.80</td>\n",
       "      <td>1.08</td>\n",
       "      <td>-0.75</td>\n",
       "    </tr>\n",
       "    <tr>\n",
       "      <th>2760</th>\n",
       "      <td>Pablo García</td>\n",
       "      <td>2002</td>\n",
       "      <td>Uruguay</td>\n",
       "      <td>-0.41</td>\n",
       "      <td>-0.07</td>\n",
       "      <td>0.02</td>\n",
       "      <td>-0.74</td>\n",
       "      <td>1.53</td>\n",
       "      <td>0.48</td>\n",
       "      <td>-0.21</td>\n",
       "      <td>0.65</td>\n",
       "      <td>2.76</td>\n",
       "      <td>2.24</td>\n",
       "      <td>-0.05</td>\n",
       "      <td>1.47</td>\n",
       "      <td>0.10</td>\n",
       "      <td>0.33</td>\n",
       "      <td>0.72</td>\n",
       "      <td>0.42</td>\n",
       "    </tr>\n",
       "    <tr>\n",
       "      <th>2761</th>\n",
       "      <td>Richard Morales</td>\n",
       "      <td>2002</td>\n",
       "      <td>Uruguay</td>\n",
       "      <td>1.70</td>\n",
       "      <td>1.85</td>\n",
       "      <td>-0.56</td>\n",
       "      <td>1.41</td>\n",
       "      <td>-1.38</td>\n",
       "      <td>-1.08</td>\n",
       "      <td>-0.77</td>\n",
       "      <td>-1.01</td>\n",
       "      <td>-0.95</td>\n",
       "      <td>-1.01</td>\n",
       "      <td>-0.75</td>\n",
       "      <td>-0.52</td>\n",
       "      <td>0.10</td>\n",
       "      <td>-0.80</td>\n",
       "      <td>-0.71</td>\n",
       "      <td>-0.35</td>\n",
       "    </tr>\n",
       "    <tr>\n",
       "      <th>2762</th>\n",
       "      <td>Ronald Paolo Montero Iglesias</td>\n",
       "      <td>2002</td>\n",
       "      <td>Uruguay</td>\n",
       "      <td>-0.41</td>\n",
       "      <td>-0.65</td>\n",
       "      <td>-0.56</td>\n",
       "      <td>-0.74</td>\n",
       "      <td>1.76</td>\n",
       "      <td>1.41</td>\n",
       "      <td>0.36</td>\n",
       "      <td>1.76</td>\n",
       "      <td>0.65</td>\n",
       "      <td>0.38</td>\n",
       "      <td>2.31</td>\n",
       "      <td>2.73</td>\n",
       "      <td>2.19</td>\n",
       "      <td>0.33</td>\n",
       "      <td>-0.71</td>\n",
       "      <td>-0.60</td>\n",
       "    </tr>\n",
       "    <tr>\n",
       "      <th>2763</th>\n",
       "      <td>Sebastián Abreu</td>\n",
       "      <td>2002</td>\n",
       "      <td>Uruguay</td>\n",
       "      <td>-0.41</td>\n",
       "      <td>0.64</td>\n",
       "      <td>-0.56</td>\n",
       "      <td>0.64</td>\n",
       "      <td>-1.10</td>\n",
       "      <td>-1.01</td>\n",
       "      <td>-0.21</td>\n",
       "      <td>-0.46</td>\n",
       "      <td>-0.45</td>\n",
       "      <td>-0.83</td>\n",
       "      <td>-0.47</td>\n",
       "      <td>-0.52</td>\n",
       "      <td>0.94</td>\n",
       "      <td>1.84</td>\n",
       "      <td>0.36</td>\n",
       "      <td>-0.60</td>\n",
       "    </tr>\n",
       "  </tbody>\n",
       "</table>\n",
       "</div>"
      ],
      "text/plain": [
       "                             player  season     team  goals_z  xg_z  \\\n",
       "2759                 Mario Regueiro    2002  Uruguay    -0.41 -0.65   \n",
       "2760                   Pablo García    2002  Uruguay    -0.41 -0.07   \n",
       "2761                Richard Morales    2002  Uruguay     1.70  1.85   \n",
       "2762  Ronald Paolo Montero Iglesias    2002  Uruguay    -0.41 -0.65   \n",
       "2763                Sebastián Abreu    2002  Uruguay    -0.41  0.64   \n",
       "\n",
       "      crosses_z  boxtouches_z  passes_z  progpasses_z  takeons_z  progruns_z  \\\n",
       "2759       0.02          0.18     -1.15         -0.89       1.49        0.10   \n",
       "2760       0.02         -0.74      1.53          0.48      -0.21        0.65   \n",
       "2761      -0.56          1.41     -1.38         -1.08      -0.77       -1.01   \n",
       "2762      -0.56         -0.74      1.76          1.41       0.36        1.76   \n",
       "2763      -0.56          0.64     -1.10         -1.01      -0.21       -0.46   \n",
       "\n",
       "      tackles_z  interceptions_z  clearances_z  blocks_z  aerials_z  fouls_z  \\\n",
       "2759      -0.45            -0.16         -0.75     -0.52      -0.31    -0.80   \n",
       "2760       2.76             2.24         -0.05      1.47       0.10     0.33   \n",
       "2761      -0.95            -1.01         -0.75     -0.52       0.10    -0.80   \n",
       "2762       0.65             0.38          2.31      2.73       2.19     0.33   \n",
       "2763      -0.45            -0.83         -0.47     -0.52       0.94     1.84   \n",
       "\n",
       "      fouled_z  nsxg_z  \n",
       "2759      1.08   -0.75  \n",
       "2760      0.72    0.42  \n",
       "2761     -0.71   -0.35  \n",
       "2762     -0.71   -0.60  \n",
       "2763      0.36   -0.60  "
      ]
     },
     "execution_count": 37,
     "metadata": {},
     "output_type": "execute_result"
    }
   ],
   "source": [
    "comparisons.tail()"
   ]
  },
  {
   "cell_type": "code",
   "execution_count": 38,
   "metadata": {},
   "outputs": [],
   "source": [
    "year2002 = [2002]\n",
    "year2006 = [2006]\n",
    "year2010 = [2010]\n",
    "year2014 = [2014]\n",
    "year2018 = [2018]"
   ]
  },
  {
   "cell_type": "markdown",
   "metadata": {},
   "source": [
    "# Germany"
   ]
  },
  {
   "cell_type": "markdown",
   "metadata": {},
   "source": [
    "## 2010"
   ]
  },
  {
   "cell_type": "code",
   "execution_count": 40,
   "metadata": {},
   "outputs": [],
   "source": [
    "comparisons = comparisons.drop(columns = ['player'])\n"
   ]
  },
  {
   "cell_type": "code",
   "execution_count": 41,
   "metadata": {},
   "outputs": [
    {
     "data": {
      "text/html": [
       "<div>\n",
       "<style scoped>\n",
       "    .dataframe tbody tr th:only-of-type {\n",
       "        vertical-align: middle;\n",
       "    }\n",
       "\n",
       "    .dataframe tbody tr th {\n",
       "        vertical-align: top;\n",
       "    }\n",
       "\n",
       "    .dataframe thead th {\n",
       "        text-align: right;\n",
       "    }\n",
       "</style>\n",
       "<table border=\"1\" class=\"dataframe\">\n",
       "  <thead>\n",
       "    <tr style=\"text-align: right;\">\n",
       "      <th></th>\n",
       "      <th>season</th>\n",
       "      <th>team</th>\n",
       "      <th>goals_z</th>\n",
       "      <th>xg_z</th>\n",
       "      <th>crosses_z</th>\n",
       "      <th>boxtouches_z</th>\n",
       "      <th>passes_z</th>\n",
       "      <th>progpasses_z</th>\n",
       "      <th>takeons_z</th>\n",
       "      <th>progruns_z</th>\n",
       "      <th>tackles_z</th>\n",
       "      <th>interceptions_z</th>\n",
       "      <th>clearances_z</th>\n",
       "      <th>blocks_z</th>\n",
       "      <th>aerials_z</th>\n",
       "      <th>fouls_z</th>\n",
       "      <th>fouled_z</th>\n",
       "      <th>nsxg_z</th>\n",
       "    </tr>\n",
       "  </thead>\n",
       "  <tbody>\n",
       "    <tr>\n",
       "      <th>0</th>\n",
       "      <td>2018</td>\n",
       "      <td>Argentina</td>\n",
       "      <td>-0.42</td>\n",
       "      <td>-0.55</td>\n",
       "      <td>0.08</td>\n",
       "      <td>-0.24</td>\n",
       "      <td>-0.61</td>\n",
       "      <td>-0.72</td>\n",
       "      <td>-0.05</td>\n",
       "      <td>0.15</td>\n",
       "      <td>0.30</td>\n",
       "      <td>-0.79</td>\n",
       "      <td>-0.80</td>\n",
       "      <td>-0.45</td>\n",
       "      <td>-0.23</td>\n",
       "      <td>-0.38</td>\n",
       "      <td>-0.91</td>\n",
       "      <td>-0.58</td>\n",
       "    </tr>\n",
       "    <tr>\n",
       "      <th>1</th>\n",
       "      <td>2018</td>\n",
       "      <td>Argentina</td>\n",
       "      <td>-0.42</td>\n",
       "      <td>-0.50</td>\n",
       "      <td>-0.51</td>\n",
       "      <td>0.64</td>\n",
       "      <td>0.02</td>\n",
       "      <td>-0.46</td>\n",
       "      <td>-0.05</td>\n",
       "      <td>0.48</td>\n",
       "      <td>0.61</td>\n",
       "      <td>0.67</td>\n",
       "      <td>0.32</td>\n",
       "      <td>-0.45</td>\n",
       "      <td>0.21</td>\n",
       "      <td>-1.11</td>\n",
       "      <td>0.68</td>\n",
       "      <td>-0.03</td>\n",
       "    </tr>\n",
       "    <tr>\n",
       "      <th>2</th>\n",
       "      <td>2018</td>\n",
       "      <td>Argentina</td>\n",
       "      <td>-0.42</td>\n",
       "      <td>0.11</td>\n",
       "      <td>-0.51</td>\n",
       "      <td>-0.69</td>\n",
       "      <td>0.27</td>\n",
       "      <td>-0.65</td>\n",
       "      <td>-0.36</td>\n",
       "      <td>-0.34</td>\n",
       "      <td>0.35</td>\n",
       "      <td>-0.22</td>\n",
       "      <td>-0.80</td>\n",
       "      <td>-0.45</td>\n",
       "      <td>-0.89</td>\n",
       "      <td>0.72</td>\n",
       "      <td>0.04</td>\n",
       "      <td>-0.66</td>\n",
       "    </tr>\n",
       "    <tr>\n",
       "      <th>3</th>\n",
       "      <td>2018</td>\n",
       "      <td>Argentina</td>\n",
       "      <td>-0.42</td>\n",
       "      <td>-0.59</td>\n",
       "      <td>-0.51</td>\n",
       "      <td>-0.69</td>\n",
       "      <td>-0.97</td>\n",
       "      <td>-0.91</td>\n",
       "      <td>-0.67</td>\n",
       "      <td>-0.84</td>\n",
       "      <td>-0.82</td>\n",
       "      <td>-0.79</td>\n",
       "      <td>-0.64</td>\n",
       "      <td>-0.45</td>\n",
       "      <td>0.21</td>\n",
       "      <td>-1.11</td>\n",
       "      <td>-0.59</td>\n",
       "      <td>-0.77</td>\n",
       "    </tr>\n",
       "    <tr>\n",
       "      <th>4</th>\n",
       "      <td>2018</td>\n",
       "      <td>Argentina</td>\n",
       "      <td>-0.42</td>\n",
       "      <td>-0.59</td>\n",
       "      <td>-0.51</td>\n",
       "      <td>-0.80</td>\n",
       "      <td>-0.67</td>\n",
       "      <td>0.64</td>\n",
       "      <td>-0.67</td>\n",
       "      <td>-0.67</td>\n",
       "      <td>-0.82</td>\n",
       "      <td>-0.79</td>\n",
       "      <td>-0.64</td>\n",
       "      <td>-0.45</td>\n",
       "      <td>-0.89</td>\n",
       "      <td>-1.11</td>\n",
       "      <td>-0.91</td>\n",
       "      <td>-0.77</td>\n",
       "    </tr>\n",
       "    <tr>\n",
       "      <th>...</th>\n",
       "      <td>...</td>\n",
       "      <td>...</td>\n",
       "      <td>...</td>\n",
       "      <td>...</td>\n",
       "      <td>...</td>\n",
       "      <td>...</td>\n",
       "      <td>...</td>\n",
       "      <td>...</td>\n",
       "      <td>...</td>\n",
       "      <td>...</td>\n",
       "      <td>...</td>\n",
       "      <td>...</td>\n",
       "      <td>...</td>\n",
       "      <td>...</td>\n",
       "      <td>...</td>\n",
       "      <td>...</td>\n",
       "      <td>...</td>\n",
       "      <td>...</td>\n",
       "    </tr>\n",
       "    <tr>\n",
       "      <th>2759</th>\n",
       "      <td>2002</td>\n",
       "      <td>Uruguay</td>\n",
       "      <td>-0.41</td>\n",
       "      <td>-0.65</td>\n",
       "      <td>0.02</td>\n",
       "      <td>0.18</td>\n",
       "      <td>-1.15</td>\n",
       "      <td>-0.89</td>\n",
       "      <td>1.49</td>\n",
       "      <td>0.10</td>\n",
       "      <td>-0.45</td>\n",
       "      <td>-0.16</td>\n",
       "      <td>-0.75</td>\n",
       "      <td>-0.52</td>\n",
       "      <td>-0.31</td>\n",
       "      <td>-0.80</td>\n",
       "      <td>1.08</td>\n",
       "      <td>-0.75</td>\n",
       "    </tr>\n",
       "    <tr>\n",
       "      <th>2760</th>\n",
       "      <td>2002</td>\n",
       "      <td>Uruguay</td>\n",
       "      <td>-0.41</td>\n",
       "      <td>-0.07</td>\n",
       "      <td>0.02</td>\n",
       "      <td>-0.74</td>\n",
       "      <td>1.53</td>\n",
       "      <td>0.48</td>\n",
       "      <td>-0.21</td>\n",
       "      <td>0.65</td>\n",
       "      <td>2.76</td>\n",
       "      <td>2.24</td>\n",
       "      <td>-0.05</td>\n",
       "      <td>1.47</td>\n",
       "      <td>0.10</td>\n",
       "      <td>0.33</td>\n",
       "      <td>0.72</td>\n",
       "      <td>0.42</td>\n",
       "    </tr>\n",
       "    <tr>\n",
       "      <th>2761</th>\n",
       "      <td>2002</td>\n",
       "      <td>Uruguay</td>\n",
       "      <td>1.70</td>\n",
       "      <td>1.85</td>\n",
       "      <td>-0.56</td>\n",
       "      <td>1.41</td>\n",
       "      <td>-1.38</td>\n",
       "      <td>-1.08</td>\n",
       "      <td>-0.77</td>\n",
       "      <td>-1.01</td>\n",
       "      <td>-0.95</td>\n",
       "      <td>-1.01</td>\n",
       "      <td>-0.75</td>\n",
       "      <td>-0.52</td>\n",
       "      <td>0.10</td>\n",
       "      <td>-0.80</td>\n",
       "      <td>-0.71</td>\n",
       "      <td>-0.35</td>\n",
       "    </tr>\n",
       "    <tr>\n",
       "      <th>2762</th>\n",
       "      <td>2002</td>\n",
       "      <td>Uruguay</td>\n",
       "      <td>-0.41</td>\n",
       "      <td>-0.65</td>\n",
       "      <td>-0.56</td>\n",
       "      <td>-0.74</td>\n",
       "      <td>1.76</td>\n",
       "      <td>1.41</td>\n",
       "      <td>0.36</td>\n",
       "      <td>1.76</td>\n",
       "      <td>0.65</td>\n",
       "      <td>0.38</td>\n",
       "      <td>2.31</td>\n",
       "      <td>2.73</td>\n",
       "      <td>2.19</td>\n",
       "      <td>0.33</td>\n",
       "      <td>-0.71</td>\n",
       "      <td>-0.60</td>\n",
       "    </tr>\n",
       "    <tr>\n",
       "      <th>2763</th>\n",
       "      <td>2002</td>\n",
       "      <td>Uruguay</td>\n",
       "      <td>-0.41</td>\n",
       "      <td>0.64</td>\n",
       "      <td>-0.56</td>\n",
       "      <td>0.64</td>\n",
       "      <td>-1.10</td>\n",
       "      <td>-1.01</td>\n",
       "      <td>-0.21</td>\n",
       "      <td>-0.46</td>\n",
       "      <td>-0.45</td>\n",
       "      <td>-0.83</td>\n",
       "      <td>-0.47</td>\n",
       "      <td>-0.52</td>\n",
       "      <td>0.94</td>\n",
       "      <td>1.84</td>\n",
       "      <td>0.36</td>\n",
       "      <td>-0.60</td>\n",
       "    </tr>\n",
       "  </tbody>\n",
       "</table>\n",
       "<p>1837 rows × 18 columns</p>\n",
       "</div>"
      ],
      "text/plain": [
       "      season       team  goals_z  xg_z  crosses_z  boxtouches_z  passes_z  \\\n",
       "0       2018  Argentina    -0.42 -0.55       0.08         -0.24     -0.61   \n",
       "1       2018  Argentina    -0.42 -0.50      -0.51          0.64      0.02   \n",
       "2       2018  Argentina    -0.42  0.11      -0.51         -0.69      0.27   \n",
       "3       2018  Argentina    -0.42 -0.59      -0.51         -0.69     -0.97   \n",
       "4       2018  Argentina    -0.42 -0.59      -0.51         -0.80     -0.67   \n",
       "...      ...        ...      ...   ...        ...           ...       ...   \n",
       "2759    2002    Uruguay    -0.41 -0.65       0.02          0.18     -1.15   \n",
       "2760    2002    Uruguay    -0.41 -0.07       0.02         -0.74      1.53   \n",
       "2761    2002    Uruguay     1.70  1.85      -0.56          1.41     -1.38   \n",
       "2762    2002    Uruguay    -0.41 -0.65      -0.56         -0.74      1.76   \n",
       "2763    2002    Uruguay    -0.41  0.64      -0.56          0.64     -1.10   \n",
       "\n",
       "      progpasses_z  takeons_z  progruns_z  tackles_z  interceptions_z  \\\n",
       "0            -0.72      -0.05        0.15       0.30            -0.79   \n",
       "1            -0.46      -0.05        0.48       0.61             0.67   \n",
       "2            -0.65      -0.36       -0.34       0.35            -0.22   \n",
       "3            -0.91      -0.67       -0.84      -0.82            -0.79   \n",
       "4             0.64      -0.67       -0.67      -0.82            -0.79   \n",
       "...            ...        ...         ...        ...              ...   \n",
       "2759         -0.89       1.49        0.10      -0.45            -0.16   \n",
       "2760          0.48      -0.21        0.65       2.76             2.24   \n",
       "2761         -1.08      -0.77       -1.01      -0.95            -1.01   \n",
       "2762          1.41       0.36        1.76       0.65             0.38   \n",
       "2763         -1.01      -0.21       -0.46      -0.45            -0.83   \n",
       "\n",
       "      clearances_z  blocks_z  aerials_z  fouls_z  fouled_z  nsxg_z  \n",
       "0            -0.80     -0.45      -0.23    -0.38     -0.91   -0.58  \n",
       "1             0.32     -0.45       0.21    -1.11      0.68   -0.03  \n",
       "2            -0.80     -0.45      -0.89     0.72      0.04   -0.66  \n",
       "3            -0.64     -0.45       0.21    -1.11     -0.59   -0.77  \n",
       "4            -0.64     -0.45      -0.89    -1.11     -0.91   -0.77  \n",
       "...            ...       ...        ...      ...       ...     ...  \n",
       "2759         -0.75     -0.52      -0.31    -0.80      1.08   -0.75  \n",
       "2760         -0.05      1.47       0.10     0.33      0.72    0.42  \n",
       "2761         -0.75     -0.52       0.10    -0.80     -0.71   -0.35  \n",
       "2762          2.31      2.73       2.19     0.33     -0.71   -0.60  \n",
       "2763         -0.47     -0.52       0.94     1.84      0.36   -0.60  \n",
       "\n",
       "[1837 rows x 18 columns]"
      ]
     },
     "execution_count": 41,
     "metadata": {},
     "output_type": "execute_result"
    }
   ],
   "source": [
    "comparisons"
   ]
  },
  {
   "cell_type": "code",
   "execution_count": 41,
   "metadata": {},
   "outputs": [],
   "source": [
    "ger = [\"Germany\"]"
   ]
  },
  {
   "cell_type": "code",
   "execution_count": 42,
   "metadata": {},
   "outputs": [],
   "source": [
    "ger_year = comparisons.loc[comparisons[\"team\"].isin(ger)]"
   ]
  },
  {
   "cell_type": "code",
   "execution_count": 43,
   "metadata": {},
   "outputs": [],
   "source": [
    "ger2010year = ger_year.loc[ger_year[\"season\"].isin(year2010)]"
   ]
  },
  {
   "cell_type": "code",
   "execution_count": 44,
   "metadata": {},
   "outputs": [],
   "source": [
    "ger2010xg = ger2010year.sort_values(by=[\"goals_z\"], ascending=False)"
   ]
  },
  {
   "cell_type": "code",
   "execution_count": 45,
   "metadata": {},
   "outputs": [],
   "source": [
    "ger2010xg13 = ger2010xg.head(13)"
   ]
  },
  {
   "cell_type": "markdown",
   "metadata": {},
   "source": [
    "#### top 13 players from Germany in 2010 by XG"
   ]
  },
  {
   "cell_type": "markdown",
   "metadata": {},
   "source": [
    "### Remove columns"
   ]
  },
  {
   "cell_type": "markdown",
   "metadata": {},
   "source": [
    "'boxtouches_z', 'progpasses_z', 'progruns_z'"
   ]
  },
  {
   "cell_type": "code",
   "execution_count": 46,
   "metadata": {},
   "outputs": [],
   "source": [
    "ger2010xg13 = ger2010xg13.drop(columns=['season', 'team'])\n"
   ]
  },
  {
   "cell_type": "code",
   "execution_count": 47,
   "metadata": {
    "scrolled": true
   },
   "outputs": [],
   "source": [
    "ger2010 = ger2010xg13.mean()"
   ]
  },
  {
   "cell_type": "code",
   "execution_count": 48,
   "metadata": {},
   "outputs": [
    {
     "data": {
      "text/plain": [
       "goals_z            0.816923\n",
       "xg_z               0.433846\n",
       "crosses_z         -0.024615\n",
       "boxtouches_z       0.452308\n",
       "passes_z           0.194615\n",
       "progpasses_z      -0.104615\n",
       "takeons_z          0.006154\n",
       "progruns_z         0.384615\n",
       "tackles_z          0.047692\n",
       "interceptions_z    0.056923\n",
       "clearances_z      -0.066923\n",
       "blocks_z           0.276154\n",
       "aerials_z          0.296154\n",
       "fouls_z           -0.387692\n",
       "fouled_z          -0.258462\n",
       "nsxg_z             0.276154\n",
       "dtype: float64"
      ]
     },
     "execution_count": 48,
     "metadata": {},
     "output_type": "execute_result"
    }
   ],
   "source": [
    "ger2010"
   ]
  },
  {
   "cell_type": "code",
   "execution_count": 49,
   "metadata": {},
   "outputs": [],
   "source": [
    "# (.513077 + .328462) / .816923"
   ]
  },
  {
   "cell_type": "markdown",
   "metadata": {},
   "source": [
    "### Fouled"
   ]
  },
  {
   "cell_type": "code",
   "execution_count": 50,
   "metadata": {},
   "outputs": [],
   "source": [
    "# -0.134615 - -0.294615"
   ]
  },
  {
   "cell_type": "markdown",
   "metadata": {},
   "source": [
    "# Setup New DF for derived stats"
   ]
  },
  {
   "cell_type": "code",
   "execution_count": 51,
   "metadata": {},
   "outputs": [],
   "source": [
    "# # initialize list of lists\n",
    "# data = [['Germany', 2010, 0.816923, 0.513077, 0.458462, -0.367692, 0.142308, 1.0301]]\n",
    "  \n",
    "# # Create the pandas DataFrame\n",
    "# stats_df = pd.DataFrame(data, columns=['Country', 'Year', 'goals_z', 'xg_z', 'boxtouches_z', 'progpasses_z', 'progruns_z', 'new_xg'])\n",
    "  "
   ]
  },
  {
   "cell_type": "code",
   "execution_count": 52,
   "metadata": {},
   "outputs": [],
   "source": [
    "# stats_df['Fouled'] = 0.16\n",
    "# stats_df['results'] = 3\n",
    "# stats_df"
   ]
  },
  {
   "cell_type": "markdown",
   "metadata": {},
   "source": [
    "## 2014"
   ]
  },
  {
   "cell_type": "code",
   "execution_count": 53,
   "metadata": {},
   "outputs": [],
   "source": [
    "ger2014year = ger_year.loc[ger_year[\"season\"].isin(year2014)]"
   ]
  },
  {
   "cell_type": "code",
   "execution_count": 54,
   "metadata": {},
   "outputs": [],
   "source": [
    "ger2014xg = ger2014year.sort_values(by=[\"goals_z\"], ascending=False)"
   ]
  },
  {
   "cell_type": "code",
   "execution_count": 55,
   "metadata": {},
   "outputs": [],
   "source": [
    "ger2014xg13 = ger2014xg.head(13)"
   ]
  },
  {
   "cell_type": "code",
   "execution_count": 56,
   "metadata": {},
   "outputs": [],
   "source": [
    "ger2014xg13 = ger2014xg13.drop(columns=['season', 'team',])\n"
   ]
  },
  {
   "cell_type": "code",
   "execution_count": 57,
   "metadata": {},
   "outputs": [],
   "source": [
    "ger2014 = ger2014xg13.mean()"
   ]
  },
  {
   "cell_type": "code",
   "execution_count": 58,
   "metadata": {},
   "outputs": [
    {
     "data": {
      "text/plain": [
       "goals_z            0.755385\n",
       "xg_z               0.614615\n",
       "crosses_z          0.071538\n",
       "boxtouches_z       0.436923\n",
       "passes_z           0.516923\n",
       "progpasses_z       0.344615\n",
       "takeons_z         -0.132308\n",
       "progruns_z        -0.006154\n",
       "tackles_z          0.671538\n",
       "interceptions_z   -0.043846\n",
       "clearances_z      -0.240769\n",
       "blocks_z          -0.013846\n",
       "aerials_z         -0.113846\n",
       "fouls_z           -0.118462\n",
       "fouled_z           0.043077\n",
       "nsxg_z             0.396154\n",
       "dtype: float64"
      ]
     },
     "execution_count": 58,
     "metadata": {},
     "output_type": "execute_result"
    }
   ],
   "source": [
    "ger2014"
   ]
  },
  {
   "cell_type": "code",
   "execution_count": 59,
   "metadata": {},
   "outputs": [],
   "source": [
    "# (.719231 + .527692) / 0.755385"
   ]
  },
  {
   "cell_type": "markdown",
   "metadata": {},
   "source": [
    "### Fouled"
   ]
  },
  {
   "cell_type": "code",
   "execution_count": 60,
   "metadata": {},
   "outputs": [],
   "source": [
    "# 0.186154 - 0.022308"
   ]
  },
  {
   "cell_type": "code",
   "execution_count": 61,
   "metadata": {},
   "outputs": [],
   "source": [
    "# new_row = {'Country': 'Germany', 'Year': 2014, 'goals_z': 0.755385, 'xg_z': 0.719231, 'boxtouches_z': 0.601538, 'progpasses_z': 0.316154, 'progruns_z': 0.198462, 'new_xg': 1.65071, 'Fouled': 0.163846, 'results': 1}\n",
    "\n",
    "# stats_df = stats_df.append(new_row, ignore_index=True)"
   ]
  },
  {
   "cell_type": "code",
   "execution_count": 62,
   "metadata": {},
   "outputs": [],
   "source": [
    "# stats_df"
   ]
  },
  {
   "cell_type": "markdown",
   "metadata": {},
   "source": [
    "## 2018 "
   ]
  },
  {
   "cell_type": "code",
   "execution_count": 63,
   "metadata": {},
   "outputs": [],
   "source": [
    "ger2018year = ger_year.loc[ger_year[\"season\"].isin(year2018)]"
   ]
  },
  {
   "cell_type": "code",
   "execution_count": 64,
   "metadata": {},
   "outputs": [],
   "source": [
    "ger2018xg = ger2018year.sort_values(by=[\"goals_z\"], ascending=False)"
   ]
  },
  {
   "cell_type": "code",
   "execution_count": 65,
   "metadata": {},
   "outputs": [],
   "source": [
    "ger2018xg13 = ger2018xg.head(13)"
   ]
  },
  {
   "cell_type": "code",
   "execution_count": 66,
   "metadata": {},
   "outputs": [],
   "source": [
    "ger2018xg13 = ger2018xg13.drop(columns=['season', 'team'])\n"
   ]
  },
  {
   "cell_type": "code",
   "execution_count": 67,
   "metadata": {},
   "outputs": [],
   "source": [
    "ger2018 = ger2018xg13.mean()"
   ]
  },
  {
   "cell_type": "code",
   "execution_count": 68,
   "metadata": {
    "scrolled": true
   },
   "outputs": [
    {
     "data": {
      "text/plain": [
       "goals_z           -0.066154\n",
       "xg_z               0.162308\n",
       "crosses_z          0.266923\n",
       "boxtouches_z       0.741538\n",
       "passes_z           0.566154\n",
       "progpasses_z       0.604615\n",
       "takeons_z         -0.193846\n",
       "progruns_z         0.526923\n",
       "tackles_z          0.376923\n",
       "interceptions_z    0.288462\n",
       "clearances_z      -0.490000\n",
       "blocks_z          -0.120769\n",
       "aerials_z         -0.350769\n",
       "fouls_z           -0.510769\n",
       "fouled_z          -0.260000\n",
       "nsxg_z             0.861538\n",
       "dtype: float64"
      ]
     },
     "execution_count": 68,
     "metadata": {},
     "output_type": "execute_result"
    }
   ],
   "source": [
    "ger2018"
   ]
  },
  {
   "cell_type": "code",
   "execution_count": 69,
   "metadata": {},
   "outputs": [],
   "source": [
    "# (.615385 + 1.417692) / -0.066154"
   ]
  },
  {
   "cell_type": "markdown",
   "metadata": {},
   "source": [
    "### Fouled"
   ]
  },
  {
   "cell_type": "code",
   "execution_count": 70,
   "metadata": {},
   "outputs": [],
   "source": [
    "# 0.196923 - -0.323077"
   ]
  },
  {
   "cell_type": "code",
   "execution_count": 71,
   "metadata": {},
   "outputs": [],
   "source": [
    "# new_row = {'Country': 'Germany', 'Year': 2018, 'goals_z': -0.066154, \n",
    "#            'xg_z': 0.615385, 'boxtouches_z': 1.570000, \n",
    "#            'progpasses_z': 0.565385, 'progruns_z': 0.930769, 'new_xg': -30.73248, \n",
    "#            'Fouled': 0.52, 'results': 32}\n",
    "\n",
    "# stats_df = stats_df.append(new_row, ignore_index=True)"
   ]
  },
  {
   "cell_type": "code",
   "execution_count": 72,
   "metadata": {},
   "outputs": [],
   "source": [
    "# stats_df"
   ]
  },
  {
   "cell_type": "markdown",
   "metadata": {},
   "source": [
    "## 2006"
   ]
  },
  {
   "cell_type": "code",
   "execution_count": 73,
   "metadata": {},
   "outputs": [],
   "source": [
    "ger2006year = ger_year.loc[ger_year[\"season\"].isin(year2006)]"
   ]
  },
  {
   "cell_type": "code",
   "execution_count": 74,
   "metadata": {},
   "outputs": [],
   "source": [
    "ger2006xg = ger2006year.sort_values(by=[\"goals_z\"], ascending=False)"
   ]
  },
  {
   "cell_type": "code",
   "execution_count": 75,
   "metadata": {},
   "outputs": [],
   "source": [
    "ger2006xg13 = ger2006xg.head(13)"
   ]
  },
  {
   "cell_type": "code",
   "execution_count": 76,
   "metadata": {},
   "outputs": [],
   "source": [
    "ger2006xg13 = ger2006xg13.drop(columns=['season', 'team'])\n"
   ]
  },
  {
   "cell_type": "code",
   "execution_count": 77,
   "metadata": {},
   "outputs": [],
   "source": [
    "ger2006 = ger2006xg13.mean()"
   ]
  },
  {
   "cell_type": "code",
   "execution_count": 78,
   "metadata": {},
   "outputs": [
    {
     "data": {
      "text/plain": [
       "goals_z            0.560000\n",
       "xg_z               0.225385\n",
       "crosses_z          0.015385\n",
       "boxtouches_z       0.206923\n",
       "passes_z           0.061538\n",
       "progpasses_z      -0.043077\n",
       "takeons_z         -0.203077\n",
       "progruns_z         0.036923\n",
       "tackles_z          0.370769\n",
       "interceptions_z   -0.070000\n",
       "clearances_z      -0.178462\n",
       "blocks_z          -0.349231\n",
       "aerials_z         -0.093846\n",
       "fouls_z           -0.165385\n",
       "fouled_z          -0.055385\n",
       "nsxg_z            -0.000769\n",
       "dtype: float64"
      ]
     },
     "execution_count": 78,
     "metadata": {},
     "output_type": "execute_result"
    }
   ],
   "source": [
    "ger2006"
   ]
  },
  {
   "cell_type": "code",
   "execution_count": 79,
   "metadata": {},
   "outputs": [],
   "source": [
    "# (.482308 + 0.350769) / 0.560000"
   ]
  },
  {
   "cell_type": "markdown",
   "metadata": {},
   "source": [
    "### Fouled"
   ]
  },
  {
   "cell_type": "code",
   "execution_count": 80,
   "metadata": {},
   "outputs": [],
   "source": [
    "# .354615 - .220769"
   ]
  },
  {
   "cell_type": "code",
   "execution_count": 81,
   "metadata": {},
   "outputs": [],
   "source": [
    "# new_row = {'Country': 'Germany', 'Year': 2006, 'goals_z': 0.560000, \n",
    "#            'xg_z': 0.482308, 'boxtouches_z': 0.450769, \n",
    "#            'progpasses_z': 0.300769, 'progruns_z': 0.272308, 'new_xg': 1.4876375, \n",
    "#            'Fouled': 1.4876375, 'results': 3}\n",
    "\n",
    "# stats_df = stats_df.append(new_row, ignore_index=True)"
   ]
  },
  {
   "cell_type": "markdown",
   "metadata": {},
   "source": [
    "## 2002"
   ]
  },
  {
   "cell_type": "code",
   "execution_count": 82,
   "metadata": {},
   "outputs": [],
   "source": [
    "ger2002year = ger_year.loc[ger_year[\"season\"].isin(year2002)]"
   ]
  },
  {
   "cell_type": "code",
   "execution_count": 83,
   "metadata": {},
   "outputs": [],
   "source": [
    "ger2002xg = ger2002year.sort_values(by=[\"goals_z\"], ascending=False)"
   ]
  },
  {
   "cell_type": "code",
   "execution_count": 84,
   "metadata": {},
   "outputs": [],
   "source": [
    "ger2002xg13 = ger2002xg.head(13)"
   ]
  },
  {
   "cell_type": "code",
   "execution_count": 85,
   "metadata": {},
   "outputs": [],
   "source": [
    "ger2002xg13 = ger2002xg13.drop(columns=['season', 'team'])\n"
   ]
  },
  {
   "cell_type": "code",
   "execution_count": 86,
   "metadata": {},
   "outputs": [],
   "source": [
    "ger2002 = ger2002xg13.mean()"
   ]
  },
  {
   "cell_type": "code",
   "execution_count": 87,
   "metadata": {},
   "outputs": [
    {
     "data": {
      "text/plain": [
       "goals_z            0.563077\n",
       "xg_z               0.288462\n",
       "crosses_z          0.093846\n",
       "boxtouches_z       0.223846\n",
       "passes_z          -0.443846\n",
       "progpasses_z      -0.369231\n",
       "takeons_z         -0.342308\n",
       "progruns_z        -0.298462\n",
       "tackles_z         -0.030769\n",
       "interceptions_z   -0.316154\n",
       "clearances_z      -0.322308\n",
       "blocks_z          -0.274615\n",
       "aerials_z          0.026923\n",
       "fouls_z           -0.260769\n",
       "fouled_z          -0.017692\n",
       "nsxg_z             0.113846\n",
       "dtype: float64"
      ]
     },
     "execution_count": 87,
     "metadata": {},
     "output_type": "execute_result"
    }
   ],
   "source": [
    "ger2002"
   ]
  },
  {
   "cell_type": "code",
   "execution_count": 88,
   "metadata": {},
   "outputs": [],
   "source": [
    "# (.426923 + 0.512308) / 0.563077"
   ]
  },
  {
   "cell_type": "markdown",
   "metadata": {},
   "source": [
    "### Fouled"
   ]
  },
  {
   "cell_type": "code",
   "execution_count": 89,
   "metadata": {},
   "outputs": [],
   "source": [
    "# .265385 - .211538"
   ]
  },
  {
   "cell_type": "code",
   "execution_count": 90,
   "metadata": {},
   "outputs": [],
   "source": [
    "# new_row = {'Country': 'Germany', 'Year': 2002, 'goals_z': 0.563077, \n",
    "#            'xg_z': 0.426923, 'boxtouches_z': 0.280769, \n",
    "#            'progpasses_z': -0.102308, 'progruns_z': 0.011538, 'new_xg': 1.668032968, \n",
    "#            'Fouled': 0.05384699, 'results': 2}\n",
    "\n",
    "# stats_df = stats_df.append(new_row, ignore_index=True)"
   ]
  },
  {
   "cell_type": "code",
   "execution_count": 91,
   "metadata": {},
   "outputs": [],
   "source": [
    "ger = pd.concat([ger2018, ger2014, ger2010, ger2006, ger2002], axis=1).T"
   ]
  },
  {
   "cell_type": "code",
   "execution_count": 92,
   "metadata": {},
   "outputs": [
    {
     "data": {
      "text/html": [
       "<div>\n",
       "<style scoped>\n",
       "    .dataframe tbody tr th:only-of-type {\n",
       "        vertical-align: middle;\n",
       "    }\n",
       "\n",
       "    .dataframe tbody tr th {\n",
       "        vertical-align: top;\n",
       "    }\n",
       "\n",
       "    .dataframe thead th {\n",
       "        text-align: right;\n",
       "    }\n",
       "</style>\n",
       "<table border=\"1\" class=\"dataframe\">\n",
       "  <thead>\n",
       "    <tr style=\"text-align: right;\">\n",
       "      <th></th>\n",
       "      <th>goals_z</th>\n",
       "      <th>xg_z</th>\n",
       "      <th>crosses_z</th>\n",
       "      <th>boxtouches_z</th>\n",
       "      <th>passes_z</th>\n",
       "      <th>progpasses_z</th>\n",
       "      <th>takeons_z</th>\n",
       "      <th>progruns_z</th>\n",
       "      <th>tackles_z</th>\n",
       "      <th>interceptions_z</th>\n",
       "      <th>clearances_z</th>\n",
       "      <th>blocks_z</th>\n",
       "      <th>aerials_z</th>\n",
       "      <th>fouls_z</th>\n",
       "      <th>fouled_z</th>\n",
       "      <th>nsxg_z</th>\n",
       "    </tr>\n",
       "  </thead>\n",
       "  <tbody>\n",
       "    <tr>\n",
       "      <th>0</th>\n",
       "      <td>-0.066154</td>\n",
       "      <td>0.162308</td>\n",
       "      <td>0.266923</td>\n",
       "      <td>0.741538</td>\n",
       "      <td>0.566154</td>\n",
       "      <td>0.604615</td>\n",
       "      <td>-0.193846</td>\n",
       "      <td>0.526923</td>\n",
       "      <td>0.376923</td>\n",
       "      <td>0.288462</td>\n",
       "      <td>-0.490000</td>\n",
       "      <td>-0.120769</td>\n",
       "      <td>-0.350769</td>\n",
       "      <td>-0.510769</td>\n",
       "      <td>-0.260000</td>\n",
       "      <td>0.861538</td>\n",
       "    </tr>\n",
       "    <tr>\n",
       "      <th>1</th>\n",
       "      <td>0.755385</td>\n",
       "      <td>0.614615</td>\n",
       "      <td>0.071538</td>\n",
       "      <td>0.436923</td>\n",
       "      <td>0.516923</td>\n",
       "      <td>0.344615</td>\n",
       "      <td>-0.132308</td>\n",
       "      <td>-0.006154</td>\n",
       "      <td>0.671538</td>\n",
       "      <td>-0.043846</td>\n",
       "      <td>-0.240769</td>\n",
       "      <td>-0.013846</td>\n",
       "      <td>-0.113846</td>\n",
       "      <td>-0.118462</td>\n",
       "      <td>0.043077</td>\n",
       "      <td>0.396154</td>\n",
       "    </tr>\n",
       "    <tr>\n",
       "      <th>2</th>\n",
       "      <td>0.816923</td>\n",
       "      <td>0.433846</td>\n",
       "      <td>-0.024615</td>\n",
       "      <td>0.452308</td>\n",
       "      <td>0.194615</td>\n",
       "      <td>-0.104615</td>\n",
       "      <td>0.006154</td>\n",
       "      <td>0.384615</td>\n",
       "      <td>0.047692</td>\n",
       "      <td>0.056923</td>\n",
       "      <td>-0.066923</td>\n",
       "      <td>0.276154</td>\n",
       "      <td>0.296154</td>\n",
       "      <td>-0.387692</td>\n",
       "      <td>-0.258462</td>\n",
       "      <td>0.276154</td>\n",
       "    </tr>\n",
       "    <tr>\n",
       "      <th>3</th>\n",
       "      <td>0.560000</td>\n",
       "      <td>0.225385</td>\n",
       "      <td>0.015385</td>\n",
       "      <td>0.206923</td>\n",
       "      <td>0.061538</td>\n",
       "      <td>-0.043077</td>\n",
       "      <td>-0.203077</td>\n",
       "      <td>0.036923</td>\n",
       "      <td>0.370769</td>\n",
       "      <td>-0.070000</td>\n",
       "      <td>-0.178462</td>\n",
       "      <td>-0.349231</td>\n",
       "      <td>-0.093846</td>\n",
       "      <td>-0.165385</td>\n",
       "      <td>-0.055385</td>\n",
       "      <td>-0.000769</td>\n",
       "    </tr>\n",
       "    <tr>\n",
       "      <th>4</th>\n",
       "      <td>0.563077</td>\n",
       "      <td>0.288462</td>\n",
       "      <td>0.093846</td>\n",
       "      <td>0.223846</td>\n",
       "      <td>-0.443846</td>\n",
       "      <td>-0.369231</td>\n",
       "      <td>-0.342308</td>\n",
       "      <td>-0.298462</td>\n",
       "      <td>-0.030769</td>\n",
       "      <td>-0.316154</td>\n",
       "      <td>-0.322308</td>\n",
       "      <td>-0.274615</td>\n",
       "      <td>0.026923</td>\n",
       "      <td>-0.260769</td>\n",
       "      <td>-0.017692</td>\n",
       "      <td>0.113846</td>\n",
       "    </tr>\n",
       "  </tbody>\n",
       "</table>\n",
       "</div>"
      ],
      "text/plain": [
       "    goals_z      xg_z  crosses_z  boxtouches_z  passes_z  progpasses_z  \\\n",
       "0 -0.066154  0.162308   0.266923      0.741538  0.566154      0.604615   \n",
       "1  0.755385  0.614615   0.071538      0.436923  0.516923      0.344615   \n",
       "2  0.816923  0.433846  -0.024615      0.452308  0.194615     -0.104615   \n",
       "3  0.560000  0.225385   0.015385      0.206923  0.061538     -0.043077   \n",
       "4  0.563077  0.288462   0.093846      0.223846 -0.443846     -0.369231   \n",
       "\n",
       "   takeons_z  progruns_z  tackles_z  interceptions_z  clearances_z  blocks_z  \\\n",
       "0  -0.193846    0.526923   0.376923         0.288462     -0.490000 -0.120769   \n",
       "1  -0.132308   -0.006154   0.671538        -0.043846     -0.240769 -0.013846   \n",
       "2   0.006154    0.384615   0.047692         0.056923     -0.066923  0.276154   \n",
       "3  -0.203077    0.036923   0.370769        -0.070000     -0.178462 -0.349231   \n",
       "4  -0.342308   -0.298462  -0.030769        -0.316154     -0.322308 -0.274615   \n",
       "\n",
       "   aerials_z   fouls_z  fouled_z    nsxg_z  \n",
       "0  -0.350769 -0.510769 -0.260000  0.861538  \n",
       "1  -0.113846 -0.118462  0.043077  0.396154  \n",
       "2   0.296154 -0.387692 -0.258462  0.276154  \n",
       "3  -0.093846 -0.165385 -0.055385 -0.000769  \n",
       "4   0.026923 -0.260769 -0.017692  0.113846  "
      ]
     },
     "execution_count": 92,
     "metadata": {},
     "output_type": "execute_result"
    }
   ],
   "source": [
    "ger"
   ]
  },
  {
   "cell_type": "code",
   "execution_count": 93,
   "metadata": {},
   "outputs": [],
   "source": [
    "ger.rename(index={0: 'Germany18', 1: 'Germany14', \n",
    "                 2: 'Germany10', 3: 'Germany06', 4: 'Germany02'}, inplace=True)"
   ]
  },
  {
   "cell_type": "code",
   "execution_count": 94,
   "metadata": {},
   "outputs": [
    {
     "data": {
      "text/html": [
       "<div>\n",
       "<style scoped>\n",
       "    .dataframe tbody tr th:only-of-type {\n",
       "        vertical-align: middle;\n",
       "    }\n",
       "\n",
       "    .dataframe tbody tr th {\n",
       "        vertical-align: top;\n",
       "    }\n",
       "\n",
       "    .dataframe thead th {\n",
       "        text-align: right;\n",
       "    }\n",
       "</style>\n",
       "<table border=\"1\" class=\"dataframe\">\n",
       "  <thead>\n",
       "    <tr style=\"text-align: right;\">\n",
       "      <th></th>\n",
       "      <th>goals_z</th>\n",
       "      <th>xg_z</th>\n",
       "      <th>crosses_z</th>\n",
       "      <th>boxtouches_z</th>\n",
       "      <th>passes_z</th>\n",
       "      <th>progpasses_z</th>\n",
       "      <th>takeons_z</th>\n",
       "      <th>progruns_z</th>\n",
       "      <th>tackles_z</th>\n",
       "      <th>interceptions_z</th>\n",
       "      <th>clearances_z</th>\n",
       "      <th>blocks_z</th>\n",
       "      <th>aerials_z</th>\n",
       "      <th>fouls_z</th>\n",
       "      <th>fouled_z</th>\n",
       "      <th>nsxg_z</th>\n",
       "    </tr>\n",
       "  </thead>\n",
       "  <tbody>\n",
       "    <tr>\n",
       "      <th>Germany18</th>\n",
       "      <td>-0.066154</td>\n",
       "      <td>0.162308</td>\n",
       "      <td>0.266923</td>\n",
       "      <td>0.741538</td>\n",
       "      <td>0.566154</td>\n",
       "      <td>0.604615</td>\n",
       "      <td>-0.193846</td>\n",
       "      <td>0.526923</td>\n",
       "      <td>0.376923</td>\n",
       "      <td>0.288462</td>\n",
       "      <td>-0.490000</td>\n",
       "      <td>-0.120769</td>\n",
       "      <td>-0.350769</td>\n",
       "      <td>-0.510769</td>\n",
       "      <td>-0.260000</td>\n",
       "      <td>0.861538</td>\n",
       "    </tr>\n",
       "    <tr>\n",
       "      <th>Germany14</th>\n",
       "      <td>0.755385</td>\n",
       "      <td>0.614615</td>\n",
       "      <td>0.071538</td>\n",
       "      <td>0.436923</td>\n",
       "      <td>0.516923</td>\n",
       "      <td>0.344615</td>\n",
       "      <td>-0.132308</td>\n",
       "      <td>-0.006154</td>\n",
       "      <td>0.671538</td>\n",
       "      <td>-0.043846</td>\n",
       "      <td>-0.240769</td>\n",
       "      <td>-0.013846</td>\n",
       "      <td>-0.113846</td>\n",
       "      <td>-0.118462</td>\n",
       "      <td>0.043077</td>\n",
       "      <td>0.396154</td>\n",
       "    </tr>\n",
       "    <tr>\n",
       "      <th>Germany10</th>\n",
       "      <td>0.816923</td>\n",
       "      <td>0.433846</td>\n",
       "      <td>-0.024615</td>\n",
       "      <td>0.452308</td>\n",
       "      <td>0.194615</td>\n",
       "      <td>-0.104615</td>\n",
       "      <td>0.006154</td>\n",
       "      <td>0.384615</td>\n",
       "      <td>0.047692</td>\n",
       "      <td>0.056923</td>\n",
       "      <td>-0.066923</td>\n",
       "      <td>0.276154</td>\n",
       "      <td>0.296154</td>\n",
       "      <td>-0.387692</td>\n",
       "      <td>-0.258462</td>\n",
       "      <td>0.276154</td>\n",
       "    </tr>\n",
       "    <tr>\n",
       "      <th>Germany06</th>\n",
       "      <td>0.560000</td>\n",
       "      <td>0.225385</td>\n",
       "      <td>0.015385</td>\n",
       "      <td>0.206923</td>\n",
       "      <td>0.061538</td>\n",
       "      <td>-0.043077</td>\n",
       "      <td>-0.203077</td>\n",
       "      <td>0.036923</td>\n",
       "      <td>0.370769</td>\n",
       "      <td>-0.070000</td>\n",
       "      <td>-0.178462</td>\n",
       "      <td>-0.349231</td>\n",
       "      <td>-0.093846</td>\n",
       "      <td>-0.165385</td>\n",
       "      <td>-0.055385</td>\n",
       "      <td>-0.000769</td>\n",
       "    </tr>\n",
       "    <tr>\n",
       "      <th>Germany02</th>\n",
       "      <td>0.563077</td>\n",
       "      <td>0.288462</td>\n",
       "      <td>0.093846</td>\n",
       "      <td>0.223846</td>\n",
       "      <td>-0.443846</td>\n",
       "      <td>-0.369231</td>\n",
       "      <td>-0.342308</td>\n",
       "      <td>-0.298462</td>\n",
       "      <td>-0.030769</td>\n",
       "      <td>-0.316154</td>\n",
       "      <td>-0.322308</td>\n",
       "      <td>-0.274615</td>\n",
       "      <td>0.026923</td>\n",
       "      <td>-0.260769</td>\n",
       "      <td>-0.017692</td>\n",
       "      <td>0.113846</td>\n",
       "    </tr>\n",
       "  </tbody>\n",
       "</table>\n",
       "</div>"
      ],
      "text/plain": [
       "            goals_z      xg_z  crosses_z  boxtouches_z  passes_z  \\\n",
       "Germany18 -0.066154  0.162308   0.266923      0.741538  0.566154   \n",
       "Germany14  0.755385  0.614615   0.071538      0.436923  0.516923   \n",
       "Germany10  0.816923  0.433846  -0.024615      0.452308  0.194615   \n",
       "Germany06  0.560000  0.225385   0.015385      0.206923  0.061538   \n",
       "Germany02  0.563077  0.288462   0.093846      0.223846 -0.443846   \n",
       "\n",
       "           progpasses_z  takeons_z  progruns_z  tackles_z  interceptions_z  \\\n",
       "Germany18      0.604615  -0.193846    0.526923   0.376923         0.288462   \n",
       "Germany14      0.344615  -0.132308   -0.006154   0.671538        -0.043846   \n",
       "Germany10     -0.104615   0.006154    0.384615   0.047692         0.056923   \n",
       "Germany06     -0.043077  -0.203077    0.036923   0.370769        -0.070000   \n",
       "Germany02     -0.369231  -0.342308   -0.298462  -0.030769        -0.316154   \n",
       "\n",
       "           clearances_z  blocks_z  aerials_z   fouls_z  fouled_z    nsxg_z  \n",
       "Germany18     -0.490000 -0.120769  -0.350769 -0.510769 -0.260000  0.861538  \n",
       "Germany14     -0.240769 -0.013846  -0.113846 -0.118462  0.043077  0.396154  \n",
       "Germany10     -0.066923  0.276154   0.296154 -0.387692 -0.258462  0.276154  \n",
       "Germany06     -0.178462 -0.349231  -0.093846 -0.165385 -0.055385 -0.000769  \n",
       "Germany02     -0.322308 -0.274615   0.026923 -0.260769 -0.017692  0.113846  "
      ]
     },
     "execution_count": 94,
     "metadata": {},
     "output_type": "execute_result"
    }
   ],
   "source": [
    "ger"
   ]
  },
  {
   "cell_type": "code",
   "execution_count": 95,
   "metadata": {},
   "outputs": [],
   "source": [
    "df2 = ger.assign(results=[32, 1, 3, 3, 2])"
   ]
  },
  {
   "cell_type": "code",
   "execution_count": 96,
   "metadata": {},
   "outputs": [
    {
     "data": {
      "text/html": [
       "<div>\n",
       "<style scoped>\n",
       "    .dataframe tbody tr th:only-of-type {\n",
       "        vertical-align: middle;\n",
       "    }\n",
       "\n",
       "    .dataframe tbody tr th {\n",
       "        vertical-align: top;\n",
       "    }\n",
       "\n",
       "    .dataframe thead th {\n",
       "        text-align: right;\n",
       "    }\n",
       "</style>\n",
       "<table border=\"1\" class=\"dataframe\">\n",
       "  <thead>\n",
       "    <tr style=\"text-align: right;\">\n",
       "      <th></th>\n",
       "      <th>goals_z</th>\n",
       "      <th>xg_z</th>\n",
       "      <th>crosses_z</th>\n",
       "      <th>boxtouches_z</th>\n",
       "      <th>passes_z</th>\n",
       "      <th>progpasses_z</th>\n",
       "      <th>takeons_z</th>\n",
       "      <th>progruns_z</th>\n",
       "      <th>tackles_z</th>\n",
       "      <th>interceptions_z</th>\n",
       "      <th>clearances_z</th>\n",
       "      <th>blocks_z</th>\n",
       "      <th>aerials_z</th>\n",
       "      <th>fouls_z</th>\n",
       "      <th>fouled_z</th>\n",
       "      <th>nsxg_z</th>\n",
       "      <th>results</th>\n",
       "    </tr>\n",
       "  </thead>\n",
       "  <tbody>\n",
       "    <tr>\n",
       "      <th>Germany18</th>\n",
       "      <td>-0.066154</td>\n",
       "      <td>0.162308</td>\n",
       "      <td>0.266923</td>\n",
       "      <td>0.741538</td>\n",
       "      <td>0.566154</td>\n",
       "      <td>0.604615</td>\n",
       "      <td>-0.193846</td>\n",
       "      <td>0.526923</td>\n",
       "      <td>0.376923</td>\n",
       "      <td>0.288462</td>\n",
       "      <td>-0.490000</td>\n",
       "      <td>-0.120769</td>\n",
       "      <td>-0.350769</td>\n",
       "      <td>-0.510769</td>\n",
       "      <td>-0.260000</td>\n",
       "      <td>0.861538</td>\n",
       "      <td>32</td>\n",
       "    </tr>\n",
       "    <tr>\n",
       "      <th>Germany14</th>\n",
       "      <td>0.755385</td>\n",
       "      <td>0.614615</td>\n",
       "      <td>0.071538</td>\n",
       "      <td>0.436923</td>\n",
       "      <td>0.516923</td>\n",
       "      <td>0.344615</td>\n",
       "      <td>-0.132308</td>\n",
       "      <td>-0.006154</td>\n",
       "      <td>0.671538</td>\n",
       "      <td>-0.043846</td>\n",
       "      <td>-0.240769</td>\n",
       "      <td>-0.013846</td>\n",
       "      <td>-0.113846</td>\n",
       "      <td>-0.118462</td>\n",
       "      <td>0.043077</td>\n",
       "      <td>0.396154</td>\n",
       "      <td>1</td>\n",
       "    </tr>\n",
       "    <tr>\n",
       "      <th>Germany10</th>\n",
       "      <td>0.816923</td>\n",
       "      <td>0.433846</td>\n",
       "      <td>-0.024615</td>\n",
       "      <td>0.452308</td>\n",
       "      <td>0.194615</td>\n",
       "      <td>-0.104615</td>\n",
       "      <td>0.006154</td>\n",
       "      <td>0.384615</td>\n",
       "      <td>0.047692</td>\n",
       "      <td>0.056923</td>\n",
       "      <td>-0.066923</td>\n",
       "      <td>0.276154</td>\n",
       "      <td>0.296154</td>\n",
       "      <td>-0.387692</td>\n",
       "      <td>-0.258462</td>\n",
       "      <td>0.276154</td>\n",
       "      <td>3</td>\n",
       "    </tr>\n",
       "    <tr>\n",
       "      <th>Germany06</th>\n",
       "      <td>0.560000</td>\n",
       "      <td>0.225385</td>\n",
       "      <td>0.015385</td>\n",
       "      <td>0.206923</td>\n",
       "      <td>0.061538</td>\n",
       "      <td>-0.043077</td>\n",
       "      <td>-0.203077</td>\n",
       "      <td>0.036923</td>\n",
       "      <td>0.370769</td>\n",
       "      <td>-0.070000</td>\n",
       "      <td>-0.178462</td>\n",
       "      <td>-0.349231</td>\n",
       "      <td>-0.093846</td>\n",
       "      <td>-0.165385</td>\n",
       "      <td>-0.055385</td>\n",
       "      <td>-0.000769</td>\n",
       "      <td>3</td>\n",
       "    </tr>\n",
       "    <tr>\n",
       "      <th>Germany02</th>\n",
       "      <td>0.563077</td>\n",
       "      <td>0.288462</td>\n",
       "      <td>0.093846</td>\n",
       "      <td>0.223846</td>\n",
       "      <td>-0.443846</td>\n",
       "      <td>-0.369231</td>\n",
       "      <td>-0.342308</td>\n",
       "      <td>-0.298462</td>\n",
       "      <td>-0.030769</td>\n",
       "      <td>-0.316154</td>\n",
       "      <td>-0.322308</td>\n",
       "      <td>-0.274615</td>\n",
       "      <td>0.026923</td>\n",
       "      <td>-0.260769</td>\n",
       "      <td>-0.017692</td>\n",
       "      <td>0.113846</td>\n",
       "      <td>2</td>\n",
       "    </tr>\n",
       "  </tbody>\n",
       "</table>\n",
       "</div>"
      ],
      "text/plain": [
       "            goals_z      xg_z  crosses_z  boxtouches_z  passes_z  \\\n",
       "Germany18 -0.066154  0.162308   0.266923      0.741538  0.566154   \n",
       "Germany14  0.755385  0.614615   0.071538      0.436923  0.516923   \n",
       "Germany10  0.816923  0.433846  -0.024615      0.452308  0.194615   \n",
       "Germany06  0.560000  0.225385   0.015385      0.206923  0.061538   \n",
       "Germany02  0.563077  0.288462   0.093846      0.223846 -0.443846   \n",
       "\n",
       "           progpasses_z  takeons_z  progruns_z  tackles_z  interceptions_z  \\\n",
       "Germany18      0.604615  -0.193846    0.526923   0.376923         0.288462   \n",
       "Germany14      0.344615  -0.132308   -0.006154   0.671538        -0.043846   \n",
       "Germany10     -0.104615   0.006154    0.384615   0.047692         0.056923   \n",
       "Germany06     -0.043077  -0.203077    0.036923   0.370769        -0.070000   \n",
       "Germany02     -0.369231  -0.342308   -0.298462  -0.030769        -0.316154   \n",
       "\n",
       "           clearances_z  blocks_z  aerials_z   fouls_z  fouled_z    nsxg_z  \\\n",
       "Germany18     -0.490000 -0.120769  -0.350769 -0.510769 -0.260000  0.861538   \n",
       "Germany14     -0.240769 -0.013846  -0.113846 -0.118462  0.043077  0.396154   \n",
       "Germany10     -0.066923  0.276154   0.296154 -0.387692 -0.258462  0.276154   \n",
       "Germany06     -0.178462 -0.349231  -0.093846 -0.165385 -0.055385 -0.000769   \n",
       "Germany02     -0.322308 -0.274615   0.026923 -0.260769 -0.017692  0.113846   \n",
       "\n",
       "           results  \n",
       "Germany18       32  \n",
       "Germany14        1  \n",
       "Germany10        3  \n",
       "Germany06        3  \n",
       "Germany02        2  "
      ]
     },
     "execution_count": 96,
     "metadata": {},
     "output_type": "execute_result"
    }
   ],
   "source": [
    "df2"
   ]
  },
  {
   "cell_type": "code",
   "execution_count": 97,
   "metadata": {},
   "outputs": [],
   "source": [
    "# df2.to_csv('germany1.csv', index=False)"
   ]
  },
  {
   "cell_type": "markdown",
   "metadata": {},
   "source": [
    "# Switzerland\n",
    "* 2010: -1.76 \n",
    "* 2014: 1.954\n",
    "* 2018: 2.143"
   ]
  },
  {
   "cell_type": "code",
   "execution_count": 98,
   "metadata": {},
   "outputs": [],
   "source": [
    "swits = ['Switzerland']"
   ]
  },
  {
   "cell_type": "code",
   "execution_count": 99,
   "metadata": {},
   "outputs": [],
   "source": [
    "swiss_year = comparisons.loc[comparisons[\"team\"].isin(swits)]"
   ]
  },
  {
   "cell_type": "code",
   "execution_count": 100,
   "metadata": {},
   "outputs": [],
   "source": [
    "swiss2010year = swiss_year.loc[swiss_year[\"season\"].isin(year2010)]"
   ]
  },
  {
   "cell_type": "code",
   "execution_count": 101,
   "metadata": {},
   "outputs": [],
   "source": [
    "ch2010xg = swiss2010year.sort_values(by=[\"xg_z\"], ascending=False)"
   ]
  },
  {
   "cell_type": "code",
   "execution_count": 102,
   "metadata": {},
   "outputs": [],
   "source": [
    "ch2010xg13 = ch2010xg.head(13)"
   ]
  },
  {
   "cell_type": "code",
   "execution_count": 103,
   "metadata": {},
   "outputs": [],
   "source": [
    "ch2010xg13 = ch2010xg13.drop(columns=['season', 'team'])\n"
   ]
  },
  {
   "cell_type": "code",
   "execution_count": 104,
   "metadata": {},
   "outputs": [],
   "source": [
    "ch2010 = ch2010xg13.mean()"
   ]
  },
  {
   "cell_type": "code",
   "execution_count": 105,
   "metadata": {},
   "outputs": [
    {
     "data": {
      "text/plain": [
       "goals_z           -0.222308\n",
       "xg_z               0.122308\n",
       "crosses_z          0.251538\n",
       "boxtouches_z       0.128462\n",
       "passes_z          -0.108462\n",
       "progpasses_z       0.071538\n",
       "takeons_z          0.090769\n",
       "progruns_z        -0.068462\n",
       "tackles_z         -0.446154\n",
       "interceptions_z    0.276154\n",
       "clearances_z       0.367692\n",
       "blocks_z          -0.122308\n",
       "aerials_z          0.059231\n",
       "fouls_z            0.429231\n",
       "fouled_z           0.042308\n",
       "nsxg_z             0.269231\n",
       "dtype: float64"
      ]
     },
     "execution_count": 105,
     "metadata": {},
     "output_type": "execute_result"
    }
   ],
   "source": [
    "ch2010"
   ]
  },
  {
   "cell_type": "code",
   "execution_count": 106,
   "metadata": {},
   "outputs": [
    {
     "data": {
      "text/plain": [
       "-1.761245659175558"
      ]
     },
     "execution_count": 106,
     "metadata": {},
     "output_type": "execute_result"
    }
   ],
   "source": [
    "# (.122308 + .269231) / -0.222308"
   ]
  },
  {
   "cell_type": "markdown",
   "metadata": {},
   "source": [
    "### Fouled"
   ]
  },
  {
   "cell_type": "code",
   "execution_count": 107,
   "metadata": {},
   "outputs": [
    {
     "data": {
      "text/plain": [
       "-0.38692299999999996"
      ]
     },
     "execution_count": 107,
     "metadata": {},
     "output_type": "execute_result"
    }
   ],
   "source": [
    "# .042308 - .429231"
   ]
  },
  {
   "cell_type": "code",
   "execution_count": 336,
   "metadata": {},
   "outputs": [],
   "source": [
    "# new_row = {'Country': 'Switzerland', 'Year': 2010, 'goals_z': -0.222308, 'xg_z': 0.122308,\n",
    "#            'boxtouches_z': 0.128462, 'progpasses_z': 0.071538, 'progruns_z': -0.068462, \n",
    "#            'new_xg': -1.7612, 'Fouled': -0.3869, 'results': 32}\n",
    "\n",
    "# stats_df = stats_df.append(new_row, ignore_index=True)"
   ]
  },
  {
   "cell_type": "code",
   "execution_count": null,
   "metadata": {},
   "outputs": [],
   "source": [
    "stats_df"
   ]
  },
  {
   "cell_type": "markdown",
   "metadata": {},
   "source": [
    "## 2014"
   ]
  },
  {
   "cell_type": "code",
   "execution_count": 337,
   "metadata": {},
   "outputs": [],
   "source": [
    "swiss2014year = swiss_year.loc[swiss_year[\"season\"].isin(year2014)]"
   ]
  },
  {
   "cell_type": "code",
   "execution_count": 338,
   "metadata": {},
   "outputs": [],
   "source": [
    "ch2014xg = swiss2014year.sort_values(by=[\"xg_z\"], ascending=False)"
   ]
  },
  {
   "cell_type": "code",
   "execution_count": 339,
   "metadata": {},
   "outputs": [],
   "source": [
    "ch2014xg13 = ch2014xg.head(13)"
   ]
  },
  {
   "cell_type": "code",
   "execution_count": 340,
   "metadata": {},
   "outputs": [],
   "source": [
    "ch2014xg13 = ch2014xg13.drop(columns=['season', 'team'])\n"
   ]
  },
  {
   "cell_type": "code",
   "execution_count": 341,
   "metadata": {},
   "outputs": [],
   "source": [
    "ch2014 = ch2014xg13.mean()"
   ]
  },
  {
   "cell_type": "code",
   "execution_count": 342,
   "metadata": {},
   "outputs": [
    {
     "data": {
      "text/plain": [
       "goals_z            0.387692\n",
       "xg_z               0.550769\n",
       "crosses_z          0.022308\n",
       "boxtouches_z       0.138462\n",
       "passes_z           0.072308\n",
       "progpasses_z       0.213077\n",
       "takeons_z          0.010000\n",
       "progruns_z         0.050769\n",
       "tackles_z          0.204615\n",
       "interceptions_z   -0.194615\n",
       "clearances_z      -0.060769\n",
       "blocks_z          -0.215385\n",
       "aerials_z         -0.130000\n",
       "fouls_z            0.323077\n",
       "fouled_z           0.382308\n",
       "nsxg_z             0.206923\n",
       "dtype: float64"
      ]
     },
     "execution_count": 342,
     "metadata": {},
     "output_type": "execute_result"
    }
   ],
   "source": [
    "ch2014"
   ]
  },
  {
   "cell_type": "code",
   "execution_count": null,
   "metadata": {},
   "outputs": [],
   "source": [
    "# (.550769 + .206923) / .387692"
   ]
  },
  {
   "cell_type": "markdown",
   "metadata": {},
   "source": [
    "### Fouled"
   ]
  },
  {
   "cell_type": "code",
   "execution_count": null,
   "metadata": {},
   "outputs": [],
   "source": [
    "# .382308 - .323077"
   ]
  },
  {
   "cell_type": "code",
   "execution_count": null,
   "metadata": {},
   "outputs": [],
   "source": [
    "# new_row = {'Country': 'Switzerland', 'Year': 2014,  'goals_z': 0.387692, 'xg_z': 0.550769, \n",
    "#            'boxtouches_z': 0.138462, 'progpasses_z': 0.213077, 'progruns_z': 0.050769, \n",
    "#            'new_xg': 1.9543, 'Fouled': 0.05923, 'results': 16}\n",
    "\n",
    "# stats_df = stats_df.append(new_row, ignore_index=True)"
   ]
  },
  {
   "cell_type": "code",
   "execution_count": null,
   "metadata": {},
   "outputs": [],
   "source": [
    "# stats_df"
   ]
  },
  {
   "cell_type": "markdown",
   "metadata": {},
   "source": [
    "## 2018"
   ]
  },
  {
   "cell_type": "code",
   "execution_count": 343,
   "metadata": {},
   "outputs": [],
   "source": [
    "swiss2018year = swiss_year.loc[swiss_year[\"season\"].isin(year2018)]"
   ]
  },
  {
   "cell_type": "code",
   "execution_count": 344,
   "metadata": {},
   "outputs": [],
   "source": [
    "ch2018xg = swiss2018year.sort_values(by=[\"xg_z\"], ascending=False)"
   ]
  },
  {
   "cell_type": "code",
   "execution_count": 345,
   "metadata": {},
   "outputs": [],
   "source": [
    "ch2018xg13 = ch2018xg.head(13)"
   ]
  },
  {
   "cell_type": "code",
   "execution_count": 346,
   "metadata": {},
   "outputs": [],
   "source": [
    "ch2018xg13 = ch2018xg13.drop(columns=['season', 'team'])\n"
   ]
  },
  {
   "cell_type": "code",
   "execution_count": 347,
   "metadata": {},
   "outputs": [],
   "source": [
    "ch2018 = ch2018xg13.mean()"
   ]
  },
  {
   "cell_type": "code",
   "execution_count": 348,
   "metadata": {},
   "outputs": [
    {
     "data": {
      "text/plain": [
       "goals_z            0.241538\n",
       "xg_z               0.330769\n",
       "crosses_z          0.522308\n",
       "boxtouches_z       0.181538\n",
       "passes_z           0.219231\n",
       "progpasses_z       0.113077\n",
       "takeons_z          0.045385\n",
       "progruns_z         0.286923\n",
       "tackles_z          0.679231\n",
       "interceptions_z    0.503077\n",
       "clearances_z      -0.172308\n",
       "blocks_z           0.457692\n",
       "aerials_z         -0.246923\n",
       "fouls_z           -0.040000\n",
       "fouled_z           0.116154\n",
       "nsxg_z             0.186923\n",
       "dtype: float64"
      ]
     },
     "execution_count": 348,
     "metadata": {},
     "output_type": "execute_result"
    }
   ],
   "source": [
    "ch2018"
   ]
  },
  {
   "cell_type": "code",
   "execution_count": null,
   "metadata": {},
   "outputs": [],
   "source": [
    "# (.330769 + .186923) / 0.241538"
   ]
  },
  {
   "cell_type": "markdown",
   "metadata": {},
   "source": [
    "### Fouled"
   ]
  },
  {
   "cell_type": "code",
   "execution_count": null,
   "metadata": {},
   "outputs": [],
   "source": [
    "# .116154 - -0.040000"
   ]
  },
  {
   "cell_type": "code",
   "execution_count": null,
   "metadata": {},
   "outputs": [],
   "source": [
    "# new_row = {'Country': 'Switzerland', 'Year': 2018, 'goals_z': 0.241538, 'xg_z': 0.330769, \n",
    "#            'boxtouches_z': 0.181538, 'progpasses_z': 0.113077, 'progruns_z': 0.286923, \n",
    "#            'new_xg': 2.1433, 'Fouled': 0.1561, 'results': 16}\n",
    "\n",
    "# stats_df = stats_df.append(new_row, ignore_index=True)"
   ]
  },
  {
   "cell_type": "code",
   "execution_count": null,
   "metadata": {},
   "outputs": [],
   "source": [
    "# stats_df"
   ]
  },
  {
   "cell_type": "markdown",
   "metadata": {},
   "source": [
    "## 2006"
   ]
  },
  {
   "cell_type": "code",
   "execution_count": 349,
   "metadata": {},
   "outputs": [],
   "source": [
    "swiss2006year = swiss_year.loc[swiss_year[\"season\"].isin(year2006)]"
   ]
  },
  {
   "cell_type": "code",
   "execution_count": 350,
   "metadata": {},
   "outputs": [],
   "source": [
    "ch2006xg = swiss2006year.sort_values(by=[\"xg_z\"], ascending=False)"
   ]
  },
  {
   "cell_type": "code",
   "execution_count": 351,
   "metadata": {},
   "outputs": [],
   "source": [
    "ch2006xg13 = ch2006xg.head(13)"
   ]
  },
  {
   "cell_type": "code",
   "execution_count": 352,
   "metadata": {},
   "outputs": [],
   "source": [
    "ch2006xg13 = ch2006xg13.drop(columns=['season', 'team'])\n"
   ]
  },
  {
   "cell_type": "code",
   "execution_count": 353,
   "metadata": {},
   "outputs": [],
   "source": [
    "ch2006 = ch2006xg13.mean()"
   ]
  },
  {
   "cell_type": "code",
   "execution_count": 354,
   "metadata": {},
   "outputs": [
    {
     "data": {
      "text/plain": [
       "goals_z            0.113077\n",
       "xg_z               0.003846\n",
       "crosses_z         -0.050000\n",
       "boxtouches_z      -0.033077\n",
       "passes_z           0.225385\n",
       "progpasses_z       0.148462\n",
       "takeons_z         -0.013077\n",
       "progruns_z        -0.072308\n",
       "tackles_z          0.570769\n",
       "interceptions_z    0.958462\n",
       "clearances_z       0.206154\n",
       "blocks_z          -0.008462\n",
       "aerials_z          0.479231\n",
       "fouls_z           -0.151538\n",
       "fouled_z           0.146154\n",
       "nsxg_z            -0.044615\n",
       "dtype: float64"
      ]
     },
     "execution_count": 354,
     "metadata": {},
     "output_type": "execute_result"
    }
   ],
   "source": [
    "ch2006"
   ]
  },
  {
   "cell_type": "code",
   "execution_count": null,
   "metadata": {},
   "outputs": [],
   "source": [
    "# (.003846 + -0.044615) / 0.113077"
   ]
  },
  {
   "cell_type": "markdown",
   "metadata": {},
   "source": [
    "### Fouled"
   ]
  },
  {
   "cell_type": "code",
   "execution_count": null,
   "metadata": {},
   "outputs": [],
   "source": [
    "# .146154 - -0.151538"
   ]
  },
  {
   "cell_type": "code",
   "execution_count": null,
   "metadata": {},
   "outputs": [],
   "source": [
    "# new_row = {'Country': 'Switzerland', 'Year': 2006, 'goals_z': 0.113077, 'xg_z': 0.003846, \n",
    "#            'boxtouches_z': -0.033077, 'progpasses_z': 0.148462, 'progruns_z': -0.072308, \n",
    "#            'new_xg': -0.360541, 'Fouled': 0.297692, 'results': 16}\n",
    "\n",
    "# stats_df = stats_df.append(new_row, ignore_index=True)"
   ]
  },
  {
   "cell_type": "markdown",
   "metadata": {},
   "source": [
    "## 2002 NA"
   ]
  },
  {
   "cell_type": "code",
   "execution_count": 355,
   "metadata": {},
   "outputs": [],
   "source": [
    "swis = pd.concat([ch2006, ch2010, ch2014, ch2018], axis=1).T"
   ]
  },
  {
   "cell_type": "code",
   "execution_count": 356,
   "metadata": {},
   "outputs": [
    {
     "data": {
      "text/html": [
       "<div>\n",
       "<style scoped>\n",
       "    .dataframe tbody tr th:only-of-type {\n",
       "        vertical-align: middle;\n",
       "    }\n",
       "\n",
       "    .dataframe tbody tr th {\n",
       "        vertical-align: top;\n",
       "    }\n",
       "\n",
       "    .dataframe thead th {\n",
       "        text-align: right;\n",
       "    }\n",
       "</style>\n",
       "<table border=\"1\" class=\"dataframe\">\n",
       "  <thead>\n",
       "    <tr style=\"text-align: right;\">\n",
       "      <th></th>\n",
       "      <th>goals_z</th>\n",
       "      <th>xg_z</th>\n",
       "      <th>crosses_z</th>\n",
       "      <th>boxtouches_z</th>\n",
       "      <th>passes_z</th>\n",
       "      <th>progpasses_z</th>\n",
       "      <th>takeons_z</th>\n",
       "      <th>progruns_z</th>\n",
       "      <th>tackles_z</th>\n",
       "      <th>interceptions_z</th>\n",
       "      <th>clearances_z</th>\n",
       "      <th>blocks_z</th>\n",
       "      <th>aerials_z</th>\n",
       "      <th>fouls_z</th>\n",
       "      <th>fouled_z</th>\n",
       "      <th>nsxg_z</th>\n",
       "    </tr>\n",
       "  </thead>\n",
       "  <tbody>\n",
       "    <tr>\n",
       "      <th>0</th>\n",
       "      <td>0.113077</td>\n",
       "      <td>0.003846</td>\n",
       "      <td>-0.050000</td>\n",
       "      <td>-0.033077</td>\n",
       "      <td>0.225385</td>\n",
       "      <td>0.148462</td>\n",
       "      <td>-0.013077</td>\n",
       "      <td>-0.072308</td>\n",
       "      <td>0.570769</td>\n",
       "      <td>0.958462</td>\n",
       "      <td>0.206154</td>\n",
       "      <td>-0.008462</td>\n",
       "      <td>0.479231</td>\n",
       "      <td>-0.151538</td>\n",
       "      <td>0.146154</td>\n",
       "      <td>-0.044615</td>\n",
       "    </tr>\n",
       "    <tr>\n",
       "      <th>1</th>\n",
       "      <td>-0.222308</td>\n",
       "      <td>0.122308</td>\n",
       "      <td>0.251538</td>\n",
       "      <td>0.128462</td>\n",
       "      <td>-0.108462</td>\n",
       "      <td>0.071538</td>\n",
       "      <td>0.090769</td>\n",
       "      <td>-0.068462</td>\n",
       "      <td>-0.446154</td>\n",
       "      <td>0.276154</td>\n",
       "      <td>0.367692</td>\n",
       "      <td>-0.122308</td>\n",
       "      <td>0.059231</td>\n",
       "      <td>0.429231</td>\n",
       "      <td>0.042308</td>\n",
       "      <td>0.269231</td>\n",
       "    </tr>\n",
       "    <tr>\n",
       "      <th>2</th>\n",
       "      <td>0.387692</td>\n",
       "      <td>0.550769</td>\n",
       "      <td>0.022308</td>\n",
       "      <td>0.138462</td>\n",
       "      <td>0.072308</td>\n",
       "      <td>0.213077</td>\n",
       "      <td>0.010000</td>\n",
       "      <td>0.050769</td>\n",
       "      <td>0.204615</td>\n",
       "      <td>-0.194615</td>\n",
       "      <td>-0.060769</td>\n",
       "      <td>-0.215385</td>\n",
       "      <td>-0.130000</td>\n",
       "      <td>0.323077</td>\n",
       "      <td>0.382308</td>\n",
       "      <td>0.206923</td>\n",
       "    </tr>\n",
       "    <tr>\n",
       "      <th>3</th>\n",
       "      <td>0.241538</td>\n",
       "      <td>0.330769</td>\n",
       "      <td>0.522308</td>\n",
       "      <td>0.181538</td>\n",
       "      <td>0.219231</td>\n",
       "      <td>0.113077</td>\n",
       "      <td>0.045385</td>\n",
       "      <td>0.286923</td>\n",
       "      <td>0.679231</td>\n",
       "      <td>0.503077</td>\n",
       "      <td>-0.172308</td>\n",
       "      <td>0.457692</td>\n",
       "      <td>-0.246923</td>\n",
       "      <td>-0.040000</td>\n",
       "      <td>0.116154</td>\n",
       "      <td>0.186923</td>\n",
       "    </tr>\n",
       "  </tbody>\n",
       "</table>\n",
       "</div>"
      ],
      "text/plain": [
       "    goals_z      xg_z  crosses_z  boxtouches_z  passes_z  progpasses_z  \\\n",
       "0  0.113077  0.003846  -0.050000     -0.033077  0.225385      0.148462   \n",
       "1 -0.222308  0.122308   0.251538      0.128462 -0.108462      0.071538   \n",
       "2  0.387692  0.550769   0.022308      0.138462  0.072308      0.213077   \n",
       "3  0.241538  0.330769   0.522308      0.181538  0.219231      0.113077   \n",
       "\n",
       "   takeons_z  progruns_z  tackles_z  interceptions_z  clearances_z  blocks_z  \\\n",
       "0  -0.013077   -0.072308   0.570769         0.958462      0.206154 -0.008462   \n",
       "1   0.090769   -0.068462  -0.446154         0.276154      0.367692 -0.122308   \n",
       "2   0.010000    0.050769   0.204615        -0.194615     -0.060769 -0.215385   \n",
       "3   0.045385    0.286923   0.679231         0.503077     -0.172308  0.457692   \n",
       "\n",
       "   aerials_z   fouls_z  fouled_z    nsxg_z  \n",
       "0   0.479231 -0.151538  0.146154 -0.044615  \n",
       "1   0.059231  0.429231  0.042308  0.269231  \n",
       "2  -0.130000  0.323077  0.382308  0.206923  \n",
       "3  -0.246923 -0.040000  0.116154  0.186923  "
      ]
     },
     "execution_count": 356,
     "metadata": {},
     "output_type": "execute_result"
    }
   ],
   "source": [
    "swis"
   ]
  },
  {
   "cell_type": "code",
   "execution_count": 357,
   "metadata": {},
   "outputs": [],
   "source": [
    "swis.rename(index={0: 'Switzerland06', 1: 'Switzerland10', \n",
    "                 2: 'Switzerland14', 3: 'Switzerland18'}, inplace=True)"
   ]
  },
  {
   "cell_type": "code",
   "execution_count": 358,
   "metadata": {},
   "outputs": [
    {
     "data": {
      "text/html": [
       "<div>\n",
       "<style scoped>\n",
       "    .dataframe tbody tr th:only-of-type {\n",
       "        vertical-align: middle;\n",
       "    }\n",
       "\n",
       "    .dataframe tbody tr th {\n",
       "        vertical-align: top;\n",
       "    }\n",
       "\n",
       "    .dataframe thead th {\n",
       "        text-align: right;\n",
       "    }\n",
       "</style>\n",
       "<table border=\"1\" class=\"dataframe\">\n",
       "  <thead>\n",
       "    <tr style=\"text-align: right;\">\n",
       "      <th></th>\n",
       "      <th>goals_z</th>\n",
       "      <th>xg_z</th>\n",
       "      <th>crosses_z</th>\n",
       "      <th>boxtouches_z</th>\n",
       "      <th>passes_z</th>\n",
       "      <th>progpasses_z</th>\n",
       "      <th>takeons_z</th>\n",
       "      <th>progruns_z</th>\n",
       "      <th>tackles_z</th>\n",
       "      <th>interceptions_z</th>\n",
       "      <th>clearances_z</th>\n",
       "      <th>blocks_z</th>\n",
       "      <th>aerials_z</th>\n",
       "      <th>fouls_z</th>\n",
       "      <th>fouled_z</th>\n",
       "      <th>nsxg_z</th>\n",
       "    </tr>\n",
       "  </thead>\n",
       "  <tbody>\n",
       "    <tr>\n",
       "      <th>Switzerland06</th>\n",
       "      <td>0.113077</td>\n",
       "      <td>0.003846</td>\n",
       "      <td>-0.050000</td>\n",
       "      <td>-0.033077</td>\n",
       "      <td>0.225385</td>\n",
       "      <td>0.148462</td>\n",
       "      <td>-0.013077</td>\n",
       "      <td>-0.072308</td>\n",
       "      <td>0.570769</td>\n",
       "      <td>0.958462</td>\n",
       "      <td>0.206154</td>\n",
       "      <td>-0.008462</td>\n",
       "      <td>0.479231</td>\n",
       "      <td>-0.151538</td>\n",
       "      <td>0.146154</td>\n",
       "      <td>-0.044615</td>\n",
       "    </tr>\n",
       "    <tr>\n",
       "      <th>Switzerland10</th>\n",
       "      <td>-0.222308</td>\n",
       "      <td>0.122308</td>\n",
       "      <td>0.251538</td>\n",
       "      <td>0.128462</td>\n",
       "      <td>-0.108462</td>\n",
       "      <td>0.071538</td>\n",
       "      <td>0.090769</td>\n",
       "      <td>-0.068462</td>\n",
       "      <td>-0.446154</td>\n",
       "      <td>0.276154</td>\n",
       "      <td>0.367692</td>\n",
       "      <td>-0.122308</td>\n",
       "      <td>0.059231</td>\n",
       "      <td>0.429231</td>\n",
       "      <td>0.042308</td>\n",
       "      <td>0.269231</td>\n",
       "    </tr>\n",
       "    <tr>\n",
       "      <th>Switzerland14</th>\n",
       "      <td>0.387692</td>\n",
       "      <td>0.550769</td>\n",
       "      <td>0.022308</td>\n",
       "      <td>0.138462</td>\n",
       "      <td>0.072308</td>\n",
       "      <td>0.213077</td>\n",
       "      <td>0.010000</td>\n",
       "      <td>0.050769</td>\n",
       "      <td>0.204615</td>\n",
       "      <td>-0.194615</td>\n",
       "      <td>-0.060769</td>\n",
       "      <td>-0.215385</td>\n",
       "      <td>-0.130000</td>\n",
       "      <td>0.323077</td>\n",
       "      <td>0.382308</td>\n",
       "      <td>0.206923</td>\n",
       "    </tr>\n",
       "    <tr>\n",
       "      <th>Switzerland18</th>\n",
       "      <td>0.241538</td>\n",
       "      <td>0.330769</td>\n",
       "      <td>0.522308</td>\n",
       "      <td>0.181538</td>\n",
       "      <td>0.219231</td>\n",
       "      <td>0.113077</td>\n",
       "      <td>0.045385</td>\n",
       "      <td>0.286923</td>\n",
       "      <td>0.679231</td>\n",
       "      <td>0.503077</td>\n",
       "      <td>-0.172308</td>\n",
       "      <td>0.457692</td>\n",
       "      <td>-0.246923</td>\n",
       "      <td>-0.040000</td>\n",
       "      <td>0.116154</td>\n",
       "      <td>0.186923</td>\n",
       "    </tr>\n",
       "  </tbody>\n",
       "</table>\n",
       "</div>"
      ],
      "text/plain": [
       "                goals_z      xg_z  crosses_z  boxtouches_z  passes_z  \\\n",
       "Switzerland06  0.113077  0.003846  -0.050000     -0.033077  0.225385   \n",
       "Switzerland10 -0.222308  0.122308   0.251538      0.128462 -0.108462   \n",
       "Switzerland14  0.387692  0.550769   0.022308      0.138462  0.072308   \n",
       "Switzerland18  0.241538  0.330769   0.522308      0.181538  0.219231   \n",
       "\n",
       "               progpasses_z  takeons_z  progruns_z  tackles_z  \\\n",
       "Switzerland06      0.148462  -0.013077   -0.072308   0.570769   \n",
       "Switzerland10      0.071538   0.090769   -0.068462  -0.446154   \n",
       "Switzerland14      0.213077   0.010000    0.050769   0.204615   \n",
       "Switzerland18      0.113077   0.045385    0.286923   0.679231   \n",
       "\n",
       "               interceptions_z  clearances_z  blocks_z  aerials_z   fouls_z  \\\n",
       "Switzerland06         0.958462      0.206154 -0.008462   0.479231 -0.151538   \n",
       "Switzerland10         0.276154      0.367692 -0.122308   0.059231  0.429231   \n",
       "Switzerland14        -0.194615     -0.060769 -0.215385  -0.130000  0.323077   \n",
       "Switzerland18         0.503077     -0.172308  0.457692  -0.246923 -0.040000   \n",
       "\n",
       "               fouled_z    nsxg_z  \n",
       "Switzerland06  0.146154 -0.044615  \n",
       "Switzerland10  0.042308  0.269231  \n",
       "Switzerland14  0.382308  0.206923  \n",
       "Switzerland18  0.116154  0.186923  "
      ]
     },
     "execution_count": 358,
     "metadata": {},
     "output_type": "execute_result"
    }
   ],
   "source": [
    "swis"
   ]
  },
  {
   "cell_type": "code",
   "execution_count": 359,
   "metadata": {},
   "outputs": [],
   "source": [
    "df2 = swis.assign(results=[10, 19, 11, 14])"
   ]
  },
  {
   "cell_type": "markdown",
   "metadata": {},
   "source": [
    "- 10 \t  Switzerland \tG \t4 \t2 \t2 \t0 \t4 \t0 \t+4 \t8 - 2006\n",
    "- 14 \t  Switzerland \tE \t4 \t1 \t2 \t1 \t5 \t5 \t5 \t0 - 2018\n",
    "- 11 \t  Switzerland \tE \t4 \t2 \t0 \t2 \t6 \t7 \t7 \t0  - 2014\n",
    "- 19 \t  Switzerland \tH \t3 \t1 \t1 \t1 \t1 \t1 \t0 \t4 - 2010"
   ]
  },
  {
   "cell_type": "code",
   "execution_count": 360,
   "metadata": {},
   "outputs": [],
   "source": [
    "# df2.to_csv('Switzerland1.csv', index=False)"
   ]
  },
  {
   "cell_type": "markdown",
   "metadata": {},
   "source": [
    "# Spain"
   ]
  },
  {
   "cell_type": "code",
   "execution_count": 42,
   "metadata": {},
   "outputs": [],
   "source": [
    "es = ['Spain']"
   ]
  },
  {
   "cell_type": "code",
   "execution_count": 43,
   "metadata": {},
   "outputs": [],
   "source": [
    "es_year = comparisons.loc[comparisons[\"team\"].isin(es)]"
   ]
  },
  {
   "cell_type": "code",
   "execution_count": 44,
   "metadata": {},
   "outputs": [],
   "source": [
    "es2010year = es_year.loc[es_year[\"season\"].isin(year2010)]"
   ]
  },
  {
   "cell_type": "code",
   "execution_count": 45,
   "metadata": {},
   "outputs": [],
   "source": [
    "es2010xg = es2010year.sort_values(by=[\"xg_z\"], ascending=False)"
   ]
  },
  {
   "cell_type": "code",
   "execution_count": 46,
   "metadata": {},
   "outputs": [],
   "source": [
    "es2010xg13 = es2010xg.head(13)"
   ]
  },
  {
   "cell_type": "code",
   "execution_count": 47,
   "metadata": {},
   "outputs": [],
   "source": [
    "es2010xg13 = es2010xg13.drop(columns=['season', 'team'])\n"
   ]
  },
  {
   "cell_type": "code",
   "execution_count": 48,
   "metadata": {},
   "outputs": [],
   "source": [
    "es2010 = es2010xg13.mean()"
   ]
  },
  {
   "cell_type": "code",
   "execution_count": 49,
   "metadata": {},
   "outputs": [
    {
     "data": {
      "text/plain": [
       "goals_z            0.180000\n",
       "xg_z               0.539231\n",
       "crosses_z          0.383077\n",
       "boxtouches_z       0.868462\n",
       "passes_z           1.156923\n",
       "progpasses_z       0.320000\n",
       "takeons_z          0.616923\n",
       "progruns_z         1.432308\n",
       "tackles_z          0.753846\n",
       "interceptions_z    0.910000\n",
       "clearances_z       0.026923\n",
       "blocks_z           0.636154\n",
       "aerials_z          0.286154\n",
       "fouls_z           -0.138462\n",
       "fouled_z           0.464615\n",
       "nsxg_z             0.762308\n",
       "dtype: float64"
      ]
     },
     "execution_count": 49,
     "metadata": {},
     "output_type": "execute_result"
    }
   ],
   "source": [
    "es2010"
   ]
  },
  {
   "cell_type": "code",
   "execution_count": 50,
   "metadata": {},
   "outputs": [],
   "source": [
    "# (.539231 + .762308) / .180000"
   ]
  },
  {
   "cell_type": "markdown",
   "metadata": {},
   "source": [
    "### Fouled"
   ]
  },
  {
   "cell_type": "code",
   "execution_count": 51,
   "metadata": {},
   "outputs": [],
   "source": [
    "# .464615 - -0.138462"
   ]
  },
  {
   "cell_type": "code",
   "execution_count": 52,
   "metadata": {},
   "outputs": [],
   "source": [
    "# new_row = {'Country': 'Spain', 'Year': 2010, 'goals_z': 0.180000, 'xg_z': 0.539231, \n",
    "#            'boxtouches_z': 0.868462,'progpasses_z': 0.320000, 'progruns_z': 1.432308, \n",
    "#            'new_xg': 7.2307, 'Fouled': 0.60307, 'results': 1}\n",
    "\n",
    "# stats_df = stats_df.append(new_row, ignore_index=True)"
   ]
  },
  {
   "cell_type": "markdown",
   "metadata": {},
   "source": [
    "## 2014"
   ]
  },
  {
   "cell_type": "code",
   "execution_count": 53,
   "metadata": {},
   "outputs": [],
   "source": [
    "es2014year = es_year.loc[es_year[\"season\"].isin(year2014)]"
   ]
  },
  {
   "cell_type": "code",
   "execution_count": 54,
   "metadata": {},
   "outputs": [],
   "source": [
    "es2014xg = es2014year.sort_values(by=[\"xg_z\"], ascending=False)"
   ]
  },
  {
   "cell_type": "code",
   "execution_count": 55,
   "metadata": {},
   "outputs": [],
   "source": [
    "es2014xg13 = es2014xg.head(13)"
   ]
  },
  {
   "cell_type": "code",
   "execution_count": 56,
   "metadata": {},
   "outputs": [],
   "source": [
    "es2014xg13 = es2014xg13.drop(columns=['season', 'team'])\n"
   ]
  },
  {
   "cell_type": "code",
   "execution_count": 57,
   "metadata": {},
   "outputs": [],
   "source": [
    "es2014 = es2014xg13.mean()"
   ]
  },
  {
   "cell_type": "code",
   "execution_count": 58,
   "metadata": {},
   "outputs": [
    {
     "data": {
      "text/plain": [
       "goals_z            0.243846\n",
       "xg_z               0.536154\n",
       "crosses_z         -0.076154\n",
       "boxtouches_z       0.596923\n",
       "passes_z           0.770769\n",
       "progpasses_z      -0.052308\n",
       "takeons_z         -0.182308\n",
       "progruns_z         0.489231\n",
       "tackles_z          1.146154\n",
       "interceptions_z    0.657692\n",
       "clearances_z      -0.383077\n",
       "blocks_z          -0.379231\n",
       "aerials_z          0.017692\n",
       "fouls_z           -0.391538\n",
       "fouled_z           0.333077\n",
       "nsxg_z             0.412308\n",
       "dtype: float64"
      ]
     },
     "execution_count": 58,
     "metadata": {},
     "output_type": "execute_result"
    }
   ],
   "source": [
    "es2014"
   ]
  },
  {
   "cell_type": "code",
   "execution_count": 59,
   "metadata": {},
   "outputs": [],
   "source": [
    "# (.536154 + .412308) / .243846"
   ]
  },
  {
   "cell_type": "markdown",
   "metadata": {},
   "source": [
    "### Fouled"
   ]
  },
  {
   "cell_type": "code",
   "execution_count": 60,
   "metadata": {},
   "outputs": [],
   "source": [
    "# 0.333077 - -0.391538"
   ]
  },
  {
   "cell_type": "code",
   "execution_count": 61,
   "metadata": {},
   "outputs": [],
   "source": [
    "# new_row = {'Country': 'Spain', 'Year': 2014, 'goals_z': 0.243846, 'xg_z': 0.536154, \n",
    "#            'boxtouches_z': 0.596923, 'progpasses_z': -0.052308, 'progruns_z': 0.489231, \n",
    "#            'new_xg': 3.8895, 'Fouled': 0.724615, 'results': 32}\n",
    "\n",
    "# stats_df = stats_df.append(new_row, ignore_index=True)"
   ]
  },
  {
   "cell_type": "markdown",
   "metadata": {},
   "source": [
    "## 2018"
   ]
  },
  {
   "cell_type": "code",
   "execution_count": 62,
   "metadata": {},
   "outputs": [],
   "source": [
    "es2018year = es_year.loc[es_year[\"season\"].isin(year2018)]"
   ]
  },
  {
   "cell_type": "code",
   "execution_count": 63,
   "metadata": {},
   "outputs": [],
   "source": [
    "es2018xg = es2018year.sort_values(by=[\"xg_z\"], ascending=False)"
   ]
  },
  {
   "cell_type": "code",
   "execution_count": 64,
   "metadata": {},
   "outputs": [],
   "source": [
    "es2018xg13 = es2018xg.head(13)"
   ]
  },
  {
   "cell_type": "code",
   "execution_count": 65,
   "metadata": {},
   "outputs": [],
   "source": [
    "es2018xg13 = es2018xg13.drop(columns=['season', 'team'])\n"
   ]
  },
  {
   "cell_type": "code",
   "execution_count": 66,
   "metadata": {},
   "outputs": [],
   "source": [
    "es2018 = es2018xg13.mean()"
   ]
  },
  {
   "cell_type": "code",
   "execution_count": 67,
   "metadata": {},
   "outputs": [
    {
     "data": {
      "text/plain": [
       "goals_z            0.190769\n",
       "xg_z               0.680769\n",
       "crosses_z          0.319231\n",
       "boxtouches_z       0.763077\n",
       "passes_z           1.410769\n",
       "progpasses_z       0.267692\n",
       "takeons_z          0.516923\n",
       "progruns_z         0.981538\n",
       "tackles_z          0.420000\n",
       "interceptions_z    0.449231\n",
       "clearances_z      -0.392308\n",
       "blocks_z           0.094615\n",
       "aerials_z         -0.016923\n",
       "fouls_z           -0.410000\n",
       "fouled_z           0.195385\n",
       "nsxg_z             0.726154\n",
       "dtype: float64"
      ]
     },
     "execution_count": 67,
     "metadata": {},
     "output_type": "execute_result"
    }
   ],
   "source": [
    "es2018\n"
   ]
  },
  {
   "cell_type": "code",
   "execution_count": 68,
   "metadata": {},
   "outputs": [],
   "source": [
    "# (.680769 + .726154) / .190769"
   ]
  },
  {
   "cell_type": "markdown",
   "metadata": {},
   "source": [
    "### Fouled"
   ]
  },
  {
   "cell_type": "code",
   "execution_count": 69,
   "metadata": {},
   "outputs": [],
   "source": [
    "# .195385 - -0.410000"
   ]
  },
  {
   "cell_type": "code",
   "execution_count": 70,
   "metadata": {},
   "outputs": [],
   "source": [
    "# new_row = {'Country': 'Spain', 'Year': 2018, 'goals_z': 0.190769, 'xg_z': 0.680769, \n",
    "#            'boxtouches_z': 0.763077, 'progpasses_z': 0.267692, 'progruns_z': 0.981538, \n",
    "#            'new_xg': 7.37500, 'Fouled': 0.605385, 'results': 16}\n",
    "\n",
    "# stats_df = stats_df.append(new_row, ignore_index=True)"
   ]
  },
  {
   "cell_type": "code",
   "execution_count": 71,
   "metadata": {},
   "outputs": [],
   "source": [
    "# stats_df"
   ]
  },
  {
   "cell_type": "markdown",
   "metadata": {},
   "source": [
    "## 2006"
   ]
  },
  {
   "cell_type": "code",
   "execution_count": 72,
   "metadata": {},
   "outputs": [],
   "source": [
    "es2006year = es_year.loc[es_year[\"season\"].isin(year2006)]"
   ]
  },
  {
   "cell_type": "code",
   "execution_count": 73,
   "metadata": {},
   "outputs": [],
   "source": [
    "es2006xg = es2006year.sort_values(by=[\"xg_z\"], ascending=False)"
   ]
  },
  {
   "cell_type": "code",
   "execution_count": 74,
   "metadata": {},
   "outputs": [],
   "source": [
    "es2006xg13 = es2006xg.head(13)"
   ]
  },
  {
   "cell_type": "code",
   "execution_count": 75,
   "metadata": {},
   "outputs": [],
   "source": [
    "es2006xg13 = es2006xg13.drop(columns=['season', 'team'])\n"
   ]
  },
  {
   "cell_type": "code",
   "execution_count": 76,
   "metadata": {},
   "outputs": [],
   "source": [
    "es2006 = es2006xg13.mean()"
   ]
  },
  {
   "cell_type": "code",
   "execution_count": 77,
   "metadata": {},
   "outputs": [
    {
     "data": {
      "text/plain": [
       "goals_z            0.881538\n",
       "xg_z               1.015385\n",
       "crosses_z          0.637692\n",
       "boxtouches_z       0.533077\n",
       "passes_z           0.500769\n",
       "progpasses_z       0.266154\n",
       "takeons_z          0.676923\n",
       "progruns_z         0.080000\n",
       "tackles_z          0.447692\n",
       "interceptions_z    1.215385\n",
       "clearances_z      -0.337692\n",
       "blocks_z          -0.442308\n",
       "aerials_z         -0.273077\n",
       "fouls_z            0.041538\n",
       "fouled_z           0.093077\n",
       "nsxg_z             0.650769\n",
       "dtype: float64"
      ]
     },
     "execution_count": 77,
     "metadata": {},
     "output_type": "execute_result"
    }
   ],
   "source": [
    "es2006\n"
   ]
  },
  {
   "cell_type": "code",
   "execution_count": 78,
   "metadata": {},
   "outputs": [],
   "source": [
    "# (1.015385 + .650769) / .881538"
   ]
  },
  {
   "cell_type": "markdown",
   "metadata": {},
   "source": [
    "### Fouled"
   ]
  },
  {
   "cell_type": "code",
   "execution_count": 79,
   "metadata": {},
   "outputs": [],
   "source": [
    "# .093077 - .041538"
   ]
  },
  {
   "cell_type": "code",
   "execution_count": 80,
   "metadata": {},
   "outputs": [],
   "source": [
    "# new_row = {'Country': 'Spain', 'Year': 2006, 'goals_z': 0.881538, 'xg_z': 1.015385, \n",
    "#            'boxtouches_z': 0.533077, 'progpasses_z': 0.266154, 'progruns_z': 0.080000, \n",
    "#            'new_xg': 1.890053, 'Fouled': 0.051538999, 'results': 16}\n",
    "\n",
    "# stats_df = stats_df.append(new_row, ignore_index=True)"
   ]
  },
  {
   "cell_type": "markdown",
   "metadata": {},
   "source": [
    "## 2002"
   ]
  },
  {
   "cell_type": "code",
   "execution_count": 81,
   "metadata": {},
   "outputs": [],
   "source": [
    "es2002year = es_year.loc[es_year[\"season\"].isin(year2002)]"
   ]
  },
  {
   "cell_type": "code",
   "execution_count": 82,
   "metadata": {},
   "outputs": [],
   "source": [
    "es2002xg = es2002year.sort_values(by=[\"xg_z\"], ascending=False)"
   ]
  },
  {
   "cell_type": "code",
   "execution_count": 83,
   "metadata": {},
   "outputs": [],
   "source": [
    "es2002xg13 = es2002xg.head(13)"
   ]
  },
  {
   "cell_type": "code",
   "execution_count": 84,
   "metadata": {},
   "outputs": [],
   "source": [
    "es2002xg13 = es2002xg13.drop(columns=['season', 'team'])\n"
   ]
  },
  {
   "cell_type": "code",
   "execution_count": 85,
   "metadata": {},
   "outputs": [],
   "source": [
    "es2002 = es2002xg13.mean()"
   ]
  },
  {
   "cell_type": "code",
   "execution_count": 86,
   "metadata": {},
   "outputs": [
    {
     "data": {
      "text/plain": [
       "goals_z            0.451538\n",
       "xg_z               0.495385\n",
       "crosses_z         -0.012308\n",
       "boxtouches_z       0.182308\n",
       "passes_z           0.003077\n",
       "progpasses_z      -0.222308\n",
       "takeons_z          0.012308\n",
       "progruns_z         0.130769\n",
       "tackles_z          0.147692\n",
       "interceptions_z   -0.010000\n",
       "clearances_z      -0.193846\n",
       "blocks_z          -0.215385\n",
       "aerials_z          0.151538\n",
       "fouls_z           -0.287692\n",
       "fouled_z           0.157692\n",
       "nsxg_z             0.132308\n",
       "dtype: float64"
      ]
     },
     "execution_count": 86,
     "metadata": {},
     "output_type": "execute_result"
    }
   ],
   "source": [
    "es2002\n"
   ]
  },
  {
   "cell_type": "code",
   "execution_count": 87,
   "metadata": {},
   "outputs": [],
   "source": [
    "# (.495385 + .132308) / .451538"
   ]
  },
  {
   "cell_type": "markdown",
   "metadata": {},
   "source": [
    "### Fouled"
   ]
  },
  {
   "cell_type": "code",
   "execution_count": 88,
   "metadata": {},
   "outputs": [],
   "source": [
    "# .157692 - -0.287692"
   ]
  },
  {
   "cell_type": "code",
   "execution_count": 89,
   "metadata": {},
   "outputs": [],
   "source": [
    "# new_row = {'Country': 'Spain', 'Year': 2002, 'goals_z': 0.451538, 'xg_z': 0.495385, \n",
    "#            'boxtouches_z': 0.182308, 'progpasses_z': -0.222308, 'progruns_z': 0.130769, \n",
    "#            'new_xg': 1.390122, 'Fouled': 0.445384, 'results': 8}\n",
    "\n",
    "# stats_df = stats_df.append(new_row, ignore_index=True)"
   ]
  },
  {
   "cell_type": "markdown",
   "metadata": {},
   "source": [
    "- es2002\n",
    "- es2006\n",
    "- es2018\n",
    "- es2014\n",
    "- es2010"
   ]
  },
  {
   "cell_type": "code",
   "execution_count": 90,
   "metadata": {},
   "outputs": [],
   "source": [
    "spa = pd.concat([es2002, es2006, es2010, es2014, es2018], axis=1).T"
   ]
  },
  {
   "cell_type": "code",
   "execution_count": 91,
   "metadata": {},
   "outputs": [
    {
     "data": {
      "text/html": [
       "<div>\n",
       "<style scoped>\n",
       "    .dataframe tbody tr th:only-of-type {\n",
       "        vertical-align: middle;\n",
       "    }\n",
       "\n",
       "    .dataframe tbody tr th {\n",
       "        vertical-align: top;\n",
       "    }\n",
       "\n",
       "    .dataframe thead th {\n",
       "        text-align: right;\n",
       "    }\n",
       "</style>\n",
       "<table border=\"1\" class=\"dataframe\">\n",
       "  <thead>\n",
       "    <tr style=\"text-align: right;\">\n",
       "      <th></th>\n",
       "      <th>goals_z</th>\n",
       "      <th>xg_z</th>\n",
       "      <th>crosses_z</th>\n",
       "      <th>boxtouches_z</th>\n",
       "      <th>passes_z</th>\n",
       "      <th>progpasses_z</th>\n",
       "      <th>takeons_z</th>\n",
       "      <th>progruns_z</th>\n",
       "      <th>tackles_z</th>\n",
       "      <th>interceptions_z</th>\n",
       "      <th>clearances_z</th>\n",
       "      <th>blocks_z</th>\n",
       "      <th>aerials_z</th>\n",
       "      <th>fouls_z</th>\n",
       "      <th>fouled_z</th>\n",
       "      <th>nsxg_z</th>\n",
       "    </tr>\n",
       "  </thead>\n",
       "  <tbody>\n",
       "    <tr>\n",
       "      <th>0</th>\n",
       "      <td>0.451538</td>\n",
       "      <td>0.495385</td>\n",
       "      <td>-0.012308</td>\n",
       "      <td>0.182308</td>\n",
       "      <td>0.003077</td>\n",
       "      <td>-0.222308</td>\n",
       "      <td>0.012308</td>\n",
       "      <td>0.130769</td>\n",
       "      <td>0.147692</td>\n",
       "      <td>-0.010000</td>\n",
       "      <td>-0.193846</td>\n",
       "      <td>-0.215385</td>\n",
       "      <td>0.151538</td>\n",
       "      <td>-0.287692</td>\n",
       "      <td>0.157692</td>\n",
       "      <td>0.132308</td>\n",
       "    </tr>\n",
       "    <tr>\n",
       "      <th>1</th>\n",
       "      <td>0.881538</td>\n",
       "      <td>1.015385</td>\n",
       "      <td>0.637692</td>\n",
       "      <td>0.533077</td>\n",
       "      <td>0.500769</td>\n",
       "      <td>0.266154</td>\n",
       "      <td>0.676923</td>\n",
       "      <td>0.080000</td>\n",
       "      <td>0.447692</td>\n",
       "      <td>1.215385</td>\n",
       "      <td>-0.337692</td>\n",
       "      <td>-0.442308</td>\n",
       "      <td>-0.273077</td>\n",
       "      <td>0.041538</td>\n",
       "      <td>0.093077</td>\n",
       "      <td>0.650769</td>\n",
       "    </tr>\n",
       "    <tr>\n",
       "      <th>2</th>\n",
       "      <td>0.180000</td>\n",
       "      <td>0.539231</td>\n",
       "      <td>0.383077</td>\n",
       "      <td>0.868462</td>\n",
       "      <td>1.156923</td>\n",
       "      <td>0.320000</td>\n",
       "      <td>0.616923</td>\n",
       "      <td>1.432308</td>\n",
       "      <td>0.753846</td>\n",
       "      <td>0.910000</td>\n",
       "      <td>0.026923</td>\n",
       "      <td>0.636154</td>\n",
       "      <td>0.286154</td>\n",
       "      <td>-0.138462</td>\n",
       "      <td>0.464615</td>\n",
       "      <td>0.762308</td>\n",
       "    </tr>\n",
       "    <tr>\n",
       "      <th>3</th>\n",
       "      <td>0.243846</td>\n",
       "      <td>0.536154</td>\n",
       "      <td>-0.076154</td>\n",
       "      <td>0.596923</td>\n",
       "      <td>0.770769</td>\n",
       "      <td>-0.052308</td>\n",
       "      <td>-0.182308</td>\n",
       "      <td>0.489231</td>\n",
       "      <td>1.146154</td>\n",
       "      <td>0.657692</td>\n",
       "      <td>-0.383077</td>\n",
       "      <td>-0.379231</td>\n",
       "      <td>0.017692</td>\n",
       "      <td>-0.391538</td>\n",
       "      <td>0.333077</td>\n",
       "      <td>0.412308</td>\n",
       "    </tr>\n",
       "    <tr>\n",
       "      <th>4</th>\n",
       "      <td>0.190769</td>\n",
       "      <td>0.680769</td>\n",
       "      <td>0.319231</td>\n",
       "      <td>0.763077</td>\n",
       "      <td>1.410769</td>\n",
       "      <td>0.267692</td>\n",
       "      <td>0.516923</td>\n",
       "      <td>0.981538</td>\n",
       "      <td>0.420000</td>\n",
       "      <td>0.449231</td>\n",
       "      <td>-0.392308</td>\n",
       "      <td>0.094615</td>\n",
       "      <td>-0.016923</td>\n",
       "      <td>-0.410000</td>\n",
       "      <td>0.195385</td>\n",
       "      <td>0.726154</td>\n",
       "    </tr>\n",
       "  </tbody>\n",
       "</table>\n",
       "</div>"
      ],
      "text/plain": [
       "    goals_z      xg_z  crosses_z  boxtouches_z  passes_z  progpasses_z  \\\n",
       "0  0.451538  0.495385  -0.012308      0.182308  0.003077     -0.222308   \n",
       "1  0.881538  1.015385   0.637692      0.533077  0.500769      0.266154   \n",
       "2  0.180000  0.539231   0.383077      0.868462  1.156923      0.320000   \n",
       "3  0.243846  0.536154  -0.076154      0.596923  0.770769     -0.052308   \n",
       "4  0.190769  0.680769   0.319231      0.763077  1.410769      0.267692   \n",
       "\n",
       "   takeons_z  progruns_z  tackles_z  interceptions_z  clearances_z  blocks_z  \\\n",
       "0   0.012308    0.130769   0.147692        -0.010000     -0.193846 -0.215385   \n",
       "1   0.676923    0.080000   0.447692         1.215385     -0.337692 -0.442308   \n",
       "2   0.616923    1.432308   0.753846         0.910000      0.026923  0.636154   \n",
       "3  -0.182308    0.489231   1.146154         0.657692     -0.383077 -0.379231   \n",
       "4   0.516923    0.981538   0.420000         0.449231     -0.392308  0.094615   \n",
       "\n",
       "   aerials_z   fouls_z  fouled_z    nsxg_z  \n",
       "0   0.151538 -0.287692  0.157692  0.132308  \n",
       "1  -0.273077  0.041538  0.093077  0.650769  \n",
       "2   0.286154 -0.138462  0.464615  0.762308  \n",
       "3   0.017692 -0.391538  0.333077  0.412308  \n",
       "4  -0.016923 -0.410000  0.195385  0.726154  "
      ]
     },
     "execution_count": 91,
     "metadata": {},
     "output_type": "execute_result"
    }
   ],
   "source": [
    "spa"
   ]
  },
  {
   "cell_type": "code",
   "execution_count": 92,
   "metadata": {},
   "outputs": [],
   "source": [
    "spa.rename(index={0: 'Spain02', 1: 'Spain06', \n",
    "                 2: 'Spain10', 3: 'Spain14', 4: 'Spain18'}, inplace=True)\n",
    "\n"
   ]
  },
  {
   "cell_type": "markdown",
   "metadata": {},
   "source": [
    "- 10 \t Spain \tB \t4 \t1 \t3 \t0 \t6 \t7 \t6 \t+1\n",
    "- 23 \t Spain \tB \t3 \t1 \t0 \t2 \t3 \t4 \t7 \t−3\n",
    "- 1 \t Spain \tH \t7 \t6 \t0 \t1 \t8 \t2 \t+6 \t18\n",
    "- 9 \t Spain \tH \t4 \t3 \t0 \t1 \t9 \t4 \t+5 \t9\n",
    "- 5 \tB \t Spain \t5 \t3 \t2 \t0 \t10 \t5 \t+5 \t11"
   ]
  },
  {
   "cell_type": "code",
   "execution_count": 93,
   "metadata": {},
   "outputs": [],
   "source": [
    "# df2 = spa.assign(results=[10, 23, 1, 9, 5])"
   ]
  },
  {
   "cell_type": "code",
   "execution_count": 1078,
   "metadata": {},
   "outputs": [
    {
     "data": {
      "text/html": [
       "<div>\n",
       "<style scoped>\n",
       "    .dataframe tbody tr th:only-of-type {\n",
       "        vertical-align: middle;\n",
       "    }\n",
       "\n",
       "    .dataframe tbody tr th {\n",
       "        vertical-align: top;\n",
       "    }\n",
       "\n",
       "    .dataframe thead th {\n",
       "        text-align: right;\n",
       "    }\n",
       "</style>\n",
       "<table border=\"1\" class=\"dataframe\">\n",
       "  <thead>\n",
       "    <tr style=\"text-align: right;\">\n",
       "      <th></th>\n",
       "      <th>goals_z</th>\n",
       "      <th>xg_z</th>\n",
       "      <th>crosses_z</th>\n",
       "      <th>boxtouches_z</th>\n",
       "      <th>passes_z</th>\n",
       "      <th>progpasses_z</th>\n",
       "      <th>takeons_z</th>\n",
       "      <th>progruns_z</th>\n",
       "      <th>tackles_z</th>\n",
       "      <th>interceptions_z</th>\n",
       "      <th>clearances_z</th>\n",
       "      <th>blocks_z</th>\n",
       "      <th>aerials_z</th>\n",
       "      <th>fouls_z</th>\n",
       "      <th>fouled_z</th>\n",
       "      <th>nsxg_z</th>\n",
       "      <th>results</th>\n",
       "    </tr>\n",
       "  </thead>\n",
       "  <tbody>\n",
       "    <tr>\n",
       "      <th>Spain02</th>\n",
       "      <td>0.451538</td>\n",
       "      <td>0.495385</td>\n",
       "      <td>-0.012308</td>\n",
       "      <td>0.182308</td>\n",
       "      <td>0.003077</td>\n",
       "      <td>-0.222308</td>\n",
       "      <td>0.012308</td>\n",
       "      <td>0.130769</td>\n",
       "      <td>0.147692</td>\n",
       "      <td>-0.010000</td>\n",
       "      <td>-0.193846</td>\n",
       "      <td>-0.215385</td>\n",
       "      <td>0.151538</td>\n",
       "      <td>-0.287692</td>\n",
       "      <td>0.157692</td>\n",
       "      <td>0.132308</td>\n",
       "      <td>10</td>\n",
       "    </tr>\n",
       "    <tr>\n",
       "      <th>Spain06</th>\n",
       "      <td>0.881538</td>\n",
       "      <td>1.015385</td>\n",
       "      <td>0.637692</td>\n",
       "      <td>0.533077</td>\n",
       "      <td>0.500769</td>\n",
       "      <td>0.266154</td>\n",
       "      <td>0.676923</td>\n",
       "      <td>0.080000</td>\n",
       "      <td>0.447692</td>\n",
       "      <td>1.215385</td>\n",
       "      <td>-0.337692</td>\n",
       "      <td>-0.442308</td>\n",
       "      <td>-0.273077</td>\n",
       "      <td>0.041538</td>\n",
       "      <td>0.093077</td>\n",
       "      <td>0.650769</td>\n",
       "      <td>23</td>\n",
       "    </tr>\n",
       "    <tr>\n",
       "      <th>Spain10</th>\n",
       "      <td>0.180000</td>\n",
       "      <td>0.539231</td>\n",
       "      <td>0.383077</td>\n",
       "      <td>0.868462</td>\n",
       "      <td>1.156923</td>\n",
       "      <td>0.320000</td>\n",
       "      <td>0.616923</td>\n",
       "      <td>1.432308</td>\n",
       "      <td>0.753846</td>\n",
       "      <td>0.910000</td>\n",
       "      <td>0.026923</td>\n",
       "      <td>0.636154</td>\n",
       "      <td>0.286154</td>\n",
       "      <td>-0.138462</td>\n",
       "      <td>0.464615</td>\n",
       "      <td>0.762308</td>\n",
       "      <td>1</td>\n",
       "    </tr>\n",
       "    <tr>\n",
       "      <th>Spain14</th>\n",
       "      <td>0.243846</td>\n",
       "      <td>0.536154</td>\n",
       "      <td>-0.076154</td>\n",
       "      <td>0.596923</td>\n",
       "      <td>0.770769</td>\n",
       "      <td>-0.052308</td>\n",
       "      <td>-0.182308</td>\n",
       "      <td>0.489231</td>\n",
       "      <td>1.146154</td>\n",
       "      <td>0.657692</td>\n",
       "      <td>-0.383077</td>\n",
       "      <td>-0.379231</td>\n",
       "      <td>0.017692</td>\n",
       "      <td>-0.391538</td>\n",
       "      <td>0.333077</td>\n",
       "      <td>0.412308</td>\n",
       "      <td>9</td>\n",
       "    </tr>\n",
       "    <tr>\n",
       "      <th>Spain18</th>\n",
       "      <td>0.190769</td>\n",
       "      <td>0.680769</td>\n",
       "      <td>0.319231</td>\n",
       "      <td>0.763077</td>\n",
       "      <td>1.410769</td>\n",
       "      <td>0.267692</td>\n",
       "      <td>0.516923</td>\n",
       "      <td>0.981538</td>\n",
       "      <td>0.420000</td>\n",
       "      <td>0.449231</td>\n",
       "      <td>-0.392308</td>\n",
       "      <td>0.094615</td>\n",
       "      <td>-0.016923</td>\n",
       "      <td>-0.410000</td>\n",
       "      <td>0.195385</td>\n",
       "      <td>0.726154</td>\n",
       "      <td>5</td>\n",
       "    </tr>\n",
       "  </tbody>\n",
       "</table>\n",
       "</div>"
      ],
      "text/plain": [
       "          goals_z      xg_z  crosses_z  boxtouches_z  passes_z  progpasses_z  \\\n",
       "Spain02  0.451538  0.495385  -0.012308      0.182308  0.003077     -0.222308   \n",
       "Spain06  0.881538  1.015385   0.637692      0.533077  0.500769      0.266154   \n",
       "Spain10  0.180000  0.539231   0.383077      0.868462  1.156923      0.320000   \n",
       "Spain14  0.243846  0.536154  -0.076154      0.596923  0.770769     -0.052308   \n",
       "Spain18  0.190769  0.680769   0.319231      0.763077  1.410769      0.267692   \n",
       "\n",
       "         takeons_z  progruns_z  tackles_z  interceptions_z  clearances_z  \\\n",
       "Spain02   0.012308    0.130769   0.147692        -0.010000     -0.193846   \n",
       "Spain06   0.676923    0.080000   0.447692         1.215385     -0.337692   \n",
       "Spain10   0.616923    1.432308   0.753846         0.910000      0.026923   \n",
       "Spain14  -0.182308    0.489231   1.146154         0.657692     -0.383077   \n",
       "Spain18   0.516923    0.981538   0.420000         0.449231     -0.392308   \n",
       "\n",
       "         blocks_z  aerials_z   fouls_z  fouled_z    nsxg_z  results  \n",
       "Spain02 -0.215385   0.151538 -0.287692  0.157692  0.132308       10  \n",
       "Spain06 -0.442308  -0.273077  0.041538  0.093077  0.650769       23  \n",
       "Spain10  0.636154   0.286154 -0.138462  0.464615  0.762308        1  \n",
       "Spain14 -0.379231   0.017692 -0.391538  0.333077  0.412308        9  \n",
       "Spain18  0.094615  -0.016923 -0.410000  0.195385  0.726154        5  "
      ]
     },
     "execution_count": 1078,
     "metadata": {},
     "output_type": "execute_result"
    }
   ],
   "source": [
    "# df2"
   ]
  },
  {
   "cell_type": "code",
   "execution_count": 94,
   "metadata": {},
   "outputs": [],
   "source": [
    "df2.to_csv('Spain1.csv', index=False)"
   ]
  },
  {
   "cell_type": "markdown",
   "metadata": {},
   "source": [
    "#  Portugal"
   ]
  },
  {
   "cell_type": "code",
   "execution_count": 411,
   "metadata": {},
   "outputs": [],
   "source": [
    "port = ['Portugal']"
   ]
  },
  {
   "cell_type": "code",
   "execution_count": 412,
   "metadata": {},
   "outputs": [],
   "source": [
    "port_year = comparisons.loc[comparisons[\"team\"].isin(port)]"
   ]
  },
  {
   "cell_type": "code",
   "execution_count": 413,
   "metadata": {},
   "outputs": [],
   "source": [
    "port2010year = port_year.loc[port_year[\"season\"].isin(year2010)]"
   ]
  },
  {
   "cell_type": "code",
   "execution_count": 414,
   "metadata": {},
   "outputs": [],
   "source": [
    "port2010xg = port2010year.sort_values(by=[\"xg_z\"], ascending=False)"
   ]
  },
  {
   "cell_type": "code",
   "execution_count": 415,
   "metadata": {},
   "outputs": [],
   "source": [
    "port2010xg13 = port2010xg.head(13)"
   ]
  },
  {
   "cell_type": "code",
   "execution_count": 416,
   "metadata": {},
   "outputs": [],
   "source": [
    "port2010xg13 = port2010xg13.drop(columns=['season', 'team',])\n"
   ]
  },
  {
   "cell_type": "code",
   "execution_count": 417,
   "metadata": {},
   "outputs": [],
   "source": [
    "port2010 = port2010xg13.mean()"
   ]
  },
  {
   "cell_type": "code",
   "execution_count": 418,
   "metadata": {},
   "outputs": [
    {
     "data": {
      "text/plain": [
       "goals_z            0.531538\n",
       "xg_z               0.284615\n",
       "crosses_z         -0.023846\n",
       "boxtouches_z       0.100769\n",
       "passes_z           0.078462\n",
       "progpasses_z      -0.300000\n",
       "takeons_z          0.070000\n",
       "progruns_z         0.180769\n",
       "tackles_z          0.105385\n",
       "interceptions_z    0.073846\n",
       "clearances_z       0.023846\n",
       "blocks_z          -0.131538\n",
       "aerials_z         -0.009231\n",
       "fouls_z            0.236154\n",
       "fouled_z          -0.030000\n",
       "nsxg_z             0.053077\n",
       "dtype: float64"
      ]
     },
     "execution_count": 418,
     "metadata": {},
     "output_type": "execute_result"
    }
   ],
   "source": [
    "port2010"
   ]
  },
  {
   "cell_type": "code",
   "execution_count": 419,
   "metadata": {},
   "outputs": [],
   "source": [
    "# (.284615 + .053077) / .531538"
   ]
  },
  {
   "cell_type": "markdown",
   "metadata": {},
   "source": [
    "### Fouled"
   ]
  },
  {
   "cell_type": "code",
   "execution_count": null,
   "metadata": {},
   "outputs": [],
   "source": [
    "# -0.030000 - .236154"
   ]
  },
  {
   "cell_type": "code",
   "execution_count": null,
   "metadata": {},
   "outputs": [],
   "source": [
    "# new_row = {'Country': 'Portugal', 'Year': 2010, 'goals_z': 0.531538, 'xg_z': 0.284615, \n",
    "#            'boxtouches_z': 0.100769, 'progpasses_z': -0.300000, 'progruns_z': 0.180769, \n",
    "#            'new_xg': 0.63531, 'Fouled': -0.2661, 'results': 16}\n",
    "\n",
    "# stats_df = stats_df.append(new_row, ignore_index=True)"
   ]
  },
  {
   "cell_type": "code",
   "execution_count": null,
   "metadata": {},
   "outputs": [],
   "source": [
    "# stats_df.corr()"
   ]
  },
  {
   "cell_type": "markdown",
   "metadata": {},
   "source": [
    "## 2014"
   ]
  },
  {
   "cell_type": "code",
   "execution_count": 420,
   "metadata": {},
   "outputs": [],
   "source": [
    "port2014year = port_year.loc[port_year[\"season\"].isin(year2014)]"
   ]
  },
  {
   "cell_type": "code",
   "execution_count": 421,
   "metadata": {},
   "outputs": [],
   "source": [
    "port2014xg = port2014year.sort_values(by=[\"xg_z\"], ascending=False)"
   ]
  },
  {
   "cell_type": "code",
   "execution_count": 422,
   "metadata": {},
   "outputs": [],
   "source": [
    "port2014xg13 = port2014xg.head(13)"
   ]
  },
  {
   "cell_type": "code",
   "execution_count": 423,
   "metadata": {},
   "outputs": [],
   "source": [
    "port2014xg13 = port2014xg13.drop(columns=['season', 'team'])\n"
   ]
  },
  {
   "cell_type": "code",
   "execution_count": 424,
   "metadata": {},
   "outputs": [],
   "source": [
    "port2014 = port2014xg13.mean()"
   ]
  },
  {
   "cell_type": "code",
   "execution_count": 425,
   "metadata": {},
   "outputs": [
    {
     "data": {
      "text/plain": [
       "goals_z            0.075385\n",
       "xg_z               0.529231\n",
       "crosses_z          0.273077\n",
       "boxtouches_z       0.245385\n",
       "passes_z           0.379231\n",
       "progpasses_z       0.480769\n",
       "takeons_z          0.083077\n",
       "progruns_z         0.350769\n",
       "tackles_z          0.173077\n",
       "interceptions_z   -0.030769\n",
       "clearances_z      -0.048462\n",
       "blocks_z           0.170769\n",
       "aerials_z         -0.196154\n",
       "fouls_z            0.185385\n",
       "fouled_z           0.036154\n",
       "nsxg_z             0.301538\n",
       "dtype: float64"
      ]
     },
     "execution_count": 425,
     "metadata": {},
     "output_type": "execute_result"
    }
   ],
   "source": [
    "port2014\n"
   ]
  },
  {
   "cell_type": "code",
   "execution_count": null,
   "metadata": {},
   "outputs": [],
   "source": [
    "# (.529231 + .301538) / .075385\n"
   ]
  },
  {
   "cell_type": "markdown",
   "metadata": {},
   "source": [
    "### Fouled"
   ]
  },
  {
   "cell_type": "code",
   "execution_count": null,
   "metadata": {},
   "outputs": [],
   "source": [
    "# .036154 - .185385"
   ]
  },
  {
   "cell_type": "code",
   "execution_count": null,
   "metadata": {},
   "outputs": [],
   "source": [
    "# new_row = {'Country': 'Portugal', 'Year': 2014, 'goals_z': 0.075385, 'xg_z': 0.529231, \n",
    "#            'boxtouches_z': 0.245385, 'progpasses_z': 0.480769, 'progruns_z': 0.350769, \n",
    "#            'new_xg': 11.02034, 'Fouled': -0.149231, 'results': 32}\n",
    "\n",
    "# stats_df = stats_df.append(new_row, ignore_index=True)"
   ]
  },
  {
   "cell_type": "markdown",
   "metadata": {},
   "source": [
    "## 2018"
   ]
  },
  {
   "cell_type": "code",
   "execution_count": 426,
   "metadata": {},
   "outputs": [],
   "source": [
    "port2018year = port_year.loc[port_year[\"season\"].isin(year2018)]"
   ]
  },
  {
   "cell_type": "code",
   "execution_count": 427,
   "metadata": {},
   "outputs": [],
   "source": [
    "port2018xg = port2018year.sort_values(by=[\"xg_z\"], ascending=False)"
   ]
  },
  {
   "cell_type": "code",
   "execution_count": 428,
   "metadata": {},
   "outputs": [],
   "source": [
    "port2018xg13 = port2018xg.head(13)"
   ]
  },
  {
   "cell_type": "code",
   "execution_count": 429,
   "metadata": {},
   "outputs": [],
   "source": [
    "port2018xg13 = port2018xg13.drop(columns=['season', 'team'])\n"
   ]
  },
  {
   "cell_type": "code",
   "execution_count": 430,
   "metadata": {},
   "outputs": [],
   "source": [
    "port2018 = port2018xg13.mean()"
   ]
  },
  {
   "cell_type": "code",
   "execution_count": 431,
   "metadata": {},
   "outputs": [
    {
     "data": {
      "text/plain": [
       "goals_z            0.373846\n",
       "xg_z               0.166154\n",
       "crosses_z          0.297692\n",
       "boxtouches_z       0.044615\n",
       "passes_z           0.316923\n",
       "progpasses_z      -0.044615\n",
       "takeons_z          0.379231\n",
       "progruns_z         0.212308\n",
       "tackles_z          0.300769\n",
       "interceptions_z    0.247692\n",
       "clearances_z      -0.024615\n",
       "blocks_z          -0.263846\n",
       "aerials_z          0.294615\n",
       "fouls_z            0.183846\n",
       "fouled_z           0.386154\n",
       "nsxg_z             0.120000\n",
       "dtype: float64"
      ]
     },
     "execution_count": 431,
     "metadata": {},
     "output_type": "execute_result"
    }
   ],
   "source": [
    "port2018\n"
   ]
  },
  {
   "cell_type": "code",
   "execution_count": 433,
   "metadata": {},
   "outputs": [],
   "source": [
    "# (.166154 - .120000) / .373846"
   ]
  },
  {
   "cell_type": "markdown",
   "metadata": {},
   "source": [
    "### Fouled"
   ]
  },
  {
   "cell_type": "code",
   "execution_count": null,
   "metadata": {},
   "outputs": [],
   "source": [
    "# .386154 - .183846"
   ]
  },
  {
   "cell_type": "code",
   "execution_count": 434,
   "metadata": {},
   "outputs": [],
   "source": [
    "# new_row = {'Country': 'Portugal', 'Year': 2018, 'goals_z': 0.373846, 'xg_z': 0.166154, \n",
    "#            'boxtouches_z': 0.044615, 'progpasses_z': -0.044615, 'progruns_z': 0.212308, \n",
    "#            'new_xg': 0.123457, 'Fouled': 0.202308, 'results': 16}\n",
    "\n",
    "# stats_df = stats_df.append(new_row, ignore_index=True)"
   ]
  },
  {
   "cell_type": "markdown",
   "metadata": {},
   "source": [
    "## 2006"
   ]
  },
  {
   "cell_type": "code",
   "execution_count": 435,
   "metadata": {},
   "outputs": [],
   "source": [
    "port2006year = port_year.loc[port_year[\"season\"].isin(year2006)]"
   ]
  },
  {
   "cell_type": "code",
   "execution_count": 436,
   "metadata": {},
   "outputs": [],
   "source": [
    "port2006xg = port2006year.sort_values(by=[\"xg_z\"], ascending=False)"
   ]
  },
  {
   "cell_type": "code",
   "execution_count": 437,
   "metadata": {},
   "outputs": [],
   "source": [
    "port2006xg13 = port2006xg.head(13)"
   ]
  },
  {
   "cell_type": "code",
   "execution_count": 438,
   "metadata": {},
   "outputs": [],
   "source": [
    "port2006xg13 = port2006xg13.drop(columns=['season', 'team'])\n"
   ]
  },
  {
   "cell_type": "code",
   "execution_count": 439,
   "metadata": {},
   "outputs": [],
   "source": [
    "port2006 = port2006xg13.mean()"
   ]
  },
  {
   "cell_type": "code",
   "execution_count": 440,
   "metadata": {},
   "outputs": [
    {
     "data": {
      "text/plain": [
       "goals_z            0.130000\n",
       "xg_z               0.343846\n",
       "crosses_z         -0.145385\n",
       "boxtouches_z      -0.004615\n",
       "passes_z           0.040769\n",
       "progpasses_z      -0.338462\n",
       "takeons_z          0.237692\n",
       "progruns_z         0.220769\n",
       "tackles_z         -0.131538\n",
       "interceptions_z   -0.000769\n",
       "clearances_z      -0.391538\n",
       "blocks_z          -0.096154\n",
       "aerials_z         -0.096154\n",
       "fouls_z           -0.129231\n",
       "fouled_z           0.040769\n",
       "nsxg_z            -0.108462\n",
       "dtype: float64"
      ]
     },
     "execution_count": 440,
     "metadata": {},
     "output_type": "execute_result"
    }
   ],
   "source": [
    "port2006\n"
   ]
  },
  {
   "cell_type": "code",
   "execution_count": 442,
   "metadata": {},
   "outputs": [],
   "source": [
    "# (.343846 - -0.108462) / .130000"
   ]
  },
  {
   "cell_type": "markdown",
   "metadata": {},
   "source": [
    "### Fouled"
   ]
  },
  {
   "cell_type": "code",
   "execution_count": 443,
   "metadata": {},
   "outputs": [],
   "source": [
    "# .040769 - -0.129231"
   ]
  },
  {
   "cell_type": "code",
   "execution_count": 444,
   "metadata": {},
   "outputs": [],
   "source": [
    "# new_row = {'Country': 'Portugal', 'Year': 2006, 'goals_z': 0.130000, 'xg_z': 0.343846, \n",
    "#            'boxtouches_z': -0.004615, 'progpasses_z': -0.338462, 'progruns_z': 0.220769, \n",
    "#            'new_xg': 3.4792923, 'Fouled': 0.17, 'results': 4}\n",
    "\n",
    "# stats_df = stats_df.append(new_row, ignore_index=True)"
   ]
  },
  {
   "cell_type": "markdown",
   "metadata": {},
   "source": [
    "## 2002"
   ]
  },
  {
   "cell_type": "code",
   "execution_count": 445,
   "metadata": {},
   "outputs": [],
   "source": [
    "port2002year = port_year.loc[port_year[\"season\"].isin(year2002)]"
   ]
  },
  {
   "cell_type": "code",
   "execution_count": 446,
   "metadata": {},
   "outputs": [],
   "source": [
    "port2002xg = port2002year.sort_values(by=[\"xg_z\"], ascending=False)"
   ]
  },
  {
   "cell_type": "code",
   "execution_count": 447,
   "metadata": {},
   "outputs": [],
   "source": [
    "port2002xg13 = port2002xg.head(13)"
   ]
  },
  {
   "cell_type": "code",
   "execution_count": 448,
   "metadata": {},
   "outputs": [],
   "source": [
    "port2002xg13 = port2002xg13.drop(columns=['season', 'team'])\n"
   ]
  },
  {
   "cell_type": "code",
   "execution_count": 449,
   "metadata": {},
   "outputs": [],
   "source": [
    "port2002 = port2002xg13.mean()"
   ]
  },
  {
   "cell_type": "code",
   "execution_count": 450,
   "metadata": {},
   "outputs": [
    {
     "data": {
      "text/plain": [
       "goals_z            0.403077\n",
       "xg_z               0.207692\n",
       "crosses_z          0.157692\n",
       "boxtouches_z       0.088462\n",
       "passes_z           0.056923\n",
       "progpasses_z      -0.161538\n",
       "takeons_z          0.357692\n",
       "progruns_z        -0.073077\n",
       "tackles_z          0.468462\n",
       "interceptions_z    0.573846\n",
       "clearances_z       0.085385\n",
       "blocks_z           0.010000\n",
       "aerials_z          0.326923\n",
       "fouls_z            0.331538\n",
       "fouled_z           0.557692\n",
       "nsxg_z             0.262308\n",
       "dtype: float64"
      ]
     },
     "execution_count": 450,
     "metadata": {},
     "output_type": "execute_result"
    }
   ],
   "source": [
    "port2002\n"
   ]
  },
  {
   "cell_type": "code",
   "execution_count": 451,
   "metadata": {},
   "outputs": [],
   "source": [
    "# (.207692 - .262308) / .403077"
   ]
  },
  {
   "cell_type": "markdown",
   "metadata": {},
   "source": [
    "### Fouled"
   ]
  },
  {
   "cell_type": "code",
   "execution_count": 452,
   "metadata": {},
   "outputs": [],
   "source": [
    "# .557692 - .331538"
   ]
  },
  {
   "cell_type": "code",
   "execution_count": 453,
   "metadata": {},
   "outputs": [],
   "source": [
    "# new_row = {'Country': 'Portugal', 'Year': 2002, 'goals_z': 0.403077, 'xg_z': 0.207692, \n",
    "#            'boxtouches_z': 0.088462, 'progpasses_z': -0.161538, 'progruns_z': 0.073077, \n",
    "#            'new_xg': -0.135497, 'Fouled': 0.2261539, 'results': 32}\n",
    "\n",
    "# stats_df = stats_df.append(new_row, ignore_index=True)"
   ]
  },
  {
   "cell_type": "code",
   "execution_count": null,
   "metadata": {},
   "outputs": [],
   "source": [
    "port2002\n",
    "port2006\n",
    "port2018\n",
    "port2014\n",
    "port2010"
   ]
  },
  {
   "cell_type": "code",
   "execution_count": 1065,
   "metadata": {},
   "outputs": [],
   "source": [
    "por = pd.concat([port2002, port2006, port2010, port2014, \n",
    "                 port2018], axis=1).T\n"
   ]
  },
  {
   "cell_type": "code",
   "execution_count": 1066,
   "metadata": {},
   "outputs": [],
   "source": [
    "por.rename(index={0: 'Portugal02', 1: 'Portugal06', 2: 'Portugal10', \n",
    "                  3: 'Portugal14', 4: 'Portugal18'}, inplace=True)\n"
   ]
  },
  {
   "cell_type": "code",
   "execution_count": 1069,
   "metadata": {},
   "outputs": [],
   "source": [
    "df2 = por.assign(results=[21, 4, 11, 18, 13])\n"
   ]
  },
  {
   "cell_type": "markdown",
   "metadata": {},
   "source": [
    "- 2018 - 13      Portugal     B     4     1     2     1     5     6     6     0\n",
    "- 2014 - 18      Portugal     G     3     1     1     1     4     4     7     −3\n",
    "- 2010 - 11      Portugal     G     4     1     2     1     7     1     +6     5\n",
    "- 2006 - 4      Portugal     D     7     4     1     2     7     5     +2     13\n",
    "- 2002 - 21     D      Portugal     3     1     0     2     6     4     +2     3\n"
   ]
  },
  {
   "cell_type": "code",
   "execution_count": 1070,
   "metadata": {},
   "outputs": [
    {
     "data": {
      "text/html": [
       "<div>\n",
       "<style scoped>\n",
       "    .dataframe tbody tr th:only-of-type {\n",
       "        vertical-align: middle;\n",
       "    }\n",
       "\n",
       "    .dataframe tbody tr th {\n",
       "        vertical-align: top;\n",
       "    }\n",
       "\n",
       "    .dataframe thead th {\n",
       "        text-align: right;\n",
       "    }\n",
       "</style>\n",
       "<table border=\"1\" class=\"dataframe\">\n",
       "  <thead>\n",
       "    <tr style=\"text-align: right;\">\n",
       "      <th></th>\n",
       "      <th>goals_z</th>\n",
       "      <th>xg_z</th>\n",
       "      <th>crosses_z</th>\n",
       "      <th>boxtouches_z</th>\n",
       "      <th>passes_z</th>\n",
       "      <th>progpasses_z</th>\n",
       "      <th>takeons_z</th>\n",
       "      <th>progruns_z</th>\n",
       "      <th>tackles_z</th>\n",
       "      <th>interceptions_z</th>\n",
       "      <th>clearances_z</th>\n",
       "      <th>blocks_z</th>\n",
       "      <th>aerials_z</th>\n",
       "      <th>fouls_z</th>\n",
       "      <th>fouled_z</th>\n",
       "      <th>nsxg_z</th>\n",
       "      <th>results</th>\n",
       "    </tr>\n",
       "  </thead>\n",
       "  <tbody>\n",
       "    <tr>\n",
       "      <th>Portugal02</th>\n",
       "      <td>0.403077</td>\n",
       "      <td>0.207692</td>\n",
       "      <td>0.157692</td>\n",
       "      <td>0.088462</td>\n",
       "      <td>0.056923</td>\n",
       "      <td>-0.161538</td>\n",
       "      <td>0.357692</td>\n",
       "      <td>-0.073077</td>\n",
       "      <td>0.468462</td>\n",
       "      <td>0.573846</td>\n",
       "      <td>0.085385</td>\n",
       "      <td>0.010000</td>\n",
       "      <td>0.326923</td>\n",
       "      <td>0.331538</td>\n",
       "      <td>0.557692</td>\n",
       "      <td>0.262308</td>\n",
       "      <td>21</td>\n",
       "    </tr>\n",
       "    <tr>\n",
       "      <th>Portugal06</th>\n",
       "      <td>0.130000</td>\n",
       "      <td>0.343846</td>\n",
       "      <td>-0.145385</td>\n",
       "      <td>-0.004615</td>\n",
       "      <td>0.040769</td>\n",
       "      <td>-0.338462</td>\n",
       "      <td>0.237692</td>\n",
       "      <td>0.220769</td>\n",
       "      <td>-0.131538</td>\n",
       "      <td>-0.000769</td>\n",
       "      <td>-0.391538</td>\n",
       "      <td>-0.096154</td>\n",
       "      <td>-0.096154</td>\n",
       "      <td>-0.129231</td>\n",
       "      <td>0.040769</td>\n",
       "      <td>-0.108462</td>\n",
       "      <td>4</td>\n",
       "    </tr>\n",
       "    <tr>\n",
       "      <th>Portugal10</th>\n",
       "      <td>0.531538</td>\n",
       "      <td>0.284615</td>\n",
       "      <td>-0.023846</td>\n",
       "      <td>0.100769</td>\n",
       "      <td>0.078462</td>\n",
       "      <td>-0.300000</td>\n",
       "      <td>0.070000</td>\n",
       "      <td>0.180769</td>\n",
       "      <td>0.105385</td>\n",
       "      <td>0.073846</td>\n",
       "      <td>0.023846</td>\n",
       "      <td>-0.131538</td>\n",
       "      <td>-0.009231</td>\n",
       "      <td>0.236154</td>\n",
       "      <td>-0.030000</td>\n",
       "      <td>0.053077</td>\n",
       "      <td>11</td>\n",
       "    </tr>\n",
       "    <tr>\n",
       "      <th>Portugal14</th>\n",
       "      <td>0.075385</td>\n",
       "      <td>0.529231</td>\n",
       "      <td>0.273077</td>\n",
       "      <td>0.245385</td>\n",
       "      <td>0.379231</td>\n",
       "      <td>0.480769</td>\n",
       "      <td>0.083077</td>\n",
       "      <td>0.350769</td>\n",
       "      <td>0.173077</td>\n",
       "      <td>-0.030769</td>\n",
       "      <td>-0.048462</td>\n",
       "      <td>0.170769</td>\n",
       "      <td>-0.196154</td>\n",
       "      <td>0.185385</td>\n",
       "      <td>0.036154</td>\n",
       "      <td>0.301538</td>\n",
       "      <td>18</td>\n",
       "    </tr>\n",
       "    <tr>\n",
       "      <th>Portugal18</th>\n",
       "      <td>0.373846</td>\n",
       "      <td>0.166154</td>\n",
       "      <td>0.297692</td>\n",
       "      <td>0.044615</td>\n",
       "      <td>0.316923</td>\n",
       "      <td>-0.044615</td>\n",
       "      <td>0.379231</td>\n",
       "      <td>0.212308</td>\n",
       "      <td>0.300769</td>\n",
       "      <td>0.247692</td>\n",
       "      <td>-0.024615</td>\n",
       "      <td>-0.263846</td>\n",
       "      <td>0.294615</td>\n",
       "      <td>0.183846</td>\n",
       "      <td>0.386154</td>\n",
       "      <td>0.120000</td>\n",
       "      <td>13</td>\n",
       "    </tr>\n",
       "  </tbody>\n",
       "</table>\n",
       "</div>"
      ],
      "text/plain": [
       "             goals_z      xg_z  crosses_z  boxtouches_z  passes_z  \\\n",
       "Portugal02  0.403077  0.207692   0.157692      0.088462  0.056923   \n",
       "Portugal06  0.130000  0.343846  -0.145385     -0.004615  0.040769   \n",
       "Portugal10  0.531538  0.284615  -0.023846      0.100769  0.078462   \n",
       "Portugal14  0.075385  0.529231   0.273077      0.245385  0.379231   \n",
       "Portugal18  0.373846  0.166154   0.297692      0.044615  0.316923   \n",
       "\n",
       "            progpasses_z  takeons_z  progruns_z  tackles_z  interceptions_z  \\\n",
       "Portugal02     -0.161538   0.357692   -0.073077   0.468462         0.573846   \n",
       "Portugal06     -0.338462   0.237692    0.220769  -0.131538        -0.000769   \n",
       "Portugal10     -0.300000   0.070000    0.180769   0.105385         0.073846   \n",
       "Portugal14      0.480769   0.083077    0.350769   0.173077        -0.030769   \n",
       "Portugal18     -0.044615   0.379231    0.212308   0.300769         0.247692   \n",
       "\n",
       "            clearances_z  blocks_z  aerials_z   fouls_z  fouled_z    nsxg_z  \\\n",
       "Portugal02      0.085385  0.010000   0.326923  0.331538  0.557692  0.262308   \n",
       "Portugal06     -0.391538 -0.096154  -0.096154 -0.129231  0.040769 -0.108462   \n",
       "Portugal10      0.023846 -0.131538  -0.009231  0.236154 -0.030000  0.053077   \n",
       "Portugal14     -0.048462  0.170769  -0.196154  0.185385  0.036154  0.301538   \n",
       "Portugal18     -0.024615 -0.263846   0.294615  0.183846  0.386154  0.120000   \n",
       "\n",
       "            results  \n",
       "Portugal02       21  \n",
       "Portugal06        4  \n",
       "Portugal10       11  \n",
       "Portugal14       18  \n",
       "Portugal18       13  "
      ]
     },
     "execution_count": 1070,
     "metadata": {},
     "output_type": "execute_result"
    }
   ],
   "source": [
    "# df2"
   ]
  },
  {
   "cell_type": "code",
   "execution_count": 1072,
   "metadata": {},
   "outputs": [],
   "source": [
    "# df2.to_csv('Portugal1.csv', index=False)\n"
   ]
  },
  {
   "cell_type": "markdown",
   "metadata": {},
   "source": [
    "# 2002 results\n",
    "1 \tC \t Brazil \t7 \t7 \t0 \t0 \t18 \t4 \t+14 \t21 \t1st\n",
    "2 \tE \t Germany \t7 \t5 \t1 \t1 \t14 \t3 \t+11 \t16 \t2nd\n",
    "3 \tC \t Turkey \t7 \t4 \t1 \t2 \t10 \t6 \t+4 \t13 \t3rd\n",
    "4 \tD \t South Korea \t7 \t3 \t2 \t2 \t8 \t6 \t+2 \t11 \t4th\n",
    "5 \tB \t Spain \t5 \t3 \t2 \t0 \t10 \t5 \t+5 \t11 \t\n",
    "Eliminated in the quarter-finals\n",
    "6 \tF \t England \t5 \t2 \t2 \t1 \t6 \t3 \t+3 \t8\n",
    "7 \tA \t Senegal \t5 \t2 \t2 \t1 \t7 \t6 \t+1 \t8\n",
    "8 \tD \t United States \t5 \t2 \t1 \t2 \t7 \t7 \t0 \t7\n",
    "9 \tH \t Japan \t4 \t2 \t1 \t1 \t5 \t3 \t+2 \t7 \tEliminated in the round of 16\n",
    "10 \tA \t Denmark \t4 \t2 \t1 \t1 \t5 \t5 \t0 \t7\n",
    "11 \tG \t Mexico \t4 \t2 \t1 \t1 \t4 \t4 \t0 \t7\n",
    "12 \tE \t Republic of Ireland \t4 \t1 \t3 \t0 \t6 \t3 \t+3 \t6\n",
    "13 \tF \t Sweden \t4 \t1 \t2 \t1 \t5 \t5 \t0 \t5\n",
    "14 \tH \t Belgium \t4 \t1 \t2 \t1 \t6 \t7 \t−1 \t5\n",
    "15 \tG \t Italy \t4 \t1 \t1 \t2 \t5 \t5 \t0 \t4\n",
    "16 \tB \t Paraguay \t4 \t1 \t1 \t2 \t6 \t7 \t−1 \t4\n",
    "17 \tB \t South Africa \t3 \t1 \t1 \t1 \t5 \t5 \t0 \t4 \tEliminated in the group stage\n",
    "18 \tF \t Argentina \t3 \t1 \t1 \t1 \t2 \t2 \t0 \t4\n",
    "19 \tC \t Costa Rica \t3 \t1 \t1 \t1 \t5 \t6 \t−1 \t4\n",
    "20 \tE \t Cameroon \t3 \t1 \t1 \t1 \t2 \t3 \t−1 \t4\n",
    "21 \tD \t Portugal \t3 \t1 \t0 \t2 \t6 \t4 \t+2 \t3\n",
    "22 \tH \t Russia \t3 \t1 \t0 \t2 \t4 \t4 \t0 \t3\n",
    "23 \tG \t Croatia \t3 \t1 \t0 \t2 \t2 \t3 \t−1 \t3\n",
    "24 \tG \t Ecuador \t3 \t1 \t0 \t2 \t2 \t4 \t−2 \t3\n",
    "25 \tD \t Poland \t3 \t1 \t0 \t2 \t3 \t7 \t−4 \t3\n",
    "26 \tA \t Uruguay \t3 \t0 \t2 \t1 \t4 \t5 \t−1 \t2\n",
    "27 \tF \t Nigeria \t3 \t0 \t1 \t2 \t1 \t3 \t−2 \t1\n",
    "28 \tA \t France \t3 \t0 \t1 \t2 \t0 \t3 \t−3 \t1\n",
    "29 \tH \t Tunisia \t3 \t0 \t1 \t2 \t1 \t5 \t−4 \t1\n",
    "30 \tB \t Slovenia \t3 \t0 \t0 \t3 \t2 \t7 \t−5 \t0\n",
    "31 \tC \t China \t3 \t0 \t0 \t3 \t0 \t9 \t−9 \t0\n",
    "32 \tE \t Saudi Arabia \t3 \t0 \t0 \t3 \t0 \t12 \t−12 \t0\n"
   ]
  },
  {
   "cell_type": "markdown",
   "metadata": {},
   "source": [
    "# 2006 results\n",
    "1 \t Italy \tE \t7 \t5 \t2 \t0 \t12 \t2 \t+10 \t17\n",
    "2 \t France \tG \t7 \t4 \t3 \t0 \t9 \t3 \t+6 \t15\n",
    "3 \t Germany \tA \t7 \t5 \t1 \t1 \t14 \t6 \t+8 \t16\n",
    "4 \t Portugal \tD \t7 \t4 \t1 \t2 \t7 \t5 \t+2 \t13\n",
    "Eliminated in the quarter-finals\n",
    "5 \t Brazil \tF \t5 \t4 \t0 \t1 \t10 \t2 \t+8 \t12\n",
    "6 \t Argentina \tC \t5 \t3 \t2 \t0 \t11 \t3 \t+8 \t11\n",
    "7 \t England \tB \t5 \t3 \t2 \t0 \t6 \t2 \t+4 \t11\n",
    "8 \t Ukraine \tH \t5 \t2 \t1 \t2 \t5 \t7 \t−2 \t7\n",
    "Eliminated in the round of 16\n",
    "9 \t Spain \tH \t4 \t3 \t0 \t1 \t9 \t4 \t+5 \t9\n",
    "10 \t  Switzerland \tG \t4 \t2 \t2 \t0 \t4 \t0 \t+4 \t8\n",
    "11 \t Netherlands \tC \t4 \t2 \t1 \t1 \t3 \t2 \t+1 \t7\n",
    "12 \t Ecuador \tA \t4 \t2 \t0 \t2 \t5 \t4 \t+1 \t6\n",
    "13 \t Ghana \tE \t4 \t2 \t0 \t2 \t4 \t6 \t−2 \t6\n",
    "14 \t Sweden \tB \t4 \t1 \t2 \t1 \t3 \t4 \t−1 \t5\n",
    "15 \t Mexico \tD \t4 \t1 \t1 \t2 \t5 \t5 \t0 \t4\n",
    "16 \t Australia \tF \t4 \t1 \t1 \t2 \t5 \t6 \t−1 \t4\n",
    "Eliminated in the group stage\n",
    "17 \t South Korea \tG \t3 \t1 \t1 \t1 \t3 \t4 \t−1 \t4\n",
    "18 \t Paraguay \tB \t3 \t1 \t0 \t2 \t2 \t2 \t0 \t3\n",
    "19 \t Ivory Coast \tC \t3 \t1 \t0 \t2 \t5 \t6 \t−1 \t3\n",
    "20 \t Czech Republic \tE \t3 \t1 \t0 \t2 \t3 \t4 \t−1 \t3\n",
    "21 \t Poland \tA \t3 \t1 \t0 \t2 \t2 \t4 \t−2 \t3\n",
    "22 \t Croatia \tF \t3 \t0 \t2 \t1 \t2 \t3 \t−1 \t2\n",
    "23 \t Angola \tD \t3 \t0 \t2 \t1 \t1 \t2 \t−1 \t2\n",
    "24 \t Tunisia \tH \t3 \t0 \t1 \t2 \t3 \t6 \t−3 \t1\n",
    "25 \t Iran \tD \t3 \t0 \t1 \t2 \t2 \t6 \t−4 \t1\n",
    " United States \tE \t3 \t0 \t1 \t2 \t2 \t6 \t−4 \t1\n",
    "27 \t Trinidad and Tobago \tB \t3 \t0 \t1 \t2 \t0 \t4 \t−4 \t1\n",
    "28 \t Japan \tF \t3 \t0 \t1 \t2 \t2 \t7 \t−5 \t1\n",
    " Saudi Arabia \tH \t3 \t0 \t1 \t2 \t2 \t7 \t−5 \t1\n",
    "30 \t Togo \tG \t3 \t0 \t0 \t3 \t1 \t6 \t−5 \t0\n",
    "31 \t Costa Rica \tA \t3 \t0 \t0 \t3 \t3 \t9 \t−6 \t0\n",
    "32 \t Serbia and Montenegro \tC \t3 \t0 \t0 \t3 \t2 \t10 \t−8 \t0"
   ]
  },
  {
   "cell_type": "markdown",
   "metadata": {},
   "source": [
    "# 2010 results\n",
    "\n",
    "1 \t Spain \tH \t7 \t6 \t0 \t1 \t8 \t2 \t+6 \t18\n",
    "2 \t Netherlands \tE \t7 \t6 \t0 \t1 \t12 \t6 \t+6 \t18\n",
    "3 \t Germany \tD \t7 \t5 \t0 \t2 \t16 \t5 \t+11 \t15\n",
    "4 \t Uruguay \tA \t7 \t3 \t2 \t2 \t11 \t8 \t+3 \t11\n",
    "Eliminated in the quarter-finals\n",
    "5 \t Argentina \tB \t5 \t4 \t0 \t1 \t10 \t6 \t+4 \t12\n",
    "6 \t Brazil \tG \t5 \t3 \t1 \t1 \t9 \t4 \t+5 \t10\n",
    "7 \t Ghana \tD \t5 \t2 \t2 \t1 \t5 \t4 \t+1 \t8\n",
    "8 \t Paraguay \tF \t5 \t1 \t3 \t1 \t3 \t2 \t+1 \t6\n",
    "Eliminated in the round of 16\n",
    "9 \t Japan \tE \t4 \t2 \t1 \t1 \t4 \t2 \t+2 \t7\n",
    "10 \t Chile \tH \t4 \t2 \t0 \t2 \t3 \t5 \t−2 \t6\n",
    "11 \t Portugal \tG \t4 \t1 \t2 \t1 \t7 \t1 \t+6 \t5\n",
    "12 \t United States \tC \t4 \t1 \t2 \t1 \t5 \t5 \t0 \t5\n",
    "13 \t England \tC \t4 \t1 \t2 \t1 \t3 \t5 \t−2 \t5\n",
    "14 \t Mexico \tA \t4 \t1 \t1 \t2 \t4 \t5 \t−1 \t4\n",
    "15 \t South Korea \tB \t4 \t1 \t1 \t2 \t6 \t8 \t−2 \t4\n",
    "16 \t Slovakia \tF \t4 \t1 \t1 \t2 \t5 \t7 \t−2 \t4\n",
    "Eliminated in the group stage\n",
    "17 \t Ivory Coast \tG \t3 \t1 \t1 \t1 \t4 \t3 \t+1 \t4\n",
    "18 \t Slovenia \tC \t3 \t1 \t1 \t1 \t3 \t3 \t0 \t4\n",
    "19 \t  Switzerland \tH \t3 \t1 \t1 \t1 \t1 \t1 \t0 \t4\n",
    "20 \t South Africa \tA \t3 \t1 \t1 \t1 \t3 \t5 \t−2 \t4\n",
    "21 \t Australia \tD \t3 \t1 \t1 \t1 \t3 \t6 \t−3 \t4\n",
    "22 \t New Zealand \tF \t3 \t0 \t3 \t0 \t2 \t2 \t0 \t3\n",
    "23 \t Serbia \tD \t3 \t1 \t0 \t2 \t2 \t3 \t−1 \t3\n",
    "24 \t Denmark \tE \t3 \t1 \t0 \t2 \t3 \t6 \t−3 \t3\n",
    "25 \t Greece \tB \t3 \t1 \t0 \t2 \t2 \t5 \t−3 \t3\n",
    "26 \t Italy \tF \t3 \t0 \t2 \t1 \t4 \t5 \t−1 \t2\n",
    "27 \t Nigeria \tB \t3 \t0 \t1 \t2 \t3 \t5 \t−2 \t1\n",
    "28 \t Algeria \tC \t3 \t0 \t1 \t2 \t0 \t2 \t−2 \t1\n",
    "29 \t France \tA \t3 \t0 \t1 \t2 \t1 \t4 \t−3 \t1\n",
    "30 \t Honduras \tH \t3 \t0 \t1 \t2 \t0 \t3 \t−3 \t1\n",
    "31 \t Cameroon \tE \t3 \t0 \t0 \t3 \t2 \t5 \t−3 \t0\n",
    "32 \t North Korea \tG \t3 \t0 \t0 \t3 \t1 \t12 \t−11 \t0 "
   ]
  },
  {
   "cell_type": "markdown",
   "metadata": {},
   "source": [
    "# 2014 results\n",
    "1 \t Germany \tG \t7 \t6 \t1 \t0 \t19 \t18 \t4 \t+14\n",
    "2 \t Argentina \tF \t7 \t5 \t1 \t1 \t16 \t8 \t4 \t+4\n",
    "3 \t Netherlands \tB \t7 \t5 \t2 \t0 \t17 \t15 \t4 \t+11\n",
    "4 \t Brazil \tA \t7 \t3 \t2 \t2 \t11 \t11 \t14 \t−3\n",
    "Eliminated in the quarter-finals\n",
    "5 \t Colombia \tC \t5 \t4 \t0 \t1 \t12 \t12 \t4 \t+8\n",
    "6 \t Belgium \tH \t5 \t4 \t0 \t1 \t12 \t6 \t3 \t+3\n",
    "7 \t France \tE \t5 \t3 \t1 \t1 \t10 \t10 \t3 \t+7\n",
    "8 \t Costa Rica \tD \t5 \t2 \t3 \t0 \t9 \t5 \t2 \t+3\n",
    "Eliminated in the round of 16\n",
    "9 \t Chile \tB \t4 \t2 \t1 \t1 \t7 \t6 \t4 \t+2\n",
    "10 \t Mexico \tA \t4 \t2 \t1 \t1 \t7 \t5 \t3 \t+2\n",
    "11 \t  Switzerland \tE \t4 \t2 \t0 \t2 \t6 \t7 \t7 \t0\n",
    "12 \t Uruguay \tD \t4 \t2 \t0 \t2 \t6 \t4 \t6 \t−2\n",
    "13 \t Greece \tC \t4 \t1 \t2 \t1 \t5 \t3 \t5 \t−2\n",
    "14 \t Algeria \tH \t4 \t1 \t1 \t2 \t4 \t7 \t7 \t0\n",
    "15 \t United States \tG \t4 \t1 \t1 \t2 \t4 \t5 \t6 \t−1\n",
    "16 \t Nigeria \tF \t4 \t1 \t1 \t2 \t4 \t3 \t5 \t−2\n",
    "Eliminated in the group stage\n",
    "17 \t Ecuador \tE \t3 \t1 \t1 \t1 \t4 \t3 \t3 \t0\n",
    "18 \t Portugal \tG \t3 \t1 \t1 \t1 \t4 \t4 \t7 \t−3\n",
    "19 \t Croatia \tA \t3 \t1 \t0 \t2 \t3 \t6 \t6 \t0\n",
    "20 \t Bosnia and Herzegovina \tF \t3 \t1 \t0 \t2 \t3 \t4 \t4 \t0\n",
    "21 \t Ivory Coast \tC \t3 \t1 \t0 \t2 \t3 \t4 \t5 \t−1\n",
    "22 \t Italy \tD \t3 \t1 \t0 \t2 \t3 \t2 \t3 \t−1\n",
    "23 \t Spain \tB \t3 \t1 \t0 \t2 \t3 \t4 \t7 \t−3\n",
    "24 \t Russia \tH \t3 \t0 \t2 \t1 \t2 \t2 \t3 \t−1\n",
    "25 \t Ghana \tG \t3 \t0 \t1 \t2 \t1 \t4 \t6 \t−2\n",
    "26 \t England \tD \t3 \t0 \t1 \t2 \t1 \t2 \t4 \t−2\n",
    "27 \t South Korea \tH \t3 \t0 \t1 \t2 \t1 \t3 \t6 \t−3\n",
    "28 \t Iran \tF \t3 \t0 \t1 \t2 \t1 \t1 \t4 \t−3\n",
    "29 \t Japan \tC \t3 \t0 \t1 \t2 \t1 \t2 \t6 \t−4\n",
    "30 \t Australia \tB \t3 \t0 \t0 \t3 \t0 \t3 \t9 \t−6\n",
    "31 \t Honduras \tE \t3 \t0 \t0 \t3 \t0 \t1 \t8 \t−7\n",
    "32 \t Cameroon \tA \t3 \t0 \t0 \t3 \t0 \t1 \t9 \t−8 "
   ]
  },
  {
   "cell_type": "markdown",
   "metadata": {},
   "source": [
    "# 2018 results\n",
    "1 \t France \tC \t7 \t6 \t1 \t0 \t19 \t14 \t6 \t+8\n",
    "2 \t Croatia \tD \t7 \t4 \t2 \t1 \t14 \t14 \t9 \t+5\n",
    "3 \t Belgium \tG \t7 \t6 \t0 \t1 \t18 \t16 \t6 \t+10\n",
    "4 \t England \tG \t7 \t3 \t1 \t3 \t10 \t12 \t8 \t+4\n",
    "Eliminated in the quarter-finals\n",
    "5 \t Uruguay \tA \t5 \t4 \t0 \t1 \t12 \t7 \t3 \t+4\n",
    "6 \t Brazil \tE \t5 \t3 \t1 \t1 \t10 \t8 \t3 \t+5\n",
    "7 \t Sweden \tF \t5 \t3 \t0 \t2 \t9 \t6 \t4 \t+2\n",
    "8 \t Russia \tA \t5 \t2 \t2 \t1 \t8 \t11 \t7 \t+4\n",
    "Eliminated in the round of 16\n",
    "9 \t Colombia \tH \t4 \t2 \t1 \t1 \t7 \t6 \t3 \t+3\n",
    "10 \t Spain \tB \t4 \t1 \t3 \t0 \t6 \t7 \t6 \t+1\n",
    "\n",
    "\n",
    "11 \t Denmark \tC \t4 \t1 \t3 \t0 \t6 \t3 \t2 \t+1\n",
    "12 \t Mexico \tF \t4 \t2 \t0 \t2 \t6 \t3 \t6 \t−3\n",
    "13 \t Portugal \tB \t4 \t1 \t2 \t1 \t5 \t6 \t6 \t0\n",
    "14 \t  Switzerland \tE \t4 \t1 \t2 \t1 \t5 \t5 \t5 \t0\n",
    "15 \t Japan \tH \t4 \t1 \t1 \t2 \t4 \t6 \t7 \t−1\n",
    "16 \t Argentina \tD \t4 \t1 \t1 \t2 \t4 \t6 \t9 \t−3\n",
    "Eliminated in the group stage\n",
    "17 \t Senegal \tH \t3 \t1 \t1 \t1 \t4 \t4 \t4 \t0\n",
    "18 \t Iran \tB \t3 \t1 \t1 \t1 \t4 \t2 \t2 \t0\n",
    "19 \t South Korea \tF \t3 \t1 \t0 \t2 \t3 \t3 \t3 \t0\n",
    "20 \t Peru \tC \t3 \t1 \t0 \t2 \t3 \t2 \t2 \t0\n",
    "21 \t Nigeria \tD \t3 \t1 \t0 \t2 \t3 \t3 \t4 \t−1\n",
    "22 \t Serbia \tE \t3 \t1 \t0 \t2 \t3 \t2 \t4 \t−2\n",
    "23 \t Germany \tF \t3 \t1 \t0 \t2 \t3 \t2 \t4 \t−2\n",
    "24 \t Tunisia \tG \t3 \t1 \t0 \t2 \t3 \t5 \t8 \t−3\n",
    "25 \t Poland \tH \t3 \t1 \t0 \t2 \t3 \t2 \t5 \t−3\n",
    "26 \t Saudi Arabia \tA \t3 \t1 \t0 \t2 \t3 \t2 \t7 \t−5\n",
    "27 \t Morocco \tB \t3 \t0 \t1 \t2 \t1 \t2 \t4 \t−2\n",
    "28 \t Australia \tC \t3 \t0 \t1 \t2 \t1 \t2 \t5 \t−3\n",
    "29 \t Iceland \tD \t3 \t0 \t1 \t2 \t1 \t2 \t5 \t−3\n",
    "30 \t Costa Rica \tE \t3 \t0 \t1 \t2 \t1 \t2 \t5 \t−3\n",
    "31 \t Egypt \tA \t3 \t0 \t0 \t3 \t0 \t2 \t6 \t−4\n",
    "32 \t Panama \tG \t3 \t0 \t0 \t3 \t0 \t2 \t11 \t−9 "
   ]
  },
  {
   "cell_type": "markdown",
   "metadata": {},
   "source": [
    "# Netherlands"
   ]
  },
  {
   "cell_type": "code",
   "execution_count": 454,
   "metadata": {},
   "outputs": [],
   "source": [
    "ned = ['Netherlands']"
   ]
  },
  {
   "cell_type": "code",
   "execution_count": 455,
   "metadata": {},
   "outputs": [],
   "source": [
    "ned_year = comparisons.loc[comparisons[\"team\"].isin(ned)]"
   ]
  },
  {
   "cell_type": "code",
   "execution_count": 456,
   "metadata": {},
   "outputs": [],
   "source": [
    "ned2010year = ned_year.loc[ned_year[\"season\"].isin(year2010)]"
   ]
  },
  {
   "cell_type": "code",
   "execution_count": 457,
   "metadata": {},
   "outputs": [],
   "source": [
    "ned2010xg = ned2010year.sort_values(by=[\"xg_z\"], ascending=False)"
   ]
  },
  {
   "cell_type": "code",
   "execution_count": 458,
   "metadata": {},
   "outputs": [],
   "source": [
    "ned2010xg13 = ned2010xg.head(13)"
   ]
  },
  {
   "cell_type": "code",
   "execution_count": 459,
   "metadata": {},
   "outputs": [],
   "source": [
    "ned2010xg13 = ned2010xg13.drop(columns=['season', 'team'])\n"
   ]
  },
  {
   "cell_type": "code",
   "execution_count": 460,
   "metadata": {},
   "outputs": [],
   "source": [
    "ned2010 = ned2010xg13.mean()"
   ]
  },
  {
   "cell_type": "code",
   "execution_count": 461,
   "metadata": {},
   "outputs": [
    {
     "data": {
      "text/plain": [
       "goals_z            0.396923\n",
       "xg_z               0.126923\n",
       "crosses_z         -0.092308\n",
       "boxtouches_z       0.162308\n",
       "passes_z           0.374615\n",
       "progpasses_z       0.073077\n",
       "takeons_z          0.154615\n",
       "progruns_z         0.135385\n",
       "tackles_z          0.298462\n",
       "interceptions_z    0.298462\n",
       "clearances_z       0.063077\n",
       "blocks_z           0.316154\n",
       "aerials_z          0.041538\n",
       "fouls_z            0.368462\n",
       "fouled_z           0.439231\n",
       "nsxg_z             0.127692\n",
       "dtype: float64"
      ]
     },
     "execution_count": 461,
     "metadata": {},
     "output_type": "execute_result"
    }
   ],
   "source": [
    "ned2010"
   ]
  },
  {
   "cell_type": "code",
   "execution_count": null,
   "metadata": {},
   "outputs": [],
   "source": [
    "# (.126923 + .127692) / .396923"
   ]
  },
  {
   "cell_type": "markdown",
   "metadata": {},
   "source": [
    "### Fouled"
   ]
  },
  {
   "cell_type": "code",
   "execution_count": null,
   "metadata": {},
   "outputs": [],
   "source": [
    "# .439231 - .368462"
   ]
  },
  {
   "cell_type": "code",
   "execution_count": null,
   "metadata": {},
   "outputs": [],
   "source": [
    "# new_row = {'Country': 'Netherlands', 'Year': 2010, 'goals_z': 0.396923, 'xg_z': 0.126923, \n",
    "#            'boxtouches_z': 0.162308, 'progpasses_z': 0.073077, 'progruns_z': 0.135385, \n",
    "#            'new_xg': 0.64147, 'Fouled': 0.0707, 'results': 2}\n",
    "\n",
    "# stats_df = stats_df.append(new_row, ignore_index=True)"
   ]
  },
  {
   "cell_type": "markdown",
   "metadata": {},
   "source": [
    "## 2014"
   ]
  },
  {
   "cell_type": "code",
   "execution_count": 462,
   "metadata": {},
   "outputs": [],
   "source": [
    "ned2014year = ned_year.loc[ned_year[\"season\"].isin(year2014)]"
   ]
  },
  {
   "cell_type": "code",
   "execution_count": 463,
   "metadata": {},
   "outputs": [],
   "source": [
    "ned2014xg = ned2014year.sort_values(by=[\"xg_z\"], ascending=False)"
   ]
  },
  {
   "cell_type": "code",
   "execution_count": 464,
   "metadata": {},
   "outputs": [],
   "source": [
    "ned2014xg13 = ned2014xg.head(13)\n"
   ]
  },
  {
   "cell_type": "code",
   "execution_count": 465,
   "metadata": {},
   "outputs": [],
   "source": [
    "ned2014xg13 = ned2014xg13.drop(columns=['season', 'team'])\n"
   ]
  },
  {
   "cell_type": "code",
   "execution_count": 466,
   "metadata": {},
   "outputs": [],
   "source": [
    "ned2014 = ned2014xg13.mean()\n"
   ]
  },
  {
   "cell_type": "code",
   "execution_count": 467,
   "metadata": {},
   "outputs": [
    {
     "data": {
      "text/plain": [
       "goals_z            0.493846\n",
       "xg_z               0.406923\n",
       "crosses_z         -0.040769\n",
       "boxtouches_z       0.096923\n",
       "passes_z           0.100769\n",
       "progpasses_z      -0.169231\n",
       "takeons_z          0.306154\n",
       "progruns_z         0.098462\n",
       "tackles_z         -0.032308\n",
       "interceptions_z    0.130000\n",
       "clearances_z       0.096923\n",
       "blocks_z          -0.174615\n",
       "aerials_z          0.257692\n",
       "fouls_z            0.289231\n",
       "fouled_z          -0.020000\n",
       "nsxg_z             0.103846\n",
       "dtype: float64"
      ]
     },
     "execution_count": 467,
     "metadata": {},
     "output_type": "execute_result"
    }
   ],
   "source": [
    "ned2014\n"
   ]
  },
  {
   "cell_type": "code",
   "execution_count": null,
   "metadata": {},
   "outputs": [],
   "source": [
    "# (.406923 + .103846) / .493846\n"
   ]
  },
  {
   "cell_type": "markdown",
   "metadata": {},
   "source": [
    "### Fouled"
   ]
  },
  {
   "cell_type": "code",
   "execution_count": null,
   "metadata": {},
   "outputs": [],
   "source": [
    "# -0.020000 - .289231"
   ]
  },
  {
   "cell_type": "code",
   "execution_count": null,
   "metadata": {},
   "outputs": [],
   "source": [
    "# new_row = {'Country': 'Netherlands', 'Year': 2014, 'goals_z': 0.493846, 'xg_z': 0.406923, \n",
    "#            'boxtouches_z': 0.096923, 'progpasses_z': -0.169231, 'progruns_z': 0.098462, \n",
    "#            'new_xg': 1.0342677, 'Fouled': -0.309231, 'results': 3}\n",
    "# stats_df = stats_df.append(new_row, ignore_index=True)"
   ]
  },
  {
   "cell_type": "markdown",
   "metadata": {},
   "source": [
    "## 2018 - NA"
   ]
  },
  {
   "cell_type": "markdown",
   "metadata": {},
   "source": [
    "## 2006\n"
   ]
  },
  {
   "cell_type": "code",
   "execution_count": 468,
   "metadata": {},
   "outputs": [],
   "source": [
    "ned2006year = ned_year.loc[ned_year[\"season\"].isin(year2006)]"
   ]
  },
  {
   "cell_type": "code",
   "execution_count": 469,
   "metadata": {},
   "outputs": [],
   "source": [
    "ned2006xg = ned2006year.sort_values(by=[\"xg_z\"], ascending=False)"
   ]
  },
  {
   "cell_type": "code",
   "execution_count": 470,
   "metadata": {},
   "outputs": [],
   "source": [
    "ned2006xg13 = ned2006xg.head(13)\n"
   ]
  },
  {
   "cell_type": "code",
   "execution_count": 471,
   "metadata": {},
   "outputs": [],
   "source": [
    "ned2006xg13 = ned2006xg13.drop(columns=['season', 'team'])\n"
   ]
  },
  {
   "cell_type": "code",
   "execution_count": 472,
   "metadata": {},
   "outputs": [],
   "source": [
    "ned2006 = ned2006xg13.mean()\n"
   ]
  },
  {
   "cell_type": "code",
   "execution_count": 473,
   "metadata": {},
   "outputs": [
    {
     "data": {
      "text/plain": [
       "goals_z            0.013846\n",
       "xg_z               0.156923\n",
       "crosses_z         -0.199231\n",
       "boxtouches_z       0.152308\n",
       "passes_z           0.206154\n",
       "progpasses_z      -0.116154\n",
       "takeons_z          0.176154\n",
       "progruns_z         0.516923\n",
       "tackles_z          0.402308\n",
       "interceptions_z    0.362308\n",
       "clearances_z       0.180000\n",
       "blocks_z           0.275385\n",
       "aerials_z         -0.016923\n",
       "fouls_z            0.567692\n",
       "fouled_z          -0.043077\n",
       "nsxg_z             0.080000\n",
       "dtype: float64"
      ]
     },
     "execution_count": 473,
     "metadata": {},
     "output_type": "execute_result"
    }
   ],
   "source": [
    "ned2006"
   ]
  },
  {
   "cell_type": "code",
   "execution_count": null,
   "metadata": {},
   "outputs": [],
   "source": [
    "# (.156923 + .080000) / .013846\n"
   ]
  },
  {
   "cell_type": "markdown",
   "metadata": {},
   "source": [
    "### Fouled"
   ]
  },
  {
   "cell_type": "code",
   "execution_count": null,
   "metadata": {},
   "outputs": [],
   "source": [
    "# -0.043077 - .567692"
   ]
  },
  {
   "cell_type": "code",
   "execution_count": null,
   "metadata": {},
   "outputs": [],
   "source": [
    "# new_row = {'Country': 'Netherlands', 'Year': 2006, 'goals_z': 0.013846, 'xg_z': 0.156923, \n",
    "#            'boxtouches_z': 0.152308, 'progpasses_z': -0.116154, 'progruns_z': 0.516923, \n",
    "#            'new_xg': 17.111295, 'Fouled': -0.610769, 'results': 16}\n",
    "# stats_df = stats_df.append(new_row, ignore_index=True)"
   ]
  },
  {
   "cell_type": "markdown",
   "metadata": {},
   "source": [
    "## 2002 NA"
   ]
  },
  {
   "cell_type": "code",
   "execution_count": null,
   "metadata": {},
   "outputs": [],
   "source": [
    "ned2014\n",
    "ned2010\n",
    "ned2006"
   ]
  },
  {
   "cell_type": "code",
   "execution_count": 1080,
   "metadata": {},
   "outputs": [],
   "source": [
    "neth = pd.concat([ned2014, ned2010, ned2006], axis=1).T\n"
   ]
  },
  {
   "cell_type": "code",
   "execution_count": 1081,
   "metadata": {},
   "outputs": [
    {
     "data": {
      "text/html": [
       "<div>\n",
       "<style scoped>\n",
       "    .dataframe tbody tr th:only-of-type {\n",
       "        vertical-align: middle;\n",
       "    }\n",
       "\n",
       "    .dataframe tbody tr th {\n",
       "        vertical-align: top;\n",
       "    }\n",
       "\n",
       "    .dataframe thead th {\n",
       "        text-align: right;\n",
       "    }\n",
       "</style>\n",
       "<table border=\"1\" class=\"dataframe\">\n",
       "  <thead>\n",
       "    <tr style=\"text-align: right;\">\n",
       "      <th></th>\n",
       "      <th>goals_z</th>\n",
       "      <th>xg_z</th>\n",
       "      <th>crosses_z</th>\n",
       "      <th>boxtouches_z</th>\n",
       "      <th>passes_z</th>\n",
       "      <th>progpasses_z</th>\n",
       "      <th>takeons_z</th>\n",
       "      <th>progruns_z</th>\n",
       "      <th>tackles_z</th>\n",
       "      <th>interceptions_z</th>\n",
       "      <th>clearances_z</th>\n",
       "      <th>blocks_z</th>\n",
       "      <th>aerials_z</th>\n",
       "      <th>fouls_z</th>\n",
       "      <th>fouled_z</th>\n",
       "      <th>nsxg_z</th>\n",
       "    </tr>\n",
       "  </thead>\n",
       "  <tbody>\n",
       "    <tr>\n",
       "      <th>0</th>\n",
       "      <td>0.493846</td>\n",
       "      <td>0.406923</td>\n",
       "      <td>-0.040769</td>\n",
       "      <td>0.096923</td>\n",
       "      <td>0.100769</td>\n",
       "      <td>-0.169231</td>\n",
       "      <td>0.306154</td>\n",
       "      <td>0.098462</td>\n",
       "      <td>-0.032308</td>\n",
       "      <td>0.130000</td>\n",
       "      <td>0.096923</td>\n",
       "      <td>-0.174615</td>\n",
       "      <td>0.257692</td>\n",
       "      <td>0.289231</td>\n",
       "      <td>-0.020000</td>\n",
       "      <td>0.103846</td>\n",
       "    </tr>\n",
       "    <tr>\n",
       "      <th>1</th>\n",
       "      <td>0.396923</td>\n",
       "      <td>0.126923</td>\n",
       "      <td>-0.092308</td>\n",
       "      <td>0.162308</td>\n",
       "      <td>0.374615</td>\n",
       "      <td>0.073077</td>\n",
       "      <td>0.154615</td>\n",
       "      <td>0.135385</td>\n",
       "      <td>0.298462</td>\n",
       "      <td>0.298462</td>\n",
       "      <td>0.063077</td>\n",
       "      <td>0.316154</td>\n",
       "      <td>0.041538</td>\n",
       "      <td>0.368462</td>\n",
       "      <td>0.439231</td>\n",
       "      <td>0.127692</td>\n",
       "    </tr>\n",
       "    <tr>\n",
       "      <th>2</th>\n",
       "      <td>0.013846</td>\n",
       "      <td>0.156923</td>\n",
       "      <td>-0.199231</td>\n",
       "      <td>0.152308</td>\n",
       "      <td>0.206154</td>\n",
       "      <td>-0.116154</td>\n",
       "      <td>0.176154</td>\n",
       "      <td>0.516923</td>\n",
       "      <td>0.402308</td>\n",
       "      <td>0.362308</td>\n",
       "      <td>0.180000</td>\n",
       "      <td>0.275385</td>\n",
       "      <td>-0.016923</td>\n",
       "      <td>0.567692</td>\n",
       "      <td>-0.043077</td>\n",
       "      <td>0.080000</td>\n",
       "    </tr>\n",
       "  </tbody>\n",
       "</table>\n",
       "</div>"
      ],
      "text/plain": [
       "    goals_z      xg_z  crosses_z  boxtouches_z  passes_z  progpasses_z  \\\n",
       "0  0.493846  0.406923  -0.040769      0.096923  0.100769     -0.169231   \n",
       "1  0.396923  0.126923  -0.092308      0.162308  0.374615      0.073077   \n",
       "2  0.013846  0.156923  -0.199231      0.152308  0.206154     -0.116154   \n",
       "\n",
       "   takeons_z  progruns_z  tackles_z  interceptions_z  clearances_z  blocks_z  \\\n",
       "0   0.306154    0.098462  -0.032308         0.130000      0.096923 -0.174615   \n",
       "1   0.154615    0.135385   0.298462         0.298462      0.063077  0.316154   \n",
       "2   0.176154    0.516923   0.402308         0.362308      0.180000  0.275385   \n",
       "\n",
       "   aerials_z   fouls_z  fouled_z    nsxg_z  \n",
       "0   0.257692  0.289231 -0.020000  0.103846  \n",
       "1   0.041538  0.368462  0.439231  0.127692  \n",
       "2  -0.016923  0.567692 -0.043077  0.080000  "
      ]
     },
     "execution_count": 1081,
     "metadata": {},
     "output_type": "execute_result"
    }
   ],
   "source": [
    "neth"
   ]
  },
  {
   "cell_type": "code",
   "execution_count": 1082,
   "metadata": {},
   "outputs": [],
   "source": [
    "neth.rename(index={0: 'Netherlands14', 1: 'Netherlands10',\n",
    "                   2: 'Netherlands06'}, inplace=True)\n"
   ]
  },
  {
   "cell_type": "code",
   "execution_count": 1083,
   "metadata": {},
   "outputs": [],
   "source": [
    "df2 = neth.assign(results=[3, 2, 11])\n"
   ]
  },
  {
   "cell_type": "code",
   "execution_count": 1085,
   "metadata": {},
   "outputs": [],
   "source": [
    "# df2.to_csv('Netherlands.csv', index=False)\n"
   ]
  },
  {
   "cell_type": "markdown",
   "metadata": {},
   "source": [
    "# Brazil"
   ]
  },
  {
   "cell_type": "code",
   "execution_count": 474,
   "metadata": {},
   "outputs": [],
   "source": [
    "bra = ['Brazil']"
   ]
  },
  {
   "cell_type": "code",
   "execution_count": 475,
   "metadata": {},
   "outputs": [],
   "source": [
    "bra_year = comparisons.loc[comparisons[\"team\"].isin(bra)]"
   ]
  },
  {
   "cell_type": "code",
   "execution_count": 476,
   "metadata": {},
   "outputs": [],
   "source": [
    "bra2010year = bra_year.loc[bra_year[\"season\"].isin(year2010)]"
   ]
  },
  {
   "cell_type": "code",
   "execution_count": 477,
   "metadata": {},
   "outputs": [],
   "source": [
    "bra2010xg = bra2010year.sort_values(by=[\"xg_z\"], ascending=False)"
   ]
  },
  {
   "cell_type": "code",
   "execution_count": 478,
   "metadata": {},
   "outputs": [],
   "source": [
    "bra2010xg13 = bra2010xg.head(13)"
   ]
  },
  {
   "cell_type": "code",
   "execution_count": 479,
   "metadata": {},
   "outputs": [],
   "source": [
    "bra2010xg13 = bra2010xg13.drop(columns=['season', 'team'])\n"
   ]
  },
  {
   "cell_type": "code",
   "execution_count": 480,
   "metadata": {},
   "outputs": [],
   "source": [
    "bra2010 = bra2010xg13.mean()"
   ]
  },
  {
   "cell_type": "code",
   "execution_count": 481,
   "metadata": {},
   "outputs": [
    {
     "data": {
      "text/plain": [
       "goals_z            0.557692\n",
       "xg_z               0.186923\n",
       "crosses_z          0.141538\n",
       "boxtouches_z       0.398462\n",
       "passes_z           0.779231\n",
       "progpasses_z       0.247692\n",
       "takeons_z          0.840000\n",
       "progruns_z         0.937692\n",
       "tackles_z          0.810769\n",
       "interceptions_z    1.031538\n",
       "clearances_z      -0.114615\n",
       "blocks_z           0.365385\n",
       "aerials_z          0.004615\n",
       "fouls_z            0.248462\n",
       "fouled_z           0.331538\n",
       "nsxg_z             0.535385\n",
       "dtype: float64"
      ]
     },
     "execution_count": 481,
     "metadata": {},
     "output_type": "execute_result"
    }
   ],
   "source": [
    "bra2010"
   ]
  },
  {
   "cell_type": "code",
   "execution_count": null,
   "metadata": {},
   "outputs": [],
   "source": [
    "# (.186923 + .535385) / .557692"
   ]
  },
  {
   "cell_type": "markdown",
   "metadata": {},
   "source": [
    "### Fouled"
   ]
  },
  {
   "cell_type": "code",
   "execution_count": null,
   "metadata": {},
   "outputs": [],
   "source": [
    "# .331538 - .248462"
   ]
  },
  {
   "cell_type": "code",
   "execution_count": null,
   "metadata": {},
   "outputs": [],
   "source": [
    "# new_row = {'Country': 'Brazil', 'Year': 2010, 'goals_z': 0.557692,'xg_z': 0.186923, \n",
    "#            'boxtouches_z': 0.398462, \"progpasses_z\": 0.247692, 'progruns_z': 0.937692, \n",
    "#            'new_xg': 1.29517, 'Fouled': 0.08307, 'results': 8}\n",
    "\n",
    "# stats_df = stats_df.append(new_row, ignore_index=True)"
   ]
  },
  {
   "cell_type": "markdown",
   "metadata": {},
   "source": [
    "## 2014"
   ]
  },
  {
   "cell_type": "code",
   "execution_count": 482,
   "metadata": {},
   "outputs": [],
   "source": [
    "bra2014year = bra_year.loc[bra_year[\"season\"].isin(year2014)]\n"
   ]
  },
  {
   "cell_type": "code",
   "execution_count": 483,
   "metadata": {},
   "outputs": [],
   "source": [
    "bra2014xg = bra2014year.sort_values(by=[\"xg_z\"], ascending=False)\n"
   ]
  },
  {
   "cell_type": "code",
   "execution_count": 484,
   "metadata": {},
   "outputs": [],
   "source": [
    "bra2014xg13 = bra2014xg.head(13)\n"
   ]
  },
  {
   "cell_type": "code",
   "execution_count": 485,
   "metadata": {},
   "outputs": [],
   "source": [
    "bra2014xg13 = bra2014xg13.drop(columns=['season', 'team'])\n"
   ]
  },
  {
   "cell_type": "code",
   "execution_count": 486,
   "metadata": {},
   "outputs": [],
   "source": [
    "bra2014 = bra2014xg13.mean()\n"
   ]
  },
  {
   "cell_type": "code",
   "execution_count": 487,
   "metadata": {},
   "outputs": [
    {
     "data": {
      "text/plain": [
       "goals_z            0.328462\n",
       "xg_z               0.376154\n",
       "crosses_z          0.029231\n",
       "boxtouches_z       0.475385\n",
       "passes_z          -0.003846\n",
       "progpasses_z      -0.193077\n",
       "takeons_z          0.420000\n",
       "progruns_z         0.408462\n",
       "tackles_z          0.374615\n",
       "interceptions_z    0.369231\n",
       "clearances_z       0.019231\n",
       "blocks_z           0.116923\n",
       "aerials_z          0.269231\n",
       "fouls_z            0.443846\n",
       "fouled_z           0.551538\n",
       "nsxg_z             0.291538\n",
       "dtype: float64"
      ]
     },
     "execution_count": 487,
     "metadata": {},
     "output_type": "execute_result"
    }
   ],
   "source": [
    "bra2014\n"
   ]
  },
  {
   "cell_type": "code",
   "execution_count": null,
   "metadata": {},
   "outputs": [],
   "source": [
    "# (.376154 + .291538) / .328462\n"
   ]
  },
  {
   "cell_type": "markdown",
   "metadata": {},
   "source": [
    "### Fouled"
   ]
  },
  {
   "cell_type": "code",
   "execution_count": null,
   "metadata": {},
   "outputs": [],
   "source": [
    "# .551538 - .443846"
   ]
  },
  {
   "cell_type": "code",
   "execution_count": null,
   "metadata": {},
   "outputs": [],
   "source": [
    "# new_row = {'Country': 'Brazil', 'Year': 2014, 'goals_z':0.328462, 'xg_z': 0.376154, \n",
    "#            'boxtouches_z':0.475385, 'progpasses_z':-0.193077, 'progruns_z':0.408462, \n",
    "#            'new_xg': 2.03278, 'Fouled': 0.107691, 'results': 4}\n",
    "# stats_df = stats_df.append(new_row, ignore_index=True)"
   ]
  },
  {
   "cell_type": "markdown",
   "metadata": {},
   "source": [
    "## 2018\n"
   ]
  },
  {
   "cell_type": "code",
   "execution_count": 488,
   "metadata": {},
   "outputs": [],
   "source": [
    "bra2018year = bra_year.loc[bra_year[\"season\"].isin(year2018)]\n"
   ]
  },
  {
   "cell_type": "code",
   "execution_count": 489,
   "metadata": {},
   "outputs": [],
   "source": [
    "bra2018xg = bra2018year.sort_values(by=[\"xg_z\"], ascending=False)\n"
   ]
  },
  {
   "cell_type": "code",
   "execution_count": 490,
   "metadata": {},
   "outputs": [],
   "source": [
    "bra2018xg13 = bra2018xg.head(13)\n"
   ]
  },
  {
   "cell_type": "code",
   "execution_count": 491,
   "metadata": {},
   "outputs": [],
   "source": [
    "bra2018xg13 = bra2018xg13.drop(columns=['season', 'team'])\n"
   ]
  },
  {
   "cell_type": "code",
   "execution_count": 492,
   "metadata": {},
   "outputs": [],
   "source": [
    "bra2018 = bra2018xg13.mean()\n"
   ]
  },
  {
   "cell_type": "code",
   "execution_count": 493,
   "metadata": {},
   "outputs": [
    {
     "data": {
      "text/plain": [
       "goals_z            0.427692\n",
       "xg_z               0.864615\n",
       "crosses_z          0.352308\n",
       "boxtouches_z       1.153077\n",
       "passes_z           0.580769\n",
       "progpasses_z      -0.015385\n",
       "takeons_z          0.663846\n",
       "progruns_z         1.092308\n",
       "tackles_z          0.813077\n",
       "interceptions_z    0.810000\n",
       "clearances_z      -0.140769\n",
       "blocks_z           0.348462\n",
       "aerials_z         -0.026154\n",
       "fouls_z           -0.186923\n",
       "fouled_z           0.419231\n",
       "nsxg_z             1.027692\n",
       "dtype: float64"
      ]
     },
     "execution_count": 493,
     "metadata": {},
     "output_type": "execute_result"
    }
   ],
   "source": [
    "bra2018"
   ]
  },
  {
   "cell_type": "code",
   "execution_count": null,
   "metadata": {},
   "outputs": [],
   "source": [
    "# (.864615 + 1.027692) / .427692\n"
   ]
  },
  {
   "cell_type": "markdown",
   "metadata": {},
   "source": [
    "### Fouled"
   ]
  },
  {
   "cell_type": "code",
   "execution_count": null,
   "metadata": {},
   "outputs": [],
   "source": [
    "# .419231 - -0.186923"
   ]
  },
  {
   "cell_type": "code",
   "execution_count": null,
   "metadata": {},
   "outputs": [],
   "source": [
    "# new_row = {'Country': 'Brazil', 'Year': 2018, 'goals_z':0.427692, 'xg_z':0.864615, \n",
    "#            'boxtouches_z':1.153077, 'progpasses_z':-0.015385, 'progruns_z':1.092308, \n",
    "#            'new_xg': 4.42446, 'Fouled': 0.606154, 'results': 8}\n",
    "# stats_df = stats_df.append(new_row, ignore_index=True)"
   ]
  },
  {
   "cell_type": "markdown",
   "metadata": {},
   "source": [
    "## 2006"
   ]
  },
  {
   "cell_type": "code",
   "execution_count": 494,
   "metadata": {},
   "outputs": [],
   "source": [
    "bra2006year = bra_year.loc[bra_year[\"season\"].isin(year2006)]\n"
   ]
  },
  {
   "cell_type": "code",
   "execution_count": 495,
   "metadata": {},
   "outputs": [],
   "source": [
    "bra2006xg = bra2006year.sort_values(by=[\"xg_z\"], ascending=False)\n"
   ]
  },
  {
   "cell_type": "code",
   "execution_count": 496,
   "metadata": {},
   "outputs": [],
   "source": [
    "bra2006xg13 = bra2006xg.head(13)\n"
   ]
  },
  {
   "cell_type": "code",
   "execution_count": 497,
   "metadata": {},
   "outputs": [],
   "source": [
    "bra2006xg13 = bra2006xg13.drop(columns=['season', 'team'])\n"
   ]
  },
  {
   "cell_type": "code",
   "execution_count": 498,
   "metadata": {},
   "outputs": [],
   "source": [
    "bra2006 = bra2006xg13.mean()\n"
   ]
  },
  {
   "cell_type": "code",
   "execution_count": 499,
   "metadata": {},
   "outputs": [
    {
     "data": {
      "text/plain": [
       "goals_z            0.619231\n",
       "xg_z               0.383846\n",
       "crosses_z          0.065385\n",
       "boxtouches_z       0.277692\n",
       "passes_z           0.701538\n",
       "progpasses_z       0.052308\n",
       "takeons_z          0.698462\n",
       "progruns_z         0.713077\n",
       "tackles_z          0.458462\n",
       "interceptions_z    0.313846\n",
       "clearances_z       0.132308\n",
       "blocks_z           0.086923\n",
       "aerials_z         -0.155385\n",
       "fouls_z           -0.013077\n",
       "fouled_z           0.286154\n",
       "nsxg_z             0.434615\n",
       "dtype: float64"
      ]
     },
     "execution_count": 499,
     "metadata": {},
     "output_type": "execute_result"
    }
   ],
   "source": [
    "bra2006"
   ]
  },
  {
   "cell_type": "code",
   "execution_count": null,
   "metadata": {},
   "outputs": [],
   "source": [
    "# (.383846 + .434615) / .619231\n"
   ]
  },
  {
   "cell_type": "markdown",
   "metadata": {},
   "source": [
    "### Fouled"
   ]
  },
  {
   "cell_type": "code",
   "execution_count": null,
   "metadata": {},
   "outputs": [],
   "source": [
    "# .286154 - -0.013077"
   ]
  },
  {
   "cell_type": "code",
   "execution_count": 500,
   "metadata": {},
   "outputs": [],
   "source": [
    "# new_row = {'Country': 'Brazil', 'Year': 2006, 'goals_z':0.619231, 'xg_z':0.383846, \n",
    "#            'boxtouches_z':0.277692, 'progpasses_z':0.052308, 'progruns_z':0.713077, \n",
    "#            'new_xg': 1.32173, 'Fouled': 0.299231, 'results': 8}\n",
    "# stats_df = stats_df.append(new_row, ignore_index=True)"
   ]
  },
  {
   "cell_type": "markdown",
   "metadata": {},
   "source": [
    "## 2002"
   ]
  },
  {
   "cell_type": "code",
   "execution_count": 501,
   "metadata": {},
   "outputs": [],
   "source": [
    "bra2002year = bra_year.loc[bra_year[\"season\"].isin(year2002)]\n"
   ]
  },
  {
   "cell_type": "code",
   "execution_count": 502,
   "metadata": {},
   "outputs": [],
   "source": [
    "bra2002xg = bra2002year.sort_values(by=[\"xg_z\"], ascending=False)\n"
   ]
  },
  {
   "cell_type": "code",
   "execution_count": 503,
   "metadata": {},
   "outputs": [],
   "source": [
    "bra2002xg13 = bra2002xg.head(13)\n"
   ]
  },
  {
   "cell_type": "code",
   "execution_count": 504,
   "metadata": {},
   "outputs": [],
   "source": [
    "bra2002xg13 = bra2002xg13.drop(columns=['season', 'team'])\n"
   ]
  },
  {
   "cell_type": "code",
   "execution_count": 505,
   "metadata": {},
   "outputs": [],
   "source": [
    "bra2002 = bra2002xg13.mean()\n"
   ]
  },
  {
   "cell_type": "code",
   "execution_count": 506,
   "metadata": {},
   "outputs": [
    {
     "data": {
      "text/plain": [
       "goals_z            0.843846\n",
       "xg_z               0.712308\n",
       "crosses_z          0.016923\n",
       "boxtouches_z       0.245385\n",
       "passes_z           0.010769\n",
       "progpasses_z      -0.181538\n",
       "takeons_z          0.940769\n",
       "progruns_z         0.834615\n",
       "tackles_z          0.241538\n",
       "interceptions_z    0.035385\n",
       "clearances_z      -0.039231\n",
       "blocks_z           0.131538\n",
       "aerials_z         -0.166154\n",
       "fouls_z           -0.134615\n",
       "fouled_z           0.100769\n",
       "nsxg_z             0.306154\n",
       "dtype: float64"
      ]
     },
     "execution_count": 506,
     "metadata": {},
     "output_type": "execute_result"
    }
   ],
   "source": [
    "\n",
    "bra2002"
   ]
  },
  {
   "cell_type": "code",
   "execution_count": null,
   "metadata": {},
   "outputs": [],
   "source": [
    "# (.712308 + .306154) / .843846\n"
   ]
  },
  {
   "cell_type": "markdown",
   "metadata": {},
   "source": [
    "### Fouled"
   ]
  },
  {
   "cell_type": "code",
   "execution_count": null,
   "metadata": {},
   "outputs": [],
   "source": [
    "# .100769 - -0.134615"
   ]
  },
  {
   "cell_type": "code",
   "execution_count": null,
   "metadata": {},
   "outputs": [],
   "source": [
    "# new_row = {'Country': 'Brazil', 'Year': 2002, 'goals_z':0.843846, 'xg_z':0.712308, \n",
    "#            'boxtouches_z':0.245385, 'progpasses_z':-0.181538, 'progruns_z':0.834615, \n",
    "#            'new_xg': 1.206928, 'Fouled': 0.235384, 'results': 1}\n",
    "# stats_df = stats_df.append(new_row, ignore_index=True)"
   ]
  },
  {
   "cell_type": "code",
   "execution_count": null,
   "metadata": {},
   "outputs": [],
   "source": [
    "bra2018\n",
    "bra2014\n",
    "bra2010\n",
    "bra2006\n",
    "bra2002"
   ]
  },
  {
   "cell_type": "code",
   "execution_count": 1086,
   "metadata": {},
   "outputs": [],
   "source": [
    "braz = pd.concat([bra2002, bra2006, bra2010, bra2014,\n",
    "                  bra2018], axis=1).T\n"
   ]
  },
  {
   "cell_type": "code",
   "execution_count": 1087,
   "metadata": {},
   "outputs": [],
   "source": [
    "braz.rename(index={0: 'Brazil02', 1: 'Brazil06', 2: 'Brazil10',\n",
    "                   3: 'Brazil14', 4: 'Brazil18'}, inplace=True)\n"
   ]
  },
  {
   "cell_type": "code",
   "execution_count": 1088,
   "metadata": {},
   "outputs": [
    {
     "data": {
      "text/html": [
       "<div>\n",
       "<style scoped>\n",
       "    .dataframe tbody tr th:only-of-type {\n",
       "        vertical-align: middle;\n",
       "    }\n",
       "\n",
       "    .dataframe tbody tr th {\n",
       "        vertical-align: top;\n",
       "    }\n",
       "\n",
       "    .dataframe thead th {\n",
       "        text-align: right;\n",
       "    }\n",
       "</style>\n",
       "<table border=\"1\" class=\"dataframe\">\n",
       "  <thead>\n",
       "    <tr style=\"text-align: right;\">\n",
       "      <th></th>\n",
       "      <th>goals_z</th>\n",
       "      <th>xg_z</th>\n",
       "      <th>crosses_z</th>\n",
       "      <th>boxtouches_z</th>\n",
       "      <th>passes_z</th>\n",
       "      <th>progpasses_z</th>\n",
       "      <th>takeons_z</th>\n",
       "      <th>progruns_z</th>\n",
       "      <th>tackles_z</th>\n",
       "      <th>interceptions_z</th>\n",
       "      <th>clearances_z</th>\n",
       "      <th>blocks_z</th>\n",
       "      <th>aerials_z</th>\n",
       "      <th>fouls_z</th>\n",
       "      <th>fouled_z</th>\n",
       "      <th>nsxg_z</th>\n",
       "    </tr>\n",
       "  </thead>\n",
       "  <tbody>\n",
       "    <tr>\n",
       "      <th>Brazil02</th>\n",
       "      <td>0.843846</td>\n",
       "      <td>0.712308</td>\n",
       "      <td>0.016923</td>\n",
       "      <td>0.245385</td>\n",
       "      <td>0.010769</td>\n",
       "      <td>-0.181538</td>\n",
       "      <td>0.940769</td>\n",
       "      <td>0.834615</td>\n",
       "      <td>0.241538</td>\n",
       "      <td>0.035385</td>\n",
       "      <td>-0.039231</td>\n",
       "      <td>0.131538</td>\n",
       "      <td>-0.166154</td>\n",
       "      <td>-0.134615</td>\n",
       "      <td>0.100769</td>\n",
       "      <td>0.306154</td>\n",
       "    </tr>\n",
       "    <tr>\n",
       "      <th>Brazil06</th>\n",
       "      <td>0.619231</td>\n",
       "      <td>0.383846</td>\n",
       "      <td>0.065385</td>\n",
       "      <td>0.277692</td>\n",
       "      <td>0.701538</td>\n",
       "      <td>0.052308</td>\n",
       "      <td>0.698462</td>\n",
       "      <td>0.713077</td>\n",
       "      <td>0.458462</td>\n",
       "      <td>0.313846</td>\n",
       "      <td>0.132308</td>\n",
       "      <td>0.086923</td>\n",
       "      <td>-0.155385</td>\n",
       "      <td>-0.013077</td>\n",
       "      <td>0.286154</td>\n",
       "      <td>0.434615</td>\n",
       "    </tr>\n",
       "    <tr>\n",
       "      <th>Brazil10</th>\n",
       "      <td>0.557692</td>\n",
       "      <td>0.186923</td>\n",
       "      <td>0.141538</td>\n",
       "      <td>0.398462</td>\n",
       "      <td>0.779231</td>\n",
       "      <td>0.247692</td>\n",
       "      <td>0.840000</td>\n",
       "      <td>0.937692</td>\n",
       "      <td>0.810769</td>\n",
       "      <td>1.031538</td>\n",
       "      <td>-0.114615</td>\n",
       "      <td>0.365385</td>\n",
       "      <td>0.004615</td>\n",
       "      <td>0.248462</td>\n",
       "      <td>0.331538</td>\n",
       "      <td>0.535385</td>\n",
       "    </tr>\n",
       "    <tr>\n",
       "      <th>Brazil14</th>\n",
       "      <td>0.328462</td>\n",
       "      <td>0.376154</td>\n",
       "      <td>0.029231</td>\n",
       "      <td>0.475385</td>\n",
       "      <td>-0.003846</td>\n",
       "      <td>-0.193077</td>\n",
       "      <td>0.420000</td>\n",
       "      <td>0.408462</td>\n",
       "      <td>0.374615</td>\n",
       "      <td>0.369231</td>\n",
       "      <td>0.019231</td>\n",
       "      <td>0.116923</td>\n",
       "      <td>0.269231</td>\n",
       "      <td>0.443846</td>\n",
       "      <td>0.551538</td>\n",
       "      <td>0.291538</td>\n",
       "    </tr>\n",
       "    <tr>\n",
       "      <th>Brazil18</th>\n",
       "      <td>0.427692</td>\n",
       "      <td>0.864615</td>\n",
       "      <td>0.352308</td>\n",
       "      <td>1.153077</td>\n",
       "      <td>0.580769</td>\n",
       "      <td>-0.015385</td>\n",
       "      <td>0.663846</td>\n",
       "      <td>1.092308</td>\n",
       "      <td>0.813077</td>\n",
       "      <td>0.810000</td>\n",
       "      <td>-0.140769</td>\n",
       "      <td>0.348462</td>\n",
       "      <td>-0.026154</td>\n",
       "      <td>-0.186923</td>\n",
       "      <td>0.419231</td>\n",
       "      <td>1.027692</td>\n",
       "    </tr>\n",
       "  </tbody>\n",
       "</table>\n",
       "</div>"
      ],
      "text/plain": [
       "           goals_z      xg_z  crosses_z  boxtouches_z  passes_z  progpasses_z  \\\n",
       "Brazil02  0.843846  0.712308   0.016923      0.245385  0.010769     -0.181538   \n",
       "Brazil06  0.619231  0.383846   0.065385      0.277692  0.701538      0.052308   \n",
       "Brazil10  0.557692  0.186923   0.141538      0.398462  0.779231      0.247692   \n",
       "Brazil14  0.328462  0.376154   0.029231      0.475385 -0.003846     -0.193077   \n",
       "Brazil18  0.427692  0.864615   0.352308      1.153077  0.580769     -0.015385   \n",
       "\n",
       "          takeons_z  progruns_z  tackles_z  interceptions_z  clearances_z  \\\n",
       "Brazil02   0.940769    0.834615   0.241538         0.035385     -0.039231   \n",
       "Brazil06   0.698462    0.713077   0.458462         0.313846      0.132308   \n",
       "Brazil10   0.840000    0.937692   0.810769         1.031538     -0.114615   \n",
       "Brazil14   0.420000    0.408462   0.374615         0.369231      0.019231   \n",
       "Brazil18   0.663846    1.092308   0.813077         0.810000     -0.140769   \n",
       "\n",
       "          blocks_z  aerials_z   fouls_z  fouled_z    nsxg_z  \n",
       "Brazil02  0.131538  -0.166154 -0.134615  0.100769  0.306154  \n",
       "Brazil06  0.086923  -0.155385 -0.013077  0.286154  0.434615  \n",
       "Brazil10  0.365385   0.004615  0.248462  0.331538  0.535385  \n",
       "Brazil14  0.116923   0.269231  0.443846  0.551538  0.291538  \n",
       "Brazil18  0.348462  -0.026154 -0.186923  0.419231  1.027692  "
      ]
     },
     "execution_count": 1088,
     "metadata": {},
     "output_type": "execute_result"
    }
   ],
   "source": [
    "braz"
   ]
  },
  {
   "cell_type": "code",
   "execution_count": 1089,
   "metadata": {},
   "outputs": [],
   "source": [
    "df2 = braz.assign(results=[1, 5, 6, 4, 6])\n"
   ]
  },
  {
   "cell_type": "code",
   "execution_count": 1092,
   "metadata": {},
   "outputs": [],
   "source": [
    "# df2"
   ]
  },
  {
   "cell_type": "code",
   "execution_count": 1093,
   "metadata": {},
   "outputs": [],
   "source": [
    "# df2.to_csv('Brazil1.csv', index=False)\n"
   ]
  },
  {
   "cell_type": "markdown",
   "metadata": {},
   "source": [
    "# Belgium"
   ]
  },
  {
   "cell_type": "markdown",
   "metadata": {},
   "source": [
    "## 2010 NA"
   ]
  },
  {
   "cell_type": "markdown",
   "metadata": {},
   "source": [
    "need to go back and add 2010 bel_year"
   ]
  },
  {
   "cell_type": "markdown",
   "metadata": {},
   "source": [
    "## 2014"
   ]
  },
  {
   "cell_type": "code",
   "execution_count": 507,
   "metadata": {},
   "outputs": [],
   "source": [
    "bel = ['Belgium']"
   ]
  },
  {
   "cell_type": "code",
   "execution_count": 508,
   "metadata": {},
   "outputs": [],
   "source": [
    "bel_year = comparisons.loc[comparisons[\"team\"].isin(bel)]"
   ]
  },
  {
   "cell_type": "code",
   "execution_count": 509,
   "metadata": {},
   "outputs": [],
   "source": [
    "bel2014year = bel_year.loc[bel_year[\"season\"].isin(year2014)]\n"
   ]
  },
  {
   "cell_type": "code",
   "execution_count": 510,
   "metadata": {},
   "outputs": [],
   "source": [
    "bel2014xg = bel2014year.sort_values(by=[\"xg_z\"], ascending=False)\n"
   ]
  },
  {
   "cell_type": "code",
   "execution_count": 511,
   "metadata": {},
   "outputs": [],
   "source": [
    "bel2014xg13 = bel2014xg.head(13)\n"
   ]
  },
  {
   "cell_type": "code",
   "execution_count": 512,
   "metadata": {},
   "outputs": [],
   "source": [
    "bel2014xg13 = bel2014xg13.drop(columns=['season', 'team'])\n"
   ]
  },
  {
   "cell_type": "code",
   "execution_count": 513,
   "metadata": {},
   "outputs": [],
   "source": [
    "bel2014 = bel2014xg13.mean()\n"
   ]
  },
  {
   "cell_type": "code",
   "execution_count": 514,
   "metadata": {},
   "outputs": [
    {
     "data": {
      "text/plain": [
       "goals_z            0.137692\n",
       "xg_z               0.210000\n",
       "crosses_z          0.308462\n",
       "boxtouches_z       0.536154\n",
       "passes_z           0.218462\n",
       "progpasses_z      -0.097692\n",
       "takeons_z          0.590769\n",
       "progruns_z         0.853846\n",
       "tackles_z          0.253077\n",
       "interceptions_z    0.376154\n",
       "clearances_z       0.023077\n",
       "blocks_z           0.193846\n",
       "aerials_z          0.585385\n",
       "fouls_z            0.373077\n",
       "fouled_z          -0.080000\n",
       "nsxg_z             0.473077\n",
       "dtype: float64"
      ]
     },
     "execution_count": 514,
     "metadata": {},
     "output_type": "execute_result"
    }
   ],
   "source": [
    "bel2014"
   ]
  },
  {
   "cell_type": "code",
   "execution_count": null,
   "metadata": {},
   "outputs": [],
   "source": [
    "# (.210000 + .473077) / .137692\n"
   ]
  },
  {
   "cell_type": "markdown",
   "metadata": {},
   "source": [
    "### Fouled"
   ]
  },
  {
   "cell_type": "code",
   "execution_count": null,
   "metadata": {},
   "outputs": [],
   "source": [
    "# -0.080000 - 0.373077"
   ]
  },
  {
   "cell_type": "code",
   "execution_count": null,
   "metadata": {},
   "outputs": [],
   "source": [
    "# new_row = {'Country': 'Belgium', 'Year': 2014, 'goals_z': 0.137692, 'xg_z':0.210000, \n",
    "#            'boxtouches_z':0.536154, 'progpasses_z':-0.097692, 'progruns_z':0.853846, \n",
    "#            'new_xg': 4.96090, 'Fouled': -0.453077, 'results': 8}\n",
    "# stats_df = stats_df.append(new_row, ignore_index=True)"
   ]
  },
  {
   "cell_type": "markdown",
   "metadata": {},
   "source": [
    "## 2018"
   ]
  },
  {
   "cell_type": "code",
   "execution_count": 515,
   "metadata": {},
   "outputs": [],
   "source": [
    "bel2018year = bel_year.loc[bel_year[\"season\"].isin(year2018)]\n"
   ]
  },
  {
   "cell_type": "code",
   "execution_count": 516,
   "metadata": {},
   "outputs": [],
   "source": [
    "bel2018xg = bel2018year.sort_values(by=[\"xg_z\"], ascending=False)\n"
   ]
  },
  {
   "cell_type": "code",
   "execution_count": 517,
   "metadata": {},
   "outputs": [],
   "source": [
    "bel2018xg13 = bel2018xg.head(13)\n"
   ]
  },
  {
   "cell_type": "code",
   "execution_count": 518,
   "metadata": {},
   "outputs": [],
   "source": [
    "bel2018xg13 = bel2018xg13.drop(columns=['season', 'team'])\n"
   ]
  },
  {
   "cell_type": "code",
   "execution_count": 519,
   "metadata": {},
   "outputs": [],
   "source": [
    "bel2018 = bel2018xg13.mean()\n"
   ]
  },
  {
   "cell_type": "code",
   "execution_count": 520,
   "metadata": {},
   "outputs": [
    {
     "data": {
      "text/plain": [
       "goals_z            0.566154\n",
       "xg_z               0.560769\n",
       "crosses_z          0.234615\n",
       "boxtouches_z       0.446923\n",
       "passes_z           0.162308\n",
       "progpasses_z      -0.037692\n",
       "takeons_z          0.473846\n",
       "progruns_z         0.542308\n",
       "tackles_z         -0.023077\n",
       "interceptions_z   -0.093077\n",
       "clearances_z      -0.225385\n",
       "blocks_z           0.313846\n",
       "aerials_z         -0.235385\n",
       "fouls_z            0.063077\n",
       "fouled_z          -0.043077\n",
       "nsxg_z             0.558462\n",
       "dtype: float64"
      ]
     },
     "execution_count": 520,
     "metadata": {},
     "output_type": "execute_result"
    }
   ],
   "source": [
    "bel2018\n"
   ]
  },
  {
   "cell_type": "code",
   "execution_count": null,
   "metadata": {},
   "outputs": [],
   "source": [
    "# (.560769 + .558462) / .566154\n"
   ]
  },
  {
   "cell_type": "markdown",
   "metadata": {},
   "source": [
    "### Fouled"
   ]
  },
  {
   "cell_type": "code",
   "execution_count": null,
   "metadata": {},
   "outputs": [],
   "source": [
    "# -0.043077 - .063077"
   ]
  },
  {
   "cell_type": "code",
   "execution_count": null,
   "metadata": {},
   "outputs": [],
   "source": [
    "# new_row = {'Country': 'Belgium', 'Year': 2018, 'goals_z':0.566154,'xg_z':0.560769, \n",
    "#            'boxtouches_z':0.446923, 'progpasses_z':-0.037692, 'progruns_z':0.542308,\n",
    "#            'new_xg': 1.976902, 'Fouled': -0.106154, 'results': 3}\n",
    "# stats_df = stats_df.append(new_row, ignore_index=True)"
   ]
  },
  {
   "cell_type": "markdown",
   "metadata": {},
   "source": [
    "## 2006 NA\n"
   ]
  },
  {
   "cell_type": "markdown",
   "metadata": {},
   "source": [
    "## 2002"
   ]
  },
  {
   "cell_type": "code",
   "execution_count": 521,
   "metadata": {},
   "outputs": [],
   "source": [
    "bel2002year = bel_year.loc[bel_year[\"season\"].isin(year2002)]\n"
   ]
  },
  {
   "cell_type": "code",
   "execution_count": 522,
   "metadata": {},
   "outputs": [],
   "source": [
    "bel2002xg = bel2002year.sort_values(by=[\"xg_z\"], ascending=False)\n"
   ]
  },
  {
   "cell_type": "code",
   "execution_count": 523,
   "metadata": {},
   "outputs": [],
   "source": [
    "bel2002xg13 = bel2002xg.head(13)\n"
   ]
  },
  {
   "cell_type": "code",
   "execution_count": 524,
   "metadata": {},
   "outputs": [],
   "source": [
    "bel2002xg13 = bel2002xg13.drop(columns=['season', 'team'])\n"
   ]
  },
  {
   "cell_type": "code",
   "execution_count": 525,
   "metadata": {},
   "outputs": [],
   "source": [
    "bel2002 = bel2002xg13.mean()\n"
   ]
  },
  {
   "cell_type": "code",
   "execution_count": 526,
   "metadata": {},
   "outputs": [
    {
     "data": {
      "text/plain": [
       "goals_z            0.199231\n",
       "xg_z               0.210769\n",
       "crosses_z          0.180769\n",
       "boxtouches_z       0.360000\n",
       "passes_z          -0.336154\n",
       "progpasses_z      -0.316154\n",
       "takeons_z         -0.283077\n",
       "progruns_z        -0.499231\n",
       "tackles_z         -0.156154\n",
       "interceptions_z   -0.010769\n",
       "clearances_z      -0.265385\n",
       "blocks_z          -0.298462\n",
       "aerials_z          0.376154\n",
       "fouls_z            0.125385\n",
       "fouled_z           0.173077\n",
       "nsxg_z             0.270000\n",
       "dtype: float64"
      ]
     },
     "execution_count": 526,
     "metadata": {},
     "output_type": "execute_result"
    }
   ],
   "source": [
    "bel2002\n"
   ]
  },
  {
   "cell_type": "code",
   "execution_count": null,
   "metadata": {},
   "outputs": [],
   "source": [
    "# (.210769 + .270000) / .199231\n"
   ]
  },
  {
   "cell_type": "markdown",
   "metadata": {},
   "source": [
    "### Fouled"
   ]
  },
  {
   "cell_type": "code",
   "execution_count": null,
   "metadata": {},
   "outputs": [],
   "source": [
    "# .173077 - .125385"
   ]
  },
  {
   "cell_type": "code",
   "execution_count": null,
   "metadata": {},
   "outputs": [],
   "source": [
    "# new_row = {'Country': 'Belgium', 'Year': 2002, 'goals_z':0.199231,'xg_z':0.210769, \n",
    "#            'boxtouches_z':0.360000, 'progpasses_z':-0.316154, 'progruns_z':-0.499231,\n",
    "#            'new_xg': 2.413123, 'Fouled': 0.0476920, 'results': 16}\n",
    "# stats_df = stats_df.append(new_row, ignore_index=True)"
   ]
  },
  {
   "cell_type": "code",
   "execution_count": null,
   "metadata": {},
   "outputs": [],
   "source": [
    "bel2018\n",
    "bel2014\n",
    "bel2002\n"
   ]
  },
  {
   "cell_type": "code",
   "execution_count": 1094,
   "metadata": {},
   "outputs": [],
   "source": [
    "bel = pd.concat([bel2002, bel2014, bel2018], axis=1).T\n"
   ]
  },
  {
   "cell_type": "code",
   "execution_count": 1095,
   "metadata": {},
   "outputs": [],
   "source": [
    "bel.rename(index={0: 'Belgium02', 1: 'Belgium14', 2: 'Belgium18'}, inplace=True)\n"
   ]
  },
  {
   "cell_type": "code",
   "execution_count": 1096,
   "metadata": {},
   "outputs": [
    {
     "data": {
      "text/html": [
       "<div>\n",
       "<style scoped>\n",
       "    .dataframe tbody tr th:only-of-type {\n",
       "        vertical-align: middle;\n",
       "    }\n",
       "\n",
       "    .dataframe tbody tr th {\n",
       "        vertical-align: top;\n",
       "    }\n",
       "\n",
       "    .dataframe thead th {\n",
       "        text-align: right;\n",
       "    }\n",
       "</style>\n",
       "<table border=\"1\" class=\"dataframe\">\n",
       "  <thead>\n",
       "    <tr style=\"text-align: right;\">\n",
       "      <th></th>\n",
       "      <th>goals_z</th>\n",
       "      <th>xg_z</th>\n",
       "      <th>crosses_z</th>\n",
       "      <th>boxtouches_z</th>\n",
       "      <th>passes_z</th>\n",
       "      <th>progpasses_z</th>\n",
       "      <th>takeons_z</th>\n",
       "      <th>progruns_z</th>\n",
       "      <th>tackles_z</th>\n",
       "      <th>interceptions_z</th>\n",
       "      <th>clearances_z</th>\n",
       "      <th>blocks_z</th>\n",
       "      <th>aerials_z</th>\n",
       "      <th>fouls_z</th>\n",
       "      <th>fouled_z</th>\n",
       "      <th>nsxg_z</th>\n",
       "    </tr>\n",
       "  </thead>\n",
       "  <tbody>\n",
       "    <tr>\n",
       "      <th>Belgium02</th>\n",
       "      <td>0.199231</td>\n",
       "      <td>0.210769</td>\n",
       "      <td>0.180769</td>\n",
       "      <td>0.360000</td>\n",
       "      <td>-0.336154</td>\n",
       "      <td>-0.316154</td>\n",
       "      <td>-0.283077</td>\n",
       "      <td>-0.499231</td>\n",
       "      <td>-0.156154</td>\n",
       "      <td>-0.010769</td>\n",
       "      <td>-0.265385</td>\n",
       "      <td>-0.298462</td>\n",
       "      <td>0.376154</td>\n",
       "      <td>0.125385</td>\n",
       "      <td>0.173077</td>\n",
       "      <td>0.270000</td>\n",
       "    </tr>\n",
       "    <tr>\n",
       "      <th>Belgium14</th>\n",
       "      <td>0.137692</td>\n",
       "      <td>0.210000</td>\n",
       "      <td>0.308462</td>\n",
       "      <td>0.536154</td>\n",
       "      <td>0.218462</td>\n",
       "      <td>-0.097692</td>\n",
       "      <td>0.590769</td>\n",
       "      <td>0.853846</td>\n",
       "      <td>0.253077</td>\n",
       "      <td>0.376154</td>\n",
       "      <td>0.023077</td>\n",
       "      <td>0.193846</td>\n",
       "      <td>0.585385</td>\n",
       "      <td>0.373077</td>\n",
       "      <td>-0.080000</td>\n",
       "      <td>0.473077</td>\n",
       "    </tr>\n",
       "    <tr>\n",
       "      <th>Belgium18</th>\n",
       "      <td>0.566154</td>\n",
       "      <td>0.560769</td>\n",
       "      <td>0.234615</td>\n",
       "      <td>0.446923</td>\n",
       "      <td>0.162308</td>\n",
       "      <td>-0.037692</td>\n",
       "      <td>0.473846</td>\n",
       "      <td>0.542308</td>\n",
       "      <td>-0.023077</td>\n",
       "      <td>-0.093077</td>\n",
       "      <td>-0.225385</td>\n",
       "      <td>0.313846</td>\n",
       "      <td>-0.235385</td>\n",
       "      <td>0.063077</td>\n",
       "      <td>-0.043077</td>\n",
       "      <td>0.558462</td>\n",
       "    </tr>\n",
       "  </tbody>\n",
       "</table>\n",
       "</div>"
      ],
      "text/plain": [
       "            goals_z      xg_z  crosses_z  boxtouches_z  passes_z  \\\n",
       "Belgium02  0.199231  0.210769   0.180769      0.360000 -0.336154   \n",
       "Belgium14  0.137692  0.210000   0.308462      0.536154  0.218462   \n",
       "Belgium18  0.566154  0.560769   0.234615      0.446923  0.162308   \n",
       "\n",
       "           progpasses_z  takeons_z  progruns_z  tackles_z  interceptions_z  \\\n",
       "Belgium02     -0.316154  -0.283077   -0.499231  -0.156154        -0.010769   \n",
       "Belgium14     -0.097692   0.590769    0.853846   0.253077         0.376154   \n",
       "Belgium18     -0.037692   0.473846    0.542308  -0.023077        -0.093077   \n",
       "\n",
       "           clearances_z  blocks_z  aerials_z   fouls_z  fouled_z    nsxg_z  \n",
       "Belgium02     -0.265385 -0.298462   0.376154  0.125385  0.173077  0.270000  \n",
       "Belgium14      0.023077  0.193846   0.585385  0.373077 -0.080000  0.473077  \n",
       "Belgium18     -0.225385  0.313846  -0.235385  0.063077 -0.043077  0.558462  "
      ]
     },
     "execution_count": 1096,
     "metadata": {},
     "output_type": "execute_result"
    }
   ],
   "source": [
    "bel"
   ]
  },
  {
   "cell_type": "code",
   "execution_count": 1098,
   "metadata": {},
   "outputs": [],
   "source": [
    "df2 = bel.assign(results=[14, 6, 3])\n"
   ]
  },
  {
   "cell_type": "code",
   "execution_count": 1099,
   "metadata": {},
   "outputs": [
    {
     "data": {
      "text/html": [
       "<div>\n",
       "<style scoped>\n",
       "    .dataframe tbody tr th:only-of-type {\n",
       "        vertical-align: middle;\n",
       "    }\n",
       "\n",
       "    .dataframe tbody tr th {\n",
       "        vertical-align: top;\n",
       "    }\n",
       "\n",
       "    .dataframe thead th {\n",
       "        text-align: right;\n",
       "    }\n",
       "</style>\n",
       "<table border=\"1\" class=\"dataframe\">\n",
       "  <thead>\n",
       "    <tr style=\"text-align: right;\">\n",
       "      <th></th>\n",
       "      <th>goals_z</th>\n",
       "      <th>xg_z</th>\n",
       "      <th>crosses_z</th>\n",
       "      <th>boxtouches_z</th>\n",
       "      <th>passes_z</th>\n",
       "      <th>progpasses_z</th>\n",
       "      <th>takeons_z</th>\n",
       "      <th>progruns_z</th>\n",
       "      <th>tackles_z</th>\n",
       "      <th>interceptions_z</th>\n",
       "      <th>clearances_z</th>\n",
       "      <th>blocks_z</th>\n",
       "      <th>aerials_z</th>\n",
       "      <th>fouls_z</th>\n",
       "      <th>fouled_z</th>\n",
       "      <th>nsxg_z</th>\n",
       "      <th>results</th>\n",
       "    </tr>\n",
       "  </thead>\n",
       "  <tbody>\n",
       "    <tr>\n",
       "      <th>Belgium02</th>\n",
       "      <td>0.199231</td>\n",
       "      <td>0.210769</td>\n",
       "      <td>0.180769</td>\n",
       "      <td>0.360000</td>\n",
       "      <td>-0.336154</td>\n",
       "      <td>-0.316154</td>\n",
       "      <td>-0.283077</td>\n",
       "      <td>-0.499231</td>\n",
       "      <td>-0.156154</td>\n",
       "      <td>-0.010769</td>\n",
       "      <td>-0.265385</td>\n",
       "      <td>-0.298462</td>\n",
       "      <td>0.376154</td>\n",
       "      <td>0.125385</td>\n",
       "      <td>0.173077</td>\n",
       "      <td>0.270000</td>\n",
       "      <td>14</td>\n",
       "    </tr>\n",
       "    <tr>\n",
       "      <th>Belgium14</th>\n",
       "      <td>0.137692</td>\n",
       "      <td>0.210000</td>\n",
       "      <td>0.308462</td>\n",
       "      <td>0.536154</td>\n",
       "      <td>0.218462</td>\n",
       "      <td>-0.097692</td>\n",
       "      <td>0.590769</td>\n",
       "      <td>0.853846</td>\n",
       "      <td>0.253077</td>\n",
       "      <td>0.376154</td>\n",
       "      <td>0.023077</td>\n",
       "      <td>0.193846</td>\n",
       "      <td>0.585385</td>\n",
       "      <td>0.373077</td>\n",
       "      <td>-0.080000</td>\n",
       "      <td>0.473077</td>\n",
       "      <td>6</td>\n",
       "    </tr>\n",
       "    <tr>\n",
       "      <th>Belgium18</th>\n",
       "      <td>0.566154</td>\n",
       "      <td>0.560769</td>\n",
       "      <td>0.234615</td>\n",
       "      <td>0.446923</td>\n",
       "      <td>0.162308</td>\n",
       "      <td>-0.037692</td>\n",
       "      <td>0.473846</td>\n",
       "      <td>0.542308</td>\n",
       "      <td>-0.023077</td>\n",
       "      <td>-0.093077</td>\n",
       "      <td>-0.225385</td>\n",
       "      <td>0.313846</td>\n",
       "      <td>-0.235385</td>\n",
       "      <td>0.063077</td>\n",
       "      <td>-0.043077</td>\n",
       "      <td>0.558462</td>\n",
       "      <td>3</td>\n",
       "    </tr>\n",
       "  </tbody>\n",
       "</table>\n",
       "</div>"
      ],
      "text/plain": [
       "            goals_z      xg_z  crosses_z  boxtouches_z  passes_z  \\\n",
       "Belgium02  0.199231  0.210769   0.180769      0.360000 -0.336154   \n",
       "Belgium14  0.137692  0.210000   0.308462      0.536154  0.218462   \n",
       "Belgium18  0.566154  0.560769   0.234615      0.446923  0.162308   \n",
       "\n",
       "           progpasses_z  takeons_z  progruns_z  tackles_z  interceptions_z  \\\n",
       "Belgium02     -0.316154  -0.283077   -0.499231  -0.156154        -0.010769   \n",
       "Belgium14     -0.097692   0.590769    0.853846   0.253077         0.376154   \n",
       "Belgium18     -0.037692   0.473846    0.542308  -0.023077        -0.093077   \n",
       "\n",
       "           clearances_z  blocks_z  aerials_z   fouls_z  fouled_z    nsxg_z  \\\n",
       "Belgium02     -0.265385 -0.298462   0.376154  0.125385  0.173077  0.270000   \n",
       "Belgium14      0.023077  0.193846   0.585385  0.373077 -0.080000  0.473077   \n",
       "Belgium18     -0.225385  0.313846  -0.235385  0.063077 -0.043077  0.558462   \n",
       "\n",
       "           results  \n",
       "Belgium02       14  \n",
       "Belgium14        6  \n",
       "Belgium18        3  "
      ]
     },
     "execution_count": 1099,
     "metadata": {},
     "output_type": "execute_result"
    }
   ],
   "source": [
    "df2"
   ]
  },
  {
   "cell_type": "code",
   "execution_count": 1100,
   "metadata": {},
   "outputs": [],
   "source": [
    "# df2.to_csv('Belgium.csv', index=False)\n"
   ]
  },
  {
   "cell_type": "code",
   "execution_count": null,
   "metadata": {},
   "outputs": [],
   "source": []
  },
  {
   "cell_type": "code",
   "execution_count": null,
   "metadata": {},
   "outputs": [],
   "source": []
  },
  {
   "cell_type": "markdown",
   "metadata": {},
   "source": [
    "# USA"
   ]
  },
  {
   "cell_type": "code",
   "execution_count": 527,
   "metadata": {},
   "outputs": [],
   "source": [
    "us = ['USA']"
   ]
  },
  {
   "cell_type": "code",
   "execution_count": 528,
   "metadata": {},
   "outputs": [],
   "source": [
    "us_year = comparisons.loc[comparisons[\"team\"].isin(us)]"
   ]
  },
  {
   "cell_type": "code",
   "execution_count": 529,
   "metadata": {},
   "outputs": [],
   "source": [
    "us2010year = us_year.loc[us_year[\"season\"].isin(year2010)]"
   ]
  },
  {
   "cell_type": "code",
   "execution_count": 530,
   "metadata": {},
   "outputs": [],
   "source": [
    "us2010xg = us2010year.sort_values(by=[\"xg_z\"], ascending=False)"
   ]
  },
  {
   "cell_type": "code",
   "execution_count": 531,
   "metadata": {},
   "outputs": [],
   "source": [
    "us2010xg13 = us2010xg.head(13)"
   ]
  },
  {
   "cell_type": "code",
   "execution_count": 532,
   "metadata": {},
   "outputs": [],
   "source": [
    "us2010xg13 = us2010xg13.drop(columns=['season', 'team'])\n"
   ]
  },
  {
   "cell_type": "code",
   "execution_count": 533,
   "metadata": {},
   "outputs": [],
   "source": [
    "us2010 = us2010xg13.mean()"
   ]
  },
  {
   "cell_type": "code",
   "execution_count": 534,
   "metadata": {},
   "outputs": [
    {
     "data": {
      "text/plain": [
       "goals_z            0.214615\n",
       "xg_z               0.523077\n",
       "crosses_z         -0.176154\n",
       "boxtouches_z       0.277692\n",
       "passes_z          -0.196923\n",
       "progpasses_z      -0.245385\n",
       "takeons_z         -0.013846\n",
       "progruns_z        -0.178462\n",
       "tackles_z         -0.228462\n",
       "interceptions_z   -0.250000\n",
       "clearances_z       0.096154\n",
       "blocks_z           0.032308\n",
       "aerials_z          0.760769\n",
       "fouls_z           -0.122308\n",
       "fouled_z           0.119231\n",
       "nsxg_z             0.124615\n",
       "dtype: float64"
      ]
     },
     "execution_count": 534,
     "metadata": {},
     "output_type": "execute_result"
    }
   ],
   "source": [
    "us2010"
   ]
  },
  {
   "cell_type": "code",
   "execution_count": null,
   "metadata": {},
   "outputs": [],
   "source": [
    "# (.523077 + .124615) / .214615"
   ]
  },
  {
   "cell_type": "markdown",
   "metadata": {},
   "source": [
    "### Fouled"
   ]
  },
  {
   "cell_type": "code",
   "execution_count": null,
   "metadata": {},
   "outputs": [],
   "source": [
    "# .119231 - -0.122308"
   ]
  },
  {
   "cell_type": "code",
   "execution_count": null,
   "metadata": {},
   "outputs": [],
   "source": [
    "# new_row = {'Country': 'USA', 'Year': 2010, 'goals_z': 0.214615, 'xg_z': 0.523077, \n",
    "#            'boxtouches_z': 0.277692, 'progpasses_z': -0.245385, 'progruns_z': -0.178462, \n",
    "#            'new_xg': 3.01792, 'Fouled': 0.2415, 'results': 16}\n",
    "\n",
    "# stats_df = stats_df.append(new_row, ignore_index=True)"
   ]
  },
  {
   "cell_type": "markdown",
   "metadata": {},
   "source": [
    "## 2014"
   ]
  },
  {
   "cell_type": "code",
   "execution_count": 535,
   "metadata": {},
   "outputs": [],
   "source": [
    "us2014year = us_year.loc[us_year[\"season\"].isin(year2014)]"
   ]
  },
  {
   "cell_type": "code",
   "execution_count": 536,
   "metadata": {},
   "outputs": [],
   "source": [
    "us2014xg = us2014year.sort_values(by=[\"xg_z\"], ascending=False)"
   ]
  },
  {
   "cell_type": "code",
   "execution_count": 537,
   "metadata": {},
   "outputs": [],
   "source": [
    "us2014xg13 = us2014xg.head(13)\n"
   ]
  },
  {
   "cell_type": "code",
   "execution_count": 538,
   "metadata": {},
   "outputs": [],
   "source": [
    "us2014xg13 = us2014xg13.drop(columns=['season', 'team'])\n"
   ]
  },
  {
   "cell_type": "code",
   "execution_count": 539,
   "metadata": {},
   "outputs": [],
   "source": [
    "us2014 = us2014xg13.mean()\n"
   ]
  },
  {
   "cell_type": "code",
   "execution_count": 540,
   "metadata": {},
   "outputs": [
    {
     "data": {
      "text/plain": [
       "goals_z            0.036923\n",
       "xg_z               0.092308\n",
       "crosses_z         -0.139231\n",
       "boxtouches_z      -0.040000\n",
       "passes_z          -0.020000\n",
       "progpasses_z      -0.003846\n",
       "takeons_z          0.125385\n",
       "progruns_z         0.168462\n",
       "tackles_z         -0.170000\n",
       "interceptions_z   -0.130769\n",
       "clearances_z       0.089231\n",
       "blocks_z          -0.090000\n",
       "aerials_z          0.083077\n",
       "fouls_z           -0.050000\n",
       "fouled_z           0.060769\n",
       "nsxg_z            -0.023846\n",
       "dtype: float64"
      ]
     },
     "execution_count": 540,
     "metadata": {},
     "output_type": "execute_result"
    }
   ],
   "source": [
    "us2014"
   ]
  },
  {
   "cell_type": "code",
   "execution_count": null,
   "metadata": {},
   "outputs": [],
   "source": [
    "# (.092308 + -0.023846) / .036923"
   ]
  },
  {
   "cell_type": "markdown",
   "metadata": {},
   "source": [
    "### Fouled"
   ]
  },
  {
   "cell_type": "code",
   "execution_count": null,
   "metadata": {},
   "outputs": [],
   "source": [
    "# .060769 - -0.050000"
   ]
  },
  {
   "cell_type": "code",
   "execution_count": null,
   "metadata": {},
   "outputs": [],
   "source": [
    "# new_row = {'Country': 'USA', 'Year': 2014, 'goals_z': 0.036923, 'xg_z': 0.092308, \n",
    "#            'boxtouches_z': -0.040000, 'progpasses_z': -0.003846, 'progruns_z': 0.168462, \n",
    "#            'new_xg': 1.8541830, 'Fouled': 0.110769, 'results': 16}\n",
    "\n",
    "# stats_df = stats_df.append(new_row, ignore_index=True)"
   ]
  },
  {
   "cell_type": "markdown",
   "metadata": {},
   "source": [
    "## 2018 NA"
   ]
  },
  {
   "cell_type": "markdown",
   "metadata": {},
   "source": [
    "## 2006"
   ]
  },
  {
   "cell_type": "code",
   "execution_count": 541,
   "metadata": {},
   "outputs": [],
   "source": [
    "us2006year = us_year.loc[us_year[\"season\"].isin(year2006)]"
   ]
  },
  {
   "cell_type": "code",
   "execution_count": 542,
   "metadata": {},
   "outputs": [],
   "source": [
    "us2006xg = us2006year.sort_values(by=[\"xg_z\"], ascending=False)"
   ]
  },
  {
   "cell_type": "code",
   "execution_count": 543,
   "metadata": {},
   "outputs": [],
   "source": [
    "us2006xg13 = us2006xg.head(13)\n"
   ]
  },
  {
   "cell_type": "code",
   "execution_count": 544,
   "metadata": {},
   "outputs": [],
   "source": [
    "us2006xg13 = us2006xg13.drop(columns=['season', 'team'])\n"
   ]
  },
  {
   "cell_type": "code",
   "execution_count": 545,
   "metadata": {},
   "outputs": [],
   "source": [
    "us2006 = us2006xg13.mean()\n"
   ]
  },
  {
   "cell_type": "code",
   "execution_count": 546,
   "metadata": {},
   "outputs": [
    {
     "data": {
      "text/plain": [
       "goals_z           -0.227692\n",
       "xg_z              -0.056923\n",
       "crosses_z          0.170769\n",
       "boxtouches_z       0.135385\n",
       "passes_z           0.011538\n",
       "progpasses_z      -0.201538\n",
       "takeons_z         -0.111538\n",
       "progruns_z        -0.139231\n",
       "tackles_z          0.105385\n",
       "interceptions_z   -0.090000\n",
       "clearances_z      -0.266923\n",
       "blocks_z          -0.462308\n",
       "aerials_z          0.284615\n",
       "fouls_z            0.351538\n",
       "fouled_z           0.310000\n",
       "nsxg_z            -0.035385\n",
       "dtype: float64"
      ]
     },
     "execution_count": 546,
     "metadata": {},
     "output_type": "execute_result"
    }
   ],
   "source": [
    "\n",
    "us2006"
   ]
  },
  {
   "cell_type": "code",
   "execution_count": null,
   "metadata": {},
   "outputs": [],
   "source": [
    "# (-0.056923 + -0.035385) / -0.227692"
   ]
  },
  {
   "cell_type": "markdown",
   "metadata": {},
   "source": [
    "### Fouled"
   ]
  },
  {
   "cell_type": "code",
   "execution_count": null,
   "metadata": {},
   "outputs": [],
   "source": [
    "# .310000 - .351538"
   ]
  },
  {
   "cell_type": "code",
   "execution_count": null,
   "metadata": {},
   "outputs": [],
   "source": [
    "# new_row = {'Country': 'USA', 'Year': 2006, 'goals_z': -0.227692, 'xg_z': -0.056923, \n",
    "#            'boxtouches_z': 0.135385, 'progpasses_z': -0.201538, 'progruns_z': -0.139231, \n",
    "#            'new_xg': 0.40540730, 'Fouled': -0.0415380, 'results': 32}\n",
    "\n",
    "# stats_df = stats_df.append(new_row, ignore_index=True)"
   ]
  },
  {
   "cell_type": "markdown",
   "metadata": {},
   "source": [
    "## 2002"
   ]
  },
  {
   "cell_type": "code",
   "execution_count": 547,
   "metadata": {},
   "outputs": [],
   "source": [
    "us2002year = us_year.loc[us_year[\"season\"].isin(year2002)]"
   ]
  },
  {
   "cell_type": "code",
   "execution_count": 548,
   "metadata": {},
   "outputs": [],
   "source": [
    "us2002xg = us2002year.sort_values(by=[\"xg_z\"], ascending=False)"
   ]
  },
  {
   "cell_type": "code",
   "execution_count": 549,
   "metadata": {},
   "outputs": [],
   "source": [
    "us2002xg13 = us2002xg.head(13)\n"
   ]
  },
  {
   "cell_type": "code",
   "execution_count": 550,
   "metadata": {},
   "outputs": [],
   "source": [
    "us2002xg13 = us2002xg13.drop(columns=['season', 'team'])\n"
   ]
  },
  {
   "cell_type": "code",
   "execution_count": 551,
   "metadata": {},
   "outputs": [],
   "source": [
    "us2002 = us2002xg13.mean()\n"
   ]
  },
  {
   "cell_type": "code",
   "execution_count": 552,
   "metadata": {},
   "outputs": [
    {
     "data": {
      "text/plain": [
       "goals_z            0.176154\n",
       "xg_z               0.100769\n",
       "crosses_z          0.193846\n",
       "boxtouches_z       0.226154\n",
       "passes_z          -0.153077\n",
       "progpasses_z      -0.093846\n",
       "takeons_z         -0.302308\n",
       "progruns_z        -0.063846\n",
       "tackles_z         -0.029231\n",
       "interceptions_z   -0.534615\n",
       "clearances_z       0.090000\n",
       "blocks_z           0.426154\n",
       "aerials_z          0.327692\n",
       "fouls_z           -0.083846\n",
       "fouled_z          -0.109231\n",
       "nsxg_z             0.260769\n",
       "dtype: float64"
      ]
     },
     "execution_count": 552,
     "metadata": {},
     "output_type": "execute_result"
    }
   ],
   "source": [
    "us2002"
   ]
  },
  {
   "cell_type": "code",
   "execution_count": null,
   "metadata": {},
   "outputs": [],
   "source": [
    "# (0.100769 + 0.260769) / 0.176154"
   ]
  },
  {
   "cell_type": "markdown",
   "metadata": {},
   "source": [
    "### Fouled"
   ]
  },
  {
   "cell_type": "code",
   "execution_count": null,
   "metadata": {},
   "outputs": [],
   "source": [
    "# -0.109231 - -0.083846"
   ]
  },
  {
   "cell_type": "code",
   "execution_count": 553,
   "metadata": {},
   "outputs": [],
   "source": [
    "# new_row = {'Country': 'USA', 'Year': 2002, 'goals_z': 0.176154, 'xg_z': 0.100769, \n",
    "#            'boxtouches_z': 0.226154, 'progpasses_z': -0.093846, 'progruns_z': -0.063846, \n",
    "#            'new_xg': 2.0523973, 'Fouled': -0.02538499, 'results': 8}\n",
    "\n",
    "# stats_df = stats_df.append(new_row, ignore_index=True)"
   ]
  },
  {
   "cell_type": "code",
   "execution_count": 1101,
   "metadata": {},
   "outputs": [],
   "source": [
    "usa = pd.concat([us2002, us2006, us2010, us2014], axis=1).T\n"
   ]
  },
  {
   "cell_type": "code",
   "execution_count": 1102,
   "metadata": {},
   "outputs": [],
   "source": [
    "usa.rename(index={0: 'usa02', 1: 'usa06', 2: 'usa10', 3: 'usa14'}, inplace=True)\n"
   ]
  },
  {
   "cell_type": "code",
   "execution_count": null,
   "metadata": {},
   "outputs": [],
   "source": [
    "02 - 8     D      United States     5     2     1     2     7     7     0     7\n",
    "06- 26 United States     E     3     0     1     2     2     6     −4     1\n",
    "10 - 12      United States     C     4     1     2     1     5     5     0     5\n",
    "14 - 15      United States     G     4     1     1     2     4     5     6     −1\n"
   ]
  },
  {
   "cell_type": "code",
   "execution_count": 1104,
   "metadata": {},
   "outputs": [],
   "source": [
    "df2 = usa.assign(results=[8, 26, 12, 15])\n"
   ]
  },
  {
   "cell_type": "code",
   "execution_count": 1105,
   "metadata": {},
   "outputs": [
    {
     "data": {
      "text/html": [
       "<div>\n",
       "<style scoped>\n",
       "    .dataframe tbody tr th:only-of-type {\n",
       "        vertical-align: middle;\n",
       "    }\n",
       "\n",
       "    .dataframe tbody tr th {\n",
       "        vertical-align: top;\n",
       "    }\n",
       "\n",
       "    .dataframe thead th {\n",
       "        text-align: right;\n",
       "    }\n",
       "</style>\n",
       "<table border=\"1\" class=\"dataframe\">\n",
       "  <thead>\n",
       "    <tr style=\"text-align: right;\">\n",
       "      <th></th>\n",
       "      <th>goals_z</th>\n",
       "      <th>xg_z</th>\n",
       "      <th>crosses_z</th>\n",
       "      <th>boxtouches_z</th>\n",
       "      <th>passes_z</th>\n",
       "      <th>progpasses_z</th>\n",
       "      <th>takeons_z</th>\n",
       "      <th>progruns_z</th>\n",
       "      <th>tackles_z</th>\n",
       "      <th>interceptions_z</th>\n",
       "      <th>clearances_z</th>\n",
       "      <th>blocks_z</th>\n",
       "      <th>aerials_z</th>\n",
       "      <th>fouls_z</th>\n",
       "      <th>fouled_z</th>\n",
       "      <th>nsxg_z</th>\n",
       "      <th>results</th>\n",
       "    </tr>\n",
       "  </thead>\n",
       "  <tbody>\n",
       "    <tr>\n",
       "      <th>usa02</th>\n",
       "      <td>0.176154</td>\n",
       "      <td>0.100769</td>\n",
       "      <td>0.193846</td>\n",
       "      <td>0.226154</td>\n",
       "      <td>-0.153077</td>\n",
       "      <td>-0.093846</td>\n",
       "      <td>-0.302308</td>\n",
       "      <td>-0.063846</td>\n",
       "      <td>-0.029231</td>\n",
       "      <td>-0.534615</td>\n",
       "      <td>0.090000</td>\n",
       "      <td>0.426154</td>\n",
       "      <td>0.327692</td>\n",
       "      <td>-0.083846</td>\n",
       "      <td>-0.109231</td>\n",
       "      <td>0.260769</td>\n",
       "      <td>8</td>\n",
       "    </tr>\n",
       "    <tr>\n",
       "      <th>usa06</th>\n",
       "      <td>-0.227692</td>\n",
       "      <td>-0.056923</td>\n",
       "      <td>0.170769</td>\n",
       "      <td>0.135385</td>\n",
       "      <td>0.011538</td>\n",
       "      <td>-0.201538</td>\n",
       "      <td>-0.111538</td>\n",
       "      <td>-0.139231</td>\n",
       "      <td>0.105385</td>\n",
       "      <td>-0.090000</td>\n",
       "      <td>-0.266923</td>\n",
       "      <td>-0.462308</td>\n",
       "      <td>0.284615</td>\n",
       "      <td>0.351538</td>\n",
       "      <td>0.310000</td>\n",
       "      <td>-0.035385</td>\n",
       "      <td>26</td>\n",
       "    </tr>\n",
       "    <tr>\n",
       "      <th>usa10</th>\n",
       "      <td>0.214615</td>\n",
       "      <td>0.523077</td>\n",
       "      <td>-0.176154</td>\n",
       "      <td>0.277692</td>\n",
       "      <td>-0.196923</td>\n",
       "      <td>-0.245385</td>\n",
       "      <td>-0.013846</td>\n",
       "      <td>-0.178462</td>\n",
       "      <td>-0.228462</td>\n",
       "      <td>-0.250000</td>\n",
       "      <td>0.096154</td>\n",
       "      <td>0.032308</td>\n",
       "      <td>0.760769</td>\n",
       "      <td>-0.122308</td>\n",
       "      <td>0.119231</td>\n",
       "      <td>0.124615</td>\n",
       "      <td>12</td>\n",
       "    </tr>\n",
       "    <tr>\n",
       "      <th>usa14</th>\n",
       "      <td>0.036923</td>\n",
       "      <td>0.092308</td>\n",
       "      <td>-0.139231</td>\n",
       "      <td>-0.040000</td>\n",
       "      <td>-0.020000</td>\n",
       "      <td>-0.003846</td>\n",
       "      <td>0.125385</td>\n",
       "      <td>0.168462</td>\n",
       "      <td>-0.170000</td>\n",
       "      <td>-0.130769</td>\n",
       "      <td>0.089231</td>\n",
       "      <td>-0.090000</td>\n",
       "      <td>0.083077</td>\n",
       "      <td>-0.050000</td>\n",
       "      <td>0.060769</td>\n",
       "      <td>-0.023846</td>\n",
       "      <td>15</td>\n",
       "    </tr>\n",
       "  </tbody>\n",
       "</table>\n",
       "</div>"
      ],
      "text/plain": [
       "        goals_z      xg_z  crosses_z  boxtouches_z  passes_z  progpasses_z  \\\n",
       "usa02  0.176154  0.100769   0.193846      0.226154 -0.153077     -0.093846   \n",
       "usa06 -0.227692 -0.056923   0.170769      0.135385  0.011538     -0.201538   \n",
       "usa10  0.214615  0.523077  -0.176154      0.277692 -0.196923     -0.245385   \n",
       "usa14  0.036923  0.092308  -0.139231     -0.040000 -0.020000     -0.003846   \n",
       "\n",
       "       takeons_z  progruns_z  tackles_z  interceptions_z  clearances_z  \\\n",
       "usa02  -0.302308   -0.063846  -0.029231        -0.534615      0.090000   \n",
       "usa06  -0.111538   -0.139231   0.105385        -0.090000     -0.266923   \n",
       "usa10  -0.013846   -0.178462  -0.228462        -0.250000      0.096154   \n",
       "usa14   0.125385    0.168462  -0.170000        -0.130769      0.089231   \n",
       "\n",
       "       blocks_z  aerials_z   fouls_z  fouled_z    nsxg_z  results  \n",
       "usa02  0.426154   0.327692 -0.083846 -0.109231  0.260769        8  \n",
       "usa06 -0.462308   0.284615  0.351538  0.310000 -0.035385       26  \n",
       "usa10  0.032308   0.760769 -0.122308  0.119231  0.124615       12  \n",
       "usa14 -0.090000   0.083077 -0.050000  0.060769 -0.023846       15  "
      ]
     },
     "execution_count": 1105,
     "metadata": {},
     "output_type": "execute_result"
    }
   ],
   "source": [
    "df2"
   ]
  },
  {
   "cell_type": "code",
   "execution_count": 1106,
   "metadata": {},
   "outputs": [],
   "source": [
    "# df2.to_csv('USA.csv', index=False)\n"
   ]
  },
  {
   "cell_type": "code",
   "execution_count": null,
   "metadata": {},
   "outputs": [],
   "source": []
  },
  {
   "cell_type": "code",
   "execution_count": null,
   "metadata": {},
   "outputs": [],
   "source": []
  },
  {
   "cell_type": "markdown",
   "metadata": {},
   "source": [
    "# England"
   ]
  },
  {
   "cell_type": "code",
   "execution_count": 554,
   "metadata": {},
   "outputs": [],
   "source": [
    "eng = ['England']"
   ]
  },
  {
   "cell_type": "code",
   "execution_count": 555,
   "metadata": {},
   "outputs": [],
   "source": [
    "eng_year = comparisons.loc[comparisons[\"team\"].isin(eng)]"
   ]
  },
  {
   "cell_type": "code",
   "execution_count": 556,
   "metadata": {},
   "outputs": [],
   "source": [
    "eng2010year = eng_year.loc[eng_year[\"season\"].isin(year2010)]"
   ]
  },
  {
   "cell_type": "code",
   "execution_count": 557,
   "metadata": {},
   "outputs": [],
   "source": [
    "eng2010xg = eng2010year.sort_values(by=[\"xg_z\"], ascending=False)"
   ]
  },
  {
   "cell_type": "code",
   "execution_count": 558,
   "metadata": {},
   "outputs": [],
   "source": [
    "eng2010xg13 = eng2010xg.head(13)"
   ]
  },
  {
   "cell_type": "code",
   "execution_count": 559,
   "metadata": {},
   "outputs": [],
   "source": [
    "eng2010xg13 = eng2010xg13.drop(columns=[ 'season', 'team'])\n"
   ]
  },
  {
   "cell_type": "code",
   "execution_count": 560,
   "metadata": {},
   "outputs": [],
   "source": [
    "eng2010 = eng2010xg13.mean()"
   ]
  },
  {
   "cell_type": "code",
   "execution_count": 561,
   "metadata": {},
   "outputs": [
    {
     "data": {
      "text/plain": [
       "goals_z           -0.000769\n",
       "xg_z               0.323077\n",
       "crosses_z          0.388462\n",
       "boxtouches_z       0.424615\n",
       "passes_z           0.255385\n",
       "progpasses_z      -0.012308\n",
       "takeons_z          0.135385\n",
       "progruns_z         0.154615\n",
       "tackles_z          0.220000\n",
       "interceptions_z    0.581538\n",
       "clearances_z      -0.267692\n",
       "blocks_z           0.875385\n",
       "aerials_z          0.266154\n",
       "fouls_z           -0.091538\n",
       "fouled_z           0.042308\n",
       "nsxg_z             0.506154\n",
       "dtype: float64"
      ]
     },
     "execution_count": 561,
     "metadata": {},
     "output_type": "execute_result"
    }
   ],
   "source": [
    "eng2010"
   ]
  },
  {
   "cell_type": "code",
   "execution_count": 562,
   "metadata": {},
   "outputs": [],
   "source": [
    "# (0.323077 + .506154) / -0.000769"
   ]
  },
  {
   "cell_type": "markdown",
   "metadata": {},
   "source": [
    "### Fouled"
   ]
  },
  {
   "cell_type": "code",
   "execution_count": null,
   "metadata": {},
   "outputs": [],
   "source": [
    "# .042308 - -0.091538"
   ]
  },
  {
   "cell_type": "code",
   "execution_count": 563,
   "metadata": {},
   "outputs": [],
   "source": [
    "# new_row = {'Country': 'England', 'Year': 2010, 'goals_z': -0.000769, 'xg_z': 0.323077, \n",
    "#            'boxtouches_z': 0.424615, 'progpasses_z': -0.012308, 'progruns_z': 0.154615,  \n",
    "#            'new_xg': -1078.32379, 'Fouled': 0.1338, 'results': 16}\n",
    "\n",
    "# stats_df = stats_df.append(new_row, ignore_index=True)"
   ]
  },
  {
   "cell_type": "markdown",
   "metadata": {},
   "source": [
    "## 2014"
   ]
  },
  {
   "cell_type": "code",
   "execution_count": 564,
   "metadata": {},
   "outputs": [],
   "source": [
    "eng2014year = eng_year.loc[eng_year[\"season\"].isin(year2014)]"
   ]
  },
  {
   "cell_type": "code",
   "execution_count": 565,
   "metadata": {},
   "outputs": [],
   "source": [
    "eng2014xg = eng2014year.sort_values(by=[\"xg_z\"], ascending=False)"
   ]
  },
  {
   "cell_type": "code",
   "execution_count": 566,
   "metadata": {},
   "outputs": [],
   "source": [
    "eng2014xg13 = eng2014xg.head(13)\n"
   ]
  },
  {
   "cell_type": "code",
   "execution_count": 567,
   "metadata": {},
   "outputs": [],
   "source": [
    "eng2014xg13 = eng2014xg13.drop(columns=[ 'season', 'team'])\n"
   ]
  },
  {
   "cell_type": "code",
   "execution_count": 568,
   "metadata": {},
   "outputs": [],
   "source": [
    "eng2014 = eng2014xg13.mean()\n"
   ]
  },
  {
   "cell_type": "code",
   "execution_count": 569,
   "metadata": {},
   "outputs": [
    {
     "data": {
      "text/plain": [
       "goals_z           -0.093077\n",
       "xg_z               0.301538\n",
       "crosses_z          0.040769\n",
       "boxtouches_z       0.026154\n",
       "passes_z           0.253077\n",
       "progpasses_z      -0.100769\n",
       "takeons_z          0.447692\n",
       "progruns_z         0.210769\n",
       "tackles_z          0.017692\n",
       "interceptions_z   -0.276154\n",
       "clearances_z      -0.280000\n",
       "blocks_z          -0.256923\n",
       "aerials_z         -0.163846\n",
       "fouls_z           -0.283077\n",
       "fouled_z           0.134615\n",
       "nsxg_z             0.170769\n",
       "dtype: float64"
      ]
     },
     "execution_count": 569,
     "metadata": {},
     "output_type": "execute_result"
    }
   ],
   "source": [
    "eng2014\n"
   ]
  },
  {
   "cell_type": "code",
   "execution_count": null,
   "metadata": {},
   "outputs": [],
   "source": [
    "# (0.301538 + .170769) / -0.093077"
   ]
  },
  {
   "cell_type": "markdown",
   "metadata": {},
   "source": [
    "### Fouled\n"
   ]
  },
  {
   "cell_type": "code",
   "execution_count": null,
   "metadata": {},
   "outputs": [],
   "source": [
    "# .134615 - -0.283077"
   ]
  },
  {
   "cell_type": "code",
   "execution_count": null,
   "metadata": {},
   "outputs": [],
   "source": [
    "# new_row = {'Country': 'England', 'Year': 2014, 'goals_z': -0.093077, 'xg_z': 0.301538, \n",
    "#            'boxtouches_z': 0.026154, 'progpasses_z': -0.100769, 'progruns_z': 0.210769, \n",
    "#            'new_xg': -5.0743685, 'Fouled': 0.417692, 'results': 32}\n",
    "\n",
    "# stats_df = stats_df.append(new_row, ignore_index=True)"
   ]
  },
  {
   "cell_type": "markdown",
   "metadata": {},
   "source": [
    "## 2018"
   ]
  },
  {
   "cell_type": "code",
   "execution_count": 570,
   "metadata": {},
   "outputs": [],
   "source": [
    "eng2018year = eng_year.loc[eng_year[\"season\"].isin(year2018)]"
   ]
  },
  {
   "cell_type": "code",
   "execution_count": 571,
   "metadata": {},
   "outputs": [],
   "source": [
    "eng2018xg = eng2018year.sort_values(by=[\"xg_z\"], ascending=False)"
   ]
  },
  {
   "cell_type": "code",
   "execution_count": 572,
   "metadata": {},
   "outputs": [],
   "source": [
    "eng2018xg13 = eng2018xg.head(13)\n"
   ]
  },
  {
   "cell_type": "code",
   "execution_count": 573,
   "metadata": {},
   "outputs": [],
   "source": [
    "eng2018xg13 = eng2018xg13.drop(columns=[ 'season', 'team'])\n"
   ]
  },
  {
   "cell_type": "code",
   "execution_count": 574,
   "metadata": {},
   "outputs": [],
   "source": [
    "eng2018 = eng2018xg13.mean()\n"
   ]
  },
  {
   "cell_type": "code",
   "execution_count": 575,
   "metadata": {},
   "outputs": [
    {
     "data": {
      "text/plain": [
       "goals_z            0.446923\n",
       "xg_z               0.404615\n",
       "crosses_z          0.126154\n",
       "boxtouches_z       0.366923\n",
       "passes_z           0.234615\n",
       "progpasses_z      -0.184615\n",
       "takeons_z          0.084615\n",
       "progruns_z         0.086154\n",
       "tackles_z         -0.088462\n",
       "interceptions_z    0.021538\n",
       "clearances_z      -0.183846\n",
       "blocks_z           0.236154\n",
       "aerials_z          0.466923\n",
       "fouls_z           -0.143077\n",
       "fouled_z           0.170000\n",
       "nsxg_z             0.280000\n",
       "dtype: float64"
      ]
     },
     "execution_count": 575,
     "metadata": {},
     "output_type": "execute_result"
    }
   ],
   "source": [
    "eng2018\n"
   ]
  },
  {
   "cell_type": "code",
   "execution_count": null,
   "metadata": {},
   "outputs": [],
   "source": [
    "# (0.404615 + .280000) / 0.446923"
   ]
  },
  {
   "cell_type": "markdown",
   "metadata": {},
   "source": [
    "### Fouled"
   ]
  },
  {
   "cell_type": "code",
   "execution_count": null,
   "metadata": {},
   "outputs": [],
   "source": [
    "# .170000 - -0.143077"
   ]
  },
  {
   "cell_type": "code",
   "execution_count": null,
   "metadata": {},
   "outputs": [],
   "source": [
    "# new_row = {'Country': 'England', 'Year': 2018, 'goals_z': 0.446923, 'xg_z': 0.404615, \n",
    "#            'boxtouches_z': 0.366923, 'progpasses_z': -0.184615, 'progruns_z': 0.086154, \n",
    "#            'new_xg': 1.531841, 'Fouled': 0.313077, 'results': 4}\n",
    "\n",
    "# stats_df = stats_df.append(new_row, ignore_index=True)"
   ]
  },
  {
   "cell_type": "markdown",
   "metadata": {},
   "source": [
    "## 2006"
   ]
  },
  {
   "cell_type": "code",
   "execution_count": 576,
   "metadata": {},
   "outputs": [],
   "source": [
    "eng2006year = eng_year.loc[eng_year[\"season\"].isin(year2006)]"
   ]
  },
  {
   "cell_type": "code",
   "execution_count": 577,
   "metadata": {},
   "outputs": [],
   "source": [
    "eng2006xg = eng2006year.sort_values(by=[\"xg_z\"], ascending=False)"
   ]
  },
  {
   "cell_type": "code",
   "execution_count": 578,
   "metadata": {},
   "outputs": [],
   "source": [
    "eng2006xg13 = eng2006xg.head(13)\n"
   ]
  },
  {
   "cell_type": "code",
   "execution_count": 579,
   "metadata": {},
   "outputs": [],
   "source": [
    "eng2006xg13 = eng2006xg13.drop(columns=[ 'season', 'team'])\n"
   ]
  },
  {
   "cell_type": "code",
   "execution_count": 580,
   "metadata": {},
   "outputs": [],
   "source": [
    "eng2006 = eng2006xg13.mean()"
   ]
  },
  {
   "cell_type": "code",
   "execution_count": 581,
   "metadata": {},
   "outputs": [
    {
     "data": {
      "text/plain": [
       "goals_z            0.122308\n",
       "xg_z               0.330000\n",
       "crosses_z          0.343077\n",
       "boxtouches_z       0.552308\n",
       "passes_z          -0.055385\n",
       "progpasses_z      -0.373846\n",
       "takeons_z          0.310000\n",
       "progruns_z        -0.022308\n",
       "tackles_z          0.180000\n",
       "interceptions_z   -0.287692\n",
       "clearances_z      -0.196923\n",
       "blocks_z           0.714615\n",
       "aerials_z          0.346154\n",
       "fouls_z           -0.199231\n",
       "fouled_z           0.030769\n",
       "nsxg_z             0.304615\n",
       "dtype: float64"
      ]
     },
     "execution_count": 581,
     "metadata": {},
     "output_type": "execute_result"
    }
   ],
   "source": [
    "\n",
    "eng2006"
   ]
  },
  {
   "cell_type": "code",
   "execution_count": null,
   "metadata": {},
   "outputs": [],
   "source": [
    "# (0.330000 + .304615) / 0.122308"
   ]
  },
  {
   "cell_type": "markdown",
   "metadata": {},
   "source": [
    "## Fouled"
   ]
  },
  {
   "cell_type": "code",
   "execution_count": null,
   "metadata": {},
   "outputs": [],
   "source": [
    "# .030769 - -0.199231"
   ]
  },
  {
   "cell_type": "code",
   "execution_count": null,
   "metadata": {},
   "outputs": [],
   "source": [
    "# new_row = {'Country': 'England', 'Year': 2006, 'goals_z': 0.122308, 'xg_z': 0.330000, \n",
    "#            'boxtouches_z': 0.552308, 'progpasses_z': -0.373846, 'progruns_z': 0.022308, \n",
    "#            'new_xg': 5.18866304, 'Fouled': 0.22999999, 'results': 8}\n",
    "\n",
    "# stats_df = stats_df.append(new_row, ignore_index=True)"
   ]
  },
  {
   "cell_type": "markdown",
   "metadata": {},
   "source": [
    "## 2002"
   ]
  },
  {
   "cell_type": "code",
   "execution_count": 582,
   "metadata": {},
   "outputs": [],
   "source": [
    "eng2002year = eng_year.loc[eng_year[\"season\"].isin(year2002)]"
   ]
  },
  {
   "cell_type": "code",
   "execution_count": 583,
   "metadata": {},
   "outputs": [],
   "source": [
    "eng2002xg = eng2002year.sort_values(by=[\"xg_z\"], ascending=False)"
   ]
  },
  {
   "cell_type": "code",
   "execution_count": 584,
   "metadata": {},
   "outputs": [],
   "source": [
    "eng2002xg13 = eng2002xg.head(13)\n"
   ]
  },
  {
   "cell_type": "code",
   "execution_count": 585,
   "metadata": {},
   "outputs": [],
   "source": [
    "eng2002xg13 = eng2002xg13.drop(columns=[ 'season', 'team'])\n"
   ]
  },
  {
   "cell_type": "code",
   "execution_count": 586,
   "metadata": {},
   "outputs": [],
   "source": [
    "eng2002 = eng2002xg13.mean()"
   ]
  },
  {
   "cell_type": "code",
   "execution_count": 587,
   "metadata": {},
   "outputs": [
    {
     "data": {
      "text/plain": [
       "goals_z            0.176154\n",
       "xg_z               0.186154\n",
       "crosses_z          0.086154\n",
       "boxtouches_z       0.163846\n",
       "passes_z           0.218462\n",
       "progpasses_z       0.004615\n",
       "takeons_z          0.089231\n",
       "progruns_z         0.320000\n",
       "tackles_z         -0.220769\n",
       "interceptions_z   -0.289231\n",
       "clearances_z       0.360769\n",
       "blocks_z          -0.015385\n",
       "aerials_z          0.404615\n",
       "fouls_z           -0.013846\n",
       "fouled_z           0.189231\n",
       "nsxg_z            -0.038462\n",
       "dtype: float64"
      ]
     },
     "execution_count": 587,
     "metadata": {},
     "output_type": "execute_result"
    }
   ],
   "source": [
    "\n",
    "eng2002"
   ]
  },
  {
   "cell_type": "code",
   "execution_count": null,
   "metadata": {},
   "outputs": [],
   "source": [
    "# (0.186154 + -0.038462) / 0.176154"
   ]
  },
  {
   "cell_type": "markdown",
   "metadata": {},
   "source": [
    "### Fouled"
   ]
  },
  {
   "cell_type": "code",
   "execution_count": null,
   "metadata": {},
   "outputs": [],
   "source": [
    "# .189231 - -0.013846"
   ]
  },
  {
   "cell_type": "code",
   "execution_count": null,
   "metadata": {},
   "outputs": [],
   "source": [
    "# new_row = {'Country': 'England', 'Year': 2002, 'goals_z': 0.176154, 'xg_z': 0.186154, \n",
    "#            'boxtouches_z': 0.163846, 'progpasses_z': 0.004615, 'progruns_z': 0.320000, \n",
    "#            'new_xg': 0.83842546, 'Fouled': 0.203077, 'results': 8}\n",
    "\n",
    "# stats_df = stats_df.append(new_row, ignore_index=True)"
   ]
  },
  {
   "cell_type": "code",
   "execution_count": null,
   "metadata": {},
   "outputs": [],
   "source": [
    "# stats_df.head()"
   ]
  },
  {
   "cell_type": "code",
   "execution_count": null,
   "metadata": {},
   "outputs": [],
   "source": [
    "# stats_df[stats_df['Country'] == 'England'].sort_values('Year')"
   ]
  },
  {
   "cell_type": "code",
   "execution_count": null,
   "metadata": {},
   "outputs": [],
   "source": [
    "eng2018\n",
    "eng2014\n",
    "eng2010\n",
    "eng2006\n",
    "eng2002"
   ]
  },
  {
   "cell_type": "code",
   "execution_count": 1107,
   "metadata": {},
   "outputs": [],
   "source": [
    "eng = pd.concat([eng2002, eng2006, eng2010, eng2014, eng2018], axis=1).T\n"
   ]
  },
  {
   "cell_type": "code",
   "execution_count": 1108,
   "metadata": {},
   "outputs": [],
   "source": [
    "eng.rename(index={0: 'England02', 1: 'England06', 2: 'England10', \n",
    "                  3: 'England14', 4: 'England18'}, inplace=True)\n"
   ]
  },
  {
   "cell_type": "code",
   "execution_count": null,
   "metadata": {},
   "outputs": [],
   "source": [
    "02 - 6     F      England     5     2     2     1     6     3     +3     8\n",
    "06 - 7      England     B     5     3     2     0     6     2     +4     11\n",
    "10 - 13      England     C     4     1     2     1     3     5     −2     5\n",
    "14 - 26      England     D     3     0     1     2     1     2     4     −2\n",
    "18 - 4      England     G     7     3     1     3     10     12     8     +4\n"
   ]
  },
  {
   "cell_type": "code",
   "execution_count": 1109,
   "metadata": {},
   "outputs": [],
   "source": [
    "df2 = eng.assign(results=[6, 7, 13, 26, 4])\n"
   ]
  },
  {
   "cell_type": "code",
   "execution_count": 1110,
   "metadata": {},
   "outputs": [
    {
     "data": {
      "text/html": [
       "<div>\n",
       "<style scoped>\n",
       "    .dataframe tbody tr th:only-of-type {\n",
       "        vertical-align: middle;\n",
       "    }\n",
       "\n",
       "    .dataframe tbody tr th {\n",
       "        vertical-align: top;\n",
       "    }\n",
       "\n",
       "    .dataframe thead th {\n",
       "        text-align: right;\n",
       "    }\n",
       "</style>\n",
       "<table border=\"1\" class=\"dataframe\">\n",
       "  <thead>\n",
       "    <tr style=\"text-align: right;\">\n",
       "      <th></th>\n",
       "      <th>goals_z</th>\n",
       "      <th>xg_z</th>\n",
       "      <th>crosses_z</th>\n",
       "      <th>boxtouches_z</th>\n",
       "      <th>passes_z</th>\n",
       "      <th>progpasses_z</th>\n",
       "      <th>takeons_z</th>\n",
       "      <th>progruns_z</th>\n",
       "      <th>tackles_z</th>\n",
       "      <th>interceptions_z</th>\n",
       "      <th>clearances_z</th>\n",
       "      <th>blocks_z</th>\n",
       "      <th>aerials_z</th>\n",
       "      <th>fouls_z</th>\n",
       "      <th>fouled_z</th>\n",
       "      <th>nsxg_z</th>\n",
       "      <th>results</th>\n",
       "    </tr>\n",
       "  </thead>\n",
       "  <tbody>\n",
       "    <tr>\n",
       "      <th>England02</th>\n",
       "      <td>0.176154</td>\n",
       "      <td>0.186154</td>\n",
       "      <td>0.086154</td>\n",
       "      <td>0.163846</td>\n",
       "      <td>0.218462</td>\n",
       "      <td>0.004615</td>\n",
       "      <td>0.089231</td>\n",
       "      <td>0.320000</td>\n",
       "      <td>-0.220769</td>\n",
       "      <td>-0.289231</td>\n",
       "      <td>0.360769</td>\n",
       "      <td>-0.015385</td>\n",
       "      <td>0.404615</td>\n",
       "      <td>-0.013846</td>\n",
       "      <td>0.189231</td>\n",
       "      <td>-0.038462</td>\n",
       "      <td>6</td>\n",
       "    </tr>\n",
       "    <tr>\n",
       "      <th>England06</th>\n",
       "      <td>0.122308</td>\n",
       "      <td>0.330000</td>\n",
       "      <td>0.343077</td>\n",
       "      <td>0.552308</td>\n",
       "      <td>-0.055385</td>\n",
       "      <td>-0.373846</td>\n",
       "      <td>0.310000</td>\n",
       "      <td>-0.022308</td>\n",
       "      <td>0.180000</td>\n",
       "      <td>-0.287692</td>\n",
       "      <td>-0.196923</td>\n",
       "      <td>0.714615</td>\n",
       "      <td>0.346154</td>\n",
       "      <td>-0.199231</td>\n",
       "      <td>0.030769</td>\n",
       "      <td>0.304615</td>\n",
       "      <td>7</td>\n",
       "    </tr>\n",
       "    <tr>\n",
       "      <th>England10</th>\n",
       "      <td>-0.000769</td>\n",
       "      <td>0.323077</td>\n",
       "      <td>0.388462</td>\n",
       "      <td>0.424615</td>\n",
       "      <td>0.255385</td>\n",
       "      <td>-0.012308</td>\n",
       "      <td>0.135385</td>\n",
       "      <td>0.154615</td>\n",
       "      <td>0.220000</td>\n",
       "      <td>0.581538</td>\n",
       "      <td>-0.267692</td>\n",
       "      <td>0.875385</td>\n",
       "      <td>0.266154</td>\n",
       "      <td>-0.091538</td>\n",
       "      <td>0.042308</td>\n",
       "      <td>0.506154</td>\n",
       "      <td>13</td>\n",
       "    </tr>\n",
       "    <tr>\n",
       "      <th>England14</th>\n",
       "      <td>-0.093077</td>\n",
       "      <td>0.301538</td>\n",
       "      <td>0.040769</td>\n",
       "      <td>0.026154</td>\n",
       "      <td>0.253077</td>\n",
       "      <td>-0.100769</td>\n",
       "      <td>0.447692</td>\n",
       "      <td>0.210769</td>\n",
       "      <td>0.017692</td>\n",
       "      <td>-0.276154</td>\n",
       "      <td>-0.280000</td>\n",
       "      <td>-0.256923</td>\n",
       "      <td>-0.163846</td>\n",
       "      <td>-0.283077</td>\n",
       "      <td>0.134615</td>\n",
       "      <td>0.170769</td>\n",
       "      <td>26</td>\n",
       "    </tr>\n",
       "    <tr>\n",
       "      <th>England18</th>\n",
       "      <td>0.446923</td>\n",
       "      <td>0.404615</td>\n",
       "      <td>0.126154</td>\n",
       "      <td>0.366923</td>\n",
       "      <td>0.234615</td>\n",
       "      <td>-0.184615</td>\n",
       "      <td>0.084615</td>\n",
       "      <td>0.086154</td>\n",
       "      <td>-0.088462</td>\n",
       "      <td>0.021538</td>\n",
       "      <td>-0.183846</td>\n",
       "      <td>0.236154</td>\n",
       "      <td>0.466923</td>\n",
       "      <td>-0.143077</td>\n",
       "      <td>0.170000</td>\n",
       "      <td>0.280000</td>\n",
       "      <td>4</td>\n",
       "    </tr>\n",
       "  </tbody>\n",
       "</table>\n",
       "</div>"
      ],
      "text/plain": [
       "            goals_z      xg_z  crosses_z  boxtouches_z  passes_z  \\\n",
       "England02  0.176154  0.186154   0.086154      0.163846  0.218462   \n",
       "England06  0.122308  0.330000   0.343077      0.552308 -0.055385   \n",
       "England10 -0.000769  0.323077   0.388462      0.424615  0.255385   \n",
       "England14 -0.093077  0.301538   0.040769      0.026154  0.253077   \n",
       "England18  0.446923  0.404615   0.126154      0.366923  0.234615   \n",
       "\n",
       "           progpasses_z  takeons_z  progruns_z  tackles_z  interceptions_z  \\\n",
       "England02      0.004615   0.089231    0.320000  -0.220769        -0.289231   \n",
       "England06     -0.373846   0.310000   -0.022308   0.180000        -0.287692   \n",
       "England10     -0.012308   0.135385    0.154615   0.220000         0.581538   \n",
       "England14     -0.100769   0.447692    0.210769   0.017692        -0.276154   \n",
       "England18     -0.184615   0.084615    0.086154  -0.088462         0.021538   \n",
       "\n",
       "           clearances_z  blocks_z  aerials_z   fouls_z  fouled_z    nsxg_z  \\\n",
       "England02      0.360769 -0.015385   0.404615 -0.013846  0.189231 -0.038462   \n",
       "England06     -0.196923  0.714615   0.346154 -0.199231  0.030769  0.304615   \n",
       "England10     -0.267692  0.875385   0.266154 -0.091538  0.042308  0.506154   \n",
       "England14     -0.280000 -0.256923  -0.163846 -0.283077  0.134615  0.170769   \n",
       "England18     -0.183846  0.236154   0.466923 -0.143077  0.170000  0.280000   \n",
       "\n",
       "           results  \n",
       "England02        6  \n",
       "England06        7  \n",
       "England10       13  \n",
       "England14       26  \n",
       "England18        4  "
      ]
     },
     "execution_count": 1110,
     "metadata": {},
     "output_type": "execute_result"
    }
   ],
   "source": [
    "df2"
   ]
  },
  {
   "cell_type": "code",
   "execution_count": 1111,
   "metadata": {},
   "outputs": [],
   "source": [
    "# df2.to_csv('England.csv', index=False)\n"
   ]
  },
  {
   "cell_type": "code",
   "execution_count": null,
   "metadata": {},
   "outputs": [],
   "source": []
  },
  {
   "cell_type": "code",
   "execution_count": null,
   "metadata": {},
   "outputs": [],
   "source": []
  },
  {
   "cell_type": "markdown",
   "metadata": {},
   "source": [
    "# Argentina"
   ]
  },
  {
   "cell_type": "code",
   "execution_count": 588,
   "metadata": {},
   "outputs": [],
   "source": [
    "arg = ['Argentina']"
   ]
  },
  {
   "cell_type": "code",
   "execution_count": 589,
   "metadata": {},
   "outputs": [],
   "source": [
    "arg_year = comparisons.loc[comparisons[\"team\"].isin(arg)]"
   ]
  },
  {
   "cell_type": "code",
   "execution_count": 590,
   "metadata": {},
   "outputs": [],
   "source": [
    "arg2010year = arg_year.loc[arg_year[\"season\"].isin(year2010)]"
   ]
  },
  {
   "cell_type": "code",
   "execution_count": 591,
   "metadata": {},
   "outputs": [],
   "source": [
    "arg2010xg = arg2010year.sort_values(by=[\"xg_z\"], ascending=False)"
   ]
  },
  {
   "cell_type": "code",
   "execution_count": 592,
   "metadata": {},
   "outputs": [],
   "source": [
    "arg2010xg13 = arg2010xg.head(13)"
   ]
  },
  {
   "cell_type": "code",
   "execution_count": 593,
   "metadata": {},
   "outputs": [],
   "source": [
    "arg2010xg13 = arg2010xg13.drop(columns=['season', 'team'])\n"
   ]
  },
  {
   "cell_type": "code",
   "execution_count": 594,
   "metadata": {},
   "outputs": [],
   "source": [
    "arg2010 = arg2010xg13.mean()"
   ]
  },
  {
   "cell_type": "code",
   "execution_count": 595,
   "metadata": {},
   "outputs": [
    {
     "data": {
      "text/plain": [
       "goals_z            0.450769\n",
       "xg_z               0.496154\n",
       "crosses_z          0.009231\n",
       "boxtouches_z       0.553846\n",
       "passes_z           0.549231\n",
       "progpasses_z       0.065385\n",
       "takeons_z          0.708462\n",
       "progruns_z         0.020000\n",
       "tackles_z          0.566154\n",
       "interceptions_z    0.456923\n",
       "clearances_z      -0.219231\n",
       "blocks_z           0.233846\n",
       "aerials_z         -0.217692\n",
       "fouls_z           -0.384615\n",
       "fouled_z           0.235385\n",
       "nsxg_z             0.488462\n",
       "dtype: float64"
      ]
     },
     "execution_count": 595,
     "metadata": {},
     "output_type": "execute_result"
    }
   ],
   "source": [
    "arg2010"
   ]
  },
  {
   "cell_type": "code",
   "execution_count": null,
   "metadata": {},
   "outputs": [],
   "source": [
    "# (0.496154 + .488462) / .450769"
   ]
  },
  {
   "cell_type": "markdown",
   "metadata": {},
   "source": [
    "### Fouled"
   ]
  },
  {
   "cell_type": "code",
   "execution_count": null,
   "metadata": {},
   "outputs": [],
   "source": [
    "# .235385 - -0.384615"
   ]
  },
  {
   "cell_type": "code",
   "execution_count": null,
   "metadata": {},
   "outputs": [],
   "source": [
    "# new_row = {'Country': 'Argentina', 'Year': 2010, 'goals_z': 0.450769, 'xg_z': 0.496154, \n",
    "#            'boxtouches_z': 0.553846, 'progpasses_z': 0.065385, 'progruns_z': 0.020000, \n",
    "#            'new_xg': 2.184302, 'Fouled': 0.62, 'results': 8}\n",
    "\n",
    "# stats_df = stats_df.append(new_row, ignore_index=True)"
   ]
  },
  {
   "cell_type": "markdown",
   "metadata": {},
   "source": [
    "## 2014"
   ]
  },
  {
   "cell_type": "code",
   "execution_count": 596,
   "metadata": {},
   "outputs": [],
   "source": [
    "arg2014year = arg_year.loc[arg_year[\"season\"].isin(year2014)]"
   ]
  },
  {
   "cell_type": "code",
   "execution_count": 597,
   "metadata": {},
   "outputs": [],
   "source": [
    "arg2014xg = arg2014year.sort_values(by=[\"xg_z\"], ascending=False)"
   ]
  },
  {
   "cell_type": "code",
   "execution_count": 598,
   "metadata": {},
   "outputs": [],
   "source": [
    "arg2014xg13 = arg2014xg.head(13)\n"
   ]
  },
  {
   "cell_type": "code",
   "execution_count": 599,
   "metadata": {},
   "outputs": [],
   "source": [
    "arg2014xg13 = arg2014xg13.drop(columns=[ 'season', 'team'])\n"
   ]
  },
  {
   "cell_type": "code",
   "execution_count": 600,
   "metadata": {},
   "outputs": [],
   "source": [
    "arg2014 = arg2014xg13.mean()\n"
   ]
  },
  {
   "cell_type": "code",
   "execution_count": 601,
   "metadata": {},
   "outputs": [
    {
     "data": {
      "text/plain": [
       "goals_z            0.011538\n",
       "xg_z               0.152308\n",
       "crosses_z          0.222308\n",
       "boxtouches_z       0.289231\n",
       "passes_z           0.224615\n",
       "progpasses_z      -0.141538\n",
       "takeons_z          0.476923\n",
       "progruns_z         0.170769\n",
       "tackles_z          0.540000\n",
       "interceptions_z    0.253846\n",
       "clearances_z       0.079231\n",
       "blocks_z           0.211538\n",
       "aerials_z         -0.119231\n",
       "fouls_z           -0.256154\n",
       "fouled_z           0.176154\n",
       "nsxg_z             0.168462\n",
       "dtype: float64"
      ]
     },
     "execution_count": 601,
     "metadata": {},
     "output_type": "execute_result"
    }
   ],
   "source": [
    "arg2014\n"
   ]
  },
  {
   "cell_type": "code",
   "execution_count": null,
   "metadata": {},
   "outputs": [],
   "source": [
    "# (0.152308 + .168462) / .011538"
   ]
  },
  {
   "cell_type": "markdown",
   "metadata": {},
   "source": [
    "### Fouled"
   ]
  },
  {
   "cell_type": "code",
   "execution_count": null,
   "metadata": {},
   "outputs": [],
   "source": [
    "# .176154 - -0.256154"
   ]
  },
  {
   "cell_type": "code",
   "execution_count": null,
   "metadata": {},
   "outputs": [],
   "source": [
    "# new_row = {'Country': 'Argentina', 'Year': 2014, 'goals_z': 0.011538, 'xg_z': 0.152308, \n",
    "#            'boxtouches_z':0.289231, 'progpasses_z':-0.141538, 'progruns_z':0.170769, \n",
    "#            'new_xg': 27.801178, 'Fouled': 0.432308, 'results': 2}\n",
    "# stats_df = stats_df.append(new_row, ignore_index=True)"
   ]
  },
  {
   "cell_type": "markdown",
   "metadata": {},
   "source": [
    "## 2018"
   ]
  },
  {
   "cell_type": "code",
   "execution_count": 602,
   "metadata": {},
   "outputs": [],
   "source": [
    "arg2018year = arg_year.loc[arg_year[\"season\"].isin(year2018)]"
   ]
  },
  {
   "cell_type": "code",
   "execution_count": 603,
   "metadata": {},
   "outputs": [],
   "source": [
    "arg2018xg = arg2018year.sort_values(by=[\"xg_z\"], ascending=False)"
   ]
  },
  {
   "cell_type": "code",
   "execution_count": 604,
   "metadata": {},
   "outputs": [],
   "source": [
    "arg2018xg13 = arg2018xg.head(13)\n"
   ]
  },
  {
   "cell_type": "code",
   "execution_count": 605,
   "metadata": {},
   "outputs": [],
   "source": [
    "arg2018xg13 = arg2018xg13.drop(columns=[ 'season', 'team'])\n"
   ]
  },
  {
   "cell_type": "code",
   "execution_count": 606,
   "metadata": {},
   "outputs": [],
   "source": [
    "arg2018 = arg2018xg13.mean()\n"
   ]
  },
  {
   "cell_type": "code",
   "execution_count": 607,
   "metadata": {},
   "outputs": [
    {
     "data": {
      "text/plain": [
       "goals_z            0.373846\n",
       "xg_z               0.110000\n",
       "crosses_z          0.030000\n",
       "boxtouches_z       0.300769\n",
       "passes_z           0.497692\n",
       "progpasses_z      -0.213846\n",
       "takeons_z          0.450000\n",
       "progruns_z         0.743077\n",
       "tackles_z          0.881538\n",
       "interceptions_z    0.370769\n",
       "clearances_z       0.012308\n",
       "blocks_z           0.074615\n",
       "aerials_z          0.006923\n",
       "fouls_z           -0.040769\n",
       "fouled_z           0.656154\n",
       "nsxg_z             0.316923\n",
       "dtype: float64"
      ]
     },
     "execution_count": 607,
     "metadata": {},
     "output_type": "execute_result"
    }
   ],
   "source": [
    "arg2018\n"
   ]
  },
  {
   "cell_type": "code",
   "execution_count": null,
   "metadata": {},
   "outputs": [],
   "source": [
    "# (0.110000 + .316923) / .373846"
   ]
  },
  {
   "cell_type": "markdown",
   "metadata": {},
   "source": [
    "### Fouled"
   ]
  },
  {
   "cell_type": "code",
   "execution_count": null,
   "metadata": {},
   "outputs": [],
   "source": [
    "# .656154 - -0.040769"
   ]
  },
  {
   "cell_type": "code",
   "execution_count": null,
   "metadata": {},
   "outputs": [],
   "source": [
    "# new_row = {'Country': 'Argentina', 'Year': 2018, 'goals_z': 0.373846, 'xg_z':0.110000,  \n",
    "#            'boxtouches_z':0.300769,  'progpasses_z':-0.213846,  'progruns_z':0.743077, \n",
    "#            'new_xg': 1.141975, 'Fouled': 0.696923, 'results': 16}\n",
    "# stats_df = stats_df.append(new_row, ignore_index=True)"
   ]
  },
  {
   "cell_type": "markdown",
   "metadata": {},
   "source": [
    "## 2006"
   ]
  },
  {
   "cell_type": "code",
   "execution_count": 608,
   "metadata": {},
   "outputs": [],
   "source": [
    "arg2006year = arg_year.loc[arg_year[\"season\"].isin(year2006)]"
   ]
  },
  {
   "cell_type": "code",
   "execution_count": 609,
   "metadata": {},
   "outputs": [],
   "source": [
    "arg2006xg = arg2006year.sort_values(by=[\"xg_z\"], ascending=False)"
   ]
  },
  {
   "cell_type": "code",
   "execution_count": 610,
   "metadata": {},
   "outputs": [],
   "source": [
    "arg2006xg13 = arg2006xg.head(13)\n"
   ]
  },
  {
   "cell_type": "code",
   "execution_count": 611,
   "metadata": {},
   "outputs": [],
   "source": [
    "arg2006xg13 = arg2006xg13.drop(columns=[ 'season', 'team'])\n"
   ]
  },
  {
   "cell_type": "code",
   "execution_count": 612,
   "metadata": {},
   "outputs": [],
   "source": [
    "arg2006 = arg2006xg13.mean()\n"
   ]
  },
  {
   "cell_type": "code",
   "execution_count": 613,
   "metadata": {},
   "outputs": [
    {
     "data": {
      "text/plain": [
       "goals_z            0.700000\n",
       "xg_z              -0.006923\n",
       "crosses_z         -0.137692\n",
       "boxtouches_z      -0.071538\n",
       "passes_z           0.443077\n",
       "progpasses_z       0.080769\n",
       "takeons_z          0.368462\n",
       "progruns_z        -0.161538\n",
       "tackles_z          0.312308\n",
       "interceptions_z    0.163846\n",
       "clearances_z       0.174615\n",
       "blocks_z           0.670769\n",
       "aerials_z         -0.238462\n",
       "fouls_z            0.124615\n",
       "fouled_z           0.281538\n",
       "nsxg_z             0.038462\n",
       "dtype: float64"
      ]
     },
     "execution_count": 613,
     "metadata": {},
     "output_type": "execute_result"
    }
   ],
   "source": [
    "\n",
    "arg2006"
   ]
  },
  {
   "cell_type": "code",
   "execution_count": null,
   "metadata": {},
   "outputs": [],
   "source": [
    "# (-0.006923 + .038462) / .700000"
   ]
  },
  {
   "cell_type": "markdown",
   "metadata": {},
   "source": [
    "### Fouled"
   ]
  },
  {
   "cell_type": "code",
   "execution_count": null,
   "metadata": {},
   "outputs": [],
   "source": [
    "# .281538 - .124615"
   ]
  },
  {
   "cell_type": "code",
   "execution_count": null,
   "metadata": {},
   "outputs": [],
   "source": [
    "# new_row = {'Country': 'Argentina', 'Year': 2006, 'goals_z': 0.700000, 'xg_z':-0.006923,  \n",
    "#            'boxtouches_z': -0.071538,  'progpasses_z':0.080769,  'progruns_z':-0.161538, \n",
    "#            'new_xg': 0.04505571, 'Fouled': 0.156923, 'results': 8}\n",
    "# stats_df = stats_df.append(new_row, ignore_index=True)"
   ]
  },
  {
   "cell_type": "markdown",
   "metadata": {},
   "source": [
    "## 2002"
   ]
  },
  {
   "cell_type": "code",
   "execution_count": 614,
   "metadata": {},
   "outputs": [],
   "source": [
    "arg2002year = arg_year.loc[arg_year[\"season\"].isin(year2002)]"
   ]
  },
  {
   "cell_type": "code",
   "execution_count": 615,
   "metadata": {},
   "outputs": [],
   "source": [
    "arg2002xg = arg2002year.sort_values(by=[\"xg_z\"], ascending=False)"
   ]
  },
  {
   "cell_type": "code",
   "execution_count": 616,
   "metadata": {},
   "outputs": [],
   "source": [
    "arg2002xg13 = arg2002xg.head(13)\n"
   ]
  },
  {
   "cell_type": "code",
   "execution_count": 617,
   "metadata": {},
   "outputs": [],
   "source": [
    "arg2002xg13 = arg2002xg13.drop(columns=[ 'season', 'team'])\n"
   ]
  },
  {
   "cell_type": "code",
   "execution_count": 618,
   "metadata": {},
   "outputs": [],
   "source": [
    "arg2002 = arg2002xg13.mean()\n"
   ]
  },
  {
   "cell_type": "code",
   "execution_count": 619,
   "metadata": {},
   "outputs": [
    {
     "data": {
      "text/plain": [
       "goals_z           -0.085385\n",
       "xg_z               0.673846\n",
       "crosses_z          0.561538\n",
       "boxtouches_z       0.820000\n",
       "passes_z           0.390000\n",
       "progpasses_z       0.067692\n",
       "takeons_z          0.183846\n",
       "progruns_z         0.608462\n",
       "tackles_z          0.396154\n",
       "interceptions_z    0.576923\n",
       "clearances_z      -0.353077\n",
       "blocks_z           0.480000\n",
       "aerials_z          0.038462\n",
       "fouls_z            0.098462\n",
       "fouled_z           0.282308\n",
       "nsxg_z             0.687692\n",
       "dtype: float64"
      ]
     },
     "execution_count": 619,
     "metadata": {},
     "output_type": "execute_result"
    }
   ],
   "source": [
    "arg2002"
   ]
  },
  {
   "cell_type": "code",
   "execution_count": null,
   "metadata": {},
   "outputs": [],
   "source": [
    "# (0.673846 + .687692) / -0.085385"
   ]
  },
  {
   "cell_type": "markdown",
   "metadata": {},
   "source": [
    "### Fouled"
   ]
  },
  {
   "cell_type": "code",
   "execution_count": null,
   "metadata": {},
   "outputs": [],
   "source": [
    "# .282308 - .098462"
   ]
  },
  {
   "cell_type": "code",
   "execution_count": null,
   "metadata": {},
   "outputs": [],
   "source": [
    "# new_row = {'Country': 'Argentina', 'Year': 2002, 'goals_z': -0.085385, 'xg_z':0.673846,  \n",
    "#            'boxtouches_z': 0.820000,  'progpasses_z':0.067692,  'progruns_z':0.608462, \n",
    "#            'new_xg': -15.945868, 'Fouled': 0.183846, 'results': 32}\n",
    "# stats_df = stats_df.append(new_row, ignore_index=True)"
   ]
  },
  {
   "cell_type": "code",
   "execution_count": null,
   "metadata": {},
   "outputs": [],
   "source": [
    "arg2018\n",
    "arg2014\n",
    "arg2010\n",
    "arg2006\n",
    "arg2002"
   ]
  },
  {
   "cell_type": "code",
   "execution_count": 1112,
   "metadata": {},
   "outputs": [],
   "source": [
    "arg = pd.concat([arg2002, arg2006, arg2010, arg2014, arg2018], axis=1).T\n"
   ]
  },
  {
   "cell_type": "code",
   "execution_count": 1113,
   "metadata": {},
   "outputs": [],
   "source": [
    "arg.rename(index={0: 'Argentina02', 1: 'Argentina06', 2: 'Argentina10', 3: 'Argentina14', 4: 'Argentina18'}, inplace=True)\n"
   ]
  },
  {
   "cell_type": "code",
   "execution_count": null,
   "metadata": {},
   "outputs": [],
   "source": [
    "18 - 16      Argentina     D     4     1     1     2     4     6     9     −3\n",
    "14 - 2      Argentina     F     7     5     1     1     16     8     4     +4\n",
    "10 - 5      Argentina     B     5     4     0     1     10     6     +4     12\n",
    "06 - 6      Argentina     C     5     3     2     0     11     3     +8     11\n",
    "02 - 18     F      Argentina     3     1     1     1     2     2     0     4\n"
   ]
  },
  {
   "cell_type": "code",
   "execution_count": 1114,
   "metadata": {},
   "outputs": [],
   "source": [
    "df2 = arg.assign(results=[18, 6, 5, 2, 16])\n"
   ]
  },
  {
   "cell_type": "code",
   "execution_count": 1115,
   "metadata": {},
   "outputs": [],
   "source": [
    "# df2.to_csv('Argentina.csv', index=False)\n"
   ]
  },
  {
   "cell_type": "markdown",
   "metadata": {},
   "source": [
    "# Uruguay"
   ]
  },
  {
   "cell_type": "code",
   "execution_count": 620,
   "metadata": {},
   "outputs": [],
   "source": [
    "uru = ['Uruguay']"
   ]
  },
  {
   "cell_type": "code",
   "execution_count": 621,
   "metadata": {},
   "outputs": [],
   "source": [
    "uru_year = comparisons.loc[comparisons[\"team\"].isin(uru)]"
   ]
  },
  {
   "cell_type": "code",
   "execution_count": 622,
   "metadata": {},
   "outputs": [],
   "source": [
    "uru2010year = uru_year.loc[uru_year[\"season\"].isin(year2010)]"
   ]
  },
  {
   "cell_type": "code",
   "execution_count": 623,
   "metadata": {},
   "outputs": [],
   "source": [
    "uru2010xg = uru2010year.sort_values(by=[\"xg_z\"], ascending=False)"
   ]
  },
  {
   "cell_type": "code",
   "execution_count": 624,
   "metadata": {},
   "outputs": [],
   "source": [
    "uru2010xg13 = uru2010xg.head(13)"
   ]
  },
  {
   "cell_type": "code",
   "execution_count": 625,
   "metadata": {},
   "outputs": [],
   "source": [
    "uru2010xg13 = uru2010xg13.drop(columns=[ 'season', 'team'])\n"
   ]
  },
  {
   "cell_type": "code",
   "execution_count": 626,
   "metadata": {},
   "outputs": [],
   "source": [
    "uru2010 = uru2010xg13.mean()"
   ]
  },
  {
   "cell_type": "code",
   "execution_count": 627,
   "metadata": {},
   "outputs": [
    {
     "data": {
      "text/plain": [
       "goals_z            0.396923\n",
       "xg_z               0.130769\n",
       "crosses_z         -0.069231\n",
       "boxtouches_z       0.050000\n",
       "passes_z          -0.150769\n",
       "progpasses_z      -0.225385\n",
       "takeons_z          0.083846\n",
       "progruns_z        -0.033846\n",
       "tackles_z         -0.050769\n",
       "interceptions_z    0.061538\n",
       "clearances_z       0.495385\n",
       "blocks_z           0.063846\n",
       "aerials_z          0.473846\n",
       "fouls_z           -0.013077\n",
       "fouled_z           0.335385\n",
       "nsxg_z            -0.167692\n",
       "dtype: float64"
      ]
     },
     "execution_count": 627,
     "metadata": {},
     "output_type": "execute_result"
    }
   ],
   "source": [
    "uru2010"
   ]
  },
  {
   "cell_type": "code",
   "execution_count": null,
   "metadata": {},
   "outputs": [],
   "source": [
    "# (0.130769 + -0.167692) / .396923"
   ]
  },
  {
   "cell_type": "markdown",
   "metadata": {},
   "source": [
    "### FOULED"
   ]
  },
  {
   "cell_type": "code",
   "execution_count": null,
   "metadata": {},
   "outputs": [],
   "source": [
    "# .335385 - -0.013077"
   ]
  },
  {
   "cell_type": "code",
   "execution_count": null,
   "metadata": {},
   "outputs": [],
   "source": [
    "# new_row = {'Country': 'Uruguay', 'Year': 2010, 'goals_z': 0.396923, 'xg_z': 0.130769, \n",
    "#            'boxtouches_z': 0.050000, 'progpasses_z': -0.225385, 'progruns_z': -0.033846,\n",
    "#            'new_xg': -0.09302, 'Fouled': -0.0930, 'results': 4}\n",
    "\n",
    "# stats_df = stats_df.append(new_row, ignore_index=True)"
   ]
  },
  {
   "cell_type": "markdown",
   "metadata": {},
   "source": [
    "## 2014"
   ]
  },
  {
   "cell_type": "code",
   "execution_count": 628,
   "metadata": {},
   "outputs": [],
   "source": [
    "uru2014year = uru_year.loc[uru_year[\"season\"].isin(year2014)]"
   ]
  },
  {
   "cell_type": "code",
   "execution_count": 629,
   "metadata": {},
   "outputs": [],
   "source": [
    "uru2014xg = uru2014year.sort_values(by=[\"xg_z\"], ascending=False)"
   ]
  },
  {
   "cell_type": "code",
   "execution_count": 630,
   "metadata": {},
   "outputs": [],
   "source": [
    "uru2014xg13 = uru2014xg.head(13)\n"
   ]
  },
  {
   "cell_type": "code",
   "execution_count": 631,
   "metadata": {},
   "outputs": [],
   "source": [
    "uru2014xg13 = uru2014xg13.drop(columns=[ 'season', 'team'])\n"
   ]
  },
  {
   "cell_type": "code",
   "execution_count": 632,
   "metadata": {},
   "outputs": [],
   "source": [
    "uru2014 = uru2014xg13.mean()\n"
   ]
  },
  {
   "cell_type": "code",
   "execution_count": 633,
   "metadata": {},
   "outputs": [
    {
     "data": {
      "text/plain": [
       "goals_z            0.074615\n",
       "xg_z               0.129231\n",
       "crosses_z          0.111538\n",
       "boxtouches_z       0.226923\n",
       "passes_z          -0.152308\n",
       "progpasses_z      -0.154615\n",
       "takeons_z         -0.204615\n",
       "progruns_z        -0.273077\n",
       "tackles_z         -0.119231\n",
       "interceptions_z    0.174615\n",
       "clearances_z      -0.024615\n",
       "blocks_z          -0.250000\n",
       "aerials_z          0.409231\n",
       "fouls_z            0.555385\n",
       "fouled_z           0.350769\n",
       "nsxg_z             0.056154\n",
       "dtype: float64"
      ]
     },
     "execution_count": 633,
     "metadata": {},
     "output_type": "execute_result"
    }
   ],
   "source": [
    "uru2014"
   ]
  },
  {
   "cell_type": "code",
   "execution_count": null,
   "metadata": {},
   "outputs": [],
   "source": [
    "# (0.129231 + 0.056154) / .074615"
   ]
  },
  {
   "cell_type": "markdown",
   "metadata": {},
   "source": [
    "### Fouled"
   ]
  },
  {
   "cell_type": "code",
   "execution_count": null,
   "metadata": {},
   "outputs": [],
   "source": [
    "# .350769 - .555385"
   ]
  },
  {
   "cell_type": "code",
   "execution_count": null,
   "metadata": {},
   "outputs": [],
   "source": [
    "# new_row = {'Country': 'Uruguay', 'Year': 2014, 'goals_z': 0.074615, 'xg_z':0.129231, \n",
    "#            'boxtouches_z':0.226923, 'progpasses_z':-0.154615, 'progruns_z':-0.273077, \n",
    "#            'new_xg': 2.484554, 'Fouled': -0.204616, 'results': 16}\n",
    "\n",
    "# stats_df = stats_df.append(new_row, ignore_index=True)"
   ]
  },
  {
   "cell_type": "markdown",
   "metadata": {},
   "source": [
    "## 2018"
   ]
  },
  {
   "cell_type": "code",
   "execution_count": 634,
   "metadata": {},
   "outputs": [],
   "source": [
    "uru2018year = uru_year.loc[uru_year[\"season\"].isin(year2018)]"
   ]
  },
  {
   "cell_type": "code",
   "execution_count": 635,
   "metadata": {},
   "outputs": [],
   "source": [
    "uru2018xg = uru2018year.sort_values(by=[\"xg_z\"], ascending=False)"
   ]
  },
  {
   "cell_type": "code",
   "execution_count": 636,
   "metadata": {},
   "outputs": [],
   "source": [
    "uru2018xg13 = uru2018xg.head(13)\n"
   ]
  },
  {
   "cell_type": "code",
   "execution_count": 637,
   "metadata": {},
   "outputs": [],
   "source": [
    "uru2018xg13 = uru2018xg13.drop(columns=[ 'season', 'team'])\n"
   ]
  },
  {
   "cell_type": "code",
   "execution_count": 638,
   "metadata": {},
   "outputs": [],
   "source": [
    "uru2018 = uru2018xg13.mean()\n"
   ]
  },
  {
   "cell_type": "code",
   "execution_count": 639,
   "metadata": {},
   "outputs": [
    {
     "data": {
      "text/plain": [
       "goals_z            0.215385\n",
       "xg_z               0.316154\n",
       "crosses_z          0.171538\n",
       "boxtouches_z       0.174615\n",
       "passes_z           0.030769\n",
       "progpasses_z      -0.002308\n",
       "takeons_z         -0.020769\n",
       "progruns_z        -0.018462\n",
       "tackles_z         -0.178462\n",
       "interceptions_z    0.920000\n",
       "clearances_z       0.103846\n",
       "blocks_z          -0.055385\n",
       "aerials_z         -0.013846\n",
       "fouls_z            0.104615\n",
       "fouled_z           0.224615\n",
       "nsxg_z             0.164615\n",
       "dtype: float64"
      ]
     },
     "execution_count": 639,
     "metadata": {},
     "output_type": "execute_result"
    }
   ],
   "source": [
    "\n",
    "uru2018"
   ]
  },
  {
   "cell_type": "code",
   "execution_count": null,
   "metadata": {},
   "outputs": [],
   "source": [
    "# (0.316154 + 0.164615) / .215385"
   ]
  },
  {
   "cell_type": "markdown",
   "metadata": {},
   "source": [
    "### Fouled"
   ]
  },
  {
   "cell_type": "code",
   "execution_count": null,
   "metadata": {},
   "outputs": [],
   "source": [
    "# .224615 - .104615"
   ]
  },
  {
   "cell_type": "code",
   "execution_count": null,
   "metadata": {},
   "outputs": [],
   "source": [
    "# new_row = {'Country': 'Uruguay', 'Year': 2018, 'goals_z': 0.215385, 'xg_z':0.316154, \n",
    "#            'boxtouches_z':0.174615, 'progpasses_z':-0.002308, 'progruns_z':-0.018462, \n",
    "#            'new_xg': 2.2321377, 'Fouled': 0.12000, 'results': 8}\n",
    "\n",
    "# stats_df = stats_df.append(new_row, ignore_index=True)"
   ]
  },
  {
   "cell_type": "markdown",
   "metadata": {},
   "source": [
    "## 2006 NA\n"
   ]
  },
  {
   "cell_type": "markdown",
   "metadata": {},
   "source": [
    "## 2002"
   ]
  },
  {
   "cell_type": "code",
   "execution_count": 640,
   "metadata": {},
   "outputs": [],
   "source": [
    "uru2002year = uru_year.loc[uru_year[\"season\"].isin(year2002)]"
   ]
  },
  {
   "cell_type": "code",
   "execution_count": 641,
   "metadata": {},
   "outputs": [],
   "source": [
    "uru2002xg = uru2002year.sort_values(by=[\"xg_z\"], ascending=False)"
   ]
  },
  {
   "cell_type": "code",
   "execution_count": 642,
   "metadata": {},
   "outputs": [],
   "source": [
    "uru2002xg13 = uru2002xg.head(13)\n"
   ]
  },
  {
   "cell_type": "code",
   "execution_count": 643,
   "metadata": {},
   "outputs": [],
   "source": [
    "uru2002xg13 = uru2002xg13.drop(columns=[ 'season', 'team'])\n"
   ]
  },
  {
   "cell_type": "code",
   "execution_count": 644,
   "metadata": {},
   "outputs": [],
   "source": [
    "uru2002 = uru2002xg13.mean()\n"
   ]
  },
  {
   "cell_type": "code",
   "execution_count": 645,
   "metadata": {},
   "outputs": [
    {
     "data": {
      "text/plain": [
       "goals_z            0.239231\n",
       "xg_z               0.550000\n",
       "crosses_z          0.156923\n",
       "boxtouches_z       0.183077\n",
       "passes_z          -0.210769\n",
       "progpasses_z      -0.204615\n",
       "takeons_z          0.747692\n",
       "progruns_z         0.416154\n",
       "tackles_z          0.099231\n",
       "interceptions_z   -0.067692\n",
       "clearances_z       0.021538\n",
       "blocks_z          -0.183077\n",
       "aerials_z          0.263846\n",
       "fouls_z            0.097692\n",
       "fouled_z           0.060000\n",
       "nsxg_z             0.055385\n",
       "dtype: float64"
      ]
     },
     "execution_count": 645,
     "metadata": {},
     "output_type": "execute_result"
    }
   ],
   "source": [
    "uru2002\n"
   ]
  },
  {
   "cell_type": "code",
   "execution_count": null,
   "metadata": {},
   "outputs": [],
   "source": [
    "# (0.550000 + 0.055385) / .239231"
   ]
  },
  {
   "cell_type": "markdown",
   "metadata": {},
   "source": [
    "### Fouled"
   ]
  },
  {
   "cell_type": "code",
   "execution_count": null,
   "metadata": {},
   "outputs": [],
   "source": [
    "# .060000 - .097692"
   ]
  },
  {
   "cell_type": "code",
   "execution_count": null,
   "metadata": {},
   "outputs": [],
   "source": [
    "# new_row = {'Country': 'Uruguay', 'Year': 2002, 'goals_z': 0.239231, 'xg_z':0.550000, \n",
    "#            'boxtouches_z':0.183077, 'progpasses_z':-0.204615, 'progruns_z':0.416154, \n",
    "#            'new_xg': 2.5305457, 'Fouled': -0.037692, 'results': 32}\n",
    "\n",
    "# stats_df = stats_df.append(new_row, ignore_index=True)"
   ]
  },
  {
   "cell_type": "code",
   "execution_count": null,
   "metadata": {},
   "outputs": [],
   "source": [
    "uru2002\n",
    "uru2010\n",
    "uru2014\n",
    "uru2018"
   ]
  },
  {
   "cell_type": "code",
   "execution_count": 1116,
   "metadata": {},
   "outputs": [],
   "source": [
    "uru = pd.concat([uru2002, uru2010, uru2014, uru2018], axis=1).T\n"
   ]
  },
  {
   "cell_type": "code",
   "execution_count": 1117,
   "metadata": {},
   "outputs": [],
   "source": [
    "uru.rename(index={0: 'Uruguay02', 1: 'Uruguay10', 2: 'Uruguay14', 3: 'Uruguay18'}, inplace=True)\n"
   ]
  },
  {
   "cell_type": "code",
   "execution_count": null,
   "metadata": {},
   "outputs": [],
   "source": [
    "02 - 26     A      Uruguay     3     0     2     1     4     5     −1     2\n",
    "10 - 4      Uruguay     A     7     3     2     2     11     8     +3     11\n",
    "14 - 12      Uruguay     D     4     2     0     2     6     4     6     −2\n",
    "18 - 5      Uruguay     A     5     4     0     1     12     7     3     +4\n"
   ]
  },
  {
   "cell_type": "code",
   "execution_count": 1118,
   "metadata": {},
   "outputs": [],
   "source": [
    "df2 = uru.assign(results=[26, 4, 12, 5])\n"
   ]
  },
  {
   "cell_type": "code",
   "execution_count": 1119,
   "metadata": {},
   "outputs": [],
   "source": [
    "# df2.to_csv('Uruguay.csv', index=False)\n"
   ]
  },
  {
   "cell_type": "code",
   "execution_count": null,
   "metadata": {},
   "outputs": [],
   "source": []
  },
  {
   "cell_type": "code",
   "execution_count": null,
   "metadata": {},
   "outputs": [],
   "source": []
  },
  {
   "cell_type": "code",
   "execution_count": null,
   "metadata": {},
   "outputs": [],
   "source": []
  },
  {
   "cell_type": "markdown",
   "metadata": {},
   "source": [
    "# Senegal"
   ]
  },
  {
   "cell_type": "markdown",
   "metadata": {},
   "source": [
    "## 2010 NA"
   ]
  },
  {
   "cell_type": "markdown",
   "metadata": {},
   "source": [
    "## 2014 NA"
   ]
  },
  {
   "cell_type": "markdown",
   "metadata": {},
   "source": [
    "## 2018"
   ]
  },
  {
   "cell_type": "code",
   "execution_count": 646,
   "metadata": {},
   "outputs": [],
   "source": [
    "sen = ['Senegal']"
   ]
  },
  {
   "cell_type": "code",
   "execution_count": 647,
   "metadata": {},
   "outputs": [],
   "source": [
    "sen_year = comparisons.loc[comparisons[\"team\"].isin(sen)]"
   ]
  },
  {
   "cell_type": "code",
   "execution_count": 648,
   "metadata": {},
   "outputs": [],
   "source": [
    "sen2018year = sen_year.loc[sen_year[\"season\"].isin(year2018)]"
   ]
  },
  {
   "cell_type": "code",
   "execution_count": 649,
   "metadata": {},
   "outputs": [],
   "source": [
    "sen2018xg = sen2018year.sort_values(by=[\"xg_z\"], ascending=False)"
   ]
  },
  {
   "cell_type": "code",
   "execution_count": 650,
   "metadata": {},
   "outputs": [],
   "source": [
    "sen2018xg13 = sen2018xg.head(13)"
   ]
  },
  {
   "cell_type": "code",
   "execution_count": 651,
   "metadata": {},
   "outputs": [],
   "source": [
    "sen2018xg13 = sen2018xg13.drop(columns=['season', 'team'])\n"
   ]
  },
  {
   "cell_type": "code",
   "execution_count": 652,
   "metadata": {},
   "outputs": [],
   "source": [
    "sen2018 = sen2018xg13.mean()"
   ]
  },
  {
   "cell_type": "code",
   "execution_count": 653,
   "metadata": {},
   "outputs": [
    {
     "data": {
      "text/plain": [
       "goals_z            0.110769\n",
       "xg_z              -0.074615\n",
       "crosses_z          0.148462\n",
       "boxtouches_z       0.087692\n",
       "passes_z          -0.320769\n",
       "progpasses_z      -0.150769\n",
       "takeons_z          0.028462\n",
       "progruns_z         0.121538\n",
       "tackles_z         -0.384615\n",
       "interceptions_z   -0.240769\n",
       "clearances_z      -0.145385\n",
       "blocks_z          -0.353077\n",
       "aerials_z          0.302308\n",
       "fouls_z            0.352308\n",
       "fouled_z          -0.095385\n",
       "nsxg_z             0.071538\n",
       "dtype: float64"
      ]
     },
     "execution_count": 653,
     "metadata": {},
     "output_type": "execute_result"
    }
   ],
   "source": [
    "sen2018"
   ]
  },
  {
   "cell_type": "code",
   "execution_count": null,
   "metadata": {},
   "outputs": [],
   "source": [
    "# (-0.074615 + 0.071538) / 0.110769"
   ]
  },
  {
   "cell_type": "markdown",
   "metadata": {},
   "source": [
    "### Fouled"
   ]
  },
  {
   "cell_type": "code",
   "execution_count": null,
   "metadata": {},
   "outputs": [],
   "source": [
    "# -0.095385 - .352308"
   ]
  },
  {
   "cell_type": "code",
   "execution_count": null,
   "metadata": {},
   "outputs": [],
   "source": [
    "# new_row = {'Country': 'Senegal', 'Year': 2018, 'goals_z':0.110769, 'xg_z':-0.074615, \n",
    "#            'boxtouches_z':0.087692, 'progpasses_z':-0.150769, 'progruns_z':0.121538, \n",
    "#            'new_xg': -0.027778, 'Fouled': -0.447693, 'results': 32}\n",
    "\n",
    "# stats_df = stats_df.append(new_row, ignore_index=True)"
   ]
  },
  {
   "cell_type": "markdown",
   "metadata": {},
   "source": [
    "## 2006 NA"
   ]
  },
  {
   "cell_type": "markdown",
   "metadata": {},
   "source": [
    "## 2002"
   ]
  },
  {
   "cell_type": "code",
   "execution_count": 654,
   "metadata": {},
   "outputs": [],
   "source": [
    "sen2002year = sen_year.loc[sen_year[\"season\"].isin(year2002)]"
   ]
  },
  {
   "cell_type": "code",
   "execution_count": 655,
   "metadata": {},
   "outputs": [],
   "source": [
    "sen2002xg = sen2002year.sort_values(by=[\"xg_z\"], ascending=False)"
   ]
  },
  {
   "cell_type": "code",
   "execution_count": 656,
   "metadata": {},
   "outputs": [],
   "source": [
    "sen2002xg13 = sen2002xg.head(13)"
   ]
  },
  {
   "cell_type": "code",
   "execution_count": 657,
   "metadata": {},
   "outputs": [],
   "source": [
    "sen2002xg13 = sen2002xg13.drop(columns=['season', 'team'])\n"
   ]
  },
  {
   "cell_type": "code",
   "execution_count": 658,
   "metadata": {},
   "outputs": [],
   "source": [
    "sen2002 = sen2002xg13.mean()"
   ]
  },
  {
   "cell_type": "code",
   "execution_count": 659,
   "metadata": {},
   "outputs": [
    {
     "data": {
      "text/plain": [
       "goals_z            0.193077\n",
       "xg_z               0.087692\n",
       "crosses_z         -0.180000\n",
       "boxtouches_z       0.045385\n",
       "passes_z          -0.492308\n",
       "progpasses_z      -0.325385\n",
       "takeons_z          0.333077\n",
       "progruns_z         0.048462\n",
       "tackles_z         -0.280000\n",
       "interceptions_z   -0.345385\n",
       "clearances_z       0.082308\n",
       "blocks_z          -0.152308\n",
       "aerials_z          0.168462\n",
       "fouls_z            0.110769\n",
       "fouled_z           0.244615\n",
       "nsxg_z            -0.056923\n",
       "dtype: float64"
      ]
     },
     "execution_count": 659,
     "metadata": {},
     "output_type": "execute_result"
    }
   ],
   "source": [
    "sen2002"
   ]
  },
  {
   "cell_type": "code",
   "execution_count": null,
   "metadata": {},
   "outputs": [],
   "source": [
    "# (0.087692 + -0.056923) / 0.193077"
   ]
  },
  {
   "cell_type": "markdown",
   "metadata": {},
   "source": [
    "## Fouled"
   ]
  },
  {
   "cell_type": "code",
   "execution_count": null,
   "metadata": {},
   "outputs": [],
   "source": [
    "# .244615 - .048462"
   ]
  },
  {
   "cell_type": "code",
   "execution_count": null,
   "metadata": {},
   "outputs": [],
   "source": [
    "# new_row = {'Country': 'Senegal', 'Year': 2002, 'goals_z':0.193077, 'xg_z':0.087692, \n",
    "#            'boxtouches_z':0.045385, 'progpasses_z':-0.325385, 'progruns_z':0.048462, \n",
    "#            'new_xg': 0.1593612, 'Fouled': 0.196153, 'results': 8}\n",
    "\n",
    "# stats_df = stats_df.append(new_row, ignore_index=True)"
   ]
  },
  {
   "cell_type": "code",
   "execution_count": null,
   "metadata": {},
   "outputs": [],
   "source": [
    "sen2002\n",
    "sen2018"
   ]
  },
  {
   "cell_type": "code",
   "execution_count": 1120,
   "metadata": {},
   "outputs": [],
   "source": [
    "sen = pd.concat([sen2002, sen2018], axis=1).T\n"
   ]
  },
  {
   "cell_type": "code",
   "execution_count": 1121,
   "metadata": {},
   "outputs": [],
   "source": [
    "sen.rename(index={0: 'Senegal02', 1: 'Senegal18'}, inplace=True)\n"
   ]
  },
  {
   "cell_type": "code",
   "execution_count": 1122,
   "metadata": {},
   "outputs": [],
   "source": [
    "df2 = sen.assign(results=[7, 17])\n"
   ]
  },
  {
   "cell_type": "code",
   "execution_count": 1123,
   "metadata": {},
   "outputs": [],
   "source": [
    "# df2.to_csv('Senegal.csv', index=False)\n"
   ]
  },
  {
   "cell_type": "code",
   "execution_count": null,
   "metadata": {},
   "outputs": [],
   "source": []
  },
  {
   "cell_type": "code",
   "execution_count": null,
   "metadata": {},
   "outputs": [],
   "source": []
  },
  {
   "cell_type": "markdown",
   "metadata": {},
   "source": [
    "# Ecuador"
   ]
  },
  {
   "cell_type": "markdown",
   "metadata": {},
   "source": [
    "## 2010 NA"
   ]
  },
  {
   "cell_type": "markdown",
   "metadata": {},
   "source": [
    "## 2014"
   ]
  },
  {
   "cell_type": "code",
   "execution_count": 660,
   "metadata": {},
   "outputs": [],
   "source": [
    "ecu = ['Ecuador']"
   ]
  },
  {
   "cell_type": "code",
   "execution_count": 661,
   "metadata": {},
   "outputs": [],
   "source": [
    "ecu_year = comparisons.loc[comparisons[\"team\"].isin(ecu)]"
   ]
  },
  {
   "cell_type": "code",
   "execution_count": 662,
   "metadata": {},
   "outputs": [],
   "source": [
    "ecu2014year = ecu_year.loc[ecu_year[\"season\"].isin(year2014)]"
   ]
  },
  {
   "cell_type": "code",
   "execution_count": 663,
   "metadata": {},
   "outputs": [],
   "source": [
    "ecu2014xg = ecu2014year.sort_values(by=[\"xg_z\"], ascending=False)"
   ]
  },
  {
   "cell_type": "code",
   "execution_count": 664,
   "metadata": {},
   "outputs": [],
   "source": [
    "ecu2014xg13 = ecu2014xg.head(13)"
   ]
  },
  {
   "cell_type": "code",
   "execution_count": 665,
   "metadata": {},
   "outputs": [],
   "source": [
    "ecu2014xg13 = ecu2014xg13.drop(columns=[ 'season', 'team'])\n"
   ]
  },
  {
   "cell_type": "code",
   "execution_count": 666,
   "metadata": {},
   "outputs": [],
   "source": [
    "ecu2014 = ecu2014xg13.mean()"
   ]
  },
  {
   "cell_type": "code",
   "execution_count": 667,
   "metadata": {},
   "outputs": [
    {
     "data": {
      "text/plain": [
       "goals_z            0.075385\n",
       "xg_z               0.130000\n",
       "crosses_z         -0.017692\n",
       "boxtouches_z      -0.066923\n",
       "passes_z          -0.197692\n",
       "progpasses_z       0.006154\n",
       "takeons_z          0.116154\n",
       "progruns_z         0.193077\n",
       "tackles_z         -0.254615\n",
       "interceptions_z   -0.509231\n",
       "clearances_z       0.406923\n",
       "blocks_z           0.039231\n",
       "aerials_z          0.600769\n",
       "fouls_z            0.474615\n",
       "fouled_z          -0.063846\n",
       "nsxg_z            -0.143846\n",
       "dtype: float64"
      ]
     },
     "execution_count": 667,
     "metadata": {},
     "output_type": "execute_result"
    }
   ],
   "source": [
    "ecu2014"
   ]
  },
  {
   "cell_type": "code",
   "execution_count": null,
   "metadata": {},
   "outputs": [],
   "source": [
    "# (0.130000 + -0.143846) / 0.075385"
   ]
  },
  {
   "cell_type": "markdown",
   "metadata": {},
   "source": [
    "### Fouled"
   ]
  },
  {
   "cell_type": "code",
   "execution_count": null,
   "metadata": {},
   "outputs": [],
   "source": [
    "# -0.063846 - .474615"
   ]
  },
  {
   "cell_type": "code",
   "execution_count": null,
   "metadata": {},
   "outputs": [],
   "source": [
    "# new_row = {'Country': 'Ecuador', 'Year': 2014, 'goals_z':0.075385, 'xg_z': 0.130000, \n",
    "#            'boxtouches_z': -0.066923, 'progpasses_z':0.006154, 'progruns_z':0.193077, \n",
    "#            'new_xg': -0.183670, 'Fouled': -0.538461, 'results': 32}\n",
    "\n",
    "# stats_df = stats_df.append(new_row, ignore_index=True)"
   ]
  },
  {
   "cell_type": "markdown",
   "metadata": {},
   "source": [
    "## 2018 NA"
   ]
  },
  {
   "cell_type": "markdown",
   "metadata": {},
   "source": [
    "## 2006"
   ]
  },
  {
   "cell_type": "code",
   "execution_count": 668,
   "metadata": {},
   "outputs": [],
   "source": [
    "ecu2006year = ecu_year.loc[ecu_year[\"season\"].isin(year2006)]"
   ]
  },
  {
   "cell_type": "code",
   "execution_count": 669,
   "metadata": {},
   "outputs": [],
   "source": [
    "ecu2006xg = ecu2006year.sort_values(by=[\"xg_z\"], ascending=False)"
   ]
  },
  {
   "cell_type": "code",
   "execution_count": 670,
   "metadata": {},
   "outputs": [],
   "source": [
    "ecu2006xg13 = ecu2006xg.head(13)"
   ]
  },
  {
   "cell_type": "code",
   "execution_count": 671,
   "metadata": {},
   "outputs": [],
   "source": [
    "ecu2006xg13 = ecu2006xg13.drop(columns=[ 'season', 'team'])\n"
   ]
  },
  {
   "cell_type": "code",
   "execution_count": 672,
   "metadata": {},
   "outputs": [],
   "source": [
    "ecu2006 = ecu2006xg13.mean()"
   ]
  },
  {
   "cell_type": "code",
   "execution_count": 673,
   "metadata": {},
   "outputs": [
    {
     "data": {
      "text/plain": [
       "goals_z            0.303077\n",
       "xg_z               0.085385\n",
       "crosses_z          0.030000\n",
       "boxtouches_z      -0.054615\n",
       "passes_z           0.348462\n",
       "progpasses_z       0.071538\n",
       "takeons_z          0.243077\n",
       "progruns_z         0.079231\n",
       "tackles_z          0.003846\n",
       "interceptions_z    0.270000\n",
       "clearances_z       0.121538\n",
       "blocks_z           0.033077\n",
       "aerials_z          0.353077\n",
       "fouls_z            0.327692\n",
       "fouled_z           0.046923\n",
       "nsxg_z             0.103077\n",
       "dtype: float64"
      ]
     },
     "execution_count": 673,
     "metadata": {},
     "output_type": "execute_result"
    }
   ],
   "source": [
    "ecu2006\n"
   ]
  },
  {
   "cell_type": "code",
   "execution_count": null,
   "metadata": {},
   "outputs": [],
   "source": [
    "# (0.085385 + 0.103077) / 0.303077"
   ]
  },
  {
   "cell_type": "markdown",
   "metadata": {},
   "source": [
    "### Fouled"
   ]
  },
  {
   "cell_type": "code",
   "execution_count": null,
   "metadata": {},
   "outputs": [],
   "source": [
    "# .046923 - .327692"
   ]
  },
  {
   "cell_type": "code",
   "execution_count": null,
   "metadata": {},
   "outputs": [],
   "source": [
    "# new_row = {'Country': 'Ecuador', 'Year': 2006, 'goals_z':0.303077, 'xg_z': 0.085385, \n",
    "#            'boxtouches_z': -0.054615, 'progpasses_z':0.071538, 'progruns_z':0.079231, \n",
    "#            'new_xg': 0.6218287, 'Fouled': -0.280769, 'results': 16}\n",
    "\n",
    "# stats_df = stats_df.append(new_row, ignore_index=True)"
   ]
  },
  {
   "cell_type": "markdown",
   "metadata": {},
   "source": [
    "## 2002"
   ]
  },
  {
   "cell_type": "code",
   "execution_count": 676,
   "metadata": {},
   "outputs": [],
   "source": [
    "ecu2002year = ecu_year.loc[ecu_year[\"season\"].isin(year2002)]"
   ]
  },
  {
   "cell_type": "code",
   "execution_count": 677,
   "metadata": {},
   "outputs": [],
   "source": [
    "ecu2002xg = ecu2002year.sort_values(by=[\"xg_z\"], ascending=False)"
   ]
  },
  {
   "cell_type": "code",
   "execution_count": 678,
   "metadata": {},
   "outputs": [],
   "source": [
    "ecu2002xg13 = ecu2002xg.head(13)"
   ]
  },
  {
   "cell_type": "code",
   "execution_count": 679,
   "metadata": {},
   "outputs": [],
   "source": [
    "ecu2002xg13 = ecu2002xg13.drop(columns=[ 'season', 'team'])\n"
   ]
  },
  {
   "cell_type": "code",
   "execution_count": 680,
   "metadata": {},
   "outputs": [],
   "source": [
    "ecu2002 = ecu2002xg13.mean()"
   ]
  },
  {
   "cell_type": "code",
   "execution_count": 681,
   "metadata": {},
   "outputs": [
    {
     "data": {
      "text/plain": [
       "goals_z           -0.085385\n",
       "xg_z              -0.292308\n",
       "crosses_z         -0.066923\n",
       "boxtouches_z      -0.230000\n",
       "passes_z           0.842308\n",
       "progpasses_z       0.666923\n",
       "takeons_z          0.226923\n",
       "progruns_z        -0.051538\n",
       "tackles_z          0.850000\n",
       "interceptions_z    0.609231\n",
       "clearances_z       0.256154\n",
       "blocks_z           0.511538\n",
       "aerials_z          0.199231\n",
       "fouls_z            0.445385\n",
       "fouled_z          -0.049231\n",
       "nsxg_z            -0.266154\n",
       "dtype: float64"
      ]
     },
     "execution_count": 681,
     "metadata": {},
     "output_type": "execute_result"
    }
   ],
   "source": [
    "ecu2002\n"
   ]
  },
  {
   "cell_type": "code",
   "execution_count": null,
   "metadata": {},
   "outputs": [],
   "source": [
    "# (-0.292308 + -0.266154) / -0.085385"
   ]
  },
  {
   "cell_type": "markdown",
   "metadata": {},
   "source": [
    "### Fouled"
   ]
  },
  {
   "cell_type": "code",
   "execution_count": null,
   "metadata": {
    "scrolled": true
   },
   "outputs": [],
   "source": [
    "# -0.049231 - .445385"
   ]
  },
  {
   "cell_type": "code",
   "execution_count": null,
   "metadata": {},
   "outputs": [],
   "source": [
    "# new_row = {'Country': 'Ecuador', 'Year': 2002, 'goals_z':-0.085385, 'xg_z': -0.292308, \n",
    "#            'boxtouches_z': -0.230000, 'progpasses_z':0.666923, 'progruns_z':-0.051538, \n",
    "#            'new_xg': 6.5405164, 'Fouled': -0.49461599, 'results': 32}\n",
    "\n",
    "# stats_df = stats_df.append(new_row, ignore_index=True)"
   ]
  },
  {
   "cell_type": "code",
   "execution_count": null,
   "metadata": {},
   "outputs": [],
   "source": [
    "# stats_df.tail()"
   ]
  },
  {
   "cell_type": "code",
   "execution_count": null,
   "metadata": {},
   "outputs": [],
   "source": [
    "ecu2002\n",
    "ecu2006\n",
    "ecu2014"
   ]
  },
  {
   "cell_type": "code",
   "execution_count": 1124,
   "metadata": {},
   "outputs": [],
   "source": [
    "ecu = pd.concat([ecu2002, ecu2006, ecu2014], axis=1).T\n"
   ]
  },
  {
   "cell_type": "code",
   "execution_count": 1125,
   "metadata": {},
   "outputs": [],
   "source": [
    "ecu.rename(index={0: 'Ecuador02', 1: 'Ecuador06', 2: 'Ecuador14'}, inplace=True)\n"
   ]
  },
  {
   "cell_type": "code",
   "execution_count": null,
   "metadata": {},
   "outputs": [],
   "source": [
    "02 - 24     G      Ecuador     3     1     0     2     2     4     −2     3\n",
    "06 - 12      Ecuador     A     4     2     0     2     5     4     +1     6\n",
    "14 - 17      Ecuador     E     3     1     1     1     4     3     3     0\n"
   ]
  },
  {
   "cell_type": "code",
   "execution_count": 1127,
   "metadata": {},
   "outputs": [],
   "source": [
    "df2 = ecu.assign(results=[24, 12, 17])\n"
   ]
  },
  {
   "cell_type": "code",
   "execution_count": 1128,
   "metadata": {},
   "outputs": [
    {
     "data": {
      "text/html": [
       "<div>\n",
       "<style scoped>\n",
       "    .dataframe tbody tr th:only-of-type {\n",
       "        vertical-align: middle;\n",
       "    }\n",
       "\n",
       "    .dataframe tbody tr th {\n",
       "        vertical-align: top;\n",
       "    }\n",
       "\n",
       "    .dataframe thead th {\n",
       "        text-align: right;\n",
       "    }\n",
       "</style>\n",
       "<table border=\"1\" class=\"dataframe\">\n",
       "  <thead>\n",
       "    <tr style=\"text-align: right;\">\n",
       "      <th></th>\n",
       "      <th>goals_z</th>\n",
       "      <th>xg_z</th>\n",
       "      <th>crosses_z</th>\n",
       "      <th>boxtouches_z</th>\n",
       "      <th>passes_z</th>\n",
       "      <th>progpasses_z</th>\n",
       "      <th>takeons_z</th>\n",
       "      <th>progruns_z</th>\n",
       "      <th>tackles_z</th>\n",
       "      <th>interceptions_z</th>\n",
       "      <th>clearances_z</th>\n",
       "      <th>blocks_z</th>\n",
       "      <th>aerials_z</th>\n",
       "      <th>fouls_z</th>\n",
       "      <th>fouled_z</th>\n",
       "      <th>nsxg_z</th>\n",
       "      <th>results</th>\n",
       "    </tr>\n",
       "  </thead>\n",
       "  <tbody>\n",
       "    <tr>\n",
       "      <th>Ecuador02</th>\n",
       "      <td>-0.085385</td>\n",
       "      <td>-0.292308</td>\n",
       "      <td>-0.066923</td>\n",
       "      <td>-0.230000</td>\n",
       "      <td>0.842308</td>\n",
       "      <td>0.666923</td>\n",
       "      <td>0.226923</td>\n",
       "      <td>-0.051538</td>\n",
       "      <td>0.850000</td>\n",
       "      <td>0.609231</td>\n",
       "      <td>0.256154</td>\n",
       "      <td>0.511538</td>\n",
       "      <td>0.199231</td>\n",
       "      <td>0.445385</td>\n",
       "      <td>-0.049231</td>\n",
       "      <td>-0.266154</td>\n",
       "      <td>24</td>\n",
       "    </tr>\n",
       "    <tr>\n",
       "      <th>Ecuador06</th>\n",
       "      <td>0.303077</td>\n",
       "      <td>0.085385</td>\n",
       "      <td>0.030000</td>\n",
       "      <td>-0.054615</td>\n",
       "      <td>0.348462</td>\n",
       "      <td>0.071538</td>\n",
       "      <td>0.243077</td>\n",
       "      <td>0.079231</td>\n",
       "      <td>0.003846</td>\n",
       "      <td>0.270000</td>\n",
       "      <td>0.121538</td>\n",
       "      <td>0.033077</td>\n",
       "      <td>0.353077</td>\n",
       "      <td>0.327692</td>\n",
       "      <td>0.046923</td>\n",
       "      <td>0.103077</td>\n",
       "      <td>12</td>\n",
       "    </tr>\n",
       "    <tr>\n",
       "      <th>Ecuador14</th>\n",
       "      <td>0.075385</td>\n",
       "      <td>0.130000</td>\n",
       "      <td>-0.017692</td>\n",
       "      <td>-0.066923</td>\n",
       "      <td>-0.197692</td>\n",
       "      <td>0.006154</td>\n",
       "      <td>0.116154</td>\n",
       "      <td>0.193077</td>\n",
       "      <td>-0.254615</td>\n",
       "      <td>-0.509231</td>\n",
       "      <td>0.406923</td>\n",
       "      <td>0.039231</td>\n",
       "      <td>0.600769</td>\n",
       "      <td>0.474615</td>\n",
       "      <td>-0.063846</td>\n",
       "      <td>-0.143846</td>\n",
       "      <td>17</td>\n",
       "    </tr>\n",
       "  </tbody>\n",
       "</table>\n",
       "</div>"
      ],
      "text/plain": [
       "            goals_z      xg_z  crosses_z  boxtouches_z  passes_z  \\\n",
       "Ecuador02 -0.085385 -0.292308  -0.066923     -0.230000  0.842308   \n",
       "Ecuador06  0.303077  0.085385   0.030000     -0.054615  0.348462   \n",
       "Ecuador14  0.075385  0.130000  -0.017692     -0.066923 -0.197692   \n",
       "\n",
       "           progpasses_z  takeons_z  progruns_z  tackles_z  interceptions_z  \\\n",
       "Ecuador02      0.666923   0.226923   -0.051538   0.850000         0.609231   \n",
       "Ecuador06      0.071538   0.243077    0.079231   0.003846         0.270000   \n",
       "Ecuador14      0.006154   0.116154    0.193077  -0.254615        -0.509231   \n",
       "\n",
       "           clearances_z  blocks_z  aerials_z   fouls_z  fouled_z    nsxg_z  \\\n",
       "Ecuador02      0.256154  0.511538   0.199231  0.445385 -0.049231 -0.266154   \n",
       "Ecuador06      0.121538  0.033077   0.353077  0.327692  0.046923  0.103077   \n",
       "Ecuador14      0.406923  0.039231   0.600769  0.474615 -0.063846 -0.143846   \n",
       "\n",
       "           results  \n",
       "Ecuador02       24  \n",
       "Ecuador06       12  \n",
       "Ecuador14       17  "
      ]
     },
     "execution_count": 1128,
     "metadata": {},
     "output_type": "execute_result"
    }
   ],
   "source": [
    "df2"
   ]
  },
  {
   "cell_type": "code",
   "execution_count": 1129,
   "metadata": {},
   "outputs": [],
   "source": [
    "# df2.to_csv('Ecuador.csv', index=False)\n"
   ]
  },
  {
   "cell_type": "code",
   "execution_count": null,
   "metadata": {},
   "outputs": [],
   "source": []
  },
  {
   "cell_type": "code",
   "execution_count": null,
   "metadata": {},
   "outputs": [],
   "source": []
  },
  {
   "cell_type": "code",
   "execution_count": null,
   "metadata": {},
   "outputs": [],
   "source": []
  },
  {
   "cell_type": "code",
   "execution_count": null,
   "metadata": {},
   "outputs": [],
   "source": []
  },
  {
   "cell_type": "markdown",
   "metadata": {},
   "source": [
    "# Wales"
   ]
  },
  {
   "cell_type": "markdown",
   "metadata": {},
   "source": [
    "## 2010 NA"
   ]
  },
  {
   "cell_type": "markdown",
   "metadata": {},
   "source": [
    "## 2014 NA"
   ]
  },
  {
   "cell_type": "markdown",
   "metadata": {},
   "source": [
    "## 2018 NA"
   ]
  },
  {
   "cell_type": "markdown",
   "metadata": {},
   "source": [
    "# Costa Rica"
   ]
  },
  {
   "cell_type": "markdown",
   "metadata": {},
   "source": [
    "## 2010 NA"
   ]
  },
  {
   "cell_type": "markdown",
   "metadata": {},
   "source": [
    "## 2014"
   ]
  },
  {
   "cell_type": "code",
   "execution_count": 682,
   "metadata": {},
   "outputs": [],
   "source": [
    "cos = ['Costa Rica']"
   ]
  },
  {
   "cell_type": "code",
   "execution_count": 683,
   "metadata": {},
   "outputs": [],
   "source": [
    "cos_year = comparisons.loc[comparisons[\"team\"].isin(cos)]"
   ]
  },
  {
   "cell_type": "code",
   "execution_count": 684,
   "metadata": {},
   "outputs": [],
   "source": [
    "cos2014year = cos_year.loc[cos_year[\"season\"].isin(year2014)]"
   ]
  },
  {
   "cell_type": "code",
   "execution_count": 685,
   "metadata": {},
   "outputs": [],
   "source": [
    "cos2014xg = cos2014year.sort_values(by=[\"xg_z\"], ascending=False)\n"
   ]
  },
  {
   "cell_type": "code",
   "execution_count": 686,
   "metadata": {},
   "outputs": [],
   "source": [
    "cos2014xg13 = cos2014xg.head(13)\n"
   ]
  },
  {
   "cell_type": "code",
   "execution_count": 687,
   "metadata": {},
   "outputs": [],
   "source": [
    "cos2014xg13 = cos2014xg13.drop(columns=['season', 'team'])\n"
   ]
  },
  {
   "cell_type": "code",
   "execution_count": 688,
   "metadata": {},
   "outputs": [],
   "source": [
    "cos2014 = cos2014xg13.mean()\n"
   ]
  },
  {
   "cell_type": "code",
   "execution_count": 689,
   "metadata": {},
   "outputs": [
    {
     "data": {
      "text/plain": [
       "goals_z            0.016154\n",
       "xg_z              -0.177692\n",
       "crosses_z         -0.170769\n",
       "boxtouches_z      -0.148462\n",
       "passes_z          -0.267692\n",
       "progpasses_z      -0.272308\n",
       "takeons_z         -0.344615\n",
       "progruns_z        -0.432308\n",
       "tackles_z         -0.339231\n",
       "interceptions_z   -0.347692\n",
       "clearances_z       0.209231\n",
       "blocks_z          -0.237692\n",
       "aerials_z         -0.096154\n",
       "fouls_z            0.433846\n",
       "fouled_z           0.163077\n",
       "nsxg_z            -0.268462\n",
       "dtype: float64"
      ]
     },
     "execution_count": 689,
     "metadata": {},
     "output_type": "execute_result"
    }
   ],
   "source": [
    "cos2014"
   ]
  },
  {
   "cell_type": "code",
   "execution_count": null,
   "metadata": {},
   "outputs": [],
   "source": [
    "# (-0.177692 + -0.268462) / .016154\n"
   ]
  },
  {
   "cell_type": "markdown",
   "metadata": {},
   "source": [
    "### Fouled"
   ]
  },
  {
   "cell_type": "code",
   "execution_count": null,
   "metadata": {},
   "outputs": [],
   "source": [
    "# .163077 - .433846"
   ]
  },
  {
   "cell_type": "code",
   "execution_count": null,
   "metadata": {},
   "outputs": [],
   "source": [
    "\n",
    "# new_row = {'Country': 'Costa Rica', 'Year': 2014, 'goals_z': 0.016154, 'xg_z':-0.177692, \n",
    "#            'boxtouches_z':-0.148462, 'progpasses_z':-0.272308, 'progruns_z':-0.432308, \n",
    "#            'new_xg': -27.618794, 'Fouled': -0.27076900, 'results': 8}\n",
    "# stats_df = stats_df.append(new_row, ignore_index=True)\n"
   ]
  },
  {
   "cell_type": "markdown",
   "metadata": {},
   "source": [
    "## 2018"
   ]
  },
  {
   "cell_type": "code",
   "execution_count": 690,
   "metadata": {},
   "outputs": [],
   "source": [
    "cos2018year = cos_year.loc[cos_year[\"season\"].isin(year2018)]"
   ]
  },
  {
   "cell_type": "code",
   "execution_count": 691,
   "metadata": {},
   "outputs": [],
   "source": [
    "cos2018xg = cos2018year.sort_values(by=[\"xg_z\"], ascending=False)\n"
   ]
  },
  {
   "cell_type": "code",
   "execution_count": 692,
   "metadata": {},
   "outputs": [],
   "source": [
    "cos2018xg13 = cos2018xg.head(13)\n"
   ]
  },
  {
   "cell_type": "code",
   "execution_count": 693,
   "metadata": {},
   "outputs": [],
   "source": [
    "cos2018xg13 = cos2018xg13.drop(columns=['season', 'team'])\n"
   ]
  },
  {
   "cell_type": "code",
   "execution_count": 694,
   "metadata": {},
   "outputs": [],
   "source": [
    "cos2018 = cos2018xg13.mean()\n"
   ]
  },
  {
   "cell_type": "code",
   "execution_count": 695,
   "metadata": {},
   "outputs": [
    {
     "data": {
      "text/plain": [
       "goals_z           -0.243077\n",
       "xg_z              -0.021538\n",
       "crosses_z          0.090000\n",
       "boxtouches_z      -0.117692\n",
       "passes_z          -0.190000\n",
       "progpasses_z      -0.030000\n",
       "takeons_z          0.283077\n",
       "progruns_z        -0.349231\n",
       "tackles_z         -0.252308\n",
       "interceptions_z   -0.284615\n",
       "clearances_z       0.215385\n",
       "blocks_z          -0.198462\n",
       "aerials_z         -0.012308\n",
       "fouls_z            0.201538\n",
       "fouled_z          -0.129231\n",
       "nsxg_z            -0.084615\n",
       "dtype: float64"
      ]
     },
     "execution_count": 695,
     "metadata": {},
     "output_type": "execute_result"
    }
   ],
   "source": [
    "cos2018"
   ]
  },
  {
   "cell_type": "code",
   "execution_count": null,
   "metadata": {},
   "outputs": [],
   "source": [
    "# (-0.021538 + -0.084615) / -0.243077\n"
   ]
  },
  {
   "cell_type": "markdown",
   "metadata": {},
   "source": [
    "### Fouled"
   ]
  },
  {
   "cell_type": "code",
   "execution_count": null,
   "metadata": {},
   "outputs": [],
   "source": [
    "# -0.129231 - .201538"
   ]
  },
  {
   "cell_type": "code",
   "execution_count": null,
   "metadata": {},
   "outputs": [],
   "source": [
    "\n",
    "# new_row = {'Country': 'Costa Rica', 'Year': 2018, 'goals_z':-0.243077, 'xg_z':-0.021538, \n",
    "#            'boxtouches_z':-0.117692, 'progpasses_z':-0.030000, 'progruns_z':-0.349231, \n",
    "#            'new_xg': 0.43670524, 'Fouled': -0.330769, 'results': 32}\n",
    "# stats_df = stats_df.append(new_row, ignore_index=True)\n"
   ]
  },
  {
   "cell_type": "code",
   "execution_count": null,
   "metadata": {},
   "outputs": [],
   "source": [
    "# stats_df"
   ]
  },
  {
   "cell_type": "code",
   "execution_count": null,
   "metadata": {},
   "outputs": [],
   "source": [
    "cos2014\n",
    "cos2018"
   ]
  },
  {
   "cell_type": "code",
   "execution_count": 1130,
   "metadata": {},
   "outputs": [],
   "source": [
    "cos = pd.concat([cos2014, cos2018], axis=1).T\n"
   ]
  },
  {
   "cell_type": "code",
   "execution_count": 1131,
   "metadata": {},
   "outputs": [],
   "source": [
    "cos.rename(index={0: 'CostaRica14', 1: 'CostaRica18'}, inplace=True)\n"
   ]
  },
  {
   "cell_type": "code",
   "execution_count": null,
   "metadata": {},
   "outputs": [],
   "source": [
    "# 02 - 19     C      Costa Rica     3     1     1     1     5     6     −1     4\n",
    "# 06 - 31      Costa Rica     A     3     0     0     3     3     9     −6     0\n",
    "# 14 - 8      Costa Rica     D     5     2     3     0     9     5     2     +3\n",
    "# 18 - 30      Costa Rica     E     3     0     1     2     1     2     5     −3\n"
   ]
  },
  {
   "cell_type": "code",
   "execution_count": 1132,
   "metadata": {},
   "outputs": [],
   "source": [
    "df2 = cos.assign(results=[8, 30])\n"
   ]
  },
  {
   "cell_type": "code",
   "execution_count": 1134,
   "metadata": {},
   "outputs": [],
   "source": [
    "# df2.to_csv('CostaRica.csv', index=False)\n"
   ]
  },
  {
   "cell_type": "markdown",
   "metadata": {},
   "source": [
    "# Mexico"
   ]
  },
  {
   "cell_type": "code",
   "execution_count": 696,
   "metadata": {},
   "outputs": [],
   "source": [
    "mex = ['Mexico']"
   ]
  },
  {
   "cell_type": "code",
   "execution_count": 697,
   "metadata": {},
   "outputs": [],
   "source": [
    "mex_year = comparisons.loc[comparisons[\"team\"].isin(mex)]"
   ]
  },
  {
   "cell_type": "code",
   "execution_count": 698,
   "metadata": {},
   "outputs": [],
   "source": [
    "mex2010year = mex_year.loc[mex_year[\"season\"].isin(year2010)]"
   ]
  },
  {
   "cell_type": "code",
   "execution_count": 699,
   "metadata": {},
   "outputs": [],
   "source": [
    "mex2010xg = mex2010year.sort_values(by=[\"xg_z\"], ascending=False)"
   ]
  },
  {
   "cell_type": "code",
   "execution_count": 700,
   "metadata": {},
   "outputs": [],
   "source": [
    "mex2010xg13 = mex2010xg.head(13)"
   ]
  },
  {
   "cell_type": "code",
   "execution_count": 701,
   "metadata": {},
   "outputs": [],
   "source": [
    "mex2010xg13 = mex2010xg13.drop(columns=[ 'season', 'team'])\n"
   ]
  },
  {
   "cell_type": "code",
   "execution_count": 702,
   "metadata": {},
   "outputs": [],
   "source": [
    "mex2010 = mex2010xg13.mean()"
   ]
  },
  {
   "cell_type": "code",
   "execution_count": 703,
   "metadata": {},
   "outputs": [
    {
     "data": {
      "text/plain": [
       "goals_z            0.132308\n",
       "xg_z               0.251538\n",
       "crosses_z         -0.024615\n",
       "boxtouches_z       0.199231\n",
       "passes_z           0.563077\n",
       "progpasses_z       0.200000\n",
       "takeons_z          0.234615\n",
       "progruns_z         0.863846\n",
       "tackles_z          1.109231\n",
       "interceptions_z   -0.018462\n",
       "clearances_z       0.156923\n",
       "blocks_z           0.175385\n",
       "aerials_z         -0.009231\n",
       "fouls_z            0.607692\n",
       "fouled_z           0.378462\n",
       "nsxg_z             0.319231\n",
       "dtype: float64"
      ]
     },
     "execution_count": 703,
     "metadata": {},
     "output_type": "execute_result"
    }
   ],
   "source": [
    "mex2010"
   ]
  },
  {
   "cell_type": "code",
   "execution_count": null,
   "metadata": {},
   "outputs": [],
   "source": [
    "# (0.251538 + 0.319231) / .132308"
   ]
  },
  {
   "cell_type": "markdown",
   "metadata": {},
   "source": [
    "### Fouled"
   ]
  },
  {
   "cell_type": "code",
   "execution_count": null,
   "metadata": {},
   "outputs": [],
   "source": [
    "# .378462 - .607692"
   ]
  },
  {
   "cell_type": "code",
   "execution_count": null,
   "metadata": {},
   "outputs": [],
   "source": [
    "# new_row = {'Country': 'Mexico', 'Year': 2010, 'goals_z':0.132308, 'xg_z':0.251538,\n",
    "#            'boxtouches_z':0.199231,'progpasses_z':0.200000,'progruns_z':0.863846, \n",
    "#            'new_xg': 4.3139, 'Fouled': -0.22923, 'results': 16}\n",
    "\n",
    "# stats_df = stats_df.append(new_row, ignore_index=True)"
   ]
  },
  {
   "cell_type": "code",
   "execution_count": null,
   "metadata": {},
   "outputs": [],
   "source": [
    "# stats_df"
   ]
  },
  {
   "cell_type": "markdown",
   "metadata": {},
   "source": [
    "## 2014"
   ]
  },
  {
   "cell_type": "code",
   "execution_count": 704,
   "metadata": {},
   "outputs": [],
   "source": [
    "mex2014year = mex_year.loc[mex_year[\"season\"].isin(year2014)]"
   ]
  },
  {
   "cell_type": "code",
   "execution_count": 705,
   "metadata": {},
   "outputs": [],
   "source": [
    "mex2014xg = mex2014year.sort_values(by=[\"xg_z\"], ascending=False)"
   ]
  },
  {
   "cell_type": "code",
   "execution_count": 706,
   "metadata": {},
   "outputs": [],
   "source": [
    "mex2014xg13 = mex2014xg.head(13)"
   ]
  },
  {
   "cell_type": "code",
   "execution_count": 707,
   "metadata": {},
   "outputs": [],
   "source": [
    "mex2014xg13 = mex2014xg13.drop(columns=[ 'season', 'team', ])\n"
   ]
  },
  {
   "cell_type": "code",
   "execution_count": 708,
   "metadata": {},
   "outputs": [],
   "source": [
    "mex2014 = mex2014xg13.mean()"
   ]
  },
  {
   "cell_type": "code",
   "execution_count": 709,
   "metadata": {},
   "outputs": [
    {
     "data": {
      "text/plain": [
       "goals_z            0.200769\n",
       "xg_z              -0.043846\n",
       "crosses_z          0.200769\n",
       "boxtouches_z       0.064615\n",
       "passes_z          -0.004615\n",
       "progpasses_z       0.174615\n",
       "takeons_z         -0.055385\n",
       "progruns_z        -0.090000\n",
       "tackles_z         -0.150769\n",
       "interceptions_z   -0.193077\n",
       "clearances_z      -0.076923\n",
       "blocks_z          -0.023846\n",
       "aerials_z         -0.119231\n",
       "fouls_z            0.094615\n",
       "fouled_z           0.152308\n",
       "nsxg_z             0.084615\n",
       "dtype: float64"
      ]
     },
     "execution_count": 709,
     "metadata": {},
     "output_type": "execute_result"
    }
   ],
   "source": [
    "mex2014"
   ]
  },
  {
   "cell_type": "code",
   "execution_count": null,
   "metadata": {},
   "outputs": [],
   "source": [
    "# (-0.043846 + 0.084615) / .200769"
   ]
  },
  {
   "cell_type": "markdown",
   "metadata": {},
   "source": [
    "### Fouled"
   ]
  },
  {
   "cell_type": "code",
   "execution_count": null,
   "metadata": {},
   "outputs": [],
   "source": [
    "# .152308 - .094615"
   ]
  },
  {
   "cell_type": "code",
   "execution_count": null,
   "metadata": {},
   "outputs": [],
   "source": [
    "# new_row = {'Country': 'Mexico', 'Year': 2014, 'goals_z': 0.200769, 'xg_z':-0.043846, \n",
    "#            'boxtouches_z':0.064615, 'progpasses_z':0.174615, 'progruns_z':-0.090000, \n",
    "#            'new_xg': 0.203064, 'Fouled': 0.0576929, 'results': 16}\n",
    "\n",
    "# stats_df = stats_df.append(new_row, ignore_index=True)"
   ]
  },
  {
   "cell_type": "markdown",
   "metadata": {},
   "source": [
    "## 2018"
   ]
  },
  {
   "cell_type": "code",
   "execution_count": 710,
   "metadata": {},
   "outputs": [],
   "source": [
    "mex2018year = mex_year.loc[mex_year[\"season\"].isin(year2018)]"
   ]
  },
  {
   "cell_type": "code",
   "execution_count": 711,
   "metadata": {},
   "outputs": [],
   "source": [
    "mex2018xg = mex2018year.sort_values(by=[\"xg_z\"], ascending=False)"
   ]
  },
  {
   "cell_type": "code",
   "execution_count": 712,
   "metadata": {},
   "outputs": [],
   "source": [
    "mex2018xg13 = mex2018xg.head(13)"
   ]
  },
  {
   "cell_type": "code",
   "execution_count": 713,
   "metadata": {},
   "outputs": [],
   "source": [
    "mex2018xg13 = mex2018xg13.drop(columns=[ 'season', 'team'])\n"
   ]
  },
  {
   "cell_type": "code",
   "execution_count": 714,
   "metadata": {},
   "outputs": [],
   "source": [
    "mex2018 = mex2018xg13.mean()"
   ]
  },
  {
   "cell_type": "code",
   "execution_count": 715,
   "metadata": {},
   "outputs": [
    {
     "data": {
      "text/plain": [
       "goals_z           -0.023077\n",
       "xg_z               0.194615\n",
       "crosses_z          0.029231\n",
       "boxtouches_z       0.341538\n",
       "passes_z           0.273846\n",
       "progpasses_z       0.556154\n",
       "takeons_z          0.688462\n",
       "progruns_z         0.982308\n",
       "tackles_z          0.532308\n",
       "interceptions_z    0.364615\n",
       "clearances_z       0.086154\n",
       "blocks_z           0.961538\n",
       "aerials_z          0.006923\n",
       "fouls_z            0.352308\n",
       "fouled_z           0.240000\n",
       "nsxg_z             0.260000\n",
       "dtype: float64"
      ]
     },
     "execution_count": 715,
     "metadata": {},
     "output_type": "execute_result"
    }
   ],
   "source": [
    "mex2018"
   ]
  },
  {
   "cell_type": "code",
   "execution_count": null,
   "metadata": {},
   "outputs": [],
   "source": [
    "# (0.194615 + 0.260000) / -0.023077"
   ]
  },
  {
   "cell_type": "markdown",
   "metadata": {},
   "source": [
    "### Fouled"
   ]
  },
  {
   "cell_type": "code",
   "execution_count": null,
   "metadata": {},
   "outputs": [],
   "source": [
    "# .240000 - .352308"
   ]
  },
  {
   "cell_type": "code",
   "execution_count": null,
   "metadata": {},
   "outputs": [],
   "source": [
    "# new_row = {'Country': 'Mexico', 'Year': 2018, 'goals_z':-0.023077, 'xg_z':0.194615, \n",
    "#            'boxtouches_z':0.341538, 'progpasses_z':0.556154, 'progruns_z':0.982308, \n",
    "#            'new_xg': -19.69991, 'Fouled': -0.112308, 'results': 16}\n",
    "\n",
    "# stats_df = stats_df.append(new_row, ignore_index=True)"
   ]
  },
  {
   "cell_type": "code",
   "execution_count": null,
   "metadata": {},
   "outputs": [],
   "source": [
    "mex2010\n",
    "mex2014\n",
    "mex2018"
   ]
  },
  {
   "cell_type": "code",
   "execution_count": 1135,
   "metadata": {},
   "outputs": [],
   "source": [
    "mex = pd.concat([mex2010, mex2014, mex2018], axis=1).T\n"
   ]
  },
  {
   "cell_type": "code",
   "execution_count": 1136,
   "metadata": {},
   "outputs": [],
   "source": [
    "mex.rename(index={0: 'Mexico10', 1: 'Mexico14', 2: 'Mexico18'}, inplace=True)\n"
   ]
  },
  {
   "cell_type": "code",
   "execution_count": 1137,
   "metadata": {},
   "outputs": [],
   "source": [
    "df2 = mex.assign(results=[14, 10, 12])\n"
   ]
  },
  {
   "cell_type": "code",
   "execution_count": 1139,
   "metadata": {},
   "outputs": [],
   "source": [
    "# df2.to_csv('Mexico.csv', index=False)\n"
   ]
  },
  {
   "cell_type": "code",
   "execution_count": null,
   "metadata": {},
   "outputs": [],
   "source": []
  },
  {
   "cell_type": "code",
   "execution_count": null,
   "metadata": {},
   "outputs": [],
   "source": [
    "# 02 - 11     G      Mexico     4     2     1     1     4     4     0     7\n",
    "# 06 - 15      Mexico     D     4     1     1     2     5     5     0     4\n",
    "# 10 - 14      Mexico     A     4     1     1     2     4     5     −1     4\n",
    "# 14 - 10      Mexico     A     4     2     1     1     7     5     3     +2\n",
    "# 18 - 12      Mexico     F     4     2     0     2     6     3     6     −3\n"
   ]
  },
  {
   "cell_type": "code",
   "execution_count": null,
   "metadata": {},
   "outputs": [],
   "source": []
  },
  {
   "cell_type": "code",
   "execution_count": null,
   "metadata": {},
   "outputs": [],
   "source": []
  },
  {
   "cell_type": "code",
   "execution_count": null,
   "metadata": {},
   "outputs": [],
   "source": []
  },
  {
   "cell_type": "code",
   "execution_count": null,
   "metadata": {},
   "outputs": [],
   "source": []
  },
  {
   "cell_type": "code",
   "execution_count": null,
   "metadata": {},
   "outputs": [],
   "source": []
  },
  {
   "cell_type": "markdown",
   "metadata": {},
   "source": [
    "# France"
   ]
  },
  {
   "cell_type": "code",
   "execution_count": 716,
   "metadata": {},
   "outputs": [],
   "source": [
    "fra = ['France']"
   ]
  },
  {
   "cell_type": "code",
   "execution_count": 717,
   "metadata": {},
   "outputs": [],
   "source": [
    "fra_year = comparisons.loc[comparisons[\"team\"].isin(fra)]"
   ]
  },
  {
   "cell_type": "code",
   "execution_count": 718,
   "metadata": {},
   "outputs": [],
   "source": [
    "fra2010year = fra_year.loc[fra_year[\"season\"].isin(year2010)]"
   ]
  },
  {
   "cell_type": "code",
   "execution_count": 719,
   "metadata": {},
   "outputs": [],
   "source": [
    "fra2010xg = fra2010year.sort_values(by=[\"xg_z\"], ascending=False)"
   ]
  },
  {
   "cell_type": "code",
   "execution_count": 720,
   "metadata": {},
   "outputs": [],
   "source": [
    "fra2010xg13 = fra2010xg.head(13)"
   ]
  },
  {
   "cell_type": "code",
   "execution_count": 721,
   "metadata": {},
   "outputs": [],
   "source": [
    "fra2010xg13 = fra2010xg13.drop(columns=[ 'season', 'team'])\n"
   ]
  },
  {
   "cell_type": "code",
   "execution_count": 722,
   "metadata": {},
   "outputs": [],
   "source": [
    "fra2010 = fra2010xg13.mean()"
   ]
  },
  {
   "cell_type": "code",
   "execution_count": 723,
   "metadata": {},
   "outputs": [
    {
     "data": {
      "text/plain": [
       "goals_z           -0.222308\n",
       "xg_z              -0.019231\n",
       "crosses_z         -0.023077\n",
       "boxtouches_z       0.155385\n",
       "passes_z          -0.303077\n",
       "progpasses_z      -0.379231\n",
       "takeons_z          0.744615\n",
       "progruns_z         0.069231\n",
       "tackles_z          0.043846\n",
       "interceptions_z    0.321538\n",
       "clearances_z      -0.376154\n",
       "blocks_z          -0.265385\n",
       "aerials_z         -0.077692\n",
       "fouls_z            0.182308\n",
       "fouled_z           0.170769\n",
       "nsxg_z            -0.009231\n",
       "dtype: float64"
      ]
     },
     "execution_count": 723,
     "metadata": {},
     "output_type": "execute_result"
    }
   ],
   "source": [
    "fra2010"
   ]
  },
  {
   "cell_type": "code",
   "execution_count": null,
   "metadata": {},
   "outputs": [],
   "source": [
    "# ( -0.019231 + -0.009231) /  -0.222308"
   ]
  },
  {
   "cell_type": "markdown",
   "metadata": {},
   "source": [
    "### Fouled"
   ]
  },
  {
   "cell_type": "code",
   "execution_count": null,
   "metadata": {},
   "outputs": [],
   "source": [
    "# 0.170769 - 0.182308"
   ]
  },
  {
   "cell_type": "code",
   "execution_count": null,
   "metadata": {},
   "outputs": [],
   "source": [
    "# new_row = {'Country': 'France', 'Year': 2010, 'goals_z': -0.222308, 'xg_z':-0.019231, \n",
    "#            'boxtouches_z':0.155385, 'progpasses_z':-0.379231, 'progruns_z':0.069231, \n",
    "#            'new_xg': 0.128029, 'Fouled': -0.01153, 'results': 32}\n",
    "\n",
    "# stats_df = stats_df.append(new_row, ignore_index=True)"
   ]
  },
  {
   "cell_type": "code",
   "execution_count": null,
   "metadata": {},
   "outputs": [],
   "source": [
    "# stats_df.corr()"
   ]
  },
  {
   "cell_type": "markdown",
   "metadata": {},
   "source": [
    "## 2014"
   ]
  },
  {
   "cell_type": "code",
   "execution_count": 724,
   "metadata": {},
   "outputs": [],
   "source": [
    "fra2014year = fra_year.loc[fra_year[\"season\"].isin(year2014)]\n"
   ]
  },
  {
   "cell_type": "code",
   "execution_count": 725,
   "metadata": {},
   "outputs": [],
   "source": [
    "fra2014xg = fra2014year.sort_values(by=[\"xg_z\"], ascending=False)\n"
   ]
  },
  {
   "cell_type": "code",
   "execution_count": 726,
   "metadata": {},
   "outputs": [],
   "source": [
    "fra2014xg13 = fra2014xg.head(13)\n"
   ]
  },
  {
   "cell_type": "code",
   "execution_count": 727,
   "metadata": {},
   "outputs": [],
   "source": [
    "fra2014xg13 = fra2014xg13.drop(columns=[ 'season', 'team'])\n"
   ]
  },
  {
   "cell_type": "code",
   "execution_count": 728,
   "metadata": {},
   "outputs": [],
   "source": [
    "fra2014 = fra2014xg13.mean()\n"
   ]
  },
  {
   "cell_type": "code",
   "execution_count": 729,
   "metadata": {},
   "outputs": [
    {
     "data": {
      "text/plain": [
       "goals_z            0.376923\n",
       "xg_z               0.747692\n",
       "crosses_z          0.608462\n",
       "boxtouches_z       1.026154\n",
       "passes_z           0.353846\n",
       "progpasses_z       0.130769\n",
       "takeons_z          0.336154\n",
       "progruns_z         0.010769\n",
       "tackles_z          0.114615\n",
       "interceptions_z   -0.025385\n",
       "clearances_z      -0.149231\n",
       "blocks_z           0.299231\n",
       "aerials_z          0.403846\n",
       "fouls_z            0.127692\n",
       "fouled_z           0.158462\n",
       "nsxg_z             0.817692\n",
       "dtype: float64"
      ]
     },
     "execution_count": 729,
     "metadata": {},
     "output_type": "execute_result"
    }
   ],
   "source": [
    "fra2014"
   ]
  },
  {
   "cell_type": "code",
   "execution_count": null,
   "metadata": {},
   "outputs": [],
   "source": [
    "# ( 0.747692 + 0.817692) /  0.376923"
   ]
  },
  {
   "cell_type": "markdown",
   "metadata": {},
   "source": [
    "### Fouled"
   ]
  },
  {
   "cell_type": "code",
   "execution_count": null,
   "metadata": {},
   "outputs": [],
   "source": [
    "# .158462 - .127692"
   ]
  },
  {
   "cell_type": "code",
   "execution_count": null,
   "metadata": {},
   "outputs": [],
   "source": [
    "# new_row = {'Country': 'France', 'Year': 2014, 'goals_z': 0.376923, 'xg_z': 0.747692, \n",
    "#            'boxtouches_z': 1.026154, 'progpasses_z': 0.130769, 'progruns_z': 0.010769, \n",
    "#            'new_xg': 4.15306, 'Fouled': 0.0307699, 'results': 8}\n",
    "\n",
    "# stats_df = stats_df.append(new_row, ignore_index=True)"
   ]
  },
  {
   "cell_type": "markdown",
   "metadata": {},
   "source": [
    "## 2018"
   ]
  },
  {
   "cell_type": "code",
   "execution_count": 730,
   "metadata": {},
   "outputs": [],
   "source": [
    "fra2018year = fra_year.loc[fra_year[\"season\"].isin(year2018)]\n"
   ]
  },
  {
   "cell_type": "code",
   "execution_count": 731,
   "metadata": {},
   "outputs": [],
   "source": [
    "fra2018xg = fra2018year.sort_values(by=[\"xg_z\"], ascending=False)\n"
   ]
  },
  {
   "cell_type": "code",
   "execution_count": 732,
   "metadata": {},
   "outputs": [],
   "source": [
    "fra2018xg13 = fra2018xg.head(13)\n"
   ]
  },
  {
   "cell_type": "code",
   "execution_count": 733,
   "metadata": {},
   "outputs": [],
   "source": [
    "fra2018xg13 = fra2018xg13.drop(columns=[ 'season', 'team'])\n"
   ]
  },
  {
   "cell_type": "code",
   "execution_count": 734,
   "metadata": {},
   "outputs": [],
   "source": [
    "fra2018 = fra2018xg13.mean()\n"
   ]
  },
  {
   "cell_type": "code",
   "execution_count": 735,
   "metadata": {},
   "outputs": [
    {
     "data": {
      "text/plain": [
       "goals_z            0.489231\n",
       "xg_z               0.231538\n",
       "crosses_z         -0.124615\n",
       "boxtouches_z       0.189231\n",
       "passes_z           0.123846\n",
       "progpasses_z      -0.039231\n",
       "takeons_z          0.350769\n",
       "progruns_z         0.080769\n",
       "tackles_z          0.179231\n",
       "interceptions_z    0.126154\n",
       "clearances_z       0.456923\n",
       "blocks_z          -0.144615\n",
       "aerials_z          0.266923\n",
       "fouls_z            0.320000\n",
       "fouled_z           0.460769\n",
       "nsxg_z             0.129231\n",
       "dtype: float64"
      ]
     },
     "execution_count": 735,
     "metadata": {},
     "output_type": "execute_result"
    }
   ],
   "source": [
    "\n",
    "fra2018"
   ]
  },
  {
   "cell_type": "code",
   "execution_count": null,
   "metadata": {},
   "outputs": [],
   "source": [
    "# ( 0.231538 + 0.129231) /  0.489231"
   ]
  },
  {
   "cell_type": "markdown",
   "metadata": {},
   "source": [
    "### Fouled"
   ]
  },
  {
   "cell_type": "code",
   "execution_count": null,
   "metadata": {},
   "outputs": [],
   "source": [
    "# .460769 - .320000"
   ]
  },
  {
   "cell_type": "code",
   "execution_count": null,
   "metadata": {},
   "outputs": [],
   "source": [
    "# new_row = {'Country': 'France', 'Year': 2018, 'goals_z': 0.489231, 'xg_z': 0.231538, \n",
    "#            'boxtouches_z': 0.189231, 'progpasses_z': -0.039231, 'progruns_z': 0.080769, \n",
    "#            'new_xg': 0.7374205, 'Fouled': 0.1407689, 'results': 1}\n",
    "\n",
    "# stats_df = stats_df.append(new_row, ignore_index=True)"
   ]
  },
  {
   "cell_type": "markdown",
   "metadata": {},
   "source": [
    "## 2006"
   ]
  },
  {
   "cell_type": "code",
   "execution_count": 736,
   "metadata": {},
   "outputs": [],
   "source": [
    "fra2006year = fra_year.loc[fra_year[\"season\"].isin(year2006)]\n"
   ]
  },
  {
   "cell_type": "code",
   "execution_count": 737,
   "metadata": {},
   "outputs": [],
   "source": [
    "fra2006xg = fra2006year.sort_values(by=[\"xg_z\"], ascending=False)\n"
   ]
  },
  {
   "cell_type": "code",
   "execution_count": 738,
   "metadata": {},
   "outputs": [],
   "source": [
    "fra2006xg13 = fra2006xg.head(13)\n"
   ]
  },
  {
   "cell_type": "code",
   "execution_count": 739,
   "metadata": {},
   "outputs": [],
   "source": [
    "fra2006xg13 = fra2006xg13.drop(columns=[ 'season', 'team'])\n"
   ]
  },
  {
   "cell_type": "code",
   "execution_count": 740,
   "metadata": {},
   "outputs": [],
   "source": [
    "fra2006 = fra2006xg13.mean()\n"
   ]
  },
  {
   "cell_type": "code",
   "execution_count": 741,
   "metadata": {},
   "outputs": [
    {
     "data": {
      "text/plain": [
       "goals_z            2.884615e-01\n",
       "xg_z               3.707692e-01\n",
       "crosses_z          1.246154e-01\n",
       "boxtouches_z       2.884615e-01\n",
       "passes_z           1.661538e-01\n",
       "progpasses_z      -3.416071e-17\n",
       "takeons_z          5.661538e-01\n",
       "progruns_z         4.815385e-01\n",
       "tackles_z          1.776923e-01\n",
       "interceptions_z   -1.000000e-02\n",
       "clearances_z      -2.384615e-01\n",
       "blocks_z          -2.023077e-01\n",
       "aerials_z         -2.823077e-01\n",
       "fouls_z            6.692308e-02\n",
       "fouled_z           2.246154e-01\n",
       "nsxg_z             4.846154e-01\n",
       "dtype: float64"
      ]
     },
     "execution_count": 741,
     "metadata": {},
     "output_type": "execute_result"
    }
   ],
   "source": [
    "fra2006\n"
   ]
  },
  {
   "cell_type": "code",
   "execution_count": null,
   "metadata": {},
   "outputs": [],
   "source": [
    "# ( 0.231538 + 0.129231) /  0.489231"
   ]
  },
  {
   "cell_type": "markdown",
   "metadata": {},
   "source": [
    "### Fouled"
   ]
  },
  {
   "cell_type": "code",
   "execution_count": null,
   "metadata": {},
   "outputs": [],
   "source": [
    "# stats_df[stats_df['Country'] == 'France']"
   ]
  },
  {
   "cell_type": "code",
   "execution_count": null,
   "metadata": {},
   "outputs": [],
   "source": [
    "# new_row = {'Country': 'France', 'Year': 2018, 'goals_z': 0.489231, 'xg_z': 0.231538, \n",
    "#            'boxtouches_z': 0.189231, 'progpasses_z': -0.039231, 'progruns_z': 0.080769, \n",
    "#            'new_xg': 0.7374205, 'Fouled': 0.1407689, 'results': 1}\n",
    "\n",
    "# stats_df = stats_df.append(new_row, ignore_index=True)"
   ]
  },
  {
   "cell_type": "markdown",
   "metadata": {},
   "source": [
    "## 2002"
   ]
  },
  {
   "cell_type": "code",
   "execution_count": 742,
   "metadata": {},
   "outputs": [],
   "source": [
    "fra2002year = fra_year.loc[fra_year[\"season\"].isin(year2002)]\n"
   ]
  },
  {
   "cell_type": "code",
   "execution_count": 743,
   "metadata": {},
   "outputs": [],
   "source": [
    "fra2002xg = fra2002year.sort_values(by=[\"xg_z\"], ascending=False)\n"
   ]
  },
  {
   "cell_type": "code",
   "execution_count": 744,
   "metadata": {},
   "outputs": [],
   "source": [
    "fra2002xg13 = fra2002xg.head(13)\n"
   ]
  },
  {
   "cell_type": "code",
   "execution_count": 745,
   "metadata": {},
   "outputs": [],
   "source": [
    "fra2002xg13 = fra2002xg13.drop(columns=[ 'season', 'team'])\n"
   ]
  },
  {
   "cell_type": "code",
   "execution_count": 746,
   "metadata": {},
   "outputs": [],
   "source": [
    "fra2002 = fra2002xg13.mean()\n"
   ]
  },
  {
   "cell_type": "code",
   "execution_count": 747,
   "metadata": {},
   "outputs": [
    {
     "data": {
      "text/plain": [
       "goals_z           -0.410000\n",
       "xg_z               0.329231\n",
       "crosses_z          0.606923\n",
       "boxtouches_z       0.713846\n",
       "passes_z           0.467692\n",
       "progpasses_z      -0.033077\n",
       "takeons_z          0.140769\n",
       "progruns_z         0.609231\n",
       "tackles_z          0.610769\n",
       "interceptions_z    0.639231\n",
       "clearances_z      -0.492308\n",
       "blocks_z          -0.385385\n",
       "aerials_z          0.008462\n",
       "fouls_z           -0.016923\n",
       "fouled_z           0.310769\n",
       "nsxg_z             0.633077\n",
       "dtype: float64"
      ]
     },
     "execution_count": 747,
     "metadata": {},
     "output_type": "execute_result"
    }
   ],
   "source": [
    "fra2002\n"
   ]
  },
  {
   "cell_type": "code",
   "execution_count": 748,
   "metadata": {},
   "outputs": [
    {
     "data": {
      "text/plain": [
       "-2.3470926829268293"
      ]
     },
     "execution_count": 748,
     "metadata": {},
     "output_type": "execute_result"
    }
   ],
   "source": [
    "# ( 0.329231 + 0.633077) /  -0.410000"
   ]
  },
  {
   "cell_type": "markdown",
   "metadata": {},
   "source": [
    "### Fouled"
   ]
  },
  {
   "cell_type": "code",
   "execution_count": null,
   "metadata": {},
   "outputs": [],
   "source": [
    "# .310769 - -0.016923"
   ]
  },
  {
   "cell_type": "code",
   "execution_count": null,
   "metadata": {},
   "outputs": [],
   "source": [
    "# new_row = {'Country': 'France', 'Year': 2002, 'goals_z': -0.410000, 'xg_z': 0.329231, \n",
    "#            'boxtouches_z': 0.713846, 'progpasses_z': -0.033077, 'progruns_z': 0.609231, \n",
    "#            'new_xg': -2.3470926, 'Fouled': 0.327692000, 'results': 32}\n",
    "\n",
    "# stats_df = stats_df.append(new_row, ignore_index=True)"
   ]
  },
  {
   "cell_type": "code",
   "execution_count": null,
   "metadata": {},
   "outputs": [],
   "source": [
    "fra2002\n",
    "fra2006\n",
    "fra2010\n",
    "fra2014\n",
    "fra2018"
   ]
  },
  {
   "cell_type": "code",
   "execution_count": 1140,
   "metadata": {},
   "outputs": [],
   "source": [
    "fra = pd.concat([fra2002, fra2006, fra2010, fra2014, fra2018], axis=1).T\n"
   ]
  },
  {
   "cell_type": "code",
   "execution_count": 1141,
   "metadata": {},
   "outputs": [],
   "source": [
    "fra.rename(index={0: 'France02', 1: 'France06', 2: 'France10',\n",
    "                  3: 'France14', 4: 'France18'}, inplace=True)\n"
   ]
  },
  {
   "cell_type": "code",
   "execution_count": null,
   "metadata": {},
   "outputs": [],
   "source": [
    "02 - 28     A      France     3     0     1     2     0     3     −3     1\n",
    "06 - 2      France     G     7     4     3     0     9     3     +6     15\n",
    "10 - 29      France     A     3     0     1     2     1     4     −3     1\n",
    "14 - 7      France     E     5     3     1     1     10     10     3     +7\n",
    "18 - 1      France     C     7     6     1     0     19     14     6     +8\n"
   ]
  },
  {
   "cell_type": "code",
   "execution_count": 1142,
   "metadata": {},
   "outputs": [],
   "source": [
    "df2 = fra.assign(results=[28, 2, 29, 7, 1])\n"
   ]
  },
  {
   "cell_type": "code",
   "execution_count": 1143,
   "metadata": {},
   "outputs": [],
   "source": [
    "# df2.to_csv('France.csv', index=False)\n"
   ]
  },
  {
   "cell_type": "code",
   "execution_count": null,
   "metadata": {},
   "outputs": [],
   "source": []
  },
  {
   "cell_type": "code",
   "execution_count": null,
   "metadata": {},
   "outputs": [],
   "source": []
  },
  {
   "cell_type": "code",
   "execution_count": null,
   "metadata": {},
   "outputs": [],
   "source": []
  },
  {
   "cell_type": "markdown",
   "metadata": {},
   "source": [
    "# Denmark"
   ]
  },
  {
   "cell_type": "code",
   "execution_count": 749,
   "metadata": {},
   "outputs": [],
   "source": [
    "den = ['Denmark']"
   ]
  },
  {
   "cell_type": "code",
   "execution_count": 750,
   "metadata": {},
   "outputs": [],
   "source": [
    "den_year = comparisons.loc[comparisons[\"team\"].isin(den)]"
   ]
  },
  {
   "cell_type": "code",
   "execution_count": 751,
   "metadata": {},
   "outputs": [],
   "source": [
    "den2010year = den_year.loc[den_year[\"season\"].isin(year2010)]"
   ]
  },
  {
   "cell_type": "code",
   "execution_count": 752,
   "metadata": {},
   "outputs": [],
   "source": [
    "den2010xg = den2010year.sort_values(by=[\"xg_z\"], ascending=False)"
   ]
  },
  {
   "cell_type": "code",
   "execution_count": 753,
   "metadata": {},
   "outputs": [],
   "source": [
    "den2010xg13 = den2010xg.head(13)"
   ]
  },
  {
   "cell_type": "code",
   "execution_count": 754,
   "metadata": {},
   "outputs": [],
   "source": [
    "den2010xg13 = den2010xg13.drop(columns=[ 'season', 'team'])\n"
   ]
  },
  {
   "cell_type": "code",
   "execution_count": 755,
   "metadata": {},
   "outputs": [],
   "source": [
    "den2010 = den2010xg13.mean()"
   ]
  },
  {
   "cell_type": "code",
   "execution_count": 756,
   "metadata": {},
   "outputs": [
    {
     "data": {
      "text/plain": [
       "goals_z            0.133077\n",
       "xg_z               0.533846\n",
       "crosses_z          0.086923\n",
       "boxtouches_z       0.444615\n",
       "passes_z          -0.276154\n",
       "progpasses_z      -0.306154\n",
       "takeons_z         -0.126923\n",
       "progruns_z         0.104615\n",
       "tackles_z         -0.029231\n",
       "interceptions_z   -0.318462\n",
       "clearances_z       0.278462\n",
       "blocks_z          -0.069231\n",
       "aerials_z          0.150769\n",
       "fouls_z            0.151538\n",
       "fouled_z          -0.211538\n",
       "nsxg_z            -0.123846\n",
       "dtype: float64"
      ]
     },
     "execution_count": 756,
     "metadata": {},
     "output_type": "execute_result"
    }
   ],
   "source": [
    "den2010"
   ]
  },
  {
   "cell_type": "code",
   "execution_count": null,
   "metadata": {},
   "outputs": [],
   "source": [
    "# (  0.533846 + -0.123846) /  0.133077"
   ]
  },
  {
   "cell_type": "markdown",
   "metadata": {},
   "source": [
    "# Fouled"
   ]
  },
  {
   "cell_type": "code",
   "execution_count": null,
   "metadata": {},
   "outputs": [],
   "source": [
    "# -0.211538 -  0.151538"
   ]
  },
  {
   "cell_type": "code",
   "execution_count": null,
   "metadata": {},
   "outputs": [],
   "source": [
    "# new_row = {'Country': 'Denmark', 'Year': 2010, 'goals_z': 0.133077, 'xg_z': 0.533846, \n",
    "#            'boxtouches_z': 0.444615, 'progpasses_z':-0.306154, 'progruns_z':0.104615, \n",
    "#            'new_xg': 3.080923, 'Fouled': -0.363076, 'results': 32}\n",
    "\n",
    "# stats_df = stats_df.append(new_row, ignore_index=True)"
   ]
  },
  {
   "cell_type": "markdown",
   "metadata": {},
   "source": [
    "## 2014 NA"
   ]
  },
  {
   "cell_type": "markdown",
   "metadata": {},
   "source": [
    "## 2018"
   ]
  },
  {
   "cell_type": "code",
   "execution_count": 757,
   "metadata": {},
   "outputs": [],
   "source": [
    "den2018year = den_year.loc[den_year[\"season\"].isin(year2018)]"
   ]
  },
  {
   "cell_type": "code",
   "execution_count": 758,
   "metadata": {},
   "outputs": [],
   "source": [
    "den2018xg = den2018year.sort_values(by=[\"xg_z\"], ascending=False)"
   ]
  },
  {
   "cell_type": "code",
   "execution_count": 759,
   "metadata": {},
   "outputs": [],
   "source": [
    "den2018xg13 = den2018xg.head(13)"
   ]
  },
  {
   "cell_type": "code",
   "execution_count": 760,
   "metadata": {},
   "outputs": [],
   "source": [
    "den2018xg13 = den2018xg13.drop(columns=[ 'season', 'team', ])\n"
   ]
  },
  {
   "cell_type": "code",
   "execution_count": 761,
   "metadata": {},
   "outputs": [],
   "source": [
    "den2018 = den2018xg13.mean()"
   ]
  },
  {
   "cell_type": "code",
   "execution_count": 762,
   "metadata": {},
   "outputs": [
    {
     "data": {
      "text/plain": [
       "goals_z           -0.053077\n",
       "xg_z              -0.192308\n",
       "crosses_z         -0.136923\n",
       "boxtouches_z       0.065385\n",
       "passes_z          -0.374615\n",
       "progpasses_z      -0.263846\n",
       "takeons_z         -0.010000\n",
       "progruns_z        -0.393077\n",
       "tackles_z         -0.394615\n",
       "interceptions_z   -0.314615\n",
       "clearances_z      -0.200000\n",
       "blocks_z          -0.136154\n",
       "aerials_z          0.326923\n",
       "fouls_z           -0.046154\n",
       "fouled_z          -0.413077\n",
       "nsxg_z            -0.019231\n",
       "dtype: float64"
      ]
     },
     "execution_count": 762,
     "metadata": {},
     "output_type": "execute_result"
    }
   ],
   "source": [
    "den2018"
   ]
  },
  {
   "cell_type": "code",
   "execution_count": 763,
   "metadata": {},
   "outputs": [
    {
     "data": {
      "text/plain": [
       "3.985511615200558"
      ]
     },
     "execution_count": 763,
     "metadata": {},
     "output_type": "execute_result"
    }
   ],
   "source": [
    "# (-0.192308 + -0.019231) / -0.053077"
   ]
  },
  {
   "cell_type": "markdown",
   "metadata": {},
   "source": [
    "### FOULED"
   ]
  },
  {
   "cell_type": "code",
   "execution_count": null,
   "metadata": {},
   "outputs": [],
   "source": [
    "# -0.413077 - -0.046154"
   ]
  },
  {
   "cell_type": "code",
   "execution_count": null,
   "metadata": {},
   "outputs": [],
   "source": [
    "# new_row = {'Country': 'Denmark', 'Year': 2018, 'goals_z':-0.053077, 'xg_z':-0.192308, \n",
    "#            'boxtouches_z':0.065385, 'progpasses_z':-0.263846, 'progruns_z':-0.393077, \n",
    "#            'new_xg': 3.9855116, 'Fouled': -0.366923, 'results': 16}\n",
    "\n",
    "# stats_df = stats_df.append(new_row, ignore_index=True)"
   ]
  },
  {
   "cell_type": "markdown",
   "metadata": {},
   "source": [
    "## 2006 NA"
   ]
  },
  {
   "cell_type": "markdown",
   "metadata": {},
   "source": [
    "## 2002"
   ]
  },
  {
   "cell_type": "code",
   "execution_count": 764,
   "metadata": {},
   "outputs": [],
   "source": [
    "den2002year = den_year.loc[den_year[\"season\"].isin(year2002)]"
   ]
  },
  {
   "cell_type": "code",
   "execution_count": 765,
   "metadata": {},
   "outputs": [],
   "source": [
    "den2002xg = den2002year.sort_values(by=[\"xg_z\"], ascending=False)"
   ]
  },
  {
   "cell_type": "code",
   "execution_count": 766,
   "metadata": {},
   "outputs": [],
   "source": [
    "den2002xg13 = den2002xg.head(13)"
   ]
  },
  {
   "cell_type": "code",
   "execution_count": 767,
   "metadata": {},
   "outputs": [],
   "source": [
    "den2002xg13 = den2002xg13.drop(columns=[ 'season', 'team', ])\n"
   ]
  },
  {
   "cell_type": "code",
   "execution_count": 768,
   "metadata": {},
   "outputs": [],
   "source": [
    "den2002 = den2002xg13.mean()"
   ]
  },
  {
   "cell_type": "code",
   "execution_count": 769,
   "metadata": {},
   "outputs": [
    {
     "data": {
      "text/plain": [
       "goals_z            0.200000\n",
       "xg_z               0.046154\n",
       "crosses_z         -0.056154\n",
       "boxtouches_z       0.129231\n",
       "passes_z           0.120769\n",
       "progpasses_z       0.053077\n",
       "takeons_z          0.010769\n",
       "progruns_z         0.267692\n",
       "tackles_z          0.001538\n",
       "interceptions_z    0.106154\n",
       "clearances_z      -0.132308\n",
       "blocks_z          -0.310769\n",
       "aerials_z          0.063846\n",
       "fouls_z            0.234615\n",
       "fouled_z          -0.180000\n",
       "nsxg_z            -0.002308\n",
       "dtype: float64"
      ]
     },
     "execution_count": 769,
     "metadata": {},
     "output_type": "execute_result"
    }
   ],
   "source": [
    "den2002\n"
   ]
  },
  {
   "cell_type": "code",
   "execution_count": null,
   "metadata": {},
   "outputs": [],
   "source": [
    "# (0.046154 + -0.002308) / 0.200000"
   ]
  },
  {
   "cell_type": "markdown",
   "metadata": {},
   "source": [
    "### Fouled"
   ]
  },
  {
   "cell_type": "code",
   "execution_count": null,
   "metadata": {},
   "outputs": [],
   "source": [
    "# -0.180000 - .234615"
   ]
  },
  {
   "cell_type": "code",
   "execution_count": null,
   "metadata": {},
   "outputs": [],
   "source": [
    "# new_row = {'Country': 'Denmark', 'Year': 2002, 'goals_z':0.200000, 'xg_z':0.046154, \n",
    "#            'boxtouches_z':0.129231, 'progpasses_z':0.053077, 'progruns_z':0.267692, \n",
    "#            'new_xg': 0.21923, 'Fouled': -0.4146149, 'results': 16}\n",
    "\n",
    "# stats_df = stats_df.append(new_row, ignore_index=True)"
   ]
  },
  {
   "cell_type": "code",
   "execution_count": null,
   "metadata": {},
   "outputs": [],
   "source": [
    "den2002\n",
    "den2010\n",
    "den2018"
   ]
  },
  {
   "cell_type": "code",
   "execution_count": 1144,
   "metadata": {},
   "outputs": [],
   "source": [
    "den = pd.concat([den2002, den2010, den2018], axis=1).T\n"
   ]
  },
  {
   "cell_type": "code",
   "execution_count": 1145,
   "metadata": {},
   "outputs": [],
   "source": [
    "den.rename(index={0: 'Denmark02', 1: 'Denmark10', 2: 'Denmark18'}, inplace=True)\n"
   ]
  },
  {
   "cell_type": "code",
   "execution_count": null,
   "metadata": {},
   "outputs": [],
   "source": [
    "02 - 10     A      Denmark     4     2     1     1     5     5     0     7\n",
    "10 - 24      Denmark     E     3     1     0     2     3     6     −3     3\n",
    "18 - 11      Denmark     C     4     1     3     0     6     3     2     +1\n"
   ]
  },
  {
   "cell_type": "code",
   "execution_count": 1146,
   "metadata": {},
   "outputs": [],
   "source": [
    "df2 = den.assign(results=[10, 24, 11])\n"
   ]
  },
  {
   "cell_type": "code",
   "execution_count": 1147,
   "metadata": {},
   "outputs": [],
   "source": [
    "# df2.to_csv('Denmark.csv', index=False)\n"
   ]
  },
  {
   "cell_type": "code",
   "execution_count": null,
   "metadata": {},
   "outputs": [],
   "source": []
  },
  {
   "cell_type": "code",
   "execution_count": null,
   "metadata": {},
   "outputs": [],
   "source": []
  },
  {
   "cell_type": "code",
   "execution_count": null,
   "metadata": {},
   "outputs": [],
   "source": []
  },
  {
   "cell_type": "markdown",
   "metadata": {},
   "source": [
    "# Australia"
   ]
  },
  {
   "cell_type": "code",
   "execution_count": 770,
   "metadata": {},
   "outputs": [],
   "source": [
    "aus = ['Australia']"
   ]
  },
  {
   "cell_type": "code",
   "execution_count": 771,
   "metadata": {},
   "outputs": [],
   "source": [
    "aus_year = comparisons.loc[comparisons[\"team\"].isin(aus)]"
   ]
  },
  {
   "cell_type": "code",
   "execution_count": 772,
   "metadata": {},
   "outputs": [],
   "source": [
    "aus2010year = aus_year.loc[aus_year[\"season\"].isin(year2010)]"
   ]
  },
  {
   "cell_type": "code",
   "execution_count": 773,
   "metadata": {},
   "outputs": [],
   "source": [
    "aus2010xg = aus2010year.sort_values(by=[\"xg_z\"], ascending=False)"
   ]
  },
  {
   "cell_type": "code",
   "execution_count": 774,
   "metadata": {},
   "outputs": [],
   "source": [
    "aus2010xg13 = aus2010xg.head(13)"
   ]
  },
  {
   "cell_type": "code",
   "execution_count": 775,
   "metadata": {},
   "outputs": [],
   "source": [
    "aus2010xg13 = aus2010xg13.drop(columns=[ 'season', 'team'])\n"
   ]
  },
  {
   "cell_type": "code",
   "execution_count": 776,
   "metadata": {},
   "outputs": [],
   "source": [
    "aus2010 = aus2010xg13.mean()"
   ]
  },
  {
   "cell_type": "code",
   "execution_count": 777,
   "metadata": {},
   "outputs": [
    {
     "data": {
      "text/plain": [
       "goals_z            0.132308\n",
       "xg_z               0.247692\n",
       "crosses_z          0.417692\n",
       "boxtouches_z       0.487692\n",
       "passes_z           0.069231\n",
       "progpasses_z       0.114615\n",
       "takeons_z         -0.387692\n",
       "progruns_z        -0.256154\n",
       "tackles_z         -0.447692\n",
       "interceptions_z   -0.462308\n",
       "clearances_z       0.103077\n",
       "blocks_z          -0.015385\n",
       "aerials_z          0.059231\n",
       "fouls_z            0.430769\n",
       "fouled_z          -0.116154\n",
       "nsxg_z             0.187692\n",
       "dtype: float64"
      ]
     },
     "execution_count": 777,
     "metadata": {},
     "output_type": "execute_result"
    }
   ],
   "source": [
    "aus2010"
   ]
  },
  {
   "cell_type": "code",
   "execution_count": null,
   "metadata": {},
   "outputs": [],
   "source": [
    "# ( 0.247692 + 0.187692) /  0.132308"
   ]
  },
  {
   "cell_type": "markdown",
   "metadata": {},
   "source": [
    "### Fouled"
   ]
  },
  {
   "cell_type": "code",
   "execution_count": null,
   "metadata": {},
   "outputs": [],
   "source": [
    "# -0.116154 - 0.430769"
   ]
  },
  {
   "cell_type": "code",
   "execution_count": null,
   "metadata": {},
   "outputs": [],
   "source": [
    "# new_row = {'Country': 'Australia', 'Year': 2010, 'goals_z':0.132308, 'xg_z':0.247692, \n",
    "#            'boxtouches_z':0.487692, 'progpasses_z':0.114615, 'progruns_z':-0.256154, \n",
    "#            'new_xg': 3.29068, 'Fouled': -0.546923, 'results': 32}\n",
    "\n",
    "# stats_df = stats_df.append(new_row, ignore_index=True)"
   ]
  },
  {
   "cell_type": "markdown",
   "metadata": {},
   "source": [
    "## 2014"
   ]
  },
  {
   "cell_type": "code",
   "execution_count": 778,
   "metadata": {},
   "outputs": [],
   "source": [
    "aus2014year = aus_year.loc[aus_year[\"season\"].isin(year2014)]"
   ]
  },
  {
   "cell_type": "code",
   "execution_count": 779,
   "metadata": {},
   "outputs": [],
   "source": [
    "aus2014xg = aus2014year.sort_values(by=[\"xg_z\"], ascending=False)"
   ]
  },
  {
   "cell_type": "code",
   "execution_count": 780,
   "metadata": {},
   "outputs": [],
   "source": [
    "aus2014xg13 = aus2014xg.head(13)"
   ]
  },
  {
   "cell_type": "code",
   "execution_count": 781,
   "metadata": {},
   "outputs": [],
   "source": [
    "aus2014xg13 = aus2014xg13.drop(columns=[ 'season', 'team'])\n"
   ]
  },
  {
   "cell_type": "code",
   "execution_count": 782,
   "metadata": {},
   "outputs": [],
   "source": [
    "aus2014 = aus2014xg13.mean()"
   ]
  },
  {
   "cell_type": "code",
   "execution_count": 783,
   "metadata": {},
   "outputs": [
    {
     "data": {
      "text/plain": [
       "goals_z            0.075385\n",
       "xg_z               0.094615\n",
       "crosses_z          0.040000\n",
       "boxtouches_z      -0.041538\n",
       "passes_z           0.253846\n",
       "progpasses_z       0.036154\n",
       "takeons_z          0.149231\n",
       "progruns_z         0.089231\n",
       "tackles_z         -0.646923\n",
       "interceptions_z    0.023077\n",
       "clearances_z      -0.081538\n",
       "blocks_z           0.023846\n",
       "aerials_z          0.048462\n",
       "fouls_z            0.510000\n",
       "fouled_z           0.002308\n",
       "nsxg_z            -0.113077\n",
       "dtype: float64"
      ]
     },
     "execution_count": 783,
     "metadata": {},
     "output_type": "execute_result"
    }
   ],
   "source": [
    "aus2014"
   ]
  },
  {
   "cell_type": "code",
   "execution_count": null,
   "metadata": {},
   "outputs": [],
   "source": [
    "# ( 0.094615 + -0.113077) /  0.075385"
   ]
  },
  {
   "cell_type": "markdown",
   "metadata": {},
   "source": [
    "### Fouled"
   ]
  },
  {
   "cell_type": "code",
   "execution_count": null,
   "metadata": {},
   "outputs": [],
   "source": [
    "# .002308 - .510000"
   ]
  },
  {
   "cell_type": "code",
   "execution_count": null,
   "metadata": {},
   "outputs": [],
   "source": [
    "# new_row = {'Country': 'Australia', 'Year': 2014, 'goals_z':0.075385, 'xg_z':0.094615, \n",
    "#            'boxtouches_z':-0.041538, 'progpasses_z':0.036154, 'progruns_z':0.089231, \n",
    "#            'new_xg': -0.2449028, 'Fouled': -0.507692, 'results': 32}\n",
    "\n",
    "# stats_df = stats_df.append(new_row, ignore_index=True)"
   ]
  },
  {
   "cell_type": "markdown",
   "metadata": {},
   "source": [
    "## 2018"
   ]
  },
  {
   "cell_type": "code",
   "execution_count": 784,
   "metadata": {},
   "outputs": [],
   "source": [
    "aus2018year = aus_year.loc[aus_year[\"season\"].isin(year2018)]"
   ]
  },
  {
   "cell_type": "code",
   "execution_count": 785,
   "metadata": {},
   "outputs": [],
   "source": [
    "aus2018xg = aus2018year.sort_values(by=[\"xg_z\"], ascending=False)"
   ]
  },
  {
   "cell_type": "code",
   "execution_count": 786,
   "metadata": {},
   "outputs": [],
   "source": [
    "aus2018xg13 = aus2018xg.head(13)"
   ]
  },
  {
   "cell_type": "code",
   "execution_count": 787,
   "metadata": {},
   "outputs": [],
   "source": [
    "aus2018xg13 = aus2018xg13.drop(columns=[ 'season', 'team'])\n"
   ]
  },
  {
   "cell_type": "code",
   "execution_count": 788,
   "metadata": {},
   "outputs": [],
   "source": [
    "aus2018 = aus2018xg13.mean()"
   ]
  },
  {
   "cell_type": "code",
   "execution_count": 789,
   "metadata": {},
   "outputs": [
    {
     "data": {
      "text/plain": [
       "goals_z           -0.066923\n",
       "xg_z               0.165385\n",
       "crosses_z          0.447692\n",
       "boxtouches_z       0.188462\n",
       "passes_z           0.470000\n",
       "progpasses_z       0.346923\n",
       "takeons_z          0.250000\n",
       "progruns_z         0.105385\n",
       "tackles_z          0.216923\n",
       "interceptions_z    0.132308\n",
       "clearances_z       0.330769\n",
       "blocks_z          -0.331538\n",
       "aerials_z          0.303846\n",
       "fouls_z            0.313077\n",
       "fouled_z           0.066923\n",
       "nsxg_z             0.139231\n",
       "dtype: float64"
      ]
     },
     "execution_count": 789,
     "metadata": {},
     "output_type": "execute_result"
    }
   ],
   "source": [
    "\n",
    "aus2018"
   ]
  },
  {
   "cell_type": "code",
   "execution_count": null,
   "metadata": {},
   "outputs": [],
   "source": [
    "# ( 0.165385 + 0.139231) /  -0.066923"
   ]
  },
  {
   "cell_type": "markdown",
   "metadata": {},
   "source": [
    "### Fouled"
   ]
  },
  {
   "cell_type": "code",
   "execution_count": 111,
   "metadata": {},
   "outputs": [
    {
     "data": {
      "text/plain": [
       "-0.24615399999999998"
      ]
     },
     "execution_count": 111,
     "metadata": {},
     "output_type": "execute_result"
    }
   ],
   "source": [
    "# .066923 - .313077"
   ]
  },
  {
   "cell_type": "code",
   "execution_count": 112,
   "metadata": {},
   "outputs": [
    {
     "ename": "NameError",
     "evalue": "name 'stats_df' is not defined",
     "output_type": "error",
     "traceback": [
      "\u001b[0;31m---------------------------------------------------------------------------\u001b[0m",
      "\u001b[0;31mNameError\u001b[0m                                 Traceback (most recent call last)",
      "Input \u001b[0;32mIn [112]\u001b[0m, in \u001b[0;36m<cell line: 5>\u001b[0;34m()\u001b[0m\n\u001b[1;32m      1\u001b[0m new_row \u001b[38;5;241m=\u001b[39m {\u001b[38;5;124m'\u001b[39m\u001b[38;5;124mCountry\u001b[39m\u001b[38;5;124m'\u001b[39m: \u001b[38;5;124m'\u001b[39m\u001b[38;5;124mAustralia\u001b[39m\u001b[38;5;124m'\u001b[39m, \u001b[38;5;124m'\u001b[39m\u001b[38;5;124mYear\u001b[39m\u001b[38;5;124m'\u001b[39m: \u001b[38;5;241m2018\u001b[39m, \u001b[38;5;124m'\u001b[39m\u001b[38;5;124mgoals_z\u001b[39m\u001b[38;5;124m'\u001b[39m:\u001b[38;5;241m-\u001b[39m\u001b[38;5;241m0.066923\u001b[39m, \u001b[38;5;124m'\u001b[39m\u001b[38;5;124mxg_z\u001b[39m\u001b[38;5;124m'\u001b[39m:\u001b[38;5;241m0.165385\u001b[39m, \n\u001b[1;32m      2\u001b[0m            \u001b[38;5;124m'\u001b[39m\u001b[38;5;124mboxtouches_z\u001b[39m\u001b[38;5;124m'\u001b[39m:\u001b[38;5;241m0.188462\u001b[39m, \u001b[38;5;124m'\u001b[39m\u001b[38;5;124mprogpasses_z\u001b[39m\u001b[38;5;124m'\u001b[39m:\u001b[38;5;241m0.346923\u001b[39m, \u001b[38;5;124m'\u001b[39m\u001b[38;5;124mprogruns_z\u001b[39m\u001b[38;5;124m'\u001b[39m:\u001b[38;5;241m0.105385\u001b[39m, \n\u001b[1;32m      3\u001b[0m            \u001b[38;5;124m'\u001b[39m\u001b[38;5;124mnew_xg\u001b[39m\u001b[38;5;124m'\u001b[39m: \u001b[38;5;241m-\u001b[39m\u001b[38;5;241m4.5517385\u001b[39m, \u001b[38;5;124m'\u001b[39m\u001b[38;5;124mFouled\u001b[39m\u001b[38;5;124m'\u001b[39m: \u001b[38;5;241m-\u001b[39m\u001b[38;5;241m0.2461539\u001b[39m, \u001b[38;5;124m'\u001b[39m\u001b[38;5;124mresults\u001b[39m\u001b[38;5;124m'\u001b[39m: \u001b[38;5;241m32\u001b[39m}\n\u001b[0;32m----> 5\u001b[0m stats_df \u001b[38;5;241m=\u001b[39m \u001b[43mstats_df\u001b[49m\u001b[38;5;241m.\u001b[39mappend(new_row, ignore_index\u001b[38;5;241m=\u001b[39m\u001b[38;5;28;01mTrue\u001b[39;00m)\n",
      "\u001b[0;31mNameError\u001b[0m: name 'stats_df' is not defined"
     ]
    }
   ],
   "source": [
    "# new_row = {'Country': 'Australia', 'Year': 2018, 'goals_z':-0.066923, 'xg_z':0.165385, \n",
    "#            'boxtouches_z':0.188462, 'progpasses_z':0.346923, 'progruns_z':0.105385, \n",
    "#            'new_xg': -4.5517385, 'Fouled': -0.2461539, 'results': 32}\n",
    "\n",
    "# stats_df = stats_df.append(new_row, ignore_index=True)"
   ]
  },
  {
   "cell_type": "markdown",
   "metadata": {},
   "source": [
    "## 2006"
   ]
  },
  {
   "cell_type": "code",
   "execution_count": 790,
   "metadata": {},
   "outputs": [],
   "source": [
    "aus2006year = aus_year.loc[aus_year[\"season\"].isin(year2006)]"
   ]
  },
  {
   "cell_type": "code",
   "execution_count": 791,
   "metadata": {},
   "outputs": [],
   "source": [
    "aus2006xg = aus2006year.sort_values(by=[\"xg_z\"], ascending=False)"
   ]
  },
  {
   "cell_type": "code",
   "execution_count": 792,
   "metadata": {},
   "outputs": [],
   "source": [
    "aus2006xg13 = aus2006xg.head(13)"
   ]
  },
  {
   "cell_type": "code",
   "execution_count": 793,
   "metadata": {},
   "outputs": [],
   "source": [
    "aus2006xg13 = aus2006xg13.drop(columns=[ 'season', 'team'])\n"
   ]
  },
  {
   "cell_type": "code",
   "execution_count": 794,
   "metadata": {},
   "outputs": [],
   "source": [
    "aus2006 = aus2006xg13.mean()"
   ]
  },
  {
   "cell_type": "code",
   "execution_count": 795,
   "metadata": {},
   "outputs": [
    {
     "data": {
      "text/plain": [
       "goals_z            0.303077\n",
       "xg_z               0.490000\n",
       "crosses_z          0.486154\n",
       "boxtouches_z       0.859231\n",
       "passes_z           0.303846\n",
       "progpasses_z       0.206154\n",
       "takeons_z          0.010000\n",
       "progruns_z         0.515385\n",
       "tackles_z          0.316923\n",
       "interceptions_z   -0.075385\n",
       "clearances_z       0.096154\n",
       "blocks_z           0.869231\n",
       "aerials_z          0.324615\n",
       "fouls_z            0.830000\n",
       "fouled_z           0.046923\n",
       "nsxg_z             0.848462\n",
       "dtype: float64"
      ]
     },
     "execution_count": 795,
     "metadata": {},
     "output_type": "execute_result"
    }
   ],
   "source": [
    "aus2006\n"
   ]
  },
  {
   "cell_type": "code",
   "execution_count": null,
   "metadata": {},
   "outputs": [],
   "source": [
    "# ( 0.490000 + 0.848462) /  0.303077"
   ]
  },
  {
   "cell_type": "markdown",
   "metadata": {},
   "source": [
    "### Fouled"
   ]
  },
  {
   "cell_type": "code",
   "execution_count": 115,
   "metadata": {},
   "outputs": [
    {
     "data": {
      "text/plain": [
       "-0.7830769999999999"
      ]
     },
     "execution_count": 115,
     "metadata": {},
     "output_type": "execute_result"
    }
   ],
   "source": [
    "# .046923 - .830000"
   ]
  },
  {
   "cell_type": "code",
   "execution_count": 116,
   "metadata": {},
   "outputs": [
    {
     "ename": "NameError",
     "evalue": "name 'stats_df' is not defined",
     "output_type": "error",
     "traceback": [
      "\u001b[0;31m---------------------------------------------------------------------------\u001b[0m",
      "\u001b[0;31mNameError\u001b[0m                                 Traceback (most recent call last)",
      "Input \u001b[0;32mIn [116]\u001b[0m, in \u001b[0;36m<cell line: 5>\u001b[0;34m()\u001b[0m\n\u001b[1;32m      1\u001b[0m new_row \u001b[38;5;241m=\u001b[39m {\u001b[38;5;124m'\u001b[39m\u001b[38;5;124mCountry\u001b[39m\u001b[38;5;124m'\u001b[39m: \u001b[38;5;124m'\u001b[39m\u001b[38;5;124mAustralia\u001b[39m\u001b[38;5;124m'\u001b[39m, \u001b[38;5;124m'\u001b[39m\u001b[38;5;124mYear\u001b[39m\u001b[38;5;124m'\u001b[39m: \u001b[38;5;241m2006\u001b[39m, \u001b[38;5;124m'\u001b[39m\u001b[38;5;124mgoals_z\u001b[39m\u001b[38;5;124m'\u001b[39m:\u001b[38;5;241m0.303077\u001b[39m, \u001b[38;5;124m'\u001b[39m\u001b[38;5;124mxg_z\u001b[39m\u001b[38;5;124m'\u001b[39m:\u001b[38;5;241m0.490000\u001b[39m, \n\u001b[1;32m      2\u001b[0m            \u001b[38;5;124m'\u001b[39m\u001b[38;5;124mboxtouches_z\u001b[39m\u001b[38;5;124m'\u001b[39m:\u001b[38;5;241m0.859231\u001b[39m, \u001b[38;5;124m'\u001b[39m\u001b[38;5;124mprogpasses_z\u001b[39m\u001b[38;5;124m'\u001b[39m:\u001b[38;5;241m0.206154\u001b[39m, \u001b[38;5;124m'\u001b[39m\u001b[38;5;124mprogruns_z\u001b[39m\u001b[38;5;124m'\u001b[39m:\u001b[38;5;241m0.515385\u001b[39m, \n\u001b[1;32m      3\u001b[0m            \u001b[38;5;124m'\u001b[39m\u001b[38;5;124mnew_xg\u001b[39m\u001b[38;5;124m'\u001b[39m: \u001b[38;5;241m4.4162440\u001b[39m, \u001b[38;5;124m'\u001b[39m\u001b[38;5;124mFouled\u001b[39m\u001b[38;5;124m'\u001b[39m: \u001b[38;5;241m-\u001b[39m\u001b[38;5;241m0.78307699\u001b[39m, \u001b[38;5;124m'\u001b[39m\u001b[38;5;124mresults\u001b[39m\u001b[38;5;124m'\u001b[39m: \u001b[38;5;241m16\u001b[39m}\n\u001b[0;32m----> 5\u001b[0m stats_df \u001b[38;5;241m=\u001b[39m \u001b[43mstats_df\u001b[49m\u001b[38;5;241m.\u001b[39mappend(new_row, ignore_index\u001b[38;5;241m=\u001b[39m\u001b[38;5;28;01mTrue\u001b[39;00m)\n",
      "\u001b[0;31mNameError\u001b[0m: name 'stats_df' is not defined"
     ]
    }
   ],
   "source": [
    "# new_row = {'Country': 'Australia', 'Year': 2006, 'goals_z':0.303077, 'xg_z':0.490000, \n",
    "#            'boxtouches_z':0.859231, 'progpasses_z':0.206154, 'progruns_z':0.515385, \n",
    "#            'new_xg': 4.4162440, 'Fouled': -0.78307699, 'results': 16}\n",
    "\n",
    "# stats_df = stats_df.append(new_row, ignore_index=True)"
   ]
  },
  {
   "cell_type": "code",
   "execution_count": null,
   "metadata": {},
   "outputs": [],
   "source": [
    "aus2006\n",
    "aus2010\n",
    "aus2014\n",
    "aus2018"
   ]
  },
  {
   "cell_type": "code",
   "execution_count": 1148,
   "metadata": {},
   "outputs": [],
   "source": [
    "aus = pd.concat([aus2006, aus2010, aus2014, aus2018], axis=1).T\n"
   ]
  },
  {
   "cell_type": "code",
   "execution_count": 1149,
   "metadata": {},
   "outputs": [],
   "source": [
    "aus.rename(index={0: 'Australia06', 1: 'Australia10', 2: 'Australia14', 3: 'Australia18'}, inplace=True)\n"
   ]
  },
  {
   "cell_type": "code",
   "execution_count": null,
   "metadata": {},
   "outputs": [],
   "source": [
    "06 - 16      Australia     F     4     1     1     2     5     6     −1     4\n",
    "10 - 21      Australia     D     3     1     1     1     3     6     −3     4\n",
    "14 - 30      Australia     B     3     0     0     3     0     3     9     −6\n",
    "18 - 28      Australia     C     3     0     1     2     1     2     5     −3\n"
   ]
  },
  {
   "cell_type": "code",
   "execution_count": 1150,
   "metadata": {},
   "outputs": [],
   "source": [
    "df2 = aus.assign(results=[16, 21, 30, 28])\n"
   ]
  },
  {
   "cell_type": "code",
   "execution_count": 1151,
   "metadata": {},
   "outputs": [],
   "source": [
    "# df2.to_csv('Australia.csv', index=False)\n"
   ]
  },
  {
   "cell_type": "code",
   "execution_count": null,
   "metadata": {},
   "outputs": [],
   "source": []
  },
  {
   "cell_type": "code",
   "execution_count": null,
   "metadata": {},
   "outputs": [],
   "source": []
  },
  {
   "cell_type": "code",
   "execution_count": null,
   "metadata": {},
   "outputs": [],
   "source": []
  },
  {
   "cell_type": "markdown",
   "metadata": {},
   "source": [
    "## 2002 NA"
   ]
  },
  {
   "cell_type": "markdown",
   "metadata": {},
   "source": [
    "# Serbia"
   ]
  },
  {
   "cell_type": "code",
   "execution_count": 796,
   "metadata": {},
   "outputs": [],
   "source": [
    "ser = ['Serbia']"
   ]
  },
  {
   "cell_type": "code",
   "execution_count": 797,
   "metadata": {},
   "outputs": [],
   "source": [
    "ser_year = comparisons.loc[comparisons[\"team\"].isin(ser)]"
   ]
  },
  {
   "cell_type": "code",
   "execution_count": 798,
   "metadata": {},
   "outputs": [],
   "source": [
    "ser2010year = ser_year.loc[ser_year[\"season\"].isin(year2010)]"
   ]
  },
  {
   "cell_type": "code",
   "execution_count": 799,
   "metadata": {},
   "outputs": [],
   "source": [
    "ser2010xg = ser2010year.sort_values(by=[\"xg_z\"], ascending=False)"
   ]
  },
  {
   "cell_type": "code",
   "execution_count": 800,
   "metadata": {},
   "outputs": [],
   "source": [
    "ser2010xg13 = ser2010xg.head(13)"
   ]
  },
  {
   "cell_type": "code",
   "execution_count": 801,
   "metadata": {},
   "outputs": [],
   "source": [
    "ser2010xg13 = ser2010xg13.drop(columns=[ 'season', 'team'])\n"
   ]
  },
  {
   "cell_type": "code",
   "execution_count": 802,
   "metadata": {},
   "outputs": [],
   "source": [
    "ser2010 = ser2010xg13.mean()"
   ]
  },
  {
   "cell_type": "code",
   "execution_count": 803,
   "metadata": {},
   "outputs": [
    {
     "data": {
      "text/plain": [
       "goals_z           -0.044615\n",
       "xg_z               0.218462\n",
       "crosses_z          0.416923\n",
       "boxtouches_z       0.270769\n",
       "passes_z           0.254615\n",
       "progpasses_z      -0.226923\n",
       "takeons_z         -0.040000\n",
       "progruns_z         0.533077\n",
       "tackles_z         -0.166923\n",
       "interceptions_z    0.096154\n",
       "clearances_z       0.204615\n",
       "blocks_z           0.137692\n",
       "aerials_z          0.104615\n",
       "fouls_z           -0.252308\n",
       "fouled_z           0.616154\n",
       "nsxg_z             0.246154\n",
       "dtype: float64"
      ]
     },
     "execution_count": 803,
     "metadata": {},
     "output_type": "execute_result"
    }
   ],
   "source": [
    "ser2010"
   ]
  },
  {
   "cell_type": "code",
   "execution_count": 125,
   "metadata": {},
   "outputs": [
    {
     "data": {
      "text/plain": [
       "-10.41389667152303"
      ]
     },
     "execution_count": 125,
     "metadata": {},
     "output_type": "execute_result"
    }
   ],
   "source": [
    "# (0.218462 + 0.246154) /  -0.044615"
   ]
  },
  {
   "cell_type": "markdown",
   "metadata": {},
   "source": [
    "### Fouled"
   ]
  },
  {
   "cell_type": "code",
   "execution_count": 126,
   "metadata": {},
   "outputs": [
    {
     "data": {
      "text/plain": [
       "0.868462"
      ]
     },
     "execution_count": 126,
     "metadata": {},
     "output_type": "execute_result"
    }
   ],
   "source": [
    "# 0.616154 - -0.252308"
   ]
  },
  {
   "cell_type": "code",
   "execution_count": 127,
   "metadata": {},
   "outputs": [
    {
     "ename": "NameError",
     "evalue": "name 'stats_df' is not defined",
     "output_type": "error",
     "traceback": [
      "\u001b[0;31m---------------------------------------------------------------------------\u001b[0m",
      "\u001b[0;31mNameError\u001b[0m                                 Traceback (most recent call last)",
      "Input \u001b[0;32mIn [127]\u001b[0m, in \u001b[0;36m<cell line: 5>\u001b[0;34m()\u001b[0m\n\u001b[1;32m      1\u001b[0m new_row \u001b[38;5;241m=\u001b[39m {\u001b[38;5;124m'\u001b[39m\u001b[38;5;124mCountry\u001b[39m\u001b[38;5;124m'\u001b[39m: \u001b[38;5;124m'\u001b[39m\u001b[38;5;124mSerbia\u001b[39m\u001b[38;5;124m'\u001b[39m, \u001b[38;5;124m'\u001b[39m\u001b[38;5;124mYear\u001b[39m\u001b[38;5;124m'\u001b[39m: \u001b[38;5;241m2010\u001b[39m, \u001b[38;5;124m'\u001b[39m\u001b[38;5;124mgoals_z\u001b[39m\u001b[38;5;124m'\u001b[39m:\u001b[38;5;241m-\u001b[39m\u001b[38;5;241m0.044615\u001b[39m, \u001b[38;5;124m'\u001b[39m\u001b[38;5;124mxg_z\u001b[39m\u001b[38;5;124m'\u001b[39m:\u001b[38;5;241m0.218462\u001b[39m, \n\u001b[1;32m      2\u001b[0m            \u001b[38;5;124m'\u001b[39m\u001b[38;5;124mboxtouches_z\u001b[39m\u001b[38;5;124m'\u001b[39m:\u001b[38;5;241m0.270769\u001b[39m, \u001b[38;5;124m'\u001b[39m\u001b[38;5;124mprogpasses_z\u001b[39m\u001b[38;5;124m'\u001b[39m:\u001b[38;5;241m-\u001b[39m\u001b[38;5;241m0.226923\u001b[39m, \u001b[38;5;124m'\u001b[39m\u001b[38;5;124mprogruns_z\u001b[39m\u001b[38;5;124m'\u001b[39m:\u001b[38;5;241m0.533077\u001b[39m, \n\u001b[1;32m      3\u001b[0m            \u001b[38;5;124m'\u001b[39m\u001b[38;5;124mnew_xg\u001b[39m\u001b[38;5;124m'\u001b[39m: \u001b[38;5;241m-\u001b[39m\u001b[38;5;241m10.41389\u001b[39m, \u001b[38;5;124m'\u001b[39m\u001b[38;5;124mFouled\u001b[39m\u001b[38;5;124m'\u001b[39m: \u001b[38;5;241m0.868462\u001b[39m, \u001b[38;5;124m'\u001b[39m\u001b[38;5;124mresults\u001b[39m\u001b[38;5;124m'\u001b[39m: \u001b[38;5;241m32\u001b[39m}\n\u001b[0;32m----> 5\u001b[0m stats_df \u001b[38;5;241m=\u001b[39m \u001b[43mstats_df\u001b[49m\u001b[38;5;241m.\u001b[39mappend(new_row, ignore_index\u001b[38;5;241m=\u001b[39m\u001b[38;5;28;01mTrue\u001b[39;00m)\n",
      "\u001b[0;31mNameError\u001b[0m: name 'stats_df' is not defined"
     ]
    }
   ],
   "source": [
    "# new_row = {'Country': 'Serbia', 'Year': 2010, 'goals_z':-0.044615, 'xg_z':0.218462, \n",
    "#            'boxtouches_z':0.270769, 'progpasses_z':-0.226923, 'progruns_z':0.533077, \n",
    "#            'new_xg': -10.41389, 'Fouled': 0.868462, 'results': 32}\n",
    "\n",
    "# stats_df = stats_df.append(new_row, ignore_index=True)"
   ]
  },
  {
   "cell_type": "markdown",
   "metadata": {},
   "source": [
    "## 2014 NA"
   ]
  },
  {
   "cell_type": "markdown",
   "metadata": {},
   "source": [
    "## 2018"
   ]
  },
  {
   "cell_type": "code",
   "execution_count": 804,
   "metadata": {},
   "outputs": [],
   "source": [
    "ser2018year = ser_year.loc[ser_year[\"season\"].isin(year2018)]"
   ]
  },
  {
   "cell_type": "code",
   "execution_count": 805,
   "metadata": {},
   "outputs": [],
   "source": [
    "ser2018xg = ser2018year.sort_values(by=[\"xg_z\"], ascending=False)"
   ]
  },
  {
   "cell_type": "code",
   "execution_count": 806,
   "metadata": {},
   "outputs": [],
   "source": [
    "ser2018xg13 = ser2018xg.head(13)"
   ]
  },
  {
   "cell_type": "code",
   "execution_count": 807,
   "metadata": {},
   "outputs": [],
   "source": [
    "ser2018xg13 = ser2018xg13.drop(columns=[ 'season', 'team'])\n"
   ]
  },
  {
   "cell_type": "code",
   "execution_count": 808,
   "metadata": {},
   "outputs": [],
   "source": [
    "ser2018 = ser2018xg13.mean()"
   ]
  },
  {
   "cell_type": "code",
   "execution_count": 809,
   "metadata": {},
   "outputs": [
    {
     "data": {
      "text/plain": [
       "goals_z           -0.066154\n",
       "xg_z               0.076154\n",
       "crosses_z          0.387692\n",
       "boxtouches_z       0.673846\n",
       "passes_z           0.050769\n",
       "progpasses_z       0.183077\n",
       "takeons_z          0.283077\n",
       "progruns_z         0.358462\n",
       "tackles_z          0.179231\n",
       "interceptions_z   -0.340769\n",
       "clearances_z       0.233077\n",
       "blocks_z           0.257692\n",
       "aerials_z          0.618462\n",
       "fouls_z            0.575385\n",
       "fouled_z           0.330000\n",
       "nsxg_z             0.600000\n",
       "dtype: float64"
      ]
     },
     "execution_count": 809,
     "metadata": {},
     "output_type": "execute_result"
    }
   ],
   "source": [
    "ser2018"
   ]
  },
  {
   "cell_type": "code",
   "execution_count": 134,
   "metadata": {},
   "outputs": [
    {
     "data": {
      "text/plain": [
       "-10.220908788584211"
      ]
     },
     "execution_count": 134,
     "metadata": {},
     "output_type": "execute_result"
    }
   ],
   "source": [
    "# (0.076154 + 0.600000) /  -0.066154"
   ]
  },
  {
   "cell_type": "markdown",
   "metadata": {},
   "source": [
    "### Fouled"
   ]
  },
  {
   "cell_type": "code",
   "execution_count": 135,
   "metadata": {},
   "outputs": [
    {
     "data": {
      "text/plain": [
       "-0.24538500000000002"
      ]
     },
     "execution_count": 135,
     "metadata": {},
     "output_type": "execute_result"
    }
   ],
   "source": [
    "# .330000 - .575385"
   ]
  },
  {
   "cell_type": "code",
   "execution_count": 136,
   "metadata": {},
   "outputs": [
    {
     "ename": "NameError",
     "evalue": "name 'stats_df' is not defined",
     "output_type": "error",
     "traceback": [
      "\u001b[0;31m---------------------------------------------------------------------------\u001b[0m",
      "\u001b[0;31mNameError\u001b[0m                                 Traceback (most recent call last)",
      "Input \u001b[0;32mIn [136]\u001b[0m, in \u001b[0;36m<cell line: 5>\u001b[0;34m()\u001b[0m\n\u001b[1;32m      1\u001b[0m new_row \u001b[38;5;241m=\u001b[39m {\u001b[38;5;124m'\u001b[39m\u001b[38;5;124mCountry\u001b[39m\u001b[38;5;124m'\u001b[39m: \u001b[38;5;124m'\u001b[39m\u001b[38;5;124mSerbia\u001b[39m\u001b[38;5;124m'\u001b[39m, \u001b[38;5;124m'\u001b[39m\u001b[38;5;124mYear\u001b[39m\u001b[38;5;124m'\u001b[39m: \u001b[38;5;241m2018\u001b[39m, \u001b[38;5;124m'\u001b[39m\u001b[38;5;124mgoals_z\u001b[39m\u001b[38;5;124m'\u001b[39m:\u001b[38;5;241m-\u001b[39m\u001b[38;5;241m0.066154\u001b[39m, \u001b[38;5;124m'\u001b[39m\u001b[38;5;124mxg_z\u001b[39m\u001b[38;5;124m'\u001b[39m:\u001b[38;5;241m0.076154\u001b[39m, \n\u001b[1;32m      2\u001b[0m            \u001b[38;5;124m'\u001b[39m\u001b[38;5;124mboxtouches_z\u001b[39m\u001b[38;5;124m'\u001b[39m:\u001b[38;5;241m0.673846\u001b[39m, \u001b[38;5;124m'\u001b[39m\u001b[38;5;124mprogpasses_z\u001b[39m\u001b[38;5;124m'\u001b[39m:\u001b[38;5;241m0.183077\u001b[39m, \u001b[38;5;124m'\u001b[39m\u001b[38;5;124mprogruns_z\u001b[39m\u001b[38;5;124m'\u001b[39m:\u001b[38;5;241m0.358462\u001b[39m, \n\u001b[1;32m      3\u001b[0m            \u001b[38;5;124m'\u001b[39m\u001b[38;5;124mnew_xg\u001b[39m\u001b[38;5;124m'\u001b[39m: \u001b[38;5;241m-\u001b[39m\u001b[38;5;241m10.220908\u001b[39m, \u001b[38;5;124m'\u001b[39m\u001b[38;5;124mFouled\u001b[39m\u001b[38;5;124m'\u001b[39m: \u001b[38;5;241m-\u001b[39m\u001b[38;5;241m0.24538500\u001b[39m, \u001b[38;5;124m'\u001b[39m\u001b[38;5;124mresults\u001b[39m\u001b[38;5;124m'\u001b[39m: \u001b[38;5;241m32\u001b[39m}\n\u001b[0;32m----> 5\u001b[0m stats_df \u001b[38;5;241m=\u001b[39m \u001b[43mstats_df\u001b[49m\u001b[38;5;241m.\u001b[39mappend(new_row, ignore_index\u001b[38;5;241m=\u001b[39m\u001b[38;5;28;01mTrue\u001b[39;00m)\n",
      "\u001b[0;31mNameError\u001b[0m: name 'stats_df' is not defined"
     ]
    }
   ],
   "source": [
    "# new_row = {'Country': 'Serbia', 'Year': 2018, 'goals_z':-0.066154, 'xg_z':0.076154, \n",
    "#            'boxtouches_z':0.673846, 'progpasses_z':0.183077, 'progruns_z':0.358462, \n",
    "#            'new_xg': -10.220908, 'Fouled': -0.24538500, 'results': 32}\n",
    "\n",
    "# stats_df = stats_df.append(new_row, ignore_index=True)"
   ]
  },
  {
   "cell_type": "markdown",
   "metadata": {},
   "source": [
    "## Serbia wasn't a country in 2006"
   ]
  },
  {
   "cell_type": "code",
   "execution_count": null,
   "metadata": {},
   "outputs": [],
   "source": [
    "ser2010\n",
    "ser2018"
   ]
  },
  {
   "cell_type": "code",
   "execution_count": 1152,
   "metadata": {},
   "outputs": [],
   "source": [
    "ser = pd.concat([ser2010, ser2018], axis=1).T\n"
   ]
  },
  {
   "cell_type": "code",
   "execution_count": 1153,
   "metadata": {},
   "outputs": [],
   "source": [
    "ser.rename(index={0: 'Serbia10', 1: 'Serbia18'}, inplace=True)\n"
   ]
  },
  {
   "cell_type": "code",
   "execution_count": null,
   "metadata": {},
   "outputs": [],
   "source": [
    "06 - 32      Serbia and Montenegro     C     3     0     0     3     2     10     −8     0\n",
    "10 - 23      Serbia     D     3     1     0     2     2     3     −1     3\n",
    "18 - 22      Serbia     E     3     1     0     2     3     2     4     −2\n"
   ]
  },
  {
   "cell_type": "code",
   "execution_count": 1154,
   "metadata": {},
   "outputs": [],
   "source": [
    "df2 = ser.assign(results=[23, 22])\n"
   ]
  },
  {
   "cell_type": "code",
   "execution_count": 1155,
   "metadata": {},
   "outputs": [],
   "source": [
    "# df2.to_csv('Serbia.csv', index=False)\n"
   ]
  },
  {
   "cell_type": "code",
   "execution_count": null,
   "metadata": {},
   "outputs": [],
   "source": []
  },
  {
   "cell_type": "markdown",
   "metadata": {},
   "source": [
    "# Cameroon"
   ]
  },
  {
   "cell_type": "code",
   "execution_count": 39,
   "metadata": {},
   "outputs": [],
   "source": [
    "cam = ['Cameroon']\n"
   ]
  },
  {
   "cell_type": "code",
   "execution_count": 40,
   "metadata": {},
   "outputs": [],
   "source": [
    "cam_year = comparisons.loc[comparisons[\"team\"].isin(cam)]"
   ]
  },
  {
   "cell_type": "code",
   "execution_count": 41,
   "metadata": {},
   "outputs": [],
   "source": [
    "cam2010year = cam_year.loc[cam_year[\"season\"].isin(year2010)]"
   ]
  },
  {
   "cell_type": "code",
   "execution_count": 42,
   "metadata": {},
   "outputs": [],
   "source": [
    "cam2010xg = cam2010year.sort_values(by=[\"xg_z\"], ascending=False)"
   ]
  },
  {
   "cell_type": "code",
   "execution_count": 43,
   "metadata": {},
   "outputs": [],
   "source": [
    "cam2010xg13 = cam2010xg.head(13)"
   ]
  },
  {
   "cell_type": "code",
   "execution_count": 44,
   "metadata": {},
   "outputs": [],
   "source": [
    "cam2010xg13 = cam2010xg13.drop(columns=[ 'season', 'team'])\n"
   ]
  },
  {
   "cell_type": "code",
   "execution_count": 45,
   "metadata": {},
   "outputs": [
    {
     "name": "stderr",
     "output_type": "stream",
     "text": [
      "/var/folders/j_/555m2zps099832fjh_m8jjnc0000gn/T/ipykernel_19218/811666954.py:1: FutureWarning: Dropping of nuisance columns in DataFrame reductions (with 'numeric_only=None') is deprecated; in a future version this will raise TypeError.  Select only valid columns before calling the reduction.\n",
      "  cam2010 = cam2010xg13.mean()\n"
     ]
    }
   ],
   "source": [
    "cam2010 = cam2010xg13.mean()"
   ]
  },
  {
   "cell_type": "code",
   "execution_count": 46,
   "metadata": {},
   "outputs": [
    {
     "data": {
      "text/plain": [
       "goals_z           -0.045385\n",
       "xg_z               0.442308\n",
       "crosses_z          0.306923\n",
       "boxtouches_z       0.630769\n",
       "passes_z          -0.009231\n",
       "progpasses_z      -0.158462\n",
       "takeons_z          0.135385\n",
       "progruns_z        -0.239231\n",
       "tackles_z         -0.150769\n",
       "interceptions_z   -0.254615\n",
       "clearances_z      -0.614615\n",
       "blocks_z          -0.140769\n",
       "aerials_z          0.059231\n",
       "fouls_z            0.244615\n",
       "fouled_z          -0.149231\n",
       "nsxg_z             0.477692\n",
       "dtype: float64"
      ]
     },
     "execution_count": 46,
     "metadata": {},
     "output_type": "execute_result"
    }
   ],
   "source": [
    "cam2010"
   ]
  },
  {
   "cell_type": "code",
   "execution_count": 47,
   "metadata": {},
   "outputs": [],
   "source": [
    "# (0.442308 + 0.477692) /  -0.045385"
   ]
  },
  {
   "cell_type": "markdown",
   "metadata": {},
   "source": [
    "### Fouled"
   ]
  },
  {
   "cell_type": "code",
   "execution_count": 48,
   "metadata": {},
   "outputs": [],
   "source": [
    "# -0.149231 - 0.244615"
   ]
  },
  {
   "cell_type": "code",
   "execution_count": 49,
   "metadata": {},
   "outputs": [],
   "source": [
    "# new_row = {'Country': 'Cameroon', 'Year': 2010, 'goals_z':-0.045385, 'xg_z':0.442308, \n",
    "#            'boxtouches_z':0.630769, 'progpasses_z':-0.158462, 'progruns_z': -0.239231, \n",
    "#            'new_xg': -20.271014, 'Fouled': -0.39384, 'results': 32}\n",
    "\n",
    "# stats_df = stats_df.append(new_row, ignore_index=True)"
   ]
  },
  {
   "cell_type": "markdown",
   "metadata": {},
   "source": [
    "## 2014"
   ]
  },
  {
   "cell_type": "code",
   "execution_count": 50,
   "metadata": {},
   "outputs": [],
   "source": [
    "cam2014year = cam_year.loc[cam_year[\"season\"].isin(year2014)]"
   ]
  },
  {
   "cell_type": "code",
   "execution_count": 51,
   "metadata": {},
   "outputs": [],
   "source": [
    "cam2014xg = cam2014year.sort_values(by=[\"xg_z\"], ascending=False)"
   ]
  },
  {
   "cell_type": "code",
   "execution_count": 52,
   "metadata": {},
   "outputs": [],
   "source": [
    "cam2014xg13 = cam2014xg.head(13)"
   ]
  },
  {
   "cell_type": "code",
   "execution_count": 53,
   "metadata": {},
   "outputs": [],
   "source": [
    "cam2014xg13 = cam2014xg13.drop(columns=[ 'season', 'team'])\n"
   ]
  },
  {
   "cell_type": "code",
   "execution_count": 54,
   "metadata": {},
   "outputs": [
    {
     "name": "stderr",
     "output_type": "stream",
     "text": [
      "/var/folders/j_/555m2zps099832fjh_m8jjnc0000gn/T/ipykernel_19218/4188291317.py:1: FutureWarning: Dropping of nuisance columns in DataFrame reductions (with 'numeric_only=None') is deprecated; in a future version this will raise TypeError.  Select only valid columns before calling the reduction.\n",
      "  cam2014 = cam2014xg13.mean()\n"
     ]
    }
   ],
   "source": [
    "cam2014 = cam2014xg13.mean()"
   ]
  },
  {
   "cell_type": "code",
   "execution_count": 55,
   "metadata": {},
   "outputs": [
    {
     "data": {
      "text/plain": [
       "goals_z           -0.261538\n",
       "xg_z              -0.067692\n",
       "crosses_z          0.040000\n",
       "boxtouches_z       0.203077\n",
       "passes_z          -0.335385\n",
       "progpasses_z      -0.293846\n",
       "takeons_z          0.150000\n",
       "progruns_z        -0.086923\n",
       "tackles_z         -0.338462\n",
       "interceptions_z    0.050000\n",
       "clearances_z      -0.082308\n",
       "blocks_z           0.077692\n",
       "aerials_z         -0.226923\n",
       "fouls_z           -0.030769\n",
       "fouled_z          -0.130000\n",
       "nsxg_z            -0.094615\n",
       "dtype: float64"
      ]
     },
     "execution_count": 55,
     "metadata": {},
     "output_type": "execute_result"
    }
   ],
   "source": [
    "\n",
    "cam2014"
   ]
  },
  {
   "cell_type": "code",
   "execution_count": 56,
   "metadata": {},
   "outputs": [],
   "source": [
    "# (-0.067692 + -0.094615) /  -0.261538"
   ]
  },
  {
   "cell_type": "markdown",
   "metadata": {},
   "source": [
    "### Fouled"
   ]
  },
  {
   "cell_type": "code",
   "execution_count": 57,
   "metadata": {},
   "outputs": [],
   "source": [
    "# -0.130000 - -0.030769"
   ]
  },
  {
   "cell_type": "code",
   "execution_count": 58,
   "metadata": {},
   "outputs": [],
   "source": [
    "# new_row = {'Country': 'Cameroon', 'Year': 2014, 'goals_z':-0.261538, 'xg_z':-0.067692,  \n",
    "#            'boxtouches_z':0.203077, 'progpasses_z':-0.293846, 'progruns_z':-0.086923, \n",
    "#            'new_xg': 0.6205866, 'Fouled': -0.099231, 'results': 32}\n",
    "\n",
    "# stats_df = stats_df.append(new_row, ignore_index=True)"
   ]
  },
  {
   "cell_type": "markdown",
   "metadata": {},
   "source": [
    "## 2018 NA"
   ]
  },
  {
   "cell_type": "markdown",
   "metadata": {},
   "source": [
    "## 2006 NA"
   ]
  },
  {
   "cell_type": "markdown",
   "metadata": {},
   "source": [
    "## 2002"
   ]
  },
  {
   "cell_type": "code",
   "execution_count": 59,
   "metadata": {},
   "outputs": [],
   "source": [
    "cam2002year = cam_year.loc[cam_year[\"season\"].isin(year2002)]"
   ]
  },
  {
   "cell_type": "code",
   "execution_count": 60,
   "metadata": {},
   "outputs": [],
   "source": [
    "cam2002xg = cam2002year.sort_values(by=[\"xg_z\"], ascending=False)"
   ]
  },
  {
   "cell_type": "code",
   "execution_count": 61,
   "metadata": {},
   "outputs": [],
   "source": [
    "cam2002xg13 = cam2002xg.head(13)"
   ]
  },
  {
   "cell_type": "code",
   "execution_count": 62,
   "metadata": {},
   "outputs": [],
   "source": [
    "cam2002xg13 = cam2002xg13.drop(columns=[ 'season', 'team'])\n"
   ]
  },
  {
   "cell_type": "code",
   "execution_count": 63,
   "metadata": {},
   "outputs": [
    {
     "name": "stderr",
     "output_type": "stream",
     "text": [
      "/var/folders/j_/555m2zps099832fjh_m8jjnc0000gn/T/ipykernel_19218/715592529.py:1: FutureWarning: Dropping of nuisance columns in DataFrame reductions (with 'numeric_only=None') is deprecated; in a future version this will raise TypeError.  Select only valid columns before calling the reduction.\n",
      "  cam2002 = cam2002xg13.mean()\n"
     ]
    }
   ],
   "source": [
    "cam2002 = cam2002xg13.mean()"
   ]
  },
  {
   "cell_type": "code",
   "execution_count": 64,
   "metadata": {},
   "outputs": [
    {
     "data": {
      "text/plain": [
       "goals_z           -0.085385\n",
       "xg_z               0.104615\n",
       "crosses_z          0.336923\n",
       "boxtouches_z       0.406923\n",
       "passes_z           0.588462\n",
       "progpasses_z       0.594615\n",
       "takeons_z          0.401538\n",
       "progruns_z         0.588462\n",
       "tackles_z          0.070000\n",
       "interceptions_z    0.294615\n",
       "clearances_z       0.052308\n",
       "blocks_z           0.649231\n",
       "aerials_z          0.263846\n",
       "fouls_z            0.389231\n",
       "fouled_z           0.226154\n",
       "nsxg_z             0.417692\n",
       "dtype: float64"
      ]
     },
     "execution_count": 64,
     "metadata": {},
     "output_type": "execute_result"
    }
   ],
   "source": [
    "cam2002\n"
   ]
  },
  {
   "cell_type": "code",
   "execution_count": 65,
   "metadata": {},
   "outputs": [],
   "source": [
    "# (0.104615 + 0.417692) /  -0.085385"
   ]
  },
  {
   "cell_type": "code",
   "execution_count": 66,
   "metadata": {},
   "outputs": [],
   "source": [
    "# .226154 - .389231"
   ]
  },
  {
   "cell_type": "code",
   "execution_count": 67,
   "metadata": {},
   "outputs": [],
   "source": [
    "# new_row = {'Country': 'Cameroon', 'Year': 2002, 'goals_z':-0.085385, 'xg_z':0.104615,  \n",
    "#            'boxtouches_z':0.406923, 'progpasses_z':0.588462, 'progruns_z':0.588462, \n",
    "#            'new_xg': -6.11708145, 'Fouled': -0.163077, 'results': 32}\n",
    "\n",
    "# stats_df = stats_df.append(new_row, ignore_index=True)"
   ]
  },
  {
   "cell_type": "code",
   "execution_count": 68,
   "metadata": {},
   "outputs": [],
   "source": [
    "# stats_df.shape"
   ]
  },
  {
   "cell_type": "code",
   "execution_count": 69,
   "metadata": {},
   "outputs": [
    {
     "data": {
      "text/plain": [
       "goals_z           -0.261538\n",
       "xg_z              -0.067692\n",
       "crosses_z          0.040000\n",
       "boxtouches_z       0.203077\n",
       "passes_z          -0.335385\n",
       "progpasses_z      -0.293846\n",
       "takeons_z          0.150000\n",
       "progruns_z        -0.086923\n",
       "tackles_z         -0.338462\n",
       "interceptions_z    0.050000\n",
       "clearances_z      -0.082308\n",
       "blocks_z           0.077692\n",
       "aerials_z         -0.226923\n",
       "fouls_z           -0.030769\n",
       "fouled_z          -0.130000\n",
       "nsxg_z            -0.094615\n",
       "dtype: float64"
      ]
     },
     "execution_count": 69,
     "metadata": {},
     "output_type": "execute_result"
    }
   ],
   "source": [
    "cam2002\n",
    "cam2010\n",
    "cam2014"
   ]
  },
  {
   "cell_type": "code",
   "execution_count": 70,
   "metadata": {},
   "outputs": [],
   "source": [
    "cam = pd.concat([cam2002, cam2010, cam2014], axis=1).T\n"
   ]
  },
  {
   "cell_type": "code",
   "execution_count": 71,
   "metadata": {},
   "outputs": [],
   "source": [
    "cam.rename(index={0: 'Cameroon02', 1: 'Cameroon10', 2: 'Cameroon14'}, inplace=True)\n"
   ]
  },
  {
   "cell_type": "code",
   "execution_count": 72,
   "metadata": {},
   "outputs": [],
   "source": [
    "# 02 - 20     E      Cameroon     3     1     1     1     2     3     −1     4\n",
    "# 10 - 31      Cameroon     E     3     0     0     3     2     5     −3     0\n",
    "# 14 - 32      Cameroon     A     3     0     0     3     0     1     9     −8\n"
   ]
  },
  {
   "cell_type": "code",
   "execution_count": 73,
   "metadata": {},
   "outputs": [],
   "source": [
    "df2 = cam.assign(results=[20, 31, 32])\n"
   ]
  },
  {
   "cell_type": "code",
   "execution_count": 75,
   "metadata": {},
   "outputs": [],
   "source": [
    "# df2.to_csv('Cameroon.csv', index=False)\n"
   ]
  },
  {
   "cell_type": "code",
   "execution_count": null,
   "metadata": {},
   "outputs": [],
   "source": []
  },
  {
   "cell_type": "code",
   "execution_count": null,
   "metadata": {},
   "outputs": [],
   "source": []
  },
  {
   "cell_type": "markdown",
   "metadata": {},
   "source": [
    "# Ghana"
   ]
  },
  {
   "cell_type": "code",
   "execution_count": 835,
   "metadata": {},
   "outputs": [],
   "source": [
    "gha = ['Ghana']"
   ]
  },
  {
   "cell_type": "code",
   "execution_count": 836,
   "metadata": {},
   "outputs": [],
   "source": [
    "gha_year = comparisons.loc[comparisons[\"team\"].isin(gha)]"
   ]
  },
  {
   "cell_type": "code",
   "execution_count": 837,
   "metadata": {},
   "outputs": [],
   "source": [
    "gha2010year = gha_year.loc[gha_year[\"season\"].isin(year2010)]"
   ]
  },
  {
   "cell_type": "code",
   "execution_count": 838,
   "metadata": {},
   "outputs": [],
   "source": [
    "gha2010xg = gha2010year.sort_values(by=[\"xg_z\"], ascending=False)"
   ]
  },
  {
   "cell_type": "code",
   "execution_count": 839,
   "metadata": {},
   "outputs": [],
   "source": [
    "gha2010xg13 = gha2010xg.head(13)"
   ]
  },
  {
   "cell_type": "code",
   "execution_count": 840,
   "metadata": {},
   "outputs": [],
   "source": [
    "gha2010xg13 = gha2010xg13.drop(columns=[ 'season', 'team'])\n"
   ]
  },
  {
   "cell_type": "code",
   "execution_count": 841,
   "metadata": {},
   "outputs": [],
   "source": [
    "gha2010 = gha2010xg13.mean()"
   ]
  },
  {
   "cell_type": "code",
   "execution_count": 842,
   "metadata": {},
   "outputs": [
    {
     "data": {
      "text/plain": [
       "goals_z            0.069231\n",
       "xg_z               0.626923\n",
       "crosses_z         -0.023846\n",
       "boxtouches_z       0.263846\n",
       "passes_z          -0.171538\n",
       "progpasses_z      -0.320000\n",
       "takeons_z          0.134615\n",
       "progruns_z         0.018462\n",
       "tackles_z          0.131538\n",
       "interceptions_z   -0.005385\n",
       "clearances_z      -0.067692\n",
       "blocks_z          -0.057692\n",
       "aerials_z          0.060000\n",
       "fouls_z            0.139231\n",
       "fouled_z          -0.248462\n",
       "nsxg_z             0.204615\n",
       "dtype: float64"
      ]
     },
     "execution_count": 842,
     "metadata": {},
     "output_type": "execute_result"
    }
   ],
   "source": [
    "gha2010"
   ]
  },
  {
   "cell_type": "code",
   "execution_count": 843,
   "metadata": {},
   "outputs": [],
   "source": [
    "# (0.626923 + 0.204615) /  0.069231"
   ]
  },
  {
   "cell_type": "markdown",
   "metadata": {},
   "source": [
    "### Fouled"
   ]
  },
  {
   "cell_type": "code",
   "execution_count": 844,
   "metadata": {},
   "outputs": [],
   "source": [
    "# -0.248462 - 0.139231"
   ]
  },
  {
   "cell_type": "code",
   "execution_count": 845,
   "metadata": {},
   "outputs": [],
   "source": [
    "# new_row = {'Country': 'Ghana', 'Year': 2010, 'goals_z':0.069231, 'xg_z':0.626923,\n",
    "#            'boxtouches_z':0.263846, 'progpasses_z':-0.320000, 'progruns_z':0.018462, \n",
    "#            'new_xg': 12.01106, 'Fouled': -0.387692, 'results': 8}\n",
    "\n",
    "# stats_df = stats_df.append(new_row, ignore_index=True)"
   ]
  },
  {
   "cell_type": "markdown",
   "metadata": {},
   "source": [
    "## 2014"
   ]
  },
  {
   "cell_type": "code",
   "execution_count": 846,
   "metadata": {},
   "outputs": [],
   "source": [
    "gha2014year = gha_year.loc[gha_year[\"season\"].isin(year2014)]"
   ]
  },
  {
   "cell_type": "code",
   "execution_count": 847,
   "metadata": {},
   "outputs": [],
   "source": [
    "gha2014xg = gha2014year.sort_values(by=[\"xg_z\"], ascending=False)"
   ]
  },
  {
   "cell_type": "code",
   "execution_count": 848,
   "metadata": {},
   "outputs": [],
   "source": [
    "gha2014xg13 = gha2014xg.head(13)"
   ]
  },
  {
   "cell_type": "code",
   "execution_count": 849,
   "metadata": {},
   "outputs": [],
   "source": [
    "gha2014xg13 = gha2014xg13.drop(columns=[ 'season', 'team'])\n"
   ]
  },
  {
   "cell_type": "code",
   "execution_count": 850,
   "metadata": {},
   "outputs": [],
   "source": [
    "gha2014 = gha2014xg13.mean()"
   ]
  },
  {
   "cell_type": "code",
   "execution_count": 851,
   "metadata": {},
   "outputs": [
    {
     "data": {
      "text/plain": [
       "goals_z            0.243846\n",
       "xg_z               0.314615\n",
       "crosses_z          0.853846\n",
       "boxtouches_z       0.557692\n",
       "passes_z           0.050000\n",
       "progpasses_z       0.030769\n",
       "takeons_z          0.150769\n",
       "progruns_z         0.507692\n",
       "tackles_z          0.159231\n",
       "interceptions_z    0.279231\n",
       "clearances_z       0.056923\n",
       "blocks_z          -0.141538\n",
       "aerials_z          0.416923\n",
       "fouls_z            0.006154\n",
       "fouled_z           0.300000\n",
       "nsxg_z             0.428462\n",
       "dtype: float64"
      ]
     },
     "execution_count": 851,
     "metadata": {},
     "output_type": "execute_result"
    }
   ],
   "source": [
    "\n",
    "gha2014"
   ]
  },
  {
   "cell_type": "code",
   "execution_count": 852,
   "metadata": {},
   "outputs": [],
   "source": [
    "# (0.314615 + 0.428462) /  0.243846"
   ]
  },
  {
   "cell_type": "markdown",
   "metadata": {},
   "source": [
    "### Fouled"
   ]
  },
  {
   "cell_type": "code",
   "execution_count": 853,
   "metadata": {},
   "outputs": [],
   "source": [
    "# .300000 - .006154"
   ]
  },
  {
   "cell_type": "code",
   "execution_count": 854,
   "metadata": {},
   "outputs": [],
   "source": [
    "# new_row = {'Country': 'Ghana', 'Year': 2014, 'goals_z':0.243846, 'xg_z':0.314615, \n",
    "#            'boxtouches_z':0.557692, 'progpasses_z':0.030769, 'progruns_z':0.507692, \n",
    "#            'new_xg': 3.047320, 'Fouled': 0.293846, 'results': 32}\n",
    "\n",
    "# stats_df = stats_df.append(new_row, ignore_index=True)"
   ]
  },
  {
   "cell_type": "markdown",
   "metadata": {},
   "source": [
    "## 2018 NA"
   ]
  },
  {
   "cell_type": "markdown",
   "metadata": {},
   "source": [
    "## 2006"
   ]
  },
  {
   "cell_type": "code",
   "execution_count": 855,
   "metadata": {},
   "outputs": [],
   "source": [
    "gha2006year = gha_year.loc[gha_year[\"season\"].isin(year2006)]"
   ]
  },
  {
   "cell_type": "code",
   "execution_count": 856,
   "metadata": {},
   "outputs": [],
   "source": [
    "gha2006xg = gha2006year.sort_values(by=[\"xg_z\"], ascending=False)"
   ]
  },
  {
   "cell_type": "code",
   "execution_count": 857,
   "metadata": {},
   "outputs": [],
   "source": [
    "gha2006xg13 = gha2006xg.head(13)"
   ]
  },
  {
   "cell_type": "code",
   "execution_count": 858,
   "metadata": {},
   "outputs": [],
   "source": [
    "gha2006xg13 = gha2006xg13.drop(columns=[ 'season', 'team'])\n"
   ]
  },
  {
   "cell_type": "code",
   "execution_count": 859,
   "metadata": {},
   "outputs": [],
   "source": [
    "gha2006 = gha2006xg13.mean()"
   ]
  },
  {
   "cell_type": "code",
   "execution_count": 860,
   "metadata": {},
   "outputs": [
    {
     "data": {
      "text/plain": [
       "goals_z            0.158462\n",
       "xg_z               0.632308\n",
       "crosses_z          0.029231\n",
       "boxtouches_z       0.254615\n",
       "passes_z           0.116923\n",
       "progpasses_z      -0.009231\n",
       "takeons_z         -0.056923\n",
       "progruns_z         0.066923\n",
       "tackles_z         -0.103077\n",
       "interceptions_z   -0.072308\n",
       "clearances_z      -0.091538\n",
       "blocks_z          -0.132308\n",
       "aerials_z         -0.073846\n",
       "fouls_z            0.807692\n",
       "fouled_z          -0.065385\n",
       "nsxg_z             0.131538\n",
       "dtype: float64"
      ]
     },
     "execution_count": 860,
     "metadata": {},
     "output_type": "execute_result"
    }
   ],
   "source": [
    "gha2006\n"
   ]
  },
  {
   "cell_type": "code",
   "execution_count": 861,
   "metadata": {},
   "outputs": [],
   "source": [
    "# (0.632308 + 0.131538) /  0.158462"
   ]
  },
  {
   "cell_type": "markdown",
   "metadata": {},
   "source": [
    "### Fouled"
   ]
  },
  {
   "cell_type": "code",
   "execution_count": 862,
   "metadata": {},
   "outputs": [],
   "source": [
    "# -0.065385 - .807692"
   ]
  },
  {
   "cell_type": "code",
   "execution_count": 863,
   "metadata": {},
   "outputs": [],
   "source": [
    "# new_row = {'Country': 'Ghana', 'Year': 2006, 'goals_z':0.158462, 'xg_z':0.632308, \n",
    "#            'boxtouches_z':0.254615, 'progpasses_z':-0.009231, 'progruns_z':0.066923, \n",
    "#            'new_xg': 4.8203733, 'Fouled': -0.873077, 'results': 16}\n",
    "\n",
    "# stats_df = stats_df.append(new_row, ignore_index=True)"
   ]
  },
  {
   "cell_type": "markdown",
   "metadata": {},
   "source": [
    "## 2002 NA"
   ]
  },
  {
   "cell_type": "code",
   "execution_count": null,
   "metadata": {},
   "outputs": [],
   "source": [
    "gha2006\n",
    "gha2010\n",
    "gha2014"
   ]
  },
  {
   "cell_type": "code",
   "execution_count": 1160,
   "metadata": {},
   "outputs": [],
   "source": [
    "gha = pd.concat([gha2006, gha2010, gha2014], axis=1).T\n"
   ]
  },
  {
   "cell_type": "code",
   "execution_count": 1161,
   "metadata": {},
   "outputs": [],
   "source": [
    "gha.rename(index={0: 'Ghana06', 1: 'Ghana10', 2: 'Ghana14'}, inplace=True)\n"
   ]
  },
  {
   "cell_type": "code",
   "execution_count": null,
   "metadata": {},
   "outputs": [],
   "source": [
    "06 - 13      Ghana     E     4     2     0     2     4     6     −2     6\n",
    "10 - 7      Ghana     D     5     2     2     1     5     4     +1     8\n",
    "14 - 25      Ghana     G     3     0     1     2     1     4     6     −2\n"
   ]
  },
  {
   "cell_type": "code",
   "execution_count": 1162,
   "metadata": {},
   "outputs": [],
   "source": [
    "df2 = gha.assign(results=[13, 7, 25])\n"
   ]
  },
  {
   "cell_type": "code",
   "execution_count": 1163,
   "metadata": {},
   "outputs": [],
   "source": [
    "# df2.to_csv('Ghana.csv', index=False)\n"
   ]
  },
  {
   "cell_type": "code",
   "execution_count": null,
   "metadata": {},
   "outputs": [],
   "source": []
  },
  {
   "cell_type": "code",
   "execution_count": null,
   "metadata": {},
   "outputs": [],
   "source": []
  },
  {
   "cell_type": "code",
   "execution_count": null,
   "metadata": {},
   "outputs": [],
   "source": []
  },
  {
   "cell_type": "code",
   "execution_count": null,
   "metadata": {},
   "outputs": [],
   "source": []
  },
  {
   "cell_type": "markdown",
   "metadata": {},
   "source": [
    "# Left Off Here!!!!"
   ]
  },
  {
   "cell_type": "markdown",
   "metadata": {},
   "source": [
    "# Korean Republic\n",
    "\n",
    "korea not in team, need to check it out"
   ]
  },
  {
   "cell_type": "code",
   "execution_count": 864,
   "metadata": {},
   "outputs": [],
   "source": [
    "kor = ['South Korea']"
   ]
  },
  {
   "cell_type": "code",
   "execution_count": 865,
   "metadata": {},
   "outputs": [],
   "source": [
    "kor_year = comparisons.loc[comparisons[\"team\"].isin(kor)]"
   ]
  },
  {
   "cell_type": "code",
   "execution_count": 866,
   "metadata": {},
   "outputs": [
    {
     "data": {
      "text/html": [
       "<div>\n",
       "<style scoped>\n",
       "    .dataframe tbody tr th:only-of-type {\n",
       "        vertical-align: middle;\n",
       "    }\n",
       "\n",
       "    .dataframe tbody tr th {\n",
       "        vertical-align: top;\n",
       "    }\n",
       "\n",
       "    .dataframe thead th {\n",
       "        text-align: right;\n",
       "    }\n",
       "</style>\n",
       "<table border=\"1\" class=\"dataframe\">\n",
       "  <thead>\n",
       "    <tr style=\"text-align: right;\">\n",
       "      <th></th>\n",
       "      <th>season</th>\n",
       "      <th>team</th>\n",
       "      <th>goals_z</th>\n",
       "      <th>xg_z</th>\n",
       "      <th>crosses_z</th>\n",
       "      <th>boxtouches_z</th>\n",
       "      <th>passes_z</th>\n",
       "      <th>progpasses_z</th>\n",
       "      <th>takeons_z</th>\n",
       "      <th>progruns_z</th>\n",
       "      <th>tackles_z</th>\n",
       "      <th>interceptions_z</th>\n",
       "      <th>clearances_z</th>\n",
       "      <th>blocks_z</th>\n",
       "      <th>aerials_z</th>\n",
       "      <th>fouls_z</th>\n",
       "      <th>fouled_z</th>\n",
       "      <th>nsxg_z</th>\n",
       "    </tr>\n",
       "  </thead>\n",
       "  <tbody>\n",
       "  </tbody>\n",
       "</table>\n",
       "</div>"
      ],
      "text/plain": [
       "Empty DataFrame\n",
       "Columns: [season, team, goals_z, xg_z, crosses_z, boxtouches_z, passes_z, progpasses_z, takeons_z, progruns_z, tackles_z, interceptions_z, clearances_z, blocks_z, aerials_z, fouls_z, fouled_z, nsxg_z]\n",
       "Index: []"
      ]
     },
     "execution_count": 866,
     "metadata": {},
     "output_type": "execute_result"
    }
   ],
   "source": [
    "kor_year"
   ]
  },
  {
   "cell_type": "markdown",
   "metadata": {},
   "source": [
    "# Iran"
   ]
  },
  {
   "cell_type": "markdown",
   "metadata": {},
   "source": [
    "## 2010 NA"
   ]
  },
  {
   "cell_type": "markdown",
   "metadata": {},
   "source": [
    "## 2014"
   ]
  },
  {
   "cell_type": "code",
   "execution_count": 867,
   "metadata": {},
   "outputs": [],
   "source": [
    "ira = ['Iran']"
   ]
  },
  {
   "cell_type": "code",
   "execution_count": 868,
   "metadata": {},
   "outputs": [],
   "source": [
    "ira_year = comparisons.loc[comparisons[\"team\"].isin(ira)]"
   ]
  },
  {
   "cell_type": "code",
   "execution_count": 869,
   "metadata": {},
   "outputs": [],
   "source": [
    "ira2014year = ira_year.loc[ira_year[\"season\"].isin(year2014)]"
   ]
  },
  {
   "cell_type": "code",
   "execution_count": 870,
   "metadata": {},
   "outputs": [],
   "source": [
    "ira2014xg = ira2014year.sort_values(by=[\"xg_z\"], ascending=False)"
   ]
  },
  {
   "cell_type": "code",
   "execution_count": 871,
   "metadata": {},
   "outputs": [],
   "source": [
    "ira2014xg13 = ira2014xg.head(13)"
   ]
  },
  {
   "cell_type": "code",
   "execution_count": 872,
   "metadata": {},
   "outputs": [],
   "source": [
    "ira2014xg13 = ira2014xg13.drop(columns=[ 'season', 'team'])\n"
   ]
  },
  {
   "cell_type": "code",
   "execution_count": 873,
   "metadata": {},
   "outputs": [],
   "source": [
    "ira2014 = ira2014xg13.mean()"
   ]
  },
  {
   "cell_type": "code",
   "execution_count": 874,
   "metadata": {},
   "outputs": [
    {
     "data": {
      "text/plain": [
       "goals_z           -0.261538\n",
       "xg_z              -0.197692\n",
       "crosses_z          0.446923\n",
       "boxtouches_z      -0.108462\n",
       "passes_z          -0.512308\n",
       "progpasses_z      -0.082308\n",
       "takeons_z         -0.149231\n",
       "progruns_z        -0.276923\n",
       "tackles_z         -0.663077\n",
       "interceptions_z   -0.600769\n",
       "clearances_z       0.754615\n",
       "blocks_z          -0.397692\n",
       "aerials_z          0.080000\n",
       "fouls_z            0.580769\n",
       "fouled_z           0.300769\n",
       "nsxg_z            -0.022308\n",
       "dtype: float64"
      ]
     },
     "execution_count": 874,
     "metadata": {},
     "output_type": "execute_result"
    }
   ],
   "source": [
    "ira2014"
   ]
  },
  {
   "cell_type": "code",
   "execution_count": 875,
   "metadata": {},
   "outputs": [],
   "source": [
    "# (-0.197692 + -0.022308) /  -0.261538"
   ]
  },
  {
   "cell_type": "markdown",
   "metadata": {},
   "source": [
    "### FOULED\n"
   ]
  },
  {
   "cell_type": "code",
   "execution_count": 876,
   "metadata": {},
   "outputs": [],
   "source": [
    "# .300769 - .580769"
   ]
  },
  {
   "cell_type": "code",
   "execution_count": 877,
   "metadata": {},
   "outputs": [],
   "source": [
    "# new_row = {'Country': 'Iran', 'Year': 2014, 'goals_z':-0.261538, 'xg_z':-0.197692, \n",
    "#            'boxtouches_z':-0.108462, 'progpasses_z':-0.082308, 'progruns_z':-0.276923, \n",
    "#            'new_xg': 0.8411779, 'Fouled': -0.279999, 'results': 32}\n",
    "\n",
    "# stats_df = stats_df.append(new_row, ignore_index=True)"
   ]
  },
  {
   "cell_type": "markdown",
   "metadata": {},
   "source": [
    "## 2018"
   ]
  },
  {
   "cell_type": "code",
   "execution_count": 878,
   "metadata": {},
   "outputs": [],
   "source": [
    "ira2018year = ira_year.loc[ira_year[\"season\"].isin(year2018)]"
   ]
  },
  {
   "cell_type": "code",
   "execution_count": 879,
   "metadata": {},
   "outputs": [],
   "source": [
    "ira2018xg = ira2018year.sort_values(by=[\"xg_z\"], ascending=False)"
   ]
  },
  {
   "cell_type": "code",
   "execution_count": 880,
   "metadata": {},
   "outputs": [],
   "source": [
    "ira2018xg13 = ira2018xg.head(13)"
   ]
  },
  {
   "cell_type": "code",
   "execution_count": 881,
   "metadata": {},
   "outputs": [],
   "source": [
    "ira2018xg13 = ira2018xg13.drop(columns=['season', 'team'])\n"
   ]
  },
  {
   "cell_type": "code",
   "execution_count": 882,
   "metadata": {},
   "outputs": [],
   "source": [
    "ira2018 = ira2018xg13.mean()"
   ]
  },
  {
   "cell_type": "code",
   "execution_count": 883,
   "metadata": {},
   "outputs": [
    {
     "data": {
      "text/plain": [
       "goals_z           -0.243077\n",
       "xg_z               0.063846\n",
       "crosses_z         -0.090769\n",
       "boxtouches_z      -0.287692\n",
       "passes_z          -0.704615\n",
       "progpasses_z      -0.441538\n",
       "takeons_z         -0.098462\n",
       "progruns_z        -0.383077\n",
       "tackles_z         -0.722308\n",
       "interceptions_z   -0.606154\n",
       "clearances_z       0.313846\n",
       "blocks_z          -0.336923\n",
       "aerials_z          0.032308\n",
       "fouls_z            0.425385\n",
       "fouled_z           0.426923\n",
       "nsxg_z            -0.306154\n",
       "dtype: float64"
      ]
     },
     "execution_count": 883,
     "metadata": {},
     "output_type": "execute_result"
    }
   ],
   "source": [
    "\n",
    "ira2018"
   ]
  },
  {
   "cell_type": "code",
   "execution_count": null,
   "metadata": {},
   "outputs": [],
   "source": [
    "# (0.063846 + -0.306154) /  -0.243077"
   ]
  },
  {
   "cell_type": "markdown",
   "metadata": {},
   "source": [
    "### Fouled"
   ]
  },
  {
   "cell_type": "code",
   "execution_count": 194,
   "metadata": {},
   "outputs": [
    {
     "data": {
      "text/plain": [
       "0.0015379999999999838"
      ]
     },
     "execution_count": 194,
     "metadata": {},
     "output_type": "execute_result"
    }
   ],
   "source": [
    "# .426923 - .425385"
   ]
  },
  {
   "cell_type": "code",
   "execution_count": 884,
   "metadata": {},
   "outputs": [],
   "source": [
    "# new_row = {'Country': 'Iran', 'Year': 2018, 'goals_z':-0.243077, 'xg_z':0.063846, \n",
    "#            'boxtouches_z':-0.287692, 'progpasses_z':-0.441538, 'progruns_z':-0.383077, \n",
    "#            'new_xg': 0.9968363, 'Fouled': 0.0015379, 'results': 32}\n",
    "\n",
    "# stats_df = stats_df.append(new_row, ignore_index=True)"
   ]
  },
  {
   "cell_type": "markdown",
   "metadata": {},
   "source": [
    "## 2006"
   ]
  },
  {
   "cell_type": "code",
   "execution_count": 885,
   "metadata": {},
   "outputs": [],
   "source": [
    "ira2006year = ira_year.loc[ira_year[\"season\"].isin(year2006)]"
   ]
  },
  {
   "cell_type": "code",
   "execution_count": 886,
   "metadata": {},
   "outputs": [],
   "source": [
    "ira2006xg = ira2006year.sort_values(by=[\"xg_z\"], ascending=False)"
   ]
  },
  {
   "cell_type": "code",
   "execution_count": 887,
   "metadata": {},
   "outputs": [],
   "source": [
    "ira2006xg13 = ira2006xg.head(13)"
   ]
  },
  {
   "cell_type": "code",
   "execution_count": 888,
   "metadata": {},
   "outputs": [],
   "source": [
    "ira2006xg13 = ira2006xg13.drop(columns=['season', 'team'])\n"
   ]
  },
  {
   "cell_type": "code",
   "execution_count": 889,
   "metadata": {},
   "outputs": [],
   "source": [
    "ira2006 = ira2006xg13.mean()"
   ]
  },
  {
   "cell_type": "code",
   "execution_count": 890,
   "metadata": {},
   "outputs": [
    {
     "data": {
      "text/plain": [
       "goals_z           -0.035385\n",
       "xg_z               0.033846\n",
       "crosses_z          0.373077\n",
       "boxtouches_z       0.320769\n",
       "passes_z          -0.190769\n",
       "progpasses_z      -0.352308\n",
       "takeons_z          0.200000\n",
       "progruns_z        -0.247692\n",
       "tackles_z         -0.237692\n",
       "interceptions_z    0.242308\n",
       "clearances_z       0.265385\n",
       "blocks_z          -0.241538\n",
       "aerials_z          0.283846\n",
       "fouls_z            0.190000\n",
       "fouled_z           0.489231\n",
       "nsxg_z             0.138462\n",
       "dtype: float64"
      ]
     },
     "execution_count": 890,
     "metadata": {},
     "output_type": "execute_result"
    }
   ],
   "source": [
    "ira2006\n"
   ]
  },
  {
   "cell_type": "code",
   "execution_count": null,
   "metadata": {},
   "outputs": [],
   "source": [
    "# (0.033846 + 0.138462) /  -0.035385"
   ]
  },
  {
   "cell_type": "markdown",
   "metadata": {},
   "source": [
    "### Fouled"
   ]
  },
  {
   "cell_type": "code",
   "execution_count": 198,
   "metadata": {},
   "outputs": [
    {
     "data": {
      "text/plain": [
       "0.299231"
      ]
     },
     "execution_count": 198,
     "metadata": {},
     "output_type": "execute_result"
    }
   ],
   "source": [
    "# .489231 - .190000"
   ]
  },
  {
   "cell_type": "code",
   "execution_count": 891,
   "metadata": {},
   "outputs": [],
   "source": [
    "# new_row = {'Country': 'Iran', 'Year': 2006, 'goals_z':-0.035385, 'xg_z':0.033846, \n",
    "#            'boxtouches_z':0.320769, 'progpasses_z':-0.352308, 'progruns_z':-0.247692, \n",
    "#            'new_xg': -4.86952098, 'Fouled': 0.299231, 'results': 32}\n",
    "\n",
    "# stats_df = stats_df.append(new_row, ignore_index=True)"
   ]
  },
  {
   "cell_type": "markdown",
   "metadata": {},
   "source": [
    "## 2002 NA"
   ]
  },
  {
   "cell_type": "code",
   "execution_count": null,
   "metadata": {},
   "outputs": [],
   "source": [
    "ira2006\n",
    "ira2014\n",
    "ira2018"
   ]
  },
  {
   "cell_type": "code",
   "execution_count": 1164,
   "metadata": {},
   "outputs": [],
   "source": [
    "ira = pd.concat([ira2006, ira2014, ira2018], axis=1).T\n"
   ]
  },
  {
   "cell_type": "code",
   "execution_count": 1165,
   "metadata": {},
   "outputs": [],
   "source": [
    "ira.rename(index={0: 'iran06', 1: 'iran14', 2: 'iran18'}, inplace=True)\n"
   ]
  },
  {
   "cell_type": "code",
   "execution_count": null,
   "metadata": {},
   "outputs": [],
   "source": [
    "# 06 - 25      Iran     D     3     0     1     2     2     6     −4     1\n",
    "# 14 - 28      Iran     F     3     0     1     2     1     1     4     −3\n",
    "# 18 - 18      Iran     B     3     1     1     1     4     2     2     0\n"
   ]
  },
  {
   "cell_type": "code",
   "execution_count": 1166,
   "metadata": {},
   "outputs": [],
   "source": [
    "df2 = ira.assign(results=[25, 28, 18])\n"
   ]
  },
  {
   "cell_type": "code",
   "execution_count": 1167,
   "metadata": {},
   "outputs": [],
   "source": [
    "# df2.to_csv('Iran.csv', index=False)\n"
   ]
  },
  {
   "cell_type": "code",
   "execution_count": null,
   "metadata": {},
   "outputs": [],
   "source": []
  },
  {
   "cell_type": "markdown",
   "metadata": {},
   "source": [
    "# Poland"
   ]
  },
  {
   "cell_type": "markdown",
   "metadata": {},
   "source": [
    "## 2010 NA"
   ]
  },
  {
   "cell_type": "markdown",
   "metadata": {},
   "source": [
    "## 2014 NA"
   ]
  },
  {
   "cell_type": "markdown",
   "metadata": {},
   "source": [
    "## 2018"
   ]
  },
  {
   "cell_type": "code",
   "execution_count": 892,
   "metadata": {},
   "outputs": [],
   "source": [
    "pol = ['Poland']"
   ]
  },
  {
   "cell_type": "code",
   "execution_count": 893,
   "metadata": {},
   "outputs": [],
   "source": [
    "pol_year = comparisons.loc[comparisons[\"team\"].isin(pol)]"
   ]
  },
  {
   "cell_type": "code",
   "execution_count": 894,
   "metadata": {},
   "outputs": [],
   "source": [
    "pol2018year = pol_year.loc[pol_year[\"season\"].isin(year2018)]"
   ]
  },
  {
   "cell_type": "code",
   "execution_count": 895,
   "metadata": {},
   "outputs": [],
   "source": [
    "pol2018xg = pol2018year.sort_values(by=[\"xg_z\"], ascending=False)"
   ]
  },
  {
   "cell_type": "code",
   "execution_count": 896,
   "metadata": {},
   "outputs": [],
   "source": [
    "pol2018xg13 = pol2018xg.head(13)"
   ]
  },
  {
   "cell_type": "code",
   "execution_count": 897,
   "metadata": {},
   "outputs": [],
   "source": [
    "pol2018xg13 = pol2018xg13.drop(columns=[ 'season', 'team'])\n"
   ]
  },
  {
   "cell_type": "code",
   "execution_count": 898,
   "metadata": {},
   "outputs": [],
   "source": [
    "pol2018 = pol2018xg13.mean()"
   ]
  },
  {
   "cell_type": "code",
   "execution_count": 899,
   "metadata": {},
   "outputs": [
    {
     "data": {
      "text/plain": [
       "goals_z           -0.066154\n",
       "xg_z               0.173077\n",
       "crosses_z         -0.090769\n",
       "boxtouches_z       0.234615\n",
       "passes_z          -0.040000\n",
       "progpasses_z      -0.076154\n",
       "takeons_z         -0.353077\n",
       "progruns_z        -0.315385\n",
       "tackles_z         -0.107692\n",
       "interceptions_z   -0.104615\n",
       "clearances_z       0.067692\n",
       "blocks_z           0.073077\n",
       "aerials_z          0.213077\n",
       "fouls_z           -0.287692\n",
       "fouled_z          -0.030000\n",
       "nsxg_z             0.090769\n",
       "dtype: float64"
      ]
     },
     "execution_count": 899,
     "metadata": {},
     "output_type": "execute_result"
    }
   ],
   "source": [
    "pol2018"
   ]
  },
  {
   "cell_type": "code",
   "execution_count": 900,
   "metadata": {},
   "outputs": [],
   "source": [
    "# (0.173077 + 0.090769) /  -0.066154"
   ]
  },
  {
   "cell_type": "markdown",
   "metadata": {},
   "source": [
    "### Fouled"
   ]
  },
  {
   "cell_type": "code",
   "execution_count": 901,
   "metadata": {},
   "outputs": [],
   "source": [
    "# -0.030000 - -0.287692"
   ]
  },
  {
   "cell_type": "code",
   "execution_count": 902,
   "metadata": {},
   "outputs": [],
   "source": [
    "# new_row = {'Country': 'Poland', 'Year': 2018, 'goals_z':-0.066154, 'xg_z':0.173077, \n",
    "#            'boxtouches_z':0.234615, 'progpasses_z':-0.076154, 'progruns_z':-0.315385, \n",
    "#            'new_xg': -3.988360, 'Fouled': 0.25769200, 'results': 32}\n",
    "\n",
    "# stats_df = stats_df.append(new_row, ignore_index=True)"
   ]
  },
  {
   "cell_type": "markdown",
   "metadata": {},
   "source": [
    "## 2006"
   ]
  },
  {
   "cell_type": "code",
   "execution_count": 903,
   "metadata": {},
   "outputs": [],
   "source": [
    "pol2006year = pol_year.loc[pol_year[\"season\"].isin(year2006)]"
   ]
  },
  {
   "cell_type": "code",
   "execution_count": 904,
   "metadata": {},
   "outputs": [],
   "source": [
    "pol2006xg = pol2006year.sort_values(by=[\"xg_z\"], ascending=False)"
   ]
  },
  {
   "cell_type": "code",
   "execution_count": 905,
   "metadata": {},
   "outputs": [],
   "source": [
    "pol2006xg13 = pol2006xg.head(13)"
   ]
  },
  {
   "cell_type": "code",
   "execution_count": 906,
   "metadata": {},
   "outputs": [],
   "source": [
    "pol2006xg13 = pol2006xg13.drop(columns=[ 'season', 'team'])\n"
   ]
  },
  {
   "cell_type": "code",
   "execution_count": 907,
   "metadata": {},
   "outputs": [],
   "source": [
    "pol2006 = pol2006xg13.mean()"
   ]
  },
  {
   "cell_type": "code",
   "execution_count": 908,
   "metadata": {},
   "outputs": [
    {
     "data": {
      "text/plain": [
       "goals_z           -0.034615\n",
       "xg_z              -0.118462\n",
       "crosses_z         -0.083077\n",
       "boxtouches_z       0.097692\n",
       "passes_z           0.191538\n",
       "progpasses_z       0.214615\n",
       "takeons_z          0.066154\n",
       "progruns_z        -0.084615\n",
       "tackles_z         -0.219231\n",
       "interceptions_z    0.169231\n",
       "clearances_z       0.140769\n",
       "blocks_z           0.176154\n",
       "aerials_z          0.094615\n",
       "fouls_z            0.030769\n",
       "fouled_z           0.220000\n",
       "nsxg_z            -0.124615\n",
       "dtype: float64"
      ]
     },
     "execution_count": 908,
     "metadata": {},
     "output_type": "execute_result"
    }
   ],
   "source": [
    "pol2006\n"
   ]
  },
  {
   "cell_type": "code",
   "execution_count": 909,
   "metadata": {},
   "outputs": [],
   "source": [
    "# (-0.118462 + -0.124615) /  -0.034615"
   ]
  },
  {
   "cell_type": "markdown",
   "metadata": {},
   "source": [
    "### Fouled"
   ]
  },
  {
   "cell_type": "code",
   "execution_count": 910,
   "metadata": {},
   "outputs": [],
   "source": [
    "# .220000 - .030769"
   ]
  },
  {
   "cell_type": "code",
   "execution_count": 911,
   "metadata": {},
   "outputs": [],
   "source": [
    "# new_row = {'Country': 'Poland', 'Year': 2006, 'goals_z':-0.034615, 'xg_z':-0.118462, \n",
    "#            'boxtouches_z':0.097692, 'progpasses_z':0.214615, 'progruns_z':-0.084615, \n",
    "#            'new_xg': 7.0223024, 'Fouled': 0.189231, 'results': 32}\n",
    "\n",
    "# stats_df = stats_df.append(new_row, ignore_index=True)"
   ]
  },
  {
   "cell_type": "markdown",
   "metadata": {},
   "source": [
    "## 2002"
   ]
  },
  {
   "cell_type": "code",
   "execution_count": 912,
   "metadata": {},
   "outputs": [],
   "source": [
    "pol2002year = pol_year.loc[pol_year[\"season\"].isin(year2002)]"
   ]
  },
  {
   "cell_type": "code",
   "execution_count": 913,
   "metadata": {},
   "outputs": [],
   "source": [
    "pol2002xg = pol2002year.sort_values(by=[\"xg_z\"], ascending=False)"
   ]
  },
  {
   "cell_type": "code",
   "execution_count": 914,
   "metadata": {},
   "outputs": [],
   "source": [
    "pol2002xg13 = pol2002xg.head(13)"
   ]
  },
  {
   "cell_type": "code",
   "execution_count": 915,
   "metadata": {},
   "outputs": [],
   "source": [
    "pol2002xg13 = pol2002xg13.drop(columns=[ 'season', 'team'])\n"
   ]
  },
  {
   "cell_type": "code",
   "execution_count": 916,
   "metadata": {},
   "outputs": [],
   "source": [
    "pol2002 = pol2002xg13.mean()"
   ]
  },
  {
   "cell_type": "code",
   "execution_count": 917,
   "metadata": {},
   "outputs": [
    {
     "data": {
      "text/plain": [
       "goals_z            0.076923\n",
       "xg_z               0.341538\n",
       "crosses_z         -0.066923\n",
       "boxtouches_z       0.029231\n",
       "passes_z          -0.596923\n",
       "progpasses_z      -0.463846\n",
       "takeons_z         -0.250000\n",
       "progruns_z        -0.433846\n",
       "tackles_z         -0.432308\n",
       "interceptions_z   -0.636923\n",
       "clearances_z      -0.256923\n",
       "blocks_z           0.025385\n",
       "aerials_z          0.007692\n",
       "fouls_z            0.474615\n",
       "fouled_z          -0.214615\n",
       "nsxg_z            -0.115385\n",
       "dtype: float64"
      ]
     },
     "execution_count": 917,
     "metadata": {},
     "output_type": "execute_result"
    }
   ],
   "source": [
    "pol2002\n"
   ]
  },
  {
   "cell_type": "code",
   "execution_count": 918,
   "metadata": {},
   "outputs": [],
   "source": [
    "# (0.341538 + -0.115385) /  0.076923"
   ]
  },
  {
   "cell_type": "markdown",
   "metadata": {},
   "source": [
    "### Fouled"
   ]
  },
  {
   "cell_type": "code",
   "execution_count": 919,
   "metadata": {},
   "outputs": [],
   "source": [
    "# -0.214615 - .474615"
   ]
  },
  {
   "cell_type": "code",
   "execution_count": 920,
   "metadata": {},
   "outputs": [],
   "source": [
    "# new_row = {'Country': 'Poland', 'Year': 2002, 'goals_z':0.076923, 'xg_z':0.341538, \n",
    "#            'boxtouches_z':0.029231, 'progpasses_z':-0.463846, 'progruns_z':-0.433846, \n",
    "#            'new_xg': 2.9399919, 'Fouled': -0.68923, 'results': 32}\n",
    "\n",
    "# stats_df = stats_df.append(new_row, ignore_index=True)"
   ]
  },
  {
   "cell_type": "code",
   "execution_count": null,
   "metadata": {},
   "outputs": [],
   "source": [
    "# stats_df.corr()"
   ]
  },
  {
   "cell_type": "code",
   "execution_count": null,
   "metadata": {},
   "outputs": [],
   "source": [
    "pol2002\n",
    "pol2006\n",
    "pol2018"
   ]
  },
  {
   "cell_type": "code",
   "execution_count": 1168,
   "metadata": {},
   "outputs": [],
   "source": [
    "pol = pd.concat([pol2002, pol2006, pol2018], axis=1).T\n"
   ]
  },
  {
   "cell_type": "code",
   "execution_count": 1169,
   "metadata": {},
   "outputs": [],
   "source": [
    "pol.rename(index={0: 'Poland02', 1: 'Poland06', 2: 'Poland18'}, inplace=True)\n"
   ]
  },
  {
   "cell_type": "code",
   "execution_count": null,
   "metadata": {},
   "outputs": [],
   "source": [
    "# 02 - 25     D      Poland     3     1     0     2     3     7     −4     3\n",
    "# 06 - 21      Poland     A     3     1     0     2     2     4     −2     3\n",
    "# 18 - 25      Poland     H     3     1     0     2     3     2     5     −3\n"
   ]
  },
  {
   "cell_type": "code",
   "execution_count": 1170,
   "metadata": {},
   "outputs": [],
   "source": [
    "df2 = pol.assign(results=[25, 21, 25])\n"
   ]
  },
  {
   "cell_type": "code",
   "execution_count": 1171,
   "metadata": {},
   "outputs": [],
   "source": [
    "# df2.to_csv('Poland.csv', index=False)\n"
   ]
  },
  {
   "cell_type": "code",
   "execution_count": null,
   "metadata": {},
   "outputs": [],
   "source": []
  },
  {
   "cell_type": "code",
   "execution_count": null,
   "metadata": {},
   "outputs": [],
   "source": []
  },
  {
   "cell_type": "markdown",
   "metadata": {},
   "source": [
    "# Saudi Arabia"
   ]
  },
  {
   "cell_type": "markdown",
   "metadata": {},
   "source": [
    "## 2010 NA"
   ]
  },
  {
   "cell_type": "markdown",
   "metadata": {},
   "source": [
    "## 2014 NA"
   ]
  },
  {
   "cell_type": "markdown",
   "metadata": {},
   "source": [
    "## 2018"
   ]
  },
  {
   "cell_type": "code",
   "execution_count": 921,
   "metadata": {},
   "outputs": [],
   "source": [
    "sau = ['Saudi Arabia']"
   ]
  },
  {
   "cell_type": "code",
   "execution_count": 922,
   "metadata": {},
   "outputs": [],
   "source": [
    "sau_year = comparisons.loc[comparisons[\"team\"].isin(sau)]"
   ]
  },
  {
   "cell_type": "code",
   "execution_count": 923,
   "metadata": {},
   "outputs": [],
   "source": [
    "sau2018year = sau_year.loc[sau_year[\"season\"].isin(year2018)]"
   ]
  },
  {
   "cell_type": "code",
   "execution_count": 924,
   "metadata": {},
   "outputs": [],
   "source": [
    "sau2018xg = sau2018year.sort_values(by=[\"xg_z\"], ascending=False)"
   ]
  },
  {
   "cell_type": "code",
   "execution_count": 925,
   "metadata": {},
   "outputs": [],
   "source": [
    "sau2018xg13 = sau2018xg.head(13)"
   ]
  },
  {
   "cell_type": "code",
   "execution_count": 926,
   "metadata": {},
   "outputs": [],
   "source": [
    "sau2018xg13 = sau2018xg13.drop(columns=[ 'season', 'team'])\n"
   ]
  },
  {
   "cell_type": "code",
   "execution_count": 927,
   "metadata": {},
   "outputs": [],
   "source": [
    "sau2018 = sau2018xg13.mean()"
   ]
  },
  {
   "cell_type": "code",
   "execution_count": 928,
   "metadata": {},
   "outputs": [
    {
     "data": {
      "text/plain": [
       "goals_z           -0.066154\n",
       "xg_z               0.226154\n",
       "crosses_z          0.148462\n",
       "boxtouches_z      -0.128462\n",
       "passes_z           0.689231\n",
       "progpasses_z       0.070769\n",
       "takeons_z          0.091538\n",
       "progruns_z         0.425385\n",
       "tackles_z          0.726154\n",
       "interceptions_z    0.230000\n",
       "clearances_z      -0.324615\n",
       "blocks_z           0.072308\n",
       "aerials_z         -0.440769\n",
       "fouls_z           -0.173846\n",
       "fouled_z           0.296154\n",
       "nsxg_z            -0.046923\n",
       "dtype: float64"
      ]
     },
     "execution_count": 928,
     "metadata": {},
     "output_type": "execute_result"
    }
   ],
   "source": [
    "sau2018"
   ]
  },
  {
   "cell_type": "code",
   "execution_count": 929,
   "metadata": {},
   "outputs": [],
   "source": [
    "# (0.226154 + -0.046923) /  -0.066154"
   ]
  },
  {
   "cell_type": "markdown",
   "metadata": {},
   "source": [
    "### Fouled"
   ]
  },
  {
   "cell_type": "code",
   "execution_count": 930,
   "metadata": {},
   "outputs": [],
   "source": [
    "# .296154 - -0.173846"
   ]
  },
  {
   "cell_type": "code",
   "execution_count": 931,
   "metadata": {},
   "outputs": [],
   "source": [
    "# new_row = {'Country': 'Saudi Arabia', 'Year': 2018, 'goals_z':-0.066154, 'xg_z':0.226154, \n",
    "#            'boxtouches_z':-0.128462, 'progpasses_z':0.070769, 'progruns_z':0.425385, \n",
    "#            'new_xg': -2.7092995, 'Fouled': 0.47, 'results': 32}\n",
    "\n",
    "# stats_df = stats_df.append(new_row, ignore_index=True)"
   ]
  },
  {
   "cell_type": "code",
   "execution_count": null,
   "metadata": {},
   "outputs": [],
   "source": [
    "# stats_df"
   ]
  },
  {
   "cell_type": "markdown",
   "metadata": {},
   "source": [
    "## 2006"
   ]
  },
  {
   "cell_type": "code",
   "execution_count": 932,
   "metadata": {},
   "outputs": [],
   "source": [
    "sau2006year = sau_year.loc[sau_year[\"season\"].isin(year2006)]"
   ]
  },
  {
   "cell_type": "code",
   "execution_count": 933,
   "metadata": {},
   "outputs": [],
   "source": [
    "sau2006xg = sau2006year.sort_values(by=[\"xg_z\"], ascending=False)"
   ]
  },
  {
   "cell_type": "code",
   "execution_count": 934,
   "metadata": {},
   "outputs": [],
   "source": [
    "sau2006xg13 = sau2006xg.head(13)"
   ]
  },
  {
   "cell_type": "code",
   "execution_count": 935,
   "metadata": {},
   "outputs": [],
   "source": [
    "sau2006xg13 = sau2006xg13.drop(columns=[ 'season', 'team'])\n"
   ]
  },
  {
   "cell_type": "code",
   "execution_count": 936,
   "metadata": {},
   "outputs": [],
   "source": [
    "sau2006 = sau2006xg13.mean()"
   ]
  },
  {
   "cell_type": "code",
   "execution_count": 937,
   "metadata": {},
   "outputs": [
    {
     "data": {
      "text/plain": [
       "goals_z           -0.035385\n",
       "xg_z              -0.023846\n",
       "crosses_z         -0.235385\n",
       "boxtouches_z      -0.099231\n",
       "passes_z           0.045385\n",
       "progpasses_z      -0.050769\n",
       "takeons_z          0.289231\n",
       "progruns_z         0.590000\n",
       "tackles_z          0.285385\n",
       "interceptions_z    0.291538\n",
       "clearances_z       0.198462\n",
       "blocks_z           0.446154\n",
       "aerials_z          0.093846\n",
       "fouls_z            0.446923\n",
       "fouled_z           0.460000\n",
       "nsxg_z             0.019231\n",
       "dtype: float64"
      ]
     },
     "execution_count": 937,
     "metadata": {},
     "output_type": "execute_result"
    }
   ],
   "source": [
    "sau2006\n"
   ]
  },
  {
   "cell_type": "code",
   "execution_count": 938,
   "metadata": {},
   "outputs": [],
   "source": [
    "# (-0.099231 + 0.019231) /  -0.035385"
   ]
  },
  {
   "cell_type": "markdown",
   "metadata": {},
   "source": [
    "### Fouled"
   ]
  },
  {
   "cell_type": "code",
   "execution_count": 939,
   "metadata": {},
   "outputs": [],
   "source": [
    "# .460000 - .446923"
   ]
  },
  {
   "cell_type": "code",
   "execution_count": 940,
   "metadata": {},
   "outputs": [],
   "source": [
    "# new_row = {'Country': 'Saudi Arabia', 'Year': 2006, 'goals_z':-0.035385, 'xg_z':-0.023846, \n",
    "#            'boxtouches_z':-0.099231, 'progpasses_z':-0.050769, 'progruns_z':0.590000, \n",
    "#            'new_xg': 2.26084499, 'Fouled': 0.01307700, 'results': 32}\n",
    "\n",
    "# stats_df = stats_df.append(new_row, ignore_index=True)"
   ]
  },
  {
   "cell_type": "markdown",
   "metadata": {},
   "source": [
    "## 2002"
   ]
  },
  {
   "cell_type": "code",
   "execution_count": 941,
   "metadata": {},
   "outputs": [],
   "source": [
    "sau2002year = sau_year.loc[sau_year[\"season\"].isin(year2002)]"
   ]
  },
  {
   "cell_type": "code",
   "execution_count": 942,
   "metadata": {},
   "outputs": [],
   "source": [
    "sau2002xg = sau2002year.sort_values(by=[\"xg_z\"], ascending=False)"
   ]
  },
  {
   "cell_type": "code",
   "execution_count": 943,
   "metadata": {},
   "outputs": [],
   "source": [
    "sau2002xg13 = sau2002xg.head(13)"
   ]
  },
  {
   "cell_type": "code",
   "execution_count": 944,
   "metadata": {},
   "outputs": [],
   "source": [
    "sau2002xg13 = sau2002xg13.drop(columns=[ 'season', 'team'])\n"
   ]
  },
  {
   "cell_type": "code",
   "execution_count": 945,
   "metadata": {},
   "outputs": [],
   "source": [
    "sau2002 = sau2002xg13.mean()"
   ]
  },
  {
   "cell_type": "code",
   "execution_count": 946,
   "metadata": {},
   "outputs": [
    {
     "data": {
      "text/plain": [
       "goals_z           -0.410000\n",
       "xg_z              -0.271538\n",
       "crosses_z         -0.201538\n",
       "boxtouches_z      -0.313077\n",
       "passes_z           0.321538\n",
       "progpasses_z      -0.080769\n",
       "takeons_z          0.053077\n",
       "progruns_z        -0.030769\n",
       "tackles_z         -0.309231\n",
       "interceptions_z   -0.114615\n",
       "clearances_z       0.203077\n",
       "blocks_z          -0.212308\n",
       "aerials_z         -0.440769\n",
       "fouls_z           -0.219231\n",
       "fouled_z           0.034615\n",
       "nsxg_z            -0.321538\n",
       "dtype: float64"
      ]
     },
     "execution_count": 946,
     "metadata": {},
     "output_type": "execute_result"
    }
   ],
   "source": [
    "sau2002\n"
   ]
  },
  {
   "cell_type": "code",
   "execution_count": 947,
   "metadata": {},
   "outputs": [],
   "source": [
    "# (-0.271538 + -0.321538) /  -0.410000"
   ]
  },
  {
   "cell_type": "markdown",
   "metadata": {},
   "source": [
    "### Fouled"
   ]
  },
  {
   "cell_type": "code",
   "execution_count": 948,
   "metadata": {},
   "outputs": [],
   "source": [
    "# .034615 - -0.219231"
   ]
  },
  {
   "cell_type": "code",
   "execution_count": 949,
   "metadata": {},
   "outputs": [],
   "source": [
    "# new_row = {'Country': 'Saudi Arabia', 'Year': 2002, 'goals_z':-0.410000, 'xg_z':-0.271538, \n",
    "#            'boxtouches_z':-0.313077, 'progpasses_z':-0.080769, 'progruns_z':-0.030769, \n",
    "#            'new_xg':1.446526829, 'Fouled':0.253846, 'results': 32}\n",
    "\n",
    "# stats_df = stats_df.append(new_row, ignore_index=True)"
   ]
  },
  {
   "cell_type": "code",
   "execution_count": null,
   "metadata": {},
   "outputs": [],
   "source": [
    "sau2002\n",
    "sau2006\n",
    "sau2018"
   ]
  },
  {
   "cell_type": "code",
   "execution_count": 1172,
   "metadata": {},
   "outputs": [],
   "source": [
    "sau = pd.concat([sau2002, sau2006, sau2018], axis=1).T\n"
   ]
  },
  {
   "cell_type": "code",
   "execution_count": 1173,
   "metadata": {},
   "outputs": [],
   "source": [
    "sau.rename(index={0: 'Saudi02', 1: 'Saudi06', 2: 'Saudi18'}, inplace=True)\n"
   ]
  },
  {
   "cell_type": "code",
   "execution_count": null,
   "metadata": {},
   "outputs": [],
   "source": [
    "# 02 - 32     E      Saudi Arabia     3     0     0     3     0     12     −12     0\n",
    "# 06 - 29 Saudi Arabia     H     3     0     1     2     2     7     −5     1\n",
    "# 18 - 26      Saudi Arabia     A     3     1     0     2     3     2     7     −5\n"
   ]
  },
  {
   "cell_type": "code",
   "execution_count": 1175,
   "metadata": {},
   "outputs": [],
   "source": [
    "df2 = sau.assign(results=[32, 29, 26])\n"
   ]
  },
  {
   "cell_type": "code",
   "execution_count": 1176,
   "metadata": {},
   "outputs": [],
   "source": [
    "# df2.to_csv('SaudI.csv', index=False)\n"
   ]
  },
  {
   "cell_type": "code",
   "execution_count": null,
   "metadata": {},
   "outputs": [],
   "source": []
  },
  {
   "cell_type": "markdown",
   "metadata": {},
   "source": [
    "# Tunisia"
   ]
  },
  {
   "cell_type": "markdown",
   "metadata": {},
   "source": [
    "## 2010 NA\n"
   ]
  },
  {
   "cell_type": "markdown",
   "metadata": {},
   "source": [
    "## 2014 NA"
   ]
  },
  {
   "cell_type": "markdown",
   "metadata": {},
   "source": [
    "## 2018"
   ]
  },
  {
   "cell_type": "code",
   "execution_count": 950,
   "metadata": {},
   "outputs": [],
   "source": [
    "tun = ['Tunisia']"
   ]
  },
  {
   "cell_type": "code",
   "execution_count": 951,
   "metadata": {},
   "outputs": [],
   "source": [
    "tun_year = comparisons.loc[comparisons[\"team\"].isin(tun)]"
   ]
  },
  {
   "cell_type": "code",
   "execution_count": 952,
   "metadata": {},
   "outputs": [],
   "source": [
    "tun2018year = tun_year.loc[tun_year[\"season\"].isin(year2018)]"
   ]
  },
  {
   "cell_type": "code",
   "execution_count": 953,
   "metadata": {},
   "outputs": [],
   "source": [
    "tun2018xg = tun2018year.sort_values(by=[\"xg_z\"], ascending=False)"
   ]
  },
  {
   "cell_type": "code",
   "execution_count": 954,
   "metadata": {},
   "outputs": [],
   "source": [
    "tun2018xg13 = tun2018xg.head(13)"
   ]
  },
  {
   "cell_type": "code",
   "execution_count": 955,
   "metadata": {},
   "outputs": [],
   "source": [
    "tun2018xg13 = tun2018xg13.drop(columns=[ 'season', 'team'])\n"
   ]
  },
  {
   "cell_type": "code",
   "execution_count": 956,
   "metadata": {},
   "outputs": [],
   "source": [
    "tun2018 = tun2018xg13.mean()"
   ]
  },
  {
   "cell_type": "code",
   "execution_count": 957,
   "metadata": {},
   "outputs": [
    {
     "data": {
      "text/plain": [
       "goals_z            0.463846\n",
       "xg_z               0.343077\n",
       "crosses_z          0.029231\n",
       "boxtouches_z      -0.026154\n",
       "passes_z           0.173077\n",
       "progpasses_z       0.200769\n",
       "takeons_z          0.092308\n",
       "progruns_z         0.123077\n",
       "tackles_z          0.163846\n",
       "interceptions_z   -0.186923\n",
       "clearances_z      -0.276154\n",
       "blocks_z           0.076923\n",
       "aerials_z         -0.283077\n",
       "fouls_z            0.237692\n",
       "fouled_z           0.100000\n",
       "nsxg_z             0.160000\n",
       "dtype: float64"
      ]
     },
     "execution_count": 957,
     "metadata": {},
     "output_type": "execute_result"
    }
   ],
   "source": [
    "tun2018"
   ]
  },
  {
   "cell_type": "code",
   "execution_count": 958,
   "metadata": {},
   "outputs": [],
   "source": [
    "# (0.343077 + 0.160000) /  0.463846"
   ]
  },
  {
   "cell_type": "markdown",
   "metadata": {},
   "source": [
    "### Fouled\n"
   ]
  },
  {
   "cell_type": "code",
   "execution_count": 959,
   "metadata": {},
   "outputs": [],
   "source": [
    "# .100000 - .237692"
   ]
  },
  {
   "cell_type": "code",
   "execution_count": 960,
   "metadata": {},
   "outputs": [],
   "source": [
    "# new_row = {'Country': 'Tunisia', 'Year': 2018, 'goals_z':0.463846, 'xg_z':0.343077, \n",
    "#            'boxtouches_z':-0.026154, 'progpasses_z':0.200769, 'progruns_z':0.123077, \n",
    "#            'new_xg': 1.0845776, 'Fouled': -0.1376919, 'results': 32}\n",
    "\n",
    "# stats_df = stats_df.append(new_row, ignore_index=True)"
   ]
  },
  {
   "cell_type": "markdown",
   "metadata": {},
   "source": [
    "## 2006"
   ]
  },
  {
   "cell_type": "code",
   "execution_count": 961,
   "metadata": {},
   "outputs": [],
   "source": [
    "tun2006year = tun_year.loc[tun_year[\"season\"].isin(year2006)]"
   ]
  },
  {
   "cell_type": "code",
   "execution_count": 962,
   "metadata": {},
   "outputs": [],
   "source": [
    "tun2006xg = tun2006year.sort_values(by=[\"xg_z\"], ascending=False)"
   ]
  },
  {
   "cell_type": "code",
   "execution_count": 963,
   "metadata": {},
   "outputs": [],
   "source": [
    "tun2006xg13 = tun2006xg.head(13)"
   ]
  },
  {
   "cell_type": "code",
   "execution_count": 964,
   "metadata": {},
   "outputs": [],
   "source": [
    "tun2006xg13 = tun2006xg13.drop(columns=[ 'season', 'team'])\n"
   ]
  },
  {
   "cell_type": "code",
   "execution_count": 965,
   "metadata": {},
   "outputs": [],
   "source": [
    "tun2006 = tun2006xg13.mean()"
   ]
  },
  {
   "cell_type": "code",
   "execution_count": 966,
   "metadata": {},
   "outputs": [
    {
     "data": {
      "text/plain": [
       "goals_z            0.156923\n",
       "xg_z              -0.142308\n",
       "crosses_z         -0.286154\n",
       "boxtouches_z      -0.237692\n",
       "passes_z           0.081538\n",
       "progpasses_z       0.091538\n",
       "takeons_z          0.200000\n",
       "progruns_z        -0.355385\n",
       "tackles_z          0.159231\n",
       "interceptions_z    0.492308\n",
       "clearances_z       0.458462\n",
       "blocks_z           0.105385\n",
       "aerials_z          0.020000\n",
       "fouls_z            0.446154\n",
       "fouled_z          -0.020000\n",
       "nsxg_z            -0.415385\n",
       "dtype: float64"
      ]
     },
     "execution_count": 966,
     "metadata": {},
     "output_type": "execute_result"
    }
   ],
   "source": [
    "tun2006\n"
   ]
  },
  {
   "cell_type": "code",
   "execution_count": 967,
   "metadata": {},
   "outputs": [],
   "source": [
    "# (-0.142308 + -0.415385) /  0.156923"
   ]
  },
  {
   "cell_type": "markdown",
   "metadata": {},
   "source": [
    "### Fouled"
   ]
  },
  {
   "cell_type": "code",
   "execution_count": 968,
   "metadata": {},
   "outputs": [],
   "source": [
    "# -0.020000 - .446154"
   ]
  },
  {
   "cell_type": "code",
   "execution_count": 969,
   "metadata": {},
   "outputs": [],
   "source": [
    "# new_row = {'Country': 'Tunisia', 'Year': 2006, 'goals_z':0.156923, 'xg_z':-0.142308, \n",
    "#            'boxtouches_z':-0.237692, 'progpasses_z':0.091538, 'progruns_z':-0.355385, \n",
    "#            'new_xg': -3.5539277, 'Fouled': -0.466154, 'results': 32}\n",
    "\n",
    "# stats_df = stats_df.append(new_row, ignore_index=True)"
   ]
  },
  {
   "cell_type": "markdown",
   "metadata": {},
   "source": [
    "## 2002"
   ]
  },
  {
   "cell_type": "code",
   "execution_count": 970,
   "metadata": {},
   "outputs": [],
   "source": [
    "tun2002year = tun_year.loc[tun_year[\"season\"].isin(year2002)]"
   ]
  },
  {
   "cell_type": "code",
   "execution_count": 971,
   "metadata": {},
   "outputs": [],
   "source": [
    "tun2002xg = tun2002year.sort_values(by=[\"xg_z\"], ascending=False)"
   ]
  },
  {
   "cell_type": "code",
   "execution_count": 972,
   "metadata": {},
   "outputs": [],
   "source": [
    "tun2002xg13 = tun2002xg.head(13)"
   ]
  },
  {
   "cell_type": "code",
   "execution_count": 973,
   "metadata": {},
   "outputs": [],
   "source": [
    "tun2002xg13 = tun2002xg13.drop(columns=[ 'season', 'team'])\n"
   ]
  },
  {
   "cell_type": "code",
   "execution_count": 974,
   "metadata": {},
   "outputs": [],
   "source": [
    "tun2002 = tun2002xg13.mean()"
   ]
  },
  {
   "cell_type": "code",
   "execution_count": 975,
   "metadata": {},
   "outputs": [
    {
     "data": {
      "text/plain": [
       "goals_z           -0.247692\n",
       "xg_z              -0.069231\n",
       "crosses_z         -0.022308\n",
       "boxtouches_z       0.017692\n",
       "passes_z          -0.474615\n",
       "progpasses_z      -0.369231\n",
       "takeons_z         -0.120000\n",
       "progruns_z        -0.477692\n",
       "tackles_z         -0.590769\n",
       "interceptions_z   -0.649231\n",
       "clearances_z       0.031538\n",
       "blocks_z          -0.207692\n",
       "aerials_z         -0.248462\n",
       "fouls_z            0.097692\n",
       "fouled_z          -0.076923\n",
       "nsxg_z            -0.113077\n",
       "dtype: float64"
      ]
     },
     "execution_count": 975,
     "metadata": {},
     "output_type": "execute_result"
    }
   ],
   "source": [
    "tun2002\n"
   ]
  },
  {
   "cell_type": "code",
   "execution_count": 976,
   "metadata": {},
   "outputs": [],
   "source": [
    "# (-0.069231 + -0.113077) /  -0.247692"
   ]
  },
  {
   "cell_type": "code",
   "execution_count": null,
   "metadata": {},
   "outputs": [],
   "source": [
    "tun2002\n",
    "tun2006\n",
    "tun2018"
   ]
  },
  {
   "cell_type": "code",
   "execution_count": 1177,
   "metadata": {},
   "outputs": [],
   "source": [
    "tun = pd.concat([tun2002, tun2006, tun2018], axis=1).T\n"
   ]
  },
  {
   "cell_type": "code",
   "execution_count": 1178,
   "metadata": {},
   "outputs": [],
   "source": [
    "tun.rename(index={0: 'Tunisia02', 1: 'Tunisia06', 2: 'Tunisia18'}, inplace=True)\n"
   ]
  },
  {
   "cell_type": "code",
   "execution_count": null,
   "metadata": {},
   "outputs": [],
   "source": [
    "# 02 - 29     H      Tunisia     3     0     1     2     1     5     −4     1\n",
    "# 06 - 24      Tunisia     H     3     0     1     2     3     6     −3     1\n",
    "# 18 - 24      Tunisia     G     3     1     0     2     3     5     8     −3\n"
   ]
  },
  {
   "cell_type": "code",
   "execution_count": 1179,
   "metadata": {},
   "outputs": [],
   "source": [
    "df2 = tun.assign(results=[29, 24, 24])\n"
   ]
  },
  {
   "cell_type": "code",
   "execution_count": 1180,
   "metadata": {},
   "outputs": [],
   "source": [
    "# df2.to_csv('Tunisia.csv', index=False)\n"
   ]
  },
  {
   "cell_type": "code",
   "execution_count": null,
   "metadata": {},
   "outputs": [],
   "source": []
  },
  {
   "cell_type": "code",
   "execution_count": null,
   "metadata": {},
   "outputs": [],
   "source": []
  },
  {
   "cell_type": "code",
   "execution_count": null,
   "metadata": {},
   "outputs": [],
   "source": []
  },
  {
   "cell_type": "code",
   "execution_count": null,
   "metadata": {},
   "outputs": [],
   "source": []
  },
  {
   "cell_type": "code",
   "execution_count": null,
   "metadata": {},
   "outputs": [],
   "source": []
  },
  {
   "cell_type": "code",
   "execution_count": null,
   "metadata": {},
   "outputs": [],
   "source": []
  },
  {
   "cell_type": "code",
   "execution_count": null,
   "metadata": {},
   "outputs": [],
   "source": []
  },
  {
   "cell_type": "markdown",
   "metadata": {},
   "source": [
    "### Fouled"
   ]
  },
  {
   "cell_type": "code",
   "execution_count": 977,
   "metadata": {},
   "outputs": [],
   "source": [
    "# -0.076923 - .097692"
   ]
  },
  {
   "cell_type": "code",
   "execution_count": 978,
   "metadata": {},
   "outputs": [],
   "source": [
    "# new_row = {'Country': 'Tunisia', 'Year': 2002, 'goals_z':-0.247692, 'xg_z':-0.069231, \n",
    "#            'boxtouches_z':0.017692, 'progpasses_z':-0.369231, 'progruns_z':-0.477692, \n",
    "#            'new_xg': 0.7360270012, 'Fouled': -0.17461500000, 'results': 32}\n",
    "\n",
    "# stats_df = stats_df.append(new_row, ignore_index=True)"
   ]
  },
  {
   "cell_type": "markdown",
   "metadata": {},
   "source": [
    "# Japan"
   ]
  },
  {
   "cell_type": "markdown",
   "metadata": {},
   "source": [
    "## 2014"
   ]
  },
  {
   "cell_type": "code",
   "execution_count": 979,
   "metadata": {},
   "outputs": [],
   "source": [
    "jap = ['Japan']"
   ]
  },
  {
   "cell_type": "code",
   "execution_count": 980,
   "metadata": {},
   "outputs": [],
   "source": [
    "jap_year = comparisons.loc[comparisons[\"team\"].isin(jap)]"
   ]
  },
  {
   "cell_type": "code",
   "execution_count": 981,
   "metadata": {},
   "outputs": [],
   "source": [
    "jap2014year = jap_year.loc[jap_year[\"season\"].isin(year2014)]"
   ]
  },
  {
   "cell_type": "code",
   "execution_count": 982,
   "metadata": {},
   "outputs": [],
   "source": [
    "jap2014xg = jap2014year.sort_values(by=[\"xg_z\"], ascending=False)"
   ]
  },
  {
   "cell_type": "code",
   "execution_count": 983,
   "metadata": {},
   "outputs": [],
   "source": [
    "jap2014xg13 = jap2014xg.head(13)"
   ]
  },
  {
   "cell_type": "code",
   "execution_count": 984,
   "metadata": {},
   "outputs": [],
   "source": [
    "jap2014xg13 = jap2014xg13.drop(columns=['season', 'team'])\n"
   ]
  },
  {
   "cell_type": "code",
   "execution_count": 985,
   "metadata": {},
   "outputs": [],
   "source": [
    "jap2014 = jap2014xg13.mean()"
   ]
  },
  {
   "cell_type": "code",
   "execution_count": 986,
   "metadata": {},
   "outputs": [
    {
     "data": {
      "text/plain": [
       "goals_z           -0.093077\n",
       "xg_z               0.253846\n",
       "crosses_z          0.100000\n",
       "boxtouches_z       0.639231\n",
       "passes_z           0.347692\n",
       "progpasses_z       0.151538\n",
       "takeons_z          0.116923\n",
       "progruns_z         0.280000\n",
       "tackles_z          0.226923\n",
       "interceptions_z    0.536923\n",
       "clearances_z      -0.128462\n",
       "blocks_z           0.083846\n",
       "aerials_z          0.141538\n",
       "fouls_z            0.257692\n",
       "fouled_z           0.433077\n",
       "nsxg_z             0.644615\n",
       "dtype: float64"
      ]
     },
     "execution_count": 986,
     "metadata": {},
     "output_type": "execute_result"
    }
   ],
   "source": [
    "jap2014"
   ]
  },
  {
   "cell_type": "code",
   "execution_count": 987,
   "metadata": {},
   "outputs": [],
   "source": [
    "# (0.253846 + 0.644615) /  -0.093077"
   ]
  },
  {
   "cell_type": "markdown",
   "metadata": {},
   "source": [
    "### Fouled"
   ]
  },
  {
   "cell_type": "code",
   "execution_count": 988,
   "metadata": {},
   "outputs": [],
   "source": [
    "# .433077 - .257692"
   ]
  },
  {
   "cell_type": "code",
   "execution_count": 989,
   "metadata": {},
   "outputs": [],
   "source": [
    "# new_row = {'Country': 'Japan', 'Year': 2014, 'goals_z':-0.093077, 'xg_z':0.253846, \n",
    "#            'boxtouches_z':0.639231, 'progpasses_z':0.151538, 'progruns_z':0.280000, \n",
    "#            'new_xg': -9.6528787, 'Fouled': 0.175385, 'results': 32}\n",
    "\n",
    "# stats_df = stats_df.append(new_row, ignore_index=True)"
   ]
  },
  {
   "cell_type": "markdown",
   "metadata": {},
   "source": [
    "## 2018"
   ]
  },
  {
   "cell_type": "markdown",
   "metadata": {},
   "source": [
    "## 2006"
   ]
  },
  {
   "cell_type": "code",
   "execution_count": 990,
   "metadata": {},
   "outputs": [],
   "source": [
    "jap2006year = jap_year.loc[jap_year[\"season\"].isin(year2006)]"
   ]
  },
  {
   "cell_type": "code",
   "execution_count": 991,
   "metadata": {},
   "outputs": [],
   "source": [
    "jap2006xg = jap2006year.sort_values(by=[\"xg_z\"], ascending=False)"
   ]
  },
  {
   "cell_type": "code",
   "execution_count": 992,
   "metadata": {},
   "outputs": [],
   "source": [
    "jap2006xg13 = jap2006xg.head(13)"
   ]
  },
  {
   "cell_type": "code",
   "execution_count": 993,
   "metadata": {},
   "outputs": [],
   "source": [
    "jap2006xg13 = jap2006xg13.drop(columns=['season', 'team'])\n"
   ]
  },
  {
   "cell_type": "code",
   "execution_count": 994,
   "metadata": {},
   "outputs": [],
   "source": [
    "jap2006 = jap2006xg13.mean()"
   ]
  },
  {
   "cell_type": "code",
   "execution_count": 995,
   "metadata": {},
   "outputs": [
    {
     "data": {
      "text/plain": [
       "goals_z           -0.035385\n",
       "xg_z              -0.093077\n",
       "crosses_z         -0.184615\n",
       "boxtouches_z      -0.063077\n",
       "passes_z          -0.001538\n",
       "progpasses_z      -0.181538\n",
       "takeons_z          0.110769\n",
       "progruns_z         0.426923\n",
       "tackles_z         -0.035385\n",
       "interceptions_z   -0.188462\n",
       "clearances_z       0.108462\n",
       "blocks_z           0.010769\n",
       "aerials_z         -0.473846\n",
       "fouls_z           -0.449231\n",
       "fouled_z           0.220000\n",
       "nsxg_z            -0.027692\n",
       "dtype: float64"
      ]
     },
     "execution_count": 995,
     "metadata": {},
     "output_type": "execute_result"
    }
   ],
   "source": [
    "jap2006\n"
   ]
  },
  {
   "cell_type": "code",
   "execution_count": 996,
   "metadata": {},
   "outputs": [],
   "source": [
    "# (-0.093077 + -0.027692) /  -0.035385"
   ]
  },
  {
   "cell_type": "markdown",
   "metadata": {},
   "source": [
    "### Fouled"
   ]
  },
  {
   "cell_type": "code",
   "execution_count": 997,
   "metadata": {},
   "outputs": [],
   "source": [
    "# .220000 - -.449231"
   ]
  },
  {
   "cell_type": "code",
   "execution_count": 998,
   "metadata": {},
   "outputs": [],
   "source": [
    "# new_row = {'Country': 'Japan', 'Year': 2006, 'goals_z':-0.035385, 'xg_z':-0.093077, \n",
    "#            'boxtouches_z':-0.063077, 'progpasses_z':0.151538, 'progruns_z':0.426923, \n",
    "#            'new_xg': 3.41299985, 'Fouled': 0.669231, 'results': 32}\n",
    "\n",
    "# stats_df = stats_df.append(new_row, ignore_index=True)"
   ]
  },
  {
   "cell_type": "markdown",
   "metadata": {},
   "source": [
    "## 2002"
   ]
  },
  {
   "cell_type": "code",
   "execution_count": 999,
   "metadata": {},
   "outputs": [],
   "source": [
    "jap2002year = jap_year.loc[jap_year[\"season\"].isin(year2002)]"
   ]
  },
  {
   "cell_type": "code",
   "execution_count": 1000,
   "metadata": {},
   "outputs": [],
   "source": [
    "jap2002xg = jap2002year.sort_values(by=[\"xg_z\"], ascending=False)"
   ]
  },
  {
   "cell_type": "code",
   "execution_count": 1001,
   "metadata": {},
   "outputs": [],
   "source": [
    "jap2002xg13 = jap2002xg.head(13)"
   ]
  },
  {
   "cell_type": "code",
   "execution_count": 1002,
   "metadata": {},
   "outputs": [],
   "source": [
    "jap2002xg13 = jap2002xg13.drop(columns=['season', 'team'])\n"
   ]
  },
  {
   "cell_type": "code",
   "execution_count": 1003,
   "metadata": {},
   "outputs": [],
   "source": [
    "jap2002 = jap2002xg13.mean()"
   ]
  },
  {
   "cell_type": "code",
   "execution_count": 1004,
   "metadata": {},
   "outputs": [
    {
     "data": {
      "text/plain": [
       "goals_z            0.198462\n",
       "xg_z              -0.116154\n",
       "crosses_z         -0.090000\n",
       "boxtouches_z      -0.013077\n",
       "passes_z           0.193077\n",
       "progpasses_z       0.132308\n",
       "takeons_z          0.010769\n",
       "progruns_z         0.395385\n",
       "tackles_z          0.102308\n",
       "interceptions_z    0.802308\n",
       "clearances_z      -0.154615\n",
       "blocks_z          -0.013077\n",
       "aerials_z          0.016154\n",
       "fouls_z            0.668462\n",
       "fouled_z           0.585385\n",
       "nsxg_z            -0.030000\n",
       "dtype: float64"
      ]
     },
     "execution_count": 1004,
     "metadata": {},
     "output_type": "execute_result"
    }
   ],
   "source": [
    "jap2002\n"
   ]
  },
  {
   "cell_type": "code",
   "execution_count": 1006,
   "metadata": {},
   "outputs": [],
   "source": [
    "# (-0.116154 + -0.030000) /  0.198462"
   ]
  },
  {
   "cell_type": "markdown",
   "metadata": {},
   "source": [
    "### Fouled"
   ]
  },
  {
   "cell_type": "code",
   "execution_count": 1007,
   "metadata": {},
   "outputs": [],
   "source": [
    "# .585385 - .668462"
   ]
  },
  {
   "cell_type": "code",
   "execution_count": 1008,
   "metadata": {},
   "outputs": [],
   "source": [
    "# new_row = {'Country': 'Japan', 'Year': 2002, 'goals_z':0.198462, 'xg_z':-0.116154, \n",
    "#            'boxtouches_z':-0.013077, 'progpasses_z':0.132308, 'progruns_z':0.395385, \n",
    "#            'new_xg': -0.73643317, 'Fouled': -0.0830769999, 'results': 16}\n",
    "\n",
    "# stats_df = stats_df.append(new_row, ignore_index=True)"
   ]
  },
  {
   "cell_type": "code",
   "execution_count": null,
   "metadata": {},
   "outputs": [],
   "source": [
    "jap2002\n",
    "jap2006\n",
    "jap2014"
   ]
  },
  {
   "cell_type": "code",
   "execution_count": 1181,
   "metadata": {},
   "outputs": [],
   "source": [
    "jap = pd.concat([jap2002, jap2006, jap2014], axis=1).T\n",
    "\n"
   ]
  },
  {
   "cell_type": "code",
   "execution_count": 1183,
   "metadata": {},
   "outputs": [],
   "source": [
    "jap.rename(index={0: 'Japan02', 1: 'Japan06', 2: 'Japan14'}, inplace=True)\n"
   ]
  },
  {
   "cell_type": "code",
   "execution_count": null,
   "metadata": {},
   "outputs": [],
   "source": [
    "# 02 - 9     H      Japan     4     2     1     1     5     3     +2     7\n",
    "# 06 - 28      Japan     F     3     0     1     2     2     7     −5     1\n",
    "# 10 - 9      Japan     E     4     2     1     1     4     2     +2     7\n",
    "# 14 - 29      Japan     C     3     0     1     2     1     2     6     −4\n",
    "# 18 - 15      Japan     H     4     1     1     2     4     6     7     −1\n"
   ]
  },
  {
   "cell_type": "code",
   "execution_count": 1184,
   "metadata": {},
   "outputs": [],
   "source": [
    "df2 = jap.assign(results=[9, 28, 29])\n"
   ]
  },
  {
   "cell_type": "code",
   "execution_count": 1185,
   "metadata": {},
   "outputs": [],
   "source": [
    "# df2.to_csv('Japan.csv', index=False)\n"
   ]
  },
  {
   "cell_type": "code",
   "execution_count": null,
   "metadata": {},
   "outputs": [],
   "source": []
  },
  {
   "cell_type": "code",
   "execution_count": null,
   "metadata": {},
   "outputs": [],
   "source": []
  },
  {
   "cell_type": "code",
   "execution_count": null,
   "metadata": {},
   "outputs": [],
   "source": []
  },
  {
   "cell_type": "markdown",
   "metadata": {},
   "source": [
    "# Croatia"
   ]
  },
  {
   "cell_type": "markdown",
   "metadata": {},
   "source": [
    "## 2010 NA"
   ]
  },
  {
   "cell_type": "markdown",
   "metadata": {},
   "source": [
    "## 2014"
   ]
  },
  {
   "cell_type": "code",
   "execution_count": 1009,
   "metadata": {},
   "outputs": [],
   "source": [
    "cro = ['Croatia']"
   ]
  },
  {
   "cell_type": "code",
   "execution_count": 1010,
   "metadata": {},
   "outputs": [],
   "source": [
    "cro_year = comparisons.loc[comparisons[\"team\"].isin(cro)]"
   ]
  },
  {
   "cell_type": "code",
   "execution_count": 1011,
   "metadata": {},
   "outputs": [],
   "source": [
    "cro2014year = cro_year.loc[cro_year[\"season\"].isin(year2014)]"
   ]
  },
  {
   "cell_type": "code",
   "execution_count": 1012,
   "metadata": {},
   "outputs": [],
   "source": [
    "cro2014xg = cro2014year.sort_values(by=[\"xg_z\"], ascending=False)"
   ]
  },
  {
   "cell_type": "code",
   "execution_count": 1013,
   "metadata": {},
   "outputs": [],
   "source": [
    "cro2014xg13 = cro2014xg.head(13)"
   ]
  },
  {
   "cell_type": "code",
   "execution_count": 1014,
   "metadata": {},
   "outputs": [],
   "source": [
    "cro2014xg13 = cro2014xg13.drop(columns=['season', 'team'])\n"
   ]
  },
  {
   "cell_type": "code",
   "execution_count": 1015,
   "metadata": {},
   "outputs": [],
   "source": [
    "cro2014 = cro2014xg13.mean()"
   ]
  },
  {
   "cell_type": "code",
   "execution_count": 1016,
   "metadata": {},
   "outputs": [
    {
     "data": {
      "text/plain": [
       "goals_z            0.412308\n",
       "xg_z               0.366923\n",
       "crosses_z          0.506923\n",
       "boxtouches_z       0.516154\n",
       "passes_z           0.007692\n",
       "progpasses_z       0.140000\n",
       "takeons_z         -0.050000\n",
       "progruns_z         0.035385\n",
       "tackles_z          0.035385\n",
       "interceptions_z    0.260769\n",
       "clearances_z       0.277692\n",
       "blocks_z           0.443846\n",
       "aerials_z          0.477692\n",
       "fouls_z            0.330769\n",
       "fouled_z          -0.196154\n",
       "nsxg_z             0.233846\n",
       "dtype: float64"
      ]
     },
     "execution_count": 1016,
     "metadata": {},
     "output_type": "execute_result"
    }
   ],
   "source": [
    "cro2014"
   ]
  },
  {
   "cell_type": "code",
   "execution_count": 1017,
   "metadata": {},
   "outputs": [],
   "source": [
    "# (0.366923 + 0.233846) /  0.412308"
   ]
  },
  {
   "cell_type": "markdown",
   "metadata": {},
   "source": [
    "### Fouled"
   ]
  },
  {
   "cell_type": "code",
   "execution_count": 1018,
   "metadata": {},
   "outputs": [],
   "source": [
    "# -0.196154 - .330769"
   ]
  },
  {
   "cell_type": "code",
   "execution_count": 1019,
   "metadata": {},
   "outputs": [],
   "source": [
    "# new_row = {'Country': 'Croatia', 'Year': 2014, 'goals_z':0.412308, 'xg_z':0.366923, \n",
    "#            'boxtouches_z':0.516154, 'progpasses_z':0.140000, 'progruns_z':0.035385, \n",
    "#            'new_xg': 1.457087, 'Fouled': -0.526923, 'results': 32}\n",
    "\n",
    "# stats_df = stats_df.append(new_row, ignore_index=True)"
   ]
  },
  {
   "cell_type": "markdown",
   "metadata": {},
   "source": [
    "## 2018"
   ]
  },
  {
   "cell_type": "code",
   "execution_count": 1020,
   "metadata": {},
   "outputs": [],
   "source": [
    "cro2018year = cro_year.loc[cro_year[\"season\"].isin(year2018)]"
   ]
  },
  {
   "cell_type": "code",
   "execution_count": 1021,
   "metadata": {},
   "outputs": [],
   "source": [
    "cro2018xg = cro2018year.sort_values(by=[\"xg_z\"], ascending=False)"
   ]
  },
  {
   "cell_type": "code",
   "execution_count": 1022,
   "metadata": {},
   "outputs": [],
   "source": [
    "cro2018xg13 = cro2018xg.head(13)"
   ]
  },
  {
   "cell_type": "code",
   "execution_count": 1023,
   "metadata": {},
   "outputs": [],
   "source": [
    "cro2018xg13 = cro2018xg13.drop(columns=['season', 'team'])\n"
   ]
  },
  {
   "cell_type": "code",
   "execution_count": 1024,
   "metadata": {},
   "outputs": [],
   "source": [
    "cro2018 = cro2018xg13.mean()"
   ]
  },
  {
   "cell_type": "code",
   "execution_count": 1025,
   "metadata": {},
   "outputs": [
    {
     "data": {
      "text/plain": [
       "goals_z            0.520000\n",
       "xg_z               0.379231\n",
       "crosses_z          0.298462\n",
       "boxtouches_z       0.375385\n",
       "passes_z           0.407692\n",
       "progpasses_z       0.074615\n",
       "takeons_z          0.304615\n",
       "progruns_z         0.265385\n",
       "tackles_z          0.610000\n",
       "interceptions_z    0.431538\n",
       "clearances_z       0.184615\n",
       "blocks_z           0.324615\n",
       "aerials_z          0.540769\n",
       "fouls_z            0.376923\n",
       "fouled_z           0.317692\n",
       "nsxg_z             0.198462\n",
       "dtype: float64"
      ]
     },
     "execution_count": 1025,
     "metadata": {},
     "output_type": "execute_result"
    }
   ],
   "source": [
    "\n",
    "cro2018"
   ]
  },
  {
   "cell_type": "code",
   "execution_count": 1026,
   "metadata": {},
   "outputs": [],
   "source": [
    "# (0.379231 + 0.198462) /  0.520000"
   ]
  },
  {
   "cell_type": "markdown",
   "metadata": {},
   "source": [
    "### Fouled"
   ]
  },
  {
   "cell_type": "code",
   "execution_count": 1027,
   "metadata": {},
   "outputs": [],
   "source": [
    "# .317692 - .376923"
   ]
  },
  {
   "cell_type": "code",
   "execution_count": 1028,
   "metadata": {},
   "outputs": [],
   "source": [
    "# new_row = {'Country': 'Croatia', 'Year': 2018, 'goals_z':0.520000, 'xg_z':0.379231, \n",
    "#            'boxtouches_z':0.375385, 'progpasses_z':0.074615, 'progruns_z':0.265385, \n",
    "#            'new_xg': 1.110948076, 'Fouled': -0.0592310, 'results': 2}\n",
    "\n",
    "# stats_df = stats_df.append(new_row, ignore_index=True)"
   ]
  },
  {
   "cell_type": "markdown",
   "metadata": {},
   "source": [
    "## 2006"
   ]
  },
  {
   "cell_type": "code",
   "execution_count": 1029,
   "metadata": {},
   "outputs": [],
   "source": [
    "cro2006year = cro_year.loc[cro_year[\"season\"].isin(year2006)]"
   ]
  },
  {
   "cell_type": "code",
   "execution_count": 1030,
   "metadata": {},
   "outputs": [],
   "source": [
    "cro2006xg = cro2006year.sort_values(by=[\"xg_z\"], ascending=False)"
   ]
  },
  {
   "cell_type": "code",
   "execution_count": 1031,
   "metadata": {},
   "outputs": [],
   "source": [
    "cro2006xg13 = cro2006xg.head(13)"
   ]
  },
  {
   "cell_type": "code",
   "execution_count": 1032,
   "metadata": {},
   "outputs": [],
   "source": [
    "cro2006xg13 = cro2006xg13.drop(columns=['season', 'team'])\n"
   ]
  },
  {
   "cell_type": "code",
   "execution_count": 1033,
   "metadata": {},
   "outputs": [],
   "source": [
    "cro2006 = cro2006xg13.mean()"
   ]
  },
  {
   "cell_type": "code",
   "execution_count": 1034,
   "metadata": {},
   "outputs": [
    {
     "data": {
      "text/plain": [
       "goals_z           -0.035385\n",
       "xg_z               0.464615\n",
       "crosses_z          0.271538\n",
       "boxtouches_z       0.295385\n",
       "passes_z           0.032308\n",
       "progpasses_z       0.014615\n",
       "takeons_z          0.333077\n",
       "progruns_z         0.680769\n",
       "tackles_z         -0.091538\n",
       "interceptions_z   -0.030769\n",
       "clearances_z      -0.107692\n",
       "blocks_z          -0.002308\n",
       "aerials_z          0.131538\n",
       "fouls_z            0.574615\n",
       "fouled_z           0.580000\n",
       "nsxg_z             0.264615\n",
       "dtype: float64"
      ]
     },
     "execution_count": 1034,
     "metadata": {},
     "output_type": "execute_result"
    }
   ],
   "source": [
    "cro2006\n"
   ]
  },
  {
   "cell_type": "code",
   "execution_count": 1035,
   "metadata": {},
   "outputs": [],
   "source": [
    "# (0.464615 + 0.264615) /  -0.035385"
   ]
  },
  {
   "cell_type": "markdown",
   "metadata": {},
   "source": [
    "### Fouled"
   ]
  },
  {
   "cell_type": "code",
   "execution_count": 1036,
   "metadata": {},
   "outputs": [],
   "source": [
    "# .580000 - .574615"
   ]
  },
  {
   "cell_type": "code",
   "execution_count": 1037,
   "metadata": {},
   "outputs": [],
   "source": [
    "# new_row = {'Country': 'Croatia', 'Year': 2006, 'goals_z':-0.035385, 'xg_z':0.464615, \n",
    "#            'boxtouches_z':0.295385, 'progpasses_z':0.014615, 'progruns_z':0.680769, \n",
    "#            'new_xg': -20.6084499, 'Fouled': 0.005384999, 'results': 32}\n",
    "\n",
    "# stats_df = stats_df.append(new_row, ignore_index=True)"
   ]
  },
  {
   "cell_type": "markdown",
   "metadata": {},
   "source": [
    "## 2002"
   ]
  },
  {
   "cell_type": "code",
   "execution_count": 1038,
   "metadata": {},
   "outputs": [],
   "source": [
    "cro2002year = cro_year.loc[cro_year[\"season\"].isin(year2002)]"
   ]
  },
  {
   "cell_type": "code",
   "execution_count": 1039,
   "metadata": {},
   "outputs": [],
   "source": [
    "cro2002xg = cro2002year.sort_values(by=[\"xg_z\"], ascending=False)"
   ]
  },
  {
   "cell_type": "code",
   "execution_count": 1040,
   "metadata": {},
   "outputs": [],
   "source": [
    "cro2002xg13 = cro2002xg.head(13)"
   ]
  },
  {
   "cell_type": "code",
   "execution_count": 1041,
   "metadata": {},
   "outputs": [],
   "source": [
    "cro2002xg13 = cro2002xg13.drop(columns=['season', 'team'])\n"
   ]
  },
  {
   "cell_type": "code",
   "execution_count": 1042,
   "metadata": {},
   "outputs": [],
   "source": [
    "cro2002 = cro2002xg13.mean()"
   ]
  },
  {
   "cell_type": "code",
   "execution_count": 1043,
   "metadata": {},
   "outputs": [
    {
     "data": {
      "text/plain": [
       "goals_z           -0.085385\n",
       "xg_z              -0.041538\n",
       "crosses_z          0.292308\n",
       "boxtouches_z       0.324615\n",
       "passes_z          -0.392308\n",
       "progpasses_z      -0.333077\n",
       "takeons_z         -0.294615\n",
       "progruns_z        -0.306923\n",
       "tackles_z         -0.188462\n",
       "interceptions_z   -0.251538\n",
       "clearances_z       0.106923\n",
       "blocks_z          -0.440000\n",
       "aerials_z          0.360769\n",
       "fouls_z            0.126154\n",
       "fouled_z           0.310000\n",
       "nsxg_z             0.262308\n",
       "dtype: float64"
      ]
     },
     "execution_count": 1043,
     "metadata": {},
     "output_type": "execute_result"
    }
   ],
   "source": [
    "cro2002\n"
   ]
  },
  {
   "cell_type": "code",
   "execution_count": 1044,
   "metadata": {},
   "outputs": [],
   "source": [
    "# (-0.041538 + 0.262308) /  -0.085385"
   ]
  },
  {
   "cell_type": "markdown",
   "metadata": {},
   "source": [
    "### Fouled"
   ]
  },
  {
   "cell_type": "code",
   "execution_count": 1045,
   "metadata": {},
   "outputs": [],
   "source": [
    "# .310000 - .126154"
   ]
  },
  {
   "cell_type": "code",
   "execution_count": 1046,
   "metadata": {},
   "outputs": [],
   "source": [
    "# new_row = {'Country': 'Croatia', 'Year': 2002, 'goals_z':-0.085385, 'xg_z':-0.041538, \n",
    "#            'boxtouches_z':0.324615, 'progpasses_z':-0.333077, 'progruns_z':-0.306923, \n",
    "#            'new_xg': -2.58558294, 'Fouled': 0.183846, 'results': 32}\n",
    "\n",
    "# stats_df = stats_df.append(new_row, ignore_index=True)"
   ]
  },
  {
   "cell_type": "code",
   "execution_count": null,
   "metadata": {},
   "outputs": [],
   "source": [
    "cro2002\n",
    "cro2006\n",
    "cro2014\n",
    "cro2018"
   ]
  },
  {
   "cell_type": "code",
   "execution_count": 1186,
   "metadata": {},
   "outputs": [],
   "source": [
    "cro = pd.concat([cro2002, cro2006, cro2014, cro2018], axis=1).T\n"
   ]
  },
  {
   "cell_type": "code",
   "execution_count": 1187,
   "metadata": {},
   "outputs": [],
   "source": [
    "cro.rename(index={0: 'Croatia02', 1: 'Croatia06', 2: 'Croatia14', \n",
    "                  3: 'Croatia18'}, inplace=True)\n"
   ]
  },
  {
   "cell_type": "code",
   "execution_count": null,
   "metadata": {},
   "outputs": [],
   "source": [
    "# 02 - 23     G      Croatia     3     1     0     2     2     3     −1     3\n",
    "# 06 - 22      Croatia     F     3     0     2     1     2     3     −1     2\n",
    "# 14 - 19      Croatia     A     3     1     0     2     3     6     6     0\n",
    "# 18 - 2      Croatia     D     7     4     2     1     14     14     9     +5\n"
   ]
  },
  {
   "cell_type": "code",
   "execution_count": 1189,
   "metadata": {},
   "outputs": [],
   "source": [
    "df2 = cro.assign(results=[23, 22, 19, 2])\n"
   ]
  },
  {
   "cell_type": "code",
   "execution_count": 1190,
   "metadata": {},
   "outputs": [],
   "source": [
    "# df2.to_csv('Croatia.csv', index=False)\n"
   ]
  },
  {
   "cell_type": "code",
   "execution_count": null,
   "metadata": {},
   "outputs": [],
   "source": []
  },
  {
   "cell_type": "code",
   "execution_count": null,
   "metadata": {},
   "outputs": [],
   "source": []
  },
  {
   "cell_type": "code",
   "execution_count": null,
   "metadata": {},
   "outputs": [],
   "source": []
  },
  {
   "cell_type": "markdown",
   "metadata": {},
   "source": [
    "# Canada - NA"
   ]
  },
  {
   "cell_type": "markdown",
   "metadata": {},
   "source": [
    "# Morocco"
   ]
  },
  {
   "cell_type": "markdown",
   "metadata": {},
   "source": [
    "## 2018"
   ]
  },
  {
   "cell_type": "code",
   "execution_count": 1047,
   "metadata": {},
   "outputs": [],
   "source": [
    "mor = ['Morocco']"
   ]
  },
  {
   "cell_type": "code",
   "execution_count": 1048,
   "metadata": {},
   "outputs": [],
   "source": [
    "mor_year = comparisons.loc[comparisons[\"team\"].isin(mor)]"
   ]
  },
  {
   "cell_type": "code",
   "execution_count": 1049,
   "metadata": {},
   "outputs": [],
   "source": [
    "mor2018year = mor_year.loc[mor_year[\"season\"].isin(year2018)]"
   ]
  },
  {
   "cell_type": "code",
   "execution_count": 1050,
   "metadata": {},
   "outputs": [],
   "source": [
    "mor2018xg = mor2018year.sort_values(by=[\"xg_z\"], ascending=False)"
   ]
  },
  {
   "cell_type": "code",
   "execution_count": 1051,
   "metadata": {},
   "outputs": [],
   "source": [
    "mor2018xg13 = mor2018xg.head(13)"
   ]
  },
  {
   "cell_type": "code",
   "execution_count": 1052,
   "metadata": {},
   "outputs": [],
   "source": [
    "mor2018xg13 = mor2018xg13.drop(columns=['season', 'team'])\n"
   ]
  },
  {
   "cell_type": "code",
   "execution_count": 1053,
   "metadata": {},
   "outputs": [],
   "source": [
    "mor2018 = mor2018xg13.mean()"
   ]
  },
  {
   "cell_type": "code",
   "execution_count": 1054,
   "metadata": {},
   "outputs": [
    {
     "data": {
      "text/plain": [
       "goals_z           -0.243077\n",
       "xg_z               0.000769\n",
       "crosses_z          0.207692\n",
       "boxtouches_z       0.120769\n",
       "passes_z          -0.172308\n",
       "progpasses_z      -0.327692\n",
       "takeons_z          0.378462\n",
       "progruns_z         0.037692\n",
       "tackles_z          0.003077\n",
       "interceptions_z   -0.016154\n",
       "clearances_z      -0.178462\n",
       "blocks_z           0.182308\n",
       "aerials_z          0.279231\n",
       "fouls_z            0.837692\n",
       "fouled_z          -0.063077\n",
       "nsxg_z            -0.002308\n",
       "dtype: float64"
      ]
     },
     "execution_count": 1054,
     "metadata": {},
     "output_type": "execute_result"
    }
   ],
   "source": [
    "mor2018"
   ]
  },
  {
   "cell_type": "code",
   "execution_count": 1055,
   "metadata": {},
   "outputs": [],
   "source": [
    "# (0.000769 + -0.002308) /  -0.243077"
   ]
  },
  {
   "cell_type": "markdown",
   "metadata": {},
   "source": [
    "### Fouled"
   ]
  },
  {
   "cell_type": "code",
   "execution_count": 1056,
   "metadata": {},
   "outputs": [],
   "source": [
    "# -0.063077 - 0.837692"
   ]
  },
  {
   "cell_type": "code",
   "execution_count": 1057,
   "metadata": {},
   "outputs": [],
   "source": [
    "# new_row = {'Country': 'Morocco', 'Year': 2018, 'goals_z':-0.243077, 'xg_z':0.000769, \n",
    "#            'boxtouches_z':0.120769, 'progpasses_z':-0.327692, 'progruns_z':0.037692, \n",
    "#            'new_xg': 0.006331327, 'Fouled': -0.9007689, 'results': 32}\n",
    "\n",
    "# stats_df = stats_df.append(new_row, ignore_index=True)"
   ]
  },
  {
   "cell_type": "code",
   "execution_count": null,
   "metadata": {},
   "outputs": [],
   "source": [
    "mor2018"
   ]
  },
  {
   "cell_type": "code",
   "execution_count": 1191,
   "metadata": {},
   "outputs": [],
   "source": [
    "mor = pd.concat([mor2018], axis=1).T\n"
   ]
  },
  {
   "cell_type": "code",
   "execution_count": 1192,
   "metadata": {},
   "outputs": [],
   "source": [
    "mor.rename(index={0: 'Morocco18'}, inplace=True)"
   ]
  },
  {
   "cell_type": "code",
   "execution_count": null,
   "metadata": {},
   "outputs": [],
   "source": []
  },
  {
   "cell_type": "code",
   "execution_count": 1193,
   "metadata": {},
   "outputs": [],
   "source": [
    "df2 = mor.assign(results=[27])\n"
   ]
  },
  {
   "cell_type": "code",
   "execution_count": 1194,
   "metadata": {},
   "outputs": [],
   "source": [
    "# df2.to_csv('Morocco.csv', index=False)\n"
   ]
  },
  {
   "cell_type": "markdown",
   "metadata": {},
   "source": [
    "### Data for 28 countries (korea still not working)"
   ]
  },
  {
   "cell_type": "code",
   "execution_count": null,
   "metadata": {},
   "outputs": [],
   "source": [
    "# stats_df.hist()\n",
    "# # pyplot.show()"
   ]
  },
  {
   "cell_type": "code",
   "execution_count": 315,
   "metadata": {},
   "outputs": [],
   "source": [
    "# plt.boxplot(stats_df['xg_z'],notch=True);\n",
    "# stats_df['xg_z'].plot.box(title='xg_z');\n",
    "# stats_df['goals_z'].plot.box(title='Goals');"
   ]
  },
  {
   "cell_type": "code",
   "execution_count": 316,
   "metadata": {},
   "outputs": [],
   "source": [
    "# sns.distplot(stats_df['goals_z'], hist=True, kde=True, \n",
    "#              bins=int(180/5), color = 'darkblue', \n",
    "#              hist_kws={'edgecolor':'black'},\n",
    "#              kde_kws={'linewidth': 4});"
   ]
  },
  {
   "cell_type": "code",
   "execution_count": 1058,
   "metadata": {},
   "outputs": [],
   "source": [
    "# sns.set_style('whitegrid')\n",
    "# ax= sns.boxplot(x='results',y='goals_z',data=stats_df)\n",
    "# ax = sns.stripplot(x=\"results\", y=\"goals_z\",data=stats_df)"
   ]
  },
  {
   "cell_type": "code",
   "execution_count": null,
   "metadata": {},
   "outputs": [],
   "source": [
    "# stats_df"
   ]
  },
  {
   "cell_type": "code",
   "execution_count": null,
   "metadata": {},
   "outputs": [],
   "source": [
    "# stats_df.to_csv('stats_df.csv', index=False)"
   ]
  },
  {
   "cell_type": "code",
   "execution_count": 318,
   "metadata": {},
   "outputs": [
    {
     "ename": "NameError",
     "evalue": "name 'stats_df' is not defined",
     "output_type": "error",
     "traceback": [
      "\u001b[0;31m---------------------------------------------------------------------------\u001b[0m",
      "\u001b[0;31mNameError\u001b[0m                                 Traceback (most recent call last)",
      "Input \u001b[0;32mIn [318]\u001b[0m, in \u001b[0;36m<cell line: 1>\u001b[0;34m()\u001b[0m\n\u001b[0;32m----> 1\u001b[0m \u001b[43mstats_df\u001b[49m\u001b[38;5;241m.\u001b[39mcorr()\n",
      "\u001b[0;31mNameError\u001b[0m: name 'stats_df' is not defined"
     ]
    }
   ],
   "source": [
    "# stats_df.corr()"
   ]
  },
  {
   "cell_type": "code",
   "execution_count": null,
   "metadata": {},
   "outputs": [],
   "source": [
    "# germany = stats_df[stats_df['Country'] == \"Germany\"]"
   ]
  },
  {
   "cell_type": "code",
   "execution_count": null,
   "metadata": {},
   "outputs": [],
   "source": [
    "# germany.sort_values('Year')"
   ]
  },
  {
   "cell_type": "code",
   "execution_count": 319,
   "metadata": {},
   "outputs": [
    {
     "ename": "NameError",
     "evalue": "name 'stats_df' is not defined",
     "output_type": "error",
     "traceback": [
      "\u001b[0;31m---------------------------------------------------------------------------\u001b[0m",
      "\u001b[0;31mNameError\u001b[0m                                 Traceback (most recent call last)",
      "Input \u001b[0;32mIn [319]\u001b[0m, in \u001b[0;36m<cell line: 1>\u001b[0;34m()\u001b[0m\n\u001b[0;32m----> 1\u001b[0m france \u001b[38;5;241m=\u001b[39m \u001b[43mstats_df\u001b[49m[stats_df[\u001b[38;5;124m'\u001b[39m\u001b[38;5;124mCountry\u001b[39m\u001b[38;5;124m'\u001b[39m] \u001b[38;5;241m==\u001b[39m \u001b[38;5;124m\"\u001b[39m\u001b[38;5;124mFrance\u001b[39m\u001b[38;5;124m\"\u001b[39m]\n",
      "\u001b[0;31mNameError\u001b[0m: name 'stats_df' is not defined"
     ]
    }
   ],
   "source": [
    "# france = stats_df[stats_df['Country'] == \"France\"]"
   ]
  },
  {
   "cell_type": "code",
   "execution_count": null,
   "metadata": {},
   "outputs": [],
   "source": [
    "# france.sort_values('Year')"
   ]
  },
  {
   "cell_type": "code",
   "execution_count": null,
   "metadata": {},
   "outputs": [],
   "source": [
    "# brazil = stats_df[stats_df['Country'] == \"Brazil\"]"
   ]
  },
  {
   "cell_type": "code",
   "execution_count": 320,
   "metadata": {},
   "outputs": [
    {
     "ename": "NameError",
     "evalue": "name 'brazil' is not defined",
     "output_type": "error",
     "traceback": [
      "\u001b[0;31m---------------------------------------------------------------------------\u001b[0m",
      "\u001b[0;31mNameError\u001b[0m                                 Traceback (most recent call last)",
      "Input \u001b[0;32mIn [320]\u001b[0m, in \u001b[0;36m<cell line: 1>\u001b[0;34m()\u001b[0m\n\u001b[0;32m----> 1\u001b[0m \u001b[43mbrazil\u001b[49m\u001b[38;5;241m.\u001b[39msort_values(\u001b[38;5;124m'\u001b[39m\u001b[38;5;124mYear\u001b[39m\u001b[38;5;124m'\u001b[39m)\n",
      "\u001b[0;31mNameError\u001b[0m: name 'brazil' is not defined"
     ]
    }
   ],
   "source": [
    "# brazil.sort_values('Year')"
   ]
  },
  {
   "cell_type": "code",
   "execution_count": null,
   "metadata": {},
   "outputs": [],
   "source": [
    "# england = stats_df[stats_df['Country'] == \"England\"]"
   ]
  },
  {
   "cell_type": "code",
   "execution_count": null,
   "metadata": {},
   "outputs": [],
   "source": [
    "# england.sort_values('Year')"
   ]
  },
  {
   "cell_type": "code",
   "execution_count": 321,
   "metadata": {},
   "outputs": [],
   "source": [
    "# argentina = stats_df[stats_df['Country'] == \"Argentina\"]"
   ]
  },
  {
   "cell_type": "code",
   "execution_count": 322,
   "metadata": {},
   "outputs": [],
   "source": [
    "# argentina"
   ]
  },
  {
   "cell_type": "code",
   "execution_count": 323,
   "metadata": {},
   "outputs": [
    {
     "ename": "NameError",
     "evalue": "name 'stats_df' is not defined",
     "output_type": "error",
     "traceback": [
      "\u001b[0;31m---------------------------------------------------------------------------\u001b[0m",
      "\u001b[0;31mNameError\u001b[0m                                 Traceback (most recent call last)",
      "Input \u001b[0;32mIn [323]\u001b[0m, in \u001b[0;36m<cell line: 1>\u001b[0;34m()\u001b[0m\n\u001b[0;32m----> 1\u001b[0m spain \u001b[38;5;241m=\u001b[39m \u001b[43mstats_df\u001b[49m[stats_df[\u001b[38;5;124m'\u001b[39m\u001b[38;5;124mCountry\u001b[39m\u001b[38;5;124m'\u001b[39m] \u001b[38;5;241m==\u001b[39m \u001b[38;5;124m\"\u001b[39m\u001b[38;5;124mSpain\u001b[39m\u001b[38;5;124m\"\u001b[39m]\n",
      "\u001b[0;31mNameError\u001b[0m: name 'stats_df' is not defined"
     ]
    }
   ],
   "source": [
    "# spain = stats_df[stats_df['Country'] == \"Spain\"]"
   ]
  },
  {
   "cell_type": "code",
   "execution_count": null,
   "metadata": {},
   "outputs": [],
   "source": [
    "# spain.sort_values('Year')"
   ]
  },
  {
   "cell_type": "code",
   "execution_count": 324,
   "metadata": {},
   "outputs": [],
   "source": [
    "# switzerland = stats_df[stats_df['Country'] == \"Switzerland\"]"
   ]
  },
  {
   "cell_type": "code",
   "execution_count": 325,
   "metadata": {},
   "outputs": [],
   "source": [
    "# switzerland"
   ]
  },
  {
   "cell_type": "markdown",
   "metadata": {},
   "source": [
    "## World Cup Data from 2018 - 2002\n",
    "\n",
    "initialized to variable df"
   ]
  },
  {
   "cell_type": "code",
   "execution_count": 326,
   "metadata": {},
   "outputs": [],
   "source": [
    "# # df = pd.concat(\n",
    "# #     map(pd.read_csv, ['FIFA - 2018.csv', 'FIFA - 2014.csv', 'FIFA - 2010.csv', 'FIFA - 2006.csv', 'FIFA - 2002.csv', 'FIFA - 1998.csv', 'FIFA - 1994.csv', 'FIFA - 1990.csv', 'FIFA - 1986.csv', 'FIFA - 1982.csv', 'FIFA - 1978.csv', 'FIFA - 1974.csv', 'FIFA - 1970.csv' ]), ignore_index=True)\n",
    "# # print(df)\n",
    "\n",
    "# df = pd.concat(\n",
    "#     map(pd.read_csv, ['FIFA - 2018.csv', 'FIFA - 2014.csv', 'FIFA - 2010.csv', 'FIFA - 2006.csv', 'FIFA - 2002.csv']))\n"
   ]
  },
  {
   "cell_type": "code",
   "execution_count": 327,
   "metadata": {},
   "outputs": [],
   "source": [
    "# df.columns"
   ]
  },
  {
   "cell_type": "code",
   "execution_count": 328,
   "metadata": {},
   "outputs": [],
   "source": [
    "# df.shape"
   ]
  },
  {
   "cell_type": "code",
   "execution_count": 329,
   "metadata": {},
   "outputs": [],
   "source": [
    "# df.head()"
   ]
  },
  {
   "cell_type": "code",
   "execution_count": 330,
   "metadata": {},
   "outputs": [],
   "source": [
    "# df.tail()"
   ]
  },
  {
   "cell_type": "markdown",
   "metadata": {},
   "source": [
    "### change to only teams in world cup 2022"
   ]
  },
  {
   "cell_type": "code",
   "execution_count": 331,
   "metadata": {},
   "outputs": [],
   "source": [
    "# teams_2022 = ['Qatar', 'Netherlands', 'Senegal', 'Ecuador', 'England', 'USA', 'Wales', 'Iran', 'Argentina', 'Poland', 'Mexico', 'Saudi Arabia', 'France', 'Denmark', 'Tunisia', 'Australia', 'Germany', 'Spain', 'Japan', 'Costa Rica', 'Belgium', 'Croatia', 'Canada', 'Morocco', 'Brazil', 'Switzerland', 'Serbia', 'Cameroon', 'Portugal', 'Uruguay', 'Ghana', 'Korea Republic']"
   ]
  },
  {
   "cell_type": "code",
   "execution_count": 332,
   "metadata": {},
   "outputs": [],
   "source": [
    "# df = df.loc[df['Team'].isin(teams_2022)]"
   ]
  },
  {
   "cell_type": "code",
   "execution_count": 333,
   "metadata": {},
   "outputs": [],
   "source": [
    "# df.head()"
   ]
  },
  {
   "cell_type": "code",
   "execution_count": null,
   "metadata": {},
   "outputs": [],
   "source": []
  },
  {
   "cell_type": "code",
   "execution_count": 334,
   "metadata": {},
   "outputs": [],
   "source": [
    "# df.tail()"
   ]
  },
  {
   "cell_type": "markdown",
   "metadata": {},
   "source": [
    "Team \tOdds to win 2022 World Cup\n",
    "- Brazil  \t+450\n",
    "- England \t+550\n",
    "- France \t+600\n",
    "- Argentina \t+700\n",
    "- Spain \t+800\n",
    "\n",
    "\n",
    "- Germany \t+1,000\n",
    "- Portugal \t+1,200\n",
    "- Netherlands \t+1,200\n",
    "- Belgium \t+1,400\n",
    "- Denmark \t+2,800"
   ]
  },
  {
   "cell_type": "code",
   "execution_count": 335,
   "metadata": {},
   "outputs": [
    {
     "ename": "NameError",
     "evalue": "name 'stats_df' is not defined",
     "output_type": "error",
     "traceback": [
      "\u001b[0;31m---------------------------------------------------------------------------\u001b[0m",
      "\u001b[0;31mNameError\u001b[0m                                 Traceback (most recent call last)",
      "Input \u001b[0;32mIn [335]\u001b[0m, in \u001b[0;36m<cell line: 1>\u001b[0;34m()\u001b[0m\n\u001b[0;32m----> 1\u001b[0m \u001b[43mstats_df\u001b[49m\u001b[38;5;241m.\u001b[39mcorr()\n",
      "\u001b[0;31mNameError\u001b[0m: name 'stats_df' is not defined"
     ]
    }
   ],
   "source": [
    "# stats_df.corr()"
   ]
  },
  {
   "cell_type": "code",
   "execution_count": null,
   "metadata": {},
   "outputs": [],
   "source": [
    "# stats_df.shape"
   ]
  },
  {
   "cell_type": "code",
   "execution_count": null,
   "metadata": {},
   "outputs": [],
   "source": []
  }
 ],
 "metadata": {
  "kernelspec": {
   "display_name": "Python 3 (ipykernel)",
   "language": "python",
   "name": "python3"
  },
  "language_info": {
   "codemirror_mode": {
    "name": "ipython",
    "version": 3
   },
   "file_extension": ".py",
   "mimetype": "text/x-python",
   "name": "python",
   "nbconvert_exporter": "python",
   "pygments_lexer": "ipython3",
   "version": "3.9.12"
  }
 },
 "nbformat": 4,
 "nbformat_minor": 5
}
