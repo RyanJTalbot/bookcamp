{
 "cells": [
  {
   "cell_type": "markdown",
   "metadata": {},
   "source": [
    "# Cecklist\n",
    "\n",
    "## Frame the problem and look at big picture\n",
    "[X] Define the objective.\n",
    "\n",
    "    - predict winners of each game in world cup\n",
    "\n",
    "[X] What are the current solutions if any\n",
    "\n",
    "    - Many\n",
    "\n",
    "[X] How should performance be measures\n",
    "\n",
    "    - How well predictions come to fruition. \n",
    "\n",
    "[X] List the assumptions you or others have made so far.\n",
    "\n",
    "    - spi will predict winner\n",
    "    - gather SPI of starters for each team\n",
    "    - use cummulative SPI for each team \n",
    "\n",
    "[ ] Verify assumptions if possible\n",
    "\n",
    "\n",
    "\n",
    "## Get the Data\n",
    "[X] List data you need and how much is needed\n",
    "\n",
    "    - Historical World Cup data for wins and losses?\n",
    "    - SPI of all starters on national teams\n",
    "\n",
    "[ ] Find and document where you get data\n",
    "\n",
    "[ ] Get the data\n",
    "\n",
    "[ ] Convert the data to a format you can manipulate\n",
    "\n",
    "[ ] Check size and type of data (time series, sample, geographial, etc.)\n",
    "\n",
    "[ ] Sample a test set, put it aside, and don't look at it. \n",
    "\n",
    "\n",
    "## Explore the data to gain insights\n",
    "Note: try to get insights from a field expert for these steps.\n",
    "\n",
    "[ ] Create a copy of the data for exploration\n",
    "\n",
    "[ ] Create a jupyter notebook to keep record of data \n",
    "exploration\n",
    "\n",
    "[ ] Study each attribute and its characteristics:\n",
    "\n",
    "    - Name    \n",
    "    - Type (categorical, int/float, bount/unbounded, text, structured, etc.)\n",
    "            - .info(), .describe(), .shape, .head()        \n",
    "    - Noisiness and type of noise (stochastic, outliers, rounding errors, etc.   \n",
    "    - Possibly useful for the task?\n",
    "    - Type of distribution (Gaussian, uniform, logarithmic, etc.)\n",
    "\n",
    "[ ] For supervised learning, Identify the target attribute(s)\n",
    "\n",
    "[ ] Visualize the data.\n",
    "\n",
    "[ ] Study the correlations between attributes\n",
    "\n",
    "[ ] Identify promising transformations you may want to apply. \n",
    "\n",
    "[ ] Document what you have learned\n",
    "    \n",
    "\n",
    "## Prepare the data to better expose the underlying data patterns to ML algorithms\n",
    "Notes: \n",
    "\n",
    "    - Work on copies of data (Keep the original dataset intact).\n",
    "    - Write functions for all data transformation you apply, for 5 reasons:\n",
    "        1. You can easily prepare the data the next time you get a fresh dataset\n",
    "        2. ability to apply these transformations in future projects\n",
    "        3. To clean and prepare the test set\n",
    "        4. To clean and new data instances\n",
    "        5. To make it easy to treate your preparation choices as hyperparamteres\n",
    " \n",
    "\n",
    "[ ] **Data Clearning**:\n",
    "\n",
    "    - Fix or remove outliers (optional)\n",
    "    - Fill in missing values (e.g., with zero, mean, median, etc.) or drop rows (columns)\n",
    "\n",
    "[ ] Feature Selection (optional)\n",
    "\n",
    "    - Drop the attributes that provide no useful information for the task.\n",
    "\n",
    "[ ] **Feature engineering**, where appropriate:\n",
    "\n",
    "    - Discretize continuous features.\n",
    "    - Decompose features (e.g., categorical, date/time, etc.)\n",
    "    - Aggregate features into promising new features.\n",
    "\n",
    "[ ] **Feature Scaling** \n",
    "\n",
    "    - Standardize or normalize features\n",
    "\n",
    "\n",
    "## Explore many different models and short-list the best ones\n",
    "note: try to automate these steps as much as possible.\n",
    "\n",
    "\n",
    "[ ] Train many quick and dirty models from different categories, using standard parameters.\n",
    "\n",
    "    - linear\n",
    "    - naive\n",
    "    - Bayes\n",
    "    - SVM\n",
    "    - Random Forest\n",
    "    - Neural net\n",
    "    - etc.\n",
    "\n",
    "[ ] Measure and compare their performance\n",
    "\n",
    "    - For each model, use **N-fold cross-validation** and compute the standard deviation of their performance.\n",
    "\n",
    "[ ] Analyze the most significant variables for each algorithm\n",
    "\n",
    "[ ] Analyze the types of errors the models make\n",
    "\n",
    "[ ] Quick round of feature selection and engineering\n",
    "\n",
    "[ ] One or two more quick iterations of the 5 previous steps\n",
    "\n",
    "[ ] short-list the top three to five most promising models, preferring models that make different types of errors\n",
    "\n",
    "\n",
    "## Fine-tune your models and combine them into a solution.\n",
    "Note: \n",
    "\n",
    "    - you will want to use as much data as possible for this step, especially as you move toward the end of fine-tuning.\n",
    "    - automate what you can\n",
    "    \n",
    "\n",
    "[ ] Find-tune hyperparameters using **cross-validation**\n",
    "\n",
    "    - treat your data transformation choices asa hyperparameters, especially when you are note sure about them (e.g., should I replace missing values with zero or the median value, etc.)\n",
    "    - Unless there are very few hyperparameter values to explore, prefer random search over grid search. If training is very long, you might prefer a Bayesian optimization approach(e.g., a gaussian process priors)\n",
    "\n",
    "[ ] Try **Ensemble methods**. Combining your best models will often perform better than running them indiviually.\n",
    "\n",
    "[ ] Once you are confident about your final model, measure its performance on the test set to estimate the generalization error. \n",
    "\n",
    "**Note: Don't tweak your model after measuring the generalization error: you would just start overfitting the test set.**\n",
    "\n",
    "\n",
    "## Present solution\n",
    "\n",
    "[ ] Document what you have done\n",
    "\n",
    "[ ] Create Presentation\n",
    "\n",
    "\n",
    "## Launch, monitor, and Maintain"
   ]
  },
  {
   "cell_type": "markdown",
   "metadata": {},
   "source": [
    "### https://www.kaggle.com/code/launay10christian/world-cup-prediction/notebook\n",
    "\n",
    "Good source for baseline"
   ]
  },
  {
   "cell_type": "markdown",
   "metadata": {},
   "source": [
    "## Glossary\n",
    "\n",
    "**SPI** - rating designed to provide the best possible objective representation of a team's current overall skill level."
   ]
  },
  {
   "cell_type": "code",
   "execution_count": 1,
   "metadata": {},
   "outputs": [],
   "source": [
    "import pandas as pd\n",
    "import numpy as np\n",
    "import matplotlib.pyplot as plt\n",
    "import seaborn as sns\n",
    "import matplotlib.ticker as ticker\n",
    "import matplotlib.ticker as plticker\n",
    "from sklearn.model_selection import train_test_split\n",
    "from sklearn.linear_model import LogisticRegression"
   ]
  },
  {
   "cell_type": "markdown",
   "metadata": {},
   "source": [
    "### Variables for wc 2018, 2014, 2010 and for teams in 2022 world cup"
   ]
  },
  {
   "cell_type": "code",
   "execution_count": 2,
   "metadata": {},
   "outputs": [],
   "source": [
    "years = [2018, 2014, 2010]"
   ]
  },
  {
   "cell_type": "code",
   "execution_count": 3,
   "metadata": {},
   "outputs": [],
   "source": [
    "teams_2022 = ['Qatar', 'Netherlands', 'Senegal', 'Ecuador', 'England', 'USA', 'Wales', 'Iran', 'Argentina', 'Poland', 'Mexico', 'Saudi Arabia', 'France', 'Denmark', 'Tunisia', 'Australia', 'Germany', 'Spain', 'Japan', 'Costa Rica', 'Belgium', 'Croatia', 'Canada', 'Morocco', 'Brazil', 'Switzerland', 'Serbia', 'Cameroon', 'Portugal', 'Uruguay', 'Ghana', 'Korea Republic']"
   ]
  },
  {
   "cell_type": "markdown",
   "metadata": {},
   "source": [
    "## World Cup 2018 Matches  "
   ]
  },
  {
   "cell_type": "code",
   "execution_count": 4,
   "metadata": {},
   "outputs": [],
   "source": [
    "matches = pd.read_csv('wc_matches.csv')"
   ]
  },
  {
   "cell_type": "code",
   "execution_count": 5,
   "metadata": {},
   "outputs": [
    {
     "data": {
      "text/html": [
       "<div>\n",
       "<style scoped>\n",
       "    .dataframe tbody tr th:only-of-type {\n",
       "        vertical-align: middle;\n",
       "    }\n",
       "\n",
       "    .dataframe tbody tr th {\n",
       "        vertical-align: top;\n",
       "    }\n",
       "\n",
       "    .dataframe thead th {\n",
       "        text-align: right;\n",
       "    }\n",
       "</style>\n",
       "<table border=\"1\" class=\"dataframe\">\n",
       "  <thead>\n",
       "    <tr style=\"text-align: right;\">\n",
       "      <th></th>\n",
       "      <th>date</th>\n",
       "      <th>league_id</th>\n",
       "      <th>league</th>\n",
       "      <th>team1</th>\n",
       "      <th>team2</th>\n",
       "      <th>spi1</th>\n",
       "      <th>spi2</th>\n",
       "      <th>prob1</th>\n",
       "      <th>prob2</th>\n",
       "      <th>probtie</th>\n",
       "      <th>proj_score1</th>\n",
       "      <th>proj_score2</th>\n",
       "      <th>score1</th>\n",
       "      <th>score2</th>\n",
       "      <th>xg1</th>\n",
       "      <th>xg2</th>\n",
       "      <th>nsxg1</th>\n",
       "      <th>nsxg2</th>\n",
       "      <th>adj_score1</th>\n",
       "      <th>adj_score2</th>\n",
       "    </tr>\n",
       "  </thead>\n",
       "  <tbody>\n",
       "    <tr>\n",
       "      <th>0</th>\n",
       "      <td>2018-06-14</td>\n",
       "      <td>1908</td>\n",
       "      <td>FIFA World Cup</td>\n",
       "      <td>Russia</td>\n",
       "      <td>Saudi Arabia</td>\n",
       "      <td>70.14</td>\n",
       "      <td>51.33</td>\n",
       "      <td>0.6615</td>\n",
       "      <td>0.1200</td>\n",
       "      <td>0.2184</td>\n",
       "      <td>2.03</td>\n",
       "      <td>0.73</td>\n",
       "      <td>5</td>\n",
       "      <td>0</td>\n",
       "      <td>1.62</td>\n",
       "      <td>0.20</td>\n",
       "      <td>1.55</td>\n",
       "      <td>0.11</td>\n",
       "      <td>4.18</td>\n",
       "      <td>0.00</td>\n",
       "    </tr>\n",
       "    <tr>\n",
       "      <th>1</th>\n",
       "      <td>2018-06-15</td>\n",
       "      <td>1908</td>\n",
       "      <td>FIFA World Cup</td>\n",
       "      <td>Egypt</td>\n",
       "      <td>Uruguay</td>\n",
       "      <td>62.46</td>\n",
       "      <td>79.52</td>\n",
       "      <td>0.1845</td>\n",
       "      <td>0.5433</td>\n",
       "      <td>0.2723</td>\n",
       "      <td>0.82</td>\n",
       "      <td>1.61</td>\n",
       "      <td>0</td>\n",
       "      <td>1</td>\n",
       "      <td>0.42</td>\n",
       "      <td>1.94</td>\n",
       "      <td>0.65</td>\n",
       "      <td>1.94</td>\n",
       "      <td>0.00</td>\n",
       "      <td>1.05</td>\n",
       "    </tr>\n",
       "    <tr>\n",
       "      <th>2</th>\n",
       "      <td>2018-06-15</td>\n",
       "      <td>1908</td>\n",
       "      <td>FIFA World Cup</td>\n",
       "      <td>Morocco</td>\n",
       "      <td>Iran</td>\n",
       "      <td>72.33</td>\n",
       "      <td>65.57</td>\n",
       "      <td>0.4004</td>\n",
       "      <td>0.2667</td>\n",
       "      <td>0.3330</td>\n",
       "      <td>1.13</td>\n",
       "      <td>0.86</td>\n",
       "      <td>0</td>\n",
       "      <td>1</td>\n",
       "      <td>0.86</td>\n",
       "      <td>0.72</td>\n",
       "      <td>0.57</td>\n",
       "      <td>0.36</td>\n",
       "      <td>0.00</td>\n",
       "      <td>1.05</td>\n",
       "    </tr>\n",
       "    <tr>\n",
       "      <th>3</th>\n",
       "      <td>2018-06-15</td>\n",
       "      <td>1908</td>\n",
       "      <td>FIFA World Cup</td>\n",
       "      <td>Portugal</td>\n",
       "      <td>Spain</td>\n",
       "      <td>83.47</td>\n",
       "      <td>91.30</td>\n",
       "      <td>0.2459</td>\n",
       "      <td>0.4809</td>\n",
       "      <td>0.2732</td>\n",
       "      <td>1.07</td>\n",
       "      <td>1.60</td>\n",
       "      <td>3</td>\n",
       "      <td>3</td>\n",
       "      <td>1.15</td>\n",
       "      <td>1.63</td>\n",
       "      <td>0.80</td>\n",
       "      <td>2.59</td>\n",
       "      <td>3.15</td>\n",
       "      <td>3.15</td>\n",
       "    </tr>\n",
       "    <tr>\n",
       "      <th>4</th>\n",
       "      <td>2018-06-16</td>\n",
       "      <td>1908</td>\n",
       "      <td>FIFA World Cup</td>\n",
       "      <td>France</td>\n",
       "      <td>Australia</td>\n",
       "      <td>87.18</td>\n",
       "      <td>61.69</td>\n",
       "      <td>0.7694</td>\n",
       "      <td>0.0746</td>\n",
       "      <td>0.1560</td>\n",
       "      <td>2.61</td>\n",
       "      <td>0.69</td>\n",
       "      <td>2</td>\n",
       "      <td>1</td>\n",
       "      <td>1.38</td>\n",
       "      <td>1.03</td>\n",
       "      <td>1.24</td>\n",
       "      <td>0.39</td>\n",
       "      <td>2.10</td>\n",
       "      <td>1.05</td>\n",
       "    </tr>\n",
       "  </tbody>\n",
       "</table>\n",
       "</div>"
      ],
      "text/plain": [
       "         date  league_id          league     team1         team2   spi1  \\\n",
       "0  2018-06-14       1908  FIFA World Cup    Russia  Saudi Arabia  70.14   \n",
       "1  2018-06-15       1908  FIFA World Cup     Egypt       Uruguay  62.46   \n",
       "2  2018-06-15       1908  FIFA World Cup   Morocco          Iran  72.33   \n",
       "3  2018-06-15       1908  FIFA World Cup  Portugal         Spain  83.47   \n",
       "4  2018-06-16       1908  FIFA World Cup    France     Australia  87.18   \n",
       "\n",
       "    spi2   prob1   prob2  probtie  proj_score1  proj_score2  score1  score2  \\\n",
       "0  51.33  0.6615  0.1200   0.2184         2.03         0.73       5       0   \n",
       "1  79.52  0.1845  0.5433   0.2723         0.82         1.61       0       1   \n",
       "2  65.57  0.4004  0.2667   0.3330         1.13         0.86       0       1   \n",
       "3  91.30  0.2459  0.4809   0.2732         1.07         1.60       3       3   \n",
       "4  61.69  0.7694  0.0746   0.1560         2.61         0.69       2       1   \n",
       "\n",
       "    xg1   xg2  nsxg1  nsxg2  adj_score1  adj_score2  \n",
       "0  1.62  0.20   1.55   0.11        4.18        0.00  \n",
       "1  0.42  1.94   0.65   1.94        0.00        1.05  \n",
       "2  0.86  0.72   0.57   0.36        0.00        1.05  \n",
       "3  1.15  1.63   0.80   2.59        3.15        3.15  \n",
       "4  1.38  1.03   1.24   0.39        2.10        1.05  "
      ]
     },
     "execution_count": 5,
     "metadata": {},
     "output_type": "execute_result"
    }
   ],
   "source": [
    "matches.head()"
   ]
  },
  {
   "cell_type": "code",
   "execution_count": 6,
   "metadata": {},
   "outputs": [
    {
     "data": {
      "text/plain": [
       "Index(['date', 'league_id', 'league', 'team1', 'team2', 'spi1', 'spi2',\n",
       "       'prob1', 'prob2', 'probtie', 'proj_score1', 'proj_score2', 'score1',\n",
       "       'score2', 'xg1', 'xg2', 'nsxg1', 'nsxg2', 'adj_score1', 'adj_score2'],\n",
       "      dtype='object')"
      ]
     },
     "execution_count": 6,
     "metadata": {},
     "output_type": "execute_result"
    }
   ],
   "source": [
    "matches.columns"
   ]
  },
  {
   "cell_type": "code",
   "execution_count": 7,
   "metadata": {},
   "outputs": [],
   "source": [
    "matches['date'] =  pd.to_datetime(matches['date'],  format=\"%Y/%m/%d\")\n"
   ]
  },
  {
   "cell_type": "code",
   "execution_count": 8,
   "metadata": {},
   "outputs": [],
   "source": [
    "matches = matches.set_index('date')"
   ]
  },
  {
   "cell_type": "code",
   "execution_count": 9,
   "metadata": {},
   "outputs": [
    {
     "data": {
      "text/plain": [
       "<AxesSubplot:xlabel='date'>"
      ]
     },
     "execution_count": 9,
     "metadata": {},
     "output_type": "execute_result"
    },
    {
     "data": {
      "image/png": "[encoded data removed]",
      "text/plain": [
       "<Figure size 432x288 with 1 Axes>"
      ]
     },
     "metadata": {
      "needs_background": "light"
     },
     "output_type": "display_data"
    }
   ],
   "source": [
    "matches.plot()"
   ]
  },
  {
   "cell_type": "code",
   "execution_count": 10,
   "metadata": {},
   "outputs": [
    {
     "data": {
      "text/plain": [
       "<AxesSubplot:xlabel='date'>"
      ]
     },
     "execution_count": 10,
     "metadata": {},
     "output_type": "execute_result"
    },
    {
     "data": {
      "image/png": "[encoded data removed]",
      "text/plain": [
       "<Figure size 432x288 with 1 Axes>"
      ]
     },
     "metadata": {
      "needs_background": "light"
     },
     "output_type": "display_data"
    }
   ],
   "source": [
    "matches['xg2'].plot()"
   ]
  },
  {
   "cell_type": "code",
   "execution_count": 11,
   "metadata": {},
   "outputs": [
    {
     "data": {
      "image/png": "[encoded data removed]",
      "text/plain": [
       "<Figure size 2448x1872 with 16 Axes>"
      ]
     },
     "metadata": {
      "needs_background": "light"
     },
     "output_type": "display_data"
    }
   ],
   "source": [
    "axs = matches.plot.area(figsize=(34, 26), subplots=True)"
   ]
  },
  {
   "cell_type": "code",
   "execution_count": 12,
   "metadata": {},
   "outputs": [
    {
     "data": {
      "text/plain": [
       "<AxesSubplot:xlabel='xg1', ylabel='nsxg1'>"
      ]
     },
     "execution_count": 12,
     "metadata": {},
     "output_type": "execute_result"
    },
    {
     "data": {
      "image/png": "[encoded data removed]",
      "text/plain": [
       "<Figure size 432x288 with 1 Axes>"
      ]
     },
     "metadata": {
      "needs_background": "light"
     },
     "output_type": "display_data"
    }
   ],
   "source": [
    "matches.plot.scatter(x=\"xg1\", y=\"nsxg1\", alpha=0.5)\n"
   ]
  },
  {
   "cell_type": "markdown",
   "metadata": {},
   "source": [
    "overview of the available plot methods:"
   ]
  },
  {
   "cell_type": "code",
   "execution_count": 13,
   "metadata": {},
   "outputs": [
    {
     "data": {
      "text/plain": [
       "['area',\n",
       " 'bar',\n",
       " 'barh',\n",
       " 'box',\n",
       " 'density',\n",
       " 'hexbin',\n",
       " 'hist',\n",
       " 'kde',\n",
       " 'line',\n",
       " 'pie',\n",
       " 'scatter']"
      ]
     },
     "execution_count": 13,
     "metadata": {},
     "output_type": "execute_result"
    }
   ],
   "source": [
    "[\n",
    "    method_name\n",
    "    for method_name in dir(matches.plot)\n",
    "    if not method_name.startswith(\"_\")\n",
    "]"
   ]
  },
  {
   "cell_type": "code",
   "execution_count": 14,
   "metadata": {},
   "outputs": [
    {
     "data": {
      "text/plain": [
       "<AxesSubplot:>"
      ]
     },
     "execution_count": 14,
     "metadata": {},
     "output_type": "execute_result"
    },
    {
     "data": {
      "image/png": "[encoded data removed]",
      "text/plain": [
       "<Figure size 432x288 with 1 Axes>"
      ]
     },
     "metadata": {
      "needs_background": "light"
     },
     "output_type": "display_data"
    }
   ],
   "source": [
    "new_df = matches.drop(columns=['league_id', 'spi1', 'spi2'])\n",
    "new_df.plot.box()"
   ]
  },
  {
   "cell_type": "code",
   "execution_count": 15,
   "metadata": {},
   "outputs": [
    {
     "data": {
      "image/png": "[encoded data removed]",
      "text/plain": [
       "<Figure size 864x288 with 1 Axes>"
      ]
     },
     "metadata": {
      "needs_background": "light"
     },
     "output_type": "display_data"
    }
   ],
   "source": [
    "fig, axs = plt.subplots(figsize=(12, 4))        # Create an empty matplotlib Figure and Axes\n",
    "new_df.plot.area(ax=axs)                   # Use pandas to put the area plot on the prepared Figure/Axes\n",
    "axs.set_ylabel(\"Date\")          # Do any matplotlib customization you like\n",
    "fig.savefig(\"testing.png\")           # Save the Figure/Axes using the existing matplotlib method.\n"
   ]
  },
  {
   "cell_type": "code",
   "execution_count": 16,
   "metadata": {},
   "outputs": [],
   "source": [
    "# df = df.rename(columns=str.lower)"
   ]
  },
  {
   "cell_type": "code",
   "execution_count": 17,
   "metadata": {},
   "outputs": [
    {
     "data": {
      "text/plain": [
       "Index(['league', 'team1', 'team2', 'prob1', 'prob2', 'probtie', 'proj_score1',\n",
       "       'proj_score2', 'score1', 'score2', 'xg1', 'xg2', 'nsxg1', 'nsxg2',\n",
       "       'adj_score1', 'adj_score2'],\n",
       "      dtype='object')"
      ]
     },
     "execution_count": 17,
     "metadata": {},
     "output_type": "execute_result"
    }
   ],
   "source": [
    "new_df.columns"
   ]
  },
  {
   "cell_type": "code",
   "execution_count": 18,
   "metadata": {},
   "outputs": [
    {
     "data": {
      "text/html": [
       "<div>\n",
       "<style scoped>\n",
       "    .dataframe tbody tr th:only-of-type {\n",
       "        vertical-align: middle;\n",
       "    }\n",
       "\n",
       "    .dataframe tbody tr th {\n",
       "        vertical-align: top;\n",
       "    }\n",
       "\n",
       "    .dataframe thead th {\n",
       "        text-align: right;\n",
       "    }\n",
       "</style>\n",
       "<table border=\"1\" class=\"dataframe\">\n",
       "  <thead>\n",
       "    <tr style=\"text-align: right;\">\n",
       "      <th></th>\n",
       "      <th>prob1</th>\n",
       "      <th>prob2</th>\n",
       "      <th>probtie</th>\n",
       "      <th>proj_score1</th>\n",
       "      <th>proj_score2</th>\n",
       "      <th>score2</th>\n",
       "      <th>xg1</th>\n",
       "      <th>xg2</th>\n",
       "      <th>nsxg1</th>\n",
       "      <th>nsxg2</th>\n",
       "      <th>adj_score1</th>\n",
       "      <th>adj_score2</th>\n",
       "    </tr>\n",
       "    <tr>\n",
       "      <th>score1</th>\n",
       "      <th></th>\n",
       "      <th></th>\n",
       "      <th></th>\n",
       "      <th></th>\n",
       "      <th></th>\n",
       "      <th></th>\n",
       "      <th></th>\n",
       "      <th></th>\n",
       "      <th></th>\n",
       "      <th></th>\n",
       "      <th></th>\n",
       "      <th></th>\n",
       "    </tr>\n",
       "  </thead>\n",
       "  <tbody>\n",
       "    <tr>\n",
       "      <th>0</th>\n",
       "      <td>0.302400</td>\n",
       "      <td>0.458224</td>\n",
       "      <td>0.239412</td>\n",
       "      <td>1.114118</td>\n",
       "      <td>1.456471</td>\n",
       "      <td>1.529412</td>\n",
       "      <td>0.829412</td>\n",
       "      <td>1.115294</td>\n",
       "      <td>1.192353</td>\n",
       "      <td>1.259412</td>\n",
       "      <td>0.000000</td>\n",
       "      <td>1.547059</td>\n",
       "    </tr>\n",
       "    <tr>\n",
       "      <th>1</th>\n",
       "      <td>0.451336</td>\n",
       "      <td>0.360277</td>\n",
       "      <td>0.188395</td>\n",
       "      <td>1.412727</td>\n",
       "      <td>1.200000</td>\n",
       "      <td>1.136364</td>\n",
       "      <td>1.442727</td>\n",
       "      <td>1.177727</td>\n",
       "      <td>1.576818</td>\n",
       "      <td>1.128182</td>\n",
       "      <td>1.050000</td>\n",
       "      <td>1.174091</td>\n",
       "    </tr>\n",
       "    <tr>\n",
       "      <th>2</th>\n",
       "      <td>0.500573</td>\n",
       "      <td>0.343227</td>\n",
       "      <td>0.156187</td>\n",
       "      <td>1.515333</td>\n",
       "      <td>1.140000</td>\n",
       "      <td>0.866667</td>\n",
       "      <td>1.669333</td>\n",
       "      <td>1.028000</td>\n",
       "      <td>1.751333</td>\n",
       "      <td>1.415333</td>\n",
       "      <td>1.970667</td>\n",
       "      <td>0.910000</td>\n",
       "    </tr>\n",
       "    <tr>\n",
       "      <th>3</th>\n",
       "      <td>0.537300</td>\n",
       "      <td>0.261820</td>\n",
       "      <td>0.200880</td>\n",
       "      <td>1.696000</td>\n",
       "      <td>1.040000</td>\n",
       "      <td>1.200000</td>\n",
       "      <td>1.840000</td>\n",
       "      <td>0.866000</td>\n",
       "      <td>1.914000</td>\n",
       "      <td>1.282000</td>\n",
       "      <td>3.000000</td>\n",
       "      <td>1.260000</td>\n",
       "    </tr>\n",
       "    <tr>\n",
       "      <th>4</th>\n",
       "      <td>0.569200</td>\n",
       "      <td>0.430800</td>\n",
       "      <td>0.000000</td>\n",
       "      <td>1.395000</td>\n",
       "      <td>1.135000</td>\n",
       "      <td>2.500000</td>\n",
       "      <td>1.645000</td>\n",
       "      <td>0.825000</td>\n",
       "      <td>0.840000</td>\n",
       "      <td>1.465000</td>\n",
       "      <td>4.200000</td>\n",
       "      <td>2.625000</td>\n",
       "    </tr>\n",
       "    <tr>\n",
       "      <th>5</th>\n",
       "      <td>0.708950</td>\n",
       "      <td>0.098750</td>\n",
       "      <td>0.192250</td>\n",
       "      <td>2.250000</td>\n",
       "      <td>0.695000</td>\n",
       "      <td>1.000000</td>\n",
       "      <td>3.225000</td>\n",
       "      <td>0.655000</td>\n",
       "      <td>1.830000</td>\n",
       "      <td>0.770000</td>\n",
       "      <td>4.460000</td>\n",
       "      <td>1.050000</td>\n",
       "    </tr>\n",
       "    <tr>\n",
       "      <th>6</th>\n",
       "      <td>0.757400</td>\n",
       "      <td>0.053800</td>\n",
       "      <td>0.188900</td>\n",
       "      <td>2.040000</td>\n",
       "      <td>0.360000</td>\n",
       "      <td>1.000000</td>\n",
       "      <td>3.060000</td>\n",
       "      <td>1.020000</td>\n",
       "      <td>1.350000</td>\n",
       "      <td>0.890000</td>\n",
       "      <td>6.300000</td>\n",
       "      <td>1.050000</td>\n",
       "    </tr>\n",
       "  </tbody>\n",
       "</table>\n",
       "</div>"
      ],
      "text/plain": [
       "           prob1     prob2   probtie  proj_score1  proj_score2    score2  \\\n",
       "score1                                                                     \n",
       "0       0.302400  0.458224  0.239412     1.114118     1.456471  1.529412   \n",
       "1       0.451336  0.360277  0.188395     1.412727     1.200000  1.136364   \n",
       "2       0.500573  0.343227  0.156187     1.515333     1.140000  0.866667   \n",
       "3       0.537300  0.261820  0.200880     1.696000     1.040000  1.200000   \n",
       "4       0.569200  0.430800  0.000000     1.395000     1.135000  2.500000   \n",
       "5       0.708950  0.098750  0.192250     2.250000     0.695000  1.000000   \n",
       "6       0.757400  0.053800  0.188900     2.040000     0.360000  1.000000   \n",
       "\n",
       "             xg1       xg2     nsxg1     nsxg2  adj_score1  adj_score2  \n",
       "score1                                                                  \n",
       "0       0.829412  1.115294  1.192353  1.259412    0.000000    1.547059  \n",
       "1       1.442727  1.177727  1.576818  1.128182    1.050000    1.174091  \n",
       "2       1.669333  1.028000  1.751333  1.415333    1.970667    0.910000  \n",
       "3       1.840000  0.866000  1.914000  1.282000    3.000000    1.260000  \n",
       "4       1.645000  0.825000  0.840000  1.465000    4.200000    2.625000  \n",
       "5       3.225000  0.655000  1.830000  0.770000    4.460000    1.050000  \n",
       "6       3.060000  1.020000  1.350000  0.890000    6.300000    1.050000  "
      ]
     },
     "execution_count": 18,
     "metadata": {},
     "output_type": "execute_result"
    }
   ],
   "source": [
    "new_df.groupby(\"score1\").mean()"
   ]
  },
  {
   "cell_type": "code",
   "execution_count": 19,
   "metadata": {},
   "outputs": [
    {
     "data": {
      "text/plain": [
       "score1\n",
       "0    0.829412\n",
       "1    1.442727\n",
       "2    1.669333\n",
       "3    1.840000\n",
       "4    1.645000\n",
       "5    3.225000\n",
       "6    3.060000\n",
       "Name: xg1, dtype: float64"
      ]
     },
     "execution_count": 19,
     "metadata": {},
     "output_type": "execute_result"
    }
   ],
   "source": [
    "new_df.groupby(\"score1\")[\"xg1\"].mean()"
   ]
  },
  {
   "cell_type": "code",
   "execution_count": 20,
   "metadata": {},
   "outputs": [
    {
     "data": {
      "text/html": [
       "<div>\n",
       "<style scoped>\n",
       "    .dataframe tbody tr th:only-of-type {\n",
       "        vertical-align: middle;\n",
       "    }\n",
       "\n",
       "    .dataframe tbody tr th {\n",
       "        vertical-align: top;\n",
       "    }\n",
       "\n",
       "    .dataframe thead th {\n",
       "        text-align: right;\n",
       "    }\n",
       "</style>\n",
       "<table border=\"1\" class=\"dataframe\">\n",
       "  <thead>\n",
       "    <tr style=\"text-align: right;\">\n",
       "      <th></th>\n",
       "      <th>xg1</th>\n",
       "    </tr>\n",
       "    <tr>\n",
       "      <th>score1</th>\n",
       "      <th></th>\n",
       "    </tr>\n",
       "  </thead>\n",
       "  <tbody>\n",
       "    <tr>\n",
       "      <th>0</th>\n",
       "      <td>0.829412</td>\n",
       "    </tr>\n",
       "    <tr>\n",
       "      <th>1</th>\n",
       "      <td>1.442727</td>\n",
       "    </tr>\n",
       "    <tr>\n",
       "      <th>2</th>\n",
       "      <td>1.669333</td>\n",
       "    </tr>\n",
       "    <tr>\n",
       "      <th>3</th>\n",
       "      <td>1.840000</td>\n",
       "    </tr>\n",
       "    <tr>\n",
       "      <th>4</th>\n",
       "      <td>1.645000</td>\n",
       "    </tr>\n",
       "    <tr>\n",
       "      <th>5</th>\n",
       "      <td>3.225000</td>\n",
       "    </tr>\n",
       "    <tr>\n",
       "      <th>6</th>\n",
       "      <td>3.060000</td>\n",
       "    </tr>\n",
       "  </tbody>\n",
       "</table>\n",
       "</div>"
      ],
      "text/plain": [
       "             xg1\n",
       "score1          \n",
       "0       0.829412\n",
       "1       1.442727\n",
       "2       1.669333\n",
       "3       1.840000\n",
       "4       1.645000\n",
       "5       3.225000\n",
       "6       3.060000"
      ]
     },
     "execution_count": 20,
     "metadata": {},
     "output_type": "execute_result"
    }
   ],
   "source": [
    "new_df[[\"score1\", \"xg1\"]].groupby(\"score1\").mean()"
   ]
  },
  {
   "cell_type": "code",
   "execution_count": 21,
   "metadata": {},
   "outputs": [
    {
     "data": {
      "text/plain": [
       "score1  xg1 \n",
       "0       0.21    0.48\n",
       "        0.28    0.80\n",
       "        0.42    0.65\n",
       "        0.45    1.14\n",
       "        0.56    0.92\n",
       "                ... \n",
       "4       1.18    0.98\n",
       "        2.11    0.70\n",
       "5       1.62    1.55\n",
       "        4.83    2.11\n",
       "6       3.06    1.35\n",
       "Name: nsxg1, Length: 64, dtype: float64"
      ]
     },
     "execution_count": 21,
     "metadata": {},
     "output_type": "execute_result"
    }
   ],
   "source": [
    "new_df.groupby([\"score1\", \"xg1\"])[\"nsxg1\"].mean()"
   ]
  },
  {
   "cell_type": "code",
   "execution_count": 22,
   "metadata": {},
   "outputs": [
    {
     "data": {
      "text/plain": [
       "score1\n",
       "0    17\n",
       "1    22\n",
       "2    15\n",
       "3     5\n",
       "4     2\n",
       "5     2\n",
       "6     1\n",
       "Name: score1, dtype: int64"
      ]
     },
     "execution_count": 22,
     "metadata": {},
     "output_type": "execute_result"
    }
   ],
   "source": [
    "new_df.groupby(\"score1\")[\"score1\"].count()"
   ]
  },
  {
   "cell_type": "code",
   "execution_count": 23,
   "metadata": {},
   "outputs": [
    {
     "data": {
      "text/html": [
       "<div>\n",
       "<style scoped>\n",
       "    .dataframe tbody tr th:only-of-type {\n",
       "        vertical-align: middle;\n",
       "    }\n",
       "\n",
       "    .dataframe tbody tr th {\n",
       "        vertical-align: top;\n",
       "    }\n",
       "\n",
       "    .dataframe thead th {\n",
       "        text-align: right;\n",
       "    }\n",
       "</style>\n",
       "<table border=\"1\" class=\"dataframe\">\n",
       "  <thead>\n",
       "    <tr style=\"text-align: right;\">\n",
       "      <th></th>\n",
       "      <th>league</th>\n",
       "      <th>team1</th>\n",
       "      <th>team2</th>\n",
       "      <th>prob1</th>\n",
       "      <th>prob2</th>\n",
       "      <th>probtie</th>\n",
       "      <th>proj_score1</th>\n",
       "      <th>proj_score2</th>\n",
       "      <th>score1</th>\n",
       "      <th>score2</th>\n",
       "      <th>xg1</th>\n",
       "      <th>xg2</th>\n",
       "      <th>nsxg1</th>\n",
       "      <th>nsxg2</th>\n",
       "      <th>adj_score1</th>\n",
       "      <th>adj_score2</th>\n",
       "    </tr>\n",
       "    <tr>\n",
       "      <th>date</th>\n",
       "      <th></th>\n",
       "      <th></th>\n",
       "      <th></th>\n",
       "      <th></th>\n",
       "      <th></th>\n",
       "      <th></th>\n",
       "      <th></th>\n",
       "      <th></th>\n",
       "      <th></th>\n",
       "      <th></th>\n",
       "      <th></th>\n",
       "      <th></th>\n",
       "      <th></th>\n",
       "      <th></th>\n",
       "      <th></th>\n",
       "      <th></th>\n",
       "    </tr>\n",
       "  </thead>\n",
       "  <tbody>\n",
       "    <tr>\n",
       "      <th>2018-06-24</th>\n",
       "      <td>FIFA World Cup</td>\n",
       "      <td>Poland</td>\n",
       "      <td>Colombia</td>\n",
       "      <td>0.2924</td>\n",
       "      <td>0.4205</td>\n",
       "      <td>0.2871</td>\n",
       "      <td>1.15</td>\n",
       "      <td>1.43</td>\n",
       "      <td>0</td>\n",
       "      <td>3</td>\n",
       "      <td>1.12</td>\n",
       "      <td>1.81</td>\n",
       "      <td>0.97</td>\n",
       "      <td>0.64</td>\n",
       "      <td>0.0</td>\n",
       "      <td>3.03</td>\n",
       "    </tr>\n",
       "    <tr>\n",
       "      <th>2018-07-06</th>\n",
       "      <td>FIFA World Cup</td>\n",
       "      <td>Uruguay</td>\n",
       "      <td>France</td>\n",
       "      <td>0.3847</td>\n",
       "      <td>0.6153</td>\n",
       "      <td>0.0000</td>\n",
       "      <td>1.08</td>\n",
       "      <td>1.49</td>\n",
       "      <td>0</td>\n",
       "      <td>2</td>\n",
       "      <td>0.45</td>\n",
       "      <td>0.45</td>\n",
       "      <td>1.14</td>\n",
       "      <td>1.41</td>\n",
       "      <td>0.0</td>\n",
       "      <td>2.10</td>\n",
       "    </tr>\n",
       "    <tr>\n",
       "      <th>2018-06-28</th>\n",
       "      <td>FIFA World Cup</td>\n",
       "      <td>England</td>\n",
       "      <td>Belgium</td>\n",
       "      <td>0.3714</td>\n",
       "      <td>0.3596</td>\n",
       "      <td>0.2691</td>\n",
       "      <td>1.49</td>\n",
       "      <td>1.46</td>\n",
       "      <td>0</td>\n",
       "      <td>1</td>\n",
       "      <td>0.77</td>\n",
       "      <td>0.78</td>\n",
       "      <td>0.87</td>\n",
       "      <td>1.58</td>\n",
       "      <td>0.0</td>\n",
       "      <td>1.05</td>\n",
       "    </tr>\n",
       "    <tr>\n",
       "      <th>2018-06-28</th>\n",
       "      <td>FIFA World Cup</td>\n",
       "      <td>Japan</td>\n",
       "      <td>Poland</td>\n",
       "      <td>0.3620</td>\n",
       "      <td>0.3731</td>\n",
       "      <td>0.2649</td>\n",
       "      <td>1.51</td>\n",
       "      <td>1.53</td>\n",
       "      <td>0</td>\n",
       "      <td>1</td>\n",
       "      <td>0.59</td>\n",
       "      <td>1.56</td>\n",
       "      <td>1.06</td>\n",
       "      <td>1.08</td>\n",
       "      <td>0.0</td>\n",
       "      <td>1.05</td>\n",
       "    </tr>\n",
       "    <tr>\n",
       "      <th>2018-06-28</th>\n",
       "      <td>FIFA World Cup</td>\n",
       "      <td>Senegal</td>\n",
       "      <td>Colombia</td>\n",
       "      <td>0.2055</td>\n",
       "      <td>0.4931</td>\n",
       "      <td>0.3015</td>\n",
       "      <td>0.79</td>\n",
       "      <td>1.39</td>\n",
       "      <td>0</td>\n",
       "      <td>1</td>\n",
       "      <td>0.28</td>\n",
       "      <td>0.33</td>\n",
       "      <td>0.80</td>\n",
       "      <td>0.65</td>\n",
       "      <td>0.0</td>\n",
       "      <td>1.05</td>\n",
       "    </tr>\n",
       "  </tbody>\n",
       "</table>\n",
       "</div>"
      ],
      "text/plain": [
       "                    league    team1     team2   prob1   prob2  probtie  \\\n",
       "date                                                                     \n",
       "2018-06-24  FIFA World Cup   Poland  Colombia  0.2924  0.4205   0.2871   \n",
       "2018-07-06  FIFA World Cup  Uruguay    France  0.3847  0.6153   0.0000   \n",
       "2018-06-28  FIFA World Cup  England   Belgium  0.3714  0.3596   0.2691   \n",
       "2018-06-28  FIFA World Cup    Japan    Poland  0.3620  0.3731   0.2649   \n",
       "2018-06-28  FIFA World Cup  Senegal  Colombia  0.2055  0.4931   0.3015   \n",
       "\n",
       "            proj_score1  proj_score2  score1  score2   xg1   xg2  nsxg1  \\\n",
       "date                                                                      \n",
       "2018-06-24         1.15         1.43       0       3  1.12  1.81   0.97   \n",
       "2018-07-06         1.08         1.49       0       2  0.45  0.45   1.14   \n",
       "2018-06-28         1.49         1.46       0       1  0.77  0.78   0.87   \n",
       "2018-06-28         1.51         1.53       0       1  0.59  1.56   1.06   \n",
       "2018-06-28         0.79         1.39       0       1  0.28  0.33   0.80   \n",
       "\n",
       "            nsxg2  adj_score1  adj_score2  \n",
       "date                                       \n",
       "2018-06-24   0.64         0.0        3.03  \n",
       "2018-07-06   1.41         0.0        2.10  \n",
       "2018-06-28   1.58         0.0        1.05  \n",
       "2018-06-28   1.08         0.0        1.05  \n",
       "2018-06-28   0.65         0.0        1.05  "
      ]
     },
     "execution_count": 23,
     "metadata": {},
     "output_type": "execute_result"
    }
   ],
   "source": [
    "new_df.sort_values(by=\"score1\").head()"
   ]
  },
  {
   "cell_type": "code",
   "execution_count": 24,
   "metadata": {},
   "outputs": [],
   "source": [
    "# titanic[\"Name\"].str.split(\",\")"
   ]
  },
  {
   "cell_type": "code",
   "execution_count": 25,
   "metadata": {},
   "outputs": [],
   "source": [
    "# titanic[\"Surname\"] = titanic[\"Name\"].str.split(\",\").str.get(0)"
   ]
  },
  {
   "cell_type": "code",
   "execution_count": 26,
   "metadata": {},
   "outputs": [],
   "source": [
    "# titanic[titanic[\"Name\"].str.contains(\"Countess\")]"
   ]
  },
  {
   "cell_type": "code",
   "execution_count": 27,
   "metadata": {
    "scrolled": true
   },
   "outputs": [],
   "source": [
    "#Adding goal difference and establishing who is the winner \n",
    "winner = []\n",
    "for i in range (len(matches['team2'])):\n",
    "    if matches ['score2'][i] > matches['score1'][i]:\n",
    "        winner.append(matches['team2'][i])\n",
    "    elif matches['score2'][i] < matches ['score1'][i]:\n",
    "        winner.append(matches['team1'][i])\n",
    "    else:\n",
    "        winner.append('Draw')\n",
    "matches['winning_team'] = winner\n",
    "\n",
    "#adding goal difference column\n",
    "matches['goal_difference'] = np.absolute(matches['score2'] - matches['score1'])\n",
    "\n",
    "# matches.head()"
   ]
  },
  {
   "cell_type": "code",
   "execution_count": 28,
   "metadata": {},
   "outputs": [
    {
     "data": {
      "text/plain": [
       "(64, 21)"
      ]
     },
     "execution_count": 28,
     "metadata": {},
     "output_type": "execute_result"
    }
   ],
   "source": [
    "matches.shape"
   ]
  },
  {
   "cell_type": "markdown",
   "metadata": {},
   "source": [
    "## World Cup Comparisons Data"
   ]
  },
  {
   "cell_type": "code",
   "execution_count": 29,
   "metadata": {},
   "outputs": [],
   "source": [
    "comparisons = pd.read_csv('world_cup_comparisons.csv')"
   ]
  },
  {
   "cell_type": "code",
   "execution_count": 30,
   "metadata": {},
   "outputs": [
    {
     "data": {
      "text/plain": [
       "Index(['player', 'season', 'team', 'goals_z', 'xg_z', 'crosses_z',\n",
       "       'boxtouches_z', 'passes_z', 'progpasses_z', 'takeons_z', 'progruns_z',\n",
       "       'tackles_z', 'interceptions_z', 'clearances_z', 'blocks_z', 'aerials_z',\n",
       "       'fouls_z', 'fouled_z', 'nsxg_z'],\n",
       "      dtype='object')"
      ]
     },
     "execution_count": 30,
     "metadata": {},
     "output_type": "execute_result"
    }
   ],
   "source": [
    "comparisons.columns"
   ]
  },
  {
   "cell_type": "code",
   "execution_count": 31,
   "metadata": {},
   "outputs": [
    {
     "data": {
      "text/plain": [
       "(5899, 19)"
      ]
     },
     "execution_count": 31,
     "metadata": {},
     "output_type": "execute_result"
    }
   ],
   "source": [
    "comparisons.shape"
   ]
  },
  {
   "cell_type": "markdown",
   "metadata": {},
   "source": [
    "### Change comparisons to world cups 2018, 2014, and 2010"
   ]
  },
  {
   "cell_type": "markdown",
   "metadata": {},
   "source": [
    "comparisons years 2010-2018"
   ]
  },
  {
   "cell_type": "code",
   "execution_count": 32,
   "metadata": {},
   "outputs": [],
   "source": [
    "comparisons = comparisons.loc[comparisons['season'].isin(years)]"
   ]
  },
  {
   "cell_type": "code",
   "execution_count": 33,
   "metadata": {},
   "outputs": [
    {
     "data": {
      "text/plain": [
       "(1668, 19)"
      ]
     },
     "execution_count": 33,
     "metadata": {},
     "output_type": "execute_result"
    }
   ],
   "source": [
    "comparisons.shape"
   ]
  },
  {
   "cell_type": "markdown",
   "metadata": {},
   "source": [
    "comparisons teams that are in world cup 2022"
   ]
  },
  {
   "cell_type": "code",
   "execution_count": 34,
   "metadata": {},
   "outputs": [],
   "source": [
    "comparisons = comparisons.loc[comparisons['team'].isin(teams_2022)]"
   ]
  },
  {
   "cell_type": "code",
   "execution_count": 35,
   "metadata": {},
   "outputs": [
    {
     "data": {
      "text/plain": [
       "(1094, 19)"
      ]
     },
     "execution_count": 35,
     "metadata": {},
     "output_type": "execute_result"
    }
   ],
   "source": [
    "comparisons.shape"
   ]
  },
  {
   "cell_type": "code",
   "execution_count": 36,
   "metadata": {},
   "outputs": [],
   "source": [
    "year2010 = [2010]\n",
    "year2014 = [2014]\n",
    "year2018 = [2018]"
   ]
  },
  {
   "cell_type": "markdown",
   "metadata": {},
   "source": [
    "# Germany"
   ]
  },
  {
   "cell_type": "code",
   "execution_count": 37,
   "metadata": {},
   "outputs": [],
   "source": [
    "ger = [\"Germany\"]"
   ]
  },
  {
   "cell_type": "code",
   "execution_count": 38,
   "metadata": {},
   "outputs": [],
   "source": [
    "ger_years = comparisons.loc[comparisons[\"team\"].isin(ger)]"
   ]
  },
  {
   "cell_type": "code",
   "execution_count": 39,
   "metadata": {},
   "outputs": [],
   "source": [
    "ger2010year = ger_years.loc[ger_years[\"season\"].isin(year2010)]"
   ]
  },
  {
   "cell_type": "code",
   "execution_count": 40,
   "metadata": {},
   "outputs": [],
   "source": [
    "ger2010xg = ger2010year.sort_values(by=[\"xg_z\"], ascending=False)"
   ]
  },
  {
   "cell_type": "code",
   "execution_count": 41,
   "metadata": {},
   "outputs": [],
   "source": [
    "ger2010xg13 = ger2010xg.head(13)"
   ]
  },
  {
   "cell_type": "markdown",
   "metadata": {},
   "source": [
    "#### top 13 players from Germany in 2010 by XG"
   ]
  },
  {
   "cell_type": "markdown",
   "metadata": {},
   "source": [
    "### Remove columns"
   ]
  },
  {
   "cell_type": "code",
   "execution_count": 42,
   "metadata": {},
   "outputs": [],
   "source": [
    "ger2010xg13 = ger2010xg13.drop(columns=['player', 'season', 'team', 'boxtouches_z', 'progpasses_z', 'progruns_z', 'crosses_z', 'passes_z', 'takeons_z', 'tackles_z', 'interceptions_z', 'clearances_z', 'blocks_z', 'aerials_z'])\n"
   ]
  },
  {
   "cell_type": "code",
   "execution_count": 43,
   "metadata": {
    "scrolled": true
   },
   "outputs": [],
   "source": [
    "ger2010 = ger2010xg13.mean()"
   ]
  },
  {
   "cell_type": "code",
   "execution_count": 44,
   "metadata": {},
   "outputs": [
    {
     "data": {
      "text/plain": [
       "goals_z     0.816923\n",
       "xg_z        0.513077\n",
       "fouls_z    -0.294615\n",
       "fouled_z   -0.134615\n",
       "nsxg_z      0.328462\n",
       "dtype: float64"
      ]
     },
     "execution_count": 44,
     "metadata": {},
     "output_type": "execute_result"
    }
   ],
   "source": [
    "ger2010"
   ]
  },
  {
   "cell_type": "code",
   "execution_count": 45,
   "metadata": {},
   "outputs": [
    {
     "data": {
      "text/plain": [
       "1.0301325828750079"
      ]
     },
     "execution_count": 45,
     "metadata": {},
     "output_type": "execute_result"
    }
   ],
   "source": [
    "(.513077 + .328462) / .816923"
   ]
  },
  {
   "cell_type": "markdown",
   "metadata": {},
   "source": [
    "### Fouled"
   ]
  },
  {
   "cell_type": "code",
   "execution_count": 46,
   "metadata": {},
   "outputs": [
    {
     "data": {
      "text/plain": [
       "0.16"
      ]
     },
     "execution_count": 46,
     "metadata": {},
     "output_type": "execute_result"
    }
   ],
   "source": [
    "-0.134615 - -0.294615"
   ]
  },
  {
   "cell_type": "markdown",
   "metadata": {},
   "source": [
    "# Setup New DF for derived stats"
   ]
  },
  {
   "cell_type": "code",
   "execution_count": 47,
   "metadata": {},
   "outputs": [],
   "source": [
    "# initialize list of lists\n",
    "data = [['Germany', 2010, 1.0301]]\n",
    "  \n",
    "# Create the pandas DataFrame\n",
    "stats_df = pd.DataFrame(data, columns=['Country', 'Year', 'new_xg'])\n",
    "  "
   ]
  },
  {
   "cell_type": "code",
   "execution_count": 48,
   "metadata": {},
   "outputs": [],
   "source": [
    "stats_df['Fouled'] = 0.16"
   ]
  },
  {
   "cell_type": "code",
   "execution_count": 49,
   "metadata": {},
   "outputs": [
    {
     "data": {
      "text/html": [
       "<div>\n",
       "<style scoped>\n",
       "    .dataframe tbody tr th:only-of-type {\n",
       "        vertical-align: middle;\n",
       "    }\n",
       "\n",
       "    .dataframe tbody tr th {\n",
       "        vertical-align: top;\n",
       "    }\n",
       "\n",
       "    .dataframe thead th {\n",
       "        text-align: right;\n",
       "    }\n",
       "</style>\n",
       "<table border=\"1\" class=\"dataframe\">\n",
       "  <thead>\n",
       "    <tr style=\"text-align: right;\">\n",
       "      <th></th>\n",
       "      <th>Country</th>\n",
       "      <th>Year</th>\n",
       "      <th>new_xg</th>\n",
       "      <th>Fouled</th>\n",
       "    </tr>\n",
       "  </thead>\n",
       "  <tbody>\n",
       "    <tr>\n",
       "      <th>0</th>\n",
       "      <td>Germany</td>\n",
       "      <td>2010</td>\n",
       "      <td>1.0301</td>\n",
       "      <td>0.16</td>\n",
       "    </tr>\n",
       "  </tbody>\n",
       "</table>\n",
       "</div>"
      ],
      "text/plain": [
       "   Country  Year  new_xg  Fouled\n",
       "0  Germany  2010  1.0301    0.16"
      ]
     },
     "execution_count": 49,
     "metadata": {},
     "output_type": "execute_result"
    }
   ],
   "source": [
    "stats_df"
   ]
  },
  {
   "cell_type": "markdown",
   "metadata": {},
   "source": [
    "# Switzerland\n",
    "* 2010: -1.76 \n",
    "* 2014: 1.954\n",
    "* 2018: 2.143"
   ]
  },
  {
   "cell_type": "code",
   "execution_count": 50,
   "metadata": {},
   "outputs": [],
   "source": [
    "swits = ['Switzerland']"
   ]
  },
  {
   "cell_type": "code",
   "execution_count": 51,
   "metadata": {},
   "outputs": [],
   "source": [
    "swiss_year = comparisons.loc[comparisons[\"team\"].isin(swits)]"
   ]
  },
  {
   "cell_type": "code",
   "execution_count": 52,
   "metadata": {},
   "outputs": [],
   "source": [
    "swiss2010year = swiss_year.loc[swiss_year[\"season\"].isin(year2010)]"
   ]
  },
  {
   "cell_type": "code",
   "execution_count": 53,
   "metadata": {},
   "outputs": [],
   "source": [
    "ch2010xg = swiss2010year.sort_values(by=[\"xg_z\"], ascending=False)"
   ]
  },
  {
   "cell_type": "code",
   "execution_count": 54,
   "metadata": {},
   "outputs": [],
   "source": [
    "ch2010xg13 = ch2010xg.head(13)"
   ]
  },
  {
   "cell_type": "code",
   "execution_count": 55,
   "metadata": {},
   "outputs": [],
   "source": [
    "ch2010xg13 = ch2010xg13.drop(columns=['player', 'season', 'team', 'boxtouches_z', 'progpasses_z', 'progruns_z', 'crosses_z', 'passes_z', 'takeons_z', 'tackles_z', 'interceptions_z', 'clearances_z', 'blocks_z', 'aerials_z'])\n"
   ]
  },
  {
   "cell_type": "code",
   "execution_count": 56,
   "metadata": {},
   "outputs": [],
   "source": [
    "ch2010 = ch2010xg13.mean()"
   ]
  },
  {
   "cell_type": "code",
   "execution_count": 57,
   "metadata": {},
   "outputs": [
    {
     "data": {
      "text/plain": [
       "goals_z    -0.222308\n",
       "xg_z        0.122308\n",
       "fouls_z     0.429231\n",
       "fouled_z    0.042308\n",
       "nsxg_z      0.269231\n",
       "dtype: float64"
      ]
     },
     "execution_count": 57,
     "metadata": {},
     "output_type": "execute_result"
    }
   ],
   "source": [
    "ch2010"
   ]
  },
  {
   "cell_type": "code",
   "execution_count": 58,
   "metadata": {},
   "outputs": [
    {
     "data": {
      "text/plain": [
       "-1.761245659175558"
      ]
     },
     "execution_count": 58,
     "metadata": {},
     "output_type": "execute_result"
    }
   ],
   "source": [
    "(.122308 + .269231) / -0.222308"
   ]
  },
  {
   "cell_type": "markdown",
   "metadata": {},
   "source": [
    "### Fouled"
   ]
  },
  {
   "cell_type": "code",
   "execution_count": 59,
   "metadata": {},
   "outputs": [
    {
     "data": {
      "text/plain": [
       "-0.38692299999999996"
      ]
     },
     "execution_count": 59,
     "metadata": {},
     "output_type": "execute_result"
    }
   ],
   "source": [
    ".042308 - .429231"
   ]
  },
  {
   "cell_type": "code",
   "execution_count": 60,
   "metadata": {},
   "outputs": [],
   "source": [
    "new_row = {'Country': 'Switzerland', 'Year': 2010, 'new_xg': -1.7612, 'Fouled': -0.3869}\n",
    "\n",
    "stats_df = stats_df.append(new_row, ignore_index=True)"
   ]
  },
  {
   "cell_type": "code",
   "execution_count": 61,
   "metadata": {},
   "outputs": [
    {
     "data": {
      "text/html": [
       "<div>\n",
       "<style scoped>\n",
       "    .dataframe tbody tr th:only-of-type {\n",
       "        vertical-align: middle;\n",
       "    }\n",
       "\n",
       "    .dataframe tbody tr th {\n",
       "        vertical-align: top;\n",
       "    }\n",
       "\n",
       "    .dataframe thead th {\n",
       "        text-align: right;\n",
       "    }\n",
       "</style>\n",
       "<table border=\"1\" class=\"dataframe\">\n",
       "  <thead>\n",
       "    <tr style=\"text-align: right;\">\n",
       "      <th></th>\n",
       "      <th>Country</th>\n",
       "      <th>Year</th>\n",
       "      <th>new_xg</th>\n",
       "      <th>Fouled</th>\n",
       "    </tr>\n",
       "  </thead>\n",
       "  <tbody>\n",
       "    <tr>\n",
       "      <th>0</th>\n",
       "      <td>Germany</td>\n",
       "      <td>2010</td>\n",
       "      <td>1.0301</td>\n",
       "      <td>0.1600</td>\n",
       "    </tr>\n",
       "    <tr>\n",
       "      <th>1</th>\n",
       "      <td>Switzerland</td>\n",
       "      <td>2010</td>\n",
       "      <td>-1.7612</td>\n",
       "      <td>-0.3869</td>\n",
       "    </tr>\n",
       "  </tbody>\n",
       "</table>\n",
       "</div>"
      ],
      "text/plain": [
       "       Country  Year  new_xg  Fouled\n",
       "0      Germany  2010  1.0301  0.1600\n",
       "1  Switzerland  2010 -1.7612 -0.3869"
      ]
     },
     "execution_count": 61,
     "metadata": {},
     "output_type": "execute_result"
    }
   ],
   "source": [
    "stats_df"
   ]
  },
  {
   "cell_type": "markdown",
   "metadata": {},
   "source": [
    "### 2014"
   ]
  },
  {
   "cell_type": "code",
   "execution_count": 62,
   "metadata": {},
   "outputs": [],
   "source": [
    "swiss2014year = swiss_year.loc[swiss_year[\"season\"].isin(year2014)]"
   ]
  },
  {
   "cell_type": "code",
   "execution_count": 63,
   "metadata": {},
   "outputs": [],
   "source": [
    "ch2014xg = swiss2014year.sort_values(by=[\"xg_z\"], ascending=False)"
   ]
  },
  {
   "cell_type": "code",
   "execution_count": 64,
   "metadata": {},
   "outputs": [],
   "source": [
    "ch2014xg13 = ch2014xg.head(13)"
   ]
  },
  {
   "cell_type": "code",
   "execution_count": 65,
   "metadata": {},
   "outputs": [],
   "source": [
    "ch2014xg13 = ch2014xg13.drop(columns=['player', 'season', 'team', 'boxtouches_z', 'progpasses_z', 'progruns_z', 'crosses_z', 'passes_z', 'takeons_z', 'tackles_z', 'interceptions_z', 'clearances_z', 'blocks_z', 'aerials_z'])\n"
   ]
  },
  {
   "cell_type": "code",
   "execution_count": 66,
   "metadata": {},
   "outputs": [],
   "source": [
    "ch2014 = ch2014xg13.mean()"
   ]
  },
  {
   "cell_type": "code",
   "execution_count": 67,
   "metadata": {},
   "outputs": [
    {
     "data": {
      "text/plain": [
       "goals_z     0.387692\n",
       "xg_z        0.550769\n",
       "fouls_z     0.323077\n",
       "fouled_z    0.382308\n",
       "nsxg_z      0.206923\n",
       "dtype: float64"
      ]
     },
     "execution_count": 67,
     "metadata": {},
     "output_type": "execute_result"
    }
   ],
   "source": [
    "ch2014"
   ]
  },
  {
   "cell_type": "code",
   "execution_count": 68,
   "metadata": {},
   "outputs": [
    {
     "data": {
      "text/plain": [
       "1.954365836798283"
      ]
     },
     "execution_count": 68,
     "metadata": {},
     "output_type": "execute_result"
    }
   ],
   "source": [
    "(.550769 + .206923) / .387692"
   ]
  },
  {
   "cell_type": "markdown",
   "metadata": {},
   "source": [
    "### Fouled"
   ]
  },
  {
   "cell_type": "code",
   "execution_count": 69,
   "metadata": {},
   "outputs": [
    {
     "data": {
      "text/plain": [
       "0.05923099999999998"
      ]
     },
     "execution_count": 69,
     "metadata": {},
     "output_type": "execute_result"
    }
   ],
   "source": [
    ".382308 - .323077"
   ]
  },
  {
   "cell_type": "code",
   "execution_count": 70,
   "metadata": {},
   "outputs": [],
   "source": [
    "new_row = {'Country': 'Switzerland', 'Year': 2014, 'new_xg': 1.9543, 'Fouled': 0.05923}\n",
    "\n",
    "stats_df = stats_df.append(new_row, ignore_index=True)"
   ]
  },
  {
   "cell_type": "code",
   "execution_count": 71,
   "metadata": {},
   "outputs": [
    {
     "data": {
      "text/html": [
       "<div>\n",
       "<style scoped>\n",
       "    .dataframe tbody tr th:only-of-type {\n",
       "        vertical-align: middle;\n",
       "    }\n",
       "\n",
       "    .dataframe tbody tr th {\n",
       "        vertical-align: top;\n",
       "    }\n",
       "\n",
       "    .dataframe thead th {\n",
       "        text-align: right;\n",
       "    }\n",
       "</style>\n",
       "<table border=\"1\" class=\"dataframe\">\n",
       "  <thead>\n",
       "    <tr style=\"text-align: right;\">\n",
       "      <th></th>\n",
       "      <th>Country</th>\n",
       "      <th>Year</th>\n",
       "      <th>new_xg</th>\n",
       "      <th>Fouled</th>\n",
       "    </tr>\n",
       "  </thead>\n",
       "  <tbody>\n",
       "    <tr>\n",
       "      <th>0</th>\n",
       "      <td>Germany</td>\n",
       "      <td>2010</td>\n",
       "      <td>1.0301</td>\n",
       "      <td>0.16000</td>\n",
       "    </tr>\n",
       "    <tr>\n",
       "      <th>1</th>\n",
       "      <td>Switzerland</td>\n",
       "      <td>2010</td>\n",
       "      <td>-1.7612</td>\n",
       "      <td>-0.38690</td>\n",
       "    </tr>\n",
       "    <tr>\n",
       "      <th>2</th>\n",
       "      <td>Switzerland</td>\n",
       "      <td>2014</td>\n",
       "      <td>1.9543</td>\n",
       "      <td>0.05923</td>\n",
       "    </tr>\n",
       "  </tbody>\n",
       "</table>\n",
       "</div>"
      ],
      "text/plain": [
       "       Country  Year  new_xg   Fouled\n",
       "0      Germany  2010  1.0301  0.16000\n",
       "1  Switzerland  2010 -1.7612 -0.38690\n",
       "2  Switzerland  2014  1.9543  0.05923"
      ]
     },
     "execution_count": 71,
     "metadata": {},
     "output_type": "execute_result"
    }
   ],
   "source": [
    "stats_df"
   ]
  },
  {
   "cell_type": "markdown",
   "metadata": {},
   "source": [
    "### 2018"
   ]
  },
  {
   "cell_type": "code",
   "execution_count": 72,
   "metadata": {},
   "outputs": [],
   "source": [
    "swiss2018year = swiss_year.loc[swiss_year[\"season\"].isin(year2018)]"
   ]
  },
  {
   "cell_type": "code",
   "execution_count": 73,
   "metadata": {},
   "outputs": [],
   "source": [
    "ch2018xg = swiss2018year.sort_values(by=[\"xg_z\"], ascending=False)"
   ]
  },
  {
   "cell_type": "code",
   "execution_count": 74,
   "metadata": {},
   "outputs": [],
   "source": [
    "ch2018xg13 = ch2018xg.head(13)"
   ]
  },
  {
   "cell_type": "code",
   "execution_count": 75,
   "metadata": {},
   "outputs": [],
   "source": [
    "ch2018xg13 = ch2018xg13.drop(columns=['player', 'season', 'team', 'boxtouches_z', 'progpasses_z', 'progruns_z', 'crosses_z', 'passes_z', 'takeons_z', 'tackles_z', 'interceptions_z', 'clearances_z', 'blocks_z', 'aerials_z'])\n"
   ]
  },
  {
   "cell_type": "code",
   "execution_count": 76,
   "metadata": {},
   "outputs": [],
   "source": [
    "ch2018 = ch2018xg13.mean()"
   ]
  },
  {
   "cell_type": "code",
   "execution_count": 77,
   "metadata": {},
   "outputs": [
    {
     "data": {
      "text/plain": [
       "goals_z     0.241538\n",
       "xg_z        0.330769\n",
       "fouls_z    -0.040000\n",
       "fouled_z    0.116154\n",
       "nsxg_z      0.186923\n",
       "dtype: float64"
      ]
     },
     "execution_count": 77,
     "metadata": {},
     "output_type": "execute_result"
    }
   ],
   "source": [
    "ch2018"
   ]
  },
  {
   "cell_type": "code",
   "execution_count": 78,
   "metadata": {},
   "outputs": [
    {
     "data": {
      "text/plain": [
       "2.143314923531701"
      ]
     },
     "execution_count": 78,
     "metadata": {},
     "output_type": "execute_result"
    }
   ],
   "source": [
    "(.330769 + .186923) / 0.241538"
   ]
  },
  {
   "cell_type": "markdown",
   "metadata": {},
   "source": [
    "### Fouled"
   ]
  },
  {
   "cell_type": "code",
   "execution_count": 79,
   "metadata": {},
   "outputs": [
    {
     "data": {
      "text/plain": [
       "0.156154"
      ]
     },
     "execution_count": 79,
     "metadata": {},
     "output_type": "execute_result"
    }
   ],
   "source": [
    ".116154 - -0.040000"
   ]
  },
  {
   "cell_type": "code",
   "execution_count": 80,
   "metadata": {},
   "outputs": [],
   "source": [
    "new_row = {'Country': 'Switzerland', 'Year': 2018, 'new_xg': 2.1433, 'Fouled': 0.1561}\n",
    "\n",
    "stats_df = stats_df.append(new_row, ignore_index=True)"
   ]
  },
  {
   "cell_type": "code",
   "execution_count": 81,
   "metadata": {},
   "outputs": [
    {
     "data": {
      "text/html": [
       "<div>\n",
       "<style scoped>\n",
       "    .dataframe tbody tr th:only-of-type {\n",
       "        vertical-align: middle;\n",
       "    }\n",
       "\n",
       "    .dataframe tbody tr th {\n",
       "        vertical-align: top;\n",
       "    }\n",
       "\n",
       "    .dataframe thead th {\n",
       "        text-align: right;\n",
       "    }\n",
       "</style>\n",
       "<table border=\"1\" class=\"dataframe\">\n",
       "  <thead>\n",
       "    <tr style=\"text-align: right;\">\n",
       "      <th></th>\n",
       "      <th>Country</th>\n",
       "      <th>Year</th>\n",
       "      <th>new_xg</th>\n",
       "      <th>Fouled</th>\n",
       "    </tr>\n",
       "  </thead>\n",
       "  <tbody>\n",
       "    <tr>\n",
       "      <th>0</th>\n",
       "      <td>Germany</td>\n",
       "      <td>2010</td>\n",
       "      <td>1.0301</td>\n",
       "      <td>0.16000</td>\n",
       "    </tr>\n",
       "    <tr>\n",
       "      <th>1</th>\n",
       "      <td>Switzerland</td>\n",
       "      <td>2010</td>\n",
       "      <td>-1.7612</td>\n",
       "      <td>-0.38690</td>\n",
       "    </tr>\n",
       "    <tr>\n",
       "      <th>2</th>\n",
       "      <td>Switzerland</td>\n",
       "      <td>2014</td>\n",
       "      <td>1.9543</td>\n",
       "      <td>0.05923</td>\n",
       "    </tr>\n",
       "    <tr>\n",
       "      <th>3</th>\n",
       "      <td>Switzerland</td>\n",
       "      <td>2018</td>\n",
       "      <td>2.1433</td>\n",
       "      <td>0.15610</td>\n",
       "    </tr>\n",
       "  </tbody>\n",
       "</table>\n",
       "</div>"
      ],
      "text/plain": [
       "       Country  Year  new_xg   Fouled\n",
       "0      Germany  2010  1.0301  0.16000\n",
       "1  Switzerland  2010 -1.7612 -0.38690\n",
       "2  Switzerland  2014  1.9543  0.05923\n",
       "3  Switzerland  2018  2.1433  0.15610"
      ]
     },
     "execution_count": 81,
     "metadata": {},
     "output_type": "execute_result"
    }
   ],
   "source": [
    "stats_df"
   ]
  },
  {
   "cell_type": "markdown",
   "metadata": {},
   "source": [
    "# Spain"
   ]
  },
  {
   "cell_type": "code",
   "execution_count": 82,
   "metadata": {},
   "outputs": [],
   "source": [
    "es = ['Spain']"
   ]
  },
  {
   "cell_type": "code",
   "execution_count": 83,
   "metadata": {},
   "outputs": [],
   "source": [
    "es_year = comparisons.loc[comparisons[\"team\"].isin(es)]"
   ]
  },
  {
   "cell_type": "code",
   "execution_count": 84,
   "metadata": {},
   "outputs": [],
   "source": [
    "es2010year = es_year.loc[es_year[\"season\"].isin(year2010)]"
   ]
  },
  {
   "cell_type": "code",
   "execution_count": 85,
   "metadata": {},
   "outputs": [],
   "source": [
    "es2010xg = es2010year.sort_values(by=[\"xg_z\"], ascending=False)"
   ]
  },
  {
   "cell_type": "code",
   "execution_count": 86,
   "metadata": {},
   "outputs": [],
   "source": [
    "es2010xg13 = es2010xg.head(13)"
   ]
  },
  {
   "cell_type": "code",
   "execution_count": 87,
   "metadata": {},
   "outputs": [],
   "source": [
    "es2010xg13 = es2010xg13.drop(columns=['player', 'season', 'team', 'boxtouches_z', 'progpasses_z', 'progruns_z', 'crosses_z', 'passes_z', 'takeons_z', 'tackles_z', 'interceptions_z', 'clearances_z', 'blocks_z', 'aerials_z'])\n"
   ]
  },
  {
   "cell_type": "code",
   "execution_count": 88,
   "metadata": {},
   "outputs": [],
   "source": [
    "es2010 = es2010xg13.mean()"
   ]
  },
  {
   "cell_type": "code",
   "execution_count": 89,
   "metadata": {},
   "outputs": [
    {
     "data": {
      "text/plain": [
       "goals_z     0.180000\n",
       "xg_z        0.539231\n",
       "fouls_z    -0.138462\n",
       "fouled_z    0.464615\n",
       "nsxg_z      0.762308\n",
       "dtype: float64"
      ]
     },
     "execution_count": 89,
     "metadata": {},
     "output_type": "execute_result"
    }
   ],
   "source": [
    "es2010"
   ]
  },
  {
   "cell_type": "code",
   "execution_count": 90,
   "metadata": {},
   "outputs": [
    {
     "data": {
      "text/plain": [
       "7.230772222222223"
      ]
     },
     "execution_count": 90,
     "metadata": {},
     "output_type": "execute_result"
    }
   ],
   "source": [
    "(.539231 + .762308) / .180000"
   ]
  },
  {
   "cell_type": "markdown",
   "metadata": {},
   "source": [
    "### Fouled"
   ]
  },
  {
   "cell_type": "code",
   "execution_count": 91,
   "metadata": {},
   "outputs": [
    {
     "data": {
      "text/plain": [
       "0.603077"
      ]
     },
     "execution_count": 91,
     "metadata": {},
     "output_type": "execute_result"
    }
   ],
   "source": [
    ".464615 - -0.138462"
   ]
  },
  {
   "cell_type": "code",
   "execution_count": 92,
   "metadata": {},
   "outputs": [],
   "source": [
    "new_row = {'Country': 'Spain', 'Year': 2010, 'new_xg': 7.2307, 'Fouled': 0.60307}\n",
    "\n",
    "stats_df = stats_df.append(new_row, ignore_index=True)"
   ]
  },
  {
   "cell_type": "code",
   "execution_count": 93,
   "metadata": {},
   "outputs": [
    {
     "data": {
      "text/html": [
       "<div>\n",
       "<style scoped>\n",
       "    .dataframe tbody tr th:only-of-type {\n",
       "        vertical-align: middle;\n",
       "    }\n",
       "\n",
       "    .dataframe tbody tr th {\n",
       "        vertical-align: top;\n",
       "    }\n",
       "\n",
       "    .dataframe thead th {\n",
       "        text-align: right;\n",
       "    }\n",
       "</style>\n",
       "<table border=\"1\" class=\"dataframe\">\n",
       "  <thead>\n",
       "    <tr style=\"text-align: right;\">\n",
       "      <th></th>\n",
       "      <th>Country</th>\n",
       "      <th>Year</th>\n",
       "      <th>new_xg</th>\n",
       "      <th>Fouled</th>\n",
       "    </tr>\n",
       "  </thead>\n",
       "  <tbody>\n",
       "    <tr>\n",
       "      <th>0</th>\n",
       "      <td>Germany</td>\n",
       "      <td>2010</td>\n",
       "      <td>1.0301</td>\n",
       "      <td>0.16000</td>\n",
       "    </tr>\n",
       "    <tr>\n",
       "      <th>1</th>\n",
       "      <td>Switzerland</td>\n",
       "      <td>2010</td>\n",
       "      <td>-1.7612</td>\n",
       "      <td>-0.38690</td>\n",
       "    </tr>\n",
       "    <tr>\n",
       "      <th>2</th>\n",
       "      <td>Switzerland</td>\n",
       "      <td>2014</td>\n",
       "      <td>1.9543</td>\n",
       "      <td>0.05923</td>\n",
       "    </tr>\n",
       "    <tr>\n",
       "      <th>3</th>\n",
       "      <td>Switzerland</td>\n",
       "      <td>2018</td>\n",
       "      <td>2.1433</td>\n",
       "      <td>0.15610</td>\n",
       "    </tr>\n",
       "    <tr>\n",
       "      <th>4</th>\n",
       "      <td>Spain</td>\n",
       "      <td>2010</td>\n",
       "      <td>7.2307</td>\n",
       "      <td>0.60307</td>\n",
       "    </tr>\n",
       "  </tbody>\n",
       "</table>\n",
       "</div>"
      ],
      "text/plain": [
       "       Country  Year  new_xg   Fouled\n",
       "0      Germany  2010  1.0301  0.16000\n",
       "1  Switzerland  2010 -1.7612 -0.38690\n",
       "2  Switzerland  2014  1.9543  0.05923\n",
       "3  Switzerland  2018  2.1433  0.15610\n",
       "4        Spain  2010  7.2307  0.60307"
      ]
     },
     "execution_count": 93,
     "metadata": {},
     "output_type": "execute_result"
    }
   ],
   "source": [
    "stats_df"
   ]
  },
  {
   "cell_type": "markdown",
   "metadata": {},
   "source": [
    "#  Portugal"
   ]
  },
  {
   "cell_type": "code",
   "execution_count": 94,
   "metadata": {},
   "outputs": [],
   "source": [
    "port = ['Portugal']"
   ]
  },
  {
   "cell_type": "code",
   "execution_count": 95,
   "metadata": {},
   "outputs": [],
   "source": [
    "port_year = comparisons.loc[comparisons[\"team\"].isin(port)]"
   ]
  },
  {
   "cell_type": "code",
   "execution_count": 96,
   "metadata": {},
   "outputs": [],
   "source": [
    "port2010year = port_year.loc[port_year[\"season\"].isin(year2010)]"
   ]
  },
  {
   "cell_type": "code",
   "execution_count": 97,
   "metadata": {},
   "outputs": [],
   "source": [
    "port2010xg = port2010year.sort_values(by=[\"xg_z\"], ascending=False)"
   ]
  },
  {
   "cell_type": "code",
   "execution_count": 98,
   "metadata": {},
   "outputs": [],
   "source": [
    "port2010xg13 = port2010xg.head(13)"
   ]
  },
  {
   "cell_type": "code",
   "execution_count": 99,
   "metadata": {},
   "outputs": [],
   "source": [
    "port2010xg13 = port2010xg13.drop(columns=['player', 'season', 'team', 'boxtouches_z', 'progpasses_z', 'progruns_z', 'crosses_z', 'passes_z', 'takeons_z', 'tackles_z', 'interceptions_z', 'clearances_z', 'blocks_z', 'aerials_z'])\n"
   ]
  },
  {
   "cell_type": "code",
   "execution_count": 100,
   "metadata": {},
   "outputs": [],
   "source": [
    "port2010 = port2010xg13.mean()"
   ]
  },
  {
   "cell_type": "code",
   "execution_count": 101,
   "metadata": {},
   "outputs": [
    {
     "data": {
      "text/plain": [
       "goals_z     0.531538\n",
       "xg_z        0.284615\n",
       "fouls_z     0.236154\n",
       "fouled_z   -0.030000\n",
       "nsxg_z      0.053077\n",
       "dtype: float64"
      ]
     },
     "execution_count": 101,
     "metadata": {},
     "output_type": "execute_result"
    }
   ],
   "source": [
    "port2010"
   ]
  },
  {
   "cell_type": "code",
   "execution_count": 102,
   "metadata": {},
   "outputs": [
    {
     "data": {
      "text/plain": [
       "0.6353111160443844"
      ]
     },
     "execution_count": 102,
     "metadata": {},
     "output_type": "execute_result"
    }
   ],
   "source": [
    "(.284615 + .053077) / .531538"
   ]
  },
  {
   "cell_type": "markdown",
   "metadata": {},
   "source": [
    "### Fouled"
   ]
  },
  {
   "cell_type": "code",
   "execution_count": 103,
   "metadata": {},
   "outputs": [
    {
     "data": {
      "text/plain": [
       "-0.266154"
      ]
     },
     "execution_count": 103,
     "metadata": {},
     "output_type": "execute_result"
    }
   ],
   "source": [
    "-0.030000 - .236154"
   ]
  },
  {
   "cell_type": "code",
   "execution_count": 104,
   "metadata": {},
   "outputs": [],
   "source": [
    "new_row = {'Country': 'Portugal', 'Year': 2010, 'new_xg': 0.63531, 'Fouled': -0.2661}\n",
    "\n",
    "stats_df = stats_df.append(new_row, ignore_index=True)"
   ]
  },
  {
   "cell_type": "code",
   "execution_count": 105,
   "metadata": {},
   "outputs": [
    {
     "data": {
      "text/html": [
       "<div>\n",
       "<style scoped>\n",
       "    .dataframe tbody tr th:only-of-type {\n",
       "        vertical-align: middle;\n",
       "    }\n",
       "\n",
       "    .dataframe tbody tr th {\n",
       "        vertical-align: top;\n",
       "    }\n",
       "\n",
       "    .dataframe thead th {\n",
       "        text-align: right;\n",
       "    }\n",
       "</style>\n",
       "<table border=\"1\" class=\"dataframe\">\n",
       "  <thead>\n",
       "    <tr style=\"text-align: right;\">\n",
       "      <th></th>\n",
       "      <th>Country</th>\n",
       "      <th>Year</th>\n",
       "      <th>new_xg</th>\n",
       "      <th>Fouled</th>\n",
       "    </tr>\n",
       "  </thead>\n",
       "  <tbody>\n",
       "    <tr>\n",
       "      <th>0</th>\n",
       "      <td>Germany</td>\n",
       "      <td>2010</td>\n",
       "      <td>1.03010</td>\n",
       "      <td>0.16000</td>\n",
       "    </tr>\n",
       "    <tr>\n",
       "      <th>1</th>\n",
       "      <td>Switzerland</td>\n",
       "      <td>2010</td>\n",
       "      <td>-1.76120</td>\n",
       "      <td>-0.38690</td>\n",
       "    </tr>\n",
       "    <tr>\n",
       "      <th>2</th>\n",
       "      <td>Switzerland</td>\n",
       "      <td>2014</td>\n",
       "      <td>1.95430</td>\n",
       "      <td>0.05923</td>\n",
       "    </tr>\n",
       "    <tr>\n",
       "      <th>3</th>\n",
       "      <td>Switzerland</td>\n",
       "      <td>2018</td>\n",
       "      <td>2.14330</td>\n",
       "      <td>0.15610</td>\n",
       "    </tr>\n",
       "    <tr>\n",
       "      <th>4</th>\n",
       "      <td>Spain</td>\n",
       "      <td>2010</td>\n",
       "      <td>7.23070</td>\n",
       "      <td>0.60307</td>\n",
       "    </tr>\n",
       "    <tr>\n",
       "      <th>5</th>\n",
       "      <td>Portugal</td>\n",
       "      <td>2010</td>\n",
       "      <td>0.63531</td>\n",
       "      <td>-0.26610</td>\n",
       "    </tr>\n",
       "  </tbody>\n",
       "</table>\n",
       "</div>"
      ],
      "text/plain": [
       "       Country  Year   new_xg   Fouled\n",
       "0      Germany  2010  1.03010  0.16000\n",
       "1  Switzerland  2010 -1.76120 -0.38690\n",
       "2  Switzerland  2014  1.95430  0.05923\n",
       "3  Switzerland  2018  2.14330  0.15610\n",
       "4        Spain  2010  7.23070  0.60307\n",
       "5     Portugal  2010  0.63531 -0.26610"
      ]
     },
     "execution_count": 105,
     "metadata": {},
     "output_type": "execute_result"
    }
   ],
   "source": [
    "stats_df"
   ]
  },
  {
   "cell_type": "markdown",
   "metadata": {},
   "source": [
    "# Netherlands"
   ]
  },
  {
   "cell_type": "code",
   "execution_count": 106,
   "metadata": {},
   "outputs": [],
   "source": [
    "ned = ['Netherlands']"
   ]
  },
  {
   "cell_type": "code",
   "execution_count": 107,
   "metadata": {},
   "outputs": [],
   "source": [
    "ned_year = comparisons.loc[comparisons[\"team\"].isin(ned)]"
   ]
  },
  {
   "cell_type": "code",
   "execution_count": 108,
   "metadata": {},
   "outputs": [],
   "source": [
    "ned2010year = ned_year.loc[ned_year[\"season\"].isin(year2010)]"
   ]
  },
  {
   "cell_type": "code",
   "execution_count": 109,
   "metadata": {},
   "outputs": [],
   "source": [
    "ned2010xg = ned2010year.sort_values(by=[\"xg_z\"], ascending=False)"
   ]
  },
  {
   "cell_type": "code",
   "execution_count": 110,
   "metadata": {},
   "outputs": [],
   "source": [
    "ned2010xg13 = ned2010xg.head(13)"
   ]
  },
  {
   "cell_type": "code",
   "execution_count": 111,
   "metadata": {},
   "outputs": [],
   "source": [
    "ned2010xg13 = ned2010xg13.drop(columns=['player', 'season', 'team', 'boxtouches_z', 'progpasses_z', 'progruns_z', 'crosses_z', 'passes_z', 'takeons_z', 'tackles_z', 'interceptions_z', 'clearances_z', 'blocks_z', 'aerials_z'])\n"
   ]
  },
  {
   "cell_type": "code",
   "execution_count": 112,
   "metadata": {},
   "outputs": [],
   "source": [
    "ned2010 = ned2010xg13.mean()"
   ]
  },
  {
   "cell_type": "code",
   "execution_count": 113,
   "metadata": {},
   "outputs": [
    {
     "data": {
      "text/plain": [
       "goals_z     0.396923\n",
       "xg_z        0.126923\n",
       "fouls_z     0.368462\n",
       "fouled_z    0.439231\n",
       "nsxg_z      0.127692\n",
       "dtype: float64"
      ]
     },
     "execution_count": 113,
     "metadata": {},
     "output_type": "execute_result"
    }
   ],
   "source": [
    "ned2010"
   ]
  },
  {
   "cell_type": "code",
   "execution_count": 114,
   "metadata": {},
   "outputs": [
    {
     "data": {
      "text/plain": [
       "0.6414720235410899"
      ]
     },
     "execution_count": 114,
     "metadata": {},
     "output_type": "execute_result"
    }
   ],
   "source": [
    "(.126923 + .127692) / .396923"
   ]
  },
  {
   "cell_type": "markdown",
   "metadata": {},
   "source": [
    "### Fouled"
   ]
  },
  {
   "cell_type": "code",
   "execution_count": 115,
   "metadata": {},
   "outputs": [
    {
     "data": {
      "text/plain": [
       "0.07076899999999997"
      ]
     },
     "execution_count": 115,
     "metadata": {},
     "output_type": "execute_result"
    }
   ],
   "source": [
    ".439231 - .368462"
   ]
  },
  {
   "cell_type": "code",
   "execution_count": 116,
   "metadata": {},
   "outputs": [],
   "source": [
    "new_row = {'Country': 'Netherlands', 'Year': 2010, 'new_xg': 0.64147, 'Fouled': 0.0707}\n",
    "\n",
    "stats_df = stats_df.append(new_row, ignore_index=True)"
   ]
  },
  {
   "cell_type": "code",
   "execution_count": 117,
   "metadata": {},
   "outputs": [
    {
     "data": {
      "text/html": [
       "<div>\n",
       "<style scoped>\n",
       "    .dataframe tbody tr th:only-of-type {\n",
       "        vertical-align: middle;\n",
       "    }\n",
       "\n",
       "    .dataframe tbody tr th {\n",
       "        vertical-align: top;\n",
       "    }\n",
       "\n",
       "    .dataframe thead th {\n",
       "        text-align: right;\n",
       "    }\n",
       "</style>\n",
       "<table border=\"1\" class=\"dataframe\">\n",
       "  <thead>\n",
       "    <tr style=\"text-align: right;\">\n",
       "      <th></th>\n",
       "      <th>Country</th>\n",
       "      <th>Year</th>\n",
       "      <th>new_xg</th>\n",
       "      <th>Fouled</th>\n",
       "    </tr>\n",
       "  </thead>\n",
       "  <tbody>\n",
       "    <tr>\n",
       "      <th>0</th>\n",
       "      <td>Germany</td>\n",
       "      <td>2010</td>\n",
       "      <td>1.03010</td>\n",
       "      <td>0.16000</td>\n",
       "    </tr>\n",
       "    <tr>\n",
       "      <th>1</th>\n",
       "      <td>Switzerland</td>\n",
       "      <td>2010</td>\n",
       "      <td>-1.76120</td>\n",
       "      <td>-0.38690</td>\n",
       "    </tr>\n",
       "    <tr>\n",
       "      <th>2</th>\n",
       "      <td>Switzerland</td>\n",
       "      <td>2014</td>\n",
       "      <td>1.95430</td>\n",
       "      <td>0.05923</td>\n",
       "    </tr>\n",
       "    <tr>\n",
       "      <th>3</th>\n",
       "      <td>Switzerland</td>\n",
       "      <td>2018</td>\n",
       "      <td>2.14330</td>\n",
       "      <td>0.15610</td>\n",
       "    </tr>\n",
       "    <tr>\n",
       "      <th>4</th>\n",
       "      <td>Spain</td>\n",
       "      <td>2010</td>\n",
       "      <td>7.23070</td>\n",
       "      <td>0.60307</td>\n",
       "    </tr>\n",
       "    <tr>\n",
       "      <th>5</th>\n",
       "      <td>Portugal</td>\n",
       "      <td>2010</td>\n",
       "      <td>0.63531</td>\n",
       "      <td>-0.26610</td>\n",
       "    </tr>\n",
       "    <tr>\n",
       "      <th>6</th>\n",
       "      <td>Netherlands</td>\n",
       "      <td>2010</td>\n",
       "      <td>0.64147</td>\n",
       "      <td>0.07070</td>\n",
       "    </tr>\n",
       "  </tbody>\n",
       "</table>\n",
       "</div>"
      ],
      "text/plain": [
       "       Country  Year   new_xg   Fouled\n",
       "0      Germany  2010  1.03010  0.16000\n",
       "1  Switzerland  2010 -1.76120 -0.38690\n",
       "2  Switzerland  2014  1.95430  0.05923\n",
       "3  Switzerland  2018  2.14330  0.15610\n",
       "4        Spain  2010  7.23070  0.60307\n",
       "5     Portugal  2010  0.63531 -0.26610\n",
       "6  Netherlands  2010  0.64147  0.07070"
      ]
     },
     "execution_count": 117,
     "metadata": {},
     "output_type": "execute_result"
    }
   ],
   "source": [
    "stats_df"
   ]
  },
  {
   "cell_type": "markdown",
   "metadata": {},
   "source": [
    "# Brazil"
   ]
  },
  {
   "cell_type": "code",
   "execution_count": 118,
   "metadata": {},
   "outputs": [],
   "source": [
    "bra = ['Brazil']"
   ]
  },
  {
   "cell_type": "code",
   "execution_count": 119,
   "metadata": {},
   "outputs": [],
   "source": [
    "bra_year = comparisons.loc[comparisons[\"team\"].isin(bra)]"
   ]
  },
  {
   "cell_type": "code",
   "execution_count": 120,
   "metadata": {},
   "outputs": [],
   "source": [
    "bra2010year = bra_year.loc[bra_year[\"season\"].isin(year2010)]"
   ]
  },
  {
   "cell_type": "code",
   "execution_count": 121,
   "metadata": {},
   "outputs": [],
   "source": [
    "bra2010xg = bra2010year.sort_values(by=[\"xg_z\"], ascending=False)"
   ]
  },
  {
   "cell_type": "code",
   "execution_count": 122,
   "metadata": {},
   "outputs": [],
   "source": [
    "bra2010xg13 = bra2010xg.head(13)"
   ]
  },
  {
   "cell_type": "code",
   "execution_count": 123,
   "metadata": {},
   "outputs": [],
   "source": [
    "bra2010xg13 = bra2010xg13.drop(columns=['player', 'season', 'team', 'boxtouches_z', 'progpasses_z', 'progruns_z', 'crosses_z', 'passes_z', 'takeons_z', 'tackles_z', 'interceptions_z', 'clearances_z', 'blocks_z', 'aerials_z'])\n"
   ]
  },
  {
   "cell_type": "code",
   "execution_count": 124,
   "metadata": {},
   "outputs": [],
   "source": [
    "bra2010 = bra2010xg13.mean()"
   ]
  },
  {
   "cell_type": "code",
   "execution_count": 125,
   "metadata": {},
   "outputs": [
    {
     "data": {
      "text/plain": [
       "goals_z     0.557692\n",
       "xg_z        0.186923\n",
       "fouls_z     0.248462\n",
       "fouled_z    0.331538\n",
       "nsxg_z      0.535385\n",
       "dtype: float64"
      ]
     },
     "execution_count": 125,
     "metadata": {},
     "output_type": "execute_result"
    }
   ],
   "source": [
    "bra2010"
   ]
  },
  {
   "cell_type": "code",
   "execution_count": 126,
   "metadata": {},
   "outputs": [
    {
     "data": {
      "text/plain": [
       "1.2951736800958236"
      ]
     },
     "execution_count": 126,
     "metadata": {},
     "output_type": "execute_result"
    }
   ],
   "source": [
    "(.186923 + .535385) / .557692"
   ]
  },
  {
   "cell_type": "markdown",
   "metadata": {},
   "source": [
    "### Fouled"
   ]
  },
  {
   "cell_type": "code",
   "execution_count": 127,
   "metadata": {},
   "outputs": [
    {
     "data": {
      "text/plain": [
       "0.08307600000000001"
      ]
     },
     "execution_count": 127,
     "metadata": {},
     "output_type": "execute_result"
    }
   ],
   "source": [
    ".331538 - .248462"
   ]
  },
  {
   "cell_type": "code",
   "execution_count": 128,
   "metadata": {},
   "outputs": [],
   "source": [
    "new_row = {'Country': 'Brazil', 'Year': 2010, 'new_xg': 1.29517, 'Fouled': 0.08307}\n",
    "\n",
    "stats_df = stats_df.append(new_row, ignore_index=True)"
   ]
  },
  {
   "cell_type": "code",
   "execution_count": 129,
   "metadata": {},
   "outputs": [
    {
     "data": {
      "text/html": [
       "<div>\n",
       "<style scoped>\n",
       "    .dataframe tbody tr th:only-of-type {\n",
       "        vertical-align: middle;\n",
       "    }\n",
       "\n",
       "    .dataframe tbody tr th {\n",
       "        vertical-align: top;\n",
       "    }\n",
       "\n",
       "    .dataframe thead th {\n",
       "        text-align: right;\n",
       "    }\n",
       "</style>\n",
       "<table border=\"1\" class=\"dataframe\">\n",
       "  <thead>\n",
       "    <tr style=\"text-align: right;\">\n",
       "      <th></th>\n",
       "      <th>Country</th>\n",
       "      <th>Year</th>\n",
       "      <th>new_xg</th>\n",
       "      <th>Fouled</th>\n",
       "    </tr>\n",
       "  </thead>\n",
       "  <tbody>\n",
       "    <tr>\n",
       "      <th>0</th>\n",
       "      <td>Germany</td>\n",
       "      <td>2010</td>\n",
       "      <td>1.03010</td>\n",
       "      <td>0.16000</td>\n",
       "    </tr>\n",
       "    <tr>\n",
       "      <th>1</th>\n",
       "      <td>Switzerland</td>\n",
       "      <td>2010</td>\n",
       "      <td>-1.76120</td>\n",
       "      <td>-0.38690</td>\n",
       "    </tr>\n",
       "    <tr>\n",
       "      <th>2</th>\n",
       "      <td>Switzerland</td>\n",
       "      <td>2014</td>\n",
       "      <td>1.95430</td>\n",
       "      <td>0.05923</td>\n",
       "    </tr>\n",
       "    <tr>\n",
       "      <th>3</th>\n",
       "      <td>Switzerland</td>\n",
       "      <td>2018</td>\n",
       "      <td>2.14330</td>\n",
       "      <td>0.15610</td>\n",
       "    </tr>\n",
       "    <tr>\n",
       "      <th>4</th>\n",
       "      <td>Spain</td>\n",
       "      <td>2010</td>\n",
       "      <td>7.23070</td>\n",
       "      <td>0.60307</td>\n",
       "    </tr>\n",
       "    <tr>\n",
       "      <th>5</th>\n",
       "      <td>Portugal</td>\n",
       "      <td>2010</td>\n",
       "      <td>0.63531</td>\n",
       "      <td>-0.26610</td>\n",
       "    </tr>\n",
       "    <tr>\n",
       "      <th>6</th>\n",
       "      <td>Netherlands</td>\n",
       "      <td>2010</td>\n",
       "      <td>0.64147</td>\n",
       "      <td>0.07070</td>\n",
       "    </tr>\n",
       "    <tr>\n",
       "      <th>7</th>\n",
       "      <td>Brazil</td>\n",
       "      <td>2010</td>\n",
       "      <td>1.29517</td>\n",
       "      <td>0.08307</td>\n",
       "    </tr>\n",
       "  </tbody>\n",
       "</table>\n",
       "</div>"
      ],
      "text/plain": [
       "       Country  Year   new_xg   Fouled\n",
       "0      Germany  2010  1.03010  0.16000\n",
       "1  Switzerland  2010 -1.76120 -0.38690\n",
       "2  Switzerland  2014  1.95430  0.05923\n",
       "3  Switzerland  2018  2.14330  0.15610\n",
       "4        Spain  2010  7.23070  0.60307\n",
       "5     Portugal  2010  0.63531 -0.26610\n",
       "6  Netherlands  2010  0.64147  0.07070\n",
       "7       Brazil  2010  1.29517  0.08307"
      ]
     },
     "execution_count": 129,
     "metadata": {},
     "output_type": "execute_result"
    }
   ],
   "source": [
    "stats_df"
   ]
  },
  {
   "cell_type": "markdown",
   "metadata": {},
   "source": [
    "# Belgium"
   ]
  },
  {
   "cell_type": "code",
   "execution_count": 130,
   "metadata": {},
   "outputs": [],
   "source": [
    "bel = ['Belgium']"
   ]
  },
  {
   "cell_type": "code",
   "execution_count": 131,
   "metadata": {},
   "outputs": [],
   "source": [
    "bel_year = comparisons.loc[comparisons[\"team\"].isin(bel)]"
   ]
  },
  {
   "cell_type": "code",
   "execution_count": 132,
   "metadata": {},
   "outputs": [],
   "source": [
    "bel2010year = bel_year.loc[bel_year[\"season\"].isin(year2010)]"
   ]
  },
  {
   "cell_type": "code",
   "execution_count": 133,
   "metadata": {},
   "outputs": [],
   "source": [
    "bel2010xg = bel2010year.sort_values(by=[\"xg_z\"], ascending=False)"
   ]
  },
  {
   "cell_type": "code",
   "execution_count": 134,
   "metadata": {},
   "outputs": [],
   "source": [
    "bel2010xg13 = bel2010xg.head(13)"
   ]
  },
  {
   "cell_type": "code",
   "execution_count": 135,
   "metadata": {},
   "outputs": [],
   "source": [
    "bel2010xg13 = bel2010xg13.drop(columns=['player', 'season', 'team', 'boxtouches_z', 'progpasses_z', 'progruns_z', 'crosses_z', 'passes_z', 'takeons_z', 'tackles_z', 'interceptions_z', 'clearances_z', 'blocks_z', 'aerials_z'])\n"
   ]
  },
  {
   "cell_type": "code",
   "execution_count": 136,
   "metadata": {},
   "outputs": [],
   "source": [
    "bel2010 = bel2010xg13.mean()"
   ]
  },
  {
   "cell_type": "code",
   "execution_count": 137,
   "metadata": {},
   "outputs": [
    {
     "data": {
      "text/plain": [
       "goals_z    NaN\n",
       "xg_z       NaN\n",
       "fouls_z    NaN\n",
       "fouled_z   NaN\n",
       "nsxg_z     NaN\n",
       "dtype: float64"
      ]
     },
     "execution_count": 137,
     "metadata": {},
     "output_type": "execute_result"
    }
   ],
   "source": [
    "bel2010"
   ]
  },
  {
   "cell_type": "markdown",
   "metadata": {},
   "source": [
    "# USA"
   ]
  },
  {
   "cell_type": "code",
   "execution_count": 138,
   "metadata": {},
   "outputs": [],
   "source": [
    "us = ['USA']"
   ]
  },
  {
   "cell_type": "code",
   "execution_count": 139,
   "metadata": {},
   "outputs": [],
   "source": [
    "us_year = comparisons.loc[comparisons[\"team\"].isin(us)]"
   ]
  },
  {
   "cell_type": "code",
   "execution_count": 140,
   "metadata": {},
   "outputs": [],
   "source": [
    "us2010year = us_year.loc[us_year[\"season\"].isin(year2010)]"
   ]
  },
  {
   "cell_type": "code",
   "execution_count": 141,
   "metadata": {},
   "outputs": [],
   "source": [
    "us2010xg = us2010year.sort_values(by=[\"xg_z\"], ascending=False)"
   ]
  },
  {
   "cell_type": "code",
   "execution_count": 142,
   "metadata": {},
   "outputs": [],
   "source": [
    "us2010xg13 = us2010xg.head(13)"
   ]
  },
  {
   "cell_type": "code",
   "execution_count": 143,
   "metadata": {},
   "outputs": [],
   "source": [
    "us2010xg13 = us2010xg13.drop(columns=['player', 'season', 'team', 'boxtouches_z', 'progpasses_z', 'progruns_z', 'crosses_z', 'passes_z', 'takeons_z', 'tackles_z', 'interceptions_z', 'clearances_z', 'blocks_z', 'aerials_z'])\n"
   ]
  },
  {
   "cell_type": "code",
   "execution_count": 144,
   "metadata": {},
   "outputs": [],
   "source": [
    "us2010 = us2010xg13.mean()"
   ]
  },
  {
   "cell_type": "code",
   "execution_count": 145,
   "metadata": {},
   "outputs": [
    {
     "data": {
      "text/plain": [
       "goals_z     0.214615\n",
       "xg_z        0.523077\n",
       "fouls_z    -0.122308\n",
       "fouled_z    0.119231\n",
       "nsxg_z      0.124615\n",
       "dtype: float64"
      ]
     },
     "execution_count": 145,
     "metadata": {},
     "output_type": "execute_result"
    }
   ],
   "source": [
    "us2010"
   ]
  },
  {
   "cell_type": "code",
   "execution_count": 146,
   "metadata": {},
   "outputs": [
    {
     "data": {
      "text/plain": [
       "3.017925121729609"
      ]
     },
     "execution_count": 146,
     "metadata": {},
     "output_type": "execute_result"
    }
   ],
   "source": [
    "(.523077 + .124615) / .214615"
   ]
  },
  {
   "cell_type": "markdown",
   "metadata": {},
   "source": [
    "### Fouled"
   ]
  },
  {
   "cell_type": "code",
   "execution_count": 147,
   "metadata": {},
   "outputs": [
    {
     "data": {
      "text/plain": [
       "0.241539"
      ]
     },
     "execution_count": 147,
     "metadata": {},
     "output_type": "execute_result"
    }
   ],
   "source": [
    ".119231 - -0.122308"
   ]
  },
  {
   "cell_type": "code",
   "execution_count": 148,
   "metadata": {},
   "outputs": [],
   "source": [
    "new_row = {'Country': 'USA', 'Year': 2010, 'new_xg': 3.01792, 'Fouled': 0.2415}\n",
    "\n",
    "stats_df = stats_df.append(new_row, ignore_index=True)"
   ]
  },
  {
   "cell_type": "code",
   "execution_count": 149,
   "metadata": {},
   "outputs": [],
   "source": [
    "# stats_df"
   ]
  },
  {
   "cell_type": "markdown",
   "metadata": {},
   "source": [
    "# England"
   ]
  },
  {
   "cell_type": "code",
   "execution_count": 150,
   "metadata": {},
   "outputs": [],
   "source": [
    "eng = ['England']"
   ]
  },
  {
   "cell_type": "code",
   "execution_count": 151,
   "metadata": {},
   "outputs": [],
   "source": [
    "eng_year = comparisons.loc[comparisons[\"team\"].isin(eng)]"
   ]
  },
  {
   "cell_type": "code",
   "execution_count": 152,
   "metadata": {},
   "outputs": [],
   "source": [
    "eng2010year = eng_year.loc[eng_year[\"season\"].isin(year2010)]"
   ]
  },
  {
   "cell_type": "code",
   "execution_count": 153,
   "metadata": {},
   "outputs": [],
   "source": [
    "eng2010xg = eng2010year.sort_values(by=[\"xg_z\"], ascending=False)"
   ]
  },
  {
   "cell_type": "code",
   "execution_count": 154,
   "metadata": {},
   "outputs": [],
   "source": [
    "eng2010xg13 = eng2010xg.head(13)"
   ]
  },
  {
   "cell_type": "code",
   "execution_count": 155,
   "metadata": {},
   "outputs": [],
   "source": [
    "eng2010xg13 = eng2010xg13.drop(columns=['player', 'season', 'team', 'boxtouches_z', 'progpasses_z', 'progruns_z', 'crosses_z', 'passes_z', 'takeons_z', 'tackles_z', 'interceptions_z', 'clearances_z', 'blocks_z', 'aerials_z'])\n"
   ]
  },
  {
   "cell_type": "code",
   "execution_count": 156,
   "metadata": {},
   "outputs": [],
   "source": [
    "eng2010 = eng2010xg13.mean()"
   ]
  },
  {
   "cell_type": "code",
   "execution_count": 157,
   "metadata": {},
   "outputs": [
    {
     "data": {
      "text/plain": [
       "goals_z    -0.000769\n",
       "xg_z        0.323077\n",
       "fouls_z    -0.091538\n",
       "fouled_z    0.042308\n",
       "nsxg_z      0.506154\n",
       "dtype: float64"
      ]
     },
     "execution_count": 157,
     "metadata": {},
     "output_type": "execute_result"
    }
   ],
   "source": [
    "eng2010"
   ]
  },
  {
   "cell_type": "code",
   "execution_count": 158,
   "metadata": {},
   "outputs": [
    {
     "data": {
      "text/plain": [
       "-1078.3237971391418"
      ]
     },
     "execution_count": 158,
     "metadata": {},
     "output_type": "execute_result"
    }
   ],
   "source": [
    "(0.323077 + .506154) / -0.000769"
   ]
  },
  {
   "cell_type": "markdown",
   "metadata": {},
   "source": [
    "### Fouled"
   ]
  },
  {
   "cell_type": "code",
   "execution_count": 159,
   "metadata": {},
   "outputs": [
    {
     "data": {
      "text/plain": [
       "0.133846"
      ]
     },
     "execution_count": 159,
     "metadata": {},
     "output_type": "execute_result"
    }
   ],
   "source": [
    ".042308 - -0.091538"
   ]
  },
  {
   "cell_type": "code",
   "execution_count": 160,
   "metadata": {},
   "outputs": [],
   "source": [
    "new_row = {'Country': 'England', 'Year': 2010, 'new_xg': -1078.32379, 'Fouled': 0.1338}\n",
    "\n",
    "stats_df = stats_df.append(new_row, ignore_index=True)"
   ]
  },
  {
   "cell_type": "code",
   "execution_count": 161,
   "metadata": {},
   "outputs": [],
   "source": [
    "# stats_df"
   ]
  },
  {
   "cell_type": "markdown",
   "metadata": {},
   "source": [
    "# Argentina"
   ]
  },
  {
   "cell_type": "code",
   "execution_count": 162,
   "metadata": {},
   "outputs": [],
   "source": [
    "arg = ['Argentina']"
   ]
  },
  {
   "cell_type": "code",
   "execution_count": 163,
   "metadata": {},
   "outputs": [],
   "source": [
    "arg_year = comparisons.loc[comparisons[\"team\"].isin(arg)]"
   ]
  },
  {
   "cell_type": "code",
   "execution_count": 164,
   "metadata": {},
   "outputs": [],
   "source": [
    "arg2010year = arg_year.loc[arg_year[\"season\"].isin(year2010)]"
   ]
  },
  {
   "cell_type": "code",
   "execution_count": 165,
   "metadata": {},
   "outputs": [],
   "source": [
    "arg2010xg = arg2010year.sort_values(by=[\"xg_z\"], ascending=False)"
   ]
  },
  {
   "cell_type": "code",
   "execution_count": 166,
   "metadata": {},
   "outputs": [],
   "source": [
    "arg2010xg13 = arg2010xg.head(13)"
   ]
  },
  {
   "cell_type": "code",
   "execution_count": 167,
   "metadata": {},
   "outputs": [],
   "source": [
    "arg2010xg13 = arg2010xg13.drop(columns=['player', 'season', 'team', 'boxtouches_z', 'progpasses_z', 'progruns_z', 'crosses_z', 'passes_z', 'takeons_z', 'tackles_z', 'interceptions_z', 'clearances_z', 'blocks_z', 'aerials_z'])\n"
   ]
  },
  {
   "cell_type": "code",
   "execution_count": 168,
   "metadata": {},
   "outputs": [],
   "source": [
    "arg2010 = arg2010xg13.mean()"
   ]
  },
  {
   "cell_type": "code",
   "execution_count": 169,
   "metadata": {},
   "outputs": [
    {
     "data": {
      "text/plain": [
       "goals_z     0.450769\n",
       "xg_z        0.496154\n",
       "fouls_z    -0.384615\n",
       "fouled_z    0.235385\n",
       "nsxg_z      0.488462\n",
       "dtype: float64"
      ]
     },
     "execution_count": 169,
     "metadata": {},
     "output_type": "execute_result"
    }
   ],
   "source": [
    "arg2010"
   ]
  },
  {
   "cell_type": "code",
   "execution_count": 170,
   "metadata": {},
   "outputs": [
    {
     "data": {
      "text/plain": [
       "2.1843028247284084"
      ]
     },
     "execution_count": 170,
     "metadata": {},
     "output_type": "execute_result"
    }
   ],
   "source": [
    "(0.496154 + .488462) / .450769"
   ]
  },
  {
   "cell_type": "markdown",
   "metadata": {},
   "source": [
    "### Fouled"
   ]
  },
  {
   "cell_type": "code",
   "execution_count": 171,
   "metadata": {},
   "outputs": [
    {
     "data": {
      "text/plain": [
       "0.62"
      ]
     },
     "execution_count": 171,
     "metadata": {},
     "output_type": "execute_result"
    }
   ],
   "source": [
    ".235385 - -0.384615"
   ]
  },
  {
   "cell_type": "code",
   "execution_count": 172,
   "metadata": {},
   "outputs": [],
   "source": [
    "new_row = {'Country': 'Argentina', 'Year': 2010, 'new_xg': 2.184302, 'Fouled': 0.62}\n",
    "\n",
    "stats_df = stats_df.append(new_row, ignore_index=True)"
   ]
  },
  {
   "cell_type": "code",
   "execution_count": 173,
   "metadata": {},
   "outputs": [],
   "source": [
    "# stats_df"
   ]
  },
  {
   "cell_type": "markdown",
   "metadata": {},
   "source": [
    "# Uruguay"
   ]
  },
  {
   "cell_type": "code",
   "execution_count": 174,
   "metadata": {},
   "outputs": [],
   "source": [
    "uru = ['Uruguay']"
   ]
  },
  {
   "cell_type": "code",
   "execution_count": 175,
   "metadata": {},
   "outputs": [],
   "source": [
    "uru_year = comparisons.loc[comparisons[\"team\"].isin(uru)]"
   ]
  },
  {
   "cell_type": "code",
   "execution_count": 176,
   "metadata": {},
   "outputs": [],
   "source": [
    "uru2010year = uru_year.loc[uru_year[\"season\"].isin(year2010)]"
   ]
  },
  {
   "cell_type": "code",
   "execution_count": 177,
   "metadata": {},
   "outputs": [],
   "source": [
    "uru2010xg = uru2010year.sort_values(by=[\"xg_z\"], ascending=False)"
   ]
  },
  {
   "cell_type": "code",
   "execution_count": 178,
   "metadata": {},
   "outputs": [],
   "source": [
    "uru2010xg13 = uru2010xg.head(13)"
   ]
  },
  {
   "cell_type": "code",
   "execution_count": 179,
   "metadata": {},
   "outputs": [],
   "source": [
    "uru2010xg13 = uru2010xg13.drop(columns=['player', 'season', 'team', 'boxtouches_z', 'progpasses_z', 'progruns_z', 'crosses_z', 'passes_z', 'takeons_z', 'tackles_z', 'interceptions_z', 'clearances_z', 'blocks_z', 'aerials_z'])\n"
   ]
  },
  {
   "cell_type": "code",
   "execution_count": 180,
   "metadata": {},
   "outputs": [],
   "source": [
    "uru2010 = uru2010xg13.mean()"
   ]
  },
  {
   "cell_type": "code",
   "execution_count": 181,
   "metadata": {},
   "outputs": [
    {
     "data": {
      "text/plain": [
       "goals_z     0.396923\n",
       "xg_z        0.130769\n",
       "fouls_z    -0.013077\n",
       "fouled_z    0.335385\n",
       "nsxg_z     -0.167692\n",
       "dtype: float64"
      ]
     },
     "execution_count": 181,
     "metadata": {},
     "output_type": "execute_result"
    }
   ],
   "source": [
    "uru2010"
   ]
  },
  {
   "cell_type": "code",
   "execution_count": 182,
   "metadata": {},
   "outputs": [
    {
     "data": {
      "text/plain": [
       "-0.09302308004323259"
      ]
     },
     "execution_count": 182,
     "metadata": {},
     "output_type": "execute_result"
    }
   ],
   "source": [
    "(0.130769 + -0.167692) / .396923"
   ]
  },
  {
   "cell_type": "markdown",
   "metadata": {},
   "source": [
    "### FOULED"
   ]
  },
  {
   "cell_type": "code",
   "execution_count": 183,
   "metadata": {},
   "outputs": [
    {
     "data": {
      "text/plain": [
       "0.348462"
      ]
     },
     "execution_count": 183,
     "metadata": {},
     "output_type": "execute_result"
    }
   ],
   "source": [
    ".335385 - -0.013077"
   ]
  },
  {
   "cell_type": "code",
   "execution_count": 184,
   "metadata": {},
   "outputs": [],
   "source": [
    "new_row = {'Country': 'Uruguay', 'Year': 2010, 'new_xg': -0.09302, 'Fouled': -0.0930}\n",
    "\n",
    "stats_df = stats_df.append(new_row, ignore_index=True)"
   ]
  },
  {
   "cell_type": "code",
   "execution_count": 195,
   "metadata": {},
   "outputs": [],
   "source": [
    "# stats_df"
   ]
  },
  {
   "cell_type": "markdown",
   "metadata": {},
   "source": [
    "# Senegal"
   ]
  },
  {
   "cell_type": "code",
   "execution_count": 196,
   "metadata": {},
   "outputs": [],
   "source": [
    "sen = ['Senegal']"
   ]
  },
  {
   "cell_type": "code",
   "execution_count": 197,
   "metadata": {},
   "outputs": [],
   "source": [
    "sen_year = comparisons.loc[comparisons[\"team\"].isin(sen)]"
   ]
  },
  {
   "cell_type": "code",
   "execution_count": 198,
   "metadata": {},
   "outputs": [],
   "source": [
    "sen2010year = sen_year.loc[sen_year[\"season\"].isin(year2010)]"
   ]
  },
  {
   "cell_type": "code",
   "execution_count": 199,
   "metadata": {},
   "outputs": [],
   "source": [
    "sen2010xg = sen2010year.sort_values(by=[\"xg_z\"], ascending=False)"
   ]
  },
  {
   "cell_type": "code",
   "execution_count": 200,
   "metadata": {},
   "outputs": [],
   "source": [
    "sen2010xg13 = sen2010xg.head(13)"
   ]
  },
  {
   "cell_type": "code",
   "execution_count": 201,
   "metadata": {},
   "outputs": [],
   "source": [
    "sen2010xg13 = sen2010xg13.drop(columns=['player', 'season', 'team', 'boxtouches_z', 'progpasses_z', 'progruns_z', 'crosses_z', 'passes_z', 'takeons_z', 'tackles_z', 'interceptions_z', 'clearances_z', 'blocks_z', 'aerials_z'])\n"
   ]
  },
  {
   "cell_type": "code",
   "execution_count": 202,
   "metadata": {},
   "outputs": [],
   "source": [
    "sen2010 = sen2010xg13.mean()"
   ]
  },
  {
   "cell_type": "markdown",
   "metadata": {},
   "source": [
    "# Ecuador"
   ]
  },
  {
   "cell_type": "code",
   "execution_count": 205,
   "metadata": {},
   "outputs": [],
   "source": [
    "ecu = ['Ecuador']"
   ]
  },
  {
   "cell_type": "code",
   "execution_count": 206,
   "metadata": {},
   "outputs": [],
   "source": [
    "ecu_year = comparisons.loc[comparisons[\"team\"].isin(ecu)]"
   ]
  },
  {
   "cell_type": "code",
   "execution_count": 207,
   "metadata": {},
   "outputs": [],
   "source": [
    "ecu2010year = ecu_year.loc[ecu_year[\"season\"].isin(year2010)]"
   ]
  },
  {
   "cell_type": "code",
   "execution_count": 208,
   "metadata": {},
   "outputs": [],
   "source": [
    "ecu2010xg = ecu2010year.sort_values(by=[\"xg_z\"], ascending=False)"
   ]
  },
  {
   "cell_type": "code",
   "execution_count": 209,
   "metadata": {},
   "outputs": [],
   "source": [
    "ecu2010xg13 = ecu2010xg.head(13)"
   ]
  },
  {
   "cell_type": "code",
   "execution_count": 210,
   "metadata": {},
   "outputs": [],
   "source": [
    "ecu2010xg13 = ecu2010xg13.drop(columns=['player', 'season', 'team', 'boxtouches_z', 'progpasses_z', 'progruns_z', 'crosses_z', 'passes_z', 'takeons_z', 'tackles_z', 'interceptions_z', 'clearances_z', 'blocks_z', 'aerials_z'])\n"
   ]
  },
  {
   "cell_type": "code",
   "execution_count": 211,
   "metadata": {},
   "outputs": [],
   "source": [
    "ecu2010 = ecu2010xg13.mean()"
   ]
  },
  {
   "cell_type": "markdown",
   "metadata": {},
   "source": [
    "# Wales"
   ]
  },
  {
   "cell_type": "code",
   "execution_count": 216,
   "metadata": {},
   "outputs": [],
   "source": [
    "wal = ['Wales']"
   ]
  },
  {
   "cell_type": "code",
   "execution_count": 217,
   "metadata": {},
   "outputs": [],
   "source": [
    "wal_year = comparisons.loc[comparisons[\"team\"].isin(wal)]"
   ]
  },
  {
   "cell_type": "code",
   "execution_count": 219,
   "metadata": {},
   "outputs": [],
   "source": [
    "wal2010year = wal_year.loc[wal_year[\"season\"].isin(year2010)]"
   ]
  },
  {
   "cell_type": "markdown",
   "metadata": {},
   "source": [
    "# Costa Rica"
   ]
  },
  {
   "cell_type": "code",
   "execution_count": 221,
   "metadata": {},
   "outputs": [],
   "source": [
    "cos = ['Costa Rica']"
   ]
  },
  {
   "cell_type": "code",
   "execution_count": 222,
   "metadata": {},
   "outputs": [],
   "source": [
    "cos_year = comparisons.loc[comparisons[\"team\"].isin(cos)]"
   ]
  },
  {
   "cell_type": "code",
   "execution_count": 223,
   "metadata": {},
   "outputs": [],
   "source": [
    "cos2010year = cos_year.loc[cos_year[\"season\"].isin(year2010)]"
   ]
  },
  {
   "cell_type": "markdown",
   "metadata": {},
   "source": [
    "# Mexico"
   ]
  },
  {
   "cell_type": "code",
   "execution_count": 225,
   "metadata": {},
   "outputs": [],
   "source": [
    "mex = ['Mexico']"
   ]
  },
  {
   "cell_type": "code",
   "execution_count": 226,
   "metadata": {},
   "outputs": [],
   "source": [
    "mex_year = comparisons.loc[comparisons[\"team\"].isin(mex)]"
   ]
  },
  {
   "cell_type": "code",
   "execution_count": 227,
   "metadata": {},
   "outputs": [],
   "source": [
    "mex2010year = mex_year.loc[mex_year[\"season\"].isin(year2010)]"
   ]
  },
  {
   "cell_type": "code",
   "execution_count": 229,
   "metadata": {},
   "outputs": [],
   "source": [
    "mex2010xg = mex2010year.sort_values(by=[\"xg_z\"], ascending=False)"
   ]
  },
  {
   "cell_type": "code",
   "execution_count": 230,
   "metadata": {},
   "outputs": [],
   "source": [
    "mex2010xg13 = mex2010xg.head(13)"
   ]
  },
  {
   "cell_type": "code",
   "execution_count": 231,
   "metadata": {},
   "outputs": [],
   "source": [
    "mex2010xg13 = mex2010xg13.drop(columns=['player', 'season', 'team', 'boxtouches_z', 'progpasses_z', 'progruns_z', 'crosses_z', 'passes_z', 'takeons_z', 'tackles_z', 'interceptions_z', 'clearances_z', 'blocks_z', 'aerials_z'])\n"
   ]
  },
  {
   "cell_type": "code",
   "execution_count": 232,
   "metadata": {},
   "outputs": [],
   "source": [
    "mex2010 = mex2010xg13.mean()"
   ]
  },
  {
   "cell_type": "code",
   "execution_count": 233,
   "metadata": {},
   "outputs": [
    {
     "data": {
      "text/plain": [
       "goals_z     0.132308\n",
       "xg_z        0.251538\n",
       "fouls_z     0.607692\n",
       "fouled_z    0.378462\n",
       "nsxg_z      0.319231\n",
       "dtype: float64"
      ]
     },
     "execution_count": 233,
     "metadata": {},
     "output_type": "execute_result"
    }
   ],
   "source": [
    "mex2010"
   ]
  },
  {
   "cell_type": "code",
   "execution_count": 234,
   "metadata": {},
   "outputs": [
    {
     "data": {
      "text/plain": [
       "4.31394171176346"
      ]
     },
     "execution_count": 234,
     "metadata": {},
     "output_type": "execute_result"
    }
   ],
   "source": [
    "(0.251538 + 0.319231) / .132308"
   ]
  },
  {
   "cell_type": "markdown",
   "metadata": {},
   "source": [
    "### Fouled"
   ]
  },
  {
   "cell_type": "code",
   "execution_count": 235,
   "metadata": {},
   "outputs": [
    {
     "data": {
      "text/plain": [
       "-0.22923"
      ]
     },
     "execution_count": 235,
     "metadata": {},
     "output_type": "execute_result"
    }
   ],
   "source": [
    ".378462 - .607692"
   ]
  },
  {
   "cell_type": "code",
   "execution_count": 236,
   "metadata": {},
   "outputs": [],
   "source": [
    "new_row = {'Country': 'Mexico', 'Year': 2010, 'new_xg': 4.3139, 'Fouled': -0.22923}\n",
    "\n",
    "stats_df = stats_df.append(new_row, ignore_index=True)"
   ]
  },
  {
   "cell_type": "code",
   "execution_count": 238,
   "metadata": {},
   "outputs": [],
   "source": [
    "# stats_df"
   ]
  },
  {
   "cell_type": "markdown",
   "metadata": {},
   "source": [
    "# France"
   ]
  },
  {
   "cell_type": "code",
   "execution_count": 239,
   "metadata": {},
   "outputs": [],
   "source": [
    "fra = ['France']"
   ]
  },
  {
   "cell_type": "code",
   "execution_count": 240,
   "metadata": {},
   "outputs": [],
   "source": [
    "fra_year = comparisons.loc[comparisons[\"team\"].isin(fra)]"
   ]
  },
  {
   "cell_type": "code",
   "execution_count": 241,
   "metadata": {},
   "outputs": [],
   "source": [
    "fra2010year = fra_year.loc[fra_year[\"season\"].isin(year2010)]"
   ]
  },
  {
   "cell_type": "code",
   "execution_count": 242,
   "metadata": {},
   "outputs": [],
   "source": [
    "fra2010xg = fra2010year.sort_values(by=[\"xg_z\"], ascending=False)"
   ]
  },
  {
   "cell_type": "code",
   "execution_count": 243,
   "metadata": {},
   "outputs": [],
   "source": [
    "fra2010xg13 = fra2010xg.head(13)"
   ]
  },
  {
   "cell_type": "code",
   "execution_count": 244,
   "metadata": {},
   "outputs": [],
   "source": [
    "fra2010xg13 = fra2010xg13.drop(columns=['player', 'season', 'team', 'boxtouches_z', 'progpasses_z', 'progruns_z', 'crosses_z', 'passes_z', 'takeons_z', 'tackles_z', 'interceptions_z', 'clearances_z', 'blocks_z', 'aerials_z'])\n"
   ]
  },
  {
   "cell_type": "code",
   "execution_count": 245,
   "metadata": {},
   "outputs": [],
   "source": [
    "fra2010 = fra2010xg13.mean()"
   ]
  },
  {
   "cell_type": "code",
   "execution_count": 247,
   "metadata": {},
   "outputs": [
    {
     "data": {
      "text/plain": [
       "goals_z    -0.222308\n",
       "xg_z       -0.019231\n",
       "fouls_z     0.182308\n",
       "fouled_z    0.170769\n",
       "nsxg_z     -0.009231\n",
       "dtype: float64"
      ]
     },
     "execution_count": 247,
     "metadata": {},
     "output_type": "execute_result"
    }
   ],
   "source": [
    "fra2010"
   ]
  },
  {
   "cell_type": "code",
   "execution_count": 248,
   "metadata": {},
   "outputs": [
    {
     "data": {
      "text/plain": [
       "0.1280295805818954"
      ]
     },
     "execution_count": 248,
     "metadata": {},
     "output_type": "execute_result"
    }
   ],
   "source": [
    "( -0.019231 + -0.009231) /  -0.222308"
   ]
  },
  {
   "cell_type": "markdown",
   "metadata": {},
   "source": [
    "### Fouled"
   ]
  },
  {
   "cell_type": "code",
   "execution_count": 250,
   "metadata": {},
   "outputs": [
    {
     "data": {
      "text/plain": [
       "-0.011538999999999994"
      ]
     },
     "execution_count": 250,
     "metadata": {},
     "output_type": "execute_result"
    }
   ],
   "source": [
    "0.170769 - 0.182308"
   ]
  },
  {
   "cell_type": "code",
   "execution_count": 251,
   "metadata": {},
   "outputs": [],
   "source": [
    "new_row = {'Country': 'France', 'Year': 2010, 'new_xg': 0.128029, 'Fouled': -0.01153}\n",
    "\n",
    "stats_df = stats_df.append(new_row, ignore_index=True)"
   ]
  },
  {
   "cell_type": "markdown",
   "metadata": {},
   "source": [
    "# Denmark"
   ]
  },
  {
   "cell_type": "code",
   "execution_count": 253,
   "metadata": {},
   "outputs": [],
   "source": [
    "den = ['Denmark']"
   ]
  },
  {
   "cell_type": "code",
   "execution_count": 254,
   "metadata": {},
   "outputs": [],
   "source": [
    "den_year = comparisons.loc[comparisons[\"team\"].isin(den)]"
   ]
  },
  {
   "cell_type": "code",
   "execution_count": 255,
   "metadata": {},
   "outputs": [],
   "source": [
    "den2010year = den_year.loc[den_year[\"season\"].isin(year2010)]"
   ]
  },
  {
   "cell_type": "code",
   "execution_count": 256,
   "metadata": {},
   "outputs": [],
   "source": [
    "den2010xg = den2010year.sort_values(by=[\"xg_z\"], ascending=False)"
   ]
  },
  {
   "cell_type": "code",
   "execution_count": 257,
   "metadata": {},
   "outputs": [],
   "source": [
    "den2010xg13 = den2010xg.head(13)"
   ]
  },
  {
   "cell_type": "code",
   "execution_count": 258,
   "metadata": {},
   "outputs": [],
   "source": [
    "den2010xg13 = den2010xg13.drop(columns=['player', 'season', 'team', 'boxtouches_z', 'progpasses_z', 'progruns_z', 'crosses_z', 'passes_z', 'takeons_z', 'tackles_z', 'interceptions_z', 'clearances_z', 'blocks_z', 'aerials_z'])\n"
   ]
  },
  {
   "cell_type": "code",
   "execution_count": 259,
   "metadata": {},
   "outputs": [],
   "source": [
    "den2010 = den2010xg13.mean()"
   ]
  },
  {
   "cell_type": "code",
   "execution_count": 260,
   "metadata": {},
   "outputs": [
    {
     "data": {
      "text/plain": [
       "goals_z     0.133077\n",
       "xg_z        0.533846\n",
       "fouls_z     0.151538\n",
       "fouled_z   -0.211538\n",
       "nsxg_z     -0.123846\n",
       "dtype: float64"
      ]
     },
     "execution_count": 260,
     "metadata": {},
     "output_type": "execute_result"
    }
   ],
   "source": [
    "den2010"
   ]
  },
  {
   "cell_type": "code",
   "execution_count": 261,
   "metadata": {},
   "outputs": [
    {
     "data": {
      "text/plain": [
       "3.08092307461094"
      ]
     },
     "execution_count": 261,
     "metadata": {},
     "output_type": "execute_result"
    }
   ],
   "source": [
    "(  0.533846 + -0.123846) /  0.133077"
   ]
  },
  {
   "cell_type": "markdown",
   "metadata": {},
   "source": [
    "# Fouled"
   ]
  },
  {
   "cell_type": "code",
   "execution_count": 262,
   "metadata": {},
   "outputs": [
    {
     "data": {
      "text/plain": [
       "-0.363076"
      ]
     },
     "execution_count": 262,
     "metadata": {},
     "output_type": "execute_result"
    }
   ],
   "source": [
    "-0.211538 -  0.151538"
   ]
  },
  {
   "cell_type": "code",
   "execution_count": 276,
   "metadata": {},
   "outputs": [],
   "source": [
    "new_row = {'Country': 'Denmark', 'Year': 2010, 'new_xg': 3.080923, 'Fouled': -0.363076}\n",
    "\n",
    "stats_df = stats_df.append(new_row, ignore_index=True)"
   ]
  },
  {
   "cell_type": "markdown",
   "metadata": {},
   "source": [
    "# Australia"
   ]
  },
  {
   "cell_type": "code",
   "execution_count": 263,
   "metadata": {},
   "outputs": [],
   "source": [
    "aus = ['Australia']"
   ]
  },
  {
   "cell_type": "code",
   "execution_count": 264,
   "metadata": {},
   "outputs": [],
   "source": [
    "aus_year = comparisons.loc[comparisons[\"team\"].isin(aus)]"
   ]
  },
  {
   "cell_type": "code",
   "execution_count": 265,
   "metadata": {},
   "outputs": [],
   "source": [
    "aus2010year = aus_year.loc[aus_year[\"season\"].isin(year2010)]"
   ]
  },
  {
   "cell_type": "code",
   "execution_count": 266,
   "metadata": {},
   "outputs": [],
   "source": [
    "aus2010xg = aus2010year.sort_values(by=[\"xg_z\"], ascending=False)"
   ]
  },
  {
   "cell_type": "code",
   "execution_count": 269,
   "metadata": {},
   "outputs": [],
   "source": [
    "aus2010xg13 = aus2010xg.head(13)"
   ]
  },
  {
   "cell_type": "code",
   "execution_count": 270,
   "metadata": {},
   "outputs": [],
   "source": [
    "aus2010xg13 = aus2010xg13.drop(columns=['player', 'season', 'team', 'boxtouches_z', 'progpasses_z', 'progruns_z', 'crosses_z', 'passes_z', 'takeons_z', 'tackles_z', 'interceptions_z', 'clearances_z', 'blocks_z', 'aerials_z'])\n"
   ]
  },
  {
   "cell_type": "code",
   "execution_count": 271,
   "metadata": {},
   "outputs": [],
   "source": [
    "aus2010 = aus2010xg13.mean()"
   ]
  },
  {
   "cell_type": "code",
   "execution_count": 272,
   "metadata": {},
   "outputs": [
    {
     "data": {
      "text/plain": [
       "goals_z     0.132308\n",
       "xg_z        0.247692\n",
       "fouls_z     0.430769\n",
       "fouled_z   -0.116154\n",
       "nsxg_z      0.187692\n",
       "dtype: float64"
      ]
     },
     "execution_count": 272,
     "metadata": {},
     "output_type": "execute_result"
    }
   ],
   "source": [
    "aus2010"
   ]
  },
  {
   "cell_type": "code",
   "execution_count": 273,
   "metadata": {},
   "outputs": [
    {
     "data": {
      "text/plain": [
       "3.290685370499138"
      ]
     },
     "execution_count": 273,
     "metadata": {},
     "output_type": "execute_result"
    }
   ],
   "source": [
    "( 0.247692 + 0.187692) /  0.132308"
   ]
  },
  {
   "cell_type": "markdown",
   "metadata": {},
   "source": [
    "### Fouled"
   ]
  },
  {
   "cell_type": "code",
   "execution_count": 274,
   "metadata": {},
   "outputs": [
    {
     "data": {
      "text/plain": [
       "-0.546923"
      ]
     },
     "execution_count": 274,
     "metadata": {},
     "output_type": "execute_result"
    }
   ],
   "source": [
    "-0.116154 - 0.430769"
   ]
  },
  {
   "cell_type": "code",
   "execution_count": 277,
   "metadata": {},
   "outputs": [],
   "source": [
    "new_row = {'Country': 'Australia', 'Year': 2010, 'new_xg': 3.29068, 'Fouled': -0.546923}\n",
    "\n",
    "stats_df = stats_df.append(new_row, ignore_index=True)"
   ]
  },
  {
   "cell_type": "markdown",
   "metadata": {},
   "source": [
    "# Serbia"
   ]
  },
  {
   "cell_type": "code",
   "execution_count": 279,
   "metadata": {},
   "outputs": [],
   "source": [
    "ser = ['Serbia']"
   ]
  },
  {
   "cell_type": "code",
   "execution_count": 280,
   "metadata": {},
   "outputs": [],
   "source": [
    "ser_year = comparisons.loc[comparisons[\"team\"].isin(ser)]"
   ]
  },
  {
   "cell_type": "code",
   "execution_count": 281,
   "metadata": {},
   "outputs": [],
   "source": [
    "ser2010year = ser_year.loc[ser_year[\"season\"].isin(year2010)]"
   ]
  },
  {
   "cell_type": "code",
   "execution_count": 282,
   "metadata": {},
   "outputs": [],
   "source": [
    "ser2010xg = ser2010year.sort_values(by=[\"xg_z\"], ascending=False)"
   ]
  },
  {
   "cell_type": "code",
   "execution_count": 283,
   "metadata": {},
   "outputs": [],
   "source": [
    "ser2010xg13 = ser2010xg.head(13)"
   ]
  },
  {
   "cell_type": "code",
   "execution_count": 284,
   "metadata": {},
   "outputs": [],
   "source": [
    "ser2010xg13 = ser2010xg13.drop(columns=['player', 'season', 'team', 'boxtouches_z', 'progpasses_z', 'progruns_z', 'crosses_z', 'passes_z', 'takeons_z', 'tackles_z', 'interceptions_z', 'clearances_z', 'blocks_z', 'aerials_z'])\n"
   ]
  },
  {
   "cell_type": "code",
   "execution_count": 285,
   "metadata": {},
   "outputs": [],
   "source": [
    "ser2010 = ser2010xg13.mean()"
   ]
  },
  {
   "cell_type": "code",
   "execution_count": 286,
   "metadata": {},
   "outputs": [
    {
     "data": {
      "text/plain": [
       "goals_z    -0.044615\n",
       "xg_z        0.218462\n",
       "fouls_z    -0.252308\n",
       "fouled_z    0.616154\n",
       "nsxg_z      0.246154\n",
       "dtype: float64"
      ]
     },
     "execution_count": 286,
     "metadata": {},
     "output_type": "execute_result"
    }
   ],
   "source": [
    "ser2010"
   ]
  },
  {
   "cell_type": "code",
   "execution_count": 287,
   "metadata": {},
   "outputs": [
    {
     "data": {
      "text/plain": [
       "-10.41389667152303"
      ]
     },
     "execution_count": 287,
     "metadata": {},
     "output_type": "execute_result"
    }
   ],
   "source": [
    "(0.218462 + 0.246154) /  -0.044615"
   ]
  },
  {
   "cell_type": "markdown",
   "metadata": {},
   "source": [
    "### Fouled"
   ]
  },
  {
   "cell_type": "code",
   "execution_count": 288,
   "metadata": {},
   "outputs": [
    {
     "data": {
      "text/plain": [
       "0.868462"
      ]
     },
     "execution_count": 288,
     "metadata": {},
     "output_type": "execute_result"
    }
   ],
   "source": [
    "0.616154 - -0.252308"
   ]
  },
  {
   "cell_type": "code",
   "execution_count": 290,
   "metadata": {},
   "outputs": [],
   "source": [
    "new_row = {'Country': 'Serbia', 'Year': 2010, 'new_xg': -10.41389, 'Fouled': 0.868462}\n",
    "\n",
    "stats_df = stats_df.append(new_row, ignore_index=True)"
   ]
  },
  {
   "cell_type": "markdown",
   "metadata": {},
   "source": [
    "Cameroon"
   ]
  },
  {
   "cell_type": "code",
   "execution_count": 292,
   "metadata": {},
   "outputs": [],
   "source": [
    "cam = ['Cameroon']"
   ]
  },
  {
   "cell_type": "code",
   "execution_count": null,
   "metadata": {},
   "outputs": [],
   "source": [
    "cam_year = comparisons.loc[comparisons[\"team\"].isin(ser)]"
   ]
  },
  {
   "cell_type": "code",
   "execution_count": null,
   "metadata": {},
   "outputs": [],
   "source": []
  },
  {
   "cell_type": "code",
   "execution_count": null,
   "metadata": {},
   "outputs": [],
   "source": []
  },
  {
   "cell_type": "code",
   "execution_count": null,
   "metadata": {},
   "outputs": [],
   "source": []
  },
  {
   "cell_type": "markdown",
   "metadata": {},
   "source": [
    "'Cameroon', 'Ghana', 'Korea Republic'\n",
    "\n",
    "'Iran', 'Poland', 'Saudi Arabia',  'Tunisia',  'Japan', 'Croatia', 'Canada', 'Morocco', "
   ]
  },
  {
   "cell_type": "markdown",
   "metadata": {},
   "source": [
    "## World Cup Data from 2018 - 210\n",
    "\n",
    "initialized to variable df"
   ]
  },
  {
   "cell_type": "code",
   "execution_count": 186,
   "metadata": {},
   "outputs": [],
   "source": [
    "# df = pd.concat(\n",
    "#     map(pd.read_csv, ['FIFA - 2018.csv', 'FIFA - 2014.csv', 'FIFA - 2010.csv', 'FIFA - 2006.csv', 'FIFA - 2002.csv', 'FIFA - 1998.csv', 'FIFA - 1994.csv', 'FIFA - 1990.csv', 'FIFA - 1986.csv', 'FIFA - 1982.csv', 'FIFA - 1978.csv', 'FIFA - 1974.csv', 'FIFA - 1970.csv' ]), ignore_index=True)\n",
    "# print(df)\n",
    "\n",
    "df = pd.concat(\n",
    "    map(pd.read_csv, ['FIFA - 2018.csv', 'FIFA - 2014.csv', 'FIFA - 2010.csv']))\n"
   ]
  },
  {
   "cell_type": "code",
   "execution_count": 187,
   "metadata": {},
   "outputs": [
    {
     "data": {
      "text/plain": [
       "Index(['Position', 'Team', 'Games Played', 'Win', 'Draw', 'Loss', 'Goals For',\n",
       "       'Goals Against', 'Goal Difference', 'Points'],\n",
       "      dtype='object')"
      ]
     },
     "execution_count": 187,
     "metadata": {},
     "output_type": "execute_result"
    }
   ],
   "source": [
    "df.columns"
   ]
  },
  {
   "cell_type": "code",
   "execution_count": 188,
   "metadata": {},
   "outputs": [
    {
     "data": {
      "text/plain": [
       "(96, 10)"
      ]
     },
     "execution_count": 188,
     "metadata": {},
     "output_type": "execute_result"
    }
   ],
   "source": [
    "df.shape"
   ]
  },
  {
   "cell_type": "code",
   "execution_count": 189,
   "metadata": {},
   "outputs": [
    {
     "data": {
      "text/html": [
       "<div>\n",
       "<style scoped>\n",
       "    .dataframe tbody tr th:only-of-type {\n",
       "        vertical-align: middle;\n",
       "    }\n",
       "\n",
       "    .dataframe tbody tr th {\n",
       "        vertical-align: top;\n",
       "    }\n",
       "\n",
       "    .dataframe thead th {\n",
       "        text-align: right;\n",
       "    }\n",
       "</style>\n",
       "<table border=\"1\" class=\"dataframe\">\n",
       "  <thead>\n",
       "    <tr style=\"text-align: right;\">\n",
       "      <th></th>\n",
       "      <th>Position</th>\n",
       "      <th>Team</th>\n",
       "      <th>Games Played</th>\n",
       "      <th>Win</th>\n",
       "      <th>Draw</th>\n",
       "      <th>Loss</th>\n",
       "      <th>Goals For</th>\n",
       "      <th>Goals Against</th>\n",
       "      <th>Goal Difference</th>\n",
       "      <th>Points</th>\n",
       "    </tr>\n",
       "  </thead>\n",
       "  <tbody>\n",
       "    <tr>\n",
       "      <th>0</th>\n",
       "      <td>1</td>\n",
       "      <td>France</td>\n",
       "      <td>7</td>\n",
       "      <td>6</td>\n",
       "      <td>1</td>\n",
       "      <td>0</td>\n",
       "      <td>14</td>\n",
       "      <td>6</td>\n",
       "      <td>8</td>\n",
       "      <td>19</td>\n",
       "    </tr>\n",
       "    <tr>\n",
       "      <th>1</th>\n",
       "      <td>2</td>\n",
       "      <td>Croatia</td>\n",
       "      <td>7</td>\n",
       "      <td>4</td>\n",
       "      <td>2</td>\n",
       "      <td>1</td>\n",
       "      <td>14</td>\n",
       "      <td>9</td>\n",
       "      <td>5</td>\n",
       "      <td>14</td>\n",
       "    </tr>\n",
       "    <tr>\n",
       "      <th>2</th>\n",
       "      <td>3</td>\n",
       "      <td>Belgium</td>\n",
       "      <td>7</td>\n",
       "      <td>6</td>\n",
       "      <td>0</td>\n",
       "      <td>1</td>\n",
       "      <td>16</td>\n",
       "      <td>6</td>\n",
       "      <td>10</td>\n",
       "      <td>18</td>\n",
       "    </tr>\n",
       "    <tr>\n",
       "      <th>3</th>\n",
       "      <td>4</td>\n",
       "      <td>England</td>\n",
       "      <td>7</td>\n",
       "      <td>3</td>\n",
       "      <td>1</td>\n",
       "      <td>3</td>\n",
       "      <td>12</td>\n",
       "      <td>8</td>\n",
       "      <td>4</td>\n",
       "      <td>10</td>\n",
       "    </tr>\n",
       "    <tr>\n",
       "      <th>4</th>\n",
       "      <td>5</td>\n",
       "      <td>Uruguay</td>\n",
       "      <td>5</td>\n",
       "      <td>4</td>\n",
       "      <td>0</td>\n",
       "      <td>1</td>\n",
       "      <td>7</td>\n",
       "      <td>3</td>\n",
       "      <td>4</td>\n",
       "      <td>12</td>\n",
       "    </tr>\n",
       "  </tbody>\n",
       "</table>\n",
       "</div>"
      ],
      "text/plain": [
       "   Position     Team  Games Played  Win  Draw  Loss  Goals For  Goals Against  \\\n",
       "0         1   France             7    6     1     0         14              6   \n",
       "1         2  Croatia             7    4     2     1         14              9   \n",
       "2         3  Belgium             7    6     0     1         16              6   \n",
       "3         4  England             7    3     1     3         12              8   \n",
       "4         5  Uruguay             5    4     0     1          7              3   \n",
       "\n",
       "  Goal Difference  Points  \n",
       "0               8      19  \n",
       "1               5      14  \n",
       "2              10      18  \n",
       "3               4      10  \n",
       "4               4      12  "
      ]
     },
     "execution_count": 189,
     "metadata": {},
     "output_type": "execute_result"
    }
   ],
   "source": [
    "df.head()"
   ]
  },
  {
   "cell_type": "code",
   "execution_count": 190,
   "metadata": {},
   "outputs": [
    {
     "data": {
      "text/html": [
       "<div>\n",
       "<style scoped>\n",
       "    .dataframe tbody tr th:only-of-type {\n",
       "        vertical-align: middle;\n",
       "    }\n",
       "\n",
       "    .dataframe tbody tr th {\n",
       "        vertical-align: top;\n",
       "    }\n",
       "\n",
       "    .dataframe thead th {\n",
       "        text-align: right;\n",
       "    }\n",
       "</style>\n",
       "<table border=\"1\" class=\"dataframe\">\n",
       "  <thead>\n",
       "    <tr style=\"text-align: right;\">\n",
       "      <th></th>\n",
       "      <th>Position</th>\n",
       "      <th>Team</th>\n",
       "      <th>Games Played</th>\n",
       "      <th>Win</th>\n",
       "      <th>Draw</th>\n",
       "      <th>Loss</th>\n",
       "      <th>Goals For</th>\n",
       "      <th>Goals Against</th>\n",
       "      <th>Goal Difference</th>\n",
       "      <th>Points</th>\n",
       "    </tr>\n",
       "  </thead>\n",
       "  <tbody>\n",
       "    <tr>\n",
       "      <th>27</th>\n",
       "      <td>28</td>\n",
       "      <td>Algeria</td>\n",
       "      <td>3</td>\n",
       "      <td>0</td>\n",
       "      <td>1</td>\n",
       "      <td>2</td>\n",
       "      <td>0</td>\n",
       "      <td>2</td>\n",
       "      <td>−2</td>\n",
       "      <td>1</td>\n",
       "    </tr>\n",
       "    <tr>\n",
       "      <th>28</th>\n",
       "      <td>29</td>\n",
       "      <td>France</td>\n",
       "      <td>3</td>\n",
       "      <td>0</td>\n",
       "      <td>1</td>\n",
       "      <td>2</td>\n",
       "      <td>1</td>\n",
       "      <td>4</td>\n",
       "      <td>−3</td>\n",
       "      <td>1</td>\n",
       "    </tr>\n",
       "    <tr>\n",
       "      <th>29</th>\n",
       "      <td>30</td>\n",
       "      <td>Honduras</td>\n",
       "      <td>3</td>\n",
       "      <td>0</td>\n",
       "      <td>1</td>\n",
       "      <td>2</td>\n",
       "      <td>0</td>\n",
       "      <td>3</td>\n",
       "      <td>−3</td>\n",
       "      <td>1</td>\n",
       "    </tr>\n",
       "    <tr>\n",
       "      <th>30</th>\n",
       "      <td>31</td>\n",
       "      <td>Cameroon</td>\n",
       "      <td>3</td>\n",
       "      <td>0</td>\n",
       "      <td>0</td>\n",
       "      <td>3</td>\n",
       "      <td>2</td>\n",
       "      <td>5</td>\n",
       "      <td>−3</td>\n",
       "      <td>0</td>\n",
       "    </tr>\n",
       "    <tr>\n",
       "      <th>31</th>\n",
       "      <td>32</td>\n",
       "      <td>North Korea</td>\n",
       "      <td>3</td>\n",
       "      <td>0</td>\n",
       "      <td>0</td>\n",
       "      <td>3</td>\n",
       "      <td>1</td>\n",
       "      <td>12</td>\n",
       "      <td>−11</td>\n",
       "      <td>0</td>\n",
       "    </tr>\n",
       "  </tbody>\n",
       "</table>\n",
       "</div>"
      ],
      "text/plain": [
       "    Position         Team  Games Played  Win  Draw  Loss  Goals For  \\\n",
       "27        28      Algeria             3    0     1     2          0   \n",
       "28        29       France             3    0     1     2          1   \n",
       "29        30     Honduras             3    0     1     2          0   \n",
       "30        31     Cameroon             3    0     0     3          2   \n",
       "31        32  North Korea             3    0     0     3          1   \n",
       "\n",
       "    Goals Against Goal Difference  Points  \n",
       "27              2              −2       1  \n",
       "28              4              −3       1  \n",
       "29              3              −3       1  \n",
       "30              5              −3       0  \n",
       "31             12             −11       0  "
      ]
     },
     "execution_count": 190,
     "metadata": {},
     "output_type": "execute_result"
    }
   ],
   "source": [
    "df.tail()"
   ]
  },
  {
   "cell_type": "markdown",
   "metadata": {},
   "source": [
    "### change to only teams in world cup 2022"
   ]
  },
  {
   "cell_type": "code",
   "execution_count": 191,
   "metadata": {},
   "outputs": [],
   "source": [
    "# teams_2022 = ['Qatar', 'Netherlands', 'Senegal', 'Ecuador', 'England', 'USA', 'Wales', 'Iran', 'Argentina', 'Poland', 'Mexico', 'Saudi Arabia', 'France', 'Denmark', 'Tunisia', 'Australia', 'Germany', 'Spain', 'Japan', 'Costa Rica', 'Belgium', 'Croatia', 'Canada', 'Morocco', 'Brazil', 'Switzerland', 'Serbia', 'Cameroon', 'Portugal', 'Uruguay', 'Ghana', 'Korea Republic']"
   ]
  },
  {
   "cell_type": "code",
   "execution_count": 192,
   "metadata": {},
   "outputs": [],
   "source": [
    "# df = df.loc[df['Team'].isin(teams_2022)]"
   ]
  },
  {
   "cell_type": "code",
   "execution_count": 193,
   "metadata": {},
   "outputs": [],
   "source": [
    "# df.head()"
   ]
  },
  {
   "cell_type": "code",
   "execution_count": 194,
   "metadata": {},
   "outputs": [],
   "source": [
    "# df.tail()"
   ]
  },
  {
   "cell_type": "code",
   "execution_count": null,
   "metadata": {},
   "outputs": [],
   "source": []
  }
 ],
 "metadata": {
  "kernelspec": {
   "display_name": "Python 3 (ipykernel)",
   "language": "python",
   "name": "python3"
  },
  "language_info": {
   "codemirror_mode": {
    "name": "ipython",
    "version": 3
   },
   "file_extension": ".py",
   "mimetype": "text/x-python",
   "name": "python",
   "nbconvert_exporter": "python",
   "pygments_lexer": "ipython3",
   "version": "3.9.12"
  }
 },
 "nbformat": 4,
 "nbformat_minor": 5
}
