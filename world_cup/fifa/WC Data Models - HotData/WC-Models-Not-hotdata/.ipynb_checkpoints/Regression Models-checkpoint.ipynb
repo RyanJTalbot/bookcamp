{
 "cells": [
  {
   "cell_type": "markdown",
   "metadata": {},
   "source": [
    "# TheilSen Regressor /\n",
    "- MAPE: 0.6988782748985275\n",
    "- mean: 5.2701032402651515\n",
    "- median: 5.033323290856622"
   ]
  },
  {
   "cell_type": "markdown",
   "metadata": {},
   "source": [
    "# Passive Aggressive Regressor /\n",
    "- varies greatly\n",
    "- MAPE: 0.7250975361982457"
   ]
  },
  {
   "cell_type": "markdown",
   "metadata": {},
   "source": [
    "# Boosted Decision Tree Regression /\n",
    "- MAPE: 0.7369019131045085"
   ]
  },
  {
   "cell_type": "markdown",
   "metadata": {},
   "source": [
    "# PoissonRegressor /\n",
    "- MAPE: 0.7508739528282725"
   ]
  },
  {
   "cell_type": "markdown",
   "metadata": {},
   "source": [
    "# KNeighborsRegressor\n",
    "- MAPE: 0.7527574064159136"
   ]
  },
  {
   "cell_type": "markdown",
   "metadata": {},
   "source": [
    "# TweedieRegressor /\n",
    "- MAPE: 0.7591858406111025"
   ]
  },
  {
   "cell_type": "markdown",
   "metadata": {},
   "source": [
    "# Ridge / \n",
    "- MAPE: 0.7802626297404478"
   ]
  },
  {
   "cell_type": "markdown",
   "metadata": {},
   "source": [
    "#  LinearRegression/\n",
    "- MAPE: 0.780262629740448"
   ]
  },
  {
   "cell_type": "markdown",
   "metadata": {},
   "source": [
    "# LassoLarsIC/\n",
    "- MAPE: 0.7819604189325976"
   ]
  },
  {
   "cell_type": "markdown",
   "metadata": {},
   "source": [
    "# Ada Boost Regressor/\n",
    "- MAPE: 0.804654249329463"
   ]
  },
  {
   "cell_type": "markdown",
   "metadata": {},
   "source": [
    "# RandomForestRegressor /\n",
    "- MAPE: 0.8525443005723808"
   ]
  },
  {
   "cell_type": "markdown",
   "metadata": {},
   "source": [
    "# XGB Regressor/\n",
    "- MAPE: 0.870777396465787"
   ]
  },
  {
   "cell_type": "markdown",
   "metadata": {},
   "source": [
    "# Perceptron /\n",
    "- MAPE: 0.8799172151547626\n",
    "- errors"
   ]
  },
  {
   "cell_type": "markdown",
   "metadata": {},
   "source": [
    "# Decision Tree Regressor\n",
    "- MAPE: 0.9281883890980206"
   ]
  },
  {
   "cell_type": "markdown",
   "metadata": {},
   "source": [
    "# OrthogonalMatchingPursuit/\n",
    "- MAPE: 0.950087591824617"
   ]
  },
  {
   "cell_type": "markdown",
   "metadata": {},
   "source": [
    "# SGDRegressor /\n",
    "- MAPE: 1.0326950218066815"
   ]
  },
  {
   "cell_type": "markdown",
   "metadata": {},
   "source": [
    "# Bayesian Regression /\n",
    "- MAPE: 1.0497482146282007"
   ]
  },
  {
   "cell_type": "markdown",
   "metadata": {},
   "source": [
    "# ARD Regression/\n",
    "- MAPE: 1.059017622660386"
   ]
  },
  {
   "cell_type": "markdown",
   "metadata": {},
   "source": [
    "# quant /\n",
    "- MAPE: 1.130625210912989"
   ]
  },
  {
   "cell_type": "markdown",
   "metadata": {},
   "source": [
    "#  Ridge /\n",
    "- MAPE: 1.438337432984268"
   ]
  },
  {
   "cell_type": "markdown",
   "metadata": {},
   "source": [
    "# Logistic Regression CV /\n",
    "- MAPE: 1.861435396334965"
   ]
  },
  {
   "cell_type": "code",
   "execution_count": null,
   "metadata": {},
   "outputs": [],
   "source": []
  }
 ],
 "metadata": {
  "kernelspec": {
   "display_name": "Python 3 (ipykernel)",
   "language": "python",
   "name": "python3"
  },
  "language_info": {
   "codemirror_mode": {
    "name": "ipython",
    "version": 3
   },
   "file_extension": ".py",
   "mimetype": "text/x-python",
   "name": "python",
   "nbconvert_exporter": "python",
   "pygments_lexer": "ipython3",
   "version": "3.9.12"
  }
 },
 "nbformat": 4,
 "nbformat_minor": 2
}
