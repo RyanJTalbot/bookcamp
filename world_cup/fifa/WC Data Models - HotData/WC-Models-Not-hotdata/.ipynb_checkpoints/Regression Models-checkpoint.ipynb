{
 "cells": [
  {
   "cell_type": "markdown",
   "metadata": {},
   "source": [
    "# TheilSen Regressor /\n",
    "- MAPE: 0.49368302964811395 w/o outliers\n",
    "    - mean: 5.05436023464359\n",
    "    - median: 3.4901331361953893\n",
    "    \n",
    "- MAPE: 0.512841835663948 245\n",
    "- MAPE: 0.614553083168057"
   ]
  },
  {
   "cell_type": "markdown",
   "metadata": {},
   "source": [
    "#  LinearRegression/\n",
    "- MAPE: 0.5228613969143469 outliers\n",
    "- MAPE: .61 245\n",
    "- MAPE: 0.780262629740448"
   ]
  },
  {
   "cell_type": "markdown",
   "metadata": {},
   "source": [
    "#  Ridge /\n",
    "- MAPE: 0.5140961833760538 245\n",
    "- MAPE: 0.5302669489587397 w/o outliers\n",
    "- MAPE: 0.6726834633362506"
   ]
  },
  {
   "cell_type": "markdown",
   "metadata": {},
   "source": [
    "# LassoLarsIC/\n",
    "- MAPE: 0.5185860607091441 245\n",
    "- MAPE: 0.5370859804828299 outliers\n",
    "- MAPE: 0.6726834633362502"
   ]
  },
  {
   "cell_type": "markdown",
   "metadata": {},
   "source": [
    "# PoissonRegressor /\n",
    "- MAPE: 0.5221946755186072 245\n",
    "- MAPE: 0.5374269805626238 outliers\n",
    "- MAPE: 0.6986375790935834"
   ]
  },
  {
   "cell_type": "markdown",
   "metadata": {},
   "source": [
    "# TweedieRegressor /\n",
    "- MAPE: 0.548353201484987 outliers\n",
    "- MAPE: 0.707501778345122"
   ]
  },
  {
   "cell_type": "markdown",
   "metadata": {},
   "source": [
    "---------"
   ]
  },
  {
   "cell_type": "markdown",
   "metadata": {},
   "source": [
    "# Boosted Decision Tree Regression /\n",
    "- MAPE: 0.5921410614503672 245\n",
    "- MAPE: 0.6548672769781199 outliers\n",
    "- MAPE: 0.7369019131045085"
   ]
  },
  {
   "cell_type": "markdown",
   "metadata": {},
   "source": [
    "# XGB Regressor/\n",
    "- MAPE: 0.7090541706071127 outliers\n",
    "- MAPE: 0.870777396465787"
   ]
  },
  {
   "cell_type": "markdown",
   "metadata": {},
   "source": [
    "# Perceptron /\n",
    "- MAPE: 0.7428414173897527 outliers\n",
    "- MAPE: 0.8078106276420433"
   ]
  },
  {
   "cell_type": "markdown",
   "metadata": {},
   "source": [
    "# KNeighborsRegressor\n",
    "- MAPE: 0.7527574064159136\n",
    "- MAPE: 1.0270075323049153 245\n",
    "- MAPE: 1.1054507067677468 outliers"
   ]
  },
  {
   "cell_type": "markdown",
   "metadata": {},
   "source": [
    "# Ada Boost Regressor/\n",
    "- MAPE: 0.804654249329463\n",
    "- MAPE: 0.8130567061814156 outliers"
   ]
  },
  {
   "cell_type": "markdown",
   "metadata": {},
   "source": [
    "# OrthogonalMatchingPursuit/\n",
    "- MAPE: 0.8590949549065445 outliers\n",
    "- MAPE: 0.950087591824617"
   ]
  },
  {
   "cell_type": "markdown",
   "metadata": {},
   "source": [
    "# Bayesian Regression /\n",
    "- MAPE: 0.81829266849049 outliers\n",
    "- MAPE: 0.9704605829929512 245\n",
    "- MAPE: 1.0497482146282007"
   ]
  },
  {
   "cell_type": "markdown",
   "metadata": {},
   "source": [
    "# ARD Regression/\n",
    "- MAPE: 0.7076529368045614 245\n",
    "- MAPE: 0.8367388235629616 outliers\n",
    "- MAPE: 1.059017622660386"
   ]
  },
  {
   "cell_type": "markdown",
   "metadata": {},
   "source": [
    "# RandomForestRegressor /\n",
    "- MAPE: 0.8525443005723808\n",
    "- MAPE: 0.9775707360716214 outliers"
   ]
  },
  {
   "cell_type": "markdown",
   "metadata": {},
   "source": [
    "# quant /\n",
    "- MAPE: 0.9301287538930997 outliers\n",
    "- MAPE: 1.0752473343202735"
   ]
  },
  {
   "cell_type": "markdown",
   "metadata": {},
   "source": [
    "# Logistic Regression CV /\n",
    "- MAPE: 0.9929023134234571 outliers\n",
    "- MAPE: 1.066125723927496"
   ]
  },
  {
   "cell_type": "markdown",
   "metadata": {},
   "source": [
    "# Decision Tree Regressor ?\n",
    "- MAPE: 0.9281883890980206"
   ]
  },
  {
   "cell_type": "markdown",
   "metadata": {},
   "source": [
    "# SGDRegressor /\n",
    "- MAPE: 1.0326950218066815\n",
    "- MAPE: 999152447.7508459 outliers"
   ]
  },
  {
   "cell_type": "markdown",
   "metadata": {},
   "source": [
    "# Passive Aggressive Regressor /\n",
    "- varies greatly\n",
    "- MAPE: 0.7250975361982457"
   ]
  },
  {
   "cell_type": "code",
   "execution_count": null,
   "metadata": {},
   "outputs": [],
   "source": []
  }
 ],
 "metadata": {
  "kernelspec": {
   "display_name": "Python 3 (ipykernel)",
   "language": "python",
   "name": "python3"
  },
  "language_info": {
   "codemirror_mode": {
    "name": "ipython",
    "version": 3
   },
   "file_extension": ".py",
   "mimetype": "text/x-python",
   "name": "python",
   "nbconvert_exporter": "python",
   "pygments_lexer": "ipython3",
   "version": "3.9.12"
  }
 },
 "nbformat": 4,
 "nbformat_minor": 2
}
