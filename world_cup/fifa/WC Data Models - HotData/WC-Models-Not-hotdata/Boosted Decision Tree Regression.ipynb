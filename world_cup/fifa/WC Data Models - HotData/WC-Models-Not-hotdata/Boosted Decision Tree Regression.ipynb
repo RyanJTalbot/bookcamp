{
 "cells": [
  {
   "cell_type": "code",
   "execution_count": 1,
   "metadata": {},
   "outputs": [],
   "source": [
    "import pandas as pd\n",
    "import numpy as np\n",
    "from sklearn.model_selection import train_test_split\n",
    "from sklearn.metrics import mean_squared_error\n",
    "from sklearn.metrics import r2_score\n",
    "from sklearn.metrics import mean_absolute_error\n",
    "from sklearn.metrics import mean_absolute_percentage_error\n",
    "\n",
    "from sklearn.ensemble import AdaBoostRegressor\n",
    "from sklearn.tree import DecisionTreeRegressor"
   ]
  },
  {
   "cell_type": "code",
   "execution_count": 2,
   "metadata": {},
   "outputs": [],
   "source": [
    "df = pd.read_csv('wc-7.csv')"
   ]
  },
  {
   "cell_type": "code",
   "execution_count": 3,
   "metadata": {},
   "outputs": [],
   "source": [
    "df = df.drop(columns=['country', 'year'])"
   ]
  },
  {
   "cell_type": "code",
   "execution_count": 4,
   "metadata": {},
   "outputs": [],
   "source": [
    "y = df['results']\n",
    "X = df.drop(columns=['results'])\n",
    "\n",
    "X_train, X_test, y_train, y_test = train_test_split(\n",
    "     X, y, test_size=0.10, random_state=2)"
   ]
  },
  {
   "cell_type": "code",
   "execution_count": 5,
   "metadata": {},
   "outputs": [],
   "source": [
    "regr_1 = DecisionTreeRegressor()\n",
    "\n",
    "regr_2 = AdaBoostRegressor(\n",
    "    DecisionTreeRegressor(max_depth=4), n_estimators=300, random_state=42\n",
    ")"
   ]
  },
  {
   "cell_type": "code",
   "execution_count": 6,
   "metadata": {},
   "outputs": [],
   "source": [
    "regr_1.fit(X_train, y_train)\n",
    "regr_2.fit(X_train, y_train)\n",
    "\n",
    "y_1 = regr_1.predict(X_test)\n",
    "y_2 = regr_2.predict(X_test)"
   ]
  },
  {
   "cell_type": "code",
   "execution_count": 7,
   "metadata": {},
   "outputs": [
    {
     "name": "stdout",
     "output_type": "stream",
     "text": [
      "r2 score: 0.044862593626849745\n",
      "RMSE : 9.329227339850856\n",
      "MSE: 87.03448275862068\n",
      "MAE: 7.862068965517241\n",
      "MAPE: 1.3291127765087338\n",
      "---------------\n",
      "r2 score: 0.36124869298423157\n",
      "RMSE : 7.629193855478997\n",
      "MSE: 58.20459888447848\n",
      "MAE: 6.69003628202019\n",
      "MAPE: 1.2246472538171034\n"
     ]
    }
   ],
   "source": [
    "print('r2 score: '+str(r2_score(y_test, y_1)))\n",
    "print('RMSE : '+str(np.sqrt(mean_squared_error(y_test, y_1))))\n",
    "print('MSE: '+str(mean_squared_error(y_test, y_1)))\n",
    "print('MAE: '+str(mean_absolute_error(y_test, y_1)))\n",
    "print('MAPE: '+str(mean_absolute_percentage_error(y_test, y_1)))\n",
    "\n",
    "\n",
    "print('---------------')\n",
    "print('r2 score: '+str(r2_score(y_test, y_2)))\n",
    "print('RMSE : '+str(np.sqrt(mean_squared_error(y_test, y_2))))\n",
    "print('MSE: '+str(mean_squared_error(y_test, y_2)))\n",
    "print('MAE: '+str(mean_absolute_error(y_test, y_2)))\n",
    "print('MAPE: '+str(mean_absolute_percentage_error(y_test, y_2)))"
   ]
  },
  {
   "cell_type": "code",
   "execution_count": 15,
   "metadata": {},
   "outputs": [],
   "source": [
    "# MAPE: 0.8162758623484649"
   ]
  },
  {
   "cell_type": "code",
   "execution_count": null,
   "metadata": {},
   "outputs": [],
   "source": []
  }
 ],
 "metadata": {
  "kernelspec": {
   "display_name": "Python 3 (ipykernel)",
   "language": "python",
   "name": "python3"
  },
  "language_info": {
   "codemirror_mode": {
    "name": "ipython",
    "version": 3
   },
   "file_extension": ".py",
   "mimetype": "text/x-python",
   "name": "python",
   "nbconvert_exporter": "python",
   "pygments_lexer": "ipython3",
   "version": "3.9.12"
  }
 },
 "nbformat": 4,
 "nbformat_minor": 2
}
