{
 "cells": [
  {
   "cell_type": "code",
   "execution_count": 1,
   "metadata": {},
   "outputs": [],
   "source": [
    "import pandas as pd\n",
    "import numpy as np\n",
    "from sklearn.model_selection import train_test_split\n",
    "from sklearn.metrics import mean_squared_error\n",
    "from sklearn.metrics import r2_score\n",
    "from sklearn.metrics import mean_absolute_error\n",
    "from sklearn.metrics import mean_absolute_percentage_error\n",
    "\n",
    "from sklearn.ensemble import AdaBoostRegressor\n",
    "from sklearn.tree import DecisionTreeRegressor"
   ]
  },
  {
   "cell_type": "code",
   "execution_count": 2,
   "metadata": {},
   "outputs": [],
   "source": [
    "df = pd.read_csv('../WC-final.csv')"
   ]
  },
  {
   "cell_type": "code",
   "execution_count": 3,
   "metadata": {},
   "outputs": [],
   "source": [
    "df = df.drop(columns=['Unnamed: 0', 'country', 'year'])"
   ]
  },
  {
   "cell_type": "code",
   "execution_count": 78,
   "metadata": {},
   "outputs": [],
   "source": [
    "y = df['results']\n",
    "X = df.drop(columns=['results'])\n",
    "\n",
    "X_train, X_test, y_train, y_test = train_test_split(\n",
    "     X, y, test_size=0.10, random_state=2)"
   ]
  },
  {
   "cell_type": "code",
   "execution_count": 79,
   "metadata": {},
   "outputs": [],
   "source": [
    "regr_1 = DecisionTreeRegressor()\n",
    "\n",
    "regr_2 = AdaBoostRegressor(\n",
    "    DecisionTreeRegressor(max_depth=4), n_estimators=300, random_state=42\n",
    ")"
   ]
  },
  {
   "cell_type": "code",
   "execution_count": 80,
   "metadata": {},
   "outputs": [],
   "source": [
    "regr_1.fit(X_train, y_train)\n",
    "regr_2.fit(X_train, y_train)\n",
    "\n",
    "y_1 = regr_1.predict(X_test)\n",
    "y_2 = regr_2.predict(X_test)"
   ]
  },
  {
   "cell_type": "code",
   "execution_count": 81,
   "metadata": {},
   "outputs": [
    {
     "name": "stdout",
     "output_type": "stream",
     "text": [
      "r2 score: 0.10894551291237908\n",
      "RMSE : 8.59831579338411\n",
      "MSE: 73.93103448275862\n",
      "MAE: 7.0344827586206895\n",
      "MAPE: 0.9234128626186401\n",
      "---------------\n",
      "r2 score: 0.48880737432324284\n",
      "RMSE : 6.512587193687147\n",
      "MSE: 42.41379195537783\n",
      "MAE: 5.3876426778552835\n",
      "MAPE: 1.1922675432426433\n"
     ]
    }
   ],
   "source": [
    "print('r2 score: '+str(r2_score(y_test, y_1)))\n",
    "print('RMSE : '+str(np.sqrt(mean_squared_error(y_test, y_1))))\n",
    "print('MSE: '+str(mean_squared_error(y_test, y_1)))\n",
    "print('MAE: '+str(mean_absolute_error(y_test, y_1)))\n",
    "print('MAPE: '+str(mean_absolute_percentage_error(y_test, y_1)))\n",
    "\n",
    "\n",
    "print('---------------')\n",
    "print('r2 score: '+str(r2_score(y_test, y_2)))\n",
    "print('RMSE : '+str(np.sqrt(mean_squared_error(y_test, y_2))))\n",
    "print('MSE: '+str(mean_squared_error(y_test, y_2)))\n",
    "print('MAE: '+str(mean_absolute_error(y_test, y_2)))\n",
    "print('MAPE: '+str(mean_absolute_percentage_error(y_test, y_2)))"
   ]
  },
  {
   "cell_type": "code",
   "execution_count": 15,
   "metadata": {},
   "outputs": [],
   "source": [
    "# MAPE: 0.8162758623484649"
   ]
  },
  {
   "cell_type": "code",
   "execution_count": null,
   "metadata": {},
   "outputs": [],
   "source": []
  }
 ],
 "metadata": {
  "kernelspec": {
   "display_name": "Python 3 (ipykernel)",
   "language": "python",
   "name": "python3"
  },
  "language_info": {
   "codemirror_mode": {
    "name": "ipython",
    "version": 3
   },
   "file_extension": ".py",
   "mimetype": "text/x-python",
   "name": "python",
   "nbconvert_exporter": "python",
   "pygments_lexer": "ipython3",
   "version": "3.9.12"
  }
 },
 "nbformat": 4,
 "nbformat_minor": 2
}
