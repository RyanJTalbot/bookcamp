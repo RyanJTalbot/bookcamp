{
 "cells": [
  {
   "cell_type": "code",
   "execution_count": 9,
   "metadata": {},
   "outputs": [],
   "source": [
    "import pandas as pd\n",
    "import numpy as np\n",
    "from sklearn.model_selection import train_test_split\n",
    "from sklearn.metrics import mean_squared_error\n",
    "from sklearn.metrics import r2_score\n",
    "from sklearn.metrics import mean_absolute_error\n",
    "from sklearn.metrics import mean_absolute_percentage_error\n",
    "\n",
    "from sklearn import linear_model"
   ]
  },
  {
   "cell_type": "code",
   "execution_count": 10,
   "metadata": {},
   "outputs": [],
   "source": [
    "# df = pd.read_csv('wc-wo-outliers.csv')\n",
    "# df2 = pd.read_csv('wc-w-outliers.csv')\n",
    "df = pd.read_csv('hotData.csv')"
   ]
  },
  {
   "cell_type": "code",
   "execution_count": 11,
   "metadata": {},
   "outputs": [
    {
     "data": {
      "text/plain": [
       "goals         0\n",
       "xg            0\n",
       "crosses       0\n",
       "boxtouches    0\n",
       "passes        0\n",
       "             ..\n",
       "69            0\n",
       "70            0\n",
       "71            0\n",
       "72            0\n",
       "73            0\n",
       "Length: 91, dtype: int64"
      ]
     },
     "execution_count": 11,
     "metadata": {},
     "output_type": "execute_result"
    }
   ],
   "source": [
    "df.isnull().sum()"
   ]
  },
  {
   "cell_type": "code",
   "execution_count": 12,
   "metadata": {},
   "outputs": [],
   "source": [
    "y = df['results']\n",
    "X = df.drop(columns=['results'])\n",
    "\n",
    "X_train, X_test, y_train, y_test = train_test_split(\n",
    "     X, y, test_size=0.15, random_state=1)"
   ]
  },
  {
   "cell_type": "code",
   "execution_count": 13,
   "metadata": {},
   "outputs": [],
   "source": [
    "clf = linear_model.ARDRegression(alpha_1=1000, alpha_2=1000)\n",
    "# clf2 = linear_model.ARDRegression()"
   ]
  },
  {
   "cell_type": "code",
   "execution_count": 14,
   "metadata": {
    "scrolled": true
   },
   "outputs": [
    {
     "data": {
      "text/html": [
       "<style>#sk-container-id-1 {color: black;background-color: white;}#sk-container-id-1 pre{padding: 0;}#sk-container-id-1 div.sk-toggleable {background-color: white;}#sk-container-id-1 label.sk-toggleable__label {cursor: pointer;display: block;width: 100%;margin-bottom: 0;padding: 0.3em;box-sizing: border-box;text-align: center;}#sk-container-id-1 label.sk-toggleable__label-arrow:before {content: \"▸\";float: left;margin-right: 0.25em;color: #696969;}#sk-container-id-1 label.sk-toggleable__label-arrow:hover:before {color: black;}#sk-container-id-1 div.sk-estimator:hover label.sk-toggleable__label-arrow:before {color: black;}#sk-container-id-1 div.sk-toggleable__content {max-height: 0;max-width: 0;overflow: hidden;text-align: left;background-color: #f0f8ff;}#sk-container-id-1 div.sk-toggleable__content pre {margin: 0.2em;color: black;border-radius: 0.25em;background-color: #f0f8ff;}#sk-container-id-1 input.sk-toggleable__control:checked~div.sk-toggleable__content {max-height: 200px;max-width: 100%;overflow: auto;}#sk-container-id-1 input.sk-toggleable__control:checked~label.sk-toggleable__label-arrow:before {content: \"▾\";}#sk-container-id-1 div.sk-estimator input.sk-toggleable__control:checked~label.sk-toggleable__label {background-color: #d4ebff;}#sk-container-id-1 div.sk-label input.sk-toggleable__control:checked~label.sk-toggleable__label {background-color: #d4ebff;}#sk-container-id-1 input.sk-hidden--visually {border: 0;clip: rect(1px 1px 1px 1px);clip: rect(1px, 1px, 1px, 1px);height: 1px;margin: -1px;overflow: hidden;padding: 0;position: absolute;width: 1px;}#sk-container-id-1 div.sk-estimator {font-family: monospace;background-color: #f0f8ff;border: 1px dotted black;border-radius: 0.25em;box-sizing: border-box;margin-bottom: 0.5em;}#sk-container-id-1 div.sk-estimator:hover {background-color: #d4ebff;}#sk-container-id-1 div.sk-parallel-item::after {content: \"\";width: 100%;border-bottom: 1px solid gray;flex-grow: 1;}#sk-container-id-1 div.sk-label:hover label.sk-toggleable__label {background-color: #d4ebff;}#sk-container-id-1 div.sk-serial::before {content: \"\";position: absolute;border-left: 1px solid gray;box-sizing: border-box;top: 0;bottom: 0;left: 50%;z-index: 0;}#sk-container-id-1 div.sk-serial {display: flex;flex-direction: column;align-items: center;background-color: white;padding-right: 0.2em;padding-left: 0.2em;position: relative;}#sk-container-id-1 div.sk-item {position: relative;z-index: 1;}#sk-container-id-1 div.sk-parallel {display: flex;align-items: stretch;justify-content: center;background-color: white;position: relative;}#sk-container-id-1 div.sk-item::before, #sk-container-id-1 div.sk-parallel-item::before {content: \"\";position: absolute;border-left: 1px solid gray;box-sizing: border-box;top: 0;bottom: 0;left: 50%;z-index: -1;}#sk-container-id-1 div.sk-parallel-item {display: flex;flex-direction: column;z-index: 1;position: relative;background-color: white;}#sk-container-id-1 div.sk-parallel-item:first-child::after {align-self: flex-end;width: 50%;}#sk-container-id-1 div.sk-parallel-item:last-child::after {align-self: flex-start;width: 50%;}#sk-container-id-1 div.sk-parallel-item:only-child::after {width: 0;}#sk-container-id-1 div.sk-dashed-wrapped {border: 1px dashed gray;margin: 0 0.4em 0.5em 0.4em;box-sizing: border-box;padding-bottom: 0.4em;background-color: white;}#sk-container-id-1 div.sk-label label {font-family: monospace;font-weight: bold;display: inline-block;line-height: 1.2em;}#sk-container-id-1 div.sk-label-container {text-align: center;}#sk-container-id-1 div.sk-container {/* jupyter's `normalize.less` sets `[hidden] { display: none; }` but bootstrap.min.css set `[hidden] { display: none !important; }` so we also need the `!important` here to be able to override the default hidden behavior on the sphinx rendered scikit-learn.org. See: https://github.com/scikit-learn/scikit-learn/issues/21755 */display: inline-block !important;position: relative;}#sk-container-id-1 div.sk-text-repr-fallback {display: none;}</style><div id=\"sk-container-id-1\" class=\"sk-top-container\"><div class=\"sk-text-repr-fallback\"><pre>ARDRegression(alpha_1=1000, alpha_2=1000)</pre><b>In a Jupyter environment, please rerun this cell to show the HTML representation or trust the notebook. <br />On GitHub, the HTML representation is unable to render, please try loading this page with nbviewer.org.</b></div><div class=\"sk-container\" hidden><div class=\"sk-item\"><div class=\"sk-estimator sk-toggleable\"><input class=\"sk-toggleable__control sk-hidden--visually\" id=\"sk-estimator-id-1\" type=\"checkbox\" checked><label for=\"sk-estimator-id-1\" class=\"sk-toggleable__label sk-toggleable__label-arrow\">ARDRegression</label><div class=\"sk-toggleable__content\"><pre>ARDRegression(alpha_1=1000, alpha_2=1000)</pre></div></div></div></div></div>"
      ],
      "text/plain": [
       "ARDRegression(alpha_1=1000, alpha_2=1000)"
      ]
     },
     "execution_count": 14,
     "metadata": {},
     "output_type": "execute_result"
    }
   ],
   "source": [
    "clf.fit(X_train, y_train)\n",
    "# clf2.fit(X_train2, y_train2)"
   ]
  },
  {
   "cell_type": "code",
   "execution_count": null,
   "metadata": {},
   "outputs": [],
   "source": []
  },
  {
   "cell_type": "code",
   "execution_count": 15,
   "metadata": {},
   "outputs": [],
   "source": [
    "pred_train= clf.predict(X_train)\n",
    "pred_test= clf.predict(X_test)"
   ]
  },
  {
   "cell_type": "code",
   "execution_count": 16,
   "metadata": {},
   "outputs": [],
   "source": [
    "# pred_train= clf2.predict(X_train2)\n",
    "# pred_test= clf2.predict(X_test2)"
   ]
  },
  {
   "cell_type": "code",
   "execution_count": 17,
   "metadata": {},
   "outputs": [
    {
     "name": "stdout",
     "output_type": "stream",
     "text": [
      "---------------------\n",
      "RMSE : 6.321035329841267\n",
      "R2 : 0.33172639853886454\n",
      "MSE: 39.9554876411015\n",
      "MAE: 5.106249068851317\n",
      "MAPE: 0.6122040799910263\n"
     ]
    }
   ],
   "source": [
    "# print('RMSE : '+str(np.sqrt(mean_squared_error(y_test2,pred_test2)))) \n",
    "# print('R2 : '+str(r2_score(y_test2, pred_test2)))\n",
    "# print('MSE: '+str(mean_squared_error(y_test2, pred_test2)))\n",
    "# print('MAE: '+str(mean_absolute_error(y_test2, pred_test2)))\n",
    "# print('MAPE: '+str(mean_absolute_percentage_error(y_test2, pred_test2)))\n",
    "\n",
    "print('---------------------')\n",
    "\n",
    "# pred_test= clf.predict(X_test)\n",
    "\n",
    "print('RMSE : '+str(np.sqrt(mean_squared_error(y_test,pred_test)))) \n",
    "print('R2 : '+str(r2_score(y_test, pred_test)))\n",
    "print('MSE: '+str(mean_squared_error(y_test, pred_test)))\n",
    "print('MAE: '+str(mean_absolute_error(y_test, pred_test)))\n",
    "print('MAPE: '+str(mean_absolute_percentage_error(y_test, pred_test)))"
   ]
  },
  {
   "cell_type": "markdown",
   "metadata": {},
   "source": [
    "MAPE: 1.3934502148026755\n",
    "alpha_1=10 MAPE: 1.3780892330887005\n",
    "alpha_1=10000 MAPE: 1.2881572628411337\n",
    "alpha_1=1000 MAPE: 1.270121254581416\n",
    "alpha_2=1000 MAPE: 1.2685683903338687"
   ]
  },
  {
   "cell_type": "code",
   "execution_count": 18,
   "metadata": {},
   "outputs": [],
   "source": [
    "data = {'y_test': y_test, 'y_pred': pred_test}\n",
    "new_df = pd.DataFrame(data)\n",
    "diff = (new_df['y_test'] - new_df['y_pred']).abs()\n",
    "new_df['diff'] = diff\n",
    "new_df = new_df.sort_values(by='diff', ascending=True)\n"
   ]
  },
  {
   "cell_type": "code",
   "execution_count": 19,
   "metadata": {},
   "outputs": [
    {
     "data": {
      "text/html": [
       "<div>\n",
       "<style scoped>\n",
       "    .dataframe tbody tr th:only-of-type {\n",
       "        vertical-align: middle;\n",
       "    }\n",
       "\n",
       "    .dataframe tbody tr th {\n",
       "        vertical-align: top;\n",
       "    }\n",
       "\n",
       "    .dataframe thead th {\n",
       "        text-align: right;\n",
       "    }\n",
       "</style>\n",
       "<table border=\"1\" class=\"dataframe\">\n",
       "  <thead>\n",
       "    <tr style=\"text-align: right;\">\n",
       "      <th></th>\n",
       "      <th>y_test</th>\n",
       "      <th>y_pred</th>\n",
       "      <th>diff</th>\n",
       "    </tr>\n",
       "  </thead>\n",
       "  <tbody>\n",
       "    <tr>\n",
       "      <th>257</th>\n",
       "      <td>14</td>\n",
       "      <td>14.084720</td>\n",
       "      <td>0.084720</td>\n",
       "    </tr>\n",
       "    <tr>\n",
       "      <th>107</th>\n",
       "      <td>23</td>\n",
       "      <td>22.899654</td>\n",
       "      <td>0.100346</td>\n",
       "    </tr>\n",
       "    <tr>\n",
       "      <th>224</th>\n",
       "      <td>18</td>\n",
       "      <td>18.582591</td>\n",
       "      <td>0.582591</td>\n",
       "    </tr>\n",
       "    <tr>\n",
       "      <th>4</th>\n",
       "      <td>6</td>\n",
       "      <td>7.126191</td>\n",
       "      <td>1.126191</td>\n",
       "    </tr>\n",
       "    <tr>\n",
       "      <th>99</th>\n",
       "      <td>21</td>\n",
       "      <td>22.270951</td>\n",
       "      <td>1.270951</td>\n",
       "    </tr>\n",
       "    <tr>\n",
       "      <th>154</th>\n",
       "      <td>14</td>\n",
       "      <td>12.662371</td>\n",
       "      <td>1.337629</td>\n",
       "    </tr>\n",
       "    <tr>\n",
       "      <th>132</th>\n",
       "      <td>11</td>\n",
       "      <td>12.395137</td>\n",
       "      <td>1.395137</td>\n",
       "    </tr>\n",
       "    <tr>\n",
       "      <th>206</th>\n",
       "      <td>12</td>\n",
       "      <td>13.403197</td>\n",
       "      <td>1.403197</td>\n",
       "    </tr>\n",
       "    <tr>\n",
       "      <th>17</th>\n",
       "      <td>14</td>\n",
       "      <td>12.459289</td>\n",
       "      <td>1.540711</td>\n",
       "    </tr>\n",
       "    <tr>\n",
       "      <th>185</th>\n",
       "      <td>16</td>\n",
       "      <td>17.638725</td>\n",
       "      <td>1.638725</td>\n",
       "    </tr>\n",
       "    <tr>\n",
       "      <th>272</th>\n",
       "      <td>19</td>\n",
       "      <td>17.329245</td>\n",
       "      <td>1.670755</td>\n",
       "    </tr>\n",
       "    <tr>\n",
       "      <th>266</th>\n",
       "      <td>24</td>\n",
       "      <td>22.058582</td>\n",
       "      <td>1.941418</td>\n",
       "    </tr>\n",
       "    <tr>\n",
       "      <th>264</th>\n",
       "      <td>7</td>\n",
       "      <td>8.968496</td>\n",
       "      <td>1.968496</td>\n",
       "    </tr>\n",
       "    <tr>\n",
       "      <th>269</th>\n",
       "      <td>13</td>\n",
       "      <td>10.483324</td>\n",
       "      <td>2.516676</td>\n",
       "    </tr>\n",
       "    <tr>\n",
       "      <th>134</th>\n",
       "      <td>22</td>\n",
       "      <td>19.363939</td>\n",
       "      <td>2.636061</td>\n",
       "    </tr>\n",
       "    <tr>\n",
       "      <th>102</th>\n",
       "      <td>6</td>\n",
       "      <td>8.928874</td>\n",
       "      <td>2.928874</td>\n",
       "    </tr>\n",
       "    <tr>\n",
       "      <th>11</th>\n",
       "      <td>12</td>\n",
       "      <td>15.297306</td>\n",
       "      <td>3.297306</td>\n",
       "    </tr>\n",
       "    <tr>\n",
       "      <th>12</th>\n",
       "      <td>6</td>\n",
       "      <td>9.371618</td>\n",
       "      <td>3.371618</td>\n",
       "    </tr>\n",
       "    <tr>\n",
       "      <th>18</th>\n",
       "      <td>15</td>\n",
       "      <td>18.544968</td>\n",
       "      <td>3.544968</td>\n",
       "    </tr>\n",
       "    <tr>\n",
       "      <th>212</th>\n",
       "      <td>14</td>\n",
       "      <td>18.145845</td>\n",
       "      <td>4.145845</td>\n",
       "    </tr>\n",
       "    <tr>\n",
       "      <th>223</th>\n",
       "      <td>25</td>\n",
       "      <td>20.252128</td>\n",
       "      <td>4.747872</td>\n",
       "    </tr>\n",
       "    <tr>\n",
       "      <th>89</th>\n",
       "      <td>18</td>\n",
       "      <td>23.103001</td>\n",
       "      <td>5.103001</td>\n",
       "    </tr>\n",
       "    <tr>\n",
       "      <th>90</th>\n",
       "      <td>17</td>\n",
       "      <td>11.822293</td>\n",
       "      <td>5.177707</td>\n",
       "    </tr>\n",
       "    <tr>\n",
       "      <th>27</th>\n",
       "      <td>13</td>\n",
       "      <td>18.226222</td>\n",
       "      <td>5.226222</td>\n",
       "    </tr>\n",
       "    <tr>\n",
       "      <th>158</th>\n",
       "      <td>1</td>\n",
       "      <td>6.284243</td>\n",
       "      <td>5.284243</td>\n",
       "    </tr>\n",
       "    <tr>\n",
       "      <th>105</th>\n",
       "      <td>12</td>\n",
       "      <td>17.352721</td>\n",
       "      <td>5.352721</td>\n",
       "    </tr>\n",
       "    <tr>\n",
       "      <th>159</th>\n",
       "      <td>18</td>\n",
       "      <td>12.611630</td>\n",
       "      <td>5.388370</td>\n",
       "    </tr>\n",
       "    <tr>\n",
       "      <th>244</th>\n",
       "      <td>2</td>\n",
       "      <td>8.765605</td>\n",
       "      <td>6.765605</td>\n",
       "    </tr>\n",
       "    <tr>\n",
       "      <th>170</th>\n",
       "      <td>27</td>\n",
       "      <td>20.064132</td>\n",
       "      <td>6.935868</td>\n",
       "    </tr>\n",
       "    <tr>\n",
       "      <th>186</th>\n",
       "      <td>8</td>\n",
       "      <td>14.958827</td>\n",
       "      <td>6.958827</td>\n",
       "    </tr>\n",
       "    <tr>\n",
       "      <th>59</th>\n",
       "      <td>20</td>\n",
       "      <td>12.630491</td>\n",
       "      <td>7.369509</td>\n",
       "    </tr>\n",
       "    <tr>\n",
       "      <th>168</th>\n",
       "      <td>13</td>\n",
       "      <td>20.479677</td>\n",
       "      <td>7.479677</td>\n",
       "    </tr>\n",
       "    <tr>\n",
       "      <th>88</th>\n",
       "      <td>21</td>\n",
       "      <td>12.888252</td>\n",
       "      <td>8.111748</td>\n",
       "    </tr>\n",
       "    <tr>\n",
       "      <th>191</th>\n",
       "      <td>10</td>\n",
       "      <td>18.157887</td>\n",
       "      <td>8.157887</td>\n",
       "    </tr>\n",
       "    <tr>\n",
       "      <th>138</th>\n",
       "      <td>31</td>\n",
       "      <td>21.870352</td>\n",
       "      <td>9.129648</td>\n",
       "    </tr>\n",
       "    <tr>\n",
       "      <th>229</th>\n",
       "      <td>16</td>\n",
       "      <td>6.720143</td>\n",
       "      <td>9.279857</td>\n",
       "    </tr>\n",
       "    <tr>\n",
       "      <th>119</th>\n",
       "      <td>12</td>\n",
       "      <td>21.322797</td>\n",
       "      <td>9.322797</td>\n",
       "    </tr>\n",
       "    <tr>\n",
       "      <th>245</th>\n",
       "      <td>31</td>\n",
       "      <td>21.257053</td>\n",
       "      <td>9.742947</td>\n",
       "    </tr>\n",
       "    <tr>\n",
       "      <th>277</th>\n",
       "      <td>21</td>\n",
       "      <td>11.065471</td>\n",
       "      <td>9.934529</td>\n",
       "    </tr>\n",
       "    <tr>\n",
       "      <th>193</th>\n",
       "      <td>29</td>\n",
       "      <td>18.010533</td>\n",
       "      <td>10.989467</td>\n",
       "    </tr>\n",
       "    <tr>\n",
       "      <th>164</th>\n",
       "      <td>31</td>\n",
       "      <td>16.825146</td>\n",
       "      <td>14.174854</td>\n",
       "    </tr>\n",
       "    <tr>\n",
       "      <th>62</th>\n",
       "      <td>3</td>\n",
       "      <td>18.326892</td>\n",
       "      <td>15.326892</td>\n",
       "    </tr>\n",
       "  </tbody>\n",
       "</table>\n",
       "</div>"
      ],
      "text/plain": [
       "     y_test     y_pred       diff\n",
       "257      14  14.084720   0.084720\n",
       "107      23  22.899654   0.100346\n",
       "224      18  18.582591   0.582591\n",
       "4         6   7.126191   1.126191\n",
       "99       21  22.270951   1.270951\n",
       "154      14  12.662371   1.337629\n",
       "132      11  12.395137   1.395137\n",
       "206      12  13.403197   1.403197\n",
       "17       14  12.459289   1.540711\n",
       "185      16  17.638725   1.638725\n",
       "272      19  17.329245   1.670755\n",
       "266      24  22.058582   1.941418\n",
       "264       7   8.968496   1.968496\n",
       "269      13  10.483324   2.516676\n",
       "134      22  19.363939   2.636061\n",
       "102       6   8.928874   2.928874\n",
       "11       12  15.297306   3.297306\n",
       "12        6   9.371618   3.371618\n",
       "18       15  18.544968   3.544968\n",
       "212      14  18.145845   4.145845\n",
       "223      25  20.252128   4.747872\n",
       "89       18  23.103001   5.103001\n",
       "90       17  11.822293   5.177707\n",
       "27       13  18.226222   5.226222\n",
       "158       1   6.284243   5.284243\n",
       "105      12  17.352721   5.352721\n",
       "159      18  12.611630   5.388370\n",
       "244       2   8.765605   6.765605\n",
       "170      27  20.064132   6.935868\n",
       "186       8  14.958827   6.958827\n",
       "59       20  12.630491   7.369509\n",
       "168      13  20.479677   7.479677\n",
       "88       21  12.888252   8.111748\n",
       "191      10  18.157887   8.157887\n",
       "138      31  21.870352   9.129648\n",
       "229      16   6.720143   9.279857\n",
       "119      12  21.322797   9.322797\n",
       "245      31  21.257053   9.742947\n",
       "277      21  11.065471   9.934529\n",
       "193      29  18.010533  10.989467\n",
       "164      31  16.825146  14.174854\n",
       "62        3  18.326892  15.326892"
      ]
     },
     "execution_count": 19,
     "metadata": {},
     "output_type": "execute_result"
    }
   ],
   "source": [
    "new_df"
   ]
  },
  {
   "cell_type": "code",
   "execution_count": 20,
   "metadata": {},
   "outputs": [
    {
     "data": {
      "text/plain": [
       "5.106249068851317"
      ]
     },
     "execution_count": 20,
     "metadata": {},
     "output_type": "execute_result"
    }
   ],
   "source": [
    "new_df['diff'].mean()"
   ]
  },
  {
   "cell_type": "code",
   "execution_count": 21,
   "metadata": {},
   "outputs": [
    {
     "data": {
      "text/plain": [
       "4.925436472153155"
      ]
     },
     "execution_count": 21,
     "metadata": {},
     "output_type": "execute_result"
    }
   ],
   "source": [
    "new_df['diff'].median()"
   ]
  },
  {
   "cell_type": "code",
   "execution_count": null,
   "metadata": {},
   "outputs": [],
   "source": []
  }
 ],
 "metadata": {
  "kernelspec": {
   "display_name": "Python 3 (ipykernel)",
   "language": "python",
   "name": "python3"
  },
  "language_info": {
   "codemirror_mode": {
    "name": "ipython",
    "version": 3
   },
   "file_extension": ".py",
   "mimetype": "text/x-python",
   "name": "python",
   "nbconvert_exporter": "python",
   "pygments_lexer": "ipython3",
   "version": "3.9.12"
  }
 },
 "nbformat": 4,
 "nbformat_minor": 2
}
