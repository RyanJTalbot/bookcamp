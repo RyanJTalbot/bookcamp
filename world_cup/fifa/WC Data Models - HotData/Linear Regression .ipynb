{
 "cells": [
  {
   "cell_type": "code",
   "execution_count": 1,
   "metadata": {},
   "outputs": [],
   "source": [
    "#                                  OLS Regression Results                                \n",
    "# =======================================================================================\n",
    "# Dep. Variable:                results   R-squared (uncentered):                   0.316\n",
    "# Model:                            OLS   Adj. R-squared (uncentered):              0.232\n",
    "# Method:                 Least Squares   F-statistic:                              3.781\n",
    "# Date:                Sun, 18 Sep 2022   Prob (F-statistic):                    9.88e-06\n",
    "# Time:                        11:29:27   Log-Likelihood:                         -602.64\n",
    "# No. Observations:                 147   AIC:                                      1237.\n",
    "# Df Residuals:                     131   BIC:                                      1285.\n",
    "# Df Model:                          16                                                  \n",
    "# Covariance Type:            nonrobust                                                  \n",
    "# ===================================================================================\n",
    "#                       coef    std err          t      P>|t|      [0.025      0.975]\n",
    "\n",
    "\n",
    "# Omnibus:                        3.493   Durbin-Watson:                   1.122\n",
    "# Prob(Omnibus):                  0.174   Jarque-Bera (JB):                2.831\n",
    "# Skew:                           0.223   Prob(JB):                        0.243\n",
    "# Kurtosis:                       2.487   Cond. No.                         6.79"
   ]
  },
  {
   "cell_type": "code",
   "execution_count": 6,
   "metadata": {},
   "outputs": [],
   "source": [
    "import pandas as pd\n",
    "import numpy as np\n",
    "from sklearn.model_selection import train_test_split\n",
    "from sklearn.metrics import mean_squared_error\n",
    "from sklearn.metrics import r2_score\n",
    "from sklearn.metrics import mean_absolute_error\n",
    "from sklearn.metrics import mean_absolute_percentage_error\n",
    "\n",
    "from sklearn import linear_model\n",
    "import statsmodels.api as sm\n",
    "import matplotlib.pyplot as plt\n",
    "import numpy as np\n",
    "import pandas as pd\n",
    "import statsmodels.api as sm"
   ]
  },
  {
   "cell_type": "code",
   "execution_count": 7,
   "metadata": {},
   "outputs": [],
   "source": [
    "df = pd.read_csv('hotData.csv')\n"
   ]
  },
  {
   "cell_type": "code",
   "execution_count": 8,
   "metadata": {},
   "outputs": [],
   "source": [
    "y = df['results']\n",
    "X = df.drop(columns=['results'])\n",
    "\n",
    "X_train, X_test, y_train, y_test = train_test_split(\n",
    "     X, y, test_size=0.10, random_state=2)"
   ]
  },
  {
   "cell_type": "code",
   "execution_count": 9,
   "metadata": {},
   "outputs": [],
   "source": [
    "reg = linear_model.LinearRegression()\n",
    "reg.fit(X_train, y_train)\n",
    "pred_train= reg.predict(X_train)"
   ]
  },
  {
   "cell_type": "markdown",
   "metadata": {},
   "source": [
    "Theres no clear difference between using all the features or a few features. mape goes back and forth depending on the random_state value"
   ]
  },
  {
   "cell_type": "code",
   "execution_count": 10,
   "metadata": {},
   "outputs": [
    {
     "name": "stdout",
     "output_type": "stream",
     "text": [
      "RMSE : 2662027622530.949\n",
      "R2 : -1.2326345832189247e+23\n",
      "MSE: 7.086391063117778e+24\n",
      "MAE: 711456808408.2654\n",
      "MAPE: 32405900060.375282\n"
     ]
    }
   ],
   "source": [
    "\n",
    "\n",
    "pred_test= reg.predict(X_test)\n",
    "\n",
    "print('RMSE : '+str(np.sqrt(mean_squared_error(y_test,pred_test)))) \n",
    "print('R2 : '+str(r2_score(y_test, pred_test)))\n",
    "print('MSE: '+str(mean_squared_error(y_test, pred_test)))\n",
    "print('MAE: '+str(mean_absolute_error(y_test, pred_test)))\n",
    "print('MAPE: '+str(mean_absolute_percentage_error(y_test, pred_test)))"
   ]
  },
  {
   "cell_type": "code",
   "execution_count": 11,
   "metadata": {},
   "outputs": [],
   "source": [
    "# MAPE: 6245801542.721291"
   ]
  },
  {
   "cell_type": "code",
   "execution_count": 12,
   "metadata": {},
   "outputs": [],
   "source": [
    "data = {'y_test': y_test, 'y_pred': pred_test}\n",
    "new_df = pd.DataFrame(data)\n",
    "diff = (new_df['y_test'] - new_df['y_pred']).abs()\n",
    "new_df['diff'] = diff\n",
    "new_df = new_df.sort_values(by='diff', ascending=True)\n"
   ]
  },
  {
   "cell_type": "code",
   "execution_count": 18,
   "metadata": {},
   "outputs": [
    {
     "data": {
      "text/html": [
       "<div>\n",
       "<style scoped>\n",
       "    .dataframe tbody tr th:only-of-type {\n",
       "        vertical-align: middle;\n",
       "    }\n",
       "\n",
       "    .dataframe tbody tr th {\n",
       "        vertical-align: top;\n",
       "    }\n",
       "\n",
       "    .dataframe thead th {\n",
       "        text-align: right;\n",
       "    }\n",
       "</style>\n",
       "<table border=\"1\" class=\"dataframe\">\n",
       "  <thead>\n",
       "    <tr style=\"text-align: right;\">\n",
       "      <th></th>\n",
       "      <th>y_test</th>\n",
       "      <th>y_pred</th>\n",
       "      <th>diff</th>\n",
       "    </tr>\n",
       "  </thead>\n",
       "  <tbody>\n",
       "    <tr>\n",
       "      <th>159</th>\n",
       "      <td>5</td>\n",
       "      <td>5.321899e+00</td>\n",
       "      <td>3.218994e-01</td>\n",
       "    </tr>\n",
       "    <tr>\n",
       "      <th>13</th>\n",
       "      <td>7</td>\n",
       "      <td>6.284424e+00</td>\n",
       "      <td>7.155762e-01</td>\n",
       "    </tr>\n",
       "    <tr>\n",
       "      <th>101</th>\n",
       "      <td>1</td>\n",
       "      <td>-1.584473e-01</td>\n",
       "      <td>1.158447e+00</td>\n",
       "    </tr>\n",
       "    <tr>\n",
       "      <th>253</th>\n",
       "      <td>28</td>\n",
       "      <td>2.916077e+01</td>\n",
       "      <td>1.160767e+00</td>\n",
       "    </tr>\n",
       "    <tr>\n",
       "      <th>29</th>\n",
       "      <td>23</td>\n",
       "      <td>2.440186e+01</td>\n",
       "      <td>1.401855e+00</td>\n",
       "    </tr>\n",
       "    <tr>\n",
       "      <th>234</th>\n",
       "      <td>7</td>\n",
       "      <td>8.473633e+00</td>\n",
       "      <td>1.473633e+00</td>\n",
       "    </tr>\n",
       "    <tr>\n",
       "      <th>130</th>\n",
       "      <td>10</td>\n",
       "      <td>8.424805e+00</td>\n",
       "      <td>1.575195e+00</td>\n",
       "    </tr>\n",
       "    <tr>\n",
       "      <th>259</th>\n",
       "      <td>1</td>\n",
       "      <td>3.336914e+00</td>\n",
       "      <td>2.336914e+00</td>\n",
       "    </tr>\n",
       "    <tr>\n",
       "      <th>7</th>\n",
       "      <td>19</td>\n",
       "      <td>1.657532e+01</td>\n",
       "      <td>2.424683e+00</td>\n",
       "    </tr>\n",
       "    <tr>\n",
       "      <th>106</th>\n",
       "      <td>9</td>\n",
       "      <td>6.172974e+00</td>\n",
       "      <td>2.827026e+00</td>\n",
       "    </tr>\n",
       "    <tr>\n",
       "      <th>254</th>\n",
       "      <td>17</td>\n",
       "      <td>1.992468e+01</td>\n",
       "      <td>2.924683e+00</td>\n",
       "    </tr>\n",
       "    <tr>\n",
       "      <th>11</th>\n",
       "      <td>12</td>\n",
       "      <td>9.050537e+00</td>\n",
       "      <td>2.949463e+00</td>\n",
       "    </tr>\n",
       "    <tr>\n",
       "      <th>89</th>\n",
       "      <td>22</td>\n",
       "      <td>1.892456e+01</td>\n",
       "      <td>3.075439e+00</td>\n",
       "    </tr>\n",
       "    <tr>\n",
       "      <th>77</th>\n",
       "      <td>18</td>\n",
       "      <td>1.471814e+01</td>\n",
       "      <td>3.281860e+00</td>\n",
       "    </tr>\n",
       "    <tr>\n",
       "      <th>164</th>\n",
       "      <td>11</td>\n",
       "      <td>7.498901e+00</td>\n",
       "      <td>3.501099e+00</td>\n",
       "    </tr>\n",
       "    <tr>\n",
       "      <th>244</th>\n",
       "      <td>6</td>\n",
       "      <td>1.052063e+01</td>\n",
       "      <td>4.520630e+00</td>\n",
       "    </tr>\n",
       "    <tr>\n",
       "      <th>202</th>\n",
       "      <td>6</td>\n",
       "      <td>1.156091e+01</td>\n",
       "      <td>5.560913e+00</td>\n",
       "    </tr>\n",
       "    <tr>\n",
       "      <th>3</th>\n",
       "      <td>32</td>\n",
       "      <td>2.590967e+01</td>\n",
       "      <td>6.090332e+00</td>\n",
       "    </tr>\n",
       "    <tr>\n",
       "      <th>151</th>\n",
       "      <td>22</td>\n",
       "      <td>1.505261e+01</td>\n",
       "      <td>6.947388e+00</td>\n",
       "    </tr>\n",
       "    <tr>\n",
       "      <th>66</th>\n",
       "      <td>17</td>\n",
       "      <td>2.452100e+01</td>\n",
       "      <td>7.520996e+00</td>\n",
       "    </tr>\n",
       "    <tr>\n",
       "      <th>232</th>\n",
       "      <td>15</td>\n",
       "      <td>6.980103e+00</td>\n",
       "      <td>8.019897e+00</td>\n",
       "    </tr>\n",
       "    <tr>\n",
       "      <th>267</th>\n",
       "      <td>26</td>\n",
       "      <td>1.721655e+01</td>\n",
       "      <td>8.783447e+00</td>\n",
       "    </tr>\n",
       "    <tr>\n",
       "      <th>141</th>\n",
       "      <td>14</td>\n",
       "      <td>2.339221e+01</td>\n",
       "      <td>9.392212e+00</td>\n",
       "    </tr>\n",
       "    <tr>\n",
       "      <th>35</th>\n",
       "      <td>18</td>\n",
       "      <td>8.443359e+00</td>\n",
       "      <td>9.556641e+00</td>\n",
       "    </tr>\n",
       "    <tr>\n",
       "      <th>230</th>\n",
       "      <td>29</td>\n",
       "      <td>1.925549e+01</td>\n",
       "      <td>9.744507e+00</td>\n",
       "    </tr>\n",
       "    <tr>\n",
       "      <th>120</th>\n",
       "      <td>17</td>\n",
       "      <td>6.766724e+00</td>\n",
       "      <td>1.023328e+01</td>\n",
       "    </tr>\n",
       "    <tr>\n",
       "      <th>214</th>\n",
       "      <td>31</td>\n",
       "      <td>2.045935e+01</td>\n",
       "      <td>1.054065e+01</td>\n",
       "    </tr>\n",
       "    <tr>\n",
       "      <th>175</th>\n",
       "      <td>6</td>\n",
       "      <td>1.866284e+01</td>\n",
       "      <td>1.266284e+01</td>\n",
       "    </tr>\n",
       "    <tr>\n",
       "      <th>144</th>\n",
       "      <td>4</td>\n",
       "      <td>-7.245130e+11</td>\n",
       "      <td>7.245130e+11</td>\n",
       "    </tr>\n",
       "  </tbody>\n",
       "</table>\n",
       "</div>"
      ],
      "text/plain": [
       "     y_test        y_pred          diff\n",
       "159       5  5.321899e+00  3.218994e-01\n",
       "13        7  6.284424e+00  7.155762e-01\n",
       "101       1 -1.584473e-01  1.158447e+00\n",
       "253      28  2.916077e+01  1.160767e+00\n",
       "29       23  2.440186e+01  1.401855e+00\n",
       "234       7  8.473633e+00  1.473633e+00\n",
       "130      10  8.424805e+00  1.575195e+00\n",
       "259       1  3.336914e+00  2.336914e+00\n",
       "7        19  1.657532e+01  2.424683e+00\n",
       "106       9  6.172974e+00  2.827026e+00\n",
       "254      17  1.992468e+01  2.924683e+00\n",
       "11       12  9.050537e+00  2.949463e+00\n",
       "89       22  1.892456e+01  3.075439e+00\n",
       "77       18  1.471814e+01  3.281860e+00\n",
       "164      11  7.498901e+00  3.501099e+00\n",
       "244       6  1.052063e+01  4.520630e+00\n",
       "202       6  1.156091e+01  5.560913e+00\n",
       "3        32  2.590967e+01  6.090332e+00\n",
       "151      22  1.505261e+01  6.947388e+00\n",
       "66       17  2.452100e+01  7.520996e+00\n",
       "232      15  6.980103e+00  8.019897e+00\n",
       "267      26  1.721655e+01  8.783447e+00\n",
       "141      14  2.339221e+01  9.392212e+00\n",
       "35       18  8.443359e+00  9.556641e+00\n",
       "230      29  1.925549e+01  9.744507e+00\n",
       "120      17  6.766724e+00  1.023328e+01\n",
       "214      31  2.045935e+01  1.054065e+01\n",
       "175       6  1.866284e+01  1.266284e+01\n",
       "144       4 -7.245130e+11  7.245130e+11"
      ]
     },
     "execution_count": 18,
     "metadata": {},
     "output_type": "execute_result"
    }
   ],
   "source": [
    "new_df"
   ]
  },
  {
   "cell_type": "code",
   "execution_count": 9,
   "metadata": {
    "scrolled": true
   },
   "outputs": [
    {
     "data": {
      "text/plain": [
       "24983206173.84401"
      ]
     },
     "execution_count": 9,
     "metadata": {},
     "output_type": "execute_result"
    }
   ],
   "source": [
    "new_df['diff'].mean()"
   ]
  },
  {
   "cell_type": "code",
   "execution_count": 10,
   "metadata": {},
   "outputs": [
    {
     "data": {
      "text/plain": [
       "3.5010986328125"
      ]
     },
     "execution_count": 10,
     "metadata": {},
     "output_type": "execute_result"
    }
   ],
   "source": [
    "new_df['diff'].median()"
   ]
  },
  {
   "cell_type": "code",
   "execution_count": null,
   "metadata": {},
   "outputs": [],
   "source": []
  },
  {
   "cell_type": "code",
   "execution_count": 13,
   "metadata": {},
   "outputs": [],
   "source": [
    "# model = sm.OLS(y_train, X_train)\n",
    "# results = model.fit()\n",
    "# print(results.summary())\n",
    "\n",
    "# # https://www.statsmodels.org/dev/examples/notebooks/generated/ols.html\n"
   ]
  },
  {
   "cell_type": "code",
   "execution_count": 12,
   "metadata": {},
   "outputs": [
    {
     "name": "stdout",
     "output_type": "stream",
     "text": [
      "Linear Regression \n",
      "---------------------\n"
     ]
    },
    {
     "ename": "NameError",
     "evalue": "name 'X_tt' is not defined",
     "output_type": "error",
     "traceback": [
      "\u001b[0;31m---------------------------------------------------------------------------\u001b[0m",
      "\u001b[0;31mNameError\u001b[0m                                 Traceback (most recent call last)",
      "Input \u001b[0;32mIn [12]\u001b[0m, in \u001b[0;36m<cell line: 11>\u001b[0;34m()\u001b[0m\n\u001b[1;32m      2\u001b[0m \u001b[38;5;28mprint\u001b[39m(\u001b[38;5;124m'\u001b[39m\u001b[38;5;124m---------------------\u001b[39m\u001b[38;5;124m'\u001b[39m)\n\u001b[1;32m      3\u001b[0m \u001b[38;5;66;03m# print('RMSE: '+str(np.sqrt(mean_squared_error(y_tr,pred_new))))\u001b[39;00m\n\u001b[1;32m      4\u001b[0m \u001b[38;5;66;03m# print('R Squared: '+str(r2_score(y_tr, pred_new)))\u001b[39;00m\n\u001b[1;32m      5\u001b[0m \u001b[38;5;66;03m# print('MSE: '+str(mean_squared_error(y_tr, pred_new)))\u001b[39;00m\n\u001b[0;32m   (...)\u001b[0m\n\u001b[1;32m      8\u001b[0m \n\u001b[1;32m      9\u001b[0m \u001b[38;5;66;03m# print('---------------------')\u001b[39;00m\n\u001b[0;32m---> 11\u001b[0m pred_tt\u001b[38;5;241m=\u001b[39m reg\u001b[38;5;241m.\u001b[39mpredict(\u001b[43mX_tt\u001b[49m)\n\u001b[1;32m     13\u001b[0m \u001b[38;5;28mprint\u001b[39m(\u001b[38;5;124m'\u001b[39m\u001b[38;5;124mRMSE : \u001b[39m\u001b[38;5;124m'\u001b[39m\u001b[38;5;241m+\u001b[39m\u001b[38;5;28mstr\u001b[39m(np\u001b[38;5;241m.\u001b[39msqrt(mean_squared_error(y_tt,pred_tt)))) \n\u001b[1;32m     14\u001b[0m \u001b[38;5;28mprint\u001b[39m(\u001b[38;5;124m'\u001b[39m\u001b[38;5;124mR2 : \u001b[39m\u001b[38;5;124m'\u001b[39m\u001b[38;5;241m+\u001b[39m\u001b[38;5;28mstr\u001b[39m(r2_score(y_tt, pred_tt)))\n",
      "\u001b[0;31mNameError\u001b[0m: name 'X_tt' is not defined"
     ]
    }
   ],
   "source": [
    "\n",
    "\n",
    "pred_tt= reg.predict(X_tt)\n",
    "\n",
    "print('RMSE : '+str(np.sqrt(mean_squared_error(y_tt,pred_tt)))) \n",
    "print('R2 : '+str(r2_score(y_tt, pred_tt)))\n",
    "print('MSE: '+str(mean_squared_error(y_tt, pred_tt)))\n",
    "print('MAE: '+str(mean_absolute_error(y_tt, pred_tt)))\n",
    "print('MAPE: '+str(mean_absolute_percentage_error(y_tt, pred_tt)))"
   ]
  },
  {
   "cell_type": "code",
   "execution_count": null,
   "metadata": {},
   "outputs": [],
   "source": [
    "x_train = X_train[['goals_z', 'xg_z', 'tackles_z', 'nsxg_z']]"
   ]
  },
  {
   "cell_type": "code",
   "execution_count": null,
   "metadata": {},
   "outputs": [],
   "source": [
    "x_test = X_test[['goals_z', 'xg_z', 'tackles_z', 'nsxg_z']]"
   ]
  },
  {
   "cell_type": "code",
   "execution_count": null,
   "metadata": {},
   "outputs": [],
   "source": [
    "reg.fit(x_train, y_train)\n",
    "pred_train= reg.predict(x_train)"
   ]
  },
  {
   "cell_type": "code",
   "execution_count": null,
   "metadata": {},
   "outputs": [],
   "source": [
    "print('Linear Regression ')\n",
    "print('---------------------')\n",
    "# print('RMSE: '+str(np.sqrt(mean_squared_error(y_train,pred_train))))\n",
    "# print('R Squared: '+str(r2_score(y_train, pred_train)))\n",
    "# print('MSE: '+str(mean_squared_error(y_train, pred_train)))\n",
    "# print('MAE: '+str(mean_absolute_error(y_train, pred_train)))\n",
    "# print('MAPE: '+str(mean_absolute_percentage_error(y_train, pred_train)))\n",
    "\n",
    "print('---------------------')\n",
    "\n",
    "pred_test= reg.predict(x_test)\n",
    "\n",
    "print('RMSE : '+str(np.sqrt(mean_squared_error(y_test,pred_test)))) \n",
    "print('R2 : '+str(r2_score(y_test, pred_test)))\n",
    "print('MSE: '+str(mean_squared_error(y_test, pred_test)))\n",
    "print('MAE: '+str(mean_absolute_error(y_test, pred_test)))\n",
    "print('MAPE: '+str(mean_absolute_percentage_error(y_test, pred_test)))"
   ]
  },
  {
   "cell_type": "markdown",
   "metadata": {},
   "source": [
    "the lowest MAPE value, which tells us that it’s able to forecast the most accurately among the potential models."
   ]
  },
  {
   "cell_type": "code",
   "execution_count": null,
   "metadata": {},
   "outputs": [],
   "source": []
  },
  {
   "cell_type": "code",
   "execution_count": null,
   "metadata": {},
   "outputs": [],
   "source": [
    "from sklearn.metrics import mean_squared_log_error\n",
    "print('Mean Squared Log Error: ' +str(mean_squared_log_error( y_test, pred_test, squared=False)))"
   ]
  },
  {
   "cell_type": "code",
   "execution_count": null,
   "metadata": {},
   "outputs": [],
   "source": [
    "# #display adjusted R-squared\n",
    "# print('Adjusted r^2: ' +str(1 - (1-reg.score(X_train, y_train))*(len(y_train)-1)/(len(y_train)-X_train.shape[1]-1)))"
   ]
  },
  {
   "cell_type": "markdown",
   "metadata": {},
   "source": [
    "The value for R-squared can range from 0 to 1. A value of 0 indicates that the response variable cannot be explained by the predictor variable at all while a value of 1 indicates that the response variable can be perfectly explained without error by the predictor variables."
   ]
  },
  {
   "cell_type": "markdown",
   "metadata": {},
   "source": [
    "- AIC stands for (Akaike’s Information Criteria), a metric developped by the Japanese Statistician, Hirotugu Akaike, 1970. The basic idea of AIC is to penalize the inclusion of additional variables to a model. It adds a penalty that increases the error when including additional terms. The lower the AIC, the better the model.\n",
    "- AICc is a version of AIC corrected for small sample sizes.\n",
    "- BIC (or Bayesian information criteria) is a variant of AIC with a stronger penalty for including additional variables to the model.\n",
    "- Mallows Cp: A variant of AIC developed by Colin Mallows.\n"
   ]
  },
  {
   "cell_type": "markdown",
   "metadata": {},
   "source": [
    "# AIC"
   ]
  },
  {
   "cell_type": "code",
   "execution_count": null,
   "metadata": {},
   "outputs": [],
   "source": [
    "import statsmodels.api as sm"
   ]
  },
  {
   "cell_type": "code",
   "execution_count": null,
   "metadata": {},
   "outputs": [],
   "source": [
    "#add constant to predictor variables\n",
    "X_train = sm.add_constant(X_train)\n",
    "\n",
    "#fit regression model\n",
    "model = sm.OLS(y_train, X_train).fit()\n",
    "\n",
    "#view AIC of model\n",
    "print('AIC: '+str(model.aic))"
   ]
  },
  {
   "cell_type": "code",
   "execution_count": null,
   "metadata": {},
   "outputs": [],
   "source": [
    "X_train.head()"
   ]
  },
  {
   "cell_type": "code",
   "execution_count": null,
   "metadata": {},
   "outputs": [],
   "source": [
    "new_x = X_train[['goals_z', 'boxtouches_z', 'fouls_z', 'fouled_z', 'blocks_z']]"
   ]
  },
  {
   "cell_type": "code",
   "execution_count": null,
   "metadata": {},
   "outputs": [],
   "source": [
    "#add constant to predictor variables\n",
    "new_x = sm.add_constant(new_x)\n",
    "\n",
    "#fit regression model\n",
    "model = sm.OLS(y_train, new_x).fit()\n",
    "\n",
    "#view AIC of model\n",
    "print(model.aic)"
   ]
  },
  {
   "cell_type": "markdown",
   "metadata": {},
   "source": [
    "for AIC - the model with a lower AIC value is the better fitting model. \n",
    "\n",
    "https://www.statology.org/aic-in-python/"
   ]
  },
  {
   "cell_type": "code",
   "execution_count": null,
   "metadata": {},
   "outputs": [],
   "source": [
    "x = X_train[['goals_z', 'xg_z', 'tackles_z', 'nsxg_z']]"
   ]
  },
  {
   "cell_type": "code",
   "execution_count": null,
   "metadata": {},
   "outputs": [],
   "source": [
    "#add constant to predictor variables\n",
    "x = sm.add_constant(x)\n",
    "\n",
    "#fit regression model\n",
    "model = sm.OLS(y_train, x).fit()\n",
    "\n",
    "#view AIC of model\n",
    "print(model.aic)"
   ]
  },
  {
   "cell_type": "code",
   "execution_count": null,
   "metadata": {},
   "outputs": [],
   "source": [
    "x_t = X_test[['goals_z', 'xg_z', 'tackles_z', 'nsxg_z']]"
   ]
  },
  {
   "cell_type": "code",
   "execution_count": null,
   "metadata": {},
   "outputs": [],
   "source": [
    "#add constant to predictor variables\n",
    "x_t = sm.add_constant(x_t)\n",
    "\n",
    "#fit regression model\n",
    "model = sm.OLS(y_test, x_t).fit()\n",
    "\n",
    "#view AIC of model\n",
    "print(model.aic)"
   ]
  },
  {
   "cell_type": "code",
   "execution_count": null,
   "metadata": {},
   "outputs": [],
   "source": [
    "#add constant to predictor variables\n",
    "x = sm.add_constant(X_test)\n",
    "\n",
    "#fit regression model\n",
    "model = sm.OLS(y_test, x).fit()\n",
    "\n",
    "#view AIC of model\n",
    "print(model.aic)"
   ]
  },
  {
   "cell_type": "code",
   "execution_count": null,
   "metadata": {},
   "outputs": [],
   "source": [
    "df.columns"
   ]
  },
  {
   "cell_type": "code",
   "execution_count": null,
   "metadata": {},
   "outputs": [],
   "source": [
    "x_t = X_test[['goals_z', 'xg_z', 'nsxg_z','clearances_z', \n",
    "              'progpasses_z', 'interceptions_z']]"
   ]
  },
  {
   "cell_type": "code",
   "execution_count": null,
   "metadata": {},
   "outputs": [],
   "source": [
    "#add constant to predictor variables\n",
    "x_t = sm.add_constant(x_t)\n",
    "\n",
    "#fit regression model\n",
    "model = sm.OLS(y_test, x_t).fit()\n",
    "\n",
    "#view AIC of model\n",
    "print(model.aic)"
   ]
  },
  {
   "cell_type": "markdown",
   "metadata": {},
   "source": [
    "- <b>205.0406 = ['goals_z', 'xg_z', 'nsxg_z','clearances_z', 'progpasses_z', 'interceptions_z']</b>\n",
    "- 209.6710 = ['goals_z', 'xg_z', 'tackles_z', 'nsxg_z']\n",
    "- 222.0039 = all features"
   ]
  },
  {
   "cell_type": "markdown",
   "metadata": {},
   "source": [
    "# Feature Selection"
   ]
  },
  {
   "cell_type": "code",
   "execution_count": null,
   "metadata": {},
   "outputs": [],
   "source": [
    "from sklearn.feature_selection import SelectKBest, chi2\n"
   ]
  },
  {
   "cell_type": "markdown",
   "metadata": {},
   "source": [
    "# https://scikit-learn.org/stable/modules/model_evaluation.html#regression-metrics"
   ]
  },
  {
   "cell_type": "markdown",
   "metadata": {},
   "source": [
    "https://www.kaggle.com/code/satishgunjal/tutorial-k-fold-cross-validation"
   ]
  },
  {
   "cell_type": "code",
   "execution_count": null,
   "metadata": {},
   "outputs": [],
   "source": []
  }
 ],
 "metadata": {
  "kernelspec": {
   "display_name": "Python 3 (ipykernel)",
   "language": "python",
   "name": "python3"
  },
  "language_info": {
   "codemirror_mode": {
    "name": "ipython",
    "version": 3
   },
   "file_extension": ".py",
   "mimetype": "text/x-python",
   "name": "python",
   "nbconvert_exporter": "python",
   "pygments_lexer": "ipython3",
   "version": "3.9.12"
  }
 },
 "nbformat": 4,
 "nbformat_minor": 2
}
