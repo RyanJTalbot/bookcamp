{
 "cells": [
  {
   "cell_type": "code",
   "execution_count": 1,
   "metadata": {},
   "outputs": [],
   "source": [
    "import pandas as pd\n",
    "import numpy as np\n",
    "from sklearn.model_selection import train_test_split\n",
    "from sklearn.metrics import mean_squared_error\n",
    "from sklearn.metrics import r2_score\n",
    "from sklearn.metrics import mean_absolute_error\n",
    "from sklearn.metrics import mean_absolute_percentage_error\n",
    "\n",
    "from sklearn.linear_model import Ridge"
   ]
  },
  {
   "cell_type": "code",
   "execution_count": 7,
   "metadata": {},
   "outputs": [],
   "source": [
    "# df = pd.read_csv('hotoutliers.csv')\n",
    "\n",
    "\n",
    "# df = pd.read_csv('hotData.csv')\n",
    "# df = pd.read_csv('hotoutliers238.csv')\n",
    "# df = pd.read_csv('features.csv')\n",
    "\n",
    "df = pd.read_csv('feature-outliers.csv')\n",
    "\n",
    "# df = pd.read_csv('pca.csv')"
   ]
  },
  {
   "cell_type": "code",
   "execution_count": 8,
   "metadata": {},
   "outputs": [],
   "source": [
    "y = df['results']\n",
    "X = df.drop(columns=['results'])\n",
    "\n",
    "X_train, X_test, y_train, y_test = train_test_split(\n",
    "     X, y, test_size=0.10, random_state=2)"
   ]
  },
  {
   "cell_type": "code",
   "execution_count": 9,
   "metadata": {},
   "outputs": [],
   "source": [
    "rr = Ridge(alpha=.2, solver='lsqr')\n",
    "\n"
   ]
  },
  {
   "cell_type": "code",
   "execution_count": 10,
   "metadata": {},
   "outputs": [],
   "source": [
    "rr.fit(X_train, y_train) \n",
    "pred_train_rr= rr.predict(X_train)\n",
    "pred_test_rr= rr.predict(X_test)"
   ]
  },
  {
   "cell_type": "code",
   "execution_count": 11,
   "metadata": {},
   "outputs": [
    {
     "name": "stdout",
     "output_type": "stream",
     "text": [
      "RMSE : 4.710749890976427\n",
      "R2 : 0.5118059351117525\n",
      "MSE: 22.191164535334416\n",
      "MAE: 3.912942031403031\n",
      "MAPE: 0.5278855575455652\n"
     ]
    }
   ],
   "source": [
    "print('RMSE : '+str(np.sqrt(mean_squared_error(y_test,pred_test_rr)))) \n",
    "print('R2 : '+str(r2_score(y_test, pred_test_rr)))\n",
    "print('MSE: '+str(mean_squared_error(y_test, pred_test_rr)))\n",
    "print('MAE: '+str(mean_absolute_error(y_test, pred_test_rr)))\n",
    "print('MAPE: '+str(mean_absolute_percentage_error(y_test, pred_test_rr)))"
   ]
  },
  {
   "cell_type": "code",
   "execution_count": 8,
   "metadata": {},
   "outputs": [],
   "source": [
    "# alpha=0.0, MAPE: 82433196558.62387\n",
    "# MAPE: 0.5734112214278241\n",
    "# alpha=.1 MAPE: 0.4785974846704672\n",
    "# alpha=.2 MAPE: 0.46291794956840693\n",
    "# solver='lsqr' MAPE: 0.4613972168596109"
   ]
  },
  {
   "cell_type": "code",
   "execution_count": 9,
   "metadata": {},
   "outputs": [],
   "source": [
    "data = {'y_test': y_test, 'y_pred': pred_test_rr}\n",
    "new_df = pd.DataFrame(data)\n",
    "diff = (new_df['y_test'] - new_df['y_pred']).abs()\n",
    "new_df['diff'] = diff\n",
    "new_df = new_df.sort_values(by='diff', ascending=True)\n"
   ]
  },
  {
   "cell_type": "code",
   "execution_count": 10,
   "metadata": {},
   "outputs": [
    {
     "data": {
      "text/html": [
       "<div>\n",
       "<style scoped>\n",
       "    .dataframe tbody tr th:only-of-type {\n",
       "        vertical-align: middle;\n",
       "    }\n",
       "\n",
       "    .dataframe tbody tr th {\n",
       "        vertical-align: top;\n",
       "    }\n",
       "\n",
       "    .dataframe thead th {\n",
       "        text-align: right;\n",
       "    }\n",
       "</style>\n",
       "<table border=\"1\" class=\"dataframe\">\n",
       "  <thead>\n",
       "    <tr style=\"text-align: right;\">\n",
       "      <th></th>\n",
       "      <th>y_test</th>\n",
       "      <th>y_pred</th>\n",
       "      <th>diff</th>\n",
       "    </tr>\n",
       "  </thead>\n",
       "  <tbody>\n",
       "    <tr>\n",
       "      <th>163</th>\n",
       "      <td>13</td>\n",
       "      <td>12.781150</td>\n",
       "      <td>0.218850</td>\n",
       "    </tr>\n",
       "    <tr>\n",
       "      <th>134</th>\n",
       "      <td>21</td>\n",
       "      <td>21.288545</td>\n",
       "      <td>0.288545</td>\n",
       "    </tr>\n",
       "    <tr>\n",
       "      <th>245</th>\n",
       "      <td>7</td>\n",
       "      <td>6.563128</td>\n",
       "      <td>0.436872</td>\n",
       "    </tr>\n",
       "    <tr>\n",
       "      <th>3</th>\n",
       "      <td>6</td>\n",
       "      <td>7.083506</td>\n",
       "      <td>1.083506</td>\n",
       "    </tr>\n",
       "    <tr>\n",
       "      <th>94</th>\n",
       "      <td>12</td>\n",
       "      <td>13.144869</td>\n",
       "      <td>1.144869</td>\n",
       "    </tr>\n",
       "    <tr>\n",
       "      <th>10</th>\n",
       "      <td>6</td>\n",
       "      <td>7.321212</td>\n",
       "      <td>1.321212</td>\n",
       "    </tr>\n",
       "    <tr>\n",
       "      <th>217</th>\n",
       "      <td>8</td>\n",
       "      <td>6.578732</td>\n",
       "      <td>1.421268</td>\n",
       "    </tr>\n",
       "    <tr>\n",
       "      <th>109</th>\n",
       "      <td>9</td>\n",
       "      <td>10.588557</td>\n",
       "      <td>1.588557</td>\n",
       "    </tr>\n",
       "    <tr>\n",
       "      <th>250</th>\n",
       "      <td>13</td>\n",
       "      <td>10.721779</td>\n",
       "      <td>2.278221</td>\n",
       "    </tr>\n",
       "    <tr>\n",
       "      <th>77</th>\n",
       "      <td>17</td>\n",
       "      <td>19.340247</td>\n",
       "      <td>2.340247</td>\n",
       "    </tr>\n",
       "    <tr>\n",
       "      <th>140</th>\n",
       "      <td>14</td>\n",
       "      <td>11.159386</td>\n",
       "      <td>2.840614</td>\n",
       "    </tr>\n",
       "    <tr>\n",
       "      <th>111</th>\n",
       "      <td>18</td>\n",
       "      <td>14.854673</td>\n",
       "      <td>3.145327</td>\n",
       "    </tr>\n",
       "    <tr>\n",
       "      <th>41</th>\n",
       "      <td>15</td>\n",
       "      <td>11.687062</td>\n",
       "      <td>3.312938</td>\n",
       "    </tr>\n",
       "    <tr>\n",
       "      <th>93</th>\n",
       "      <td>8</td>\n",
       "      <td>11.925433</td>\n",
       "      <td>3.925433</td>\n",
       "    </tr>\n",
       "    <tr>\n",
       "      <th>156</th>\n",
       "      <td>27</td>\n",
       "      <td>22.607495</td>\n",
       "      <td>4.392505</td>\n",
       "    </tr>\n",
       "    <tr>\n",
       "      <th>66</th>\n",
       "      <td>12</td>\n",
       "      <td>7.548376</td>\n",
       "      <td>4.451624</td>\n",
       "    </tr>\n",
       "    <tr>\n",
       "      <th>175</th>\n",
       "      <td>24</td>\n",
       "      <td>18.907000</td>\n",
       "      <td>5.093000</td>\n",
       "    </tr>\n",
       "    <tr>\n",
       "      <th>186</th>\n",
       "      <td>3</td>\n",
       "      <td>8.193327</td>\n",
       "      <td>5.193327</td>\n",
       "    </tr>\n",
       "    <tr>\n",
       "      <th>74</th>\n",
       "      <td>24</td>\n",
       "      <td>18.209984</td>\n",
       "      <td>5.790016</td>\n",
       "    </tr>\n",
       "    <tr>\n",
       "      <th>226</th>\n",
       "      <td>2</td>\n",
       "      <td>8.207134</td>\n",
       "      <td>6.207134</td>\n",
       "    </tr>\n",
       "    <tr>\n",
       "      <th>234</th>\n",
       "      <td>16</td>\n",
       "      <td>9.493172</td>\n",
       "      <td>6.506828</td>\n",
       "    </tr>\n",
       "    <tr>\n",
       "      <th>35</th>\n",
       "      <td>15</td>\n",
       "      <td>8.294997</td>\n",
       "      <td>6.705003</td>\n",
       "    </tr>\n",
       "    <tr>\n",
       "      <th>13</th>\n",
       "      <td>12</td>\n",
       "      <td>18.881295</td>\n",
       "      <td>6.881295</td>\n",
       "    </tr>\n",
       "    <tr>\n",
       "      <th>30</th>\n",
       "      <td>22</td>\n",
       "      <td>14.698953</td>\n",
       "      <td>7.301047</td>\n",
       "    </tr>\n",
       "    <tr>\n",
       "      <th>205</th>\n",
       "      <td>3</td>\n",
       "      <td>11.160548</td>\n",
       "      <td>8.160548</td>\n",
       "    </tr>\n",
       "    <tr>\n",
       "      <th>115</th>\n",
       "      <td>9</td>\n",
       "      <td>18.707706</td>\n",
       "      <td>9.707706</td>\n",
       "    </tr>\n",
       "  </tbody>\n",
       "</table>\n",
       "</div>"
      ],
      "text/plain": [
       "     y_test     y_pred      diff\n",
       "163      13  12.781150  0.218850\n",
       "134      21  21.288545  0.288545\n",
       "245       7   6.563128  0.436872\n",
       "3         6   7.083506  1.083506\n",
       "94       12  13.144869  1.144869\n",
       "10        6   7.321212  1.321212\n",
       "217       8   6.578732  1.421268\n",
       "109       9  10.588557  1.588557\n",
       "250      13  10.721779  2.278221\n",
       "77       17  19.340247  2.340247\n",
       "140      14  11.159386  2.840614\n",
       "111      18  14.854673  3.145327\n",
       "41       15  11.687062  3.312938\n",
       "93        8  11.925433  3.925433\n",
       "156      27  22.607495  4.392505\n",
       "66       12   7.548376  4.451624\n",
       "175      24  18.907000  5.093000\n",
       "186       3   8.193327  5.193327\n",
       "74       24  18.209984  5.790016\n",
       "226       2   8.207134  6.207134\n",
       "234      16   9.493172  6.506828\n",
       "35       15   8.294997  6.705003\n",
       "13       12  18.881295  6.881295\n",
       "30       22  14.698953  7.301047\n",
       "205       3  11.160548  8.160548\n",
       "115       9  18.707706  9.707706"
      ]
     },
     "execution_count": 10,
     "metadata": {},
     "output_type": "execute_result"
    }
   ],
   "source": [
    "new_df"
   ]
  },
  {
   "cell_type": "code",
   "execution_count": 10,
   "metadata": {},
   "outputs": [
    {
     "data": {
      "text/plain": [
       "5.58698443436428"
      ]
     },
     "execution_count": 10,
     "metadata": {},
     "output_type": "execute_result"
    }
   ],
   "source": [
    "new_df['diff'].mean()"
   ]
  },
  {
   "cell_type": "code",
   "execution_count": 11,
   "metadata": {},
   "outputs": [
    {
     "data": {
      "text/plain": [
       "5.0780417806714855"
      ]
     },
     "execution_count": 11,
     "metadata": {},
     "output_type": "execute_result"
    }
   ],
   "source": [
    "new_df['diff'].median()"
   ]
  },
  {
   "cell_type": "code",
   "execution_count": null,
   "metadata": {},
   "outputs": [],
   "source": []
  },
  {
   "cell_type": "code",
   "execution_count": null,
   "metadata": {},
   "outputs": [],
   "source": []
  }
 ],
 "metadata": {
  "kernelspec": {
   "display_name": "Python 3 (ipykernel)",
   "language": "python",
   "name": "python3"
  },
  "language_info": {
   "codemirror_mode": {
    "name": "ipython",
    "version": 3
   },
   "file_extension": ".py",
   "mimetype": "text/x-python",
   "name": "python",
   "nbconvert_exporter": "python",
   "pygments_lexer": "ipython3",
   "version": "3.9.12"
  }
 },
 "nbformat": 4,
 "nbformat_minor": 2
}
