{
 "cells": [
  {
   "cell_type": "code",
   "execution_count": 1,
   "metadata": {},
   "outputs": [],
   "source": [
    "import pandas as pd\n",
    "import numpy as np\n",
    "from sklearn.model_selection import train_test_split\n",
    "from sklearn.metrics import mean_squared_error\n",
    "from sklearn.metrics import r2_score\n",
    "from sklearn.metrics import mean_absolute_error\n",
    "from sklearn.metrics import mean_absolute_percentage_error\n",
    "\n",
    "from sklearn.datasets import load_iris\n",
    "from sklearn.linear_model import LogisticRegressionCV "
   ]
  },
  {
   "cell_type": "code",
   "execution_count": 2,
   "metadata": {},
   "outputs": [],
   "source": [
    "# df = pd.read_csv('hotData.csv')\n",
    "# df = pd.read_csv('hotoutliers.csv')\n",
    "\n",
    "df = pd.read_csv('feature-outliers.csv')"
   ]
  },
  {
   "cell_type": "code",
   "execution_count": 3,
   "metadata": {},
   "outputs": [],
   "source": [
    "y = df['results']\n",
    "X = df.drop(columns=['results'])\n",
    "\n",
    "X_train, X_test, y_train, y_test = train_test_split(\n",
    "     X, y, test_size=0.20, random_state=1)"
   ]
  },
  {
   "cell_type": "code",
   "execution_count": 4,
   "metadata": {},
   "outputs": [
    {
     "data": {
      "text/html": [
       "<div>\n",
       "<style scoped>\n",
       "    .dataframe tbody tr th:only-of-type {\n",
       "        vertical-align: middle;\n",
       "    }\n",
       "\n",
       "    .dataframe tbody tr th {\n",
       "        vertical-align: top;\n",
       "    }\n",
       "\n",
       "    .dataframe thead th {\n",
       "        text-align: right;\n",
       "    }\n",
       "</style>\n",
       "<table border=\"1\" class=\"dataframe\">\n",
       "  <thead>\n",
       "    <tr style=\"text-align: right;\">\n",
       "      <th></th>\n",
       "      <th>goals</th>\n",
       "      <th>xg</th>\n",
       "      <th>crosses</th>\n",
       "      <th>boxtouches</th>\n",
       "      <th>passes</th>\n",
       "      <th>progpasses</th>\n",
       "      <th>takeons</th>\n",
       "      <th>progruns</th>\n",
       "      <th>tackles</th>\n",
       "      <th>interceptions</th>\n",
       "      <th>...</th>\n",
       "      <th>69</th>\n",
       "      <th>70</th>\n",
       "      <th>71</th>\n",
       "      <th>72</th>\n",
       "      <th>73</th>\n",
       "      <th>int</th>\n",
       "      <th>bl_fl</th>\n",
       "      <th>gl_fl</th>\n",
       "      <th>pr_in</th>\n",
       "      <th>tkl_tk</th>\n",
       "    </tr>\n",
       "  </thead>\n",
       "  <tbody>\n",
       "    <tr>\n",
       "      <th>33</th>\n",
       "      <td>0.013846</td>\n",
       "      <td>-0.163846</td>\n",
       "      <td>-0.214615</td>\n",
       "      <td>-0.058462</td>\n",
       "      <td>-0.286923</td>\n",
       "      <td>-0.252308</td>\n",
       "      <td>-0.146923</td>\n",
       "      <td>-0.351538</td>\n",
       "      <td>-0.165385</td>\n",
       "      <td>-0.473077</td>\n",
       "      <td>...</td>\n",
       "      <td>0.0</td>\n",
       "      <td>0.0</td>\n",
       "      <td>0.0</td>\n",
       "      <td>0.0</td>\n",
       "      <td>0.0</td>\n",
       "      <td>-0.008661</td>\n",
       "      <td>0.082807</td>\n",
       "      <td>-0.003802</td>\n",
       "      <td>0.166305</td>\n",
       "      <td>0.024299</td>\n",
       "    </tr>\n",
       "    <tr>\n",
       "      <th>138</th>\n",
       "      <td>0.076923</td>\n",
       "      <td>0.341538</td>\n",
       "      <td>-0.066923</td>\n",
       "      <td>0.029231</td>\n",
       "      <td>-0.596923</td>\n",
       "      <td>-0.463846</td>\n",
       "      <td>-0.250000</td>\n",
       "      <td>-0.433846</td>\n",
       "      <td>-0.432308</td>\n",
       "      <td>-0.636923</td>\n",
       "      <td>...</td>\n",
       "      <td>0.0</td>\n",
       "      <td>0.0</td>\n",
       "      <td>0.0</td>\n",
       "      <td>0.0</td>\n",
       "      <td>0.0</td>\n",
       "      <td>0.024763</td>\n",
       "      <td>-0.005448</td>\n",
       "      <td>-0.016509</td>\n",
       "      <td>0.276327</td>\n",
       "      <td>0.108077</td>\n",
       "    </tr>\n",
       "  </tbody>\n",
       "</table>\n",
       "<p>2 rows × 95 columns</p>\n",
       "</div>"
      ],
      "text/plain": [
       "        goals        xg   crosses  boxtouches    passes  progpasses   takeons  \\\n",
       "33   0.013846 -0.163846 -0.214615   -0.058462 -0.286923   -0.252308 -0.146923   \n",
       "138  0.076923  0.341538 -0.066923    0.029231 -0.596923   -0.463846 -0.250000   \n",
       "\n",
       "     progruns   tackles  interceptions  ...   69   70   71   72   73  \\\n",
       "33  -0.351538 -0.165385      -0.473077  ...  0.0  0.0  0.0  0.0  0.0   \n",
       "138 -0.433846 -0.432308      -0.636923  ...  0.0  0.0  0.0  0.0  0.0   \n",
       "\n",
       "          int     bl_fl     gl_fl     pr_in    tkl_tk  \n",
       "33  -0.008661  0.082807 -0.003802  0.166305  0.024299  \n",
       "138  0.024763 -0.005448 -0.016509  0.276327  0.108077  \n",
       "\n",
       "[2 rows x 95 columns]"
      ]
     },
     "execution_count": 4,
     "metadata": {},
     "output_type": "execute_result"
    }
   ],
   "source": [
    "X_train[:2]\n"
   ]
  },
  {
   "cell_type": "code",
   "execution_count": 5,
   "metadata": {},
   "outputs": [
    {
     "name": "stderr",
     "output_type": "stream",
     "text": [
      "/Users/ryantalbot/opt/anaconda3/envs/tf2/lib/python3.9/site-packages/sklearn/model_selection/_split.py:684: UserWarning: The least populated class in y has only 2 members, which is less than n_splits=5.\n",
      "  warnings.warn(\n"
     ]
    }
   ],
   "source": [
    "clf = LogisticRegressionCV(cv=5, random_state=0).fit(X_train, y_train)\n"
   ]
  },
  {
   "cell_type": "code",
   "execution_count": 6,
   "metadata": {},
   "outputs": [],
   "source": [
    "y_pred = clf.predict(X_test)"
   ]
  },
  {
   "cell_type": "code",
   "execution_count": 7,
   "metadata": {},
   "outputs": [
    {
     "name": "stdout",
     "output_type": "stream",
     "text": [
      "r2 score: -0.6140247495580435\n",
      "RMSE : 10.263827446238261\n",
      "MSE: 105.34615384615384\n",
      "MAE: 8.538461538461538\n",
      "MAPE: 0.9514291352862517\n"
     ]
    }
   ],
   "source": [
    "print('r2 score: '+str(r2_score(y_test, y_pred)))\n",
    "print('RMSE : '+str(np.sqrt(mean_squared_error(y_test, y_pred))))\n",
    "print('MSE: '+str(mean_squared_error(y_test, y_pred)))\n",
    "print('MAE: '+str(mean_absolute_error(y_test, y_pred)))\n",
    "print('MAPE: '+str(mean_absolute_percentage_error(y_test, y_pred)))"
   ]
  },
  {
   "cell_type": "code",
   "execution_count": null,
   "metadata": {},
   "outputs": [],
   "source": []
  },
  {
   "cell_type": "code",
   "execution_count": null,
   "metadata": {},
   "outputs": [],
   "source": []
  },
  {
   "cell_type": "code",
   "execution_count": null,
   "metadata": {},
   "outputs": [],
   "source": []
  }
 ],
 "metadata": {
  "kernelspec": {
   "display_name": "Python 3 (ipykernel)",
   "language": "python",
   "name": "python3"
  },
  "language_info": {
   "codemirror_mode": {
    "name": "ipython",
    "version": 3
   },
   "file_extension": ".py",
   "mimetype": "text/x-python",
   "name": "python",
   "nbconvert_exporter": "python",
   "pygments_lexer": "ipython3",
   "version": "3.9.12"
  }
 },
 "nbformat": 4,
 "nbformat_minor": 2
}
