{
 "cells": [
  {
   "cell_type": "markdown",
   "metadata": {},
   "source": [
    "# results vary"
   ]
  },
  {
   "cell_type": "markdown",
   "metadata": {},
   "source": [
    "### HistGradientBoostingRegressor is better for datasets smaller than 10,000"
   ]
  },
  {
   "cell_type": "code",
   "execution_count": 1,
   "metadata": {},
   "outputs": [],
   "source": [
    "import pandas as pd\n",
    "import numpy as np\n",
    "from sklearn.model_selection import train_test_split\n",
    "from sklearn.metrics import mean_squared_error\n",
    "from sklearn.metrics import r2_score\n",
    "from sklearn.metrics import mean_absolute_error\n",
    "from sklearn.metrics import mean_absolute_percentage_error\n",
    "\n",
    "from sklearn import ensemble\n",
    "from sklearn.inspection import permutation_importance"
   ]
  },
  {
   "cell_type": "code",
   "execution_count": 2,
   "metadata": {},
   "outputs": [],
   "source": [
    "df = pd.read_csv('hotData.csv')\n"
   ]
  },
  {
   "cell_type": "code",
   "execution_count": 3,
   "metadata": {
    "scrolled": true
   },
   "outputs": [
    {
     "data": {
      "text/html": [
       "<div>\n",
       "<style scoped>\n",
       "    .dataframe tbody tr th:only-of-type {\n",
       "        vertical-align: middle;\n",
       "    }\n",
       "\n",
       "    .dataframe tbody tr th {\n",
       "        vertical-align: top;\n",
       "    }\n",
       "\n",
       "    .dataframe thead th {\n",
       "        text-align: right;\n",
       "    }\n",
       "</style>\n",
       "<table border=\"1\" class=\"dataframe\">\n",
       "  <thead>\n",
       "    <tr style=\"text-align: right;\">\n",
       "      <th></th>\n",
       "      <th>goals</th>\n",
       "      <th>xg</th>\n",
       "      <th>crosses</th>\n",
       "      <th>boxtouches</th>\n",
       "      <th>passes</th>\n",
       "      <th>progpasses</th>\n",
       "      <th>takeons</th>\n",
       "      <th>progruns</th>\n",
       "      <th>tackles</th>\n",
       "      <th>interceptions</th>\n",
       "      <th>...</th>\n",
       "      <th>64</th>\n",
       "      <th>65</th>\n",
       "      <th>66</th>\n",
       "      <th>67</th>\n",
       "      <th>68</th>\n",
       "      <th>69</th>\n",
       "      <th>70</th>\n",
       "      <th>71</th>\n",
       "      <th>72</th>\n",
       "      <th>73</th>\n",
       "    </tr>\n",
       "  </thead>\n",
       "  <tbody>\n",
       "    <tr>\n",
       "      <th>0</th>\n",
       "      <td>0.055385</td>\n",
       "      <td>-0.119231</td>\n",
       "      <td>-0.020769</td>\n",
       "      <td>0.236154</td>\n",
       "      <td>-0.781538</td>\n",
       "      <td>-0.649231</td>\n",
       "      <td>-0.407692</td>\n",
       "      <td>-0.568462</td>\n",
       "      <td>-0.578462</td>\n",
       "      <td>-0.444615</td>\n",
       "      <td>...</td>\n",
       "      <td>0.0</td>\n",
       "      <td>0.0</td>\n",
       "      <td>0.0</td>\n",
       "      <td>0.0</td>\n",
       "      <td>0.0</td>\n",
       "      <td>0.0</td>\n",
       "      <td>0.0</td>\n",
       "      <td>0.0</td>\n",
       "      <td>0.0</td>\n",
       "      <td>0.0</td>\n",
       "    </tr>\n",
       "    <tr>\n",
       "      <th>1</th>\n",
       "      <td>-0.243077</td>\n",
       "      <td>0.063846</td>\n",
       "      <td>-0.090769</td>\n",
       "      <td>-0.287692</td>\n",
       "      <td>-0.704615</td>\n",
       "      <td>-0.441538</td>\n",
       "      <td>-0.098462</td>\n",
       "      <td>-0.383077</td>\n",
       "      <td>-0.722308</td>\n",
       "      <td>-0.606154</td>\n",
       "      <td>...</td>\n",
       "      <td>0.0</td>\n",
       "      <td>0.0</td>\n",
       "      <td>0.0</td>\n",
       "      <td>0.0</td>\n",
       "      <td>0.0</td>\n",
       "      <td>0.0</td>\n",
       "      <td>0.0</td>\n",
       "      <td>0.0</td>\n",
       "      <td>0.0</td>\n",
       "      <td>0.0</td>\n",
       "    </tr>\n",
       "    <tr>\n",
       "      <th>2</th>\n",
       "      <td>-0.420000</td>\n",
       "      <td>-0.230000</td>\n",
       "      <td>-0.150769</td>\n",
       "      <td>-0.435385</td>\n",
       "      <td>-0.687692</td>\n",
       "      <td>-0.408462</td>\n",
       "      <td>-0.256923</td>\n",
       "      <td>-0.586154</td>\n",
       "      <td>-0.629231</td>\n",
       "      <td>-0.560000</td>\n",
       "      <td>...</td>\n",
       "      <td>0.0</td>\n",
       "      <td>0.0</td>\n",
       "      <td>0.0</td>\n",
       "      <td>0.0</td>\n",
       "      <td>0.0</td>\n",
       "      <td>0.0</td>\n",
       "      <td>0.0</td>\n",
       "      <td>0.0</td>\n",
       "      <td>0.0</td>\n",
       "      <td>0.0</td>\n",
       "    </tr>\n",
       "    <tr>\n",
       "      <th>3</th>\n",
       "      <td>-0.420000</td>\n",
       "      <td>-0.230000</td>\n",
       "      <td>-0.150769</td>\n",
       "      <td>-0.435385</td>\n",
       "      <td>-0.687692</td>\n",
       "      <td>-0.408462</td>\n",
       "      <td>-0.256923</td>\n",
       "      <td>-0.586154</td>\n",
       "      <td>-0.629231</td>\n",
       "      <td>-0.560000</td>\n",
       "      <td>...</td>\n",
       "      <td>0.0</td>\n",
       "      <td>0.0</td>\n",
       "      <td>0.0</td>\n",
       "      <td>0.0</td>\n",
       "      <td>0.0</td>\n",
       "      <td>0.0</td>\n",
       "      <td>0.0</td>\n",
       "      <td>0.0</td>\n",
       "      <td>0.0</td>\n",
       "      <td>0.0</td>\n",
       "    </tr>\n",
       "    <tr>\n",
       "      <th>4</th>\n",
       "      <td>-0.070769</td>\n",
       "      <td>-0.368462</td>\n",
       "      <td>-0.493846</td>\n",
       "      <td>-0.247692</td>\n",
       "      <td>-0.681538</td>\n",
       "      <td>-0.536923</td>\n",
       "      <td>-0.210000</td>\n",
       "      <td>-0.427692</td>\n",
       "      <td>-0.539231</td>\n",
       "      <td>-0.622308</td>\n",
       "      <td>...</td>\n",
       "      <td>0.0</td>\n",
       "      <td>0.0</td>\n",
       "      <td>0.0</td>\n",
       "      <td>0.0</td>\n",
       "      <td>0.0</td>\n",
       "      <td>0.0</td>\n",
       "      <td>0.0</td>\n",
       "      <td>0.0</td>\n",
       "      <td>0.0</td>\n",
       "      <td>0.0</td>\n",
       "    </tr>\n",
       "  </tbody>\n",
       "</table>\n",
       "<p>5 rows × 91 columns</p>\n",
       "</div>"
      ],
      "text/plain": [
       "      goals        xg   crosses  boxtouches    passes  progpasses   takeons  \\\n",
       "0  0.055385 -0.119231 -0.020769    0.236154 -0.781538   -0.649231 -0.407692   \n",
       "1 -0.243077  0.063846 -0.090769   -0.287692 -0.704615   -0.441538 -0.098462   \n",
       "2 -0.420000 -0.230000 -0.150769   -0.435385 -0.687692   -0.408462 -0.256923   \n",
       "3 -0.420000 -0.230000 -0.150769   -0.435385 -0.687692   -0.408462 -0.256923   \n",
       "4 -0.070769 -0.368462 -0.493846   -0.247692 -0.681538   -0.536923 -0.210000   \n",
       "\n",
       "   progruns   tackles  interceptions  ...   64   65   66   67   68   69   70  \\\n",
       "0 -0.568462 -0.578462      -0.444615  ...  0.0  0.0  0.0  0.0  0.0  0.0  0.0   \n",
       "1 -0.383077 -0.722308      -0.606154  ...  0.0  0.0  0.0  0.0  0.0  0.0  0.0   \n",
       "2 -0.586154 -0.629231      -0.560000  ...  0.0  0.0  0.0  0.0  0.0  0.0  0.0   \n",
       "3 -0.586154 -0.629231      -0.560000  ...  0.0  0.0  0.0  0.0  0.0  0.0  0.0   \n",
       "4 -0.427692 -0.539231      -0.622308  ...  0.0  0.0  0.0  0.0  0.0  0.0  0.0   \n",
       "\n",
       "    71   72   73  \n",
       "0  0.0  0.0  0.0  \n",
       "1  0.0  0.0  0.0  \n",
       "2  0.0  0.0  0.0  \n",
       "3  0.0  0.0  0.0  \n",
       "4  0.0  0.0  0.0  \n",
       "\n",
       "[5 rows x 91 columns]"
      ]
     },
     "execution_count": 3,
     "metadata": {},
     "output_type": "execute_result"
    }
   ],
   "source": [
    "df.head()"
   ]
  },
  {
   "cell_type": "code",
   "execution_count": 4,
   "metadata": {},
   "outputs": [],
   "source": [
    "# df.columns"
   ]
  },
  {
   "cell_type": "code",
   "execution_count": 22,
   "metadata": {},
   "outputs": [],
   "source": [
    "y = df['results']\n",
    "X = df.drop(columns=['results'])\n",
    "\n",
    "X_train, X_test, y_train, y_test = train_test_split(\n",
    "     X, y, test_size=0.10, random_state=2)"
   ]
  },
  {
   "cell_type": "code",
   "execution_count": 23,
   "metadata": {},
   "outputs": [],
   "source": [
    "params = {}"
   ]
  },
  {
   "cell_type": "code",
   "execution_count": 24,
   "metadata": {},
   "outputs": [],
   "source": [
    "#     \"n_estimators\": 3990,\n",
    "#     \"max_depth\": 400,\n",
    "#     \"min_samples_split\":4,\n",
    "#     \"learning_rate\": 0.0159,\n",
    "#     \"loss\": \"squared_error\",\n",
    "#     \"max_features\": 16,\n",
    "#     \"min_weight_fraction_leaf\": 0.11,\n",
    "# #     \"subsample\": 0.8\n",
    "#     \"min_impurity_decrease\": 5,"
   ]
  },
  {
   "cell_type": "code",
   "execution_count": 25,
   "metadata": {},
   "outputs": [
    {
     "name": "stdout",
     "output_type": "stream",
     "text": [
      "GRADIENT BOOSTING REGRESSION\n",
      "RMSE: 7.1156572982381014\n",
      "R Squared: 0.3643149500044778\n",
      "MSE TEST: 50.63257878596915\n",
      "MAE TEST: 5.531803221987494\n",
      "MAPE: 0.7619773812662983\n"
     ]
    }
   ],
   "source": [
    "reg = ensemble.GradientBoostingRegressor(**params)\n",
    "reg.fit(X_train, y_train)\n",
    "\n",
    "print('GRADIENT BOOSTING REGRESSION')\n",
    "\n",
    "test_pred = reg.predict(X_test)\n",
    "\n",
    "print('RMSE: '+str(np.sqrt(mean_squared_error(y_test, test_pred))))\n",
    "print('R Squared: '+str(r2_score(y_test, test_pred)))\n",
    "print('MSE TEST: '+str(mean_squared_error(y_test, test_pred)))\n",
    "print('MAE TEST: '+str(mean_absolute_error(y_test, test_pred)))\n",
    "print('MAPE: '+str(mean_absolute_percentage_error(y_test, test_pred)))\n"
   ]
  },
  {
   "cell_type": "code",
   "execution_count": 9,
   "metadata": {},
   "outputs": [],
   "source": [
    "MAPE: 0.7335810182300729\n"
   ]
  },
  {
   "cell_type": "code",
   "execution_count": 10,
   "metadata": {},
   "outputs": [],
   "source": [
    "# mape = 1.0765\n",
    "# mape = 1.0647916900630887 max_feat = 16 \n",
    "# mape 1.059828673697475 / estimators 5000\n",
    "# mape 1.0597337473020356 / estimators 4000\n",
    "# mape 1.0597326684323638 / estimators 4990\n",
    "# mape 1.0432022275261308 / min fraction leaf .12\n",
    "#mape 1.031433617032885 / '' ''     ''   '' .11\n",
    "# ** Results vary -mape .9879763523310932 / \"subsample\": 0.8\n",
    "# mpae  1.0241404892305128 / min_impurity_decrease 10\n",
    "# mape 1.0097789777918718 / min decrease 5"
   ]
  },
  {
   "cell_type": "code",
   "execution_count": 11,
   "metadata": {},
   "outputs": [],
   "source": [
    "data = {'y_test': y_test, 'y_pred': test_pred}"
   ]
  },
  {
   "cell_type": "code",
   "execution_count": 12,
   "metadata": {},
   "outputs": [],
   "source": [
    "new_df = pd.DataFrame(data)"
   ]
  },
  {
   "cell_type": "code",
   "execution_count": 13,
   "metadata": {},
   "outputs": [],
   "source": [
    "diff = (new_df['y_test'] - new_df['y_pred']).abs()"
   ]
  },
  {
   "cell_type": "code",
   "execution_count": 14,
   "metadata": {},
   "outputs": [],
   "source": [
    "new_df['diff'] = diff\n",
    "new_df = new_df.sort_values(by='diff', ascending=True)\n",
    "new_df['y_pred'] = round(new_df['y_pred'], 1)\n",
    "new_df['rounded'] = round(new_df['y_pred'])\n",
    "new_df['new_diff'] = (new_df['y_test'] - new_df['rounded']).abs()"
   ]
  },
  {
   "cell_type": "code",
   "execution_count": 15,
   "metadata": {
    "scrolled": false
   },
   "outputs": [
    {
     "data": {
      "text/html": [
       "<div>\n",
       "<style scoped>\n",
       "    .dataframe tbody tr th:only-of-type {\n",
       "        vertical-align: middle;\n",
       "    }\n",
       "\n",
       "    .dataframe tbody tr th {\n",
       "        vertical-align: top;\n",
       "    }\n",
       "\n",
       "    .dataframe thead th {\n",
       "        text-align: right;\n",
       "    }\n",
       "</style>\n",
       "<table border=\"1\" class=\"dataframe\">\n",
       "  <thead>\n",
       "    <tr style=\"text-align: right;\">\n",
       "      <th></th>\n",
       "      <th>y_test</th>\n",
       "      <th>y_pred</th>\n",
       "      <th>diff</th>\n",
       "      <th>rounded</th>\n",
       "      <th>new_diff</th>\n",
       "    </tr>\n",
       "  </thead>\n",
       "  <tbody>\n",
       "    <tr>\n",
       "      <th>106</th>\n",
       "      <td>9</td>\n",
       "      <td>9.4</td>\n",
       "      <td>0.377624</td>\n",
       "      <td>9.0</td>\n",
       "      <td>0.0</td>\n",
       "    </tr>\n",
       "    <tr>\n",
       "      <th>3</th>\n",
       "      <td>32</td>\n",
       "      <td>31.6</td>\n",
       "      <td>0.397020</td>\n",
       "      <td>32.0</td>\n",
       "      <td>0.0</td>\n",
       "    </tr>\n",
       "    <tr>\n",
       "      <th>144</th>\n",
       "      <td>4</td>\n",
       "      <td>5.0</td>\n",
       "      <td>0.977558</td>\n",
       "      <td>5.0</td>\n",
       "      <td>1.0</td>\n",
       "    </tr>\n",
       "    <tr>\n",
       "      <th>151</th>\n",
       "      <td>22</td>\n",
       "      <td>20.8</td>\n",
       "      <td>1.244089</td>\n",
       "      <td>21.0</td>\n",
       "      <td>1.0</td>\n",
       "    </tr>\n",
       "    <tr>\n",
       "      <th>159</th>\n",
       "      <td>5</td>\n",
       "      <td>6.3</td>\n",
       "      <td>1.267074</td>\n",
       "      <td>6.0</td>\n",
       "      <td>1.0</td>\n",
       "    </tr>\n",
       "    <tr>\n",
       "      <th>11</th>\n",
       "      <td>12</td>\n",
       "      <td>13.6</td>\n",
       "      <td>1.649225</td>\n",
       "      <td>14.0</td>\n",
       "      <td>2.0</td>\n",
       "    </tr>\n",
       "    <tr>\n",
       "      <th>130</th>\n",
       "      <td>10</td>\n",
       "      <td>11.7</td>\n",
       "      <td>1.685383</td>\n",
       "      <td>12.0</td>\n",
       "      <td>2.0</td>\n",
       "    </tr>\n",
       "    <tr>\n",
       "      <th>29</th>\n",
       "      <td>23</td>\n",
       "      <td>25.3</td>\n",
       "      <td>2.289236</td>\n",
       "      <td>25.0</td>\n",
       "      <td>2.0</td>\n",
       "    </tr>\n",
       "    <tr>\n",
       "      <th>7</th>\n",
       "      <td>19</td>\n",
       "      <td>16.5</td>\n",
       "      <td>2.515461</td>\n",
       "      <td>16.0</td>\n",
       "      <td>3.0</td>\n",
       "    </tr>\n",
       "    <tr>\n",
       "      <th>254</th>\n",
       "      <td>17</td>\n",
       "      <td>20.3</td>\n",
       "      <td>3.283197</td>\n",
       "      <td>20.0</td>\n",
       "      <td>3.0</td>\n",
       "    </tr>\n",
       "    <tr>\n",
       "      <th>13</th>\n",
       "      <td>7</td>\n",
       "      <td>10.6</td>\n",
       "      <td>3.597525</td>\n",
       "      <td>11.0</td>\n",
       "      <td>4.0</td>\n",
       "    </tr>\n",
       "    <tr>\n",
       "      <th>141</th>\n",
       "      <td>14</td>\n",
       "      <td>17.7</td>\n",
       "      <td>3.665363</td>\n",
       "      <td>18.0</td>\n",
       "      <td>4.0</td>\n",
       "    </tr>\n",
       "    <tr>\n",
       "      <th>101</th>\n",
       "      <td>1</td>\n",
       "      <td>5.1</td>\n",
       "      <td>4.078025</td>\n",
       "      <td>5.0</td>\n",
       "      <td>4.0</td>\n",
       "    </tr>\n",
       "    <tr>\n",
       "      <th>253</th>\n",
       "      <td>28</td>\n",
       "      <td>23.9</td>\n",
       "      <td>4.099168</td>\n",
       "      <td>24.0</td>\n",
       "      <td>4.0</td>\n",
       "    </tr>\n",
       "    <tr>\n",
       "      <th>259</th>\n",
       "      <td>1</td>\n",
       "      <td>5.1</td>\n",
       "      <td>4.148329</td>\n",
       "      <td>5.0</td>\n",
       "      <td>4.0</td>\n",
       "    </tr>\n",
       "    <tr>\n",
       "      <th>89</th>\n",
       "      <td>22</td>\n",
       "      <td>17.6</td>\n",
       "      <td>4.440213</td>\n",
       "      <td>18.0</td>\n",
       "      <td>4.0</td>\n",
       "    </tr>\n",
       "    <tr>\n",
       "      <th>267</th>\n",
       "      <td>26</td>\n",
       "      <td>21.1</td>\n",
       "      <td>4.905298</td>\n",
       "      <td>21.0</td>\n",
       "      <td>5.0</td>\n",
       "    </tr>\n",
       "    <tr>\n",
       "      <th>202</th>\n",
       "      <td>6</td>\n",
       "      <td>11.0</td>\n",
       "      <td>5.045833</td>\n",
       "      <td>11.0</td>\n",
       "      <td>5.0</td>\n",
       "    </tr>\n",
       "    <tr>\n",
       "      <th>234</th>\n",
       "      <td>7</td>\n",
       "      <td>12.2</td>\n",
       "      <td>5.205606</td>\n",
       "      <td>12.0</td>\n",
       "      <td>5.0</td>\n",
       "    </tr>\n",
       "    <tr>\n",
       "      <th>232</th>\n",
       "      <td>15</td>\n",
       "      <td>9.7</td>\n",
       "      <td>5.342795</td>\n",
       "      <td>10.0</td>\n",
       "      <td>5.0</td>\n",
       "    </tr>\n",
       "    <tr>\n",
       "      <th>66</th>\n",
       "      <td>17</td>\n",
       "      <td>22.9</td>\n",
       "      <td>5.850482</td>\n",
       "      <td>23.0</td>\n",
       "      <td>6.0</td>\n",
       "    </tr>\n",
       "    <tr>\n",
       "      <th>164</th>\n",
       "      <td>11</td>\n",
       "      <td>4.3</td>\n",
       "      <td>6.718634</td>\n",
       "      <td>4.0</td>\n",
       "      <td>7.0</td>\n",
       "    </tr>\n",
       "    <tr>\n",
       "      <th>77</th>\n",
       "      <td>18</td>\n",
       "      <td>10.9</td>\n",
       "      <td>7.095735</td>\n",
       "      <td>11.0</td>\n",
       "      <td>7.0</td>\n",
       "    </tr>\n",
       "    <tr>\n",
       "      <th>230</th>\n",
       "      <td>29</td>\n",
       "      <td>20.5</td>\n",
       "      <td>8.470522</td>\n",
       "      <td>20.0</td>\n",
       "      <td>9.0</td>\n",
       "    </tr>\n",
       "    <tr>\n",
       "      <th>120</th>\n",
       "      <td>17</td>\n",
       "      <td>8.0</td>\n",
       "      <td>8.987354</td>\n",
       "      <td>8.0</td>\n",
       "      <td>9.0</td>\n",
       "    </tr>\n",
       "    <tr>\n",
       "      <th>244</th>\n",
       "      <td>6</td>\n",
       "      <td>17.5</td>\n",
       "      <td>11.510440</td>\n",
       "      <td>18.0</td>\n",
       "      <td>12.0</td>\n",
       "    </tr>\n",
       "    <tr>\n",
       "      <th>35</th>\n",
       "      <td>18</td>\n",
       "      <td>4.8</td>\n",
       "      <td>13.154905</td>\n",
       "      <td>5.0</td>\n",
       "      <td>13.0</td>\n",
       "    </tr>\n",
       "    <tr>\n",
       "      <th>214</th>\n",
       "      <td>31</td>\n",
       "      <td>13.5</td>\n",
       "      <td>17.487320</td>\n",
       "      <td>14.0</td>\n",
       "      <td>17.0</td>\n",
       "    </tr>\n",
       "    <tr>\n",
       "      <th>175</th>\n",
       "      <td>6</td>\n",
       "      <td>24.4</td>\n",
       "      <td>18.426371</td>\n",
       "      <td>24.0</td>\n",
       "      <td>18.0</td>\n",
       "    </tr>\n",
       "  </tbody>\n",
       "</table>\n",
       "</div>"
      ],
      "text/plain": [
       "     y_test  y_pred       diff  rounded  new_diff\n",
       "106       9     9.4   0.377624      9.0       0.0\n",
       "3        32    31.6   0.397020     32.0       0.0\n",
       "144       4     5.0   0.977558      5.0       1.0\n",
       "151      22    20.8   1.244089     21.0       1.0\n",
       "159       5     6.3   1.267074      6.0       1.0\n",
       "11       12    13.6   1.649225     14.0       2.0\n",
       "130      10    11.7   1.685383     12.0       2.0\n",
       "29       23    25.3   2.289236     25.0       2.0\n",
       "7        19    16.5   2.515461     16.0       3.0\n",
       "254      17    20.3   3.283197     20.0       3.0\n",
       "13        7    10.6   3.597525     11.0       4.0\n",
       "141      14    17.7   3.665363     18.0       4.0\n",
       "101       1     5.1   4.078025      5.0       4.0\n",
       "253      28    23.9   4.099168     24.0       4.0\n",
       "259       1     5.1   4.148329      5.0       4.0\n",
       "89       22    17.6   4.440213     18.0       4.0\n",
       "267      26    21.1   4.905298     21.0       5.0\n",
       "202       6    11.0   5.045833     11.0       5.0\n",
       "234       7    12.2   5.205606     12.0       5.0\n",
       "232      15     9.7   5.342795     10.0       5.0\n",
       "66       17    22.9   5.850482     23.0       6.0\n",
       "164      11     4.3   6.718634      4.0       7.0\n",
       "77       18    10.9   7.095735     11.0       7.0\n",
       "230      29    20.5   8.470522     20.0       9.0\n",
       "120      17     8.0   8.987354      8.0       9.0\n",
       "244       6    17.5  11.510440     18.0      12.0\n",
       "35       18     4.8  13.154905      5.0      13.0\n",
       "214      31    13.5  17.487320     14.0      17.0\n",
       "175       6    24.4  18.426371     24.0      18.0"
      ]
     },
     "execution_count": 15,
     "metadata": {},
     "output_type": "execute_result"
    }
   ],
   "source": [
    "new_df"
   ]
  },
  {
   "cell_type": "code",
   "execution_count": 16,
   "metadata": {},
   "outputs": [
    {
     "data": {
      "text/plain": [
       "5.445372001858167"
      ]
     },
     "execution_count": 16,
     "metadata": {},
     "output_type": "execute_result"
    }
   ],
   "source": [
    "new_df['diff'].mean()"
   ]
  },
  {
   "cell_type": "code",
   "execution_count": 17,
   "metadata": {},
   "outputs": [
    {
     "data": {
      "text/plain": [
       "4.14832891774617"
      ]
     },
     "execution_count": 17,
     "metadata": {},
     "output_type": "execute_result"
    }
   ],
   "source": [
    "new_df['diff'].median()"
   ]
  },
  {
   "cell_type": "code",
   "execution_count": 18,
   "metadata": {},
   "outputs": [
    {
     "data": {
      "text/plain": [
       "5.413793103448276"
      ]
     },
     "execution_count": 18,
     "metadata": {},
     "output_type": "execute_result"
    }
   ],
   "source": [
    "new_df['new_diff'].mean()\n"
   ]
  },
  {
   "cell_type": "code",
   "execution_count": 19,
   "metadata": {},
   "outputs": [
    {
     "data": {
      "text/plain": [
       "4.0"
      ]
     },
     "execution_count": 19,
     "metadata": {},
     "output_type": "execute_result"
    }
   ],
   "source": [
    "new_df['new_diff'].median()"
   ]
  },
  {
   "cell_type": "code",
   "execution_count": 20,
   "metadata": {},
   "outputs": [],
   "source": [
    "# from sklearn.linear_model import Ridge\n",
    "# from sklearn.feature_selection import SequentialFeatureSelector\n",
    "# from sklearn.model_selection import TimeSeriesSplit\n",
    "\n",
    "# rr = Ridge(alpha=1)\n",
    "\n",
    "# split = TimeSeriesSplit(n_split=3)\n",
    "\n",
    "# sfs = SequentialFeatureSelector(rr, features_to_select=17, \n",
    "#                                 direction=\"forward\", cv=split, \n",
    "#                                 n_jobs=4)\n"
   ]
  },
  {
   "cell_type": "code",
   "execution_count": 21,
   "metadata": {},
   "outputs": [
    {
     "data": {
      "text/plain": [
       "(282, 91)"
      ]
     },
     "execution_count": 21,
     "metadata": {},
     "output_type": "execute_result"
    }
   ],
   "source": [
    "df.shape"
   ]
  },
  {
   "cell_type": "code",
   "execution_count": null,
   "metadata": {},
   "outputs": [],
   "source": []
  }
 ],
 "metadata": {
  "kernelspec": {
   "display_name": "Python 3 (ipykernel)",
   "language": "python",
   "name": "python3"
  },
  "language_info": {
   "codemirror_mode": {
    "name": "ipython",
    "version": 3
   },
   "file_extension": ".py",
   "mimetype": "text/x-python",
   "name": "python",
   "nbconvert_exporter": "python",
   "pygments_lexer": "ipython3",
   "version": "3.9.12"
  }
 },
 "nbformat": 4,
 "nbformat_minor": 2
}
