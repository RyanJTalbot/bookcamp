{
 "cells": [
  {
   "cell_type": "code",
   "execution_count": 1,
   "metadata": {},
   "outputs": [],
   "source": [
    "import pandas as pd\n",
    "import numpy as np\n",
    "from sklearn.model_selection import train_test_split\n",
    "from sklearn.metrics import mean_squared_error\n",
    "from sklearn.metrics import r2_score\n",
    "from sklearn.metrics import mean_absolute_error\n",
    "from sklearn.metrics import mean_absolute_percentage_error\n",
    "\n",
    "from sklearn import linear_model"
   ]
  },
  {
   "cell_type": "code",
   "execution_count": 2,
   "metadata": {},
   "outputs": [],
   "source": [
    "df = pd.read_csv('hotData.csv')\n"
   ]
  },
  {
   "cell_type": "code",
   "execution_count": 3,
   "metadata": {},
   "outputs": [],
   "source": [
    "y = df['results']\n",
    "X = df.drop(columns=['results'])\n",
    "\n",
    "X_train, X_test, y_train, y_test = train_test_split(\n",
    "     X, y, test_size=0.39, random_state=2)"
   ]
  },
  {
   "cell_type": "code",
   "execution_count": 176,
   "metadata": {},
   "outputs": [],
   "source": [
    "clf = linear_model.BayesianRidge(alpha_1=1000, alpha_2=1000,\n",
    "                                lambda_1=38)\n"
   ]
  },
  {
   "cell_type": "code",
   "execution_count": 177,
   "metadata": {},
   "outputs": [],
   "source": [
    "clf.fit(X_train, y_train)\n",
    "pred_train= clf.predict(X_train)\n",
    "pred_test= clf.predict(X_test)"
   ]
  },
  {
   "cell_type": "code",
   "execution_count": 178,
   "metadata": {},
   "outputs": [
    {
     "name": "stdout",
     "output_type": "stream",
     "text": [
      "---------------------\n",
      "RMSE : 7.209252276547516\n",
      "R2 : 0.36673112789036266\n",
      "MSE: 51.97331838690554\n",
      "MAE: 5.475716841956409\n",
      "MAPE: 0.7543190406719813\n"
     ]
    }
   ],
   "source": [
    "\n",
    "print('---------------------')\n",
    "\n",
    "print('RMSE : '+str(np.sqrt(mean_squared_error(y_test,pred_test)))) \n",
    "print('R2 : '+str(r2_score(y_test, pred_test)))\n",
    "print('MSE: '+str(mean_squared_error(y_test, pred_test)))\n",
    "print('MAE: '+str(mean_absolute_error(y_test, pred_test)))\n",
    "print('MAPE: '+str(mean_absolute_percentage_error(y_test, pred_test)))"
   ]
  },
  {
   "cell_type": "code",
   "execution_count": 163,
   "metadata": {},
   "outputs": [
    {
     "ename": "SyntaxError",
     "evalue": "invalid syntax (3130570747.py, line 2)",
     "output_type": "error",
     "traceback": [
      "\u001b[0;36m  Input \u001b[0;32mIn [163]\u001b[0;36m\u001b[0m\n\u001b[0;31m    alpha_1=1 MAPE: 0.9380580446201865\u001b[0m\n\u001b[0m              ^\u001b[0m\n\u001b[0;31mSyntaxError\u001b[0m\u001b[0;31m:\u001b[0m invalid syntax\n"
     ]
    }
   ],
   "source": [
    "# MAPE: 0.9410260322437842\n",
    "alpha_1=1 MAPE: 0.9380580446201865\n",
    "alpha_1=10 MAPE: 0.9139383996954716\n",
    "alpha_1=1000 MAPE: 0.7679287022115385\n",
    "alpha_2=1000 MAPE: 0.7631773991651128\n",
    "lambda_1=10 MAPE: 0.7598982003383267\n",
    "lambda_1=30 MAPE: 0.7548038331688284\n",
    "lambda_1=38 MAPE: 0.7543190406719813\n"
   ]
  },
  {
   "cell_type": "code",
   "execution_count": 7,
   "metadata": {},
   "outputs": [],
   "source": [
    "data = {'y_test': y_test, 'y_pred': pred_test}\n",
    "new_df = pd.DataFrame(data)\n",
    "diff = (new_df['y_test'] - new_df['y_pred']).abs()\n",
    "new_df['diff'] = diff\n",
    "new_df = new_df.sort_values(by='diff', ascending=True)\n"
   ]
  },
  {
   "cell_type": "code",
   "execution_count": 8,
   "metadata": {},
   "outputs": [
    {
     "data": {
      "text/html": [
       "<div>\n",
       "<style scoped>\n",
       "    .dataframe tbody tr th:only-of-type {\n",
       "        vertical-align: middle;\n",
       "    }\n",
       "\n",
       "    .dataframe tbody tr th {\n",
       "        vertical-align: top;\n",
       "    }\n",
       "\n",
       "    .dataframe thead th {\n",
       "        text-align: right;\n",
       "    }\n",
       "</style>\n",
       "<table border=\"1\" class=\"dataframe\">\n",
       "  <thead>\n",
       "    <tr style=\"text-align: right;\">\n",
       "      <th></th>\n",
       "      <th>y_test</th>\n",
       "      <th>y_pred</th>\n",
       "      <th>diff</th>\n",
       "    </tr>\n",
       "  </thead>\n",
       "  <tbody>\n",
       "    <tr>\n",
       "      <th>133</th>\n",
       "      <td>3</td>\n",
       "      <td>10.508505</td>\n",
       "      <td>7.508505</td>\n",
       "    </tr>\n",
       "    <tr>\n",
       "      <th>18</th>\n",
       "      <td>2</td>\n",
       "      <td>9.661052</td>\n",
       "      <td>7.661052</td>\n",
       "    </tr>\n",
       "    <tr>\n",
       "      <th>84</th>\n",
       "      <td>1</td>\n",
       "      <td>8.914132</td>\n",
       "      <td>7.914132</td>\n",
       "    </tr>\n",
       "    <tr>\n",
       "      <th>189</th>\n",
       "      <td>2</td>\n",
       "      <td>9.931564</td>\n",
       "      <td>7.931564</td>\n",
       "    </tr>\n",
       "    <tr>\n",
       "      <th>160</th>\n",
       "      <td>21</td>\n",
       "      <td>12.992894</td>\n",
       "      <td>8.007106</td>\n",
       "    </tr>\n",
       "    <tr>\n",
       "      <th>35</th>\n",
       "      <td>18</td>\n",
       "      <td>9.409928</td>\n",
       "      <td>8.590072</td>\n",
       "    </tr>\n",
       "    <tr>\n",
       "      <th>112</th>\n",
       "      <td>20</td>\n",
       "      <td>11.307373</td>\n",
       "      <td>8.692627</td>\n",
       "    </tr>\n",
       "    <tr>\n",
       "      <th>257</th>\n",
       "      <td>16</td>\n",
       "      <td>7.274622</td>\n",
       "      <td>8.725378</td>\n",
       "    </tr>\n",
       "    <tr>\n",
       "      <th>74</th>\n",
       "      <td>8</td>\n",
       "      <td>17.099405</td>\n",
       "      <td>9.099405</td>\n",
       "    </tr>\n",
       "    <tr>\n",
       "      <th>30</th>\n",
       "      <td>11</td>\n",
       "      <td>20.127051</td>\n",
       "      <td>9.127051</td>\n",
       "    </tr>\n",
       "    <tr>\n",
       "      <th>53</th>\n",
       "      <td>8</td>\n",
       "      <td>17.303213</td>\n",
       "      <td>9.303213</td>\n",
       "    </tr>\n",
       "    <tr>\n",
       "      <th>209</th>\n",
       "      <td>26</td>\n",
       "      <td>16.422641</td>\n",
       "      <td>9.577359</td>\n",
       "    </tr>\n",
       "    <tr>\n",
       "      <th>227</th>\n",
       "      <td>32</td>\n",
       "      <td>22.417589</td>\n",
       "      <td>9.582411</td>\n",
       "    </tr>\n",
       "    <tr>\n",
       "      <th>134</th>\n",
       "      <td>22</td>\n",
       "      <td>12.374402</td>\n",
       "      <td>9.625598</td>\n",
       "    </tr>\n",
       "    <tr>\n",
       "      <th>10</th>\n",
       "      <td>27</td>\n",
       "      <td>17.318086</td>\n",
       "      <td>9.681914</td>\n",
       "    </tr>\n",
       "    <tr>\n",
       "      <th>155</th>\n",
       "      <td>21</td>\n",
       "      <td>11.215296</td>\n",
       "      <td>9.784704</td>\n",
       "    </tr>\n",
       "    <tr>\n",
       "      <th>64</th>\n",
       "      <td>31</td>\n",
       "      <td>21.185442</td>\n",
       "      <td>9.814558</td>\n",
       "    </tr>\n",
       "    <tr>\n",
       "      <th>93</th>\n",
       "      <td>25</td>\n",
       "      <td>14.755266</td>\n",
       "      <td>10.244734</td>\n",
       "    </tr>\n",
       "    <tr>\n",
       "      <th>253</th>\n",
       "      <td>28</td>\n",
       "      <td>17.664609</td>\n",
       "      <td>10.335391</td>\n",
       "    </tr>\n",
       "    <tr>\n",
       "      <th>126</th>\n",
       "      <td>2</td>\n",
       "      <td>12.531646</td>\n",
       "      <td>10.531646</td>\n",
       "    </tr>\n",
       "    <tr>\n",
       "      <th>250</th>\n",
       "      <td>27</td>\n",
       "      <td>16.235920</td>\n",
       "      <td>10.764080</td>\n",
       "    </tr>\n",
       "    <tr>\n",
       "      <th>113</th>\n",
       "      <td>28</td>\n",
       "      <td>16.939519</td>\n",
       "      <td>11.060481</td>\n",
       "    </tr>\n",
       "    <tr>\n",
       "      <th>230</th>\n",
       "      <td>29</td>\n",
       "      <td>17.677726</td>\n",
       "      <td>11.322274</td>\n",
       "    </tr>\n",
       "    <tr>\n",
       "      <th>120</th>\n",
       "      <td>17</td>\n",
       "      <td>5.324243</td>\n",
       "      <td>11.675757</td>\n",
       "    </tr>\n",
       "    <tr>\n",
       "      <th>214</th>\n",
       "      <td>31</td>\n",
       "      <td>19.139764</td>\n",
       "      <td>11.860236</td>\n",
       "    </tr>\n",
       "    <tr>\n",
       "      <th>267</th>\n",
       "      <td>26</td>\n",
       "      <td>13.887204</td>\n",
       "      <td>12.112796</td>\n",
       "    </tr>\n",
       "    <tr>\n",
       "      <th>205</th>\n",
       "      <td>2</td>\n",
       "      <td>14.735108</td>\n",
       "      <td>12.735108</td>\n",
       "    </tr>\n",
       "    <tr>\n",
       "      <th>175</th>\n",
       "      <td>6</td>\n",
       "      <td>18.991530</td>\n",
       "      <td>12.991530</td>\n",
       "    </tr>\n",
       "    <tr>\n",
       "      <th>24</th>\n",
       "      <td>3</td>\n",
       "      <td>16.437774</td>\n",
       "      <td>13.437774</td>\n",
       "    </tr>\n",
       "    <tr>\n",
       "      <th>271</th>\n",
       "      <td>23</td>\n",
       "      <td>8.771476</td>\n",
       "      <td>14.228524</td>\n",
       "    </tr>\n",
       "    <tr>\n",
       "      <th>183</th>\n",
       "      <td>27</td>\n",
       "      <td>12.702349</td>\n",
       "      <td>14.297651</td>\n",
       "    </tr>\n",
       "    <tr>\n",
       "      <th>4</th>\n",
       "      <td>2</td>\n",
       "      <td>22.407038</td>\n",
       "      <td>20.407038</td>\n",
       "    </tr>\n",
       "  </tbody>\n",
       "</table>\n",
       "</div>"
      ],
      "text/plain": [
       "     y_test     y_pred       diff\n",
       "133       3  10.508505   7.508505\n",
       "18        2   9.661052   7.661052\n",
       "84        1   8.914132   7.914132\n",
       "189       2   9.931564   7.931564\n",
       "160      21  12.992894   8.007106\n",
       "35       18   9.409928   8.590072\n",
       "112      20  11.307373   8.692627\n",
       "257      16   7.274622   8.725378\n",
       "74        8  17.099405   9.099405\n",
       "30       11  20.127051   9.127051\n",
       "53        8  17.303213   9.303213\n",
       "209      26  16.422641   9.577359\n",
       "227      32  22.417589   9.582411\n",
       "134      22  12.374402   9.625598\n",
       "10       27  17.318086   9.681914\n",
       "155      21  11.215296   9.784704\n",
       "64       31  21.185442   9.814558\n",
       "93       25  14.755266  10.244734\n",
       "253      28  17.664609  10.335391\n",
       "126       2  12.531646  10.531646\n",
       "250      27  16.235920  10.764080\n",
       "113      28  16.939519  11.060481\n",
       "230      29  17.677726  11.322274\n",
       "120      17   5.324243  11.675757\n",
       "214      31  19.139764  11.860236\n",
       "267      26  13.887204  12.112796\n",
       "205       2  14.735108  12.735108\n",
       "175       6  18.991530  12.991530\n",
       "24        3  16.437774  13.437774\n",
       "271      23   8.771476  14.228524\n",
       "183      27  12.702349  14.297651\n",
       "4         2  22.407038  20.407038"
      ]
     },
     "execution_count": 8,
     "metadata": {},
     "output_type": "execute_result"
    }
   ],
   "source": [
    "new_df.iloc[-32:]"
   ]
  },
  {
   "cell_type": "code",
   "execution_count": 9,
   "metadata": {},
   "outputs": [
    {
     "data": {
      "text/plain": [
       "5.608836223771128"
      ]
     },
     "execution_count": 9,
     "metadata": {},
     "output_type": "execute_result"
    }
   ],
   "source": [
    "new_df['diff'].mean()"
   ]
  },
  {
   "cell_type": "code",
   "execution_count": 10,
   "metadata": {},
   "outputs": [
    {
     "data": {
      "text/plain": [
       "5.120110106873446"
      ]
     },
     "execution_count": 10,
     "metadata": {},
     "output_type": "execute_result"
    }
   ],
   "source": [
    "new_df['diff'].median()"
   ]
  },
  {
   "cell_type": "code",
   "execution_count": null,
   "metadata": {},
   "outputs": [],
   "source": []
  }
 ],
 "metadata": {
  "kernelspec": {
   "display_name": "Python 3 (ipykernel)",
   "language": "python",
   "name": "python3"
  },
  "language_info": {
   "codemirror_mode": {
    "name": "ipython",
    "version": 3
   },
   "file_extension": ".py",
   "mimetype": "text/x-python",
   "name": "python",
   "nbconvert_exporter": "python",
   "pygments_lexer": "ipython3",
   "version": "3.9.12"
  }
 },
 "nbformat": 4,
 "nbformat_minor": 2
}
