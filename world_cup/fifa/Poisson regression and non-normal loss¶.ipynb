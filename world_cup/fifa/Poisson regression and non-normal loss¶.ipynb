{
 "cells": [
  {
   "cell_type": "markdown",
   "metadata": {},
   "source": [
    "https://scikit-learn.org/stable/auto_examples/linear_model/plot_poisson_regression_non_normal_loss.html#sphx-glr-auto-examples-linear-model-plot-poisson-regression-non-normal-loss-py"
   ]
  },
  {
   "cell_type": "code",
   "execution_count": 1,
   "metadata": {},
   "outputs": [],
   "source": [
    "import numpy as np\n",
    "import matplotlib.pyplot as plt\n",
    "import pandas as pd"
   ]
  },
  {
   "cell_type": "code",
   "execution_count": 2,
   "metadata": {},
   "outputs": [],
   "source": [
    "df = pd.read_csv('WC-stats.csv')"
   ]
  },
  {
   "cell_type": "code",
   "execution_count": 3,
   "metadata": {},
   "outputs": [],
   "source": [
    "from sklearn.pipeline import make_pipeline\n",
    "from sklearn.preprocessing import FunctionTransformer, OneHotEncoder\n",
    "from sklearn.preprocessing import StandardScaler, KBinsDiscretizer\n",
    "from sklearn.compose import ColumnTransformer"
   ]
  },
  {
   "cell_type": "markdown",
   "metadata": {},
   "source": [
    "In order to fit linear models with those predictors it is therefore necessary to perform standard feature transformations as follows:"
   ]
  },
  {
   "cell_type": "code",
   "execution_count": 39,
   "metadata": {},
   "outputs": [
    {
     "data": {
      "text/plain": [
       "Index(['goals_z', 'xg_z', 'crosses_z', 'boxtouches_z', 'passes_z',\n",
       "       'progpasses_z', 'takeons_z', 'progruns_z', 'tackles_z',\n",
       "       'interceptions_z', 'clearances_z', 'blocks_z', 'aerials_z', 'fouls_z',\n",
       "       'fouled_z', 'nsxg_z', 'results'],\n",
       "      dtype='object')"
      ]
     },
     "execution_count": 39,
     "metadata": {},
     "output_type": "execute_result"
    }
   ],
   "source": [
    "df.columns"
   ]
  },
  {
   "cell_type": "code",
   "execution_count": 40,
   "metadata": {},
   "outputs": [],
   "source": [
    "log_scale_transformer = make_pipeline(\n",
    "    FunctionTransformer(np.log, validate=False), StandardScaler()\n",
    ")\n",
    "\n",
    "linear_model_preprocessor = ColumnTransformer(\n",
    "    [\n",
    "        (\"passthrough_numeric\", \"passthrough\", [\"goals_z\"]),\n",
    "        (\"binned_numeric\", KBinsDiscretizer(n_bins=10), ['xg_z', 'crosses_z', 'boxtouches_z', 'passes_z',\n",
    "       'progpasses_z', 'takeons_z', 'progruns_z', 'tackles_z',\n",
    "       'interceptions_z', 'clearances_z', 'blocks_z', 'aerials_z', 'fouls_z',\n",
    "       'fouled_z', 'nsxg_z']),\n",
    "        (\"log_scaled_numeric\", log_scale_transformer, [\"results\"]),\n",
    "    ],\n",
    "    remainder=\"drop\",\n",
    ")"
   ]
  },
  {
   "cell_type": "markdown",
   "metadata": {},
   "source": [
    "To evaluate the pertinence of the used metrics, we will consider as a baseline a “dummy” estimator that constantly predicts the mean frequency of the training sample.\n",
    "\n"
   ]
  },
  {
   "cell_type": "code",
   "execution_count": 41,
   "metadata": {},
   "outputs": [],
   "source": [
    "from sklearn.dummy import DummyRegressor\n",
    "from sklearn.pipeline import Pipeline\n",
    "from sklearn.model_selection import train_test_split"
   ]
  },
  {
   "cell_type": "code",
   "execution_count": 45,
   "metadata": {},
   "outputs": [
    {
     "data": {
      "text/html": [
       "<div>\n",
       "<style scoped>\n",
       "    .dataframe tbody tr th:only-of-type {\n",
       "        vertical-align: middle;\n",
       "    }\n",
       "\n",
       "    .dataframe tbody tr th {\n",
       "        vertical-align: top;\n",
       "    }\n",
       "\n",
       "    .dataframe thead th {\n",
       "        text-align: right;\n",
       "    }\n",
       "</style>\n",
       "<table border=\"1\" class=\"dataframe\">\n",
       "  <thead>\n",
       "    <tr style=\"text-align: right;\">\n",
       "      <th></th>\n",
       "      <th>goals_z</th>\n",
       "      <th>xg_z</th>\n",
       "      <th>crosses_z</th>\n",
       "      <th>boxtouches_z</th>\n",
       "      <th>passes_z</th>\n",
       "      <th>progpasses_z</th>\n",
       "      <th>takeons_z</th>\n",
       "      <th>progruns_z</th>\n",
       "      <th>tackles_z</th>\n",
       "      <th>interceptions_z</th>\n",
       "      <th>clearances_z</th>\n",
       "      <th>blocks_z</th>\n",
       "      <th>aerials_z</th>\n",
       "      <th>fouls_z</th>\n",
       "      <th>fouled_z</th>\n",
       "      <th>nsxg_z</th>\n",
       "      <th>results</th>\n",
       "    </tr>\n",
       "  </thead>\n",
       "  <tbody>\n",
       "    <tr>\n",
       "      <th>0</th>\n",
       "      <td>0.423077</td>\n",
       "      <td>0.146923</td>\n",
       "      <td>-0.136154</td>\n",
       "      <td>-0.030000</td>\n",
       "      <td>0.429231</td>\n",
       "      <td>0.037692</td>\n",
       "      <td>0.244615</td>\n",
       "      <td>-0.220000</td>\n",
       "      <td>0.216154</td>\n",
       "      <td>0.270000</td>\n",
       "      <td>-0.076923</td>\n",
       "      <td>-0.097692</td>\n",
       "      <td>-0.020000</td>\n",
       "      <td>-0.224615</td>\n",
       "      <td>0.100769</td>\n",
       "      <td>-0.124615</td>\n",
       "      <td>2.0</td>\n",
       "    </tr>\n",
       "    <tr>\n",
       "      <th>1</th>\n",
       "      <td>0.216923</td>\n",
       "      <td>0.348462</td>\n",
       "      <td>0.031538</td>\n",
       "      <td>0.158462</td>\n",
       "      <td>0.835385</td>\n",
       "      <td>0.626923</td>\n",
       "      <td>0.270000</td>\n",
       "      <td>0.266923</td>\n",
       "      <td>1.143846</td>\n",
       "      <td>0.834615</td>\n",
       "      <td>-0.059231</td>\n",
       "      <td>-0.134615</td>\n",
       "      <td>0.196923</td>\n",
       "      <td>-0.016923</td>\n",
       "      <td>0.033846</td>\n",
       "      <td>0.146923</td>\n",
       "      <td>1.0</td>\n",
       "    </tr>\n",
       "    <tr>\n",
       "      <th>2</th>\n",
       "      <td>0.113846</td>\n",
       "      <td>0.392308</td>\n",
       "      <td>0.599231</td>\n",
       "      <td>0.513846</td>\n",
       "      <td>0.833077</td>\n",
       "      <td>0.405385</td>\n",
       "      <td>0.521538</td>\n",
       "      <td>1.139231</td>\n",
       "      <td>1.109231</td>\n",
       "      <td>0.859231</td>\n",
       "      <td>0.084615</td>\n",
       "      <td>0.103077</td>\n",
       "      <td>0.683846</td>\n",
       "      <td>0.213846</td>\n",
       "      <td>0.353846</td>\n",
       "      <td>0.786923</td>\n",
       "      <td>9.0</td>\n",
       "    </tr>\n",
       "    <tr>\n",
       "      <th>3</th>\n",
       "      <td>0.479231</td>\n",
       "      <td>0.609231</td>\n",
       "      <td>0.227692</td>\n",
       "      <td>0.450769</td>\n",
       "      <td>0.770769</td>\n",
       "      <td>0.042308</td>\n",
       "      <td>0.337692</td>\n",
       "      <td>0.927692</td>\n",
       "      <td>0.506923</td>\n",
       "      <td>1.015385</td>\n",
       "      <td>0.020769</td>\n",
       "      <td>0.381538</td>\n",
       "      <td>0.038462</td>\n",
       "      <td>0.039231</td>\n",
       "      <td>0.022308</td>\n",
       "      <td>0.692308</td>\n",
       "      <td>5.0</td>\n",
       "    </tr>\n",
       "    <tr>\n",
       "      <th>4</th>\n",
       "      <td>0.877692</td>\n",
       "      <td>0.773846</td>\n",
       "      <td>0.428462</td>\n",
       "      <td>0.659231</td>\n",
       "      <td>0.754615</td>\n",
       "      <td>0.335385</td>\n",
       "      <td>0.023077</td>\n",
       "      <td>0.638462</td>\n",
       "      <td>0.493846</td>\n",
       "      <td>0.637692</td>\n",
       "      <td>-0.117692</td>\n",
       "      <td>-0.033846</td>\n",
       "      <td>0.572308</td>\n",
       "      <td>-0.016154</td>\n",
       "      <td>-0.096923</td>\n",
       "      <td>0.890769</td>\n",
       "      <td>5.0</td>\n",
       "    </tr>\n",
       "  </tbody>\n",
       "</table>\n",
       "</div>"
      ],
      "text/plain": [
       "    goals_z      xg_z  crosses_z  boxtouches_z  passes_z  progpasses_z  \\\n",
       "0  0.423077  0.146923  -0.136154     -0.030000  0.429231      0.037692   \n",
       "1  0.216923  0.348462   0.031538      0.158462  0.835385      0.626923   \n",
       "2  0.113846  0.392308   0.599231      0.513846  0.833077      0.405385   \n",
       "3  0.479231  0.609231   0.227692      0.450769  0.770769      0.042308   \n",
       "4  0.877692  0.773846   0.428462      0.659231  0.754615      0.335385   \n",
       "\n",
       "   takeons_z  progruns_z  tackles_z  interceptions_z  clearances_z  blocks_z  \\\n",
       "0   0.244615   -0.220000   0.216154         0.270000     -0.076923 -0.097692   \n",
       "1   0.270000    0.266923   1.143846         0.834615     -0.059231 -0.134615   \n",
       "2   0.521538    1.139231   1.109231         0.859231      0.084615  0.103077   \n",
       "3   0.337692    0.927692   0.506923         1.015385      0.020769  0.381538   \n",
       "4   0.023077    0.638462   0.493846         0.637692     -0.117692 -0.033846   \n",
       "\n",
       "   aerials_z   fouls_z  fouled_z    nsxg_z  results  \n",
       "0  -0.020000 -0.224615  0.100769 -0.124615      2.0  \n",
       "1   0.196923 -0.016923  0.033846  0.146923      1.0  \n",
       "2   0.683846  0.213846  0.353846  0.786923      9.0  \n",
       "3   0.038462  0.039231  0.022308  0.692308      5.0  \n",
       "4   0.572308 -0.016154 -0.096923  0.890769      5.0  "
      ]
     },
     "execution_count": 45,
     "metadata": {},
     "output_type": "execute_result"
    }
   ],
   "source": [
    "df.head()"
   ]
  },
  {
   "cell_type": "code",
   "execution_count": 46,
   "metadata": {},
   "outputs": [
    {
     "name": "stdout",
     "output_type": "stream",
     "text": [
      "<class 'pandas.core.frame.DataFrame'>\n",
      "Int64Index: 124 entries, 134 to 47\n",
      "Data columns (total 17 columns):\n",
      " #   Column           Non-Null Count  Dtype  \n",
      "---  ------           --------------  -----  \n",
      " 0   goals_z          124 non-null    float64\n",
      " 1   xg_z             124 non-null    float64\n",
      " 2   crosses_z        124 non-null    float64\n",
      " 3   boxtouches_z     124 non-null    float64\n",
      " 4   passes_z         124 non-null    float64\n",
      " 5   progpasses_z     124 non-null    float64\n",
      " 6   takeons_z        124 non-null    float64\n",
      " 7   progruns_z       124 non-null    float64\n",
      " 8   tackles_z        124 non-null    float64\n",
      " 9   interceptions_z  124 non-null    float64\n",
      " 10  clearances_z     124 non-null    float64\n",
      " 11  blocks_z         124 non-null    float64\n",
      " 12  aerials_z        124 non-null    float64\n",
      " 13  fouls_z          124 non-null    float64\n",
      " 14  fouled_z         124 non-null    float64\n",
      " 15  nsxg_z           124 non-null    float64\n",
      " 16  results          124 non-null    float64\n",
      "dtypes: float64(17)\n",
      "memory usage: 17.4 KB\n"
     ]
    }
   ],
   "source": [
    "df_train.info()"
   ]
  },
  {
   "cell_type": "code",
   "execution_count": 47,
   "metadata": {},
   "outputs": [],
   "source": [
    "df['results'] = df['results'].astype(float)\n"
   ]
  },
  {
   "cell_type": "code",
   "execution_count": 48,
   "metadata": {},
   "outputs": [
    {
     "name": "stdout",
     "output_type": "stream",
     "text": [
      "<class 'pandas.core.frame.DataFrame'>\n",
      "Int64Index: 124 entries, 134 to 47\n",
      "Data columns (total 17 columns):\n",
      " #   Column           Non-Null Count  Dtype  \n",
      "---  ------           --------------  -----  \n",
      " 0   goals_z          124 non-null    float64\n",
      " 1   xg_z             124 non-null    float64\n",
      " 2   crosses_z        124 non-null    float64\n",
      " 3   boxtouches_z     124 non-null    float64\n",
      " 4   passes_z         124 non-null    float64\n",
      " 5   progpasses_z     124 non-null    float64\n",
      " 6   takeons_z        124 non-null    float64\n",
      " 7   progruns_z       124 non-null    float64\n",
      " 8   tackles_z        124 non-null    float64\n",
      " 9   interceptions_z  124 non-null    float64\n",
      " 10  clearances_z     124 non-null    float64\n",
      " 11  blocks_z         124 non-null    float64\n",
      " 12  aerials_z        124 non-null    float64\n",
      " 13  fouls_z          124 non-null    float64\n",
      " 14  fouled_z         124 non-null    float64\n",
      " 15  nsxg_z           124 non-null    float64\n",
      " 16  results          124 non-null    float64\n",
      "dtypes: float64(17)\n",
      "memory usage: 17.4 KB\n"
     ]
    }
   ],
   "source": [
    "df_train.info()"
   ]
  },
  {
   "cell_type": "code",
   "execution_count": 49,
   "metadata": {},
   "outputs": [],
   "source": [
    "df_train, df_test = train_test_split(df, test_size=0.21, random_state=0)\n"
   ]
  },
  {
   "cell_type": "code",
   "execution_count": 50,
   "metadata": {},
   "outputs": [],
   "source": [
    "\n",
    "dummy = Pipeline(\n",
    "    [\n",
    "        (\"preprocessor\", linear_model_preprocessor),\n",
    "        (\"regressor\", DummyRegressor(strategy=\"mean\")),\n",
    "    ]\n",
    ").fit(df_train, df_train[\"goals_z\"], regressor__sample_weight=df_train[\"results\"])\n",
    "\n"
   ]
  },
  {
   "cell_type": "code",
   "execution_count": 51,
   "metadata": {},
   "outputs": [],
   "source": [
    "from sklearn.metrics import mean_squared_error\n",
    "from sklearn.metrics import mean_absolute_error\n",
    "from sklearn.metrics import mean_poisson_deviance\n"
   ]
  },
  {
   "cell_type": "code",
   "execution_count": 53,
   "metadata": {},
   "outputs": [
    {
     "name": "stdout",
     "output_type": "stream",
     "text": [
      "Constant mean frequency evaluation:\n",
      "MSE: -185.182\n",
      "MAE: -1.506\n",
      "mean Poisson deviance: 191.107\n"
     ]
    }
   ],
   "source": [
    "def score_estimator(estimator, df_test):\n",
    "    \"\"\"Score an estimator on the test set.\"\"\"\n",
    "    y_pred = estimator.predict(df_test)\n",
    "\n",
    "    print(\n",
    "        \"MSE: %.3f\"\n",
    "        % mean_squared_error(\n",
    "            df_test[\"results\"], y_pred, sample_weight=df_test[\"goals_z\"]\n",
    "        )\n",
    "    )\n",
    "    print(\n",
    "        \"MAE: %.3f\"\n",
    "        % mean_absolute_error(\n",
    "            df_test[\"results\"], y_pred, sample_weight=df_test[\"goals_z\"]\n",
    "        )\n",
    "    )\n",
    "\n",
    "    # Ignore non-positive predictions, as they are invalid for\n",
    "    # the Poisson deviance.\n",
    "    mask = y_pred > 0\n",
    "    if (~mask).any():\n",
    "        n_masked, n_samples = (~mask).sum(), mask.shape[0]\n",
    "        print(\n",
    "            \"WARNING: Estimator yields invalid, non-positive predictions \"\n",
    "            f\" for {n_masked} samples out of {n_samples}. These predictions \"\n",
    "            \"are ignored when computing the Poisson deviance.\"\n",
    "        )\n",
    "\n",
    "    print(\n",
    "        \"mean Poisson deviance: %.3f\"\n",
    "        % mean_poisson_deviance(\n",
    "            df_test[\"results\"][mask],\n",
    "            y_pred[mask],\n",
    "            sample_weight=df_test[\"results\"][mask],\n",
    "        )\n",
    "    )\n",
    "\n",
    "\n",
    "print(\"Constant mean frequency evaluation:\")\n",
    "score_estimator(dummy, df_test)"
   ]
  },
  {
   "cell_type": "code",
   "execution_count": 58,
   "metadata": {},
   "outputs": [
    {
     "data": {
      "text/plain": [
       "7.0     8\n",
       "11.0    7\n",
       "3.0     7\n",
       "2.0     7\n",
       "4.0     6\n",
       "1.0     6\n",
       "5.0     6\n",
       "10.0    6\n",
       "9.0     5\n",
       "24.0    5\n",
       "12.0    5\n",
       "23.0    5\n",
       "28.0    5\n",
       "18.0    4\n",
       "6.0     4\n",
       "14.0    4\n",
       "29.0    3\n",
       "32.0    3\n",
       "13.0    3\n",
       "21.0    3\n",
       "15.0    3\n",
       "26.0    3\n",
       "30.0    2\n",
       "8.0     2\n",
       "25.0    2\n",
       "31.0    2\n",
       "16.0    2\n",
       "17.0    2\n",
       "22.0    1\n",
       "27.0    1\n",
       "19.0    1\n",
       "20.0    1\n",
       "Name: results, dtype: int64"
      ]
     },
     "execution_count": 58,
     "metadata": {},
     "output_type": "execute_result"
    }
   ],
   "source": [
    "df_train['results'].value_counts()"
   ]
  },
  {
   "cell_type": "code",
   "execution_count": 60,
   "metadata": {},
   "outputs": [
    {
     "name": "stdout",
     "output_type": "stream",
     "text": [
      "Poisson Gradient Boosted Trees evaluation:\n",
      "MSE: -1.557\n",
      "MAE: -0.102\n",
      "mean Poisson deviance: 0.126\n"
     ]
    }
   ],
   "source": [
    "from sklearn.ensemble import HistGradientBoostingRegressor\n",
    "from sklearn.preprocessing import OrdinalEncoder\n",
    "\n",
    "\n",
    "tree_preprocessor = ColumnTransformer(\n",
    "    [\n",
    "        (\"numeric\", \"passthrough\", ['xg_z', 'crosses_z', 'boxtouches_z', 'passes_z',\n",
    "       'progpasses_z', 'takeons_z', 'progruns_z', 'tackles_z',\n",
    "       'interceptions_z', 'clearances_z', 'blocks_z', 'aerials_z', 'fouls_z',\n",
    "       'fouled_z', 'nsxg_z', 'results']),\n",
    "    ],\n",
    "    remainder=\"drop\",\n",
    ")\n",
    "\n",
    "\n",
    "\n",
    "poisson_gbrt = Pipeline(\n",
    "    [\n",
    "        (\"preprocessor\", tree_preprocessor),\n",
    "        (\n",
    "            \"regressor\",\n",
    "            HistGradientBoostingRegressor(loss=\"poisson\", max_leaf_nodes=128),\n",
    "        ),\n",
    "    ]\n",
    ")\n",
    "poisson_gbrt.fit(\n",
    "    df_train, df_train[\"results\"]\n",
    ")\n",
    "\n",
    "print(\"Poisson Gradient Boosted Trees evaluation:\")\n",
    "score_estimator(poisson_gbrt, df_test)"
   ]
  },
  {
   "cell_type": "code",
   "execution_count": null,
   "metadata": {},
   "outputs": [],
   "source": []
  }
 ],
 "metadata": {
  "kernelspec": {
   "display_name": "Python 3 (ipykernel)",
   "language": "python",
   "name": "python3"
  },
  "language_info": {
   "codemirror_mode": {
    "name": "ipython",
    "version": 3
   },
   "file_extension": ".py",
   "mimetype": "text/x-python",
   "name": "python",
   "nbconvert_exporter": "python",
   "pygments_lexer": "ipython3",
   "version": "3.9.12"
  }
 },
 "nbformat": 4,
 "nbformat_minor": 2
}
