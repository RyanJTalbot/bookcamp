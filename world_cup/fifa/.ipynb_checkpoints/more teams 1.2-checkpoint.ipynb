{
 "cells": [
  {
   "cell_type": "code",
   "execution_count": 1,
   "metadata": {},
   "outputs": [],
   "source": [
    "import pandas as pd\n",
    "import numpy as np"
   ]
  },
  {
   "cell_type": "code",
   "execution_count": 2,
   "metadata": {},
   "outputs": [],
   "source": [
    "df = pd.read_csv('world_cup_comparisons.csv')"
   ]
  },
  {
   "cell_type": "code",
   "execution_count": 3,
   "metadata": {},
   "outputs": [
    {
     "data": {
      "text/html": [
       "<div>\n",
       "<style scoped>\n",
       "    .dataframe tbody tr th:only-of-type {\n",
       "        vertical-align: middle;\n",
       "    }\n",
       "\n",
       "    .dataframe tbody tr th {\n",
       "        vertical-align: top;\n",
       "    }\n",
       "\n",
       "    .dataframe thead th {\n",
       "        text-align: right;\n",
       "    }\n",
       "</style>\n",
       "<table border=\"1\" class=\"dataframe\">\n",
       "  <thead>\n",
       "    <tr style=\"text-align: right;\">\n",
       "      <th></th>\n",
       "      <th>player</th>\n",
       "      <th>season</th>\n",
       "      <th>team</th>\n",
       "      <th>goals_z</th>\n",
       "      <th>xg_z</th>\n",
       "      <th>crosses_z</th>\n",
       "      <th>boxtouches_z</th>\n",
       "      <th>passes_z</th>\n",
       "      <th>progpasses_z</th>\n",
       "      <th>takeons_z</th>\n",
       "      <th>progruns_z</th>\n",
       "      <th>tackles_z</th>\n",
       "      <th>interceptions_z</th>\n",
       "      <th>clearances_z</th>\n",
       "      <th>blocks_z</th>\n",
       "      <th>aerials_z</th>\n",
       "      <th>fouls_z</th>\n",
       "      <th>fouled_z</th>\n",
       "      <th>nsxg_z</th>\n",
       "    </tr>\n",
       "  </thead>\n",
       "  <tbody>\n",
       "    <tr>\n",
       "      <th>0</th>\n",
       "      <td>Cristian Pavón</td>\n",
       "      <td>2018</td>\n",
       "      <td>Argentina</td>\n",
       "      <td>-0.42</td>\n",
       "      <td>-0.55</td>\n",
       "      <td>0.08</td>\n",
       "      <td>-0.24</td>\n",
       "      <td>-0.61</td>\n",
       "      <td>-0.72</td>\n",
       "      <td>-0.05</td>\n",
       "      <td>0.15</td>\n",
       "      <td>0.30</td>\n",
       "      <td>-0.79</td>\n",
       "      <td>-0.80</td>\n",
       "      <td>-0.45</td>\n",
       "      <td>-0.23</td>\n",
       "      <td>-0.38</td>\n",
       "      <td>-0.91</td>\n",
       "      <td>-0.58</td>\n",
       "    </tr>\n",
       "    <tr>\n",
       "      <th>1</th>\n",
       "      <td>Eduardo Salvio</td>\n",
       "      <td>2018</td>\n",
       "      <td>Argentina</td>\n",
       "      <td>-0.42</td>\n",
       "      <td>-0.50</td>\n",
       "      <td>-0.51</td>\n",
       "      <td>0.64</td>\n",
       "      <td>0.02</td>\n",
       "      <td>-0.46</td>\n",
       "      <td>-0.05</td>\n",
       "      <td>0.48</td>\n",
       "      <td>0.61</td>\n",
       "      <td>0.67</td>\n",
       "      <td>0.32</td>\n",
       "      <td>-0.45</td>\n",
       "      <td>0.21</td>\n",
       "      <td>-1.11</td>\n",
       "      <td>0.68</td>\n",
       "      <td>-0.03</td>\n",
       "    </tr>\n",
       "    <tr>\n",
       "      <th>2</th>\n",
       "      <td>Enzo Pérez</td>\n",
       "      <td>2018</td>\n",
       "      <td>Argentina</td>\n",
       "      <td>-0.42</td>\n",
       "      <td>0.11</td>\n",
       "      <td>-0.51</td>\n",
       "      <td>-0.69</td>\n",
       "      <td>0.27</td>\n",
       "      <td>-0.65</td>\n",
       "      <td>-0.36</td>\n",
       "      <td>-0.34</td>\n",
       "      <td>0.35</td>\n",
       "      <td>-0.22</td>\n",
       "      <td>-0.80</td>\n",
       "      <td>-0.45</td>\n",
       "      <td>-0.89</td>\n",
       "      <td>0.72</td>\n",
       "      <td>0.04</td>\n",
       "      <td>-0.66</td>\n",
       "    </tr>\n",
       "    <tr>\n",
       "      <th>3</th>\n",
       "      <td>Federico Fazio</td>\n",
       "      <td>2018</td>\n",
       "      <td>Argentina</td>\n",
       "      <td>-0.42</td>\n",
       "      <td>-0.59</td>\n",
       "      <td>-0.51</td>\n",
       "      <td>-0.69</td>\n",
       "      <td>-0.97</td>\n",
       "      <td>-0.91</td>\n",
       "      <td>-0.67</td>\n",
       "      <td>-0.84</td>\n",
       "      <td>-0.82</td>\n",
       "      <td>-0.79</td>\n",
       "      <td>-0.64</td>\n",
       "      <td>-0.45</td>\n",
       "      <td>0.21</td>\n",
       "      <td>-1.11</td>\n",
       "      <td>-0.59</td>\n",
       "      <td>-0.77</td>\n",
       "    </tr>\n",
       "    <tr>\n",
       "      <th>4</th>\n",
       "      <td>Franco Armani</td>\n",
       "      <td>2018</td>\n",
       "      <td>Argentina</td>\n",
       "      <td>-0.42</td>\n",
       "      <td>-0.59</td>\n",
       "      <td>-0.51</td>\n",
       "      <td>-0.80</td>\n",
       "      <td>-0.67</td>\n",
       "      <td>0.64</td>\n",
       "      <td>-0.67</td>\n",
       "      <td>-0.67</td>\n",
       "      <td>-0.82</td>\n",
       "      <td>-0.79</td>\n",
       "      <td>-0.64</td>\n",
       "      <td>-0.45</td>\n",
       "      <td>-0.89</td>\n",
       "      <td>-1.11</td>\n",
       "      <td>-0.91</td>\n",
       "      <td>-0.77</td>\n",
       "    </tr>\n",
       "  </tbody>\n",
       "</table>\n",
       "</div>"
      ],
      "text/plain": [
       "           player  season       team  goals_z  xg_z  crosses_z  boxtouches_z  \\\n",
       "0  Cristian Pavón    2018  Argentina    -0.42 -0.55       0.08         -0.24   \n",
       "1  Eduardo Salvio    2018  Argentina    -0.42 -0.50      -0.51          0.64   \n",
       "2      Enzo Pérez    2018  Argentina    -0.42  0.11      -0.51         -0.69   \n",
       "3  Federico Fazio    2018  Argentina    -0.42 -0.59      -0.51         -0.69   \n",
       "4   Franco Armani    2018  Argentina    -0.42 -0.59      -0.51         -0.80   \n",
       "\n",
       "   passes_z  progpasses_z  takeons_z  progruns_z  tackles_z  interceptions_z  \\\n",
       "0     -0.61         -0.72      -0.05        0.15       0.30            -0.79   \n",
       "1      0.02         -0.46      -0.05        0.48       0.61             0.67   \n",
       "2      0.27         -0.65      -0.36       -0.34       0.35            -0.22   \n",
       "3     -0.97         -0.91      -0.67       -0.84      -0.82            -0.79   \n",
       "4     -0.67          0.64      -0.67       -0.67      -0.82            -0.79   \n",
       "\n",
       "   clearances_z  blocks_z  aerials_z  fouls_z  fouled_z  nsxg_z  \n",
       "0         -0.80     -0.45      -0.23    -0.38     -0.91   -0.58  \n",
       "1          0.32     -0.45       0.21    -1.11      0.68   -0.03  \n",
       "2         -0.80     -0.45      -0.89     0.72      0.04   -0.66  \n",
       "3         -0.64     -0.45       0.21    -1.11     -0.59   -0.77  \n",
       "4         -0.64     -0.45      -0.89    -1.11     -0.91   -0.77  "
      ]
     },
     "execution_count": 3,
     "metadata": {},
     "output_type": "execute_result"
    }
   ],
   "source": [
    "df.head()"
   ]
  },
  {
   "cell_type": "code",
   "execution_count": 4,
   "metadata": {},
   "outputs": [],
   "source": [
    "teams_2022 = ['Qatar', 'Netherlands', 'Senegal', 'Ecuador', 'England',\n",
    "              'USA', 'Wales', 'Iran', 'Argentina', 'Poland', 'Mexico', \n",
    "              'Saudi Arabia', 'France', 'Denmark', 'Tunisia', 'Australia',\n",
    "              'Germany', 'Spain', 'Japan', 'Costa Rica', 'Belgium', 'Croatia', \n",
    "              'Canada', 'Morocco', 'Brazil', 'Switzerland', 'Serbia', 'Cameroon',\n",
    "              'Portugal', 'Uruguay', 'Ghana', 'Korea Republic', 'West Germany']"
   ]
  },
  {
   "cell_type": "code",
   "execution_count": 5,
   "metadata": {},
   "outputs": [],
   "source": [
    "years = [1998, 1994, 1990, 1986, 1982]"
   ]
  },
  {
   "cell_type": "code",
   "execution_count": 6,
   "metadata": {},
   "outputs": [],
   "source": [
    "df = df.loc[df['season'].isin(years)]"
   ]
  },
  {
   "cell_type": "code",
   "execution_count": 7,
   "metadata": {},
   "outputs": [],
   "source": [
    "df = df.loc[df['team'].isin(teams_2022)]"
   ]
  },
  {
   "cell_type": "code",
   "execution_count": 8,
   "metadata": {},
   "outputs": [
    {
     "data": {
      "text/html": [
       "<div>\n",
       "<style scoped>\n",
       "    .dataframe tbody tr th:only-of-type {\n",
       "        vertical-align: middle;\n",
       "    }\n",
       "\n",
       "    .dataframe tbody tr th {\n",
       "        vertical-align: top;\n",
       "    }\n",
       "\n",
       "    .dataframe thead th {\n",
       "        text-align: right;\n",
       "    }\n",
       "</style>\n",
       "<table border=\"1\" class=\"dataframe\">\n",
       "  <thead>\n",
       "    <tr style=\"text-align: right;\">\n",
       "      <th></th>\n",
       "      <th>player</th>\n",
       "      <th>season</th>\n",
       "      <th>team</th>\n",
       "      <th>goals_z</th>\n",
       "      <th>xg_z</th>\n",
       "      <th>crosses_z</th>\n",
       "      <th>boxtouches_z</th>\n",
       "      <th>passes_z</th>\n",
       "      <th>progpasses_z</th>\n",
       "      <th>takeons_z</th>\n",
       "      <th>progruns_z</th>\n",
       "      <th>tackles_z</th>\n",
       "      <th>interceptions_z</th>\n",
       "      <th>clearances_z</th>\n",
       "      <th>blocks_z</th>\n",
       "      <th>aerials_z</th>\n",
       "      <th>fouls_z</th>\n",
       "      <th>fouled_z</th>\n",
       "      <th>nsxg_z</th>\n",
       "    </tr>\n",
       "  </thead>\n",
       "  <tbody>\n",
       "    <tr>\n",
       "      <th>2764</th>\n",
       "      <td>Abel Balbo</td>\n",
       "      <td>1998</td>\n",
       "      <td>Argentina</td>\n",
       "      <td>-0.42</td>\n",
       "      <td>-0.43</td>\n",
       "      <td>-0.66</td>\n",
       "      <td>-0.19</td>\n",
       "      <td>-1.51</td>\n",
       "      <td>-1.20</td>\n",
       "      <td>-0.74</td>\n",
       "      <td>-1.02</td>\n",
       "      <td>-0.72</td>\n",
       "      <td>-0.77</td>\n",
       "      <td>-0.73</td>\n",
       "      <td>-0.54</td>\n",
       "      <td>-0.51</td>\n",
       "      <td>-1.15</td>\n",
       "      <td>-0.87</td>\n",
       "      <td>-0.58</td>\n",
       "    </tr>\n",
       "    <tr>\n",
       "      <th>2765</th>\n",
       "      <td>Ariel Ortega</td>\n",
       "      <td>1998</td>\n",
       "      <td>Argentina</td>\n",
       "      <td>1.90</td>\n",
       "      <td>1.07</td>\n",
       "      <td>0.78</td>\n",
       "      <td>1.56</td>\n",
       "      <td>1.10</td>\n",
       "      <td>0.44</td>\n",
       "      <td>6.01</td>\n",
       "      <td>2.67</td>\n",
       "      <td>0.13</td>\n",
       "      <td>-0.72</td>\n",
       "      <td>-0.66</td>\n",
       "      <td>-0.54</td>\n",
       "      <td>-0.75</td>\n",
       "      <td>0.35</td>\n",
       "      <td>6.05</td>\n",
       "      <td>4.32</td>\n",
       "    </tr>\n",
       "    <tr>\n",
       "      <th>2766</th>\n",
       "      <td>Carlos Roa</td>\n",
       "      <td>1998</td>\n",
       "      <td>Argentina</td>\n",
       "      <td>-0.42</td>\n",
       "      <td>-0.68</td>\n",
       "      <td>-0.66</td>\n",
       "      <td>-0.74</td>\n",
       "      <td>-0.35</td>\n",
       "      <td>1.08</td>\n",
       "      <td>-0.74</td>\n",
       "      <td>-1.02</td>\n",
       "      <td>-0.99</td>\n",
       "      <td>-1.03</td>\n",
       "      <td>-0.66</td>\n",
       "      <td>-0.54</td>\n",
       "      <td>-0.75</td>\n",
       "      <td>-1.15</td>\n",
       "      <td>-0.44</td>\n",
       "      <td>-0.90</td>\n",
       "    </tr>\n",
       "    <tr>\n",
       "      <th>2767</th>\n",
       "      <td>Claudio Lopez</td>\n",
       "      <td>1998</td>\n",
       "      <td>Argentina</td>\n",
       "      <td>0.74</td>\n",
       "      <td>0.46</td>\n",
       "      <td>0.42</td>\n",
       "      <td>1.56</td>\n",
       "      <td>-0.69</td>\n",
       "      <td>-0.84</td>\n",
       "      <td>0.34</td>\n",
       "      <td>0.43</td>\n",
       "      <td>-0.62</td>\n",
       "      <td>-0.78</td>\n",
       "      <td>-0.66</td>\n",
       "      <td>-0.54</td>\n",
       "      <td>-0.75</td>\n",
       "      <td>0.35</td>\n",
       "      <td>-0.87</td>\n",
       "      <td>0.70</td>\n",
       "    </tr>\n",
       "    <tr>\n",
       "      <th>2768</th>\n",
       "      <td>Diego Simeone</td>\n",
       "      <td>1998</td>\n",
       "      <td>Argentina</td>\n",
       "      <td>-0.42</td>\n",
       "      <td>0.70</td>\n",
       "      <td>0.06</td>\n",
       "      <td>1.24</td>\n",
       "      <td>1.19</td>\n",
       "      <td>0.59</td>\n",
       "      <td>0.34</td>\n",
       "      <td>-0.09</td>\n",
       "      <td>0.80</td>\n",
       "      <td>-0.17</td>\n",
       "      <td>0.00</td>\n",
       "      <td>0.85</td>\n",
       "      <td>-0.05</td>\n",
       "      <td>0.14</td>\n",
       "      <td>1.08</td>\n",
       "      <td>0.81</td>\n",
       "    </tr>\n",
       "  </tbody>\n",
       "</table>\n",
       "</div>"
      ],
      "text/plain": [
       "             player  season       team  goals_z  xg_z  crosses_z  \\\n",
       "2764     Abel Balbo    1998  Argentina    -0.42 -0.43      -0.66   \n",
       "2765   Ariel Ortega    1998  Argentina     1.90  1.07       0.78   \n",
       "2766     Carlos Roa    1998  Argentina    -0.42 -0.68      -0.66   \n",
       "2767  Claudio Lopez    1998  Argentina     0.74  0.46       0.42   \n",
       "2768  Diego Simeone    1998  Argentina    -0.42  0.70       0.06   \n",
       "\n",
       "      boxtouches_z  passes_z  progpasses_z  takeons_z  progruns_z  tackles_z  \\\n",
       "2764         -0.19     -1.51         -1.20      -0.74       -1.02      -0.72   \n",
       "2765          1.56      1.10          0.44       6.01        2.67       0.13   \n",
       "2766         -0.74     -0.35          1.08      -0.74       -1.02      -0.99   \n",
       "2767          1.56     -0.69         -0.84       0.34        0.43      -0.62   \n",
       "2768          1.24      1.19          0.59       0.34       -0.09       0.80   \n",
       "\n",
       "      interceptions_z  clearances_z  blocks_z  aerials_z  fouls_z  fouled_z  \\\n",
       "2764            -0.77         -0.73     -0.54      -0.51    -1.15     -0.87   \n",
       "2765            -0.72         -0.66     -0.54      -0.75     0.35      6.05   \n",
       "2766            -1.03         -0.66     -0.54      -0.75    -1.15     -0.44   \n",
       "2767            -0.78         -0.66     -0.54      -0.75     0.35     -0.87   \n",
       "2768            -0.17          0.00      0.85      -0.05     0.14      1.08   \n",
       "\n",
       "      nsxg_z  \n",
       "2764   -0.58  \n",
       "2765    4.32  \n",
       "2766   -0.90  \n",
       "2767    0.70  \n",
       "2768    0.81  "
      ]
     },
     "execution_count": 8,
     "metadata": {},
     "output_type": "execute_result"
    }
   ],
   "source": [
    "df.head()"
   ]
  },
  {
   "cell_type": "code",
   "execution_count": 9,
   "metadata": {},
   "outputs": [],
   "source": [
    "df = df.drop(columns = ['player'])\n"
   ]
  },
  {
   "cell_type": "code",
   "execution_count": 10,
   "metadata": {},
   "outputs": [
    {
     "data": {
      "text/html": [
       "<div>\n",
       "<style scoped>\n",
       "    .dataframe tbody tr th:only-of-type {\n",
       "        vertical-align: middle;\n",
       "    }\n",
       "\n",
       "    .dataframe tbody tr th {\n",
       "        vertical-align: top;\n",
       "    }\n",
       "\n",
       "    .dataframe thead th {\n",
       "        text-align: right;\n",
       "    }\n",
       "</style>\n",
       "<table border=\"1\" class=\"dataframe\">\n",
       "  <thead>\n",
       "    <tr style=\"text-align: right;\">\n",
       "      <th></th>\n",
       "      <th>season</th>\n",
       "      <th>team</th>\n",
       "      <th>goals_z</th>\n",
       "      <th>xg_z</th>\n",
       "      <th>crosses_z</th>\n",
       "      <th>boxtouches_z</th>\n",
       "      <th>passes_z</th>\n",
       "      <th>progpasses_z</th>\n",
       "      <th>takeons_z</th>\n",
       "      <th>progruns_z</th>\n",
       "      <th>tackles_z</th>\n",
       "      <th>interceptions_z</th>\n",
       "      <th>clearances_z</th>\n",
       "      <th>blocks_z</th>\n",
       "      <th>aerials_z</th>\n",
       "      <th>fouls_z</th>\n",
       "      <th>fouled_z</th>\n",
       "      <th>nsxg_z</th>\n",
       "    </tr>\n",
       "  </thead>\n",
       "  <tbody>\n",
       "    <tr>\n",
       "      <th>2764</th>\n",
       "      <td>1998</td>\n",
       "      <td>Argentina</td>\n",
       "      <td>-0.42</td>\n",
       "      <td>-0.43</td>\n",
       "      <td>-0.66</td>\n",
       "      <td>-0.19</td>\n",
       "      <td>-1.51</td>\n",
       "      <td>-1.20</td>\n",
       "      <td>-0.74</td>\n",
       "      <td>-1.02</td>\n",
       "      <td>-0.72</td>\n",
       "      <td>-0.77</td>\n",
       "      <td>-0.73</td>\n",
       "      <td>-0.54</td>\n",
       "      <td>-0.51</td>\n",
       "      <td>-1.15</td>\n",
       "      <td>-0.87</td>\n",
       "      <td>-0.58</td>\n",
       "    </tr>\n",
       "    <tr>\n",
       "      <th>2765</th>\n",
       "      <td>1998</td>\n",
       "      <td>Argentina</td>\n",
       "      <td>1.90</td>\n",
       "      <td>1.07</td>\n",
       "      <td>0.78</td>\n",
       "      <td>1.56</td>\n",
       "      <td>1.10</td>\n",
       "      <td>0.44</td>\n",
       "      <td>6.01</td>\n",
       "      <td>2.67</td>\n",
       "      <td>0.13</td>\n",
       "      <td>-0.72</td>\n",
       "      <td>-0.66</td>\n",
       "      <td>-0.54</td>\n",
       "      <td>-0.75</td>\n",
       "      <td>0.35</td>\n",
       "      <td>6.05</td>\n",
       "      <td>4.32</td>\n",
       "    </tr>\n",
       "    <tr>\n",
       "      <th>2766</th>\n",
       "      <td>1998</td>\n",
       "      <td>Argentina</td>\n",
       "      <td>-0.42</td>\n",
       "      <td>-0.68</td>\n",
       "      <td>-0.66</td>\n",
       "      <td>-0.74</td>\n",
       "      <td>-0.35</td>\n",
       "      <td>1.08</td>\n",
       "      <td>-0.74</td>\n",
       "      <td>-1.02</td>\n",
       "      <td>-0.99</td>\n",
       "      <td>-1.03</td>\n",
       "      <td>-0.66</td>\n",
       "      <td>-0.54</td>\n",
       "      <td>-0.75</td>\n",
       "      <td>-1.15</td>\n",
       "      <td>-0.44</td>\n",
       "      <td>-0.90</td>\n",
       "    </tr>\n",
       "    <tr>\n",
       "      <th>2767</th>\n",
       "      <td>1998</td>\n",
       "      <td>Argentina</td>\n",
       "      <td>0.74</td>\n",
       "      <td>0.46</td>\n",
       "      <td>0.42</td>\n",
       "      <td>1.56</td>\n",
       "      <td>-0.69</td>\n",
       "      <td>-0.84</td>\n",
       "      <td>0.34</td>\n",
       "      <td>0.43</td>\n",
       "      <td>-0.62</td>\n",
       "      <td>-0.78</td>\n",
       "      <td>-0.66</td>\n",
       "      <td>-0.54</td>\n",
       "      <td>-0.75</td>\n",
       "      <td>0.35</td>\n",
       "      <td>-0.87</td>\n",
       "      <td>0.70</td>\n",
       "    </tr>\n",
       "    <tr>\n",
       "      <th>2768</th>\n",
       "      <td>1998</td>\n",
       "      <td>Argentina</td>\n",
       "      <td>-0.42</td>\n",
       "      <td>0.70</td>\n",
       "      <td>0.06</td>\n",
       "      <td>1.24</td>\n",
       "      <td>1.19</td>\n",
       "      <td>0.59</td>\n",
       "      <td>0.34</td>\n",
       "      <td>-0.09</td>\n",
       "      <td>0.80</td>\n",
       "      <td>-0.17</td>\n",
       "      <td>0.00</td>\n",
       "      <td>0.85</td>\n",
       "      <td>-0.05</td>\n",
       "      <td>0.14</td>\n",
       "      <td>1.08</td>\n",
       "      <td>0.81</td>\n",
       "    </tr>\n",
       "    <tr>\n",
       "      <th>...</th>\n",
       "      <td>...</td>\n",
       "      <td>...</td>\n",
       "      <td>...</td>\n",
       "      <td>...</td>\n",
       "      <td>...</td>\n",
       "      <td>...</td>\n",
       "      <td>...</td>\n",
       "      <td>...</td>\n",
       "      <td>...</td>\n",
       "      <td>...</td>\n",
       "      <td>...</td>\n",
       "      <td>...</td>\n",
       "      <td>...</td>\n",
       "      <td>...</td>\n",
       "      <td>...</td>\n",
       "      <td>...</td>\n",
       "      <td>...</td>\n",
       "      <td>...</td>\n",
       "    </tr>\n",
       "    <tr>\n",
       "      <th>4837</th>\n",
       "      <td>1982</td>\n",
       "      <td>West Germany</td>\n",
       "      <td>0.31</td>\n",
       "      <td>0.41</td>\n",
       "      <td>1.17</td>\n",
       "      <td>0.22</td>\n",
       "      <td>1.90</td>\n",
       "      <td>1.27</td>\n",
       "      <td>1.21</td>\n",
       "      <td>2.71</td>\n",
       "      <td>0.41</td>\n",
       "      <td>0.45</td>\n",
       "      <td>-0.60</td>\n",
       "      <td>1.44</td>\n",
       "      <td>-0.38</td>\n",
       "      <td>0.24</td>\n",
       "      <td>0.39</td>\n",
       "      <td>1.60</td>\n",
       "    </tr>\n",
       "    <tr>\n",
       "      <th>4838</th>\n",
       "      <td>1982</td>\n",
       "      <td>West Germany</td>\n",
       "      <td>1.13</td>\n",
       "      <td>0.88</td>\n",
       "      <td>2.69</td>\n",
       "      <td>2.05</td>\n",
       "      <td>-0.06</td>\n",
       "      <td>0.03</td>\n",
       "      <td>2.58</td>\n",
       "      <td>0.56</td>\n",
       "      <td>0.62</td>\n",
       "      <td>-0.61</td>\n",
       "      <td>-0.67</td>\n",
       "      <td>-0.57</td>\n",
       "      <td>-0.65</td>\n",
       "      <td>0.84</td>\n",
       "      <td>1.71</td>\n",
       "      <td>2.77</td>\n",
       "    </tr>\n",
       "    <tr>\n",
       "      <th>4839</th>\n",
       "      <td>1982</td>\n",
       "      <td>West Germany</td>\n",
       "      <td>-0.50</td>\n",
       "      <td>-0.53</td>\n",
       "      <td>-0.35</td>\n",
       "      <td>-0.53</td>\n",
       "      <td>1.82</td>\n",
       "      <td>1.42</td>\n",
       "      <td>0.45</td>\n",
       "      <td>0.49</td>\n",
       "      <td>1.39</td>\n",
       "      <td>1.48</td>\n",
       "      <td>1.50</td>\n",
       "      <td>0.82</td>\n",
       "      <td>-0.11</td>\n",
       "      <td>1.00</td>\n",
       "      <td>0.26</td>\n",
       "      <td>-0.45</td>\n",
       "    </tr>\n",
       "    <tr>\n",
       "      <th>4840</th>\n",
       "      <td>1982</td>\n",
       "      <td>West Germany</td>\n",
       "      <td>0.31</td>\n",
       "      <td>-0.21</td>\n",
       "      <td>-0.60</td>\n",
       "      <td>-0.53</td>\n",
       "      <td>-1.46</td>\n",
       "      <td>-1.28</td>\n",
       "      <td>-0.77</td>\n",
       "      <td>-0.96</td>\n",
       "      <td>-0.73</td>\n",
       "      <td>-0.94</td>\n",
       "      <td>-0.73</td>\n",
       "      <td>-0.57</td>\n",
       "      <td>-0.11</td>\n",
       "      <td>-0.37</td>\n",
       "      <td>-0.14</td>\n",
       "      <td>-0.75</td>\n",
       "    </tr>\n",
       "    <tr>\n",
       "      <th>4841</th>\n",
       "      <td>1982</td>\n",
       "      <td>West Germany</td>\n",
       "      <td>-0.50</td>\n",
       "      <td>0.19</td>\n",
       "      <td>0.16</td>\n",
       "      <td>0.33</td>\n",
       "      <td>1.72</td>\n",
       "      <td>0.44</td>\n",
       "      <td>-0.31</td>\n",
       "      <td>1.44</td>\n",
       "      <td>2.39</td>\n",
       "      <td>1.86</td>\n",
       "      <td>-0.14</td>\n",
       "      <td>1.25</td>\n",
       "      <td>0.16</td>\n",
       "      <td>1.15</td>\n",
       "      <td>1.84</td>\n",
       "      <td>0.72</td>\n",
       "    </tr>\n",
       "  </tbody>\n",
       "</table>\n",
       "<p>1057 rows × 18 columns</p>\n",
       "</div>"
      ],
      "text/plain": [
       "      season          team  goals_z  xg_z  crosses_z  boxtouches_z  passes_z  \\\n",
       "2764    1998     Argentina    -0.42 -0.43      -0.66         -0.19     -1.51   \n",
       "2765    1998     Argentina     1.90  1.07       0.78          1.56      1.10   \n",
       "2766    1998     Argentina    -0.42 -0.68      -0.66         -0.74     -0.35   \n",
       "2767    1998     Argentina     0.74  0.46       0.42          1.56     -0.69   \n",
       "2768    1998     Argentina    -0.42  0.70       0.06          1.24      1.19   \n",
       "...      ...           ...      ...   ...        ...           ...       ...   \n",
       "4837    1982  West Germany     0.31  0.41       1.17          0.22      1.90   \n",
       "4838    1982  West Germany     1.13  0.88       2.69          2.05     -0.06   \n",
       "4839    1982  West Germany    -0.50 -0.53      -0.35         -0.53      1.82   \n",
       "4840    1982  West Germany     0.31 -0.21      -0.60         -0.53     -1.46   \n",
       "4841    1982  West Germany    -0.50  0.19       0.16          0.33      1.72   \n",
       "\n",
       "      progpasses_z  takeons_z  progruns_z  tackles_z  interceptions_z  \\\n",
       "2764         -1.20      -0.74       -1.02      -0.72            -0.77   \n",
       "2765          0.44       6.01        2.67       0.13            -0.72   \n",
       "2766          1.08      -0.74       -1.02      -0.99            -1.03   \n",
       "2767         -0.84       0.34        0.43      -0.62            -0.78   \n",
       "2768          0.59       0.34       -0.09       0.80            -0.17   \n",
       "...            ...        ...         ...        ...              ...   \n",
       "4837          1.27       1.21        2.71       0.41             0.45   \n",
       "4838          0.03       2.58        0.56       0.62            -0.61   \n",
       "4839          1.42       0.45        0.49       1.39             1.48   \n",
       "4840         -1.28      -0.77       -0.96      -0.73            -0.94   \n",
       "4841          0.44      -0.31        1.44       2.39             1.86   \n",
       "\n",
       "      clearances_z  blocks_z  aerials_z  fouls_z  fouled_z  nsxg_z  \n",
       "2764         -0.73     -0.54      -0.51    -1.15     -0.87   -0.58  \n",
       "2765         -0.66     -0.54      -0.75     0.35      6.05    4.32  \n",
       "2766         -0.66     -0.54      -0.75    -1.15     -0.44   -0.90  \n",
       "2767         -0.66     -0.54      -0.75     0.35     -0.87    0.70  \n",
       "2768          0.00      0.85      -0.05     0.14      1.08    0.81  \n",
       "...            ...       ...        ...      ...       ...     ...  \n",
       "4837         -0.60      1.44      -0.38     0.24      0.39    1.60  \n",
       "4838         -0.67     -0.57      -0.65     0.84      1.71    2.77  \n",
       "4839          1.50      0.82      -0.11     1.00      0.26   -0.45  \n",
       "4840         -0.73     -0.57      -0.11    -0.37     -0.14   -0.75  \n",
       "4841         -0.14      1.25       0.16     1.15      1.84    0.72  \n",
       "\n",
       "[1057 rows x 18 columns]"
      ]
     },
     "execution_count": 10,
     "metadata": {},
     "output_type": "execute_result"
    }
   ],
   "source": [
    "df"
   ]
  },
  {
   "cell_type": "code",
   "execution_count": 11,
   "metadata": {},
   "outputs": [],
   "source": [
    "year1998 = [1998]\n",
    "year1994 = [1994]\n",
    "year1990 = [1990]\n",
    "year1986 = [1986]\n",
    "year1982 = [1982]"
   ]
  },
  {
   "cell_type": "markdown",
   "metadata": {},
   "source": [
    "# Germany 1998"
   ]
  },
  {
   "cell_type": "code",
   "execution_count": null,
   "metadata": {},
   "outputs": [],
   "source": []
  },
  {
   "cell_type": "code",
   "execution_count": 12,
   "metadata": {},
   "outputs": [],
   "source": [
    "ger = [\"Germany\"]"
   ]
  },
  {
   "cell_type": "code",
   "execution_count": 13,
   "metadata": {},
   "outputs": [],
   "source": [
    "ger_year = df.loc[df[\"team\"].isin(ger)]"
   ]
  },
  {
   "cell_type": "code",
   "execution_count": 14,
   "metadata": {},
   "outputs": [],
   "source": [
    "ger98year = ger_year.loc[ger_year[\"season\"].isin(year1998)]"
   ]
  },
  {
   "cell_type": "code",
   "execution_count": 15,
   "metadata": {},
   "outputs": [],
   "source": [
    "ger98xg = ger98year.sort_values(by=[\"goals_z\"], ascending=False)"
   ]
  },
  {
   "cell_type": "code",
   "execution_count": 16,
   "metadata": {},
   "outputs": [],
   "source": [
    "ger98xg13 = ger98xg.head(13)"
   ]
  },
  {
   "cell_type": "code",
   "execution_count": 17,
   "metadata": {},
   "outputs": [
    {
     "data": {
      "text/html": [
       "<div>\n",
       "<style scoped>\n",
       "    .dataframe tbody tr th:only-of-type {\n",
       "        vertical-align: middle;\n",
       "    }\n",
       "\n",
       "    .dataframe tbody tr th {\n",
       "        vertical-align: top;\n",
       "    }\n",
       "\n",
       "    .dataframe thead th {\n",
       "        text-align: right;\n",
       "    }\n",
       "</style>\n",
       "<table border=\"1\" class=\"dataframe\">\n",
       "  <thead>\n",
       "    <tr style=\"text-align: right;\">\n",
       "      <th></th>\n",
       "      <th>season</th>\n",
       "      <th>team</th>\n",
       "      <th>goals_z</th>\n",
       "      <th>xg_z</th>\n",
       "      <th>crosses_z</th>\n",
       "      <th>boxtouches_z</th>\n",
       "      <th>passes_z</th>\n",
       "      <th>progpasses_z</th>\n",
       "      <th>takeons_z</th>\n",
       "      <th>progruns_z</th>\n",
       "      <th>tackles_z</th>\n",
       "      <th>interceptions_z</th>\n",
       "      <th>clearances_z</th>\n",
       "      <th>blocks_z</th>\n",
       "      <th>aerials_z</th>\n",
       "      <th>fouls_z</th>\n",
       "      <th>fouled_z</th>\n",
       "      <th>nsxg_z</th>\n",
       "    </tr>\n",
       "  </thead>\n",
       "  <tbody>\n",
       "    <tr>\n",
       "      <th>2976</th>\n",
       "      <td>1998</td>\n",
       "      <td>Germany</td>\n",
       "      <td>3.29</td>\n",
       "      <td>4.18</td>\n",
       "      <td>-0.27</td>\n",
       "      <td>7.39</td>\n",
       "      <td>-0.38</td>\n",
       "      <td>-0.81</td>\n",
       "      <td>-0.74</td>\n",
       "      <td>-0.59</td>\n",
       "      <td>-0.15</td>\n",
       "      <td>-0.20</td>\n",
       "      <td>-0.26</td>\n",
       "      <td>-0.54</td>\n",
       "      <td>1.98</td>\n",
       "      <td>1.83</td>\n",
       "      <td>1.68</td>\n",
       "      <td>0.97</td>\n",
       "    </tr>\n",
       "    <tr>\n",
       "      <th>2970</th>\n",
       "      <td>1998</td>\n",
       "      <td>Germany</td>\n",
       "      <td>3.29</td>\n",
       "      <td>1.37</td>\n",
       "      <td>-0.66</td>\n",
       "      <td>3.07</td>\n",
       "      <td>0.05</td>\n",
       "      <td>-0.97</td>\n",
       "      <td>-0.45</td>\n",
       "      <td>-0.59</td>\n",
       "      <td>-0.99</td>\n",
       "      <td>-0.52</td>\n",
       "      <td>-0.26</td>\n",
       "      <td>0.39</td>\n",
       "      <td>1.23</td>\n",
       "      <td>-0.23</td>\n",
       "      <td>0.76</td>\n",
       "      <td>0.88</td>\n",
       "    </tr>\n",
       "    <tr>\n",
       "      <th>2964</th>\n",
       "      <td>1998</td>\n",
       "      <td>Germany</td>\n",
       "      <td>0.81</td>\n",
       "      <td>0.01</td>\n",
       "      <td>0.11</td>\n",
       "      <td>-0.49</td>\n",
       "      <td>-0.12</td>\n",
       "      <td>-0.59</td>\n",
       "      <td>-0.45</td>\n",
       "      <td>-0.03</td>\n",
       "      <td>-0.49</td>\n",
       "      <td>-0.50</td>\n",
       "      <td>-0.73</td>\n",
       "      <td>-0.54</td>\n",
       "      <td>-0.75</td>\n",
       "      <td>-1.15</td>\n",
       "      <td>-0.16</td>\n",
       "      <td>-0.14</td>\n",
       "    </tr>\n",
       "    <tr>\n",
       "      <th>2963</th>\n",
       "      <td>1998</td>\n",
       "      <td>Germany</td>\n",
       "      <td>-0.42</td>\n",
       "      <td>-0.68</td>\n",
       "      <td>-0.66</td>\n",
       "      <td>-0.74</td>\n",
       "      <td>-0.23</td>\n",
       "      <td>1.35</td>\n",
       "      <td>-0.74</td>\n",
       "      <td>-1.02</td>\n",
       "      <td>-0.41</td>\n",
       "      <td>-1.03</td>\n",
       "      <td>-0.42</td>\n",
       "      <td>-0.54</td>\n",
       "      <td>-0.50</td>\n",
       "      <td>-1.15</td>\n",
       "      <td>-1.08</td>\n",
       "      <td>-0.81</td>\n",
       "    </tr>\n",
       "    <tr>\n",
       "      <th>2973</th>\n",
       "      <td>1998</td>\n",
       "      <td>Germany</td>\n",
       "      <td>-0.42</td>\n",
       "      <td>-0.68</td>\n",
       "      <td>-0.66</td>\n",
       "      <td>-0.74</td>\n",
       "      <td>-1.18</td>\n",
       "      <td>-0.81</td>\n",
       "      <td>-0.74</td>\n",
       "      <td>-1.02</td>\n",
       "      <td>-0.77</td>\n",
       "      <td>-0.61</td>\n",
       "      <td>-0.50</td>\n",
       "      <td>-0.54</td>\n",
       "      <td>-0.75</td>\n",
       "      <td>-1.15</td>\n",
       "      <td>-0.85</td>\n",
       "      <td>-0.70</td>\n",
       "    </tr>\n",
       "    <tr>\n",
       "      <th>2979</th>\n",
       "      <td>1998</td>\n",
       "      <td>Germany</td>\n",
       "      <td>-0.42</td>\n",
       "      <td>-0.05</td>\n",
       "      <td>2.40</td>\n",
       "      <td>0.70</td>\n",
       "      <td>-0.10</td>\n",
       "      <td>-0.17</td>\n",
       "      <td>-0.45</td>\n",
       "      <td>0.25</td>\n",
       "      <td>0.17</td>\n",
       "      <td>0.31</td>\n",
       "      <td>-0.58</td>\n",
       "      <td>0.18</td>\n",
       "      <td>-0.25</td>\n",
       "      <td>0.45</td>\n",
       "      <td>0.53</td>\n",
       "      <td>2.52</td>\n",
       "    </tr>\n",
       "    <tr>\n",
       "      <th>2978</th>\n",
       "      <td>1998</td>\n",
       "      <td>Germany</td>\n",
       "      <td>-0.42</td>\n",
       "      <td>-0.68</td>\n",
       "      <td>-0.66</td>\n",
       "      <td>-0.57</td>\n",
       "      <td>-0.64</td>\n",
       "      <td>-0.85</td>\n",
       "      <td>-0.74</td>\n",
       "      <td>-0.31</td>\n",
       "      <td>0.13</td>\n",
       "      <td>1.18</td>\n",
       "      <td>-0.50</td>\n",
       "      <td>-0.54</td>\n",
       "      <td>-0.50</td>\n",
       "      <td>-1.15</td>\n",
       "      <td>-1.08</td>\n",
       "      <td>-0.68</td>\n",
       "    </tr>\n",
       "    <tr>\n",
       "      <th>2977</th>\n",
       "      <td>1998</td>\n",
       "      <td>Germany</td>\n",
       "      <td>-0.42</td>\n",
       "      <td>-0.68</td>\n",
       "      <td>-0.27</td>\n",
       "      <td>-0.74</td>\n",
       "      <td>-1.00</td>\n",
       "      <td>-0.70</td>\n",
       "      <td>-0.74</td>\n",
       "      <td>-0.74</td>\n",
       "      <td>-0.99</td>\n",
       "      <td>-0.52</td>\n",
       "      <td>-0.58</td>\n",
       "      <td>-0.54</td>\n",
       "      <td>-0.50</td>\n",
       "      <td>-0.69</td>\n",
       "      <td>-1.08</td>\n",
       "      <td>-0.74</td>\n",
       "    </tr>\n",
       "    <tr>\n",
       "      <th>2975</th>\n",
       "      <td>1998</td>\n",
       "      <td>Germany</td>\n",
       "      <td>-0.42</td>\n",
       "      <td>-0.55</td>\n",
       "      <td>0.49</td>\n",
       "      <td>-0.57</td>\n",
       "      <td>0.49</td>\n",
       "      <td>-0.40</td>\n",
       "      <td>-0.74</td>\n",
       "      <td>0.11</td>\n",
       "      <td>-0.41</td>\n",
       "      <td>0.55</td>\n",
       "      <td>0.37</td>\n",
       "      <td>-0.54</td>\n",
       "      <td>-0.25</td>\n",
       "      <td>-0.46</td>\n",
       "      <td>-0.62</td>\n",
       "      <td>0.25</td>\n",
       "    </tr>\n",
       "    <tr>\n",
       "      <th>2974</th>\n",
       "      <td>1998</td>\n",
       "      <td>Germany</td>\n",
       "      <td>-0.42</td>\n",
       "      <td>0.01</td>\n",
       "      <td>5.08</td>\n",
       "      <td>-0.57</td>\n",
       "      <td>0.58</td>\n",
       "      <td>1.28</td>\n",
       "      <td>0.70</td>\n",
       "      <td>-0.03</td>\n",
       "      <td>1.62</td>\n",
       "      <td>1.77</td>\n",
       "      <td>-0.26</td>\n",
       "      <td>-0.54</td>\n",
       "      <td>-0.25</td>\n",
       "      <td>0.45</td>\n",
       "      <td>-0.62</td>\n",
       "      <td>2.74</td>\n",
       "    </tr>\n",
       "    <tr>\n",
       "      <th>2972</th>\n",
       "      <td>1998</td>\n",
       "      <td>Germany</td>\n",
       "      <td>-0.42</td>\n",
       "      <td>-0.23</td>\n",
       "      <td>-0.27</td>\n",
       "      <td>-0.66</td>\n",
       "      <td>1.58</td>\n",
       "      <td>1.05</td>\n",
       "      <td>-0.74</td>\n",
       "      <td>1.37</td>\n",
       "      <td>1.66</td>\n",
       "      <td>0.61</td>\n",
       "      <td>0.37</td>\n",
       "      <td>2.07</td>\n",
       "      <td>-0.75</td>\n",
       "      <td>1.14</td>\n",
       "      <td>0.30</td>\n",
       "      <td>0.61</td>\n",
       "    </tr>\n",
       "    <tr>\n",
       "      <th>2971</th>\n",
       "      <td>1998</td>\n",
       "      <td>Germany</td>\n",
       "      <td>-0.42</td>\n",
       "      <td>-0.47</td>\n",
       "      <td>0.11</td>\n",
       "      <td>-0.49</td>\n",
       "      <td>0.58</td>\n",
       "      <td>0.21</td>\n",
       "      <td>-0.45</td>\n",
       "      <td>-0.03</td>\n",
       "      <td>1.28</td>\n",
       "      <td>1.70</td>\n",
       "      <td>1.15</td>\n",
       "      <td>-0.54</td>\n",
       "      <td>0.74</td>\n",
       "      <td>-0.23</td>\n",
       "      <td>0.07</td>\n",
       "      <td>0.16</td>\n",
       "    </tr>\n",
       "    <tr>\n",
       "      <th>2969</th>\n",
       "      <td>1998</td>\n",
       "      <td>Germany</td>\n",
       "      <td>-0.42</td>\n",
       "      <td>-0.28</td>\n",
       "      <td>2.40</td>\n",
       "      <td>0.78</td>\n",
       "      <td>1.55</td>\n",
       "      <td>2.34</td>\n",
       "      <td>0.13</td>\n",
       "      <td>0.67</td>\n",
       "      <td>0.61</td>\n",
       "      <td>0.87</td>\n",
       "      <td>0.21</td>\n",
       "      <td>-0.54</td>\n",
       "      <td>0.99</td>\n",
       "      <td>0.45</td>\n",
       "      <td>1.68</td>\n",
       "      <td>1.28</td>\n",
       "    </tr>\n",
       "  </tbody>\n",
       "</table>\n",
       "</div>"
      ],
      "text/plain": [
       "      season     team  goals_z  xg_z  crosses_z  boxtouches_z  passes_z  \\\n",
       "2976    1998  Germany     3.29  4.18      -0.27          7.39     -0.38   \n",
       "2970    1998  Germany     3.29  1.37      -0.66          3.07      0.05   \n",
       "2964    1998  Germany     0.81  0.01       0.11         -0.49     -0.12   \n",
       "2963    1998  Germany    -0.42 -0.68      -0.66         -0.74     -0.23   \n",
       "2973    1998  Germany    -0.42 -0.68      -0.66         -0.74     -1.18   \n",
       "2979    1998  Germany    -0.42 -0.05       2.40          0.70     -0.10   \n",
       "2978    1998  Germany    -0.42 -0.68      -0.66         -0.57     -0.64   \n",
       "2977    1998  Germany    -0.42 -0.68      -0.27         -0.74     -1.00   \n",
       "2975    1998  Germany    -0.42 -0.55       0.49         -0.57      0.49   \n",
       "2974    1998  Germany    -0.42  0.01       5.08         -0.57      0.58   \n",
       "2972    1998  Germany    -0.42 -0.23      -0.27         -0.66      1.58   \n",
       "2971    1998  Germany    -0.42 -0.47       0.11         -0.49      0.58   \n",
       "2969    1998  Germany    -0.42 -0.28       2.40          0.78      1.55   \n",
       "\n",
       "      progpasses_z  takeons_z  progruns_z  tackles_z  interceptions_z  \\\n",
       "2976         -0.81      -0.74       -0.59      -0.15            -0.20   \n",
       "2970         -0.97      -0.45       -0.59      -0.99            -0.52   \n",
       "2964         -0.59      -0.45       -0.03      -0.49            -0.50   \n",
       "2963          1.35      -0.74       -1.02      -0.41            -1.03   \n",
       "2973         -0.81      -0.74       -1.02      -0.77            -0.61   \n",
       "2979         -0.17      -0.45        0.25       0.17             0.31   \n",
       "2978         -0.85      -0.74       -0.31       0.13             1.18   \n",
       "2977         -0.70      -0.74       -0.74      -0.99            -0.52   \n",
       "2975         -0.40      -0.74        0.11      -0.41             0.55   \n",
       "2974          1.28       0.70       -0.03       1.62             1.77   \n",
       "2972          1.05      -0.74        1.37       1.66             0.61   \n",
       "2971          0.21      -0.45       -0.03       1.28             1.70   \n",
       "2969          2.34       0.13        0.67       0.61             0.87   \n",
       "\n",
       "      clearances_z  blocks_z  aerials_z  fouls_z  fouled_z  nsxg_z  \n",
       "2976         -0.26     -0.54       1.98     1.83      1.68    0.97  \n",
       "2970         -0.26      0.39       1.23    -0.23      0.76    0.88  \n",
       "2964         -0.73     -0.54      -0.75    -1.15     -0.16   -0.14  \n",
       "2963         -0.42     -0.54      -0.50    -1.15     -1.08   -0.81  \n",
       "2973         -0.50     -0.54      -0.75    -1.15     -0.85   -0.70  \n",
       "2979         -0.58      0.18      -0.25     0.45      0.53    2.52  \n",
       "2978         -0.50     -0.54      -0.50    -1.15     -1.08   -0.68  \n",
       "2977         -0.58     -0.54      -0.50    -0.69     -1.08   -0.74  \n",
       "2975          0.37     -0.54      -0.25    -0.46     -0.62    0.25  \n",
       "2974         -0.26     -0.54      -0.25     0.45     -0.62    2.74  \n",
       "2972          0.37      2.07      -0.75     1.14      0.30    0.61  \n",
       "2971          1.15     -0.54       0.74    -0.23      0.07    0.16  \n",
       "2969          0.21     -0.54       0.99     0.45      1.68    1.28  "
      ]
     },
     "execution_count": 17,
     "metadata": {},
     "output_type": "execute_result"
    }
   ],
   "source": [
    "ger98xg13"
   ]
  },
  {
   "cell_type": "code",
   "execution_count": 18,
   "metadata": {},
   "outputs": [],
   "source": [
    "ger98xg13 = ger98xg13.drop(columns=['season', 'team'])\n"
   ]
  },
  {
   "cell_type": "code",
   "execution_count": 19,
   "metadata": {},
   "outputs": [],
   "source": [
    "ger98 = ger98xg13.mean()"
   ]
  },
  {
   "cell_type": "code",
   "execution_count": 20,
   "metadata": {},
   "outputs": [
    {
     "data": {
      "text/plain": [
       "goals_z            0.245385\n",
       "xg_z               0.097692\n",
       "crosses_z          0.549231\n",
       "boxtouches_z       0.490000\n",
       "passes_z           0.090769\n",
       "progpasses_z       0.071538\n",
       "takeons_z         -0.473077\n",
       "progruns_z        -0.150769\n",
       "tackles_z          0.096923\n",
       "interceptions_z    0.277692\n",
       "clearances_z      -0.153077\n",
       "blocks_z          -0.212308\n",
       "aerials_z          0.033846\n",
       "fouls_z           -0.145385\n",
       "fouled_z          -0.036154\n",
       "nsxg_z             0.487692\n",
       "dtype: float64"
      ]
     },
     "execution_count": 20,
     "metadata": {},
     "output_type": "execute_result"
    }
   ],
   "source": [
    "ger98"
   ]
  },
  {
   "cell_type": "code",
   "execution_count": 21,
   "metadata": {},
   "outputs": [
    {
     "data": {
      "text/plain": [
       "0.24538461538461548"
      ]
     },
     "execution_count": 21,
     "metadata": {},
     "output_type": "execute_result"
    }
   ],
   "source": [
    "ger98[0]"
   ]
  },
  {
   "cell_type": "markdown",
   "metadata": {},
   "source": [
    "# Germany 1994"
   ]
  },
  {
   "cell_type": "code",
   "execution_count": 22,
   "metadata": {},
   "outputs": [],
   "source": [
    "ger94year = ger_year.loc[ger_year[\"season\"].isin(year1994)]"
   ]
  },
  {
   "cell_type": "code",
   "execution_count": 23,
   "metadata": {},
   "outputs": [],
   "source": [
    "ger94xg = ger94year.sort_values(by=[\"goals_z\"], ascending=False)"
   ]
  },
  {
   "cell_type": "code",
   "execution_count": 24,
   "metadata": {},
   "outputs": [],
   "source": [
    "ger94xg13 = ger94xg.head(13)"
   ]
  },
  {
   "cell_type": "code",
   "execution_count": 25,
   "metadata": {},
   "outputs": [],
   "source": [
    "ger94xg13 = ger94xg13.drop(columns=['season', 'team'])\n"
   ]
  },
  {
   "cell_type": "code",
   "execution_count": 26,
   "metadata": {},
   "outputs": [],
   "source": [
    "ger94 = ger94xg13.mean()"
   ]
  },
  {
   "cell_type": "code",
   "execution_count": 27,
   "metadata": {},
   "outputs": [
    {
     "data": {
      "text/plain": [
       "goals_z            0.337692\n",
       "xg_z               0.270000\n",
       "crosses_z          0.292308\n",
       "boxtouches_z       0.281538\n",
       "passes_z           0.065385\n",
       "progpasses_z      -0.142308\n",
       "takeons_z         -0.076923\n",
       "progruns_z         0.430000\n",
       "tackles_z          0.688462\n",
       "interceptions_z    0.002308\n",
       "clearances_z       0.020769\n",
       "blocks_z           0.165385\n",
       "aerials_z         -0.075385\n",
       "fouls_z            0.193077\n",
       "fouled_z           0.087692\n",
       "nsxg_z             0.393846\n",
       "dtype: float64"
      ]
     },
     "execution_count": 27,
     "metadata": {},
     "output_type": "execute_result"
    }
   ],
   "source": [
    "ger94"
   ]
  },
  {
   "cell_type": "markdown",
   "metadata": {},
   "source": [
    "# Germany 1990"
   ]
  },
  {
   "cell_type": "code",
   "execution_count": 28,
   "metadata": {},
   "outputs": [],
   "source": [
    "ger = [\"West Germany\"]"
   ]
  },
  {
   "cell_type": "code",
   "execution_count": 29,
   "metadata": {},
   "outputs": [],
   "source": [
    "ger_year = df.loc[df[\"team\"].isin(ger)]"
   ]
  },
  {
   "cell_type": "code",
   "execution_count": 30,
   "metadata": {},
   "outputs": [],
   "source": [
    "ger90year = ger_year.loc[ger_year[\"season\"].isin(year1990)]"
   ]
  },
  {
   "cell_type": "code",
   "execution_count": 31,
   "metadata": {},
   "outputs": [],
   "source": [
    "ger90xg = ger90year.sort_values(by=[\"goals_z\"], ascending=False)"
   ]
  },
  {
   "cell_type": "code",
   "execution_count": 32,
   "metadata": {},
   "outputs": [],
   "source": [
    "ger90xg13 = ger90xg.head(13)"
   ]
  },
  {
   "cell_type": "code",
   "execution_count": 33,
   "metadata": {},
   "outputs": [],
   "source": [
    "ger90xg13 = ger90xg13.drop(columns=['season', 'team'])\n"
   ]
  },
  {
   "cell_type": "code",
   "execution_count": 34,
   "metadata": {},
   "outputs": [],
   "source": [
    "ger90 = ger90xg13.mean()"
   ]
  },
  {
   "cell_type": "code",
   "execution_count": 35,
   "metadata": {},
   "outputs": [
    {
     "data": {
      "text/plain": [
       "goals_z            0.673077\n",
       "xg_z               0.642308\n",
       "crosses_z          0.502308\n",
       "boxtouches_z       0.277692\n",
       "passes_z           0.310000\n",
       "progpasses_z       0.146923\n",
       "takeons_z          0.153077\n",
       "progruns_z         0.081538\n",
       "tackles_z          0.814615\n",
       "interceptions_z    0.464615\n",
       "clearances_z      -0.150769\n",
       "blocks_z          -0.007692\n",
       "aerials_z         -0.060769\n",
       "fouls_z           -0.220000\n",
       "fouled_z           0.006154\n",
       "nsxg_z             0.387692\n",
       "dtype: float64"
      ]
     },
     "execution_count": 35,
     "metadata": {},
     "output_type": "execute_result"
    }
   ],
   "source": [
    "ger90"
   ]
  },
  {
   "cell_type": "markdown",
   "metadata": {},
   "source": [
    "# Germany 1986"
   ]
  },
  {
   "cell_type": "code",
   "execution_count": 36,
   "metadata": {},
   "outputs": [],
   "source": [
    "ger86year = ger_year.loc[ger_year[\"season\"].isin(year1986)]"
   ]
  },
  {
   "cell_type": "code",
   "execution_count": 37,
   "metadata": {},
   "outputs": [],
   "source": [
    "ger86xg = ger86year.sort_values(by=[\"goals_z\"], ascending=False)"
   ]
  },
  {
   "cell_type": "code",
   "execution_count": 38,
   "metadata": {},
   "outputs": [],
   "source": [
    "ger86xg13 = ger86xg.head(13)"
   ]
  },
  {
   "cell_type": "code",
   "execution_count": 39,
   "metadata": {},
   "outputs": [],
   "source": [
    "ger86xg13 = ger86xg13.drop(columns=['season', 'team'])\n"
   ]
  },
  {
   "cell_type": "code",
   "execution_count": 40,
   "metadata": {},
   "outputs": [],
   "source": [
    "ger86 = ger86xg13.mean()"
   ]
  },
  {
   "cell_type": "code",
   "execution_count": 41,
   "metadata": {},
   "outputs": [
    {
     "data": {
      "text/plain": [
       "goals_z            0.114615\n",
       "xg_z               0.155385\n",
       "crosses_z          0.271538\n",
       "boxtouches_z       0.330769\n",
       "passes_z          -0.015385\n",
       "progpasses_z       0.028462\n",
       "takeons_z          0.128462\n",
       "progruns_z         0.109231\n",
       "tackles_z          0.130769\n",
       "interceptions_z    0.056923\n",
       "clearances_z      -0.232308\n",
       "blocks_z          -0.146923\n",
       "aerials_z         -0.023077\n",
       "fouls_z            0.078462\n",
       "fouled_z           0.532308\n",
       "nsxg_z             0.140769\n",
       "dtype: float64"
      ]
     },
     "execution_count": 41,
     "metadata": {},
     "output_type": "execute_result"
    }
   ],
   "source": [
    "ger86"
   ]
  },
  {
   "cell_type": "markdown",
   "metadata": {},
   "source": [
    "# Germany 1982"
   ]
  },
  {
   "cell_type": "code",
   "execution_count": 42,
   "metadata": {},
   "outputs": [],
   "source": [
    "ger82year = ger_year.loc[ger_year[\"season\"].isin(year1982)]"
   ]
  },
  {
   "cell_type": "code",
   "execution_count": 43,
   "metadata": {},
   "outputs": [],
   "source": [
    "ger82xg = ger82year.sort_values(by=[\"goals_z\"], ascending=False)"
   ]
  },
  {
   "cell_type": "code",
   "execution_count": 44,
   "metadata": {},
   "outputs": [],
   "source": [
    "ger82xg13 = ger82xg.head(13)"
   ]
  },
  {
   "cell_type": "code",
   "execution_count": 45,
   "metadata": {},
   "outputs": [],
   "source": [
    "ger82xg13 = ger82xg13.drop(columns=['season', 'team'])\n"
   ]
  },
  {
   "cell_type": "code",
   "execution_count": 46,
   "metadata": {},
   "outputs": [],
   "source": [
    "ger82 = ger82xg13.mean()"
   ]
  },
  {
   "cell_type": "code",
   "execution_count": 47,
   "metadata": {},
   "outputs": [
    {
     "data": {
      "text/plain": [
       "goals_z            0.250769\n",
       "xg_z               0.222308\n",
       "crosses_z          0.003077\n",
       "boxtouches_z       0.405385\n",
       "passes_z          -0.270000\n",
       "progpasses_z      -0.150000\n",
       "takeons_z          0.110000\n",
       "progruns_z        -0.088462\n",
       "tackles_z          0.006154\n",
       "interceptions_z   -0.210769\n",
       "clearances_z      -0.257692\n",
       "blocks_z          -0.124615\n",
       "aerials_z         -0.004615\n",
       "fouls_z            0.013077\n",
       "fouled_z           0.054615\n",
       "nsxg_z             0.177692\n",
       "dtype: float64"
      ]
     },
     "execution_count": 47,
     "metadata": {},
     "output_type": "execute_result"
    }
   ],
   "source": [
    "ger82"
   ]
  },
  {
   "cell_type": "code",
   "execution_count": 48,
   "metadata": {},
   "outputs": [],
   "source": [
    "ger = pd.concat([ger98, ger94, ger90, ger86, ger82], axis=1).T"
   ]
  },
  {
   "cell_type": "markdown",
   "metadata": {},
   "source": [
    "## Export Transposed Germany df as csv and update"
   ]
  },
  {
   "cell_type": "code",
   "execution_count": 49,
   "metadata": {},
   "outputs": [
    {
     "data": {
      "text/html": [
       "<div>\n",
       "<style scoped>\n",
       "    .dataframe tbody tr th:only-of-type {\n",
       "        vertical-align: middle;\n",
       "    }\n",
       "\n",
       "    .dataframe tbody tr th {\n",
       "        vertical-align: top;\n",
       "    }\n",
       "\n",
       "    .dataframe thead th {\n",
       "        text-align: right;\n",
       "    }\n",
       "</style>\n",
       "<table border=\"1\" class=\"dataframe\">\n",
       "  <thead>\n",
       "    <tr style=\"text-align: right;\">\n",
       "      <th></th>\n",
       "      <th>goals_z</th>\n",
       "      <th>xg_z</th>\n",
       "      <th>crosses_z</th>\n",
       "      <th>boxtouches_z</th>\n",
       "      <th>passes_z</th>\n",
       "      <th>progpasses_z</th>\n",
       "      <th>takeons_z</th>\n",
       "      <th>progruns_z</th>\n",
       "      <th>tackles_z</th>\n",
       "      <th>interceptions_z</th>\n",
       "      <th>clearances_z</th>\n",
       "      <th>blocks_z</th>\n",
       "      <th>aerials_z</th>\n",
       "      <th>fouls_z</th>\n",
       "      <th>fouled_z</th>\n",
       "      <th>nsxg_z</th>\n",
       "    </tr>\n",
       "  </thead>\n",
       "  <tbody>\n",
       "    <tr>\n",
       "      <th>0</th>\n",
       "      <td>0.245385</td>\n",
       "      <td>0.097692</td>\n",
       "      <td>0.549231</td>\n",
       "      <td>0.490000</td>\n",
       "      <td>0.090769</td>\n",
       "      <td>0.071538</td>\n",
       "      <td>-0.473077</td>\n",
       "      <td>-0.150769</td>\n",
       "      <td>0.096923</td>\n",
       "      <td>0.277692</td>\n",
       "      <td>-0.153077</td>\n",
       "      <td>-0.212308</td>\n",
       "      <td>0.033846</td>\n",
       "      <td>-0.145385</td>\n",
       "      <td>-0.036154</td>\n",
       "      <td>0.487692</td>\n",
       "    </tr>\n",
       "    <tr>\n",
       "      <th>1</th>\n",
       "      <td>0.337692</td>\n",
       "      <td>0.270000</td>\n",
       "      <td>0.292308</td>\n",
       "      <td>0.281538</td>\n",
       "      <td>0.065385</td>\n",
       "      <td>-0.142308</td>\n",
       "      <td>-0.076923</td>\n",
       "      <td>0.430000</td>\n",
       "      <td>0.688462</td>\n",
       "      <td>0.002308</td>\n",
       "      <td>0.020769</td>\n",
       "      <td>0.165385</td>\n",
       "      <td>-0.075385</td>\n",
       "      <td>0.193077</td>\n",
       "      <td>0.087692</td>\n",
       "      <td>0.393846</td>\n",
       "    </tr>\n",
       "    <tr>\n",
       "      <th>2</th>\n",
       "      <td>0.673077</td>\n",
       "      <td>0.642308</td>\n",
       "      <td>0.502308</td>\n",
       "      <td>0.277692</td>\n",
       "      <td>0.310000</td>\n",
       "      <td>0.146923</td>\n",
       "      <td>0.153077</td>\n",
       "      <td>0.081538</td>\n",
       "      <td>0.814615</td>\n",
       "      <td>0.464615</td>\n",
       "      <td>-0.150769</td>\n",
       "      <td>-0.007692</td>\n",
       "      <td>-0.060769</td>\n",
       "      <td>-0.220000</td>\n",
       "      <td>0.006154</td>\n",
       "      <td>0.387692</td>\n",
       "    </tr>\n",
       "    <tr>\n",
       "      <th>3</th>\n",
       "      <td>0.114615</td>\n",
       "      <td>0.155385</td>\n",
       "      <td>0.271538</td>\n",
       "      <td>0.330769</td>\n",
       "      <td>-0.015385</td>\n",
       "      <td>0.028462</td>\n",
       "      <td>0.128462</td>\n",
       "      <td>0.109231</td>\n",
       "      <td>0.130769</td>\n",
       "      <td>0.056923</td>\n",
       "      <td>-0.232308</td>\n",
       "      <td>-0.146923</td>\n",
       "      <td>-0.023077</td>\n",
       "      <td>0.078462</td>\n",
       "      <td>0.532308</td>\n",
       "      <td>0.140769</td>\n",
       "    </tr>\n",
       "    <tr>\n",
       "      <th>4</th>\n",
       "      <td>0.250769</td>\n",
       "      <td>0.222308</td>\n",
       "      <td>0.003077</td>\n",
       "      <td>0.405385</td>\n",
       "      <td>-0.270000</td>\n",
       "      <td>-0.150000</td>\n",
       "      <td>0.110000</td>\n",
       "      <td>-0.088462</td>\n",
       "      <td>0.006154</td>\n",
       "      <td>-0.210769</td>\n",
       "      <td>-0.257692</td>\n",
       "      <td>-0.124615</td>\n",
       "      <td>-0.004615</td>\n",
       "      <td>0.013077</td>\n",
       "      <td>0.054615</td>\n",
       "      <td>0.177692</td>\n",
       "    </tr>\n",
       "  </tbody>\n",
       "</table>\n",
       "</div>"
      ],
      "text/plain": [
       "    goals_z      xg_z  crosses_z  boxtouches_z  passes_z  progpasses_z  \\\n",
       "0  0.245385  0.097692   0.549231      0.490000  0.090769      0.071538   \n",
       "1  0.337692  0.270000   0.292308      0.281538  0.065385     -0.142308   \n",
       "2  0.673077  0.642308   0.502308      0.277692  0.310000      0.146923   \n",
       "3  0.114615  0.155385   0.271538      0.330769 -0.015385      0.028462   \n",
       "4  0.250769  0.222308   0.003077      0.405385 -0.270000     -0.150000   \n",
       "\n",
       "   takeons_z  progruns_z  tackles_z  interceptions_z  clearances_z  blocks_z  \\\n",
       "0  -0.473077   -0.150769   0.096923         0.277692     -0.153077 -0.212308   \n",
       "1  -0.076923    0.430000   0.688462         0.002308      0.020769  0.165385   \n",
       "2   0.153077    0.081538   0.814615         0.464615     -0.150769 -0.007692   \n",
       "3   0.128462    0.109231   0.130769         0.056923     -0.232308 -0.146923   \n",
       "4   0.110000   -0.088462   0.006154        -0.210769     -0.257692 -0.124615   \n",
       "\n",
       "   aerials_z   fouls_z  fouled_z    nsxg_z  \n",
       "0   0.033846 -0.145385 -0.036154  0.487692  \n",
       "1  -0.075385  0.193077  0.087692  0.393846  \n",
       "2  -0.060769 -0.220000  0.006154  0.387692  \n",
       "3  -0.023077  0.078462  0.532308  0.140769  \n",
       "4  -0.004615  0.013077  0.054615  0.177692  "
      ]
     },
     "execution_count": 49,
     "metadata": {},
     "output_type": "execute_result"
    }
   ],
   "source": [
    "ger"
   ]
  },
  {
   "cell_type": "code",
   "execution_count": 545,
   "metadata": {},
   "outputs": [],
   "source": [
    "ger.rename(index={0: 'Germany98', 1: 'Germany94', \n",
    "                 2: 'Germany90', 3: 'Germany86', 4: 'Germany82'}, inplace=True)"
   ]
  },
  {
   "cell_type": "code",
   "execution_count": 546,
   "metadata": {},
   "outputs": [
    {
     "data": {
      "text/html": [
       "<div>\n",
       "<style scoped>\n",
       "    .dataframe tbody tr th:only-of-type {\n",
       "        vertical-align: middle;\n",
       "    }\n",
       "\n",
       "    .dataframe tbody tr th {\n",
       "        vertical-align: top;\n",
       "    }\n",
       "\n",
       "    .dataframe thead th {\n",
       "        text-align: right;\n",
       "    }\n",
       "</style>\n",
       "<table border=\"1\" class=\"dataframe\">\n",
       "  <thead>\n",
       "    <tr style=\"text-align: right;\">\n",
       "      <th></th>\n",
       "      <th>goals_z</th>\n",
       "      <th>xg_z</th>\n",
       "      <th>crosses_z</th>\n",
       "      <th>boxtouches_z</th>\n",
       "      <th>passes_z</th>\n",
       "      <th>progpasses_z</th>\n",
       "      <th>takeons_z</th>\n",
       "      <th>progruns_z</th>\n",
       "      <th>tackles_z</th>\n",
       "      <th>interceptions_z</th>\n",
       "      <th>clearances_z</th>\n",
       "      <th>blocks_z</th>\n",
       "      <th>aerials_z</th>\n",
       "      <th>fouls_z</th>\n",
       "      <th>fouled_z</th>\n",
       "      <th>nsxg_z</th>\n",
       "    </tr>\n",
       "  </thead>\n",
       "  <tbody>\n",
       "    <tr>\n",
       "      <th>Germany98</th>\n",
       "      <td>0.245385</td>\n",
       "      <td>0.097692</td>\n",
       "      <td>0.549231</td>\n",
       "      <td>0.490000</td>\n",
       "      <td>0.090769</td>\n",
       "      <td>0.071538</td>\n",
       "      <td>-0.473077</td>\n",
       "      <td>-0.150769</td>\n",
       "      <td>0.096923</td>\n",
       "      <td>0.277692</td>\n",
       "      <td>-0.153077</td>\n",
       "      <td>-0.212308</td>\n",
       "      <td>0.033846</td>\n",
       "      <td>-0.145385</td>\n",
       "      <td>-0.036154</td>\n",
       "      <td>0.487692</td>\n",
       "    </tr>\n",
       "    <tr>\n",
       "      <th>Germany94</th>\n",
       "      <td>0.337692</td>\n",
       "      <td>0.270000</td>\n",
       "      <td>0.292308</td>\n",
       "      <td>0.281538</td>\n",
       "      <td>0.065385</td>\n",
       "      <td>-0.142308</td>\n",
       "      <td>-0.076923</td>\n",
       "      <td>0.430000</td>\n",
       "      <td>0.688462</td>\n",
       "      <td>0.002308</td>\n",
       "      <td>0.020769</td>\n",
       "      <td>0.165385</td>\n",
       "      <td>-0.075385</td>\n",
       "      <td>0.193077</td>\n",
       "      <td>0.087692</td>\n",
       "      <td>0.393846</td>\n",
       "    </tr>\n",
       "    <tr>\n",
       "      <th>Germany90</th>\n",
       "      <td>0.673077</td>\n",
       "      <td>0.642308</td>\n",
       "      <td>0.502308</td>\n",
       "      <td>0.277692</td>\n",
       "      <td>0.310000</td>\n",
       "      <td>0.146923</td>\n",
       "      <td>0.153077</td>\n",
       "      <td>0.081538</td>\n",
       "      <td>0.814615</td>\n",
       "      <td>0.464615</td>\n",
       "      <td>-0.150769</td>\n",
       "      <td>-0.007692</td>\n",
       "      <td>-0.060769</td>\n",
       "      <td>-0.220000</td>\n",
       "      <td>0.006154</td>\n",
       "      <td>0.387692</td>\n",
       "    </tr>\n",
       "    <tr>\n",
       "      <th>Germany86</th>\n",
       "      <td>0.114615</td>\n",
       "      <td>0.155385</td>\n",
       "      <td>0.271538</td>\n",
       "      <td>0.330769</td>\n",
       "      <td>-0.015385</td>\n",
       "      <td>0.028462</td>\n",
       "      <td>0.128462</td>\n",
       "      <td>0.109231</td>\n",
       "      <td>0.130769</td>\n",
       "      <td>0.056923</td>\n",
       "      <td>-0.232308</td>\n",
       "      <td>-0.146923</td>\n",
       "      <td>-0.023077</td>\n",
       "      <td>0.078462</td>\n",
       "      <td>0.532308</td>\n",
       "      <td>0.140769</td>\n",
       "    </tr>\n",
       "    <tr>\n",
       "      <th>Germany82</th>\n",
       "      <td>0.250769</td>\n",
       "      <td>0.222308</td>\n",
       "      <td>0.003077</td>\n",
       "      <td>0.405385</td>\n",
       "      <td>-0.270000</td>\n",
       "      <td>-0.150000</td>\n",
       "      <td>0.110000</td>\n",
       "      <td>-0.088462</td>\n",
       "      <td>0.006154</td>\n",
       "      <td>-0.210769</td>\n",
       "      <td>-0.257692</td>\n",
       "      <td>-0.124615</td>\n",
       "      <td>-0.004615</td>\n",
       "      <td>0.013077</td>\n",
       "      <td>0.054615</td>\n",
       "      <td>0.177692</td>\n",
       "    </tr>\n",
       "  </tbody>\n",
       "</table>\n",
       "</div>"
      ],
      "text/plain": [
       "            goals_z      xg_z  crosses_z  boxtouches_z  passes_z  \\\n",
       "Germany98  0.245385  0.097692   0.549231      0.490000  0.090769   \n",
       "Germany94  0.337692  0.270000   0.292308      0.281538  0.065385   \n",
       "Germany90  0.673077  0.642308   0.502308      0.277692  0.310000   \n",
       "Germany86  0.114615  0.155385   0.271538      0.330769 -0.015385   \n",
       "Germany82  0.250769  0.222308   0.003077      0.405385 -0.270000   \n",
       "\n",
       "           progpasses_z  takeons_z  progruns_z  tackles_z  interceptions_z  \\\n",
       "Germany98      0.071538  -0.473077   -0.150769   0.096923         0.277692   \n",
       "Germany94     -0.142308  -0.076923    0.430000   0.688462         0.002308   \n",
       "Germany90      0.146923   0.153077    0.081538   0.814615         0.464615   \n",
       "Germany86      0.028462   0.128462    0.109231   0.130769         0.056923   \n",
       "Germany82     -0.150000   0.110000   -0.088462   0.006154        -0.210769   \n",
       "\n",
       "           clearances_z  blocks_z  aerials_z   fouls_z  fouled_z    nsxg_z  \n",
       "Germany98     -0.153077 -0.212308   0.033846 -0.145385 -0.036154  0.487692  \n",
       "Germany94      0.020769  0.165385  -0.075385  0.193077  0.087692  0.393846  \n",
       "Germany90     -0.150769 -0.007692  -0.060769 -0.220000  0.006154  0.387692  \n",
       "Germany86     -0.232308 -0.146923  -0.023077  0.078462  0.532308  0.140769  \n",
       "Germany82     -0.257692 -0.124615  -0.004615  0.013077  0.054615  0.177692  "
      ]
     },
     "execution_count": 546,
     "metadata": {},
     "output_type": "execute_result"
    }
   ],
   "source": [
    "ger"
   ]
  },
  {
   "cell_type": "code",
   "execution_count": 547,
   "metadata": {},
   "outputs": [],
   "source": [
    "df2 = ger.assign(results=[7, 5, 1, 2, 2])"
   ]
  },
  {
   "cell_type": "code",
   "execution_count": 548,
   "metadata": {},
   "outputs": [
    {
     "data": {
      "text/html": [
       "<div>\n",
       "<style scoped>\n",
       "    .dataframe tbody tr th:only-of-type {\n",
       "        vertical-align: middle;\n",
       "    }\n",
       "\n",
       "    .dataframe tbody tr th {\n",
       "        vertical-align: top;\n",
       "    }\n",
       "\n",
       "    .dataframe thead th {\n",
       "        text-align: right;\n",
       "    }\n",
       "</style>\n",
       "<table border=\"1\" class=\"dataframe\">\n",
       "  <thead>\n",
       "    <tr style=\"text-align: right;\">\n",
       "      <th></th>\n",
       "      <th>goals_z</th>\n",
       "      <th>xg_z</th>\n",
       "      <th>crosses_z</th>\n",
       "      <th>boxtouches_z</th>\n",
       "      <th>passes_z</th>\n",
       "      <th>progpasses_z</th>\n",
       "      <th>takeons_z</th>\n",
       "      <th>progruns_z</th>\n",
       "      <th>tackles_z</th>\n",
       "      <th>interceptions_z</th>\n",
       "      <th>clearances_z</th>\n",
       "      <th>blocks_z</th>\n",
       "      <th>aerials_z</th>\n",
       "      <th>fouls_z</th>\n",
       "      <th>fouled_z</th>\n",
       "      <th>nsxg_z</th>\n",
       "      <th>results</th>\n",
       "    </tr>\n",
       "  </thead>\n",
       "  <tbody>\n",
       "    <tr>\n",
       "      <th>Germany98</th>\n",
       "      <td>0.245385</td>\n",
       "      <td>0.097692</td>\n",
       "      <td>0.549231</td>\n",
       "      <td>0.490000</td>\n",
       "      <td>0.090769</td>\n",
       "      <td>0.071538</td>\n",
       "      <td>-0.473077</td>\n",
       "      <td>-0.150769</td>\n",
       "      <td>0.096923</td>\n",
       "      <td>0.277692</td>\n",
       "      <td>-0.153077</td>\n",
       "      <td>-0.212308</td>\n",
       "      <td>0.033846</td>\n",
       "      <td>-0.145385</td>\n",
       "      <td>-0.036154</td>\n",
       "      <td>0.487692</td>\n",
       "      <td>7</td>\n",
       "    </tr>\n",
       "    <tr>\n",
       "      <th>Germany94</th>\n",
       "      <td>0.337692</td>\n",
       "      <td>0.270000</td>\n",
       "      <td>0.292308</td>\n",
       "      <td>0.281538</td>\n",
       "      <td>0.065385</td>\n",
       "      <td>-0.142308</td>\n",
       "      <td>-0.076923</td>\n",
       "      <td>0.430000</td>\n",
       "      <td>0.688462</td>\n",
       "      <td>0.002308</td>\n",
       "      <td>0.020769</td>\n",
       "      <td>0.165385</td>\n",
       "      <td>-0.075385</td>\n",
       "      <td>0.193077</td>\n",
       "      <td>0.087692</td>\n",
       "      <td>0.393846</td>\n",
       "      <td>5</td>\n",
       "    </tr>\n",
       "    <tr>\n",
       "      <th>Germany90</th>\n",
       "      <td>0.673077</td>\n",
       "      <td>0.642308</td>\n",
       "      <td>0.502308</td>\n",
       "      <td>0.277692</td>\n",
       "      <td>0.310000</td>\n",
       "      <td>0.146923</td>\n",
       "      <td>0.153077</td>\n",
       "      <td>0.081538</td>\n",
       "      <td>0.814615</td>\n",
       "      <td>0.464615</td>\n",
       "      <td>-0.150769</td>\n",
       "      <td>-0.007692</td>\n",
       "      <td>-0.060769</td>\n",
       "      <td>-0.220000</td>\n",
       "      <td>0.006154</td>\n",
       "      <td>0.387692</td>\n",
       "      <td>1</td>\n",
       "    </tr>\n",
       "    <tr>\n",
       "      <th>Germany86</th>\n",
       "      <td>0.114615</td>\n",
       "      <td>0.155385</td>\n",
       "      <td>0.271538</td>\n",
       "      <td>0.330769</td>\n",
       "      <td>-0.015385</td>\n",
       "      <td>0.028462</td>\n",
       "      <td>0.128462</td>\n",
       "      <td>0.109231</td>\n",
       "      <td>0.130769</td>\n",
       "      <td>0.056923</td>\n",
       "      <td>-0.232308</td>\n",
       "      <td>-0.146923</td>\n",
       "      <td>-0.023077</td>\n",
       "      <td>0.078462</td>\n",
       "      <td>0.532308</td>\n",
       "      <td>0.140769</td>\n",
       "      <td>2</td>\n",
       "    </tr>\n",
       "    <tr>\n",
       "      <th>Germany82</th>\n",
       "      <td>0.250769</td>\n",
       "      <td>0.222308</td>\n",
       "      <td>0.003077</td>\n",
       "      <td>0.405385</td>\n",
       "      <td>-0.270000</td>\n",
       "      <td>-0.150000</td>\n",
       "      <td>0.110000</td>\n",
       "      <td>-0.088462</td>\n",
       "      <td>0.006154</td>\n",
       "      <td>-0.210769</td>\n",
       "      <td>-0.257692</td>\n",
       "      <td>-0.124615</td>\n",
       "      <td>-0.004615</td>\n",
       "      <td>0.013077</td>\n",
       "      <td>0.054615</td>\n",
       "      <td>0.177692</td>\n",
       "      <td>2</td>\n",
       "    </tr>\n",
       "  </tbody>\n",
       "</table>\n",
       "</div>"
      ],
      "text/plain": [
       "            goals_z      xg_z  crosses_z  boxtouches_z  passes_z  \\\n",
       "Germany98  0.245385  0.097692   0.549231      0.490000  0.090769   \n",
       "Germany94  0.337692  0.270000   0.292308      0.281538  0.065385   \n",
       "Germany90  0.673077  0.642308   0.502308      0.277692  0.310000   \n",
       "Germany86  0.114615  0.155385   0.271538      0.330769 -0.015385   \n",
       "Germany82  0.250769  0.222308   0.003077      0.405385 -0.270000   \n",
       "\n",
       "           progpasses_z  takeons_z  progruns_z  tackles_z  interceptions_z  \\\n",
       "Germany98      0.071538  -0.473077   -0.150769   0.096923         0.277692   \n",
       "Germany94     -0.142308  -0.076923    0.430000   0.688462         0.002308   \n",
       "Germany90      0.146923   0.153077    0.081538   0.814615         0.464615   \n",
       "Germany86      0.028462   0.128462    0.109231   0.130769         0.056923   \n",
       "Germany82     -0.150000   0.110000   -0.088462   0.006154        -0.210769   \n",
       "\n",
       "           clearances_z  blocks_z  aerials_z   fouls_z  fouled_z    nsxg_z  \\\n",
       "Germany98     -0.153077 -0.212308   0.033846 -0.145385 -0.036154  0.487692   \n",
       "Germany94      0.020769  0.165385  -0.075385  0.193077  0.087692  0.393846   \n",
       "Germany90     -0.150769 -0.007692  -0.060769 -0.220000  0.006154  0.387692   \n",
       "Germany86     -0.232308 -0.146923  -0.023077  0.078462  0.532308  0.140769   \n",
       "Germany82     -0.257692 -0.124615  -0.004615  0.013077  0.054615  0.177692   \n",
       "\n",
       "           results  \n",
       "Germany98        7  \n",
       "Germany94        5  \n",
       "Germany90        1  \n",
       "Germany86        2  \n",
       "Germany82        2  "
      ]
     },
     "execution_count": 548,
     "metadata": {},
     "output_type": "execute_result"
    }
   ],
   "source": [
    "df2"
   ]
  },
  {
   "cell_type": "code",
   "execution_count": 549,
   "metadata": {},
   "outputs": [
    {
     "data": {
      "text/html": [
       "<div>\n",
       "<style scoped>\n",
       "    .dataframe tbody tr th:only-of-type {\n",
       "        vertical-align: middle;\n",
       "    }\n",
       "\n",
       "    .dataframe tbody tr th {\n",
       "        vertical-align: top;\n",
       "    }\n",
       "\n",
       "    .dataframe thead th {\n",
       "        text-align: right;\n",
       "    }\n",
       "</style>\n",
       "<table border=\"1\" class=\"dataframe\">\n",
       "  <thead>\n",
       "    <tr style=\"text-align: right;\">\n",
       "      <th></th>\n",
       "      <th>goals_z</th>\n",
       "      <th>xg_z</th>\n",
       "      <th>crosses_z</th>\n",
       "      <th>boxtouches_z</th>\n",
       "      <th>passes_z</th>\n",
       "      <th>progpasses_z</th>\n",
       "      <th>takeons_z</th>\n",
       "      <th>progruns_z</th>\n",
       "      <th>tackles_z</th>\n",
       "      <th>interceptions_z</th>\n",
       "      <th>clearances_z</th>\n",
       "      <th>blocks_z</th>\n",
       "      <th>aerials_z</th>\n",
       "      <th>fouls_z</th>\n",
       "      <th>fouled_z</th>\n",
       "      <th>nsxg_z</th>\n",
       "      <th>results</th>\n",
       "    </tr>\n",
       "  </thead>\n",
       "  <tbody>\n",
       "    <tr>\n",
       "      <th>Germany98</th>\n",
       "      <td>0.245385</td>\n",
       "      <td>0.097692</td>\n",
       "      <td>0.549231</td>\n",
       "      <td>0.490000</td>\n",
       "      <td>0.090769</td>\n",
       "      <td>0.071538</td>\n",
       "      <td>-0.473077</td>\n",
       "      <td>-0.150769</td>\n",
       "      <td>0.096923</td>\n",
       "      <td>0.277692</td>\n",
       "      <td>-0.153077</td>\n",
       "      <td>-0.212308</td>\n",
       "      <td>0.033846</td>\n",
       "      <td>-0.145385</td>\n",
       "      <td>-0.036154</td>\n",
       "      <td>0.487692</td>\n",
       "      <td>7</td>\n",
       "    </tr>\n",
       "    <tr>\n",
       "      <th>Germany94</th>\n",
       "      <td>0.337692</td>\n",
       "      <td>0.270000</td>\n",
       "      <td>0.292308</td>\n",
       "      <td>0.281538</td>\n",
       "      <td>0.065385</td>\n",
       "      <td>-0.142308</td>\n",
       "      <td>-0.076923</td>\n",
       "      <td>0.430000</td>\n",
       "      <td>0.688462</td>\n",
       "      <td>0.002308</td>\n",
       "      <td>0.020769</td>\n",
       "      <td>0.165385</td>\n",
       "      <td>-0.075385</td>\n",
       "      <td>0.193077</td>\n",
       "      <td>0.087692</td>\n",
       "      <td>0.393846</td>\n",
       "      <td>5</td>\n",
       "    </tr>\n",
       "    <tr>\n",
       "      <th>Germany90</th>\n",
       "      <td>0.673077</td>\n",
       "      <td>0.642308</td>\n",
       "      <td>0.502308</td>\n",
       "      <td>0.277692</td>\n",
       "      <td>0.310000</td>\n",
       "      <td>0.146923</td>\n",
       "      <td>0.153077</td>\n",
       "      <td>0.081538</td>\n",
       "      <td>0.814615</td>\n",
       "      <td>0.464615</td>\n",
       "      <td>-0.150769</td>\n",
       "      <td>-0.007692</td>\n",
       "      <td>-0.060769</td>\n",
       "      <td>-0.220000</td>\n",
       "      <td>0.006154</td>\n",
       "      <td>0.387692</td>\n",
       "      <td>1</td>\n",
       "    </tr>\n",
       "    <tr>\n",
       "      <th>Germany86</th>\n",
       "      <td>0.114615</td>\n",
       "      <td>0.155385</td>\n",
       "      <td>0.271538</td>\n",
       "      <td>0.330769</td>\n",
       "      <td>-0.015385</td>\n",
       "      <td>0.028462</td>\n",
       "      <td>0.128462</td>\n",
       "      <td>0.109231</td>\n",
       "      <td>0.130769</td>\n",
       "      <td>0.056923</td>\n",
       "      <td>-0.232308</td>\n",
       "      <td>-0.146923</td>\n",
       "      <td>-0.023077</td>\n",
       "      <td>0.078462</td>\n",
       "      <td>0.532308</td>\n",
       "      <td>0.140769</td>\n",
       "      <td>2</td>\n",
       "    </tr>\n",
       "    <tr>\n",
       "      <th>Germany82</th>\n",
       "      <td>0.250769</td>\n",
       "      <td>0.222308</td>\n",
       "      <td>0.003077</td>\n",
       "      <td>0.405385</td>\n",
       "      <td>-0.270000</td>\n",
       "      <td>-0.150000</td>\n",
       "      <td>0.110000</td>\n",
       "      <td>-0.088462</td>\n",
       "      <td>0.006154</td>\n",
       "      <td>-0.210769</td>\n",
       "      <td>-0.257692</td>\n",
       "      <td>-0.124615</td>\n",
       "      <td>-0.004615</td>\n",
       "      <td>0.013077</td>\n",
       "      <td>0.054615</td>\n",
       "      <td>0.177692</td>\n",
       "      <td>2</td>\n",
       "    </tr>\n",
       "  </tbody>\n",
       "</table>\n",
       "</div>"
      ],
      "text/plain": [
       "            goals_z      xg_z  crosses_z  boxtouches_z  passes_z  \\\n",
       "Germany98  0.245385  0.097692   0.549231      0.490000  0.090769   \n",
       "Germany94  0.337692  0.270000   0.292308      0.281538  0.065385   \n",
       "Germany90  0.673077  0.642308   0.502308      0.277692  0.310000   \n",
       "Germany86  0.114615  0.155385   0.271538      0.330769 -0.015385   \n",
       "Germany82  0.250769  0.222308   0.003077      0.405385 -0.270000   \n",
       "\n",
       "           progpasses_z  takeons_z  progruns_z  tackles_z  interceptions_z  \\\n",
       "Germany98      0.071538  -0.473077   -0.150769   0.096923         0.277692   \n",
       "Germany94     -0.142308  -0.076923    0.430000   0.688462         0.002308   \n",
       "Germany90      0.146923   0.153077    0.081538   0.814615         0.464615   \n",
       "Germany86      0.028462   0.128462    0.109231   0.130769         0.056923   \n",
       "Germany82     -0.150000   0.110000   -0.088462   0.006154        -0.210769   \n",
       "\n",
       "           clearances_z  blocks_z  aerials_z   fouls_z  fouled_z    nsxg_z  \\\n",
       "Germany98     -0.153077 -0.212308   0.033846 -0.145385 -0.036154  0.487692   \n",
       "Germany94      0.020769  0.165385  -0.075385  0.193077  0.087692  0.393846   \n",
       "Germany90     -0.150769 -0.007692  -0.060769 -0.220000  0.006154  0.387692   \n",
       "Germany86     -0.232308 -0.146923  -0.023077  0.078462  0.532308  0.140769   \n",
       "Germany82     -0.257692 -0.124615  -0.004615  0.013077  0.054615  0.177692   \n",
       "\n",
       "           results  \n",
       "Germany98        7  \n",
       "Germany94        5  \n",
       "Germany90        1  \n",
       "Germany86        2  \n",
       "Germany82        2  "
      ]
     },
     "execution_count": 549,
     "metadata": {},
     "output_type": "execute_result"
    }
   ],
   "source": [
    "df2"
   ]
  },
  {
   "cell_type": "code",
   "execution_count": 550,
   "metadata": {},
   "outputs": [],
   "source": [
    "# df2.to_csv('germany.csv')"
   ]
  },
  {
   "cell_type": "markdown",
   "metadata": {},
   "source": [
    "# Switzerland"
   ]
  },
  {
   "cell_type": "code",
   "execution_count": 55,
   "metadata": {},
   "outputs": [],
   "source": [
    "swi = [\"Switzerland\"]"
   ]
  },
  {
   "cell_type": "code",
   "execution_count": 56,
   "metadata": {},
   "outputs": [],
   "source": [
    "swi_year = df.loc[df[\"team\"].isin(swi)]"
   ]
  },
  {
   "cell_type": "code",
   "execution_count": 57,
   "metadata": {},
   "outputs": [],
   "source": [
    "swi94year = swi_year.loc[swi_year[\"season\"].isin(year1994)]"
   ]
  },
  {
   "cell_type": "code",
   "execution_count": 58,
   "metadata": {},
   "outputs": [],
   "source": [
    "swi94xg = swi94year.sort_values(by=[\"goals_z\"], ascending=False)"
   ]
  },
  {
   "cell_type": "code",
   "execution_count": 59,
   "metadata": {},
   "outputs": [],
   "source": [
    "swi94xg13 = swi94xg.head(13)"
   ]
  },
  {
   "cell_type": "code",
   "execution_count": 60,
   "metadata": {},
   "outputs": [],
   "source": [
    "swi94xg13 = swi94xg13.drop(columns=['season', 'team'])"
   ]
  },
  {
   "cell_type": "code",
   "execution_count": 61,
   "metadata": {},
   "outputs": [],
   "source": [
    "swi94 = swi94xg13.mean()"
   ]
  },
  {
   "cell_type": "code",
   "execution_count": 62,
   "metadata": {},
   "outputs": [
    {
     "data": {
      "text/plain": [
       "goals_z            0.116923\n",
       "xg_z               0.051538\n",
       "crosses_z          0.350000\n",
       "boxtouches_z       0.203846\n",
       "passes_z           0.052308\n",
       "progpasses_z       0.103077\n",
       "takeons_z         -0.336923\n",
       "progruns_z        -0.336154\n",
       "tackles_z         -0.186154\n",
       "interceptions_z    0.073077\n",
       "clearances_z      -0.076154\n",
       "blocks_z          -0.123077\n",
       "aerials_z         -0.044615\n",
       "fouls_z            0.094615\n",
       "fouled_z           0.184615\n",
       "nsxg_z             0.209231\n",
       "dtype: float64"
      ]
     },
     "execution_count": 62,
     "metadata": {},
     "output_type": "execute_result"
    }
   ],
   "source": [
    "swi94"
   ]
  },
  {
   "cell_type": "code",
   "execution_count": 551,
   "metadata": {},
   "outputs": [],
   "source": [
    "swiss = pd.concat([swi94], axis=1).T"
   ]
  },
  {
   "cell_type": "code",
   "execution_count": 552,
   "metadata": {},
   "outputs": [
    {
     "data": {
      "text/html": [
       "<div>\n",
       "<style scoped>\n",
       "    .dataframe tbody tr th:only-of-type {\n",
       "        vertical-align: middle;\n",
       "    }\n",
       "\n",
       "    .dataframe tbody tr th {\n",
       "        vertical-align: top;\n",
       "    }\n",
       "\n",
       "    .dataframe thead th {\n",
       "        text-align: right;\n",
       "    }\n",
       "</style>\n",
       "<table border=\"1\" class=\"dataframe\">\n",
       "  <thead>\n",
       "    <tr style=\"text-align: right;\">\n",
       "      <th></th>\n",
       "      <th>goals_z</th>\n",
       "      <th>xg_z</th>\n",
       "      <th>crosses_z</th>\n",
       "      <th>boxtouches_z</th>\n",
       "      <th>passes_z</th>\n",
       "      <th>progpasses_z</th>\n",
       "      <th>takeons_z</th>\n",
       "      <th>progruns_z</th>\n",
       "      <th>tackles_z</th>\n",
       "      <th>interceptions_z</th>\n",
       "      <th>clearances_z</th>\n",
       "      <th>blocks_z</th>\n",
       "      <th>aerials_z</th>\n",
       "      <th>fouls_z</th>\n",
       "      <th>fouled_z</th>\n",
       "      <th>nsxg_z</th>\n",
       "    </tr>\n",
       "  </thead>\n",
       "  <tbody>\n",
       "    <tr>\n",
       "      <th>0</th>\n",
       "      <td>0.116923</td>\n",
       "      <td>0.051538</td>\n",
       "      <td>0.35</td>\n",
       "      <td>0.203846</td>\n",
       "      <td>0.052308</td>\n",
       "      <td>0.103077</td>\n",
       "      <td>-0.336923</td>\n",
       "      <td>-0.336154</td>\n",
       "      <td>-0.186154</td>\n",
       "      <td>0.073077</td>\n",
       "      <td>-0.076154</td>\n",
       "      <td>-0.123077</td>\n",
       "      <td>-0.044615</td>\n",
       "      <td>0.094615</td>\n",
       "      <td>0.184615</td>\n",
       "      <td>0.209231</td>\n",
       "    </tr>\n",
       "  </tbody>\n",
       "</table>\n",
       "</div>"
      ],
      "text/plain": [
       "    goals_z      xg_z  crosses_z  boxtouches_z  passes_z  progpasses_z  \\\n",
       "0  0.116923  0.051538       0.35      0.203846  0.052308      0.103077   \n",
       "\n",
       "   takeons_z  progruns_z  tackles_z  interceptions_z  clearances_z  blocks_z  \\\n",
       "0  -0.336923   -0.336154  -0.186154         0.073077     -0.076154 -0.123077   \n",
       "\n",
       "   aerials_z   fouls_z  fouled_z    nsxg_z  \n",
       "0  -0.044615  0.094615  0.184615  0.209231  "
      ]
     },
     "execution_count": 552,
     "metadata": {},
     "output_type": "execute_result"
    }
   ],
   "source": [
    "swiss"
   ]
  },
  {
   "cell_type": "code",
   "execution_count": 553,
   "metadata": {},
   "outputs": [],
   "source": [
    "swiss = swiss.rename(index={0: 'Switzerland94'})"
   ]
  },
  {
   "cell_type": "code",
   "execution_count": 554,
   "metadata": {},
   "outputs": [],
   "source": [
    "df2 = swiss.assign(results=[15])"
   ]
  },
  {
   "cell_type": "code",
   "execution_count": 555,
   "metadata": {},
   "outputs": [
    {
     "data": {
      "text/html": [
       "<div>\n",
       "<style scoped>\n",
       "    .dataframe tbody tr th:only-of-type {\n",
       "        vertical-align: middle;\n",
       "    }\n",
       "\n",
       "    .dataframe tbody tr th {\n",
       "        vertical-align: top;\n",
       "    }\n",
       "\n",
       "    .dataframe thead th {\n",
       "        text-align: right;\n",
       "    }\n",
       "</style>\n",
       "<table border=\"1\" class=\"dataframe\">\n",
       "  <thead>\n",
       "    <tr style=\"text-align: right;\">\n",
       "      <th></th>\n",
       "      <th>goals_z</th>\n",
       "      <th>xg_z</th>\n",
       "      <th>crosses_z</th>\n",
       "      <th>boxtouches_z</th>\n",
       "      <th>passes_z</th>\n",
       "      <th>progpasses_z</th>\n",
       "      <th>takeons_z</th>\n",
       "      <th>progruns_z</th>\n",
       "      <th>tackles_z</th>\n",
       "      <th>interceptions_z</th>\n",
       "      <th>clearances_z</th>\n",
       "      <th>blocks_z</th>\n",
       "      <th>aerials_z</th>\n",
       "      <th>fouls_z</th>\n",
       "      <th>fouled_z</th>\n",
       "      <th>nsxg_z</th>\n",
       "      <th>results</th>\n",
       "    </tr>\n",
       "  </thead>\n",
       "  <tbody>\n",
       "    <tr>\n",
       "      <th>Switzerland94</th>\n",
       "      <td>0.116923</td>\n",
       "      <td>0.051538</td>\n",
       "      <td>0.35</td>\n",
       "      <td>0.203846</td>\n",
       "      <td>0.052308</td>\n",
       "      <td>0.103077</td>\n",
       "      <td>-0.336923</td>\n",
       "      <td>-0.336154</td>\n",
       "      <td>-0.186154</td>\n",
       "      <td>0.073077</td>\n",
       "      <td>-0.076154</td>\n",
       "      <td>-0.123077</td>\n",
       "      <td>-0.044615</td>\n",
       "      <td>0.094615</td>\n",
       "      <td>0.184615</td>\n",
       "      <td>0.209231</td>\n",
       "      <td>15</td>\n",
       "    </tr>\n",
       "  </tbody>\n",
       "</table>\n",
       "</div>"
      ],
      "text/plain": [
       "                goals_z      xg_z  crosses_z  boxtouches_z  passes_z  \\\n",
       "Switzerland94  0.116923  0.051538       0.35      0.203846  0.052308   \n",
       "\n",
       "               progpasses_z  takeons_z  progruns_z  tackles_z  \\\n",
       "Switzerland94      0.103077  -0.336923   -0.336154  -0.186154   \n",
       "\n",
       "               interceptions_z  clearances_z  blocks_z  aerials_z   fouls_z  \\\n",
       "Switzerland94         0.073077     -0.076154 -0.123077  -0.044615  0.094615   \n",
       "\n",
       "               fouled_z    nsxg_z  results  \n",
       "Switzerland94  0.184615  0.209231       15  "
      ]
     },
     "execution_count": 555,
     "metadata": {},
     "output_type": "execute_result"
    }
   ],
   "source": [
    "df2"
   ]
  },
  {
   "cell_type": "code",
   "execution_count": 556,
   "metadata": {},
   "outputs": [],
   "source": [
    "df2.to_csv('Switzerland.csv')"
   ]
  },
  {
   "cell_type": "markdown",
   "metadata": {},
   "source": [
    "# Brazil 1998"
   ]
  },
  {
   "cell_type": "code",
   "execution_count": 69,
   "metadata": {},
   "outputs": [],
   "source": [
    "bra = ['Brazil']"
   ]
  },
  {
   "cell_type": "code",
   "execution_count": 70,
   "metadata": {},
   "outputs": [],
   "source": [
    "bra_year = df.loc[df[\"team\"].isin(bra)]"
   ]
  },
  {
   "cell_type": "code",
   "execution_count": 71,
   "metadata": {},
   "outputs": [],
   "source": [
    "bra98year = bra_year.loc[bra_year[\"season\"].isin(year1998)]"
   ]
  },
  {
   "cell_type": "code",
   "execution_count": 72,
   "metadata": {},
   "outputs": [],
   "source": [
    "bra98xg = bra98year.sort_values(by=[\"goals_z\"], ascending=False)"
   ]
  },
  {
   "cell_type": "code",
   "execution_count": 73,
   "metadata": {},
   "outputs": [],
   "source": [
    "bra98xg13 = bra98xg.head(13)"
   ]
  },
  {
   "cell_type": "code",
   "execution_count": 74,
   "metadata": {},
   "outputs": [],
   "source": [
    "bra98xg13 = bra98xg13.drop(columns=['season', 'team'])"
   ]
  },
  {
   "cell_type": "code",
   "execution_count": 75,
   "metadata": {},
   "outputs": [],
   "source": [
    "bra98 = bra98xg13.mean()"
   ]
  },
  {
   "cell_type": "code",
   "execution_count": 76,
   "metadata": {},
   "outputs": [
    {
     "data": {
      "text/plain": [
       "goals_z            0.423077\n",
       "xg_z               0.146923\n",
       "crosses_z         -0.136154\n",
       "boxtouches_z      -0.030000\n",
       "passes_z           0.429231\n",
       "progpasses_z       0.037692\n",
       "takeons_z          0.244615\n",
       "progruns_z        -0.220000\n",
       "tackles_z          0.216154\n",
       "interceptions_z    0.270000\n",
       "clearances_z      -0.076923\n",
       "blocks_z          -0.097692\n",
       "aerials_z         -0.020000\n",
       "fouls_z           -0.224615\n",
       "fouled_z           0.100769\n",
       "nsxg_z            -0.124615\n",
       "dtype: float64"
      ]
     },
     "execution_count": 76,
     "metadata": {},
     "output_type": "execute_result"
    }
   ],
   "source": [
    "bra98"
   ]
  },
  {
   "cell_type": "markdown",
   "metadata": {},
   "source": [
    "## 1994"
   ]
  },
  {
   "cell_type": "code",
   "execution_count": 77,
   "metadata": {},
   "outputs": [],
   "source": [
    "bra94year = bra_year.loc[bra_year[\"season\"].isin(year1994)]"
   ]
  },
  {
   "cell_type": "code",
   "execution_count": 78,
   "metadata": {},
   "outputs": [],
   "source": [
    "bra94xg = bra94year.sort_values(by=[\"goals_z\"], ascending=False)"
   ]
  },
  {
   "cell_type": "code",
   "execution_count": 79,
   "metadata": {},
   "outputs": [],
   "source": [
    "bra94xg13 = bra94xg.head(13)"
   ]
  },
  {
   "cell_type": "code",
   "execution_count": 80,
   "metadata": {},
   "outputs": [],
   "source": [
    "bra94xg13 = bra94xg13.drop(columns=['season', 'team'])"
   ]
  },
  {
   "cell_type": "code",
   "execution_count": 81,
   "metadata": {},
   "outputs": [],
   "source": [
    "bra94 = bra94xg13.mean()"
   ]
  },
  {
   "cell_type": "code",
   "execution_count": 82,
   "metadata": {},
   "outputs": [
    {
     "data": {
      "text/plain": [
       "goals_z            0.216923\n",
       "xg_z               0.348462\n",
       "crosses_z          0.031538\n",
       "boxtouches_z       0.158462\n",
       "passes_z           0.835385\n",
       "progpasses_z       0.626923\n",
       "takeons_z          0.270000\n",
       "progruns_z         0.266923\n",
       "tackles_z          1.143846\n",
       "interceptions_z    0.834615\n",
       "clearances_z      -0.059231\n",
       "blocks_z          -0.134615\n",
       "aerials_z          0.196923\n",
       "fouls_z           -0.016923\n",
       "fouled_z           0.033846\n",
       "nsxg_z             0.146923\n",
       "dtype: float64"
      ]
     },
     "execution_count": 82,
     "metadata": {},
     "output_type": "execute_result"
    }
   ],
   "source": [
    "bra94"
   ]
  },
  {
   "cell_type": "markdown",
   "metadata": {},
   "source": [
    "## 1990"
   ]
  },
  {
   "cell_type": "code",
   "execution_count": 83,
   "metadata": {},
   "outputs": [],
   "source": [
    "bra90year = bra_year.loc[bra_year[\"season\"].isin(year1990)]"
   ]
  },
  {
   "cell_type": "code",
   "execution_count": 84,
   "metadata": {},
   "outputs": [],
   "source": [
    "bra90xg = bra90year.sort_values(by=[\"goals_z\"], ascending=False)"
   ]
  },
  {
   "cell_type": "code",
   "execution_count": 85,
   "metadata": {},
   "outputs": [],
   "source": [
    "bra90xg13 = bra90xg.head(13)"
   ]
  },
  {
   "cell_type": "code",
   "execution_count": 86,
   "metadata": {},
   "outputs": [],
   "source": [
    "bra90xg13 = bra90xg13.drop(columns=['season', 'team'])"
   ]
  },
  {
   "cell_type": "code",
   "execution_count": 87,
   "metadata": {},
   "outputs": [],
   "source": [
    "bra90 = bra90xg13.mean()"
   ]
  },
  {
   "cell_type": "code",
   "execution_count": 88,
   "metadata": {},
   "outputs": [
    {
     "data": {
      "text/plain": [
       "goals_z            0.113846\n",
       "xg_z               0.392308\n",
       "crosses_z          0.599231\n",
       "boxtouches_z       0.513846\n",
       "passes_z           0.833077\n",
       "progpasses_z       0.405385\n",
       "takeons_z          0.521538\n",
       "progruns_z         1.139231\n",
       "tackles_z          1.109231\n",
       "interceptions_z    0.859231\n",
       "clearances_z       0.084615\n",
       "blocks_z           0.103077\n",
       "aerials_z          0.683846\n",
       "fouls_z            0.213846\n",
       "fouled_z           0.353846\n",
       "nsxg_z             0.786923\n",
       "dtype: float64"
      ]
     },
     "execution_count": 88,
     "metadata": {},
     "output_type": "execute_result"
    }
   ],
   "source": [
    "bra90"
   ]
  },
  {
   "cell_type": "markdown",
   "metadata": {},
   "source": [
    "## 1986\n"
   ]
  },
  {
   "cell_type": "code",
   "execution_count": 89,
   "metadata": {},
   "outputs": [],
   "source": [
    "bra86year = bra_year.loc[bra_year[\"season\"].isin(year1986)]"
   ]
  },
  {
   "cell_type": "code",
   "execution_count": 90,
   "metadata": {},
   "outputs": [],
   "source": [
    "bra86xg = bra86year.sort_values(by=[\"goals_z\"], ascending=False)"
   ]
  },
  {
   "cell_type": "code",
   "execution_count": 91,
   "metadata": {},
   "outputs": [],
   "source": [
    "bra86xg13 = bra86xg.head(13)"
   ]
  },
  {
   "cell_type": "code",
   "execution_count": 92,
   "metadata": {},
   "outputs": [],
   "source": [
    "bra86xg13 = bra86xg13.drop(columns=['season', 'team'])"
   ]
  },
  {
   "cell_type": "code",
   "execution_count": 93,
   "metadata": {},
   "outputs": [],
   "source": [
    "bra86 = bra86xg13.mean()"
   ]
  },
  {
   "cell_type": "code",
   "execution_count": 94,
   "metadata": {},
   "outputs": [
    {
     "data": {
      "text/plain": [
       "goals_z            0.479231\n",
       "xg_z               0.609231\n",
       "crosses_z          0.227692\n",
       "boxtouches_z       0.450769\n",
       "passes_z           0.770769\n",
       "progpasses_z       0.042308\n",
       "takeons_z          0.337692\n",
       "progruns_z         0.927692\n",
       "tackles_z          0.506923\n",
       "interceptions_z    1.015385\n",
       "clearances_z       0.020769\n",
       "blocks_z           0.381538\n",
       "aerials_z          0.038462\n",
       "fouls_z            0.039231\n",
       "fouled_z           0.022308\n",
       "nsxg_z             0.692308\n",
       "dtype: float64"
      ]
     },
     "execution_count": 94,
     "metadata": {},
     "output_type": "execute_result"
    }
   ],
   "source": [
    "bra86"
   ]
  },
  {
   "cell_type": "markdown",
   "metadata": {},
   "source": [
    "## 1982"
   ]
  },
  {
   "cell_type": "code",
   "execution_count": 95,
   "metadata": {},
   "outputs": [],
   "source": [
    "bra82year = bra_year.loc[bra_year[\"season\"].isin(year1982)]"
   ]
  },
  {
   "cell_type": "code",
   "execution_count": 96,
   "metadata": {},
   "outputs": [],
   "source": [
    "bra82xg = bra82year.sort_values(by=[\"goals_z\"], ascending=False)"
   ]
  },
  {
   "cell_type": "code",
   "execution_count": 97,
   "metadata": {},
   "outputs": [],
   "source": [
    "bra82xg13 = bra82xg.head(13)"
   ]
  },
  {
   "cell_type": "code",
   "execution_count": 98,
   "metadata": {},
   "outputs": [],
   "source": [
    "bra82xg13 = bra82xg13.drop(columns=['season', 'team'])"
   ]
  },
  {
   "cell_type": "code",
   "execution_count": 99,
   "metadata": {},
   "outputs": [],
   "source": [
    "bra82 = bra82xg13.mean()"
   ]
  },
  {
   "cell_type": "code",
   "execution_count": 100,
   "metadata": {},
   "outputs": [
    {
     "data": {
      "text/plain": [
       "goals_z            0.877692\n",
       "xg_z               0.773846\n",
       "crosses_z          0.428462\n",
       "boxtouches_z       0.659231\n",
       "passes_z           0.754615\n",
       "progpasses_z       0.335385\n",
       "takeons_z          0.023077\n",
       "progruns_z         0.638462\n",
       "tackles_z          0.493846\n",
       "interceptions_z    0.637692\n",
       "clearances_z      -0.117692\n",
       "blocks_z          -0.033846\n",
       "aerials_z          0.572308\n",
       "fouls_z           -0.016154\n",
       "fouled_z          -0.096923\n",
       "nsxg_z             0.890769\n",
       "dtype: float64"
      ]
     },
     "execution_count": 100,
     "metadata": {},
     "output_type": "execute_result"
    }
   ],
   "source": [
    "bra82"
   ]
  },
  {
   "cell_type": "code",
   "execution_count": 557,
   "metadata": {},
   "outputs": [],
   "source": [
    "braz = pd.concat([bra98, bra94, bra90, bra86, bra82], axis=1).T"
   ]
  },
  {
   "cell_type": "code",
   "execution_count": 558,
   "metadata": {},
   "outputs": [
    {
     "data": {
      "text/html": [
       "<div>\n",
       "<style scoped>\n",
       "    .dataframe tbody tr th:only-of-type {\n",
       "        vertical-align: middle;\n",
       "    }\n",
       "\n",
       "    .dataframe tbody tr th {\n",
       "        vertical-align: top;\n",
       "    }\n",
       "\n",
       "    .dataframe thead th {\n",
       "        text-align: right;\n",
       "    }\n",
       "</style>\n",
       "<table border=\"1\" class=\"dataframe\">\n",
       "  <thead>\n",
       "    <tr style=\"text-align: right;\">\n",
       "      <th></th>\n",
       "      <th>goals_z</th>\n",
       "      <th>xg_z</th>\n",
       "      <th>crosses_z</th>\n",
       "      <th>boxtouches_z</th>\n",
       "      <th>passes_z</th>\n",
       "      <th>progpasses_z</th>\n",
       "      <th>takeons_z</th>\n",
       "      <th>progruns_z</th>\n",
       "      <th>tackles_z</th>\n",
       "      <th>interceptions_z</th>\n",
       "      <th>clearances_z</th>\n",
       "      <th>blocks_z</th>\n",
       "      <th>aerials_z</th>\n",
       "      <th>fouls_z</th>\n",
       "      <th>fouled_z</th>\n",
       "      <th>nsxg_z</th>\n",
       "    </tr>\n",
       "  </thead>\n",
       "  <tbody>\n",
       "    <tr>\n",
       "      <th>0</th>\n",
       "      <td>0.423077</td>\n",
       "      <td>0.146923</td>\n",
       "      <td>-0.136154</td>\n",
       "      <td>-0.030000</td>\n",
       "      <td>0.429231</td>\n",
       "      <td>0.037692</td>\n",
       "      <td>0.244615</td>\n",
       "      <td>-0.220000</td>\n",
       "      <td>0.216154</td>\n",
       "      <td>0.270000</td>\n",
       "      <td>-0.076923</td>\n",
       "      <td>-0.097692</td>\n",
       "      <td>-0.020000</td>\n",
       "      <td>-0.224615</td>\n",
       "      <td>0.100769</td>\n",
       "      <td>-0.124615</td>\n",
       "    </tr>\n",
       "    <tr>\n",
       "      <th>1</th>\n",
       "      <td>0.216923</td>\n",
       "      <td>0.348462</td>\n",
       "      <td>0.031538</td>\n",
       "      <td>0.158462</td>\n",
       "      <td>0.835385</td>\n",
       "      <td>0.626923</td>\n",
       "      <td>0.270000</td>\n",
       "      <td>0.266923</td>\n",
       "      <td>1.143846</td>\n",
       "      <td>0.834615</td>\n",
       "      <td>-0.059231</td>\n",
       "      <td>-0.134615</td>\n",
       "      <td>0.196923</td>\n",
       "      <td>-0.016923</td>\n",
       "      <td>0.033846</td>\n",
       "      <td>0.146923</td>\n",
       "    </tr>\n",
       "    <tr>\n",
       "      <th>2</th>\n",
       "      <td>0.113846</td>\n",
       "      <td>0.392308</td>\n",
       "      <td>0.599231</td>\n",
       "      <td>0.513846</td>\n",
       "      <td>0.833077</td>\n",
       "      <td>0.405385</td>\n",
       "      <td>0.521538</td>\n",
       "      <td>1.139231</td>\n",
       "      <td>1.109231</td>\n",
       "      <td>0.859231</td>\n",
       "      <td>0.084615</td>\n",
       "      <td>0.103077</td>\n",
       "      <td>0.683846</td>\n",
       "      <td>0.213846</td>\n",
       "      <td>0.353846</td>\n",
       "      <td>0.786923</td>\n",
       "    </tr>\n",
       "    <tr>\n",
       "      <th>3</th>\n",
       "      <td>0.479231</td>\n",
       "      <td>0.609231</td>\n",
       "      <td>0.227692</td>\n",
       "      <td>0.450769</td>\n",
       "      <td>0.770769</td>\n",
       "      <td>0.042308</td>\n",
       "      <td>0.337692</td>\n",
       "      <td>0.927692</td>\n",
       "      <td>0.506923</td>\n",
       "      <td>1.015385</td>\n",
       "      <td>0.020769</td>\n",
       "      <td>0.381538</td>\n",
       "      <td>0.038462</td>\n",
       "      <td>0.039231</td>\n",
       "      <td>0.022308</td>\n",
       "      <td>0.692308</td>\n",
       "    </tr>\n",
       "    <tr>\n",
       "      <th>4</th>\n",
       "      <td>0.877692</td>\n",
       "      <td>0.773846</td>\n",
       "      <td>0.428462</td>\n",
       "      <td>0.659231</td>\n",
       "      <td>0.754615</td>\n",
       "      <td>0.335385</td>\n",
       "      <td>0.023077</td>\n",
       "      <td>0.638462</td>\n",
       "      <td>0.493846</td>\n",
       "      <td>0.637692</td>\n",
       "      <td>-0.117692</td>\n",
       "      <td>-0.033846</td>\n",
       "      <td>0.572308</td>\n",
       "      <td>-0.016154</td>\n",
       "      <td>-0.096923</td>\n",
       "      <td>0.890769</td>\n",
       "    </tr>\n",
       "  </tbody>\n",
       "</table>\n",
       "</div>"
      ],
      "text/plain": [
       "    goals_z      xg_z  crosses_z  boxtouches_z  passes_z  progpasses_z  \\\n",
       "0  0.423077  0.146923  -0.136154     -0.030000  0.429231      0.037692   \n",
       "1  0.216923  0.348462   0.031538      0.158462  0.835385      0.626923   \n",
       "2  0.113846  0.392308   0.599231      0.513846  0.833077      0.405385   \n",
       "3  0.479231  0.609231   0.227692      0.450769  0.770769      0.042308   \n",
       "4  0.877692  0.773846   0.428462      0.659231  0.754615      0.335385   \n",
       "\n",
       "   takeons_z  progruns_z  tackles_z  interceptions_z  clearances_z  blocks_z  \\\n",
       "0   0.244615   -0.220000   0.216154         0.270000     -0.076923 -0.097692   \n",
       "1   0.270000    0.266923   1.143846         0.834615     -0.059231 -0.134615   \n",
       "2   0.521538    1.139231   1.109231         0.859231      0.084615  0.103077   \n",
       "3   0.337692    0.927692   0.506923         1.015385      0.020769  0.381538   \n",
       "4   0.023077    0.638462   0.493846         0.637692     -0.117692 -0.033846   \n",
       "\n",
       "   aerials_z   fouls_z  fouled_z    nsxg_z  \n",
       "0  -0.020000 -0.224615  0.100769 -0.124615  \n",
       "1   0.196923 -0.016923  0.033846  0.146923  \n",
       "2   0.683846  0.213846  0.353846  0.786923  \n",
       "3   0.038462  0.039231  0.022308  0.692308  \n",
       "4   0.572308 -0.016154 -0.096923  0.890769  "
      ]
     },
     "execution_count": 558,
     "metadata": {},
     "output_type": "execute_result"
    }
   ],
   "source": [
    "braz"
   ]
  },
  {
   "cell_type": "code",
   "execution_count": 559,
   "metadata": {},
   "outputs": [],
   "source": [
    "braz = braz.rename(index={0: 'Brazil98', 1: 'Brazil94', 2: 'Brazil90', 3: 'Brazil86', \n",
    "                            4: 'Brazil82'})"
   ]
  },
  {
   "cell_type": "code",
   "execution_count": 560,
   "metadata": {},
   "outputs": [
    {
     "data": {
      "text/html": [
       "<div>\n",
       "<style scoped>\n",
       "    .dataframe tbody tr th:only-of-type {\n",
       "        vertical-align: middle;\n",
       "    }\n",
       "\n",
       "    .dataframe tbody tr th {\n",
       "        vertical-align: top;\n",
       "    }\n",
       "\n",
       "    .dataframe thead th {\n",
       "        text-align: right;\n",
       "    }\n",
       "</style>\n",
       "<table border=\"1\" class=\"dataframe\">\n",
       "  <thead>\n",
       "    <tr style=\"text-align: right;\">\n",
       "      <th></th>\n",
       "      <th>goals_z</th>\n",
       "      <th>xg_z</th>\n",
       "      <th>crosses_z</th>\n",
       "      <th>boxtouches_z</th>\n",
       "      <th>passes_z</th>\n",
       "      <th>progpasses_z</th>\n",
       "      <th>takeons_z</th>\n",
       "      <th>progruns_z</th>\n",
       "      <th>tackles_z</th>\n",
       "      <th>interceptions_z</th>\n",
       "      <th>clearances_z</th>\n",
       "      <th>blocks_z</th>\n",
       "      <th>aerials_z</th>\n",
       "      <th>fouls_z</th>\n",
       "      <th>fouled_z</th>\n",
       "      <th>nsxg_z</th>\n",
       "    </tr>\n",
       "  </thead>\n",
       "  <tbody>\n",
       "    <tr>\n",
       "      <th>Brazil98</th>\n",
       "      <td>0.423077</td>\n",
       "      <td>0.146923</td>\n",
       "      <td>-0.136154</td>\n",
       "      <td>-0.030000</td>\n",
       "      <td>0.429231</td>\n",
       "      <td>0.037692</td>\n",
       "      <td>0.244615</td>\n",
       "      <td>-0.220000</td>\n",
       "      <td>0.216154</td>\n",
       "      <td>0.270000</td>\n",
       "      <td>-0.076923</td>\n",
       "      <td>-0.097692</td>\n",
       "      <td>-0.020000</td>\n",
       "      <td>-0.224615</td>\n",
       "      <td>0.100769</td>\n",
       "      <td>-0.124615</td>\n",
       "    </tr>\n",
       "    <tr>\n",
       "      <th>Brazil94</th>\n",
       "      <td>0.216923</td>\n",
       "      <td>0.348462</td>\n",
       "      <td>0.031538</td>\n",
       "      <td>0.158462</td>\n",
       "      <td>0.835385</td>\n",
       "      <td>0.626923</td>\n",
       "      <td>0.270000</td>\n",
       "      <td>0.266923</td>\n",
       "      <td>1.143846</td>\n",
       "      <td>0.834615</td>\n",
       "      <td>-0.059231</td>\n",
       "      <td>-0.134615</td>\n",
       "      <td>0.196923</td>\n",
       "      <td>-0.016923</td>\n",
       "      <td>0.033846</td>\n",
       "      <td>0.146923</td>\n",
       "    </tr>\n",
       "    <tr>\n",
       "      <th>Brazil90</th>\n",
       "      <td>0.113846</td>\n",
       "      <td>0.392308</td>\n",
       "      <td>0.599231</td>\n",
       "      <td>0.513846</td>\n",
       "      <td>0.833077</td>\n",
       "      <td>0.405385</td>\n",
       "      <td>0.521538</td>\n",
       "      <td>1.139231</td>\n",
       "      <td>1.109231</td>\n",
       "      <td>0.859231</td>\n",
       "      <td>0.084615</td>\n",
       "      <td>0.103077</td>\n",
       "      <td>0.683846</td>\n",
       "      <td>0.213846</td>\n",
       "      <td>0.353846</td>\n",
       "      <td>0.786923</td>\n",
       "    </tr>\n",
       "    <tr>\n",
       "      <th>Brazil86</th>\n",
       "      <td>0.479231</td>\n",
       "      <td>0.609231</td>\n",
       "      <td>0.227692</td>\n",
       "      <td>0.450769</td>\n",
       "      <td>0.770769</td>\n",
       "      <td>0.042308</td>\n",
       "      <td>0.337692</td>\n",
       "      <td>0.927692</td>\n",
       "      <td>0.506923</td>\n",
       "      <td>1.015385</td>\n",
       "      <td>0.020769</td>\n",
       "      <td>0.381538</td>\n",
       "      <td>0.038462</td>\n",
       "      <td>0.039231</td>\n",
       "      <td>0.022308</td>\n",
       "      <td>0.692308</td>\n",
       "    </tr>\n",
       "    <tr>\n",
       "      <th>Brazil82</th>\n",
       "      <td>0.877692</td>\n",
       "      <td>0.773846</td>\n",
       "      <td>0.428462</td>\n",
       "      <td>0.659231</td>\n",
       "      <td>0.754615</td>\n",
       "      <td>0.335385</td>\n",
       "      <td>0.023077</td>\n",
       "      <td>0.638462</td>\n",
       "      <td>0.493846</td>\n",
       "      <td>0.637692</td>\n",
       "      <td>-0.117692</td>\n",
       "      <td>-0.033846</td>\n",
       "      <td>0.572308</td>\n",
       "      <td>-0.016154</td>\n",
       "      <td>-0.096923</td>\n",
       "      <td>0.890769</td>\n",
       "    </tr>\n",
       "  </tbody>\n",
       "</table>\n",
       "</div>"
      ],
      "text/plain": [
       "           goals_z      xg_z  crosses_z  boxtouches_z  passes_z  progpasses_z  \\\n",
       "Brazil98  0.423077  0.146923  -0.136154     -0.030000  0.429231      0.037692   \n",
       "Brazil94  0.216923  0.348462   0.031538      0.158462  0.835385      0.626923   \n",
       "Brazil90  0.113846  0.392308   0.599231      0.513846  0.833077      0.405385   \n",
       "Brazil86  0.479231  0.609231   0.227692      0.450769  0.770769      0.042308   \n",
       "Brazil82  0.877692  0.773846   0.428462      0.659231  0.754615      0.335385   \n",
       "\n",
       "          takeons_z  progruns_z  tackles_z  interceptions_z  clearances_z  \\\n",
       "Brazil98   0.244615   -0.220000   0.216154         0.270000     -0.076923   \n",
       "Brazil94   0.270000    0.266923   1.143846         0.834615     -0.059231   \n",
       "Brazil90   0.521538    1.139231   1.109231         0.859231      0.084615   \n",
       "Brazil86   0.337692    0.927692   0.506923         1.015385      0.020769   \n",
       "Brazil82   0.023077    0.638462   0.493846         0.637692     -0.117692   \n",
       "\n",
       "          blocks_z  aerials_z   fouls_z  fouled_z    nsxg_z  \n",
       "Brazil98 -0.097692  -0.020000 -0.224615  0.100769 -0.124615  \n",
       "Brazil94 -0.134615   0.196923 -0.016923  0.033846  0.146923  \n",
       "Brazil90  0.103077   0.683846  0.213846  0.353846  0.786923  \n",
       "Brazil86  0.381538   0.038462  0.039231  0.022308  0.692308  \n",
       "Brazil82 -0.033846   0.572308 -0.016154 -0.096923  0.890769  "
      ]
     },
     "execution_count": 560,
     "metadata": {},
     "output_type": "execute_result"
    }
   ],
   "source": [
    "braz"
   ]
  },
  {
   "cell_type": "code",
   "execution_count": 561,
   "metadata": {},
   "outputs": [],
   "source": [
    "df2 = braz.assign(results=[2, 1, 9, 5, 5])"
   ]
  },
  {
   "cell_type": "code",
   "execution_count": 562,
   "metadata": {},
   "outputs": [
    {
     "data": {
      "text/html": [
       "<div>\n",
       "<style scoped>\n",
       "    .dataframe tbody tr th:only-of-type {\n",
       "        vertical-align: middle;\n",
       "    }\n",
       "\n",
       "    .dataframe tbody tr th {\n",
       "        vertical-align: top;\n",
       "    }\n",
       "\n",
       "    .dataframe thead th {\n",
       "        text-align: right;\n",
       "    }\n",
       "</style>\n",
       "<table border=\"1\" class=\"dataframe\">\n",
       "  <thead>\n",
       "    <tr style=\"text-align: right;\">\n",
       "      <th></th>\n",
       "      <th>goals_z</th>\n",
       "      <th>xg_z</th>\n",
       "      <th>crosses_z</th>\n",
       "      <th>boxtouches_z</th>\n",
       "      <th>passes_z</th>\n",
       "      <th>progpasses_z</th>\n",
       "      <th>takeons_z</th>\n",
       "      <th>progruns_z</th>\n",
       "      <th>tackles_z</th>\n",
       "      <th>interceptions_z</th>\n",
       "      <th>clearances_z</th>\n",
       "      <th>blocks_z</th>\n",
       "      <th>aerials_z</th>\n",
       "      <th>fouls_z</th>\n",
       "      <th>fouled_z</th>\n",
       "      <th>nsxg_z</th>\n",
       "      <th>results</th>\n",
       "    </tr>\n",
       "  </thead>\n",
       "  <tbody>\n",
       "    <tr>\n",
       "      <th>Brazil98</th>\n",
       "      <td>0.423077</td>\n",
       "      <td>0.146923</td>\n",
       "      <td>-0.136154</td>\n",
       "      <td>-0.030000</td>\n",
       "      <td>0.429231</td>\n",
       "      <td>0.037692</td>\n",
       "      <td>0.244615</td>\n",
       "      <td>-0.220000</td>\n",
       "      <td>0.216154</td>\n",
       "      <td>0.270000</td>\n",
       "      <td>-0.076923</td>\n",
       "      <td>-0.097692</td>\n",
       "      <td>-0.020000</td>\n",
       "      <td>-0.224615</td>\n",
       "      <td>0.100769</td>\n",
       "      <td>-0.124615</td>\n",
       "      <td>2</td>\n",
       "    </tr>\n",
       "    <tr>\n",
       "      <th>Brazil94</th>\n",
       "      <td>0.216923</td>\n",
       "      <td>0.348462</td>\n",
       "      <td>0.031538</td>\n",
       "      <td>0.158462</td>\n",
       "      <td>0.835385</td>\n",
       "      <td>0.626923</td>\n",
       "      <td>0.270000</td>\n",
       "      <td>0.266923</td>\n",
       "      <td>1.143846</td>\n",
       "      <td>0.834615</td>\n",
       "      <td>-0.059231</td>\n",
       "      <td>-0.134615</td>\n",
       "      <td>0.196923</td>\n",
       "      <td>-0.016923</td>\n",
       "      <td>0.033846</td>\n",
       "      <td>0.146923</td>\n",
       "      <td>1</td>\n",
       "    </tr>\n",
       "    <tr>\n",
       "      <th>Brazil90</th>\n",
       "      <td>0.113846</td>\n",
       "      <td>0.392308</td>\n",
       "      <td>0.599231</td>\n",
       "      <td>0.513846</td>\n",
       "      <td>0.833077</td>\n",
       "      <td>0.405385</td>\n",
       "      <td>0.521538</td>\n",
       "      <td>1.139231</td>\n",
       "      <td>1.109231</td>\n",
       "      <td>0.859231</td>\n",
       "      <td>0.084615</td>\n",
       "      <td>0.103077</td>\n",
       "      <td>0.683846</td>\n",
       "      <td>0.213846</td>\n",
       "      <td>0.353846</td>\n",
       "      <td>0.786923</td>\n",
       "      <td>9</td>\n",
       "    </tr>\n",
       "    <tr>\n",
       "      <th>Brazil86</th>\n",
       "      <td>0.479231</td>\n",
       "      <td>0.609231</td>\n",
       "      <td>0.227692</td>\n",
       "      <td>0.450769</td>\n",
       "      <td>0.770769</td>\n",
       "      <td>0.042308</td>\n",
       "      <td>0.337692</td>\n",
       "      <td>0.927692</td>\n",
       "      <td>0.506923</td>\n",
       "      <td>1.015385</td>\n",
       "      <td>0.020769</td>\n",
       "      <td>0.381538</td>\n",
       "      <td>0.038462</td>\n",
       "      <td>0.039231</td>\n",
       "      <td>0.022308</td>\n",
       "      <td>0.692308</td>\n",
       "      <td>5</td>\n",
       "    </tr>\n",
       "    <tr>\n",
       "      <th>Brazil82</th>\n",
       "      <td>0.877692</td>\n",
       "      <td>0.773846</td>\n",
       "      <td>0.428462</td>\n",
       "      <td>0.659231</td>\n",
       "      <td>0.754615</td>\n",
       "      <td>0.335385</td>\n",
       "      <td>0.023077</td>\n",
       "      <td>0.638462</td>\n",
       "      <td>0.493846</td>\n",
       "      <td>0.637692</td>\n",
       "      <td>-0.117692</td>\n",
       "      <td>-0.033846</td>\n",
       "      <td>0.572308</td>\n",
       "      <td>-0.016154</td>\n",
       "      <td>-0.096923</td>\n",
       "      <td>0.890769</td>\n",
       "      <td>5</td>\n",
       "    </tr>\n",
       "  </tbody>\n",
       "</table>\n",
       "</div>"
      ],
      "text/plain": [
       "           goals_z      xg_z  crosses_z  boxtouches_z  passes_z  progpasses_z  \\\n",
       "Brazil98  0.423077  0.146923  -0.136154     -0.030000  0.429231      0.037692   \n",
       "Brazil94  0.216923  0.348462   0.031538      0.158462  0.835385      0.626923   \n",
       "Brazil90  0.113846  0.392308   0.599231      0.513846  0.833077      0.405385   \n",
       "Brazil86  0.479231  0.609231   0.227692      0.450769  0.770769      0.042308   \n",
       "Brazil82  0.877692  0.773846   0.428462      0.659231  0.754615      0.335385   \n",
       "\n",
       "          takeons_z  progruns_z  tackles_z  interceptions_z  clearances_z  \\\n",
       "Brazil98   0.244615   -0.220000   0.216154         0.270000     -0.076923   \n",
       "Brazil94   0.270000    0.266923   1.143846         0.834615     -0.059231   \n",
       "Brazil90   0.521538    1.139231   1.109231         0.859231      0.084615   \n",
       "Brazil86   0.337692    0.927692   0.506923         1.015385      0.020769   \n",
       "Brazil82   0.023077    0.638462   0.493846         0.637692     -0.117692   \n",
       "\n",
       "          blocks_z  aerials_z   fouls_z  fouled_z    nsxg_z  results  \n",
       "Brazil98 -0.097692  -0.020000 -0.224615  0.100769 -0.124615        2  \n",
       "Brazil94 -0.134615   0.196923 -0.016923  0.033846  0.146923        1  \n",
       "Brazil90  0.103077   0.683846  0.213846  0.353846  0.786923        9  \n",
       "Brazil86  0.381538   0.038462  0.039231  0.022308  0.692308        5  \n",
       "Brazil82 -0.033846   0.572308 -0.016154 -0.096923  0.890769        5  "
      ]
     },
     "execution_count": 562,
     "metadata": {},
     "output_type": "execute_result"
    }
   ],
   "source": [
    "df2"
   ]
  },
  {
   "cell_type": "code",
   "execution_count": 106,
   "metadata": {},
   "outputs": [],
   "source": [
    "# df2"
   ]
  },
  {
   "cell_type": "code",
   "execution_count": 563,
   "metadata": {},
   "outputs": [],
   "source": [
    "# df2.to_csv('Brazil.csv')"
   ]
  },
  {
   "cell_type": "markdown",
   "metadata": {},
   "source": [
    "# France 98"
   ]
  },
  {
   "cell_type": "code",
   "execution_count": 108,
   "metadata": {},
   "outputs": [],
   "source": [
    "fra = ['France']"
   ]
  },
  {
   "cell_type": "code",
   "execution_count": 109,
   "metadata": {},
   "outputs": [],
   "source": [
    "fra_year = df.loc[df[\"team\"].isin(fra)]"
   ]
  },
  {
   "cell_type": "code",
   "execution_count": 110,
   "metadata": {},
   "outputs": [],
   "source": [
    "fra98year = fra_year.loc[fra_year[\"season\"].isin(year1998)]"
   ]
  },
  {
   "cell_type": "code",
   "execution_count": 111,
   "metadata": {},
   "outputs": [],
   "source": [
    "fra98xg = fra98year.sort_values(by=[\"goals_z\"], ascending=False)"
   ]
  },
  {
   "cell_type": "code",
   "execution_count": 112,
   "metadata": {},
   "outputs": [],
   "source": [
    "fra98xg13 = fra98xg.head(13)"
   ]
  },
  {
   "cell_type": "code",
   "execution_count": 113,
   "metadata": {},
   "outputs": [],
   "source": [
    "fra98xg13 = fra98xg13.drop(columns=['season', 'team'])"
   ]
  },
  {
   "cell_type": "code",
   "execution_count": 114,
   "metadata": {},
   "outputs": [],
   "source": [
    "fra98 = fra98xg13.mean()"
   ]
  },
  {
   "cell_type": "code",
   "execution_count": 115,
   "metadata": {},
   "outputs": [
    {
     "data": {
      "text/plain": [
       "goals_z            0.445385\n",
       "xg_z               0.390769\n",
       "crosses_z          0.243846\n",
       "boxtouches_z       0.292308\n",
       "passes_z           0.091538\n",
       "progpasses_z       0.161538\n",
       "takeons_z          0.260000\n",
       "progruns_z         0.456154\n",
       "tackles_z          0.383077\n",
       "interceptions_z    0.486154\n",
       "clearances_z      -0.085385\n",
       "blocks_z          -0.283077\n",
       "aerials_z          0.160769\n",
       "fouls_z           -0.057692\n",
       "fouled_z           0.131538\n",
       "nsxg_z             0.456154\n",
       "dtype: float64"
      ]
     },
     "execution_count": 115,
     "metadata": {},
     "output_type": "execute_result"
    }
   ],
   "source": [
    "fra98"
   ]
  },
  {
   "cell_type": "markdown",
   "metadata": {},
   "source": [
    "## 86"
   ]
  },
  {
   "cell_type": "code",
   "execution_count": 116,
   "metadata": {},
   "outputs": [],
   "source": [
    "fra86year = fra_year.loc[fra_year[\"season\"].isin(year1986)]"
   ]
  },
  {
   "cell_type": "code",
   "execution_count": 117,
   "metadata": {},
   "outputs": [],
   "source": [
    "fra86xg = fra86year.sort_values(by=[\"goals_z\"], ascending=False)"
   ]
  },
  {
   "cell_type": "code",
   "execution_count": 118,
   "metadata": {},
   "outputs": [],
   "source": [
    "fra86xg13 = fra86xg.head(13)"
   ]
  },
  {
   "cell_type": "code",
   "execution_count": 119,
   "metadata": {},
   "outputs": [],
   "source": [
    "fra86xg13 = fra86xg13.drop(columns=['season', 'team'])"
   ]
  },
  {
   "cell_type": "code",
   "execution_count": 120,
   "metadata": {},
   "outputs": [],
   "source": [
    "fra86 = fra86xg13.mean()"
   ]
  },
  {
   "cell_type": "code",
   "execution_count": 121,
   "metadata": {},
   "outputs": [
    {
     "data": {
      "text/plain": [
       "goals_z            0.332308\n",
       "xg_z               0.362308\n",
       "crosses_z         -0.043846\n",
       "boxtouches_z       0.316923\n",
       "passes_z           0.060000\n",
       "progpasses_z       0.019231\n",
       "takeons_z          0.140769\n",
       "progruns_z         0.210000\n",
       "tackles_z          0.343846\n",
       "interceptions_z    0.276154\n",
       "clearances_z      -0.057692\n",
       "blocks_z           0.112308\n",
       "aerials_z         -0.053846\n",
       "fouls_z            0.143077\n",
       "fouled_z           0.060769\n",
       "nsxg_z             0.192308\n",
       "dtype: float64"
      ]
     },
     "execution_count": 121,
     "metadata": {},
     "output_type": "execute_result"
    }
   ],
   "source": [
    "fra86\n"
   ]
  },
  {
   "cell_type": "markdown",
   "metadata": {},
   "source": [
    "## 82\n"
   ]
  },
  {
   "cell_type": "code",
   "execution_count": 122,
   "metadata": {},
   "outputs": [],
   "source": [
    "fra82year = fra_year.loc[fra_year[\"season\"].isin(year1982)]"
   ]
  },
  {
   "cell_type": "code",
   "execution_count": 123,
   "metadata": {},
   "outputs": [],
   "source": [
    "fra82xg = fra82year.sort_values(by=[\"goals_z\"], ascending=False)"
   ]
  },
  {
   "cell_type": "code",
   "execution_count": 124,
   "metadata": {},
   "outputs": [],
   "source": [
    "fra82xg13 = fra82xg.head(13)"
   ]
  },
  {
   "cell_type": "code",
   "execution_count": 125,
   "metadata": {},
   "outputs": [],
   "source": [
    "fra82xg13 = fra82xg13.drop(columns=['season', 'team'])"
   ]
  },
  {
   "cell_type": "code",
   "execution_count": 126,
   "metadata": {},
   "outputs": [],
   "source": [
    "fra82 = fra82xg13.mean()"
   ]
  },
  {
   "cell_type": "code",
   "execution_count": 127,
   "metadata": {},
   "outputs": [
    {
     "data": {
      "text/plain": [
       "goals_z            0.500769\n",
       "xg_z               0.257692\n",
       "crosses_z          0.080769\n",
       "boxtouches_z       0.139231\n",
       "passes_z           0.031538\n",
       "progpasses_z      -0.194615\n",
       "takeons_z          0.452308\n",
       "progruns_z         0.168462\n",
       "tackles_z          0.005385\n",
       "interceptions_z   -0.010000\n",
       "clearances_z      -0.096923\n",
       "blocks_z           0.031538\n",
       "aerials_z          0.016154\n",
       "fouls_z           -0.079231\n",
       "fouled_z           0.075385\n",
       "nsxg_z             0.200769\n",
       "dtype: float64"
      ]
     },
     "execution_count": 127,
     "metadata": {},
     "output_type": "execute_result"
    }
   ],
   "source": [
    "fra82\n"
   ]
  },
  {
   "cell_type": "code",
   "execution_count": 564,
   "metadata": {},
   "outputs": [],
   "source": [
    "fran = pd.concat([fra98, fra86, fra82], axis=1).T"
   ]
  },
  {
   "cell_type": "code",
   "execution_count": 565,
   "metadata": {},
   "outputs": [
    {
     "data": {
      "text/html": [
       "<div>\n",
       "<style scoped>\n",
       "    .dataframe tbody tr th:only-of-type {\n",
       "        vertical-align: middle;\n",
       "    }\n",
       "\n",
       "    .dataframe tbody tr th {\n",
       "        vertical-align: top;\n",
       "    }\n",
       "\n",
       "    .dataframe thead th {\n",
       "        text-align: right;\n",
       "    }\n",
       "</style>\n",
       "<table border=\"1\" class=\"dataframe\">\n",
       "  <thead>\n",
       "    <tr style=\"text-align: right;\">\n",
       "      <th></th>\n",
       "      <th>goals_z</th>\n",
       "      <th>xg_z</th>\n",
       "      <th>crosses_z</th>\n",
       "      <th>boxtouches_z</th>\n",
       "      <th>passes_z</th>\n",
       "      <th>progpasses_z</th>\n",
       "      <th>takeons_z</th>\n",
       "      <th>progruns_z</th>\n",
       "      <th>tackles_z</th>\n",
       "      <th>interceptions_z</th>\n",
       "      <th>clearances_z</th>\n",
       "      <th>blocks_z</th>\n",
       "      <th>aerials_z</th>\n",
       "      <th>fouls_z</th>\n",
       "      <th>fouled_z</th>\n",
       "      <th>nsxg_z</th>\n",
       "    </tr>\n",
       "  </thead>\n",
       "  <tbody>\n",
       "    <tr>\n",
       "      <th>0</th>\n",
       "      <td>0.445385</td>\n",
       "      <td>0.390769</td>\n",
       "      <td>0.243846</td>\n",
       "      <td>0.292308</td>\n",
       "      <td>0.091538</td>\n",
       "      <td>0.161538</td>\n",
       "      <td>0.260000</td>\n",
       "      <td>0.456154</td>\n",
       "      <td>0.383077</td>\n",
       "      <td>0.486154</td>\n",
       "      <td>-0.085385</td>\n",
       "      <td>-0.283077</td>\n",
       "      <td>0.160769</td>\n",
       "      <td>-0.057692</td>\n",
       "      <td>0.131538</td>\n",
       "      <td>0.456154</td>\n",
       "    </tr>\n",
       "    <tr>\n",
       "      <th>1</th>\n",
       "      <td>0.332308</td>\n",
       "      <td>0.362308</td>\n",
       "      <td>-0.043846</td>\n",
       "      <td>0.316923</td>\n",
       "      <td>0.060000</td>\n",
       "      <td>0.019231</td>\n",
       "      <td>0.140769</td>\n",
       "      <td>0.210000</td>\n",
       "      <td>0.343846</td>\n",
       "      <td>0.276154</td>\n",
       "      <td>-0.057692</td>\n",
       "      <td>0.112308</td>\n",
       "      <td>-0.053846</td>\n",
       "      <td>0.143077</td>\n",
       "      <td>0.060769</td>\n",
       "      <td>0.192308</td>\n",
       "    </tr>\n",
       "    <tr>\n",
       "      <th>2</th>\n",
       "      <td>0.500769</td>\n",
       "      <td>0.257692</td>\n",
       "      <td>0.080769</td>\n",
       "      <td>0.139231</td>\n",
       "      <td>0.031538</td>\n",
       "      <td>-0.194615</td>\n",
       "      <td>0.452308</td>\n",
       "      <td>0.168462</td>\n",
       "      <td>0.005385</td>\n",
       "      <td>-0.010000</td>\n",
       "      <td>-0.096923</td>\n",
       "      <td>0.031538</td>\n",
       "      <td>0.016154</td>\n",
       "      <td>-0.079231</td>\n",
       "      <td>0.075385</td>\n",
       "      <td>0.200769</td>\n",
       "    </tr>\n",
       "  </tbody>\n",
       "</table>\n",
       "</div>"
      ],
      "text/plain": [
       "    goals_z      xg_z  crosses_z  boxtouches_z  passes_z  progpasses_z  \\\n",
       "0  0.445385  0.390769   0.243846      0.292308  0.091538      0.161538   \n",
       "1  0.332308  0.362308  -0.043846      0.316923  0.060000      0.019231   \n",
       "2  0.500769  0.257692   0.080769      0.139231  0.031538     -0.194615   \n",
       "\n",
       "   takeons_z  progruns_z  tackles_z  interceptions_z  clearances_z  blocks_z  \\\n",
       "0   0.260000    0.456154   0.383077         0.486154     -0.085385 -0.283077   \n",
       "1   0.140769    0.210000   0.343846         0.276154     -0.057692  0.112308   \n",
       "2   0.452308    0.168462   0.005385        -0.010000     -0.096923  0.031538   \n",
       "\n",
       "   aerials_z   fouls_z  fouled_z    nsxg_z  \n",
       "0   0.160769 -0.057692  0.131538  0.456154  \n",
       "1  -0.053846  0.143077  0.060769  0.192308  \n",
       "2   0.016154 -0.079231  0.075385  0.200769  "
      ]
     },
     "execution_count": 565,
     "metadata": {},
     "output_type": "execute_result"
    }
   ],
   "source": [
    "fran"
   ]
  },
  {
   "cell_type": "markdown",
   "metadata": {},
   "source": [
    "- 98 - 4 \t France \t4/D \t7 \t3 \t2 \t2 \t16 \t12 \t+4 \t8\n",
    "- 86 - 3 \t France \tC \t7 \t4 \t2 \t1 \t12 \t6 \t+6 \t10\n",
    "- 82 - 1 \t France \tC \t7 \t6 \t1 \t0 \t15 \t2 \t+13 \t19\n"
   ]
  },
  {
   "cell_type": "code",
   "execution_count": 566,
   "metadata": {},
   "outputs": [],
   "source": [
    "fran.rename(index={0: 'France98', 1: 'France86', 2: 'France82'}, inplace=True)\n"
   ]
  },
  {
   "cell_type": "code",
   "execution_count": 567,
   "metadata": {},
   "outputs": [],
   "source": [
    "df2 = fran.assign(results=[4, 3, 1])"
   ]
  },
  {
   "cell_type": "code",
   "execution_count": 568,
   "metadata": {},
   "outputs": [
    {
     "data": {
      "text/html": [
       "<div>\n",
       "<style scoped>\n",
       "    .dataframe tbody tr th:only-of-type {\n",
       "        vertical-align: middle;\n",
       "    }\n",
       "\n",
       "    .dataframe tbody tr th {\n",
       "        vertical-align: top;\n",
       "    }\n",
       "\n",
       "    .dataframe thead th {\n",
       "        text-align: right;\n",
       "    }\n",
       "</style>\n",
       "<table border=\"1\" class=\"dataframe\">\n",
       "  <thead>\n",
       "    <tr style=\"text-align: right;\">\n",
       "      <th></th>\n",
       "      <th>goals_z</th>\n",
       "      <th>xg_z</th>\n",
       "      <th>crosses_z</th>\n",
       "      <th>boxtouches_z</th>\n",
       "      <th>passes_z</th>\n",
       "      <th>progpasses_z</th>\n",
       "      <th>takeons_z</th>\n",
       "      <th>progruns_z</th>\n",
       "      <th>tackles_z</th>\n",
       "      <th>interceptions_z</th>\n",
       "      <th>clearances_z</th>\n",
       "      <th>blocks_z</th>\n",
       "      <th>aerials_z</th>\n",
       "      <th>fouls_z</th>\n",
       "      <th>fouled_z</th>\n",
       "      <th>nsxg_z</th>\n",
       "      <th>results</th>\n",
       "    </tr>\n",
       "  </thead>\n",
       "  <tbody>\n",
       "    <tr>\n",
       "      <th>France98</th>\n",
       "      <td>0.445385</td>\n",
       "      <td>0.390769</td>\n",
       "      <td>0.243846</td>\n",
       "      <td>0.292308</td>\n",
       "      <td>0.091538</td>\n",
       "      <td>0.161538</td>\n",
       "      <td>0.260000</td>\n",
       "      <td>0.456154</td>\n",
       "      <td>0.383077</td>\n",
       "      <td>0.486154</td>\n",
       "      <td>-0.085385</td>\n",
       "      <td>-0.283077</td>\n",
       "      <td>0.160769</td>\n",
       "      <td>-0.057692</td>\n",
       "      <td>0.131538</td>\n",
       "      <td>0.456154</td>\n",
       "      <td>4</td>\n",
       "    </tr>\n",
       "    <tr>\n",
       "      <th>France86</th>\n",
       "      <td>0.332308</td>\n",
       "      <td>0.362308</td>\n",
       "      <td>-0.043846</td>\n",
       "      <td>0.316923</td>\n",
       "      <td>0.060000</td>\n",
       "      <td>0.019231</td>\n",
       "      <td>0.140769</td>\n",
       "      <td>0.210000</td>\n",
       "      <td>0.343846</td>\n",
       "      <td>0.276154</td>\n",
       "      <td>-0.057692</td>\n",
       "      <td>0.112308</td>\n",
       "      <td>-0.053846</td>\n",
       "      <td>0.143077</td>\n",
       "      <td>0.060769</td>\n",
       "      <td>0.192308</td>\n",
       "      <td>3</td>\n",
       "    </tr>\n",
       "    <tr>\n",
       "      <th>France82</th>\n",
       "      <td>0.500769</td>\n",
       "      <td>0.257692</td>\n",
       "      <td>0.080769</td>\n",
       "      <td>0.139231</td>\n",
       "      <td>0.031538</td>\n",
       "      <td>-0.194615</td>\n",
       "      <td>0.452308</td>\n",
       "      <td>0.168462</td>\n",
       "      <td>0.005385</td>\n",
       "      <td>-0.010000</td>\n",
       "      <td>-0.096923</td>\n",
       "      <td>0.031538</td>\n",
       "      <td>0.016154</td>\n",
       "      <td>-0.079231</td>\n",
       "      <td>0.075385</td>\n",
       "      <td>0.200769</td>\n",
       "      <td>1</td>\n",
       "    </tr>\n",
       "  </tbody>\n",
       "</table>\n",
       "</div>"
      ],
      "text/plain": [
       "           goals_z      xg_z  crosses_z  boxtouches_z  passes_z  progpasses_z  \\\n",
       "France98  0.445385  0.390769   0.243846      0.292308  0.091538      0.161538   \n",
       "France86  0.332308  0.362308  -0.043846      0.316923  0.060000      0.019231   \n",
       "France82  0.500769  0.257692   0.080769      0.139231  0.031538     -0.194615   \n",
       "\n",
       "          takeons_z  progruns_z  tackles_z  interceptions_z  clearances_z  \\\n",
       "France98   0.260000    0.456154   0.383077         0.486154     -0.085385   \n",
       "France86   0.140769    0.210000   0.343846         0.276154     -0.057692   \n",
       "France82   0.452308    0.168462   0.005385        -0.010000     -0.096923   \n",
       "\n",
       "          blocks_z  aerials_z   fouls_z  fouled_z    nsxg_z  results  \n",
       "France98 -0.283077   0.160769 -0.057692  0.131538  0.456154        4  \n",
       "France86  0.112308  -0.053846  0.143077  0.060769  0.192308        3  \n",
       "France82  0.031538   0.016154 -0.079231  0.075385  0.200769        1  "
      ]
     },
     "execution_count": 568,
     "metadata": {},
     "output_type": "execute_result"
    }
   ],
   "source": [
    "df2"
   ]
  },
  {
   "cell_type": "code",
   "execution_count": 569,
   "metadata": {},
   "outputs": [],
   "source": [
    "# df2.to_csv('France1.csv')\n"
   ]
  },
  {
   "cell_type": "markdown",
   "metadata": {},
   "source": [
    "# USA"
   ]
  },
  {
   "cell_type": "markdown",
   "metadata": {},
   "source": [
    "## 98"
   ]
  },
  {
   "cell_type": "code",
   "execution_count": 134,
   "metadata": {},
   "outputs": [],
   "source": [
    "usa = ['USA']"
   ]
  },
  {
   "cell_type": "code",
   "execution_count": 135,
   "metadata": {},
   "outputs": [],
   "source": [
    "usa_year = df.loc[df[\"team\"].isin(usa)]\n"
   ]
  },
  {
   "cell_type": "code",
   "execution_count": 136,
   "metadata": {},
   "outputs": [],
   "source": [
    "usa98year = usa_year.loc[usa_year[\"season\"].isin(year1998)]"
   ]
  },
  {
   "cell_type": "code",
   "execution_count": 137,
   "metadata": {},
   "outputs": [],
   "source": [
    "usa98xg = usa98year.sort_values(by=[\"goals_z\"], ascending=False)"
   ]
  },
  {
   "cell_type": "code",
   "execution_count": 138,
   "metadata": {},
   "outputs": [],
   "source": [
    "usa98xg13 = usa98xg.head(13)"
   ]
  },
  {
   "cell_type": "code",
   "execution_count": 139,
   "metadata": {},
   "outputs": [],
   "source": [
    "usa98xg13 = usa98xg13.drop(columns=['season', 'team'])"
   ]
  },
  {
   "cell_type": "code",
   "execution_count": 140,
   "metadata": {},
   "outputs": [],
   "source": [
    "usa98 = usa98xg13.mean()"
   ]
  },
  {
   "cell_type": "code",
   "execution_count": 141,
   "metadata": {},
   "outputs": [
    {
     "data": {
      "text/plain": [
       "goals_z           -0.261538\n",
       "xg_z              -0.247692\n",
       "crosses_z          0.028462\n",
       "boxtouches_z       0.137692\n",
       "passes_z          -0.206923\n",
       "progpasses_z      -0.283077\n",
       "takeons_z         -0.370769\n",
       "progruns_z        -0.043846\n",
       "tackles_z          0.068462\n",
       "interceptions_z   -0.391538\n",
       "clearances_z      -0.449231\n",
       "blocks_z          -0.298462\n",
       "aerials_z         -0.048462\n",
       "fouls_z           -0.444615\n",
       "fouled_z          -0.049231\n",
       "nsxg_z            -0.153846\n",
       "dtype: float64"
      ]
     },
     "execution_count": 141,
     "metadata": {},
     "output_type": "execute_result"
    }
   ],
   "source": [
    "\n",
    "usa98"
   ]
  },
  {
   "cell_type": "markdown",
   "metadata": {},
   "source": [
    "# 94"
   ]
  },
  {
   "cell_type": "code",
   "execution_count": 142,
   "metadata": {},
   "outputs": [],
   "source": [
    "usa94year = usa_year.loc[usa_year[\"season\"].isin(year1994)]"
   ]
  },
  {
   "cell_type": "code",
   "execution_count": 143,
   "metadata": {},
   "outputs": [],
   "source": [
    "usa94xg = usa94year.sort_values(by=[\"goals_z\"], ascending=False)"
   ]
  },
  {
   "cell_type": "code",
   "execution_count": 144,
   "metadata": {},
   "outputs": [],
   "source": [
    "usa94xg13 = usa94xg.head(13)"
   ]
  },
  {
   "cell_type": "code",
   "execution_count": 145,
   "metadata": {},
   "outputs": [],
   "source": [
    "usa94xg13 = usa94xg13.drop(columns=['season', 'team'])"
   ]
  },
  {
   "cell_type": "code",
   "execution_count": 146,
   "metadata": {},
   "outputs": [],
   "source": [
    "usa94 = usa94xg13.mean()"
   ]
  },
  {
   "cell_type": "code",
   "execution_count": 147,
   "metadata": {},
   "outputs": [
    {
     "data": {
      "text/plain": [
       "goals_z           -0.186923\n",
       "xg_z              -0.232308\n",
       "crosses_z         -0.103846\n",
       "boxtouches_z      -0.253846\n",
       "passes_z          -0.220769\n",
       "progpasses_z      -0.240000\n",
       "takeons_z          0.026923\n",
       "progruns_z        -0.065385\n",
       "tackles_z         -0.366923\n",
       "interceptions_z   -0.243846\n",
       "clearances_z       0.503846\n",
       "blocks_z          -0.018462\n",
       "aerials_z         -0.160000\n",
       "fouls_z           -0.296923\n",
       "fouled_z           0.111538\n",
       "nsxg_z            -0.443846\n",
       "dtype: float64"
      ]
     },
     "execution_count": 147,
     "metadata": {},
     "output_type": "execute_result"
    }
   ],
   "source": [
    "\n",
    "usa94"
   ]
  },
  {
   "cell_type": "markdown",
   "metadata": {},
   "source": [
    "## 90"
   ]
  },
  {
   "cell_type": "code",
   "execution_count": 148,
   "metadata": {},
   "outputs": [],
   "source": [
    "usa90year = usa_year.loc[usa_year[\"season\"].isin(year1990)]"
   ]
  },
  {
   "cell_type": "code",
   "execution_count": 149,
   "metadata": {},
   "outputs": [],
   "source": [
    "usa90xg = usa90year.sort_values(by=[\"goals_z\"], ascending=False)"
   ]
  },
  {
   "cell_type": "code",
   "execution_count": 150,
   "metadata": {},
   "outputs": [],
   "source": [
    "usa90xg13 = usa90xg.head(13)"
   ]
  },
  {
   "cell_type": "code",
   "execution_count": 151,
   "metadata": {},
   "outputs": [],
   "source": [
    "usa90xg13 = usa90xg13.drop(columns=['season', 'team'])"
   ]
  },
  {
   "cell_type": "code",
   "execution_count": 152,
   "metadata": {},
   "outputs": [],
   "source": [
    "usa90 = usa90xg13.mean()"
   ]
  },
  {
   "cell_type": "code",
   "execution_count": 570,
   "metadata": {},
   "outputs": [
    {
     "data": {
      "text/plain": [
       "goals_z           -0.063077\n",
       "xg_z              -0.080769\n",
       "crosses_z         -0.190769\n",
       "boxtouches_z      -0.049231\n",
       "passes_z          -0.176154\n",
       "progpasses_z      -0.341538\n",
       "takeons_z          0.193846\n",
       "progruns_z        -0.233846\n",
       "tackles_z          0.026923\n",
       "interceptions_z   -0.190769\n",
       "clearances_z       0.139231\n",
       "blocks_z           0.380769\n",
       "aerials_z          0.197692\n",
       "fouls_z            0.401538\n",
       "fouled_z           0.295385\n",
       "nsxg_z            -0.058462\n",
       "dtype: float64"
      ]
     },
     "execution_count": 570,
     "metadata": {},
     "output_type": "execute_result"
    }
   ],
   "source": [
    "usa90"
   ]
  },
  {
   "cell_type": "code",
   "execution_count": 571,
   "metadata": {},
   "outputs": [],
   "source": [
    "# usa90\n",
    "# usa94\n",
    "# usa98"
   ]
  },
  {
   "cell_type": "code",
   "execution_count": 572,
   "metadata": {},
   "outputs": [],
   "source": [
    "usa = pd.concat([usa90, usa94, usa98], axis=1).T\n"
   ]
  },
  {
   "cell_type": "code",
   "execution_count": 573,
   "metadata": {},
   "outputs": [],
   "source": [
    "usa.rename(index={0: 'USA90', 1: 'USA94', 2: 'USA98'}, inplace=True)\n"
   ]
  },
  {
   "cell_type": "code",
   "execution_count": 574,
   "metadata": {},
   "outputs": [],
   "source": [
    "# 90 - 23     A      United States     3     0     0     3     2     8     −6     0\n",
    "# 94 - 14      United States     A     4     1     1     2     3     4     −1     4\n",
    "# 98 - 32      United States     F     3     0     0     3     1     5     −4     0\n"
   ]
  },
  {
   "cell_type": "code",
   "execution_count": 580,
   "metadata": {},
   "outputs": [],
   "source": [
    "df2 = usa.assign(results=[23, 14, 32])"
   ]
  },
  {
   "cell_type": "code",
   "execution_count": 581,
   "metadata": {},
   "outputs": [
    {
     "data": {
      "text/html": [
       "<div>\n",
       "<style scoped>\n",
       "    .dataframe tbody tr th:only-of-type {\n",
       "        vertical-align: middle;\n",
       "    }\n",
       "\n",
       "    .dataframe tbody tr th {\n",
       "        vertical-align: top;\n",
       "    }\n",
       "\n",
       "    .dataframe thead th {\n",
       "        text-align: right;\n",
       "    }\n",
       "</style>\n",
       "<table border=\"1\" class=\"dataframe\">\n",
       "  <thead>\n",
       "    <tr style=\"text-align: right;\">\n",
       "      <th></th>\n",
       "      <th>goals_z</th>\n",
       "      <th>xg_z</th>\n",
       "      <th>crosses_z</th>\n",
       "      <th>boxtouches_z</th>\n",
       "      <th>passes_z</th>\n",
       "      <th>progpasses_z</th>\n",
       "      <th>takeons_z</th>\n",
       "      <th>progruns_z</th>\n",
       "      <th>tackles_z</th>\n",
       "      <th>interceptions_z</th>\n",
       "      <th>clearances_z</th>\n",
       "      <th>blocks_z</th>\n",
       "      <th>aerials_z</th>\n",
       "      <th>fouls_z</th>\n",
       "      <th>fouled_z</th>\n",
       "      <th>nsxg_z</th>\n",
       "      <th>results</th>\n",
       "    </tr>\n",
       "  </thead>\n",
       "  <tbody>\n",
       "    <tr>\n",
       "      <th>USA90</th>\n",
       "      <td>-0.063077</td>\n",
       "      <td>-0.080769</td>\n",
       "      <td>-0.190769</td>\n",
       "      <td>-0.049231</td>\n",
       "      <td>-0.176154</td>\n",
       "      <td>-0.341538</td>\n",
       "      <td>0.193846</td>\n",
       "      <td>-0.233846</td>\n",
       "      <td>0.026923</td>\n",
       "      <td>-0.190769</td>\n",
       "      <td>0.139231</td>\n",
       "      <td>0.380769</td>\n",
       "      <td>0.197692</td>\n",
       "      <td>0.401538</td>\n",
       "      <td>0.295385</td>\n",
       "      <td>-0.058462</td>\n",
       "      <td>23</td>\n",
       "    </tr>\n",
       "    <tr>\n",
       "      <th>USA94</th>\n",
       "      <td>-0.186923</td>\n",
       "      <td>-0.232308</td>\n",
       "      <td>-0.103846</td>\n",
       "      <td>-0.253846</td>\n",
       "      <td>-0.220769</td>\n",
       "      <td>-0.240000</td>\n",
       "      <td>0.026923</td>\n",
       "      <td>-0.065385</td>\n",
       "      <td>-0.366923</td>\n",
       "      <td>-0.243846</td>\n",
       "      <td>0.503846</td>\n",
       "      <td>-0.018462</td>\n",
       "      <td>-0.160000</td>\n",
       "      <td>-0.296923</td>\n",
       "      <td>0.111538</td>\n",
       "      <td>-0.443846</td>\n",
       "      <td>14</td>\n",
       "    </tr>\n",
       "    <tr>\n",
       "      <th>USA98</th>\n",
       "      <td>-0.261538</td>\n",
       "      <td>-0.247692</td>\n",
       "      <td>0.028462</td>\n",
       "      <td>0.137692</td>\n",
       "      <td>-0.206923</td>\n",
       "      <td>-0.283077</td>\n",
       "      <td>-0.370769</td>\n",
       "      <td>-0.043846</td>\n",
       "      <td>0.068462</td>\n",
       "      <td>-0.391538</td>\n",
       "      <td>-0.449231</td>\n",
       "      <td>-0.298462</td>\n",
       "      <td>-0.048462</td>\n",
       "      <td>-0.444615</td>\n",
       "      <td>-0.049231</td>\n",
       "      <td>-0.153846</td>\n",
       "      <td>32</td>\n",
       "    </tr>\n",
       "  </tbody>\n",
       "</table>\n",
       "</div>"
      ],
      "text/plain": [
       "        goals_z      xg_z  crosses_z  boxtouches_z  passes_z  progpasses_z  \\\n",
       "USA90 -0.063077 -0.080769  -0.190769     -0.049231 -0.176154     -0.341538   \n",
       "USA94 -0.186923 -0.232308  -0.103846     -0.253846 -0.220769     -0.240000   \n",
       "USA98 -0.261538 -0.247692   0.028462      0.137692 -0.206923     -0.283077   \n",
       "\n",
       "       takeons_z  progruns_z  tackles_z  interceptions_z  clearances_z  \\\n",
       "USA90   0.193846   -0.233846   0.026923        -0.190769      0.139231   \n",
       "USA94   0.026923   -0.065385  -0.366923        -0.243846      0.503846   \n",
       "USA98  -0.370769   -0.043846   0.068462        -0.391538     -0.449231   \n",
       "\n",
       "       blocks_z  aerials_z   fouls_z  fouled_z    nsxg_z  results  \n",
       "USA90  0.380769   0.197692  0.401538  0.295385 -0.058462       23  \n",
       "USA94 -0.018462  -0.160000 -0.296923  0.111538 -0.443846       14  \n",
       "USA98 -0.298462  -0.048462 -0.444615 -0.049231 -0.153846       32  "
      ]
     },
     "execution_count": 581,
     "metadata": {},
     "output_type": "execute_result"
    }
   ],
   "source": [
    "df2"
   ]
  },
  {
   "cell_type": "code",
   "execution_count": 158,
   "metadata": {},
   "outputs": [],
   "source": [
    "df2 = usa.assign(results=[23, 14, 32])\n"
   ]
  },
  {
   "cell_type": "code",
   "execution_count": 582,
   "metadata": {},
   "outputs": [],
   "source": [
    "# df2.to_csv('USA1.csv')\n"
   ]
  },
  {
   "cell_type": "markdown",
   "metadata": {},
   "source": [
    "# Spain"
   ]
  },
  {
   "cell_type": "code",
   "execution_count": 160,
   "metadata": {},
   "outputs": [],
   "source": [
    "# 82 - 12      Spain     5/B     5     1     2     2     4     5     −1     4\n",
    "# 86 - 7      Spain     D     5     3     1     1     11     4     +7     7\n",
    "# 90 - 10     E      Spain     4     2     1     1     6     4     +2     5\n",
    "# 94 - 8      Spain     C     5     2     2     1     10     6     +4     8\n",
    "# 98 - 17      Spain     D     3     1     1     1     8     4     +4     4\n"
   ]
  },
  {
   "cell_type": "markdown",
   "metadata": {},
   "source": [
    "## 82"
   ]
  },
  {
   "cell_type": "code",
   "execution_count": 161,
   "metadata": {},
   "outputs": [],
   "source": [
    "spa = ['Spain']"
   ]
  },
  {
   "cell_type": "code",
   "execution_count": 162,
   "metadata": {},
   "outputs": [],
   "source": [
    "spa_year = df.loc[df[\"team\"].isin(spa)]\n"
   ]
  },
  {
   "cell_type": "code",
   "execution_count": 163,
   "metadata": {},
   "outputs": [],
   "source": [
    "spa82year = spa_year.loc[spa_year[\"season\"].isin(year1982)]"
   ]
  },
  {
   "cell_type": "code",
   "execution_count": 164,
   "metadata": {},
   "outputs": [],
   "source": [
    "spa82xg = spa82year.sort_values(by=[\"goals_z\"], ascending=False)"
   ]
  },
  {
   "cell_type": "code",
   "execution_count": 165,
   "metadata": {},
   "outputs": [],
   "source": [
    "spa82xg13 = spa82xg.head(13)\n"
   ]
  },
  {
   "cell_type": "code",
   "execution_count": 166,
   "metadata": {},
   "outputs": [],
   "source": [
    "spa82xg13 = spa82xg13.drop(columns=['season', 'team'])"
   ]
  },
  {
   "cell_type": "code",
   "execution_count": 167,
   "metadata": {},
   "outputs": [],
   "source": [
    "spa82 = spa82xg13.mean()"
   ]
  },
  {
   "cell_type": "code",
   "execution_count": 168,
   "metadata": {},
   "outputs": [
    {
     "data": {
      "text/plain": [
       "goals_z           -0.133846\n",
       "xg_z               0.256154\n",
       "crosses_z          0.170769\n",
       "boxtouches_z       0.283077\n",
       "passes_z           0.134615\n",
       "progpasses_z       0.325385\n",
       "takeons_z         -0.096923\n",
       "progruns_z         0.262308\n",
       "tackles_z          0.286154\n",
       "interceptions_z    0.152308\n",
       "clearances_z       0.067692\n",
       "blocks_z          -0.172308\n",
       "aerials_z          0.236154\n",
       "fouls_z            0.000769\n",
       "fouled_z           0.127692\n",
       "nsxg_z             0.303077\n",
       "dtype: float64"
      ]
     },
     "execution_count": 168,
     "metadata": {},
     "output_type": "execute_result"
    }
   ],
   "source": [
    "spa82"
   ]
  },
  {
   "cell_type": "markdown",
   "metadata": {},
   "source": [
    "## 86"
   ]
  },
  {
   "cell_type": "code",
   "execution_count": 169,
   "metadata": {},
   "outputs": [],
   "source": [
    "spa86year = spa_year.loc[spa_year[\"season\"].isin(year1986)]\n",
    "\n"
   ]
  },
  {
   "cell_type": "code",
   "execution_count": 170,
   "metadata": {},
   "outputs": [],
   "source": [
    "spa86xg = spa86year.sort_values(by=[\"goals_z\"], ascending=False)\n"
   ]
  },
  {
   "cell_type": "code",
   "execution_count": 171,
   "metadata": {},
   "outputs": [],
   "source": [
    "spa86xg13 = spa86xg.head(13)\n"
   ]
  },
  {
   "cell_type": "code",
   "execution_count": 172,
   "metadata": {},
   "outputs": [],
   "source": [
    "spa86xg13 = spa86xg13.drop(columns=['season', 'team'])\n"
   ]
  },
  {
   "cell_type": "code",
   "execution_count": 173,
   "metadata": {},
   "outputs": [],
   "source": [
    "spa86 = spa86xg13.mean()"
   ]
  },
  {
   "cell_type": "code",
   "execution_count": 174,
   "metadata": {},
   "outputs": [
    {
     "data": {
      "text/plain": [
       "goals_z            0.566154\n",
       "xg_z               0.463077\n",
       "crosses_z          0.130000\n",
       "boxtouches_z       0.464615\n",
       "passes_z          -0.154615\n",
       "progpasses_z       0.110769\n",
       "takeons_z         -0.134615\n",
       "progruns_z        -0.115385\n",
       "tackles_z         -0.296154\n",
       "interceptions_z   -0.282308\n",
       "clearances_z      -0.366154\n",
       "blocks_z          -0.210000\n",
       "aerials_z          0.037692\n",
       "fouls_z           -0.263846\n",
       "fouled_z           0.064615\n",
       "nsxg_z             0.353077\n",
       "dtype: float64"
      ]
     },
     "execution_count": 174,
     "metadata": {},
     "output_type": "execute_result"
    }
   ],
   "source": [
    "spa86"
   ]
  },
  {
   "cell_type": "markdown",
   "metadata": {},
   "source": [
    "## 90"
   ]
  },
  {
   "cell_type": "code",
   "execution_count": 175,
   "metadata": {},
   "outputs": [],
   "source": [
    "spa90year = spa_year.loc[spa_year[\"season\"].isin(year1990)]\n",
    "\n"
   ]
  },
  {
   "cell_type": "code",
   "execution_count": 176,
   "metadata": {},
   "outputs": [],
   "source": [
    "spa90xg = spa90year.sort_values(by=[\"goals_z\"], ascending=False)\n"
   ]
  },
  {
   "cell_type": "code",
   "execution_count": 177,
   "metadata": {},
   "outputs": [],
   "source": [
    "spa90xg13 = spa90xg.head(13)\n"
   ]
  },
  {
   "cell_type": "code",
   "execution_count": 178,
   "metadata": {},
   "outputs": [],
   "source": [
    "spa90xg13 = spa90xg13.drop(columns=['season', 'team'])\n"
   ]
  },
  {
   "cell_type": "code",
   "execution_count": 179,
   "metadata": {},
   "outputs": [],
   "source": [
    "spa90 = spa90xg13.mean()"
   ]
  },
  {
   "cell_type": "code",
   "execution_count": 180,
   "metadata": {},
   "outputs": [
    {
     "data": {
      "text/plain": [
       "goals_z            0.319231\n",
       "xg_z               0.181538\n",
       "crosses_z          0.343077\n",
       "boxtouches_z       0.478462\n",
       "passes_z           0.093077\n",
       "progpasses_z       0.240769\n",
       "takeons_z          0.277692\n",
       "progruns_z         0.030769\n",
       "tackles_z         -0.124615\n",
       "interceptions_z    0.053077\n",
       "clearances_z       0.038462\n",
       "blocks_z           0.255385\n",
       "aerials_z         -0.107692\n",
       "fouls_z            0.080769\n",
       "fouled_z           0.174615\n",
       "nsxg_z             0.254615\n",
       "dtype: float64"
      ]
     },
     "execution_count": 180,
     "metadata": {},
     "output_type": "execute_result"
    }
   ],
   "source": [
    "spa90"
   ]
  },
  {
   "cell_type": "markdown",
   "metadata": {},
   "source": [
    "## 94"
   ]
  },
  {
   "cell_type": "code",
   "execution_count": 181,
   "metadata": {},
   "outputs": [],
   "source": [
    "spa94year = spa_year.loc[spa_year[\"season\"].isin(year1994)]\n",
    "\n"
   ]
  },
  {
   "cell_type": "code",
   "execution_count": 182,
   "metadata": {},
   "outputs": [],
   "source": [
    "spa94xg = spa94year.sort_values(by=[\"goals_z\"], ascending=False)\n"
   ]
  },
  {
   "cell_type": "code",
   "execution_count": 183,
   "metadata": {},
   "outputs": [],
   "source": [
    "spa94xg13 = spa94xg.head(13)\n"
   ]
  },
  {
   "cell_type": "code",
   "execution_count": 184,
   "metadata": {},
   "outputs": [],
   "source": [
    "spa94xg13 = spa94xg13.drop(columns=['season', 'team'])\n"
   ]
  },
  {
   "cell_type": "code",
   "execution_count": 185,
   "metadata": {},
   "outputs": [],
   "source": [
    "spa94 = spa94xg13.mean()"
   ]
  },
  {
   "cell_type": "code",
   "execution_count": 186,
   "metadata": {
    "scrolled": true
   },
   "outputs": [
    {
     "data": {
      "text/plain": [
       "goals_z            0.417692\n",
       "xg_z               0.250000\n",
       "crosses_z          0.259231\n",
       "boxtouches_z       0.076154\n",
       "passes_z          -0.371538\n",
       "progpasses_z      -0.307692\n",
       "takeons_z          0.165385\n",
       "progruns_z        -0.083846\n",
       "tackles_z         -0.407692\n",
       "interceptions_z   -0.237692\n",
       "clearances_z       0.124615\n",
       "blocks_z          -0.123846\n",
       "aerials_z          0.232308\n",
       "fouls_z            0.385385\n",
       "fouled_z          -0.070000\n",
       "nsxg_z             0.069231\n",
       "dtype: float64"
      ]
     },
     "execution_count": 186,
     "metadata": {},
     "output_type": "execute_result"
    }
   ],
   "source": [
    "spa94"
   ]
  },
  {
   "cell_type": "markdown",
   "metadata": {},
   "source": [
    "## 98"
   ]
  },
  {
   "cell_type": "code",
   "execution_count": 187,
   "metadata": {},
   "outputs": [],
   "source": [
    "spa98year = spa_year.loc[spa_year[\"season\"].isin(year1998)]\n",
    "\n"
   ]
  },
  {
   "cell_type": "code",
   "execution_count": 188,
   "metadata": {},
   "outputs": [],
   "source": [
    "spa98xg = spa98year.sort_values(by=[\"goals_z\"], ascending=False)\n"
   ]
  },
  {
   "cell_type": "code",
   "execution_count": 189,
   "metadata": {},
   "outputs": [],
   "source": [
    "spa98xg13 = spa98xg.head(13)\n"
   ]
  },
  {
   "cell_type": "code",
   "execution_count": 190,
   "metadata": {},
   "outputs": [],
   "source": [
    "spa98xg13 = spa98xg13.drop(columns=['season', 'team'])\n"
   ]
  },
  {
   "cell_type": "code",
   "execution_count": 191,
   "metadata": {},
   "outputs": [],
   "source": [
    "spa98 = spa98xg13.mean()"
   ]
  },
  {
   "cell_type": "code",
   "execution_count": 192,
   "metadata": {},
   "outputs": [
    {
     "data": {
      "text/plain": [
       "goals_z            0.689231\n",
       "xg_z               0.773846\n",
       "crosses_z         -0.020769\n",
       "boxtouches_z       0.551538\n",
       "passes_z          -0.054615\n",
       "progpasses_z      -0.101538\n",
       "takeons_z         -0.112308\n",
       "progruns_z        -0.080000\n",
       "tackles_z          0.333077\n",
       "interceptions_z    0.871538\n",
       "clearances_z      -0.318462\n",
       "blocks_z           0.173077\n",
       "aerials_z          0.363846\n",
       "fouls_z           -0.326923\n",
       "fouled_z          -0.166923\n",
       "nsxg_z             0.448462\n",
       "dtype: float64"
      ]
     },
     "execution_count": 192,
     "metadata": {},
     "output_type": "execute_result"
    }
   ],
   "source": [
    "spa98"
   ]
  },
  {
   "cell_type": "code",
   "execution_count": 583,
   "metadata": {},
   "outputs": [],
   "source": [
    "spa = pd.concat([spa82, spa86, spa90, spa94, spa98], axis=1).T\n"
   ]
  },
  {
   "cell_type": "code",
   "execution_count": 584,
   "metadata": {},
   "outputs": [],
   "source": [
    "spa.rename(index={0: 'Spain82', 1: 'Spain86', 2: 'Spain90',\n",
    "                  3: 'Spain94', 4: 'Spain98'}, inplace=True)\n"
   ]
  },
  {
   "cell_type": "code",
   "execution_count": 585,
   "metadata": {},
   "outputs": [],
   "source": [
    "df2 = spa.assign(results=[12, 7, 10, 8, 17])\n"
   ]
  },
  {
   "cell_type": "code",
   "execution_count": 586,
   "metadata": {},
   "outputs": [
    {
     "data": {
      "text/html": [
       "<div>\n",
       "<style scoped>\n",
       "    .dataframe tbody tr th:only-of-type {\n",
       "        vertical-align: middle;\n",
       "    }\n",
       "\n",
       "    .dataframe tbody tr th {\n",
       "        vertical-align: top;\n",
       "    }\n",
       "\n",
       "    .dataframe thead th {\n",
       "        text-align: right;\n",
       "    }\n",
       "</style>\n",
       "<table border=\"1\" class=\"dataframe\">\n",
       "  <thead>\n",
       "    <tr style=\"text-align: right;\">\n",
       "      <th></th>\n",
       "      <th>goals_z</th>\n",
       "      <th>xg_z</th>\n",
       "      <th>crosses_z</th>\n",
       "      <th>boxtouches_z</th>\n",
       "      <th>passes_z</th>\n",
       "      <th>progpasses_z</th>\n",
       "      <th>takeons_z</th>\n",
       "      <th>progruns_z</th>\n",
       "      <th>tackles_z</th>\n",
       "      <th>interceptions_z</th>\n",
       "      <th>clearances_z</th>\n",
       "      <th>blocks_z</th>\n",
       "      <th>aerials_z</th>\n",
       "      <th>fouls_z</th>\n",
       "      <th>fouled_z</th>\n",
       "      <th>nsxg_z</th>\n",
       "      <th>results</th>\n",
       "    </tr>\n",
       "  </thead>\n",
       "  <tbody>\n",
       "    <tr>\n",
       "      <th>Spain82</th>\n",
       "      <td>-0.133846</td>\n",
       "      <td>0.256154</td>\n",
       "      <td>0.170769</td>\n",
       "      <td>0.283077</td>\n",
       "      <td>0.134615</td>\n",
       "      <td>0.325385</td>\n",
       "      <td>-0.096923</td>\n",
       "      <td>0.262308</td>\n",
       "      <td>0.286154</td>\n",
       "      <td>0.152308</td>\n",
       "      <td>0.067692</td>\n",
       "      <td>-0.172308</td>\n",
       "      <td>0.236154</td>\n",
       "      <td>0.000769</td>\n",
       "      <td>0.127692</td>\n",
       "      <td>0.303077</td>\n",
       "      <td>12</td>\n",
       "    </tr>\n",
       "    <tr>\n",
       "      <th>Spain86</th>\n",
       "      <td>0.566154</td>\n",
       "      <td>0.463077</td>\n",
       "      <td>0.130000</td>\n",
       "      <td>0.464615</td>\n",
       "      <td>-0.154615</td>\n",
       "      <td>0.110769</td>\n",
       "      <td>-0.134615</td>\n",
       "      <td>-0.115385</td>\n",
       "      <td>-0.296154</td>\n",
       "      <td>-0.282308</td>\n",
       "      <td>-0.366154</td>\n",
       "      <td>-0.210000</td>\n",
       "      <td>0.037692</td>\n",
       "      <td>-0.263846</td>\n",
       "      <td>0.064615</td>\n",
       "      <td>0.353077</td>\n",
       "      <td>7</td>\n",
       "    </tr>\n",
       "    <tr>\n",
       "      <th>Spain90</th>\n",
       "      <td>0.319231</td>\n",
       "      <td>0.181538</td>\n",
       "      <td>0.343077</td>\n",
       "      <td>0.478462</td>\n",
       "      <td>0.093077</td>\n",
       "      <td>0.240769</td>\n",
       "      <td>0.277692</td>\n",
       "      <td>0.030769</td>\n",
       "      <td>-0.124615</td>\n",
       "      <td>0.053077</td>\n",
       "      <td>0.038462</td>\n",
       "      <td>0.255385</td>\n",
       "      <td>-0.107692</td>\n",
       "      <td>0.080769</td>\n",
       "      <td>0.174615</td>\n",
       "      <td>0.254615</td>\n",
       "      <td>10</td>\n",
       "    </tr>\n",
       "    <tr>\n",
       "      <th>Spain94</th>\n",
       "      <td>0.417692</td>\n",
       "      <td>0.250000</td>\n",
       "      <td>0.259231</td>\n",
       "      <td>0.076154</td>\n",
       "      <td>-0.371538</td>\n",
       "      <td>-0.307692</td>\n",
       "      <td>0.165385</td>\n",
       "      <td>-0.083846</td>\n",
       "      <td>-0.407692</td>\n",
       "      <td>-0.237692</td>\n",
       "      <td>0.124615</td>\n",
       "      <td>-0.123846</td>\n",
       "      <td>0.232308</td>\n",
       "      <td>0.385385</td>\n",
       "      <td>-0.070000</td>\n",
       "      <td>0.069231</td>\n",
       "      <td>8</td>\n",
       "    </tr>\n",
       "    <tr>\n",
       "      <th>Spain98</th>\n",
       "      <td>0.689231</td>\n",
       "      <td>0.773846</td>\n",
       "      <td>-0.020769</td>\n",
       "      <td>0.551538</td>\n",
       "      <td>-0.054615</td>\n",
       "      <td>-0.101538</td>\n",
       "      <td>-0.112308</td>\n",
       "      <td>-0.080000</td>\n",
       "      <td>0.333077</td>\n",
       "      <td>0.871538</td>\n",
       "      <td>-0.318462</td>\n",
       "      <td>0.173077</td>\n",
       "      <td>0.363846</td>\n",
       "      <td>-0.326923</td>\n",
       "      <td>-0.166923</td>\n",
       "      <td>0.448462</td>\n",
       "      <td>17</td>\n",
       "    </tr>\n",
       "  </tbody>\n",
       "</table>\n",
       "</div>"
      ],
      "text/plain": [
       "          goals_z      xg_z  crosses_z  boxtouches_z  passes_z  progpasses_z  \\\n",
       "Spain82 -0.133846  0.256154   0.170769      0.283077  0.134615      0.325385   \n",
       "Spain86  0.566154  0.463077   0.130000      0.464615 -0.154615      0.110769   \n",
       "Spain90  0.319231  0.181538   0.343077      0.478462  0.093077      0.240769   \n",
       "Spain94  0.417692  0.250000   0.259231      0.076154 -0.371538     -0.307692   \n",
       "Spain98  0.689231  0.773846  -0.020769      0.551538 -0.054615     -0.101538   \n",
       "\n",
       "         takeons_z  progruns_z  tackles_z  interceptions_z  clearances_z  \\\n",
       "Spain82  -0.096923    0.262308   0.286154         0.152308      0.067692   \n",
       "Spain86  -0.134615   -0.115385  -0.296154        -0.282308     -0.366154   \n",
       "Spain90   0.277692    0.030769  -0.124615         0.053077      0.038462   \n",
       "Spain94   0.165385   -0.083846  -0.407692        -0.237692      0.124615   \n",
       "Spain98  -0.112308   -0.080000   0.333077         0.871538     -0.318462   \n",
       "\n",
       "         blocks_z  aerials_z   fouls_z  fouled_z    nsxg_z  results  \n",
       "Spain82 -0.172308   0.236154  0.000769  0.127692  0.303077       12  \n",
       "Spain86 -0.210000   0.037692 -0.263846  0.064615  0.353077        7  \n",
       "Spain90  0.255385  -0.107692  0.080769  0.174615  0.254615       10  \n",
       "Spain94 -0.123846   0.232308  0.385385 -0.070000  0.069231        8  \n",
       "Spain98  0.173077   0.363846 -0.326923 -0.166923  0.448462       17  "
      ]
     },
     "execution_count": 586,
     "metadata": {},
     "output_type": "execute_result"
    }
   ],
   "source": [
    "df2"
   ]
  },
  {
   "cell_type": "code",
   "execution_count": 587,
   "metadata": {},
   "outputs": [],
   "source": [
    "# df2.to_csv('Spain2.csv')\n"
   ]
  },
  {
   "cell_type": "code",
   "execution_count": 197,
   "metadata": {},
   "outputs": [],
   "source": [
    "# 82 - 12      Spain     5/B     5     1     2     2     4     5     −1     4\n",
    "# 86 - 7      Spain     D     5     3     1     1     11     4     +7     7\n",
    "# 90 - 10     E      Spain     4     2     1     1     6     4     +2     5\n",
    "# 94 - 8      Spain     C     5     2     2     1     10     6     +4     8\n",
    "# 98 - 17      Spain     D     3     1     1     1     8     4     +4     4\n"
   ]
  },
  {
   "cell_type": "markdown",
   "metadata": {},
   "source": []
  },
  {
   "cell_type": "markdown",
   "metadata": {},
   "source": [
    "# Portugal"
   ]
  },
  {
   "cell_type": "code",
   "execution_count": 198,
   "metadata": {},
   "outputs": [],
   "source": [
    "# 86 - 17      Portugal     F     3     1     0     2     2     4     −2     2"
   ]
  },
  {
   "cell_type": "markdown",
   "metadata": {},
   "source": [
    "## 86"
   ]
  },
  {
   "cell_type": "code",
   "execution_count": 199,
   "metadata": {},
   "outputs": [],
   "source": [
    "por = ['Portugal']"
   ]
  },
  {
   "cell_type": "code",
   "execution_count": 200,
   "metadata": {},
   "outputs": [],
   "source": [
    "por_year = df.loc[df[\"team\"].isin(por)]\n"
   ]
  },
  {
   "cell_type": "code",
   "execution_count": 201,
   "metadata": {},
   "outputs": [],
   "source": [
    "por86year = por_year.loc[por_year[\"season\"].isin(year1986)]\n",
    "\n"
   ]
  },
  {
   "cell_type": "code",
   "execution_count": 202,
   "metadata": {},
   "outputs": [],
   "source": [
    "por86xg = por86year.sort_values(by=[\"goals_z\"], ascending=False)\n"
   ]
  },
  {
   "cell_type": "code",
   "execution_count": 203,
   "metadata": {},
   "outputs": [],
   "source": [
    "por86xg13 = por86xg.head(13)\n"
   ]
  },
  {
   "cell_type": "code",
   "execution_count": 204,
   "metadata": {},
   "outputs": [],
   "source": [
    "por86xg13 = por86xg13.drop(columns=['season', 'team'])\n"
   ]
  },
  {
   "cell_type": "code",
   "execution_count": 205,
   "metadata": {},
   "outputs": [],
   "source": [
    "por86 = por86xg13.mean()"
   ]
  },
  {
   "cell_type": "code",
   "execution_count": 206,
   "metadata": {},
   "outputs": [
    {
     "data": {
      "text/plain": [
       "goals_z           -0.080769\n",
       "xg_z              -0.025385\n",
       "crosses_z          0.275385\n",
       "boxtouches_z       0.216154\n",
       "passes_z          -0.023846\n",
       "progpasses_z      -0.126923\n",
       "takeons_z          0.436923\n",
       "progruns_z         0.026923\n",
       "tackles_z         -0.035385\n",
       "interceptions_z    0.043846\n",
       "clearances_z       0.156154\n",
       "blocks_z          -0.066154\n",
       "aerials_z         -0.146154\n",
       "fouls_z           -0.262308\n",
       "fouled_z           0.421538\n",
       "nsxg_z             0.089231\n",
       "dtype: float64"
      ]
     },
     "execution_count": 206,
     "metadata": {},
     "output_type": "execute_result"
    }
   ],
   "source": [
    "por86"
   ]
  },
  {
   "cell_type": "code",
   "execution_count": 588,
   "metadata": {},
   "outputs": [],
   "source": [
    "por = pd.concat([por86], axis=1).T\n"
   ]
  },
  {
   "cell_type": "code",
   "execution_count": 589,
   "metadata": {},
   "outputs": [],
   "source": [
    "por.rename(index={0: 'Portugal86'}, inplace=True)\n"
   ]
  },
  {
   "cell_type": "code",
   "execution_count": 590,
   "metadata": {},
   "outputs": [],
   "source": [
    "df2 = por.assign(results=[17])"
   ]
  },
  {
   "cell_type": "code",
   "execution_count": 591,
   "metadata": {},
   "outputs": [
    {
     "data": {
      "text/html": [
       "<div>\n",
       "<style scoped>\n",
       "    .dataframe tbody tr th:only-of-type {\n",
       "        vertical-align: middle;\n",
       "    }\n",
       "\n",
       "    .dataframe tbody tr th {\n",
       "        vertical-align: top;\n",
       "    }\n",
       "\n",
       "    .dataframe thead th {\n",
       "        text-align: right;\n",
       "    }\n",
       "</style>\n",
       "<table border=\"1\" class=\"dataframe\">\n",
       "  <thead>\n",
       "    <tr style=\"text-align: right;\">\n",
       "      <th></th>\n",
       "      <th>goals_z</th>\n",
       "      <th>xg_z</th>\n",
       "      <th>crosses_z</th>\n",
       "      <th>boxtouches_z</th>\n",
       "      <th>passes_z</th>\n",
       "      <th>progpasses_z</th>\n",
       "      <th>takeons_z</th>\n",
       "      <th>progruns_z</th>\n",
       "      <th>tackles_z</th>\n",
       "      <th>interceptions_z</th>\n",
       "      <th>clearances_z</th>\n",
       "      <th>blocks_z</th>\n",
       "      <th>aerials_z</th>\n",
       "      <th>fouls_z</th>\n",
       "      <th>fouled_z</th>\n",
       "      <th>nsxg_z</th>\n",
       "      <th>results</th>\n",
       "    </tr>\n",
       "  </thead>\n",
       "  <tbody>\n",
       "    <tr>\n",
       "      <th>Portugal86</th>\n",
       "      <td>-0.080769</td>\n",
       "      <td>-0.025385</td>\n",
       "      <td>0.275385</td>\n",
       "      <td>0.216154</td>\n",
       "      <td>-0.023846</td>\n",
       "      <td>-0.126923</td>\n",
       "      <td>0.436923</td>\n",
       "      <td>0.026923</td>\n",
       "      <td>-0.035385</td>\n",
       "      <td>0.043846</td>\n",
       "      <td>0.156154</td>\n",
       "      <td>-0.066154</td>\n",
       "      <td>-0.146154</td>\n",
       "      <td>-0.262308</td>\n",
       "      <td>0.421538</td>\n",
       "      <td>0.089231</td>\n",
       "      <td>17</td>\n",
       "    </tr>\n",
       "  </tbody>\n",
       "</table>\n",
       "</div>"
      ],
      "text/plain": [
       "             goals_z      xg_z  crosses_z  boxtouches_z  passes_z  \\\n",
       "Portugal86 -0.080769 -0.025385   0.275385      0.216154 -0.023846   \n",
       "\n",
       "            progpasses_z  takeons_z  progruns_z  tackles_z  interceptions_z  \\\n",
       "Portugal86     -0.126923   0.436923    0.026923  -0.035385         0.043846   \n",
       "\n",
       "            clearances_z  blocks_z  aerials_z   fouls_z  fouled_z    nsxg_z  \\\n",
       "Portugal86      0.156154 -0.066154  -0.146154 -0.262308  0.421538  0.089231   \n",
       "\n",
       "            results  \n",
       "Portugal86       17  "
      ]
     },
     "execution_count": 591,
     "metadata": {},
     "output_type": "execute_result"
    }
   ],
   "source": [
    "df2"
   ]
  },
  {
   "cell_type": "code",
   "execution_count": 592,
   "metadata": {},
   "outputs": [],
   "source": [
    "\n",
    "# df2.to_csv('Portugal2.csv')"
   ]
  },
  {
   "cell_type": "markdown",
   "metadata": {},
   "source": [
    "# England"
   ]
  },
  {
   "cell_type": "markdown",
   "metadata": {},
   "source": [
    "## 82"
   ]
  },
  {
   "cell_type": "code",
   "execution_count": 211,
   "metadata": {},
   "outputs": [],
   "source": [
    "eng = ['England']\n"
   ]
  },
  {
   "cell_type": "code",
   "execution_count": 212,
   "metadata": {},
   "outputs": [],
   "source": [
    "eng_year = df.loc[df[\"team\"].isin(eng)]\n"
   ]
  },
  {
   "cell_type": "code",
   "execution_count": 213,
   "metadata": {},
   "outputs": [],
   "source": [
    "eng82year = eng_year.loc[eng_year[\"season\"].isin(year1982)]\n",
    "\n"
   ]
  },
  {
   "cell_type": "code",
   "execution_count": 214,
   "metadata": {},
   "outputs": [],
   "source": [
    "eng82xg = eng82year.sort_values(by=[\"goals_z\"], ascending=False)\n"
   ]
  },
  {
   "cell_type": "code",
   "execution_count": 215,
   "metadata": {},
   "outputs": [],
   "source": [
    "eng82xg13 = eng82xg.head(13)\n"
   ]
  },
  {
   "cell_type": "code",
   "execution_count": 216,
   "metadata": {},
   "outputs": [],
   "source": [
    "eng82xg13 = eng82xg13.drop(columns=['season', 'team'])\n"
   ]
  },
  {
   "cell_type": "code",
   "execution_count": 217,
   "metadata": {},
   "outputs": [],
   "source": [
    "eng82 = eng82xg13.mean()"
   ]
  },
  {
   "cell_type": "code",
   "execution_count": 218,
   "metadata": {},
   "outputs": [],
   "source": [
    "# eng82"
   ]
  },
  {
   "cell_type": "markdown",
   "metadata": {},
   "source": [
    "## 86"
   ]
  },
  {
   "cell_type": "code",
   "execution_count": 219,
   "metadata": {},
   "outputs": [],
   "source": [
    "eng86year = eng_year.loc[eng_year[\"season\"].isin(year1986)]\n"
   ]
  },
  {
   "cell_type": "code",
   "execution_count": 220,
   "metadata": {},
   "outputs": [],
   "source": [
    "eng86xg = eng86year.sort_values(by=[\"goals_z\"], ascending=False)\n"
   ]
  },
  {
   "cell_type": "code",
   "execution_count": 221,
   "metadata": {},
   "outputs": [],
   "source": [
    "eng86xg13 = eng86xg.head(13)\n"
   ]
  },
  {
   "cell_type": "code",
   "execution_count": 222,
   "metadata": {},
   "outputs": [],
   "source": [
    "eng86xg13 = eng86xg13.drop(columns=['season', 'team'])\n"
   ]
  },
  {
   "cell_type": "code",
   "execution_count": 223,
   "metadata": {},
   "outputs": [],
   "source": [
    "eng86 = eng86xg13.mean()"
   ]
  },
  {
   "cell_type": "code",
   "execution_count": 224,
   "metadata": {},
   "outputs": [],
   "source": [
    "# eng86"
   ]
  },
  {
   "cell_type": "markdown",
   "metadata": {},
   "source": [
    "## 90"
   ]
  },
  {
   "cell_type": "code",
   "execution_count": 225,
   "metadata": {},
   "outputs": [],
   "source": [
    "eng90year = eng_year.loc[eng_year[\"season\"].isin(year1990)]\n"
   ]
  },
  {
   "cell_type": "code",
   "execution_count": 226,
   "metadata": {},
   "outputs": [],
   "source": [
    "eng90xg = eng90year.sort_values(by=[\"goals_z\"], ascending=False)\n"
   ]
  },
  {
   "cell_type": "code",
   "execution_count": 227,
   "metadata": {},
   "outputs": [],
   "source": [
    "eng90xg13 = eng90xg.head(13)\n"
   ]
  },
  {
   "cell_type": "code",
   "execution_count": 228,
   "metadata": {},
   "outputs": [],
   "source": [
    "eng90xg13 = eng90xg13.drop(columns=['season', 'team'])\n"
   ]
  },
  {
   "cell_type": "code",
   "execution_count": 229,
   "metadata": {},
   "outputs": [],
   "source": [
    "eng90 = eng90xg13.mean()"
   ]
  },
  {
   "cell_type": "code",
   "execution_count": 230,
   "metadata": {},
   "outputs": [],
   "source": [
    "# eng90"
   ]
  },
  {
   "cell_type": "markdown",
   "metadata": {},
   "source": [
    "## 98"
   ]
  },
  {
   "cell_type": "code",
   "execution_count": 231,
   "metadata": {},
   "outputs": [],
   "source": [
    "eng98year = eng_year.loc[eng_year[\"season\"].isin(year1998)]\n"
   ]
  },
  {
   "cell_type": "code",
   "execution_count": 232,
   "metadata": {},
   "outputs": [],
   "source": [
    "eng98xg = eng98year.sort_values(by=[\"goals_z\"], ascending=False)\n"
   ]
  },
  {
   "cell_type": "code",
   "execution_count": 233,
   "metadata": {},
   "outputs": [],
   "source": [
    "eng98xg13 = eng98xg.head(13)\n"
   ]
  },
  {
   "cell_type": "code",
   "execution_count": 234,
   "metadata": {},
   "outputs": [],
   "source": [
    "eng98xg13 = eng98xg13.drop(columns=['season', 'team'])\n"
   ]
  },
  {
   "cell_type": "code",
   "execution_count": 235,
   "metadata": {},
   "outputs": [],
   "source": [
    "eng98 = eng98xg13.mean()"
   ]
  },
  {
   "cell_type": "code",
   "execution_count": 236,
   "metadata": {},
   "outputs": [],
   "source": [
    "# eng98"
   ]
  },
  {
   "cell_type": "code",
   "execution_count": 593,
   "metadata": {},
   "outputs": [],
   "source": [
    "eng = pd.concat([eng82, eng86, eng90, eng98], axis=1).T"
   ]
  },
  {
   "cell_type": "code",
   "execution_count": 594,
   "metadata": {},
   "outputs": [],
   "source": [
    "eng.rename(index={0: 'England82', 1: 'England86', 2: 'England90',\n",
    "                  3: 'England98'}, inplace=True)"
   ]
  },
  {
   "cell_type": "code",
   "execution_count": 595,
   "metadata": {},
   "outputs": [],
   "source": [
    "df2 = eng.assign(results=[6, 8, 4, 9])"
   ]
  },
  {
   "cell_type": "code",
   "execution_count": 596,
   "metadata": {},
   "outputs": [
    {
     "data": {
      "text/html": [
       "<div>\n",
       "<style scoped>\n",
       "    .dataframe tbody tr th:only-of-type {\n",
       "        vertical-align: middle;\n",
       "    }\n",
       "\n",
       "    .dataframe tbody tr th {\n",
       "        vertical-align: top;\n",
       "    }\n",
       "\n",
       "    .dataframe thead th {\n",
       "        text-align: right;\n",
       "    }\n",
       "</style>\n",
       "<table border=\"1\" class=\"dataframe\">\n",
       "  <thead>\n",
       "    <tr style=\"text-align: right;\">\n",
       "      <th></th>\n",
       "      <th>goals_z</th>\n",
       "      <th>xg_z</th>\n",
       "      <th>crosses_z</th>\n",
       "      <th>boxtouches_z</th>\n",
       "      <th>passes_z</th>\n",
       "      <th>progpasses_z</th>\n",
       "      <th>takeons_z</th>\n",
       "      <th>progruns_z</th>\n",
       "      <th>tackles_z</th>\n",
       "      <th>interceptions_z</th>\n",
       "      <th>clearances_z</th>\n",
       "      <th>blocks_z</th>\n",
       "      <th>aerials_z</th>\n",
       "      <th>fouls_z</th>\n",
       "      <th>fouled_z</th>\n",
       "      <th>nsxg_z</th>\n",
       "      <th>results</th>\n",
       "    </tr>\n",
       "  </thead>\n",
       "  <tbody>\n",
       "    <tr>\n",
       "      <th>England82</th>\n",
       "      <td>-0.040769</td>\n",
       "      <td>0.086154</td>\n",
       "      <td>0.800000</td>\n",
       "      <td>0.509231</td>\n",
       "      <td>0.105385</td>\n",
       "      <td>0.273077</td>\n",
       "      <td>-0.303846</td>\n",
       "      <td>0.075385</td>\n",
       "      <td>-0.152308</td>\n",
       "      <td>0.050769</td>\n",
       "      <td>-0.252308</td>\n",
       "      <td>-0.076923</td>\n",
       "      <td>0.296923</td>\n",
       "      <td>0.257692</td>\n",
       "      <td>-0.244615</td>\n",
       "      <td>0.475385</td>\n",
       "      <td>6</td>\n",
       "    </tr>\n",
       "    <tr>\n",
       "      <th>England86</th>\n",
       "      <td>0.258462</td>\n",
       "      <td>0.175385</td>\n",
       "      <td>0.285385</td>\n",
       "      <td>0.583077</td>\n",
       "      <td>-0.080000</td>\n",
       "      <td>0.028462</td>\n",
       "      <td>-0.335385</td>\n",
       "      <td>-0.186154</td>\n",
       "      <td>-0.043077</td>\n",
       "      <td>-0.222308</td>\n",
       "      <td>-0.010000</td>\n",
       "      <td>0.023077</td>\n",
       "      <td>0.463077</td>\n",
       "      <td>0.066154</td>\n",
       "      <td>-0.237692</td>\n",
       "      <td>0.185385</td>\n",
       "      <td>8</td>\n",
       "    </tr>\n",
       "    <tr>\n",
       "      <th>England90</th>\n",
       "      <td>0.114615</td>\n",
       "      <td>0.033077</td>\n",
       "      <td>-0.090000</td>\n",
       "      <td>0.086154</td>\n",
       "      <td>-0.222308</td>\n",
       "      <td>-0.033846</td>\n",
       "      <td>-0.094615</td>\n",
       "      <td>-0.130000</td>\n",
       "      <td>-0.189231</td>\n",
       "      <td>-0.468462</td>\n",
       "      <td>0.128462</td>\n",
       "      <td>-0.308462</td>\n",
       "      <td>0.240769</td>\n",
       "      <td>-0.463846</td>\n",
       "      <td>-0.444615</td>\n",
       "      <td>-0.231538</td>\n",
       "      <td>4</td>\n",
       "    </tr>\n",
       "    <tr>\n",
       "      <th>England98</th>\n",
       "      <td>0.346154</td>\n",
       "      <td>0.280769</td>\n",
       "      <td>0.256923</td>\n",
       "      <td>0.146923</td>\n",
       "      <td>0.001538</td>\n",
       "      <td>0.020769</td>\n",
       "      <td>0.363077</td>\n",
       "      <td>-0.193077</td>\n",
       "      <td>-0.112308</td>\n",
       "      <td>-0.210000</td>\n",
       "      <td>-0.140000</td>\n",
       "      <td>-0.231538</td>\n",
       "      <td>-0.044615</td>\n",
       "      <td>-0.110769</td>\n",
       "      <td>0.452308</td>\n",
       "      <td>0.309231</td>\n",
       "      <td>9</td>\n",
       "    </tr>\n",
       "  </tbody>\n",
       "</table>\n",
       "</div>"
      ],
      "text/plain": [
       "            goals_z      xg_z  crosses_z  boxtouches_z  passes_z  \\\n",
       "England82 -0.040769  0.086154   0.800000      0.509231  0.105385   \n",
       "England86  0.258462  0.175385   0.285385      0.583077 -0.080000   \n",
       "England90  0.114615  0.033077  -0.090000      0.086154 -0.222308   \n",
       "England98  0.346154  0.280769   0.256923      0.146923  0.001538   \n",
       "\n",
       "           progpasses_z  takeons_z  progruns_z  tackles_z  interceptions_z  \\\n",
       "England82      0.273077  -0.303846    0.075385  -0.152308         0.050769   \n",
       "England86      0.028462  -0.335385   -0.186154  -0.043077        -0.222308   \n",
       "England90     -0.033846  -0.094615   -0.130000  -0.189231        -0.468462   \n",
       "England98      0.020769   0.363077   -0.193077  -0.112308        -0.210000   \n",
       "\n",
       "           clearances_z  blocks_z  aerials_z   fouls_z  fouled_z    nsxg_z  \\\n",
       "England82     -0.252308 -0.076923   0.296923  0.257692 -0.244615  0.475385   \n",
       "England86     -0.010000  0.023077   0.463077  0.066154 -0.237692  0.185385   \n",
       "England90      0.128462 -0.308462   0.240769 -0.463846 -0.444615 -0.231538   \n",
       "England98     -0.140000 -0.231538  -0.044615 -0.110769  0.452308  0.309231   \n",
       "\n",
       "           results  \n",
       "England82        6  \n",
       "England86        8  \n",
       "England90        4  \n",
       "England98        9  "
      ]
     },
     "execution_count": 596,
     "metadata": {},
     "output_type": "execute_result"
    }
   ],
   "source": [
    "df2"
   ]
  },
  {
   "cell_type": "code",
   "execution_count": 597,
   "metadata": {},
   "outputs": [],
   "source": [
    "# df2.to_csv('England2.csv')"
   ]
  },
  {
   "cell_type": "code",
   "execution_count": 241,
   "metadata": {},
   "outputs": [],
   "source": [
    "# 82 - 6      England     4/B     5     3     2     0     6     1     +5     8\n",
    "# 86 - 8      England     F     5     2     1     2     7     3     +4     5\n",
    "# 90 - 4     F      England     7     3     3     1     8     6     +2     9     4th\n",
    "# 98 - 9      England     G     4     2     1     1     7     4     +3     7\n"
   ]
  },
  {
   "cell_type": "markdown",
   "metadata": {},
   "source": [
    "# Belgium"
   ]
  },
  {
   "cell_type": "markdown",
   "metadata": {},
   "source": [
    "## 82"
   ]
  },
  {
   "cell_type": "code",
   "execution_count": 242,
   "metadata": {},
   "outputs": [],
   "source": [
    "bel = ['Belgium']\n"
   ]
  },
  {
   "cell_type": "code",
   "execution_count": 243,
   "metadata": {},
   "outputs": [],
   "source": [
    "bel_year = df.loc[df[\"team\"].isin(bel)]\n"
   ]
  },
  {
   "cell_type": "code",
   "execution_count": 244,
   "metadata": {},
   "outputs": [],
   "source": [
    "bel82year = bel_year.loc[bel_year[\"season\"].isin(year1982)]\n"
   ]
  },
  {
   "cell_type": "code",
   "execution_count": 245,
   "metadata": {},
   "outputs": [],
   "source": [
    "bel82xg = bel82year.sort_values(by=[\"goals_z\"], ascending=False)\n",
    "\n"
   ]
  },
  {
   "cell_type": "code",
   "execution_count": 246,
   "metadata": {},
   "outputs": [],
   "source": [
    "bel82xg13 = bel82xg.head(13)\n"
   ]
  },
  {
   "cell_type": "code",
   "execution_count": 247,
   "metadata": {},
   "outputs": [],
   "source": [
    "bel82xg13 = bel82xg13.drop(columns=['season', 'team'])\n"
   ]
  },
  {
   "cell_type": "code",
   "execution_count": 248,
   "metadata": {},
   "outputs": [],
   "source": [
    "bel82 = bel82xg13.mean()"
   ]
  },
  {
   "cell_type": "code",
   "execution_count": 249,
   "metadata": {},
   "outputs": [],
   "source": [
    "# bel82"
   ]
  },
  {
   "cell_type": "markdown",
   "metadata": {},
   "source": [
    "## 86"
   ]
  },
  {
   "cell_type": "code",
   "execution_count": 250,
   "metadata": {},
   "outputs": [],
   "source": [
    "bel86year = bel_year.loc[bel_year[\"season\"].isin(year1986)]\n"
   ]
  },
  {
   "cell_type": "code",
   "execution_count": 251,
   "metadata": {},
   "outputs": [],
   "source": [
    "bel86xg = bel86year.sort_values(by=[\"goals_z\"], ascending=False)\n",
    "\n"
   ]
  },
  {
   "cell_type": "code",
   "execution_count": 252,
   "metadata": {},
   "outputs": [],
   "source": [
    "bel86xg13 = bel86xg.head(13)\n"
   ]
  },
  {
   "cell_type": "code",
   "execution_count": 253,
   "metadata": {},
   "outputs": [],
   "source": [
    "bel86xg13 = bel86xg13.drop(columns=['season', 'team'])\n"
   ]
  },
  {
   "cell_type": "code",
   "execution_count": 254,
   "metadata": {},
   "outputs": [],
   "source": [
    "bel86 = bel86xg13.mean()"
   ]
  },
  {
   "cell_type": "code",
   "execution_count": 255,
   "metadata": {},
   "outputs": [],
   "source": [
    "# bel86"
   ]
  },
  {
   "cell_type": "markdown",
   "metadata": {},
   "source": [
    "## 90"
   ]
  },
  {
   "cell_type": "code",
   "execution_count": 256,
   "metadata": {},
   "outputs": [],
   "source": [
    "bel90year = bel_year.loc[bel_year[\"season\"].isin(year1990)]"
   ]
  },
  {
   "cell_type": "code",
   "execution_count": 257,
   "metadata": {},
   "outputs": [],
   "source": [
    "bel90xg = bel90year.sort_values(by=[\"goals_z\"], ascending=False)"
   ]
  },
  {
   "cell_type": "code",
   "execution_count": 258,
   "metadata": {},
   "outputs": [],
   "source": [
    "bel90xg13 = bel90xg.head(13)"
   ]
  },
  {
   "cell_type": "code",
   "execution_count": 259,
   "metadata": {},
   "outputs": [],
   "source": [
    "bel90xg13 = bel90xg13.drop(columns=['season', 'team'])"
   ]
  },
  {
   "cell_type": "code",
   "execution_count": 260,
   "metadata": {},
   "outputs": [],
   "source": [
    "bel90 = bel90xg13.mean()"
   ]
  },
  {
   "cell_type": "code",
   "execution_count": 261,
   "metadata": {},
   "outputs": [],
   "source": [
    "# bel90"
   ]
  },
  {
   "cell_type": "markdown",
   "metadata": {},
   "source": [
    "## 94"
   ]
  },
  {
   "cell_type": "code",
   "execution_count": 262,
   "metadata": {},
   "outputs": [],
   "source": [
    "bel94year = bel_year.loc[bel_year[\"season\"].isin(year1994)]"
   ]
  },
  {
   "cell_type": "code",
   "execution_count": 263,
   "metadata": {},
   "outputs": [],
   "source": [
    "bel94xg = bel94year.sort_values(by=[\"goals_z\"], ascending=False)"
   ]
  },
  {
   "cell_type": "code",
   "execution_count": 264,
   "metadata": {},
   "outputs": [],
   "source": [
    "bel94xg13 = bel94xg.head(13)"
   ]
  },
  {
   "cell_type": "code",
   "execution_count": 265,
   "metadata": {},
   "outputs": [],
   "source": [
    "bel94xg13 = bel94xg13.drop(columns=['season', 'team'])"
   ]
  },
  {
   "cell_type": "code",
   "execution_count": 266,
   "metadata": {},
   "outputs": [],
   "source": [
    "bel94 = bel94xg13.mean()"
   ]
  },
  {
   "cell_type": "code",
   "execution_count": 267,
   "metadata": {},
   "outputs": [],
   "source": [
    "# bel94"
   ]
  },
  {
   "cell_type": "markdown",
   "metadata": {},
   "source": [
    "## 98"
   ]
  },
  {
   "cell_type": "code",
   "execution_count": 268,
   "metadata": {},
   "outputs": [],
   "source": [
    "bel98year = bel_year.loc[bel_year[\"season\"].isin(year1998)]"
   ]
  },
  {
   "cell_type": "code",
   "execution_count": 269,
   "metadata": {},
   "outputs": [],
   "source": [
    "bel98xg = bel98year.sort_values(by=[\"goals_z\"], ascending=False)"
   ]
  },
  {
   "cell_type": "code",
   "execution_count": 270,
   "metadata": {},
   "outputs": [],
   "source": [
    "bel98xg13 = bel98xg.head(13)"
   ]
  },
  {
   "cell_type": "code",
   "execution_count": 271,
   "metadata": {},
   "outputs": [],
   "source": [
    "bel98xg13 = bel98xg13.drop(columns=['season', 'team'])"
   ]
  },
  {
   "cell_type": "code",
   "execution_count": 272,
   "metadata": {},
   "outputs": [],
   "source": [
    "bel98 = bel98xg13.mean()"
   ]
  },
  {
   "cell_type": "code",
   "execution_count": 273,
   "metadata": {},
   "outputs": [],
   "source": [
    "# bel98"
   ]
  },
  {
   "cell_type": "code",
   "execution_count": 598,
   "metadata": {},
   "outputs": [],
   "source": [
    "bel = pd.concat([bel82, bel86, bel90, bel94, bel98], axis=1).T\n",
    "\n"
   ]
  },
  {
   "cell_type": "code",
   "execution_count": 599,
   "metadata": {},
   "outputs": [],
   "source": [
    "bel.rename(index={0: 'Belgium82', 1: 'Belgium86', 2: 'Belgium90', \n",
    "                  3: 'Belgium94', 4: 'Belgium98'}, inplace=True)\n"
   ]
  },
  {
   "cell_type": "code",
   "execution_count": 600,
   "metadata": {},
   "outputs": [],
   "source": [
    "df2 = bel.assign(results=[10, 4, 11, 11, 19])\n"
   ]
  },
  {
   "cell_type": "code",
   "execution_count": 601,
   "metadata": {},
   "outputs": [
    {
     "data": {
      "text/html": [
       "<div>\n",
       "<style scoped>\n",
       "    .dataframe tbody tr th:only-of-type {\n",
       "        vertical-align: middle;\n",
       "    }\n",
       "\n",
       "    .dataframe tbody tr th {\n",
       "        vertical-align: top;\n",
       "    }\n",
       "\n",
       "    .dataframe thead th {\n",
       "        text-align: right;\n",
       "    }\n",
       "</style>\n",
       "<table border=\"1\" class=\"dataframe\">\n",
       "  <thead>\n",
       "    <tr style=\"text-align: right;\">\n",
       "      <th></th>\n",
       "      <th>goals_z</th>\n",
       "      <th>xg_z</th>\n",
       "      <th>crosses_z</th>\n",
       "      <th>boxtouches_z</th>\n",
       "      <th>passes_z</th>\n",
       "      <th>progpasses_z</th>\n",
       "      <th>takeons_z</th>\n",
       "      <th>progruns_z</th>\n",
       "      <th>tackles_z</th>\n",
       "      <th>interceptions_z</th>\n",
       "      <th>clearances_z</th>\n",
       "      <th>blocks_z</th>\n",
       "      <th>aerials_z</th>\n",
       "      <th>fouls_z</th>\n",
       "      <th>fouled_z</th>\n",
       "      <th>nsxg_z</th>\n",
       "      <th>results</th>\n",
       "    </tr>\n",
       "  </thead>\n",
       "  <tbody>\n",
       "    <tr>\n",
       "      <th>Belgium82</th>\n",
       "      <td>-0.225385</td>\n",
       "      <td>-0.005385</td>\n",
       "      <td>-0.228462</td>\n",
       "      <td>0.187692</td>\n",
       "      <td>-0.058462</td>\n",
       "      <td>-0.136923</td>\n",
       "      <td>-0.183077</td>\n",
       "      <td>0.026923</td>\n",
       "      <td>0.302308</td>\n",
       "      <td>-0.031538</td>\n",
       "      <td>-0.303077</td>\n",
       "      <td>-0.209231</td>\n",
       "      <td>-0.253846</td>\n",
       "      <td>-0.120000</td>\n",
       "      <td>-0.320000</td>\n",
       "      <td>-0.224615</td>\n",
       "      <td>10</td>\n",
       "    </tr>\n",
       "    <tr>\n",
       "      <th>Belgium86</th>\n",
       "      <td>0.303846</td>\n",
       "      <td>-0.037692</td>\n",
       "      <td>0.040000</td>\n",
       "      <td>-0.090000</td>\n",
       "      <td>-0.385385</td>\n",
       "      <td>-0.224615</td>\n",
       "      <td>-0.321538</td>\n",
       "      <td>-0.196154</td>\n",
       "      <td>-0.236923</td>\n",
       "      <td>-0.344615</td>\n",
       "      <td>-0.150000</td>\n",
       "      <td>-0.266923</td>\n",
       "      <td>-0.132308</td>\n",
       "      <td>-0.102308</td>\n",
       "      <td>-0.371538</td>\n",
       "      <td>-0.119231</td>\n",
       "      <td>4</td>\n",
       "    </tr>\n",
       "    <tr>\n",
       "      <th>Belgium90</th>\n",
       "      <td>0.318462</td>\n",
       "      <td>-0.011538</td>\n",
       "      <td>-0.173077</td>\n",
       "      <td>0.039231</td>\n",
       "      <td>-0.215385</td>\n",
       "      <td>-0.090769</td>\n",
       "      <td>0.050769</td>\n",
       "      <td>-0.165385</td>\n",
       "      <td>0.025385</td>\n",
       "      <td>0.045385</td>\n",
       "      <td>-0.402308</td>\n",
       "      <td>-0.026923</td>\n",
       "      <td>-0.133846</td>\n",
       "      <td>-0.403846</td>\n",
       "      <td>-0.578462</td>\n",
       "      <td>-0.146154</td>\n",
       "      <td>11</td>\n",
       "    </tr>\n",
       "    <tr>\n",
       "      <th>Belgium94</th>\n",
       "      <td>0.015385</td>\n",
       "      <td>0.321538</td>\n",
       "      <td>0.681538</td>\n",
       "      <td>0.588462</td>\n",
       "      <td>0.288462</td>\n",
       "      <td>0.276923</td>\n",
       "      <td>0.149231</td>\n",
       "      <td>0.466923</td>\n",
       "      <td>0.473077</td>\n",
       "      <td>0.370769</td>\n",
       "      <td>-0.127692</td>\n",
       "      <td>0.583077</td>\n",
       "      <td>-0.006154</td>\n",
       "      <td>-0.200769</td>\n",
       "      <td>0.530769</td>\n",
       "      <td>0.897692</td>\n",
       "      <td>11</td>\n",
       "    </tr>\n",
       "    <tr>\n",
       "      <th>Belgium98</th>\n",
       "      <td>0.055385</td>\n",
       "      <td>-0.119231</td>\n",
       "      <td>-0.020769</td>\n",
       "      <td>0.236154</td>\n",
       "      <td>-0.781538</td>\n",
       "      <td>-0.649231</td>\n",
       "      <td>-0.407692</td>\n",
       "      <td>-0.568462</td>\n",
       "      <td>-0.578462</td>\n",
       "      <td>-0.444615</td>\n",
       "      <td>-0.076154</td>\n",
       "      <td>-0.213077</td>\n",
       "      <td>-0.333846</td>\n",
       "      <td>-0.093077</td>\n",
       "      <td>-0.197692</td>\n",
       "      <td>0.083077</td>\n",
       "      <td>19</td>\n",
       "    </tr>\n",
       "  </tbody>\n",
       "</table>\n",
       "</div>"
      ],
      "text/plain": [
       "            goals_z      xg_z  crosses_z  boxtouches_z  passes_z  \\\n",
       "Belgium82 -0.225385 -0.005385  -0.228462      0.187692 -0.058462   \n",
       "Belgium86  0.303846 -0.037692   0.040000     -0.090000 -0.385385   \n",
       "Belgium90  0.318462 -0.011538  -0.173077      0.039231 -0.215385   \n",
       "Belgium94  0.015385  0.321538   0.681538      0.588462  0.288462   \n",
       "Belgium98  0.055385 -0.119231  -0.020769      0.236154 -0.781538   \n",
       "\n",
       "           progpasses_z  takeons_z  progruns_z  tackles_z  interceptions_z  \\\n",
       "Belgium82     -0.136923  -0.183077    0.026923   0.302308        -0.031538   \n",
       "Belgium86     -0.224615  -0.321538   -0.196154  -0.236923        -0.344615   \n",
       "Belgium90     -0.090769   0.050769   -0.165385   0.025385         0.045385   \n",
       "Belgium94      0.276923   0.149231    0.466923   0.473077         0.370769   \n",
       "Belgium98     -0.649231  -0.407692   -0.568462  -0.578462        -0.444615   \n",
       "\n",
       "           clearances_z  blocks_z  aerials_z   fouls_z  fouled_z    nsxg_z  \\\n",
       "Belgium82     -0.303077 -0.209231  -0.253846 -0.120000 -0.320000 -0.224615   \n",
       "Belgium86     -0.150000 -0.266923  -0.132308 -0.102308 -0.371538 -0.119231   \n",
       "Belgium90     -0.402308 -0.026923  -0.133846 -0.403846 -0.578462 -0.146154   \n",
       "Belgium94     -0.127692  0.583077  -0.006154 -0.200769  0.530769  0.897692   \n",
       "Belgium98     -0.076154 -0.213077  -0.333846 -0.093077 -0.197692  0.083077   \n",
       "\n",
       "           results  \n",
       "Belgium82       10  \n",
       "Belgium86        4  \n",
       "Belgium90       11  \n",
       "Belgium94       11  \n",
       "Belgium98       19  "
      ]
     },
     "execution_count": 601,
     "metadata": {},
     "output_type": "execute_result"
    }
   ],
   "source": [
    "df2"
   ]
  },
  {
   "cell_type": "code",
   "execution_count": 602,
   "metadata": {},
   "outputs": [],
   "source": [
    "# df2.to_csv('Belgium2.csv')"
   ]
  },
  {
   "cell_type": "code",
   "execution_count": null,
   "metadata": {},
   "outputs": [],
   "source": []
  },
  {
   "cell_type": "code",
   "execution_count": 278,
   "metadata": {},
   "outputs": [],
   "source": [
    "# 82 - 10      Belgium     3/A     5     2     1     2     3     5     −2     5\n",
    "# 86 - 4      Belgium     B     7     2     2     3     12     15     −3     6\n",
    "# 90 - 11     E      Belgium     4     2     0     2     6     4     +2     4\n",
    "# 94 - 11      Belgium     F     4     2     0     2     4     4     0     6\n",
    "# 98 - 19      Belgium     E     3     0     3     0     3     3     0     3\n"
   ]
  },
  {
   "cell_type": "markdown",
   "metadata": {},
   "source": [
    "# Uruguay"
   ]
  },
  {
   "cell_type": "markdown",
   "metadata": {},
   "source": [
    "## 86"
   ]
  },
  {
   "cell_type": "code",
   "execution_count": 279,
   "metadata": {},
   "outputs": [],
   "source": [
    "uru = ['Uruguay']\n"
   ]
  },
  {
   "cell_type": "code",
   "execution_count": 280,
   "metadata": {},
   "outputs": [],
   "source": [
    "uru_year = df.loc[df[\"team\"].isin(uru)]"
   ]
  },
  {
   "cell_type": "code",
   "execution_count": 281,
   "metadata": {},
   "outputs": [],
   "source": [
    "uru86year = uru_year.loc[uru_year[\"season\"].isin(year1986)]"
   ]
  },
  {
   "cell_type": "code",
   "execution_count": 282,
   "metadata": {},
   "outputs": [],
   "source": [
    "uru86xg = uru86year.sort_values(by=[\"goals_z\"], ascending=False)"
   ]
  },
  {
   "cell_type": "code",
   "execution_count": 283,
   "metadata": {},
   "outputs": [],
   "source": [
    "uru86xg13 = uru86xg.head(13)"
   ]
  },
  {
   "cell_type": "code",
   "execution_count": 284,
   "metadata": {},
   "outputs": [],
   "source": [
    "uru86xg13 = uru86xg13.drop(columns=['season', 'team'])"
   ]
  },
  {
   "cell_type": "code",
   "execution_count": 285,
   "metadata": {},
   "outputs": [],
   "source": [
    "uru86 = uru86xg13.mean()"
   ]
  },
  {
   "cell_type": "code",
   "execution_count": 286,
   "metadata": {},
   "outputs": [
    {
     "data": {
      "text/plain": [
       "goals_z           -0.159231\n",
       "xg_z              -0.067692\n",
       "crosses_z         -0.177692\n",
       "boxtouches_z      -0.230000\n",
       "passes_z          -0.439231\n",
       "progpasses_z      -0.371538\n",
       "takeons_z          0.294615\n",
       "progruns_z         0.179231\n",
       "tackles_z         -0.490000\n",
       "interceptions_z   -0.513846\n",
       "clearances_z       0.153846\n",
       "blocks_z          -0.358462\n",
       "aerials_z         -0.078462\n",
       "fouls_z            0.251538\n",
       "fouled_z           0.506923\n",
       "nsxg_z            -0.276154\n",
       "dtype: float64"
      ]
     },
     "execution_count": 286,
     "metadata": {},
     "output_type": "execute_result"
    }
   ],
   "source": [
    "uru86"
   ]
  },
  {
   "cell_type": "markdown",
   "metadata": {},
   "source": [
    "## 90"
   ]
  },
  {
   "cell_type": "code",
   "execution_count": 287,
   "metadata": {},
   "outputs": [],
   "source": [
    "uru90year = uru_year.loc[uru_year[\"season\"].isin(year1990)]"
   ]
  },
  {
   "cell_type": "code",
   "execution_count": 288,
   "metadata": {},
   "outputs": [],
   "source": [
    "uru90xg = uru90year.sort_values(by=[\"goals_z\"], ascending=False)"
   ]
  },
  {
   "cell_type": "code",
   "execution_count": 289,
   "metadata": {},
   "outputs": [],
   "source": [
    "uru90xg13 = uru90xg.head(13)"
   ]
  },
  {
   "cell_type": "code",
   "execution_count": 290,
   "metadata": {},
   "outputs": [],
   "source": [
    "uru90xg13 = uru90xg13.drop(columns=['season', 'team'])"
   ]
  },
  {
   "cell_type": "code",
   "execution_count": 291,
   "metadata": {},
   "outputs": [],
   "source": [
    "uru90 = uru90xg13.mean()"
   ]
  },
  {
   "cell_type": "code",
   "execution_count": 292,
   "metadata": {},
   "outputs": [
    {
     "data": {
      "text/plain": [
       "goals_z           -0.152308\n",
       "xg_z               0.048462\n",
       "crosses_z          0.340769\n",
       "boxtouches_z      -0.140000\n",
       "passes_z          -0.177692\n",
       "progpasses_z      -0.020769\n",
       "takeons_z          0.083846\n",
       "progruns_z         0.151538\n",
       "tackles_z          0.327692\n",
       "interceptions_z    0.089231\n",
       "clearances_z       0.031538\n",
       "blocks_z          -0.366923\n",
       "aerials_z         -0.170000\n",
       "fouls_z            0.173077\n",
       "fouled_z           0.409231\n",
       "nsxg_z             0.182308\n",
       "dtype: float64"
      ]
     },
     "execution_count": 292,
     "metadata": {},
     "output_type": "execute_result"
    }
   ],
   "source": [
    "uru90"
   ]
  },
  {
   "cell_type": "code",
   "execution_count": 603,
   "metadata": {},
   "outputs": [],
   "source": [
    "uru = pd.concat([uru86, uru90], axis=1).T"
   ]
  },
  {
   "cell_type": "code",
   "execution_count": 604,
   "metadata": {},
   "outputs": [],
   "source": [
    "uru.rename(index={0: 'Uruguay86', 1: 'Uruguay90'}, inplace=True)"
   ]
  },
  {
   "cell_type": "code",
   "execution_count": 605,
   "metadata": {},
   "outputs": [],
   "source": [
    "df2 = uru.assign(results=[16, 16])\n"
   ]
  },
  {
   "cell_type": "code",
   "execution_count": 606,
   "metadata": {},
   "outputs": [
    {
     "data": {
      "text/html": [
       "<div>\n",
       "<style scoped>\n",
       "    .dataframe tbody tr th:only-of-type {\n",
       "        vertical-align: middle;\n",
       "    }\n",
       "\n",
       "    .dataframe tbody tr th {\n",
       "        vertical-align: top;\n",
       "    }\n",
       "\n",
       "    .dataframe thead th {\n",
       "        text-align: right;\n",
       "    }\n",
       "</style>\n",
       "<table border=\"1\" class=\"dataframe\">\n",
       "  <thead>\n",
       "    <tr style=\"text-align: right;\">\n",
       "      <th></th>\n",
       "      <th>goals_z</th>\n",
       "      <th>xg_z</th>\n",
       "      <th>crosses_z</th>\n",
       "      <th>boxtouches_z</th>\n",
       "      <th>passes_z</th>\n",
       "      <th>progpasses_z</th>\n",
       "      <th>takeons_z</th>\n",
       "      <th>progruns_z</th>\n",
       "      <th>tackles_z</th>\n",
       "      <th>interceptions_z</th>\n",
       "      <th>clearances_z</th>\n",
       "      <th>blocks_z</th>\n",
       "      <th>aerials_z</th>\n",
       "      <th>fouls_z</th>\n",
       "      <th>fouled_z</th>\n",
       "      <th>nsxg_z</th>\n",
       "      <th>results</th>\n",
       "    </tr>\n",
       "  </thead>\n",
       "  <tbody>\n",
       "    <tr>\n",
       "      <th>Uruguay86</th>\n",
       "      <td>-0.159231</td>\n",
       "      <td>-0.067692</td>\n",
       "      <td>-0.177692</td>\n",
       "      <td>-0.23</td>\n",
       "      <td>-0.439231</td>\n",
       "      <td>-0.371538</td>\n",
       "      <td>0.294615</td>\n",
       "      <td>0.179231</td>\n",
       "      <td>-0.490000</td>\n",
       "      <td>-0.513846</td>\n",
       "      <td>0.153846</td>\n",
       "      <td>-0.358462</td>\n",
       "      <td>-0.078462</td>\n",
       "      <td>0.251538</td>\n",
       "      <td>0.506923</td>\n",
       "      <td>-0.276154</td>\n",
       "      <td>16</td>\n",
       "    </tr>\n",
       "    <tr>\n",
       "      <th>Uruguay90</th>\n",
       "      <td>-0.152308</td>\n",
       "      <td>0.048462</td>\n",
       "      <td>0.340769</td>\n",
       "      <td>-0.14</td>\n",
       "      <td>-0.177692</td>\n",
       "      <td>-0.020769</td>\n",
       "      <td>0.083846</td>\n",
       "      <td>0.151538</td>\n",
       "      <td>0.327692</td>\n",
       "      <td>0.089231</td>\n",
       "      <td>0.031538</td>\n",
       "      <td>-0.366923</td>\n",
       "      <td>-0.170000</td>\n",
       "      <td>0.173077</td>\n",
       "      <td>0.409231</td>\n",
       "      <td>0.182308</td>\n",
       "      <td>16</td>\n",
       "    </tr>\n",
       "  </tbody>\n",
       "</table>\n",
       "</div>"
      ],
      "text/plain": [
       "            goals_z      xg_z  crosses_z  boxtouches_z  passes_z  \\\n",
       "Uruguay86 -0.159231 -0.067692  -0.177692         -0.23 -0.439231   \n",
       "Uruguay90 -0.152308  0.048462   0.340769         -0.14 -0.177692   \n",
       "\n",
       "           progpasses_z  takeons_z  progruns_z  tackles_z  interceptions_z  \\\n",
       "Uruguay86     -0.371538   0.294615    0.179231  -0.490000        -0.513846   \n",
       "Uruguay90     -0.020769   0.083846    0.151538   0.327692         0.089231   \n",
       "\n",
       "           clearances_z  blocks_z  aerials_z   fouls_z  fouled_z    nsxg_z  \\\n",
       "Uruguay86      0.153846 -0.358462  -0.078462  0.251538  0.506923 -0.276154   \n",
       "Uruguay90      0.031538 -0.366923  -0.170000  0.173077  0.409231  0.182308   \n",
       "\n",
       "           results  \n",
       "Uruguay86       16  \n",
       "Uruguay90       16  "
      ]
     },
     "execution_count": 606,
     "metadata": {},
     "output_type": "execute_result"
    }
   ],
   "source": [
    "df2"
   ]
  },
  {
   "cell_type": "code",
   "execution_count": 607,
   "metadata": {},
   "outputs": [],
   "source": [
    "# df2.to_csv('Uruguay2.csv')"
   ]
  },
  {
   "cell_type": "code",
   "execution_count": 297,
   "metadata": {},
   "outputs": [],
   "source": [
    "# 86 - 16      Uruguay     E     4     0     2     2     2     8     −6     2\n",
    "# 90 - 16     E      Uruguay     4     1     1     2     2     5     −3     3\n"
   ]
  },
  {
   "cell_type": "markdown",
   "metadata": {},
   "source": [
    "# Canada"
   ]
  },
  {
   "cell_type": "markdown",
   "metadata": {},
   "source": [
    "### 86"
   ]
  },
  {
   "cell_type": "code",
   "execution_count": 298,
   "metadata": {},
   "outputs": [],
   "source": [
    "can = ['Canada']\n"
   ]
  },
  {
   "cell_type": "code",
   "execution_count": 299,
   "metadata": {},
   "outputs": [],
   "source": [
    "can_year = df.loc[df[\"team\"].isin(can)]\n"
   ]
  },
  {
   "cell_type": "code",
   "execution_count": 300,
   "metadata": {},
   "outputs": [],
   "source": [
    "can86year = can_year.loc[can_year[\"season\"].isin(year1986)]"
   ]
  },
  {
   "cell_type": "code",
   "execution_count": 301,
   "metadata": {},
   "outputs": [],
   "source": [
    "can86xg = can86year.sort_values(by=[\"goals_z\"], ascending=False)\n"
   ]
  },
  {
   "cell_type": "code",
   "execution_count": 302,
   "metadata": {},
   "outputs": [],
   "source": [
    "can86xg13 = can86xg.head(13)\n"
   ]
  },
  {
   "cell_type": "code",
   "execution_count": 303,
   "metadata": {},
   "outputs": [],
   "source": [
    "can86xg13 = can86xg13.drop(columns=['season', 'team'])"
   ]
  },
  {
   "cell_type": "code",
   "execution_count": 304,
   "metadata": {},
   "outputs": [],
   "source": [
    "can86 = can86xg13.mean()"
   ]
  },
  {
   "cell_type": "code",
   "execution_count": 305,
   "metadata": {},
   "outputs": [
    {
     "data": {
      "text/plain": [
       "goals_z           -0.390000\n",
       "xg_z              -0.202308\n",
       "crosses_z          0.275385\n",
       "boxtouches_z       0.097692\n",
       "passes_z          -0.428462\n",
       "progpasses_z      -0.447692\n",
       "takeons_z         -0.166923\n",
       "progruns_z        -0.495385\n",
       "tackles_z         -0.163077\n",
       "interceptions_z   -0.374615\n",
       "clearances_z       0.034615\n",
       "blocks_z          -0.281538\n",
       "aerials_z          0.200000\n",
       "fouls_z           -0.199231\n",
       "fouled_z           0.006154\n",
       "nsxg_z            -0.012308\n",
       "dtype: float64"
      ]
     },
     "execution_count": 305,
     "metadata": {},
     "output_type": "execute_result"
    }
   ],
   "source": [
    "can86"
   ]
  },
  {
   "cell_type": "code",
   "execution_count": 608,
   "metadata": {},
   "outputs": [],
   "source": [
    "can = pd.concat([can86], axis=1).T\n"
   ]
  },
  {
   "cell_type": "code",
   "execution_count": 609,
   "metadata": {},
   "outputs": [],
   "source": [
    "can.rename(index={0: 'Canada'}, inplace=True)"
   ]
  },
  {
   "cell_type": "code",
   "execution_count": 610,
   "metadata": {},
   "outputs": [],
   "source": [
    "df2 = can.assign(results=[24])\n"
   ]
  },
  {
   "cell_type": "code",
   "execution_count": 611,
   "metadata": {},
   "outputs": [
    {
     "data": {
      "text/html": [
       "<div>\n",
       "<style scoped>\n",
       "    .dataframe tbody tr th:only-of-type {\n",
       "        vertical-align: middle;\n",
       "    }\n",
       "\n",
       "    .dataframe tbody tr th {\n",
       "        vertical-align: top;\n",
       "    }\n",
       "\n",
       "    .dataframe thead th {\n",
       "        text-align: right;\n",
       "    }\n",
       "</style>\n",
       "<table border=\"1\" class=\"dataframe\">\n",
       "  <thead>\n",
       "    <tr style=\"text-align: right;\">\n",
       "      <th></th>\n",
       "      <th>goals_z</th>\n",
       "      <th>xg_z</th>\n",
       "      <th>crosses_z</th>\n",
       "      <th>boxtouches_z</th>\n",
       "      <th>passes_z</th>\n",
       "      <th>progpasses_z</th>\n",
       "      <th>takeons_z</th>\n",
       "      <th>progruns_z</th>\n",
       "      <th>tackles_z</th>\n",
       "      <th>interceptions_z</th>\n",
       "      <th>clearances_z</th>\n",
       "      <th>blocks_z</th>\n",
       "      <th>aerials_z</th>\n",
       "      <th>fouls_z</th>\n",
       "      <th>fouled_z</th>\n",
       "      <th>nsxg_z</th>\n",
       "      <th>results</th>\n",
       "    </tr>\n",
       "  </thead>\n",
       "  <tbody>\n",
       "    <tr>\n",
       "      <th>Canada</th>\n",
       "      <td>-0.39</td>\n",
       "      <td>-0.202308</td>\n",
       "      <td>0.275385</td>\n",
       "      <td>0.097692</td>\n",
       "      <td>-0.428462</td>\n",
       "      <td>-0.447692</td>\n",
       "      <td>-0.166923</td>\n",
       "      <td>-0.495385</td>\n",
       "      <td>-0.163077</td>\n",
       "      <td>-0.374615</td>\n",
       "      <td>0.034615</td>\n",
       "      <td>-0.281538</td>\n",
       "      <td>0.2</td>\n",
       "      <td>-0.199231</td>\n",
       "      <td>0.006154</td>\n",
       "      <td>-0.012308</td>\n",
       "      <td>24</td>\n",
       "    </tr>\n",
       "  </tbody>\n",
       "</table>\n",
       "</div>"
      ],
      "text/plain": [
       "        goals_z      xg_z  crosses_z  boxtouches_z  passes_z  progpasses_z  \\\n",
       "Canada    -0.39 -0.202308   0.275385      0.097692 -0.428462     -0.447692   \n",
       "\n",
       "        takeons_z  progruns_z  tackles_z  interceptions_z  clearances_z  \\\n",
       "Canada  -0.166923   -0.495385  -0.163077        -0.374615      0.034615   \n",
       "\n",
       "        blocks_z  aerials_z   fouls_z  fouled_z    nsxg_z  results  \n",
       "Canada -0.281538        0.2 -0.199231  0.006154 -0.012308       24  "
      ]
     },
     "execution_count": 611,
     "metadata": {},
     "output_type": "execute_result"
    }
   ],
   "source": [
    "df2"
   ]
  },
  {
   "cell_type": "code",
   "execution_count": 612,
   "metadata": {},
   "outputs": [],
   "source": [
    "# df2.to_csv('Canada2.csv')"
   ]
  },
  {
   "cell_type": "code",
   "execution_count": 310,
   "metadata": {},
   "outputs": [],
   "source": [
    "# 86 - 24      Canada     C     3     0     0     3     0     5     −5     0"
   ]
  },
  {
   "cell_type": "markdown",
   "metadata": {},
   "source": [
    "# Netherlands"
   ]
  },
  {
   "cell_type": "markdown",
   "metadata": {},
   "source": [
    "## 90"
   ]
  },
  {
   "cell_type": "code",
   "execution_count": 311,
   "metadata": {},
   "outputs": [],
   "source": [
    "net = ['Netherlands']"
   ]
  },
  {
   "cell_type": "code",
   "execution_count": 312,
   "metadata": {},
   "outputs": [],
   "source": [
    "net_year = df.loc[df[\"team\"].isin(net)]"
   ]
  },
  {
   "cell_type": "code",
   "execution_count": 313,
   "metadata": {},
   "outputs": [],
   "source": [
    "net90year =  net_year.loc[net_year[\"season\"].isin(year1990)]"
   ]
  },
  {
   "cell_type": "code",
   "execution_count": 314,
   "metadata": {},
   "outputs": [],
   "source": [
    "net90xg = net90year.sort_values(by=[\"goals_z\"], ascending=False)"
   ]
  },
  {
   "cell_type": "code",
   "execution_count": 315,
   "metadata": {},
   "outputs": [],
   "source": [
    "net90xg13 = net90xg.head(13)"
   ]
  },
  {
   "cell_type": "code",
   "execution_count": 316,
   "metadata": {},
   "outputs": [],
   "source": [
    "net90xg13 = net90xg13.drop(columns=['season', 'team'])"
   ]
  },
  {
   "cell_type": "code",
   "execution_count": 317,
   "metadata": {},
   "outputs": [],
   "source": [
    "net90 = net90xg13.mean()"
   ]
  },
  {
   "cell_type": "code",
   "execution_count": 318,
   "metadata": {},
   "outputs": [],
   "source": [
    "# net90"
   ]
  },
  {
   "cell_type": "markdown",
   "metadata": {},
   "source": [
    "## 94"
   ]
  },
  {
   "cell_type": "code",
   "execution_count": 319,
   "metadata": {},
   "outputs": [],
   "source": [
    "net94year =  net_year.loc[net_year[\"season\"].isin(year1994)]"
   ]
  },
  {
   "cell_type": "code",
   "execution_count": 320,
   "metadata": {},
   "outputs": [],
   "source": [
    "net94xg = net94year.sort_values(by=[\"goals_z\"], ascending=False)"
   ]
  },
  {
   "cell_type": "code",
   "execution_count": 321,
   "metadata": {},
   "outputs": [],
   "source": [
    "net94xg13 = net94xg.head(13)"
   ]
  },
  {
   "cell_type": "code",
   "execution_count": 322,
   "metadata": {},
   "outputs": [],
   "source": [
    "net94xg13 = net94xg13.drop(columns=['season', 'team'])"
   ]
  },
  {
   "cell_type": "code",
   "execution_count": 323,
   "metadata": {},
   "outputs": [],
   "source": [
    "net94 = net94xg13.mean()"
   ]
  },
  {
   "cell_type": "code",
   "execution_count": 324,
   "metadata": {},
   "outputs": [],
   "source": [
    "# net94"
   ]
  },
  {
   "cell_type": "markdown",
   "metadata": {},
   "source": [
    "## 98"
   ]
  },
  {
   "cell_type": "code",
   "execution_count": 325,
   "metadata": {},
   "outputs": [],
   "source": [
    "net98year =  net_year.loc[net_year[\"season\"].isin(year1998)]"
   ]
  },
  {
   "cell_type": "code",
   "execution_count": 326,
   "metadata": {},
   "outputs": [],
   "source": [
    "net98xg = net98year.sort_values(by=[\"goals_z\"], ascending=False)"
   ]
  },
  {
   "cell_type": "code",
   "execution_count": 327,
   "metadata": {},
   "outputs": [],
   "source": [
    "net98xg13 = net98xg.head(13)"
   ]
  },
  {
   "cell_type": "code",
   "execution_count": 328,
   "metadata": {},
   "outputs": [],
   "source": [
    "net98xg13 = net98xg13.drop(columns=['season', 'team'])"
   ]
  },
  {
   "cell_type": "code",
   "execution_count": 329,
   "metadata": {},
   "outputs": [],
   "source": [
    "net98 = net98xg13.mean()"
   ]
  },
  {
   "cell_type": "code",
   "execution_count": 330,
   "metadata": {},
   "outputs": [],
   "source": [
    "# net98"
   ]
  },
  {
   "cell_type": "code",
   "execution_count": 613,
   "metadata": {},
   "outputs": [],
   "source": [
    "net = pd.concat([net90, net94, net98], axis=1).T"
   ]
  },
  {
   "cell_type": "code",
   "execution_count": 614,
   "metadata": {},
   "outputs": [],
   "source": [
    "net.rename(index={0: 'Netherlands90', 1: 'Netherlands90', 2: 'Netherlands90'}, inplace=True)\n",
    "\n"
   ]
  },
  {
   "cell_type": "code",
   "execution_count": 615,
   "metadata": {},
   "outputs": [],
   "source": [
    "df2 = net.assign(results=[15, 7, 4])\n"
   ]
  },
  {
   "cell_type": "code",
   "execution_count": 616,
   "metadata": {},
   "outputs": [
    {
     "data": {
      "text/html": [
       "<div>\n",
       "<style scoped>\n",
       "    .dataframe tbody tr th:only-of-type {\n",
       "        vertical-align: middle;\n",
       "    }\n",
       "\n",
       "    .dataframe tbody tr th {\n",
       "        vertical-align: top;\n",
       "    }\n",
       "\n",
       "    .dataframe thead th {\n",
       "        text-align: right;\n",
       "    }\n",
       "</style>\n",
       "<table border=\"1\" class=\"dataframe\">\n",
       "  <thead>\n",
       "    <tr style=\"text-align: right;\">\n",
       "      <th></th>\n",
       "      <th>goals_z</th>\n",
       "      <th>xg_z</th>\n",
       "      <th>crosses_z</th>\n",
       "      <th>boxtouches_z</th>\n",
       "      <th>passes_z</th>\n",
       "      <th>progpasses_z</th>\n",
       "      <th>takeons_z</th>\n",
       "      <th>progruns_z</th>\n",
       "      <th>tackles_z</th>\n",
       "      <th>interceptions_z</th>\n",
       "      <th>clearances_z</th>\n",
       "      <th>blocks_z</th>\n",
       "      <th>aerials_z</th>\n",
       "      <th>fouls_z</th>\n",
       "      <th>fouled_z</th>\n",
       "      <th>nsxg_z</th>\n",
       "      <th>results</th>\n",
       "    </tr>\n",
       "  </thead>\n",
       "  <tbody>\n",
       "    <tr>\n",
       "      <th>Netherlands90</th>\n",
       "      <td>-0.018462</td>\n",
       "      <td>0.184615</td>\n",
       "      <td>0.168462</td>\n",
       "      <td>0.276923</td>\n",
       "      <td>-0.106923</td>\n",
       "      <td>-0.225385</td>\n",
       "      <td>0.138462</td>\n",
       "      <td>0.063846</td>\n",
       "      <td>-0.024615</td>\n",
       "      <td>-0.153846</td>\n",
       "      <td>-0.119231</td>\n",
       "      <td>0.056923</td>\n",
       "      <td>0.285385</td>\n",
       "      <td>-0.036923</td>\n",
       "      <td>-0.293077</td>\n",
       "      <td>0.228462</td>\n",
       "      <td>15</td>\n",
       "    </tr>\n",
       "    <tr>\n",
       "      <th>Netherlands90</th>\n",
       "      <td>0.256154</td>\n",
       "      <td>0.126923</td>\n",
       "      <td>0.093846</td>\n",
       "      <td>0.310769</td>\n",
       "      <td>0.493077</td>\n",
       "      <td>0.361538</td>\n",
       "      <td>0.312308</td>\n",
       "      <td>0.273077</td>\n",
       "      <td>0.276154</td>\n",
       "      <td>0.883077</td>\n",
       "      <td>-0.286923</td>\n",
       "      <td>-0.134615</td>\n",
       "      <td>-0.229231</td>\n",
       "      <td>0.307692</td>\n",
       "      <td>-0.050769</td>\n",
       "      <td>0.482308</td>\n",
       "      <td>7</td>\n",
       "    </tr>\n",
       "    <tr>\n",
       "      <th>Netherlands90</th>\n",
       "      <td>0.420769</td>\n",
       "      <td>0.230000</td>\n",
       "      <td>0.326923</td>\n",
       "      <td>0.450769</td>\n",
       "      <td>0.328462</td>\n",
       "      <td>0.130769</td>\n",
       "      <td>0.607692</td>\n",
       "      <td>0.508462</td>\n",
       "      <td>0.564615</td>\n",
       "      <td>0.351538</td>\n",
       "      <td>-0.436923</td>\n",
       "      <td>-0.271538</td>\n",
       "      <td>-0.109231</td>\n",
       "      <td>0.100000</td>\n",
       "      <td>-0.008462</td>\n",
       "      <td>0.846923</td>\n",
       "      <td>4</td>\n",
       "    </tr>\n",
       "  </tbody>\n",
       "</table>\n",
       "</div>"
      ],
      "text/plain": [
       "                goals_z      xg_z  crosses_z  boxtouches_z  passes_z  \\\n",
       "Netherlands90 -0.018462  0.184615   0.168462      0.276923 -0.106923   \n",
       "Netherlands90  0.256154  0.126923   0.093846      0.310769  0.493077   \n",
       "Netherlands90  0.420769  0.230000   0.326923      0.450769  0.328462   \n",
       "\n",
       "               progpasses_z  takeons_z  progruns_z  tackles_z  \\\n",
       "Netherlands90     -0.225385   0.138462    0.063846  -0.024615   \n",
       "Netherlands90      0.361538   0.312308    0.273077   0.276154   \n",
       "Netherlands90      0.130769   0.607692    0.508462   0.564615   \n",
       "\n",
       "               interceptions_z  clearances_z  blocks_z  aerials_z   fouls_z  \\\n",
       "Netherlands90        -0.153846     -0.119231  0.056923   0.285385 -0.036923   \n",
       "Netherlands90         0.883077     -0.286923 -0.134615  -0.229231  0.307692   \n",
       "Netherlands90         0.351538     -0.436923 -0.271538  -0.109231  0.100000   \n",
       "\n",
       "               fouled_z    nsxg_z  results  \n",
       "Netherlands90 -0.293077  0.228462       15  \n",
       "Netherlands90 -0.050769  0.482308        7  \n",
       "Netherlands90 -0.008462  0.846923        4  "
      ]
     },
     "execution_count": 616,
     "metadata": {},
     "output_type": "execute_result"
    }
   ],
   "source": [
    "df2"
   ]
  },
  {
   "cell_type": "code",
   "execution_count": 617,
   "metadata": {},
   "outputs": [],
   "source": [
    "# df2.to_csv('Netherlands2.csv')"
   ]
  },
  {
   "cell_type": "code",
   "execution_count": 335,
   "metadata": {},
   "outputs": [],
   "source": [
    "# 90  - 15     F      Netherlands     4     0     3     1     3     4     −1     3\n",
    "# 94 - 7      Netherlands     F     5     3     0     2     8     6     +2     9\n",
    "# 98 - 4      Netherlands     E     7     3     3     1     13     7     +6     12\n"
   ]
  },
  {
   "cell_type": "markdown",
   "metadata": {},
   "source": [
    "# Saudi Arabia"
   ]
  },
  {
   "cell_type": "markdown",
   "metadata": {},
   "source": [
    "## 94"
   ]
  },
  {
   "cell_type": "code",
   "execution_count": 336,
   "metadata": {},
   "outputs": [],
   "source": [
    "sau = ['Saudi Arabia']\n"
   ]
  },
  {
   "cell_type": "code",
   "execution_count": 337,
   "metadata": {},
   "outputs": [],
   "source": [
    "sau_year = df.loc[df[\"team\"].isin(sau)]"
   ]
  },
  {
   "cell_type": "code",
   "execution_count": 338,
   "metadata": {},
   "outputs": [],
   "source": [
    "sau94year = sau_year.loc[sau_year[\"season\"].isin(year1994)]"
   ]
  },
  {
   "cell_type": "code",
   "execution_count": 339,
   "metadata": {},
   "outputs": [],
   "source": [
    "sau94xg = sau94year.sort_values(by=[\"goals_z\"], ascending=False)"
   ]
  },
  {
   "cell_type": "code",
   "execution_count": 340,
   "metadata": {},
   "outputs": [],
   "source": [
    "sau94xg13 = sau94xg.head(13)"
   ]
  },
  {
   "cell_type": "code",
   "execution_count": 341,
   "metadata": {},
   "outputs": [],
   "source": [
    "sau94xg13 = sau94xg13.drop(columns=['season', 'team'])"
   ]
  },
  {
   "cell_type": "code",
   "execution_count": 342,
   "metadata": {},
   "outputs": [],
   "source": [
    "sau94 = sau94xg13.mean()"
   ]
  },
  {
   "cell_type": "code",
   "execution_count": 343,
   "metadata": {},
   "outputs": [],
   "source": [
    "# sau94"
   ]
  },
  {
   "cell_type": "markdown",
   "metadata": {},
   "source": [
    "## 98"
   ]
  },
  {
   "cell_type": "code",
   "execution_count": 344,
   "metadata": {},
   "outputs": [],
   "source": [
    "sau98year = sau_year.loc[sau_year[\"season\"].isin(year1998)]"
   ]
  },
  {
   "cell_type": "code",
   "execution_count": 345,
   "metadata": {},
   "outputs": [],
   "source": [
    "sau98xg = sau98year.sort_values(by=[\"goals_z\"], ascending=False)"
   ]
  },
  {
   "cell_type": "code",
   "execution_count": 346,
   "metadata": {},
   "outputs": [],
   "source": [
    "sau98xg13 = sau98xg.head(13)"
   ]
  },
  {
   "cell_type": "code",
   "execution_count": 347,
   "metadata": {},
   "outputs": [],
   "source": [
    "sau98xg13 = sau98xg13.drop(columns=['season', 'team'])"
   ]
  },
  {
   "cell_type": "code",
   "execution_count": 348,
   "metadata": {},
   "outputs": [],
   "source": [
    "sau98 = sau98xg13.mean()"
   ]
  },
  {
   "cell_type": "code",
   "execution_count": 349,
   "metadata": {},
   "outputs": [],
   "source": [
    "# sau98"
   ]
  },
  {
   "cell_type": "code",
   "execution_count": 618,
   "metadata": {},
   "outputs": [],
   "source": [
    "sau = pd.concat([sau94, sau98], axis=1).T\n",
    "\n"
   ]
  },
  {
   "cell_type": "code",
   "execution_count": 619,
   "metadata": {},
   "outputs": [],
   "source": [
    "sau.rename(index={0: 'Saudi94', 1: 'Saudi98'}, inplace=True)\n"
   ]
  },
  {
   "cell_type": "code",
   "execution_count": 620,
   "metadata": {},
   "outputs": [],
   "source": [
    "df2 = sau.assign(results=[12, 28])\n"
   ]
  },
  {
   "cell_type": "code",
   "execution_count": 621,
   "metadata": {},
   "outputs": [
    {
     "data": {
      "text/html": [
       "<div>\n",
       "<style scoped>\n",
       "    .dataframe tbody tr th:only-of-type {\n",
       "        vertical-align: middle;\n",
       "    }\n",
       "\n",
       "    .dataframe tbody tr th {\n",
       "        vertical-align: top;\n",
       "    }\n",
       "\n",
       "    .dataframe thead th {\n",
       "        text-align: right;\n",
       "    }\n",
       "</style>\n",
       "<table border=\"1\" class=\"dataframe\">\n",
       "  <thead>\n",
       "    <tr style=\"text-align: right;\">\n",
       "      <th></th>\n",
       "      <th>goals_z</th>\n",
       "      <th>xg_z</th>\n",
       "      <th>crosses_z</th>\n",
       "      <th>boxtouches_z</th>\n",
       "      <th>passes_z</th>\n",
       "      <th>progpasses_z</th>\n",
       "      <th>takeons_z</th>\n",
       "      <th>progruns_z</th>\n",
       "      <th>tackles_z</th>\n",
       "      <th>interceptions_z</th>\n",
       "      <th>clearances_z</th>\n",
       "      <th>blocks_z</th>\n",
       "      <th>aerials_z</th>\n",
       "      <th>fouls_z</th>\n",
       "      <th>fouled_z</th>\n",
       "      <th>nsxg_z</th>\n",
       "      <th>results</th>\n",
       "    </tr>\n",
       "  </thead>\n",
       "  <tbody>\n",
       "    <tr>\n",
       "      <th>Saudi94</th>\n",
       "      <td>0.116923</td>\n",
       "      <td>0.238462</td>\n",
       "      <td>-0.021538</td>\n",
       "      <td>-0.071538</td>\n",
       "      <td>-0.500769</td>\n",
       "      <td>-0.336923</td>\n",
       "      <td>0.068462</td>\n",
       "      <td>0.306923</td>\n",
       "      <td>-0.611538</td>\n",
       "      <td>-0.428462</td>\n",
       "      <td>0.516154</td>\n",
       "      <td>-0.138462</td>\n",
       "      <td>-0.083077</td>\n",
       "      <td>-0.126154</td>\n",
       "      <td>0.086154</td>\n",
       "      <td>-0.119231</td>\n",
       "      <td>12</td>\n",
       "    </tr>\n",
       "    <tr>\n",
       "      <th>Saudi98</th>\n",
       "      <td>-0.103077</td>\n",
       "      <td>0.056154</td>\n",
       "      <td>-0.315385</td>\n",
       "      <td>-0.459231</td>\n",
       "      <td>-0.072308</td>\n",
       "      <td>-0.453846</td>\n",
       "      <td>-0.075385</td>\n",
       "      <td>-0.259231</td>\n",
       "      <td>0.113846</td>\n",
       "      <td>0.347692</td>\n",
       "      <td>0.386154</td>\n",
       "      <td>-0.102308</td>\n",
       "      <td>-0.430000</td>\n",
       "      <td>-0.211538</td>\n",
       "      <td>-0.019231</td>\n",
       "      <td>-0.552308</td>\n",
       "      <td>28</td>\n",
       "    </tr>\n",
       "  </tbody>\n",
       "</table>\n",
       "</div>"
      ],
      "text/plain": [
       "          goals_z      xg_z  crosses_z  boxtouches_z  passes_z  progpasses_z  \\\n",
       "Saudi94  0.116923  0.238462  -0.021538     -0.071538 -0.500769     -0.336923   \n",
       "Saudi98 -0.103077  0.056154  -0.315385     -0.459231 -0.072308     -0.453846   \n",
       "\n",
       "         takeons_z  progruns_z  tackles_z  interceptions_z  clearances_z  \\\n",
       "Saudi94   0.068462    0.306923  -0.611538        -0.428462      0.516154   \n",
       "Saudi98  -0.075385   -0.259231   0.113846         0.347692      0.386154   \n",
       "\n",
       "         blocks_z  aerials_z   fouls_z  fouled_z    nsxg_z  results  \n",
       "Saudi94 -0.138462  -0.083077 -0.126154  0.086154 -0.119231       12  \n",
       "Saudi98 -0.102308  -0.430000 -0.211538 -0.019231 -0.552308       28  "
      ]
     },
     "execution_count": 621,
     "metadata": {},
     "output_type": "execute_result"
    }
   ],
   "source": [
    "df2"
   ]
  },
  {
   "cell_type": "code",
   "execution_count": 622,
   "metadata": {},
   "outputs": [],
   "source": [
    "# df2.to_csv('Saudi2.csv')"
   ]
  },
  {
   "cell_type": "code",
   "execution_count": 354,
   "metadata": {},
   "outputs": [],
   "source": [
    "# 94 - 12      Saudi Arabia     F     4     2     0     2     5     6     −1     6\n",
    "# 98 - 28      Saudi Arabia     C     3     0     1     2     2     7     −5     1\n"
   ]
  },
  {
   "cell_type": "markdown",
   "metadata": {},
   "source": [
    "# Croatia"
   ]
  },
  {
   "cell_type": "markdown",
   "metadata": {},
   "source": [
    "## 98"
   ]
  },
  {
   "cell_type": "code",
   "execution_count": 355,
   "metadata": {},
   "outputs": [],
   "source": [
    "cro = ['Croatia']"
   ]
  },
  {
   "cell_type": "code",
   "execution_count": 356,
   "metadata": {},
   "outputs": [],
   "source": [
    "cro_year = df.loc[df[\"team\"].isin(cro)]"
   ]
  },
  {
   "cell_type": "code",
   "execution_count": 357,
   "metadata": {},
   "outputs": [],
   "source": [
    "cro98year = cro_year.loc[cro_year[\"season\"].isin(year1998)]"
   ]
  },
  {
   "cell_type": "code",
   "execution_count": 358,
   "metadata": {},
   "outputs": [],
   "source": [
    "cro98xg = cro98year.sort_values(by=[\"goals_z\"], ascending=False)\n"
   ]
  },
  {
   "cell_type": "code",
   "execution_count": 359,
   "metadata": {},
   "outputs": [],
   "source": [
    "cro98xg13 = cro98xg.head(13)\n"
   ]
  },
  {
   "cell_type": "code",
   "execution_count": 360,
   "metadata": {},
   "outputs": [],
   "source": [
    "cro98xg13 = cro98xg13.drop(columns=['season', 'team'])\n"
   ]
  },
  {
   "cell_type": "code",
   "execution_count": 361,
   "metadata": {},
   "outputs": [],
   "source": [
    "cro98 = cro98xg13.mean()"
   ]
  },
  {
   "cell_type": "code",
   "execution_count": 362,
   "metadata": {},
   "outputs": [],
   "source": [
    "# cro98"
   ]
  },
  {
   "cell_type": "code",
   "execution_count": 623,
   "metadata": {},
   "outputs": [],
   "source": [
    "cro = pd.concat([cro98], axis=1).T\n"
   ]
  },
  {
   "cell_type": "code",
   "execution_count": 624,
   "metadata": {},
   "outputs": [],
   "source": [
    "cro.rename(index={0: 'Croatia98'}, inplace=True)\n"
   ]
  },
  {
   "cell_type": "code",
   "execution_count": 625,
   "metadata": {},
   "outputs": [],
   "source": [
    "df2 = cro.assign(results=[3])\n"
   ]
  },
  {
   "cell_type": "code",
   "execution_count": 626,
   "metadata": {},
   "outputs": [
    {
     "data": {
      "text/html": [
       "<div>\n",
       "<style scoped>\n",
       "    .dataframe tbody tr th:only-of-type {\n",
       "        vertical-align: middle;\n",
       "    }\n",
       "\n",
       "    .dataframe tbody tr th {\n",
       "        vertical-align: top;\n",
       "    }\n",
       "\n",
       "    .dataframe thead th {\n",
       "        text-align: right;\n",
       "    }\n",
       "</style>\n",
       "<table border=\"1\" class=\"dataframe\">\n",
       "  <thead>\n",
       "    <tr style=\"text-align: right;\">\n",
       "      <th></th>\n",
       "      <th>goals_z</th>\n",
       "      <th>xg_z</th>\n",
       "      <th>crosses_z</th>\n",
       "      <th>boxtouches_z</th>\n",
       "      <th>passes_z</th>\n",
       "      <th>progpasses_z</th>\n",
       "      <th>takeons_z</th>\n",
       "      <th>progruns_z</th>\n",
       "      <th>tackles_z</th>\n",
       "      <th>interceptions_z</th>\n",
       "      <th>clearances_z</th>\n",
       "      <th>blocks_z</th>\n",
       "      <th>aerials_z</th>\n",
       "      <th>fouls_z</th>\n",
       "      <th>fouled_z</th>\n",
       "      <th>nsxg_z</th>\n",
       "      <th>results</th>\n",
       "    </tr>\n",
       "  </thead>\n",
       "  <tbody>\n",
       "    <tr>\n",
       "      <th>Croatia98</th>\n",
       "      <td>0.326154</td>\n",
       "      <td>0.253077</td>\n",
       "      <td>0.265385</td>\n",
       "      <td>0.240769</td>\n",
       "      <td>-0.143077</td>\n",
       "      <td>-0.050769</td>\n",
       "      <td>0.340769</td>\n",
       "      <td>0.227692</td>\n",
       "      <td>-0.430769</td>\n",
       "      <td>-0.398462</td>\n",
       "      <td>0.04</td>\n",
       "      <td>-0.013077</td>\n",
       "      <td>-0.039231</td>\n",
       "      <td>0.298462</td>\n",
       "      <td>0.220769</td>\n",
       "      <td>0.229231</td>\n",
       "      <td>3</td>\n",
       "    </tr>\n",
       "  </tbody>\n",
       "</table>\n",
       "</div>"
      ],
      "text/plain": [
       "            goals_z      xg_z  crosses_z  boxtouches_z  passes_z  \\\n",
       "Croatia98  0.326154  0.253077   0.265385      0.240769 -0.143077   \n",
       "\n",
       "           progpasses_z  takeons_z  progruns_z  tackles_z  interceptions_z  \\\n",
       "Croatia98     -0.050769   0.340769    0.227692  -0.430769        -0.398462   \n",
       "\n",
       "           clearances_z  blocks_z  aerials_z   fouls_z  fouled_z    nsxg_z  \\\n",
       "Croatia98          0.04 -0.013077  -0.039231  0.298462  0.220769  0.229231   \n",
       "\n",
       "           results  \n",
       "Croatia98        3  "
      ]
     },
     "execution_count": 626,
     "metadata": {},
     "output_type": "execute_result"
    }
   ],
   "source": [
    "df2"
   ]
  },
  {
   "cell_type": "code",
   "execution_count": 627,
   "metadata": {},
   "outputs": [],
   "source": [
    "# df2.to_csv('Croatia2.csv')\n"
   ]
  },
  {
   "cell_type": "code",
   "execution_count": 367,
   "metadata": {},
   "outputs": [],
   "source": [
    "# 98 - 3      Croatia     H     7     5     0     2     11     5     +6     15"
   ]
  },
  {
   "cell_type": "markdown",
   "metadata": {},
   "source": [
    "# Cameroon"
   ]
  },
  {
   "cell_type": "markdown",
   "metadata": {},
   "source": [
    "## 82"
   ]
  },
  {
   "cell_type": "code",
   "execution_count": 368,
   "metadata": {},
   "outputs": [],
   "source": [
    "cam = ['Cameroon']"
   ]
  },
  {
   "cell_type": "code",
   "execution_count": 369,
   "metadata": {},
   "outputs": [],
   "source": [
    "cam_year = df.loc[df[\"team\"].isin(cam)]"
   ]
  },
  {
   "cell_type": "code",
   "execution_count": 370,
   "metadata": {},
   "outputs": [],
   "source": [
    "cam82year = cam_year.loc[cam_year[\"season\"].isin(year1982)]"
   ]
  },
  {
   "cell_type": "code",
   "execution_count": 371,
   "metadata": {},
   "outputs": [],
   "source": [
    "cam82xg = cam82year.sort_values(by=[\"goals_z\"], ascending=False)"
   ]
  },
  {
   "cell_type": "code",
   "execution_count": 372,
   "metadata": {},
   "outputs": [],
   "source": [
    "cam82xg13 = cam82xg.head(13)"
   ]
  },
  {
   "cell_type": "code",
   "execution_count": 373,
   "metadata": {},
   "outputs": [],
   "source": [
    "cam82xg13 = cam82xg13.drop(columns=['season', 'team'])"
   ]
  },
  {
   "cell_type": "code",
   "execution_count": 374,
   "metadata": {},
   "outputs": [],
   "source": [
    "cam82 = cam82xg13.mean()"
   ]
  },
  {
   "cell_type": "code",
   "execution_count": 375,
   "metadata": {},
   "outputs": [],
   "source": [
    "# cam82"
   ]
  },
  {
   "cell_type": "markdown",
   "metadata": {},
   "source": [
    "## 90"
   ]
  },
  {
   "cell_type": "code",
   "execution_count": 376,
   "metadata": {},
   "outputs": [],
   "source": [
    "cam90year = cam_year.loc[cam_year[\"season\"].isin(year1990)]"
   ]
  },
  {
   "cell_type": "code",
   "execution_count": 377,
   "metadata": {},
   "outputs": [],
   "source": [
    "cam90xg = cam90year.sort_values(by=[\"goals_z\"], ascending=False)"
   ]
  },
  {
   "cell_type": "code",
   "execution_count": 378,
   "metadata": {},
   "outputs": [],
   "source": [
    "cam90xg13 = cam90xg.head(13)"
   ]
  },
  {
   "cell_type": "code",
   "execution_count": 379,
   "metadata": {},
   "outputs": [],
   "source": [
    "cam90xg13 = cam90xg13.drop(columns=['season', 'team'])"
   ]
  },
  {
   "cell_type": "code",
   "execution_count": 380,
   "metadata": {},
   "outputs": [],
   "source": [
    "cam90 = cam90xg13.mean()"
   ]
  },
  {
   "cell_type": "code",
   "execution_count": 381,
   "metadata": {},
   "outputs": [],
   "source": [
    "# cam90"
   ]
  },
  {
   "cell_type": "markdown",
   "metadata": {},
   "source": [
    "## 94"
   ]
  },
  {
   "cell_type": "code",
   "execution_count": 382,
   "metadata": {},
   "outputs": [],
   "source": [
    "cam94year = cam_year.loc[cam_year[\"season\"].isin(year1994)]"
   ]
  },
  {
   "cell_type": "code",
   "execution_count": 383,
   "metadata": {},
   "outputs": [],
   "source": [
    "cam94xg = cam94year.sort_values(by=[\"goals_z\"], ascending=False)"
   ]
  },
  {
   "cell_type": "code",
   "execution_count": 384,
   "metadata": {},
   "outputs": [],
   "source": [
    "cam94xg13 = cam94xg.head(13)"
   ]
  },
  {
   "cell_type": "code",
   "execution_count": 385,
   "metadata": {},
   "outputs": [],
   "source": [
    "cam94xg13 = cam94xg13.drop(columns=['season', 'team'])"
   ]
  },
  {
   "cell_type": "code",
   "execution_count": 386,
   "metadata": {},
   "outputs": [],
   "source": [
    "cam94 = cam94xg13.mean()"
   ]
  },
  {
   "cell_type": "code",
   "execution_count": 387,
   "metadata": {},
   "outputs": [],
   "source": [
    "# cam94"
   ]
  },
  {
   "cell_type": "markdown",
   "metadata": {},
   "source": [
    "## 98"
   ]
  },
  {
   "cell_type": "code",
   "execution_count": 388,
   "metadata": {},
   "outputs": [],
   "source": [
    "cam98year = cam_year.loc[cam_year[\"season\"].isin(year1998)]"
   ]
  },
  {
   "cell_type": "code",
   "execution_count": 389,
   "metadata": {},
   "outputs": [],
   "source": [
    "cam98xg = cam98year.sort_values(by=[\"goals_z\"], ascending=False)"
   ]
  },
  {
   "cell_type": "code",
   "execution_count": 390,
   "metadata": {},
   "outputs": [],
   "source": [
    "cam98xg13 = cam98xg.head(13)"
   ]
  },
  {
   "cell_type": "code",
   "execution_count": 391,
   "metadata": {},
   "outputs": [],
   "source": [
    "cam98xg13 = cam98xg13.drop(columns=['season', 'team'])"
   ]
  },
  {
   "cell_type": "code",
   "execution_count": 392,
   "metadata": {},
   "outputs": [],
   "source": [
    "cam98 = cam98xg13.mean()"
   ]
  },
  {
   "cell_type": "code",
   "execution_count": 393,
   "metadata": {},
   "outputs": [],
   "source": [
    "# cam98"
   ]
  },
  {
   "cell_type": "code",
   "execution_count": 628,
   "metadata": {},
   "outputs": [],
   "source": [
    "cam = pd.concat([cam82, cam90, cam94, cam98], axis=1).T\n"
   ]
  },
  {
   "cell_type": "code",
   "execution_count": 629,
   "metadata": {},
   "outputs": [],
   "source": [
    "cam.rename(index={0: 'Cameroon82', 1: 'Cameroon90', 2: 'Cameroon94',\n",
    "                  3: 'Cameroon98'}, inplace=True)\n",
    "\n"
   ]
  },
  {
   "cell_type": "code",
   "execution_count": 630,
   "metadata": {},
   "outputs": [],
   "source": [
    "df2 = cam.assign(results=[17, 7, 22, 25])\n"
   ]
  },
  {
   "cell_type": "code",
   "execution_count": 631,
   "metadata": {},
   "outputs": [
    {
     "data": {
      "text/html": [
       "<div>\n",
       "<style scoped>\n",
       "    .dataframe tbody tr th:only-of-type {\n",
       "        vertical-align: middle;\n",
       "    }\n",
       "\n",
       "    .dataframe tbody tr th {\n",
       "        vertical-align: top;\n",
       "    }\n",
       "\n",
       "    .dataframe thead th {\n",
       "        text-align: right;\n",
       "    }\n",
       "</style>\n",
       "<table border=\"1\" class=\"dataframe\">\n",
       "  <thead>\n",
       "    <tr style=\"text-align: right;\">\n",
       "      <th></th>\n",
       "      <th>goals_z</th>\n",
       "      <th>xg_z</th>\n",
       "      <th>crosses_z</th>\n",
       "      <th>boxtouches_z</th>\n",
       "      <th>passes_z</th>\n",
       "      <th>progpasses_z</th>\n",
       "      <th>takeons_z</th>\n",
       "      <th>progruns_z</th>\n",
       "      <th>tackles_z</th>\n",
       "      <th>interceptions_z</th>\n",
       "      <th>clearances_z</th>\n",
       "      <th>blocks_z</th>\n",
       "      <th>aerials_z</th>\n",
       "      <th>fouls_z</th>\n",
       "      <th>fouled_z</th>\n",
       "      <th>nsxg_z</th>\n",
       "      <th>results</th>\n",
       "    </tr>\n",
       "  </thead>\n",
       "  <tbody>\n",
       "    <tr>\n",
       "      <th>Cameroon82</th>\n",
       "      <td>-0.334167</td>\n",
       "      <td>-0.110833</td>\n",
       "      <td>-0.238333</td>\n",
       "      <td>-0.141667</td>\n",
       "      <td>0.480833</td>\n",
       "      <td>0.418333</td>\n",
       "      <td>-0.211667</td>\n",
       "      <td>-0.083333</td>\n",
       "      <td>0.185833</td>\n",
       "      <td>0.605000</td>\n",
       "      <td>0.472500</td>\n",
       "      <td>0.997500</td>\n",
       "      <td>-0.375000</td>\n",
       "      <td>1.035833</td>\n",
       "      <td>0.360833</td>\n",
       "      <td>0.077500</td>\n",
       "      <td>17</td>\n",
       "    </tr>\n",
       "    <tr>\n",
       "      <th>Cameroon90</th>\n",
       "      <td>0.240769</td>\n",
       "      <td>-0.013077</td>\n",
       "      <td>-0.131538</td>\n",
       "      <td>-0.147692</td>\n",
       "      <td>-0.204615</td>\n",
       "      <td>0.032308</td>\n",
       "      <td>0.091538</td>\n",
       "      <td>-0.350000</td>\n",
       "      <td>-0.403846</td>\n",
       "      <td>-0.455385</td>\n",
       "      <td>-0.339231</td>\n",
       "      <td>-0.259231</td>\n",
       "      <td>-0.169231</td>\n",
       "      <td>0.087692</td>\n",
       "      <td>-0.238462</td>\n",
       "      <td>0.087692</td>\n",
       "      <td>7</td>\n",
       "    </tr>\n",
       "    <tr>\n",
       "      <th>Cameroon94</th>\n",
       "      <td>0.013846</td>\n",
       "      <td>-0.163846</td>\n",
       "      <td>-0.214615</td>\n",
       "      <td>-0.058462</td>\n",
       "      <td>-0.286923</td>\n",
       "      <td>-0.252308</td>\n",
       "      <td>-0.146923</td>\n",
       "      <td>-0.351538</td>\n",
       "      <td>-0.165385</td>\n",
       "      <td>-0.473077</td>\n",
       "      <td>-0.100769</td>\n",
       "      <td>-0.301538</td>\n",
       "      <td>0.210769</td>\n",
       "      <td>-0.232308</td>\n",
       "      <td>-0.274615</td>\n",
       "      <td>0.031538</td>\n",
       "      <td>22</td>\n",
       "    </tr>\n",
       "    <tr>\n",
       "      <th>Cameroon98</th>\n",
       "      <td>-0.103077</td>\n",
       "      <td>-0.097692</td>\n",
       "      <td>0.371538</td>\n",
       "      <td>0.040769</td>\n",
       "      <td>-0.146923</td>\n",
       "      <td>0.020000</td>\n",
       "      <td>0.626154</td>\n",
       "      <td>0.064615</td>\n",
       "      <td>-0.090769</td>\n",
       "      <td>-0.233077</td>\n",
       "      <td>-0.117692</td>\n",
       "      <td>-0.275385</td>\n",
       "      <td>0.397692</td>\n",
       "      <td>-0.534615</td>\n",
       "      <td>-0.228462</td>\n",
       "      <td>0.203077</td>\n",
       "      <td>25</td>\n",
       "    </tr>\n",
       "  </tbody>\n",
       "</table>\n",
       "</div>"
      ],
      "text/plain": [
       "             goals_z      xg_z  crosses_z  boxtouches_z  passes_z  \\\n",
       "Cameroon82 -0.334167 -0.110833  -0.238333     -0.141667  0.480833   \n",
       "Cameroon90  0.240769 -0.013077  -0.131538     -0.147692 -0.204615   \n",
       "Cameroon94  0.013846 -0.163846  -0.214615     -0.058462 -0.286923   \n",
       "Cameroon98 -0.103077 -0.097692   0.371538      0.040769 -0.146923   \n",
       "\n",
       "            progpasses_z  takeons_z  progruns_z  tackles_z  interceptions_z  \\\n",
       "Cameroon82      0.418333  -0.211667   -0.083333   0.185833         0.605000   \n",
       "Cameroon90      0.032308   0.091538   -0.350000  -0.403846        -0.455385   \n",
       "Cameroon94     -0.252308  -0.146923   -0.351538  -0.165385        -0.473077   \n",
       "Cameroon98      0.020000   0.626154    0.064615  -0.090769        -0.233077   \n",
       "\n",
       "            clearances_z  blocks_z  aerials_z   fouls_z  fouled_z    nsxg_z  \\\n",
       "Cameroon82      0.472500  0.997500  -0.375000  1.035833  0.360833  0.077500   \n",
       "Cameroon90     -0.339231 -0.259231  -0.169231  0.087692 -0.238462  0.087692   \n",
       "Cameroon94     -0.100769 -0.301538   0.210769 -0.232308 -0.274615  0.031538   \n",
       "Cameroon98     -0.117692 -0.275385   0.397692 -0.534615 -0.228462  0.203077   \n",
       "\n",
       "            results  \n",
       "Cameroon82       17  \n",
       "Cameroon90        7  \n",
       "Cameroon94       22  \n",
       "Cameroon98       25  "
      ]
     },
     "execution_count": 631,
     "metadata": {},
     "output_type": "execute_result"
    }
   ],
   "source": [
    "df2"
   ]
  },
  {
   "cell_type": "code",
   "execution_count": 632,
   "metadata": {},
   "outputs": [],
   "source": [
    "# df2.to_csv('Cameroon2.csv')"
   ]
  },
  {
   "cell_type": "code",
   "execution_count": null,
   "metadata": {},
   "outputs": [],
   "source": []
  },
  {
   "cell_type": "code",
   "execution_count": 398,
   "metadata": {},
   "outputs": [],
   "source": [
    "# 82 - 17      Cameroon     1     3     0     3     0     1     1     0     3\n",
    "# 90 - 7     B      Cameroon     5     3     0     2     7     9     −2     6\n",
    "# 94 - 22      Cameroon     B     3     0     1     2     3     11     −8     1\n",
    "# 98 - 25      Cameroon     B     3     0     2     1     2     5     −3     2\n"
   ]
  },
  {
   "cell_type": "markdown",
   "metadata": {},
   "source": [
    "# Wales NA"
   ]
  },
  {
   "cell_type": "markdown",
   "metadata": {},
   "source": [
    "# Denmark"
   ]
  },
  {
   "cell_type": "code",
   "execution_count": 399,
   "metadata": {},
   "outputs": [],
   "source": [
    "den = ['Denmark']"
   ]
  },
  {
   "cell_type": "code",
   "execution_count": 400,
   "metadata": {},
   "outputs": [],
   "source": [
    "den_year = df.loc[df[\"team\"].isin(den)]"
   ]
  },
  {
   "cell_type": "markdown",
   "metadata": {},
   "source": [
    "## 86"
   ]
  },
  {
   "cell_type": "code",
   "execution_count": 401,
   "metadata": {},
   "outputs": [],
   "source": [
    "den86year = den_year.loc[den_year[\"season\"].isin(year1986)]\n"
   ]
  },
  {
   "cell_type": "code",
   "execution_count": 402,
   "metadata": {},
   "outputs": [],
   "source": [
    "den86xg = den86year.sort_values(by=[\"goals_z\"], ascending=False)\n"
   ]
  },
  {
   "cell_type": "code",
   "execution_count": 403,
   "metadata": {},
   "outputs": [],
   "source": [
    "den86xg13 = den86xg.head(13)\n"
   ]
  },
  {
   "cell_type": "code",
   "execution_count": 404,
   "metadata": {},
   "outputs": [],
   "source": [
    "den86xg13 = den86xg13.drop(columns=['season', 'team'])\n"
   ]
  },
  {
   "cell_type": "code",
   "execution_count": 405,
   "metadata": {},
   "outputs": [],
   "source": [
    "den86 = den86xg13.mean()"
   ]
  },
  {
   "cell_type": "code",
   "execution_count": 406,
   "metadata": {},
   "outputs": [],
   "source": [
    "# den86"
   ]
  },
  {
   "cell_type": "markdown",
   "metadata": {},
   "source": [
    "## 98"
   ]
  },
  {
   "cell_type": "code",
   "execution_count": 407,
   "metadata": {},
   "outputs": [],
   "source": [
    "den98year = den_year.loc[den_year[\"season\"].isin(year1998)]\n"
   ]
  },
  {
   "cell_type": "code",
   "execution_count": 408,
   "metadata": {},
   "outputs": [],
   "source": [
    "den98xg = den98year.sort_values(by=[\"goals_z\"], ascending=False)\n"
   ]
  },
  {
   "cell_type": "code",
   "execution_count": 409,
   "metadata": {},
   "outputs": [],
   "source": [
    "den98xg13 = den98xg.head(13)\n"
   ]
  },
  {
   "cell_type": "code",
   "execution_count": 410,
   "metadata": {},
   "outputs": [],
   "source": [
    "den98xg13 = den98xg13.drop(columns=['season', 'team'])\n"
   ]
  },
  {
   "cell_type": "code",
   "execution_count": 411,
   "metadata": {},
   "outputs": [],
   "source": [
    "den98 = den98xg13.mean()"
   ]
  },
  {
   "cell_type": "code",
   "execution_count": 412,
   "metadata": {},
   "outputs": [],
   "source": [
    "# den98"
   ]
  },
  {
   "cell_type": "code",
   "execution_count": 640,
   "metadata": {},
   "outputs": [],
   "source": [
    "den = pd.concat([den86, den98], axis=1).T"
   ]
  },
  {
   "cell_type": "code",
   "execution_count": 641,
   "metadata": {},
   "outputs": [],
   "source": [
    "den.rename(index={0: 'Denmark86', 1: 'Denmark98'}, inplace=True)"
   ]
  },
  {
   "cell_type": "code",
   "execution_count": 642,
   "metadata": {},
   "outputs": [],
   "source": [
    "df2 = den.assign(results=[9, 8])"
   ]
  },
  {
   "cell_type": "code",
   "execution_count": 643,
   "metadata": {},
   "outputs": [
    {
     "data": {
      "text/html": [
       "<div>\n",
       "<style scoped>\n",
       "    .dataframe tbody tr th:only-of-type {\n",
       "        vertical-align: middle;\n",
       "    }\n",
       "\n",
       "    .dataframe tbody tr th {\n",
       "        vertical-align: top;\n",
       "    }\n",
       "\n",
       "    .dataframe thead th {\n",
       "        text-align: right;\n",
       "    }\n",
       "</style>\n",
       "<table border=\"1\" class=\"dataframe\">\n",
       "  <thead>\n",
       "    <tr style=\"text-align: right;\">\n",
       "      <th></th>\n",
       "      <th>goals_z</th>\n",
       "      <th>xg_z</th>\n",
       "      <th>crosses_z</th>\n",
       "      <th>boxtouches_z</th>\n",
       "      <th>passes_z</th>\n",
       "      <th>progpasses_z</th>\n",
       "      <th>takeons_z</th>\n",
       "      <th>progruns_z</th>\n",
       "      <th>tackles_z</th>\n",
       "      <th>interceptions_z</th>\n",
       "      <th>clearances_z</th>\n",
       "      <th>blocks_z</th>\n",
       "      <th>aerials_z</th>\n",
       "      <th>fouls_z</th>\n",
       "      <th>fouled_z</th>\n",
       "      <th>nsxg_z</th>\n",
       "      <th>results</th>\n",
       "    </tr>\n",
       "  </thead>\n",
       "  <tbody>\n",
       "    <tr>\n",
       "      <th>Denmark86</th>\n",
       "      <td>0.766923</td>\n",
       "      <td>0.643846</td>\n",
       "      <td>-0.265385</td>\n",
       "      <td>0.230000</td>\n",
       "      <td>0.353077</td>\n",
       "      <td>-0.015385</td>\n",
       "      <td>0.496154</td>\n",
       "      <td>0.606923</td>\n",
       "      <td>0.446154</td>\n",
       "      <td>-0.096923</td>\n",
       "      <td>-0.128462</td>\n",
       "      <td>0.086923</td>\n",
       "      <td>-0.233846</td>\n",
       "      <td>0.180769</td>\n",
       "      <td>-0.118462</td>\n",
       "      <td>0.404615</td>\n",
       "      <td>9</td>\n",
       "    </tr>\n",
       "    <tr>\n",
       "      <th>Denmark98</th>\n",
       "      <td>0.432308</td>\n",
       "      <td>0.203846</td>\n",
       "      <td>-0.157692</td>\n",
       "      <td>0.191538</td>\n",
       "      <td>-0.122308</td>\n",
       "      <td>-0.340000</td>\n",
       "      <td>0.236154</td>\n",
       "      <td>-0.034615</td>\n",
       "      <td>-0.041538</td>\n",
       "      <td>-0.248462</td>\n",
       "      <td>0.125385</td>\n",
       "      <td>-0.096154</td>\n",
       "      <td>-0.043077</td>\n",
       "      <td>-0.126154</td>\n",
       "      <td>0.229231</td>\n",
       "      <td>0.040769</td>\n",
       "      <td>8</td>\n",
       "    </tr>\n",
       "  </tbody>\n",
       "</table>\n",
       "</div>"
      ],
      "text/plain": [
       "            goals_z      xg_z  crosses_z  boxtouches_z  passes_z  \\\n",
       "Denmark86  0.766923  0.643846  -0.265385      0.230000  0.353077   \n",
       "Denmark98  0.432308  0.203846  -0.157692      0.191538 -0.122308   \n",
       "\n",
       "           progpasses_z  takeons_z  progruns_z  tackles_z  interceptions_z  \\\n",
       "Denmark86     -0.015385   0.496154    0.606923   0.446154        -0.096923   \n",
       "Denmark98     -0.340000   0.236154   -0.034615  -0.041538        -0.248462   \n",
       "\n",
       "           clearances_z  blocks_z  aerials_z   fouls_z  fouled_z    nsxg_z  \\\n",
       "Denmark86     -0.128462  0.086923  -0.233846  0.180769 -0.118462  0.404615   \n",
       "Denmark98      0.125385 -0.096154  -0.043077 -0.126154  0.229231  0.040769   \n",
       "\n",
       "           results  \n",
       "Denmark86        9  \n",
       "Denmark98        8  "
      ]
     },
     "execution_count": 643,
     "metadata": {},
     "output_type": "execute_result"
    }
   ],
   "source": [
    "df2"
   ]
  },
  {
   "cell_type": "code",
   "execution_count": 644,
   "metadata": {},
   "outputs": [],
   "source": [
    "# df2.to_csv('Denmark2.csv')"
   ]
  },
  {
   "cell_type": "code",
   "execution_count": 417,
   "metadata": {},
   "outputs": [],
   "source": [
    "# 86 - 9      Denmark     E     4     3     0     1     10     6     +4     6\n",
    "# 98 - 8      Denmark     C     5     2     1     2     9     7     +2     7\n"
   ]
  },
  {
   "cell_type": "markdown",
   "metadata": {},
   "source": [
    "# Costa Rica"
   ]
  },
  {
   "cell_type": "code",
   "execution_count": 418,
   "metadata": {},
   "outputs": [],
   "source": [
    "cos = ['Costa Rica']"
   ]
  },
  {
   "cell_type": "code",
   "execution_count": 419,
   "metadata": {},
   "outputs": [],
   "source": [
    "cos_year = df.loc[df[\"team\"].isin(cos)]"
   ]
  },
  {
   "cell_type": "code",
   "execution_count": 420,
   "metadata": {},
   "outputs": [],
   "source": [
    "cos90year = cos_year.loc[cos_year[\"season\"].isin(year1990)]"
   ]
  },
  {
   "cell_type": "code",
   "execution_count": 421,
   "metadata": {},
   "outputs": [],
   "source": [
    "cos90xg = cos90year.sort_values(by=[\"goals_z\"], ascending=False)"
   ]
  },
  {
   "cell_type": "code",
   "execution_count": 422,
   "metadata": {},
   "outputs": [],
   "source": [
    "cos90xg13 = cos90xg.head(13)"
   ]
  },
  {
   "cell_type": "code",
   "execution_count": 423,
   "metadata": {},
   "outputs": [],
   "source": [
    "cos90xg13 = cos90xg13.drop(columns=['season', 'team'])\n"
   ]
  },
  {
   "cell_type": "code",
   "execution_count": 424,
   "metadata": {},
   "outputs": [],
   "source": [
    "cos90 = cos90xg13.mean()"
   ]
  },
  {
   "cell_type": "code",
   "execution_count": 425,
   "metadata": {},
   "outputs": [],
   "source": [
    "# cos90"
   ]
  },
  {
   "cell_type": "code",
   "execution_count": 645,
   "metadata": {},
   "outputs": [],
   "source": [
    "cos = pd.concat([cos90], axis=1).T\n",
    "\n"
   ]
  },
  {
   "cell_type": "code",
   "execution_count": 646,
   "metadata": {},
   "outputs": [],
   "source": [
    "cos.rename(index={0: 'Costa90'}, inplace=True)\n"
   ]
  },
  {
   "cell_type": "code",
   "execution_count": 647,
   "metadata": {},
   "outputs": [],
   "source": [
    "df2 = cos.assign(results=[13])\n"
   ]
  },
  {
   "cell_type": "code",
   "execution_count": 648,
   "metadata": {},
   "outputs": [
    {
     "data": {
      "text/html": [
       "<div>\n",
       "<style scoped>\n",
       "    .dataframe tbody tr th:only-of-type {\n",
       "        vertical-align: middle;\n",
       "    }\n",
       "\n",
       "    .dataframe tbody tr th {\n",
       "        vertical-align: top;\n",
       "    }\n",
       "\n",
       "    .dataframe thead th {\n",
       "        text-align: right;\n",
       "    }\n",
       "</style>\n",
       "<table border=\"1\" class=\"dataframe\">\n",
       "  <thead>\n",
       "    <tr style=\"text-align: right;\">\n",
       "      <th></th>\n",
       "      <th>goals_z</th>\n",
       "      <th>xg_z</th>\n",
       "      <th>crosses_z</th>\n",
       "      <th>boxtouches_z</th>\n",
       "      <th>passes_z</th>\n",
       "      <th>progpasses_z</th>\n",
       "      <th>takeons_z</th>\n",
       "      <th>progruns_z</th>\n",
       "      <th>tackles_z</th>\n",
       "      <th>interceptions_z</th>\n",
       "      <th>clearances_z</th>\n",
       "      <th>blocks_z</th>\n",
       "      <th>aerials_z</th>\n",
       "      <th>fouls_z</th>\n",
       "      <th>fouled_z</th>\n",
       "      <th>nsxg_z</th>\n",
       "      <th>results</th>\n",
       "    </tr>\n",
       "  </thead>\n",
       "  <tbody>\n",
       "    <tr>\n",
       "      <th>Costa90</th>\n",
       "      <td>0.115385</td>\n",
       "      <td>-0.240769</td>\n",
       "      <td>-0.046923</td>\n",
       "      <td>-0.140769</td>\n",
       "      <td>0.113846</td>\n",
       "      <td>-0.078462</td>\n",
       "      <td>0.001538</td>\n",
       "      <td>0.513846</td>\n",
       "      <td>-0.212308</td>\n",
       "      <td>-0.220769</td>\n",
       "      <td>0.658462</td>\n",
       "      <td>0.063077</td>\n",
       "      <td>0.057692</td>\n",
       "      <td>-0.328462</td>\n",
       "      <td>-0.177692</td>\n",
       "      <td>-0.4</td>\n",
       "      <td>13</td>\n",
       "    </tr>\n",
       "  </tbody>\n",
       "</table>\n",
       "</div>"
      ],
      "text/plain": [
       "          goals_z      xg_z  crosses_z  boxtouches_z  passes_z  progpasses_z  \\\n",
       "Costa90  0.115385 -0.240769  -0.046923     -0.140769  0.113846     -0.078462   \n",
       "\n",
       "         takeons_z  progruns_z  tackles_z  interceptions_z  clearances_z  \\\n",
       "Costa90   0.001538    0.513846  -0.212308        -0.220769      0.658462   \n",
       "\n",
       "         blocks_z  aerials_z   fouls_z  fouled_z  nsxg_z  results  \n",
       "Costa90  0.063077   0.057692 -0.328462 -0.177692    -0.4       13  "
      ]
     },
     "execution_count": 648,
     "metadata": {},
     "output_type": "execute_result"
    }
   ],
   "source": [
    "df2"
   ]
  },
  {
   "cell_type": "code",
   "execution_count": 649,
   "metadata": {},
   "outputs": [],
   "source": [
    "# df2.to_csv('Costa2.csv')"
   ]
  },
  {
   "cell_type": "code",
   "execution_count": 430,
   "metadata": {},
   "outputs": [],
   "source": [
    "# 90 - 13     C      Costa Rica     4     2     0     2     4     6     −2     4"
   ]
  },
  {
   "cell_type": "markdown",
   "metadata": {},
   "source": [
    "# Ecuador NA"
   ]
  },
  {
   "cell_type": "markdown",
   "metadata": {},
   "source": [
    "# Morocco"
   ]
  },
  {
   "cell_type": "markdown",
   "metadata": {},
   "source": [
    "## 86"
   ]
  },
  {
   "cell_type": "code",
   "execution_count": 431,
   "metadata": {},
   "outputs": [],
   "source": [
    "mor = ['Morocco']"
   ]
  },
  {
   "cell_type": "code",
   "execution_count": 432,
   "metadata": {},
   "outputs": [],
   "source": [
    "mor_year = df.loc[df[\"team\"].isin(mor)]"
   ]
  },
  {
   "cell_type": "code",
   "execution_count": 433,
   "metadata": {},
   "outputs": [],
   "source": [
    "mor86year = mor_year.loc[mor_year[\"season\"].isin(year1986)]"
   ]
  },
  {
   "cell_type": "code",
   "execution_count": 434,
   "metadata": {},
   "outputs": [],
   "source": [
    "mor86xg = mor86year.sort_values(by=[\"goals_z\"], ascending=False)"
   ]
  },
  {
   "cell_type": "code",
   "execution_count": 435,
   "metadata": {},
   "outputs": [],
   "source": [
    "mor86xg13 = mor86xg.head(13)"
   ]
  },
  {
   "cell_type": "code",
   "execution_count": 436,
   "metadata": {},
   "outputs": [],
   "source": [
    "mor86xg13 = mor86xg13.drop(columns=['season', 'team'])"
   ]
  },
  {
   "cell_type": "code",
   "execution_count": 437,
   "metadata": {},
   "outputs": [],
   "source": [
    "mor86 = mor86xg13.mean()"
   ]
  },
  {
   "cell_type": "code",
   "execution_count": 438,
   "metadata": {},
   "outputs": [],
   "source": [
    "# mor86"
   ]
  },
  {
   "cell_type": "markdown",
   "metadata": {},
   "source": [
    "## 94"
   ]
  },
  {
   "cell_type": "code",
   "execution_count": 439,
   "metadata": {},
   "outputs": [],
   "source": [
    "mor94year = mor_year.loc[mor_year[\"season\"].isin(year1994)]"
   ]
  },
  {
   "cell_type": "code",
   "execution_count": 440,
   "metadata": {},
   "outputs": [],
   "source": [
    "mor94xg = mor94year.sort_values(by=[\"goals_z\"], ascending=False)"
   ]
  },
  {
   "cell_type": "code",
   "execution_count": 441,
   "metadata": {},
   "outputs": [],
   "source": [
    "mor94xg13 = mor94xg.head(13)"
   ]
  },
  {
   "cell_type": "code",
   "execution_count": 442,
   "metadata": {},
   "outputs": [],
   "source": [
    "mor94xg13 = mor94xg13.drop(columns=['season', 'team'])"
   ]
  },
  {
   "cell_type": "code",
   "execution_count": 443,
   "metadata": {},
   "outputs": [],
   "source": [
    "mor94 = mor94xg13.mean()"
   ]
  },
  {
   "cell_type": "code",
   "execution_count": 444,
   "metadata": {},
   "outputs": [],
   "source": [
    "# mor94"
   ]
  },
  {
   "cell_type": "markdown",
   "metadata": {},
   "source": [
    "## 98"
   ]
  },
  {
   "cell_type": "code",
   "execution_count": 445,
   "metadata": {},
   "outputs": [],
   "source": [
    "mor98year = mor_year.loc[mor_year[\"season\"].isin(year1998)]"
   ]
  },
  {
   "cell_type": "code",
   "execution_count": 446,
   "metadata": {},
   "outputs": [],
   "source": [
    "mor98xg = mor98year.sort_values(by=[\"goals_z\"], ascending=False)"
   ]
  },
  {
   "cell_type": "code",
   "execution_count": 447,
   "metadata": {},
   "outputs": [],
   "source": [
    "mor98xg13 = mor98xg.head(13)"
   ]
  },
  {
   "cell_type": "code",
   "execution_count": 448,
   "metadata": {},
   "outputs": [],
   "source": [
    "mor98xg13 = mor98xg13.drop(columns=['season', 'team'])"
   ]
  },
  {
   "cell_type": "code",
   "execution_count": 449,
   "metadata": {},
   "outputs": [],
   "source": [
    "mor98 = mor98xg13.mean()"
   ]
  },
  {
   "cell_type": "code",
   "execution_count": 450,
   "metadata": {},
   "outputs": [],
   "source": [
    "# mor98"
   ]
  },
  {
   "cell_type": "code",
   "execution_count": 650,
   "metadata": {},
   "outputs": [],
   "source": [
    "mor = pd.concat([mor86, mor94, mor98], axis=1).T"
   ]
  },
  {
   "cell_type": "code",
   "execution_count": 651,
   "metadata": {},
   "outputs": [],
   "source": [
    "mor.rename(index={0: 'Morocco86', 1: 'Morocco94', 2: 'Morocco98'}, inplace=True)\n"
   ]
  },
  {
   "cell_type": "code",
   "execution_count": 652,
   "metadata": {},
   "outputs": [],
   "source": [
    "df2 = mor.assign(results=[11, 23, 18])\n"
   ]
  },
  {
   "cell_type": "code",
   "execution_count": 653,
   "metadata": {},
   "outputs": [
    {
     "data": {
      "text/html": [
       "<div>\n",
       "<style scoped>\n",
       "    .dataframe tbody tr th:only-of-type {\n",
       "        vertical-align: middle;\n",
       "    }\n",
       "\n",
       "    .dataframe tbody tr th {\n",
       "        vertical-align: top;\n",
       "    }\n",
       "\n",
       "    .dataframe thead th {\n",
       "        text-align: right;\n",
       "    }\n",
       "</style>\n",
       "<table border=\"1\" class=\"dataframe\">\n",
       "  <thead>\n",
       "    <tr style=\"text-align: right;\">\n",
       "      <th></th>\n",
       "      <th>goals_z</th>\n",
       "      <th>xg_z</th>\n",
       "      <th>crosses_z</th>\n",
       "      <th>boxtouches_z</th>\n",
       "      <th>passes_z</th>\n",
       "      <th>progpasses_z</th>\n",
       "      <th>takeons_z</th>\n",
       "      <th>progruns_z</th>\n",
       "      <th>tackles_z</th>\n",
       "      <th>interceptions_z</th>\n",
       "      <th>clearances_z</th>\n",
       "      <th>blocks_z</th>\n",
       "      <th>aerials_z</th>\n",
       "      <th>fouls_z</th>\n",
       "      <th>fouled_z</th>\n",
       "      <th>nsxg_z</th>\n",
       "      <th>results</th>\n",
       "    </tr>\n",
       "  </thead>\n",
       "  <tbody>\n",
       "    <tr>\n",
       "      <th>Morocco86</th>\n",
       "      <td>-0.043077</td>\n",
       "      <td>-0.164615</td>\n",
       "      <td>-0.090000</td>\n",
       "      <td>-0.200000</td>\n",
       "      <td>1.063077</td>\n",
       "      <td>0.873846</td>\n",
       "      <td>-0.184615</td>\n",
       "      <td>0.191538</td>\n",
       "      <td>0.570769</td>\n",
       "      <td>1.036923</td>\n",
       "      <td>0.387692</td>\n",
       "      <td>0.884615</td>\n",
       "      <td>0.128462</td>\n",
       "      <td>0.277692</td>\n",
       "      <td>0.098462</td>\n",
       "      <td>-0.100769</td>\n",
       "      <td>11</td>\n",
       "    </tr>\n",
       "    <tr>\n",
       "      <th>Morocco94</th>\n",
       "      <td>-0.120769</td>\n",
       "      <td>0.180000</td>\n",
       "      <td>0.062308</td>\n",
       "      <td>0.027692</td>\n",
       "      <td>-0.298462</td>\n",
       "      <td>-0.023846</td>\n",
       "      <td>0.122308</td>\n",
       "      <td>0.242308</td>\n",
       "      <td>0.016154</td>\n",
       "      <td>-0.349231</td>\n",
       "      <td>-0.050000</td>\n",
       "      <td>0.013846</td>\n",
       "      <td>0.005385</td>\n",
       "      <td>-0.038462</td>\n",
       "      <td>-0.010000</td>\n",
       "      <td>0.070000</td>\n",
       "      <td>23</td>\n",
       "    </tr>\n",
       "    <tr>\n",
       "      <th>Morocco98</th>\n",
       "      <td>0.372308</td>\n",
       "      <td>-0.179231</td>\n",
       "      <td>-0.266923</td>\n",
       "      <td>-0.066923</td>\n",
       "      <td>0.485385</td>\n",
       "      <td>0.365385</td>\n",
       "      <td>0.367692</td>\n",
       "      <td>0.369231</td>\n",
       "      <td>0.497692</td>\n",
       "      <td>0.380769</td>\n",
       "      <td>0.183846</td>\n",
       "      <td>0.153846</td>\n",
       "      <td>0.271538</td>\n",
       "      <td>0.260000</td>\n",
       "      <td>-0.140000</td>\n",
       "      <td>-0.081538</td>\n",
       "      <td>18</td>\n",
       "    </tr>\n",
       "  </tbody>\n",
       "</table>\n",
       "</div>"
      ],
      "text/plain": [
       "            goals_z      xg_z  crosses_z  boxtouches_z  passes_z  \\\n",
       "Morocco86 -0.043077 -0.164615  -0.090000     -0.200000  1.063077   \n",
       "Morocco94 -0.120769  0.180000   0.062308      0.027692 -0.298462   \n",
       "Morocco98  0.372308 -0.179231  -0.266923     -0.066923  0.485385   \n",
       "\n",
       "           progpasses_z  takeons_z  progruns_z  tackles_z  interceptions_z  \\\n",
       "Morocco86      0.873846  -0.184615    0.191538   0.570769         1.036923   \n",
       "Morocco94     -0.023846   0.122308    0.242308   0.016154        -0.349231   \n",
       "Morocco98      0.365385   0.367692    0.369231   0.497692         0.380769   \n",
       "\n",
       "           clearances_z  blocks_z  aerials_z   fouls_z  fouled_z    nsxg_z  \\\n",
       "Morocco86      0.387692  0.884615   0.128462  0.277692  0.098462 -0.100769   \n",
       "Morocco94     -0.050000  0.013846   0.005385 -0.038462 -0.010000  0.070000   \n",
       "Morocco98      0.183846  0.153846   0.271538  0.260000 -0.140000 -0.081538   \n",
       "\n",
       "           results  \n",
       "Morocco86       11  \n",
       "Morocco94       23  \n",
       "Morocco98       18  "
      ]
     },
     "execution_count": 653,
     "metadata": {},
     "output_type": "execute_result"
    }
   ],
   "source": [
    "df2"
   ]
  },
  {
   "cell_type": "code",
   "execution_count": 654,
   "metadata": {},
   "outputs": [],
   "source": [
    "# df2.to_csv('Morocco2.csv')"
   ]
  },
  {
   "cell_type": "code",
   "execution_count": 455,
   "metadata": {},
   "outputs": [],
   "source": [
    "# 86 - 11      Morocco     F     4     1     2     1     3     2     +1     4\n",
    "# 94 - 23      Morocco     F     3     0     0     3     2     5     −3     0\n",
    "# 98 - 18      Morocco     A     3     1     1     1     5     5     0     4\n"
   ]
  },
  {
   "cell_type": "markdown",
   "metadata": {},
   "source": [
    "# Poland"
   ]
  },
  {
   "cell_type": "markdown",
   "metadata": {},
   "source": [
    "## 82"
   ]
  },
  {
   "cell_type": "code",
   "execution_count": 456,
   "metadata": {},
   "outputs": [],
   "source": [
    "pol = ['Poland']\n"
   ]
  },
  {
   "cell_type": "code",
   "execution_count": 457,
   "metadata": {},
   "outputs": [],
   "source": [
    "pol_year = df.loc[df[\"team\"].isin(pol)]"
   ]
  },
  {
   "cell_type": "code",
   "execution_count": 458,
   "metadata": {},
   "outputs": [],
   "source": [
    "pol82year = pol_year.loc[pol_year[\"season\"].isin(year1982)]"
   ]
  },
  {
   "cell_type": "code",
   "execution_count": 459,
   "metadata": {},
   "outputs": [],
   "source": [
    "pol82xg = pol82year.sort_values(by=[\"goals_z\"], ascending=False)"
   ]
  },
  {
   "cell_type": "code",
   "execution_count": 460,
   "metadata": {},
   "outputs": [],
   "source": [
    "pol82xg13 = pol82xg.head(13)"
   ]
  },
  {
   "cell_type": "code",
   "execution_count": 461,
   "metadata": {},
   "outputs": [],
   "source": [
    "pol82xg13 = pol82xg13.drop(columns=['season', 'team'])"
   ]
  },
  {
   "cell_type": "code",
   "execution_count": 462,
   "metadata": {},
   "outputs": [],
   "source": [
    "pol82 = pol82xg13.mean()"
   ]
  },
  {
   "cell_type": "code",
   "execution_count": 463,
   "metadata": {},
   "outputs": [],
   "source": [
    "# pol82"
   ]
  },
  {
   "cell_type": "markdown",
   "metadata": {},
   "source": [
    "## 86"
   ]
  },
  {
   "cell_type": "code",
   "execution_count": 464,
   "metadata": {},
   "outputs": [],
   "source": [
    "pol86year = pol_year.loc[pol_year[\"season\"].isin(year1986)]"
   ]
  },
  {
   "cell_type": "code",
   "execution_count": 465,
   "metadata": {},
   "outputs": [],
   "source": [
    "pol86xg = pol86year.sort_values(by=[\"goals_z\"], ascending=False)"
   ]
  },
  {
   "cell_type": "code",
   "execution_count": 466,
   "metadata": {},
   "outputs": [],
   "source": [
    "pol86xg13 = pol86xg.head(13)"
   ]
  },
  {
   "cell_type": "code",
   "execution_count": 467,
   "metadata": {},
   "outputs": [],
   "source": [
    "pol86xg13 = pol86xg13.drop(columns=['season', 'team'])"
   ]
  },
  {
   "cell_type": "code",
   "execution_count": 468,
   "metadata": {},
   "outputs": [],
   "source": [
    "pol86 = pol86xg13.mean()"
   ]
  },
  {
   "cell_type": "code",
   "execution_count": 469,
   "metadata": {},
   "outputs": [],
   "source": [
    "# pol86"
   ]
  },
  {
   "cell_type": "code",
   "execution_count": 655,
   "metadata": {},
   "outputs": [],
   "source": [
    "pol = pd.concat([pol82, pol86], axis=1).T"
   ]
  },
  {
   "cell_type": "code",
   "execution_count": 656,
   "metadata": {},
   "outputs": [],
   "source": [
    "pol.rename(index={0: 'Poland82', 1: 'Poland82'}, inplace=True)"
   ]
  },
  {
   "cell_type": "code",
   "execution_count": 657,
   "metadata": {},
   "outputs": [],
   "source": [
    "df2 = pol.assign(results=[3, 14])"
   ]
  },
  {
   "cell_type": "code",
   "execution_count": 658,
   "metadata": {},
   "outputs": [
    {
     "data": {
      "text/html": [
       "<div>\n",
       "<style scoped>\n",
       "    .dataframe tbody tr th:only-of-type {\n",
       "        vertical-align: middle;\n",
       "    }\n",
       "\n",
       "    .dataframe tbody tr th {\n",
       "        vertical-align: top;\n",
       "    }\n",
       "\n",
       "    .dataframe thead th {\n",
       "        text-align: right;\n",
       "    }\n",
       "</style>\n",
       "<table border=\"1\" class=\"dataframe\">\n",
       "  <thead>\n",
       "    <tr style=\"text-align: right;\">\n",
       "      <th></th>\n",
       "      <th>goals_z</th>\n",
       "      <th>xg_z</th>\n",
       "      <th>crosses_z</th>\n",
       "      <th>boxtouches_z</th>\n",
       "      <th>passes_z</th>\n",
       "      <th>progpasses_z</th>\n",
       "      <th>takeons_z</th>\n",
       "      <th>progruns_z</th>\n",
       "      <th>tackles_z</th>\n",
       "      <th>interceptions_z</th>\n",
       "      <th>clearances_z</th>\n",
       "      <th>blocks_z</th>\n",
       "      <th>aerials_z</th>\n",
       "      <th>fouls_z</th>\n",
       "      <th>fouled_z</th>\n",
       "      <th>nsxg_z</th>\n",
       "      <th>results</th>\n",
       "    </tr>\n",
       "  </thead>\n",
       "  <tbody>\n",
       "    <tr>\n",
       "      <th>Poland82</th>\n",
       "      <td>0.220000</td>\n",
       "      <td>0.028462</td>\n",
       "      <td>0.177692</td>\n",
       "      <td>0.112308</td>\n",
       "      <td>-0.393077</td>\n",
       "      <td>-0.097692</td>\n",
       "      <td>-0.080769</td>\n",
       "      <td>-0.013077</td>\n",
       "      <td>-0.400769</td>\n",
       "      <td>-0.382308</td>\n",
       "      <td>-0.133846</td>\n",
       "      <td>-0.206923</td>\n",
       "      <td>-0.214615</td>\n",
       "      <td>0.412308</td>\n",
       "      <td>0.133077</td>\n",
       "      <td>-0.035385</td>\n",
       "      <td>3</td>\n",
       "    </tr>\n",
       "    <tr>\n",
       "      <th>Poland82</th>\n",
       "      <td>-0.274615</td>\n",
       "      <td>-0.050769</td>\n",
       "      <td>0.129231</td>\n",
       "      <td>-0.050000</td>\n",
       "      <td>0.305385</td>\n",
       "      <td>0.470000</td>\n",
       "      <td>0.320769</td>\n",
       "      <td>0.370000</td>\n",
       "      <td>0.170769</td>\n",
       "      <td>-0.118462</td>\n",
       "      <td>0.062308</td>\n",
       "      <td>-0.114615</td>\n",
       "      <td>-0.026923</td>\n",
       "      <td>0.040000</td>\n",
       "      <td>-0.097692</td>\n",
       "      <td>-0.053846</td>\n",
       "      <td>14</td>\n",
       "    </tr>\n",
       "  </tbody>\n",
       "</table>\n",
       "</div>"
      ],
      "text/plain": [
       "           goals_z      xg_z  crosses_z  boxtouches_z  passes_z  progpasses_z  \\\n",
       "Poland82  0.220000  0.028462   0.177692      0.112308 -0.393077     -0.097692   \n",
       "Poland82 -0.274615 -0.050769   0.129231     -0.050000  0.305385      0.470000   \n",
       "\n",
       "          takeons_z  progruns_z  tackles_z  interceptions_z  clearances_z  \\\n",
       "Poland82  -0.080769   -0.013077  -0.400769        -0.382308     -0.133846   \n",
       "Poland82   0.320769    0.370000   0.170769        -0.118462      0.062308   \n",
       "\n",
       "          blocks_z  aerials_z   fouls_z  fouled_z    nsxg_z  results  \n",
       "Poland82 -0.206923  -0.214615  0.412308  0.133077 -0.035385        3  \n",
       "Poland82 -0.114615  -0.026923  0.040000 -0.097692 -0.053846       14  "
      ]
     },
     "execution_count": 658,
     "metadata": {},
     "output_type": "execute_result"
    }
   ],
   "source": [
    "df2"
   ]
  },
  {
   "cell_type": "code",
   "execution_count": 659,
   "metadata": {},
   "outputs": [],
   "source": [
    "# df2.to_csv('Poland2.csv')"
   ]
  },
  {
   "cell_type": "code",
   "execution_count": 474,
   "metadata": {},
   "outputs": [],
   "source": [
    "# 82 - 3      Poland     1/A     7     3     3     1     11     5     +6     9\n",
    "# 86 - 14      Poland     F     4     1     1     2     1     7     −6     3\n"
   ]
  },
  {
   "cell_type": "markdown",
   "metadata": {},
   "source": [
    "# Ghana NA"
   ]
  },
  {
   "cell_type": "markdown",
   "metadata": {},
   "source": [
    "# Qatar NA"
   ]
  },
  {
   "cell_type": "markdown",
   "metadata": {},
   "source": [
    "# Tunisia"
   ]
  },
  {
   "cell_type": "markdown",
   "metadata": {},
   "source": [
    "## 98"
   ]
  },
  {
   "cell_type": "code",
   "execution_count": 475,
   "metadata": {},
   "outputs": [],
   "source": [
    "tun = ['Tunisia']"
   ]
  },
  {
   "cell_type": "code",
   "execution_count": 476,
   "metadata": {},
   "outputs": [],
   "source": [
    "tun_year = df.loc[df[\"team\"].isin(tun)]"
   ]
  },
  {
   "cell_type": "code",
   "execution_count": 477,
   "metadata": {},
   "outputs": [],
   "source": [
    "tun98year = tun_year.loc[tun_year[\"season\"].isin(year1998)]"
   ]
  },
  {
   "cell_type": "code",
   "execution_count": 478,
   "metadata": {},
   "outputs": [],
   "source": [
    "tun98xg = tun98year.sort_values(by=[\"goals_z\"], ascending=False)\n"
   ]
  },
  {
   "cell_type": "code",
   "execution_count": 479,
   "metadata": {},
   "outputs": [],
   "source": [
    "tun98xg13 = tun98xg.head(13)\n"
   ]
  },
  {
   "cell_type": "code",
   "execution_count": 480,
   "metadata": {},
   "outputs": [],
   "source": [
    "tun98xg13 = tun98xg13.drop(columns=['season', 'team'])\n"
   ]
  },
  {
   "cell_type": "code",
   "execution_count": 481,
   "metadata": {},
   "outputs": [],
   "source": [
    "tun98 = tun98xg13.mean()"
   ]
  },
  {
   "cell_type": "code",
   "execution_count": 482,
   "metadata": {},
   "outputs": [],
   "source": [
    "# tun98"
   ]
  },
  {
   "cell_type": "code",
   "execution_count": 660,
   "metadata": {},
   "outputs": [],
   "source": [
    "tun = pd.concat([tun98], axis=1).T"
   ]
  },
  {
   "cell_type": "code",
   "execution_count": 661,
   "metadata": {},
   "outputs": [],
   "source": [
    "tun.rename(index={0: 'Tunisia98'}, inplace=True)\n"
   ]
  },
  {
   "cell_type": "code",
   "execution_count": 662,
   "metadata": {},
   "outputs": [],
   "source": [
    "df2 = tun.assign(results=[26])\n"
   ]
  },
  {
   "cell_type": "code",
   "execution_count": 663,
   "metadata": {},
   "outputs": [
    {
     "data": {
      "text/html": [
       "<div>\n",
       "<style scoped>\n",
       "    .dataframe tbody tr th:only-of-type {\n",
       "        vertical-align: middle;\n",
       "    }\n",
       "\n",
       "    .dataframe tbody tr th {\n",
       "        vertical-align: top;\n",
       "    }\n",
       "\n",
       "    .dataframe thead th {\n",
       "        text-align: right;\n",
       "    }\n",
       "</style>\n",
       "<table border=\"1\" class=\"dataframe\">\n",
       "  <thead>\n",
       "    <tr style=\"text-align: right;\">\n",
       "      <th></th>\n",
       "      <th>goals_z</th>\n",
       "      <th>xg_z</th>\n",
       "      <th>crosses_z</th>\n",
       "      <th>boxtouches_z</th>\n",
       "      <th>passes_z</th>\n",
       "      <th>progpasses_z</th>\n",
       "      <th>takeons_z</th>\n",
       "      <th>progruns_z</th>\n",
       "      <th>tackles_z</th>\n",
       "      <th>interceptions_z</th>\n",
       "      <th>clearances_z</th>\n",
       "      <th>blocks_z</th>\n",
       "      <th>aerials_z</th>\n",
       "      <th>fouls_z</th>\n",
       "      <th>fouled_z</th>\n",
       "      <th>nsxg_z</th>\n",
       "      <th>results</th>\n",
       "    </tr>\n",
       "  </thead>\n",
       "  <tbody>\n",
       "    <tr>\n",
       "      <th>Tunisia98</th>\n",
       "      <td>-0.261538</td>\n",
       "      <td>0.161538</td>\n",
       "      <td>0.076923</td>\n",
       "      <td>-0.046923</td>\n",
       "      <td>-0.208462</td>\n",
       "      <td>-0.039231</td>\n",
       "      <td>-0.333846</td>\n",
       "      <td>0.027692</td>\n",
       "      <td>-0.174615</td>\n",
       "      <td>-0.063846</td>\n",
       "      <td>0.193846</td>\n",
       "      <td>0.016923</td>\n",
       "      <td>-0.016154</td>\n",
       "      <td>0.466154</td>\n",
       "      <td>-0.047692</td>\n",
       "      <td>-0.073077</td>\n",
       "      <td>26</td>\n",
       "    </tr>\n",
       "  </tbody>\n",
       "</table>\n",
       "</div>"
      ],
      "text/plain": [
       "            goals_z      xg_z  crosses_z  boxtouches_z  passes_z  \\\n",
       "Tunisia98 -0.261538  0.161538   0.076923     -0.046923 -0.208462   \n",
       "\n",
       "           progpasses_z  takeons_z  progruns_z  tackles_z  interceptions_z  \\\n",
       "Tunisia98     -0.039231  -0.333846    0.027692  -0.174615        -0.063846   \n",
       "\n",
       "           clearances_z  blocks_z  aerials_z   fouls_z  fouled_z    nsxg_z  \\\n",
       "Tunisia98      0.193846  0.016923  -0.016154  0.466154 -0.047692 -0.073077   \n",
       "\n",
       "           results  \n",
       "Tunisia98       26  "
      ]
     },
     "execution_count": 663,
     "metadata": {},
     "output_type": "execute_result"
    }
   ],
   "source": [
    "df2"
   ]
  },
  {
   "cell_type": "code",
   "execution_count": 664,
   "metadata": {},
   "outputs": [],
   "source": [
    "# df2.to_csv('Tunisia2.csv')"
   ]
  },
  {
   "cell_type": "code",
   "execution_count": 487,
   "metadata": {},
   "outputs": [],
   "source": [
    "# 98 - 26      Tunisia     G     3     0     1     2     1     4     −3     1\n"
   ]
  },
  {
   "cell_type": "markdown",
   "metadata": {},
   "source": [
    "# Senegal NA"
   ]
  },
  {
   "cell_type": "markdown",
   "metadata": {},
   "source": [
    "# Serbia NA"
   ]
  },
  {
   "cell_type": "markdown",
   "metadata": {},
   "source": [
    "# Australia NA"
   ]
  },
  {
   "cell_type": "markdown",
   "metadata": {},
   "source": [
    "# South Korea needs to be added to df"
   ]
  },
  {
   "cell_type": "code",
   "execution_count": 488,
   "metadata": {},
   "outputs": [],
   "source": [
    "ska = ['Korea Republic'] "
   ]
  },
  {
   "cell_type": "code",
   "execution_count": 489,
   "metadata": {},
   "outputs": [],
   "source": [
    "ska_year = df.loc[df[\"team\"].isin(ska)]"
   ]
  },
  {
   "cell_type": "code",
   "execution_count": 490,
   "metadata": {},
   "outputs": [],
   "source": [
    "# 86 - 20      South Korea     A     3     0     1     2     4     7     −3     1\n",
    "# 90 - 22     E      South Korea     3     0     0     3     1     6     −5     0\n",
    "# 94 - 20      South Korea     C     3     0     2     1     4     5     −1     2\n",
    "# 98 - 30      South Korea     E     3     0     1     2     2     9     −7     1\n"
   ]
  },
  {
   "cell_type": "markdown",
   "metadata": {},
   "source": [
    "# Japan"
   ]
  },
  {
   "cell_type": "markdown",
   "metadata": {},
   "source": [
    "## 98"
   ]
  },
  {
   "cell_type": "code",
   "execution_count": 491,
   "metadata": {},
   "outputs": [],
   "source": [
    "jap = ['Japan']"
   ]
  },
  {
   "cell_type": "code",
   "execution_count": 492,
   "metadata": {},
   "outputs": [],
   "source": [
    "jap_year = df.loc[df[\"team\"].isin(jap)]"
   ]
  },
  {
   "cell_type": "code",
   "execution_count": 493,
   "metadata": {},
   "outputs": [],
   "source": [
    "jap98year = jap_year.loc[jap_year[\"season\"].isin(year1998)]\n",
    "\n"
   ]
  },
  {
   "cell_type": "code",
   "execution_count": 494,
   "metadata": {},
   "outputs": [],
   "source": [
    "jap98xg = jap98year.sort_values(by=[\"goals_z\"], ascending=False)\n"
   ]
  },
  {
   "cell_type": "code",
   "execution_count": 495,
   "metadata": {},
   "outputs": [],
   "source": [
    "jap98xg13 = jap98xg.head(13)\n"
   ]
  },
  {
   "cell_type": "code",
   "execution_count": 496,
   "metadata": {},
   "outputs": [],
   "source": [
    "jap98xg13 = jap98xg13.drop(columns=['season', 'team'])\n"
   ]
  },
  {
   "cell_type": "code",
   "execution_count": 497,
   "metadata": {},
   "outputs": [],
   "source": [
    "jap98 = jap98xg13.mean()"
   ]
  },
  {
   "cell_type": "code",
   "execution_count": 498,
   "metadata": {},
   "outputs": [],
   "source": [
    "# jap98"
   ]
  },
  {
   "cell_type": "code",
   "execution_count": 665,
   "metadata": {},
   "outputs": [],
   "source": [
    "jap = pd.concat([jap98], axis=1).T\n",
    "\n"
   ]
  },
  {
   "cell_type": "code",
   "execution_count": 666,
   "metadata": {},
   "outputs": [],
   "source": [
    "jap.rename(index={0: 'Japan98'}, inplace=True)\n"
   ]
  },
  {
   "cell_type": "code",
   "execution_count": 667,
   "metadata": {},
   "outputs": [],
   "source": [
    "df2 = jap.assign(results=[31])\n"
   ]
  },
  {
   "cell_type": "code",
   "execution_count": 668,
   "metadata": {},
   "outputs": [
    {
     "data": {
      "text/html": [
       "<div>\n",
       "<style scoped>\n",
       "    .dataframe tbody tr th:only-of-type {\n",
       "        vertical-align: middle;\n",
       "    }\n",
       "\n",
       "    .dataframe tbody tr th {\n",
       "        vertical-align: top;\n",
       "    }\n",
       "\n",
       "    .dataframe thead th {\n",
       "        text-align: right;\n",
       "    }\n",
       "</style>\n",
       "<table border=\"1\" class=\"dataframe\">\n",
       "  <thead>\n",
       "    <tr style=\"text-align: right;\">\n",
       "      <th></th>\n",
       "      <th>goals_z</th>\n",
       "      <th>xg_z</th>\n",
       "      <th>crosses_z</th>\n",
       "      <th>boxtouches_z</th>\n",
       "      <th>passes_z</th>\n",
       "      <th>progpasses_z</th>\n",
       "      <th>takeons_z</th>\n",
       "      <th>progruns_z</th>\n",
       "      <th>tackles_z</th>\n",
       "      <th>interceptions_z</th>\n",
       "      <th>clearances_z</th>\n",
       "      <th>blocks_z</th>\n",
       "      <th>aerials_z</th>\n",
       "      <th>fouls_z</th>\n",
       "      <th>fouled_z</th>\n",
       "      <th>nsxg_z</th>\n",
       "      <th>results</th>\n",
       "    </tr>\n",
       "  </thead>\n",
       "  <tbody>\n",
       "    <tr>\n",
       "      <th>Japan98</th>\n",
       "      <td>-0.261538</td>\n",
       "      <td>0.207692</td>\n",
       "      <td>0.176154</td>\n",
       "      <td>0.236154</td>\n",
       "      <td>0.239231</td>\n",
       "      <td>0.176154</td>\n",
       "      <td>-0.075385</td>\n",
       "      <td>-0.188462</td>\n",
       "      <td>-0.076923</td>\n",
       "      <td>-0.169231</td>\n",
       "      <td>-0.279231</td>\n",
       "      <td>0.426154</td>\n",
       "      <td>-0.111538</td>\n",
       "      <td>0.700769</td>\n",
       "      <td>0.513077</td>\n",
       "      <td>0.005385</td>\n",
       "      <td>31</td>\n",
       "    </tr>\n",
       "  </tbody>\n",
       "</table>\n",
       "</div>"
      ],
      "text/plain": [
       "          goals_z      xg_z  crosses_z  boxtouches_z  passes_z  progpasses_z  \\\n",
       "Japan98 -0.261538  0.207692   0.176154      0.236154  0.239231      0.176154   \n",
       "\n",
       "         takeons_z  progruns_z  tackles_z  interceptions_z  clearances_z  \\\n",
       "Japan98  -0.075385   -0.188462  -0.076923        -0.169231     -0.279231   \n",
       "\n",
       "         blocks_z  aerials_z   fouls_z  fouled_z    nsxg_z  results  \n",
       "Japan98  0.426154  -0.111538  0.700769  0.513077  0.005385       31  "
      ]
     },
     "execution_count": 668,
     "metadata": {},
     "output_type": "execute_result"
    }
   ],
   "source": [
    "df2"
   ]
  },
  {
   "cell_type": "code",
   "execution_count": 669,
   "metadata": {},
   "outputs": [],
   "source": [
    "# df2.to_csv('Japan2.csv')"
   ]
  },
  {
   "cell_type": "code",
   "execution_count": 503,
   "metadata": {},
   "outputs": [],
   "source": [
    "# 98 - 31      Japan     H     3     0     0     3     1     4     −3     0\n"
   ]
  },
  {
   "cell_type": "markdown",
   "metadata": {},
   "source": [
    "# Argentina"
   ]
  },
  {
   "cell_type": "markdown",
   "metadata": {},
   "source": [
    "## 82"
   ]
  },
  {
   "cell_type": "code",
   "execution_count": 504,
   "metadata": {},
   "outputs": [],
   "source": [
    "arg = ['Argentina']"
   ]
  },
  {
   "cell_type": "code",
   "execution_count": 505,
   "metadata": {},
   "outputs": [],
   "source": [
    "arg_year = df.loc[df[\"team\"].isin(arg)]"
   ]
  },
  {
   "cell_type": "code",
   "execution_count": 506,
   "metadata": {},
   "outputs": [],
   "source": [
    "arg82year = arg_year.loc[arg_year[\"season\"].isin(year1982)]"
   ]
  },
  {
   "cell_type": "code",
   "execution_count": 507,
   "metadata": {},
   "outputs": [],
   "source": [
    "arg82xg = arg82year.sort_values(by=[\"goals_z\"], ascending=False)"
   ]
  },
  {
   "cell_type": "code",
   "execution_count": 508,
   "metadata": {},
   "outputs": [],
   "source": [
    "arg82xg13 = arg82xg.head(13)"
   ]
  },
  {
   "cell_type": "code",
   "execution_count": 509,
   "metadata": {},
   "outputs": [],
   "source": [
    "arg82xg13 = arg82xg13.drop(columns=['season', 'team'])"
   ]
  },
  {
   "cell_type": "code",
   "execution_count": 510,
   "metadata": {},
   "outputs": [],
   "source": [
    "arg82 = arg82xg13.mean()"
   ]
  },
  {
   "cell_type": "code",
   "execution_count": 511,
   "metadata": {},
   "outputs": [],
   "source": [
    "# arg82"
   ]
  },
  {
   "cell_type": "markdown",
   "metadata": {},
   "source": [
    "## 86"
   ]
  },
  {
   "cell_type": "code",
   "execution_count": 512,
   "metadata": {},
   "outputs": [],
   "source": [
    "arg86year = arg_year.loc[arg_year[\"season\"].isin(year1986)]"
   ]
  },
  {
   "cell_type": "code",
   "execution_count": 513,
   "metadata": {},
   "outputs": [],
   "source": [
    "arg86xg = arg86year.sort_values(by=[\"goals_z\"], ascending=False)"
   ]
  },
  {
   "cell_type": "code",
   "execution_count": 514,
   "metadata": {},
   "outputs": [],
   "source": [
    "arg86xg13 = arg86xg.head(13)"
   ]
  },
  {
   "cell_type": "code",
   "execution_count": 515,
   "metadata": {},
   "outputs": [],
   "source": [
    "arg86xg13 = arg86xg13.drop(columns=['season', 'team'])"
   ]
  },
  {
   "cell_type": "code",
   "execution_count": 516,
   "metadata": {},
   "outputs": [],
   "source": [
    "arg86 = arg86xg13.mean()"
   ]
  },
  {
   "cell_type": "code",
   "execution_count": 517,
   "metadata": {},
   "outputs": [],
   "source": [
    "# arg86"
   ]
  },
  {
   "cell_type": "markdown",
   "metadata": {},
   "source": [
    "## 90"
   ]
  },
  {
   "cell_type": "code",
   "execution_count": 518,
   "metadata": {},
   "outputs": [],
   "source": [
    "arg90year = arg_year.loc[arg_year[\"season\"].isin(year1990)]"
   ]
  },
  {
   "cell_type": "code",
   "execution_count": 519,
   "metadata": {},
   "outputs": [],
   "source": [
    "arg90xg = arg90year.sort_values(by=[\"goals_z\"], ascending=False)"
   ]
  },
  {
   "cell_type": "code",
   "execution_count": 520,
   "metadata": {},
   "outputs": [],
   "source": [
    "arg90xg13 = arg90xg.head(13)"
   ]
  },
  {
   "cell_type": "code",
   "execution_count": 521,
   "metadata": {},
   "outputs": [],
   "source": [
    "arg90xg13 = arg90xg13.drop(columns=['season', 'team'])"
   ]
  },
  {
   "cell_type": "code",
   "execution_count": 522,
   "metadata": {},
   "outputs": [],
   "source": [
    "arg90 = arg90xg13.mean()"
   ]
  },
  {
   "cell_type": "code",
   "execution_count": 523,
   "metadata": {},
   "outputs": [],
   "source": [
    "# arg90"
   ]
  },
  {
   "cell_type": "markdown",
   "metadata": {},
   "source": [
    "## 94"
   ]
  },
  {
   "cell_type": "code",
   "execution_count": 524,
   "metadata": {},
   "outputs": [],
   "source": [
    "arg94year = arg_year.loc[arg_year[\"season\"].isin(year1994)]"
   ]
  },
  {
   "cell_type": "code",
   "execution_count": 525,
   "metadata": {},
   "outputs": [],
   "source": [
    "arg94xg = arg94year.sort_values(by=[\"goals_z\"], ascending=False)"
   ]
  },
  {
   "cell_type": "code",
   "execution_count": 526,
   "metadata": {},
   "outputs": [],
   "source": [
    "arg94xg13 = arg94xg.head(13)"
   ]
  },
  {
   "cell_type": "code",
   "execution_count": 527,
   "metadata": {},
   "outputs": [],
   "source": [
    "arg94xg13 = arg94xg13.drop(columns=['season', 'team'])"
   ]
  },
  {
   "cell_type": "code",
   "execution_count": 528,
   "metadata": {},
   "outputs": [],
   "source": [
    "arg94 = arg94xg13.mean()"
   ]
  },
  {
   "cell_type": "code",
   "execution_count": 529,
   "metadata": {},
   "outputs": [],
   "source": [
    "# arg94"
   ]
  },
  {
   "cell_type": "markdown",
   "metadata": {},
   "source": [
    "## 98"
   ]
  },
  {
   "cell_type": "code",
   "execution_count": 530,
   "metadata": {},
   "outputs": [],
   "source": [
    "arg98year = arg_year.loc[arg_year[\"season\"].isin(year1998)]"
   ]
  },
  {
   "cell_type": "code",
   "execution_count": 531,
   "metadata": {},
   "outputs": [],
   "source": [
    "arg98xg = arg98year.sort_values(by=[\"goals_z\"], ascending=False)"
   ]
  },
  {
   "cell_type": "code",
   "execution_count": 532,
   "metadata": {},
   "outputs": [],
   "source": [
    "arg98xg13 = arg98xg.head(13)"
   ]
  },
  {
   "cell_type": "code",
   "execution_count": 533,
   "metadata": {},
   "outputs": [],
   "source": [
    "arg98xg13 = arg98xg13.drop(columns=['season', 'team'])"
   ]
  },
  {
   "cell_type": "code",
   "execution_count": 534,
   "metadata": {},
   "outputs": [],
   "source": [
    "arg98 = arg98xg13.mean()"
   ]
  },
  {
   "cell_type": "code",
   "execution_count": 535,
   "metadata": {},
   "outputs": [],
   "source": [
    "# arg98"
   ]
  },
  {
   "cell_type": "code",
   "execution_count": 670,
   "metadata": {},
   "outputs": [],
   "source": [
    "arg = pd.concat([arg82, arg86, arg90, arg94, arg98], axis=1).T\n",
    "\n"
   ]
  },
  {
   "cell_type": "code",
   "execution_count": 671,
   "metadata": {},
   "outputs": [],
   "source": [
    "arg.rename(index={0: 'Argentina82', 1: 'Argentina86', 2: 'Argentina90', \n",
    "                  3: 'Argentina94', 4: 'Argentina98'}, inplace=True)\n"
   ]
  },
  {
   "cell_type": "code",
   "execution_count": 672,
   "metadata": {},
   "outputs": [],
   "source": [
    "df2 = arg.assign(results=[11, 1, 2, 10, 6])\n"
   ]
  },
  {
   "cell_type": "code",
   "execution_count": 673,
   "metadata": {},
   "outputs": [
    {
     "data": {
      "text/html": [
       "<div>\n",
       "<style scoped>\n",
       "    .dataframe tbody tr th:only-of-type {\n",
       "        vertical-align: middle;\n",
       "    }\n",
       "\n",
       "    .dataframe tbody tr th {\n",
       "        vertical-align: top;\n",
       "    }\n",
       "\n",
       "    .dataframe thead th {\n",
       "        text-align: right;\n",
       "    }\n",
       "</style>\n",
       "<table border=\"1\" class=\"dataframe\">\n",
       "  <thead>\n",
       "    <tr style=\"text-align: right;\">\n",
       "      <th></th>\n",
       "      <th>goals_z</th>\n",
       "      <th>xg_z</th>\n",
       "      <th>crosses_z</th>\n",
       "      <th>boxtouches_z</th>\n",
       "      <th>passes_z</th>\n",
       "      <th>progpasses_z</th>\n",
       "      <th>takeons_z</th>\n",
       "      <th>progruns_z</th>\n",
       "      <th>tackles_z</th>\n",
       "      <th>interceptions_z</th>\n",
       "      <th>clearances_z</th>\n",
       "      <th>blocks_z</th>\n",
       "      <th>aerials_z</th>\n",
       "      <th>fouls_z</th>\n",
       "      <th>fouled_z</th>\n",
       "      <th>nsxg_z</th>\n",
       "      <th>results</th>\n",
       "    </tr>\n",
       "  </thead>\n",
       "  <tbody>\n",
       "    <tr>\n",
       "      <th>Argentina82</th>\n",
       "      <td>0.234615</td>\n",
       "      <td>0.405385</td>\n",
       "      <td>0.200769</td>\n",
       "      <td>0.554615</td>\n",
       "      <td>0.370769</td>\n",
       "      <td>0.331538</td>\n",
       "      <td>0.350769</td>\n",
       "      <td>0.026923</td>\n",
       "      <td>1.114615</td>\n",
       "      <td>0.497692</td>\n",
       "      <td>-0.392308</td>\n",
       "      <td>-0.084615</td>\n",
       "      <td>0.480000</td>\n",
       "      <td>0.017692</td>\n",
       "      <td>0.514615</td>\n",
       "      <td>0.296154</td>\n",
       "      <td>11</td>\n",
       "    </tr>\n",
       "    <tr>\n",
       "      <th>Argentina86</th>\n",
       "      <td>0.536154</td>\n",
       "      <td>0.170769</td>\n",
       "      <td>0.166154</td>\n",
       "      <td>0.190769</td>\n",
       "      <td>-0.167692</td>\n",
       "      <td>-0.196154</td>\n",
       "      <td>0.557692</td>\n",
       "      <td>-0.204615</td>\n",
       "      <td>-0.063846</td>\n",
       "      <td>0.343077</td>\n",
       "      <td>0.177692</td>\n",
       "      <td>0.333846</td>\n",
       "      <td>0.128462</td>\n",
       "      <td>-0.034615</td>\n",
       "      <td>0.470000</td>\n",
       "      <td>0.228462</td>\n",
       "      <td>1</td>\n",
       "    </tr>\n",
       "    <tr>\n",
       "      <th>Argentina90</th>\n",
       "      <td>-0.070769</td>\n",
       "      <td>-0.368462</td>\n",
       "      <td>-0.493846</td>\n",
       "      <td>-0.247692</td>\n",
       "      <td>-0.681538</td>\n",
       "      <td>-0.536923</td>\n",
       "      <td>-0.210000</td>\n",
       "      <td>-0.427692</td>\n",
       "      <td>-0.539231</td>\n",
       "      <td>-0.622308</td>\n",
       "      <td>-0.313846</td>\n",
       "      <td>-0.307692</td>\n",
       "      <td>-0.236923</td>\n",
       "      <td>-0.200769</td>\n",
       "      <td>-0.405385</td>\n",
       "      <td>-0.526154</td>\n",
       "      <td>2</td>\n",
       "    </tr>\n",
       "    <tr>\n",
       "      <th>Argentina94</th>\n",
       "      <td>0.420000</td>\n",
       "      <td>0.659231</td>\n",
       "      <td>0.472308</td>\n",
       "      <td>0.616923</td>\n",
       "      <td>0.452308</td>\n",
       "      <td>0.056923</td>\n",
       "      <td>1.100769</td>\n",
       "      <td>0.366923</td>\n",
       "      <td>0.593846</td>\n",
       "      <td>0.558462</td>\n",
       "      <td>-0.463846</td>\n",
       "      <td>-0.183077</td>\n",
       "      <td>-0.121538</td>\n",
       "      <td>0.094615</td>\n",
       "      <td>0.826923</td>\n",
       "      <td>0.990769</td>\n",
       "      <td>10</td>\n",
       "    </tr>\n",
       "    <tr>\n",
       "      <th>Argentina98</th>\n",
       "      <td>0.472308</td>\n",
       "      <td>0.458462</td>\n",
       "      <td>-0.023846</td>\n",
       "      <td>0.078462</td>\n",
       "      <td>0.416923</td>\n",
       "      <td>0.273846</td>\n",
       "      <td>0.693077</td>\n",
       "      <td>0.513077</td>\n",
       "      <td>0.130000</td>\n",
       "      <td>0.178462</td>\n",
       "      <td>-0.239231</td>\n",
       "      <td>0.021538</td>\n",
       "      <td>-0.318462</td>\n",
       "      <td>0.204615</td>\n",
       "      <td>0.463077</td>\n",
       "      <td>0.521538</td>\n",
       "      <td>6</td>\n",
       "    </tr>\n",
       "  </tbody>\n",
       "</table>\n",
       "</div>"
      ],
      "text/plain": [
       "              goals_z      xg_z  crosses_z  boxtouches_z  passes_z  \\\n",
       "Argentina82  0.234615  0.405385   0.200769      0.554615  0.370769   \n",
       "Argentina86  0.536154  0.170769   0.166154      0.190769 -0.167692   \n",
       "Argentina90 -0.070769 -0.368462  -0.493846     -0.247692 -0.681538   \n",
       "Argentina94  0.420000  0.659231   0.472308      0.616923  0.452308   \n",
       "Argentina98  0.472308  0.458462  -0.023846      0.078462  0.416923   \n",
       "\n",
       "             progpasses_z  takeons_z  progruns_z  tackles_z  interceptions_z  \\\n",
       "Argentina82      0.331538   0.350769    0.026923   1.114615         0.497692   \n",
       "Argentina86     -0.196154   0.557692   -0.204615  -0.063846         0.343077   \n",
       "Argentina90     -0.536923  -0.210000   -0.427692  -0.539231        -0.622308   \n",
       "Argentina94      0.056923   1.100769    0.366923   0.593846         0.558462   \n",
       "Argentina98      0.273846   0.693077    0.513077   0.130000         0.178462   \n",
       "\n",
       "             clearances_z  blocks_z  aerials_z   fouls_z  fouled_z    nsxg_z  \\\n",
       "Argentina82     -0.392308 -0.084615   0.480000  0.017692  0.514615  0.296154   \n",
       "Argentina86      0.177692  0.333846   0.128462 -0.034615  0.470000  0.228462   \n",
       "Argentina90     -0.313846 -0.307692  -0.236923 -0.200769 -0.405385 -0.526154   \n",
       "Argentina94     -0.463846 -0.183077  -0.121538  0.094615  0.826923  0.990769   \n",
       "Argentina98     -0.239231  0.021538  -0.318462  0.204615  0.463077  0.521538   \n",
       "\n",
       "             results  \n",
       "Argentina82       11  \n",
       "Argentina86        1  \n",
       "Argentina90        2  \n",
       "Argentina94       10  \n",
       "Argentina98        6  "
      ]
     },
     "execution_count": 673,
     "metadata": {},
     "output_type": "execute_result"
    }
   ],
   "source": [
    "df2"
   ]
  },
  {
   "cell_type": "code",
   "execution_count": 674,
   "metadata": {},
   "outputs": [],
   "source": [
    "# df2.to_csv('Argentina2.csv')"
   ]
  },
  {
   "cell_type": "code",
   "execution_count": 540,
   "metadata": {},
   "outputs": [],
   "source": [
    "# 82 - 11      Argentina     3/C     5     2     0     3     8     7     +1     4\n",
    "# 86 - 1      Argentina     A     7     6     1     0     14     5     +9     13\n",
    "# 90 - 2     B      Argentina     7     2     3     2     5     4     +1     7     2nd\n",
    "# 94 - 10      Argentina     D     4     2     0     2     8     6     +2     6\n",
    "# 98 - 6      Argentina     H     5     3     1     1     10     4     +6     10\n"
   ]
  },
  {
   "cell_type": "markdown",
   "metadata": {},
   "source": [
    "# Iran"
   ]
  },
  {
   "cell_type": "markdown",
   "metadata": {},
   "source": [
    "## 98\n"
   ]
  },
  {
   "cell_type": "code",
   "execution_count": 541,
   "metadata": {},
   "outputs": [],
   "source": [
    "# 98 - 20      Iran     F     3     1     0     2     2     4     −2     3\n"
   ]
  },
  {
   "cell_type": "code",
   "execution_count": null,
   "metadata": {},
   "outputs": [],
   "source": []
  },
  {
   "cell_type": "code",
   "execution_count": null,
   "metadata": {},
   "outputs": [],
   "source": []
  },
  {
   "cell_type": "markdown",
   "metadata": {},
   "source": [
    "# Mexico"
   ]
  },
  {
   "cell_type": "code",
   "execution_count": null,
   "metadata": {},
   "outputs": [],
   "source": []
  },
  {
   "cell_type": "code",
   "execution_count": null,
   "metadata": {},
   "outputs": [],
   "source": []
  },
  {
   "cell_type": "code",
   "execution_count": 542,
   "metadata": {},
   "outputs": [],
   "source": [
    "# 86 - 6      Mexico     B     5     3     2     0     6     2     +4     8\n",
    "# 94 - 13      Mexico     E     4     1     2     1     4     4     0     5\n",
    "# 98 - 13      Mexico     E     4     1     2     1     8     7     +1     5"
   ]
  }
 ],
 "metadata": {
  "kernelspec": {
   "display_name": "Python 3 (ipykernel)",
   "language": "python",
   "name": "python3"
  },
  "language_info": {
   "codemirror_mode": {
    "name": "ipython",
    "version": 3
   },
   "file_extension": ".py",
   "mimetype": "text/x-python",
   "name": "python",
   "nbconvert_exporter": "python",
   "pygments_lexer": "ipython3",
   "version": "3.9.12"
  }
 },
 "nbformat": 4,
 "nbformat_minor": 2
}
