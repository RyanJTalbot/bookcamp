{
 "cells": [
  {
   "cell_type": "code",
   "execution_count": 1,
   "metadata": {},
   "outputs": [],
   "source": [
    "import pandas as pd\n",
    "import numpy as np\n",
    "import matplotlib.pyplot as plt\n",
    "import seaborn as sns\n",
    "import matplotlib.ticker as ticker\n",
    "import matplotlib.ticker as plticker\n",
    "from sklearn.model_selection import train_test_split\n",
    "from sklearn.linear_model import LogisticRegression\n",
    "\n",
    "import matplotlib.pyplot as pyplot\n",
    "import seaborn as sns"
   ]
  },
  {
   "cell_type": "code",
   "execution_count": 2,
   "metadata": {},
   "outputs": [],
   "source": [
    "years = [2018, 2014, 2010, 2006, 2002, 1998, 1994, 1990, 1986, 1982]"
   ]
  },
  {
   "cell_type": "code",
   "execution_count": 3,
   "metadata": {},
   "outputs": [],
   "source": [
    "comparisons = pd.read_csv('world_cup_comparisons.csv')"
   ]
  },
  {
   "cell_type": "code",
   "execution_count": 4,
   "metadata": {},
   "outputs": [
    {
     "data": {
      "text/html": [
       "<div>\n",
       "<style scoped>\n",
       "    .dataframe tbody tr th:only-of-type {\n",
       "        vertical-align: middle;\n",
       "    }\n",
       "\n",
       "    .dataframe tbody tr th {\n",
       "        vertical-align: top;\n",
       "    }\n",
       "\n",
       "    .dataframe thead th {\n",
       "        text-align: right;\n",
       "    }\n",
       "</style>\n",
       "<table border=\"1\" class=\"dataframe\">\n",
       "  <thead>\n",
       "    <tr style=\"text-align: right;\">\n",
       "      <th></th>\n",
       "      <th>player</th>\n",
       "      <th>season</th>\n",
       "      <th>team</th>\n",
       "      <th>goals_z</th>\n",
       "      <th>xg_z</th>\n",
       "      <th>crosses_z</th>\n",
       "      <th>boxtouches_z</th>\n",
       "      <th>passes_z</th>\n",
       "      <th>progpasses_z</th>\n",
       "      <th>takeons_z</th>\n",
       "      <th>progruns_z</th>\n",
       "      <th>tackles_z</th>\n",
       "      <th>interceptions_z</th>\n",
       "      <th>clearances_z</th>\n",
       "      <th>blocks_z</th>\n",
       "      <th>aerials_z</th>\n",
       "      <th>fouls_z</th>\n",
       "      <th>fouled_z</th>\n",
       "      <th>nsxg_z</th>\n",
       "    </tr>\n",
       "  </thead>\n",
       "  <tbody>\n",
       "    <tr>\n",
       "      <th>0</th>\n",
       "      <td>Cristian Pavón</td>\n",
       "      <td>2018</td>\n",
       "      <td>Argentina</td>\n",
       "      <td>-0.42</td>\n",
       "      <td>-0.55</td>\n",
       "      <td>0.08</td>\n",
       "      <td>-0.24</td>\n",
       "      <td>-0.61</td>\n",
       "      <td>-0.72</td>\n",
       "      <td>-0.05</td>\n",
       "      <td>0.15</td>\n",
       "      <td>0.30</td>\n",
       "      <td>-0.79</td>\n",
       "      <td>-0.80</td>\n",
       "      <td>-0.45</td>\n",
       "      <td>-0.23</td>\n",
       "      <td>-0.38</td>\n",
       "      <td>-0.91</td>\n",
       "      <td>-0.58</td>\n",
       "    </tr>\n",
       "    <tr>\n",
       "      <th>1</th>\n",
       "      <td>Eduardo Salvio</td>\n",
       "      <td>2018</td>\n",
       "      <td>Argentina</td>\n",
       "      <td>-0.42</td>\n",
       "      <td>-0.50</td>\n",
       "      <td>-0.51</td>\n",
       "      <td>0.64</td>\n",
       "      <td>0.02</td>\n",
       "      <td>-0.46</td>\n",
       "      <td>-0.05</td>\n",
       "      <td>0.48</td>\n",
       "      <td>0.61</td>\n",
       "      <td>0.67</td>\n",
       "      <td>0.32</td>\n",
       "      <td>-0.45</td>\n",
       "      <td>0.21</td>\n",
       "      <td>-1.11</td>\n",
       "      <td>0.68</td>\n",
       "      <td>-0.03</td>\n",
       "    </tr>\n",
       "    <tr>\n",
       "      <th>2</th>\n",
       "      <td>Enzo Pérez</td>\n",
       "      <td>2018</td>\n",
       "      <td>Argentina</td>\n",
       "      <td>-0.42</td>\n",
       "      <td>0.11</td>\n",
       "      <td>-0.51</td>\n",
       "      <td>-0.69</td>\n",
       "      <td>0.27</td>\n",
       "      <td>-0.65</td>\n",
       "      <td>-0.36</td>\n",
       "      <td>-0.34</td>\n",
       "      <td>0.35</td>\n",
       "      <td>-0.22</td>\n",
       "      <td>-0.80</td>\n",
       "      <td>-0.45</td>\n",
       "      <td>-0.89</td>\n",
       "      <td>0.72</td>\n",
       "      <td>0.04</td>\n",
       "      <td>-0.66</td>\n",
       "    </tr>\n",
       "    <tr>\n",
       "      <th>3</th>\n",
       "      <td>Federico Fazio</td>\n",
       "      <td>2018</td>\n",
       "      <td>Argentina</td>\n",
       "      <td>-0.42</td>\n",
       "      <td>-0.59</td>\n",
       "      <td>-0.51</td>\n",
       "      <td>-0.69</td>\n",
       "      <td>-0.97</td>\n",
       "      <td>-0.91</td>\n",
       "      <td>-0.67</td>\n",
       "      <td>-0.84</td>\n",
       "      <td>-0.82</td>\n",
       "      <td>-0.79</td>\n",
       "      <td>-0.64</td>\n",
       "      <td>-0.45</td>\n",
       "      <td>0.21</td>\n",
       "      <td>-1.11</td>\n",
       "      <td>-0.59</td>\n",
       "      <td>-0.77</td>\n",
       "    </tr>\n",
       "    <tr>\n",
       "      <th>4</th>\n",
       "      <td>Franco Armani</td>\n",
       "      <td>2018</td>\n",
       "      <td>Argentina</td>\n",
       "      <td>-0.42</td>\n",
       "      <td>-0.59</td>\n",
       "      <td>-0.51</td>\n",
       "      <td>-0.80</td>\n",
       "      <td>-0.67</td>\n",
       "      <td>0.64</td>\n",
       "      <td>-0.67</td>\n",
       "      <td>-0.67</td>\n",
       "      <td>-0.82</td>\n",
       "      <td>-0.79</td>\n",
       "      <td>-0.64</td>\n",
       "      <td>-0.45</td>\n",
       "      <td>-0.89</td>\n",
       "      <td>-1.11</td>\n",
       "      <td>-0.91</td>\n",
       "      <td>-0.77</td>\n",
       "    </tr>\n",
       "  </tbody>\n",
       "</table>\n",
       "</div>"
      ],
      "text/plain": [
       "           player  season       team  goals_z  xg_z  crosses_z  boxtouches_z  \\\n",
       "0  Cristian Pavón    2018  Argentina    -0.42 -0.55       0.08         -0.24   \n",
       "1  Eduardo Salvio    2018  Argentina    -0.42 -0.50      -0.51          0.64   \n",
       "2      Enzo Pérez    2018  Argentina    -0.42  0.11      -0.51         -0.69   \n",
       "3  Federico Fazio    2018  Argentina    -0.42 -0.59      -0.51         -0.69   \n",
       "4   Franco Armani    2018  Argentina    -0.42 -0.59      -0.51         -0.80   \n",
       "\n",
       "   passes_z  progpasses_z  takeons_z  progruns_z  tackles_z  interceptions_z  \\\n",
       "0     -0.61         -0.72      -0.05        0.15       0.30            -0.79   \n",
       "1      0.02         -0.46      -0.05        0.48       0.61             0.67   \n",
       "2      0.27         -0.65      -0.36       -0.34       0.35            -0.22   \n",
       "3     -0.97         -0.91      -0.67       -0.84      -0.82            -0.79   \n",
       "4     -0.67          0.64      -0.67       -0.67      -0.82            -0.79   \n",
       "\n",
       "   clearances_z  blocks_z  aerials_z  fouls_z  fouled_z  nsxg_z  \n",
       "0         -0.80     -0.45      -0.23    -0.38     -0.91   -0.58  \n",
       "1          0.32     -0.45       0.21    -1.11      0.68   -0.03  \n",
       "2         -0.80     -0.45      -0.89     0.72      0.04   -0.66  \n",
       "3         -0.64     -0.45       0.21    -1.11     -0.59   -0.77  \n",
       "4         -0.64     -0.45      -0.89    -1.11     -0.91   -0.77  "
      ]
     },
     "execution_count": 4,
     "metadata": {},
     "output_type": "execute_result"
    }
   ],
   "source": [
    "comparisons.head()"
   ]
  },
  {
   "cell_type": "code",
   "execution_count": 5,
   "metadata": {},
   "outputs": [],
   "source": [
    "all_teams = comparisons['team'].value_counts()"
   ]
  },
  {
   "cell_type": "code",
   "execution_count": 6,
   "metadata": {},
   "outputs": [],
   "source": [
    "all_teams = all_teams.drop(labels=['West Germany', 'Netherlands', 'Senegal', 'Ecuador', 'England', 'USA', 'Iran', 'Argentina', 'Poland', 'Mexico', 'Saudi Arabia', 'France', 'Denmark', 'Tunisia', 'Australia', 'Germany', 'Spain', 'Japan', 'Costa Rica', 'Belgium', 'Croatia', 'Canada', 'Morocco', 'Brazil', 'Switzerland', 'Serbia', 'Cameroon', 'Portugal', 'Uruguay', 'Ghana'])"
   ]
  },
  {
   "cell_type": "code",
   "execution_count": 7,
   "metadata": {
    "scrolled": false
   },
   "outputs": [],
   "source": [
    "teams_all = ['Italy', 'South Korea', 'Nigeria','Colombia','Paraguay',\n",
    "             'Sweden','Russia','Scotland','Algeria','Chile','Greece',\n",
    "             'Honduras','Austria','Bulgaria','USSR','Ivory Coast',               \n",
    "             'Romania','Yugoslavia','South Africa','Rep of Ireland',\n",
    "             'Czechoslovakia','Hungary','Egypt','Slovenia','Norway',                     \n",
    "             'Northern Ireland','Peru','New Zealand','Bosnia and Herzegovina',     \n",
    "             'Panama','Slovakia','Iraq','China PR','Jamaica','Turkey',                     \n",
    "             'Ukraine','Bolivia','Trinidad and Tobago','Togo','Czech Republic',             \n",
    "             'Angola','United Arab Emirates','Iceland','El Salvador','Kuwait','North Korea']"
   ]
  },
  {
   "cell_type": "code",
   "execution_count": 8,
   "metadata": {},
   "outputs": [],
   "source": [
    "comparisons = comparisons.loc[comparisons['team'].isin(teams_all)]"
   ]
  },
  {
   "cell_type": "code",
   "execution_count": 9,
   "metadata": {},
   "outputs": [
    {
     "data": {
      "text/plain": [
       "(2390, 19)"
      ]
     },
     "execution_count": 9,
     "metadata": {},
     "output_type": "execute_result"
    }
   ],
   "source": [
    "comparisons.shape"
   ]
  },
  {
   "cell_type": "code",
   "execution_count": 10,
   "metadata": {},
   "outputs": [],
   "source": [
    "year1982 = [1982]\n",
    "year1986 = [1986]\n",
    "year1990 = [1990]\n",
    "year1994 = [1994]\n",
    "year1998 = [1998]\n",
    "\n",
    "year2002 = [2002]\n",
    "year2006 = [2006]\n",
    "year2010 = [2010]\n",
    "year2014 = [2014]\n",
    "year2018 = [2018]"
   ]
  },
  {
   "cell_type": "code",
   "execution_count": 11,
   "metadata": {},
   "outputs": [],
   "source": [
    "df = comparisons.drop(columns = ['player'])\n"
   ]
  },
  {
   "cell_type": "markdown",
   "metadata": {},
   "source": [
    "# Italy"
   ]
  },
  {
   "cell_type": "markdown",
   "metadata": {},
   "source": [
    "## 1982"
   ]
  },
  {
   "cell_type": "code",
   "execution_count": 12,
   "metadata": {},
   "outputs": [
    {
     "data": {
      "text/html": [
       "<div>\n",
       "<style scoped>\n",
       "    .dataframe tbody tr th:only-of-type {\n",
       "        vertical-align: middle;\n",
       "    }\n",
       "\n",
       "    .dataframe tbody tr th {\n",
       "        vertical-align: top;\n",
       "    }\n",
       "\n",
       "    .dataframe thead th {\n",
       "        text-align: right;\n",
       "    }\n",
       "</style>\n",
       "<table border=\"1\" class=\"dataframe\">\n",
       "  <thead>\n",
       "    <tr style=\"text-align: right;\">\n",
       "      <th></th>\n",
       "      <th>season</th>\n",
       "      <th>team</th>\n",
       "      <th>goals_z</th>\n",
       "      <th>xg_z</th>\n",
       "      <th>crosses_z</th>\n",
       "      <th>boxtouches_z</th>\n",
       "      <th>passes_z</th>\n",
       "      <th>progpasses_z</th>\n",
       "      <th>takeons_z</th>\n",
       "      <th>progruns_z</th>\n",
       "      <th>tackles_z</th>\n",
       "      <th>interceptions_z</th>\n",
       "      <th>clearances_z</th>\n",
       "      <th>blocks_z</th>\n",
       "      <th>aerials_z</th>\n",
       "      <th>fouls_z</th>\n",
       "      <th>fouled_z</th>\n",
       "      <th>nsxg_z</th>\n",
       "    </tr>\n",
       "  </thead>\n",
       "  <tbody>\n",
       "    <tr>\n",
       "      <th>72</th>\n",
       "      <td>2018</td>\n",
       "      <td>Colombia</td>\n",
       "      <td>-0.42</td>\n",
       "      <td>-0.59</td>\n",
       "      <td>-0.51</td>\n",
       "      <td>-0.80</td>\n",
       "      <td>-1.16</td>\n",
       "      <td>-1.04</td>\n",
       "      <td>-0.67</td>\n",
       "      <td>-0.68</td>\n",
       "      <td>-0.82</td>\n",
       "      <td>-0.79</td>\n",
       "      <td>-0.80</td>\n",
       "      <td>-0.45</td>\n",
       "      <td>-0.69</td>\n",
       "      <td>-1.11</td>\n",
       "      <td>-0.91</td>\n",
       "      <td>-0.77</td>\n",
       "    </tr>\n",
       "    <tr>\n",
       "      <th>73</th>\n",
       "      <td>2018</td>\n",
       "      <td>Colombia</td>\n",
       "      <td>-0.42</td>\n",
       "      <td>-0.35</td>\n",
       "      <td>-0.51</td>\n",
       "      <td>0.12</td>\n",
       "      <td>-1.01</td>\n",
       "      <td>-0.98</td>\n",
       "      <td>-0.67</td>\n",
       "      <td>-0.53</td>\n",
       "      <td>-0.26</td>\n",
       "      <td>-0.79</td>\n",
       "      <td>-0.80</td>\n",
       "      <td>-0.45</td>\n",
       "      <td>0.12</td>\n",
       "      <td>0.24</td>\n",
       "      <td>-0.62</td>\n",
       "      <td>-0.21</td>\n",
       "    </tr>\n",
       "    <tr>\n",
       "      <th>74</th>\n",
       "      <td>2018</td>\n",
       "      <td>Colombia</td>\n",
       "      <td>-0.42</td>\n",
       "      <td>-0.59</td>\n",
       "      <td>-0.51</td>\n",
       "      <td>-0.80</td>\n",
       "      <td>-0.37</td>\n",
       "      <td>-0.39</td>\n",
       "      <td>-0.67</td>\n",
       "      <td>-0.84</td>\n",
       "      <td>0.21</td>\n",
       "      <td>-0.50</td>\n",
       "      <td>-0.65</td>\n",
       "      <td>-0.45</td>\n",
       "      <td>-0.49</td>\n",
       "      <td>0.91</td>\n",
       "      <td>-0.62</td>\n",
       "      <td>-0.62</td>\n",
       "    </tr>\n",
       "    <tr>\n",
       "      <th>75</th>\n",
       "      <td>2018</td>\n",
       "      <td>Colombia</td>\n",
       "      <td>-0.42</td>\n",
       "      <td>-0.59</td>\n",
       "      <td>-0.51</td>\n",
       "      <td>-0.80</td>\n",
       "      <td>-0.36</td>\n",
       "      <td>1.10</td>\n",
       "      <td>-0.67</td>\n",
       "      <td>-0.84</td>\n",
       "      <td>-0.82</td>\n",
       "      <td>-0.79</td>\n",
       "      <td>-0.65</td>\n",
       "      <td>-0.45</td>\n",
       "      <td>-0.69</td>\n",
       "      <td>-1.11</td>\n",
       "      <td>-0.32</td>\n",
       "      <td>-0.77</td>\n",
       "    </tr>\n",
       "    <tr>\n",
       "      <th>76</th>\n",
       "      <td>2018</td>\n",
       "      <td>Colombia</td>\n",
       "      <td>-0.42</td>\n",
       "      <td>-0.41</td>\n",
       "      <td>-0.51</td>\n",
       "      <td>0.22</td>\n",
       "      <td>0.88</td>\n",
       "      <td>1.04</td>\n",
       "      <td>-0.67</td>\n",
       "      <td>-0.68</td>\n",
       "      <td>-0.52</td>\n",
       "      <td>0.91</td>\n",
       "      <td>3.19</td>\n",
       "      <td>2.92</td>\n",
       "      <td>1.14</td>\n",
       "      <td>-0.44</td>\n",
       "      <td>-0.32</td>\n",
       "      <td>-0.72</td>\n",
       "    </tr>\n",
       "  </tbody>\n",
       "</table>\n",
       "</div>"
      ],
      "text/plain": [
       "    season      team  goals_z  xg_z  crosses_z  boxtouches_z  passes_z  \\\n",
       "72    2018  Colombia    -0.42 -0.59      -0.51         -0.80     -1.16   \n",
       "73    2018  Colombia    -0.42 -0.35      -0.51          0.12     -1.01   \n",
       "74    2018  Colombia    -0.42 -0.59      -0.51         -0.80     -0.37   \n",
       "75    2018  Colombia    -0.42 -0.59      -0.51         -0.80     -0.36   \n",
       "76    2018  Colombia    -0.42 -0.41      -0.51          0.22      0.88   \n",
       "\n",
       "    progpasses_z  takeons_z  progruns_z  tackles_z  interceptions_z  \\\n",
       "72         -1.04      -0.67       -0.68      -0.82            -0.79   \n",
       "73         -0.98      -0.67       -0.53      -0.26            -0.79   \n",
       "74         -0.39      -0.67       -0.84       0.21            -0.50   \n",
       "75          1.10      -0.67       -0.84      -0.82            -0.79   \n",
       "76          1.04      -0.67       -0.68      -0.52             0.91   \n",
       "\n",
       "    clearances_z  blocks_z  aerials_z  fouls_z  fouled_z  nsxg_z  \n",
       "72         -0.80     -0.45      -0.69    -1.11     -0.91   -0.77  \n",
       "73         -0.80     -0.45       0.12     0.24     -0.62   -0.21  \n",
       "74         -0.65     -0.45      -0.49     0.91     -0.62   -0.62  \n",
       "75         -0.65     -0.45      -0.69    -1.11     -0.32   -0.77  \n",
       "76          3.19      2.92       1.14    -0.44     -0.32   -0.72  "
      ]
     },
     "execution_count": 12,
     "metadata": {},
     "output_type": "execute_result"
    }
   ],
   "source": [
    "df.head()"
   ]
  },
  {
   "cell_type": "code",
   "execution_count": 13,
   "metadata": {},
   "outputs": [],
   "source": [
    "ita = ['Italy']\n"
   ]
  },
  {
   "cell_type": "code",
   "execution_count": 14,
   "metadata": {},
   "outputs": [],
   "source": [
    "ita_year = df.loc[df[\"team\"].isin(ita)]"
   ]
  },
  {
   "cell_type": "code",
   "execution_count": 15,
   "metadata": {},
   "outputs": [],
   "source": [
    "ita82year = ita_year.loc[ita_year[\"season\"].isin(year1982)]"
   ]
  },
  {
   "cell_type": "code",
   "execution_count": 16,
   "metadata": {},
   "outputs": [],
   "source": [
    "ita82xg = ita82year.sort_values(by=[\"goals_z\"], ascending=False)"
   ]
  },
  {
   "cell_type": "code",
   "execution_count": 17,
   "metadata": {},
   "outputs": [],
   "source": [
    "ita82xg13 = ita82xg.head(13)"
   ]
  },
  {
   "cell_type": "code",
   "execution_count": 18,
   "metadata": {},
   "outputs": [],
   "source": [
    "ita82xg13 = ita82xg13.drop(columns=['season', 'team'])"
   ]
  },
  {
   "cell_type": "code",
   "execution_count": 19,
   "metadata": {},
   "outputs": [],
   "source": [
    "ita82 = ita82xg13.mean()"
   ]
  },
  {
   "cell_type": "code",
   "execution_count": 20,
   "metadata": {},
   "outputs": [],
   "source": [
    "# ita82"
   ]
  },
  {
   "cell_type": "markdown",
   "metadata": {},
   "source": [
    "## 1986"
   ]
  },
  {
   "cell_type": "code",
   "execution_count": 21,
   "metadata": {},
   "outputs": [],
   "source": [
    "ita86year = ita_year.loc[ita_year[\"season\"].isin(year1986)]"
   ]
  },
  {
   "cell_type": "code",
   "execution_count": 22,
   "metadata": {},
   "outputs": [],
   "source": [
    "ita86xg = ita86year.sort_values(by=[\"goals_z\"], ascending=False)"
   ]
  },
  {
   "cell_type": "code",
   "execution_count": 23,
   "metadata": {},
   "outputs": [],
   "source": [
    "ita86xg13 = ita86xg.head(13)"
   ]
  },
  {
   "cell_type": "code",
   "execution_count": 24,
   "metadata": {},
   "outputs": [],
   "source": [
    "ita86xg13 = ita86xg13.drop(columns=['season', 'team'])"
   ]
  },
  {
   "cell_type": "code",
   "execution_count": 25,
   "metadata": {},
   "outputs": [],
   "source": [
    "ita86 = ita86xg13.mean()"
   ]
  },
  {
   "cell_type": "code",
   "execution_count": 26,
   "metadata": {},
   "outputs": [],
   "source": [
    "# ita86"
   ]
  },
  {
   "cell_type": "markdown",
   "metadata": {},
   "source": [
    "## 1990"
   ]
  },
  {
   "cell_type": "code",
   "execution_count": 27,
   "metadata": {},
   "outputs": [],
   "source": [
    "ita90year = ita_year.loc[ita_year[\"season\"].isin(year1990)]"
   ]
  },
  {
   "cell_type": "code",
   "execution_count": 28,
   "metadata": {},
   "outputs": [],
   "source": [
    "ita90xg = ita90year.sort_values(by=[\"goals_z\"], ascending=False)"
   ]
  },
  {
   "cell_type": "code",
   "execution_count": 29,
   "metadata": {},
   "outputs": [],
   "source": [
    "ita90xg13 = ita90xg.head(13)"
   ]
  },
  {
   "cell_type": "code",
   "execution_count": 30,
   "metadata": {},
   "outputs": [],
   "source": [
    "ita90xg13 = ita90xg13.drop(columns=['season', 'team'])"
   ]
  },
  {
   "cell_type": "code",
   "execution_count": 31,
   "metadata": {},
   "outputs": [],
   "source": [
    "ita90 = ita90xg13.mean()"
   ]
  },
  {
   "cell_type": "code",
   "execution_count": 32,
   "metadata": {},
   "outputs": [],
   "source": [
    "# ita90"
   ]
  },
  {
   "cell_type": "markdown",
   "metadata": {},
   "source": [
    "## 1994"
   ]
  },
  {
   "cell_type": "code",
   "execution_count": 33,
   "metadata": {},
   "outputs": [],
   "source": [
    "ita94year = ita_year.loc[ita_year[\"season\"].isin(year1994)]"
   ]
  },
  {
   "cell_type": "code",
   "execution_count": 34,
   "metadata": {},
   "outputs": [],
   "source": [
    "ita94xg = ita94year.sort_values(by=[\"goals_z\"], ascending=False)"
   ]
  },
  {
   "cell_type": "code",
   "execution_count": 35,
   "metadata": {},
   "outputs": [],
   "source": [
    "ita94xg13 = ita94xg.head(13)"
   ]
  },
  {
   "cell_type": "code",
   "execution_count": 36,
   "metadata": {},
   "outputs": [],
   "source": [
    "ita94xg13 = ita94xg13.drop(columns=['season', 'team'])"
   ]
  },
  {
   "cell_type": "code",
   "execution_count": 37,
   "metadata": {},
   "outputs": [],
   "source": [
    "ita94 = ita94xg13.mean()"
   ]
  },
  {
   "cell_type": "code",
   "execution_count": 38,
   "metadata": {},
   "outputs": [],
   "source": [
    "# ita94"
   ]
  },
  {
   "cell_type": "markdown",
   "metadata": {},
   "source": [
    "## 1998"
   ]
  },
  {
   "cell_type": "code",
   "execution_count": 39,
   "metadata": {},
   "outputs": [],
   "source": [
    "ita98year = ita_year.loc[ita_year[\"season\"].isin(year1998)]"
   ]
  },
  {
   "cell_type": "code",
   "execution_count": 40,
   "metadata": {},
   "outputs": [],
   "source": [
    "ita98xg = ita98year.sort_values(by=[\"goals_z\"], ascending=False)"
   ]
  },
  {
   "cell_type": "code",
   "execution_count": 41,
   "metadata": {},
   "outputs": [],
   "source": [
    "ita98xg13 = ita98xg.head(13)"
   ]
  },
  {
   "cell_type": "code",
   "execution_count": 42,
   "metadata": {},
   "outputs": [],
   "source": [
    "ita98xg13 = ita98xg13.drop(columns=['season', 'team'])"
   ]
  },
  {
   "cell_type": "code",
   "execution_count": 43,
   "metadata": {},
   "outputs": [],
   "source": [
    "ita98 = ita98xg13.mean()"
   ]
  },
  {
   "cell_type": "code",
   "execution_count": 44,
   "metadata": {},
   "outputs": [],
   "source": [
    "# ita98"
   ]
  },
  {
   "cell_type": "markdown",
   "metadata": {},
   "source": [
    "## 2002"
   ]
  },
  {
   "cell_type": "code",
   "execution_count": 45,
   "metadata": {},
   "outputs": [],
   "source": [
    "ita02year = ita_year.loc[ita_year[\"season\"].isin(year2002)]"
   ]
  },
  {
   "cell_type": "code",
   "execution_count": 46,
   "metadata": {},
   "outputs": [],
   "source": [
    "ita02xg = ita02year.sort_values(by=[\"goals_z\"], ascending=False)"
   ]
  },
  {
   "cell_type": "code",
   "execution_count": 47,
   "metadata": {},
   "outputs": [],
   "source": [
    "ita02xg13 = ita02xg.head(13)"
   ]
  },
  {
   "cell_type": "code",
   "execution_count": 48,
   "metadata": {},
   "outputs": [],
   "source": [
    "ita02xg13 = ita02xg13.drop(columns=['season', 'team'])"
   ]
  },
  {
   "cell_type": "code",
   "execution_count": 49,
   "metadata": {},
   "outputs": [],
   "source": [
    "ita02 = ita02xg13.mean()"
   ]
  },
  {
   "cell_type": "code",
   "execution_count": 50,
   "metadata": {},
   "outputs": [],
   "source": [
    "# ita02"
   ]
  },
  {
   "cell_type": "markdown",
   "metadata": {},
   "source": [
    "## 06"
   ]
  },
  {
   "cell_type": "code",
   "execution_count": 51,
   "metadata": {},
   "outputs": [],
   "source": [
    "ita06year = ita_year.loc[ita_year[\"season\"].isin(year2006)]"
   ]
  },
  {
   "cell_type": "code",
   "execution_count": 52,
   "metadata": {},
   "outputs": [],
   "source": [
    "ita06xg = ita06year.sort_values(by=[\"goals_z\"], ascending=False)"
   ]
  },
  {
   "cell_type": "code",
   "execution_count": 53,
   "metadata": {},
   "outputs": [],
   "source": [
    "ita06xg13 = ita06xg.head(13)"
   ]
  },
  {
   "cell_type": "code",
   "execution_count": 54,
   "metadata": {},
   "outputs": [],
   "source": [
    "ita06xg13 = ita06xg13.drop(columns=['season', 'team'])"
   ]
  },
  {
   "cell_type": "code",
   "execution_count": 55,
   "metadata": {},
   "outputs": [],
   "source": [
    "ita06 = ita06xg13.mean()"
   ]
  },
  {
   "cell_type": "code",
   "execution_count": 56,
   "metadata": {},
   "outputs": [],
   "source": [
    "# ita06"
   ]
  },
  {
   "cell_type": "markdown",
   "metadata": {},
   "source": [
    "## 2010"
   ]
  },
  {
   "cell_type": "code",
   "execution_count": 57,
   "metadata": {},
   "outputs": [],
   "source": [
    "ita10year = ita_year.loc[ita_year[\"season\"].isin(year2010)]"
   ]
  },
  {
   "cell_type": "code",
   "execution_count": 58,
   "metadata": {},
   "outputs": [],
   "source": [
    "ita10xg = ita10year.sort_values(by=[\"goals_z\"], ascending=False)"
   ]
  },
  {
   "cell_type": "code",
   "execution_count": 59,
   "metadata": {},
   "outputs": [],
   "source": [
    "ita10xg13 = ita10xg.head(13)"
   ]
  },
  {
   "cell_type": "code",
   "execution_count": 60,
   "metadata": {},
   "outputs": [],
   "source": [
    "ita10xg13 = ita10xg13.drop(columns=['season', 'team'])"
   ]
  },
  {
   "cell_type": "code",
   "execution_count": 61,
   "metadata": {},
   "outputs": [],
   "source": [
    "ita10 = ita10xg13.mean()"
   ]
  },
  {
   "cell_type": "code",
   "execution_count": 62,
   "metadata": {},
   "outputs": [],
   "source": [
    "# ita10"
   ]
  },
  {
   "cell_type": "markdown",
   "metadata": {},
   "source": [
    "## 2014"
   ]
  },
  {
   "cell_type": "code",
   "execution_count": 63,
   "metadata": {},
   "outputs": [],
   "source": [
    "ita14year = ita_year.loc[ita_year[\"season\"].isin(year2014)]"
   ]
  },
  {
   "cell_type": "code",
   "execution_count": 64,
   "metadata": {},
   "outputs": [],
   "source": [
    "ita14xg = ita14year.sort_values(by=[\"goals_z\"], ascending=False)"
   ]
  },
  {
   "cell_type": "code",
   "execution_count": 65,
   "metadata": {},
   "outputs": [],
   "source": [
    "ita14xg13 = ita14xg.head(13)"
   ]
  },
  {
   "cell_type": "code",
   "execution_count": 66,
   "metadata": {},
   "outputs": [],
   "source": [
    "ita14xg13 = ita14xg13.drop(columns=['season', 'team'])"
   ]
  },
  {
   "cell_type": "code",
   "execution_count": 67,
   "metadata": {},
   "outputs": [],
   "source": [
    "ita14 = ita14xg13.mean()"
   ]
  },
  {
   "cell_type": "code",
   "execution_count": 68,
   "metadata": {},
   "outputs": [
    {
     "data": {
      "text/plain": [
       "goals_z           -0.093077\n",
       "xg_z              -0.197692\n",
       "crosses_z         -0.366923\n",
       "boxtouches_z      -0.434615\n",
       "passes_z           0.531538\n",
       "progpasses_z       0.181538\n",
       "takeons_z         -0.248462\n",
       "progruns_z        -0.085385\n",
       "tackles_z          0.169231\n",
       "interceptions_z    0.879231\n",
       "clearances_z      -0.082308\n",
       "blocks_z           0.463077\n",
       "aerials_z         -0.289231\n",
       "fouls_z            0.077692\n",
       "fouled_z           0.267692\n",
       "nsxg_z            -0.443077\n",
       "dtype: float64"
      ]
     },
     "execution_count": 68,
     "metadata": {},
     "output_type": "execute_result"
    }
   ],
   "source": [
    "ita14"
   ]
  },
  {
   "cell_type": "code",
   "execution_count": 69,
   "metadata": {},
   "outputs": [],
   "source": [
    "ital = pd.concat([ita82, ita86, ita90, ita94, ita98, ita02, ita06, ita10, ita14], axis=1).T"
   ]
  },
  {
   "cell_type": "code",
   "execution_count": 70,
   "metadata": {},
   "outputs": [
    {
     "data": {
      "text/html": [
       "<div>\n",
       "<style scoped>\n",
       "    .dataframe tbody tr th:only-of-type {\n",
       "        vertical-align: middle;\n",
       "    }\n",
       "\n",
       "    .dataframe tbody tr th {\n",
       "        vertical-align: top;\n",
       "    }\n",
       "\n",
       "    .dataframe thead th {\n",
       "        text-align: right;\n",
       "    }\n",
       "</style>\n",
       "<table border=\"1\" class=\"dataframe\">\n",
       "  <thead>\n",
       "    <tr style=\"text-align: right;\">\n",
       "      <th></th>\n",
       "      <th>goals_z</th>\n",
       "      <th>xg_z</th>\n",
       "      <th>crosses_z</th>\n",
       "      <th>boxtouches_z</th>\n",
       "      <th>passes_z</th>\n",
       "      <th>progpasses_z</th>\n",
       "      <th>takeons_z</th>\n",
       "      <th>progruns_z</th>\n",
       "      <th>tackles_z</th>\n",
       "      <th>interceptions_z</th>\n",
       "      <th>clearances_z</th>\n",
       "      <th>blocks_z</th>\n",
       "      <th>aerials_z</th>\n",
       "      <th>fouls_z</th>\n",
       "      <th>fouled_z</th>\n",
       "      <th>nsxg_z</th>\n",
       "    </tr>\n",
       "  </thead>\n",
       "  <tbody>\n",
       "    <tr>\n",
       "      <th>0</th>\n",
       "      <td>0.286154</td>\n",
       "      <td>0.069231</td>\n",
       "      <td>0.013846</td>\n",
       "      <td>-0.040000</td>\n",
       "      <td>-0.095385</td>\n",
       "      <td>0.041538</td>\n",
       "      <td>0.054615</td>\n",
       "      <td>-0.230000</td>\n",
       "      <td>-0.101538</td>\n",
       "      <td>-0.220769</td>\n",
       "      <td>0.033846</td>\n",
       "      <td>0.198462</td>\n",
       "      <td>0.070000</td>\n",
       "      <td>0.350000</td>\n",
       "      <td>0.454615</td>\n",
       "      <td>-0.193846</td>\n",
       "    </tr>\n",
       "    <tr>\n",
       "      <th>1</th>\n",
       "      <td>0.073077</td>\n",
       "      <td>0.299231</td>\n",
       "      <td>0.304615</td>\n",
       "      <td>0.240000</td>\n",
       "      <td>0.406923</td>\n",
       "      <td>0.365385</td>\n",
       "      <td>0.016923</td>\n",
       "      <td>0.212308</td>\n",
       "      <td>-0.173077</td>\n",
       "      <td>0.320000</td>\n",
       "      <td>-0.068462</td>\n",
       "      <td>0.633846</td>\n",
       "      <td>-0.390000</td>\n",
       "      <td>0.300000</td>\n",
       "      <td>0.663846</td>\n",
       "      <td>0.102308</td>\n",
       "    </tr>\n",
       "    <tr>\n",
       "      <th>2</th>\n",
       "      <td>0.309231</td>\n",
       "      <td>0.330000</td>\n",
       "      <td>0.103846</td>\n",
       "      <td>0.147692</td>\n",
       "      <td>-0.000769</td>\n",
       "      <td>-0.311538</td>\n",
       "      <td>0.153846</td>\n",
       "      <td>0.121538</td>\n",
       "      <td>0.057692</td>\n",
       "      <td>0.213077</td>\n",
       "      <td>-0.199231</td>\n",
       "      <td>-0.313846</td>\n",
       "      <td>0.046923</td>\n",
       "      <td>-0.174615</td>\n",
       "      <td>0.493077</td>\n",
       "      <td>0.143077</td>\n",
       "    </tr>\n",
       "    <tr>\n",
       "      <th>3</th>\n",
       "      <td>0.032308</td>\n",
       "      <td>-0.028462</td>\n",
       "      <td>0.046154</td>\n",
       "      <td>0.052308</td>\n",
       "      <td>-0.147692</td>\n",
       "      <td>-0.115385</td>\n",
       "      <td>0.146923</td>\n",
       "      <td>-0.120000</td>\n",
       "      <td>-0.158462</td>\n",
       "      <td>-0.208462</td>\n",
       "      <td>-0.000769</td>\n",
       "      <td>-0.114615</td>\n",
       "      <td>0.080769</td>\n",
       "      <td>-0.066154</td>\n",
       "      <td>0.305385</td>\n",
       "      <td>0.050000</td>\n",
       "    </tr>\n",
       "    <tr>\n",
       "      <th>4</th>\n",
       "      <td>0.293846</td>\n",
       "      <td>0.176154</td>\n",
       "      <td>-0.355385</td>\n",
       "      <td>-0.112308</td>\n",
       "      <td>-0.164615</td>\n",
       "      <td>0.045385</td>\n",
       "      <td>-0.054615</td>\n",
       "      <td>-0.113846</td>\n",
       "      <td>-0.053846</td>\n",
       "      <td>-0.103077</td>\n",
       "      <td>0.309231</td>\n",
       "      <td>0.130000</td>\n",
       "      <td>0.074615</td>\n",
       "      <td>-0.010769</td>\n",
       "      <td>0.081538</td>\n",
       "      <td>-0.176923</td>\n",
       "    </tr>\n",
       "    <tr>\n",
       "      <th>5</th>\n",
       "      <td>0.153077</td>\n",
       "      <td>0.197692</td>\n",
       "      <td>0.030000</td>\n",
       "      <td>0.088462</td>\n",
       "      <td>-0.665385</td>\n",
       "      <td>-0.347692</td>\n",
       "      <td>-0.200000</td>\n",
       "      <td>-0.407692</td>\n",
       "      <td>-0.646154</td>\n",
       "      <td>-0.612308</td>\n",
       "      <td>-0.216154</td>\n",
       "      <td>-0.455385</td>\n",
       "      <td>-0.064615</td>\n",
       "      <td>-0.136923</td>\n",
       "      <td>0.095385</td>\n",
       "      <td>-0.118462</td>\n",
       "    </tr>\n",
       "    <tr>\n",
       "      <th>6</th>\n",
       "      <td>0.484615</td>\n",
       "      <td>0.213077</td>\n",
       "      <td>-0.103846</td>\n",
       "      <td>0.202308</td>\n",
       "      <td>-0.116154</td>\n",
       "      <td>-0.091538</td>\n",
       "      <td>-0.255385</td>\n",
       "      <td>-0.093077</td>\n",
       "      <td>-0.251538</td>\n",
       "      <td>-0.112308</td>\n",
       "      <td>0.109231</td>\n",
       "      <td>0.126923</td>\n",
       "      <td>0.100000</td>\n",
       "      <td>-0.377692</td>\n",
       "      <td>0.180000</td>\n",
       "      <td>0.180769</td>\n",
       "    </tr>\n",
       "    <tr>\n",
       "      <th>7</th>\n",
       "      <td>0.310769</td>\n",
       "      <td>0.424615</td>\n",
       "      <td>0.362308</td>\n",
       "      <td>0.256923</td>\n",
       "      <td>0.035385</td>\n",
       "      <td>0.073077</td>\n",
       "      <td>-0.039231</td>\n",
       "      <td>-0.240000</td>\n",
       "      <td>0.763846</td>\n",
       "      <td>0.315385</td>\n",
       "      <td>-0.299231</td>\n",
       "      <td>-0.280000</td>\n",
       "      <td>0.519231</td>\n",
       "      <td>-0.003077</td>\n",
       "      <td>0.360769</td>\n",
       "      <td>0.107692</td>\n",
       "    </tr>\n",
       "    <tr>\n",
       "      <th>8</th>\n",
       "      <td>-0.093077</td>\n",
       "      <td>-0.197692</td>\n",
       "      <td>-0.366923</td>\n",
       "      <td>-0.434615</td>\n",
       "      <td>0.531538</td>\n",
       "      <td>0.181538</td>\n",
       "      <td>-0.248462</td>\n",
       "      <td>-0.085385</td>\n",
       "      <td>0.169231</td>\n",
       "      <td>0.879231</td>\n",
       "      <td>-0.082308</td>\n",
       "      <td>0.463077</td>\n",
       "      <td>-0.289231</td>\n",
       "      <td>0.077692</td>\n",
       "      <td>0.267692</td>\n",
       "      <td>-0.443077</td>\n",
       "    </tr>\n",
       "  </tbody>\n",
       "</table>\n",
       "</div>"
      ],
      "text/plain": [
       "    goals_z      xg_z  crosses_z  boxtouches_z  passes_z  progpasses_z  \\\n",
       "0  0.286154  0.069231   0.013846     -0.040000 -0.095385      0.041538   \n",
       "1  0.073077  0.299231   0.304615      0.240000  0.406923      0.365385   \n",
       "2  0.309231  0.330000   0.103846      0.147692 -0.000769     -0.311538   \n",
       "3  0.032308 -0.028462   0.046154      0.052308 -0.147692     -0.115385   \n",
       "4  0.293846  0.176154  -0.355385     -0.112308 -0.164615      0.045385   \n",
       "5  0.153077  0.197692   0.030000      0.088462 -0.665385     -0.347692   \n",
       "6  0.484615  0.213077  -0.103846      0.202308 -0.116154     -0.091538   \n",
       "7  0.310769  0.424615   0.362308      0.256923  0.035385      0.073077   \n",
       "8 -0.093077 -0.197692  -0.366923     -0.434615  0.531538      0.181538   \n",
       "\n",
       "   takeons_z  progruns_z  tackles_z  interceptions_z  clearances_z  blocks_z  \\\n",
       "0   0.054615   -0.230000  -0.101538        -0.220769      0.033846  0.198462   \n",
       "1   0.016923    0.212308  -0.173077         0.320000     -0.068462  0.633846   \n",
       "2   0.153846    0.121538   0.057692         0.213077     -0.199231 -0.313846   \n",
       "3   0.146923   -0.120000  -0.158462        -0.208462     -0.000769 -0.114615   \n",
       "4  -0.054615   -0.113846  -0.053846        -0.103077      0.309231  0.130000   \n",
       "5  -0.200000   -0.407692  -0.646154        -0.612308     -0.216154 -0.455385   \n",
       "6  -0.255385   -0.093077  -0.251538        -0.112308      0.109231  0.126923   \n",
       "7  -0.039231   -0.240000   0.763846         0.315385     -0.299231 -0.280000   \n",
       "8  -0.248462   -0.085385   0.169231         0.879231     -0.082308  0.463077   \n",
       "\n",
       "   aerials_z   fouls_z  fouled_z    nsxg_z  \n",
       "0   0.070000  0.350000  0.454615 -0.193846  \n",
       "1  -0.390000  0.300000  0.663846  0.102308  \n",
       "2   0.046923 -0.174615  0.493077  0.143077  \n",
       "3   0.080769 -0.066154  0.305385  0.050000  \n",
       "4   0.074615 -0.010769  0.081538 -0.176923  \n",
       "5  -0.064615 -0.136923  0.095385 -0.118462  \n",
       "6   0.100000 -0.377692  0.180000  0.180769  \n",
       "7   0.519231 -0.003077  0.360769  0.107692  \n",
       "8  -0.289231  0.077692  0.267692 -0.443077  "
      ]
     },
     "execution_count": 70,
     "metadata": {},
     "output_type": "execute_result"
    }
   ],
   "source": [
    "ital"
   ]
  },
  {
   "cell_type": "code",
   "execution_count": 73,
   "metadata": {},
   "outputs": [],
   "source": [
    "ital.rename(index={0: 'Italy82', 1: 'Italy86', 2: 'Italy90', 3: 'Italy94', 4: 'Italy98', \n",
    "                  5: 'Italy02', 6: 'Italy06', 7: 'Italy10', 8: 'Italy14'}, inplace=True)\n"
   ]
  },
  {
   "cell_type": "code",
   "execution_count": 74,
   "metadata": {},
   "outputs": [],
   "source": [
    "df2 = ital.assign(results=[1, 12, 3, 2, 5, 15, 1, 26, 22])\n"
   ]
  },
  {
   "cell_type": "code",
   "execution_count": 75,
   "metadata": {},
   "outputs": [],
   "source": [
    "# df2.to_csv('Italy.csv', index=False)\n"
   ]
  },
  {
   "cell_type": "code",
   "execution_count": null,
   "metadata": {},
   "outputs": [],
   "source": [
    "# 82 - 1      Italy     1/C     7     4     3     0     12     6     +6     11\n",
    "# 86 - 12      Italy     A     4     1     2     1     5     6     −1     4\n",
    "# 90 - 3     A      Italy     7     6     1     0     10     2     +8     13     3rd\n",
    "# 94 - 2      Italy     E     7     4     2     1     8     5     +3     14\n",
    "# 98 - 5      Italy     B     5     3     2     0     8     3     +5     11\n",
    "# 02 - 15     G      Italy     4     1     1     2     5     5     0     4\n",
    "# 06 - 1      Italy     E     7     5     2     0     12     2     +10     17\n",
    "# 10 - 26      Italy     F     3     0     2     1     4     5     −1     2\n",
    "# 14 - 22      Italy     D     3     1     0     2     3     2     3     −1\n"
   ]
  },
  {
   "cell_type": "markdown",
   "metadata": {},
   "source": []
  },
  {
   "cell_type": "code",
   "execution_count": null,
   "metadata": {},
   "outputs": [],
   "source": []
  },
  {
   "cell_type": "code",
   "execution_count": null,
   "metadata": {},
   "outputs": [],
   "source": [
    "# 86 - 20      South Korea     A     3     0     1     2     4     7     −3     1\n",
    "# 90 - 22     E      South Korea     3     0     0     3     1     6     −5     0\n",
    "# 94 - 20      South Korea     C     3     0     2     1     4     5     −1     2\n",
    "# 98 - 30      South Korea     E     3     0     1     2     2     9     −7     1\n",
    "# 02 - 4     D      South Korea     7     3     2     2     8     6     +2     11     4th\n",
    "# 06 - 17      South Korea     G     3     1     1     1     3     4     −1     4\n",
    "# 10 - 15      South Korea     B     4     1     1     2     6     8     −2     4\n",
    "# 14 - 27      South Korea     H     3     0     1     2     1     3     6     −3\n",
    "# 18 - 19      South Korea     F     3     1     0     2     3     3     3     0\n"
   ]
  },
  {
   "cell_type": "code",
   "execution_count": null,
   "metadata": {},
   "outputs": [],
   "source": [
    "['South Korea', 'Nigeria','Colombia','Paraguay',\n",
    "             'Sweden','Russia','Scotland','Algeria','Chile','Greece',\n",
    "             'Honduras','Austria','Bulgaria','USSR','Ivory Coast',               \n",
    "             'Romania','Yugoslavia','South Africa','Rep of Ireland',\n",
    "             'Czechoslovakia','Hungary','Egypt','Slovenia','Norway',                     \n",
    "             'Northern Ireland','Peru','New Zealand','Bosnia and Herzegovina',     \n",
    "             'Panama','Slovakia','Iraq','China PR','Jamaica','Turkey',                     \n",
    "             'Ukraine','Bolivia','Trinidad and Tobago','Togo','Czech Republic',             \n",
    "             'Angola','United Arab Emirates','Iceland','El Salvador','Kuwait','North Korea']"
   ]
  }
 ],
 "metadata": {
  "kernelspec": {
   "display_name": "Python 3 (ipykernel)",
   "language": "python",
   "name": "python3"
  },
  "language_info": {
   "codemirror_mode": {
    "name": "ipython",
    "version": 3
   },
   "file_extension": ".py",
   "mimetype": "text/x-python",
   "name": "python",
   "nbconvert_exporter": "python",
   "pygments_lexer": "ipython3",
   "version": "3.9.12"
  }
 },
 "nbformat": 4,
 "nbformat_minor": 2
}
