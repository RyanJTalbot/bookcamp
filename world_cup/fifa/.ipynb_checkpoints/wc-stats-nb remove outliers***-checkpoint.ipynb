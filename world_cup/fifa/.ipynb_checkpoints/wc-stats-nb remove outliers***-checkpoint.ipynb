{
 "cells": [
  {
   "cell_type": "markdown",
   "metadata": {},
   "source": [
    "https://santiagof.medium.com/model-interpretability-making-your-model-confess-feature-importance-34993e001d99"
   ]
  },
  {
   "cell_type": "code",
   "execution_count": 333,
   "metadata": {},
   "outputs": [],
   "source": [
    "import pandas as pd\n",
    "import numpy as np\n",
    "from sklearn.model_selection import train_test_split\n",
    "import seaborn as sns\n",
    "import matplotlib.pyplot as plt"
   ]
  },
  {
   "cell_type": "code",
   "execution_count": 334,
   "metadata": {},
   "outputs": [],
   "source": [
    "df = pd.read_csv('WC-stats.csv')"
   ]
  },
  {
   "cell_type": "code",
   "execution_count": 335,
   "metadata": {},
   "outputs": [
    {
     "data": {
      "text/html": [
       "<div>\n",
       "<style scoped>\n",
       "    .dataframe tbody tr th:only-of-type {\n",
       "        vertical-align: middle;\n",
       "    }\n",
       "\n",
       "    .dataframe tbody tr th {\n",
       "        vertical-align: top;\n",
       "    }\n",
       "\n",
       "    .dataframe thead th {\n",
       "        text-align: right;\n",
       "    }\n",
       "</style>\n",
       "<table border=\"1\" class=\"dataframe\">\n",
       "  <thead>\n",
       "    <tr style=\"text-align: right;\">\n",
       "      <th></th>\n",
       "      <th>goals_z</th>\n",
       "      <th>xg_z</th>\n",
       "      <th>crosses_z</th>\n",
       "      <th>boxtouches_z</th>\n",
       "      <th>passes_z</th>\n",
       "      <th>progpasses_z</th>\n",
       "      <th>takeons_z</th>\n",
       "      <th>progruns_z</th>\n",
       "      <th>tackles_z</th>\n",
       "      <th>interceptions_z</th>\n",
       "      <th>clearances_z</th>\n",
       "      <th>blocks_z</th>\n",
       "      <th>aerials_z</th>\n",
       "      <th>fouls_z</th>\n",
       "      <th>fouled_z</th>\n",
       "      <th>nsxg_z</th>\n",
       "      <th>results</th>\n",
       "    </tr>\n",
       "  </thead>\n",
       "  <tbody>\n",
       "    <tr>\n",
       "      <th>0</th>\n",
       "      <td>0.423077</td>\n",
       "      <td>0.146923</td>\n",
       "      <td>-0.136154</td>\n",
       "      <td>-0.030000</td>\n",
       "      <td>0.429231</td>\n",
       "      <td>0.037692</td>\n",
       "      <td>0.244615</td>\n",
       "      <td>-0.220000</td>\n",
       "      <td>0.216154</td>\n",
       "      <td>0.270000</td>\n",
       "      <td>-0.076923</td>\n",
       "      <td>-0.097692</td>\n",
       "      <td>-0.020000</td>\n",
       "      <td>-0.224615</td>\n",
       "      <td>0.100769</td>\n",
       "      <td>-0.124615</td>\n",
       "      <td>2</td>\n",
       "    </tr>\n",
       "    <tr>\n",
       "      <th>1</th>\n",
       "      <td>0.216923</td>\n",
       "      <td>0.348462</td>\n",
       "      <td>0.031538</td>\n",
       "      <td>0.158462</td>\n",
       "      <td>0.835385</td>\n",
       "      <td>0.626923</td>\n",
       "      <td>0.270000</td>\n",
       "      <td>0.266923</td>\n",
       "      <td>1.143846</td>\n",
       "      <td>0.834615</td>\n",
       "      <td>-0.059231</td>\n",
       "      <td>-0.134615</td>\n",
       "      <td>0.196923</td>\n",
       "      <td>-0.016923</td>\n",
       "      <td>0.033846</td>\n",
       "      <td>0.146923</td>\n",
       "      <td>1</td>\n",
       "    </tr>\n",
       "    <tr>\n",
       "      <th>2</th>\n",
       "      <td>0.113846</td>\n",
       "      <td>0.392308</td>\n",
       "      <td>0.599231</td>\n",
       "      <td>0.513846</td>\n",
       "      <td>0.833077</td>\n",
       "      <td>0.405385</td>\n",
       "      <td>0.521538</td>\n",
       "      <td>1.139231</td>\n",
       "      <td>1.109231</td>\n",
       "      <td>0.859231</td>\n",
       "      <td>0.084615</td>\n",
       "      <td>0.103077</td>\n",
       "      <td>0.683846</td>\n",
       "      <td>0.213846</td>\n",
       "      <td>0.353846</td>\n",
       "      <td>0.786923</td>\n",
       "      <td>9</td>\n",
       "    </tr>\n",
       "    <tr>\n",
       "      <th>3</th>\n",
       "      <td>0.479231</td>\n",
       "      <td>0.609231</td>\n",
       "      <td>0.227692</td>\n",
       "      <td>0.450769</td>\n",
       "      <td>0.770769</td>\n",
       "      <td>0.042308</td>\n",
       "      <td>0.337692</td>\n",
       "      <td>0.927692</td>\n",
       "      <td>0.506923</td>\n",
       "      <td>1.015385</td>\n",
       "      <td>0.020769</td>\n",
       "      <td>0.381538</td>\n",
       "      <td>0.038462</td>\n",
       "      <td>0.039231</td>\n",
       "      <td>0.022308</td>\n",
       "      <td>0.692308</td>\n",
       "      <td>5</td>\n",
       "    </tr>\n",
       "    <tr>\n",
       "      <th>4</th>\n",
       "      <td>0.877692</td>\n",
       "      <td>0.773846</td>\n",
       "      <td>0.428462</td>\n",
       "      <td>0.659231</td>\n",
       "      <td>0.754615</td>\n",
       "      <td>0.335385</td>\n",
       "      <td>0.023077</td>\n",
       "      <td>0.638462</td>\n",
       "      <td>0.493846</td>\n",
       "      <td>0.637692</td>\n",
       "      <td>-0.117692</td>\n",
       "      <td>-0.033846</td>\n",
       "      <td>0.572308</td>\n",
       "      <td>-0.016154</td>\n",
       "      <td>-0.096923</td>\n",
       "      <td>0.890769</td>\n",
       "      <td>5</td>\n",
       "    </tr>\n",
       "  </tbody>\n",
       "</table>\n",
       "</div>"
      ],
      "text/plain": [
       "    goals_z      xg_z  crosses_z  boxtouches_z  passes_z  progpasses_z  \\\n",
       "0  0.423077  0.146923  -0.136154     -0.030000  0.429231      0.037692   \n",
       "1  0.216923  0.348462   0.031538      0.158462  0.835385      0.626923   \n",
       "2  0.113846  0.392308   0.599231      0.513846  0.833077      0.405385   \n",
       "3  0.479231  0.609231   0.227692      0.450769  0.770769      0.042308   \n",
       "4  0.877692  0.773846   0.428462      0.659231  0.754615      0.335385   \n",
       "\n",
       "   takeons_z  progruns_z  tackles_z  interceptions_z  clearances_z  blocks_z  \\\n",
       "0   0.244615   -0.220000   0.216154         0.270000     -0.076923 -0.097692   \n",
       "1   0.270000    0.266923   1.143846         0.834615     -0.059231 -0.134615   \n",
       "2   0.521538    1.139231   1.109231         0.859231      0.084615  0.103077   \n",
       "3   0.337692    0.927692   0.506923         1.015385      0.020769  0.381538   \n",
       "4   0.023077    0.638462   0.493846         0.637692     -0.117692 -0.033846   \n",
       "\n",
       "   aerials_z   fouls_z  fouled_z    nsxg_z  results  \n",
       "0  -0.020000 -0.224615  0.100769 -0.124615        2  \n",
       "1   0.196923 -0.016923  0.033846  0.146923        1  \n",
       "2   0.683846  0.213846  0.353846  0.786923        9  \n",
       "3   0.038462  0.039231  0.022308  0.692308        5  \n",
       "4   0.572308 -0.016154 -0.096923  0.890769        5  "
      ]
     },
     "execution_count": 335,
     "metadata": {},
     "output_type": "execute_result"
    }
   ],
   "source": [
    "df.head()"
   ]
  },
  {
   "cell_type": "code",
   "execution_count": 336,
   "metadata": {},
   "outputs": [
    {
     "data": {
      "text/plain": [
       "(229, 17)"
      ]
     },
     "execution_count": 336,
     "metadata": {},
     "output_type": "execute_result"
    }
   ],
   "source": [
    "df.shape"
   ]
  },
  {
   "cell_type": "code",
   "execution_count": 337,
   "metadata": {},
   "outputs": [
    {
     "name": "stdout",
     "output_type": "stream",
     "text": [
      "<class 'pandas.core.frame.DataFrame'>\n",
      "RangeIndex: 229 entries, 0 to 228\n",
      "Data columns (total 17 columns):\n",
      " #   Column           Non-Null Count  Dtype  \n",
      "---  ------           --------------  -----  \n",
      " 0   goals_z          229 non-null    float64\n",
      " 1   xg_z             229 non-null    float64\n",
      " 2   crosses_z        229 non-null    float64\n",
      " 3   boxtouches_z     229 non-null    float64\n",
      " 4   passes_z         229 non-null    float64\n",
      " 5   progpasses_z     229 non-null    float64\n",
      " 6   takeons_z        229 non-null    float64\n",
      " 7   progruns_z       229 non-null    float64\n",
      " 8   tackles_z        229 non-null    float64\n",
      " 9   interceptions_z  229 non-null    float64\n",
      " 10  clearances_z     229 non-null    float64\n",
      " 11  blocks_z         229 non-null    float64\n",
      " 12  aerials_z        229 non-null    float64\n",
      " 13  fouls_z          229 non-null    float64\n",
      " 14  fouled_z         229 non-null    float64\n",
      " 15  nsxg_z           229 non-null    float64\n",
      " 16  results          229 non-null    int64  \n",
      "dtypes: float64(16), int64(1)\n",
      "memory usage: 30.5 KB\n"
     ]
    }
   ],
   "source": [
    "df.info()"
   ]
  },
  {
   "cell_type": "code",
   "execution_count": 338,
   "metadata": {},
   "outputs": [
    {
     "data": {
      "text/html": [
       "<div>\n",
       "<style scoped>\n",
       "    .dataframe tbody tr th:only-of-type {\n",
       "        vertical-align: middle;\n",
       "    }\n",
       "\n",
       "    .dataframe tbody tr th {\n",
       "        vertical-align: top;\n",
       "    }\n",
       "\n",
       "    .dataframe thead th {\n",
       "        text-align: right;\n",
       "    }\n",
       "</style>\n",
       "<table border=\"1\" class=\"dataframe\">\n",
       "  <thead>\n",
       "    <tr style=\"text-align: right;\">\n",
       "      <th></th>\n",
       "      <th>goals_z</th>\n",
       "      <th>xg_z</th>\n",
       "      <th>crosses_z</th>\n",
       "      <th>boxtouches_z</th>\n",
       "      <th>passes_z</th>\n",
       "      <th>progpasses_z</th>\n",
       "      <th>takeons_z</th>\n",
       "      <th>progruns_z</th>\n",
       "      <th>tackles_z</th>\n",
       "      <th>interceptions_z</th>\n",
       "      <th>clearances_z</th>\n",
       "      <th>blocks_z</th>\n",
       "      <th>aerials_z</th>\n",
       "      <th>fouls_z</th>\n",
       "      <th>fouled_z</th>\n",
       "      <th>nsxg_z</th>\n",
       "      <th>results</th>\n",
       "    </tr>\n",
       "  </thead>\n",
       "  <tbody>\n",
       "    <tr>\n",
       "      <th>goals_z</th>\n",
       "      <td>1.000000</td>\n",
       "      <td>0.614471</td>\n",
       "      <td>0.083100</td>\n",
       "      <td>0.347052</td>\n",
       "      <td>0.180022</td>\n",
       "      <td>0.035536</td>\n",
       "      <td>0.255771</td>\n",
       "      <td>0.183783</td>\n",
       "      <td>0.217050</td>\n",
       "      <td>0.173696</td>\n",
       "      <td>-0.176944</td>\n",
       "      <td>0.027814</td>\n",
       "      <td>0.091151</td>\n",
       "      <td>-0.096311</td>\n",
       "      <td>0.056096</td>\n",
       "      <td>0.380320</td>\n",
       "      <td>-0.617758</td>\n",
       "    </tr>\n",
       "    <tr>\n",
       "      <th>xg_z</th>\n",
       "      <td>0.614471</td>\n",
       "      <td>1.000000</td>\n",
       "      <td>0.403588</td>\n",
       "      <td>0.677305</td>\n",
       "      <td>0.325280</td>\n",
       "      <td>0.115869</td>\n",
       "      <td>0.359477</td>\n",
       "      <td>0.386917</td>\n",
       "      <td>0.372899</td>\n",
       "      <td>0.297896</td>\n",
       "      <td>-0.381781</td>\n",
       "      <td>0.027511</td>\n",
       "      <td>0.082565</td>\n",
       "      <td>-0.019138</td>\n",
       "      <td>0.180699</td>\n",
       "      <td>0.668377</td>\n",
       "      <td>-0.309682</td>\n",
       "    </tr>\n",
       "    <tr>\n",
       "      <th>crosses_z</th>\n",
       "      <td>0.083100</td>\n",
       "      <td>0.403588</td>\n",
       "      <td>1.000000</td>\n",
       "      <td>0.642591</td>\n",
       "      <td>0.253538</td>\n",
       "      <td>0.275480</td>\n",
       "      <td>0.139355</td>\n",
       "      <td>0.248537</td>\n",
       "      <td>0.247140</td>\n",
       "      <td>0.225584</td>\n",
       "      <td>-0.250359</td>\n",
       "      <td>0.025173</td>\n",
       "      <td>0.239659</td>\n",
       "      <td>0.047913</td>\n",
       "      <td>0.191122</td>\n",
       "      <td>0.672855</td>\n",
       "      <td>0.026103</td>\n",
       "    </tr>\n",
       "    <tr>\n",
       "      <th>boxtouches_z</th>\n",
       "      <td>0.347052</td>\n",
       "      <td>0.677305</td>\n",
       "      <td>0.642591</td>\n",
       "      <td>1.000000</td>\n",
       "      <td>0.371557</td>\n",
       "      <td>0.241539</td>\n",
       "      <td>0.232867</td>\n",
       "      <td>0.368459</td>\n",
       "      <td>0.395419</td>\n",
       "      <td>0.291525</td>\n",
       "      <td>-0.421810</td>\n",
       "      <td>0.109341</td>\n",
       "      <td>0.259735</td>\n",
       "      <td>0.013265</td>\n",
       "      <td>0.180316</td>\n",
       "      <td>0.860818</td>\n",
       "      <td>-0.198913</td>\n",
       "    </tr>\n",
       "    <tr>\n",
       "      <th>passes_z</th>\n",
       "      <td>0.180022</td>\n",
       "      <td>0.325280</td>\n",
       "      <td>0.253538</td>\n",
       "      <td>0.371557</td>\n",
       "      <td>1.000000</td>\n",
       "      <td>0.752023</td>\n",
       "      <td>0.378437</td>\n",
       "      <td>0.579869</td>\n",
       "      <td>0.744986</td>\n",
       "      <td>0.744625</td>\n",
       "      <td>-0.114533</td>\n",
       "      <td>0.389846</td>\n",
       "      <td>0.010501</td>\n",
       "      <td>0.059154</td>\n",
       "      <td>0.303039</td>\n",
       "      <td>0.488397</td>\n",
       "      <td>-0.143699</td>\n",
       "    </tr>\n",
       "    <tr>\n",
       "      <th>progpasses_z</th>\n",
       "      <td>0.035536</td>\n",
       "      <td>0.115869</td>\n",
       "      <td>0.275480</td>\n",
       "      <td>0.241539</td>\n",
       "      <td>0.752023</td>\n",
       "      <td>1.000000</td>\n",
       "      <td>0.155813</td>\n",
       "      <td>0.314251</td>\n",
       "      <td>0.524437</td>\n",
       "      <td>0.559503</td>\n",
       "      <td>-0.034335</td>\n",
       "      <td>0.360422</td>\n",
       "      <td>0.044744</td>\n",
       "      <td>0.201719</td>\n",
       "      <td>0.193694</td>\n",
       "      <td>0.367694</td>\n",
       "      <td>-0.048934</td>\n",
       "    </tr>\n",
       "    <tr>\n",
       "      <th>takeons_z</th>\n",
       "      <td>0.255771</td>\n",
       "      <td>0.359477</td>\n",
       "      <td>0.139355</td>\n",
       "      <td>0.232867</td>\n",
       "      <td>0.378437</td>\n",
       "      <td>0.155813</td>\n",
       "      <td>1.000000</td>\n",
       "      <td>0.555055</td>\n",
       "      <td>0.369867</td>\n",
       "      <td>0.373391</td>\n",
       "      <td>-0.094147</td>\n",
       "      <td>0.160701</td>\n",
       "      <td>-0.081984</td>\n",
       "      <td>0.112818</td>\n",
       "      <td>0.332161</td>\n",
       "      <td>0.395687</td>\n",
       "      <td>-0.175708</td>\n",
       "    </tr>\n",
       "    <tr>\n",
       "      <th>progruns_z</th>\n",
       "      <td>0.183783</td>\n",
       "      <td>0.386917</td>\n",
       "      <td>0.248537</td>\n",
       "      <td>0.368459</td>\n",
       "      <td>0.579869</td>\n",
       "      <td>0.314251</td>\n",
       "      <td>0.555055</td>\n",
       "      <td>1.000000</td>\n",
       "      <td>0.519110</td>\n",
       "      <td>0.413221</td>\n",
       "      <td>-0.056800</td>\n",
       "      <td>0.276575</td>\n",
       "      <td>-0.052188</td>\n",
       "      <td>0.035128</td>\n",
       "      <td>0.248921</td>\n",
       "      <td>0.466431</td>\n",
       "      <td>-0.204465</td>\n",
       "    </tr>\n",
       "    <tr>\n",
       "      <th>tackles_z</th>\n",
       "      <td>0.217050</td>\n",
       "      <td>0.372899</td>\n",
       "      <td>0.247140</td>\n",
       "      <td>0.395419</td>\n",
       "      <td>0.744986</td>\n",
       "      <td>0.524437</td>\n",
       "      <td>0.369867</td>\n",
       "      <td>0.519110</td>\n",
       "      <td>1.000000</td>\n",
       "      <td>0.698235</td>\n",
       "      <td>-0.207746</td>\n",
       "      <td>0.250302</td>\n",
       "      <td>0.069672</td>\n",
       "      <td>0.014739</td>\n",
       "      <td>0.302096</td>\n",
       "      <td>0.488773</td>\n",
       "      <td>-0.183665</td>\n",
       "    </tr>\n",
       "    <tr>\n",
       "      <th>interceptions_z</th>\n",
       "      <td>0.173696</td>\n",
       "      <td>0.297896</td>\n",
       "      <td>0.225584</td>\n",
       "      <td>0.291525</td>\n",
       "      <td>0.744625</td>\n",
       "      <td>0.559503</td>\n",
       "      <td>0.373391</td>\n",
       "      <td>0.413221</td>\n",
       "      <td>0.698235</td>\n",
       "      <td>1.000000</td>\n",
       "      <td>-0.119980</td>\n",
       "      <td>0.306129</td>\n",
       "      <td>0.021699</td>\n",
       "      <td>0.126177</td>\n",
       "      <td>0.318093</td>\n",
       "      <td>0.420159</td>\n",
       "      <td>-0.114134</td>\n",
       "    </tr>\n",
       "    <tr>\n",
       "      <th>clearances_z</th>\n",
       "      <td>-0.176944</td>\n",
       "      <td>-0.381781</td>\n",
       "      <td>-0.250359</td>\n",
       "      <td>-0.421810</td>\n",
       "      <td>-0.114533</td>\n",
       "      <td>-0.034335</td>\n",
       "      <td>-0.094147</td>\n",
       "      <td>-0.056800</td>\n",
       "      <td>-0.207746</td>\n",
       "      <td>-0.119980</td>\n",
       "      <td>1.000000</td>\n",
       "      <td>0.239911</td>\n",
       "      <td>0.264881</td>\n",
       "      <td>0.204799</td>\n",
       "      <td>0.036176</td>\n",
       "      <td>-0.419707</td>\n",
       "      <td>0.079177</td>\n",
       "    </tr>\n",
       "    <tr>\n",
       "      <th>blocks_z</th>\n",
       "      <td>0.027814</td>\n",
       "      <td>0.027511</td>\n",
       "      <td>0.025173</td>\n",
       "      <td>0.109341</td>\n",
       "      <td>0.389846</td>\n",
       "      <td>0.360422</td>\n",
       "      <td>0.160701</td>\n",
       "      <td>0.276575</td>\n",
       "      <td>0.250302</td>\n",
       "      <td>0.306129</td>\n",
       "      <td>0.239911</td>\n",
       "      <td>1.000000</td>\n",
       "      <td>0.044825</td>\n",
       "      <td>0.187837</td>\n",
       "      <td>0.091365</td>\n",
       "      <td>0.150350</td>\n",
       "      <td>-0.070757</td>\n",
       "    </tr>\n",
       "    <tr>\n",
       "      <th>aerials_z</th>\n",
       "      <td>0.091151</td>\n",
       "      <td>0.082565</td>\n",
       "      <td>0.239659</td>\n",
       "      <td>0.259735</td>\n",
       "      <td>0.010501</td>\n",
       "      <td>0.044744</td>\n",
       "      <td>-0.081984</td>\n",
       "      <td>-0.052188</td>\n",
       "      <td>0.069672</td>\n",
       "      <td>0.021699</td>\n",
       "      <td>0.264881</td>\n",
       "      <td>0.044825</td>\n",
       "      <td>1.000000</td>\n",
       "      <td>0.107502</td>\n",
       "      <td>0.027299</td>\n",
       "      <td>0.162866</td>\n",
       "      <td>-0.031247</td>\n",
       "    </tr>\n",
       "    <tr>\n",
       "      <th>fouls_z</th>\n",
       "      <td>-0.096311</td>\n",
       "      <td>-0.019138</td>\n",
       "      <td>0.047913</td>\n",
       "      <td>0.013265</td>\n",
       "      <td>0.059154</td>\n",
       "      <td>0.201719</td>\n",
       "      <td>0.112818</td>\n",
       "      <td>0.035128</td>\n",
       "      <td>0.014739</td>\n",
       "      <td>0.126177</td>\n",
       "      <td>0.204799</td>\n",
       "      <td>0.187837</td>\n",
       "      <td>0.107502</td>\n",
       "      <td>1.000000</td>\n",
       "      <td>0.264862</td>\n",
       "      <td>0.053664</td>\n",
       "      <td>0.117869</td>\n",
       "    </tr>\n",
       "    <tr>\n",
       "      <th>fouled_z</th>\n",
       "      <td>0.056096</td>\n",
       "      <td>0.180699</td>\n",
       "      <td>0.191122</td>\n",
       "      <td>0.180316</td>\n",
       "      <td>0.303039</td>\n",
       "      <td>0.193694</td>\n",
       "      <td>0.332161</td>\n",
       "      <td>0.248921</td>\n",
       "      <td>0.302096</td>\n",
       "      <td>0.318093</td>\n",
       "      <td>0.036176</td>\n",
       "      <td>0.091365</td>\n",
       "      <td>0.027299</td>\n",
       "      <td>0.264862</td>\n",
       "      <td>1.000000</td>\n",
       "      <td>0.267871</td>\n",
       "      <td>-0.107828</td>\n",
       "    </tr>\n",
       "    <tr>\n",
       "      <th>nsxg_z</th>\n",
       "      <td>0.380320</td>\n",
       "      <td>0.668377</td>\n",
       "      <td>0.672855</td>\n",
       "      <td>0.860818</td>\n",
       "      <td>0.488397</td>\n",
       "      <td>0.367694</td>\n",
       "      <td>0.395687</td>\n",
       "      <td>0.466431</td>\n",
       "      <td>0.488773</td>\n",
       "      <td>0.420159</td>\n",
       "      <td>-0.419707</td>\n",
       "      <td>0.150350</td>\n",
       "      <td>0.162866</td>\n",
       "      <td>0.053664</td>\n",
       "      <td>0.267871</td>\n",
       "      <td>1.000000</td>\n",
       "      <td>-0.212020</td>\n",
       "    </tr>\n",
       "    <tr>\n",
       "      <th>results</th>\n",
       "      <td>-0.617758</td>\n",
       "      <td>-0.309682</td>\n",
       "      <td>0.026103</td>\n",
       "      <td>-0.198913</td>\n",
       "      <td>-0.143699</td>\n",
       "      <td>-0.048934</td>\n",
       "      <td>-0.175708</td>\n",
       "      <td>-0.204465</td>\n",
       "      <td>-0.183665</td>\n",
       "      <td>-0.114134</td>\n",
       "      <td>0.079177</td>\n",
       "      <td>-0.070757</td>\n",
       "      <td>-0.031247</td>\n",
       "      <td>0.117869</td>\n",
       "      <td>-0.107828</td>\n",
       "      <td>-0.212020</td>\n",
       "      <td>1.000000</td>\n",
       "    </tr>\n",
       "  </tbody>\n",
       "</table>\n",
       "</div>"
      ],
      "text/plain": [
       "                  goals_z      xg_z  crosses_z  boxtouches_z  passes_z  \\\n",
       "goals_z          1.000000  0.614471   0.083100      0.347052  0.180022   \n",
       "xg_z             0.614471  1.000000   0.403588      0.677305  0.325280   \n",
       "crosses_z        0.083100  0.403588   1.000000      0.642591  0.253538   \n",
       "boxtouches_z     0.347052  0.677305   0.642591      1.000000  0.371557   \n",
       "passes_z         0.180022  0.325280   0.253538      0.371557  1.000000   \n",
       "progpasses_z     0.035536  0.115869   0.275480      0.241539  0.752023   \n",
       "takeons_z        0.255771  0.359477   0.139355      0.232867  0.378437   \n",
       "progruns_z       0.183783  0.386917   0.248537      0.368459  0.579869   \n",
       "tackles_z        0.217050  0.372899   0.247140      0.395419  0.744986   \n",
       "interceptions_z  0.173696  0.297896   0.225584      0.291525  0.744625   \n",
       "clearances_z    -0.176944 -0.381781  -0.250359     -0.421810 -0.114533   \n",
       "blocks_z         0.027814  0.027511   0.025173      0.109341  0.389846   \n",
       "aerials_z        0.091151  0.082565   0.239659      0.259735  0.010501   \n",
       "fouls_z         -0.096311 -0.019138   0.047913      0.013265  0.059154   \n",
       "fouled_z         0.056096  0.180699   0.191122      0.180316  0.303039   \n",
       "nsxg_z           0.380320  0.668377   0.672855      0.860818  0.488397   \n",
       "results         -0.617758 -0.309682   0.026103     -0.198913 -0.143699   \n",
       "\n",
       "                 progpasses_z  takeons_z  progruns_z  tackles_z  \\\n",
       "goals_z              0.035536   0.255771    0.183783   0.217050   \n",
       "xg_z                 0.115869   0.359477    0.386917   0.372899   \n",
       "crosses_z            0.275480   0.139355    0.248537   0.247140   \n",
       "boxtouches_z         0.241539   0.232867    0.368459   0.395419   \n",
       "passes_z             0.752023   0.378437    0.579869   0.744986   \n",
       "progpasses_z         1.000000   0.155813    0.314251   0.524437   \n",
       "takeons_z            0.155813   1.000000    0.555055   0.369867   \n",
       "progruns_z           0.314251   0.555055    1.000000   0.519110   \n",
       "tackles_z            0.524437   0.369867    0.519110   1.000000   \n",
       "interceptions_z      0.559503   0.373391    0.413221   0.698235   \n",
       "clearances_z        -0.034335  -0.094147   -0.056800  -0.207746   \n",
       "blocks_z             0.360422   0.160701    0.276575   0.250302   \n",
       "aerials_z            0.044744  -0.081984   -0.052188   0.069672   \n",
       "fouls_z              0.201719   0.112818    0.035128   0.014739   \n",
       "fouled_z             0.193694   0.332161    0.248921   0.302096   \n",
       "nsxg_z               0.367694   0.395687    0.466431   0.488773   \n",
       "results             -0.048934  -0.175708   -0.204465  -0.183665   \n",
       "\n",
       "                 interceptions_z  clearances_z  blocks_z  aerials_z   fouls_z  \\\n",
       "goals_z                 0.173696     -0.176944  0.027814   0.091151 -0.096311   \n",
       "xg_z                    0.297896     -0.381781  0.027511   0.082565 -0.019138   \n",
       "crosses_z               0.225584     -0.250359  0.025173   0.239659  0.047913   \n",
       "boxtouches_z            0.291525     -0.421810  0.109341   0.259735  0.013265   \n",
       "passes_z                0.744625     -0.114533  0.389846   0.010501  0.059154   \n",
       "progpasses_z            0.559503     -0.034335  0.360422   0.044744  0.201719   \n",
       "takeons_z               0.373391     -0.094147  0.160701  -0.081984  0.112818   \n",
       "progruns_z              0.413221     -0.056800  0.276575  -0.052188  0.035128   \n",
       "tackles_z               0.698235     -0.207746  0.250302   0.069672  0.014739   \n",
       "interceptions_z         1.000000     -0.119980  0.306129   0.021699  0.126177   \n",
       "clearances_z           -0.119980      1.000000  0.239911   0.264881  0.204799   \n",
       "blocks_z                0.306129      0.239911  1.000000   0.044825  0.187837   \n",
       "aerials_z               0.021699      0.264881  0.044825   1.000000  0.107502   \n",
       "fouls_z                 0.126177      0.204799  0.187837   0.107502  1.000000   \n",
       "fouled_z                0.318093      0.036176  0.091365   0.027299  0.264862   \n",
       "nsxg_z                  0.420159     -0.419707  0.150350   0.162866  0.053664   \n",
       "results                -0.114134      0.079177 -0.070757  -0.031247  0.117869   \n",
       "\n",
       "                 fouled_z    nsxg_z   results  \n",
       "goals_z          0.056096  0.380320 -0.617758  \n",
       "xg_z             0.180699  0.668377 -0.309682  \n",
       "crosses_z        0.191122  0.672855  0.026103  \n",
       "boxtouches_z     0.180316  0.860818 -0.198913  \n",
       "passes_z         0.303039  0.488397 -0.143699  \n",
       "progpasses_z     0.193694  0.367694 -0.048934  \n",
       "takeons_z        0.332161  0.395687 -0.175708  \n",
       "progruns_z       0.248921  0.466431 -0.204465  \n",
       "tackles_z        0.302096  0.488773 -0.183665  \n",
       "interceptions_z  0.318093  0.420159 -0.114134  \n",
       "clearances_z     0.036176 -0.419707  0.079177  \n",
       "blocks_z         0.091365  0.150350 -0.070757  \n",
       "aerials_z        0.027299  0.162866 -0.031247  \n",
       "fouls_z          0.264862  0.053664  0.117869  \n",
       "fouled_z         1.000000  0.267871 -0.107828  \n",
       "nsxg_z           0.267871  1.000000 -0.212020  \n",
       "results         -0.107828 -0.212020  1.000000  "
      ]
     },
     "execution_count": 338,
     "metadata": {},
     "output_type": "execute_result"
    }
   ],
   "source": [
    "df.corr()"
   ]
  },
  {
   "cell_type": "code",
   "execution_count": 339,
   "metadata": {},
   "outputs": [
    {
     "data": {
      "text/html": [
       "<div>\n",
       "<style scoped>\n",
       "    .dataframe tbody tr th:only-of-type {\n",
       "        vertical-align: middle;\n",
       "    }\n",
       "\n",
       "    .dataframe tbody tr th {\n",
       "        vertical-align: top;\n",
       "    }\n",
       "\n",
       "    .dataframe thead th {\n",
       "        text-align: right;\n",
       "    }\n",
       "</style>\n",
       "<table border=\"1\" class=\"dataframe\">\n",
       "  <thead>\n",
       "    <tr style=\"text-align: right;\">\n",
       "      <th></th>\n",
       "      <th>count</th>\n",
       "      <th>mean</th>\n",
       "      <th>std</th>\n",
       "      <th>min</th>\n",
       "      <th>25%</th>\n",
       "      <th>50%</th>\n",
       "      <th>75%</th>\n",
       "      <th>max</th>\n",
       "    </tr>\n",
       "  </thead>\n",
       "  <tbody>\n",
       "    <tr>\n",
       "      <th>goals_z</th>\n",
       "      <td>229.0</td>\n",
       "      <td>0.142726</td>\n",
       "      <td>0.281256</td>\n",
       "      <td>-0.410000</td>\n",
       "      <td>-0.066154</td>\n",
       "      <td>0.130000</td>\n",
       "      <td>0.326154</td>\n",
       "      <td>0.881538</td>\n",
       "    </tr>\n",
       "    <tr>\n",
       "      <th>xg_z</th>\n",
       "      <td>229.0</td>\n",
       "      <td>0.158801</td>\n",
       "      <td>0.263314</td>\n",
       "      <td>-0.466923</td>\n",
       "      <td>-0.028462</td>\n",
       "      <td>0.156923</td>\n",
       "      <td>0.321538</td>\n",
       "      <td>1.015385</td>\n",
       "    </tr>\n",
       "    <tr>\n",
       "      <th>crosses_z</th>\n",
       "      <td>229.0</td>\n",
       "      <td>0.082429</td>\n",
       "      <td>0.246950</td>\n",
       "      <td>-0.493846</td>\n",
       "      <td>-0.090769</td>\n",
       "      <td>0.040000</td>\n",
       "      <td>0.259231</td>\n",
       "      <td>0.853846</td>\n",
       "    </tr>\n",
       "    <tr>\n",
       "      <th>boxtouches_z</th>\n",
       "      <td>229.0</td>\n",
       "      <td>0.159492</td>\n",
       "      <td>0.287384</td>\n",
       "      <td>-0.634615</td>\n",
       "      <td>-0.038462</td>\n",
       "      <td>0.140769</td>\n",
       "      <td>0.310769</td>\n",
       "      <td>1.153077</td>\n",
       "    </tr>\n",
       "    <tr>\n",
       "      <th>passes_z</th>\n",
       "      <td>229.0</td>\n",
       "      <td>0.056839</td>\n",
       "      <td>0.360919</td>\n",
       "      <td>-0.781538</td>\n",
       "      <td>-0.186923</td>\n",
       "      <td>0.031538</td>\n",
       "      <td>0.273846</td>\n",
       "      <td>1.410769</td>\n",
       "    </tr>\n",
       "    <tr>\n",
       "      <th>progpasses_z</th>\n",
       "      <td>229.0</td>\n",
       "      <td>-0.021875</td>\n",
       "      <td>0.251983</td>\n",
       "      <td>-0.649231</td>\n",
       "      <td>-0.194615</td>\n",
       "      <td>-0.037692</td>\n",
       "      <td>0.103077</td>\n",
       "      <td>0.873846</td>\n",
       "    </tr>\n",
       "    <tr>\n",
       "      <th>takeons_z</th>\n",
       "      <td>229.0</td>\n",
       "      <td>0.112001</td>\n",
       "      <td>0.297631</td>\n",
       "      <td>-0.473077</td>\n",
       "      <td>-0.112308</td>\n",
       "      <td>0.090769</td>\n",
       "      <td>0.294615</td>\n",
       "      <td>1.100769</td>\n",
       "    </tr>\n",
       "    <tr>\n",
       "      <th>progruns_z</th>\n",
       "      <td>229.0</td>\n",
       "      <td>0.098423</td>\n",
       "      <td>0.353776</td>\n",
       "      <td>-0.568462</td>\n",
       "      <td>-0.147692</td>\n",
       "      <td>0.050769</td>\n",
       "      <td>0.286923</td>\n",
       "      <td>1.432308</td>\n",
       "    </tr>\n",
       "    <tr>\n",
       "      <th>tackles_z</th>\n",
       "      <td>229.0</td>\n",
       "      <td>0.070597</td>\n",
       "      <td>0.377750</td>\n",
       "      <td>-0.722308</td>\n",
       "      <td>-0.180000</td>\n",
       "      <td>0.025385</td>\n",
       "      <td>0.286154</td>\n",
       "      <td>1.146154</td>\n",
       "    </tr>\n",
       "    <tr>\n",
       "      <th>interceptions_z</th>\n",
       "      <td>229.0</td>\n",
       "      <td>0.060055</td>\n",
       "      <td>0.395326</td>\n",
       "      <td>-0.649231</td>\n",
       "      <td>-0.220769</td>\n",
       "      <td>-0.000769</td>\n",
       "      <td>0.280000</td>\n",
       "      <td>1.216154</td>\n",
       "    </tr>\n",
       "    <tr>\n",
       "      <th>clearances_z</th>\n",
       "      <td>229.0</td>\n",
       "      <td>-0.018420</td>\n",
       "      <td>0.248544</td>\n",
       "      <td>-0.614615</td>\n",
       "      <td>-0.189231</td>\n",
       "      <td>-0.050000</td>\n",
       "      <td>0.129231</td>\n",
       "      <td>0.754615</td>\n",
       "    </tr>\n",
       "    <tr>\n",
       "      <th>blocks_z</th>\n",
       "      <td>229.0</td>\n",
       "      <td>0.008444</td>\n",
       "      <td>0.287905</td>\n",
       "      <td>-0.520000</td>\n",
       "      <td>-0.207692</td>\n",
       "      <td>-0.016154</td>\n",
       "      <td>0.153846</td>\n",
       "      <td>0.997500</td>\n",
       "    </tr>\n",
       "    <tr>\n",
       "      <th>aerials_z</th>\n",
       "      <td>229.0</td>\n",
       "      <td>0.057714</td>\n",
       "      <td>0.259136</td>\n",
       "      <td>-0.473846</td>\n",
       "      <td>-0.127692</td>\n",
       "      <td>0.032308</td>\n",
       "      <td>0.263846</td>\n",
       "      <td>0.760769</td>\n",
       "    </tr>\n",
       "    <tr>\n",
       "      <th>fouls_z</th>\n",
       "      <td>229.0</td>\n",
       "      <td>0.074436</td>\n",
       "      <td>0.294712</td>\n",
       "      <td>-0.534615</td>\n",
       "      <td>-0.138462</td>\n",
       "      <td>0.040000</td>\n",
       "      <td>0.290000</td>\n",
       "      <td>1.035833</td>\n",
       "    </tr>\n",
       "    <tr>\n",
       "      <th>fouled_z</th>\n",
       "      <td>229.0</td>\n",
       "      <td>0.104135</td>\n",
       "      <td>0.261471</td>\n",
       "      <td>-0.578462</td>\n",
       "      <td>-0.063846</td>\n",
       "      <td>0.093077</td>\n",
       "      <td>0.296923</td>\n",
       "      <td>0.826923</td>\n",
       "    </tr>\n",
       "    <tr>\n",
       "      <th>nsxg_z</th>\n",
       "      <td>229.0</td>\n",
       "      <td>0.126741</td>\n",
       "      <td>0.306228</td>\n",
       "      <td>-0.699231</td>\n",
       "      <td>-0.073077</td>\n",
       "      <td>0.124615</td>\n",
       "      <td>0.301538</td>\n",
       "      <td>1.027692</td>\n",
       "    </tr>\n",
       "    <tr>\n",
       "      <th>results</th>\n",
       "      <td>229.0</td>\n",
       "      <td>14.213974</td>\n",
       "      <td>8.811504</td>\n",
       "      <td>1.000000</td>\n",
       "      <td>7.000000</td>\n",
       "      <td>13.000000</td>\n",
       "      <td>22.000000</td>\n",
       "      <td>32.000000</td>\n",
       "    </tr>\n",
       "  </tbody>\n",
       "</table>\n",
       "</div>"
      ],
      "text/plain": [
       "                 count       mean       std       min       25%        50%  \\\n",
       "goals_z          229.0   0.142726  0.281256 -0.410000 -0.066154   0.130000   \n",
       "xg_z             229.0   0.158801  0.263314 -0.466923 -0.028462   0.156923   \n",
       "crosses_z        229.0   0.082429  0.246950 -0.493846 -0.090769   0.040000   \n",
       "boxtouches_z     229.0   0.159492  0.287384 -0.634615 -0.038462   0.140769   \n",
       "passes_z         229.0   0.056839  0.360919 -0.781538 -0.186923   0.031538   \n",
       "progpasses_z     229.0  -0.021875  0.251983 -0.649231 -0.194615  -0.037692   \n",
       "takeons_z        229.0   0.112001  0.297631 -0.473077 -0.112308   0.090769   \n",
       "progruns_z       229.0   0.098423  0.353776 -0.568462 -0.147692   0.050769   \n",
       "tackles_z        229.0   0.070597  0.377750 -0.722308 -0.180000   0.025385   \n",
       "interceptions_z  229.0   0.060055  0.395326 -0.649231 -0.220769  -0.000769   \n",
       "clearances_z     229.0  -0.018420  0.248544 -0.614615 -0.189231  -0.050000   \n",
       "blocks_z         229.0   0.008444  0.287905 -0.520000 -0.207692  -0.016154   \n",
       "aerials_z        229.0   0.057714  0.259136 -0.473846 -0.127692   0.032308   \n",
       "fouls_z          229.0   0.074436  0.294712 -0.534615 -0.138462   0.040000   \n",
       "fouled_z         229.0   0.104135  0.261471 -0.578462 -0.063846   0.093077   \n",
       "nsxg_z           229.0   0.126741  0.306228 -0.699231 -0.073077   0.124615   \n",
       "results          229.0  14.213974  8.811504  1.000000  7.000000  13.000000   \n",
       "\n",
       "                       75%        max  \n",
       "goals_z           0.326154   0.881538  \n",
       "xg_z              0.321538   1.015385  \n",
       "crosses_z         0.259231   0.853846  \n",
       "boxtouches_z      0.310769   1.153077  \n",
       "passes_z          0.273846   1.410769  \n",
       "progpasses_z      0.103077   0.873846  \n",
       "takeons_z         0.294615   1.100769  \n",
       "progruns_z        0.286923   1.432308  \n",
       "tackles_z         0.286154   1.146154  \n",
       "interceptions_z   0.280000   1.216154  \n",
       "clearances_z      0.129231   0.754615  \n",
       "blocks_z          0.153846   0.997500  \n",
       "aerials_z         0.263846   0.760769  \n",
       "fouls_z           0.290000   1.035833  \n",
       "fouled_z          0.296923   0.826923  \n",
       "nsxg_z            0.301538   1.027692  \n",
       "results          22.000000  32.000000  "
      ]
     },
     "execution_count": 339,
     "metadata": {},
     "output_type": "execute_result"
    }
   ],
   "source": [
    "df.describe().T"
   ]
  },
  {
   "cell_type": "code",
   "execution_count": 340,
   "metadata": {},
   "outputs": [
    {
     "data": {
      "image/png": "[encoded data removed]",
      "text/plain": [
       "<Figure size 432x288 with 2 Axes>"
      ]
     },
     "metadata": {
      "needs_background": "light"
     },
     "output_type": "display_data"
    }
   ],
   "source": [
    "sns.heatmap(df.corr());"
   ]
  },
  {
   "cell_type": "code",
   "execution_count": 341,
   "metadata": {},
   "outputs": [
    {
     "name": "stderr",
     "output_type": "stream",
     "text": [
      "/var/folders/j_/555m2zps099832fjh_m8jjnc0000gn/T/ipykernel_60314/2528632801.py:4: DeprecationWarning: `np.bool` is a deprecated alias for the builtin `bool`. To silence this warning, use `bool` by itself. Doing this will not modify any behavior and is safe. If you specifically wanted the numpy scalar type, use `np.bool_` here.\n",
      "Deprecated in NumPy 1.20; for more details and guidance: https://numpy.org/devdocs/release/1.20.0-notes.html#deprecations\n",
      "  mask = np.triu(np.ones_like(df.corr(), dtype=np.bool))\n"
     ]
    },
    {
     "data": {
      "image/png": "[encoded data removed]",
      "text/plain": [
       "<Figure size 1152x432 with 2 Axes>"
      ]
     },
     "metadata": {
      "needs_background": "light"
     },
     "output_type": "display_data"
    }
   ],
   "source": [
    "plt.figure(figsize=(16, 6))\n",
    "\n",
    "# define the mask to set the values in the upper triangle to True\n",
    "mask = np.triu(np.ones_like(df.corr(), dtype=np.bool))\n",
    "\n",
    "heatmap = sns.heatmap(df.corr(), mask=mask, vmin=-1, vmax=1, annot=True, cmap='BrBG')\n",
    "heatmap.set_title('Triangle Correlation Heatmap', fontdict={'fontsize':18}, pad=16);"
   ]
  },
  {
   "cell_type": "code",
   "execution_count": 342,
   "metadata": {},
   "outputs": [
    {
     "data": {
      "text/plain": [
       "<seaborn.axisgrid.JointGrid at 0x7fc0d12ba2e0>"
      ]
     },
     "execution_count": 342,
     "metadata": {},
     "output_type": "execute_result"
    },
    {
     "data": {
      "image/png": "[encoded data removed]",
      "text/plain": [
       "<Figure size 432x432 with 3 Axes>"
      ]
     },
     "metadata": {
      "needs_background": "light"
     },
     "output_type": "display_data"
    }
   ],
   "source": [
    "sns.jointplot(x=df['results'],y=df['goals_z'],\n",
    "              joint_kws={'alpha':0.1,'s':5,'color':'red'},\n",
    "              marginal_kws={'color':'red'})"
   ]
  },
  {
   "cell_type": "code",
   "execution_count": 343,
   "metadata": {},
   "outputs": [],
   "source": [
    "y = df['results']\n"
   ]
  },
  {
   "cell_type": "code",
   "execution_count": 344,
   "metadata": {},
   "outputs": [],
   "source": [
    "X = df.drop(columns=['results'])"
   ]
  },
  {
   "cell_type": "code",
   "execution_count": 345,
   "metadata": {},
   "outputs": [
    {
     "data": {
      "text/html": [
       "<div>\n",
       "<style scoped>\n",
       "    .dataframe tbody tr th:only-of-type {\n",
       "        vertical-align: middle;\n",
       "    }\n",
       "\n",
       "    .dataframe tbody tr th {\n",
       "        vertical-align: top;\n",
       "    }\n",
       "\n",
       "    .dataframe thead th {\n",
       "        text-align: right;\n",
       "    }\n",
       "</style>\n",
       "<table border=\"1\" class=\"dataframe\">\n",
       "  <thead>\n",
       "    <tr style=\"text-align: right;\">\n",
       "      <th></th>\n",
       "      <th>goals_z</th>\n",
       "      <th>xg_z</th>\n",
       "      <th>crosses_z</th>\n",
       "      <th>boxtouches_z</th>\n",
       "      <th>passes_z</th>\n",
       "      <th>progpasses_z</th>\n",
       "      <th>takeons_z</th>\n",
       "      <th>progruns_z</th>\n",
       "      <th>tackles_z</th>\n",
       "      <th>interceptions_z</th>\n",
       "      <th>clearances_z</th>\n",
       "      <th>blocks_z</th>\n",
       "      <th>aerials_z</th>\n",
       "      <th>fouls_z</th>\n",
       "      <th>fouled_z</th>\n",
       "      <th>nsxg_z</th>\n",
       "    </tr>\n",
       "  </thead>\n",
       "  <tbody>\n",
       "    <tr>\n",
       "      <th>0</th>\n",
       "      <td>0.423077</td>\n",
       "      <td>0.146923</td>\n",
       "      <td>-0.136154</td>\n",
       "      <td>-0.030000</td>\n",
       "      <td>0.429231</td>\n",
       "      <td>0.037692</td>\n",
       "      <td>0.244615</td>\n",
       "      <td>-0.220000</td>\n",
       "      <td>0.216154</td>\n",
       "      <td>0.270000</td>\n",
       "      <td>-0.076923</td>\n",
       "      <td>-0.097692</td>\n",
       "      <td>-0.020000</td>\n",
       "      <td>-0.224615</td>\n",
       "      <td>0.100769</td>\n",
       "      <td>-0.124615</td>\n",
       "    </tr>\n",
       "    <tr>\n",
       "      <th>1</th>\n",
       "      <td>0.216923</td>\n",
       "      <td>0.348462</td>\n",
       "      <td>0.031538</td>\n",
       "      <td>0.158462</td>\n",
       "      <td>0.835385</td>\n",
       "      <td>0.626923</td>\n",
       "      <td>0.270000</td>\n",
       "      <td>0.266923</td>\n",
       "      <td>1.143846</td>\n",
       "      <td>0.834615</td>\n",
       "      <td>-0.059231</td>\n",
       "      <td>-0.134615</td>\n",
       "      <td>0.196923</td>\n",
       "      <td>-0.016923</td>\n",
       "      <td>0.033846</td>\n",
       "      <td>0.146923</td>\n",
       "    </tr>\n",
       "    <tr>\n",
       "      <th>2</th>\n",
       "      <td>0.113846</td>\n",
       "      <td>0.392308</td>\n",
       "      <td>0.599231</td>\n",
       "      <td>0.513846</td>\n",
       "      <td>0.833077</td>\n",
       "      <td>0.405385</td>\n",
       "      <td>0.521538</td>\n",
       "      <td>1.139231</td>\n",
       "      <td>1.109231</td>\n",
       "      <td>0.859231</td>\n",
       "      <td>0.084615</td>\n",
       "      <td>0.103077</td>\n",
       "      <td>0.683846</td>\n",
       "      <td>0.213846</td>\n",
       "      <td>0.353846</td>\n",
       "      <td>0.786923</td>\n",
       "    </tr>\n",
       "    <tr>\n",
       "      <th>3</th>\n",
       "      <td>0.479231</td>\n",
       "      <td>0.609231</td>\n",
       "      <td>0.227692</td>\n",
       "      <td>0.450769</td>\n",
       "      <td>0.770769</td>\n",
       "      <td>0.042308</td>\n",
       "      <td>0.337692</td>\n",
       "      <td>0.927692</td>\n",
       "      <td>0.506923</td>\n",
       "      <td>1.015385</td>\n",
       "      <td>0.020769</td>\n",
       "      <td>0.381538</td>\n",
       "      <td>0.038462</td>\n",
       "      <td>0.039231</td>\n",
       "      <td>0.022308</td>\n",
       "      <td>0.692308</td>\n",
       "    </tr>\n",
       "    <tr>\n",
       "      <th>4</th>\n",
       "      <td>0.877692</td>\n",
       "      <td>0.773846</td>\n",
       "      <td>0.428462</td>\n",
       "      <td>0.659231</td>\n",
       "      <td>0.754615</td>\n",
       "      <td>0.335385</td>\n",
       "      <td>0.023077</td>\n",
       "      <td>0.638462</td>\n",
       "      <td>0.493846</td>\n",
       "      <td>0.637692</td>\n",
       "      <td>-0.117692</td>\n",
       "      <td>-0.033846</td>\n",
       "      <td>0.572308</td>\n",
       "      <td>-0.016154</td>\n",
       "      <td>-0.096923</td>\n",
       "      <td>0.890769</td>\n",
       "    </tr>\n",
       "  </tbody>\n",
       "</table>\n",
       "</div>"
      ],
      "text/plain": [
       "    goals_z      xg_z  crosses_z  boxtouches_z  passes_z  progpasses_z  \\\n",
       "0  0.423077  0.146923  -0.136154     -0.030000  0.429231      0.037692   \n",
       "1  0.216923  0.348462   0.031538      0.158462  0.835385      0.626923   \n",
       "2  0.113846  0.392308   0.599231      0.513846  0.833077      0.405385   \n",
       "3  0.479231  0.609231   0.227692      0.450769  0.770769      0.042308   \n",
       "4  0.877692  0.773846   0.428462      0.659231  0.754615      0.335385   \n",
       "\n",
       "   takeons_z  progruns_z  tackles_z  interceptions_z  clearances_z  blocks_z  \\\n",
       "0   0.244615   -0.220000   0.216154         0.270000     -0.076923 -0.097692   \n",
       "1   0.270000    0.266923   1.143846         0.834615     -0.059231 -0.134615   \n",
       "2   0.521538    1.139231   1.109231         0.859231      0.084615  0.103077   \n",
       "3   0.337692    0.927692   0.506923         1.015385      0.020769  0.381538   \n",
       "4   0.023077    0.638462   0.493846         0.637692     -0.117692 -0.033846   \n",
       "\n",
       "   aerials_z   fouls_z  fouled_z    nsxg_z  \n",
       "0  -0.020000 -0.224615  0.100769 -0.124615  \n",
       "1   0.196923 -0.016923  0.033846  0.146923  \n",
       "2   0.683846  0.213846  0.353846  0.786923  \n",
       "3   0.038462  0.039231  0.022308  0.692308  \n",
       "4   0.572308 -0.016154 -0.096923  0.890769  "
      ]
     },
     "execution_count": 345,
     "metadata": {},
     "output_type": "execute_result"
    }
   ],
   "source": [
    "X.head()"
   ]
  },
  {
   "cell_type": "code",
   "execution_count": 346,
   "metadata": {},
   "outputs": [],
   "source": [
    "import matplotlib.pyplot as plt\n",
    "from scipy import stats\n"
   ]
  },
  {
   "cell_type": "code",
   "execution_count": 347,
   "metadata": {},
   "outputs": [
    {
     "data": {
      "image/png": "[encoded data removed]",
      "text/plain": [
       "<Figure size 1152x576 with 1 Axes>"
      ]
     },
     "metadata": {
      "needs_background": "light"
     },
     "output_type": "display_data"
    }
   ],
   "source": [
    "fig, ax = plt.subplots(figsize=(16,8))\n",
    "ax.scatter(df['results'], df['goals_z'])\n",
    "ax.set_xlabel('results')\n",
    "ax.set_ylabel('goals_z')\n",
    "plt.show()"
   ]
  },
  {
   "cell_type": "code",
   "execution_count": 348,
   "metadata": {},
   "outputs": [
    {
     "name": "stdout",
     "output_type": "stream",
     "text": [
      "      goals_z      xg_z  crosses_z  boxtouches_z  passes_z  progpasses_z  \\\n",
      "0    0.998966  0.045206   0.887068      0.660814  1.034046      0.236912   \n",
      "1    0.264384  0.721862   0.206528      0.003594  2.161842      2.580410   \n",
      "2    0.102907  0.888744   2.097319      1.235734  2.155434      1.699303   \n",
      "3    1.199057  1.714367   0.589517      1.015767  1.982420      0.255268   \n",
      "4    2.618884  2.340904   1.404292      1.742732  1.937564      1.420898   \n",
      "..        ...       ...        ...           ...       ...           ...   \n",
      "224  0.733332  0.847408   1.339721      1.433383  1.253587      0.631957   \n",
      "225  0.311222  0.197796   0.380360      0.414880  0.557258      0.221998   \n",
      "226  1.075955  1.807708   0.877703      2.299840  0.683281      0.083942   \n",
      "227  0.069774  0.203652   1.033790      1.350224  0.356476      0.029256   \n",
      "228  1.440505  0.194521   1.217973      0.532912  0.670465      0.013959   \n",
      "\n",
      "     takeons_z  progruns_z  tackles_z  interceptions_z  clearances_z  \\\n",
      "0     0.446542    0.902043   0.386171         0.532231      0.235897   \n",
      "1     0.532017    0.477333   2.847384         1.963587      0.164558   \n",
      "2     1.379005    2.948443   2.755548         2.025990      0.415466   \n",
      "3     0.759953    2.349188   1.157596         2.421856      0.158022   \n",
      "4     0.299429    1.529842   1.122902         1.464368      0.400289   \n",
      "..         ...         ...        ...              ...           ...   \n",
      "224   0.216544    0.812916   0.834232         0.616365      0.313440   \n",
      "225   1.128286    1.172253   0.033111         0.331373      0.561579   \n",
      "226   1.250024    0.243952   0.297500         0.583214      1.349086   \n",
      "227   0.092215    0.594789   0.768926         0.700218      0.418899   \n",
      "228   0.239327    0.056765   0.570968         0.366755      0.803514   \n",
      "\n",
      "     blocks_z  aerials_z   fouls_z  fouled_z    nsxg_z   results  \n",
      "0    0.369457   0.300554  1.016946  0.012902  0.822612  1.389176  \n",
      "1    0.497986   0.538381  0.310673  0.269410  0.066050  1.502912  \n",
      "2    0.329415   2.421522  0.474074  0.957113  2.160576  0.593020  \n",
      "3    1.298732   0.074458  0.119718  0.313636  1.850928  1.047966  \n",
      "4    0.147211   1.990154  0.308057  0.770634  2.500432  1.047966  \n",
      "..        ...        ...       ...       ...       ...       ...  \n",
      "224  0.926536   1.362610  0.407458  0.060808  1.245545  0.430610  \n",
      "225  0.227664   1.061971  1.332065  0.136734  0.023254  0.999293  \n",
      "226  0.299838   0.925293  0.601029  1.295445  1.633234  0.089400  \n",
      "227  0.551539   1.487557  0.674273  0.706502  1.076876  1.161703  \n",
      "228  0.875537   0.657548  1.627653  0.995442  0.078638  1.681712  \n",
      "\n",
      "[229 rows x 17 columns]\n"
     ]
    }
   ],
   "source": [
    "z = np.abs(stats.zscore(df))\n",
    "print(z)"
   ]
  },
  {
   "cell_type": "code",
   "execution_count": 349,
   "metadata": {
    "scrolled": true
   },
   "outputs": [
    {
     "data": {
      "text/plain": [
       "<AxesSubplot:>"
      ]
     },
     "execution_count": 349,
     "metadata": {},
     "output_type": "execute_result"
    },
    {
     "data": {
      "image/png": "[encoded data removed]",
      "text/plain": [
       "<Figure size 432x288 with 1 Axes>"
      ]
     },
     "metadata": {
      "needs_background": "light"
     },
     "output_type": "display_data"
    }
   ],
   "source": [
    "z.plot()"
   ]
  },
  {
   "cell_type": "code",
   "execution_count": 350,
   "metadata": {},
   "outputs": [
    {
     "data": {
      "text/plain": [
       "<AxesSubplot:>"
      ]
     },
     "execution_count": 350,
     "metadata": {},
     "output_type": "execute_result"
    },
    {
     "data": {
      "image/png": "[encoded data removed]",
      "text/plain": [
       "<Figure size 432x288 with 1 Axes>"
      ]
     },
     "metadata": {
      "needs_background": "light"
     },
     "output_type": "display_data"
    }
   ],
   "source": [
    "z.goals_z.plot()"
   ]
  },
  {
   "cell_type": "code",
   "execution_count": 351,
   "metadata": {},
   "outputs": [
    {
     "data": {
      "text/html": [
       "<div>\n",
       "<style scoped>\n",
       "    .dataframe tbody tr th:only-of-type {\n",
       "        vertical-align: middle;\n",
       "    }\n",
       "\n",
       "    .dataframe tbody tr th {\n",
       "        vertical-align: top;\n",
       "    }\n",
       "\n",
       "    .dataframe thead th {\n",
       "        text-align: right;\n",
       "    }\n",
       "</style>\n",
       "<table border=\"1\" class=\"dataframe\">\n",
       "  <thead>\n",
       "    <tr style=\"text-align: right;\">\n",
       "      <th></th>\n",
       "      <th>count</th>\n",
       "      <th>mean</th>\n",
       "      <th>std</th>\n",
       "      <th>min</th>\n",
       "      <th>25%</th>\n",
       "      <th>50%</th>\n",
       "      <th>75%</th>\n",
       "      <th>max</th>\n",
       "    </tr>\n",
       "  </thead>\n",
       "  <tbody>\n",
       "    <tr>\n",
       "      <th>goals_z</th>\n",
       "      <td>229.0</td>\n",
       "      <td>0.809157</td>\n",
       "      <td>0.588880</td>\n",
       "      <td>0.006973</td>\n",
       "      <td>0.327426</td>\n",
       "      <td>0.724868</td>\n",
       "      <td>1.199299</td>\n",
       "      <td>2.632589</td>\n",
       "    </tr>\n",
       "    <tr>\n",
       "      <th>xg_z</th>\n",
       "      <td>229.0</td>\n",
       "      <td>0.789999</td>\n",
       "      <td>0.614452</td>\n",
       "      <td>0.007146</td>\n",
       "      <td>0.299920</td>\n",
       "      <td>0.660380</td>\n",
       "      <td>1.140530</td>\n",
       "      <td>3.260216</td>\n",
       "    </tr>\n",
       "    <tr>\n",
       "      <th>crosses_z</th>\n",
       "      <td>229.0</td>\n",
       "      <td>0.811828</td>\n",
       "      <td>0.585175</td>\n",
       "      <td>0.006737</td>\n",
       "      <td>0.358508</td>\n",
       "      <td>0.709129</td>\n",
       "      <td>1.135822</td>\n",
       "      <td>3.130616</td>\n",
       "    </tr>\n",
       "    <tr>\n",
       "      <th>boxtouches_z</th>\n",
       "      <td>229.0</td>\n",
       "      <td>0.774371</td>\n",
       "      <td>0.634117</td>\n",
       "      <td>0.003594</td>\n",
       "      <td>0.282577</td>\n",
       "      <td>0.601798</td>\n",
       "      <td>1.101608</td>\n",
       "      <td>3.464916</td>\n",
       "    </tr>\n",
       "    <tr>\n",
       "      <th>passes_z</th>\n",
       "      <td>229.0</td>\n",
       "      <td>0.779615</td>\n",
       "      <td>0.627630</td>\n",
       "      <td>0.000232</td>\n",
       "      <td>0.311620</td>\n",
       "      <td>0.666193</td>\n",
       "      <td>1.091252</td>\n",
       "      <td>3.759554</td>\n",
       "    </tr>\n",
       "    <tr>\n",
       "      <th>progpasses_z</th>\n",
       "      <td>229.0</td>\n",
       "      <td>0.766912</td>\n",
       "      <td>0.643158</td>\n",
       "      <td>0.004398</td>\n",
       "      <td>0.267506</td>\n",
       "      <td>0.628515</td>\n",
       "      <td>1.145553</td>\n",
       "      <td>3.562476</td>\n",
       "    </tr>\n",
       "    <tr>\n",
       "      <th>takeons_z</th>\n",
       "      <td>229.0</td>\n",
       "      <td>0.796553</td>\n",
       "      <td>0.605893</td>\n",
       "      <td>0.004149</td>\n",
       "      <td>0.296311</td>\n",
       "      <td>0.702969</td>\n",
       "      <td>1.159368</td>\n",
       "      <td>3.329409</td>\n",
       "    </tr>\n",
       "    <tr>\n",
       "      <th>progruns_z</th>\n",
       "      <td>229.0</td>\n",
       "      <td>0.785300</td>\n",
       "      <td>0.620472</td>\n",
       "      <td>0.000108</td>\n",
       "      <td>0.318258</td>\n",
       "      <td>0.647088</td>\n",
       "      <td>1.159394</td>\n",
       "      <td>3.778683</td>\n",
       "    </tr>\n",
       "    <tr>\n",
       "      <th>tackles_z</th>\n",
       "      <td>229.0</td>\n",
       "      <td>0.789501</td>\n",
       "      <td>0.615094</td>\n",
       "      <td>0.000458</td>\n",
       "      <td>0.288212</td>\n",
       "      <td>0.646478</td>\n",
       "      <td>1.130149</td>\n",
       "      <td>2.853506</td>\n",
       "    </tr>\n",
       "    <tr>\n",
       "      <th>interceptions_z</th>\n",
       "      <td>229.0</td>\n",
       "      <td>0.789591</td>\n",
       "      <td>0.614978</td>\n",
       "      <td>0.003760</td>\n",
       "      <td>0.331373</td>\n",
       "      <td>0.662886</td>\n",
       "      <td>1.095803</td>\n",
       "      <td>2.930826</td>\n",
       "    </tr>\n",
       "    <tr>\n",
       "      <th>clearances_z</th>\n",
       "      <td>229.0</td>\n",
       "      <td>0.806136</td>\n",
       "      <td>0.593027</td>\n",
       "      <td>0.024980</td>\n",
       "      <td>0.347228</td>\n",
       "      <td>0.645325</td>\n",
       "      <td>1.147805</td>\n",
       "      <td>3.117071</td>\n",
       "    </tr>\n",
       "    <tr>\n",
       "      <th>blocks_z</th>\n",
       "      <td>229.0</td>\n",
       "      <td>0.766424</td>\n",
       "      <td>0.643742</td>\n",
       "      <td>0.005417</td>\n",
       "      <td>0.299961</td>\n",
       "      <td>0.583794</td>\n",
       "      <td>1.063097</td>\n",
       "      <td>3.442878</td>\n",
       "    </tr>\n",
       "    <tr>\n",
       "      <th>aerials_z</th>\n",
       "      <td>229.0</td>\n",
       "      <td>0.807498</td>\n",
       "      <td>0.591163</td>\n",
       "      <td>0.000084</td>\n",
       "      <td>0.285679</td>\n",
       "      <td>0.734896</td>\n",
       "      <td>1.160313</td>\n",
       "      <td>2.719016</td>\n",
       "    </tr>\n",
       "    <tr>\n",
       "      <th>fouls_z</th>\n",
       "      <td>229.0</td>\n",
       "      <td>0.814772</td>\n",
       "      <td>0.581052</td>\n",
       "      <td>0.011073</td>\n",
       "      <td>0.370837</td>\n",
       "      <td>0.733041</td>\n",
       "      <td>1.145121</td>\n",
       "      <td>3.269301</td>\n",
       "    </tr>\n",
       "    <tr>\n",
       "      <th>fouled_z</th>\n",
       "      <td>229.0</td>\n",
       "      <td>0.810072</td>\n",
       "      <td>0.587615</td>\n",
       "      <td>0.012902</td>\n",
       "      <td>0.313636</td>\n",
       "      <td>0.705770</td>\n",
       "      <td>1.209942</td>\n",
       "      <td>2.770364</td>\n",
       "    </tr>\n",
       "    <tr>\n",
       "      <th>nsxg_z</th>\n",
       "      <td>229.0</td>\n",
       "      <td>0.775135</td>\n",
       "      <td>0.633179</td>\n",
       "      <td>0.003114</td>\n",
       "      <td>0.262412</td>\n",
       "      <td>0.597234</td>\n",
       "      <td>1.141005</td>\n",
       "      <td>2.948540</td>\n",
       "    </tr>\n",
       "    <tr>\n",
       "      <th>results</th>\n",
       "      <td>229.0</td>\n",
       "      <td>0.855008</td>\n",
       "      <td>0.519751</td>\n",
       "      <td>0.024337</td>\n",
       "      <td>0.430610</td>\n",
       "      <td>0.885556</td>\n",
       "      <td>1.275439</td>\n",
       "      <td>2.022922</td>\n",
       "    </tr>\n",
       "  </tbody>\n",
       "</table>\n",
       "</div>"
      ],
      "text/plain": [
       "                 count      mean       std       min       25%       50%  \\\n",
       "goals_z          229.0  0.809157  0.588880  0.006973  0.327426  0.724868   \n",
       "xg_z             229.0  0.789999  0.614452  0.007146  0.299920  0.660380   \n",
       "crosses_z        229.0  0.811828  0.585175  0.006737  0.358508  0.709129   \n",
       "boxtouches_z     229.0  0.774371  0.634117  0.003594  0.282577  0.601798   \n",
       "passes_z         229.0  0.779615  0.627630  0.000232  0.311620  0.666193   \n",
       "progpasses_z     229.0  0.766912  0.643158  0.004398  0.267506  0.628515   \n",
       "takeons_z        229.0  0.796553  0.605893  0.004149  0.296311  0.702969   \n",
       "progruns_z       229.0  0.785300  0.620472  0.000108  0.318258  0.647088   \n",
       "tackles_z        229.0  0.789501  0.615094  0.000458  0.288212  0.646478   \n",
       "interceptions_z  229.0  0.789591  0.614978  0.003760  0.331373  0.662886   \n",
       "clearances_z     229.0  0.806136  0.593027  0.024980  0.347228  0.645325   \n",
       "blocks_z         229.0  0.766424  0.643742  0.005417  0.299961  0.583794   \n",
       "aerials_z        229.0  0.807498  0.591163  0.000084  0.285679  0.734896   \n",
       "fouls_z          229.0  0.814772  0.581052  0.011073  0.370837  0.733041   \n",
       "fouled_z         229.0  0.810072  0.587615  0.012902  0.313636  0.705770   \n",
       "nsxg_z           229.0  0.775135  0.633179  0.003114  0.262412  0.597234   \n",
       "results          229.0  0.855008  0.519751  0.024337  0.430610  0.885556   \n",
       "\n",
       "                      75%       max  \n",
       "goals_z          1.199299  2.632589  \n",
       "xg_z             1.140530  3.260216  \n",
       "crosses_z        1.135822  3.130616  \n",
       "boxtouches_z     1.101608  3.464916  \n",
       "passes_z         1.091252  3.759554  \n",
       "progpasses_z     1.145553  3.562476  \n",
       "takeons_z        1.159368  3.329409  \n",
       "progruns_z       1.159394  3.778683  \n",
       "tackles_z        1.130149  2.853506  \n",
       "interceptions_z  1.095803  2.930826  \n",
       "clearances_z     1.147805  3.117071  \n",
       "blocks_z         1.063097  3.442878  \n",
       "aerials_z        1.160313  2.719016  \n",
       "fouls_z          1.145121  3.269301  \n",
       "fouled_z         1.209942  2.770364  \n",
       "nsxg_z           1.141005  2.948540  \n",
       "results          1.275439  2.022922  "
      ]
     },
     "execution_count": 351,
     "metadata": {},
     "output_type": "execute_result"
    }
   ],
   "source": [
    "z.describe().T"
   ]
  },
  {
   "cell_type": "code",
   "execution_count": 352,
   "metadata": {},
   "outputs": [
    {
     "name": "stdout",
     "output_type": "stream",
     "text": [
      "(array([  1,   1,   2,   2,   2,   3,   3,   4,   4,   4,  10,  10,  12,\n",
      "        21,  21,  21,  21,  22,  22,  22,  23,  24,  24,  26,  33,  33,\n",
      "        35,  35,  35,  37,  37,  37,  37,  46,  49,  50,  53,  54,  64,\n",
      "        69,  71,  71,  71,  75,  75,  75,  80,  80,  80,  80,  86,  86,\n",
      "        87,  89,  91,  93, 111, 119, 121, 127, 128, 128, 129, 129, 135,\n",
      "       137, 139, 139, 143, 145, 146, 146, 146, 146, 153, 155, 156, 156,\n",
      "       156, 174, 175, 178, 182, 182, 182, 183, 183, 183, 185, 187, 187,\n",
      "       188, 188, 193, 193, 198, 206, 207, 207, 214, 214, 218, 220, 221,\n",
      "       221, 221, 222, 226]), array([ 5,  8,  7,  8, 12,  7,  9,  0,  1, 15,  5, 15,  0,  0,  1,  2,  9,\n",
      "        3,  4,  7,  8,  4,  7,  9,  0,  6,  6,  7,  9,  1,  3,  7, 15, 12,\n",
      "       11, 11,  3, 11,  5,  8,  5,  7, 11,  1,  3, 15,  3, 11, 13, 15,  5,\n",
      "       11, 10, 13,  2, 10, 13,  1,  2, 14,  2, 15,  4,  5, 15, 15, 11, 13,\n",
      "        0, 10,  4,  5,  9, 11,  8,  2,  6, 14, 15, 12, 13, 11,  4,  5,  9,\n",
      "        4,  5,  9,  0, 12, 14, 10, 11,  0,  1, 12, 14,  5,  9,  6,  7, 14,\n",
      "       10,  1,  3, 15,  3,  3]))\n"
     ]
    }
   ],
   "source": [
    "threshold = 2.2\n",
    "print(np.where(z > 2.2))"
   ]
  },
  {
   "cell_type": "code",
   "execution_count": 353,
   "metadata": {},
   "outputs": [
    {
     "name": "stdout",
     "output_type": "stream",
     "text": [
      "goals_z             0.392308\n",
      "xg_z                0.350000\n",
      "crosses_z           0.350000\n",
      "boxtouches_z        0.349231\n",
      "passes_z            0.460769\n",
      "progpasses_z        0.297692\n",
      "takeons_z           0.406923\n",
      "progruns_z          0.434615\n",
      "tackles_z           0.466154\n",
      "interceptions_z     0.500769\n",
      "clearances_z        0.318462\n",
      "blocks_z            0.361538\n",
      "aerials_z           0.391538\n",
      "fouls_z             0.428462\n",
      "fouled_z            0.360769\n",
      "nsxg_z              0.374615\n",
      "results            15.000000\n",
      "dtype: float64\n"
     ]
    }
   ],
   "source": [
    "Q1 = df.quantile(0.25)\n",
    "Q3 = df.quantile(0.75)\n",
    "IQR = Q3 - Q1\n",
    "print(IQR)"
   ]
  },
  {
   "cell_type": "code",
   "execution_count": 354,
   "metadata": {},
   "outputs": [],
   "source": [
    "# print(df < (Q1 - 1.5 * IQR)) |(df > (Q3 + 1.5 * IQR))"
   ]
  },
  {
   "cell_type": "code",
   "execution_count": 355,
   "metadata": {},
   "outputs": [
    {
     "data": {
      "text/plain": [
       "goals_z            0\n",
       "xg_z               0\n",
       "crosses_z          0\n",
       "boxtouches_z       0\n",
       "passes_z           0\n",
       "progpasses_z       0\n",
       "takeons_z          0\n",
       "progruns_z         0\n",
       "tackles_z          0\n",
       "interceptions_z    0\n",
       "clearances_z       0\n",
       "blocks_z           0\n",
       "aerials_z          0\n",
       "fouls_z            0\n",
       "fouled_z           0\n",
       "nsxg_z             0\n",
       "results            0\n",
       "dtype: int64"
      ]
     },
     "execution_count": 355,
     "metadata": {},
     "output_type": "execute_result"
    }
   ],
   "source": [
    "df.isnull().sum()"
   ]
  },
  {
   "cell_type": "code",
   "execution_count": 356,
   "metadata": {},
   "outputs": [],
   "source": [
    "df_z = df[(z < 2.7).all(axis=1)]"
   ]
  },
  {
   "cell_type": "code",
   "execution_count": 357,
   "metadata": {},
   "outputs": [
    {
     "data": {
      "text/plain": [
       "(200, 17)"
      ]
     },
     "execution_count": 357,
     "metadata": {},
     "output_type": "execute_result"
    }
   ],
   "source": [
    "df_z.shape"
   ]
  },
  {
   "cell_type": "code",
   "execution_count": 358,
   "metadata": {},
   "outputs": [
    {
     "data": {
      "text/plain": [
       "(229, 17)"
      ]
     },
     "execution_count": 358,
     "metadata": {},
     "output_type": "execute_result"
    }
   ],
   "source": [
    "df.shape"
   ]
  },
  {
   "cell_type": "code",
   "execution_count": null,
   "metadata": {},
   "outputs": [],
   "source": []
  },
  {
   "cell_type": "code",
   "execution_count": 359,
   "metadata": {},
   "outputs": [
    {
     "data": {
      "image/png": "[encoded data removed]",
      "text/plain": [
       "<Figure size 1152x576 with 1 Axes>"
      ]
     },
     "metadata": {
      "needs_background": "light"
     },
     "output_type": "display_data"
    }
   ],
   "source": [
    "fig, ax = plt.subplots(figsize=(16,8))\n",
    "ax.scatter(df_z['results'], df_z['goals_z'])\n",
    "ax.set_xlabel('results')\n",
    "ax.set_ylabel('goals_z')\n",
    "plt.show()"
   ]
  },
  {
   "cell_type": "code",
   "execution_count": 360,
   "metadata": {},
   "outputs": [
    {
     "data": {
      "image/png": "[encoded data removed]",
      "text/plain": [
       "<Figure size 1152x576 with 1 Axes>"
      ]
     },
     "metadata": {
      "needs_background": "light"
     },
     "output_type": "display_data"
    }
   ],
   "source": [
    "fig, ax = plt.subplots(figsize=(16,8))\n",
    "ax.scatter(df['results'], df['goals_z'])\n",
    "ax.set_xlabel('results')\n",
    "ax.set_ylabel('goals_z')\n",
    "plt.show()"
   ]
  },
  {
   "cell_type": "code",
   "execution_count": 361,
   "metadata": {},
   "outputs": [],
   "source": [
    "df_z.to_csv('./WC Data Models/wc-wo-outliers.csv', index=False)"
   ]
  },
  {
   "cell_type": "code",
   "execution_count": null,
   "metadata": {},
   "outputs": [],
   "source": []
  },
  {
   "cell_type": "code",
   "execution_count": 208,
   "metadata": {},
   "outputs": [],
   "source": [
    "from sklearn.metrics import mean_absolute_percentage_error\n",
    "from sklearn.linear_model import LinearRegression"
   ]
  },
  {
   "cell_type": "code",
   "execution_count": 209,
   "metadata": {},
   "outputs": [],
   "source": [
    "from sklearn.linear_model import LinearRegression"
   ]
  },
  {
   "cell_type": "code",
   "execution_count": 210,
   "metadata": {},
   "outputs": [],
   "source": [
    "y = df_z['results']"
   ]
  },
  {
   "cell_type": "code",
   "execution_count": 211,
   "metadata": {},
   "outputs": [],
   "source": [
    "X = df_z.drop(columns=['results'])"
   ]
  },
  {
   "cell_type": "code",
   "execution_count": 212,
   "metadata": {},
   "outputs": [],
   "source": [
    "X_train, X_test, y_train, y_test = train_test_split(\n",
    "     X, y, test_size=0.20, random_state=1)"
   ]
  },
  {
   "cell_type": "code",
   "execution_count": 213,
   "metadata": {},
   "outputs": [],
   "source": [
    "reg = LinearRegression().fit(X_train, y_train)"
   ]
  },
  {
   "cell_type": "code",
   "execution_count": 214,
   "metadata": {},
   "outputs": [],
   "source": [
    "predictions = reg.predict(X_test)"
   ]
  },
  {
   "cell_type": "code",
   "execution_count": 332,
   "metadata": {},
   "outputs": [
    {
     "name": "stdout",
     "output_type": "stream",
     "text": [
      "LINEAR REGRESSION\n",
      "r2 score: 0.45812714082277384\n",
      "RMSE : 6.746346591344607\n",
      "MSE: 45.513192330547\n",
      "MAE: 5.6049298574127615\n",
      "MAPE: 0.608694879466424\n"
     ]
    }
   ],
   "source": [
    "#Finding the r2 score and root mean squared error\n",
    "from sklearn.metrics import r2_score, mean_squared_error\n",
    "from sklearn.metrics import mean_absolute_error\n",
    "from sklearn.metrics import mean_squared_error\n",
    "import math\n",
    "\n",
    "print('LINEAR REGRESSION')\n",
    "print('r2 score: '+str(r2_score(y_test, predictions)))\n",
    "print('RMSE : '+str(np.sqrt(mean_squared_error(y_test, predictions))))\n",
    "print('MSE: '+str(mean_squared_error(y_test, predictions)))\n",
    "print('MAE: '+str(mean_absolute_error(y_test, predictions)))\n",
    "print('MAPE: '+str(mean_absolute_percentage_error(y_test, predictions)))"
   ]
  },
  {
   "cell_type": "markdown",
   "metadata": {},
   "source": [
    "# 46%"
   ]
  },
  {
   "cell_type": "code",
   "execution_count": 216,
   "metadata": {},
   "outputs": [],
   "source": [
    "import eli5\n",
    "from eli5.sklearn import PermutationImportance"
   ]
  },
  {
   "cell_type": "code",
   "execution_count": 217,
   "metadata": {},
   "outputs": [
    {
     "data": {
      "text/html": [
       "\n",
       "    <style>\n",
       "    table.eli5-weights tr:hover {\n",
       "        filter: brightness(85%);\n",
       "    }\n",
       "</style>\n",
       "\n",
       "\n",
       "\n",
       "    \n",
       "\n",
       "    \n",
       "\n",
       "    \n",
       "\n",
       "    \n",
       "\n",
       "    \n",
       "\n",
       "    \n",
       "\n",
       "\n",
       "    \n",
       "\n",
       "    \n",
       "\n",
       "    \n",
       "\n",
       "    \n",
       "\n",
       "    \n",
       "\n",
       "    \n",
       "\n",
       "\n",
       "    \n",
       "\n",
       "    \n",
       "\n",
       "    \n",
       "\n",
       "    \n",
       "\n",
       "    \n",
       "        <table class=\"eli5-weights eli5-feature-importances\" style=\"border-collapse: collapse; border: none; margin-top: 0em; table-layout: auto;\">\n",
       "    <thead>\n",
       "    <tr style=\"border: none;\">\n",
       "        <th style=\"padding: 0 1em 0 0.5em; text-align: right; border: none;\">Weight</th>\n",
       "        <th style=\"padding: 0 0.5em 0 0.5em; text-align: left; border: none;\">Feature</th>\n",
       "    </tr>\n",
       "    </thead>\n",
       "    <tbody>\n",
       "    \n",
       "        <tr style=\"background-color: hsl(120, 100.00%, 80.00%); border: none;\">\n",
       "            <td style=\"padding: 0 1em 0 0.5em; text-align: right; border: none;\">\n",
       "                0.9349\n",
       "                \n",
       "                    &plusmn; 0.1796\n",
       "                \n",
       "            </td>\n",
       "            <td style=\"padding: 0 0.5em 0 0.5em; text-align: left; border: none;\">\n",
       "                goals_z\n",
       "            </td>\n",
       "        </tr>\n",
       "    \n",
       "        <tr style=\"background-color: hsl(120, 100.00%, 95.19%); border: none;\">\n",
       "            <td style=\"padding: 0 1em 0 0.5em; text-align: right; border: none;\">\n",
       "                0.1222\n",
       "                \n",
       "                    &plusmn; 0.1041\n",
       "                \n",
       "            </td>\n",
       "            <td style=\"padding: 0 0.5em 0 0.5em; text-align: left; border: none;\">\n",
       "                passes_z\n",
       "            </td>\n",
       "        </tr>\n",
       "    \n",
       "        <tr style=\"background-color: hsl(120, 100.00%, 96.62%); border: none;\">\n",
       "            <td style=\"padding: 0 1em 0 0.5em; text-align: right; border: none;\">\n",
       "                0.0737\n",
       "                \n",
       "                    &plusmn; 0.1101\n",
       "                \n",
       "            </td>\n",
       "            <td style=\"padding: 0 0.5em 0 0.5em; text-align: left; border: none;\">\n",
       "                boxtouches_z\n",
       "            </td>\n",
       "        </tr>\n",
       "    \n",
       "        <tr style=\"background-color: hsl(120, 100.00%, 98.25%); border: none;\">\n",
       "            <td style=\"padding: 0 1em 0 0.5em; text-align: right; border: none;\">\n",
       "                0.0288\n",
       "                \n",
       "                    &plusmn; 0.0474\n",
       "                \n",
       "            </td>\n",
       "            <td style=\"padding: 0 0.5em 0 0.5em; text-align: left; border: none;\">\n",
       "                progruns_z\n",
       "            </td>\n",
       "        </tr>\n",
       "    \n",
       "        <tr style=\"background-color: hsl(120, 100.00%, 99.08%); border: none;\">\n",
       "            <td style=\"padding: 0 1em 0 0.5em; text-align: right; border: none;\">\n",
       "                0.0116\n",
       "                \n",
       "                    &plusmn; 0.0068\n",
       "                \n",
       "            </td>\n",
       "            <td style=\"padding: 0 0.5em 0 0.5em; text-align: left; border: none;\">\n",
       "                clearances_z\n",
       "            </td>\n",
       "        </tr>\n",
       "    \n",
       "        <tr style=\"background-color: hsl(120, 100.00%, 99.12%); border: none;\">\n",
       "            <td style=\"padding: 0 1em 0 0.5em; text-align: right; border: none;\">\n",
       "                0.0108\n",
       "                \n",
       "                    &plusmn; 0.0308\n",
       "                \n",
       "            </td>\n",
       "            <td style=\"padding: 0 0.5em 0 0.5em; text-align: left; border: none;\">\n",
       "                tackles_z\n",
       "            </td>\n",
       "        </tr>\n",
       "    \n",
       "        <tr style=\"background-color: hsl(120, 100.00%, 99.69%); border: none;\">\n",
       "            <td style=\"padding: 0 1em 0 0.5em; text-align: right; border: none;\">\n",
       "                0.0024\n",
       "                \n",
       "                    &plusmn; 0.0157\n",
       "                \n",
       "            </td>\n",
       "            <td style=\"padding: 0 0.5em 0 0.5em; text-align: left; border: none;\">\n",
       "                crosses_z\n",
       "            </td>\n",
       "        </tr>\n",
       "    \n",
       "        <tr style=\"background-color: hsl(120, 100.00%, 99.73%); border: none;\">\n",
       "            <td style=\"padding: 0 1em 0 0.5em; text-align: right; border: none;\">\n",
       "                0.0020\n",
       "                \n",
       "                    &plusmn; 0.0018\n",
       "                \n",
       "            </td>\n",
       "            <td style=\"padding: 0 0.5em 0 0.5em; text-align: left; border: none;\">\n",
       "                interceptions_z\n",
       "            </td>\n",
       "        </tr>\n",
       "    \n",
       "        <tr style=\"background-color: hsl(120, 100.00%, 99.75%); border: none;\">\n",
       "            <td style=\"padding: 0 1em 0 0.5em; text-align: right; border: none;\">\n",
       "                0.0018\n",
       "                \n",
       "                    &plusmn; 0.0253\n",
       "                \n",
       "            </td>\n",
       "            <td style=\"padding: 0 0.5em 0 0.5em; text-align: left; border: none;\">\n",
       "                fouled_z\n",
       "            </td>\n",
       "        </tr>\n",
       "    \n",
       "        <tr style=\"background-color: hsl(120, 100.00%, 99.81%); border: none;\">\n",
       "            <td style=\"padding: 0 1em 0 0.5em; text-align: right; border: none;\">\n",
       "                0.0012\n",
       "                \n",
       "                    &plusmn; 0.0043\n",
       "                \n",
       "            </td>\n",
       "            <td style=\"padding: 0 0.5em 0 0.5em; text-align: left; border: none;\">\n",
       "                takeons_z\n",
       "            </td>\n",
       "        </tr>\n",
       "    \n",
       "        <tr style=\"background-color: hsl(120, 100.00%, 99.82%); border: none;\">\n",
       "            <td style=\"padding: 0 1em 0 0.5em; text-align: right; border: none;\">\n",
       "                0.0011\n",
       "                \n",
       "                    &plusmn; 0.0185\n",
       "                \n",
       "            </td>\n",
       "            <td style=\"padding: 0 0.5em 0 0.5em; text-align: left; border: none;\">\n",
       "                progpasses_z\n",
       "            </td>\n",
       "        </tr>\n",
       "    \n",
       "        <tr style=\"background-color: hsl(120, 100.00%, 99.83%); border: none;\">\n",
       "            <td style=\"padding: 0 1em 0 0.5em; text-align: right; border: none;\">\n",
       "                0.0010\n",
       "                \n",
       "                    &plusmn; 0.0328\n",
       "                \n",
       "            </td>\n",
       "            <td style=\"padding: 0 0.5em 0 0.5em; text-align: left; border: none;\">\n",
       "                nsxg_z\n",
       "            </td>\n",
       "        </tr>\n",
       "    \n",
       "        <tr style=\"background-color: hsl(0, 100.00%, 99.73%); border: none;\">\n",
       "            <td style=\"padding: 0 1em 0 0.5em; text-align: right; border: none;\">\n",
       "                -0.0019\n",
       "                \n",
       "                    &plusmn; 0.0105\n",
       "                \n",
       "            </td>\n",
       "            <td style=\"padding: 0 0.5em 0 0.5em; text-align: left; border: none;\">\n",
       "                blocks_z\n",
       "            </td>\n",
       "        </tr>\n",
       "    \n",
       "        <tr style=\"background-color: hsl(0, 100.00%, 99.71%); border: none;\">\n",
       "            <td style=\"padding: 0 1em 0 0.5em; text-align: right; border: none;\">\n",
       "                -0.0022\n",
       "                \n",
       "                    &plusmn; 0.0245\n",
       "                \n",
       "            </td>\n",
       "            <td style=\"padding: 0 0.5em 0 0.5em; text-align: left; border: none;\">\n",
       "                fouls_z\n",
       "            </td>\n",
       "        </tr>\n",
       "    \n",
       "        <tr style=\"background-color: hsl(0, 100.00%, 98.98%); border: none;\">\n",
       "            <td style=\"padding: 0 1em 0 0.5em; text-align: right; border: none;\">\n",
       "                -0.0134\n",
       "                \n",
       "                    &plusmn; 0.0388\n",
       "                \n",
       "            </td>\n",
       "            <td style=\"padding: 0 0.5em 0 0.5em; text-align: left; border: none;\">\n",
       "                xg_z\n",
       "            </td>\n",
       "        </tr>\n",
       "    \n",
       "        <tr style=\"background-color: hsl(0, 100.00%, 98.61%); border: none;\">\n",
       "            <td style=\"padding: 0 1em 0 0.5em; text-align: right; border: none;\">\n",
       "                -0.0207\n",
       "                \n",
       "                    &plusmn; 0.0363\n",
       "                \n",
       "            </td>\n",
       "            <td style=\"padding: 0 0.5em 0 0.5em; text-align: left; border: none;\">\n",
       "                aerials_z\n",
       "            </td>\n",
       "        </tr>\n",
       "    \n",
       "    \n",
       "    </tbody>\n",
       "</table>\n",
       "    \n",
       "\n",
       "    \n",
       "\n",
       "\n",
       "    \n",
       "\n",
       "    \n",
       "\n",
       "    \n",
       "\n",
       "    \n",
       "\n",
       "    \n",
       "\n",
       "    \n",
       "\n",
       "\n",
       "\n"
      ],
      "text/plain": [
       "<IPython.core.display.HTML object>"
      ]
     },
     "execution_count": 217,
     "metadata": {},
     "output_type": "execute_result"
    }
   ],
   "source": [
    "perm = PermutationImportance(reg, random_state=1).fit(X_test, y_test)\n",
    "eli5.show_weights(perm, feature_names = X_test.columns.tolist())\n",
    "#Top 3 important features are goals_z & passes_z "
   ]
  },
  {
   "cell_type": "markdown",
   "metadata": {},
   "source": [
    "The previous table shows the feature importance of each of the columns. The weight column represents the importance of the feature measured as the MDA. The +/- sign represents the standard deviation of the importance calculated before. This value tries to measure the amount of randomness in our permutation importance calculation by repeating the process with multiple shuffles. Weight’s column then represents the mean of the error accumulated in the multiple shuffles instead of in a single trial."
   ]
  },
  {
   "cell_type": "code",
   "execution_count": 218,
   "metadata": {},
   "outputs": [],
   "source": [
    "importances = eli5.explain_weights_df(perm, feature_names=X_test.columns.tolist())"
   ]
  },
  {
   "cell_type": "code",
   "execution_count": 219,
   "metadata": {},
   "outputs": [
    {
     "data": {
      "text/html": [
       "<div>\n",
       "<style scoped>\n",
       "    .dataframe tbody tr th:only-of-type {\n",
       "        vertical-align: middle;\n",
       "    }\n",
       "\n",
       "    .dataframe tbody tr th {\n",
       "        vertical-align: top;\n",
       "    }\n",
       "\n",
       "    .dataframe thead th {\n",
       "        text-align: right;\n",
       "    }\n",
       "</style>\n",
       "<table border=\"1\" class=\"dataframe\">\n",
       "  <thead>\n",
       "    <tr style=\"text-align: right;\">\n",
       "      <th></th>\n",
       "      <th>feature</th>\n",
       "      <th>weight</th>\n",
       "      <th>std</th>\n",
       "    </tr>\n",
       "  </thead>\n",
       "  <tbody>\n",
       "    <tr>\n",
       "      <th>0</th>\n",
       "      <td>goals_z</td>\n",
       "      <td>0.934914</td>\n",
       "      <td>0.089776</td>\n",
       "    </tr>\n",
       "    <tr>\n",
       "      <th>1</th>\n",
       "      <td>passes_z</td>\n",
       "      <td>0.122191</td>\n",
       "      <td>0.052064</td>\n",
       "    </tr>\n",
       "    <tr>\n",
       "      <th>2</th>\n",
       "      <td>boxtouches_z</td>\n",
       "      <td>0.073670</td>\n",
       "      <td>0.055029</td>\n",
       "    </tr>\n",
       "    <tr>\n",
       "      <th>3</th>\n",
       "      <td>progruns_z</td>\n",
       "      <td>0.028777</td>\n",
       "      <td>0.023706</td>\n",
       "    </tr>\n",
       "    <tr>\n",
       "      <th>4</th>\n",
       "      <td>clearances_z</td>\n",
       "      <td>0.011562</td>\n",
       "      <td>0.003391</td>\n",
       "    </tr>\n",
       "    <tr>\n",
       "      <th>5</th>\n",
       "      <td>tackles_z</td>\n",
       "      <td>0.010752</td>\n",
       "      <td>0.015405</td>\n",
       "    </tr>\n",
       "    <tr>\n",
       "      <th>6</th>\n",
       "      <td>crosses_z</td>\n",
       "      <td>0.002439</td>\n",
       "      <td>0.007833</td>\n",
       "    </tr>\n",
       "    <tr>\n",
       "      <th>7</th>\n",
       "      <td>interceptions_z</td>\n",
       "      <td>0.001995</td>\n",
       "      <td>0.000885</td>\n",
       "    </tr>\n",
       "    <tr>\n",
       "      <th>8</th>\n",
       "      <td>fouled_z</td>\n",
       "      <td>0.001828</td>\n",
       "      <td>0.012629</td>\n",
       "    </tr>\n",
       "    <tr>\n",
       "      <th>9</th>\n",
       "      <td>takeons_z</td>\n",
       "      <td>0.001193</td>\n",
       "      <td>0.002133</td>\n",
       "    </tr>\n",
       "    <tr>\n",
       "      <th>10</th>\n",
       "      <td>progpasses_z</td>\n",
       "      <td>0.001104</td>\n",
       "      <td>0.009243</td>\n",
       "    </tr>\n",
       "    <tr>\n",
       "      <th>11</th>\n",
       "      <td>nsxg_z</td>\n",
       "      <td>0.001038</td>\n",
       "      <td>0.016385</td>\n",
       "    </tr>\n",
       "    <tr>\n",
       "      <th>12</th>\n",
       "      <td>blocks_z</td>\n",
       "      <td>-0.001949</td>\n",
       "      <td>0.005255</td>\n",
       "    </tr>\n",
       "    <tr>\n",
       "      <th>13</th>\n",
       "      <td>fouls_z</td>\n",
       "      <td>-0.002214</td>\n",
       "      <td>0.012237</td>\n",
       "    </tr>\n",
       "    <tr>\n",
       "      <th>14</th>\n",
       "      <td>xg_z</td>\n",
       "      <td>-0.013395</td>\n",
       "      <td>0.019387</td>\n",
       "    </tr>\n",
       "    <tr>\n",
       "      <th>15</th>\n",
       "      <td>aerials_z</td>\n",
       "      <td>-0.020705</td>\n",
       "      <td>0.018151</td>\n",
       "    </tr>\n",
       "  </tbody>\n",
       "</table>\n",
       "</div>"
      ],
      "text/plain": [
       "            feature    weight       std\n",
       "0           goals_z  0.934914  0.089776\n",
       "1          passes_z  0.122191  0.052064\n",
       "2      boxtouches_z  0.073670  0.055029\n",
       "3        progruns_z  0.028777  0.023706\n",
       "4      clearances_z  0.011562  0.003391\n",
       "5         tackles_z  0.010752  0.015405\n",
       "6         crosses_z  0.002439  0.007833\n",
       "7   interceptions_z  0.001995  0.000885\n",
       "8          fouled_z  0.001828  0.012629\n",
       "9         takeons_z  0.001193  0.002133\n",
       "10     progpasses_z  0.001104  0.009243\n",
       "11           nsxg_z  0.001038  0.016385\n",
       "12         blocks_z -0.001949  0.005255\n",
       "13          fouls_z -0.002214  0.012237\n",
       "14             xg_z -0.013395  0.019387\n",
       "15        aerials_z -0.020705  0.018151"
      ]
     },
     "execution_count": 219,
     "metadata": {},
     "output_type": "execute_result"
    }
   ],
   "source": [
    "importances"
   ]
  },
  {
   "cell_type": "code",
   "execution_count": 40,
   "metadata": {},
   "outputs": [
    {
     "data": {
      "text/plain": [
       "<AxesSubplot:xlabel='feature', ylabel='weight'>"
      ]
     },
     "execution_count": 40,
     "metadata": {},
     "output_type": "execute_result"
    },
    {
     "data": {
      "image/png": "[encoded data removed]",
      "text/plain": [
       "<Figure size 432x288 with 1 Axes>"
      ]
     },
     "metadata": {
      "needs_background": "light"
     },
     "output_type": "display_data"
    }
   ],
   "source": [
    "import seaborn as sns\n",
    "import matplotlib.pyplot as plt\n",
    "\n",
    "\n",
    "plt.errorbar(x=importances['feature'],\n",
    "    y=importances['weight'],\n",
    "    yerr=importances['std'],\n",
    "    ecolor='r', capsize=8, fmt='none',)\n",
    "sns.pointplot(x='feature', \n",
    "    y='weight', \n",
    "    data=importances, \n",
    "    dodge=True, join=False, ci='none')"
   ]
  },
  {
   "cell_type": "markdown",
   "metadata": {},
   "source": [
    "This graph is telling us the importance of each of the features in classifying something as present or past. "
   ]
  },
  {
   "cell_type": "markdown",
   "metadata": {},
   "source": [
    "## Ridge Regression\n"
   ]
  },
  {
   "cell_type": "code",
   "execution_count": 41,
   "metadata": {},
   "outputs": [],
   "source": [
    "from sklearn.linear_model import Ridge"
   ]
  },
  {
   "cell_type": "code",
   "execution_count": 42,
   "metadata": {},
   "outputs": [],
   "source": [
    "clf = Ridge(alpha=1.0)"
   ]
  },
  {
   "cell_type": "code",
   "execution_count": 43,
   "metadata": {},
   "outputs": [
    {
     "data": {
      "text/plain": [
       "Ridge()"
      ]
     },
     "execution_count": 43,
     "metadata": {},
     "output_type": "execute_result"
    }
   ],
   "source": [
    "clf.fit(X_train, y_train)"
   ]
  },
  {
   "cell_type": "code",
   "execution_count": 44,
   "metadata": {},
   "outputs": [],
   "source": [
    "from sklearn.metrics import mean_squared_error\n",
    "from sklearn.metrics import r2_score"
   ]
  },
  {
   "cell_type": "code",
   "execution_count": 45,
   "metadata": {},
   "outputs": [
    {
     "name": "stdout",
     "output_type": "stream",
     "text": [
      "RIDGE REGRESSION\n",
      "RMSE: 6.645452818212983\n",
      "R Squared: 0.5207879337372383\n",
      "MAPE: 0.9405473114946074\n"
     ]
    }
   ],
   "source": [
    "rr = Ridge(alpha=0.01)\n",
    "rr.fit(X_train, y_train) \n",
    "pred_train_rr= rr.predict(X_train)\n",
    "\n",
    "print('RIDGE REGRESSION')\n",
    "print('RMSE: '+str(np.sqrt(mean_squared_error(y_train,pred_train_rr))))\n",
    "print('R Squared: '+str(r2_score(y_train, pred_train_rr)))\n",
    "# print('MSE: '+str(mean_squared_error(y_test, pred_train_rr)))\n",
    "# print('MAE: '+str(mean_absolute_error(y_test, pred_train_rr)))\n",
    "print('MAPE: '+str(mean_absolute_percentage_error(y_train, pred_train_rr)))"
   ]
  },
  {
   "cell_type": "code",
   "execution_count": 46,
   "metadata": {
    "scrolled": true
   },
   "outputs": [
    {
     "name": "stdout",
     "output_type": "stream",
     "text": [
      "6.546574410596934\n",
      "0.4591748160801836\n"
     ]
    }
   ],
   "source": [
    "pred_test_rr= rr.predict(X_test)\n",
    "\n",
    "print(np.sqrt(mean_squared_error(y_test,pred_test_rr))) \n",
    "print(r2_score(y_test, pred_test_rr))"
   ]
  },
  {
   "cell_type": "markdown",
   "metadata": {},
   "source": [
    "## 46%-57%"
   ]
  },
  {
   "cell_type": "markdown",
   "metadata": {},
   "source": [
    "# Lasso"
   ]
  },
  {
   "cell_type": "code",
   "execution_count": 47,
   "metadata": {},
   "outputs": [],
   "source": [
    "from sklearn import linear_model\n"
   ]
  },
  {
   "cell_type": "code",
   "execution_count": 48,
   "metadata": {},
   "outputs": [],
   "source": [
    "clf = linear_model.Lasso(alpha=0.1)"
   ]
  },
  {
   "cell_type": "code",
   "execution_count": 49,
   "metadata": {},
   "outputs": [
    {
     "data": {
      "text/plain": [
       "Lasso(alpha=0.1)"
      ]
     },
     "execution_count": 49,
     "metadata": {},
     "output_type": "execute_result"
    }
   ],
   "source": [
    "clf.fit(X, y)"
   ]
  },
  {
   "cell_type": "code",
   "execution_count": 50,
   "metadata": {},
   "outputs": [
    {
     "name": "stdout",
     "output_type": "stream",
     "text": [
      "[-22.12892651   0.           0.          -0.           1.11803102\n",
      "   0.          -0.          -0.          -0.04202932  -0.\n",
      "  -0.           0.25686828  -0.           1.08267984  -0.\n",
      "   0.        ]\n"
     ]
    }
   ],
   "source": [
    "print(clf.coef_)"
   ]
  },
  {
   "cell_type": "code",
   "execution_count": 51,
   "metadata": {},
   "outputs": [
    {
     "name": "stdout",
     "output_type": "stream",
     "text": [
      "17.24337558499466\n"
     ]
    }
   ],
   "source": [
    "print(clf.intercept_)"
   ]
  },
  {
   "cell_type": "code",
   "execution_count": 52,
   "metadata": {},
   "outputs": [
    {
     "name": "stdout",
     "output_type": "stream",
     "text": [
      "LASSO REGRESSION\n",
      "RMSE: 6.654226955476154\n",
      "R Squared: 0.5195216699254779\n",
      "MSE: 42.88816264502233\n",
      "MAE: 5.441647295277558\n",
      "MAPE: 0.8581266877876318\n",
      "--------------------\n",
      "RMSE: 6.4986296685245195\n",
      "R Squared: 0.4670674244494648\n",
      "MSE: 42.232187568627104\n",
      "MAE: 5.34439587548745\n",
      "MAPE: 0.8234574915992052\n"
     ]
    }
   ],
   "source": [
    "model_lasso = linear_model.Lasso(alpha=0.01)\n",
    "model_lasso.fit(X_train, y_train) \n",
    "pred_train_lasso= model_lasso.predict(X_train)\n",
    "\n",
    "print('LASSO REGRESSION')\n",
    "\n",
    "print('RMSE: '+str(np.sqrt(mean_squared_error(y_train,pred_train_lasso))))\n",
    "print('R Squared: '+str(r2_score(y_train, pred_train_lasso)))\n",
    "print('MSE: '+str(mean_squared_error(y_test, predictions)))\n",
    "print('MAE: '+str(mean_absolute_error(y_test, predictions)))\n",
    "print('MAPE: '+str(mean_absolute_percentage_error(y_test, predictions)))\n",
    "\n",
    "print('--------------------')\n",
    "pred_test_lasso= model_lasso.predict(X_test)\n",
    "\n",
    "print('RMSE: '+str(np.sqrt(mean_squared_error(y_test,pred_test_lasso)))) \n",
    "print('R Squared: '+str(r2_score(y_test, pred_test_lasso)))\n",
    "print('MSE: '+str(mean_squared_error(y_test, pred_test_lasso)))\n",
    "print('MAE: '+str(mean_absolute_error(y_test, pred_test_lasso)))\n",
    "print('MAPE: '+str(mean_absolute_percentage_error(y_test, pred_test_lasso)))"
   ]
  },
  {
   "cell_type": "markdown",
   "metadata": {},
   "source": [
    "## 47%-57%"
   ]
  },
  {
   "cell_type": "markdown",
   "metadata": {},
   "source": [
    "## Elastic Net"
   ]
  },
  {
   "cell_type": "code",
   "execution_count": 53,
   "metadata": {},
   "outputs": [],
   "source": [
    "from sklearn import metrics\n",
    "from sklearn.model_selection import cross_val_score\n",
    "\n",
    "def cross_val(model):\n",
    "    pred = cross_val_score(model, X, y, cv=10)\n",
    "    return pred.mean()\n",
    "\n",
    "def print_evaluate(true, predicted):  \n",
    "    mae = metrics.mean_absolute_error(true, predicted)\n",
    "    mse = metrics.mean_squared_error(true, predicted)\n",
    "    rmse = np.sqrt(metrics.mean_squared_error(true, predicted))\n",
    "    r2_square = metrics.r2_score(true, predicted)\n",
    "    print('MAE:', mae)\n",
    "    print('MSE:', mse)\n",
    "    print('RMSE:', rmse)\n",
    "    print('R2 Square', r2_square)\n",
    "    print('__________________________________')\n",
    "    \n",
    "def evaluate(true, predicted):\n",
    "    mae = metrics.mean_absolute_error(true, predicted)\n",
    "    mse = metrics.mean_squared_error(true, predicted)\n",
    "    rmse = np.sqrt(metrics.mean_squared_error(true, predicted))\n",
    "    r2_square = metrics.r2_score(true, predicted)\n",
    "    return mae, mse, rmse, r2_square"
   ]
  },
  {
   "cell_type": "code",
   "execution_count": 54,
   "metadata": {},
   "outputs": [],
   "source": [
    "from sklearn.linear_model import ElasticNet\n",
    "from sklearn.datasets import make_regression"
   ]
  },
  {
   "cell_type": "code",
   "execution_count": 55,
   "metadata": {},
   "outputs": [],
   "source": [
    "model = ElasticNet(alpha=0.1, l1_ratio=0.9, selection='random', random_state=42)"
   ]
  },
  {
   "cell_type": "code",
   "execution_count": 56,
   "metadata": {},
   "outputs": [
    {
     "data": {
      "text/plain": [
       "ElasticNet(alpha=0.1, l1_ratio=0.9, random_state=42, selection='random')"
      ]
     },
     "execution_count": 56,
     "metadata": {},
     "output_type": "execute_result"
    }
   ],
   "source": [
    "model.fit(X_train, y_train)"
   ]
  },
  {
   "cell_type": "code",
   "execution_count": 57,
   "metadata": {},
   "outputs": [],
   "source": [
    "test_pred = model.predict(X_test)\n",
    "train_pred = model.predict(X_train)"
   ]
  },
  {
   "cell_type": "code",
   "execution_count": 58,
   "metadata": {},
   "outputs": [],
   "source": [
    "results_df = pd.DataFrame(data=[[\"Linear Regression\", *evaluate(y_test, test_pred) , cross_val(LinearRegression())]], \n",
    "                          columns=['Model', 'MAE', 'MSE', 'RMSE', 'R2 Square', \"Cross Validation\"])"
   ]
  },
  {
   "cell_type": "code",
   "execution_count": 59,
   "metadata": {},
   "outputs": [
    {
     "name": "stdout",
     "output_type": "stream",
     "text": [
      "ELASTIC NET\n",
      "Test set evaluation:\n",
      "_____________________________________\n",
      "MAE: 5.176351828568661\n",
      "MSE: 40.10564374896148\n",
      "RMSE: 6.332901684769903\n",
      "R2 Square 0.4939025125678309\n",
      "__________________________________\n",
      "====================================\n",
      "Train set evaluation:\n",
      "_____________________________________\n",
      "MAE: 5.825735023910361\n",
      "MSE: 47.612001656327244\n",
      "RMSE: 6.900145046035427\n",
      "R2 Square 0.48335167350752983\n",
      "__________________________________\n"
     ]
    }
   ],
   "source": [
    "print('ELASTIC NET')\n",
    "print('Test set evaluation:\\n_____________________________________')\n",
    "print_evaluate(y_test, test_pred)\n",
    "print('====================================')\n",
    "print('Train set evaluation:\\n_____________________________________')\n",
    "print_evaluate(y_train, train_pred)\n",
    "\n",
    "results_df_2 = pd.DataFrame(data=[[\"Elastic Net Regression\", *evaluate(y_test, test_pred) , cross_val(ElasticNet())]], \n",
    "                            columns=['Model', 'MAE', 'MSE', 'RMSE', 'R2 Square', \"Cross Validation\"])\n",
    "results_df = results_df.append(results_df_2, ignore_index=True)"
   ]
  },
  {
   "cell_type": "code",
   "execution_count": 60,
   "metadata": {},
   "outputs": [
    {
     "name": "stdout",
     "output_type": "stream",
     "text": [
      "MAPE: 0.6772758405894522\n",
      "MAPE: 1.1048890675934306\n"
     ]
    }
   ],
   "source": [
    "print('MAPE: '+str(mean_absolute_percentage_error(y_test, test_pred)))\n",
    "print('MAPE: '+str(mean_absolute_percentage_error(y_train, train_pred)))\n"
   ]
  },
  {
   "cell_type": "code",
   "execution_count": 61,
   "metadata": {},
   "outputs": [],
   "source": [
    "regr = ElasticNet(random_state=0)"
   ]
  },
  {
   "cell_type": "code",
   "execution_count": 62,
   "metadata": {},
   "outputs": [
    {
     "data": {
      "text/plain": [
       "ElasticNet(random_state=0)"
      ]
     },
     "execution_count": 62,
     "metadata": {},
     "output_type": "execute_result"
    }
   ],
   "source": [
    "regr.fit(X, y)"
   ]
  },
  {
   "cell_type": "code",
   "execution_count": 63,
   "metadata": {},
   "outputs": [
    {
     "name": "stdout",
     "output_type": "stream",
     "text": [
      "[-2.34194886 -0.27265099  0.         -0.         -0.         -0.\n",
      " -0.         -0.         -0.2697666  -0.          0.         -0.\n",
      " -0.          0.         -0.         -0.        ]\n"
     ]
    }
   ],
   "source": [
    "print(regr.coef_)"
   ]
  },
  {
   "cell_type": "code",
   "execution_count": 64,
   "metadata": {},
   "outputs": [
    {
     "name": "stdout",
     "output_type": "stream",
     "text": [
      "14.173917970362385\n"
     ]
    }
   ],
   "source": [
    "print(regr.intercept_)"
   ]
  },
  {
   "cell_type": "markdown",
   "metadata": {},
   "source": [
    "# Poisson\n",
    "\n",
    "https://www.kaggle.com/code/gauravduttakiit/explore-the-poisson-regression/notebook"
   ]
  },
  {
   "cell_type": "code",
   "execution_count": 65,
   "metadata": {},
   "outputs": [],
   "source": [
    "from sklearn import linear_model\n",
    "from sklearn.pipeline import Pipeline\n",
    "from sklearn import metrics\n",
    "from sklearn.linear_model import PoissonRegressor"
   ]
  },
  {
   "cell_type": "code",
   "execution_count": 66,
   "metadata": {},
   "outputs": [
    {
     "data": {
      "text/plain": [
       "PoissonRegressor()"
      ]
     },
     "execution_count": 66,
     "metadata": {},
     "output_type": "execute_result"
    }
   ],
   "source": [
    "clf = linear_model.PoissonRegressor()\n",
    "clf.fit(X_train, y_train)"
   ]
  },
  {
   "cell_type": "code",
   "execution_count": 67,
   "metadata": {},
   "outputs": [
    {
     "data": {
      "text/plain": [
       "0.37344864683918855"
      ]
     },
     "execution_count": 67,
     "metadata": {},
     "output_type": "execute_result"
    }
   ],
   "source": [
    "clf.score(X_train, y_train)"
   ]
  },
  {
   "cell_type": "code",
   "execution_count": 68,
   "metadata": {},
   "outputs": [
    {
     "data": {
      "text/plain": [
       "2.7614764844589703"
      ]
     },
     "execution_count": 68,
     "metadata": {},
     "output_type": "execute_result"
    }
   ],
   "source": [
    "clf.intercept_\n"
   ]
  },
  {
   "cell_type": "code",
   "execution_count": 69,
   "metadata": {},
   "outputs": [
    {
     "name": "stdout",
     "output_type": "stream",
     "text": [
      "POISSON\n",
      "R Squared test: 0.3829207110459202\n"
     ]
    }
   ],
   "source": [
    "# Doing a polynomial regression: Comparing linear, quadratic and cubic fits\n",
    "# Pipeline helps you associate two models or objects to be built sequentially with each other, \n",
    "# in this case, PoissonRegressor() is the only object\n",
    "\n",
    "pipeline = Pipeline([('model', PoissonRegressor())])\n",
    "pipeline.fit(X_train, y_train)\n",
    "y_pred = pipeline.predict(X_test)\n",
    "r2_test = metrics.r2_score(y_test, y_pred)\n",
    "\n",
    "\n",
    "print('POISSON')\n",
    "print('R Squared test: '+str(r2_test))\n"
   ]
  },
  {
   "cell_type": "code",
   "execution_count": 70,
   "metadata": {},
   "outputs": [
    {
     "name": "stdout",
     "output_type": "stream",
     "text": [
      "POISSON\n",
      "R Squared trian: 0.4061594064996301\n"
     ]
    }
   ],
   "source": [
    "# training performance\n",
    "y_pred_train = pipeline.predict(X_train)\n",
    "r2_train = metrics.r2_score(y_train, y_pred_train)\n",
    "\n",
    "print('POISSON')\n",
    "print('R Squared trian: '+str(r2_train))"
   ]
  },
  {
   "cell_type": "code",
   "execution_count": 71,
   "metadata": {},
   "outputs": [
    {
     "data": {
      "text/html": [
       "<div>\n",
       "<style scoped>\n",
       "    .dataframe tbody tr th:only-of-type {\n",
       "        vertical-align: middle;\n",
       "    }\n",
       "\n",
       "    .dataframe tbody tr th {\n",
       "        vertical-align: top;\n",
       "    }\n",
       "\n",
       "    .dataframe thead th {\n",
       "        text-align: right;\n",
       "    }\n",
       "</style>\n",
       "<table border=\"1\" class=\"dataframe\">\n",
       "  <thead>\n",
       "    <tr style=\"text-align: right;\">\n",
       "      <th></th>\n",
       "      <th>index</th>\n",
       "      <th>y_pred</th>\n",
       "      <th>y</th>\n",
       "    </tr>\n",
       "  </thead>\n",
       "  <tbody>\n",
       "    <tr>\n",
       "      <th>0</th>\n",
       "      <td>73</td>\n",
       "      <td>11.0</td>\n",
       "      <td>2</td>\n",
       "    </tr>\n",
       "    <tr>\n",
       "      <th>1</th>\n",
       "      <td>65</td>\n",
       "      <td>13.0</td>\n",
       "      <td>12</td>\n",
       "    </tr>\n",
       "    <tr>\n",
       "      <th>2</th>\n",
       "      <td>48</td>\n",
       "      <td>14.0</td>\n",
       "      <td>6</td>\n",
       "    </tr>\n",
       "    <tr>\n",
       "      <th>3</th>\n",
       "      <td>118</td>\n",
       "      <td>11.0</td>\n",
       "      <td>8</td>\n",
       "    </tr>\n",
       "    <tr>\n",
       "      <th>4</th>\n",
       "      <td>6</td>\n",
       "      <td>11.0</td>\n",
       "      <td>5</td>\n",
       "    </tr>\n",
       "  </tbody>\n",
       "</table>\n",
       "</div>"
      ],
      "text/plain": [
       "   index  y_pred   y\n",
       "0     73    11.0   2\n",
       "1     65    13.0  12\n",
       "2     48    14.0   6\n",
       "3    118    11.0   8\n",
       "4      6    11.0   5"
      ]
     },
     "execution_count": 71,
     "metadata": {},
     "output_type": "execute_result"
    }
   ],
   "source": [
    "eval = pd.DataFrame({'y_pred': [round(y, 0) for y in y_pred], 'y': y_test}).reset_index()\n",
    "eval.head()"
   ]
  },
  {
   "cell_type": "code",
   "execution_count": 72,
   "metadata": {},
   "outputs": [
    {
     "name": "stdout",
     "output_type": "stream",
     "text": [
      "     Frequency table\n"
     ]
    },
    {
     "data": {
      "text/html": [
       "<div>\n",
       "<style scoped>\n",
       "    .dataframe tbody tr th:only-of-type {\n",
       "        vertical-align: middle;\n",
       "    }\n",
       "\n",
       "    .dataframe tbody tr th {\n",
       "        vertical-align: top;\n",
       "    }\n",
       "\n",
       "    .dataframe thead th {\n",
       "        text-align: right;\n",
       "    }\n",
       "</style>\n",
       "<table border=\"1\" class=\"dataframe\">\n",
       "  <thead>\n",
       "    <tr style=\"text-align: right;\">\n",
       "      <th>y_pred</th>\n",
       "      <th>6.0</th>\n",
       "      <th>9.0</th>\n",
       "      <th>10.0</th>\n",
       "      <th>11.0</th>\n",
       "      <th>12.0</th>\n",
       "      <th>13.0</th>\n",
       "      <th>14.0</th>\n",
       "      <th>15.0</th>\n",
       "      <th>16.0</th>\n",
       "      <th>17.0</th>\n",
       "      <th>20.0</th>\n",
       "      <th>21.0</th>\n",
       "    </tr>\n",
       "    <tr>\n",
       "      <th>y</th>\n",
       "      <th></th>\n",
       "      <th></th>\n",
       "      <th></th>\n",
       "      <th></th>\n",
       "      <th></th>\n",
       "      <th></th>\n",
       "      <th></th>\n",
       "      <th></th>\n",
       "      <th></th>\n",
       "      <th></th>\n",
       "      <th></th>\n",
       "      <th></th>\n",
       "    </tr>\n",
       "  </thead>\n",
       "  <tbody>\n",
       "    <tr>\n",
       "      <th>1</th>\n",
       "      <td>1.0</td>\n",
       "      <td>0.0</td>\n",
       "      <td>0.0</td>\n",
       "      <td>0.0</td>\n",
       "      <td>0.0</td>\n",
       "      <td>0.0</td>\n",
       "      <td>0.0</td>\n",
       "      <td>0.0</td>\n",
       "      <td>0.0</td>\n",
       "      <td>0.0</td>\n",
       "      <td>0.0</td>\n",
       "      <td>0.0</td>\n",
       "    </tr>\n",
       "    <tr>\n",
       "      <th>2</th>\n",
       "      <td>0.0</td>\n",
       "      <td>0.0</td>\n",
       "      <td>0.0</td>\n",
       "      <td>1.0</td>\n",
       "      <td>0.0</td>\n",
       "      <td>0.0</td>\n",
       "      <td>0.0</td>\n",
       "      <td>0.0</td>\n",
       "      <td>0.0</td>\n",
       "      <td>0.0</td>\n",
       "      <td>0.0</td>\n",
       "      <td>0.0</td>\n",
       "    </tr>\n",
       "    <tr>\n",
       "      <th>3</th>\n",
       "      <td>0.0</td>\n",
       "      <td>0.0</td>\n",
       "      <td>1.0</td>\n",
       "      <td>0.0</td>\n",
       "      <td>0.0</td>\n",
       "      <td>0.0</td>\n",
       "      <td>0.0</td>\n",
       "      <td>0.0</td>\n",
       "      <td>0.0</td>\n",
       "      <td>0.0</td>\n",
       "      <td>0.0</td>\n",
       "      <td>0.0</td>\n",
       "    </tr>\n",
       "    <tr>\n",
       "      <th>4</th>\n",
       "      <td>0.0</td>\n",
       "      <td>0.0</td>\n",
       "      <td>1.0</td>\n",
       "      <td>0.0</td>\n",
       "      <td>0.0</td>\n",
       "      <td>0.0</td>\n",
       "      <td>0.0</td>\n",
       "      <td>0.0</td>\n",
       "      <td>0.0</td>\n",
       "      <td>0.0</td>\n",
       "      <td>0.0</td>\n",
       "      <td>0.0</td>\n",
       "    </tr>\n",
       "    <tr>\n",
       "      <th>5</th>\n",
       "      <td>0.0</td>\n",
       "      <td>0.0</td>\n",
       "      <td>0.0</td>\n",
       "      <td>1.0</td>\n",
       "      <td>0.0</td>\n",
       "      <td>1.0</td>\n",
       "      <td>0.0</td>\n",
       "      <td>0.0</td>\n",
       "      <td>0.0</td>\n",
       "      <td>0.0</td>\n",
       "      <td>0.0</td>\n",
       "      <td>0.0</td>\n",
       "    </tr>\n",
       "    <tr>\n",
       "      <th>6</th>\n",
       "      <td>0.0</td>\n",
       "      <td>1.0</td>\n",
       "      <td>0.0</td>\n",
       "      <td>0.0</td>\n",
       "      <td>0.0</td>\n",
       "      <td>0.0</td>\n",
       "      <td>1.0</td>\n",
       "      <td>0.0</td>\n",
       "      <td>0.0</td>\n",
       "      <td>0.0</td>\n",
       "      <td>0.0</td>\n",
       "      <td>0.0</td>\n",
       "    </tr>\n",
       "    <tr>\n",
       "      <th>8</th>\n",
       "      <td>0.0</td>\n",
       "      <td>0.0</td>\n",
       "      <td>0.0</td>\n",
       "      <td>1.0</td>\n",
       "      <td>1.0</td>\n",
       "      <td>0.0</td>\n",
       "      <td>1.0</td>\n",
       "      <td>0.0</td>\n",
       "      <td>0.0</td>\n",
       "      <td>0.0</td>\n",
       "      <td>0.0</td>\n",
       "      <td>0.0</td>\n",
       "    </tr>\n",
       "    <tr>\n",
       "      <th>9</th>\n",
       "      <td>0.0</td>\n",
       "      <td>0.0</td>\n",
       "      <td>0.0</td>\n",
       "      <td>0.0</td>\n",
       "      <td>0.0</td>\n",
       "      <td>0.0</td>\n",
       "      <td>0.0</td>\n",
       "      <td>1.0</td>\n",
       "      <td>0.0</td>\n",
       "      <td>0.0</td>\n",
       "      <td>0.0</td>\n",
       "      <td>0.0</td>\n",
       "    </tr>\n",
       "    <tr>\n",
       "      <th>10</th>\n",
       "      <td>0.0</td>\n",
       "      <td>1.0</td>\n",
       "      <td>0.0</td>\n",
       "      <td>0.0</td>\n",
       "      <td>0.0</td>\n",
       "      <td>0.0</td>\n",
       "      <td>0.0</td>\n",
       "      <td>0.0</td>\n",
       "      <td>0.0</td>\n",
       "      <td>0.0</td>\n",
       "      <td>0.0</td>\n",
       "      <td>0.0</td>\n",
       "    </tr>\n",
       "    <tr>\n",
       "      <th>11</th>\n",
       "      <td>0.0</td>\n",
       "      <td>0.0</td>\n",
       "      <td>0.0</td>\n",
       "      <td>0.0</td>\n",
       "      <td>0.0</td>\n",
       "      <td>0.0</td>\n",
       "      <td>0.0</td>\n",
       "      <td>0.0</td>\n",
       "      <td>1.0</td>\n",
       "      <td>0.0</td>\n",
       "      <td>0.0</td>\n",
       "      <td>0.0</td>\n",
       "    </tr>\n",
       "    <tr>\n",
       "      <th>12</th>\n",
       "      <td>0.0</td>\n",
       "      <td>0.0</td>\n",
       "      <td>0.0</td>\n",
       "      <td>0.0</td>\n",
       "      <td>0.0</td>\n",
       "      <td>1.0</td>\n",
       "      <td>0.0</td>\n",
       "      <td>0.0</td>\n",
       "      <td>0.0</td>\n",
       "      <td>1.0</td>\n",
       "      <td>0.0</td>\n",
       "      <td>0.0</td>\n",
       "    </tr>\n",
       "    <tr>\n",
       "      <th>14</th>\n",
       "      <td>0.0</td>\n",
       "      <td>0.0</td>\n",
       "      <td>0.0</td>\n",
       "      <td>0.0</td>\n",
       "      <td>1.0</td>\n",
       "      <td>0.0</td>\n",
       "      <td>1.0</td>\n",
       "      <td>0.0</td>\n",
       "      <td>0.0</td>\n",
       "      <td>0.0</td>\n",
       "      <td>0.0</td>\n",
       "      <td>0.0</td>\n",
       "    </tr>\n",
       "    <tr>\n",
       "      <th>17</th>\n",
       "      <td>0.0</td>\n",
       "      <td>0.0</td>\n",
       "      <td>0.0</td>\n",
       "      <td>0.0</td>\n",
       "      <td>0.0</td>\n",
       "      <td>0.0</td>\n",
       "      <td>0.0</td>\n",
       "      <td>1.0</td>\n",
       "      <td>1.0</td>\n",
       "      <td>0.0</td>\n",
       "      <td>0.0</td>\n",
       "      <td>0.0</td>\n",
       "    </tr>\n",
       "    <tr>\n",
       "      <th>18</th>\n",
       "      <td>0.0</td>\n",
       "      <td>0.0</td>\n",
       "      <td>0.0</td>\n",
       "      <td>0.0</td>\n",
       "      <td>0.0</td>\n",
       "      <td>0.0</td>\n",
       "      <td>1.0</td>\n",
       "      <td>0.0</td>\n",
       "      <td>0.0</td>\n",
       "      <td>0.0</td>\n",
       "      <td>0.0</td>\n",
       "      <td>0.0</td>\n",
       "    </tr>\n",
       "    <tr>\n",
       "      <th>21</th>\n",
       "      <td>0.0</td>\n",
       "      <td>0.0</td>\n",
       "      <td>1.0</td>\n",
       "      <td>0.0</td>\n",
       "      <td>0.0</td>\n",
       "      <td>0.0</td>\n",
       "      <td>0.0</td>\n",
       "      <td>0.0</td>\n",
       "      <td>0.0</td>\n",
       "      <td>0.0</td>\n",
       "      <td>0.0</td>\n",
       "      <td>0.0</td>\n",
       "    </tr>\n",
       "    <tr>\n",
       "      <th>23</th>\n",
       "      <td>0.0</td>\n",
       "      <td>0.0</td>\n",
       "      <td>0.0</td>\n",
       "      <td>0.0</td>\n",
       "      <td>0.0</td>\n",
       "      <td>0.0</td>\n",
       "      <td>0.0</td>\n",
       "      <td>0.0</td>\n",
       "      <td>1.0</td>\n",
       "      <td>0.0</td>\n",
       "      <td>0.0</td>\n",
       "      <td>0.0</td>\n",
       "    </tr>\n",
       "    <tr>\n",
       "      <th>25</th>\n",
       "      <td>0.0</td>\n",
       "      <td>0.0</td>\n",
       "      <td>0.0</td>\n",
       "      <td>0.0</td>\n",
       "      <td>0.0</td>\n",
       "      <td>0.0</td>\n",
       "      <td>1.0</td>\n",
       "      <td>0.0</td>\n",
       "      <td>0.0</td>\n",
       "      <td>0.0</td>\n",
       "      <td>0.0</td>\n",
       "      <td>0.0</td>\n",
       "    </tr>\n",
       "    <tr>\n",
       "      <th>26</th>\n",
       "      <td>0.0</td>\n",
       "      <td>0.0</td>\n",
       "      <td>0.0</td>\n",
       "      <td>0.0</td>\n",
       "      <td>0.0</td>\n",
       "      <td>0.0</td>\n",
       "      <td>0.0</td>\n",
       "      <td>0.0</td>\n",
       "      <td>0.0</td>\n",
       "      <td>0.0</td>\n",
       "      <td>0.0</td>\n",
       "      <td>1.0</td>\n",
       "    </tr>\n",
       "    <tr>\n",
       "      <th>28</th>\n",
       "      <td>0.0</td>\n",
       "      <td>0.0</td>\n",
       "      <td>0.0</td>\n",
       "      <td>0.0</td>\n",
       "      <td>0.0</td>\n",
       "      <td>0.0</td>\n",
       "      <td>0.0</td>\n",
       "      <td>0.0</td>\n",
       "      <td>0.0</td>\n",
       "      <td>1.0</td>\n",
       "      <td>0.0</td>\n",
       "      <td>0.0</td>\n",
       "    </tr>\n",
       "    <tr>\n",
       "      <th>31</th>\n",
       "      <td>0.0</td>\n",
       "      <td>0.0</td>\n",
       "      <td>0.0</td>\n",
       "      <td>0.0</td>\n",
       "      <td>0.0</td>\n",
       "      <td>0.0</td>\n",
       "      <td>0.0</td>\n",
       "      <td>1.0</td>\n",
       "      <td>0.0</td>\n",
       "      <td>0.0</td>\n",
       "      <td>0.0</td>\n",
       "      <td>0.0</td>\n",
       "    </tr>\n",
       "    <tr>\n",
       "      <th>32</th>\n",
       "      <td>0.0</td>\n",
       "      <td>0.0</td>\n",
       "      <td>0.0</td>\n",
       "      <td>0.0</td>\n",
       "      <td>0.0</td>\n",
       "      <td>0.0</td>\n",
       "      <td>0.0</td>\n",
       "      <td>0.0</td>\n",
       "      <td>0.0</td>\n",
       "      <td>0.0</td>\n",
       "      <td>1.0</td>\n",
       "      <td>0.0</td>\n",
       "    </tr>\n",
       "  </tbody>\n",
       "</table>\n",
       "</div>"
      ],
      "text/plain": [
       "y_pred  6.0   9.0   10.0  11.0  12.0  13.0  14.0  15.0  16.0  17.0  20.0  21.0\n",
       "y                                                                             \n",
       "1        1.0   0.0   0.0   0.0   0.0   0.0   0.0   0.0   0.0   0.0   0.0   0.0\n",
       "2        0.0   0.0   0.0   1.0   0.0   0.0   0.0   0.0   0.0   0.0   0.0   0.0\n",
       "3        0.0   0.0   1.0   0.0   0.0   0.0   0.0   0.0   0.0   0.0   0.0   0.0\n",
       "4        0.0   0.0   1.0   0.0   0.0   0.0   0.0   0.0   0.0   0.0   0.0   0.0\n",
       "5        0.0   0.0   0.0   1.0   0.0   1.0   0.0   0.0   0.0   0.0   0.0   0.0\n",
       "6        0.0   1.0   0.0   0.0   0.0   0.0   1.0   0.0   0.0   0.0   0.0   0.0\n",
       "8        0.0   0.0   0.0   1.0   1.0   0.0   1.0   0.0   0.0   0.0   0.0   0.0\n",
       "9        0.0   0.0   0.0   0.0   0.0   0.0   0.0   1.0   0.0   0.0   0.0   0.0\n",
       "10       0.0   1.0   0.0   0.0   0.0   0.0   0.0   0.0   0.0   0.0   0.0   0.0\n",
       "11       0.0   0.0   0.0   0.0   0.0   0.0   0.0   0.0   1.0   0.0   0.0   0.0\n",
       "12       0.0   0.0   0.0   0.0   0.0   1.0   0.0   0.0   0.0   1.0   0.0   0.0\n",
       "14       0.0   0.0   0.0   0.0   1.0   0.0   1.0   0.0   0.0   0.0   0.0   0.0\n",
       "17       0.0   0.0   0.0   0.0   0.0   0.0   0.0   1.0   1.0   0.0   0.0   0.0\n",
       "18       0.0   0.0   0.0   0.0   0.0   0.0   1.0   0.0   0.0   0.0   0.0   0.0\n",
       "21       0.0   0.0   1.0   0.0   0.0   0.0   0.0   0.0   0.0   0.0   0.0   0.0\n",
       "23       0.0   0.0   0.0   0.0   0.0   0.0   0.0   0.0   1.0   0.0   0.0   0.0\n",
       "25       0.0   0.0   0.0   0.0   0.0   0.0   1.0   0.0   0.0   0.0   0.0   0.0\n",
       "26       0.0   0.0   0.0   0.0   0.0   0.0   0.0   0.0   0.0   0.0   0.0   1.0\n",
       "28       0.0   0.0   0.0   0.0   0.0   0.0   0.0   0.0   0.0   1.0   0.0   0.0\n",
       "31       0.0   0.0   0.0   0.0   0.0   0.0   0.0   1.0   0.0   0.0   0.0   0.0\n",
       "32       0.0   0.0   0.0   0.0   0.0   0.0   0.0   0.0   0.0   0.0   1.0   0.0"
      ]
     },
     "execution_count": 72,
     "metadata": {},
     "output_type": "execute_result"
    }
   ],
   "source": [
    "print('     Frequency table')\n",
    "eval.groupby(['y', 'y_pred']).agg('count').reset_index().pivot(index='y', columns='y_pred', values='index').fillna(0)"
   ]
  },
  {
   "cell_type": "code",
   "execution_count": null,
   "metadata": {},
   "outputs": [],
   "source": []
  },
  {
   "cell_type": "code",
   "execution_count": 73,
   "metadata": {},
   "outputs": [
    {
     "name": "stdout",
     "output_type": "stream",
     "text": [
      "Poisson REGRESSION\n",
      "r2 score: 0.3829207110459202\n",
      "RMSE : 6.992881043310523\n",
      "MSE: 48.900385285891666\n",
      "MAE: 5.8573098719682894\n",
      "MAPE: 0.880738720808836\n"
     ]
    }
   ],
   "source": [
    "print('Poisson REGRESSION')\n",
    "print('r2 score: '+str(r2_score(y_test, y_pred)))\n",
    "print('RMSE : '+str(np.sqrt(mean_squared_error(y_test, y_pred))))\n",
    "print('MSE: '+str(mean_squared_error(y_test, y_pred)))\n",
    "print('MAE: '+str(mean_absolute_error(y_test, y_pred)))\n",
    "print('MAPE: '+str(mean_absolute_percentage_error(y_test, y_pred)))\n"
   ]
  },
  {
   "cell_type": "code",
   "execution_count": null,
   "metadata": {},
   "outputs": [],
   "source": []
  },
  {
   "cell_type": "code",
   "execution_count": null,
   "metadata": {},
   "outputs": [],
   "source": []
  },
  {
   "cell_type": "code",
   "execution_count": null,
   "metadata": {},
   "outputs": [],
   "source": []
  },
  {
   "cell_type": "markdown",
   "metadata": {},
   "source": [
    "# Ordinary Least Square"
   ]
  },
  {
   "cell_type": "code",
   "execution_count": 74,
   "metadata": {},
   "outputs": [],
   "source": [
    "from sklearn import linear_model\n",
    "reg = linear_model.LinearRegression()\n"
   ]
  },
  {
   "cell_type": "code",
   "execution_count": 75,
   "metadata": {},
   "outputs": [
    {
     "data": {
      "text/plain": [
       "LinearRegression()"
      ]
     },
     "execution_count": 75,
     "metadata": {},
     "output_type": "execute_result"
    }
   ],
   "source": [
    "reg.fit(X_train, y_train)"
   ]
  },
  {
   "cell_type": "code",
   "execution_count": 76,
   "metadata": {},
   "outputs": [
    {
     "data": {
      "text/plain": [
       "array([-25.79811972,   4.77306203,  -1.58024539,  -6.6893377 ,\n",
       "         8.50223852,  -3.60909006,  -3.52875252,  -0.79159283,\n",
       "        -3.0813026 ,  -0.86876513,   1.19619694,   2.99154161,\n",
       "         1.89192749,   1.4619753 ,  -1.04046835,   6.13568188])"
      ]
     },
     "execution_count": 76,
     "metadata": {},
     "output_type": "execute_result"
    }
   ],
   "source": [
    "reg.coef_"
   ]
  },
  {
   "cell_type": "markdown",
   "metadata": {},
   "source": [
    "# Gradient Boosting regression"
   ]
  },
  {
   "cell_type": "code",
   "execution_count": 77,
   "metadata": {},
   "outputs": [],
   "source": [
    "from sklearn import ensemble\n",
    "from sklearn.inspection import permutation_importance\n",
    "from sklearn.metrics import mean_squared_error\n",
    "from sklearn.model_selection import train_test_split"
   ]
  },
  {
   "cell_type": "code",
   "execution_count": 78,
   "metadata": {},
   "outputs": [],
   "source": [
    "params = {\n",
    "    \"n_estimators\": 500,\n",
    "    \"max_depth\": 4,\n",
    "    \"min_samples_split\": 5,\n",
    "    \"learning_rate\": 0.01,\n",
    "    \"loss\": \"squared_error\",\n",
    "}"
   ]
  },
  {
   "cell_type": "code",
   "execution_count": 79,
   "metadata": {},
   "outputs": [
    {
     "name": "stdout",
     "output_type": "stream",
     "text": [
      "GRADIENT BOOSTING REGRESSION\n",
      "RMSE AND R SQUARE ARE MOST LIKELY WRONG - SHOULD USE X_TRAIN IN PREDICTIONS\n",
      "RMSE: 1.3660685450274905\n",
      "R Squared: 0.9797500679712643\n",
      "MSE TEST: 41.16848232674044\n",
      "MAE TEST: 4.962457517557501\n",
      "MAPE: 1.0607454107319387\n"
     ]
    }
   ],
   "source": [
    "reg = ensemble.GradientBoostingRegressor(**params)\n",
    "reg.fit(X_train, y_train)\n",
    "\n",
    "mse = mean_squared_error(y_test, reg.predict(X_test))\n",
    "predictions = reg.predict(X_train)\n",
    "\n",
    "print('GRADIENT BOOSTING REGRESSION')\n",
    "# print(\"The mean squared error (MSE) on test set: {:.4f}\".format(mse))\n",
    "\n",
    "\n",
    "print('RMSE AND R SQUARE ARE MOST LIKELY WRONG - SHOULD USE X_TRAIN IN PREDICTIONS')\n",
    "print('RMSE: '+str(np.sqrt(mean_squared_error(y_train, predictions))))\n",
    "print('R Squared: '+str(r2_score(y_train, predictions)))\n",
    "print('MSE TEST: '+str(mean_squared_error(y_test, reg.predict(X_test))))\n",
    "print('MAE TEST: '+str(mean_absolute_error(y_test, reg.predict(X_test))))\n",
    "print('MAPE: '+str(mean_absolute_percentage_error(y_test, reg.predict(X_test))))\n"
   ]
  },
  {
   "cell_type": "code",
   "execution_count": 80,
   "metadata": {},
   "outputs": [
    {
     "data": {
      "image/png": "[encoded data removed]",
      "text/plain": [
       "<Figure size 432x432 with 1 Axes>"
      ]
     },
     "metadata": {
      "needs_background": "light"
     },
     "output_type": "display_data"
    }
   ],
   "source": [
    "test_score = np.zeros((params[\"n_estimators\"],), dtype=np.float64)\n",
    "for i, y_pred in enumerate(reg.staged_predict(X_test)):\n",
    "    test_score[i] = reg.loss_(y_test, y_pred)\n",
    "\n",
    "fig = plt.figure(figsize=(6, 6))\n",
    "plt.subplot(1, 1, 1)\n",
    "plt.title(\"Deviance\")\n",
    "plt.plot(\n",
    "    np.arange(params[\"n_estimators\"]) + 1,\n",
    "    reg.train_score_,\n",
    "    \"b-\",\n",
    "    label=\"Training Set Deviance\",\n",
    ")\n",
    "plt.plot(\n",
    "    np.arange(params[\"n_estimators\"]) + 1, test_score, \"r-\", label=\"Test Set Deviance\"\n",
    ")\n",
    "plt.legend(loc=\"upper right\")\n",
    "plt.xlabel(\"Boosting Iterations\")\n",
    "plt.ylabel(\"Deviance\")\n",
    "fig.tight_layout()\n",
    "plt.show()"
   ]
  },
  {
   "cell_type": "code",
   "execution_count": 81,
   "metadata": {},
   "outputs": [
    {
     "data": {
      "image/png": "[encoded data removed]",
      "text/plain": [
       "<Figure size 864x432 with 2 Axes>"
      ]
     },
     "metadata": {
      "needs_background": "light"
     },
     "output_type": "display_data"
    }
   ],
   "source": [
    "feature_importance = reg.feature_importances_\n",
    "sorted_idx = np.argsort(feature_importance)\n",
    "pos = np.arange(sorted_idx.shape[0]) + 0.5\n",
    "fig = plt.figure(figsize=(12, 6))\n",
    "plt.subplot(1, 2, 1)\n",
    "plt.barh(pos, feature_importance[sorted_idx], align=\"center\")\n",
    "plt.yticks(pos, np.array(df.columns)[sorted_idx])\n",
    "plt.title(\"Feature Importance (MDI)\")\n",
    "\n",
    "result = permutation_importance(\n",
    "    reg, X_test, y_test, n_repeats=10, random_state=42, n_jobs=2\n",
    ")\n",
    "sorted_idx = result.importances_mean.argsort()\n",
    "plt.subplot(1, 2, 2)\n",
    "plt.boxplot(\n",
    "    result.importances[sorted_idx].T,\n",
    "    vert=False,\n",
    "    labels=np.array(df.columns)[sorted_idx],\n",
    ")\n",
    "plt.title(\"Permutation Importance (test set)\")\n",
    "fig.tight_layout()\n",
    "plt.show()"
   ]
  },
  {
   "cell_type": "markdown",
   "metadata": {},
   "source": [
    "# Decision Forest Regression"
   ]
  },
  {
   "cell_type": "code",
   "execution_count": 82,
   "metadata": {},
   "outputs": [],
   "source": [
    "from sklearn.ensemble import RandomForestRegressor\n",
    "from sklearn.datasets import make_regression"
   ]
  },
  {
   "cell_type": "code",
   "execution_count": 83,
   "metadata": {},
   "outputs": [
    {
     "data": {
      "text/plain": [
       "RandomForestRegressor(max_depth=2, random_state=0)"
      ]
     },
     "execution_count": 83,
     "metadata": {},
     "output_type": "execute_result"
    }
   ],
   "source": [
    "regr = RandomForestRegressor(max_depth=2, random_state=0)\n",
    "regr.fit(X_train, y_train)"
   ]
  },
  {
   "cell_type": "code",
   "execution_count": 84,
   "metadata": {},
   "outputs": [],
   "source": [
    "y_pred = regr.predict(X_test)"
   ]
  },
  {
   "cell_type": "code",
   "execution_count": 85,
   "metadata": {},
   "outputs": [
    {
     "name": "stdout",
     "output_type": "stream",
     "text": [
      "DECISION FOREST REGRESSION\n",
      "r2 score: 0.5771181675621109\n",
      "RMSE : 5.788888292265893\n",
      "MSE: 33.51122766033313\n",
      "MAE: 4.744589342346552\n",
      "MAPE: 0.7432507123614697\n"
     ]
    }
   ],
   "source": [
    "print('DECISION FOREST REGRESSION')\n",
    "print('r2 score: '+str(r2_score(y_test, y_pred)))\n",
    "print('RMSE : '+str(np.sqrt(mean_squared_error(y_test, y_pred))))\n",
    "print('MSE: '+str(mean_squared_error(y_test, y_pred)))\n",
    "print('MAE: '+str(mean_absolute_error(y_test, y_pred)))\n",
    "print('MAPE: '+str(mean_absolute_percentage_error(y_test, y_pred)))"
   ]
  },
  {
   "cell_type": "markdown",
   "metadata": {},
   "source": [
    "# Boosted Decision Tree Regression"
   ]
  },
  {
   "cell_type": "code",
   "execution_count": 86,
   "metadata": {},
   "outputs": [],
   "source": [
    "from sklearn.ensemble import AdaBoostRegressor\n",
    "from sklearn.tree import DecisionTreeRegressor\n",
    "\n",
    "regr_1 = DecisionTreeRegressor(max_depth=4)\n",
    "\n",
    "regr_2 = AdaBoostRegressor(\n",
    "    DecisionTreeRegressor(max_depth=4), n_estimators=300, random_state=42\n",
    ")"
   ]
  },
  {
   "cell_type": "code",
   "execution_count": 87,
   "metadata": {},
   "outputs": [],
   "source": [
    "regr_1.fit(X_train, y_train)\n",
    "regr_2.fit(X_train, y_train)\n",
    "\n",
    "y_1 = regr_1.predict(X_train)\n",
    "y_2 = regr_2.predict(X_train)"
   ]
  },
  {
   "cell_type": "markdown",
   "metadata": {},
   "source": [
    "Finally, we plot how well our two regressors, single decision tree regressor and AdaBoost regressor, could fit the data."
   ]
  },
  {
   "cell_type": "code",
   "execution_count": 88,
   "metadata": {},
   "outputs": [],
   "source": [
    "# import matplotlib.pyplot as plt\n",
    "# import seaborn as sns\n",
    "\n",
    "# X_train=np.arange(0,len(X_train),1)\n",
    "\n",
    "# colors = sns.color_palette(\"colorblind\")\n",
    "\n",
    "# plt.figure()\n",
    "# plt.scatter(X_train, y_train, color=colors[0], label=\"training\")\n",
    "# plt.plot(X_train, y_1, color=colors[1], label=\"n_estimators=1\", linewidth=1)\n",
    "# plt.plot(X_train, y_2, color=colors[2], label=\"n_estimators=300\", linewidth=1)\n",
    "# plt.xlabel(\"data\")\n",
    "# plt.ylabel(\"target\")\n",
    "# plt.title(\"Boosted Decision Tree Regression\")\n",
    "# plt.legend()\n",
    "# plt.show()"
   ]
  },
  {
   "cell_type": "markdown",
   "metadata": {},
   "source": [
    "# Neural Network Regression"
   ]
  },
  {
   "cell_type": "code",
   "execution_count": 89,
   "metadata": {},
   "outputs": [],
   "source": [
    "from sklearn.neural_network import MLPRegressor\n",
    "from sklearn.datasets import make_regression\n",
    "from sklearn.model_selection import train_test_split\n"
   ]
  },
  {
   "cell_type": "code",
   "execution_count": 90,
   "metadata": {},
   "outputs": [],
   "source": [
    "# regr = MLPRegressor(random_state=1, max_iter=700).fit(X_train, y_train)\n"
   ]
  },
  {
   "cell_type": "code",
   "execution_count": 91,
   "metadata": {},
   "outputs": [
    {
     "name": "stderr",
     "output_type": "stream",
     "text": [
      "/Users/ryantalbot/opt/anaconda3/envs/tf2/lib/python3.9/site-packages/sklearn/neural_network/_multilayer_perceptron.py:692: ConvergenceWarning: Stochastic Optimizer: Maximum iterations (700) reached and the optimization hasn't converged yet.\n",
      "  warnings.warn(\n"
     ]
    }
   ],
   "source": [
    "regr = MLPRegressor(random_state=1, hidden_layer_sizes=(58), \n",
    "                    max_iter=700).fit(X_train, y_train)\n"
   ]
  },
  {
   "cell_type": "code",
   "execution_count": 92,
   "metadata": {
    "scrolled": true
   },
   "outputs": [
    {
     "data": {
      "text/plain": [
       "array([10.4846913, 10.6237257])"
      ]
     },
     "execution_count": 92,
     "metadata": {},
     "output_type": "execute_result"
    }
   ],
   "source": [
    "regr.predict(X_test[:2])"
   ]
  },
  {
   "cell_type": "code",
   "execution_count": 93,
   "metadata": {},
   "outputs": [
    {
     "data": {
      "text/plain": [
       "0.4535084308765823"
      ]
     },
     "execution_count": 93,
     "metadata": {},
     "output_type": "execute_result"
    }
   ],
   "source": [
    "regr.score(X_test, y_test)"
   ]
  },
  {
   "cell_type": "code",
   "execution_count": 94,
   "metadata": {},
   "outputs": [],
   "source": [
    "y_pred = regr.predict(X_test)"
   ]
  },
  {
   "cell_type": "code",
   "execution_count": 95,
   "metadata": {},
   "outputs": [
    {
     "name": "stdout",
     "output_type": "stream",
     "text": [
      "Neural Network Regression\n",
      "r2 score: 0.4535084308765823\n",
      "RMSE : 6.58078024482959\n",
      "MSE: 43.3066686307394\n",
      "MAE: 5.276057548150234\n",
      "MAPE: 0.5775679428367543\n"
     ]
    }
   ],
   "source": [
    "print('Neural Network Regression')\n",
    "print('r2 score: '+str(r2_score(y_test, y_pred)))\n",
    "print('RMSE : '+str(np.sqrt(mean_squared_error(y_test, y_pred))))\n",
    "print('MSE: '+str(mean_squared_error(y_test, y_pred)))\n",
    "print('MAE: '+str(mean_absolute_error(y_test, y_pred)))\n",
    "print('MAPE: '+str(mean_absolute_percentage_error(y_test, y_pred)))"
   ]
  },
  {
   "cell_type": "markdown",
   "metadata": {},
   "source": [
    "Best results is sith hidden_layer_sizes=(58"
   ]
  },
  {
   "cell_type": "markdown",
   "metadata": {},
   "source": [
    "# Stochastic Gradient Descent Regression"
   ]
  },
  {
   "cell_type": "code",
   "execution_count": 96,
   "metadata": {},
   "outputs": [],
   "source": [
    "from sklearn.linear_model import SGDRegressor\n",
    "from sklearn.pipeline import make_pipeline\n",
    "from sklearn.preprocessing import StandardScaler"
   ]
  },
  {
   "cell_type": "code",
   "execution_count": 97,
   "metadata": {},
   "outputs": [],
   "source": [
    "n_samples, n_features = 10, 5\n",
    "\n",
    "# Always scale the input. The most convenient way is to use a pipeline.\n",
    "reg = make_pipeline(StandardScaler(),\n",
    "                    SGDRegressor(max_iter=1000, tol=1e-3))"
   ]
  },
  {
   "cell_type": "code",
   "execution_count": 98,
   "metadata": {},
   "outputs": [
    {
     "data": {
      "text/plain": [
       "Pipeline(steps=[('standardscaler', StandardScaler()),\n",
       "                ('sgdregressor', SGDRegressor())])"
      ]
     },
     "execution_count": 98,
     "metadata": {},
     "output_type": "execute_result"
    }
   ],
   "source": [
    "reg.fit(X_train, y_train)"
   ]
  },
  {
   "cell_type": "code",
   "execution_count": 99,
   "metadata": {},
   "outputs": [
    {
     "data": {
      "text/plain": [
       "array([ 9.89340726, 13.1917194 , 15.55633179,  7.50754916, 10.02140029,\n",
       "       16.35184614, -3.69950173,  6.7746063 , 17.07459281, 20.17032075,\n",
       "       21.92123995,  7.2108497 , 20.89808977, 16.33898502,  9.69742806,\n",
       "       19.10697599, 18.76718452, 13.67184118, 11.68172548, 13.67948651,\n",
       "       19.56386196,  5.37182705,  7.23759558, 18.6150722 , 13.71083586,\n",
       "       11.5050281 , 15.23530504, 25.84297384])"
      ]
     },
     "execution_count": 99,
     "metadata": {},
     "output_type": "execute_result"
    }
   ],
   "source": [
    "reg.predict(X_test)"
   ]
  },
  {
   "cell_type": "code",
   "execution_count": 100,
   "metadata": {},
   "outputs": [
    {
     "data": {
      "text/plain": [
       "0.46245172555797254"
      ]
     },
     "execution_count": 100,
     "metadata": {},
     "output_type": "execute_result"
    }
   ],
   "source": [
    "reg.score(X_test, y_test, sample_weight=None)"
   ]
  },
  {
   "cell_type": "code",
   "execution_count": 101,
   "metadata": {},
   "outputs": [],
   "source": [
    "pred_train= reg.predict(X_train)"
   ]
  },
  {
   "cell_type": "code",
   "execution_count": 102,
   "metadata": {},
   "outputs": [],
   "source": [
    "predictions = reg.predict(X_test)"
   ]
  },
  {
   "cell_type": "code",
   "execution_count": 103,
   "metadata": {},
   "outputs": [
    {
     "name": "stdout",
     "output_type": "stream",
     "text": [
      "Stochastic Gradient Descent Regression\n",
      "RMSE: 6.672635836353489\n",
      "R Squared: 0.5168595114757346\n",
      "MSE: 42.59795815629372\n",
      "MAE: 5.337918283707794\n"
     ]
    }
   ],
   "source": [
    "print('Stochastic Gradient Descent Regression')\n",
    "print('RMSE: '+str(np.sqrt(mean_squared_error(y_train,pred_train))))\n",
    "print('R Squared: '+str(r2_score(y_train, pred_train)))\n",
    "print('MSE: '+str(mean_squared_error(y_test, predictions)))\n",
    "print('MAE: '+str(mean_absolute_error(y_test, predictions)))"
   ]
  },
  {
   "cell_type": "code",
   "execution_count": 104,
   "metadata": {},
   "outputs": [
    {
     "name": "stdout",
     "output_type": "stream",
     "text": [
      "MAPE: 0.5775679428367543\n"
     ]
    }
   ],
   "source": [
    "print('MAPE: '+str(mean_absolute_percentage_error(y_test, y_pred)))"
   ]
  },
  {
   "cell_type": "markdown",
   "metadata": {},
   "source": [
    "### LINEAR REGRESSION\n",
    "- RMSE : 6.5489054539688025\n",
    "- r2 score: 0.45878960350087705\n",
    "- MSE: 42.88816264502233\n",
    "- MAE: 5.441647295277558\n",
    "- MAPE: 0.8581266877876318\n",
    "--------------\n",
    "\n",
    "### RIDGE REGRESSION\n",
    "- RMSE: 6.645452818212983\n",
    "- R Squared: 0.5207879337372383\n",
    "- MSE: 42.88816264502233\n",
    "- MAE: 5.441647295277558\n",
    "- MAPE: 0.9405473114946074\n",
    "----------------\n",
    "\n",
    "### LASSO REGRESSION\n",
    "- RMSE: 6.654226955476154\n",
    "- R Squared: 0.5195216699254779\n",
    "- MSE: 42.88816264502233\n",
    "- MAE: 5.441647295277558\n",
    "- MAPE: 0.8581266877876318\n",
    "---\n",
    "- RMSE: 6.4986296685245195\n",
    "- R Squared: 0.4670674244494648\n",
    "- MSE: 42.232187568627104\n",
    "- MAE: 5.34439587548745\n",
    "- MAPE: 0.8234574915992052\n",
    "\n",
    "\n",
    "---\n",
    "### ELASTIC NET\n",
    "- Test set evaluation:\n",
    "    - RMSE: 6.332901684769903\n",
    "    - R2 Square 0.4939025125678309\n",
    "    - MSE: 40.10564374896148\n",
    "    - MAE: 5.176351828568661\n",
    "    - MAPE: 0.6772758405894522\n",
    "\n",
    "- Train set evaluation:\n",
    "    - RMSE: 6.900145046035427\n",
    "    - R2 Square 0.48335167350752983\n",
    "    - MSE: 47.612001656327244   \n",
    "    - MAE: 5.825735023910361\n",
    "    - MAPE: 1.1048890675934306\n",
    "\n",
    "    \n",
    "__________________________________\n",
    "\n",
    "### POISSON\n",
    "- r2 test: 0.3829207110459202\n",
    "- r2 trian: 0.4061594064996301\n",
    "\n",
    "\n",
    "- Poisson REGRESSION test\n",
    "    - RMSE : 6.992881043310523\n",
    "    - r2 score: 0.3829207110459202\n",
    "    - MSE: 48.900385285891666\n",
    "    - MAE: 5.8573098719682894\n",
    "    - MAPE: 0.880738720808836\n",
    "\n",
    "\n",
    "-------\n",
    "\n",
    "### Gradient Boosting regression\n",
    "- MSE TEST: 41.291555765943784\n",
    "- MAE TEST: 4.9700608677096065\n",
    "\n",
    "----\n",
    "\n",
    "### Stochastic Gradient Descent Regression\n",
    "- RMSE: 6.664364750268197\n",
    "- r2 score: 0.5180565256641232\n",
    "- MSE: 42.77056375122684\n",
    "- MAE: 5.372601073664727\n",
    "\n",
    "### DECISION FOREST REGRESSION\n",
    "- RMSE : 5.788888292265893\n",
    "- r2 score: 0.5771181675621109\n",
    "- MSE: 33.51122766033313\n",
    "- MAE: 4.744589342346552\n",
    "- MAPE: 0.7432507123614697\n",
    "\n",
    "\n",
    "### Neural Network Regression\n",
    "- RMSE : 6.269715984388013\n",
    "- r2 score: 0.5039511749369979\n",
    "- MSE: 39.30933852489055\n",
    "- MAE: 5.104212120461294\n",
    "- <b>MAPE: 0.5908518807785906</b>\n",
    "\n",
    "\n",
    "### Neural Network Regression (58 hidden layers)\n",
    "- r2 score: 0.4535084308765823\n",
    "- RMSE : 6.58078024482959\n",
    "- MSE: 43.3066686307394\n",
    "- MAE: 5.276057548150234\n",
    "- <b>MAPE: 0.5775679428367543</b>\n",
    "\n"
   ]
  },
  {
   "cell_type": "markdown",
   "metadata": {},
   "source": [
    "\n",
    "- R Square - <b>value is between 0 to 1 and a bigger value indicates a better fit</b> between prediction and actual value.\n",
    "- MSE - <b>An ideal Mean Squared Error (MSE) value is 0.0,</b> which means that all predicted values matched the expected values exactly. MSE gives larger penalization to big prediction error by square it while MAE treats all errors the same.\n",
    "- RMSE - Based on a rule of thumb, it can be said that <b>RMSE values between 0.2 and 0.5 </b>shows that the model can relatively predict the data accurately. In addition, <b>Adjusted R-squared more than 0.75 is a very good</b> value for showing the accuracy. In some cases, Adjusted R-squared of 0.4 or more is acceptable as well.\n",
    "- MAE - <b>The lower the MAE score the better.</b> This is because MAE is a measure of the average error between the predictions and intended targets, thus we want to minimise this value.\n",
    "\n",
    "\n",
    "- There is no ideal value for MAE as it is returned on the same scale that you are predicting, so an ideal MAE value for one dataset will not be the same for another.\n",
    "- MAE cannot be compared across different models and datasets. However, by converting MAE to MAPE (Mean Absolute Percentage Error), it becomes possible to compare model performance as this error is returned as a percentage.\n",
    "\n",
    "\n",
    "- https://stephenallwright.com/good-mae-score/\n",
    "- https://stephenallwright.com/good-mape-score/"
   ]
  },
  {
   "cell_type": "code",
   "execution_count": null,
   "metadata": {},
   "outputs": [],
   "source": []
  }
 ],
 "metadata": {
  "kernelspec": {
   "display_name": "Python 3 (ipykernel)",
   "language": "python",
   "name": "python3"
  },
  "language_info": {
   "codemirror_mode": {
    "name": "ipython",
    "version": 3
   },
   "file_extension": ".py",
   "mimetype": "text/x-python",
   "name": "python",
   "nbconvert_exporter": "python",
   "pygments_lexer": "ipython3",
   "version": "3.9.12"
  }
 },
 "nbformat": 4,
 "nbformat_minor": 5
}
