{
 "cells": [
  {
   "cell_type": "markdown",
   "metadata": {},
   "source": [
    "https://santiagof.medium.com/model-interpretability-making-your-model-confess-feature-importance-34993e001d99"
   ]
  },
  {
   "cell_type": "code",
   "execution_count": 1,
   "metadata": {},
   "outputs": [],
   "source": [
    "import pandas as pd\n",
    "import numpy as np\n",
    "from sklearn.model_selection import train_test_split\n",
    "import seaborn as sns\n",
    "import matplotlib.pyplot as plt"
   ]
  },
  {
   "cell_type": "code",
   "execution_count": 2,
   "metadata": {},
   "outputs": [],
   "source": [
    "df = pd.read_csv('WC-stats.csv')"
   ]
  },
  {
   "cell_type": "code",
   "execution_count": 3,
   "metadata": {},
   "outputs": [
    {
     "data": {
      "text/html": [
       "<div>\n",
       "<style scoped>\n",
       "    .dataframe tbody tr th:only-of-type {\n",
       "        vertical-align: middle;\n",
       "    }\n",
       "\n",
       "    .dataframe tbody tr th {\n",
       "        vertical-align: top;\n",
       "    }\n",
       "\n",
       "    .dataframe thead th {\n",
       "        text-align: right;\n",
       "    }\n",
       "</style>\n",
       "<table border=\"1\" class=\"dataframe\">\n",
       "  <thead>\n",
       "    <tr style=\"text-align: right;\">\n",
       "      <th></th>\n",
       "      <th>goals_z</th>\n",
       "      <th>xg_z</th>\n",
       "      <th>crosses_z</th>\n",
       "      <th>boxtouches_z</th>\n",
       "      <th>passes_z</th>\n",
       "      <th>progpasses_z</th>\n",
       "      <th>takeons_z</th>\n",
       "      <th>progruns_z</th>\n",
       "      <th>tackles_z</th>\n",
       "      <th>interceptions_z</th>\n",
       "      <th>clearances_z</th>\n",
       "      <th>blocks_z</th>\n",
       "      <th>aerials_z</th>\n",
       "      <th>fouls_z</th>\n",
       "      <th>fouled_z</th>\n",
       "      <th>nsxg_z</th>\n",
       "      <th>results</th>\n",
       "    </tr>\n",
       "  </thead>\n",
       "  <tbody>\n",
       "    <tr>\n",
       "      <th>0</th>\n",
       "      <td>0.423077</td>\n",
       "      <td>0.146923</td>\n",
       "      <td>-0.136154</td>\n",
       "      <td>-0.030000</td>\n",
       "      <td>0.429231</td>\n",
       "      <td>0.037692</td>\n",
       "      <td>0.244615</td>\n",
       "      <td>-0.220000</td>\n",
       "      <td>0.216154</td>\n",
       "      <td>0.270000</td>\n",
       "      <td>-0.076923</td>\n",
       "      <td>-0.097692</td>\n",
       "      <td>-0.020000</td>\n",
       "      <td>-0.224615</td>\n",
       "      <td>0.100769</td>\n",
       "      <td>-0.124615</td>\n",
       "      <td>2</td>\n",
       "    </tr>\n",
       "    <tr>\n",
       "      <th>1</th>\n",
       "      <td>0.216923</td>\n",
       "      <td>0.348462</td>\n",
       "      <td>0.031538</td>\n",
       "      <td>0.158462</td>\n",
       "      <td>0.835385</td>\n",
       "      <td>0.626923</td>\n",
       "      <td>0.270000</td>\n",
       "      <td>0.266923</td>\n",
       "      <td>1.143846</td>\n",
       "      <td>0.834615</td>\n",
       "      <td>-0.059231</td>\n",
       "      <td>-0.134615</td>\n",
       "      <td>0.196923</td>\n",
       "      <td>-0.016923</td>\n",
       "      <td>0.033846</td>\n",
       "      <td>0.146923</td>\n",
       "      <td>1</td>\n",
       "    </tr>\n",
       "    <tr>\n",
       "      <th>2</th>\n",
       "      <td>0.113846</td>\n",
       "      <td>0.392308</td>\n",
       "      <td>0.599231</td>\n",
       "      <td>0.513846</td>\n",
       "      <td>0.833077</td>\n",
       "      <td>0.405385</td>\n",
       "      <td>0.521538</td>\n",
       "      <td>1.139231</td>\n",
       "      <td>1.109231</td>\n",
       "      <td>0.859231</td>\n",
       "      <td>0.084615</td>\n",
       "      <td>0.103077</td>\n",
       "      <td>0.683846</td>\n",
       "      <td>0.213846</td>\n",
       "      <td>0.353846</td>\n",
       "      <td>0.786923</td>\n",
       "      <td>9</td>\n",
       "    </tr>\n",
       "    <tr>\n",
       "      <th>3</th>\n",
       "      <td>0.479231</td>\n",
       "      <td>0.609231</td>\n",
       "      <td>0.227692</td>\n",
       "      <td>0.450769</td>\n",
       "      <td>0.770769</td>\n",
       "      <td>0.042308</td>\n",
       "      <td>0.337692</td>\n",
       "      <td>0.927692</td>\n",
       "      <td>0.506923</td>\n",
       "      <td>1.015385</td>\n",
       "      <td>0.020769</td>\n",
       "      <td>0.381538</td>\n",
       "      <td>0.038462</td>\n",
       "      <td>0.039231</td>\n",
       "      <td>0.022308</td>\n",
       "      <td>0.692308</td>\n",
       "      <td>5</td>\n",
       "    </tr>\n",
       "    <tr>\n",
       "      <th>4</th>\n",
       "      <td>0.877692</td>\n",
       "      <td>0.773846</td>\n",
       "      <td>0.428462</td>\n",
       "      <td>0.659231</td>\n",
       "      <td>0.754615</td>\n",
       "      <td>0.335385</td>\n",
       "      <td>0.023077</td>\n",
       "      <td>0.638462</td>\n",
       "      <td>0.493846</td>\n",
       "      <td>0.637692</td>\n",
       "      <td>-0.117692</td>\n",
       "      <td>-0.033846</td>\n",
       "      <td>0.572308</td>\n",
       "      <td>-0.016154</td>\n",
       "      <td>-0.096923</td>\n",
       "      <td>0.890769</td>\n",
       "      <td>5</td>\n",
       "    </tr>\n",
       "  </tbody>\n",
       "</table>\n",
       "</div>"
      ],
      "text/plain": [
       "    goals_z      xg_z  crosses_z  boxtouches_z  passes_z  progpasses_z  \\\n",
       "0  0.423077  0.146923  -0.136154     -0.030000  0.429231      0.037692   \n",
       "1  0.216923  0.348462   0.031538      0.158462  0.835385      0.626923   \n",
       "2  0.113846  0.392308   0.599231      0.513846  0.833077      0.405385   \n",
       "3  0.479231  0.609231   0.227692      0.450769  0.770769      0.042308   \n",
       "4  0.877692  0.773846   0.428462      0.659231  0.754615      0.335385   \n",
       "\n",
       "   takeons_z  progruns_z  tackles_z  interceptions_z  clearances_z  blocks_z  \\\n",
       "0   0.244615   -0.220000   0.216154         0.270000     -0.076923 -0.097692   \n",
       "1   0.270000    0.266923   1.143846         0.834615     -0.059231 -0.134615   \n",
       "2   0.521538    1.139231   1.109231         0.859231      0.084615  0.103077   \n",
       "3   0.337692    0.927692   0.506923         1.015385      0.020769  0.381538   \n",
       "4   0.023077    0.638462   0.493846         0.637692     -0.117692 -0.033846   \n",
       "\n",
       "   aerials_z   fouls_z  fouled_z    nsxg_z  results  \n",
       "0  -0.020000 -0.224615  0.100769 -0.124615        2  \n",
       "1   0.196923 -0.016923  0.033846  0.146923        1  \n",
       "2   0.683846  0.213846  0.353846  0.786923        9  \n",
       "3   0.038462  0.039231  0.022308  0.692308        5  \n",
       "4   0.572308 -0.016154 -0.096923  0.890769        5  "
      ]
     },
     "execution_count": 3,
     "metadata": {},
     "output_type": "execute_result"
    }
   ],
   "source": [
    "df.head()"
   ]
  },
  {
   "cell_type": "code",
   "execution_count": 4,
   "metadata": {},
   "outputs": [
    {
     "data": {
      "text/plain": [
       "(192, 17)"
      ]
     },
     "execution_count": 4,
     "metadata": {},
     "output_type": "execute_result"
    }
   ],
   "source": [
    "df.shape"
   ]
  },
  {
   "cell_type": "code",
   "execution_count": 5,
   "metadata": {},
   "outputs": [
    {
     "name": "stdout",
     "output_type": "stream",
     "text": [
      "<class 'pandas.core.frame.DataFrame'>\n",
      "RangeIndex: 192 entries, 0 to 191\n",
      "Data columns (total 17 columns):\n",
      " #   Column           Non-Null Count  Dtype  \n",
      "---  ------           --------------  -----  \n",
      " 0   goals_z          192 non-null    float64\n",
      " 1   xg_z             192 non-null    float64\n",
      " 2   crosses_z        192 non-null    float64\n",
      " 3   boxtouches_z     192 non-null    float64\n",
      " 4   passes_z         192 non-null    float64\n",
      " 5   progpasses_z     192 non-null    float64\n",
      " 6   takeons_z        192 non-null    float64\n",
      " 7   progruns_z       192 non-null    float64\n",
      " 8   tackles_z        192 non-null    float64\n",
      " 9   interceptions_z  192 non-null    float64\n",
      " 10  clearances_z     192 non-null    float64\n",
      " 11  blocks_z         192 non-null    float64\n",
      " 12  aerials_z        192 non-null    float64\n",
      " 13  fouls_z          192 non-null    float64\n",
      " 14  fouled_z         192 non-null    float64\n",
      " 15  nsxg_z           192 non-null    float64\n",
      " 16  results          192 non-null    int64  \n",
      "dtypes: float64(16), int64(1)\n",
      "memory usage: 25.6 KB\n"
     ]
    }
   ],
   "source": [
    "df.info()"
   ]
  },
  {
   "cell_type": "code",
   "execution_count": 6,
   "metadata": {},
   "outputs": [
    {
     "data": {
      "text/html": [
       "<div>\n",
       "<style scoped>\n",
       "    .dataframe tbody tr th:only-of-type {\n",
       "        vertical-align: middle;\n",
       "    }\n",
       "\n",
       "    .dataframe tbody tr th {\n",
       "        vertical-align: top;\n",
       "    }\n",
       "\n",
       "    .dataframe thead th {\n",
       "        text-align: right;\n",
       "    }\n",
       "</style>\n",
       "<table border=\"1\" class=\"dataframe\">\n",
       "  <thead>\n",
       "    <tr style=\"text-align: right;\">\n",
       "      <th></th>\n",
       "      <th>goals_z</th>\n",
       "      <th>xg_z</th>\n",
       "      <th>crosses_z</th>\n",
       "      <th>boxtouches_z</th>\n",
       "      <th>passes_z</th>\n",
       "      <th>progpasses_z</th>\n",
       "      <th>takeons_z</th>\n",
       "      <th>progruns_z</th>\n",
       "      <th>tackles_z</th>\n",
       "      <th>interceptions_z</th>\n",
       "      <th>clearances_z</th>\n",
       "      <th>blocks_z</th>\n",
       "      <th>aerials_z</th>\n",
       "      <th>fouls_z</th>\n",
       "      <th>fouled_z</th>\n",
       "      <th>nsxg_z</th>\n",
       "      <th>results</th>\n",
       "    </tr>\n",
       "  </thead>\n",
       "  <tbody>\n",
       "    <tr>\n",
       "      <th>goals_z</th>\n",
       "      <td>1.000000</td>\n",
       "      <td>0.600918</td>\n",
       "      <td>0.089481</td>\n",
       "      <td>0.315985</td>\n",
       "      <td>0.210714</td>\n",
       "      <td>0.068946</td>\n",
       "      <td>0.255192</td>\n",
       "      <td>0.222369</td>\n",
       "      <td>0.282169</td>\n",
       "      <td>0.206740</td>\n",
       "      <td>-0.184332</td>\n",
       "      <td>0.026996</td>\n",
       "      <td>0.067850</td>\n",
       "      <td>-0.131009</td>\n",
       "      <td>0.057890</td>\n",
       "      <td>0.381813</td>\n",
       "      <td>-0.624897</td>\n",
       "    </tr>\n",
       "    <tr>\n",
       "      <th>xg_z</th>\n",
       "      <td>0.600918</td>\n",
       "      <td>1.000000</td>\n",
       "      <td>0.418622</td>\n",
       "      <td>0.679897</td>\n",
       "      <td>0.362993</td>\n",
       "      <td>0.157812</td>\n",
       "      <td>0.326823</td>\n",
       "      <td>0.444577</td>\n",
       "      <td>0.404363</td>\n",
       "      <td>0.312799</td>\n",
       "      <td>-0.371703</td>\n",
       "      <td>0.071581</td>\n",
       "      <td>0.071565</td>\n",
       "      <td>-0.076732</td>\n",
       "      <td>0.171107</td>\n",
       "      <td>0.675152</td>\n",
       "      <td>-0.324822</td>\n",
       "    </tr>\n",
       "    <tr>\n",
       "      <th>crosses_z</th>\n",
       "      <td>0.089481</td>\n",
       "      <td>0.418622</td>\n",
       "      <td>1.000000</td>\n",
       "      <td>0.649896</td>\n",
       "      <td>0.235295</td>\n",
       "      <td>0.247452</td>\n",
       "      <td>0.140122</td>\n",
       "      <td>0.297069</td>\n",
       "      <td>0.211836</td>\n",
       "      <td>0.194399</td>\n",
       "      <td>-0.229981</td>\n",
       "      <td>0.028924</td>\n",
       "      <td>0.250670</td>\n",
       "      <td>0.012239</td>\n",
       "      <td>0.186503</td>\n",
       "      <td>0.666263</td>\n",
       "      <td>0.018258</td>\n",
       "    </tr>\n",
       "    <tr>\n",
       "      <th>boxtouches_z</th>\n",
       "      <td>0.315985</td>\n",
       "      <td>0.679897</td>\n",
       "      <td>0.649896</td>\n",
       "      <td>1.000000</td>\n",
       "      <td>0.384444</td>\n",
       "      <td>0.229200</td>\n",
       "      <td>0.218567</td>\n",
       "      <td>0.431615</td>\n",
       "      <td>0.412840</td>\n",
       "      <td>0.316615</td>\n",
       "      <td>-0.414226</td>\n",
       "      <td>0.155176</td>\n",
       "      <td>0.254825</td>\n",
       "      <td>-0.075628</td>\n",
       "      <td>0.157229</td>\n",
       "      <td>0.859053</td>\n",
       "      <td>-0.210442</td>\n",
       "    </tr>\n",
       "    <tr>\n",
       "      <th>passes_z</th>\n",
       "      <td>0.210714</td>\n",
       "      <td>0.362993</td>\n",
       "      <td>0.235295</td>\n",
       "      <td>0.384444</td>\n",
       "      <td>1.000000</td>\n",
       "      <td>0.758953</td>\n",
       "      <td>0.376745</td>\n",
       "      <td>0.598245</td>\n",
       "      <td>0.752829</td>\n",
       "      <td>0.756645</td>\n",
       "      <td>-0.147760</td>\n",
       "      <td>0.390111</td>\n",
       "      <td>-0.006369</td>\n",
       "      <td>0.022346</td>\n",
       "      <td>0.286547</td>\n",
       "      <td>0.504445</td>\n",
       "      <td>-0.149115</td>\n",
       "    </tr>\n",
       "    <tr>\n",
       "      <th>progpasses_z</th>\n",
       "      <td>0.068946</td>\n",
       "      <td>0.157812</td>\n",
       "      <td>0.247452</td>\n",
       "      <td>0.229200</td>\n",
       "      <td>0.758953</td>\n",
       "      <td>1.000000</td>\n",
       "      <td>0.166141</td>\n",
       "      <td>0.341723</td>\n",
       "      <td>0.530142</td>\n",
       "      <td>0.570992</td>\n",
       "      <td>-0.024716</td>\n",
       "      <td>0.365773</td>\n",
       "      <td>0.037267</td>\n",
       "      <td>0.185094</td>\n",
       "      <td>0.174212</td>\n",
       "      <td>0.360080</td>\n",
       "      <td>-0.064747</td>\n",
       "    </tr>\n",
       "    <tr>\n",
       "      <th>takeons_z</th>\n",
       "      <td>0.255192</td>\n",
       "      <td>0.326823</td>\n",
       "      <td>0.140122</td>\n",
       "      <td>0.218567</td>\n",
       "      <td>0.376745</td>\n",
       "      <td>0.166141</td>\n",
       "      <td>1.000000</td>\n",
       "      <td>0.556736</td>\n",
       "      <td>0.355539</td>\n",
       "      <td>0.346418</td>\n",
       "      <td>-0.085423</td>\n",
       "      <td>0.180901</td>\n",
       "      <td>-0.084956</td>\n",
       "      <td>0.060591</td>\n",
       "      <td>0.283176</td>\n",
       "      <td>0.388347</td>\n",
       "      <td>-0.142038</td>\n",
       "    </tr>\n",
       "    <tr>\n",
       "      <th>progruns_z</th>\n",
       "      <td>0.222369</td>\n",
       "      <td>0.444577</td>\n",
       "      <td>0.297069</td>\n",
       "      <td>0.431615</td>\n",
       "      <td>0.598245</td>\n",
       "      <td>0.341723</td>\n",
       "      <td>0.556736</td>\n",
       "      <td>1.000000</td>\n",
       "      <td>0.532263</td>\n",
       "      <td>0.428862</td>\n",
       "      <td>-0.085868</td>\n",
       "      <td>0.285615</td>\n",
       "      <td>-0.012960</td>\n",
       "      <td>0.006578</td>\n",
       "      <td>0.245522</td>\n",
       "      <td>0.536335</td>\n",
       "      <td>-0.205195</td>\n",
       "    </tr>\n",
       "    <tr>\n",
       "      <th>tackles_z</th>\n",
       "      <td>0.282169</td>\n",
       "      <td>0.404363</td>\n",
       "      <td>0.211836</td>\n",
       "      <td>0.412840</td>\n",
       "      <td>0.752829</td>\n",
       "      <td>0.530142</td>\n",
       "      <td>0.355539</td>\n",
       "      <td>0.532263</td>\n",
       "      <td>1.000000</td>\n",
       "      <td>0.713066</td>\n",
       "      <td>-0.218520</td>\n",
       "      <td>0.275969</td>\n",
       "      <td>0.088975</td>\n",
       "      <td>-0.034909</td>\n",
       "      <td>0.280889</td>\n",
       "      <td>0.494683</td>\n",
       "      <td>-0.208077</td>\n",
       "    </tr>\n",
       "    <tr>\n",
       "      <th>interceptions_z</th>\n",
       "      <td>0.206740</td>\n",
       "      <td>0.312799</td>\n",
       "      <td>0.194399</td>\n",
       "      <td>0.316615</td>\n",
       "      <td>0.756645</td>\n",
       "      <td>0.570992</td>\n",
       "      <td>0.346418</td>\n",
       "      <td>0.428862</td>\n",
       "      <td>0.713066</td>\n",
       "      <td>1.000000</td>\n",
       "      <td>-0.120807</td>\n",
       "      <td>0.315882</td>\n",
       "      <td>0.024570</td>\n",
       "      <td>0.077634</td>\n",
       "      <td>0.318206</td>\n",
       "      <td>0.417294</td>\n",
       "      <td>-0.133610</td>\n",
       "    </tr>\n",
       "    <tr>\n",
       "      <th>clearances_z</th>\n",
       "      <td>-0.184332</td>\n",
       "      <td>-0.371703</td>\n",
       "      <td>-0.229981</td>\n",
       "      <td>-0.414226</td>\n",
       "      <td>-0.147760</td>\n",
       "      <td>-0.024716</td>\n",
       "      <td>-0.085423</td>\n",
       "      <td>-0.085868</td>\n",
       "      <td>-0.218520</td>\n",
       "      <td>-0.120807</td>\n",
       "      <td>1.000000</td>\n",
       "      <td>0.226142</td>\n",
       "      <td>0.228434</td>\n",
       "      <td>0.247453</td>\n",
       "      <td>0.085850</td>\n",
       "      <td>-0.398747</td>\n",
       "      <td>0.086504</td>\n",
       "    </tr>\n",
       "    <tr>\n",
       "      <th>blocks_z</th>\n",
       "      <td>0.026996</td>\n",
       "      <td>0.071581</td>\n",
       "      <td>0.028924</td>\n",
       "      <td>0.155176</td>\n",
       "      <td>0.390111</td>\n",
       "      <td>0.365773</td>\n",
       "      <td>0.180901</td>\n",
       "      <td>0.285615</td>\n",
       "      <td>0.275969</td>\n",
       "      <td>0.315882</td>\n",
       "      <td>0.226142</td>\n",
       "      <td>1.000000</td>\n",
       "      <td>0.034889</td>\n",
       "      <td>0.203925</td>\n",
       "      <td>0.115593</td>\n",
       "      <td>0.179664</td>\n",
       "      <td>-0.068276</td>\n",
       "    </tr>\n",
       "    <tr>\n",
       "      <th>aerials_z</th>\n",
       "      <td>0.067850</td>\n",
       "      <td>0.071565</td>\n",
       "      <td>0.250670</td>\n",
       "      <td>0.254825</td>\n",
       "      <td>-0.006369</td>\n",
       "      <td>0.037267</td>\n",
       "      <td>-0.084956</td>\n",
       "      <td>-0.012960</td>\n",
       "      <td>0.088975</td>\n",
       "      <td>0.024570</td>\n",
       "      <td>0.228434</td>\n",
       "      <td>0.034889</td>\n",
       "      <td>1.000000</td>\n",
       "      <td>0.072171</td>\n",
       "      <td>0.034491</td>\n",
       "      <td>0.156427</td>\n",
       "      <td>-0.038990</td>\n",
       "    </tr>\n",
       "    <tr>\n",
       "      <th>fouls_z</th>\n",
       "      <td>-0.131009</td>\n",
       "      <td>-0.076732</td>\n",
       "      <td>0.012239</td>\n",
       "      <td>-0.075628</td>\n",
       "      <td>0.022346</td>\n",
       "      <td>0.185094</td>\n",
       "      <td>0.060591</td>\n",
       "      <td>0.006578</td>\n",
       "      <td>-0.034909</td>\n",
       "      <td>0.077634</td>\n",
       "      <td>0.247453</td>\n",
       "      <td>0.203925</td>\n",
       "      <td>0.072171</td>\n",
       "      <td>1.000000</td>\n",
       "      <td>0.230236</td>\n",
       "      <td>-0.021517</td>\n",
       "      <td>0.128325</td>\n",
       "    </tr>\n",
       "    <tr>\n",
       "      <th>fouled_z</th>\n",
       "      <td>0.057890</td>\n",
       "      <td>0.171107</td>\n",
       "      <td>0.186503</td>\n",
       "      <td>0.157229</td>\n",
       "      <td>0.286547</td>\n",
       "      <td>0.174212</td>\n",
       "      <td>0.283176</td>\n",
       "      <td>0.245522</td>\n",
       "      <td>0.280889</td>\n",
       "      <td>0.318206</td>\n",
       "      <td>0.085850</td>\n",
       "      <td>0.115593</td>\n",
       "      <td>0.034491</td>\n",
       "      <td>0.230236</td>\n",
       "      <td>1.000000</td>\n",
       "      <td>0.240483</td>\n",
       "      <td>-0.084407</td>\n",
       "    </tr>\n",
       "    <tr>\n",
       "      <th>nsxg_z</th>\n",
       "      <td>0.381813</td>\n",
       "      <td>0.675152</td>\n",
       "      <td>0.666263</td>\n",
       "      <td>0.859053</td>\n",
       "      <td>0.504445</td>\n",
       "      <td>0.360080</td>\n",
       "      <td>0.388347</td>\n",
       "      <td>0.536335</td>\n",
       "      <td>0.494683</td>\n",
       "      <td>0.417294</td>\n",
       "      <td>-0.398747</td>\n",
       "      <td>0.179664</td>\n",
       "      <td>0.156427</td>\n",
       "      <td>-0.021517</td>\n",
       "      <td>0.240483</td>\n",
       "      <td>1.000000</td>\n",
       "      <td>-0.215094</td>\n",
       "    </tr>\n",
       "    <tr>\n",
       "      <th>results</th>\n",
       "      <td>-0.624897</td>\n",
       "      <td>-0.324822</td>\n",
       "      <td>0.018258</td>\n",
       "      <td>-0.210442</td>\n",
       "      <td>-0.149115</td>\n",
       "      <td>-0.064747</td>\n",
       "      <td>-0.142038</td>\n",
       "      <td>-0.205195</td>\n",
       "      <td>-0.208077</td>\n",
       "      <td>-0.133610</td>\n",
       "      <td>0.086504</td>\n",
       "      <td>-0.068276</td>\n",
       "      <td>-0.038990</td>\n",
       "      <td>0.128325</td>\n",
       "      <td>-0.084407</td>\n",
       "      <td>-0.215094</td>\n",
       "      <td>1.000000</td>\n",
       "    </tr>\n",
       "  </tbody>\n",
       "</table>\n",
       "</div>"
      ],
      "text/plain": [
       "                  goals_z      xg_z  crosses_z  boxtouches_z  passes_z  \\\n",
       "goals_z          1.000000  0.600918   0.089481      0.315985  0.210714   \n",
       "xg_z             0.600918  1.000000   0.418622      0.679897  0.362993   \n",
       "crosses_z        0.089481  0.418622   1.000000      0.649896  0.235295   \n",
       "boxtouches_z     0.315985  0.679897   0.649896      1.000000  0.384444   \n",
       "passes_z         0.210714  0.362993   0.235295      0.384444  1.000000   \n",
       "progpasses_z     0.068946  0.157812   0.247452      0.229200  0.758953   \n",
       "takeons_z        0.255192  0.326823   0.140122      0.218567  0.376745   \n",
       "progruns_z       0.222369  0.444577   0.297069      0.431615  0.598245   \n",
       "tackles_z        0.282169  0.404363   0.211836      0.412840  0.752829   \n",
       "interceptions_z  0.206740  0.312799   0.194399      0.316615  0.756645   \n",
       "clearances_z    -0.184332 -0.371703  -0.229981     -0.414226 -0.147760   \n",
       "blocks_z         0.026996  0.071581   0.028924      0.155176  0.390111   \n",
       "aerials_z        0.067850  0.071565   0.250670      0.254825 -0.006369   \n",
       "fouls_z         -0.131009 -0.076732   0.012239     -0.075628  0.022346   \n",
       "fouled_z         0.057890  0.171107   0.186503      0.157229  0.286547   \n",
       "nsxg_z           0.381813  0.675152   0.666263      0.859053  0.504445   \n",
       "results         -0.624897 -0.324822   0.018258     -0.210442 -0.149115   \n",
       "\n",
       "                 progpasses_z  takeons_z  progruns_z  tackles_z  \\\n",
       "goals_z              0.068946   0.255192    0.222369   0.282169   \n",
       "xg_z                 0.157812   0.326823    0.444577   0.404363   \n",
       "crosses_z            0.247452   0.140122    0.297069   0.211836   \n",
       "boxtouches_z         0.229200   0.218567    0.431615   0.412840   \n",
       "passes_z             0.758953   0.376745    0.598245   0.752829   \n",
       "progpasses_z         1.000000   0.166141    0.341723   0.530142   \n",
       "takeons_z            0.166141   1.000000    0.556736   0.355539   \n",
       "progruns_z           0.341723   0.556736    1.000000   0.532263   \n",
       "tackles_z            0.530142   0.355539    0.532263   1.000000   \n",
       "interceptions_z      0.570992   0.346418    0.428862   0.713066   \n",
       "clearances_z        -0.024716  -0.085423   -0.085868  -0.218520   \n",
       "blocks_z             0.365773   0.180901    0.285615   0.275969   \n",
       "aerials_z            0.037267  -0.084956   -0.012960   0.088975   \n",
       "fouls_z              0.185094   0.060591    0.006578  -0.034909   \n",
       "fouled_z             0.174212   0.283176    0.245522   0.280889   \n",
       "nsxg_z               0.360080   0.388347    0.536335   0.494683   \n",
       "results             -0.064747  -0.142038   -0.205195  -0.208077   \n",
       "\n",
       "                 interceptions_z  clearances_z  blocks_z  aerials_z   fouls_z  \\\n",
       "goals_z                 0.206740     -0.184332  0.026996   0.067850 -0.131009   \n",
       "xg_z                    0.312799     -0.371703  0.071581   0.071565 -0.076732   \n",
       "crosses_z               0.194399     -0.229981  0.028924   0.250670  0.012239   \n",
       "boxtouches_z            0.316615     -0.414226  0.155176   0.254825 -0.075628   \n",
       "passes_z                0.756645     -0.147760  0.390111  -0.006369  0.022346   \n",
       "progpasses_z            0.570992     -0.024716  0.365773   0.037267  0.185094   \n",
       "takeons_z               0.346418     -0.085423  0.180901  -0.084956  0.060591   \n",
       "progruns_z              0.428862     -0.085868  0.285615  -0.012960  0.006578   \n",
       "tackles_z               0.713066     -0.218520  0.275969   0.088975 -0.034909   \n",
       "interceptions_z         1.000000     -0.120807  0.315882   0.024570  0.077634   \n",
       "clearances_z           -0.120807      1.000000  0.226142   0.228434  0.247453   \n",
       "blocks_z                0.315882      0.226142  1.000000   0.034889  0.203925   \n",
       "aerials_z               0.024570      0.228434  0.034889   1.000000  0.072171   \n",
       "fouls_z                 0.077634      0.247453  0.203925   0.072171  1.000000   \n",
       "fouled_z                0.318206      0.085850  0.115593   0.034491  0.230236   \n",
       "nsxg_z                  0.417294     -0.398747  0.179664   0.156427 -0.021517   \n",
       "results                -0.133610      0.086504 -0.068276  -0.038990  0.128325   \n",
       "\n",
       "                 fouled_z    nsxg_z   results  \n",
       "goals_z          0.057890  0.381813 -0.624897  \n",
       "xg_z             0.171107  0.675152 -0.324822  \n",
       "crosses_z        0.186503  0.666263  0.018258  \n",
       "boxtouches_z     0.157229  0.859053 -0.210442  \n",
       "passes_z         0.286547  0.504445 -0.149115  \n",
       "progpasses_z     0.174212  0.360080 -0.064747  \n",
       "takeons_z        0.283176  0.388347 -0.142038  \n",
       "progruns_z       0.245522  0.536335 -0.205195  \n",
       "tackles_z        0.280889  0.494683 -0.208077  \n",
       "interceptions_z  0.318206  0.417294 -0.133610  \n",
       "clearances_z     0.085850 -0.398747  0.086504  \n",
       "blocks_z         0.115593  0.179664 -0.068276  \n",
       "aerials_z        0.034491  0.156427 -0.038990  \n",
       "fouls_z          0.230236 -0.021517  0.128325  \n",
       "fouled_z         1.000000  0.240483 -0.084407  \n",
       "nsxg_z           0.240483  1.000000 -0.215094  \n",
       "results         -0.084407 -0.215094  1.000000  "
      ]
     },
     "execution_count": 6,
     "metadata": {},
     "output_type": "execute_result"
    }
   ],
   "source": [
    "df.corr()"
   ]
  },
  {
   "cell_type": "code",
   "execution_count": 7,
   "metadata": {},
   "outputs": [
    {
     "data": {
      "text/html": [
       "<div>\n",
       "<style scoped>\n",
       "    .dataframe tbody tr th:only-of-type {\n",
       "        vertical-align: middle;\n",
       "    }\n",
       "\n",
       "    .dataframe tbody tr th {\n",
       "        vertical-align: top;\n",
       "    }\n",
       "\n",
       "    .dataframe thead th {\n",
       "        text-align: right;\n",
       "    }\n",
       "</style>\n",
       "<table border=\"1\" class=\"dataframe\">\n",
       "  <thead>\n",
       "    <tr style=\"text-align: right;\">\n",
       "      <th></th>\n",
       "      <th>count</th>\n",
       "      <th>mean</th>\n",
       "      <th>std</th>\n",
       "      <th>min</th>\n",
       "      <th>25%</th>\n",
       "      <th>50%</th>\n",
       "      <th>75%</th>\n",
       "      <th>max</th>\n",
       "    </tr>\n",
       "  </thead>\n",
       "  <tbody>\n",
       "    <tr>\n",
       "      <th>goals_z</th>\n",
       "      <td>192.0</td>\n",
       "      <td>0.157891</td>\n",
       "      <td>0.275301</td>\n",
       "      <td>-0.410000</td>\n",
       "      <td>-0.051923</td>\n",
       "      <td>0.132692</td>\n",
       "      <td>0.333654</td>\n",
       "      <td>0.881538</td>\n",
       "    </tr>\n",
       "    <tr>\n",
       "      <th>xg_z</th>\n",
       "      <td>192.0</td>\n",
       "      <td>0.180044</td>\n",
       "      <td>0.257052</td>\n",
       "      <td>-0.368462</td>\n",
       "      <td>-0.008077</td>\n",
       "      <td>0.168462</td>\n",
       "      <td>0.330192</td>\n",
       "      <td>1.015385</td>\n",
       "    </tr>\n",
       "    <tr>\n",
       "      <th>crosses_z</th>\n",
       "      <td>192.0</td>\n",
       "      <td>0.099628</td>\n",
       "      <td>0.238869</td>\n",
       "      <td>-0.493846</td>\n",
       "      <td>-0.066923</td>\n",
       "      <td>0.063846</td>\n",
       "      <td>0.271538</td>\n",
       "      <td>0.853846</td>\n",
       "    </tr>\n",
       "    <tr>\n",
       "      <th>boxtouches_z</th>\n",
       "      <td>192.0</td>\n",
       "      <td>0.189070</td>\n",
       "      <td>0.276806</td>\n",
       "      <td>-0.459231</td>\n",
       "      <td>-0.004808</td>\n",
       "      <td>0.178077</td>\n",
       "      <td>0.333462</td>\n",
       "      <td>1.153077</td>\n",
       "    </tr>\n",
       "    <tr>\n",
       "      <th>passes_z</th>\n",
       "      <td>192.0</td>\n",
       "      <td>0.076631</td>\n",
       "      <td>0.369420</td>\n",
       "      <td>-0.781538</td>\n",
       "      <td>-0.173269</td>\n",
       "      <td>0.047692</td>\n",
       "      <td>0.304038</td>\n",
       "      <td>1.410769</td>\n",
       "    </tr>\n",
       "    <tr>\n",
       "      <th>progpasses_z</th>\n",
       "      <td>192.0</td>\n",
       "      <td>-0.015922</td>\n",
       "      <td>0.256563</td>\n",
       "      <td>-0.649231</td>\n",
       "      <td>-0.192500</td>\n",
       "      <td>-0.031538</td>\n",
       "      <td>0.113462</td>\n",
       "      <td>0.873846</td>\n",
       "    </tr>\n",
       "    <tr>\n",
       "      <th>takeons_z</th>\n",
       "      <td>192.0</td>\n",
       "      <td>0.133184</td>\n",
       "      <td>0.292729</td>\n",
       "      <td>-0.473077</td>\n",
       "      <td>-0.075769</td>\n",
       "      <td>0.116538</td>\n",
       "      <td>0.314423</td>\n",
       "      <td>1.100769</td>\n",
       "    </tr>\n",
       "    <tr>\n",
       "      <th>progruns_z</th>\n",
       "      <td>192.0</td>\n",
       "      <td>0.107895</td>\n",
       "      <td>0.358625</td>\n",
       "      <td>-0.568462</td>\n",
       "      <td>-0.132308</td>\n",
       "      <td>0.064231</td>\n",
       "      <td>0.309231</td>\n",
       "      <td>1.432308</td>\n",
       "    </tr>\n",
       "    <tr>\n",
       "      <th>tackles_z</th>\n",
       "      <td>192.0</td>\n",
       "      <td>0.089486</td>\n",
       "      <td>0.383947</td>\n",
       "      <td>-0.722308</td>\n",
       "      <td>-0.167692</td>\n",
       "      <td>0.039615</td>\n",
       "      <td>0.304808</td>\n",
       "      <td>1.146154</td>\n",
       "    </tr>\n",
       "    <tr>\n",
       "      <th>interceptions_z</th>\n",
       "      <td>192.0</td>\n",
       "      <td>0.073664</td>\n",
       "      <td>0.404008</td>\n",
       "      <td>-0.649231</td>\n",
       "      <td>-0.220769</td>\n",
       "      <td>0.000769</td>\n",
       "      <td>0.302308</td>\n",
       "      <td>1.216154</td>\n",
       "    </tr>\n",
       "    <tr>\n",
       "      <th>clearances_z</th>\n",
       "      <td>192.0</td>\n",
       "      <td>-0.017327</td>\n",
       "      <td>0.243719</td>\n",
       "      <td>-0.614615</td>\n",
       "      <td>-0.184038</td>\n",
       "      <td>-0.031923</td>\n",
       "      <td>0.126154</td>\n",
       "      <td>0.754615</td>\n",
       "    </tr>\n",
       "    <tr>\n",
       "      <th>blocks_z</th>\n",
       "      <td>192.0</td>\n",
       "      <td>0.020776</td>\n",
       "      <td>0.295813</td>\n",
       "      <td>-0.462308</td>\n",
       "      <td>-0.207115</td>\n",
       "      <td>-0.014615</td>\n",
       "      <td>0.165385</td>\n",
       "      <td>0.997500</td>\n",
       "    </tr>\n",
       "    <tr>\n",
       "      <th>aerials_z</th>\n",
       "      <td>192.0</td>\n",
       "      <td>0.070186</td>\n",
       "      <td>0.255956</td>\n",
       "      <td>-0.473846</td>\n",
       "      <td>-0.109808</td>\n",
       "      <td>0.038077</td>\n",
       "      <td>0.266346</td>\n",
       "      <td>0.760769</td>\n",
       "    </tr>\n",
       "    <tr>\n",
       "      <th>fouls_z</th>\n",
       "      <td>192.0</td>\n",
       "      <td>0.093316</td>\n",
       "      <td>0.300395</td>\n",
       "      <td>-0.534615</td>\n",
       "      <td>-0.126346</td>\n",
       "      <td>0.084231</td>\n",
       "      <td>0.301923</td>\n",
       "      <td>1.035833</td>\n",
       "    </tr>\n",
       "    <tr>\n",
       "      <th>fouled_z</th>\n",
       "      <td>192.0</td>\n",
       "      <td>0.115325</td>\n",
       "      <td>0.257969</td>\n",
       "      <td>-0.578462</td>\n",
       "      <td>-0.051923</td>\n",
       "      <td>0.094231</td>\n",
       "      <td>0.300192</td>\n",
       "      <td>0.826923</td>\n",
       "    </tr>\n",
       "    <tr>\n",
       "      <th>nsxg_z</th>\n",
       "      <td>192.0</td>\n",
       "      <td>0.156525</td>\n",
       "      <td>0.302949</td>\n",
       "      <td>-0.552308</td>\n",
       "      <td>-0.045192</td>\n",
       "      <td>0.131923</td>\n",
       "      <td>0.306923</td>\n",
       "      <td>1.027692</td>\n",
       "    </tr>\n",
       "    <tr>\n",
       "      <th>results</th>\n",
       "      <td>192.0</td>\n",
       "      <td>13.822917</td>\n",
       "      <td>9.068090</td>\n",
       "      <td>1.000000</td>\n",
       "      <td>6.000000</td>\n",
       "      <td>12.000000</td>\n",
       "      <td>21.250000</td>\n",
       "      <td>32.000000</td>\n",
       "    </tr>\n",
       "  </tbody>\n",
       "</table>\n",
       "</div>"
      ],
      "text/plain": [
       "                 count       mean       std       min       25%        50%  \\\n",
       "goals_z          192.0   0.157891  0.275301 -0.410000 -0.051923   0.132692   \n",
       "xg_z             192.0   0.180044  0.257052 -0.368462 -0.008077   0.168462   \n",
       "crosses_z        192.0   0.099628  0.238869 -0.493846 -0.066923   0.063846   \n",
       "boxtouches_z     192.0   0.189070  0.276806 -0.459231 -0.004808   0.178077   \n",
       "passes_z         192.0   0.076631  0.369420 -0.781538 -0.173269   0.047692   \n",
       "progpasses_z     192.0  -0.015922  0.256563 -0.649231 -0.192500  -0.031538   \n",
       "takeons_z        192.0   0.133184  0.292729 -0.473077 -0.075769   0.116538   \n",
       "progruns_z       192.0   0.107895  0.358625 -0.568462 -0.132308   0.064231   \n",
       "tackles_z        192.0   0.089486  0.383947 -0.722308 -0.167692   0.039615   \n",
       "interceptions_z  192.0   0.073664  0.404008 -0.649231 -0.220769   0.000769   \n",
       "clearances_z     192.0  -0.017327  0.243719 -0.614615 -0.184038  -0.031923   \n",
       "blocks_z         192.0   0.020776  0.295813 -0.462308 -0.207115  -0.014615   \n",
       "aerials_z        192.0   0.070186  0.255956 -0.473846 -0.109808   0.038077   \n",
       "fouls_z          192.0   0.093316  0.300395 -0.534615 -0.126346   0.084231   \n",
       "fouled_z         192.0   0.115325  0.257969 -0.578462 -0.051923   0.094231   \n",
       "nsxg_z           192.0   0.156525  0.302949 -0.552308 -0.045192   0.131923   \n",
       "results          192.0  13.822917  9.068090  1.000000  6.000000  12.000000   \n",
       "\n",
       "                       75%        max  \n",
       "goals_z           0.333654   0.881538  \n",
       "xg_z              0.330192   1.015385  \n",
       "crosses_z         0.271538   0.853846  \n",
       "boxtouches_z      0.333462   1.153077  \n",
       "passes_z          0.304038   1.410769  \n",
       "progpasses_z      0.113462   0.873846  \n",
       "takeons_z         0.314423   1.100769  \n",
       "progruns_z        0.309231   1.432308  \n",
       "tackles_z         0.304808   1.146154  \n",
       "interceptions_z   0.302308   1.216154  \n",
       "clearances_z      0.126154   0.754615  \n",
       "blocks_z          0.165385   0.997500  \n",
       "aerials_z         0.266346   0.760769  \n",
       "fouls_z           0.301923   1.035833  \n",
       "fouled_z          0.300192   0.826923  \n",
       "nsxg_z            0.306923   1.027692  \n",
       "results          21.250000  32.000000  "
      ]
     },
     "execution_count": 7,
     "metadata": {},
     "output_type": "execute_result"
    }
   ],
   "source": [
    "df.describe().T"
   ]
  },
  {
   "cell_type": "code",
   "execution_count": 8,
   "metadata": {},
   "outputs": [
    {
     "data": {
      "image/png": "[encoded data removed]",
      "text/plain": [
       "<Figure size 432x288 with 2 Axes>"
      ]
     },
     "metadata": {
      "needs_background": "light"
     },
     "output_type": "display_data"
    }
   ],
   "source": [
    "sns.heatmap(df.corr());"
   ]
  },
  {
   "cell_type": "code",
   "execution_count": 9,
   "metadata": {},
   "outputs": [
    {
     "name": "stderr",
     "output_type": "stream",
     "text": [
      "/var/folders/j_/555m2zps099832fjh_m8jjnc0000gn/T/ipykernel_37692/2528632801.py:4: DeprecationWarning: `np.bool` is a deprecated alias for the builtin `bool`. To silence this warning, use `bool` by itself. Doing this will not modify any behavior and is safe. If you specifically wanted the numpy scalar type, use `np.bool_` here.\n",
      "Deprecated in NumPy 1.20; for more details and guidance: https://numpy.org/devdocs/release/1.20.0-notes.html#deprecations\n",
      "  mask = np.triu(np.ones_like(df.corr(), dtype=np.bool))\n"
     ]
    },
    {
     "data": {
      "image/png": "[encoded data removed]",
      "text/plain": [
       "<Figure size 1152x432 with 2 Axes>"
      ]
     },
     "metadata": {
      "needs_background": "light"
     },
     "output_type": "display_data"
    }
   ],
   "source": [
    "plt.figure(figsize=(16, 6))\n",
    "\n",
    "# define the mask to set the values in the upper triangle to True\n",
    "mask = np.triu(np.ones_like(df.corr(), dtype=np.bool))\n",
    "\n",
    "heatmap = sns.heatmap(df.corr(), mask=mask, vmin=-1, vmax=1, annot=True, cmap='BrBG')\n",
    "heatmap.set_title('Triangle Correlation Heatmap', fontdict={'fontsize':18}, pad=16);"
   ]
  },
  {
   "cell_type": "code",
   "execution_count": 10,
   "metadata": {},
   "outputs": [
    {
     "data": {
      "text/plain": [
       "<seaborn.axisgrid.JointGrid at 0x7fbe8dc0b8e0>"
      ]
     },
     "execution_count": 10,
     "metadata": {},
     "output_type": "execute_result"
    },
    {
     "data": {
      "image/png": "[encoded data removed]",
      "text/plain": [
       "<Figure size 432x432 with 3 Axes>"
      ]
     },
     "metadata": {
      "needs_background": "light"
     },
     "output_type": "display_data"
    }
   ],
   "source": [
    "sns.jointplot(x=df['results'],y=df['goals_z'],\n",
    "              joint_kws={'alpha':0.1,'s':5,'color':'red'},\n",
    "              marginal_kws={'color':'red'})"
   ]
  },
  {
   "cell_type": "code",
   "execution_count": 11,
   "metadata": {},
   "outputs": [],
   "source": [
    "y = df['results']\n"
   ]
  },
  {
   "cell_type": "code",
   "execution_count": 12,
   "metadata": {},
   "outputs": [],
   "source": [
    "X = df.drop(columns=['results'])"
   ]
  },
  {
   "cell_type": "code",
   "execution_count": 13,
   "metadata": {},
   "outputs": [
    {
     "data": {
      "text/html": [
       "<div>\n",
       "<style scoped>\n",
       "    .dataframe tbody tr th:only-of-type {\n",
       "        vertical-align: middle;\n",
       "    }\n",
       "\n",
       "    .dataframe tbody tr th {\n",
       "        vertical-align: top;\n",
       "    }\n",
       "\n",
       "    .dataframe thead th {\n",
       "        text-align: right;\n",
       "    }\n",
       "</style>\n",
       "<table border=\"1\" class=\"dataframe\">\n",
       "  <thead>\n",
       "    <tr style=\"text-align: right;\">\n",
       "      <th></th>\n",
       "      <th>goals_z</th>\n",
       "      <th>xg_z</th>\n",
       "      <th>crosses_z</th>\n",
       "      <th>boxtouches_z</th>\n",
       "      <th>passes_z</th>\n",
       "      <th>progpasses_z</th>\n",
       "      <th>takeons_z</th>\n",
       "      <th>progruns_z</th>\n",
       "      <th>tackles_z</th>\n",
       "      <th>interceptions_z</th>\n",
       "      <th>clearances_z</th>\n",
       "      <th>blocks_z</th>\n",
       "      <th>aerials_z</th>\n",
       "      <th>fouls_z</th>\n",
       "      <th>fouled_z</th>\n",
       "      <th>nsxg_z</th>\n",
       "    </tr>\n",
       "  </thead>\n",
       "  <tbody>\n",
       "    <tr>\n",
       "      <th>0</th>\n",
       "      <td>0.423077</td>\n",
       "      <td>0.146923</td>\n",
       "      <td>-0.136154</td>\n",
       "      <td>-0.030000</td>\n",
       "      <td>0.429231</td>\n",
       "      <td>0.037692</td>\n",
       "      <td>0.244615</td>\n",
       "      <td>-0.220000</td>\n",
       "      <td>0.216154</td>\n",
       "      <td>0.270000</td>\n",
       "      <td>-0.076923</td>\n",
       "      <td>-0.097692</td>\n",
       "      <td>-0.020000</td>\n",
       "      <td>-0.224615</td>\n",
       "      <td>0.100769</td>\n",
       "      <td>-0.124615</td>\n",
       "    </tr>\n",
       "    <tr>\n",
       "      <th>1</th>\n",
       "      <td>0.216923</td>\n",
       "      <td>0.348462</td>\n",
       "      <td>0.031538</td>\n",
       "      <td>0.158462</td>\n",
       "      <td>0.835385</td>\n",
       "      <td>0.626923</td>\n",
       "      <td>0.270000</td>\n",
       "      <td>0.266923</td>\n",
       "      <td>1.143846</td>\n",
       "      <td>0.834615</td>\n",
       "      <td>-0.059231</td>\n",
       "      <td>-0.134615</td>\n",
       "      <td>0.196923</td>\n",
       "      <td>-0.016923</td>\n",
       "      <td>0.033846</td>\n",
       "      <td>0.146923</td>\n",
       "    </tr>\n",
       "    <tr>\n",
       "      <th>2</th>\n",
       "      <td>0.113846</td>\n",
       "      <td>0.392308</td>\n",
       "      <td>0.599231</td>\n",
       "      <td>0.513846</td>\n",
       "      <td>0.833077</td>\n",
       "      <td>0.405385</td>\n",
       "      <td>0.521538</td>\n",
       "      <td>1.139231</td>\n",
       "      <td>1.109231</td>\n",
       "      <td>0.859231</td>\n",
       "      <td>0.084615</td>\n",
       "      <td>0.103077</td>\n",
       "      <td>0.683846</td>\n",
       "      <td>0.213846</td>\n",
       "      <td>0.353846</td>\n",
       "      <td>0.786923</td>\n",
       "    </tr>\n",
       "    <tr>\n",
       "      <th>3</th>\n",
       "      <td>0.479231</td>\n",
       "      <td>0.609231</td>\n",
       "      <td>0.227692</td>\n",
       "      <td>0.450769</td>\n",
       "      <td>0.770769</td>\n",
       "      <td>0.042308</td>\n",
       "      <td>0.337692</td>\n",
       "      <td>0.927692</td>\n",
       "      <td>0.506923</td>\n",
       "      <td>1.015385</td>\n",
       "      <td>0.020769</td>\n",
       "      <td>0.381538</td>\n",
       "      <td>0.038462</td>\n",
       "      <td>0.039231</td>\n",
       "      <td>0.022308</td>\n",
       "      <td>0.692308</td>\n",
       "    </tr>\n",
       "    <tr>\n",
       "      <th>4</th>\n",
       "      <td>0.877692</td>\n",
       "      <td>0.773846</td>\n",
       "      <td>0.428462</td>\n",
       "      <td>0.659231</td>\n",
       "      <td>0.754615</td>\n",
       "      <td>0.335385</td>\n",
       "      <td>0.023077</td>\n",
       "      <td>0.638462</td>\n",
       "      <td>0.493846</td>\n",
       "      <td>0.637692</td>\n",
       "      <td>-0.117692</td>\n",
       "      <td>-0.033846</td>\n",
       "      <td>0.572308</td>\n",
       "      <td>-0.016154</td>\n",
       "      <td>-0.096923</td>\n",
       "      <td>0.890769</td>\n",
       "    </tr>\n",
       "  </tbody>\n",
       "</table>\n",
       "</div>"
      ],
      "text/plain": [
       "    goals_z      xg_z  crosses_z  boxtouches_z  passes_z  progpasses_z  \\\n",
       "0  0.423077  0.146923  -0.136154     -0.030000  0.429231      0.037692   \n",
       "1  0.216923  0.348462   0.031538      0.158462  0.835385      0.626923   \n",
       "2  0.113846  0.392308   0.599231      0.513846  0.833077      0.405385   \n",
       "3  0.479231  0.609231   0.227692      0.450769  0.770769      0.042308   \n",
       "4  0.877692  0.773846   0.428462      0.659231  0.754615      0.335385   \n",
       "\n",
       "   takeons_z  progruns_z  tackles_z  interceptions_z  clearances_z  blocks_z  \\\n",
       "0   0.244615   -0.220000   0.216154         0.270000     -0.076923 -0.097692   \n",
       "1   0.270000    0.266923   1.143846         0.834615     -0.059231 -0.134615   \n",
       "2   0.521538    1.139231   1.109231         0.859231      0.084615  0.103077   \n",
       "3   0.337692    0.927692   0.506923         1.015385      0.020769  0.381538   \n",
       "4   0.023077    0.638462   0.493846         0.637692     -0.117692 -0.033846   \n",
       "\n",
       "   aerials_z   fouls_z  fouled_z    nsxg_z  \n",
       "0  -0.020000 -0.224615  0.100769 -0.124615  \n",
       "1   0.196923 -0.016923  0.033846  0.146923  \n",
       "2   0.683846  0.213846  0.353846  0.786923  \n",
       "3   0.038462  0.039231  0.022308  0.692308  \n",
       "4   0.572308 -0.016154 -0.096923  0.890769  "
      ]
     },
     "execution_count": 13,
     "metadata": {},
     "output_type": "execute_result"
    }
   ],
   "source": [
    "X.head()"
   ]
  },
  {
   "cell_type": "code",
   "execution_count": 14,
   "metadata": {},
   "outputs": [],
   "source": [
    "import matplotlib.pyplot as plt\n",
    "from scipy import stats\n"
   ]
  },
  {
   "cell_type": "code",
   "execution_count": 15,
   "metadata": {},
   "outputs": [
    {
     "data": {
      "image/png": "[encoded data removed]",
      "text/plain": [
       "<Figure size 1152x576 with 1 Axes>"
      ]
     },
     "metadata": {
      "needs_background": "light"
     },
     "output_type": "display_data"
    }
   ],
   "source": [
    "fig, ax = plt.subplots(figsize=(16,8))\n",
    "ax.scatter(df['results'], df['goals_z'])\n",
    "ax.set_xlabel('results')\n",
    "ax.set_ylabel('goals_z')\n",
    "plt.show()"
   ]
  },
  {
   "cell_type": "code",
   "execution_count": 16,
   "metadata": {},
   "outputs": [
    {
     "name": "stdout",
     "output_type": "stream",
     "text": [
      "      goals_z      xg_z  crosses_z  boxtouches_z  passes_z  progpasses_z  \\\n",
      "0    0.965775  0.129185   0.989657      0.793488  0.956965      0.209518   \n",
      "1    0.214988  0.656902   0.285795      0.110866  2.059277      2.512151   \n",
      "2    0.160406  0.827921   2.097003      1.176365  2.053014      1.646409   \n",
      "3    1.170281  1.674015   0.537529      0.947896  1.883909      0.227554   \n",
      "4    2.621429  2.316086   1.380227      1.702960  1.840067      1.372858   \n",
      "..        ...       ...        ...           ...       ...           ...   \n",
      "187  0.308882  0.366211   0.427859      0.177735  0.595791      1.619354   \n",
      "188  0.911193  1.434330   1.764551      1.682291  1.180852      0.689290   \n",
      "189  0.147753  0.456221   0.201742      0.509294  0.688152      0.400710   \n",
      "190  1.404248  0.822262   0.553780      0.782343  0.556626      0.594292   \n",
      "191  0.939208  1.248309   1.687062      0.379508  0.704854      0.283474   \n",
      "\n",
      "     takeons_z  progruns_z  tackles_z  interceptions_z  clearances_z  \\\n",
      "0     0.381657    0.916703   0.330773         0.487241      0.245169   \n",
      "1     0.468601    0.444597   2.753289         1.888430      0.172386   \n",
      "2     1.330134    2.883324   2.662896         1.949517      0.419371   \n",
      "3     0.700451    2.291922   1.090069         2.337039      0.156720   \n",
      "4     0.377124    1.483314   1.055921         1.399732      0.412886   \n",
      "..         ...         ...        ...              ...           ...   \n",
      "187   0.055696    1.333910   0.393044         0.017633      0.868727   \n",
      "188   0.701187    1.189823   0.370270         0.514971      2.602859   \n",
      "189   0.975192    0.488743   0.782057         0.929219      0.261147   \n",
      "190   0.988365    0.587668   0.188154         0.287803      1.542760   \n",
      "191   1.251831    1.164017   0.095753         0.837588      0.109253   \n",
      "\n",
      "     blocks_z  aerials_z   fouls_z  fouled_z    nsxg_z   results  \n",
      "0    0.401532   0.353272  1.061144  0.056571  0.930438  1.307202  \n",
      "1    0.526677   0.496446  0.367939  0.316673  0.031779  1.417767  \n",
      "2    0.278946   2.403792  0.402289  0.927029  2.086307  0.533246  \n",
      "3    1.222751   0.124270  0.180517  0.361518  1.773177  0.975507  \n",
      "4    0.185135   1.966881  0.365371  0.824916  2.429987  0.975507  \n",
      "..        ...        ...       ...       ...       ...       ...  \n",
      "187  0.789956   2.262173  0.689841  2.508564  0.805781  0.090986  \n",
      "188  2.205664   0.065560  0.686300  0.675433  1.551608  0.019579  \n",
      "189  0.054775   1.382322  0.254972  0.666464  0.087786  0.240709  \n",
      "190  0.106919   1.132228  0.735081  0.409352  1.052636  0.461840  \n",
      "191  0.578821   0.469327  0.125007  0.167654  1.134101  0.643811  \n",
      "\n",
      "[192 rows x 17 columns]\n"
     ]
    }
   ],
   "source": [
    "z = np.abs(stats.zscore(df))\n",
    "print(z)"
   ]
  },
  {
   "cell_type": "code",
   "execution_count": 17,
   "metadata": {},
   "outputs": [
    {
     "data": {
      "text/plain": [
       "<AxesSubplot:>"
      ]
     },
     "execution_count": 17,
     "metadata": {},
     "output_type": "execute_result"
    },
    {
     "data": {
      "image/png": "[encoded data removed]",
      "text/plain": [
       "<Figure size 432x288 with 1 Axes>"
      ]
     },
     "metadata": {
      "needs_background": "light"
     },
     "output_type": "display_data"
    }
   ],
   "source": [
    "z.plot()"
   ]
  },
  {
   "cell_type": "code",
   "execution_count": 18,
   "metadata": {},
   "outputs": [
    {
     "data": {
      "text/plain": [
       "<AxesSubplot:>"
      ]
     },
     "execution_count": 18,
     "metadata": {},
     "output_type": "execute_result"
    },
    {
     "data": {
      "image/png": "[encoded data removed]",
      "text/plain": [
       "<Figure size 432x288 with 1 Axes>"
      ]
     },
     "metadata": {
      "needs_background": "light"
     },
     "output_type": "display_data"
    }
   ],
   "source": [
    "z.goals_z.plot()"
   ]
  },
  {
   "cell_type": "code",
   "execution_count": 19,
   "metadata": {},
   "outputs": [
    {
     "data": {
      "text/html": [
       "<div>\n",
       "<style scoped>\n",
       "    .dataframe tbody tr th:only-of-type {\n",
       "        vertical-align: middle;\n",
       "    }\n",
       "\n",
       "    .dataframe tbody tr th {\n",
       "        vertical-align: top;\n",
       "    }\n",
       "\n",
       "    .dataframe thead th {\n",
       "        text-align: right;\n",
       "    }\n",
       "</style>\n",
       "<table border=\"1\" class=\"dataframe\">\n",
       "  <thead>\n",
       "    <tr style=\"text-align: right;\">\n",
       "      <th></th>\n",
       "      <th>count</th>\n",
       "      <th>mean</th>\n",
       "      <th>std</th>\n",
       "      <th>min</th>\n",
       "      <th>25%</th>\n",
       "      <th>50%</th>\n",
       "      <th>75%</th>\n",
       "      <th>max</th>\n",
       "    </tr>\n",
       "  </thead>\n",
       "  <tbody>\n",
       "    <tr>\n",
       "      <th>goals_z</th>\n",
       "      <td>192.0</td>\n",
       "      <td>0.807480</td>\n",
       "      <td>0.591437</td>\n",
       "      <td>0.002078</td>\n",
       "      <td>0.304295</td>\n",
       "      <td>0.738904</td>\n",
       "      <td>1.147530</td>\n",
       "      <td>2.635437</td>\n",
       "    </tr>\n",
       "    <tr>\n",
       "      <th>xg_z</th>\n",
       "      <td>192.0</td>\n",
       "      <td>0.792020</td>\n",
       "      <td>0.612091</td>\n",
       "      <td>0.000171</td>\n",
       "      <td>0.296862</td>\n",
       "      <td>0.685747</td>\n",
       "      <td>1.165050</td>\n",
       "      <td>3.258191</td>\n",
       "    </tr>\n",
       "    <tr>\n",
       "      <th>crosses_z</th>\n",
       "      <td>192.0</td>\n",
       "      <td>0.808596</td>\n",
       "      <td>0.589903</td>\n",
       "      <td>0.001561</td>\n",
       "      <td>0.326882</td>\n",
       "      <td>0.705476</td>\n",
       "      <td>1.142135</td>\n",
       "      <td>3.165711</td>\n",
       "    </tr>\n",
       "    <tr>\n",
       "      <th>boxtouches_z</th>\n",
       "      <td>192.0</td>\n",
       "      <td>0.775033</td>\n",
       "      <td>0.633573</td>\n",
       "      <td>0.000583</td>\n",
       "      <td>0.290577</td>\n",
       "      <td>0.620743</td>\n",
       "      <td>1.120868</td>\n",
       "      <td>3.491709</td>\n",
       "    </tr>\n",
       "    <tr>\n",
       "      <th>passes_z</th>\n",
       "      <td>192.0</td>\n",
       "      <td>0.774288</td>\n",
       "      <td>0.634488</td>\n",
       "      <td>0.004968</td>\n",
       "      <td>0.302071</td>\n",
       "      <td>0.653454</td>\n",
       "      <td>1.100104</td>\n",
       "      <td>3.620885</td>\n",
       "    </tr>\n",
       "    <tr>\n",
       "      <th>progpasses_z</th>\n",
       "      <td>192.0</td>\n",
       "      <td>0.766828</td>\n",
       "      <td>0.643531</td>\n",
       "      <td>0.002101</td>\n",
       "      <td>0.284370</td>\n",
       "      <td>0.616240</td>\n",
       "      <td>1.141248</td>\n",
       "      <td>3.477092</td>\n",
       "    </tr>\n",
       "    <tr>\n",
       "      <th>takeons_z</th>\n",
       "      <td>192.0</td>\n",
       "      <td>0.788927</td>\n",
       "      <td>0.616093</td>\n",
       "      <td>0.004901</td>\n",
       "      <td>0.280301</td>\n",
       "      <td>0.689912</td>\n",
       "      <td>1.153031</td>\n",
       "      <td>3.314032</td>\n",
       "    </tr>\n",
       "    <tr>\n",
       "      <th>progruns_z</th>\n",
       "      <td>192.0</td>\n",
       "      <td>0.780272</td>\n",
       "      <td>0.627076</td>\n",
       "      <td>0.003734</td>\n",
       "      <td>0.281976</td>\n",
       "      <td>0.630679</td>\n",
       "      <td>1.136851</td>\n",
       "      <td>3.702684</td>\n",
       "    </tr>\n",
       "    <tr>\n",
       "      <th>tackles_z</th>\n",
       "      <td>192.0</td>\n",
       "      <td>0.786765</td>\n",
       "      <td>0.618867</td>\n",
       "      <td>0.019422</td>\n",
       "      <td>0.313021</td>\n",
       "      <td>0.644460</td>\n",
       "      <td>1.121530</td>\n",
       "      <td>2.759315</td>\n",
       "    </tr>\n",
       "    <tr>\n",
       "      <th>interceptions_z</th>\n",
       "      <td>192.0</td>\n",
       "      <td>0.792358</td>\n",
       "      <td>0.611651</td>\n",
       "      <td>0.000452</td>\n",
       "      <td>0.349594</td>\n",
       "      <td>0.674321</td>\n",
       "      <td>1.055639</td>\n",
       "      <td>2.835282</td>\n",
       "    </tr>\n",
       "    <tr>\n",
       "      <th>clearances_z</th>\n",
       "      <td>192.0</td>\n",
       "      <td>0.804554</td>\n",
       "      <td>0.595432</td>\n",
       "      <td>0.029984</td>\n",
       "      <td>0.341685</td>\n",
       "      <td>0.647213</td>\n",
       "      <td>1.152699</td>\n",
       "      <td>3.175629</td>\n",
       "    </tr>\n",
       "    <tr>\n",
       "      <th>blocks_z</th>\n",
       "      <td>192.0</td>\n",
       "      <td>0.768661</td>\n",
       "      <td>0.641329</td>\n",
       "      <td>0.002583</td>\n",
       "      <td>0.296557</td>\n",
       "      <td>0.587923</td>\n",
       "      <td>1.037676</td>\n",
       "      <td>3.310463</td>\n",
       "    </tr>\n",
       "    <tr>\n",
       "      <th>aerials_z</th>\n",
       "      <td>192.0</td>\n",
       "      <td>0.808370</td>\n",
       "      <td>0.590213</td>\n",
       "      <td>0.000730</td>\n",
       "      <td>0.311088</td>\n",
       "      <td>0.741973</td>\n",
       "      <td>1.192445</td>\n",
       "      <td>2.705111</td>\n",
       "    </tr>\n",
       "    <tr>\n",
       "      <th>fouls_z</th>\n",
       "      <td>192.0</td>\n",
       "      <td>0.810374</td>\n",
       "      <td>0.587445</td>\n",
       "      <td>0.004338</td>\n",
       "      <td>0.360325</td>\n",
       "      <td>0.732513</td>\n",
       "      <td>1.136972</td>\n",
       "      <td>3.145799</td>\n",
       "    </tr>\n",
       "    <tr>\n",
       "      <th>fouled_z</th>\n",
       "      <td>192.0</td>\n",
       "      <td>0.807275</td>\n",
       "      <td>0.591718</td>\n",
       "      <td>0.003222</td>\n",
       "      <td>0.303219</td>\n",
       "      <td>0.684402</td>\n",
       "      <td>1.221163</td>\n",
       "      <td>2.765675</td>\n",
       "    </tr>\n",
       "    <tr>\n",
       "      <th>nsxg_z</th>\n",
       "      <td>192.0</td>\n",
       "      <td>0.773559</td>\n",
       "      <td>0.635381</td>\n",
       "      <td>0.006408</td>\n",
       "      <td>0.260125</td>\n",
       "      <td>0.635128</td>\n",
       "      <td>1.076270</td>\n",
       "      <td>2.883135</td>\n",
       "    </tr>\n",
       "    <tr>\n",
       "      <th>results</th>\n",
       "      <td>192.0</td>\n",
       "      <td>0.860263</td>\n",
       "      <td>0.511184</td>\n",
       "      <td>0.019579</td>\n",
       "      <td>0.422681</td>\n",
       "      <td>0.864942</td>\n",
       "      <td>1.253647</td>\n",
       "      <td>2.009751</td>\n",
       "    </tr>\n",
       "  </tbody>\n",
       "</table>\n",
       "</div>"
      ],
      "text/plain": [
       "                 count      mean       std       min       25%       50%  \\\n",
       "goals_z          192.0  0.807480  0.591437  0.002078  0.304295  0.738904   \n",
       "xg_z             192.0  0.792020  0.612091  0.000171  0.296862  0.685747   \n",
       "crosses_z        192.0  0.808596  0.589903  0.001561  0.326882  0.705476   \n",
       "boxtouches_z     192.0  0.775033  0.633573  0.000583  0.290577  0.620743   \n",
       "passes_z         192.0  0.774288  0.634488  0.004968  0.302071  0.653454   \n",
       "progpasses_z     192.0  0.766828  0.643531  0.002101  0.284370  0.616240   \n",
       "takeons_z        192.0  0.788927  0.616093  0.004901  0.280301  0.689912   \n",
       "progruns_z       192.0  0.780272  0.627076  0.003734  0.281976  0.630679   \n",
       "tackles_z        192.0  0.786765  0.618867  0.019422  0.313021  0.644460   \n",
       "interceptions_z  192.0  0.792358  0.611651  0.000452  0.349594  0.674321   \n",
       "clearances_z     192.0  0.804554  0.595432  0.029984  0.341685  0.647213   \n",
       "blocks_z         192.0  0.768661  0.641329  0.002583  0.296557  0.587923   \n",
       "aerials_z        192.0  0.808370  0.590213  0.000730  0.311088  0.741973   \n",
       "fouls_z          192.0  0.810374  0.587445  0.004338  0.360325  0.732513   \n",
       "fouled_z         192.0  0.807275  0.591718  0.003222  0.303219  0.684402   \n",
       "nsxg_z           192.0  0.773559  0.635381  0.006408  0.260125  0.635128   \n",
       "results          192.0  0.860263  0.511184  0.019579  0.422681  0.864942   \n",
       "\n",
       "                      75%       max  \n",
       "goals_z          1.147530  2.635437  \n",
       "xg_z             1.165050  3.258191  \n",
       "crosses_z        1.142135  3.165711  \n",
       "boxtouches_z     1.120868  3.491709  \n",
       "passes_z         1.100104  3.620885  \n",
       "progpasses_z     1.141248  3.477092  \n",
       "takeons_z        1.153031  3.314032  \n",
       "progruns_z       1.136851  3.702684  \n",
       "tackles_z        1.121530  2.759315  \n",
       "interceptions_z  1.055639  2.835282  \n",
       "clearances_z     1.152699  3.175629  \n",
       "blocks_z         1.037676  3.310463  \n",
       "aerials_z        1.192445  2.705111  \n",
       "fouls_z          1.136972  3.145799  \n",
       "fouled_z         1.221163  2.765675  \n",
       "nsxg_z           1.076270  2.883135  \n",
       "results          1.253647  2.009751  "
      ]
     },
     "execution_count": 19,
     "metadata": {},
     "output_type": "execute_result"
    }
   ],
   "source": [
    "z.describe().T"
   ]
  },
  {
   "cell_type": "code",
   "execution_count": 20,
   "metadata": {},
   "outputs": [
    {
     "name": "stdout",
     "output_type": "stream",
     "text": [
      "(array([  1,   2,  21,  21,  22,  22,  23,  24,  33,  37,  37,  37,  46,\n",
      "        50,  71,  75,  80,  91,  93, 121, 139, 139, 145, 146, 146, 156,\n",
      "       156, 156, 182, 183, 183]), array([ 8,  7,  1,  9,  4,  7,  8,  4,  6,  3,  7, 15, 12, 11, 11,  3, 11,\n",
      "        2, 10,  2, 11, 13, 10,  5, 11,  6, 14, 15,  5,  4,  9]))\n"
     ]
    }
   ],
   "source": [
    "threshold = 2.7\n",
    "print(np.where(z > 2.7))"
   ]
  },
  {
   "cell_type": "code",
   "execution_count": 21,
   "metadata": {},
   "outputs": [
    {
     "name": "stdout",
     "output_type": "stream",
     "text": [
      "goals_z             0.385577\n",
      "xg_z                0.338269\n",
      "crosses_z           0.338462\n",
      "boxtouches_z        0.338269\n",
      "passes_z            0.477308\n",
      "progpasses_z        0.305962\n",
      "takeons_z           0.390192\n",
      "progruns_z          0.441538\n",
      "tackles_z           0.472500\n",
      "interceptions_z     0.523077\n",
      "clearances_z        0.310192\n",
      "blocks_z            0.372500\n",
      "aerials_z           0.376154\n",
      "fouls_z             0.428269\n",
      "fouled_z            0.352115\n",
      "nsxg_z              0.352115\n",
      "results            15.250000\n",
      "dtype: float64\n"
     ]
    }
   ],
   "source": [
    "Q1 = df.quantile(0.25)\n",
    "Q3 = df.quantile(0.75)\n",
    "IQR = Q3 - Q1\n",
    "print(IQR)"
   ]
  },
  {
   "cell_type": "code",
   "execution_count": 22,
   "metadata": {},
   "outputs": [],
   "source": [
    "# print(df < (Q1 - 1.5 * IQR)) |(df > (Q3 + 1.5 * IQR))"
   ]
  },
  {
   "cell_type": "code",
   "execution_count": 23,
   "metadata": {},
   "outputs": [
    {
     "data": {
      "text/plain": [
       "goals_z            0\n",
       "xg_z               0\n",
       "crosses_z          0\n",
       "boxtouches_z       0\n",
       "passes_z           0\n",
       "progpasses_z       0\n",
       "takeons_z          0\n",
       "progruns_z         0\n",
       "tackles_z          0\n",
       "interceptions_z    0\n",
       "clearances_z       0\n",
       "blocks_z           0\n",
       "aerials_z          0\n",
       "fouls_z            0\n",
       "fouled_z           0\n",
       "nsxg_z             0\n",
       "results            0\n",
       "dtype: int64"
      ]
     },
     "execution_count": 23,
     "metadata": {},
     "output_type": "execute_result"
    }
   ],
   "source": [
    "df.isnull().sum()"
   ]
  },
  {
   "cell_type": "code",
   "execution_count": 24,
   "metadata": {},
   "outputs": [],
   "source": [
    "df_z = df[(z < 3).all(axis=1)]"
   ]
  },
  {
   "cell_type": "code",
   "execution_count": 25,
   "metadata": {},
   "outputs": [
    {
     "data": {
      "text/plain": [
       "(180, 17)"
      ]
     },
     "execution_count": 25,
     "metadata": {},
     "output_type": "execute_result"
    }
   ],
   "source": [
    "df_z.shape"
   ]
  },
  {
   "cell_type": "code",
   "execution_count": 26,
   "metadata": {},
   "outputs": [
    {
     "data": {
      "text/plain": [
       "(192, 17)"
      ]
     },
     "execution_count": 26,
     "metadata": {},
     "output_type": "execute_result"
    }
   ],
   "source": [
    "df.shape"
   ]
  },
  {
   "cell_type": "code",
   "execution_count": null,
   "metadata": {},
   "outputs": [],
   "source": []
  },
  {
   "cell_type": "code",
   "execution_count": 27,
   "metadata": {},
   "outputs": [
    {
     "data": {
      "image/png": "[encoded data removed]",
      "text/plain": [
       "<Figure size 1152x576 with 1 Axes>"
      ]
     },
     "metadata": {
      "needs_background": "light"
     },
     "output_type": "display_data"
    }
   ],
   "source": [
    "fig, ax = plt.subplots(figsize=(16,8))\n",
    "ax.scatter(df_z['results'], df_z['goals_z'])\n",
    "ax.set_xlabel('results')\n",
    "ax.set_ylabel('goals_z')\n",
    "plt.show()"
   ]
  },
  {
   "cell_type": "code",
   "execution_count": 28,
   "metadata": {},
   "outputs": [],
   "source": [
    "# df_z.to_csv('wc-wo-outliers.csv', index=False)"
   ]
  },
  {
   "cell_type": "code",
   "execution_count": null,
   "metadata": {},
   "outputs": [],
   "source": []
  },
  {
   "cell_type": "code",
   "execution_count": 28,
   "metadata": {},
   "outputs": [],
   "source": [
    "from sklearn.metrics import mean_absolute_percentage_error\n",
    "from sklearn.linear_model import LinearRegression"
   ]
  },
  {
   "cell_type": "code",
   "execution_count": 29,
   "metadata": {},
   "outputs": [],
   "source": [
    "from sklearn.linear_model import LinearRegression"
   ]
  },
  {
   "cell_type": "code",
   "execution_count": 30,
   "metadata": {},
   "outputs": [],
   "source": [
    "y = df_z['results']"
   ]
  },
  {
   "cell_type": "code",
   "execution_count": 31,
   "metadata": {},
   "outputs": [],
   "source": [
    "X = df_z.drop(columns=['results'])"
   ]
  },
  {
   "cell_type": "code",
   "execution_count": 32,
   "metadata": {},
   "outputs": [],
   "source": [
    "X_train, X_test, y_train, y_test = train_test_split(\n",
    "     X, y, test_size=0.20, random_state=1)"
   ]
  },
  {
   "cell_type": "code",
   "execution_count": 33,
   "metadata": {},
   "outputs": [],
   "source": [
    "reg = LinearRegression().fit(X_train, y_train)"
   ]
  },
  {
   "cell_type": "code",
   "execution_count": 34,
   "metadata": {},
   "outputs": [],
   "source": [
    "predictions = reg.predict(X_test)"
   ]
  },
  {
   "cell_type": "code",
   "execution_count": 35,
   "metadata": {},
   "outputs": [
    {
     "name": "stdout",
     "output_type": "stream",
     "text": [
      "LINEAR REGRESSION\n",
      "r2 score: 0.45878960350087705\n",
      "RMSE : 6.5489054539688025\n",
      "MSE: 42.88816264502233\n",
      "MAE: 5.441647295277558\n",
      "MAPE: 0.8581266877876318\n"
     ]
    }
   ],
   "source": [
    "#Finding the r2 score and root mean squared error\n",
    "from sklearn.metrics import r2_score, mean_squared_error\n",
    "from sklearn.metrics import mean_absolute_error\n",
    "from sklearn.metrics import mean_squared_error\n",
    "import math\n",
    "\n",
    "print('LINEAR REGRESSION')\n",
    "print('r2 score: '+str(r2_score(y_test, predictions)))\n",
    "print('RMSE : '+str(np.sqrt(mean_squared_error(y_test, predictions))))\n",
    "print('MSE: '+str(mean_squared_error(y_test, predictions)))\n",
    "print('MAE: '+str(mean_absolute_error(y_test, predictions)))\n",
    "print('MAPE: '+str(mean_absolute_percentage_error(y_test, predictions)))"
   ]
  },
  {
   "cell_type": "markdown",
   "metadata": {},
   "source": [
    "# 46%"
   ]
  },
  {
   "cell_type": "code",
   "execution_count": 36,
   "metadata": {},
   "outputs": [],
   "source": [
    "import eli5\n",
    "from eli5.sklearn import PermutationImportance"
   ]
  },
  {
   "cell_type": "code",
   "execution_count": 37,
   "metadata": {},
   "outputs": [
    {
     "data": {
      "text/html": [
       "\n",
       "    <style>\n",
       "    table.eli5-weights tr:hover {\n",
       "        filter: brightness(85%);\n",
       "    }\n",
       "</style>\n",
       "\n",
       "\n",
       "\n",
       "    \n",
       "\n",
       "    \n",
       "\n",
       "    \n",
       "\n",
       "    \n",
       "\n",
       "    \n",
       "\n",
       "    \n",
       "\n",
       "\n",
       "    \n",
       "\n",
       "    \n",
       "\n",
       "    \n",
       "\n",
       "    \n",
       "\n",
       "    \n",
       "\n",
       "    \n",
       "\n",
       "\n",
       "    \n",
       "\n",
       "    \n",
       "\n",
       "    \n",
       "\n",
       "    \n",
       "\n",
       "    \n",
       "        <table class=\"eli5-weights eli5-feature-importances\" style=\"border-collapse: collapse; border: none; margin-top: 0em; table-layout: auto;\">\n",
       "    <thead>\n",
       "    <tr style=\"border: none;\">\n",
       "        <th style=\"padding: 0 1em 0 0.5em; text-align: right; border: none;\">Weight</th>\n",
       "        <th style=\"padding: 0 0.5em 0 0.5em; text-align: left; border: none;\">Feature</th>\n",
       "    </tr>\n",
       "    </thead>\n",
       "    <tbody>\n",
       "    \n",
       "        <tr style=\"background-color: hsl(120, 100.00%, 80.00%); border: none;\">\n",
       "            <td style=\"padding: 0 1em 0 0.5em; text-align: right; border: none;\">\n",
       "                1.1527\n",
       "                \n",
       "                    &plusmn; 0.8367\n",
       "                \n",
       "            </td>\n",
       "            <td style=\"padding: 0 0.5em 0 0.5em; text-align: left; border: none;\">\n",
       "                goals_z\n",
       "            </td>\n",
       "        </tr>\n",
       "    \n",
       "        <tr style=\"background-color: hsl(120, 100.00%, 97.76%); border: none;\">\n",
       "            <td style=\"padding: 0 1em 0 0.5em; text-align: right; border: none;\">\n",
       "                0.0505\n",
       "                \n",
       "                    &plusmn; 0.0605\n",
       "                \n",
       "            </td>\n",
       "            <td style=\"padding: 0 0.5em 0 0.5em; text-align: left; border: none;\">\n",
       "                progpasses_z\n",
       "            </td>\n",
       "        </tr>\n",
       "    \n",
       "        <tr style=\"background-color: hsl(120, 100.00%, 97.90%); border: none;\">\n",
       "            <td style=\"padding: 0 1em 0 0.5em; text-align: right; border: none;\">\n",
       "                0.0460\n",
       "                \n",
       "                    &plusmn; 0.0300\n",
       "                \n",
       "            </td>\n",
       "            <td style=\"padding: 0 0.5em 0 0.5em; text-align: left; border: none;\">\n",
       "                tackles_z\n",
       "            </td>\n",
       "        </tr>\n",
       "    \n",
       "        <tr style=\"background-color: hsl(120, 100.00%, 98.23%); border: none;\">\n",
       "            <td style=\"padding: 0 1em 0 0.5em; text-align: right; border: none;\">\n",
       "                0.0361\n",
       "                \n",
       "                    &plusmn; 0.0872\n",
       "                \n",
       "            </td>\n",
       "            <td style=\"padding: 0 0.5em 0 0.5em; text-align: left; border: none;\">\n",
       "                xg_z\n",
       "            </td>\n",
       "        </tr>\n",
       "    \n",
       "        <tr style=\"background-color: hsl(120, 100.00%, 98.55%); border: none;\">\n",
       "            <td style=\"padding: 0 1em 0 0.5em; text-align: right; border: none;\">\n",
       "                0.0270\n",
       "                \n",
       "                    &plusmn; 0.0838\n",
       "                \n",
       "            </td>\n",
       "            <td style=\"padding: 0 0.5em 0 0.5em; text-align: left; border: none;\">\n",
       "                boxtouches_z\n",
       "            </td>\n",
       "        </tr>\n",
       "    \n",
       "        <tr style=\"background-color: hsl(120, 100.00%, 98.79%); border: none;\">\n",
       "            <td style=\"padding: 0 1em 0 0.5em; text-align: right; border: none;\">\n",
       "                0.0209\n",
       "                \n",
       "                    &plusmn; 0.0180\n",
       "                \n",
       "            </td>\n",
       "            <td style=\"padding: 0 0.5em 0 0.5em; text-align: left; border: none;\">\n",
       "                progruns_z\n",
       "            </td>\n",
       "        </tr>\n",
       "    \n",
       "        <tr style=\"background-color: hsl(120, 100.00%, 98.92%); border: none;\">\n",
       "            <td style=\"padding: 0 1em 0 0.5em; text-align: right; border: none;\">\n",
       "                0.0179\n",
       "                \n",
       "                    &plusmn; 0.0143\n",
       "                \n",
       "            </td>\n",
       "            <td style=\"padding: 0 0.5em 0 0.5em; text-align: left; border: none;\">\n",
       "                interceptions_z\n",
       "            </td>\n",
       "        </tr>\n",
       "    \n",
       "        <tr style=\"background-color: hsl(120, 100.00%, 98.92%); border: none;\">\n",
       "            <td style=\"padding: 0 1em 0 0.5em; text-align: right; border: none;\">\n",
       "                0.0177\n",
       "                \n",
       "                    &plusmn; 0.0737\n",
       "                \n",
       "            </td>\n",
       "            <td style=\"padding: 0 0.5em 0 0.5em; text-align: left; border: none;\">\n",
       "                nsxg_z\n",
       "            </td>\n",
       "        </tr>\n",
       "    \n",
       "        <tr style=\"background-color: hsl(120, 100.00%, 99.13%); border: none;\">\n",
       "            <td style=\"padding: 0 1em 0 0.5em; text-align: right; border: none;\">\n",
       "                0.0130\n",
       "                \n",
       "                    &plusmn; 0.0250\n",
       "                \n",
       "            </td>\n",
       "            <td style=\"padding: 0 0.5em 0 0.5em; text-align: left; border: none;\">\n",
       "                fouls_z\n",
       "            </td>\n",
       "        </tr>\n",
       "    \n",
       "        <tr style=\"background-color: hsl(120, 100.00%, 99.27%); border: none;\">\n",
       "            <td style=\"padding: 0 1em 0 0.5em; text-align: right; border: none;\">\n",
       "                0.0102\n",
       "                \n",
       "                    &plusmn; 0.0757\n",
       "                \n",
       "            </td>\n",
       "            <td style=\"padding: 0 0.5em 0 0.5em; text-align: left; border: none;\">\n",
       "                passes_z\n",
       "            </td>\n",
       "        </tr>\n",
       "    \n",
       "        <tr style=\"background-color: hsl(120, 100.00%, 99.66%); border: none;\">\n",
       "            <td style=\"padding: 0 1em 0 0.5em; text-align: right; border: none;\">\n",
       "                0.0034\n",
       "                \n",
       "                    &plusmn; 0.0076\n",
       "                \n",
       "            </td>\n",
       "            <td style=\"padding: 0 0.5em 0 0.5em; text-align: left; border: none;\">\n",
       "                fouled_z\n",
       "            </td>\n",
       "        </tr>\n",
       "    \n",
       "        <tr style=\"background-color: hsl(120, 100.00%, 99.79%); border: none;\">\n",
       "            <td style=\"padding: 0 1em 0 0.5em; text-align: right; border: none;\">\n",
       "                0.0017\n",
       "                \n",
       "                    &plusmn; 0.0310\n",
       "                \n",
       "            </td>\n",
       "            <td style=\"padding: 0 0.5em 0 0.5em; text-align: left; border: none;\">\n",
       "                takeons_z\n",
       "            </td>\n",
       "        </tr>\n",
       "    \n",
       "        <tr style=\"background-color: hsl(0, 100.00%, 99.83%); border: none;\">\n",
       "            <td style=\"padding: 0 1em 0 0.5em; text-align: right; border: none;\">\n",
       "                -0.0013\n",
       "                \n",
       "                    &plusmn; 0.0245\n",
       "                \n",
       "            </td>\n",
       "            <td style=\"padding: 0 0.5em 0 0.5em; text-align: left; border: none;\">\n",
       "                aerials_z\n",
       "            </td>\n",
       "        </tr>\n",
       "    \n",
       "        <tr style=\"background-color: hsl(0, 100.00%, 99.65%); border: none;\">\n",
       "            <td style=\"padding: 0 1em 0 0.5em; text-align: right; border: none;\">\n",
       "                -0.0035\n",
       "                \n",
       "                    &plusmn; 0.0230\n",
       "                \n",
       "            </td>\n",
       "            <td style=\"padding: 0 0.5em 0 0.5em; text-align: left; border: none;\">\n",
       "                blocks_z\n",
       "            </td>\n",
       "        </tr>\n",
       "    \n",
       "        <tr style=\"background-color: hsl(0, 100.00%, 99.44%); border: none;\">\n",
       "            <td style=\"padding: 0 1em 0 0.5em; text-align: right; border: none;\">\n",
       "                -0.0070\n",
       "                \n",
       "                    &plusmn; 0.0145\n",
       "                \n",
       "            </td>\n",
       "            <td style=\"padding: 0 0.5em 0 0.5em; text-align: left; border: none;\">\n",
       "                crosses_z\n",
       "            </td>\n",
       "        </tr>\n",
       "    \n",
       "        <tr style=\"background-color: hsl(0, 100.00%, 98.90%); border: none;\">\n",
       "            <td style=\"padding: 0 1em 0 0.5em; text-align: right; border: none;\">\n",
       "                -0.0183\n",
       "                \n",
       "                    &plusmn; 0.0135\n",
       "                \n",
       "            </td>\n",
       "            <td style=\"padding: 0 0.5em 0 0.5em; text-align: left; border: none;\">\n",
       "                clearances_z\n",
       "            </td>\n",
       "        </tr>\n",
       "    \n",
       "    \n",
       "    </tbody>\n",
       "</table>\n",
       "    \n",
       "\n",
       "    \n",
       "\n",
       "\n",
       "    \n",
       "\n",
       "    \n",
       "\n",
       "    \n",
       "\n",
       "    \n",
       "\n",
       "    \n",
       "\n",
       "    \n",
       "\n",
       "\n",
       "\n"
      ],
      "text/plain": [
       "<IPython.core.display.HTML object>"
      ]
     },
     "execution_count": 37,
     "metadata": {},
     "output_type": "execute_result"
    }
   ],
   "source": [
    "perm = PermutationImportance(reg, random_state=1).fit(X_test, y_test)\n",
    "eli5.show_weights(perm, feature_names = X_test.columns.tolist())\n",
    "#Top 3 important features are goals_z & passes_z "
   ]
  },
  {
   "cell_type": "markdown",
   "metadata": {},
   "source": [
    "The previous table shows the feature importance of each of the columns. The weight column represents the importance of the feature measured as the MDA. The +/- sign represents the standard deviation of the importance calculated before. This value tries to measure the amount of randomness in our permutation importance calculation by repeating the process with multiple shuffles. Weight’s column then represents the mean of the error accumulated in the multiple shuffles instead of in a single trial."
   ]
  },
  {
   "cell_type": "code",
   "execution_count": 38,
   "metadata": {},
   "outputs": [],
   "source": [
    "importances = eli5.explain_weights_df(perm, feature_names=X_test.columns.tolist())"
   ]
  },
  {
   "cell_type": "code",
   "execution_count": 39,
   "metadata": {},
   "outputs": [
    {
     "data": {
      "text/html": [
       "<div>\n",
       "<style scoped>\n",
       "    .dataframe tbody tr th:only-of-type {\n",
       "        vertical-align: middle;\n",
       "    }\n",
       "\n",
       "    .dataframe tbody tr th {\n",
       "        vertical-align: top;\n",
       "    }\n",
       "\n",
       "    .dataframe thead th {\n",
       "        text-align: right;\n",
       "    }\n",
       "</style>\n",
       "<table border=\"1\" class=\"dataframe\">\n",
       "  <thead>\n",
       "    <tr style=\"text-align: right;\">\n",
       "      <th></th>\n",
       "      <th>feature</th>\n",
       "      <th>weight</th>\n",
       "      <th>std</th>\n",
       "    </tr>\n",
       "  </thead>\n",
       "  <tbody>\n",
       "    <tr>\n",
       "      <th>0</th>\n",
       "      <td>goals_z</td>\n",
       "      <td>1.152689</td>\n",
       "      <td>0.418330</td>\n",
       "    </tr>\n",
       "    <tr>\n",
       "      <th>1</th>\n",
       "      <td>progpasses_z</td>\n",
       "      <td>0.050477</td>\n",
       "      <td>0.030270</td>\n",
       "    </tr>\n",
       "    <tr>\n",
       "      <th>2</th>\n",
       "      <td>tackles_z</td>\n",
       "      <td>0.045979</td>\n",
       "      <td>0.015006</td>\n",
       "    </tr>\n",
       "    <tr>\n",
       "      <th>3</th>\n",
       "      <td>xg_z</td>\n",
       "      <td>0.036074</td>\n",
       "      <td>0.043618</td>\n",
       "    </tr>\n",
       "    <tr>\n",
       "      <th>4</th>\n",
       "      <td>boxtouches_z</td>\n",
       "      <td>0.027041</td>\n",
       "      <td>0.041924</td>\n",
       "    </tr>\n",
       "    <tr>\n",
       "      <th>5</th>\n",
       "      <td>progruns_z</td>\n",
       "      <td>0.020862</td>\n",
       "      <td>0.009003</td>\n",
       "    </tr>\n",
       "    <tr>\n",
       "      <th>6</th>\n",
       "      <td>interceptions_z</td>\n",
       "      <td>0.017855</td>\n",
       "      <td>0.007126</td>\n",
       "    </tr>\n",
       "    <tr>\n",
       "      <th>7</th>\n",
       "      <td>nsxg_z</td>\n",
       "      <td>0.017745</td>\n",
       "      <td>0.036868</td>\n",
       "    </tr>\n",
       "    <tr>\n",
       "      <th>8</th>\n",
       "      <td>fouls_z</td>\n",
       "      <td>0.013005</td>\n",
       "      <td>0.012523</td>\n",
       "    </tr>\n",
       "    <tr>\n",
       "      <th>9</th>\n",
       "      <td>passes_z</td>\n",
       "      <td>0.010185</td>\n",
       "      <td>0.037834</td>\n",
       "    </tr>\n",
       "    <tr>\n",
       "      <th>10</th>\n",
       "      <td>fouled_z</td>\n",
       "      <td>0.003446</td>\n",
       "      <td>0.003821</td>\n",
       "    </tr>\n",
       "    <tr>\n",
       "      <th>11</th>\n",
       "      <td>takeons_z</td>\n",
       "      <td>0.001746</td>\n",
       "      <td>0.015518</td>\n",
       "    </tr>\n",
       "    <tr>\n",
       "      <th>12</th>\n",
       "      <td>aerials_z</td>\n",
       "      <td>-0.001254</td>\n",
       "      <td>0.012226</td>\n",
       "    </tr>\n",
       "    <tr>\n",
       "      <th>13</th>\n",
       "      <td>blocks_z</td>\n",
       "      <td>-0.003544</td>\n",
       "      <td>0.011476</td>\n",
       "    </tr>\n",
       "    <tr>\n",
       "      <th>14</th>\n",
       "      <td>crosses_z</td>\n",
       "      <td>-0.006953</td>\n",
       "      <td>0.007260</td>\n",
       "    </tr>\n",
       "    <tr>\n",
       "      <th>15</th>\n",
       "      <td>clearances_z</td>\n",
       "      <td>-0.018251</td>\n",
       "      <td>0.006754</td>\n",
       "    </tr>\n",
       "  </tbody>\n",
       "</table>\n",
       "</div>"
      ],
      "text/plain": [
       "            feature    weight       std\n",
       "0           goals_z  1.152689  0.418330\n",
       "1      progpasses_z  0.050477  0.030270\n",
       "2         tackles_z  0.045979  0.015006\n",
       "3              xg_z  0.036074  0.043618\n",
       "4      boxtouches_z  0.027041  0.041924\n",
       "5        progruns_z  0.020862  0.009003\n",
       "6   interceptions_z  0.017855  0.007126\n",
       "7            nsxg_z  0.017745  0.036868\n",
       "8           fouls_z  0.013005  0.012523\n",
       "9          passes_z  0.010185  0.037834\n",
       "10         fouled_z  0.003446  0.003821\n",
       "11        takeons_z  0.001746  0.015518\n",
       "12        aerials_z -0.001254  0.012226\n",
       "13         blocks_z -0.003544  0.011476\n",
       "14        crosses_z -0.006953  0.007260\n",
       "15     clearances_z -0.018251  0.006754"
      ]
     },
     "execution_count": 39,
     "metadata": {},
     "output_type": "execute_result"
    }
   ],
   "source": [
    "importances"
   ]
  },
  {
   "cell_type": "code",
   "execution_count": 40,
   "metadata": {},
   "outputs": [
    {
     "data": {
      "text/plain": [
       "<AxesSubplot:xlabel='feature', ylabel='weight'>"
      ]
     },
     "execution_count": 40,
     "metadata": {},
     "output_type": "execute_result"
    },
    {
     "data": {
      "image/png": "[encoded data removed]",
      "text/plain": [
       "<Figure size 432x288 with 1 Axes>"
      ]
     },
     "metadata": {
      "needs_background": "light"
     },
     "output_type": "display_data"
    }
   ],
   "source": [
    "import seaborn as sns\n",
    "import matplotlib.pyplot as plt\n",
    "\n",
    "\n",
    "plt.errorbar(x=importances['feature'],\n",
    "    y=importances['weight'],\n",
    "    yerr=importances['std'],\n",
    "    ecolor='r', capsize=8, fmt='none',)\n",
    "sns.pointplot(x='feature', \n",
    "    y='weight', \n",
    "    data=importances, \n",
    "    dodge=True, join=False, ci='none')"
   ]
  },
  {
   "cell_type": "markdown",
   "metadata": {},
   "source": [
    "This graph is telling us the importance of each of the features in classifying something as present or past. "
   ]
  },
  {
   "cell_type": "markdown",
   "metadata": {},
   "source": [
    "## Ridge Regression\n"
   ]
  },
  {
   "cell_type": "code",
   "execution_count": 41,
   "metadata": {},
   "outputs": [],
   "source": [
    "from sklearn.linear_model import Ridge"
   ]
  },
  {
   "cell_type": "code",
   "execution_count": 42,
   "metadata": {},
   "outputs": [],
   "source": [
    "clf = Ridge(alpha=1.0)"
   ]
  },
  {
   "cell_type": "code",
   "execution_count": 43,
   "metadata": {},
   "outputs": [
    {
     "data": {
      "text/plain": [
       "Ridge()"
      ]
     },
     "execution_count": 43,
     "metadata": {},
     "output_type": "execute_result"
    }
   ],
   "source": [
    "clf.fit(X_train, y_train)"
   ]
  },
  {
   "cell_type": "code",
   "execution_count": 44,
   "metadata": {},
   "outputs": [],
   "source": [
    "from sklearn.metrics import mean_squared_error\n",
    "from sklearn.metrics import r2_score"
   ]
  },
  {
   "cell_type": "code",
   "execution_count": 45,
   "metadata": {},
   "outputs": [
    {
     "name": "stdout",
     "output_type": "stream",
     "text": [
      "RIDGE REGRESSION\n",
      "RMSE: 6.645452818212983\n",
      "R Squared: 0.5207879337372383\n",
      "MAPE: 0.9405473114946074\n"
     ]
    }
   ],
   "source": [
    "rr = Ridge(alpha=0.01)\n",
    "rr.fit(X_train, y_train) \n",
    "pred_train_rr= rr.predict(X_train)\n",
    "\n",
    "print('RIDGE REGRESSION')\n",
    "print('RMSE: '+str(np.sqrt(mean_squared_error(y_train,pred_train_rr))))\n",
    "print('R Squared: '+str(r2_score(y_train, pred_train_rr)))\n",
    "# print('MSE: '+str(mean_squared_error(y_test, pred_train_rr)))\n",
    "# print('MAE: '+str(mean_absolute_error(y_test, pred_train_rr)))\n",
    "print('MAPE: '+str(mean_absolute_percentage_error(y_train, pred_train_rr)))"
   ]
  },
  {
   "cell_type": "code",
   "execution_count": 46,
   "metadata": {
    "scrolled": true
   },
   "outputs": [
    {
     "name": "stdout",
     "output_type": "stream",
     "text": [
      "6.546574410596934\n",
      "0.4591748160801836\n"
     ]
    }
   ],
   "source": [
    "pred_test_rr= rr.predict(X_test)\n",
    "\n",
    "print(np.sqrt(mean_squared_error(y_test,pred_test_rr))) \n",
    "print(r2_score(y_test, pred_test_rr))"
   ]
  },
  {
   "cell_type": "markdown",
   "metadata": {},
   "source": [
    "## 46%-57%"
   ]
  },
  {
   "cell_type": "markdown",
   "metadata": {},
   "source": [
    "# Lasso"
   ]
  },
  {
   "cell_type": "code",
   "execution_count": 47,
   "metadata": {},
   "outputs": [],
   "source": [
    "from sklearn import linear_model\n"
   ]
  },
  {
   "cell_type": "code",
   "execution_count": 48,
   "metadata": {},
   "outputs": [],
   "source": [
    "clf = linear_model.Lasso(alpha=0.1)"
   ]
  },
  {
   "cell_type": "code",
   "execution_count": 49,
   "metadata": {},
   "outputs": [
    {
     "data": {
      "text/plain": [
       "Lasso(alpha=0.1)"
      ]
     },
     "execution_count": 49,
     "metadata": {},
     "output_type": "execute_result"
    }
   ],
   "source": [
    "clf.fit(X, y)"
   ]
  },
  {
   "cell_type": "code",
   "execution_count": 50,
   "metadata": {},
   "outputs": [
    {
     "name": "stdout",
     "output_type": "stream",
     "text": [
      "[-22.12892651   0.           0.          -0.           1.11803102\n",
      "   0.          -0.          -0.          -0.04202932  -0.\n",
      "  -0.           0.25686828  -0.           1.08267984  -0.\n",
      "   0.        ]\n"
     ]
    }
   ],
   "source": [
    "print(clf.coef_)"
   ]
  },
  {
   "cell_type": "code",
   "execution_count": 51,
   "metadata": {},
   "outputs": [
    {
     "name": "stdout",
     "output_type": "stream",
     "text": [
      "17.24337558499466\n"
     ]
    }
   ],
   "source": [
    "print(clf.intercept_)"
   ]
  },
  {
   "cell_type": "code",
   "execution_count": 52,
   "metadata": {},
   "outputs": [
    {
     "name": "stdout",
     "output_type": "stream",
     "text": [
      "LASSO REGRESSION\n",
      "RMSE: 6.654226955476154\n",
      "R Squared: 0.5195216699254779\n",
      "MSE: 42.88816264502233\n",
      "MAE: 5.441647295277558\n",
      "MAPE: 0.8581266877876318\n",
      "--------------------\n",
      "RMSE: 6.4986296685245195\n",
      "R Squared: 0.4670674244494648\n",
      "MSE: 42.232187568627104\n",
      "MAE: 5.34439587548745\n",
      "MAPE: 0.8234574915992052\n"
     ]
    }
   ],
   "source": [
    "model_lasso = linear_model.Lasso(alpha=0.01)\n",
    "model_lasso.fit(X_train, y_train) \n",
    "pred_train_lasso= model_lasso.predict(X_train)\n",
    "\n",
    "print('LASSO REGRESSION')\n",
    "\n",
    "print('RMSE: '+str(np.sqrt(mean_squared_error(y_train,pred_train_lasso))))\n",
    "print('R Squared: '+str(r2_score(y_train, pred_train_lasso)))\n",
    "print('MSE: '+str(mean_squared_error(y_test, predictions)))\n",
    "print('MAE: '+str(mean_absolute_error(y_test, predictions)))\n",
    "print('MAPE: '+str(mean_absolute_percentage_error(y_test, predictions)))\n",
    "\n",
    "print('--------------------')\n",
    "pred_test_lasso= model_lasso.predict(X_test)\n",
    "\n",
    "print('RMSE: '+str(np.sqrt(mean_squared_error(y_test,pred_test_lasso)))) \n",
    "print('R Squared: '+str(r2_score(y_test, pred_test_lasso)))\n",
    "print('MSE: '+str(mean_squared_error(y_test, pred_test_lasso)))\n",
    "print('MAE: '+str(mean_absolute_error(y_test, pred_test_lasso)))\n",
    "print('MAPE: '+str(mean_absolute_percentage_error(y_test, pred_test_lasso)))"
   ]
  },
  {
   "cell_type": "markdown",
   "metadata": {},
   "source": [
    "## 47%-57%"
   ]
  },
  {
   "cell_type": "markdown",
   "metadata": {},
   "source": [
    "## Elastic Net"
   ]
  },
  {
   "cell_type": "code",
   "execution_count": 53,
   "metadata": {},
   "outputs": [],
   "source": [
    "from sklearn import metrics\n",
    "from sklearn.model_selection import cross_val_score\n",
    "\n",
    "def cross_val(model):\n",
    "    pred = cross_val_score(model, X, y, cv=10)\n",
    "    return pred.mean()\n",
    "\n",
    "def print_evaluate(true, predicted):  \n",
    "    mae = metrics.mean_absolute_error(true, predicted)\n",
    "    mse = metrics.mean_squared_error(true, predicted)\n",
    "    rmse = np.sqrt(metrics.mean_squared_error(true, predicted))\n",
    "    r2_square = metrics.r2_score(true, predicted)\n",
    "    print('MAE:', mae)\n",
    "    print('MSE:', mse)\n",
    "    print('RMSE:', rmse)\n",
    "    print('R2 Square', r2_square)\n",
    "    print('__________________________________')\n",
    "    \n",
    "def evaluate(true, predicted):\n",
    "    mae = metrics.mean_absolute_error(true, predicted)\n",
    "    mse = metrics.mean_squared_error(true, predicted)\n",
    "    rmse = np.sqrt(metrics.mean_squared_error(true, predicted))\n",
    "    r2_square = metrics.r2_score(true, predicted)\n",
    "    return mae, mse, rmse, r2_square"
   ]
  },
  {
   "cell_type": "code",
   "execution_count": 54,
   "metadata": {},
   "outputs": [],
   "source": [
    "from sklearn.linear_model import ElasticNet\n",
    "from sklearn.datasets import make_regression"
   ]
  },
  {
   "cell_type": "code",
   "execution_count": 55,
   "metadata": {},
   "outputs": [],
   "source": [
    "model = ElasticNet(alpha=0.1, l1_ratio=0.9, selection='random', random_state=42)"
   ]
  },
  {
   "cell_type": "code",
   "execution_count": 56,
   "metadata": {},
   "outputs": [
    {
     "data": {
      "text/plain": [
       "ElasticNet(alpha=0.1, l1_ratio=0.9, random_state=42, selection='random')"
      ]
     },
     "execution_count": 56,
     "metadata": {},
     "output_type": "execute_result"
    }
   ],
   "source": [
    "model.fit(X_train, y_train)"
   ]
  },
  {
   "cell_type": "code",
   "execution_count": 57,
   "metadata": {},
   "outputs": [],
   "source": [
    "test_pred = model.predict(X_test)\n",
    "train_pred = model.predict(X_train)"
   ]
  },
  {
   "cell_type": "code",
   "execution_count": 58,
   "metadata": {},
   "outputs": [],
   "source": [
    "results_df = pd.DataFrame(data=[[\"Linear Regression\", *evaluate(y_test, test_pred) , cross_val(LinearRegression())]], \n",
    "                          columns=['Model', 'MAE', 'MSE', 'RMSE', 'R2 Square', \"Cross Validation\"])"
   ]
  },
  {
   "cell_type": "code",
   "execution_count": 59,
   "metadata": {},
   "outputs": [
    {
     "name": "stdout",
     "output_type": "stream",
     "text": [
      "ELASTIC NET\n",
      "Test set evaluation:\n",
      "_____________________________________\n",
      "MAE: 5.176351828568661\n",
      "MSE: 40.10564374896148\n",
      "RMSE: 6.332901684769903\n",
      "R2 Square 0.4939025125678309\n",
      "__________________________________\n",
      "====================================\n",
      "Train set evaluation:\n",
      "_____________________________________\n",
      "MAE: 5.825735023910361\n",
      "MSE: 47.612001656327244\n",
      "RMSE: 6.900145046035427\n",
      "R2 Square 0.48335167350752983\n",
      "__________________________________\n"
     ]
    }
   ],
   "source": [
    "print('ELASTIC NET')\n",
    "print('Test set evaluation:\\n_____________________________________')\n",
    "print_evaluate(y_test, test_pred)\n",
    "print('====================================')\n",
    "print('Train set evaluation:\\n_____________________________________')\n",
    "print_evaluate(y_train, train_pred)\n",
    "\n",
    "results_df_2 = pd.DataFrame(data=[[\"Elastic Net Regression\", *evaluate(y_test, test_pred) , cross_val(ElasticNet())]], \n",
    "                            columns=['Model', 'MAE', 'MSE', 'RMSE', 'R2 Square', \"Cross Validation\"])\n",
    "results_df = results_df.append(results_df_2, ignore_index=True)"
   ]
  },
  {
   "cell_type": "code",
   "execution_count": 60,
   "metadata": {},
   "outputs": [
    {
     "name": "stdout",
     "output_type": "stream",
     "text": [
      "MAPE: 0.6772758405894522\n",
      "MAPE: 1.1048890675934306\n"
     ]
    }
   ],
   "source": [
    "print('MAPE: '+str(mean_absolute_percentage_error(y_test, test_pred)))\n",
    "print('MAPE: '+str(mean_absolute_percentage_error(y_train, train_pred)))\n"
   ]
  },
  {
   "cell_type": "code",
   "execution_count": 61,
   "metadata": {},
   "outputs": [],
   "source": [
    "regr = ElasticNet(random_state=0)"
   ]
  },
  {
   "cell_type": "code",
   "execution_count": 62,
   "metadata": {},
   "outputs": [
    {
     "data": {
      "text/plain": [
       "ElasticNet(random_state=0)"
      ]
     },
     "execution_count": 62,
     "metadata": {},
     "output_type": "execute_result"
    }
   ],
   "source": [
    "regr.fit(X, y)"
   ]
  },
  {
   "cell_type": "code",
   "execution_count": 63,
   "metadata": {},
   "outputs": [
    {
     "name": "stdout",
     "output_type": "stream",
     "text": [
      "[-2.34194886 -0.27265099  0.         -0.         -0.         -0.\n",
      " -0.         -0.         -0.2697666  -0.          0.         -0.\n",
      " -0.          0.         -0.         -0.        ]\n"
     ]
    }
   ],
   "source": [
    "print(regr.coef_)"
   ]
  },
  {
   "cell_type": "code",
   "execution_count": 64,
   "metadata": {},
   "outputs": [
    {
     "name": "stdout",
     "output_type": "stream",
     "text": [
      "14.173917970362385\n"
     ]
    }
   ],
   "source": [
    "print(regr.intercept_)"
   ]
  },
  {
   "cell_type": "markdown",
   "metadata": {},
   "source": [
    "# Poisson\n",
    "\n",
    "https://www.kaggle.com/code/gauravduttakiit/explore-the-poisson-regression/notebook"
   ]
  },
  {
   "cell_type": "code",
   "execution_count": 65,
   "metadata": {},
   "outputs": [],
   "source": [
    "from sklearn import linear_model\n",
    "from sklearn.pipeline import Pipeline\n",
    "from sklearn import metrics\n",
    "from sklearn.linear_model import PoissonRegressor"
   ]
  },
  {
   "cell_type": "code",
   "execution_count": 66,
   "metadata": {},
   "outputs": [
    {
     "data": {
      "text/plain": [
       "PoissonRegressor()"
      ]
     },
     "execution_count": 66,
     "metadata": {},
     "output_type": "execute_result"
    }
   ],
   "source": [
    "clf = linear_model.PoissonRegressor()\n",
    "clf.fit(X_train, y_train)"
   ]
  },
  {
   "cell_type": "code",
   "execution_count": 67,
   "metadata": {},
   "outputs": [
    {
     "data": {
      "text/plain": [
       "0.37344864683918855"
      ]
     },
     "execution_count": 67,
     "metadata": {},
     "output_type": "execute_result"
    }
   ],
   "source": [
    "clf.score(X_train, y_train)"
   ]
  },
  {
   "cell_type": "code",
   "execution_count": 68,
   "metadata": {},
   "outputs": [
    {
     "data": {
      "text/plain": [
       "2.7614764844589703"
      ]
     },
     "execution_count": 68,
     "metadata": {},
     "output_type": "execute_result"
    }
   ],
   "source": [
    "clf.intercept_\n"
   ]
  },
  {
   "cell_type": "code",
   "execution_count": 69,
   "metadata": {},
   "outputs": [
    {
     "name": "stdout",
     "output_type": "stream",
     "text": [
      "POISSON\n",
      "R Squared test: 0.3829207110459202\n"
     ]
    }
   ],
   "source": [
    "# Doing a polynomial regression: Comparing linear, quadratic and cubic fits\n",
    "# Pipeline helps you associate two models or objects to be built sequentially with each other, \n",
    "# in this case, PoissonRegressor() is the only object\n",
    "\n",
    "pipeline = Pipeline([('model', PoissonRegressor())])\n",
    "pipeline.fit(X_train, y_train)\n",
    "y_pred = pipeline.predict(X_test)\n",
    "r2_test = metrics.r2_score(y_test, y_pred)\n",
    "\n",
    "\n",
    "print('POISSON')\n",
    "print('R Squared test: '+str(r2_test))\n"
   ]
  },
  {
   "cell_type": "code",
   "execution_count": 70,
   "metadata": {},
   "outputs": [
    {
     "name": "stdout",
     "output_type": "stream",
     "text": [
      "POISSON\n",
      "R Squared trian: 0.4061594064996301\n"
     ]
    }
   ],
   "source": [
    "# training performance\n",
    "y_pred_train = pipeline.predict(X_train)\n",
    "r2_train = metrics.r2_score(y_train, y_pred_train)\n",
    "\n",
    "print('POISSON')\n",
    "print('R Squared trian: '+str(r2_train))"
   ]
  },
  {
   "cell_type": "code",
   "execution_count": 71,
   "metadata": {},
   "outputs": [
    {
     "data": {
      "text/html": [
       "<div>\n",
       "<style scoped>\n",
       "    .dataframe tbody tr th:only-of-type {\n",
       "        vertical-align: middle;\n",
       "    }\n",
       "\n",
       "    .dataframe tbody tr th {\n",
       "        vertical-align: top;\n",
       "    }\n",
       "\n",
       "    .dataframe thead th {\n",
       "        text-align: right;\n",
       "    }\n",
       "</style>\n",
       "<table border=\"1\" class=\"dataframe\">\n",
       "  <thead>\n",
       "    <tr style=\"text-align: right;\">\n",
       "      <th></th>\n",
       "      <th>index</th>\n",
       "      <th>y_pred</th>\n",
       "      <th>y</th>\n",
       "    </tr>\n",
       "  </thead>\n",
       "  <tbody>\n",
       "    <tr>\n",
       "      <th>0</th>\n",
       "      <td>73</td>\n",
       "      <td>11.0</td>\n",
       "      <td>2</td>\n",
       "    </tr>\n",
       "    <tr>\n",
       "      <th>1</th>\n",
       "      <td>65</td>\n",
       "      <td>13.0</td>\n",
       "      <td>12</td>\n",
       "    </tr>\n",
       "    <tr>\n",
       "      <th>2</th>\n",
       "      <td>48</td>\n",
       "      <td>14.0</td>\n",
       "      <td>6</td>\n",
       "    </tr>\n",
       "    <tr>\n",
       "      <th>3</th>\n",
       "      <td>118</td>\n",
       "      <td>11.0</td>\n",
       "      <td>8</td>\n",
       "    </tr>\n",
       "    <tr>\n",
       "      <th>4</th>\n",
       "      <td>6</td>\n",
       "      <td>11.0</td>\n",
       "      <td>5</td>\n",
       "    </tr>\n",
       "  </tbody>\n",
       "</table>\n",
       "</div>"
      ],
      "text/plain": [
       "   index  y_pred   y\n",
       "0     73    11.0   2\n",
       "1     65    13.0  12\n",
       "2     48    14.0   6\n",
       "3    118    11.0   8\n",
       "4      6    11.0   5"
      ]
     },
     "execution_count": 71,
     "metadata": {},
     "output_type": "execute_result"
    }
   ],
   "source": [
    "eval = pd.DataFrame({'y_pred': [round(y, 0) for y in y_pred], 'y': y_test}).reset_index()\n",
    "eval.head()"
   ]
  },
  {
   "cell_type": "code",
   "execution_count": 72,
   "metadata": {},
   "outputs": [
    {
     "name": "stdout",
     "output_type": "stream",
     "text": [
      "     Frequency table\n"
     ]
    },
    {
     "data": {
      "text/html": [
       "<div>\n",
       "<style scoped>\n",
       "    .dataframe tbody tr th:only-of-type {\n",
       "        vertical-align: middle;\n",
       "    }\n",
       "\n",
       "    .dataframe tbody tr th {\n",
       "        vertical-align: top;\n",
       "    }\n",
       "\n",
       "    .dataframe thead th {\n",
       "        text-align: right;\n",
       "    }\n",
       "</style>\n",
       "<table border=\"1\" class=\"dataframe\">\n",
       "  <thead>\n",
       "    <tr style=\"text-align: right;\">\n",
       "      <th>y_pred</th>\n",
       "      <th>6.0</th>\n",
       "      <th>9.0</th>\n",
       "      <th>10.0</th>\n",
       "      <th>11.0</th>\n",
       "      <th>12.0</th>\n",
       "      <th>13.0</th>\n",
       "      <th>14.0</th>\n",
       "      <th>15.0</th>\n",
       "      <th>16.0</th>\n",
       "      <th>17.0</th>\n",
       "      <th>20.0</th>\n",
       "      <th>21.0</th>\n",
       "    </tr>\n",
       "    <tr>\n",
       "      <th>y</th>\n",
       "      <th></th>\n",
       "      <th></th>\n",
       "      <th></th>\n",
       "      <th></th>\n",
       "      <th></th>\n",
       "      <th></th>\n",
       "      <th></th>\n",
       "      <th></th>\n",
       "      <th></th>\n",
       "      <th></th>\n",
       "      <th></th>\n",
       "      <th></th>\n",
       "    </tr>\n",
       "  </thead>\n",
       "  <tbody>\n",
       "    <tr>\n",
       "      <th>1</th>\n",
       "      <td>1.0</td>\n",
       "      <td>0.0</td>\n",
       "      <td>0.0</td>\n",
       "      <td>0.0</td>\n",
       "      <td>0.0</td>\n",
       "      <td>0.0</td>\n",
       "      <td>0.0</td>\n",
       "      <td>0.0</td>\n",
       "      <td>0.0</td>\n",
       "      <td>0.0</td>\n",
       "      <td>0.0</td>\n",
       "      <td>0.0</td>\n",
       "    </tr>\n",
       "    <tr>\n",
       "      <th>2</th>\n",
       "      <td>0.0</td>\n",
       "      <td>0.0</td>\n",
       "      <td>0.0</td>\n",
       "      <td>1.0</td>\n",
       "      <td>0.0</td>\n",
       "      <td>0.0</td>\n",
       "      <td>0.0</td>\n",
       "      <td>0.0</td>\n",
       "      <td>0.0</td>\n",
       "      <td>0.0</td>\n",
       "      <td>0.0</td>\n",
       "      <td>0.0</td>\n",
       "    </tr>\n",
       "    <tr>\n",
       "      <th>3</th>\n",
       "      <td>0.0</td>\n",
       "      <td>0.0</td>\n",
       "      <td>1.0</td>\n",
       "      <td>0.0</td>\n",
       "      <td>0.0</td>\n",
       "      <td>0.0</td>\n",
       "      <td>0.0</td>\n",
       "      <td>0.0</td>\n",
       "      <td>0.0</td>\n",
       "      <td>0.0</td>\n",
       "      <td>0.0</td>\n",
       "      <td>0.0</td>\n",
       "    </tr>\n",
       "    <tr>\n",
       "      <th>4</th>\n",
       "      <td>0.0</td>\n",
       "      <td>0.0</td>\n",
       "      <td>1.0</td>\n",
       "      <td>0.0</td>\n",
       "      <td>0.0</td>\n",
       "      <td>0.0</td>\n",
       "      <td>0.0</td>\n",
       "      <td>0.0</td>\n",
       "      <td>0.0</td>\n",
       "      <td>0.0</td>\n",
       "      <td>0.0</td>\n",
       "      <td>0.0</td>\n",
       "    </tr>\n",
       "    <tr>\n",
       "      <th>5</th>\n",
       "      <td>0.0</td>\n",
       "      <td>0.0</td>\n",
       "      <td>0.0</td>\n",
       "      <td>1.0</td>\n",
       "      <td>0.0</td>\n",
       "      <td>1.0</td>\n",
       "      <td>0.0</td>\n",
       "      <td>0.0</td>\n",
       "      <td>0.0</td>\n",
       "      <td>0.0</td>\n",
       "      <td>0.0</td>\n",
       "      <td>0.0</td>\n",
       "    </tr>\n",
       "    <tr>\n",
       "      <th>6</th>\n",
       "      <td>0.0</td>\n",
       "      <td>1.0</td>\n",
       "      <td>0.0</td>\n",
       "      <td>0.0</td>\n",
       "      <td>0.0</td>\n",
       "      <td>0.0</td>\n",
       "      <td>1.0</td>\n",
       "      <td>0.0</td>\n",
       "      <td>0.0</td>\n",
       "      <td>0.0</td>\n",
       "      <td>0.0</td>\n",
       "      <td>0.0</td>\n",
       "    </tr>\n",
       "    <tr>\n",
       "      <th>8</th>\n",
       "      <td>0.0</td>\n",
       "      <td>0.0</td>\n",
       "      <td>0.0</td>\n",
       "      <td>1.0</td>\n",
       "      <td>1.0</td>\n",
       "      <td>0.0</td>\n",
       "      <td>1.0</td>\n",
       "      <td>0.0</td>\n",
       "      <td>0.0</td>\n",
       "      <td>0.0</td>\n",
       "      <td>0.0</td>\n",
       "      <td>0.0</td>\n",
       "    </tr>\n",
       "    <tr>\n",
       "      <th>9</th>\n",
       "      <td>0.0</td>\n",
       "      <td>0.0</td>\n",
       "      <td>0.0</td>\n",
       "      <td>0.0</td>\n",
       "      <td>0.0</td>\n",
       "      <td>0.0</td>\n",
       "      <td>0.0</td>\n",
       "      <td>1.0</td>\n",
       "      <td>0.0</td>\n",
       "      <td>0.0</td>\n",
       "      <td>0.0</td>\n",
       "      <td>0.0</td>\n",
       "    </tr>\n",
       "    <tr>\n",
       "      <th>10</th>\n",
       "      <td>0.0</td>\n",
       "      <td>1.0</td>\n",
       "      <td>0.0</td>\n",
       "      <td>0.0</td>\n",
       "      <td>0.0</td>\n",
       "      <td>0.0</td>\n",
       "      <td>0.0</td>\n",
       "      <td>0.0</td>\n",
       "      <td>0.0</td>\n",
       "      <td>0.0</td>\n",
       "      <td>0.0</td>\n",
       "      <td>0.0</td>\n",
       "    </tr>\n",
       "    <tr>\n",
       "      <th>11</th>\n",
       "      <td>0.0</td>\n",
       "      <td>0.0</td>\n",
       "      <td>0.0</td>\n",
       "      <td>0.0</td>\n",
       "      <td>0.0</td>\n",
       "      <td>0.0</td>\n",
       "      <td>0.0</td>\n",
       "      <td>0.0</td>\n",
       "      <td>1.0</td>\n",
       "      <td>0.0</td>\n",
       "      <td>0.0</td>\n",
       "      <td>0.0</td>\n",
       "    </tr>\n",
       "    <tr>\n",
       "      <th>12</th>\n",
       "      <td>0.0</td>\n",
       "      <td>0.0</td>\n",
       "      <td>0.0</td>\n",
       "      <td>0.0</td>\n",
       "      <td>0.0</td>\n",
       "      <td>1.0</td>\n",
       "      <td>0.0</td>\n",
       "      <td>0.0</td>\n",
       "      <td>0.0</td>\n",
       "      <td>1.0</td>\n",
       "      <td>0.0</td>\n",
       "      <td>0.0</td>\n",
       "    </tr>\n",
       "    <tr>\n",
       "      <th>14</th>\n",
       "      <td>0.0</td>\n",
       "      <td>0.0</td>\n",
       "      <td>0.0</td>\n",
       "      <td>0.0</td>\n",
       "      <td>1.0</td>\n",
       "      <td>0.0</td>\n",
       "      <td>1.0</td>\n",
       "      <td>0.0</td>\n",
       "      <td>0.0</td>\n",
       "      <td>0.0</td>\n",
       "      <td>0.0</td>\n",
       "      <td>0.0</td>\n",
       "    </tr>\n",
       "    <tr>\n",
       "      <th>17</th>\n",
       "      <td>0.0</td>\n",
       "      <td>0.0</td>\n",
       "      <td>0.0</td>\n",
       "      <td>0.0</td>\n",
       "      <td>0.0</td>\n",
       "      <td>0.0</td>\n",
       "      <td>0.0</td>\n",
       "      <td>1.0</td>\n",
       "      <td>1.0</td>\n",
       "      <td>0.0</td>\n",
       "      <td>0.0</td>\n",
       "      <td>0.0</td>\n",
       "    </tr>\n",
       "    <tr>\n",
       "      <th>18</th>\n",
       "      <td>0.0</td>\n",
       "      <td>0.0</td>\n",
       "      <td>0.0</td>\n",
       "      <td>0.0</td>\n",
       "      <td>0.0</td>\n",
       "      <td>0.0</td>\n",
       "      <td>1.0</td>\n",
       "      <td>0.0</td>\n",
       "      <td>0.0</td>\n",
       "      <td>0.0</td>\n",
       "      <td>0.0</td>\n",
       "      <td>0.0</td>\n",
       "    </tr>\n",
       "    <tr>\n",
       "      <th>21</th>\n",
       "      <td>0.0</td>\n",
       "      <td>0.0</td>\n",
       "      <td>1.0</td>\n",
       "      <td>0.0</td>\n",
       "      <td>0.0</td>\n",
       "      <td>0.0</td>\n",
       "      <td>0.0</td>\n",
       "      <td>0.0</td>\n",
       "      <td>0.0</td>\n",
       "      <td>0.0</td>\n",
       "      <td>0.0</td>\n",
       "      <td>0.0</td>\n",
       "    </tr>\n",
       "    <tr>\n",
       "      <th>23</th>\n",
       "      <td>0.0</td>\n",
       "      <td>0.0</td>\n",
       "      <td>0.0</td>\n",
       "      <td>0.0</td>\n",
       "      <td>0.0</td>\n",
       "      <td>0.0</td>\n",
       "      <td>0.0</td>\n",
       "      <td>0.0</td>\n",
       "      <td>1.0</td>\n",
       "      <td>0.0</td>\n",
       "      <td>0.0</td>\n",
       "      <td>0.0</td>\n",
       "    </tr>\n",
       "    <tr>\n",
       "      <th>25</th>\n",
       "      <td>0.0</td>\n",
       "      <td>0.0</td>\n",
       "      <td>0.0</td>\n",
       "      <td>0.0</td>\n",
       "      <td>0.0</td>\n",
       "      <td>0.0</td>\n",
       "      <td>1.0</td>\n",
       "      <td>0.0</td>\n",
       "      <td>0.0</td>\n",
       "      <td>0.0</td>\n",
       "      <td>0.0</td>\n",
       "      <td>0.0</td>\n",
       "    </tr>\n",
       "    <tr>\n",
       "      <th>26</th>\n",
       "      <td>0.0</td>\n",
       "      <td>0.0</td>\n",
       "      <td>0.0</td>\n",
       "      <td>0.0</td>\n",
       "      <td>0.0</td>\n",
       "      <td>0.0</td>\n",
       "      <td>0.0</td>\n",
       "      <td>0.0</td>\n",
       "      <td>0.0</td>\n",
       "      <td>0.0</td>\n",
       "      <td>0.0</td>\n",
       "      <td>1.0</td>\n",
       "    </tr>\n",
       "    <tr>\n",
       "      <th>28</th>\n",
       "      <td>0.0</td>\n",
       "      <td>0.0</td>\n",
       "      <td>0.0</td>\n",
       "      <td>0.0</td>\n",
       "      <td>0.0</td>\n",
       "      <td>0.0</td>\n",
       "      <td>0.0</td>\n",
       "      <td>0.0</td>\n",
       "      <td>0.0</td>\n",
       "      <td>1.0</td>\n",
       "      <td>0.0</td>\n",
       "      <td>0.0</td>\n",
       "    </tr>\n",
       "    <tr>\n",
       "      <th>31</th>\n",
       "      <td>0.0</td>\n",
       "      <td>0.0</td>\n",
       "      <td>0.0</td>\n",
       "      <td>0.0</td>\n",
       "      <td>0.0</td>\n",
       "      <td>0.0</td>\n",
       "      <td>0.0</td>\n",
       "      <td>1.0</td>\n",
       "      <td>0.0</td>\n",
       "      <td>0.0</td>\n",
       "      <td>0.0</td>\n",
       "      <td>0.0</td>\n",
       "    </tr>\n",
       "    <tr>\n",
       "      <th>32</th>\n",
       "      <td>0.0</td>\n",
       "      <td>0.0</td>\n",
       "      <td>0.0</td>\n",
       "      <td>0.0</td>\n",
       "      <td>0.0</td>\n",
       "      <td>0.0</td>\n",
       "      <td>0.0</td>\n",
       "      <td>0.0</td>\n",
       "      <td>0.0</td>\n",
       "      <td>0.0</td>\n",
       "      <td>1.0</td>\n",
       "      <td>0.0</td>\n",
       "    </tr>\n",
       "  </tbody>\n",
       "</table>\n",
       "</div>"
      ],
      "text/plain": [
       "y_pred  6.0   9.0   10.0  11.0  12.0  13.0  14.0  15.0  16.0  17.0  20.0  21.0\n",
       "y                                                                             \n",
       "1        1.0   0.0   0.0   0.0   0.0   0.0   0.0   0.0   0.0   0.0   0.0   0.0\n",
       "2        0.0   0.0   0.0   1.0   0.0   0.0   0.0   0.0   0.0   0.0   0.0   0.0\n",
       "3        0.0   0.0   1.0   0.0   0.0   0.0   0.0   0.0   0.0   0.0   0.0   0.0\n",
       "4        0.0   0.0   1.0   0.0   0.0   0.0   0.0   0.0   0.0   0.0   0.0   0.0\n",
       "5        0.0   0.0   0.0   1.0   0.0   1.0   0.0   0.0   0.0   0.0   0.0   0.0\n",
       "6        0.0   1.0   0.0   0.0   0.0   0.0   1.0   0.0   0.0   0.0   0.0   0.0\n",
       "8        0.0   0.0   0.0   1.0   1.0   0.0   1.0   0.0   0.0   0.0   0.0   0.0\n",
       "9        0.0   0.0   0.0   0.0   0.0   0.0   0.0   1.0   0.0   0.0   0.0   0.0\n",
       "10       0.0   1.0   0.0   0.0   0.0   0.0   0.0   0.0   0.0   0.0   0.0   0.0\n",
       "11       0.0   0.0   0.0   0.0   0.0   0.0   0.0   0.0   1.0   0.0   0.0   0.0\n",
       "12       0.0   0.0   0.0   0.0   0.0   1.0   0.0   0.0   0.0   1.0   0.0   0.0\n",
       "14       0.0   0.0   0.0   0.0   1.0   0.0   1.0   0.0   0.0   0.0   0.0   0.0\n",
       "17       0.0   0.0   0.0   0.0   0.0   0.0   0.0   1.0   1.0   0.0   0.0   0.0\n",
       "18       0.0   0.0   0.0   0.0   0.0   0.0   1.0   0.0   0.0   0.0   0.0   0.0\n",
       "21       0.0   0.0   1.0   0.0   0.0   0.0   0.0   0.0   0.0   0.0   0.0   0.0\n",
       "23       0.0   0.0   0.0   0.0   0.0   0.0   0.0   0.0   1.0   0.0   0.0   0.0\n",
       "25       0.0   0.0   0.0   0.0   0.0   0.0   1.0   0.0   0.0   0.0   0.0   0.0\n",
       "26       0.0   0.0   0.0   0.0   0.0   0.0   0.0   0.0   0.0   0.0   0.0   1.0\n",
       "28       0.0   0.0   0.0   0.0   0.0   0.0   0.0   0.0   0.0   1.0   0.0   0.0\n",
       "31       0.0   0.0   0.0   0.0   0.0   0.0   0.0   1.0   0.0   0.0   0.0   0.0\n",
       "32       0.0   0.0   0.0   0.0   0.0   0.0   0.0   0.0   0.0   0.0   1.0   0.0"
      ]
     },
     "execution_count": 72,
     "metadata": {},
     "output_type": "execute_result"
    }
   ],
   "source": [
    "print('     Frequency table')\n",
    "eval.groupby(['y', 'y_pred']).agg('count').reset_index().pivot(index='y', columns='y_pred', values='index').fillna(0)"
   ]
  },
  {
   "cell_type": "code",
   "execution_count": null,
   "metadata": {},
   "outputs": [],
   "source": []
  },
  {
   "cell_type": "code",
   "execution_count": 73,
   "metadata": {},
   "outputs": [
    {
     "name": "stdout",
     "output_type": "stream",
     "text": [
      "Poisson REGRESSION\n",
      "r2 score: 0.3829207110459202\n",
      "RMSE : 6.992881043310523\n",
      "MSE: 48.900385285891666\n",
      "MAE: 5.8573098719682894\n",
      "MAPE: 0.880738720808836\n"
     ]
    }
   ],
   "source": [
    "print('Poisson REGRESSION')\n",
    "print('r2 score: '+str(r2_score(y_test, y_pred)))\n",
    "print('RMSE : '+str(np.sqrt(mean_squared_error(y_test, y_pred))))\n",
    "print('MSE: '+str(mean_squared_error(y_test, y_pred)))\n",
    "print('MAE: '+str(mean_absolute_error(y_test, y_pred)))\n",
    "print('MAPE: '+str(mean_absolute_percentage_error(y_test, y_pred)))\n"
   ]
  },
  {
   "cell_type": "code",
   "execution_count": null,
   "metadata": {},
   "outputs": [],
   "source": []
  },
  {
   "cell_type": "code",
   "execution_count": null,
   "metadata": {},
   "outputs": [],
   "source": []
  },
  {
   "cell_type": "code",
   "execution_count": null,
   "metadata": {},
   "outputs": [],
   "source": []
  },
  {
   "cell_type": "markdown",
   "metadata": {},
   "source": [
    "# Ordinary Least Square"
   ]
  },
  {
   "cell_type": "code",
   "execution_count": 74,
   "metadata": {},
   "outputs": [],
   "source": [
    "from sklearn import linear_model\n",
    "reg = linear_model.LinearRegression()\n"
   ]
  },
  {
   "cell_type": "code",
   "execution_count": 75,
   "metadata": {},
   "outputs": [
    {
     "data": {
      "text/plain": [
       "LinearRegression()"
      ]
     },
     "execution_count": 75,
     "metadata": {},
     "output_type": "execute_result"
    }
   ],
   "source": [
    "reg.fit(X_train, y_train)"
   ]
  },
  {
   "cell_type": "code",
   "execution_count": 76,
   "metadata": {},
   "outputs": [
    {
     "data": {
      "text/plain": [
       "array([-25.79811972,   4.77306203,  -1.58024539,  -6.6893377 ,\n",
       "         8.50223852,  -3.60909006,  -3.52875252,  -0.79159283,\n",
       "        -3.0813026 ,  -0.86876513,   1.19619694,   2.99154161,\n",
       "         1.89192749,   1.4619753 ,  -1.04046835,   6.13568188])"
      ]
     },
     "execution_count": 76,
     "metadata": {},
     "output_type": "execute_result"
    }
   ],
   "source": [
    "reg.coef_"
   ]
  },
  {
   "cell_type": "markdown",
   "metadata": {},
   "source": [
    "# Gradient Boosting regression"
   ]
  },
  {
   "cell_type": "code",
   "execution_count": 77,
   "metadata": {},
   "outputs": [],
   "source": [
    "from sklearn import ensemble\n",
    "from sklearn.inspection import permutation_importance\n",
    "from sklearn.metrics import mean_squared_error\n",
    "from sklearn.model_selection import train_test_split"
   ]
  },
  {
   "cell_type": "code",
   "execution_count": 78,
   "metadata": {},
   "outputs": [],
   "source": [
    "params = {\n",
    "    \"n_estimators\": 500,\n",
    "    \"max_depth\": 4,\n",
    "    \"min_samples_split\": 5,\n",
    "    \"learning_rate\": 0.01,\n",
    "    \"loss\": \"squared_error\",\n",
    "}"
   ]
  },
  {
   "cell_type": "code",
   "execution_count": 79,
   "metadata": {},
   "outputs": [
    {
     "name": "stdout",
     "output_type": "stream",
     "text": [
      "GRADIENT BOOSTING REGRESSION\n",
      "RMSE AND R SQUARE ARE MOST LIKELY WRONG - SHOULD USE X_TRAIN IN PREDICTIONS\n",
      "RMSE: 1.3660685450274905\n",
      "R Squared: 0.9797500679712643\n",
      "MSE TEST: 41.16848232674044\n",
      "MAE TEST: 4.962457517557501\n",
      "MAPE: 1.0607454107319387\n"
     ]
    }
   ],
   "source": [
    "reg = ensemble.GradientBoostingRegressor(**params)\n",
    "reg.fit(X_train, y_train)\n",
    "\n",
    "mse = mean_squared_error(y_test, reg.predict(X_test))\n",
    "predictions = reg.predict(X_train)\n",
    "\n",
    "print('GRADIENT BOOSTING REGRESSION')\n",
    "# print(\"The mean squared error (MSE) on test set: {:.4f}\".format(mse))\n",
    "\n",
    "\n",
    "print('RMSE AND R SQUARE ARE MOST LIKELY WRONG - SHOULD USE X_TRAIN IN PREDICTIONS')\n",
    "print('RMSE: '+str(np.sqrt(mean_squared_error(y_train, predictions))))\n",
    "print('R Squared: '+str(r2_score(y_train, predictions)))\n",
    "print('MSE TEST: '+str(mean_squared_error(y_test, reg.predict(X_test))))\n",
    "print('MAE TEST: '+str(mean_absolute_error(y_test, reg.predict(X_test))))\n",
    "print('MAPE: '+str(mean_absolute_percentage_error(y_test, reg.predict(X_test))))\n"
   ]
  },
  {
   "cell_type": "code",
   "execution_count": 80,
   "metadata": {},
   "outputs": [
    {
     "data": {
      "image/png": "[encoded data removed]",
      "text/plain": [
       "<Figure size 432x432 with 1 Axes>"
      ]
     },
     "metadata": {
      "needs_background": "light"
     },
     "output_type": "display_data"
    }
   ],
   "source": [
    "test_score = np.zeros((params[\"n_estimators\"],), dtype=np.float64)\n",
    "for i, y_pred in enumerate(reg.staged_predict(X_test)):\n",
    "    test_score[i] = reg.loss_(y_test, y_pred)\n",
    "\n",
    "fig = plt.figure(figsize=(6, 6))\n",
    "plt.subplot(1, 1, 1)\n",
    "plt.title(\"Deviance\")\n",
    "plt.plot(\n",
    "    np.arange(params[\"n_estimators\"]) + 1,\n",
    "    reg.train_score_,\n",
    "    \"b-\",\n",
    "    label=\"Training Set Deviance\",\n",
    ")\n",
    "plt.plot(\n",
    "    np.arange(params[\"n_estimators\"]) + 1, test_score, \"r-\", label=\"Test Set Deviance\"\n",
    ")\n",
    "plt.legend(loc=\"upper right\")\n",
    "plt.xlabel(\"Boosting Iterations\")\n",
    "plt.ylabel(\"Deviance\")\n",
    "fig.tight_layout()\n",
    "plt.show()"
   ]
  },
  {
   "cell_type": "code",
   "execution_count": 81,
   "metadata": {},
   "outputs": [
    {
     "data": {
      "image/png": "[encoded data removed]",
      "text/plain": [
       "<Figure size 864x432 with 2 Axes>"
      ]
     },
     "metadata": {
      "needs_background": "light"
     },
     "output_type": "display_data"
    }
   ],
   "source": [
    "feature_importance = reg.feature_importances_\n",
    "sorted_idx = np.argsort(feature_importance)\n",
    "pos = np.arange(sorted_idx.shape[0]) + 0.5\n",
    "fig = plt.figure(figsize=(12, 6))\n",
    "plt.subplot(1, 2, 1)\n",
    "plt.barh(pos, feature_importance[sorted_idx], align=\"center\")\n",
    "plt.yticks(pos, np.array(df.columns)[sorted_idx])\n",
    "plt.title(\"Feature Importance (MDI)\")\n",
    "\n",
    "result = permutation_importance(\n",
    "    reg, X_test, y_test, n_repeats=10, random_state=42, n_jobs=2\n",
    ")\n",
    "sorted_idx = result.importances_mean.argsort()\n",
    "plt.subplot(1, 2, 2)\n",
    "plt.boxplot(\n",
    "    result.importances[sorted_idx].T,\n",
    "    vert=False,\n",
    "    labels=np.array(df.columns)[sorted_idx],\n",
    ")\n",
    "plt.title(\"Permutation Importance (test set)\")\n",
    "fig.tight_layout()\n",
    "plt.show()"
   ]
  },
  {
   "cell_type": "markdown",
   "metadata": {},
   "source": [
    "# Decision Forest Regression"
   ]
  },
  {
   "cell_type": "code",
   "execution_count": 82,
   "metadata": {},
   "outputs": [],
   "source": [
    "from sklearn.ensemble import RandomForestRegressor\n",
    "from sklearn.datasets import make_regression"
   ]
  },
  {
   "cell_type": "code",
   "execution_count": 83,
   "metadata": {},
   "outputs": [
    {
     "data": {
      "text/plain": [
       "RandomForestRegressor(max_depth=2, random_state=0)"
      ]
     },
     "execution_count": 83,
     "metadata": {},
     "output_type": "execute_result"
    }
   ],
   "source": [
    "regr = RandomForestRegressor(max_depth=2, random_state=0)\n",
    "regr.fit(X_train, y_train)"
   ]
  },
  {
   "cell_type": "code",
   "execution_count": 84,
   "metadata": {},
   "outputs": [],
   "source": [
    "y_pred = regr.predict(X_test)"
   ]
  },
  {
   "cell_type": "code",
   "execution_count": 85,
   "metadata": {},
   "outputs": [
    {
     "name": "stdout",
     "output_type": "stream",
     "text": [
      "DECISION FOREST REGRESSION\n",
      "r2 score: 0.5771181675621109\n",
      "RMSE : 5.788888292265893\n",
      "MSE: 33.51122766033313\n",
      "MAE: 4.744589342346552\n",
      "MAPE: 0.7432507123614697\n"
     ]
    }
   ],
   "source": [
    "print('DECISION FOREST REGRESSION')\n",
    "print('r2 score: '+str(r2_score(y_test, y_pred)))\n",
    "print('RMSE : '+str(np.sqrt(mean_squared_error(y_test, y_pred))))\n",
    "print('MSE: '+str(mean_squared_error(y_test, y_pred)))\n",
    "print('MAE: '+str(mean_absolute_error(y_test, y_pred)))\n",
    "print('MAPE: '+str(mean_absolute_percentage_error(y_test, y_pred)))"
   ]
  },
  {
   "cell_type": "markdown",
   "metadata": {},
   "source": [
    "# Boosted Decision Tree Regression"
   ]
  },
  {
   "cell_type": "code",
   "execution_count": 86,
   "metadata": {},
   "outputs": [],
   "source": [
    "from sklearn.ensemble import AdaBoostRegressor\n",
    "from sklearn.tree import DecisionTreeRegressor\n",
    "\n",
    "regr_1 = DecisionTreeRegressor(max_depth=4)\n",
    "\n",
    "regr_2 = AdaBoostRegressor(\n",
    "    DecisionTreeRegressor(max_depth=4), n_estimators=300, random_state=42\n",
    ")"
   ]
  },
  {
   "cell_type": "code",
   "execution_count": 87,
   "metadata": {},
   "outputs": [],
   "source": [
    "regr_1.fit(X_train, y_train)\n",
    "regr_2.fit(X_train, y_train)\n",
    "\n",
    "y_1 = regr_1.predict(X_train)\n",
    "y_2 = regr_2.predict(X_train)"
   ]
  },
  {
   "cell_type": "markdown",
   "metadata": {},
   "source": [
    "Finally, we plot how well our two regressors, single decision tree regressor and AdaBoost regressor, could fit the data."
   ]
  },
  {
   "cell_type": "code",
   "execution_count": 88,
   "metadata": {},
   "outputs": [],
   "source": [
    "# import matplotlib.pyplot as plt\n",
    "# import seaborn as sns\n",
    "\n",
    "# X_train=np.arange(0,len(X_train),1)\n",
    "\n",
    "# colors = sns.color_palette(\"colorblind\")\n",
    "\n",
    "# plt.figure()\n",
    "# plt.scatter(X_train, y_train, color=colors[0], label=\"training\")\n",
    "# plt.plot(X_train, y_1, color=colors[1], label=\"n_estimators=1\", linewidth=1)\n",
    "# plt.plot(X_train, y_2, color=colors[2], label=\"n_estimators=300\", linewidth=1)\n",
    "# plt.xlabel(\"data\")\n",
    "# plt.ylabel(\"target\")\n",
    "# plt.title(\"Boosted Decision Tree Regression\")\n",
    "# plt.legend()\n",
    "# plt.show()"
   ]
  },
  {
   "cell_type": "markdown",
   "metadata": {},
   "source": [
    "# Neural Network Regression"
   ]
  },
  {
   "cell_type": "code",
   "execution_count": 89,
   "metadata": {},
   "outputs": [],
   "source": [
    "from sklearn.neural_network import MLPRegressor\n",
    "from sklearn.datasets import make_regression\n",
    "from sklearn.model_selection import train_test_split\n"
   ]
  },
  {
   "cell_type": "code",
   "execution_count": 90,
   "metadata": {},
   "outputs": [],
   "source": [
    "# regr = MLPRegressor(random_state=1, max_iter=700).fit(X_train, y_train)\n"
   ]
  },
  {
   "cell_type": "code",
   "execution_count": 91,
   "metadata": {},
   "outputs": [
    {
     "name": "stderr",
     "output_type": "stream",
     "text": [
      "/Users/ryantalbot/opt/anaconda3/envs/tf2/lib/python3.9/site-packages/sklearn/neural_network/_multilayer_perceptron.py:692: ConvergenceWarning: Stochastic Optimizer: Maximum iterations (700) reached and the optimization hasn't converged yet.\n",
      "  warnings.warn(\n"
     ]
    }
   ],
   "source": [
    "regr = MLPRegressor(random_state=1, hidden_layer_sizes=(58), \n",
    "                    max_iter=700).fit(X_train, y_train)\n"
   ]
  },
  {
   "cell_type": "code",
   "execution_count": 92,
   "metadata": {
    "scrolled": true
   },
   "outputs": [
    {
     "data": {
      "text/plain": [
       "array([10.4846913, 10.6237257])"
      ]
     },
     "execution_count": 92,
     "metadata": {},
     "output_type": "execute_result"
    }
   ],
   "source": [
    "regr.predict(X_test[:2])"
   ]
  },
  {
   "cell_type": "code",
   "execution_count": 93,
   "metadata": {},
   "outputs": [
    {
     "data": {
      "text/plain": [
       "0.4535084308765823"
      ]
     },
     "execution_count": 93,
     "metadata": {},
     "output_type": "execute_result"
    }
   ],
   "source": [
    "regr.score(X_test, y_test)"
   ]
  },
  {
   "cell_type": "code",
   "execution_count": 94,
   "metadata": {},
   "outputs": [],
   "source": [
    "y_pred = regr.predict(X_test)"
   ]
  },
  {
   "cell_type": "code",
   "execution_count": 95,
   "metadata": {},
   "outputs": [
    {
     "name": "stdout",
     "output_type": "stream",
     "text": [
      "Neural Network Regression\n",
      "r2 score: 0.4535084308765823\n",
      "RMSE : 6.58078024482959\n",
      "MSE: 43.3066686307394\n",
      "MAE: 5.276057548150234\n",
      "MAPE: 0.5775679428367543\n"
     ]
    }
   ],
   "source": [
    "print('Neural Network Regression')\n",
    "print('r2 score: '+str(r2_score(y_test, y_pred)))\n",
    "print('RMSE : '+str(np.sqrt(mean_squared_error(y_test, y_pred))))\n",
    "print('MSE: '+str(mean_squared_error(y_test, y_pred)))\n",
    "print('MAE: '+str(mean_absolute_error(y_test, y_pred)))\n",
    "print('MAPE: '+str(mean_absolute_percentage_error(y_test, y_pred)))"
   ]
  },
  {
   "cell_type": "markdown",
   "metadata": {},
   "source": [
    "Best results is sith hidden_layer_sizes=(58"
   ]
  },
  {
   "cell_type": "markdown",
   "metadata": {},
   "source": [
    "# Stochastic Gradient Descent Regression"
   ]
  },
  {
   "cell_type": "code",
   "execution_count": 96,
   "metadata": {},
   "outputs": [],
   "source": [
    "from sklearn.linear_model import SGDRegressor\n",
    "from sklearn.pipeline import make_pipeline\n",
    "from sklearn.preprocessing import StandardScaler"
   ]
  },
  {
   "cell_type": "code",
   "execution_count": 97,
   "metadata": {},
   "outputs": [],
   "source": [
    "n_samples, n_features = 10, 5\n",
    "\n",
    "# Always scale the input. The most convenient way is to use a pipeline.\n",
    "reg = make_pipeline(StandardScaler(),\n",
    "                    SGDRegressor(max_iter=1000, tol=1e-3))"
   ]
  },
  {
   "cell_type": "code",
   "execution_count": 98,
   "metadata": {},
   "outputs": [
    {
     "data": {
      "text/plain": [
       "Pipeline(steps=[('standardscaler', StandardScaler()),\n",
       "                ('sgdregressor', SGDRegressor())])"
      ]
     },
     "execution_count": 98,
     "metadata": {},
     "output_type": "execute_result"
    }
   ],
   "source": [
    "reg.fit(X_train, y_train)"
   ]
  },
  {
   "cell_type": "code",
   "execution_count": 99,
   "metadata": {},
   "outputs": [
    {
     "data": {
      "text/plain": [
       "array([ 9.89340726, 13.1917194 , 15.55633179,  7.50754916, 10.02140029,\n",
       "       16.35184614, -3.69950173,  6.7746063 , 17.07459281, 20.17032075,\n",
       "       21.92123995,  7.2108497 , 20.89808977, 16.33898502,  9.69742806,\n",
       "       19.10697599, 18.76718452, 13.67184118, 11.68172548, 13.67948651,\n",
       "       19.56386196,  5.37182705,  7.23759558, 18.6150722 , 13.71083586,\n",
       "       11.5050281 , 15.23530504, 25.84297384])"
      ]
     },
     "execution_count": 99,
     "metadata": {},
     "output_type": "execute_result"
    }
   ],
   "source": [
    "reg.predict(X_test)"
   ]
  },
  {
   "cell_type": "code",
   "execution_count": 100,
   "metadata": {},
   "outputs": [
    {
     "data": {
      "text/plain": [
       "0.46245172555797254"
      ]
     },
     "execution_count": 100,
     "metadata": {},
     "output_type": "execute_result"
    }
   ],
   "source": [
    "reg.score(X_test, y_test, sample_weight=None)"
   ]
  },
  {
   "cell_type": "code",
   "execution_count": 101,
   "metadata": {},
   "outputs": [],
   "source": [
    "pred_train= reg.predict(X_train)"
   ]
  },
  {
   "cell_type": "code",
   "execution_count": 102,
   "metadata": {},
   "outputs": [],
   "source": [
    "predictions = reg.predict(X_test)"
   ]
  },
  {
   "cell_type": "code",
   "execution_count": 103,
   "metadata": {},
   "outputs": [
    {
     "name": "stdout",
     "output_type": "stream",
     "text": [
      "Stochastic Gradient Descent Regression\n",
      "RMSE: 6.672635836353489\n",
      "R Squared: 0.5168595114757346\n",
      "MSE: 42.59795815629372\n",
      "MAE: 5.337918283707794\n"
     ]
    }
   ],
   "source": [
    "print('Stochastic Gradient Descent Regression')\n",
    "print('RMSE: '+str(np.sqrt(mean_squared_error(y_train,pred_train))))\n",
    "print('R Squared: '+str(r2_score(y_train, pred_train)))\n",
    "print('MSE: '+str(mean_squared_error(y_test, predictions)))\n",
    "print('MAE: '+str(mean_absolute_error(y_test, predictions)))"
   ]
  },
  {
   "cell_type": "code",
   "execution_count": 104,
   "metadata": {},
   "outputs": [
    {
     "name": "stdout",
     "output_type": "stream",
     "text": [
      "MAPE: 0.5775679428367543\n"
     ]
    }
   ],
   "source": [
    "print('MAPE: '+str(mean_absolute_percentage_error(y_test, y_pred)))"
   ]
  },
  {
   "cell_type": "markdown",
   "metadata": {},
   "source": [
    "### LINEAR REGRESSION\n",
    "- RMSE : 6.5489054539688025\n",
    "- r2 score: 0.45878960350087705\n",
    "- MSE: 42.88816264502233\n",
    "- MAE: 5.441647295277558\n",
    "- MAPE: 0.8581266877876318\n",
    "--------------\n",
    "\n",
    "### RIDGE REGRESSION\n",
    "- RMSE: 6.645452818212983\n",
    "- R Squared: 0.5207879337372383\n",
    "- MSE: 42.88816264502233\n",
    "- MAE: 5.441647295277558\n",
    "- MAPE: 0.9405473114946074\n",
    "----------------\n",
    "\n",
    "### LASSO REGRESSION\n",
    "- RMSE: 6.654226955476154\n",
    "- R Squared: 0.5195216699254779\n",
    "- MSE: 42.88816264502233\n",
    "- MAE: 5.441647295277558\n",
    "- MAPE: 0.8581266877876318\n",
    "---\n",
    "- RMSE: 6.4986296685245195\n",
    "- R Squared: 0.4670674244494648\n",
    "- MSE: 42.232187568627104\n",
    "- MAE: 5.34439587548745\n",
    "- MAPE: 0.8234574915992052\n",
    "\n",
    "\n",
    "---\n",
    "### ELASTIC NET\n",
    "- Test set evaluation:\n",
    "    - RMSE: 6.332901684769903\n",
    "    - R2 Square 0.4939025125678309\n",
    "    - MSE: 40.10564374896148\n",
    "    - MAE: 5.176351828568661\n",
    "    - MAPE: 0.6772758405894522\n",
    "\n",
    "- Train set evaluation:\n",
    "    - RMSE: 6.900145046035427\n",
    "    - R2 Square 0.48335167350752983\n",
    "    - MSE: 47.612001656327244   \n",
    "    - MAE: 5.825735023910361\n",
    "    - MAPE: 1.1048890675934306\n",
    "\n",
    "    \n",
    "__________________________________\n",
    "\n",
    "### POISSON\n",
    "- r2 test: 0.3829207110459202\n",
    "- r2 trian: 0.4061594064996301\n",
    "\n",
    "\n",
    "- Poisson REGRESSION test\n",
    "    - RMSE : 6.992881043310523\n",
    "    - r2 score: 0.3829207110459202\n",
    "    - MSE: 48.900385285891666\n",
    "    - MAE: 5.8573098719682894\n",
    "    - MAPE: 0.880738720808836\n",
    "\n",
    "\n",
    "-------\n",
    "\n",
    "### Gradient Boosting regression\n",
    "- MSE TEST: 41.291555765943784\n",
    "- MAE TEST: 4.9700608677096065\n",
    "\n",
    "----\n",
    "\n",
    "### Stochastic Gradient Descent Regression\n",
    "- RMSE: 6.664364750268197\n",
    "- r2 score: 0.5180565256641232\n",
    "- MSE: 42.77056375122684\n",
    "- MAE: 5.372601073664727\n",
    "\n",
    "### DECISION FOREST REGRESSION\n",
    "- RMSE : 5.788888292265893\n",
    "- r2 score: 0.5771181675621109\n",
    "- MSE: 33.51122766033313\n",
    "- MAE: 4.744589342346552\n",
    "- MAPE: 0.7432507123614697\n",
    "\n",
    "\n",
    "### Neural Network Regression\n",
    "- RMSE : 6.269715984388013\n",
    "- r2 score: 0.5039511749369979\n",
    "- MSE: 39.30933852489055\n",
    "- MAE: 5.104212120461294\n",
    "- <b>MAPE: 0.5908518807785906</b>\n",
    "\n",
    "\n",
    "### Neural Network Regression (58 hidden layers)\n",
    "- r2 score: 0.4535084308765823\n",
    "- RMSE : 6.58078024482959\n",
    "- MSE: 43.3066686307394\n",
    "- MAE: 5.276057548150234\n",
    "- <b>MAPE: 0.5775679428367543</b>\n",
    "\n"
   ]
  },
  {
   "cell_type": "markdown",
   "metadata": {},
   "source": [
    "\n",
    "- R Square - <b>value is between 0 to 1 and a bigger value indicates a better fit</b> between prediction and actual value.\n",
    "- MSE - <b>An ideal Mean Squared Error (MSE) value is 0.0,</b> which means that all predicted values matched the expected values exactly. MSE gives larger penalization to big prediction error by square it while MAE treats all errors the same.\n",
    "- RMSE - Based on a rule of thumb, it can be said that <b>RMSE values between 0.2 and 0.5 </b>shows that the model can relatively predict the data accurately. In addition, <b>Adjusted R-squared more than 0.75 is a very good</b> value for showing the accuracy. In some cases, Adjusted R-squared of 0.4 or more is acceptable as well.\n",
    "- MAE - <b>The lower the MAE score the better.</b> This is because MAE is a measure of the average error between the predictions and intended targets, thus we want to minimise this value.\n",
    "\n",
    "\n",
    "- There is no ideal value for MAE as it is returned on the same scale that you are predicting, so an ideal MAE value for one dataset will not be the same for another.\n",
    "- MAE cannot be compared across different models and datasets. However, by converting MAE to MAPE (Mean Absolute Percentage Error), it becomes possible to compare model performance as this error is returned as a percentage.\n",
    "\n",
    "\n",
    "- https://stephenallwright.com/good-mae-score/\n",
    "- https://stephenallwright.com/good-mape-score/"
   ]
  },
  {
   "cell_type": "code",
   "execution_count": null,
   "metadata": {},
   "outputs": [],
   "source": []
  }
 ],
 "metadata": {
  "kernelspec": {
   "display_name": "Python 3 (ipykernel)",
   "language": "python",
   "name": "python3"
  },
  "language_info": {
   "codemirror_mode": {
    "name": "ipython",
    "version": 3
   },
   "file_extension": ".py",
   "mimetype": "text/x-python",
   "name": "python",
   "nbconvert_exporter": "python",
   "pygments_lexer": "ipython3",
   "version": "3.9.12"
  }
 },
 "nbformat": 4,
 "nbformat_minor": 5
}
