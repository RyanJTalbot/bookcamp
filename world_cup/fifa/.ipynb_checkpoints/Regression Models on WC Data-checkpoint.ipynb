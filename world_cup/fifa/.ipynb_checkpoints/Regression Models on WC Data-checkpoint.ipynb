{
 "cells": [
  {
   "cell_type": "code",
   "execution_count": 1,
   "metadata": {},
   "outputs": [],
   "source": [
    "import pandas as pd\n",
    "import numpy as np\n",
    "from sklearn.model_selection import train_test_split"
   ]
  },
  {
   "cell_type": "code",
   "execution_count": 2,
   "metadata": {},
   "outputs": [],
   "source": [
    "df = pd.read_csv('stats_df.csv')"
   ]
  },
  {
   "cell_type": "code",
   "execution_count": 3,
   "metadata": {},
   "outputs": [
    {
     "data": {
      "text/plain": [
       "(59, 10)"
      ]
     },
     "execution_count": 3,
     "metadata": {},
     "output_type": "execute_result"
    }
   ],
   "source": [
    "df.shape"
   ]
  },
  {
   "cell_type": "code",
   "execution_count": 4,
   "metadata": {},
   "outputs": [
    {
     "data": {
      "text/html": [
       "<div>\n",
       "<style scoped>\n",
       "    .dataframe tbody tr th:only-of-type {\n",
       "        vertical-align: middle;\n",
       "    }\n",
       "\n",
       "    .dataframe tbody tr th {\n",
       "        vertical-align: top;\n",
       "    }\n",
       "\n",
       "    .dataframe thead th {\n",
       "        text-align: right;\n",
       "    }\n",
       "</style>\n",
       "<table border=\"1\" class=\"dataframe\">\n",
       "  <thead>\n",
       "    <tr style=\"text-align: right;\">\n",
       "      <th></th>\n",
       "      <th>Country</th>\n",
       "      <th>Year</th>\n",
       "      <th>goals_z</th>\n",
       "      <th>xg_z</th>\n",
       "      <th>boxtouches_z</th>\n",
       "      <th>progpasses_z</th>\n",
       "      <th>progruns_z</th>\n",
       "      <th>new_xg</th>\n",
       "      <th>Fouled</th>\n",
       "      <th>results</th>\n",
       "    </tr>\n",
       "  </thead>\n",
       "  <tbody>\n",
       "    <tr>\n",
       "      <th>0</th>\n",
       "      <td>Germany</td>\n",
       "      <td>2010</td>\n",
       "      <td>0.816923</td>\n",
       "      <td>0.513077</td>\n",
       "      <td>0.458462</td>\n",
       "      <td>-0.367692</td>\n",
       "      <td>0.142308</td>\n",
       "      <td>1.03010</td>\n",
       "      <td>0.160000</td>\n",
       "      <td>3</td>\n",
       "    </tr>\n",
       "    <tr>\n",
       "      <th>1</th>\n",
       "      <td>Germany</td>\n",
       "      <td>2014</td>\n",
       "      <td>0.755385</td>\n",
       "      <td>0.719231</td>\n",
       "      <td>0.601538</td>\n",
       "      <td>0.316154</td>\n",
       "      <td>0.198462</td>\n",
       "      <td>1.65071</td>\n",
       "      <td>0.163846</td>\n",
       "      <td>1</td>\n",
       "    </tr>\n",
       "    <tr>\n",
       "      <th>2</th>\n",
       "      <td>Germany</td>\n",
       "      <td>2018</td>\n",
       "      <td>-0.066154</td>\n",
       "      <td>0.615385</td>\n",
       "      <td>1.570000</td>\n",
       "      <td>0.565385</td>\n",
       "      <td>0.930769</td>\n",
       "      <td>-30.73248</td>\n",
       "      <td>0.520000</td>\n",
       "      <td>32</td>\n",
       "    </tr>\n",
       "    <tr>\n",
       "      <th>3</th>\n",
       "      <td>Switzerland</td>\n",
       "      <td>2010</td>\n",
       "      <td>-0.222308</td>\n",
       "      <td>0.122308</td>\n",
       "      <td>0.128462</td>\n",
       "      <td>0.071538</td>\n",
       "      <td>-0.068462</td>\n",
       "      <td>-1.76120</td>\n",
       "      <td>-0.386900</td>\n",
       "      <td>32</td>\n",
       "    </tr>\n",
       "    <tr>\n",
       "      <th>4</th>\n",
       "      <td>Switzerland</td>\n",
       "      <td>2014</td>\n",
       "      <td>0.387692</td>\n",
       "      <td>0.550769</td>\n",
       "      <td>0.138462</td>\n",
       "      <td>0.213077</td>\n",
       "      <td>0.050769</td>\n",
       "      <td>1.95430</td>\n",
       "      <td>0.059230</td>\n",
       "      <td>16</td>\n",
       "    </tr>\n",
       "  </tbody>\n",
       "</table>\n",
       "</div>"
      ],
      "text/plain": [
       "       Country  Year   goals_z      xg_z  boxtouches_z  progpasses_z  \\\n",
       "0      Germany  2010  0.816923  0.513077      0.458462     -0.367692   \n",
       "1      Germany  2014  0.755385  0.719231      0.601538      0.316154   \n",
       "2      Germany  2018 -0.066154  0.615385      1.570000      0.565385   \n",
       "3  Switzerland  2010 -0.222308  0.122308      0.128462      0.071538   \n",
       "4  Switzerland  2014  0.387692  0.550769      0.138462      0.213077   \n",
       "\n",
       "   progruns_z    new_xg    Fouled  results  \n",
       "0    0.142308   1.03010  0.160000        3  \n",
       "1    0.198462   1.65071  0.163846        1  \n",
       "2    0.930769 -30.73248  0.520000       32  \n",
       "3   -0.068462  -1.76120 -0.386900       32  \n",
       "4    0.050769   1.95430  0.059230       16  "
      ]
     },
     "execution_count": 4,
     "metadata": {},
     "output_type": "execute_result"
    }
   ],
   "source": [
    "df.head()"
   ]
  },
  {
   "cell_type": "code",
   "execution_count": 5,
   "metadata": {},
   "outputs": [],
   "source": [
    "y = df['results']\n"
   ]
  },
  {
   "cell_type": "code",
   "execution_count": 6,
   "metadata": {},
   "outputs": [],
   "source": [
    "X = df.drop(columns=['results'])"
   ]
  },
  {
   "cell_type": "code",
   "execution_count": 7,
   "metadata": {},
   "outputs": [
    {
     "data": {
      "text/html": [
       "<div>\n",
       "<style scoped>\n",
       "    .dataframe tbody tr th:only-of-type {\n",
       "        vertical-align: middle;\n",
       "    }\n",
       "\n",
       "    .dataframe tbody tr th {\n",
       "        vertical-align: top;\n",
       "    }\n",
       "\n",
       "    .dataframe thead th {\n",
       "        text-align: right;\n",
       "    }\n",
       "</style>\n",
       "<table border=\"1\" class=\"dataframe\">\n",
       "  <thead>\n",
       "    <tr style=\"text-align: right;\">\n",
       "      <th></th>\n",
       "      <th>Country</th>\n",
       "      <th>Year</th>\n",
       "      <th>goals_z</th>\n",
       "      <th>xg_z</th>\n",
       "      <th>boxtouches_z</th>\n",
       "      <th>progpasses_z</th>\n",
       "      <th>progruns_z</th>\n",
       "      <th>new_xg</th>\n",
       "      <th>Fouled</th>\n",
       "    </tr>\n",
       "  </thead>\n",
       "  <tbody>\n",
       "    <tr>\n",
       "      <th>0</th>\n",
       "      <td>Germany</td>\n",
       "      <td>2010</td>\n",
       "      <td>0.816923</td>\n",
       "      <td>0.513077</td>\n",
       "      <td>0.458462</td>\n",
       "      <td>-0.367692</td>\n",
       "      <td>0.142308</td>\n",
       "      <td>1.03010</td>\n",
       "      <td>0.160000</td>\n",
       "    </tr>\n",
       "    <tr>\n",
       "      <th>1</th>\n",
       "      <td>Germany</td>\n",
       "      <td>2014</td>\n",
       "      <td>0.755385</td>\n",
       "      <td>0.719231</td>\n",
       "      <td>0.601538</td>\n",
       "      <td>0.316154</td>\n",
       "      <td>0.198462</td>\n",
       "      <td>1.65071</td>\n",
       "      <td>0.163846</td>\n",
       "    </tr>\n",
       "    <tr>\n",
       "      <th>2</th>\n",
       "      <td>Germany</td>\n",
       "      <td>2018</td>\n",
       "      <td>-0.066154</td>\n",
       "      <td>0.615385</td>\n",
       "      <td>1.570000</td>\n",
       "      <td>0.565385</td>\n",
       "      <td>0.930769</td>\n",
       "      <td>-30.73248</td>\n",
       "      <td>0.520000</td>\n",
       "    </tr>\n",
       "    <tr>\n",
       "      <th>3</th>\n",
       "      <td>Switzerland</td>\n",
       "      <td>2010</td>\n",
       "      <td>-0.222308</td>\n",
       "      <td>0.122308</td>\n",
       "      <td>0.128462</td>\n",
       "      <td>0.071538</td>\n",
       "      <td>-0.068462</td>\n",
       "      <td>-1.76120</td>\n",
       "      <td>-0.386900</td>\n",
       "    </tr>\n",
       "    <tr>\n",
       "      <th>4</th>\n",
       "      <td>Switzerland</td>\n",
       "      <td>2014</td>\n",
       "      <td>0.387692</td>\n",
       "      <td>0.550769</td>\n",
       "      <td>0.138462</td>\n",
       "      <td>0.213077</td>\n",
       "      <td>0.050769</td>\n",
       "      <td>1.95430</td>\n",
       "      <td>0.059230</td>\n",
       "    </tr>\n",
       "  </tbody>\n",
       "</table>\n",
       "</div>"
      ],
      "text/plain": [
       "       Country  Year   goals_z      xg_z  boxtouches_z  progpasses_z  \\\n",
       "0      Germany  2010  0.816923  0.513077      0.458462     -0.367692   \n",
       "1      Germany  2014  0.755385  0.719231      0.601538      0.316154   \n",
       "2      Germany  2018 -0.066154  0.615385      1.570000      0.565385   \n",
       "3  Switzerland  2010 -0.222308  0.122308      0.128462      0.071538   \n",
       "4  Switzerland  2014  0.387692  0.550769      0.138462      0.213077   \n",
       "\n",
       "   progruns_z    new_xg    Fouled  \n",
       "0    0.142308   1.03010  0.160000  \n",
       "1    0.198462   1.65071  0.163846  \n",
       "2    0.930769 -30.73248  0.520000  \n",
       "3   -0.068462  -1.76120 -0.386900  \n",
       "4    0.050769   1.95430  0.059230  "
      ]
     },
     "execution_count": 7,
     "metadata": {},
     "output_type": "execute_result"
    }
   ],
   "source": [
    "X.head()"
   ]
  },
  {
   "cell_type": "code",
   "execution_count": 8,
   "metadata": {},
   "outputs": [
    {
     "data": {
      "text/plain": [
       "<AxesSubplot:xlabel='goals_z'>"
      ]
     },
     "execution_count": 8,
     "metadata": {},
     "output_type": "execute_result"
    },
    {
     "data": {
      "image/png": "[encoded data removed]",
      "text/plain": [
       "<Figure size 432x288 with 1 Axes>"
      ]
     },
     "metadata": {
      "needs_background": "light"
     },
     "output_type": "display_data"
    }
   ],
   "source": [
    "import seaborn as sns\n",
    "sns.boxplot(x=df['goals_z'])"
   ]
  },
  {
   "cell_type": "code",
   "execution_count": 9,
   "metadata": {},
   "outputs": [],
   "source": [
    "import matplotlib.pyplot as plt\n"
   ]
  },
  {
   "cell_type": "code",
   "execution_count": 10,
   "metadata": {},
   "outputs": [
    {
     "data": {
      "image/png": "[encoded data removed]",
      "text/plain": [
       "<Figure size 1152x576 with 1 Axes>"
      ]
     },
     "metadata": {
      "needs_background": "light"
     },
     "output_type": "display_data"
    }
   ],
   "source": [
    "fig, ax = plt.subplots(figsize=(16,8))\n",
    "ax.scatter(df['new_xg'], df['Fouled'])\n",
    "ax.set_xlabel('new_xg')\n",
    "ax.set_ylabel('fouled')\n",
    "plt.show()"
   ]
  },
  {
   "cell_type": "code",
   "execution_count": 11,
   "metadata": {},
   "outputs": [],
   "source": [
    "from scipy import stats\n",
    "import numpy as np\n"
   ]
  },
  {
   "cell_type": "code",
   "execution_count": 12,
   "metadata": {},
   "outputs": [],
   "source": [
    "X = X.drop(columns=['Country'])\n"
   ]
  },
  {
   "cell_type": "code",
   "execution_count": 13,
   "metadata": {},
   "outputs": [
    {
     "name": "stdout",
     "output_type": "stream",
     "text": [
      "        Year   goals_z      xg_z  boxtouches_z  progpasses_z  progruns_z  \\\n",
      "0   1.383919  2.447511  0.978825      0.460605      1.535615    0.173748   \n",
      "1   0.127746  2.214890  1.828752      0.890457      1.425148    0.034652   \n",
      "2   1.128426  0.890618  1.400618      3.800067      2.504213    1.779314   \n",
      "3   1.383919  1.480898  0.632230      0.530835      0.366065    0.695838   \n",
      "4   0.127746  0.824970  1.134220      0.500791      0.978868    0.400496   \n",
      "5   1.128426  0.272492  0.227209      0.371375      0.545911    0.184471   \n",
      "6   1.383919  0.039871  1.086652      1.692393      1.441800    3.021654   \n",
      "7   0.127746  0.281216  1.073966      0.876592      0.170136    0.685599   \n",
      "8   1.128426  0.080579  1.670182      1.375779      1.215328    1.905072   \n",
      "9   1.383919  1.368724  0.036926      0.614034      1.242537    0.078478   \n",
      "10  0.127746  0.355585  1.045424      0.179555      2.137861    0.342621   \n",
      "11  1.128426  0.772631  0.451463      0.782741      0.136829    0.000355   \n",
      "12  1.383919  0.859864  0.613203      0.429149      0.372728    0.190897   \n",
      "13  0.127746  1.226244  0.541175      0.625589      0.676363    0.282357   \n",
      "14  1.383919  1.467589  0.365837      0.280343      1.128737    1.796463   \n",
      "15  0.127746  0.601074  0.414321      0.511448      0.779606    0.485530   \n",
      "16  1.128426  0.976174  2.428138      2.547480      0.010275    2.179455   \n",
      "17  0.127746  0.120058  0.270695      0.694020      0.366630    1.588771   \n",
      "18  1.128426  1.499576  1.175448      0.425938      0.106855    0.817074   \n",
      "19  1.383919  0.170720  1.020052      0.082494      1.006078    0.968314   \n",
      "20  0.127746  0.500976  0.755913      1.036955      0.039684    0.108964   \n",
      "21  0.127746  0.992390  0.106696      0.838205      0.379952    0.004167   \n",
      "22  1.128426  1.048870  0.531660      0.185589      0.742969    0.312845   \n",
      "23  1.383919  1.063408  0.909055      0.747173      0.339425    0.476712   \n",
      "24  0.127746  0.596934  0.508547      0.047826      0.556464    0.103249   \n",
      "25  1.128426  0.772631  0.682973      0.013162      0.869527    1.314390   \n",
      "26  1.383919  0.859864  0.597347      0.766563      0.919486    0.610092   \n",
      "27  0.127746  0.358496  0.603688      0.235022      0.613082    1.202681   \n",
      "28  1.128426  0.173630  0.166954      0.392174      0.046343    0.571985   \n",
      "29  1.128426  0.221830  1.444100      0.653322      0.596430    0.225197   \n",
      "30  0.127746  0.355585  0.600518      1.117842      0.082980    0.047991   \n",
      "31  0.127746  0.579485  1.869064      1.362814      1.122643    1.597105   \n",
      "32  1.128426  1.559407  1.225275      1.270370      0.073552    1.391318   \n",
      "33  1.383919  0.140410  0.099443      0.318219      0.922251    1.613542   \n",
      "34  0.127746  0.118380  1.317246      0.722654      0.812344    0.749189   \n",
      "35  1.128426  0.727782  0.334124      0.109323      2.464246    1.906979   \n",
      "36  1.383919  1.480898  1.215764      0.449948      1.585574    0.354764   \n",
      "37  0.127746  0.784262  1.946091      2.166157      0.622510    0.499578   \n",
      "38  1.128426  1.208799  0.181899      0.348262      0.113518    0.326184   \n",
      "39  1.383919  0.137503  1.064451      0.419004      1.269182    0.267116   \n",
      "40  1.128426  0.841186  1.929322      0.720341      1.086006    1.499927   \n",
      "41  1.383919  0.140410  0.115299      0.548422      0.552570    1.160761   \n",
      "42  0.127746  0.355585  0.746402      1.041576      0.212867    0.305223   \n",
      "43  1.128426  0.893525  0.454633      0.350573      1.558365    0.265209   \n",
      "44  1.383919  0.809198  0.235808      0.103293      0.926145    0.794208   \n",
      "45  1.128426  0.890618  0.822513      1.107696      0.848981    0.361677   \n",
      "46  1.383919  0.812109  0.687060      0.978278      0.629738    1.118842   \n",
      "47  0.127746  1.629191  1.415558      0.306664      1.215893    0.741567   \n",
      "48  1.383919  0.378848  1.448187      0.124092      1.329129    0.480522   \n",
      "49  0.127746  0.281216  0.160609      0.758728      0.189552    0.731328   \n",
      "50  0.127746  1.629191  1.951520      1.242640      0.300023    1.212207   \n",
      "51  1.128426  1.559407  0.873256      1.781112      1.855337    1.475157   \n",
      "52  1.128426  0.890618  0.422921      0.211912      0.273379    1.307480   \n",
      "53  1.128426  0.890618  0.204096      1.302727      0.362735    0.527449   \n",
      "54  1.128426  1.112841  0.277952      0.995357      0.925580    0.221385   \n",
      "55  0.127746  0.992390  0.089928      1.003700      0.712431    0.167322   \n",
      "56  0.127746  0.918021  0.376264      0.633933      0.662476    0.438603   \n",
      "57  1.128426  1.325109  0.427007      0.211012      0.379387    0.131120   \n",
      "58  1.128426  1.559407  1.133309      0.553947      1.362432    0.432888   \n",
      "\n",
      "      new_xg    Fouled  \n",
      "0   0.141770  0.408131  \n",
      "1   0.215040  0.418308  \n",
      "2   3.608163  1.360736  \n",
      "3   0.187775  1.039034  \n",
      "4   0.250882  0.141481  \n",
      "5   0.273196  0.397811  \n",
      "6   0.873821  1.580549  \n",
      "7   0.479355  1.902172  \n",
      "8   0.890857  1.586675  \n",
      "9   0.095160  0.719382  \n",
      "10  1.321231  0.410132  \n",
      "11  0.034730  0.520083  \n",
      "12  0.095888  0.171832  \n",
      "13  0.142262  0.833512  \n",
      "14  0.173064  0.204565  \n",
      "15  0.260148  0.269715  \n",
      "16  0.542513  1.588710  \n",
      "17  0.605845  1.214146  \n",
      "18  0.253551  0.296145  \n",
      "19  0.376455  0.623790  \n",
      "20  0.239062  0.277860  \n",
      "21  0.578932  1.090016  \n",
      "22  0.201006  0.813192  \n",
      "23  0.278037  1.625348  \n",
      "24  3.302399  1.128692  \n",
      "25  0.154978  1.828896  \n",
      "26  0.009173  0.261338  \n",
      "27  0.313485  0.556688  \n",
      "28  0.283684  0.302286  \n",
      "29  0.016875  1.199899  \n",
      "30  0.001529  1.440083  \n",
      "31  3.240557  0.731737  \n",
      "32  0.071713  0.890504  \n",
      "33  0.529460  0.621819  \n",
      "34  0.044129  0.137414  \n",
      "35  2.305643  0.312429  \n",
      "36  0.035270  0.045758  \n",
      "37  0.510471  0.066172  \n",
      "38  0.107216  0.357243  \n",
      "39  0.383893  0.975992  \n",
      "40  0.490690  0.986172  \n",
      "41  0.408657  1.462474  \n",
      "42  0.008759  1.358664  \n",
      "43  0.517229  0.666602  \n",
      "44  1.209323  2.282809  \n",
      "45  1.186539  0.664568  \n",
      "46  2.373068  1.057398  \n",
      "47  0.093422  0.277826  \n",
      "48  1.438197  1.041129  \n",
      "49  0.379926  0.762304  \n",
      "50  0.119466  0.756160  \n",
      "51  0.137843  0.011179  \n",
      "52  0.450716  0.666636  \n",
      "53  0.299709  1.228429  \n",
      "54  0.148202  0.379598  \n",
      "55  1.119477  0.448842  \n",
      "56  0.192181  1.409552  \n",
      "57  0.151315  0.171981  \n",
      "58  0.020902  2.398794  \n"
     ]
    }
   ],
   "source": [
    "z = np.abs(stats.zscore(X))\n",
    "print(z)"
   ]
  },
  {
   "cell_type": "code",
   "execution_count": 14,
   "metadata": {},
   "outputs": [
    {
     "name": "stdout",
     "output_type": "stream",
     "text": [
      "(array([ 0,  1,  2,  2,  2,  6, 10, 16, 16, 16, 24, 31, 35, 35, 37, 44, 46,\n",
      "       58]), array([1, 1, 3, 4, 6, 5, 4, 2, 3, 5, 6, 6, 4, 6, 3, 7, 6, 7]))\n"
     ]
    }
   ],
   "source": [
    "threshold = 2\n",
    "print(np.where(z > 2))"
   ]
  },
  {
   "cell_type": "code",
   "execution_count": 15,
   "metadata": {},
   "outputs": [
    {
     "name": "stdout",
     "output_type": "stream",
     "text": [
      "Year             8.000000\n",
      "goals_z          0.441539\n",
      "xg_z             0.344615\n",
      "boxtouches_z     0.389231\n",
      "progpasses_z     0.324231\n",
      "progruns_z       0.387308\n",
      "new_xg           2.811636\n",
      "Fouled           0.497288\n",
      "results         24.000000\n",
      "dtype: float64\n"
     ]
    }
   ],
   "source": [
    "Q1 = df.quantile(0.25)\n",
    "Q3 = df.quantile(0.75)\n",
    "IQR = Q3 - Q1\n",
    "print(IQR)"
   ]
  },
  {
   "cell_type": "code",
   "execution_count": 16,
   "metadata": {},
   "outputs": [
    {
     "name": "stdout",
     "output_type": "stream",
     "text": [
      "    Country  Fouled   Year  boxtouches_z  goals_z  new_xg  progpasses_z  \\\n",
      "0     False   False  False         False    False   False         False   \n",
      "1     False   False  False         False    False   False         False   \n",
      "2     False   False  False         False    False    True         False   \n",
      "3     False   False  False         False    False   False         False   \n",
      "4     False   False  False         False    False   False         False   \n",
      "5     False   False  False         False    False   False         False   \n",
      "6     False   False  False         False    False   False         False   \n",
      "7     False   False  False         False    False   False         False   \n",
      "8     False   False  False         False    False   False         False   \n",
      "9     False   False  False         False    False   False         False   \n",
      "10    False   False  False         False    False   False         False   \n",
      "11    False   False  False         False    False   False         False   \n",
      "12    False   False  False         False    False   False         False   \n",
      "13    False   False  False         False    False   False         False   \n",
      "14    False   False  False         False    False   False         False   \n",
      "15    False   False  False         False    False   False         False   \n",
      "16    False   False  False         False    False   False         False   \n",
      "17    False   False  False         False    False   False         False   \n",
      "18    False   False  False         False    False   False         False   \n",
      "19    False   False  False         False    False   False         False   \n",
      "20    False   False  False         False    False   False         False   \n",
      "21    False   False  False         False    False    True         False   \n",
      "22    False   False  False         False    False   False         False   \n",
      "23    False   False  False         False    False   False         False   \n",
      "24    False   False  False         False    False   False         False   \n",
      "25    False   False  False         False    False   False         False   \n",
      "26    False   False  False         False    False   False         False   \n",
      "27    False   False  False         False    False   False         False   \n",
      "28    False   False  False         False    False   False         False   \n",
      "29    False   False  False         False    False   False         False   \n",
      "30    False   False  False         False    False   False         False   \n",
      "31    False   False  False         False    False    True         False   \n",
      "32    False   False  False         False    False   False         False   \n",
      "33    False   False  False         False    False   False         False   \n",
      "34    False   False  False         False    False   False         False   \n",
      "35    False   False  False         False    False    True         False   \n",
      "36    False   False  False         False    False   False         False   \n",
      "37    False   False  False         False    False   False         False   \n",
      "38    False   False  False         False    False   False         False   \n",
      "39    False   False  False         False    False   False         False   \n",
      "40    False   False  False         False    False   False         False   \n",
      "41    False   False  False         False    False   False         False   \n",
      "42    False   False  False         False    False   False         False   \n",
      "43    False   False  False         False    False    True         False   \n",
      "44    False   False  False         False    False    True         False   \n",
      "45    False   False  False         False    False    True         False   \n",
      "46    False   False  False         False    False    True         False   \n",
      "47    False   False  False         False    False   False         False   \n",
      "48    False   False  False         False    False   False         False   \n",
      "49    False   False  False         False    False   False         False   \n",
      "50    False   False  False         False    False   False         False   \n",
      "51    False   False  False         False    False   False         False   \n",
      "52    False   False  False         False    False   False         False   \n",
      "53    False   False  False         False    False   False         False   \n",
      "54    False   False  False         False    False   False         False   \n",
      "55    False   False  False         False    False    True         False   \n",
      "56    False   False  False         False    False   False         False   \n",
      "57    False   False  False         False    False   False         False   \n",
      "58    False   False  False         False    False   False         False   \n",
      "\n",
      "    progruns_z  results   xg_z  \n",
      "0        False    False  False  \n",
      "1        False    False  False  \n",
      "2        False    False  False  \n",
      "3        False    False  False  \n",
      "4        False    False  False  \n",
      "5        False    False  False  \n",
      "6        False    False  False  \n",
      "7        False    False  False  \n",
      "8        False    False  False  \n",
      "9        False    False  False  \n",
      "10       False    False  False  \n",
      "11       False    False  False  \n",
      "12       False    False  False  \n",
      "13       False    False  False  \n",
      "14       False    False  False  \n",
      "15       False    False  False  \n",
      "16       False    False  False  \n",
      "17       False    False  False  \n",
      "18       False    False  False  \n",
      "19       False    False  False  \n",
      "20       False    False  False  \n",
      "21       False    False  False  \n",
      "22       False    False  False  \n",
      "23       False    False  False  \n",
      "24       False    False  False  \n",
      "25       False    False  False  \n",
      "26       False    False  False  \n",
      "27       False    False  False  \n",
      "28       False    False  False  \n",
      "29       False    False  False  \n",
      "30       False    False  False  \n",
      "31       False    False  False  \n",
      "32       False    False  False  \n",
      "33       False    False  False  \n",
      "34       False    False  False  \n",
      "35       False    False  False  \n",
      "36       False    False  False  \n",
      "37       False    False  False  \n",
      "38       False    False  False  \n",
      "39       False    False  False  \n",
      "40       False    False  False  \n",
      "41       False    False  False  \n",
      "42       False    False  False  \n",
      "43       False    False  False  \n",
      "44       False    False  False  \n",
      "45       False    False  False  \n",
      "46       False    False  False  \n",
      "47       False    False  False  \n",
      "48       False    False  False  \n",
      "49       False    False  False  \n",
      "50       False    False  False  \n",
      "51       False    False  False  \n",
      "52       False    False  False  \n",
      "53       False    False  False  \n",
      "54       False    False  False  \n",
      "55       False    False  False  \n",
      "56       False    False  False  \n",
      "57       False    False  False  \n",
      "58       False    False  False  \n"
     ]
    },
    {
     "name": "stderr",
     "output_type": "stream",
     "text": [
      "/var/folders/j_/555m2zps099832fjh_m8jjnc0000gn/T/ipykernel_67420/573165499.py:1: FutureWarning: Automatic reindexing on DataFrame vs Series comparisons is deprecated and will raise ValueError in a future version.  Do `left, right = left.align(right, axis=1, copy=False)` before e.g. `left == right`\n",
      "  print(df < (Q1 - 1.5 * IQR)) |(df > (Q3 + 1.5 * IQR))\n",
      "/var/folders/j_/555m2zps099832fjh_m8jjnc0000gn/T/ipykernel_67420/573165499.py:1: FutureWarning: Automatic reindexing on DataFrame vs Series comparisons is deprecated and will raise ValueError in a future version.  Do `left, right = left.align(right, axis=1, copy=False)` before e.g. `left == right`\n",
      "  print(df < (Q1 - 1.5 * IQR)) |(df > (Q3 + 1.5 * IQR))\n"
     ]
    },
    {
     "ename": "TypeError",
     "evalue": "Cannot perform 'ror_' with a dtyped [bool] array and scalar of type [NoneType]",
     "output_type": "error",
     "traceback": [
      "\u001b[0;31m---------------------------------------------------------------------------\u001b[0m",
      "\u001b[0;31mTypeError\u001b[0m                                 Traceback (most recent call last)",
      "File \u001b[0;32m~/opt/anaconda3/envs/tf2/lib/python3.9/site-packages/pandas/core/ops/array_ops.py:302\u001b[0m, in \u001b[0;36mna_logical_op\u001b[0;34m(x, y, op)\u001b[0m\n\u001b[1;32m    293\u001b[0m \u001b[38;5;28;01mtry\u001b[39;00m:\n\u001b[1;32m    294\u001b[0m     \u001b[38;5;66;03m# For exposition, write:\u001b[39;00m\n\u001b[1;32m    295\u001b[0m     \u001b[38;5;66;03m#  yarr = isinstance(y, np.ndarray)\u001b[39;00m\n\u001b[0;32m   (...)\u001b[0m\n\u001b[1;32m    300\u001b[0m     \u001b[38;5;66;03m# Then Cases where this goes through without raising include:\u001b[39;00m\n\u001b[1;32m    301\u001b[0m     \u001b[38;5;66;03m#  (xint or xbool) and (yint or bool)\u001b[39;00m\n\u001b[0;32m--> 302\u001b[0m     result \u001b[38;5;241m=\u001b[39m \u001b[43mop\u001b[49m\u001b[43m(\u001b[49m\u001b[43mx\u001b[49m\u001b[43m,\u001b[49m\u001b[43m \u001b[49m\u001b[43my\u001b[49m\u001b[43m)\u001b[49m\n\u001b[1;32m    303\u001b[0m \u001b[38;5;28;01mexcept\u001b[39;00m \u001b[38;5;167;01mTypeError\u001b[39;00m:\n",
      "File \u001b[0;32m~/opt/anaconda3/envs/tf2/lib/python3.9/site-packages/pandas/core/roperator.py:56\u001b[0m, in \u001b[0;36mror_\u001b[0;34m(left, right)\u001b[0m\n\u001b[1;32m     55\u001b[0m \u001b[38;5;28;01mdef\u001b[39;00m \u001b[38;5;21mror_\u001b[39m(left, right):\n\u001b[0;32m---> 56\u001b[0m     \u001b[38;5;28;01mreturn\u001b[39;00m \u001b[43moperator\u001b[49m\u001b[38;5;241;43m.\u001b[39;49m\u001b[43mor_\u001b[49m\u001b[43m(\u001b[49m\u001b[43mright\u001b[49m\u001b[43m,\u001b[49m\u001b[43m \u001b[49m\u001b[43mleft\u001b[49m\u001b[43m)\u001b[49m\n",
      "\u001b[0;31mTypeError\u001b[0m: unsupported operand type(s) for |: 'NoneType' and 'bool'",
      "\nDuring handling of the above exception, another exception occurred:\n",
      "\u001b[0;31mValueError\u001b[0m                                Traceback (most recent call last)",
      "File \u001b[0;32m~/opt/anaconda3/envs/tf2/lib/python3.9/site-packages/pandas/core/ops/array_ops.py:316\u001b[0m, in \u001b[0;36mna_logical_op\u001b[0;34m(x, y, op)\u001b[0m\n\u001b[1;32m    315\u001b[0m \u001b[38;5;28;01mtry\u001b[39;00m:\n\u001b[0;32m--> 316\u001b[0m     result \u001b[38;5;241m=\u001b[39m \u001b[43mlibops\u001b[49m\u001b[38;5;241;43m.\u001b[39;49m\u001b[43mscalar_binop\u001b[49m\u001b[43m(\u001b[49m\u001b[43mx\u001b[49m\u001b[43m,\u001b[49m\u001b[43m \u001b[49m\u001b[43my\u001b[49m\u001b[43m,\u001b[49m\u001b[43m \u001b[49m\u001b[43mop\u001b[49m\u001b[43m)\u001b[49m\n\u001b[1;32m    317\u001b[0m \u001b[38;5;28;01mexcept\u001b[39;00m (\n\u001b[1;32m    318\u001b[0m     \u001b[38;5;167;01mTypeError\u001b[39;00m,\n\u001b[1;32m    319\u001b[0m     \u001b[38;5;167;01mValueError\u001b[39;00m,\n\u001b[0;32m   (...)\u001b[0m\n\u001b[1;32m    322\u001b[0m     \u001b[38;5;167;01mNotImplementedError\u001b[39;00m,\n\u001b[1;32m    323\u001b[0m ) \u001b[38;5;28;01mas\u001b[39;00m err:\n",
      "File \u001b[0;32m~/opt/anaconda3/envs/tf2/lib/python3.9/site-packages/pandas/_libs/ops.pyx:180\u001b[0m, in \u001b[0;36mpandas._libs.ops.scalar_binop\u001b[0;34m()\u001b[0m\n",
      "\u001b[0;31mValueError\u001b[0m: Buffer has wrong number of dimensions (expected 1, got 2)",
      "\nThe above exception was the direct cause of the following exception:\n",
      "\u001b[0;31mTypeError\u001b[0m                                 Traceback (most recent call last)",
      "Input \u001b[0;32mIn [16]\u001b[0m, in \u001b[0;36m<cell line: 1>\u001b[0;34m()\u001b[0m\n\u001b[0;32m----> 1\u001b[0m \u001b[38;5;28;43mprint\u001b[39;49m\u001b[43m(\u001b[49m\u001b[43mdf\u001b[49m\u001b[43m \u001b[49m\u001b[38;5;241;43m<\u001b[39;49m\u001b[43m \u001b[49m\u001b[43m(\u001b[49m\u001b[43mQ1\u001b[49m\u001b[43m \u001b[49m\u001b[38;5;241;43m-\u001b[39;49m\u001b[43m \u001b[49m\u001b[38;5;241;43m1.5\u001b[39;49m\u001b[43m \u001b[49m\u001b[38;5;241;43m*\u001b[39;49m\u001b[43m \u001b[49m\u001b[43mIQR\u001b[49m\u001b[43m)\u001b[49m\u001b[43m)\u001b[49m\u001b[43m \u001b[49m\u001b[38;5;241;43m|\u001b[39;49m\u001b[43m(\u001b[49m\u001b[43mdf\u001b[49m\u001b[43m \u001b[49m\u001b[38;5;241;43m>\u001b[39;49m\u001b[43m \u001b[49m\u001b[43m(\u001b[49m\u001b[43mQ3\u001b[49m\u001b[43m \u001b[49m\u001b[38;5;241;43m+\u001b[39;49m\u001b[43m \u001b[49m\u001b[38;5;241;43m1.5\u001b[39;49m\u001b[43m \u001b[49m\u001b[38;5;241;43m*\u001b[39;49m\u001b[43m \u001b[49m\u001b[43mIQR\u001b[49m\u001b[43m)\u001b[49m\u001b[43m)\u001b[49m\n",
      "File \u001b[0;32m~/opt/anaconda3/envs/tf2/lib/python3.9/site-packages/pandas/core/ops/common.py:69\u001b[0m, in \u001b[0;36m_unpack_zerodim_and_defer.<locals>.new_method\u001b[0;34m(self, other)\u001b[0m\n\u001b[1;32m     65\u001b[0m             \u001b[38;5;28;01mreturn\u001b[39;00m \u001b[38;5;28mNotImplemented\u001b[39m\n\u001b[1;32m     67\u001b[0m other \u001b[38;5;241m=\u001b[39m item_from_zerodim(other)\n\u001b[0;32m---> 69\u001b[0m \u001b[38;5;28;01mreturn\u001b[39;00m \u001b[43mmethod\u001b[49m\u001b[43m(\u001b[49m\u001b[38;5;28;43mself\u001b[39;49m\u001b[43m,\u001b[49m\u001b[43m \u001b[49m\u001b[43mother\u001b[49m\u001b[43m)\u001b[49m\n",
      "File \u001b[0;32m~/opt/anaconda3/envs/tf2/lib/python3.9/site-packages/pandas/core/arraylike.py:74\u001b[0m, in \u001b[0;36mOpsMixin.__ror__\u001b[0;34m(self, other)\u001b[0m\n\u001b[1;32m     72\u001b[0m \u001b[38;5;129m@unpack_zerodim_and_defer\u001b[39m(\u001b[38;5;124m\"\u001b[39m\u001b[38;5;124m__ror__\u001b[39m\u001b[38;5;124m\"\u001b[39m)\n\u001b[1;32m     73\u001b[0m \u001b[38;5;28;01mdef\u001b[39;00m \u001b[38;5;21m__ror__\u001b[39m(\u001b[38;5;28mself\u001b[39m, other):\n\u001b[0;32m---> 74\u001b[0m     \u001b[38;5;28;01mreturn\u001b[39;00m \u001b[38;5;28;43mself\u001b[39;49m\u001b[38;5;241;43m.\u001b[39;49m\u001b[43m_logical_method\u001b[49m\u001b[43m(\u001b[49m\u001b[43mother\u001b[49m\u001b[43m,\u001b[49m\u001b[43m \u001b[49m\u001b[43mroperator\u001b[49m\u001b[38;5;241;43m.\u001b[39;49m\u001b[43mror_\u001b[49m\u001b[43m)\u001b[49m\n",
      "File \u001b[0;32m~/opt/anaconda3/envs/tf2/lib/python3.9/site-packages/pandas/core/frame.py:6866\u001b[0m, in \u001b[0;36mDataFrame._arith_method\u001b[0;34m(self, other, op)\u001b[0m\n\u001b[1;32m   6862\u001b[0m other \u001b[38;5;241m=\u001b[39m ops\u001b[38;5;241m.\u001b[39mmaybe_prepare_scalar_for_op(other, (\u001b[38;5;28mself\u001b[39m\u001b[38;5;241m.\u001b[39mshape[axis],))\n\u001b[1;32m   6864\u001b[0m \u001b[38;5;28mself\u001b[39m, other \u001b[38;5;241m=\u001b[39m ops\u001b[38;5;241m.\u001b[39malign_method_FRAME(\u001b[38;5;28mself\u001b[39m, other, axis, flex\u001b[38;5;241m=\u001b[39m\u001b[38;5;28;01mTrue\u001b[39;00m, level\u001b[38;5;241m=\u001b[39m\u001b[38;5;28;01mNone\u001b[39;00m)\n\u001b[0;32m-> 6866\u001b[0m new_data \u001b[38;5;241m=\u001b[39m \u001b[38;5;28;43mself\u001b[39;49m\u001b[38;5;241;43m.\u001b[39;49m\u001b[43m_dispatch_frame_op\u001b[49m\u001b[43m(\u001b[49m\u001b[43mother\u001b[49m\u001b[43m,\u001b[49m\u001b[43m \u001b[49m\u001b[43mop\u001b[49m\u001b[43m,\u001b[49m\u001b[43m \u001b[49m\u001b[43maxis\u001b[49m\u001b[38;5;241;43m=\u001b[39;49m\u001b[43maxis\u001b[49m\u001b[43m)\u001b[49m\n\u001b[1;32m   6867\u001b[0m \u001b[38;5;28;01mreturn\u001b[39;00m \u001b[38;5;28mself\u001b[39m\u001b[38;5;241m.\u001b[39m_construct_result(new_data)\n",
      "File \u001b[0;32m~/opt/anaconda3/envs/tf2/lib/python3.9/site-packages/pandas/core/frame.py:6893\u001b[0m, in \u001b[0;36mDataFrame._dispatch_frame_op\u001b[0;34m(self, right, func, axis)\u001b[0m\n\u001b[1;32m   6890\u001b[0m \u001b[38;5;28;01mif\u001b[39;00m \u001b[38;5;129;01mnot\u001b[39;00m is_list_like(right):\n\u001b[1;32m   6891\u001b[0m     \u001b[38;5;66;03m# i.e. scalar, faster than checking np.ndim(right) == 0\u001b[39;00m\n\u001b[1;32m   6892\u001b[0m     \u001b[38;5;28;01mwith\u001b[39;00m np\u001b[38;5;241m.\u001b[39merrstate(\u001b[38;5;28mall\u001b[39m\u001b[38;5;241m=\u001b[39m\u001b[38;5;124m\"\u001b[39m\u001b[38;5;124mignore\u001b[39m\u001b[38;5;124m\"\u001b[39m):\n\u001b[0;32m-> 6893\u001b[0m         bm \u001b[38;5;241m=\u001b[39m \u001b[38;5;28;43mself\u001b[39;49m\u001b[38;5;241;43m.\u001b[39;49m\u001b[43m_mgr\u001b[49m\u001b[38;5;241;43m.\u001b[39;49m\u001b[43mapply\u001b[49m\u001b[43m(\u001b[49m\u001b[43marray_op\u001b[49m\u001b[43m,\u001b[49m\u001b[43m \u001b[49m\u001b[43mright\u001b[49m\u001b[38;5;241;43m=\u001b[39;49m\u001b[43mright\u001b[49m\u001b[43m)\u001b[49m\n\u001b[1;32m   6894\u001b[0m     \u001b[38;5;28;01mreturn\u001b[39;00m \u001b[38;5;28mtype\u001b[39m(\u001b[38;5;28mself\u001b[39m)(bm)\n\u001b[1;32m   6896\u001b[0m \u001b[38;5;28;01melif\u001b[39;00m \u001b[38;5;28misinstance\u001b[39m(right, DataFrame):\n",
      "File \u001b[0;32m~/opt/anaconda3/envs/tf2/lib/python3.9/site-packages/pandas/core/internals/managers.py:325\u001b[0m, in \u001b[0;36mBaseBlockManager.apply\u001b[0;34m(self, f, align_keys, ignore_failures, **kwargs)\u001b[0m\n\u001b[1;32m    323\u001b[0m \u001b[38;5;28;01mtry\u001b[39;00m:\n\u001b[1;32m    324\u001b[0m     \u001b[38;5;28;01mif\u001b[39;00m callable(f):\n\u001b[0;32m--> 325\u001b[0m         applied \u001b[38;5;241m=\u001b[39m \u001b[43mb\u001b[49m\u001b[38;5;241;43m.\u001b[39;49m\u001b[43mapply\u001b[49m\u001b[43m(\u001b[49m\u001b[43mf\u001b[49m\u001b[43m,\u001b[49m\u001b[43m \u001b[49m\u001b[38;5;241;43m*\u001b[39;49m\u001b[38;5;241;43m*\u001b[39;49m\u001b[43mkwargs\u001b[49m\u001b[43m)\u001b[49m\n\u001b[1;32m    326\u001b[0m     \u001b[38;5;28;01melse\u001b[39;00m:\n\u001b[1;32m    327\u001b[0m         applied \u001b[38;5;241m=\u001b[39m \u001b[38;5;28mgetattr\u001b[39m(b, f)(\u001b[38;5;241m*\u001b[39m\u001b[38;5;241m*\u001b[39mkwargs)\n",
      "File \u001b[0;32m~/opt/anaconda3/envs/tf2/lib/python3.9/site-packages/pandas/core/internals/blocks.py:381\u001b[0m, in \u001b[0;36mBlock.apply\u001b[0;34m(self, func, **kwargs)\u001b[0m\n\u001b[1;32m    376\u001b[0m \u001b[38;5;124;03m\"\"\"\u001b[39;00m\n\u001b[1;32m    377\u001b[0m \u001b[38;5;124;03mapply the function to my values; return a block if we are not\u001b[39;00m\n\u001b[1;32m    378\u001b[0m \u001b[38;5;124;03mone\u001b[39;00m\n\u001b[1;32m    379\u001b[0m \u001b[38;5;124;03m\"\"\"\u001b[39;00m\n\u001b[1;32m    380\u001b[0m \u001b[38;5;28;01mwith\u001b[39;00m np\u001b[38;5;241m.\u001b[39merrstate(\u001b[38;5;28mall\u001b[39m\u001b[38;5;241m=\u001b[39m\u001b[38;5;124m\"\u001b[39m\u001b[38;5;124mignore\u001b[39m\u001b[38;5;124m\"\u001b[39m):\n\u001b[0;32m--> 381\u001b[0m     result \u001b[38;5;241m=\u001b[39m \u001b[43mfunc\u001b[49m\u001b[43m(\u001b[49m\u001b[38;5;28;43mself\u001b[39;49m\u001b[38;5;241;43m.\u001b[39;49m\u001b[43mvalues\u001b[49m\u001b[43m,\u001b[49m\u001b[43m \u001b[49m\u001b[38;5;241;43m*\u001b[39;49m\u001b[38;5;241;43m*\u001b[39;49m\u001b[43mkwargs\u001b[49m\u001b[43m)\u001b[49m\n\u001b[1;32m    383\u001b[0m \u001b[38;5;28;01mreturn\u001b[39;00m \u001b[38;5;28mself\u001b[39m\u001b[38;5;241m.\u001b[39m_split_op_result(result)\n",
      "File \u001b[0;32m~/opt/anaconda3/envs/tf2/lib/python3.9/site-packages/pandas/core/ops/array_ops.py:392\u001b[0m, in \u001b[0;36mlogical_op\u001b[0;34m(left, right, op)\u001b[0m\n\u001b[1;32m    388\u001b[0m \u001b[38;5;66;03m# For int vs int `^`, `|`, `&` are bitwise operators and return\u001b[39;00m\n\u001b[1;32m    389\u001b[0m \u001b[38;5;66;03m#   integer dtypes.  Otherwise these are boolean ops\u001b[39;00m\n\u001b[1;32m    390\u001b[0m filler \u001b[38;5;241m=\u001b[39m fill_int \u001b[38;5;28;01mif\u001b[39;00m is_self_int_dtype \u001b[38;5;129;01mand\u001b[39;00m is_other_int_dtype \u001b[38;5;28;01melse\u001b[39;00m fill_bool\n\u001b[0;32m--> 392\u001b[0m res_values \u001b[38;5;241m=\u001b[39m \u001b[43mna_logical_op\u001b[49m\u001b[43m(\u001b[49m\u001b[43mlvalues\u001b[49m\u001b[43m,\u001b[49m\u001b[43m \u001b[49m\u001b[43mrvalues\u001b[49m\u001b[43m,\u001b[49m\u001b[43m \u001b[49m\u001b[43mop\u001b[49m\u001b[43m)\u001b[49m\n\u001b[1;32m    393\u001b[0m \u001b[38;5;66;03m# error: Cannot call function of unknown type\u001b[39;00m\n\u001b[1;32m    394\u001b[0m res_values \u001b[38;5;241m=\u001b[39m filler(res_values)  \u001b[38;5;66;03m# type: ignore[operator]\u001b[39;00m\n",
      "File \u001b[0;32m~/opt/anaconda3/envs/tf2/lib/python3.9/site-packages/pandas/core/ops/array_ops.py:325\u001b[0m, in \u001b[0;36mna_logical_op\u001b[0;34m(x, y, op)\u001b[0m\n\u001b[1;32m    317\u001b[0m         \u001b[38;5;28;01mexcept\u001b[39;00m (\n\u001b[1;32m    318\u001b[0m             \u001b[38;5;167;01mTypeError\u001b[39;00m,\n\u001b[1;32m    319\u001b[0m             \u001b[38;5;167;01mValueError\u001b[39;00m,\n\u001b[0;32m   (...)\u001b[0m\n\u001b[1;32m    322\u001b[0m             \u001b[38;5;167;01mNotImplementedError\u001b[39;00m,\n\u001b[1;32m    323\u001b[0m         ) \u001b[38;5;28;01mas\u001b[39;00m err:\n\u001b[1;32m    324\u001b[0m             typ \u001b[38;5;241m=\u001b[39m \u001b[38;5;28mtype\u001b[39m(y)\u001b[38;5;241m.\u001b[39m\u001b[38;5;18m__name__\u001b[39m\n\u001b[0;32m--> 325\u001b[0m             \u001b[38;5;28;01mraise\u001b[39;00m \u001b[38;5;167;01mTypeError\u001b[39;00m(\n\u001b[1;32m    326\u001b[0m                 \u001b[38;5;124mf\u001b[39m\u001b[38;5;124m\"\u001b[39m\u001b[38;5;124mCannot perform \u001b[39m\u001b[38;5;124m'\u001b[39m\u001b[38;5;132;01m{\u001b[39;00mop\u001b[38;5;241m.\u001b[39m\u001b[38;5;18m__name__\u001b[39m\u001b[38;5;132;01m}\u001b[39;00m\u001b[38;5;124m'\u001b[39m\u001b[38;5;124m with a dtyped [\u001b[39m\u001b[38;5;132;01m{\u001b[39;00mx\u001b[38;5;241m.\u001b[39mdtype\u001b[38;5;132;01m}\u001b[39;00m\u001b[38;5;124m] array \u001b[39m\u001b[38;5;124m\"\u001b[39m\n\u001b[1;32m    327\u001b[0m                 \u001b[38;5;124mf\u001b[39m\u001b[38;5;124m\"\u001b[39m\u001b[38;5;124mand scalar of type [\u001b[39m\u001b[38;5;132;01m{\u001b[39;00mtyp\u001b[38;5;132;01m}\u001b[39;00m\u001b[38;5;124m]\u001b[39m\u001b[38;5;124m\"\u001b[39m\n\u001b[1;32m    328\u001b[0m             ) \u001b[38;5;28;01mfrom\u001b[39;00m \u001b[38;5;21;01merr\u001b[39;00m\n\u001b[1;32m    330\u001b[0m \u001b[38;5;28;01mreturn\u001b[39;00m result\u001b[38;5;241m.\u001b[39mreshape(x\u001b[38;5;241m.\u001b[39mshape)\n",
      "\u001b[0;31mTypeError\u001b[0m: Cannot perform 'ror_' with a dtyped [bool] array and scalar of type [NoneType]"
     ]
    }
   ],
   "source": [
    "print(df < (Q1 - 1.5 * IQR)) |(df > (Q3 + 1.5 * IQR))"
   ]
  },
  {
   "cell_type": "code",
   "execution_count": 17,
   "metadata": {},
   "outputs": [],
   "source": [
    "df_no_year = df.drop(columns=['Year'])"
   ]
  },
  {
   "cell_type": "code",
   "execution_count": 18,
   "metadata": {},
   "outputs": [],
   "source": [
    "df_z = df[(z < 3).all(axis=1)]"
   ]
  },
  {
   "cell_type": "code",
   "execution_count": 19,
   "metadata": {},
   "outputs": [
    {
     "data": {
      "text/plain": [
       "(55, 10)"
      ]
     },
     "execution_count": 19,
     "metadata": {},
     "output_type": "execute_result"
    }
   ],
   "source": [
    "df_z.shape"
   ]
  },
  {
   "cell_type": "code",
   "execution_count": 20,
   "metadata": {},
   "outputs": [
    {
     "data": {
      "text/plain": [
       "(59, 9)"
      ]
     },
     "execution_count": 20,
     "metadata": {},
     "output_type": "execute_result"
    }
   ],
   "source": [
    "df_no_year.shape"
   ]
  },
  {
   "cell_type": "code",
   "execution_count": 21,
   "metadata": {},
   "outputs": [
    {
     "data": {
      "text/plain": [
       "32    26\n",
       "16    13\n",
       "8      8\n",
       "3      3\n",
       "1      3\n",
       "2      3\n",
       "4      3\n",
       "Name: results, dtype: int64"
      ]
     },
     "execution_count": 21,
     "metadata": {},
     "output_type": "execute_result"
    }
   ],
   "source": [
    "df_no_year['results'].value_counts()"
   ]
  },
  {
   "cell_type": "code",
   "execution_count": 22,
   "metadata": {},
   "outputs": [],
   "source": [
    "df_z = df_no_year[(z < 3).all(axis=1)]"
   ]
  },
  {
   "cell_type": "code",
   "execution_count": 23,
   "metadata": {},
   "outputs": [
    {
     "data": {
      "text/plain": [
       "(55, 9)"
      ]
     },
     "execution_count": 23,
     "metadata": {},
     "output_type": "execute_result"
    }
   ],
   "source": [
    "df_z.shape"
   ]
  },
  {
   "cell_type": "code",
   "execution_count": 24,
   "metadata": {},
   "outputs": [
    {
     "data": {
      "text/plain": [
       "32    25\n",
       "16    13\n",
       "8      7\n",
       "3      3\n",
       "4      3\n",
       "1      2\n",
       "2      2\n",
       "Name: results, dtype: int64"
      ]
     },
     "execution_count": 24,
     "metadata": {},
     "output_type": "execute_result"
    }
   ],
   "source": [
    "df_z['results'].value_counts()\n",
    "\n"
   ]
  },
  {
   "cell_type": "code",
   "execution_count": 25,
   "metadata": {},
   "outputs": [
    {
     "data": {
      "image/png": "[encoded data removed]",
      "text/plain": [
       "<Figure size 1152x576 with 1 Axes>"
      ]
     },
     "metadata": {
      "needs_background": "light"
     },
     "output_type": "display_data"
    }
   ],
   "source": [
    "fig, ax = plt.subplots(figsize=(16,8))\n",
    "ax.scatter(df_z['new_xg'], df_z['Fouled'])\n",
    "ax.set_xlabel('new_xg')\n",
    "ax.set_ylabel('fouled')\n",
    "plt.show()"
   ]
  },
  {
   "cell_type": "code",
   "execution_count": null,
   "metadata": {},
   "outputs": [],
   "source": []
  },
  {
   "cell_type": "markdown",
   "metadata": {},
   "source": [
    "## Linear Regression"
   ]
  },
  {
   "cell_type": "code",
   "execution_count": 26,
   "metadata": {},
   "outputs": [],
   "source": [
    "from sklearn.linear_model import LinearRegression"
   ]
  },
  {
   "cell_type": "code",
   "execution_count": 27,
   "metadata": {},
   "outputs": [],
   "source": [
    "y = df_z['results']"
   ]
  },
  {
   "cell_type": "code",
   "execution_count": 28,
   "metadata": {},
   "outputs": [],
   "source": [
    "X = df_z.drop(columns=['results', 'Country'])"
   ]
  },
  {
   "cell_type": "code",
   "execution_count": 29,
   "metadata": {},
   "outputs": [],
   "source": [
    "X_train, X_test, y_train, y_test = train_test_split(\n",
    "     X, y, test_size=0.33, random_state=42)"
   ]
  },
  {
   "cell_type": "code",
   "execution_count": 30,
   "metadata": {},
   "outputs": [],
   "source": [
    "reg = LinearRegression().fit(X_train, y_train)"
   ]
  },
  {
   "cell_type": "code",
   "execution_count": 35,
   "metadata": {},
   "outputs": [],
   "source": [
    "r_sq = reg.score(X_train, y_train)"
   ]
  },
  {
   "cell_type": "code",
   "execution_count": 36,
   "metadata": {},
   "outputs": [
    {
     "name": "stdout",
     "output_type": "stream",
     "text": [
      "coefficient of determination: 0.6264143500170007\n"
     ]
    }
   ],
   "source": [
    "print(f\"coefficient of determination: {r_sq}\")"
   ]
  },
  {
   "cell_type": "code",
   "execution_count": 37,
   "metadata": {},
   "outputs": [
    {
     "data": {
      "text/plain": [
       "array([-30.00003325,   6.47115033,  -5.60127441,   7.27747398,\n",
       "         1.42782871,  -0.65487835,  -1.99769465])"
      ]
     },
     "execution_count": 37,
     "metadata": {},
     "output_type": "execute_result"
    }
   ],
   "source": [
    "reg.coef_"
   ]
  },
  {
   "cell_type": "code",
   "execution_count": 38,
   "metadata": {},
   "outputs": [
    {
     "name": "stdout",
     "output_type": "stream",
     "text": [
      "slope: [-30.00003325   6.47115033  -5.60127441   7.27747398   1.42782871\n",
      "  -0.65487835  -1.99769465]\n"
     ]
    }
   ],
   "source": [
    "print(f\"slope: {reg.coef_}\")"
   ]
  },
  {
   "cell_type": "code",
   "execution_count": 39,
   "metadata": {},
   "outputs": [
    {
     "data": {
      "text/plain": [
       "24.608745217176484"
      ]
     },
     "execution_count": 39,
     "metadata": {},
     "output_type": "execute_result"
    }
   ],
   "source": [
    "reg.intercept_"
   ]
  },
  {
   "cell_type": "code",
   "execution_count": 40,
   "metadata": {},
   "outputs": [
    {
     "name": "stdout",
     "output_type": "stream",
     "text": [
      "intercept: 24.608745217176484\n"
     ]
    }
   ],
   "source": [
    "print(f\"intercept: {reg.intercept_}\")"
   ]
  },
  {
   "cell_type": "code",
   "execution_count": 31,
   "metadata": {},
   "outputs": [],
   "source": [
    "y_pred = reg.predict(X_test)"
   ]
  },
  {
   "cell_type": "code",
   "execution_count": 32,
   "metadata": {},
   "outputs": [
    {
     "name": "stdout",
     "output_type": "stream",
     "text": [
      "predicted response:\n",
      "[43.22275638 13.74251982 27.56138816 12.15800512 31.26213158 30.73413645\n",
      " 32.33959118 20.30050279 28.40861553  8.98298686 12.89057181 15.99151721\n",
      " 10.5775262   9.43586911 21.47821515 15.50035903 16.32731122 18.00335987\n",
      " 29.50953378]\n"
     ]
    }
   ],
   "source": [
    "print(f\"predicted response:\\n{y_pred}\")"
   ]
  },
  {
   "cell_type": "code",
   "execution_count": 33,
   "metadata": {},
   "outputs": [],
   "source": [
    "y_pred = reg.intercept_ + np.sum(reg.coef_ * X, axis=1)"
   ]
  },
  {
   "cell_type": "code",
   "execution_count": 34,
   "metadata": {},
   "outputs": [
    {
     "name": "stdout",
     "output_type": "stream",
     "text": [
      "predicted response:\n",
      "0     -2.613644\n",
      "1      4.407886\n",
      "3     33.699059\n",
      "4     15.991517\n",
      "5     18.003360\n",
      "7     13.742520\n",
      "8     16.327311\n",
      "9      8.130340\n",
      "10    21.478215\n",
      "11    13.712115\n",
      "12    12.777049\n",
      "13    10.733159\n",
      "14     8.982987\n",
      "15    12.158005\n",
      "16     8.253595\n",
      "17    16.998295\n",
      "18     8.167042\n",
      "19    15.500359\n",
      "20    23.099443\n",
      "21    31.262132\n",
      "22     8.915009\n",
      "23     9.029475\n",
      "25     9.785124\n",
      "26    11.825347\n",
      "27    19.202074\n",
      "28    17.470343\n",
      "29    20.300503\n",
      "30    25.079725\n",
      "32    32.078733\n",
      "33    21.473064\n",
      "34    18.834025\n",
      "35    43.222756\n",
      "36    27.561388\n",
      "37    10.577526\n",
      "38     9.435869\n",
      "39    18.209648\n",
      "40    20.231959\n",
      "41    18.916610\n",
      "42    24.757238\n",
      "43    32.778811\n",
      "44    30.038871\n",
      "45    32.339591\n",
      "46    37.866464\n",
      "47    28.408616\n",
      "48    15.717128\n",
      "49    14.571671\n",
      "50    30.797215\n",
      "51    29.509534\n",
      "52    27.491808\n",
      "53    30.734136\n",
      "54    14.261572\n",
      "55    32.936927\n",
      "56    12.890572\n",
      "57     9.672877\n",
      "58    30.693942\n",
      "dtype: float64\n"
     ]
    }
   ],
   "source": [
    "print(f\"predicted response:\\n{y_pred}\")"
   ]
  },
  {
   "cell_type": "markdown",
   "metadata": {},
   "source": [
    "## Ridge Regression"
   ]
  },
  {
   "cell_type": "code",
   "execution_count": 41,
   "metadata": {},
   "outputs": [],
   "source": [
    "from sklearn.linear_model import Ridge"
   ]
  },
  {
   "cell_type": "code",
   "execution_count": 42,
   "metadata": {},
   "outputs": [],
   "source": [
    "clf = Ridge(alpha=1.0)"
   ]
  },
  {
   "cell_type": "code",
   "execution_count": 43,
   "metadata": {},
   "outputs": [
    {
     "data": {
      "text/plain": [
       "Ridge()"
      ]
     },
     "execution_count": 43,
     "metadata": {},
     "output_type": "execute_result"
    }
   ],
   "source": [
    "clf.fit(X_train, y_train)"
   ]
  },
  {
   "cell_type": "code",
   "execution_count": 49,
   "metadata": {},
   "outputs": [],
   "source": [
    "from sklearn.metrics import mean_squared_error\n",
    "from sklearn.metrics import r2_score"
   ]
  },
  {
   "cell_type": "code",
   "execution_count": 50,
   "metadata": {},
   "outputs": [
    {
     "name": "stdout",
     "output_type": "stream",
     "text": [
      "7.4349802832913445\n",
      "0.6263924172930253\n"
     ]
    }
   ],
   "source": [
    "rr = Ridge(alpha=0.01)\n",
    "rr.fit(X_train, y_train) \n",
    "pred_train_rr= rr.predict(X_train)\n",
    "\n",
    "print(np.sqrt(mean_squared_error(y_train,pred_train_rr)))\n",
    "print(r2_score(y_train, pred_train_rr))"
   ]
  },
  {
   "cell_type": "markdown",
   "metadata": {},
   "source": [
    "#### 62% accuracy"
   ]
  },
  {
   "cell_type": "code",
   "execution_count": 51,
   "metadata": {},
   "outputs": [
    {
     "name": "stdout",
     "output_type": "stream",
     "text": [
      "9.948214663523157\n",
      "0.1952273286492564\n"
     ]
    }
   ],
   "source": [
    "pred_test_rr= rr.predict(X_test)\n",
    "\n",
    "print(np.sqrt(mean_squared_error(y_test,pred_test_rr))) \n",
    "print(r2_score(y_test, pred_test_rr))"
   ]
  },
  {
   "cell_type": "markdown",
   "metadata": {},
   "source": [
    "#### 19% accuracy"
   ]
  },
  {
   "cell_type": "markdown",
   "metadata": {},
   "source": [
    "## Lasso Regression"
   ]
  },
  {
   "cell_type": "code",
   "execution_count": 52,
   "metadata": {},
   "outputs": [],
   "source": [
    "from sklearn import linear_model\n"
   ]
  },
  {
   "cell_type": "code",
   "execution_count": 53,
   "metadata": {},
   "outputs": [],
   "source": [
    "clf = linear_model.Lasso(alpha=0.1)"
   ]
  },
  {
   "cell_type": "code",
   "execution_count": 54,
   "metadata": {},
   "outputs": [
    {
     "data": {
      "text/plain": [
       "Lasso(alpha=0.1)"
      ]
     },
     "execution_count": 54,
     "metadata": {},
     "output_type": "execute_result"
    }
   ],
   "source": [
    "clf.fit(X, y)"
   ]
  },
  {
   "cell_type": "code",
   "execution_count": 55,
   "metadata": {},
   "outputs": [
    {
     "name": "stdout",
     "output_type": "stream",
     "text": [
      "[-29.57458681   0.          -0.           3.11498717  -1.25726675\n",
      "  -0.19238637  -0.20927395]\n"
     ]
    }
   ],
   "source": [
    "print(clf.coef_)"
   ]
  },
  {
   "cell_type": "code",
   "execution_count": 56,
   "metadata": {},
   "outputs": [
    {
     "name": "stdout",
     "output_type": "stream",
     "text": [
      "25.487633991061436\n"
     ]
    }
   ],
   "source": [
    "print(clf.intercept_)"
   ]
  },
  {
   "cell_type": "code",
   "execution_count": 57,
   "metadata": {},
   "outputs": [
    {
     "ename": "NameError",
     "evalue": "name 'Lasso' is not defined",
     "output_type": "error",
     "traceback": [
      "\u001b[0;31m---------------------------------------------------------------------------\u001b[0m",
      "\u001b[0;31mNameError\u001b[0m                                 Traceback (most recent call last)",
      "Input \u001b[0;32mIn [57]\u001b[0m, in \u001b[0;36m<cell line: 1>\u001b[0;34m()\u001b[0m\n\u001b[0;32m----> 1\u001b[0m model_lasso \u001b[38;5;241m=\u001b[39m \u001b[43mLasso\u001b[49m(alpha\u001b[38;5;241m=\u001b[39m\u001b[38;5;241m0.01\u001b[39m)\n\u001b[1;32m      2\u001b[0m model_lasso\u001b[38;5;241m.\u001b[39mfit(X_train, y_train) \n\u001b[1;32m      3\u001b[0m pred_train_lasso\u001b[38;5;241m=\u001b[39m model_lasso\u001b[38;5;241m.\u001b[39mpredict(X_train)\n",
      "\u001b[0;31mNameError\u001b[0m: name 'Lasso' is not defined"
     ]
    }
   ],
   "source": [
    "model_lasso = Lasso(alpha=0.01)\n",
    "model_lasso.fit(X_train, y_train) \n",
    "pred_train_lasso= model_lasso.predict(X_train)\n",
    "\n",
    "print(np.sqrt(mean_squared_error(y_train,pred_train_lasso)))\n",
    "print(r2_score(y_train, pred_train_lasso))\n",
    "\n",
    "\n",
    "pred_test_lasso= model_lasso.predict(X_test)\n",
    "\n",
    "print(np.sqrt(mean_squared_error(y_test,pred_test_lasso))) \n",
    "print(r2_score(y_test, pred_test_lasso))"
   ]
  },
  {
   "cell_type": "code",
   "execution_count": null,
   "metadata": {},
   "outputs": [],
   "source": []
  },
  {
   "cell_type": "markdown",
   "metadata": {},
   "source": [
    "## Elastic Net"
   ]
  },
  {
   "cell_type": "code",
   "execution_count": null,
   "metadata": {},
   "outputs": [],
   "source": [
    "from sklearn.linear_model import ElasticNet\n",
    "from sklearn.datasets import make_regression"
   ]
  },
  {
   "cell_type": "code",
   "execution_count": null,
   "metadata": {},
   "outputs": [],
   "source": [
    "regr = ElasticNet(random_state=0)"
   ]
  },
  {
   "cell_type": "code",
   "execution_count": null,
   "metadata": {},
   "outputs": [],
   "source": [
    "regr.fit(X, y)"
   ]
  },
  {
   "cell_type": "code",
   "execution_count": null,
   "metadata": {},
   "outputs": [],
   "source": [
    "print(regr.coef_)"
   ]
  },
  {
   "cell_type": "code",
   "execution_count": null,
   "metadata": {},
   "outputs": [],
   "source": [
    "print(regr.intercept_)"
   ]
  },
  {
   "cell_type": "code",
   "execution_count": null,
   "metadata": {},
   "outputs": [],
   "source": [
    "# print(regr.predict([[0, 0]]))"
   ]
  },
  {
   "cell_type": "markdown",
   "metadata": {},
   "source": [
    "### SGDRegressor"
   ]
  },
  {
   "cell_type": "code",
   "execution_count": null,
   "metadata": {},
   "outputs": [],
   "source": [
    "from sklearn.linear_model import SGDRegressor\n",
    "from sklearn.pipeline import make_pipeline\n",
    "from sklearn.preprocessing import StandardScaler"
   ]
  },
  {
   "cell_type": "code",
   "execution_count": null,
   "metadata": {},
   "outputs": [],
   "source": [
    "reg = make_pipeline(StandardScaler(), SGDRegressor(max_iter=1000, tol=1e-3))"
   ]
  },
  {
   "cell_type": "code",
   "execution_count": null,
   "metadata": {},
   "outputs": [],
   "source": [
    "reg.fit(X, y)\n"
   ]
  },
  {
   "cell_type": "markdown",
   "metadata": {},
   "source": [
    "## RANSAC (RANdom SAmple Consensus) algorithm"
   ]
  },
  {
   "cell_type": "code",
   "execution_count": null,
   "metadata": {},
   "outputs": [],
   "source": [
    "from sklearn.linear_model import RANSACRegressor\n",
    "from sklearn.datasets import make_regression"
   ]
  },
  {
   "cell_type": "code",
   "execution_count": null,
   "metadata": {},
   "outputs": [],
   "source": [
    "reg = RANSACRegressor(random_state=0).fit(X, y)"
   ]
  },
  {
   "cell_type": "code",
   "execution_count": null,
   "metadata": {},
   "outputs": [],
   "source": [
    "reg.score(X, y)"
   ]
  },
  {
   "cell_type": "code",
   "execution_count": null,
   "metadata": {},
   "outputs": [],
   "source": [
    "# reg.predict(X[:1,])"
   ]
  },
  {
   "cell_type": "markdown",
   "metadata": {},
   "source": [
    "## TheilSenRegressor"
   ]
  },
  {
   "cell_type": "code",
   "execution_count": null,
   "metadata": {},
   "outputs": [],
   "source": [
    "from sklearn.linear_model import TheilSenRegressor\n",
    "from sklearn.datasets import make_regression"
   ]
  },
  {
   "cell_type": "code",
   "execution_count": null,
   "metadata": {},
   "outputs": [],
   "source": [
    "reg = TheilSenRegressor(random_state=0).fit(X, y)"
   ]
  },
  {
   "cell_type": "code",
   "execution_count": null,
   "metadata": {},
   "outputs": [],
   "source": [
    "reg.score(X, y)"
   ]
  },
  {
   "cell_type": "code",
   "execution_count": null,
   "metadata": {},
   "outputs": [],
   "source": [
    "# reg.predict(X[:1,])"
   ]
  },
  {
   "cell_type": "markdown",
   "metadata": {},
   "source": [
    "## ElasticNetCV"
   ]
  },
  {
   "cell_type": "code",
   "execution_count": null,
   "metadata": {},
   "outputs": [],
   "source": [
    "from sklearn.linear_model import ElasticNetCV\n",
    "from sklearn.datasets import make_regression"
   ]
  },
  {
   "cell_type": "code",
   "execution_count": null,
   "metadata": {},
   "outputs": [],
   "source": [
    "regr = ElasticNetCV(cv=5, random_state=0)"
   ]
  },
  {
   "cell_type": "code",
   "execution_count": null,
   "metadata": {},
   "outputs": [],
   "source": [
    "regr.fit(X, y)"
   ]
  },
  {
   "cell_type": "code",
   "execution_count": null,
   "metadata": {},
   "outputs": [],
   "source": [
    "print(regr.alpha_)"
   ]
  },
  {
   "cell_type": "code",
   "execution_count": null,
   "metadata": {},
   "outputs": [],
   "source": [
    "print(regr.intercept_)"
   ]
  },
  {
   "cell_type": "code",
   "execution_count": null,
   "metadata": {},
   "outputs": [],
   "source": [
    "# print(regr.predict([[0, 0]]))"
   ]
  },
  {
   "cell_type": "code",
   "execution_count": null,
   "metadata": {},
   "outputs": [],
   "source": [
    "df"
   ]
  },
  {
   "cell_type": "markdown",
   "metadata": {},
   "source": [
    "## 2022 Teams"
   ]
  },
  {
   "cell_type": "code",
   "execution_count": null,
   "metadata": {},
   "outputs": [],
   "source": [
    "group_16 = [('Netherlands', 'Wales'),\n",
    "            ('Argentina', 'Denmark'),\n",
    "            ('Spain', 'Croatia'),\n",
    "            ('Brazil', 'Uruguay'),\n",
    "            ('Spain', 'Russia'),\n",
    "            ('France', 'Mexico'),\n",
    "            ('England', 'Germany'),\n",
    "            ('Portugal', 'Switzerland')]"
   ]
  },
  {
   "cell_type": "code",
   "execution_count": null,
   "metadata": {},
   "outputs": [],
   "source": [
    "ger2020 = ['goals': 2.7]"
   ]
  }
 ],
 "metadata": {
  "kernelspec": {
   "display_name": "Python 3 (ipykernel)",
   "language": "python",
   "name": "python3"
  },
  "language_info": {
   "codemirror_mode": {
    "name": "ipython",
    "version": 3
   },
   "file_extension": ".py",
   "mimetype": "text/x-python",
   "name": "python",
   "nbconvert_exporter": "python",
   "pygments_lexer": "ipython3",
   "version": "3.9.12"
  }
 },
 "nbformat": 4,
 "nbformat_minor": 2
}
