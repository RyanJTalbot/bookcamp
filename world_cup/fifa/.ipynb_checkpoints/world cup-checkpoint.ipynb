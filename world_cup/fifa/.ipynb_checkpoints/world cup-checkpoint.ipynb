{
 "cells": [
  {
   "cell_type": "markdown",
   "id": "4f7ede15",
   "metadata": {},
   "source": [
    "# Cecklist\n",
    "\n",
    "## Frame the problem and look at big picture\n",
    "[X] Define the objective.\n",
    "\n",
    "    - predict winners of each game in world cup\n",
    "\n",
    "[X] What are the current solutions if any\n",
    "\n",
    "    - Many\n",
    "\n",
    "[X] How should performance be measures\n",
    "\n",
    "    - How well predictions come to fruition. \n",
    "\n",
    "[X] List the assumptions you or others have made so far.\n",
    "\n",
    "    - spi will predict winner\n",
    "    - gather SPI of starters for each team\n",
    "    - use cummulative SPI for each team \n",
    "\n",
    "[ ] Verify assumptions if possible\n",
    "\n",
    "\n",
    "\n",
    "## Get the Data\n",
    "[X] List data you need and how much is needed\n",
    "\n",
    "    - Historical World Cup data for wins and losses?\n",
    "    - SPI of all starters on national teams\n",
    "\n",
    "[ ] Find and document where you get data\n",
    "\n",
    "[ ] Get the data\n",
    "\n",
    "[ ] Convert the data to a format you can manipulate\n",
    "\n",
    "[ ] Check size and type of data (time series, sample, geographial, etc.)\n",
    "\n",
    "[ ] Sample a test set, put it aside, and don't look at it. \n",
    "\n",
    "\n",
    "## Explore the data to gain insights\n",
    "Note: try to get insights from a field expert for these steps.\n",
    "\n",
    "[ ] Create a copy of the data for exploration\n",
    "\n",
    "[ ] Create a jupyter notebook to keep record of data \n",
    "exploration\n",
    "\n",
    "[ ] Study each attribute and its characteristics:\n",
    "\n",
    "    - Name    \n",
    "    - Type (categorical, int/float, bount/unbounded, text, structured, etc.)\n",
    "            - .info(), .describe(), .shape, .head()        \n",
    "    - Noisiness and type of noise (stochastic, outliers, rounding errors, etc.   \n",
    "    - Possibly useful for the task?\n",
    "    - Type of distribution (Gaussian, uniform, logarithmic, etc.)\n",
    "\n",
    "[ ] For supervised learning, Identify the target attribute(s)\n",
    "\n",
    "[ ] Visualize the data.\n",
    "\n",
    "[ ] Study the correlations between attributes\n",
    "\n",
    "[ ] Identify promising transformations you may want to apply. \n",
    "\n",
    "[ ] Document what you have learned\n",
    "    \n",
    "\n",
    "## Prepare the data to better expose the underlying data patterns to ML algorithms\n",
    "Notes: \n",
    "\n",
    "    - Work on copies of data (Keep the original dataset intact).\n",
    "    - Write functions for all data transformation you apply, for 5 reasons:\n",
    "        1. You can easily prepare the data the next time you get a fresh dataset\n",
    "        2. ability to apply these transformations in future projects\n",
    "        3. To clean and prepare the test set\n",
    "        4. To clean and new data instances\n",
    "        5. To make it easy to treate your preparation choices as hyperparamteres\n",
    " \n",
    "\n",
    "[ ] **Data Clearning**:\n",
    "\n",
    "    - Fix or remove outliers (optional)\n",
    "    - Fill in missing values (e.g., with zero, mean, median, etc.) or drop rows (columns)\n",
    "\n",
    "[ ] Feature Selection (optional)\n",
    "\n",
    "    - Drop the attributes that provide no useful information for the task.\n",
    "\n",
    "[ ] **Feature engineering**, where appropriate:\n",
    "\n",
    "    - Discretize continuous features.\n",
    "    - Decompose features (e.g., categorical, date/time, etc.)\n",
    "    - Aggregate features into promising new features.\n",
    "\n",
    "[ ] **Feature Scaling** \n",
    "\n",
    "    - Standardize or normalize features\n",
    "\n",
    "\n",
    "## Explore many different models and short-list the best ones\n",
    "note: try to automate these steps as much as possible.\n",
    "\n",
    "\n",
    "[ ] Train many quick and dirty models from different categories, using standard parameters.\n",
    "\n",
    "    - linear\n",
    "    - naive\n",
    "    - Bayes\n",
    "    - SVM\n",
    "    - Random Forest\n",
    "    - Neural net\n",
    "    - etc.\n",
    "\n",
    "[ ] Measure and compare their performance\n",
    "\n",
    "    - For each model, use **N-fold cross-validation** and compute the standard deviation of their performance.\n",
    "\n",
    "[ ] Analyze the most significant variables for each algorithm\n",
    "\n",
    "[ ] Analyze the types of errors the models make\n",
    "\n",
    "[ ] Quick round of feature selection and engineering\n",
    "\n",
    "[ ] One or two more quick iterations of the 5 previous steps\n",
    "\n",
    "[ ] short-list the top three to five most promising models, preferring models that make different types of errors\n",
    "\n",
    "\n",
    "## Fine-tune your models and combine them into a solution.\n",
    "Note: \n",
    "\n",
    "    - you will want to use as much data as possible for this step, especially as you move toward the end of fine-tuning.\n",
    "    - automate what you can\n",
    "    \n",
    "\n",
    "[ ] Find-tune hyperparameters using **cross-validation**\n",
    "\n",
    "    - treat your data transformation choices asa hyperparameters, especially when you are note sure about them (e.g., should I replace missing values with zero or the median value, etc.)\n",
    "    - Unless there are very few hyperparameter values to explore, prefer random search over grid search. If training is very long, you might prefer a Bayesian optimization approach(e.g., a gaussian process priors)\n",
    "\n",
    "[ ] Try **Ensemble methods**. Combining your best models will often perform better than running them indiviually.\n",
    "\n",
    "[ ] Once you are confident about your final model, measure its performance on the test set to estimate the generalization error. \n",
    "\n",
    "**Note: Don't tweak your model after measuring the generalization error: you would just start overfitting the test set.**\n",
    "\n",
    "\n",
    "## Present solution\n",
    "\n",
    "[ ] Document what you have done\n",
    "\n",
    "[ ] Create Presentation\n",
    "\n",
    "\n",
    "## Launch, monitor, and Maintain"
   ]
  },
  {
   "cell_type": "markdown",
   "id": "d0aade3a",
   "metadata": {},
   "source": [
    "### https://www.kaggle.com/code/launay10christian/world-cup-prediction/notebook\n",
    "\n",
    "Good source for baseline"
   ]
  },
  {
   "cell_type": "markdown",
   "id": "9e86294b",
   "metadata": {},
   "source": [
    "## Glossary\n",
    "\n",
    "**SPI** - rating designed to provide the best possible objective representation of a team's current overall skill level."
   ]
  },
  {
   "cell_type": "code",
   "execution_count": 1,
   "id": "697be90d",
   "metadata": {},
   "outputs": [],
   "source": [
    "import pandas as pd\n",
    "import numpy as np\n",
    "import matplotlib.pyplot as plt\n",
    "import seaborn as sns\n",
    "import matplotlib.ticker as ticker\n",
    "import matplotlib.ticker as plticker\n",
    "from sklearn.model_selection import train_test_split\n",
    "from sklearn.linear_model import LogisticRegression"
   ]
  },
  {
   "cell_type": "markdown",
   "id": "cb00d49b",
   "metadata": {},
   "source": [
    "### Variables for wc 2018, 2014, 2010 and for teams in 2022 world cup"
   ]
  },
  {
   "cell_type": "code",
   "execution_count": 2,
   "id": "637c0a8c",
   "metadata": {},
   "outputs": [],
   "source": [
    "years = [2018, 2014, 2010]"
   ]
  },
  {
   "cell_type": "code",
   "execution_count": 3,
   "id": "8feabced",
   "metadata": {},
   "outputs": [],
   "source": [
    "teams_2022 = ['Qatar', 'Netherlands', 'Senegal', 'Ecuador', 'England', 'USA', 'Wales', 'Iran', 'Argentina', 'Poland', 'Mexico', 'Saudi Arabia', 'France', 'Denmark', 'Tunisia', 'Australia', 'Germany', 'Spain', 'Japan', 'Costa Rica', 'Belgium', 'Croatia', 'Canada', 'Morocco', 'Brazil', 'Switzerland', 'Serbia', 'Cameroon', 'Portugal', 'Uruguay', 'Ghana', 'Korea Republic']"
   ]
  },
  {
   "cell_type": "markdown",
   "id": "4873c4fa",
   "metadata": {},
   "source": [
    "## World Cup 2018 Matches  "
   ]
  },
  {
   "cell_type": "code",
   "execution_count": 4,
   "id": "8c815d36",
   "metadata": {},
   "outputs": [],
   "source": [
    "matches = pd.read_csv('wc_matches.csv')"
   ]
  },
  {
   "cell_type": "code",
   "execution_count": 5,
   "id": "0df686f6",
   "metadata": {},
   "outputs": [
    {
     "data": {
      "text/plain": [
       "Index(['date', 'league_id', 'league', 'team1', 'team2', 'spi1', 'spi2',\n",
       "       'prob1', 'prob2', 'probtie', 'proj_score1', 'proj_score2', 'score1',\n",
       "       'score2', 'xg1', 'xg2', 'nsxg1', 'nsxg2', 'adj_score1', 'adj_score2'],\n",
       "      dtype='object')"
      ]
     },
     "execution_count": 5,
     "metadata": {},
     "output_type": "execute_result"
    }
   ],
   "source": [
    "matches.columns"
   ]
  },
  {
   "cell_type": "code",
   "execution_count": 109,
   "id": "1df3c418",
   "metadata": {
    "scrolled": true
   },
   "outputs": [],
   "source": [
    "#Adding goal difference and establishing who is the winner \n",
    "winner = []\n",
    "for i in range (len(matches['team2'])):\n",
    "    if matches ['score2'][i] > matches['score1'][i]:\n",
    "        winner.append(matches['team2'][i])\n",
    "    elif matches['score2'][i] < matches ['score1'][i]:\n",
    "        winner.append(matches['team1'][i])\n",
    "    else:\n",
    "        winner.append('Draw')\n",
    "matches['winning_team'] = winner\n",
    "\n",
    "#adding goal difference column\n",
    "matches['goal_difference'] = np.absolute(matches['score2'] - matches['score1'])\n",
    "\n",
    "# matches.head()"
   ]
  },
  {
   "cell_type": "code",
   "execution_count": 8,
   "id": "8659e6bf",
   "metadata": {},
   "outputs": [
    {
     "data": {
      "text/plain": [
       "(64, 22)"
      ]
     },
     "execution_count": 8,
     "metadata": {},
     "output_type": "execute_result"
    }
   ],
   "source": [
    "matches.shape"
   ]
  },
  {
   "cell_type": "markdown",
   "id": "850f3074",
   "metadata": {},
   "source": [
    "## World Cup Comparisons Data"
   ]
  },
  {
   "cell_type": "code",
   "execution_count": 9,
   "id": "6d8732b6",
   "metadata": {},
   "outputs": [],
   "source": [
    "comparisons = pd.read_csv('world_cup_comparisons.csv')"
   ]
  },
  {
   "cell_type": "code",
   "execution_count": 10,
   "id": "e6d8ee52",
   "metadata": {},
   "outputs": [
    {
     "data": {
      "text/plain": [
       "Index(['player', 'season', 'team', 'goals_z', 'xg_z', 'crosses_z',\n",
       "       'boxtouches_z', 'passes_z', 'progpasses_z', 'takeons_z', 'progruns_z',\n",
       "       'tackles_z', 'interceptions_z', 'clearances_z', 'blocks_z', 'aerials_z',\n",
       "       'fouls_z', 'fouled_z', 'nsxg_z'],\n",
       "      dtype='object')"
      ]
     },
     "execution_count": 10,
     "metadata": {},
     "output_type": "execute_result"
    }
   ],
   "source": [
    "comparisons.columns"
   ]
  },
  {
   "cell_type": "code",
   "execution_count": 12,
   "id": "e547edee",
   "metadata": {},
   "outputs": [
    {
     "data": {
      "text/plain": [
       "(5899, 19)"
      ]
     },
     "execution_count": 12,
     "metadata": {},
     "output_type": "execute_result"
    }
   ],
   "source": [
    "comparisons.shape"
   ]
  },
  {
   "cell_type": "markdown",
   "id": "65a8bd1a",
   "metadata": {},
   "source": [
    "### Change comparisons to world cups 2018, 2014, and 2010"
   ]
  },
  {
   "cell_type": "markdown",
   "id": "89e19d5b",
   "metadata": {},
   "source": [
    "comparisons years 2010-2018"
   ]
  },
  {
   "cell_type": "code",
   "execution_count": 14,
   "id": "b7f810c3",
   "metadata": {},
   "outputs": [],
   "source": [
    "comparisons = comparisons.loc[comparisons['season'].isin(years)]"
   ]
  },
  {
   "cell_type": "code",
   "execution_count": 17,
   "id": "d65c050f",
   "metadata": {},
   "outputs": [
    {
     "data": {
      "text/plain": [
       "(1668, 19)"
      ]
     },
     "execution_count": 17,
     "metadata": {},
     "output_type": "execute_result"
    }
   ],
   "source": [
    "comparisons.shape"
   ]
  },
  {
   "cell_type": "markdown",
   "id": "7fd2d545",
   "metadata": {},
   "source": [
    "comparisons teams that are in world cup 2022"
   ]
  },
  {
   "cell_type": "code",
   "execution_count": 18,
   "id": "d81ecc65",
   "metadata": {},
   "outputs": [],
   "source": [
    "comparisons = comparisons.loc[comparisons['team'].isin(teams_2022)]"
   ]
  },
  {
   "cell_type": "code",
   "execution_count": 19,
   "id": "e8d492dc",
   "metadata": {},
   "outputs": [
    {
     "data": {
      "text/plain": [
       "(1094, 19)"
      ]
     },
     "execution_count": 19,
     "metadata": {},
     "output_type": "execute_result"
    }
   ],
   "source": [
    "comparisons.shape"
   ]
  },
  {
   "cell_type": "code",
   "execution_count": 20,
   "id": "92a6ecab",
   "metadata": {},
   "outputs": [],
   "source": [
    "year2010 = [2010]\n",
    "year2014 = [2014]\n",
    "year2020 = [2020]"
   ]
  },
  {
   "cell_type": "markdown",
   "id": "1c2e12af",
   "metadata": {},
   "source": [
    "# Germany"
   ]
  },
  {
   "cell_type": "code",
   "execution_count": 21,
   "id": "23695ec0",
   "metadata": {},
   "outputs": [],
   "source": [
    "ger = [\"Germany\"]"
   ]
  },
  {
   "cell_type": "code",
   "execution_count": 22,
   "id": "48c953cc",
   "metadata": {},
   "outputs": [],
   "source": [
    "ger_years = comparisons.loc[comparisons[\"team\"].isin(ger)]"
   ]
  },
  {
   "cell_type": "code",
   "execution_count": 24,
   "id": "72a1112c",
   "metadata": {},
   "outputs": [],
   "source": [
    "ger2010year = ger_years.loc[ger_years[\"season\"].isin(year2010)]"
   ]
  },
  {
   "cell_type": "code",
   "execution_count": 26,
   "id": "b89a1921",
   "metadata": {},
   "outputs": [],
   "source": [
    "ger2010xg = ger2010year.sort_values(by=[\"xg_z\"], ascending=False)"
   ]
  },
  {
   "cell_type": "code",
   "execution_count": 28,
   "id": "88c9d47f",
   "metadata": {},
   "outputs": [],
   "source": [
    "ger2010xg13 = ger2010xg.head(13)"
   ]
  },
  {
   "cell_type": "markdown",
   "id": "11a98afa",
   "metadata": {},
   "source": [
    "#### top 13 players from Germany in 2010 by XG"
   ]
  },
  {
   "cell_type": "markdown",
   "id": "7df3b2f1",
   "metadata": {},
   "source": [
    "### Remove columns"
   ]
  },
  {
   "cell_type": "code",
   "execution_count": 48,
   "id": "ffc7208d",
   "metadata": {},
   "outputs": [],
   "source": [
    "ger2010xg13 = ger2010xg13.drop(columns=['player', 'season', 'team', 'boxtouches_z', 'progpasses_z', 'progruns_z', 'crosses_z', 'passes_z', 'takeons_z', 'tackles_z', 'interceptions_z', 'clearances_z', 'blocks_z', 'aerials_z'])\n"
   ]
  },
  {
   "cell_type": "code",
   "execution_count": 49,
   "id": "72015331",
   "metadata": {
    "scrolled": true
   },
   "outputs": [],
   "source": [
    "ger2010 = ger2010xg13.mean()"
   ]
  },
  {
   "cell_type": "code",
   "execution_count": 50,
   "id": "e2cd149f",
   "metadata": {},
   "outputs": [
    {
     "data": {
      "text/plain": [
       "goals_z     0.816923\n",
       "xg_z        0.513077\n",
       "fouls_z    -0.294615\n",
       "fouled_z   -0.134615\n",
       "nsxg_z      0.328462\n",
       "dtype: float64"
      ]
     },
     "execution_count": 50,
     "metadata": {},
     "output_type": "execute_result"
    }
   ],
   "source": [
    "ger2010"
   ]
  },
  {
   "cell_type": "code",
   "execution_count": 81,
   "id": "17cb0556",
   "metadata": {},
   "outputs": [
    {
     "data": {
      "text/plain": [
       "1.0301325828750079"
      ]
     },
     "execution_count": 81,
     "metadata": {},
     "output_type": "execute_result"
    }
   ],
   "source": [
    "(.513077 + .328462) / .816923"
   ]
  },
  {
   "cell_type": "markdown",
   "id": "8fa3750f",
   "metadata": {},
   "source": [
    "# Switzerland"
   ]
  },
  {
   "cell_type": "code",
   "execution_count": 51,
   "id": "64e773cd",
   "metadata": {},
   "outputs": [],
   "source": [
    "swits = ['Switzerland']"
   ]
  },
  {
   "cell_type": "code",
   "execution_count": 52,
   "id": "0c584216",
   "metadata": {},
   "outputs": [],
   "source": [
    "swiss_year = comparisons.loc[comparisons[\"team\"].isin(swits)]"
   ]
  },
  {
   "cell_type": "code",
   "execution_count": 53,
   "id": "1b42a18f",
   "metadata": {},
   "outputs": [],
   "source": [
    "swiss2010year = swiss_year.loc[swiss_year[\"season\"].isin(year2010)]"
   ]
  },
  {
   "cell_type": "code",
   "execution_count": 54,
   "id": "0c53c616",
   "metadata": {},
   "outputs": [],
   "source": [
    "ch2010xg = swiss2010year.sort_values(by=[\"xg_z\"], ascending=False)"
   ]
  },
  {
   "cell_type": "code",
   "execution_count": 55,
   "id": "ae658685",
   "metadata": {},
   "outputs": [],
   "source": [
    "ch2010xg13 = ch2010xg.head(13)"
   ]
  },
  {
   "cell_type": "code",
   "execution_count": 56,
   "id": "f14d2f98",
   "metadata": {},
   "outputs": [],
   "source": [
    "ch2010xg13 = ch2010xg13.drop(columns=['player', 'season', 'team', 'boxtouches_z', 'progpasses_z', 'progruns_z', 'crosses_z', 'passes_z', 'takeons_z', 'tackles_z', 'interceptions_z', 'clearances_z', 'blocks_z', 'aerials_z'])\n"
   ]
  },
  {
   "cell_type": "code",
   "execution_count": 72,
   "id": "dbc2f6e4",
   "metadata": {},
   "outputs": [],
   "source": [
    "ch2010 = ch2010xg13.mean()"
   ]
  },
  {
   "cell_type": "code",
   "execution_count": 73,
   "id": "7e31e138",
   "metadata": {},
   "outputs": [
    {
     "data": {
      "text/plain": [
       "goals_z    -0.222308\n",
       "xg_z        0.122308\n",
       "fouls_z     0.429231\n",
       "fouled_z    0.042308\n",
       "nsxg_z      0.269231\n",
       "dtype: float64"
      ]
     },
     "execution_count": 73,
     "metadata": {},
     "output_type": "execute_result"
    }
   ],
   "source": [
    "ch2010"
   ]
  },
  {
   "cell_type": "code",
   "execution_count": 82,
   "id": "d35eae3c",
   "metadata": {},
   "outputs": [
    {
     "data": {
      "text/plain": [
       "-1.761245659175558"
      ]
     },
     "execution_count": 82,
     "metadata": {},
     "output_type": "execute_result"
    }
   ],
   "source": [
    "(.122308 + .269231) / -0.222308"
   ]
  },
  {
   "cell_type": "markdown",
   "id": "9ec47917",
   "metadata": {},
   "source": [
    "# Spain"
   ]
  },
  {
   "cell_type": "code",
   "execution_count": 59,
   "id": "d2ba501b",
   "metadata": {},
   "outputs": [],
   "source": [
    "es = ['Spain']"
   ]
  },
  {
   "cell_type": "code",
   "execution_count": 60,
   "id": "3cbe249d",
   "metadata": {},
   "outputs": [],
   "source": [
    "es_year = comparisons.loc[comparisons[\"team\"].isin(es)]"
   ]
  },
  {
   "cell_type": "code",
   "execution_count": 61,
   "id": "0e57a265",
   "metadata": {},
   "outputs": [],
   "source": [
    "es2010year = es_year.loc[es_year[\"season\"].isin(year2010)]"
   ]
  },
  {
   "cell_type": "code",
   "execution_count": 62,
   "id": "994ca3e1",
   "metadata": {},
   "outputs": [],
   "source": [
    "es2010xg = es2010year.sort_values(by=[\"xg_z\"], ascending=False)"
   ]
  },
  {
   "cell_type": "code",
   "execution_count": 64,
   "id": "7a7b63e6",
   "metadata": {},
   "outputs": [],
   "source": [
    "es2010xg13 = es2010xg.head(13)"
   ]
  },
  {
   "cell_type": "code",
   "execution_count": 65,
   "id": "f1aa6106",
   "metadata": {},
   "outputs": [],
   "source": [
    "es2010xg13 = es2010xg13.drop(columns=['player', 'season', 'team', 'boxtouches_z', 'progpasses_z', 'progruns_z', 'crosses_z', 'passes_z', 'takeons_z', 'tackles_z', 'interceptions_z', 'clearances_z', 'blocks_z', 'aerials_z'])\n"
   ]
  },
  {
   "cell_type": "code",
   "execution_count": 66,
   "id": "183cc28d",
   "metadata": {},
   "outputs": [],
   "source": [
    "es2010 = es2010xg13.mean()"
   ]
  },
  {
   "cell_type": "code",
   "execution_count": 67,
   "id": "313a8956",
   "metadata": {},
   "outputs": [
    {
     "data": {
      "text/plain": [
       "goals_z     0.180000\n",
       "xg_z        0.539231\n",
       "fouls_z    -0.138462\n",
       "fouled_z    0.464615\n",
       "nsxg_z      0.762308\n",
       "dtype: float64"
      ]
     },
     "execution_count": 67,
     "metadata": {},
     "output_type": "execute_result"
    }
   ],
   "source": [
    "es2010"
   ]
  },
  {
   "cell_type": "code",
   "execution_count": 83,
   "id": "47cf9305",
   "metadata": {},
   "outputs": [
    {
     "data": {
      "text/plain": [
       "7.230772222222223"
      ]
     },
     "execution_count": 83,
     "metadata": {},
     "output_type": "execute_result"
    }
   ],
   "source": [
    "(.539231 + .762308) / .180000"
   ]
  },
  {
   "cell_type": "markdown",
   "id": "ad4bc5d5",
   "metadata": {},
   "source": [
    "#  Portugal"
   ]
  },
  {
   "cell_type": "code",
   "execution_count": 84,
   "id": "ead9adbe",
   "metadata": {},
   "outputs": [],
   "source": [
    "port = ['Portugal']"
   ]
  },
  {
   "cell_type": "code",
   "execution_count": 85,
   "id": "79a32620",
   "metadata": {},
   "outputs": [],
   "source": [
    "port_year = comparisons.loc[comparisons[\"team\"].isin(port)]"
   ]
  },
  {
   "cell_type": "code",
   "execution_count": 87,
   "id": "fbdd4088",
   "metadata": {},
   "outputs": [],
   "source": [
    "port2010year = port_year.loc[port_year[\"season\"].isin(year2010)]"
   ]
  },
  {
   "cell_type": "code",
   "execution_count": 88,
   "id": "d904136d",
   "metadata": {},
   "outputs": [],
   "source": [
    "port2010xg = port2010year.sort_values(by=[\"xg_z\"], ascending=False)"
   ]
  },
  {
   "cell_type": "code",
   "execution_count": 89,
   "id": "9e6dbb01",
   "metadata": {},
   "outputs": [],
   "source": [
    "port2010xg13 = port2010xg.head(13)"
   ]
  },
  {
   "cell_type": "code",
   "execution_count": 90,
   "id": "dec91b5d",
   "metadata": {},
   "outputs": [],
   "source": [
    "port2010xg13 = port2010xg13.drop(columns=['player', 'season', 'team', 'boxtouches_z', 'progpasses_z', 'progruns_z', 'crosses_z', 'passes_z', 'takeons_z', 'tackles_z', 'interceptions_z', 'clearances_z', 'blocks_z', 'aerials_z'])\n"
   ]
  },
  {
   "cell_type": "code",
   "execution_count": 91,
   "id": "cd5b1793",
   "metadata": {},
   "outputs": [],
   "source": [
    "port2010 = port2010xg13.mean()"
   ]
  },
  {
   "cell_type": "code",
   "execution_count": 92,
   "id": "fa9bc307",
   "metadata": {},
   "outputs": [
    {
     "data": {
      "text/plain": [
       "goals_z     0.531538\n",
       "xg_z        0.284615\n",
       "fouls_z     0.236154\n",
       "fouled_z   -0.030000\n",
       "nsxg_z      0.053077\n",
       "dtype: float64"
      ]
     },
     "execution_count": 92,
     "metadata": {},
     "output_type": "execute_result"
    }
   ],
   "source": [
    "port2010"
   ]
  },
  {
   "cell_type": "code",
   "execution_count": 93,
   "id": "fae6716c",
   "metadata": {},
   "outputs": [
    {
     "data": {
      "text/plain": [
       "0.6353111160443844"
      ]
     },
     "execution_count": 93,
     "metadata": {},
     "output_type": "execute_result"
    }
   ],
   "source": [
    "(.284615 + .053077) / .531538"
   ]
  },
  {
   "cell_type": "markdown",
   "id": "e474b512",
   "metadata": {},
   "source": [
    "# Netherlands"
   ]
  },
  {
   "cell_type": "code",
   "execution_count": 99,
   "id": "0e675a3b",
   "metadata": {},
   "outputs": [],
   "source": [
    "ned = ['Netherlands']"
   ]
  },
  {
   "cell_type": "code",
   "execution_count": 100,
   "id": "f6cbd2b2",
   "metadata": {},
   "outputs": [],
   "source": [
    "ned_year = comparisons.loc[comparisons[\"team\"].isin(ned)]"
   ]
  },
  {
   "cell_type": "code",
   "execution_count": 101,
   "id": "e8e8dcb2",
   "metadata": {},
   "outputs": [],
   "source": [
    "ned2010year = ned_year.loc[ned_year[\"season\"].isin(year2010)]"
   ]
  },
  {
   "cell_type": "code",
   "execution_count": 102,
   "id": "b38f3bdd",
   "metadata": {},
   "outputs": [],
   "source": [
    "ned2010xg = ned2010year.sort_values(by=[\"xg_z\"], ascending=False)"
   ]
  },
  {
   "cell_type": "code",
   "execution_count": 103,
   "id": "7ce014cc",
   "metadata": {},
   "outputs": [],
   "source": [
    "ned2010xg13 = ned2010xg.head(13)"
   ]
  },
  {
   "cell_type": "code",
   "execution_count": 105,
   "id": "435b5fdd",
   "metadata": {},
   "outputs": [],
   "source": [
    "ned2010xg13 = ned2010xg13.drop(columns=['player', 'season', 'team', 'boxtouches_z', 'progpasses_z', 'progruns_z', 'crosses_z', 'passes_z', 'takeons_z', 'tackles_z', 'interceptions_z', 'clearances_z', 'blocks_z', 'aerials_z'])\n"
   ]
  },
  {
   "cell_type": "code",
   "execution_count": 106,
   "id": "3cceb51c",
   "metadata": {},
   "outputs": [],
   "source": [
    "ned2010 = ned2010xg13.mean()"
   ]
  },
  {
   "cell_type": "code",
   "execution_count": 107,
   "id": "43a6091a",
   "metadata": {},
   "outputs": [
    {
     "data": {
      "text/plain": [
       "goals_z     0.396923\n",
       "xg_z        0.126923\n",
       "fouls_z     0.368462\n",
       "fouled_z    0.439231\n",
       "nsxg_z      0.127692\n",
       "dtype: float64"
      ]
     },
     "execution_count": 107,
     "metadata": {},
     "output_type": "execute_result"
    }
   ],
   "source": [
    "ned2010"
   ]
  },
  {
   "cell_type": "code",
   "execution_count": 108,
   "id": "726d3597",
   "metadata": {},
   "outputs": [
    {
     "data": {
      "text/plain": [
       "0.6414720235410899"
      ]
     },
     "execution_count": 108,
     "metadata": {},
     "output_type": "execute_result"
    }
   ],
   "source": [
    "(.126923 + .127692) / .396923"
   ]
  },
  {
   "cell_type": "markdown",
   "id": "2923b574",
   "metadata": {},
   "source": [
    "## World Cup Data from 2018 - 210\n",
    "\n",
    "initialized to variable df"
   ]
  },
  {
   "cell_type": "code",
   "execution_count": null,
   "id": "a1c879e0",
   "metadata": {},
   "outputs": [],
   "source": [
    "# df = pd.concat(\n",
    "#     map(pd.read_csv, ['FIFA - 2018.csv', 'FIFA - 2014.csv', 'FIFA - 2010.csv', 'FIFA - 2006.csv', 'FIFA - 2002.csv', 'FIFA - 1998.csv', 'FIFA - 1994.csv', 'FIFA - 1990.csv', 'FIFA - 1986.csv', 'FIFA - 1982.csv', 'FIFA - 1978.csv', 'FIFA - 1974.csv', 'FIFA - 1970.csv' ]), ignore_index=True)\n",
    "# print(df)\n",
    "\n",
    "df = pd.concat(\n",
    "    map(pd.read_csv, ['FIFA - 2018.csv', 'FIFA - 2014.csv', 'FIFA - 2010.csv']))\n"
   ]
  },
  {
   "cell_type": "code",
   "execution_count": null,
   "id": "0693fc6f",
   "metadata": {},
   "outputs": [],
   "source": [
    "df.columns"
   ]
  },
  {
   "cell_type": "code",
   "execution_count": null,
   "id": "0d253461",
   "metadata": {},
   "outputs": [],
   "source": [
    "df.shape"
   ]
  },
  {
   "cell_type": "code",
   "execution_count": null,
   "id": "1558a821",
   "metadata": {},
   "outputs": [],
   "source": [
    "df.head()"
   ]
  },
  {
   "cell_type": "code",
   "execution_count": null,
   "id": "10d54dd9",
   "metadata": {},
   "outputs": [],
   "source": [
    "df.tail()"
   ]
  },
  {
   "cell_type": "markdown",
   "id": "600c6117",
   "metadata": {},
   "source": [
    "### change to only teams in world cup 2022"
   ]
  },
  {
   "cell_type": "code",
   "execution_count": null,
   "id": "ec096975",
   "metadata": {},
   "outputs": [],
   "source": [
    "# teams_2022 = ['Qatar', 'Netherlands', 'Senegal', 'Ecuador', 'England', 'USA', 'Wales', 'Iran', 'Argentina', 'Poland', 'Mexico', 'Saudi Arabia', 'France', 'Denmark', 'Tunisia', 'Australia', 'Germany', 'Spain', 'Japan', 'Costa Rica', 'Belgium', 'Croatia', 'Canada', 'Morocco', 'Brazil', 'Switzerland', 'Serbia', 'Cameroon', 'Portugal', 'Uruguay', 'Ghana', 'Korea Republic']"
   ]
  },
  {
   "cell_type": "code",
   "execution_count": null,
   "id": "212c8f33",
   "metadata": {},
   "outputs": [],
   "source": [
    "df = df.loc[df['Team'].isin(teams_2022)]"
   ]
  },
  {
   "cell_type": "code",
   "execution_count": null,
   "id": "de615dec",
   "metadata": {},
   "outputs": [],
   "source": [
    "df.head()"
   ]
  },
  {
   "cell_type": "code",
   "execution_count": null,
   "id": "1e6ee07d",
   "metadata": {},
   "outputs": [],
   "source": [
    "df.tail()"
   ]
  },
  {
   "cell_type": "code",
   "execution_count": null,
   "id": "8edc683b",
   "metadata": {},
   "outputs": [],
   "source": []
  }
 ],
 "metadata": {
  "kernelspec": {
   "display_name": "Python 3 (ipykernel)",
   "language": "python",
   "name": "python3"
  },
  "language_info": {
   "codemirror_mode": {
    "name": "ipython",
    "version": 3
   },
   "file_extension": ".py",
   "mimetype": "text/x-python",
   "name": "python",
   "nbconvert_exporter": "python",
   "pygments_lexer": "ipython3",
   "version": "3.9.12"
  }
 },
 "nbformat": 4,
 "nbformat_minor": 5
}
