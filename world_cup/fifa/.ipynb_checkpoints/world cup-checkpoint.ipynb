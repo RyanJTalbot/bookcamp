{
 "cells": [
  {
   "cell_type": "markdown",
   "metadata": {},
   "source": [
    "## Brazil will win World Cup|"
   ]
  },
  {
   "cell_type": "markdown",
   "metadata": {},
   "source": [
    "# TODO:\n",
    "- Update all teams to add:\n",
    "    - 'goals_z'\n",
    "    - 'g_z'\n",
    "    - 'boxtouches_z'\n",
    "    - 'progpasses_z'\n",
    "    - 'progruns_z',\n",
    "    \n",
    "- Maybe add miles from country? \n",
    "- Add Continent of country\n",
    "- Continent of winners\n",
    "    - South America\n",
    "    - Europe"
   ]
  },
  {
   "cell_type": "markdown",
   "metadata": {},
   "source": [
    "# Cecklist\n",
    "\n",
    "## Frame the problem and look at big picture\n",
    "[X] Define the objective.\n",
    "\n",
    "    - predict winners of each game in world cup\n",
    "\n",
    "[X] What are the current solutions if any\n",
    "\n",
    "    - Many\n",
    "\n",
    "[X] How should performance be measures\n",
    "\n",
    "    - How well predictions come to fruition. \n",
    "\n",
    "[X] List the assumptions you or others have made so far.\n",
    "\n",
    "    - spi will predict winner\n",
    "    - gather SPI of starters for each team\n",
    "    - use cummulative SPI for each team \n",
    "    - performance in qualifying tournaments and performance in fifa\n",
    "    - performance in qualifying rounds and performance in elimination\n",
    "\n",
    "[ ] Verify assumptions if possible\n",
    "\n",
    "\n",
    "\n",
    "## Get the Data\n",
    "[X] List data you need and how much is needed\n",
    "\n",
    "    - Historical World Cup data for wins and losses?\n",
    "    - SPI of all starters on national teams\n",
    "\n",
    "[ ] Find and document where you get data\n",
    "\n",
    "[ ] Get the data\n",
    "\n",
    "[ ] Convert the data to a format you can manipulate\n",
    "\n",
    "[ ] Check size and type of data (time series, sample, geographial, etc.)\n",
    "\n",
    "[ ] Sample a test set, put it aside, and don't look at it. \n",
    "\n",
    "\n",
    "## Explore the data to gain insights\n",
    "Note: try to get insights from a field expert for these steps.\n",
    "\n",
    "[ ] Create a copy of the data for exploration\n",
    "\n",
    "[ ] Create a jupyter notebook to keep record of data \n",
    "exploration\n",
    "\n",
    "[ ] Study each attribute and its characteristics:\n",
    "\n",
    "    - Name    \n",
    "    - Type (categorical, int/float, bount/unbounded, text, structured, etc.)\n",
    "            - .info(), .describe(), .shape, .head()        \n",
    "    - Noisiness and type of noise (stochastic, outliers, rounding errors, etc.   \n",
    "    - Possibly useful for the task?\n",
    "    - Type of distribution (Gaussian, uniform, logarithmic, etc.)\n",
    "\n",
    "[ ] For supervised learning, Identify the target attribute(s)\n",
    "\n",
    "[ ] Visualize the data.\n",
    "\n",
    "[ ] Study the correlations between attributes\n",
    "\n",
    "[ ] Identify promising transformations you may want to apply. \n",
    "\n",
    "[ ] Document what you have learned\n",
    "    \n",
    "\n",
    "## Prepare the data to better expose the underlying data patterns to ML algorithms\n",
    "Notes: \n",
    "\n",
    "    - Work on copies of data (Keep the original dataset intact).\n",
    "    - Write functions for all data transformation you apply, for 5 reasons:\n",
    "        1. You can easily prepare the data the next time you get a fresh dataset\n",
    "        2. ability to apply these transformations in future projects\n",
    "        3. To clean and prepare the test set\n",
    "        4. To clean and new data instances\n",
    "        5. To make it easy to treate your preparation choices as hyperparamteres\n",
    " \n",
    "\n",
    "[ ] **Data Clearning**:\n",
    "\n",
    "    - Fix or remove outliers (optional)\n",
    "    - Fill in missing values (e.g., with zero, mean, median, etc.) or drop rows (columns)\n",
    "\n",
    "[ ] Feature Selection (optional)\n",
    "\n",
    "    - Drop the attributes that provide no useful information for the task.\n",
    "\n",
    "[ ] **Feature engineering**, where appropriate:\n",
    "\n",
    "    - Discretize continuous features.\n",
    "    - Decompose features (e.g., categorical, date/time, etc.)\n",
    "    - Aggregate features into promising new features.\n",
    "\n",
    "[ ] **Feature Scaling** \n",
    "\n",
    "    - Standardize or normalize features\n",
    "\n",
    "\n",
    "## Explore many different models and short-list the best ones\n",
    "note: try to automate these steps as much as possible.\n",
    "\n",
    "\n",
    "[ ] Train many quick and dirty models from different categories, using standard parameters.\n",
    "\n",
    "    - regression \n",
    "    - linear\n",
    "    - naive\n",
    "    - Bayes\n",
    "    - SVM\n",
    "    - Random Forest\n",
    "    - Neural net\n",
    "    - etc.\n",
    "\n",
    "[ ] Measure and compare their performance\n",
    "\n",
    "    - For each model, use **N-fold cross-validation** and compute the standard deviation of their performance.\n",
    "\n",
    "[ ] Analyze the most significant variables for each algorithm\n",
    "\n",
    "[ ] Analyze the types of errors the models make\n",
    "\n",
    "[ ] Quick round of feature selection and engineering\n",
    "\n",
    "[ ] One or two more quick iterations of the 5 previous steps\n",
    "\n",
    "[ ] short-list the top three to five most promising models, preferring models that make different types of errors\n",
    "\n",
    "\n",
    "## Fine-tune your models and combine them into a solution.\n",
    "Note: \n",
    "\n",
    "    - you will want to use as much data as possible for this step, especially as you move toward the end of fine-tuning.\n",
    "    - automate what you can\n",
    "    \n",
    "\n",
    "[ ] Find-tune hyperparameters using **cross-validation**\n",
    "\n",
    "    - treat your data transformation choices asa hyperparameters, especially when you are note sure about them (e.g., should I replace missing values with zero or the median value, etc.)\n",
    "    - Unless there are very few hyperparameter values to explore, prefer random search over grid search. If training is very long, you might prefer a Bayesian optimization approach(e.g., a gaussian process priors)\n",
    "\n",
    "[ ] Try **Ensemble methods**. Combining your best models will often perform better than running them indiviually.\n",
    "\n",
    "[ ] Once you are confident about your final model, measure its performance on the test set to estimate the generalization error. \n",
    "\n",
    "**Note: Don't tweak your model after measuring the generalization error: you would just start overfitting the test set.**\n",
    "\n",
    "\n",
    "## Present solution\n",
    "\n",
    "[ ] Document what you have done\n",
    "\n",
    "[ ] Create Presentation\n",
    "\n",
    "\n",
    "## Launch, monitor, and Maintain"
   ]
  },
  {
   "cell_type": "markdown",
   "metadata": {},
   "source": [
    "### https://www.kaggle.com/code/launay10christian/world-cup-prediction/notebook\n",
    "\n",
    "Good source for baseline"
   ]
  },
  {
   "cell_type": "markdown",
   "metadata": {},
   "source": [
    "## Glossary\n",
    "\n",
    "**SPI** - rating designed to provide the best possible objective representation of a team's current overall skill level."
   ]
  },
  {
   "cell_type": "code",
   "execution_count": 1,
   "metadata": {},
   "outputs": [],
   "source": [
    "import pandas as pd\n",
    "import numpy as np\n",
    "import matplotlib.pyplot as plt\n",
    "import seaborn as sns\n",
    "import matplotlib.ticker as ticker\n",
    "import matplotlib.ticker as plticker\n",
    "from sklearn.model_selection import train_test_split\n",
    "from sklearn.linear_model import LogisticRegression\n",
    "\n",
    "import matplotlib.pyplot as pyplot\n",
    "import seaborn as sns"
   ]
  },
  {
   "cell_type": "markdown",
   "metadata": {},
   "source": [
    "### Variables for wc 2018, 2014, 2010, 2004, 2000 and for teams in 2022 world cup"
   ]
  },
  {
   "cell_type": "code",
   "execution_count": 2,
   "metadata": {},
   "outputs": [],
   "source": [
    "years = [2018, 2014, 2010, 2006, 2002]"
   ]
  },
  {
   "cell_type": "code",
   "execution_count": 3,
   "metadata": {},
   "outputs": [],
   "source": [
    "teams_2022 = ['Qatar', 'Netherlands', 'Senegal', 'Ecuador', 'England', 'USA', 'Wales', 'Iran', 'Argentina', 'Poland', 'Mexico', 'Saudi Arabia', 'France', 'Denmark', 'Tunisia', 'Australia', 'Germany', 'Spain', 'Japan', 'Costa Rica', 'Belgium', 'Croatia', 'Canada', 'Morocco', 'Brazil', 'Switzerland', 'Serbia', 'Cameroon', 'Portugal', 'Uruguay', 'Ghana', 'Korea Republic']"
   ]
  },
  {
   "cell_type": "markdown",
   "metadata": {},
   "source": [
    "## World Cup 2018 Matches  "
   ]
  },
  {
   "cell_type": "code",
   "execution_count": 4,
   "metadata": {},
   "outputs": [],
   "source": [
    "matches = pd.read_csv('wc_matches.csv')"
   ]
  },
  {
   "cell_type": "code",
   "execution_count": 5,
   "metadata": {},
   "outputs": [
    {
     "data": {
      "text/html": [
       "<div>\n",
       "<style scoped>\n",
       "    .dataframe tbody tr th:only-of-type {\n",
       "        vertical-align: middle;\n",
       "    }\n",
       "\n",
       "    .dataframe tbody tr th {\n",
       "        vertical-align: top;\n",
       "    }\n",
       "\n",
       "    .dataframe thead th {\n",
       "        text-align: right;\n",
       "    }\n",
       "</style>\n",
       "<table border=\"1\" class=\"dataframe\">\n",
       "  <thead>\n",
       "    <tr style=\"text-align: right;\">\n",
       "      <th></th>\n",
       "      <th>date</th>\n",
       "      <th>league_id</th>\n",
       "      <th>league</th>\n",
       "      <th>team1</th>\n",
       "      <th>team2</th>\n",
       "      <th>spi1</th>\n",
       "      <th>spi2</th>\n",
       "      <th>prob1</th>\n",
       "      <th>prob2</th>\n",
       "      <th>probtie</th>\n",
       "      <th>proj_score1</th>\n",
       "      <th>proj_score2</th>\n",
       "      <th>score1</th>\n",
       "      <th>score2</th>\n",
       "      <th>xg1</th>\n",
       "      <th>xg2</th>\n",
       "      <th>nsxg1</th>\n",
       "      <th>nsxg2</th>\n",
       "      <th>adj_score1</th>\n",
       "      <th>adj_score2</th>\n",
       "    </tr>\n",
       "  </thead>\n",
       "  <tbody>\n",
       "    <tr>\n",
       "      <th>0</th>\n",
       "      <td>2018-06-14</td>\n",
       "      <td>1908</td>\n",
       "      <td>FIFA World Cup</td>\n",
       "      <td>Russia</td>\n",
       "      <td>Saudi Arabia</td>\n",
       "      <td>70.14</td>\n",
       "      <td>51.33</td>\n",
       "      <td>0.6615</td>\n",
       "      <td>0.1200</td>\n",
       "      <td>0.2184</td>\n",
       "      <td>2.03</td>\n",
       "      <td>0.73</td>\n",
       "      <td>5</td>\n",
       "      <td>0</td>\n",
       "      <td>1.62</td>\n",
       "      <td>0.20</td>\n",
       "      <td>1.55</td>\n",
       "      <td>0.11</td>\n",
       "      <td>4.18</td>\n",
       "      <td>0.00</td>\n",
       "    </tr>\n",
       "    <tr>\n",
       "      <th>1</th>\n",
       "      <td>2018-06-15</td>\n",
       "      <td>1908</td>\n",
       "      <td>FIFA World Cup</td>\n",
       "      <td>Egypt</td>\n",
       "      <td>Uruguay</td>\n",
       "      <td>62.46</td>\n",
       "      <td>79.52</td>\n",
       "      <td>0.1845</td>\n",
       "      <td>0.5433</td>\n",
       "      <td>0.2723</td>\n",
       "      <td>0.82</td>\n",
       "      <td>1.61</td>\n",
       "      <td>0</td>\n",
       "      <td>1</td>\n",
       "      <td>0.42</td>\n",
       "      <td>1.94</td>\n",
       "      <td>0.65</td>\n",
       "      <td>1.94</td>\n",
       "      <td>0.00</td>\n",
       "      <td>1.05</td>\n",
       "    </tr>\n",
       "    <tr>\n",
       "      <th>2</th>\n",
       "      <td>2018-06-15</td>\n",
       "      <td>1908</td>\n",
       "      <td>FIFA World Cup</td>\n",
       "      <td>Morocco</td>\n",
       "      <td>Iran</td>\n",
       "      <td>72.33</td>\n",
       "      <td>65.57</td>\n",
       "      <td>0.4004</td>\n",
       "      <td>0.2667</td>\n",
       "      <td>0.3330</td>\n",
       "      <td>1.13</td>\n",
       "      <td>0.86</td>\n",
       "      <td>0</td>\n",
       "      <td>1</td>\n",
       "      <td>0.86</td>\n",
       "      <td>0.72</td>\n",
       "      <td>0.57</td>\n",
       "      <td>0.36</td>\n",
       "      <td>0.00</td>\n",
       "      <td>1.05</td>\n",
       "    </tr>\n",
       "    <tr>\n",
       "      <th>3</th>\n",
       "      <td>2018-06-15</td>\n",
       "      <td>1908</td>\n",
       "      <td>FIFA World Cup</td>\n",
       "      <td>Portugal</td>\n",
       "      <td>Spain</td>\n",
       "      <td>83.47</td>\n",
       "      <td>91.30</td>\n",
       "      <td>0.2459</td>\n",
       "      <td>0.4809</td>\n",
       "      <td>0.2732</td>\n",
       "      <td>1.07</td>\n",
       "      <td>1.60</td>\n",
       "      <td>3</td>\n",
       "      <td>3</td>\n",
       "      <td>1.15</td>\n",
       "      <td>1.63</td>\n",
       "      <td>0.80</td>\n",
       "      <td>2.59</td>\n",
       "      <td>3.15</td>\n",
       "      <td>3.15</td>\n",
       "    </tr>\n",
       "    <tr>\n",
       "      <th>4</th>\n",
       "      <td>2018-06-16</td>\n",
       "      <td>1908</td>\n",
       "      <td>FIFA World Cup</td>\n",
       "      <td>France</td>\n",
       "      <td>Australia</td>\n",
       "      <td>87.18</td>\n",
       "      <td>61.69</td>\n",
       "      <td>0.7694</td>\n",
       "      <td>0.0746</td>\n",
       "      <td>0.1560</td>\n",
       "      <td>2.61</td>\n",
       "      <td>0.69</td>\n",
       "      <td>2</td>\n",
       "      <td>1</td>\n",
       "      <td>1.38</td>\n",
       "      <td>1.03</td>\n",
       "      <td>1.24</td>\n",
       "      <td>0.39</td>\n",
       "      <td>2.10</td>\n",
       "      <td>1.05</td>\n",
       "    </tr>\n",
       "  </tbody>\n",
       "</table>\n",
       "</div>"
      ],
      "text/plain": [
       "         date  league_id          league     team1         team2   spi1  \\\n",
       "0  2018-06-14       1908  FIFA World Cup    Russia  Saudi Arabia  70.14   \n",
       "1  2018-06-15       1908  FIFA World Cup     Egypt       Uruguay  62.46   \n",
       "2  2018-06-15       1908  FIFA World Cup   Morocco          Iran  72.33   \n",
       "3  2018-06-15       1908  FIFA World Cup  Portugal         Spain  83.47   \n",
       "4  2018-06-16       1908  FIFA World Cup    France     Australia  87.18   \n",
       "\n",
       "    spi2   prob1   prob2  probtie  proj_score1  proj_score2  score1  score2  \\\n",
       "0  51.33  0.6615  0.1200   0.2184         2.03         0.73       5       0   \n",
       "1  79.52  0.1845  0.5433   0.2723         0.82         1.61       0       1   \n",
       "2  65.57  0.4004  0.2667   0.3330         1.13         0.86       0       1   \n",
       "3  91.30  0.2459  0.4809   0.2732         1.07         1.60       3       3   \n",
       "4  61.69  0.7694  0.0746   0.1560         2.61         0.69       2       1   \n",
       "\n",
       "    xg1   xg2  nsxg1  nsxg2  adj_score1  adj_score2  \n",
       "0  1.62  0.20   1.55   0.11        4.18        0.00  \n",
       "1  0.42  1.94   0.65   1.94        0.00        1.05  \n",
       "2  0.86  0.72   0.57   0.36        0.00        1.05  \n",
       "3  1.15  1.63   0.80   2.59        3.15        3.15  \n",
       "4  1.38  1.03   1.24   0.39        2.10        1.05  "
      ]
     },
     "execution_count": 5,
     "metadata": {},
     "output_type": "execute_result"
    }
   ],
   "source": [
    "matches.head()"
   ]
  },
  {
   "cell_type": "code",
   "execution_count": 6,
   "metadata": {},
   "outputs": [
    {
     "data": {
      "text/plain": [
       "Index(['date', 'league_id', 'league', 'team1', 'team2', 'spi1', 'spi2',\n",
       "       'prob1', 'prob2', 'probtie', 'proj_score1', 'proj_score2', 'score1',\n",
       "       'score2', 'xg1', 'xg2', 'nsxg1', 'nsxg2', 'adj_score1', 'adj_score2'],\n",
       "      dtype='object')"
      ]
     },
     "execution_count": 6,
     "metadata": {},
     "output_type": "execute_result"
    }
   ],
   "source": [
    "matches.columns"
   ]
  },
  {
   "cell_type": "code",
   "execution_count": 7,
   "metadata": {},
   "outputs": [],
   "source": [
    "matches['date'] =  pd.to_datetime(matches['date'],  format=\"%Y/%m/%d\")\n"
   ]
  },
  {
   "cell_type": "code",
   "execution_count": 8,
   "metadata": {},
   "outputs": [],
   "source": [
    "matches = matches.set_index('date')"
   ]
  },
  {
   "cell_type": "code",
   "execution_count": 9,
   "metadata": {},
   "outputs": [],
   "source": [
    "# matches.plot()"
   ]
  },
  {
   "cell_type": "code",
   "execution_count": 10,
   "metadata": {},
   "outputs": [],
   "source": [
    "# matches['xg2'].plot()"
   ]
  },
  {
   "cell_type": "code",
   "execution_count": 11,
   "metadata": {},
   "outputs": [],
   "source": [
    "# axs = matches.plot.area(figsize=(34, 26), subplots=True)"
   ]
  },
  {
   "cell_type": "code",
   "execution_count": 12,
   "metadata": {},
   "outputs": [],
   "source": [
    "# matches.plot.scatter(x=\"xg1\", y=\"nsxg1\", alpha=0.5)\n"
   ]
  },
  {
   "cell_type": "markdown",
   "metadata": {},
   "source": [
    "overview of the available plot methods:"
   ]
  },
  {
   "cell_type": "code",
   "execution_count": 13,
   "metadata": {},
   "outputs": [
    {
     "data": {
      "text/plain": [
       "['area',\n",
       " 'bar',\n",
       " 'barh',\n",
       " 'box',\n",
       " 'density',\n",
       " 'hexbin',\n",
       " 'hist',\n",
       " 'kde',\n",
       " 'line',\n",
       " 'pie',\n",
       " 'scatter']"
      ]
     },
     "execution_count": 13,
     "metadata": {},
     "output_type": "execute_result"
    }
   ],
   "source": [
    "[\n",
    "    method_name\n",
    "    for method_name in dir(matches.plot)\n",
    "    if not method_name.startswith(\"_\")\n",
    "]"
   ]
  },
  {
   "cell_type": "code",
   "execution_count": 14,
   "metadata": {},
   "outputs": [
    {
     "data": {
      "text/plain": [
       "<AxesSubplot:>"
      ]
     },
     "execution_count": 14,
     "metadata": {},
     "output_type": "execute_result"
    },
    {
     "data": {
      "image/png": "[encoded data removed]",
      "text/plain": [
       "<Figure size 432x288 with 1 Axes>"
      ]
     },
     "metadata": {
      "needs_background": "light"
     },
     "output_type": "display_data"
    }
   ],
   "source": [
    "new_df = matches.drop(columns=['league_id', 'spi1', 'spi2'])\n",
    "new_df.plot.box()"
   ]
  },
  {
   "cell_type": "code",
   "execution_count": 15,
   "metadata": {},
   "outputs": [],
   "source": [
    "# fig, axs = plt.subplots(figsize=(12, 4))        # Create an empty matplotlib Figure and Axes\n",
    "# new_df.plot.area(ax=axs)                   # Use pandas to put the area plot on the prepared Figure/Axes\n",
    "# axs.set_ylabel(\"Date\")          # Do any matplotlib customization you like\n",
    "# fig.savefig(\"testing.png\")           # Save the Figure/Axes using the existing matplotlib method.\n"
   ]
  },
  {
   "cell_type": "code",
   "execution_count": 16,
   "metadata": {
    "scrolled": true
   },
   "outputs": [],
   "source": [
    "# df = df.rename(columns=str.lower)"
   ]
  },
  {
   "cell_type": "code",
   "execution_count": 17,
   "metadata": {},
   "outputs": [
    {
     "data": {
      "text/plain": [
       "Index(['league', 'team1', 'team2', 'prob1', 'prob2', 'probtie', 'proj_score1',\n",
       "       'proj_score2', 'score1', 'score2', 'xg1', 'xg2', 'nsxg1', 'nsxg2',\n",
       "       'adj_score1', 'adj_score2'],\n",
       "      dtype='object')"
      ]
     },
     "execution_count": 17,
     "metadata": {},
     "output_type": "execute_result"
    }
   ],
   "source": [
    "new_df.columns"
   ]
  },
  {
   "cell_type": "code",
   "execution_count": 18,
   "metadata": {},
   "outputs": [
    {
     "data": {
      "text/html": [
       "<div>\n",
       "<style scoped>\n",
       "    .dataframe tbody tr th:only-of-type {\n",
       "        vertical-align: middle;\n",
       "    }\n",
       "\n",
       "    .dataframe tbody tr th {\n",
       "        vertical-align: top;\n",
       "    }\n",
       "\n",
       "    .dataframe thead th {\n",
       "        text-align: right;\n",
       "    }\n",
       "</style>\n",
       "<table border=\"1\" class=\"dataframe\">\n",
       "  <thead>\n",
       "    <tr style=\"text-align: right;\">\n",
       "      <th></th>\n",
       "      <th>prob1</th>\n",
       "      <th>prob2</th>\n",
       "      <th>probtie</th>\n",
       "      <th>proj_score1</th>\n",
       "      <th>proj_score2</th>\n",
       "      <th>score2</th>\n",
       "      <th>xg1</th>\n",
       "      <th>xg2</th>\n",
       "      <th>nsxg1</th>\n",
       "      <th>nsxg2</th>\n",
       "      <th>adj_score1</th>\n",
       "      <th>adj_score2</th>\n",
       "    </tr>\n",
       "    <tr>\n",
       "      <th>score1</th>\n",
       "      <th></th>\n",
       "      <th></th>\n",
       "      <th></th>\n",
       "      <th></th>\n",
       "      <th></th>\n",
       "      <th></th>\n",
       "      <th></th>\n",
       "      <th></th>\n",
       "      <th></th>\n",
       "      <th></th>\n",
       "      <th></th>\n",
       "      <th></th>\n",
       "    </tr>\n",
       "  </thead>\n",
       "  <tbody>\n",
       "    <tr>\n",
       "      <th>0</th>\n",
       "      <td>0.302400</td>\n",
       "      <td>0.458224</td>\n",
       "      <td>0.239412</td>\n",
       "      <td>1.114118</td>\n",
       "      <td>1.456471</td>\n",
       "      <td>1.529412</td>\n",
       "      <td>0.829412</td>\n",
       "      <td>1.115294</td>\n",
       "      <td>1.192353</td>\n",
       "      <td>1.259412</td>\n",
       "      <td>0.000000</td>\n",
       "      <td>1.547059</td>\n",
       "    </tr>\n",
       "    <tr>\n",
       "      <th>1</th>\n",
       "      <td>0.451336</td>\n",
       "      <td>0.360277</td>\n",
       "      <td>0.188395</td>\n",
       "      <td>1.412727</td>\n",
       "      <td>1.200000</td>\n",
       "      <td>1.136364</td>\n",
       "      <td>1.442727</td>\n",
       "      <td>1.177727</td>\n",
       "      <td>1.576818</td>\n",
       "      <td>1.128182</td>\n",
       "      <td>1.050000</td>\n",
       "      <td>1.174091</td>\n",
       "    </tr>\n",
       "    <tr>\n",
       "      <th>2</th>\n",
       "      <td>0.500573</td>\n",
       "      <td>0.343227</td>\n",
       "      <td>0.156187</td>\n",
       "      <td>1.515333</td>\n",
       "      <td>1.140000</td>\n",
       "      <td>0.866667</td>\n",
       "      <td>1.669333</td>\n",
       "      <td>1.028000</td>\n",
       "      <td>1.751333</td>\n",
       "      <td>1.415333</td>\n",
       "      <td>1.970667</td>\n",
       "      <td>0.910000</td>\n",
       "    </tr>\n",
       "    <tr>\n",
       "      <th>3</th>\n",
       "      <td>0.537300</td>\n",
       "      <td>0.261820</td>\n",
       "      <td>0.200880</td>\n",
       "      <td>1.696000</td>\n",
       "      <td>1.040000</td>\n",
       "      <td>1.200000</td>\n",
       "      <td>1.840000</td>\n",
       "      <td>0.866000</td>\n",
       "      <td>1.914000</td>\n",
       "      <td>1.282000</td>\n",
       "      <td>3.000000</td>\n",
       "      <td>1.260000</td>\n",
       "    </tr>\n",
       "    <tr>\n",
       "      <th>4</th>\n",
       "      <td>0.569200</td>\n",
       "      <td>0.430800</td>\n",
       "      <td>0.000000</td>\n",
       "      <td>1.395000</td>\n",
       "      <td>1.135000</td>\n",
       "      <td>2.500000</td>\n",
       "      <td>1.645000</td>\n",
       "      <td>0.825000</td>\n",
       "      <td>0.840000</td>\n",
       "      <td>1.465000</td>\n",
       "      <td>4.200000</td>\n",
       "      <td>2.625000</td>\n",
       "    </tr>\n",
       "    <tr>\n",
       "      <th>5</th>\n",
       "      <td>0.708950</td>\n",
       "      <td>0.098750</td>\n",
       "      <td>0.192250</td>\n",
       "      <td>2.250000</td>\n",
       "      <td>0.695000</td>\n",
       "      <td>1.000000</td>\n",
       "      <td>3.225000</td>\n",
       "      <td>0.655000</td>\n",
       "      <td>1.830000</td>\n",
       "      <td>0.770000</td>\n",
       "      <td>4.460000</td>\n",
       "      <td>1.050000</td>\n",
       "    </tr>\n",
       "    <tr>\n",
       "      <th>6</th>\n",
       "      <td>0.757400</td>\n",
       "      <td>0.053800</td>\n",
       "      <td>0.188900</td>\n",
       "      <td>2.040000</td>\n",
       "      <td>0.360000</td>\n",
       "      <td>1.000000</td>\n",
       "      <td>3.060000</td>\n",
       "      <td>1.020000</td>\n",
       "      <td>1.350000</td>\n",
       "      <td>0.890000</td>\n",
       "      <td>6.300000</td>\n",
       "      <td>1.050000</td>\n",
       "    </tr>\n",
       "  </tbody>\n",
       "</table>\n",
       "</div>"
      ],
      "text/plain": [
       "           prob1     prob2   probtie  proj_score1  proj_score2    score2  \\\n",
       "score1                                                                     \n",
       "0       0.302400  0.458224  0.239412     1.114118     1.456471  1.529412   \n",
       "1       0.451336  0.360277  0.188395     1.412727     1.200000  1.136364   \n",
       "2       0.500573  0.343227  0.156187     1.515333     1.140000  0.866667   \n",
       "3       0.537300  0.261820  0.200880     1.696000     1.040000  1.200000   \n",
       "4       0.569200  0.430800  0.000000     1.395000     1.135000  2.500000   \n",
       "5       0.708950  0.098750  0.192250     2.250000     0.695000  1.000000   \n",
       "6       0.757400  0.053800  0.188900     2.040000     0.360000  1.000000   \n",
       "\n",
       "             xg1       xg2     nsxg1     nsxg2  adj_score1  adj_score2  \n",
       "score1                                                                  \n",
       "0       0.829412  1.115294  1.192353  1.259412    0.000000    1.547059  \n",
       "1       1.442727  1.177727  1.576818  1.128182    1.050000    1.174091  \n",
       "2       1.669333  1.028000  1.751333  1.415333    1.970667    0.910000  \n",
       "3       1.840000  0.866000  1.914000  1.282000    3.000000    1.260000  \n",
       "4       1.645000  0.825000  0.840000  1.465000    4.200000    2.625000  \n",
       "5       3.225000  0.655000  1.830000  0.770000    4.460000    1.050000  \n",
       "6       3.060000  1.020000  1.350000  0.890000    6.300000    1.050000  "
      ]
     },
     "execution_count": 18,
     "metadata": {},
     "output_type": "execute_result"
    }
   ],
   "source": [
    "new_df.groupby(\"score1\").mean()"
   ]
  },
  {
   "cell_type": "code",
   "execution_count": 19,
   "metadata": {},
   "outputs": [],
   "source": [
    "# new_df.groupby(\"score1\")[\"xg1\"].mean()"
   ]
  },
  {
   "cell_type": "code",
   "execution_count": 20,
   "metadata": {},
   "outputs": [],
   "source": [
    "# new_df[[\"score1\", \"xg1\"]].groupby(\"score1\").mean()"
   ]
  },
  {
   "cell_type": "code",
   "execution_count": 21,
   "metadata": {},
   "outputs": [],
   "source": [
    "# new_df.groupby([\"score1\", \"xg1\"])[\"nsxg1\"].mean()"
   ]
  },
  {
   "cell_type": "code",
   "execution_count": 22,
   "metadata": {},
   "outputs": [],
   "source": [
    "# new_df.groupby(\"score1\")[\"score1\"].count()"
   ]
  },
  {
   "cell_type": "code",
   "execution_count": 23,
   "metadata": {},
   "outputs": [],
   "source": [
    "# new_df.sort_values(by=\"score1\").head()"
   ]
  },
  {
   "cell_type": "code",
   "execution_count": 24,
   "metadata": {},
   "outputs": [],
   "source": [
    "# new_df['team1'].value_counts()"
   ]
  },
  {
   "cell_type": "code",
   "execution_count": 25,
   "metadata": {
    "scrolled": true
   },
   "outputs": [],
   "source": [
    "# #Adding goal difference and establishing who is the winner \n",
    "# winner = []\n",
    "# for i in range (len(matches['team2'])):\n",
    "#     if matches ['score2'][i] > matches['score1'][i]:\n",
    "#         winner.append(matches['team2'][i])\n",
    "#     elif matches['score2'][i] < matches ['score1'][i]:\n",
    "#         winner.append(matches['team1'][i])\n",
    "#     else:\n",
    "#         winner.append('Draw')\n",
    "# matches['winning_team'] = winner\n",
    "\n",
    "# #adding goal difference column\n",
    "# matches['goal_difference'] = np.absolute(matches['score2'] - matches['score1'])\n",
    "\n",
    "# # matches.head()"
   ]
  },
  {
   "cell_type": "code",
   "execution_count": 26,
   "metadata": {},
   "outputs": [
    {
     "data": {
      "text/plain": [
       "(64, 19)"
      ]
     },
     "execution_count": 26,
     "metadata": {},
     "output_type": "execute_result"
    }
   ],
   "source": [
    "matches.shape"
   ]
  },
  {
   "cell_type": "markdown",
   "metadata": {},
   "source": [
    "## World Cup Comparisons Data"
   ]
  },
  {
   "cell_type": "code",
   "execution_count": 27,
   "metadata": {},
   "outputs": [],
   "source": [
    "comparisons = pd.read_csv('world_cup_comparisons.csv')"
   ]
  },
  {
   "cell_type": "code",
   "execution_count": 28,
   "metadata": {},
   "outputs": [
    {
     "data": {
      "text/plain": [
       "Index(['player', 'season', 'team', 'goals_z', 'xg_z', 'crosses_z',\n",
       "       'boxtouches_z', 'passes_z', 'progpasses_z', 'takeons_z', 'progruns_z',\n",
       "       'tackles_z', 'interceptions_z', 'clearances_z', 'blocks_z', 'aerials_z',\n",
       "       'fouls_z', 'fouled_z', 'nsxg_z'],\n",
       "      dtype='object')"
      ]
     },
     "execution_count": 28,
     "metadata": {},
     "output_type": "execute_result"
    }
   ],
   "source": [
    "comparisons.columns"
   ]
  },
  {
   "cell_type": "code",
   "execution_count": 29,
   "metadata": {},
   "outputs": [
    {
     "data": {
      "text/plain": [
       "(5899, 19)"
      ]
     },
     "execution_count": 29,
     "metadata": {},
     "output_type": "execute_result"
    }
   ],
   "source": [
    "comparisons.shape"
   ]
  },
  {
   "cell_type": "markdown",
   "metadata": {},
   "source": [
    "### Change comparisons to world cups 2018, 2014, and 2010, 2004, 2000"
   ]
  },
  {
   "cell_type": "markdown",
   "metadata": {},
   "source": [
    "comparisons years 2000-2018"
   ]
  },
  {
   "cell_type": "code",
   "execution_count": 30,
   "metadata": {},
   "outputs": [
    {
     "data": {
      "text/plain": [
       "[2018, 2014, 2010, 2006, 2002]"
      ]
     },
     "execution_count": 30,
     "metadata": {},
     "output_type": "execute_result"
    }
   ],
   "source": [
    "years"
   ]
  },
  {
   "cell_type": "code",
   "execution_count": 31,
   "metadata": {},
   "outputs": [
    {
     "data": {
      "text/plain": [
       "2018    560\n",
       "2006    559\n",
       "2014    558\n",
       "2010    550\n",
       "2002    537\n",
       "1998    533\n",
       "1986    399\n",
       "1994    397\n",
       "1990    389\n",
       "1982    374\n",
       "1978    266\n",
       "1970    265\n",
       "1974    258\n",
       "1966    254\n",
       "Name: season, dtype: int64"
      ]
     },
     "execution_count": 31,
     "metadata": {},
     "output_type": "execute_result"
    }
   ],
   "source": [
    "comparisons['season'].value_counts()"
   ]
  },
  {
   "cell_type": "code",
   "execution_count": 32,
   "metadata": {},
   "outputs": [],
   "source": [
    "comparisons = comparisons.loc[comparisons['season'].isin(years)]"
   ]
  },
  {
   "cell_type": "code",
   "execution_count": 33,
   "metadata": {},
   "outputs": [
    {
     "data": {
      "text/plain": [
       "(2764, 19)"
      ]
     },
     "execution_count": 33,
     "metadata": {},
     "output_type": "execute_result"
    }
   ],
   "source": [
    "comparisons.shape"
   ]
  },
  {
   "cell_type": "markdown",
   "metadata": {},
   "source": [
    "comparisons teams that are in world cup 2022"
   ]
  },
  {
   "cell_type": "code",
   "execution_count": 34,
   "metadata": {},
   "outputs": [],
   "source": [
    "comparisons = comparisons.loc[comparisons['team'].isin(teams_2022)]"
   ]
  },
  {
   "cell_type": "code",
   "execution_count": 35,
   "metadata": {},
   "outputs": [
    {
     "data": {
      "text/plain": [
       "(1837, 19)"
      ]
     },
     "execution_count": 35,
     "metadata": {},
     "output_type": "execute_result"
    }
   ],
   "source": [
    "comparisons.shape"
   ]
  },
  {
   "cell_type": "code",
   "execution_count": 36,
   "metadata": {},
   "outputs": [
    {
     "data": {
      "text/html": [
       "<div>\n",
       "<style scoped>\n",
       "    .dataframe tbody tr th:only-of-type {\n",
       "        vertical-align: middle;\n",
       "    }\n",
       "\n",
       "    .dataframe tbody tr th {\n",
       "        vertical-align: top;\n",
       "    }\n",
       "\n",
       "    .dataframe thead th {\n",
       "        text-align: right;\n",
       "    }\n",
       "</style>\n",
       "<table border=\"1\" class=\"dataframe\">\n",
       "  <thead>\n",
       "    <tr style=\"text-align: right;\">\n",
       "      <th></th>\n",
       "      <th>player</th>\n",
       "      <th>season</th>\n",
       "      <th>team</th>\n",
       "      <th>goals_z</th>\n",
       "      <th>xg_z</th>\n",
       "      <th>crosses_z</th>\n",
       "      <th>boxtouches_z</th>\n",
       "      <th>passes_z</th>\n",
       "      <th>progpasses_z</th>\n",
       "      <th>takeons_z</th>\n",
       "      <th>progruns_z</th>\n",
       "      <th>tackles_z</th>\n",
       "      <th>interceptions_z</th>\n",
       "      <th>clearances_z</th>\n",
       "      <th>blocks_z</th>\n",
       "      <th>aerials_z</th>\n",
       "      <th>fouls_z</th>\n",
       "      <th>fouled_z</th>\n",
       "      <th>nsxg_z</th>\n",
       "    </tr>\n",
       "  </thead>\n",
       "  <tbody>\n",
       "    <tr>\n",
       "      <th>0</th>\n",
       "      <td>Cristian Pavón</td>\n",
       "      <td>2018</td>\n",
       "      <td>Argentina</td>\n",
       "      <td>-0.42</td>\n",
       "      <td>-0.55</td>\n",
       "      <td>0.08</td>\n",
       "      <td>-0.24</td>\n",
       "      <td>-0.61</td>\n",
       "      <td>-0.72</td>\n",
       "      <td>-0.05</td>\n",
       "      <td>0.15</td>\n",
       "      <td>0.30</td>\n",
       "      <td>-0.79</td>\n",
       "      <td>-0.80</td>\n",
       "      <td>-0.45</td>\n",
       "      <td>-0.23</td>\n",
       "      <td>-0.38</td>\n",
       "      <td>-0.91</td>\n",
       "      <td>-0.58</td>\n",
       "    </tr>\n",
       "    <tr>\n",
       "      <th>1</th>\n",
       "      <td>Eduardo Salvio</td>\n",
       "      <td>2018</td>\n",
       "      <td>Argentina</td>\n",
       "      <td>-0.42</td>\n",
       "      <td>-0.50</td>\n",
       "      <td>-0.51</td>\n",
       "      <td>0.64</td>\n",
       "      <td>0.02</td>\n",
       "      <td>-0.46</td>\n",
       "      <td>-0.05</td>\n",
       "      <td>0.48</td>\n",
       "      <td>0.61</td>\n",
       "      <td>0.67</td>\n",
       "      <td>0.32</td>\n",
       "      <td>-0.45</td>\n",
       "      <td>0.21</td>\n",
       "      <td>-1.11</td>\n",
       "      <td>0.68</td>\n",
       "      <td>-0.03</td>\n",
       "    </tr>\n",
       "    <tr>\n",
       "      <th>2</th>\n",
       "      <td>Enzo Pérez</td>\n",
       "      <td>2018</td>\n",
       "      <td>Argentina</td>\n",
       "      <td>-0.42</td>\n",
       "      <td>0.11</td>\n",
       "      <td>-0.51</td>\n",
       "      <td>-0.69</td>\n",
       "      <td>0.27</td>\n",
       "      <td>-0.65</td>\n",
       "      <td>-0.36</td>\n",
       "      <td>-0.34</td>\n",
       "      <td>0.35</td>\n",
       "      <td>-0.22</td>\n",
       "      <td>-0.80</td>\n",
       "      <td>-0.45</td>\n",
       "      <td>-0.89</td>\n",
       "      <td>0.72</td>\n",
       "      <td>0.04</td>\n",
       "      <td>-0.66</td>\n",
       "    </tr>\n",
       "    <tr>\n",
       "      <th>3</th>\n",
       "      <td>Federico Fazio</td>\n",
       "      <td>2018</td>\n",
       "      <td>Argentina</td>\n",
       "      <td>-0.42</td>\n",
       "      <td>-0.59</td>\n",
       "      <td>-0.51</td>\n",
       "      <td>-0.69</td>\n",
       "      <td>-0.97</td>\n",
       "      <td>-0.91</td>\n",
       "      <td>-0.67</td>\n",
       "      <td>-0.84</td>\n",
       "      <td>-0.82</td>\n",
       "      <td>-0.79</td>\n",
       "      <td>-0.64</td>\n",
       "      <td>-0.45</td>\n",
       "      <td>0.21</td>\n",
       "      <td>-1.11</td>\n",
       "      <td>-0.59</td>\n",
       "      <td>-0.77</td>\n",
       "    </tr>\n",
       "    <tr>\n",
       "      <th>4</th>\n",
       "      <td>Franco Armani</td>\n",
       "      <td>2018</td>\n",
       "      <td>Argentina</td>\n",
       "      <td>-0.42</td>\n",
       "      <td>-0.59</td>\n",
       "      <td>-0.51</td>\n",
       "      <td>-0.80</td>\n",
       "      <td>-0.67</td>\n",
       "      <td>0.64</td>\n",
       "      <td>-0.67</td>\n",
       "      <td>-0.67</td>\n",
       "      <td>-0.82</td>\n",
       "      <td>-0.79</td>\n",
       "      <td>-0.64</td>\n",
       "      <td>-0.45</td>\n",
       "      <td>-0.89</td>\n",
       "      <td>-1.11</td>\n",
       "      <td>-0.91</td>\n",
       "      <td>-0.77</td>\n",
       "    </tr>\n",
       "  </tbody>\n",
       "</table>\n",
       "</div>"
      ],
      "text/plain": [
       "           player  season       team  goals_z  xg_z  crosses_z  boxtouches_z  \\\n",
       "0  Cristian Pavón    2018  Argentina    -0.42 -0.55       0.08         -0.24   \n",
       "1  Eduardo Salvio    2018  Argentina    -0.42 -0.50      -0.51          0.64   \n",
       "2      Enzo Pérez    2018  Argentina    -0.42  0.11      -0.51         -0.69   \n",
       "3  Federico Fazio    2018  Argentina    -0.42 -0.59      -0.51         -0.69   \n",
       "4   Franco Armani    2018  Argentina    -0.42 -0.59      -0.51         -0.80   \n",
       "\n",
       "   passes_z  progpasses_z  takeons_z  progruns_z  tackles_z  interceptions_z  \\\n",
       "0     -0.61         -0.72      -0.05        0.15       0.30            -0.79   \n",
       "1      0.02         -0.46      -0.05        0.48       0.61             0.67   \n",
       "2      0.27         -0.65      -0.36       -0.34       0.35            -0.22   \n",
       "3     -0.97         -0.91      -0.67       -0.84      -0.82            -0.79   \n",
       "4     -0.67          0.64      -0.67       -0.67      -0.82            -0.79   \n",
       "\n",
       "   clearances_z  blocks_z  aerials_z  fouls_z  fouled_z  nsxg_z  \n",
       "0         -0.80     -0.45      -0.23    -0.38     -0.91   -0.58  \n",
       "1          0.32     -0.45       0.21    -1.11      0.68   -0.03  \n",
       "2         -0.80     -0.45      -0.89     0.72      0.04   -0.66  \n",
       "3         -0.64     -0.45       0.21    -1.11     -0.59   -0.77  \n",
       "4         -0.64     -0.45      -0.89    -1.11     -0.91   -0.77  "
      ]
     },
     "execution_count": 36,
     "metadata": {},
     "output_type": "execute_result"
    }
   ],
   "source": [
    "comparisons.head()"
   ]
  },
  {
   "cell_type": "code",
   "execution_count": 37,
   "metadata": {},
   "outputs": [
    {
     "data": {
      "text/html": [
       "<div>\n",
       "<style scoped>\n",
       "    .dataframe tbody tr th:only-of-type {\n",
       "        vertical-align: middle;\n",
       "    }\n",
       "\n",
       "    .dataframe tbody tr th {\n",
       "        vertical-align: top;\n",
       "    }\n",
       "\n",
       "    .dataframe thead th {\n",
       "        text-align: right;\n",
       "    }\n",
       "</style>\n",
       "<table border=\"1\" class=\"dataframe\">\n",
       "  <thead>\n",
       "    <tr style=\"text-align: right;\">\n",
       "      <th></th>\n",
       "      <th>player</th>\n",
       "      <th>season</th>\n",
       "      <th>team</th>\n",
       "      <th>goals_z</th>\n",
       "      <th>xg_z</th>\n",
       "      <th>crosses_z</th>\n",
       "      <th>boxtouches_z</th>\n",
       "      <th>passes_z</th>\n",
       "      <th>progpasses_z</th>\n",
       "      <th>takeons_z</th>\n",
       "      <th>progruns_z</th>\n",
       "      <th>tackles_z</th>\n",
       "      <th>interceptions_z</th>\n",
       "      <th>clearances_z</th>\n",
       "      <th>blocks_z</th>\n",
       "      <th>aerials_z</th>\n",
       "      <th>fouls_z</th>\n",
       "      <th>fouled_z</th>\n",
       "      <th>nsxg_z</th>\n",
       "    </tr>\n",
       "  </thead>\n",
       "  <tbody>\n",
       "    <tr>\n",
       "      <th>2759</th>\n",
       "      <td>Mario Regueiro</td>\n",
       "      <td>2002</td>\n",
       "      <td>Uruguay</td>\n",
       "      <td>-0.41</td>\n",
       "      <td>-0.65</td>\n",
       "      <td>0.02</td>\n",
       "      <td>0.18</td>\n",
       "      <td>-1.15</td>\n",
       "      <td>-0.89</td>\n",
       "      <td>1.49</td>\n",
       "      <td>0.10</td>\n",
       "      <td>-0.45</td>\n",
       "      <td>-0.16</td>\n",
       "      <td>-0.75</td>\n",
       "      <td>-0.52</td>\n",
       "      <td>-0.31</td>\n",
       "      <td>-0.80</td>\n",
       "      <td>1.08</td>\n",
       "      <td>-0.75</td>\n",
       "    </tr>\n",
       "    <tr>\n",
       "      <th>2760</th>\n",
       "      <td>Pablo García</td>\n",
       "      <td>2002</td>\n",
       "      <td>Uruguay</td>\n",
       "      <td>-0.41</td>\n",
       "      <td>-0.07</td>\n",
       "      <td>0.02</td>\n",
       "      <td>-0.74</td>\n",
       "      <td>1.53</td>\n",
       "      <td>0.48</td>\n",
       "      <td>-0.21</td>\n",
       "      <td>0.65</td>\n",
       "      <td>2.76</td>\n",
       "      <td>2.24</td>\n",
       "      <td>-0.05</td>\n",
       "      <td>1.47</td>\n",
       "      <td>0.10</td>\n",
       "      <td>0.33</td>\n",
       "      <td>0.72</td>\n",
       "      <td>0.42</td>\n",
       "    </tr>\n",
       "    <tr>\n",
       "      <th>2761</th>\n",
       "      <td>Richard Morales</td>\n",
       "      <td>2002</td>\n",
       "      <td>Uruguay</td>\n",
       "      <td>1.70</td>\n",
       "      <td>1.85</td>\n",
       "      <td>-0.56</td>\n",
       "      <td>1.41</td>\n",
       "      <td>-1.38</td>\n",
       "      <td>-1.08</td>\n",
       "      <td>-0.77</td>\n",
       "      <td>-1.01</td>\n",
       "      <td>-0.95</td>\n",
       "      <td>-1.01</td>\n",
       "      <td>-0.75</td>\n",
       "      <td>-0.52</td>\n",
       "      <td>0.10</td>\n",
       "      <td>-0.80</td>\n",
       "      <td>-0.71</td>\n",
       "      <td>-0.35</td>\n",
       "    </tr>\n",
       "    <tr>\n",
       "      <th>2762</th>\n",
       "      <td>Ronald Paolo Montero Iglesias</td>\n",
       "      <td>2002</td>\n",
       "      <td>Uruguay</td>\n",
       "      <td>-0.41</td>\n",
       "      <td>-0.65</td>\n",
       "      <td>-0.56</td>\n",
       "      <td>-0.74</td>\n",
       "      <td>1.76</td>\n",
       "      <td>1.41</td>\n",
       "      <td>0.36</td>\n",
       "      <td>1.76</td>\n",
       "      <td>0.65</td>\n",
       "      <td>0.38</td>\n",
       "      <td>2.31</td>\n",
       "      <td>2.73</td>\n",
       "      <td>2.19</td>\n",
       "      <td>0.33</td>\n",
       "      <td>-0.71</td>\n",
       "      <td>-0.60</td>\n",
       "    </tr>\n",
       "    <tr>\n",
       "      <th>2763</th>\n",
       "      <td>Sebastián Abreu</td>\n",
       "      <td>2002</td>\n",
       "      <td>Uruguay</td>\n",
       "      <td>-0.41</td>\n",
       "      <td>0.64</td>\n",
       "      <td>-0.56</td>\n",
       "      <td>0.64</td>\n",
       "      <td>-1.10</td>\n",
       "      <td>-1.01</td>\n",
       "      <td>-0.21</td>\n",
       "      <td>-0.46</td>\n",
       "      <td>-0.45</td>\n",
       "      <td>-0.83</td>\n",
       "      <td>-0.47</td>\n",
       "      <td>-0.52</td>\n",
       "      <td>0.94</td>\n",
       "      <td>1.84</td>\n",
       "      <td>0.36</td>\n",
       "      <td>-0.60</td>\n",
       "    </tr>\n",
       "  </tbody>\n",
       "</table>\n",
       "</div>"
      ],
      "text/plain": [
       "                             player  season     team  goals_z  xg_z  \\\n",
       "2759                 Mario Regueiro    2002  Uruguay    -0.41 -0.65   \n",
       "2760                   Pablo García    2002  Uruguay    -0.41 -0.07   \n",
       "2761                Richard Morales    2002  Uruguay     1.70  1.85   \n",
       "2762  Ronald Paolo Montero Iglesias    2002  Uruguay    -0.41 -0.65   \n",
       "2763                Sebastián Abreu    2002  Uruguay    -0.41  0.64   \n",
       "\n",
       "      crosses_z  boxtouches_z  passes_z  progpasses_z  takeons_z  progruns_z  \\\n",
       "2759       0.02          0.18     -1.15         -0.89       1.49        0.10   \n",
       "2760       0.02         -0.74      1.53          0.48      -0.21        0.65   \n",
       "2761      -0.56          1.41     -1.38         -1.08      -0.77       -1.01   \n",
       "2762      -0.56         -0.74      1.76          1.41       0.36        1.76   \n",
       "2763      -0.56          0.64     -1.10         -1.01      -0.21       -0.46   \n",
       "\n",
       "      tackles_z  interceptions_z  clearances_z  blocks_z  aerials_z  fouls_z  \\\n",
       "2759      -0.45            -0.16         -0.75     -0.52      -0.31    -0.80   \n",
       "2760       2.76             2.24         -0.05      1.47       0.10     0.33   \n",
       "2761      -0.95            -1.01         -0.75     -0.52       0.10    -0.80   \n",
       "2762       0.65             0.38          2.31      2.73       2.19     0.33   \n",
       "2763      -0.45            -0.83         -0.47     -0.52       0.94     1.84   \n",
       "\n",
       "      fouled_z  nsxg_z  \n",
       "2759      1.08   -0.75  \n",
       "2760      0.72    0.42  \n",
       "2761     -0.71   -0.35  \n",
       "2762     -0.71   -0.60  \n",
       "2763      0.36   -0.60  "
      ]
     },
     "execution_count": 37,
     "metadata": {},
     "output_type": "execute_result"
    }
   ],
   "source": [
    "comparisons.tail()"
   ]
  },
  {
   "cell_type": "code",
   "execution_count": 38,
   "metadata": {},
   "outputs": [],
   "source": [
    "year2002 = [2002]\n",
    "year2006 = [2006]\n",
    "year2010 = [2010]\n",
    "year2014 = [2014]\n",
    "year2018 = [2018]"
   ]
  },
  {
   "cell_type": "markdown",
   "metadata": {},
   "source": [
    "# Germany"
   ]
  },
  {
   "cell_type": "markdown",
   "metadata": {},
   "source": [
    "## 2010"
   ]
  },
  {
   "cell_type": "code",
   "execution_count": 39,
   "metadata": {},
   "outputs": [],
   "source": [
    "comparisons = comparisons.drop(columns = ['player', 'crosses_z', 'passes_z', 'takeons_z', 'tackles_z', 'interceptions_z', 'clearances_z', 'blocks_z', 'aerials_z'])\n"
   ]
  },
  {
   "cell_type": "code",
   "execution_count": 40,
   "metadata": {},
   "outputs": [
    {
     "data": {
      "text/html": [
       "<div>\n",
       "<style scoped>\n",
       "    .dataframe tbody tr th:only-of-type {\n",
       "        vertical-align: middle;\n",
       "    }\n",
       "\n",
       "    .dataframe tbody tr th {\n",
       "        vertical-align: top;\n",
       "    }\n",
       "\n",
       "    .dataframe thead th {\n",
       "        text-align: right;\n",
       "    }\n",
       "</style>\n",
       "<table border=\"1\" class=\"dataframe\">\n",
       "  <thead>\n",
       "    <tr style=\"text-align: right;\">\n",
       "      <th></th>\n",
       "      <th>season</th>\n",
       "      <th>team</th>\n",
       "      <th>goals_z</th>\n",
       "      <th>xg_z</th>\n",
       "      <th>boxtouches_z</th>\n",
       "      <th>progpasses_z</th>\n",
       "      <th>progruns_z</th>\n",
       "      <th>fouls_z</th>\n",
       "      <th>fouled_z</th>\n",
       "      <th>nsxg_z</th>\n",
       "    </tr>\n",
       "  </thead>\n",
       "  <tbody>\n",
       "    <tr>\n",
       "      <th>0</th>\n",
       "      <td>2018</td>\n",
       "      <td>Argentina</td>\n",
       "      <td>-0.42</td>\n",
       "      <td>-0.55</td>\n",
       "      <td>-0.24</td>\n",
       "      <td>-0.72</td>\n",
       "      <td>0.15</td>\n",
       "      <td>-0.38</td>\n",
       "      <td>-0.91</td>\n",
       "      <td>-0.58</td>\n",
       "    </tr>\n",
       "    <tr>\n",
       "      <th>1</th>\n",
       "      <td>2018</td>\n",
       "      <td>Argentina</td>\n",
       "      <td>-0.42</td>\n",
       "      <td>-0.50</td>\n",
       "      <td>0.64</td>\n",
       "      <td>-0.46</td>\n",
       "      <td>0.48</td>\n",
       "      <td>-1.11</td>\n",
       "      <td>0.68</td>\n",
       "      <td>-0.03</td>\n",
       "    </tr>\n",
       "    <tr>\n",
       "      <th>2</th>\n",
       "      <td>2018</td>\n",
       "      <td>Argentina</td>\n",
       "      <td>-0.42</td>\n",
       "      <td>0.11</td>\n",
       "      <td>-0.69</td>\n",
       "      <td>-0.65</td>\n",
       "      <td>-0.34</td>\n",
       "      <td>0.72</td>\n",
       "      <td>0.04</td>\n",
       "      <td>-0.66</td>\n",
       "    </tr>\n",
       "    <tr>\n",
       "      <th>3</th>\n",
       "      <td>2018</td>\n",
       "      <td>Argentina</td>\n",
       "      <td>-0.42</td>\n",
       "      <td>-0.59</td>\n",
       "      <td>-0.69</td>\n",
       "      <td>-0.91</td>\n",
       "      <td>-0.84</td>\n",
       "      <td>-1.11</td>\n",
       "      <td>-0.59</td>\n",
       "      <td>-0.77</td>\n",
       "    </tr>\n",
       "    <tr>\n",
       "      <th>4</th>\n",
       "      <td>2018</td>\n",
       "      <td>Argentina</td>\n",
       "      <td>-0.42</td>\n",
       "      <td>-0.59</td>\n",
       "      <td>-0.80</td>\n",
       "      <td>0.64</td>\n",
       "      <td>-0.67</td>\n",
       "      <td>-1.11</td>\n",
       "      <td>-0.91</td>\n",
       "      <td>-0.77</td>\n",
       "    </tr>\n",
       "    <tr>\n",
       "      <th>...</th>\n",
       "      <td>...</td>\n",
       "      <td>...</td>\n",
       "      <td>...</td>\n",
       "      <td>...</td>\n",
       "      <td>...</td>\n",
       "      <td>...</td>\n",
       "      <td>...</td>\n",
       "      <td>...</td>\n",
       "      <td>...</td>\n",
       "      <td>...</td>\n",
       "    </tr>\n",
       "    <tr>\n",
       "      <th>2759</th>\n",
       "      <td>2002</td>\n",
       "      <td>Uruguay</td>\n",
       "      <td>-0.41</td>\n",
       "      <td>-0.65</td>\n",
       "      <td>0.18</td>\n",
       "      <td>-0.89</td>\n",
       "      <td>0.10</td>\n",
       "      <td>-0.80</td>\n",
       "      <td>1.08</td>\n",
       "      <td>-0.75</td>\n",
       "    </tr>\n",
       "    <tr>\n",
       "      <th>2760</th>\n",
       "      <td>2002</td>\n",
       "      <td>Uruguay</td>\n",
       "      <td>-0.41</td>\n",
       "      <td>-0.07</td>\n",
       "      <td>-0.74</td>\n",
       "      <td>0.48</td>\n",
       "      <td>0.65</td>\n",
       "      <td>0.33</td>\n",
       "      <td>0.72</td>\n",
       "      <td>0.42</td>\n",
       "    </tr>\n",
       "    <tr>\n",
       "      <th>2761</th>\n",
       "      <td>2002</td>\n",
       "      <td>Uruguay</td>\n",
       "      <td>1.70</td>\n",
       "      <td>1.85</td>\n",
       "      <td>1.41</td>\n",
       "      <td>-1.08</td>\n",
       "      <td>-1.01</td>\n",
       "      <td>-0.80</td>\n",
       "      <td>-0.71</td>\n",
       "      <td>-0.35</td>\n",
       "    </tr>\n",
       "    <tr>\n",
       "      <th>2762</th>\n",
       "      <td>2002</td>\n",
       "      <td>Uruguay</td>\n",
       "      <td>-0.41</td>\n",
       "      <td>-0.65</td>\n",
       "      <td>-0.74</td>\n",
       "      <td>1.41</td>\n",
       "      <td>1.76</td>\n",
       "      <td>0.33</td>\n",
       "      <td>-0.71</td>\n",
       "      <td>-0.60</td>\n",
       "    </tr>\n",
       "    <tr>\n",
       "      <th>2763</th>\n",
       "      <td>2002</td>\n",
       "      <td>Uruguay</td>\n",
       "      <td>-0.41</td>\n",
       "      <td>0.64</td>\n",
       "      <td>0.64</td>\n",
       "      <td>-1.01</td>\n",
       "      <td>-0.46</td>\n",
       "      <td>1.84</td>\n",
       "      <td>0.36</td>\n",
       "      <td>-0.60</td>\n",
       "    </tr>\n",
       "  </tbody>\n",
       "</table>\n",
       "<p>1837 rows × 10 columns</p>\n",
       "</div>"
      ],
      "text/plain": [
       "      season       team  goals_z  xg_z  boxtouches_z  progpasses_z  \\\n",
       "0       2018  Argentina    -0.42 -0.55         -0.24         -0.72   \n",
       "1       2018  Argentina    -0.42 -0.50          0.64         -0.46   \n",
       "2       2018  Argentina    -0.42  0.11         -0.69         -0.65   \n",
       "3       2018  Argentina    -0.42 -0.59         -0.69         -0.91   \n",
       "4       2018  Argentina    -0.42 -0.59         -0.80          0.64   \n",
       "...      ...        ...      ...   ...           ...           ...   \n",
       "2759    2002    Uruguay    -0.41 -0.65          0.18         -0.89   \n",
       "2760    2002    Uruguay    -0.41 -0.07         -0.74          0.48   \n",
       "2761    2002    Uruguay     1.70  1.85          1.41         -1.08   \n",
       "2762    2002    Uruguay    -0.41 -0.65         -0.74          1.41   \n",
       "2763    2002    Uruguay    -0.41  0.64          0.64         -1.01   \n",
       "\n",
       "      progruns_z  fouls_z  fouled_z  nsxg_z  \n",
       "0           0.15    -0.38     -0.91   -0.58  \n",
       "1           0.48    -1.11      0.68   -0.03  \n",
       "2          -0.34     0.72      0.04   -0.66  \n",
       "3          -0.84    -1.11     -0.59   -0.77  \n",
       "4          -0.67    -1.11     -0.91   -0.77  \n",
       "...          ...      ...       ...     ...  \n",
       "2759        0.10    -0.80      1.08   -0.75  \n",
       "2760        0.65     0.33      0.72    0.42  \n",
       "2761       -1.01    -0.80     -0.71   -0.35  \n",
       "2762        1.76     0.33     -0.71   -0.60  \n",
       "2763       -0.46     1.84      0.36   -0.60  \n",
       "\n",
       "[1837 rows x 10 columns]"
      ]
     },
     "execution_count": 40,
     "metadata": {},
     "output_type": "execute_result"
    }
   ],
   "source": [
    "comparisons"
   ]
  },
  {
   "cell_type": "code",
   "execution_count": 41,
   "metadata": {},
   "outputs": [],
   "source": [
    "ger = [\"Germany\"]"
   ]
  },
  {
   "cell_type": "code",
   "execution_count": 42,
   "metadata": {},
   "outputs": [],
   "source": [
    "ger_year = comparisons.loc[comparisons[\"team\"].isin(ger)]"
   ]
  },
  {
   "cell_type": "code",
   "execution_count": 43,
   "metadata": {},
   "outputs": [],
   "source": [
    "ger2010year = ger_year.loc[ger_year[\"season\"].isin(year2010)]"
   ]
  },
  {
   "cell_type": "code",
   "execution_count": 44,
   "metadata": {},
   "outputs": [],
   "source": [
    "ger2010xg = ger2010year.sort_values(by=[\"xg_z\"], ascending=False)"
   ]
  },
  {
   "cell_type": "code",
   "execution_count": 45,
   "metadata": {},
   "outputs": [],
   "source": [
    "ger2010xg13 = ger2010xg.head(13)"
   ]
  },
  {
   "cell_type": "markdown",
   "metadata": {},
   "source": [
    "#### top 13 players from Germany in 2010 by XG"
   ]
  },
  {
   "cell_type": "markdown",
   "metadata": {},
   "source": [
    "### Remove columns"
   ]
  },
  {
   "cell_type": "markdown",
   "metadata": {},
   "source": [
    "'boxtouches_z', 'progpasses_z', 'progruns_z'"
   ]
  },
  {
   "cell_type": "code",
   "execution_count": 46,
   "metadata": {},
   "outputs": [],
   "source": [
    "ger2010xg13 = ger2010xg13.drop(columns=['season', 'team'])\n"
   ]
  },
  {
   "cell_type": "code",
   "execution_count": 47,
   "metadata": {
    "scrolled": true
   },
   "outputs": [],
   "source": [
    "ger2010 = ger2010xg13.mean()"
   ]
  },
  {
   "cell_type": "code",
   "execution_count": 48,
   "metadata": {},
   "outputs": [
    {
     "data": {
      "text/plain": [
       "goals_z         0.816923\n",
       "xg_z            0.513077\n",
       "boxtouches_z    0.458462\n",
       "progpasses_z   -0.367692\n",
       "progruns_z      0.142308\n",
       "fouls_z        -0.294615\n",
       "fouled_z       -0.134615\n",
       "nsxg_z          0.328462\n",
       "dtype: float64"
      ]
     },
     "execution_count": 48,
     "metadata": {},
     "output_type": "execute_result"
    }
   ],
   "source": [
    "ger2010"
   ]
  },
  {
   "cell_type": "code",
   "execution_count": 49,
   "metadata": {},
   "outputs": [
    {
     "data": {
      "text/plain": [
       "1.0301325828750079"
      ]
     },
     "execution_count": 49,
     "metadata": {},
     "output_type": "execute_result"
    }
   ],
   "source": [
    "(.513077 + .328462) / .816923"
   ]
  },
  {
   "cell_type": "markdown",
   "metadata": {},
   "source": [
    "### Fouled"
   ]
  },
  {
   "cell_type": "code",
   "execution_count": 50,
   "metadata": {},
   "outputs": [
    {
     "data": {
      "text/plain": [
       "0.16"
      ]
     },
     "execution_count": 50,
     "metadata": {},
     "output_type": "execute_result"
    }
   ],
   "source": [
    "-0.134615 - -0.294615"
   ]
  },
  {
   "cell_type": "markdown",
   "metadata": {},
   "source": [
    "# Setup New DF for derived stats"
   ]
  },
  {
   "cell_type": "code",
   "execution_count": 51,
   "metadata": {},
   "outputs": [],
   "source": [
    "# initialize list of lists\n",
    "data = [['Germany', 2010, 0.816923, 0.513077, 0.458462, -0.367692, 0.142308, 1.0301]]\n",
    "  \n",
    "# Create the pandas DataFrame\n",
    "stats_df = pd.DataFrame(data, columns=['Country', 'Year', 'goals_z', 'xg_z', 'boxtouches_z', 'progpasses_z', 'progruns_z', 'new_xg'])\n",
    "  "
   ]
  },
  {
   "cell_type": "code",
   "execution_count": 52,
   "metadata": {},
   "outputs": [
    {
     "data": {
      "text/html": [
       "<div>\n",
       "<style scoped>\n",
       "    .dataframe tbody tr th:only-of-type {\n",
       "        vertical-align: middle;\n",
       "    }\n",
       "\n",
       "    .dataframe tbody tr th {\n",
       "        vertical-align: top;\n",
       "    }\n",
       "\n",
       "    .dataframe thead th {\n",
       "        text-align: right;\n",
       "    }\n",
       "</style>\n",
       "<table border=\"1\" class=\"dataframe\">\n",
       "  <thead>\n",
       "    <tr style=\"text-align: right;\">\n",
       "      <th></th>\n",
       "      <th>Country</th>\n",
       "      <th>Year</th>\n",
       "      <th>goals_z</th>\n",
       "      <th>xg_z</th>\n",
       "      <th>boxtouches_z</th>\n",
       "      <th>progpasses_z</th>\n",
       "      <th>progruns_z</th>\n",
       "      <th>new_xg</th>\n",
       "      <th>Fouled</th>\n",
       "      <th>results</th>\n",
       "    </tr>\n",
       "  </thead>\n",
       "  <tbody>\n",
       "    <tr>\n",
       "      <th>0</th>\n",
       "      <td>Germany</td>\n",
       "      <td>2010</td>\n",
       "      <td>0.816923</td>\n",
       "      <td>0.513077</td>\n",
       "      <td>0.458462</td>\n",
       "      <td>-0.367692</td>\n",
       "      <td>0.142308</td>\n",
       "      <td>1.0301</td>\n",
       "      <td>0.16</td>\n",
       "      <td>3</td>\n",
       "    </tr>\n",
       "  </tbody>\n",
       "</table>\n",
       "</div>"
      ],
      "text/plain": [
       "   Country  Year   goals_z      xg_z  boxtouches_z  progpasses_z  progruns_z  \\\n",
       "0  Germany  2010  0.816923  0.513077      0.458462     -0.367692    0.142308   \n",
       "\n",
       "   new_xg  Fouled  results  \n",
       "0  1.0301    0.16        3  "
      ]
     },
     "execution_count": 52,
     "metadata": {},
     "output_type": "execute_result"
    }
   ],
   "source": [
    "stats_df['Fouled'] = 0.16\n",
    "stats_df['results'] = 3\n",
    "stats_df"
   ]
  },
  {
   "cell_type": "markdown",
   "metadata": {},
   "source": [
    "## 2014"
   ]
  },
  {
   "cell_type": "code",
   "execution_count": 53,
   "metadata": {},
   "outputs": [],
   "source": [
    "ger2014year = ger_year.loc[ger_year[\"season\"].isin(year2014)]"
   ]
  },
  {
   "cell_type": "code",
   "execution_count": 54,
   "metadata": {},
   "outputs": [],
   "source": [
    "ger2014xg = ger2014year.sort_values(by=[\"xg_z\"], ascending=False)"
   ]
  },
  {
   "cell_type": "code",
   "execution_count": 55,
   "metadata": {},
   "outputs": [],
   "source": [
    "ger2014xg13 = ger2014xg.head(13)"
   ]
  },
  {
   "cell_type": "code",
   "execution_count": 56,
   "metadata": {},
   "outputs": [],
   "source": [
    "ger2014xg13 = ger2014xg13.drop(columns=['season', 'team',])\n"
   ]
  },
  {
   "cell_type": "code",
   "execution_count": 57,
   "metadata": {},
   "outputs": [],
   "source": [
    "ger2014 = ger2014xg13.mean()"
   ]
  },
  {
   "cell_type": "code",
   "execution_count": 58,
   "metadata": {},
   "outputs": [
    {
     "data": {
      "text/plain": [
       "goals_z         0.755385\n",
       "xg_z            0.719231\n",
       "boxtouches_z    0.601538\n",
       "progpasses_z    0.316154\n",
       "progruns_z      0.198462\n",
       "fouls_z         0.022308\n",
       "fouled_z        0.186154\n",
       "nsxg_z          0.527692\n",
       "dtype: float64"
      ]
     },
     "execution_count": 58,
     "metadata": {},
     "output_type": "execute_result"
    }
   ],
   "source": [
    "ger2014"
   ]
  },
  {
   "cell_type": "code",
   "execution_count": 59,
   "metadata": {},
   "outputs": [
    {
     "data": {
      "text/plain": [
       "1.650711888639568"
      ]
     },
     "execution_count": 59,
     "metadata": {},
     "output_type": "execute_result"
    }
   ],
   "source": [
    "(.719231 + .527692) / 0.755385"
   ]
  },
  {
   "cell_type": "markdown",
   "metadata": {},
   "source": [
    "### Fouled"
   ]
  },
  {
   "cell_type": "code",
   "execution_count": 60,
   "metadata": {},
   "outputs": [
    {
     "data": {
      "text/plain": [
       "0.163846"
      ]
     },
     "execution_count": 60,
     "metadata": {},
     "output_type": "execute_result"
    }
   ],
   "source": [
    "0.186154 - 0.022308"
   ]
  },
  {
   "cell_type": "code",
   "execution_count": 61,
   "metadata": {},
   "outputs": [],
   "source": [
    "new_row = {'Country': 'Germany', 'Year': 2014, 'goals_z': 0.755385, 'xg_z': 0.719231, 'boxtouches_z': 0.601538, 'progpasses_z': 0.316154, 'progruns_z': 0.198462, 'new_xg': 1.65071, 'Fouled': 0.163846, 'results': 1}\n",
    "\n",
    "stats_df = stats_df.append(new_row, ignore_index=True)"
   ]
  },
  {
   "cell_type": "code",
   "execution_count": 62,
   "metadata": {},
   "outputs": [
    {
     "data": {
      "text/html": [
       "<div>\n",
       "<style scoped>\n",
       "    .dataframe tbody tr th:only-of-type {\n",
       "        vertical-align: middle;\n",
       "    }\n",
       "\n",
       "    .dataframe tbody tr th {\n",
       "        vertical-align: top;\n",
       "    }\n",
       "\n",
       "    .dataframe thead th {\n",
       "        text-align: right;\n",
       "    }\n",
       "</style>\n",
       "<table border=\"1\" class=\"dataframe\">\n",
       "  <thead>\n",
       "    <tr style=\"text-align: right;\">\n",
       "      <th></th>\n",
       "      <th>Country</th>\n",
       "      <th>Year</th>\n",
       "      <th>goals_z</th>\n",
       "      <th>xg_z</th>\n",
       "      <th>boxtouches_z</th>\n",
       "      <th>progpasses_z</th>\n",
       "      <th>progruns_z</th>\n",
       "      <th>new_xg</th>\n",
       "      <th>Fouled</th>\n",
       "      <th>results</th>\n",
       "    </tr>\n",
       "  </thead>\n",
       "  <tbody>\n",
       "    <tr>\n",
       "      <th>0</th>\n",
       "      <td>Germany</td>\n",
       "      <td>2010</td>\n",
       "      <td>0.816923</td>\n",
       "      <td>0.513077</td>\n",
       "      <td>0.458462</td>\n",
       "      <td>-0.367692</td>\n",
       "      <td>0.142308</td>\n",
       "      <td>1.03010</td>\n",
       "      <td>0.160000</td>\n",
       "      <td>3</td>\n",
       "    </tr>\n",
       "    <tr>\n",
       "      <th>1</th>\n",
       "      <td>Germany</td>\n",
       "      <td>2014</td>\n",
       "      <td>0.755385</td>\n",
       "      <td>0.719231</td>\n",
       "      <td>0.601538</td>\n",
       "      <td>0.316154</td>\n",
       "      <td>0.198462</td>\n",
       "      <td>1.65071</td>\n",
       "      <td>0.163846</td>\n",
       "      <td>1</td>\n",
       "    </tr>\n",
       "  </tbody>\n",
       "</table>\n",
       "</div>"
      ],
      "text/plain": [
       "   Country  Year   goals_z      xg_z  boxtouches_z  progpasses_z  progruns_z  \\\n",
       "0  Germany  2010  0.816923  0.513077      0.458462     -0.367692    0.142308   \n",
       "1  Germany  2014  0.755385  0.719231      0.601538      0.316154    0.198462   \n",
       "\n",
       "    new_xg    Fouled  results  \n",
       "0  1.03010  0.160000        3  \n",
       "1  1.65071  0.163846        1  "
      ]
     },
     "execution_count": 62,
     "metadata": {},
     "output_type": "execute_result"
    }
   ],
   "source": [
    "stats_df"
   ]
  },
  {
   "cell_type": "markdown",
   "metadata": {},
   "source": [
    "## 2018 "
   ]
  },
  {
   "cell_type": "code",
   "execution_count": 63,
   "metadata": {},
   "outputs": [],
   "source": [
    "ger2018year = ger_year.loc[ger_year[\"season\"].isin(year2018)]"
   ]
  },
  {
   "cell_type": "code",
   "execution_count": 64,
   "metadata": {},
   "outputs": [],
   "source": [
    "ger2018xg = ger2018year.sort_values(by=[\"xg_z\"], ascending=False)"
   ]
  },
  {
   "cell_type": "code",
   "execution_count": 65,
   "metadata": {},
   "outputs": [],
   "source": [
    "ger2018xg13 = ger2018xg.head(13)"
   ]
  },
  {
   "cell_type": "code",
   "execution_count": 66,
   "metadata": {},
   "outputs": [],
   "source": [
    "ger2018xg13 = ger2018xg13.drop(columns=['season', 'team'])\n"
   ]
  },
  {
   "cell_type": "code",
   "execution_count": 67,
   "metadata": {},
   "outputs": [],
   "source": [
    "ger2018 = ger2018xg13.mean()"
   ]
  },
  {
   "cell_type": "code",
   "execution_count": 68,
   "metadata": {},
   "outputs": [
    {
     "data": {
      "text/plain": [
       "goals_z        -0.066154\n",
       "xg_z            0.615385\n",
       "boxtouches_z    1.570000\n",
       "progpasses_z    0.565385\n",
       "progruns_z      0.930769\n",
       "fouls_z        -0.323077\n",
       "fouled_z        0.196923\n",
       "nsxg_z          1.417692\n",
       "dtype: float64"
      ]
     },
     "execution_count": 68,
     "metadata": {},
     "output_type": "execute_result"
    }
   ],
   "source": [
    "ger2018"
   ]
  },
  {
   "cell_type": "code",
   "execution_count": 69,
   "metadata": {},
   "outputs": [
    {
     "data": {
      "text/plain": [
       "-30.732487831423647"
      ]
     },
     "execution_count": 69,
     "metadata": {},
     "output_type": "execute_result"
    }
   ],
   "source": [
    "(.615385 + 1.417692) / -0.066154"
   ]
  },
  {
   "cell_type": "markdown",
   "metadata": {},
   "source": [
    "### Fouled"
   ]
  },
  {
   "cell_type": "code",
   "execution_count": 70,
   "metadata": {},
   "outputs": [
    {
     "data": {
      "text/plain": [
       "0.52"
      ]
     },
     "execution_count": 70,
     "metadata": {},
     "output_type": "execute_result"
    }
   ],
   "source": [
    "0.196923 - -0.323077"
   ]
  },
  {
   "cell_type": "code",
   "execution_count": 71,
   "metadata": {},
   "outputs": [],
   "source": [
    "new_row = {'Country': 'Germany', 'Year': 2018, 'goals_z': -0.066154, \n",
    "           'xg_z': 0.615385, 'boxtouches_z': 1.570000, \n",
    "           'progpasses_z': 0.565385, 'progruns_z': 0.930769, 'new_xg': -30.73248, \n",
    "           'Fouled': 0.52, 'results': 32}\n",
    "\n",
    "stats_df = stats_df.append(new_row, ignore_index=True)"
   ]
  },
  {
   "cell_type": "code",
   "execution_count": 72,
   "metadata": {},
   "outputs": [
    {
     "data": {
      "text/html": [
       "<div>\n",
       "<style scoped>\n",
       "    .dataframe tbody tr th:only-of-type {\n",
       "        vertical-align: middle;\n",
       "    }\n",
       "\n",
       "    .dataframe tbody tr th {\n",
       "        vertical-align: top;\n",
       "    }\n",
       "\n",
       "    .dataframe thead th {\n",
       "        text-align: right;\n",
       "    }\n",
       "</style>\n",
       "<table border=\"1\" class=\"dataframe\">\n",
       "  <thead>\n",
       "    <tr style=\"text-align: right;\">\n",
       "      <th></th>\n",
       "      <th>Country</th>\n",
       "      <th>Year</th>\n",
       "      <th>goals_z</th>\n",
       "      <th>xg_z</th>\n",
       "      <th>boxtouches_z</th>\n",
       "      <th>progpasses_z</th>\n",
       "      <th>progruns_z</th>\n",
       "      <th>new_xg</th>\n",
       "      <th>Fouled</th>\n",
       "      <th>results</th>\n",
       "    </tr>\n",
       "  </thead>\n",
       "  <tbody>\n",
       "    <tr>\n",
       "      <th>0</th>\n",
       "      <td>Germany</td>\n",
       "      <td>2010</td>\n",
       "      <td>0.816923</td>\n",
       "      <td>0.513077</td>\n",
       "      <td>0.458462</td>\n",
       "      <td>-0.367692</td>\n",
       "      <td>0.142308</td>\n",
       "      <td>1.03010</td>\n",
       "      <td>0.160000</td>\n",
       "      <td>3</td>\n",
       "    </tr>\n",
       "    <tr>\n",
       "      <th>1</th>\n",
       "      <td>Germany</td>\n",
       "      <td>2014</td>\n",
       "      <td>0.755385</td>\n",
       "      <td>0.719231</td>\n",
       "      <td>0.601538</td>\n",
       "      <td>0.316154</td>\n",
       "      <td>0.198462</td>\n",
       "      <td>1.65071</td>\n",
       "      <td>0.163846</td>\n",
       "      <td>1</td>\n",
       "    </tr>\n",
       "    <tr>\n",
       "      <th>2</th>\n",
       "      <td>Germany</td>\n",
       "      <td>2018</td>\n",
       "      <td>-0.066154</td>\n",
       "      <td>0.615385</td>\n",
       "      <td>1.570000</td>\n",
       "      <td>0.565385</td>\n",
       "      <td>0.930769</td>\n",
       "      <td>-30.73248</td>\n",
       "      <td>0.520000</td>\n",
       "      <td>32</td>\n",
       "    </tr>\n",
       "  </tbody>\n",
       "</table>\n",
       "</div>"
      ],
      "text/plain": [
       "   Country  Year   goals_z      xg_z  boxtouches_z  progpasses_z  progruns_z  \\\n",
       "0  Germany  2010  0.816923  0.513077      0.458462     -0.367692    0.142308   \n",
       "1  Germany  2014  0.755385  0.719231      0.601538      0.316154    0.198462   \n",
       "2  Germany  2018 -0.066154  0.615385      1.570000      0.565385    0.930769   \n",
       "\n",
       "     new_xg    Fouled  results  \n",
       "0   1.03010  0.160000        3  \n",
       "1   1.65071  0.163846        1  \n",
       "2 -30.73248  0.520000       32  "
      ]
     },
     "execution_count": 72,
     "metadata": {},
     "output_type": "execute_result"
    }
   ],
   "source": [
    "stats_df"
   ]
  },
  {
   "cell_type": "markdown",
   "metadata": {},
   "source": [
    "## 2006"
   ]
  },
  {
   "cell_type": "code",
   "execution_count": 73,
   "metadata": {},
   "outputs": [],
   "source": [
    "ger2006year = ger_year.loc[ger_year[\"season\"].isin(year2006)]"
   ]
  },
  {
   "cell_type": "code",
   "execution_count": 74,
   "metadata": {},
   "outputs": [],
   "source": [
    "ger2006xg = ger2006year.sort_values(by=[\"xg_z\"], ascending=False)"
   ]
  },
  {
   "cell_type": "code",
   "execution_count": 75,
   "metadata": {},
   "outputs": [],
   "source": [
    "ger2006xg13 = ger2006xg.head(13)"
   ]
  },
  {
   "cell_type": "code",
   "execution_count": 76,
   "metadata": {},
   "outputs": [],
   "source": [
    "ger2006xg13 = ger2006xg13.drop(columns=['season', 'team'])\n"
   ]
  },
  {
   "cell_type": "code",
   "execution_count": 77,
   "metadata": {},
   "outputs": [],
   "source": [
    "ger2006 = ger2006xg13.mean()"
   ]
  },
  {
   "cell_type": "code",
   "execution_count": 78,
   "metadata": {},
   "outputs": [
    {
     "data": {
      "text/plain": [
       "goals_z         0.560000\n",
       "xg_z            0.482308\n",
       "boxtouches_z    0.450769\n",
       "progpasses_z    0.300769\n",
       "progruns_z      0.272308\n",
       "fouls_z         0.220769\n",
       "fouled_z        0.354615\n",
       "nsxg_z          0.350769\n",
       "dtype: float64"
      ]
     },
     "execution_count": 78,
     "metadata": {},
     "output_type": "execute_result"
    }
   ],
   "source": [
    "ger2006"
   ]
  },
  {
   "cell_type": "code",
   "execution_count": 79,
   "metadata": {},
   "outputs": [
    {
     "data": {
      "text/plain": [
       "1.4876375"
      ]
     },
     "execution_count": 79,
     "metadata": {},
     "output_type": "execute_result"
    }
   ],
   "source": [
    "(.482308 + 0.350769) / 0.560000"
   ]
  },
  {
   "cell_type": "markdown",
   "metadata": {},
   "source": [
    "### Fouled"
   ]
  },
  {
   "cell_type": "code",
   "execution_count": 80,
   "metadata": {},
   "outputs": [
    {
     "data": {
      "text/plain": [
       "0.13384600000000002"
      ]
     },
     "execution_count": 80,
     "metadata": {},
     "output_type": "execute_result"
    }
   ],
   "source": [
    ".354615 - .220769"
   ]
  },
  {
   "cell_type": "code",
   "execution_count": 81,
   "metadata": {},
   "outputs": [],
   "source": [
    "new_row = {'Country': 'Germany', 'Year': 2006, 'goals_z': 0.560000, \n",
    "           'xg_z': 0.482308, 'boxtouches_z': 0.450769, \n",
    "           'progpasses_z': 0.300769, 'progruns_z': 0.272308, 'new_xg': 1.4876375, \n",
    "           'Fouled': 1.4876375, 'results': 3}\n",
    "\n",
    "stats_df = stats_df.append(new_row, ignore_index=True)"
   ]
  },
  {
   "cell_type": "markdown",
   "metadata": {},
   "source": [
    "## 2002"
   ]
  },
  {
   "cell_type": "code",
   "execution_count": 82,
   "metadata": {},
   "outputs": [],
   "source": [
    "ger2002year = ger_year.loc[ger_year[\"season\"].isin(year2002)]"
   ]
  },
  {
   "cell_type": "code",
   "execution_count": 83,
   "metadata": {},
   "outputs": [],
   "source": [
    "ger2002xg = ger2002year.sort_values(by=[\"xg_z\"], ascending=False)"
   ]
  },
  {
   "cell_type": "code",
   "execution_count": 84,
   "metadata": {},
   "outputs": [],
   "source": [
    "ger2002xg13 = ger2002xg.head(13)"
   ]
  },
  {
   "cell_type": "code",
   "execution_count": 85,
   "metadata": {},
   "outputs": [],
   "source": [
    "ger2002xg13 = ger2002xg13.drop(columns=['season', 'team'])\n"
   ]
  },
  {
   "cell_type": "code",
   "execution_count": 86,
   "metadata": {},
   "outputs": [],
   "source": [
    "ger2002 = ger2002xg13.mean()"
   ]
  },
  {
   "cell_type": "code",
   "execution_count": 87,
   "metadata": {},
   "outputs": [
    {
     "data": {
      "text/plain": [
       "goals_z         0.563077\n",
       "xg_z            0.426923\n",
       "boxtouches_z    0.280769\n",
       "progpasses_z   -0.102308\n",
       "progruns_z      0.011538\n",
       "fouls_z         0.211538\n",
       "fouled_z        0.265385\n",
       "nsxg_z          0.512308\n",
       "dtype: float64"
      ]
     },
     "execution_count": 87,
     "metadata": {},
     "output_type": "execute_result"
    }
   ],
   "source": [
    "ger2002"
   ]
  },
  {
   "cell_type": "code",
   "execution_count": 88,
   "metadata": {},
   "outputs": [
    {
     "data": {
      "text/plain": [
       "1.6680329688479547"
      ]
     },
     "execution_count": 88,
     "metadata": {},
     "output_type": "execute_result"
    }
   ],
   "source": [
    "(.426923 + 0.512308) / 0.563077"
   ]
  },
  {
   "cell_type": "markdown",
   "metadata": {},
   "source": [
    "### Fouled"
   ]
  },
  {
   "cell_type": "code",
   "execution_count": 89,
   "metadata": {},
   "outputs": [
    {
     "data": {
      "text/plain": [
       "0.05384699999999998"
      ]
     },
     "execution_count": 89,
     "metadata": {},
     "output_type": "execute_result"
    }
   ],
   "source": [
    ".265385 - .211538"
   ]
  },
  {
   "cell_type": "code",
   "execution_count": 90,
   "metadata": {},
   "outputs": [],
   "source": [
    "new_row = {'Country': 'Germany', 'Year': 2002, 'goals_z': 0.563077, \n",
    "           'xg_z': 0.426923, 'boxtouches_z': 0.280769, \n",
    "           'progpasses_z': -0.102308, 'progruns_z': 0.011538, 'new_xg': 1.668032968, \n",
    "           'Fouled': 0.05384699, 'results': 2}\n",
    "\n",
    "stats_df = stats_df.append(new_row, ignore_index=True)"
   ]
  },
  {
   "cell_type": "code",
   "execution_count": null,
   "metadata": {},
   "outputs": [],
   "source": []
  },
  {
   "cell_type": "markdown",
   "metadata": {},
   "source": [
    "# Switzerland\n",
    "* 2010: -1.76 \n",
    "* 2014: 1.954\n",
    "* 2018: 2.143"
   ]
  },
  {
   "cell_type": "code",
   "execution_count": 91,
   "metadata": {},
   "outputs": [],
   "source": [
    "swits = ['Switzerland']"
   ]
  },
  {
   "cell_type": "code",
   "execution_count": 92,
   "metadata": {},
   "outputs": [],
   "source": [
    "swiss_year = comparisons.loc[comparisons[\"team\"].isin(swits)]"
   ]
  },
  {
   "cell_type": "code",
   "execution_count": 93,
   "metadata": {},
   "outputs": [],
   "source": [
    "swiss2010year = swiss_year.loc[swiss_year[\"season\"].isin(year2010)]"
   ]
  },
  {
   "cell_type": "code",
   "execution_count": 94,
   "metadata": {},
   "outputs": [],
   "source": [
    "ch2010xg = swiss2010year.sort_values(by=[\"xg_z\"], ascending=False)"
   ]
  },
  {
   "cell_type": "code",
   "execution_count": 95,
   "metadata": {},
   "outputs": [],
   "source": [
    "ch2010xg13 = ch2010xg.head(13)"
   ]
  },
  {
   "cell_type": "code",
   "execution_count": 96,
   "metadata": {},
   "outputs": [],
   "source": [
    "ch2010xg13 = ch2010xg13.drop(columns=['season', 'team'])\n"
   ]
  },
  {
   "cell_type": "code",
   "execution_count": 97,
   "metadata": {},
   "outputs": [],
   "source": [
    "ch2010 = ch2010xg13.mean()"
   ]
  },
  {
   "cell_type": "code",
   "execution_count": 98,
   "metadata": {},
   "outputs": [
    {
     "data": {
      "text/plain": [
       "goals_z        -0.222308\n",
       "xg_z            0.122308\n",
       "boxtouches_z    0.128462\n",
       "progpasses_z    0.071538\n",
       "progruns_z     -0.068462\n",
       "fouls_z         0.429231\n",
       "fouled_z        0.042308\n",
       "nsxg_z          0.269231\n",
       "dtype: float64"
      ]
     },
     "execution_count": 98,
     "metadata": {},
     "output_type": "execute_result"
    }
   ],
   "source": [
    "ch2010"
   ]
  },
  {
   "cell_type": "code",
   "execution_count": 99,
   "metadata": {},
   "outputs": [
    {
     "data": {
      "text/plain": [
       "-1.761245659175558"
      ]
     },
     "execution_count": 99,
     "metadata": {},
     "output_type": "execute_result"
    }
   ],
   "source": [
    "(.122308 + .269231) / -0.222308"
   ]
  },
  {
   "cell_type": "markdown",
   "metadata": {},
   "source": [
    "### Fouled"
   ]
  },
  {
   "cell_type": "code",
   "execution_count": 100,
   "metadata": {},
   "outputs": [
    {
     "data": {
      "text/plain": [
       "-0.38692299999999996"
      ]
     },
     "execution_count": 100,
     "metadata": {},
     "output_type": "execute_result"
    }
   ],
   "source": [
    ".042308 - .429231"
   ]
  },
  {
   "cell_type": "code",
   "execution_count": 101,
   "metadata": {},
   "outputs": [],
   "source": [
    "new_row = {'Country': 'Switzerland', 'Year': 2010, 'goals_z': -0.222308, 'xg_z': 0.122308,\n",
    "           'boxtouches_z': 0.128462, 'progpasses_z': 0.071538, 'progruns_z': -0.068462, \n",
    "           'new_xg': -1.7612, 'Fouled': -0.3869, 'results': 32}\n",
    "\n",
    "stats_df = stats_df.append(new_row, ignore_index=True)"
   ]
  },
  {
   "cell_type": "code",
   "execution_count": 102,
   "metadata": {},
   "outputs": [
    {
     "data": {
      "text/html": [
       "<div>\n",
       "<style scoped>\n",
       "    .dataframe tbody tr th:only-of-type {\n",
       "        vertical-align: middle;\n",
       "    }\n",
       "\n",
       "    .dataframe tbody tr th {\n",
       "        vertical-align: top;\n",
       "    }\n",
       "\n",
       "    .dataframe thead th {\n",
       "        text-align: right;\n",
       "    }\n",
       "</style>\n",
       "<table border=\"1\" class=\"dataframe\">\n",
       "  <thead>\n",
       "    <tr style=\"text-align: right;\">\n",
       "      <th></th>\n",
       "      <th>Country</th>\n",
       "      <th>Year</th>\n",
       "      <th>goals_z</th>\n",
       "      <th>xg_z</th>\n",
       "      <th>boxtouches_z</th>\n",
       "      <th>progpasses_z</th>\n",
       "      <th>progruns_z</th>\n",
       "      <th>new_xg</th>\n",
       "      <th>Fouled</th>\n",
       "      <th>results</th>\n",
       "    </tr>\n",
       "  </thead>\n",
       "  <tbody>\n",
       "    <tr>\n",
       "      <th>0</th>\n",
       "      <td>Germany</td>\n",
       "      <td>2010</td>\n",
       "      <td>0.816923</td>\n",
       "      <td>0.513077</td>\n",
       "      <td>0.458462</td>\n",
       "      <td>-0.367692</td>\n",
       "      <td>0.142308</td>\n",
       "      <td>1.030100</td>\n",
       "      <td>0.160000</td>\n",
       "      <td>3</td>\n",
       "    </tr>\n",
       "    <tr>\n",
       "      <th>1</th>\n",
       "      <td>Germany</td>\n",
       "      <td>2014</td>\n",
       "      <td>0.755385</td>\n",
       "      <td>0.719231</td>\n",
       "      <td>0.601538</td>\n",
       "      <td>0.316154</td>\n",
       "      <td>0.198462</td>\n",
       "      <td>1.650710</td>\n",
       "      <td>0.163846</td>\n",
       "      <td>1</td>\n",
       "    </tr>\n",
       "    <tr>\n",
       "      <th>2</th>\n",
       "      <td>Germany</td>\n",
       "      <td>2018</td>\n",
       "      <td>-0.066154</td>\n",
       "      <td>0.615385</td>\n",
       "      <td>1.570000</td>\n",
       "      <td>0.565385</td>\n",
       "      <td>0.930769</td>\n",
       "      <td>-30.732480</td>\n",
       "      <td>0.520000</td>\n",
       "      <td>32</td>\n",
       "    </tr>\n",
       "    <tr>\n",
       "      <th>3</th>\n",
       "      <td>Germany</td>\n",
       "      <td>2006</td>\n",
       "      <td>0.560000</td>\n",
       "      <td>0.482308</td>\n",
       "      <td>0.450769</td>\n",
       "      <td>0.300769</td>\n",
       "      <td>0.272308</td>\n",
       "      <td>1.487637</td>\n",
       "      <td>1.487637</td>\n",
       "      <td>3</td>\n",
       "    </tr>\n",
       "    <tr>\n",
       "      <th>4</th>\n",
       "      <td>Germany</td>\n",
       "      <td>2002</td>\n",
       "      <td>0.563077</td>\n",
       "      <td>0.426923</td>\n",
       "      <td>0.280769</td>\n",
       "      <td>-0.102308</td>\n",
       "      <td>0.011538</td>\n",
       "      <td>1.668033</td>\n",
       "      <td>0.053847</td>\n",
       "      <td>2</td>\n",
       "    </tr>\n",
       "    <tr>\n",
       "      <th>5</th>\n",
       "      <td>Switzerland</td>\n",
       "      <td>2010</td>\n",
       "      <td>-0.222308</td>\n",
       "      <td>0.122308</td>\n",
       "      <td>0.128462</td>\n",
       "      <td>0.071538</td>\n",
       "      <td>-0.068462</td>\n",
       "      <td>-1.761200</td>\n",
       "      <td>-0.386900</td>\n",
       "      <td>32</td>\n",
       "    </tr>\n",
       "  </tbody>\n",
       "</table>\n",
       "</div>"
      ],
      "text/plain": [
       "       Country  Year   goals_z      xg_z  boxtouches_z  progpasses_z  \\\n",
       "0      Germany  2010  0.816923  0.513077      0.458462     -0.367692   \n",
       "1      Germany  2014  0.755385  0.719231      0.601538      0.316154   \n",
       "2      Germany  2018 -0.066154  0.615385      1.570000      0.565385   \n",
       "3      Germany  2006  0.560000  0.482308      0.450769      0.300769   \n",
       "4      Germany  2002  0.563077  0.426923      0.280769     -0.102308   \n",
       "5  Switzerland  2010 -0.222308  0.122308      0.128462      0.071538   \n",
       "\n",
       "   progruns_z     new_xg    Fouled  results  \n",
       "0    0.142308   1.030100  0.160000        3  \n",
       "1    0.198462   1.650710  0.163846        1  \n",
       "2    0.930769 -30.732480  0.520000       32  \n",
       "3    0.272308   1.487637  1.487637        3  \n",
       "4    0.011538   1.668033  0.053847        2  \n",
       "5   -0.068462  -1.761200 -0.386900       32  "
      ]
     },
     "execution_count": 102,
     "metadata": {},
     "output_type": "execute_result"
    }
   ],
   "source": [
    "stats_df"
   ]
  },
  {
   "cell_type": "markdown",
   "metadata": {},
   "source": [
    "## 2014"
   ]
  },
  {
   "cell_type": "code",
   "execution_count": 103,
   "metadata": {},
   "outputs": [],
   "source": [
    "swiss2014year = swiss_year.loc[swiss_year[\"season\"].isin(year2014)]"
   ]
  },
  {
   "cell_type": "code",
   "execution_count": 104,
   "metadata": {},
   "outputs": [],
   "source": [
    "ch2014xg = swiss2014year.sort_values(by=[\"xg_z\"], ascending=False)"
   ]
  },
  {
   "cell_type": "code",
   "execution_count": 105,
   "metadata": {},
   "outputs": [],
   "source": [
    "ch2014xg13 = ch2014xg.head(13)"
   ]
  },
  {
   "cell_type": "code",
   "execution_count": 106,
   "metadata": {},
   "outputs": [],
   "source": [
    "ch2014xg13 = ch2014xg13.drop(columns=['season', 'team'])\n"
   ]
  },
  {
   "cell_type": "code",
   "execution_count": 107,
   "metadata": {},
   "outputs": [],
   "source": [
    "ch2014 = ch2014xg13.mean()"
   ]
  },
  {
   "cell_type": "code",
   "execution_count": 108,
   "metadata": {},
   "outputs": [
    {
     "data": {
      "text/plain": [
       "goals_z         0.387692\n",
       "xg_z            0.550769\n",
       "boxtouches_z    0.138462\n",
       "progpasses_z    0.213077\n",
       "progruns_z      0.050769\n",
       "fouls_z         0.323077\n",
       "fouled_z        0.382308\n",
       "nsxg_z          0.206923\n",
       "dtype: float64"
      ]
     },
     "execution_count": 108,
     "metadata": {},
     "output_type": "execute_result"
    }
   ],
   "source": [
    "ch2014"
   ]
  },
  {
   "cell_type": "code",
   "execution_count": 109,
   "metadata": {},
   "outputs": [
    {
     "data": {
      "text/plain": [
       "1.954365836798283"
      ]
     },
     "execution_count": 109,
     "metadata": {},
     "output_type": "execute_result"
    }
   ],
   "source": [
    "(.550769 + .206923) / .387692"
   ]
  },
  {
   "cell_type": "markdown",
   "metadata": {},
   "source": [
    "### Fouled"
   ]
  },
  {
   "cell_type": "code",
   "execution_count": 110,
   "metadata": {},
   "outputs": [
    {
     "data": {
      "text/plain": [
       "0.05923099999999998"
      ]
     },
     "execution_count": 110,
     "metadata": {},
     "output_type": "execute_result"
    }
   ],
   "source": [
    ".382308 - .323077"
   ]
  },
  {
   "cell_type": "code",
   "execution_count": 111,
   "metadata": {},
   "outputs": [],
   "source": [
    "new_row = {'Country': 'Switzerland', 'Year': 2014,  'goals_z': 0.387692, 'xg_z': 0.550769, \n",
    "           'boxtouches_z': 0.138462, 'progpasses_z': 0.213077, 'progruns_z': 0.050769, \n",
    "           'new_xg': 1.9543, 'Fouled': 0.05923, 'results': 16}\n",
    "\n",
    "stats_df = stats_df.append(new_row, ignore_index=True)"
   ]
  },
  {
   "cell_type": "code",
   "execution_count": 112,
   "metadata": {},
   "outputs": [
    {
     "data": {
      "text/html": [
       "<div>\n",
       "<style scoped>\n",
       "    .dataframe tbody tr th:only-of-type {\n",
       "        vertical-align: middle;\n",
       "    }\n",
       "\n",
       "    .dataframe tbody tr th {\n",
       "        vertical-align: top;\n",
       "    }\n",
       "\n",
       "    .dataframe thead th {\n",
       "        text-align: right;\n",
       "    }\n",
       "</style>\n",
       "<table border=\"1\" class=\"dataframe\">\n",
       "  <thead>\n",
       "    <tr style=\"text-align: right;\">\n",
       "      <th></th>\n",
       "      <th>Country</th>\n",
       "      <th>Year</th>\n",
       "      <th>goals_z</th>\n",
       "      <th>xg_z</th>\n",
       "      <th>boxtouches_z</th>\n",
       "      <th>progpasses_z</th>\n",
       "      <th>progruns_z</th>\n",
       "      <th>new_xg</th>\n",
       "      <th>Fouled</th>\n",
       "      <th>results</th>\n",
       "    </tr>\n",
       "  </thead>\n",
       "  <tbody>\n",
       "    <tr>\n",
       "      <th>0</th>\n",
       "      <td>Germany</td>\n",
       "      <td>2010</td>\n",
       "      <td>0.816923</td>\n",
       "      <td>0.513077</td>\n",
       "      <td>0.458462</td>\n",
       "      <td>-0.367692</td>\n",
       "      <td>0.142308</td>\n",
       "      <td>1.030100</td>\n",
       "      <td>0.160000</td>\n",
       "      <td>3</td>\n",
       "    </tr>\n",
       "    <tr>\n",
       "      <th>1</th>\n",
       "      <td>Germany</td>\n",
       "      <td>2014</td>\n",
       "      <td>0.755385</td>\n",
       "      <td>0.719231</td>\n",
       "      <td>0.601538</td>\n",
       "      <td>0.316154</td>\n",
       "      <td>0.198462</td>\n",
       "      <td>1.650710</td>\n",
       "      <td>0.163846</td>\n",
       "      <td>1</td>\n",
       "    </tr>\n",
       "    <tr>\n",
       "      <th>2</th>\n",
       "      <td>Germany</td>\n",
       "      <td>2018</td>\n",
       "      <td>-0.066154</td>\n",
       "      <td>0.615385</td>\n",
       "      <td>1.570000</td>\n",
       "      <td>0.565385</td>\n",
       "      <td>0.930769</td>\n",
       "      <td>-30.732480</td>\n",
       "      <td>0.520000</td>\n",
       "      <td>32</td>\n",
       "    </tr>\n",
       "    <tr>\n",
       "      <th>3</th>\n",
       "      <td>Germany</td>\n",
       "      <td>2006</td>\n",
       "      <td>0.560000</td>\n",
       "      <td>0.482308</td>\n",
       "      <td>0.450769</td>\n",
       "      <td>0.300769</td>\n",
       "      <td>0.272308</td>\n",
       "      <td>1.487637</td>\n",
       "      <td>1.487637</td>\n",
       "      <td>3</td>\n",
       "    </tr>\n",
       "    <tr>\n",
       "      <th>4</th>\n",
       "      <td>Germany</td>\n",
       "      <td>2002</td>\n",
       "      <td>0.563077</td>\n",
       "      <td>0.426923</td>\n",
       "      <td>0.280769</td>\n",
       "      <td>-0.102308</td>\n",
       "      <td>0.011538</td>\n",
       "      <td>1.668033</td>\n",
       "      <td>0.053847</td>\n",
       "      <td>2</td>\n",
       "    </tr>\n",
       "    <tr>\n",
       "      <th>5</th>\n",
       "      <td>Switzerland</td>\n",
       "      <td>2010</td>\n",
       "      <td>-0.222308</td>\n",
       "      <td>0.122308</td>\n",
       "      <td>0.128462</td>\n",
       "      <td>0.071538</td>\n",
       "      <td>-0.068462</td>\n",
       "      <td>-1.761200</td>\n",
       "      <td>-0.386900</td>\n",
       "      <td>32</td>\n",
       "    </tr>\n",
       "    <tr>\n",
       "      <th>6</th>\n",
       "      <td>Switzerland</td>\n",
       "      <td>2014</td>\n",
       "      <td>0.387692</td>\n",
       "      <td>0.550769</td>\n",
       "      <td>0.138462</td>\n",
       "      <td>0.213077</td>\n",
       "      <td>0.050769</td>\n",
       "      <td>1.954300</td>\n",
       "      <td>0.059230</td>\n",
       "      <td>16</td>\n",
       "    </tr>\n",
       "  </tbody>\n",
       "</table>\n",
       "</div>"
      ],
      "text/plain": [
       "       Country  Year   goals_z      xg_z  boxtouches_z  progpasses_z  \\\n",
       "0      Germany  2010  0.816923  0.513077      0.458462     -0.367692   \n",
       "1      Germany  2014  0.755385  0.719231      0.601538      0.316154   \n",
       "2      Germany  2018 -0.066154  0.615385      1.570000      0.565385   \n",
       "3      Germany  2006  0.560000  0.482308      0.450769      0.300769   \n",
       "4      Germany  2002  0.563077  0.426923      0.280769     -0.102308   \n",
       "5  Switzerland  2010 -0.222308  0.122308      0.128462      0.071538   \n",
       "6  Switzerland  2014  0.387692  0.550769      0.138462      0.213077   \n",
       "\n",
       "   progruns_z     new_xg    Fouled  results  \n",
       "0    0.142308   1.030100  0.160000        3  \n",
       "1    0.198462   1.650710  0.163846        1  \n",
       "2    0.930769 -30.732480  0.520000       32  \n",
       "3    0.272308   1.487637  1.487637        3  \n",
       "4    0.011538   1.668033  0.053847        2  \n",
       "5   -0.068462  -1.761200 -0.386900       32  \n",
       "6    0.050769   1.954300  0.059230       16  "
      ]
     },
     "execution_count": 112,
     "metadata": {},
     "output_type": "execute_result"
    }
   ],
   "source": [
    "stats_df"
   ]
  },
  {
   "cell_type": "markdown",
   "metadata": {},
   "source": [
    "## 2018"
   ]
  },
  {
   "cell_type": "code",
   "execution_count": 113,
   "metadata": {},
   "outputs": [],
   "source": [
    "swiss2018year = swiss_year.loc[swiss_year[\"season\"].isin(year2018)]"
   ]
  },
  {
   "cell_type": "code",
   "execution_count": 114,
   "metadata": {},
   "outputs": [],
   "source": [
    "ch2018xg = swiss2018year.sort_values(by=[\"xg_z\"], ascending=False)"
   ]
  },
  {
   "cell_type": "code",
   "execution_count": 115,
   "metadata": {},
   "outputs": [],
   "source": [
    "ch2018xg13 = ch2018xg.head(13)"
   ]
  },
  {
   "cell_type": "code",
   "execution_count": 116,
   "metadata": {},
   "outputs": [],
   "source": [
    "ch2018xg13 = ch2018xg13.drop(columns=['season', 'team'])\n"
   ]
  },
  {
   "cell_type": "code",
   "execution_count": 117,
   "metadata": {},
   "outputs": [],
   "source": [
    "ch2018 = ch2018xg13.mean()"
   ]
  },
  {
   "cell_type": "code",
   "execution_count": 118,
   "metadata": {},
   "outputs": [
    {
     "data": {
      "text/plain": [
       "goals_z         0.241538\n",
       "xg_z            0.330769\n",
       "boxtouches_z    0.181538\n",
       "progpasses_z    0.113077\n",
       "progruns_z      0.286923\n",
       "fouls_z        -0.040000\n",
       "fouled_z        0.116154\n",
       "nsxg_z          0.186923\n",
       "dtype: float64"
      ]
     },
     "execution_count": 118,
     "metadata": {},
     "output_type": "execute_result"
    }
   ],
   "source": [
    "ch2018"
   ]
  },
  {
   "cell_type": "code",
   "execution_count": 119,
   "metadata": {},
   "outputs": [
    {
     "data": {
      "text/plain": [
       "2.143314923531701"
      ]
     },
     "execution_count": 119,
     "metadata": {},
     "output_type": "execute_result"
    }
   ],
   "source": [
    "(.330769 + .186923) / 0.241538"
   ]
  },
  {
   "cell_type": "markdown",
   "metadata": {},
   "source": [
    "### Fouled"
   ]
  },
  {
   "cell_type": "code",
   "execution_count": 120,
   "metadata": {},
   "outputs": [
    {
     "data": {
      "text/plain": [
       "0.156154"
      ]
     },
     "execution_count": 120,
     "metadata": {},
     "output_type": "execute_result"
    }
   ],
   "source": [
    ".116154 - -0.040000"
   ]
  },
  {
   "cell_type": "code",
   "execution_count": 121,
   "metadata": {},
   "outputs": [],
   "source": [
    "new_row = {'Country': 'Switzerland', 'Year': 2018, 'goals_z': 0.241538, 'xg_z': 0.330769, \n",
    "           'boxtouches_z': 0.181538, 'progpasses_z': 0.113077, 'progruns_z': 0.286923, \n",
    "           'new_xg': 2.1433, 'Fouled': 0.1561, 'results': 16}\n",
    "\n",
    "stats_df = stats_df.append(new_row, ignore_index=True)"
   ]
  },
  {
   "cell_type": "code",
   "execution_count": 701,
   "metadata": {},
   "outputs": [],
   "source": [
    "# stats_df"
   ]
  },
  {
   "cell_type": "markdown",
   "metadata": {},
   "source": [
    "## 2006"
   ]
  },
  {
   "cell_type": "code",
   "execution_count": 702,
   "metadata": {},
   "outputs": [],
   "source": [
    "swiss2006year = swiss_year.loc[swiss_year[\"season\"].isin(year2006)]"
   ]
  },
  {
   "cell_type": "code",
   "execution_count": 703,
   "metadata": {},
   "outputs": [],
   "source": [
    "ch2006xg = swiss2006year.sort_values(by=[\"xg_z\"], ascending=False)"
   ]
  },
  {
   "cell_type": "code",
   "execution_count": 705,
   "metadata": {},
   "outputs": [],
   "source": [
    "ch2006xg13 = ch2006xg.head(13)"
   ]
  },
  {
   "cell_type": "code",
   "execution_count": 706,
   "metadata": {},
   "outputs": [],
   "source": [
    "ch2006xg13 = ch2006xg13.drop(columns=['season', 'team'])\n"
   ]
  },
  {
   "cell_type": "code",
   "execution_count": 707,
   "metadata": {},
   "outputs": [],
   "source": [
    "ch2006 = ch2006xg13.mean()"
   ]
  },
  {
   "cell_type": "code",
   "execution_count": 708,
   "metadata": {},
   "outputs": [
    {
     "data": {
      "text/plain": [
       "goals_z         0.113077\n",
       "xg_z            0.003846\n",
       "boxtouches_z   -0.033077\n",
       "progpasses_z    0.148462\n",
       "progruns_z     -0.072308\n",
       "fouls_z        -0.151538\n",
       "fouled_z        0.146154\n",
       "nsxg_z         -0.044615\n",
       "dtype: float64"
      ]
     },
     "execution_count": 708,
     "metadata": {},
     "output_type": "execute_result"
    }
   ],
   "source": [
    "ch2006"
   ]
  },
  {
   "cell_type": "code",
   "execution_count": 709,
   "metadata": {},
   "outputs": [
    {
     "data": {
      "text/plain": [
       "-0.3605419316041282"
      ]
     },
     "execution_count": 709,
     "metadata": {},
     "output_type": "execute_result"
    }
   ],
   "source": [
    "(.003846 + -0.044615) / 0.113077"
   ]
  },
  {
   "cell_type": "markdown",
   "metadata": {},
   "source": [
    "### Fouled"
   ]
  },
  {
   "cell_type": "code",
   "execution_count": 710,
   "metadata": {},
   "outputs": [
    {
     "data": {
      "text/plain": [
       "0.297692"
      ]
     },
     "execution_count": 710,
     "metadata": {},
     "output_type": "execute_result"
    }
   ],
   "source": [
    ".146154 - -0.151538"
   ]
  },
  {
   "cell_type": "code",
   "execution_count": 711,
   "metadata": {},
   "outputs": [],
   "source": [
    "new_row = {'Country': 'Switzerland', 'Year': 2006, 'goals_z': 0.113077, 'xg_z': 0.003846, \n",
    "           'boxtouches_z': -0.033077, 'progpasses_z': 0.148462, 'progruns_z': -0.072308, \n",
    "           'new_xg': -0.360541, 'Fouled': 0.297692, 'results': 16}\n",
    "\n",
    "stats_df = stats_df.append(new_row, ignore_index=True)"
   ]
  },
  {
   "cell_type": "markdown",
   "metadata": {},
   "source": [
    "## 2002 NA"
   ]
  },
  {
   "cell_type": "markdown",
   "metadata": {},
   "source": [
    "# Spain"
   ]
  },
  {
   "cell_type": "code",
   "execution_count": 123,
   "metadata": {},
   "outputs": [],
   "source": [
    "es = ['Spain']"
   ]
  },
  {
   "cell_type": "code",
   "execution_count": 124,
   "metadata": {},
   "outputs": [],
   "source": [
    "es_year = comparisons.loc[comparisons[\"team\"].isin(es)]"
   ]
  },
  {
   "cell_type": "code",
   "execution_count": 125,
   "metadata": {},
   "outputs": [],
   "source": [
    "es2010year = es_year.loc[es_year[\"season\"].isin(year2010)]"
   ]
  },
  {
   "cell_type": "code",
   "execution_count": 126,
   "metadata": {},
   "outputs": [],
   "source": [
    "es2010xg = es2010year.sort_values(by=[\"xg_z\"], ascending=False)"
   ]
  },
  {
   "cell_type": "code",
   "execution_count": 127,
   "metadata": {},
   "outputs": [],
   "source": [
    "es2010xg13 = es2010xg.head(13)"
   ]
  },
  {
   "cell_type": "code",
   "execution_count": 128,
   "metadata": {},
   "outputs": [],
   "source": [
    "es2010xg13 = es2010xg13.drop(columns=['season', 'team'])\n"
   ]
  },
  {
   "cell_type": "code",
   "execution_count": 129,
   "metadata": {},
   "outputs": [],
   "source": [
    "es2010 = es2010xg13.mean()"
   ]
  },
  {
   "cell_type": "code",
   "execution_count": 130,
   "metadata": {},
   "outputs": [
    {
     "data": {
      "text/plain": [
       "goals_z         0.180000\n",
       "xg_z            0.539231\n",
       "boxtouches_z    0.868462\n",
       "progpasses_z    0.320000\n",
       "progruns_z      1.432308\n",
       "fouls_z        -0.138462\n",
       "fouled_z        0.464615\n",
       "nsxg_z          0.762308\n",
       "dtype: float64"
      ]
     },
     "execution_count": 130,
     "metadata": {},
     "output_type": "execute_result"
    }
   ],
   "source": [
    "es2010"
   ]
  },
  {
   "cell_type": "code",
   "execution_count": 131,
   "metadata": {},
   "outputs": [
    {
     "data": {
      "text/plain": [
       "7.230772222222223"
      ]
     },
     "execution_count": 131,
     "metadata": {},
     "output_type": "execute_result"
    }
   ],
   "source": [
    "(.539231 + .762308) / .180000"
   ]
  },
  {
   "cell_type": "markdown",
   "metadata": {},
   "source": [
    "### Fouled"
   ]
  },
  {
   "cell_type": "code",
   "execution_count": 132,
   "metadata": {},
   "outputs": [
    {
     "data": {
      "text/plain": [
       "0.603077"
      ]
     },
     "execution_count": 132,
     "metadata": {},
     "output_type": "execute_result"
    }
   ],
   "source": [
    ".464615 - -0.138462"
   ]
  },
  {
   "cell_type": "code",
   "execution_count": 133,
   "metadata": {},
   "outputs": [],
   "source": [
    "new_row = {'Country': 'Spain', 'Year': 2010, 'goals_z': 0.180000, 'xg_z': 0.539231, \n",
    "           'boxtouches_z': 0.868462,'progpasses_z': 0.320000, 'progruns_z': 1.432308, \n",
    "           'new_xg': 7.2307, 'Fouled': 0.60307, 'results': 1}\n",
    "\n",
    "stats_df = stats_df.append(new_row, ignore_index=True)"
   ]
  },
  {
   "cell_type": "markdown",
   "metadata": {},
   "source": [
    "## 2014"
   ]
  },
  {
   "cell_type": "code",
   "execution_count": 134,
   "metadata": {},
   "outputs": [],
   "source": [
    "es2014year = es_year.loc[es_year[\"season\"].isin(year2014)]"
   ]
  },
  {
   "cell_type": "code",
   "execution_count": 135,
   "metadata": {},
   "outputs": [],
   "source": [
    "es2014xg = es2014year.sort_values(by=[\"xg_z\"], ascending=False)"
   ]
  },
  {
   "cell_type": "code",
   "execution_count": 136,
   "metadata": {},
   "outputs": [],
   "source": [
    "es2014xg13 = es2014xg.head(13)"
   ]
  },
  {
   "cell_type": "code",
   "execution_count": 137,
   "metadata": {},
   "outputs": [],
   "source": [
    "es2014xg13 = es2014xg13.drop(columns=['season', 'team'])\n"
   ]
  },
  {
   "cell_type": "code",
   "execution_count": 138,
   "metadata": {},
   "outputs": [],
   "source": [
    "es2014 = es2014xg13.mean()"
   ]
  },
  {
   "cell_type": "code",
   "execution_count": 139,
   "metadata": {},
   "outputs": [
    {
     "data": {
      "text/plain": [
       "goals_z         0.243846\n",
       "xg_z            0.536154\n",
       "boxtouches_z    0.596923\n",
       "progpasses_z   -0.052308\n",
       "progruns_z      0.489231\n",
       "fouls_z        -0.391538\n",
       "fouled_z        0.333077\n",
       "nsxg_z          0.412308\n",
       "dtype: float64"
      ]
     },
     "execution_count": 139,
     "metadata": {},
     "output_type": "execute_result"
    }
   ],
   "source": [
    "es2014"
   ]
  },
  {
   "cell_type": "code",
   "execution_count": 140,
   "metadata": {},
   "outputs": [
    {
     "data": {
      "text/plain": [
       "3.889594252109938"
      ]
     },
     "execution_count": 140,
     "metadata": {},
     "output_type": "execute_result"
    }
   ],
   "source": [
    "(.536154 + .412308) / .243846"
   ]
  },
  {
   "cell_type": "markdown",
   "metadata": {},
   "source": [
    "### Fouled"
   ]
  },
  {
   "cell_type": "code",
   "execution_count": 141,
   "metadata": {},
   "outputs": [
    {
     "data": {
      "text/plain": [
       "0.724615"
      ]
     },
     "execution_count": 141,
     "metadata": {},
     "output_type": "execute_result"
    }
   ],
   "source": [
    "0.333077 - -0.391538"
   ]
  },
  {
   "cell_type": "code",
   "execution_count": 142,
   "metadata": {},
   "outputs": [],
   "source": [
    "new_row = {'Country': 'Spain', 'Year': 2014, 'goals_z': 0.243846, 'xg_z': 0.536154, \n",
    "           'boxtouches_z': 0.596923, 'progpasses_z': -0.052308, 'progruns_z': 0.489231, \n",
    "           'new_xg': 3.8895, 'Fouled': 0.724615, 'results': 32}\n",
    "\n",
    "stats_df = stats_df.append(new_row, ignore_index=True)"
   ]
  },
  {
   "cell_type": "markdown",
   "metadata": {},
   "source": [
    "## 2018"
   ]
  },
  {
   "cell_type": "code",
   "execution_count": 143,
   "metadata": {},
   "outputs": [],
   "source": [
    "es2018year = es_year.loc[es_year[\"season\"].isin(year2018)]"
   ]
  },
  {
   "cell_type": "code",
   "execution_count": 144,
   "metadata": {},
   "outputs": [],
   "source": [
    "es2018xg = es2018year.sort_values(by=[\"xg_z\"], ascending=False)"
   ]
  },
  {
   "cell_type": "code",
   "execution_count": 145,
   "metadata": {},
   "outputs": [],
   "source": [
    "es2018xg13 = es2018xg.head(13)"
   ]
  },
  {
   "cell_type": "code",
   "execution_count": 146,
   "metadata": {},
   "outputs": [],
   "source": [
    "es2018xg13 = es2018xg13.drop(columns=['season', 'team'])\n"
   ]
  },
  {
   "cell_type": "code",
   "execution_count": 147,
   "metadata": {},
   "outputs": [],
   "source": [
    "es2018 = es2018xg13.mean()"
   ]
  },
  {
   "cell_type": "code",
   "execution_count": 148,
   "metadata": {},
   "outputs": [
    {
     "data": {
      "text/plain": [
       "goals_z         0.190769\n",
       "xg_z            0.680769\n",
       "boxtouches_z    0.763077\n",
       "progpasses_z    0.267692\n",
       "progruns_z      0.981538\n",
       "fouls_z        -0.410000\n",
       "fouled_z        0.195385\n",
       "nsxg_z          0.726154\n",
       "dtype: float64"
      ]
     },
     "execution_count": 148,
     "metadata": {},
     "output_type": "execute_result"
    }
   ],
   "source": [
    "es2018"
   ]
  },
  {
   "cell_type": "code",
   "execution_count": 149,
   "metadata": {},
   "outputs": [
    {
     "data": {
      "text/plain": [
       "7.375008518155465"
      ]
     },
     "execution_count": 149,
     "metadata": {},
     "output_type": "execute_result"
    }
   ],
   "source": [
    "(.680769 + .726154) / .190769"
   ]
  },
  {
   "cell_type": "markdown",
   "metadata": {},
   "source": [
    "### Fouled"
   ]
  },
  {
   "cell_type": "code",
   "execution_count": 150,
   "metadata": {},
   "outputs": [
    {
     "data": {
      "text/plain": [
       "0.605385"
      ]
     },
     "execution_count": 150,
     "metadata": {},
     "output_type": "execute_result"
    }
   ],
   "source": [
    ".195385 - -0.410000"
   ]
  },
  {
   "cell_type": "code",
   "execution_count": 151,
   "metadata": {},
   "outputs": [],
   "source": [
    "new_row = {'Country': 'Spain', 'Year': 2018, 'goals_z': 0.190769, 'xg_z': 0.680769, \n",
    "           'boxtouches_z': 0.763077, 'progpasses_z': 0.267692, 'progruns_z': 0.981538, \n",
    "           'new_xg': 7.37500, 'Fouled': 0.605385, 'results': 16}\n",
    "\n",
    "stats_df = stats_df.append(new_row, ignore_index=True)"
   ]
  },
  {
   "cell_type": "code",
   "execution_count": 713,
   "metadata": {},
   "outputs": [],
   "source": [
    "# stats_df"
   ]
  },
  {
   "cell_type": "markdown",
   "metadata": {},
   "source": [
    "## 2006"
   ]
  },
  {
   "cell_type": "code",
   "execution_count": 714,
   "metadata": {},
   "outputs": [],
   "source": [
    "es2006year = es_year.loc[es_year[\"season\"].isin(year2006)]"
   ]
  },
  {
   "cell_type": "code",
   "execution_count": 715,
   "metadata": {},
   "outputs": [],
   "source": [
    "es2006xg = es2006year.sort_values(by=[\"xg_z\"], ascending=False)"
   ]
  },
  {
   "cell_type": "code",
   "execution_count": 716,
   "metadata": {},
   "outputs": [],
   "source": [
    "es2006xg13 = es2006xg.head(13)"
   ]
  },
  {
   "cell_type": "code",
   "execution_count": 717,
   "metadata": {},
   "outputs": [],
   "source": [
    "es2006xg13 = es2006xg13.drop(columns=['season', 'team'])\n"
   ]
  },
  {
   "cell_type": "code",
   "execution_count": 718,
   "metadata": {},
   "outputs": [],
   "source": [
    "es2006 = es2006xg13.mean()"
   ]
  },
  {
   "cell_type": "code",
   "execution_count": 719,
   "metadata": {},
   "outputs": [
    {
     "data": {
      "text/plain": [
       "goals_z         0.881538\n",
       "xg_z            1.015385\n",
       "boxtouches_z    0.533077\n",
       "progpasses_z    0.266154\n",
       "progruns_z      0.080000\n",
       "fouls_z         0.041538\n",
       "fouled_z        0.093077\n",
       "nsxg_z          0.650769\n",
       "dtype: float64"
      ]
     },
     "execution_count": 719,
     "metadata": {},
     "output_type": "execute_result"
    }
   ],
   "source": [
    "es2006"
   ]
  },
  {
   "cell_type": "code",
   "execution_count": 721,
   "metadata": {},
   "outputs": [
    {
     "data": {
      "text/plain": [
       "1.890053520097829"
      ]
     },
     "execution_count": 721,
     "metadata": {},
     "output_type": "execute_result"
    }
   ],
   "source": [
    "(1.015385 + .650769) / .881538"
   ]
  },
  {
   "cell_type": "markdown",
   "metadata": {},
   "source": [
    "### Fouled"
   ]
  },
  {
   "cell_type": "code",
   "execution_count": 722,
   "metadata": {},
   "outputs": [
    {
     "data": {
      "text/plain": [
       "0.051538999999999995"
      ]
     },
     "execution_count": 722,
     "metadata": {},
     "output_type": "execute_result"
    }
   ],
   "source": [
    ".093077 - .041538"
   ]
  },
  {
   "cell_type": "code",
   "execution_count": 723,
   "metadata": {},
   "outputs": [],
   "source": [
    "new_row = {'Country': 'Spain', 'Year': 2006, 'goals_z': 0.881538, 'xg_z': 1.015385, \n",
    "           'boxtouches_z': 0.533077, 'progpasses_z': 0.266154, 'progruns_z': 0.080000, \n",
    "           'new_xg': 1.890053, 'Fouled': 0.051538999, 'results': 16}\n",
    "\n",
    "stats_df = stats_df.append(new_row, ignore_index=True)"
   ]
  },
  {
   "cell_type": "markdown",
   "metadata": {},
   "source": [
    "## 2002"
   ]
  },
  {
   "cell_type": "code",
   "execution_count": 724,
   "metadata": {},
   "outputs": [],
   "source": [
    "es2002year = es_year.loc[es_year[\"season\"].isin(year2002)]"
   ]
  },
  {
   "cell_type": "code",
   "execution_count": 725,
   "metadata": {},
   "outputs": [],
   "source": [
    "es2002xg = es2002year.sort_values(by=[\"xg_z\"], ascending=False)"
   ]
  },
  {
   "cell_type": "code",
   "execution_count": 726,
   "metadata": {},
   "outputs": [],
   "source": [
    "es2002xg13 = es2002xg.head(13)"
   ]
  },
  {
   "cell_type": "code",
   "execution_count": 727,
   "metadata": {},
   "outputs": [],
   "source": [
    "es2002xg13 = es2002xg13.drop(columns=['season', 'team'])\n"
   ]
  },
  {
   "cell_type": "code",
   "execution_count": 728,
   "metadata": {},
   "outputs": [],
   "source": [
    "es2002 = es2002xg13.mean()"
   ]
  },
  {
   "cell_type": "code",
   "execution_count": 729,
   "metadata": {},
   "outputs": [
    {
     "data": {
      "text/plain": [
       "goals_z         0.451538\n",
       "xg_z            0.495385\n",
       "boxtouches_z    0.182308\n",
       "progpasses_z   -0.222308\n",
       "progruns_z      0.130769\n",
       "fouls_z        -0.287692\n",
       "fouled_z        0.157692\n",
       "nsxg_z          0.132308\n",
       "dtype: float64"
      ]
     },
     "execution_count": 729,
     "metadata": {},
     "output_type": "execute_result"
    }
   ],
   "source": [
    "es2002"
   ]
  },
  {
   "cell_type": "code",
   "execution_count": 730,
   "metadata": {},
   "outputs": [
    {
     "data": {
      "text/plain": [
       "1.3901222045542125"
      ]
     },
     "execution_count": 730,
     "metadata": {},
     "output_type": "execute_result"
    }
   ],
   "source": [
    "(.495385 + .132308) / .451538"
   ]
  },
  {
   "cell_type": "markdown",
   "metadata": {},
   "source": [
    "### Fouled"
   ]
  },
  {
   "cell_type": "code",
   "execution_count": 731,
   "metadata": {},
   "outputs": [
    {
     "data": {
      "text/plain": [
       "0.445384"
      ]
     },
     "execution_count": 731,
     "metadata": {},
     "output_type": "execute_result"
    }
   ],
   "source": [
    ".157692 - -0.287692"
   ]
  },
  {
   "cell_type": "code",
   "execution_count": 732,
   "metadata": {},
   "outputs": [],
   "source": [
    "new_row = {'Country': 'Spain', 'Year': 2002, 'goals_z': 0.451538, 'xg_z': 0.495385, \n",
    "           'boxtouches_z': 0.182308, 'progpasses_z': -0.222308, 'progruns_z': 0.130769, \n",
    "           'new_xg': 1.390122, 'Fouled': 0.445384, 'results': 8}\n",
    "\n",
    "stats_df = stats_df.append(new_row, ignore_index=True)"
   ]
  },
  {
   "cell_type": "markdown",
   "metadata": {},
   "source": [
    "#  Portugal"
   ]
  },
  {
   "cell_type": "code",
   "execution_count": 153,
   "metadata": {},
   "outputs": [],
   "source": [
    "port = ['Portugal']"
   ]
  },
  {
   "cell_type": "code",
   "execution_count": 154,
   "metadata": {},
   "outputs": [],
   "source": [
    "port_year = comparisons.loc[comparisons[\"team\"].isin(port)]"
   ]
  },
  {
   "cell_type": "code",
   "execution_count": 155,
   "metadata": {},
   "outputs": [],
   "source": [
    "port2010year = port_year.loc[port_year[\"season\"].isin(year2010)]"
   ]
  },
  {
   "cell_type": "code",
   "execution_count": 156,
   "metadata": {},
   "outputs": [],
   "source": [
    "port2010xg = port2010year.sort_values(by=[\"xg_z\"], ascending=False)"
   ]
  },
  {
   "cell_type": "code",
   "execution_count": 157,
   "metadata": {},
   "outputs": [],
   "source": [
    "port2010xg13 = port2010xg.head(13)"
   ]
  },
  {
   "cell_type": "code",
   "execution_count": 158,
   "metadata": {},
   "outputs": [],
   "source": [
    "port2010xg13 = port2010xg13.drop(columns=['season', 'team',])\n"
   ]
  },
  {
   "cell_type": "code",
   "execution_count": 159,
   "metadata": {},
   "outputs": [],
   "source": [
    "port2010 = port2010xg13.mean()"
   ]
  },
  {
   "cell_type": "code",
   "execution_count": 160,
   "metadata": {},
   "outputs": [
    {
     "data": {
      "text/plain": [
       "goals_z         0.531538\n",
       "xg_z            0.284615\n",
       "boxtouches_z    0.100769\n",
       "progpasses_z   -0.300000\n",
       "progruns_z      0.180769\n",
       "fouls_z         0.236154\n",
       "fouled_z       -0.030000\n",
       "nsxg_z          0.053077\n",
       "dtype: float64"
      ]
     },
     "execution_count": 160,
     "metadata": {},
     "output_type": "execute_result"
    }
   ],
   "source": [
    "port2010"
   ]
  },
  {
   "cell_type": "code",
   "execution_count": 161,
   "metadata": {},
   "outputs": [
    {
     "data": {
      "text/plain": [
       "0.6353111160443844"
      ]
     },
     "execution_count": 161,
     "metadata": {},
     "output_type": "execute_result"
    }
   ],
   "source": [
    "(.284615 + .053077) / .531538"
   ]
  },
  {
   "cell_type": "markdown",
   "metadata": {},
   "source": [
    "### Fouled"
   ]
  },
  {
   "cell_type": "code",
   "execution_count": 162,
   "metadata": {},
   "outputs": [
    {
     "data": {
      "text/plain": [
       "-0.266154"
      ]
     },
     "execution_count": 162,
     "metadata": {},
     "output_type": "execute_result"
    }
   ],
   "source": [
    "-0.030000 - .236154"
   ]
  },
  {
   "cell_type": "code",
   "execution_count": 163,
   "metadata": {},
   "outputs": [],
   "source": [
    "new_row = {'Country': 'Portugal', 'Year': 2010, 'goals_z': 0.531538, 'xg_z': 0.284615, \n",
    "           'boxtouches_z': 0.100769, 'progpasses_z': -0.300000, 'progruns_z': 0.180769, \n",
    "           'new_xg': 0.63531, 'Fouled': -0.2661, 'results': 16}\n",
    "\n",
    "stats_df = stats_df.append(new_row, ignore_index=True)"
   ]
  },
  {
   "cell_type": "code",
   "execution_count": 164,
   "metadata": {},
   "outputs": [
    {
     "data": {
      "text/html": [
       "<div>\n",
       "<style scoped>\n",
       "    .dataframe tbody tr th:only-of-type {\n",
       "        vertical-align: middle;\n",
       "    }\n",
       "\n",
       "    .dataframe tbody tr th {\n",
       "        vertical-align: top;\n",
       "    }\n",
       "\n",
       "    .dataframe thead th {\n",
       "        text-align: right;\n",
       "    }\n",
       "</style>\n",
       "<table border=\"1\" class=\"dataframe\">\n",
       "  <thead>\n",
       "    <tr style=\"text-align: right;\">\n",
       "      <th></th>\n",
       "      <th>Year</th>\n",
       "      <th>goals_z</th>\n",
       "      <th>xg_z</th>\n",
       "      <th>boxtouches_z</th>\n",
       "      <th>progpasses_z</th>\n",
       "      <th>progruns_z</th>\n",
       "      <th>new_xg</th>\n",
       "      <th>Fouled</th>\n",
       "      <th>results</th>\n",
       "    </tr>\n",
       "  </thead>\n",
       "  <tbody>\n",
       "    <tr>\n",
       "      <th>Year</th>\n",
       "      <td>1.000000</td>\n",
       "      <td>-0.386209</td>\n",
       "      <td>0.353057</td>\n",
       "      <td>0.396761</td>\n",
       "      <td>0.424772</td>\n",
       "      <td>0.376182</td>\n",
       "      <td>-0.279985</td>\n",
       "      <td>-0.003637</td>\n",
       "      <td>0.498293</td>\n",
       "    </tr>\n",
       "    <tr>\n",
       "      <th>goals_z</th>\n",
       "      <td>-0.386209</td>\n",
       "      <td>1.000000</td>\n",
       "      <td>0.314932</td>\n",
       "      <td>-0.298576</td>\n",
       "      <td>-0.448320</td>\n",
       "      <td>-0.363449</td>\n",
       "      <td>0.371578</td>\n",
       "      <td>0.078754</td>\n",
       "      <td>-0.762785</td>\n",
       "    </tr>\n",
       "    <tr>\n",
       "      <th>xg_z</th>\n",
       "      <td>0.353057</td>\n",
       "      <td>0.314932</td>\n",
       "      <td>1.000000</td>\n",
       "      <td>0.622845</td>\n",
       "      <td>0.469303</td>\n",
       "      <td>0.483223</td>\n",
       "      <td>-0.072629</td>\n",
       "      <td>0.499219</td>\n",
       "      <td>-0.289669</td>\n",
       "    </tr>\n",
       "    <tr>\n",
       "      <th>boxtouches_z</th>\n",
       "      <td>0.396761</td>\n",
       "      <td>-0.298576</td>\n",
       "      <td>0.622845</td>\n",
       "      <td>1.000000</td>\n",
       "      <td>0.633065</td>\n",
       "      <td>0.751078</td>\n",
       "      <td>-0.633811</td>\n",
       "      <td>0.457643</td>\n",
       "      <td>0.176230</td>\n",
       "    </tr>\n",
       "    <tr>\n",
       "      <th>progpasses_z</th>\n",
       "      <td>0.424772</td>\n",
       "      <td>-0.448320</td>\n",
       "      <td>0.469303</td>\n",
       "      <td>0.633065</td>\n",
       "      <td>1.000000</td>\n",
       "      <td>0.530904</td>\n",
       "      <td>-0.403293</td>\n",
       "      <td>0.454482</td>\n",
       "      <td>0.121157</td>\n",
       "    </tr>\n",
       "    <tr>\n",
       "      <th>progruns_z</th>\n",
       "      <td>0.376182</td>\n",
       "      <td>-0.363449</td>\n",
       "      <td>0.483223</td>\n",
       "      <td>0.751078</td>\n",
       "      <td>0.530904</td>\n",
       "      <td>1.000000</td>\n",
       "      <td>-0.115447</td>\n",
       "      <td>0.465538</td>\n",
       "      <td>0.009585</td>\n",
       "    </tr>\n",
       "    <tr>\n",
       "      <th>new_xg</th>\n",
       "      <td>-0.279985</td>\n",
       "      <td>0.371578</td>\n",
       "      <td>-0.072629</td>\n",
       "      <td>-0.633811</td>\n",
       "      <td>-0.403293</td>\n",
       "      <td>-0.115447</td>\n",
       "      <td>1.000000</td>\n",
       "      <td>0.008590</td>\n",
       "      <td>-0.479136</td>\n",
       "    </tr>\n",
       "    <tr>\n",
       "      <th>Fouled</th>\n",
       "      <td>-0.003637</td>\n",
       "      <td>0.078754</td>\n",
       "      <td>0.499219</td>\n",
       "      <td>0.457643</td>\n",
       "      <td>0.454482</td>\n",
       "      <td>0.465538</td>\n",
       "      <td>0.008590</td>\n",
       "      <td>1.000000</td>\n",
       "      <td>-0.185871</td>\n",
       "    </tr>\n",
       "    <tr>\n",
       "      <th>results</th>\n",
       "      <td>0.498293</td>\n",
       "      <td>-0.762785</td>\n",
       "      <td>-0.289669</td>\n",
       "      <td>0.176230</td>\n",
       "      <td>0.121157</td>\n",
       "      <td>0.009585</td>\n",
       "      <td>-0.479136</td>\n",
       "      <td>-0.185871</td>\n",
       "      <td>1.000000</td>\n",
       "    </tr>\n",
       "  </tbody>\n",
       "</table>\n",
       "</div>"
      ],
      "text/plain": [
       "                  Year   goals_z      xg_z  boxtouches_z  progpasses_z  \\\n",
       "Year          1.000000 -0.386209  0.353057      0.396761      0.424772   \n",
       "goals_z      -0.386209  1.000000  0.314932     -0.298576     -0.448320   \n",
       "xg_z          0.353057  0.314932  1.000000      0.622845      0.469303   \n",
       "boxtouches_z  0.396761 -0.298576  0.622845      1.000000      0.633065   \n",
       "progpasses_z  0.424772 -0.448320  0.469303      0.633065      1.000000   \n",
       "progruns_z    0.376182 -0.363449  0.483223      0.751078      0.530904   \n",
       "new_xg       -0.279985  0.371578 -0.072629     -0.633811     -0.403293   \n",
       "Fouled       -0.003637  0.078754  0.499219      0.457643      0.454482   \n",
       "results       0.498293 -0.762785 -0.289669      0.176230      0.121157   \n",
       "\n",
       "              progruns_z    new_xg    Fouled   results  \n",
       "Year            0.376182 -0.279985 -0.003637  0.498293  \n",
       "goals_z        -0.363449  0.371578  0.078754 -0.762785  \n",
       "xg_z            0.483223 -0.072629  0.499219 -0.289669  \n",
       "boxtouches_z    0.751078 -0.633811  0.457643  0.176230  \n",
       "progpasses_z    0.530904 -0.403293  0.454482  0.121157  \n",
       "progruns_z      1.000000 -0.115447  0.465538  0.009585  \n",
       "new_xg         -0.115447  1.000000  0.008590 -0.479136  \n",
       "Fouled          0.465538  0.008590  1.000000 -0.185871  \n",
       "results         0.009585 -0.479136 -0.185871  1.000000  "
      ]
     },
     "execution_count": 164,
     "metadata": {},
     "output_type": "execute_result"
    }
   ],
   "source": [
    "stats_df.corr()"
   ]
  },
  {
   "cell_type": "markdown",
   "metadata": {},
   "source": [
    "## 2014"
   ]
  },
  {
   "cell_type": "code",
   "execution_count": 165,
   "metadata": {},
   "outputs": [],
   "source": [
    "port2014year = port_year.loc[port_year[\"season\"].isin(year2014)]"
   ]
  },
  {
   "cell_type": "code",
   "execution_count": 166,
   "metadata": {},
   "outputs": [],
   "source": [
    "port2014xg = port2014year.sort_values(by=[\"xg_z\"], ascending=False)"
   ]
  },
  {
   "cell_type": "code",
   "execution_count": 167,
   "metadata": {},
   "outputs": [],
   "source": [
    "port2014xg13 = port2014xg.head(13)"
   ]
  },
  {
   "cell_type": "code",
   "execution_count": 168,
   "metadata": {},
   "outputs": [],
   "source": [
    "port2014xg13 = port2014xg13.drop(columns=['season', 'team'])\n"
   ]
  },
  {
   "cell_type": "code",
   "execution_count": 169,
   "metadata": {},
   "outputs": [],
   "source": [
    "port2014 = port2014xg13.mean()"
   ]
  },
  {
   "cell_type": "code",
   "execution_count": 170,
   "metadata": {},
   "outputs": [
    {
     "data": {
      "text/plain": [
       "goals_z         0.075385\n",
       "xg_z            0.529231\n",
       "boxtouches_z    0.245385\n",
       "progpasses_z    0.480769\n",
       "progruns_z      0.350769\n",
       "fouls_z         0.185385\n",
       "fouled_z        0.036154\n",
       "nsxg_z          0.301538\n",
       "dtype: float64"
      ]
     },
     "execution_count": 170,
     "metadata": {},
     "output_type": "execute_result"
    }
   ],
   "source": [
    "port2014"
   ]
  },
  {
   "cell_type": "code",
   "execution_count": 171,
   "metadata": {},
   "outputs": [
    {
     "data": {
      "text/plain": [
       "11.020348875771043"
      ]
     },
     "execution_count": 171,
     "metadata": {},
     "output_type": "execute_result"
    }
   ],
   "source": [
    "(.529231 + .301538) / .075385\n"
   ]
  },
  {
   "cell_type": "markdown",
   "metadata": {},
   "source": [
    "### Fouled"
   ]
  },
  {
   "cell_type": "code",
   "execution_count": 172,
   "metadata": {},
   "outputs": [
    {
     "data": {
      "text/plain": [
       "-0.149231"
      ]
     },
     "execution_count": 172,
     "metadata": {},
     "output_type": "execute_result"
    }
   ],
   "source": [
    ".036154 - .185385"
   ]
  },
  {
   "cell_type": "code",
   "execution_count": 173,
   "metadata": {},
   "outputs": [],
   "source": [
    "new_row = {'Country': 'Portugal', 'Year': 2014, 'goals_z': 0.075385, 'xg_z': 0.529231, \n",
    "           'boxtouches_z': 0.245385, 'progpasses_z': 0.480769, 'progruns_z': 0.350769, \n",
    "           'new_xg': 11.02034, 'Fouled': -0.149231, 'results': 32}\n",
    "\n",
    "stats_df = stats_df.append(new_row, ignore_index=True)"
   ]
  },
  {
   "cell_type": "markdown",
   "metadata": {},
   "source": [
    "## 2018"
   ]
  },
  {
   "cell_type": "code",
   "execution_count": 174,
   "metadata": {},
   "outputs": [],
   "source": [
    "port2018year = port_year.loc[port_year[\"season\"].isin(year2018)]"
   ]
  },
  {
   "cell_type": "code",
   "execution_count": 175,
   "metadata": {},
   "outputs": [],
   "source": [
    "port2018xg = port2018year.sort_values(by=[\"xg_z\"], ascending=False)"
   ]
  },
  {
   "cell_type": "code",
   "execution_count": 176,
   "metadata": {},
   "outputs": [],
   "source": [
    "port2018xg13 = port2018xg.head(13)"
   ]
  },
  {
   "cell_type": "code",
   "execution_count": 177,
   "metadata": {},
   "outputs": [],
   "source": [
    "port2018xg13 = port2018xg13.drop(columns=['season', 'team'])\n"
   ]
  },
  {
   "cell_type": "code",
   "execution_count": 178,
   "metadata": {},
   "outputs": [],
   "source": [
    "port2018 = port2018xg13.mean()"
   ]
  },
  {
   "cell_type": "code",
   "execution_count": 179,
   "metadata": {},
   "outputs": [
    {
     "data": {
      "text/plain": [
       "goals_z         0.373846\n",
       "xg_z            0.166154\n",
       "boxtouches_z    0.044615\n",
       "progpasses_z   -0.044615\n",
       "progruns_z      0.212308\n",
       "fouls_z         0.183846\n",
       "fouled_z        0.386154\n",
       "nsxg_z          0.120000\n",
       "dtype: float64"
      ]
     },
     "execution_count": 179,
     "metadata": {},
     "output_type": "execute_result"
    }
   ],
   "source": [
    "port2018"
   ]
  },
  {
   "cell_type": "code",
   "execution_count": 180,
   "metadata": {},
   "outputs": [
    {
     "data": {
      "text/plain": [
       "0.12345725245154422"
      ]
     },
     "execution_count": 180,
     "metadata": {},
     "output_type": "execute_result"
    }
   ],
   "source": [
    "(.166154 - .120000) / .373846"
   ]
  },
  {
   "cell_type": "markdown",
   "metadata": {},
   "source": [
    "### Fouled"
   ]
  },
  {
   "cell_type": "code",
   "execution_count": 181,
   "metadata": {},
   "outputs": [
    {
     "data": {
      "text/plain": [
       "0.202308"
      ]
     },
     "execution_count": 181,
     "metadata": {},
     "output_type": "execute_result"
    }
   ],
   "source": [
    ".386154 - .183846"
   ]
  },
  {
   "cell_type": "code",
   "execution_count": 182,
   "metadata": {},
   "outputs": [],
   "source": [
    "new_row = {'Country': 'Portugal', 'Year': 2018, 'goals_z': 0.373846, 'xg_z': 0.166154, \n",
    "           'boxtouches_z': 0.044615, 'progpasses_z': -0.044615, 'progruns_z': 0.212308, \n",
    "           'new_xg': 0.123457, 'Fouled': 0.202308, 'results': 16}\n",
    "\n",
    "stats_df = stats_df.append(new_row, ignore_index=True)"
   ]
  },
  {
   "cell_type": "markdown",
   "metadata": {},
   "source": [
    "# Netherlands"
   ]
  },
  {
   "cell_type": "code",
   "execution_count": 183,
   "metadata": {},
   "outputs": [],
   "source": [
    "ned = ['Netherlands']"
   ]
  },
  {
   "cell_type": "code",
   "execution_count": 184,
   "metadata": {},
   "outputs": [],
   "source": [
    "ned_year = comparisons.loc[comparisons[\"team\"].isin(ned)]"
   ]
  },
  {
   "cell_type": "code",
   "execution_count": 185,
   "metadata": {},
   "outputs": [],
   "source": [
    "ned2010year = ned_year.loc[ned_year[\"season\"].isin(year2010)]"
   ]
  },
  {
   "cell_type": "code",
   "execution_count": 186,
   "metadata": {},
   "outputs": [],
   "source": [
    "ned2010xg = ned2010year.sort_values(by=[\"xg_z\"], ascending=False)"
   ]
  },
  {
   "cell_type": "code",
   "execution_count": 187,
   "metadata": {},
   "outputs": [],
   "source": [
    "ned2010xg13 = ned2010xg.head(13)"
   ]
  },
  {
   "cell_type": "code",
   "execution_count": 188,
   "metadata": {},
   "outputs": [],
   "source": [
    "ned2010xg13 = ned2010xg13.drop(columns=['season', 'team'])\n"
   ]
  },
  {
   "cell_type": "code",
   "execution_count": 189,
   "metadata": {},
   "outputs": [],
   "source": [
    "ned2010 = ned2010xg13.mean()"
   ]
  },
  {
   "cell_type": "code",
   "execution_count": 190,
   "metadata": {},
   "outputs": [
    {
     "data": {
      "text/plain": [
       "goals_z         0.396923\n",
       "xg_z            0.126923\n",
       "boxtouches_z    0.162308\n",
       "progpasses_z    0.073077\n",
       "progruns_z      0.135385\n",
       "fouls_z         0.368462\n",
       "fouled_z        0.439231\n",
       "nsxg_z          0.127692\n",
       "dtype: float64"
      ]
     },
     "execution_count": 190,
     "metadata": {},
     "output_type": "execute_result"
    }
   ],
   "source": [
    "ned2010"
   ]
  },
  {
   "cell_type": "code",
   "execution_count": 191,
   "metadata": {},
   "outputs": [
    {
     "data": {
      "text/plain": [
       "0.6414720235410899"
      ]
     },
     "execution_count": 191,
     "metadata": {},
     "output_type": "execute_result"
    }
   ],
   "source": [
    "(.126923 + .127692) / .396923"
   ]
  },
  {
   "cell_type": "markdown",
   "metadata": {},
   "source": [
    "### Fouled"
   ]
  },
  {
   "cell_type": "code",
   "execution_count": 192,
   "metadata": {},
   "outputs": [
    {
     "data": {
      "text/plain": [
       "0.07076899999999997"
      ]
     },
     "execution_count": 192,
     "metadata": {},
     "output_type": "execute_result"
    }
   ],
   "source": [
    ".439231 - .368462"
   ]
  },
  {
   "cell_type": "code",
   "execution_count": 193,
   "metadata": {},
   "outputs": [],
   "source": [
    "new_row = {'Country': 'Netherlands', 'Year': 2010, 'goals_z': 0.396923, 'xg_z': 0.126923, \n",
    "           'boxtouches_z': 0.162308, 'progpasses_z': 0.073077, 'progruns_z': 0.135385, \n",
    "           'new_xg': 0.64147, 'Fouled': 0.0707, 'results': 2}\n",
    "\n",
    "stats_df = stats_df.append(new_row, ignore_index=True)"
   ]
  },
  {
   "cell_type": "markdown",
   "metadata": {},
   "source": [
    "## 2014"
   ]
  },
  {
   "cell_type": "code",
   "execution_count": 194,
   "metadata": {},
   "outputs": [],
   "source": [
    "ned2014year = ned_year.loc[ned_year[\"season\"].isin(year2014)]"
   ]
  },
  {
   "cell_type": "code",
   "execution_count": 195,
   "metadata": {},
   "outputs": [],
   "source": [
    "ned2014xg = ned2014year.sort_values(by=[\"xg_z\"], ascending=False)"
   ]
  },
  {
   "cell_type": "code",
   "execution_count": 196,
   "metadata": {},
   "outputs": [],
   "source": [
    "ned2014xg13 = ned2014xg.head(13)\n"
   ]
  },
  {
   "cell_type": "code",
   "execution_count": 197,
   "metadata": {},
   "outputs": [],
   "source": [
    "ned2014xg13 = ned2014xg13.drop(columns=['season', 'team'])\n"
   ]
  },
  {
   "cell_type": "code",
   "execution_count": 198,
   "metadata": {},
   "outputs": [],
   "source": [
    "ned2014 = ned2014xg13.mean()\n"
   ]
  },
  {
   "cell_type": "code",
   "execution_count": 199,
   "metadata": {},
   "outputs": [
    {
     "data": {
      "text/plain": [
       "goals_z         0.493846\n",
       "xg_z            0.406923\n",
       "boxtouches_z    0.096923\n",
       "progpasses_z   -0.169231\n",
       "progruns_z      0.098462\n",
       "fouls_z         0.289231\n",
       "fouled_z       -0.020000\n",
       "nsxg_z          0.103846\n",
       "dtype: float64"
      ]
     },
     "execution_count": 199,
     "metadata": {},
     "output_type": "execute_result"
    }
   ],
   "source": [
    "ned2014"
   ]
  },
  {
   "cell_type": "code",
   "execution_count": 200,
   "metadata": {},
   "outputs": [
    {
     "data": {
      "text/plain": [
       "1.0342677676846628"
      ]
     },
     "execution_count": 200,
     "metadata": {},
     "output_type": "execute_result"
    }
   ],
   "source": [
    "(.406923 + .103846) / .493846\n"
   ]
  },
  {
   "cell_type": "markdown",
   "metadata": {},
   "source": [
    "### Fouled"
   ]
  },
  {
   "cell_type": "code",
   "execution_count": 201,
   "metadata": {},
   "outputs": [
    {
     "data": {
      "text/plain": [
       "-0.30923100000000003"
      ]
     },
     "execution_count": 201,
     "metadata": {},
     "output_type": "execute_result"
    }
   ],
   "source": [
    "-0.020000 - .289231"
   ]
  },
  {
   "cell_type": "code",
   "execution_count": 202,
   "metadata": {},
   "outputs": [],
   "source": [
    "new_row = {'Country': 'Netherlands', 'Year': 2014, 'goals_z': 0.493846, 'xg_z': 0.406923, \n",
    "           'boxtouches_z': 0.096923, 'progpasses_z': -0.169231, 'progruns_z': 0.098462, \n",
    "           'new_xg': 1.0342677, 'Fouled': -0.309231, 'results': 3}\n",
    "stats_df = stats_df.append(new_row, ignore_index=True)"
   ]
  },
  {
   "cell_type": "markdown",
   "metadata": {},
   "source": [
    "## 2018 - NA"
   ]
  },
  {
   "cell_type": "markdown",
   "metadata": {},
   "source": [
    "# Brazil"
   ]
  },
  {
   "cell_type": "code",
   "execution_count": 203,
   "metadata": {},
   "outputs": [],
   "source": [
    "bra = ['Brazil']"
   ]
  },
  {
   "cell_type": "code",
   "execution_count": 204,
   "metadata": {},
   "outputs": [],
   "source": [
    "bra_year = comparisons.loc[comparisons[\"team\"].isin(bra)]"
   ]
  },
  {
   "cell_type": "code",
   "execution_count": 205,
   "metadata": {},
   "outputs": [],
   "source": [
    "bra2010year = bra_year.loc[bra_year[\"season\"].isin(year2010)]"
   ]
  },
  {
   "cell_type": "code",
   "execution_count": 206,
   "metadata": {},
   "outputs": [],
   "source": [
    "bra2010xg = bra2010year.sort_values(by=[\"xg_z\"], ascending=False)"
   ]
  },
  {
   "cell_type": "code",
   "execution_count": 207,
   "metadata": {},
   "outputs": [],
   "source": [
    "bra2010xg13 = bra2010xg.head(13)"
   ]
  },
  {
   "cell_type": "code",
   "execution_count": 208,
   "metadata": {},
   "outputs": [],
   "source": [
    "bra2010xg13 = bra2010xg13.drop(columns=['season', 'team'])\n"
   ]
  },
  {
   "cell_type": "code",
   "execution_count": 209,
   "metadata": {},
   "outputs": [],
   "source": [
    "bra2010 = bra2010xg13.mean()"
   ]
  },
  {
   "cell_type": "code",
   "execution_count": 210,
   "metadata": {},
   "outputs": [
    {
     "data": {
      "text/plain": [
       "goals_z         0.557692\n",
       "xg_z            0.186923\n",
       "boxtouches_z    0.398462\n",
       "progpasses_z    0.247692\n",
       "progruns_z      0.937692\n",
       "fouls_z         0.248462\n",
       "fouled_z        0.331538\n",
       "nsxg_z          0.535385\n",
       "dtype: float64"
      ]
     },
     "execution_count": 210,
     "metadata": {},
     "output_type": "execute_result"
    }
   ],
   "source": [
    "bra2010"
   ]
  },
  {
   "cell_type": "code",
   "execution_count": 211,
   "metadata": {},
   "outputs": [
    {
     "data": {
      "text/plain": [
       "1.2951736800958236"
      ]
     },
     "execution_count": 211,
     "metadata": {},
     "output_type": "execute_result"
    }
   ],
   "source": [
    "(.186923 + .535385) / .557692"
   ]
  },
  {
   "cell_type": "markdown",
   "metadata": {},
   "source": [
    "### Fouled"
   ]
  },
  {
   "cell_type": "code",
   "execution_count": 212,
   "metadata": {},
   "outputs": [
    {
     "data": {
      "text/plain": [
       "0.08307600000000001"
      ]
     },
     "execution_count": 212,
     "metadata": {},
     "output_type": "execute_result"
    }
   ],
   "source": [
    ".331538 - .248462"
   ]
  },
  {
   "cell_type": "code",
   "execution_count": 213,
   "metadata": {},
   "outputs": [],
   "source": [
    "new_row = {'Country': 'Brazil', 'Year': 2010, 'goals_z': 0.557692,'xg_z': 0.186923, \n",
    "           'boxtouches_z': 0.398462, \"progpasses_z\": 0.247692, 'progruns_z': 0.937692, \n",
    "           'new_xg': 1.29517, 'Fouled': 0.08307, 'results': 8}\n",
    "\n",
    "stats_df = stats_df.append(new_row, ignore_index=True)"
   ]
  },
  {
   "cell_type": "markdown",
   "metadata": {},
   "source": [
    "## 2014"
   ]
  },
  {
   "cell_type": "code",
   "execution_count": 214,
   "metadata": {},
   "outputs": [],
   "source": [
    "bra2014year = bra_year.loc[bra_year[\"season\"].isin(year2014)]\n"
   ]
  },
  {
   "cell_type": "code",
   "execution_count": 215,
   "metadata": {},
   "outputs": [],
   "source": [
    "bra2014xg = bra2014year.sort_values(by=[\"xg_z\"], ascending=False)\n"
   ]
  },
  {
   "cell_type": "code",
   "execution_count": 216,
   "metadata": {},
   "outputs": [],
   "source": [
    "bra2014xg13 = bra2014xg.head(13)\n"
   ]
  },
  {
   "cell_type": "code",
   "execution_count": 217,
   "metadata": {},
   "outputs": [],
   "source": [
    "bra2014xg13 = bra2014xg13.drop(columns=['season', 'team'])\n"
   ]
  },
  {
   "cell_type": "code",
   "execution_count": 218,
   "metadata": {},
   "outputs": [],
   "source": [
    "bra2014 = bra2014xg13.mean()\n"
   ]
  },
  {
   "cell_type": "code",
   "execution_count": 219,
   "metadata": {},
   "outputs": [
    {
     "data": {
      "text/plain": [
       "goals_z         0.328462\n",
       "xg_z            0.376154\n",
       "boxtouches_z    0.475385\n",
       "progpasses_z   -0.193077\n",
       "progruns_z      0.408462\n",
       "fouls_z         0.443846\n",
       "fouled_z        0.551538\n",
       "nsxg_z          0.291538\n",
       "dtype: float64"
      ]
     },
     "execution_count": 219,
     "metadata": {},
     "output_type": "execute_result"
    }
   ],
   "source": [
    "bra2014"
   ]
  },
  {
   "cell_type": "code",
   "execution_count": 220,
   "metadata": {},
   "outputs": [
    {
     "data": {
      "text/plain": [
       "2.032783092108067"
      ]
     },
     "execution_count": 220,
     "metadata": {},
     "output_type": "execute_result"
    }
   ],
   "source": [
    "(.376154 + .291538) / .328462\n"
   ]
  },
  {
   "cell_type": "markdown",
   "metadata": {},
   "source": [
    "### Fouled"
   ]
  },
  {
   "cell_type": "code",
   "execution_count": 221,
   "metadata": {},
   "outputs": [
    {
     "data": {
      "text/plain": [
       "0.10769199999999995"
      ]
     },
     "execution_count": 221,
     "metadata": {},
     "output_type": "execute_result"
    }
   ],
   "source": [
    ".551538 - .443846"
   ]
  },
  {
   "cell_type": "code",
   "execution_count": 222,
   "metadata": {},
   "outputs": [],
   "source": [
    "new_row = {'Country': 'Brazil', 'Year': 2014, 'goals_z':0.328462, 'xg_z': 0.376154, \n",
    "           'boxtouches_z':0.475385, 'progpasses_z':-0.193077, 'progruns_z':0.408462, \n",
    "           'new_xg': 2.03278, 'Fouled': 0.107691, 'results': 4}\n",
    "stats_df = stats_df.append(new_row, ignore_index=True)"
   ]
  },
  {
   "cell_type": "markdown",
   "metadata": {},
   "source": [
    "## 2018\n"
   ]
  },
  {
   "cell_type": "code",
   "execution_count": 223,
   "metadata": {},
   "outputs": [],
   "source": [
    "bra2018year = bra_year.loc[bra_year[\"season\"].isin(year2018)]\n"
   ]
  },
  {
   "cell_type": "code",
   "execution_count": 224,
   "metadata": {},
   "outputs": [],
   "source": [
    "bra2018xg = bra2018year.sort_values(by=[\"xg_z\"], ascending=False)\n"
   ]
  },
  {
   "cell_type": "code",
   "execution_count": 225,
   "metadata": {},
   "outputs": [],
   "source": [
    "bra2018xg13 = bra2018xg.head(13)\n"
   ]
  },
  {
   "cell_type": "code",
   "execution_count": 226,
   "metadata": {},
   "outputs": [],
   "source": [
    "bra2018xg13 = bra2018xg13.drop(columns=['season', 'team'])\n"
   ]
  },
  {
   "cell_type": "code",
   "execution_count": 227,
   "metadata": {},
   "outputs": [],
   "source": [
    "bra2018 = bra2018xg13.mean()\n"
   ]
  },
  {
   "cell_type": "code",
   "execution_count": 228,
   "metadata": {},
   "outputs": [
    {
     "data": {
      "text/plain": [
       "goals_z         0.427692\n",
       "xg_z            0.864615\n",
       "boxtouches_z    1.153077\n",
       "progpasses_z   -0.015385\n",
       "progruns_z      1.092308\n",
       "fouls_z        -0.186923\n",
       "fouled_z        0.419231\n",
       "nsxg_z          1.027692\n",
       "dtype: float64"
      ]
     },
     "execution_count": 228,
     "metadata": {},
     "output_type": "execute_result"
    }
   ],
   "source": [
    "bra2018"
   ]
  },
  {
   "cell_type": "code",
   "execution_count": 229,
   "metadata": {},
   "outputs": [
    {
     "data": {
      "text/plain": [
       "4.4244619960158245"
      ]
     },
     "execution_count": 229,
     "metadata": {},
     "output_type": "execute_result"
    }
   ],
   "source": [
    "(.864615 + 1.027692) / .427692\n"
   ]
  },
  {
   "cell_type": "markdown",
   "metadata": {},
   "source": [
    "### Fouled"
   ]
  },
  {
   "cell_type": "code",
   "execution_count": 230,
   "metadata": {},
   "outputs": [
    {
     "data": {
      "text/plain": [
       "0.6061540000000001"
      ]
     },
     "execution_count": 230,
     "metadata": {},
     "output_type": "execute_result"
    }
   ],
   "source": [
    ".419231 - -0.186923"
   ]
  },
  {
   "cell_type": "code",
   "execution_count": 231,
   "metadata": {},
   "outputs": [],
   "source": [
    "new_row = {'Country': 'Brazil', 'Year': 2018, 'goals_z':0.427692, 'xg_z':0.864615, \n",
    "           'boxtouches_z':1.153077, 'progpasses_z':-0.015385, 'progruns_z':1.092308, \n",
    "           'new_xg': 4.42446, 'Fouled': 0.606154, 'results': 8}\n",
    "stats_df = stats_df.append(new_row, ignore_index=True)"
   ]
  },
  {
   "cell_type": "markdown",
   "metadata": {},
   "source": [
    "## 2006"
   ]
  },
  {
   "cell_type": "code",
   "execution_count": 757,
   "metadata": {},
   "outputs": [],
   "source": [
    "bra2006year = bra_year.loc[bra_year[\"season\"].isin(year2006)]\n"
   ]
  },
  {
   "cell_type": "code",
   "execution_count": 758,
   "metadata": {},
   "outputs": [],
   "source": [
    "bra2006xg = bra2006year.sort_values(by=[\"xg_z\"], ascending=False)\n"
   ]
  },
  {
   "cell_type": "code",
   "execution_count": 759,
   "metadata": {},
   "outputs": [],
   "source": [
    "bra2006xg13 = bra2006xg.head(13)\n"
   ]
  },
  {
   "cell_type": "code",
   "execution_count": 760,
   "metadata": {},
   "outputs": [],
   "source": [
    "bra2006xg13 = bra2006xg13.drop(columns=['season', 'team'])\n"
   ]
  },
  {
   "cell_type": "code",
   "execution_count": 761,
   "metadata": {},
   "outputs": [],
   "source": [
    "bra2006 = bra2006xg13.mean()\n"
   ]
  },
  {
   "cell_type": "code",
   "execution_count": 762,
   "metadata": {},
   "outputs": [
    {
     "data": {
      "text/plain": [
       "goals_z         0.619231\n",
       "xg_z            0.383846\n",
       "boxtouches_z    0.277692\n",
       "progpasses_z    0.052308\n",
       "progruns_z      0.713077\n",
       "fouls_z        -0.013077\n",
       "fouled_z        0.286154\n",
       "nsxg_z          0.434615\n",
       "dtype: float64"
      ]
     },
     "execution_count": 762,
     "metadata": {},
     "output_type": "execute_result"
    }
   ],
   "source": [
    "bra2006"
   ]
  },
  {
   "cell_type": "code",
   "execution_count": 763,
   "metadata": {},
   "outputs": [
    {
     "data": {
      "text/plain": [
       "1.321737768296484"
      ]
     },
     "execution_count": 763,
     "metadata": {},
     "output_type": "execute_result"
    }
   ],
   "source": [
    "(.383846 + .434615) / .619231\n"
   ]
  },
  {
   "cell_type": "markdown",
   "metadata": {},
   "source": [
    "### Fouled"
   ]
  },
  {
   "cell_type": "code",
   "execution_count": 764,
   "metadata": {},
   "outputs": [
    {
     "data": {
      "text/plain": [
       "0.299231"
      ]
     },
     "execution_count": 764,
     "metadata": {},
     "output_type": "execute_result"
    }
   ],
   "source": [
    ".286154 - -0.013077"
   ]
  },
  {
   "cell_type": "code",
   "execution_count": 765,
   "metadata": {},
   "outputs": [],
   "source": [
    "new_row = {'Country': 'Brazil', 'Year': 2006, 'goals_z':0.619231, 'xg_z':0.383846, \n",
    "           'boxtouches_z':0.277692, 'progpasses_z':0.052308, 'progruns_z':0.713077, \n",
    "           'new_xg': 1.32173, 'Fouled': 0.299231, 'results': 8}\n",
    "stats_df = stats_df.append(new_row, ignore_index=True)"
   ]
  },
  {
   "cell_type": "markdown",
   "metadata": {},
   "source": [
    "## 2002"
   ]
  },
  {
   "cell_type": "code",
   "execution_count": 766,
   "metadata": {},
   "outputs": [],
   "source": [
    "bra2002year = bra_year.loc[bra_year[\"season\"].isin(year2002)]\n"
   ]
  },
  {
   "cell_type": "code",
   "execution_count": 767,
   "metadata": {},
   "outputs": [],
   "source": [
    "bra2002xg = bra2002year.sort_values(by=[\"xg_z\"], ascending=False)\n"
   ]
  },
  {
   "cell_type": "code",
   "execution_count": 768,
   "metadata": {},
   "outputs": [],
   "source": [
    "bra2002xg13 = bra2002xg.head(13)\n"
   ]
  },
  {
   "cell_type": "code",
   "execution_count": 769,
   "metadata": {},
   "outputs": [],
   "source": [
    "bra2002xg13 = bra2002xg13.drop(columns=['season', 'team'])\n"
   ]
  },
  {
   "cell_type": "code",
   "execution_count": 770,
   "metadata": {},
   "outputs": [],
   "source": [
    "bra2002 = bra2002xg13.mean()\n"
   ]
  },
  {
   "cell_type": "code",
   "execution_count": 771,
   "metadata": {},
   "outputs": [
    {
     "data": {
      "text/plain": [
       "goals_z         0.843846\n",
       "xg_z            0.712308\n",
       "boxtouches_z    0.245385\n",
       "progpasses_z   -0.181538\n",
       "progruns_z      0.834615\n",
       "fouls_z        -0.134615\n",
       "fouled_z        0.100769\n",
       "nsxg_z          0.306154\n",
       "dtype: float64"
      ]
     },
     "execution_count": 771,
     "metadata": {},
     "output_type": "execute_result"
    }
   ],
   "source": [
    "bra2002"
   ]
  },
  {
   "cell_type": "code",
   "execution_count": 772,
   "metadata": {},
   "outputs": [
    {
     "data": {
      "text/plain": [
       "1.2069287524026895"
      ]
     },
     "execution_count": 772,
     "metadata": {},
     "output_type": "execute_result"
    }
   ],
   "source": [
    "(.712308 + .306154) / .843846\n"
   ]
  },
  {
   "cell_type": "markdown",
   "metadata": {},
   "source": [
    "### Fouled"
   ]
  },
  {
   "cell_type": "code",
   "execution_count": 773,
   "metadata": {},
   "outputs": [
    {
     "data": {
      "text/plain": [
       "0.235384"
      ]
     },
     "execution_count": 773,
     "metadata": {},
     "output_type": "execute_result"
    }
   ],
   "source": [
    ".100769 - -0.134615"
   ]
  },
  {
   "cell_type": "code",
   "execution_count": 774,
   "metadata": {},
   "outputs": [],
   "source": [
    "new_row = {'Country': 'Brazil', 'Year': 2002, 'goals_z':0.843846, 'xg_z':0.712308, \n",
    "           'boxtouches_z':0.245385, 'progpasses_z':-0.181538, 'progruns_z':0.834615, \n",
    "           'new_xg': 1.206928, 'Fouled': 0.235384, 'results': 1}\n",
    "stats_df = stats_df.append(new_row, ignore_index=True)"
   ]
  },
  {
   "cell_type": "markdown",
   "metadata": {},
   "source": [
    "# Belgium"
   ]
  },
  {
   "cell_type": "markdown",
   "metadata": {},
   "source": [
    "## 2010 NA"
   ]
  },
  {
   "cell_type": "markdown",
   "metadata": {},
   "source": [
    "need to go back and add 2010 bel_year"
   ]
  },
  {
   "cell_type": "markdown",
   "metadata": {},
   "source": [
    "## 2014"
   ]
  },
  {
   "cell_type": "code",
   "execution_count": 232,
   "metadata": {},
   "outputs": [],
   "source": [
    "bel = ['Belgium']"
   ]
  },
  {
   "cell_type": "code",
   "execution_count": 233,
   "metadata": {},
   "outputs": [],
   "source": [
    "bel_year = comparisons.loc[comparisons[\"team\"].isin(bel)]"
   ]
  },
  {
   "cell_type": "code",
   "execution_count": 234,
   "metadata": {},
   "outputs": [],
   "source": [
    "bel2014year = bel_year.loc[bel_year[\"season\"].isin(year2014)]\n"
   ]
  },
  {
   "cell_type": "code",
   "execution_count": 235,
   "metadata": {},
   "outputs": [],
   "source": [
    "bel2014xg = bel2014year.sort_values(by=[\"xg_z\"], ascending=False)\n"
   ]
  },
  {
   "cell_type": "code",
   "execution_count": 236,
   "metadata": {},
   "outputs": [],
   "source": [
    "bel2014xg13 = bel2014xg.head(13)\n"
   ]
  },
  {
   "cell_type": "code",
   "execution_count": 237,
   "metadata": {},
   "outputs": [],
   "source": [
    "bel2014xg13 = bel2014xg13.drop(columns=['season', 'team'])\n"
   ]
  },
  {
   "cell_type": "code",
   "execution_count": 238,
   "metadata": {},
   "outputs": [],
   "source": [
    "bel2014 = bel2014xg13.mean()\n"
   ]
  },
  {
   "cell_type": "code",
   "execution_count": 239,
   "metadata": {},
   "outputs": [
    {
     "data": {
      "text/plain": [
       "goals_z         0.137692\n",
       "xg_z            0.210000\n",
       "boxtouches_z    0.536154\n",
       "progpasses_z   -0.097692\n",
       "progruns_z      0.853846\n",
       "fouls_z         0.373077\n",
       "fouled_z       -0.080000\n",
       "nsxg_z          0.473077\n",
       "dtype: float64"
      ]
     },
     "execution_count": 239,
     "metadata": {},
     "output_type": "execute_result"
    }
   ],
   "source": [
    "bel2014"
   ]
  },
  {
   "cell_type": "code",
   "execution_count": 240,
   "metadata": {},
   "outputs": [
    {
     "data": {
      "text/plain": [
       "4.960905499230166"
      ]
     },
     "execution_count": 240,
     "metadata": {},
     "output_type": "execute_result"
    }
   ],
   "source": [
    "(.210000 + .473077) / .137692\n"
   ]
  },
  {
   "cell_type": "markdown",
   "metadata": {},
   "source": [
    "### Fouled"
   ]
  },
  {
   "cell_type": "code",
   "execution_count": 241,
   "metadata": {},
   "outputs": [
    {
     "data": {
      "text/plain": [
       "-0.453077"
      ]
     },
     "execution_count": 241,
     "metadata": {},
     "output_type": "execute_result"
    }
   ],
   "source": [
    "-0.080000 - 0.373077"
   ]
  },
  {
   "cell_type": "code",
   "execution_count": 242,
   "metadata": {},
   "outputs": [],
   "source": [
    "new_row = {'Country': 'Belgium', 'Year': 2014, 'goals_z': 0.137692, 'xg_z':0.210000, \n",
    "           'boxtouches_z':0.536154, 'progpasses_z':-0.097692, 'progruns_z':0.853846, \n",
    "           'new_xg': 4.96090, 'Fouled': -0.453077, 'results': 8}\n",
    "stats_df = stats_df.append(new_row, ignore_index=True)"
   ]
  },
  {
   "cell_type": "markdown",
   "metadata": {},
   "source": [
    "## 2018"
   ]
  },
  {
   "cell_type": "code",
   "execution_count": 243,
   "metadata": {},
   "outputs": [],
   "source": [
    "bel2018year = bel_year.loc[bel_year[\"season\"].isin(year2018)]\n"
   ]
  },
  {
   "cell_type": "code",
   "execution_count": 244,
   "metadata": {},
   "outputs": [],
   "source": [
    "bel2018xg = bel2018year.sort_values(by=[\"xg_z\"], ascending=False)\n"
   ]
  },
  {
   "cell_type": "code",
   "execution_count": 245,
   "metadata": {},
   "outputs": [],
   "source": [
    "bel2018xg13 = bel2018xg.head(13)\n"
   ]
  },
  {
   "cell_type": "code",
   "execution_count": 246,
   "metadata": {},
   "outputs": [],
   "source": [
    "bel2018xg13 = bel2018xg13.drop(columns=['season', 'team'])\n"
   ]
  },
  {
   "cell_type": "code",
   "execution_count": 247,
   "metadata": {},
   "outputs": [],
   "source": [
    "bel2018 = bel2018xg13.mean()\n"
   ]
  },
  {
   "cell_type": "code",
   "execution_count": 248,
   "metadata": {},
   "outputs": [
    {
     "data": {
      "text/plain": [
       "goals_z         0.566154\n",
       "xg_z            0.560769\n",
       "boxtouches_z    0.446923\n",
       "progpasses_z   -0.037692\n",
       "progruns_z      0.542308\n",
       "fouls_z         0.063077\n",
       "fouled_z       -0.043077\n",
       "nsxg_z          0.558462\n",
       "dtype: float64"
      ]
     },
     "execution_count": 248,
     "metadata": {},
     "output_type": "execute_result"
    }
   ],
   "source": [
    "bel2018"
   ]
  },
  {
   "cell_type": "code",
   "execution_count": 249,
   "metadata": {},
   "outputs": [
    {
     "data": {
      "text/plain": [
       "1.9769020443200966"
      ]
     },
     "execution_count": 249,
     "metadata": {},
     "output_type": "execute_result"
    }
   ],
   "source": [
    "(.560769 + .558462) / .566154\n"
   ]
  },
  {
   "cell_type": "markdown",
   "metadata": {},
   "source": [
    "### Fouled"
   ]
  },
  {
   "cell_type": "code",
   "execution_count": 250,
   "metadata": {},
   "outputs": [
    {
     "data": {
      "text/plain": [
       "-0.106154"
      ]
     },
     "execution_count": 250,
     "metadata": {},
     "output_type": "execute_result"
    }
   ],
   "source": [
    "-0.043077 - .063077"
   ]
  },
  {
   "cell_type": "code",
   "execution_count": 251,
   "metadata": {},
   "outputs": [],
   "source": [
    "new_row = {'Country': 'Belgium', 'Year': 2018, 'goals_z':0.566154,'xg_z':0.560769, \n",
    "           'boxtouches_z':0.446923, 'progpasses_z':-0.037692, 'progruns_z':0.542308,\n",
    "           'new_xg': 1.976902, 'Fouled': -0.106154, 'results': 3}\n",
    "stats_df = stats_df.append(new_row, ignore_index=True)"
   ]
  },
  {
   "cell_type": "markdown",
   "metadata": {},
   "source": [
    "# USA"
   ]
  },
  {
   "cell_type": "code",
   "execution_count": 252,
   "metadata": {},
   "outputs": [],
   "source": [
    "us = ['USA']"
   ]
  },
  {
   "cell_type": "code",
   "execution_count": 253,
   "metadata": {},
   "outputs": [],
   "source": [
    "us_year = comparisons.loc[comparisons[\"team\"].isin(us)]"
   ]
  },
  {
   "cell_type": "code",
   "execution_count": 254,
   "metadata": {},
   "outputs": [],
   "source": [
    "us2010year = us_year.loc[us_year[\"season\"].isin(year2010)]"
   ]
  },
  {
   "cell_type": "code",
   "execution_count": 255,
   "metadata": {},
   "outputs": [],
   "source": [
    "us2010xg = us2010year.sort_values(by=[\"xg_z\"], ascending=False)"
   ]
  },
  {
   "cell_type": "code",
   "execution_count": 256,
   "metadata": {},
   "outputs": [],
   "source": [
    "us2010xg13 = us2010xg.head(13)"
   ]
  },
  {
   "cell_type": "code",
   "execution_count": 257,
   "metadata": {},
   "outputs": [],
   "source": [
    "us2010xg13 = us2010xg13.drop(columns=['season', 'team'])\n"
   ]
  },
  {
   "cell_type": "code",
   "execution_count": 258,
   "metadata": {},
   "outputs": [],
   "source": [
    "us2010 = us2010xg13.mean()"
   ]
  },
  {
   "cell_type": "code",
   "execution_count": 259,
   "metadata": {},
   "outputs": [
    {
     "data": {
      "text/plain": [
       "goals_z         0.214615\n",
       "xg_z            0.523077\n",
       "boxtouches_z    0.277692\n",
       "progpasses_z   -0.245385\n",
       "progruns_z     -0.178462\n",
       "fouls_z        -0.122308\n",
       "fouled_z        0.119231\n",
       "nsxg_z          0.124615\n",
       "dtype: float64"
      ]
     },
     "execution_count": 259,
     "metadata": {},
     "output_type": "execute_result"
    }
   ],
   "source": [
    "us2010"
   ]
  },
  {
   "cell_type": "code",
   "execution_count": 260,
   "metadata": {},
   "outputs": [
    {
     "data": {
      "text/plain": [
       "3.017925121729609"
      ]
     },
     "execution_count": 260,
     "metadata": {},
     "output_type": "execute_result"
    }
   ],
   "source": [
    "(.523077 + .124615) / .214615"
   ]
  },
  {
   "cell_type": "markdown",
   "metadata": {},
   "source": [
    "### Fouled"
   ]
  },
  {
   "cell_type": "code",
   "execution_count": 261,
   "metadata": {},
   "outputs": [
    {
     "data": {
      "text/plain": [
       "0.241539"
      ]
     },
     "execution_count": 261,
     "metadata": {},
     "output_type": "execute_result"
    }
   ],
   "source": [
    ".119231 - -0.122308"
   ]
  },
  {
   "cell_type": "code",
   "execution_count": 262,
   "metadata": {},
   "outputs": [],
   "source": [
    "new_row = {'Country': 'USA', 'Year': 2010, 'goals_z': 0.214615, 'xg_z': 0.523077, \n",
    "           'boxtouches_z': 0.277692, 'progpasses_z': -0.245385, 'progruns_z': -0.178462, \n",
    "           'new_xg': 3.01792, 'Fouled': 0.2415, 'results': 16}\n",
    "\n",
    "stats_df = stats_df.append(new_row, ignore_index=True)"
   ]
  },
  {
   "cell_type": "markdown",
   "metadata": {},
   "source": [
    "## 2014"
   ]
  },
  {
   "cell_type": "code",
   "execution_count": 263,
   "metadata": {},
   "outputs": [],
   "source": [
    "us2014year = us_year.loc[us_year[\"season\"].isin(year2014)]"
   ]
  },
  {
   "cell_type": "code",
   "execution_count": 264,
   "metadata": {},
   "outputs": [],
   "source": [
    "us2014xg = us2014year.sort_values(by=[\"xg_z\"], ascending=False)"
   ]
  },
  {
   "cell_type": "code",
   "execution_count": 265,
   "metadata": {},
   "outputs": [],
   "source": [
    "us2014xg13 = us2014xg.head(13)\n"
   ]
  },
  {
   "cell_type": "code",
   "execution_count": 266,
   "metadata": {},
   "outputs": [],
   "source": [
    "us2014xg13 = us2014xg13.drop(columns=['season', 'team'])\n"
   ]
  },
  {
   "cell_type": "code",
   "execution_count": 267,
   "metadata": {},
   "outputs": [],
   "source": [
    "us2014 = us2014xg13.mean()\n"
   ]
  },
  {
   "cell_type": "code",
   "execution_count": 268,
   "metadata": {},
   "outputs": [
    {
     "data": {
      "text/plain": [
       "goals_z         0.036923\n",
       "xg_z            0.092308\n",
       "boxtouches_z   -0.040000\n",
       "progpasses_z   -0.003846\n",
       "progruns_z      0.168462\n",
       "fouls_z        -0.050000\n",
       "fouled_z        0.060769\n",
       "nsxg_z         -0.023846\n",
       "dtype: float64"
      ]
     },
     "execution_count": 268,
     "metadata": {},
     "output_type": "execute_result"
    }
   ],
   "source": [
    "us2014"
   ]
  },
  {
   "cell_type": "code",
   "execution_count": 269,
   "metadata": {},
   "outputs": [
    {
     "data": {
      "text/plain": [
       "1.8541830295479782"
      ]
     },
     "execution_count": 269,
     "metadata": {},
     "output_type": "execute_result"
    }
   ],
   "source": [
    "(.092308 + -0.023846) / .036923"
   ]
  },
  {
   "cell_type": "markdown",
   "metadata": {},
   "source": [
    "### Fouled"
   ]
  },
  {
   "cell_type": "code",
   "execution_count": 270,
   "metadata": {},
   "outputs": [
    {
     "data": {
      "text/plain": [
       "0.110769"
      ]
     },
     "execution_count": 270,
     "metadata": {},
     "output_type": "execute_result"
    }
   ],
   "source": [
    ".060769 - -0.050000"
   ]
  },
  {
   "cell_type": "code",
   "execution_count": 271,
   "metadata": {},
   "outputs": [],
   "source": [
    "new_row = {'Country': 'USA', 'Year': 2014, 'goals_z': 0.036923, 'xg_z': 0.092308, \n",
    "           'boxtouches_z': -0.040000, 'progpasses_z': -0.003846, 'progruns_z': 0.168462, \n",
    "           'new_xg': 1.8541830, 'Fouled': 0.110769, 'results': 16}\n",
    "\n",
    "stats_df = stats_df.append(new_row, ignore_index=True)"
   ]
  },
  {
   "cell_type": "markdown",
   "metadata": {},
   "source": [
    "## 2018 NA"
   ]
  },
  {
   "cell_type": "markdown",
   "metadata": {},
   "source": [
    "# England"
   ]
  },
  {
   "cell_type": "code",
   "execution_count": 272,
   "metadata": {},
   "outputs": [],
   "source": [
    "eng = ['England']"
   ]
  },
  {
   "cell_type": "code",
   "execution_count": 273,
   "metadata": {},
   "outputs": [],
   "source": [
    "eng_year = comparisons.loc[comparisons[\"team\"].isin(eng)]"
   ]
  },
  {
   "cell_type": "code",
   "execution_count": 274,
   "metadata": {},
   "outputs": [],
   "source": [
    "eng2010year = eng_year.loc[eng_year[\"season\"].isin(year2010)]"
   ]
  },
  {
   "cell_type": "code",
   "execution_count": 275,
   "metadata": {},
   "outputs": [],
   "source": [
    "eng2010xg = eng2010year.sort_values(by=[\"xg_z\"], ascending=False)"
   ]
  },
  {
   "cell_type": "code",
   "execution_count": 276,
   "metadata": {},
   "outputs": [],
   "source": [
    "eng2010xg13 = eng2010xg.head(13)"
   ]
  },
  {
   "cell_type": "code",
   "execution_count": 277,
   "metadata": {},
   "outputs": [],
   "source": [
    "eng2010xg13 = eng2010xg13.drop(columns=[ 'season', 'team'])\n"
   ]
  },
  {
   "cell_type": "code",
   "execution_count": 278,
   "metadata": {},
   "outputs": [],
   "source": [
    "eng2010 = eng2010xg13.mean()"
   ]
  },
  {
   "cell_type": "code",
   "execution_count": 279,
   "metadata": {},
   "outputs": [
    {
     "data": {
      "text/plain": [
       "goals_z        -0.000769\n",
       "xg_z            0.323077\n",
       "boxtouches_z    0.424615\n",
       "progpasses_z   -0.012308\n",
       "progruns_z      0.154615\n",
       "fouls_z        -0.091538\n",
       "fouled_z        0.042308\n",
       "nsxg_z          0.506154\n",
       "dtype: float64"
      ]
     },
     "execution_count": 279,
     "metadata": {},
     "output_type": "execute_result"
    }
   ],
   "source": [
    "eng2010"
   ]
  },
  {
   "cell_type": "code",
   "execution_count": 280,
   "metadata": {},
   "outputs": [
    {
     "data": {
      "text/plain": [
       "-1078.3237971391418"
      ]
     },
     "execution_count": 280,
     "metadata": {},
     "output_type": "execute_result"
    }
   ],
   "source": [
    "(0.323077 + .506154) / -0.000769"
   ]
  },
  {
   "cell_type": "markdown",
   "metadata": {},
   "source": [
    "### Fouled"
   ]
  },
  {
   "cell_type": "code",
   "execution_count": 281,
   "metadata": {},
   "outputs": [
    {
     "data": {
      "text/plain": [
       "0.133846"
      ]
     },
     "execution_count": 281,
     "metadata": {},
     "output_type": "execute_result"
    }
   ],
   "source": [
    ".042308 - -0.091538"
   ]
  },
  {
   "cell_type": "code",
   "execution_count": 282,
   "metadata": {},
   "outputs": [],
   "source": [
    "new_row = {'Country': 'England', 'Year': 2010, 'goals_z': -0.000769, 'xg_z': 0.323077, \n",
    "           'boxtouches_z': 0.424615, 'progpasses_z': -0.012308, 'progruns_z': 0.154615,  \n",
    "           'new_xg': -1078.32379, 'Fouled': 0.1338, 'results': 16}\n",
    "\n",
    "stats_df = stats_df.append(new_row, ignore_index=True)"
   ]
  },
  {
   "cell_type": "markdown",
   "metadata": {},
   "source": [
    "## 2014"
   ]
  },
  {
   "cell_type": "code",
   "execution_count": 283,
   "metadata": {},
   "outputs": [],
   "source": [
    "eng2014year = eng_year.loc[eng_year[\"season\"].isin(year2014)]"
   ]
  },
  {
   "cell_type": "code",
   "execution_count": 284,
   "metadata": {},
   "outputs": [],
   "source": [
    "eng2014xg = eng2014year.sort_values(by=[\"xg_z\"], ascending=False)"
   ]
  },
  {
   "cell_type": "code",
   "execution_count": 285,
   "metadata": {},
   "outputs": [],
   "source": [
    "eng2014xg13 = eng2014xg.head(13)\n"
   ]
  },
  {
   "cell_type": "code",
   "execution_count": 286,
   "metadata": {},
   "outputs": [],
   "source": [
    "eng2014xg13 = eng2014xg13.drop(columns=[ 'season', 'team'])\n"
   ]
  },
  {
   "cell_type": "code",
   "execution_count": 287,
   "metadata": {},
   "outputs": [],
   "source": [
    "eng2014 = eng2014xg13.mean()\n"
   ]
  },
  {
   "cell_type": "code",
   "execution_count": 288,
   "metadata": {},
   "outputs": [
    {
     "data": {
      "text/plain": [
       "goals_z        -0.093077\n",
       "xg_z            0.301538\n",
       "boxtouches_z    0.026154\n",
       "progpasses_z   -0.100769\n",
       "progruns_z      0.210769\n",
       "fouls_z        -0.283077\n",
       "fouled_z        0.134615\n",
       "nsxg_z          0.170769\n",
       "dtype: float64"
      ]
     },
     "execution_count": 288,
     "metadata": {},
     "output_type": "execute_result"
    }
   ],
   "source": [
    "eng2014"
   ]
  },
  {
   "cell_type": "code",
   "execution_count": 289,
   "metadata": {},
   "outputs": [
    {
     "data": {
      "text/plain": [
       "-5.074368533579724"
      ]
     },
     "execution_count": 289,
     "metadata": {},
     "output_type": "execute_result"
    }
   ],
   "source": [
    "(0.301538 + .170769) / -0.093077"
   ]
  },
  {
   "cell_type": "markdown",
   "metadata": {},
   "source": [
    "### Fouled\n"
   ]
  },
  {
   "cell_type": "code",
   "execution_count": 290,
   "metadata": {},
   "outputs": [
    {
     "data": {
      "text/plain": [
       "0.41769200000000006"
      ]
     },
     "execution_count": 290,
     "metadata": {},
     "output_type": "execute_result"
    }
   ],
   "source": [
    ".134615 - -0.283077"
   ]
  },
  {
   "cell_type": "code",
   "execution_count": 291,
   "metadata": {},
   "outputs": [],
   "source": [
    "new_row = {'Country': 'England', 'Year': 2014, 'goals_z': -0.093077, 'xg_z': 0.301538, \n",
    "           'boxtouches_z': 0.026154, 'progpasses_z': -0.100769, 'progruns_z': 0.210769, \n",
    "           'new_xg': -5.0743685, 'Fouled': 0.417692, 'results': 32}\n",
    "\n",
    "stats_df = stats_df.append(new_row, ignore_index=True)"
   ]
  },
  {
   "cell_type": "markdown",
   "metadata": {},
   "source": [
    "## 2018"
   ]
  },
  {
   "cell_type": "code",
   "execution_count": 292,
   "metadata": {},
   "outputs": [],
   "source": [
    "eng2018year = eng_year.loc[eng_year[\"season\"].isin(year2018)]"
   ]
  },
  {
   "cell_type": "code",
   "execution_count": 293,
   "metadata": {},
   "outputs": [],
   "source": [
    "eng2018xg = eng2018year.sort_values(by=[\"xg_z\"], ascending=False)"
   ]
  },
  {
   "cell_type": "code",
   "execution_count": 294,
   "metadata": {},
   "outputs": [],
   "source": [
    "eng2018xg13 = eng2018xg.head(13)\n"
   ]
  },
  {
   "cell_type": "code",
   "execution_count": 295,
   "metadata": {},
   "outputs": [],
   "source": [
    "eng2018xg13 = eng2018xg13.drop(columns=[ 'season', 'team'])\n"
   ]
  },
  {
   "cell_type": "code",
   "execution_count": 296,
   "metadata": {},
   "outputs": [],
   "source": [
    "eng2018 = eng2018xg13.mean()\n"
   ]
  },
  {
   "cell_type": "code",
   "execution_count": 297,
   "metadata": {},
   "outputs": [
    {
     "data": {
      "text/plain": [
       "goals_z         0.446923\n",
       "xg_z            0.404615\n",
       "boxtouches_z    0.366923\n",
       "progpasses_z   -0.184615\n",
       "progruns_z      0.086154\n",
       "fouls_z        -0.143077\n",
       "fouled_z        0.170000\n",
       "nsxg_z          0.280000\n",
       "dtype: float64"
      ]
     },
     "execution_count": 297,
     "metadata": {},
     "output_type": "execute_result"
    }
   ],
   "source": [
    "eng2018"
   ]
  },
  {
   "cell_type": "code",
   "execution_count": 298,
   "metadata": {},
   "outputs": [
    {
     "data": {
      "text/plain": [
       "1.5318410553943296"
      ]
     },
     "execution_count": 298,
     "metadata": {},
     "output_type": "execute_result"
    }
   ],
   "source": [
    "(0.404615 + .280000) / 0.446923"
   ]
  },
  {
   "cell_type": "markdown",
   "metadata": {},
   "source": [
    "### Fouled"
   ]
  },
  {
   "cell_type": "code",
   "execution_count": 299,
   "metadata": {},
   "outputs": [
    {
     "data": {
      "text/plain": [
       "0.31307700000000005"
      ]
     },
     "execution_count": 299,
     "metadata": {},
     "output_type": "execute_result"
    }
   ],
   "source": [
    ".170000 - -0.143077"
   ]
  },
  {
   "cell_type": "code",
   "execution_count": 300,
   "metadata": {},
   "outputs": [],
   "source": [
    "new_row = {'Country': 'England', 'Year': 2018, 'goals_z': 0.446923, 'xg_z': 0.404615, \n",
    "           'boxtouches_z': 0.366923, 'progpasses_z': -0.184615, 'progruns_z': 0.086154, \n",
    "           'new_xg': 1.531841, 'Fouled': 0.313077, 'results': 4}\n",
    "\n",
    "stats_df = stats_df.append(new_row, ignore_index=True)"
   ]
  },
  {
   "cell_type": "markdown",
   "metadata": {},
   "source": [
    "# Argentina"
   ]
  },
  {
   "cell_type": "code",
   "execution_count": 301,
   "metadata": {},
   "outputs": [],
   "source": [
    "arg = ['Argentina']"
   ]
  },
  {
   "cell_type": "code",
   "execution_count": 302,
   "metadata": {},
   "outputs": [],
   "source": [
    "arg_year = comparisons.loc[comparisons[\"team\"].isin(arg)]"
   ]
  },
  {
   "cell_type": "code",
   "execution_count": 303,
   "metadata": {},
   "outputs": [],
   "source": [
    "arg2010year = arg_year.loc[arg_year[\"season\"].isin(year2010)]"
   ]
  },
  {
   "cell_type": "code",
   "execution_count": 304,
   "metadata": {},
   "outputs": [],
   "source": [
    "arg2010xg = arg2010year.sort_values(by=[\"xg_z\"], ascending=False)"
   ]
  },
  {
   "cell_type": "code",
   "execution_count": 305,
   "metadata": {},
   "outputs": [],
   "source": [
    "arg2010xg13 = arg2010xg.head(13)"
   ]
  },
  {
   "cell_type": "code",
   "execution_count": 306,
   "metadata": {},
   "outputs": [],
   "source": [
    "arg2010xg13 = arg2010xg13.drop(columns=['season', 'team'])\n"
   ]
  },
  {
   "cell_type": "code",
   "execution_count": 307,
   "metadata": {},
   "outputs": [],
   "source": [
    "arg2010 = arg2010xg13.mean()"
   ]
  },
  {
   "cell_type": "code",
   "execution_count": 308,
   "metadata": {},
   "outputs": [
    {
     "data": {
      "text/plain": [
       "goals_z         0.450769\n",
       "xg_z            0.496154\n",
       "boxtouches_z    0.553846\n",
       "progpasses_z    0.065385\n",
       "progruns_z      0.020000\n",
       "fouls_z        -0.384615\n",
       "fouled_z        0.235385\n",
       "nsxg_z          0.488462\n",
       "dtype: float64"
      ]
     },
     "execution_count": 308,
     "metadata": {},
     "output_type": "execute_result"
    }
   ],
   "source": [
    "arg2010"
   ]
  },
  {
   "cell_type": "code",
   "execution_count": 309,
   "metadata": {},
   "outputs": [
    {
     "data": {
      "text/plain": [
       "2.1843028247284084"
      ]
     },
     "execution_count": 309,
     "metadata": {},
     "output_type": "execute_result"
    }
   ],
   "source": [
    "(0.496154 + .488462) / .450769"
   ]
  },
  {
   "cell_type": "markdown",
   "metadata": {},
   "source": [
    "### Fouled"
   ]
  },
  {
   "cell_type": "code",
   "execution_count": 310,
   "metadata": {},
   "outputs": [
    {
     "data": {
      "text/plain": [
       "0.62"
      ]
     },
     "execution_count": 310,
     "metadata": {},
     "output_type": "execute_result"
    }
   ],
   "source": [
    ".235385 - -0.384615"
   ]
  },
  {
   "cell_type": "code",
   "execution_count": 311,
   "metadata": {},
   "outputs": [],
   "source": [
    "new_row = {'Country': 'Argentina', 'Year': 2010, 'goals_z': 0.450769, 'xg_z': 0.496154, \n",
    "           'boxtouches_z': 0.553846, 'progpasses_z': 0.065385, 'progruns_z': 0.020000, \n",
    "           'new_xg': 2.184302, 'Fouled': 0.62, 'results': 8}\n",
    "\n",
    "stats_df = stats_df.append(new_row, ignore_index=True)"
   ]
  },
  {
   "cell_type": "markdown",
   "metadata": {},
   "source": [
    "## 2014"
   ]
  },
  {
   "cell_type": "code",
   "execution_count": 312,
   "metadata": {},
   "outputs": [],
   "source": [
    "arg2014year = arg_year.loc[arg_year[\"season\"].isin(year2014)]"
   ]
  },
  {
   "cell_type": "code",
   "execution_count": 313,
   "metadata": {},
   "outputs": [],
   "source": [
    "arg2014xg = arg2014year.sort_values(by=[\"xg_z\"], ascending=False)"
   ]
  },
  {
   "cell_type": "code",
   "execution_count": 314,
   "metadata": {},
   "outputs": [],
   "source": [
    "arg2014xg13 = arg2014xg.head(13)\n"
   ]
  },
  {
   "cell_type": "code",
   "execution_count": 315,
   "metadata": {},
   "outputs": [],
   "source": [
    "arg2014xg13 = arg2014xg13.drop(columns=[ 'season', 'team'])\n"
   ]
  },
  {
   "cell_type": "code",
   "execution_count": 316,
   "metadata": {},
   "outputs": [],
   "source": [
    "arg2014 = arg2014xg13.mean()\n"
   ]
  },
  {
   "cell_type": "code",
   "execution_count": 317,
   "metadata": {},
   "outputs": [
    {
     "data": {
      "text/plain": [
       "goals_z         0.011538\n",
       "xg_z            0.152308\n",
       "boxtouches_z    0.289231\n",
       "progpasses_z   -0.141538\n",
       "progruns_z      0.170769\n",
       "fouls_z        -0.256154\n",
       "fouled_z        0.176154\n",
       "nsxg_z          0.168462\n",
       "dtype: float64"
      ]
     },
     "execution_count": 317,
     "metadata": {},
     "output_type": "execute_result"
    }
   ],
   "source": [
    "arg2014"
   ]
  },
  {
   "cell_type": "code",
   "execution_count": 318,
   "metadata": {},
   "outputs": [
    {
     "data": {
      "text/plain": [
       "27.80117871381522"
      ]
     },
     "execution_count": 318,
     "metadata": {},
     "output_type": "execute_result"
    }
   ],
   "source": [
    "(0.152308 + .168462) / .011538"
   ]
  },
  {
   "cell_type": "markdown",
   "metadata": {},
   "source": [
    "### Fouled"
   ]
  },
  {
   "cell_type": "code",
   "execution_count": 319,
   "metadata": {},
   "outputs": [
    {
     "data": {
      "text/plain": [
       "0.432308"
      ]
     },
     "execution_count": 319,
     "metadata": {},
     "output_type": "execute_result"
    }
   ],
   "source": [
    ".176154 - -0.256154"
   ]
  },
  {
   "cell_type": "code",
   "execution_count": 320,
   "metadata": {},
   "outputs": [],
   "source": [
    "new_row = {'Country': 'Argentina', 'Year': 2014, 'goals_z': 0.011538, 'xg_z': 0.152308, \n",
    "           'boxtouches_z':0.289231, 'progpasses_z':-0.141538, 'progruns_z':0.170769, \n",
    "           'new_xg': 27.801178, 'Fouled': 0.432308, 'results': 2}\n",
    "stats_df = stats_df.append(new_row, ignore_index=True)"
   ]
  },
  {
   "cell_type": "markdown",
   "metadata": {},
   "source": [
    "## 2018"
   ]
  },
  {
   "cell_type": "code",
   "execution_count": 321,
   "metadata": {},
   "outputs": [],
   "source": [
    "arg2018year = arg_year.loc[arg_year[\"season\"].isin(year2018)]"
   ]
  },
  {
   "cell_type": "code",
   "execution_count": 322,
   "metadata": {},
   "outputs": [],
   "source": [
    "arg2018xg = arg2018year.sort_values(by=[\"xg_z\"], ascending=False)"
   ]
  },
  {
   "cell_type": "code",
   "execution_count": 323,
   "metadata": {},
   "outputs": [],
   "source": [
    "arg2018xg13 = arg2018xg.head(13)\n"
   ]
  },
  {
   "cell_type": "code",
   "execution_count": 324,
   "metadata": {},
   "outputs": [],
   "source": [
    "arg2018xg13 = arg2018xg13.drop(columns=[ 'season', 'team'])\n"
   ]
  },
  {
   "cell_type": "code",
   "execution_count": 325,
   "metadata": {},
   "outputs": [],
   "source": [
    "arg2018 = arg2018xg13.mean()\n"
   ]
  },
  {
   "cell_type": "code",
   "execution_count": 326,
   "metadata": {},
   "outputs": [
    {
     "data": {
      "text/plain": [
       "goals_z         0.373846\n",
       "xg_z            0.110000\n",
       "boxtouches_z    0.300769\n",
       "progpasses_z   -0.213846\n",
       "progruns_z      0.743077\n",
       "fouls_z        -0.040769\n",
       "fouled_z        0.656154\n",
       "nsxg_z          0.316923\n",
       "dtype: float64"
      ]
     },
     "execution_count": 326,
     "metadata": {},
     "output_type": "execute_result"
    }
   ],
   "source": [
    "arg2018"
   ]
  },
  {
   "cell_type": "code",
   "execution_count": 327,
   "metadata": {},
   "outputs": [
    {
     "data": {
      "text/plain": [
       "1.1419755728294538"
      ]
     },
     "execution_count": 327,
     "metadata": {},
     "output_type": "execute_result"
    }
   ],
   "source": [
    "(0.110000 + .316923) / .373846"
   ]
  },
  {
   "cell_type": "markdown",
   "metadata": {},
   "source": [
    "### Fouled"
   ]
  },
  {
   "cell_type": "code",
   "execution_count": 328,
   "metadata": {},
   "outputs": [
    {
     "data": {
      "text/plain": [
       "0.696923"
      ]
     },
     "execution_count": 328,
     "metadata": {},
     "output_type": "execute_result"
    }
   ],
   "source": [
    ".656154 - -0.040769"
   ]
  },
  {
   "cell_type": "code",
   "execution_count": 329,
   "metadata": {},
   "outputs": [],
   "source": [
    "new_row = {'Country': 'Argentina', 'Year': 2018, 'goals_z': 0.373846, 'xg_z':0.110000,  \n",
    "           'boxtouches_z':0.300769,  'progpasses_z':-0.213846,  'progruns_z':0.743077, \n",
    "           'new_xg': 1.141975, 'Fouled': 0.696923, 'results': 16}\n",
    "stats_df = stats_df.append(new_row, ignore_index=True)"
   ]
  },
  {
   "cell_type": "markdown",
   "metadata": {},
   "source": [
    "# Uruguay"
   ]
  },
  {
   "cell_type": "code",
   "execution_count": 330,
   "metadata": {},
   "outputs": [],
   "source": [
    "uru = ['Uruguay']"
   ]
  },
  {
   "cell_type": "code",
   "execution_count": 331,
   "metadata": {},
   "outputs": [],
   "source": [
    "uru_year = comparisons.loc[comparisons[\"team\"].isin(uru)]"
   ]
  },
  {
   "cell_type": "code",
   "execution_count": 332,
   "metadata": {},
   "outputs": [],
   "source": [
    "uru2010year = uru_year.loc[uru_year[\"season\"].isin(year2010)]"
   ]
  },
  {
   "cell_type": "code",
   "execution_count": 333,
   "metadata": {},
   "outputs": [],
   "source": [
    "uru2010xg = uru2010year.sort_values(by=[\"xg_z\"], ascending=False)"
   ]
  },
  {
   "cell_type": "code",
   "execution_count": 334,
   "metadata": {},
   "outputs": [],
   "source": [
    "uru2010xg13 = uru2010xg.head(13)"
   ]
  },
  {
   "cell_type": "code",
   "execution_count": 335,
   "metadata": {},
   "outputs": [],
   "source": [
    "uru2010xg13 = uru2010xg13.drop(columns=[ 'season', 'team'])\n"
   ]
  },
  {
   "cell_type": "code",
   "execution_count": 336,
   "metadata": {},
   "outputs": [],
   "source": [
    "uru2010 = uru2010xg13.mean()"
   ]
  },
  {
   "cell_type": "code",
   "execution_count": 337,
   "metadata": {},
   "outputs": [
    {
     "data": {
      "text/plain": [
       "goals_z         0.396923\n",
       "xg_z            0.130769\n",
       "boxtouches_z    0.050000\n",
       "progpasses_z   -0.225385\n",
       "progruns_z     -0.033846\n",
       "fouls_z        -0.013077\n",
       "fouled_z        0.335385\n",
       "nsxg_z         -0.167692\n",
       "dtype: float64"
      ]
     },
     "execution_count": 337,
     "metadata": {},
     "output_type": "execute_result"
    }
   ],
   "source": [
    "uru2010"
   ]
  },
  {
   "cell_type": "code",
   "execution_count": 338,
   "metadata": {},
   "outputs": [
    {
     "data": {
      "text/plain": [
       "-0.09302308004323259"
      ]
     },
     "execution_count": 338,
     "metadata": {},
     "output_type": "execute_result"
    }
   ],
   "source": [
    "(0.130769 + -0.167692) / .396923"
   ]
  },
  {
   "cell_type": "markdown",
   "metadata": {},
   "source": [
    "### FOULED"
   ]
  },
  {
   "cell_type": "code",
   "execution_count": 339,
   "metadata": {},
   "outputs": [
    {
     "data": {
      "text/plain": [
       "0.348462"
      ]
     },
     "execution_count": 339,
     "metadata": {},
     "output_type": "execute_result"
    }
   ],
   "source": [
    ".335385 - -0.013077"
   ]
  },
  {
   "cell_type": "code",
   "execution_count": 340,
   "metadata": {},
   "outputs": [],
   "source": [
    "new_row = {'Country': 'Uruguay', 'Year': 2010, 'goals_z': 0.396923, 'xg_z': 0.130769, \n",
    "           'boxtouches_z': 0.050000, 'progpasses_z': -0.225385, 'progruns_z': -0.033846,\n",
    "           'new_xg': -0.09302, 'Fouled': -0.0930, 'results': 4}\n",
    "\n",
    "stats_df = stats_df.append(new_row, ignore_index=True)"
   ]
  },
  {
   "cell_type": "markdown",
   "metadata": {},
   "source": [
    "## 2014"
   ]
  },
  {
   "cell_type": "code",
   "execution_count": 341,
   "metadata": {},
   "outputs": [],
   "source": [
    "uru2014year = uru_year.loc[uru_year[\"season\"].isin(year2014)]"
   ]
  },
  {
   "cell_type": "code",
   "execution_count": 342,
   "metadata": {},
   "outputs": [],
   "source": [
    "uru2014xg = uru2014year.sort_values(by=[\"xg_z\"], ascending=False)"
   ]
  },
  {
   "cell_type": "code",
   "execution_count": 343,
   "metadata": {},
   "outputs": [],
   "source": [
    "uru2014xg13 = uru2014xg.head(13)\n"
   ]
  },
  {
   "cell_type": "code",
   "execution_count": 344,
   "metadata": {},
   "outputs": [],
   "source": [
    "uru2014xg13 = uru2014xg13.drop(columns=[ 'season', 'team'])\n"
   ]
  },
  {
   "cell_type": "code",
   "execution_count": 345,
   "metadata": {},
   "outputs": [],
   "source": [
    "uru2014 = uru2014xg13.mean()\n"
   ]
  },
  {
   "cell_type": "code",
   "execution_count": 346,
   "metadata": {},
   "outputs": [
    {
     "data": {
      "text/plain": [
       "goals_z         0.074615\n",
       "xg_z            0.129231\n",
       "boxtouches_z    0.226923\n",
       "progpasses_z   -0.154615\n",
       "progruns_z     -0.273077\n",
       "fouls_z         0.555385\n",
       "fouled_z        0.350769\n",
       "nsxg_z          0.056154\n",
       "dtype: float64"
      ]
     },
     "execution_count": 346,
     "metadata": {},
     "output_type": "execute_result"
    }
   ],
   "source": [
    "uru2014"
   ]
  },
  {
   "cell_type": "code",
   "execution_count": 347,
   "metadata": {},
   "outputs": [
    {
     "data": {
      "text/plain": [
       "2.484554044093011"
      ]
     },
     "execution_count": 347,
     "metadata": {},
     "output_type": "execute_result"
    }
   ],
   "source": [
    "(0.129231 + 0.056154) / .074615"
   ]
  },
  {
   "cell_type": "markdown",
   "metadata": {},
   "source": [
    "### Fouled"
   ]
  },
  {
   "cell_type": "code",
   "execution_count": 348,
   "metadata": {},
   "outputs": [
    {
     "data": {
      "text/plain": [
       "-0.20461600000000002"
      ]
     },
     "execution_count": 348,
     "metadata": {},
     "output_type": "execute_result"
    }
   ],
   "source": [
    ".350769 - .555385"
   ]
  },
  {
   "cell_type": "code",
   "execution_count": 349,
   "metadata": {},
   "outputs": [],
   "source": [
    "new_row = {'Country': 'Uruguay', 'Year': 2014, 'goals_z': 0.074615, 'xg_z':0.129231, \n",
    "           'boxtouches_z':0.226923, 'progpasses_z':-0.154615, 'progruns_z':-0.273077, \n",
    "           'new_xg': 2.484554, 'Fouled': -0.204616, 'results': 16}\n",
    "\n",
    "stats_df = stats_df.append(new_row, ignore_index=True)"
   ]
  },
  {
   "cell_type": "markdown",
   "metadata": {},
   "source": [
    "## 2018"
   ]
  },
  {
   "cell_type": "code",
   "execution_count": 350,
   "metadata": {},
   "outputs": [],
   "source": [
    "uru2018year = uru_year.loc[uru_year[\"season\"].isin(year2018)]"
   ]
  },
  {
   "cell_type": "code",
   "execution_count": 351,
   "metadata": {},
   "outputs": [],
   "source": [
    "uru2018xg = uru2018year.sort_values(by=[\"xg_z\"], ascending=False)"
   ]
  },
  {
   "cell_type": "code",
   "execution_count": 352,
   "metadata": {},
   "outputs": [],
   "source": [
    "uru2018xg13 = uru2018xg.head(13)\n"
   ]
  },
  {
   "cell_type": "code",
   "execution_count": 353,
   "metadata": {},
   "outputs": [],
   "source": [
    "uru2018xg13 = uru2018xg13.drop(columns=[ 'season', 'team'])\n"
   ]
  },
  {
   "cell_type": "code",
   "execution_count": 354,
   "metadata": {},
   "outputs": [],
   "source": [
    "uru2018 = uru2018xg13.mean()\n"
   ]
  },
  {
   "cell_type": "code",
   "execution_count": 355,
   "metadata": {},
   "outputs": [
    {
     "data": {
      "text/plain": [
       "goals_z         0.215385\n",
       "xg_z            0.316154\n",
       "boxtouches_z    0.174615\n",
       "progpasses_z   -0.002308\n",
       "progruns_z     -0.018462\n",
       "fouls_z         0.104615\n",
       "fouled_z        0.224615\n",
       "nsxg_z          0.164615\n",
       "dtype: float64"
      ]
     },
     "execution_count": 355,
     "metadata": {},
     "output_type": "execute_result"
    }
   ],
   "source": [
    "uru2018"
   ]
  },
  {
   "cell_type": "code",
   "execution_count": 356,
   "metadata": {},
   "outputs": [
    {
     "data": {
      "text/plain": [
       "2.232137799753929"
      ]
     },
     "execution_count": 356,
     "metadata": {},
     "output_type": "execute_result"
    }
   ],
   "source": [
    "(0.316154 + 0.164615) / .215385"
   ]
  },
  {
   "cell_type": "markdown",
   "metadata": {},
   "source": [
    "### Fouled"
   ]
  },
  {
   "cell_type": "code",
   "execution_count": 357,
   "metadata": {},
   "outputs": [
    {
     "data": {
      "text/plain": [
       "0.12000000000000001"
      ]
     },
     "execution_count": 357,
     "metadata": {},
     "output_type": "execute_result"
    }
   ],
   "source": [
    ".224615 - .104615"
   ]
  },
  {
   "cell_type": "code",
   "execution_count": 358,
   "metadata": {},
   "outputs": [],
   "source": [
    "new_row = {'Country': 'Uruguay', 'Year': 2018, 'goals_z': 0.215385, 'xg_z':0.316154, \n",
    "           'boxtouches_z':0.174615, 'progpasses_z':-0.002308, 'progruns_z':-0.018462, \n",
    "           'new_xg': 2.2321377, 'Fouled': 0.12000, 'results': 8}\n",
    "\n",
    "stats_df = stats_df.append(new_row, ignore_index=True)"
   ]
  },
  {
   "cell_type": "markdown",
   "metadata": {},
   "source": [
    "# Senegal"
   ]
  },
  {
   "cell_type": "markdown",
   "metadata": {},
   "source": [
    "## 2010 NA"
   ]
  },
  {
   "cell_type": "markdown",
   "metadata": {},
   "source": [
    "## 2014 NA"
   ]
  },
  {
   "cell_type": "markdown",
   "metadata": {},
   "source": [
    "## 2018"
   ]
  },
  {
   "cell_type": "code",
   "execution_count": 359,
   "metadata": {},
   "outputs": [],
   "source": [
    "sen = ['Senegal']"
   ]
  },
  {
   "cell_type": "code",
   "execution_count": 360,
   "metadata": {},
   "outputs": [],
   "source": [
    "sen_year = comparisons.loc[comparisons[\"team\"].isin(sen)]"
   ]
  },
  {
   "cell_type": "code",
   "execution_count": 361,
   "metadata": {},
   "outputs": [],
   "source": [
    "sen2018year = sen_year.loc[sen_year[\"season\"].isin(year2018)]"
   ]
  },
  {
   "cell_type": "code",
   "execution_count": 362,
   "metadata": {},
   "outputs": [],
   "source": [
    "sen2018xg = sen2018year.sort_values(by=[\"xg_z\"], ascending=False)"
   ]
  },
  {
   "cell_type": "code",
   "execution_count": 363,
   "metadata": {},
   "outputs": [],
   "source": [
    "sen2018xg13 = sen2018xg.head(13)"
   ]
  },
  {
   "cell_type": "code",
   "execution_count": 364,
   "metadata": {},
   "outputs": [],
   "source": [
    "sen2018xg13 = sen2018xg13.drop(columns=['season', 'team'])\n"
   ]
  },
  {
   "cell_type": "code",
   "execution_count": 365,
   "metadata": {},
   "outputs": [],
   "source": [
    "sen2018 = sen2018xg13.mean()"
   ]
  },
  {
   "cell_type": "code",
   "execution_count": 366,
   "metadata": {},
   "outputs": [
    {
     "data": {
      "text/plain": [
       "goals_z         0.110769\n",
       "xg_z           -0.074615\n",
       "boxtouches_z    0.087692\n",
       "progpasses_z   -0.150769\n",
       "progruns_z      0.121538\n",
       "fouls_z         0.352308\n",
       "fouled_z       -0.095385\n",
       "nsxg_z          0.071538\n",
       "dtype: float64"
      ]
     },
     "execution_count": 366,
     "metadata": {},
     "output_type": "execute_result"
    }
   ],
   "source": [
    "sen2018"
   ]
  },
  {
   "cell_type": "code",
   "execution_count": 367,
   "metadata": {},
   "outputs": [
    {
     "data": {
      "text/plain": [
       "-0.027778530094159884"
      ]
     },
     "execution_count": 367,
     "metadata": {},
     "output_type": "execute_result"
    }
   ],
   "source": [
    "(-0.074615 + 0.071538) / 0.110769"
   ]
  },
  {
   "cell_type": "markdown",
   "metadata": {},
   "source": [
    "### Fouled"
   ]
  },
  {
   "cell_type": "code",
   "execution_count": 368,
   "metadata": {},
   "outputs": [
    {
     "data": {
      "text/plain": [
       "-0.447693"
      ]
     },
     "execution_count": 368,
     "metadata": {},
     "output_type": "execute_result"
    }
   ],
   "source": [
    "-0.095385 - .352308"
   ]
  },
  {
   "cell_type": "code",
   "execution_count": 369,
   "metadata": {},
   "outputs": [],
   "source": [
    "new_row = {'Country': 'Senegal', 'Year': 2018, 'goals_z':0.110769, 'xg_z':-0.074615, \n",
    "           'boxtouches_z':0.087692, 'progpasses_z':-0.150769, 'progruns_z':0.121538, \n",
    "           'new_xg': -0.027778, 'Fouled': -0.447693, 'results': 32}\n",
    "\n",
    "stats_df = stats_df.append(new_row, ignore_index=True)"
   ]
  },
  {
   "cell_type": "markdown",
   "metadata": {},
   "source": [
    "# Ecuador"
   ]
  },
  {
   "cell_type": "markdown",
   "metadata": {},
   "source": [
    "## 2010 NA"
   ]
  },
  {
   "cell_type": "markdown",
   "metadata": {},
   "source": [
    "## 2014"
   ]
  },
  {
   "cell_type": "code",
   "execution_count": 370,
   "metadata": {},
   "outputs": [],
   "source": [
    "ecu = ['Ecuador']"
   ]
  },
  {
   "cell_type": "code",
   "execution_count": 371,
   "metadata": {},
   "outputs": [],
   "source": [
    "ecu_year = comparisons.loc[comparisons[\"team\"].isin(ecu)]"
   ]
  },
  {
   "cell_type": "code",
   "execution_count": 372,
   "metadata": {},
   "outputs": [],
   "source": [
    "ecu2014year = ecu_year.loc[ecu_year[\"season\"].isin(year2014)]"
   ]
  },
  {
   "cell_type": "code",
   "execution_count": 373,
   "metadata": {},
   "outputs": [],
   "source": [
    "ecu2014xg = ecu2014year.sort_values(by=[\"xg_z\"], ascending=False)"
   ]
  },
  {
   "cell_type": "code",
   "execution_count": 374,
   "metadata": {},
   "outputs": [],
   "source": [
    "ecu2014xg13 = ecu2014xg.head(13)"
   ]
  },
  {
   "cell_type": "code",
   "execution_count": 375,
   "metadata": {},
   "outputs": [],
   "source": [
    "ecu2014xg13 = ecu2014xg13.drop(columns=[ 'season', 'team'])\n"
   ]
  },
  {
   "cell_type": "code",
   "execution_count": 376,
   "metadata": {},
   "outputs": [],
   "source": [
    "ecu2014 = ecu2014xg13.mean()"
   ]
  },
  {
   "cell_type": "code",
   "execution_count": 377,
   "metadata": {},
   "outputs": [
    {
     "data": {
      "text/plain": [
       "goals_z         0.075385\n",
       "xg_z            0.130000\n",
       "boxtouches_z   -0.066923\n",
       "progpasses_z    0.006154\n",
       "progruns_z      0.193077\n",
       "fouls_z         0.474615\n",
       "fouled_z       -0.063846\n",
       "nsxg_z         -0.143846\n",
       "dtype: float64"
      ]
     },
     "execution_count": 377,
     "metadata": {},
     "output_type": "execute_result"
    }
   ],
   "source": [
    "ecu2014"
   ]
  },
  {
   "cell_type": "code",
   "execution_count": 378,
   "metadata": {},
   "outputs": [
    {
     "data": {
      "text/plain": [
       "-0.18367049147708428"
      ]
     },
     "execution_count": 378,
     "metadata": {},
     "output_type": "execute_result"
    }
   ],
   "source": [
    "(0.130000 + -0.143846) / 0.075385"
   ]
  },
  {
   "cell_type": "markdown",
   "metadata": {},
   "source": [
    "### Fouled"
   ]
  },
  {
   "cell_type": "code",
   "execution_count": 379,
   "metadata": {},
   "outputs": [
    {
     "data": {
      "text/plain": [
       "-0.538461"
      ]
     },
     "execution_count": 379,
     "metadata": {},
     "output_type": "execute_result"
    }
   ],
   "source": [
    "-0.063846 - .474615"
   ]
  },
  {
   "cell_type": "code",
   "execution_count": 380,
   "metadata": {},
   "outputs": [],
   "source": [
    "new_row = {'Country': 'Ecuador', 'Year': 2014, 'goals_z':0.075385, 'xg_z': 0.130000, \n",
    "           'boxtouches_z': -0.066923, 'progpasses_z':0.006154, 'progruns_z':0.193077, \n",
    "           'new_xg': -0.183670, 'Fouled': -0.538461, 'results': 32}\n",
    "\n",
    "stats_df = stats_df.append(new_row, ignore_index=True)"
   ]
  },
  {
   "cell_type": "markdown",
   "metadata": {},
   "source": [
    "## 2018 NA"
   ]
  },
  {
   "cell_type": "markdown",
   "metadata": {},
   "source": [
    "# Wales"
   ]
  },
  {
   "cell_type": "markdown",
   "metadata": {},
   "source": [
    "## 2010 NA"
   ]
  },
  {
   "cell_type": "markdown",
   "metadata": {},
   "source": [
    "## 2014 NA"
   ]
  },
  {
   "cell_type": "markdown",
   "metadata": {},
   "source": [
    "## 2018 NA"
   ]
  },
  {
   "cell_type": "markdown",
   "metadata": {},
   "source": [
    "# Costa Rica"
   ]
  },
  {
   "cell_type": "markdown",
   "metadata": {},
   "source": [
    "## 2010 NA"
   ]
  },
  {
   "cell_type": "markdown",
   "metadata": {},
   "source": [
    "## 2014"
   ]
  },
  {
   "cell_type": "code",
   "execution_count": 381,
   "metadata": {},
   "outputs": [],
   "source": [
    "cos = ['Costa Rica']"
   ]
  },
  {
   "cell_type": "code",
   "execution_count": 382,
   "metadata": {},
   "outputs": [],
   "source": [
    "cos_year = comparisons.loc[comparisons[\"team\"].isin(cos)]"
   ]
  },
  {
   "cell_type": "code",
   "execution_count": 383,
   "metadata": {},
   "outputs": [],
   "source": [
    "cos2014year = cos_year.loc[cos_year[\"season\"].isin(year2014)]"
   ]
  },
  {
   "cell_type": "code",
   "execution_count": 384,
   "metadata": {},
   "outputs": [],
   "source": [
    "cos2014xg = cos2014year.sort_values(by=[\"xg_z\"], ascending=False)\n"
   ]
  },
  {
   "cell_type": "code",
   "execution_count": 385,
   "metadata": {},
   "outputs": [],
   "source": [
    "cos2014xg13 = cos2014xg.head(13)\n"
   ]
  },
  {
   "cell_type": "code",
   "execution_count": 386,
   "metadata": {},
   "outputs": [],
   "source": [
    "cos2014xg13 = cos2014xg13.drop(columns=['season', 'team'])\n"
   ]
  },
  {
   "cell_type": "code",
   "execution_count": 387,
   "metadata": {},
   "outputs": [],
   "source": [
    "cos2014 = cos2014xg13.mean()\n"
   ]
  },
  {
   "cell_type": "code",
   "execution_count": 388,
   "metadata": {},
   "outputs": [
    {
     "data": {
      "text/plain": [
       "goals_z         0.016154\n",
       "xg_z           -0.177692\n",
       "boxtouches_z   -0.148462\n",
       "progpasses_z   -0.272308\n",
       "progruns_z     -0.432308\n",
       "fouls_z         0.433846\n",
       "fouled_z        0.163077\n",
       "nsxg_z         -0.268462\n",
       "dtype: float64"
      ]
     },
     "execution_count": 388,
     "metadata": {},
     "output_type": "execute_result"
    }
   ],
   "source": [
    "cos2014"
   ]
  },
  {
   "cell_type": "code",
   "execution_count": 389,
   "metadata": {},
   "outputs": [
    {
     "data": {
      "text/plain": [
       "-27.61879410672279"
      ]
     },
     "execution_count": 389,
     "metadata": {},
     "output_type": "execute_result"
    }
   ],
   "source": [
    "(-0.177692 + -0.268462) / .016154\n"
   ]
  },
  {
   "cell_type": "markdown",
   "metadata": {},
   "source": [
    "### Fouled"
   ]
  },
  {
   "cell_type": "code",
   "execution_count": 390,
   "metadata": {},
   "outputs": [
    {
     "data": {
      "text/plain": [
       "-0.27076900000000004"
      ]
     },
     "execution_count": 390,
     "metadata": {},
     "output_type": "execute_result"
    }
   ],
   "source": [
    ".163077 - .433846"
   ]
  },
  {
   "cell_type": "code",
   "execution_count": 391,
   "metadata": {},
   "outputs": [],
   "source": [
    "\n",
    "new_row = {'Country': 'Costa Rica', 'Year': 2014, 'goals_z': 0.016154, 'xg_z':-0.177692, \n",
    "           'boxtouches_z':-0.148462, 'progpasses_z':-0.272308, 'progruns_z':-0.432308, \n",
    "           'new_xg': -27.618794, 'Fouled': -0.27076900, 'results': 8}\n",
    "stats_df = stats_df.append(new_row, ignore_index=True)\n"
   ]
  },
  {
   "cell_type": "markdown",
   "metadata": {},
   "source": [
    "## 2018"
   ]
  },
  {
   "cell_type": "code",
   "execution_count": 392,
   "metadata": {},
   "outputs": [],
   "source": [
    "cos2018year = cos_year.loc[cos_year[\"season\"].isin(year2018)]"
   ]
  },
  {
   "cell_type": "code",
   "execution_count": 393,
   "metadata": {},
   "outputs": [],
   "source": [
    "cos2018xg = cos2018year.sort_values(by=[\"xg_z\"], ascending=False)\n"
   ]
  },
  {
   "cell_type": "code",
   "execution_count": 394,
   "metadata": {},
   "outputs": [],
   "source": [
    "cos2018xg13 = cos2018xg.head(13)\n"
   ]
  },
  {
   "cell_type": "code",
   "execution_count": 395,
   "metadata": {},
   "outputs": [],
   "source": [
    "cos2018xg13 = cos2018xg13.drop(columns=['season', 'team'])\n"
   ]
  },
  {
   "cell_type": "code",
   "execution_count": 396,
   "metadata": {},
   "outputs": [],
   "source": [
    "cos2018 = cos2018xg13.mean()\n"
   ]
  },
  {
   "cell_type": "code",
   "execution_count": 397,
   "metadata": {},
   "outputs": [
    {
     "data": {
      "text/plain": [
       "goals_z        -0.243077\n",
       "xg_z           -0.021538\n",
       "boxtouches_z   -0.117692\n",
       "progpasses_z   -0.030000\n",
       "progruns_z     -0.349231\n",
       "fouls_z         0.201538\n",
       "fouled_z       -0.129231\n",
       "nsxg_z         -0.084615\n",
       "dtype: float64"
      ]
     },
     "execution_count": 397,
     "metadata": {},
     "output_type": "execute_result"
    }
   ],
   "source": [
    "cos2018"
   ]
  },
  {
   "cell_type": "code",
   "execution_count": 398,
   "metadata": {},
   "outputs": [
    {
     "data": {
      "text/plain": [
       "0.4367052415489742"
      ]
     },
     "execution_count": 398,
     "metadata": {},
     "output_type": "execute_result"
    }
   ],
   "source": [
    "(-0.021538 + -0.084615) / -0.243077\n"
   ]
  },
  {
   "cell_type": "markdown",
   "metadata": {},
   "source": [
    "### Fouled"
   ]
  },
  {
   "cell_type": "code",
   "execution_count": 399,
   "metadata": {},
   "outputs": [
    {
     "data": {
      "text/plain": [
       "-0.330769"
      ]
     },
     "execution_count": 399,
     "metadata": {},
     "output_type": "execute_result"
    }
   ],
   "source": [
    "-0.129231 - .201538"
   ]
  },
  {
   "cell_type": "code",
   "execution_count": 400,
   "metadata": {},
   "outputs": [],
   "source": [
    "\n",
    "new_row = {'Country': 'Costa Rica', 'Year': 2018, 'goals_z':-0.243077, 'xg_z':-0.021538, \n",
    "           'boxtouches_z':-0.117692, 'progpasses_z':-0.030000, 'progruns_z':-0.349231, \n",
    "           'new_xg': 0.43670524, 'Fouled': -0.330769, 'results': 32}\n",
    "stats_df = stats_df.append(new_row, ignore_index=True)\n"
   ]
  },
  {
   "cell_type": "code",
   "execution_count": 733,
   "metadata": {},
   "outputs": [],
   "source": [
    "# stats_df"
   ]
  },
  {
   "cell_type": "markdown",
   "metadata": {},
   "source": [
    "# Mexico"
   ]
  },
  {
   "cell_type": "code",
   "execution_count": 402,
   "metadata": {},
   "outputs": [],
   "source": [
    "mex = ['Mexico']"
   ]
  },
  {
   "cell_type": "code",
   "execution_count": 403,
   "metadata": {},
   "outputs": [],
   "source": [
    "mex_year = comparisons.loc[comparisons[\"team\"].isin(mex)]"
   ]
  },
  {
   "cell_type": "code",
   "execution_count": 404,
   "metadata": {},
   "outputs": [],
   "source": [
    "mex2010year = mex_year.loc[mex_year[\"season\"].isin(year2010)]"
   ]
  },
  {
   "cell_type": "code",
   "execution_count": 405,
   "metadata": {},
   "outputs": [],
   "source": [
    "mex2010xg = mex2010year.sort_values(by=[\"xg_z\"], ascending=False)"
   ]
  },
  {
   "cell_type": "code",
   "execution_count": 406,
   "metadata": {},
   "outputs": [],
   "source": [
    "mex2010xg13 = mex2010xg.head(13)"
   ]
  },
  {
   "cell_type": "code",
   "execution_count": 407,
   "metadata": {},
   "outputs": [],
   "source": [
    "mex2010xg13 = mex2010xg13.drop(columns=[ 'season', 'team'])\n"
   ]
  },
  {
   "cell_type": "code",
   "execution_count": 408,
   "metadata": {},
   "outputs": [],
   "source": [
    "mex2010 = mex2010xg13.mean()"
   ]
  },
  {
   "cell_type": "code",
   "execution_count": 409,
   "metadata": {},
   "outputs": [
    {
     "data": {
      "text/plain": [
       "goals_z         0.132308\n",
       "xg_z            0.251538\n",
       "boxtouches_z    0.199231\n",
       "progpasses_z    0.200000\n",
       "progruns_z      0.863846\n",
       "fouls_z         0.607692\n",
       "fouled_z        0.378462\n",
       "nsxg_z          0.319231\n",
       "dtype: float64"
      ]
     },
     "execution_count": 409,
     "metadata": {},
     "output_type": "execute_result"
    }
   ],
   "source": [
    "mex2010"
   ]
  },
  {
   "cell_type": "code",
   "execution_count": 410,
   "metadata": {},
   "outputs": [
    {
     "data": {
      "text/plain": [
       "4.31394171176346"
      ]
     },
     "execution_count": 410,
     "metadata": {},
     "output_type": "execute_result"
    }
   ],
   "source": [
    "(0.251538 + 0.319231) / .132308"
   ]
  },
  {
   "cell_type": "markdown",
   "metadata": {},
   "source": [
    "### Fouled"
   ]
  },
  {
   "cell_type": "code",
   "execution_count": 411,
   "metadata": {},
   "outputs": [
    {
     "data": {
      "text/plain": [
       "-0.22923"
      ]
     },
     "execution_count": 411,
     "metadata": {},
     "output_type": "execute_result"
    }
   ],
   "source": [
    ".378462 - .607692"
   ]
  },
  {
   "cell_type": "code",
   "execution_count": 412,
   "metadata": {},
   "outputs": [],
   "source": [
    "new_row = {'Country': 'Mexico', 'Year': 2010, 'goals_z':0.132308, 'xg_z':0.251538,\n",
    "           'boxtouches_z':0.199231,'progpasses_z':0.200000,'progruns_z':0.863846, \n",
    "           'new_xg': 4.3139, 'Fouled': -0.22923, 'results': 16}\n",
    "\n",
    "stats_df = stats_df.append(new_row, ignore_index=True)"
   ]
  },
  {
   "cell_type": "code",
   "execution_count": 413,
   "metadata": {},
   "outputs": [],
   "source": [
    "# stats_df"
   ]
  },
  {
   "cell_type": "markdown",
   "metadata": {},
   "source": [
    "## 2014"
   ]
  },
  {
   "cell_type": "code",
   "execution_count": 414,
   "metadata": {},
   "outputs": [],
   "source": [
    "mex2014year = mex_year.loc[mex_year[\"season\"].isin(year2014)]"
   ]
  },
  {
   "cell_type": "code",
   "execution_count": 415,
   "metadata": {},
   "outputs": [],
   "source": [
    "mex2014xg = mex2014year.sort_values(by=[\"xg_z\"], ascending=False)"
   ]
  },
  {
   "cell_type": "code",
   "execution_count": 416,
   "metadata": {},
   "outputs": [],
   "source": [
    "mex2014xg13 = mex2014xg.head(13)"
   ]
  },
  {
   "cell_type": "code",
   "execution_count": 417,
   "metadata": {},
   "outputs": [],
   "source": [
    "mex2014xg13 = mex2014xg13.drop(columns=[ 'season', 'team', ])\n"
   ]
  },
  {
   "cell_type": "code",
   "execution_count": 418,
   "metadata": {},
   "outputs": [],
   "source": [
    "mex2014 = mex2014xg13.mean()"
   ]
  },
  {
   "cell_type": "code",
   "execution_count": 419,
   "metadata": {},
   "outputs": [
    {
     "data": {
      "text/plain": [
       "goals_z         0.200769\n",
       "xg_z           -0.043846\n",
       "boxtouches_z    0.064615\n",
       "progpasses_z    0.174615\n",
       "progruns_z     -0.090000\n",
       "fouls_z         0.094615\n",
       "fouled_z        0.152308\n",
       "nsxg_z          0.084615\n",
       "dtype: float64"
      ]
     },
     "execution_count": 419,
     "metadata": {},
     "output_type": "execute_result"
    }
   ],
   "source": [
    "mex2014"
   ]
  },
  {
   "cell_type": "code",
   "execution_count": 420,
   "metadata": {},
   "outputs": [
    {
     "data": {
      "text/plain": [
       "0.20306421808147668"
      ]
     },
     "execution_count": 420,
     "metadata": {},
     "output_type": "execute_result"
    }
   ],
   "source": [
    "(-0.043846 + 0.084615) / .200769"
   ]
  },
  {
   "cell_type": "markdown",
   "metadata": {},
   "source": [
    "### Fouled"
   ]
  },
  {
   "cell_type": "code",
   "execution_count": 421,
   "metadata": {},
   "outputs": [
    {
     "data": {
      "text/plain": [
       "0.057692999999999994"
      ]
     },
     "execution_count": 421,
     "metadata": {},
     "output_type": "execute_result"
    }
   ],
   "source": [
    ".152308 - .094615"
   ]
  },
  {
   "cell_type": "code",
   "execution_count": 422,
   "metadata": {},
   "outputs": [],
   "source": [
    "new_row = {'Country': 'Mexico', 'Year': 2014, 'goals_z': 0.200769, 'xg_z':-0.043846, \n",
    "           'boxtouches_z':0.064615, 'progpasses_z':0.174615, 'progruns_z':-0.090000, \n",
    "           'new_xg': 0.203064, 'Fouled': 0.0576929, 'results': 16}\n",
    "\n",
    "stats_df = stats_df.append(new_row, ignore_index=True)"
   ]
  },
  {
   "cell_type": "markdown",
   "metadata": {},
   "source": [
    "## 2018"
   ]
  },
  {
   "cell_type": "code",
   "execution_count": 423,
   "metadata": {},
   "outputs": [],
   "source": [
    "mex2018year = mex_year.loc[mex_year[\"season\"].isin(year2018)]"
   ]
  },
  {
   "cell_type": "code",
   "execution_count": 424,
   "metadata": {},
   "outputs": [],
   "source": [
    "mex2018xg = mex2018year.sort_values(by=[\"xg_z\"], ascending=False)"
   ]
  },
  {
   "cell_type": "code",
   "execution_count": 425,
   "metadata": {},
   "outputs": [],
   "source": [
    "mex2018xg13 = mex2018xg.head(13)"
   ]
  },
  {
   "cell_type": "code",
   "execution_count": 426,
   "metadata": {},
   "outputs": [],
   "source": [
    "mex2018xg13 = mex2018xg13.drop(columns=[ 'season', 'team'])\n"
   ]
  },
  {
   "cell_type": "code",
   "execution_count": 427,
   "metadata": {},
   "outputs": [],
   "source": [
    "mex2018 = mex2018xg13.mean()"
   ]
  },
  {
   "cell_type": "code",
   "execution_count": 428,
   "metadata": {},
   "outputs": [
    {
     "data": {
      "text/plain": [
       "goals_z        -0.023077\n",
       "xg_z            0.194615\n",
       "boxtouches_z    0.341538\n",
       "progpasses_z    0.556154\n",
       "progruns_z      0.982308\n",
       "fouls_z         0.352308\n",
       "fouled_z        0.240000\n",
       "nsxg_z          0.260000\n",
       "dtype: float64"
      ]
     },
     "execution_count": 428,
     "metadata": {},
     "output_type": "execute_result"
    }
   ],
   "source": [
    "mex2018"
   ]
  },
  {
   "cell_type": "code",
   "execution_count": 429,
   "metadata": {},
   "outputs": [
    {
     "data": {
      "text/plain": [
       "-19.699917666941108"
      ]
     },
     "execution_count": 429,
     "metadata": {},
     "output_type": "execute_result"
    }
   ],
   "source": [
    "(0.194615 + 0.260000) / -0.023077"
   ]
  },
  {
   "cell_type": "markdown",
   "metadata": {},
   "source": [
    "### Fouled"
   ]
  },
  {
   "cell_type": "code",
   "execution_count": 430,
   "metadata": {},
   "outputs": [
    {
     "data": {
      "text/plain": [
       "-0.11230800000000002"
      ]
     },
     "execution_count": 430,
     "metadata": {},
     "output_type": "execute_result"
    }
   ],
   "source": [
    ".240000 - .352308"
   ]
  },
  {
   "cell_type": "code",
   "execution_count": 431,
   "metadata": {},
   "outputs": [],
   "source": [
    "new_row = {'Country': 'Mexico', 'Year': 2018, 'goals_z':-0.023077, 'xg_z':0.194615, \n",
    "           'boxtouches_z':0.341538, 'progpasses_z':0.556154, 'progruns_z':0.982308, \n",
    "           'new_xg': -19.69991, 'Fouled': -0.112308, 'results': 16}\n",
    "\n",
    "stats_df = stats_df.append(new_row, ignore_index=True)"
   ]
  },
  {
   "cell_type": "markdown",
   "metadata": {},
   "source": [
    "# France"
   ]
  },
  {
   "cell_type": "code",
   "execution_count": 432,
   "metadata": {},
   "outputs": [],
   "source": [
    "fra = ['France']"
   ]
  },
  {
   "cell_type": "code",
   "execution_count": 433,
   "metadata": {},
   "outputs": [],
   "source": [
    "fra_year = comparisons.loc[comparisons[\"team\"].isin(fra)]"
   ]
  },
  {
   "cell_type": "code",
   "execution_count": 434,
   "metadata": {},
   "outputs": [],
   "source": [
    "fra2010year = fra_year.loc[fra_year[\"season\"].isin(year2010)]"
   ]
  },
  {
   "cell_type": "code",
   "execution_count": 435,
   "metadata": {},
   "outputs": [],
   "source": [
    "fra2010xg = fra2010year.sort_values(by=[\"xg_z\"], ascending=False)"
   ]
  },
  {
   "cell_type": "code",
   "execution_count": 436,
   "metadata": {},
   "outputs": [],
   "source": [
    "fra2010xg13 = fra2010xg.head(13)"
   ]
  },
  {
   "cell_type": "code",
   "execution_count": 437,
   "metadata": {},
   "outputs": [],
   "source": [
    "fra2010xg13 = fra2010xg13.drop(columns=[ 'season', 'team'])\n"
   ]
  },
  {
   "cell_type": "code",
   "execution_count": 438,
   "metadata": {},
   "outputs": [],
   "source": [
    "fra2010 = fra2010xg13.mean()"
   ]
  },
  {
   "cell_type": "code",
   "execution_count": 439,
   "metadata": {},
   "outputs": [
    {
     "data": {
      "text/plain": [
       "goals_z        -0.222308\n",
       "xg_z           -0.019231\n",
       "boxtouches_z    0.155385\n",
       "progpasses_z   -0.379231\n",
       "progruns_z      0.069231\n",
       "fouls_z         0.182308\n",
       "fouled_z        0.170769\n",
       "nsxg_z         -0.009231\n",
       "dtype: float64"
      ]
     },
     "execution_count": 439,
     "metadata": {},
     "output_type": "execute_result"
    }
   ],
   "source": [
    "fra2010"
   ]
  },
  {
   "cell_type": "code",
   "execution_count": 440,
   "metadata": {},
   "outputs": [
    {
     "data": {
      "text/plain": [
       "0.1280295805818954"
      ]
     },
     "execution_count": 440,
     "metadata": {},
     "output_type": "execute_result"
    }
   ],
   "source": [
    "( -0.019231 + -0.009231) /  -0.222308"
   ]
  },
  {
   "cell_type": "markdown",
   "metadata": {},
   "source": [
    "### Fouled"
   ]
  },
  {
   "cell_type": "code",
   "execution_count": 441,
   "metadata": {},
   "outputs": [
    {
     "data": {
      "text/plain": [
       "-0.011538999999999994"
      ]
     },
     "execution_count": 441,
     "metadata": {},
     "output_type": "execute_result"
    }
   ],
   "source": [
    "0.170769 - 0.182308"
   ]
  },
  {
   "cell_type": "code",
   "execution_count": 442,
   "metadata": {},
   "outputs": [],
   "source": [
    "new_row = {'Country': 'France', 'Year': 2010, 'goals_z': -0.222308, 'xg_z':-0.019231, \n",
    "           'boxtouches_z':0.155385, 'progpasses_z':-0.379231, 'progruns_z':0.069231, \n",
    "           'new_xg': 0.128029, 'Fouled': -0.01153, 'results': 32}\n",
    "\n",
    "stats_df = stats_df.append(new_row, ignore_index=True)"
   ]
  },
  {
   "cell_type": "code",
   "execution_count": 734,
   "metadata": {},
   "outputs": [],
   "source": [
    "# stats_df.corr()"
   ]
  },
  {
   "cell_type": "markdown",
   "metadata": {},
   "source": [
    "## 2014"
   ]
  },
  {
   "cell_type": "code",
   "execution_count": 444,
   "metadata": {},
   "outputs": [],
   "source": [
    "fra2014year = fra_year.loc[fra_year[\"season\"].isin(year2014)]\n"
   ]
  },
  {
   "cell_type": "code",
   "execution_count": 445,
   "metadata": {},
   "outputs": [],
   "source": [
    "fra2014xg = fra2014year.sort_values(by=[\"xg_z\"], ascending=False)\n"
   ]
  },
  {
   "cell_type": "code",
   "execution_count": 446,
   "metadata": {},
   "outputs": [],
   "source": [
    "fra2014xg13 = fra2014xg.head(13)\n"
   ]
  },
  {
   "cell_type": "code",
   "execution_count": 447,
   "metadata": {},
   "outputs": [],
   "source": [
    "fra2014xg13 = fra2014xg13.drop(columns=[ 'season', 'team'])\n"
   ]
  },
  {
   "cell_type": "code",
   "execution_count": 448,
   "metadata": {},
   "outputs": [],
   "source": [
    "fra2014 = fra2014xg13.mean()\n"
   ]
  },
  {
   "cell_type": "code",
   "execution_count": 449,
   "metadata": {},
   "outputs": [
    {
     "data": {
      "text/plain": [
       "goals_z         0.376923\n",
       "xg_z            0.747692\n",
       "boxtouches_z    1.026154\n",
       "progpasses_z    0.130769\n",
       "progruns_z      0.010769\n",
       "fouls_z         0.127692\n",
       "fouled_z        0.158462\n",
       "nsxg_z          0.817692\n",
       "dtype: float64"
      ]
     },
     "execution_count": 449,
     "metadata": {},
     "output_type": "execute_result"
    }
   ],
   "source": [
    "fra2014"
   ]
  },
  {
   "cell_type": "code",
   "execution_count": 450,
   "metadata": {},
   "outputs": [
    {
     "data": {
      "text/plain": [
       "4.15306043940009"
      ]
     },
     "execution_count": 450,
     "metadata": {},
     "output_type": "execute_result"
    }
   ],
   "source": [
    "( 0.747692 + 0.817692) /  0.376923"
   ]
  },
  {
   "cell_type": "markdown",
   "metadata": {},
   "source": [
    "### Fouled"
   ]
  },
  {
   "cell_type": "code",
   "execution_count": 451,
   "metadata": {},
   "outputs": [
    {
     "data": {
      "text/plain": [
       "0.030769999999999992"
      ]
     },
     "execution_count": 451,
     "metadata": {},
     "output_type": "execute_result"
    }
   ],
   "source": [
    ".158462 - .127692"
   ]
  },
  {
   "cell_type": "code",
   "execution_count": 452,
   "metadata": {},
   "outputs": [],
   "source": [
    "new_row = {'Country': 'France', 'Year': 2014, 'goals_z': 0.376923, 'xg_z': 0.747692, \n",
    "           'boxtouches_z': 1.026154, 'progpasses_z': 0.130769, 'progruns_z': 0.010769, \n",
    "           'new_xg': 4.15306, 'Fouled': 0.0307699, 'results': 8}\n",
    "\n",
    "stats_df = stats_df.append(new_row, ignore_index=True)"
   ]
  },
  {
   "cell_type": "markdown",
   "metadata": {},
   "source": [
    "## 2018"
   ]
  },
  {
   "cell_type": "code",
   "execution_count": 453,
   "metadata": {},
   "outputs": [],
   "source": [
    "fra2018year = fra_year.loc[fra_year[\"season\"].isin(year2018)]\n"
   ]
  },
  {
   "cell_type": "code",
   "execution_count": 454,
   "metadata": {},
   "outputs": [],
   "source": [
    "fra2018xg = fra2018year.sort_values(by=[\"xg_z\"], ascending=False)\n"
   ]
  },
  {
   "cell_type": "code",
   "execution_count": 455,
   "metadata": {},
   "outputs": [],
   "source": [
    "fra2018xg13 = fra2018xg.head(13)\n"
   ]
  },
  {
   "cell_type": "code",
   "execution_count": 456,
   "metadata": {},
   "outputs": [],
   "source": [
    "fra2018xg13 = fra2018xg13.drop(columns=[ 'season', 'team'])\n"
   ]
  },
  {
   "cell_type": "code",
   "execution_count": 457,
   "metadata": {},
   "outputs": [],
   "source": [
    "fra2018 = fra2018xg13.mean()\n"
   ]
  },
  {
   "cell_type": "code",
   "execution_count": 458,
   "metadata": {},
   "outputs": [
    {
     "data": {
      "text/plain": [
       "goals_z         0.489231\n",
       "xg_z            0.231538\n",
       "boxtouches_z    0.189231\n",
       "progpasses_z   -0.039231\n",
       "progruns_z      0.080769\n",
       "fouls_z         0.320000\n",
       "fouled_z        0.460769\n",
       "nsxg_z          0.129231\n",
       "dtype: float64"
      ]
     },
     "execution_count": 458,
     "metadata": {},
     "output_type": "execute_result"
    }
   ],
   "source": [
    "fra2018"
   ]
  },
  {
   "cell_type": "code",
   "execution_count": 459,
   "metadata": {},
   "outputs": [
    {
     "data": {
      "text/plain": [
       "0.7374205641097967"
      ]
     },
     "execution_count": 459,
     "metadata": {},
     "output_type": "execute_result"
    }
   ],
   "source": [
    "( 0.231538 + 0.129231) /  0.489231"
   ]
  },
  {
   "cell_type": "markdown",
   "metadata": {},
   "source": [
    "### Fouled"
   ]
  },
  {
   "cell_type": "code",
   "execution_count": 460,
   "metadata": {},
   "outputs": [
    {
     "data": {
      "text/plain": [
       "0.14076899999999998"
      ]
     },
     "execution_count": 460,
     "metadata": {},
     "output_type": "execute_result"
    }
   ],
   "source": [
    ".460769 - .320000"
   ]
  },
  {
   "cell_type": "code",
   "execution_count": 461,
   "metadata": {},
   "outputs": [],
   "source": [
    "new_row = {'Country': 'France', 'Year': 2018, 'goals_z': 0.489231, 'xg_z': 0.231538, \n",
    "           'boxtouches_z': 0.189231, 'progpasses_z': -0.039231, 'progruns_z': 0.080769, \n",
    "           'new_xg': 0.7374205, 'Fouled': 0.1407689, 'results': 1}\n",
    "\n",
    "stats_df = stats_df.append(new_row, ignore_index=True)"
   ]
  },
  {
   "cell_type": "markdown",
   "metadata": {},
   "source": [
    "# Denmark"
   ]
  },
  {
   "cell_type": "code",
   "execution_count": 462,
   "metadata": {},
   "outputs": [],
   "source": [
    "den = ['Denmark']"
   ]
  },
  {
   "cell_type": "code",
   "execution_count": 463,
   "metadata": {},
   "outputs": [],
   "source": [
    "den_year = comparisons.loc[comparisons[\"team\"].isin(den)]"
   ]
  },
  {
   "cell_type": "code",
   "execution_count": 464,
   "metadata": {},
   "outputs": [],
   "source": [
    "den2010year = den_year.loc[den_year[\"season\"].isin(year2010)]"
   ]
  },
  {
   "cell_type": "code",
   "execution_count": 465,
   "metadata": {},
   "outputs": [],
   "source": [
    "den2010xg = den2010year.sort_values(by=[\"xg_z\"], ascending=False)"
   ]
  },
  {
   "cell_type": "code",
   "execution_count": 466,
   "metadata": {},
   "outputs": [],
   "source": [
    "den2010xg13 = den2010xg.head(13)"
   ]
  },
  {
   "cell_type": "code",
   "execution_count": 467,
   "metadata": {},
   "outputs": [],
   "source": [
    "den2010xg13 = den2010xg13.drop(columns=[ 'season', 'team'])\n"
   ]
  },
  {
   "cell_type": "code",
   "execution_count": 468,
   "metadata": {},
   "outputs": [],
   "source": [
    "den2010 = den2010xg13.mean()"
   ]
  },
  {
   "cell_type": "code",
   "execution_count": 469,
   "metadata": {},
   "outputs": [
    {
     "data": {
      "text/plain": [
       "goals_z         0.133077\n",
       "xg_z            0.533846\n",
       "boxtouches_z    0.444615\n",
       "progpasses_z   -0.306154\n",
       "progruns_z      0.104615\n",
       "fouls_z         0.151538\n",
       "fouled_z       -0.211538\n",
       "nsxg_z         -0.123846\n",
       "dtype: float64"
      ]
     },
     "execution_count": 469,
     "metadata": {},
     "output_type": "execute_result"
    }
   ],
   "source": [
    "den2010"
   ]
  },
  {
   "cell_type": "code",
   "execution_count": 470,
   "metadata": {},
   "outputs": [
    {
     "data": {
      "text/plain": [
       "3.08092307461094"
      ]
     },
     "execution_count": 470,
     "metadata": {},
     "output_type": "execute_result"
    }
   ],
   "source": [
    "(  0.533846 + -0.123846) /  0.133077"
   ]
  },
  {
   "cell_type": "markdown",
   "metadata": {},
   "source": [
    "# Fouled"
   ]
  },
  {
   "cell_type": "code",
   "execution_count": 471,
   "metadata": {},
   "outputs": [
    {
     "data": {
      "text/plain": [
       "-0.363076"
      ]
     },
     "execution_count": 471,
     "metadata": {},
     "output_type": "execute_result"
    }
   ],
   "source": [
    "-0.211538 -  0.151538"
   ]
  },
  {
   "cell_type": "code",
   "execution_count": 472,
   "metadata": {},
   "outputs": [],
   "source": [
    "new_row = {'Country': 'Denmark', 'Year': 2010, 'goals_z': 0.133077, 'xg_z': 0.533846, \n",
    "           'boxtouches_z': 0.444615, 'progpasses_z':-0.306154, 'progruns_z':0.104615, \n",
    "           'new_xg': 3.080923, 'Fouled': -0.363076, 'results': 32}\n",
    "\n",
    "stats_df = stats_df.append(new_row, ignore_index=True)"
   ]
  },
  {
   "cell_type": "markdown",
   "metadata": {},
   "source": [
    "## 2014 NA"
   ]
  },
  {
   "cell_type": "markdown",
   "metadata": {},
   "source": [
    "## 2018"
   ]
  },
  {
   "cell_type": "code",
   "execution_count": 473,
   "metadata": {},
   "outputs": [],
   "source": [
    "den2018year = den_year.loc[den_year[\"season\"].isin(year2018)]"
   ]
  },
  {
   "cell_type": "code",
   "execution_count": 474,
   "metadata": {},
   "outputs": [],
   "source": [
    "den2018xg = den2018year.sort_values(by=[\"xg_z\"], ascending=False)"
   ]
  },
  {
   "cell_type": "code",
   "execution_count": 475,
   "metadata": {},
   "outputs": [],
   "source": [
    "den2018xg13 = den2018xg.head(13)"
   ]
  },
  {
   "cell_type": "code",
   "execution_count": 476,
   "metadata": {},
   "outputs": [],
   "source": [
    "den2018xg13 = den2018xg13.drop(columns=[ 'season', 'team', ])\n"
   ]
  },
  {
   "cell_type": "code",
   "execution_count": 477,
   "metadata": {},
   "outputs": [],
   "source": [
    "den2018 = den2018xg13.mean()"
   ]
  },
  {
   "cell_type": "code",
   "execution_count": 478,
   "metadata": {},
   "outputs": [
    {
     "data": {
      "text/plain": [
       "goals_z        -0.053077\n",
       "xg_z           -0.192308\n",
       "boxtouches_z    0.065385\n",
       "progpasses_z   -0.263846\n",
       "progruns_z     -0.393077\n",
       "fouls_z        -0.046154\n",
       "fouled_z       -0.413077\n",
       "nsxg_z         -0.019231\n",
       "dtype: float64"
      ]
     },
     "execution_count": 478,
     "metadata": {},
     "output_type": "execute_result"
    }
   ],
   "source": [
    "den2018"
   ]
  },
  {
   "cell_type": "code",
   "execution_count": 479,
   "metadata": {},
   "outputs": [
    {
     "data": {
      "text/plain": [
       "3.985511615200558"
      ]
     },
     "execution_count": 479,
     "metadata": {},
     "output_type": "execute_result"
    }
   ],
   "source": [
    "(-0.192308 + -0.019231) / -0.053077"
   ]
  },
  {
   "cell_type": "markdown",
   "metadata": {},
   "source": [
    "### FOULED"
   ]
  },
  {
   "cell_type": "code",
   "execution_count": 480,
   "metadata": {},
   "outputs": [
    {
     "data": {
      "text/plain": [
       "-0.366923"
      ]
     },
     "execution_count": 480,
     "metadata": {},
     "output_type": "execute_result"
    }
   ],
   "source": [
    "-0.413077 - -0.046154"
   ]
  },
  {
   "cell_type": "code",
   "execution_count": 481,
   "metadata": {},
   "outputs": [],
   "source": [
    "new_row = {'Country': 'Denmark', 'Year': 2018, 'goals_z':-0.053077, 'xg_z':-0.192308, \n",
    "           'boxtouches_z':0.065385, 'progpasses_z':-0.263846, 'progruns_z':-0.393077, \n",
    "           'new_xg': 3.9855116, 'Fouled': -0.366923, 'results': 16}\n",
    "\n",
    "stats_df = stats_df.append(new_row, ignore_index=True)"
   ]
  },
  {
   "cell_type": "markdown",
   "metadata": {},
   "source": [
    "# Australia"
   ]
  },
  {
   "cell_type": "code",
   "execution_count": 482,
   "metadata": {},
   "outputs": [],
   "source": [
    "aus = ['Australia']"
   ]
  },
  {
   "cell_type": "code",
   "execution_count": 483,
   "metadata": {},
   "outputs": [],
   "source": [
    "aus_year = comparisons.loc[comparisons[\"team\"].isin(aus)]"
   ]
  },
  {
   "cell_type": "code",
   "execution_count": 484,
   "metadata": {},
   "outputs": [],
   "source": [
    "aus2010year = aus_year.loc[aus_year[\"season\"].isin(year2010)]"
   ]
  },
  {
   "cell_type": "code",
   "execution_count": 485,
   "metadata": {},
   "outputs": [],
   "source": [
    "aus2010xg = aus2010year.sort_values(by=[\"xg_z\"], ascending=False)"
   ]
  },
  {
   "cell_type": "code",
   "execution_count": 486,
   "metadata": {},
   "outputs": [],
   "source": [
    "aus2010xg13 = aus2010xg.head(13)"
   ]
  },
  {
   "cell_type": "code",
   "execution_count": 487,
   "metadata": {},
   "outputs": [],
   "source": [
    "aus2010xg13 = aus2010xg13.drop(columns=[ 'season', 'team'])\n"
   ]
  },
  {
   "cell_type": "code",
   "execution_count": 488,
   "metadata": {},
   "outputs": [],
   "source": [
    "aus2010 = aus2010xg13.mean()"
   ]
  },
  {
   "cell_type": "code",
   "execution_count": 489,
   "metadata": {},
   "outputs": [
    {
     "data": {
      "text/plain": [
       "goals_z         0.132308\n",
       "xg_z            0.247692\n",
       "boxtouches_z    0.487692\n",
       "progpasses_z    0.114615\n",
       "progruns_z     -0.256154\n",
       "fouls_z         0.430769\n",
       "fouled_z       -0.116154\n",
       "nsxg_z          0.187692\n",
       "dtype: float64"
      ]
     },
     "execution_count": 489,
     "metadata": {},
     "output_type": "execute_result"
    }
   ],
   "source": [
    "aus2010"
   ]
  },
  {
   "cell_type": "code",
   "execution_count": 490,
   "metadata": {},
   "outputs": [
    {
     "data": {
      "text/plain": [
       "3.290685370499138"
      ]
     },
     "execution_count": 490,
     "metadata": {},
     "output_type": "execute_result"
    }
   ],
   "source": [
    "( 0.247692 + 0.187692) /  0.132308"
   ]
  },
  {
   "cell_type": "markdown",
   "metadata": {},
   "source": [
    "### Fouled"
   ]
  },
  {
   "cell_type": "code",
   "execution_count": 491,
   "metadata": {},
   "outputs": [
    {
     "data": {
      "text/plain": [
       "-0.546923"
      ]
     },
     "execution_count": 491,
     "metadata": {},
     "output_type": "execute_result"
    }
   ],
   "source": [
    "-0.116154 - 0.430769"
   ]
  },
  {
   "cell_type": "code",
   "execution_count": 492,
   "metadata": {},
   "outputs": [],
   "source": [
    "new_row = {'Country': 'Australia', 'Year': 2010, 'goals_z':0.132308, 'xg_z':0.247692, \n",
    "           'boxtouches_z':0.487692, 'progpasses_z':0.114615, 'progruns_z':-0.256154, \n",
    "           'new_xg': 3.29068, 'Fouled': -0.546923, 'results': 32}\n",
    "\n",
    "stats_df = stats_df.append(new_row, ignore_index=True)"
   ]
  },
  {
   "cell_type": "markdown",
   "metadata": {},
   "source": [
    "## 2014"
   ]
  },
  {
   "cell_type": "code",
   "execution_count": 493,
   "metadata": {},
   "outputs": [],
   "source": [
    "aus2014year = aus_year.loc[aus_year[\"season\"].isin(year2014)]"
   ]
  },
  {
   "cell_type": "code",
   "execution_count": 494,
   "metadata": {},
   "outputs": [],
   "source": [
    "aus2014xg = aus2014year.sort_values(by=[\"xg_z\"], ascending=False)"
   ]
  },
  {
   "cell_type": "code",
   "execution_count": 495,
   "metadata": {},
   "outputs": [],
   "source": [
    "aus2014xg13 = aus2014xg.head(13)"
   ]
  },
  {
   "cell_type": "code",
   "execution_count": 496,
   "metadata": {},
   "outputs": [],
   "source": [
    "aus2014xg13 = aus2014xg13.drop(columns=[ 'season', 'team'])\n"
   ]
  },
  {
   "cell_type": "code",
   "execution_count": 497,
   "metadata": {},
   "outputs": [],
   "source": [
    "aus2014 = aus2014xg13.mean()"
   ]
  },
  {
   "cell_type": "code",
   "execution_count": 498,
   "metadata": {},
   "outputs": [
    {
     "data": {
      "text/plain": [
       "goals_z         0.075385\n",
       "xg_z            0.094615\n",
       "boxtouches_z   -0.041538\n",
       "progpasses_z    0.036154\n",
       "progruns_z      0.089231\n",
       "fouls_z         0.510000\n",
       "fouled_z        0.002308\n",
       "nsxg_z         -0.113077\n",
       "dtype: float64"
      ]
     },
     "execution_count": 498,
     "metadata": {},
     "output_type": "execute_result"
    }
   ],
   "source": [
    "aus2014"
   ]
  },
  {
   "cell_type": "code",
   "execution_count": 499,
   "metadata": {},
   "outputs": [
    {
     "data": {
      "text/plain": [
       "-0.24490283212840744"
      ]
     },
     "execution_count": 499,
     "metadata": {},
     "output_type": "execute_result"
    }
   ],
   "source": [
    "( 0.094615 + -0.113077) /  0.075385"
   ]
  },
  {
   "cell_type": "markdown",
   "metadata": {},
   "source": [
    "### Fouled"
   ]
  },
  {
   "cell_type": "code",
   "execution_count": 500,
   "metadata": {},
   "outputs": [
    {
     "data": {
      "text/plain": [
       "-0.507692"
      ]
     },
     "execution_count": 500,
     "metadata": {},
     "output_type": "execute_result"
    }
   ],
   "source": [
    ".002308 - .510000"
   ]
  },
  {
   "cell_type": "code",
   "execution_count": 501,
   "metadata": {},
   "outputs": [],
   "source": [
    "new_row = {'Country': 'Australia', 'Year': 2014, 'goals_z':0.075385, 'xg_z':0.094615, \n",
    "           'boxtouches_z':-0.041538, 'progpasses_z':0.036154, 'progruns_z':0.089231, \n",
    "           'new_xg': -0.2449028, 'Fouled': -0.507692, 'results': 32}\n",
    "\n",
    "stats_df = stats_df.append(new_row, ignore_index=True)"
   ]
  },
  {
   "cell_type": "markdown",
   "metadata": {},
   "source": [
    "## 2018"
   ]
  },
  {
   "cell_type": "code",
   "execution_count": 502,
   "metadata": {},
   "outputs": [],
   "source": [
    "aus2018year = aus_year.loc[aus_year[\"season\"].isin(year2018)]"
   ]
  },
  {
   "cell_type": "code",
   "execution_count": 503,
   "metadata": {},
   "outputs": [],
   "source": [
    "aus2018xg = aus2018year.sort_values(by=[\"xg_z\"], ascending=False)"
   ]
  },
  {
   "cell_type": "code",
   "execution_count": 504,
   "metadata": {},
   "outputs": [],
   "source": [
    "aus2018xg13 = aus2018xg.head(13)"
   ]
  },
  {
   "cell_type": "code",
   "execution_count": 505,
   "metadata": {},
   "outputs": [],
   "source": [
    "aus2018xg13 = aus2018xg13.drop(columns=[ 'season', 'team'])\n"
   ]
  },
  {
   "cell_type": "code",
   "execution_count": 506,
   "metadata": {},
   "outputs": [],
   "source": [
    "aus2018 = aus2018xg13.mean()"
   ]
  },
  {
   "cell_type": "code",
   "execution_count": 507,
   "metadata": {},
   "outputs": [
    {
     "data": {
      "text/plain": [
       "goals_z        -0.066923\n",
       "xg_z            0.165385\n",
       "boxtouches_z    0.188462\n",
       "progpasses_z    0.346923\n",
       "progruns_z      0.105385\n",
       "fouls_z         0.313077\n",
       "fouled_z        0.066923\n",
       "nsxg_z          0.139231\n",
       "dtype: float64"
      ]
     },
     "execution_count": 507,
     "metadata": {},
     "output_type": "execute_result"
    }
   ],
   "source": [
    "aus2018"
   ]
  },
  {
   "cell_type": "code",
   "execution_count": 508,
   "metadata": {},
   "outputs": [
    {
     "data": {
      "text/plain": [
       "-4.551738565216742"
      ]
     },
     "execution_count": 508,
     "metadata": {},
     "output_type": "execute_result"
    }
   ],
   "source": [
    "( 0.165385 + 0.139231) /  -0.066923"
   ]
  },
  {
   "cell_type": "markdown",
   "metadata": {},
   "source": [
    "### Fouled"
   ]
  },
  {
   "cell_type": "code",
   "execution_count": 509,
   "metadata": {},
   "outputs": [
    {
     "data": {
      "text/plain": [
       "-0.24615399999999998"
      ]
     },
     "execution_count": 509,
     "metadata": {},
     "output_type": "execute_result"
    }
   ],
   "source": [
    ".066923 - .313077"
   ]
  },
  {
   "cell_type": "code",
   "execution_count": 510,
   "metadata": {},
   "outputs": [],
   "source": [
    "new_row = {'Country': 'Australia', 'Year': 2018, 'goals_z':-0.066923, 'xg_z':0.165385, \n",
    "           'boxtouches_z':0.188462, 'progpasses_z':0.346923, 'progruns_z':0.105385, \n",
    "           'new_xg': -4.5517385, 'Fouled': -0.2461539, 'results': 32}\n",
    "\n",
    "stats_df = stats_df.append(new_row, ignore_index=True)"
   ]
  },
  {
   "cell_type": "markdown",
   "metadata": {},
   "source": [
    "# Serbia"
   ]
  },
  {
   "cell_type": "code",
   "execution_count": 511,
   "metadata": {},
   "outputs": [],
   "source": [
    "ser = ['Serbia']"
   ]
  },
  {
   "cell_type": "code",
   "execution_count": 512,
   "metadata": {},
   "outputs": [],
   "source": [
    "ser_year = comparisons.loc[comparisons[\"team\"].isin(ser)]"
   ]
  },
  {
   "cell_type": "code",
   "execution_count": 513,
   "metadata": {},
   "outputs": [],
   "source": [
    "ser2010year = ser_year.loc[ser_year[\"season\"].isin(year2010)]"
   ]
  },
  {
   "cell_type": "code",
   "execution_count": 514,
   "metadata": {},
   "outputs": [],
   "source": [
    "ser2010xg = ser2010year.sort_values(by=[\"xg_z\"], ascending=False)"
   ]
  },
  {
   "cell_type": "code",
   "execution_count": 515,
   "metadata": {},
   "outputs": [],
   "source": [
    "ser2010xg13 = ser2010xg.head(13)"
   ]
  },
  {
   "cell_type": "code",
   "execution_count": 516,
   "metadata": {},
   "outputs": [],
   "source": [
    "ser2010xg13 = ser2010xg13.drop(columns=[ 'season', 'team'])\n"
   ]
  },
  {
   "cell_type": "code",
   "execution_count": 517,
   "metadata": {},
   "outputs": [],
   "source": [
    "ser2010 = ser2010xg13.mean()"
   ]
  },
  {
   "cell_type": "code",
   "execution_count": 518,
   "metadata": {},
   "outputs": [
    {
     "data": {
      "text/plain": [
       "goals_z        -0.044615\n",
       "xg_z            0.218462\n",
       "boxtouches_z    0.270769\n",
       "progpasses_z   -0.226923\n",
       "progruns_z      0.533077\n",
       "fouls_z        -0.252308\n",
       "fouled_z        0.616154\n",
       "nsxg_z          0.246154\n",
       "dtype: float64"
      ]
     },
     "execution_count": 518,
     "metadata": {},
     "output_type": "execute_result"
    }
   ],
   "source": [
    "ser2010"
   ]
  },
  {
   "cell_type": "code",
   "execution_count": 519,
   "metadata": {},
   "outputs": [
    {
     "data": {
      "text/plain": [
       "-10.41389667152303"
      ]
     },
     "execution_count": 519,
     "metadata": {},
     "output_type": "execute_result"
    }
   ],
   "source": [
    "(0.218462 + 0.246154) /  -0.044615"
   ]
  },
  {
   "cell_type": "markdown",
   "metadata": {},
   "source": [
    "### Fouled"
   ]
  },
  {
   "cell_type": "code",
   "execution_count": 520,
   "metadata": {},
   "outputs": [
    {
     "data": {
      "text/plain": [
       "0.868462"
      ]
     },
     "execution_count": 520,
     "metadata": {},
     "output_type": "execute_result"
    }
   ],
   "source": [
    "0.616154 - -0.252308"
   ]
  },
  {
   "cell_type": "code",
   "execution_count": 521,
   "metadata": {},
   "outputs": [],
   "source": [
    "new_row = {'Country': 'Serbia', 'Year': 2010, 'goals_z':-0.044615, 'xg_z':0.218462, \n",
    "           'boxtouches_z':0.270769, 'progpasses_z':-0.226923, 'progruns_z':0.533077, \n",
    "           'new_xg': -10.41389, 'Fouled': 0.868462, 'results': 32}\n",
    "\n",
    "stats_df = stats_df.append(new_row, ignore_index=True)"
   ]
  },
  {
   "cell_type": "markdown",
   "metadata": {},
   "source": [
    "## 2014 NA"
   ]
  },
  {
   "cell_type": "markdown",
   "metadata": {},
   "source": [
    "## 2018"
   ]
  },
  {
   "cell_type": "code",
   "execution_count": 522,
   "metadata": {},
   "outputs": [],
   "source": [
    "ser2018year = ser_year.loc[ser_year[\"season\"].isin(year2018)]"
   ]
  },
  {
   "cell_type": "code",
   "execution_count": 523,
   "metadata": {},
   "outputs": [],
   "source": [
    "ser2018xg = ser2018year.sort_values(by=[\"xg_z\"], ascending=False)"
   ]
  },
  {
   "cell_type": "code",
   "execution_count": 524,
   "metadata": {},
   "outputs": [],
   "source": [
    "ser2018xg13 = ser2018xg.head(13)"
   ]
  },
  {
   "cell_type": "code",
   "execution_count": 525,
   "metadata": {},
   "outputs": [],
   "source": [
    "ser2018xg13 = ser2018xg13.drop(columns=[ 'season', 'team'])\n"
   ]
  },
  {
   "cell_type": "code",
   "execution_count": 526,
   "metadata": {},
   "outputs": [],
   "source": [
    "ser2018 = ser2018xg13.mean()"
   ]
  },
  {
   "cell_type": "code",
   "execution_count": 527,
   "metadata": {},
   "outputs": [
    {
     "data": {
      "text/plain": [
       "goals_z        -0.066154\n",
       "xg_z            0.076154\n",
       "boxtouches_z    0.673846\n",
       "progpasses_z    0.183077\n",
       "progruns_z      0.358462\n",
       "fouls_z         0.575385\n",
       "fouled_z        0.330000\n",
       "nsxg_z          0.600000\n",
       "dtype: float64"
      ]
     },
     "execution_count": 527,
     "metadata": {},
     "output_type": "execute_result"
    }
   ],
   "source": [
    "ser2018"
   ]
  },
  {
   "cell_type": "code",
   "execution_count": 528,
   "metadata": {},
   "outputs": [
    {
     "data": {
      "text/plain": [
       "-10.220908788584211"
      ]
     },
     "execution_count": 528,
     "metadata": {},
     "output_type": "execute_result"
    }
   ],
   "source": [
    "(0.076154 + 0.600000) /  -0.066154"
   ]
  },
  {
   "cell_type": "markdown",
   "metadata": {},
   "source": [
    "### Fouled"
   ]
  },
  {
   "cell_type": "code",
   "execution_count": 529,
   "metadata": {},
   "outputs": [
    {
     "data": {
      "text/plain": [
       "-0.24538500000000002"
      ]
     },
     "execution_count": 529,
     "metadata": {},
     "output_type": "execute_result"
    }
   ],
   "source": [
    ".330000 - .575385"
   ]
  },
  {
   "cell_type": "code",
   "execution_count": 530,
   "metadata": {},
   "outputs": [],
   "source": [
    "new_row = {'Country': 'Serbia', 'Year': 2018, 'goals_z':-0.066154, 'xg_z':0.076154, \n",
    "           'boxtouches_z':0.673846, 'progpasses_z':0.183077, 'progruns_z':0.358462, \n",
    "           'new_xg': -10.220908, 'Fouled': -0.24538500, 'results': 32}\n",
    "\n",
    "stats_df = stats_df.append(new_row, ignore_index=True)"
   ]
  },
  {
   "cell_type": "markdown",
   "metadata": {},
   "source": [
    "# Cameroon"
   ]
  },
  {
   "cell_type": "code",
   "execution_count": 531,
   "metadata": {},
   "outputs": [],
   "source": [
    "cam = ['Cameroon']"
   ]
  },
  {
   "cell_type": "code",
   "execution_count": 532,
   "metadata": {},
   "outputs": [],
   "source": [
    "cam_year = comparisons.loc[comparisons[\"team\"].isin(cam)]"
   ]
  },
  {
   "cell_type": "code",
   "execution_count": 533,
   "metadata": {},
   "outputs": [],
   "source": [
    "cam2010year = cam_year.loc[cam_year[\"season\"].isin(year2010)]"
   ]
  },
  {
   "cell_type": "code",
   "execution_count": 534,
   "metadata": {},
   "outputs": [],
   "source": [
    "cam2010xg = cam2010year.sort_values(by=[\"xg_z\"], ascending=False)"
   ]
  },
  {
   "cell_type": "code",
   "execution_count": 535,
   "metadata": {},
   "outputs": [],
   "source": [
    "cam2010xg13 = cam2010xg.head(13)"
   ]
  },
  {
   "cell_type": "code",
   "execution_count": 536,
   "metadata": {},
   "outputs": [],
   "source": [
    "cam2010xg13 = cam2010xg13.drop(columns=[ 'season', 'team'])\n"
   ]
  },
  {
   "cell_type": "code",
   "execution_count": 537,
   "metadata": {},
   "outputs": [],
   "source": [
    "cam2010 = cam2010xg13.mean()"
   ]
  },
  {
   "cell_type": "code",
   "execution_count": 538,
   "metadata": {},
   "outputs": [
    {
     "data": {
      "text/plain": [
       "goals_z        -0.045385\n",
       "xg_z            0.442308\n",
       "boxtouches_z    0.630769\n",
       "progpasses_z   -0.158462\n",
       "progruns_z     -0.239231\n",
       "fouls_z         0.244615\n",
       "fouled_z       -0.149231\n",
       "nsxg_z          0.477692\n",
       "dtype: float64"
      ]
     },
     "execution_count": 538,
     "metadata": {},
     "output_type": "execute_result"
    }
   ],
   "source": [
    "cam2010"
   ]
  },
  {
   "cell_type": "code",
   "execution_count": 539,
   "metadata": {},
   "outputs": [
    {
     "data": {
      "text/plain": [
       "-20.2710146524182"
      ]
     },
     "execution_count": 539,
     "metadata": {},
     "output_type": "execute_result"
    }
   ],
   "source": [
    "(0.442308 + 0.477692) /  -0.045385"
   ]
  },
  {
   "cell_type": "markdown",
   "metadata": {},
   "source": [
    "### Fouled"
   ]
  },
  {
   "cell_type": "code",
   "execution_count": 540,
   "metadata": {},
   "outputs": [
    {
     "data": {
      "text/plain": [
       "-0.39384600000000003"
      ]
     },
     "execution_count": 540,
     "metadata": {},
     "output_type": "execute_result"
    }
   ],
   "source": [
    "-0.149231 - 0.244615"
   ]
  },
  {
   "cell_type": "code",
   "execution_count": 541,
   "metadata": {},
   "outputs": [],
   "source": [
    "new_row = {'Country': 'Cameroon', 'Year': 2010, 'goals_z':-0.045385, 'xg_z':0.442308, \n",
    "           'boxtouches_z':0.630769, 'progpasses_z':-0.158462, 'progruns_z': -0.239231, \n",
    "           'new_xg': -20.271014, 'Fouled': -0.39384, 'results': 32}\n",
    "\n",
    "stats_df = stats_df.append(new_row, ignore_index=True)"
   ]
  },
  {
   "cell_type": "markdown",
   "metadata": {},
   "source": [
    "## 2014"
   ]
  },
  {
   "cell_type": "code",
   "execution_count": 542,
   "metadata": {},
   "outputs": [],
   "source": [
    "cam2014year = cam_year.loc[cam_year[\"season\"].isin(year2014)]"
   ]
  },
  {
   "cell_type": "code",
   "execution_count": 543,
   "metadata": {},
   "outputs": [],
   "source": [
    "cam2014xg = cam2014year.sort_values(by=[\"xg_z\"], ascending=False)"
   ]
  },
  {
   "cell_type": "code",
   "execution_count": 544,
   "metadata": {},
   "outputs": [],
   "source": [
    "cam2014xg13 = cam2014xg.head(13)"
   ]
  },
  {
   "cell_type": "code",
   "execution_count": 545,
   "metadata": {},
   "outputs": [],
   "source": [
    "cam2014xg13 = cam2014xg13.drop(columns=[ 'season', 'team'])\n"
   ]
  },
  {
   "cell_type": "code",
   "execution_count": 546,
   "metadata": {},
   "outputs": [],
   "source": [
    "cam2014 = cam2014xg13.mean()"
   ]
  },
  {
   "cell_type": "code",
   "execution_count": 547,
   "metadata": {},
   "outputs": [
    {
     "data": {
      "text/plain": [
       "goals_z        -0.261538\n",
       "xg_z           -0.067692\n",
       "boxtouches_z    0.203077\n",
       "progpasses_z   -0.293846\n",
       "progruns_z     -0.086923\n",
       "fouls_z        -0.030769\n",
       "fouled_z       -0.130000\n",
       "nsxg_z         -0.094615\n",
       "dtype: float64"
      ]
     },
     "execution_count": 547,
     "metadata": {},
     "output_type": "execute_result"
    }
   ],
   "source": [
    "cam2014"
   ]
  },
  {
   "cell_type": "code",
   "execution_count": 548,
   "metadata": {},
   "outputs": [
    {
     "data": {
      "text/plain": [
       "0.6205866833882648"
      ]
     },
     "execution_count": 548,
     "metadata": {},
     "output_type": "execute_result"
    }
   ],
   "source": [
    "(-0.067692 + -0.094615) /  -0.261538"
   ]
  },
  {
   "cell_type": "markdown",
   "metadata": {},
   "source": [
    "### Fouled"
   ]
  },
  {
   "cell_type": "code",
   "execution_count": 549,
   "metadata": {},
   "outputs": [
    {
     "data": {
      "text/plain": [
       "-0.099231"
      ]
     },
     "execution_count": 549,
     "metadata": {},
     "output_type": "execute_result"
    }
   ],
   "source": [
    "-0.130000 - -0.030769"
   ]
  },
  {
   "cell_type": "code",
   "execution_count": 550,
   "metadata": {},
   "outputs": [],
   "source": [
    "new_row = {'Country': 'Cameroon', 'Year': 2014, 'goals_z':-0.261538, 'xg_z':-0.067692,  \n",
    "           'boxtouches_z':0.203077, 'progpasses_z':-0.293846, 'progruns_z':-0.086923, \n",
    "           'new_xg': 0.6205866, 'Fouled': -0.099231, 'results': 32}\n",
    "\n",
    "stats_df = stats_df.append(new_row, ignore_index=True)"
   ]
  },
  {
   "cell_type": "markdown",
   "metadata": {},
   "source": [
    "## 2018 NA"
   ]
  },
  {
   "cell_type": "markdown",
   "metadata": {},
   "source": [
    "# Ghana"
   ]
  },
  {
   "cell_type": "code",
   "execution_count": 551,
   "metadata": {},
   "outputs": [],
   "source": [
    "gha = ['Ghana']"
   ]
  },
  {
   "cell_type": "code",
   "execution_count": 552,
   "metadata": {},
   "outputs": [],
   "source": [
    "gha_year = comparisons.loc[comparisons[\"team\"].isin(gha)]"
   ]
  },
  {
   "cell_type": "code",
   "execution_count": 553,
   "metadata": {},
   "outputs": [],
   "source": [
    "gha2010year = gha_year.loc[gha_year[\"season\"].isin(year2010)]"
   ]
  },
  {
   "cell_type": "code",
   "execution_count": 554,
   "metadata": {},
   "outputs": [],
   "source": [
    "gha2010xg = gha2010year.sort_values(by=[\"xg_z\"], ascending=False)"
   ]
  },
  {
   "cell_type": "code",
   "execution_count": 555,
   "metadata": {},
   "outputs": [],
   "source": [
    "gha2010xg13 = gha2010xg.head(13)"
   ]
  },
  {
   "cell_type": "code",
   "execution_count": 556,
   "metadata": {},
   "outputs": [],
   "source": [
    "gha2010xg13 = gha2010xg13.drop(columns=[ 'season', 'team'])\n"
   ]
  },
  {
   "cell_type": "code",
   "execution_count": 557,
   "metadata": {},
   "outputs": [],
   "source": [
    "gha2010 = gha2010xg13.mean()"
   ]
  },
  {
   "cell_type": "code",
   "execution_count": 558,
   "metadata": {},
   "outputs": [
    {
     "data": {
      "text/plain": [
       "goals_z         0.069231\n",
       "xg_z            0.626923\n",
       "boxtouches_z    0.263846\n",
       "progpasses_z   -0.320000\n",
       "progruns_z      0.018462\n",
       "fouls_z         0.139231\n",
       "fouled_z       -0.248462\n",
       "nsxg_z          0.204615\n",
       "dtype: float64"
      ]
     },
     "execution_count": 558,
     "metadata": {},
     "output_type": "execute_result"
    }
   ],
   "source": [
    "gha2010"
   ]
  },
  {
   "cell_type": "code",
   "execution_count": 559,
   "metadata": {},
   "outputs": [
    {
     "data": {
      "text/plain": [
       "12.011064407563087"
      ]
     },
     "execution_count": 559,
     "metadata": {},
     "output_type": "execute_result"
    }
   ],
   "source": [
    "(0.626923 + 0.204615) /  0.069231"
   ]
  },
  {
   "cell_type": "markdown",
   "metadata": {},
   "source": [
    "### Fouled"
   ]
  },
  {
   "cell_type": "code",
   "execution_count": 560,
   "metadata": {},
   "outputs": [
    {
     "data": {
      "text/plain": [
       "-0.38769299999999995"
      ]
     },
     "execution_count": 560,
     "metadata": {},
     "output_type": "execute_result"
    }
   ],
   "source": [
    "-0.248462 - 0.139231"
   ]
  },
  {
   "cell_type": "code",
   "execution_count": 561,
   "metadata": {},
   "outputs": [],
   "source": [
    "new_row = {'Country': 'Ghana', 'Year': 2010, 'goals_z':0.069231, 'xg_z':0.626923,\n",
    "           'boxtouches_z':0.263846, 'progpasses_z':-0.320000, 'progruns_z':0.018462, \n",
    "           'new_xg': 12.01106, 'Fouled': -0.387692, 'results': 8}\n",
    "\n",
    "stats_df = stats_df.append(new_row, ignore_index=True)"
   ]
  },
  {
   "cell_type": "markdown",
   "metadata": {},
   "source": [
    "## 2014"
   ]
  },
  {
   "cell_type": "code",
   "execution_count": 562,
   "metadata": {},
   "outputs": [],
   "source": [
    "gha2014year = gha_year.loc[gha_year[\"season\"].isin(year2014)]"
   ]
  },
  {
   "cell_type": "code",
   "execution_count": 563,
   "metadata": {},
   "outputs": [],
   "source": [
    "gha2014xg = gha2014year.sort_values(by=[\"xg_z\"], ascending=False)"
   ]
  },
  {
   "cell_type": "code",
   "execution_count": 564,
   "metadata": {},
   "outputs": [],
   "source": [
    "gha2014xg13 = gha2014xg.head(13)"
   ]
  },
  {
   "cell_type": "code",
   "execution_count": 565,
   "metadata": {},
   "outputs": [],
   "source": [
    "gha2014xg13 = gha2014xg13.drop(columns=[ 'season', 'team'])\n"
   ]
  },
  {
   "cell_type": "code",
   "execution_count": 566,
   "metadata": {},
   "outputs": [],
   "source": [
    "gha2014 = gha2014xg13.mean()"
   ]
  },
  {
   "cell_type": "code",
   "execution_count": 567,
   "metadata": {},
   "outputs": [
    {
     "data": {
      "text/plain": [
       "goals_z         0.243846\n",
       "xg_z            0.314615\n",
       "boxtouches_z    0.557692\n",
       "progpasses_z    0.030769\n",
       "progruns_z      0.507692\n",
       "fouls_z         0.006154\n",
       "fouled_z        0.300000\n",
       "nsxg_z          0.428462\n",
       "dtype: float64"
      ]
     },
     "execution_count": 567,
     "metadata": {},
     "output_type": "execute_result"
    }
   ],
   "source": [
    "gha2014"
   ]
  },
  {
   "cell_type": "code",
   "execution_count": 568,
   "metadata": {},
   "outputs": [
    {
     "data": {
      "text/plain": [
       "3.0473208500447"
      ]
     },
     "execution_count": 568,
     "metadata": {},
     "output_type": "execute_result"
    }
   ],
   "source": [
    "(0.314615 + 0.428462) /  0.243846"
   ]
  },
  {
   "cell_type": "markdown",
   "metadata": {},
   "source": [
    "### Fouled"
   ]
  },
  {
   "cell_type": "code",
   "execution_count": 569,
   "metadata": {},
   "outputs": [
    {
     "data": {
      "text/plain": [
       "0.293846"
      ]
     },
     "execution_count": 569,
     "metadata": {},
     "output_type": "execute_result"
    }
   ],
   "source": [
    ".300000 - .006154"
   ]
  },
  {
   "cell_type": "code",
   "execution_count": 570,
   "metadata": {},
   "outputs": [],
   "source": [
    "new_row = {'Country': 'Ghana', 'Year': 2014, 'goals_z':0.243846, 'xg_z':0.314615, \n",
    "           'boxtouches_z':0.557692, 'progpasses_z':0.030769, 'progruns_z':0.507692, \n",
    "           'new_xg': 3.047320, 'Fouled': 0.293846, 'results': 32}\n",
    "\n",
    "stats_df = stats_df.append(new_row, ignore_index=True)"
   ]
  },
  {
   "cell_type": "markdown",
   "metadata": {},
   "source": [
    "## 2018 NA"
   ]
  },
  {
   "cell_type": "markdown",
   "metadata": {},
   "source": [
    "# Korean Republic\n",
    "\n",
    "korea not in team, need to check it out"
   ]
  },
  {
   "cell_type": "code",
   "execution_count": 571,
   "metadata": {},
   "outputs": [],
   "source": [
    "kor = ['South Korea']"
   ]
  },
  {
   "cell_type": "code",
   "execution_count": 572,
   "metadata": {},
   "outputs": [],
   "source": [
    "kor_year = comparisons.loc[comparisons[\"team\"].isin(kor)]"
   ]
  },
  {
   "cell_type": "code",
   "execution_count": 573,
   "metadata": {},
   "outputs": [
    {
     "data": {
      "text/html": [
       "<div>\n",
       "<style scoped>\n",
       "    .dataframe tbody tr th:only-of-type {\n",
       "        vertical-align: middle;\n",
       "    }\n",
       "\n",
       "    .dataframe tbody tr th {\n",
       "        vertical-align: top;\n",
       "    }\n",
       "\n",
       "    .dataframe thead th {\n",
       "        text-align: right;\n",
       "    }\n",
       "</style>\n",
       "<table border=\"1\" class=\"dataframe\">\n",
       "  <thead>\n",
       "    <tr style=\"text-align: right;\">\n",
       "      <th></th>\n",
       "      <th>season</th>\n",
       "      <th>team</th>\n",
       "      <th>goals_z</th>\n",
       "      <th>xg_z</th>\n",
       "      <th>boxtouches_z</th>\n",
       "      <th>progpasses_z</th>\n",
       "      <th>progruns_z</th>\n",
       "      <th>fouls_z</th>\n",
       "      <th>fouled_z</th>\n",
       "      <th>nsxg_z</th>\n",
       "    </tr>\n",
       "  </thead>\n",
       "  <tbody>\n",
       "  </tbody>\n",
       "</table>\n",
       "</div>"
      ],
      "text/plain": [
       "Empty DataFrame\n",
       "Columns: [season, team, goals_z, xg_z, boxtouches_z, progpasses_z, progruns_z, fouls_z, fouled_z, nsxg_z]\n",
       "Index: []"
      ]
     },
     "execution_count": 573,
     "metadata": {},
     "output_type": "execute_result"
    }
   ],
   "source": [
    "kor_year"
   ]
  },
  {
   "cell_type": "markdown",
   "metadata": {},
   "source": [
    "# Iran"
   ]
  },
  {
   "cell_type": "markdown",
   "metadata": {},
   "source": [
    "## 2010 NA"
   ]
  },
  {
   "cell_type": "markdown",
   "metadata": {},
   "source": [
    "## 2014"
   ]
  },
  {
   "cell_type": "code",
   "execution_count": 574,
   "metadata": {},
   "outputs": [],
   "source": [
    "ira = ['Iran']"
   ]
  },
  {
   "cell_type": "code",
   "execution_count": 575,
   "metadata": {},
   "outputs": [],
   "source": [
    "ira_year = comparisons.loc[comparisons[\"team\"].isin(ira)]"
   ]
  },
  {
   "cell_type": "code",
   "execution_count": 576,
   "metadata": {},
   "outputs": [],
   "source": [
    "ira2014year = ira_year.loc[ira_year[\"season\"].isin(year2014)]"
   ]
  },
  {
   "cell_type": "code",
   "execution_count": 577,
   "metadata": {},
   "outputs": [],
   "source": [
    "ira2014xg = ira2014year.sort_values(by=[\"xg_z\"], ascending=False)"
   ]
  },
  {
   "cell_type": "code",
   "execution_count": 578,
   "metadata": {},
   "outputs": [],
   "source": [
    "ira2014xg13 = ira2014xg.head(13)"
   ]
  },
  {
   "cell_type": "code",
   "execution_count": 579,
   "metadata": {},
   "outputs": [],
   "source": [
    "ira2014xg13 = ira2014xg13.drop(columns=[ 'season', 'team'])\n"
   ]
  },
  {
   "cell_type": "code",
   "execution_count": 580,
   "metadata": {},
   "outputs": [],
   "source": [
    "ira2014 = ira2014xg13.mean()"
   ]
  },
  {
   "cell_type": "code",
   "execution_count": 581,
   "metadata": {},
   "outputs": [
    {
     "data": {
      "text/plain": [
       "goals_z        -0.261538\n",
       "xg_z           -0.197692\n",
       "boxtouches_z   -0.108462\n",
       "progpasses_z   -0.082308\n",
       "progruns_z     -0.276923\n",
       "fouls_z         0.580769\n",
       "fouled_z        0.300769\n",
       "nsxg_z         -0.022308\n",
       "dtype: float64"
      ]
     },
     "execution_count": 581,
     "metadata": {},
     "output_type": "execute_result"
    }
   ],
   "source": [
    "ira2014"
   ]
  },
  {
   "cell_type": "code",
   "execution_count": 582,
   "metadata": {},
   "outputs": [
    {
     "data": {
      "text/plain": [
       "0.8411779550199207"
      ]
     },
     "execution_count": 582,
     "metadata": {},
     "output_type": "execute_result"
    }
   ],
   "source": [
    "(-0.197692 + -0.022308) /  -0.261538"
   ]
  },
  {
   "cell_type": "markdown",
   "metadata": {},
   "source": [
    "### FOULED\n"
   ]
  },
  {
   "cell_type": "code",
   "execution_count": 583,
   "metadata": {},
   "outputs": [
    {
     "data": {
      "text/plain": [
       "-0.27999999999999997"
      ]
     },
     "execution_count": 583,
     "metadata": {},
     "output_type": "execute_result"
    }
   ],
   "source": [
    ".300769 - .580769"
   ]
  },
  {
   "cell_type": "code",
   "execution_count": 584,
   "metadata": {},
   "outputs": [],
   "source": [
    "new_row = {'Country': 'Iran', 'Year': 2014, 'goals_z':-0.261538, 'xg_z':-0.197692, \n",
    "           'boxtouches_z':-0.108462, 'progpasses_z':-0.082308, 'progruns_z':-0.276923, \n",
    "           'new_xg': 0.8411779, 'Fouled': -0.279999, 'results': 32}\n",
    "\n",
    "stats_df = stats_df.append(new_row, ignore_index=True)"
   ]
  },
  {
   "cell_type": "markdown",
   "metadata": {},
   "source": [
    "## 2018"
   ]
  },
  {
   "cell_type": "code",
   "execution_count": 585,
   "metadata": {},
   "outputs": [],
   "source": [
    "ira2018year = ira_year.loc[ira_year[\"season\"].isin(year2018)]"
   ]
  },
  {
   "cell_type": "code",
   "execution_count": 586,
   "metadata": {},
   "outputs": [],
   "source": [
    "ira2018xg = ira2018year.sort_values(by=[\"xg_z\"], ascending=False)"
   ]
  },
  {
   "cell_type": "code",
   "execution_count": 587,
   "metadata": {},
   "outputs": [],
   "source": [
    "ira2018xg13 = ira2018xg.head(13)"
   ]
  },
  {
   "cell_type": "code",
   "execution_count": 588,
   "metadata": {},
   "outputs": [],
   "source": [
    "ira2018xg13 = ira2018xg13.drop(columns=['season', 'team'])\n"
   ]
  },
  {
   "cell_type": "code",
   "execution_count": 589,
   "metadata": {},
   "outputs": [],
   "source": [
    "ira2018 = ira2018xg13.mean()"
   ]
  },
  {
   "cell_type": "code",
   "execution_count": 590,
   "metadata": {},
   "outputs": [
    {
     "data": {
      "text/plain": [
       "goals_z        -0.243077\n",
       "xg_z            0.063846\n",
       "boxtouches_z   -0.287692\n",
       "progpasses_z   -0.441538\n",
       "progruns_z     -0.383077\n",
       "fouls_z         0.425385\n",
       "fouled_z        0.426923\n",
       "nsxg_z         -0.306154\n",
       "dtype: float64"
      ]
     },
     "execution_count": 590,
     "metadata": {},
     "output_type": "execute_result"
    }
   ],
   "source": [
    "ira2018"
   ]
  },
  {
   "cell_type": "code",
   "execution_count": 591,
   "metadata": {},
   "outputs": [
    {
     "data": {
      "text/plain": [
       "0.9968363934062046"
      ]
     },
     "execution_count": 591,
     "metadata": {},
     "output_type": "execute_result"
    }
   ],
   "source": [
    "(0.063846 + -0.306154) /  -0.243077"
   ]
  },
  {
   "cell_type": "markdown",
   "metadata": {},
   "source": [
    "### Fouled"
   ]
  },
  {
   "cell_type": "code",
   "execution_count": 592,
   "metadata": {},
   "outputs": [
    {
     "data": {
      "text/plain": [
       "0.0015379999999999838"
      ]
     },
     "execution_count": 592,
     "metadata": {},
     "output_type": "execute_result"
    }
   ],
   "source": [
    ".426923 - .425385"
   ]
  },
  {
   "cell_type": "code",
   "execution_count": 593,
   "metadata": {},
   "outputs": [],
   "source": [
    "new_row = {'Country': 'Iran', 'Year': 2018, 'goals_z':-0.243077, 'xg_z':0.063846, \n",
    "           'boxtouches_z':-0.287692, 'progpasses_z':-0.441538, 'progruns_z':-0.383077, \n",
    "           'new_xg': 0.9968363, 'Fouled': 0.0015379, 'results': 32}\n",
    "\n",
    "stats_df = stats_df.append(new_row, ignore_index=True)"
   ]
  },
  {
   "cell_type": "markdown",
   "metadata": {},
   "source": [
    "# Poland"
   ]
  },
  {
   "cell_type": "markdown",
   "metadata": {},
   "source": [
    "## 2010 NA"
   ]
  },
  {
   "cell_type": "markdown",
   "metadata": {},
   "source": [
    "## 2014 NA"
   ]
  },
  {
   "cell_type": "markdown",
   "metadata": {},
   "source": [
    "## 2018"
   ]
  },
  {
   "cell_type": "code",
   "execution_count": 594,
   "metadata": {},
   "outputs": [],
   "source": [
    "pol = ['Poland']"
   ]
  },
  {
   "cell_type": "code",
   "execution_count": 595,
   "metadata": {},
   "outputs": [],
   "source": [
    "pol_year = comparisons.loc[comparisons[\"team\"].isin(pol)]"
   ]
  },
  {
   "cell_type": "code",
   "execution_count": 596,
   "metadata": {},
   "outputs": [],
   "source": [
    "pol2018year = pol_year.loc[pol_year[\"season\"].isin(year2018)]"
   ]
  },
  {
   "cell_type": "code",
   "execution_count": 597,
   "metadata": {},
   "outputs": [],
   "source": [
    "pol2018xg = pol2018year.sort_values(by=[\"xg_z\"], ascending=False)"
   ]
  },
  {
   "cell_type": "code",
   "execution_count": 598,
   "metadata": {},
   "outputs": [],
   "source": [
    "pol2018xg13 = pol2018xg.head(13)"
   ]
  },
  {
   "cell_type": "code",
   "execution_count": 599,
   "metadata": {},
   "outputs": [],
   "source": [
    "pol2018xg13 = pol2018xg13.drop(columns=[ 'season', 'team'])\n"
   ]
  },
  {
   "cell_type": "code",
   "execution_count": 600,
   "metadata": {},
   "outputs": [],
   "source": [
    "pol2018 = pol2018xg13.mean()"
   ]
  },
  {
   "cell_type": "code",
   "execution_count": 601,
   "metadata": {},
   "outputs": [
    {
     "data": {
      "text/plain": [
       "goals_z        -0.066154\n",
       "xg_z            0.173077\n",
       "boxtouches_z    0.234615\n",
       "progpasses_z   -0.076154\n",
       "progruns_z     -0.315385\n",
       "fouls_z        -0.287692\n",
       "fouled_z       -0.030000\n",
       "nsxg_z          0.090769\n",
       "dtype: float64"
      ]
     },
     "execution_count": 601,
     "metadata": {},
     "output_type": "execute_result"
    }
   ],
   "source": [
    "pol2018"
   ]
  },
  {
   "cell_type": "code",
   "execution_count": 602,
   "metadata": {},
   "outputs": [
    {
     "data": {
      "text/plain": [
       "-3.988360492184902"
      ]
     },
     "execution_count": 602,
     "metadata": {},
     "output_type": "execute_result"
    }
   ],
   "source": [
    "(0.173077 + 0.090769) /  -0.066154"
   ]
  },
  {
   "cell_type": "markdown",
   "metadata": {},
   "source": [
    "### Fouled"
   ]
  },
  {
   "cell_type": "code",
   "execution_count": 603,
   "metadata": {},
   "outputs": [
    {
     "data": {
      "text/plain": [
       "0.25769200000000003"
      ]
     },
     "execution_count": 603,
     "metadata": {},
     "output_type": "execute_result"
    }
   ],
   "source": [
    "-0.030000 - -0.287692"
   ]
  },
  {
   "cell_type": "code",
   "execution_count": 604,
   "metadata": {},
   "outputs": [],
   "source": [
    "new_row = {'Country': 'Poland', 'Year': 2018, 'goals_z':-0.066154, 'xg_z':0.173077, \n",
    "           'boxtouches_z':0.234615, 'progpasses_z':-0.076154, 'progruns_z':-0.315385, \n",
    "           'new_xg': -3.988360, 'Fouled': 0.25769200, 'results': 32}\n",
    "\n",
    "stats_df = stats_df.append(new_row, ignore_index=True)"
   ]
  },
  {
   "cell_type": "markdown",
   "metadata": {},
   "source": [
    "# Saudi Arabia"
   ]
  },
  {
   "cell_type": "markdown",
   "metadata": {},
   "source": [
    "## 2010 NA"
   ]
  },
  {
   "cell_type": "markdown",
   "metadata": {},
   "source": [
    "## 2014 NA"
   ]
  },
  {
   "cell_type": "markdown",
   "metadata": {},
   "source": [
    "## 2018"
   ]
  },
  {
   "cell_type": "code",
   "execution_count": 605,
   "metadata": {},
   "outputs": [],
   "source": [
    "sau = ['Saudi Arabia']"
   ]
  },
  {
   "cell_type": "code",
   "execution_count": 606,
   "metadata": {},
   "outputs": [],
   "source": [
    "sau_year = comparisons.loc[comparisons[\"team\"].isin(sau)]"
   ]
  },
  {
   "cell_type": "code",
   "execution_count": 607,
   "metadata": {},
   "outputs": [],
   "source": [
    "sau2018year = sau_year.loc[sau_year[\"season\"].isin(year2018)]"
   ]
  },
  {
   "cell_type": "code",
   "execution_count": 608,
   "metadata": {},
   "outputs": [],
   "source": [
    "sau2018xg = sau2018year.sort_values(by=[\"xg_z\"], ascending=False)"
   ]
  },
  {
   "cell_type": "code",
   "execution_count": 609,
   "metadata": {},
   "outputs": [],
   "source": [
    "sau2018xg13 = sau2018xg.head(13)"
   ]
  },
  {
   "cell_type": "code",
   "execution_count": 610,
   "metadata": {},
   "outputs": [],
   "source": [
    "sau2018xg13 = sau2018xg13.drop(columns=[ 'season', 'team'])\n"
   ]
  },
  {
   "cell_type": "code",
   "execution_count": 611,
   "metadata": {},
   "outputs": [],
   "source": [
    "sau2018 = sau2018xg13.mean()"
   ]
  },
  {
   "cell_type": "code",
   "execution_count": 612,
   "metadata": {},
   "outputs": [
    {
     "data": {
      "text/plain": [
       "goals_z        -0.066154\n",
       "xg_z            0.226154\n",
       "boxtouches_z   -0.128462\n",
       "progpasses_z    0.070769\n",
       "progruns_z      0.425385\n",
       "fouls_z        -0.173846\n",
       "fouled_z        0.296154\n",
       "nsxg_z         -0.046923\n",
       "dtype: float64"
      ]
     },
     "execution_count": 612,
     "metadata": {},
     "output_type": "execute_result"
    }
   ],
   "source": [
    "sau2018"
   ]
  },
  {
   "cell_type": "code",
   "execution_count": 613,
   "metadata": {},
   "outputs": [
    {
     "data": {
      "text/plain": [
       "-2.709299513256946"
      ]
     },
     "execution_count": 613,
     "metadata": {},
     "output_type": "execute_result"
    }
   ],
   "source": [
    "(0.226154 + -0.046923) /  -0.066154"
   ]
  },
  {
   "cell_type": "markdown",
   "metadata": {},
   "source": [
    "### Fouled"
   ]
  },
  {
   "cell_type": "code",
   "execution_count": 614,
   "metadata": {},
   "outputs": [
    {
     "data": {
      "text/plain": [
       "0.47"
      ]
     },
     "execution_count": 614,
     "metadata": {},
     "output_type": "execute_result"
    }
   ],
   "source": [
    ".296154 - -0.173846"
   ]
  },
  {
   "cell_type": "code",
   "execution_count": 615,
   "metadata": {},
   "outputs": [],
   "source": [
    "new_row = {'Country': 'Saudi Arabia', 'Year': 2018, 'goals_z':-0.066154, 'xg_z':0.226154, \n",
    "           'boxtouches_z':-0.128462, 'progpasses_z':0.070769, 'progruns_z':0.425385, \n",
    "           'new_xg': -2.7092995, 'Fouled': 0.47, 'results': 32}\n",
    "\n",
    "stats_df = stats_df.append(new_row, ignore_index=True)"
   ]
  },
  {
   "cell_type": "code",
   "execution_count": 616,
   "metadata": {},
   "outputs": [],
   "source": [
    "# stats_df"
   ]
  },
  {
   "cell_type": "markdown",
   "metadata": {},
   "source": [
    "# Tunisia"
   ]
  },
  {
   "cell_type": "markdown",
   "metadata": {},
   "source": [
    "## 2010 NA\n"
   ]
  },
  {
   "cell_type": "markdown",
   "metadata": {},
   "source": [
    "## 2014 NA"
   ]
  },
  {
   "cell_type": "markdown",
   "metadata": {},
   "source": [
    "## 2018"
   ]
  },
  {
   "cell_type": "code",
   "execution_count": 617,
   "metadata": {},
   "outputs": [],
   "source": [
    "tun = ['Tunisia']"
   ]
  },
  {
   "cell_type": "code",
   "execution_count": 618,
   "metadata": {},
   "outputs": [],
   "source": [
    "tun_year = comparisons.loc[comparisons[\"team\"].isin(tun)]"
   ]
  },
  {
   "cell_type": "code",
   "execution_count": 619,
   "metadata": {},
   "outputs": [],
   "source": [
    "tun2018year = tun_year.loc[tun_year[\"season\"].isin(year2018)]"
   ]
  },
  {
   "cell_type": "code",
   "execution_count": 620,
   "metadata": {},
   "outputs": [],
   "source": [
    "tun2018xg = tun2018year.sort_values(by=[\"xg_z\"], ascending=False)"
   ]
  },
  {
   "cell_type": "code",
   "execution_count": 621,
   "metadata": {},
   "outputs": [],
   "source": [
    "tun2018xg13 = tun2018xg.head(13)"
   ]
  },
  {
   "cell_type": "code",
   "execution_count": 622,
   "metadata": {},
   "outputs": [],
   "source": [
    "tun2018xg13 = tun2018xg13.drop(columns=[ 'season', 'team'])\n"
   ]
  },
  {
   "cell_type": "code",
   "execution_count": 623,
   "metadata": {},
   "outputs": [],
   "source": [
    "tun2018 = tun2018xg13.mean()"
   ]
  },
  {
   "cell_type": "code",
   "execution_count": 624,
   "metadata": {},
   "outputs": [
    {
     "data": {
      "text/plain": [
       "goals_z         0.463846\n",
       "xg_z            0.343077\n",
       "boxtouches_z   -0.026154\n",
       "progpasses_z    0.200769\n",
       "progruns_z      0.123077\n",
       "fouls_z         0.237692\n",
       "fouled_z        0.100000\n",
       "nsxg_z          0.160000\n",
       "dtype: float64"
      ]
     },
     "execution_count": 624,
     "metadata": {},
     "output_type": "execute_result"
    }
   ],
   "source": [
    "tun2018"
   ]
  },
  {
   "cell_type": "code",
   "execution_count": 625,
   "metadata": {},
   "outputs": [
    {
     "data": {
      "text/plain": [
       "1.0845776399925837"
      ]
     },
     "execution_count": 625,
     "metadata": {},
     "output_type": "execute_result"
    }
   ],
   "source": [
    "(0.343077 + 0.160000) /  0.463846"
   ]
  },
  {
   "cell_type": "markdown",
   "metadata": {},
   "source": [
    "### Fouled\n"
   ]
  },
  {
   "cell_type": "code",
   "execution_count": 626,
   "metadata": {},
   "outputs": [
    {
     "data": {
      "text/plain": [
       "-0.13769199999999998"
      ]
     },
     "execution_count": 626,
     "metadata": {},
     "output_type": "execute_result"
    }
   ],
   "source": [
    ".100000 - .237692"
   ]
  },
  {
   "cell_type": "code",
   "execution_count": 627,
   "metadata": {},
   "outputs": [],
   "source": [
    "new_row = {'Country': 'Tunisia', 'Year': 2018, 'goals_z':0.463846, 'xg_z':0.343077, \n",
    "           'boxtouches_z':-0.026154, 'progpasses_z':0.200769, 'progruns_z':0.123077, \n",
    "           'new_xg': 1.0845776, 'Fouled': -0.1376919, 'results': 32}\n",
    "\n",
    "stats_df = stats_df.append(new_row, ignore_index=True)"
   ]
  },
  {
   "cell_type": "markdown",
   "metadata": {},
   "source": [
    "# Japan"
   ]
  },
  {
   "cell_type": "markdown",
   "metadata": {},
   "source": [
    "## 2014"
   ]
  },
  {
   "cell_type": "code",
   "execution_count": 628,
   "metadata": {},
   "outputs": [],
   "source": [
    "jap = ['Japan']"
   ]
  },
  {
   "cell_type": "code",
   "execution_count": 629,
   "metadata": {},
   "outputs": [],
   "source": [
    "jap_year = comparisons.loc[comparisons[\"team\"].isin(jap)]"
   ]
  },
  {
   "cell_type": "code",
   "execution_count": 630,
   "metadata": {},
   "outputs": [],
   "source": [
    "jap2014year = jap_year.loc[jap_year[\"season\"].isin(year2014)]"
   ]
  },
  {
   "cell_type": "code",
   "execution_count": 631,
   "metadata": {},
   "outputs": [],
   "source": [
    "jap2014xg = jap2014year.sort_values(by=[\"xg_z\"], ascending=False)"
   ]
  },
  {
   "cell_type": "code",
   "execution_count": 632,
   "metadata": {},
   "outputs": [],
   "source": [
    "jap2014xg13 = jap2014xg.head(13)"
   ]
  },
  {
   "cell_type": "code",
   "execution_count": 633,
   "metadata": {},
   "outputs": [],
   "source": [
    "jap2014xg13 = jap2014xg13.drop(columns=['season', 'team'])\n"
   ]
  },
  {
   "cell_type": "code",
   "execution_count": 634,
   "metadata": {},
   "outputs": [],
   "source": [
    "jap2014 = jap2014xg13.mean()"
   ]
  },
  {
   "cell_type": "code",
   "execution_count": 635,
   "metadata": {},
   "outputs": [
    {
     "data": {
      "text/plain": [
       "goals_z        -0.093077\n",
       "xg_z            0.253846\n",
       "boxtouches_z    0.639231\n",
       "progpasses_z    0.151538\n",
       "progruns_z      0.280000\n",
       "fouls_z         0.257692\n",
       "fouled_z        0.433077\n",
       "nsxg_z          0.644615\n",
       "dtype: float64"
      ]
     },
     "execution_count": 635,
     "metadata": {},
     "output_type": "execute_result"
    }
   ],
   "source": [
    "jap2014"
   ]
  },
  {
   "cell_type": "code",
   "execution_count": 636,
   "metadata": {},
   "outputs": [
    {
     "data": {
      "text/plain": [
       "-9.65287879927372"
      ]
     },
     "execution_count": 636,
     "metadata": {},
     "output_type": "execute_result"
    }
   ],
   "source": [
    "(0.253846 + 0.644615) /  -0.093077"
   ]
  },
  {
   "cell_type": "markdown",
   "metadata": {},
   "source": [
    "### Fouled"
   ]
  },
  {
   "cell_type": "code",
   "execution_count": 637,
   "metadata": {},
   "outputs": [
    {
     "data": {
      "text/plain": [
       "0.175385"
      ]
     },
     "execution_count": 637,
     "metadata": {},
     "output_type": "execute_result"
    }
   ],
   "source": [
    ".433077 - .257692"
   ]
  },
  {
   "cell_type": "code",
   "execution_count": 638,
   "metadata": {},
   "outputs": [],
   "source": [
    "new_row = {'Country': 'Japan', 'Year': 2014, 'goals_z':-0.093077, 'xg_z':0.253846, \n",
    "           'boxtouches_z':0.639231, 'progpasses_z':0.151538, 'progruns_z':0.280000, \n",
    "           'new_xg': -9.6528787, 'Fouled': 0.175385, 'results': 32}\n",
    "\n",
    "stats_df = stats_df.append(new_row, ignore_index=True)"
   ]
  },
  {
   "cell_type": "markdown",
   "metadata": {},
   "source": [
    "# Sort Stats_df by results"
   ]
  },
  {
   "cell_type": "markdown",
   "metadata": {},
   "source": [
    "## 2018"
   ]
  },
  {
   "cell_type": "markdown",
   "metadata": {},
   "source": [
    "# Croatia"
   ]
  },
  {
   "cell_type": "markdown",
   "metadata": {},
   "source": [
    "## 2010 NA"
   ]
  },
  {
   "cell_type": "markdown",
   "metadata": {},
   "source": [
    "## 2014"
   ]
  },
  {
   "cell_type": "code",
   "execution_count": 639,
   "metadata": {},
   "outputs": [],
   "source": [
    "cro = ['Croatia']"
   ]
  },
  {
   "cell_type": "code",
   "execution_count": 640,
   "metadata": {},
   "outputs": [],
   "source": [
    "cro_year = comparisons.loc[comparisons[\"team\"].isin(cro)]"
   ]
  },
  {
   "cell_type": "code",
   "execution_count": 641,
   "metadata": {},
   "outputs": [],
   "source": [
    "cro2014year = cro_year.loc[cro_year[\"season\"].isin(year2014)]"
   ]
  },
  {
   "cell_type": "code",
   "execution_count": 642,
   "metadata": {},
   "outputs": [],
   "source": [
    "cro2014xg = cro2014year.sort_values(by=[\"xg_z\"], ascending=False)"
   ]
  },
  {
   "cell_type": "code",
   "execution_count": 643,
   "metadata": {},
   "outputs": [],
   "source": [
    "cro2014xg13 = cro2014xg.head(13)"
   ]
  },
  {
   "cell_type": "code",
   "execution_count": 644,
   "metadata": {},
   "outputs": [],
   "source": [
    "cro2014xg13 = cro2014xg13.drop(columns=['season', 'team'])\n"
   ]
  },
  {
   "cell_type": "code",
   "execution_count": 645,
   "metadata": {},
   "outputs": [],
   "source": [
    "cro2014 = cro2014xg13.mean()"
   ]
  },
  {
   "cell_type": "code",
   "execution_count": 646,
   "metadata": {},
   "outputs": [
    {
     "data": {
      "text/plain": [
       "goals_z         0.412308\n",
       "xg_z            0.366923\n",
       "boxtouches_z    0.516154\n",
       "progpasses_z    0.140000\n",
       "progruns_z      0.035385\n",
       "fouls_z         0.330769\n",
       "fouled_z       -0.196154\n",
       "nsxg_z          0.233846\n",
       "dtype: float64"
      ]
     },
     "execution_count": 646,
     "metadata": {},
     "output_type": "execute_result"
    }
   ],
   "source": [
    "cro2014"
   ]
  },
  {
   "cell_type": "code",
   "execution_count": 647,
   "metadata": {},
   "outputs": [
    {
     "data": {
      "text/plain": [
       "1.4570879051582797"
      ]
     },
     "execution_count": 647,
     "metadata": {},
     "output_type": "execute_result"
    }
   ],
   "source": [
    "(0.366923 + 0.233846) /  0.412308"
   ]
  },
  {
   "cell_type": "markdown",
   "metadata": {},
   "source": [
    "### Fouled"
   ]
  },
  {
   "cell_type": "code",
   "execution_count": 648,
   "metadata": {},
   "outputs": [
    {
     "data": {
      "text/plain": [
       "-0.526923"
      ]
     },
     "execution_count": 648,
     "metadata": {},
     "output_type": "execute_result"
    }
   ],
   "source": [
    "-0.196154 - .330769"
   ]
  },
  {
   "cell_type": "code",
   "execution_count": 649,
   "metadata": {},
   "outputs": [],
   "source": [
    "new_row = {'Country': 'Croatia', 'Year': 2014, 'goals_z':0.412308, 'xg_z':0.366923, \n",
    "           'boxtouches_z':0.516154, 'progpasses_z':0.140000, 'progruns_z':0.035385, \n",
    "           'new_xg': 1.457087, 'Fouled': -0.526923, 'results': 32}\n",
    "\n",
    "stats_df = stats_df.append(new_row, ignore_index=True)"
   ]
  },
  {
   "cell_type": "markdown",
   "metadata": {},
   "source": [
    "## 2018"
   ]
  },
  {
   "cell_type": "code",
   "execution_count": 650,
   "metadata": {},
   "outputs": [],
   "source": [
    "cro2018year = cro_year.loc[cro_year[\"season\"].isin(year2018)]"
   ]
  },
  {
   "cell_type": "code",
   "execution_count": 651,
   "metadata": {},
   "outputs": [],
   "source": [
    "cro2018xg = cro2018year.sort_values(by=[\"xg_z\"], ascending=False)"
   ]
  },
  {
   "cell_type": "code",
   "execution_count": 652,
   "metadata": {},
   "outputs": [],
   "source": [
    "cro2018xg13 = cro2018xg.head(13)"
   ]
  },
  {
   "cell_type": "code",
   "execution_count": 653,
   "metadata": {},
   "outputs": [],
   "source": [
    "cro2018xg13 = cro2018xg13.drop(columns=['season', 'team'])\n"
   ]
  },
  {
   "cell_type": "code",
   "execution_count": 654,
   "metadata": {},
   "outputs": [],
   "source": [
    "cro2018 = cro2018xg13.mean()"
   ]
  },
  {
   "cell_type": "code",
   "execution_count": 789,
   "metadata": {},
   "outputs": [
    {
     "data": {
      "text/plain": [
       "goals_z         0.520000\n",
       "xg_z            0.379231\n",
       "boxtouches_z    0.375385\n",
       "progpasses_z    0.074615\n",
       "progruns_z      0.265385\n",
       "fouls_z         0.376923\n",
       "fouled_z        0.317692\n",
       "nsxg_z          0.198462\n",
       "dtype: float64"
      ]
     },
     "execution_count": 789,
     "metadata": {},
     "output_type": "execute_result"
    }
   ],
   "source": [
    "cro2018"
   ]
  },
  {
   "cell_type": "code",
   "execution_count": 656,
   "metadata": {},
   "outputs": [
    {
     "data": {
      "text/plain": [
       "1.1109480769230768"
      ]
     },
     "execution_count": 656,
     "metadata": {},
     "output_type": "execute_result"
    }
   ],
   "source": [
    "(0.379231 + 0.198462) /  0.520000"
   ]
  },
  {
   "cell_type": "markdown",
   "metadata": {},
   "source": [
    "### Fouled"
   ]
  },
  {
   "cell_type": "code",
   "execution_count": 657,
   "metadata": {},
   "outputs": [
    {
     "data": {
      "text/plain": [
       "-0.059231000000000034"
      ]
     },
     "execution_count": 657,
     "metadata": {},
     "output_type": "execute_result"
    }
   ],
   "source": [
    ".317692 - .376923"
   ]
  },
  {
   "cell_type": "code",
   "execution_count": 658,
   "metadata": {},
   "outputs": [],
   "source": [
    "new_row = {'Country': 'Croatia', 'Year': 2018, 'goals_z':0.520000, 'xg_z':0.379231, \n",
    "           'boxtouches_z':0.375385, 'progpasses_z':0.074615, 'progruns_z':0.265385, \n",
    "           'new_xg': 1.110948076, 'Fouled': -0.0592310, 'results': 2}\n",
    "\n",
    "stats_df = stats_df.append(new_row, ignore_index=True)"
   ]
  },
  {
   "cell_type": "markdown",
   "metadata": {},
   "source": [
    "# Canada - NA"
   ]
  },
  {
   "cell_type": "markdown",
   "metadata": {},
   "source": [
    "# Morocco"
   ]
  },
  {
   "cell_type": "markdown",
   "metadata": {},
   "source": [
    "## 2018"
   ]
  },
  {
   "cell_type": "code",
   "execution_count": 659,
   "metadata": {},
   "outputs": [],
   "source": [
    "mor = ['Morocco']"
   ]
  },
  {
   "cell_type": "code",
   "execution_count": 660,
   "metadata": {},
   "outputs": [],
   "source": [
    "mor_year = comparisons.loc[comparisons[\"team\"].isin(mor)]"
   ]
  },
  {
   "cell_type": "code",
   "execution_count": 661,
   "metadata": {},
   "outputs": [],
   "source": [
    "mor2018year = mor_year.loc[mor_year[\"season\"].isin(year2018)]"
   ]
  },
  {
   "cell_type": "code",
   "execution_count": 662,
   "metadata": {},
   "outputs": [],
   "source": [
    "mor2018xg = mor2018year.sort_values(by=[\"xg_z\"], ascending=False)"
   ]
  },
  {
   "cell_type": "code",
   "execution_count": 663,
   "metadata": {},
   "outputs": [],
   "source": [
    "mor2018xg13 = mor2018xg.head(13)"
   ]
  },
  {
   "cell_type": "code",
   "execution_count": 664,
   "metadata": {},
   "outputs": [],
   "source": [
    "mor2018xg13 = mor2018xg13.drop(columns=['season', 'team'])\n"
   ]
  },
  {
   "cell_type": "code",
   "execution_count": 665,
   "metadata": {},
   "outputs": [],
   "source": [
    "mor2018 = mor2018xg13.mean()"
   ]
  },
  {
   "cell_type": "code",
   "execution_count": 666,
   "metadata": {},
   "outputs": [
    {
     "data": {
      "text/plain": [
       "goals_z        -0.243077\n",
       "xg_z            0.000769\n",
       "boxtouches_z    0.120769\n",
       "progpasses_z   -0.327692\n",
       "progruns_z      0.037692\n",
       "fouls_z         0.837692\n",
       "fouled_z       -0.063077\n",
       "nsxg_z         -0.002308\n",
       "dtype: float64"
      ]
     },
     "execution_count": 666,
     "metadata": {},
     "output_type": "execute_result"
    }
   ],
   "source": [
    "mor2018"
   ]
  },
  {
   "cell_type": "code",
   "execution_count": 667,
   "metadata": {},
   "outputs": [
    {
     "data": {
      "text/plain": [
       "0.0063313271103395226"
      ]
     },
     "execution_count": 667,
     "metadata": {},
     "output_type": "execute_result"
    }
   ],
   "source": [
    "(0.000769 + -0.002308) /  -0.243077"
   ]
  },
  {
   "cell_type": "markdown",
   "metadata": {},
   "source": [
    "### Fouled"
   ]
  },
  {
   "cell_type": "code",
   "execution_count": 668,
   "metadata": {},
   "outputs": [
    {
     "data": {
      "text/plain": [
       "-0.9007689999999999"
      ]
     },
     "execution_count": 668,
     "metadata": {},
     "output_type": "execute_result"
    }
   ],
   "source": [
    "-0.063077 - 0.837692"
   ]
  },
  {
   "cell_type": "code",
   "execution_count": 669,
   "metadata": {},
   "outputs": [],
   "source": [
    "new_row = {'Country': 'Morocco', 'Year': 2018, 'goals_z':-0.243077, 'xg_z':0.000769, \n",
    "           'boxtouches_z':0.120769, 'progpasses_z':-0.327692, 'progruns_z':0.037692, \n",
    "           'new_xg': 0.006331327, 'Fouled': -0.9007689, 'results': 32}\n",
    "\n",
    "stats_df = stats_df.append(new_row, ignore_index=True)"
   ]
  },
  {
   "cell_type": "markdown",
   "metadata": {},
   "source": [
    "### Data for 28 countries (korea still not working)"
   ]
  },
  {
   "cell_type": "code",
   "execution_count": 670,
   "metadata": {},
   "outputs": [],
   "source": [
    "# stats_df.hist()\n",
    "# # pyplot.show()"
   ]
  },
  {
   "cell_type": "code",
   "execution_count": 671,
   "metadata": {},
   "outputs": [],
   "source": [
    "# plt.boxplot(stats_df['xg_z'],notch=True);\n",
    "# stats_df['xg_z'].plot.box(title='xg_z');\n",
    "# stats_df['goals_z'].plot.box(title='Goals');"
   ]
  },
  {
   "cell_type": "code",
   "execution_count": 672,
   "metadata": {},
   "outputs": [],
   "source": [
    "# sns.distplot(stats_df['goals_z'], hist=True, kde=True, \n",
    "#              bins=int(180/5), color = 'darkblue', \n",
    "#              hist_kws={'edgecolor':'black'},\n",
    "#              kde_kws={'linewidth': 4});"
   ]
  },
  {
   "cell_type": "code",
   "execution_count": 790,
   "metadata": {},
   "outputs": [
    {
     "data": {
      "image/png": "[encoded data removed]",
      "text/plain": [
       "<Figure size 432x288 with 1 Axes>"
      ]
     },
     "metadata": {},
     "output_type": "display_data"
    }
   ],
   "source": [
    "sns.set_style('whitegrid')\n",
    "ax= sns.boxplot(x='results',y='goals_z',data=stats_df)\n",
    "ax = sns.stripplot(x=\"results\", y=\"goals_z\",data=stats_df)"
   ]
  },
  {
   "cell_type": "code",
   "execution_count": 737,
   "metadata": {},
   "outputs": [],
   "source": [
    "# stats_df"
   ]
  },
  {
   "cell_type": "code",
   "execution_count": 675,
   "metadata": {},
   "outputs": [],
   "source": [
    "stats_df.to_csv('stats_df.csv', index=False)"
   ]
  },
  {
   "cell_type": "code",
   "execution_count": 676,
   "metadata": {},
   "outputs": [
    {
     "data": {
      "text/html": [
       "<div>\n",
       "<style scoped>\n",
       "    .dataframe tbody tr th:only-of-type {\n",
       "        vertical-align: middle;\n",
       "    }\n",
       "\n",
       "    .dataframe tbody tr th {\n",
       "        vertical-align: top;\n",
       "    }\n",
       "\n",
       "    .dataframe thead th {\n",
       "        text-align: right;\n",
       "    }\n",
       "</style>\n",
       "<table border=\"1\" class=\"dataframe\">\n",
       "  <thead>\n",
       "    <tr style=\"text-align: right;\">\n",
       "      <th></th>\n",
       "      <th>Year</th>\n",
       "      <th>goals_z</th>\n",
       "      <th>xg_z</th>\n",
       "      <th>boxtouches_z</th>\n",
       "      <th>progpasses_z</th>\n",
       "      <th>progruns_z</th>\n",
       "      <th>new_xg</th>\n",
       "      <th>Fouled</th>\n",
       "      <th>results</th>\n",
       "    </tr>\n",
       "  </thead>\n",
       "  <tbody>\n",
       "    <tr>\n",
       "      <th>Year</th>\n",
       "      <td>1.000000</td>\n",
       "      <td>-0.197210</td>\n",
       "      <td>-0.160647</td>\n",
       "      <td>-0.048728</td>\n",
       "      <td>0.131122</td>\n",
       "      <td>0.067845</td>\n",
       "      <td>0.132196</td>\n",
       "      <td>-0.089558</td>\n",
       "      <td>0.201249</td>\n",
       "    </tr>\n",
       "    <tr>\n",
       "      <th>goals_z</th>\n",
       "      <td>-0.197210</td>\n",
       "      <td>1.000000</td>\n",
       "      <td>0.544171</td>\n",
       "      <td>0.240131</td>\n",
       "      <td>0.114196</td>\n",
       "      <td>0.220640</td>\n",
       "      <td>0.100475</td>\n",
       "      <td>0.272470</td>\n",
       "      <td>-0.690471</td>\n",
       "    </tr>\n",
       "    <tr>\n",
       "      <th>xg_z</th>\n",
       "      <td>-0.160647</td>\n",
       "      <td>0.544171</td>\n",
       "      <td>1.000000</td>\n",
       "      <td>0.677593</td>\n",
       "      <td>0.308964</td>\n",
       "      <td>0.420209</td>\n",
       "      <td>-0.012059</td>\n",
       "      <td>0.393507</td>\n",
       "      <td>-0.331697</td>\n",
       "    </tr>\n",
       "    <tr>\n",
       "      <th>boxtouches_z</th>\n",
       "      <td>-0.048728</td>\n",
       "      <td>0.240131</td>\n",
       "      <td>0.677593</td>\n",
       "      <td>1.000000</td>\n",
       "      <td>0.400062</td>\n",
       "      <td>0.552609</td>\n",
       "      <td>-0.053563</td>\n",
       "      <td>0.353455</td>\n",
       "      <td>-0.161807</td>\n",
       "    </tr>\n",
       "    <tr>\n",
       "      <th>progpasses_z</th>\n",
       "      <td>0.131122</td>\n",
       "      <td>0.114196</td>\n",
       "      <td>0.308964</td>\n",
       "      <td>0.400062</td>\n",
       "      <td>1.000000</td>\n",
       "      <td>0.479448</td>\n",
       "      <td>-0.008676</td>\n",
       "      <td>0.206571</td>\n",
       "      <td>0.018310</td>\n",
       "    </tr>\n",
       "    <tr>\n",
       "      <th>progruns_z</th>\n",
       "      <td>0.067845</td>\n",
       "      <td>0.220640</td>\n",
       "      <td>0.420209</td>\n",
       "      <td>0.552609</td>\n",
       "      <td>0.479448</td>\n",
       "      <td>1.000000</td>\n",
       "      <td>0.018426</td>\n",
       "      <td>0.412054</td>\n",
       "      <td>-0.197454</td>\n",
       "    </tr>\n",
       "    <tr>\n",
       "      <th>new_xg</th>\n",
       "      <td>0.132196</td>\n",
       "      <td>0.100475</td>\n",
       "      <td>-0.012059</td>\n",
       "      <td>-0.053563</td>\n",
       "      <td>-0.008676</td>\n",
       "      <td>0.018426</td>\n",
       "      <td>1.000000</td>\n",
       "      <td>-0.028548</td>\n",
       "      <td>0.009773</td>\n",
       "    </tr>\n",
       "    <tr>\n",
       "      <th>Fouled</th>\n",
       "      <td>-0.089558</td>\n",
       "      <td>0.272470</td>\n",
       "      <td>0.393507</td>\n",
       "      <td>0.353455</td>\n",
       "      <td>0.206571</td>\n",
       "      <td>0.412054</td>\n",
       "      <td>-0.028548</td>\n",
       "      <td>1.000000</td>\n",
       "      <td>-0.276242</td>\n",
       "    </tr>\n",
       "    <tr>\n",
       "      <th>results</th>\n",
       "      <td>0.201249</td>\n",
       "      <td>-0.690471</td>\n",
       "      <td>-0.331697</td>\n",
       "      <td>-0.161807</td>\n",
       "      <td>0.018310</td>\n",
       "      <td>-0.197454</td>\n",
       "      <td>0.009773</td>\n",
       "      <td>-0.276242</td>\n",
       "      <td>1.000000</td>\n",
       "    </tr>\n",
       "  </tbody>\n",
       "</table>\n",
       "</div>"
      ],
      "text/plain": [
       "                  Year   goals_z      xg_z  boxtouches_z  progpasses_z  \\\n",
       "Year          1.000000 -0.197210 -0.160647     -0.048728      0.131122   \n",
       "goals_z      -0.197210  1.000000  0.544171      0.240131      0.114196   \n",
       "xg_z         -0.160647  0.544171  1.000000      0.677593      0.308964   \n",
       "boxtouches_z -0.048728  0.240131  0.677593      1.000000      0.400062   \n",
       "progpasses_z  0.131122  0.114196  0.308964      0.400062      1.000000   \n",
       "progruns_z    0.067845  0.220640  0.420209      0.552609      0.479448   \n",
       "new_xg        0.132196  0.100475 -0.012059     -0.053563     -0.008676   \n",
       "Fouled       -0.089558  0.272470  0.393507      0.353455      0.206571   \n",
       "results       0.201249 -0.690471 -0.331697     -0.161807      0.018310   \n",
       "\n",
       "              progruns_z    new_xg    Fouled   results  \n",
       "Year            0.067845  0.132196 -0.089558  0.201249  \n",
       "goals_z         0.220640  0.100475  0.272470 -0.690471  \n",
       "xg_z            0.420209 -0.012059  0.393507 -0.331697  \n",
       "boxtouches_z    0.552609 -0.053563  0.353455 -0.161807  \n",
       "progpasses_z    0.479448 -0.008676  0.206571  0.018310  \n",
       "progruns_z      1.000000  0.018426  0.412054 -0.197454  \n",
       "new_xg          0.018426  1.000000 -0.028548  0.009773  \n",
       "Fouled          0.412054 -0.028548  1.000000 -0.276242  \n",
       "results        -0.197454  0.009773 -0.276242  1.000000  "
      ]
     },
     "execution_count": 676,
     "metadata": {},
     "output_type": "execute_result"
    }
   ],
   "source": [
    "stats_df.corr()"
   ]
  },
  {
   "cell_type": "code",
   "execution_count": 677,
   "metadata": {},
   "outputs": [],
   "source": [
    "germany = stats_df[stats_df['Country'] == \"Germany\"]"
   ]
  },
  {
   "cell_type": "code",
   "execution_count": 678,
   "metadata": {},
   "outputs": [
    {
     "data": {
      "text/html": [
       "<div>\n",
       "<style scoped>\n",
       "    .dataframe tbody tr th:only-of-type {\n",
       "        vertical-align: middle;\n",
       "    }\n",
       "\n",
       "    .dataframe tbody tr th {\n",
       "        vertical-align: top;\n",
       "    }\n",
       "\n",
       "    .dataframe thead th {\n",
       "        text-align: right;\n",
       "    }\n",
       "</style>\n",
       "<table border=\"1\" class=\"dataframe\">\n",
       "  <thead>\n",
       "    <tr style=\"text-align: right;\">\n",
       "      <th></th>\n",
       "      <th>Country</th>\n",
       "      <th>Year</th>\n",
       "      <th>goals_z</th>\n",
       "      <th>xg_z</th>\n",
       "      <th>boxtouches_z</th>\n",
       "      <th>progpasses_z</th>\n",
       "      <th>progruns_z</th>\n",
       "      <th>new_xg</th>\n",
       "      <th>Fouled</th>\n",
       "      <th>results</th>\n",
       "    </tr>\n",
       "  </thead>\n",
       "  <tbody>\n",
       "    <tr>\n",
       "      <th>4</th>\n",
       "      <td>Germany</td>\n",
       "      <td>2002</td>\n",
       "      <td>0.563077</td>\n",
       "      <td>0.426923</td>\n",
       "      <td>0.280769</td>\n",
       "      <td>-0.102308</td>\n",
       "      <td>0.011538</td>\n",
       "      <td>1.668033</td>\n",
       "      <td>0.053847</td>\n",
       "      <td>2</td>\n",
       "    </tr>\n",
       "    <tr>\n",
       "      <th>3</th>\n",
       "      <td>Germany</td>\n",
       "      <td>2006</td>\n",
       "      <td>0.560000</td>\n",
       "      <td>0.482308</td>\n",
       "      <td>0.450769</td>\n",
       "      <td>0.300769</td>\n",
       "      <td>0.272308</td>\n",
       "      <td>1.487637</td>\n",
       "      <td>1.487637</td>\n",
       "      <td>3</td>\n",
       "    </tr>\n",
       "    <tr>\n",
       "      <th>0</th>\n",
       "      <td>Germany</td>\n",
       "      <td>2010</td>\n",
       "      <td>0.816923</td>\n",
       "      <td>0.513077</td>\n",
       "      <td>0.458462</td>\n",
       "      <td>-0.367692</td>\n",
       "      <td>0.142308</td>\n",
       "      <td>1.030100</td>\n",
       "      <td>0.160000</td>\n",
       "      <td>3</td>\n",
       "    </tr>\n",
       "    <tr>\n",
       "      <th>1</th>\n",
       "      <td>Germany</td>\n",
       "      <td>2014</td>\n",
       "      <td>0.755385</td>\n",
       "      <td>0.719231</td>\n",
       "      <td>0.601538</td>\n",
       "      <td>0.316154</td>\n",
       "      <td>0.198462</td>\n",
       "      <td>1.650710</td>\n",
       "      <td>0.163846</td>\n",
       "      <td>1</td>\n",
       "    </tr>\n",
       "    <tr>\n",
       "      <th>2</th>\n",
       "      <td>Germany</td>\n",
       "      <td>2018</td>\n",
       "      <td>-0.066154</td>\n",
       "      <td>0.615385</td>\n",
       "      <td>1.570000</td>\n",
       "      <td>0.565385</td>\n",
       "      <td>0.930769</td>\n",
       "      <td>-30.732480</td>\n",
       "      <td>0.520000</td>\n",
       "      <td>32</td>\n",
       "    </tr>\n",
       "  </tbody>\n",
       "</table>\n",
       "</div>"
      ],
      "text/plain": [
       "   Country  Year   goals_z      xg_z  boxtouches_z  progpasses_z  progruns_z  \\\n",
       "4  Germany  2002  0.563077  0.426923      0.280769     -0.102308    0.011538   \n",
       "3  Germany  2006  0.560000  0.482308      0.450769      0.300769    0.272308   \n",
       "0  Germany  2010  0.816923  0.513077      0.458462     -0.367692    0.142308   \n",
       "1  Germany  2014  0.755385  0.719231      0.601538      0.316154    0.198462   \n",
       "2  Germany  2018 -0.066154  0.615385      1.570000      0.565385    0.930769   \n",
       "\n",
       "      new_xg    Fouled  results  \n",
       "4   1.668033  0.053847        2  \n",
       "3   1.487637  1.487637        3  \n",
       "0   1.030100  0.160000        3  \n",
       "1   1.650710  0.163846        1  \n",
       "2 -30.732480  0.520000       32  "
      ]
     },
     "execution_count": 678,
     "metadata": {},
     "output_type": "execute_result"
    }
   ],
   "source": [
    "germany.sort_values('Year')"
   ]
  },
  {
   "cell_type": "code",
   "execution_count": 679,
   "metadata": {},
   "outputs": [],
   "source": [
    "france = stats_df[stats_df['Country'] == \"France\"]"
   ]
  },
  {
   "cell_type": "code",
   "execution_count": 680,
   "metadata": {},
   "outputs": [
    {
     "data": {
      "text/html": [
       "<div>\n",
       "<style scoped>\n",
       "    .dataframe tbody tr th:only-of-type {\n",
       "        vertical-align: middle;\n",
       "    }\n",
       "\n",
       "    .dataframe tbody tr th {\n",
       "        vertical-align: top;\n",
       "    }\n",
       "\n",
       "    .dataframe thead th {\n",
       "        text-align: right;\n",
       "    }\n",
       "</style>\n",
       "<table border=\"1\" class=\"dataframe\">\n",
       "  <thead>\n",
       "    <tr style=\"text-align: right;\">\n",
       "      <th></th>\n",
       "      <th>Country</th>\n",
       "      <th>Year</th>\n",
       "      <th>goals_z</th>\n",
       "      <th>xg_z</th>\n",
       "      <th>boxtouches_z</th>\n",
       "      <th>progpasses_z</th>\n",
       "      <th>progruns_z</th>\n",
       "      <th>new_xg</th>\n",
       "      <th>Fouled</th>\n",
       "      <th>results</th>\n",
       "    </tr>\n",
       "  </thead>\n",
       "  <tbody>\n",
       "    <tr>\n",
       "      <th>39</th>\n",
       "      <td>France</td>\n",
       "      <td>2010</td>\n",
       "      <td>-0.222308</td>\n",
       "      <td>-0.019231</td>\n",
       "      <td>0.155385</td>\n",
       "      <td>-0.379231</td>\n",
       "      <td>0.069231</td>\n",
       "      <td>0.128029</td>\n",
       "      <td>-0.011530</td>\n",
       "      <td>32</td>\n",
       "    </tr>\n",
       "    <tr>\n",
       "      <th>40</th>\n",
       "      <td>France</td>\n",
       "      <td>2014</td>\n",
       "      <td>0.376923</td>\n",
       "      <td>0.747692</td>\n",
       "      <td>1.026154</td>\n",
       "      <td>0.130769</td>\n",
       "      <td>0.010769</td>\n",
       "      <td>4.153060</td>\n",
       "      <td>0.030770</td>\n",
       "      <td>8</td>\n",
       "    </tr>\n",
       "    <tr>\n",
       "      <th>41</th>\n",
       "      <td>France</td>\n",
       "      <td>2018</td>\n",
       "      <td>0.489231</td>\n",
       "      <td>0.231538</td>\n",
       "      <td>0.189231</td>\n",
       "      <td>-0.039231</td>\n",
       "      <td>0.080769</td>\n",
       "      <td>0.737421</td>\n",
       "      <td>0.140769</td>\n",
       "      <td>1</td>\n",
       "    </tr>\n",
       "  </tbody>\n",
       "</table>\n",
       "</div>"
      ],
      "text/plain": [
       "   Country  Year   goals_z      xg_z  boxtouches_z  progpasses_z  progruns_z  \\\n",
       "39  France  2010 -0.222308 -0.019231      0.155385     -0.379231    0.069231   \n",
       "40  France  2014  0.376923  0.747692      1.026154      0.130769    0.010769   \n",
       "41  France  2018  0.489231  0.231538      0.189231     -0.039231    0.080769   \n",
       "\n",
       "      new_xg    Fouled  results  \n",
       "39  0.128029 -0.011530       32  \n",
       "40  4.153060  0.030770        8  \n",
       "41  0.737421  0.140769        1  "
      ]
     },
     "execution_count": 680,
     "metadata": {},
     "output_type": "execute_result"
    }
   ],
   "source": [
    "france"
   ]
  },
  {
   "cell_type": "code",
   "execution_count": 783,
   "metadata": {},
   "outputs": [],
   "source": [
    "brazil = stats_df[stats_df['Country'] == \"Brazil\"]"
   ]
  },
  {
   "cell_type": "code",
   "execution_count": 785,
   "metadata": {},
   "outputs": [
    {
     "data": {
      "text/html": [
       "<div>\n",
       "<style scoped>\n",
       "    .dataframe tbody tr th:only-of-type {\n",
       "        vertical-align: middle;\n",
       "    }\n",
       "\n",
       "    .dataframe tbody tr th {\n",
       "        vertical-align: top;\n",
       "    }\n",
       "\n",
       "    .dataframe thead th {\n",
       "        text-align: right;\n",
       "    }\n",
       "</style>\n",
       "<table border=\"1\" class=\"dataframe\">\n",
       "  <thead>\n",
       "    <tr style=\"text-align: right;\">\n",
       "      <th></th>\n",
       "      <th>Country</th>\n",
       "      <th>Year</th>\n",
       "      <th>goals_z</th>\n",
       "      <th>xg_z</th>\n",
       "      <th>boxtouches_z</th>\n",
       "      <th>progpasses_z</th>\n",
       "      <th>progruns_z</th>\n",
       "      <th>new_xg</th>\n",
       "      <th>Fouled</th>\n",
       "      <th>results</th>\n",
       "    </tr>\n",
       "  </thead>\n",
       "  <tbody>\n",
       "    <tr>\n",
       "      <th>66</th>\n",
       "      <td>Brazil</td>\n",
       "      <td>2002</td>\n",
       "      <td>0.843846</td>\n",
       "      <td>0.712308</td>\n",
       "      <td>0.245385</td>\n",
       "      <td>-0.181538</td>\n",
       "      <td>0.834615</td>\n",
       "      <td>1.206928</td>\n",
       "      <td>0.235384</td>\n",
       "      <td>1</td>\n",
       "    </tr>\n",
       "    <tr>\n",
       "      <th>65</th>\n",
       "      <td>Brazil</td>\n",
       "      <td>2006</td>\n",
       "      <td>0.619231</td>\n",
       "      <td>0.383846</td>\n",
       "      <td>0.277692</td>\n",
       "      <td>0.052308</td>\n",
       "      <td>0.713077</td>\n",
       "      <td>1.321730</td>\n",
       "      <td>0.299231</td>\n",
       "      <td>8</td>\n",
       "    </tr>\n",
       "    <tr>\n",
       "      <th>16</th>\n",
       "      <td>Brazil</td>\n",
       "      <td>2010</td>\n",
       "      <td>0.557692</td>\n",
       "      <td>0.186923</td>\n",
       "      <td>0.398462</td>\n",
       "      <td>0.247692</td>\n",
       "      <td>0.937692</td>\n",
       "      <td>1.295170</td>\n",
       "      <td>0.083070</td>\n",
       "      <td>8</td>\n",
       "    </tr>\n",
       "    <tr>\n",
       "      <th>17</th>\n",
       "      <td>Brazil</td>\n",
       "      <td>2014</td>\n",
       "      <td>0.328462</td>\n",
       "      <td>0.376154</td>\n",
       "      <td>0.475385</td>\n",
       "      <td>-0.193077</td>\n",
       "      <td>0.408462</td>\n",
       "      <td>2.032780</td>\n",
       "      <td>0.107691</td>\n",
       "      <td>4</td>\n",
       "    </tr>\n",
       "    <tr>\n",
       "      <th>18</th>\n",
       "      <td>Brazil</td>\n",
       "      <td>2018</td>\n",
       "      <td>0.427692</td>\n",
       "      <td>0.864615</td>\n",
       "      <td>1.153077</td>\n",
       "      <td>-0.015385</td>\n",
       "      <td>1.092308</td>\n",
       "      <td>4.424460</td>\n",
       "      <td>0.606154</td>\n",
       "      <td>8</td>\n",
       "    </tr>\n",
       "  </tbody>\n",
       "</table>\n",
       "</div>"
      ],
      "text/plain": [
       "   Country  Year   goals_z      xg_z  boxtouches_z  progpasses_z  progruns_z  \\\n",
       "66  Brazil  2002  0.843846  0.712308      0.245385     -0.181538    0.834615   \n",
       "65  Brazil  2006  0.619231  0.383846      0.277692      0.052308    0.713077   \n",
       "16  Brazil  2010  0.557692  0.186923      0.398462      0.247692    0.937692   \n",
       "17  Brazil  2014  0.328462  0.376154      0.475385     -0.193077    0.408462   \n",
       "18  Brazil  2018  0.427692  0.864615      1.153077     -0.015385    1.092308   \n",
       "\n",
       "      new_xg    Fouled  results  \n",
       "66  1.206928  0.235384        1  \n",
       "65  1.321730  0.299231        8  \n",
       "16  1.295170  0.083070        8  \n",
       "17  2.032780  0.107691        4  \n",
       "18  4.424460  0.606154        8  "
      ]
     },
     "execution_count": 785,
     "metadata": {},
     "output_type": "execute_result"
    }
   ],
   "source": [
    "brazil.sort_values('Year')"
   ]
  },
  {
   "cell_type": "code",
   "execution_count": 749,
   "metadata": {},
   "outputs": [],
   "source": [
    "england = stats_df[stats_df['Country'] == \"England\"]"
   ]
  },
  {
   "cell_type": "code",
   "execution_count": 750,
   "metadata": {},
   "outputs": [
    {
     "data": {
      "text/html": [
       "<div>\n",
       "<style scoped>\n",
       "    .dataframe tbody tr th:only-of-type {\n",
       "        vertical-align: middle;\n",
       "    }\n",
       "\n",
       "    .dataframe tbody tr th {\n",
       "        vertical-align: top;\n",
       "    }\n",
       "\n",
       "    .dataframe thead th {\n",
       "        text-align: right;\n",
       "    }\n",
       "</style>\n",
       "<table border=\"1\" class=\"dataframe\">\n",
       "  <thead>\n",
       "    <tr style=\"text-align: right;\">\n",
       "      <th></th>\n",
       "      <th>Country</th>\n",
       "      <th>Year</th>\n",
       "      <th>goals_z</th>\n",
       "      <th>xg_z</th>\n",
       "      <th>boxtouches_z</th>\n",
       "      <th>progpasses_z</th>\n",
       "      <th>progruns_z</th>\n",
       "      <th>new_xg</th>\n",
       "      <th>Fouled</th>\n",
       "      <th>results</th>\n",
       "    </tr>\n",
       "  </thead>\n",
       "  <tbody>\n",
       "    <tr>\n",
       "      <th>23</th>\n",
       "      <td>England</td>\n",
       "      <td>2010</td>\n",
       "      <td>-0.000769</td>\n",
       "      <td>0.323077</td>\n",
       "      <td>0.424615</td>\n",
       "      <td>-0.012308</td>\n",
       "      <td>0.154615</td>\n",
       "      <td>-1078.323790</td>\n",
       "      <td>0.133800</td>\n",
       "      <td>16</td>\n",
       "    </tr>\n",
       "    <tr>\n",
       "      <th>24</th>\n",
       "      <td>England</td>\n",
       "      <td>2014</td>\n",
       "      <td>-0.093077</td>\n",
       "      <td>0.301538</td>\n",
       "      <td>0.026154</td>\n",
       "      <td>-0.100769</td>\n",
       "      <td>0.210769</td>\n",
       "      <td>-5.074369</td>\n",
       "      <td>0.417692</td>\n",
       "      <td>32</td>\n",
       "    </tr>\n",
       "    <tr>\n",
       "      <th>25</th>\n",
       "      <td>England</td>\n",
       "      <td>2018</td>\n",
       "      <td>0.446923</td>\n",
       "      <td>0.404615</td>\n",
       "      <td>0.366923</td>\n",
       "      <td>-0.184615</td>\n",
       "      <td>0.086154</td>\n",
       "      <td>1.531841</td>\n",
       "      <td>0.313077</td>\n",
       "      <td>4</td>\n",
       "    </tr>\n",
       "  </tbody>\n",
       "</table>\n",
       "</div>"
      ],
      "text/plain": [
       "    Country  Year   goals_z      xg_z  boxtouches_z  progpasses_z  progruns_z  \\\n",
       "23  England  2010 -0.000769  0.323077      0.424615     -0.012308    0.154615   \n",
       "24  England  2014 -0.093077  0.301538      0.026154     -0.100769    0.210769   \n",
       "25  England  2018  0.446923  0.404615      0.366923     -0.184615    0.086154   \n",
       "\n",
       "         new_xg    Fouled  results  \n",
       "23 -1078.323790  0.133800       16  \n",
       "24    -5.074369  0.417692       32  \n",
       "25     1.531841  0.313077        4  "
      ]
     },
     "execution_count": 750,
     "metadata": {},
     "output_type": "execute_result"
    }
   ],
   "source": [
    "england"
   ]
  },
  {
   "cell_type": "code",
   "execution_count": 747,
   "metadata": {},
   "outputs": [],
   "source": [
    "argentina = stats_df[stats_df['Country'] == \"Argentina\"]"
   ]
  },
  {
   "cell_type": "code",
   "execution_count": 748,
   "metadata": {},
   "outputs": [
    {
     "data": {
      "text/html": [
       "<div>\n",
       "<style scoped>\n",
       "    .dataframe tbody tr th:only-of-type {\n",
       "        vertical-align: middle;\n",
       "    }\n",
       "\n",
       "    .dataframe tbody tr th {\n",
       "        vertical-align: top;\n",
       "    }\n",
       "\n",
       "    .dataframe thead th {\n",
       "        text-align: right;\n",
       "    }\n",
       "</style>\n",
       "<table border=\"1\" class=\"dataframe\">\n",
       "  <thead>\n",
       "    <tr style=\"text-align: right;\">\n",
       "      <th></th>\n",
       "      <th>Country</th>\n",
       "      <th>Year</th>\n",
       "      <th>goals_z</th>\n",
       "      <th>xg_z</th>\n",
       "      <th>boxtouches_z</th>\n",
       "      <th>progpasses_z</th>\n",
       "      <th>progruns_z</th>\n",
       "      <th>new_xg</th>\n",
       "      <th>Fouled</th>\n",
       "      <th>results</th>\n",
       "    </tr>\n",
       "  </thead>\n",
       "  <tbody>\n",
       "    <tr>\n",
       "      <th>26</th>\n",
       "      <td>Argentina</td>\n",
       "      <td>2010</td>\n",
       "      <td>0.450769</td>\n",
       "      <td>0.496154</td>\n",
       "      <td>0.553846</td>\n",
       "      <td>0.065385</td>\n",
       "      <td>0.020000</td>\n",
       "      <td>2.184302</td>\n",
       "      <td>0.620000</td>\n",
       "      <td>8</td>\n",
       "    </tr>\n",
       "    <tr>\n",
       "      <th>27</th>\n",
       "      <td>Argentina</td>\n",
       "      <td>2014</td>\n",
       "      <td>0.011538</td>\n",
       "      <td>0.152308</td>\n",
       "      <td>0.289231</td>\n",
       "      <td>-0.141538</td>\n",
       "      <td>0.170769</td>\n",
       "      <td>27.801178</td>\n",
       "      <td>0.432308</td>\n",
       "      <td>2</td>\n",
       "    </tr>\n",
       "    <tr>\n",
       "      <th>28</th>\n",
       "      <td>Argentina</td>\n",
       "      <td>2018</td>\n",
       "      <td>0.373846</td>\n",
       "      <td>0.110000</td>\n",
       "      <td>0.300769</td>\n",
       "      <td>-0.213846</td>\n",
       "      <td>0.743077</td>\n",
       "      <td>1.141975</td>\n",
       "      <td>0.696923</td>\n",
       "      <td>16</td>\n",
       "    </tr>\n",
       "  </tbody>\n",
       "</table>\n",
       "</div>"
      ],
      "text/plain": [
       "      Country  Year   goals_z      xg_z  boxtouches_z  progpasses_z  \\\n",
       "26  Argentina  2010  0.450769  0.496154      0.553846      0.065385   \n",
       "27  Argentina  2014  0.011538  0.152308      0.289231     -0.141538   \n",
       "28  Argentina  2018  0.373846  0.110000      0.300769     -0.213846   \n",
       "\n",
       "    progruns_z     new_xg    Fouled  results  \n",
       "26    0.020000   2.184302  0.620000        8  \n",
       "27    0.170769  27.801178  0.432308        2  \n",
       "28    0.743077   1.141975  0.696923       16  "
      ]
     },
     "execution_count": 748,
     "metadata": {},
     "output_type": "execute_result"
    }
   ],
   "source": [
    "argentina"
   ]
  },
  {
   "cell_type": "code",
   "execution_count": 786,
   "metadata": {},
   "outputs": [],
   "source": [
    "spain = stats_df[stats_df['Country'] == \"Spain\"]"
   ]
  },
  {
   "cell_type": "code",
   "execution_count": 787,
   "metadata": {},
   "outputs": [
    {
     "data": {
      "text/html": [
       "<div>\n",
       "<style scoped>\n",
       "    .dataframe tbody tr th:only-of-type {\n",
       "        vertical-align: middle;\n",
       "    }\n",
       "\n",
       "    .dataframe tbody tr th {\n",
       "        vertical-align: top;\n",
       "    }\n",
       "\n",
       "    .dataframe thead th {\n",
       "        text-align: right;\n",
       "    }\n",
       "</style>\n",
       "<table border=\"1\" class=\"dataframe\">\n",
       "  <thead>\n",
       "    <tr style=\"text-align: right;\">\n",
       "      <th></th>\n",
       "      <th>Country</th>\n",
       "      <th>Year</th>\n",
       "      <th>goals_z</th>\n",
       "      <th>xg_z</th>\n",
       "      <th>boxtouches_z</th>\n",
       "      <th>progpasses_z</th>\n",
       "      <th>progruns_z</th>\n",
       "      <th>new_xg</th>\n",
       "      <th>Fouled</th>\n",
       "      <th>results</th>\n",
       "    </tr>\n",
       "  </thead>\n",
       "  <tbody>\n",
       "    <tr>\n",
       "      <th>64</th>\n",
       "      <td>Spain</td>\n",
       "      <td>2002</td>\n",
       "      <td>0.451538</td>\n",
       "      <td>0.495385</td>\n",
       "      <td>0.182308</td>\n",
       "      <td>-0.222308</td>\n",
       "      <td>0.130769</td>\n",
       "      <td>1.390122</td>\n",
       "      <td>0.445384</td>\n",
       "      <td>8</td>\n",
       "    </tr>\n",
       "    <tr>\n",
       "      <th>63</th>\n",
       "      <td>Spain</td>\n",
       "      <td>2006</td>\n",
       "      <td>0.881538</td>\n",
       "      <td>1.015385</td>\n",
       "      <td>0.533077</td>\n",
       "      <td>0.266154</td>\n",
       "      <td>0.080000</td>\n",
       "      <td>1.890053</td>\n",
       "      <td>0.051539</td>\n",
       "      <td>16</td>\n",
       "    </tr>\n",
       "    <tr>\n",
       "      <th>8</th>\n",
       "      <td>Spain</td>\n",
       "      <td>2010</td>\n",
       "      <td>0.180000</td>\n",
       "      <td>0.539231</td>\n",
       "      <td>0.868462</td>\n",
       "      <td>0.320000</td>\n",
       "      <td>1.432308</td>\n",
       "      <td>7.230700</td>\n",
       "      <td>0.603070</td>\n",
       "      <td>1</td>\n",
       "    </tr>\n",
       "    <tr>\n",
       "      <th>9</th>\n",
       "      <td>Spain</td>\n",
       "      <td>2014</td>\n",
       "      <td>0.243846</td>\n",
       "      <td>0.536154</td>\n",
       "      <td>0.596923</td>\n",
       "      <td>-0.052308</td>\n",
       "      <td>0.489231</td>\n",
       "      <td>3.889500</td>\n",
       "      <td>0.724615</td>\n",
       "      <td>32</td>\n",
       "    </tr>\n",
       "    <tr>\n",
       "      <th>10</th>\n",
       "      <td>Spain</td>\n",
       "      <td>2018</td>\n",
       "      <td>0.190769</td>\n",
       "      <td>0.680769</td>\n",
       "      <td>0.763077</td>\n",
       "      <td>0.267692</td>\n",
       "      <td>0.981538</td>\n",
       "      <td>7.375000</td>\n",
       "      <td>0.605385</td>\n",
       "      <td>16</td>\n",
       "    </tr>\n",
       "  </tbody>\n",
       "</table>\n",
       "</div>"
      ],
      "text/plain": [
       "   Country  Year   goals_z      xg_z  boxtouches_z  progpasses_z  progruns_z  \\\n",
       "64   Spain  2002  0.451538  0.495385      0.182308     -0.222308    0.130769   \n",
       "63   Spain  2006  0.881538  1.015385      0.533077      0.266154    0.080000   \n",
       "8    Spain  2010  0.180000  0.539231      0.868462      0.320000    1.432308   \n",
       "9    Spain  2014  0.243846  0.536154      0.596923     -0.052308    0.489231   \n",
       "10   Spain  2018  0.190769  0.680769      0.763077      0.267692    0.981538   \n",
       "\n",
       "      new_xg    Fouled  results  \n",
       "64  1.390122  0.445384        8  \n",
       "63  1.890053  0.051539       16  \n",
       "8   7.230700  0.603070        1  \n",
       "9   3.889500  0.724615       32  \n",
       "10  7.375000  0.605385       16  "
      ]
     },
     "execution_count": 787,
     "metadata": {},
     "output_type": "execute_result"
    }
   ],
   "source": [
    "spain.sort_values('Year')"
   ]
  },
  {
   "cell_type": "code",
   "execution_count": 781,
   "metadata": {},
   "outputs": [],
   "source": [
    "switzerland = stats_df[stats_df['Country'] == \"Switzerland\"]"
   ]
  },
  {
   "cell_type": "code",
   "execution_count": 782,
   "metadata": {},
   "outputs": [
    {
     "data": {
      "text/html": [
       "<div>\n",
       "<style scoped>\n",
       "    .dataframe tbody tr th:only-of-type {\n",
       "        vertical-align: middle;\n",
       "    }\n",
       "\n",
       "    .dataframe tbody tr th {\n",
       "        vertical-align: top;\n",
       "    }\n",
       "\n",
       "    .dataframe thead th {\n",
       "        text-align: right;\n",
       "    }\n",
       "</style>\n",
       "<table border=\"1\" class=\"dataframe\">\n",
       "  <thead>\n",
       "    <tr style=\"text-align: right;\">\n",
       "      <th></th>\n",
       "      <th>Country</th>\n",
       "      <th>Year</th>\n",
       "      <th>goals_z</th>\n",
       "      <th>xg_z</th>\n",
       "      <th>boxtouches_z</th>\n",
       "      <th>progpasses_z</th>\n",
       "      <th>progruns_z</th>\n",
       "      <th>new_xg</th>\n",
       "      <th>Fouled</th>\n",
       "      <th>results</th>\n",
       "    </tr>\n",
       "  </thead>\n",
       "  <tbody>\n",
       "    <tr>\n",
       "      <th>5</th>\n",
       "      <td>Switzerland</td>\n",
       "      <td>2010</td>\n",
       "      <td>-0.222308</td>\n",
       "      <td>0.122308</td>\n",
       "      <td>0.128462</td>\n",
       "      <td>0.071538</td>\n",
       "      <td>-0.068462</td>\n",
       "      <td>-1.761200</td>\n",
       "      <td>-0.386900</td>\n",
       "      <td>32</td>\n",
       "    </tr>\n",
       "    <tr>\n",
       "      <th>6</th>\n",
       "      <td>Switzerland</td>\n",
       "      <td>2014</td>\n",
       "      <td>0.387692</td>\n",
       "      <td>0.550769</td>\n",
       "      <td>0.138462</td>\n",
       "      <td>0.213077</td>\n",
       "      <td>0.050769</td>\n",
       "      <td>1.954300</td>\n",
       "      <td>0.059230</td>\n",
       "      <td>16</td>\n",
       "    </tr>\n",
       "    <tr>\n",
       "      <th>7</th>\n",
       "      <td>Switzerland</td>\n",
       "      <td>2018</td>\n",
       "      <td>0.241538</td>\n",
       "      <td>0.330769</td>\n",
       "      <td>0.181538</td>\n",
       "      <td>0.113077</td>\n",
       "      <td>0.286923</td>\n",
       "      <td>2.143300</td>\n",
       "      <td>0.156100</td>\n",
       "      <td>16</td>\n",
       "    </tr>\n",
       "    <tr>\n",
       "      <th>62</th>\n",
       "      <td>Switzerland</td>\n",
       "      <td>2006</td>\n",
       "      <td>0.113077</td>\n",
       "      <td>0.003846</td>\n",
       "      <td>-0.033077</td>\n",
       "      <td>0.148462</td>\n",
       "      <td>-0.072308</td>\n",
       "      <td>-0.360541</td>\n",
       "      <td>0.297692</td>\n",
       "      <td>16</td>\n",
       "    </tr>\n",
       "  </tbody>\n",
       "</table>\n",
       "</div>"
      ],
      "text/plain": [
       "        Country  Year   goals_z      xg_z  boxtouches_z  progpasses_z  \\\n",
       "5   Switzerland  2010 -0.222308  0.122308      0.128462      0.071538   \n",
       "6   Switzerland  2014  0.387692  0.550769      0.138462      0.213077   \n",
       "7   Switzerland  2018  0.241538  0.330769      0.181538      0.113077   \n",
       "62  Switzerland  2006  0.113077  0.003846     -0.033077      0.148462   \n",
       "\n",
       "    progruns_z    new_xg    Fouled  results  \n",
       "5    -0.068462 -1.761200 -0.386900       32  \n",
       "6     0.050769  1.954300  0.059230       16  \n",
       "7     0.286923  2.143300  0.156100       16  \n",
       "62   -0.072308 -0.360541  0.297692       16  "
      ]
     },
     "execution_count": 782,
     "metadata": {},
     "output_type": "execute_result"
    }
   ],
   "source": [
    "switzerland"
   ]
  },
  {
   "cell_type": "markdown",
   "metadata": {},
   "source": [
    "## World Cup Data from 2018 - 2002\n",
    "\n",
    "initialized to variable df"
   ]
  },
  {
   "cell_type": "code",
   "execution_count": 738,
   "metadata": {},
   "outputs": [],
   "source": [
    "# # df = pd.concat(\n",
    "# #     map(pd.read_csv, ['FIFA - 2018.csv', 'FIFA - 2014.csv', 'FIFA - 2010.csv', 'FIFA - 2006.csv', 'FIFA - 2002.csv', 'FIFA - 1998.csv', 'FIFA - 1994.csv', 'FIFA - 1990.csv', 'FIFA - 1986.csv', 'FIFA - 1982.csv', 'FIFA - 1978.csv', 'FIFA - 1974.csv', 'FIFA - 1970.csv' ]), ignore_index=True)\n",
    "# # print(df)\n",
    "\n",
    "# df = pd.concat(\n",
    "#     map(pd.read_csv, ['FIFA - 2018.csv', 'FIFA - 2014.csv', 'FIFA - 2010.csv', 'FIFA - 2006.csv', 'FIFA - 2002.csv']))\n"
   ]
  },
  {
   "cell_type": "code",
   "execution_count": 739,
   "metadata": {},
   "outputs": [],
   "source": [
    "# df.columns"
   ]
  },
  {
   "cell_type": "code",
   "execution_count": 740,
   "metadata": {},
   "outputs": [],
   "source": [
    "# df.shape"
   ]
  },
  {
   "cell_type": "code",
   "execution_count": 741,
   "metadata": {},
   "outputs": [],
   "source": [
    "# df.head()"
   ]
  },
  {
   "cell_type": "code",
   "execution_count": 742,
   "metadata": {},
   "outputs": [],
   "source": [
    "# df.tail()"
   ]
  },
  {
   "cell_type": "markdown",
   "metadata": {},
   "source": [
    "### change to only teams in world cup 2022"
   ]
  },
  {
   "cell_type": "code",
   "execution_count": 696,
   "metadata": {},
   "outputs": [],
   "source": [
    "# teams_2022 = ['Qatar', 'Netherlands', 'Senegal', 'Ecuador', 'England', 'USA', 'Wales', 'Iran', 'Argentina', 'Poland', 'Mexico', 'Saudi Arabia', 'France', 'Denmark', 'Tunisia', 'Australia', 'Germany', 'Spain', 'Japan', 'Costa Rica', 'Belgium', 'Croatia', 'Canada', 'Morocco', 'Brazil', 'Switzerland', 'Serbia', 'Cameroon', 'Portugal', 'Uruguay', 'Ghana', 'Korea Republic']"
   ]
  },
  {
   "cell_type": "code",
   "execution_count": 697,
   "metadata": {},
   "outputs": [],
   "source": [
    "# df = df.loc[df['Team'].isin(teams_2022)]"
   ]
  },
  {
   "cell_type": "code",
   "execution_count": 698,
   "metadata": {},
   "outputs": [],
   "source": [
    "# df.head()"
   ]
  },
  {
   "cell_type": "code",
   "execution_count": null,
   "metadata": {},
   "outputs": [],
   "source": []
  },
  {
   "cell_type": "code",
   "execution_count": 699,
   "metadata": {},
   "outputs": [],
   "source": [
    "# df.tail()"
   ]
  },
  {
   "cell_type": "markdown",
   "metadata": {},
   "source": [
    "Team \tOdds to win 2022 World Cup\n",
    "- Brazil  \t+450\n",
    "- England \t+550\n",
    "- France \t+600\n",
    "- Argentina \t+700\n",
    "- Spain \t+800\n",
    "\n",
    "\n",
    "- Germany \t+1,000\n",
    "- Portugal \t+1,200\n",
    "- Netherlands \t+1,200\n",
    "- Belgium \t+1,400\n",
    "- Denmark \t+2,800"
   ]
  },
  {
   "cell_type": "code",
   "execution_count": 777,
   "metadata": {},
   "outputs": [
    {
     "data": {
      "text/html": [
       "<div>\n",
       "<style scoped>\n",
       "    .dataframe tbody tr th:only-of-type {\n",
       "        vertical-align: middle;\n",
       "    }\n",
       "\n",
       "    .dataframe tbody tr th {\n",
       "        vertical-align: top;\n",
       "    }\n",
       "\n",
       "    .dataframe thead th {\n",
       "        text-align: right;\n",
       "    }\n",
       "</style>\n",
       "<table border=\"1\" class=\"dataframe\">\n",
       "  <thead>\n",
       "    <tr style=\"text-align: right;\">\n",
       "      <th></th>\n",
       "      <th>Year</th>\n",
       "      <th>goals_z</th>\n",
       "      <th>xg_z</th>\n",
       "      <th>boxtouches_z</th>\n",
       "      <th>progpasses_z</th>\n",
       "      <th>progruns_z</th>\n",
       "      <th>new_xg</th>\n",
       "      <th>Fouled</th>\n",
       "      <th>results</th>\n",
       "    </tr>\n",
       "  </thead>\n",
       "  <tbody>\n",
       "    <tr>\n",
       "      <th>Year</th>\n",
       "      <td>1.000000</td>\n",
       "      <td>-0.359426</td>\n",
       "      <td>-0.267989</td>\n",
       "      <td>-0.003947</td>\n",
       "      <td>0.114174</td>\n",
       "      <td>-0.006640</td>\n",
       "      <td>0.085012</td>\n",
       "      <td>-0.163917</td>\n",
       "      <td>0.280675</td>\n",
       "    </tr>\n",
       "    <tr>\n",
       "      <th>goals_z</th>\n",
       "      <td>-0.359426</td>\n",
       "      <td>1.000000</td>\n",
       "      <td>0.615541</td>\n",
       "      <td>0.227388</td>\n",
       "      <td>0.107020</td>\n",
       "      <td>0.258342</td>\n",
       "      <td>0.103556</td>\n",
       "      <td>0.280846</td>\n",
       "      <td>-0.682917</td>\n",
       "    </tr>\n",
       "    <tr>\n",
       "      <th>xg_z</th>\n",
       "      <td>-0.267989</td>\n",
       "      <td>0.615541</td>\n",
       "      <td>1.000000</td>\n",
       "      <td>0.639295</td>\n",
       "      <td>0.281640</td>\n",
       "      <td>0.405144</td>\n",
       "      <td>-0.001127</td>\n",
       "      <td>0.366125</td>\n",
       "      <td>-0.345026</td>\n",
       "    </tr>\n",
       "    <tr>\n",
       "      <th>boxtouches_z</th>\n",
       "      <td>-0.003947</td>\n",
       "      <td>0.227388</td>\n",
       "      <td>0.639295</td>\n",
       "      <td>1.000000</td>\n",
       "      <td>0.393248</td>\n",
       "      <td>0.528139</td>\n",
       "      <td>-0.054655</td>\n",
       "      <td>0.325254</td>\n",
       "      <td>-0.144058</td>\n",
       "    </tr>\n",
       "    <tr>\n",
       "      <th>progpasses_z</th>\n",
       "      <td>0.114174</td>\n",
       "      <td>0.107020</td>\n",
       "      <td>0.281640</td>\n",
       "      <td>0.393248</td>\n",
       "      <td>1.000000</td>\n",
       "      <td>0.426228</td>\n",
       "      <td>-0.007527</td>\n",
       "      <td>0.188019</td>\n",
       "      <td>0.036813</td>\n",
       "    </tr>\n",
       "    <tr>\n",
       "      <th>progruns_z</th>\n",
       "      <td>-0.006640</td>\n",
       "      <td>0.258342</td>\n",
       "      <td>0.405144</td>\n",
       "      <td>0.528139</td>\n",
       "      <td>0.426228</td>\n",
       "      <td>1.000000</td>\n",
       "      <td>0.021065</td>\n",
       "      <td>0.404195</td>\n",
       "      <td>-0.229097</td>\n",
       "    </tr>\n",
       "    <tr>\n",
       "      <th>new_xg</th>\n",
       "      <td>0.085012</td>\n",
       "      <td>0.103556</td>\n",
       "      <td>-0.001127</td>\n",
       "      <td>-0.054655</td>\n",
       "      <td>-0.007527</td>\n",
       "      <td>0.021065</td>\n",
       "      <td>1.000000</td>\n",
       "      <td>-0.022472</td>\n",
       "      <td>0.002301</td>\n",
       "    </tr>\n",
       "    <tr>\n",
       "      <th>Fouled</th>\n",
       "      <td>-0.163917</td>\n",
       "      <td>0.280846</td>\n",
       "      <td>0.366125</td>\n",
       "      <td>0.325254</td>\n",
       "      <td>0.188019</td>\n",
       "      <td>0.404195</td>\n",
       "      <td>-0.022472</td>\n",
       "      <td>1.000000</td>\n",
       "      <td>-0.297573</td>\n",
       "    </tr>\n",
       "    <tr>\n",
       "      <th>results</th>\n",
       "      <td>0.280675</td>\n",
       "      <td>-0.682917</td>\n",
       "      <td>-0.345026</td>\n",
       "      <td>-0.144058</td>\n",
       "      <td>0.036813</td>\n",
       "      <td>-0.229097</td>\n",
       "      <td>0.002301</td>\n",
       "      <td>-0.297573</td>\n",
       "      <td>1.000000</td>\n",
       "    </tr>\n",
       "  </tbody>\n",
       "</table>\n",
       "</div>"
      ],
      "text/plain": [
       "                  Year   goals_z      xg_z  boxtouches_z  progpasses_z  \\\n",
       "Year          1.000000 -0.359426 -0.267989     -0.003947      0.114174   \n",
       "goals_z      -0.359426  1.000000  0.615541      0.227388      0.107020   \n",
       "xg_z         -0.267989  0.615541  1.000000      0.639295      0.281640   \n",
       "boxtouches_z -0.003947  0.227388  0.639295      1.000000      0.393248   \n",
       "progpasses_z  0.114174  0.107020  0.281640      0.393248      1.000000   \n",
       "progruns_z   -0.006640  0.258342  0.405144      0.528139      0.426228   \n",
       "new_xg        0.085012  0.103556 -0.001127     -0.054655     -0.007527   \n",
       "Fouled       -0.163917  0.280846  0.366125      0.325254      0.188019   \n",
       "results       0.280675 -0.682917 -0.345026     -0.144058      0.036813   \n",
       "\n",
       "              progruns_z    new_xg    Fouled   results  \n",
       "Year           -0.006640  0.085012 -0.163917  0.280675  \n",
       "goals_z         0.258342  0.103556  0.280846 -0.682917  \n",
       "xg_z            0.405144 -0.001127  0.366125 -0.345026  \n",
       "boxtouches_z    0.528139 -0.054655  0.325254 -0.144058  \n",
       "progpasses_z    0.426228 -0.007527  0.188019  0.036813  \n",
       "progruns_z      1.000000  0.021065  0.404195 -0.229097  \n",
       "new_xg          0.021065  1.000000 -0.022472  0.002301  \n",
       "Fouled          0.404195 -0.022472  1.000000 -0.297573  \n",
       "results        -0.229097  0.002301 -0.297573  1.000000  "
      ]
     },
     "execution_count": 777,
     "metadata": {},
     "output_type": "execute_result"
    }
   ],
   "source": [
    "stats_df.corr()"
   ]
  },
  {
   "cell_type": "code",
   "execution_count": 776,
   "metadata": {},
   "outputs": [
    {
     "data": {
      "text/plain": [
       "(67, 10)"
      ]
     },
     "execution_count": 776,
     "metadata": {},
     "output_type": "execute_result"
    }
   ],
   "source": [
    "stats_df.shape"
   ]
  },
  {
   "cell_type": "code",
   "execution_count": null,
   "metadata": {},
   "outputs": [],
   "source": []
  }
 ],
 "metadata": {
  "kernelspec": {
   "display_name": "Python 3 (ipykernel)",
   "language": "python",
   "name": "python3"
  },
  "language_info": {
   "codemirror_mode": {
    "name": "ipython",
    "version": 3
   },
   "file_extension": ".py",
   "mimetype": "text/x-python",
   "name": "python",
   "nbconvert_exporter": "python",
   "pygments_lexer": "ipython3",
   "version": "3.9.12"
  }
 },
 "nbformat": 4,
 "nbformat_minor": 5
}
