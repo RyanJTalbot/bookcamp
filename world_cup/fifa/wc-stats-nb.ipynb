{
 "cells": [
  {
   "cell_type": "markdown",
   "metadata": {},
   "source": [
    "https://santiagof.medium.com/model-interpretability-making-your-model-confess-feature-importance-34993e001d99"
   ]
  },
  {
   "cell_type": "code",
   "execution_count": 1,
   "metadata": {},
   "outputs": [],
   "source": [
    "import pandas as pd\n",
    "import numpy as np\n",
    "from sklearn.model_selection import train_test_split\n",
    "import seaborn as sns\n",
    "import matplotlib.pyplot as plt"
   ]
  },
  {
   "cell_type": "code",
   "execution_count": 2,
   "metadata": {},
   "outputs": [],
   "source": [
    "df = pd.read_csv('WC-stats.csv')"
   ]
  },
  {
   "cell_type": "code",
   "execution_count": 3,
   "metadata": {},
   "outputs": [
    {
     "data": {
      "text/html": [
       "<div>\n",
       "<style scoped>\n",
       "    .dataframe tbody tr th:only-of-type {\n",
       "        vertical-align: middle;\n",
       "    }\n",
       "\n",
       "    .dataframe tbody tr th {\n",
       "        vertical-align: top;\n",
       "    }\n",
       "\n",
       "    .dataframe thead th {\n",
       "        text-align: right;\n",
       "    }\n",
       "</style>\n",
       "<table border=\"1\" class=\"dataframe\">\n",
       "  <thead>\n",
       "    <tr style=\"text-align: right;\">\n",
       "      <th></th>\n",
       "      <th>goals_z</th>\n",
       "      <th>xg_z</th>\n",
       "      <th>crosses_z</th>\n",
       "      <th>boxtouches_z</th>\n",
       "      <th>passes_z</th>\n",
       "      <th>progpasses_z</th>\n",
       "      <th>takeons_z</th>\n",
       "      <th>progruns_z</th>\n",
       "      <th>tackles_z</th>\n",
       "      <th>interceptions_z</th>\n",
       "      <th>clearances_z</th>\n",
       "      <th>blocks_z</th>\n",
       "      <th>aerials_z</th>\n",
       "      <th>fouls_z</th>\n",
       "      <th>fouled_z</th>\n",
       "      <th>nsxg_z</th>\n",
       "      <th>results</th>\n",
       "    </tr>\n",
       "  </thead>\n",
       "  <tbody>\n",
       "    <tr>\n",
       "      <th>0</th>\n",
       "      <td>0.423077</td>\n",
       "      <td>0.146923</td>\n",
       "      <td>-0.136154</td>\n",
       "      <td>-0.030000</td>\n",
       "      <td>0.429231</td>\n",
       "      <td>0.037692</td>\n",
       "      <td>0.244615</td>\n",
       "      <td>-0.220000</td>\n",
       "      <td>0.216154</td>\n",
       "      <td>0.270000</td>\n",
       "      <td>-0.076923</td>\n",
       "      <td>-0.097692</td>\n",
       "      <td>-0.020000</td>\n",
       "      <td>-0.224615</td>\n",
       "      <td>0.100769</td>\n",
       "      <td>-0.124615</td>\n",
       "      <td>2</td>\n",
       "    </tr>\n",
       "    <tr>\n",
       "      <th>1</th>\n",
       "      <td>0.216923</td>\n",
       "      <td>0.348462</td>\n",
       "      <td>0.031538</td>\n",
       "      <td>0.158462</td>\n",
       "      <td>0.835385</td>\n",
       "      <td>0.626923</td>\n",
       "      <td>0.270000</td>\n",
       "      <td>0.266923</td>\n",
       "      <td>1.143846</td>\n",
       "      <td>0.834615</td>\n",
       "      <td>-0.059231</td>\n",
       "      <td>-0.134615</td>\n",
       "      <td>0.196923</td>\n",
       "      <td>-0.016923</td>\n",
       "      <td>0.033846</td>\n",
       "      <td>0.146923</td>\n",
       "      <td>1</td>\n",
       "    </tr>\n",
       "    <tr>\n",
       "      <th>2</th>\n",
       "      <td>0.113846</td>\n",
       "      <td>0.392308</td>\n",
       "      <td>0.599231</td>\n",
       "      <td>0.513846</td>\n",
       "      <td>0.833077</td>\n",
       "      <td>0.405385</td>\n",
       "      <td>0.521538</td>\n",
       "      <td>1.139231</td>\n",
       "      <td>1.109231</td>\n",
       "      <td>0.859231</td>\n",
       "      <td>0.084615</td>\n",
       "      <td>0.103077</td>\n",
       "      <td>0.683846</td>\n",
       "      <td>0.213846</td>\n",
       "      <td>0.353846</td>\n",
       "      <td>0.786923</td>\n",
       "      <td>9</td>\n",
       "    </tr>\n",
       "    <tr>\n",
       "      <th>3</th>\n",
       "      <td>0.479231</td>\n",
       "      <td>0.609231</td>\n",
       "      <td>0.227692</td>\n",
       "      <td>0.450769</td>\n",
       "      <td>0.770769</td>\n",
       "      <td>0.042308</td>\n",
       "      <td>0.337692</td>\n",
       "      <td>0.927692</td>\n",
       "      <td>0.506923</td>\n",
       "      <td>1.015385</td>\n",
       "      <td>0.020769</td>\n",
       "      <td>0.381538</td>\n",
       "      <td>0.038462</td>\n",
       "      <td>0.039231</td>\n",
       "      <td>0.022308</td>\n",
       "      <td>0.692308</td>\n",
       "      <td>5</td>\n",
       "    </tr>\n",
       "    <tr>\n",
       "      <th>4</th>\n",
       "      <td>0.877692</td>\n",
       "      <td>0.773846</td>\n",
       "      <td>0.428462</td>\n",
       "      <td>0.659231</td>\n",
       "      <td>0.754615</td>\n",
       "      <td>0.335385</td>\n",
       "      <td>0.023077</td>\n",
       "      <td>0.638462</td>\n",
       "      <td>0.493846</td>\n",
       "      <td>0.637692</td>\n",
       "      <td>-0.117692</td>\n",
       "      <td>-0.033846</td>\n",
       "      <td>0.572308</td>\n",
       "      <td>-0.016154</td>\n",
       "      <td>-0.096923</td>\n",
       "      <td>0.890769</td>\n",
       "      <td>5</td>\n",
       "    </tr>\n",
       "  </tbody>\n",
       "</table>\n",
       "</div>"
      ],
      "text/plain": [
       "    goals_z      xg_z  crosses_z  boxtouches_z  passes_z  progpasses_z  \\\n",
       "0  0.423077  0.146923  -0.136154     -0.030000  0.429231      0.037692   \n",
       "1  0.216923  0.348462   0.031538      0.158462  0.835385      0.626923   \n",
       "2  0.113846  0.392308   0.599231      0.513846  0.833077      0.405385   \n",
       "3  0.479231  0.609231   0.227692      0.450769  0.770769      0.042308   \n",
       "4  0.877692  0.773846   0.428462      0.659231  0.754615      0.335385   \n",
       "\n",
       "   takeons_z  progruns_z  tackles_z  interceptions_z  clearances_z  blocks_z  \\\n",
       "0   0.244615   -0.220000   0.216154         0.270000     -0.076923 -0.097692   \n",
       "1   0.270000    0.266923   1.143846         0.834615     -0.059231 -0.134615   \n",
       "2   0.521538    1.139231   1.109231         0.859231      0.084615  0.103077   \n",
       "3   0.337692    0.927692   0.506923         1.015385      0.020769  0.381538   \n",
       "4   0.023077    0.638462   0.493846         0.637692     -0.117692 -0.033846   \n",
       "\n",
       "   aerials_z   fouls_z  fouled_z    nsxg_z  results  \n",
       "0  -0.020000 -0.224615  0.100769 -0.124615        2  \n",
       "1   0.196923 -0.016923  0.033846  0.146923        1  \n",
       "2   0.683846  0.213846  0.353846  0.786923        9  \n",
       "3   0.038462  0.039231  0.022308  0.692308        5  \n",
       "4   0.572308 -0.016154 -0.096923  0.890769        5  "
      ]
     },
     "execution_count": 3,
     "metadata": {},
     "output_type": "execute_result"
    }
   ],
   "source": [
    "df.head()"
   ]
  },
  {
   "cell_type": "code",
   "execution_count": 4,
   "metadata": {},
   "outputs": [
    {
     "data": {
      "text/plain": [
       "(158, 17)"
      ]
     },
     "execution_count": 4,
     "metadata": {},
     "output_type": "execute_result"
    }
   ],
   "source": [
    "df.shape"
   ]
  },
  {
   "cell_type": "code",
   "execution_count": 5,
   "metadata": {},
   "outputs": [
    {
     "name": "stdout",
     "output_type": "stream",
     "text": [
      "<class 'pandas.core.frame.DataFrame'>\n",
      "RangeIndex: 158 entries, 0 to 157\n",
      "Data columns (total 17 columns):\n",
      " #   Column           Non-Null Count  Dtype  \n",
      "---  ------           --------------  -----  \n",
      " 0   goals_z          158 non-null    float64\n",
      " 1   xg_z             158 non-null    float64\n",
      " 2   crosses_z        158 non-null    float64\n",
      " 3   boxtouches_z     158 non-null    float64\n",
      " 4   passes_z         158 non-null    float64\n",
      " 5   progpasses_z     158 non-null    float64\n",
      " 6   takeons_z        158 non-null    float64\n",
      " 7   progruns_z       158 non-null    float64\n",
      " 8   tackles_z        158 non-null    float64\n",
      " 9   interceptions_z  158 non-null    float64\n",
      " 10  clearances_z     158 non-null    float64\n",
      " 11  blocks_z         158 non-null    float64\n",
      " 12  aerials_z        158 non-null    float64\n",
      " 13  fouls_z          158 non-null    float64\n",
      " 14  fouled_z         158 non-null    float64\n",
      " 15  nsxg_z           158 non-null    float64\n",
      " 16  results          158 non-null    int64  \n",
      "dtypes: float64(16), int64(1)\n",
      "memory usage: 21.1 KB\n"
     ]
    }
   ],
   "source": [
    "df.info()"
   ]
  },
  {
   "cell_type": "code",
   "execution_count": 6,
   "metadata": {},
   "outputs": [
    {
     "data": {
      "text/html": [
       "<div>\n",
       "<style scoped>\n",
       "    .dataframe tbody tr th:only-of-type {\n",
       "        vertical-align: middle;\n",
       "    }\n",
       "\n",
       "    .dataframe tbody tr th {\n",
       "        vertical-align: top;\n",
       "    }\n",
       "\n",
       "    .dataframe thead th {\n",
       "        text-align: right;\n",
       "    }\n",
       "</style>\n",
       "<table border=\"1\" class=\"dataframe\">\n",
       "  <thead>\n",
       "    <tr style=\"text-align: right;\">\n",
       "      <th></th>\n",
       "      <th>goals_z</th>\n",
       "      <th>xg_z</th>\n",
       "      <th>crosses_z</th>\n",
       "      <th>boxtouches_z</th>\n",
       "      <th>passes_z</th>\n",
       "      <th>progpasses_z</th>\n",
       "      <th>takeons_z</th>\n",
       "      <th>progruns_z</th>\n",
       "      <th>tackles_z</th>\n",
       "      <th>interceptions_z</th>\n",
       "      <th>clearances_z</th>\n",
       "      <th>blocks_z</th>\n",
       "      <th>aerials_z</th>\n",
       "      <th>fouls_z</th>\n",
       "      <th>fouled_z</th>\n",
       "      <th>nsxg_z</th>\n",
       "      <th>results</th>\n",
       "    </tr>\n",
       "  </thead>\n",
       "  <tbody>\n",
       "    <tr>\n",
       "      <th>goals_z</th>\n",
       "      <td>1.000000</td>\n",
       "      <td>0.593882</td>\n",
       "      <td>0.042906</td>\n",
       "      <td>0.300056</td>\n",
       "      <td>0.257896</td>\n",
       "      <td>0.104536</td>\n",
       "      <td>0.292063</td>\n",
       "      <td>0.220753</td>\n",
       "      <td>0.313448</td>\n",
       "      <td>0.262674</td>\n",
       "      <td>-0.169119</td>\n",
       "      <td>0.080306</td>\n",
       "      <td>0.065206</td>\n",
       "      <td>-0.154157</td>\n",
       "      <td>0.015971</td>\n",
       "      <td>0.370490</td>\n",
       "      <td>-0.642001</td>\n",
       "    </tr>\n",
       "    <tr>\n",
       "      <th>xg_z</th>\n",
       "      <td>0.593882</td>\n",
       "      <td>1.000000</td>\n",
       "      <td>0.383316</td>\n",
       "      <td>0.669005</td>\n",
       "      <td>0.379186</td>\n",
       "      <td>0.168393</td>\n",
       "      <td>0.341023</td>\n",
       "      <td>0.439055</td>\n",
       "      <td>0.408050</td>\n",
       "      <td>0.334599</td>\n",
       "      <td>-0.356212</td>\n",
       "      <td>0.137321</td>\n",
       "      <td>0.085119</td>\n",
       "      <td>-0.080857</td>\n",
       "      <td>0.150826</td>\n",
       "      <td>0.679585</td>\n",
       "      <td>-0.315752</td>\n",
       "    </tr>\n",
       "    <tr>\n",
       "      <th>crosses_z</th>\n",
       "      <td>0.042906</td>\n",
       "      <td>0.383316</td>\n",
       "      <td>1.000000</td>\n",
       "      <td>0.644555</td>\n",
       "      <td>0.234163</td>\n",
       "      <td>0.285101</td>\n",
       "      <td>0.115226</td>\n",
       "      <td>0.262945</td>\n",
       "      <td>0.193384</td>\n",
       "      <td>0.230263</td>\n",
       "      <td>-0.191263</td>\n",
       "      <td>0.075910</td>\n",
       "      <td>0.264544</td>\n",
       "      <td>0.025607</td>\n",
       "      <td>0.202819</td>\n",
       "      <td>0.666068</td>\n",
       "      <td>0.034878</td>\n",
       "    </tr>\n",
       "    <tr>\n",
       "      <th>boxtouches_z</th>\n",
       "      <td>0.300056</td>\n",
       "      <td>0.669005</td>\n",
       "      <td>0.644555</td>\n",
       "      <td>1.000000</td>\n",
       "      <td>0.382181</td>\n",
       "      <td>0.238482</td>\n",
       "      <td>0.202332</td>\n",
       "      <td>0.432240</td>\n",
       "      <td>0.396708</td>\n",
       "      <td>0.337851</td>\n",
       "      <td>-0.420998</td>\n",
       "      <td>0.233539</td>\n",
       "      <td>0.280895</td>\n",
       "      <td>-0.103904</td>\n",
       "      <td>0.143837</td>\n",
       "      <td>0.855952</td>\n",
       "      <td>-0.200537</td>\n",
       "    </tr>\n",
       "    <tr>\n",
       "      <th>passes_z</th>\n",
       "      <td>0.257896</td>\n",
       "      <td>0.379186</td>\n",
       "      <td>0.234163</td>\n",
       "      <td>0.382181</td>\n",
       "      <td>1.000000</td>\n",
       "      <td>0.743879</td>\n",
       "      <td>0.398349</td>\n",
       "      <td>0.656938</td>\n",
       "      <td>0.757077</td>\n",
       "      <td>0.724294</td>\n",
       "      <td>-0.118588</td>\n",
       "      <td>0.430210</td>\n",
       "      <td>-0.000897</td>\n",
       "      <td>-0.019146</td>\n",
       "      <td>0.276909</td>\n",
       "      <td>0.520417</td>\n",
       "      <td>-0.178234</td>\n",
       "    </tr>\n",
       "    <tr>\n",
       "      <th>progpasses_z</th>\n",
       "      <td>0.104536</td>\n",
       "      <td>0.168393</td>\n",
       "      <td>0.285101</td>\n",
       "      <td>0.238482</td>\n",
       "      <td>0.743879</td>\n",
       "      <td>1.000000</td>\n",
       "      <td>0.180785</td>\n",
       "      <td>0.419958</td>\n",
       "      <td>0.523392</td>\n",
       "      <td>0.523185</td>\n",
       "      <td>-0.010195</td>\n",
       "      <td>0.384167</td>\n",
       "      <td>0.033427</td>\n",
       "      <td>0.164577</td>\n",
       "      <td>0.117262</td>\n",
       "      <td>0.395564</td>\n",
       "      <td>-0.084719</td>\n",
       "    </tr>\n",
       "    <tr>\n",
       "      <th>takeons_z</th>\n",
       "      <td>0.292063</td>\n",
       "      <td>0.341023</td>\n",
       "      <td>0.115226</td>\n",
       "      <td>0.202332</td>\n",
       "      <td>0.398349</td>\n",
       "      <td>0.180785</td>\n",
       "      <td>1.000000</td>\n",
       "      <td>0.567979</td>\n",
       "      <td>0.388583</td>\n",
       "      <td>0.377466</td>\n",
       "      <td>-0.075201</td>\n",
       "      <td>0.205780</td>\n",
       "      <td>-0.025027</td>\n",
       "      <td>0.015762</td>\n",
       "      <td>0.369726</td>\n",
       "      <td>0.373965</td>\n",
       "      <td>-0.174466</td>\n",
       "    </tr>\n",
       "    <tr>\n",
       "      <th>progruns_z</th>\n",
       "      <td>0.220753</td>\n",
       "      <td>0.439055</td>\n",
       "      <td>0.262945</td>\n",
       "      <td>0.432240</td>\n",
       "      <td>0.656938</td>\n",
       "      <td>0.419958</td>\n",
       "      <td>0.567979</td>\n",
       "      <td>1.000000</td>\n",
       "      <td>0.592725</td>\n",
       "      <td>0.488475</td>\n",
       "      <td>-0.062295</td>\n",
       "      <td>0.358292</td>\n",
       "      <td>0.028458</td>\n",
       "      <td>0.001364</td>\n",
       "      <td>0.301723</td>\n",
       "      <td>0.556932</td>\n",
       "      <td>-0.201809</td>\n",
       "    </tr>\n",
       "    <tr>\n",
       "      <th>tackles_z</th>\n",
       "      <td>0.313448</td>\n",
       "      <td>0.408050</td>\n",
       "      <td>0.193384</td>\n",
       "      <td>0.396708</td>\n",
       "      <td>0.757077</td>\n",
       "      <td>0.523392</td>\n",
       "      <td>0.388583</td>\n",
       "      <td>0.592725</td>\n",
       "      <td>1.000000</td>\n",
       "      <td>0.712897</td>\n",
       "      <td>-0.218618</td>\n",
       "      <td>0.325432</td>\n",
       "      <td>0.048009</td>\n",
       "      <td>-0.082459</td>\n",
       "      <td>0.286030</td>\n",
       "      <td>0.498909</td>\n",
       "      <td>-0.237599</td>\n",
       "    </tr>\n",
       "    <tr>\n",
       "      <th>interceptions_z</th>\n",
       "      <td>0.262674</td>\n",
       "      <td>0.334599</td>\n",
       "      <td>0.230263</td>\n",
       "      <td>0.337851</td>\n",
       "      <td>0.724294</td>\n",
       "      <td>0.523185</td>\n",
       "      <td>0.377466</td>\n",
       "      <td>0.488475</td>\n",
       "      <td>0.712897</td>\n",
       "      <td>1.000000</td>\n",
       "      <td>-0.099396</td>\n",
       "      <td>0.341119</td>\n",
       "      <td>0.064151</td>\n",
       "      <td>0.023685</td>\n",
       "      <td>0.314982</td>\n",
       "      <td>0.458088</td>\n",
       "      <td>-0.166157</td>\n",
       "    </tr>\n",
       "    <tr>\n",
       "      <th>clearances_z</th>\n",
       "      <td>-0.169119</td>\n",
       "      <td>-0.356212</td>\n",
       "      <td>-0.191263</td>\n",
       "      <td>-0.420998</td>\n",
       "      <td>-0.118588</td>\n",
       "      <td>-0.010195</td>\n",
       "      <td>-0.075201</td>\n",
       "      <td>-0.062295</td>\n",
       "      <td>-0.218618</td>\n",
       "      <td>-0.099396</td>\n",
       "      <td>1.000000</td>\n",
       "      <td>0.184999</td>\n",
       "      <td>0.211456</td>\n",
       "      <td>0.278011</td>\n",
       "      <td>0.122941</td>\n",
       "      <td>-0.420326</td>\n",
       "      <td>0.089839</td>\n",
       "    </tr>\n",
       "    <tr>\n",
       "      <th>blocks_z</th>\n",
       "      <td>0.080306</td>\n",
       "      <td>0.137321</td>\n",
       "      <td>0.075910</td>\n",
       "      <td>0.233539</td>\n",
       "      <td>0.430210</td>\n",
       "      <td>0.384167</td>\n",
       "      <td>0.205780</td>\n",
       "      <td>0.358292</td>\n",
       "      <td>0.325432</td>\n",
       "      <td>0.341119</td>\n",
       "      <td>0.184999</td>\n",
       "      <td>1.000000</td>\n",
       "      <td>0.099023</td>\n",
       "      <td>0.213226</td>\n",
       "      <td>0.143722</td>\n",
       "      <td>0.248688</td>\n",
       "      <td>-0.103182</td>\n",
       "    </tr>\n",
       "    <tr>\n",
       "      <th>aerials_z</th>\n",
       "      <td>0.065206</td>\n",
       "      <td>0.085119</td>\n",
       "      <td>0.264544</td>\n",
       "      <td>0.280895</td>\n",
       "      <td>-0.000897</td>\n",
       "      <td>0.033427</td>\n",
       "      <td>-0.025027</td>\n",
       "      <td>0.028458</td>\n",
       "      <td>0.048009</td>\n",
       "      <td>0.064151</td>\n",
       "      <td>0.211456</td>\n",
       "      <td>0.099023</td>\n",
       "      <td>1.000000</td>\n",
       "      <td>0.153951</td>\n",
       "      <td>0.011390</td>\n",
       "      <td>0.146909</td>\n",
       "      <td>-0.071186</td>\n",
       "    </tr>\n",
       "    <tr>\n",
       "      <th>fouls_z</th>\n",
       "      <td>-0.154157</td>\n",
       "      <td>-0.080857</td>\n",
       "      <td>0.025607</td>\n",
       "      <td>-0.103904</td>\n",
       "      <td>-0.019146</td>\n",
       "      <td>0.164577</td>\n",
       "      <td>0.015762</td>\n",
       "      <td>0.001364</td>\n",
       "      <td>-0.082459</td>\n",
       "      <td>0.023685</td>\n",
       "      <td>0.278011</td>\n",
       "      <td>0.213226</td>\n",
       "      <td>0.153951</td>\n",
       "      <td>1.000000</td>\n",
       "      <td>0.228028</td>\n",
       "      <td>-0.044694</td>\n",
       "      <td>0.166183</td>\n",
       "    </tr>\n",
       "    <tr>\n",
       "      <th>fouled_z</th>\n",
       "      <td>0.015971</td>\n",
       "      <td>0.150826</td>\n",
       "      <td>0.202819</td>\n",
       "      <td>0.143837</td>\n",
       "      <td>0.276909</td>\n",
       "      <td>0.117262</td>\n",
       "      <td>0.369726</td>\n",
       "      <td>0.301723</td>\n",
       "      <td>0.286030</td>\n",
       "      <td>0.314982</td>\n",
       "      <td>0.122941</td>\n",
       "      <td>0.143722</td>\n",
       "      <td>0.011390</td>\n",
       "      <td>0.228028</td>\n",
       "      <td>1.000000</td>\n",
       "      <td>0.263129</td>\n",
       "      <td>-0.020019</td>\n",
       "    </tr>\n",
       "    <tr>\n",
       "      <th>nsxg_z</th>\n",
       "      <td>0.370490</td>\n",
       "      <td>0.679585</td>\n",
       "      <td>0.666068</td>\n",
       "      <td>0.855952</td>\n",
       "      <td>0.520417</td>\n",
       "      <td>0.395564</td>\n",
       "      <td>0.373965</td>\n",
       "      <td>0.556932</td>\n",
       "      <td>0.498909</td>\n",
       "      <td>0.458088</td>\n",
       "      <td>-0.420326</td>\n",
       "      <td>0.248688</td>\n",
       "      <td>0.146909</td>\n",
       "      <td>-0.044694</td>\n",
       "      <td>0.263129</td>\n",
       "      <td>1.000000</td>\n",
       "      <td>-0.225914</td>\n",
       "    </tr>\n",
       "    <tr>\n",
       "      <th>results</th>\n",
       "      <td>-0.642001</td>\n",
       "      <td>-0.315752</td>\n",
       "      <td>0.034878</td>\n",
       "      <td>-0.200537</td>\n",
       "      <td>-0.178234</td>\n",
       "      <td>-0.084719</td>\n",
       "      <td>-0.174466</td>\n",
       "      <td>-0.201809</td>\n",
       "      <td>-0.237599</td>\n",
       "      <td>-0.166157</td>\n",
       "      <td>0.089839</td>\n",
       "      <td>-0.103182</td>\n",
       "      <td>-0.071186</td>\n",
       "      <td>0.166183</td>\n",
       "      <td>-0.020019</td>\n",
       "      <td>-0.225914</td>\n",
       "      <td>1.000000</td>\n",
       "    </tr>\n",
       "  </tbody>\n",
       "</table>\n",
       "</div>"
      ],
      "text/plain": [
       "                  goals_z      xg_z  crosses_z  boxtouches_z  passes_z  \\\n",
       "goals_z          1.000000  0.593882   0.042906      0.300056  0.257896   \n",
       "xg_z             0.593882  1.000000   0.383316      0.669005  0.379186   \n",
       "crosses_z        0.042906  0.383316   1.000000      0.644555  0.234163   \n",
       "boxtouches_z     0.300056  0.669005   0.644555      1.000000  0.382181   \n",
       "passes_z         0.257896  0.379186   0.234163      0.382181  1.000000   \n",
       "progpasses_z     0.104536  0.168393   0.285101      0.238482  0.743879   \n",
       "takeons_z        0.292063  0.341023   0.115226      0.202332  0.398349   \n",
       "progruns_z       0.220753  0.439055   0.262945      0.432240  0.656938   \n",
       "tackles_z        0.313448  0.408050   0.193384      0.396708  0.757077   \n",
       "interceptions_z  0.262674  0.334599   0.230263      0.337851  0.724294   \n",
       "clearances_z    -0.169119 -0.356212  -0.191263     -0.420998 -0.118588   \n",
       "blocks_z         0.080306  0.137321   0.075910      0.233539  0.430210   \n",
       "aerials_z        0.065206  0.085119   0.264544      0.280895 -0.000897   \n",
       "fouls_z         -0.154157 -0.080857   0.025607     -0.103904 -0.019146   \n",
       "fouled_z         0.015971  0.150826   0.202819      0.143837  0.276909   \n",
       "nsxg_z           0.370490  0.679585   0.666068      0.855952  0.520417   \n",
       "results         -0.642001 -0.315752   0.034878     -0.200537 -0.178234   \n",
       "\n",
       "                 progpasses_z  takeons_z  progruns_z  tackles_z  \\\n",
       "goals_z              0.104536   0.292063    0.220753   0.313448   \n",
       "xg_z                 0.168393   0.341023    0.439055   0.408050   \n",
       "crosses_z            0.285101   0.115226    0.262945   0.193384   \n",
       "boxtouches_z         0.238482   0.202332    0.432240   0.396708   \n",
       "passes_z             0.743879   0.398349    0.656938   0.757077   \n",
       "progpasses_z         1.000000   0.180785    0.419958   0.523392   \n",
       "takeons_z            0.180785   1.000000    0.567979   0.388583   \n",
       "progruns_z           0.419958   0.567979    1.000000   0.592725   \n",
       "tackles_z            0.523392   0.388583    0.592725   1.000000   \n",
       "interceptions_z      0.523185   0.377466    0.488475   0.712897   \n",
       "clearances_z        -0.010195  -0.075201   -0.062295  -0.218618   \n",
       "blocks_z             0.384167   0.205780    0.358292   0.325432   \n",
       "aerials_z            0.033427  -0.025027    0.028458   0.048009   \n",
       "fouls_z              0.164577   0.015762    0.001364  -0.082459   \n",
       "fouled_z             0.117262   0.369726    0.301723   0.286030   \n",
       "nsxg_z               0.395564   0.373965    0.556932   0.498909   \n",
       "results             -0.084719  -0.174466   -0.201809  -0.237599   \n",
       "\n",
       "                 interceptions_z  clearances_z  blocks_z  aerials_z   fouls_z  \\\n",
       "goals_z                 0.262674     -0.169119  0.080306   0.065206 -0.154157   \n",
       "xg_z                    0.334599     -0.356212  0.137321   0.085119 -0.080857   \n",
       "crosses_z               0.230263     -0.191263  0.075910   0.264544  0.025607   \n",
       "boxtouches_z            0.337851     -0.420998  0.233539   0.280895 -0.103904   \n",
       "passes_z                0.724294     -0.118588  0.430210  -0.000897 -0.019146   \n",
       "progpasses_z            0.523185     -0.010195  0.384167   0.033427  0.164577   \n",
       "takeons_z               0.377466     -0.075201  0.205780  -0.025027  0.015762   \n",
       "progruns_z              0.488475     -0.062295  0.358292   0.028458  0.001364   \n",
       "tackles_z               0.712897     -0.218618  0.325432   0.048009 -0.082459   \n",
       "interceptions_z         1.000000     -0.099396  0.341119   0.064151  0.023685   \n",
       "clearances_z           -0.099396      1.000000  0.184999   0.211456  0.278011   \n",
       "blocks_z                0.341119      0.184999  1.000000   0.099023  0.213226   \n",
       "aerials_z               0.064151      0.211456  0.099023   1.000000  0.153951   \n",
       "fouls_z                 0.023685      0.278011  0.213226   0.153951  1.000000   \n",
       "fouled_z                0.314982      0.122941  0.143722   0.011390  0.228028   \n",
       "nsxg_z                  0.458088     -0.420326  0.248688   0.146909 -0.044694   \n",
       "results                -0.166157      0.089839 -0.103182  -0.071186  0.166183   \n",
       "\n",
       "                 fouled_z    nsxg_z   results  \n",
       "goals_z          0.015971  0.370490 -0.642001  \n",
       "xg_z             0.150826  0.679585 -0.315752  \n",
       "crosses_z        0.202819  0.666068  0.034878  \n",
       "boxtouches_z     0.143837  0.855952 -0.200537  \n",
       "passes_z         0.276909  0.520417 -0.178234  \n",
       "progpasses_z     0.117262  0.395564 -0.084719  \n",
       "takeons_z        0.369726  0.373965 -0.174466  \n",
       "progruns_z       0.301723  0.556932 -0.201809  \n",
       "tackles_z        0.286030  0.498909 -0.237599  \n",
       "interceptions_z  0.314982  0.458088 -0.166157  \n",
       "clearances_z     0.122941 -0.420326  0.089839  \n",
       "blocks_z         0.143722  0.248688 -0.103182  \n",
       "aerials_z        0.011390  0.146909 -0.071186  \n",
       "fouls_z          0.228028 -0.044694  0.166183  \n",
       "fouled_z         1.000000  0.263129 -0.020019  \n",
       "nsxg_z           0.263129  1.000000 -0.225914  \n",
       "results         -0.020019 -0.225914  1.000000  "
      ]
     },
     "execution_count": 6,
     "metadata": {},
     "output_type": "execute_result"
    }
   ],
   "source": [
    "df.corr()"
   ]
  },
  {
   "cell_type": "code",
   "execution_count": 7,
   "metadata": {},
   "outputs": [
    {
     "data": {
      "text/html": [
       "<div>\n",
       "<style scoped>\n",
       "    .dataframe tbody tr th:only-of-type {\n",
       "        vertical-align: middle;\n",
       "    }\n",
       "\n",
       "    .dataframe tbody tr th {\n",
       "        vertical-align: top;\n",
       "    }\n",
       "\n",
       "    .dataframe thead th {\n",
       "        text-align: right;\n",
       "    }\n",
       "</style>\n",
       "<table border=\"1\" class=\"dataframe\">\n",
       "  <thead>\n",
       "    <tr style=\"text-align: right;\">\n",
       "      <th></th>\n",
       "      <th>count</th>\n",
       "      <th>mean</th>\n",
       "      <th>std</th>\n",
       "      <th>min</th>\n",
       "      <th>25%</th>\n",
       "      <th>50%</th>\n",
       "      <th>75%</th>\n",
       "      <th>max</th>\n",
       "    </tr>\n",
       "  </thead>\n",
       "  <tbody>\n",
       "    <tr>\n",
       "      <th>goals_z</th>\n",
       "      <td>158.0</td>\n",
       "      <td>0.167384</td>\n",
       "      <td>0.285066</td>\n",
       "      <td>-0.410000</td>\n",
       "      <td>-0.051154</td>\n",
       "      <td>0.147308</td>\n",
       "      <td>0.376154</td>\n",
       "      <td>0.881538</td>\n",
       "    </tr>\n",
       "    <tr>\n",
       "      <th>xg_z</th>\n",
       "      <td>158.0</td>\n",
       "      <td>0.208661</td>\n",
       "      <td>0.262167</td>\n",
       "      <td>-0.368462</td>\n",
       "      <td>0.010000</td>\n",
       "      <td>0.186538</td>\n",
       "      <td>0.369808</td>\n",
       "      <td>1.015385</td>\n",
       "    </tr>\n",
       "    <tr>\n",
       "      <th>crosses_z</th>\n",
       "      <td>158.0</td>\n",
       "      <td>0.119981</td>\n",
       "      <td>0.240348</td>\n",
       "      <td>-0.493846</td>\n",
       "      <td>-0.049231</td>\n",
       "      <td>0.088462</td>\n",
       "      <td>0.275385</td>\n",
       "      <td>0.853846</td>\n",
       "    </tr>\n",
       "    <tr>\n",
       "      <th>boxtouches_z</th>\n",
       "      <td>158.0</td>\n",
       "      <td>0.220126</td>\n",
       "      <td>0.277416</td>\n",
       "      <td>-0.459231</td>\n",
       "      <td>0.031731</td>\n",
       "      <td>0.195385</td>\n",
       "      <td>0.403654</td>\n",
       "      <td>1.153077</td>\n",
       "    </tr>\n",
       "    <tr>\n",
       "      <th>passes_z</th>\n",
       "      <td>158.0</td>\n",
       "      <td>0.096816</td>\n",
       "      <td>0.370614</td>\n",
       "      <td>-0.781538</td>\n",
       "      <td>-0.170577</td>\n",
       "      <td>0.063462</td>\n",
       "      <td>0.320385</td>\n",
       "      <td>1.410769</td>\n",
       "    </tr>\n",
       "    <tr>\n",
       "      <th>progpasses_z</th>\n",
       "      <td>158.0</td>\n",
       "      <td>-0.014874</td>\n",
       "      <td>0.258017</td>\n",
       "      <td>-0.649231</td>\n",
       "      <td>-0.195769</td>\n",
       "      <td>-0.022308</td>\n",
       "      <td>0.130769</td>\n",
       "      <td>0.873846</td>\n",
       "    </tr>\n",
       "    <tr>\n",
       "      <th>takeons_z</th>\n",
       "      <td>158.0</td>\n",
       "      <td>0.144537</td>\n",
       "      <td>0.299642</td>\n",
       "      <td>-0.473077</td>\n",
       "      <td>-0.070769</td>\n",
       "      <td>0.126923</td>\n",
       "      <td>0.333077</td>\n",
       "      <td>1.100769</td>\n",
       "    </tr>\n",
       "    <tr>\n",
       "      <th>progruns_z</th>\n",
       "      <td>158.0</td>\n",
       "      <td>0.143596</td>\n",
       "      <td>0.367793</td>\n",
       "      <td>-0.568462</td>\n",
       "      <td>-0.086346</td>\n",
       "      <td>0.081154</td>\n",
       "      <td>0.369808</td>\n",
       "      <td>1.432308</td>\n",
       "    </tr>\n",
       "    <tr>\n",
       "      <th>tackles_z</th>\n",
       "      <td>158.0</td>\n",
       "      <td>0.109282</td>\n",
       "      <td>0.392577</td>\n",
       "      <td>-0.722308</td>\n",
       "      <td>-0.161346</td>\n",
       "      <td>0.069231</td>\n",
       "      <td>0.341154</td>\n",
       "      <td>1.146154</td>\n",
       "    </tr>\n",
       "    <tr>\n",
       "      <th>interceptions_z</th>\n",
       "      <td>158.0</td>\n",
       "      <td>0.088040</td>\n",
       "      <td>0.402717</td>\n",
       "      <td>-0.649231</td>\n",
       "      <td>-0.221923</td>\n",
       "      <td>0.039615</td>\n",
       "      <td>0.346538</td>\n",
       "      <td>1.215385</td>\n",
       "    </tr>\n",
       "    <tr>\n",
       "      <th>clearances_z</th>\n",
       "      <td>158.0</td>\n",
       "      <td>-0.022165</td>\n",
       "      <td>0.246079</td>\n",
       "      <td>-0.614615</td>\n",
       "      <td>-0.191346</td>\n",
       "      <td>-0.043846</td>\n",
       "      <td>0.125192</td>\n",
       "      <td>0.754615</td>\n",
       "    </tr>\n",
       "    <tr>\n",
       "      <th>blocks_z</th>\n",
       "      <td>158.0</td>\n",
       "      <td>0.016975</td>\n",
       "      <td>0.298128</td>\n",
       "      <td>-0.462308</td>\n",
       "      <td>-0.207500</td>\n",
       "      <td>-0.016923</td>\n",
       "      <td>0.162500</td>\n",
       "      <td>0.997500</td>\n",
       "    </tr>\n",
       "    <tr>\n",
       "      <th>aerials_z</th>\n",
       "      <td>158.0</td>\n",
       "      <td>0.070285</td>\n",
       "      <td>0.249633</td>\n",
       "      <td>-0.473846</td>\n",
       "      <td>-0.104808</td>\n",
       "      <td>0.029615</td>\n",
       "      <td>0.266731</td>\n",
       "      <td>0.760769</td>\n",
       "    </tr>\n",
       "    <tr>\n",
       "      <th>fouls_z</th>\n",
       "      <td>158.0</td>\n",
       "      <td>0.093980</td>\n",
       "      <td>0.301566</td>\n",
       "      <td>-0.534615</td>\n",
       "      <td>-0.126154</td>\n",
       "      <td>0.091154</td>\n",
       "      <td>0.311731</td>\n",
       "      <td>1.035833</td>\n",
       "    </tr>\n",
       "    <tr>\n",
       "      <th>fouled_z</th>\n",
       "      <td>158.0</td>\n",
       "      <td>0.115419</td>\n",
       "      <td>0.254213</td>\n",
       "      <td>-0.578462</td>\n",
       "      <td>-0.050385</td>\n",
       "      <td>0.099231</td>\n",
       "      <td>0.300577</td>\n",
       "      <td>0.826923</td>\n",
       "    </tr>\n",
       "    <tr>\n",
       "      <th>nsxg_z</th>\n",
       "      <td>158.0</td>\n",
       "      <td>0.182647</td>\n",
       "      <td>0.306063</td>\n",
       "      <td>-0.552308</td>\n",
       "      <td>-0.026731</td>\n",
       "      <td>0.153462</td>\n",
       "      <td>0.318654</td>\n",
       "      <td>1.027692</td>\n",
       "    </tr>\n",
       "    <tr>\n",
       "      <th>results</th>\n",
       "      <td>158.0</td>\n",
       "      <td>13.569620</td>\n",
       "      <td>9.249801</td>\n",
       "      <td>1.000000</td>\n",
       "      <td>6.000000</td>\n",
       "      <td>11.500000</td>\n",
       "      <td>22.000000</td>\n",
       "      <td>32.000000</td>\n",
       "    </tr>\n",
       "  </tbody>\n",
       "</table>\n",
       "</div>"
      ],
      "text/plain": [
       "                 count       mean       std       min       25%        50%  \\\n",
       "goals_z          158.0   0.167384  0.285066 -0.410000 -0.051154   0.147308   \n",
       "xg_z             158.0   0.208661  0.262167 -0.368462  0.010000   0.186538   \n",
       "crosses_z        158.0   0.119981  0.240348 -0.493846 -0.049231   0.088462   \n",
       "boxtouches_z     158.0   0.220126  0.277416 -0.459231  0.031731   0.195385   \n",
       "passes_z         158.0   0.096816  0.370614 -0.781538 -0.170577   0.063462   \n",
       "progpasses_z     158.0  -0.014874  0.258017 -0.649231 -0.195769  -0.022308   \n",
       "takeons_z        158.0   0.144537  0.299642 -0.473077 -0.070769   0.126923   \n",
       "progruns_z       158.0   0.143596  0.367793 -0.568462 -0.086346   0.081154   \n",
       "tackles_z        158.0   0.109282  0.392577 -0.722308 -0.161346   0.069231   \n",
       "interceptions_z  158.0   0.088040  0.402717 -0.649231 -0.221923   0.039615   \n",
       "clearances_z     158.0  -0.022165  0.246079 -0.614615 -0.191346  -0.043846   \n",
       "blocks_z         158.0   0.016975  0.298128 -0.462308 -0.207500  -0.016923   \n",
       "aerials_z        158.0   0.070285  0.249633 -0.473846 -0.104808   0.029615   \n",
       "fouls_z          158.0   0.093980  0.301566 -0.534615 -0.126154   0.091154   \n",
       "fouled_z         158.0   0.115419  0.254213 -0.578462 -0.050385   0.099231   \n",
       "nsxg_z           158.0   0.182647  0.306063 -0.552308 -0.026731   0.153462   \n",
       "results          158.0  13.569620  9.249801  1.000000  6.000000  11.500000   \n",
       "\n",
       "                       75%        max  \n",
       "goals_z           0.376154   0.881538  \n",
       "xg_z              0.369808   1.015385  \n",
       "crosses_z         0.275385   0.853846  \n",
       "boxtouches_z      0.403654   1.153077  \n",
       "passes_z          0.320385   1.410769  \n",
       "progpasses_z      0.130769   0.873846  \n",
       "takeons_z         0.333077   1.100769  \n",
       "progruns_z        0.369808   1.432308  \n",
       "tackles_z         0.341154   1.146154  \n",
       "interceptions_z   0.346538   1.215385  \n",
       "clearances_z      0.125192   0.754615  \n",
       "blocks_z          0.162500   0.997500  \n",
       "aerials_z         0.266731   0.760769  \n",
       "fouls_z           0.311731   1.035833  \n",
       "fouled_z          0.300577   0.826923  \n",
       "nsxg_z            0.318654   1.027692  \n",
       "results          22.000000  32.000000  "
      ]
     },
     "execution_count": 7,
     "metadata": {},
     "output_type": "execute_result"
    }
   ],
   "source": [
    "df.describe().T"
   ]
  },
  {
   "cell_type": "code",
   "execution_count": 8,
   "metadata": {},
   "outputs": [
    {
     "data": {
      "image/png": "[encoded data removed]",
      "text/plain": [
       "<Figure size 432x288 with 2 Axes>"
      ]
     },
     "metadata": {
      "needs_background": "light"
     },
     "output_type": "display_data"
    }
   ],
   "source": [
    "sns.heatmap(df.corr());"
   ]
  },
  {
   "cell_type": "code",
   "execution_count": 9,
   "metadata": {},
   "outputs": [
    {
     "name": "stderr",
     "output_type": "stream",
     "text": [
      "/var/folders/j_/555m2zps099832fjh_m8jjnc0000gn/T/ipykernel_28043/2528632801.py:4: DeprecationWarning: `np.bool` is a deprecated alias for the builtin `bool`. To silence this warning, use `bool` by itself. Doing this will not modify any behavior and is safe. If you specifically wanted the numpy scalar type, use `np.bool_` here.\n",
      "Deprecated in NumPy 1.20; for more details and guidance: https://numpy.org/devdocs/release/1.20.0-notes.html#deprecations\n",
      "  mask = np.triu(np.ones_like(df.corr(), dtype=np.bool))\n"
     ]
    },
    {
     "data": {
      "image/png": "[encoded data removed]",
      "text/plain": [
       "<Figure size 1152x432 with 2 Axes>"
      ]
     },
     "metadata": {
      "needs_background": "light"
     },
     "output_type": "display_data"
    }
   ],
   "source": [
    "plt.figure(figsize=(16, 6))\n",
    "\n",
    "# define the mask to set the values in the upper triangle to True\n",
    "mask = np.triu(np.ones_like(df.corr(), dtype=np.bool))\n",
    "\n",
    "heatmap = sns.heatmap(df.corr(), mask=mask, vmin=-1, vmax=1, annot=True, cmap='BrBG')\n",
    "heatmap.set_title('Triangle Correlation Heatmap', fontdict={'fontsize':18}, pad=16);"
   ]
  },
  {
   "cell_type": "code",
   "execution_count": 10,
   "metadata": {},
   "outputs": [
    {
     "data": {
      "text/plain": [
       "<seaborn.axisgrid.JointGrid at 0x7f870a453130>"
      ]
     },
     "execution_count": 10,
     "metadata": {},
     "output_type": "execute_result"
    },
    {
     "data": {
      "image/png": "[encoded data removed]",
      "text/plain": [
       "<Figure size 432x432 with 3 Axes>"
      ]
     },
     "metadata": {
      "needs_background": "light"
     },
     "output_type": "display_data"
    }
   ],
   "source": [
    "sns.jointplot(x=df['results'],y=df['goals_z'],\n",
    "              joint_kws={'alpha':0.1,'s':5,'color':'red'},\n",
    "              marginal_kws={'color':'red'})"
   ]
  },
  {
   "cell_type": "code",
   "execution_count": 11,
   "metadata": {},
   "outputs": [],
   "source": [
    "y = df['results']\n"
   ]
  },
  {
   "cell_type": "code",
   "execution_count": 12,
   "metadata": {},
   "outputs": [],
   "source": [
    "X = df.drop(columns=['results'])"
   ]
  },
  {
   "cell_type": "code",
   "execution_count": 13,
   "metadata": {},
   "outputs": [
    {
     "data": {
      "text/html": [
       "<div>\n",
       "<style scoped>\n",
       "    .dataframe tbody tr th:only-of-type {\n",
       "        vertical-align: middle;\n",
       "    }\n",
       "\n",
       "    .dataframe tbody tr th {\n",
       "        vertical-align: top;\n",
       "    }\n",
       "\n",
       "    .dataframe thead th {\n",
       "        text-align: right;\n",
       "    }\n",
       "</style>\n",
       "<table border=\"1\" class=\"dataframe\">\n",
       "  <thead>\n",
       "    <tr style=\"text-align: right;\">\n",
       "      <th></th>\n",
       "      <th>goals_z</th>\n",
       "      <th>xg_z</th>\n",
       "      <th>crosses_z</th>\n",
       "      <th>boxtouches_z</th>\n",
       "      <th>passes_z</th>\n",
       "      <th>progpasses_z</th>\n",
       "      <th>takeons_z</th>\n",
       "      <th>progruns_z</th>\n",
       "      <th>tackles_z</th>\n",
       "      <th>interceptions_z</th>\n",
       "      <th>clearances_z</th>\n",
       "      <th>blocks_z</th>\n",
       "      <th>aerials_z</th>\n",
       "      <th>fouls_z</th>\n",
       "      <th>fouled_z</th>\n",
       "      <th>nsxg_z</th>\n",
       "    </tr>\n",
       "  </thead>\n",
       "  <tbody>\n",
       "    <tr>\n",
       "      <th>0</th>\n",
       "      <td>0.423077</td>\n",
       "      <td>0.146923</td>\n",
       "      <td>-0.136154</td>\n",
       "      <td>-0.030000</td>\n",
       "      <td>0.429231</td>\n",
       "      <td>0.037692</td>\n",
       "      <td>0.244615</td>\n",
       "      <td>-0.220000</td>\n",
       "      <td>0.216154</td>\n",
       "      <td>0.270000</td>\n",
       "      <td>-0.076923</td>\n",
       "      <td>-0.097692</td>\n",
       "      <td>-0.020000</td>\n",
       "      <td>-0.224615</td>\n",
       "      <td>0.100769</td>\n",
       "      <td>-0.124615</td>\n",
       "    </tr>\n",
       "    <tr>\n",
       "      <th>1</th>\n",
       "      <td>0.216923</td>\n",
       "      <td>0.348462</td>\n",
       "      <td>0.031538</td>\n",
       "      <td>0.158462</td>\n",
       "      <td>0.835385</td>\n",
       "      <td>0.626923</td>\n",
       "      <td>0.270000</td>\n",
       "      <td>0.266923</td>\n",
       "      <td>1.143846</td>\n",
       "      <td>0.834615</td>\n",
       "      <td>-0.059231</td>\n",
       "      <td>-0.134615</td>\n",
       "      <td>0.196923</td>\n",
       "      <td>-0.016923</td>\n",
       "      <td>0.033846</td>\n",
       "      <td>0.146923</td>\n",
       "    </tr>\n",
       "    <tr>\n",
       "      <th>2</th>\n",
       "      <td>0.113846</td>\n",
       "      <td>0.392308</td>\n",
       "      <td>0.599231</td>\n",
       "      <td>0.513846</td>\n",
       "      <td>0.833077</td>\n",
       "      <td>0.405385</td>\n",
       "      <td>0.521538</td>\n",
       "      <td>1.139231</td>\n",
       "      <td>1.109231</td>\n",
       "      <td>0.859231</td>\n",
       "      <td>0.084615</td>\n",
       "      <td>0.103077</td>\n",
       "      <td>0.683846</td>\n",
       "      <td>0.213846</td>\n",
       "      <td>0.353846</td>\n",
       "      <td>0.786923</td>\n",
       "    </tr>\n",
       "    <tr>\n",
       "      <th>3</th>\n",
       "      <td>0.479231</td>\n",
       "      <td>0.609231</td>\n",
       "      <td>0.227692</td>\n",
       "      <td>0.450769</td>\n",
       "      <td>0.770769</td>\n",
       "      <td>0.042308</td>\n",
       "      <td>0.337692</td>\n",
       "      <td>0.927692</td>\n",
       "      <td>0.506923</td>\n",
       "      <td>1.015385</td>\n",
       "      <td>0.020769</td>\n",
       "      <td>0.381538</td>\n",
       "      <td>0.038462</td>\n",
       "      <td>0.039231</td>\n",
       "      <td>0.022308</td>\n",
       "      <td>0.692308</td>\n",
       "    </tr>\n",
       "    <tr>\n",
       "      <th>4</th>\n",
       "      <td>0.877692</td>\n",
       "      <td>0.773846</td>\n",
       "      <td>0.428462</td>\n",
       "      <td>0.659231</td>\n",
       "      <td>0.754615</td>\n",
       "      <td>0.335385</td>\n",
       "      <td>0.023077</td>\n",
       "      <td>0.638462</td>\n",
       "      <td>0.493846</td>\n",
       "      <td>0.637692</td>\n",
       "      <td>-0.117692</td>\n",
       "      <td>-0.033846</td>\n",
       "      <td>0.572308</td>\n",
       "      <td>-0.016154</td>\n",
       "      <td>-0.096923</td>\n",
       "      <td>0.890769</td>\n",
       "    </tr>\n",
       "  </tbody>\n",
       "</table>\n",
       "</div>"
      ],
      "text/plain": [
       "    goals_z      xg_z  crosses_z  boxtouches_z  passes_z  progpasses_z  \\\n",
       "0  0.423077  0.146923  -0.136154     -0.030000  0.429231      0.037692   \n",
       "1  0.216923  0.348462   0.031538      0.158462  0.835385      0.626923   \n",
       "2  0.113846  0.392308   0.599231      0.513846  0.833077      0.405385   \n",
       "3  0.479231  0.609231   0.227692      0.450769  0.770769      0.042308   \n",
       "4  0.877692  0.773846   0.428462      0.659231  0.754615      0.335385   \n",
       "\n",
       "   takeons_z  progruns_z  tackles_z  interceptions_z  clearances_z  blocks_z  \\\n",
       "0   0.244615   -0.220000   0.216154         0.270000     -0.076923 -0.097692   \n",
       "1   0.270000    0.266923   1.143846         0.834615     -0.059231 -0.134615   \n",
       "2   0.521538    1.139231   1.109231         0.859231      0.084615  0.103077   \n",
       "3   0.337692    0.927692   0.506923         1.015385      0.020769  0.381538   \n",
       "4   0.023077    0.638462   0.493846         0.637692     -0.117692 -0.033846   \n",
       "\n",
       "   aerials_z   fouls_z  fouled_z    nsxg_z  \n",
       "0  -0.020000 -0.224615  0.100769 -0.124615  \n",
       "1   0.196923 -0.016923  0.033846  0.146923  \n",
       "2   0.683846  0.213846  0.353846  0.786923  \n",
       "3   0.038462  0.039231  0.022308  0.692308  \n",
       "4   0.572308 -0.016154 -0.096923  0.890769  "
      ]
     },
     "execution_count": 13,
     "metadata": {},
     "output_type": "execute_result"
    }
   ],
   "source": [
    "X.head()"
   ]
  },
  {
   "cell_type": "code",
   "execution_count": 14,
   "metadata": {},
   "outputs": [],
   "source": [
    "import matplotlib.pyplot as plt\n",
    "from scipy import stats\n"
   ]
  },
  {
   "cell_type": "code",
   "execution_count": 15,
   "metadata": {},
   "outputs": [
    {
     "data": {
      "image/png": "[encoded data removed]",
      "text/plain": [
       "<Figure size 1152x576 with 1 Axes>"
      ]
     },
     "metadata": {
      "needs_background": "light"
     },
     "output_type": "display_data"
    }
   ],
   "source": [
    "fig, ax = plt.subplots(figsize=(16,8))\n",
    "ax.scatter(df['results'], df['goals_z'])\n",
    "ax.set_xlabel('results')\n",
    "ax.set_ylabel('goals_z')\n",
    "plt.show()"
   ]
  },
  {
   "cell_type": "code",
   "execution_count": 16,
   "metadata": {},
   "outputs": [
    {
     "name": "stdout",
     "output_type": "stream",
     "text": [
      "      goals_z      xg_z  crosses_z  boxtouches_z  passes_z  progpasses_z  \\\n",
      "0    0.899815  0.236239   1.069072      0.904494  0.899782      0.204381   \n",
      "1    0.174335  0.534947   0.369148      0.222987  1.999162      2.495333   \n",
      "2    0.188404  0.702724   2.000320      1.062138  1.992916      1.633983   \n",
      "3    1.097427  1.532780   0.449570      0.834042  1.824261      0.222326   \n",
      "4    2.499660  2.162680   1.287553      1.587872  1.780536      1.361820   \n",
      "..        ...       ...        ...           ...       ...           ...   \n",
      "153  0.236597  0.752763   0.337197      1.209566  0.741538      1.346866   \n",
      "154  1.297746  0.144992   0.192718      0.106158  0.715974      0.704822   \n",
      "155  0.838088  2.208356   2.562030      1.691703  2.106857      2.029746   \n",
      "156  0.888987  1.724104   1.470561      1.434881  0.962247      0.279151   \n",
      "157  1.073064  0.955862   0.600316      0.512280  0.866467      1.122556   \n",
      "\n",
      "     takeons_z  progruns_z  tackles_z  interceptions_z  clearances_z  \\\n",
      "0     0.335057    0.991733   0.273097         0.453267      0.223229   \n",
      "1     0.420043    0.336382   2.643695         1.859740      0.151103   \n",
      "2     1.262176    2.715660   2.555240         1.921057      0.435309   \n",
      "3     0.646672    2.138675   1.016120         2.310041      0.175029   \n",
      "4     0.406639    1.349778   0.982704         1.369199      0.389431   \n",
      "..         ...         ...        ...              ...           ...   \n",
      "153   0.690453    0.318234   2.569000         1.020455      1.508945   \n",
      "154   1.383217    0.949771   0.442408         0.635303      0.814752   \n",
      "155   1.186965    1.558228   1.657192         1.769497      1.189084   \n",
      "156   3.201402    0.609139   1.238241         1.171833      1.800583   \n",
      "157   1.836475    1.007783   0.052941         0.225242      0.884902   \n",
      "\n",
      "     blocks_z  aerials_z   fouls_z  fouled_z    nsxg_z  \n",
      "0    0.385849   0.362820  1.059830  0.057812  1.007112  \n",
      "1    0.510093   0.508911  0.368928  0.321904  0.117093  \n",
      "2    0.289726   2.465669  0.398741  0.940884  1.980628  \n",
      "3    1.226731   0.127886  0.182128  0.367438  1.670509  \n",
      "4    0.171011   2.017439  0.366369  0.837948  2.321004  \n",
      "..        ...        ...       ...       ...       ...  \n",
      "153  0.341846   1.646489  0.253777  1.575314  0.372039  \n",
      "154  1.066249   0.233790  0.427782  1.399252  0.150165  \n",
      "155  1.092486   1.234551  0.980504  2.055203  2.323230  \n",
      "156  0.673163   0.770865  0.002112  2.807747  2.648773  \n",
      "157  0.015354   1.562223  0.368034  1.371932  1.110780  \n",
      "\n",
      "[158 rows x 16 columns]\n"
     ]
    }
   ],
   "source": [
    "z = np.abs(stats.zscore(X))\n",
    "print(z)"
   ]
  },
  {
   "cell_type": "code",
   "execution_count": 17,
   "metadata": {},
   "outputs": [
    {
     "data": {
      "text/plain": [
       "<AxesSubplot:>"
      ]
     },
     "execution_count": 17,
     "metadata": {},
     "output_type": "execute_result"
    },
    {
     "data": {
      "image/png": "[encoded data removed]",
      "text/plain": [
       "<Figure size 432x288 with 1 Axes>"
      ]
     },
     "metadata": {
      "needs_background": "light"
     },
     "output_type": "display_data"
    }
   ],
   "source": [
    "z.plot()"
   ]
  },
  {
   "cell_type": "code",
   "execution_count": 18,
   "metadata": {},
   "outputs": [
    {
     "data": {
      "text/plain": [
       "<AxesSubplot:>"
      ]
     },
     "execution_count": 18,
     "metadata": {},
     "output_type": "execute_result"
    },
    {
     "data": {
      "image/png": "[encoded data removed]",
      "text/plain": [
       "<Figure size 432x288 with 1 Axes>"
      ]
     },
     "metadata": {
      "needs_background": "light"
     },
     "output_type": "display_data"
    }
   ],
   "source": [
    "z.goals_z.plot()"
   ]
  },
  {
   "cell_type": "code",
   "execution_count": 19,
   "metadata": {},
   "outputs": [
    {
     "data": {
      "text/html": [
       "<div>\n",
       "<style scoped>\n",
       "    .dataframe tbody tr th:only-of-type {\n",
       "        vertical-align: middle;\n",
       "    }\n",
       "\n",
       "    .dataframe tbody tr th {\n",
       "        vertical-align: top;\n",
       "    }\n",
       "\n",
       "    .dataframe thead th {\n",
       "        text-align: right;\n",
       "    }\n",
       "</style>\n",
       "<table border=\"1\" class=\"dataframe\">\n",
       "  <thead>\n",
       "    <tr style=\"text-align: right;\">\n",
       "      <th></th>\n",
       "      <th>count</th>\n",
       "      <th>mean</th>\n",
       "      <th>std</th>\n",
       "      <th>min</th>\n",
       "      <th>25%</th>\n",
       "      <th>50%</th>\n",
       "      <th>75%</th>\n",
       "      <th>max</th>\n",
       "    </tr>\n",
       "  </thead>\n",
       "  <tbody>\n",
       "    <tr>\n",
       "      <th>goals_z</th>\n",
       "      <td>158.0</td>\n",
       "      <td>0.820016</td>\n",
       "      <td>0.574160</td>\n",
       "      <td>0.030864</td>\n",
       "      <td>0.321324</td>\n",
       "      <td>0.762024</td>\n",
       "      <td>1.144800</td>\n",
       "      <td>2.513195</td>\n",
       "    </tr>\n",
       "    <tr>\n",
       "      <th>xg_z</th>\n",
       "      <td>158.0</td>\n",
       "      <td>0.793722</td>\n",
       "      <td>0.610215</td>\n",
       "      <td>0.003706</td>\n",
       "      <td>0.298787</td>\n",
       "      <td>0.669637</td>\n",
       "      <td>1.217685</td>\n",
       "      <td>3.086926</td>\n",
       "    </tr>\n",
       "    <tr>\n",
       "      <th>crosses_z</th>\n",
       "      <td>158.0</td>\n",
       "      <td>0.814118</td>\n",
       "      <td>0.582546</td>\n",
       "      <td>0.019342</td>\n",
       "      <td>0.376372</td>\n",
       "      <td>0.693503</td>\n",
       "      <td>1.114941</td>\n",
       "      <td>3.063049</td>\n",
       "    </tr>\n",
       "    <tr>\n",
       "      <th>boxtouches_z</th>\n",
       "      <td>158.0</td>\n",
       "      <td>0.780903</td>\n",
       "      <td>0.626639</td>\n",
       "      <td>0.013453</td>\n",
       "      <td>0.252676</td>\n",
       "      <td>0.672706</td>\n",
       "      <td>1.140025</td>\n",
       "      <td>3.373696</td>\n",
       "    </tr>\n",
       "    <tr>\n",
       "      <th>passes_z</th>\n",
       "      <td>158.0</td>\n",
       "      <td>0.778093</td>\n",
       "      <td>0.630146</td>\n",
       "      <td>0.010122</td>\n",
       "      <td>0.277680</td>\n",
       "      <td>0.679825</td>\n",
       "      <td>1.079976</td>\n",
       "      <td>3.556618</td>\n",
       "    </tr>\n",
       "    <tr>\n",
       "      <th>progpasses_z</th>\n",
       "      <td>158.0</td>\n",
       "      <td>0.775238</td>\n",
       "      <td>0.633678</td>\n",
       "      <td>0.001984</td>\n",
       "      <td>0.283134</td>\n",
       "      <td>0.647508</td>\n",
       "      <td>1.137496</td>\n",
       "      <td>3.455379</td>\n",
       "    </tr>\n",
       "    <tr>\n",
       "      <th>takeons_z</th>\n",
       "      <td>158.0</td>\n",
       "      <td>0.786695</td>\n",
       "      <td>0.619305</td>\n",
       "      <td>0.012613</td>\n",
       "      <td>0.306333</td>\n",
       "      <td>0.654134</td>\n",
       "      <td>1.156061</td>\n",
       "      <td>3.201402</td>\n",
       "    </tr>\n",
       "    <tr>\n",
       "      <th>progruns_z</th>\n",
       "      <td>158.0</td>\n",
       "      <td>0.785287</td>\n",
       "      <td>0.621101</td>\n",
       "      <td>0.021663</td>\n",
       "      <td>0.309841</td>\n",
       "      <td>0.625610</td>\n",
       "      <td>1.089637</td>\n",
       "      <td>3.515047</td>\n",
       "    </tr>\n",
       "    <tr>\n",
       "      <th>tackles_z</th>\n",
       "      <td>158.0</td>\n",
       "      <td>0.791486</td>\n",
       "      <td>0.613131</td>\n",
       "      <td>0.009960</td>\n",
       "      <td>0.309953</td>\n",
       "      <td>0.673242</td>\n",
       "      <td>1.159188</td>\n",
       "      <td>2.649592</td>\n",
       "    </tr>\n",
       "    <tr>\n",
       "      <th>interceptions_z</th>\n",
       "      <td>158.0</td>\n",
       "      <td>0.809724</td>\n",
       "      <td>0.588676</td>\n",
       "      <td>0.002965</td>\n",
       "      <td>0.379836</td>\n",
       "      <td>0.702278</td>\n",
       "      <td>1.143912</td>\n",
       "      <td>2.808247</td>\n",
       "    </tr>\n",
       "    <tr>\n",
       "      <th>clearances_z</th>\n",
       "      <td>158.0</td>\n",
       "      <td>0.804463</td>\n",
       "      <td>0.595892</td>\n",
       "      <td>0.009988</td>\n",
       "      <td>0.366319</td>\n",
       "      <td>0.637167</td>\n",
       "      <td>1.120791</td>\n",
       "      <td>3.166671</td>\n",
       "    </tr>\n",
       "    <tr>\n",
       "      <th>blocks_z</th>\n",
       "      <td>158.0</td>\n",
       "      <td>0.764341</td>\n",
       "      <td>0.646862</td>\n",
       "      <td>0.000176</td>\n",
       "      <td>0.289814</td>\n",
       "      <td>0.640808</td>\n",
       "      <td>1.054866</td>\n",
       "      <td>3.299401</td>\n",
       "    </tr>\n",
       "    <tr>\n",
       "      <th>aerials_z</th>\n",
       "      <td>158.0</td>\n",
       "      <td>0.814898</td>\n",
       "      <td>0.581448</td>\n",
       "      <td>0.025875</td>\n",
       "      <td>0.333453</td>\n",
       "      <td>0.757355</td>\n",
       "      <td>1.176620</td>\n",
       "      <td>2.774794</td>\n",
       "    </tr>\n",
       "    <tr>\n",
       "      <th>fouls_z</th>\n",
       "      <td>158.0</td>\n",
       "      <td>0.808248</td>\n",
       "      <td>0.590714</td>\n",
       "      <td>0.002112</td>\n",
       "      <td>0.358022</td>\n",
       "      <td>0.732291</td>\n",
       "      <td>1.160876</td>\n",
       "      <td>3.133135</td>\n",
       "    </tr>\n",
       "    <tr>\n",
       "      <th>fouled_z</th>\n",
       "      <td>158.0</td>\n",
       "      <td>0.810058</td>\n",
       "      <td>0.588214</td>\n",
       "      <td>0.002899</td>\n",
       "      <td>0.313489</td>\n",
       "      <td>0.708801</td>\n",
       "      <td>1.229466</td>\n",
       "      <td>2.807747</td>\n",
       "    </tr>\n",
       "    <tr>\n",
       "      <th>nsxg_z</th>\n",
       "      <td>158.0</td>\n",
       "      <td>0.771957</td>\n",
       "      <td>0.637696</td>\n",
       "      <td>0.001113</td>\n",
       "      <td>0.272448</td>\n",
       "      <td>0.671926</td>\n",
       "      <td>1.004034</td>\n",
       "      <td>2.769795</td>\n",
       "    </tr>\n",
       "  </tbody>\n",
       "</table>\n",
       "</div>"
      ],
      "text/plain": [
       "                 count      mean       std       min       25%       50%  \\\n",
       "goals_z          158.0  0.820016  0.574160  0.030864  0.321324  0.762024   \n",
       "xg_z             158.0  0.793722  0.610215  0.003706  0.298787  0.669637   \n",
       "crosses_z        158.0  0.814118  0.582546  0.019342  0.376372  0.693503   \n",
       "boxtouches_z     158.0  0.780903  0.626639  0.013453  0.252676  0.672706   \n",
       "passes_z         158.0  0.778093  0.630146  0.010122  0.277680  0.679825   \n",
       "progpasses_z     158.0  0.775238  0.633678  0.001984  0.283134  0.647508   \n",
       "takeons_z        158.0  0.786695  0.619305  0.012613  0.306333  0.654134   \n",
       "progruns_z       158.0  0.785287  0.621101  0.021663  0.309841  0.625610   \n",
       "tackles_z        158.0  0.791486  0.613131  0.009960  0.309953  0.673242   \n",
       "interceptions_z  158.0  0.809724  0.588676  0.002965  0.379836  0.702278   \n",
       "clearances_z     158.0  0.804463  0.595892  0.009988  0.366319  0.637167   \n",
       "blocks_z         158.0  0.764341  0.646862  0.000176  0.289814  0.640808   \n",
       "aerials_z        158.0  0.814898  0.581448  0.025875  0.333453  0.757355   \n",
       "fouls_z          158.0  0.808248  0.590714  0.002112  0.358022  0.732291   \n",
       "fouled_z         158.0  0.810058  0.588214  0.002899  0.313489  0.708801   \n",
       "nsxg_z           158.0  0.771957  0.637696  0.001113  0.272448  0.671926   \n",
       "\n",
       "                      75%       max  \n",
       "goals_z          1.144800  2.513195  \n",
       "xg_z             1.217685  3.086926  \n",
       "crosses_z        1.114941  3.063049  \n",
       "boxtouches_z     1.140025  3.373696  \n",
       "passes_z         1.079976  3.556618  \n",
       "progpasses_z     1.137496  3.455379  \n",
       "takeons_z        1.156061  3.201402  \n",
       "progruns_z       1.089637  3.515047  \n",
       "tackles_z        1.159188  2.649592  \n",
       "interceptions_z  1.143912  2.808247  \n",
       "clearances_z     1.120791  3.166671  \n",
       "blocks_z         1.054866  3.299401  \n",
       "aerials_z        1.176620  2.774794  \n",
       "fouls_z          1.160876  3.133135  \n",
       "fouled_z         1.229466  2.807747  \n",
       "nsxg_z           1.004034  2.769795  "
      ]
     },
     "execution_count": 19,
     "metadata": {},
     "output_type": "execute_result"
    }
   ],
   "source": [
    "z.describe().T"
   ]
  },
  {
   "cell_type": "code",
   "execution_count": 20,
   "metadata": {},
   "outputs": [
    {
     "name": "stdout",
     "output_type": "stream",
     "text": [
      "(array([  2,  21,  21,  22,  22,  24,  37,  37,  46,  50,  71,  75,  80,\n",
      "        91,  93, 121, 127, 139, 139, 145, 146, 146, 156, 156]), array([ 7,  1,  9,  4,  7,  4,  3, 15, 12, 11, 11,  3, 11,  2, 10,  2, 14,\n",
      "       11, 13, 10,  5, 11,  6, 14]))\n"
     ]
    }
   ],
   "source": [
    "threshold = 2.7\n",
    "print(np.where(z > 2.7))"
   ]
  },
  {
   "cell_type": "code",
   "execution_count": 21,
   "metadata": {},
   "outputs": [
    {
     "name": "stdout",
     "output_type": "stream",
     "text": [
      "goals_z             0.427308\n",
      "xg_z                0.359808\n",
      "crosses_z           0.324615\n",
      "boxtouches_z        0.371923\n",
      "passes_z            0.490962\n",
      "progpasses_z        0.326538\n",
      "takeons_z           0.403846\n",
      "progruns_z          0.456154\n",
      "tackles_z           0.502500\n",
      "interceptions_z     0.568462\n",
      "clearances_z        0.316538\n",
      "blocks_z            0.370000\n",
      "aerials_z           0.371538\n",
      "fouls_z             0.437885\n",
      "fouled_z            0.350962\n",
      "nsxg_z              0.345385\n",
      "results            16.000000\n",
      "dtype: float64\n"
     ]
    }
   ],
   "source": [
    "Q1 = df.quantile(0.25)\n",
    "Q3 = df.quantile(0.75)\n",
    "IQR = Q3 - Q1\n",
    "print(IQR)"
   ]
  },
  {
   "cell_type": "code",
   "execution_count": 22,
   "metadata": {},
   "outputs": [
    {
     "name": "stdout",
     "output_type": "stream",
     "text": [
      "     goals_z   xg_z  crosses_z  boxtouches_z  passes_z  progpasses_z  \\\n",
      "0      False  False      False         False     False         False   \n",
      "1      False  False      False         False     False         False   \n",
      "2      False  False      False         False     False         False   \n",
      "3      False  False      False         False     False         False   \n",
      "4      False  False      False         False     False         False   \n",
      "..       ...    ...        ...           ...       ...           ...   \n",
      "153    False  False      False         False     False         False   \n",
      "154    False  False      False         False     False         False   \n",
      "155    False  False      False         False     False         False   \n",
      "156    False  False      False         False     False         False   \n",
      "157    False  False      False         False     False         False   \n",
      "\n",
      "     takeons_z  progruns_z  tackles_z  interceptions_z  clearances_z  \\\n",
      "0        False       False      False            False         False   \n",
      "1        False       False      False            False         False   \n",
      "2        False       False      False            False         False   \n",
      "3        False       False      False            False         False   \n",
      "4        False       False      False            False         False   \n",
      "..         ...         ...        ...              ...           ...   \n",
      "153      False       False      False            False         False   \n",
      "154      False       False      False            False         False   \n",
      "155      False       False      False            False         False   \n",
      "156      False       False      False            False         False   \n",
      "157      False       False      False            False         False   \n",
      "\n",
      "     blocks_z  aerials_z  fouls_z  fouled_z  nsxg_z  results  \n",
      "0       False      False    False     False   False    False  \n",
      "1       False      False    False     False   False    False  \n",
      "2       False      False    False     False   False    False  \n",
      "3       False      False    False     False   False    False  \n",
      "4       False      False    False     False   False    False  \n",
      "..        ...        ...      ...       ...     ...      ...  \n",
      "153     False      False    False     False   False    False  \n",
      "154     False      False    False     False   False    False  \n",
      "155     False      False    False     False   False    False  \n",
      "156     False      False    False     False   False    False  \n",
      "157     False      False    False     False   False    False  \n",
      "\n",
      "[158 rows x 17 columns]\n"
     ]
    },
    {
     "ename": "TypeError",
     "evalue": "Cannot perform 'ror_' with a dtyped [bool] array and scalar of type [NoneType]",
     "output_type": "error",
     "traceback": [
      "\u001b[0;31m---------------------------------------------------------------------------\u001b[0m",
      "\u001b[0;31mTypeError\u001b[0m                                 Traceback (most recent call last)",
      "File \u001b[0;32m~/opt/anaconda3/envs/tf2/lib/python3.9/site-packages/pandas/core/ops/array_ops.py:302\u001b[0m, in \u001b[0;36mna_logical_op\u001b[0;34m(x, y, op)\u001b[0m\n\u001b[1;32m    293\u001b[0m \u001b[38;5;28;01mtry\u001b[39;00m:\n\u001b[1;32m    294\u001b[0m     \u001b[38;5;66;03m# For exposition, write:\u001b[39;00m\n\u001b[1;32m    295\u001b[0m     \u001b[38;5;66;03m#  yarr = isinstance(y, np.ndarray)\u001b[39;00m\n\u001b[0;32m   (...)\u001b[0m\n\u001b[1;32m    300\u001b[0m     \u001b[38;5;66;03m# Then Cases where this goes through without raising include:\u001b[39;00m\n\u001b[1;32m    301\u001b[0m     \u001b[38;5;66;03m#  (xint or xbool) and (yint or bool)\u001b[39;00m\n\u001b[0;32m--> 302\u001b[0m     result \u001b[38;5;241m=\u001b[39m \u001b[43mop\u001b[49m\u001b[43m(\u001b[49m\u001b[43mx\u001b[49m\u001b[43m,\u001b[49m\u001b[43m \u001b[49m\u001b[43my\u001b[49m\u001b[43m)\u001b[49m\n\u001b[1;32m    303\u001b[0m \u001b[38;5;28;01mexcept\u001b[39;00m \u001b[38;5;167;01mTypeError\u001b[39;00m:\n",
      "File \u001b[0;32m~/opt/anaconda3/envs/tf2/lib/python3.9/site-packages/pandas/core/roperator.py:56\u001b[0m, in \u001b[0;36mror_\u001b[0;34m(left, right)\u001b[0m\n\u001b[1;32m     55\u001b[0m \u001b[38;5;28;01mdef\u001b[39;00m \u001b[38;5;21mror_\u001b[39m(left, right):\n\u001b[0;32m---> 56\u001b[0m     \u001b[38;5;28;01mreturn\u001b[39;00m \u001b[43moperator\u001b[49m\u001b[38;5;241;43m.\u001b[39;49m\u001b[43mor_\u001b[49m\u001b[43m(\u001b[49m\u001b[43mright\u001b[49m\u001b[43m,\u001b[49m\u001b[43m \u001b[49m\u001b[43mleft\u001b[49m\u001b[43m)\u001b[49m\n",
      "\u001b[0;31mTypeError\u001b[0m: unsupported operand type(s) for |: 'NoneType' and 'bool'",
      "\nDuring handling of the above exception, another exception occurred:\n",
      "\u001b[0;31mValueError\u001b[0m                                Traceback (most recent call last)",
      "File \u001b[0;32m~/opt/anaconda3/envs/tf2/lib/python3.9/site-packages/pandas/core/ops/array_ops.py:316\u001b[0m, in \u001b[0;36mna_logical_op\u001b[0;34m(x, y, op)\u001b[0m\n\u001b[1;32m    315\u001b[0m \u001b[38;5;28;01mtry\u001b[39;00m:\n\u001b[0;32m--> 316\u001b[0m     result \u001b[38;5;241m=\u001b[39m \u001b[43mlibops\u001b[49m\u001b[38;5;241;43m.\u001b[39;49m\u001b[43mscalar_binop\u001b[49m\u001b[43m(\u001b[49m\u001b[43mx\u001b[49m\u001b[43m,\u001b[49m\u001b[43m \u001b[49m\u001b[43my\u001b[49m\u001b[43m,\u001b[49m\u001b[43m \u001b[49m\u001b[43mop\u001b[49m\u001b[43m)\u001b[49m\n\u001b[1;32m    317\u001b[0m \u001b[38;5;28;01mexcept\u001b[39;00m (\n\u001b[1;32m    318\u001b[0m     \u001b[38;5;167;01mTypeError\u001b[39;00m,\n\u001b[1;32m    319\u001b[0m     \u001b[38;5;167;01mValueError\u001b[39;00m,\n\u001b[0;32m   (...)\u001b[0m\n\u001b[1;32m    322\u001b[0m     \u001b[38;5;167;01mNotImplementedError\u001b[39;00m,\n\u001b[1;32m    323\u001b[0m ) \u001b[38;5;28;01mas\u001b[39;00m err:\n",
      "File \u001b[0;32m~/opt/anaconda3/envs/tf2/lib/python3.9/site-packages/pandas/_libs/ops.pyx:180\u001b[0m, in \u001b[0;36mpandas._libs.ops.scalar_binop\u001b[0;34m()\u001b[0m\n",
      "\u001b[0;31mValueError\u001b[0m: Buffer has wrong number of dimensions (expected 1, got 2)",
      "\nThe above exception was the direct cause of the following exception:\n",
      "\u001b[0;31mTypeError\u001b[0m                                 Traceback (most recent call last)",
      "Input \u001b[0;32mIn [22]\u001b[0m, in \u001b[0;36m<cell line: 1>\u001b[0;34m()\u001b[0m\n\u001b[0;32m----> 1\u001b[0m \u001b[38;5;28;43mprint\u001b[39;49m\u001b[43m(\u001b[49m\u001b[43mdf\u001b[49m\u001b[43m \u001b[49m\u001b[38;5;241;43m<\u001b[39;49m\u001b[43m \u001b[49m\u001b[43m(\u001b[49m\u001b[43mQ1\u001b[49m\u001b[43m \u001b[49m\u001b[38;5;241;43m-\u001b[39;49m\u001b[43m \u001b[49m\u001b[38;5;241;43m1.5\u001b[39;49m\u001b[43m \u001b[49m\u001b[38;5;241;43m*\u001b[39;49m\u001b[43m \u001b[49m\u001b[43mIQR\u001b[49m\u001b[43m)\u001b[49m\u001b[43m)\u001b[49m\u001b[43m \u001b[49m\u001b[38;5;241;43m|\u001b[39;49m\u001b[43m(\u001b[49m\u001b[43mdf\u001b[49m\u001b[43m \u001b[49m\u001b[38;5;241;43m>\u001b[39;49m\u001b[43m \u001b[49m\u001b[43m(\u001b[49m\u001b[43mQ3\u001b[49m\u001b[43m \u001b[49m\u001b[38;5;241;43m+\u001b[39;49m\u001b[43m \u001b[49m\u001b[38;5;241;43m1.5\u001b[39;49m\u001b[43m \u001b[49m\u001b[38;5;241;43m*\u001b[39;49m\u001b[43m \u001b[49m\u001b[43mIQR\u001b[49m\u001b[43m)\u001b[49m\u001b[43m)\u001b[49m\n",
      "File \u001b[0;32m~/opt/anaconda3/envs/tf2/lib/python3.9/site-packages/pandas/core/ops/common.py:69\u001b[0m, in \u001b[0;36m_unpack_zerodim_and_defer.<locals>.new_method\u001b[0;34m(self, other)\u001b[0m\n\u001b[1;32m     65\u001b[0m             \u001b[38;5;28;01mreturn\u001b[39;00m \u001b[38;5;28mNotImplemented\u001b[39m\n\u001b[1;32m     67\u001b[0m other \u001b[38;5;241m=\u001b[39m item_from_zerodim(other)\n\u001b[0;32m---> 69\u001b[0m \u001b[38;5;28;01mreturn\u001b[39;00m \u001b[43mmethod\u001b[49m\u001b[43m(\u001b[49m\u001b[38;5;28;43mself\u001b[39;49m\u001b[43m,\u001b[49m\u001b[43m \u001b[49m\u001b[43mother\u001b[49m\u001b[43m)\u001b[49m\n",
      "File \u001b[0;32m~/opt/anaconda3/envs/tf2/lib/python3.9/site-packages/pandas/core/arraylike.py:74\u001b[0m, in \u001b[0;36mOpsMixin.__ror__\u001b[0;34m(self, other)\u001b[0m\n\u001b[1;32m     72\u001b[0m \u001b[38;5;129m@unpack_zerodim_and_defer\u001b[39m(\u001b[38;5;124m\"\u001b[39m\u001b[38;5;124m__ror__\u001b[39m\u001b[38;5;124m\"\u001b[39m)\n\u001b[1;32m     73\u001b[0m \u001b[38;5;28;01mdef\u001b[39;00m \u001b[38;5;21m__ror__\u001b[39m(\u001b[38;5;28mself\u001b[39m, other):\n\u001b[0;32m---> 74\u001b[0m     \u001b[38;5;28;01mreturn\u001b[39;00m \u001b[38;5;28;43mself\u001b[39;49m\u001b[38;5;241;43m.\u001b[39;49m\u001b[43m_logical_method\u001b[49m\u001b[43m(\u001b[49m\u001b[43mother\u001b[49m\u001b[43m,\u001b[49m\u001b[43m \u001b[49m\u001b[43mroperator\u001b[49m\u001b[38;5;241;43m.\u001b[39;49m\u001b[43mror_\u001b[49m\u001b[43m)\u001b[49m\n",
      "File \u001b[0;32m~/opt/anaconda3/envs/tf2/lib/python3.9/site-packages/pandas/core/frame.py:6866\u001b[0m, in \u001b[0;36mDataFrame._arith_method\u001b[0;34m(self, other, op)\u001b[0m\n\u001b[1;32m   6862\u001b[0m other \u001b[38;5;241m=\u001b[39m ops\u001b[38;5;241m.\u001b[39mmaybe_prepare_scalar_for_op(other, (\u001b[38;5;28mself\u001b[39m\u001b[38;5;241m.\u001b[39mshape[axis],))\n\u001b[1;32m   6864\u001b[0m \u001b[38;5;28mself\u001b[39m, other \u001b[38;5;241m=\u001b[39m ops\u001b[38;5;241m.\u001b[39malign_method_FRAME(\u001b[38;5;28mself\u001b[39m, other, axis, flex\u001b[38;5;241m=\u001b[39m\u001b[38;5;28;01mTrue\u001b[39;00m, level\u001b[38;5;241m=\u001b[39m\u001b[38;5;28;01mNone\u001b[39;00m)\n\u001b[0;32m-> 6866\u001b[0m new_data \u001b[38;5;241m=\u001b[39m \u001b[38;5;28;43mself\u001b[39;49m\u001b[38;5;241;43m.\u001b[39;49m\u001b[43m_dispatch_frame_op\u001b[49m\u001b[43m(\u001b[49m\u001b[43mother\u001b[49m\u001b[43m,\u001b[49m\u001b[43m \u001b[49m\u001b[43mop\u001b[49m\u001b[43m,\u001b[49m\u001b[43m \u001b[49m\u001b[43maxis\u001b[49m\u001b[38;5;241;43m=\u001b[39;49m\u001b[43maxis\u001b[49m\u001b[43m)\u001b[49m\n\u001b[1;32m   6867\u001b[0m \u001b[38;5;28;01mreturn\u001b[39;00m \u001b[38;5;28mself\u001b[39m\u001b[38;5;241m.\u001b[39m_construct_result(new_data)\n",
      "File \u001b[0;32m~/opt/anaconda3/envs/tf2/lib/python3.9/site-packages/pandas/core/frame.py:6893\u001b[0m, in \u001b[0;36mDataFrame._dispatch_frame_op\u001b[0;34m(self, right, func, axis)\u001b[0m\n\u001b[1;32m   6890\u001b[0m \u001b[38;5;28;01mif\u001b[39;00m \u001b[38;5;129;01mnot\u001b[39;00m is_list_like(right):\n\u001b[1;32m   6891\u001b[0m     \u001b[38;5;66;03m# i.e. scalar, faster than checking np.ndim(right) == 0\u001b[39;00m\n\u001b[1;32m   6892\u001b[0m     \u001b[38;5;28;01mwith\u001b[39;00m np\u001b[38;5;241m.\u001b[39merrstate(\u001b[38;5;28mall\u001b[39m\u001b[38;5;241m=\u001b[39m\u001b[38;5;124m\"\u001b[39m\u001b[38;5;124mignore\u001b[39m\u001b[38;5;124m\"\u001b[39m):\n\u001b[0;32m-> 6893\u001b[0m         bm \u001b[38;5;241m=\u001b[39m \u001b[38;5;28;43mself\u001b[39;49m\u001b[38;5;241;43m.\u001b[39;49m\u001b[43m_mgr\u001b[49m\u001b[38;5;241;43m.\u001b[39;49m\u001b[43mapply\u001b[49m\u001b[43m(\u001b[49m\u001b[43marray_op\u001b[49m\u001b[43m,\u001b[49m\u001b[43m \u001b[49m\u001b[43mright\u001b[49m\u001b[38;5;241;43m=\u001b[39;49m\u001b[43mright\u001b[49m\u001b[43m)\u001b[49m\n\u001b[1;32m   6894\u001b[0m     \u001b[38;5;28;01mreturn\u001b[39;00m \u001b[38;5;28mtype\u001b[39m(\u001b[38;5;28mself\u001b[39m)(bm)\n\u001b[1;32m   6896\u001b[0m \u001b[38;5;28;01melif\u001b[39;00m \u001b[38;5;28misinstance\u001b[39m(right, DataFrame):\n",
      "File \u001b[0;32m~/opt/anaconda3/envs/tf2/lib/python3.9/site-packages/pandas/core/internals/managers.py:325\u001b[0m, in \u001b[0;36mBaseBlockManager.apply\u001b[0;34m(self, f, align_keys, ignore_failures, **kwargs)\u001b[0m\n\u001b[1;32m    323\u001b[0m \u001b[38;5;28;01mtry\u001b[39;00m:\n\u001b[1;32m    324\u001b[0m     \u001b[38;5;28;01mif\u001b[39;00m callable(f):\n\u001b[0;32m--> 325\u001b[0m         applied \u001b[38;5;241m=\u001b[39m \u001b[43mb\u001b[49m\u001b[38;5;241;43m.\u001b[39;49m\u001b[43mapply\u001b[49m\u001b[43m(\u001b[49m\u001b[43mf\u001b[49m\u001b[43m,\u001b[49m\u001b[43m \u001b[49m\u001b[38;5;241;43m*\u001b[39;49m\u001b[38;5;241;43m*\u001b[39;49m\u001b[43mkwargs\u001b[49m\u001b[43m)\u001b[49m\n\u001b[1;32m    326\u001b[0m     \u001b[38;5;28;01melse\u001b[39;00m:\n\u001b[1;32m    327\u001b[0m         applied \u001b[38;5;241m=\u001b[39m \u001b[38;5;28mgetattr\u001b[39m(b, f)(\u001b[38;5;241m*\u001b[39m\u001b[38;5;241m*\u001b[39mkwargs)\n",
      "File \u001b[0;32m~/opt/anaconda3/envs/tf2/lib/python3.9/site-packages/pandas/core/internals/blocks.py:381\u001b[0m, in \u001b[0;36mBlock.apply\u001b[0;34m(self, func, **kwargs)\u001b[0m\n\u001b[1;32m    376\u001b[0m \u001b[38;5;124;03m\"\"\"\u001b[39;00m\n\u001b[1;32m    377\u001b[0m \u001b[38;5;124;03mapply the function to my values; return a block if we are not\u001b[39;00m\n\u001b[1;32m    378\u001b[0m \u001b[38;5;124;03mone\u001b[39;00m\n\u001b[1;32m    379\u001b[0m \u001b[38;5;124;03m\"\"\"\u001b[39;00m\n\u001b[1;32m    380\u001b[0m \u001b[38;5;28;01mwith\u001b[39;00m np\u001b[38;5;241m.\u001b[39merrstate(\u001b[38;5;28mall\u001b[39m\u001b[38;5;241m=\u001b[39m\u001b[38;5;124m\"\u001b[39m\u001b[38;5;124mignore\u001b[39m\u001b[38;5;124m\"\u001b[39m):\n\u001b[0;32m--> 381\u001b[0m     result \u001b[38;5;241m=\u001b[39m \u001b[43mfunc\u001b[49m\u001b[43m(\u001b[49m\u001b[38;5;28;43mself\u001b[39;49m\u001b[38;5;241;43m.\u001b[39;49m\u001b[43mvalues\u001b[49m\u001b[43m,\u001b[49m\u001b[43m \u001b[49m\u001b[38;5;241;43m*\u001b[39;49m\u001b[38;5;241;43m*\u001b[39;49m\u001b[43mkwargs\u001b[49m\u001b[43m)\u001b[49m\n\u001b[1;32m    383\u001b[0m \u001b[38;5;28;01mreturn\u001b[39;00m \u001b[38;5;28mself\u001b[39m\u001b[38;5;241m.\u001b[39m_split_op_result(result)\n",
      "File \u001b[0;32m~/opt/anaconda3/envs/tf2/lib/python3.9/site-packages/pandas/core/ops/array_ops.py:392\u001b[0m, in \u001b[0;36mlogical_op\u001b[0;34m(left, right, op)\u001b[0m\n\u001b[1;32m    388\u001b[0m \u001b[38;5;66;03m# For int vs int `^`, `|`, `&` are bitwise operators and return\u001b[39;00m\n\u001b[1;32m    389\u001b[0m \u001b[38;5;66;03m#   integer dtypes.  Otherwise these are boolean ops\u001b[39;00m\n\u001b[1;32m    390\u001b[0m filler \u001b[38;5;241m=\u001b[39m fill_int \u001b[38;5;28;01mif\u001b[39;00m is_self_int_dtype \u001b[38;5;129;01mand\u001b[39;00m is_other_int_dtype \u001b[38;5;28;01melse\u001b[39;00m fill_bool\n\u001b[0;32m--> 392\u001b[0m res_values \u001b[38;5;241m=\u001b[39m \u001b[43mna_logical_op\u001b[49m\u001b[43m(\u001b[49m\u001b[43mlvalues\u001b[49m\u001b[43m,\u001b[49m\u001b[43m \u001b[49m\u001b[43mrvalues\u001b[49m\u001b[43m,\u001b[49m\u001b[43m \u001b[49m\u001b[43mop\u001b[49m\u001b[43m)\u001b[49m\n\u001b[1;32m    393\u001b[0m \u001b[38;5;66;03m# error: Cannot call function of unknown type\u001b[39;00m\n\u001b[1;32m    394\u001b[0m res_values \u001b[38;5;241m=\u001b[39m filler(res_values)  \u001b[38;5;66;03m# type: ignore[operator]\u001b[39;00m\n",
      "File \u001b[0;32m~/opt/anaconda3/envs/tf2/lib/python3.9/site-packages/pandas/core/ops/array_ops.py:325\u001b[0m, in \u001b[0;36mna_logical_op\u001b[0;34m(x, y, op)\u001b[0m\n\u001b[1;32m    317\u001b[0m         \u001b[38;5;28;01mexcept\u001b[39;00m (\n\u001b[1;32m    318\u001b[0m             \u001b[38;5;167;01mTypeError\u001b[39;00m,\n\u001b[1;32m    319\u001b[0m             \u001b[38;5;167;01mValueError\u001b[39;00m,\n\u001b[0;32m   (...)\u001b[0m\n\u001b[1;32m    322\u001b[0m             \u001b[38;5;167;01mNotImplementedError\u001b[39;00m,\n\u001b[1;32m    323\u001b[0m         ) \u001b[38;5;28;01mas\u001b[39;00m err:\n\u001b[1;32m    324\u001b[0m             typ \u001b[38;5;241m=\u001b[39m \u001b[38;5;28mtype\u001b[39m(y)\u001b[38;5;241m.\u001b[39m\u001b[38;5;18m__name__\u001b[39m\n\u001b[0;32m--> 325\u001b[0m             \u001b[38;5;28;01mraise\u001b[39;00m \u001b[38;5;167;01mTypeError\u001b[39;00m(\n\u001b[1;32m    326\u001b[0m                 \u001b[38;5;124mf\u001b[39m\u001b[38;5;124m\"\u001b[39m\u001b[38;5;124mCannot perform \u001b[39m\u001b[38;5;124m'\u001b[39m\u001b[38;5;132;01m{\u001b[39;00mop\u001b[38;5;241m.\u001b[39m\u001b[38;5;18m__name__\u001b[39m\u001b[38;5;132;01m}\u001b[39;00m\u001b[38;5;124m'\u001b[39m\u001b[38;5;124m with a dtyped [\u001b[39m\u001b[38;5;132;01m{\u001b[39;00mx\u001b[38;5;241m.\u001b[39mdtype\u001b[38;5;132;01m}\u001b[39;00m\u001b[38;5;124m] array \u001b[39m\u001b[38;5;124m\"\u001b[39m\n\u001b[1;32m    327\u001b[0m                 \u001b[38;5;124mf\u001b[39m\u001b[38;5;124m\"\u001b[39m\u001b[38;5;124mand scalar of type [\u001b[39m\u001b[38;5;132;01m{\u001b[39;00mtyp\u001b[38;5;132;01m}\u001b[39;00m\u001b[38;5;124m]\u001b[39m\u001b[38;5;124m\"\u001b[39m\n\u001b[1;32m    328\u001b[0m             ) \u001b[38;5;28;01mfrom\u001b[39;00m \u001b[38;5;21;01merr\u001b[39;00m\n\u001b[1;32m    330\u001b[0m \u001b[38;5;28;01mreturn\u001b[39;00m result\u001b[38;5;241m.\u001b[39mreshape(x\u001b[38;5;241m.\u001b[39mshape)\n",
      "\u001b[0;31mTypeError\u001b[0m: Cannot perform 'ror_' with a dtyped [bool] array and scalar of type [NoneType]"
     ]
    }
   ],
   "source": [
    "print(df < (Q1 - 1.5 * IQR)) |(df > (Q3 + 1.5 * IQR))"
   ]
  },
  {
   "cell_type": "code",
   "execution_count": 23,
   "metadata": {},
   "outputs": [
    {
     "data": {
      "text/plain": [
       "goals_z            0\n",
       "xg_z               0\n",
       "crosses_z          0\n",
       "boxtouches_z       0\n",
       "passes_z           0\n",
       "progpasses_z       0\n",
       "takeons_z          0\n",
       "progruns_z         0\n",
       "tackles_z          0\n",
       "interceptions_z    0\n",
       "clearances_z       0\n",
       "blocks_z           0\n",
       "aerials_z          0\n",
       "fouls_z            0\n",
       "fouled_z           0\n",
       "nsxg_z             0\n",
       "results            0\n",
       "dtype: int64"
      ]
     },
     "execution_count": 23,
     "metadata": {},
     "output_type": "execute_result"
    }
   ],
   "source": [
    "df.isnull().sum()"
   ]
  },
  {
   "cell_type": "code",
   "execution_count": 24,
   "metadata": {},
   "outputs": [],
   "source": [
    "df_z = df[(z < 2.7).all(axis=1)]"
   ]
  },
  {
   "cell_type": "code",
   "execution_count": 25,
   "metadata": {},
   "outputs": [
    {
     "data": {
      "text/plain": [
       "(140, 17)"
      ]
     },
     "execution_count": 25,
     "metadata": {},
     "output_type": "execute_result"
    }
   ],
   "source": [
    "df_z.shape"
   ]
  },
  {
   "cell_type": "code",
   "execution_count": 26,
   "metadata": {},
   "outputs": [
    {
     "data": {
      "image/png": "[encoded data removed]",
      "text/plain": [
       "<Figure size 1152x576 with 1 Axes>"
      ]
     },
     "metadata": {
      "needs_background": "light"
     },
     "output_type": "display_data"
    }
   ],
   "source": [
    "fig, ax = plt.subplots(figsize=(16,8))\n",
    "ax.scatter(df_z['results'], df_z['goals_z'])\n",
    "ax.set_xlabel('results')\n",
    "ax.set_ylabel('goals_z')\n",
    "plt.show()"
   ]
  },
  {
   "cell_type": "code",
   "execution_count": 27,
   "metadata": {},
   "outputs": [],
   "source": [
    "from sklearn.linear_model import LinearRegression"
   ]
  },
  {
   "cell_type": "code",
   "execution_count": 28,
   "metadata": {},
   "outputs": [],
   "source": [
    "y = df_z['results']"
   ]
  },
  {
   "cell_type": "code",
   "execution_count": 29,
   "metadata": {},
   "outputs": [],
   "source": [
    "X = df_z.drop(columns=['results'])"
   ]
  },
  {
   "cell_type": "code",
   "execution_count": 42,
   "metadata": {},
   "outputs": [],
   "source": [
    "X_train, X_test, y_train, y_test = train_test_split(\n",
    "     X, y, test_size=0.20, random_state=1)"
   ]
  },
  {
   "cell_type": "code",
   "execution_count": 43,
   "metadata": {},
   "outputs": [],
   "source": [
    "reg = LinearRegression().fit(X_train, y_train)"
   ]
  },
  {
   "cell_type": "code",
   "execution_count": 44,
   "metadata": {},
   "outputs": [],
   "source": [
    "predictions = reg.predict(X_test)"
   ]
  },
  {
   "cell_type": "code",
   "execution_count": 45,
   "metadata": {},
   "outputs": [
    {
     "name": "stdout",
     "output_type": "stream",
     "text": [
      "r2 score: 0.45878960350087705\n",
      "RMSE : 6.5489054539688025\n"
     ]
    }
   ],
   "source": [
    "#Finding the r2 score and root mean squared error\n",
    "from sklearn.metrics import r2_score, mean_squared_error\n",
    "\n",
    "print('r2 score: '+str(r2_score(y_test, predictions)))\n",
    "print('RMSE : '+str(np.sqrt(mean_squared_error(y_test, predictions))))"
   ]
  },
  {
   "cell_type": "markdown",
   "metadata": {},
   "source": [
    "# 46%"
   ]
  },
  {
   "cell_type": "code",
   "execution_count": 46,
   "metadata": {},
   "outputs": [],
   "source": [
    "import eli5\n",
    "from eli5.sklearn import PermutationImportance"
   ]
  },
  {
   "cell_type": "code",
   "execution_count": 47,
   "metadata": {},
   "outputs": [
    {
     "data": {
      "text/html": [
       "\n",
       "    <style>\n",
       "    table.eli5-weights tr:hover {\n",
       "        filter: brightness(85%);\n",
       "    }\n",
       "</style>\n",
       "\n",
       "\n",
       "\n",
       "    \n",
       "\n",
       "    \n",
       "\n",
       "    \n",
       "\n",
       "    \n",
       "\n",
       "    \n",
       "\n",
       "    \n",
       "\n",
       "\n",
       "    \n",
       "\n",
       "    \n",
       "\n",
       "    \n",
       "\n",
       "    \n",
       "\n",
       "    \n",
       "\n",
       "    \n",
       "\n",
       "\n",
       "    \n",
       "\n",
       "    \n",
       "\n",
       "    \n",
       "\n",
       "    \n",
       "\n",
       "    \n",
       "        <table class=\"eli5-weights eli5-feature-importances\" style=\"border-collapse: collapse; border: none; margin-top: 0em; table-layout: auto;\">\n",
       "    <thead>\n",
       "    <tr style=\"border: none;\">\n",
       "        <th style=\"padding: 0 1em 0 0.5em; text-align: right; border: none;\">Weight</th>\n",
       "        <th style=\"padding: 0 0.5em 0 0.5em; text-align: left; border: none;\">Feature</th>\n",
       "    </tr>\n",
       "    </thead>\n",
       "    <tbody>\n",
       "    \n",
       "        <tr style=\"background-color: hsl(120, 100.00%, 80.00%); border: none;\">\n",
       "            <td style=\"padding: 0 1em 0 0.5em; text-align: right; border: none;\">\n",
       "                1.1527\n",
       "                \n",
       "                    &plusmn; 0.8367\n",
       "                \n",
       "            </td>\n",
       "            <td style=\"padding: 0 0.5em 0 0.5em; text-align: left; border: none;\">\n",
       "                goals_z\n",
       "            </td>\n",
       "        </tr>\n",
       "    \n",
       "        <tr style=\"background-color: hsl(120, 100.00%, 97.76%); border: none;\">\n",
       "            <td style=\"padding: 0 1em 0 0.5em; text-align: right; border: none;\">\n",
       "                0.0505\n",
       "                \n",
       "                    &plusmn; 0.0605\n",
       "                \n",
       "            </td>\n",
       "            <td style=\"padding: 0 0.5em 0 0.5em; text-align: left; border: none;\">\n",
       "                progpasses_z\n",
       "            </td>\n",
       "        </tr>\n",
       "    \n",
       "        <tr style=\"background-color: hsl(120, 100.00%, 97.90%); border: none;\">\n",
       "            <td style=\"padding: 0 1em 0 0.5em; text-align: right; border: none;\">\n",
       "                0.0460\n",
       "                \n",
       "                    &plusmn; 0.0300\n",
       "                \n",
       "            </td>\n",
       "            <td style=\"padding: 0 0.5em 0 0.5em; text-align: left; border: none;\">\n",
       "                tackles_z\n",
       "            </td>\n",
       "        </tr>\n",
       "    \n",
       "        <tr style=\"background-color: hsl(120, 100.00%, 98.23%); border: none;\">\n",
       "            <td style=\"padding: 0 1em 0 0.5em; text-align: right; border: none;\">\n",
       "                0.0361\n",
       "                \n",
       "                    &plusmn; 0.0872\n",
       "                \n",
       "            </td>\n",
       "            <td style=\"padding: 0 0.5em 0 0.5em; text-align: left; border: none;\">\n",
       "                xg_z\n",
       "            </td>\n",
       "        </tr>\n",
       "    \n",
       "        <tr style=\"background-color: hsl(120, 100.00%, 98.55%); border: none;\">\n",
       "            <td style=\"padding: 0 1em 0 0.5em; text-align: right; border: none;\">\n",
       "                0.0270\n",
       "                \n",
       "                    &plusmn; 0.0838\n",
       "                \n",
       "            </td>\n",
       "            <td style=\"padding: 0 0.5em 0 0.5em; text-align: left; border: none;\">\n",
       "                boxtouches_z\n",
       "            </td>\n",
       "        </tr>\n",
       "    \n",
       "        <tr style=\"background-color: hsl(120, 100.00%, 98.79%); border: none;\">\n",
       "            <td style=\"padding: 0 1em 0 0.5em; text-align: right; border: none;\">\n",
       "                0.0209\n",
       "                \n",
       "                    &plusmn; 0.0180\n",
       "                \n",
       "            </td>\n",
       "            <td style=\"padding: 0 0.5em 0 0.5em; text-align: left; border: none;\">\n",
       "                progruns_z\n",
       "            </td>\n",
       "        </tr>\n",
       "    \n",
       "        <tr style=\"background-color: hsl(120, 100.00%, 98.92%); border: none;\">\n",
       "            <td style=\"padding: 0 1em 0 0.5em; text-align: right; border: none;\">\n",
       "                0.0179\n",
       "                \n",
       "                    &plusmn; 0.0143\n",
       "                \n",
       "            </td>\n",
       "            <td style=\"padding: 0 0.5em 0 0.5em; text-align: left; border: none;\">\n",
       "                interceptions_z\n",
       "            </td>\n",
       "        </tr>\n",
       "    \n",
       "        <tr style=\"background-color: hsl(120, 100.00%, 98.92%); border: none;\">\n",
       "            <td style=\"padding: 0 1em 0 0.5em; text-align: right; border: none;\">\n",
       "                0.0177\n",
       "                \n",
       "                    &plusmn; 0.0737\n",
       "                \n",
       "            </td>\n",
       "            <td style=\"padding: 0 0.5em 0 0.5em; text-align: left; border: none;\">\n",
       "                nsxg_z\n",
       "            </td>\n",
       "        </tr>\n",
       "    \n",
       "        <tr style=\"background-color: hsl(120, 100.00%, 99.13%); border: none;\">\n",
       "            <td style=\"padding: 0 1em 0 0.5em; text-align: right; border: none;\">\n",
       "                0.0130\n",
       "                \n",
       "                    &plusmn; 0.0250\n",
       "                \n",
       "            </td>\n",
       "            <td style=\"padding: 0 0.5em 0 0.5em; text-align: left; border: none;\">\n",
       "                fouls_z\n",
       "            </td>\n",
       "        </tr>\n",
       "    \n",
       "        <tr style=\"background-color: hsl(120, 100.00%, 99.27%); border: none;\">\n",
       "            <td style=\"padding: 0 1em 0 0.5em; text-align: right; border: none;\">\n",
       "                0.0102\n",
       "                \n",
       "                    &plusmn; 0.0757\n",
       "                \n",
       "            </td>\n",
       "            <td style=\"padding: 0 0.5em 0 0.5em; text-align: left; border: none;\">\n",
       "                passes_z\n",
       "            </td>\n",
       "        </tr>\n",
       "    \n",
       "        <tr style=\"background-color: hsl(120, 100.00%, 99.66%); border: none;\">\n",
       "            <td style=\"padding: 0 1em 0 0.5em; text-align: right; border: none;\">\n",
       "                0.0034\n",
       "                \n",
       "                    &plusmn; 0.0076\n",
       "                \n",
       "            </td>\n",
       "            <td style=\"padding: 0 0.5em 0 0.5em; text-align: left; border: none;\">\n",
       "                fouled_z\n",
       "            </td>\n",
       "        </tr>\n",
       "    \n",
       "        <tr style=\"background-color: hsl(120, 100.00%, 99.79%); border: none;\">\n",
       "            <td style=\"padding: 0 1em 0 0.5em; text-align: right; border: none;\">\n",
       "                0.0017\n",
       "                \n",
       "                    &plusmn; 0.0310\n",
       "                \n",
       "            </td>\n",
       "            <td style=\"padding: 0 0.5em 0 0.5em; text-align: left; border: none;\">\n",
       "                takeons_z\n",
       "            </td>\n",
       "        </tr>\n",
       "    \n",
       "        <tr style=\"background-color: hsl(0, 100.00%, 99.83%); border: none;\">\n",
       "            <td style=\"padding: 0 1em 0 0.5em; text-align: right; border: none;\">\n",
       "                -0.0013\n",
       "                \n",
       "                    &plusmn; 0.0245\n",
       "                \n",
       "            </td>\n",
       "            <td style=\"padding: 0 0.5em 0 0.5em; text-align: left; border: none;\">\n",
       "                aerials_z\n",
       "            </td>\n",
       "        </tr>\n",
       "    \n",
       "        <tr style=\"background-color: hsl(0, 100.00%, 99.65%); border: none;\">\n",
       "            <td style=\"padding: 0 1em 0 0.5em; text-align: right; border: none;\">\n",
       "                -0.0035\n",
       "                \n",
       "                    &plusmn; 0.0230\n",
       "                \n",
       "            </td>\n",
       "            <td style=\"padding: 0 0.5em 0 0.5em; text-align: left; border: none;\">\n",
       "                blocks_z\n",
       "            </td>\n",
       "        </tr>\n",
       "    \n",
       "        <tr style=\"background-color: hsl(0, 100.00%, 99.44%); border: none;\">\n",
       "            <td style=\"padding: 0 1em 0 0.5em; text-align: right; border: none;\">\n",
       "                -0.0070\n",
       "                \n",
       "                    &plusmn; 0.0145\n",
       "                \n",
       "            </td>\n",
       "            <td style=\"padding: 0 0.5em 0 0.5em; text-align: left; border: none;\">\n",
       "                crosses_z\n",
       "            </td>\n",
       "        </tr>\n",
       "    \n",
       "        <tr style=\"background-color: hsl(0, 100.00%, 98.90%); border: none;\">\n",
       "            <td style=\"padding: 0 1em 0 0.5em; text-align: right; border: none;\">\n",
       "                -0.0183\n",
       "                \n",
       "                    &plusmn; 0.0135\n",
       "                \n",
       "            </td>\n",
       "            <td style=\"padding: 0 0.5em 0 0.5em; text-align: left; border: none;\">\n",
       "                clearances_z\n",
       "            </td>\n",
       "        </tr>\n",
       "    \n",
       "    \n",
       "    </tbody>\n",
       "</table>\n",
       "    \n",
       "\n",
       "    \n",
       "\n",
       "\n",
       "    \n",
       "\n",
       "    \n",
       "\n",
       "    \n",
       "\n",
       "    \n",
       "\n",
       "    \n",
       "\n",
       "    \n",
       "\n",
       "\n",
       "\n"
      ],
      "text/plain": [
       "<IPython.core.display.HTML object>"
      ]
     },
     "execution_count": 47,
     "metadata": {},
     "output_type": "execute_result"
    }
   ],
   "source": [
    "perm = PermutationImportance(reg, random_state=1).fit(X_test, y_test)\n",
    "eli5.show_weights(perm, feature_names = X_test.columns.tolist())\n",
    "#Top 3 important features are goals_z & passes_z "
   ]
  },
  {
   "cell_type": "markdown",
   "metadata": {},
   "source": [
    "The previous table shows the feature importance of each of the columns. The weight column represents the importance of the feature measured as the MDA. The +/- sign represents the standard deviation of the importance calculated before. This value tries to measure the amount of randomness in our permutation importance calculation by repeating the process with multiple shuffles. Weight’s column then represents the mean of the error accumulated in the multiple shuffles instead of in a single trial."
   ]
  },
  {
   "cell_type": "code",
   "execution_count": 77,
   "metadata": {},
   "outputs": [],
   "source": [
    "importances = eli5.explain_weights_df(perm, feature_names=X_test.columns.tolist())"
   ]
  },
  {
   "cell_type": "code",
   "execution_count": 78,
   "metadata": {},
   "outputs": [
    {
     "data": {
      "text/html": [
       "<div>\n",
       "<style scoped>\n",
       "    .dataframe tbody tr th:only-of-type {\n",
       "        vertical-align: middle;\n",
       "    }\n",
       "\n",
       "    .dataframe tbody tr th {\n",
       "        vertical-align: top;\n",
       "    }\n",
       "\n",
       "    .dataframe thead th {\n",
       "        text-align: right;\n",
       "    }\n",
       "</style>\n",
       "<table border=\"1\" class=\"dataframe\">\n",
       "  <thead>\n",
       "    <tr style=\"text-align: right;\">\n",
       "      <th></th>\n",
       "      <th>feature</th>\n",
       "      <th>weight</th>\n",
       "      <th>std</th>\n",
       "    </tr>\n",
       "  </thead>\n",
       "  <tbody>\n",
       "    <tr>\n",
       "      <th>0</th>\n",
       "      <td>goals_z</td>\n",
       "      <td>1.152689</td>\n",
       "      <td>0.418330</td>\n",
       "    </tr>\n",
       "    <tr>\n",
       "      <th>1</th>\n",
       "      <td>progpasses_z</td>\n",
       "      <td>0.050477</td>\n",
       "      <td>0.030270</td>\n",
       "    </tr>\n",
       "    <tr>\n",
       "      <th>2</th>\n",
       "      <td>tackles_z</td>\n",
       "      <td>0.045979</td>\n",
       "      <td>0.015006</td>\n",
       "    </tr>\n",
       "    <tr>\n",
       "      <th>3</th>\n",
       "      <td>xg_z</td>\n",
       "      <td>0.036074</td>\n",
       "      <td>0.043618</td>\n",
       "    </tr>\n",
       "    <tr>\n",
       "      <th>4</th>\n",
       "      <td>boxtouches_z</td>\n",
       "      <td>0.027041</td>\n",
       "      <td>0.041924</td>\n",
       "    </tr>\n",
       "    <tr>\n",
       "      <th>5</th>\n",
       "      <td>progruns_z</td>\n",
       "      <td>0.020862</td>\n",
       "      <td>0.009003</td>\n",
       "    </tr>\n",
       "    <tr>\n",
       "      <th>6</th>\n",
       "      <td>interceptions_z</td>\n",
       "      <td>0.017855</td>\n",
       "      <td>0.007126</td>\n",
       "    </tr>\n",
       "    <tr>\n",
       "      <th>7</th>\n",
       "      <td>nsxg_z</td>\n",
       "      <td>0.017745</td>\n",
       "      <td>0.036868</td>\n",
       "    </tr>\n",
       "    <tr>\n",
       "      <th>8</th>\n",
       "      <td>fouls_z</td>\n",
       "      <td>0.013005</td>\n",
       "      <td>0.012523</td>\n",
       "    </tr>\n",
       "    <tr>\n",
       "      <th>9</th>\n",
       "      <td>passes_z</td>\n",
       "      <td>0.010185</td>\n",
       "      <td>0.037834</td>\n",
       "    </tr>\n",
       "    <tr>\n",
       "      <th>10</th>\n",
       "      <td>fouled_z</td>\n",
       "      <td>0.003446</td>\n",
       "      <td>0.003821</td>\n",
       "    </tr>\n",
       "    <tr>\n",
       "      <th>11</th>\n",
       "      <td>takeons_z</td>\n",
       "      <td>0.001746</td>\n",
       "      <td>0.015518</td>\n",
       "    </tr>\n",
       "    <tr>\n",
       "      <th>12</th>\n",
       "      <td>aerials_z</td>\n",
       "      <td>-0.001254</td>\n",
       "      <td>0.012226</td>\n",
       "    </tr>\n",
       "    <tr>\n",
       "      <th>13</th>\n",
       "      <td>blocks_z</td>\n",
       "      <td>-0.003544</td>\n",
       "      <td>0.011476</td>\n",
       "    </tr>\n",
       "    <tr>\n",
       "      <th>14</th>\n",
       "      <td>crosses_z</td>\n",
       "      <td>-0.006953</td>\n",
       "      <td>0.007260</td>\n",
       "    </tr>\n",
       "    <tr>\n",
       "      <th>15</th>\n",
       "      <td>clearances_z</td>\n",
       "      <td>-0.018251</td>\n",
       "      <td>0.006754</td>\n",
       "    </tr>\n",
       "  </tbody>\n",
       "</table>\n",
       "</div>"
      ],
      "text/plain": [
       "            feature    weight       std\n",
       "0           goals_z  1.152689  0.418330\n",
       "1      progpasses_z  0.050477  0.030270\n",
       "2         tackles_z  0.045979  0.015006\n",
       "3              xg_z  0.036074  0.043618\n",
       "4      boxtouches_z  0.027041  0.041924\n",
       "5        progruns_z  0.020862  0.009003\n",
       "6   interceptions_z  0.017855  0.007126\n",
       "7            nsxg_z  0.017745  0.036868\n",
       "8           fouls_z  0.013005  0.012523\n",
       "9          passes_z  0.010185  0.037834\n",
       "10         fouled_z  0.003446  0.003821\n",
       "11        takeons_z  0.001746  0.015518\n",
       "12        aerials_z -0.001254  0.012226\n",
       "13         blocks_z -0.003544  0.011476\n",
       "14        crosses_z -0.006953  0.007260\n",
       "15     clearances_z -0.018251  0.006754"
      ]
     },
     "execution_count": 78,
     "metadata": {},
     "output_type": "execute_result"
    }
   ],
   "source": [
    "importances"
   ]
  },
  {
   "cell_type": "code",
   "execution_count": 92,
   "metadata": {},
   "outputs": [
    {
     "data": {
      "text/plain": [
       "<AxesSubplot:xlabel='feature', ylabel='weight'>"
      ]
     },
     "execution_count": 92,
     "metadata": {},
     "output_type": "execute_result"
    },
    {
     "data": {
      "image/png": "[encoded data removed]",
      "text/plain": [
       "<Figure size 432x288 with 1 Axes>"
      ]
     },
     "metadata": {
      "needs_background": "light"
     },
     "output_type": "display_data"
    }
   ],
   "source": [
    "import seaborn as sns\n",
    "import matplotlib.pyplot as plt\n",
    "\n",
    "\n",
    "plt.errorbar(x=importances['feature'],\n",
    "    y=importances['weight'],\n",
    "    yerr=importances['std'],\n",
    "    ecolor='r', capsize=8, fmt='none',)\n",
    "sns.pointplot(x='feature', \n",
    "    y='weight', \n",
    "    data=importances, \n",
    "    dodge=True, join=False, ci='none')"
   ]
  },
  {
   "cell_type": "markdown",
   "metadata": {},
   "source": [
    "This graph is telling us the importance of each of the features in classifying something as present or past. "
   ]
  },
  {
   "cell_type": "markdown",
   "metadata": {},
   "source": [
    "## Ridge Regression\n"
   ]
  },
  {
   "cell_type": "code",
   "execution_count": 93,
   "metadata": {},
   "outputs": [],
   "source": [
    "from sklearn.linear_model import Ridge"
   ]
  },
  {
   "cell_type": "code",
   "execution_count": 94,
   "metadata": {},
   "outputs": [],
   "source": [
    "clf = Ridge(alpha=1.0)"
   ]
  },
  {
   "cell_type": "code",
   "execution_count": 95,
   "metadata": {},
   "outputs": [
    {
     "data": {
      "text/plain": [
       "Ridge()"
      ]
     },
     "execution_count": 95,
     "metadata": {},
     "output_type": "execute_result"
    }
   ],
   "source": [
    "clf.fit(X_train, y_train)"
   ]
  },
  {
   "cell_type": "code",
   "execution_count": 96,
   "metadata": {},
   "outputs": [],
   "source": [
    "from sklearn.metrics import mean_squared_error\n",
    "from sklearn.metrics import r2_score"
   ]
  },
  {
   "cell_type": "code",
   "execution_count": 97,
   "metadata": {},
   "outputs": [
    {
     "name": "stdout",
     "output_type": "stream",
     "text": [
      "6.645452818212983\n",
      "0.5207879337372383\n"
     ]
    }
   ],
   "source": [
    "rr = Ridge(alpha=0.01)\n",
    "rr.fit(X_train, y_train) \n",
    "pred_train_rr= rr.predict(X_train)\n",
    "\n",
    "print(np.sqrt(mean_squared_error(y_train,pred_train_rr)))\n",
    "print(r2_score(y_train, pred_train_rr))"
   ]
  },
  {
   "cell_type": "code",
   "execution_count": 98,
   "metadata": {},
   "outputs": [
    {
     "name": "stdout",
     "output_type": "stream",
     "text": [
      "6.546574410596934\n",
      "0.4591748160801836\n"
     ]
    }
   ],
   "source": [
    "pred_test_rr= rr.predict(X_test)\n",
    "\n",
    "print(np.sqrt(mean_squared_error(y_test,pred_test_rr))) \n",
    "print(r2_score(y_test, pred_test_rr))"
   ]
  },
  {
   "cell_type": "markdown",
   "metadata": {},
   "source": [
    "## 46%-57%"
   ]
  },
  {
   "cell_type": "markdown",
   "metadata": {},
   "source": [
    "# Lasso"
   ]
  },
  {
   "cell_type": "code",
   "execution_count": 99,
   "metadata": {},
   "outputs": [],
   "source": [
    "from sklearn import linear_model\n"
   ]
  },
  {
   "cell_type": "code",
   "execution_count": 100,
   "metadata": {},
   "outputs": [],
   "source": [
    "clf = linear_model.Lasso(alpha=0.1)"
   ]
  },
  {
   "cell_type": "code",
   "execution_count": 101,
   "metadata": {},
   "outputs": [
    {
     "data": {
      "text/plain": [
       "Lasso(alpha=0.1)"
      ]
     },
     "execution_count": 101,
     "metadata": {},
     "output_type": "execute_result"
    }
   ],
   "source": [
    "clf.fit(X, y)"
   ]
  },
  {
   "cell_type": "code",
   "execution_count": 102,
   "metadata": {},
   "outputs": [
    {
     "name": "stdout",
     "output_type": "stream",
     "text": [
      "[-22.12892651   0.           0.          -0.           1.11803102\n",
      "   0.          -0.          -0.          -0.04202932  -0.\n",
      "  -0.           0.25686828  -0.           1.08267984  -0.\n",
      "   0.        ]\n"
     ]
    }
   ],
   "source": [
    "print(clf.coef_)"
   ]
  },
  {
   "cell_type": "code",
   "execution_count": 103,
   "metadata": {},
   "outputs": [
    {
     "name": "stdout",
     "output_type": "stream",
     "text": [
      "17.24337558499466\n"
     ]
    }
   ],
   "source": [
    "print(clf.intercept_)"
   ]
  },
  {
   "cell_type": "code",
   "execution_count": 104,
   "metadata": {},
   "outputs": [
    {
     "name": "stdout",
     "output_type": "stream",
     "text": [
      "6.654226955476154\n",
      "0.5195216699254779\n",
      "6.4986296685245195\n",
      "0.4670674244494648\n"
     ]
    }
   ],
   "source": [
    "model_lasso = linear_model.Lasso(alpha=0.01)\n",
    "model_lasso.fit(X_train, y_train) \n",
    "pred_train_lasso= model_lasso.predict(X_train)\n",
    "\n",
    "print(np.sqrt(mean_squared_error(y_train,pred_train_lasso)))\n",
    "print(r2_score(y_train, pred_train_lasso))\n",
    "\n",
    "\n",
    "pred_test_lasso= model_lasso.predict(X_test)\n",
    "\n",
    "print(np.sqrt(mean_squared_error(y_test,pred_test_lasso))) \n",
    "print(r2_score(y_test, pred_test_lasso))"
   ]
  },
  {
   "cell_type": "markdown",
   "metadata": {},
   "source": [
    "## 47%-57%"
   ]
  },
  {
   "cell_type": "markdown",
   "metadata": {},
   "source": [
    "## Elastic Net"
   ]
  },
  {
   "cell_type": "code",
   "execution_count": 105,
   "metadata": {},
   "outputs": [],
   "source": [
    "from sklearn import metrics\n",
    "from sklearn.model_selection import cross_val_score\n",
    "\n",
    "def cross_val(model):\n",
    "    pred = cross_val_score(model, X, y, cv=10)\n",
    "    return pred.mean()\n",
    "\n",
    "def print_evaluate(true, predicted):  \n",
    "    mae = metrics.mean_absolute_error(true, predicted)\n",
    "    mse = metrics.mean_squared_error(true, predicted)\n",
    "    rmse = np.sqrt(metrics.mean_squared_error(true, predicted))\n",
    "    r2_square = metrics.r2_score(true, predicted)\n",
    "    print('MAE:', mae)\n",
    "    print('MSE:', mse)\n",
    "    print('RMSE:', rmse)\n",
    "    print('R2 Square', r2_square)\n",
    "    print('__________________________________')\n",
    "    \n",
    "def evaluate(true, predicted):\n",
    "    mae = metrics.mean_absolute_error(true, predicted)\n",
    "    mse = metrics.mean_squared_error(true, predicted)\n",
    "    rmse = np.sqrt(metrics.mean_squared_error(true, predicted))\n",
    "    r2_square = metrics.r2_score(true, predicted)\n",
    "    return mae, mse, rmse, r2_square"
   ]
  },
  {
   "cell_type": "code",
   "execution_count": 106,
   "metadata": {},
   "outputs": [],
   "source": [
    "from sklearn.linear_model import ElasticNet\n",
    "from sklearn.datasets import make_regression"
   ]
  },
  {
   "cell_type": "code",
   "execution_count": 107,
   "metadata": {},
   "outputs": [],
   "source": [
    "model = ElasticNet(alpha=0.1, l1_ratio=0.9, selection='random', random_state=42)"
   ]
  },
  {
   "cell_type": "code",
   "execution_count": 108,
   "metadata": {},
   "outputs": [
    {
     "data": {
      "text/plain": [
       "ElasticNet(alpha=0.1, l1_ratio=0.9, random_state=42, selection='random')"
      ]
     },
     "execution_count": 108,
     "metadata": {},
     "output_type": "execute_result"
    }
   ],
   "source": [
    "model.fit(X_train, y_train)"
   ]
  },
  {
   "cell_type": "code",
   "execution_count": 109,
   "metadata": {},
   "outputs": [],
   "source": [
    "test_pred = model.predict(X_test)\n",
    "train_pred = model.predict(X_train)"
   ]
  },
  {
   "cell_type": "code",
   "execution_count": 110,
   "metadata": {},
   "outputs": [],
   "source": [
    "results_df = pd.DataFrame(data=[[\"Linear Regression\", *evaluate(y_test, test_pred) , cross_val(LinearRegression())]], \n",
    "                          columns=['Model', 'MAE', 'MSE', 'RMSE', 'R2 Square', \"Cross Validation\"])"
   ]
  },
  {
   "cell_type": "code",
   "execution_count": 111,
   "metadata": {},
   "outputs": [
    {
     "name": "stdout",
     "output_type": "stream",
     "text": [
      "Test set evaluation:\n",
      "_____________________________________\n",
      "MAE: 5.176351828568661\n",
      "MSE: 40.10564374896148\n",
      "RMSE: 6.332901684769903\n",
      "R2 Square 0.4939025125678309\n",
      "__________________________________\n",
      "====================================\n",
      "Train set evaluation:\n",
      "_____________________________________\n",
      "MAE: 5.825735023910361\n",
      "MSE: 47.612001656327244\n",
      "RMSE: 6.900145046035427\n",
      "R2 Square 0.48335167350752983\n",
      "__________________________________\n"
     ]
    }
   ],
   "source": [
    "print('Test set evaluation:\\n_____________________________________')\n",
    "print_evaluate(y_test, test_pred)\n",
    "print('====================================')\n",
    "print('Train set evaluation:\\n_____________________________________')\n",
    "print_evaluate(y_train, train_pred)\n",
    "\n",
    "results_df_2 = pd.DataFrame(data=[[\"Elastic Net Regression\", *evaluate(y_test, test_pred) , cross_val(ElasticNet())]], \n",
    "                            columns=['Model', 'MAE', 'MSE', 'RMSE', 'R2 Square', \"Cross Validation\"])\n",
    "results_df = results_df.append(results_df_2, ignore_index=True)"
   ]
  },
  {
   "cell_type": "code",
   "execution_count": null,
   "metadata": {},
   "outputs": [],
   "source": []
  },
  {
   "cell_type": "code",
   "execution_count": 112,
   "metadata": {},
   "outputs": [],
   "source": [
    "regr = ElasticNet(random_state=0)"
   ]
  },
  {
   "cell_type": "code",
   "execution_count": 68,
   "metadata": {},
   "outputs": [
    {
     "data": {
      "text/plain": [
       "ElasticNet(random_state=0)"
      ]
     },
     "execution_count": 68,
     "metadata": {},
     "output_type": "execute_result"
    }
   ],
   "source": [
    "regr.fit(X, y)"
   ]
  },
  {
   "cell_type": "code",
   "execution_count": 69,
   "metadata": {},
   "outputs": [
    {
     "name": "stdout",
     "output_type": "stream",
     "text": [
      "[-2.34194886 -0.27265099  0.         -0.         -0.         -0.\n",
      " -0.         -0.         -0.2697666  -0.          0.         -0.\n",
      " -0.          0.         -0.         -0.        ]\n"
     ]
    }
   ],
   "source": [
    "print(regr.coef_)"
   ]
  },
  {
   "cell_type": "code",
   "execution_count": 70,
   "metadata": {},
   "outputs": [
    {
     "name": "stdout",
     "output_type": "stream",
     "text": [
      "14.173917970362385\n"
     ]
    }
   ],
   "source": [
    "print(regr.intercept_)"
   ]
  },
  {
   "cell_type": "markdown",
   "metadata": {},
   "source": [
    "# Poisson"
   ]
  },
  {
   "cell_type": "code",
   "execution_count": 113,
   "metadata": {},
   "outputs": [],
   "source": [
    "from sklearn import linear_model\n"
   ]
  },
  {
   "cell_type": "code",
   "execution_count": 116,
   "metadata": {},
   "outputs": [
    {
     "data": {
      "text/plain": [
       "PoissonRegressor()"
      ]
     },
     "execution_count": 116,
     "metadata": {},
     "output_type": "execute_result"
    }
   ],
   "source": [
    "clf = linear_model.PoissonRegressor()\n",
    "clf.fit(X_train, y_train)\n",
    "\n",
    "\n"
   ]
  },
  {
   "cell_type": "code",
   "execution_count": 117,
   "metadata": {},
   "outputs": [
    {
     "data": {
      "text/plain": [
       "0.37344864683918855"
      ]
     },
     "execution_count": 117,
     "metadata": {},
     "output_type": "execute_result"
    }
   ],
   "source": [
    "clf.score(X_train, y_train)"
   ]
  },
  {
   "cell_type": "code",
   "execution_count": 118,
   "metadata": {},
   "outputs": [
    {
     "data": {
      "text/plain": [
       "array([-0.83277969, -0.17815903,  0.08383783, -0.05397004,  0.10033936,\n",
       "        0.00401256, -0.10217999,  0.05359117, -0.1207388 ,  0.00173662,\n",
       "        0.01740208,  0.05343762, -0.01784048,  0.11309688,  0.03457517,\n",
       "       -0.05286843])"
      ]
     },
     "execution_count": 118,
     "metadata": {},
     "output_type": "execute_result"
    }
   ],
   "source": [
    "clf.coef_\n"
   ]
  },
  {
   "cell_type": "code",
   "execution_count": 119,
   "metadata": {},
   "outputs": [
    {
     "data": {
      "text/plain": [
       "2.7614764844589703"
      ]
     },
     "execution_count": 119,
     "metadata": {},
     "output_type": "execute_result"
    }
   ],
   "source": [
    "clf.intercept_\n"
   ]
  },
  {
   "cell_type": "code",
   "execution_count": 123,
   "metadata": {},
   "outputs": [
    {
     "data": {
      "text/html": [
       "<div>\n",
       "<style scoped>\n",
       "    .dataframe tbody tr th:only-of-type {\n",
       "        vertical-align: middle;\n",
       "    }\n",
       "\n",
       "    .dataframe tbody tr th {\n",
       "        vertical-align: top;\n",
       "    }\n",
       "\n",
       "    .dataframe thead th {\n",
       "        text-align: right;\n",
       "    }\n",
       "</style>\n",
       "<table border=\"1\" class=\"dataframe\">\n",
       "  <thead>\n",
       "    <tr style=\"text-align: right;\">\n",
       "      <th></th>\n",
       "      <th>goals_z</th>\n",
       "      <th>xg_z</th>\n",
       "      <th>crosses_z</th>\n",
       "      <th>boxtouches_z</th>\n",
       "      <th>passes_z</th>\n",
       "      <th>progpasses_z</th>\n",
       "      <th>takeons_z</th>\n",
       "      <th>progruns_z</th>\n",
       "      <th>tackles_z</th>\n",
       "      <th>interceptions_z</th>\n",
       "      <th>clearances_z</th>\n",
       "      <th>blocks_z</th>\n",
       "      <th>aerials_z</th>\n",
       "      <th>fouls_z</th>\n",
       "      <th>fouled_z</th>\n",
       "      <th>nsxg_z</th>\n",
       "    </tr>\n",
       "  </thead>\n",
       "  <tbody>\n",
       "    <tr>\n",
       "      <th>19</th>\n",
       "      <td>0.373846</td>\n",
       "      <td>0.166154</td>\n",
       "      <td>0.297692</td>\n",
       "      <td>0.044615</td>\n",
       "      <td>0.316923</td>\n",
       "      <td>-0.044615</td>\n",
       "      <td>0.379231</td>\n",
       "      <td>0.212308</td>\n",
       "      <td>0.300769</td>\n",
       "      <td>0.247692</td>\n",
       "      <td>-0.024615</td>\n",
       "      <td>-0.263846</td>\n",
       "      <td>0.294615</td>\n",
       "      <td>0.183846</td>\n",
       "      <td>0.386154</td>\n",
       "      <td>0.120000</td>\n",
       "    </tr>\n",
       "    <tr>\n",
       "      <th>128</th>\n",
       "      <td>0.015385</td>\n",
       "      <td>0.321538</td>\n",
       "      <td>0.681538</td>\n",
       "      <td>0.588462</td>\n",
       "      <td>0.288462</td>\n",
       "      <td>0.276923</td>\n",
       "      <td>0.149231</td>\n",
       "      <td>0.466923</td>\n",
       "      <td>0.473077</td>\n",
       "      <td>0.370769</td>\n",
       "      <td>-0.127692</td>\n",
       "      <td>0.583077</td>\n",
       "      <td>-0.006154</td>\n",
       "      <td>-0.200769</td>\n",
       "      <td>0.530769</td>\n",
       "      <td>0.897692</td>\n",
       "    </tr>\n",
       "    <tr>\n",
       "      <th>17</th>\n",
       "      <td>0.531538</td>\n",
       "      <td>0.284615</td>\n",
       "      <td>-0.023846</td>\n",
       "      <td>0.100769</td>\n",
       "      <td>0.078462</td>\n",
       "      <td>-0.300000</td>\n",
       "      <td>0.070000</td>\n",
       "      <td>0.180769</td>\n",
       "      <td>0.105385</td>\n",
       "      <td>0.073846</td>\n",
       "      <td>0.023846</td>\n",
       "      <td>-0.131538</td>\n",
       "      <td>-0.009231</td>\n",
       "      <td>0.236154</td>\n",
       "      <td>-0.030000</td>\n",
       "      <td>0.053077</td>\n",
       "    </tr>\n",
       "    <tr>\n",
       "      <th>96</th>\n",
       "      <td>-0.034615</td>\n",
       "      <td>-0.118462</td>\n",
       "      <td>-0.083077</td>\n",
       "      <td>0.097692</td>\n",
       "      <td>0.191538</td>\n",
       "      <td>0.214615</td>\n",
       "      <td>0.066154</td>\n",
       "      <td>-0.084615</td>\n",
       "      <td>-0.219231</td>\n",
       "      <td>0.169231</td>\n",
       "      <td>0.140769</td>\n",
       "      <td>0.176154</td>\n",
       "      <td>0.094615</td>\n",
       "      <td>0.030769</td>\n",
       "      <td>0.220000</td>\n",
       "      <td>-0.124615</td>\n",
       "    </tr>\n",
       "    <tr>\n",
       "      <th>5</th>\n",
       "      <td>0.245385</td>\n",
       "      <td>0.097692</td>\n",
       "      <td>0.549231</td>\n",
       "      <td>0.490000</td>\n",
       "      <td>0.090769</td>\n",
       "      <td>0.071538</td>\n",
       "      <td>-0.473077</td>\n",
       "      <td>-0.150769</td>\n",
       "      <td>0.096923</td>\n",
       "      <td>0.277692</td>\n",
       "      <td>-0.153077</td>\n",
       "      <td>-0.212308</td>\n",
       "      <td>0.033846</td>\n",
       "      <td>-0.145385</td>\n",
       "      <td>-0.036154</td>\n",
       "      <td>0.487692</td>\n",
       "    </tr>\n",
       "  </tbody>\n",
       "</table>\n",
       "</div>"
      ],
      "text/plain": [
       "      goals_z      xg_z  crosses_z  boxtouches_z  passes_z  progpasses_z  \\\n",
       "19   0.373846  0.166154   0.297692      0.044615  0.316923     -0.044615   \n",
       "128  0.015385  0.321538   0.681538      0.588462  0.288462      0.276923   \n",
       "17   0.531538  0.284615  -0.023846      0.100769  0.078462     -0.300000   \n",
       "96  -0.034615 -0.118462  -0.083077      0.097692  0.191538      0.214615   \n",
       "5    0.245385  0.097692   0.549231      0.490000  0.090769      0.071538   \n",
       "\n",
       "     takeons_z  progruns_z  tackles_z  interceptions_z  clearances_z  \\\n",
       "19    0.379231    0.212308   0.300769         0.247692     -0.024615   \n",
       "128   0.149231    0.466923   0.473077         0.370769     -0.127692   \n",
       "17    0.070000    0.180769   0.105385         0.073846      0.023846   \n",
       "96    0.066154   -0.084615  -0.219231         0.169231      0.140769   \n",
       "5    -0.473077   -0.150769   0.096923         0.277692     -0.153077   \n",
       "\n",
       "     blocks_z  aerials_z   fouls_z  fouled_z    nsxg_z  \n",
       "19  -0.263846   0.294615  0.183846  0.386154  0.120000  \n",
       "128  0.583077  -0.006154 -0.200769  0.530769  0.897692  \n",
       "17  -0.131538  -0.009231  0.236154 -0.030000  0.053077  \n",
       "96   0.176154   0.094615  0.030769  0.220000 -0.124615  \n",
       "5   -0.212308   0.033846 -0.145385 -0.036154  0.487692  "
      ]
     },
     "execution_count": 123,
     "metadata": {},
     "output_type": "execute_result"
    }
   ],
   "source": [
    "X_train.head()"
   ]
  },
  {
   "cell_type": "code",
   "execution_count": 125,
   "metadata": {},
   "outputs": [],
   "source": [
    "swiss = df = pd.concat(map(pd.read_csv,['Switzerland.csv', 'Switzerland1.csv']))"
   ]
  },
  {
   "cell_type": "code",
   "execution_count": 129,
   "metadata": {},
   "outputs": [
    {
     "data": {
      "text/plain": [
       "goals_z             0.241538\n",
       "xg_z                0.330769\n",
       "crosses_z           0.522308\n",
       "boxtouches_z        0.181538\n",
       "passes_z            0.219231\n",
       "progpasses_z        0.113077\n",
       "takeons_z           0.045385\n",
       "progruns_z          0.286923\n",
       "tackles_z           0.679231\n",
       "interceptions_z     0.503077\n",
       "clearances_z       -0.172308\n",
       "blocks_z            0.457692\n",
       "aerials_z          -0.246923\n",
       "fouls_z            -0.040000\n",
       "fouled_z            0.116154\n",
       "nsxg_z              0.186923\n",
       "results            14.000000\n",
       "Name: 3, dtype: float64"
      ]
     },
     "execution_count": 129,
     "metadata": {},
     "output_type": "execute_result"
    }
   ],
   "source": [
    "swiss.iloc[4]"
   ]
  },
  {
   "cell_type": "code",
   "execution_count": 136,
   "metadata": {},
   "outputs": [],
   "source": [
    "# clf.predict([.241538, .330769, .522308, .181538, .219231, .113077, .045385,\n",
    "#             .286923, .679231, .503077, -0.172308, .457692, -0.246923, -0.040000,\n",
    "#             .116154, 186923])"
   ]
  },
  {
   "cell_type": "markdown",
   "metadata": {},
   "source": [
    "# Ordinary Least Square"
   ]
  },
  {
   "cell_type": "code",
   "execution_count": 137,
   "metadata": {},
   "outputs": [],
   "source": [
    "from sklearn import linear_model\n",
    "reg = linear_model.LinearRegression()\n"
   ]
  },
  {
   "cell_type": "code",
   "execution_count": 140,
   "metadata": {},
   "outputs": [
    {
     "data": {
      "text/plain": [
       "LinearRegression()"
      ]
     },
     "execution_count": 140,
     "metadata": {},
     "output_type": "execute_result"
    }
   ],
   "source": [
    "reg.fit(X_train, y_train)"
   ]
  },
  {
   "cell_type": "code",
   "execution_count": 141,
   "metadata": {},
   "outputs": [
    {
     "data": {
      "text/plain": [
       "array([-25.79811972,   4.77306203,  -1.58024539,  -6.6893377 ,\n",
       "         8.50223852,  -3.60909006,  -3.52875252,  -0.79159283,\n",
       "        -3.0813026 ,  -0.86876513,   1.19619694,   2.99154161,\n",
       "         1.89192749,   1.4619753 ,  -1.04046835,   6.13568188])"
      ]
     },
     "execution_count": 141,
     "metadata": {},
     "output_type": "execute_result"
    }
   ],
   "source": [
    "reg.coef_"
   ]
  },
  {
   "cell_type": "code",
   "execution_count": null,
   "metadata": {},
   "outputs": [],
   "source": []
  }
 ],
 "metadata": {
  "kernelspec": {
   "display_name": "Python 3 (ipykernel)",
   "language": "python",
   "name": "python3"
  },
  "language_info": {
   "codemirror_mode": {
    "name": "ipython",
    "version": 3
   },
   "file_extension": ".py",
   "mimetype": "text/x-python",
   "name": "python",
   "nbconvert_exporter": "python",
   "pygments_lexer": "ipython3",
   "version": "3.9.12"
  }
 },
 "nbformat": 4,
 "nbformat_minor": 5
}
