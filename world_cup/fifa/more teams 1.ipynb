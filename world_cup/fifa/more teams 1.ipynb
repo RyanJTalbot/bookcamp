{
 "cells": [
  {
   "cell_type": "code",
   "execution_count": 1,
   "metadata": {},
   "outputs": [],
   "source": [
    "import pandas as pd\n",
    "import numpy as np\n",
    "import matplotlib.pyplot as plt\n",
    "import seaborn as sns\n",
    "import matplotlib.ticker as ticker\n",
    "import matplotlib.ticker as plticker\n",
    "from sklearn.model_selection import train_test_split\n",
    "from sklearn.linear_model import LogisticRegression\n",
    "\n",
    "import matplotlib.pyplot as pyplot\n",
    "import seaborn as sns"
   ]
  },
  {
   "cell_type": "code",
   "execution_count": 2,
   "metadata": {},
   "outputs": [],
   "source": [
    "years = [2018, 2014, 2010, 2006, 2002, 1998, 1994, 1990, 1986, 1982]"
   ]
  },
  {
   "cell_type": "code",
   "execution_count": 3,
   "metadata": {},
   "outputs": [],
   "source": [
    "comparisons = pd.read_csv('world_cup_comparisons.csv')"
   ]
  },
  {
   "cell_type": "code",
   "execution_count": 4,
   "metadata": {},
   "outputs": [
    {
     "data": {
      "text/html": [
       "<div>\n",
       "<style scoped>\n",
       "    .dataframe tbody tr th:only-of-type {\n",
       "        vertical-align: middle;\n",
       "    }\n",
       "\n",
       "    .dataframe tbody tr th {\n",
       "        vertical-align: top;\n",
       "    }\n",
       "\n",
       "    .dataframe thead th {\n",
       "        text-align: right;\n",
       "    }\n",
       "</style>\n",
       "<table border=\"1\" class=\"dataframe\">\n",
       "  <thead>\n",
       "    <tr style=\"text-align: right;\">\n",
       "      <th></th>\n",
       "      <th>player</th>\n",
       "      <th>season</th>\n",
       "      <th>team</th>\n",
       "      <th>goals_z</th>\n",
       "      <th>xg_z</th>\n",
       "      <th>crosses_z</th>\n",
       "      <th>boxtouches_z</th>\n",
       "      <th>passes_z</th>\n",
       "      <th>progpasses_z</th>\n",
       "      <th>takeons_z</th>\n",
       "      <th>progruns_z</th>\n",
       "      <th>tackles_z</th>\n",
       "      <th>interceptions_z</th>\n",
       "      <th>clearances_z</th>\n",
       "      <th>blocks_z</th>\n",
       "      <th>aerials_z</th>\n",
       "      <th>fouls_z</th>\n",
       "      <th>fouled_z</th>\n",
       "      <th>nsxg_z</th>\n",
       "    </tr>\n",
       "  </thead>\n",
       "  <tbody>\n",
       "    <tr>\n",
       "      <th>0</th>\n",
       "      <td>Cristian Pavón</td>\n",
       "      <td>2018</td>\n",
       "      <td>Argentina</td>\n",
       "      <td>-0.42</td>\n",
       "      <td>-0.55</td>\n",
       "      <td>0.08</td>\n",
       "      <td>-0.24</td>\n",
       "      <td>-0.61</td>\n",
       "      <td>-0.72</td>\n",
       "      <td>-0.05</td>\n",
       "      <td>0.15</td>\n",
       "      <td>0.30</td>\n",
       "      <td>-0.79</td>\n",
       "      <td>-0.80</td>\n",
       "      <td>-0.45</td>\n",
       "      <td>-0.23</td>\n",
       "      <td>-0.38</td>\n",
       "      <td>-0.91</td>\n",
       "      <td>-0.58</td>\n",
       "    </tr>\n",
       "    <tr>\n",
       "      <th>1</th>\n",
       "      <td>Eduardo Salvio</td>\n",
       "      <td>2018</td>\n",
       "      <td>Argentina</td>\n",
       "      <td>-0.42</td>\n",
       "      <td>-0.50</td>\n",
       "      <td>-0.51</td>\n",
       "      <td>0.64</td>\n",
       "      <td>0.02</td>\n",
       "      <td>-0.46</td>\n",
       "      <td>-0.05</td>\n",
       "      <td>0.48</td>\n",
       "      <td>0.61</td>\n",
       "      <td>0.67</td>\n",
       "      <td>0.32</td>\n",
       "      <td>-0.45</td>\n",
       "      <td>0.21</td>\n",
       "      <td>-1.11</td>\n",
       "      <td>0.68</td>\n",
       "      <td>-0.03</td>\n",
       "    </tr>\n",
       "    <tr>\n",
       "      <th>2</th>\n",
       "      <td>Enzo Pérez</td>\n",
       "      <td>2018</td>\n",
       "      <td>Argentina</td>\n",
       "      <td>-0.42</td>\n",
       "      <td>0.11</td>\n",
       "      <td>-0.51</td>\n",
       "      <td>-0.69</td>\n",
       "      <td>0.27</td>\n",
       "      <td>-0.65</td>\n",
       "      <td>-0.36</td>\n",
       "      <td>-0.34</td>\n",
       "      <td>0.35</td>\n",
       "      <td>-0.22</td>\n",
       "      <td>-0.80</td>\n",
       "      <td>-0.45</td>\n",
       "      <td>-0.89</td>\n",
       "      <td>0.72</td>\n",
       "      <td>0.04</td>\n",
       "      <td>-0.66</td>\n",
       "    </tr>\n",
       "    <tr>\n",
       "      <th>3</th>\n",
       "      <td>Federico Fazio</td>\n",
       "      <td>2018</td>\n",
       "      <td>Argentina</td>\n",
       "      <td>-0.42</td>\n",
       "      <td>-0.59</td>\n",
       "      <td>-0.51</td>\n",
       "      <td>-0.69</td>\n",
       "      <td>-0.97</td>\n",
       "      <td>-0.91</td>\n",
       "      <td>-0.67</td>\n",
       "      <td>-0.84</td>\n",
       "      <td>-0.82</td>\n",
       "      <td>-0.79</td>\n",
       "      <td>-0.64</td>\n",
       "      <td>-0.45</td>\n",
       "      <td>0.21</td>\n",
       "      <td>-1.11</td>\n",
       "      <td>-0.59</td>\n",
       "      <td>-0.77</td>\n",
       "    </tr>\n",
       "    <tr>\n",
       "      <th>4</th>\n",
       "      <td>Franco Armani</td>\n",
       "      <td>2018</td>\n",
       "      <td>Argentina</td>\n",
       "      <td>-0.42</td>\n",
       "      <td>-0.59</td>\n",
       "      <td>-0.51</td>\n",
       "      <td>-0.80</td>\n",
       "      <td>-0.67</td>\n",
       "      <td>0.64</td>\n",
       "      <td>-0.67</td>\n",
       "      <td>-0.67</td>\n",
       "      <td>-0.82</td>\n",
       "      <td>-0.79</td>\n",
       "      <td>-0.64</td>\n",
       "      <td>-0.45</td>\n",
       "      <td>-0.89</td>\n",
       "      <td>-1.11</td>\n",
       "      <td>-0.91</td>\n",
       "      <td>-0.77</td>\n",
       "    </tr>\n",
       "  </tbody>\n",
       "</table>\n",
       "</div>"
      ],
      "text/plain": [
       "           player  season       team  goals_z  xg_z  crosses_z  boxtouches_z  \\\n",
       "0  Cristian Pavón    2018  Argentina    -0.42 -0.55       0.08         -0.24   \n",
       "1  Eduardo Salvio    2018  Argentina    -0.42 -0.50      -0.51          0.64   \n",
       "2      Enzo Pérez    2018  Argentina    -0.42  0.11      -0.51         -0.69   \n",
       "3  Federico Fazio    2018  Argentina    -0.42 -0.59      -0.51         -0.69   \n",
       "4   Franco Armani    2018  Argentina    -0.42 -0.59      -0.51         -0.80   \n",
       "\n",
       "   passes_z  progpasses_z  takeons_z  progruns_z  tackles_z  interceptions_z  \\\n",
       "0     -0.61         -0.72      -0.05        0.15       0.30            -0.79   \n",
       "1      0.02         -0.46      -0.05        0.48       0.61             0.67   \n",
       "2      0.27         -0.65      -0.36       -0.34       0.35            -0.22   \n",
       "3     -0.97         -0.91      -0.67       -0.84      -0.82            -0.79   \n",
       "4     -0.67          0.64      -0.67       -0.67      -0.82            -0.79   \n",
       "\n",
       "   clearances_z  blocks_z  aerials_z  fouls_z  fouled_z  nsxg_z  \n",
       "0         -0.80     -0.45      -0.23    -0.38     -0.91   -0.58  \n",
       "1          0.32     -0.45       0.21    -1.11      0.68   -0.03  \n",
       "2         -0.80     -0.45      -0.89     0.72      0.04   -0.66  \n",
       "3         -0.64     -0.45       0.21    -1.11     -0.59   -0.77  \n",
       "4         -0.64     -0.45      -0.89    -1.11     -0.91   -0.77  "
      ]
     },
     "execution_count": 4,
     "metadata": {},
     "output_type": "execute_result"
    }
   ],
   "source": [
    "comparisons.head()"
   ]
  },
  {
   "cell_type": "code",
   "execution_count": 5,
   "metadata": {},
   "outputs": [],
   "source": [
    "all_teams = comparisons['team'].value_counts()"
   ]
  },
  {
   "cell_type": "code",
   "execution_count": 6,
   "metadata": {},
   "outputs": [],
   "source": [
    "all_teams = all_teams.drop(labels=['West Germany', 'Netherlands', 'Senegal', 'Ecuador', 'England', 'USA', 'Iran', 'Argentina', 'Poland', 'Mexico', 'Saudi Arabia', 'France', 'Denmark', 'Tunisia', 'Australia', 'Germany', 'Spain', 'Japan', 'Costa Rica', 'Belgium', 'Croatia', 'Canada', 'Morocco', 'Brazil', 'Switzerland', 'Serbia', 'Cameroon', 'Portugal', 'Uruguay', 'Ghana'])"
   ]
  },
  {
   "cell_type": "code",
   "execution_count": 7,
   "metadata": {
    "scrolled": false
   },
   "outputs": [],
   "source": [
    "teams_all = ['Italy', 'South Korea', 'Nigeria','Colombia','Paraguay',\n",
    "             'Sweden','Russia','Scotland','Algeria','Chile','Greece',\n",
    "             'Honduras','Austria','Bulgaria','USSR','Ivory Coast',               \n",
    "             'Romania','Yugoslavia','South Africa','Rep of Ireland',\n",
    "             'Czechoslovakia','Hungary','Egypt','Slovenia','Norway',                     \n",
    "             'Northern Ireland','Peru','New Zealand','Bosnia and Herzegovina',     \n",
    "             'Panama','Slovakia','Iraq','China PR','Jamaica','Turkey',                     \n",
    "             'Ukraine','Bolivia','Trinidad and Tobago','Togo','Czech Republic',             \n",
    "             'Angola','United Arab Emirates','Iceland','El Salvador','Kuwait','North Korea']"
   ]
  },
  {
   "cell_type": "code",
   "execution_count": 8,
   "metadata": {},
   "outputs": [],
   "source": [
    "comparisons = comparisons.loc[comparisons['team'].isin(teams_all)]"
   ]
  },
  {
   "cell_type": "code",
   "execution_count": 9,
   "metadata": {},
   "outputs": [
    {
     "data": {
      "text/plain": [
       "(2390, 19)"
      ]
     },
     "execution_count": 9,
     "metadata": {},
     "output_type": "execute_result"
    }
   ],
   "source": [
    "comparisons.shape"
   ]
  },
  {
   "cell_type": "code",
   "execution_count": 10,
   "metadata": {},
   "outputs": [],
   "source": [
    "year1982 = [1982]\n",
    "year1986 = [1986]\n",
    "year1990 = [1990]\n",
    "year1994 = [1994]\n",
    "year1998 = [1998]\n",
    "\n",
    "year2002 = [2002]\n",
    "year2006 = [2006]\n",
    "year2010 = [2010]\n",
    "year2014 = [2014]\n",
    "year2018 = [2018]"
   ]
  },
  {
   "cell_type": "code",
   "execution_count": 11,
   "metadata": {},
   "outputs": [],
   "source": [
    "df = comparisons.drop(columns = ['player'])\n"
   ]
  },
  {
   "cell_type": "code",
   "execution_count": 12,
   "metadata": {},
   "outputs": [
    {
     "data": {
      "text/plain": [
       "Italy                     228\n",
       "South Korea               149\n",
       "Sweden                    131\n",
       "Nigeria                   103\n",
       "Bulgaria                  101\n",
       "Scotland                   98\n",
       "Chile                      94\n",
       "USSR                       88\n",
       "Paraguay                   83\n",
       "Colombia                   83\n",
       "Russia                     71\n",
       "Hungary                    66\n",
       "Algeria                    65\n",
       "Austria                    65\n",
       "Yugoslavia                 64\n",
       "Peru                       63\n",
       "Romania                    61\n",
       "Greece                     58\n",
       "Czechoslovakia             54\n",
       "Honduras                   51\n",
       "Ivory Coast                48\n",
       "South Africa               46\n",
       "Rep of Ireland             45\n",
       "Egypt                      31\n",
       "Norway                     31\n",
       "El Salvador                31\n",
       "Slovenia                   31\n",
       "Northern Ireland           29\n",
       "North Korea                29\n",
       "New Zealand                27\n",
       "Bosnia and Herzegovina     20\n",
       "Panama                     19\n",
       "Slovakia                   18\n",
       "Jamaica                    17\n",
       "Turkey                     17\n",
       "China PR                   17\n",
       "Ukraine                    17\n",
       "Iraq                       17\n",
       "Czech Republic             16\n",
       "Bolivia                    16\n",
       "Trinidad and Tobago        16\n",
       "Togo                       16\n",
       "Angola                     16\n",
       "United Arab Emirates       15\n",
       "Iceland                    15\n",
       "Kuwait                     14\n",
       "Name: team, dtype: int64"
      ]
     },
     "execution_count": 12,
     "metadata": {},
     "output_type": "execute_result"
    }
   ],
   "source": [
    "comparisons['team'].value_counts()"
   ]
  },
  {
   "cell_type": "markdown",
   "metadata": {},
   "source": [
    "# Italy"
   ]
  },
  {
   "cell_type": "markdown",
   "metadata": {},
   "source": [
    "## 1982"
   ]
  },
  {
   "cell_type": "code",
   "execution_count": 13,
   "metadata": {},
   "outputs": [
    {
     "data": {
      "text/html": [
       "<div>\n",
       "<style scoped>\n",
       "    .dataframe tbody tr th:only-of-type {\n",
       "        vertical-align: middle;\n",
       "    }\n",
       "\n",
       "    .dataframe tbody tr th {\n",
       "        vertical-align: top;\n",
       "    }\n",
       "\n",
       "    .dataframe thead th {\n",
       "        text-align: right;\n",
       "    }\n",
       "</style>\n",
       "<table border=\"1\" class=\"dataframe\">\n",
       "  <thead>\n",
       "    <tr style=\"text-align: right;\">\n",
       "      <th></th>\n",
       "      <th>season</th>\n",
       "      <th>team</th>\n",
       "      <th>goals_z</th>\n",
       "      <th>xg_z</th>\n",
       "      <th>crosses_z</th>\n",
       "      <th>boxtouches_z</th>\n",
       "      <th>passes_z</th>\n",
       "      <th>progpasses_z</th>\n",
       "      <th>takeons_z</th>\n",
       "      <th>progruns_z</th>\n",
       "      <th>tackles_z</th>\n",
       "      <th>interceptions_z</th>\n",
       "      <th>clearances_z</th>\n",
       "      <th>blocks_z</th>\n",
       "      <th>aerials_z</th>\n",
       "      <th>fouls_z</th>\n",
       "      <th>fouled_z</th>\n",
       "      <th>nsxg_z</th>\n",
       "    </tr>\n",
       "  </thead>\n",
       "  <tbody>\n",
       "    <tr>\n",
       "      <th>72</th>\n",
       "      <td>2018</td>\n",
       "      <td>Colombia</td>\n",
       "      <td>-0.42</td>\n",
       "      <td>-0.59</td>\n",
       "      <td>-0.51</td>\n",
       "      <td>-0.80</td>\n",
       "      <td>-1.16</td>\n",
       "      <td>-1.04</td>\n",
       "      <td>-0.67</td>\n",
       "      <td>-0.68</td>\n",
       "      <td>-0.82</td>\n",
       "      <td>-0.79</td>\n",
       "      <td>-0.80</td>\n",
       "      <td>-0.45</td>\n",
       "      <td>-0.69</td>\n",
       "      <td>-1.11</td>\n",
       "      <td>-0.91</td>\n",
       "      <td>-0.77</td>\n",
       "    </tr>\n",
       "    <tr>\n",
       "      <th>73</th>\n",
       "      <td>2018</td>\n",
       "      <td>Colombia</td>\n",
       "      <td>-0.42</td>\n",
       "      <td>-0.35</td>\n",
       "      <td>-0.51</td>\n",
       "      <td>0.12</td>\n",
       "      <td>-1.01</td>\n",
       "      <td>-0.98</td>\n",
       "      <td>-0.67</td>\n",
       "      <td>-0.53</td>\n",
       "      <td>-0.26</td>\n",
       "      <td>-0.79</td>\n",
       "      <td>-0.80</td>\n",
       "      <td>-0.45</td>\n",
       "      <td>0.12</td>\n",
       "      <td>0.24</td>\n",
       "      <td>-0.62</td>\n",
       "      <td>-0.21</td>\n",
       "    </tr>\n",
       "    <tr>\n",
       "      <th>74</th>\n",
       "      <td>2018</td>\n",
       "      <td>Colombia</td>\n",
       "      <td>-0.42</td>\n",
       "      <td>-0.59</td>\n",
       "      <td>-0.51</td>\n",
       "      <td>-0.80</td>\n",
       "      <td>-0.37</td>\n",
       "      <td>-0.39</td>\n",
       "      <td>-0.67</td>\n",
       "      <td>-0.84</td>\n",
       "      <td>0.21</td>\n",
       "      <td>-0.50</td>\n",
       "      <td>-0.65</td>\n",
       "      <td>-0.45</td>\n",
       "      <td>-0.49</td>\n",
       "      <td>0.91</td>\n",
       "      <td>-0.62</td>\n",
       "      <td>-0.62</td>\n",
       "    </tr>\n",
       "    <tr>\n",
       "      <th>75</th>\n",
       "      <td>2018</td>\n",
       "      <td>Colombia</td>\n",
       "      <td>-0.42</td>\n",
       "      <td>-0.59</td>\n",
       "      <td>-0.51</td>\n",
       "      <td>-0.80</td>\n",
       "      <td>-0.36</td>\n",
       "      <td>1.10</td>\n",
       "      <td>-0.67</td>\n",
       "      <td>-0.84</td>\n",
       "      <td>-0.82</td>\n",
       "      <td>-0.79</td>\n",
       "      <td>-0.65</td>\n",
       "      <td>-0.45</td>\n",
       "      <td>-0.69</td>\n",
       "      <td>-1.11</td>\n",
       "      <td>-0.32</td>\n",
       "      <td>-0.77</td>\n",
       "    </tr>\n",
       "    <tr>\n",
       "      <th>76</th>\n",
       "      <td>2018</td>\n",
       "      <td>Colombia</td>\n",
       "      <td>-0.42</td>\n",
       "      <td>-0.41</td>\n",
       "      <td>-0.51</td>\n",
       "      <td>0.22</td>\n",
       "      <td>0.88</td>\n",
       "      <td>1.04</td>\n",
       "      <td>-0.67</td>\n",
       "      <td>-0.68</td>\n",
       "      <td>-0.52</td>\n",
       "      <td>0.91</td>\n",
       "      <td>3.19</td>\n",
       "      <td>2.92</td>\n",
       "      <td>1.14</td>\n",
       "      <td>-0.44</td>\n",
       "      <td>-0.32</td>\n",
       "      <td>-0.72</td>\n",
       "    </tr>\n",
       "  </tbody>\n",
       "</table>\n",
       "</div>"
      ],
      "text/plain": [
       "    season      team  goals_z  xg_z  crosses_z  boxtouches_z  passes_z  \\\n",
       "72    2018  Colombia    -0.42 -0.59      -0.51         -0.80     -1.16   \n",
       "73    2018  Colombia    -0.42 -0.35      -0.51          0.12     -1.01   \n",
       "74    2018  Colombia    -0.42 -0.59      -0.51         -0.80     -0.37   \n",
       "75    2018  Colombia    -0.42 -0.59      -0.51         -0.80     -0.36   \n",
       "76    2018  Colombia    -0.42 -0.41      -0.51          0.22      0.88   \n",
       "\n",
       "    progpasses_z  takeons_z  progruns_z  tackles_z  interceptions_z  \\\n",
       "72         -1.04      -0.67       -0.68      -0.82            -0.79   \n",
       "73         -0.98      -0.67       -0.53      -0.26            -0.79   \n",
       "74         -0.39      -0.67       -0.84       0.21            -0.50   \n",
       "75          1.10      -0.67       -0.84      -0.82            -0.79   \n",
       "76          1.04      -0.67       -0.68      -0.52             0.91   \n",
       "\n",
       "    clearances_z  blocks_z  aerials_z  fouls_z  fouled_z  nsxg_z  \n",
       "72         -0.80     -0.45      -0.69    -1.11     -0.91   -0.77  \n",
       "73         -0.80     -0.45       0.12     0.24     -0.62   -0.21  \n",
       "74         -0.65     -0.45      -0.49     0.91     -0.62   -0.62  \n",
       "75         -0.65     -0.45      -0.69    -1.11     -0.32   -0.77  \n",
       "76          3.19      2.92       1.14    -0.44     -0.32   -0.72  "
      ]
     },
     "execution_count": 13,
     "metadata": {},
     "output_type": "execute_result"
    }
   ],
   "source": [
    "df.head()"
   ]
  },
  {
   "cell_type": "code",
   "execution_count": 14,
   "metadata": {},
   "outputs": [],
   "source": [
    "ita = ['Italy']\n"
   ]
  },
  {
   "cell_type": "code",
   "execution_count": 15,
   "metadata": {},
   "outputs": [],
   "source": [
    "ita_year = df.loc[df[\"team\"].isin(ita)]"
   ]
  },
  {
   "cell_type": "code",
   "execution_count": 16,
   "metadata": {},
   "outputs": [],
   "source": [
    "ita82year = ita_year.loc[ita_year[\"season\"].isin(year1982)]"
   ]
  },
  {
   "cell_type": "code",
   "execution_count": 17,
   "metadata": {},
   "outputs": [],
   "source": [
    "ita82xg = ita82year.sort_values(by=[\"goals_z\"], ascending=False)"
   ]
  },
  {
   "cell_type": "code",
   "execution_count": 18,
   "metadata": {},
   "outputs": [],
   "source": [
    "ita82xg13 = ita82xg.head(13)"
   ]
  },
  {
   "cell_type": "code",
   "execution_count": 19,
   "metadata": {},
   "outputs": [],
   "source": [
    "ita82xg13 = ita82xg13.drop(columns=['season', 'team'])"
   ]
  },
  {
   "cell_type": "code",
   "execution_count": 20,
   "metadata": {},
   "outputs": [],
   "source": [
    "ita82 = ita82xg13.mean()"
   ]
  },
  {
   "cell_type": "code",
   "execution_count": 21,
   "metadata": {},
   "outputs": [],
   "source": [
    "# ita82"
   ]
  },
  {
   "cell_type": "markdown",
   "metadata": {},
   "source": [
    "## 1986"
   ]
  },
  {
   "cell_type": "code",
   "execution_count": 22,
   "metadata": {},
   "outputs": [],
   "source": [
    "ita86year = ita_year.loc[ita_year[\"season\"].isin(year1986)]"
   ]
  },
  {
   "cell_type": "code",
   "execution_count": 23,
   "metadata": {},
   "outputs": [],
   "source": [
    "ita86xg = ita86year.sort_values(by=[\"goals_z\"], ascending=False)"
   ]
  },
  {
   "cell_type": "code",
   "execution_count": 24,
   "metadata": {},
   "outputs": [],
   "source": [
    "ita86xg13 = ita86xg.head(13)"
   ]
  },
  {
   "cell_type": "code",
   "execution_count": 25,
   "metadata": {},
   "outputs": [],
   "source": [
    "ita86xg13 = ita86xg13.drop(columns=['season', 'team'])"
   ]
  },
  {
   "cell_type": "code",
   "execution_count": 26,
   "metadata": {},
   "outputs": [],
   "source": [
    "ita86 = ita86xg13.mean()"
   ]
  },
  {
   "cell_type": "code",
   "execution_count": 27,
   "metadata": {},
   "outputs": [],
   "source": [
    "# ita86"
   ]
  },
  {
   "cell_type": "markdown",
   "metadata": {},
   "source": [
    "## 1990"
   ]
  },
  {
   "cell_type": "code",
   "execution_count": 28,
   "metadata": {},
   "outputs": [],
   "source": [
    "ita90year = ita_year.loc[ita_year[\"season\"].isin(year1990)]"
   ]
  },
  {
   "cell_type": "code",
   "execution_count": 29,
   "metadata": {},
   "outputs": [],
   "source": [
    "ita90xg = ita90year.sort_values(by=[\"goals_z\"], ascending=False)"
   ]
  },
  {
   "cell_type": "code",
   "execution_count": 30,
   "metadata": {},
   "outputs": [],
   "source": [
    "ita90xg13 = ita90xg.head(13)"
   ]
  },
  {
   "cell_type": "code",
   "execution_count": 31,
   "metadata": {},
   "outputs": [],
   "source": [
    "ita90xg13 = ita90xg13.drop(columns=['season', 'team'])"
   ]
  },
  {
   "cell_type": "code",
   "execution_count": 32,
   "metadata": {},
   "outputs": [],
   "source": [
    "ita90 = ita90xg13.mean()"
   ]
  },
  {
   "cell_type": "code",
   "execution_count": 33,
   "metadata": {},
   "outputs": [],
   "source": [
    "# ita90"
   ]
  },
  {
   "cell_type": "markdown",
   "metadata": {},
   "source": [
    "## 1994"
   ]
  },
  {
   "cell_type": "code",
   "execution_count": 34,
   "metadata": {},
   "outputs": [],
   "source": [
    "ita94year = ita_year.loc[ita_year[\"season\"].isin(year1994)]"
   ]
  },
  {
   "cell_type": "code",
   "execution_count": 35,
   "metadata": {},
   "outputs": [],
   "source": [
    "ita94xg = ita94year.sort_values(by=[\"goals_z\"], ascending=False)"
   ]
  },
  {
   "cell_type": "code",
   "execution_count": 36,
   "metadata": {},
   "outputs": [],
   "source": [
    "ita94xg13 = ita94xg.head(13)"
   ]
  },
  {
   "cell_type": "code",
   "execution_count": 37,
   "metadata": {},
   "outputs": [],
   "source": [
    "ita94xg13 = ita94xg13.drop(columns=['season', 'team'])"
   ]
  },
  {
   "cell_type": "code",
   "execution_count": 38,
   "metadata": {},
   "outputs": [],
   "source": [
    "ita94 = ita94xg13.mean()"
   ]
  },
  {
   "cell_type": "code",
   "execution_count": 39,
   "metadata": {},
   "outputs": [],
   "source": [
    "# ita94"
   ]
  },
  {
   "cell_type": "markdown",
   "metadata": {},
   "source": [
    "## 1998"
   ]
  },
  {
   "cell_type": "code",
   "execution_count": 40,
   "metadata": {},
   "outputs": [],
   "source": [
    "ita98year = ita_year.loc[ita_year[\"season\"].isin(year1998)]"
   ]
  },
  {
   "cell_type": "code",
   "execution_count": 41,
   "metadata": {},
   "outputs": [],
   "source": [
    "ita98xg = ita98year.sort_values(by=[\"goals_z\"], ascending=False)"
   ]
  },
  {
   "cell_type": "code",
   "execution_count": 42,
   "metadata": {},
   "outputs": [],
   "source": [
    "ita98xg13 = ita98xg.head(13)"
   ]
  },
  {
   "cell_type": "code",
   "execution_count": 43,
   "metadata": {},
   "outputs": [],
   "source": [
    "ita98xg13 = ita98xg13.drop(columns=['season', 'team'])"
   ]
  },
  {
   "cell_type": "code",
   "execution_count": 44,
   "metadata": {},
   "outputs": [],
   "source": [
    "ita98 = ita98xg13.mean()"
   ]
  },
  {
   "cell_type": "code",
   "execution_count": 45,
   "metadata": {},
   "outputs": [],
   "source": [
    "# ita98"
   ]
  },
  {
   "cell_type": "markdown",
   "metadata": {},
   "source": [
    "## 2002"
   ]
  },
  {
   "cell_type": "code",
   "execution_count": 46,
   "metadata": {},
   "outputs": [],
   "source": [
    "ita02year = ita_year.loc[ita_year[\"season\"].isin(year2002)]"
   ]
  },
  {
   "cell_type": "code",
   "execution_count": 47,
   "metadata": {},
   "outputs": [],
   "source": [
    "ita02xg = ita02year.sort_values(by=[\"goals_z\"], ascending=False)"
   ]
  },
  {
   "cell_type": "code",
   "execution_count": 48,
   "metadata": {},
   "outputs": [],
   "source": [
    "ita02xg13 = ita02xg.head(13)"
   ]
  },
  {
   "cell_type": "code",
   "execution_count": 49,
   "metadata": {},
   "outputs": [],
   "source": [
    "ita02xg13 = ita02xg13.drop(columns=['season', 'team'])"
   ]
  },
  {
   "cell_type": "code",
   "execution_count": 50,
   "metadata": {},
   "outputs": [],
   "source": [
    "ita02 = ita02xg13.mean()"
   ]
  },
  {
   "cell_type": "code",
   "execution_count": 51,
   "metadata": {},
   "outputs": [],
   "source": [
    "# ita02"
   ]
  },
  {
   "cell_type": "markdown",
   "metadata": {},
   "source": [
    "## 06"
   ]
  },
  {
   "cell_type": "code",
   "execution_count": 52,
   "metadata": {},
   "outputs": [],
   "source": [
    "ita06year = ita_year.loc[ita_year[\"season\"].isin(year2006)]"
   ]
  },
  {
   "cell_type": "code",
   "execution_count": 53,
   "metadata": {},
   "outputs": [],
   "source": [
    "ita06xg = ita06year.sort_values(by=[\"goals_z\"], ascending=False)"
   ]
  },
  {
   "cell_type": "code",
   "execution_count": 54,
   "metadata": {},
   "outputs": [],
   "source": [
    "ita06xg13 = ita06xg.head(13)"
   ]
  },
  {
   "cell_type": "code",
   "execution_count": 55,
   "metadata": {},
   "outputs": [],
   "source": [
    "ita06xg13 = ita06xg13.drop(columns=['season', 'team'])"
   ]
  },
  {
   "cell_type": "code",
   "execution_count": 56,
   "metadata": {},
   "outputs": [],
   "source": [
    "ita06 = ita06xg13.mean()"
   ]
  },
  {
   "cell_type": "code",
   "execution_count": 57,
   "metadata": {},
   "outputs": [],
   "source": [
    "# ita06"
   ]
  },
  {
   "cell_type": "markdown",
   "metadata": {},
   "source": [
    "## 2010"
   ]
  },
  {
   "cell_type": "code",
   "execution_count": 58,
   "metadata": {},
   "outputs": [],
   "source": [
    "ita10year = ita_year.loc[ita_year[\"season\"].isin(year2010)]"
   ]
  },
  {
   "cell_type": "code",
   "execution_count": 59,
   "metadata": {},
   "outputs": [],
   "source": [
    "ita10xg = ita10year.sort_values(by=[\"goals_z\"], ascending=False)"
   ]
  },
  {
   "cell_type": "code",
   "execution_count": 60,
   "metadata": {},
   "outputs": [],
   "source": [
    "ita10xg13 = ita10xg.head(13)"
   ]
  },
  {
   "cell_type": "code",
   "execution_count": 61,
   "metadata": {},
   "outputs": [],
   "source": [
    "ita10xg13 = ita10xg13.drop(columns=['season', 'team'])"
   ]
  },
  {
   "cell_type": "code",
   "execution_count": 62,
   "metadata": {},
   "outputs": [],
   "source": [
    "ita10 = ita10xg13.mean()"
   ]
  },
  {
   "cell_type": "code",
   "execution_count": 63,
   "metadata": {},
   "outputs": [],
   "source": [
    "# ita10"
   ]
  },
  {
   "cell_type": "markdown",
   "metadata": {},
   "source": [
    "## 2014"
   ]
  },
  {
   "cell_type": "code",
   "execution_count": 64,
   "metadata": {},
   "outputs": [],
   "source": [
    "ita14year = ita_year.loc[ita_year[\"season\"].isin(year2014)]"
   ]
  },
  {
   "cell_type": "code",
   "execution_count": 65,
   "metadata": {},
   "outputs": [],
   "source": [
    "ita14xg = ita14year.sort_values(by=[\"goals_z\"], ascending=False)"
   ]
  },
  {
   "cell_type": "code",
   "execution_count": 66,
   "metadata": {},
   "outputs": [],
   "source": [
    "ita14xg13 = ita14xg.head(13)"
   ]
  },
  {
   "cell_type": "code",
   "execution_count": 67,
   "metadata": {},
   "outputs": [],
   "source": [
    "ita14xg13 = ita14xg13.drop(columns=['season', 'team'])"
   ]
  },
  {
   "cell_type": "code",
   "execution_count": 68,
   "metadata": {},
   "outputs": [],
   "source": [
    "ita14 = ita14xg13.mean()"
   ]
  },
  {
   "cell_type": "code",
   "execution_count": 69,
   "metadata": {},
   "outputs": [
    {
     "data": {
      "text/plain": [
       "goals_z           -0.093077\n",
       "xg_z              -0.197692\n",
       "crosses_z         -0.366923\n",
       "boxtouches_z      -0.434615\n",
       "passes_z           0.531538\n",
       "progpasses_z       0.181538\n",
       "takeons_z         -0.248462\n",
       "progruns_z        -0.085385\n",
       "tackles_z          0.169231\n",
       "interceptions_z    0.879231\n",
       "clearances_z      -0.082308\n",
       "blocks_z           0.463077\n",
       "aerials_z         -0.289231\n",
       "fouls_z            0.077692\n",
       "fouled_z           0.267692\n",
       "nsxg_z            -0.443077\n",
       "dtype: float64"
      ]
     },
     "execution_count": 69,
     "metadata": {},
     "output_type": "execute_result"
    }
   ],
   "source": [
    "ita14"
   ]
  },
  {
   "cell_type": "code",
   "execution_count": 588,
   "metadata": {},
   "outputs": [],
   "source": [
    "ital = pd.concat([ita82, ita86, ita90, ita94, ita98, ita02, ita06, ita10, ita14], axis=1).T"
   ]
  },
  {
   "cell_type": "code",
   "execution_count": 589,
   "metadata": {},
   "outputs": [
    {
     "data": {
      "text/html": [
       "<div>\n",
       "<style scoped>\n",
       "    .dataframe tbody tr th:only-of-type {\n",
       "        vertical-align: middle;\n",
       "    }\n",
       "\n",
       "    .dataframe tbody tr th {\n",
       "        vertical-align: top;\n",
       "    }\n",
       "\n",
       "    .dataframe thead th {\n",
       "        text-align: right;\n",
       "    }\n",
       "</style>\n",
       "<table border=\"1\" class=\"dataframe\">\n",
       "  <thead>\n",
       "    <tr style=\"text-align: right;\">\n",
       "      <th></th>\n",
       "      <th>goals_z</th>\n",
       "      <th>xg_z</th>\n",
       "      <th>crosses_z</th>\n",
       "      <th>boxtouches_z</th>\n",
       "      <th>passes_z</th>\n",
       "      <th>progpasses_z</th>\n",
       "      <th>takeons_z</th>\n",
       "      <th>progruns_z</th>\n",
       "      <th>tackles_z</th>\n",
       "      <th>interceptions_z</th>\n",
       "      <th>clearances_z</th>\n",
       "      <th>blocks_z</th>\n",
       "      <th>aerials_z</th>\n",
       "      <th>fouls_z</th>\n",
       "      <th>fouled_z</th>\n",
       "      <th>nsxg_z</th>\n",
       "    </tr>\n",
       "  </thead>\n",
       "  <tbody>\n",
       "    <tr>\n",
       "      <th>0</th>\n",
       "      <td>0.286154</td>\n",
       "      <td>0.069231</td>\n",
       "      <td>0.013846</td>\n",
       "      <td>-0.040000</td>\n",
       "      <td>-0.095385</td>\n",
       "      <td>0.041538</td>\n",
       "      <td>0.054615</td>\n",
       "      <td>-0.230000</td>\n",
       "      <td>-0.101538</td>\n",
       "      <td>-0.220769</td>\n",
       "      <td>0.033846</td>\n",
       "      <td>0.198462</td>\n",
       "      <td>0.070000</td>\n",
       "      <td>0.350000</td>\n",
       "      <td>0.454615</td>\n",
       "      <td>-0.193846</td>\n",
       "    </tr>\n",
       "    <tr>\n",
       "      <th>1</th>\n",
       "      <td>0.073077</td>\n",
       "      <td>0.299231</td>\n",
       "      <td>0.304615</td>\n",
       "      <td>0.240000</td>\n",
       "      <td>0.406923</td>\n",
       "      <td>0.365385</td>\n",
       "      <td>0.016923</td>\n",
       "      <td>0.212308</td>\n",
       "      <td>-0.173077</td>\n",
       "      <td>0.320000</td>\n",
       "      <td>-0.068462</td>\n",
       "      <td>0.633846</td>\n",
       "      <td>-0.390000</td>\n",
       "      <td>0.300000</td>\n",
       "      <td>0.663846</td>\n",
       "      <td>0.102308</td>\n",
       "    </tr>\n",
       "    <tr>\n",
       "      <th>2</th>\n",
       "      <td>0.309231</td>\n",
       "      <td>0.330000</td>\n",
       "      <td>0.103846</td>\n",
       "      <td>0.147692</td>\n",
       "      <td>-0.000769</td>\n",
       "      <td>-0.311538</td>\n",
       "      <td>0.153846</td>\n",
       "      <td>0.121538</td>\n",
       "      <td>0.057692</td>\n",
       "      <td>0.213077</td>\n",
       "      <td>-0.199231</td>\n",
       "      <td>-0.313846</td>\n",
       "      <td>0.046923</td>\n",
       "      <td>-0.174615</td>\n",
       "      <td>0.493077</td>\n",
       "      <td>0.143077</td>\n",
       "    </tr>\n",
       "    <tr>\n",
       "      <th>3</th>\n",
       "      <td>0.032308</td>\n",
       "      <td>-0.028462</td>\n",
       "      <td>0.046154</td>\n",
       "      <td>0.052308</td>\n",
       "      <td>-0.147692</td>\n",
       "      <td>-0.115385</td>\n",
       "      <td>0.146923</td>\n",
       "      <td>-0.120000</td>\n",
       "      <td>-0.158462</td>\n",
       "      <td>-0.208462</td>\n",
       "      <td>-0.000769</td>\n",
       "      <td>-0.114615</td>\n",
       "      <td>0.080769</td>\n",
       "      <td>-0.066154</td>\n",
       "      <td>0.305385</td>\n",
       "      <td>0.050000</td>\n",
       "    </tr>\n",
       "    <tr>\n",
       "      <th>4</th>\n",
       "      <td>0.293846</td>\n",
       "      <td>0.176154</td>\n",
       "      <td>-0.355385</td>\n",
       "      <td>-0.112308</td>\n",
       "      <td>-0.164615</td>\n",
       "      <td>0.045385</td>\n",
       "      <td>-0.054615</td>\n",
       "      <td>-0.113846</td>\n",
       "      <td>-0.053846</td>\n",
       "      <td>-0.103077</td>\n",
       "      <td>0.309231</td>\n",
       "      <td>0.130000</td>\n",
       "      <td>0.074615</td>\n",
       "      <td>-0.010769</td>\n",
       "      <td>0.081538</td>\n",
       "      <td>-0.176923</td>\n",
       "    </tr>\n",
       "    <tr>\n",
       "      <th>5</th>\n",
       "      <td>0.153077</td>\n",
       "      <td>0.197692</td>\n",
       "      <td>0.030000</td>\n",
       "      <td>0.088462</td>\n",
       "      <td>-0.665385</td>\n",
       "      <td>-0.347692</td>\n",
       "      <td>-0.200000</td>\n",
       "      <td>-0.407692</td>\n",
       "      <td>-0.646154</td>\n",
       "      <td>-0.612308</td>\n",
       "      <td>-0.216154</td>\n",
       "      <td>-0.455385</td>\n",
       "      <td>-0.064615</td>\n",
       "      <td>-0.136923</td>\n",
       "      <td>0.095385</td>\n",
       "      <td>-0.118462</td>\n",
       "    </tr>\n",
       "    <tr>\n",
       "      <th>6</th>\n",
       "      <td>0.484615</td>\n",
       "      <td>0.213077</td>\n",
       "      <td>-0.103846</td>\n",
       "      <td>0.202308</td>\n",
       "      <td>-0.116154</td>\n",
       "      <td>-0.091538</td>\n",
       "      <td>-0.255385</td>\n",
       "      <td>-0.093077</td>\n",
       "      <td>-0.251538</td>\n",
       "      <td>-0.112308</td>\n",
       "      <td>0.109231</td>\n",
       "      <td>0.126923</td>\n",
       "      <td>0.100000</td>\n",
       "      <td>-0.377692</td>\n",
       "      <td>0.180000</td>\n",
       "      <td>0.180769</td>\n",
       "    </tr>\n",
       "    <tr>\n",
       "      <th>7</th>\n",
       "      <td>0.310769</td>\n",
       "      <td>0.424615</td>\n",
       "      <td>0.362308</td>\n",
       "      <td>0.256923</td>\n",
       "      <td>0.035385</td>\n",
       "      <td>0.073077</td>\n",
       "      <td>-0.039231</td>\n",
       "      <td>-0.240000</td>\n",
       "      <td>0.763846</td>\n",
       "      <td>0.315385</td>\n",
       "      <td>-0.299231</td>\n",
       "      <td>-0.280000</td>\n",
       "      <td>0.519231</td>\n",
       "      <td>-0.003077</td>\n",
       "      <td>0.360769</td>\n",
       "      <td>0.107692</td>\n",
       "    </tr>\n",
       "    <tr>\n",
       "      <th>8</th>\n",
       "      <td>-0.093077</td>\n",
       "      <td>-0.197692</td>\n",
       "      <td>-0.366923</td>\n",
       "      <td>-0.434615</td>\n",
       "      <td>0.531538</td>\n",
       "      <td>0.181538</td>\n",
       "      <td>-0.248462</td>\n",
       "      <td>-0.085385</td>\n",
       "      <td>0.169231</td>\n",
       "      <td>0.879231</td>\n",
       "      <td>-0.082308</td>\n",
       "      <td>0.463077</td>\n",
       "      <td>-0.289231</td>\n",
       "      <td>0.077692</td>\n",
       "      <td>0.267692</td>\n",
       "      <td>-0.443077</td>\n",
       "    </tr>\n",
       "  </tbody>\n",
       "</table>\n",
       "</div>"
      ],
      "text/plain": [
       "    goals_z      xg_z  crosses_z  boxtouches_z  passes_z  progpasses_z  \\\n",
       "0  0.286154  0.069231   0.013846     -0.040000 -0.095385      0.041538   \n",
       "1  0.073077  0.299231   0.304615      0.240000  0.406923      0.365385   \n",
       "2  0.309231  0.330000   0.103846      0.147692 -0.000769     -0.311538   \n",
       "3  0.032308 -0.028462   0.046154      0.052308 -0.147692     -0.115385   \n",
       "4  0.293846  0.176154  -0.355385     -0.112308 -0.164615      0.045385   \n",
       "5  0.153077  0.197692   0.030000      0.088462 -0.665385     -0.347692   \n",
       "6  0.484615  0.213077  -0.103846      0.202308 -0.116154     -0.091538   \n",
       "7  0.310769  0.424615   0.362308      0.256923  0.035385      0.073077   \n",
       "8 -0.093077 -0.197692  -0.366923     -0.434615  0.531538      0.181538   \n",
       "\n",
       "   takeons_z  progruns_z  tackles_z  interceptions_z  clearances_z  blocks_z  \\\n",
       "0   0.054615   -0.230000  -0.101538        -0.220769      0.033846  0.198462   \n",
       "1   0.016923    0.212308  -0.173077         0.320000     -0.068462  0.633846   \n",
       "2   0.153846    0.121538   0.057692         0.213077     -0.199231 -0.313846   \n",
       "3   0.146923   -0.120000  -0.158462        -0.208462     -0.000769 -0.114615   \n",
       "4  -0.054615   -0.113846  -0.053846        -0.103077      0.309231  0.130000   \n",
       "5  -0.200000   -0.407692  -0.646154        -0.612308     -0.216154 -0.455385   \n",
       "6  -0.255385   -0.093077  -0.251538        -0.112308      0.109231  0.126923   \n",
       "7  -0.039231   -0.240000   0.763846         0.315385     -0.299231 -0.280000   \n",
       "8  -0.248462   -0.085385   0.169231         0.879231     -0.082308  0.463077   \n",
       "\n",
       "   aerials_z   fouls_z  fouled_z    nsxg_z  \n",
       "0   0.070000  0.350000  0.454615 -0.193846  \n",
       "1  -0.390000  0.300000  0.663846  0.102308  \n",
       "2   0.046923 -0.174615  0.493077  0.143077  \n",
       "3   0.080769 -0.066154  0.305385  0.050000  \n",
       "4   0.074615 -0.010769  0.081538 -0.176923  \n",
       "5  -0.064615 -0.136923  0.095385 -0.118462  \n",
       "6   0.100000 -0.377692  0.180000  0.180769  \n",
       "7   0.519231 -0.003077  0.360769  0.107692  \n",
       "8  -0.289231  0.077692  0.267692 -0.443077  "
      ]
     },
     "execution_count": 589,
     "metadata": {},
     "output_type": "execute_result"
    }
   ],
   "source": [
    "ital"
   ]
  },
  {
   "cell_type": "code",
   "execution_count": 590,
   "metadata": {},
   "outputs": [],
   "source": [
    "ital.rename(index={0: 'Italy82', 1: 'Italy86', 2: 'Italy90', 3: 'Italy94', 4: 'Italy98', \n",
    "                  5: 'Italy02', 6: 'Italy06', 7: 'Italy10', 8: 'Italy14'}, inplace=True)\n"
   ]
  },
  {
   "cell_type": "code",
   "execution_count": 591,
   "metadata": {},
   "outputs": [],
   "source": [
    "df2 = ital.assign(results=[1, 12, 3, 2, 5, 15, 1, 26, 22])\n"
   ]
  },
  {
   "cell_type": "code",
   "execution_count": 592,
   "metadata": {},
   "outputs": [
    {
     "data": {
      "text/html": [
       "<div>\n",
       "<style scoped>\n",
       "    .dataframe tbody tr th:only-of-type {\n",
       "        vertical-align: middle;\n",
       "    }\n",
       "\n",
       "    .dataframe tbody tr th {\n",
       "        vertical-align: top;\n",
       "    }\n",
       "\n",
       "    .dataframe thead th {\n",
       "        text-align: right;\n",
       "    }\n",
       "</style>\n",
       "<table border=\"1\" class=\"dataframe\">\n",
       "  <thead>\n",
       "    <tr style=\"text-align: right;\">\n",
       "      <th></th>\n",
       "      <th>goals_z</th>\n",
       "      <th>xg_z</th>\n",
       "      <th>crosses_z</th>\n",
       "      <th>boxtouches_z</th>\n",
       "      <th>passes_z</th>\n",
       "      <th>progpasses_z</th>\n",
       "      <th>takeons_z</th>\n",
       "      <th>progruns_z</th>\n",
       "      <th>tackles_z</th>\n",
       "      <th>interceptions_z</th>\n",
       "      <th>clearances_z</th>\n",
       "      <th>blocks_z</th>\n",
       "      <th>aerials_z</th>\n",
       "      <th>fouls_z</th>\n",
       "      <th>fouled_z</th>\n",
       "      <th>nsxg_z</th>\n",
       "      <th>results</th>\n",
       "    </tr>\n",
       "  </thead>\n",
       "  <tbody>\n",
       "    <tr>\n",
       "      <th>Italy82</th>\n",
       "      <td>0.286154</td>\n",
       "      <td>0.069231</td>\n",
       "      <td>0.013846</td>\n",
       "      <td>-0.040000</td>\n",
       "      <td>-0.095385</td>\n",
       "      <td>0.041538</td>\n",
       "      <td>0.054615</td>\n",
       "      <td>-0.230000</td>\n",
       "      <td>-0.101538</td>\n",
       "      <td>-0.220769</td>\n",
       "      <td>0.033846</td>\n",
       "      <td>0.198462</td>\n",
       "      <td>0.070000</td>\n",
       "      <td>0.350000</td>\n",
       "      <td>0.454615</td>\n",
       "      <td>-0.193846</td>\n",
       "      <td>1</td>\n",
       "    </tr>\n",
       "    <tr>\n",
       "      <th>Italy86</th>\n",
       "      <td>0.073077</td>\n",
       "      <td>0.299231</td>\n",
       "      <td>0.304615</td>\n",
       "      <td>0.240000</td>\n",
       "      <td>0.406923</td>\n",
       "      <td>0.365385</td>\n",
       "      <td>0.016923</td>\n",
       "      <td>0.212308</td>\n",
       "      <td>-0.173077</td>\n",
       "      <td>0.320000</td>\n",
       "      <td>-0.068462</td>\n",
       "      <td>0.633846</td>\n",
       "      <td>-0.390000</td>\n",
       "      <td>0.300000</td>\n",
       "      <td>0.663846</td>\n",
       "      <td>0.102308</td>\n",
       "      <td>12</td>\n",
       "    </tr>\n",
       "    <tr>\n",
       "      <th>Italy90</th>\n",
       "      <td>0.309231</td>\n",
       "      <td>0.330000</td>\n",
       "      <td>0.103846</td>\n",
       "      <td>0.147692</td>\n",
       "      <td>-0.000769</td>\n",
       "      <td>-0.311538</td>\n",
       "      <td>0.153846</td>\n",
       "      <td>0.121538</td>\n",
       "      <td>0.057692</td>\n",
       "      <td>0.213077</td>\n",
       "      <td>-0.199231</td>\n",
       "      <td>-0.313846</td>\n",
       "      <td>0.046923</td>\n",
       "      <td>-0.174615</td>\n",
       "      <td>0.493077</td>\n",
       "      <td>0.143077</td>\n",
       "      <td>3</td>\n",
       "    </tr>\n",
       "    <tr>\n",
       "      <th>Italy94</th>\n",
       "      <td>0.032308</td>\n",
       "      <td>-0.028462</td>\n",
       "      <td>0.046154</td>\n",
       "      <td>0.052308</td>\n",
       "      <td>-0.147692</td>\n",
       "      <td>-0.115385</td>\n",
       "      <td>0.146923</td>\n",
       "      <td>-0.120000</td>\n",
       "      <td>-0.158462</td>\n",
       "      <td>-0.208462</td>\n",
       "      <td>-0.000769</td>\n",
       "      <td>-0.114615</td>\n",
       "      <td>0.080769</td>\n",
       "      <td>-0.066154</td>\n",
       "      <td>0.305385</td>\n",
       "      <td>0.050000</td>\n",
       "      <td>2</td>\n",
       "    </tr>\n",
       "    <tr>\n",
       "      <th>Italy98</th>\n",
       "      <td>0.293846</td>\n",
       "      <td>0.176154</td>\n",
       "      <td>-0.355385</td>\n",
       "      <td>-0.112308</td>\n",
       "      <td>-0.164615</td>\n",
       "      <td>0.045385</td>\n",
       "      <td>-0.054615</td>\n",
       "      <td>-0.113846</td>\n",
       "      <td>-0.053846</td>\n",
       "      <td>-0.103077</td>\n",
       "      <td>0.309231</td>\n",
       "      <td>0.130000</td>\n",
       "      <td>0.074615</td>\n",
       "      <td>-0.010769</td>\n",
       "      <td>0.081538</td>\n",
       "      <td>-0.176923</td>\n",
       "      <td>5</td>\n",
       "    </tr>\n",
       "    <tr>\n",
       "      <th>Italy02</th>\n",
       "      <td>0.153077</td>\n",
       "      <td>0.197692</td>\n",
       "      <td>0.030000</td>\n",
       "      <td>0.088462</td>\n",
       "      <td>-0.665385</td>\n",
       "      <td>-0.347692</td>\n",
       "      <td>-0.200000</td>\n",
       "      <td>-0.407692</td>\n",
       "      <td>-0.646154</td>\n",
       "      <td>-0.612308</td>\n",
       "      <td>-0.216154</td>\n",
       "      <td>-0.455385</td>\n",
       "      <td>-0.064615</td>\n",
       "      <td>-0.136923</td>\n",
       "      <td>0.095385</td>\n",
       "      <td>-0.118462</td>\n",
       "      <td>15</td>\n",
       "    </tr>\n",
       "    <tr>\n",
       "      <th>Italy06</th>\n",
       "      <td>0.484615</td>\n",
       "      <td>0.213077</td>\n",
       "      <td>-0.103846</td>\n",
       "      <td>0.202308</td>\n",
       "      <td>-0.116154</td>\n",
       "      <td>-0.091538</td>\n",
       "      <td>-0.255385</td>\n",
       "      <td>-0.093077</td>\n",
       "      <td>-0.251538</td>\n",
       "      <td>-0.112308</td>\n",
       "      <td>0.109231</td>\n",
       "      <td>0.126923</td>\n",
       "      <td>0.100000</td>\n",
       "      <td>-0.377692</td>\n",
       "      <td>0.180000</td>\n",
       "      <td>0.180769</td>\n",
       "      <td>1</td>\n",
       "    </tr>\n",
       "    <tr>\n",
       "      <th>Italy10</th>\n",
       "      <td>0.310769</td>\n",
       "      <td>0.424615</td>\n",
       "      <td>0.362308</td>\n",
       "      <td>0.256923</td>\n",
       "      <td>0.035385</td>\n",
       "      <td>0.073077</td>\n",
       "      <td>-0.039231</td>\n",
       "      <td>-0.240000</td>\n",
       "      <td>0.763846</td>\n",
       "      <td>0.315385</td>\n",
       "      <td>-0.299231</td>\n",
       "      <td>-0.280000</td>\n",
       "      <td>0.519231</td>\n",
       "      <td>-0.003077</td>\n",
       "      <td>0.360769</td>\n",
       "      <td>0.107692</td>\n",
       "      <td>26</td>\n",
       "    </tr>\n",
       "    <tr>\n",
       "      <th>Italy14</th>\n",
       "      <td>-0.093077</td>\n",
       "      <td>-0.197692</td>\n",
       "      <td>-0.366923</td>\n",
       "      <td>-0.434615</td>\n",
       "      <td>0.531538</td>\n",
       "      <td>0.181538</td>\n",
       "      <td>-0.248462</td>\n",
       "      <td>-0.085385</td>\n",
       "      <td>0.169231</td>\n",
       "      <td>0.879231</td>\n",
       "      <td>-0.082308</td>\n",
       "      <td>0.463077</td>\n",
       "      <td>-0.289231</td>\n",
       "      <td>0.077692</td>\n",
       "      <td>0.267692</td>\n",
       "      <td>-0.443077</td>\n",
       "      <td>22</td>\n",
       "    </tr>\n",
       "  </tbody>\n",
       "</table>\n",
       "</div>"
      ],
      "text/plain": [
       "          goals_z      xg_z  crosses_z  boxtouches_z  passes_z  progpasses_z  \\\n",
       "Italy82  0.286154  0.069231   0.013846     -0.040000 -0.095385      0.041538   \n",
       "Italy86  0.073077  0.299231   0.304615      0.240000  0.406923      0.365385   \n",
       "Italy90  0.309231  0.330000   0.103846      0.147692 -0.000769     -0.311538   \n",
       "Italy94  0.032308 -0.028462   0.046154      0.052308 -0.147692     -0.115385   \n",
       "Italy98  0.293846  0.176154  -0.355385     -0.112308 -0.164615      0.045385   \n",
       "Italy02  0.153077  0.197692   0.030000      0.088462 -0.665385     -0.347692   \n",
       "Italy06  0.484615  0.213077  -0.103846      0.202308 -0.116154     -0.091538   \n",
       "Italy10  0.310769  0.424615   0.362308      0.256923  0.035385      0.073077   \n",
       "Italy14 -0.093077 -0.197692  -0.366923     -0.434615  0.531538      0.181538   \n",
       "\n",
       "         takeons_z  progruns_z  tackles_z  interceptions_z  clearances_z  \\\n",
       "Italy82   0.054615   -0.230000  -0.101538        -0.220769      0.033846   \n",
       "Italy86   0.016923    0.212308  -0.173077         0.320000     -0.068462   \n",
       "Italy90   0.153846    0.121538   0.057692         0.213077     -0.199231   \n",
       "Italy94   0.146923   -0.120000  -0.158462        -0.208462     -0.000769   \n",
       "Italy98  -0.054615   -0.113846  -0.053846        -0.103077      0.309231   \n",
       "Italy02  -0.200000   -0.407692  -0.646154        -0.612308     -0.216154   \n",
       "Italy06  -0.255385   -0.093077  -0.251538        -0.112308      0.109231   \n",
       "Italy10  -0.039231   -0.240000   0.763846         0.315385     -0.299231   \n",
       "Italy14  -0.248462   -0.085385   0.169231         0.879231     -0.082308   \n",
       "\n",
       "         blocks_z  aerials_z   fouls_z  fouled_z    nsxg_z  results  \n",
       "Italy82  0.198462   0.070000  0.350000  0.454615 -0.193846        1  \n",
       "Italy86  0.633846  -0.390000  0.300000  0.663846  0.102308       12  \n",
       "Italy90 -0.313846   0.046923 -0.174615  0.493077  0.143077        3  \n",
       "Italy94 -0.114615   0.080769 -0.066154  0.305385  0.050000        2  \n",
       "Italy98  0.130000   0.074615 -0.010769  0.081538 -0.176923        5  \n",
       "Italy02 -0.455385  -0.064615 -0.136923  0.095385 -0.118462       15  \n",
       "Italy06  0.126923   0.100000 -0.377692  0.180000  0.180769        1  \n",
       "Italy10 -0.280000   0.519231 -0.003077  0.360769  0.107692       26  \n",
       "Italy14  0.463077  -0.289231  0.077692  0.267692 -0.443077       22  "
      ]
     },
     "execution_count": 592,
     "metadata": {},
     "output_type": "execute_result"
    }
   ],
   "source": [
    "df2"
   ]
  },
  {
   "cell_type": "code",
   "execution_count": 593,
   "metadata": {},
   "outputs": [],
   "source": [
    "# df2.to_csv('Italy.csv')\n"
   ]
  },
  {
   "cell_type": "code",
   "execution_count": 75,
   "metadata": {},
   "outputs": [],
   "source": [
    "# 82 - 1      Italy     1/C     7     4     3     0     12     6     +6     11\n",
    "# 86 - 12      Italy     A     4     1     2     1     5     6     −1     4\n",
    "# 90 - 3     A      Italy     7     6     1     0     10     2     +8     13     3rd\n",
    "# 94 - 2      Italy     E     7     4     2     1     8     5     +3     14\n",
    "# 98 - 5      Italy     B     5     3     2     0     8     3     +5     11\n",
    "# 02 - 15     G      Italy     4     1     1     2     5     5     0     4\n",
    "# 06 - 1      Italy     E     7     5     2     0     12     2     +10     17\n",
    "# 10 - 26      Italy     F     3     0     2     1     4     5     −1     2\n",
    "# 14 - 22      Italy     D     3     1     0     2     3     2     3     −1\n"
   ]
  },
  {
   "cell_type": "markdown",
   "metadata": {},
   "source": [
    "#  South Korea "
   ]
  },
  {
   "cell_type": "markdown",
   "metadata": {},
   "source": [
    "## 86"
   ]
  },
  {
   "cell_type": "code",
   "execution_count": 76,
   "metadata": {},
   "outputs": [],
   "source": [
    "sko = ['South Korea']"
   ]
  },
  {
   "cell_type": "code",
   "execution_count": 77,
   "metadata": {},
   "outputs": [],
   "source": [
    "sko_year = df.loc[df[\"team\"].isin(sko)]"
   ]
  },
  {
   "cell_type": "code",
   "execution_count": 78,
   "metadata": {},
   "outputs": [],
   "source": [
    "sko86year = sko_year.loc[sko_year[\"season\"].isin(year1986)]"
   ]
  },
  {
   "cell_type": "code",
   "execution_count": 79,
   "metadata": {},
   "outputs": [],
   "source": [
    "sko86xg = sko86year.sort_values(by=[\"goals_z\"], ascending=False)"
   ]
  },
  {
   "cell_type": "code",
   "execution_count": 80,
   "metadata": {},
   "outputs": [],
   "source": [
    "sko86xg13 = sko86xg.head(13)"
   ]
  },
  {
   "cell_type": "code",
   "execution_count": 81,
   "metadata": {},
   "outputs": [],
   "source": [
    "sko86xg13 = sko86xg13.drop(columns=['season', 'team'])"
   ]
  },
  {
   "cell_type": "code",
   "execution_count": 82,
   "metadata": {},
   "outputs": [],
   "source": [
    "sko86 = sko86xg13.mean()"
   ]
  },
  {
   "cell_type": "code",
   "execution_count": 83,
   "metadata": {},
   "outputs": [],
   "source": [
    "# sko86"
   ]
  },
  {
   "cell_type": "markdown",
   "metadata": {},
   "source": [
    "## 90"
   ]
  },
  {
   "cell_type": "code",
   "execution_count": 84,
   "metadata": {},
   "outputs": [],
   "source": [
    "sko90year = sko_year.loc[sko_year[\"season\"].isin(year1990)]"
   ]
  },
  {
   "cell_type": "code",
   "execution_count": 85,
   "metadata": {},
   "outputs": [],
   "source": [
    "sko90xg = sko90year.sort_values(by=[\"goals_z\"], ascending=False)"
   ]
  },
  {
   "cell_type": "code",
   "execution_count": 86,
   "metadata": {},
   "outputs": [],
   "source": [
    "sko90xg13 = sko90xg.head(13)"
   ]
  },
  {
   "cell_type": "code",
   "execution_count": 87,
   "metadata": {},
   "outputs": [],
   "source": [
    "sko90xg13 = sko90xg13.drop(columns=['season', 'team'])"
   ]
  },
  {
   "cell_type": "code",
   "execution_count": 88,
   "metadata": {},
   "outputs": [],
   "source": [
    "sko90 = sko90xg13.mean()"
   ]
  },
  {
   "cell_type": "code",
   "execution_count": 89,
   "metadata": {},
   "outputs": [],
   "source": [
    "# sko90"
   ]
  },
  {
   "cell_type": "markdown",
   "metadata": {},
   "source": [
    "## 94"
   ]
  },
  {
   "cell_type": "code",
   "execution_count": 90,
   "metadata": {},
   "outputs": [],
   "source": [
    "sko94year = sko_year.loc[sko_year[\"season\"].isin(year1994)]"
   ]
  },
  {
   "cell_type": "code",
   "execution_count": 91,
   "metadata": {},
   "outputs": [],
   "source": [
    "sko94xg = sko94year.sort_values(by=[\"goals_z\"], ascending=False)"
   ]
  },
  {
   "cell_type": "code",
   "execution_count": 92,
   "metadata": {},
   "outputs": [],
   "source": [
    "sko94xg13 = sko94xg.head(13)"
   ]
  },
  {
   "cell_type": "code",
   "execution_count": 93,
   "metadata": {},
   "outputs": [],
   "source": [
    "sko94xg13 = sko94xg13.drop(columns=['season', 'team'])"
   ]
  },
  {
   "cell_type": "code",
   "execution_count": 94,
   "metadata": {},
   "outputs": [],
   "source": [
    "sko94 = sko94xg13.mean()"
   ]
  },
  {
   "cell_type": "code",
   "execution_count": 95,
   "metadata": {},
   "outputs": [],
   "source": [
    "# sko94"
   ]
  },
  {
   "cell_type": "markdown",
   "metadata": {},
   "source": [
    "## 98"
   ]
  },
  {
   "cell_type": "code",
   "execution_count": 96,
   "metadata": {},
   "outputs": [],
   "source": [
    "sko98year = sko_year.loc[sko_year[\"season\"].isin(year1998)]"
   ]
  },
  {
   "cell_type": "code",
   "execution_count": 97,
   "metadata": {},
   "outputs": [],
   "source": [
    "sko98xg = sko98year.sort_values(by=[\"goals_z\"], ascending=False)"
   ]
  },
  {
   "cell_type": "code",
   "execution_count": 98,
   "metadata": {},
   "outputs": [],
   "source": [
    "sko98xg13 = sko98xg.head(13)"
   ]
  },
  {
   "cell_type": "code",
   "execution_count": 99,
   "metadata": {},
   "outputs": [],
   "source": [
    "sko98xg13 = sko98xg13.drop(columns=['season', 'team'])"
   ]
  },
  {
   "cell_type": "code",
   "execution_count": 100,
   "metadata": {},
   "outputs": [],
   "source": [
    "sko98 = sko98xg13.mean()"
   ]
  },
  {
   "cell_type": "code",
   "execution_count": 101,
   "metadata": {},
   "outputs": [],
   "source": [
    "# sko98"
   ]
  },
  {
   "cell_type": "markdown",
   "metadata": {},
   "source": [
    "## 02"
   ]
  },
  {
   "cell_type": "code",
   "execution_count": 102,
   "metadata": {},
   "outputs": [],
   "source": [
    "sko02year = sko_year.loc[sko_year[\"season\"].isin(year2002)]"
   ]
  },
  {
   "cell_type": "code",
   "execution_count": 103,
   "metadata": {},
   "outputs": [],
   "source": [
    "sko02xg = sko02year.sort_values(by=[\"goals_z\"], ascending=False)"
   ]
  },
  {
   "cell_type": "code",
   "execution_count": 104,
   "metadata": {},
   "outputs": [],
   "source": [
    "sko02xg13 = sko02xg.head(13)"
   ]
  },
  {
   "cell_type": "code",
   "execution_count": 105,
   "metadata": {},
   "outputs": [],
   "source": [
    "sko02xg13 = sko02xg13.drop(columns=['season', 'team'])"
   ]
  },
  {
   "cell_type": "code",
   "execution_count": 106,
   "metadata": {},
   "outputs": [],
   "source": [
    "sko02 = sko02xg13.mean()"
   ]
  },
  {
   "cell_type": "code",
   "execution_count": 107,
   "metadata": {},
   "outputs": [],
   "source": [
    "# sko02"
   ]
  },
  {
   "cell_type": "markdown",
   "metadata": {},
   "source": [
    "## 06"
   ]
  },
  {
   "cell_type": "code",
   "execution_count": 108,
   "metadata": {},
   "outputs": [],
   "source": [
    "sko06year = sko_year.loc[sko_year[\"season\"].isin(year2006)]"
   ]
  },
  {
   "cell_type": "code",
   "execution_count": 109,
   "metadata": {},
   "outputs": [],
   "source": [
    "sko06xg = sko06year.sort_values(by=[\"goals_z\"], ascending=False)"
   ]
  },
  {
   "cell_type": "code",
   "execution_count": 110,
   "metadata": {},
   "outputs": [],
   "source": [
    "sko06xg13 = sko06xg.head(13)"
   ]
  },
  {
   "cell_type": "code",
   "execution_count": 111,
   "metadata": {},
   "outputs": [],
   "source": [
    "sko06xg13 = sko06xg13.drop(columns=['season', 'team'])"
   ]
  },
  {
   "cell_type": "code",
   "execution_count": 112,
   "metadata": {},
   "outputs": [],
   "source": [
    "sko06 = sko06xg13.mean()"
   ]
  },
  {
   "cell_type": "code",
   "execution_count": 113,
   "metadata": {},
   "outputs": [],
   "source": [
    "# sko06"
   ]
  },
  {
   "cell_type": "markdown",
   "metadata": {},
   "source": [
    "## 10"
   ]
  },
  {
   "cell_type": "code",
   "execution_count": 114,
   "metadata": {},
   "outputs": [],
   "source": [
    "sko10year = sko_year.loc[sko_year[\"season\"].isin(year2010)]"
   ]
  },
  {
   "cell_type": "code",
   "execution_count": 115,
   "metadata": {},
   "outputs": [],
   "source": [
    "sko10xg = sko10year.sort_values(by=[\"goals_z\"], ascending=False)"
   ]
  },
  {
   "cell_type": "code",
   "execution_count": 116,
   "metadata": {},
   "outputs": [],
   "source": [
    "sko10xg13 = sko10xg.head(13)"
   ]
  },
  {
   "cell_type": "code",
   "execution_count": 117,
   "metadata": {},
   "outputs": [],
   "source": [
    "sko10xg13 = sko10xg13.drop(columns=['season', 'team'])"
   ]
  },
  {
   "cell_type": "code",
   "execution_count": 118,
   "metadata": {},
   "outputs": [],
   "source": [
    "sko10 = sko10xg13.mean()"
   ]
  },
  {
   "cell_type": "code",
   "execution_count": 119,
   "metadata": {},
   "outputs": [],
   "source": [
    "# sko10"
   ]
  },
  {
   "cell_type": "markdown",
   "metadata": {},
   "source": [
    "## 14"
   ]
  },
  {
   "cell_type": "code",
   "execution_count": 120,
   "metadata": {},
   "outputs": [],
   "source": [
    "sko14year = sko_year.loc[sko_year[\"season\"].isin(year2014)]"
   ]
  },
  {
   "cell_type": "code",
   "execution_count": 121,
   "metadata": {},
   "outputs": [],
   "source": [
    "sko14xg = sko14year.sort_values(by=[\"goals_z\"], ascending=False)"
   ]
  },
  {
   "cell_type": "code",
   "execution_count": 122,
   "metadata": {},
   "outputs": [],
   "source": [
    "sko14xg13 = sko14xg.head(13)"
   ]
  },
  {
   "cell_type": "code",
   "execution_count": 123,
   "metadata": {},
   "outputs": [],
   "source": [
    "sko14xg13 = sko14xg13.drop(columns=['season', 'team'])"
   ]
  },
  {
   "cell_type": "code",
   "execution_count": 124,
   "metadata": {},
   "outputs": [],
   "source": [
    "sko14 = sko14xg13.mean()"
   ]
  },
  {
   "cell_type": "code",
   "execution_count": 125,
   "metadata": {},
   "outputs": [],
   "source": [
    "# sko14"
   ]
  },
  {
   "cell_type": "markdown",
   "metadata": {},
   "source": [
    "## 2018"
   ]
  },
  {
   "cell_type": "code",
   "execution_count": 126,
   "metadata": {},
   "outputs": [],
   "source": [
    "sko18year = sko_year.loc[sko_year[\"season\"].isin(year2018)]"
   ]
  },
  {
   "cell_type": "code",
   "execution_count": 127,
   "metadata": {},
   "outputs": [],
   "source": [
    "sko18xg = sko18year.sort_values(by=[\"goals_z\"], ascending=False)"
   ]
  },
  {
   "cell_type": "code",
   "execution_count": 128,
   "metadata": {},
   "outputs": [],
   "source": [
    "sko18xg13 = sko18xg.head(13)"
   ]
  },
  {
   "cell_type": "code",
   "execution_count": 129,
   "metadata": {},
   "outputs": [],
   "source": [
    "sko18xg13 = sko18xg13.drop(columns=['season', 'team'])"
   ]
  },
  {
   "cell_type": "code",
   "execution_count": 130,
   "metadata": {},
   "outputs": [],
   "source": [
    "sko18 = sko18xg13.mean()"
   ]
  },
  {
   "cell_type": "code",
   "execution_count": 131,
   "metadata": {},
   "outputs": [],
   "source": [
    "# sko18"
   ]
  },
  {
   "cell_type": "code",
   "execution_count": 594,
   "metadata": {},
   "outputs": [],
   "source": [
    "sko = pd.concat([sko86, sko90, sko94, sko98, sko02, \n",
    "                 sko06, sko10, sko14, sko18], axis=1).T\n"
   ]
  },
  {
   "cell_type": "code",
   "execution_count": 595,
   "metadata": {},
   "outputs": [],
   "source": [
    "sko.rename(index={0: 'South_korea86', 1: 'South_korea90', \n",
    "                  2: 'South_korea94', 3: 'South_korea98', \n",
    "                  4: 'South_korea02', 5: 'South_korea06',\n",
    "                 6: 'South_korea10', 7: 'South_korea14',\n",
    "                 7: 'South_korea18'}, inplace=True)\n"
   ]
  },
  {
   "cell_type": "code",
   "execution_count": 596,
   "metadata": {},
   "outputs": [],
   "source": [
    "df2 = sko.assign(results=[20, 22, 20, 30, 4, 17, 15, 27, 19])\n"
   ]
  },
  {
   "cell_type": "code",
   "execution_count": 597,
   "metadata": {},
   "outputs": [
    {
     "data": {
      "text/html": [
       "<div>\n",
       "<style scoped>\n",
       "    .dataframe tbody tr th:only-of-type {\n",
       "        vertical-align: middle;\n",
       "    }\n",
       "\n",
       "    .dataframe tbody tr th {\n",
       "        vertical-align: top;\n",
       "    }\n",
       "\n",
       "    .dataframe thead th {\n",
       "        text-align: right;\n",
       "    }\n",
       "</style>\n",
       "<table border=\"1\" class=\"dataframe\">\n",
       "  <thead>\n",
       "    <tr style=\"text-align: right;\">\n",
       "      <th></th>\n",
       "      <th>goals_z</th>\n",
       "      <th>xg_z</th>\n",
       "      <th>crosses_z</th>\n",
       "      <th>boxtouches_z</th>\n",
       "      <th>passes_z</th>\n",
       "      <th>progpasses_z</th>\n",
       "      <th>takeons_z</th>\n",
       "      <th>progruns_z</th>\n",
       "      <th>tackles_z</th>\n",
       "      <th>interceptions_z</th>\n",
       "      <th>clearances_z</th>\n",
       "      <th>blocks_z</th>\n",
       "      <th>aerials_z</th>\n",
       "      <th>fouls_z</th>\n",
       "      <th>fouled_z</th>\n",
       "      <th>nsxg_z</th>\n",
       "      <th>results</th>\n",
       "    </tr>\n",
       "  </thead>\n",
       "  <tbody>\n",
       "    <tr>\n",
       "      <th>South_korea86</th>\n",
       "      <td>0.228462</td>\n",
       "      <td>0.057692</td>\n",
       "      <td>0.275385</td>\n",
       "      <td>0.283846</td>\n",
       "      <td>-0.075385</td>\n",
       "      <td>0.005385</td>\n",
       "      <td>0.069231</td>\n",
       "      <td>-0.332308</td>\n",
       "      <td>0.150000</td>\n",
       "      <td>-0.079231</td>\n",
       "      <td>-0.099231</td>\n",
       "      <td>0.013846</td>\n",
       "      <td>0.130769</td>\n",
       "      <td>0.433077</td>\n",
       "      <td>0.083846</td>\n",
       "      <td>0.374615</td>\n",
       "      <td>20</td>\n",
       "    </tr>\n",
       "    <tr>\n",
       "      <th>South_korea90</th>\n",
       "      <td>-0.241538</td>\n",
       "      <td>-0.352308</td>\n",
       "      <td>-0.361538</td>\n",
       "      <td>-0.213846</td>\n",
       "      <td>-0.336154</td>\n",
       "      <td>-0.175385</td>\n",
       "      <td>-0.170000</td>\n",
       "      <td>-0.399231</td>\n",
       "      <td>-0.215385</td>\n",
       "      <td>0.071538</td>\n",
       "      <td>0.245385</td>\n",
       "      <td>0.389231</td>\n",
       "      <td>0.007692</td>\n",
       "      <td>0.566923</td>\n",
       "      <td>-0.183846</td>\n",
       "      <td>-0.375385</td>\n",
       "      <td>22</td>\n",
       "    </tr>\n",
       "    <tr>\n",
       "      <th>South_korea94</th>\n",
       "      <td>0.148462</td>\n",
       "      <td>0.080000</td>\n",
       "      <td>0.282308</td>\n",
       "      <td>0.136923</td>\n",
       "      <td>-0.076154</td>\n",
       "      <td>-0.136154</td>\n",
       "      <td>0.069231</td>\n",
       "      <td>0.194615</td>\n",
       "      <td>-0.005385</td>\n",
       "      <td>-0.285385</td>\n",
       "      <td>-0.273846</td>\n",
       "      <td>0.194615</td>\n",
       "      <td>-0.096154</td>\n",
       "      <td>0.026923</td>\n",
       "      <td>-0.044615</td>\n",
       "      <td>-0.052308</td>\n",
       "      <td>20</td>\n",
       "    </tr>\n",
       "    <tr>\n",
       "      <th>South_korea98</th>\n",
       "      <td>-0.103077</td>\n",
       "      <td>-0.270769</td>\n",
       "      <td>-0.020000</td>\n",
       "      <td>-0.350000</td>\n",
       "      <td>-0.159231</td>\n",
       "      <td>0.011538</td>\n",
       "      <td>-0.186154</td>\n",
       "      <td>-0.476923</td>\n",
       "      <td>-0.342308</td>\n",
       "      <td>-0.209231</td>\n",
       "      <td>0.335385</td>\n",
       "      <td>0.132308</td>\n",
       "      <td>0.363077</td>\n",
       "      <td>-0.210769</td>\n",
       "      <td>-0.255385</td>\n",
       "      <td>-0.223077</td>\n",
       "      <td>30</td>\n",
       "    </tr>\n",
       "    <tr>\n",
       "      <th>South_korea02</th>\n",
       "      <td>0.095385</td>\n",
       "      <td>0.250769</td>\n",
       "      <td>0.246923</td>\n",
       "      <td>0.118462</td>\n",
       "      <td>0.100000</td>\n",
       "      <td>0.000769</td>\n",
       "      <td>0.095385</td>\n",
       "      <td>0.163846</td>\n",
       "      <td>0.410000</td>\n",
       "      <td>0.266923</td>\n",
       "      <td>-0.184615</td>\n",
       "      <td>-0.225385</td>\n",
       "      <td>0.149231</td>\n",
       "      <td>0.034615</td>\n",
       "      <td>0.082308</td>\n",
       "      <td>0.062308</td>\n",
       "      <td>4</td>\n",
       "    </tr>\n",
       "    <tr>\n",
       "      <th>South_korea06</th>\n",
       "      <td>0.156923</td>\n",
       "      <td>0.010769</td>\n",
       "      <td>0.373077</td>\n",
       "      <td>0.396923</td>\n",
       "      <td>0.304615</td>\n",
       "      <td>0.068462</td>\n",
       "      <td>-0.200769</td>\n",
       "      <td>-0.011538</td>\n",
       "      <td>0.462308</td>\n",
       "      <td>0.090000</td>\n",
       "      <td>-0.189231</td>\n",
       "      <td>-0.257692</td>\n",
       "      <td>0.549231</td>\n",
       "      <td>-0.063846</td>\n",
       "      <td>0.069231</td>\n",
       "      <td>0.430000</td>\n",
       "      <td>17</td>\n",
       "    </tr>\n",
       "    <tr>\n",
       "      <th>South_korea10</th>\n",
       "      <td>0.398462</td>\n",
       "      <td>0.258462</td>\n",
       "      <td>-0.106923</td>\n",
       "      <td>0.123077</td>\n",
       "      <td>0.061538</td>\n",
       "      <td>-0.023846</td>\n",
       "      <td>0.037692</td>\n",
       "      <td>0.039231</td>\n",
       "      <td>0.236923</td>\n",
       "      <td>0.170769</td>\n",
       "      <td>0.003077</td>\n",
       "      <td>-0.101538</td>\n",
       "      <td>0.405385</td>\n",
       "      <td>0.096154</td>\n",
       "      <td>0.233846</td>\n",
       "      <td>0.223846</td>\n",
       "      <td>15</td>\n",
       "    </tr>\n",
       "    <tr>\n",
       "      <th>South_korea18</th>\n",
       "      <td>0.075385</td>\n",
       "      <td>-0.059231</td>\n",
       "      <td>0.215385</td>\n",
       "      <td>0.381538</td>\n",
       "      <td>0.125385</td>\n",
       "      <td>-0.083846</td>\n",
       "      <td>0.281538</td>\n",
       "      <td>0.140000</td>\n",
       "      <td>-0.032308</td>\n",
       "      <td>-0.112308</td>\n",
       "      <td>0.302308</td>\n",
       "      <td>0.120769</td>\n",
       "      <td>0.631538</td>\n",
       "      <td>-0.247692</td>\n",
       "      <td>0.134615</td>\n",
       "      <td>0.481538</td>\n",
       "      <td>27</td>\n",
       "    </tr>\n",
       "    <tr>\n",
       "      <th>8</th>\n",
       "      <td>0.110000</td>\n",
       "      <td>0.032308</td>\n",
       "      <td>-0.150000</td>\n",
       "      <td>0.017692</td>\n",
       "      <td>-0.373077</td>\n",
       "      <td>-0.323077</td>\n",
       "      <td>0.376923</td>\n",
       "      <td>-0.113846</td>\n",
       "      <td>-0.230000</td>\n",
       "      <td>-0.154615</td>\n",
       "      <td>0.297692</td>\n",
       "      <td>-0.116923</td>\n",
       "      <td>-0.215385</td>\n",
       "      <td>0.799231</td>\n",
       "      <td>-0.030000</td>\n",
       "      <td>0.176154</td>\n",
       "      <td>19</td>\n",
       "    </tr>\n",
       "  </tbody>\n",
       "</table>\n",
       "</div>"
      ],
      "text/plain": [
       "                goals_z      xg_z  crosses_z  boxtouches_z  passes_z  \\\n",
       "South_korea86  0.228462  0.057692   0.275385      0.283846 -0.075385   \n",
       "South_korea90 -0.241538 -0.352308  -0.361538     -0.213846 -0.336154   \n",
       "South_korea94  0.148462  0.080000   0.282308      0.136923 -0.076154   \n",
       "South_korea98 -0.103077 -0.270769  -0.020000     -0.350000 -0.159231   \n",
       "South_korea02  0.095385  0.250769   0.246923      0.118462  0.100000   \n",
       "South_korea06  0.156923  0.010769   0.373077      0.396923  0.304615   \n",
       "South_korea10  0.398462  0.258462  -0.106923      0.123077  0.061538   \n",
       "South_korea18  0.075385 -0.059231   0.215385      0.381538  0.125385   \n",
       "8              0.110000  0.032308  -0.150000      0.017692 -0.373077   \n",
       "\n",
       "               progpasses_z  takeons_z  progruns_z  tackles_z  \\\n",
       "South_korea86      0.005385   0.069231   -0.332308   0.150000   \n",
       "South_korea90     -0.175385  -0.170000   -0.399231  -0.215385   \n",
       "South_korea94     -0.136154   0.069231    0.194615  -0.005385   \n",
       "South_korea98      0.011538  -0.186154   -0.476923  -0.342308   \n",
       "South_korea02      0.000769   0.095385    0.163846   0.410000   \n",
       "South_korea06      0.068462  -0.200769   -0.011538   0.462308   \n",
       "South_korea10     -0.023846   0.037692    0.039231   0.236923   \n",
       "South_korea18     -0.083846   0.281538    0.140000  -0.032308   \n",
       "8                 -0.323077   0.376923   -0.113846  -0.230000   \n",
       "\n",
       "               interceptions_z  clearances_z  blocks_z  aerials_z   fouls_z  \\\n",
       "South_korea86        -0.079231     -0.099231  0.013846   0.130769  0.433077   \n",
       "South_korea90         0.071538      0.245385  0.389231   0.007692  0.566923   \n",
       "South_korea94        -0.285385     -0.273846  0.194615  -0.096154  0.026923   \n",
       "South_korea98        -0.209231      0.335385  0.132308   0.363077 -0.210769   \n",
       "South_korea02         0.266923     -0.184615 -0.225385   0.149231  0.034615   \n",
       "South_korea06         0.090000     -0.189231 -0.257692   0.549231 -0.063846   \n",
       "South_korea10         0.170769      0.003077 -0.101538   0.405385  0.096154   \n",
       "South_korea18        -0.112308      0.302308  0.120769   0.631538 -0.247692   \n",
       "8                    -0.154615      0.297692 -0.116923  -0.215385  0.799231   \n",
       "\n",
       "               fouled_z    nsxg_z  results  \n",
       "South_korea86  0.083846  0.374615       20  \n",
       "South_korea90 -0.183846 -0.375385       22  \n",
       "South_korea94 -0.044615 -0.052308       20  \n",
       "South_korea98 -0.255385 -0.223077       30  \n",
       "South_korea02  0.082308  0.062308        4  \n",
       "South_korea06  0.069231  0.430000       17  \n",
       "South_korea10  0.233846  0.223846       15  \n",
       "South_korea18  0.134615  0.481538       27  \n",
       "8             -0.030000  0.176154       19  "
      ]
     },
     "execution_count": 597,
     "metadata": {},
     "output_type": "execute_result"
    }
   ],
   "source": [
    "df2"
   ]
  },
  {
   "cell_type": "code",
   "execution_count": 598,
   "metadata": {},
   "outputs": [],
   "source": [
    "# df2.to_csv('South_Korea.csv')\n"
   ]
  },
  {
   "cell_type": "code",
   "execution_count": 136,
   "metadata": {},
   "outputs": [],
   "source": [
    "# 86 - 20      South Korea     A     3     0     1     2     4     7     −3     1\n",
    "# 90 - 22     E      South Korea     3     0     0     3     1     6     −5     0\n",
    "# 94 - 20      South Korea     C     3     0     2     1     4     5     −1     2\n",
    "# 98 - 30      South Korea     E     3     0     1     2     2     9     −7     1\n",
    "# 02 - 4     D      South Korea     7     3     2     2     8     6     +2     11     4th\n",
    "# 06 - 17      South Korea     G     3     1     1     1     3     4     −1     4\n",
    "# 10 - 15      South Korea     B     4     1     1     2     6     8     −2     4\n",
    "# 14 - 27      South Korea     H     3     0     1     2     1     3     6     −3\n",
    "# 18 - 19      South Korea     F     3     1     0     2     3     3     3     0\n"
   ]
  },
  {
   "cell_type": "markdown",
   "metadata": {},
   "source": [
    "# Nigeria"
   ]
  },
  {
   "cell_type": "markdown",
   "metadata": {},
   "source": [
    "## 94"
   ]
  },
  {
   "cell_type": "code",
   "execution_count": 137,
   "metadata": {},
   "outputs": [],
   "source": [
    "nig = ['Nigeria']"
   ]
  },
  {
   "cell_type": "code",
   "execution_count": 138,
   "metadata": {},
   "outputs": [],
   "source": [
    "nig_year = df.loc[df[\"team\"].isin(nig)]"
   ]
  },
  {
   "cell_type": "code",
   "execution_count": 139,
   "metadata": {},
   "outputs": [],
   "source": [
    "nig94year = nig_year.loc[nig_year[\"season\"].isin(year1994)]"
   ]
  },
  {
   "cell_type": "code",
   "execution_count": 140,
   "metadata": {},
   "outputs": [],
   "source": [
    "nig94xg = nig94year.sort_values(by=[\"goals_z\"], ascending=False)"
   ]
  },
  {
   "cell_type": "code",
   "execution_count": 141,
   "metadata": {},
   "outputs": [],
   "source": [
    "nig94xg13 = nig94xg.head(13)"
   ]
  },
  {
   "cell_type": "code",
   "execution_count": 142,
   "metadata": {},
   "outputs": [],
   "source": [
    "nig94xg13 = nig94xg13.drop(columns=['season', 'team'])"
   ]
  },
  {
   "cell_type": "code",
   "execution_count": 143,
   "metadata": {},
   "outputs": [],
   "source": [
    "nig94 = nig94xg13.mean()"
   ]
  },
  {
   "cell_type": "code",
   "execution_count": 144,
   "metadata": {},
   "outputs": [],
   "source": [
    "# nig94"
   ]
  },
  {
   "cell_type": "markdown",
   "metadata": {},
   "source": [
    "## 98"
   ]
  },
  {
   "cell_type": "code",
   "execution_count": 145,
   "metadata": {},
   "outputs": [],
   "source": [
    "nig98year = nig_year.loc[nig_year[\"season\"].isin(year1998)]"
   ]
  },
  {
   "cell_type": "code",
   "execution_count": 146,
   "metadata": {},
   "outputs": [],
   "source": [
    "nig98xg = nig98year.sort_values(by=[\"goals_z\"], ascending=False)"
   ]
  },
  {
   "cell_type": "code",
   "execution_count": 147,
   "metadata": {},
   "outputs": [],
   "source": [
    "nig98xg13 = nig98xg.head(13)"
   ]
  },
  {
   "cell_type": "code",
   "execution_count": 148,
   "metadata": {},
   "outputs": [],
   "source": [
    "nig98xg13 = nig98xg13.drop(columns=['season', 'team'])"
   ]
  },
  {
   "cell_type": "code",
   "execution_count": 149,
   "metadata": {},
   "outputs": [],
   "source": [
    "nig98 = nig98xg13.mean()"
   ]
  },
  {
   "cell_type": "code",
   "execution_count": 150,
   "metadata": {},
   "outputs": [],
   "source": [
    "# nig98"
   ]
  },
  {
   "cell_type": "markdown",
   "metadata": {},
   "source": [
    "## 02"
   ]
  },
  {
   "cell_type": "code",
   "execution_count": 151,
   "metadata": {},
   "outputs": [],
   "source": [
    "nig02year = nig_year.loc[nig_year[\"season\"].isin(year2002)]"
   ]
  },
  {
   "cell_type": "code",
   "execution_count": 152,
   "metadata": {},
   "outputs": [],
   "source": [
    "nig02xg = nig02year.sort_values(by=[\"goals_z\"], ascending=False)"
   ]
  },
  {
   "cell_type": "code",
   "execution_count": 153,
   "metadata": {},
   "outputs": [],
   "source": [
    "nig02xg13 = nig02xg.head(13)"
   ]
  },
  {
   "cell_type": "code",
   "execution_count": 154,
   "metadata": {},
   "outputs": [],
   "source": [
    "nig02xg13 = nig02xg13.drop(columns=['season', 'team'])"
   ]
  },
  {
   "cell_type": "code",
   "execution_count": 155,
   "metadata": {},
   "outputs": [],
   "source": [
    "nig02 = nig02xg13.mean()"
   ]
  },
  {
   "cell_type": "code",
   "execution_count": 156,
   "metadata": {},
   "outputs": [],
   "source": [
    "# nig02"
   ]
  },
  {
   "cell_type": "markdown",
   "metadata": {},
   "source": [
    "## 10"
   ]
  },
  {
   "cell_type": "code",
   "execution_count": 157,
   "metadata": {},
   "outputs": [],
   "source": [
    "nig10year = nig_year.loc[nig_year[\"season\"].isin(year2010)]"
   ]
  },
  {
   "cell_type": "code",
   "execution_count": 158,
   "metadata": {},
   "outputs": [],
   "source": [
    "nig10xg = nig10year.sort_values(by=[\"goals_z\"], ascending=False)"
   ]
  },
  {
   "cell_type": "code",
   "execution_count": 159,
   "metadata": {},
   "outputs": [],
   "source": [
    "nig10xg13 = nig10xg.head(13)"
   ]
  },
  {
   "cell_type": "code",
   "execution_count": 160,
   "metadata": {},
   "outputs": [],
   "source": [
    "nig10xg13 = nig10xg13.drop(columns=['season', 'team'])"
   ]
  },
  {
   "cell_type": "code",
   "execution_count": 161,
   "metadata": {},
   "outputs": [],
   "source": [
    "nig10 = nig10xg13.mean()"
   ]
  },
  {
   "cell_type": "code",
   "execution_count": 162,
   "metadata": {},
   "outputs": [],
   "source": [
    "# nig10"
   ]
  },
  {
   "cell_type": "markdown",
   "metadata": {},
   "source": [
    "## 14"
   ]
  },
  {
   "cell_type": "code",
   "execution_count": 163,
   "metadata": {},
   "outputs": [],
   "source": [
    "nig14year = nig_year.loc[nig_year[\"season\"].isin(year2014)]"
   ]
  },
  {
   "cell_type": "code",
   "execution_count": 164,
   "metadata": {},
   "outputs": [],
   "source": [
    "nig14xg = nig14year.sort_values(by=[\"goals_z\"], ascending=False)"
   ]
  },
  {
   "cell_type": "code",
   "execution_count": 165,
   "metadata": {},
   "outputs": [],
   "source": [
    "nig14xg13 = nig14xg.head(13)"
   ]
  },
  {
   "cell_type": "code",
   "execution_count": 166,
   "metadata": {},
   "outputs": [],
   "source": [
    "nig14xg13 = nig14xg13.drop(columns=['season', 'team'])"
   ]
  },
  {
   "cell_type": "code",
   "execution_count": 167,
   "metadata": {},
   "outputs": [],
   "source": [
    "nig14 = nig14xg13.mean()"
   ]
  },
  {
   "cell_type": "code",
   "execution_count": 168,
   "metadata": {},
   "outputs": [],
   "source": [
    "# nig14"
   ]
  },
  {
   "cell_type": "markdown",
   "metadata": {},
   "source": [
    "## 2018"
   ]
  },
  {
   "cell_type": "code",
   "execution_count": 169,
   "metadata": {},
   "outputs": [],
   "source": [
    "nig18year = nig_year.loc[nig_year[\"season\"].isin(year2018)]"
   ]
  },
  {
   "cell_type": "code",
   "execution_count": 170,
   "metadata": {},
   "outputs": [],
   "source": [
    "nig18xg = nig18year.sort_values(by=[\"goals_z\"], ascending=False)"
   ]
  },
  {
   "cell_type": "code",
   "execution_count": 171,
   "metadata": {},
   "outputs": [],
   "source": [
    "nig18xg13 = nig18xg.head(13)"
   ]
  },
  {
   "cell_type": "code",
   "execution_count": 172,
   "metadata": {},
   "outputs": [],
   "source": [
    "nig18xg13 = nig18xg13.drop(columns=['season', 'team'])"
   ]
  },
  {
   "cell_type": "code",
   "execution_count": 173,
   "metadata": {},
   "outputs": [],
   "source": [
    "nig18 = nig18xg13.mean()"
   ]
  },
  {
   "cell_type": "code",
   "execution_count": 174,
   "metadata": {},
   "outputs": [],
   "source": [
    "# nig18"
   ]
  },
  {
   "cell_type": "code",
   "execution_count": 599,
   "metadata": {},
   "outputs": [],
   "source": [
    "nig = pd.concat([nig94, nig98, nig02, nig10, nig14, nig18], axis=1).T\n"
   ]
  },
  {
   "cell_type": "code",
   "execution_count": 600,
   "metadata": {},
   "outputs": [],
   "source": [
    "nig.rename(index={0: 'Nigeria94', 1: 'Nigeria98', 2: 'Nigeria02', \n",
    "                  3: 'Nigeria10', 4: 'Nigeria14', 5: 'Nigeria18'}, inplace=True)\n"
   ]
  },
  {
   "cell_type": "code",
   "execution_count": 601,
   "metadata": {},
   "outputs": [],
   "source": [
    "df2 = nig.assign(results=[9, 12, 27, 27, 16, 21])\n"
   ]
  },
  {
   "cell_type": "code",
   "execution_count": 602,
   "metadata": {},
   "outputs": [
    {
     "data": {
      "text/html": [
       "<div>\n",
       "<style scoped>\n",
       "    .dataframe tbody tr th:only-of-type {\n",
       "        vertical-align: middle;\n",
       "    }\n",
       "\n",
       "    .dataframe tbody tr th {\n",
       "        vertical-align: top;\n",
       "    }\n",
       "\n",
       "    .dataframe thead th {\n",
       "        text-align: right;\n",
       "    }\n",
       "</style>\n",
       "<table border=\"1\" class=\"dataframe\">\n",
       "  <thead>\n",
       "    <tr style=\"text-align: right;\">\n",
       "      <th></th>\n",
       "      <th>goals_z</th>\n",
       "      <th>xg_z</th>\n",
       "      <th>crosses_z</th>\n",
       "      <th>boxtouches_z</th>\n",
       "      <th>passes_z</th>\n",
       "      <th>progpasses_z</th>\n",
       "      <th>takeons_z</th>\n",
       "      <th>progruns_z</th>\n",
       "      <th>tackles_z</th>\n",
       "      <th>interceptions_z</th>\n",
       "      <th>clearances_z</th>\n",
       "      <th>blocks_z</th>\n",
       "      <th>aerials_z</th>\n",
       "      <th>fouls_z</th>\n",
       "      <th>fouled_z</th>\n",
       "      <th>nsxg_z</th>\n",
       "      <th>results</th>\n",
       "    </tr>\n",
       "  </thead>\n",
       "  <tbody>\n",
       "    <tr>\n",
       "      <th>Nigeria94</th>\n",
       "      <td>0.263077</td>\n",
       "      <td>0.121538</td>\n",
       "      <td>0.236923</td>\n",
       "      <td>0.107692</td>\n",
       "      <td>-0.123077</td>\n",
       "      <td>-0.100000</td>\n",
       "      <td>0.672308</td>\n",
       "      <td>0.487692</td>\n",
       "      <td>-0.215385</td>\n",
       "      <td>-0.136154</td>\n",
       "      <td>0.004615</td>\n",
       "      <td>0.165385</td>\n",
       "      <td>-0.235385</td>\n",
       "      <td>0.583846</td>\n",
       "      <td>-0.280000</td>\n",
       "      <td>0.216154</td>\n",
       "      <td>9</td>\n",
       "    </tr>\n",
       "    <tr>\n",
       "      <th>Nigeria98</th>\n",
       "      <td>0.172308</td>\n",
       "      <td>0.074615</td>\n",
       "      <td>0.113846</td>\n",
       "      <td>0.106154</td>\n",
       "      <td>-0.288462</td>\n",
       "      <td>-0.288462</td>\n",
       "      <td>0.229231</td>\n",
       "      <td>0.199231</td>\n",
       "      <td>-0.517692</td>\n",
       "      <td>-0.470000</td>\n",
       "      <td>-0.401538</td>\n",
       "      <td>-0.266923</td>\n",
       "      <td>-0.225385</td>\n",
       "      <td>-0.511538</td>\n",
       "      <td>-0.307692</td>\n",
       "      <td>0.158462</td>\n",
       "      <td>12</td>\n",
       "    </tr>\n",
       "    <tr>\n",
       "      <th>Nigeria02</th>\n",
       "      <td>-0.247692</td>\n",
       "      <td>-0.058462</td>\n",
       "      <td>0.023077</td>\n",
       "      <td>-0.005385</td>\n",
       "      <td>-0.083077</td>\n",
       "      <td>-0.176154</td>\n",
       "      <td>0.573846</td>\n",
       "      <td>-0.158462</td>\n",
       "      <td>-0.038462</td>\n",
       "      <td>-0.166923</td>\n",
       "      <td>-0.096923</td>\n",
       "      <td>0.683077</td>\n",
       "      <td>-0.409231</td>\n",
       "      <td>-0.192308</td>\n",
       "      <td>-0.297692</td>\n",
       "      <td>0.074615</td>\n",
       "      <td>27</td>\n",
       "    </tr>\n",
       "    <tr>\n",
       "      <th>Nigeria10</th>\n",
       "      <td>0.132308</td>\n",
       "      <td>0.074615</td>\n",
       "      <td>-0.188462</td>\n",
       "      <td>-0.361538</td>\n",
       "      <td>-0.501538</td>\n",
       "      <td>-0.310000</td>\n",
       "      <td>-0.039231</td>\n",
       "      <td>-0.035385</td>\n",
       "      <td>-0.615385</td>\n",
       "      <td>-0.616154</td>\n",
       "      <td>-0.137692</td>\n",
       "      <td>-0.262308</td>\n",
       "      <td>0.105385</td>\n",
       "      <td>-0.408462</td>\n",
       "      <td>-0.306923</td>\n",
       "      <td>-0.370769</td>\n",
       "      <td>27</td>\n",
       "    </tr>\n",
       "    <tr>\n",
       "      <th>Nigeria14</th>\n",
       "      <td>-0.051538</td>\n",
       "      <td>-0.145385</td>\n",
       "      <td>0.025385</td>\n",
       "      <td>-0.077692</td>\n",
       "      <td>0.152308</td>\n",
       "      <td>-0.122308</td>\n",
       "      <td>0.416154</td>\n",
       "      <td>0.668462</td>\n",
       "      <td>0.161538</td>\n",
       "      <td>0.006154</td>\n",
       "      <td>0.262308</td>\n",
       "      <td>0.083846</td>\n",
       "      <td>0.110769</td>\n",
       "      <td>0.229231</td>\n",
       "      <td>-0.048462</td>\n",
       "      <td>0.018462</td>\n",
       "      <td>16</td>\n",
       "    </tr>\n",
       "    <tr>\n",
       "      <th>Nigeria18</th>\n",
       "      <td>0.110000</td>\n",
       "      <td>-0.004615</td>\n",
       "      <td>-0.030769</td>\n",
       "      <td>-0.038462</td>\n",
       "      <td>-0.182308</td>\n",
       "      <td>0.062308</td>\n",
       "      <td>0.568462</td>\n",
       "      <td>-0.147692</td>\n",
       "      <td>-0.150769</td>\n",
       "      <td>-0.020000</td>\n",
       "      <td>0.100000</td>\n",
       "      <td>-0.142308</td>\n",
       "      <td>-0.058462</td>\n",
       "      <td>0.201538</td>\n",
       "      <td>0.229231</td>\n",
       "      <td>-0.026923</td>\n",
       "      <td>21</td>\n",
       "    </tr>\n",
       "  </tbody>\n",
       "</table>\n",
       "</div>"
      ],
      "text/plain": [
       "            goals_z      xg_z  crosses_z  boxtouches_z  passes_z  \\\n",
       "Nigeria94  0.263077  0.121538   0.236923      0.107692 -0.123077   \n",
       "Nigeria98  0.172308  0.074615   0.113846      0.106154 -0.288462   \n",
       "Nigeria02 -0.247692 -0.058462   0.023077     -0.005385 -0.083077   \n",
       "Nigeria10  0.132308  0.074615  -0.188462     -0.361538 -0.501538   \n",
       "Nigeria14 -0.051538 -0.145385   0.025385     -0.077692  0.152308   \n",
       "Nigeria18  0.110000 -0.004615  -0.030769     -0.038462 -0.182308   \n",
       "\n",
       "           progpasses_z  takeons_z  progruns_z  tackles_z  interceptions_z  \\\n",
       "Nigeria94     -0.100000   0.672308    0.487692  -0.215385        -0.136154   \n",
       "Nigeria98     -0.288462   0.229231    0.199231  -0.517692        -0.470000   \n",
       "Nigeria02     -0.176154   0.573846   -0.158462  -0.038462        -0.166923   \n",
       "Nigeria10     -0.310000  -0.039231   -0.035385  -0.615385        -0.616154   \n",
       "Nigeria14     -0.122308   0.416154    0.668462   0.161538         0.006154   \n",
       "Nigeria18      0.062308   0.568462   -0.147692  -0.150769        -0.020000   \n",
       "\n",
       "           clearances_z  blocks_z  aerials_z   fouls_z  fouled_z    nsxg_z  \\\n",
       "Nigeria94      0.004615  0.165385  -0.235385  0.583846 -0.280000  0.216154   \n",
       "Nigeria98     -0.401538 -0.266923  -0.225385 -0.511538 -0.307692  0.158462   \n",
       "Nigeria02     -0.096923  0.683077  -0.409231 -0.192308 -0.297692  0.074615   \n",
       "Nigeria10     -0.137692 -0.262308   0.105385 -0.408462 -0.306923 -0.370769   \n",
       "Nigeria14      0.262308  0.083846   0.110769  0.229231 -0.048462  0.018462   \n",
       "Nigeria18      0.100000 -0.142308  -0.058462  0.201538  0.229231 -0.026923   \n",
       "\n",
       "           results  \n",
       "Nigeria94        9  \n",
       "Nigeria98       12  \n",
       "Nigeria02       27  \n",
       "Nigeria10       27  \n",
       "Nigeria14       16  \n",
       "Nigeria18       21  "
      ]
     },
     "execution_count": 602,
     "metadata": {},
     "output_type": "execute_result"
    }
   ],
   "source": [
    "df2"
   ]
  },
  {
   "cell_type": "code",
   "execution_count": 603,
   "metadata": {},
   "outputs": [],
   "source": [
    "# df2.to_csv('Nigeria.csv')\n"
   ]
  },
  {
   "cell_type": "code",
   "execution_count": 179,
   "metadata": {},
   "outputs": [],
   "source": [
    "# 94 - 9      Nigeria     D     4     2     0     2     7     4     +3     6\n",
    "# 98 - 12      Nigeria     D     4     2     0     2     6     9     −3     6\n",
    "# 02 - 27     F      Nigeria     3     0     1     2     1     3     −2     1\n",
    "# 10 - 27      Nigeria     B     3     0     1     2     3     5     −2     1\n",
    "# 14 - 16      Nigeria     F     4     1     1     2     4     3     5     −2\n",
    "# 18 - 21      Nigeria     D     3     1     0     2     3     3     4     −1\n"
   ]
  },
  {
   "cell_type": "markdown",
   "metadata": {},
   "source": [
    "# Colombia"
   ]
  },
  {
   "cell_type": "code",
   "execution_count": 180,
   "metadata": {},
   "outputs": [],
   "source": [
    "col = ['Colombia']"
   ]
  },
  {
   "cell_type": "code",
   "execution_count": 181,
   "metadata": {},
   "outputs": [],
   "source": [
    "col_year = df.loc[df[\"team\"].isin(col)]"
   ]
  },
  {
   "cell_type": "markdown",
   "metadata": {},
   "source": [
    "## 90"
   ]
  },
  {
   "cell_type": "code",
   "execution_count": 182,
   "metadata": {},
   "outputs": [],
   "source": [
    "col90year = col_year.loc[col_year[\"season\"].isin(year1990)]"
   ]
  },
  {
   "cell_type": "code",
   "execution_count": 183,
   "metadata": {},
   "outputs": [],
   "source": [
    "col90xg = col90year.sort_values(by=[\"goals_z\"], ascending=False)"
   ]
  },
  {
   "cell_type": "code",
   "execution_count": 184,
   "metadata": {},
   "outputs": [],
   "source": [
    "col90xg13 = col90xg.head(13)"
   ]
  },
  {
   "cell_type": "code",
   "execution_count": 185,
   "metadata": {},
   "outputs": [],
   "source": [
    "col90xg13 = col90xg13.drop(columns=['season', 'team'])"
   ]
  },
  {
   "cell_type": "code",
   "execution_count": 186,
   "metadata": {},
   "outputs": [],
   "source": [
    "col90 = col90xg13.mean()"
   ]
  },
  {
   "cell_type": "code",
   "execution_count": 187,
   "metadata": {},
   "outputs": [],
   "source": [
    "# col90"
   ]
  },
  {
   "cell_type": "markdown",
   "metadata": {},
   "source": [
    "## 94"
   ]
  },
  {
   "cell_type": "code",
   "execution_count": 188,
   "metadata": {},
   "outputs": [],
   "source": [
    "col94year = col_year.loc[col_year[\"season\"].isin(year1994)]"
   ]
  },
  {
   "cell_type": "code",
   "execution_count": 189,
   "metadata": {},
   "outputs": [],
   "source": [
    "col94xg = col94year.sort_values(by=[\"goals_z\"], ascending=False)"
   ]
  },
  {
   "cell_type": "code",
   "execution_count": 190,
   "metadata": {},
   "outputs": [],
   "source": [
    "col94xg13 = col94xg.head(13)"
   ]
  },
  {
   "cell_type": "code",
   "execution_count": 191,
   "metadata": {},
   "outputs": [],
   "source": [
    "col94xg13 = col94xg13.drop(columns=['season', 'team'])"
   ]
  },
  {
   "cell_type": "code",
   "execution_count": 192,
   "metadata": {},
   "outputs": [],
   "source": [
    "col94 = col94xg13.mean()"
   ]
  },
  {
   "cell_type": "code",
   "execution_count": 193,
   "metadata": {},
   "outputs": [],
   "source": [
    "# col94"
   ]
  },
  {
   "cell_type": "markdown",
   "metadata": {},
   "source": [
    "## 98"
   ]
  },
  {
   "cell_type": "code",
   "execution_count": 194,
   "metadata": {},
   "outputs": [],
   "source": [
    "col98year = col_year.loc[col_year[\"season\"].isin(year1998)]"
   ]
  },
  {
   "cell_type": "code",
   "execution_count": 195,
   "metadata": {},
   "outputs": [],
   "source": [
    "col98xg = col98year.sort_values(by=[\"goals_z\"], ascending=False)"
   ]
  },
  {
   "cell_type": "code",
   "execution_count": 196,
   "metadata": {},
   "outputs": [],
   "source": [
    "col98xg13 = col98xg.head(13)"
   ]
  },
  {
   "cell_type": "code",
   "execution_count": 197,
   "metadata": {},
   "outputs": [],
   "source": [
    "col98xg13 = col98xg13.drop(columns=['season', 'team'])"
   ]
  },
  {
   "cell_type": "code",
   "execution_count": 198,
   "metadata": {},
   "outputs": [],
   "source": [
    "col98 = col98xg13.mean()"
   ]
  },
  {
   "cell_type": "code",
   "execution_count": 199,
   "metadata": {},
   "outputs": [],
   "source": [
    "# col98"
   ]
  },
  {
   "cell_type": "markdown",
   "metadata": {},
   "source": [
    "## 14"
   ]
  },
  {
   "cell_type": "code",
   "execution_count": 200,
   "metadata": {},
   "outputs": [],
   "source": [
    "col14year = col_year.loc[col_year[\"season\"].isin(year2014)]"
   ]
  },
  {
   "cell_type": "code",
   "execution_count": 201,
   "metadata": {},
   "outputs": [],
   "source": [
    "col14xg = col14year.sort_values(by=[\"goals_z\"], ascending=False)"
   ]
  },
  {
   "cell_type": "code",
   "execution_count": 202,
   "metadata": {},
   "outputs": [],
   "source": [
    "col14xg13 = col14xg.head(13)"
   ]
  },
  {
   "cell_type": "code",
   "execution_count": 203,
   "metadata": {},
   "outputs": [],
   "source": [
    "col14xg13 = col14xg13.drop(columns=['season', 'team'])"
   ]
  },
  {
   "cell_type": "code",
   "execution_count": 204,
   "metadata": {},
   "outputs": [],
   "source": [
    "col14 = col14xg13.mean()"
   ]
  },
  {
   "cell_type": "code",
   "execution_count": 205,
   "metadata": {},
   "outputs": [],
   "source": [
    "# col14"
   ]
  },
  {
   "cell_type": "markdown",
   "metadata": {},
   "source": [
    "## 18"
   ]
  },
  {
   "cell_type": "code",
   "execution_count": 206,
   "metadata": {},
   "outputs": [],
   "source": [
    "col18year = col_year.loc[col_year[\"season\"].isin(year2018)]"
   ]
  },
  {
   "cell_type": "code",
   "execution_count": 207,
   "metadata": {},
   "outputs": [],
   "source": [
    "col18xg = col18year.sort_values(by=[\"goals_z\"], ascending=False)"
   ]
  },
  {
   "cell_type": "code",
   "execution_count": 208,
   "metadata": {},
   "outputs": [],
   "source": [
    "col18xg13 = col18xg.head(13)"
   ]
  },
  {
   "cell_type": "code",
   "execution_count": 209,
   "metadata": {},
   "outputs": [],
   "source": [
    "col18xg13 = col18xg13.drop(columns=['season', 'team'])"
   ]
  },
  {
   "cell_type": "code",
   "execution_count": 210,
   "metadata": {},
   "outputs": [],
   "source": [
    "col18 = col18xg13.mean()"
   ]
  },
  {
   "cell_type": "code",
   "execution_count": 211,
   "metadata": {},
   "outputs": [],
   "source": [
    "# col18"
   ]
  },
  {
   "cell_type": "code",
   "execution_count": 604,
   "metadata": {},
   "outputs": [],
   "source": [
    "col = pd.concat([col90, col94, col98, col14, col18], axis=1).T\n"
   ]
  },
  {
   "cell_type": "code",
   "execution_count": 605,
   "metadata": {},
   "outputs": [],
   "source": [
    "col.rename(index={0: 'Colombia90', 1: 'Colombia94', 2: 'Colombia98',\n",
    "                  3: 'Colombia14', 4: 'Colombia18'}, inplace=True)\n"
   ]
  },
  {
   "cell_type": "code",
   "execution_count": 606,
   "metadata": {},
   "outputs": [],
   "source": [
    "df2 = col.assign(results=[14, 19, 21, 5, 9])\n"
   ]
  },
  {
   "cell_type": "code",
   "execution_count": 607,
   "metadata": {},
   "outputs": [
    {
     "data": {
      "text/html": [
       "<div>\n",
       "<style scoped>\n",
       "    .dataframe tbody tr th:only-of-type {\n",
       "        vertical-align: middle;\n",
       "    }\n",
       "\n",
       "    .dataframe tbody tr th {\n",
       "        vertical-align: top;\n",
       "    }\n",
       "\n",
       "    .dataframe thead th {\n",
       "        text-align: right;\n",
       "    }\n",
       "</style>\n",
       "<table border=\"1\" class=\"dataframe\">\n",
       "  <thead>\n",
       "    <tr style=\"text-align: right;\">\n",
       "      <th></th>\n",
       "      <th>goals_z</th>\n",
       "      <th>xg_z</th>\n",
       "      <th>crosses_z</th>\n",
       "      <th>boxtouches_z</th>\n",
       "      <th>passes_z</th>\n",
       "      <th>progpasses_z</th>\n",
       "      <th>takeons_z</th>\n",
       "      <th>progruns_z</th>\n",
       "      <th>tackles_z</th>\n",
       "      <th>interceptions_z</th>\n",
       "      <th>clearances_z</th>\n",
       "      <th>blocks_z</th>\n",
       "      <th>aerials_z</th>\n",
       "      <th>fouls_z</th>\n",
       "      <th>fouled_z</th>\n",
       "      <th>nsxg_z</th>\n",
       "      <th>results</th>\n",
       "    </tr>\n",
       "  </thead>\n",
       "  <tbody>\n",
       "    <tr>\n",
       "      <th>Colombia90</th>\n",
       "      <td>0.073077</td>\n",
       "      <td>0.004615</td>\n",
       "      <td>-0.013077</td>\n",
       "      <td>0.047692</td>\n",
       "      <td>0.873846</td>\n",
       "      <td>0.790769</td>\n",
       "      <td>0.200769</td>\n",
       "      <td>-0.084615</td>\n",
       "      <td>0.260000</td>\n",
       "      <td>1.156923</td>\n",
       "      <td>-0.149231</td>\n",
       "      <td>0.108462</td>\n",
       "      <td>-0.160769</td>\n",
       "      <td>0.427692</td>\n",
       "      <td>0.540769</td>\n",
       "      <td>-0.071538</td>\n",
       "      <td>14</td>\n",
       "    </tr>\n",
       "    <tr>\n",
       "      <th>Colombia94</th>\n",
       "      <td>0.013846</td>\n",
       "      <td>0.266923</td>\n",
       "      <td>-0.103846</td>\n",
       "      <td>0.443077</td>\n",
       "      <td>1.092308</td>\n",
       "      <td>0.601538</td>\n",
       "      <td>0.500769</td>\n",
       "      <td>-0.234615</td>\n",
       "      <td>0.880000</td>\n",
       "      <td>1.216154</td>\n",
       "      <td>-0.359231</td>\n",
       "      <td>0.058462</td>\n",
       "      <td>-0.150000</td>\n",
       "      <td>0.290000</td>\n",
       "      <td>-0.176154</td>\n",
       "      <td>0.568462</td>\n",
       "      <td>19</td>\n",
       "    </tr>\n",
       "    <tr>\n",
       "      <th>Colombia98</th>\n",
       "      <td>-0.261538</td>\n",
       "      <td>-0.169231</td>\n",
       "      <td>-0.216923</td>\n",
       "      <td>-0.154615</td>\n",
       "      <td>0.068462</td>\n",
       "      <td>-0.088462</td>\n",
       "      <td>0.183077</td>\n",
       "      <td>0.316154</td>\n",
       "      <td>-0.177692</td>\n",
       "      <td>0.080769</td>\n",
       "      <td>-0.166154</td>\n",
       "      <td>-0.361538</td>\n",
       "      <td>-0.270000</td>\n",
       "      <td>0.290000</td>\n",
       "      <td>0.245385</td>\n",
       "      <td>-0.173077</td>\n",
       "      <td>21</td>\n",
       "    </tr>\n",
       "    <tr>\n",
       "      <th>Colombia14</th>\n",
       "      <td>0.781538</td>\n",
       "      <td>0.256154</td>\n",
       "      <td>0.016923</td>\n",
       "      <td>0.298462</td>\n",
       "      <td>-0.303077</td>\n",
       "      <td>-0.243846</td>\n",
       "      <td>0.117692</td>\n",
       "      <td>0.115385</td>\n",
       "      <td>-0.035385</td>\n",
       "      <td>-0.245385</td>\n",
       "      <td>-0.143077</td>\n",
       "      <td>-0.047692</td>\n",
       "      <td>-0.237692</td>\n",
       "      <td>0.343846</td>\n",
       "      <td>0.417692</td>\n",
       "      <td>0.353077</td>\n",
       "      <td>5</td>\n",
       "    </tr>\n",
       "    <tr>\n",
       "      <th>Colombia18</th>\n",
       "      <td>0.313077</td>\n",
       "      <td>-0.103077</td>\n",
       "      <td>0.029231</td>\n",
       "      <td>-0.319231</td>\n",
       "      <td>-0.093846</td>\n",
       "      <td>-0.152308</td>\n",
       "      <td>-0.142308</td>\n",
       "      <td>-0.181538</td>\n",
       "      <td>0.058462</td>\n",
       "      <td>-0.141538</td>\n",
       "      <td>0.016923</td>\n",
       "      <td>-0.018462</td>\n",
       "      <td>0.121538</td>\n",
       "      <td>0.212308</td>\n",
       "      <td>0.083077</td>\n",
       "      <td>-0.171538</td>\n",
       "      <td>9</td>\n",
       "    </tr>\n",
       "  </tbody>\n",
       "</table>\n",
       "</div>"
      ],
      "text/plain": [
       "             goals_z      xg_z  crosses_z  boxtouches_z  passes_z  \\\n",
       "Colombia90  0.073077  0.004615  -0.013077      0.047692  0.873846   \n",
       "Colombia94  0.013846  0.266923  -0.103846      0.443077  1.092308   \n",
       "Colombia98 -0.261538 -0.169231  -0.216923     -0.154615  0.068462   \n",
       "Colombia14  0.781538  0.256154   0.016923      0.298462 -0.303077   \n",
       "Colombia18  0.313077 -0.103077   0.029231     -0.319231 -0.093846   \n",
       "\n",
       "            progpasses_z  takeons_z  progruns_z  tackles_z  interceptions_z  \\\n",
       "Colombia90      0.790769   0.200769   -0.084615   0.260000         1.156923   \n",
       "Colombia94      0.601538   0.500769   -0.234615   0.880000         1.216154   \n",
       "Colombia98     -0.088462   0.183077    0.316154  -0.177692         0.080769   \n",
       "Colombia14     -0.243846   0.117692    0.115385  -0.035385        -0.245385   \n",
       "Colombia18     -0.152308  -0.142308   -0.181538   0.058462        -0.141538   \n",
       "\n",
       "            clearances_z  blocks_z  aerials_z   fouls_z  fouled_z    nsxg_z  \\\n",
       "Colombia90     -0.149231  0.108462  -0.160769  0.427692  0.540769 -0.071538   \n",
       "Colombia94     -0.359231  0.058462  -0.150000  0.290000 -0.176154  0.568462   \n",
       "Colombia98     -0.166154 -0.361538  -0.270000  0.290000  0.245385 -0.173077   \n",
       "Colombia14     -0.143077 -0.047692  -0.237692  0.343846  0.417692  0.353077   \n",
       "Colombia18      0.016923 -0.018462   0.121538  0.212308  0.083077 -0.171538   \n",
       "\n",
       "            results  \n",
       "Colombia90       14  \n",
       "Colombia94       19  \n",
       "Colombia98       21  \n",
       "Colombia14        5  \n",
       "Colombia18        9  "
      ]
     },
     "execution_count": 607,
     "metadata": {},
     "output_type": "execute_result"
    }
   ],
   "source": [
    "df2"
   ]
  },
  {
   "cell_type": "code",
   "execution_count": 608,
   "metadata": {},
   "outputs": [],
   "source": [
    "# df2.to_csv('Colombia.csv')\n"
   ]
  },
  {
   "cell_type": "code",
   "execution_count": 216,
   "metadata": {},
   "outputs": [],
   "source": [
    "# 90 - 14     D      Colombia     4     1     1     2     4     4     0     3\n",
    "# 94 - 19      Colombia     A     3     1     0     2     4     5     −1     3\n",
    "# 98 - 21      Colombia     G     3     1     0     2     1     3     −2     3\n",
    "# 14 - 5      Colombia     C     5     4     0     1     12     12     4     +8\n",
    "# 18 - 9      Colombia     H     4     2     1     1     7     6     3     +3\n"
   ]
  },
  {
   "cell_type": "markdown",
   "metadata": {},
   "source": [
    "# Paraguay"
   ]
  },
  {
   "cell_type": "markdown",
   "metadata": {},
   "source": [
    "## 86"
   ]
  },
  {
   "cell_type": "code",
   "execution_count": 217,
   "metadata": {},
   "outputs": [],
   "source": [
    "par = ['Paraguay']"
   ]
  },
  {
   "cell_type": "code",
   "execution_count": 218,
   "metadata": {},
   "outputs": [],
   "source": [
    "par_year = df.loc[df[\"team\"].isin(par)]"
   ]
  },
  {
   "cell_type": "code",
   "execution_count": 219,
   "metadata": {},
   "outputs": [],
   "source": [
    "par86year = par_year.loc[par_year[\"season\"].isin(year1986)]"
   ]
  },
  {
   "cell_type": "code",
   "execution_count": 220,
   "metadata": {},
   "outputs": [],
   "source": [
    "par86xg = par86year.sort_values(by=[\"goals_z\"], ascending=False)"
   ]
  },
  {
   "cell_type": "code",
   "execution_count": 221,
   "metadata": {},
   "outputs": [],
   "source": [
    "par86xg13 = par86xg.head(13)"
   ]
  },
  {
   "cell_type": "code",
   "execution_count": 222,
   "metadata": {},
   "outputs": [],
   "source": [
    "par86xg13 = par86xg13.drop(columns=['season', 'team'])"
   ]
  },
  {
   "cell_type": "code",
   "execution_count": 223,
   "metadata": {},
   "outputs": [],
   "source": [
    "par86 = par86xg13.mean()"
   ]
  },
  {
   "cell_type": "code",
   "execution_count": 224,
   "metadata": {},
   "outputs": [],
   "source": [
    "# par86"
   ]
  },
  {
   "cell_type": "markdown",
   "metadata": {},
   "source": [
    "## 98"
   ]
  },
  {
   "cell_type": "code",
   "execution_count": 225,
   "metadata": {},
   "outputs": [],
   "source": [
    "par98year = par_year.loc[par_year[\"season\"].isin(year1998)]"
   ]
  },
  {
   "cell_type": "code",
   "execution_count": 226,
   "metadata": {},
   "outputs": [],
   "source": [
    "par98xg = par98year.sort_values(by=[\"goals_z\"], ascending=False)"
   ]
  },
  {
   "cell_type": "code",
   "execution_count": 227,
   "metadata": {},
   "outputs": [],
   "source": [
    "par98xg13 = par98xg.head(13)"
   ]
  },
  {
   "cell_type": "code",
   "execution_count": 228,
   "metadata": {},
   "outputs": [],
   "source": [
    "par98xg13 = par98xg13.drop(columns=['season', 'team'])"
   ]
  },
  {
   "cell_type": "code",
   "execution_count": 229,
   "metadata": {},
   "outputs": [],
   "source": [
    "par98 = par98xg13.mean()"
   ]
  },
  {
   "cell_type": "code",
   "execution_count": 230,
   "metadata": {},
   "outputs": [],
   "source": [
    "# par98"
   ]
  },
  {
   "cell_type": "markdown",
   "metadata": {},
   "source": [
    "## 02"
   ]
  },
  {
   "cell_type": "code",
   "execution_count": 231,
   "metadata": {},
   "outputs": [],
   "source": [
    "par02year = par_year.loc[par_year[\"season\"].isin(year2002)]"
   ]
  },
  {
   "cell_type": "code",
   "execution_count": 232,
   "metadata": {},
   "outputs": [],
   "source": [
    "par02xg = par02year.sort_values(by=[\"goals_z\"], ascending=False)"
   ]
  },
  {
   "cell_type": "code",
   "execution_count": 233,
   "metadata": {},
   "outputs": [],
   "source": [
    "par02xg13 = par02xg.head(13)"
   ]
  },
  {
   "cell_type": "code",
   "execution_count": 234,
   "metadata": {},
   "outputs": [],
   "source": [
    "par02xg13 = par02xg13.drop(columns=['season', 'team'])"
   ]
  },
  {
   "cell_type": "code",
   "execution_count": 235,
   "metadata": {},
   "outputs": [],
   "source": [
    "par02 = par02xg13.mean()"
   ]
  },
  {
   "cell_type": "code",
   "execution_count": 236,
   "metadata": {},
   "outputs": [],
   "source": [
    "# par02"
   ]
  },
  {
   "cell_type": "markdown",
   "metadata": {},
   "source": [
    "## 06"
   ]
  },
  {
   "cell_type": "code",
   "execution_count": 237,
   "metadata": {},
   "outputs": [],
   "source": [
    "par06year = par_year.loc[par_year[\"season\"].isin(year2006)]"
   ]
  },
  {
   "cell_type": "code",
   "execution_count": 238,
   "metadata": {},
   "outputs": [],
   "source": [
    "par06xg = par06year.sort_values(by=[\"goals_z\"], ascending=False)"
   ]
  },
  {
   "cell_type": "code",
   "execution_count": 239,
   "metadata": {},
   "outputs": [],
   "source": [
    "par06xg13 = par06xg.head(13)"
   ]
  },
  {
   "cell_type": "code",
   "execution_count": 240,
   "metadata": {},
   "outputs": [],
   "source": [
    "par06xg13 = par06xg13.drop(columns=['season', 'team'])"
   ]
  },
  {
   "cell_type": "code",
   "execution_count": 241,
   "metadata": {},
   "outputs": [],
   "source": [
    "par06 = par06xg13.mean()"
   ]
  },
  {
   "cell_type": "code",
   "execution_count": 242,
   "metadata": {},
   "outputs": [],
   "source": [
    "# par06"
   ]
  },
  {
   "cell_type": "markdown",
   "metadata": {},
   "source": [
    "## 10"
   ]
  },
  {
   "cell_type": "code",
   "execution_count": 243,
   "metadata": {},
   "outputs": [],
   "source": [
    "par10year = par_year.loc[par_year[\"season\"].isin(year2010)]"
   ]
  },
  {
   "cell_type": "code",
   "execution_count": 244,
   "metadata": {},
   "outputs": [],
   "source": [
    "par10xg = par10year.sort_values(by=[\"goals_z\"], ascending=False)"
   ]
  },
  {
   "cell_type": "code",
   "execution_count": 245,
   "metadata": {},
   "outputs": [],
   "source": [
    "par10xg13 = par10xg.head(13)"
   ]
  },
  {
   "cell_type": "code",
   "execution_count": 246,
   "metadata": {},
   "outputs": [],
   "source": [
    "par10xg13 = par10xg13.drop(columns=['season', 'team'])"
   ]
  },
  {
   "cell_type": "code",
   "execution_count": 247,
   "metadata": {},
   "outputs": [],
   "source": [
    "par10 = par10xg13.mean()"
   ]
  },
  {
   "cell_type": "code",
   "execution_count": 248,
   "metadata": {},
   "outputs": [],
   "source": [
    "# par10"
   ]
  },
  {
   "cell_type": "code",
   "execution_count": 609,
   "metadata": {},
   "outputs": [],
   "source": [
    "par = pd.concat([par86, par98, par02, par06, par10], axis=1).T\n"
   ]
  },
  {
   "cell_type": "code",
   "execution_count": 610,
   "metadata": {},
   "outputs": [],
   "source": [
    "par.rename(index={0: 'Paraguay86', 1: 'Paraguay98', 2: 'Paraguay02',\n",
    "                  3: 'Paraguay06', 4: 'Paraguay10'}, inplace=True)\n"
   ]
  },
  {
   "cell_type": "code",
   "execution_count": 611,
   "metadata": {},
   "outputs": [],
   "source": [
    "df2 = par.assign(results=[13, 14, 16, 18, 8])\n"
   ]
  },
  {
   "cell_type": "code",
   "execution_count": 612,
   "metadata": {},
   "outputs": [
    {
     "data": {
      "text/html": [
       "<div>\n",
       "<style scoped>\n",
       "    .dataframe tbody tr th:only-of-type {\n",
       "        vertical-align: middle;\n",
       "    }\n",
       "\n",
       "    .dataframe tbody tr th {\n",
       "        vertical-align: top;\n",
       "    }\n",
       "\n",
       "    .dataframe thead th {\n",
       "        text-align: right;\n",
       "    }\n",
       "</style>\n",
       "<table border=\"1\" class=\"dataframe\">\n",
       "  <thead>\n",
       "    <tr style=\"text-align: right;\">\n",
       "      <th></th>\n",
       "      <th>goals_z</th>\n",
       "      <th>xg_z</th>\n",
       "      <th>crosses_z</th>\n",
       "      <th>boxtouches_z</th>\n",
       "      <th>passes_z</th>\n",
       "      <th>progpasses_z</th>\n",
       "      <th>takeons_z</th>\n",
       "      <th>progruns_z</th>\n",
       "      <th>tackles_z</th>\n",
       "      <th>interceptions_z</th>\n",
       "      <th>clearances_z</th>\n",
       "      <th>blocks_z</th>\n",
       "      <th>aerials_z</th>\n",
       "      <th>fouls_z</th>\n",
       "      <th>fouled_z</th>\n",
       "      <th>nsxg_z</th>\n",
       "      <th>results</th>\n",
       "    </tr>\n",
       "  </thead>\n",
       "  <tbody>\n",
       "    <tr>\n",
       "      <th>Paraguay86</th>\n",
       "      <td>0.073077</td>\n",
       "      <td>0.086154</td>\n",
       "      <td>-0.002308</td>\n",
       "      <td>0.140000</td>\n",
       "      <td>0.296154</td>\n",
       "      <td>0.398462</td>\n",
       "      <td>0.116923</td>\n",
       "      <td>-0.369231</td>\n",
       "      <td>0.240000</td>\n",
       "      <td>0.080769</td>\n",
       "      <td>0.193846</td>\n",
       "      <td>0.253846</td>\n",
       "      <td>0.647692</td>\n",
       "      <td>0.300000</td>\n",
       "      <td>0.760769</td>\n",
       "      <td>0.400000</td>\n",
       "      <td>13</td>\n",
       "    </tr>\n",
       "    <tr>\n",
       "      <th>Paraguay98</th>\n",
       "      <td>-0.092308</td>\n",
       "      <td>-0.187692</td>\n",
       "      <td>-0.320769</td>\n",
       "      <td>-0.275385</td>\n",
       "      <td>-0.358462</td>\n",
       "      <td>-0.192308</td>\n",
       "      <td>-0.071538</td>\n",
       "      <td>-0.317692</td>\n",
       "      <td>-0.052308</td>\n",
       "      <td>-0.133846</td>\n",
       "      <td>0.615385</td>\n",
       "      <td>0.671538</td>\n",
       "      <td>0.086923</td>\n",
       "      <td>-0.112308</td>\n",
       "      <td>-0.058462</td>\n",
       "      <td>-0.312308</td>\n",
       "      <td>14</td>\n",
       "    </tr>\n",
       "    <tr>\n",
       "      <th>Paraguay02</th>\n",
       "      <td>0.198462</td>\n",
       "      <td>0.063077</td>\n",
       "      <td>0.147692</td>\n",
       "      <td>0.048462</td>\n",
       "      <td>-0.176923</td>\n",
       "      <td>-0.118462</td>\n",
       "      <td>-0.151538</td>\n",
       "      <td>-0.066923</td>\n",
       "      <td>-0.210000</td>\n",
       "      <td>-0.300769</td>\n",
       "      <td>0.046154</td>\n",
       "      <td>0.004615</td>\n",
       "      <td>0.423077</td>\n",
       "      <td>0.016923</td>\n",
       "      <td>-0.056154</td>\n",
       "      <td>0.130000</td>\n",
       "      <td>16</td>\n",
       "    </tr>\n",
       "    <tr>\n",
       "      <th>Paraguay06</th>\n",
       "      <td>-0.227692</td>\n",
       "      <td>-0.030769</td>\n",
       "      <td>-0.032308</td>\n",
       "      <td>-0.026923</td>\n",
       "      <td>-0.128462</td>\n",
       "      <td>0.136154</td>\n",
       "      <td>-0.155385</td>\n",
       "      <td>-0.102308</td>\n",
       "      <td>0.161538</td>\n",
       "      <td>-0.042308</td>\n",
       "      <td>0.357692</td>\n",
       "      <td>-0.010769</td>\n",
       "      <td>0.359231</td>\n",
       "      <td>-0.126923</td>\n",
       "      <td>0.010000</td>\n",
       "      <td>-0.161538</td>\n",
       "      <td>18</td>\n",
       "    </tr>\n",
       "    <tr>\n",
       "      <th>Paraguay10</th>\n",
       "      <td>-0.100000</td>\n",
       "      <td>-0.140000</td>\n",
       "      <td>-0.302308</td>\n",
       "      <td>0.293846</td>\n",
       "      <td>-0.183077</td>\n",
       "      <td>-0.088462</td>\n",
       "      <td>-0.232308</td>\n",
       "      <td>-0.308462</td>\n",
       "      <td>0.126154</td>\n",
       "      <td>-0.263846</td>\n",
       "      <td>0.009231</td>\n",
       "      <td>-0.150000</td>\n",
       "      <td>0.190000</td>\n",
       "      <td>0.130769</td>\n",
       "      <td>0.158462</td>\n",
       "      <td>-0.186154</td>\n",
       "      <td>8</td>\n",
       "    </tr>\n",
       "  </tbody>\n",
       "</table>\n",
       "</div>"
      ],
      "text/plain": [
       "             goals_z      xg_z  crosses_z  boxtouches_z  passes_z  \\\n",
       "Paraguay86  0.073077  0.086154  -0.002308      0.140000  0.296154   \n",
       "Paraguay98 -0.092308 -0.187692  -0.320769     -0.275385 -0.358462   \n",
       "Paraguay02  0.198462  0.063077   0.147692      0.048462 -0.176923   \n",
       "Paraguay06 -0.227692 -0.030769  -0.032308     -0.026923 -0.128462   \n",
       "Paraguay10 -0.100000 -0.140000  -0.302308      0.293846 -0.183077   \n",
       "\n",
       "            progpasses_z  takeons_z  progruns_z  tackles_z  interceptions_z  \\\n",
       "Paraguay86      0.398462   0.116923   -0.369231   0.240000         0.080769   \n",
       "Paraguay98     -0.192308  -0.071538   -0.317692  -0.052308        -0.133846   \n",
       "Paraguay02     -0.118462  -0.151538   -0.066923  -0.210000        -0.300769   \n",
       "Paraguay06      0.136154  -0.155385   -0.102308   0.161538        -0.042308   \n",
       "Paraguay10     -0.088462  -0.232308   -0.308462   0.126154        -0.263846   \n",
       "\n",
       "            clearances_z  blocks_z  aerials_z   fouls_z  fouled_z    nsxg_z  \\\n",
       "Paraguay86      0.193846  0.253846   0.647692  0.300000  0.760769  0.400000   \n",
       "Paraguay98      0.615385  0.671538   0.086923 -0.112308 -0.058462 -0.312308   \n",
       "Paraguay02      0.046154  0.004615   0.423077  0.016923 -0.056154  0.130000   \n",
       "Paraguay06      0.357692 -0.010769   0.359231 -0.126923  0.010000 -0.161538   \n",
       "Paraguay10      0.009231 -0.150000   0.190000  0.130769  0.158462 -0.186154   \n",
       "\n",
       "            results  \n",
       "Paraguay86       13  \n",
       "Paraguay98       14  \n",
       "Paraguay02       16  \n",
       "Paraguay06       18  \n",
       "Paraguay10        8  "
      ]
     },
     "execution_count": 612,
     "metadata": {},
     "output_type": "execute_result"
    }
   ],
   "source": [
    "df2"
   ]
  },
  {
   "cell_type": "code",
   "execution_count": 613,
   "metadata": {},
   "outputs": [],
   "source": [
    "# df2.to_csv('Paraguay.csv')\n"
   ]
  },
  {
   "cell_type": "code",
   "execution_count": 253,
   "metadata": {},
   "outputs": [],
   "source": [
    "# 86 - 13      Paraguay     B     4     1     2     1     4     6     −2     4\n",
    "# 98 - 14      Paraguay     D     4     1     2     1     3     2     +1     5\n",
    "# 02 - 16     B      Paraguay     4     1     1     2     6     7     −1     4\n",
    "# 06 - 18      Paraguay     B     3     1     0     2     2     2     0     3\n",
    "# 10 - 8      Paraguay     F     5     1     3     1     3     2     +1     6\n"
   ]
  },
  {
   "cell_type": "markdown",
   "metadata": {},
   "source": [
    "# Sweden"
   ]
  },
  {
   "cell_type": "markdown",
   "metadata": {},
   "source": [
    "## 90"
   ]
  },
  {
   "cell_type": "code",
   "execution_count": 254,
   "metadata": {},
   "outputs": [],
   "source": [
    "swe = ['Sweden']"
   ]
  },
  {
   "cell_type": "code",
   "execution_count": 255,
   "metadata": {},
   "outputs": [],
   "source": [
    "swe_year = df.loc[df[\"team\"].isin(swe)]"
   ]
  },
  {
   "cell_type": "code",
   "execution_count": 256,
   "metadata": {},
   "outputs": [],
   "source": [
    "swe90year = swe_year.loc[swe_year[\"season\"].isin(year1990)]"
   ]
  },
  {
   "cell_type": "code",
   "execution_count": 257,
   "metadata": {},
   "outputs": [],
   "source": [
    "swe90xg = swe90year.sort_values(by=[\"goals_z\"], ascending=False)"
   ]
  },
  {
   "cell_type": "code",
   "execution_count": 258,
   "metadata": {},
   "outputs": [],
   "source": [
    "swe90xg13 = swe90xg.head(13)"
   ]
  },
  {
   "cell_type": "code",
   "execution_count": 259,
   "metadata": {},
   "outputs": [],
   "source": [
    "swe90xg13 = swe90xg13.drop(columns=['season', 'team'])"
   ]
  },
  {
   "cell_type": "code",
   "execution_count": 260,
   "metadata": {},
   "outputs": [],
   "source": [
    "swe90 = swe90xg13.mean()"
   ]
  },
  {
   "cell_type": "code",
   "execution_count": 261,
   "metadata": {},
   "outputs": [],
   "source": [
    "# swe90"
   ]
  },
  {
   "cell_type": "markdown",
   "metadata": {},
   "source": [
    "## 94"
   ]
  },
  {
   "cell_type": "code",
   "execution_count": 262,
   "metadata": {},
   "outputs": [],
   "source": [
    "swe94year = swe_year.loc[swe_year[\"season\"].isin(year1994)]"
   ]
  },
  {
   "cell_type": "code",
   "execution_count": 263,
   "metadata": {},
   "outputs": [],
   "source": [
    "swe94xg = swe94year.sort_values(by=[\"goals_z\"], ascending=False)"
   ]
  },
  {
   "cell_type": "code",
   "execution_count": 264,
   "metadata": {},
   "outputs": [],
   "source": [
    "swe94xg13 = swe94xg.head(13)"
   ]
  },
  {
   "cell_type": "code",
   "execution_count": 265,
   "metadata": {},
   "outputs": [],
   "source": [
    "swe94xg13 = swe94xg13.drop(columns=['season', 'team'])"
   ]
  },
  {
   "cell_type": "code",
   "execution_count": 266,
   "metadata": {},
   "outputs": [],
   "source": [
    "swe94 = swe94xg13.mean()"
   ]
  },
  {
   "cell_type": "code",
   "execution_count": 267,
   "metadata": {},
   "outputs": [],
   "source": [
    "# swe94"
   ]
  },
  {
   "cell_type": "markdown",
   "metadata": {},
   "source": [
    "## 02"
   ]
  },
  {
   "cell_type": "code",
   "execution_count": 268,
   "metadata": {},
   "outputs": [],
   "source": [
    "swe02year = swe_year.loc[swe_year[\"season\"].isin(year2002)]"
   ]
  },
  {
   "cell_type": "code",
   "execution_count": 269,
   "metadata": {},
   "outputs": [],
   "source": [
    "swe02xg = swe02year.sort_values(by=[\"goals_z\"], ascending=False)"
   ]
  },
  {
   "cell_type": "code",
   "execution_count": 270,
   "metadata": {},
   "outputs": [],
   "source": [
    "swe02xg13 = swe02xg.head(13)"
   ]
  },
  {
   "cell_type": "code",
   "execution_count": 271,
   "metadata": {},
   "outputs": [],
   "source": [
    "swe02xg13 = swe02xg13.drop(columns=['season', 'team'])"
   ]
  },
  {
   "cell_type": "code",
   "execution_count": 272,
   "metadata": {},
   "outputs": [],
   "source": [
    "swe02 = swe02xg13.mean()"
   ]
  },
  {
   "cell_type": "code",
   "execution_count": 273,
   "metadata": {},
   "outputs": [],
   "source": [
    "# swe02"
   ]
  },
  {
   "cell_type": "markdown",
   "metadata": {},
   "source": [
    "## 06"
   ]
  },
  {
   "cell_type": "code",
   "execution_count": 274,
   "metadata": {},
   "outputs": [],
   "source": [
    "swe06year = swe_year.loc[swe_year[\"season\"].isin(year2006)]"
   ]
  },
  {
   "cell_type": "code",
   "execution_count": 275,
   "metadata": {},
   "outputs": [],
   "source": [
    "swe06xg = swe06year.sort_values(by=[\"goals_z\"], ascending=False)"
   ]
  },
  {
   "cell_type": "code",
   "execution_count": 276,
   "metadata": {},
   "outputs": [],
   "source": [
    "swe06xg13 = swe06xg.head(13)"
   ]
  },
  {
   "cell_type": "code",
   "execution_count": 277,
   "metadata": {},
   "outputs": [],
   "source": [
    "swe06xg13 = swe06xg13.drop(columns=['season', 'team'])"
   ]
  },
  {
   "cell_type": "code",
   "execution_count": 278,
   "metadata": {},
   "outputs": [],
   "source": [
    "swe06 = swe06xg13.mean()"
   ]
  },
  {
   "cell_type": "code",
   "execution_count": 279,
   "metadata": {},
   "outputs": [],
   "source": [
    "# swe06"
   ]
  },
  {
   "cell_type": "markdown",
   "metadata": {},
   "source": [
    "## 18"
   ]
  },
  {
   "cell_type": "code",
   "execution_count": 280,
   "metadata": {},
   "outputs": [],
   "source": [
    "swe18year = swe_year.loc[swe_year[\"season\"].isin(year2018)]"
   ]
  },
  {
   "cell_type": "code",
   "execution_count": 281,
   "metadata": {},
   "outputs": [],
   "source": [
    "swe18xg = swe18year.sort_values(by=[\"goals_z\"], ascending=False)"
   ]
  },
  {
   "cell_type": "code",
   "execution_count": 282,
   "metadata": {},
   "outputs": [],
   "source": [
    "swe18xg13 = swe18xg.head(13)"
   ]
  },
  {
   "cell_type": "code",
   "execution_count": 283,
   "metadata": {},
   "outputs": [],
   "source": [
    "swe18xg13 = swe18xg13.drop(columns=['season', 'team'])"
   ]
  },
  {
   "cell_type": "code",
   "execution_count": 284,
   "metadata": {},
   "outputs": [],
   "source": [
    "swe18 = swe18xg13.mean()"
   ]
  },
  {
   "cell_type": "code",
   "execution_count": 285,
   "metadata": {},
   "outputs": [],
   "source": [
    "# swe18"
   ]
  },
  {
   "cell_type": "code",
   "execution_count": 614,
   "metadata": {},
   "outputs": [],
   "source": [
    "swe = pd.concat([swe90, swe94, swe02, swe06, swe18], axis=1).T\n",
    "\n"
   ]
  },
  {
   "cell_type": "code",
   "execution_count": 615,
   "metadata": {},
   "outputs": [],
   "source": [
    "swe.rename(index={0: 'Sweden90', 1: 'Sweden94', 2: 'Sweden02', \n",
    "                  3: 'Sweden06', 4: 'Sweden18'}, inplace=True)\n"
   ]
  },
  {
   "cell_type": "code",
   "execution_count": 616,
   "metadata": {},
   "outputs": [],
   "source": [
    "df2 = swe.assign(results=[21, 3, 13, 14, 7])\n"
   ]
  },
  {
   "cell_type": "code",
   "execution_count": 617,
   "metadata": {},
   "outputs": [
    {
     "data": {
      "text/html": [
       "<div>\n",
       "<style scoped>\n",
       "    .dataframe tbody tr th:only-of-type {\n",
       "        vertical-align: middle;\n",
       "    }\n",
       "\n",
       "    .dataframe tbody tr th {\n",
       "        vertical-align: top;\n",
       "    }\n",
       "\n",
       "    .dataframe thead th {\n",
       "        text-align: right;\n",
       "    }\n",
       "</style>\n",
       "<table border=\"1\" class=\"dataframe\">\n",
       "  <thead>\n",
       "    <tr style=\"text-align: right;\">\n",
       "      <th></th>\n",
       "      <th>goals_z</th>\n",
       "      <th>xg_z</th>\n",
       "      <th>crosses_z</th>\n",
       "      <th>boxtouches_z</th>\n",
       "      <th>passes_z</th>\n",
       "      <th>progpasses_z</th>\n",
       "      <th>takeons_z</th>\n",
       "      <th>progruns_z</th>\n",
       "      <th>tackles_z</th>\n",
       "      <th>interceptions_z</th>\n",
       "      <th>clearances_z</th>\n",
       "      <th>blocks_z</th>\n",
       "      <th>aerials_z</th>\n",
       "      <th>fouls_z</th>\n",
       "      <th>fouled_z</th>\n",
       "      <th>nsxg_z</th>\n",
       "      <th>results</th>\n",
       "    </tr>\n",
       "  </thead>\n",
       "  <tbody>\n",
       "    <tr>\n",
       "      <th>Sweden90</th>\n",
       "      <td>0.115385</td>\n",
       "      <td>-0.049231</td>\n",
       "      <td>0.040000</td>\n",
       "      <td>0.268462</td>\n",
       "      <td>0.065385</td>\n",
       "      <td>0.035385</td>\n",
       "      <td>-0.134615</td>\n",
       "      <td>-0.349231</td>\n",
       "      <td>-0.089231</td>\n",
       "      <td>0.016923</td>\n",
       "      <td>-0.153077</td>\n",
       "      <td>-0.200769</td>\n",
       "      <td>0.652308</td>\n",
       "      <td>-0.073846</td>\n",
       "      <td>0.069231</td>\n",
       "      <td>0.133846</td>\n",
       "      <td>21</td>\n",
       "    </tr>\n",
       "    <tr>\n",
       "      <th>Sweden94</th>\n",
       "      <td>0.437692</td>\n",
       "      <td>0.183077</td>\n",
       "      <td>0.188462</td>\n",
       "      <td>0.307692</td>\n",
       "      <td>-0.013846</td>\n",
       "      <td>0.101538</td>\n",
       "      <td>-0.116154</td>\n",
       "      <td>0.056154</td>\n",
       "      <td>-0.348462</td>\n",
       "      <td>-0.208462</td>\n",
       "      <td>0.123077</td>\n",
       "      <td>0.126923</td>\n",
       "      <td>0.848462</td>\n",
       "      <td>-0.230000</td>\n",
       "      <td>0.046923</td>\n",
       "      <td>0.230769</td>\n",
       "      <td>3</td>\n",
       "    </tr>\n",
       "    <tr>\n",
       "      <th>Sweden02</th>\n",
       "      <td>0.152308</td>\n",
       "      <td>0.160769</td>\n",
       "      <td>0.123077</td>\n",
       "      <td>0.047692</td>\n",
       "      <td>-0.213846</td>\n",
       "      <td>-0.001538</td>\n",
       "      <td>-0.110000</td>\n",
       "      <td>-0.378462</td>\n",
       "      <td>-0.200000</td>\n",
       "      <td>-0.078462</td>\n",
       "      <td>0.894615</td>\n",
       "      <td>-0.050769</td>\n",
       "      <td>0.336923</td>\n",
       "      <td>0.004615</td>\n",
       "      <td>0.038462</td>\n",
       "      <td>-0.066154</td>\n",
       "      <td>13</td>\n",
       "    </tr>\n",
       "    <tr>\n",
       "      <th>Sweden06</th>\n",
       "      <td>0.013846</td>\n",
       "      <td>0.336923</td>\n",
       "      <td>0.486154</td>\n",
       "      <td>0.567692</td>\n",
       "      <td>0.013077</td>\n",
       "      <td>0.272308</td>\n",
       "      <td>0.076923</td>\n",
       "      <td>0.202308</td>\n",
       "      <td>0.139231</td>\n",
       "      <td>-0.020000</td>\n",
       "      <td>-0.065385</td>\n",
       "      <td>-0.088462</td>\n",
       "      <td>0.296154</td>\n",
       "      <td>-0.152308</td>\n",
       "      <td>-0.132308</td>\n",
       "      <td>0.631538</td>\n",
       "      <td>14</td>\n",
       "    </tr>\n",
       "    <tr>\n",
       "      <th>Sweden18</th>\n",
       "      <td>0.110000</td>\n",
       "      <td>0.338462</td>\n",
       "      <td>-0.006923</td>\n",
       "      <td>0.064615</td>\n",
       "      <td>-0.353077</td>\n",
       "      <td>-0.141538</td>\n",
       "      <td>-0.211538</td>\n",
       "      <td>-0.300769</td>\n",
       "      <td>-0.573846</td>\n",
       "      <td>-0.342308</td>\n",
       "      <td>0.558462</td>\n",
       "      <td>0.088462</td>\n",
       "      <td>0.298462</td>\n",
       "      <td>0.081538</td>\n",
       "      <td>0.203846</td>\n",
       "      <td>0.050769</td>\n",
       "      <td>7</td>\n",
       "    </tr>\n",
       "  </tbody>\n",
       "</table>\n",
       "</div>"
      ],
      "text/plain": [
       "           goals_z      xg_z  crosses_z  boxtouches_z  passes_z  progpasses_z  \\\n",
       "Sweden90  0.115385 -0.049231   0.040000      0.268462  0.065385      0.035385   \n",
       "Sweden94  0.437692  0.183077   0.188462      0.307692 -0.013846      0.101538   \n",
       "Sweden02  0.152308  0.160769   0.123077      0.047692 -0.213846     -0.001538   \n",
       "Sweden06  0.013846  0.336923   0.486154      0.567692  0.013077      0.272308   \n",
       "Sweden18  0.110000  0.338462  -0.006923      0.064615 -0.353077     -0.141538   \n",
       "\n",
       "          takeons_z  progruns_z  tackles_z  interceptions_z  clearances_z  \\\n",
       "Sweden90  -0.134615   -0.349231  -0.089231         0.016923     -0.153077   \n",
       "Sweden94  -0.116154    0.056154  -0.348462        -0.208462      0.123077   \n",
       "Sweden02  -0.110000   -0.378462  -0.200000        -0.078462      0.894615   \n",
       "Sweden06   0.076923    0.202308   0.139231        -0.020000     -0.065385   \n",
       "Sweden18  -0.211538   -0.300769  -0.573846        -0.342308      0.558462   \n",
       "\n",
       "          blocks_z  aerials_z   fouls_z  fouled_z    nsxg_z  results  \n",
       "Sweden90 -0.200769   0.652308 -0.073846  0.069231  0.133846       21  \n",
       "Sweden94  0.126923   0.848462 -0.230000  0.046923  0.230769        3  \n",
       "Sweden02 -0.050769   0.336923  0.004615  0.038462 -0.066154       13  \n",
       "Sweden06 -0.088462   0.296154 -0.152308 -0.132308  0.631538       14  \n",
       "Sweden18  0.088462   0.298462  0.081538  0.203846  0.050769        7  "
      ]
     },
     "execution_count": 617,
     "metadata": {},
     "output_type": "execute_result"
    }
   ],
   "source": [
    "df2"
   ]
  },
  {
   "cell_type": "code",
   "execution_count": 618,
   "metadata": {},
   "outputs": [],
   "source": [
    "# df2.to_csv('Sweden.csv')"
   ]
  },
  {
   "cell_type": "code",
   "execution_count": 290,
   "metadata": {},
   "outputs": [],
   "source": [
    "# 90 - 21     C      Sweden     3     0     0     3     3     6     −3     0\n",
    "# 94 - 3      Sweden     B     7     3     3     1     15     8     +7     12\n",
    "# 02 - 13     F      Sweden     4     1     2     1     5     5     0     5\n",
    "# 06 - 14      Sweden     B     4     1     2     1     3     4     −1     5\n",
    "# 18 - 7      Sweden     F     5     3     0     2     9     6     4     +2\n"
   ]
  },
  {
   "cell_type": "markdown",
   "metadata": {},
   "source": [
    "# Russia / USSR"
   ]
  },
  {
   "cell_type": "code",
   "execution_count": 291,
   "metadata": {},
   "outputs": [],
   "source": [
    "rus = ['Russia']\n",
    "## 90 and earlier\n",
    "usr = ['USSR']"
   ]
  },
  {
   "cell_type": "code",
   "execution_count": 292,
   "metadata": {},
   "outputs": [],
   "source": [
    "rus_year = df.loc[df[\"team\"].isin(usr)]"
   ]
  },
  {
   "cell_type": "code",
   "execution_count": 293,
   "metadata": {},
   "outputs": [],
   "source": [
    "rus82year = rus_year.loc[rus_year[\"season\"].isin(year1982)]"
   ]
  },
  {
   "cell_type": "code",
   "execution_count": null,
   "metadata": {},
   "outputs": [],
   "source": []
  },
  {
   "cell_type": "code",
   "execution_count": 294,
   "metadata": {},
   "outputs": [],
   "source": [
    "rus82xg = rus82year.sort_values(by=[\"goals_z\"], ascending=False)"
   ]
  },
  {
   "cell_type": "code",
   "execution_count": 295,
   "metadata": {},
   "outputs": [],
   "source": [
    "rus82xg13 = rus82xg.head(13)"
   ]
  },
  {
   "cell_type": "code",
   "execution_count": 296,
   "metadata": {},
   "outputs": [],
   "source": [
    "rus82xg13 = rus82xg13.drop(columns=['season', 'team'])\n"
   ]
  },
  {
   "cell_type": "code",
   "execution_count": 297,
   "metadata": {},
   "outputs": [],
   "source": [
    "rus82 = rus82xg13.mean()"
   ]
  },
  {
   "cell_type": "code",
   "execution_count": 298,
   "metadata": {},
   "outputs": [],
   "source": [
    "# rus82"
   ]
  },
  {
   "cell_type": "markdown",
   "metadata": {},
   "source": [
    "## 86"
   ]
  },
  {
   "cell_type": "code",
   "execution_count": 299,
   "metadata": {},
   "outputs": [],
   "source": [
    "rus86year = rus_year.loc[rus_year[\"season\"].isin(year1986)]"
   ]
  },
  {
   "cell_type": "code",
   "execution_count": 300,
   "metadata": {},
   "outputs": [],
   "source": [
    "rus86xg = rus86year.sort_values(by=[\"goals_z\"], ascending=False)"
   ]
  },
  {
   "cell_type": "code",
   "execution_count": 301,
   "metadata": {},
   "outputs": [],
   "source": [
    "rus86xg13 = rus86xg.head(13)"
   ]
  },
  {
   "cell_type": "code",
   "execution_count": 302,
   "metadata": {},
   "outputs": [],
   "source": [
    "rus86xg13 = rus86xg13.drop(columns=['season', 'team'])\n"
   ]
  },
  {
   "cell_type": "code",
   "execution_count": 303,
   "metadata": {},
   "outputs": [],
   "source": [
    "rus86 = rus86xg13.mean()"
   ]
  },
  {
   "cell_type": "code",
   "execution_count": 304,
   "metadata": {},
   "outputs": [],
   "source": [
    "# rus86"
   ]
  },
  {
   "cell_type": "markdown",
   "metadata": {},
   "source": [
    "## 90"
   ]
  },
  {
   "cell_type": "code",
   "execution_count": 305,
   "metadata": {},
   "outputs": [],
   "source": [
    "rus90year = rus_year.loc[rus_year[\"season\"].isin(year1990)]"
   ]
  },
  {
   "cell_type": "code",
   "execution_count": 306,
   "metadata": {},
   "outputs": [],
   "source": [
    "rus90xg = rus90year.sort_values(by=[\"goals_z\"], ascending=False)"
   ]
  },
  {
   "cell_type": "code",
   "execution_count": 307,
   "metadata": {},
   "outputs": [],
   "source": [
    "rus90xg13 = rus90xg.head(13)"
   ]
  },
  {
   "cell_type": "code",
   "execution_count": 308,
   "metadata": {},
   "outputs": [],
   "source": [
    "rus90xg13 = rus90xg13.drop(columns=['season', 'team'])\n"
   ]
  },
  {
   "cell_type": "code",
   "execution_count": 309,
   "metadata": {},
   "outputs": [],
   "source": [
    "rus90 = rus90xg13.mean()"
   ]
  },
  {
   "cell_type": "code",
   "execution_count": 310,
   "metadata": {},
   "outputs": [],
   "source": [
    "# rus90"
   ]
  },
  {
   "cell_type": "markdown",
   "metadata": {},
   "source": [
    "## 94"
   ]
  },
  {
   "cell_type": "code",
   "execution_count": 311,
   "metadata": {},
   "outputs": [],
   "source": [
    "rus_year = df.loc[df[\"team\"].isin(rus)]"
   ]
  },
  {
   "cell_type": "code",
   "execution_count": 312,
   "metadata": {},
   "outputs": [],
   "source": [
    "rus94year = rus_year.loc[rus_year[\"season\"].isin(year1994)]"
   ]
  },
  {
   "cell_type": "code",
   "execution_count": 313,
   "metadata": {},
   "outputs": [],
   "source": [
    "rus94xg = rus94year.sort_values(by=[\"goals_z\"], ascending=False)"
   ]
  },
  {
   "cell_type": "code",
   "execution_count": 314,
   "metadata": {},
   "outputs": [],
   "source": [
    "rus94xg13 = rus94xg.head(13)"
   ]
  },
  {
   "cell_type": "code",
   "execution_count": 315,
   "metadata": {},
   "outputs": [],
   "source": [
    "rus94xg13 = rus94xg13.drop(columns=['season', 'team'])\n"
   ]
  },
  {
   "cell_type": "code",
   "execution_count": 316,
   "metadata": {},
   "outputs": [],
   "source": [
    "rus94 = rus94xg13.mean()"
   ]
  },
  {
   "cell_type": "code",
   "execution_count": 317,
   "metadata": {},
   "outputs": [],
   "source": [
    "# rus94"
   ]
  },
  {
   "cell_type": "markdown",
   "metadata": {},
   "source": [
    "## 02"
   ]
  },
  {
   "cell_type": "code",
   "execution_count": 318,
   "metadata": {},
   "outputs": [],
   "source": [
    "rus02year = rus_year.loc[rus_year[\"season\"].isin(year2002)]"
   ]
  },
  {
   "cell_type": "code",
   "execution_count": 319,
   "metadata": {},
   "outputs": [],
   "source": [
    "rus02xg = rus02year.sort_values(by=[\"goals_z\"], ascending=False)"
   ]
  },
  {
   "cell_type": "code",
   "execution_count": 320,
   "metadata": {},
   "outputs": [],
   "source": [
    "rus02xg13 = rus02xg.head(13)"
   ]
  },
  {
   "cell_type": "code",
   "execution_count": 321,
   "metadata": {},
   "outputs": [],
   "source": [
    "rus02xg13 = rus02xg13.drop(columns=['season', 'team'])\n"
   ]
  },
  {
   "cell_type": "code",
   "execution_count": 322,
   "metadata": {},
   "outputs": [],
   "source": [
    "rus02 = rus02xg13.mean()"
   ]
  },
  {
   "cell_type": "code",
   "execution_count": 323,
   "metadata": {},
   "outputs": [],
   "source": [
    "# rus02"
   ]
  },
  {
   "cell_type": "markdown",
   "metadata": {},
   "source": [
    "## 14"
   ]
  },
  {
   "cell_type": "code",
   "execution_count": 324,
   "metadata": {},
   "outputs": [],
   "source": [
    "rus14year = rus_year.loc[rus_year[\"season\"].isin(year2014)]"
   ]
  },
  {
   "cell_type": "code",
   "execution_count": 325,
   "metadata": {},
   "outputs": [],
   "source": [
    "rus14xg = rus14year.sort_values(by=[\"goals_z\"], ascending=False)"
   ]
  },
  {
   "cell_type": "code",
   "execution_count": 326,
   "metadata": {},
   "outputs": [],
   "source": [
    "rus14xg13 = rus14xg.head(13)"
   ]
  },
  {
   "cell_type": "code",
   "execution_count": 327,
   "metadata": {},
   "outputs": [],
   "source": [
    "rus14xg13 = rus14xg13.drop(columns=['season', 'team'])\n"
   ]
  },
  {
   "cell_type": "code",
   "execution_count": 328,
   "metadata": {},
   "outputs": [],
   "source": [
    "rus14 = rus14xg13.mean()"
   ]
  },
  {
   "cell_type": "code",
   "execution_count": 329,
   "metadata": {},
   "outputs": [],
   "source": [
    "# rus14"
   ]
  },
  {
   "cell_type": "markdown",
   "metadata": {},
   "source": [
    "## 18"
   ]
  },
  {
   "cell_type": "code",
   "execution_count": 330,
   "metadata": {},
   "outputs": [],
   "source": [
    "rus18year = rus_year.loc[rus_year[\"season\"].isin(year2018)]"
   ]
  },
  {
   "cell_type": "code",
   "execution_count": 331,
   "metadata": {},
   "outputs": [],
   "source": [
    "rus18xg = rus18year.sort_values(by=[\"goals_z\"], ascending=False)"
   ]
  },
  {
   "cell_type": "code",
   "execution_count": 332,
   "metadata": {},
   "outputs": [],
   "source": [
    "rus18xg13 = rus18xg.head(13)"
   ]
  },
  {
   "cell_type": "code",
   "execution_count": 333,
   "metadata": {},
   "outputs": [],
   "source": [
    "rus18xg13 = rus18xg13.drop(columns=['season', 'team'])\n"
   ]
  },
  {
   "cell_type": "code",
   "execution_count": 334,
   "metadata": {},
   "outputs": [],
   "source": [
    "rus18 = rus18xg13.mean()"
   ]
  },
  {
   "cell_type": "code",
   "execution_count": 335,
   "metadata": {},
   "outputs": [],
   "source": [
    "# rus18"
   ]
  },
  {
   "cell_type": "code",
   "execution_count": 619,
   "metadata": {},
   "outputs": [],
   "source": [
    "rus = pd.concat([rus82, rus86, rus90, rus94, rus02, rus14, rus18], axis=1).T\n"
   ]
  },
  {
   "cell_type": "code",
   "execution_count": 620,
   "metadata": {},
   "outputs": [],
   "source": [
    "rus.rename(index={0: 'Russia82', 1: 'Russia86', 2: 'Russia90',\n",
    "                  3: 'Russia94', 4: 'Russia02', 5: 'Russia14',\n",
    "                 6: 'Russia18'}, inplace=True)\n"
   ]
  },
  {
   "cell_type": "code",
   "execution_count": 621,
   "metadata": {},
   "outputs": [],
   "source": [
    "df2 = rus.assign(results=[7, 10, 17, 18, 22, 24, 8])\n"
   ]
  },
  {
   "cell_type": "code",
   "execution_count": 622,
   "metadata": {},
   "outputs": [
    {
     "data": {
      "text/html": [
       "<div>\n",
       "<style scoped>\n",
       "    .dataframe tbody tr th:only-of-type {\n",
       "        vertical-align: middle;\n",
       "    }\n",
       "\n",
       "    .dataframe tbody tr th {\n",
       "        vertical-align: top;\n",
       "    }\n",
       "\n",
       "    .dataframe thead th {\n",
       "        text-align: right;\n",
       "    }\n",
       "</style>\n",
       "<table border=\"1\" class=\"dataframe\">\n",
       "  <thead>\n",
       "    <tr style=\"text-align: right;\">\n",
       "      <th></th>\n",
       "      <th>goals_z</th>\n",
       "      <th>xg_z</th>\n",
       "      <th>crosses_z</th>\n",
       "      <th>boxtouches_z</th>\n",
       "      <th>passes_z</th>\n",
       "      <th>progpasses_z</th>\n",
       "      <th>takeons_z</th>\n",
       "      <th>progruns_z</th>\n",
       "      <th>tackles_z</th>\n",
       "      <th>interceptions_z</th>\n",
       "      <th>clearances_z</th>\n",
       "      <th>blocks_z</th>\n",
       "      <th>aerials_z</th>\n",
       "      <th>fouls_z</th>\n",
       "      <th>fouled_z</th>\n",
       "      <th>nsxg_z</th>\n",
       "      <th>results</th>\n",
       "    </tr>\n",
       "  </thead>\n",
       "  <tbody>\n",
       "    <tr>\n",
       "      <th>Russia82</th>\n",
       "      <td>0.140769</td>\n",
       "      <td>-0.060769</td>\n",
       "      <td>0.028462</td>\n",
       "      <td>0.078462</td>\n",
       "      <td>0.086923</td>\n",
       "      <td>0.244615</td>\n",
       "      <td>-0.148462</td>\n",
       "      <td>0.131538</td>\n",
       "      <td>0.150000</td>\n",
       "      <td>-0.145385</td>\n",
       "      <td>0.119231</td>\n",
       "      <td>0.227692</td>\n",
       "      <td>0.143846</td>\n",
       "      <td>-0.360000</td>\n",
       "      <td>-0.008462</td>\n",
       "      <td>0.143846</td>\n",
       "      <td>7</td>\n",
       "    </tr>\n",
       "    <tr>\n",
       "      <th>Russia86</th>\n",
       "      <td>0.786154</td>\n",
       "      <td>0.946923</td>\n",
       "      <td>0.149231</td>\n",
       "      <td>0.242308</td>\n",
       "      <td>-0.258462</td>\n",
       "      <td>-0.413077</td>\n",
       "      <td>0.680769</td>\n",
       "      <td>-0.091538</td>\n",
       "      <td>0.090000</td>\n",
       "      <td>0.136923</td>\n",
       "      <td>-0.546923</td>\n",
       "      <td>-0.329231</td>\n",
       "      <td>-0.127692</td>\n",
       "      <td>-0.190769</td>\n",
       "      <td>-0.055385</td>\n",
       "      <td>0.313077</td>\n",
       "      <td>10</td>\n",
       "    </tr>\n",
       "    <tr>\n",
       "      <th>Russia90</th>\n",
       "      <td>0.293846</td>\n",
       "      <td>0.280000</td>\n",
       "      <td>0.040769</td>\n",
       "      <td>0.140769</td>\n",
       "      <td>0.298462</td>\n",
       "      <td>0.099231</td>\n",
       "      <td>0.011538</td>\n",
       "      <td>0.217692</td>\n",
       "      <td>0.535385</td>\n",
       "      <td>0.263846</td>\n",
       "      <td>-0.331538</td>\n",
       "      <td>-0.016154</td>\n",
       "      <td>-0.445385</td>\n",
       "      <td>0.037692</td>\n",
       "      <td>0.296923</td>\n",
       "      <td>0.340769</td>\n",
       "      <td>17</td>\n",
       "    </tr>\n",
       "    <tr>\n",
       "      <th>Russia94</th>\n",
       "      <td>0.553077</td>\n",
       "      <td>0.411538</td>\n",
       "      <td>-0.104615</td>\n",
       "      <td>0.026923</td>\n",
       "      <td>-0.352308</td>\n",
       "      <td>-0.238462</td>\n",
       "      <td>-0.254615</td>\n",
       "      <td>-0.268462</td>\n",
       "      <td>-0.125385</td>\n",
       "      <td>0.029231</td>\n",
       "      <td>-0.119231</td>\n",
       "      <td>-0.279231</td>\n",
       "      <td>-0.150769</td>\n",
       "      <td>-0.266154</td>\n",
       "      <td>-0.406154</td>\n",
       "      <td>-0.210000</td>\n",
       "      <td>18</td>\n",
       "    </tr>\n",
       "    <tr>\n",
       "      <th>Russia02</th>\n",
       "      <td>0.239231</td>\n",
       "      <td>0.424615</td>\n",
       "      <td>0.068462</td>\n",
       "      <td>0.406923</td>\n",
       "      <td>0.001538</td>\n",
       "      <td>0.000769</td>\n",
       "      <td>-0.250769</td>\n",
       "      <td>-0.051538</td>\n",
       "      <td>0.008462</td>\n",
       "      <td>0.157692</td>\n",
       "      <td>-0.395385</td>\n",
       "      <td>-0.520000</td>\n",
       "      <td>0.040769</td>\n",
       "      <td>0.096154</td>\n",
       "      <td>0.170769</td>\n",
       "      <td>0.409231</td>\n",
       "      <td>22</td>\n",
       "    </tr>\n",
       "    <tr>\n",
       "      <th>Russia14</th>\n",
       "      <td>-0.093077</td>\n",
       "      <td>-0.067692</td>\n",
       "      <td>0.272308</td>\n",
       "      <td>0.108462</td>\n",
       "      <td>0.023077</td>\n",
       "      <td>0.133846</td>\n",
       "      <td>-0.214615</td>\n",
       "      <td>0.561538</td>\n",
       "      <td>0.419231</td>\n",
       "      <td>0.098462</td>\n",
       "      <td>0.150000</td>\n",
       "      <td>-0.136923</td>\n",
       "      <td>-0.103846</td>\n",
       "      <td>0.186154</td>\n",
       "      <td>-0.163077</td>\n",
       "      <td>-0.001538</td>\n",
       "      <td>24</td>\n",
       "    </tr>\n",
       "    <tr>\n",
       "      <th>Russia18</th>\n",
       "      <td>0.572308</td>\n",
       "      <td>0.006154</td>\n",
       "      <td>-0.037692</td>\n",
       "      <td>0.076154</td>\n",
       "      <td>-0.416923</td>\n",
       "      <td>-0.153846</td>\n",
       "      <td>-0.170769</td>\n",
       "      <td>-0.191538</td>\n",
       "      <td>-0.466154</td>\n",
       "      <td>-0.107692</td>\n",
       "      <td>0.344615</td>\n",
       "      <td>-0.072308</td>\n",
       "      <td>0.683077</td>\n",
       "      <td>0.365385</td>\n",
       "      <td>-0.138462</td>\n",
       "      <td>-0.017692</td>\n",
       "      <td>8</td>\n",
       "    </tr>\n",
       "  </tbody>\n",
       "</table>\n",
       "</div>"
      ],
      "text/plain": [
       "           goals_z      xg_z  crosses_z  boxtouches_z  passes_z  progpasses_z  \\\n",
       "Russia82  0.140769 -0.060769   0.028462      0.078462  0.086923      0.244615   \n",
       "Russia86  0.786154  0.946923   0.149231      0.242308 -0.258462     -0.413077   \n",
       "Russia90  0.293846  0.280000   0.040769      0.140769  0.298462      0.099231   \n",
       "Russia94  0.553077  0.411538  -0.104615      0.026923 -0.352308     -0.238462   \n",
       "Russia02  0.239231  0.424615   0.068462      0.406923  0.001538      0.000769   \n",
       "Russia14 -0.093077 -0.067692   0.272308      0.108462  0.023077      0.133846   \n",
       "Russia18  0.572308  0.006154  -0.037692      0.076154 -0.416923     -0.153846   \n",
       "\n",
       "          takeons_z  progruns_z  tackles_z  interceptions_z  clearances_z  \\\n",
       "Russia82  -0.148462    0.131538   0.150000        -0.145385      0.119231   \n",
       "Russia86   0.680769   -0.091538   0.090000         0.136923     -0.546923   \n",
       "Russia90   0.011538    0.217692   0.535385         0.263846     -0.331538   \n",
       "Russia94  -0.254615   -0.268462  -0.125385         0.029231     -0.119231   \n",
       "Russia02  -0.250769   -0.051538   0.008462         0.157692     -0.395385   \n",
       "Russia14  -0.214615    0.561538   0.419231         0.098462      0.150000   \n",
       "Russia18  -0.170769   -0.191538  -0.466154        -0.107692      0.344615   \n",
       "\n",
       "          blocks_z  aerials_z   fouls_z  fouled_z    nsxg_z  results  \n",
       "Russia82  0.227692   0.143846 -0.360000 -0.008462  0.143846        7  \n",
       "Russia86 -0.329231  -0.127692 -0.190769 -0.055385  0.313077       10  \n",
       "Russia90 -0.016154  -0.445385  0.037692  0.296923  0.340769       17  \n",
       "Russia94 -0.279231  -0.150769 -0.266154 -0.406154 -0.210000       18  \n",
       "Russia02 -0.520000   0.040769  0.096154  0.170769  0.409231       22  \n",
       "Russia14 -0.136923  -0.103846  0.186154 -0.163077 -0.001538       24  \n",
       "Russia18 -0.072308   0.683077  0.365385 -0.138462 -0.017692        8  "
      ]
     },
     "execution_count": 622,
     "metadata": {},
     "output_type": "execute_result"
    }
   ],
   "source": [
    "df2"
   ]
  },
  {
   "cell_type": "code",
   "execution_count": 623,
   "metadata": {},
   "outputs": [],
   "source": [
    "# df2.to_csv('Russia.csv')\n"
   ]
  },
  {
   "cell_type": "code",
   "execution_count": 340,
   "metadata": {},
   "outputs": [],
   "source": [
    "# 82 - 7      Soviet Union     6/A     5     2     2     1     7     4     +3     6\n",
    "# 86 - 10      Soviet Union     C     4     2     1     1     12     5     +7     5\n",
    "# 90 - 17     B      Soviet Union     3     1     0     2     4     4     0     2 \n",
    "# 94 - 18      Russia     B     3     1     0     2     7     6     +1     3\n",
    "# 02 - 22     H      Russia     3     1     0     2     4     4     0     3\n",
    "# 14 - 24      Russia     H     3     0     2     1     2     2     3     −1\n",
    "# 18 - 8      Russia     A     5     2     2     1     8     11     7     +4\n"
   ]
  },
  {
   "cell_type": "markdown",
   "metadata": {},
   "source": [
    "# Algeria"
   ]
  },
  {
   "cell_type": "markdown",
   "metadata": {},
   "source": [
    "## 82"
   ]
  },
  {
   "cell_type": "code",
   "execution_count": 341,
   "metadata": {},
   "outputs": [],
   "source": [
    "alg = ['Algeria']"
   ]
  },
  {
   "cell_type": "code",
   "execution_count": 342,
   "metadata": {},
   "outputs": [],
   "source": [
    "alg_year = df.loc[df[\"team\"].isin(alg)]"
   ]
  },
  {
   "cell_type": "code",
   "execution_count": 343,
   "metadata": {},
   "outputs": [],
   "source": [
    "alg82year = alg_year.loc[alg_year[\"season\"].isin(year1982)]"
   ]
  },
  {
   "cell_type": "code",
   "execution_count": 344,
   "metadata": {},
   "outputs": [],
   "source": [
    "alg82xg = alg82year.sort_values(by=[\"goals_z\"], ascending=False)\n"
   ]
  },
  {
   "cell_type": "code",
   "execution_count": 345,
   "metadata": {},
   "outputs": [],
   "source": [
    "alg82xg13 = alg82xg.head(13)\n"
   ]
  },
  {
   "cell_type": "code",
   "execution_count": 346,
   "metadata": {},
   "outputs": [],
   "source": [
    "alg82xg13 = alg82xg13.drop(columns=['season', 'team'])\n"
   ]
  },
  {
   "cell_type": "code",
   "execution_count": 347,
   "metadata": {},
   "outputs": [],
   "source": [
    "alg82 = alg82xg13.mean()"
   ]
  },
  {
   "cell_type": "code",
   "execution_count": 348,
   "metadata": {},
   "outputs": [],
   "source": [
    "# alg82"
   ]
  },
  {
   "cell_type": "markdown",
   "metadata": {},
   "source": [
    "## 86"
   ]
  },
  {
   "cell_type": "code",
   "execution_count": 349,
   "metadata": {},
   "outputs": [],
   "source": [
    "alg86year = alg_year.loc[alg_year[\"season\"].isin(year1986)]"
   ]
  },
  {
   "cell_type": "code",
   "execution_count": 350,
   "metadata": {},
   "outputs": [],
   "source": [
    "alg86xg = alg86year.sort_values(by=[\"goals_z\"], ascending=False)\n"
   ]
  },
  {
   "cell_type": "code",
   "execution_count": 351,
   "metadata": {},
   "outputs": [],
   "source": [
    "alg86xg13 = alg86xg.head(13)\n"
   ]
  },
  {
   "cell_type": "code",
   "execution_count": 352,
   "metadata": {},
   "outputs": [],
   "source": [
    "alg86xg13 = alg86xg13.drop(columns=['season', 'team'])\n"
   ]
  },
  {
   "cell_type": "code",
   "execution_count": 353,
   "metadata": {},
   "outputs": [],
   "source": [
    "alg86 = alg86xg13.mean()"
   ]
  },
  {
   "cell_type": "code",
   "execution_count": 354,
   "metadata": {},
   "outputs": [],
   "source": [
    "# alg86"
   ]
  },
  {
   "cell_type": "markdown",
   "metadata": {},
   "source": [
    "## 10"
   ]
  },
  {
   "cell_type": "code",
   "execution_count": 355,
   "metadata": {},
   "outputs": [],
   "source": [
    "alg10year = alg_year.loc[alg_year[\"season\"].isin(year2010)]"
   ]
  },
  {
   "cell_type": "code",
   "execution_count": 356,
   "metadata": {},
   "outputs": [],
   "source": [
    "alg10xg = alg10year.sort_values(by=[\"goals_z\"], ascending=False)\n"
   ]
  },
  {
   "cell_type": "code",
   "execution_count": 357,
   "metadata": {},
   "outputs": [],
   "source": [
    "alg10xg13 = alg10xg.head(13)\n"
   ]
  },
  {
   "cell_type": "code",
   "execution_count": 358,
   "metadata": {},
   "outputs": [],
   "source": [
    "alg10xg13 = alg10xg13.drop(columns=['season', 'team'])\n"
   ]
  },
  {
   "cell_type": "code",
   "execution_count": 359,
   "metadata": {},
   "outputs": [],
   "source": [
    "alg10 = alg10xg13.mean()"
   ]
  },
  {
   "cell_type": "code",
   "execution_count": 360,
   "metadata": {},
   "outputs": [],
   "source": [
    "# alg10"
   ]
  },
  {
   "cell_type": "markdown",
   "metadata": {},
   "source": [
    "## 2014"
   ]
  },
  {
   "cell_type": "code",
   "execution_count": 361,
   "metadata": {},
   "outputs": [],
   "source": [
    "alg14year = alg_year.loc[alg_year[\"season\"].isin(year2014)]"
   ]
  },
  {
   "cell_type": "code",
   "execution_count": 362,
   "metadata": {},
   "outputs": [],
   "source": [
    "alg14xg = alg14year.sort_values(by=[\"goals_z\"], ascending=False)\n"
   ]
  },
  {
   "cell_type": "code",
   "execution_count": 363,
   "metadata": {},
   "outputs": [],
   "source": [
    "alg14xg13 = alg14xg.head(13)\n"
   ]
  },
  {
   "cell_type": "code",
   "execution_count": 364,
   "metadata": {},
   "outputs": [],
   "source": [
    "alg14xg13 = alg14xg13.drop(columns=['season', 'team'])\n"
   ]
  },
  {
   "cell_type": "code",
   "execution_count": 365,
   "metadata": {},
   "outputs": [],
   "source": [
    "alg14 = alg14xg13.mean()"
   ]
  },
  {
   "cell_type": "code",
   "execution_count": 366,
   "metadata": {},
   "outputs": [],
   "source": [
    "# alg14"
   ]
  },
  {
   "cell_type": "code",
   "execution_count": 624,
   "metadata": {},
   "outputs": [],
   "source": [
    "alg = pd.concat([alg82, alg86, alg10, alg14], axis=1).T\n"
   ]
  },
  {
   "cell_type": "code",
   "execution_count": 625,
   "metadata": {},
   "outputs": [],
   "source": [
    "alg.rename(index={0: 'Algeria82', 1: 'Algeria86', 2: 'Algeria10',\n",
    "                  3: 'Algeria14'}, inplace=True)\n"
   ]
  },
  {
   "cell_type": "code",
   "execution_count": 626,
   "metadata": {},
   "outputs": [],
   "source": [
    "df2 = alg.assign(results=[13, 22, 28, 14])\n"
   ]
  },
  {
   "cell_type": "code",
   "execution_count": 627,
   "metadata": {},
   "outputs": [
    {
     "data": {
      "text/html": [
       "<div>\n",
       "<style scoped>\n",
       "    .dataframe tbody tr th:only-of-type {\n",
       "        vertical-align: middle;\n",
       "    }\n",
       "\n",
       "    .dataframe tbody tr th {\n",
       "        vertical-align: top;\n",
       "    }\n",
       "\n",
       "    .dataframe thead th {\n",
       "        text-align: right;\n",
       "    }\n",
       "</style>\n",
       "<table border=\"1\" class=\"dataframe\">\n",
       "  <thead>\n",
       "    <tr style=\"text-align: right;\">\n",
       "      <th></th>\n",
       "      <th>goals_z</th>\n",
       "      <th>xg_z</th>\n",
       "      <th>crosses_z</th>\n",
       "      <th>boxtouches_z</th>\n",
       "      <th>passes_z</th>\n",
       "      <th>progpasses_z</th>\n",
       "      <th>takeons_z</th>\n",
       "      <th>progruns_z</th>\n",
       "      <th>tackles_z</th>\n",
       "      <th>interceptions_z</th>\n",
       "      <th>clearances_z</th>\n",
       "      <th>blocks_z</th>\n",
       "      <th>aerials_z</th>\n",
       "      <th>fouls_z</th>\n",
       "      <th>fouled_z</th>\n",
       "      <th>nsxg_z</th>\n",
       "      <th>results</th>\n",
       "    </tr>\n",
       "  </thead>\n",
       "  <tbody>\n",
       "    <tr>\n",
       "      <th>Algeria82</th>\n",
       "      <td>0.265385</td>\n",
       "      <td>0.248462</td>\n",
       "      <td>-0.075385</td>\n",
       "      <td>0.036923</td>\n",
       "      <td>-0.109231</td>\n",
       "      <td>-0.206923</td>\n",
       "      <td>-0.024615</td>\n",
       "      <td>0.399231</td>\n",
       "      <td>-0.355385</td>\n",
       "      <td>-0.213846</td>\n",
       "      <td>0.343846</td>\n",
       "      <td>0.160000</td>\n",
       "      <td>0.063077</td>\n",
       "      <td>-0.046923</td>\n",
       "      <td>0.063077</td>\n",
       "      <td>-0.084615</td>\n",
       "      <td>13</td>\n",
       "    </tr>\n",
       "    <tr>\n",
       "      <th>Algeria86</th>\n",
       "      <td>-0.235385</td>\n",
       "      <td>-0.301538</td>\n",
       "      <td>-0.367692</td>\n",
       "      <td>-0.423077</td>\n",
       "      <td>0.413846</td>\n",
       "      <td>-0.074615</td>\n",
       "      <td>-0.167692</td>\n",
       "      <td>0.370000</td>\n",
       "      <td>0.199231</td>\n",
       "      <td>0.016154</td>\n",
       "      <td>0.440000</td>\n",
       "      <td>0.511538</td>\n",
       "      <td>0.130769</td>\n",
       "      <td>-0.262308</td>\n",
       "      <td>-0.359231</td>\n",
       "      <td>-0.376923</td>\n",
       "      <td>22</td>\n",
       "    </tr>\n",
       "    <tr>\n",
       "      <th>Algeria10</th>\n",
       "      <td>-0.400000</td>\n",
       "      <td>-0.104615</td>\n",
       "      <td>0.471538</td>\n",
       "      <td>-0.059231</td>\n",
       "      <td>0.270000</td>\n",
       "      <td>0.046154</td>\n",
       "      <td>-0.040000</td>\n",
       "      <td>0.204615</td>\n",
       "      <td>0.142308</td>\n",
       "      <td>0.485385</td>\n",
       "      <td>0.329231</td>\n",
       "      <td>-0.003077</td>\n",
       "      <td>0.197692</td>\n",
       "      <td>0.399231</td>\n",
       "      <td>0.011538</td>\n",
       "      <td>0.020769</td>\n",
       "      <td>28</td>\n",
       "    </tr>\n",
       "    <tr>\n",
       "      <th>Algeria14</th>\n",
       "      <td>0.386923</td>\n",
       "      <td>0.208462</td>\n",
       "      <td>-0.138462</td>\n",
       "      <td>-0.079231</td>\n",
       "      <td>-0.383846</td>\n",
       "      <td>-0.393846</td>\n",
       "      <td>-0.081538</td>\n",
       "      <td>-0.300000</td>\n",
       "      <td>-0.376154</td>\n",
       "      <td>-0.276154</td>\n",
       "      <td>0.170769</td>\n",
       "      <td>-0.269231</td>\n",
       "      <td>0.102308</td>\n",
       "      <td>0.023846</td>\n",
       "      <td>-0.145385</td>\n",
       "      <td>-0.278462</td>\n",
       "      <td>14</td>\n",
       "    </tr>\n",
       "  </tbody>\n",
       "</table>\n",
       "</div>"
      ],
      "text/plain": [
       "            goals_z      xg_z  crosses_z  boxtouches_z  passes_z  \\\n",
       "Algeria82  0.265385  0.248462  -0.075385      0.036923 -0.109231   \n",
       "Algeria86 -0.235385 -0.301538  -0.367692     -0.423077  0.413846   \n",
       "Algeria10 -0.400000 -0.104615   0.471538     -0.059231  0.270000   \n",
       "Algeria14  0.386923  0.208462  -0.138462     -0.079231 -0.383846   \n",
       "\n",
       "           progpasses_z  takeons_z  progruns_z  tackles_z  interceptions_z  \\\n",
       "Algeria82     -0.206923  -0.024615    0.399231  -0.355385        -0.213846   \n",
       "Algeria86     -0.074615  -0.167692    0.370000   0.199231         0.016154   \n",
       "Algeria10      0.046154  -0.040000    0.204615   0.142308         0.485385   \n",
       "Algeria14     -0.393846  -0.081538   -0.300000  -0.376154        -0.276154   \n",
       "\n",
       "           clearances_z  blocks_z  aerials_z   fouls_z  fouled_z    nsxg_z  \\\n",
       "Algeria82      0.343846  0.160000   0.063077 -0.046923  0.063077 -0.084615   \n",
       "Algeria86      0.440000  0.511538   0.130769 -0.262308 -0.359231 -0.376923   \n",
       "Algeria10      0.329231 -0.003077   0.197692  0.399231  0.011538  0.020769   \n",
       "Algeria14      0.170769 -0.269231   0.102308  0.023846 -0.145385 -0.278462   \n",
       "\n",
       "           results  \n",
       "Algeria82       13  \n",
       "Algeria86       22  \n",
       "Algeria10       28  \n",
       "Algeria14       14  "
      ]
     },
     "execution_count": 627,
     "metadata": {},
     "output_type": "execute_result"
    }
   ],
   "source": [
    "df2"
   ]
  },
  {
   "cell_type": "code",
   "execution_count": 628,
   "metadata": {},
   "outputs": [],
   "source": [
    "# df2.to_csv('Algeria.csv')\n"
   ]
  },
  {
   "cell_type": "code",
   "execution_count": 371,
   "metadata": {},
   "outputs": [],
   "source": [
    "# 82 - 13      Algeria     2     3     2     0     1     5     5     0     4\n",
    "# 86 - 22      Algeria     D     3     0     1     2     1     5     −4     1\n",
    "# 10 - 28      Algeria     C     3     0     1     2     0     2     −2     1\n",
    "# 14 - 14      Algeria     H     4     1     1     2     4     7     7     0\n"
   ]
  },
  {
   "cell_type": "markdown",
   "metadata": {},
   "source": [
    "# Chile"
   ]
  },
  {
   "cell_type": "code",
   "execution_count": 372,
   "metadata": {},
   "outputs": [],
   "source": [
    "## 82"
   ]
  },
  {
   "cell_type": "code",
   "execution_count": 373,
   "metadata": {},
   "outputs": [],
   "source": [
    "chi = ['Chile']"
   ]
  },
  {
   "cell_type": "code",
   "execution_count": 374,
   "metadata": {},
   "outputs": [],
   "source": [
    "chi_year = df.loc[df[\"team\"].isin(chi)]"
   ]
  },
  {
   "cell_type": "code",
   "execution_count": 375,
   "metadata": {},
   "outputs": [],
   "source": [
    "chi82year = chi_year.loc[chi_year[\"season\"].isin(year1982)]"
   ]
  },
  {
   "cell_type": "code",
   "execution_count": 376,
   "metadata": {},
   "outputs": [],
   "source": [
    "chi82xg = chi82year.sort_values(by=[\"goals_z\"], ascending=False)"
   ]
  },
  {
   "cell_type": "code",
   "execution_count": 377,
   "metadata": {},
   "outputs": [],
   "source": [
    "chi82xg13 = chi82xg.head(13)"
   ]
  },
  {
   "cell_type": "code",
   "execution_count": 378,
   "metadata": {},
   "outputs": [],
   "source": [
    "chi82xg13 = chi82xg13.drop(columns=['season', 'team'])"
   ]
  },
  {
   "cell_type": "code",
   "execution_count": 379,
   "metadata": {},
   "outputs": [],
   "source": [
    "chi82 = chi82xg13.mean()"
   ]
  },
  {
   "cell_type": "code",
   "execution_count": 380,
   "metadata": {},
   "outputs": [],
   "source": [
    "# chi82"
   ]
  },
  {
   "cell_type": "markdown",
   "metadata": {},
   "source": [
    "## 98"
   ]
  },
  {
   "cell_type": "code",
   "execution_count": 381,
   "metadata": {},
   "outputs": [],
   "source": [
    "chi98year = chi_year.loc[chi_year[\"season\"].isin(year1998)]"
   ]
  },
  {
   "cell_type": "code",
   "execution_count": 382,
   "metadata": {},
   "outputs": [],
   "source": [
    "chi98xg = chi98year.sort_values(by=[\"goals_z\"], ascending=False)"
   ]
  },
  {
   "cell_type": "code",
   "execution_count": 383,
   "metadata": {},
   "outputs": [],
   "source": [
    "chi98xg13 = chi98xg.head(13)"
   ]
  },
  {
   "cell_type": "code",
   "execution_count": 384,
   "metadata": {},
   "outputs": [],
   "source": [
    "chi98xg13 = chi98xg13.drop(columns=['season', 'team'])"
   ]
  },
  {
   "cell_type": "code",
   "execution_count": 385,
   "metadata": {},
   "outputs": [],
   "source": [
    "chi98 = chi98xg13.mean()"
   ]
  },
  {
   "cell_type": "code",
   "execution_count": 386,
   "metadata": {},
   "outputs": [],
   "source": [
    "# chi98"
   ]
  },
  {
   "cell_type": "markdown",
   "metadata": {},
   "source": [
    "## 10"
   ]
  },
  {
   "cell_type": "code",
   "execution_count": 387,
   "metadata": {},
   "outputs": [],
   "source": [
    "chi10year = chi_year.loc[chi_year[\"season\"].isin(year2010)]"
   ]
  },
  {
   "cell_type": "code",
   "execution_count": 388,
   "metadata": {},
   "outputs": [],
   "source": [
    "chi10xg = chi10year.sort_values(by=[\"goals_z\"], ascending=False)"
   ]
  },
  {
   "cell_type": "code",
   "execution_count": 389,
   "metadata": {},
   "outputs": [],
   "source": [
    "chi10xg13 = chi10xg.head(13)"
   ]
  },
  {
   "cell_type": "code",
   "execution_count": 390,
   "metadata": {},
   "outputs": [],
   "source": [
    "chi10xg13 = chi10xg13.drop(columns=['season', 'team'])"
   ]
  },
  {
   "cell_type": "code",
   "execution_count": 391,
   "metadata": {},
   "outputs": [],
   "source": [
    "chi10 = chi10xg13.mean()"
   ]
  },
  {
   "cell_type": "code",
   "execution_count": 392,
   "metadata": {},
   "outputs": [],
   "source": [
    "# chi10"
   ]
  },
  {
   "cell_type": "markdown",
   "metadata": {},
   "source": [
    "## 14"
   ]
  },
  {
   "cell_type": "code",
   "execution_count": 393,
   "metadata": {},
   "outputs": [],
   "source": [
    "chi14year = chi_year.loc[chi_year[\"season\"].isin(year2014)]"
   ]
  },
  {
   "cell_type": "code",
   "execution_count": 394,
   "metadata": {},
   "outputs": [],
   "source": [
    "chi14xg = chi14year.sort_values(by=[\"goals_z\"], ascending=False)"
   ]
  },
  {
   "cell_type": "code",
   "execution_count": 395,
   "metadata": {},
   "outputs": [],
   "source": [
    "chi14xg13 = chi14xg.head(13)"
   ]
  },
  {
   "cell_type": "code",
   "execution_count": 396,
   "metadata": {},
   "outputs": [],
   "source": [
    "chi14xg13 = chi14xg13.drop(columns=['season', 'team'])"
   ]
  },
  {
   "cell_type": "code",
   "execution_count": 397,
   "metadata": {},
   "outputs": [],
   "source": [
    "chi14 = chi14xg13.mean()"
   ]
  },
  {
   "cell_type": "code",
   "execution_count": 398,
   "metadata": {},
   "outputs": [],
   "source": [
    "# chi14"
   ]
  },
  {
   "cell_type": "code",
   "execution_count": 629,
   "metadata": {},
   "outputs": [],
   "source": [
    "chi = pd.concat([chi82, chi98, chi10, chi14], axis=1).T\n"
   ]
  },
  {
   "cell_type": "code",
   "execution_count": 630,
   "metadata": {},
   "outputs": [],
   "source": [
    "chi.rename(index={0: 'Chile82', 1: 'Chile98', 2: 'Chile10', \n",
    "                  3: 'Chile14'}, inplace=True)\n"
   ]
  },
  {
   "cell_type": "code",
   "execution_count": 631,
   "metadata": {},
   "outputs": [],
   "source": [
    "df2 = chi.assign(results=[22, 16, 10, 9])\n"
   ]
  },
  {
   "cell_type": "code",
   "execution_count": 634,
   "metadata": {},
   "outputs": [],
   "source": [
    "# df2.to_csv('Chile.csv')\n"
   ]
  },
  {
   "cell_type": "code",
   "execution_count": 633,
   "metadata": {},
   "outputs": [
    {
     "data": {
      "text/html": [
       "<div>\n",
       "<style scoped>\n",
       "    .dataframe tbody tr th:only-of-type {\n",
       "        vertical-align: middle;\n",
       "    }\n",
       "\n",
       "    .dataframe tbody tr th {\n",
       "        vertical-align: top;\n",
       "    }\n",
       "\n",
       "    .dataframe thead th {\n",
       "        text-align: right;\n",
       "    }\n",
       "</style>\n",
       "<table border=\"1\" class=\"dataframe\">\n",
       "  <thead>\n",
       "    <tr style=\"text-align: right;\">\n",
       "      <th></th>\n",
       "      <th>goals_z</th>\n",
       "      <th>xg_z</th>\n",
       "      <th>crosses_z</th>\n",
       "      <th>boxtouches_z</th>\n",
       "      <th>passes_z</th>\n",
       "      <th>progpasses_z</th>\n",
       "      <th>takeons_z</th>\n",
       "      <th>progruns_z</th>\n",
       "      <th>tackles_z</th>\n",
       "      <th>interceptions_z</th>\n",
       "      <th>clearances_z</th>\n",
       "      <th>blocks_z</th>\n",
       "      <th>aerials_z</th>\n",
       "      <th>fouls_z</th>\n",
       "      <th>fouled_z</th>\n",
       "      <th>nsxg_z</th>\n",
       "      <th>results</th>\n",
       "    </tr>\n",
       "  </thead>\n",
       "  <tbody>\n",
       "    <tr>\n",
       "      <th>Chile82</th>\n",
       "      <td>-0.040769</td>\n",
       "      <td>0.342308</td>\n",
       "      <td>-0.170769</td>\n",
       "      <td>0.069231</td>\n",
       "      <td>0.054615</td>\n",
       "      <td>-0.070769</td>\n",
       "      <td>0.491538</td>\n",
       "      <td>0.291538</td>\n",
       "      <td>-0.184615</td>\n",
       "      <td>0.346923</td>\n",
       "      <td>-0.051538</td>\n",
       "      <td>-0.248462</td>\n",
       "      <td>-0.242308</td>\n",
       "      <td>0.039231</td>\n",
       "      <td>0.187692</td>\n",
       "      <td>0.100769</td>\n",
       "      <td>22</td>\n",
       "    </tr>\n",
       "    <tr>\n",
       "      <th>Chile98</th>\n",
       "      <td>0.173846</td>\n",
       "      <td>0.007692</td>\n",
       "      <td>0.409231</td>\n",
       "      <td>0.195385</td>\n",
       "      <td>0.208462</td>\n",
       "      <td>0.029231</td>\n",
       "      <td>-0.075385</td>\n",
       "      <td>-0.136923</td>\n",
       "      <td>0.211538</td>\n",
       "      <td>0.256154</td>\n",
       "      <td>-0.030769</td>\n",
       "      <td>-0.130000</td>\n",
       "      <td>0.299231</td>\n",
       "      <td>-0.202308</td>\n",
       "      <td>0.357692</td>\n",
       "      <td>0.203846</td>\n",
       "      <td>16</td>\n",
       "    </tr>\n",
       "    <tr>\n",
       "      <th>Chile10</th>\n",
       "      <td>-0.000769</td>\n",
       "      <td>0.105385</td>\n",
       "      <td>-0.023846</td>\n",
       "      <td>0.478462</td>\n",
       "      <td>-0.329231</td>\n",
       "      <td>-0.221538</td>\n",
       "      <td>0.462308</td>\n",
       "      <td>0.218462</td>\n",
       "      <td>0.453077</td>\n",
       "      <td>-0.085385</td>\n",
       "      <td>-0.467692</td>\n",
       "      <td>-0.466923</td>\n",
       "      <td>-0.113077</td>\n",
       "      <td>0.283077</td>\n",
       "      <td>0.305385</td>\n",
       "      <td>0.473846</td>\n",
       "      <td>10</td>\n",
       "    </tr>\n",
       "    <tr>\n",
       "      <th>Chile14</th>\n",
       "      <td>0.270769</td>\n",
       "      <td>-0.093846</td>\n",
       "      <td>-0.138462</td>\n",
       "      <td>0.101538</td>\n",
       "      <td>0.434615</td>\n",
       "      <td>0.374615</td>\n",
       "      <td>0.193846</td>\n",
       "      <td>-0.335385</td>\n",
       "      <td>0.186154</td>\n",
       "      <td>0.240000</td>\n",
       "      <td>0.098462</td>\n",
       "      <td>0.169231</td>\n",
       "      <td>-0.002308</td>\n",
       "      <td>0.222308</td>\n",
       "      <td>0.680769</td>\n",
       "      <td>0.151538</td>\n",
       "      <td>9</td>\n",
       "    </tr>\n",
       "  </tbody>\n",
       "</table>\n",
       "</div>"
      ],
      "text/plain": [
       "          goals_z      xg_z  crosses_z  boxtouches_z  passes_z  progpasses_z  \\\n",
       "Chile82 -0.040769  0.342308  -0.170769      0.069231  0.054615     -0.070769   \n",
       "Chile98  0.173846  0.007692   0.409231      0.195385  0.208462      0.029231   \n",
       "Chile10 -0.000769  0.105385  -0.023846      0.478462 -0.329231     -0.221538   \n",
       "Chile14  0.270769 -0.093846  -0.138462      0.101538  0.434615      0.374615   \n",
       "\n",
       "         takeons_z  progruns_z  tackles_z  interceptions_z  clearances_z  \\\n",
       "Chile82   0.491538    0.291538  -0.184615         0.346923     -0.051538   \n",
       "Chile98  -0.075385   -0.136923   0.211538         0.256154     -0.030769   \n",
       "Chile10   0.462308    0.218462   0.453077        -0.085385     -0.467692   \n",
       "Chile14   0.193846   -0.335385   0.186154         0.240000      0.098462   \n",
       "\n",
       "         blocks_z  aerials_z   fouls_z  fouled_z    nsxg_z  results  \n",
       "Chile82 -0.248462  -0.242308  0.039231  0.187692  0.100769       22  \n",
       "Chile98 -0.130000   0.299231 -0.202308  0.357692  0.203846       16  \n",
       "Chile10 -0.466923  -0.113077  0.283077  0.305385  0.473846       10  \n",
       "Chile14  0.169231  -0.002308  0.222308  0.680769  0.151538        9  "
      ]
     },
     "execution_count": 633,
     "metadata": {},
     "output_type": "execute_result"
    }
   ],
   "source": [
    "df2"
   ]
  },
  {
   "cell_type": "code",
   "execution_count": 403,
   "metadata": {},
   "outputs": [],
   "source": [
    "# 82 - 22      Chile     2     3     0     0     3     3     8     −5     0\n",
    "# 98 - 16      Chile     B     4     0     3     1     5     8     −3     3\n",
    "# 10 - 10      Chile     H     4     2     0     2     3     5     −2     6\n",
    "# 14 - 9      Chile     B     4     2     1     1     7     6     4     +2\n"
   ]
  },
  {
   "cell_type": "markdown",
   "metadata": {},
   "source": [
    "# Yugoslavia"
   ]
  },
  {
   "cell_type": "markdown",
   "metadata": {},
   "source": [
    "## 82"
   ]
  },
  {
   "cell_type": "code",
   "execution_count": 404,
   "metadata": {},
   "outputs": [],
   "source": [
    "yug = ['Yugoslavia']"
   ]
  },
  {
   "cell_type": "code",
   "execution_count": 405,
   "metadata": {},
   "outputs": [],
   "source": [
    "yug_year = df.loc[df[\"team\"].isin(yug)]"
   ]
  },
  {
   "cell_type": "code",
   "execution_count": 406,
   "metadata": {},
   "outputs": [],
   "source": [
    "yug82year = yug_year.loc[yug_year[\"season\"].isin(year1982)]"
   ]
  },
  {
   "cell_type": "code",
   "execution_count": 407,
   "metadata": {},
   "outputs": [],
   "source": [
    "yug82xg = yug82year.sort_values(by=[\"goals_z\"], ascending=False)"
   ]
  },
  {
   "cell_type": "code",
   "execution_count": 408,
   "metadata": {},
   "outputs": [],
   "source": [
    "yug82xg13 = yug82xg.head(13)"
   ]
  },
  {
   "cell_type": "code",
   "execution_count": 409,
   "metadata": {},
   "outputs": [],
   "source": [
    "yug82xg13 = yug82xg13.drop(columns=['season', 'team'])"
   ]
  },
  {
   "cell_type": "code",
   "execution_count": 410,
   "metadata": {},
   "outputs": [],
   "source": [
    "yug82 = yug82xg13.mean()"
   ]
  },
  {
   "cell_type": "code",
   "execution_count": 411,
   "metadata": {},
   "outputs": [],
   "source": [
    "# yug82"
   ]
  },
  {
   "cell_type": "markdown",
   "metadata": {},
   "source": [
    "## 90"
   ]
  },
  {
   "cell_type": "code",
   "execution_count": 412,
   "metadata": {},
   "outputs": [],
   "source": [
    "yug90year = yug_year.loc[yug_year[\"season\"].isin(year1990)]"
   ]
  },
  {
   "cell_type": "code",
   "execution_count": 413,
   "metadata": {},
   "outputs": [],
   "source": [
    "yug90xg = yug90year.sort_values(by=[\"goals_z\"], ascending=False)"
   ]
  },
  {
   "cell_type": "code",
   "execution_count": 414,
   "metadata": {},
   "outputs": [],
   "source": [
    "yug90xg13 = yug90xg.head(13)"
   ]
  },
  {
   "cell_type": "code",
   "execution_count": 415,
   "metadata": {},
   "outputs": [],
   "source": [
    "yug90xg13 = yug90xg13.drop(columns=['season', 'team'])"
   ]
  },
  {
   "cell_type": "code",
   "execution_count": 416,
   "metadata": {},
   "outputs": [],
   "source": [
    "yug90 = yug90xg13.mean()"
   ]
  },
  {
   "cell_type": "code",
   "execution_count": 417,
   "metadata": {},
   "outputs": [],
   "source": [
    "# yug90"
   ]
  },
  {
   "cell_type": "markdown",
   "metadata": {},
   "source": [
    "## 98"
   ]
  },
  {
   "cell_type": "code",
   "execution_count": 418,
   "metadata": {},
   "outputs": [],
   "source": [
    "yug98year = yug_year.loc[yug_year[\"season\"].isin(year1998)]"
   ]
  },
  {
   "cell_type": "code",
   "execution_count": 419,
   "metadata": {},
   "outputs": [],
   "source": [
    "yug98xg = yug98year.sort_values(by=[\"goals_z\"], ascending=False)"
   ]
  },
  {
   "cell_type": "code",
   "execution_count": 420,
   "metadata": {},
   "outputs": [],
   "source": [
    "yug98xg13 = yug98xg.head(13)"
   ]
  },
  {
   "cell_type": "code",
   "execution_count": 421,
   "metadata": {},
   "outputs": [],
   "source": [
    "yug98xg13 = yug98xg13.drop(columns=['season', 'team'])"
   ]
  },
  {
   "cell_type": "code",
   "execution_count": 422,
   "metadata": {},
   "outputs": [],
   "source": [
    "yug98 = yug98xg13.mean()"
   ]
  },
  {
   "cell_type": "code",
   "execution_count": 423,
   "metadata": {},
   "outputs": [],
   "source": [
    "# yug98"
   ]
  },
  {
   "cell_type": "code",
   "execution_count": 635,
   "metadata": {},
   "outputs": [],
   "source": [
    "yug = pd.concat([yug82, yug90, yug98], axis=1).T\n"
   ]
  },
  {
   "cell_type": "code",
   "execution_count": 636,
   "metadata": {},
   "outputs": [],
   "source": [
    "yug.rename(index={0: 'Yugoslavia82', 1: 'Yugoslavia90', \n",
    "                  2: 'Yugoslavia98'}, inplace=True)\n"
   ]
  },
  {
   "cell_type": "code",
   "execution_count": 637,
   "metadata": {},
   "outputs": [],
   "source": [
    "df2 = yug.assign(results=[16, 5, 10])\n"
   ]
  },
  {
   "cell_type": "code",
   "execution_count": 638,
   "metadata": {},
   "outputs": [
    {
     "data": {
      "text/html": [
       "<div>\n",
       "<style scoped>\n",
       "    .dataframe tbody tr th:only-of-type {\n",
       "        vertical-align: middle;\n",
       "    }\n",
       "\n",
       "    .dataframe tbody tr th {\n",
       "        vertical-align: top;\n",
       "    }\n",
       "\n",
       "    .dataframe thead th {\n",
       "        text-align: right;\n",
       "    }\n",
       "</style>\n",
       "<table border=\"1\" class=\"dataframe\">\n",
       "  <thead>\n",
       "    <tr style=\"text-align: right;\">\n",
       "      <th></th>\n",
       "      <th>goals_z</th>\n",
       "      <th>xg_z</th>\n",
       "      <th>crosses_z</th>\n",
       "      <th>boxtouches_z</th>\n",
       "      <th>passes_z</th>\n",
       "      <th>progpasses_z</th>\n",
       "      <th>takeons_z</th>\n",
       "      <th>progruns_z</th>\n",
       "      <th>tackles_z</th>\n",
       "      <th>interceptions_z</th>\n",
       "      <th>clearances_z</th>\n",
       "      <th>blocks_z</th>\n",
       "      <th>aerials_z</th>\n",
       "      <th>fouls_z</th>\n",
       "      <th>fouled_z</th>\n",
       "      <th>nsxg_z</th>\n",
       "      <th>results</th>\n",
       "    </tr>\n",
       "  </thead>\n",
       "  <tbody>\n",
       "    <tr>\n",
       "      <th>Yugoslavia82</th>\n",
       "      <td>-0.193846</td>\n",
       "      <td>0.093846</td>\n",
       "      <td>0.257692</td>\n",
       "      <td>-0.103077</td>\n",
       "      <td>0.392308</td>\n",
       "      <td>0.596154</td>\n",
       "      <td>0.550000</td>\n",
       "      <td>0.220769</td>\n",
       "      <td>0.482308</td>\n",
       "      <td>0.980000</td>\n",
       "      <td>-0.273846</td>\n",
       "      <td>0.186923</td>\n",
       "      <td>0.010769</td>\n",
       "      <td>0.326154</td>\n",
       "      <td>0.163846</td>\n",
       "      <td>0.368462</td>\n",
       "      <td>16</td>\n",
       "    </tr>\n",
       "    <tr>\n",
       "      <th>Yugoslavia90</th>\n",
       "      <td>0.334615</td>\n",
       "      <td>-0.064615</td>\n",
       "      <td>0.231538</td>\n",
       "      <td>0.019231</td>\n",
       "      <td>-0.187692</td>\n",
       "      <td>-0.023077</td>\n",
       "      <td>0.187692</td>\n",
       "      <td>0.268462</td>\n",
       "      <td>-0.332308</td>\n",
       "      <td>-0.203077</td>\n",
       "      <td>-0.110000</td>\n",
       "      <td>0.003846</td>\n",
       "      <td>-0.190000</td>\n",
       "      <td>-0.326154</td>\n",
       "      <td>0.190769</td>\n",
       "      <td>0.173077</td>\n",
       "      <td>5</td>\n",
       "    </tr>\n",
       "    <tr>\n",
       "      <th>Yugoslavia98</th>\n",
       "      <td>0.173077</td>\n",
       "      <td>0.019231</td>\n",
       "      <td>-0.180769</td>\n",
       "      <td>-0.154615</td>\n",
       "      <td>-0.334615</td>\n",
       "      <td>-0.305385</td>\n",
       "      <td>-0.186154</td>\n",
       "      <td>-0.043846</td>\n",
       "      <td>-0.296923</td>\n",
       "      <td>-0.510769</td>\n",
       "      <td>0.129231</td>\n",
       "      <td>-0.087692</td>\n",
       "      <td>-0.153846</td>\n",
       "      <td>-0.136154</td>\n",
       "      <td>0.246154</td>\n",
       "      <td>-0.297692</td>\n",
       "      <td>10</td>\n",
       "    </tr>\n",
       "  </tbody>\n",
       "</table>\n",
       "</div>"
      ],
      "text/plain": [
       "               goals_z      xg_z  crosses_z  boxtouches_z  passes_z  \\\n",
       "Yugoslavia82 -0.193846  0.093846   0.257692     -0.103077  0.392308   \n",
       "Yugoslavia90  0.334615 -0.064615   0.231538      0.019231 -0.187692   \n",
       "Yugoslavia98  0.173077  0.019231  -0.180769     -0.154615 -0.334615   \n",
       "\n",
       "              progpasses_z  takeons_z  progruns_z  tackles_z  interceptions_z  \\\n",
       "Yugoslavia82      0.596154   0.550000    0.220769   0.482308         0.980000   \n",
       "Yugoslavia90     -0.023077   0.187692    0.268462  -0.332308        -0.203077   \n",
       "Yugoslavia98     -0.305385  -0.186154   -0.043846  -0.296923        -0.510769   \n",
       "\n",
       "              clearances_z  blocks_z  aerials_z   fouls_z  fouled_z    nsxg_z  \\\n",
       "Yugoslavia82     -0.273846  0.186923   0.010769  0.326154  0.163846  0.368462   \n",
       "Yugoslavia90     -0.110000  0.003846  -0.190000 -0.326154  0.190769  0.173077   \n",
       "Yugoslavia98      0.129231 -0.087692  -0.153846 -0.136154  0.246154 -0.297692   \n",
       "\n",
       "              results  \n",
       "Yugoslavia82       16  \n",
       "Yugoslavia90        5  \n",
       "Yugoslavia98       10  "
      ]
     },
     "execution_count": 638,
     "metadata": {},
     "output_type": "execute_result"
    }
   ],
   "source": [
    "df2"
   ]
  },
  {
   "cell_type": "code",
   "execution_count": 639,
   "metadata": {},
   "outputs": [],
   "source": [
    "# df2.to_csv('Yugoslavia.csv')\n"
   ]
  },
  {
   "cell_type": "code",
   "execution_count": 428,
   "metadata": {},
   "outputs": [],
   "source": [
    "# 82 - 16      Yugoslavia     5     3     1     1     1     2     2     0     3\n",
    "# 90 - 5     D      Yugoslavia     5     3     1     1     8     6     +2     7 \n",
    "# 98 - 10      FR Yugoslavia     F     4     2     1     1     5     4     +1     7\n"
   ]
  },
  {
   "cell_type": "markdown",
   "metadata": {},
   "source": [
    "# Scotland"
   ]
  },
  {
   "cell_type": "markdown",
   "metadata": {},
   "source": [
    "## 82"
   ]
  },
  {
   "cell_type": "code",
   "execution_count": 429,
   "metadata": {},
   "outputs": [],
   "source": [
    "sco = ['Scotland']"
   ]
  },
  {
   "cell_type": "code",
   "execution_count": 430,
   "metadata": {},
   "outputs": [],
   "source": [
    "sco_year = df.loc[df[\"team\"].isin(sco)]"
   ]
  },
  {
   "cell_type": "code",
   "execution_count": 431,
   "metadata": {},
   "outputs": [],
   "source": [
    "sco82year = sco_year.loc[sco_year[\"season\"].isin(year1982)]"
   ]
  },
  {
   "cell_type": "code",
   "execution_count": 432,
   "metadata": {},
   "outputs": [],
   "source": [
    "sco82xg = sco82year.sort_values(by=[\"goals_z\"], ascending=False)"
   ]
  },
  {
   "cell_type": "code",
   "execution_count": 433,
   "metadata": {},
   "outputs": [],
   "source": [
    "sco82xg13 = sco82xg.head(13)"
   ]
  },
  {
   "cell_type": "code",
   "execution_count": 434,
   "metadata": {},
   "outputs": [],
   "source": [
    "sco82xg13 = sco82xg13.drop(columns=['season', 'team'])"
   ]
  },
  {
   "cell_type": "code",
   "execution_count": 435,
   "metadata": {},
   "outputs": [],
   "source": [
    "sco82 = sco82xg13.mean()"
   ]
  },
  {
   "cell_type": "code",
   "execution_count": 436,
   "metadata": {},
   "outputs": [],
   "source": [
    "# sco82"
   ]
  },
  {
   "cell_type": "markdown",
   "metadata": {},
   "source": [
    "## 86"
   ]
  },
  {
   "cell_type": "code",
   "execution_count": 437,
   "metadata": {},
   "outputs": [],
   "source": [
    "sco86year = sco_year.loc[sco_year[\"season\"].isin(year1986)]"
   ]
  },
  {
   "cell_type": "code",
   "execution_count": 438,
   "metadata": {},
   "outputs": [],
   "source": [
    "sco86xg = sco86year.sort_values(by=[\"goals_z\"], ascending=False)"
   ]
  },
  {
   "cell_type": "code",
   "execution_count": 439,
   "metadata": {},
   "outputs": [],
   "source": [
    "sco86xg13 = sco86xg.head(13)"
   ]
  },
  {
   "cell_type": "code",
   "execution_count": 440,
   "metadata": {},
   "outputs": [],
   "source": [
    "sco86xg13 = sco86xg13.drop(columns=['season', 'team'])"
   ]
  },
  {
   "cell_type": "code",
   "execution_count": 441,
   "metadata": {},
   "outputs": [],
   "source": [
    "sco86 = sco86xg13.mean()"
   ]
  },
  {
   "cell_type": "code",
   "execution_count": 442,
   "metadata": {},
   "outputs": [],
   "source": [
    "# sco86"
   ]
  },
  {
   "cell_type": "markdown",
   "metadata": {},
   "source": [
    "## 90"
   ]
  },
  {
   "cell_type": "code",
   "execution_count": 443,
   "metadata": {},
   "outputs": [],
   "source": [
    "sco90year = sco_year.loc[sco_year[\"season\"].isin(year1990)]"
   ]
  },
  {
   "cell_type": "code",
   "execution_count": 444,
   "metadata": {},
   "outputs": [],
   "source": [
    "sco90xg = sco90year.sort_values(by=[\"goals_z\"], ascending=False)"
   ]
  },
  {
   "cell_type": "code",
   "execution_count": 445,
   "metadata": {},
   "outputs": [],
   "source": [
    "sco90xg13 = sco90xg.head(13)"
   ]
  },
  {
   "cell_type": "code",
   "execution_count": 446,
   "metadata": {},
   "outputs": [],
   "source": [
    "sco90xg13 = sco90xg13.drop(columns=['season', 'team'])"
   ]
  },
  {
   "cell_type": "code",
   "execution_count": 447,
   "metadata": {},
   "outputs": [],
   "source": [
    "sco90 = sco90xg13.mean()"
   ]
  },
  {
   "cell_type": "code",
   "execution_count": 448,
   "metadata": {},
   "outputs": [],
   "source": [
    "# sco90"
   ]
  },
  {
   "cell_type": "markdown",
   "metadata": {},
   "source": [
    "## 98"
   ]
  },
  {
   "cell_type": "code",
   "execution_count": 449,
   "metadata": {},
   "outputs": [],
   "source": [
    "sco98year = sco_year.loc[sco_year[\"season\"].isin(year1998)]"
   ]
  },
  {
   "cell_type": "code",
   "execution_count": 450,
   "metadata": {},
   "outputs": [],
   "source": [
    "sco98xg = sco98year.sort_values(by=[\"goals_z\"], ascending=False)"
   ]
  },
  {
   "cell_type": "code",
   "execution_count": 451,
   "metadata": {},
   "outputs": [],
   "source": [
    "sco98xg13 = sco98xg.head(13)"
   ]
  },
  {
   "cell_type": "code",
   "execution_count": 452,
   "metadata": {},
   "outputs": [],
   "source": [
    "sco98xg13 = sco98xg13.drop(columns=['season', 'team'])"
   ]
  },
  {
   "cell_type": "code",
   "execution_count": 453,
   "metadata": {},
   "outputs": [],
   "source": [
    "sco98 = sco98xg13.mean()"
   ]
  },
  {
   "cell_type": "code",
   "execution_count": 454,
   "metadata": {},
   "outputs": [],
   "source": [
    "# sco98"
   ]
  },
  {
   "cell_type": "code",
   "execution_count": 640,
   "metadata": {},
   "outputs": [],
   "source": [
    "sco = pd.concat([sco82, sco86, sco90, sco98], axis=1).T\n"
   ]
  },
  {
   "cell_type": "code",
   "execution_count": 641,
   "metadata": {},
   "outputs": [],
   "source": [
    "sco.rename(index={0: 'Scotland82', 1: 'Scotland86', 2: 'Scotland90',\n",
    "                  3: 'Scotland98'}, inplace=True)\n"
   ]
  },
  {
   "cell_type": "code",
   "execution_count": 642,
   "metadata": {},
   "outputs": [],
   "source": [
    "df2 = sco.assign(results=[15, 19, 18, 27])\n"
   ]
  },
  {
   "cell_type": "code",
   "execution_count": 643,
   "metadata": {},
   "outputs": [
    {
     "data": {
      "text/html": [
       "<div>\n",
       "<style scoped>\n",
       "    .dataframe tbody tr th:only-of-type {\n",
       "        vertical-align: middle;\n",
       "    }\n",
       "\n",
       "    .dataframe tbody tr th {\n",
       "        vertical-align: top;\n",
       "    }\n",
       "\n",
       "    .dataframe thead th {\n",
       "        text-align: right;\n",
       "    }\n",
       "</style>\n",
       "<table border=\"1\" class=\"dataframe\">\n",
       "  <thead>\n",
       "    <tr style=\"text-align: right;\">\n",
       "      <th></th>\n",
       "      <th>goals_z</th>\n",
       "      <th>xg_z</th>\n",
       "      <th>crosses_z</th>\n",
       "      <th>boxtouches_z</th>\n",
       "      <th>passes_z</th>\n",
       "      <th>progpasses_z</th>\n",
       "      <th>takeons_z</th>\n",
       "      <th>progruns_z</th>\n",
       "      <th>tackles_z</th>\n",
       "      <th>interceptions_z</th>\n",
       "      <th>clearances_z</th>\n",
       "      <th>blocks_z</th>\n",
       "      <th>aerials_z</th>\n",
       "      <th>fouls_z</th>\n",
       "      <th>fouled_z</th>\n",
       "      <th>nsxg_z</th>\n",
       "      <th>results</th>\n",
       "    </tr>\n",
       "  </thead>\n",
       "  <tbody>\n",
       "    <tr>\n",
       "      <th>Scotland82</th>\n",
       "      <td>0.724615</td>\n",
       "      <td>0.216154</td>\n",
       "      <td>0.162308</td>\n",
       "      <td>0.543077</td>\n",
       "      <td>0.106154</td>\n",
       "      <td>0.170769</td>\n",
       "      <td>-0.110769</td>\n",
       "      <td>-0.146923</td>\n",
       "      <td>-0.592308</td>\n",
       "      <td>0.101538</td>\n",
       "      <td>-0.200000</td>\n",
       "      <td>0.498462</td>\n",
       "      <td>0.317692</td>\n",
       "      <td>0.038462</td>\n",
       "      <td>-0.234615</td>\n",
       "      <td>0.306154</td>\n",
       "      <td>15</td>\n",
       "    </tr>\n",
       "    <tr>\n",
       "      <th>Scotland86</th>\n",
       "      <td>-0.235385</td>\n",
       "      <td>-0.176154</td>\n",
       "      <td>0.450769</td>\n",
       "      <td>0.628462</td>\n",
       "      <td>0.112308</td>\n",
       "      <td>0.389231</td>\n",
       "      <td>-0.335385</td>\n",
       "      <td>-0.196923</td>\n",
       "      <td>0.030769</td>\n",
       "      <td>-0.306154</td>\n",
       "      <td>-0.343077</td>\n",
       "      <td>-0.291538</td>\n",
       "      <td>-0.146154</td>\n",
       "      <td>-0.166923</td>\n",
       "      <td>-0.230000</td>\n",
       "      <td>0.233846</td>\n",
       "      <td>19</td>\n",
       "    </tr>\n",
       "    <tr>\n",
       "      <th>Scotland90</th>\n",
       "      <td>-0.063077</td>\n",
       "      <td>0.332308</td>\n",
       "      <td>0.383846</td>\n",
       "      <td>0.306154</td>\n",
       "      <td>-0.310769</td>\n",
       "      <td>-0.283846</td>\n",
       "      <td>-0.388462</td>\n",
       "      <td>-0.383077</td>\n",
       "      <td>-0.373846</td>\n",
       "      <td>-0.473846</td>\n",
       "      <td>-0.273846</td>\n",
       "      <td>-0.309231</td>\n",
       "      <td>0.197692</td>\n",
       "      <td>-0.378462</td>\n",
       "      <td>-0.386154</td>\n",
       "      <td>0.280000</td>\n",
       "      <td>18</td>\n",
       "    </tr>\n",
       "    <tr>\n",
       "      <th>Scotland98</th>\n",
       "      <td>-0.103077</td>\n",
       "      <td>0.187692</td>\n",
       "      <td>0.225385</td>\n",
       "      <td>0.247692</td>\n",
       "      <td>0.449231</td>\n",
       "      <td>0.306154</td>\n",
       "      <td>-0.149231</td>\n",
       "      <td>-0.097692</td>\n",
       "      <td>0.577692</td>\n",
       "      <td>-0.180000</td>\n",
       "      <td>0.073077</td>\n",
       "      <td>-0.158462</td>\n",
       "      <td>0.555385</td>\n",
       "      <td>-0.006154</td>\n",
       "      <td>0.364615</td>\n",
       "      <td>-0.033846</td>\n",
       "      <td>27</td>\n",
       "    </tr>\n",
       "  </tbody>\n",
       "</table>\n",
       "</div>"
      ],
      "text/plain": [
       "             goals_z      xg_z  crosses_z  boxtouches_z  passes_z  \\\n",
       "Scotland82  0.724615  0.216154   0.162308      0.543077  0.106154   \n",
       "Scotland86 -0.235385 -0.176154   0.450769      0.628462  0.112308   \n",
       "Scotland90 -0.063077  0.332308   0.383846      0.306154 -0.310769   \n",
       "Scotland98 -0.103077  0.187692   0.225385      0.247692  0.449231   \n",
       "\n",
       "            progpasses_z  takeons_z  progruns_z  tackles_z  interceptions_z  \\\n",
       "Scotland82      0.170769  -0.110769   -0.146923  -0.592308         0.101538   \n",
       "Scotland86      0.389231  -0.335385   -0.196923   0.030769        -0.306154   \n",
       "Scotland90     -0.283846  -0.388462   -0.383077  -0.373846        -0.473846   \n",
       "Scotland98      0.306154  -0.149231   -0.097692   0.577692        -0.180000   \n",
       "\n",
       "            clearances_z  blocks_z  aerials_z   fouls_z  fouled_z    nsxg_z  \\\n",
       "Scotland82     -0.200000  0.498462   0.317692  0.038462 -0.234615  0.306154   \n",
       "Scotland86     -0.343077 -0.291538  -0.146154 -0.166923 -0.230000  0.233846   \n",
       "Scotland90     -0.273846 -0.309231   0.197692 -0.378462 -0.386154  0.280000   \n",
       "Scotland98      0.073077 -0.158462   0.555385 -0.006154  0.364615 -0.033846   \n",
       "\n",
       "            results  \n",
       "Scotland82       15  \n",
       "Scotland86       19  \n",
       "Scotland90       18  \n",
       "Scotland98       27  "
      ]
     },
     "execution_count": 643,
     "metadata": {},
     "output_type": "execute_result"
    }
   ],
   "source": [
    "df2"
   ]
  },
  {
   "cell_type": "code",
   "execution_count": 644,
   "metadata": {},
   "outputs": [],
   "source": [
    "# df2.to_csv('Scotland.csv')\n"
   ]
  },
  {
   "cell_type": "code",
   "execution_count": 459,
   "metadata": {},
   "outputs": [],
   "source": [
    "# 82 - 15      Scotland     6     3     1     1     1     8     8     0     3\n",
    "# 86 - 19      Scotland     E     3     0     1     2     1     3     −2     1\n",
    "# 90 - 18     C      Scotland     3     1     0     2     2     3     −1     2\n",
    "# 98 - 27      Scotland     A     3     0     1     2     2     6     −4     1\n"
   ]
  },
  {
   "cell_type": "markdown",
   "metadata": {},
   "source": [
    "# Romania"
   ]
  },
  {
   "cell_type": "markdown",
   "metadata": {},
   "source": [
    "## 90"
   ]
  },
  {
   "cell_type": "code",
   "execution_count": 460,
   "metadata": {},
   "outputs": [],
   "source": [
    "rom = ['Romania']"
   ]
  },
  {
   "cell_type": "code",
   "execution_count": 461,
   "metadata": {},
   "outputs": [],
   "source": [
    "rom_year = df.loc[df[\"team\"].isin(rom)]"
   ]
  },
  {
   "cell_type": "code",
   "execution_count": 462,
   "metadata": {},
   "outputs": [],
   "source": [
    "rom90year = rom_year.loc[rom_year[\"season\"].isin(year1990)]"
   ]
  },
  {
   "cell_type": "code",
   "execution_count": 463,
   "metadata": {},
   "outputs": [],
   "source": [
    "rom90xg = rom90year.sort_values(by=[\"goals_z\"], ascending=False)\n"
   ]
  },
  {
   "cell_type": "code",
   "execution_count": 464,
   "metadata": {},
   "outputs": [],
   "source": [
    "rom90xg13 = rom90xg.head(13)\n"
   ]
  },
  {
   "cell_type": "code",
   "execution_count": 465,
   "metadata": {},
   "outputs": [],
   "source": [
    "rom90xg13 = rom90xg13.drop(columns=['season', 'team'])\n"
   ]
  },
  {
   "cell_type": "code",
   "execution_count": 466,
   "metadata": {},
   "outputs": [],
   "source": [
    "rom90 = rom90xg13.mean()"
   ]
  },
  {
   "cell_type": "code",
   "execution_count": 467,
   "metadata": {},
   "outputs": [],
   "source": [
    "# rom90"
   ]
  },
  {
   "cell_type": "markdown",
   "metadata": {},
   "source": [
    "## 94"
   ]
  },
  {
   "cell_type": "code",
   "execution_count": 468,
   "metadata": {},
   "outputs": [],
   "source": [
    "rom94year = rom_year.loc[rom_year[\"season\"].isin(year1994)]"
   ]
  },
  {
   "cell_type": "code",
   "execution_count": 469,
   "metadata": {},
   "outputs": [],
   "source": [
    "rom94xg = rom94year.sort_values(by=[\"goals_z\"], ascending=False)\n"
   ]
  },
  {
   "cell_type": "code",
   "execution_count": 470,
   "metadata": {},
   "outputs": [],
   "source": [
    "rom94xg13 = rom94xg.head(13)\n"
   ]
  },
  {
   "cell_type": "code",
   "execution_count": 471,
   "metadata": {},
   "outputs": [],
   "source": [
    "rom94xg13 = rom94xg13.drop(columns=['season', 'team'])\n"
   ]
  },
  {
   "cell_type": "code",
   "execution_count": 472,
   "metadata": {},
   "outputs": [],
   "source": [
    "rom94 = rom94xg13.mean()"
   ]
  },
  {
   "cell_type": "code",
   "execution_count": 473,
   "metadata": {},
   "outputs": [],
   "source": [
    "# rom94"
   ]
  },
  {
   "cell_type": "markdown",
   "metadata": {},
   "source": [
    "## 98"
   ]
  },
  {
   "cell_type": "code",
   "execution_count": 474,
   "metadata": {},
   "outputs": [],
   "source": [
    "rom98year = rom_year.loc[rom_year[\"season\"].isin(year1998)]"
   ]
  },
  {
   "cell_type": "code",
   "execution_count": 475,
   "metadata": {},
   "outputs": [],
   "source": [
    "rom98xg = rom98year.sort_values(by=[\"goals_z\"], ascending=False)\n"
   ]
  },
  {
   "cell_type": "code",
   "execution_count": 476,
   "metadata": {},
   "outputs": [],
   "source": [
    "rom98xg13 = rom98xg.head(13)\n"
   ]
  },
  {
   "cell_type": "code",
   "execution_count": 477,
   "metadata": {},
   "outputs": [],
   "source": [
    "rom98xg13 = rom98xg13.drop(columns=['season', 'team'])\n"
   ]
  },
  {
   "cell_type": "code",
   "execution_count": 478,
   "metadata": {},
   "outputs": [],
   "source": [
    "rom98 = rom98xg13.mean()"
   ]
  },
  {
   "cell_type": "code",
   "execution_count": 479,
   "metadata": {},
   "outputs": [],
   "source": [
    "# rom98"
   ]
  },
  {
   "cell_type": "code",
   "execution_count": 645,
   "metadata": {},
   "outputs": [],
   "source": [
    "rom = pd.concat([rom90, rom94, rom98], axis=1).T\n"
   ]
  },
  {
   "cell_type": "code",
   "execution_count": 646,
   "metadata": {},
   "outputs": [],
   "source": [
    "rom.rename(index={0: 'Romania90', 1: 'Romania94', 2: 'Romania98'}, inplace=True)\n"
   ]
  },
  {
   "cell_type": "code",
   "execution_count": 647,
   "metadata": {},
   "outputs": [],
   "source": [
    "df2 = rom.assign(results=[12, 6, 11])\n"
   ]
  },
  {
   "cell_type": "code",
   "execution_count": 648,
   "metadata": {},
   "outputs": [
    {
     "data": {
      "text/html": [
       "<div>\n",
       "<style scoped>\n",
       "    .dataframe tbody tr th:only-of-type {\n",
       "        vertical-align: middle;\n",
       "    }\n",
       "\n",
       "    .dataframe tbody tr th {\n",
       "        vertical-align: top;\n",
       "    }\n",
       "\n",
       "    .dataframe thead th {\n",
       "        text-align: right;\n",
       "    }\n",
       "</style>\n",
       "<table border=\"1\" class=\"dataframe\">\n",
       "  <thead>\n",
       "    <tr style=\"text-align: right;\">\n",
       "      <th></th>\n",
       "      <th>goals_z</th>\n",
       "      <th>xg_z</th>\n",
       "      <th>crosses_z</th>\n",
       "      <th>boxtouches_z</th>\n",
       "      <th>passes_z</th>\n",
       "      <th>progpasses_z</th>\n",
       "      <th>takeons_z</th>\n",
       "      <th>progruns_z</th>\n",
       "      <th>tackles_z</th>\n",
       "      <th>interceptions_z</th>\n",
       "      <th>clearances_z</th>\n",
       "      <th>blocks_z</th>\n",
       "      <th>aerials_z</th>\n",
       "      <th>fouls_z</th>\n",
       "      <th>fouled_z</th>\n",
       "      <th>nsxg_z</th>\n",
       "      <th>results</th>\n",
       "    </tr>\n",
       "  </thead>\n",
       "  <tbody>\n",
       "    <tr>\n",
       "      <th>Romania90</th>\n",
       "      <td>0.073846</td>\n",
       "      <td>0.256154</td>\n",
       "      <td>0.146154</td>\n",
       "      <td>0.057692</td>\n",
       "      <td>0.596923</td>\n",
       "      <td>0.017692</td>\n",
       "      <td>0.834615</td>\n",
       "      <td>1.092308</td>\n",
       "      <td>0.728462</td>\n",
       "      <td>0.707692</td>\n",
       "      <td>0.046923</td>\n",
       "      <td>0.174615</td>\n",
       "      <td>-0.264615</td>\n",
       "      <td>0.137692</td>\n",
       "      <td>0.330769</td>\n",
       "      <td>-0.057692</td>\n",
       "      <td>12</td>\n",
       "    </tr>\n",
       "    <tr>\n",
       "      <th>Romania94</th>\n",
       "      <td>0.368462</td>\n",
       "      <td>-0.026923</td>\n",
       "      <td>-0.383846</td>\n",
       "      <td>-0.043077</td>\n",
       "      <td>0.126154</td>\n",
       "      <td>-0.176923</td>\n",
       "      <td>0.286154</td>\n",
       "      <td>0.561538</td>\n",
       "      <td>-0.301538</td>\n",
       "      <td>-0.452308</td>\n",
       "      <td>0.283846</td>\n",
       "      <td>-0.136923</td>\n",
       "      <td>0.116154</td>\n",
       "      <td>0.088462</td>\n",
       "      <td>0.215385</td>\n",
       "      <td>-0.274615</td>\n",
       "      <td>6</td>\n",
       "    </tr>\n",
       "    <tr>\n",
       "      <th>Romania98</th>\n",
       "      <td>0.054615</td>\n",
       "      <td>-0.135385</td>\n",
       "      <td>-0.401538</td>\n",
       "      <td>-0.163077</td>\n",
       "      <td>0.260000</td>\n",
       "      <td>-0.050769</td>\n",
       "      <td>-0.020000</td>\n",
       "      <td>0.347692</td>\n",
       "      <td>-0.180000</td>\n",
       "      <td>0.280000</td>\n",
       "      <td>-0.091538</td>\n",
       "      <td>-0.179231</td>\n",
       "      <td>-0.249231</td>\n",
       "      <td>-0.203077</td>\n",
       "      <td>-0.152308</td>\n",
       "      <td>-0.345385</td>\n",
       "      <td>11</td>\n",
       "    </tr>\n",
       "  </tbody>\n",
       "</table>\n",
       "</div>"
      ],
      "text/plain": [
       "            goals_z      xg_z  crosses_z  boxtouches_z  passes_z  \\\n",
       "Romania90  0.073846  0.256154   0.146154      0.057692  0.596923   \n",
       "Romania94  0.368462 -0.026923  -0.383846     -0.043077  0.126154   \n",
       "Romania98  0.054615 -0.135385  -0.401538     -0.163077  0.260000   \n",
       "\n",
       "           progpasses_z  takeons_z  progruns_z  tackles_z  interceptions_z  \\\n",
       "Romania90      0.017692   0.834615    1.092308   0.728462         0.707692   \n",
       "Romania94     -0.176923   0.286154    0.561538  -0.301538        -0.452308   \n",
       "Romania98     -0.050769  -0.020000    0.347692  -0.180000         0.280000   \n",
       "\n",
       "           clearances_z  blocks_z  aerials_z   fouls_z  fouled_z    nsxg_z  \\\n",
       "Romania90      0.046923  0.174615  -0.264615  0.137692  0.330769 -0.057692   \n",
       "Romania94      0.283846 -0.136923   0.116154  0.088462  0.215385 -0.274615   \n",
       "Romania98     -0.091538 -0.179231  -0.249231 -0.203077 -0.152308 -0.345385   \n",
       "\n",
       "           results  \n",
       "Romania90       12  \n",
       "Romania94        6  \n",
       "Romania98       11  "
      ]
     },
     "execution_count": 648,
     "metadata": {},
     "output_type": "execute_result"
    }
   ],
   "source": [
    "df2"
   ]
  },
  {
   "cell_type": "code",
   "execution_count": 649,
   "metadata": {},
   "outputs": [],
   "source": [
    "# df2.to_csv('Romania.csv')\n"
   ]
  },
  {
   "cell_type": "code",
   "execution_count": 484,
   "metadata": {},
   "outputs": [],
   "source": [
    "# 90 - 12     B      Romania     4     1     2     1     4     3     +1     4\n",
    "# 94 - 6      Romania     A     5     3     1     1     10     9     +1     10\n",
    "# 98 - 11      Romania     G     4     2     1     1     4     3     +1     7\n"
   ]
  },
  {
   "cell_type": "markdown",
   "metadata": {},
   "source": [
    "# Greece"
   ]
  },
  {
   "cell_type": "code",
   "execution_count": 485,
   "metadata": {},
   "outputs": [],
   "source": [
    "gre = ['Greece']\n",
    "\n"
   ]
  },
  {
   "cell_type": "code",
   "execution_count": 486,
   "metadata": {},
   "outputs": [],
   "source": [
    "gre_year = df.loc[df[\"team\"].isin(gre)]\n",
    "\n",
    "\n"
   ]
  },
  {
   "cell_type": "markdown",
   "metadata": {},
   "source": [
    "## 94"
   ]
  },
  {
   "cell_type": "code",
   "execution_count": 487,
   "metadata": {},
   "outputs": [],
   "source": [
    "gre94year = gre_year.loc[gre_year[\"season\"].isin(year1994)]\n"
   ]
  },
  {
   "cell_type": "code",
   "execution_count": 488,
   "metadata": {},
   "outputs": [],
   "source": [
    "gre94xg = gre94year.sort_values(by=[\"goals_z\"], ascending=False)\n"
   ]
  },
  {
   "cell_type": "code",
   "execution_count": 489,
   "metadata": {},
   "outputs": [],
   "source": [
    "gre94xg13 = gre94xg.head(13)\n"
   ]
  },
  {
   "cell_type": "code",
   "execution_count": 490,
   "metadata": {},
   "outputs": [],
   "source": [
    "gre94xg13 = gre94xg13.drop(columns=['season', 'team'])\n"
   ]
  },
  {
   "cell_type": "code",
   "execution_count": 491,
   "metadata": {},
   "outputs": [],
   "source": [
    "gre94 = gre94xg13.mean()"
   ]
  },
  {
   "cell_type": "code",
   "execution_count": 492,
   "metadata": {},
   "outputs": [],
   "source": [
    "# gre94"
   ]
  },
  {
   "cell_type": "markdown",
   "metadata": {},
   "source": [
    "## 10"
   ]
  },
  {
   "cell_type": "code",
   "execution_count": 493,
   "metadata": {},
   "outputs": [],
   "source": [
    "gre10year = gre_year.loc[gre_year[\"season\"].isin(year2010)]\n"
   ]
  },
  {
   "cell_type": "code",
   "execution_count": 494,
   "metadata": {},
   "outputs": [],
   "source": [
    "gre10xg = gre10year.sort_values(by=[\"goals_z\"], ascending=False)\n"
   ]
  },
  {
   "cell_type": "code",
   "execution_count": 495,
   "metadata": {},
   "outputs": [],
   "source": [
    "gre10xg13 = gre10xg.head(13)\n"
   ]
  },
  {
   "cell_type": "code",
   "execution_count": 496,
   "metadata": {},
   "outputs": [],
   "source": [
    "gre10xg13 = gre10xg13.drop(columns=['season', 'team'])\n"
   ]
  },
  {
   "cell_type": "code",
   "execution_count": 497,
   "metadata": {},
   "outputs": [],
   "source": [
    "gre10 = gre10xg13.mean()"
   ]
  },
  {
   "cell_type": "code",
   "execution_count": 498,
   "metadata": {},
   "outputs": [],
   "source": [
    "# gre10"
   ]
  },
  {
   "cell_type": "markdown",
   "metadata": {},
   "source": [
    "## 14"
   ]
  },
  {
   "cell_type": "code",
   "execution_count": 499,
   "metadata": {},
   "outputs": [],
   "source": [
    "gre14year = gre_year.loc[gre_year[\"season\"].isin(year2014)]\n"
   ]
  },
  {
   "cell_type": "code",
   "execution_count": 500,
   "metadata": {},
   "outputs": [],
   "source": [
    "gre14xg = gre14year.sort_values(by=[\"goals_z\"], ascending=False)\n"
   ]
  },
  {
   "cell_type": "code",
   "execution_count": 501,
   "metadata": {},
   "outputs": [],
   "source": [
    "gre14xg13 = gre14xg.head(13)\n"
   ]
  },
  {
   "cell_type": "code",
   "execution_count": 502,
   "metadata": {},
   "outputs": [],
   "source": [
    "gre14xg13 = gre14xg13.drop(columns=['season', 'team'])\n"
   ]
  },
  {
   "cell_type": "code",
   "execution_count": 503,
   "metadata": {},
   "outputs": [],
   "source": [
    "gre14 = gre14xg13.mean()"
   ]
  },
  {
   "cell_type": "code",
   "execution_count": 504,
   "metadata": {},
   "outputs": [],
   "source": [
    "# gre14"
   ]
  },
  {
   "cell_type": "code",
   "execution_count": 650,
   "metadata": {},
   "outputs": [],
   "source": [
    "gre = pd.concat([gre94, gre10, gre14], axis=1).T\n"
   ]
  },
  {
   "cell_type": "code",
   "execution_count": 651,
   "metadata": {},
   "outputs": [],
   "source": [
    "gre.rename(index={0: 'Greece94', 1: 'Greece10', 2: 'Greece10'}, inplace=True)\n"
   ]
  },
  {
   "cell_type": "code",
   "execution_count": 652,
   "metadata": {},
   "outputs": [],
   "source": [
    "df2 = gre.assign(results=[24, 25, 14])\n"
   ]
  },
  {
   "cell_type": "code",
   "execution_count": 653,
   "metadata": {},
   "outputs": [
    {
     "data": {
      "text/html": [
       "<div>\n",
       "<style scoped>\n",
       "    .dataframe tbody tr th:only-of-type {\n",
       "        vertical-align: middle;\n",
       "    }\n",
       "\n",
       "    .dataframe tbody tr th {\n",
       "        vertical-align: top;\n",
       "    }\n",
       "\n",
       "    .dataframe thead th {\n",
       "        text-align: right;\n",
       "    }\n",
       "</style>\n",
       "<table border=\"1\" class=\"dataframe\">\n",
       "  <thead>\n",
       "    <tr style=\"text-align: right;\">\n",
       "      <th></th>\n",
       "      <th>goals_z</th>\n",
       "      <th>xg_z</th>\n",
       "      <th>crosses_z</th>\n",
       "      <th>boxtouches_z</th>\n",
       "      <th>passes_z</th>\n",
       "      <th>progpasses_z</th>\n",
       "      <th>takeons_z</th>\n",
       "      <th>progruns_z</th>\n",
       "      <th>tackles_z</th>\n",
       "      <th>interceptions_z</th>\n",
       "      <th>clearances_z</th>\n",
       "      <th>blocks_z</th>\n",
       "      <th>aerials_z</th>\n",
       "      <th>fouls_z</th>\n",
       "      <th>fouled_z</th>\n",
       "      <th>nsxg_z</th>\n",
       "      <th>results</th>\n",
       "    </tr>\n",
       "  </thead>\n",
       "  <tbody>\n",
       "    <tr>\n",
       "      <th>Greece94</th>\n",
       "      <td>-0.390000</td>\n",
       "      <td>-0.233077</td>\n",
       "      <td>0.611538</td>\n",
       "      <td>-0.166923</td>\n",
       "      <td>-0.031538</td>\n",
       "      <td>-0.073846</td>\n",
       "      <td>0.014615</td>\n",
       "      <td>-0.071538</td>\n",
       "      <td>0.070769</td>\n",
       "      <td>0.356923</td>\n",
       "      <td>-0.239231</td>\n",
       "      <td>0.000769</td>\n",
       "      <td>-0.353846</td>\n",
       "      <td>-0.232308</td>\n",
       "      <td>0.316923</td>\n",
       "      <td>0.033846</td>\n",
       "      <td>24</td>\n",
       "    </tr>\n",
       "    <tr>\n",
       "      <th>Greece10</th>\n",
       "      <td>-0.044615</td>\n",
       "      <td>-0.088462</td>\n",
       "      <td>-0.243846</td>\n",
       "      <td>-0.145385</td>\n",
       "      <td>-0.483077</td>\n",
       "      <td>-0.300000</td>\n",
       "      <td>-0.387692</td>\n",
       "      <td>-0.223846</td>\n",
       "      <td>-0.335385</td>\n",
       "      <td>-0.536923</td>\n",
       "      <td>-0.061538</td>\n",
       "      <td>0.146154</td>\n",
       "      <td>-0.216923</td>\n",
       "      <td>-0.346154</td>\n",
       "      <td>-0.499231</td>\n",
       "      <td>-0.237692</td>\n",
       "      <td>25</td>\n",
       "    </tr>\n",
       "    <tr>\n",
       "      <th>Greece10</th>\n",
       "      <td>-0.079231</td>\n",
       "      <td>0.183077</td>\n",
       "      <td>-0.057692</td>\n",
       "      <td>-0.002308</td>\n",
       "      <td>-0.375385</td>\n",
       "      <td>-0.282308</td>\n",
       "      <td>0.193077</td>\n",
       "      <td>0.256154</td>\n",
       "      <td>-0.110000</td>\n",
       "      <td>-0.392308</td>\n",
       "      <td>-0.079231</td>\n",
       "      <td>-0.342308</td>\n",
       "      <td>0.273846</td>\n",
       "      <td>-0.100769</td>\n",
       "      <td>0.383846</td>\n",
       "      <td>-0.163077</td>\n",
       "      <td>14</td>\n",
       "    </tr>\n",
       "  </tbody>\n",
       "</table>\n",
       "</div>"
      ],
      "text/plain": [
       "           goals_z      xg_z  crosses_z  boxtouches_z  passes_z  progpasses_z  \\\n",
       "Greece94 -0.390000 -0.233077   0.611538     -0.166923 -0.031538     -0.073846   \n",
       "Greece10 -0.044615 -0.088462  -0.243846     -0.145385 -0.483077     -0.300000   \n",
       "Greece10 -0.079231  0.183077  -0.057692     -0.002308 -0.375385     -0.282308   \n",
       "\n",
       "          takeons_z  progruns_z  tackles_z  interceptions_z  clearances_z  \\\n",
       "Greece94   0.014615   -0.071538   0.070769         0.356923     -0.239231   \n",
       "Greece10  -0.387692   -0.223846  -0.335385        -0.536923     -0.061538   \n",
       "Greece10   0.193077    0.256154  -0.110000        -0.392308     -0.079231   \n",
       "\n",
       "          blocks_z  aerials_z   fouls_z  fouled_z    nsxg_z  results  \n",
       "Greece94  0.000769  -0.353846 -0.232308  0.316923  0.033846       24  \n",
       "Greece10  0.146154  -0.216923 -0.346154 -0.499231 -0.237692       25  \n",
       "Greece10 -0.342308   0.273846 -0.100769  0.383846 -0.163077       14  "
      ]
     },
     "execution_count": 653,
     "metadata": {},
     "output_type": "execute_result"
    }
   ],
   "source": [
    "df2"
   ]
  },
  {
   "cell_type": "code",
   "execution_count": 654,
   "metadata": {},
   "outputs": [],
   "source": [
    "# df2.to_csv('Greece.csv')\n"
   ]
  },
  {
   "cell_type": "code",
   "execution_count": 509,
   "metadata": {},
   "outputs": [],
   "source": [
    "# 94 - 24      Greece     D     3     0     0     3     0     10     −10     0\n",
    "# 10 - 25      Greece     B     3     1     0     2     2     5     −3     3\n",
    "# 14 - 13      Greece     C     4     1     2     1     5     3     5     −2\n"
   ]
  },
  {
   "cell_type": "markdown",
   "metadata": {},
   "source": [
    "# Honduras"
   ]
  },
  {
   "cell_type": "code",
   "execution_count": 510,
   "metadata": {},
   "outputs": [],
   "source": [
    "hon = ['Honduras']"
   ]
  },
  {
   "cell_type": "code",
   "execution_count": 511,
   "metadata": {},
   "outputs": [],
   "source": [
    "hon_year = df.loc[df[\"team\"].isin(hon)]"
   ]
  },
  {
   "cell_type": "markdown",
   "metadata": {},
   "source": [
    "## 82"
   ]
  },
  {
   "cell_type": "code",
   "execution_count": 512,
   "metadata": {},
   "outputs": [],
   "source": [
    "hon82year = hon_year.loc[hon_year[\"season\"].isin(year1982)]\n"
   ]
  },
  {
   "cell_type": "code",
   "execution_count": 513,
   "metadata": {},
   "outputs": [],
   "source": [
    "hon82xg = hon82year.sort_values(by=[\"goals_z\"], ascending=False)\n"
   ]
  },
  {
   "cell_type": "code",
   "execution_count": 514,
   "metadata": {},
   "outputs": [],
   "source": [
    "hon82xg13 = hon82xg.head(13)\n"
   ]
  },
  {
   "cell_type": "code",
   "execution_count": 515,
   "metadata": {},
   "outputs": [],
   "source": [
    "hon82xg13 = hon82xg13.drop(columns=['season', 'team'])\n"
   ]
  },
  {
   "cell_type": "code",
   "execution_count": 516,
   "metadata": {},
   "outputs": [],
   "source": [
    "hon82 = hon82xg13.mean()"
   ]
  },
  {
   "cell_type": "code",
   "execution_count": 517,
   "metadata": {},
   "outputs": [],
   "source": [
    "# hon82"
   ]
  },
  {
   "cell_type": "markdown",
   "metadata": {},
   "source": [
    "## 10"
   ]
  },
  {
   "cell_type": "code",
   "execution_count": 518,
   "metadata": {},
   "outputs": [],
   "source": [
    "hon10year = hon_year.loc[hon_year[\"season\"].isin(year2010)]\n"
   ]
  },
  {
   "cell_type": "code",
   "execution_count": 519,
   "metadata": {},
   "outputs": [],
   "source": [
    "hon10xg = hon10year.sort_values(by=[\"goals_z\"], ascending=False)\n"
   ]
  },
  {
   "cell_type": "code",
   "execution_count": 520,
   "metadata": {},
   "outputs": [],
   "source": [
    "hon10xg13 = hon10xg.head(13)\n"
   ]
  },
  {
   "cell_type": "code",
   "execution_count": 521,
   "metadata": {},
   "outputs": [],
   "source": [
    "hon10xg13 = hon10xg13.drop(columns=['season', 'team'])\n"
   ]
  },
  {
   "cell_type": "code",
   "execution_count": 522,
   "metadata": {},
   "outputs": [],
   "source": [
    "hon10 = hon10xg13.mean()"
   ]
  },
  {
   "cell_type": "code",
   "execution_count": 523,
   "metadata": {},
   "outputs": [],
   "source": [
    "# hon10"
   ]
  },
  {
   "cell_type": "markdown",
   "metadata": {},
   "source": [
    "## 14"
   ]
  },
  {
   "cell_type": "code",
   "execution_count": 524,
   "metadata": {},
   "outputs": [],
   "source": [
    "hon14year = hon_year.loc[hon_year[\"season\"].isin(year2014)]\n"
   ]
  },
  {
   "cell_type": "code",
   "execution_count": 525,
   "metadata": {},
   "outputs": [],
   "source": [
    "hon14xg = hon14year.sort_values(by=[\"goals_z\"], ascending=False)\n"
   ]
  },
  {
   "cell_type": "code",
   "execution_count": 526,
   "metadata": {},
   "outputs": [],
   "source": [
    "hon14xg13 = hon14xg.head(13)\n"
   ]
  },
  {
   "cell_type": "code",
   "execution_count": 527,
   "metadata": {},
   "outputs": [],
   "source": [
    "hon14xg13 = hon14xg13.drop(columns=['season', 'team'])\n"
   ]
  },
  {
   "cell_type": "code",
   "execution_count": 528,
   "metadata": {},
   "outputs": [],
   "source": [
    "hon14 = hon14xg13.mean()"
   ]
  },
  {
   "cell_type": "code",
   "execution_count": 529,
   "metadata": {},
   "outputs": [],
   "source": [
    "# hon14"
   ]
  },
  {
   "cell_type": "code",
   "execution_count": 655,
   "metadata": {},
   "outputs": [],
   "source": [
    "hon = pd.concat([hon82, hon10, hon14], axis=1).T\n"
   ]
  },
  {
   "cell_type": "code",
   "execution_count": 656,
   "metadata": {},
   "outputs": [],
   "source": [
    "hon.rename(index={0: 'Honduras82', 1: 'Honduras10', 2: 'Honduras14'}, inplace=True)\n"
   ]
  },
  {
   "cell_type": "code",
   "execution_count": 657,
   "metadata": {},
   "outputs": [],
   "source": [
    "df2 = hon.assign(results=[18, 30, 14])\n"
   ]
  },
  {
   "cell_type": "code",
   "execution_count": 658,
   "metadata": {},
   "outputs": [
    {
     "data": {
      "text/html": [
       "<div>\n",
       "<style scoped>\n",
       "    .dataframe tbody tr th:only-of-type {\n",
       "        vertical-align: middle;\n",
       "    }\n",
       "\n",
       "    .dataframe tbody tr th {\n",
       "        vertical-align: top;\n",
       "    }\n",
       "\n",
       "    .dataframe thead th {\n",
       "        text-align: right;\n",
       "    }\n",
       "</style>\n",
       "<table border=\"1\" class=\"dataframe\">\n",
       "  <thead>\n",
       "    <tr style=\"text-align: right;\">\n",
       "      <th></th>\n",
       "      <th>goals_z</th>\n",
       "      <th>xg_z</th>\n",
       "      <th>crosses_z</th>\n",
       "      <th>boxtouches_z</th>\n",
       "      <th>passes_z</th>\n",
       "      <th>progpasses_z</th>\n",
       "      <th>takeons_z</th>\n",
       "      <th>progruns_z</th>\n",
       "      <th>tackles_z</th>\n",
       "      <th>interceptions_z</th>\n",
       "      <th>clearances_z</th>\n",
       "      <th>blocks_z</th>\n",
       "      <th>aerials_z</th>\n",
       "      <th>fouls_z</th>\n",
       "      <th>fouled_z</th>\n",
       "      <th>nsxg_z</th>\n",
       "      <th>results</th>\n",
       "    </tr>\n",
       "  </thead>\n",
       "  <tbody>\n",
       "    <tr>\n",
       "      <th>Honduras82</th>\n",
       "      <td>-0.193846</td>\n",
       "      <td>-0.260769</td>\n",
       "      <td>-0.409231</td>\n",
       "      <td>-0.447692</td>\n",
       "      <td>-0.186923</td>\n",
       "      <td>-0.293846</td>\n",
       "      <td>0.176154</td>\n",
       "      <td>-0.303077</td>\n",
       "      <td>-0.043846</td>\n",
       "      <td>0.101538</td>\n",
       "      <td>0.713846</td>\n",
       "      <td>-0.113846</td>\n",
       "      <td>0.417692</td>\n",
       "      <td>-0.245385</td>\n",
       "      <td>-0.209231</td>\n",
       "      <td>-0.387692</td>\n",
       "      <td>18</td>\n",
       "    </tr>\n",
       "    <tr>\n",
       "      <th>Honduras10</th>\n",
       "      <td>-0.400000</td>\n",
       "      <td>-0.466923</td>\n",
       "      <td>-0.353846</td>\n",
       "      <td>-0.634615</td>\n",
       "      <td>-0.516923</td>\n",
       "      <td>-0.090769</td>\n",
       "      <td>-0.300769</td>\n",
       "      <td>-0.359231</td>\n",
       "      <td>-0.571538</td>\n",
       "      <td>-0.513846</td>\n",
       "      <td>0.177692</td>\n",
       "      <td>0.046154</td>\n",
       "      <td>-0.079231</td>\n",
       "      <td>-0.191538</td>\n",
       "      <td>-0.210769</td>\n",
       "      <td>-0.699231</td>\n",
       "      <td>30</td>\n",
       "    </tr>\n",
       "    <tr>\n",
       "      <th>Honduras14</th>\n",
       "      <td>-0.261538</td>\n",
       "      <td>-0.325385</td>\n",
       "      <td>-0.250000</td>\n",
       "      <td>-0.516154</td>\n",
       "      <td>-0.200769</td>\n",
       "      <td>-0.203846</td>\n",
       "      <td>-0.347692</td>\n",
       "      <td>-0.382308</td>\n",
       "      <td>-0.267692</td>\n",
       "      <td>0.140000</td>\n",
       "      <td>-0.116923</td>\n",
       "      <td>0.014615</td>\n",
       "      <td>0.049231</td>\n",
       "      <td>0.004615</td>\n",
       "      <td>0.135385</td>\n",
       "      <td>-0.274615</td>\n",
       "      <td>14</td>\n",
       "    </tr>\n",
       "  </tbody>\n",
       "</table>\n",
       "</div>"
      ],
      "text/plain": [
       "             goals_z      xg_z  crosses_z  boxtouches_z  passes_z  \\\n",
       "Honduras82 -0.193846 -0.260769  -0.409231     -0.447692 -0.186923   \n",
       "Honduras10 -0.400000 -0.466923  -0.353846     -0.634615 -0.516923   \n",
       "Honduras14 -0.261538 -0.325385  -0.250000     -0.516154 -0.200769   \n",
       "\n",
       "            progpasses_z  takeons_z  progruns_z  tackles_z  interceptions_z  \\\n",
       "Honduras82     -0.293846   0.176154   -0.303077  -0.043846         0.101538   \n",
       "Honduras10     -0.090769  -0.300769   -0.359231  -0.571538        -0.513846   \n",
       "Honduras14     -0.203846  -0.347692   -0.382308  -0.267692         0.140000   \n",
       "\n",
       "            clearances_z  blocks_z  aerials_z   fouls_z  fouled_z    nsxg_z  \\\n",
       "Honduras82      0.713846 -0.113846   0.417692 -0.245385 -0.209231 -0.387692   \n",
       "Honduras10      0.177692  0.046154  -0.079231 -0.191538 -0.210769 -0.699231   \n",
       "Honduras14     -0.116923  0.014615   0.049231  0.004615  0.135385 -0.274615   \n",
       "\n",
       "            results  \n",
       "Honduras82       18  \n",
       "Honduras10       30  \n",
       "Honduras14       14  "
      ]
     },
     "execution_count": 658,
     "metadata": {},
     "output_type": "execute_result"
    }
   ],
   "source": [
    "df2"
   ]
  },
  {
   "cell_type": "code",
   "execution_count": 659,
   "metadata": {},
   "outputs": [],
   "source": [
    "# df2.to_csv('Honduras.csv')\n"
   ]
  },
  {
   "cell_type": "code",
   "execution_count": 534,
   "metadata": {},
   "outputs": [],
   "source": [
    "# 82 - 18      Honduras     5     3     0     2     1     2     3     −1     2\n",
    "# 10 - 30      Honduras     H     3     0     1     2     0     3     −3     1\n",
    "# 14 - 31      Honduras     E     3     0     0     3     0     1     8     −7\n"
   ]
  },
  {
   "cell_type": "markdown",
   "metadata": {},
   "source": [
    "# Austria "
   ]
  },
  {
   "cell_type": "code",
   "execution_count": 535,
   "metadata": {},
   "outputs": [],
   "source": [
    "aus = ['Austria']"
   ]
  },
  {
   "cell_type": "code",
   "execution_count": 536,
   "metadata": {},
   "outputs": [],
   "source": [
    "aus_year = df.loc[df[\"team\"].isin(aus)]"
   ]
  },
  {
   "cell_type": "markdown",
   "metadata": {},
   "source": [
    "## 82"
   ]
  },
  {
   "cell_type": "code",
   "execution_count": 537,
   "metadata": {},
   "outputs": [],
   "source": [
    "aus82year = aus_year.loc[aus_year[\"season\"].isin(year1982)]"
   ]
  },
  {
   "cell_type": "code",
   "execution_count": 538,
   "metadata": {},
   "outputs": [],
   "source": [
    "aus82xg = aus82year.sort_values(by=[\"goals_z\"], ascending=False)"
   ]
  },
  {
   "cell_type": "code",
   "execution_count": 539,
   "metadata": {},
   "outputs": [],
   "source": [
    "aus82xg13 = aus82xg.head(13)"
   ]
  },
  {
   "cell_type": "code",
   "execution_count": 540,
   "metadata": {},
   "outputs": [],
   "source": [
    "aus82xg13 = aus82xg13.drop(columns=['season', 'team'])"
   ]
  },
  {
   "cell_type": "code",
   "execution_count": 541,
   "metadata": {},
   "outputs": [],
   "source": [
    "aus82 = aus82xg13.mean()"
   ]
  },
  {
   "cell_type": "code",
   "execution_count": 542,
   "metadata": {},
   "outputs": [],
   "source": [
    "# aus82"
   ]
  },
  {
   "cell_type": "markdown",
   "metadata": {},
   "source": [
    "## 90"
   ]
  },
  {
   "cell_type": "code",
   "execution_count": 543,
   "metadata": {},
   "outputs": [],
   "source": [
    "aus90year = aus_year.loc[aus_year[\"season\"].isin(year1990)]"
   ]
  },
  {
   "cell_type": "code",
   "execution_count": 544,
   "metadata": {},
   "outputs": [],
   "source": [
    "aus90xg = aus90year.sort_values(by=[\"goals_z\"], ascending=False)"
   ]
  },
  {
   "cell_type": "code",
   "execution_count": 545,
   "metadata": {},
   "outputs": [],
   "source": [
    "aus90xg13 = aus90xg.head(13)"
   ]
  },
  {
   "cell_type": "code",
   "execution_count": 546,
   "metadata": {},
   "outputs": [],
   "source": [
    "aus90xg13 = aus90xg13.drop(columns=['season', 'team'])"
   ]
  },
  {
   "cell_type": "code",
   "execution_count": 547,
   "metadata": {},
   "outputs": [],
   "source": [
    "aus90 = aus90xg13.mean()"
   ]
  },
  {
   "cell_type": "code",
   "execution_count": 548,
   "metadata": {},
   "outputs": [],
   "source": [
    "# aus90"
   ]
  },
  {
   "cell_type": "markdown",
   "metadata": {},
   "source": [
    "## 98"
   ]
  },
  {
   "cell_type": "code",
   "execution_count": 549,
   "metadata": {},
   "outputs": [],
   "source": [
    "aus98year = aus_year.loc[aus_year[\"season\"].isin(year1998)]"
   ]
  },
  {
   "cell_type": "code",
   "execution_count": 550,
   "metadata": {},
   "outputs": [],
   "source": [
    "aus98xg = aus98year.sort_values(by=[\"goals_z\"], ascending=False)"
   ]
  },
  {
   "cell_type": "code",
   "execution_count": 551,
   "metadata": {},
   "outputs": [],
   "source": [
    "aus98xg13 = aus98xg.head(13)"
   ]
  },
  {
   "cell_type": "code",
   "execution_count": 552,
   "metadata": {},
   "outputs": [],
   "source": [
    "aus98xg13 = aus98xg13.drop(columns=['season', 'team'])"
   ]
  },
  {
   "cell_type": "code",
   "execution_count": 553,
   "metadata": {},
   "outputs": [],
   "source": [
    "aus98 = aus98xg13.mean()"
   ]
  },
  {
   "cell_type": "code",
   "execution_count": 554,
   "metadata": {},
   "outputs": [],
   "source": [
    "# aus98"
   ]
  },
  {
   "cell_type": "code",
   "execution_count": 660,
   "metadata": {},
   "outputs": [],
   "source": [
    "aus = pd.concat([aus82, aus90, aus98], axis=1).T\n"
   ]
  },
  {
   "cell_type": "code",
   "execution_count": 661,
   "metadata": {},
   "outputs": [],
   "source": [
    "aus.rename(index={0: 'Austria82', 1: 'Austria90', 2: 'Austria98'}, inplace=True)\n"
   ]
  },
  {
   "cell_type": "code",
   "execution_count": 662,
   "metadata": {},
   "outputs": [],
   "source": [
    "df2 = aus.assign(results=[8, 18, 23])\n"
   ]
  },
  {
   "cell_type": "code",
   "execution_count": 663,
   "metadata": {},
   "outputs": [
    {
     "data": {
      "text/html": [
       "<div>\n",
       "<style scoped>\n",
       "    .dataframe tbody tr th:only-of-type {\n",
       "        vertical-align: middle;\n",
       "    }\n",
       "\n",
       "    .dataframe tbody tr th {\n",
       "        vertical-align: top;\n",
       "    }\n",
       "\n",
       "    .dataframe thead th {\n",
       "        text-align: right;\n",
       "    }\n",
       "</style>\n",
       "<table border=\"1\" class=\"dataframe\">\n",
       "  <thead>\n",
       "    <tr style=\"text-align: right;\">\n",
       "      <th></th>\n",
       "      <th>goals_z</th>\n",
       "      <th>xg_z</th>\n",
       "      <th>crosses_z</th>\n",
       "      <th>boxtouches_z</th>\n",
       "      <th>passes_z</th>\n",
       "      <th>progpasses_z</th>\n",
       "      <th>takeons_z</th>\n",
       "      <th>progruns_z</th>\n",
       "      <th>tackles_z</th>\n",
       "      <th>interceptions_z</th>\n",
       "      <th>clearances_z</th>\n",
       "      <th>blocks_z</th>\n",
       "      <th>aerials_z</th>\n",
       "      <th>fouls_z</th>\n",
       "      <th>fouled_z</th>\n",
       "      <th>nsxg_z</th>\n",
       "      <th>results</th>\n",
       "    </tr>\n",
       "  </thead>\n",
       "  <tbody>\n",
       "    <tr>\n",
       "      <th>Austria82</th>\n",
       "      <td>-0.041538</td>\n",
       "      <td>-0.217692</td>\n",
       "      <td>-0.228462</td>\n",
       "      <td>-0.214615</td>\n",
       "      <td>-0.070000</td>\n",
       "      <td>-0.189231</td>\n",
       "      <td>-0.183846</td>\n",
       "      <td>0.176154</td>\n",
       "      <td>0.179231</td>\n",
       "      <td>-0.228462</td>\n",
       "      <td>-0.302308</td>\n",
       "      <td>0.017692</td>\n",
       "      <td>-0.436154</td>\n",
       "      <td>-0.205385</td>\n",
       "      <td>-0.125385</td>\n",
       "      <td>-0.297692</td>\n",
       "      <td>8</td>\n",
       "    </tr>\n",
       "    <tr>\n",
       "      <th>Austria90</th>\n",
       "      <td>-0.063077</td>\n",
       "      <td>-0.063846</td>\n",
       "      <td>-0.247692</td>\n",
       "      <td>-0.251538</td>\n",
       "      <td>-0.394615</td>\n",
       "      <td>-0.180769</td>\n",
       "      <td>0.047692</td>\n",
       "      <td>0.385385</td>\n",
       "      <td>-0.243846</td>\n",
       "      <td>-0.183077</td>\n",
       "      <td>-0.096154</td>\n",
       "      <td>0.274615</td>\n",
       "      <td>-0.294615</td>\n",
       "      <td>-0.045385</td>\n",
       "      <td>0.120000</td>\n",
       "      <td>-0.253846</td>\n",
       "      <td>18</td>\n",
       "    </tr>\n",
       "    <tr>\n",
       "      <th>Austria98</th>\n",
       "      <td>0.055385</td>\n",
       "      <td>0.210769</td>\n",
       "      <td>0.176154</td>\n",
       "      <td>0.278462</td>\n",
       "      <td>-0.143846</td>\n",
       "      <td>-0.077692</td>\n",
       "      <td>-0.223077</td>\n",
       "      <td>-0.315385</td>\n",
       "      <td>0.083077</td>\n",
       "      <td>0.190769</td>\n",
       "      <td>-0.157692</td>\n",
       "      <td>0.073846</td>\n",
       "      <td>0.332308</td>\n",
       "      <td>0.466154</td>\n",
       "      <td>0.068462</td>\n",
       "      <td>0.133846</td>\n",
       "      <td>23</td>\n",
       "    </tr>\n",
       "  </tbody>\n",
       "</table>\n",
       "</div>"
      ],
      "text/plain": [
       "            goals_z      xg_z  crosses_z  boxtouches_z  passes_z  \\\n",
       "Austria82 -0.041538 -0.217692  -0.228462     -0.214615 -0.070000   \n",
       "Austria90 -0.063077 -0.063846  -0.247692     -0.251538 -0.394615   \n",
       "Austria98  0.055385  0.210769   0.176154      0.278462 -0.143846   \n",
       "\n",
       "           progpasses_z  takeons_z  progruns_z  tackles_z  interceptions_z  \\\n",
       "Austria82     -0.189231  -0.183846    0.176154   0.179231        -0.228462   \n",
       "Austria90     -0.180769   0.047692    0.385385  -0.243846        -0.183077   \n",
       "Austria98     -0.077692  -0.223077   -0.315385   0.083077         0.190769   \n",
       "\n",
       "           clearances_z  blocks_z  aerials_z   fouls_z  fouled_z    nsxg_z  \\\n",
       "Austria82     -0.302308  0.017692  -0.436154 -0.205385 -0.125385 -0.297692   \n",
       "Austria90     -0.096154  0.274615  -0.294615 -0.045385  0.120000 -0.253846   \n",
       "Austria98     -0.157692  0.073846   0.332308  0.466154  0.068462  0.133846   \n",
       "\n",
       "           results  \n",
       "Austria82        8  \n",
       "Austria90       18  \n",
       "Austria98       23  "
      ]
     },
     "execution_count": 663,
     "metadata": {},
     "output_type": "execute_result"
    }
   ],
   "source": [
    "df2"
   ]
  },
  {
   "cell_type": "code",
   "execution_count": 664,
   "metadata": {},
   "outputs": [],
   "source": [
    "# df2.to_csv('Austria.csv')\n"
   ]
  },
  {
   "cell_type": "code",
   "execution_count": 559,
   "metadata": {},
   "outputs": [],
   "source": [
    "# 82 - 8      Austria     2/D     5     2     1     2     5     4     +1     5\n",
    "# 90 - 18     A      Austria     3     1     0     2     2     3     −1     2\n",
    "# 98 - 23      Austria     B     3     0     2     1     3     4     −1     2\n"
   ]
  },
  {
   "cell_type": "markdown",
   "metadata": {},
   "source": [
    "# Bulgaria"
   ]
  },
  {
   "cell_type": "code",
   "execution_count": 560,
   "metadata": {},
   "outputs": [],
   "source": [
    "bul = ['Bulgaria']"
   ]
  },
  {
   "cell_type": "code",
   "execution_count": 561,
   "metadata": {},
   "outputs": [],
   "source": [
    "bul_year = df.loc[df[\"team\"].isin(bul)]"
   ]
  },
  {
   "cell_type": "markdown",
   "metadata": {},
   "source": [
    "## 86"
   ]
  },
  {
   "cell_type": "code",
   "execution_count": 562,
   "metadata": {},
   "outputs": [],
   "source": [
    "bul86year = bul_year.loc[bul_year[\"season\"].isin(year1986)]\n"
   ]
  },
  {
   "cell_type": "code",
   "execution_count": 563,
   "metadata": {},
   "outputs": [],
   "source": [
    "bul86xg = bul86year.sort_values(by=[\"goals_z\"], ascending=False)\n"
   ]
  },
  {
   "cell_type": "code",
   "execution_count": 564,
   "metadata": {},
   "outputs": [],
   "source": [
    "bul86xg13 = bul86xg.head(13)\n"
   ]
  },
  {
   "cell_type": "code",
   "execution_count": 565,
   "metadata": {},
   "outputs": [],
   "source": [
    "bul86xg13 = bul86xg13.drop(columns=['season', 'team'])\n"
   ]
  },
  {
   "cell_type": "code",
   "execution_count": 566,
   "metadata": {},
   "outputs": [],
   "source": [
    "bul86 = bul86xg13.mean()"
   ]
  },
  {
   "cell_type": "code",
   "execution_count": 567,
   "metadata": {},
   "outputs": [],
   "source": [
    "# bul86"
   ]
  },
  {
   "cell_type": "markdown",
   "metadata": {},
   "source": [
    "## 94"
   ]
  },
  {
   "cell_type": "code",
   "execution_count": 568,
   "metadata": {},
   "outputs": [],
   "source": [
    "bul94year = bul_year.loc[bul_year[\"season\"].isin(year1994)]\n"
   ]
  },
  {
   "cell_type": "code",
   "execution_count": 569,
   "metadata": {},
   "outputs": [],
   "source": [
    "bul94xg = bul94year.sort_values(by=[\"goals_z\"], ascending=False)\n"
   ]
  },
  {
   "cell_type": "code",
   "execution_count": 570,
   "metadata": {},
   "outputs": [],
   "source": [
    "bul94xg13 = bul94xg.head(13)\n"
   ]
  },
  {
   "cell_type": "code",
   "execution_count": 571,
   "metadata": {},
   "outputs": [],
   "source": [
    "bul94xg13 = bul94xg13.drop(columns=['season', 'team'])\n"
   ]
  },
  {
   "cell_type": "code",
   "execution_count": 572,
   "metadata": {},
   "outputs": [],
   "source": [
    "bul94 = bul94xg13.mean()"
   ]
  },
  {
   "cell_type": "code",
   "execution_count": 573,
   "metadata": {},
   "outputs": [],
   "source": [
    "# bul94"
   ]
  },
  {
   "cell_type": "markdown",
   "metadata": {},
   "source": [
    "## 98"
   ]
  },
  {
   "cell_type": "code",
   "execution_count": 574,
   "metadata": {},
   "outputs": [],
   "source": [
    "bul98year = bul_year.loc[bul_year[\"season\"].isin(year1998)]\n"
   ]
  },
  {
   "cell_type": "code",
   "execution_count": 575,
   "metadata": {},
   "outputs": [],
   "source": [
    "bul98xg = bul98year.sort_values(by=[\"goals_z\"], ascending=False)\n"
   ]
  },
  {
   "cell_type": "code",
   "execution_count": 576,
   "metadata": {},
   "outputs": [],
   "source": [
    "bul98xg13 = bul98xg.head(13)\n"
   ]
  },
  {
   "cell_type": "code",
   "execution_count": 577,
   "metadata": {},
   "outputs": [],
   "source": [
    "bul98xg13 = bul98xg13.drop(columns=['season', 'team'])\n"
   ]
  },
  {
   "cell_type": "code",
   "execution_count": 578,
   "metadata": {},
   "outputs": [],
   "source": [
    "bul98 = bul98xg13.mean()"
   ]
  },
  {
   "cell_type": "code",
   "execution_count": 579,
   "metadata": {},
   "outputs": [],
   "source": [
    "# bul98"
   ]
  },
  {
   "cell_type": "code",
   "execution_count": 665,
   "metadata": {},
   "outputs": [],
   "source": [
    "bul = pd.concat([bul86, bul94, bul98], axis=1).T\n"
   ]
  },
  {
   "cell_type": "code",
   "execution_count": 666,
   "metadata": {},
   "outputs": [],
   "source": [
    "bul.rename(index={0: 'Bulgaria86', 1: 'Bulgaria94', 2: 'Bulgaria98'}, inplace=True)\n"
   ]
  },
  {
   "cell_type": "code",
   "execution_count": 667,
   "metadata": {},
   "outputs": [],
   "source": [
    "df2 = bul.assign(results=[15, 4, 29])\n"
   ]
  },
  {
   "cell_type": "code",
   "execution_count": 668,
   "metadata": {},
   "outputs": [
    {
     "data": {
      "text/html": [
       "<div>\n",
       "<style scoped>\n",
       "    .dataframe tbody tr th:only-of-type {\n",
       "        vertical-align: middle;\n",
       "    }\n",
       "\n",
       "    .dataframe tbody tr th {\n",
       "        vertical-align: top;\n",
       "    }\n",
       "\n",
       "    .dataframe thead th {\n",
       "        text-align: right;\n",
       "    }\n",
       "</style>\n",
       "<table border=\"1\" class=\"dataframe\">\n",
       "  <thead>\n",
       "    <tr style=\"text-align: right;\">\n",
       "      <th></th>\n",
       "      <th>goals_z</th>\n",
       "      <th>xg_z</th>\n",
       "      <th>crosses_z</th>\n",
       "      <th>boxtouches_z</th>\n",
       "      <th>passes_z</th>\n",
       "      <th>progpasses_z</th>\n",
       "      <th>takeons_z</th>\n",
       "      <th>progruns_z</th>\n",
       "      <th>tackles_z</th>\n",
       "      <th>interceptions_z</th>\n",
       "      <th>clearances_z</th>\n",
       "      <th>blocks_z</th>\n",
       "      <th>aerials_z</th>\n",
       "      <th>fouls_z</th>\n",
       "      <th>fouled_z</th>\n",
       "      <th>nsxg_z</th>\n",
       "      <th>results</th>\n",
       "    </tr>\n",
       "  </thead>\n",
       "  <tbody>\n",
       "    <tr>\n",
       "      <th>Bulgaria86</th>\n",
       "      <td>-0.159231</td>\n",
       "      <td>-0.316154</td>\n",
       "      <td>-0.133846</td>\n",
       "      <td>-0.500000</td>\n",
       "      <td>-0.189231</td>\n",
       "      <td>-0.000769</td>\n",
       "      <td>-0.259231</td>\n",
       "      <td>0.012308</td>\n",
       "      <td>-0.041538</td>\n",
       "      <td>-0.170000</td>\n",
       "      <td>0.316154</td>\n",
       "      <td>-0.077692</td>\n",
       "      <td>-0.181538</td>\n",
       "      <td>-0.102308</td>\n",
       "      <td>-0.233846</td>\n",
       "      <td>-0.372308</td>\n",
       "      <td>15</td>\n",
       "    </tr>\n",
       "    <tr>\n",
       "      <th>Bulgaria94</th>\n",
       "      <td>0.162308</td>\n",
       "      <td>0.212308</td>\n",
       "      <td>-0.172308</td>\n",
       "      <td>-0.227692</td>\n",
       "      <td>-0.071538</td>\n",
       "      <td>-0.029231</td>\n",
       "      <td>0.084615</td>\n",
       "      <td>-0.111538</td>\n",
       "      <td>-0.219231</td>\n",
       "      <td>-0.216154</td>\n",
       "      <td>-0.122308</td>\n",
       "      <td>-0.150000</td>\n",
       "      <td>-0.326923</td>\n",
       "      <td>-0.123846</td>\n",
       "      <td>0.288462</td>\n",
       "      <td>-0.202308</td>\n",
       "      <td>4</td>\n",
       "    </tr>\n",
       "    <tr>\n",
       "      <th>Bulgaria98</th>\n",
       "      <td>-0.261538</td>\n",
       "      <td>0.107692</td>\n",
       "      <td>-0.217692</td>\n",
       "      <td>0.312308</td>\n",
       "      <td>-0.184615</td>\n",
       "      <td>-0.025385</td>\n",
       "      <td>0.183077</td>\n",
       "      <td>0.118462</td>\n",
       "      <td>-0.144615</td>\n",
       "      <td>-0.084615</td>\n",
       "      <td>-0.217692</td>\n",
       "      <td>-0.243077</td>\n",
       "      <td>-0.112308</td>\n",
       "      <td>0.553077</td>\n",
       "      <td>0.363846</td>\n",
       "      <td>0.150769</td>\n",
       "      <td>29</td>\n",
       "    </tr>\n",
       "  </tbody>\n",
       "</table>\n",
       "</div>"
      ],
      "text/plain": [
       "             goals_z      xg_z  crosses_z  boxtouches_z  passes_z  \\\n",
       "Bulgaria86 -0.159231 -0.316154  -0.133846     -0.500000 -0.189231   \n",
       "Bulgaria94  0.162308  0.212308  -0.172308     -0.227692 -0.071538   \n",
       "Bulgaria98 -0.261538  0.107692  -0.217692      0.312308 -0.184615   \n",
       "\n",
       "            progpasses_z  takeons_z  progruns_z  tackles_z  interceptions_z  \\\n",
       "Bulgaria86     -0.000769  -0.259231    0.012308  -0.041538        -0.170000   \n",
       "Bulgaria94     -0.029231   0.084615   -0.111538  -0.219231        -0.216154   \n",
       "Bulgaria98     -0.025385   0.183077    0.118462  -0.144615        -0.084615   \n",
       "\n",
       "            clearances_z  blocks_z  aerials_z   fouls_z  fouled_z    nsxg_z  \\\n",
       "Bulgaria86      0.316154 -0.077692  -0.181538 -0.102308 -0.233846 -0.372308   \n",
       "Bulgaria94     -0.122308 -0.150000  -0.326923 -0.123846  0.288462 -0.202308   \n",
       "Bulgaria98     -0.217692 -0.243077  -0.112308  0.553077  0.363846  0.150769   \n",
       "\n",
       "            results  \n",
       "Bulgaria86       15  \n",
       "Bulgaria94        4  \n",
       "Bulgaria98       29  "
      ]
     },
     "execution_count": 668,
     "metadata": {},
     "output_type": "execute_result"
    }
   ],
   "source": [
    "df2"
   ]
  },
  {
   "cell_type": "code",
   "execution_count": 669,
   "metadata": {},
   "outputs": [],
   "source": [
    "# df2.to_csv('Bulgaria.csv')\n"
   ]
  },
  {
   "cell_type": "code",
   "execution_count": 584,
   "metadata": {},
   "outputs": [],
   "source": [
    "# 86 - 15      Bulgaria     A     4     0     2     2     2     6     −4     2\n",
    "# 94 - 4      Bulgaria     D     7     3     1     3     10     11     −1     10\n",
    "# 98 - 29      Bulgaria     D     3     0     1     2     1     7     −6     1\n"
   ]
  },
  {
   "cell_type": "markdown",
   "metadata": {},
   "source": [
    "# Ivory Coast"
   ]
  },
  {
   "cell_type": "code",
   "execution_count": null,
   "metadata": {},
   "outputs": [],
   "source": []
  },
  {
   "cell_type": "code",
   "execution_count": 585,
   "metadata": {},
   "outputs": [],
   "source": [
    "# 06 - 19      Ivory Coast     C     3     1     0     2     5     6     −1     3\n",
    "# 10 - 17      Ivory Coast     G     3     1     1     1     4     3     +1     4\n",
    "# 14 - 21      Ivory Coast     C     3     1     0     2     3     4     5     −1\n"
   ]
  },
  {
   "cell_type": "code",
   "execution_count": 586,
   "metadata": {},
   "outputs": [],
   "source": [
    "listz = ['South Africa',\n",
    "'Rep of Ireland','Czechoslovakia','Hungary','Egypt','Slovenia','Norway',                     \n",
    "'Northern Ireland','Peru','New Zealand','Bosnia and Herzegovina',     \n",
    "'Panama','Slovakia','Iraq','China PR','Jamaica','Turkey',                     \n",
    "'Ukraine','Bolivia','Trinidad and Tobago','Togo','Czech Republic',             \n",
    "'Angola','United Arab Emirates','Iceland','El Salvador','Kuwait','North Korea']"
   ]
  },
  {
   "cell_type": "code",
   "execution_count": 587,
   "metadata": {},
   "outputs": [
    {
     "data": {
      "text/plain": [
       "28"
      ]
     },
     "execution_count": 587,
     "metadata": {},
     "output_type": "execute_result"
    }
   ],
   "source": [
    "len(listz)"
   ]
  },
  {
   "cell_type": "code",
   "execution_count": null,
   "metadata": {},
   "outputs": [],
   "source": []
  }
 ],
 "metadata": {
  "kernelspec": {
   "display_name": "Python 3 (ipykernel)",
   "language": "python",
   "name": "python3"
  },
  "language_info": {
   "codemirror_mode": {
    "name": "ipython",
    "version": 3
   },
   "file_extension": ".py",
   "mimetype": "text/x-python",
   "name": "python",
   "nbconvert_exporter": "python",
   "pygments_lexer": "ipython3",
   "version": "3.9.12"
  }
 },
 "nbformat": 4,
 "nbformat_minor": 2
}
