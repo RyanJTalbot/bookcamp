{
 "cells": [
  {
   "cell_type": "code",
   "execution_count": 1,
   "metadata": {},
   "outputs": [],
   "source": [
    "import pandas as pd\n",
    "import numpy as np"
   ]
  },
  {
   "cell_type": "code",
   "execution_count": 2,
   "metadata": {},
   "outputs": [],
   "source": [
    "df = pd.read_csv('world_cup_comparisons.csv')"
   ]
  },
  {
   "cell_type": "code",
   "execution_count": 3,
   "metadata": {},
   "outputs": [
    {
     "data": {
      "text/html": [
       "<div>\n",
       "<style scoped>\n",
       "    .dataframe tbody tr th:only-of-type {\n",
       "        vertical-align: middle;\n",
       "    }\n",
       "\n",
       "    .dataframe tbody tr th {\n",
       "        vertical-align: top;\n",
       "    }\n",
       "\n",
       "    .dataframe thead th {\n",
       "        text-align: right;\n",
       "    }\n",
       "</style>\n",
       "<table border=\"1\" class=\"dataframe\">\n",
       "  <thead>\n",
       "    <tr style=\"text-align: right;\">\n",
       "      <th></th>\n",
       "      <th>player</th>\n",
       "      <th>season</th>\n",
       "      <th>team</th>\n",
       "      <th>goals_z</th>\n",
       "      <th>xg_z</th>\n",
       "      <th>crosses_z</th>\n",
       "      <th>boxtouches_z</th>\n",
       "      <th>passes_z</th>\n",
       "      <th>progpasses_z</th>\n",
       "      <th>takeons_z</th>\n",
       "      <th>progruns_z</th>\n",
       "      <th>tackles_z</th>\n",
       "      <th>interceptions_z</th>\n",
       "      <th>clearances_z</th>\n",
       "      <th>blocks_z</th>\n",
       "      <th>aerials_z</th>\n",
       "      <th>fouls_z</th>\n",
       "      <th>fouled_z</th>\n",
       "      <th>nsxg_z</th>\n",
       "    </tr>\n",
       "  </thead>\n",
       "  <tbody>\n",
       "    <tr>\n",
       "      <th>0</th>\n",
       "      <td>Cristian Pavón</td>\n",
       "      <td>2018</td>\n",
       "      <td>Argentina</td>\n",
       "      <td>-0.42</td>\n",
       "      <td>-0.55</td>\n",
       "      <td>0.08</td>\n",
       "      <td>-0.24</td>\n",
       "      <td>-0.61</td>\n",
       "      <td>-0.72</td>\n",
       "      <td>-0.05</td>\n",
       "      <td>0.15</td>\n",
       "      <td>0.30</td>\n",
       "      <td>-0.79</td>\n",
       "      <td>-0.80</td>\n",
       "      <td>-0.45</td>\n",
       "      <td>-0.23</td>\n",
       "      <td>-0.38</td>\n",
       "      <td>-0.91</td>\n",
       "      <td>-0.58</td>\n",
       "    </tr>\n",
       "    <tr>\n",
       "      <th>1</th>\n",
       "      <td>Eduardo Salvio</td>\n",
       "      <td>2018</td>\n",
       "      <td>Argentina</td>\n",
       "      <td>-0.42</td>\n",
       "      <td>-0.50</td>\n",
       "      <td>-0.51</td>\n",
       "      <td>0.64</td>\n",
       "      <td>0.02</td>\n",
       "      <td>-0.46</td>\n",
       "      <td>-0.05</td>\n",
       "      <td>0.48</td>\n",
       "      <td>0.61</td>\n",
       "      <td>0.67</td>\n",
       "      <td>0.32</td>\n",
       "      <td>-0.45</td>\n",
       "      <td>0.21</td>\n",
       "      <td>-1.11</td>\n",
       "      <td>0.68</td>\n",
       "      <td>-0.03</td>\n",
       "    </tr>\n",
       "    <tr>\n",
       "      <th>2</th>\n",
       "      <td>Enzo Pérez</td>\n",
       "      <td>2018</td>\n",
       "      <td>Argentina</td>\n",
       "      <td>-0.42</td>\n",
       "      <td>0.11</td>\n",
       "      <td>-0.51</td>\n",
       "      <td>-0.69</td>\n",
       "      <td>0.27</td>\n",
       "      <td>-0.65</td>\n",
       "      <td>-0.36</td>\n",
       "      <td>-0.34</td>\n",
       "      <td>0.35</td>\n",
       "      <td>-0.22</td>\n",
       "      <td>-0.80</td>\n",
       "      <td>-0.45</td>\n",
       "      <td>-0.89</td>\n",
       "      <td>0.72</td>\n",
       "      <td>0.04</td>\n",
       "      <td>-0.66</td>\n",
       "    </tr>\n",
       "    <tr>\n",
       "      <th>3</th>\n",
       "      <td>Federico Fazio</td>\n",
       "      <td>2018</td>\n",
       "      <td>Argentina</td>\n",
       "      <td>-0.42</td>\n",
       "      <td>-0.59</td>\n",
       "      <td>-0.51</td>\n",
       "      <td>-0.69</td>\n",
       "      <td>-0.97</td>\n",
       "      <td>-0.91</td>\n",
       "      <td>-0.67</td>\n",
       "      <td>-0.84</td>\n",
       "      <td>-0.82</td>\n",
       "      <td>-0.79</td>\n",
       "      <td>-0.64</td>\n",
       "      <td>-0.45</td>\n",
       "      <td>0.21</td>\n",
       "      <td>-1.11</td>\n",
       "      <td>-0.59</td>\n",
       "      <td>-0.77</td>\n",
       "    </tr>\n",
       "    <tr>\n",
       "      <th>4</th>\n",
       "      <td>Franco Armani</td>\n",
       "      <td>2018</td>\n",
       "      <td>Argentina</td>\n",
       "      <td>-0.42</td>\n",
       "      <td>-0.59</td>\n",
       "      <td>-0.51</td>\n",
       "      <td>-0.80</td>\n",
       "      <td>-0.67</td>\n",
       "      <td>0.64</td>\n",
       "      <td>-0.67</td>\n",
       "      <td>-0.67</td>\n",
       "      <td>-0.82</td>\n",
       "      <td>-0.79</td>\n",
       "      <td>-0.64</td>\n",
       "      <td>-0.45</td>\n",
       "      <td>-0.89</td>\n",
       "      <td>-1.11</td>\n",
       "      <td>-0.91</td>\n",
       "      <td>-0.77</td>\n",
       "    </tr>\n",
       "  </tbody>\n",
       "</table>\n",
       "</div>"
      ],
      "text/plain": [
       "           player  season       team  goals_z  xg_z  crosses_z  boxtouches_z  \\\n",
       "0  Cristian Pavón    2018  Argentina    -0.42 -0.55       0.08         -0.24   \n",
       "1  Eduardo Salvio    2018  Argentina    -0.42 -0.50      -0.51          0.64   \n",
       "2      Enzo Pérez    2018  Argentina    -0.42  0.11      -0.51         -0.69   \n",
       "3  Federico Fazio    2018  Argentina    -0.42 -0.59      -0.51         -0.69   \n",
       "4   Franco Armani    2018  Argentina    -0.42 -0.59      -0.51         -0.80   \n",
       "\n",
       "   passes_z  progpasses_z  takeons_z  progruns_z  tackles_z  interceptions_z  \\\n",
       "0     -0.61         -0.72      -0.05        0.15       0.30            -0.79   \n",
       "1      0.02         -0.46      -0.05        0.48       0.61             0.67   \n",
       "2      0.27         -0.65      -0.36       -0.34       0.35            -0.22   \n",
       "3     -0.97         -0.91      -0.67       -0.84      -0.82            -0.79   \n",
       "4     -0.67          0.64      -0.67       -0.67      -0.82            -0.79   \n",
       "\n",
       "   clearances_z  blocks_z  aerials_z  fouls_z  fouled_z  nsxg_z  \n",
       "0         -0.80     -0.45      -0.23    -0.38     -0.91   -0.58  \n",
       "1          0.32     -0.45       0.21    -1.11      0.68   -0.03  \n",
       "2         -0.80     -0.45      -0.89     0.72      0.04   -0.66  \n",
       "3         -0.64     -0.45       0.21    -1.11     -0.59   -0.77  \n",
       "4         -0.64     -0.45      -0.89    -1.11     -0.91   -0.77  "
      ]
     },
     "execution_count": 3,
     "metadata": {},
     "output_type": "execute_result"
    }
   ],
   "source": [
    "df.head()"
   ]
  },
  {
   "cell_type": "code",
   "execution_count": 4,
   "metadata": {},
   "outputs": [],
   "source": [
    "teams_2022 = ['Qatar', 'Netherlands', 'Senegal', 'Ecuador', 'England',\n",
    "              'USA', 'Wales', 'Iran', 'Argentina', 'Poland', 'Mexico', \n",
    "              'Saudi Arabia', 'France', 'Denmark', 'Tunisia', 'Australia',\n",
    "              'Germany', 'Spain', 'Japan', 'Costa Rica', 'Belgium', 'Croatia', \n",
    "              'Canada', 'Morocco', 'Brazil', 'Switzerland', 'Serbia', 'Cameroon',\n",
    "              'Portugal', 'Uruguay', 'Ghana', 'Korea Republic', 'West Germany']"
   ]
  },
  {
   "cell_type": "code",
   "execution_count": 5,
   "metadata": {},
   "outputs": [],
   "source": [
    "years = [1998, 1994, 1990, 1986, 1982]"
   ]
  },
  {
   "cell_type": "code",
   "execution_count": 6,
   "metadata": {},
   "outputs": [],
   "source": [
    "df = df.loc[df['season'].isin(years)]"
   ]
  },
  {
   "cell_type": "code",
   "execution_count": 7,
   "metadata": {},
   "outputs": [],
   "source": [
    "df = df.loc[df['team'].isin(teams_2022)]"
   ]
  },
  {
   "cell_type": "code",
   "execution_count": 8,
   "metadata": {},
   "outputs": [
    {
     "data": {
      "text/html": [
       "<div>\n",
       "<style scoped>\n",
       "    .dataframe tbody tr th:only-of-type {\n",
       "        vertical-align: middle;\n",
       "    }\n",
       "\n",
       "    .dataframe tbody tr th {\n",
       "        vertical-align: top;\n",
       "    }\n",
       "\n",
       "    .dataframe thead th {\n",
       "        text-align: right;\n",
       "    }\n",
       "</style>\n",
       "<table border=\"1\" class=\"dataframe\">\n",
       "  <thead>\n",
       "    <tr style=\"text-align: right;\">\n",
       "      <th></th>\n",
       "      <th>player</th>\n",
       "      <th>season</th>\n",
       "      <th>team</th>\n",
       "      <th>goals_z</th>\n",
       "      <th>xg_z</th>\n",
       "      <th>crosses_z</th>\n",
       "      <th>boxtouches_z</th>\n",
       "      <th>passes_z</th>\n",
       "      <th>progpasses_z</th>\n",
       "      <th>takeons_z</th>\n",
       "      <th>progruns_z</th>\n",
       "      <th>tackles_z</th>\n",
       "      <th>interceptions_z</th>\n",
       "      <th>clearances_z</th>\n",
       "      <th>blocks_z</th>\n",
       "      <th>aerials_z</th>\n",
       "      <th>fouls_z</th>\n",
       "      <th>fouled_z</th>\n",
       "      <th>nsxg_z</th>\n",
       "    </tr>\n",
       "  </thead>\n",
       "  <tbody>\n",
       "    <tr>\n",
       "      <th>2764</th>\n",
       "      <td>Abel Balbo</td>\n",
       "      <td>1998</td>\n",
       "      <td>Argentina</td>\n",
       "      <td>-0.42</td>\n",
       "      <td>-0.43</td>\n",
       "      <td>-0.66</td>\n",
       "      <td>-0.19</td>\n",
       "      <td>-1.51</td>\n",
       "      <td>-1.20</td>\n",
       "      <td>-0.74</td>\n",
       "      <td>-1.02</td>\n",
       "      <td>-0.72</td>\n",
       "      <td>-0.77</td>\n",
       "      <td>-0.73</td>\n",
       "      <td>-0.54</td>\n",
       "      <td>-0.51</td>\n",
       "      <td>-1.15</td>\n",
       "      <td>-0.87</td>\n",
       "      <td>-0.58</td>\n",
       "    </tr>\n",
       "    <tr>\n",
       "      <th>2765</th>\n",
       "      <td>Ariel Ortega</td>\n",
       "      <td>1998</td>\n",
       "      <td>Argentina</td>\n",
       "      <td>1.90</td>\n",
       "      <td>1.07</td>\n",
       "      <td>0.78</td>\n",
       "      <td>1.56</td>\n",
       "      <td>1.10</td>\n",
       "      <td>0.44</td>\n",
       "      <td>6.01</td>\n",
       "      <td>2.67</td>\n",
       "      <td>0.13</td>\n",
       "      <td>-0.72</td>\n",
       "      <td>-0.66</td>\n",
       "      <td>-0.54</td>\n",
       "      <td>-0.75</td>\n",
       "      <td>0.35</td>\n",
       "      <td>6.05</td>\n",
       "      <td>4.32</td>\n",
       "    </tr>\n",
       "    <tr>\n",
       "      <th>2766</th>\n",
       "      <td>Carlos Roa</td>\n",
       "      <td>1998</td>\n",
       "      <td>Argentina</td>\n",
       "      <td>-0.42</td>\n",
       "      <td>-0.68</td>\n",
       "      <td>-0.66</td>\n",
       "      <td>-0.74</td>\n",
       "      <td>-0.35</td>\n",
       "      <td>1.08</td>\n",
       "      <td>-0.74</td>\n",
       "      <td>-1.02</td>\n",
       "      <td>-0.99</td>\n",
       "      <td>-1.03</td>\n",
       "      <td>-0.66</td>\n",
       "      <td>-0.54</td>\n",
       "      <td>-0.75</td>\n",
       "      <td>-1.15</td>\n",
       "      <td>-0.44</td>\n",
       "      <td>-0.90</td>\n",
       "    </tr>\n",
       "    <tr>\n",
       "      <th>2767</th>\n",
       "      <td>Claudio Lopez</td>\n",
       "      <td>1998</td>\n",
       "      <td>Argentina</td>\n",
       "      <td>0.74</td>\n",
       "      <td>0.46</td>\n",
       "      <td>0.42</td>\n",
       "      <td>1.56</td>\n",
       "      <td>-0.69</td>\n",
       "      <td>-0.84</td>\n",
       "      <td>0.34</td>\n",
       "      <td>0.43</td>\n",
       "      <td>-0.62</td>\n",
       "      <td>-0.78</td>\n",
       "      <td>-0.66</td>\n",
       "      <td>-0.54</td>\n",
       "      <td>-0.75</td>\n",
       "      <td>0.35</td>\n",
       "      <td>-0.87</td>\n",
       "      <td>0.70</td>\n",
       "    </tr>\n",
       "    <tr>\n",
       "      <th>2768</th>\n",
       "      <td>Diego Simeone</td>\n",
       "      <td>1998</td>\n",
       "      <td>Argentina</td>\n",
       "      <td>-0.42</td>\n",
       "      <td>0.70</td>\n",
       "      <td>0.06</td>\n",
       "      <td>1.24</td>\n",
       "      <td>1.19</td>\n",
       "      <td>0.59</td>\n",
       "      <td>0.34</td>\n",
       "      <td>-0.09</td>\n",
       "      <td>0.80</td>\n",
       "      <td>-0.17</td>\n",
       "      <td>0.00</td>\n",
       "      <td>0.85</td>\n",
       "      <td>-0.05</td>\n",
       "      <td>0.14</td>\n",
       "      <td>1.08</td>\n",
       "      <td>0.81</td>\n",
       "    </tr>\n",
       "  </tbody>\n",
       "</table>\n",
       "</div>"
      ],
      "text/plain": [
       "             player  season       team  goals_z  xg_z  crosses_z  \\\n",
       "2764     Abel Balbo    1998  Argentina    -0.42 -0.43      -0.66   \n",
       "2765   Ariel Ortega    1998  Argentina     1.90  1.07       0.78   \n",
       "2766     Carlos Roa    1998  Argentina    -0.42 -0.68      -0.66   \n",
       "2767  Claudio Lopez    1998  Argentina     0.74  0.46       0.42   \n",
       "2768  Diego Simeone    1998  Argentina    -0.42  0.70       0.06   \n",
       "\n",
       "      boxtouches_z  passes_z  progpasses_z  takeons_z  progruns_z  tackles_z  \\\n",
       "2764         -0.19     -1.51         -1.20      -0.74       -1.02      -0.72   \n",
       "2765          1.56      1.10          0.44       6.01        2.67       0.13   \n",
       "2766         -0.74     -0.35          1.08      -0.74       -1.02      -0.99   \n",
       "2767          1.56     -0.69         -0.84       0.34        0.43      -0.62   \n",
       "2768          1.24      1.19          0.59       0.34       -0.09       0.80   \n",
       "\n",
       "      interceptions_z  clearances_z  blocks_z  aerials_z  fouls_z  fouled_z  \\\n",
       "2764            -0.77         -0.73     -0.54      -0.51    -1.15     -0.87   \n",
       "2765            -0.72         -0.66     -0.54      -0.75     0.35      6.05   \n",
       "2766            -1.03         -0.66     -0.54      -0.75    -1.15     -0.44   \n",
       "2767            -0.78         -0.66     -0.54      -0.75     0.35     -0.87   \n",
       "2768            -0.17          0.00      0.85      -0.05     0.14      1.08   \n",
       "\n",
       "      nsxg_z  \n",
       "2764   -0.58  \n",
       "2765    4.32  \n",
       "2766   -0.90  \n",
       "2767    0.70  \n",
       "2768    0.81  "
      ]
     },
     "execution_count": 8,
     "metadata": {},
     "output_type": "execute_result"
    }
   ],
   "source": [
    "df.head()"
   ]
  },
  {
   "cell_type": "code",
   "execution_count": 9,
   "metadata": {},
   "outputs": [],
   "source": [
    "df = df.drop(columns = ['player'])\n"
   ]
  },
  {
   "cell_type": "code",
   "execution_count": 10,
   "metadata": {},
   "outputs": [
    {
     "data": {
      "text/html": [
       "<div>\n",
       "<style scoped>\n",
       "    .dataframe tbody tr th:only-of-type {\n",
       "        vertical-align: middle;\n",
       "    }\n",
       "\n",
       "    .dataframe tbody tr th {\n",
       "        vertical-align: top;\n",
       "    }\n",
       "\n",
       "    .dataframe thead th {\n",
       "        text-align: right;\n",
       "    }\n",
       "</style>\n",
       "<table border=\"1\" class=\"dataframe\">\n",
       "  <thead>\n",
       "    <tr style=\"text-align: right;\">\n",
       "      <th></th>\n",
       "      <th>season</th>\n",
       "      <th>team</th>\n",
       "      <th>goals_z</th>\n",
       "      <th>xg_z</th>\n",
       "      <th>crosses_z</th>\n",
       "      <th>boxtouches_z</th>\n",
       "      <th>passes_z</th>\n",
       "      <th>progpasses_z</th>\n",
       "      <th>takeons_z</th>\n",
       "      <th>progruns_z</th>\n",
       "      <th>tackles_z</th>\n",
       "      <th>interceptions_z</th>\n",
       "      <th>clearances_z</th>\n",
       "      <th>blocks_z</th>\n",
       "      <th>aerials_z</th>\n",
       "      <th>fouls_z</th>\n",
       "      <th>fouled_z</th>\n",
       "      <th>nsxg_z</th>\n",
       "    </tr>\n",
       "  </thead>\n",
       "  <tbody>\n",
       "    <tr>\n",
       "      <th>2764</th>\n",
       "      <td>1998</td>\n",
       "      <td>Argentina</td>\n",
       "      <td>-0.42</td>\n",
       "      <td>-0.43</td>\n",
       "      <td>-0.66</td>\n",
       "      <td>-0.19</td>\n",
       "      <td>-1.51</td>\n",
       "      <td>-1.20</td>\n",
       "      <td>-0.74</td>\n",
       "      <td>-1.02</td>\n",
       "      <td>-0.72</td>\n",
       "      <td>-0.77</td>\n",
       "      <td>-0.73</td>\n",
       "      <td>-0.54</td>\n",
       "      <td>-0.51</td>\n",
       "      <td>-1.15</td>\n",
       "      <td>-0.87</td>\n",
       "      <td>-0.58</td>\n",
       "    </tr>\n",
       "    <tr>\n",
       "      <th>2765</th>\n",
       "      <td>1998</td>\n",
       "      <td>Argentina</td>\n",
       "      <td>1.90</td>\n",
       "      <td>1.07</td>\n",
       "      <td>0.78</td>\n",
       "      <td>1.56</td>\n",
       "      <td>1.10</td>\n",
       "      <td>0.44</td>\n",
       "      <td>6.01</td>\n",
       "      <td>2.67</td>\n",
       "      <td>0.13</td>\n",
       "      <td>-0.72</td>\n",
       "      <td>-0.66</td>\n",
       "      <td>-0.54</td>\n",
       "      <td>-0.75</td>\n",
       "      <td>0.35</td>\n",
       "      <td>6.05</td>\n",
       "      <td>4.32</td>\n",
       "    </tr>\n",
       "    <tr>\n",
       "      <th>2766</th>\n",
       "      <td>1998</td>\n",
       "      <td>Argentina</td>\n",
       "      <td>-0.42</td>\n",
       "      <td>-0.68</td>\n",
       "      <td>-0.66</td>\n",
       "      <td>-0.74</td>\n",
       "      <td>-0.35</td>\n",
       "      <td>1.08</td>\n",
       "      <td>-0.74</td>\n",
       "      <td>-1.02</td>\n",
       "      <td>-0.99</td>\n",
       "      <td>-1.03</td>\n",
       "      <td>-0.66</td>\n",
       "      <td>-0.54</td>\n",
       "      <td>-0.75</td>\n",
       "      <td>-1.15</td>\n",
       "      <td>-0.44</td>\n",
       "      <td>-0.90</td>\n",
       "    </tr>\n",
       "    <tr>\n",
       "      <th>2767</th>\n",
       "      <td>1998</td>\n",
       "      <td>Argentina</td>\n",
       "      <td>0.74</td>\n",
       "      <td>0.46</td>\n",
       "      <td>0.42</td>\n",
       "      <td>1.56</td>\n",
       "      <td>-0.69</td>\n",
       "      <td>-0.84</td>\n",
       "      <td>0.34</td>\n",
       "      <td>0.43</td>\n",
       "      <td>-0.62</td>\n",
       "      <td>-0.78</td>\n",
       "      <td>-0.66</td>\n",
       "      <td>-0.54</td>\n",
       "      <td>-0.75</td>\n",
       "      <td>0.35</td>\n",
       "      <td>-0.87</td>\n",
       "      <td>0.70</td>\n",
       "    </tr>\n",
       "    <tr>\n",
       "      <th>2768</th>\n",
       "      <td>1998</td>\n",
       "      <td>Argentina</td>\n",
       "      <td>-0.42</td>\n",
       "      <td>0.70</td>\n",
       "      <td>0.06</td>\n",
       "      <td>1.24</td>\n",
       "      <td>1.19</td>\n",
       "      <td>0.59</td>\n",
       "      <td>0.34</td>\n",
       "      <td>-0.09</td>\n",
       "      <td>0.80</td>\n",
       "      <td>-0.17</td>\n",
       "      <td>0.00</td>\n",
       "      <td>0.85</td>\n",
       "      <td>-0.05</td>\n",
       "      <td>0.14</td>\n",
       "      <td>1.08</td>\n",
       "      <td>0.81</td>\n",
       "    </tr>\n",
       "    <tr>\n",
       "      <th>...</th>\n",
       "      <td>...</td>\n",
       "      <td>...</td>\n",
       "      <td>...</td>\n",
       "      <td>...</td>\n",
       "      <td>...</td>\n",
       "      <td>...</td>\n",
       "      <td>...</td>\n",
       "      <td>...</td>\n",
       "      <td>...</td>\n",
       "      <td>...</td>\n",
       "      <td>...</td>\n",
       "      <td>...</td>\n",
       "      <td>...</td>\n",
       "      <td>...</td>\n",
       "      <td>...</td>\n",
       "      <td>...</td>\n",
       "      <td>...</td>\n",
       "      <td>...</td>\n",
       "    </tr>\n",
       "    <tr>\n",
       "      <th>4837</th>\n",
       "      <td>1982</td>\n",
       "      <td>West Germany</td>\n",
       "      <td>0.31</td>\n",
       "      <td>0.41</td>\n",
       "      <td>1.17</td>\n",
       "      <td>0.22</td>\n",
       "      <td>1.90</td>\n",
       "      <td>1.27</td>\n",
       "      <td>1.21</td>\n",
       "      <td>2.71</td>\n",
       "      <td>0.41</td>\n",
       "      <td>0.45</td>\n",
       "      <td>-0.60</td>\n",
       "      <td>1.44</td>\n",
       "      <td>-0.38</td>\n",
       "      <td>0.24</td>\n",
       "      <td>0.39</td>\n",
       "      <td>1.60</td>\n",
       "    </tr>\n",
       "    <tr>\n",
       "      <th>4838</th>\n",
       "      <td>1982</td>\n",
       "      <td>West Germany</td>\n",
       "      <td>1.13</td>\n",
       "      <td>0.88</td>\n",
       "      <td>2.69</td>\n",
       "      <td>2.05</td>\n",
       "      <td>-0.06</td>\n",
       "      <td>0.03</td>\n",
       "      <td>2.58</td>\n",
       "      <td>0.56</td>\n",
       "      <td>0.62</td>\n",
       "      <td>-0.61</td>\n",
       "      <td>-0.67</td>\n",
       "      <td>-0.57</td>\n",
       "      <td>-0.65</td>\n",
       "      <td>0.84</td>\n",
       "      <td>1.71</td>\n",
       "      <td>2.77</td>\n",
       "    </tr>\n",
       "    <tr>\n",
       "      <th>4839</th>\n",
       "      <td>1982</td>\n",
       "      <td>West Germany</td>\n",
       "      <td>-0.50</td>\n",
       "      <td>-0.53</td>\n",
       "      <td>-0.35</td>\n",
       "      <td>-0.53</td>\n",
       "      <td>1.82</td>\n",
       "      <td>1.42</td>\n",
       "      <td>0.45</td>\n",
       "      <td>0.49</td>\n",
       "      <td>1.39</td>\n",
       "      <td>1.48</td>\n",
       "      <td>1.50</td>\n",
       "      <td>0.82</td>\n",
       "      <td>-0.11</td>\n",
       "      <td>1.00</td>\n",
       "      <td>0.26</td>\n",
       "      <td>-0.45</td>\n",
       "    </tr>\n",
       "    <tr>\n",
       "      <th>4840</th>\n",
       "      <td>1982</td>\n",
       "      <td>West Germany</td>\n",
       "      <td>0.31</td>\n",
       "      <td>-0.21</td>\n",
       "      <td>-0.60</td>\n",
       "      <td>-0.53</td>\n",
       "      <td>-1.46</td>\n",
       "      <td>-1.28</td>\n",
       "      <td>-0.77</td>\n",
       "      <td>-0.96</td>\n",
       "      <td>-0.73</td>\n",
       "      <td>-0.94</td>\n",
       "      <td>-0.73</td>\n",
       "      <td>-0.57</td>\n",
       "      <td>-0.11</td>\n",
       "      <td>-0.37</td>\n",
       "      <td>-0.14</td>\n",
       "      <td>-0.75</td>\n",
       "    </tr>\n",
       "    <tr>\n",
       "      <th>4841</th>\n",
       "      <td>1982</td>\n",
       "      <td>West Germany</td>\n",
       "      <td>-0.50</td>\n",
       "      <td>0.19</td>\n",
       "      <td>0.16</td>\n",
       "      <td>0.33</td>\n",
       "      <td>1.72</td>\n",
       "      <td>0.44</td>\n",
       "      <td>-0.31</td>\n",
       "      <td>1.44</td>\n",
       "      <td>2.39</td>\n",
       "      <td>1.86</td>\n",
       "      <td>-0.14</td>\n",
       "      <td>1.25</td>\n",
       "      <td>0.16</td>\n",
       "      <td>1.15</td>\n",
       "      <td>1.84</td>\n",
       "      <td>0.72</td>\n",
       "    </tr>\n",
       "  </tbody>\n",
       "</table>\n",
       "<p>1057 rows × 18 columns</p>\n",
       "</div>"
      ],
      "text/plain": [
       "      season          team  goals_z  xg_z  crosses_z  boxtouches_z  passes_z  \\\n",
       "2764    1998     Argentina    -0.42 -0.43      -0.66         -0.19     -1.51   \n",
       "2765    1998     Argentina     1.90  1.07       0.78          1.56      1.10   \n",
       "2766    1998     Argentina    -0.42 -0.68      -0.66         -0.74     -0.35   \n",
       "2767    1998     Argentina     0.74  0.46       0.42          1.56     -0.69   \n",
       "2768    1998     Argentina    -0.42  0.70       0.06          1.24      1.19   \n",
       "...      ...           ...      ...   ...        ...           ...       ...   \n",
       "4837    1982  West Germany     0.31  0.41       1.17          0.22      1.90   \n",
       "4838    1982  West Germany     1.13  0.88       2.69          2.05     -0.06   \n",
       "4839    1982  West Germany    -0.50 -0.53      -0.35         -0.53      1.82   \n",
       "4840    1982  West Germany     0.31 -0.21      -0.60         -0.53     -1.46   \n",
       "4841    1982  West Germany    -0.50  0.19       0.16          0.33      1.72   \n",
       "\n",
       "      progpasses_z  takeons_z  progruns_z  tackles_z  interceptions_z  \\\n",
       "2764         -1.20      -0.74       -1.02      -0.72            -0.77   \n",
       "2765          0.44       6.01        2.67       0.13            -0.72   \n",
       "2766          1.08      -0.74       -1.02      -0.99            -1.03   \n",
       "2767         -0.84       0.34        0.43      -0.62            -0.78   \n",
       "2768          0.59       0.34       -0.09       0.80            -0.17   \n",
       "...            ...        ...         ...        ...              ...   \n",
       "4837          1.27       1.21        2.71       0.41             0.45   \n",
       "4838          0.03       2.58        0.56       0.62            -0.61   \n",
       "4839          1.42       0.45        0.49       1.39             1.48   \n",
       "4840         -1.28      -0.77       -0.96      -0.73            -0.94   \n",
       "4841          0.44      -0.31        1.44       2.39             1.86   \n",
       "\n",
       "      clearances_z  blocks_z  aerials_z  fouls_z  fouled_z  nsxg_z  \n",
       "2764         -0.73     -0.54      -0.51    -1.15     -0.87   -0.58  \n",
       "2765         -0.66     -0.54      -0.75     0.35      6.05    4.32  \n",
       "2766         -0.66     -0.54      -0.75    -1.15     -0.44   -0.90  \n",
       "2767         -0.66     -0.54      -0.75     0.35     -0.87    0.70  \n",
       "2768          0.00      0.85      -0.05     0.14      1.08    0.81  \n",
       "...            ...       ...        ...      ...       ...     ...  \n",
       "4837         -0.60      1.44      -0.38     0.24      0.39    1.60  \n",
       "4838         -0.67     -0.57      -0.65     0.84      1.71    2.77  \n",
       "4839          1.50      0.82      -0.11     1.00      0.26   -0.45  \n",
       "4840         -0.73     -0.57      -0.11    -0.37     -0.14   -0.75  \n",
       "4841         -0.14      1.25       0.16     1.15      1.84    0.72  \n",
       "\n",
       "[1057 rows x 18 columns]"
      ]
     },
     "execution_count": 10,
     "metadata": {},
     "output_type": "execute_result"
    }
   ],
   "source": [
    "df"
   ]
  },
  {
   "cell_type": "code",
   "execution_count": 11,
   "metadata": {},
   "outputs": [],
   "source": [
    "year1998 = [1998]\n",
    "year1994 = [1994]\n",
    "year1990 = [1990]\n",
    "year1986 = [1986]\n",
    "year1982 = [1982]"
   ]
  },
  {
   "cell_type": "markdown",
   "metadata": {},
   "source": [
    "# Germany 1998"
   ]
  },
  {
   "cell_type": "code",
   "execution_count": null,
   "metadata": {},
   "outputs": [],
   "source": []
  },
  {
   "cell_type": "code",
   "execution_count": 12,
   "metadata": {},
   "outputs": [],
   "source": [
    "ger = [\"Germany\"]"
   ]
  },
  {
   "cell_type": "code",
   "execution_count": 13,
   "metadata": {},
   "outputs": [],
   "source": [
    "ger_year = df.loc[df[\"team\"].isin(ger)]"
   ]
  },
  {
   "cell_type": "code",
   "execution_count": 14,
   "metadata": {},
   "outputs": [],
   "source": [
    "ger98year = ger_year.loc[ger_year[\"season\"].isin(year1998)]"
   ]
  },
  {
   "cell_type": "code",
   "execution_count": 15,
   "metadata": {},
   "outputs": [],
   "source": [
    "ger98xg = ger98year.sort_values(by=[\"goals_z\"], ascending=False)"
   ]
  },
  {
   "cell_type": "code",
   "execution_count": 16,
   "metadata": {},
   "outputs": [],
   "source": [
    "ger98xg13 = ger98xg.head(13)"
   ]
  },
  {
   "cell_type": "code",
   "execution_count": 17,
   "metadata": {},
   "outputs": [
    {
     "data": {
      "text/html": [
       "<div>\n",
       "<style scoped>\n",
       "    .dataframe tbody tr th:only-of-type {\n",
       "        vertical-align: middle;\n",
       "    }\n",
       "\n",
       "    .dataframe tbody tr th {\n",
       "        vertical-align: top;\n",
       "    }\n",
       "\n",
       "    .dataframe thead th {\n",
       "        text-align: right;\n",
       "    }\n",
       "</style>\n",
       "<table border=\"1\" class=\"dataframe\">\n",
       "  <thead>\n",
       "    <tr style=\"text-align: right;\">\n",
       "      <th></th>\n",
       "      <th>season</th>\n",
       "      <th>team</th>\n",
       "      <th>goals_z</th>\n",
       "      <th>xg_z</th>\n",
       "      <th>crosses_z</th>\n",
       "      <th>boxtouches_z</th>\n",
       "      <th>passes_z</th>\n",
       "      <th>progpasses_z</th>\n",
       "      <th>takeons_z</th>\n",
       "      <th>progruns_z</th>\n",
       "      <th>tackles_z</th>\n",
       "      <th>interceptions_z</th>\n",
       "      <th>clearances_z</th>\n",
       "      <th>blocks_z</th>\n",
       "      <th>aerials_z</th>\n",
       "      <th>fouls_z</th>\n",
       "      <th>fouled_z</th>\n",
       "      <th>nsxg_z</th>\n",
       "    </tr>\n",
       "  </thead>\n",
       "  <tbody>\n",
       "    <tr>\n",
       "      <th>2976</th>\n",
       "      <td>1998</td>\n",
       "      <td>Germany</td>\n",
       "      <td>3.29</td>\n",
       "      <td>4.18</td>\n",
       "      <td>-0.27</td>\n",
       "      <td>7.39</td>\n",
       "      <td>-0.38</td>\n",
       "      <td>-0.81</td>\n",
       "      <td>-0.74</td>\n",
       "      <td>-0.59</td>\n",
       "      <td>-0.15</td>\n",
       "      <td>-0.20</td>\n",
       "      <td>-0.26</td>\n",
       "      <td>-0.54</td>\n",
       "      <td>1.98</td>\n",
       "      <td>1.83</td>\n",
       "      <td>1.68</td>\n",
       "      <td>0.97</td>\n",
       "    </tr>\n",
       "    <tr>\n",
       "      <th>2970</th>\n",
       "      <td>1998</td>\n",
       "      <td>Germany</td>\n",
       "      <td>3.29</td>\n",
       "      <td>1.37</td>\n",
       "      <td>-0.66</td>\n",
       "      <td>3.07</td>\n",
       "      <td>0.05</td>\n",
       "      <td>-0.97</td>\n",
       "      <td>-0.45</td>\n",
       "      <td>-0.59</td>\n",
       "      <td>-0.99</td>\n",
       "      <td>-0.52</td>\n",
       "      <td>-0.26</td>\n",
       "      <td>0.39</td>\n",
       "      <td>1.23</td>\n",
       "      <td>-0.23</td>\n",
       "      <td>0.76</td>\n",
       "      <td>0.88</td>\n",
       "    </tr>\n",
       "    <tr>\n",
       "      <th>2964</th>\n",
       "      <td>1998</td>\n",
       "      <td>Germany</td>\n",
       "      <td>0.81</td>\n",
       "      <td>0.01</td>\n",
       "      <td>0.11</td>\n",
       "      <td>-0.49</td>\n",
       "      <td>-0.12</td>\n",
       "      <td>-0.59</td>\n",
       "      <td>-0.45</td>\n",
       "      <td>-0.03</td>\n",
       "      <td>-0.49</td>\n",
       "      <td>-0.50</td>\n",
       "      <td>-0.73</td>\n",
       "      <td>-0.54</td>\n",
       "      <td>-0.75</td>\n",
       "      <td>-1.15</td>\n",
       "      <td>-0.16</td>\n",
       "      <td>-0.14</td>\n",
       "    </tr>\n",
       "    <tr>\n",
       "      <th>2963</th>\n",
       "      <td>1998</td>\n",
       "      <td>Germany</td>\n",
       "      <td>-0.42</td>\n",
       "      <td>-0.68</td>\n",
       "      <td>-0.66</td>\n",
       "      <td>-0.74</td>\n",
       "      <td>-0.23</td>\n",
       "      <td>1.35</td>\n",
       "      <td>-0.74</td>\n",
       "      <td>-1.02</td>\n",
       "      <td>-0.41</td>\n",
       "      <td>-1.03</td>\n",
       "      <td>-0.42</td>\n",
       "      <td>-0.54</td>\n",
       "      <td>-0.50</td>\n",
       "      <td>-1.15</td>\n",
       "      <td>-1.08</td>\n",
       "      <td>-0.81</td>\n",
       "    </tr>\n",
       "    <tr>\n",
       "      <th>2973</th>\n",
       "      <td>1998</td>\n",
       "      <td>Germany</td>\n",
       "      <td>-0.42</td>\n",
       "      <td>-0.68</td>\n",
       "      <td>-0.66</td>\n",
       "      <td>-0.74</td>\n",
       "      <td>-1.18</td>\n",
       "      <td>-0.81</td>\n",
       "      <td>-0.74</td>\n",
       "      <td>-1.02</td>\n",
       "      <td>-0.77</td>\n",
       "      <td>-0.61</td>\n",
       "      <td>-0.50</td>\n",
       "      <td>-0.54</td>\n",
       "      <td>-0.75</td>\n",
       "      <td>-1.15</td>\n",
       "      <td>-0.85</td>\n",
       "      <td>-0.70</td>\n",
       "    </tr>\n",
       "    <tr>\n",
       "      <th>2979</th>\n",
       "      <td>1998</td>\n",
       "      <td>Germany</td>\n",
       "      <td>-0.42</td>\n",
       "      <td>-0.05</td>\n",
       "      <td>2.40</td>\n",
       "      <td>0.70</td>\n",
       "      <td>-0.10</td>\n",
       "      <td>-0.17</td>\n",
       "      <td>-0.45</td>\n",
       "      <td>0.25</td>\n",
       "      <td>0.17</td>\n",
       "      <td>0.31</td>\n",
       "      <td>-0.58</td>\n",
       "      <td>0.18</td>\n",
       "      <td>-0.25</td>\n",
       "      <td>0.45</td>\n",
       "      <td>0.53</td>\n",
       "      <td>2.52</td>\n",
       "    </tr>\n",
       "    <tr>\n",
       "      <th>2978</th>\n",
       "      <td>1998</td>\n",
       "      <td>Germany</td>\n",
       "      <td>-0.42</td>\n",
       "      <td>-0.68</td>\n",
       "      <td>-0.66</td>\n",
       "      <td>-0.57</td>\n",
       "      <td>-0.64</td>\n",
       "      <td>-0.85</td>\n",
       "      <td>-0.74</td>\n",
       "      <td>-0.31</td>\n",
       "      <td>0.13</td>\n",
       "      <td>1.18</td>\n",
       "      <td>-0.50</td>\n",
       "      <td>-0.54</td>\n",
       "      <td>-0.50</td>\n",
       "      <td>-1.15</td>\n",
       "      <td>-1.08</td>\n",
       "      <td>-0.68</td>\n",
       "    </tr>\n",
       "    <tr>\n",
       "      <th>2977</th>\n",
       "      <td>1998</td>\n",
       "      <td>Germany</td>\n",
       "      <td>-0.42</td>\n",
       "      <td>-0.68</td>\n",
       "      <td>-0.27</td>\n",
       "      <td>-0.74</td>\n",
       "      <td>-1.00</td>\n",
       "      <td>-0.70</td>\n",
       "      <td>-0.74</td>\n",
       "      <td>-0.74</td>\n",
       "      <td>-0.99</td>\n",
       "      <td>-0.52</td>\n",
       "      <td>-0.58</td>\n",
       "      <td>-0.54</td>\n",
       "      <td>-0.50</td>\n",
       "      <td>-0.69</td>\n",
       "      <td>-1.08</td>\n",
       "      <td>-0.74</td>\n",
       "    </tr>\n",
       "    <tr>\n",
       "      <th>2975</th>\n",
       "      <td>1998</td>\n",
       "      <td>Germany</td>\n",
       "      <td>-0.42</td>\n",
       "      <td>-0.55</td>\n",
       "      <td>0.49</td>\n",
       "      <td>-0.57</td>\n",
       "      <td>0.49</td>\n",
       "      <td>-0.40</td>\n",
       "      <td>-0.74</td>\n",
       "      <td>0.11</td>\n",
       "      <td>-0.41</td>\n",
       "      <td>0.55</td>\n",
       "      <td>0.37</td>\n",
       "      <td>-0.54</td>\n",
       "      <td>-0.25</td>\n",
       "      <td>-0.46</td>\n",
       "      <td>-0.62</td>\n",
       "      <td>0.25</td>\n",
       "    </tr>\n",
       "    <tr>\n",
       "      <th>2974</th>\n",
       "      <td>1998</td>\n",
       "      <td>Germany</td>\n",
       "      <td>-0.42</td>\n",
       "      <td>0.01</td>\n",
       "      <td>5.08</td>\n",
       "      <td>-0.57</td>\n",
       "      <td>0.58</td>\n",
       "      <td>1.28</td>\n",
       "      <td>0.70</td>\n",
       "      <td>-0.03</td>\n",
       "      <td>1.62</td>\n",
       "      <td>1.77</td>\n",
       "      <td>-0.26</td>\n",
       "      <td>-0.54</td>\n",
       "      <td>-0.25</td>\n",
       "      <td>0.45</td>\n",
       "      <td>-0.62</td>\n",
       "      <td>2.74</td>\n",
       "    </tr>\n",
       "    <tr>\n",
       "      <th>2972</th>\n",
       "      <td>1998</td>\n",
       "      <td>Germany</td>\n",
       "      <td>-0.42</td>\n",
       "      <td>-0.23</td>\n",
       "      <td>-0.27</td>\n",
       "      <td>-0.66</td>\n",
       "      <td>1.58</td>\n",
       "      <td>1.05</td>\n",
       "      <td>-0.74</td>\n",
       "      <td>1.37</td>\n",
       "      <td>1.66</td>\n",
       "      <td>0.61</td>\n",
       "      <td>0.37</td>\n",
       "      <td>2.07</td>\n",
       "      <td>-0.75</td>\n",
       "      <td>1.14</td>\n",
       "      <td>0.30</td>\n",
       "      <td>0.61</td>\n",
       "    </tr>\n",
       "    <tr>\n",
       "      <th>2971</th>\n",
       "      <td>1998</td>\n",
       "      <td>Germany</td>\n",
       "      <td>-0.42</td>\n",
       "      <td>-0.47</td>\n",
       "      <td>0.11</td>\n",
       "      <td>-0.49</td>\n",
       "      <td>0.58</td>\n",
       "      <td>0.21</td>\n",
       "      <td>-0.45</td>\n",
       "      <td>-0.03</td>\n",
       "      <td>1.28</td>\n",
       "      <td>1.70</td>\n",
       "      <td>1.15</td>\n",
       "      <td>-0.54</td>\n",
       "      <td>0.74</td>\n",
       "      <td>-0.23</td>\n",
       "      <td>0.07</td>\n",
       "      <td>0.16</td>\n",
       "    </tr>\n",
       "    <tr>\n",
       "      <th>2969</th>\n",
       "      <td>1998</td>\n",
       "      <td>Germany</td>\n",
       "      <td>-0.42</td>\n",
       "      <td>-0.28</td>\n",
       "      <td>2.40</td>\n",
       "      <td>0.78</td>\n",
       "      <td>1.55</td>\n",
       "      <td>2.34</td>\n",
       "      <td>0.13</td>\n",
       "      <td>0.67</td>\n",
       "      <td>0.61</td>\n",
       "      <td>0.87</td>\n",
       "      <td>0.21</td>\n",
       "      <td>-0.54</td>\n",
       "      <td>0.99</td>\n",
       "      <td>0.45</td>\n",
       "      <td>1.68</td>\n",
       "      <td>1.28</td>\n",
       "    </tr>\n",
       "  </tbody>\n",
       "</table>\n",
       "</div>"
      ],
      "text/plain": [
       "      season     team  goals_z  xg_z  crosses_z  boxtouches_z  passes_z  \\\n",
       "2976    1998  Germany     3.29  4.18      -0.27          7.39     -0.38   \n",
       "2970    1998  Germany     3.29  1.37      -0.66          3.07      0.05   \n",
       "2964    1998  Germany     0.81  0.01       0.11         -0.49     -0.12   \n",
       "2963    1998  Germany    -0.42 -0.68      -0.66         -0.74     -0.23   \n",
       "2973    1998  Germany    -0.42 -0.68      -0.66         -0.74     -1.18   \n",
       "2979    1998  Germany    -0.42 -0.05       2.40          0.70     -0.10   \n",
       "2978    1998  Germany    -0.42 -0.68      -0.66         -0.57     -0.64   \n",
       "2977    1998  Germany    -0.42 -0.68      -0.27         -0.74     -1.00   \n",
       "2975    1998  Germany    -0.42 -0.55       0.49         -0.57      0.49   \n",
       "2974    1998  Germany    -0.42  0.01       5.08         -0.57      0.58   \n",
       "2972    1998  Germany    -0.42 -0.23      -0.27         -0.66      1.58   \n",
       "2971    1998  Germany    -0.42 -0.47       0.11         -0.49      0.58   \n",
       "2969    1998  Germany    -0.42 -0.28       2.40          0.78      1.55   \n",
       "\n",
       "      progpasses_z  takeons_z  progruns_z  tackles_z  interceptions_z  \\\n",
       "2976         -0.81      -0.74       -0.59      -0.15            -0.20   \n",
       "2970         -0.97      -0.45       -0.59      -0.99            -0.52   \n",
       "2964         -0.59      -0.45       -0.03      -0.49            -0.50   \n",
       "2963          1.35      -0.74       -1.02      -0.41            -1.03   \n",
       "2973         -0.81      -0.74       -1.02      -0.77            -0.61   \n",
       "2979         -0.17      -0.45        0.25       0.17             0.31   \n",
       "2978         -0.85      -0.74       -0.31       0.13             1.18   \n",
       "2977         -0.70      -0.74       -0.74      -0.99            -0.52   \n",
       "2975         -0.40      -0.74        0.11      -0.41             0.55   \n",
       "2974          1.28       0.70       -0.03       1.62             1.77   \n",
       "2972          1.05      -0.74        1.37       1.66             0.61   \n",
       "2971          0.21      -0.45       -0.03       1.28             1.70   \n",
       "2969          2.34       0.13        0.67       0.61             0.87   \n",
       "\n",
       "      clearances_z  blocks_z  aerials_z  fouls_z  fouled_z  nsxg_z  \n",
       "2976         -0.26     -0.54       1.98     1.83      1.68    0.97  \n",
       "2970         -0.26      0.39       1.23    -0.23      0.76    0.88  \n",
       "2964         -0.73     -0.54      -0.75    -1.15     -0.16   -0.14  \n",
       "2963         -0.42     -0.54      -0.50    -1.15     -1.08   -0.81  \n",
       "2973         -0.50     -0.54      -0.75    -1.15     -0.85   -0.70  \n",
       "2979         -0.58      0.18      -0.25     0.45      0.53    2.52  \n",
       "2978         -0.50     -0.54      -0.50    -1.15     -1.08   -0.68  \n",
       "2977         -0.58     -0.54      -0.50    -0.69     -1.08   -0.74  \n",
       "2975          0.37     -0.54      -0.25    -0.46     -0.62    0.25  \n",
       "2974         -0.26     -0.54      -0.25     0.45     -0.62    2.74  \n",
       "2972          0.37      2.07      -0.75     1.14      0.30    0.61  \n",
       "2971          1.15     -0.54       0.74    -0.23      0.07    0.16  \n",
       "2969          0.21     -0.54       0.99     0.45      1.68    1.28  "
      ]
     },
     "execution_count": 17,
     "metadata": {},
     "output_type": "execute_result"
    }
   ],
   "source": [
    "ger98xg13"
   ]
  },
  {
   "cell_type": "code",
   "execution_count": 18,
   "metadata": {},
   "outputs": [],
   "source": [
    "ger98xg13 = ger98xg13.drop(columns=['season', 'team'])\n"
   ]
  },
  {
   "cell_type": "code",
   "execution_count": 19,
   "metadata": {},
   "outputs": [],
   "source": [
    "ger98 = ger98xg13.mean()"
   ]
  },
  {
   "cell_type": "code",
   "execution_count": 20,
   "metadata": {},
   "outputs": [
    {
     "data": {
      "text/plain": [
       "goals_z            0.245385\n",
       "xg_z               0.097692\n",
       "crosses_z          0.549231\n",
       "boxtouches_z       0.490000\n",
       "passes_z           0.090769\n",
       "progpasses_z       0.071538\n",
       "takeons_z         -0.473077\n",
       "progruns_z        -0.150769\n",
       "tackles_z          0.096923\n",
       "interceptions_z    0.277692\n",
       "clearances_z      -0.153077\n",
       "blocks_z          -0.212308\n",
       "aerials_z          0.033846\n",
       "fouls_z           -0.145385\n",
       "fouled_z          -0.036154\n",
       "nsxg_z             0.487692\n",
       "dtype: float64"
      ]
     },
     "execution_count": 20,
     "metadata": {},
     "output_type": "execute_result"
    }
   ],
   "source": [
    "ger98"
   ]
  },
  {
   "cell_type": "code",
   "execution_count": 21,
   "metadata": {},
   "outputs": [
    {
     "data": {
      "text/plain": [
       "0.24538461538461548"
      ]
     },
     "execution_count": 21,
     "metadata": {},
     "output_type": "execute_result"
    }
   ],
   "source": [
    "ger98[0]"
   ]
  },
  {
   "cell_type": "markdown",
   "metadata": {},
   "source": [
    "# Germany 1994"
   ]
  },
  {
   "cell_type": "code",
   "execution_count": 22,
   "metadata": {},
   "outputs": [],
   "source": [
    "ger94year = ger_year.loc[ger_year[\"season\"].isin(year1994)]"
   ]
  },
  {
   "cell_type": "code",
   "execution_count": 23,
   "metadata": {},
   "outputs": [],
   "source": [
    "ger94xg = ger94year.sort_values(by=[\"goals_z\"], ascending=False)"
   ]
  },
  {
   "cell_type": "code",
   "execution_count": 24,
   "metadata": {},
   "outputs": [],
   "source": [
    "ger94xg13 = ger94xg.head(13)"
   ]
  },
  {
   "cell_type": "code",
   "execution_count": 25,
   "metadata": {},
   "outputs": [],
   "source": [
    "ger94xg13 = ger94xg13.drop(columns=['season', 'team'])\n"
   ]
  },
  {
   "cell_type": "code",
   "execution_count": 26,
   "metadata": {},
   "outputs": [],
   "source": [
    "ger94 = ger94xg13.mean()"
   ]
  },
  {
   "cell_type": "code",
   "execution_count": 27,
   "metadata": {},
   "outputs": [
    {
     "data": {
      "text/plain": [
       "goals_z            0.337692\n",
       "xg_z               0.270000\n",
       "crosses_z          0.292308\n",
       "boxtouches_z       0.281538\n",
       "passes_z           0.065385\n",
       "progpasses_z      -0.142308\n",
       "takeons_z         -0.076923\n",
       "progruns_z         0.430000\n",
       "tackles_z          0.688462\n",
       "interceptions_z    0.002308\n",
       "clearances_z       0.020769\n",
       "blocks_z           0.165385\n",
       "aerials_z         -0.075385\n",
       "fouls_z            0.193077\n",
       "fouled_z           0.087692\n",
       "nsxg_z             0.393846\n",
       "dtype: float64"
      ]
     },
     "execution_count": 27,
     "metadata": {},
     "output_type": "execute_result"
    }
   ],
   "source": [
    "ger94"
   ]
  },
  {
   "cell_type": "markdown",
   "metadata": {},
   "source": [
    "# Germany 1990"
   ]
  },
  {
   "cell_type": "code",
   "execution_count": 28,
   "metadata": {},
   "outputs": [],
   "source": [
    "ger = [\"West Germany\"]"
   ]
  },
  {
   "cell_type": "code",
   "execution_count": 29,
   "metadata": {},
   "outputs": [],
   "source": [
    "ger_year = df.loc[df[\"team\"].isin(ger)]"
   ]
  },
  {
   "cell_type": "code",
   "execution_count": 30,
   "metadata": {},
   "outputs": [],
   "source": [
    "ger90year = ger_year.loc[ger_year[\"season\"].isin(year1990)]"
   ]
  },
  {
   "cell_type": "code",
   "execution_count": 31,
   "metadata": {},
   "outputs": [],
   "source": [
    "ger90xg = ger90year.sort_values(by=[\"goals_z\"], ascending=False)"
   ]
  },
  {
   "cell_type": "code",
   "execution_count": 32,
   "metadata": {},
   "outputs": [],
   "source": [
    "ger90xg13 = ger90xg.head(13)"
   ]
  },
  {
   "cell_type": "code",
   "execution_count": 33,
   "metadata": {},
   "outputs": [],
   "source": [
    "ger90xg13 = ger90xg13.drop(columns=['season', 'team'])\n"
   ]
  },
  {
   "cell_type": "code",
   "execution_count": 34,
   "metadata": {},
   "outputs": [],
   "source": [
    "ger90 = ger90xg13.mean()"
   ]
  },
  {
   "cell_type": "code",
   "execution_count": 35,
   "metadata": {},
   "outputs": [
    {
     "data": {
      "text/plain": [
       "goals_z            0.673077\n",
       "xg_z               0.642308\n",
       "crosses_z          0.502308\n",
       "boxtouches_z       0.277692\n",
       "passes_z           0.310000\n",
       "progpasses_z       0.146923\n",
       "takeons_z          0.153077\n",
       "progruns_z         0.081538\n",
       "tackles_z          0.814615\n",
       "interceptions_z    0.464615\n",
       "clearances_z      -0.150769\n",
       "blocks_z          -0.007692\n",
       "aerials_z         -0.060769\n",
       "fouls_z           -0.220000\n",
       "fouled_z           0.006154\n",
       "nsxg_z             0.387692\n",
       "dtype: float64"
      ]
     },
     "execution_count": 35,
     "metadata": {},
     "output_type": "execute_result"
    }
   ],
   "source": [
    "ger90"
   ]
  },
  {
   "cell_type": "markdown",
   "metadata": {},
   "source": [
    "# Germany 1986"
   ]
  },
  {
   "cell_type": "code",
   "execution_count": 36,
   "metadata": {},
   "outputs": [],
   "source": [
    "ger86year = ger_year.loc[ger_year[\"season\"].isin(year1986)]"
   ]
  },
  {
   "cell_type": "code",
   "execution_count": 37,
   "metadata": {},
   "outputs": [],
   "source": [
    "ger86xg = ger86year.sort_values(by=[\"goals_z\"], ascending=False)"
   ]
  },
  {
   "cell_type": "code",
   "execution_count": 38,
   "metadata": {},
   "outputs": [],
   "source": [
    "ger86xg13 = ger86xg.head(13)"
   ]
  },
  {
   "cell_type": "code",
   "execution_count": 39,
   "metadata": {},
   "outputs": [],
   "source": [
    "ger86xg13 = ger86xg13.drop(columns=['season', 'team'])\n"
   ]
  },
  {
   "cell_type": "code",
   "execution_count": 40,
   "metadata": {},
   "outputs": [],
   "source": [
    "ger86 = ger86xg13.mean()"
   ]
  },
  {
   "cell_type": "code",
   "execution_count": 41,
   "metadata": {},
   "outputs": [
    {
     "data": {
      "text/plain": [
       "goals_z            0.114615\n",
       "xg_z               0.155385\n",
       "crosses_z          0.271538\n",
       "boxtouches_z       0.330769\n",
       "passes_z          -0.015385\n",
       "progpasses_z       0.028462\n",
       "takeons_z          0.128462\n",
       "progruns_z         0.109231\n",
       "tackles_z          0.130769\n",
       "interceptions_z    0.056923\n",
       "clearances_z      -0.232308\n",
       "blocks_z          -0.146923\n",
       "aerials_z         -0.023077\n",
       "fouls_z            0.078462\n",
       "fouled_z           0.532308\n",
       "nsxg_z             0.140769\n",
       "dtype: float64"
      ]
     },
     "execution_count": 41,
     "metadata": {},
     "output_type": "execute_result"
    }
   ],
   "source": [
    "ger86"
   ]
  },
  {
   "cell_type": "markdown",
   "metadata": {},
   "source": [
    "# Germany 1982"
   ]
  },
  {
   "cell_type": "code",
   "execution_count": 42,
   "metadata": {},
   "outputs": [],
   "source": [
    "ger82year = ger_year.loc[ger_year[\"season\"].isin(year1982)]"
   ]
  },
  {
   "cell_type": "code",
   "execution_count": 43,
   "metadata": {},
   "outputs": [],
   "source": [
    "ger82xg = ger82year.sort_values(by=[\"goals_z\"], ascending=False)"
   ]
  },
  {
   "cell_type": "code",
   "execution_count": 44,
   "metadata": {},
   "outputs": [],
   "source": [
    "ger82xg13 = ger82xg.head(13)"
   ]
  },
  {
   "cell_type": "code",
   "execution_count": 45,
   "metadata": {},
   "outputs": [],
   "source": [
    "ger82xg13 = ger82xg13.drop(columns=['season', 'team'])\n"
   ]
  },
  {
   "cell_type": "code",
   "execution_count": 46,
   "metadata": {},
   "outputs": [],
   "source": [
    "ger82 = ger82xg13.mean()"
   ]
  },
  {
   "cell_type": "code",
   "execution_count": 47,
   "metadata": {},
   "outputs": [
    {
     "data": {
      "text/plain": [
       "goals_z            0.250769\n",
       "xg_z               0.222308\n",
       "crosses_z          0.003077\n",
       "boxtouches_z       0.405385\n",
       "passes_z          -0.270000\n",
       "progpasses_z      -0.150000\n",
       "takeons_z          0.110000\n",
       "progruns_z        -0.088462\n",
       "tackles_z          0.006154\n",
       "interceptions_z   -0.210769\n",
       "clearances_z      -0.257692\n",
       "blocks_z          -0.124615\n",
       "aerials_z         -0.004615\n",
       "fouls_z            0.013077\n",
       "fouled_z           0.054615\n",
       "nsxg_z             0.177692\n",
       "dtype: float64"
      ]
     },
     "execution_count": 47,
     "metadata": {},
     "output_type": "execute_result"
    }
   ],
   "source": [
    "ger82"
   ]
  },
  {
   "cell_type": "code",
   "execution_count": 48,
   "metadata": {},
   "outputs": [],
   "source": [
    "ger = pd.concat([ger98, ger94, ger90, ger86, ger82], axis=1).T"
   ]
  },
  {
   "cell_type": "markdown",
   "metadata": {},
   "source": [
    "## Export Transposed Germany df as csv and update"
   ]
  },
  {
   "cell_type": "code",
   "execution_count": 49,
   "metadata": {},
   "outputs": [
    {
     "data": {
      "text/html": [
       "<div>\n",
       "<style scoped>\n",
       "    .dataframe tbody tr th:only-of-type {\n",
       "        vertical-align: middle;\n",
       "    }\n",
       "\n",
       "    .dataframe tbody tr th {\n",
       "        vertical-align: top;\n",
       "    }\n",
       "\n",
       "    .dataframe thead th {\n",
       "        text-align: right;\n",
       "    }\n",
       "</style>\n",
       "<table border=\"1\" class=\"dataframe\">\n",
       "  <thead>\n",
       "    <tr style=\"text-align: right;\">\n",
       "      <th></th>\n",
       "      <th>goals_z</th>\n",
       "      <th>xg_z</th>\n",
       "      <th>crosses_z</th>\n",
       "      <th>boxtouches_z</th>\n",
       "      <th>passes_z</th>\n",
       "      <th>progpasses_z</th>\n",
       "      <th>takeons_z</th>\n",
       "      <th>progruns_z</th>\n",
       "      <th>tackles_z</th>\n",
       "      <th>interceptions_z</th>\n",
       "      <th>clearances_z</th>\n",
       "      <th>blocks_z</th>\n",
       "      <th>aerials_z</th>\n",
       "      <th>fouls_z</th>\n",
       "      <th>fouled_z</th>\n",
       "      <th>nsxg_z</th>\n",
       "    </tr>\n",
       "  </thead>\n",
       "  <tbody>\n",
       "    <tr>\n",
       "      <th>0</th>\n",
       "      <td>0.245385</td>\n",
       "      <td>0.097692</td>\n",
       "      <td>0.549231</td>\n",
       "      <td>0.490000</td>\n",
       "      <td>0.090769</td>\n",
       "      <td>0.071538</td>\n",
       "      <td>-0.473077</td>\n",
       "      <td>-0.150769</td>\n",
       "      <td>0.096923</td>\n",
       "      <td>0.277692</td>\n",
       "      <td>-0.153077</td>\n",
       "      <td>-0.212308</td>\n",
       "      <td>0.033846</td>\n",
       "      <td>-0.145385</td>\n",
       "      <td>-0.036154</td>\n",
       "      <td>0.487692</td>\n",
       "    </tr>\n",
       "    <tr>\n",
       "      <th>1</th>\n",
       "      <td>0.337692</td>\n",
       "      <td>0.270000</td>\n",
       "      <td>0.292308</td>\n",
       "      <td>0.281538</td>\n",
       "      <td>0.065385</td>\n",
       "      <td>-0.142308</td>\n",
       "      <td>-0.076923</td>\n",
       "      <td>0.430000</td>\n",
       "      <td>0.688462</td>\n",
       "      <td>0.002308</td>\n",
       "      <td>0.020769</td>\n",
       "      <td>0.165385</td>\n",
       "      <td>-0.075385</td>\n",
       "      <td>0.193077</td>\n",
       "      <td>0.087692</td>\n",
       "      <td>0.393846</td>\n",
       "    </tr>\n",
       "    <tr>\n",
       "      <th>2</th>\n",
       "      <td>0.673077</td>\n",
       "      <td>0.642308</td>\n",
       "      <td>0.502308</td>\n",
       "      <td>0.277692</td>\n",
       "      <td>0.310000</td>\n",
       "      <td>0.146923</td>\n",
       "      <td>0.153077</td>\n",
       "      <td>0.081538</td>\n",
       "      <td>0.814615</td>\n",
       "      <td>0.464615</td>\n",
       "      <td>-0.150769</td>\n",
       "      <td>-0.007692</td>\n",
       "      <td>-0.060769</td>\n",
       "      <td>-0.220000</td>\n",
       "      <td>0.006154</td>\n",
       "      <td>0.387692</td>\n",
       "    </tr>\n",
       "    <tr>\n",
       "      <th>3</th>\n",
       "      <td>0.114615</td>\n",
       "      <td>0.155385</td>\n",
       "      <td>0.271538</td>\n",
       "      <td>0.330769</td>\n",
       "      <td>-0.015385</td>\n",
       "      <td>0.028462</td>\n",
       "      <td>0.128462</td>\n",
       "      <td>0.109231</td>\n",
       "      <td>0.130769</td>\n",
       "      <td>0.056923</td>\n",
       "      <td>-0.232308</td>\n",
       "      <td>-0.146923</td>\n",
       "      <td>-0.023077</td>\n",
       "      <td>0.078462</td>\n",
       "      <td>0.532308</td>\n",
       "      <td>0.140769</td>\n",
       "    </tr>\n",
       "    <tr>\n",
       "      <th>4</th>\n",
       "      <td>0.250769</td>\n",
       "      <td>0.222308</td>\n",
       "      <td>0.003077</td>\n",
       "      <td>0.405385</td>\n",
       "      <td>-0.270000</td>\n",
       "      <td>-0.150000</td>\n",
       "      <td>0.110000</td>\n",
       "      <td>-0.088462</td>\n",
       "      <td>0.006154</td>\n",
       "      <td>-0.210769</td>\n",
       "      <td>-0.257692</td>\n",
       "      <td>-0.124615</td>\n",
       "      <td>-0.004615</td>\n",
       "      <td>0.013077</td>\n",
       "      <td>0.054615</td>\n",
       "      <td>0.177692</td>\n",
       "    </tr>\n",
       "  </tbody>\n",
       "</table>\n",
       "</div>"
      ],
      "text/plain": [
       "    goals_z      xg_z  crosses_z  boxtouches_z  passes_z  progpasses_z  \\\n",
       "0  0.245385  0.097692   0.549231      0.490000  0.090769      0.071538   \n",
       "1  0.337692  0.270000   0.292308      0.281538  0.065385     -0.142308   \n",
       "2  0.673077  0.642308   0.502308      0.277692  0.310000      0.146923   \n",
       "3  0.114615  0.155385   0.271538      0.330769 -0.015385      0.028462   \n",
       "4  0.250769  0.222308   0.003077      0.405385 -0.270000     -0.150000   \n",
       "\n",
       "   takeons_z  progruns_z  tackles_z  interceptions_z  clearances_z  blocks_z  \\\n",
       "0  -0.473077   -0.150769   0.096923         0.277692     -0.153077 -0.212308   \n",
       "1  -0.076923    0.430000   0.688462         0.002308      0.020769  0.165385   \n",
       "2   0.153077    0.081538   0.814615         0.464615     -0.150769 -0.007692   \n",
       "3   0.128462    0.109231   0.130769         0.056923     -0.232308 -0.146923   \n",
       "4   0.110000   -0.088462   0.006154        -0.210769     -0.257692 -0.124615   \n",
       "\n",
       "   aerials_z   fouls_z  fouled_z    nsxg_z  \n",
       "0   0.033846 -0.145385 -0.036154  0.487692  \n",
       "1  -0.075385  0.193077  0.087692  0.393846  \n",
       "2  -0.060769 -0.220000  0.006154  0.387692  \n",
       "3  -0.023077  0.078462  0.532308  0.140769  \n",
       "4  -0.004615  0.013077  0.054615  0.177692  "
      ]
     },
     "execution_count": 49,
     "metadata": {},
     "output_type": "execute_result"
    }
   ],
   "source": [
    "ger"
   ]
  },
  {
   "cell_type": "code",
   "execution_count": 50,
   "metadata": {},
   "outputs": [],
   "source": [
    "ger.rename(index={0: 'Germany98', 1: 'Germany94', \n",
    "                 2: 'Germany90', 3: 'Germany86', 4: 'Germany82'}, inplace=True)"
   ]
  },
  {
   "cell_type": "code",
   "execution_count": 51,
   "metadata": {},
   "outputs": [
    {
     "data": {
      "text/html": [
       "<div>\n",
       "<style scoped>\n",
       "    .dataframe tbody tr th:only-of-type {\n",
       "        vertical-align: middle;\n",
       "    }\n",
       "\n",
       "    .dataframe tbody tr th {\n",
       "        vertical-align: top;\n",
       "    }\n",
       "\n",
       "    .dataframe thead th {\n",
       "        text-align: right;\n",
       "    }\n",
       "</style>\n",
       "<table border=\"1\" class=\"dataframe\">\n",
       "  <thead>\n",
       "    <tr style=\"text-align: right;\">\n",
       "      <th></th>\n",
       "      <th>goals_z</th>\n",
       "      <th>xg_z</th>\n",
       "      <th>crosses_z</th>\n",
       "      <th>boxtouches_z</th>\n",
       "      <th>passes_z</th>\n",
       "      <th>progpasses_z</th>\n",
       "      <th>takeons_z</th>\n",
       "      <th>progruns_z</th>\n",
       "      <th>tackles_z</th>\n",
       "      <th>interceptions_z</th>\n",
       "      <th>clearances_z</th>\n",
       "      <th>blocks_z</th>\n",
       "      <th>aerials_z</th>\n",
       "      <th>fouls_z</th>\n",
       "      <th>fouled_z</th>\n",
       "      <th>nsxg_z</th>\n",
       "    </tr>\n",
       "  </thead>\n",
       "  <tbody>\n",
       "    <tr>\n",
       "      <th>Germany98</th>\n",
       "      <td>0.245385</td>\n",
       "      <td>0.097692</td>\n",
       "      <td>0.549231</td>\n",
       "      <td>0.490000</td>\n",
       "      <td>0.090769</td>\n",
       "      <td>0.071538</td>\n",
       "      <td>-0.473077</td>\n",
       "      <td>-0.150769</td>\n",
       "      <td>0.096923</td>\n",
       "      <td>0.277692</td>\n",
       "      <td>-0.153077</td>\n",
       "      <td>-0.212308</td>\n",
       "      <td>0.033846</td>\n",
       "      <td>-0.145385</td>\n",
       "      <td>-0.036154</td>\n",
       "      <td>0.487692</td>\n",
       "    </tr>\n",
       "    <tr>\n",
       "      <th>Germany94</th>\n",
       "      <td>0.337692</td>\n",
       "      <td>0.270000</td>\n",
       "      <td>0.292308</td>\n",
       "      <td>0.281538</td>\n",
       "      <td>0.065385</td>\n",
       "      <td>-0.142308</td>\n",
       "      <td>-0.076923</td>\n",
       "      <td>0.430000</td>\n",
       "      <td>0.688462</td>\n",
       "      <td>0.002308</td>\n",
       "      <td>0.020769</td>\n",
       "      <td>0.165385</td>\n",
       "      <td>-0.075385</td>\n",
       "      <td>0.193077</td>\n",
       "      <td>0.087692</td>\n",
       "      <td>0.393846</td>\n",
       "    </tr>\n",
       "    <tr>\n",
       "      <th>Germany90</th>\n",
       "      <td>0.673077</td>\n",
       "      <td>0.642308</td>\n",
       "      <td>0.502308</td>\n",
       "      <td>0.277692</td>\n",
       "      <td>0.310000</td>\n",
       "      <td>0.146923</td>\n",
       "      <td>0.153077</td>\n",
       "      <td>0.081538</td>\n",
       "      <td>0.814615</td>\n",
       "      <td>0.464615</td>\n",
       "      <td>-0.150769</td>\n",
       "      <td>-0.007692</td>\n",
       "      <td>-0.060769</td>\n",
       "      <td>-0.220000</td>\n",
       "      <td>0.006154</td>\n",
       "      <td>0.387692</td>\n",
       "    </tr>\n",
       "    <tr>\n",
       "      <th>Germany86</th>\n",
       "      <td>0.114615</td>\n",
       "      <td>0.155385</td>\n",
       "      <td>0.271538</td>\n",
       "      <td>0.330769</td>\n",
       "      <td>-0.015385</td>\n",
       "      <td>0.028462</td>\n",
       "      <td>0.128462</td>\n",
       "      <td>0.109231</td>\n",
       "      <td>0.130769</td>\n",
       "      <td>0.056923</td>\n",
       "      <td>-0.232308</td>\n",
       "      <td>-0.146923</td>\n",
       "      <td>-0.023077</td>\n",
       "      <td>0.078462</td>\n",
       "      <td>0.532308</td>\n",
       "      <td>0.140769</td>\n",
       "    </tr>\n",
       "    <tr>\n",
       "      <th>Germany82</th>\n",
       "      <td>0.250769</td>\n",
       "      <td>0.222308</td>\n",
       "      <td>0.003077</td>\n",
       "      <td>0.405385</td>\n",
       "      <td>-0.270000</td>\n",
       "      <td>-0.150000</td>\n",
       "      <td>0.110000</td>\n",
       "      <td>-0.088462</td>\n",
       "      <td>0.006154</td>\n",
       "      <td>-0.210769</td>\n",
       "      <td>-0.257692</td>\n",
       "      <td>-0.124615</td>\n",
       "      <td>-0.004615</td>\n",
       "      <td>0.013077</td>\n",
       "      <td>0.054615</td>\n",
       "      <td>0.177692</td>\n",
       "    </tr>\n",
       "  </tbody>\n",
       "</table>\n",
       "</div>"
      ],
      "text/plain": [
       "            goals_z      xg_z  crosses_z  boxtouches_z  passes_z  \\\n",
       "Germany98  0.245385  0.097692   0.549231      0.490000  0.090769   \n",
       "Germany94  0.337692  0.270000   0.292308      0.281538  0.065385   \n",
       "Germany90  0.673077  0.642308   0.502308      0.277692  0.310000   \n",
       "Germany86  0.114615  0.155385   0.271538      0.330769 -0.015385   \n",
       "Germany82  0.250769  0.222308   0.003077      0.405385 -0.270000   \n",
       "\n",
       "           progpasses_z  takeons_z  progruns_z  tackles_z  interceptions_z  \\\n",
       "Germany98      0.071538  -0.473077   -0.150769   0.096923         0.277692   \n",
       "Germany94     -0.142308  -0.076923    0.430000   0.688462         0.002308   \n",
       "Germany90      0.146923   0.153077    0.081538   0.814615         0.464615   \n",
       "Germany86      0.028462   0.128462    0.109231   0.130769         0.056923   \n",
       "Germany82     -0.150000   0.110000   -0.088462   0.006154        -0.210769   \n",
       "\n",
       "           clearances_z  blocks_z  aerials_z   fouls_z  fouled_z    nsxg_z  \n",
       "Germany98     -0.153077 -0.212308   0.033846 -0.145385 -0.036154  0.487692  \n",
       "Germany94      0.020769  0.165385  -0.075385  0.193077  0.087692  0.393846  \n",
       "Germany90     -0.150769 -0.007692  -0.060769 -0.220000  0.006154  0.387692  \n",
       "Germany86     -0.232308 -0.146923  -0.023077  0.078462  0.532308  0.140769  \n",
       "Germany82     -0.257692 -0.124615  -0.004615  0.013077  0.054615  0.177692  "
      ]
     },
     "execution_count": 51,
     "metadata": {},
     "output_type": "execute_result"
    }
   ],
   "source": [
    "ger"
   ]
  },
  {
   "cell_type": "code",
   "execution_count": 52,
   "metadata": {},
   "outputs": [],
   "source": [
    "df2 = ger.assign(results=[7, 5, 1, 2, 2])"
   ]
  },
  {
   "cell_type": "code",
   "execution_count": 53,
   "metadata": {},
   "outputs": [
    {
     "data": {
      "text/html": [
       "<div>\n",
       "<style scoped>\n",
       "    .dataframe tbody tr th:only-of-type {\n",
       "        vertical-align: middle;\n",
       "    }\n",
       "\n",
       "    .dataframe tbody tr th {\n",
       "        vertical-align: top;\n",
       "    }\n",
       "\n",
       "    .dataframe thead th {\n",
       "        text-align: right;\n",
       "    }\n",
       "</style>\n",
       "<table border=\"1\" class=\"dataframe\">\n",
       "  <thead>\n",
       "    <tr style=\"text-align: right;\">\n",
       "      <th></th>\n",
       "      <th>goals_z</th>\n",
       "      <th>xg_z</th>\n",
       "      <th>crosses_z</th>\n",
       "      <th>boxtouches_z</th>\n",
       "      <th>passes_z</th>\n",
       "      <th>progpasses_z</th>\n",
       "      <th>takeons_z</th>\n",
       "      <th>progruns_z</th>\n",
       "      <th>tackles_z</th>\n",
       "      <th>interceptions_z</th>\n",
       "      <th>clearances_z</th>\n",
       "      <th>blocks_z</th>\n",
       "      <th>aerials_z</th>\n",
       "      <th>fouls_z</th>\n",
       "      <th>fouled_z</th>\n",
       "      <th>nsxg_z</th>\n",
       "      <th>results</th>\n",
       "    </tr>\n",
       "  </thead>\n",
       "  <tbody>\n",
       "    <tr>\n",
       "      <th>Germany98</th>\n",
       "      <td>0.245385</td>\n",
       "      <td>0.097692</td>\n",
       "      <td>0.549231</td>\n",
       "      <td>0.490000</td>\n",
       "      <td>0.090769</td>\n",
       "      <td>0.071538</td>\n",
       "      <td>-0.473077</td>\n",
       "      <td>-0.150769</td>\n",
       "      <td>0.096923</td>\n",
       "      <td>0.277692</td>\n",
       "      <td>-0.153077</td>\n",
       "      <td>-0.212308</td>\n",
       "      <td>0.033846</td>\n",
       "      <td>-0.145385</td>\n",
       "      <td>-0.036154</td>\n",
       "      <td>0.487692</td>\n",
       "      <td>7</td>\n",
       "    </tr>\n",
       "    <tr>\n",
       "      <th>Germany94</th>\n",
       "      <td>0.337692</td>\n",
       "      <td>0.270000</td>\n",
       "      <td>0.292308</td>\n",
       "      <td>0.281538</td>\n",
       "      <td>0.065385</td>\n",
       "      <td>-0.142308</td>\n",
       "      <td>-0.076923</td>\n",
       "      <td>0.430000</td>\n",
       "      <td>0.688462</td>\n",
       "      <td>0.002308</td>\n",
       "      <td>0.020769</td>\n",
       "      <td>0.165385</td>\n",
       "      <td>-0.075385</td>\n",
       "      <td>0.193077</td>\n",
       "      <td>0.087692</td>\n",
       "      <td>0.393846</td>\n",
       "      <td>5</td>\n",
       "    </tr>\n",
       "    <tr>\n",
       "      <th>Germany90</th>\n",
       "      <td>0.673077</td>\n",
       "      <td>0.642308</td>\n",
       "      <td>0.502308</td>\n",
       "      <td>0.277692</td>\n",
       "      <td>0.310000</td>\n",
       "      <td>0.146923</td>\n",
       "      <td>0.153077</td>\n",
       "      <td>0.081538</td>\n",
       "      <td>0.814615</td>\n",
       "      <td>0.464615</td>\n",
       "      <td>-0.150769</td>\n",
       "      <td>-0.007692</td>\n",
       "      <td>-0.060769</td>\n",
       "      <td>-0.220000</td>\n",
       "      <td>0.006154</td>\n",
       "      <td>0.387692</td>\n",
       "      <td>1</td>\n",
       "    </tr>\n",
       "    <tr>\n",
       "      <th>Germany86</th>\n",
       "      <td>0.114615</td>\n",
       "      <td>0.155385</td>\n",
       "      <td>0.271538</td>\n",
       "      <td>0.330769</td>\n",
       "      <td>-0.015385</td>\n",
       "      <td>0.028462</td>\n",
       "      <td>0.128462</td>\n",
       "      <td>0.109231</td>\n",
       "      <td>0.130769</td>\n",
       "      <td>0.056923</td>\n",
       "      <td>-0.232308</td>\n",
       "      <td>-0.146923</td>\n",
       "      <td>-0.023077</td>\n",
       "      <td>0.078462</td>\n",
       "      <td>0.532308</td>\n",
       "      <td>0.140769</td>\n",
       "      <td>2</td>\n",
       "    </tr>\n",
       "    <tr>\n",
       "      <th>Germany82</th>\n",
       "      <td>0.250769</td>\n",
       "      <td>0.222308</td>\n",
       "      <td>0.003077</td>\n",
       "      <td>0.405385</td>\n",
       "      <td>-0.270000</td>\n",
       "      <td>-0.150000</td>\n",
       "      <td>0.110000</td>\n",
       "      <td>-0.088462</td>\n",
       "      <td>0.006154</td>\n",
       "      <td>-0.210769</td>\n",
       "      <td>-0.257692</td>\n",
       "      <td>-0.124615</td>\n",
       "      <td>-0.004615</td>\n",
       "      <td>0.013077</td>\n",
       "      <td>0.054615</td>\n",
       "      <td>0.177692</td>\n",
       "      <td>2</td>\n",
       "    </tr>\n",
       "  </tbody>\n",
       "</table>\n",
       "</div>"
      ],
      "text/plain": [
       "            goals_z      xg_z  crosses_z  boxtouches_z  passes_z  \\\n",
       "Germany98  0.245385  0.097692   0.549231      0.490000  0.090769   \n",
       "Germany94  0.337692  0.270000   0.292308      0.281538  0.065385   \n",
       "Germany90  0.673077  0.642308   0.502308      0.277692  0.310000   \n",
       "Germany86  0.114615  0.155385   0.271538      0.330769 -0.015385   \n",
       "Germany82  0.250769  0.222308   0.003077      0.405385 -0.270000   \n",
       "\n",
       "           progpasses_z  takeons_z  progruns_z  tackles_z  interceptions_z  \\\n",
       "Germany98      0.071538  -0.473077   -0.150769   0.096923         0.277692   \n",
       "Germany94     -0.142308  -0.076923    0.430000   0.688462         0.002308   \n",
       "Germany90      0.146923   0.153077    0.081538   0.814615         0.464615   \n",
       "Germany86      0.028462   0.128462    0.109231   0.130769         0.056923   \n",
       "Germany82     -0.150000   0.110000   -0.088462   0.006154        -0.210769   \n",
       "\n",
       "           clearances_z  blocks_z  aerials_z   fouls_z  fouled_z    nsxg_z  \\\n",
       "Germany98     -0.153077 -0.212308   0.033846 -0.145385 -0.036154  0.487692   \n",
       "Germany94      0.020769  0.165385  -0.075385  0.193077  0.087692  0.393846   \n",
       "Germany90     -0.150769 -0.007692  -0.060769 -0.220000  0.006154  0.387692   \n",
       "Germany86     -0.232308 -0.146923  -0.023077  0.078462  0.532308  0.140769   \n",
       "Germany82     -0.257692 -0.124615  -0.004615  0.013077  0.054615  0.177692   \n",
       "\n",
       "           results  \n",
       "Germany98        7  \n",
       "Germany94        5  \n",
       "Germany90        1  \n",
       "Germany86        2  \n",
       "Germany82        2  "
      ]
     },
     "execution_count": 53,
     "metadata": {},
     "output_type": "execute_result"
    }
   ],
   "source": [
    "df2"
   ]
  },
  {
   "cell_type": "code",
   "execution_count": 54,
   "metadata": {},
   "outputs": [],
   "source": [
    "# df2.to_csv('germany.csv', index=False)"
   ]
  },
  {
   "cell_type": "markdown",
   "metadata": {},
   "source": [
    "# Switzerland"
   ]
  },
  {
   "cell_type": "code",
   "execution_count": 55,
   "metadata": {},
   "outputs": [],
   "source": [
    "swi = [\"Switzerland\"]"
   ]
  },
  {
   "cell_type": "code",
   "execution_count": 56,
   "metadata": {},
   "outputs": [],
   "source": [
    "swi_year = df.loc[df[\"team\"].isin(swi)]"
   ]
  },
  {
   "cell_type": "code",
   "execution_count": 57,
   "metadata": {},
   "outputs": [],
   "source": [
    "swi94year = swi_year.loc[swi_year[\"season\"].isin(year1994)]"
   ]
  },
  {
   "cell_type": "code",
   "execution_count": 58,
   "metadata": {},
   "outputs": [],
   "source": [
    "swi94xg = swi94year.sort_values(by=[\"goals_z\"], ascending=False)"
   ]
  },
  {
   "cell_type": "code",
   "execution_count": 59,
   "metadata": {},
   "outputs": [],
   "source": [
    "swi94xg13 = swi94xg.head(13)"
   ]
  },
  {
   "cell_type": "code",
   "execution_count": 60,
   "metadata": {},
   "outputs": [],
   "source": [
    "swi94xg13 = swi94xg13.drop(columns=['season', 'team'])"
   ]
  },
  {
   "cell_type": "code",
   "execution_count": 61,
   "metadata": {},
   "outputs": [],
   "source": [
    "swi94 = swi94xg13.mean()"
   ]
  },
  {
   "cell_type": "code",
   "execution_count": 62,
   "metadata": {},
   "outputs": [
    {
     "data": {
      "text/plain": [
       "goals_z            0.116923\n",
       "xg_z               0.051538\n",
       "crosses_z          0.350000\n",
       "boxtouches_z       0.203846\n",
       "passes_z           0.052308\n",
       "progpasses_z       0.103077\n",
       "takeons_z         -0.336923\n",
       "progruns_z        -0.336154\n",
       "tackles_z         -0.186154\n",
       "interceptions_z    0.073077\n",
       "clearances_z      -0.076154\n",
       "blocks_z          -0.123077\n",
       "aerials_z         -0.044615\n",
       "fouls_z            0.094615\n",
       "fouled_z           0.184615\n",
       "nsxg_z             0.209231\n",
       "dtype: float64"
      ]
     },
     "execution_count": 62,
     "metadata": {},
     "output_type": "execute_result"
    }
   ],
   "source": [
    "swi94"
   ]
  },
  {
   "cell_type": "code",
   "execution_count": 63,
   "metadata": {},
   "outputs": [],
   "source": [
    "swiss = pd.concat([swi94], axis=1).T"
   ]
  },
  {
   "cell_type": "code",
   "execution_count": 64,
   "metadata": {},
   "outputs": [
    {
     "data": {
      "text/html": [
       "<div>\n",
       "<style scoped>\n",
       "    .dataframe tbody tr th:only-of-type {\n",
       "        vertical-align: middle;\n",
       "    }\n",
       "\n",
       "    .dataframe tbody tr th {\n",
       "        vertical-align: top;\n",
       "    }\n",
       "\n",
       "    .dataframe thead th {\n",
       "        text-align: right;\n",
       "    }\n",
       "</style>\n",
       "<table border=\"1\" class=\"dataframe\">\n",
       "  <thead>\n",
       "    <tr style=\"text-align: right;\">\n",
       "      <th></th>\n",
       "      <th>goals_z</th>\n",
       "      <th>xg_z</th>\n",
       "      <th>crosses_z</th>\n",
       "      <th>boxtouches_z</th>\n",
       "      <th>passes_z</th>\n",
       "      <th>progpasses_z</th>\n",
       "      <th>takeons_z</th>\n",
       "      <th>progruns_z</th>\n",
       "      <th>tackles_z</th>\n",
       "      <th>interceptions_z</th>\n",
       "      <th>clearances_z</th>\n",
       "      <th>blocks_z</th>\n",
       "      <th>aerials_z</th>\n",
       "      <th>fouls_z</th>\n",
       "      <th>fouled_z</th>\n",
       "      <th>nsxg_z</th>\n",
       "    </tr>\n",
       "  </thead>\n",
       "  <tbody>\n",
       "    <tr>\n",
       "      <th>0</th>\n",
       "      <td>0.116923</td>\n",
       "      <td>0.051538</td>\n",
       "      <td>0.35</td>\n",
       "      <td>0.203846</td>\n",
       "      <td>0.052308</td>\n",
       "      <td>0.103077</td>\n",
       "      <td>-0.336923</td>\n",
       "      <td>-0.336154</td>\n",
       "      <td>-0.186154</td>\n",
       "      <td>0.073077</td>\n",
       "      <td>-0.076154</td>\n",
       "      <td>-0.123077</td>\n",
       "      <td>-0.044615</td>\n",
       "      <td>0.094615</td>\n",
       "      <td>0.184615</td>\n",
       "      <td>0.209231</td>\n",
       "    </tr>\n",
       "  </tbody>\n",
       "</table>\n",
       "</div>"
      ],
      "text/plain": [
       "    goals_z      xg_z  crosses_z  boxtouches_z  passes_z  progpasses_z  \\\n",
       "0  0.116923  0.051538       0.35      0.203846  0.052308      0.103077   \n",
       "\n",
       "   takeons_z  progruns_z  tackles_z  interceptions_z  clearances_z  blocks_z  \\\n",
       "0  -0.336923   -0.336154  -0.186154         0.073077     -0.076154 -0.123077   \n",
       "\n",
       "   aerials_z   fouls_z  fouled_z    nsxg_z  \n",
       "0  -0.044615  0.094615  0.184615  0.209231  "
      ]
     },
     "execution_count": 64,
     "metadata": {},
     "output_type": "execute_result"
    }
   ],
   "source": [
    "swiss"
   ]
  },
  {
   "cell_type": "code",
   "execution_count": 65,
   "metadata": {},
   "outputs": [],
   "source": [
    "swiss = swiss.rename(index={0: 'Switzerland94'})"
   ]
  },
  {
   "cell_type": "code",
   "execution_count": 66,
   "metadata": {},
   "outputs": [],
   "source": [
    "df2 = swiss.assign(results=[15])"
   ]
  },
  {
   "cell_type": "code",
   "execution_count": 67,
   "metadata": {},
   "outputs": [
    {
     "data": {
      "text/html": [
       "<div>\n",
       "<style scoped>\n",
       "    .dataframe tbody tr th:only-of-type {\n",
       "        vertical-align: middle;\n",
       "    }\n",
       "\n",
       "    .dataframe tbody tr th {\n",
       "        vertical-align: top;\n",
       "    }\n",
       "\n",
       "    .dataframe thead th {\n",
       "        text-align: right;\n",
       "    }\n",
       "</style>\n",
       "<table border=\"1\" class=\"dataframe\">\n",
       "  <thead>\n",
       "    <tr style=\"text-align: right;\">\n",
       "      <th></th>\n",
       "      <th>goals_z</th>\n",
       "      <th>xg_z</th>\n",
       "      <th>crosses_z</th>\n",
       "      <th>boxtouches_z</th>\n",
       "      <th>passes_z</th>\n",
       "      <th>progpasses_z</th>\n",
       "      <th>takeons_z</th>\n",
       "      <th>progruns_z</th>\n",
       "      <th>tackles_z</th>\n",
       "      <th>interceptions_z</th>\n",
       "      <th>clearances_z</th>\n",
       "      <th>blocks_z</th>\n",
       "      <th>aerials_z</th>\n",
       "      <th>fouls_z</th>\n",
       "      <th>fouled_z</th>\n",
       "      <th>nsxg_z</th>\n",
       "      <th>results</th>\n",
       "    </tr>\n",
       "  </thead>\n",
       "  <tbody>\n",
       "    <tr>\n",
       "      <th>Switzerland94</th>\n",
       "      <td>0.116923</td>\n",
       "      <td>0.051538</td>\n",
       "      <td>0.35</td>\n",
       "      <td>0.203846</td>\n",
       "      <td>0.052308</td>\n",
       "      <td>0.103077</td>\n",
       "      <td>-0.336923</td>\n",
       "      <td>-0.336154</td>\n",
       "      <td>-0.186154</td>\n",
       "      <td>0.073077</td>\n",
       "      <td>-0.076154</td>\n",
       "      <td>-0.123077</td>\n",
       "      <td>-0.044615</td>\n",
       "      <td>0.094615</td>\n",
       "      <td>0.184615</td>\n",
       "      <td>0.209231</td>\n",
       "      <td>15</td>\n",
       "    </tr>\n",
       "  </tbody>\n",
       "</table>\n",
       "</div>"
      ],
      "text/plain": [
       "                goals_z      xg_z  crosses_z  boxtouches_z  passes_z  \\\n",
       "Switzerland94  0.116923  0.051538       0.35      0.203846  0.052308   \n",
       "\n",
       "               progpasses_z  takeons_z  progruns_z  tackles_z  \\\n",
       "Switzerland94      0.103077  -0.336923   -0.336154  -0.186154   \n",
       "\n",
       "               interceptions_z  clearances_z  blocks_z  aerials_z   fouls_z  \\\n",
       "Switzerland94         0.073077     -0.076154 -0.123077  -0.044615  0.094615   \n",
       "\n",
       "               fouled_z    nsxg_z  results  \n",
       "Switzerland94  0.184615  0.209231       15  "
      ]
     },
     "execution_count": 67,
     "metadata": {},
     "output_type": "execute_result"
    }
   ],
   "source": [
    "df2"
   ]
  },
  {
   "cell_type": "code",
   "execution_count": 68,
   "metadata": {},
   "outputs": [],
   "source": [
    "# df2.to_csv('Switzerland.csv', index=False)"
   ]
  },
  {
   "cell_type": "markdown",
   "metadata": {},
   "source": [
    "# Brazil 1998"
   ]
  },
  {
   "cell_type": "code",
   "execution_count": 69,
   "metadata": {},
   "outputs": [],
   "source": [
    "bra = ['Brazil']"
   ]
  },
  {
   "cell_type": "code",
   "execution_count": 70,
   "metadata": {},
   "outputs": [],
   "source": [
    "bra_year = df.loc[df[\"team\"].isin(bra)]"
   ]
  },
  {
   "cell_type": "code",
   "execution_count": 71,
   "metadata": {},
   "outputs": [],
   "source": [
    "bra98year = bra_year.loc[bra_year[\"season\"].isin(year1998)]"
   ]
  },
  {
   "cell_type": "code",
   "execution_count": 72,
   "metadata": {},
   "outputs": [],
   "source": [
    "bra98xg = bra98year.sort_values(by=[\"goals_z\"], ascending=False)"
   ]
  },
  {
   "cell_type": "code",
   "execution_count": 73,
   "metadata": {},
   "outputs": [],
   "source": [
    "bra98xg13 = bra98xg.head(13)"
   ]
  },
  {
   "cell_type": "code",
   "execution_count": 74,
   "metadata": {},
   "outputs": [],
   "source": [
    "bra98xg13 = bra98xg13.drop(columns=['season', 'team'])"
   ]
  },
  {
   "cell_type": "code",
   "execution_count": 75,
   "metadata": {},
   "outputs": [],
   "source": [
    "bra98 = bra98xg13.mean()"
   ]
  },
  {
   "cell_type": "code",
   "execution_count": 76,
   "metadata": {},
   "outputs": [
    {
     "data": {
      "text/plain": [
       "goals_z            0.423077\n",
       "xg_z               0.146923\n",
       "crosses_z         -0.136154\n",
       "boxtouches_z      -0.030000\n",
       "passes_z           0.429231\n",
       "progpasses_z       0.037692\n",
       "takeons_z          0.244615\n",
       "progruns_z        -0.220000\n",
       "tackles_z          0.216154\n",
       "interceptions_z    0.270000\n",
       "clearances_z      -0.076923\n",
       "blocks_z          -0.097692\n",
       "aerials_z         -0.020000\n",
       "fouls_z           -0.224615\n",
       "fouled_z           0.100769\n",
       "nsxg_z            -0.124615\n",
       "dtype: float64"
      ]
     },
     "execution_count": 76,
     "metadata": {},
     "output_type": "execute_result"
    }
   ],
   "source": [
    "bra98"
   ]
  },
  {
   "cell_type": "markdown",
   "metadata": {},
   "source": [
    "## 1994"
   ]
  },
  {
   "cell_type": "code",
   "execution_count": 77,
   "metadata": {},
   "outputs": [],
   "source": [
    "bra94year = bra_year.loc[bra_year[\"season\"].isin(year1994)]"
   ]
  },
  {
   "cell_type": "code",
   "execution_count": 78,
   "metadata": {},
   "outputs": [],
   "source": [
    "bra94xg = bra94year.sort_values(by=[\"goals_z\"], ascending=False)"
   ]
  },
  {
   "cell_type": "code",
   "execution_count": 79,
   "metadata": {},
   "outputs": [],
   "source": [
    "bra94xg13 = bra94xg.head(13)"
   ]
  },
  {
   "cell_type": "code",
   "execution_count": 80,
   "metadata": {},
   "outputs": [],
   "source": [
    "bra94xg13 = bra94xg13.drop(columns=['season', 'team'])"
   ]
  },
  {
   "cell_type": "code",
   "execution_count": 81,
   "metadata": {},
   "outputs": [],
   "source": [
    "bra94 = bra94xg13.mean()"
   ]
  },
  {
   "cell_type": "code",
   "execution_count": 82,
   "metadata": {},
   "outputs": [
    {
     "data": {
      "text/plain": [
       "goals_z            0.216923\n",
       "xg_z               0.348462\n",
       "crosses_z          0.031538\n",
       "boxtouches_z       0.158462\n",
       "passes_z           0.835385\n",
       "progpasses_z       0.626923\n",
       "takeons_z          0.270000\n",
       "progruns_z         0.266923\n",
       "tackles_z          1.143846\n",
       "interceptions_z    0.834615\n",
       "clearances_z      -0.059231\n",
       "blocks_z          -0.134615\n",
       "aerials_z          0.196923\n",
       "fouls_z           -0.016923\n",
       "fouled_z           0.033846\n",
       "nsxg_z             0.146923\n",
       "dtype: float64"
      ]
     },
     "execution_count": 82,
     "metadata": {},
     "output_type": "execute_result"
    }
   ],
   "source": [
    "bra94"
   ]
  },
  {
   "cell_type": "markdown",
   "metadata": {},
   "source": [
    "## 1990"
   ]
  },
  {
   "cell_type": "code",
   "execution_count": 83,
   "metadata": {},
   "outputs": [],
   "source": [
    "bra90year = bra_year.loc[bra_year[\"season\"].isin(year1990)]"
   ]
  },
  {
   "cell_type": "code",
   "execution_count": 84,
   "metadata": {},
   "outputs": [],
   "source": [
    "bra90xg = bra90year.sort_values(by=[\"goals_z\"], ascending=False)"
   ]
  },
  {
   "cell_type": "code",
   "execution_count": 85,
   "metadata": {},
   "outputs": [],
   "source": [
    "bra90xg13 = bra90xg.head(13)"
   ]
  },
  {
   "cell_type": "code",
   "execution_count": 86,
   "metadata": {},
   "outputs": [],
   "source": [
    "bra90xg13 = bra90xg13.drop(columns=['season', 'team'])"
   ]
  },
  {
   "cell_type": "code",
   "execution_count": 87,
   "metadata": {},
   "outputs": [],
   "source": [
    "bra90 = bra90xg13.mean()"
   ]
  },
  {
   "cell_type": "code",
   "execution_count": 88,
   "metadata": {},
   "outputs": [
    {
     "data": {
      "text/plain": [
       "goals_z            0.113846\n",
       "xg_z               0.392308\n",
       "crosses_z          0.599231\n",
       "boxtouches_z       0.513846\n",
       "passes_z           0.833077\n",
       "progpasses_z       0.405385\n",
       "takeons_z          0.521538\n",
       "progruns_z         1.139231\n",
       "tackles_z          1.109231\n",
       "interceptions_z    0.859231\n",
       "clearances_z       0.084615\n",
       "blocks_z           0.103077\n",
       "aerials_z          0.683846\n",
       "fouls_z            0.213846\n",
       "fouled_z           0.353846\n",
       "nsxg_z             0.786923\n",
       "dtype: float64"
      ]
     },
     "execution_count": 88,
     "metadata": {},
     "output_type": "execute_result"
    }
   ],
   "source": [
    "bra90"
   ]
  },
  {
   "cell_type": "markdown",
   "metadata": {},
   "source": [
    "## 1986\n"
   ]
  },
  {
   "cell_type": "code",
   "execution_count": 89,
   "metadata": {},
   "outputs": [],
   "source": [
    "bra86year = bra_year.loc[bra_year[\"season\"].isin(year1986)]"
   ]
  },
  {
   "cell_type": "code",
   "execution_count": 90,
   "metadata": {},
   "outputs": [],
   "source": [
    "bra86xg = bra86year.sort_values(by=[\"goals_z\"], ascending=False)"
   ]
  },
  {
   "cell_type": "code",
   "execution_count": 91,
   "metadata": {},
   "outputs": [],
   "source": [
    "bra86xg13 = bra86xg.head(13)"
   ]
  },
  {
   "cell_type": "code",
   "execution_count": 92,
   "metadata": {},
   "outputs": [],
   "source": [
    "bra86xg13 = bra86xg13.drop(columns=['season', 'team'])"
   ]
  },
  {
   "cell_type": "code",
   "execution_count": 93,
   "metadata": {},
   "outputs": [],
   "source": [
    "bra86 = bra86xg13.mean()"
   ]
  },
  {
   "cell_type": "code",
   "execution_count": 94,
   "metadata": {},
   "outputs": [
    {
     "data": {
      "text/plain": [
       "goals_z            0.479231\n",
       "xg_z               0.609231\n",
       "crosses_z          0.227692\n",
       "boxtouches_z       0.450769\n",
       "passes_z           0.770769\n",
       "progpasses_z       0.042308\n",
       "takeons_z          0.337692\n",
       "progruns_z         0.927692\n",
       "tackles_z          0.506923\n",
       "interceptions_z    1.015385\n",
       "clearances_z       0.020769\n",
       "blocks_z           0.381538\n",
       "aerials_z          0.038462\n",
       "fouls_z            0.039231\n",
       "fouled_z           0.022308\n",
       "nsxg_z             0.692308\n",
       "dtype: float64"
      ]
     },
     "execution_count": 94,
     "metadata": {},
     "output_type": "execute_result"
    }
   ],
   "source": [
    "bra86"
   ]
  },
  {
   "cell_type": "markdown",
   "metadata": {},
   "source": [
    "## 1982"
   ]
  },
  {
   "cell_type": "code",
   "execution_count": 95,
   "metadata": {},
   "outputs": [],
   "source": [
    "bra82year = bra_year.loc[bra_year[\"season\"].isin(year1982)]"
   ]
  },
  {
   "cell_type": "code",
   "execution_count": 96,
   "metadata": {},
   "outputs": [],
   "source": [
    "bra82xg = bra82year.sort_values(by=[\"goals_z\"], ascending=False)"
   ]
  },
  {
   "cell_type": "code",
   "execution_count": 97,
   "metadata": {},
   "outputs": [],
   "source": [
    "bra82xg13 = bra82xg.head(13)"
   ]
  },
  {
   "cell_type": "code",
   "execution_count": 98,
   "metadata": {},
   "outputs": [],
   "source": [
    "bra82xg13 = bra82xg13.drop(columns=['season', 'team'])"
   ]
  },
  {
   "cell_type": "code",
   "execution_count": 99,
   "metadata": {},
   "outputs": [],
   "source": [
    "bra82 = bra82xg13.mean()"
   ]
  },
  {
   "cell_type": "code",
   "execution_count": 100,
   "metadata": {},
   "outputs": [
    {
     "data": {
      "text/plain": [
       "goals_z            0.877692\n",
       "xg_z               0.773846\n",
       "crosses_z          0.428462\n",
       "boxtouches_z       0.659231\n",
       "passes_z           0.754615\n",
       "progpasses_z       0.335385\n",
       "takeons_z          0.023077\n",
       "progruns_z         0.638462\n",
       "tackles_z          0.493846\n",
       "interceptions_z    0.637692\n",
       "clearances_z      -0.117692\n",
       "blocks_z          -0.033846\n",
       "aerials_z          0.572308\n",
       "fouls_z           -0.016154\n",
       "fouled_z          -0.096923\n",
       "nsxg_z             0.890769\n",
       "dtype: float64"
      ]
     },
     "execution_count": 100,
     "metadata": {},
     "output_type": "execute_result"
    }
   ],
   "source": [
    "bra82"
   ]
  },
  {
   "cell_type": "code",
   "execution_count": 101,
   "metadata": {},
   "outputs": [],
   "source": [
    "braz = pd.concat([bra98, bra94, bra90, bra86, bra82], axis=1).T"
   ]
  },
  {
   "cell_type": "code",
   "execution_count": 102,
   "metadata": {},
   "outputs": [
    {
     "data": {
      "text/html": [
       "<div>\n",
       "<style scoped>\n",
       "    .dataframe tbody tr th:only-of-type {\n",
       "        vertical-align: middle;\n",
       "    }\n",
       "\n",
       "    .dataframe tbody tr th {\n",
       "        vertical-align: top;\n",
       "    }\n",
       "\n",
       "    .dataframe thead th {\n",
       "        text-align: right;\n",
       "    }\n",
       "</style>\n",
       "<table border=\"1\" class=\"dataframe\">\n",
       "  <thead>\n",
       "    <tr style=\"text-align: right;\">\n",
       "      <th></th>\n",
       "      <th>goals_z</th>\n",
       "      <th>xg_z</th>\n",
       "      <th>crosses_z</th>\n",
       "      <th>boxtouches_z</th>\n",
       "      <th>passes_z</th>\n",
       "      <th>progpasses_z</th>\n",
       "      <th>takeons_z</th>\n",
       "      <th>progruns_z</th>\n",
       "      <th>tackles_z</th>\n",
       "      <th>interceptions_z</th>\n",
       "      <th>clearances_z</th>\n",
       "      <th>blocks_z</th>\n",
       "      <th>aerials_z</th>\n",
       "      <th>fouls_z</th>\n",
       "      <th>fouled_z</th>\n",
       "      <th>nsxg_z</th>\n",
       "    </tr>\n",
       "  </thead>\n",
       "  <tbody>\n",
       "    <tr>\n",
       "      <th>0</th>\n",
       "      <td>0.423077</td>\n",
       "      <td>0.146923</td>\n",
       "      <td>-0.136154</td>\n",
       "      <td>-0.030000</td>\n",
       "      <td>0.429231</td>\n",
       "      <td>0.037692</td>\n",
       "      <td>0.244615</td>\n",
       "      <td>-0.220000</td>\n",
       "      <td>0.216154</td>\n",
       "      <td>0.270000</td>\n",
       "      <td>-0.076923</td>\n",
       "      <td>-0.097692</td>\n",
       "      <td>-0.020000</td>\n",
       "      <td>-0.224615</td>\n",
       "      <td>0.100769</td>\n",
       "      <td>-0.124615</td>\n",
       "    </tr>\n",
       "    <tr>\n",
       "      <th>1</th>\n",
       "      <td>0.216923</td>\n",
       "      <td>0.348462</td>\n",
       "      <td>0.031538</td>\n",
       "      <td>0.158462</td>\n",
       "      <td>0.835385</td>\n",
       "      <td>0.626923</td>\n",
       "      <td>0.270000</td>\n",
       "      <td>0.266923</td>\n",
       "      <td>1.143846</td>\n",
       "      <td>0.834615</td>\n",
       "      <td>-0.059231</td>\n",
       "      <td>-0.134615</td>\n",
       "      <td>0.196923</td>\n",
       "      <td>-0.016923</td>\n",
       "      <td>0.033846</td>\n",
       "      <td>0.146923</td>\n",
       "    </tr>\n",
       "    <tr>\n",
       "      <th>2</th>\n",
       "      <td>0.113846</td>\n",
       "      <td>0.392308</td>\n",
       "      <td>0.599231</td>\n",
       "      <td>0.513846</td>\n",
       "      <td>0.833077</td>\n",
       "      <td>0.405385</td>\n",
       "      <td>0.521538</td>\n",
       "      <td>1.139231</td>\n",
       "      <td>1.109231</td>\n",
       "      <td>0.859231</td>\n",
       "      <td>0.084615</td>\n",
       "      <td>0.103077</td>\n",
       "      <td>0.683846</td>\n",
       "      <td>0.213846</td>\n",
       "      <td>0.353846</td>\n",
       "      <td>0.786923</td>\n",
       "    </tr>\n",
       "    <tr>\n",
       "      <th>3</th>\n",
       "      <td>0.479231</td>\n",
       "      <td>0.609231</td>\n",
       "      <td>0.227692</td>\n",
       "      <td>0.450769</td>\n",
       "      <td>0.770769</td>\n",
       "      <td>0.042308</td>\n",
       "      <td>0.337692</td>\n",
       "      <td>0.927692</td>\n",
       "      <td>0.506923</td>\n",
       "      <td>1.015385</td>\n",
       "      <td>0.020769</td>\n",
       "      <td>0.381538</td>\n",
       "      <td>0.038462</td>\n",
       "      <td>0.039231</td>\n",
       "      <td>0.022308</td>\n",
       "      <td>0.692308</td>\n",
       "    </tr>\n",
       "    <tr>\n",
       "      <th>4</th>\n",
       "      <td>0.877692</td>\n",
       "      <td>0.773846</td>\n",
       "      <td>0.428462</td>\n",
       "      <td>0.659231</td>\n",
       "      <td>0.754615</td>\n",
       "      <td>0.335385</td>\n",
       "      <td>0.023077</td>\n",
       "      <td>0.638462</td>\n",
       "      <td>0.493846</td>\n",
       "      <td>0.637692</td>\n",
       "      <td>-0.117692</td>\n",
       "      <td>-0.033846</td>\n",
       "      <td>0.572308</td>\n",
       "      <td>-0.016154</td>\n",
       "      <td>-0.096923</td>\n",
       "      <td>0.890769</td>\n",
       "    </tr>\n",
       "  </tbody>\n",
       "</table>\n",
       "</div>"
      ],
      "text/plain": [
       "    goals_z      xg_z  crosses_z  boxtouches_z  passes_z  progpasses_z  \\\n",
       "0  0.423077  0.146923  -0.136154     -0.030000  0.429231      0.037692   \n",
       "1  0.216923  0.348462   0.031538      0.158462  0.835385      0.626923   \n",
       "2  0.113846  0.392308   0.599231      0.513846  0.833077      0.405385   \n",
       "3  0.479231  0.609231   0.227692      0.450769  0.770769      0.042308   \n",
       "4  0.877692  0.773846   0.428462      0.659231  0.754615      0.335385   \n",
       "\n",
       "   takeons_z  progruns_z  tackles_z  interceptions_z  clearances_z  blocks_z  \\\n",
       "0   0.244615   -0.220000   0.216154         0.270000     -0.076923 -0.097692   \n",
       "1   0.270000    0.266923   1.143846         0.834615     -0.059231 -0.134615   \n",
       "2   0.521538    1.139231   1.109231         0.859231      0.084615  0.103077   \n",
       "3   0.337692    0.927692   0.506923         1.015385      0.020769  0.381538   \n",
       "4   0.023077    0.638462   0.493846         0.637692     -0.117692 -0.033846   \n",
       "\n",
       "   aerials_z   fouls_z  fouled_z    nsxg_z  \n",
       "0  -0.020000 -0.224615  0.100769 -0.124615  \n",
       "1   0.196923 -0.016923  0.033846  0.146923  \n",
       "2   0.683846  0.213846  0.353846  0.786923  \n",
       "3   0.038462  0.039231  0.022308  0.692308  \n",
       "4   0.572308 -0.016154 -0.096923  0.890769  "
      ]
     },
     "execution_count": 102,
     "metadata": {},
     "output_type": "execute_result"
    }
   ],
   "source": [
    "braz"
   ]
  },
  {
   "cell_type": "code",
   "execution_count": 103,
   "metadata": {},
   "outputs": [],
   "source": [
    "braz = braz.rename(index={0: 'Brazil98', 1: 'Brazil94', 2: 'Brazil90', 3: 'Brazil86', \n",
    "                            4: 'Brazil82'})"
   ]
  },
  {
   "cell_type": "code",
   "execution_count": 104,
   "metadata": {},
   "outputs": [
    {
     "data": {
      "text/html": [
       "<div>\n",
       "<style scoped>\n",
       "    .dataframe tbody tr th:only-of-type {\n",
       "        vertical-align: middle;\n",
       "    }\n",
       "\n",
       "    .dataframe tbody tr th {\n",
       "        vertical-align: top;\n",
       "    }\n",
       "\n",
       "    .dataframe thead th {\n",
       "        text-align: right;\n",
       "    }\n",
       "</style>\n",
       "<table border=\"1\" class=\"dataframe\">\n",
       "  <thead>\n",
       "    <tr style=\"text-align: right;\">\n",
       "      <th></th>\n",
       "      <th>goals_z</th>\n",
       "      <th>xg_z</th>\n",
       "      <th>crosses_z</th>\n",
       "      <th>boxtouches_z</th>\n",
       "      <th>passes_z</th>\n",
       "      <th>progpasses_z</th>\n",
       "      <th>takeons_z</th>\n",
       "      <th>progruns_z</th>\n",
       "      <th>tackles_z</th>\n",
       "      <th>interceptions_z</th>\n",
       "      <th>clearances_z</th>\n",
       "      <th>blocks_z</th>\n",
       "      <th>aerials_z</th>\n",
       "      <th>fouls_z</th>\n",
       "      <th>fouled_z</th>\n",
       "      <th>nsxg_z</th>\n",
       "    </tr>\n",
       "  </thead>\n",
       "  <tbody>\n",
       "    <tr>\n",
       "      <th>Brazil98</th>\n",
       "      <td>0.423077</td>\n",
       "      <td>0.146923</td>\n",
       "      <td>-0.136154</td>\n",
       "      <td>-0.030000</td>\n",
       "      <td>0.429231</td>\n",
       "      <td>0.037692</td>\n",
       "      <td>0.244615</td>\n",
       "      <td>-0.220000</td>\n",
       "      <td>0.216154</td>\n",
       "      <td>0.270000</td>\n",
       "      <td>-0.076923</td>\n",
       "      <td>-0.097692</td>\n",
       "      <td>-0.020000</td>\n",
       "      <td>-0.224615</td>\n",
       "      <td>0.100769</td>\n",
       "      <td>-0.124615</td>\n",
       "    </tr>\n",
       "    <tr>\n",
       "      <th>Brazil94</th>\n",
       "      <td>0.216923</td>\n",
       "      <td>0.348462</td>\n",
       "      <td>0.031538</td>\n",
       "      <td>0.158462</td>\n",
       "      <td>0.835385</td>\n",
       "      <td>0.626923</td>\n",
       "      <td>0.270000</td>\n",
       "      <td>0.266923</td>\n",
       "      <td>1.143846</td>\n",
       "      <td>0.834615</td>\n",
       "      <td>-0.059231</td>\n",
       "      <td>-0.134615</td>\n",
       "      <td>0.196923</td>\n",
       "      <td>-0.016923</td>\n",
       "      <td>0.033846</td>\n",
       "      <td>0.146923</td>\n",
       "    </tr>\n",
       "    <tr>\n",
       "      <th>Brazil90</th>\n",
       "      <td>0.113846</td>\n",
       "      <td>0.392308</td>\n",
       "      <td>0.599231</td>\n",
       "      <td>0.513846</td>\n",
       "      <td>0.833077</td>\n",
       "      <td>0.405385</td>\n",
       "      <td>0.521538</td>\n",
       "      <td>1.139231</td>\n",
       "      <td>1.109231</td>\n",
       "      <td>0.859231</td>\n",
       "      <td>0.084615</td>\n",
       "      <td>0.103077</td>\n",
       "      <td>0.683846</td>\n",
       "      <td>0.213846</td>\n",
       "      <td>0.353846</td>\n",
       "      <td>0.786923</td>\n",
       "    </tr>\n",
       "    <tr>\n",
       "      <th>Brazil86</th>\n",
       "      <td>0.479231</td>\n",
       "      <td>0.609231</td>\n",
       "      <td>0.227692</td>\n",
       "      <td>0.450769</td>\n",
       "      <td>0.770769</td>\n",
       "      <td>0.042308</td>\n",
       "      <td>0.337692</td>\n",
       "      <td>0.927692</td>\n",
       "      <td>0.506923</td>\n",
       "      <td>1.015385</td>\n",
       "      <td>0.020769</td>\n",
       "      <td>0.381538</td>\n",
       "      <td>0.038462</td>\n",
       "      <td>0.039231</td>\n",
       "      <td>0.022308</td>\n",
       "      <td>0.692308</td>\n",
       "    </tr>\n",
       "    <tr>\n",
       "      <th>Brazil82</th>\n",
       "      <td>0.877692</td>\n",
       "      <td>0.773846</td>\n",
       "      <td>0.428462</td>\n",
       "      <td>0.659231</td>\n",
       "      <td>0.754615</td>\n",
       "      <td>0.335385</td>\n",
       "      <td>0.023077</td>\n",
       "      <td>0.638462</td>\n",
       "      <td>0.493846</td>\n",
       "      <td>0.637692</td>\n",
       "      <td>-0.117692</td>\n",
       "      <td>-0.033846</td>\n",
       "      <td>0.572308</td>\n",
       "      <td>-0.016154</td>\n",
       "      <td>-0.096923</td>\n",
       "      <td>0.890769</td>\n",
       "    </tr>\n",
       "  </tbody>\n",
       "</table>\n",
       "</div>"
      ],
      "text/plain": [
       "           goals_z      xg_z  crosses_z  boxtouches_z  passes_z  progpasses_z  \\\n",
       "Brazil98  0.423077  0.146923  -0.136154     -0.030000  0.429231      0.037692   \n",
       "Brazil94  0.216923  0.348462   0.031538      0.158462  0.835385      0.626923   \n",
       "Brazil90  0.113846  0.392308   0.599231      0.513846  0.833077      0.405385   \n",
       "Brazil86  0.479231  0.609231   0.227692      0.450769  0.770769      0.042308   \n",
       "Brazil82  0.877692  0.773846   0.428462      0.659231  0.754615      0.335385   \n",
       "\n",
       "          takeons_z  progruns_z  tackles_z  interceptions_z  clearances_z  \\\n",
       "Brazil98   0.244615   -0.220000   0.216154         0.270000     -0.076923   \n",
       "Brazil94   0.270000    0.266923   1.143846         0.834615     -0.059231   \n",
       "Brazil90   0.521538    1.139231   1.109231         0.859231      0.084615   \n",
       "Brazil86   0.337692    0.927692   0.506923         1.015385      0.020769   \n",
       "Brazil82   0.023077    0.638462   0.493846         0.637692     -0.117692   \n",
       "\n",
       "          blocks_z  aerials_z   fouls_z  fouled_z    nsxg_z  \n",
       "Brazil98 -0.097692  -0.020000 -0.224615  0.100769 -0.124615  \n",
       "Brazil94 -0.134615   0.196923 -0.016923  0.033846  0.146923  \n",
       "Brazil90  0.103077   0.683846  0.213846  0.353846  0.786923  \n",
       "Brazil86  0.381538   0.038462  0.039231  0.022308  0.692308  \n",
       "Brazil82 -0.033846   0.572308 -0.016154 -0.096923  0.890769  "
      ]
     },
     "execution_count": 104,
     "metadata": {},
     "output_type": "execute_result"
    }
   ],
   "source": [
    "braz"
   ]
  },
  {
   "cell_type": "code",
   "execution_count": 105,
   "metadata": {},
   "outputs": [],
   "source": [
    "df2 = braz.assign(results=[2, 1, 9, 5, 5])"
   ]
  },
  {
   "cell_type": "code",
   "execution_count": 106,
   "metadata": {},
   "outputs": [
    {
     "data": {
      "text/html": [
       "<div>\n",
       "<style scoped>\n",
       "    .dataframe tbody tr th:only-of-type {\n",
       "        vertical-align: middle;\n",
       "    }\n",
       "\n",
       "    .dataframe tbody tr th {\n",
       "        vertical-align: top;\n",
       "    }\n",
       "\n",
       "    .dataframe thead th {\n",
       "        text-align: right;\n",
       "    }\n",
       "</style>\n",
       "<table border=\"1\" class=\"dataframe\">\n",
       "  <thead>\n",
       "    <tr style=\"text-align: right;\">\n",
       "      <th></th>\n",
       "      <th>goals_z</th>\n",
       "      <th>xg_z</th>\n",
       "      <th>crosses_z</th>\n",
       "      <th>boxtouches_z</th>\n",
       "      <th>passes_z</th>\n",
       "      <th>progpasses_z</th>\n",
       "      <th>takeons_z</th>\n",
       "      <th>progruns_z</th>\n",
       "      <th>tackles_z</th>\n",
       "      <th>interceptions_z</th>\n",
       "      <th>clearances_z</th>\n",
       "      <th>blocks_z</th>\n",
       "      <th>aerials_z</th>\n",
       "      <th>fouls_z</th>\n",
       "      <th>fouled_z</th>\n",
       "      <th>nsxg_z</th>\n",
       "      <th>results</th>\n",
       "    </tr>\n",
       "  </thead>\n",
       "  <tbody>\n",
       "    <tr>\n",
       "      <th>Brazil98</th>\n",
       "      <td>0.423077</td>\n",
       "      <td>0.146923</td>\n",
       "      <td>-0.136154</td>\n",
       "      <td>-0.030000</td>\n",
       "      <td>0.429231</td>\n",
       "      <td>0.037692</td>\n",
       "      <td>0.244615</td>\n",
       "      <td>-0.220000</td>\n",
       "      <td>0.216154</td>\n",
       "      <td>0.270000</td>\n",
       "      <td>-0.076923</td>\n",
       "      <td>-0.097692</td>\n",
       "      <td>-0.020000</td>\n",
       "      <td>-0.224615</td>\n",
       "      <td>0.100769</td>\n",
       "      <td>-0.124615</td>\n",
       "      <td>2</td>\n",
       "    </tr>\n",
       "    <tr>\n",
       "      <th>Brazil94</th>\n",
       "      <td>0.216923</td>\n",
       "      <td>0.348462</td>\n",
       "      <td>0.031538</td>\n",
       "      <td>0.158462</td>\n",
       "      <td>0.835385</td>\n",
       "      <td>0.626923</td>\n",
       "      <td>0.270000</td>\n",
       "      <td>0.266923</td>\n",
       "      <td>1.143846</td>\n",
       "      <td>0.834615</td>\n",
       "      <td>-0.059231</td>\n",
       "      <td>-0.134615</td>\n",
       "      <td>0.196923</td>\n",
       "      <td>-0.016923</td>\n",
       "      <td>0.033846</td>\n",
       "      <td>0.146923</td>\n",
       "      <td>1</td>\n",
       "    </tr>\n",
       "    <tr>\n",
       "      <th>Brazil90</th>\n",
       "      <td>0.113846</td>\n",
       "      <td>0.392308</td>\n",
       "      <td>0.599231</td>\n",
       "      <td>0.513846</td>\n",
       "      <td>0.833077</td>\n",
       "      <td>0.405385</td>\n",
       "      <td>0.521538</td>\n",
       "      <td>1.139231</td>\n",
       "      <td>1.109231</td>\n",
       "      <td>0.859231</td>\n",
       "      <td>0.084615</td>\n",
       "      <td>0.103077</td>\n",
       "      <td>0.683846</td>\n",
       "      <td>0.213846</td>\n",
       "      <td>0.353846</td>\n",
       "      <td>0.786923</td>\n",
       "      <td>9</td>\n",
       "    </tr>\n",
       "    <tr>\n",
       "      <th>Brazil86</th>\n",
       "      <td>0.479231</td>\n",
       "      <td>0.609231</td>\n",
       "      <td>0.227692</td>\n",
       "      <td>0.450769</td>\n",
       "      <td>0.770769</td>\n",
       "      <td>0.042308</td>\n",
       "      <td>0.337692</td>\n",
       "      <td>0.927692</td>\n",
       "      <td>0.506923</td>\n",
       "      <td>1.015385</td>\n",
       "      <td>0.020769</td>\n",
       "      <td>0.381538</td>\n",
       "      <td>0.038462</td>\n",
       "      <td>0.039231</td>\n",
       "      <td>0.022308</td>\n",
       "      <td>0.692308</td>\n",
       "      <td>5</td>\n",
       "    </tr>\n",
       "    <tr>\n",
       "      <th>Brazil82</th>\n",
       "      <td>0.877692</td>\n",
       "      <td>0.773846</td>\n",
       "      <td>0.428462</td>\n",
       "      <td>0.659231</td>\n",
       "      <td>0.754615</td>\n",
       "      <td>0.335385</td>\n",
       "      <td>0.023077</td>\n",
       "      <td>0.638462</td>\n",
       "      <td>0.493846</td>\n",
       "      <td>0.637692</td>\n",
       "      <td>-0.117692</td>\n",
       "      <td>-0.033846</td>\n",
       "      <td>0.572308</td>\n",
       "      <td>-0.016154</td>\n",
       "      <td>-0.096923</td>\n",
       "      <td>0.890769</td>\n",
       "      <td>5</td>\n",
       "    </tr>\n",
       "  </tbody>\n",
       "</table>\n",
       "</div>"
      ],
      "text/plain": [
       "           goals_z      xg_z  crosses_z  boxtouches_z  passes_z  progpasses_z  \\\n",
       "Brazil98  0.423077  0.146923  -0.136154     -0.030000  0.429231      0.037692   \n",
       "Brazil94  0.216923  0.348462   0.031538      0.158462  0.835385      0.626923   \n",
       "Brazil90  0.113846  0.392308   0.599231      0.513846  0.833077      0.405385   \n",
       "Brazil86  0.479231  0.609231   0.227692      0.450769  0.770769      0.042308   \n",
       "Brazil82  0.877692  0.773846   0.428462      0.659231  0.754615      0.335385   \n",
       "\n",
       "          takeons_z  progruns_z  tackles_z  interceptions_z  clearances_z  \\\n",
       "Brazil98   0.244615   -0.220000   0.216154         0.270000     -0.076923   \n",
       "Brazil94   0.270000    0.266923   1.143846         0.834615     -0.059231   \n",
       "Brazil90   0.521538    1.139231   1.109231         0.859231      0.084615   \n",
       "Brazil86   0.337692    0.927692   0.506923         1.015385      0.020769   \n",
       "Brazil82   0.023077    0.638462   0.493846         0.637692     -0.117692   \n",
       "\n",
       "          blocks_z  aerials_z   fouls_z  fouled_z    nsxg_z  results  \n",
       "Brazil98 -0.097692  -0.020000 -0.224615  0.100769 -0.124615        2  \n",
       "Brazil94 -0.134615   0.196923 -0.016923  0.033846  0.146923        1  \n",
       "Brazil90  0.103077   0.683846  0.213846  0.353846  0.786923        9  \n",
       "Brazil86  0.381538   0.038462  0.039231  0.022308  0.692308        5  \n",
       "Brazil82 -0.033846   0.572308 -0.016154 -0.096923  0.890769        5  "
      ]
     },
     "execution_count": 106,
     "metadata": {},
     "output_type": "execute_result"
    }
   ],
   "source": [
    "df2"
   ]
  },
  {
   "cell_type": "code",
   "execution_count": 107,
   "metadata": {},
   "outputs": [],
   "source": [
    "# df2.to_csv('Brazil.csv', index=False)"
   ]
  },
  {
   "cell_type": "markdown",
   "metadata": {},
   "source": [
    "# France 98"
   ]
  },
  {
   "cell_type": "code",
   "execution_count": 108,
   "metadata": {},
   "outputs": [],
   "source": [
    "fra = ['France']"
   ]
  },
  {
   "cell_type": "code",
   "execution_count": 109,
   "metadata": {},
   "outputs": [],
   "source": [
    "fra_year = df.loc[df[\"team\"].isin(fra)]"
   ]
  },
  {
   "cell_type": "code",
   "execution_count": 110,
   "metadata": {},
   "outputs": [],
   "source": [
    "fra98year = fra_year.loc[fra_year[\"season\"].isin(year1998)]"
   ]
  },
  {
   "cell_type": "code",
   "execution_count": 111,
   "metadata": {},
   "outputs": [],
   "source": [
    "fra98xg = fra98year.sort_values(by=[\"goals_z\"], ascending=False)"
   ]
  },
  {
   "cell_type": "code",
   "execution_count": 112,
   "metadata": {},
   "outputs": [],
   "source": [
    "fra98xg13 = fra98xg.head(13)"
   ]
  },
  {
   "cell_type": "code",
   "execution_count": 113,
   "metadata": {},
   "outputs": [],
   "source": [
    "fra98xg13 = fra98xg13.drop(columns=['season', 'team'])"
   ]
  },
  {
   "cell_type": "code",
   "execution_count": 114,
   "metadata": {},
   "outputs": [],
   "source": [
    "fra98 = fra98xg13.mean()"
   ]
  },
  {
   "cell_type": "code",
   "execution_count": 115,
   "metadata": {},
   "outputs": [
    {
     "data": {
      "text/plain": [
       "goals_z            0.445385\n",
       "xg_z               0.390769\n",
       "crosses_z          0.243846\n",
       "boxtouches_z       0.292308\n",
       "passes_z           0.091538\n",
       "progpasses_z       0.161538\n",
       "takeons_z          0.260000\n",
       "progruns_z         0.456154\n",
       "tackles_z          0.383077\n",
       "interceptions_z    0.486154\n",
       "clearances_z      -0.085385\n",
       "blocks_z          -0.283077\n",
       "aerials_z          0.160769\n",
       "fouls_z           -0.057692\n",
       "fouled_z           0.131538\n",
       "nsxg_z             0.456154\n",
       "dtype: float64"
      ]
     },
     "execution_count": 115,
     "metadata": {},
     "output_type": "execute_result"
    }
   ],
   "source": [
    "fra98"
   ]
  },
  {
   "cell_type": "markdown",
   "metadata": {},
   "source": [
    "## 86"
   ]
  },
  {
   "cell_type": "code",
   "execution_count": 122,
   "metadata": {},
   "outputs": [],
   "source": [
    "fra86year = fra_year.loc[fra_year[\"season\"].isin(year1986)]"
   ]
  },
  {
   "cell_type": "code",
   "execution_count": 123,
   "metadata": {},
   "outputs": [],
   "source": [
    "fra86xg = fra86year.sort_values(by=[\"goals_z\"], ascending=False)"
   ]
  },
  {
   "cell_type": "code",
   "execution_count": 124,
   "metadata": {},
   "outputs": [],
   "source": [
    "fra86xg13 = fra86xg.head(13)"
   ]
  },
  {
   "cell_type": "code",
   "execution_count": 125,
   "metadata": {},
   "outputs": [],
   "source": [
    "fra86xg13 = fra86xg13.drop(columns=['season', 'team'])"
   ]
  },
  {
   "cell_type": "code",
   "execution_count": 126,
   "metadata": {},
   "outputs": [],
   "source": [
    "fra86 = fra86xg13.mean()"
   ]
  },
  {
   "cell_type": "code",
   "execution_count": 127,
   "metadata": {},
   "outputs": [
    {
     "data": {
      "text/plain": [
       "goals_z            0.332308\n",
       "xg_z               0.362308\n",
       "crosses_z         -0.043846\n",
       "boxtouches_z       0.316923\n",
       "passes_z           0.060000\n",
       "progpasses_z       0.019231\n",
       "takeons_z          0.140769\n",
       "progruns_z         0.210000\n",
       "tackles_z          0.343846\n",
       "interceptions_z    0.276154\n",
       "clearances_z      -0.057692\n",
       "blocks_z           0.112308\n",
       "aerials_z         -0.053846\n",
       "fouls_z            0.143077\n",
       "fouled_z           0.060769\n",
       "nsxg_z             0.192308\n",
       "dtype: float64"
      ]
     },
     "execution_count": 127,
     "metadata": {},
     "output_type": "execute_result"
    }
   ],
   "source": [
    "fra86"
   ]
  },
  {
   "cell_type": "markdown",
   "metadata": {},
   "source": [
    "## 82\n"
   ]
  },
  {
   "cell_type": "code",
   "execution_count": 128,
   "metadata": {},
   "outputs": [],
   "source": [
    "fra82year = fra_year.loc[fra_year[\"season\"].isin(year1982)]"
   ]
  },
  {
   "cell_type": "code",
   "execution_count": 129,
   "metadata": {},
   "outputs": [],
   "source": [
    "fra82xg = fra82year.sort_values(by=[\"goals_z\"], ascending=False)"
   ]
  },
  {
   "cell_type": "code",
   "execution_count": 130,
   "metadata": {},
   "outputs": [],
   "source": [
    "fra82xg13 = fra82xg.head(13)"
   ]
  },
  {
   "cell_type": "code",
   "execution_count": 131,
   "metadata": {},
   "outputs": [],
   "source": [
    "fra82xg13 = fra82xg13.drop(columns=['season', 'team'])"
   ]
  },
  {
   "cell_type": "code",
   "execution_count": 132,
   "metadata": {},
   "outputs": [],
   "source": [
    "fra82 = fra82xg13.mean()"
   ]
  },
  {
   "cell_type": "code",
   "execution_count": 133,
   "metadata": {},
   "outputs": [
    {
     "data": {
      "text/plain": [
       "goals_z            0.500769\n",
       "xg_z               0.257692\n",
       "crosses_z          0.080769\n",
       "boxtouches_z       0.139231\n",
       "passes_z           0.031538\n",
       "progpasses_z      -0.194615\n",
       "takeons_z          0.452308\n",
       "progruns_z         0.168462\n",
       "tackles_z          0.005385\n",
       "interceptions_z   -0.010000\n",
       "clearances_z      -0.096923\n",
       "blocks_z           0.031538\n",
       "aerials_z          0.016154\n",
       "fouls_z           -0.079231\n",
       "fouled_z           0.075385\n",
       "nsxg_z             0.200769\n",
       "dtype: float64"
      ]
     },
     "execution_count": 133,
     "metadata": {},
     "output_type": "execute_result"
    }
   ],
   "source": [
    "fra82"
   ]
  },
  {
   "cell_type": "code",
   "execution_count": 134,
   "metadata": {},
   "outputs": [],
   "source": [
    "fran = pd.concat([fra98, fra86, fra82], axis=1).T"
   ]
  },
  {
   "cell_type": "code",
   "execution_count": 135,
   "metadata": {},
   "outputs": [
    {
     "data": {
      "text/html": [
       "<div>\n",
       "<style scoped>\n",
       "    .dataframe tbody tr th:only-of-type {\n",
       "        vertical-align: middle;\n",
       "    }\n",
       "\n",
       "    .dataframe tbody tr th {\n",
       "        vertical-align: top;\n",
       "    }\n",
       "\n",
       "    .dataframe thead th {\n",
       "        text-align: right;\n",
       "    }\n",
       "</style>\n",
       "<table border=\"1\" class=\"dataframe\">\n",
       "  <thead>\n",
       "    <tr style=\"text-align: right;\">\n",
       "      <th></th>\n",
       "      <th>goals_z</th>\n",
       "      <th>xg_z</th>\n",
       "      <th>crosses_z</th>\n",
       "      <th>boxtouches_z</th>\n",
       "      <th>passes_z</th>\n",
       "      <th>progpasses_z</th>\n",
       "      <th>takeons_z</th>\n",
       "      <th>progruns_z</th>\n",
       "      <th>tackles_z</th>\n",
       "      <th>interceptions_z</th>\n",
       "      <th>clearances_z</th>\n",
       "      <th>blocks_z</th>\n",
       "      <th>aerials_z</th>\n",
       "      <th>fouls_z</th>\n",
       "      <th>fouled_z</th>\n",
       "      <th>nsxg_z</th>\n",
       "    </tr>\n",
       "  </thead>\n",
       "  <tbody>\n",
       "    <tr>\n",
       "      <th>0</th>\n",
       "      <td>0.445385</td>\n",
       "      <td>0.390769</td>\n",
       "      <td>0.243846</td>\n",
       "      <td>0.292308</td>\n",
       "      <td>0.091538</td>\n",
       "      <td>0.161538</td>\n",
       "      <td>0.260000</td>\n",
       "      <td>0.456154</td>\n",
       "      <td>0.383077</td>\n",
       "      <td>0.486154</td>\n",
       "      <td>-0.085385</td>\n",
       "      <td>-0.283077</td>\n",
       "      <td>0.160769</td>\n",
       "      <td>-0.057692</td>\n",
       "      <td>0.131538</td>\n",
       "      <td>0.456154</td>\n",
       "    </tr>\n",
       "    <tr>\n",
       "      <th>1</th>\n",
       "      <td>0.332308</td>\n",
       "      <td>0.362308</td>\n",
       "      <td>-0.043846</td>\n",
       "      <td>0.316923</td>\n",
       "      <td>0.060000</td>\n",
       "      <td>0.019231</td>\n",
       "      <td>0.140769</td>\n",
       "      <td>0.210000</td>\n",
       "      <td>0.343846</td>\n",
       "      <td>0.276154</td>\n",
       "      <td>-0.057692</td>\n",
       "      <td>0.112308</td>\n",
       "      <td>-0.053846</td>\n",
       "      <td>0.143077</td>\n",
       "      <td>0.060769</td>\n",
       "      <td>0.192308</td>\n",
       "    </tr>\n",
       "    <tr>\n",
       "      <th>2</th>\n",
       "      <td>0.500769</td>\n",
       "      <td>0.257692</td>\n",
       "      <td>0.080769</td>\n",
       "      <td>0.139231</td>\n",
       "      <td>0.031538</td>\n",
       "      <td>-0.194615</td>\n",
       "      <td>0.452308</td>\n",
       "      <td>0.168462</td>\n",
       "      <td>0.005385</td>\n",
       "      <td>-0.010000</td>\n",
       "      <td>-0.096923</td>\n",
       "      <td>0.031538</td>\n",
       "      <td>0.016154</td>\n",
       "      <td>-0.079231</td>\n",
       "      <td>0.075385</td>\n",
       "      <td>0.200769</td>\n",
       "    </tr>\n",
       "  </tbody>\n",
       "</table>\n",
       "</div>"
      ],
      "text/plain": [
       "    goals_z      xg_z  crosses_z  boxtouches_z  passes_z  progpasses_z  \\\n",
       "0  0.445385  0.390769   0.243846      0.292308  0.091538      0.161538   \n",
       "1  0.332308  0.362308  -0.043846      0.316923  0.060000      0.019231   \n",
       "2  0.500769  0.257692   0.080769      0.139231  0.031538     -0.194615   \n",
       "\n",
       "   takeons_z  progruns_z  tackles_z  interceptions_z  clearances_z  blocks_z  \\\n",
       "0   0.260000    0.456154   0.383077         0.486154     -0.085385 -0.283077   \n",
       "1   0.140769    0.210000   0.343846         0.276154     -0.057692  0.112308   \n",
       "2   0.452308    0.168462   0.005385        -0.010000     -0.096923  0.031538   \n",
       "\n",
       "   aerials_z   fouls_z  fouled_z    nsxg_z  \n",
       "0   0.160769 -0.057692  0.131538  0.456154  \n",
       "1  -0.053846  0.143077  0.060769  0.192308  \n",
       "2   0.016154 -0.079231  0.075385  0.200769  "
      ]
     },
     "execution_count": 135,
     "metadata": {},
     "output_type": "execute_result"
    }
   ],
   "source": [
    "fran"
   ]
  },
  {
   "cell_type": "code",
   "execution_count": null,
   "metadata": {},
   "outputs": [],
   "source": []
  },
  {
   "cell_type": "code",
   "execution_count": null,
   "metadata": {},
   "outputs": [],
   "source": [
    "df2 = braz.assign(results=[2, 1, 9, 5, 5])"
   ]
  },
  {
   "cell_type": "code",
   "execution_count": null,
   "metadata": {},
   "outputs": [],
   "source": []
  },
  {
   "cell_type": "code",
   "execution_count": null,
   "metadata": {},
   "outputs": [],
   "source": []
  },
  {
   "cell_type": "code",
   "execution_count": null,
   "metadata": {},
   "outputs": [],
   "source": []
  },
  {
   "cell_type": "code",
   "execution_count": null,
   "metadata": {},
   "outputs": [],
   "source": []
  },
  {
   "cell_type": "code",
   "execution_count": null,
   "metadata": {},
   "outputs": [],
   "source": []
  },
  {
   "cell_type": "code",
   "execution_count": null,
   "metadata": {},
   "outputs": [],
   "source": []
  },
  {
   "cell_type": "code",
   "execution_count": null,
   "metadata": {},
   "outputs": [],
   "source": []
  },
  {
   "cell_type": "code",
   "execution_count": null,
   "metadata": {},
   "outputs": [],
   "source": []
  },
  {
   "cell_type": "code",
   "execution_count": null,
   "metadata": {},
   "outputs": [],
   "source": []
  },
  {
   "cell_type": "code",
   "execution_count": null,
   "metadata": {},
   "outputs": [],
   "source": []
  },
  {
   "cell_type": "code",
   "execution_count": null,
   "metadata": {},
   "outputs": [],
   "source": []
  },
  {
   "cell_type": "code",
   "execution_count": null,
   "metadata": {},
   "outputs": [],
   "source": []
  },
  {
   "cell_type": "code",
   "execution_count": null,
   "metadata": {},
   "outputs": [],
   "source": []
  },
  {
   "cell_type": "code",
   "execution_count": null,
   "metadata": {},
   "outputs": [],
   "source": []
  },
  {
   "cell_type": "code",
   "execution_count": null,
   "metadata": {},
   "outputs": [],
   "source": []
  },
  {
   "cell_type": "code",
   "execution_count": null,
   "metadata": {},
   "outputs": [],
   "source": []
  },
  {
   "cell_type": "markdown",
   "metadata": {},
   "source": [
    "## 98\n",
    "R \tTeam \tG \tP \tW \tD \tL \tGF \tGA \tGD \tPts.\n",
    "1 \t France \tC \t7 \t6 \t1 \t0 \t15 \t2 \t+13 \t19\n",
    "2 \t Brazil \tA \t7 \t4 \t1 \t2 \t14 \t10 \t+4 \t13\n",
    "3 \t Croatia \tH \t7 \t5 \t0 \t2 \t11 \t5 \t+6 \t15\n",
    "4 \t Netherlands \tE \t7 \t3 \t3 \t1 \t13 \t7 \t+6 \t12\n",
    "Eliminated in the quarter-finals\n",
    "5 \t Italy \tB \t5 \t3 \t2 \t0 \t8 \t3 \t+5 \t11\n",
    "6 \t Argentina \tH \t5 \t3 \t1 \t1 \t10 \t4 \t+6 \t10\n",
    "7 \t Germany \tF \t5 \t3 \t1 \t1 \t8 \t6 \t+2 \t10\n",
    "8 \t Denmark \tC \t5 \t2 \t1 \t2 \t9 \t7 \t+2 \t7\n",
    "Eliminated in the round of 16\n",
    "9 \t England \tG \t4 \t2 \t1 \t1 \t7 \t4 \t+3 \t7\n",
    "10 \t FR Yugoslavia \tF \t4 \t2 \t1 \t1 \t5 \t4 \t+1 \t7\n",
    "11 \t Romania \tG \t4 \t2 \t1 \t1 \t4 \t3 \t+1 \t7\n",
    "12 \t Nigeria \tD \t4 \t2 \t0 \t2 \t6 \t9 \t−3 \t6\n",
    "13 \t Mexico \tE \t4 \t1 \t2 \t1 \t8 \t7 \t+1 \t5\n",
    "14 \t Paraguay \tD \t4 \t1 \t2 \t1 \t3 \t2 \t+1 \t5\n",
    "15 \t Norway \tA \t4 \t1 \t2 \t1 \t5 \t5 \t0 \t5\n",
    "16 \t Chile \tB \t4 \t0 \t3 \t1 \t5 \t8 \t−3 \t3\n",
    "Eliminated in the group stage\n",
    "17 \t Spain \tD \t3 \t1 \t1 \t1 \t8 \t4 \t+4 \t4\n",
    "18 \t Morocco \tA \t3 \t1 \t1 \t1 \t5 \t5 \t0 \t4\n",
    "19 \t Belgium \tE \t3 \t0 \t3 \t0 \t3 \t3 \t0 \t3\n",
    "20 \t Iran \tF \t3 \t1 \t0 \t2 \t2 \t4 \t−2 \t3\n",
    "21 \t Colombia \tG \t3 \t1 \t0 \t2 \t1 \t3 \t−2 \t3\n",
    "22 \t Jamaica \tH \t3 \t1 \t0 \t2 \t3 \t9 \t−6 \t3\n",
    "23 \t Austria \tB \t3 \t0 \t2 \t1 \t3 \t4 \t−1 \t2\n",
    "24 \t South Africa \tC \t3 \t0 \t2 \t1 \t3 \t6 \t−3 \t2\n",
    "25 \t Cameroon \tB \t3 \t0 \t2 \t1 \t2 \t5 \t−3 \t2\n",
    "26 \t Tunisia \tG \t3 \t0 \t1 \t2 \t1 \t4 \t−3 \t1\n",
    "27 \t Scotland \tA \t3 \t0 \t1 \t2 \t2 \t6 \t−4 \t1\n",
    "28 \t Saudi Arabia \tC \t3 \t0 \t1 \t2 \t2 \t7 \t−5 \t1\n",
    "29 \t Bulgaria \tD \t3 \t0 \t1 \t2 \t1 \t7 \t−6 \t1\n",
    "30 \t South Korea \tE \t3 \t0 \t1 \t2 \t2 \t9 \t−7 \t1\n",
    "31 \t Japan \tH \t3 \t0 \t0 \t3 \t1 \t4 \t−3 \t0\n",
    "32 \t United States \tF \t3 \t0 \t0 \t3 \t1 \t5 \t−4 \t0 "
   ]
  },
  {
   "cell_type": "markdown",
   "metadata": {},
   "source": [
    "## 94\n",
    "R \tTeam \tG \tP \tW \tD \tL \tGF \tGA \tGD \tPts.\n",
    "1 \t Brazil \tB \t7 \t5 \t2 \t0 \t11 \t3 \t+8 \t17\n",
    "2 \t Italy \tE \t7 \t4 \t2 \t1 \t8 \t5 \t+3 \t14\n",
    "3 \t Sweden \tB \t7 \t3 \t3 \t1 \t15 \t8 \t+7 \t12\n",
    "4 \t Bulgaria \tD \t7 \t3 \t1 \t3 \t10 \t11 \t−1 \t10\n",
    "Eliminated in the quarter-finals\n",
    "5 \t Germany \tC \t5 \t3 \t1 \t1 \t9 \t7 \t+2 \t10\n",
    "6 \t Romania \tA \t5 \t3 \t1 \t1 \t10 \t9 \t+1 \t10\n",
    "7 \t Netherlands \tF \t5 \t3 \t0 \t2 \t8 \t6 \t+2 \t9\n",
    "8 \t Spain \tC \t5 \t2 \t2 \t1 \t10 \t6 \t+4 \t8\n",
    "Eliminated in the round of 16\n",
    "9 \t Nigeria \tD \t4 \t2 \t0 \t2 \t7 \t4 \t+3 \t6\n",
    "10 \t Argentina \tD \t4 \t2 \t0 \t2 \t8 \t6 \t+2 \t6\n",
    "11 \t Belgium \tF \t4 \t2 \t0 \t2 \t4 \t4 \t0 \t6\n",
    "12 \t Saudi Arabia \tF \t4 \t2 \t0 \t2 \t5 \t6 \t−1 \t6\n",
    "13 \t Mexico \tE \t4 \t1 \t2 \t1 \t4 \t4 \t0 \t5\n",
    "14 \t United States \tA \t4 \t1 \t1 \t2 \t3 \t4 \t−1 \t4\n",
    "15 \t  Switzerland \tA \t4 \t1 \t1 \t2 \t5 \t7 \t−2 \t4\n",
    "16 \t Republic of Ireland \tE \t4 \t1 \t1 \t2 \t2 \t4 \t−2 \t4\n",
    "Eliminated in the group stage\n",
    "17 \t Norway \tE \t3 \t1 \t1 \t1 \t1 \t1 \t0 \t4\n",
    "18 \t Russia \tB \t3 \t1 \t0 \t2 \t7 \t6 \t+1 \t3\n",
    "19 \t Colombia \tA \t3 \t1 \t0 \t2 \t4 \t5 \t−1 \t3\n",
    "20 \t South Korea \tC \t3 \t0 \t2 \t1 \t4 \t5 \t−1 \t2\n",
    "21 \t Bolivia \tC \t3 \t0 \t1 \t2 \t1 \t4 \t−3 \t1\n",
    "22 \t Cameroon \tB \t3 \t0 \t1 \t2 \t3 \t11 \t−8 \t1\n",
    "23 \t Morocco \tF \t3 \t0 \t0 \t3 \t2 \t5 \t−3 \t0\n",
    "24 \t Greece \tD \t3 \t0 \t0 \t3 \t0 \t10 \t−10 \t0 "
   ]
  },
  {
   "cell_type": "markdown",
   "metadata": {},
   "source": [
    "## 90\n",
    "Pos \tGrp \tTeam \tPld \tW \tD \tL \tGF \tGA \tGD \tPts \tResult\n",
    "1 \tD \t West Germany \t7 \t5 \t2 \t0 \t15 \t5 \t+10 \t12 \t1st\n",
    "2 \tB \t Argentina \t7 \t2 \t3 \t2 \t5 \t4 \t+1 \t7 \t2nd\n",
    "3 \tA \t Italy \t7 \t6 \t1 \t0 \t10 \t2 \t+8 \t13 \t3rd\n",
    "4 \tF \t England \t7 \t3 \t3 \t1 \t8 \t6 \t+2 \t9 \t4th\n",
    "5 \tD \t Yugoslavia \t5 \t3 \t1 \t1 \t8 \t6 \t+2 \t7 \tEliminated in the quarter-finals\n",
    "6 \tA \t Czechoslovakia \t5 \t3 \t0 \t2 \t10 \t5 \t+5 \t6\n",
    "7 \tB \t Cameroon \t5 \t3 \t0 \t2 \t7 \t9 \t−2 \t6\n",
    "8 \tF \t Republic of Ireland \t5 \t0 \t4 \t1 \t2 \t3 \t−1 \t4\n",
    "9 \tC \t Brazil \t4 \t3 \t0 \t1 \t4 \t2 \t+2 \t6 \tEliminated in the round of 16\n",
    "10 \tE \t Spain \t4 \t2 \t1 \t1 \t6 \t4 \t+2 \t5\n",
    "11 \tE \t Belgium \t4 \t2 \t0 \t2 \t6 \t4 \t+2 \t4\n",
    "12 \tB \t Romania \t4 \t1 \t2 \t1 \t4 \t3 \t+1 \t4\n",
    "13 \tC \t Costa Rica \t4 \t2 \t0 \t2 \t4 \t6 \t−2 \t4\n",
    "14 \tD \t Colombia \t4 \t1 \t1 \t2 \t4 \t4 \t0 \t3\n",
    "15 \tF \t Netherlands \t4 \t0 \t3 \t1 \t3 \t4 \t−1 \t3\n",
    "16 \tE \t Uruguay \t4 \t1 \t1 \t2 \t2 \t5 \t−3 \t3\n",
    "17 \tB \t Soviet Union \t3 \t1 \t0 \t2 \t4 \t4 \t0 \t2 \tEliminated in the group stage\n",
    "18 \tA \t Austria \t3 \t1 \t0 \t2 \t2 \t3 \t−1 \t2\n",
    "18 \tC \t Scotland \t3 \t1 \t0 \t2 \t2 \t3 \t−1 \t2\n",
    "20 \tF \t Egypt \t3 \t0 \t2 \t1 \t1 \t2 \t−1 \t2\n",
    "21 \tC \t Sweden \t3 \t0 \t0 \t3 \t3 \t6 \t−3 \t0\n",
    "22 \tE \t South Korea \t3 \t0 \t0 \t3 \t1 \t6 \t−5 \t0\n",
    "23 \tA \t United States \t3 \t0 \t0 \t3 \t2 \t8 \t−6 \t0\n",
    "24 \tD \t United Arab Emirates \t3 \t0 \t0 \t3 \t2 \t11 \t−9 \t0\n"
   ]
  },
  {
   "cell_type": "markdown",
   "metadata": {},
   "source": [
    "## 86\n",
    "R \tTeam \tG \tP \tW \tD \tL \tGF \tGA \tGD \tPts.\n",
    "1 \t Argentina \tA \t7 \t6 \t1 \t0 \t14 \t5 \t+9 \t13\n",
    "2 \t West Germany \tE \t7 \t3 \t2 \t2 \t8 \t7 \t+1 \t8\n",
    "3 \t France \tC \t7 \t4 \t2 \t1 \t12 \t6 \t+6 \t10\n",
    "4 \t Belgium \tB \t7 \t2 \t2 \t3 \t12 \t15 \t−3 \t6\n",
    "Eliminated in the quarter-finals\n",
    "5 \t Brazil \tD \t5 \t4 \t1 \t0 \t10 \t1 \t+9 \t9\n",
    "6 \t Mexico \tB \t5 \t3 \t2 \t0 \t6 \t2 \t+4 \t8\n",
    "7 \t Spain \tD \t5 \t3 \t1 \t1 \t11 \t4 \t+7 \t7\n",
    "8 \t England \tF \t5 \t2 \t1 \t2 \t7 \t3 \t+4 \t5\n",
    "Eliminated in the round of 16\n",
    "9 \t Denmark \tE \t4 \t3 \t0 \t1 \t10 \t6 \t+4 \t6\n",
    "10 \t Soviet Union \tC \t4 \t2 \t1 \t1 \t12 \t5 \t+7 \t5\n",
    "11 \t Morocco \tF \t4 \t1 \t2 \t1 \t3 \t2 \t+1 \t4\n",
    "12 \t Italy \tA \t4 \t1 \t2 \t1 \t5 \t6 \t−1 \t4\n",
    "13 \t Paraguay \tB \t4 \t1 \t2 \t1 \t4 \t6 \t−2 \t4\n",
    "14 \t Poland \tF \t4 \t1 \t1 \t2 \t1 \t7 \t−6 \t3\n",
    "15 \t Bulgaria \tA \t4 \t0 \t2 \t2 \t2 \t6 \t−4 \t2\n",
    "16 \t Uruguay \tE \t4 \t0 \t2 \t2 \t2 \t8 \t−6 \t2\n",
    "Eliminated in the group stage\n",
    "17 \t Portugal \tF \t3 \t1 \t0 \t2 \t2 \t4 \t−2 \t2\n",
    "18 \t Hungary \tC \t3 \t1 \t0 \t2 \t2 \t9 \t−7 \t2\n",
    "19 \t Scotland \tE \t3 \t0 \t1 \t2 \t1 \t3 \t−2 \t1\n",
    "20 \t South Korea \tA \t3 \t0 \t1 \t2 \t4 \t7 \t−3 \t1\n",
    "21 \t Northern Ireland \tD \t3 \t0 \t1 \t2 \t2 \t6 \t−4 \t1\n",
    "22 \t Algeria \tD \t3 \t0 \t1 \t2 \t1 \t5 \t−4 \t1\n",
    "23 \t Iraq \tB \t3 \t0 \t0 \t3 \t1 \t4 \t−3 \t0\n",
    "24 \t Canada \tC \t3 \t0 \t0 \t3 \t0 \t5 \t−5 \t0 \n"
   ]
  },
  {
   "cell_type": "markdown",
   "metadata": {},
   "source": [
    "## 82\n",
    "R \tTeam \tG \tP \tW \tD \tL \tGF \tGA \tGD \tPts.\n",
    "1 \t Italy \t1/C \t7 \t4 \t3 \t0 \t12 \t6 \t+6 \t11\n",
    "2 \t West Germany \t2/B \t7 \t3 \t2 \t2 \t12 \t10 \t+2 \t8\n",
    "3 \t Poland \t1/A \t7 \t3 \t3 \t1 \t11 \t5 \t+6 \t9\n",
    "4 \t France \t4/D \t7 \t3 \t2 \t2 \t16 \t12 \t+4 \t8\n",
    "Eliminated in the second group stage\n",
    "5 \t Brazil \t6/C \t5 \t4 \t0 \t1 \t15 \t6 \t+9 \t8\n",
    "6 \t England \t4/B \t5 \t3 \t2 \t0 \t6 \t1 \t+5 \t8\n",
    "7 \t Soviet Union \t6/A \t5 \t2 \t2 \t1 \t7 \t4 \t+3 \t6\n",
    "8 \t Austria \t2/D \t5 \t2 \t1 \t2 \t5 \t4 \t+1 \t5\n",
    "9 \t Northern Ireland \t5/D \t5 \t1 \t3 \t1 \t5 \t7 \t−2 \t5\n",
    "10 \t Belgium \t3/A \t5 \t2 \t1 \t2 \t3 \t5 \t−2 \t5\n",
    "11 \t Argentina \t3/C \t5 \t2 \t0 \t3 \t8 \t7 \t+1 \t4\n",
    "12 \t Spain \t5/B \t5 \t1 \t2 \t2 \t4 \t5 \t−1 \t4\n",
    "Eliminated in the first group stage\n",
    "13 \t Algeria \t2 \t3 \t2 \t0 \t1 \t5 \t5 \t0 \t4\n",
    "14 \t Hungary \t3 \t3 \t1 \t1 \t1 \t12 \t6 \t+6 \t3\n",
    "15 \t Scotland \t6 \t3 \t1 \t1 \t1 \t8 \t8 \t0 \t3\n",
    "16 \t Yugoslavia \t5 \t3 \t1 \t1 \t1 \t2 \t2 \t0 \t3\n",
    "17 \t Cameroon \t1 \t3 \t0 \t3 \t0 \t1 \t1 \t0 \t3\n",
    "18 \t Honduras \t5 \t3 \t0 \t2 \t1 \t2 \t3 \t−1 \t2\n",
    "19 \t Czechoslovakia \t4 \t3 \t0 \t2 \t1 \t2 \t4 \t−2 \t2\n",
    "20 \t Peru \t1 \t3 \t0 \t2 \t1 \t2 \t6 \t−4 \t2\n",
    "21 \t Kuwait \t4 \t3 \t0 \t1 \t2 \t2 \t6 \t−4 \t1\n",
    "22 \t Chile \t2 \t3 \t0 \t0 \t3 \t3 \t8 \t−5 \t0\n",
    "23 \t New Zealand \t6 \t3 \t0 \t0 \t3 \t2 \t12 \t−10 \t0\n",
    "24 \t El Salvador \t3 \t3 \t0 \t0 \t3 \t1 \t13 \t−12 \t0 "
   ]
  },
  {
   "cell_type": "markdown",
   "metadata": {},
   "source": [
    "teams_2022 = ['Qatar', 'Netherlands', 'Senegal', 'Ecuador', 'England',\n",
    "              'USA', 'Wales', 'Iran', 'Argentina', 'Poland', 'Mexico', \n",
    "              'Saudi Arabia',  'Denmark', 'Tunisia', 'Australia',\n",
    "              'Spain', 'Japan', 'Costa Rica', 'Belgium', 'Croatia', \n",
    "              'Canada', 'Morocco',  'Serbia', 'Cameroon',\n",
    "              'Portugal', 'Uruguay', 'Ghana', 'Korea Republic', 'West Germany']"
   ]
  }
 ],
 "metadata": {
  "kernelspec": {
   "display_name": "Python 3 (ipykernel)",
   "language": "python",
   "name": "python3"
  },
  "language_info": {
   "codemirror_mode": {
    "name": "ipython",
    "version": 3
   },
   "file_extension": ".py",
   "mimetype": "text/x-python",
   "name": "python",
   "nbconvert_exporter": "python",
   "pygments_lexer": "ipython3",
   "version": "3.9.12"
  }
 },
 "nbformat": 4,
 "nbformat_minor": 2
}
