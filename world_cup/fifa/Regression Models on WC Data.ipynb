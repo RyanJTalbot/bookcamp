{
 "cells": [
  {
   "cell_type": "code",
   "execution_count": 1,
   "metadata": {},
   "outputs": [],
   "source": [
    "import pandas as pd\n",
    "import numpy as np"
   ]
  },
  {
   "cell_type": "code",
   "execution_count": 2,
   "metadata": {},
   "outputs": [],
   "source": [
    "df = pd.read_csv('stats_df.csv')"
   ]
  },
  {
   "cell_type": "code",
   "execution_count": 3,
   "metadata": {},
   "outputs": [
    {
     "data": {
      "text/plain": [
       "(59, 10)"
      ]
     },
     "execution_count": 3,
     "metadata": {},
     "output_type": "execute_result"
    }
   ],
   "source": [
    "df.shape"
   ]
  },
  {
   "cell_type": "code",
   "execution_count": 4,
   "metadata": {},
   "outputs": [
    {
     "data": {
      "text/html": [
       "<div>\n",
       "<style scoped>\n",
       "    .dataframe tbody tr th:only-of-type {\n",
       "        vertical-align: middle;\n",
       "    }\n",
       "\n",
       "    .dataframe tbody tr th {\n",
       "        vertical-align: top;\n",
       "    }\n",
       "\n",
       "    .dataframe thead th {\n",
       "        text-align: right;\n",
       "    }\n",
       "</style>\n",
       "<table border=\"1\" class=\"dataframe\">\n",
       "  <thead>\n",
       "    <tr style=\"text-align: right;\">\n",
       "      <th></th>\n",
       "      <th>Country</th>\n",
       "      <th>Year</th>\n",
       "      <th>goals_z</th>\n",
       "      <th>xg_z</th>\n",
       "      <th>boxtouches_z</th>\n",
       "      <th>progpasses_z</th>\n",
       "      <th>progruns_z</th>\n",
       "      <th>new_xg</th>\n",
       "      <th>Fouled</th>\n",
       "      <th>results</th>\n",
       "    </tr>\n",
       "  </thead>\n",
       "  <tbody>\n",
       "    <tr>\n",
       "      <th>0</th>\n",
       "      <td>Germany</td>\n",
       "      <td>2010</td>\n",
       "      <td>0.816923</td>\n",
       "      <td>0.513077</td>\n",
       "      <td>0.458462</td>\n",
       "      <td>-0.367692</td>\n",
       "      <td>0.142308</td>\n",
       "      <td>1.03010</td>\n",
       "      <td>0.160000</td>\n",
       "      <td>3</td>\n",
       "    </tr>\n",
       "    <tr>\n",
       "      <th>1</th>\n",
       "      <td>Germany</td>\n",
       "      <td>2014</td>\n",
       "      <td>0.755385</td>\n",
       "      <td>0.719231</td>\n",
       "      <td>0.601538</td>\n",
       "      <td>0.316154</td>\n",
       "      <td>0.198462</td>\n",
       "      <td>1.65071</td>\n",
       "      <td>0.163846</td>\n",
       "      <td>1</td>\n",
       "    </tr>\n",
       "    <tr>\n",
       "      <th>2</th>\n",
       "      <td>Germany</td>\n",
       "      <td>2018</td>\n",
       "      <td>-0.066154</td>\n",
       "      <td>0.615385</td>\n",
       "      <td>1.570000</td>\n",
       "      <td>0.565385</td>\n",
       "      <td>0.930769</td>\n",
       "      <td>-30.73248</td>\n",
       "      <td>0.520000</td>\n",
       "      <td>32</td>\n",
       "    </tr>\n",
       "    <tr>\n",
       "      <th>3</th>\n",
       "      <td>Switzerland</td>\n",
       "      <td>2010</td>\n",
       "      <td>-0.222308</td>\n",
       "      <td>0.122308</td>\n",
       "      <td>0.128462</td>\n",
       "      <td>0.071538</td>\n",
       "      <td>-0.068462</td>\n",
       "      <td>-1.76120</td>\n",
       "      <td>-0.386900</td>\n",
       "      <td>32</td>\n",
       "    </tr>\n",
       "    <tr>\n",
       "      <th>4</th>\n",
       "      <td>Switzerland</td>\n",
       "      <td>2014</td>\n",
       "      <td>0.387692</td>\n",
       "      <td>0.550769</td>\n",
       "      <td>0.138462</td>\n",
       "      <td>0.213077</td>\n",
       "      <td>0.050769</td>\n",
       "      <td>1.95430</td>\n",
       "      <td>0.059230</td>\n",
       "      <td>16</td>\n",
       "    </tr>\n",
       "  </tbody>\n",
       "</table>\n",
       "</div>"
      ],
      "text/plain": [
       "       Country  Year   goals_z      xg_z  boxtouches_z  progpasses_z  \\\n",
       "0      Germany  2010  0.816923  0.513077      0.458462     -0.367692   \n",
       "1      Germany  2014  0.755385  0.719231      0.601538      0.316154   \n",
       "2      Germany  2018 -0.066154  0.615385      1.570000      0.565385   \n",
       "3  Switzerland  2010 -0.222308  0.122308      0.128462      0.071538   \n",
       "4  Switzerland  2014  0.387692  0.550769      0.138462      0.213077   \n",
       "\n",
       "   progruns_z    new_xg    Fouled  results  \n",
       "0    0.142308   1.03010  0.160000        3  \n",
       "1    0.198462   1.65071  0.163846        1  \n",
       "2    0.930769 -30.73248  0.520000       32  \n",
       "3   -0.068462  -1.76120 -0.386900       32  \n",
       "4    0.050769   1.95430  0.059230       16  "
      ]
     },
     "execution_count": 4,
     "metadata": {},
     "output_type": "execute_result"
    }
   ],
   "source": [
    "df.head()"
   ]
  },
  {
   "cell_type": "code",
   "execution_count": 5,
   "metadata": {},
   "outputs": [],
   "source": [
    "y = df['results']\n"
   ]
  },
  {
   "cell_type": "code",
   "execution_count": 6,
   "metadata": {},
   "outputs": [],
   "source": [
    "X = df.drop(columns=['results'])"
   ]
  },
  {
   "cell_type": "code",
   "execution_count": 7,
   "metadata": {},
   "outputs": [
    {
     "data": {
      "text/html": [
       "<div>\n",
       "<style scoped>\n",
       "    .dataframe tbody tr th:only-of-type {\n",
       "        vertical-align: middle;\n",
       "    }\n",
       "\n",
       "    .dataframe tbody tr th {\n",
       "        vertical-align: top;\n",
       "    }\n",
       "\n",
       "    .dataframe thead th {\n",
       "        text-align: right;\n",
       "    }\n",
       "</style>\n",
       "<table border=\"1\" class=\"dataframe\">\n",
       "  <thead>\n",
       "    <tr style=\"text-align: right;\">\n",
       "      <th></th>\n",
       "      <th>Country</th>\n",
       "      <th>Year</th>\n",
       "      <th>goals_z</th>\n",
       "      <th>xg_z</th>\n",
       "      <th>boxtouches_z</th>\n",
       "      <th>progpasses_z</th>\n",
       "      <th>progruns_z</th>\n",
       "      <th>new_xg</th>\n",
       "      <th>Fouled</th>\n",
       "    </tr>\n",
       "  </thead>\n",
       "  <tbody>\n",
       "    <tr>\n",
       "      <th>0</th>\n",
       "      <td>Germany</td>\n",
       "      <td>2010</td>\n",
       "      <td>0.816923</td>\n",
       "      <td>0.513077</td>\n",
       "      <td>0.458462</td>\n",
       "      <td>-0.367692</td>\n",
       "      <td>0.142308</td>\n",
       "      <td>1.03010</td>\n",
       "      <td>0.160000</td>\n",
       "    </tr>\n",
       "    <tr>\n",
       "      <th>1</th>\n",
       "      <td>Germany</td>\n",
       "      <td>2014</td>\n",
       "      <td>0.755385</td>\n",
       "      <td>0.719231</td>\n",
       "      <td>0.601538</td>\n",
       "      <td>0.316154</td>\n",
       "      <td>0.198462</td>\n",
       "      <td>1.65071</td>\n",
       "      <td>0.163846</td>\n",
       "    </tr>\n",
       "    <tr>\n",
       "      <th>2</th>\n",
       "      <td>Germany</td>\n",
       "      <td>2018</td>\n",
       "      <td>-0.066154</td>\n",
       "      <td>0.615385</td>\n",
       "      <td>1.570000</td>\n",
       "      <td>0.565385</td>\n",
       "      <td>0.930769</td>\n",
       "      <td>-30.73248</td>\n",
       "      <td>0.520000</td>\n",
       "    </tr>\n",
       "    <tr>\n",
       "      <th>3</th>\n",
       "      <td>Switzerland</td>\n",
       "      <td>2010</td>\n",
       "      <td>-0.222308</td>\n",
       "      <td>0.122308</td>\n",
       "      <td>0.128462</td>\n",
       "      <td>0.071538</td>\n",
       "      <td>-0.068462</td>\n",
       "      <td>-1.76120</td>\n",
       "      <td>-0.386900</td>\n",
       "    </tr>\n",
       "    <tr>\n",
       "      <th>4</th>\n",
       "      <td>Switzerland</td>\n",
       "      <td>2014</td>\n",
       "      <td>0.387692</td>\n",
       "      <td>0.550769</td>\n",
       "      <td>0.138462</td>\n",
       "      <td>0.213077</td>\n",
       "      <td>0.050769</td>\n",
       "      <td>1.95430</td>\n",
       "      <td>0.059230</td>\n",
       "    </tr>\n",
       "  </tbody>\n",
       "</table>\n",
       "</div>"
      ],
      "text/plain": [
       "       Country  Year   goals_z      xg_z  boxtouches_z  progpasses_z  \\\n",
       "0      Germany  2010  0.816923  0.513077      0.458462     -0.367692   \n",
       "1      Germany  2014  0.755385  0.719231      0.601538      0.316154   \n",
       "2      Germany  2018 -0.066154  0.615385      1.570000      0.565385   \n",
       "3  Switzerland  2010 -0.222308  0.122308      0.128462      0.071538   \n",
       "4  Switzerland  2014  0.387692  0.550769      0.138462      0.213077   \n",
       "\n",
       "   progruns_z    new_xg    Fouled  \n",
       "0    0.142308   1.03010  0.160000  \n",
       "1    0.198462   1.65071  0.163846  \n",
       "2    0.930769 -30.73248  0.520000  \n",
       "3   -0.068462  -1.76120 -0.386900  \n",
       "4    0.050769   1.95430  0.059230  "
      ]
     },
     "execution_count": 7,
     "metadata": {},
     "output_type": "execute_result"
    }
   ],
   "source": [
    "X.head()"
   ]
  },
  {
   "cell_type": "code",
   "execution_count": 8,
   "metadata": {},
   "outputs": [
    {
     "data": {
      "text/plain": [
       "<AxesSubplot:xlabel='goals_z'>"
      ]
     },
     "execution_count": 8,
     "metadata": {},
     "output_type": "execute_result"
    },
    {
     "data": {
      "image/png": "[encoded data removed]",
      "text/plain": [
       "<Figure size 432x288 with 1 Axes>"
      ]
     },
     "metadata": {
      "needs_background": "light"
     },
     "output_type": "display_data"
    }
   ],
   "source": [
    "import seaborn as sns\n",
    "sns.boxplot(x=df['goals_z'])"
   ]
  },
  {
   "cell_type": "code",
   "execution_count": 9,
   "metadata": {},
   "outputs": [],
   "source": [
    "import matplotlib.pyplot as plt\n"
   ]
  },
  {
   "cell_type": "code",
   "execution_count": 10,
   "metadata": {},
   "outputs": [
    {
     "data": {
      "image/png": "[encoded data removed]",
      "text/plain": [
       "<Figure size 1152x576 with 1 Axes>"
      ]
     },
     "metadata": {
      "needs_background": "light"
     },
     "output_type": "display_data"
    }
   ],
   "source": [
    "fig, ax = plt.subplots(figsize=(16,8))\n",
    "ax.scatter(df['new_xg'], df['Fouled'])\n",
    "ax.set_xlabel('new_xg')\n",
    "ax.set_ylabel('fouled')\n",
    "plt.show()"
   ]
  },
  {
   "cell_type": "code",
   "execution_count": 11,
   "metadata": {},
   "outputs": [],
   "source": [
    "from scipy import stats\n",
    "import numpy as np\n"
   ]
  },
  {
   "cell_type": "code",
   "execution_count": 16,
   "metadata": {},
   "outputs": [],
   "source": [
    "X = X.drop(columns=['Country'])\n"
   ]
  },
  {
   "cell_type": "code",
   "execution_count": 17,
   "metadata": {},
   "outputs": [
    {
     "name": "stdout",
     "output_type": "stream",
     "text": [
      "        Year   goals_z      xg_z  boxtouches_z  progpasses_z  progruns_z  \\\n",
      "0   1.383919  2.447511  0.978825      0.460605      1.535615    0.173748   \n",
      "1   0.127746  2.214890  1.828752      0.890457      1.425148    0.034652   \n",
      "2   1.128426  0.890618  1.400618      3.800067      2.504213    1.779314   \n",
      "3   1.383919  1.480898  0.632230      0.530835      0.366065    0.695838   \n",
      "4   0.127746  0.824970  1.134220      0.500791      0.978868    0.400496   \n",
      "5   1.128426  0.272492  0.227209      0.371375      0.545911    0.184471   \n",
      "6   1.383919  0.039871  1.086652      1.692393      1.441800    3.021654   \n",
      "7   0.127746  0.281216  1.073966      0.876592      0.170136    0.685599   \n",
      "8   1.128426  0.080579  1.670182      1.375779      1.215328    1.905072   \n",
      "9   1.383919  1.368724  0.036926      0.614034      1.242537    0.078478   \n",
      "10  0.127746  0.355585  1.045424      0.179555      2.137861    0.342621   \n",
      "11  1.128426  0.772631  0.451463      0.782741      0.136829    0.000355   \n",
      "12  1.383919  0.859864  0.613203      0.429149      0.372728    0.190897   \n",
      "13  0.127746  1.226244  0.541175      0.625589      0.676363    0.282357   \n",
      "14  1.383919  1.467589  0.365837      0.280343      1.128737    1.796463   \n",
      "15  0.127746  0.601074  0.414321      0.511448      0.779606    0.485530   \n",
      "16  1.128426  0.976174  2.428138      2.547480      0.010275    2.179455   \n",
      "17  0.127746  0.120058  0.270695      0.694020      0.366630    1.588771   \n",
      "18  1.128426  1.499576  1.175448      0.425938      0.106855    0.817074   \n",
      "19  1.383919  0.170720  1.020052      0.082494      1.006078    0.968314   \n",
      "20  0.127746  0.500976  0.755913      1.036955      0.039684    0.108964   \n",
      "21  0.127746  0.992390  0.106696      0.838205      0.379952    0.004167   \n",
      "22  1.128426  1.048870  0.531660      0.185589      0.742969    0.312845   \n",
      "23  1.383919  1.063408  0.909055      0.747173      0.339425    0.476712   \n",
      "24  0.127746  0.596934  0.508547      0.047826      0.556464    0.103249   \n",
      "25  1.128426  0.772631  0.682973      0.013162      0.869527    1.314390   \n",
      "26  1.383919  0.859864  0.597347      0.766563      0.919486    0.610092   \n",
      "27  0.127746  0.358496  0.603688      0.235022      0.613082    1.202681   \n",
      "28  1.128426  0.173630  0.166954      0.392174      0.046343    0.571985   \n",
      "29  1.128426  0.221830  1.444100      0.653322      0.596430    0.225197   \n",
      "30  0.127746  0.355585  0.600518      1.117842      0.082980    0.047991   \n",
      "31  0.127746  0.579485  1.869064      1.362814      1.122643    1.597105   \n",
      "32  1.128426  1.559407  1.225275      1.270370      0.073552    1.391318   \n",
      "33  1.383919  0.140410  0.099443      0.318219      0.922251    1.613542   \n",
      "34  0.127746  0.118380  1.317246      0.722654      0.812344    0.749189   \n",
      "35  1.128426  0.727782  0.334124      0.109323      2.464246    1.906979   \n",
      "36  1.383919  1.480898  1.215764      0.449948      1.585574    0.354764   \n",
      "37  0.127746  0.784262  1.946091      2.166157      0.622510    0.499578   \n",
      "38  1.128426  1.208799  0.181899      0.348262      0.113518    0.326184   \n",
      "39  1.383919  0.137503  1.064451      0.419004      1.269182    0.267116   \n",
      "40  1.128426  0.841186  1.929322      0.720341      1.086006    1.499927   \n",
      "41  1.383919  0.140410  0.115299      0.548422      0.552570    1.160761   \n",
      "42  0.127746  0.355585  0.746402      1.041576      0.212867    0.305223   \n",
      "43  1.128426  0.893525  0.454633      0.350573      1.558365    0.265209   \n",
      "44  1.383919  0.809198  0.235808      0.103293      0.926145    0.794208   \n",
      "45  1.128426  0.890618  0.822513      1.107696      0.848981    0.361677   \n",
      "46  1.383919  0.812109  0.687060      0.978278      0.629738    1.118842   \n",
      "47  0.127746  1.629191  1.415558      0.306664      1.215893    0.741567   \n",
      "48  1.383919  0.378848  1.448187      0.124092      1.329129    0.480522   \n",
      "49  0.127746  0.281216  0.160609      0.758728      0.189552    0.731328   \n",
      "50  0.127746  1.629191  1.951520      1.242640      0.300023    1.212207   \n",
      "51  1.128426  1.559407  0.873256      1.781112      1.855337    1.475157   \n",
      "52  1.128426  0.890618  0.422921      0.211912      0.273379    1.307480   \n",
      "53  1.128426  0.890618  0.204096      1.302727      0.362735    0.527449   \n",
      "54  1.128426  1.112841  0.277952      0.995357      0.925580    0.221385   \n",
      "55  0.127746  0.992390  0.089928      1.003700      0.712431    0.167322   \n",
      "56  0.127746  0.918021  0.376264      0.633933      0.662476    0.438603   \n",
      "57  1.128426  1.325109  0.427007      0.211012      0.379387    0.131120   \n",
      "58  1.128426  1.559407  1.133309      0.553947      1.362432    0.432888   \n",
      "\n",
      "      new_xg    Fouled  \n",
      "0   0.141770  0.408131  \n",
      "1   0.215040  0.418308  \n",
      "2   3.608163  1.360736  \n",
      "3   0.187775  1.039034  \n",
      "4   0.250882  0.141481  \n",
      "5   0.273196  0.397811  \n",
      "6   0.873821  1.580549  \n",
      "7   0.479355  1.902172  \n",
      "8   0.890857  1.586675  \n",
      "9   0.095160  0.719382  \n",
      "10  1.321231  0.410132  \n",
      "11  0.034730  0.520083  \n",
      "12  0.095888  0.171832  \n",
      "13  0.142262  0.833512  \n",
      "14  0.173064  0.204565  \n",
      "15  0.260148  0.269715  \n",
      "16  0.542513  1.588710  \n",
      "17  0.605845  1.214146  \n",
      "18  0.253551  0.296145  \n",
      "19  0.376455  0.623790  \n",
      "20  0.239062  0.277860  \n",
      "21  0.578932  1.090016  \n",
      "22  0.201006  0.813192  \n",
      "23  0.278037  1.625348  \n",
      "24  3.302399  1.128692  \n",
      "25  0.154978  1.828896  \n",
      "26  0.009173  0.261338  \n",
      "27  0.313485  0.556688  \n",
      "28  0.283684  0.302286  \n",
      "29  0.016875  1.199899  \n",
      "30  0.001529  1.440083  \n",
      "31  3.240557  0.731737  \n",
      "32  0.071713  0.890504  \n",
      "33  0.529460  0.621819  \n",
      "34  0.044129  0.137414  \n",
      "35  2.305643  0.312429  \n",
      "36  0.035270  0.045758  \n",
      "37  0.510471  0.066172  \n",
      "38  0.107216  0.357243  \n",
      "39  0.383893  0.975992  \n",
      "40  0.490690  0.986172  \n",
      "41  0.408657  1.462474  \n",
      "42  0.008759  1.358664  \n",
      "43  0.517229  0.666602  \n",
      "44  1.209323  2.282809  \n",
      "45  1.186539  0.664568  \n",
      "46  2.373068  1.057398  \n",
      "47  0.093422  0.277826  \n",
      "48  1.438197  1.041129  \n",
      "49  0.379926  0.762304  \n",
      "50  0.119466  0.756160  \n",
      "51  0.137843  0.011179  \n",
      "52  0.450716  0.666636  \n",
      "53  0.299709  1.228429  \n",
      "54  0.148202  0.379598  \n",
      "55  1.119477  0.448842  \n",
      "56  0.192181  1.409552  \n",
      "57  0.151315  0.171981  \n",
      "58  0.020902  2.398794  \n"
     ]
    }
   ],
   "source": [
    "z = np.abs(stats.zscore(X))\n",
    "print(z)"
   ]
  },
  {
   "cell_type": "code",
   "execution_count": 20,
   "metadata": {},
   "outputs": [
    {
     "name": "stdout",
     "output_type": "stream",
     "text": [
      "(array([ 0,  1,  2,  2,  2,  6, 10, 16, 16, 16, 24, 31, 35, 35, 37, 44, 46,\n",
      "       58]), array([1, 1, 3, 4, 6, 5, 4, 2, 3, 5, 6, 6, 4, 6, 3, 7, 6, 7]))\n"
     ]
    }
   ],
   "source": [
    "threshold = 2\n",
    "print(np.where(z > 2))"
   ]
  },
  {
   "cell_type": "code",
   "execution_count": 25,
   "metadata": {},
   "outputs": [
    {
     "name": "stdout",
     "output_type": "stream",
     "text": [
      "Year             8.000000\n",
      "goals_z          0.441539\n",
      "xg_z             0.344615\n",
      "boxtouches_z     0.389231\n",
      "progpasses_z     0.324231\n",
      "progruns_z       0.387308\n",
      "new_xg           2.811636\n",
      "Fouled           0.497288\n",
      "results         24.000000\n",
      "dtype: float64\n"
     ]
    }
   ],
   "source": [
    "Q1 = df.quantile(0.25)\n",
    "Q3 = df.quantile(0.75)\n",
    "IQR = Q3 - Q1\n",
    "print(IQR)"
   ]
  },
  {
   "cell_type": "code",
   "execution_count": 26,
   "metadata": {},
   "outputs": [
    {
     "name": "stderr",
     "output_type": "stream",
     "text": [
      "/var/folders/j_/555m2zps099832fjh_m8jjnc0000gn/T/ipykernel_38588/573165499.py:1: FutureWarning: Automatic reindexing on DataFrame vs Series comparisons is deprecated and will raise ValueError in a future version.  Do `left, right = left.align(right, axis=1, copy=False)` before e.g. `left == right`\n",
      "  print(df < (Q1 - 1.5 * IQR)) |(df > (Q3 + 1.5 * IQR))\n",
      "/var/folders/j_/555m2zps099832fjh_m8jjnc0000gn/T/ipykernel_38588/573165499.py:1: FutureWarning: Automatic reindexing on DataFrame vs Series comparisons is deprecated and will raise ValueError in a future version.  Do `left, right = left.align(right, axis=1, copy=False)` before e.g. `left == right`\n",
      "  print(df < (Q1 - 1.5 * IQR)) |(df > (Q3 + 1.5 * IQR))\n"
     ]
    },
    {
     "name": "stdout",
     "output_type": "stream",
     "text": [
      "    Country  Fouled   Year  boxtouches_z  goals_z  new_xg  progpasses_z  \\\n",
      "0     False   False  False         False    False   False         False   \n",
      "1     False   False  False         False    False   False         False   \n",
      "2     False   False  False         False    False    True         False   \n",
      "3     False   False  False         False    False   False         False   \n",
      "4     False   False  False         False    False   False         False   \n",
      "5     False   False  False         False    False   False         False   \n",
      "6     False   False  False         False    False   False         False   \n",
      "7     False   False  False         False    False   False         False   \n",
      "8     False   False  False         False    False   False         False   \n",
      "9     False   False  False         False    False   False         False   \n",
      "10    False   False  False         False    False   False         False   \n",
      "11    False   False  False         False    False   False         False   \n",
      "12    False   False  False         False    False   False         False   \n",
      "13    False   False  False         False    False   False         False   \n",
      "14    False   False  False         False    False   False         False   \n",
      "15    False   False  False         False    False   False         False   \n",
      "16    False   False  False         False    False   False         False   \n",
      "17    False   False  False         False    False   False         False   \n",
      "18    False   False  False         False    False   False         False   \n",
      "19    False   False  False         False    False   False         False   \n",
      "20    False   False  False         False    False   False         False   \n",
      "21    False   False  False         False    False    True         False   \n",
      "22    False   False  False         False    False   False         False   \n",
      "23    False   False  False         False    False   False         False   \n",
      "24    False   False  False         False    False   False         False   \n",
      "25    False   False  False         False    False   False         False   \n",
      "26    False   False  False         False    False   False         False   \n",
      "27    False   False  False         False    False   False         False   \n",
      "28    False   False  False         False    False   False         False   \n",
      "29    False   False  False         False    False   False         False   \n",
      "30    False   False  False         False    False   False         False   \n",
      "31    False   False  False         False    False    True         False   \n",
      "32    False   False  False         False    False   False         False   \n",
      "33    False   False  False         False    False   False         False   \n",
      "34    False   False  False         False    False   False         False   \n",
      "35    False   False  False         False    False    True         False   \n",
      "36    False   False  False         False    False   False         False   \n",
      "37    False   False  False         False    False   False         False   \n",
      "38    False   False  False         False    False   False         False   \n",
      "39    False   False  False         False    False   False         False   \n",
      "40    False   False  False         False    False   False         False   \n",
      "41    False   False  False         False    False   False         False   \n",
      "42    False   False  False         False    False   False         False   \n",
      "43    False   False  False         False    False    True         False   \n",
      "44    False   False  False         False    False    True         False   \n",
      "45    False   False  False         False    False    True         False   \n",
      "46    False   False  False         False    False    True         False   \n",
      "47    False   False  False         False    False   False         False   \n",
      "48    False   False  False         False    False   False         False   \n",
      "49    False   False  False         False    False   False         False   \n",
      "50    False   False  False         False    False   False         False   \n",
      "51    False   False  False         False    False   False         False   \n",
      "52    False   False  False         False    False   False         False   \n",
      "53    False   False  False         False    False   False         False   \n",
      "54    False   False  False         False    False   False         False   \n",
      "55    False   False  False         False    False    True         False   \n",
      "56    False   False  False         False    False   False         False   \n",
      "57    False   False  False         False    False   False         False   \n",
      "58    False   False  False         False    False   False         False   \n",
      "\n",
      "    progruns_z  results   xg_z  \n",
      "0        False    False  False  \n",
      "1        False    False  False  \n",
      "2        False    False  False  \n",
      "3        False    False  False  \n",
      "4        False    False  False  \n",
      "5        False    False  False  \n",
      "6        False    False  False  \n",
      "7        False    False  False  \n",
      "8        False    False  False  \n",
      "9        False    False  False  \n",
      "10       False    False  False  \n",
      "11       False    False  False  \n",
      "12       False    False  False  \n",
      "13       False    False  False  \n",
      "14       False    False  False  \n",
      "15       False    False  False  \n",
      "16       False    False  False  \n",
      "17       False    False  False  \n",
      "18       False    False  False  \n",
      "19       False    False  False  \n",
      "20       False    False  False  \n",
      "21       False    False  False  \n",
      "22       False    False  False  \n",
      "23       False    False  False  \n",
      "24       False    False  False  \n",
      "25       False    False  False  \n",
      "26       False    False  False  \n",
      "27       False    False  False  \n",
      "28       False    False  False  \n",
      "29       False    False  False  \n",
      "30       False    False  False  \n",
      "31       False    False  False  \n",
      "32       False    False  False  \n",
      "33       False    False  False  \n",
      "34       False    False  False  \n",
      "35       False    False  False  \n",
      "36       False    False  False  \n",
      "37       False    False  False  \n",
      "38       False    False  False  \n",
      "39       False    False  False  \n",
      "40       False    False  False  \n",
      "41       False    False  False  \n",
      "42       False    False  False  \n",
      "43       False    False  False  \n",
      "44       False    False  False  \n",
      "45       False    False  False  \n",
      "46       False    False  False  \n",
      "47       False    False  False  \n",
      "48       False    False  False  \n",
      "49       False    False  False  \n",
      "50       False    False  False  \n",
      "51       False    False  False  \n",
      "52       False    False  False  \n",
      "53       False    False  False  \n",
      "54       False    False  False  \n",
      "55       False    False  False  \n",
      "56       False    False  False  \n",
      "57       False    False  False  \n",
      "58       False    False  False  \n"
     ]
    },
    {
     "ename": "TypeError",
     "evalue": "Cannot perform 'ror_' with a dtyped [bool] array and scalar of type [NoneType]",
     "output_type": "error",
     "traceback": [
      "\u001b[0;31m---------------------------------------------------------------------------\u001b[0m",
      "\u001b[0;31mTypeError\u001b[0m                                 Traceback (most recent call last)",
      "File \u001b[0;32m~/opt/anaconda3/envs/tf2/lib/python3.9/site-packages/pandas/core/ops/array_ops.py:302\u001b[0m, in \u001b[0;36mna_logical_op\u001b[0;34m(x, y, op)\u001b[0m\n\u001b[1;32m    293\u001b[0m \u001b[38;5;28;01mtry\u001b[39;00m:\n\u001b[1;32m    294\u001b[0m     \u001b[38;5;66;03m# For exposition, write:\u001b[39;00m\n\u001b[1;32m    295\u001b[0m     \u001b[38;5;66;03m#  yarr = isinstance(y, np.ndarray)\u001b[39;00m\n\u001b[0;32m   (...)\u001b[0m\n\u001b[1;32m    300\u001b[0m     \u001b[38;5;66;03m# Then Cases where this goes through without raising include:\u001b[39;00m\n\u001b[1;32m    301\u001b[0m     \u001b[38;5;66;03m#  (xint or xbool) and (yint or bool)\u001b[39;00m\n\u001b[0;32m--> 302\u001b[0m     result \u001b[38;5;241m=\u001b[39m \u001b[43mop\u001b[49m\u001b[43m(\u001b[49m\u001b[43mx\u001b[49m\u001b[43m,\u001b[49m\u001b[43m \u001b[49m\u001b[43my\u001b[49m\u001b[43m)\u001b[49m\n\u001b[1;32m    303\u001b[0m \u001b[38;5;28;01mexcept\u001b[39;00m \u001b[38;5;167;01mTypeError\u001b[39;00m:\n",
      "File \u001b[0;32m~/opt/anaconda3/envs/tf2/lib/python3.9/site-packages/pandas/core/roperator.py:56\u001b[0m, in \u001b[0;36mror_\u001b[0;34m(left, right)\u001b[0m\n\u001b[1;32m     55\u001b[0m \u001b[38;5;28;01mdef\u001b[39;00m \u001b[38;5;21mror_\u001b[39m(left, right):\n\u001b[0;32m---> 56\u001b[0m     \u001b[38;5;28;01mreturn\u001b[39;00m \u001b[43moperator\u001b[49m\u001b[38;5;241;43m.\u001b[39;49m\u001b[43mor_\u001b[49m\u001b[43m(\u001b[49m\u001b[43mright\u001b[49m\u001b[43m,\u001b[49m\u001b[43m \u001b[49m\u001b[43mleft\u001b[49m\u001b[43m)\u001b[49m\n",
      "\u001b[0;31mTypeError\u001b[0m: unsupported operand type(s) for |: 'NoneType' and 'bool'",
      "\nDuring handling of the above exception, another exception occurred:\n",
      "\u001b[0;31mValueError\u001b[0m                                Traceback (most recent call last)",
      "File \u001b[0;32m~/opt/anaconda3/envs/tf2/lib/python3.9/site-packages/pandas/core/ops/array_ops.py:316\u001b[0m, in \u001b[0;36mna_logical_op\u001b[0;34m(x, y, op)\u001b[0m\n\u001b[1;32m    315\u001b[0m \u001b[38;5;28;01mtry\u001b[39;00m:\n\u001b[0;32m--> 316\u001b[0m     result \u001b[38;5;241m=\u001b[39m \u001b[43mlibops\u001b[49m\u001b[38;5;241;43m.\u001b[39;49m\u001b[43mscalar_binop\u001b[49m\u001b[43m(\u001b[49m\u001b[43mx\u001b[49m\u001b[43m,\u001b[49m\u001b[43m \u001b[49m\u001b[43my\u001b[49m\u001b[43m,\u001b[49m\u001b[43m \u001b[49m\u001b[43mop\u001b[49m\u001b[43m)\u001b[49m\n\u001b[1;32m    317\u001b[0m \u001b[38;5;28;01mexcept\u001b[39;00m (\n\u001b[1;32m    318\u001b[0m     \u001b[38;5;167;01mTypeError\u001b[39;00m,\n\u001b[1;32m    319\u001b[0m     \u001b[38;5;167;01mValueError\u001b[39;00m,\n\u001b[0;32m   (...)\u001b[0m\n\u001b[1;32m    322\u001b[0m     \u001b[38;5;167;01mNotImplementedError\u001b[39;00m,\n\u001b[1;32m    323\u001b[0m ) \u001b[38;5;28;01mas\u001b[39;00m err:\n",
      "File \u001b[0;32m~/opt/anaconda3/envs/tf2/lib/python3.9/site-packages/pandas/_libs/ops.pyx:180\u001b[0m, in \u001b[0;36mpandas._libs.ops.scalar_binop\u001b[0;34m()\u001b[0m\n",
      "\u001b[0;31mValueError\u001b[0m: Buffer has wrong number of dimensions (expected 1, got 2)",
      "\nThe above exception was the direct cause of the following exception:\n",
      "\u001b[0;31mTypeError\u001b[0m                                 Traceback (most recent call last)",
      "Input \u001b[0;32mIn [26]\u001b[0m, in \u001b[0;36m<cell line: 1>\u001b[0;34m()\u001b[0m\n\u001b[0;32m----> 1\u001b[0m \u001b[38;5;28;43mprint\u001b[39;49m\u001b[43m(\u001b[49m\u001b[43mdf\u001b[49m\u001b[43m \u001b[49m\u001b[38;5;241;43m<\u001b[39;49m\u001b[43m \u001b[49m\u001b[43m(\u001b[49m\u001b[43mQ1\u001b[49m\u001b[43m \u001b[49m\u001b[38;5;241;43m-\u001b[39;49m\u001b[43m \u001b[49m\u001b[38;5;241;43m1.5\u001b[39;49m\u001b[43m \u001b[49m\u001b[38;5;241;43m*\u001b[39;49m\u001b[43m \u001b[49m\u001b[43mIQR\u001b[49m\u001b[43m)\u001b[49m\u001b[43m)\u001b[49m\u001b[43m \u001b[49m\u001b[38;5;241;43m|\u001b[39;49m\u001b[43m(\u001b[49m\u001b[43mdf\u001b[49m\u001b[43m \u001b[49m\u001b[38;5;241;43m>\u001b[39;49m\u001b[43m \u001b[49m\u001b[43m(\u001b[49m\u001b[43mQ3\u001b[49m\u001b[43m \u001b[49m\u001b[38;5;241;43m+\u001b[39;49m\u001b[43m \u001b[49m\u001b[38;5;241;43m1.5\u001b[39;49m\u001b[43m \u001b[49m\u001b[38;5;241;43m*\u001b[39;49m\u001b[43m \u001b[49m\u001b[43mIQR\u001b[49m\u001b[43m)\u001b[49m\u001b[43m)\u001b[49m\n",
      "File \u001b[0;32m~/opt/anaconda3/envs/tf2/lib/python3.9/site-packages/pandas/core/ops/common.py:69\u001b[0m, in \u001b[0;36m_unpack_zerodim_and_defer.<locals>.new_method\u001b[0;34m(self, other)\u001b[0m\n\u001b[1;32m     65\u001b[0m             \u001b[38;5;28;01mreturn\u001b[39;00m \u001b[38;5;28mNotImplemented\u001b[39m\n\u001b[1;32m     67\u001b[0m other \u001b[38;5;241m=\u001b[39m item_from_zerodim(other)\n\u001b[0;32m---> 69\u001b[0m \u001b[38;5;28;01mreturn\u001b[39;00m \u001b[43mmethod\u001b[49m\u001b[43m(\u001b[49m\u001b[38;5;28;43mself\u001b[39;49m\u001b[43m,\u001b[49m\u001b[43m \u001b[49m\u001b[43mother\u001b[49m\u001b[43m)\u001b[49m\n",
      "File \u001b[0;32m~/opt/anaconda3/envs/tf2/lib/python3.9/site-packages/pandas/core/arraylike.py:74\u001b[0m, in \u001b[0;36mOpsMixin.__ror__\u001b[0;34m(self, other)\u001b[0m\n\u001b[1;32m     72\u001b[0m \u001b[38;5;129m@unpack_zerodim_and_defer\u001b[39m(\u001b[38;5;124m\"\u001b[39m\u001b[38;5;124m__ror__\u001b[39m\u001b[38;5;124m\"\u001b[39m)\n\u001b[1;32m     73\u001b[0m \u001b[38;5;28;01mdef\u001b[39;00m \u001b[38;5;21m__ror__\u001b[39m(\u001b[38;5;28mself\u001b[39m, other):\n\u001b[0;32m---> 74\u001b[0m     \u001b[38;5;28;01mreturn\u001b[39;00m \u001b[38;5;28;43mself\u001b[39;49m\u001b[38;5;241;43m.\u001b[39;49m\u001b[43m_logical_method\u001b[49m\u001b[43m(\u001b[49m\u001b[43mother\u001b[49m\u001b[43m,\u001b[49m\u001b[43m \u001b[49m\u001b[43mroperator\u001b[49m\u001b[38;5;241;43m.\u001b[39;49m\u001b[43mror_\u001b[49m\u001b[43m)\u001b[49m\n",
      "File \u001b[0;32m~/opt/anaconda3/envs/tf2/lib/python3.9/site-packages/pandas/core/frame.py:6866\u001b[0m, in \u001b[0;36mDataFrame._arith_method\u001b[0;34m(self, other, op)\u001b[0m\n\u001b[1;32m   6862\u001b[0m other \u001b[38;5;241m=\u001b[39m ops\u001b[38;5;241m.\u001b[39mmaybe_prepare_scalar_for_op(other, (\u001b[38;5;28mself\u001b[39m\u001b[38;5;241m.\u001b[39mshape[axis],))\n\u001b[1;32m   6864\u001b[0m \u001b[38;5;28mself\u001b[39m, other \u001b[38;5;241m=\u001b[39m ops\u001b[38;5;241m.\u001b[39malign_method_FRAME(\u001b[38;5;28mself\u001b[39m, other, axis, flex\u001b[38;5;241m=\u001b[39m\u001b[38;5;28;01mTrue\u001b[39;00m, level\u001b[38;5;241m=\u001b[39m\u001b[38;5;28;01mNone\u001b[39;00m)\n\u001b[0;32m-> 6866\u001b[0m new_data \u001b[38;5;241m=\u001b[39m \u001b[38;5;28;43mself\u001b[39;49m\u001b[38;5;241;43m.\u001b[39;49m\u001b[43m_dispatch_frame_op\u001b[49m\u001b[43m(\u001b[49m\u001b[43mother\u001b[49m\u001b[43m,\u001b[49m\u001b[43m \u001b[49m\u001b[43mop\u001b[49m\u001b[43m,\u001b[49m\u001b[43m \u001b[49m\u001b[43maxis\u001b[49m\u001b[38;5;241;43m=\u001b[39;49m\u001b[43maxis\u001b[49m\u001b[43m)\u001b[49m\n\u001b[1;32m   6867\u001b[0m \u001b[38;5;28;01mreturn\u001b[39;00m \u001b[38;5;28mself\u001b[39m\u001b[38;5;241m.\u001b[39m_construct_result(new_data)\n",
      "File \u001b[0;32m~/opt/anaconda3/envs/tf2/lib/python3.9/site-packages/pandas/core/frame.py:6893\u001b[0m, in \u001b[0;36mDataFrame._dispatch_frame_op\u001b[0;34m(self, right, func, axis)\u001b[0m\n\u001b[1;32m   6890\u001b[0m \u001b[38;5;28;01mif\u001b[39;00m \u001b[38;5;129;01mnot\u001b[39;00m is_list_like(right):\n\u001b[1;32m   6891\u001b[0m     \u001b[38;5;66;03m# i.e. scalar, faster than checking np.ndim(right) == 0\u001b[39;00m\n\u001b[1;32m   6892\u001b[0m     \u001b[38;5;28;01mwith\u001b[39;00m np\u001b[38;5;241m.\u001b[39merrstate(\u001b[38;5;28mall\u001b[39m\u001b[38;5;241m=\u001b[39m\u001b[38;5;124m\"\u001b[39m\u001b[38;5;124mignore\u001b[39m\u001b[38;5;124m\"\u001b[39m):\n\u001b[0;32m-> 6893\u001b[0m         bm \u001b[38;5;241m=\u001b[39m \u001b[38;5;28;43mself\u001b[39;49m\u001b[38;5;241;43m.\u001b[39;49m\u001b[43m_mgr\u001b[49m\u001b[38;5;241;43m.\u001b[39;49m\u001b[43mapply\u001b[49m\u001b[43m(\u001b[49m\u001b[43marray_op\u001b[49m\u001b[43m,\u001b[49m\u001b[43m \u001b[49m\u001b[43mright\u001b[49m\u001b[38;5;241;43m=\u001b[39;49m\u001b[43mright\u001b[49m\u001b[43m)\u001b[49m\n\u001b[1;32m   6894\u001b[0m     \u001b[38;5;28;01mreturn\u001b[39;00m \u001b[38;5;28mtype\u001b[39m(\u001b[38;5;28mself\u001b[39m)(bm)\n\u001b[1;32m   6896\u001b[0m \u001b[38;5;28;01melif\u001b[39;00m \u001b[38;5;28misinstance\u001b[39m(right, DataFrame):\n",
      "File \u001b[0;32m~/opt/anaconda3/envs/tf2/lib/python3.9/site-packages/pandas/core/internals/managers.py:325\u001b[0m, in \u001b[0;36mBaseBlockManager.apply\u001b[0;34m(self, f, align_keys, ignore_failures, **kwargs)\u001b[0m\n\u001b[1;32m    323\u001b[0m \u001b[38;5;28;01mtry\u001b[39;00m:\n\u001b[1;32m    324\u001b[0m     \u001b[38;5;28;01mif\u001b[39;00m callable(f):\n\u001b[0;32m--> 325\u001b[0m         applied \u001b[38;5;241m=\u001b[39m \u001b[43mb\u001b[49m\u001b[38;5;241;43m.\u001b[39;49m\u001b[43mapply\u001b[49m\u001b[43m(\u001b[49m\u001b[43mf\u001b[49m\u001b[43m,\u001b[49m\u001b[43m \u001b[49m\u001b[38;5;241;43m*\u001b[39;49m\u001b[38;5;241;43m*\u001b[39;49m\u001b[43mkwargs\u001b[49m\u001b[43m)\u001b[49m\n\u001b[1;32m    326\u001b[0m     \u001b[38;5;28;01melse\u001b[39;00m:\n\u001b[1;32m    327\u001b[0m         applied \u001b[38;5;241m=\u001b[39m \u001b[38;5;28mgetattr\u001b[39m(b, f)(\u001b[38;5;241m*\u001b[39m\u001b[38;5;241m*\u001b[39mkwargs)\n",
      "File \u001b[0;32m~/opt/anaconda3/envs/tf2/lib/python3.9/site-packages/pandas/core/internals/blocks.py:381\u001b[0m, in \u001b[0;36mBlock.apply\u001b[0;34m(self, func, **kwargs)\u001b[0m\n\u001b[1;32m    376\u001b[0m \u001b[38;5;124;03m\"\"\"\u001b[39;00m\n\u001b[1;32m    377\u001b[0m \u001b[38;5;124;03mapply the function to my values; return a block if we are not\u001b[39;00m\n\u001b[1;32m    378\u001b[0m \u001b[38;5;124;03mone\u001b[39;00m\n\u001b[1;32m    379\u001b[0m \u001b[38;5;124;03m\"\"\"\u001b[39;00m\n\u001b[1;32m    380\u001b[0m \u001b[38;5;28;01mwith\u001b[39;00m np\u001b[38;5;241m.\u001b[39merrstate(\u001b[38;5;28mall\u001b[39m\u001b[38;5;241m=\u001b[39m\u001b[38;5;124m\"\u001b[39m\u001b[38;5;124mignore\u001b[39m\u001b[38;5;124m\"\u001b[39m):\n\u001b[0;32m--> 381\u001b[0m     result \u001b[38;5;241m=\u001b[39m \u001b[43mfunc\u001b[49m\u001b[43m(\u001b[49m\u001b[38;5;28;43mself\u001b[39;49m\u001b[38;5;241;43m.\u001b[39;49m\u001b[43mvalues\u001b[49m\u001b[43m,\u001b[49m\u001b[43m \u001b[49m\u001b[38;5;241;43m*\u001b[39;49m\u001b[38;5;241;43m*\u001b[39;49m\u001b[43mkwargs\u001b[49m\u001b[43m)\u001b[49m\n\u001b[1;32m    383\u001b[0m \u001b[38;5;28;01mreturn\u001b[39;00m \u001b[38;5;28mself\u001b[39m\u001b[38;5;241m.\u001b[39m_split_op_result(result)\n",
      "File \u001b[0;32m~/opt/anaconda3/envs/tf2/lib/python3.9/site-packages/pandas/core/ops/array_ops.py:392\u001b[0m, in \u001b[0;36mlogical_op\u001b[0;34m(left, right, op)\u001b[0m\n\u001b[1;32m    388\u001b[0m \u001b[38;5;66;03m# For int vs int `^`, `|`, `&` are bitwise operators and return\u001b[39;00m\n\u001b[1;32m    389\u001b[0m \u001b[38;5;66;03m#   integer dtypes.  Otherwise these are boolean ops\u001b[39;00m\n\u001b[1;32m    390\u001b[0m filler \u001b[38;5;241m=\u001b[39m fill_int \u001b[38;5;28;01mif\u001b[39;00m is_self_int_dtype \u001b[38;5;129;01mand\u001b[39;00m is_other_int_dtype \u001b[38;5;28;01melse\u001b[39;00m fill_bool\n\u001b[0;32m--> 392\u001b[0m res_values \u001b[38;5;241m=\u001b[39m \u001b[43mna_logical_op\u001b[49m\u001b[43m(\u001b[49m\u001b[43mlvalues\u001b[49m\u001b[43m,\u001b[49m\u001b[43m \u001b[49m\u001b[43mrvalues\u001b[49m\u001b[43m,\u001b[49m\u001b[43m \u001b[49m\u001b[43mop\u001b[49m\u001b[43m)\u001b[49m\n\u001b[1;32m    393\u001b[0m \u001b[38;5;66;03m# error: Cannot call function of unknown type\u001b[39;00m\n\u001b[1;32m    394\u001b[0m res_values \u001b[38;5;241m=\u001b[39m filler(res_values)  \u001b[38;5;66;03m# type: ignore[operator]\u001b[39;00m\n",
      "File \u001b[0;32m~/opt/anaconda3/envs/tf2/lib/python3.9/site-packages/pandas/core/ops/array_ops.py:325\u001b[0m, in \u001b[0;36mna_logical_op\u001b[0;34m(x, y, op)\u001b[0m\n\u001b[1;32m    317\u001b[0m         \u001b[38;5;28;01mexcept\u001b[39;00m (\n\u001b[1;32m    318\u001b[0m             \u001b[38;5;167;01mTypeError\u001b[39;00m,\n\u001b[1;32m    319\u001b[0m             \u001b[38;5;167;01mValueError\u001b[39;00m,\n\u001b[0;32m   (...)\u001b[0m\n\u001b[1;32m    322\u001b[0m             \u001b[38;5;167;01mNotImplementedError\u001b[39;00m,\n\u001b[1;32m    323\u001b[0m         ) \u001b[38;5;28;01mas\u001b[39;00m err:\n\u001b[1;32m    324\u001b[0m             typ \u001b[38;5;241m=\u001b[39m \u001b[38;5;28mtype\u001b[39m(y)\u001b[38;5;241m.\u001b[39m\u001b[38;5;18m__name__\u001b[39m\n\u001b[0;32m--> 325\u001b[0m             \u001b[38;5;28;01mraise\u001b[39;00m \u001b[38;5;167;01mTypeError\u001b[39;00m(\n\u001b[1;32m    326\u001b[0m                 \u001b[38;5;124mf\u001b[39m\u001b[38;5;124m\"\u001b[39m\u001b[38;5;124mCannot perform \u001b[39m\u001b[38;5;124m'\u001b[39m\u001b[38;5;132;01m{\u001b[39;00mop\u001b[38;5;241m.\u001b[39m\u001b[38;5;18m__name__\u001b[39m\u001b[38;5;132;01m}\u001b[39;00m\u001b[38;5;124m'\u001b[39m\u001b[38;5;124m with a dtyped [\u001b[39m\u001b[38;5;132;01m{\u001b[39;00mx\u001b[38;5;241m.\u001b[39mdtype\u001b[38;5;132;01m}\u001b[39;00m\u001b[38;5;124m] array \u001b[39m\u001b[38;5;124m\"\u001b[39m\n\u001b[1;32m    327\u001b[0m                 \u001b[38;5;124mf\u001b[39m\u001b[38;5;124m\"\u001b[39m\u001b[38;5;124mand scalar of type [\u001b[39m\u001b[38;5;132;01m{\u001b[39;00mtyp\u001b[38;5;132;01m}\u001b[39;00m\u001b[38;5;124m]\u001b[39m\u001b[38;5;124m\"\u001b[39m\n\u001b[1;32m    328\u001b[0m             ) \u001b[38;5;28;01mfrom\u001b[39;00m \u001b[38;5;21;01merr\u001b[39;00m\n\u001b[1;32m    330\u001b[0m \u001b[38;5;28;01mreturn\u001b[39;00m result\u001b[38;5;241m.\u001b[39mreshape(x\u001b[38;5;241m.\u001b[39mshape)\n",
      "\u001b[0;31mTypeError\u001b[0m: Cannot perform 'ror_' with a dtyped [bool] array and scalar of type [NoneType]"
     ]
    }
   ],
   "source": [
    "print(df < (Q1 - 1.5 * IQR)) |(df > (Q3 + 1.5 * IQR))"
   ]
  },
  {
   "cell_type": "code",
   "execution_count": 35,
   "metadata": {},
   "outputs": [],
   "source": [
    "df_no_year = df.drop(columns=['Year'])"
   ]
  },
  {
   "cell_type": "code",
   "execution_count": 27,
   "metadata": {},
   "outputs": [],
   "source": [
    "df_z = df[(z < 3).all(axis=1)]"
   ]
  },
  {
   "cell_type": "code",
   "execution_count": 30,
   "metadata": {},
   "outputs": [
    {
     "data": {
      "text/plain": [
       "(55, 10)"
      ]
     },
     "execution_count": 30,
     "metadata": {},
     "output_type": "execute_result"
    }
   ],
   "source": [
    "df_z.shape"
   ]
  },
  {
   "cell_type": "code",
   "execution_count": 41,
   "metadata": {},
   "outputs": [
    {
     "data": {
      "text/plain": [
       "(59, 9)"
      ]
     },
     "execution_count": 41,
     "metadata": {},
     "output_type": "execute_result"
    }
   ],
   "source": [
    "df_no_year.shape"
   ]
  },
  {
   "cell_type": "code",
   "execution_count": 45,
   "metadata": {},
   "outputs": [
    {
     "data": {
      "text/plain": [
       "32    26\n",
       "16    13\n",
       "8      8\n",
       "3      3\n",
       "1      3\n",
       "2      3\n",
       "4      3\n",
       "Name: results, dtype: int64"
      ]
     },
     "execution_count": 45,
     "metadata": {},
     "output_type": "execute_result"
    }
   ],
   "source": [
    "df_no_year['results'].value_counts()"
   ]
  },
  {
   "cell_type": "code",
   "execution_count": 38,
   "metadata": {},
   "outputs": [],
   "source": [
    "df_z = df_no_year[(z < 3).all(axis=1)]"
   ]
  },
  {
   "cell_type": "code",
   "execution_count": 40,
   "metadata": {},
   "outputs": [
    {
     "data": {
      "text/plain": [
       "(55, 9)"
      ]
     },
     "execution_count": 40,
     "metadata": {},
     "output_type": "execute_result"
    }
   ],
   "source": [
    "df_z.shape"
   ]
  },
  {
   "cell_type": "code",
   "execution_count": 43,
   "metadata": {},
   "outputs": [
    {
     "data": {
      "text/plain": [
       "32    25\n",
       "16    13\n",
       "8      7\n",
       "3      3\n",
       "4      3\n",
       "1      2\n",
       "2      2\n",
       "Name: results, dtype: int64"
      ]
     },
     "execution_count": 43,
     "metadata": {},
     "output_type": "execute_result"
    }
   ],
   "source": [
    "df_z['results'].value_counts()\n",
    "\n"
   ]
  },
  {
   "cell_type": "code",
   "execution_count": 47,
   "metadata": {},
   "outputs": [
    {
     "data": {
      "image/png": "[encoded data removed]",
      "text/plain": [
       "<Figure size 1152x576 with 1 Axes>"
      ]
     },
     "metadata": {
      "needs_background": "light"
     },
     "output_type": "display_data"
    }
   ],
   "source": [
    "fig, ax = plt.subplots(figsize=(16,8))\n",
    "ax.scatter(df_z['new_xg'], df_z['Fouled'])\n",
    "ax.set_xlabel('new_xg')\n",
    "ax.set_ylabel('fouled')\n",
    "plt.show()"
   ]
  },
  {
   "cell_type": "markdown",
   "metadata": {},
   "source": [
    "## Linear Regression"
   ]
  },
  {
   "cell_type": "code",
   "execution_count": 49,
   "metadata": {},
   "outputs": [],
   "source": [
    "from sklearn.linear_model import LinearRegression"
   ]
  },
  {
   "cell_type": "code",
   "execution_count": 50,
   "metadata": {},
   "outputs": [],
   "source": [
    "y = df_z['results']"
   ]
  },
  {
   "cell_type": "code",
   "execution_count": 55,
   "metadata": {},
   "outputs": [],
   "source": [
    "X = df_z.drop(columns=['results', 'Country'])"
   ]
  },
  {
   "cell_type": "code",
   "execution_count": 56,
   "metadata": {},
   "outputs": [],
   "source": [
    "reg = LinearRegression().fit(X, y)"
   ]
  },
  {
   "cell_type": "code",
   "execution_count": 98,
   "metadata": {},
   "outputs": [],
   "source": [
    "r_sq = reg.score(X, y)"
   ]
  },
  {
   "cell_type": "code",
   "execution_count": 99,
   "metadata": {},
   "outputs": [
    {
     "name": "stdout",
     "output_type": "stream",
     "text": [
      "coefficient of determination: 0.474016958077341\n"
     ]
    }
   ],
   "source": [
    "print(f\"coefficient of determination: {r_sq}\")"
   ]
  },
  {
   "cell_type": "code",
   "execution_count": 58,
   "metadata": {},
   "outputs": [
    {
     "data": {
      "text/plain": [
       "array([-32.20032869,   4.49778614,  -1.8955418 ,   5.84712598,\n",
       "        -2.2202453 ,  -0.1936012 ,  -0.76747218])"
      ]
     },
     "execution_count": 58,
     "metadata": {},
     "output_type": "execute_result"
    }
   ],
   "source": [
    "reg.coef_"
   ]
  },
  {
   "cell_type": "code",
   "execution_count": 101,
   "metadata": {},
   "outputs": [
    {
     "name": "stdout",
     "output_type": "stream",
     "text": [
      "slope: [-37.41901487   8.29672777  -1.08486823   5.92916766   3.18304066\n",
      "  -0.60592584  -5.92967329]\n"
     ]
    }
   ],
   "source": [
    "print(f\"slope: {reg.coef_}\")"
   ]
  },
  {
   "cell_type": "code",
   "execution_count": 59,
   "metadata": {},
   "outputs": [
    {
     "data": {
      "text/plain": [
       "25.487031332738766"
      ]
     },
     "execution_count": 59,
     "metadata": {},
     "output_type": "execute_result"
    }
   ],
   "source": [
    "reg.intercept_"
   ]
  },
  {
   "cell_type": "code",
   "execution_count": 100,
   "metadata": {},
   "outputs": [
    {
     "name": "stdout",
     "output_type": "stream",
     "text": [
      "intercept: 23.798946311338536\n"
     ]
    }
   ],
   "source": [
    "print(f\"intercept: {reg.intercept_}\")"
   ]
  },
  {
   "cell_type": "code",
   "execution_count": 103,
   "metadata": {},
   "outputs": [],
   "source": [
    "y_pred = reg.predict(X)"
   ]
  },
  {
   "cell_type": "code",
   "execution_count": 104,
   "metadata": {},
   "outputs": [
    {
     "name": "stdout",
     "output_type": "stream",
     "text": [
      "predicted response:\n",
      "[-6.31006553  1.38233971 36.56047516 13.60085466 16.66762505 13.0688307\n",
      " 18.13390312  6.15095017 23.27724333 10.27695944  9.87975206  9.10765502\n",
      "  7.22519578 12.39841798 10.8281224  21.62655909  7.7160253  14.52320026\n",
      " 21.95966955 30.42652491  6.42943736  5.89863612  6.66918026  9.14093425\n",
      " 19.7548365  16.03654068 21.1043152  26.08453937 33.25088319 23.39976023\n",
      " 16.13619721 44.93349974 29.75200001 12.89574175  5.95106942 21.57002892\n",
      " 21.06381594 21.48745245 25.46540169 34.08087448 28.49885708 36.04981721\n",
      " 41.39966006 30.99694305 19.30606874 14.88930002 31.84404696 29.28603836\n",
      " 26.88901811 28.91837348 11.05852261 35.29310419 14.03939824  8.04539611\n",
      " 36.28447325]\n"
     ]
    }
   ],
   "source": [
    "print(f\"predicted response:\\n{y_pred}\")"
   ]
  },
  {
   "cell_type": "code",
   "execution_count": 108,
   "metadata": {},
   "outputs": [],
   "source": [
    "y_pred = reg.intercept_ + np.sum(reg.coef_ * X, axis=1)"
   ]
  },
  {
   "cell_type": "code",
   "execution_count": 109,
   "metadata": {},
   "outputs": [
    {
     "name": "stdout",
     "output_type": "stream",
     "text": [
      "predicted response:\n",
      "0     -6.310066\n",
      "1      1.382340\n",
      "3     36.560475\n",
      "4     13.600855\n",
      "5     16.667625\n",
      "7     13.068831\n",
      "8     18.133903\n",
      "9      6.150950\n",
      "10    23.277243\n",
      "11    10.276959\n",
      "12     9.879752\n",
      "13     9.107655\n",
      "14     7.225196\n",
      "15    12.398418\n",
      "16    10.828122\n",
      "17    21.626559\n",
      "18     7.716025\n",
      "19    14.523200\n",
      "20    21.959670\n",
      "21    30.426525\n",
      "22     6.429437\n",
      "23     5.898636\n",
      "25     6.669180\n",
      "26     9.140934\n",
      "27    19.754837\n",
      "28    16.036541\n",
      "29    21.104315\n",
      "30    26.084539\n",
      "32    33.250883\n",
      "33    23.399760\n",
      "34    16.136197\n",
      "35    44.933500\n",
      "36    29.752000\n",
      "37    12.895742\n",
      "38     5.951069\n",
      "39    21.570029\n",
      "40    21.063816\n",
      "41    21.487452\n",
      "42    25.465402\n",
      "43    34.080874\n",
      "44    28.498857\n",
      "45    36.049817\n",
      "46    41.399660\n",
      "47    30.996943\n",
      "48    19.306069\n",
      "49    14.889300\n",
      "50    31.844047\n",
      "51    29.286038\n",
      "52    26.889018\n",
      "53    28.918373\n",
      "54    11.058523\n",
      "55    35.293104\n",
      "56    14.039398\n",
      "57     8.045396\n",
      "58    36.284473\n",
      "dtype: float64\n"
     ]
    }
   ],
   "source": [
    "print(f\"predicted response:\\n{y_pred}\")"
   ]
  },
  {
   "cell_type": "markdown",
   "metadata": {},
   "source": [
    "## Ridge Regression"
   ]
  },
  {
   "cell_type": "code",
   "execution_count": 60,
   "metadata": {},
   "outputs": [],
   "source": [
    "from sklearn.linear_model import Ridge"
   ]
  },
  {
   "cell_type": "code",
   "execution_count": 61,
   "metadata": {},
   "outputs": [],
   "source": [
    "clf = Ridge(alpha=1.0)"
   ]
  },
  {
   "cell_type": "code",
   "execution_count": 64,
   "metadata": {},
   "outputs": [
    {
     "data": {
      "text/plain": [
       "Ridge()"
      ]
     },
     "execution_count": 64,
     "metadata": {},
     "output_type": "execute_result"
    }
   ],
   "source": [
    "clf.fit(X, y)"
   ]
  },
  {
   "cell_type": "markdown",
   "metadata": {},
   "source": [
    "## Lasso Regression"
   ]
  },
  {
   "cell_type": "code",
   "execution_count": 65,
   "metadata": {},
   "outputs": [],
   "source": [
    "from sklearn import linear_model\n"
   ]
  },
  {
   "cell_type": "code",
   "execution_count": 66,
   "metadata": {},
   "outputs": [],
   "source": [
    "clf = linear_model.Lasso(alpha=0.1)"
   ]
  },
  {
   "cell_type": "code",
   "execution_count": 67,
   "metadata": {},
   "outputs": [
    {
     "data": {
      "text/plain": [
       "Lasso(alpha=0.1)"
      ]
     },
     "execution_count": 67,
     "metadata": {},
     "output_type": "execute_result"
    }
   ],
   "source": [
    "clf.fit(X, y)"
   ]
  },
  {
   "cell_type": "code",
   "execution_count": 68,
   "metadata": {},
   "outputs": [
    {
     "name": "stdout",
     "output_type": "stream",
     "text": [
      "[-29.57458681   0.          -0.           3.11498717  -1.25726675\n",
      "  -0.19238637  -0.20927395]\n"
     ]
    }
   ],
   "source": [
    "print(clf.coef_)"
   ]
  },
  {
   "cell_type": "code",
   "execution_count": 69,
   "metadata": {},
   "outputs": [
    {
     "name": "stdout",
     "output_type": "stream",
     "text": [
      "25.487633991061436\n"
     ]
    }
   ],
   "source": [
    "print(clf.intercept_)"
   ]
  },
  {
   "cell_type": "markdown",
   "metadata": {},
   "source": [
    "## Elastic Net"
   ]
  },
  {
   "cell_type": "code",
   "execution_count": 70,
   "metadata": {},
   "outputs": [],
   "source": [
    "from sklearn.linear_model import ElasticNet\n",
    "from sklearn.datasets import make_regression"
   ]
  },
  {
   "cell_type": "code",
   "execution_count": 71,
   "metadata": {},
   "outputs": [],
   "source": [
    "regr = ElasticNet(random_state=0)"
   ]
  },
  {
   "cell_type": "code",
   "execution_count": 72,
   "metadata": {},
   "outputs": [
    {
     "data": {
      "text/plain": [
       "ElasticNet(random_state=0)"
      ]
     },
     "execution_count": 72,
     "metadata": {},
     "output_type": "execute_result"
    }
   ],
   "source": [
    "regr.fit(X, y)"
   ]
  },
  {
   "cell_type": "code",
   "execution_count": 73,
   "metadata": {},
   "outputs": [
    {
     "name": "stdout",
     "output_type": "stream",
     "text": [
      "[-2.70616492 -0.4777937  -0.40603345 -0.         -0.60921743 -0.56780944\n",
      " -0.536448  ]\n"
     ]
    }
   ],
   "source": [
    "print(regr.coef_)"
   ]
  },
  {
   "cell_type": "code",
   "execution_count": 74,
   "metadata": {},
   "outputs": [
    {
     "name": "stdout",
     "output_type": "stream",
     "text": [
      "20.80977534847244\n"
     ]
    }
   ],
   "source": [
    "print(regr.intercept_)"
   ]
  },
  {
   "cell_type": "code",
   "execution_count": 76,
   "metadata": {},
   "outputs": [],
   "source": [
    "# print(regr.predict([[0, 0]]))"
   ]
  },
  {
   "cell_type": "markdown",
   "metadata": {},
   "source": [
    "### SGDRegressor"
   ]
  },
  {
   "cell_type": "code",
   "execution_count": 77,
   "metadata": {},
   "outputs": [],
   "source": [
    "from sklearn.linear_model import SGDRegressor\n",
    "from sklearn.pipeline import make_pipeline\n",
    "from sklearn.preprocessing import StandardScaler"
   ]
  },
  {
   "cell_type": "code",
   "execution_count": 78,
   "metadata": {},
   "outputs": [],
   "source": [
    "reg = make_pipeline(StandardScaler(), SGDRegressor(max_iter=1000, tol=1e-3))"
   ]
  },
  {
   "cell_type": "code",
   "execution_count": 79,
   "metadata": {},
   "outputs": [
    {
     "data": {
      "text/plain": [
       "Pipeline(steps=[('standardscaler', StandardScaler()),\n",
       "                ('sgdregressor', SGDRegressor())])"
      ]
     },
     "execution_count": 79,
     "metadata": {},
     "output_type": "execute_result"
    }
   ],
   "source": [
    "reg.fit(X, y)\n"
   ]
  },
  {
   "cell_type": "markdown",
   "metadata": {},
   "source": [
    "## RANSAC (RANdom SAmple Consensus) algorithm"
   ]
  },
  {
   "cell_type": "code",
   "execution_count": 80,
   "metadata": {},
   "outputs": [],
   "source": [
    "from sklearn.linear_model import RANSACRegressor\n",
    "from sklearn.datasets import make_regression"
   ]
  },
  {
   "cell_type": "code",
   "execution_count": 81,
   "metadata": {},
   "outputs": [],
   "source": [
    "reg = RANSACRegressor(random_state=0).fit(X, y)"
   ]
  },
  {
   "cell_type": "code",
   "execution_count": 82,
   "metadata": {},
   "outputs": [
    {
     "data": {
      "text/plain": [
       "0.4260572476271489"
      ]
     },
     "execution_count": 82,
     "metadata": {},
     "output_type": "execute_result"
    }
   ],
   "source": [
    "reg.score(X, y)"
   ]
  },
  {
   "cell_type": "code",
   "execution_count": 84,
   "metadata": {},
   "outputs": [],
   "source": [
    "# reg.predict(X[:1,])"
   ]
  },
  {
   "cell_type": "markdown",
   "metadata": {},
   "source": [
    "## TheilSenRegressor"
   ]
  },
  {
   "cell_type": "code",
   "execution_count": 85,
   "metadata": {},
   "outputs": [],
   "source": [
    "from sklearn.linear_model import TheilSenRegressor\n",
    "from sklearn.datasets import make_regression"
   ]
  },
  {
   "cell_type": "code",
   "execution_count": 86,
   "metadata": {},
   "outputs": [],
   "source": [
    "reg = TheilSenRegressor(random_state=0).fit(X, y)"
   ]
  },
  {
   "cell_type": "code",
   "execution_count": 87,
   "metadata": {},
   "outputs": [
    {
     "data": {
      "text/plain": [
       "0.474016958077341"
      ]
     },
     "execution_count": 87,
     "metadata": {},
     "output_type": "execute_result"
    }
   ],
   "source": [
    "reg.score(X, y)"
   ]
  },
  {
   "cell_type": "code",
   "execution_count": 88,
   "metadata": {},
   "outputs": [],
   "source": [
    "# reg.predict(X[:1,])"
   ]
  },
  {
   "cell_type": "markdown",
   "metadata": {},
   "source": [
    "## ElasticNetCV"
   ]
  },
  {
   "cell_type": "code",
   "execution_count": 89,
   "metadata": {},
   "outputs": [],
   "source": [
    "from sklearn.linear_model import ElasticNetCV\n",
    "from sklearn.datasets import make_regression"
   ]
  },
  {
   "cell_type": "code",
   "execution_count": 90,
   "metadata": {},
   "outputs": [],
   "source": [
    "regr = ElasticNetCV(cv=5, random_state=0)"
   ]
  },
  {
   "cell_type": "code",
   "execution_count": 91,
   "metadata": {},
   "outputs": [
    {
     "data": {
      "text/plain": [
       "ElasticNetCV(cv=5, random_state=0)"
      ]
     },
     "execution_count": 91,
     "metadata": {},
     "output_type": "execute_result"
    }
   ],
   "source": [
    "regr.fit(X, y)"
   ]
  },
  {
   "cell_type": "code",
   "execution_count": 92,
   "metadata": {},
   "outputs": [
    {
     "name": "stdout",
     "output_type": "stream",
     "text": [
      "0.03936944697992264\n"
     ]
    }
   ],
   "source": [
    "print(regr.alpha_)"
   ]
  },
  {
   "cell_type": "code",
   "execution_count": 93,
   "metadata": {},
   "outputs": [
    {
     "name": "stdout",
     "output_type": "stream",
     "text": [
      "24.89124566310155\n"
     ]
    }
   ],
   "source": [
    "print(regr.intercept_)"
   ]
  },
  {
   "cell_type": "code",
   "execution_count": 95,
   "metadata": {},
   "outputs": [],
   "source": [
    "# print(regr.predict([[0, 0]]))"
   ]
  },
  {
   "cell_type": "code",
   "execution_count": 112,
   "metadata": {},
   "outputs": [
    {
     "data": {
      "text/html": [
       "<div>\n",
       "<style scoped>\n",
       "    .dataframe tbody tr th:only-of-type {\n",
       "        vertical-align: middle;\n",
       "    }\n",
       "\n",
       "    .dataframe tbody tr th {\n",
       "        vertical-align: top;\n",
       "    }\n",
       "\n",
       "    .dataframe thead th {\n",
       "        text-align: right;\n",
       "    }\n",
       "</style>\n",
       "<table border=\"1\" class=\"dataframe\">\n",
       "  <thead>\n",
       "    <tr style=\"text-align: right;\">\n",
       "      <th></th>\n",
       "      <th>Country</th>\n",
       "      <th>Year</th>\n",
       "      <th>goals_z</th>\n",
       "      <th>xg_z</th>\n",
       "      <th>boxtouches_z</th>\n",
       "      <th>progpasses_z</th>\n",
       "      <th>progruns_z</th>\n",
       "      <th>new_xg</th>\n",
       "      <th>Fouled</th>\n",
       "      <th>results</th>\n",
       "    </tr>\n",
       "  </thead>\n",
       "  <tbody>\n",
       "    <tr>\n",
       "      <th>0</th>\n",
       "      <td>Germany</td>\n",
       "      <td>2010</td>\n",
       "      <td>0.816923</td>\n",
       "      <td>0.513077</td>\n",
       "      <td>0.458462</td>\n",
       "      <td>-0.367692</td>\n",
       "      <td>0.142308</td>\n",
       "      <td>1.030100</td>\n",
       "      <td>0.160000</td>\n",
       "      <td>3</td>\n",
       "    </tr>\n",
       "    <tr>\n",
       "      <th>1</th>\n",
       "      <td>Germany</td>\n",
       "      <td>2014</td>\n",
       "      <td>0.755385</td>\n",
       "      <td>0.719231</td>\n",
       "      <td>0.601538</td>\n",
       "      <td>0.316154</td>\n",
       "      <td>0.198462</td>\n",
       "      <td>1.650710</td>\n",
       "      <td>0.163846</td>\n",
       "      <td>1</td>\n",
       "    </tr>\n",
       "    <tr>\n",
       "      <th>2</th>\n",
       "      <td>Germany</td>\n",
       "      <td>2018</td>\n",
       "      <td>-0.066154</td>\n",
       "      <td>0.615385</td>\n",
       "      <td>1.570000</td>\n",
       "      <td>0.565385</td>\n",
       "      <td>0.930769</td>\n",
       "      <td>-30.732480</td>\n",
       "      <td>0.520000</td>\n",
       "      <td>32</td>\n",
       "    </tr>\n",
       "    <tr>\n",
       "      <th>3</th>\n",
       "      <td>Switzerland</td>\n",
       "      <td>2010</td>\n",
       "      <td>-0.222308</td>\n",
       "      <td>0.122308</td>\n",
       "      <td>0.128462</td>\n",
       "      <td>0.071538</td>\n",
       "      <td>-0.068462</td>\n",
       "      <td>-1.761200</td>\n",
       "      <td>-0.386900</td>\n",
       "      <td>32</td>\n",
       "    </tr>\n",
       "    <tr>\n",
       "      <th>4</th>\n",
       "      <td>Switzerland</td>\n",
       "      <td>2014</td>\n",
       "      <td>0.387692</td>\n",
       "      <td>0.550769</td>\n",
       "      <td>0.138462</td>\n",
       "      <td>0.213077</td>\n",
       "      <td>0.050769</td>\n",
       "      <td>1.954300</td>\n",
       "      <td>0.059230</td>\n",
       "      <td>16</td>\n",
       "    </tr>\n",
       "    <tr>\n",
       "      <th>5</th>\n",
       "      <td>Switzerland</td>\n",
       "      <td>2018</td>\n",
       "      <td>0.241538</td>\n",
       "      <td>0.330769</td>\n",
       "      <td>0.181538</td>\n",
       "      <td>0.113077</td>\n",
       "      <td>0.286923</td>\n",
       "      <td>2.143300</td>\n",
       "      <td>0.156100</td>\n",
       "      <td>16</td>\n",
       "    </tr>\n",
       "    <tr>\n",
       "      <th>6</th>\n",
       "      <td>Spain</td>\n",
       "      <td>2010</td>\n",
       "      <td>0.180000</td>\n",
       "      <td>0.539231</td>\n",
       "      <td>0.868462</td>\n",
       "      <td>0.320000</td>\n",
       "      <td>1.432308</td>\n",
       "      <td>7.230700</td>\n",
       "      <td>0.603070</td>\n",
       "      <td>1</td>\n",
       "    </tr>\n",
       "    <tr>\n",
       "      <th>7</th>\n",
       "      <td>Spain</td>\n",
       "      <td>2014</td>\n",
       "      <td>0.243846</td>\n",
       "      <td>0.536154</td>\n",
       "      <td>0.596923</td>\n",
       "      <td>-0.052308</td>\n",
       "      <td>0.489231</td>\n",
       "      <td>3.889500</td>\n",
       "      <td>0.724615</td>\n",
       "      <td>32</td>\n",
       "    </tr>\n",
       "    <tr>\n",
       "      <th>8</th>\n",
       "      <td>Spain</td>\n",
       "      <td>2018</td>\n",
       "      <td>0.190769</td>\n",
       "      <td>0.680769</td>\n",
       "      <td>0.763077</td>\n",
       "      <td>0.267692</td>\n",
       "      <td>0.981538</td>\n",
       "      <td>7.375000</td>\n",
       "      <td>0.605385</td>\n",
       "      <td>16</td>\n",
       "    </tr>\n",
       "    <tr>\n",
       "      <th>9</th>\n",
       "      <td>Portugal</td>\n",
       "      <td>2010</td>\n",
       "      <td>0.531538</td>\n",
       "      <td>0.284615</td>\n",
       "      <td>0.100769</td>\n",
       "      <td>-0.300000</td>\n",
       "      <td>0.180769</td>\n",
       "      <td>0.635310</td>\n",
       "      <td>-0.266100</td>\n",
       "      <td>16</td>\n",
       "    </tr>\n",
       "    <tr>\n",
       "      <th>10</th>\n",
       "      <td>Portugal</td>\n",
       "      <td>2014</td>\n",
       "      <td>0.075385</td>\n",
       "      <td>0.529231</td>\n",
       "      <td>0.245385</td>\n",
       "      <td>0.480769</td>\n",
       "      <td>0.350769</td>\n",
       "      <td>11.020340</td>\n",
       "      <td>-0.149231</td>\n",
       "      <td>32</td>\n",
       "    </tr>\n",
       "    <tr>\n",
       "      <th>11</th>\n",
       "      <td>Portugal</td>\n",
       "      <td>2018</td>\n",
       "      <td>0.373846</td>\n",
       "      <td>0.166154</td>\n",
       "      <td>0.044615</td>\n",
       "      <td>-0.044615</td>\n",
       "      <td>0.212308</td>\n",
       "      <td>0.123457</td>\n",
       "      <td>0.202308</td>\n",
       "      <td>16</td>\n",
       "    </tr>\n",
       "    <tr>\n",
       "      <th>12</th>\n",
       "      <td>Netherlands</td>\n",
       "      <td>2010</td>\n",
       "      <td>0.396923</td>\n",
       "      <td>0.126923</td>\n",
       "      <td>0.162308</td>\n",
       "      <td>0.073077</td>\n",
       "      <td>0.135385</td>\n",
       "      <td>0.641470</td>\n",
       "      <td>0.070700</td>\n",
       "      <td>2</td>\n",
       "    </tr>\n",
       "    <tr>\n",
       "      <th>13</th>\n",
       "      <td>Netherlands</td>\n",
       "      <td>2014</td>\n",
       "      <td>0.493846</td>\n",
       "      <td>0.406923</td>\n",
       "      <td>0.096923</td>\n",
       "      <td>-0.169231</td>\n",
       "      <td>0.098462</td>\n",
       "      <td>1.034268</td>\n",
       "      <td>-0.309231</td>\n",
       "      <td>3</td>\n",
       "    </tr>\n",
       "    <tr>\n",
       "      <th>14</th>\n",
       "      <td>Brazil</td>\n",
       "      <td>2010</td>\n",
       "      <td>0.557692</td>\n",
       "      <td>0.186923</td>\n",
       "      <td>0.398462</td>\n",
       "      <td>0.247692</td>\n",
       "      <td>0.937692</td>\n",
       "      <td>1.295170</td>\n",
       "      <td>0.083070</td>\n",
       "      <td>8</td>\n",
       "    </tr>\n",
       "    <tr>\n",
       "      <th>15</th>\n",
       "      <td>Brazil</td>\n",
       "      <td>2014</td>\n",
       "      <td>0.328462</td>\n",
       "      <td>0.376154</td>\n",
       "      <td>0.475385</td>\n",
       "      <td>-0.193077</td>\n",
       "      <td>0.408462</td>\n",
       "      <td>2.032780</td>\n",
       "      <td>0.107691</td>\n",
       "      <td>4</td>\n",
       "    </tr>\n",
       "    <tr>\n",
       "      <th>16</th>\n",
       "      <td>Brazil</td>\n",
       "      <td>2018</td>\n",
       "      <td>0.427692</td>\n",
       "      <td>0.864615</td>\n",
       "      <td>1.153077</td>\n",
       "      <td>-0.015385</td>\n",
       "      <td>1.092308</td>\n",
       "      <td>4.424460</td>\n",
       "      <td>0.606154</td>\n",
       "      <td>8</td>\n",
       "    </tr>\n",
       "    <tr>\n",
       "      <th>17</th>\n",
       "      <td>Belgium</td>\n",
       "      <td>2014</td>\n",
       "      <td>0.137692</td>\n",
       "      <td>0.210000</td>\n",
       "      <td>0.536154</td>\n",
       "      <td>-0.097692</td>\n",
       "      <td>0.853846</td>\n",
       "      <td>4.960900</td>\n",
       "      <td>-0.453077</td>\n",
       "      <td>8</td>\n",
       "    </tr>\n",
       "    <tr>\n",
       "      <th>18</th>\n",
       "      <td>Belgium</td>\n",
       "      <td>2018</td>\n",
       "      <td>0.566154</td>\n",
       "      <td>0.560769</td>\n",
       "      <td>0.446923</td>\n",
       "      <td>-0.037692</td>\n",
       "      <td>0.542308</td>\n",
       "      <td>1.976902</td>\n",
       "      <td>-0.106154</td>\n",
       "      <td>3</td>\n",
       "    </tr>\n",
       "    <tr>\n",
       "      <th>19</th>\n",
       "      <td>USA</td>\n",
       "      <td>2010</td>\n",
       "      <td>0.214615</td>\n",
       "      <td>0.523077</td>\n",
       "      <td>0.277692</td>\n",
       "      <td>-0.245385</td>\n",
       "      <td>-0.178462</td>\n",
       "      <td>3.017920</td>\n",
       "      <td>0.241500</td>\n",
       "      <td>16</td>\n",
       "    </tr>\n",
       "    <tr>\n",
       "      <th>20</th>\n",
       "      <td>USA</td>\n",
       "      <td>2014</td>\n",
       "      <td>0.036923</td>\n",
       "      <td>0.092308</td>\n",
       "      <td>-0.040000</td>\n",
       "      <td>-0.003846</td>\n",
       "      <td>0.168462</td>\n",
       "      <td>1.854183</td>\n",
       "      <td>0.110769</td>\n",
       "      <td>16</td>\n",
       "    </tr>\n",
       "    <tr>\n",
       "      <th>21</th>\n",
       "      <td>England</td>\n",
       "      <td>2014</td>\n",
       "      <td>-0.093077</td>\n",
       "      <td>0.301538</td>\n",
       "      <td>0.026154</td>\n",
       "      <td>-0.100769</td>\n",
       "      <td>0.210769</td>\n",
       "      <td>-5.074369</td>\n",
       "      <td>0.417692</td>\n",
       "      <td>32</td>\n",
       "    </tr>\n",
       "    <tr>\n",
       "      <th>22</th>\n",
       "      <td>England</td>\n",
       "      <td>2018</td>\n",
       "      <td>0.446923</td>\n",
       "      <td>0.404615</td>\n",
       "      <td>0.366923</td>\n",
       "      <td>-0.184615</td>\n",
       "      <td>0.086154</td>\n",
       "      <td>1.531841</td>\n",
       "      <td>0.313077</td>\n",
       "      <td>4</td>\n",
       "    </tr>\n",
       "    <tr>\n",
       "      <th>23</th>\n",
       "      <td>Argentina</td>\n",
       "      <td>2010</td>\n",
       "      <td>0.450769</td>\n",
       "      <td>0.496154</td>\n",
       "      <td>0.553846</td>\n",
       "      <td>0.065385</td>\n",
       "      <td>0.020000</td>\n",
       "      <td>2.184302</td>\n",
       "      <td>0.620000</td>\n",
       "      <td>8</td>\n",
       "    </tr>\n",
       "    <tr>\n",
       "      <th>24</th>\n",
       "      <td>Argentina</td>\n",
       "      <td>2014</td>\n",
       "      <td>0.011538</td>\n",
       "      <td>0.152308</td>\n",
       "      <td>0.289231</td>\n",
       "      <td>-0.141538</td>\n",
       "      <td>0.170769</td>\n",
       "      <td>27.801178</td>\n",
       "      <td>0.432308</td>\n",
       "      <td>2</td>\n",
       "    </tr>\n",
       "    <tr>\n",
       "      <th>25</th>\n",
       "      <td>Argentina</td>\n",
       "      <td>2018</td>\n",
       "      <td>0.373846</td>\n",
       "      <td>0.110000</td>\n",
       "      <td>0.300769</td>\n",
       "      <td>-0.213846</td>\n",
       "      <td>0.743077</td>\n",
       "      <td>1.141975</td>\n",
       "      <td>0.696923</td>\n",
       "      <td>16</td>\n",
       "    </tr>\n",
       "    <tr>\n",
       "      <th>26</th>\n",
       "      <td>Uruguay</td>\n",
       "      <td>2010</td>\n",
       "      <td>0.396923</td>\n",
       "      <td>0.130769</td>\n",
       "      <td>0.050000</td>\n",
       "      <td>-0.225385</td>\n",
       "      <td>-0.033846</td>\n",
       "      <td>-0.093020</td>\n",
       "      <td>-0.093000</td>\n",
       "      <td>4</td>\n",
       "    </tr>\n",
       "    <tr>\n",
       "      <th>27</th>\n",
       "      <td>Uruguay</td>\n",
       "      <td>2014</td>\n",
       "      <td>0.074615</td>\n",
       "      <td>0.129231</td>\n",
       "      <td>0.226923</td>\n",
       "      <td>-0.154615</td>\n",
       "      <td>-0.273077</td>\n",
       "      <td>2.484554</td>\n",
       "      <td>-0.204616</td>\n",
       "      <td>16</td>\n",
       "    </tr>\n",
       "    <tr>\n",
       "      <th>28</th>\n",
       "      <td>Uruguay</td>\n",
       "      <td>2018</td>\n",
       "      <td>0.215385</td>\n",
       "      <td>0.316154</td>\n",
       "      <td>0.174615</td>\n",
       "      <td>-0.002308</td>\n",
       "      <td>-0.018462</td>\n",
       "      <td>2.232138</td>\n",
       "      <td>0.120000</td>\n",
       "      <td>8</td>\n",
       "    </tr>\n",
       "    <tr>\n",
       "      <th>29</th>\n",
       "      <td>Senegal</td>\n",
       "      <td>2018</td>\n",
       "      <td>0.110769</td>\n",
       "      <td>-0.074615</td>\n",
       "      <td>0.087692</td>\n",
       "      <td>-0.150769</td>\n",
       "      <td>0.121538</td>\n",
       "      <td>-0.027778</td>\n",
       "      <td>-0.447693</td>\n",
       "      <td>32</td>\n",
       "    </tr>\n",
       "    <tr>\n",
       "      <th>30</th>\n",
       "      <td>Ecuador</td>\n",
       "      <td>2014</td>\n",
       "      <td>0.075385</td>\n",
       "      <td>0.130000</td>\n",
       "      <td>-0.066923</td>\n",
       "      <td>0.006154</td>\n",
       "      <td>0.193077</td>\n",
       "      <td>-0.183670</td>\n",
       "      <td>-0.538461</td>\n",
       "      <td>32</td>\n",
       "    </tr>\n",
       "    <tr>\n",
       "      <th>31</th>\n",
       "      <td>Costa Rica</td>\n",
       "      <td>2014</td>\n",
       "      <td>0.016154</td>\n",
       "      <td>-0.177692</td>\n",
       "      <td>-0.148462</td>\n",
       "      <td>-0.272308</td>\n",
       "      <td>-0.432308</td>\n",
       "      <td>-27.618794</td>\n",
       "      <td>-0.270769</td>\n",
       "      <td>8</td>\n",
       "    </tr>\n",
       "    <tr>\n",
       "      <th>32</th>\n",
       "      <td>Costa Rica</td>\n",
       "      <td>2018</td>\n",
       "      <td>-0.243077</td>\n",
       "      <td>-0.021538</td>\n",
       "      <td>-0.117692</td>\n",
       "      <td>-0.030000</td>\n",
       "      <td>-0.349231</td>\n",
       "      <td>0.436705</td>\n",
       "      <td>-0.330769</td>\n",
       "      <td>32</td>\n",
       "    </tr>\n",
       "    <tr>\n",
       "      <th>33</th>\n",
       "      <td>Mexico</td>\n",
       "      <td>2010</td>\n",
       "      <td>0.132308</td>\n",
       "      <td>0.251538</td>\n",
       "      <td>0.199231</td>\n",
       "      <td>0.200000</td>\n",
       "      <td>0.863846</td>\n",
       "      <td>4.313900</td>\n",
       "      <td>-0.229230</td>\n",
       "      <td>16</td>\n",
       "    </tr>\n",
       "    <tr>\n",
       "      <th>34</th>\n",
       "      <td>Mexico</td>\n",
       "      <td>2014</td>\n",
       "      <td>0.200769</td>\n",
       "      <td>-0.043846</td>\n",
       "      <td>0.064615</td>\n",
       "      <td>0.174615</td>\n",
       "      <td>-0.090000</td>\n",
       "      <td>0.203064</td>\n",
       "      <td>0.057693</td>\n",
       "      <td>16</td>\n",
       "    </tr>\n",
       "    <tr>\n",
       "      <th>35</th>\n",
       "      <td>Mexico</td>\n",
       "      <td>2018</td>\n",
       "      <td>-0.023077</td>\n",
       "      <td>0.194615</td>\n",
       "      <td>0.341538</td>\n",
       "      <td>0.556154</td>\n",
       "      <td>0.982308</td>\n",
       "      <td>-19.699910</td>\n",
       "      <td>-0.112308</td>\n",
       "      <td>16</td>\n",
       "    </tr>\n",
       "    <tr>\n",
       "      <th>36</th>\n",
       "      <td>France</td>\n",
       "      <td>2010</td>\n",
       "      <td>-0.222308</td>\n",
       "      <td>-0.019231</td>\n",
       "      <td>0.155385</td>\n",
       "      <td>-0.379231</td>\n",
       "      <td>0.069231</td>\n",
       "      <td>0.128029</td>\n",
       "      <td>-0.011530</td>\n",
       "      <td>32</td>\n",
       "    </tr>\n",
       "    <tr>\n",
       "      <th>37</th>\n",
       "      <td>France</td>\n",
       "      <td>2014</td>\n",
       "      <td>0.376923</td>\n",
       "      <td>0.747692</td>\n",
       "      <td>1.026154</td>\n",
       "      <td>0.130769</td>\n",
       "      <td>0.010769</td>\n",
       "      <td>4.153060</td>\n",
       "      <td>0.030770</td>\n",
       "      <td>8</td>\n",
       "    </tr>\n",
       "    <tr>\n",
       "      <th>38</th>\n",
       "      <td>France</td>\n",
       "      <td>2018</td>\n",
       "      <td>0.489231</td>\n",
       "      <td>0.231538</td>\n",
       "      <td>0.189231</td>\n",
       "      <td>-0.039231</td>\n",
       "      <td>0.080769</td>\n",
       "      <td>0.737421</td>\n",
       "      <td>0.140769</td>\n",
       "      <td>1</td>\n",
       "    </tr>\n",
       "    <tr>\n",
       "      <th>39</th>\n",
       "      <td>Denmark</td>\n",
       "      <td>2010</td>\n",
       "      <td>0.133077</td>\n",
       "      <td>0.533846</td>\n",
       "      <td>0.444615</td>\n",
       "      <td>-0.306154</td>\n",
       "      <td>0.104615</td>\n",
       "      <td>3.080923</td>\n",
       "      <td>-0.363076</td>\n",
       "      <td>32</td>\n",
       "    </tr>\n",
       "    <tr>\n",
       "      <th>40</th>\n",
       "      <td>Denmark</td>\n",
       "      <td>2018</td>\n",
       "      <td>-0.053077</td>\n",
       "      <td>-0.192308</td>\n",
       "      <td>0.065385</td>\n",
       "      <td>-0.263846</td>\n",
       "      <td>-0.393077</td>\n",
       "      <td>3.985512</td>\n",
       "      <td>-0.366923</td>\n",
       "      <td>16</td>\n",
       "    </tr>\n",
       "    <tr>\n",
       "      <th>41</th>\n",
       "      <td>Australia</td>\n",
       "      <td>2010</td>\n",
       "      <td>0.132308</td>\n",
       "      <td>0.247692</td>\n",
       "      <td>0.487692</td>\n",
       "      <td>0.114615</td>\n",
       "      <td>-0.256154</td>\n",
       "      <td>3.290680</td>\n",
       "      <td>-0.546923</td>\n",
       "      <td>32</td>\n",
       "    </tr>\n",
       "    <tr>\n",
       "      <th>42</th>\n",
       "      <td>Australia</td>\n",
       "      <td>2014</td>\n",
       "      <td>0.075385</td>\n",
       "      <td>0.094615</td>\n",
       "      <td>-0.041538</td>\n",
       "      <td>0.036154</td>\n",
       "      <td>0.089231</td>\n",
       "      <td>-0.244903</td>\n",
       "      <td>-0.507692</td>\n",
       "      <td>32</td>\n",
       "    </tr>\n",
       "    <tr>\n",
       "      <th>43</th>\n",
       "      <td>Australia</td>\n",
       "      <td>2018</td>\n",
       "      <td>-0.066923</td>\n",
       "      <td>0.165385</td>\n",
       "      <td>0.188462</td>\n",
       "      <td>0.346923</td>\n",
       "      <td>0.105385</td>\n",
       "      <td>-4.551738</td>\n",
       "      <td>-0.246154</td>\n",
       "      <td>32</td>\n",
       "    </tr>\n",
       "    <tr>\n",
       "      <th>44</th>\n",
       "      <td>Serbia</td>\n",
       "      <td>2010</td>\n",
       "      <td>-0.044615</td>\n",
       "      <td>0.218462</td>\n",
       "      <td>0.270769</td>\n",
       "      <td>-0.226923</td>\n",
       "      <td>0.533077</td>\n",
       "      <td>-10.413890</td>\n",
       "      <td>0.868462</td>\n",
       "      <td>32</td>\n",
       "    </tr>\n",
       "    <tr>\n",
       "      <th>45</th>\n",
       "      <td>Serbia</td>\n",
       "      <td>2018</td>\n",
       "      <td>-0.066154</td>\n",
       "      <td>0.076154</td>\n",
       "      <td>0.673846</td>\n",
       "      <td>0.183077</td>\n",
       "      <td>0.358462</td>\n",
       "      <td>-10.220908</td>\n",
       "      <td>-0.245385</td>\n",
       "      <td>32</td>\n",
       "    </tr>\n",
       "    <tr>\n",
       "      <th>46</th>\n",
       "      <td>Cameroon</td>\n",
       "      <td>2010</td>\n",
       "      <td>-0.045385</td>\n",
       "      <td>0.442308</td>\n",
       "      <td>0.630769</td>\n",
       "      <td>-0.158462</td>\n",
       "      <td>-0.239231</td>\n",
       "      <td>-20.271014</td>\n",
       "      <td>-0.393840</td>\n",
       "      <td>32</td>\n",
       "    </tr>\n",
       "    <tr>\n",
       "      <th>47</th>\n",
       "      <td>Cameroon</td>\n",
       "      <td>2014</td>\n",
       "      <td>-0.261538</td>\n",
       "      <td>-0.067692</td>\n",
       "      <td>0.203077</td>\n",
       "      <td>-0.293846</td>\n",
       "      <td>-0.086923</td>\n",
       "      <td>0.620587</td>\n",
       "      <td>-0.099231</td>\n",
       "      <td>32</td>\n",
       "    </tr>\n",
       "    <tr>\n",
       "      <th>48</th>\n",
       "      <td>Ghana</td>\n",
       "      <td>2010</td>\n",
       "      <td>0.069231</td>\n",
       "      <td>0.626923</td>\n",
       "      <td>0.263846</td>\n",
       "      <td>-0.320000</td>\n",
       "      <td>0.018462</td>\n",
       "      <td>12.011060</td>\n",
       "      <td>-0.387692</td>\n",
       "      <td>8</td>\n",
       "    </tr>\n",
       "    <tr>\n",
       "      <th>49</th>\n",
       "      <td>Ghana</td>\n",
       "      <td>2014</td>\n",
       "      <td>0.243846</td>\n",
       "      <td>0.314615</td>\n",
       "      <td>0.557692</td>\n",
       "      <td>0.030769</td>\n",
       "      <td>0.507692</td>\n",
       "      <td>3.047320</td>\n",
       "      <td>0.293846</td>\n",
       "      <td>32</td>\n",
       "    </tr>\n",
       "    <tr>\n",
       "      <th>50</th>\n",
       "      <td>Iran</td>\n",
       "      <td>2014</td>\n",
       "      <td>-0.261538</td>\n",
       "      <td>-0.197692</td>\n",
       "      <td>-0.108462</td>\n",
       "      <td>-0.082308</td>\n",
       "      <td>-0.276923</td>\n",
       "      <td>0.841178</td>\n",
       "      <td>-0.279999</td>\n",
       "      <td>32</td>\n",
       "    </tr>\n",
       "    <tr>\n",
       "      <th>51</th>\n",
       "      <td>Iran</td>\n",
       "      <td>2018</td>\n",
       "      <td>-0.243077</td>\n",
       "      <td>0.063846</td>\n",
       "      <td>-0.287692</td>\n",
       "      <td>-0.441538</td>\n",
       "      <td>-0.383077</td>\n",
       "      <td>0.996836</td>\n",
       "      <td>0.001538</td>\n",
       "      <td>32</td>\n",
       "    </tr>\n",
       "    <tr>\n",
       "      <th>52</th>\n",
       "      <td>Poland</td>\n",
       "      <td>2018</td>\n",
       "      <td>-0.066154</td>\n",
       "      <td>0.173077</td>\n",
       "      <td>0.234615</td>\n",
       "      <td>-0.076154</td>\n",
       "      <td>-0.315385</td>\n",
       "      <td>-3.988360</td>\n",
       "      <td>0.257692</td>\n",
       "      <td>32</td>\n",
       "    </tr>\n",
       "    <tr>\n",
       "      <th>53</th>\n",
       "      <td>Saudi Arabia</td>\n",
       "      <td>2018</td>\n",
       "      <td>-0.066154</td>\n",
       "      <td>0.226154</td>\n",
       "      <td>-0.128462</td>\n",
       "      <td>0.070769</td>\n",
       "      <td>0.425385</td>\n",
       "      <td>-2.709300</td>\n",
       "      <td>0.470000</td>\n",
       "      <td>32</td>\n",
       "    </tr>\n",
       "    <tr>\n",
       "      <th>54</th>\n",
       "      <td>Tunisia</td>\n",
       "      <td>2018</td>\n",
       "      <td>0.463846</td>\n",
       "      <td>0.343077</td>\n",
       "      <td>-0.026154</td>\n",
       "      <td>0.200769</td>\n",
       "      <td>0.123077</td>\n",
       "      <td>1.084578</td>\n",
       "      <td>-0.137692</td>\n",
       "      <td>32</td>\n",
       "    </tr>\n",
       "    <tr>\n",
       "      <th>55</th>\n",
       "      <td>Japan</td>\n",
       "      <td>2014</td>\n",
       "      <td>-0.093077</td>\n",
       "      <td>0.253846</td>\n",
       "      <td>0.639231</td>\n",
       "      <td>0.151538</td>\n",
       "      <td>0.280000</td>\n",
       "      <td>-9.652879</td>\n",
       "      <td>0.175385</td>\n",
       "      <td>32</td>\n",
       "    </tr>\n",
       "    <tr>\n",
       "      <th>56</th>\n",
       "      <td>Croatia</td>\n",
       "      <td>2014</td>\n",
       "      <td>0.412308</td>\n",
       "      <td>0.366923</td>\n",
       "      <td>0.516154</td>\n",
       "      <td>0.140000</td>\n",
       "      <td>0.035385</td>\n",
       "      <td>1.457087</td>\n",
       "      <td>-0.526923</td>\n",
       "      <td>32</td>\n",
       "    </tr>\n",
       "    <tr>\n",
       "      <th>57</th>\n",
       "      <td>Croatia</td>\n",
       "      <td>2018</td>\n",
       "      <td>0.520000</td>\n",
       "      <td>0.379231</td>\n",
       "      <td>0.375385</td>\n",
       "      <td>0.074615</td>\n",
       "      <td>0.265385</td>\n",
       "      <td>1.110948</td>\n",
       "      <td>-0.059231</td>\n",
       "      <td>2</td>\n",
       "    </tr>\n",
       "    <tr>\n",
       "      <th>58</th>\n",
       "      <td>Morocco</td>\n",
       "      <td>2018</td>\n",
       "      <td>-0.243077</td>\n",
       "      <td>0.000769</td>\n",
       "      <td>0.120769</td>\n",
       "      <td>-0.327692</td>\n",
       "      <td>0.037692</td>\n",
       "      <td>0.006331</td>\n",
       "      <td>-0.900769</td>\n",
       "      <td>32</td>\n",
       "    </tr>\n",
       "  </tbody>\n",
       "</table>\n",
       "</div>"
      ],
      "text/plain": [
       "         Country  Year   goals_z      xg_z  boxtouches_z  progpasses_z  \\\n",
       "0        Germany  2010  0.816923  0.513077      0.458462     -0.367692   \n",
       "1        Germany  2014  0.755385  0.719231      0.601538      0.316154   \n",
       "2        Germany  2018 -0.066154  0.615385      1.570000      0.565385   \n",
       "3    Switzerland  2010 -0.222308  0.122308      0.128462      0.071538   \n",
       "4    Switzerland  2014  0.387692  0.550769      0.138462      0.213077   \n",
       "5    Switzerland  2018  0.241538  0.330769      0.181538      0.113077   \n",
       "6          Spain  2010  0.180000  0.539231      0.868462      0.320000   \n",
       "7          Spain  2014  0.243846  0.536154      0.596923     -0.052308   \n",
       "8          Spain  2018  0.190769  0.680769      0.763077      0.267692   \n",
       "9       Portugal  2010  0.531538  0.284615      0.100769     -0.300000   \n",
       "10      Portugal  2014  0.075385  0.529231      0.245385      0.480769   \n",
       "11      Portugal  2018  0.373846  0.166154      0.044615     -0.044615   \n",
       "12   Netherlands  2010  0.396923  0.126923      0.162308      0.073077   \n",
       "13   Netherlands  2014  0.493846  0.406923      0.096923     -0.169231   \n",
       "14        Brazil  2010  0.557692  0.186923      0.398462      0.247692   \n",
       "15        Brazil  2014  0.328462  0.376154      0.475385     -0.193077   \n",
       "16        Brazil  2018  0.427692  0.864615      1.153077     -0.015385   \n",
       "17       Belgium  2014  0.137692  0.210000      0.536154     -0.097692   \n",
       "18       Belgium  2018  0.566154  0.560769      0.446923     -0.037692   \n",
       "19           USA  2010  0.214615  0.523077      0.277692     -0.245385   \n",
       "20           USA  2014  0.036923  0.092308     -0.040000     -0.003846   \n",
       "21       England  2014 -0.093077  0.301538      0.026154     -0.100769   \n",
       "22       England  2018  0.446923  0.404615      0.366923     -0.184615   \n",
       "23     Argentina  2010  0.450769  0.496154      0.553846      0.065385   \n",
       "24     Argentina  2014  0.011538  0.152308      0.289231     -0.141538   \n",
       "25     Argentina  2018  0.373846  0.110000      0.300769     -0.213846   \n",
       "26       Uruguay  2010  0.396923  0.130769      0.050000     -0.225385   \n",
       "27       Uruguay  2014  0.074615  0.129231      0.226923     -0.154615   \n",
       "28       Uruguay  2018  0.215385  0.316154      0.174615     -0.002308   \n",
       "29       Senegal  2018  0.110769 -0.074615      0.087692     -0.150769   \n",
       "30       Ecuador  2014  0.075385  0.130000     -0.066923      0.006154   \n",
       "31    Costa Rica  2014  0.016154 -0.177692     -0.148462     -0.272308   \n",
       "32    Costa Rica  2018 -0.243077 -0.021538     -0.117692     -0.030000   \n",
       "33        Mexico  2010  0.132308  0.251538      0.199231      0.200000   \n",
       "34        Mexico  2014  0.200769 -0.043846      0.064615      0.174615   \n",
       "35        Mexico  2018 -0.023077  0.194615      0.341538      0.556154   \n",
       "36        France  2010 -0.222308 -0.019231      0.155385     -0.379231   \n",
       "37        France  2014  0.376923  0.747692      1.026154      0.130769   \n",
       "38        France  2018  0.489231  0.231538      0.189231     -0.039231   \n",
       "39       Denmark  2010  0.133077  0.533846      0.444615     -0.306154   \n",
       "40       Denmark  2018 -0.053077 -0.192308      0.065385     -0.263846   \n",
       "41     Australia  2010  0.132308  0.247692      0.487692      0.114615   \n",
       "42     Australia  2014  0.075385  0.094615     -0.041538      0.036154   \n",
       "43     Australia  2018 -0.066923  0.165385      0.188462      0.346923   \n",
       "44        Serbia  2010 -0.044615  0.218462      0.270769     -0.226923   \n",
       "45        Serbia  2018 -0.066154  0.076154      0.673846      0.183077   \n",
       "46      Cameroon  2010 -0.045385  0.442308      0.630769     -0.158462   \n",
       "47      Cameroon  2014 -0.261538 -0.067692      0.203077     -0.293846   \n",
       "48         Ghana  2010  0.069231  0.626923      0.263846     -0.320000   \n",
       "49         Ghana  2014  0.243846  0.314615      0.557692      0.030769   \n",
       "50          Iran  2014 -0.261538 -0.197692     -0.108462     -0.082308   \n",
       "51          Iran  2018 -0.243077  0.063846     -0.287692     -0.441538   \n",
       "52        Poland  2018 -0.066154  0.173077      0.234615     -0.076154   \n",
       "53  Saudi Arabia  2018 -0.066154  0.226154     -0.128462      0.070769   \n",
       "54       Tunisia  2018  0.463846  0.343077     -0.026154      0.200769   \n",
       "55         Japan  2014 -0.093077  0.253846      0.639231      0.151538   \n",
       "56       Croatia  2014  0.412308  0.366923      0.516154      0.140000   \n",
       "57       Croatia  2018  0.520000  0.379231      0.375385      0.074615   \n",
       "58       Morocco  2018 -0.243077  0.000769      0.120769     -0.327692   \n",
       "\n",
       "    progruns_z     new_xg    Fouled  results  \n",
       "0     0.142308   1.030100  0.160000        3  \n",
       "1     0.198462   1.650710  0.163846        1  \n",
       "2     0.930769 -30.732480  0.520000       32  \n",
       "3    -0.068462  -1.761200 -0.386900       32  \n",
       "4     0.050769   1.954300  0.059230       16  \n",
       "5     0.286923   2.143300  0.156100       16  \n",
       "6     1.432308   7.230700  0.603070        1  \n",
       "7     0.489231   3.889500  0.724615       32  \n",
       "8     0.981538   7.375000  0.605385       16  \n",
       "9     0.180769   0.635310 -0.266100       16  \n",
       "10    0.350769  11.020340 -0.149231       32  \n",
       "11    0.212308   0.123457  0.202308       16  \n",
       "12    0.135385   0.641470  0.070700        2  \n",
       "13    0.098462   1.034268 -0.309231        3  \n",
       "14    0.937692   1.295170  0.083070        8  \n",
       "15    0.408462   2.032780  0.107691        4  \n",
       "16    1.092308   4.424460  0.606154        8  \n",
       "17    0.853846   4.960900 -0.453077        8  \n",
       "18    0.542308   1.976902 -0.106154        3  \n",
       "19   -0.178462   3.017920  0.241500       16  \n",
       "20    0.168462   1.854183  0.110769       16  \n",
       "21    0.210769  -5.074369  0.417692       32  \n",
       "22    0.086154   1.531841  0.313077        4  \n",
       "23    0.020000   2.184302  0.620000        8  \n",
       "24    0.170769  27.801178  0.432308        2  \n",
       "25    0.743077   1.141975  0.696923       16  \n",
       "26   -0.033846  -0.093020 -0.093000        4  \n",
       "27   -0.273077   2.484554 -0.204616       16  \n",
       "28   -0.018462   2.232138  0.120000        8  \n",
       "29    0.121538  -0.027778 -0.447693       32  \n",
       "30    0.193077  -0.183670 -0.538461       32  \n",
       "31   -0.432308 -27.618794 -0.270769        8  \n",
       "32   -0.349231   0.436705 -0.330769       32  \n",
       "33    0.863846   4.313900 -0.229230       16  \n",
       "34   -0.090000   0.203064  0.057693       16  \n",
       "35    0.982308 -19.699910 -0.112308       16  \n",
       "36    0.069231   0.128029 -0.011530       32  \n",
       "37    0.010769   4.153060  0.030770        8  \n",
       "38    0.080769   0.737421  0.140769        1  \n",
       "39    0.104615   3.080923 -0.363076       32  \n",
       "40   -0.393077   3.985512 -0.366923       16  \n",
       "41   -0.256154   3.290680 -0.546923       32  \n",
       "42    0.089231  -0.244903 -0.507692       32  \n",
       "43    0.105385  -4.551738 -0.246154       32  \n",
       "44    0.533077 -10.413890  0.868462       32  \n",
       "45    0.358462 -10.220908 -0.245385       32  \n",
       "46   -0.239231 -20.271014 -0.393840       32  \n",
       "47   -0.086923   0.620587 -0.099231       32  \n",
       "48    0.018462  12.011060 -0.387692        8  \n",
       "49    0.507692   3.047320  0.293846       32  \n",
       "50   -0.276923   0.841178 -0.279999       32  \n",
       "51   -0.383077   0.996836  0.001538       32  \n",
       "52   -0.315385  -3.988360  0.257692       32  \n",
       "53    0.425385  -2.709300  0.470000       32  \n",
       "54    0.123077   1.084578 -0.137692       32  \n",
       "55    0.280000  -9.652879  0.175385       32  \n",
       "56    0.035385   1.457087 -0.526923       32  \n",
       "57    0.265385   1.110948 -0.059231        2  \n",
       "58    0.037692   0.006331 -0.900769       32  "
      ]
     },
     "execution_count": 112,
     "metadata": {},
     "output_type": "execute_result"
    }
   ],
   "source": [
    "df"
   ]
  },
  {
   "cell_type": "markdown",
   "metadata": {},
   "source": [
    "## 2022 Teams"
   ]
  },
  {
   "cell_type": "code",
   "execution_count": 111,
   "metadata": {},
   "outputs": [],
   "source": [
    "group_16 = [('Netherlands', 'Wales'),\n",
    "            ('Argentina', 'Denmark'),\n",
    "            ('Spain', 'Croatia'),\n",
    "            ('Brazil', 'Uruguay'),\n",
    "            ('Spain', 'Russia'),\n",
    "            ('France', 'Mexico'),\n",
    "            ('England', 'Germany'),\n",
    "            ('Portugal', 'Switzerland')]"
   ]
  },
  {
   "cell_type": "code",
   "execution_count": null,
   "metadata": {},
   "outputs": [],
   "source": [
    "ger2020 = ['goals': 2.7]"
   ]
  }
 ],
 "metadata": {
  "kernelspec": {
   "display_name": "Python 3 (ipykernel)",
   "language": "python",
   "name": "python3"
  },
  "language_info": {
   "codemirror_mode": {
    "name": "ipython",
    "version": 3
   },
   "file_extension": ".py",
   "mimetype": "text/x-python",
   "name": "python",
   "nbconvert_exporter": "python",
   "pygments_lexer": "ipython3",
   "version": "3.9.12"
  }
 },
 "nbformat": 4,
 "nbformat_minor": 2
}
