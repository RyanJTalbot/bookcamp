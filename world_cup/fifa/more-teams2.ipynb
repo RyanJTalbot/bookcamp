{
 "cells": [
  {
   "cell_type": "code",
   "execution_count": 1,
   "metadata": {},
   "outputs": [],
   "source": [
    "import pandas as pd\n",
    "import numpy as np\n",
    "import matplotlib.pyplot as plt\n",
    "import seaborn as sns\n",
    "import matplotlib.ticker as ticker\n",
    "import matplotlib.ticker as plticker\n",
    "from sklearn.model_selection import train_test_split\n",
    "from sklearn.linear_model import LogisticRegression\n",
    "\n",
    "import matplotlib.pyplot as pyplot\n",
    "import seaborn as sns"
   ]
  },
  {
   "cell_type": "code",
   "execution_count": 2,
   "metadata": {},
   "outputs": [],
   "source": [
    "years = [2018, 2014, 2010, 2006, 2002, 1998, 1994, 1990, 1986, 1982]"
   ]
  },
  {
   "cell_type": "code",
   "execution_count": 436,
   "metadata": {},
   "outputs": [],
   "source": [
    "comparisons = pd.read_csv('world_cup_comparisons.csv')"
   ]
  },
  {
   "cell_type": "code",
   "execution_count": 437,
   "metadata": {},
   "outputs": [
    {
     "data": {
      "text/html": [
       "<div>\n",
       "<style scoped>\n",
       "    .dataframe tbody tr th:only-of-type {\n",
       "        vertical-align: middle;\n",
       "    }\n",
       "\n",
       "    .dataframe tbody tr th {\n",
       "        vertical-align: top;\n",
       "    }\n",
       "\n",
       "    .dataframe thead th {\n",
       "        text-align: right;\n",
       "    }\n",
       "</style>\n",
       "<table border=\"1\" class=\"dataframe\">\n",
       "  <thead>\n",
       "    <tr style=\"text-align: right;\">\n",
       "      <th></th>\n",
       "      <th>player</th>\n",
       "      <th>season</th>\n",
       "      <th>team</th>\n",
       "      <th>goals_z</th>\n",
       "      <th>xg_z</th>\n",
       "      <th>crosses_z</th>\n",
       "      <th>boxtouches_z</th>\n",
       "      <th>passes_z</th>\n",
       "      <th>progpasses_z</th>\n",
       "      <th>takeons_z</th>\n",
       "      <th>progruns_z</th>\n",
       "      <th>tackles_z</th>\n",
       "      <th>interceptions_z</th>\n",
       "      <th>clearances_z</th>\n",
       "      <th>blocks_z</th>\n",
       "      <th>aerials_z</th>\n",
       "      <th>fouls_z</th>\n",
       "      <th>fouled_z</th>\n",
       "      <th>nsxg_z</th>\n",
       "    </tr>\n",
       "  </thead>\n",
       "  <tbody>\n",
       "    <tr>\n",
       "      <th>0</th>\n",
       "      <td>Cristian Pavón</td>\n",
       "      <td>2018</td>\n",
       "      <td>Argentina</td>\n",
       "      <td>-0.42</td>\n",
       "      <td>-0.55</td>\n",
       "      <td>0.08</td>\n",
       "      <td>-0.24</td>\n",
       "      <td>-0.61</td>\n",
       "      <td>-0.72</td>\n",
       "      <td>-0.05</td>\n",
       "      <td>0.15</td>\n",
       "      <td>0.30</td>\n",
       "      <td>-0.79</td>\n",
       "      <td>-0.80</td>\n",
       "      <td>-0.45</td>\n",
       "      <td>-0.23</td>\n",
       "      <td>-0.38</td>\n",
       "      <td>-0.91</td>\n",
       "      <td>-0.58</td>\n",
       "    </tr>\n",
       "    <tr>\n",
       "      <th>1</th>\n",
       "      <td>Eduardo Salvio</td>\n",
       "      <td>2018</td>\n",
       "      <td>Argentina</td>\n",
       "      <td>-0.42</td>\n",
       "      <td>-0.50</td>\n",
       "      <td>-0.51</td>\n",
       "      <td>0.64</td>\n",
       "      <td>0.02</td>\n",
       "      <td>-0.46</td>\n",
       "      <td>-0.05</td>\n",
       "      <td>0.48</td>\n",
       "      <td>0.61</td>\n",
       "      <td>0.67</td>\n",
       "      <td>0.32</td>\n",
       "      <td>-0.45</td>\n",
       "      <td>0.21</td>\n",
       "      <td>-1.11</td>\n",
       "      <td>0.68</td>\n",
       "      <td>-0.03</td>\n",
       "    </tr>\n",
       "    <tr>\n",
       "      <th>2</th>\n",
       "      <td>Enzo Pérez</td>\n",
       "      <td>2018</td>\n",
       "      <td>Argentina</td>\n",
       "      <td>-0.42</td>\n",
       "      <td>0.11</td>\n",
       "      <td>-0.51</td>\n",
       "      <td>-0.69</td>\n",
       "      <td>0.27</td>\n",
       "      <td>-0.65</td>\n",
       "      <td>-0.36</td>\n",
       "      <td>-0.34</td>\n",
       "      <td>0.35</td>\n",
       "      <td>-0.22</td>\n",
       "      <td>-0.80</td>\n",
       "      <td>-0.45</td>\n",
       "      <td>-0.89</td>\n",
       "      <td>0.72</td>\n",
       "      <td>0.04</td>\n",
       "      <td>-0.66</td>\n",
       "    </tr>\n",
       "    <tr>\n",
       "      <th>3</th>\n",
       "      <td>Federico Fazio</td>\n",
       "      <td>2018</td>\n",
       "      <td>Argentina</td>\n",
       "      <td>-0.42</td>\n",
       "      <td>-0.59</td>\n",
       "      <td>-0.51</td>\n",
       "      <td>-0.69</td>\n",
       "      <td>-0.97</td>\n",
       "      <td>-0.91</td>\n",
       "      <td>-0.67</td>\n",
       "      <td>-0.84</td>\n",
       "      <td>-0.82</td>\n",
       "      <td>-0.79</td>\n",
       "      <td>-0.64</td>\n",
       "      <td>-0.45</td>\n",
       "      <td>0.21</td>\n",
       "      <td>-1.11</td>\n",
       "      <td>-0.59</td>\n",
       "      <td>-0.77</td>\n",
       "    </tr>\n",
       "    <tr>\n",
       "      <th>4</th>\n",
       "      <td>Franco Armani</td>\n",
       "      <td>2018</td>\n",
       "      <td>Argentina</td>\n",
       "      <td>-0.42</td>\n",
       "      <td>-0.59</td>\n",
       "      <td>-0.51</td>\n",
       "      <td>-0.80</td>\n",
       "      <td>-0.67</td>\n",
       "      <td>0.64</td>\n",
       "      <td>-0.67</td>\n",
       "      <td>-0.67</td>\n",
       "      <td>-0.82</td>\n",
       "      <td>-0.79</td>\n",
       "      <td>-0.64</td>\n",
       "      <td>-0.45</td>\n",
       "      <td>-0.89</td>\n",
       "      <td>-1.11</td>\n",
       "      <td>-0.91</td>\n",
       "      <td>-0.77</td>\n",
       "    </tr>\n",
       "  </tbody>\n",
       "</table>\n",
       "</div>"
      ],
      "text/plain": [
       "           player  season       team  goals_z  xg_z  crosses_z  boxtouches_z  \\\n",
       "0  Cristian Pavón    2018  Argentina    -0.42 -0.55       0.08         -0.24   \n",
       "1  Eduardo Salvio    2018  Argentina    -0.42 -0.50      -0.51          0.64   \n",
       "2      Enzo Pérez    2018  Argentina    -0.42  0.11      -0.51         -0.69   \n",
       "3  Federico Fazio    2018  Argentina    -0.42 -0.59      -0.51         -0.69   \n",
       "4   Franco Armani    2018  Argentina    -0.42 -0.59      -0.51         -0.80   \n",
       "\n",
       "   passes_z  progpasses_z  takeons_z  progruns_z  tackles_z  interceptions_z  \\\n",
       "0     -0.61         -0.72      -0.05        0.15       0.30            -0.79   \n",
       "1      0.02         -0.46      -0.05        0.48       0.61             0.67   \n",
       "2      0.27         -0.65      -0.36       -0.34       0.35            -0.22   \n",
       "3     -0.97         -0.91      -0.67       -0.84      -0.82            -0.79   \n",
       "4     -0.67          0.64      -0.67       -0.67      -0.82            -0.79   \n",
       "\n",
       "   clearances_z  blocks_z  aerials_z  fouls_z  fouled_z  nsxg_z  \n",
       "0         -0.80     -0.45      -0.23    -0.38     -0.91   -0.58  \n",
       "1          0.32     -0.45       0.21    -1.11      0.68   -0.03  \n",
       "2         -0.80     -0.45      -0.89     0.72      0.04   -0.66  \n",
       "3         -0.64     -0.45       0.21    -1.11     -0.59   -0.77  \n",
       "4         -0.64     -0.45      -0.89    -1.11     -0.91   -0.77  "
      ]
     },
     "execution_count": 437,
     "metadata": {},
     "output_type": "execute_result"
    }
   ],
   "source": [
    "comparisons.head()"
   ]
  },
  {
   "cell_type": "code",
   "execution_count": 438,
   "metadata": {},
   "outputs": [],
   "source": [
    "all_teams = comparisons['team'].value_counts()"
   ]
  },
  {
   "cell_type": "code",
   "execution_count": 439,
   "metadata": {},
   "outputs": [],
   "source": [
    "all_teams = all_teams.drop(labels=['West Germany', 'Netherlands', 'Senegal', 'Ecuador', \n",
    "                                   'England', 'USA', 'Iran', 'Argentina', 'Poland', \n",
    "                                   'Saudi Arabia', 'France', 'Denmark', \n",
    "                                   'Tunisia', 'Australia', 'Germany', 'Spain', 'Japan', \n",
    "                                   'Costa Rica', 'Belgium', 'Croatia', 'Canada', 'Morocco',\n",
    "                                   'Brazil', 'Switzerland', 'Serbia', 'Cameroon', \n",
    "                                   'Portugal', 'Uruguay', 'Ghana'])"
   ]
  },
  {
   "cell_type": "code",
   "execution_count": 440,
   "metadata": {},
   "outputs": [],
   "source": [
    "teams_all = ['Italy', 'South Korea', 'Nigeria','Colombia','Paraguay',\n",
    "             'Sweden','Russia','Scotland','Algeria','Chile','Greece',\n",
    "             'Honduras','Austria','Bulgaria','USSR','Ivory Coast',               \n",
    "             'Romania','Yugoslavia','South Africa','Rep of Ireland',\n",
    "             'Czechoslovakia','Hungary','Egypt','Slovenia','Norway',                     \n",
    "             'Northern Ireland','Peru','New Zealand','Bosnia and Herzegovina',     \n",
    "             'Panama','Slovakia','Iraq','China PR','Jamaica','Turkey',                     \n",
    "             'Ukraine','Bolivia','Trinidad and Tobago','Togo','Czech Republic',             \n",
    "             'Angola','United Arab Emirates','Iceland','El Salvador','Kuwait',\n",
    "             'North Korea', 'Mexico']"
   ]
  },
  {
   "cell_type": "code",
   "execution_count": 441,
   "metadata": {},
   "outputs": [],
   "source": [
    "comparisons = comparisons.loc[comparisons['team'].isin(teams_all)]"
   ]
  },
  {
   "cell_type": "code",
   "execution_count": 442,
   "metadata": {},
   "outputs": [
    {
     "data": {
      "text/plain": [
       "(2573, 19)"
      ]
     },
     "execution_count": 442,
     "metadata": {},
     "output_type": "execute_result"
    }
   ],
   "source": [
    "comparisons.shape"
   ]
  },
  {
   "cell_type": "code",
   "execution_count": 443,
   "metadata": {},
   "outputs": [],
   "source": [
    "year1982 = [1982]\n",
    "year1986 = [1986]\n",
    "year1990 = [1990]\n",
    "year1994 = [1994]\n",
    "year1998 = [1998]\n",
    "\n",
    "year2002 = [2002]\n",
    "year2006 = [2006]\n",
    "year2010 = [2010]\n",
    "year2014 = [2014]\n",
    "year2018 = [2018]"
   ]
  },
  {
   "cell_type": "code",
   "execution_count": 444,
   "metadata": {},
   "outputs": [],
   "source": [
    "df = comparisons.drop(columns = ['player'])\n"
   ]
  },
  {
   "cell_type": "code",
   "execution_count": 445,
   "metadata": {},
   "outputs": [
    {
     "data": {
      "text/plain": [
       "Italy                     228\n",
       "Mexico                    183\n",
       "South Korea               149\n",
       "Sweden                    131\n",
       "Nigeria                   103\n",
       "Bulgaria                  101\n",
       "Scotland                   98\n",
       "Chile                      94\n",
       "USSR                       88\n",
       "Colombia                   83\n",
       "Paraguay                   83\n",
       "Russia                     71\n",
       "Hungary                    66\n",
       "Austria                    65\n",
       "Algeria                    65\n",
       "Yugoslavia                 64\n",
       "Peru                       63\n",
       "Romania                    61\n",
       "Greece                     58\n",
       "Czechoslovakia             54\n",
       "Honduras                   51\n",
       "Ivory Coast                48\n",
       "South Africa               46\n",
       "Rep of Ireland             45\n",
       "El Salvador                31\n",
       "Slovenia                   31\n",
       "Egypt                      31\n",
       "Norway                     31\n",
       "Northern Ireland           29\n",
       "North Korea                29\n",
       "New Zealand                27\n",
       "Bosnia and Herzegovina     20\n",
       "Panama                     19\n",
       "Slovakia                   18\n",
       "China PR                   17\n",
       "Turkey                     17\n",
       "Iraq                       17\n",
       "Jamaica                    17\n",
       "Ukraine                    17\n",
       "Angola                     16\n",
       "Bolivia                    16\n",
       "Trinidad and Tobago        16\n",
       "Togo                       16\n",
       "Czech Republic             16\n",
       "United Arab Emirates       15\n",
       "Iceland                    15\n",
       "Kuwait                     14\n",
       "Name: team, dtype: int64"
      ]
     },
     "execution_count": 445,
     "metadata": {},
     "output_type": "execute_result"
    }
   ],
   "source": [
    "comparisons['team'].value_counts()"
   ]
  },
  {
   "cell_type": "markdown",
   "metadata": {},
   "source": [
    "## 2018"
   ]
  },
  {
   "cell_type": "code",
   "execution_count": null,
   "metadata": {},
   "outputs": [],
   "source": []
  },
  {
   "cell_type": "code",
   "execution_count": 13,
   "metadata": {},
   "outputs": [],
   "source": [
    "#2018 - 4\n",
    "# 1 italy\n",
    "# 4 france\n",
    "# 9 northern ireland\n",
    "# 21 kuwait\n",
    "\n",
    "#2014 - 4\n",
    "# 6 mexico\n",
    "# 14 poland\n",
    "# 21 northern ireland\n",
    "\n",
    "#2010 -3 \n",
    "# 4 england\n",
    "# 7 cameroon\n",
    "\n",
    "#2006 - 3 \n",
    "# 7 netherlands\n",
    "# 13 saudi arabia\n",
    "\n",
    "# 2002 - 4 \n",
    "# 1 france\n",
    "# 13 mexico\n",
    "# 20 iran\n",
    "# 30 south korea\n",
    "\n",
    "# 1998 - 5 \n",
    "# 5 spain\n",
    "# 10 denmark\n",
    "# 11 mexico\n",
    "# 19 costa rica\n",
    "\n",
    "# 1994 - 8\n",
    "# 9 spain\n",
    "# 15 mexico\n",
    "# 23 angola\n",
    "# 27 trinidad \n",
    "# 30 toga\n",
    "# 31 costa rica\n",
    "# 32 serbia\n",
    "\n",
    "# 1990 - 6\n",
    "# 9 japan\n",
    "# 10 chile\n",
    "# 14 mexico\n",
    "# 20 south africa\n",
    "# 32 north koreaf\n",
    "\n",
    "# 1986 - 6\n",
    "# 9 chile\n",
    "# 13 greece\n",
    "# 14 algeria\n",
    "# 23 spain\n",
    "# 31 honduras\n",
    "\n",
    "# 1982 - 5\n",
    "# 5 uruguay\n",
    "# 10 spain\n",
    "# 15 japan\n",
    "# 23 germany\n",
    "\n",
    "# missing 48 values"
   ]
  },
  {
   "cell_type": "markdown",
   "metadata": {},
   "source": [
    "# South Korea\n"
   ]
  },
  {
   "cell_type": "code",
   "execution_count": 390,
   "metadata": {},
   "outputs": [
    {
     "data": {
      "text/plain": [
       "1998    18\n",
       "1990    18\n",
       "2018    17\n",
       "2006    17\n",
       "2014    16\n",
       "2002    16\n",
       "1994    16\n",
       "1986    16\n",
       "2010    15\n",
       "Name: season, dtype: int64"
      ]
     },
     "execution_count": 390,
     "metadata": {},
     "output_type": "execute_result"
    }
   ],
   "source": [
    "sko = ['South Korea']\n",
    "sko_year = df.loc[df[\"team\"].isin(sko)]\n",
    "sko_year['season'].value_counts()\n",
    "# 2018, 2014, 2010, 2006, 02, 98, 94, 90, 86, 82"
   ]
  },
  {
   "cell_type": "markdown",
   "metadata": {},
   "source": [
    "## 18"
   ]
  },
  {
   "cell_type": "code",
   "execution_count": 391,
   "metadata": {},
   "outputs": [],
   "source": [
    "sko18year = sko_year.loc[sko_year[\"season\"].isin(year2018)]\n",
    "sko18xg = sko18year.sort_values(by=[\"goals_z\"], ascending=False)\n",
    "sko18xg13 = sko18xg.head(13)\n",
    "sko18xg13 = sko18xg13.drop(columns=['season', 'team'])\n",
    "sko18 = sko18xg13.mean()"
   ]
  },
  {
   "cell_type": "code",
   "execution_count": 393,
   "metadata": {},
   "outputs": [],
   "source": [
    "# sko18"
   ]
  },
  {
   "cell_type": "markdown",
   "metadata": {},
   "source": [
    "## 14"
   ]
  },
  {
   "cell_type": "code",
   "execution_count": 419,
   "metadata": {},
   "outputs": [],
   "source": [
    "sko14year = sko_year.loc[sko_year[\"season\"].isin(year2014)]\n",
    "sko14xg = sko14year.sort_values(by=[\"goals_z\"], ascending=False)\n",
    "sko14xg13 = sko14xg.head(13)\n",
    "sko14xg13 = sko14xg13.drop(columns=['season', 'team'])\n",
    "sko14 = sko14xg13.mean()"
   ]
  },
  {
   "cell_type": "code",
   "execution_count": 421,
   "metadata": {},
   "outputs": [],
   "source": [
    "# sko14"
   ]
  },
  {
   "cell_type": "markdown",
   "metadata": {},
   "source": [
    "## 06"
   ]
  },
  {
   "cell_type": "code",
   "execution_count": 394,
   "metadata": {},
   "outputs": [],
   "source": [
    "sko10year = sko_year.loc[sko_year[\"season\"].isin(year2010)]\n",
    "sko10xg = sko10year.sort_values(by=[\"goals_z\"], ascending=False)\n",
    "sko10xg13 = sko10xg.head(13)\n",
    "sko10xg13 = sko10xg13.drop(columns=['season', 'team'])\n",
    "sko10 = sko10xg13.mean()"
   ]
  },
  {
   "cell_type": "code",
   "execution_count": 396,
   "metadata": {},
   "outputs": [],
   "source": [
    "# sko10"
   ]
  },
  {
   "cell_type": "markdown",
   "metadata": {},
   "source": [
    "## 02"
   ]
  },
  {
   "cell_type": "code",
   "execution_count": 397,
   "metadata": {},
   "outputs": [],
   "source": [
    "sko06year = sko_year.loc[sko_year[\"season\"].isin(year2006)]\n",
    "sko06xg = sko06year.sort_values(by=[\"goals_z\"], ascending=False)\n",
    "sko06xg13 = sko06xg.head(13)\n",
    "sko06xg13 = sko06xg13.drop(columns=['season', 'team'])\n",
    "sko06 = sko06xg13.mean()"
   ]
  },
  {
   "cell_type": "code",
   "execution_count": 399,
   "metadata": {},
   "outputs": [],
   "source": [
    "# sko06"
   ]
  },
  {
   "cell_type": "markdown",
   "metadata": {},
   "source": [
    "## 02"
   ]
  },
  {
   "cell_type": "code",
   "execution_count": 400,
   "metadata": {},
   "outputs": [],
   "source": [
    "sko02year = sko_year.loc[sko_year[\"season\"].isin(year2002)]\n",
    "sko02xg = sko02year.sort_values(by=[\"goals_z\"], ascending=False)\n",
    "sko02xg13 = sko02xg.head(13)\n",
    "sko02xg13 = sko02xg13.drop(columns=['season', 'team'])\n",
    "sko02 = sko02xg13.mean()"
   ]
  },
  {
   "cell_type": "code",
   "execution_count": 402,
   "metadata": {},
   "outputs": [],
   "source": [
    "# sko02"
   ]
  },
  {
   "cell_type": "markdown",
   "metadata": {},
   "source": [
    "## 98"
   ]
  },
  {
   "cell_type": "code",
   "execution_count": 403,
   "metadata": {},
   "outputs": [],
   "source": [
    "sko98year = sko_year.loc[sko_year[\"season\"].isin(year1998)]\n",
    "sko98xg = sko98year.sort_values(by=[\"goals_z\"], ascending=False)\n",
    "sko98xg13 = sko98xg.head(13)\n",
    "sko98xg13 = sko98xg13.drop(columns=['season', 'team'])\n",
    "sko98 = sko98xg13.mean()"
   ]
  },
  {
   "cell_type": "code",
   "execution_count": 405,
   "metadata": {},
   "outputs": [],
   "source": [
    "# sko98"
   ]
  },
  {
   "cell_type": "markdown",
   "metadata": {},
   "source": [
    "## 94"
   ]
  },
  {
   "cell_type": "code",
   "execution_count": 407,
   "metadata": {},
   "outputs": [],
   "source": [
    "sko94year = sko_year.loc[sko_year[\"season\"].isin(year1994)]\n",
    "sko94xg = sko94year.sort_values(by=[\"goals_z\"], ascending=False)\n",
    "sko94xg13 = sko94xg.head(13)\n",
    "sko94xg13 = sko94xg13.drop(columns=['season', 'team'])\n",
    "sko94 = sko94xg13.mean()"
   ]
  },
  {
   "cell_type": "code",
   "execution_count": 409,
   "metadata": {},
   "outputs": [],
   "source": [
    "# sko94"
   ]
  },
  {
   "cell_type": "markdown",
   "metadata": {},
   "source": [
    "## 90"
   ]
  },
  {
   "cell_type": "code",
   "execution_count": 410,
   "metadata": {},
   "outputs": [],
   "source": [
    "sko90year = sko_year.loc[sko_year[\"season\"].isin(year1990)]\n",
    "sko90xg = sko90year.sort_values(by=[\"goals_z\"], ascending=False)\n",
    "sko90xg13 = sko90xg.head(13)\n",
    "sko90xg13 = sko90xg13.drop(columns=['season', 'team'])\n",
    "sko90 = sko90xg13.mean()"
   ]
  },
  {
   "cell_type": "code",
   "execution_count": 412,
   "metadata": {},
   "outputs": [],
   "source": [
    "# sko90"
   ]
  },
  {
   "cell_type": "markdown",
   "metadata": {},
   "source": [
    "## 86"
   ]
  },
  {
   "cell_type": "code",
   "execution_count": 413,
   "metadata": {},
   "outputs": [],
   "source": [
    "sko86year = sko_year.loc[sko_year[\"season\"].isin(year1986)]\n",
    "sko86xg = sko86year.sort_values(by=[\"goals_z\"], ascending=False)\n",
    "sko86xg13 = sko86xg.head(13)\n",
    "sko86xg13 = sko86xg13.drop(columns=['season', 'team'])\n",
    "sko86 = sko86xg13.mean()"
   ]
  },
  {
   "cell_type": "code",
   "execution_count": 415,
   "metadata": {},
   "outputs": [],
   "source": [
    "# sko86"
   ]
  },
  {
   "cell_type": "code",
   "execution_count": 422,
   "metadata": {},
   "outputs": [],
   "source": [
    "sko = pd.concat([sko18, sko14, sko10, sko06, sko02, sko98, sko94, sko90, sko86], axis=1).T\n",
    "sko.rename(index={0: 'SouthKorea18', 1: 'SouthKorea14', \n",
    "                  2: 'SouthKorea10', 3: 'SouthKorea06', 4: 'SouthKorea02',\n",
    "                 5: 'SouthKorea98', 6: 'SouthKorea94', 7: 'SouthKorea90',\n",
    "                 8: 'SouthKorea86'}, inplace=True)"
   ]
  },
  {
   "cell_type": "code",
   "execution_count": 423,
   "metadata": {},
   "outputs": [],
   "source": [
    "df2 = sko.assign(results=[19, 20, 22, 20, 30, 4, 17, 15, 27])"
   ]
  },
  {
   "cell_type": "code",
   "execution_count": 424,
   "metadata": {},
   "outputs": [],
   "source": [
    "# df2.to_csv('SouthKorea.csv')"
   ]
  },
  {
   "cell_type": "code",
   "execution_count": null,
   "metadata": {},
   "outputs": [],
   "source": [
    "# 18 - 19 south korea\n",
    "# 14 - 20 south korea\n",
    "# 10 - 22 south korea \n",
    "# 06 - 20 south korea\n",
    "# 02 - 30 south korea\n",
    "# 98 - 4 south korea\n",
    "# 94 - 17 south korea\n",
    "# 90 - 15 south korea\n",
    "# 86 - 27 south korea"
   ]
  },
  {
   "cell_type": "markdown",
   "metadata": {},
   "source": [
    "## Mexico"
   ]
  },
  {
   "cell_type": "code",
   "execution_count": 447,
   "metadata": {},
   "outputs": [
    {
     "data": {
      "text/plain": [
       "2006    19\n",
       "1978    19\n",
       "2010    18\n",
       "1998    18\n",
       "1970    17\n",
       "2018    16\n",
       "2014    16\n",
       "1994    16\n",
       "1986    15\n",
       "1966    15\n",
       "2002    14\n",
       "Name: season, dtype: int64"
      ]
     },
     "execution_count": 447,
     "metadata": {},
     "output_type": "execute_result"
    }
   ],
   "source": [
    "mex = ['Mexico']\n",
    "mex_year = df.loc[df[\"team\"].isin(mex)]\n",
    "mex_year['season'].value_counts()\n",
    "# 2018, 2014, 2006, 02, 98, 94, 86"
   ]
  },
  {
   "cell_type": "markdown",
   "metadata": {},
   "source": [
    "## 18"
   ]
  },
  {
   "cell_type": "code",
   "execution_count": 448,
   "metadata": {},
   "outputs": [],
   "source": [
    "mex18year = mex_year.loc[mex_year[\"season\"].isin(year2018)]\n",
    "mex18xg = mex18year.sort_values(by=[\"goals_z\"], ascending=False)\n",
    "mex18xg13 = mex18xg.head(13)\n",
    "mex18xg13 = mex18xg13.drop(columns=['season', 'team'])\n",
    "mex18 = mex18xg13.mean()"
   ]
  },
  {
   "cell_type": "code",
   "execution_count": 450,
   "metadata": {},
   "outputs": [],
   "source": [
    "# mex18"
   ]
  },
  {
   "cell_type": "markdown",
   "metadata": {},
   "source": [
    "## 14"
   ]
  },
  {
   "cell_type": "code",
   "execution_count": 451,
   "metadata": {},
   "outputs": [],
   "source": [
    "mex14year = mex_year.loc[mex_year[\"season\"].isin(year2014)]\n",
    "mex14xg = mex14year.sort_values(by=[\"goals_z\"], ascending=False)\n",
    "mex14xg13 = mex14xg.head(13)\n",
    "mex14xg13 = mex14xg13.drop(columns=['season', 'team'])\n",
    "mex14 = mex14xg13.mean()"
   ]
  },
  {
   "cell_type": "code",
   "execution_count": 453,
   "metadata": {},
   "outputs": [],
   "source": [
    "# mex14"
   ]
  },
  {
   "cell_type": "markdown",
   "metadata": {},
   "source": [
    "## 06"
   ]
  },
  {
   "cell_type": "code",
   "execution_count": 457,
   "metadata": {},
   "outputs": [],
   "source": [
    "mex06year = mex_year.loc[mex_year[\"season\"].isin(year2006)]\n",
    "mex06xg = mex06year.sort_values(by=[\"goals_z\"], ascending=False)\n",
    "mex06xg13 = mex06xg.head(13)\n",
    "mex06xg13 = mex06xg13.drop(columns=['season', 'team'])\n",
    "mex06 = mex06xg13.mean()"
   ]
  },
  {
   "cell_type": "code",
   "execution_count": 460,
   "metadata": {},
   "outputs": [],
   "source": [
    "# mex06"
   ]
  },
  {
   "cell_type": "markdown",
   "metadata": {},
   "source": [
    "## 02"
   ]
  },
  {
   "cell_type": "code",
   "execution_count": 462,
   "metadata": {},
   "outputs": [],
   "source": [
    "mex02year = mex_year.loc[mex_year[\"season\"].isin(year2002)]\n",
    "mex02xg = mex02year.sort_values(by=[\"goals_z\"], ascending=False)\n",
    "mex02xg13 = mex02xg.head(13)\n",
    "mex02xg13 = mex02xg13.drop(columns=['season', 'team'])\n",
    "mex02 = mex02xg13.mean()"
   ]
  },
  {
   "cell_type": "code",
   "execution_count": 481,
   "metadata": {},
   "outputs": [],
   "source": [
    "# mex02"
   ]
  },
  {
   "cell_type": "markdown",
   "metadata": {},
   "source": [
    "## 98"
   ]
  },
  {
   "cell_type": "code",
   "execution_count": 465,
   "metadata": {},
   "outputs": [],
   "source": [
    "mex98year = mex_year.loc[mex_year[\"season\"].isin(year1998)]\n",
    "mex98xg = mex98year.sort_values(by=[\"goals_z\"], ascending=False)\n",
    "mex98xg13 = mex98xg.head(13)\n",
    "mex98xg13 = mex98xg13.drop(columns=['season', 'team'])\n",
    "mex98 = mex98xg13.mean()"
   ]
  },
  {
   "cell_type": "code",
   "execution_count": 479,
   "metadata": {},
   "outputs": [
    {
     "data": {
      "text/plain": [
       "goals_z            0.530000\n",
       "xg_z               0.444615\n",
       "crosses_z          0.113846\n",
       "boxtouches_z       0.252308\n",
       "passes_z          -0.113846\n",
       "progpasses_z      -0.101538\n",
       "takeons_z          0.063077\n",
       "progruns_z         0.536154\n",
       "tackles_z          0.023846\n",
       "interceptions_z   -0.356154\n",
       "clearances_z      -0.445385\n",
       "blocks_z          -0.375385\n",
       "aerials_z         -0.416154\n",
       "fouls_z           -0.466154\n",
       "fouled_z           0.090769\n",
       "nsxg_z             0.223077\n",
       "dtype: float64"
      ]
     },
     "execution_count": 479,
     "metadata": {},
     "output_type": "execute_result"
    }
   ],
   "source": [
    "mex98"
   ]
  },
  {
   "cell_type": "markdown",
   "metadata": {},
   "source": [
    "## 94"
   ]
  },
  {
   "cell_type": "code",
   "execution_count": 468,
   "metadata": {},
   "outputs": [],
   "source": [
    "mex94year = mex_year.loc[mex_year[\"season\"].isin(year1994)]\n",
    "mex94xg = mex94year.sort_values(by=[\"goals_z\"], ascending=False)\n",
    "mex94xg13 = mex94xg.head(13)\n",
    "mex94xg13 = mex94xg13.drop(columns=['season', 'team'])\n",
    "mex94 = mex94xg13.mean()"
   ]
  },
  {
   "cell_type": "code",
   "execution_count": 478,
   "metadata": {},
   "outputs": [
    {
     "data": {
      "text/plain": [
       "goals_z           -0.016923\n",
       "xg_z              -0.025385\n",
       "crosses_z         -0.333846\n",
       "boxtouches_z      -0.298462\n",
       "passes_z           0.441538\n",
       "progpasses_z       0.140000\n",
       "takeons_z         -0.039231\n",
       "progruns_z         0.304615\n",
       "tackles_z          0.371538\n",
       "interceptions_z   -0.287692\n",
       "clearances_z      -0.113846\n",
       "blocks_z           0.166923\n",
       "aerials_z         -0.164615\n",
       "fouls_z            0.041538\n",
       "fouled_z          -0.232308\n",
       "nsxg_z            -0.163077\n",
       "dtype: float64"
      ]
     },
     "execution_count": 478,
     "metadata": {},
     "output_type": "execute_result"
    }
   ],
   "source": [
    "mex94"
   ]
  },
  {
   "cell_type": "markdown",
   "metadata": {},
   "source": [
    "## 86"
   ]
  },
  {
   "cell_type": "code",
   "execution_count": 471,
   "metadata": {},
   "outputs": [],
   "source": [
    "mex86year = mex_year.loc[mex_year[\"season\"].isin(year1986)]\n",
    "mex86xg = mex86year.sort_values(by=[\"goals_z\"], ascending=False)\n",
    "mex86xg13 = mex86xg.head(13)\n",
    "mex86xg13 = mex86xg13.drop(columns=['season', 'team'])\n",
    "mex86 = mex86xg13.mean()"
   ]
  },
  {
   "cell_type": "code",
   "execution_count": 477,
   "metadata": {},
   "outputs": [],
   "source": [
    "# mex86"
   ]
  },
  {
   "cell_type": "code",
   "execution_count": 474,
   "metadata": {},
   "outputs": [],
   "source": [
    "mex = pd.concat([mex14, mex02, mex98, mex94], axis=1).T\n",
    "mex.rename(index={0: 'Mexico14', 1: 'Mexico02', 3: 'Mexico98', \n",
    "                  4: 'Mexico94'}, inplace=True)\n",
    "df2 = mex.assign(results=[6, 13, 11, 15])\n",
    "\n"
   ]
  },
  {
   "cell_type": "code",
   "execution_count": 475,
   "metadata": {},
   "outputs": [],
   "source": [
    "# df2.to_csv('Mexico9.csv')\n"
   ]
  },
  {
   "cell_type": "code",
   "execution_count": null,
   "metadata": {},
   "outputs": [],
   "source": [
    "# 2018, 2014, 2006, 02, 98, 94, 86"
   ]
  },
  {
   "cell_type": "code",
   "execution_count": null,
   "metadata": {},
   "outputs": [],
   "source": [
    "# 14 - 6 mexico\n",
    "# 02 - 13 mexico\n",
    "# 98 - 11 mexico\n",
    "# 94 -  15 mexico\n"
   ]
  },
  {
   "cell_type": "markdown",
   "metadata": {},
   "source": [
    "# Sweden"
   ]
  },
  {
   "cell_type": "code",
   "execution_count": 14,
   "metadata": {},
   "outputs": [],
   "source": [
    "swe = ['Sweden']"
   ]
  },
  {
   "cell_type": "code",
   "execution_count": 15,
   "metadata": {},
   "outputs": [],
   "source": [
    "swe_year = df.loc[df[\"team\"].isin(swe)]"
   ]
  },
  {
   "cell_type": "code",
   "execution_count": 16,
   "metadata": {},
   "outputs": [
    {
     "data": {
      "text/plain": [
       "2018    18\n",
       "1974    18\n",
       "1970    18\n",
       "2006    16\n",
       "1990    16\n",
       "2002    15\n",
       "1994    15\n",
       "1978    15\n",
       "Name: season, dtype: int64"
      ]
     },
     "execution_count": 16,
     "metadata": {},
     "output_type": "execute_result"
    }
   ],
   "source": [
    "swe_year['season'].value_counts()\n",
    "# 2018, 2006, 2002, 1994, 1990, "
   ]
  },
  {
   "cell_type": "markdown",
   "metadata": {},
   "source": [
    "## 18"
   ]
  },
  {
   "cell_type": "code",
   "execution_count": 17,
   "metadata": {},
   "outputs": [],
   "source": [
    "swe18year = swe_year.loc[swe_year[\"season\"].isin(year2018)]\n",
    "swe18xg = swe18year.sort_values(by=[\"goals_z\"], ascending=False)\n",
    "swe18xg13 = swe18xg.head(13)\n",
    "swe18xg13 = swe18xg13.drop(columns=['season', 'team'])\n",
    "swe18 = swe18xg13.mean()"
   ]
  },
  {
   "cell_type": "code",
   "execution_count": 18,
   "metadata": {},
   "outputs": [],
   "source": [
    "# swe18"
   ]
  },
  {
   "cell_type": "markdown",
   "metadata": {},
   "source": [
    "## 06"
   ]
  },
  {
   "cell_type": "code",
   "execution_count": 19,
   "metadata": {},
   "outputs": [],
   "source": [
    "swe06year = swe_year.loc[swe_year[\"season\"].isin(year2006)]\n",
    "swe06xg = swe06year.sort_values(by=[\"goals_z\"], ascending=False)\n",
    "swe06xg13 = swe06xg.head(13)\n",
    "swe06xg13 = swe06xg13.drop(columns=['season', 'team'])\n",
    "swe06 = swe06xg13.mean()"
   ]
  },
  {
   "cell_type": "code",
   "execution_count": 20,
   "metadata": {},
   "outputs": [],
   "source": [
    "# swe06"
   ]
  },
  {
   "cell_type": "markdown",
   "metadata": {},
   "source": [
    "## 02"
   ]
  },
  {
   "cell_type": "code",
   "execution_count": 21,
   "metadata": {},
   "outputs": [],
   "source": [
    "swe02year = swe_year.loc[swe_year[\"season\"].isin(year2002)]\n",
    "swe02xg = swe02year.sort_values(by=[\"goals_z\"], ascending=False)\n",
    "swe02xg13 = swe02xg.head(13)\n",
    "swe02xg13 = swe02xg13.drop(columns=['season', 'team'])\n",
    "swe02 = swe02xg13.mean()"
   ]
  },
  {
   "cell_type": "code",
   "execution_count": 22,
   "metadata": {},
   "outputs": [],
   "source": [
    "# swe02"
   ]
  },
  {
   "cell_type": "markdown",
   "metadata": {},
   "source": [
    "## 94"
   ]
  },
  {
   "cell_type": "code",
   "execution_count": 23,
   "metadata": {},
   "outputs": [],
   "source": [
    "swe94year = swe_year.loc[swe_year[\"season\"].isin(year1994)]\n",
    "swe94xg = swe94year.sort_values(by=[\"goals_z\"], ascending=False)\n",
    "swe94xg13 = swe94xg.head(13)\n",
    "swe94xg13 = swe94xg13.drop(columns=['season', 'team'])\n",
    "swe94 = swe94xg13.mean()"
   ]
  },
  {
   "cell_type": "code",
   "execution_count": 24,
   "metadata": {},
   "outputs": [],
   "source": [
    "# swe94"
   ]
  },
  {
   "cell_type": "markdown",
   "metadata": {},
   "source": [
    "## 90"
   ]
  },
  {
   "cell_type": "code",
   "execution_count": 25,
   "metadata": {},
   "outputs": [],
   "source": [
    "swe90year = swe_year.loc[swe_year[\"season\"].isin(year1990)]\n",
    "swe90xg = swe90year.sort_values(by=[\"goals_z\"], ascending=False)\n",
    "swe90xg13 = swe90xg.head(13)\n",
    "swe90xg13 = swe90xg13.drop(columns=['season', 'team'])\n",
    "swe90 = swe90xg13.mean()"
   ]
  },
  {
   "cell_type": "code",
   "execution_count": 26,
   "metadata": {},
   "outputs": [],
   "source": [
    "# swe90"
   ]
  },
  {
   "cell_type": "code",
   "execution_count": 27,
   "metadata": {},
   "outputs": [],
   "source": [
    "swe = pd.concat([swe18, swe06, swe02, swe94, swe90], axis=1).T\n",
    "swe.rename(index={0: 'Sweden18', 1: 'Sweden06', \n",
    "                  2: 'Sweden02', 3: 'Sweden94', 4: 'Sweden90'}, inplace=True)\n",
    "\n"
   ]
  },
  {
   "cell_type": "code",
   "execution_count": 28,
   "metadata": {},
   "outputs": [],
   "source": [
    "df2 = swe.assign(results=[7, 14, 13, 3, 21])\n"
   ]
  },
  {
   "cell_type": "code",
   "execution_count": 29,
   "metadata": {},
   "outputs": [],
   "source": [
    "# df2.to_csv('Sweden.csv')\n"
   ]
  },
  {
   "cell_type": "code",
   "execution_count": null,
   "metadata": {},
   "outputs": [],
   "source": []
  },
  {
   "cell_type": "code",
   "execution_count": null,
   "metadata": {},
   "outputs": [],
   "source": []
  },
  {
   "cell_type": "markdown",
   "metadata": {},
   "source": [
    "# Ivory Coast"
   ]
  },
  {
   "cell_type": "code",
   "execution_count": 30,
   "metadata": {},
   "outputs": [],
   "source": [
    "ivo = ['Ivory Coast']\n",
    "\n"
   ]
  },
  {
   "cell_type": "code",
   "execution_count": 31,
   "metadata": {},
   "outputs": [],
   "source": [
    "ivo_year = df.loc[df[\"team\"].isin(ivo)]"
   ]
  },
  {
   "cell_type": "markdown",
   "metadata": {},
   "source": [
    "## 06"
   ]
  },
  {
   "cell_type": "code",
   "execution_count": 32,
   "metadata": {},
   "outputs": [],
   "source": [
    "ivo06year = ivo_year.loc[ivo_year[\"season\"].isin(year2006)]\n"
   ]
  },
  {
   "cell_type": "code",
   "execution_count": 33,
   "metadata": {},
   "outputs": [],
   "source": [
    "ivo06xg = ivo06year.sort_values(by=[\"goals_z\"], ascending=False)"
   ]
  },
  {
   "cell_type": "code",
   "execution_count": 34,
   "metadata": {},
   "outputs": [],
   "source": [
    "ivo06xg13 = ivo06xg.head(13)"
   ]
  },
  {
   "cell_type": "code",
   "execution_count": 35,
   "metadata": {},
   "outputs": [],
   "source": [
    "ivo06xg13 = ivo06xg13.drop(columns=['season', 'team'])"
   ]
  },
  {
   "cell_type": "code",
   "execution_count": 36,
   "metadata": {},
   "outputs": [],
   "source": [
    "ivo06 = ivo06xg13.mean()"
   ]
  },
  {
   "cell_type": "code",
   "execution_count": 37,
   "metadata": {},
   "outputs": [],
   "source": [
    "# ivo06"
   ]
  },
  {
   "cell_type": "markdown",
   "metadata": {},
   "source": [
    "## 10"
   ]
  },
  {
   "cell_type": "code",
   "execution_count": 38,
   "metadata": {},
   "outputs": [],
   "source": [
    "ivo10year = ivo_year.loc[ivo_year[\"season\"].isin(year2010)]\n"
   ]
  },
  {
   "cell_type": "code",
   "execution_count": 39,
   "metadata": {},
   "outputs": [],
   "source": [
    "ivo10xg = ivo10year.sort_values(by=[\"goals_z\"], ascending=False)"
   ]
  },
  {
   "cell_type": "code",
   "execution_count": 40,
   "metadata": {},
   "outputs": [],
   "source": [
    "ivo10xg13 = ivo10xg.head(13)"
   ]
  },
  {
   "cell_type": "code",
   "execution_count": 41,
   "metadata": {},
   "outputs": [],
   "source": [
    "ivo10xg13 = ivo10xg13.drop(columns=['season', 'team'])"
   ]
  },
  {
   "cell_type": "code",
   "execution_count": 42,
   "metadata": {},
   "outputs": [],
   "source": [
    "ivo10 = ivo10xg13.mean()"
   ]
  },
  {
   "cell_type": "code",
   "execution_count": 43,
   "metadata": {},
   "outputs": [],
   "source": [
    "# ivo10"
   ]
  },
  {
   "cell_type": "markdown",
   "metadata": {},
   "source": [
    "## 14"
   ]
  },
  {
   "cell_type": "code",
   "execution_count": 44,
   "metadata": {},
   "outputs": [],
   "source": [
    "ivo14year = ivo_year.loc[ivo_year[\"season\"].isin(year2014)]\n"
   ]
  },
  {
   "cell_type": "code",
   "execution_count": 45,
   "metadata": {},
   "outputs": [],
   "source": [
    "ivo14xg = ivo14year.sort_values(by=[\"goals_z\"], ascending=False)"
   ]
  },
  {
   "cell_type": "code",
   "execution_count": 46,
   "metadata": {},
   "outputs": [],
   "source": [
    "ivo14xg13 = ivo14xg.head(13)"
   ]
  },
  {
   "cell_type": "code",
   "execution_count": 47,
   "metadata": {},
   "outputs": [],
   "source": [
    "ivo14xg13 = ivo14xg13.drop(columns=['season', 'team'])"
   ]
  },
  {
   "cell_type": "code",
   "execution_count": 48,
   "metadata": {},
   "outputs": [],
   "source": [
    "ivo14 = ivo14xg13.mean()"
   ]
  },
  {
   "cell_type": "code",
   "execution_count": 49,
   "metadata": {},
   "outputs": [],
   "source": [
    "# ivo14"
   ]
  },
  {
   "cell_type": "code",
   "execution_count": 50,
   "metadata": {},
   "outputs": [],
   "source": [
    "ivo = pd.concat([ivo06, ivo10, ivo14], axis=1).T\n"
   ]
  },
  {
   "cell_type": "code",
   "execution_count": 51,
   "metadata": {},
   "outputs": [],
   "source": [
    "ivo.rename(index={0: 'IvoryCoast06', 1: 'IvoryCoast10', 2: 'IvoryCoast14'}, inplace=True)\n"
   ]
  },
  {
   "cell_type": "code",
   "execution_count": 52,
   "metadata": {},
   "outputs": [],
   "source": [
    "df2 = ivo.assign(results=[19, 17, 21])\n"
   ]
  },
  {
   "cell_type": "code",
   "execution_count": 53,
   "metadata": {},
   "outputs": [],
   "source": [
    "# df2"
   ]
  },
  {
   "cell_type": "code",
   "execution_count": 54,
   "metadata": {},
   "outputs": [],
   "source": [
    "# df2.to_csv('IvoryCoast.csv')\n",
    "# #"
   ]
  },
  {
   "cell_type": "code",
   "execution_count": 55,
   "metadata": {},
   "outputs": [
    {
     "data": {
      "text/html": [
       "<div>\n",
       "<style scoped>\n",
       "    .dataframe tbody tr th:only-of-type {\n",
       "        vertical-align: middle;\n",
       "    }\n",
       "\n",
       "    .dataframe tbody tr th {\n",
       "        vertical-align: top;\n",
       "    }\n",
       "\n",
       "    .dataframe thead th {\n",
       "        text-align: right;\n",
       "    }\n",
       "</style>\n",
       "<table border=\"1\" class=\"dataframe\">\n",
       "  <thead>\n",
       "    <tr style=\"text-align: right;\">\n",
       "      <th></th>\n",
       "      <th>goals_z</th>\n",
       "      <th>xg_z</th>\n",
       "      <th>crosses_z</th>\n",
       "      <th>boxtouches_z</th>\n",
       "      <th>passes_z</th>\n",
       "      <th>progpasses_z</th>\n",
       "      <th>takeons_z</th>\n",
       "      <th>progruns_z</th>\n",
       "      <th>tackles_z</th>\n",
       "      <th>interceptions_z</th>\n",
       "      <th>clearances_z</th>\n",
       "      <th>blocks_z</th>\n",
       "      <th>aerials_z</th>\n",
       "      <th>fouls_z</th>\n",
       "      <th>fouled_z</th>\n",
       "      <th>nsxg_z</th>\n",
       "      <th>results</th>\n",
       "    </tr>\n",
       "  </thead>\n",
       "  <tbody>\n",
       "    <tr>\n",
       "      <th>IvoryCoast06</th>\n",
       "      <td>0.542308</td>\n",
       "      <td>0.718462</td>\n",
       "      <td>-0.083077</td>\n",
       "      <td>0.223846</td>\n",
       "      <td>-0.131538</td>\n",
       "      <td>0.075385</td>\n",
       "      <td>-0.111538</td>\n",
       "      <td>-0.120769</td>\n",
       "      <td>-0.211538</td>\n",
       "      <td>-0.400769</td>\n",
       "      <td>-0.153077</td>\n",
       "      <td>-0.347692</td>\n",
       "      <td>-0.396923</td>\n",
       "      <td>-0.384615</td>\n",
       "      <td>0.010000</td>\n",
       "      <td>-0.026923</td>\n",
       "      <td>19</td>\n",
       "    </tr>\n",
       "    <tr>\n",
       "      <th>IvoryCoast10</th>\n",
       "      <td>0.310769</td>\n",
       "      <td>0.126154</td>\n",
       "      <td>0.637692</td>\n",
       "      <td>0.688462</td>\n",
       "      <td>0.377692</td>\n",
       "      <td>0.260000</td>\n",
       "      <td>0.221538</td>\n",
       "      <td>0.910769</td>\n",
       "      <td>0.053846</td>\n",
       "      <td>0.259231</td>\n",
       "      <td>-0.338462</td>\n",
       "      <td>-0.416923</td>\n",
       "      <td>-0.170769</td>\n",
       "      <td>0.368462</td>\n",
       "      <td>0.235385</td>\n",
       "      <td>0.597692</td>\n",
       "      <td>17</td>\n",
       "    </tr>\n",
       "    <tr>\n",
       "      <th>IvoryCoast14</th>\n",
       "      <td>0.243846</td>\n",
       "      <td>0.064615</td>\n",
       "      <td>0.097692</td>\n",
       "      <td>0.312308</td>\n",
       "      <td>0.330769</td>\n",
       "      <td>0.399231</td>\n",
       "      <td>0.216154</td>\n",
       "      <td>-0.051538</td>\n",
       "      <td>0.349231</td>\n",
       "      <td>0.529231</td>\n",
       "      <td>0.266923</td>\n",
       "      <td>0.176154</td>\n",
       "      <td>-0.012308</td>\n",
       "      <td>0.509231</td>\n",
       "      <td>-0.030769</td>\n",
       "      <td>0.190000</td>\n",
       "      <td>21</td>\n",
       "    </tr>\n",
       "  </tbody>\n",
       "</table>\n",
       "</div>"
      ],
      "text/plain": [
       "               goals_z      xg_z  crosses_z  boxtouches_z  passes_z  \\\n",
       "IvoryCoast06  0.542308  0.718462  -0.083077      0.223846 -0.131538   \n",
       "IvoryCoast10  0.310769  0.126154   0.637692      0.688462  0.377692   \n",
       "IvoryCoast14  0.243846  0.064615   0.097692      0.312308  0.330769   \n",
       "\n",
       "              progpasses_z  takeons_z  progruns_z  tackles_z  interceptions_z  \\\n",
       "IvoryCoast06      0.075385  -0.111538   -0.120769  -0.211538        -0.400769   \n",
       "IvoryCoast10      0.260000   0.221538    0.910769   0.053846         0.259231   \n",
       "IvoryCoast14      0.399231   0.216154   -0.051538   0.349231         0.529231   \n",
       "\n",
       "              clearances_z  blocks_z  aerials_z   fouls_z  fouled_z    nsxg_z  \\\n",
       "IvoryCoast06     -0.153077 -0.347692  -0.396923 -0.384615  0.010000 -0.026923   \n",
       "IvoryCoast10     -0.338462 -0.416923  -0.170769  0.368462  0.235385  0.597692   \n",
       "IvoryCoast14      0.266923  0.176154  -0.012308  0.509231 -0.030769  0.190000   \n",
       "\n",
       "              results  \n",
       "IvoryCoast06       19  \n",
       "IvoryCoast10       17  \n",
       "IvoryCoast14       21  "
      ]
     },
     "execution_count": 55,
     "metadata": {},
     "output_type": "execute_result"
    }
   ],
   "source": [
    "df2"
   ]
  },
  {
   "cell_type": "code",
   "execution_count": 56,
   "metadata": {},
   "outputs": [],
   "source": [
    "# 06 - 19      Ivory Coast     C     3     1     0     2     5     6     −1     3\n",
    "# 10 - 17      Ivory Coast     G     3     1     1     1     4     3     +1     4\n",
    "# 14 - 21      Ivory Coast     C     3     1     0     2     3     4     5     −1\n"
   ]
  },
  {
   "cell_type": "markdown",
   "metadata": {},
   "source": [
    "## South Africa"
   ]
  },
  {
   "cell_type": "code",
   "execution_count": 57,
   "metadata": {},
   "outputs": [],
   "source": [
    "sou = ['South Africa']"
   ]
  },
  {
   "cell_type": "code",
   "execution_count": 58,
   "metadata": {},
   "outputs": [],
   "source": [
    "sou_year = df.loc[df[\"team\"].isin(sou)]"
   ]
  },
  {
   "cell_type": "markdown",
   "metadata": {},
   "source": [
    "## 98"
   ]
  },
  {
   "cell_type": "code",
   "execution_count": 59,
   "metadata": {},
   "outputs": [],
   "source": [
    "sou98year = sou_year.loc[sou_year[\"season\"].isin(year1998)]\n"
   ]
  },
  {
   "cell_type": "code",
   "execution_count": 60,
   "metadata": {},
   "outputs": [],
   "source": [
    "sou98xg = sou98year.sort_values(by=[\"goals_z\"], ascending=False)\n"
   ]
  },
  {
   "cell_type": "code",
   "execution_count": 61,
   "metadata": {},
   "outputs": [],
   "source": [
    "sou98xg13 = sou98xg.head(13)\n"
   ]
  },
  {
   "cell_type": "code",
   "execution_count": 62,
   "metadata": {},
   "outputs": [],
   "source": [
    "sou98xg13 = sou98xg13.drop(columns=['season', 'team'])\n"
   ]
  },
  {
   "cell_type": "code",
   "execution_count": 63,
   "metadata": {},
   "outputs": [],
   "source": [
    "sou98 = sou98xg13.mean()"
   ]
  },
  {
   "cell_type": "code",
   "execution_count": 64,
   "metadata": {},
   "outputs": [],
   "source": [
    "# sou98"
   ]
  },
  {
   "cell_type": "markdown",
   "metadata": {},
   "source": [
    "## 02"
   ]
  },
  {
   "cell_type": "code",
   "execution_count": 65,
   "metadata": {},
   "outputs": [],
   "source": [
    "sou02year = sou_year.loc[sou_year[\"season\"].isin(year2002)]\n"
   ]
  },
  {
   "cell_type": "code",
   "execution_count": 66,
   "metadata": {},
   "outputs": [],
   "source": [
    "sou02xg = sou02year.sort_values(by=[\"goals_z\"], ascending=False)\n"
   ]
  },
  {
   "cell_type": "code",
   "execution_count": 67,
   "metadata": {},
   "outputs": [],
   "source": [
    "sou02xg13 = sou02xg.head(13)\n"
   ]
  },
  {
   "cell_type": "code",
   "execution_count": 68,
   "metadata": {},
   "outputs": [],
   "source": [
    "sou02xg13 = sou02xg13.drop(columns=['season', 'team'])\n"
   ]
  },
  {
   "cell_type": "code",
   "execution_count": 69,
   "metadata": {},
   "outputs": [],
   "source": [
    "sou02 = sou02xg13.mean()"
   ]
  },
  {
   "cell_type": "code",
   "execution_count": 70,
   "metadata": {},
   "outputs": [],
   "source": [
    "# sou02"
   ]
  },
  {
   "cell_type": "markdown",
   "metadata": {},
   "source": [
    "## 10"
   ]
  },
  {
   "cell_type": "code",
   "execution_count": 71,
   "metadata": {},
   "outputs": [],
   "source": [
    "sou10year = sou_year.loc[sou_year[\"season\"].isin(year2010)]\n"
   ]
  },
  {
   "cell_type": "code",
   "execution_count": 72,
   "metadata": {},
   "outputs": [],
   "source": [
    "sou10xg = sou10year.sort_values(by=[\"goals_z\"], ascending=False)\n"
   ]
  },
  {
   "cell_type": "code",
   "execution_count": 73,
   "metadata": {},
   "outputs": [],
   "source": [
    "sou10xg13 = sou10xg.head(13)\n"
   ]
  },
  {
   "cell_type": "code",
   "execution_count": 74,
   "metadata": {},
   "outputs": [],
   "source": [
    "sou10xg13 = sou10xg13.drop(columns=['season', 'team'])\n"
   ]
  },
  {
   "cell_type": "code",
   "execution_count": 75,
   "metadata": {},
   "outputs": [],
   "source": [
    "sou10 = sou10xg13.mean()"
   ]
  },
  {
   "cell_type": "code",
   "execution_count": 76,
   "metadata": {},
   "outputs": [],
   "source": [
    "# sou10"
   ]
  },
  {
   "cell_type": "code",
   "execution_count": 77,
   "metadata": {},
   "outputs": [],
   "source": [
    "sou = pd.concat([sou98, sou02, sou10], axis=1).T\n"
   ]
  },
  {
   "cell_type": "code",
   "execution_count": 78,
   "metadata": {},
   "outputs": [],
   "source": [
    "sou.rename(index={0: 'SouthAfrica98', 1: 'SouthAfrica02', 2: 'SouthAfrica10'}, inplace=True)\n"
   ]
  },
  {
   "cell_type": "code",
   "execution_count": 79,
   "metadata": {},
   "outputs": [],
   "source": [
    "df2 = sou.assign(results=[24, 17, 10])\n"
   ]
  },
  {
   "cell_type": "code",
   "execution_count": 80,
   "metadata": {},
   "outputs": [],
   "source": [
    "# df2.to_csv('SouthAfrica.csv')\n"
   ]
  },
  {
   "cell_type": "code",
   "execution_count": 81,
   "metadata": {},
   "outputs": [],
   "source": [
    "# 98 - 24      South Africa     C     3     0     2     1     3     6     −3     2\n",
    "# 02 - 17     B      South Africa     3     1     1     1     5     5     0     4 \n",
    "# 10 - 20      South Africa     A     3     1     1     1     3     5     −2     4\n"
   ]
  },
  {
   "cell_type": "markdown",
   "metadata": {},
   "source": [
    "# Republic of Ireland"
   ]
  },
  {
   "cell_type": "code",
   "execution_count": 82,
   "metadata": {},
   "outputs": [],
   "source": [
    "rep = ['Rep of Ireland']\n",
    "\n"
   ]
  },
  {
   "cell_type": "code",
   "execution_count": 83,
   "metadata": {},
   "outputs": [],
   "source": [
    "rep_year = df.loc[df[\"team\"].isin(rep)]"
   ]
  },
  {
   "cell_type": "markdown",
   "metadata": {},
   "source": [
    "## 90"
   ]
  },
  {
   "cell_type": "code",
   "execution_count": 84,
   "metadata": {},
   "outputs": [],
   "source": [
    "rep90year = rep_year.loc[rep_year[\"season\"].isin(year1990)]\n"
   ]
  },
  {
   "cell_type": "code",
   "execution_count": 85,
   "metadata": {},
   "outputs": [],
   "source": [
    "rep90xg = rep90year.sort_values(by=[\"goals_z\"], ascending=False)\n"
   ]
  },
  {
   "cell_type": "code",
   "execution_count": 86,
   "metadata": {},
   "outputs": [],
   "source": [
    "rep90xg13 = rep90xg.head(13)"
   ]
  },
  {
   "cell_type": "code",
   "execution_count": 87,
   "metadata": {},
   "outputs": [],
   "source": [
    "rep90xg13 = rep90xg13.drop(columns=['season', 'team'])\n"
   ]
  },
  {
   "cell_type": "code",
   "execution_count": 88,
   "metadata": {},
   "outputs": [],
   "source": [
    "rep90 = rep90xg13.mean()"
   ]
  },
  {
   "cell_type": "code",
   "execution_count": 89,
   "metadata": {},
   "outputs": [],
   "source": [
    "# rep90"
   ]
  },
  {
   "cell_type": "markdown",
   "metadata": {},
   "source": [
    "## 94"
   ]
  },
  {
   "cell_type": "code",
   "execution_count": 90,
   "metadata": {},
   "outputs": [],
   "source": [
    "rep94year = rep_year.loc[rep_year[\"season\"].isin(year1994)]\n"
   ]
  },
  {
   "cell_type": "code",
   "execution_count": 91,
   "metadata": {},
   "outputs": [],
   "source": [
    "rep94xg = rep94year.sort_values(by=[\"goals_z\"], ascending=False)\n"
   ]
  },
  {
   "cell_type": "code",
   "execution_count": 92,
   "metadata": {},
   "outputs": [],
   "source": [
    "rep94xg13 = rep94xg.head(13)"
   ]
  },
  {
   "cell_type": "code",
   "execution_count": 93,
   "metadata": {},
   "outputs": [],
   "source": [
    "rep94xg13 = rep94xg13.drop(columns=['season', 'team'])\n"
   ]
  },
  {
   "cell_type": "code",
   "execution_count": 94,
   "metadata": {},
   "outputs": [],
   "source": [
    "rep94 = rep94xg13.mean()"
   ]
  },
  {
   "cell_type": "code",
   "execution_count": 95,
   "metadata": {},
   "outputs": [],
   "source": [
    "# rep94"
   ]
  },
  {
   "cell_type": "markdown",
   "metadata": {},
   "source": [
    "## 02"
   ]
  },
  {
   "cell_type": "code",
   "execution_count": 96,
   "metadata": {},
   "outputs": [],
   "source": [
    "rep02year = rep_year.loc[rep_year[\"season\"].isin(year2002)]\n"
   ]
  },
  {
   "cell_type": "code",
   "execution_count": 97,
   "metadata": {},
   "outputs": [],
   "source": [
    "rep02xg = rep02year.sort_values(by=[\"goals_z\"], ascending=False)\n"
   ]
  },
  {
   "cell_type": "code",
   "execution_count": 98,
   "metadata": {},
   "outputs": [],
   "source": [
    "rep02xg13 = rep02xg.head(13)"
   ]
  },
  {
   "cell_type": "code",
   "execution_count": 99,
   "metadata": {},
   "outputs": [],
   "source": [
    "rep02xg13 = rep02xg13.drop(columns=['season', 'team'])\n"
   ]
  },
  {
   "cell_type": "code",
   "execution_count": 100,
   "metadata": {},
   "outputs": [],
   "source": [
    "rep02 = rep02xg13.mean()"
   ]
  },
  {
   "cell_type": "code",
   "execution_count": 101,
   "metadata": {},
   "outputs": [],
   "source": [
    "# rep02"
   ]
  },
  {
   "cell_type": "code",
   "execution_count": 102,
   "metadata": {},
   "outputs": [],
   "source": [
    "rep = pd.concat([rep90, rep94, rep02], axis=1).T\n",
    "\n"
   ]
  },
  {
   "cell_type": "code",
   "execution_count": 103,
   "metadata": {},
   "outputs": [],
   "source": [
    "rep.rename(index={0: 'RepIreland90', 1: 'RepIreland94', 2: 'RepIreland02'}, inplace=True)\n"
   ]
  },
  {
   "cell_type": "code",
   "execution_count": 104,
   "metadata": {},
   "outputs": [],
   "source": [
    "df2 = rep.assign(results=[8, 16, 12])\n"
   ]
  },
  {
   "cell_type": "code",
   "execution_count": 105,
   "metadata": {},
   "outputs": [
    {
     "data": {
      "text/html": [
       "<div>\n",
       "<style scoped>\n",
       "    .dataframe tbody tr th:only-of-type {\n",
       "        vertical-align: middle;\n",
       "    }\n",
       "\n",
       "    .dataframe tbody tr th {\n",
       "        vertical-align: top;\n",
       "    }\n",
       "\n",
       "    .dataframe thead th {\n",
       "        text-align: right;\n",
       "    }\n",
       "</style>\n",
       "<table border=\"1\" class=\"dataframe\">\n",
       "  <thead>\n",
       "    <tr style=\"text-align: right;\">\n",
       "      <th></th>\n",
       "      <th>goals_z</th>\n",
       "      <th>xg_z</th>\n",
       "      <th>crosses_z</th>\n",
       "      <th>boxtouches_z</th>\n",
       "      <th>passes_z</th>\n",
       "      <th>progpasses_z</th>\n",
       "      <th>takeons_z</th>\n",
       "      <th>progruns_z</th>\n",
       "      <th>tackles_z</th>\n",
       "      <th>interceptions_z</th>\n",
       "      <th>clearances_z</th>\n",
       "      <th>blocks_z</th>\n",
       "      <th>aerials_z</th>\n",
       "      <th>fouls_z</th>\n",
       "      <th>fouled_z</th>\n",
       "      <th>nsxg_z</th>\n",
       "      <th>results</th>\n",
       "    </tr>\n",
       "  </thead>\n",
       "  <tbody>\n",
       "    <tr>\n",
       "      <th>RepIreland90</th>\n",
       "      <td>-0.220000</td>\n",
       "      <td>-0.225385</td>\n",
       "      <td>0.125385</td>\n",
       "      <td>0.152308</td>\n",
       "      <td>-0.283846</td>\n",
       "      <td>-0.132308</td>\n",
       "      <td>-0.456154</td>\n",
       "      <td>-0.423846</td>\n",
       "      <td>-0.267692</td>\n",
       "      <td>-0.293077</td>\n",
       "      <td>0.036154</td>\n",
       "      <td>-0.273846</td>\n",
       "      <td>0.546923</td>\n",
       "      <td>0.280769</td>\n",
       "      <td>-2.153846e-01</td>\n",
       "      <td>0.232308</td>\n",
       "      <td>8</td>\n",
       "    </tr>\n",
       "    <tr>\n",
       "      <th>RepIreland94</th>\n",
       "      <td>-0.186923</td>\n",
       "      <td>-0.183846</td>\n",
       "      <td>0.225385</td>\n",
       "      <td>0.003077</td>\n",
       "      <td>0.051538</td>\n",
       "      <td>0.024615</td>\n",
       "      <td>-0.216154</td>\n",
       "      <td>-0.101538</td>\n",
       "      <td>-0.296154</td>\n",
       "      <td>0.285385</td>\n",
       "      <td>0.065385</td>\n",
       "      <td>-0.292308</td>\n",
       "      <td>0.878462</td>\n",
       "      <td>0.045385</td>\n",
       "      <td>2.600000e-01</td>\n",
       "      <td>-0.012308</td>\n",
       "      <td>16</td>\n",
       "    </tr>\n",
       "    <tr>\n",
       "      <th>RepIreland02</th>\n",
       "      <td>0.264615</td>\n",
       "      <td>0.394615</td>\n",
       "      <td>-0.094615</td>\n",
       "      <td>0.217692</td>\n",
       "      <td>0.290769</td>\n",
       "      <td>0.062308</td>\n",
       "      <td>0.100000</td>\n",
       "      <td>0.241538</td>\n",
       "      <td>-0.328462</td>\n",
       "      <td>-0.197692</td>\n",
       "      <td>-0.097692</td>\n",
       "      <td>-0.042308</td>\n",
       "      <td>-0.019231</td>\n",
       "      <td>-0.015385</td>\n",
       "      <td>8.540177e-17</td>\n",
       "      <td>0.094615</td>\n",
       "      <td>12</td>\n",
       "    </tr>\n",
       "  </tbody>\n",
       "</table>\n",
       "</div>"
      ],
      "text/plain": [
       "               goals_z      xg_z  crosses_z  boxtouches_z  passes_z  \\\n",
       "RepIreland90 -0.220000 -0.225385   0.125385      0.152308 -0.283846   \n",
       "RepIreland94 -0.186923 -0.183846   0.225385      0.003077  0.051538   \n",
       "RepIreland02  0.264615  0.394615  -0.094615      0.217692  0.290769   \n",
       "\n",
       "              progpasses_z  takeons_z  progruns_z  tackles_z  interceptions_z  \\\n",
       "RepIreland90     -0.132308  -0.456154   -0.423846  -0.267692        -0.293077   \n",
       "RepIreland94      0.024615  -0.216154   -0.101538  -0.296154         0.285385   \n",
       "RepIreland02      0.062308   0.100000    0.241538  -0.328462        -0.197692   \n",
       "\n",
       "              clearances_z  blocks_z  aerials_z   fouls_z      fouled_z  \\\n",
       "RepIreland90      0.036154 -0.273846   0.546923  0.280769 -2.153846e-01   \n",
       "RepIreland94      0.065385 -0.292308   0.878462  0.045385  2.600000e-01   \n",
       "RepIreland02     -0.097692 -0.042308  -0.019231 -0.015385  8.540177e-17   \n",
       "\n",
       "                nsxg_z  results  \n",
       "RepIreland90  0.232308        8  \n",
       "RepIreland94 -0.012308       16  \n",
       "RepIreland02  0.094615       12  "
      ]
     },
     "execution_count": 105,
     "metadata": {},
     "output_type": "execute_result"
    }
   ],
   "source": [
    "df2"
   ]
  },
  {
   "cell_type": "code",
   "execution_count": 106,
   "metadata": {},
   "outputs": [],
   "source": [
    "# df2.to_csv('RepIreland.csv')"
   ]
  },
  {
   "cell_type": "code",
   "execution_count": 107,
   "metadata": {},
   "outputs": [],
   "source": [
    "# 90 - 8     F      Republic of Ireland     5     0     4     1     2     3     −1     4\n",
    "# 94 - 16      Republic of Ireland     E     4     1     1     2     2     4     −2     4\n",
    "# 02 - 12     E      Republic of Ireland     4     1     3     0     6     3     +3     6\n"
   ]
  },
  {
   "cell_type": "markdown",
   "metadata": {},
   "source": [
    "# Slovenia"
   ]
  },
  {
   "cell_type": "code",
   "execution_count": 108,
   "metadata": {},
   "outputs": [],
   "source": [
    "slo = ['Slovenia']\n"
   ]
  },
  {
   "cell_type": "code",
   "execution_count": 109,
   "metadata": {},
   "outputs": [],
   "source": [
    "slo_year = df.loc[df[\"team\"].isin(slo)]"
   ]
  },
  {
   "cell_type": "markdown",
   "metadata": {},
   "source": [
    "## 02"
   ]
  },
  {
   "cell_type": "code",
   "execution_count": 110,
   "metadata": {},
   "outputs": [],
   "source": [
    "slo02year = slo_year.loc[slo_year[\"season\"].isin(year2002)]\n"
   ]
  },
  {
   "cell_type": "code",
   "execution_count": 111,
   "metadata": {},
   "outputs": [],
   "source": [
    "slo02xg = slo02year.sort_values(by=[\"goals_z\"], ascending=False)\n"
   ]
  },
  {
   "cell_type": "code",
   "execution_count": 112,
   "metadata": {},
   "outputs": [],
   "source": [
    "slo02xg13 = slo02xg.head(13)\n"
   ]
  },
  {
   "cell_type": "code",
   "execution_count": 113,
   "metadata": {},
   "outputs": [],
   "source": [
    "slo02xg13 = slo02xg13.drop(columns=['season', 'team'])\n"
   ]
  },
  {
   "cell_type": "code",
   "execution_count": 114,
   "metadata": {},
   "outputs": [],
   "source": [
    "slo02 = slo02xg13.mean()"
   ]
  },
  {
   "cell_type": "code",
   "execution_count": 115,
   "metadata": {},
   "outputs": [],
   "source": [
    "# slo02"
   ]
  },
  {
   "cell_type": "markdown",
   "metadata": {},
   "source": [
    "## 10"
   ]
  },
  {
   "cell_type": "code",
   "execution_count": 116,
   "metadata": {},
   "outputs": [],
   "source": [
    "slo10year = slo_year.loc[slo_year[\"season\"].isin(year2010)]\n"
   ]
  },
  {
   "cell_type": "code",
   "execution_count": 117,
   "metadata": {},
   "outputs": [],
   "source": [
    "slo10xg = slo10year.sort_values(by=[\"goals_z\"], ascending=False)\n"
   ]
  },
  {
   "cell_type": "code",
   "execution_count": 118,
   "metadata": {},
   "outputs": [],
   "source": [
    "slo10xg13 = slo10xg.head(13)\n"
   ]
  },
  {
   "cell_type": "code",
   "execution_count": 119,
   "metadata": {},
   "outputs": [],
   "source": [
    "slo10xg13 = slo10xg13.drop(columns=['season', 'team'])\n"
   ]
  },
  {
   "cell_type": "code",
   "execution_count": 120,
   "metadata": {},
   "outputs": [],
   "source": [
    "slo10 = slo10xg13.mean()"
   ]
  },
  {
   "cell_type": "code",
   "execution_count": 121,
   "metadata": {},
   "outputs": [],
   "source": [
    "# slo10"
   ]
  },
  {
   "cell_type": "code",
   "execution_count": 122,
   "metadata": {},
   "outputs": [],
   "source": [
    "slo = pd.concat([slo02, slo10], axis=1).T"
   ]
  },
  {
   "cell_type": "code",
   "execution_count": 123,
   "metadata": {},
   "outputs": [],
   "source": [
    "slo.rename(index={0: 'Slovenia02', 1: 'Slovenia10'}, inplace=True)\n"
   ]
  },
  {
   "cell_type": "code",
   "execution_count": 124,
   "metadata": {},
   "outputs": [],
   "source": [
    "df2 = slo.assign(results=[30, 18])"
   ]
  },
  {
   "cell_type": "code",
   "execution_count": 125,
   "metadata": {},
   "outputs": [
    {
     "data": {
      "text/html": [
       "<div>\n",
       "<style scoped>\n",
       "    .dataframe tbody tr th:only-of-type {\n",
       "        vertical-align: middle;\n",
       "    }\n",
       "\n",
       "    .dataframe tbody tr th {\n",
       "        vertical-align: top;\n",
       "    }\n",
       "\n",
       "    .dataframe thead th {\n",
       "        text-align: right;\n",
       "    }\n",
       "</style>\n",
       "<table border=\"1\" class=\"dataframe\">\n",
       "  <thead>\n",
       "    <tr style=\"text-align: right;\">\n",
       "      <th></th>\n",
       "      <th>goals_z</th>\n",
       "      <th>xg_z</th>\n",
       "      <th>crosses_z</th>\n",
       "      <th>boxtouches_z</th>\n",
       "      <th>passes_z</th>\n",
       "      <th>progpasses_z</th>\n",
       "      <th>takeons_z</th>\n",
       "      <th>progruns_z</th>\n",
       "      <th>tackles_z</th>\n",
       "      <th>interceptions_z</th>\n",
       "      <th>clearances_z</th>\n",
       "      <th>blocks_z</th>\n",
       "      <th>aerials_z</th>\n",
       "      <th>fouls_z</th>\n",
       "      <th>fouled_z</th>\n",
       "      <th>nsxg_z</th>\n",
       "      <th>results</th>\n",
       "    </tr>\n",
       "  </thead>\n",
       "  <tbody>\n",
       "    <tr>\n",
       "      <th>Slovenia02</th>\n",
       "      <td>-0.085385</td>\n",
       "      <td>-0.213077</td>\n",
       "      <td>-0.380000</td>\n",
       "      <td>-0.016923</td>\n",
       "      <td>-0.389231</td>\n",
       "      <td>-0.367692</td>\n",
       "      <td>-0.119231</td>\n",
       "      <td>-0.159231</td>\n",
       "      <td>-0.056923</td>\n",
       "      <td>-0.278462</td>\n",
       "      <td>0.063077</td>\n",
       "      <td>0.243846</td>\n",
       "      <td>0.071538</td>\n",
       "      <td>-0.076923</td>\n",
       "      <td>0.061538</td>\n",
       "      <td>-0.301538</td>\n",
       "      <td>30</td>\n",
       "    </tr>\n",
       "    <tr>\n",
       "      <th>Slovenia10</th>\n",
       "      <td>0.133077</td>\n",
       "      <td>-0.218462</td>\n",
       "      <td>-0.078462</td>\n",
       "      <td>-0.189231</td>\n",
       "      <td>0.195385</td>\n",
       "      <td>0.424615</td>\n",
       "      <td>-0.125385</td>\n",
       "      <td>0.274615</td>\n",
       "      <td>-0.183077</td>\n",
       "      <td>0.304615</td>\n",
       "      <td>0.429231</td>\n",
       "      <td>-0.226923</td>\n",
       "      <td>0.151538</td>\n",
       "      <td>0.274615</td>\n",
       "      <td>0.583846</td>\n",
       "      <td>-0.084615</td>\n",
       "      <td>18</td>\n",
       "    </tr>\n",
       "  </tbody>\n",
       "</table>\n",
       "</div>"
      ],
      "text/plain": [
       "             goals_z      xg_z  crosses_z  boxtouches_z  passes_z  \\\n",
       "Slovenia02 -0.085385 -0.213077  -0.380000     -0.016923 -0.389231   \n",
       "Slovenia10  0.133077 -0.218462  -0.078462     -0.189231  0.195385   \n",
       "\n",
       "            progpasses_z  takeons_z  progruns_z  tackles_z  interceptions_z  \\\n",
       "Slovenia02     -0.367692  -0.119231   -0.159231  -0.056923        -0.278462   \n",
       "Slovenia10      0.424615  -0.125385    0.274615  -0.183077         0.304615   \n",
       "\n",
       "            clearances_z  blocks_z  aerials_z   fouls_z  fouled_z    nsxg_z  \\\n",
       "Slovenia02      0.063077  0.243846   0.071538 -0.076923  0.061538 -0.301538   \n",
       "Slovenia10      0.429231 -0.226923   0.151538  0.274615  0.583846 -0.084615   \n",
       "\n",
       "            results  \n",
       "Slovenia02       30  \n",
       "Slovenia10       18  "
      ]
     },
     "execution_count": 125,
     "metadata": {},
     "output_type": "execute_result"
    }
   ],
   "source": [
    "df2"
   ]
  },
  {
   "cell_type": "code",
   "execution_count": 126,
   "metadata": {},
   "outputs": [],
   "source": [
    "# df2.to_csv('Slovenia.csv')"
   ]
  },
  {
   "cell_type": "code",
   "execution_count": 127,
   "metadata": {},
   "outputs": [],
   "source": [
    "# 02 - 30     B      Slovenia     3     0     0     3     2     7     −5     0\n",
    "# 10 - 18      Slovenia     C     3     1     1     1     3     3     0     4\n"
   ]
  },
  {
   "cell_type": "markdown",
   "metadata": {},
   "source": [
    "## Czechoslovakia"
   ]
  },
  {
   "cell_type": "code",
   "execution_count": 128,
   "metadata": {},
   "outputs": [],
   "source": [
    "cze = ['Czechoslovakia']"
   ]
  },
  {
   "cell_type": "code",
   "execution_count": 129,
   "metadata": {},
   "outputs": [],
   "source": [
    "cze_year = df.loc[df[\"team\"].isin(cze)]"
   ]
  },
  {
   "cell_type": "markdown",
   "metadata": {},
   "source": [
    "## 82"
   ]
  },
  {
   "cell_type": "code",
   "execution_count": 130,
   "metadata": {},
   "outputs": [],
   "source": [
    "cze82year = cze_year.loc[cze_year[\"season\"].isin(year1982)]"
   ]
  },
  {
   "cell_type": "code",
   "execution_count": 131,
   "metadata": {},
   "outputs": [],
   "source": [
    "cze82xg = cze82year.sort_values(by=[\"goals_z\"], ascending=False)"
   ]
  },
  {
   "cell_type": "code",
   "execution_count": 132,
   "metadata": {},
   "outputs": [],
   "source": [
    "cze82xg13 = cze82xg.head(13)"
   ]
  },
  {
   "cell_type": "code",
   "execution_count": 133,
   "metadata": {},
   "outputs": [],
   "source": [
    "cze82xg13 = cze82xg13.drop(columns=['season', 'team'])\n"
   ]
  },
  {
   "cell_type": "code",
   "execution_count": 134,
   "metadata": {},
   "outputs": [],
   "source": [
    "cze82 = cze82xg13.mean()"
   ]
  },
  {
   "cell_type": "code",
   "execution_count": 135,
   "metadata": {},
   "outputs": [],
   "source": [
    "# cze82"
   ]
  },
  {
   "cell_type": "markdown",
   "metadata": {},
   "source": [
    "## 90"
   ]
  },
  {
   "cell_type": "code",
   "execution_count": 136,
   "metadata": {},
   "outputs": [],
   "source": [
    "cze90year = cze_year.loc[cze_year[\"season\"].isin(year1990)]"
   ]
  },
  {
   "cell_type": "code",
   "execution_count": 137,
   "metadata": {},
   "outputs": [],
   "source": [
    "cze90xg = cze90year.sort_values(by=[\"goals_z\"], ascending=False)"
   ]
  },
  {
   "cell_type": "code",
   "execution_count": 138,
   "metadata": {},
   "outputs": [],
   "source": [
    "cze90xg13 = cze90xg.head(13)"
   ]
  },
  {
   "cell_type": "code",
   "execution_count": 139,
   "metadata": {},
   "outputs": [],
   "source": [
    "cze90xg13 = cze90xg13.drop(columns=['season', 'team'])\n"
   ]
  },
  {
   "cell_type": "code",
   "execution_count": 140,
   "metadata": {},
   "outputs": [],
   "source": [
    "cze90 = cze90xg13.mean()"
   ]
  },
  {
   "cell_type": "code",
   "execution_count": 141,
   "metadata": {},
   "outputs": [],
   "source": [
    "# cze90"
   ]
  },
  {
   "cell_type": "code",
   "execution_count": 142,
   "metadata": {},
   "outputs": [],
   "source": [
    "cze = pd.concat([cze82, cze90], axis=1).T\n"
   ]
  },
  {
   "cell_type": "code",
   "execution_count": 143,
   "metadata": {},
   "outputs": [],
   "source": [
    "cze.rename(index={0: 'Czechoslovakia82', 1: 'Czechoslovakia90'}, inplace=True)\n"
   ]
  },
  {
   "cell_type": "code",
   "execution_count": 144,
   "metadata": {},
   "outputs": [],
   "source": [
    "df2 = cze.assign(results=[19, 6])\n"
   ]
  },
  {
   "cell_type": "code",
   "execution_count": 145,
   "metadata": {},
   "outputs": [
    {
     "data": {
      "text/html": [
       "<div>\n",
       "<style scoped>\n",
       "    .dataframe tbody tr th:only-of-type {\n",
       "        vertical-align: middle;\n",
       "    }\n",
       "\n",
       "    .dataframe tbody tr th {\n",
       "        vertical-align: top;\n",
       "    }\n",
       "\n",
       "    .dataframe thead th {\n",
       "        text-align: right;\n",
       "    }\n",
       "</style>\n",
       "<table border=\"1\" class=\"dataframe\">\n",
       "  <thead>\n",
       "    <tr style=\"text-align: right;\">\n",
       "      <th></th>\n",
       "      <th>goals_z</th>\n",
       "      <th>xg_z</th>\n",
       "      <th>crosses_z</th>\n",
       "      <th>boxtouches_z</th>\n",
       "      <th>passes_z</th>\n",
       "      <th>progpasses_z</th>\n",
       "      <th>takeons_z</th>\n",
       "      <th>progruns_z</th>\n",
       "      <th>tackles_z</th>\n",
       "      <th>interceptions_z</th>\n",
       "      <th>clearances_z</th>\n",
       "      <th>blocks_z</th>\n",
       "      <th>aerials_z</th>\n",
       "      <th>fouls_z</th>\n",
       "      <th>fouled_z</th>\n",
       "      <th>nsxg_z</th>\n",
       "      <th>results</th>\n",
       "    </tr>\n",
       "  </thead>\n",
       "  <tbody>\n",
       "    <tr>\n",
       "      <th>Czechoslovakia82</th>\n",
       "      <td>-0.193846</td>\n",
       "      <td>0.228462</td>\n",
       "      <td>-0.313846</td>\n",
       "      <td>-0.167692</td>\n",
       "      <td>-0.563077</td>\n",
       "      <td>-0.534615</td>\n",
       "      <td>0.062308</td>\n",
       "      <td>-0.100769</td>\n",
       "      <td>-0.315385</td>\n",
       "      <td>-0.446923</td>\n",
       "      <td>-0.064615</td>\n",
       "      <td>-0.349231</td>\n",
       "      <td>-0.193077</td>\n",
       "      <td>-0.331538</td>\n",
       "      <td>-0.135385</td>\n",
       "      <td>-0.362308</td>\n",
       "      <td>19</td>\n",
       "    </tr>\n",
       "    <tr>\n",
       "      <th>Czechoslovakia90</th>\n",
       "      <td>0.542308</td>\n",
       "      <td>0.893077</td>\n",
       "      <td>0.693077</td>\n",
       "      <td>0.540769</td>\n",
       "      <td>0.117692</td>\n",
       "      <td>0.225385</td>\n",
       "      <td>0.106923</td>\n",
       "      <td>0.390000</td>\n",
       "      <td>-0.222308</td>\n",
       "      <td>0.146923</td>\n",
       "      <td>0.000769</td>\n",
       "      <td>0.406923</td>\n",
       "      <td>0.220769</td>\n",
       "      <td>0.569231</td>\n",
       "      <td>0.236154</td>\n",
       "      <td>0.692308</td>\n",
       "      <td>6</td>\n",
       "    </tr>\n",
       "  </tbody>\n",
       "</table>\n",
       "</div>"
      ],
      "text/plain": [
       "                   goals_z      xg_z  crosses_z  boxtouches_z  passes_z  \\\n",
       "Czechoslovakia82 -0.193846  0.228462  -0.313846     -0.167692 -0.563077   \n",
       "Czechoslovakia90  0.542308  0.893077   0.693077      0.540769  0.117692   \n",
       "\n",
       "                  progpasses_z  takeons_z  progruns_z  tackles_z  \\\n",
       "Czechoslovakia82     -0.534615   0.062308   -0.100769  -0.315385   \n",
       "Czechoslovakia90      0.225385   0.106923    0.390000  -0.222308   \n",
       "\n",
       "                  interceptions_z  clearances_z  blocks_z  aerials_z  \\\n",
       "Czechoslovakia82        -0.446923     -0.064615 -0.349231  -0.193077   \n",
       "Czechoslovakia90         0.146923      0.000769  0.406923   0.220769   \n",
       "\n",
       "                   fouls_z  fouled_z    nsxg_z  results  \n",
       "Czechoslovakia82 -0.331538 -0.135385 -0.362308       19  \n",
       "Czechoslovakia90  0.569231  0.236154  0.692308        6  "
      ]
     },
     "execution_count": 145,
     "metadata": {},
     "output_type": "execute_result"
    }
   ],
   "source": [
    "df2"
   ]
  },
  {
   "cell_type": "code",
   "execution_count": 146,
   "metadata": {},
   "outputs": [],
   "source": [
    "df2.to_csv('Czechoslovakia.csv')\n"
   ]
  },
  {
   "cell_type": "code",
   "execution_count": 147,
   "metadata": {},
   "outputs": [],
   "source": [
    "# 82 - 19      Czechoslovakia     4     3     0     2     1     2     4     −2     2\n",
    "# 90 - 6     A      Czechoslovakia     5     3     0     2     10     5     +5     6\n"
   ]
  },
  {
   "cell_type": "markdown",
   "metadata": {},
   "source": [
    "# Hungary"
   ]
  },
  {
   "cell_type": "code",
   "execution_count": 148,
   "metadata": {},
   "outputs": [],
   "source": [
    "hun = ['Hungary']"
   ]
  },
  {
   "cell_type": "code",
   "execution_count": 149,
   "metadata": {},
   "outputs": [],
   "source": [
    "hun_year = df.loc[df[\"team\"].isin(hun)]"
   ]
  },
  {
   "cell_type": "markdown",
   "metadata": {},
   "source": [
    "## 82"
   ]
  },
  {
   "cell_type": "code",
   "execution_count": 150,
   "metadata": {},
   "outputs": [],
   "source": [
    "hun82year = hun_year.loc[hun_year[\"season\"].isin(year1982)]\n"
   ]
  },
  {
   "cell_type": "code",
   "execution_count": 151,
   "metadata": {},
   "outputs": [],
   "source": [
    "hun82xg = hun82year.sort_values(by=[\"goals_z\"], ascending=False)\n"
   ]
  },
  {
   "cell_type": "code",
   "execution_count": 152,
   "metadata": {},
   "outputs": [],
   "source": [
    "hun82xg13 = hun82xg.head(13)\n"
   ]
  },
  {
   "cell_type": "code",
   "execution_count": 153,
   "metadata": {},
   "outputs": [],
   "source": [
    "hun82xg13 = hun82xg13.drop(columns=['season', 'team'])\n"
   ]
  },
  {
   "cell_type": "code",
   "execution_count": 154,
   "metadata": {},
   "outputs": [],
   "source": [
    "hun82 = hun82xg13.mean()"
   ]
  },
  {
   "cell_type": "code",
   "execution_count": 155,
   "metadata": {},
   "outputs": [
    {
     "data": {
      "text/plain": [
       "goals_z            1.336923\n",
       "xg_z               0.056154\n",
       "crosses_z          0.210000\n",
       "boxtouches_z       0.080000\n",
       "passes_z          -0.177692\n",
       "progpasses_z      -0.016923\n",
       "takeons_z          0.033077\n",
       "progruns_z         0.030769\n",
       "tackles_z         -0.496923\n",
       "interceptions_z   -0.477692\n",
       "clearances_z      -0.114615\n",
       "blocks_z          -0.206923\n",
       "aerials_z         -0.243077\n",
       "fouls_z           -0.417692\n",
       "fouled_z          -0.010769\n",
       "nsxg_z             0.020769\n",
       "dtype: float64"
      ]
     },
     "execution_count": 155,
     "metadata": {},
     "output_type": "execute_result"
    }
   ],
   "source": [
    "hun82"
   ]
  },
  {
   "cell_type": "markdown",
   "metadata": {},
   "source": [
    "## 86"
   ]
  },
  {
   "cell_type": "code",
   "execution_count": 156,
   "metadata": {},
   "outputs": [],
   "source": [
    "hun86year = hun_year.loc[hun_year[\"season\"].isin(year1986)]\n"
   ]
  },
  {
   "cell_type": "code",
   "execution_count": 157,
   "metadata": {},
   "outputs": [],
   "source": [
    "hun86xg = hun86year.sort_values(by=[\"goals_z\"], ascending=False)\n"
   ]
  },
  {
   "cell_type": "code",
   "execution_count": 158,
   "metadata": {},
   "outputs": [],
   "source": [
    "hun86xg13 = hun86xg.head(13)\n"
   ]
  },
  {
   "cell_type": "code",
   "execution_count": 159,
   "metadata": {},
   "outputs": [],
   "source": [
    "hun86xg13 = hun86xg13.drop(columns=['season', 'team'])\n"
   ]
  },
  {
   "cell_type": "code",
   "execution_count": 160,
   "metadata": {},
   "outputs": [],
   "source": [
    "hun86 = hun86xg13.mean()"
   ]
  },
  {
   "cell_type": "code",
   "execution_count": 161,
   "metadata": {},
   "outputs": [
    {
     "data": {
      "text/plain": [
       "goals_z           -0.080769\n",
       "xg_z              -0.243846\n",
       "crosses_z         -0.133846\n",
       "boxtouches_z      -0.276154\n",
       "passes_z           0.096154\n",
       "progpasses_z       0.124615\n",
       "takeons_z         -0.200769\n",
       "progruns_z         0.102308\n",
       "tackles_z          0.060000\n",
       "interceptions_z   -0.073077\n",
       "clearances_z       0.062308\n",
       "blocks_z          -0.343077\n",
       "aerials_z         -0.007692\n",
       "fouls_z           -0.325385\n",
       "fouled_z          -0.152308\n",
       "nsxg_z            -0.331538\n",
       "dtype: float64"
      ]
     },
     "execution_count": 161,
     "metadata": {},
     "output_type": "execute_result"
    }
   ],
   "source": [
    "hun86"
   ]
  },
  {
   "cell_type": "code",
   "execution_count": 162,
   "metadata": {},
   "outputs": [],
   "source": [
    "hun = pd.concat([hun86], axis=1).T\n"
   ]
  },
  {
   "cell_type": "code",
   "execution_count": 163,
   "metadata": {},
   "outputs": [],
   "source": [
    "hun.rename(index={0:'Hungary86'}, inplace=True)\n"
   ]
  },
  {
   "cell_type": "code",
   "execution_count": 164,
   "metadata": {},
   "outputs": [],
   "source": [
    "df2 = hun.assign(results=[18])\n"
   ]
  },
  {
   "cell_type": "code",
   "execution_count": 165,
   "metadata": {},
   "outputs": [
    {
     "data": {
      "text/html": [
       "<div>\n",
       "<style scoped>\n",
       "    .dataframe tbody tr th:only-of-type {\n",
       "        vertical-align: middle;\n",
       "    }\n",
       "\n",
       "    .dataframe tbody tr th {\n",
       "        vertical-align: top;\n",
       "    }\n",
       "\n",
       "    .dataframe thead th {\n",
       "        text-align: right;\n",
       "    }\n",
       "</style>\n",
       "<table border=\"1\" class=\"dataframe\">\n",
       "  <thead>\n",
       "    <tr style=\"text-align: right;\">\n",
       "      <th></th>\n",
       "      <th>goals_z</th>\n",
       "      <th>xg_z</th>\n",
       "      <th>crosses_z</th>\n",
       "      <th>boxtouches_z</th>\n",
       "      <th>passes_z</th>\n",
       "      <th>progpasses_z</th>\n",
       "      <th>takeons_z</th>\n",
       "      <th>progruns_z</th>\n",
       "      <th>tackles_z</th>\n",
       "      <th>interceptions_z</th>\n",
       "      <th>clearances_z</th>\n",
       "      <th>blocks_z</th>\n",
       "      <th>aerials_z</th>\n",
       "      <th>fouls_z</th>\n",
       "      <th>fouled_z</th>\n",
       "      <th>nsxg_z</th>\n",
       "      <th>results</th>\n",
       "    </tr>\n",
       "  </thead>\n",
       "  <tbody>\n",
       "    <tr>\n",
       "      <th>Hungary86</th>\n",
       "      <td>-0.080769</td>\n",
       "      <td>-0.243846</td>\n",
       "      <td>-0.133846</td>\n",
       "      <td>-0.276154</td>\n",
       "      <td>0.096154</td>\n",
       "      <td>0.124615</td>\n",
       "      <td>-0.200769</td>\n",
       "      <td>0.102308</td>\n",
       "      <td>0.06</td>\n",
       "      <td>-0.073077</td>\n",
       "      <td>0.062308</td>\n",
       "      <td>-0.343077</td>\n",
       "      <td>-0.007692</td>\n",
       "      <td>-0.325385</td>\n",
       "      <td>-0.152308</td>\n",
       "      <td>-0.331538</td>\n",
       "      <td>18</td>\n",
       "    </tr>\n",
       "  </tbody>\n",
       "</table>\n",
       "</div>"
      ],
      "text/plain": [
       "            goals_z      xg_z  crosses_z  boxtouches_z  passes_z  \\\n",
       "Hungary86 -0.080769 -0.243846  -0.133846     -0.276154  0.096154   \n",
       "\n",
       "           progpasses_z  takeons_z  progruns_z  tackles_z  interceptions_z  \\\n",
       "Hungary86      0.124615  -0.200769    0.102308       0.06        -0.073077   \n",
       "\n",
       "           clearances_z  blocks_z  aerials_z   fouls_z  fouled_z    nsxg_z  \\\n",
       "Hungary86      0.062308 -0.343077  -0.007692 -0.325385 -0.152308 -0.331538   \n",
       "\n",
       "           results  \n",
       "Hungary86       18  "
      ]
     },
     "execution_count": 165,
     "metadata": {},
     "output_type": "execute_result"
    }
   ],
   "source": [
    "df2"
   ]
  },
  {
   "cell_type": "code",
   "execution_count": 166,
   "metadata": {},
   "outputs": [],
   "source": [
    "df2.to_csv('Hungary.csv')\n"
   ]
  },
  {
   "cell_type": "code",
   "execution_count": 167,
   "metadata": {},
   "outputs": [],
   "source": [
    "# 82 - 14      Hungary     3     3     1     1     1     12     6     +6     3\n",
    "# 86 - 18      Hungary     C     3     1     0     2     2     9     −7     2\n"
   ]
  },
  {
   "cell_type": "markdown",
   "metadata": {},
   "source": [
    "## Egypt"
   ]
  },
  {
   "cell_type": "code",
   "execution_count": 168,
   "metadata": {},
   "outputs": [],
   "source": [
    "egy = ['Egypt']"
   ]
  },
  {
   "cell_type": "code",
   "execution_count": 169,
   "metadata": {},
   "outputs": [],
   "source": [
    "egy_year = df.loc[df[\"team\"].isin(egy)]"
   ]
  },
  {
   "cell_type": "markdown",
   "metadata": {},
   "source": [
    "## 90"
   ]
  },
  {
   "cell_type": "code",
   "execution_count": 170,
   "metadata": {},
   "outputs": [],
   "source": [
    "egy90year = egy_year.loc[egy_year[\"season\"].isin(year1990)]"
   ]
  },
  {
   "cell_type": "code",
   "execution_count": 171,
   "metadata": {},
   "outputs": [],
   "source": [
    "egy90xg = egy90year.sort_values(by=[\"goals_z\"], ascending=False)\n"
   ]
  },
  {
   "cell_type": "code",
   "execution_count": 172,
   "metadata": {},
   "outputs": [],
   "source": [
    "egy90xg13 = egy90xg.head(13)\n"
   ]
  },
  {
   "cell_type": "code",
   "execution_count": 173,
   "metadata": {},
   "outputs": [],
   "source": [
    "egy90xg13 = egy90xg13.drop(columns=['season', 'team'])\n"
   ]
  },
  {
   "cell_type": "code",
   "execution_count": 174,
   "metadata": {},
   "outputs": [],
   "source": [
    "egy90 = egy90xg13.mean()"
   ]
  },
  {
   "cell_type": "code",
   "execution_count": 175,
   "metadata": {},
   "outputs": [
    {
     "data": {
      "text/plain": [
       "goals_z           -0.241538\n",
       "xg_z               0.032308\n",
       "crosses_z         -0.363077\n",
       "boxtouches_z      -0.252308\n",
       "passes_z          -0.070769\n",
       "progpasses_z      -0.200000\n",
       "takeons_z          0.012308\n",
       "progruns_z        -0.532308\n",
       "tackles_z         -0.140000\n",
       "interceptions_z   -0.213846\n",
       "clearances_z       0.693077\n",
       "blocks_z          -0.366923\n",
       "aerials_z          0.386923\n",
       "fouls_z            0.150769\n",
       "fouled_z           0.195385\n",
       "nsxg_z            -0.321538\n",
       "dtype: float64"
      ]
     },
     "execution_count": 175,
     "metadata": {},
     "output_type": "execute_result"
    }
   ],
   "source": [
    "egy90"
   ]
  },
  {
   "cell_type": "markdown",
   "metadata": {},
   "source": [
    "## 18"
   ]
  },
  {
   "cell_type": "code",
   "execution_count": 176,
   "metadata": {},
   "outputs": [],
   "source": [
    "egy18year = egy_year.loc[egy_year[\"season\"].isin(year2018)]"
   ]
  },
  {
   "cell_type": "code",
   "execution_count": 177,
   "metadata": {},
   "outputs": [],
   "source": [
    "egy18xg = egy18year.sort_values(by=[\"goals_z\"], ascending=False)\n"
   ]
  },
  {
   "cell_type": "code",
   "execution_count": 178,
   "metadata": {},
   "outputs": [],
   "source": [
    "egy18xg13 = egy18xg.head(13)\n"
   ]
  },
  {
   "cell_type": "code",
   "execution_count": 179,
   "metadata": {},
   "outputs": [],
   "source": [
    "egy18xg13 = egy18xg13.drop(columns=['season', 'team'])\n"
   ]
  },
  {
   "cell_type": "code",
   "execution_count": 180,
   "metadata": {},
   "outputs": [],
   "source": [
    "egy18 = egy18xg13.mean()"
   ]
  },
  {
   "cell_type": "code",
   "execution_count": 181,
   "metadata": {},
   "outputs": [
    {
     "data": {
      "text/plain": [
       "goals_z           -0.066923\n",
       "xg_z              -0.147692\n",
       "crosses_z          0.028462\n",
       "boxtouches_z      -0.050000\n",
       "passes_z          -0.076154\n",
       "progpasses_z       0.314615\n",
       "takeons_z         -0.224615\n",
       "progruns_z         0.122308\n",
       "tackles_z         -0.207692\n",
       "interceptions_z    0.190769\n",
       "clearances_z       0.413846\n",
       "blocks_z          -0.044615\n",
       "aerials_z         -0.035385\n",
       "fouls_z           -0.173846\n",
       "fouled_z          -0.323846\n",
       "nsxg_z            -0.006923\n",
       "dtype: float64"
      ]
     },
     "execution_count": 181,
     "metadata": {},
     "output_type": "execute_result"
    }
   ],
   "source": [
    "egy18"
   ]
  },
  {
   "cell_type": "code",
   "execution_count": 182,
   "metadata": {},
   "outputs": [],
   "source": [
    "egy = pd.concat([egy90, egy18], axis=1).T\n"
   ]
  },
  {
   "cell_type": "code",
   "execution_count": 183,
   "metadata": {},
   "outputs": [],
   "source": [
    "egy.rename(index={0: 'Egypt90', 1: 'Egypt18'}, inplace=True)\n"
   ]
  },
  {
   "cell_type": "code",
   "execution_count": 184,
   "metadata": {},
   "outputs": [],
   "source": [
    "df2 = egy.assign(results=[20, 31])\n"
   ]
  },
  {
   "cell_type": "code",
   "execution_count": 185,
   "metadata": {},
   "outputs": [],
   "source": [
    "df2.to_csv('Egypt.csv')\n"
   ]
  },
  {
   "cell_type": "code",
   "execution_count": 186,
   "metadata": {},
   "outputs": [
    {
     "data": {
      "text/html": [
       "<div>\n",
       "<style scoped>\n",
       "    .dataframe tbody tr th:only-of-type {\n",
       "        vertical-align: middle;\n",
       "    }\n",
       "\n",
       "    .dataframe tbody tr th {\n",
       "        vertical-align: top;\n",
       "    }\n",
       "\n",
       "    .dataframe thead th {\n",
       "        text-align: right;\n",
       "    }\n",
       "</style>\n",
       "<table border=\"1\" class=\"dataframe\">\n",
       "  <thead>\n",
       "    <tr style=\"text-align: right;\">\n",
       "      <th></th>\n",
       "      <th>goals_z</th>\n",
       "      <th>xg_z</th>\n",
       "      <th>crosses_z</th>\n",
       "      <th>boxtouches_z</th>\n",
       "      <th>passes_z</th>\n",
       "      <th>progpasses_z</th>\n",
       "      <th>takeons_z</th>\n",
       "      <th>progruns_z</th>\n",
       "      <th>tackles_z</th>\n",
       "      <th>interceptions_z</th>\n",
       "      <th>clearances_z</th>\n",
       "      <th>blocks_z</th>\n",
       "      <th>aerials_z</th>\n",
       "      <th>fouls_z</th>\n",
       "      <th>fouled_z</th>\n",
       "      <th>nsxg_z</th>\n",
       "      <th>results</th>\n",
       "    </tr>\n",
       "  </thead>\n",
       "  <tbody>\n",
       "    <tr>\n",
       "      <th>Egypt90</th>\n",
       "      <td>-0.241538</td>\n",
       "      <td>0.032308</td>\n",
       "      <td>-0.363077</td>\n",
       "      <td>-0.252308</td>\n",
       "      <td>-0.070769</td>\n",
       "      <td>-0.200000</td>\n",
       "      <td>0.012308</td>\n",
       "      <td>-0.532308</td>\n",
       "      <td>-0.140000</td>\n",
       "      <td>-0.213846</td>\n",
       "      <td>0.693077</td>\n",
       "      <td>-0.366923</td>\n",
       "      <td>0.386923</td>\n",
       "      <td>0.150769</td>\n",
       "      <td>0.195385</td>\n",
       "      <td>-0.321538</td>\n",
       "      <td>20</td>\n",
       "    </tr>\n",
       "    <tr>\n",
       "      <th>Egypt18</th>\n",
       "      <td>-0.066923</td>\n",
       "      <td>-0.147692</td>\n",
       "      <td>0.028462</td>\n",
       "      <td>-0.050000</td>\n",
       "      <td>-0.076154</td>\n",
       "      <td>0.314615</td>\n",
       "      <td>-0.224615</td>\n",
       "      <td>0.122308</td>\n",
       "      <td>-0.207692</td>\n",
       "      <td>0.190769</td>\n",
       "      <td>0.413846</td>\n",
       "      <td>-0.044615</td>\n",
       "      <td>-0.035385</td>\n",
       "      <td>-0.173846</td>\n",
       "      <td>-0.323846</td>\n",
       "      <td>-0.006923</td>\n",
       "      <td>31</td>\n",
       "    </tr>\n",
       "  </tbody>\n",
       "</table>\n",
       "</div>"
      ],
      "text/plain": [
       "          goals_z      xg_z  crosses_z  boxtouches_z  passes_z  progpasses_z  \\\n",
       "Egypt90 -0.241538  0.032308  -0.363077     -0.252308 -0.070769     -0.200000   \n",
       "Egypt18 -0.066923 -0.147692   0.028462     -0.050000 -0.076154      0.314615   \n",
       "\n",
       "         takeons_z  progruns_z  tackles_z  interceptions_z  clearances_z  \\\n",
       "Egypt90   0.012308   -0.532308  -0.140000        -0.213846      0.693077   \n",
       "Egypt18  -0.224615    0.122308  -0.207692         0.190769      0.413846   \n",
       "\n",
       "         blocks_z  aerials_z   fouls_z  fouled_z    nsxg_z  results  \n",
       "Egypt90 -0.366923   0.386923  0.150769  0.195385 -0.321538       20  \n",
       "Egypt18 -0.044615  -0.035385 -0.173846 -0.323846 -0.006923       31  "
      ]
     },
     "execution_count": 186,
     "metadata": {},
     "output_type": "execute_result"
    }
   ],
   "source": [
    "df2"
   ]
  },
  {
   "cell_type": "code",
   "execution_count": 187,
   "metadata": {},
   "outputs": [],
   "source": [
    "# 90 - 20     F      Egypt     3     0     2     1     1     2     −1     2\n",
    "# 18 - 31      Egypt     A     3     0     0     3     0     2     6     −4\n"
   ]
  },
  {
   "cell_type": "code",
   "execution_count": 188,
   "metadata": {},
   "outputs": [],
   "source": [
    "nor = ['Norway']"
   ]
  },
  {
   "cell_type": "code",
   "execution_count": 189,
   "metadata": {},
   "outputs": [],
   "source": [
    "nor_year = df.loc[df[\"team\"].isin(nor)]"
   ]
  },
  {
   "cell_type": "markdown",
   "metadata": {},
   "source": [
    "## 94"
   ]
  },
  {
   "cell_type": "code",
   "execution_count": 190,
   "metadata": {},
   "outputs": [],
   "source": [
    "nor94year = nor_year.loc[nor_year[\"season\"].isin(year1994)]"
   ]
  },
  {
   "cell_type": "code",
   "execution_count": 191,
   "metadata": {},
   "outputs": [],
   "source": [
    "nor94xg = nor94year.sort_values(by=[\"goals_z\"], ascending=False)"
   ]
  },
  {
   "cell_type": "code",
   "execution_count": 192,
   "metadata": {},
   "outputs": [],
   "source": [
    "nor94xg13 = nor94xg.head(13)"
   ]
  },
  {
   "cell_type": "code",
   "execution_count": 193,
   "metadata": {},
   "outputs": [],
   "source": [
    "nor94xg13 = nor94xg13.drop(columns=['season', 'team'])"
   ]
  },
  {
   "cell_type": "code",
   "execution_count": 194,
   "metadata": {},
   "outputs": [],
   "source": [
    "nor94 = nor94xg13.mean()"
   ]
  },
  {
   "cell_type": "code",
   "execution_count": 195,
   "metadata": {},
   "outputs": [],
   "source": [
    "# nor94"
   ]
  },
  {
   "cell_type": "markdown",
   "metadata": {},
   "source": [
    "## 98"
   ]
  },
  {
   "cell_type": "code",
   "execution_count": 196,
   "metadata": {},
   "outputs": [],
   "source": [
    "nor98year = nor_year.loc[nor_year[\"season\"].isin(year1998)]"
   ]
  },
  {
   "cell_type": "code",
   "execution_count": 197,
   "metadata": {},
   "outputs": [],
   "source": [
    "nor98xg = nor98year.sort_values(by=[\"goals_z\"], ascending=False)"
   ]
  },
  {
   "cell_type": "code",
   "execution_count": 198,
   "metadata": {},
   "outputs": [],
   "source": [
    "nor98xg13 = nor98xg.head(13)"
   ]
  },
  {
   "cell_type": "code",
   "execution_count": 199,
   "metadata": {},
   "outputs": [],
   "source": [
    "nor98xg13 = nor98xg13.drop(columns=['season', 'team'])"
   ]
  },
  {
   "cell_type": "code",
   "execution_count": 200,
   "metadata": {},
   "outputs": [],
   "source": [
    "nor98 = nor98xg13.mean()"
   ]
  },
  {
   "cell_type": "code",
   "execution_count": 201,
   "metadata": {},
   "outputs": [],
   "source": [
    "# nor98"
   ]
  },
  {
   "cell_type": "code",
   "execution_count": 202,
   "metadata": {},
   "outputs": [],
   "source": [
    "nor = pd.concat([nor94, nor98], axis=1).T\n"
   ]
  },
  {
   "cell_type": "code",
   "execution_count": 203,
   "metadata": {},
   "outputs": [],
   "source": [
    "nor.rename(index={0: 'Norway94', 1: 'Norway98'}, inplace=True)\n"
   ]
  },
  {
   "cell_type": "code",
   "execution_count": 204,
   "metadata": {},
   "outputs": [],
   "source": [
    "df2 = nor.assign(results=[17, 15])\n"
   ]
  },
  {
   "cell_type": "code",
   "execution_count": 205,
   "metadata": {},
   "outputs": [
    {
     "data": {
      "text/html": [
       "<div>\n",
       "<style scoped>\n",
       "    .dataframe tbody tr th:only-of-type {\n",
       "        vertical-align: middle;\n",
       "    }\n",
       "\n",
       "    .dataframe tbody tr th {\n",
       "        vertical-align: top;\n",
       "    }\n",
       "\n",
       "    .dataframe thead th {\n",
       "        text-align: right;\n",
       "    }\n",
       "</style>\n",
       "<table border=\"1\" class=\"dataframe\">\n",
       "  <thead>\n",
       "    <tr style=\"text-align: right;\">\n",
       "      <th></th>\n",
       "      <th>goals_z</th>\n",
       "      <th>xg_z</th>\n",
       "      <th>crosses_z</th>\n",
       "      <th>boxtouches_z</th>\n",
       "      <th>passes_z</th>\n",
       "      <th>progpasses_z</th>\n",
       "      <th>takeons_z</th>\n",
       "      <th>progruns_z</th>\n",
       "      <th>tackles_z</th>\n",
       "      <th>interceptions_z</th>\n",
       "      <th>clearances_z</th>\n",
       "      <th>blocks_z</th>\n",
       "      <th>aerials_z</th>\n",
       "      <th>fouls_z</th>\n",
       "      <th>fouled_z</th>\n",
       "      <th>nsxg_z</th>\n",
       "      <th>results</th>\n",
       "    </tr>\n",
       "  </thead>\n",
       "  <tbody>\n",
       "    <tr>\n",
       "      <th>Norway94</th>\n",
       "      <td>-0.255385</td>\n",
       "      <td>-0.252308</td>\n",
       "      <td>-0.103846</td>\n",
       "      <td>0.160000</td>\n",
       "      <td>-0.468462</td>\n",
       "      <td>-0.230769</td>\n",
       "      <td>-0.443077</td>\n",
       "      <td>-0.484615</td>\n",
       "      <td>-0.531538</td>\n",
       "      <td>-0.543077</td>\n",
       "      <td>0.413846</td>\n",
       "      <td>-0.121538</td>\n",
       "      <td>0.877692</td>\n",
       "      <td>0.418462</td>\n",
       "      <td>-0.240769</td>\n",
       "      <td>-0.122308</td>\n",
       "      <td>17</td>\n",
       "    </tr>\n",
       "    <tr>\n",
       "      <th>Norway98</th>\n",
       "      <td>0.053846</td>\n",
       "      <td>0.193846</td>\n",
       "      <td>0.556154</td>\n",
       "      <td>0.261538</td>\n",
       "      <td>-0.200769</td>\n",
       "      <td>0.173077</td>\n",
       "      <td>-0.213846</td>\n",
       "      <td>-0.137692</td>\n",
       "      <td>-0.478462</td>\n",
       "      <td>-0.553077</td>\n",
       "      <td>0.149231</td>\n",
       "      <td>-0.236154</td>\n",
       "      <td>0.799231</td>\n",
       "      <td>-0.047692</td>\n",
       "      <td>-0.220769</td>\n",
       "      <td>0.576923</td>\n",
       "      <td>15</td>\n",
       "    </tr>\n",
       "  </tbody>\n",
       "</table>\n",
       "</div>"
      ],
      "text/plain": [
       "           goals_z      xg_z  crosses_z  boxtouches_z  passes_z  progpasses_z  \\\n",
       "Norway94 -0.255385 -0.252308  -0.103846      0.160000 -0.468462     -0.230769   \n",
       "Norway98  0.053846  0.193846   0.556154      0.261538 -0.200769      0.173077   \n",
       "\n",
       "          takeons_z  progruns_z  tackles_z  interceptions_z  clearances_z  \\\n",
       "Norway94  -0.443077   -0.484615  -0.531538        -0.543077      0.413846   \n",
       "Norway98  -0.213846   -0.137692  -0.478462        -0.553077      0.149231   \n",
       "\n",
       "          blocks_z  aerials_z   fouls_z  fouled_z    nsxg_z  results  \n",
       "Norway94 -0.121538   0.877692  0.418462 -0.240769 -0.122308       17  \n",
       "Norway98 -0.236154   0.799231 -0.047692 -0.220769  0.576923       15  "
      ]
     },
     "execution_count": 205,
     "metadata": {},
     "output_type": "execute_result"
    }
   ],
   "source": [
    "df2"
   ]
  },
  {
   "cell_type": "code",
   "execution_count": 206,
   "metadata": {},
   "outputs": [],
   "source": [
    "df2.to_csv('Norway.csv')\n"
   ]
  },
  {
   "cell_type": "code",
   "execution_count": 207,
   "metadata": {},
   "outputs": [],
   "source": [
    "# 94 - 17      Norway     E     3     1     1     1     1     1     0     4\n",
    "# 98 - 15      Norway     A     4     1     2     1     5     5     0     5"
   ]
  },
  {
   "cell_type": "markdown",
   "metadata": {},
   "source": [
    "# Northern Ireland"
   ]
  },
  {
   "cell_type": "code",
   "execution_count": 208,
   "metadata": {},
   "outputs": [],
   "source": [
    "nir = ['Northern Ireland']"
   ]
  },
  {
   "cell_type": "code",
   "execution_count": 209,
   "metadata": {},
   "outputs": [],
   "source": [
    "nir_year = df.loc[df[\"team\"].isin(nir)]"
   ]
  },
  {
   "cell_type": "markdown",
   "metadata": {},
   "source": [
    "## 82"
   ]
  },
  {
   "cell_type": "code",
   "execution_count": 210,
   "metadata": {},
   "outputs": [],
   "source": [
    "nir82year = nir_year.loc[nir_year[\"season\"].isin(year1982)]"
   ]
  },
  {
   "cell_type": "code",
   "execution_count": 211,
   "metadata": {},
   "outputs": [],
   "source": [
    "nir82xg = nir82year.sort_values(by=[\"goals_z\"], ascending=False)"
   ]
  },
  {
   "cell_type": "code",
   "execution_count": 212,
   "metadata": {},
   "outputs": [],
   "source": [
    "nir82xg13 = nir82xg.head(13)"
   ]
  },
  {
   "cell_type": "code",
   "execution_count": 213,
   "metadata": {},
   "outputs": [],
   "source": [
    "nir82xg13 = nir82xg13.drop(columns=['season', 'team'])"
   ]
  },
  {
   "cell_type": "code",
   "execution_count": 214,
   "metadata": {},
   "outputs": [],
   "source": [
    "nir82 = nir82xg13.mean()"
   ]
  },
  {
   "cell_type": "code",
   "execution_count": 215,
   "metadata": {},
   "outputs": [],
   "source": [
    "# nir82"
   ]
  },
  {
   "cell_type": "markdown",
   "metadata": {},
   "source": [
    "## 86"
   ]
  },
  {
   "cell_type": "code",
   "execution_count": 216,
   "metadata": {},
   "outputs": [],
   "source": [
    "nir86year = nir_year.loc[nir_year[\"season\"].isin(year1986)]"
   ]
  },
  {
   "cell_type": "code",
   "execution_count": 217,
   "metadata": {},
   "outputs": [],
   "source": [
    "nir86xg = nir86year.sort_values(by=[\"goals_z\"], ascending=False)"
   ]
  },
  {
   "cell_type": "code",
   "execution_count": 218,
   "metadata": {},
   "outputs": [],
   "source": [
    "nir86xg13 = nir86xg.head(13)"
   ]
  },
  {
   "cell_type": "code",
   "execution_count": 219,
   "metadata": {},
   "outputs": [],
   "source": [
    "nir86xg13 = nir86xg13.drop(columns=['season', 'team'])"
   ]
  },
  {
   "cell_type": "code",
   "execution_count": 220,
   "metadata": {},
   "outputs": [],
   "source": [
    "nir86 = nir86xg13.mean()"
   ]
  },
  {
   "cell_type": "code",
   "execution_count": 221,
   "metadata": {},
   "outputs": [],
   "source": [
    "# nir86"
   ]
  },
  {
   "cell_type": "code",
   "execution_count": 222,
   "metadata": {},
   "outputs": [],
   "source": [
    "nir = pd.concat([nir82, nir86], axis=1).T\n"
   ]
  },
  {
   "cell_type": "code",
   "execution_count": 223,
   "metadata": {},
   "outputs": [],
   "source": [
    "nir.rename(index={0: 'NorthernIreland82', 1: 'NorthernIreland86'}, inplace=True)\n"
   ]
  },
  {
   "cell_type": "code",
   "execution_count": 224,
   "metadata": {},
   "outputs": [],
   "source": [
    "df2 = nir.assign(results=[9, 21])\n"
   ]
  },
  {
   "cell_type": "code",
   "execution_count": 225,
   "metadata": {},
   "outputs": [
    {
     "data": {
      "text/html": [
       "<div>\n",
       "<style scoped>\n",
       "    .dataframe tbody tr th:only-of-type {\n",
       "        vertical-align: middle;\n",
       "    }\n",
       "\n",
       "    .dataframe tbody tr th {\n",
       "        vertical-align: top;\n",
       "    }\n",
       "\n",
       "    .dataframe thead th {\n",
       "        text-align: right;\n",
       "    }\n",
       "</style>\n",
       "<table border=\"1\" class=\"dataframe\">\n",
       "  <thead>\n",
       "    <tr style=\"text-align: right;\">\n",
       "      <th></th>\n",
       "      <th>goals_z</th>\n",
       "      <th>xg_z</th>\n",
       "      <th>crosses_z</th>\n",
       "      <th>boxtouches_z</th>\n",
       "      <th>passes_z</th>\n",
       "      <th>progpasses_z</th>\n",
       "      <th>takeons_z</th>\n",
       "      <th>progruns_z</th>\n",
       "      <th>tackles_z</th>\n",
       "      <th>interceptions_z</th>\n",
       "      <th>clearances_z</th>\n",
       "      <th>blocks_z</th>\n",
       "      <th>aerials_z</th>\n",
       "      <th>fouls_z</th>\n",
       "      <th>fouled_z</th>\n",
       "      <th>nsxg_z</th>\n",
       "      <th>results</th>\n",
       "    </tr>\n",
       "  </thead>\n",
       "  <tbody>\n",
       "    <tr>\n",
       "      <th>NorthernIreland82</th>\n",
       "      <td>-0.040769</td>\n",
       "      <td>-0.080000</td>\n",
       "      <td>0.228462</td>\n",
       "      <td>0.070000</td>\n",
       "      <td>0.129231</td>\n",
       "      <td>-0.08</td>\n",
       "      <td>0.228462</td>\n",
       "      <td>0.196923</td>\n",
       "      <td>-0.052308</td>\n",
       "      <td>-0.171538</td>\n",
       "      <td>0.363846</td>\n",
       "      <td>-0.180769</td>\n",
       "      <td>0.694615</td>\n",
       "      <td>0.533077</td>\n",
       "      <td>0.036923</td>\n",
       "      <td>-0.096154</td>\n",
       "      <td>9</td>\n",
       "    </tr>\n",
       "    <tr>\n",
       "      <th>NorthernIreland86</th>\n",
       "      <td>-0.080769</td>\n",
       "      <td>-0.117692</td>\n",
       "      <td>0.041538</td>\n",
       "      <td>0.096154</td>\n",
       "      <td>0.186154</td>\n",
       "      <td>0.11</td>\n",
       "      <td>-0.368462</td>\n",
       "      <td>0.042308</td>\n",
       "      <td>-0.252308</td>\n",
       "      <td>-0.033077</td>\n",
       "      <td>0.213077</td>\n",
       "      <td>0.016154</td>\n",
       "      <td>0.684615</td>\n",
       "      <td>0.337692</td>\n",
       "      <td>0.056923</td>\n",
       "      <td>0.191538</td>\n",
       "      <td>21</td>\n",
       "    </tr>\n",
       "  </tbody>\n",
       "</table>\n",
       "</div>"
      ],
      "text/plain": [
       "                    goals_z      xg_z  crosses_z  boxtouches_z  passes_z  \\\n",
       "NorthernIreland82 -0.040769 -0.080000   0.228462      0.070000  0.129231   \n",
       "NorthernIreland86 -0.080769 -0.117692   0.041538      0.096154  0.186154   \n",
       "\n",
       "                   progpasses_z  takeons_z  progruns_z  tackles_z  \\\n",
       "NorthernIreland82         -0.08   0.228462    0.196923  -0.052308   \n",
       "NorthernIreland86          0.11  -0.368462    0.042308  -0.252308   \n",
       "\n",
       "                   interceptions_z  clearances_z  blocks_z  aerials_z  \\\n",
       "NorthernIreland82        -0.171538      0.363846 -0.180769   0.694615   \n",
       "NorthernIreland86        -0.033077      0.213077  0.016154   0.684615   \n",
       "\n",
       "                    fouls_z  fouled_z    nsxg_z  results  \n",
       "NorthernIreland82  0.533077  0.036923 -0.096154        9  \n",
       "NorthernIreland86  0.337692  0.056923  0.191538       21  "
      ]
     },
     "execution_count": 225,
     "metadata": {},
     "output_type": "execute_result"
    }
   ],
   "source": [
    "df2"
   ]
  },
  {
   "cell_type": "code",
   "execution_count": 226,
   "metadata": {},
   "outputs": [],
   "source": [
    "df2.to_csv('NorthernIreland.csv')\n"
   ]
  },
  {
   "cell_type": "code",
   "execution_count": 227,
   "metadata": {},
   "outputs": [],
   "source": [
    "# 82 - 9      Northern Ireland     5/D     5     1     3     1     5     7     −2     5\n",
    "# 86 - 21      Northern Ireland     D     3     0     1     2     2     6     −4     1\n"
   ]
  },
  {
   "cell_type": "markdown",
   "metadata": {},
   "source": [
    "## Peru"
   ]
  },
  {
   "cell_type": "code",
   "execution_count": 228,
   "metadata": {},
   "outputs": [],
   "source": [
    "per = ['Peru']"
   ]
  },
  {
   "cell_type": "code",
   "execution_count": 229,
   "metadata": {},
   "outputs": [],
   "source": [
    "per_year = df.loc[df[\"team\"].isin(per)]"
   ]
  },
  {
   "cell_type": "markdown",
   "metadata": {},
   "source": [
    "## 82"
   ]
  },
  {
   "cell_type": "code",
   "execution_count": 230,
   "metadata": {},
   "outputs": [],
   "source": [
    "per82year = per_year.loc[per_year[\"season\"].isin(year1982)]"
   ]
  },
  {
   "cell_type": "code",
   "execution_count": 231,
   "metadata": {},
   "outputs": [],
   "source": [
    "per82xg = per82year.sort_values(by=[\"goals_z\"], ascending=False)"
   ]
  },
  {
   "cell_type": "code",
   "execution_count": 232,
   "metadata": {},
   "outputs": [],
   "source": [
    "per82xg13 = per82xg.head(13)\n"
   ]
  },
  {
   "cell_type": "code",
   "execution_count": 233,
   "metadata": {},
   "outputs": [],
   "source": [
    "per82xg13 = per82xg13.drop(columns=['season', 'team'])"
   ]
  },
  {
   "cell_type": "code",
   "execution_count": 234,
   "metadata": {},
   "outputs": [],
   "source": [
    "per82 = per82xg13.mean()"
   ]
  },
  {
   "cell_type": "code",
   "execution_count": 235,
   "metadata": {},
   "outputs": [],
   "source": [
    "# per82"
   ]
  },
  {
   "cell_type": "markdown",
   "metadata": {},
   "source": [
    "\n",
    "## 18"
   ]
  },
  {
   "cell_type": "code",
   "execution_count": 236,
   "metadata": {},
   "outputs": [],
   "source": [
    "per18year = per_year.loc[per_year[\"season\"].isin(year2018)]"
   ]
  },
  {
   "cell_type": "code",
   "execution_count": 237,
   "metadata": {},
   "outputs": [],
   "source": [
    "per18xg = per18year.sort_values(by=[\"goals_z\"], ascending=False)"
   ]
  },
  {
   "cell_type": "code",
   "execution_count": 238,
   "metadata": {},
   "outputs": [],
   "source": [
    "per18xg13 = per18xg.head(13)\n"
   ]
  },
  {
   "cell_type": "code",
   "execution_count": 239,
   "metadata": {},
   "outputs": [],
   "source": [
    "per18xg13 = per18xg13.drop(columns=['season', 'team'])"
   ]
  },
  {
   "cell_type": "code",
   "execution_count": 240,
   "metadata": {},
   "outputs": [],
   "source": [
    "per18 = per18xg13.mean()"
   ]
  },
  {
   "cell_type": "code",
   "execution_count": 241,
   "metadata": {},
   "outputs": [],
   "source": [
    "# per18"
   ]
  },
  {
   "cell_type": "code",
   "execution_count": 242,
   "metadata": {},
   "outputs": [],
   "source": [
    "per = pd.concat([per82, per18], axis=1).T\n"
   ]
  },
  {
   "cell_type": "code",
   "execution_count": 243,
   "metadata": {},
   "outputs": [],
   "source": [
    "per.rename(index={0: 'Peru82', 1: 'Peru18'}, inplace=True)\n"
   ]
  },
  {
   "cell_type": "code",
   "execution_count": 244,
   "metadata": {},
   "outputs": [],
   "source": [
    "df2 = per.assign(results=[20, 20])\n"
   ]
  },
  {
   "cell_type": "code",
   "execution_count": 245,
   "metadata": {},
   "outputs": [
    {
     "data": {
      "text/html": [
       "<div>\n",
       "<style scoped>\n",
       "    .dataframe tbody tr th:only-of-type {\n",
       "        vertical-align: middle;\n",
       "    }\n",
       "\n",
       "    .dataframe tbody tr th {\n",
       "        vertical-align: top;\n",
       "    }\n",
       "\n",
       "    .dataframe thead th {\n",
       "        text-align: right;\n",
       "    }\n",
       "</style>\n",
       "<table border=\"1\" class=\"dataframe\">\n",
       "  <thead>\n",
       "    <tr style=\"text-align: right;\">\n",
       "      <th></th>\n",
       "      <th>goals_z</th>\n",
       "      <th>xg_z</th>\n",
       "      <th>crosses_z</th>\n",
       "      <th>boxtouches_z</th>\n",
       "      <th>passes_z</th>\n",
       "      <th>progpasses_z</th>\n",
       "      <th>takeons_z</th>\n",
       "      <th>progruns_z</th>\n",
       "      <th>tackles_z</th>\n",
       "      <th>interceptions_z</th>\n",
       "      <th>clearances_z</th>\n",
       "      <th>blocks_z</th>\n",
       "      <th>aerials_z</th>\n",
       "      <th>fouls_z</th>\n",
       "      <th>fouled_z</th>\n",
       "      <th>nsxg_z</th>\n",
       "      <th>results</th>\n",
       "    </tr>\n",
       "  </thead>\n",
       "  <tbody>\n",
       "    <tr>\n",
       "      <th>Peru82</th>\n",
       "      <td>-0.193846</td>\n",
       "      <td>0.180000</td>\n",
       "      <td>-0.076154</td>\n",
       "      <td>0.155385</td>\n",
       "      <td>0.211538</td>\n",
       "      <td>0.376923</td>\n",
       "      <td>0.119231</td>\n",
       "      <td>-0.099231</td>\n",
       "      <td>0.183077</td>\n",
       "      <td>0.181538</td>\n",
       "      <td>0.133077</td>\n",
       "      <td>0.119231</td>\n",
       "      <td>0.113077</td>\n",
       "      <td>0.640000</td>\n",
       "      <td>0.833077</td>\n",
       "      <td>0.370000</td>\n",
       "      <td>20</td>\n",
       "    </tr>\n",
       "    <tr>\n",
       "      <th>Peru18</th>\n",
       "      <td>-0.066154</td>\n",
       "      <td>-0.143846</td>\n",
       "      <td>-0.150769</td>\n",
       "      <td>0.256154</td>\n",
       "      <td>0.185385</td>\n",
       "      <td>0.366923</td>\n",
       "      <td>-0.002308</td>\n",
       "      <td>0.240000</td>\n",
       "      <td>0.542308</td>\n",
       "      <td>0.206154</td>\n",
       "      <td>0.380769</td>\n",
       "      <td>0.153077</td>\n",
       "      <td>0.009231</td>\n",
       "      <td>-0.100769</td>\n",
       "      <td>0.133077</td>\n",
       "      <td>-0.080769</td>\n",
       "      <td>20</td>\n",
       "    </tr>\n",
       "  </tbody>\n",
       "</table>\n",
       "</div>"
      ],
      "text/plain": [
       "         goals_z      xg_z  crosses_z  boxtouches_z  passes_z  progpasses_z  \\\n",
       "Peru82 -0.193846  0.180000  -0.076154      0.155385  0.211538      0.376923   \n",
       "Peru18 -0.066154 -0.143846  -0.150769      0.256154  0.185385      0.366923   \n",
       "\n",
       "        takeons_z  progruns_z  tackles_z  interceptions_z  clearances_z  \\\n",
       "Peru82   0.119231   -0.099231   0.183077         0.181538      0.133077   \n",
       "Peru18  -0.002308    0.240000   0.542308         0.206154      0.380769   \n",
       "\n",
       "        blocks_z  aerials_z   fouls_z  fouled_z    nsxg_z  results  \n",
       "Peru82  0.119231   0.113077  0.640000  0.833077  0.370000       20  \n",
       "Peru18  0.153077   0.009231 -0.100769  0.133077 -0.080769       20  "
      ]
     },
     "execution_count": 245,
     "metadata": {},
     "output_type": "execute_result"
    }
   ],
   "source": [
    "df2"
   ]
  },
  {
   "cell_type": "code",
   "execution_count": 246,
   "metadata": {},
   "outputs": [],
   "source": [
    "df2.to_csv('Peru.csv')\n"
   ]
  },
  {
   "cell_type": "code",
   "execution_count": 247,
   "metadata": {},
   "outputs": [],
   "source": [
    "# 82 - 20      Peru     1     3     0     2     1     2     6     −4     2\n",
    "# 18 - 20      Peru     C     3     1     0     2     3     2     2     0\n"
   ]
  },
  {
   "cell_type": "markdown",
   "metadata": {},
   "source": [
    "# New Zealand"
   ]
  },
  {
   "cell_type": "code",
   "execution_count": 248,
   "metadata": {},
   "outputs": [],
   "source": [
    "nze = ['New Zealand']"
   ]
  },
  {
   "cell_type": "code",
   "execution_count": 249,
   "metadata": {},
   "outputs": [],
   "source": [
    "nze_year = df.loc[df[\"team\"].isin(nze)]"
   ]
  },
  {
   "cell_type": "markdown",
   "metadata": {},
   "source": [
    "## 82"
   ]
  },
  {
   "cell_type": "code",
   "execution_count": 250,
   "metadata": {},
   "outputs": [],
   "source": [
    "nze82year = nze_year.loc[nze_year[\"season\"].isin(year1982)]\n"
   ]
  },
  {
   "cell_type": "code",
   "execution_count": 251,
   "metadata": {},
   "outputs": [],
   "source": [
    "nze82xg = nze82year.sort_values(by=[\"goals_z\"], ascending=False)\n"
   ]
  },
  {
   "cell_type": "code",
   "execution_count": 252,
   "metadata": {},
   "outputs": [],
   "source": [
    "nze82xg13 = nze82xg.head(13)\n"
   ]
  },
  {
   "cell_type": "code",
   "execution_count": 253,
   "metadata": {},
   "outputs": [],
   "source": [
    "nze82xg13 = nze82xg13.drop(columns=['season', 'team'])\n"
   ]
  },
  {
   "cell_type": "code",
   "execution_count": 254,
   "metadata": {},
   "outputs": [],
   "source": [
    "nze82 = nze82xg13.mean()"
   ]
  },
  {
   "cell_type": "code",
   "execution_count": 255,
   "metadata": {},
   "outputs": [],
   "source": [
    "# nze82"
   ]
  },
  {
   "cell_type": "markdown",
   "metadata": {},
   "source": [
    "## 10"
   ]
  },
  {
   "cell_type": "code",
   "execution_count": 256,
   "metadata": {},
   "outputs": [],
   "source": [
    "nze10year = nze_year.loc[nze_year[\"season\"].isin(year2010)]\n"
   ]
  },
  {
   "cell_type": "code",
   "execution_count": 257,
   "metadata": {},
   "outputs": [],
   "source": [
    "nze10xg = nze10year.sort_values(by=[\"goals_z\"], ascending=False)\n"
   ]
  },
  {
   "cell_type": "code",
   "execution_count": 258,
   "metadata": {},
   "outputs": [],
   "source": [
    "nze10xg13 = nze10xg.head(13)\n"
   ]
  },
  {
   "cell_type": "code",
   "execution_count": 259,
   "metadata": {},
   "outputs": [],
   "source": [
    "nze10xg13 = nze10xg13.drop(columns=['season', 'team'])\n"
   ]
  },
  {
   "cell_type": "code",
   "execution_count": 260,
   "metadata": {},
   "outputs": [],
   "source": [
    "nze10 = nze10xg13.mean()"
   ]
  },
  {
   "cell_type": "code",
   "execution_count": 261,
   "metadata": {},
   "outputs": [],
   "source": [
    "# nze10"
   ]
  },
  {
   "cell_type": "code",
   "execution_count": 262,
   "metadata": {},
   "outputs": [],
   "source": [
    "nze = pd.concat([nze82, nze10], axis=1).T\n"
   ]
  },
  {
   "cell_type": "code",
   "execution_count": 263,
   "metadata": {},
   "outputs": [],
   "source": [
    "nze.rename(index={0: 'NewZealand82', 1: 'NewZealand10'}, inplace=True)\n"
   ]
  },
  {
   "cell_type": "code",
   "execution_count": 264,
   "metadata": {},
   "outputs": [],
   "source": [
    "df2 = nze.assign(results=[23, 22])\n"
   ]
  },
  {
   "cell_type": "code",
   "execution_count": 265,
   "metadata": {},
   "outputs": [
    {
     "data": {
      "text/html": [
       "<div>\n",
       "<style scoped>\n",
       "    .dataframe tbody tr th:only-of-type {\n",
       "        vertical-align: middle;\n",
       "    }\n",
       "\n",
       "    .dataframe tbody tr th {\n",
       "        vertical-align: top;\n",
       "    }\n",
       "\n",
       "    .dataframe thead th {\n",
       "        text-align: right;\n",
       "    }\n",
       "</style>\n",
       "<table border=\"1\" class=\"dataframe\">\n",
       "  <thead>\n",
       "    <tr style=\"text-align: right;\">\n",
       "      <th></th>\n",
       "      <th>goals_z</th>\n",
       "      <th>xg_z</th>\n",
       "      <th>crosses_z</th>\n",
       "      <th>boxtouches_z</th>\n",
       "      <th>passes_z</th>\n",
       "      <th>progpasses_z</th>\n",
       "      <th>takeons_z</th>\n",
       "      <th>progruns_z</th>\n",
       "      <th>tackles_z</th>\n",
       "      <th>interceptions_z</th>\n",
       "      <th>clearances_z</th>\n",
       "      <th>blocks_z</th>\n",
       "      <th>aerials_z</th>\n",
       "      <th>fouls_z</th>\n",
       "      <th>fouled_z</th>\n",
       "      <th>nsxg_z</th>\n",
       "      <th>results</th>\n",
       "    </tr>\n",
       "  </thead>\n",
       "  <tbody>\n",
       "    <tr>\n",
       "      <th>NewZealand82</th>\n",
       "      <td>-0.193846</td>\n",
       "      <td>-0.290769</td>\n",
       "      <td>-0.075385</td>\n",
       "      <td>-0.372308</td>\n",
       "      <td>-0.380000</td>\n",
       "      <td>-0.211538</td>\n",
       "      <td>-0.340000</td>\n",
       "      <td>-0.636923</td>\n",
       "      <td>-0.611538</td>\n",
       "      <td>-0.588462</td>\n",
       "      <td>0.342308</td>\n",
       "      <td>-0.099231</td>\n",
       "      <td>0.266154</td>\n",
       "      <td>-0.360000</td>\n",
       "      <td>-0.209231</td>\n",
       "      <td>-0.310000</td>\n",
       "      <td>23</td>\n",
       "    </tr>\n",
       "    <tr>\n",
       "      <th>NewZealand10</th>\n",
       "      <td>-0.044615</td>\n",
       "      <td>-0.314615</td>\n",
       "      <td>-0.078462</td>\n",
       "      <td>-0.232308</td>\n",
       "      <td>-0.153077</td>\n",
       "      <td>-0.076154</td>\n",
       "      <td>0.004615</td>\n",
       "      <td>-0.446154</td>\n",
       "      <td>-0.537692</td>\n",
       "      <td>-0.330000</td>\n",
       "      <td>0.531538</td>\n",
       "      <td>-0.081538</td>\n",
       "      <td>-0.033077</td>\n",
       "      <td>0.741538</td>\n",
       "      <td>0.106923</td>\n",
       "      <td>-0.129231</td>\n",
       "      <td>22</td>\n",
       "    </tr>\n",
       "  </tbody>\n",
       "</table>\n",
       "</div>"
      ],
      "text/plain": [
       "               goals_z      xg_z  crosses_z  boxtouches_z  passes_z  \\\n",
       "NewZealand82 -0.193846 -0.290769  -0.075385     -0.372308 -0.380000   \n",
       "NewZealand10 -0.044615 -0.314615  -0.078462     -0.232308 -0.153077   \n",
       "\n",
       "              progpasses_z  takeons_z  progruns_z  tackles_z  interceptions_z  \\\n",
       "NewZealand82     -0.211538  -0.340000   -0.636923  -0.611538        -0.588462   \n",
       "NewZealand10     -0.076154   0.004615   -0.446154  -0.537692        -0.330000   \n",
       "\n",
       "              clearances_z  blocks_z  aerials_z   fouls_z  fouled_z    nsxg_z  \\\n",
       "NewZealand82      0.342308 -0.099231   0.266154 -0.360000 -0.209231 -0.310000   \n",
       "NewZealand10      0.531538 -0.081538  -0.033077  0.741538  0.106923 -0.129231   \n",
       "\n",
       "              results  \n",
       "NewZealand82       23  \n",
       "NewZealand10       22  "
      ]
     },
     "execution_count": 265,
     "metadata": {},
     "output_type": "execute_result"
    }
   ],
   "source": [
    "df2"
   ]
  },
  {
   "cell_type": "code",
   "execution_count": 266,
   "metadata": {},
   "outputs": [],
   "source": [
    "df2.to_csv('NewZealand.csv')\n"
   ]
  },
  {
   "cell_type": "code",
   "execution_count": 267,
   "metadata": {},
   "outputs": [],
   "source": [
    "# 82 - 23      New Zealand     6     3     0     0     3     2     12     −10     0\n",
    "# 10 - 22      New Zealand     F     3     0     3     0     2     2     0     3\n"
   ]
  },
  {
   "cell_type": "markdown",
   "metadata": {},
   "source": [
    "## Bosnia and Herzegovina"
   ]
  },
  {
   "cell_type": "code",
   "execution_count": 268,
   "metadata": {},
   "outputs": [],
   "source": [
    "bos = ['Bosnia and Herzegovina']\n",
    "\n"
   ]
  },
  {
   "cell_type": "code",
   "execution_count": 269,
   "metadata": {},
   "outputs": [],
   "source": [
    "\n",
    "bos_year = df.loc[df[\"team\"].isin(bos)]"
   ]
  },
  {
   "cell_type": "markdown",
   "metadata": {},
   "source": [
    "## 14"
   ]
  },
  {
   "cell_type": "code",
   "execution_count": null,
   "metadata": {},
   "outputs": [],
   "source": []
  },
  {
   "cell_type": "code",
   "execution_count": 270,
   "metadata": {},
   "outputs": [],
   "source": [
    "bos14year = bos_year.loc[bos_year[\"season\"].isin(year2014)]\n"
   ]
  },
  {
   "cell_type": "code",
   "execution_count": 271,
   "metadata": {},
   "outputs": [],
   "source": [
    "bos14xg = bos14year.sort_values(by=[\"goals_z\"], ascending=False)\n"
   ]
  },
  {
   "cell_type": "code",
   "execution_count": 272,
   "metadata": {},
   "outputs": [],
   "source": [
    "bos14xg13 = bos14xg.head(13)\n"
   ]
  },
  {
   "cell_type": "code",
   "execution_count": 273,
   "metadata": {},
   "outputs": [],
   "source": [
    "bos14xg13 = bos14xg13.drop(columns=['season', 'team'])\n"
   ]
  },
  {
   "cell_type": "code",
   "execution_count": 274,
   "metadata": {},
   "outputs": [],
   "source": [
    "bos14 = bos14xg13.mean()"
   ]
  },
  {
   "cell_type": "code",
   "execution_count": 275,
   "metadata": {},
   "outputs": [],
   "source": [
    "# bos14"
   ]
  },
  {
   "cell_type": "code",
   "execution_count": 276,
   "metadata": {},
   "outputs": [],
   "source": [
    "bos = pd.concat([bos14], axis=1).T\n"
   ]
  },
  {
   "cell_type": "code",
   "execution_count": 277,
   "metadata": {},
   "outputs": [],
   "source": [
    "bos.rename(index={0: 'Bosnia14'}, inplace=True)\n"
   ]
  },
  {
   "cell_type": "code",
   "execution_count": 278,
   "metadata": {},
   "outputs": [],
   "source": [
    "df2 = bos.assign(results=[20])\n"
   ]
  },
  {
   "cell_type": "code",
   "execution_count": 279,
   "metadata": {},
   "outputs": [
    {
     "data": {
      "text/html": [
       "<div>\n",
       "<style scoped>\n",
       "    .dataframe tbody tr th:only-of-type {\n",
       "        vertical-align: middle;\n",
       "    }\n",
       "\n",
       "    .dataframe tbody tr th {\n",
       "        vertical-align: top;\n",
       "    }\n",
       "\n",
       "    .dataframe thead th {\n",
       "        text-align: right;\n",
       "    }\n",
       "</style>\n",
       "<table border=\"1\" class=\"dataframe\">\n",
       "  <thead>\n",
       "    <tr style=\"text-align: right;\">\n",
       "      <th></th>\n",
       "      <th>goals_z</th>\n",
       "      <th>xg_z</th>\n",
       "      <th>crosses_z</th>\n",
       "      <th>boxtouches_z</th>\n",
       "      <th>passes_z</th>\n",
       "      <th>progpasses_z</th>\n",
       "      <th>takeons_z</th>\n",
       "      <th>progruns_z</th>\n",
       "      <th>tackles_z</th>\n",
       "      <th>interceptions_z</th>\n",
       "      <th>clearances_z</th>\n",
       "      <th>blocks_z</th>\n",
       "      <th>aerials_z</th>\n",
       "      <th>fouls_z</th>\n",
       "      <th>fouled_z</th>\n",
       "      <th>nsxg_z</th>\n",
       "      <th>results</th>\n",
       "    </tr>\n",
       "  </thead>\n",
       "  <tbody>\n",
       "    <tr>\n",
       "      <th>Bosnia14</th>\n",
       "      <td>0.243846</td>\n",
       "      <td>-0.005385</td>\n",
       "      <td>0.389231</td>\n",
       "      <td>0.218462</td>\n",
       "      <td>0.208462</td>\n",
       "      <td>0.049231</td>\n",
       "      <td>0.547692</td>\n",
       "      <td>0.053077</td>\n",
       "      <td>0.461538</td>\n",
       "      <td>0.222308</td>\n",
       "      <td>-0.291538</td>\n",
       "      <td>0.243846</td>\n",
       "      <td>-0.472308</td>\n",
       "      <td>-0.067692</td>\n",
       "      <td>-0.229231</td>\n",
       "      <td>0.299231</td>\n",
       "      <td>20</td>\n",
       "    </tr>\n",
       "  </tbody>\n",
       "</table>\n",
       "</div>"
      ],
      "text/plain": [
       "           goals_z      xg_z  crosses_z  boxtouches_z  passes_z  progpasses_z  \\\n",
       "Bosnia14  0.243846 -0.005385   0.389231      0.218462  0.208462      0.049231   \n",
       "\n",
       "          takeons_z  progruns_z  tackles_z  interceptions_z  clearances_z  \\\n",
       "Bosnia14   0.547692    0.053077   0.461538         0.222308     -0.291538   \n",
       "\n",
       "          blocks_z  aerials_z   fouls_z  fouled_z    nsxg_z  results  \n",
       "Bosnia14  0.243846  -0.472308 -0.067692 -0.229231  0.299231       20  "
      ]
     },
     "execution_count": 279,
     "metadata": {},
     "output_type": "execute_result"
    }
   ],
   "source": [
    "df2"
   ]
  },
  {
   "cell_type": "code",
   "execution_count": 280,
   "metadata": {},
   "outputs": [],
   "source": [
    "df2.to_csv('Bosnia.csv')\n"
   ]
  },
  {
   "cell_type": "code",
   "execution_count": 281,
   "metadata": {},
   "outputs": [],
   "source": [
    "# 14 - 20      Bosnia and Herzegovina     F     3     1     0     2     3     4     4     0\n"
   ]
  },
  {
   "cell_type": "markdown",
   "metadata": {},
   "source": [
    "# Panama"
   ]
  },
  {
   "cell_type": "code",
   "execution_count": 282,
   "metadata": {},
   "outputs": [],
   "source": [
    "pan = ['Panama']\n",
    "pan_year = df.loc[df[\"team\"].isin(pan)]"
   ]
  },
  {
   "cell_type": "markdown",
   "metadata": {},
   "source": [
    "## 18"
   ]
  },
  {
   "cell_type": "code",
   "execution_count": 283,
   "metadata": {},
   "outputs": [],
   "source": [
    "pan16year = pan_year.loc[pan_year[\"season\"].isin(year2018)]\n",
    "pan16xg = pan16year.sort_values(by=[\"goals_z\"], ascending=False)\n",
    "pan16xg13 = pan16xg.head(13)\n",
    "pan16xg13 = pan16xg13.drop(columns=['season', 'team'])\n",
    "pan18 = pan16xg13.mean()"
   ]
  },
  {
   "cell_type": "code",
   "execution_count": 284,
   "metadata": {},
   "outputs": [],
   "source": [
    "# pan18"
   ]
  },
  {
   "cell_type": "code",
   "execution_count": 285,
   "metadata": {},
   "outputs": [],
   "source": [
    "pan = pd.concat([pan18], axis=1).T\n",
    "pan.rename(index={0: 'Panama16'}, inplace=True)\n",
    "df2 = pan.assign(results=[32])\n"
   ]
  },
  {
   "cell_type": "code",
   "execution_count": 286,
   "metadata": {},
   "outputs": [
    {
     "data": {
      "text/html": [
       "<div>\n",
       "<style scoped>\n",
       "    .dataframe tbody tr th:only-of-type {\n",
       "        vertical-align: middle;\n",
       "    }\n",
       "\n",
       "    .dataframe tbody tr th {\n",
       "        vertical-align: top;\n",
       "    }\n",
       "\n",
       "    .dataframe thead th {\n",
       "        text-align: right;\n",
       "    }\n",
       "</style>\n",
       "<table border=\"1\" class=\"dataframe\">\n",
       "  <thead>\n",
       "    <tr style=\"text-align: right;\">\n",
       "      <th></th>\n",
       "      <th>goals_z</th>\n",
       "      <th>xg_z</th>\n",
       "      <th>crosses_z</th>\n",
       "      <th>boxtouches_z</th>\n",
       "      <th>passes_z</th>\n",
       "      <th>progpasses_z</th>\n",
       "      <th>takeons_z</th>\n",
       "      <th>progruns_z</th>\n",
       "      <th>tackles_z</th>\n",
       "      <th>interceptions_z</th>\n",
       "      <th>clearances_z</th>\n",
       "      <th>blocks_z</th>\n",
       "      <th>aerials_z</th>\n",
       "      <th>fouls_z</th>\n",
       "      <th>fouled_z</th>\n",
       "      <th>nsxg_z</th>\n",
       "      <th>results</th>\n",
       "    </tr>\n",
       "  </thead>\n",
       "  <tbody>\n",
       "    <tr>\n",
       "      <th>Panama16</th>\n",
       "      <td>-0.42</td>\n",
       "      <td>-0.23</td>\n",
       "      <td>-0.150769</td>\n",
       "      <td>-0.435385</td>\n",
       "      <td>-0.687692</td>\n",
       "      <td>-0.408462</td>\n",
       "      <td>-0.256923</td>\n",
       "      <td>-0.586154</td>\n",
       "      <td>-0.629231</td>\n",
       "      <td>-0.56</td>\n",
       "      <td>-0.145385</td>\n",
       "      <td>-0.404615</td>\n",
       "      <td>-0.509231</td>\n",
       "      <td>-0.173077</td>\n",
       "      <td>-0.193077</td>\n",
       "      <td>-0.369231</td>\n",
       "      <td>32</td>\n",
       "    </tr>\n",
       "  </tbody>\n",
       "</table>\n",
       "</div>"
      ],
      "text/plain": [
       "          goals_z  xg_z  crosses_z  boxtouches_z  passes_z  progpasses_z  \\\n",
       "Panama16    -0.42 -0.23  -0.150769     -0.435385 -0.687692     -0.408462   \n",
       "\n",
       "          takeons_z  progruns_z  tackles_z  interceptions_z  clearances_z  \\\n",
       "Panama16  -0.256923   -0.586154  -0.629231            -0.56     -0.145385   \n",
       "\n",
       "          blocks_z  aerials_z   fouls_z  fouled_z    nsxg_z  results  \n",
       "Panama16 -0.404615  -0.509231 -0.173077 -0.193077 -0.369231       32  "
      ]
     },
     "execution_count": 286,
     "metadata": {},
     "output_type": "execute_result"
    }
   ],
   "source": [
    "df2"
   ]
  },
  {
   "cell_type": "code",
   "execution_count": 287,
   "metadata": {},
   "outputs": [],
   "source": [
    "df2.to_csv('Panama.csv')\n"
   ]
  },
  {
   "cell_type": "code",
   "execution_count": 288,
   "metadata": {},
   "outputs": [],
   "source": [
    "# 18 - 32      Panama     G     3     0     0     3     0     2     11     −9\n"
   ]
  },
  {
   "cell_type": "markdown",
   "metadata": {},
   "source": [
    "# Slovakia"
   ]
  },
  {
   "cell_type": "code",
   "execution_count": 289,
   "metadata": {},
   "outputs": [],
   "source": [
    "slo = ['Slovakia']\n",
    "slo_year = df.loc[df[\"team\"].isin(slo)]"
   ]
  },
  {
   "cell_type": "code",
   "execution_count": 290,
   "metadata": {},
   "outputs": [],
   "source": [
    "slo10year = slo_year.loc[slo_year[\"season\"].isin(year2010)]\n",
    "slo10xg = slo10year.sort_values(by=[\"goals_z\"], ascending=False)\n",
    "slo10xg13 = slo10xg.head(13)\n",
    "slo10xg13 = slo10xg13.drop(columns=['season', 'team'])\n",
    "slo10 = slo10xg13.mean()"
   ]
  },
  {
   "cell_type": "code",
   "execution_count": 291,
   "metadata": {},
   "outputs": [],
   "source": [
    "# slo10"
   ]
  },
  {
   "cell_type": "code",
   "execution_count": 292,
   "metadata": {},
   "outputs": [],
   "source": [
    "slo = pd.concat([slo10], axis=1).T\n",
    "slo.rename(index={0: 'Slovakia10'}, inplace=True)\n",
    "df2 = slo.assign(results=[16])\n"
   ]
  },
  {
   "cell_type": "code",
   "execution_count": 293,
   "metadata": {},
   "outputs": [
    {
     "data": {
      "text/html": [
       "<div>\n",
       "<style scoped>\n",
       "    .dataframe tbody tr th:only-of-type {\n",
       "        vertical-align: middle;\n",
       "    }\n",
       "\n",
       "    .dataframe tbody tr th {\n",
       "        vertical-align: top;\n",
       "    }\n",
       "\n",
       "    .dataframe thead th {\n",
       "        text-align: right;\n",
       "    }\n",
       "</style>\n",
       "<table border=\"1\" class=\"dataframe\">\n",
       "  <thead>\n",
       "    <tr style=\"text-align: right;\">\n",
       "      <th></th>\n",
       "      <th>goals_z</th>\n",
       "      <th>xg_z</th>\n",
       "      <th>crosses_z</th>\n",
       "      <th>boxtouches_z</th>\n",
       "      <th>passes_z</th>\n",
       "      <th>progpasses_z</th>\n",
       "      <th>takeons_z</th>\n",
       "      <th>progruns_z</th>\n",
       "      <th>tackles_z</th>\n",
       "      <th>interceptions_z</th>\n",
       "      <th>clearances_z</th>\n",
       "      <th>blocks_z</th>\n",
       "      <th>aerials_z</th>\n",
       "      <th>fouls_z</th>\n",
       "      <th>fouled_z</th>\n",
       "      <th>nsxg_z</th>\n",
       "      <th>results</th>\n",
       "    </tr>\n",
       "  </thead>\n",
       "  <tbody>\n",
       "    <tr>\n",
       "      <th>Slovakia10</th>\n",
       "      <td>0.264615</td>\n",
       "      <td>0.005385</td>\n",
       "      <td>-0.148462</td>\n",
       "      <td>-0.049231</td>\n",
       "      <td>-0.178462</td>\n",
       "      <td>-0.246923</td>\n",
       "      <td>-0.06</td>\n",
       "      <td>-0.232308</td>\n",
       "      <td>-0.256923</td>\n",
       "      <td>-0.500769</td>\n",
       "      <td>-0.033077</td>\n",
       "      <td>-0.042308</td>\n",
       "      <td>0.093846</td>\n",
       "      <td>0.049231</td>\n",
       "      <td>-0.100769</td>\n",
       "      <td>-0.183846</td>\n",
       "      <td>16</td>\n",
       "    </tr>\n",
       "  </tbody>\n",
       "</table>\n",
       "</div>"
      ],
      "text/plain": [
       "             goals_z      xg_z  crosses_z  boxtouches_z  passes_z  \\\n",
       "Slovakia10  0.264615  0.005385  -0.148462     -0.049231 -0.178462   \n",
       "\n",
       "            progpasses_z  takeons_z  progruns_z  tackles_z  interceptions_z  \\\n",
       "Slovakia10     -0.246923      -0.06   -0.232308  -0.256923        -0.500769   \n",
       "\n",
       "            clearances_z  blocks_z  aerials_z   fouls_z  fouled_z    nsxg_z  \\\n",
       "Slovakia10     -0.033077 -0.042308   0.093846  0.049231 -0.100769 -0.183846   \n",
       "\n",
       "            results  \n",
       "Slovakia10       16  "
      ]
     },
     "execution_count": 293,
     "metadata": {},
     "output_type": "execute_result"
    }
   ],
   "source": [
    "df2"
   ]
  },
  {
   "cell_type": "code",
   "execution_count": 294,
   "metadata": {},
   "outputs": [],
   "source": [
    "df2.to_csv('Slovakia.csv')\n"
   ]
  },
  {
   "cell_type": "code",
   "execution_count": 295,
   "metadata": {},
   "outputs": [],
   "source": [
    "# 10 - 16      Slovakia     F     4     1     1     2     5     7     −2     4\n"
   ]
  },
  {
   "cell_type": "markdown",
   "metadata": {},
   "source": [
    "# Iraq"
   ]
  },
  {
   "cell_type": "code",
   "execution_count": 296,
   "metadata": {},
   "outputs": [],
   "source": [
    "ira = ['Iraq']\n",
    "ira_year = df.loc[df[\"team\"].isin(ira)]"
   ]
  },
  {
   "cell_type": "code",
   "execution_count": 297,
   "metadata": {},
   "outputs": [],
   "source": [
    "ira86year = ira_year.loc[ira_year[\"season\"].isin(year1986)]\n",
    "ira86xg = ira86year.sort_values(by=[\"goals_z\"], ascending=False)\n",
    "ira86xg13 = ira86xg.head(13)\n",
    "ira86xg13 = ira86xg13.drop(columns=['season', 'team'])\n",
    "ira86 = ira86xg13.mean()"
   ]
  },
  {
   "cell_type": "code",
   "execution_count": 298,
   "metadata": {},
   "outputs": [],
   "source": [
    "# ira86"
   ]
  },
  {
   "cell_type": "code",
   "execution_count": 299,
   "metadata": {},
   "outputs": [],
   "source": [
    "ira = pd.concat([ira86], axis=1).T\n",
    "ira.rename(index={0: 'Iraq86'}, inplace=True)\n",
    "df2 = ira.assign(results=[23])\n"
   ]
  },
  {
   "cell_type": "code",
   "execution_count": 300,
   "metadata": {},
   "outputs": [
    {
     "data": {
      "text/html": [
       "<div>\n",
       "<style scoped>\n",
       "    .dataframe tbody tr th:only-of-type {\n",
       "        vertical-align: middle;\n",
       "    }\n",
       "\n",
       "    .dataframe tbody tr th {\n",
       "        vertical-align: top;\n",
       "    }\n",
       "\n",
       "    .dataframe thead th {\n",
       "        text-align: right;\n",
       "    }\n",
       "</style>\n",
       "<table border=\"1\" class=\"dataframe\">\n",
       "  <thead>\n",
       "    <tr style=\"text-align: right;\">\n",
       "      <th></th>\n",
       "      <th>goals_z</th>\n",
       "      <th>xg_z</th>\n",
       "      <th>crosses_z</th>\n",
       "      <th>boxtouches_z</th>\n",
       "      <th>passes_z</th>\n",
       "      <th>progpasses_z</th>\n",
       "      <th>takeons_z</th>\n",
       "      <th>progruns_z</th>\n",
       "      <th>tackles_z</th>\n",
       "      <th>interceptions_z</th>\n",
       "      <th>clearances_z</th>\n",
       "      <th>blocks_z</th>\n",
       "      <th>aerials_z</th>\n",
       "      <th>fouls_z</th>\n",
       "      <th>fouled_z</th>\n",
       "      <th>nsxg_z</th>\n",
       "      <th>results</th>\n",
       "    </tr>\n",
       "  </thead>\n",
       "  <tbody>\n",
       "    <tr>\n",
       "      <th>Iraq86</th>\n",
       "      <td>-0.235385</td>\n",
       "      <td>-0.316154</td>\n",
       "      <td>-0.075385</td>\n",
       "      <td>-0.289231</td>\n",
       "      <td>-0.412308</td>\n",
       "      <td>-0.185385</td>\n",
       "      <td>0.102308</td>\n",
       "      <td>-0.061538</td>\n",
       "      <td>-0.443077</td>\n",
       "      <td>-0.187692</td>\n",
       "      <td>0.129231</td>\n",
       "      <td>-0.284615</td>\n",
       "      <td>0.338462</td>\n",
       "      <td>0.085385</td>\n",
       "      <td>-0.515385</td>\n",
       "      <td>-0.266923</td>\n",
       "      <td>23</td>\n",
       "    </tr>\n",
       "  </tbody>\n",
       "</table>\n",
       "</div>"
      ],
      "text/plain": [
       "         goals_z      xg_z  crosses_z  boxtouches_z  passes_z  progpasses_z  \\\n",
       "Iraq86 -0.235385 -0.316154  -0.075385     -0.289231 -0.412308     -0.185385   \n",
       "\n",
       "        takeons_z  progruns_z  tackles_z  interceptions_z  clearances_z  \\\n",
       "Iraq86   0.102308   -0.061538  -0.443077        -0.187692      0.129231   \n",
       "\n",
       "        blocks_z  aerials_z   fouls_z  fouled_z    nsxg_z  results  \n",
       "Iraq86 -0.284615   0.338462  0.085385 -0.515385 -0.266923       23  "
      ]
     },
     "execution_count": 300,
     "metadata": {},
     "output_type": "execute_result"
    }
   ],
   "source": [
    "df2"
   ]
  },
  {
   "cell_type": "code",
   "execution_count": 301,
   "metadata": {},
   "outputs": [],
   "source": [
    "df2.to_csv('Iraq.csv')\n"
   ]
  },
  {
   "cell_type": "code",
   "execution_count": 302,
   "metadata": {},
   "outputs": [],
   "source": [
    "# 86 - 23      Iraq     B     3     0     0     3     1     4     −3     0"
   ]
  },
  {
   "cell_type": "markdown",
   "metadata": {},
   "source": [
    "# Jamaica"
   ]
  },
  {
   "cell_type": "code",
   "execution_count": 303,
   "metadata": {},
   "outputs": [],
   "source": [
    "jam = ['Jamaica']\n",
    "jam_year = df.loc[df[\"team\"].isin(jam)]"
   ]
  },
  {
   "cell_type": "code",
   "execution_count": 304,
   "metadata": {},
   "outputs": [],
   "source": [
    "jam98year = jam_year.loc[jam_year[\"season\"].isin(year1998)]\n",
    "jam98xg = jam98year.sort_values(by=[\"goals_z\"], ascending=False)\n",
    "jam98xg13 = jam98xg.head(13)\n",
    "jam98xg13 = jam98xg13.drop(columns=['season', 'team'])\n",
    "jam98 = jam98xg13.mean()"
   ]
  },
  {
   "cell_type": "code",
   "execution_count": 305,
   "metadata": {},
   "outputs": [],
   "source": [
    "# jam98"
   ]
  },
  {
   "cell_type": "code",
   "execution_count": 306,
   "metadata": {},
   "outputs": [],
   "source": [
    "jam = pd.concat([jam98], axis=1).T\n",
    "jam.rename(index={0: 'Jamaica98'}, inplace=True)\n",
    "df2 = jam.assign(results=[22])\n"
   ]
  },
  {
   "cell_type": "code",
   "execution_count": 307,
   "metadata": {},
   "outputs": [
    {
     "data": {
      "text/html": [
       "<div>\n",
       "<style scoped>\n",
       "    .dataframe tbody tr th:only-of-type {\n",
       "        vertical-align: middle;\n",
       "    }\n",
       "\n",
       "    .dataframe tbody tr th {\n",
       "        vertical-align: top;\n",
       "    }\n",
       "\n",
       "    .dataframe thead th {\n",
       "        text-align: right;\n",
       "    }\n",
       "</style>\n",
       "<table border=\"1\" class=\"dataframe\">\n",
       "  <thead>\n",
       "    <tr style=\"text-align: right;\">\n",
       "      <th></th>\n",
       "      <th>goals_z</th>\n",
       "      <th>xg_z</th>\n",
       "      <th>crosses_z</th>\n",
       "      <th>boxtouches_z</th>\n",
       "      <th>passes_z</th>\n",
       "      <th>progpasses_z</th>\n",
       "      <th>takeons_z</th>\n",
       "      <th>progruns_z</th>\n",
       "      <th>tackles_z</th>\n",
       "      <th>interceptions_z</th>\n",
       "      <th>clearances_z</th>\n",
       "      <th>blocks_z</th>\n",
       "      <th>aerials_z</th>\n",
       "      <th>fouls_z</th>\n",
       "      <th>fouled_z</th>\n",
       "      <th>nsxg_z</th>\n",
       "      <th>results</th>\n",
       "    </tr>\n",
       "  </thead>\n",
       "  <tbody>\n",
       "    <tr>\n",
       "      <th>Jamaica98</th>\n",
       "      <td>0.055385</td>\n",
       "      <td>-0.369231</td>\n",
       "      <td>-0.316154</td>\n",
       "      <td>-0.252308</td>\n",
       "      <td>0.173077</td>\n",
       "      <td>-0.048462</td>\n",
       "      <td>0.109231</td>\n",
       "      <td>-0.099231</td>\n",
       "      <td>-0.139231</td>\n",
       "      <td>-0.099231</td>\n",
       "      <td>0.245385</td>\n",
       "      <td>-0.062308</td>\n",
       "      <td>-0.303846</td>\n",
       "      <td>-0.032308</td>\n",
       "      <td>-0.196154</td>\n",
       "      <td>-0.378462</td>\n",
       "      <td>22</td>\n",
       "    </tr>\n",
       "  </tbody>\n",
       "</table>\n",
       "</div>"
      ],
      "text/plain": [
       "            goals_z      xg_z  crosses_z  boxtouches_z  passes_z  \\\n",
       "Jamaica98  0.055385 -0.369231  -0.316154     -0.252308  0.173077   \n",
       "\n",
       "           progpasses_z  takeons_z  progruns_z  tackles_z  interceptions_z  \\\n",
       "Jamaica98     -0.048462   0.109231   -0.099231  -0.139231        -0.099231   \n",
       "\n",
       "           clearances_z  blocks_z  aerials_z   fouls_z  fouled_z    nsxg_z  \\\n",
       "Jamaica98      0.245385 -0.062308  -0.303846 -0.032308 -0.196154 -0.378462   \n",
       "\n",
       "           results  \n",
       "Jamaica98       22  "
      ]
     },
     "execution_count": 307,
     "metadata": {},
     "output_type": "execute_result"
    }
   ],
   "source": [
    "df2"
   ]
  },
  {
   "cell_type": "code",
   "execution_count": 308,
   "metadata": {},
   "outputs": [],
   "source": [
    "df2.to_csv('Jamaica.csv')\n"
   ]
  },
  {
   "cell_type": "code",
   "execution_count": 309,
   "metadata": {},
   "outputs": [],
   "source": [
    "# 98 - 22      Jamaica     H     3     1     0     2     3     9     −6     3"
   ]
  },
  {
   "cell_type": "markdown",
   "metadata": {},
   "source": [
    "# Kuwait"
   ]
  },
  {
   "cell_type": "code",
   "execution_count": 310,
   "metadata": {},
   "outputs": [],
   "source": [
    "kuw = ['Kuwait']\n",
    "kuw_year = df.loc[df[\"team\"].isin(kuw)]"
   ]
  },
  {
   "cell_type": "code",
   "execution_count": 311,
   "metadata": {},
   "outputs": [],
   "source": [
    "kuw82year = kuw_year.loc[kuw_year[\"season\"].isin(year1982)]\n",
    "kuw82xg = kuw82year.sort_values(by=[\"goals_z\"], ascending=False)\n",
    "kuw82xg13 = kuw82xg.head(13)\n",
    "kuw82xg13 = kuw82xg13.drop(columns=['season', 'team'])\n",
    "kuw82 = kuw82xg13.mean()"
   ]
  },
  {
   "cell_type": "code",
   "execution_count": 312,
   "metadata": {},
   "outputs": [],
   "source": [
    "# kuw82"
   ]
  },
  {
   "cell_type": "code",
   "execution_count": 313,
   "metadata": {},
   "outputs": [],
   "source": [
    "kuw = pd.concat([kuw82], axis=1).T\n",
    "kuw.rename(index={0: 'Kuwait82'}, inplace=True)\n",
    "df2 = kuw.assign(results=[22])\n"
   ]
  },
  {
   "cell_type": "code",
   "execution_count": 314,
   "metadata": {},
   "outputs": [
    {
     "data": {
      "text/html": [
       "<div>\n",
       "<style scoped>\n",
       "    .dataframe tbody tr th:only-of-type {\n",
       "        vertical-align: middle;\n",
       "    }\n",
       "\n",
       "    .dataframe tbody tr th {\n",
       "        vertical-align: top;\n",
       "    }\n",
       "\n",
       "    .dataframe thead th {\n",
       "        text-align: right;\n",
       "    }\n",
       "</style>\n",
       "<table border=\"1\" class=\"dataframe\">\n",
       "  <thead>\n",
       "    <tr style=\"text-align: right;\">\n",
       "      <th></th>\n",
       "      <th>goals_z</th>\n",
       "      <th>xg_z</th>\n",
       "      <th>crosses_z</th>\n",
       "      <th>boxtouches_z</th>\n",
       "      <th>passes_z</th>\n",
       "      <th>progpasses_z</th>\n",
       "      <th>takeons_z</th>\n",
       "      <th>progruns_z</th>\n",
       "      <th>tackles_z</th>\n",
       "      <th>interceptions_z</th>\n",
       "      <th>clearances_z</th>\n",
       "      <th>blocks_z</th>\n",
       "      <th>aerials_z</th>\n",
       "      <th>fouls_z</th>\n",
       "      <th>fouled_z</th>\n",
       "      <th>nsxg_z</th>\n",
       "      <th>results</th>\n",
       "    </tr>\n",
       "  </thead>\n",
       "  <tbody>\n",
       "    <tr>\n",
       "      <th>Kuwait82</th>\n",
       "      <td>-0.193846</td>\n",
       "      <td>-0.124615</td>\n",
       "      <td>-0.123077</td>\n",
       "      <td>-0.243077</td>\n",
       "      <td>0.305385</td>\n",
       "      <td>-0.085385</td>\n",
       "      <td>0.033846</td>\n",
       "      <td>0.422308</td>\n",
       "      <td>0.286154</td>\n",
       "      <td>0.233077</td>\n",
       "      <td>-0.028462</td>\n",
       "      <td>-0.09</td>\n",
       "      <td>-0.446923</td>\n",
       "      <td>-0.216154</td>\n",
       "      <td>-0.06</td>\n",
       "      <td>-0.254615</td>\n",
       "      <td>22</td>\n",
       "    </tr>\n",
       "  </tbody>\n",
       "</table>\n",
       "</div>"
      ],
      "text/plain": [
       "           goals_z      xg_z  crosses_z  boxtouches_z  passes_z  progpasses_z  \\\n",
       "Kuwait82 -0.193846 -0.124615  -0.123077     -0.243077  0.305385     -0.085385   \n",
       "\n",
       "          takeons_z  progruns_z  tackles_z  interceptions_z  clearances_z  \\\n",
       "Kuwait82   0.033846    0.422308   0.286154         0.233077     -0.028462   \n",
       "\n",
       "          blocks_z  aerials_z   fouls_z  fouled_z    nsxg_z  results  \n",
       "Kuwait82     -0.09  -0.446923 -0.216154     -0.06 -0.254615       22  "
      ]
     },
     "execution_count": 314,
     "metadata": {},
     "output_type": "execute_result"
    }
   ],
   "source": [
    "df2"
   ]
  },
  {
   "cell_type": "code",
   "execution_count": 315,
   "metadata": {},
   "outputs": [],
   "source": [
    "df2.to_csv('Kuwait.csv')\n"
   ]
  },
  {
   "cell_type": "code",
   "execution_count": 316,
   "metadata": {},
   "outputs": [],
   "source": [
    "# 82 - 21      Kuwait     4     3     0     1     2     2     6     −4     1"
   ]
  },
  {
   "cell_type": "markdown",
   "metadata": {},
   "source": [
    "# El Salvador"
   ]
  },
  {
   "cell_type": "code",
   "execution_count": 317,
   "metadata": {},
   "outputs": [],
   "source": [
    "els = ['El Salvador']\n",
    "els_year = df.loc[df[\"team\"].isin(els)]"
   ]
  },
  {
   "cell_type": "code",
   "execution_count": 318,
   "metadata": {},
   "outputs": [],
   "source": [
    "els82year = els_year.loc[els_year[\"season\"].isin(year1982)]\n",
    "els82xg = els82year.sort_values(by=[\"goals_z\"], ascending=False)\n",
    "els82xg13 = els82xg.head(13)\n",
    "els82xg13 = els82xg13.drop(columns=['season', 'team'])\n",
    "els82 = els82xg13.mean()"
   ]
  },
  {
   "cell_type": "code",
   "execution_count": 319,
   "metadata": {},
   "outputs": [],
   "source": [
    "# els82"
   ]
  },
  {
   "cell_type": "code",
   "execution_count": 320,
   "metadata": {},
   "outputs": [],
   "source": [
    "els = pd.concat([els82], axis=1).T\n",
    "els.rename(index={0: 'ElSalvador82'}, inplace=True)\n",
    "df2 = els.assign(results=[24])\n"
   ]
  },
  {
   "cell_type": "code",
   "execution_count": 321,
   "metadata": {},
   "outputs": [
    {
     "data": {
      "text/html": [
       "<div>\n",
       "<style scoped>\n",
       "    .dataframe tbody tr th:only-of-type {\n",
       "        vertical-align: middle;\n",
       "    }\n",
       "\n",
       "    .dataframe tbody tr th {\n",
       "        vertical-align: top;\n",
       "    }\n",
       "\n",
       "    .dataframe thead th {\n",
       "        text-align: right;\n",
       "    }\n",
       "</style>\n",
       "<table border=\"1\" class=\"dataframe\">\n",
       "  <thead>\n",
       "    <tr style=\"text-align: right;\">\n",
       "      <th></th>\n",
       "      <th>goals_z</th>\n",
       "      <th>xg_z</th>\n",
       "      <th>crosses_z</th>\n",
       "      <th>boxtouches_z</th>\n",
       "      <th>passes_z</th>\n",
       "      <th>progpasses_z</th>\n",
       "      <th>takeons_z</th>\n",
       "      <th>progruns_z</th>\n",
       "      <th>tackles_z</th>\n",
       "      <th>interceptions_z</th>\n",
       "      <th>clearances_z</th>\n",
       "      <th>blocks_z</th>\n",
       "      <th>aerials_z</th>\n",
       "      <th>fouls_z</th>\n",
       "      <th>fouled_z</th>\n",
       "      <th>nsxg_z</th>\n",
       "      <th>results</th>\n",
       "    </tr>\n",
       "  </thead>\n",
       "  <tbody>\n",
       "    <tr>\n",
       "      <th>ElSalvador82</th>\n",
       "      <td>-0.346923</td>\n",
       "      <td>-0.306154</td>\n",
       "      <td>-0.266154</td>\n",
       "      <td>-0.436923</td>\n",
       "      <td>0.04</td>\n",
       "      <td>-0.158462</td>\n",
       "      <td>0.261538</td>\n",
       "      <td>-0.386154</td>\n",
       "      <td>-0.270769</td>\n",
       "      <td>-0.094615</td>\n",
       "      <td>0.442308</td>\n",
       "      <td>0.376923</td>\n",
       "      <td>-0.396154</td>\n",
       "      <td>0.183077</td>\n",
       "      <td>-0.26</td>\n",
       "      <td>-0.554615</td>\n",
       "      <td>24</td>\n",
       "    </tr>\n",
       "  </tbody>\n",
       "</table>\n",
       "</div>"
      ],
      "text/plain": [
       "               goals_z      xg_z  crosses_z  boxtouches_z  passes_z  \\\n",
       "ElSalvador82 -0.346923 -0.306154  -0.266154     -0.436923      0.04   \n",
       "\n",
       "              progpasses_z  takeons_z  progruns_z  tackles_z  interceptions_z  \\\n",
       "ElSalvador82     -0.158462   0.261538   -0.386154  -0.270769        -0.094615   \n",
       "\n",
       "              clearances_z  blocks_z  aerials_z   fouls_z  fouled_z    nsxg_z  \\\n",
       "ElSalvador82      0.442308  0.376923  -0.396154  0.183077     -0.26 -0.554615   \n",
       "\n",
       "              results  \n",
       "ElSalvador82       24  "
      ]
     },
     "execution_count": 321,
     "metadata": {},
     "output_type": "execute_result"
    }
   ],
   "source": [
    "df2"
   ]
  },
  {
   "cell_type": "code",
   "execution_count": 322,
   "metadata": {},
   "outputs": [],
   "source": [
    "df2.to_csv('ElSalvador.csv')\n"
   ]
  },
  {
   "cell_type": "code",
   "execution_count": 323,
   "metadata": {},
   "outputs": [],
   "source": [
    "# 82 - 24      El Salvador     3     3     0     0     3     1     13     −12     0\n"
   ]
  },
  {
   "cell_type": "markdown",
   "metadata": {},
   "source": [
    "# China"
   ]
  },
  {
   "cell_type": "code",
   "execution_count": 324,
   "metadata": {},
   "outputs": [],
   "source": [
    "chi = ['China PR']\n",
    "chi_year = df.loc[df[\"team\"].isin(chi)]"
   ]
  },
  {
   "cell_type": "code",
   "execution_count": 325,
   "metadata": {},
   "outputs": [],
   "source": [
    "chi02year = chi_year.loc[chi_year[\"season\"].isin(year2002)]\n",
    "chi02xg = chi02year.sort_values(by=[\"goals_z\"], ascending=False)\n",
    "chi02xg13 = chi02xg.head(13)\n",
    "chi02xg13 = chi02xg13.drop(columns=['season', 'team'])\n",
    "chi02 = chi02xg13.mean()"
   ]
  },
  {
   "cell_type": "code",
   "execution_count": 326,
   "metadata": {},
   "outputs": [],
   "source": [
    "# chi02"
   ]
  },
  {
   "cell_type": "code",
   "execution_count": 327,
   "metadata": {},
   "outputs": [],
   "source": [
    "chi = pd.concat([chi02], axis=1).T\n",
    "chi.rename(index={0: 'China02'}, inplace=True)\n",
    "df2 = chi.assign(results=[31])\n"
   ]
  },
  {
   "cell_type": "code",
   "execution_count": 328,
   "metadata": {},
   "outputs": [
    {
     "data": {
      "text/html": [
       "<div>\n",
       "<style scoped>\n",
       "    .dataframe tbody tr th:only-of-type {\n",
       "        vertical-align: middle;\n",
       "    }\n",
       "\n",
       "    .dataframe tbody tr th {\n",
       "        vertical-align: top;\n",
       "    }\n",
       "\n",
       "    .dataframe thead th {\n",
       "        text-align: right;\n",
       "    }\n",
       "</style>\n",
       "<table border=\"1\" class=\"dataframe\">\n",
       "  <thead>\n",
       "    <tr style=\"text-align: right;\">\n",
       "      <th></th>\n",
       "      <th>goals_z</th>\n",
       "      <th>xg_z</th>\n",
       "      <th>crosses_z</th>\n",
       "      <th>boxtouches_z</th>\n",
       "      <th>passes_z</th>\n",
       "      <th>progpasses_z</th>\n",
       "      <th>takeons_z</th>\n",
       "      <th>progruns_z</th>\n",
       "      <th>tackles_z</th>\n",
       "      <th>interceptions_z</th>\n",
       "      <th>clearances_z</th>\n",
       "      <th>blocks_z</th>\n",
       "      <th>aerials_z</th>\n",
       "      <th>fouls_z</th>\n",
       "      <th>fouled_z</th>\n",
       "      <th>nsxg_z</th>\n",
       "      <th>results</th>\n",
       "    </tr>\n",
       "  </thead>\n",
       "  <tbody>\n",
       "    <tr>\n",
       "      <th>China02</th>\n",
       "      <td>-0.41</td>\n",
       "      <td>-0.415385</td>\n",
       "      <td>-0.290769</td>\n",
       "      <td>-0.313077</td>\n",
       "      <td>-0.216154</td>\n",
       "      <td>-0.261538</td>\n",
       "      <td>-0.033846</td>\n",
       "      <td>-0.093077</td>\n",
       "      <td>-0.352308</td>\n",
       "      <td>-0.193846</td>\n",
       "      <td>-0.160769</td>\n",
       "      <td>-0.153846</td>\n",
       "      <td>-0.376923</td>\n",
       "      <td>-0.424615</td>\n",
       "      <td>-0.132308</td>\n",
       "      <td>-0.526923</td>\n",
       "      <td>31</td>\n",
       "    </tr>\n",
       "  </tbody>\n",
       "</table>\n",
       "</div>"
      ],
      "text/plain": [
       "         goals_z      xg_z  crosses_z  boxtouches_z  passes_z  progpasses_z  \\\n",
       "China02    -0.41 -0.415385  -0.290769     -0.313077 -0.216154     -0.261538   \n",
       "\n",
       "         takeons_z  progruns_z  tackles_z  interceptions_z  clearances_z  \\\n",
       "China02  -0.033846   -0.093077  -0.352308        -0.193846     -0.160769   \n",
       "\n",
       "         blocks_z  aerials_z   fouls_z  fouled_z    nsxg_z  results  \n",
       "China02 -0.153846  -0.376923 -0.424615 -0.132308 -0.526923       31  "
      ]
     },
     "execution_count": 328,
     "metadata": {},
     "output_type": "execute_result"
    }
   ],
   "source": [
    "df2"
   ]
  },
  {
   "cell_type": "code",
   "execution_count": 329,
   "metadata": {},
   "outputs": [],
   "source": [
    "df2.to_csv('China.csv')\n"
   ]
  },
  {
   "cell_type": "code",
   "execution_count": 330,
   "metadata": {},
   "outputs": [],
   "source": [
    "# 02 - 31     C      China     3     0     0     3     0     9     −9     0\n"
   ]
  },
  {
   "cell_type": "markdown",
   "metadata": {},
   "source": [
    "# Turkey"
   ]
  },
  {
   "cell_type": "code",
   "execution_count": 331,
   "metadata": {},
   "outputs": [],
   "source": [
    "tur = ['Turkey']\n",
    "tur_year = df.loc[df[\"team\"].isin(tur)]"
   ]
  },
  {
   "cell_type": "code",
   "execution_count": 332,
   "metadata": {},
   "outputs": [],
   "source": [
    "tur02year = tur_year.loc[tur_year[\"season\"].isin(year2002)]\n",
    "tur02xg = tur02year.sort_values(by=[\"goals_z\"], ascending=False)\n",
    "tur02xg13 = tur02xg.head(13)\n",
    "tur02xg13 = tur02xg13.drop(columns=['season', 'team'])\n",
    "tur02 = tur02xg13.mean()"
   ]
  },
  {
   "cell_type": "code",
   "execution_count": 333,
   "metadata": {},
   "outputs": [],
   "source": [
    "# tur02"
   ]
  },
  {
   "cell_type": "code",
   "execution_count": 334,
   "metadata": {},
   "outputs": [],
   "source": [
    "tur = pd.concat([tur02], axis=1).T\n",
    "tur.rename(index={0: 'Turkey02'}, inplace=True)\n",
    "df2 = tur.assign(results=[3])\n"
   ]
  },
  {
   "cell_type": "code",
   "execution_count": 335,
   "metadata": {},
   "outputs": [
    {
     "data": {
      "text/html": [
       "<div>\n",
       "<style scoped>\n",
       "    .dataframe tbody tr th:only-of-type {\n",
       "        vertical-align: middle;\n",
       "    }\n",
       "\n",
       "    .dataframe tbody tr th {\n",
       "        vertical-align: top;\n",
       "    }\n",
       "\n",
       "    .dataframe thead th {\n",
       "        text-align: right;\n",
       "    }\n",
       "</style>\n",
       "<table border=\"1\" class=\"dataframe\">\n",
       "  <thead>\n",
       "    <tr style=\"text-align: right;\">\n",
       "      <th></th>\n",
       "      <th>goals_z</th>\n",
       "      <th>xg_z</th>\n",
       "      <th>crosses_z</th>\n",
       "      <th>boxtouches_z</th>\n",
       "      <th>passes_z</th>\n",
       "      <th>progpasses_z</th>\n",
       "      <th>takeons_z</th>\n",
       "      <th>progruns_z</th>\n",
       "      <th>tackles_z</th>\n",
       "      <th>interceptions_z</th>\n",
       "      <th>clearances_z</th>\n",
       "      <th>blocks_z</th>\n",
       "      <th>aerials_z</th>\n",
       "      <th>fouls_z</th>\n",
       "      <th>fouled_z</th>\n",
       "      <th>nsxg_z</th>\n",
       "      <th>results</th>\n",
       "    </tr>\n",
       "  </thead>\n",
       "  <tbody>\n",
       "    <tr>\n",
       "      <th>Turkey02</th>\n",
       "      <td>0.254615</td>\n",
       "      <td>-0.122308</td>\n",
       "      <td>0.118462</td>\n",
       "      <td>0.069231</td>\n",
       "      <td>0.006923</td>\n",
       "      <td>0.016154</td>\n",
       "      <td>0.01</td>\n",
       "      <td>-0.085385</td>\n",
       "      <td>0.282308</td>\n",
       "      <td>0.260769</td>\n",
       "      <td>-0.153846</td>\n",
       "      <td>-0.090769</td>\n",
       "      <td>-0.127692</td>\n",
       "      <td>-0.018462</td>\n",
       "      <td>-0.190769</td>\n",
       "      <td>0.105385</td>\n",
       "      <td>3</td>\n",
       "    </tr>\n",
       "  </tbody>\n",
       "</table>\n",
       "</div>"
      ],
      "text/plain": [
       "           goals_z      xg_z  crosses_z  boxtouches_z  passes_z  progpasses_z  \\\n",
       "Turkey02  0.254615 -0.122308   0.118462      0.069231  0.006923      0.016154   \n",
       "\n",
       "          takeons_z  progruns_z  tackles_z  interceptions_z  clearances_z  \\\n",
       "Turkey02       0.01   -0.085385   0.282308         0.260769     -0.153846   \n",
       "\n",
       "          blocks_z  aerials_z   fouls_z  fouled_z    nsxg_z  results  \n",
       "Turkey02 -0.090769  -0.127692 -0.018462 -0.190769  0.105385        3  "
      ]
     },
     "execution_count": 335,
     "metadata": {},
     "output_type": "execute_result"
    }
   ],
   "source": [
    "df2"
   ]
  },
  {
   "cell_type": "code",
   "execution_count": 336,
   "metadata": {},
   "outputs": [],
   "source": [
    "df2.to_csv('Turkey.csv')\n"
   ]
  },
  {
   "cell_type": "code",
   "execution_count": 337,
   "metadata": {},
   "outputs": [],
   "source": [
    "# 02 - 3     C      Turkey     7     4     1     2     10     6     +4     13     3rd"
   ]
  },
  {
   "cell_type": "markdown",
   "metadata": {},
   "source": [
    "# Ukraine"
   ]
  },
  {
   "cell_type": "code",
   "execution_count": 338,
   "metadata": {},
   "outputs": [],
   "source": [
    "ukr = ['Ukraine']\n",
    "ukr_year = df.loc[df[\"team\"].isin(ukr)]"
   ]
  },
  {
   "cell_type": "code",
   "execution_count": 339,
   "metadata": {},
   "outputs": [],
   "source": [
    "ukr06year = ukr_year.loc[ukr_year[\"season\"].isin(year2006)]\n",
    "ukr06xg = ukr06year.sort_values(by=[\"goals_z\"], ascending=False)\n",
    "ukr06xg13 = ukr06xg.head(13)\n",
    "ukr06xg13 = ukr06xg13.drop(columns=['season', 'team'])\n",
    "ukr06 = ukr06xg13.mean()"
   ]
  },
  {
   "cell_type": "code",
   "execution_count": 340,
   "metadata": {},
   "outputs": [],
   "source": [
    "# ukr06"
   ]
  },
  {
   "cell_type": "code",
   "execution_count": 341,
   "metadata": {},
   "outputs": [],
   "source": [
    "ukr = pd.concat([ukr06], axis=1).T\n",
    "ukr.rename(index={0: 'Ukrain06'}, inplace=True)\n",
    "df2 = ukr.assign(results=[8])\n"
   ]
  },
  {
   "cell_type": "code",
   "execution_count": 342,
   "metadata": {},
   "outputs": [
    {
     "data": {
      "text/html": [
       "<div>\n",
       "<style scoped>\n",
       "    .dataframe tbody tr th:only-of-type {\n",
       "        vertical-align: middle;\n",
       "    }\n",
       "\n",
       "    .dataframe tbody tr th {\n",
       "        vertical-align: top;\n",
       "    }\n",
       "\n",
       "    .dataframe thead th {\n",
       "        text-align: right;\n",
       "    }\n",
       "</style>\n",
       "<table border=\"1\" class=\"dataframe\">\n",
       "  <thead>\n",
       "    <tr style=\"text-align: right;\">\n",
       "      <th></th>\n",
       "      <th>goals_z</th>\n",
       "      <th>xg_z</th>\n",
       "      <th>crosses_z</th>\n",
       "      <th>boxtouches_z</th>\n",
       "      <th>passes_z</th>\n",
       "      <th>progpasses_z</th>\n",
       "      <th>takeons_z</th>\n",
       "      <th>progruns_z</th>\n",
       "      <th>tackles_z</th>\n",
       "      <th>interceptions_z</th>\n",
       "      <th>clearances_z</th>\n",
       "      <th>blocks_z</th>\n",
       "      <th>aerials_z</th>\n",
       "      <th>fouls_z</th>\n",
       "      <th>fouled_z</th>\n",
       "      <th>nsxg_z</th>\n",
       "      <th>results</th>\n",
       "    </tr>\n",
       "  </thead>\n",
       "  <tbody>\n",
       "    <tr>\n",
       "      <th>Ukrain06</th>\n",
       "      <td>0.122308</td>\n",
       "      <td>0.143846</td>\n",
       "      <td>-0.026923</td>\n",
       "      <td>-0.242308</td>\n",
       "      <td>-0.064615</td>\n",
       "      <td>-0.245385</td>\n",
       "      <td>-0.09</td>\n",
       "      <td>-0.073846</td>\n",
       "      <td>0.261538</td>\n",
       "      <td>0.106154</td>\n",
       "      <td>-0.116154</td>\n",
       "      <td>0.056154</td>\n",
       "      <td>0.003077</td>\n",
       "      <td>0.16</td>\n",
       "      <td>0.063077</td>\n",
       "      <td>-0.229231</td>\n",
       "      <td>8</td>\n",
       "    </tr>\n",
       "  </tbody>\n",
       "</table>\n",
       "</div>"
      ],
      "text/plain": [
       "           goals_z      xg_z  crosses_z  boxtouches_z  passes_z  progpasses_z  \\\n",
       "Ukrain06  0.122308  0.143846  -0.026923     -0.242308 -0.064615     -0.245385   \n",
       "\n",
       "          takeons_z  progruns_z  tackles_z  interceptions_z  clearances_z  \\\n",
       "Ukrain06      -0.09   -0.073846   0.261538         0.106154     -0.116154   \n",
       "\n",
       "          blocks_z  aerials_z  fouls_z  fouled_z    nsxg_z  results  \n",
       "Ukrain06  0.056154   0.003077     0.16  0.063077 -0.229231        8  "
      ]
     },
     "execution_count": 342,
     "metadata": {},
     "output_type": "execute_result"
    }
   ],
   "source": [
    "df2"
   ]
  },
  {
   "cell_type": "code",
   "execution_count": 343,
   "metadata": {},
   "outputs": [],
   "source": [
    "df2.to_csv('Ukraine.csv')\n"
   ]
  },
  {
   "cell_type": "code",
   "execution_count": 344,
   "metadata": {},
   "outputs": [],
   "source": [
    "# 06 - 8      Ukraine     H     5     2     1     2     5     7     −2     7\n"
   ]
  },
  {
   "cell_type": "markdown",
   "metadata": {},
   "source": [
    "# Bolivia"
   ]
  },
  {
   "cell_type": "code",
   "execution_count": 345,
   "metadata": {},
   "outputs": [],
   "source": [
    "bol = ['Bolivia']\n",
    "bol_year = df.loc[df[\"team\"].isin(bol)]"
   ]
  },
  {
   "cell_type": "code",
   "execution_count": 346,
   "metadata": {},
   "outputs": [],
   "source": [
    "bol94year = bol_year.loc[bol_year[\"season\"].isin(year1994)]\n",
    "bol94xg = bol94year.sort_values(by=[\"goals_z\"], ascending=False)\n",
    "bol94xg13 = bol94xg.head(13)\n",
    "bol94xg13 = bol94xg13.drop(columns=['season', 'team'])\n",
    "bol94 = bol94xg13.mean()"
   ]
  },
  {
   "cell_type": "code",
   "execution_count": 347,
   "metadata": {},
   "outputs": [],
   "source": [
    "# bol94"
   ]
  },
  {
   "cell_type": "code",
   "execution_count": 348,
   "metadata": {},
   "outputs": [],
   "source": [
    "bol = pd.concat([bol94], axis=1).T\n",
    "bol.rename(index={0: 'Bolivia94'}, inplace=True)\n",
    "df2 = bol.assign(results=[21])\n"
   ]
  },
  {
   "cell_type": "code",
   "execution_count": 349,
   "metadata": {},
   "outputs": [
    {
     "data": {
      "text/html": [
       "<div>\n",
       "<style scoped>\n",
       "    .dataframe tbody tr th:only-of-type {\n",
       "        vertical-align: middle;\n",
       "    }\n",
       "\n",
       "    .dataframe tbody tr th {\n",
       "        vertical-align: top;\n",
       "    }\n",
       "\n",
       "    .dataframe thead th {\n",
       "        text-align: right;\n",
       "    }\n",
       "</style>\n",
       "<table border=\"1\" class=\"dataframe\">\n",
       "  <thead>\n",
       "    <tr style=\"text-align: right;\">\n",
       "      <th></th>\n",
       "      <th>goals_z</th>\n",
       "      <th>xg_z</th>\n",
       "      <th>crosses_z</th>\n",
       "      <th>boxtouches_z</th>\n",
       "      <th>passes_z</th>\n",
       "      <th>progpasses_z</th>\n",
       "      <th>takeons_z</th>\n",
       "      <th>progruns_z</th>\n",
       "      <th>tackles_z</th>\n",
       "      <th>interceptions_z</th>\n",
       "      <th>clearances_z</th>\n",
       "      <th>blocks_z</th>\n",
       "      <th>aerials_z</th>\n",
       "      <th>fouls_z</th>\n",
       "      <th>fouled_z</th>\n",
       "      <th>nsxg_z</th>\n",
       "      <th>results</th>\n",
       "    </tr>\n",
       "  </thead>\n",
       "  <tbody>\n",
       "    <tr>\n",
       "      <th>Bolivia94</th>\n",
       "      <td>-0.255385</td>\n",
       "      <td>-0.186923</td>\n",
       "      <td>-0.104615</td>\n",
       "      <td>-0.193846</td>\n",
       "      <td>-0.077692</td>\n",
       "      <td>-0.091538</td>\n",
       "      <td>-0.092308</td>\n",
       "      <td>0.160769</td>\n",
       "      <td>-0.179231</td>\n",
       "      <td>-0.326923</td>\n",
       "      <td>0.069231</td>\n",
       "      <td>-0.274615</td>\n",
       "      <td>-0.303077</td>\n",
       "      <td>-0.396154</td>\n",
       "      <td>0.679231</td>\n",
       "      <td>-0.465385</td>\n",
       "      <td>21</td>\n",
       "    </tr>\n",
       "  </tbody>\n",
       "</table>\n",
       "</div>"
      ],
      "text/plain": [
       "            goals_z      xg_z  crosses_z  boxtouches_z  passes_z  \\\n",
       "Bolivia94 -0.255385 -0.186923  -0.104615     -0.193846 -0.077692   \n",
       "\n",
       "           progpasses_z  takeons_z  progruns_z  tackles_z  interceptions_z  \\\n",
       "Bolivia94     -0.091538  -0.092308    0.160769  -0.179231        -0.326923   \n",
       "\n",
       "           clearances_z  blocks_z  aerials_z   fouls_z  fouled_z    nsxg_z  \\\n",
       "Bolivia94      0.069231 -0.274615  -0.303077 -0.396154  0.679231 -0.465385   \n",
       "\n",
       "           results  \n",
       "Bolivia94       21  "
      ]
     },
     "execution_count": 349,
     "metadata": {},
     "output_type": "execute_result"
    }
   ],
   "source": [
    "df2"
   ]
  },
  {
   "cell_type": "code",
   "execution_count": 350,
   "metadata": {},
   "outputs": [],
   "source": [
    "df2.to_csv('Bolivia.csv')\n"
   ]
  },
  {
   "cell_type": "code",
   "execution_count": 351,
   "metadata": {},
   "outputs": [],
   "source": [
    "# 94 - 21      Bolivia     C     3     0     1     2     1     4     −3     1\n"
   ]
  },
  {
   "cell_type": "markdown",
   "metadata": {},
   "source": [
    "# Trinidad and Tobago - NA"
   ]
  },
  {
   "cell_type": "code",
   "execution_count": 352,
   "metadata": {},
   "outputs": [],
   "source": [
    "# 06 - 27      Trinidad and Tobago     B     3     0     1     2     0     4     −4     1"
   ]
  },
  {
   "cell_type": "markdown",
   "metadata": {},
   "source": [
    "# Togo"
   ]
  },
  {
   "cell_type": "code",
   "execution_count": 353,
   "metadata": {},
   "outputs": [],
   "source": [
    "tog = ['Togo']\n",
    "tog_year = df.loc[df[\"team\"].isin(tog)]"
   ]
  },
  {
   "cell_type": "code",
   "execution_count": 354,
   "metadata": {},
   "outputs": [],
   "source": [
    "tog06year = tog_year.loc[tog_year[\"season\"].isin(year2006)]\n",
    "tog06xg = tog06year.sort_values(by=[\"goals_z\"], ascending=False)\n",
    "tog06xg13 =tog06xg.head(13)\n",
    "tog06xg13 = tog06xg13.drop(columns=['season', 'team'])\n",
    "tog06 = tog06xg13.mean()"
   ]
  },
  {
   "cell_type": "code",
   "execution_count": 355,
   "metadata": {},
   "outputs": [],
   "source": [
    "# tog06"
   ]
  },
  {
   "cell_type": "code",
   "execution_count": 356,
   "metadata": {},
   "outputs": [],
   "source": [
    "tog = pd.concat([tog06], axis=1).T\n",
    "tog.rename(index={0: 'Togo06'}, inplace=True)\n",
    "df2 = tog.assign(results=[30])\n"
   ]
  },
  {
   "cell_type": "code",
   "execution_count": 357,
   "metadata": {},
   "outputs": [
    {
     "data": {
      "text/html": [
       "<div>\n",
       "<style scoped>\n",
       "    .dataframe tbody tr th:only-of-type {\n",
       "        vertical-align: middle;\n",
       "    }\n",
       "\n",
       "    .dataframe tbody tr th {\n",
       "        vertical-align: top;\n",
       "    }\n",
       "\n",
       "    .dataframe thead th {\n",
       "        text-align: right;\n",
       "    }\n",
       "</style>\n",
       "<table border=\"1\" class=\"dataframe\">\n",
       "  <thead>\n",
       "    <tr style=\"text-align: right;\">\n",
       "      <th></th>\n",
       "      <th>goals_z</th>\n",
       "      <th>xg_z</th>\n",
       "      <th>crosses_z</th>\n",
       "      <th>boxtouches_z</th>\n",
       "      <th>passes_z</th>\n",
       "      <th>progpasses_z</th>\n",
       "      <th>takeons_z</th>\n",
       "      <th>progruns_z</th>\n",
       "      <th>tackles_z</th>\n",
       "      <th>interceptions_z</th>\n",
       "      <th>clearances_z</th>\n",
       "      <th>blocks_z</th>\n",
       "      <th>aerials_z</th>\n",
       "      <th>fouls_z</th>\n",
       "      <th>fouled_z</th>\n",
       "      <th>nsxg_z</th>\n",
       "      <th>results</th>\n",
       "    </tr>\n",
       "  </thead>\n",
       "  <tbody>\n",
       "    <tr>\n",
       "      <th>Togo06</th>\n",
       "      <td>-0.227692</td>\n",
       "      <td>-0.22</td>\n",
       "      <td>-0.184615</td>\n",
       "      <td>-0.028462</td>\n",
       "      <td>-0.176154</td>\n",
       "      <td>-0.295385</td>\n",
       "      <td>0.466923</td>\n",
       "      <td>0.152308</td>\n",
       "      <td>-0.525385</td>\n",
       "      <td>-0.310769</td>\n",
       "      <td>0.198462</td>\n",
       "      <td>-0.053077</td>\n",
       "      <td>0.132308</td>\n",
       "      <td>0.158462</td>\n",
       "      <td>0.039231</td>\n",
       "      <td>-0.256923</td>\n",
       "      <td>30</td>\n",
       "    </tr>\n",
       "  </tbody>\n",
       "</table>\n",
       "</div>"
      ],
      "text/plain": [
       "         goals_z  xg_z  crosses_z  boxtouches_z  passes_z  progpasses_z  \\\n",
       "Togo06 -0.227692 -0.22  -0.184615     -0.028462 -0.176154     -0.295385   \n",
       "\n",
       "        takeons_z  progruns_z  tackles_z  interceptions_z  clearances_z  \\\n",
       "Togo06   0.466923    0.152308  -0.525385        -0.310769      0.198462   \n",
       "\n",
       "        blocks_z  aerials_z   fouls_z  fouled_z    nsxg_z  results  \n",
       "Togo06 -0.053077   0.132308  0.158462  0.039231 -0.256923       30  "
      ]
     },
     "execution_count": 357,
     "metadata": {},
     "output_type": "execute_result"
    }
   ],
   "source": [
    "df2"
   ]
  },
  {
   "cell_type": "code",
   "execution_count": 358,
   "metadata": {},
   "outputs": [],
   "source": [
    "df2.to_csv('Togo.csv')\n"
   ]
  },
  {
   "cell_type": "code",
   "execution_count": 359,
   "metadata": {},
   "outputs": [],
   "source": [
    "# 06 - 30      Togo     G     3     0     0     3     1     6     −5     0\n"
   ]
  },
  {
   "cell_type": "markdown",
   "metadata": {},
   "source": [
    "# Czech Republic "
   ]
  },
  {
   "cell_type": "code",
   "execution_count": 360,
   "metadata": {},
   "outputs": [],
   "source": [
    "cze = ['Czech Republic']\n",
    "cze_year = df.loc[df[\"team\"].isin(cze)]"
   ]
  },
  {
   "cell_type": "code",
   "execution_count": 361,
   "metadata": {},
   "outputs": [],
   "source": [
    "cze06year = cze_year.loc[cze_year[\"season\"].isin(year2006)]\n",
    "cze06xg = cze06year.sort_values(by=[\"goals_z\"], ascending=False)\n",
    "cze06xg13 =cze06xg.head(13)\n",
    "cze06xg13 = cze06xg13.drop(columns=['season', 'team'])\n",
    "cze06 = cze06xg13.mean()"
   ]
  },
  {
   "cell_type": "code",
   "execution_count": 362,
   "metadata": {},
   "outputs": [],
   "source": [
    "# cze06"
   ]
  },
  {
   "cell_type": "code",
   "execution_count": 363,
   "metadata": {},
   "outputs": [],
   "source": [
    "cze = pd.concat([cze06], axis=1).T\n",
    "cze.rename(index={0: 'CzechRepublic06'}, inplace=True)\n",
    "df2 = cze.assign(results=[20])\n"
   ]
  },
  {
   "cell_type": "code",
   "execution_count": 364,
   "metadata": {},
   "outputs": [
    {
     "data": {
      "text/html": [
       "<div>\n",
       "<style scoped>\n",
       "    .dataframe tbody tr th:only-of-type {\n",
       "        vertical-align: middle;\n",
       "    }\n",
       "\n",
       "    .dataframe tbody tr th {\n",
       "        vertical-align: top;\n",
       "    }\n",
       "\n",
       "    .dataframe thead th {\n",
       "        text-align: right;\n",
       "    }\n",
       "</style>\n",
       "<table border=\"1\" class=\"dataframe\">\n",
       "  <thead>\n",
       "    <tr style=\"text-align: right;\">\n",
       "      <th></th>\n",
       "      <th>goals_z</th>\n",
       "      <th>xg_z</th>\n",
       "      <th>crosses_z</th>\n",
       "      <th>boxtouches_z</th>\n",
       "      <th>passes_z</th>\n",
       "      <th>progpasses_z</th>\n",
       "      <th>takeons_z</th>\n",
       "      <th>progruns_z</th>\n",
       "      <th>tackles_z</th>\n",
       "      <th>interceptions_z</th>\n",
       "      <th>clearances_z</th>\n",
       "      <th>blocks_z</th>\n",
       "      <th>aerials_z</th>\n",
       "      <th>fouls_z</th>\n",
       "      <th>fouled_z</th>\n",
       "      <th>nsxg_z</th>\n",
       "      <th>results</th>\n",
       "    </tr>\n",
       "  </thead>\n",
       "  <tbody>\n",
       "    <tr>\n",
       "      <th>CzechRepublic06</th>\n",
       "      <td>0.157692</td>\n",
       "      <td>0.022308</td>\n",
       "      <td>0.17</td>\n",
       "      <td>0.022308</td>\n",
       "      <td>0.096923</td>\n",
       "      <td>0.046923</td>\n",
       "      <td>-0.333846</td>\n",
       "      <td>0.28</td>\n",
       "      <td>0.041538</td>\n",
       "      <td>0.373077</td>\n",
       "      <td>-0.199231</td>\n",
       "      <td>-0.138462</td>\n",
       "      <td>-0.019231</td>\n",
       "      <td>0.062308</td>\n",
       "      <td>0.13</td>\n",
       "      <td>0.022308</td>\n",
       "      <td>20</td>\n",
       "    </tr>\n",
       "  </tbody>\n",
       "</table>\n",
       "</div>"
      ],
      "text/plain": [
       "                  goals_z      xg_z  crosses_z  boxtouches_z  passes_z  \\\n",
       "CzechRepublic06  0.157692  0.022308       0.17      0.022308  0.096923   \n",
       "\n",
       "                 progpasses_z  takeons_z  progruns_z  tackles_z  \\\n",
       "CzechRepublic06      0.046923  -0.333846        0.28   0.041538   \n",
       "\n",
       "                 interceptions_z  clearances_z  blocks_z  aerials_z   fouls_z  \\\n",
       "CzechRepublic06         0.373077     -0.199231 -0.138462  -0.019231  0.062308   \n",
       "\n",
       "                 fouled_z    nsxg_z  results  \n",
       "CzechRepublic06      0.13  0.022308       20  "
      ]
     },
     "execution_count": 364,
     "metadata": {},
     "output_type": "execute_result"
    }
   ],
   "source": [
    "df2"
   ]
  },
  {
   "cell_type": "code",
   "execution_count": 365,
   "metadata": {},
   "outputs": [],
   "source": [
    "df2.to_csv('Togo.csv')\n"
   ]
  },
  {
   "cell_type": "code",
   "execution_count": 366,
   "metadata": {},
   "outputs": [],
   "source": [
    "# 06 - 20      Czech Republic     E     3     1     0     2     3     4     −1     3"
   ]
  },
  {
   "cell_type": "markdown",
   "metadata": {},
   "source": [
    "# Angola"
   ]
  },
  {
   "cell_type": "code",
   "execution_count": 367,
   "metadata": {},
   "outputs": [],
   "source": [
    "ang = ['Angola']\n",
    "ang_year = df.loc[df[\"team\"].isin(ang)]"
   ]
  },
  {
   "cell_type": "code",
   "execution_count": 368,
   "metadata": {},
   "outputs": [],
   "source": [
    "ang06year = ang_year.loc[ang_year[\"season\"].isin(year2006)]\n",
    "ang06xg = ang06year.sort_values(by=[\"goals_z\"], ascending=False)\n",
    "ang06xg13 =ang06xg.head(13)\n",
    "ang06xg13 = ang06xg13.drop(columns=['season', 'team'])\n",
    "ang06 = ang06xg13.mean()"
   ]
  },
  {
   "cell_type": "code",
   "execution_count": 369,
   "metadata": {},
   "outputs": [],
   "source": [
    "# ang06"
   ]
  },
  {
   "cell_type": "code",
   "execution_count": 370,
   "metadata": {},
   "outputs": [],
   "source": [
    "ang = pd.concat([ang06], axis=1).T\n",
    "ang.rename(index={0: 'Angola06'}, inplace=True)\n",
    "df2 = ang.assign(results=[23])\n"
   ]
  },
  {
   "cell_type": "code",
   "execution_count": 371,
   "metadata": {},
   "outputs": [
    {
     "data": {
      "text/html": [
       "<div>\n",
       "<style scoped>\n",
       "    .dataframe tbody tr th:only-of-type {\n",
       "        vertical-align: middle;\n",
       "    }\n",
       "\n",
       "    .dataframe tbody tr th {\n",
       "        vertical-align: top;\n",
       "    }\n",
       "\n",
       "    .dataframe thead th {\n",
       "        text-align: right;\n",
       "    }\n",
       "</style>\n",
       "<table border=\"1\" class=\"dataframe\">\n",
       "  <thead>\n",
       "    <tr style=\"text-align: right;\">\n",
       "      <th></th>\n",
       "      <th>goals_z</th>\n",
       "      <th>xg_z</th>\n",
       "      <th>crosses_z</th>\n",
       "      <th>boxtouches_z</th>\n",
       "      <th>passes_z</th>\n",
       "      <th>progpasses_z</th>\n",
       "      <th>takeons_z</th>\n",
       "      <th>progruns_z</th>\n",
       "      <th>tackles_z</th>\n",
       "      <th>interceptions_z</th>\n",
       "      <th>clearances_z</th>\n",
       "      <th>blocks_z</th>\n",
       "      <th>aerials_z</th>\n",
       "      <th>fouls_z</th>\n",
       "      <th>fouled_z</th>\n",
       "      <th>nsxg_z</th>\n",
       "      <th>results</th>\n",
       "    </tr>\n",
       "  </thead>\n",
       "  <tbody>\n",
       "    <tr>\n",
       "      <th>Angola06</th>\n",
       "      <td>-0.227692</td>\n",
       "      <td>-0.166923</td>\n",
       "      <td>-0.387692</td>\n",
       "      <td>-0.362308</td>\n",
       "      <td>-0.344615</td>\n",
       "      <td>-0.163846</td>\n",
       "      <td>-0.155385</td>\n",
       "      <td>-0.520769</td>\n",
       "      <td>-0.423846</td>\n",
       "      <td>-0.303077</td>\n",
       "      <td>0.367692</td>\n",
       "      <td>-0.08</td>\n",
       "      <td>0.397692</td>\n",
       "      <td>0.669231</td>\n",
       "      <td>-0.140769</td>\n",
       "      <td>-0.572308</td>\n",
       "      <td>23</td>\n",
       "    </tr>\n",
       "  </tbody>\n",
       "</table>\n",
       "</div>"
      ],
      "text/plain": [
       "           goals_z      xg_z  crosses_z  boxtouches_z  passes_z  progpasses_z  \\\n",
       "Angola06 -0.227692 -0.166923  -0.387692     -0.362308 -0.344615     -0.163846   \n",
       "\n",
       "          takeons_z  progruns_z  tackles_z  interceptions_z  clearances_z  \\\n",
       "Angola06  -0.155385   -0.520769  -0.423846        -0.303077      0.367692   \n",
       "\n",
       "          blocks_z  aerials_z   fouls_z  fouled_z    nsxg_z  results  \n",
       "Angola06     -0.08   0.397692  0.669231 -0.140769 -0.572308       23  "
      ]
     },
     "execution_count": 371,
     "metadata": {},
     "output_type": "execute_result"
    }
   ],
   "source": [
    "df2"
   ]
  },
  {
   "cell_type": "code",
   "execution_count": 372,
   "metadata": {},
   "outputs": [],
   "source": [
    "df2.to_csv('Angola.csv')\n"
   ]
  },
  {
   "cell_type": "code",
   "execution_count": 373,
   "metadata": {},
   "outputs": [],
   "source": [
    "# 06 - 23      Angola     D     3     0     2     1     1     2     −1     2"
   ]
  },
  {
   "cell_type": "markdown",
   "metadata": {},
   "source": [
    "# United Arab Emirates"
   ]
  },
  {
   "cell_type": "code",
   "execution_count": 374,
   "metadata": {},
   "outputs": [],
   "source": [
    "uae = ['United Arab Emirates']\n",
    "uae_year = df.loc[df[\"team\"].isin(uae)]"
   ]
  },
  {
   "cell_type": "code",
   "execution_count": 375,
   "metadata": {},
   "outputs": [],
   "source": [
    "uae90year = uae_year.loc[uae_year[\"season\"].isin(year1990)]\n",
    "uae90xg = uae90year.sort_values(by=[\"goals_z\"], ascending=False)\n",
    "uae90xg13 =uae90xg.head(13)\n",
    "uae90xg13 = uae90xg13.drop(columns=['season', 'team'])\n",
    "uae90 = uae90xg13.mean()"
   ]
  },
  {
   "cell_type": "code",
   "execution_count": 376,
   "metadata": {},
   "outputs": [],
   "source": [
    "# uae90"
   ]
  },
  {
   "cell_type": "code",
   "execution_count": 377,
   "metadata": {},
   "outputs": [],
   "source": [
    "uae = pd.concat([uae90], axis=1).T\n",
    "uae.rename(index={0: 'UAE90'}, inplace=True)\n",
    "df2 = uae.assign(results=[24])\n"
   ]
  },
  {
   "cell_type": "code",
   "execution_count": 378,
   "metadata": {},
   "outputs": [
    {
     "data": {
      "text/html": [
       "<div>\n",
       "<style scoped>\n",
       "    .dataframe tbody tr th:only-of-type {\n",
       "        vertical-align: middle;\n",
       "    }\n",
       "\n",
       "    .dataframe tbody tr th {\n",
       "        vertical-align: top;\n",
       "    }\n",
       "\n",
       "    .dataframe thead th {\n",
       "        text-align: right;\n",
       "    }\n",
       "</style>\n",
       "<table border=\"1\" class=\"dataframe\">\n",
       "  <thead>\n",
       "    <tr style=\"text-align: right;\">\n",
       "      <th></th>\n",
       "      <th>goals_z</th>\n",
       "      <th>xg_z</th>\n",
       "      <th>crosses_z</th>\n",
       "      <th>boxtouches_z</th>\n",
       "      <th>passes_z</th>\n",
       "      <th>progpasses_z</th>\n",
       "      <th>takeons_z</th>\n",
       "      <th>progruns_z</th>\n",
       "      <th>tackles_z</th>\n",
       "      <th>interceptions_z</th>\n",
       "      <th>clearances_z</th>\n",
       "      <th>blocks_z</th>\n",
       "      <th>aerials_z</th>\n",
       "      <th>fouls_z</th>\n",
       "      <th>fouled_z</th>\n",
       "      <th>nsxg_z</th>\n",
       "      <th>results</th>\n",
       "    </tr>\n",
       "  </thead>\n",
       "  <tbody>\n",
       "    <tr>\n",
       "      <th>UAE90</th>\n",
       "      <td>-0.063077</td>\n",
       "      <td>-0.180769</td>\n",
       "      <td>-0.305385</td>\n",
       "      <td>-0.201538</td>\n",
       "      <td>-0.146154</td>\n",
       "      <td>-0.009231</td>\n",
       "      <td>-0.426154</td>\n",
       "      <td>-0.299231</td>\n",
       "      <td>-0.556923</td>\n",
       "      <td>-0.299231</td>\n",
       "      <td>-0.013846</td>\n",
       "      <td>-0.165385</td>\n",
       "      <td>-0.370769</td>\n",
       "      <td>-0.016154</td>\n",
       "      <td>-0.032308</td>\n",
       "      <td>-0.256923</td>\n",
       "      <td>24</td>\n",
       "    </tr>\n",
       "  </tbody>\n",
       "</table>\n",
       "</div>"
      ],
      "text/plain": [
       "        goals_z      xg_z  crosses_z  boxtouches_z  passes_z  progpasses_z  \\\n",
       "UAE90 -0.063077 -0.180769  -0.305385     -0.201538 -0.146154     -0.009231   \n",
       "\n",
       "       takeons_z  progruns_z  tackles_z  interceptions_z  clearances_z  \\\n",
       "UAE90  -0.426154   -0.299231  -0.556923        -0.299231     -0.013846   \n",
       "\n",
       "       blocks_z  aerials_z   fouls_z  fouled_z    nsxg_z  results  \n",
       "UAE90 -0.165385  -0.370769 -0.016154 -0.032308 -0.256923       24  "
      ]
     },
     "execution_count": 378,
     "metadata": {},
     "output_type": "execute_result"
    }
   ],
   "source": [
    "df2"
   ]
  },
  {
   "cell_type": "code",
   "execution_count": 379,
   "metadata": {},
   "outputs": [],
   "source": [
    "df2.to_csv('UAE.csv')\n"
   ]
  },
  {
   "cell_type": "code",
   "execution_count": 380,
   "metadata": {},
   "outputs": [],
   "source": [
    "# 90 - 24     D      United Arab Emirates     3     0     0     3     2     11     −9     0"
   ]
  },
  {
   "cell_type": "markdown",
   "metadata": {},
   "source": [
    "# Iceland"
   ]
  },
  {
   "cell_type": "code",
   "execution_count": 381,
   "metadata": {},
   "outputs": [],
   "source": [
    "ice = ['Iceland']\n",
    "ice_year = df.loc[df[\"team\"].isin(ice)]"
   ]
  },
  {
   "cell_type": "code",
   "execution_count": 382,
   "metadata": {},
   "outputs": [],
   "source": [
    "ice18year = ice_year.loc[ice_year[\"season\"].isin(year2018)]\n",
    "ice18xg = ice18year.sort_values(by=[\"goals_z\"], ascending=False)\n",
    "ice18xg13 =ice18xg.head(13)\n",
    "ice18xg13 = ice18xg13.drop(columns=['season', 'team'])\n",
    "ice18 = ice18xg13.mean()"
   ]
  },
  {
   "cell_type": "code",
   "execution_count": 383,
   "metadata": {},
   "outputs": [],
   "source": [
    "# ice18"
   ]
  },
  {
   "cell_type": "code",
   "execution_count": 384,
   "metadata": {},
   "outputs": [],
   "source": [
    "ice = pd.concat([ice18], axis=1).T\n",
    "ice.rename(index={0: 'Iceland18'}, inplace=True)\n",
    "df2 = ice.assign(results=[29])\n"
   ]
  },
  {
   "cell_type": "code",
   "execution_count": 385,
   "metadata": {},
   "outputs": [
    {
     "data": {
      "text/html": [
       "<div>\n",
       "<style scoped>\n",
       "    .dataframe tbody tr th:only-of-type {\n",
       "        vertical-align: middle;\n",
       "    }\n",
       "\n",
       "    .dataframe tbody tr th {\n",
       "        vertical-align: top;\n",
       "    }\n",
       "\n",
       "    .dataframe thead th {\n",
       "        text-align: right;\n",
       "    }\n",
       "</style>\n",
       "<table border=\"1\" class=\"dataframe\">\n",
       "  <thead>\n",
       "    <tr style=\"text-align: right;\">\n",
       "      <th></th>\n",
       "      <th>goals_z</th>\n",
       "      <th>xg_z</th>\n",
       "      <th>crosses_z</th>\n",
       "      <th>boxtouches_z</th>\n",
       "      <th>passes_z</th>\n",
       "      <th>progpasses_z</th>\n",
       "      <th>takeons_z</th>\n",
       "      <th>progruns_z</th>\n",
       "      <th>tackles_z</th>\n",
       "      <th>interceptions_z</th>\n",
       "      <th>clearances_z</th>\n",
       "      <th>blocks_z</th>\n",
       "      <th>aerials_z</th>\n",
       "      <th>fouls_z</th>\n",
       "      <th>fouled_z</th>\n",
       "      <th>nsxg_z</th>\n",
       "      <th>results</th>\n",
       "    </tr>\n",
       "  </thead>\n",
       "  <tbody>\n",
       "    <tr>\n",
       "      <th>Iceland18</th>\n",
       "      <td>-0.066154</td>\n",
       "      <td>0.3</td>\n",
       "      <td>0.147692</td>\n",
       "      <td>0.244615</td>\n",
       "      <td>-0.453846</td>\n",
       "      <td>0.003846</td>\n",
       "      <td>0.029231</td>\n",
       "      <td>-0.213846</td>\n",
       "      <td>-0.634615</td>\n",
       "      <td>-0.443077</td>\n",
       "      <td>0.395385</td>\n",
       "      <td>-0.274615</td>\n",
       "      <td>0.235385</td>\n",
       "      <td>0.013846</td>\n",
       "      <td>-0.226154</td>\n",
       "      <td>0.127692</td>\n",
       "      <td>29</td>\n",
       "    </tr>\n",
       "  </tbody>\n",
       "</table>\n",
       "</div>"
      ],
      "text/plain": [
       "            goals_z  xg_z  crosses_z  boxtouches_z  passes_z  progpasses_z  \\\n",
       "Iceland18 -0.066154   0.3   0.147692      0.244615 -0.453846      0.003846   \n",
       "\n",
       "           takeons_z  progruns_z  tackles_z  interceptions_z  clearances_z  \\\n",
       "Iceland18   0.029231   -0.213846  -0.634615        -0.443077      0.395385   \n",
       "\n",
       "           blocks_z  aerials_z   fouls_z  fouled_z    nsxg_z  results  \n",
       "Iceland18 -0.274615   0.235385  0.013846 -0.226154  0.127692       29  "
      ]
     },
     "execution_count": 385,
     "metadata": {},
     "output_type": "execute_result"
    }
   ],
   "source": [
    "df2"
   ]
  },
  {
   "cell_type": "code",
   "execution_count": 386,
   "metadata": {},
   "outputs": [],
   "source": [
    "df2.to_csv('Iceland.csv')\n"
   ]
  },
  {
   "cell_type": "code",
   "execution_count": 387,
   "metadata": {},
   "outputs": [],
   "source": [
    "# 18 - 29      Iceland     D     3     0     1     2     1     2     5     −3"
   ]
  },
  {
   "cell_type": "markdown",
   "metadata": {},
   "source": [
    "# North Korea - NA"
   ]
  }
 ],
 "metadata": {
  "kernelspec": {
   "display_name": "Python 3 (ipykernel)",
   "language": "python",
   "name": "python3"
  },
  "language_info": {
   "codemirror_mode": {
    "name": "ipython",
    "version": 3
   },
   "file_extension": ".py",
   "mimetype": "text/x-python",
   "name": "python",
   "nbconvert_exporter": "python",
   "pygments_lexer": "ipython3",
   "version": "3.9.12"
  }
 },
 "nbformat": 4,
 "nbformat_minor": 2
}
