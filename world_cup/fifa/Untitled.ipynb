{
 "cells": [
  {
   "cell_type": "code",
   "execution_count": 1,
   "metadata": {},
   "outputs": [],
   "source": [
    "import pandas as pd \n",
    "import numpy as np"
   ]
  },
  {
   "cell_type": "code",
   "execution_count": 2,
   "metadata": {},
   "outputs": [],
   "source": [
    "df = pd.concat(map(pd.read_csv, ['FIFA - 1962.csv', 'FIFA - 1966.csv', 'FIFA - 1970.csv', \n",
    "                                 'FIFA - 1970.csv', 'FIFA - 1974.csv', 'FIFA - 1978.csv', \n",
    "                                 'FIFA - 1982.csv', 'FIFA - 1986.csv', 'FIFA - 1990.csv', \n",
    "                                 'FIFA - 1994.csv', 'FIFA - 1998.csv',  'FIFA - 2002.csv', \n",
    "                                 'FIFA - 2006.csv','FIFA - 2010.csv', 'FIFA - 2014.csv', \n",
    "                                 'FIFA - 2018.csv']))\n"
   ]
  },
  {
   "cell_type": "code",
   "execution_count": 3,
   "metadata": {},
   "outputs": [],
   "source": [
    "country = pd.read_csv('stats_df.csv')"
   ]
  },
  {
   "cell_type": "code",
   "execution_count": 4,
   "metadata": {},
   "outputs": [
    {
     "data": {
      "text/html": [
       "<div>\n",
       "<style scoped>\n",
       "    .dataframe tbody tr th:only-of-type {\n",
       "        vertical-align: middle;\n",
       "    }\n",
       "\n",
       "    .dataframe tbody tr th {\n",
       "        vertical-align: top;\n",
       "    }\n",
       "\n",
       "    .dataframe thead th {\n",
       "        text-align: right;\n",
       "    }\n",
       "</style>\n",
       "<table border=\"1\" class=\"dataframe\">\n",
       "  <thead>\n",
       "    <tr style=\"text-align: right;\">\n",
       "      <th></th>\n",
       "      <th>Country</th>\n",
       "      <th>Year</th>\n",
       "      <th>goals_z</th>\n",
       "      <th>xg_z</th>\n",
       "      <th>boxtouches_z</th>\n",
       "      <th>progpasses_z</th>\n",
       "      <th>progruns_z</th>\n",
       "      <th>new_xg</th>\n",
       "      <th>Fouled</th>\n",
       "      <th>results</th>\n",
       "    </tr>\n",
       "  </thead>\n",
       "  <tbody>\n",
       "    <tr>\n",
       "      <th>0</th>\n",
       "      <td>Germany</td>\n",
       "      <td>2010</td>\n",
       "      <td>0.816923</td>\n",
       "      <td>0.513077</td>\n",
       "      <td>0.458462</td>\n",
       "      <td>-0.367692</td>\n",
       "      <td>0.142308</td>\n",
       "      <td>1.030100</td>\n",
       "      <td>0.160000</td>\n",
       "      <td>3</td>\n",
       "    </tr>\n",
       "    <tr>\n",
       "      <th>1</th>\n",
       "      <td>Germany</td>\n",
       "      <td>2014</td>\n",
       "      <td>0.755385</td>\n",
       "      <td>0.719231</td>\n",
       "      <td>0.601538</td>\n",
       "      <td>0.316154</td>\n",
       "      <td>0.198462</td>\n",
       "      <td>1.650710</td>\n",
       "      <td>0.163846</td>\n",
       "      <td>1</td>\n",
       "    </tr>\n",
       "    <tr>\n",
       "      <th>2</th>\n",
       "      <td>Germany</td>\n",
       "      <td>2018</td>\n",
       "      <td>-0.066154</td>\n",
       "      <td>0.615385</td>\n",
       "      <td>1.570000</td>\n",
       "      <td>0.565385</td>\n",
       "      <td>0.930769</td>\n",
       "      <td>-30.732480</td>\n",
       "      <td>0.520000</td>\n",
       "      <td>32</td>\n",
       "    </tr>\n",
       "    <tr>\n",
       "      <th>3</th>\n",
       "      <td>Germany</td>\n",
       "      <td>2006</td>\n",
       "      <td>0.560000</td>\n",
       "      <td>0.482308</td>\n",
       "      <td>0.450769</td>\n",
       "      <td>0.300769</td>\n",
       "      <td>0.272308</td>\n",
       "      <td>1.487637</td>\n",
       "      <td>1.487637</td>\n",
       "      <td>3</td>\n",
       "    </tr>\n",
       "    <tr>\n",
       "      <th>4</th>\n",
       "      <td>Germany</td>\n",
       "      <td>2002</td>\n",
       "      <td>0.563077</td>\n",
       "      <td>0.426923</td>\n",
       "      <td>0.280769</td>\n",
       "      <td>-0.102308</td>\n",
       "      <td>0.011538</td>\n",
       "      <td>1.668033</td>\n",
       "      <td>0.053847</td>\n",
       "      <td>2</td>\n",
       "    </tr>\n",
       "  </tbody>\n",
       "</table>\n",
       "</div>"
      ],
      "text/plain": [
       "   Country  Year   goals_z      xg_z  boxtouches_z  progpasses_z  progruns_z  \\\n",
       "0  Germany  2010  0.816923  0.513077      0.458462     -0.367692    0.142308   \n",
       "1  Germany  2014  0.755385  0.719231      0.601538      0.316154    0.198462   \n",
       "2  Germany  2018 -0.066154  0.615385      1.570000      0.565385    0.930769   \n",
       "3  Germany  2006  0.560000  0.482308      0.450769      0.300769    0.272308   \n",
       "4  Germany  2002  0.563077  0.426923      0.280769     -0.102308    0.011538   \n",
       "\n",
       "      new_xg    Fouled  results  \n",
       "0   1.030100  0.160000        3  \n",
       "1   1.650710  0.163846        1  \n",
       "2 -30.732480  0.520000       32  \n",
       "3   1.487637  1.487637        3  \n",
       "4   1.668033  0.053847        2  "
      ]
     },
     "execution_count": 4,
     "metadata": {},
     "output_type": "execute_result"
    }
   ],
   "source": [
    "country.head()"
   ]
  },
  {
   "cell_type": "code",
   "execution_count": 5,
   "metadata": {},
   "outputs": [
    {
     "data": {
      "text/html": [
       "<div>\n",
       "<style scoped>\n",
       "    .dataframe tbody tr th:only-of-type {\n",
       "        vertical-align: middle;\n",
       "    }\n",
       "\n",
       "    .dataframe tbody tr th {\n",
       "        vertical-align: top;\n",
       "    }\n",
       "\n",
       "    .dataframe thead th {\n",
       "        text-align: right;\n",
       "    }\n",
       "</style>\n",
       "<table border=\"1\" class=\"dataframe\">\n",
       "  <thead>\n",
       "    <tr style=\"text-align: right;\">\n",
       "      <th></th>\n",
       "      <th>Country</th>\n",
       "      <th>Year</th>\n",
       "      <th>goals_z</th>\n",
       "      <th>xg_z</th>\n",
       "      <th>boxtouches_z</th>\n",
       "      <th>progpasses_z</th>\n",
       "      <th>progruns_z</th>\n",
       "      <th>new_xg</th>\n",
       "      <th>Fouled</th>\n",
       "      <th>results</th>\n",
       "    </tr>\n",
       "  </thead>\n",
       "  <tbody>\n",
       "    <tr>\n",
       "      <th>92</th>\n",
       "      <td>Croatia</td>\n",
       "      <td>2014</td>\n",
       "      <td>0.412308</td>\n",
       "      <td>0.366923</td>\n",
       "      <td>0.516154</td>\n",
       "      <td>0.140000</td>\n",
       "      <td>0.035385</td>\n",
       "      <td>1.457087</td>\n",
       "      <td>-0.526923</td>\n",
       "      <td>32</td>\n",
       "    </tr>\n",
       "    <tr>\n",
       "      <th>93</th>\n",
       "      <td>Croatia</td>\n",
       "      <td>2018</td>\n",
       "      <td>0.520000</td>\n",
       "      <td>0.379231</td>\n",
       "      <td>0.375385</td>\n",
       "      <td>0.074615</td>\n",
       "      <td>0.265385</td>\n",
       "      <td>1.110948</td>\n",
       "      <td>-0.059231</td>\n",
       "      <td>2</td>\n",
       "    </tr>\n",
       "    <tr>\n",
       "      <th>94</th>\n",
       "      <td>Croatia</td>\n",
       "      <td>2006</td>\n",
       "      <td>-0.035385</td>\n",
       "      <td>0.464615</td>\n",
       "      <td>0.295385</td>\n",
       "      <td>0.014615</td>\n",
       "      <td>0.680769</td>\n",
       "      <td>-20.608450</td>\n",
       "      <td>0.005385</td>\n",
       "      <td>32</td>\n",
       "    </tr>\n",
       "    <tr>\n",
       "      <th>95</th>\n",
       "      <td>Croatia</td>\n",
       "      <td>2002</td>\n",
       "      <td>-0.085385</td>\n",
       "      <td>-0.041538</td>\n",
       "      <td>0.324615</td>\n",
       "      <td>-0.333077</td>\n",
       "      <td>-0.306923</td>\n",
       "      <td>-2.585583</td>\n",
       "      <td>0.183846</td>\n",
       "      <td>32</td>\n",
       "    </tr>\n",
       "    <tr>\n",
       "      <th>96</th>\n",
       "      <td>Morocco</td>\n",
       "      <td>2018</td>\n",
       "      <td>-0.243077</td>\n",
       "      <td>0.000769</td>\n",
       "      <td>0.120769</td>\n",
       "      <td>-0.327692</td>\n",
       "      <td>0.037692</td>\n",
       "      <td>0.006331</td>\n",
       "      <td>-0.900769</td>\n",
       "      <td>32</td>\n",
       "    </tr>\n",
       "  </tbody>\n",
       "</table>\n",
       "</div>"
      ],
      "text/plain": [
       "    Country  Year   goals_z      xg_z  boxtouches_z  progpasses_z  progruns_z  \\\n",
       "92  Croatia  2014  0.412308  0.366923      0.516154      0.140000    0.035385   \n",
       "93  Croatia  2018  0.520000  0.379231      0.375385      0.074615    0.265385   \n",
       "94  Croatia  2006 -0.035385  0.464615      0.295385      0.014615    0.680769   \n",
       "95  Croatia  2002 -0.085385 -0.041538      0.324615     -0.333077   -0.306923   \n",
       "96  Morocco  2018 -0.243077  0.000769      0.120769     -0.327692    0.037692   \n",
       "\n",
       "       new_xg    Fouled  results  \n",
       "92   1.457087 -0.526923       32  \n",
       "93   1.110948 -0.059231        2  \n",
       "94 -20.608450  0.005385       32  \n",
       "95  -2.585583  0.183846       32  \n",
       "96   0.006331 -0.900769       32  "
      ]
     },
     "execution_count": 5,
     "metadata": {},
     "output_type": "execute_result"
    }
   ],
   "source": [
    "country.tail()"
   ]
  },
  {
   "cell_type": "code",
   "execution_count": 6,
   "metadata": {},
   "outputs": [
    {
     "data": {
      "text/plain": [
       "(97, 10)"
      ]
     },
     "execution_count": 6,
     "metadata": {},
     "output_type": "execute_result"
    }
   ],
   "source": [
    "country.shape"
   ]
  },
  {
   "cell_type": "code",
   "execution_count": 7,
   "metadata": {},
   "outputs": [
    {
     "data": {
      "text/plain": [
       "Country         0\n",
       "Year            0\n",
       "goals_z         0\n",
       "xg_z            0\n",
       "boxtouches_z    0\n",
       "progpasses_z    0\n",
       "progruns_z      0\n",
       "new_xg          0\n",
       "Fouled          0\n",
       "results         0\n",
       "dtype: int64"
      ]
     },
     "execution_count": 7,
     "metadata": {},
     "output_type": "execute_result"
    }
   ],
   "source": [
    "country.isnull().sum()"
   ]
  },
  {
   "cell_type": "code",
   "execution_count": 12,
   "metadata": {},
   "outputs": [
    {
     "data": {
      "text/html": [
       "<div>\n",
       "<style scoped>\n",
       "    .dataframe tbody tr th:only-of-type {\n",
       "        vertical-align: middle;\n",
       "    }\n",
       "\n",
       "    .dataframe tbody tr th {\n",
       "        vertical-align: top;\n",
       "    }\n",
       "\n",
       "    .dataframe thead th {\n",
       "        text-align: right;\n",
       "    }\n",
       "</style>\n",
       "<table border=\"1\" class=\"dataframe\">\n",
       "  <thead>\n",
       "    <tr style=\"text-align: right;\">\n",
       "      <th></th>\n",
       "      <th>Country</th>\n",
       "      <th>Year</th>\n",
       "      <th>goals_z</th>\n",
       "      <th>xg_z</th>\n",
       "      <th>boxtouches_z</th>\n",
       "      <th>progpasses_z</th>\n",
       "      <th>progruns_z</th>\n",
       "      <th>new_xg</th>\n",
       "      <th>Fouled</th>\n",
       "      <th>results</th>\n",
       "    </tr>\n",
       "  </thead>\n",
       "  <tbody>\n",
       "    <tr>\n",
       "      <th>1</th>\n",
       "      <td>Germany</td>\n",
       "      <td>2014</td>\n",
       "      <td>0.755385</td>\n",
       "      <td>0.719231</td>\n",
       "      <td>0.601538</td>\n",
       "      <td>0.316154</td>\n",
       "      <td>0.198462</td>\n",
       "      <td>1.650710</td>\n",
       "      <td>0.163846</td>\n",
       "      <td>1</td>\n",
       "    </tr>\n",
       "    <tr>\n",
       "      <th>9</th>\n",
       "      <td>Spain</td>\n",
       "      <td>2010</td>\n",
       "      <td>0.180000</td>\n",
       "      <td>0.539231</td>\n",
       "      <td>0.868462</td>\n",
       "      <td>0.320000</td>\n",
       "      <td>1.432308</td>\n",
       "      <td>7.230700</td>\n",
       "      <td>0.603070</td>\n",
       "      <td>1</td>\n",
       "    </tr>\n",
       "    <tr>\n",
       "      <th>26</th>\n",
       "      <td>Brazil</td>\n",
       "      <td>2002</td>\n",
       "      <td>0.843846</td>\n",
       "      <td>0.712308</td>\n",
       "      <td>0.245385</td>\n",
       "      <td>-0.181538</td>\n",
       "      <td>0.834615</td>\n",
       "      <td>1.206928</td>\n",
       "      <td>0.235384</td>\n",
       "      <td>1</td>\n",
       "    </tr>\n",
       "    <tr>\n",
       "      <th>60</th>\n",
       "      <td>France</td>\n",
       "      <td>2018</td>\n",
       "      <td>0.489231</td>\n",
       "      <td>0.231538</td>\n",
       "      <td>0.189231</td>\n",
       "      <td>-0.039231</td>\n",
       "      <td>0.080769</td>\n",
       "      <td>0.737421</td>\n",
       "      <td>0.140769</td>\n",
       "      <td>1</td>\n",
       "    </tr>\n",
       "  </tbody>\n",
       "</table>\n",
       "</div>"
      ],
      "text/plain": [
       "    Country  Year   goals_z      xg_z  boxtouches_z  progpasses_z  progruns_z  \\\n",
       "1   Germany  2014  0.755385  0.719231      0.601538      0.316154    0.198462   \n",
       "9     Spain  2010  0.180000  0.539231      0.868462      0.320000    1.432308   \n",
       "26   Brazil  2002  0.843846  0.712308      0.245385     -0.181538    0.834615   \n",
       "60   France  2018  0.489231  0.231538      0.189231     -0.039231    0.080769   \n",
       "\n",
       "      new_xg    Fouled  results  \n",
       "1   1.650710  0.163846        1  \n",
       "9   7.230700  0.603070        1  \n",
       "26  1.206928  0.235384        1  \n",
       "60  0.737421  0.140769        1  "
      ]
     },
     "execution_count": 12,
     "metadata": {},
     "output_type": "execute_result"
    }
   ],
   "source": [
    "country[country['results'] == 1]"
   ]
  },
  {
   "cell_type": "code",
   "execution_count": null,
   "metadata": {},
   "outputs": [],
   "source": []
  },
  {
   "cell_type": "code",
   "execution_count": null,
   "metadata": {},
   "outputs": [],
   "source": []
  },
  {
   "cell_type": "code",
   "execution_count": 8,
   "metadata": {},
   "outputs": [],
   "source": [
    "df = country.copy()"
   ]
  },
  {
   "cell_type": "code",
   "execution_count": 9,
   "metadata": {},
   "outputs": [
    {
     "name": "stdout",
     "output_type": "stream",
     "text": [
      "<class 'pandas.core.frame.DataFrame'>\n",
      "RangeIndex: 97 entries, 0 to 96\n",
      "Data columns (total 10 columns):\n",
      " #   Column        Non-Null Count  Dtype  \n",
      "---  ------        --------------  -----  \n",
      " 0   Country       97 non-null     object \n",
      " 1   Year          97 non-null     int64  \n",
      " 2   goals_z       97 non-null     float64\n",
      " 3   xg_z          97 non-null     float64\n",
      " 4   boxtouches_z  97 non-null     float64\n",
      " 5   progpasses_z  97 non-null     float64\n",
      " 6   progruns_z    97 non-null     float64\n",
      " 7   new_xg        97 non-null     float64\n",
      " 8   Fouled        97 non-null     float64\n",
      " 9   results       97 non-null     int64  \n",
      "dtypes: float64(7), int64(2), object(1)\n",
      "memory usage: 7.7+ KB\n"
     ]
    }
   ],
   "source": [
    "df.info()"
   ]
  },
  {
   "cell_type": "code",
   "execution_count": 10,
   "metadata": {},
   "outputs": [],
   "source": [
    "import seaborn as sns\n",
    "%matplotlib inline"
   ]
  },
  {
   "cell_type": "code",
   "execution_count": 11,
   "metadata": {},
   "outputs": [
    {
     "data": {
      "text/plain": [
       "<AxesSubplot:>"
      ]
     },
     "execution_count": 11,
     "metadata": {},
     "output_type": "execute_result"
    },
    {
     "data": {
      "image/png": "[encoded data removed]",
      "text/plain": [
       "<Figure size 432x288 with 2 Axes>"
      ]
     },
     "metadata": {
      "needs_background": "light"
     },
     "output_type": "display_data"
    }
   ],
   "source": [
    "Var_Corr = df.corr()\n",
    "# plot the heatmap and annotation on it\n",
    "sns.heatmap(Var_Corr, xticklabels=Var_Corr.columns, yticklabels=Var_Corr.columns, annot=True)"
   ]
  },
  {
   "cell_type": "code",
   "execution_count": 12,
   "metadata": {},
   "outputs": [],
   "source": [
    "df.columns = df.columns.str.lower().str.replace(' ', '_')\n",
    "string_columns = list(df.dtypes[df.dtypes == 'object'].index)\n"
   ]
  },
  {
   "cell_type": "code",
   "execution_count": 13,
   "metadata": {},
   "outputs": [],
   "source": [
    "for col in string_columns:\n",
    "    df[col] = df[col].str.lower().str.replace(' ', '_')"
   ]
  },
  {
   "cell_type": "code",
   "execution_count": 14,
   "metadata": {},
   "outputs": [
    {
     "data": {
      "text/html": [
       "<div>\n",
       "<style scoped>\n",
       "    .dataframe tbody tr th:only-of-type {\n",
       "        vertical-align: middle;\n",
       "    }\n",
       "\n",
       "    .dataframe tbody tr th {\n",
       "        vertical-align: top;\n",
       "    }\n",
       "\n",
       "    .dataframe thead th {\n",
       "        text-align: right;\n",
       "    }\n",
       "</style>\n",
       "<table border=\"1\" class=\"dataframe\">\n",
       "  <thead>\n",
       "    <tr style=\"text-align: right;\">\n",
       "      <th></th>\n",
       "      <th>country</th>\n",
       "      <th>year</th>\n",
       "      <th>goals_z</th>\n",
       "      <th>xg_z</th>\n",
       "      <th>boxtouches_z</th>\n",
       "      <th>progpasses_z</th>\n",
       "      <th>progruns_z</th>\n",
       "      <th>new_xg</th>\n",
       "      <th>fouled</th>\n",
       "      <th>results</th>\n",
       "    </tr>\n",
       "  </thead>\n",
       "  <tbody>\n",
       "    <tr>\n",
       "      <th>0</th>\n",
       "      <td>germany</td>\n",
       "      <td>2010</td>\n",
       "      <td>0.816923</td>\n",
       "      <td>0.513077</td>\n",
       "      <td>0.458462</td>\n",
       "      <td>-0.367692</td>\n",
       "      <td>0.142308</td>\n",
       "      <td>1.030100</td>\n",
       "      <td>0.160000</td>\n",
       "      <td>3</td>\n",
       "    </tr>\n",
       "    <tr>\n",
       "      <th>1</th>\n",
       "      <td>germany</td>\n",
       "      <td>2014</td>\n",
       "      <td>0.755385</td>\n",
       "      <td>0.719231</td>\n",
       "      <td>0.601538</td>\n",
       "      <td>0.316154</td>\n",
       "      <td>0.198462</td>\n",
       "      <td>1.650710</td>\n",
       "      <td>0.163846</td>\n",
       "      <td>1</td>\n",
       "    </tr>\n",
       "    <tr>\n",
       "      <th>2</th>\n",
       "      <td>germany</td>\n",
       "      <td>2018</td>\n",
       "      <td>-0.066154</td>\n",
       "      <td>0.615385</td>\n",
       "      <td>1.570000</td>\n",
       "      <td>0.565385</td>\n",
       "      <td>0.930769</td>\n",
       "      <td>-30.732480</td>\n",
       "      <td>0.520000</td>\n",
       "      <td>32</td>\n",
       "    </tr>\n",
       "    <tr>\n",
       "      <th>3</th>\n",
       "      <td>germany</td>\n",
       "      <td>2006</td>\n",
       "      <td>0.560000</td>\n",
       "      <td>0.482308</td>\n",
       "      <td>0.450769</td>\n",
       "      <td>0.300769</td>\n",
       "      <td>0.272308</td>\n",
       "      <td>1.487637</td>\n",
       "      <td>1.487637</td>\n",
       "      <td>3</td>\n",
       "    </tr>\n",
       "    <tr>\n",
       "      <th>4</th>\n",
       "      <td>germany</td>\n",
       "      <td>2002</td>\n",
       "      <td>0.563077</td>\n",
       "      <td>0.426923</td>\n",
       "      <td>0.280769</td>\n",
       "      <td>-0.102308</td>\n",
       "      <td>0.011538</td>\n",
       "      <td>1.668033</td>\n",
       "      <td>0.053847</td>\n",
       "      <td>2</td>\n",
       "    </tr>\n",
       "    <tr>\n",
       "      <th>...</th>\n",
       "      <td>...</td>\n",
       "      <td>...</td>\n",
       "      <td>...</td>\n",
       "      <td>...</td>\n",
       "      <td>...</td>\n",
       "      <td>...</td>\n",
       "      <td>...</td>\n",
       "      <td>...</td>\n",
       "      <td>...</td>\n",
       "      <td>...</td>\n",
       "    </tr>\n",
       "    <tr>\n",
       "      <th>92</th>\n",
       "      <td>croatia</td>\n",
       "      <td>2014</td>\n",
       "      <td>0.412308</td>\n",
       "      <td>0.366923</td>\n",
       "      <td>0.516154</td>\n",
       "      <td>0.140000</td>\n",
       "      <td>0.035385</td>\n",
       "      <td>1.457087</td>\n",
       "      <td>-0.526923</td>\n",
       "      <td>32</td>\n",
       "    </tr>\n",
       "    <tr>\n",
       "      <th>93</th>\n",
       "      <td>croatia</td>\n",
       "      <td>2018</td>\n",
       "      <td>0.520000</td>\n",
       "      <td>0.379231</td>\n",
       "      <td>0.375385</td>\n",
       "      <td>0.074615</td>\n",
       "      <td>0.265385</td>\n",
       "      <td>1.110948</td>\n",
       "      <td>-0.059231</td>\n",
       "      <td>2</td>\n",
       "    </tr>\n",
       "    <tr>\n",
       "      <th>94</th>\n",
       "      <td>croatia</td>\n",
       "      <td>2006</td>\n",
       "      <td>-0.035385</td>\n",
       "      <td>0.464615</td>\n",
       "      <td>0.295385</td>\n",
       "      <td>0.014615</td>\n",
       "      <td>0.680769</td>\n",
       "      <td>-20.608450</td>\n",
       "      <td>0.005385</td>\n",
       "      <td>32</td>\n",
       "    </tr>\n",
       "    <tr>\n",
       "      <th>95</th>\n",
       "      <td>croatia</td>\n",
       "      <td>2002</td>\n",
       "      <td>-0.085385</td>\n",
       "      <td>-0.041538</td>\n",
       "      <td>0.324615</td>\n",
       "      <td>-0.333077</td>\n",
       "      <td>-0.306923</td>\n",
       "      <td>-2.585583</td>\n",
       "      <td>0.183846</td>\n",
       "      <td>32</td>\n",
       "    </tr>\n",
       "    <tr>\n",
       "      <th>96</th>\n",
       "      <td>morocco</td>\n",
       "      <td>2018</td>\n",
       "      <td>-0.243077</td>\n",
       "      <td>0.000769</td>\n",
       "      <td>0.120769</td>\n",
       "      <td>-0.327692</td>\n",
       "      <td>0.037692</td>\n",
       "      <td>0.006331</td>\n",
       "      <td>-0.900769</td>\n",
       "      <td>32</td>\n",
       "    </tr>\n",
       "  </tbody>\n",
       "</table>\n",
       "<p>97 rows × 10 columns</p>\n",
       "</div>"
      ],
      "text/plain": [
       "    country  year   goals_z      xg_z  boxtouches_z  progpasses_z  progruns_z  \\\n",
       "0   germany  2010  0.816923  0.513077      0.458462     -0.367692    0.142308   \n",
       "1   germany  2014  0.755385  0.719231      0.601538      0.316154    0.198462   \n",
       "2   germany  2018 -0.066154  0.615385      1.570000      0.565385    0.930769   \n",
       "3   germany  2006  0.560000  0.482308      0.450769      0.300769    0.272308   \n",
       "4   germany  2002  0.563077  0.426923      0.280769     -0.102308    0.011538   \n",
       "..      ...   ...       ...       ...           ...           ...         ...   \n",
       "92  croatia  2014  0.412308  0.366923      0.516154      0.140000    0.035385   \n",
       "93  croatia  2018  0.520000  0.379231      0.375385      0.074615    0.265385   \n",
       "94  croatia  2006 -0.035385  0.464615      0.295385      0.014615    0.680769   \n",
       "95  croatia  2002 -0.085385 -0.041538      0.324615     -0.333077   -0.306923   \n",
       "96  morocco  2018 -0.243077  0.000769      0.120769     -0.327692    0.037692   \n",
       "\n",
       "       new_xg    fouled  results  \n",
       "0    1.030100  0.160000        3  \n",
       "1    1.650710  0.163846        1  \n",
       "2  -30.732480  0.520000       32  \n",
       "3    1.487637  1.487637        3  \n",
       "4    1.668033  0.053847        2  \n",
       "..        ...       ...      ...  \n",
       "92   1.457087 -0.526923       32  \n",
       "93   1.110948 -0.059231        2  \n",
       "94 -20.608450  0.005385       32  \n",
       "95  -2.585583  0.183846       32  \n",
       "96   0.006331 -0.900769       32  \n",
       "\n",
       "[97 rows x 10 columns]"
      ]
     },
     "execution_count": 14,
     "metadata": {},
     "output_type": "execute_result"
    }
   ],
   "source": [
    "df"
   ]
  },
  {
   "cell_type": "code",
   "execution_count": 15,
   "metadata": {},
   "outputs": [],
   "source": [
    "df = df.drop(columns=['country'])"
   ]
  },
  {
   "cell_type": "code",
   "execution_count": 16,
   "metadata": {},
   "outputs": [],
   "source": [
    "from sklearn.model_selection import train_test_split"
   ]
  },
  {
   "cell_type": "code",
   "execution_count": 17,
   "metadata": {},
   "outputs": [],
   "source": [
    "df_train, df_test = train_test_split(df, test_size=0.15, random_state=1)"
   ]
  },
  {
   "cell_type": "code",
   "execution_count": 18,
   "metadata": {},
   "outputs": [
    {
     "data": {
      "text/html": [
       "<div>\n",
       "<style scoped>\n",
       "    .dataframe tbody tr th:only-of-type {\n",
       "        vertical-align: middle;\n",
       "    }\n",
       "\n",
       "    .dataframe tbody tr th {\n",
       "        vertical-align: top;\n",
       "    }\n",
       "\n",
       "    .dataframe thead th {\n",
       "        text-align: right;\n",
       "    }\n",
       "</style>\n",
       "<table border=\"1\" class=\"dataframe\">\n",
       "  <thead>\n",
       "    <tr style=\"text-align: right;\">\n",
       "      <th></th>\n",
       "      <th>year</th>\n",
       "      <th>goals_z</th>\n",
       "      <th>xg_z</th>\n",
       "      <th>boxtouches_z</th>\n",
       "      <th>progpasses_z</th>\n",
       "      <th>progruns_z</th>\n",
       "      <th>new_xg</th>\n",
       "      <th>fouled</th>\n",
       "      <th>results</th>\n",
       "    </tr>\n",
       "  </thead>\n",
       "  <tbody>\n",
       "    <tr>\n",
       "      <th>27</th>\n",
       "      <td>2014</td>\n",
       "      <td>0.137692</td>\n",
       "      <td>0.210000</td>\n",
       "      <td>0.536154</td>\n",
       "      <td>-0.097692</td>\n",
       "      <td>0.853846</td>\n",
       "      <td>4.960900</td>\n",
       "      <td>-0.453077</td>\n",
       "      <td>8</td>\n",
       "    </tr>\n",
       "    <tr>\n",
       "      <th>70</th>\n",
       "      <td>2018</td>\n",
       "      <td>-0.066154</td>\n",
       "      <td>0.076154</td>\n",
       "      <td>0.673846</td>\n",
       "      <td>0.183077</td>\n",
       "      <td>0.358462</td>\n",
       "      <td>-10.220908</td>\n",
       "      <td>-0.245385</td>\n",
       "      <td>32</td>\n",
       "    </tr>\n",
       "    <tr>\n",
       "      <th>40</th>\n",
       "      <td>2014</td>\n",
       "      <td>0.011538</td>\n",
       "      <td>0.152308</td>\n",
       "      <td>0.289231</td>\n",
       "      <td>-0.141538</td>\n",
       "      <td>0.170769</td>\n",
       "      <td>27.801178</td>\n",
       "      <td>0.432308</td>\n",
       "      <td>2</td>\n",
       "    </tr>\n",
       "    <tr>\n",
       "      <th>10</th>\n",
       "      <td>2014</td>\n",
       "      <td>0.243846</td>\n",
       "      <td>0.536154</td>\n",
       "      <td>0.596923</td>\n",
       "      <td>-0.052308</td>\n",
       "      <td>0.489231</td>\n",
       "      <td>3.889500</td>\n",
       "      <td>0.724615</td>\n",
       "      <td>32</td>\n",
       "    </tr>\n",
       "    <tr>\n",
       "      <th>2</th>\n",
       "      <td>2018</td>\n",
       "      <td>-0.066154</td>\n",
       "      <td>0.615385</td>\n",
       "      <td>1.570000</td>\n",
       "      <td>0.565385</td>\n",
       "      <td>0.930769</td>\n",
       "      <td>-30.732480</td>\n",
       "      <td>0.520000</td>\n",
       "      <td>32</td>\n",
       "    </tr>\n",
       "  </tbody>\n",
       "</table>\n",
       "</div>"
      ],
      "text/plain": [
       "    year   goals_z      xg_z  boxtouches_z  progpasses_z  progruns_z  \\\n",
       "27  2014  0.137692  0.210000      0.536154     -0.097692    0.853846   \n",
       "70  2018 -0.066154  0.076154      0.673846      0.183077    0.358462   \n",
       "40  2014  0.011538  0.152308      0.289231     -0.141538    0.170769   \n",
       "10  2014  0.243846  0.536154      0.596923     -0.052308    0.489231   \n",
       "2   2018 -0.066154  0.615385      1.570000      0.565385    0.930769   \n",
       "\n",
       "       new_xg    fouled  results  \n",
       "27   4.960900 -0.453077        8  \n",
       "70 -10.220908 -0.245385       32  \n",
       "40  27.801178  0.432308        2  \n",
       "10   3.889500  0.724615       32  \n",
       "2  -30.732480  0.520000       32  "
      ]
     },
     "execution_count": 18,
     "metadata": {},
     "output_type": "execute_result"
    }
   ],
   "source": [
    "df_train.head()"
   ]
  },
  {
   "cell_type": "code",
   "execution_count": 19,
   "metadata": {},
   "outputs": [],
   "source": [
    "y_train = df_train.results.values\n",
    "y_test = df_test.results.values\n",
    "\n",
    "del df_train['results']\n",
    "del df_test['results']"
   ]
  },
  {
   "cell_type": "code",
   "execution_count": 20,
   "metadata": {},
   "outputs": [
    {
     "name": "stdout",
     "output_type": "stream",
     "text": [
      "<class 'pandas.core.frame.DataFrame'>\n",
      "Int64Index: 82 entries, 27 to 37\n",
      "Data columns (total 8 columns):\n",
      " #   Column        Non-Null Count  Dtype  \n",
      "---  ------        --------------  -----  \n",
      " 0   year          82 non-null     int64  \n",
      " 1   goals_z       82 non-null     float64\n",
      " 2   xg_z          82 non-null     float64\n",
      " 3   boxtouches_z  82 non-null     float64\n",
      " 4   progpasses_z  82 non-null     float64\n",
      " 5   progruns_z    82 non-null     float64\n",
      " 6   new_xg        82 non-null     float64\n",
      " 7   fouled        82 non-null     float64\n",
      "dtypes: float64(7), int64(1)\n",
      "memory usage: 5.8 KB\n"
     ]
    }
   ],
   "source": [
    "df_train.info()"
   ]
  },
  {
   "cell_type": "code",
   "execution_count": 21,
   "metadata": {},
   "outputs": [],
   "source": [
    "X_train = df_train"
   ]
  },
  {
   "cell_type": "code",
   "execution_count": 22,
   "metadata": {},
   "outputs": [],
   "source": [
    "X_test = df_test"
   ]
  },
  {
   "cell_type": "code",
   "execution_count": 23,
   "metadata": {},
   "outputs": [],
   "source": [
    "from sklearn.linear_model import LinearRegression"
   ]
  },
  {
   "cell_type": "code",
   "execution_count": 24,
   "metadata": {},
   "outputs": [
    {
     "data": {
      "text/plain": [
       "0.5025456179473329"
      ]
     },
     "execution_count": 24,
     "metadata": {},
     "output_type": "execute_result"
    }
   ],
   "source": [
    "reg = LinearRegression().fit(X_train, y_train)\n",
    "reg.score(X_train, y_train)"
   ]
  },
  {
   "cell_type": "code",
   "execution_count": null,
   "metadata": {},
   "outputs": [],
   "source": []
  },
  {
   "cell_type": "code",
   "execution_count": 25,
   "metadata": {},
   "outputs": [
    {
     "data": {
      "text/plain": [
       "array([19.9049767 , 27.18921926, 30.10948772, 22.42849298, 22.7738    ,\n",
       "       19.55044656, 22.87246286, 12.65166834, 27.52290806, 18.29766534,\n",
       "       26.4943835 , 29.05428342, 29.06441004, 18.49633418, 31.45252357])"
      ]
     },
     "execution_count": 25,
     "metadata": {},
     "output_type": "execute_result"
    }
   ],
   "source": [
    "reg.predict(X_test)"
   ]
  },
  {
   "cell_type": "code",
   "execution_count": null,
   "metadata": {},
   "outputs": [],
   "source": []
  },
  {
   "cell_type": "code",
   "execution_count": 26,
   "metadata": {},
   "outputs": [
    {
     "data": {
      "text/html": [
       "<div>\n",
       "<style scoped>\n",
       "    .dataframe tbody tr th:only-of-type {\n",
       "        vertical-align: middle;\n",
       "    }\n",
       "\n",
       "    .dataframe tbody tr th {\n",
       "        vertical-align: top;\n",
       "    }\n",
       "\n",
       "    .dataframe thead th {\n",
       "        text-align: right;\n",
       "    }\n",
       "</style>\n",
       "<table border=\"1\" class=\"dataframe\">\n",
       "  <thead>\n",
       "    <tr style=\"text-align: right;\">\n",
       "      <th></th>\n",
       "      <th>year</th>\n",
       "      <th>goals_z</th>\n",
       "      <th>xg_z</th>\n",
       "      <th>boxtouches_z</th>\n",
       "      <th>progpasses_z</th>\n",
       "      <th>progruns_z</th>\n",
       "      <th>new_xg</th>\n",
       "      <th>fouled</th>\n",
       "    </tr>\n",
       "  </thead>\n",
       "  <tbody>\n",
       "    <tr>\n",
       "      <th>27</th>\n",
       "      <td>2014</td>\n",
       "      <td>0.137692</td>\n",
       "      <td>0.210000</td>\n",
       "      <td>0.536154</td>\n",
       "      <td>-0.097692</td>\n",
       "      <td>0.853846</td>\n",
       "      <td>4.960900</td>\n",
       "      <td>-0.453077</td>\n",
       "    </tr>\n",
       "    <tr>\n",
       "      <th>70</th>\n",
       "      <td>2018</td>\n",
       "      <td>-0.066154</td>\n",
       "      <td>0.076154</td>\n",
       "      <td>0.673846</td>\n",
       "      <td>0.183077</td>\n",
       "      <td>0.358462</td>\n",
       "      <td>-10.220908</td>\n",
       "      <td>-0.245385</td>\n",
       "    </tr>\n",
       "    <tr>\n",
       "      <th>40</th>\n",
       "      <td>2014</td>\n",
       "      <td>0.011538</td>\n",
       "      <td>0.152308</td>\n",
       "      <td>0.289231</td>\n",
       "      <td>-0.141538</td>\n",
       "      <td>0.170769</td>\n",
       "      <td>27.801178</td>\n",
       "      <td>0.432308</td>\n",
       "    </tr>\n",
       "    <tr>\n",
       "      <th>10</th>\n",
       "      <td>2014</td>\n",
       "      <td>0.243846</td>\n",
       "      <td>0.536154</td>\n",
       "      <td>0.596923</td>\n",
       "      <td>-0.052308</td>\n",
       "      <td>0.489231</td>\n",
       "      <td>3.889500</td>\n",
       "      <td>0.724615</td>\n",
       "    </tr>\n",
       "    <tr>\n",
       "      <th>2</th>\n",
       "      <td>2018</td>\n",
       "      <td>-0.066154</td>\n",
       "      <td>0.615385</td>\n",
       "      <td>1.570000</td>\n",
       "      <td>0.565385</td>\n",
       "      <td>0.930769</td>\n",
       "      <td>-30.732480</td>\n",
       "      <td>0.520000</td>\n",
       "    </tr>\n",
       "  </tbody>\n",
       "</table>\n",
       "</div>"
      ],
      "text/plain": [
       "    year   goals_z      xg_z  boxtouches_z  progpasses_z  progruns_z  \\\n",
       "27  2014  0.137692  0.210000      0.536154     -0.097692    0.853846   \n",
       "70  2018 -0.066154  0.076154      0.673846      0.183077    0.358462   \n",
       "40  2014  0.011538  0.152308      0.289231     -0.141538    0.170769   \n",
       "10  2014  0.243846  0.536154      0.596923     -0.052308    0.489231   \n",
       "2   2018 -0.066154  0.615385      1.570000      0.565385    0.930769   \n",
       "\n",
       "       new_xg    fouled  \n",
       "27   4.960900 -0.453077  \n",
       "70 -10.220908 -0.245385  \n",
       "40  27.801178  0.432308  \n",
       "10   3.889500  0.724615  \n",
       "2  -30.732480  0.520000  "
      ]
     },
     "execution_count": 26,
     "metadata": {},
     "output_type": "execute_result"
    }
   ],
   "source": [
    "X_train.head()"
   ]
  },
  {
   "cell_type": "code",
   "execution_count": 39,
   "metadata": {},
   "outputs": [],
   "source": [
    "team = {\n",
    "    'year': 2022,\n",
    "     'goals_z': 1.875, \n",
    "     'xg_z': 0, \n",
    "     'boxtouches_z': 0, \n",
    "     'progpasses_z': 0, \n",
    "     'progruns_z': 0,\n",
    "     'new_xg': 0, \n",
    "     'fouled': -0.5\n",
    "}"
   ]
  },
  {
   "cell_type": "code",
   "execution_count": 40,
   "metadata": {},
   "outputs": [],
   "source": [
    "df_tests = pd.DataFrame([team])\n",
    "X_tests = df_tests"
   ]
  },
  {
   "cell_type": "code",
   "execution_count": 41,
   "metadata": {},
   "outputs": [
    {
     "data": {
      "text/plain": [
       "array([-32.81842137])"
      ]
     },
     "execution_count": 41,
     "metadata": {},
     "output_type": "execute_result"
    }
   ],
   "source": [
    "reg.predict(X_tests)"
   ]
  },
  {
   "cell_type": "code",
   "execution_count": null,
   "metadata": {},
   "outputs": [],
   "source": []
  }
 ],
 "metadata": {
  "kernelspec": {
   "display_name": "Python 3 (ipykernel)",
   "language": "python",
   "name": "python3"
  },
  "language_info": {
   "codemirror_mode": {
    "name": "ipython",
    "version": 3
   },
   "file_extension": ".py",
   "mimetype": "text/x-python",
   "name": "python",
   "nbconvert_exporter": "python",
   "pygments_lexer": "ipython3",
   "version": "3.9.12"
  }
 },
 "nbformat": 4,
 "nbformat_minor": 2
}
