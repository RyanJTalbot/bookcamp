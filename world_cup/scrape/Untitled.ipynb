{
 "cells": [
  {
   "cell_type": "code",
   "execution_count": 5,
   "id": "76ca3986",
   "metadata": {},
   "outputs": [],
   "source": [
    "import os\n",
    "import hashlib\n",
    "import requests\n",
    "from bs4 import BeautifulSoup\n",
    "import pandas as pd\n",
    "import base64\n",
    "\n",
    "if not os.path.exists('.cache'):\n",
    "    os.makedirs('.cache')\n",
    "\n",
    "ua = 'Mozilla/5.0 (Windows NT 6.1; WOW64) AppleWebKit/537.36 (KHTML, like Gecko) Chrome/34.0.1847.116 Safari/537.36'\n",
    "session = requests.Session()\n",
    "\n",
    "def get(url):\n",
    "    '''Return cached lxml tree for url'''\n",
    "    path = os.path.join('.cache', hashlib.sha256(url).hexdigest() + '.html')\n",
    "    if not os.path.exists(path):\n",
    "        print (\"url\")\n",
    "        response = session.get(url, headers={'User-Agent': ua})\n",
    "        with open(path, 'w') as fd:\n",
    "            fd.write(response.text.encode('utf-8'))\n",
    "    return BeautifulSoup(open(path), 'html.parser')"
   ]
  },
  {
   "cell_type": "code",
   "execution_count": 6,
   "id": "d1a62d83",
   "metadata": {},
   "outputs": [],
   "source": [
    "def squads(url):\n",
    "    result = []\n",
    "    soup = get(url)\n",
    "    year = url[29:33]\n",
    "    for table in soup.find_all('table','sortable'):\n",
    "        if \"wikitable\" not in table['class']:\n",
    "            country = table.find_previous(\"span\",\"mw-headline\").text\n",
    "            for tr in table.find_all('tr')[1:]:\n",
    "                cells = [td.text.strip() for td in tr.find_all('td')]\n",
    "                cells += [country, td.a.get('title') if td.a else 'none', year]\n",
    "                result.append(cells)\n",
    "    return result"
   ]
  },
  {
   "cell_type": "code",
   "execution_count": 7,
   "id": "d5ccb144",
   "metadata": {},
   "outputs": [
    {
     "ename": "TypeError",
     "evalue": "Strings must be encoded before hashing",
     "output_type": "error",
     "traceback": [
      "\u001b[0;31m---------------------------------------------------------------------------\u001b[0m",
      "\u001b[0;31mTypeError\u001b[0m                                 Traceback (most recent call last)",
      "Input \u001b[0;32mIn [7]\u001b[0m, in \u001b[0;36m<cell line: 16>\u001b[0;34m()\u001b[0m\n\u001b[1;32m     16\u001b[0m \u001b[38;5;28;01mfor\u001b[39;00m year \u001b[38;5;129;01min\u001b[39;00m years:\n\u001b[1;32m     17\u001b[0m     url \u001b[38;5;241m=\u001b[39m \u001b[38;5;124m\"\u001b[39m\u001b[38;5;124mhttp://en.wikipedia.org/wiki/\u001b[39m\u001b[38;5;124m\"\u001b[39m\u001b[38;5;241m+\u001b[39m\u001b[38;5;28mstr\u001b[39m(year)\u001b[38;5;241m+\u001b[39m\u001b[38;5;124m\"\u001b[39m\u001b[38;5;124m_FIFA_World_Cup_squads\u001b[39m\u001b[38;5;124m\"\u001b[39m\n\u001b[0;32m---> 18\u001b[0m     result \u001b[38;5;241m+\u001b[39m\u001b[38;5;241m=\u001b[39m \u001b[43msquads\u001b[49m\u001b[43m(\u001b[49m\u001b[43murl\u001b[49m\u001b[43m)\u001b[49m\n\u001b[1;32m     20\u001b[0m pd\u001b[38;5;241m.\u001b[39mDataFrame(result)\u001b[38;5;241m.\u001b[39mto_csv(\u001b[38;5;124m'\u001b[39m\u001b[38;5;124mdata.csv\u001b[39m\u001b[38;5;124m'\u001b[39m, index\u001b[38;5;241m=\u001b[39m\u001b[38;5;28;01mFalse\u001b[39;00m, encoding\u001b[38;5;241m=\u001b[39m\u001b[38;5;124m'\u001b[39m\u001b[38;5;124mutf-8\u001b[39m\u001b[38;5;124m'\u001b[39m)\n",
      "Input \u001b[0;32mIn [7]\u001b[0m, in \u001b[0;36msquads\u001b[0;34m(url)\u001b[0m\n\u001b[1;32m      1\u001b[0m \u001b[38;5;28;01mdef\u001b[39;00m \u001b[38;5;21msquads\u001b[39m(url):\n\u001b[1;32m      2\u001b[0m     result \u001b[38;5;241m=\u001b[39m []\n\u001b[0;32m----> 3\u001b[0m     soup \u001b[38;5;241m=\u001b[39m \u001b[43mget\u001b[49m\u001b[43m(\u001b[49m\u001b[43murl\u001b[49m\u001b[43m)\u001b[49m\n\u001b[1;32m      4\u001b[0m     year \u001b[38;5;241m=\u001b[39m url[\u001b[38;5;241m29\u001b[39m:\u001b[38;5;241m33\u001b[39m]\n\u001b[1;32m      5\u001b[0m     \u001b[38;5;28;01mfor\u001b[39;00m table \u001b[38;5;129;01min\u001b[39;00m soup\u001b[38;5;241m.\u001b[39mfind_all(\u001b[38;5;124m'\u001b[39m\u001b[38;5;124mtable\u001b[39m\u001b[38;5;124m'\u001b[39m,\u001b[38;5;124m'\u001b[39m\u001b[38;5;124msortable\u001b[39m\u001b[38;5;124m'\u001b[39m):\n",
      "Input \u001b[0;32mIn [5]\u001b[0m, in \u001b[0;36mget\u001b[0;34m(url)\u001b[0m\n\u001b[1;32m     14\u001b[0m \u001b[38;5;28;01mdef\u001b[39;00m \u001b[38;5;21mget\u001b[39m(url):\n\u001b[1;32m     15\u001b[0m     \u001b[38;5;124;03m'''Return cached lxml tree for url'''\u001b[39;00m\n\u001b[0;32m---> 16\u001b[0m     path \u001b[38;5;241m=\u001b[39m os\u001b[38;5;241m.\u001b[39mpath\u001b[38;5;241m.\u001b[39mjoin(\u001b[38;5;124m'\u001b[39m\u001b[38;5;124m.cache\u001b[39m\u001b[38;5;124m'\u001b[39m, \u001b[43mhashlib\u001b[49m\u001b[38;5;241;43m.\u001b[39;49m\u001b[43msha256\u001b[49m\u001b[43m(\u001b[49m\u001b[43murl\u001b[49m\u001b[43m)\u001b[49m\u001b[38;5;241m.\u001b[39mhexdigest() \u001b[38;5;241m+\u001b[39m \u001b[38;5;124m'\u001b[39m\u001b[38;5;124m.html\u001b[39m\u001b[38;5;124m'\u001b[39m)\n\u001b[1;32m     17\u001b[0m     \u001b[38;5;28;01mif\u001b[39;00m \u001b[38;5;129;01mnot\u001b[39;00m os\u001b[38;5;241m.\u001b[39mpath\u001b[38;5;241m.\u001b[39mexists(path):\n\u001b[1;32m     18\u001b[0m         \u001b[38;5;28mprint\u001b[39m (\u001b[38;5;124m\"\u001b[39m\u001b[38;5;124murl\u001b[39m\u001b[38;5;124m\"\u001b[39m)\n",
      "\u001b[0;31mTypeError\u001b[0m: Strings must be encoded before hashing"
     ]
    }
   ],
   "source": [
    "def squads(url):\n",
    "    result = []\n",
    "    soup = get(url)\n",
    "    year = url[29:33]\n",
    "    for table in soup.find_all('table','sortable'):\n",
    "        if \"wikitable\" not in table['class']:\n",
    "            country = table.find_previous(\"span\",\"mw-headline\").text\n",
    "            for tr in table.find_all('tr')[1:]:\n",
    "                cells = [td.text.strip() for td in tr.find_all('td')]\n",
    "                cells += [country, td.a.get('title') if td.a else 'none', year]\n",
    "                result.append(cells)\n",
    "    return result\n",
    "\n",
    "years = range(1950,2015,4)\n",
    "result = []\n",
    "for year in years:\n",
    "    url = \"http://en.wikipedia.org/wiki/\"+str(year)+\"_FIFA_World_Cup_squads\"\n",
    "    result += squads(url)\n",
    "\n",
    "pd.DataFrame(result).to_csv('data.csv', index=False, encoding='utf-8')\n"
   ]
  },
  {
   "cell_type": "code",
   "execution_count": null,
   "id": "d1fe45b6",
   "metadata": {},
   "outputs": [],
   "source": []
  },
  {
   "cell_type": "code",
   "execution_count": null,
   "id": "6a821092",
   "metadata": {},
   "outputs": [],
   "source": []
  }
 ],
 "metadata": {
  "kernelspec": {
   "display_name": "Python 3 (ipykernel)",
   "language": "python",
   "name": "python3"
  },
  "language_info": {
   "codemirror_mode": {
    "name": "ipython",
    "version": 3
   },
   "file_extension": ".py",
   "mimetype": "text/x-python",
   "name": "python",
   "nbconvert_exporter": "python",
   "pygments_lexer": "ipython3",
   "version": "3.9.12"
  }
 },
 "nbformat": 4,
 "nbformat_minor": 5
}
