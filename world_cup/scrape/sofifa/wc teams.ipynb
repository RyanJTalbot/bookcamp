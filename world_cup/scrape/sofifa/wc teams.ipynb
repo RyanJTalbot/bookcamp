{
 "cells": [
  {
   "cell_type": "markdown",
   "metadata": {},
   "source": [
    "### Objective\n",
    "\n",
    "get top 14 players from each country in world cup\n",
    "\n",
    "go from there ...?"
   ]
  },
  {
   "cell_type": "code",
   "execution_count": 1,
   "metadata": {},
   "outputs": [],
   "source": [
    "import pandas as pd\n",
    "import numpy as np"
   ]
  },
  {
   "cell_type": "code",
   "execution_count": 2,
   "metadata": {},
   "outputs": [],
   "source": [
    "# player_data = pd.read_csv('basicplayerdata.csv')\n",
    "player_data = pd.read_csv('work.csv')"
   ]
  },
  {
   "cell_type": "code",
   "execution_count": 3,
   "metadata": {},
   "outputs": [
    {
     "data": {
      "text/html": [
       "<div>\n",
       "<style scoped>\n",
       "    .dataframe tbody tr th:only-of-type {\n",
       "        vertical-align: middle;\n",
       "    }\n",
       "\n",
       "    .dataframe tbody tr th {\n",
       "        vertical-align: top;\n",
       "    }\n",
       "\n",
       "    .dataframe thead th {\n",
       "        text-align: right;\n",
       "    }\n",
       "</style>\n",
       "<table border=\"1\" class=\"dataframe\">\n",
       "  <thead>\n",
       "    <tr style=\"text-align: right;\">\n",
       "      <th></th>\n",
       "      <th>Unnamed: 0</th>\n",
       "      <th>ID</th>\n",
       "      <th>Name</th>\n",
       "      <th>Photo</th>\n",
       "      <th>Nationality</th>\n",
       "      <th>Flag</th>\n",
       "      <th>Overall</th>\n",
       "      <th>Potential</th>\n",
       "      <th>Club</th>\n",
       "      <th>Club Logo</th>\n",
       "      <th>Value</th>\n",
       "      <th>Wage</th>\n",
       "      <th>Special</th>\n",
       "    </tr>\n",
       "  </thead>\n",
       "  <tbody>\n",
       "    <tr>\n",
       "      <th>0</th>\n",
       "      <td>0</td>\n",
       "      <td>226789</td>\n",
       "      <td>A. Fulgini</td>\n",
       "      <td>https://cdn.sofifa.net/players/226/789/22_60.png</td>\n",
       "      <td>NaN</td>\n",
       "      <td>France</td>\n",
       "      <td>78</td>\n",
       "      <td>82</td>\n",
       "      <td>Angers SCO</td>\n",
       "      <td>https://cdn.sofifa.net/teams/1530/30.png</td>\n",
       "      <td>€20M</td>\n",
       "      <td>€23K</td>\n",
       "      <td>2060</td>\n",
       "    </tr>\n",
       "    <tr>\n",
       "      <th>1</th>\n",
       "      <td>1</td>\n",
       "      <td>251470</td>\n",
       "      <td>C. De Ketelaere</td>\n",
       "      <td>https://cdn.sofifa.net/players/251/470/22_60.png</td>\n",
       "      <td>NaN</td>\n",
       "      <td>Belgium</td>\n",
       "      <td>77</td>\n",
       "      <td>87</td>\n",
       "      <td>Club Brugge KV</td>\n",
       "      <td>https://cdn.sofifa.net/teams/231/30.png</td>\n",
       "      <td>€23.5M</td>\n",
       "      <td>€22K</td>\n",
       "      <td>2055</td>\n",
       "    </tr>\n",
       "    <tr>\n",
       "      <th>2</th>\n",
       "      <td>2</td>\n",
       "      <td>233531</td>\n",
       "      <td>Y. Soteldo</td>\n",
       "      <td>https://cdn.sofifa.net/players/233/531/22_60.png</td>\n",
       "      <td>NaN</td>\n",
       "      <td>Venezuela</td>\n",
       "      <td>76</td>\n",
       "      <td>80</td>\n",
       "      <td>Tigres U.A.N.L.</td>\n",
       "      <td>https://cdn.sofifa.net/teams/1970/30.png</td>\n",
       "      <td>€11M</td>\n",
       "      <td>€37K</td>\n",
       "      <td>1850</td>\n",
       "    </tr>\n",
       "    <tr>\n",
       "      <th>3</th>\n",
       "      <td>3</td>\n",
       "      <td>220440</td>\n",
       "      <td>C. Lenglet</td>\n",
       "      <td>https://cdn.sofifa.net/players/220/440/22_60.png</td>\n",
       "      <td>NaN</td>\n",
       "      <td>France</td>\n",
       "      <td>80</td>\n",
       "      <td>83</td>\n",
       "      <td>FC Barcelona</td>\n",
       "      <td>https://cdn.sofifa.net/teams/241/30.png</td>\n",
       "      <td>€24.5M</td>\n",
       "      <td>€125K</td>\n",
       "      <td>1875</td>\n",
       "    </tr>\n",
       "    <tr>\n",
       "      <th>4</th>\n",
       "      <td>4</td>\n",
       "      <td>189461</td>\n",
       "      <td>J. Wilshere</td>\n",
       "      <td>https://cdn.sofifa.net/players/189/461/22_60.png</td>\n",
       "      <td>NaN</td>\n",
       "      <td>England</td>\n",
       "      <td>73</td>\n",
       "      <td>73</td>\n",
       "      <td>Aarhus GF</td>\n",
       "      <td>https://cdn.sofifa.net/teams/271/30.png</td>\n",
       "      <td>€3M</td>\n",
       "      <td>€14K</td>\n",
       "      <td>2013</td>\n",
       "    </tr>\n",
       "  </tbody>\n",
       "</table>\n",
       "</div>"
      ],
      "text/plain": [
       "   Unnamed: 0      ID             Name  \\\n",
       "0           0  226789       A. Fulgini   \n",
       "1           1  251470  C. De Ketelaere   \n",
       "2           2  233531       Y. Soteldo   \n",
       "3           3  220440       C. Lenglet   \n",
       "4           4  189461      J. Wilshere   \n",
       "\n",
       "                                              Photo  Nationality       Flag  \\\n",
       "0  https://cdn.sofifa.net/players/226/789/22_60.png          NaN     France   \n",
       "1  https://cdn.sofifa.net/players/251/470/22_60.png          NaN    Belgium   \n",
       "2  https://cdn.sofifa.net/players/233/531/22_60.png          NaN  Venezuela   \n",
       "3  https://cdn.sofifa.net/players/220/440/22_60.png          NaN     France   \n",
       "4  https://cdn.sofifa.net/players/189/461/22_60.png          NaN    England   \n",
       "\n",
       "   Overall  Potential             Club  \\\n",
       "0       78         82       Angers SCO   \n",
       "1       77         87   Club Brugge KV   \n",
       "2       76         80  Tigres U.A.N.L.   \n",
       "3       80         83     FC Barcelona   \n",
       "4       73         73        Aarhus GF   \n",
       "\n",
       "                                  Club Logo   Value   Wage  Special  \n",
       "0  https://cdn.sofifa.net/teams/1530/30.png    €20M   €23K     2060  \n",
       "1   https://cdn.sofifa.net/teams/231/30.png  €23.5M   €22K     2055  \n",
       "2  https://cdn.sofifa.net/teams/1970/30.png    €11M   €37K     1850  \n",
       "3   https://cdn.sofifa.net/teams/241/30.png  €24.5M  €125K     1875  \n",
       "4   https://cdn.sofifa.net/teams/271/30.png     €3M   €14K     2013  "
      ]
     },
     "execution_count": 3,
     "metadata": {},
     "output_type": "execute_result"
    }
   ],
   "source": [
    "player_data.head()"
   ]
  },
  {
   "cell_type": "code",
   "execution_count": 4,
   "metadata": {},
   "outputs": [],
   "source": [
    "player_data.drop(['Nationality'], axis=1, inplace=True)"
   ]
  },
  {
   "cell_type": "code",
   "execution_count": 5,
   "metadata": {},
   "outputs": [],
   "source": [
    "df = player_data.rename(columns={'Flag': 'Nationality'})"
   ]
  },
  {
   "cell_type": "code",
   "execution_count": 6,
   "metadata": {},
   "outputs": [
    {
     "data": {
      "text/html": [
       "<div>\n",
       "<style scoped>\n",
       "    .dataframe tbody tr th:only-of-type {\n",
       "        vertical-align: middle;\n",
       "    }\n",
       "\n",
       "    .dataframe tbody tr th {\n",
       "        vertical-align: top;\n",
       "    }\n",
       "\n",
       "    .dataframe thead th {\n",
       "        text-align: right;\n",
       "    }\n",
       "</style>\n",
       "<table border=\"1\" class=\"dataframe\">\n",
       "  <thead>\n",
       "    <tr style=\"text-align: right;\">\n",
       "      <th></th>\n",
       "      <th>Unnamed: 0</th>\n",
       "      <th>ID</th>\n",
       "      <th>Name</th>\n",
       "      <th>Photo</th>\n",
       "      <th>Nationality</th>\n",
       "      <th>Overall</th>\n",
       "      <th>Potential</th>\n",
       "      <th>Club</th>\n",
       "      <th>Club Logo</th>\n",
       "      <th>Value</th>\n",
       "      <th>Wage</th>\n",
       "      <th>Special</th>\n",
       "    </tr>\n",
       "  </thead>\n",
       "  <tbody>\n",
       "    <tr>\n",
       "      <th>0</th>\n",
       "      <td>0</td>\n",
       "      <td>226789</td>\n",
       "      <td>A. Fulgini</td>\n",
       "      <td>https://cdn.sofifa.net/players/226/789/22_60.png</td>\n",
       "      <td>France</td>\n",
       "      <td>78</td>\n",
       "      <td>82</td>\n",
       "      <td>Angers SCO</td>\n",
       "      <td>https://cdn.sofifa.net/teams/1530/30.png</td>\n",
       "      <td>€20M</td>\n",
       "      <td>€23K</td>\n",
       "      <td>2060</td>\n",
       "    </tr>\n",
       "    <tr>\n",
       "      <th>1</th>\n",
       "      <td>1</td>\n",
       "      <td>251470</td>\n",
       "      <td>C. De Ketelaere</td>\n",
       "      <td>https://cdn.sofifa.net/players/251/470/22_60.png</td>\n",
       "      <td>Belgium</td>\n",
       "      <td>77</td>\n",
       "      <td>87</td>\n",
       "      <td>Club Brugge KV</td>\n",
       "      <td>https://cdn.sofifa.net/teams/231/30.png</td>\n",
       "      <td>€23.5M</td>\n",
       "      <td>€22K</td>\n",
       "      <td>2055</td>\n",
       "    </tr>\n",
       "    <tr>\n",
       "      <th>2</th>\n",
       "      <td>2</td>\n",
       "      <td>233531</td>\n",
       "      <td>Y. Soteldo</td>\n",
       "      <td>https://cdn.sofifa.net/players/233/531/22_60.png</td>\n",
       "      <td>Venezuela</td>\n",
       "      <td>76</td>\n",
       "      <td>80</td>\n",
       "      <td>Tigres U.A.N.L.</td>\n",
       "      <td>https://cdn.sofifa.net/teams/1970/30.png</td>\n",
       "      <td>€11M</td>\n",
       "      <td>€37K</td>\n",
       "      <td>1850</td>\n",
       "    </tr>\n",
       "    <tr>\n",
       "      <th>3</th>\n",
       "      <td>3</td>\n",
       "      <td>220440</td>\n",
       "      <td>C. Lenglet</td>\n",
       "      <td>https://cdn.sofifa.net/players/220/440/22_60.png</td>\n",
       "      <td>France</td>\n",
       "      <td>80</td>\n",
       "      <td>83</td>\n",
       "      <td>FC Barcelona</td>\n",
       "      <td>https://cdn.sofifa.net/teams/241/30.png</td>\n",
       "      <td>€24.5M</td>\n",
       "      <td>€125K</td>\n",
       "      <td>1875</td>\n",
       "    </tr>\n",
       "    <tr>\n",
       "      <th>4</th>\n",
       "      <td>4</td>\n",
       "      <td>189461</td>\n",
       "      <td>J. Wilshere</td>\n",
       "      <td>https://cdn.sofifa.net/players/189/461/22_60.png</td>\n",
       "      <td>England</td>\n",
       "      <td>73</td>\n",
       "      <td>73</td>\n",
       "      <td>Aarhus GF</td>\n",
       "      <td>https://cdn.sofifa.net/teams/271/30.png</td>\n",
       "      <td>€3M</td>\n",
       "      <td>€14K</td>\n",
       "      <td>2013</td>\n",
       "    </tr>\n",
       "  </tbody>\n",
       "</table>\n",
       "</div>"
      ],
      "text/plain": [
       "   Unnamed: 0      ID             Name  \\\n",
       "0           0  226789       A. Fulgini   \n",
       "1           1  251470  C. De Ketelaere   \n",
       "2           2  233531       Y. Soteldo   \n",
       "3           3  220440       C. Lenglet   \n",
       "4           4  189461      J. Wilshere   \n",
       "\n",
       "                                              Photo Nationality  Overall  \\\n",
       "0  https://cdn.sofifa.net/players/226/789/22_60.png      France       78   \n",
       "1  https://cdn.sofifa.net/players/251/470/22_60.png     Belgium       77   \n",
       "2  https://cdn.sofifa.net/players/233/531/22_60.png   Venezuela       76   \n",
       "3  https://cdn.sofifa.net/players/220/440/22_60.png      France       80   \n",
       "4  https://cdn.sofifa.net/players/189/461/22_60.png     England       73   \n",
       "\n",
       "   Potential             Club                                 Club Logo  \\\n",
       "0         82       Angers SCO  https://cdn.sofifa.net/teams/1530/30.png   \n",
       "1         87   Club Brugge KV   https://cdn.sofifa.net/teams/231/30.png   \n",
       "2         80  Tigres U.A.N.L.  https://cdn.sofifa.net/teams/1970/30.png   \n",
       "3         83     FC Barcelona   https://cdn.sofifa.net/teams/241/30.png   \n",
       "4         73        Aarhus GF   https://cdn.sofifa.net/teams/271/30.png   \n",
       "\n",
       "    Value   Wage  Special  \n",
       "0    €20M   €23K     2060  \n",
       "1  €23.5M   €22K     2055  \n",
       "2    €11M   €37K     1850  \n",
       "3  €24.5M  €125K     1875  \n",
       "4     €3M   €14K     2013  "
      ]
     },
     "execution_count": 6,
     "metadata": {},
     "output_type": "execute_result"
    }
   ],
   "source": [
    "df.head()"
   ]
  },
  {
   "cell_type": "code",
   "execution_count": 7,
   "metadata": {},
   "outputs": [
    {
     "data": {
      "text/plain": [
       "(13500, 12)"
      ]
     },
     "execution_count": 7,
     "metadata": {},
     "output_type": "execute_result"
    }
   ],
   "source": [
    "df.shape"
   ]
  },
  {
   "cell_type": "code",
   "execution_count": 8,
   "metadata": {},
   "outputs": [
    {
     "data": {
      "text/plain": [
       "148500"
      ]
     },
     "execution_count": 8,
     "metadata": {},
     "output_type": "execute_result"
    }
   ],
   "source": [
    "13500*11"
   ]
  },
  {
   "cell_type": "code",
   "execution_count": 9,
   "metadata": {
    "scrolled": true
   },
   "outputs": [
    {
     "name": "stdout",
     "output_type": "stream",
     "text": [
      "England                1112\n",
      "Germany                 729\n",
      "Spain                   723\n",
      "Argentina               644\n",
      "France                  635\n",
      "                       ... \n",
      "Grenada                   1\n",
      "Saint Lucia               1\n",
      "Chad                      1\n",
      "Bahrain                   1\n",
      "Antigua and Barbuda       1\n",
      "Name: Nationality, Length: 147, dtype: int64\n"
     ]
    }
   ],
   "source": [
    "print(df['Nationality'].value_counts())"
   ]
  },
  {
   "cell_type": "code",
   "execution_count": 10,
   "metadata": {},
   "outputs": [],
   "source": [
    "df = df.drop(['Photo', 'Club Logo', 'Club', 'ID', 'Wage'], axis=1)"
   ]
  },
  {
   "cell_type": "markdown",
   "metadata": {},
   "source": [
    "## Separate df by nationality"
   ]
  },
  {
   "cell_type": "code",
   "execution_count": 11,
   "metadata": {},
   "outputs": [],
   "source": [
    "england = df[df[\"Nationality\"] == \"England\"]"
   ]
  },
  {
   "cell_type": "code",
   "execution_count": 12,
   "metadata": {},
   "outputs": [],
   "source": [
    "germany = df[df[\"Nationality\"] == \"Germany\"]"
   ]
  },
  {
   "cell_type": "code",
   "execution_count": 13,
   "metadata": {},
   "outputs": [],
   "source": [
    "spain = df[df[\"Nationality\"] == \"Spain\"]"
   ]
  },
  {
   "cell_type": "code",
   "execution_count": 14,
   "metadata": {},
   "outputs": [],
   "source": [
    "france = df[df[\"Nationality\"] == \"France\"]"
   ]
  },
  {
   "cell_type": "code",
   "execution_count": 15,
   "metadata": {},
   "outputs": [],
   "source": [
    "argentina = df[df[\"Nationality\"] == \"Argentina\"]"
   ]
  },
  {
   "cell_type": "code",
   "execution_count": 16,
   "metadata": {},
   "outputs": [],
   "source": [
    "brazil = df[df[\"Nationality\"] == \"Brazil\"]"
   ]
  },
  {
   "cell_type": "code",
   "execution_count": 17,
   "metadata": {},
   "outputs": [],
   "source": [
    "swiss = df[df[\"Nationality\"] == \"Switzerland\"]"
   ]
  },
  {
   "cell_type": "code",
   "execution_count": 18,
   "metadata": {},
   "outputs": [],
   "source": [
    "usa = df[df[\"Nationality\"] == \"USA\"]"
   ]
  },
  {
   "cell_type": "code",
   "execution_count": 19,
   "metadata": {},
   "outputs": [],
   "source": [
    "netherlands = df[df[\"Nationality\"] == \"Netherlands\"]"
   ]
  },
  {
   "cell_type": "code",
   "execution_count": 20,
   "metadata": {},
   "outputs": [],
   "source": [
    "senegal = df[df[\"Nationality\"] == \"Senegal\"]"
   ]
  },
  {
   "cell_type": "code",
   "execution_count": 21,
   "metadata": {},
   "outputs": [],
   "source": [
    "ecuador = df[df[\"Nationality\"] == \"Ecuador\"]"
   ]
  },
  {
   "cell_type": "code",
   "execution_count": 22,
   "metadata": {},
   "outputs": [],
   "source": [
    "wales = df[df[\"Nationality\"] == \"Wales\"]"
   ]
  },
  {
   "cell_type": "code",
   "execution_count": 23,
   "metadata": {},
   "outputs": [],
   "source": [
    "iran = df[df[\"Nationality\"] == \"Iran\"]"
   ]
  },
  {
   "cell_type": "code",
   "execution_count": 24,
   "metadata": {},
   "outputs": [],
   "source": [
    "poland = df[df[\"Nationality\"] == \"Poland\"]"
   ]
  },
  {
   "cell_type": "code",
   "execution_count": 25,
   "metadata": {},
   "outputs": [],
   "source": [
    "mexico = df[df[\"Nationality\"] == \"Mexico\"]"
   ]
  },
  {
   "cell_type": "code",
   "execution_count": 26,
   "metadata": {},
   "outputs": [],
   "source": [
    "saudi_arabia = df[df[\"Nationality\"] == \"Saudi Arabia\"]"
   ]
  },
  {
   "cell_type": "code",
   "execution_count": 27,
   "metadata": {},
   "outputs": [],
   "source": [
    "denmark = df[df[\"Nationality\"] == \"Denmark\"]"
   ]
  },
  {
   "cell_type": "code",
   "execution_count": 28,
   "metadata": {},
   "outputs": [],
   "source": [
    "tunisia = df[df[\"Nationality\"] == \"Tunisia\"]"
   ]
  },
  {
   "cell_type": "code",
   "execution_count": 29,
   "metadata": {},
   "outputs": [],
   "source": [
    "australia = df[df[\"Nationality\"] == \"Australia\"]"
   ]
  },
  {
   "cell_type": "code",
   "execution_count": 30,
   "metadata": {},
   "outputs": [],
   "source": [
    "japan = df[df[\"Nationality\"] == \"Japan\"]"
   ]
  },
  {
   "cell_type": "code",
   "execution_count": 31,
   "metadata": {},
   "outputs": [],
   "source": [
    "costa_rica = df[df[\"Nationality\"] == \"Costa Rica\"]"
   ]
  },
  {
   "cell_type": "code",
   "execution_count": 32,
   "metadata": {},
   "outputs": [],
   "source": [
    "belgium = df[df[\"Nationality\"] == \"Belgium\"]"
   ]
  },
  {
   "cell_type": "code",
   "execution_count": 33,
   "metadata": {},
   "outputs": [],
   "source": [
    "croatia = df[df[\"Nationality\"] == \"Croatia\"]"
   ]
  },
  {
   "cell_type": "code",
   "execution_count": 34,
   "metadata": {},
   "outputs": [],
   "source": [
    "canada = df[df[\"Nationality\"] == \"Canada\"]"
   ]
  },
  {
   "cell_type": "code",
   "execution_count": 35,
   "metadata": {},
   "outputs": [],
   "source": [
    "morocco = df[df[\"Nationality\"] == \"Morocco\"]"
   ]
  },
  {
   "cell_type": "code",
   "execution_count": 36,
   "metadata": {},
   "outputs": [],
   "source": [
    "serbia = df[df[\"Nationality\"] == \"Serbia\"]"
   ]
  },
  {
   "cell_type": "code",
   "execution_count": 37,
   "metadata": {},
   "outputs": [],
   "source": [
    "cameroon = df[df[\"Nationality\"] == \"Cameroon\"]"
   ]
  },
  {
   "cell_type": "code",
   "execution_count": 38,
   "metadata": {},
   "outputs": [],
   "source": [
    "portugal = df[df[\"Nationality\"] == \"Portugal\"]"
   ]
  },
  {
   "cell_type": "code",
   "execution_count": 39,
   "metadata": {},
   "outputs": [],
   "source": [
    "uruguay = df[df[\"Nationality\"] == \"Uruguay\"]"
   ]
  },
  {
   "cell_type": "code",
   "execution_count": 40,
   "metadata": {},
   "outputs": [],
   "source": [
    "ghana = df[df[\"Nationality\"] == \"Ghana\"]"
   ]
  },
  {
   "cell_type": "code",
   "execution_count": 41,
   "metadata": {},
   "outputs": [],
   "source": [
    "korea_republic = df[df[\"Nationality\"] == \"Korea Republic\"]"
   ]
  },
  {
   "cell_type": "code",
   "execution_count": 42,
   "metadata": {},
   "outputs": [],
   "source": [
    "qatar = df[df[\"Nationality\"] == \"Qatar\"]"
   ]
  },
  {
   "cell_type": "markdown",
   "metadata": {},
   "source": [
    "## Separate into top 14 players overall by nationality"
   ]
  },
  {
   "cell_type": "code",
   "execution_count": 43,
   "metadata": {},
   "outputs": [],
   "source": [
    "portugal = portugal.sort_values(by=['Overall'], ascending=False)\n",
    "portugal = portugal.iloc[:14]"
   ]
  },
  {
   "cell_type": "code",
   "execution_count": 44,
   "metadata": {},
   "outputs": [],
   "source": [
    "uruguay = uruguay.sort_values(by=['Overall'], ascending=False)\n",
    "uruguay = uruguay.iloc[:14]"
   ]
  },
  {
   "cell_type": "code",
   "execution_count": 45,
   "metadata": {},
   "outputs": [],
   "source": [
    "ghana = ghana.sort_values(by=['Overall'], ascending=False)\n",
    "ghana = ghana.iloc[:14]"
   ]
  },
  {
   "cell_type": "code",
   "execution_count": 46,
   "metadata": {},
   "outputs": [],
   "source": [
    "korea_republic = korea_republic.sort_values(by=['Overall'], ascending=False)\n",
    "korea_republic = korea_republic.iloc[:14]"
   ]
  },
  {
   "cell_type": "code",
   "execution_count": 47,
   "metadata": {},
   "outputs": [],
   "source": [
    "qatar = qatar.sort_values(by=['Overall'], ascending=False)\n",
    "qatar = qatar.iloc[:14]"
   ]
  },
  {
   "cell_type": "code",
   "execution_count": 48,
   "metadata": {},
   "outputs": [],
   "source": [
    "japan = japan.sort_values(by=['Overall'], ascending=False)\n",
    "japan = japan.iloc[:14]"
   ]
  },
  {
   "cell_type": "code",
   "execution_count": 49,
   "metadata": {},
   "outputs": [],
   "source": [
    "costa_rica = costa_rica.sort_values(by=['Overall'], ascending=False)\n",
    "costa_rica = costa_rica.iloc[:14]"
   ]
  },
  {
   "cell_type": "code",
   "execution_count": 50,
   "metadata": {},
   "outputs": [],
   "source": [
    "belgium = belgium.sort_values(by=['Overall'], ascending=False)\n",
    "belgium = belgium.iloc[:14]"
   ]
  },
  {
   "cell_type": "code",
   "execution_count": 51,
   "metadata": {},
   "outputs": [],
   "source": [
    "croatia = croatia.sort_values(by=['Overall'], ascending=False)\n",
    "croatia = croatia.iloc[:14]"
   ]
  },
  {
   "cell_type": "code",
   "execution_count": 52,
   "metadata": {},
   "outputs": [],
   "source": [
    "canada = canada.sort_values(by=['Overall'], ascending=False)\n",
    "canada = canada.iloc[:14]"
   ]
  },
  {
   "cell_type": "code",
   "execution_count": 53,
   "metadata": {},
   "outputs": [],
   "source": [
    "morocco = morocco.sort_values(by=['Overall'], ascending=False)\n",
    "morocco = morocco.iloc[:14]"
   ]
  },
  {
   "cell_type": "code",
   "execution_count": 54,
   "metadata": {},
   "outputs": [],
   "source": [
    "cameroon = cameroon.sort_values(by=['Overall'], ascending=False)\n",
    "cameroon = cameroon.iloc[:14]"
   ]
  },
  {
   "cell_type": "code",
   "execution_count": 55,
   "metadata": {},
   "outputs": [],
   "source": [
    "england = england.sort_values(by=['Overall'], ascending=False)\n",
    "england = england.iloc[:14]"
   ]
  },
  {
   "cell_type": "code",
   "execution_count": 56,
   "metadata": {},
   "outputs": [],
   "source": [
    "serbia = serbia.sort_values(by=['Overall'], ascending=False)\n",
    "serbia = serbia.iloc[:14]"
   ]
  },
  {
   "cell_type": "code",
   "execution_count": 57,
   "metadata": {},
   "outputs": [],
   "source": [
    "germany = germany.sort_values(by=['Overall'], ascending=False)\n",
    "germany = germany.iloc[:14]"
   ]
  },
  {
   "cell_type": "code",
   "execution_count": 58,
   "metadata": {},
   "outputs": [],
   "source": [
    "spain = spain.sort_values(by=['Overall'], ascending=False)\n",
    "spain = spain.iloc[:14]"
   ]
  },
  {
   "cell_type": "code",
   "execution_count": 59,
   "metadata": {},
   "outputs": [],
   "source": [
    "france = france.sort_values(by=['Overall'], ascending=False)\n",
    "france = france.iloc[:14]"
   ]
  },
  {
   "cell_type": "code",
   "execution_count": 60,
   "metadata": {},
   "outputs": [],
   "source": [
    "argentina = argentina.sort_values(by=['Overall'], ascending=False)\n",
    "argentina = argentina.iloc[:14]"
   ]
  },
  {
   "cell_type": "code",
   "execution_count": 61,
   "metadata": {},
   "outputs": [],
   "source": [
    "brazil = brazil.sort_values(by=['Overall'], ascending=False)\n",
    "brazil = brazil.iloc[:14]"
   ]
  },
  {
   "cell_type": "code",
   "execution_count": 62,
   "metadata": {},
   "outputs": [],
   "source": [
    "swiss = swiss.sort_values(by=['Overall'], ascending=False)\n",
    "swiss = swiss.iloc[:14]"
   ]
  },
  {
   "cell_type": "code",
   "execution_count": 63,
   "metadata": {},
   "outputs": [],
   "source": [
    "usa = usa.sort_values(by=['Overall'], ascending=False)\n",
    "usa = usa.iloc[:14]"
   ]
  },
  {
   "cell_type": "code",
   "execution_count": 64,
   "metadata": {},
   "outputs": [],
   "source": [
    "netherlands = netherlands.sort_values(by=['Overall'], ascending=False)\n",
    "netherlands = netherlands.iloc[:14]"
   ]
  },
  {
   "cell_type": "code",
   "execution_count": 65,
   "metadata": {},
   "outputs": [],
   "source": [
    "senegal = senegal.sort_values(by=['Overall'], ascending=False)\n",
    "senegal = senegal.iloc[:14]"
   ]
  },
  {
   "cell_type": "code",
   "execution_count": 66,
   "metadata": {},
   "outputs": [],
   "source": [
    "ecuador = ecuador.sort_values(by=['Overall'], ascending=False)\n",
    "ecuador = ecuador.iloc[:14]"
   ]
  },
  {
   "cell_type": "code",
   "execution_count": 67,
   "metadata": {},
   "outputs": [],
   "source": [
    "wales = wales.sort_values(by=['Overall'], ascending=False)\n",
    "wales = wales.iloc[:14]"
   ]
  },
  {
   "cell_type": "code",
   "execution_count": 68,
   "metadata": {},
   "outputs": [],
   "source": [
    "iran = iran.sort_values(by=['Overall'], ascending=False)\n",
    "iran = iran.iloc[:14]"
   ]
  },
  {
   "cell_type": "code",
   "execution_count": 69,
   "metadata": {},
   "outputs": [],
   "source": [
    "poland = poland.sort_values(by=['Overall'], ascending=False)\n",
    "poland = poland.iloc[:14]"
   ]
  },
  {
   "cell_type": "code",
   "execution_count": 70,
   "metadata": {},
   "outputs": [],
   "source": [
    "mexico = mexico.sort_values(by=['Overall'], ascending=False)\n",
    "mexico = mexico.iloc[:14]"
   ]
  },
  {
   "cell_type": "code",
   "execution_count": 71,
   "metadata": {},
   "outputs": [],
   "source": [
    "saudi_arabia = saudi_arabia.sort_values(by=['Overall'], ascending=False)\n",
    "saudi_arabia = saudi_arabia.iloc[:14]"
   ]
  },
  {
   "cell_type": "code",
   "execution_count": 72,
   "metadata": {},
   "outputs": [],
   "source": [
    "denmark = denmark.sort_values(by=['Overall'], ascending=False)\n",
    "denmark = denmark.iloc[:14]"
   ]
  },
  {
   "cell_type": "code",
   "execution_count": 73,
   "metadata": {},
   "outputs": [],
   "source": [
    "tunisia = tunisia.sort_values(by=['Overall'], ascending=False)\n",
    "tunisia = tunisia.iloc[:14]"
   ]
  },
  {
   "cell_type": "code",
   "execution_count": 74,
   "metadata": {},
   "outputs": [],
   "source": [
    "australia = australia.sort_values(by=['Overall'], ascending=False)\n",
    "australia = australia.iloc[:14]"
   ]
  },
  {
   "cell_type": "code",
   "execution_count": 75,
   "metadata": {},
   "outputs": [
    {
     "data": {
      "text/html": [
       "<div>\n",
       "<style scoped>\n",
       "    .dataframe tbody tr th:only-of-type {\n",
       "        vertical-align: middle;\n",
       "    }\n",
       "\n",
       "    .dataframe tbody tr th {\n",
       "        vertical-align: top;\n",
       "    }\n",
       "\n",
       "    .dataframe thead th {\n",
       "        text-align: right;\n",
       "    }\n",
       "</style>\n",
       "<table border=\"1\" class=\"dataframe\">\n",
       "  <thead>\n",
       "    <tr style=\"text-align: right;\">\n",
       "      <th></th>\n",
       "      <th>Unnamed: 0</th>\n",
       "      <th>Name</th>\n",
       "      <th>Nationality</th>\n",
       "      <th>Overall</th>\n",
       "      <th>Potential</th>\n",
       "      <th>Value</th>\n",
       "      <th>Special</th>\n",
       "    </tr>\n",
       "  </thead>\n",
       "  <tbody>\n",
       "    <tr>\n",
       "      <th>3923</th>\n",
       "      <td>3923</td>\n",
       "      <td>M. Al Buraik</td>\n",
       "      <td>Saudi Arabia</td>\n",
       "      <td>71</td>\n",
       "      <td>71</td>\n",
       "      <td>€1.7M</td>\n",
       "      <td>1909</td>\n",
       "    </tr>\n",
       "    <tr>\n",
       "      <th>3332</th>\n",
       "      <td>3332</td>\n",
       "      <td>A. Ghareeb</td>\n",
       "      <td>Saudi Arabia</td>\n",
       "      <td>68</td>\n",
       "      <td>70</td>\n",
       "      <td>€1.6M</td>\n",
       "      <td>1639</td>\n",
       "    </tr>\n",
       "    <tr>\n",
       "      <th>3320</th>\n",
       "      <td>3320</td>\n",
       "      <td>N. Al Dawsari</td>\n",
       "      <td>Saudi Arabia</td>\n",
       "      <td>67</td>\n",
       "      <td>76</td>\n",
       "      <td>€2.2M</td>\n",
       "      <td>1819</td>\n",
       "    </tr>\n",
       "    <tr>\n",
       "      <th>3794</th>\n",
       "      <td>3794</td>\n",
       "      <td>A. Al Ammar</td>\n",
       "      <td>Saudi Arabia</td>\n",
       "      <td>67</td>\n",
       "      <td>67</td>\n",
       "      <td>€975K</td>\n",
       "      <td>1753</td>\n",
       "    </tr>\n",
       "    <tr>\n",
       "      <th>1865</th>\n",
       "      <td>1865</td>\n",
       "      <td>N. Al Dawsari</td>\n",
       "      <td>Saudi Arabia</td>\n",
       "      <td>67</td>\n",
       "      <td>76</td>\n",
       "      <td>€2.2M</td>\n",
       "      <td>1819</td>\n",
       "    </tr>\n",
       "    <tr>\n",
       "      <th>12918</th>\n",
       "      <td>12918</td>\n",
       "      <td>K. Al Ghannam</td>\n",
       "      <td>Saudi Arabia</td>\n",
       "      <td>64</td>\n",
       "      <td>78</td>\n",
       "      <td>€1.4M</td>\n",
       "      <td>1519</td>\n",
       "    </tr>\n",
       "    <tr>\n",
       "      <th>4095</th>\n",
       "      <td>4095</td>\n",
       "      <td>N. Al Subhi</td>\n",
       "      <td>Saudi Arabia</td>\n",
       "      <td>64</td>\n",
       "      <td>64</td>\n",
       "      <td>€400K</td>\n",
       "      <td>1625</td>\n",
       "    </tr>\n",
       "    <tr>\n",
       "      <th>4084</th>\n",
       "      <td>4084</td>\n",
       "      <td>A. Al Fahad</td>\n",
       "      <td>Saudi Arabia</td>\n",
       "      <td>64</td>\n",
       "      <td>66</td>\n",
       "      <td>€625K</td>\n",
       "      <td>1690</td>\n",
       "    </tr>\n",
       "    <tr>\n",
       "      <th>9957</th>\n",
       "      <td>9957</td>\n",
       "      <td>M. Al Harbi</td>\n",
       "      <td>Saudi Arabia</td>\n",
       "      <td>63</td>\n",
       "      <td>72</td>\n",
       "      <td>€1M</td>\n",
       "      <td>1664</td>\n",
       "    </tr>\n",
       "    <tr>\n",
       "      <th>10767</th>\n",
       "      <td>10767</td>\n",
       "      <td>N. Boushal</td>\n",
       "      <td>Saudi Arabia</td>\n",
       "      <td>63</td>\n",
       "      <td>74</td>\n",
       "      <td>€1M</td>\n",
       "      <td>1614</td>\n",
       "    </tr>\n",
       "    <tr>\n",
       "      <th>3339</th>\n",
       "      <td>3339</td>\n",
       "      <td>A. Adam</td>\n",
       "      <td>Saudi Arabia</td>\n",
       "      <td>63</td>\n",
       "      <td>63</td>\n",
       "      <td>€525K</td>\n",
       "      <td>1510</td>\n",
       "    </tr>\n",
       "    <tr>\n",
       "      <th>12249</th>\n",
       "      <td>12249</td>\n",
       "      <td>K. Al Khathlan</td>\n",
       "      <td>Saudi Arabia</td>\n",
       "      <td>63</td>\n",
       "      <td>65</td>\n",
       "      <td>€550K</td>\n",
       "      <td>1520</td>\n",
       "    </tr>\n",
       "    <tr>\n",
       "      <th>3458</th>\n",
       "      <td>3458</td>\n",
       "      <td>M. Harzan</td>\n",
       "      <td>Saudi Arabia</td>\n",
       "      <td>62</td>\n",
       "      <td>62</td>\n",
       "      <td>€325K</td>\n",
       "      <td>1578</td>\n",
       "    </tr>\n",
       "    <tr>\n",
       "      <th>4045</th>\n",
       "      <td>4045</td>\n",
       "      <td>21 A. Al Nazera</td>\n",
       "      <td>Saudi Arabia</td>\n",
       "      <td>62</td>\n",
       "      <td>62</td>\n",
       "      <td>€425K</td>\n",
       "      <td>1601</td>\n",
       "    </tr>\n",
       "  </tbody>\n",
       "</table>\n",
       "</div>"
      ],
      "text/plain": [
       "       Unnamed: 0             Name   Nationality  Overall  Potential  Value  \\\n",
       "3923         3923     M. Al Buraik  Saudi Arabia       71         71  €1.7M   \n",
       "3332         3332       A. Ghareeb  Saudi Arabia       68         70  €1.6M   \n",
       "3320         3320    N. Al Dawsari  Saudi Arabia       67         76  €2.2M   \n",
       "3794         3794      A. Al Ammar  Saudi Arabia       67         67  €975K   \n",
       "1865         1865    N. Al Dawsari  Saudi Arabia       67         76  €2.2M   \n",
       "12918       12918    K. Al Ghannam  Saudi Arabia       64         78  €1.4M   \n",
       "4095         4095      N. Al Subhi  Saudi Arabia       64         64  €400K   \n",
       "4084         4084      A. Al Fahad  Saudi Arabia       64         66  €625K   \n",
       "9957         9957      M. Al Harbi  Saudi Arabia       63         72    €1M   \n",
       "10767       10767       N. Boushal  Saudi Arabia       63         74    €1M   \n",
       "3339         3339          A. Adam  Saudi Arabia       63         63  €525K   \n",
       "12249       12249   K. Al Khathlan  Saudi Arabia       63         65  €550K   \n",
       "3458         3458        M. Harzan  Saudi Arabia       62         62  €325K   \n",
       "4045         4045  21 A. Al Nazera  Saudi Arabia       62         62  €425K   \n",
       "\n",
       "       Special  \n",
       "3923      1909  \n",
       "3332      1639  \n",
       "3320      1819  \n",
       "3794      1753  \n",
       "1865      1819  \n",
       "12918     1519  \n",
       "4095      1625  \n",
       "4084      1690  \n",
       "9957      1664  \n",
       "10767     1614  \n",
       "3339      1510  \n",
       "12249     1520  \n",
       "3458      1578  \n",
       "4045      1601  "
      ]
     },
     "execution_count": 75,
     "metadata": {},
     "output_type": "execute_result"
    }
   ],
   "source": [
    "saudi_arabia"
   ]
  },
  {
   "cell_type": "code",
   "execution_count": 76,
   "metadata": {},
   "outputs": [],
   "source": [
    "teams = [netherlands, senegal, ecuador, england, usa, wales, iran, \n",
    "         argentina, poland, mexico, saudi_arabia, france, denmark, tunisia, \n",
    "         australia, germany, spain, japan, costa_rica, belgium, croatia, \n",
    "         canada, morocco, brazil, swiss, serbia, cameroon, portugal, \n",
    "         uruguay, ghana, korea_republic, qatar]\n"
   ]
  },
  {
   "cell_type": "code",
   "execution_count": 77,
   "metadata": {},
   "outputs": [],
   "source": [
    "wc_teams = pd.concat(teams)"
   ]
  },
  {
   "cell_type": "code",
   "execution_count": 78,
   "metadata": {},
   "outputs": [
    {
     "data": {
      "text/html": [
       "<div>\n",
       "<style scoped>\n",
       "    .dataframe tbody tr th:only-of-type {\n",
       "        vertical-align: middle;\n",
       "    }\n",
       "\n",
       "    .dataframe tbody tr th {\n",
       "        vertical-align: top;\n",
       "    }\n",
       "\n",
       "    .dataframe thead th {\n",
       "        text-align: right;\n",
       "    }\n",
       "</style>\n",
       "<table border=\"1\" class=\"dataframe\">\n",
       "  <thead>\n",
       "    <tr style=\"text-align: right;\">\n",
       "      <th></th>\n",
       "      <th>Unnamed: 0</th>\n",
       "      <th>Name</th>\n",
       "      <th>Nationality</th>\n",
       "      <th>Overall</th>\n",
       "      <th>Potential</th>\n",
       "      <th>Value</th>\n",
       "      <th>Special</th>\n",
       "    </tr>\n",
       "  </thead>\n",
       "  <tbody>\n",
       "    <tr>\n",
       "      <th>862</th>\n",
       "      <td>862</td>\n",
       "      <td>V. van Dijk</td>\n",
       "      <td>Netherlands</td>\n",
       "      <td>90</td>\n",
       "      <td>90</td>\n",
       "      <td>€100M</td>\n",
       "      <td>2118</td>\n",
       "    </tr>\n",
       "    <tr>\n",
       "      <th>73</th>\n",
       "      <td>73</td>\n",
       "      <td>F. de Jong</td>\n",
       "      <td>Netherlands</td>\n",
       "      <td>87</td>\n",
       "      <td>92</td>\n",
       "      <td>€119.5M</td>\n",
       "      <td>2234</td>\n",
       "    </tr>\n",
       "    <tr>\n",
       "      <th>47</th>\n",
       "      <td>47</td>\n",
       "      <td>M. de Ligt</td>\n",
       "      <td>Netherlands</td>\n",
       "      <td>85</td>\n",
       "      <td>89</td>\n",
       "      <td>€71M</td>\n",
       "      <td>1984</td>\n",
       "    </tr>\n",
       "    <tr>\n",
       "      <th>2302</th>\n",
       "      <td>2302</td>\n",
       "      <td>S. de Vrij</td>\n",
       "      <td>Netherlands</td>\n",
       "      <td>84</td>\n",
       "      <td>84</td>\n",
       "      <td>€35.5M</td>\n",
       "      <td>1853</td>\n",
       "    </tr>\n",
       "    <tr>\n",
       "      <th>2423</th>\n",
       "      <td>2423</td>\n",
       "      <td>18 W. Sneijder</td>\n",
       "      <td>Netherlands</td>\n",
       "      <td>83</td>\n",
       "      <td>83</td>\n",
       "      <td>€15.5M</td>\n",
       "      <td>1964</td>\n",
       "    </tr>\n",
       "    <tr>\n",
       "      <th>...</th>\n",
       "      <td>...</td>\n",
       "      <td>...</td>\n",
       "      <td>...</td>\n",
       "      <td>...</td>\n",
       "      <td>...</td>\n",
       "      <td>...</td>\n",
       "      <td>...</td>\n",
       "    </tr>\n",
       "    <tr>\n",
       "      <th>1810</th>\n",
       "      <td>1810</td>\n",
       "      <td>Um Won Sang</td>\n",
       "      <td>Korea Republic</td>\n",
       "      <td>70</td>\n",
       "      <td>78</td>\n",
       "      <td>€3.6M</td>\n",
       "      <td>1746</td>\n",
       "    </tr>\n",
       "    <tr>\n",
       "      <th>10713</th>\n",
       "      <td>10713</td>\n",
       "      <td>Won Du Jae</td>\n",
       "      <td>Korea Republic</td>\n",
       "      <td>70</td>\n",
       "      <td>74</td>\n",
       "      <td>€2.1M</td>\n",
       "      <td>1682</td>\n",
       "    </tr>\n",
       "    <tr>\n",
       "      <th>1014</th>\n",
       "      <td>1014</td>\n",
       "      <td>Song Min Kyu</td>\n",
       "      <td>Korea Republic</td>\n",
       "      <td>70</td>\n",
       "      <td>81</td>\n",
       "      <td>€3.6M</td>\n",
       "      <td>1760</td>\n",
       "    </tr>\n",
       "    <tr>\n",
       "      <th>4640</th>\n",
       "      <td>4640</td>\n",
       "      <td>Lee Chung Yong</td>\n",
       "      <td>Korea Republic</td>\n",
       "      <td>70</td>\n",
       "      <td>70</td>\n",
       "      <td>€1.3M</td>\n",
       "      <td>1828</td>\n",
       "    </tr>\n",
       "    <tr>\n",
       "      <th>3205</th>\n",
       "      <td>3205</td>\n",
       "      <td>Lee Dong Kyung</td>\n",
       "      <td>Korea Republic</td>\n",
       "      <td>70</td>\n",
       "      <td>75</td>\n",
       "      <td>€2.4M</td>\n",
       "      <td>1904</td>\n",
       "    </tr>\n",
       "  </tbody>\n",
       "</table>\n",
       "<p>408 rows × 7 columns</p>\n",
       "</div>"
      ],
      "text/plain": [
       "       Unnamed: 0            Name     Nationality  Overall  Potential  \\\n",
       "862           862     V. van Dijk     Netherlands       90         90   \n",
       "73             73      F. de Jong     Netherlands       87         92   \n",
       "47             47      M. de Ligt     Netherlands       85         89   \n",
       "2302         2302      S. de Vrij     Netherlands       84         84   \n",
       "2423         2423  18 W. Sneijder     Netherlands       83         83   \n",
       "...           ...             ...             ...      ...        ...   \n",
       "1810         1810     Um Won Sang  Korea Republic       70         78   \n",
       "10713       10713      Won Du Jae  Korea Republic       70         74   \n",
       "1014         1014    Song Min Kyu  Korea Republic       70         81   \n",
       "4640         4640  Lee Chung Yong  Korea Republic       70         70   \n",
       "3205         3205  Lee Dong Kyung  Korea Republic       70         75   \n",
       "\n",
       "         Value  Special  \n",
       "862      €100M     2118  \n",
       "73     €119.5M     2234  \n",
       "47        €71M     1984  \n",
       "2302    €35.5M     1853  \n",
       "2423    €15.5M     1964  \n",
       "...        ...      ...  \n",
       "1810     €3.6M     1746  \n",
       "10713    €2.1M     1682  \n",
       "1014     €3.6M     1760  \n",
       "4640     €1.3M     1828  \n",
       "3205     €2.4M     1904  \n",
       "\n",
       "[408 rows x 7 columns]"
      ]
     },
     "execution_count": 78,
     "metadata": {},
     "output_type": "execute_result"
    }
   ],
   "source": [
    "wc_teams"
   ]
  },
  {
   "cell_type": "code",
   "execution_count": 79,
   "metadata": {},
   "outputs": [
    {
     "data": {
      "text/plain": [
       "736"
      ]
     },
     "execution_count": 79,
     "metadata": {},
     "output_type": "execute_result"
    }
   ],
   "source": [
    "32*23\n",
    "# 32 teams x 23 players\n",
    "# 736 total players"
   ]
  },
  {
   "cell_type": "code",
   "execution_count": 80,
   "metadata": {
    "scrolled": true
   },
   "outputs": [],
   "source": [
    "teams2022 = wc_teams['Nationality']"
   ]
  },
  {
   "cell_type": "code",
   "execution_count": 81,
   "metadata": {},
   "outputs": [
    {
     "data": {
      "text/plain": [
       "Netherlands       14\n",
       "Senegal           14\n",
       "Ghana             14\n",
       "Uruguay           14\n",
       "Portugal          14\n",
       "Cameroon          14\n",
       "Serbia            14\n",
       "Switzerland       14\n",
       "Brazil            14\n",
       "Morocco           14\n",
       "Canada            14\n",
       "Croatia           14\n",
       "Belgium           14\n",
       "Japan             14\n",
       "Spain             14\n",
       "Germany           14\n",
       "Australia         14\n",
       "Tunisia           14\n",
       "Denmark           14\n",
       "France            14\n",
       "Saudi Arabia      14\n",
       "Mexico            14\n",
       "Poland            14\n",
       "Argentina         14\n",
       "Wales             14\n",
       "England           14\n",
       "Ecuador           14\n",
       "Korea Republic    14\n",
       "Costa Rica        10\n",
       "Iran               6\n",
       "Name: Nationality, dtype: int64"
      ]
     },
     "execution_count": 81,
     "metadata": {},
     "output_type": "execute_result"
    }
   ],
   "source": [
    "teams2022.value_counts()"
   ]
  },
  {
   "cell_type": "markdown",
   "metadata": {},
   "source": [
    "Teams:\n",
    "* Group A:\n",
    "    - Qatar\n",
    "    - Netherlands\n",
    "    - Senegal\n",
    "    - Ecuador\n",
    "    \n",
    "* Group B:\n",
    "    - England\n",
    "    - USA\n",
    "    - Wales\n",
    "    - Iran\n",
    "    \n",
    "* Group C:\n",
    "    - Argentina\n",
    "    - Poland\n",
    "    - Mexico\n",
    "    - Saudi Arabia\n",
    "    \n",
    "* Group D:\n",
    "    - France\n",
    "    - Denmark\n",
    "    - Tunisia\n",
    "    - Australia\n",
    "    \n",
    "* Group E:\n",
    "    - Germany\n",
    "    - Spain\n",
    "    - Canada\n",
    "    - Morocco\n",
    "    \n",
    "* Group F:\n",
    "    - Belgium\n",
    "    - Croatia\n",
    "    - Canada\n",
    "    - Morocoo\n",
    "    \n",
    "* Group G\n",
    "    - Brazil\n",
    "    - Switzerland\n",
    "    - Serbia\n",
    "    - Cameroon\n",
    "    \n",
    "* Group H:\n",
    "    - Portugal\n",
    "    - Uruguay\n",
    "    - Ghana\n",
    "    - Korea Republic"
   ]
  },
  {
   "cell_type": "code",
   "execution_count": 84,
   "metadata": {},
   "outputs": [
    {
     "data": {
      "text/html": [
       "<div>\n",
       "<style scoped>\n",
       "    .dataframe tbody tr th:only-of-type {\n",
       "        vertical-align: middle;\n",
       "    }\n",
       "\n",
       "    .dataframe tbody tr th {\n",
       "        vertical-align: top;\n",
       "    }\n",
       "\n",
       "    .dataframe thead th {\n",
       "        text-align: right;\n",
       "    }\n",
       "</style>\n",
       "<table border=\"1\" class=\"dataframe\">\n",
       "  <thead>\n",
       "    <tr style=\"text-align: right;\">\n",
       "      <th></th>\n",
       "      <th>Unnamed: 0</th>\n",
       "      <th>Name</th>\n",
       "      <th>Nationality</th>\n",
       "      <th>Overall</th>\n",
       "      <th>Potential</th>\n",
       "      <th>Value</th>\n",
       "      <th>Special</th>\n",
       "    </tr>\n",
       "  </thead>\n",
       "  <tbody>\n",
       "    <tr>\n",
       "      <th>862</th>\n",
       "      <td>862</td>\n",
       "      <td>V. van Dijk</td>\n",
       "      <td>Netherlands</td>\n",
       "      <td>90</td>\n",
       "      <td>90</td>\n",
       "      <td>€100M</td>\n",
       "      <td>2118</td>\n",
       "    </tr>\n",
       "    <tr>\n",
       "      <th>73</th>\n",
       "      <td>73</td>\n",
       "      <td>F. de Jong</td>\n",
       "      <td>Netherlands</td>\n",
       "      <td>87</td>\n",
       "      <td>92</td>\n",
       "      <td>€119.5M</td>\n",
       "      <td>2234</td>\n",
       "    </tr>\n",
       "    <tr>\n",
       "      <th>47</th>\n",
       "      <td>47</td>\n",
       "      <td>M. de Ligt</td>\n",
       "      <td>Netherlands</td>\n",
       "      <td>85</td>\n",
       "      <td>89</td>\n",
       "      <td>€71M</td>\n",
       "      <td>1984</td>\n",
       "    </tr>\n",
       "    <tr>\n",
       "      <th>2302</th>\n",
       "      <td>2302</td>\n",
       "      <td>S. de Vrij</td>\n",
       "      <td>Netherlands</td>\n",
       "      <td>84</td>\n",
       "      <td>84</td>\n",
       "      <td>€35.5M</td>\n",
       "      <td>1853</td>\n",
       "    </tr>\n",
       "    <tr>\n",
       "      <th>2423</th>\n",
       "      <td>2423</td>\n",
       "      <td>18 W. Sneijder</td>\n",
       "      <td>Netherlands</td>\n",
       "      <td>83</td>\n",
       "      <td>83</td>\n",
       "      <td>€15.5M</td>\n",
       "      <td>1964</td>\n",
       "    </tr>\n",
       "    <tr>\n",
       "      <th>...</th>\n",
       "      <td>...</td>\n",
       "      <td>...</td>\n",
       "      <td>...</td>\n",
       "      <td>...</td>\n",
       "      <td>...</td>\n",
       "      <td>...</td>\n",
       "      <td>...</td>\n",
       "    </tr>\n",
       "    <tr>\n",
       "      <th>1810</th>\n",
       "      <td>1810</td>\n",
       "      <td>Um Won Sang</td>\n",
       "      <td>Korea Republic</td>\n",
       "      <td>70</td>\n",
       "      <td>78</td>\n",
       "      <td>€3.6M</td>\n",
       "      <td>1746</td>\n",
       "    </tr>\n",
       "    <tr>\n",
       "      <th>10713</th>\n",
       "      <td>10713</td>\n",
       "      <td>Won Du Jae</td>\n",
       "      <td>Korea Republic</td>\n",
       "      <td>70</td>\n",
       "      <td>74</td>\n",
       "      <td>€2.1M</td>\n",
       "      <td>1682</td>\n",
       "    </tr>\n",
       "    <tr>\n",
       "      <th>1014</th>\n",
       "      <td>1014</td>\n",
       "      <td>Song Min Kyu</td>\n",
       "      <td>Korea Republic</td>\n",
       "      <td>70</td>\n",
       "      <td>81</td>\n",
       "      <td>€3.6M</td>\n",
       "      <td>1760</td>\n",
       "    </tr>\n",
       "    <tr>\n",
       "      <th>4640</th>\n",
       "      <td>4640</td>\n",
       "      <td>Lee Chung Yong</td>\n",
       "      <td>Korea Republic</td>\n",
       "      <td>70</td>\n",
       "      <td>70</td>\n",
       "      <td>€1.3M</td>\n",
       "      <td>1828</td>\n",
       "    </tr>\n",
       "    <tr>\n",
       "      <th>3205</th>\n",
       "      <td>3205</td>\n",
       "      <td>Lee Dong Kyung</td>\n",
       "      <td>Korea Republic</td>\n",
       "      <td>70</td>\n",
       "      <td>75</td>\n",
       "      <td>€2.4M</td>\n",
       "      <td>1904</td>\n",
       "    </tr>\n",
       "  </tbody>\n",
       "</table>\n",
       "<p>408 rows × 7 columns</p>\n",
       "</div>"
      ],
      "text/plain": [
       "       Unnamed: 0            Name     Nationality  Overall  Potential  \\\n",
       "862           862     V. van Dijk     Netherlands       90         90   \n",
       "73             73      F. de Jong     Netherlands       87         92   \n",
       "47             47      M. de Ligt     Netherlands       85         89   \n",
       "2302         2302      S. de Vrij     Netherlands       84         84   \n",
       "2423         2423  18 W. Sneijder     Netherlands       83         83   \n",
       "...           ...             ...             ...      ...        ...   \n",
       "1810         1810     Um Won Sang  Korea Republic       70         78   \n",
       "10713       10713      Won Du Jae  Korea Republic       70         74   \n",
       "1014         1014    Song Min Kyu  Korea Republic       70         81   \n",
       "4640         4640  Lee Chung Yong  Korea Republic       70         70   \n",
       "3205         3205  Lee Dong Kyung  Korea Republic       70         75   \n",
       "\n",
       "         Value  Special  \n",
       "862      €100M     2118  \n",
       "73     €119.5M     2234  \n",
       "47        €71M     1984  \n",
       "2302    €35.5M     1853  \n",
       "2423    €15.5M     1964  \n",
       "...        ...      ...  \n",
       "1810     €3.6M     1746  \n",
       "10713    €2.1M     1682  \n",
       "1014     €3.6M     1760  \n",
       "4640     €1.3M     1828  \n",
       "3205     €2.4M     1904  \n",
       "\n",
       "[408 rows x 7 columns]"
      ]
     },
     "execution_count": 84,
     "metadata": {},
     "output_type": "execute_result"
    }
   ],
   "source": [
    "wc_teams"
   ]
  },
  {
   "cell_type": "code",
   "execution_count": null,
   "metadata": {},
   "outputs": [],
   "source": []
  }
 ],
 "metadata": {
  "kernelspec": {
   "display_name": "Python 3 (ipykernel)",
   "language": "python",
   "name": "python3"
  },
  "language_info": {
   "codemirror_mode": {
    "name": "ipython",
    "version": 3
   },
   "file_extension": ".py",
   "mimetype": "text/x-python",
   "name": "python",
   "nbconvert_exporter": "python",
   "pygments_lexer": "ipython3",
   "version": "3.9.12"
  }
 },
 "nbformat": 4,
 "nbformat_minor": 5
}
