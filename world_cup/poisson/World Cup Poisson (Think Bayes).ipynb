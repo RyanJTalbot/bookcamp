{
 "cells": [
  {
   "cell_type": "markdown",
   "id": "503611de",
   "metadata": {},
   "source": [
    "# Study Bayes\n",
    "\n",
    "### Chapters 8 & 18 \n",
    "- world cup \n",
    "\n",
    "#### Not working:\n",
    "- empiricaldist\n",
    "- prior (is part of empiricladist?)\n",
    "- utils\n",
    "\n",
    "https://stackoverflow.com/questions/27064348/no-module-named-utils-error-on-compiling-py-file"
   ]
  },
  {
   "cell_type": "code",
   "execution_count": 1,
   "id": "a4358e1b",
   "metadata": {},
   "outputs": [
    {
     "name": "stdout",
     "output_type": "stream",
     "text": [
      "Requirement already satisfied: empiricaldist in /Users/ryantalbot/opt/anaconda3/lib/python3.9/site-packages (0.6.7)\r\n"
     ]
    }
   ],
   "source": [
    "!pip install empiricaldist"
   ]
  },
  {
   "cell_type": "code",
   "execution_count": 2,
   "id": "9457f7fd",
   "metadata": {},
   "outputs": [],
   "source": [
    "import pandas as pd\n",
    "import numpy as np\n",
    "import scipy as scipy\n",
    "from scipy import linalg, optimize\n",
    "from scipy.stats import poisson\n",
    "from scipy.stats import rv_continuous\n",
    "import matplotlib.pyplot as plt\n",
    "from empiricaldist import Pmf"
   ]
  },
  {
   "cell_type": "code",
   "execution_count": 3,
   "id": "a99dedf0",
   "metadata": {},
   "outputs": [],
   "source": [
    "df = pd.read_csv('./wc_goals.csv')"
   ]
  },
  {
   "cell_type": "code",
   "execution_count": 4,
   "id": "11350005",
   "metadata": {},
   "outputs": [
    {
     "data": {
      "text/html": [
       "<div>\n",
       "<style scoped>\n",
       "    .dataframe tbody tr th:only-of-type {\n",
       "        vertical-align: middle;\n",
       "    }\n",
       "\n",
       "    .dataframe tbody tr th {\n",
       "        vertical-align: top;\n",
       "    }\n",
       "\n",
       "    .dataframe thead th {\n",
       "        text-align: right;\n",
       "    }\n",
       "</style>\n",
       "<table border=\"1\" class=\"dataframe\">\n",
       "  <thead>\n",
       "    <tr style=\"text-align: right;\">\n",
       "      <th></th>\n",
       "      <th>year</th>\n",
       "      <th>goals_per_game</th>\n",
       "    </tr>\n",
       "  </thead>\n",
       "  <tbody>\n",
       "    <tr>\n",
       "      <th>0</th>\n",
       "      <td>1930</td>\n",
       "      <td>3.89</td>\n",
       "    </tr>\n",
       "    <tr>\n",
       "      <th>1</th>\n",
       "      <td>1934</td>\n",
       "      <td>4.12</td>\n",
       "    </tr>\n",
       "    <tr>\n",
       "      <th>2</th>\n",
       "      <td>1938</td>\n",
       "      <td>4.67</td>\n",
       "    </tr>\n",
       "    <tr>\n",
       "      <th>3</th>\n",
       "      <td>1950</td>\n",
       "      <td>4.00</td>\n",
       "    </tr>\n",
       "    <tr>\n",
       "      <th>4</th>\n",
       "      <td>1954</td>\n",
       "      <td>5.38</td>\n",
       "    </tr>\n",
       "  </tbody>\n",
       "</table>\n",
       "</div>"
      ],
      "text/plain": [
       "   year  goals_per_game\n",
       "0  1930            3.89\n",
       "1  1934            4.12\n",
       "2  1938            4.67\n",
       "3  1950            4.00\n",
       "4  1954            5.38"
      ]
     },
     "execution_count": 4,
     "metadata": {},
     "output_type": "execute_result"
    }
   ],
   "source": [
    "df.head()"
   ]
  },
  {
   "cell_type": "markdown",
   "id": "0575ec5e",
   "metadata": {},
   "source": [
    "### Distribution of goals from international goals database"
   ]
  },
  {
   "cell_type": "code",
   "execution_count": 5,
   "id": "1c3ebb47",
   "metadata": {},
   "outputs": [
    {
     "data": {
      "image/png": "[encoded data removed]",
      "text/plain": [
       "<Figure size 504x252 with 2 Axes>"
      ]
     },
     "metadata": {
      "needs_background": "light"
     },
     "output_type": "display_data"
    }
   ],
   "source": [
    "import matplotlib.pyplot as plt\n",
    "\n",
    "plt.rcParams[\"figure.figsize\"] = [7.00, 3.50]\n",
    "plt.rcParams[\"figure.autolayout\"] = True\n",
    "fig, ax1 = plt.subplots()\n",
    "ax1.plot([125636, 151877, 95731, 42700, 15384, 4631, 1415, 347, 78, 26, 6, 1], color='red')\n",
    "ax2 = ax1.twinx()\n",
    "# ax2.plot([11, 12, 31, 41, 15], color='blue')\n",
    "fig.tight_layout()\n",
    "plt.show()"
   ]
  },
  {
   "cell_type": "code",
   "execution_count": 6,
   "id": "b04de49d",
   "metadata": {},
   "outputs": [
    {
     "data": {
      "text/plain": [
       "scipy.stats._distn_infrastructure.rv_frozen"
      ]
     },
     "execution_count": 6,
     "metadata": {},
     "output_type": "execute_result"
    }
   ],
   "source": [
    "lam = 1.4\n",
    "dist = poisson(lam)\n",
    "type(dist)\n",
    "scipy.stats._distn_infrastructure.rv_frozen"
   ]
  },
  {
   "cell_type": "code",
   "execution_count": 7,
   "id": "68754531",
   "metadata": {},
   "outputs": [
    {
     "data": {
      "text/plain": [
       "0.039471954028253146"
      ]
     },
     "execution_count": 7,
     "metadata": {},
     "output_type": "execute_result"
    }
   ],
   "source": [
    "k = 4\n",
    "dist.pmf(k)"
   ]
  },
  {
   "cell_type": "code",
   "execution_count": 8,
   "id": "21a5b321",
   "metadata": {},
   "outputs": [],
   "source": [
    "def make_poisson_pmf(lam, qs):\n",
    "# \"\"\"Make a Pmf of a Poisson distribution.\"\"\"\n",
    "    ps = poisson(lam).pmf(qs)\n",
    "    pmf = Pmf(ps, qs)\n",
    "    pmf.normalize()\n",
    "    return pmf"
   ]
  },
  {
   "cell_type": "code",
   "execution_count": 9,
   "id": "93589895",
   "metadata": {},
   "outputs": [],
   "source": [
    "lam = 1.4\n",
    "goals = np.arange(10)\n",
    "pmf_goals = make_poisson_pmf(lam, goals)"
   ]
  },
  {
   "cell_type": "code",
   "execution_count": 10,
   "id": "bc48fe11",
   "metadata": {},
   "outputs": [],
   "source": [
    "from scipy.stats import gamma\n",
    "alpha = 1.4\n",
    "qs = np.linspace(0, 10, 101)\n",
    "ps = gamma(alpha).pdf(qs)"
   ]
  },
  {
   "cell_type": "code",
   "execution_count": 11,
   "id": "2627ce7a",
   "metadata": {},
   "outputs": [
    {
     "data": {
      "text/plain": [
       "9.889360237140306"
      ]
     },
     "execution_count": 11,
     "metadata": {},
     "output_type": "execute_result"
    }
   ],
   "source": [
    "prior = Pmf(ps, qs)\n",
    "prior.normalize()"
   ]
  },
  {
   "cell_type": "code",
   "execution_count": 12,
   "id": "061218d6",
   "metadata": {},
   "outputs": [
    {
     "data": {
      "text/plain": [
       "0.039471954028253146"
      ]
     },
     "execution_count": 12,
     "metadata": {},
     "output_type": "execute_result"
    }
   ],
   "source": [
    "lam = 1.4\n",
    "k = 4\n",
    "poisson(lam).pmf(4)"
   ]
  },
  {
   "cell_type": "code",
   "execution_count": 13,
   "id": "19108bcb",
   "metadata": {},
   "outputs": [],
   "source": [
    "lams = prior.qs\n",
    "k = 4\n",
    "likelihood = poisson(lams).pmf(k)"
   ]
  },
  {
   "cell_type": "code",
   "execution_count": 14,
   "id": "9fe99c71",
   "metadata": {},
   "outputs": [],
   "source": [
    "def update_poisson(pmf, data):\n",
    "# \"\"\"Update Pmf with a Poisson likelihood.\"\"\"\n",
    "    k = data\n",
    "    lams = pmf.qs\n",
    "    likelihood = poisson(lams).pmf(k)\n",
    "    pmf *= likelihood\n",
    "    pmf.normalize()\n"
   ]
  },
  {
   "cell_type": "code",
   "execution_count": 15,
   "id": "7a06dfd8",
   "metadata": {},
   "outputs": [],
   "source": [
    "france = prior.copy()\n",
    "update_poisson(france, 4)"
   ]
  },
  {
   "cell_type": "code",
   "execution_count": 16,
   "id": "3317308f",
   "metadata": {},
   "outputs": [],
   "source": [
    "croatia = prior.copy()\n",
    "update_poisson(croatia, 2)"
   ]
  },
  {
   "cell_type": "code",
   "execution_count": 17,
   "id": "403a8edd",
   "metadata": {},
   "outputs": [],
   "source": [
    "def prob_gt(pmf1, pmf2):\n",
    "#     \"\"\"Compute the probability of superiority.\"\"\"\n",
    "    total = 0\n",
    "    for q1, p1 in pmf1.items():\n",
    "        for q2, p2 in pmf2.items():\n",
    "            if q1 > q2:\n",
    "                total += p1 * p2\n",
    "    return total"
   ]
  },
  {
   "cell_type": "code",
   "execution_count": 18,
   "id": "5049b85f",
   "metadata": {},
   "outputs": [
    {
     "data": {
      "text/plain": [
       "0.7499366290930155"
      ]
     },
     "execution_count": 18,
     "metadata": {},
     "output_type": "execute_result"
    }
   ],
   "source": [
    "prob_gt(france, croatia)"
   ]
  },
  {
   "cell_type": "code",
   "execution_count": 19,
   "id": "be2363cd",
   "metadata": {},
   "outputs": [
    {
     "data": {
      "text/plain": [
       "0.7499366290930174"
      ]
     },
     "execution_count": 19,
     "metadata": {},
     "output_type": "execute_result"
    }
   ],
   "source": [
    "Pmf.prob_gt(france, croatia)"
   ]
  },
  {
   "cell_type": "code",
   "execution_count": 20,
   "id": "590f7690",
   "metadata": {},
   "outputs": [],
   "source": [
    "pmf_seq = [make_poisson_pmf(lam, goals)\n",
    "for lam in prior.qs]"
   ]
  },
  {
   "cell_type": "code",
   "execution_count": 21,
   "id": "85b7e89c",
   "metadata": {},
   "outputs": [],
   "source": [
    "from utils import make_mixture"
   ]
  },
  {
   "cell_type": "code",
   "execution_count": 22,
   "id": "784d354c",
   "metadata": {},
   "outputs": [],
   "source": [
    "pred_france = make_mixture(france, pmf_seq)"
   ]
  },
  {
   "cell_type": "code",
   "execution_count": 23,
   "id": "3010e372",
   "metadata": {},
   "outputs": [],
   "source": [
    "pred_croatia = make_mixture(croatia, pmf_seq)"
   ]
  },
  {
   "cell_type": "code",
   "execution_count": 24,
   "id": "17970e5b",
   "metadata": {},
   "outputs": [
    {
     "data": {
      "text/plain": [
       "0.5703522415934519"
      ]
     },
     "execution_count": 24,
     "metadata": {},
     "output_type": "execute_result"
    }
   ],
   "source": [
    "win = Pmf.prob_gt(pred_france, pred_croatia)\n",
    "win"
   ]
  },
  {
   "cell_type": "code",
   "execution_count": 25,
   "id": "3794a4d8",
   "metadata": {},
   "outputs": [
    {
     "data": {
      "text/plain": [
       "0.26443376257235873"
      ]
     },
     "execution_count": 25,
     "metadata": {},
     "output_type": "execute_result"
    }
   ],
   "source": [
    "lose = Pmf.prob_lt(pred_france, pred_croatia)\n",
    "lose"
   ]
  },
  {
   "cell_type": "code",
   "execution_count": 26,
   "id": "f15cef64",
   "metadata": {},
   "outputs": [
    {
     "data": {
      "text/plain": [
       "0.16521399583418947"
      ]
     },
     "execution_count": 26,
     "metadata": {},
     "output_type": "execute_result"
    }
   ],
   "source": [
    "tie = Pmf.prob_eq(pred_france, pred_croatia)\n",
    "tie"
   ]
  },
  {
   "cell_type": "code",
   "execution_count": 27,
   "id": "3986b4e4",
   "metadata": {},
   "outputs": [
    {
     "data": {
      "text/plain": [
       "0.6529592395105466"
      ]
     },
     "execution_count": 27,
     "metadata": {},
     "output_type": "execute_result"
    }
   ],
   "source": [
    "win + tie/2"
   ]
  },
  {
   "cell_type": "code",
   "execution_count": 28,
   "id": "0dc48207",
   "metadata": {},
   "outputs": [],
   "source": [
    "def expo_pdf(t, lam):\n",
    "# \"\"\"Compute the PDF of the exponential distribution.\"\"\"\n",
    "    return lam * np.exp(-lam * t)\n"
   ]
  },
  {
   "cell_type": "code",
   "execution_count": 29,
   "id": "28bd50f3",
   "metadata": {},
   "outputs": [
    {
     "data": {
      "text/plain": [
       "25.616650745459093"
      ]
     },
     "execution_count": 29,
     "metadata": {},
     "output_type": "execute_result"
    }
   ],
   "source": [
    "lam = 1.4\n",
    "qs = np.linspace(0, 4, 101)\n",
    "ps = expo_pdf(qs, lam)\n",
    "pmf_time = Pmf(ps, qs)\n",
    "pmf_time.normalize()"
   ]
  },
  {
   "cell_type": "markdown",
   "id": "efc6b83d",
   "metadata": {},
   "source": [
    "# Chapter 18"
   ]
  },
  {
   "cell_type": "code",
   "execution_count": 30,
   "id": "f55a9579",
   "metadata": {},
   "outputs": [],
   "source": [
    "from scipy.stats import gamma"
   ]
  },
  {
   "cell_type": "code",
   "execution_count": 31,
   "id": "84ebd6ba",
   "metadata": {},
   "outputs": [],
   "source": [
    "alpha = 1.4 \n",
    "dist = gamma(alpha)"
   ]
  },
  {
   "cell_type": "code",
   "execution_count": 32,
   "id": "4b01389a",
   "metadata": {},
   "outputs": [],
   "source": [
    "import numpy as np\n",
    "from utils import pmf_from_dist"
   ]
  },
  {
   "cell_type": "code",
   "execution_count": 33,
   "id": "c0199879",
   "metadata": {},
   "outputs": [],
   "source": [
    "lams = np.linspace(0, 10, 101)\n",
    "prior = pmf_from_dist(dist, lams)"
   ]
  },
  {
   "cell_type": "code",
   "execution_count": 34,
   "id": "71d4c5e9",
   "metadata": {},
   "outputs": [],
   "source": [
    "from scipy.stats import poisson\n",
    "\n",
    "k = 4\n",
    "likelihood = poisson(lams).pmf(k)"
   ]
  },
  {
   "cell_type": "code",
   "execution_count": 35,
   "id": "e1d17dad",
   "metadata": {},
   "outputs": [
    {
     "data": {
      "text/plain": [
       "0.05015532557804499"
      ]
     },
     "execution_count": 35,
     "metadata": {},
     "output_type": "execute_result"
    }
   ],
   "source": [
    "posterior = prior * likelihood\n",
    "posterior.normalize()"
   ]
  },
  {
   "cell_type": "code",
   "execution_count": 36,
   "id": "c655b06b",
   "metadata": {},
   "outputs": [],
   "source": [
    "def make_gamma_dist(alpha, beta):\n",
    "#     make a gamma object\n",
    "    dist = gamma(alpha, scale=1/beta)\n",
    "    dist.alpha = alpha\n",
    "    dist.beta = beta\n",
    "    return dist"
   ]
  },
  {
   "cell_type": "code",
   "execution_count": 37,
   "id": "bfcaf829",
   "metadata": {},
   "outputs": [],
   "source": [
    "alpha = 1.4\n",
    "beta = 1"
   ]
  },
  {
   "cell_type": "code",
   "execution_count": 38,
   "id": "48933a36",
   "metadata": {},
   "outputs": [
    {
     "data": {
      "text/plain": [
       "1.4"
      ]
     },
     "execution_count": 38,
     "metadata": {},
     "output_type": "execute_result"
    }
   ],
   "source": [
    "prior_gamma = make_gamma_dist(alpha, beta)\n",
    "prior_gamma.mean()"
   ]
  },
  {
   "cell_type": "code",
   "execution_count": 39,
   "id": "514790e1",
   "metadata": {},
   "outputs": [],
   "source": [
    "def update_gamma(prior, data):\n",
    "#     update a gamma prior\n",
    "    k, t = data\n",
    "    alpha = prior.alpha + k\n",
    "    beta = prior.beta + t\n",
    "    return make_gamma_dist(alpha, beta)"
   ]
  },
  {
   "cell_type": "code",
   "execution_count": 40,
   "id": "2ceff792",
   "metadata": {},
   "outputs": [],
   "source": [
    "data = 4, 1\n",
    "posterior_gamma = update_gamma(prior_gamma, data)"
   ]
  },
  {
   "cell_type": "code",
   "execution_count": 41,
   "id": "31210c6e",
   "metadata": {},
   "outputs": [],
   "source": [
    "posterior_conjugate = pmf_from_dist(posterior_gamma, lams)"
   ]
  },
  {
   "cell_type": "markdown",
   "id": "f40badcf",
   "metadata": {},
   "source": [
    "# Chapter 19"
   ]
  },
  {
   "cell_type": "code",
   "execution_count": 42,
   "id": "11b8633a",
   "metadata": {},
   "outputs": [],
   "source": [
    "prior_dist = gamma(alpha)"
   ]
  },
  {
   "cell_type": "code",
   "execution_count": 43,
   "id": "8f7aad16",
   "metadata": {},
   "outputs": [],
   "source": [
    "prior_pmf = pmf_from_dist(prior_dist, lams)"
   ]
  },
  {
   "cell_type": "code",
   "execution_count": 44,
   "id": "b489ea4a",
   "metadata": {},
   "outputs": [],
   "source": [
    "lams = np.linspace(0, 10, 101)\n",
    "prior_omf = pmf_from_dist(prior_dist, lams)"
   ]
  },
  {
   "cell_type": "code",
   "execution_count": 45,
   "id": "6c9c288a",
   "metadata": {},
   "outputs": [],
   "source": [
    "from scipy.stats import poisson\n",
    "\n",
    "data = 4"
   ]
  },
  {
   "cell_type": "code",
   "execution_count": 46,
   "id": "03f2d2f1",
   "metadata": {},
   "outputs": [],
   "source": [
    "likelihood = poisson.pmf(data, lams)"
   ]
  },
  {
   "cell_type": "code",
   "execution_count": 47,
   "id": "42b72638",
   "metadata": {},
   "outputs": [
    {
     "data": {
      "text/plain": [
       "0.05015532557804499"
      ]
     },
     "execution_count": 47,
     "metadata": {},
     "output_type": "execute_result"
    }
   ],
   "source": [
    "posterior = prior_pmf * likelihood\n",
    "posterior.normalize()"
   ]
  },
  {
   "cell_type": "code",
   "execution_count": 48,
   "id": "64606c7c",
   "metadata": {},
   "outputs": [],
   "source": [
    "sample_prior = prior_dist.rvs(1000)"
   ]
  },
  {
   "cell_type": "code",
   "execution_count": 49,
   "id": "599eafc8",
   "metadata": {},
   "outputs": [],
   "source": [
    "from scipy.stats import poisson\n",
    "\n",
    "sample_prior_pred = poisson.rvs(sample_prior)"
   ]
  },
  {
   "cell_type": "code",
   "execution_count": 50,
   "id": "581eb52f",
   "metadata": {},
   "outputs": [],
   "source": [
    "from empiricaldist import Pmf"
   ]
  },
  {
   "cell_type": "code",
   "execution_count": 51,
   "id": "4be990e0",
   "metadata": {},
   "outputs": [],
   "source": [
    "pmf_prior_pred = Pmf.from_seq(sample_prior_pred)"
   ]
  },
  {
   "cell_type": "code",
   "execution_count": 52,
   "id": "2b6a1931",
   "metadata": {},
   "outputs": [],
   "source": [
    "import pymc3 as pm"
   ]
  },
  {
   "cell_type": "code",
   "execution_count": 53,
   "id": "e3ba7b26",
   "metadata": {},
   "outputs": [],
   "source": [
    "with pm.Model() as model:\n",
    "    lam = pm.Gamma('lam', alpha=1.4, beta=1.0)\n",
    "    goals = pm.Poisson('goals', lam)"
   ]
  },
  {
   "cell_type": "code",
   "execution_count": 54,
   "id": "a487b552",
   "metadata": {},
   "outputs": [],
   "source": [
    "with model:\n",
    "    trace = pm.sample_prior_predictive(1000)"
   ]
  },
  {
   "cell_type": "code",
   "execution_count": 55,
   "id": "240f1a4d",
   "metadata": {},
   "outputs": [
    {
     "data": {
      "text/plain": [
       "(1000,)"
      ]
     },
     "execution_count": 55,
     "metadata": {},
     "output_type": "execute_result"
    }
   ],
   "source": [
    "sample_prior_pymc = trace['lam']\n",
    "sample_prior_pymc.shape"
   ]
  },
  {
   "cell_type": "code",
   "execution_count": 56,
   "id": "b9fa7e74",
   "metadata": {},
   "outputs": [
    {
     "data": {
      "text/plain": [
       "(1000,)"
      ]
     },
     "execution_count": 56,
     "metadata": {},
     "output_type": "execute_result"
    }
   ],
   "source": [
    "sample_prior_pred_pymc = trace['goals']\n",
    "sample_prior_pred_pymc.shape"
   ]
  },
  {
   "cell_type": "code",
   "execution_count": 57,
   "id": "171f34a3",
   "metadata": {},
   "outputs": [],
   "source": [
    "with pm.Model() as model:\n",
    "    lam = pm.Gamma('lam', alpha=1.4, beta=1.0)\n",
    "    goals = pm.Poisson('goals', lam)"
   ]
  },
  {
   "cell_type": "code",
   "execution_count": 58,
   "id": "2bbf9234",
   "metadata": {},
   "outputs": [],
   "source": [
    "with pm.Model() as model2:\n",
    "    lam = pm.Gamma('lam', alpha=1.4, beta=1.0)\n",
    "    goals = pm.Poisson('goals', lam, observed=4)"
   ]
  },
  {
   "cell_type": "code",
   "execution_count": 59,
   "id": "ae9117e3",
   "metadata": {},
   "outputs": [
    {
     "name": "stderr",
     "output_type": "stream",
     "text": [
      "Auto-assigning NUTS sampler...\n",
      "Initializing NUTS using jitter+adapt_diag...\n",
      "Multiprocess sampling (4 chains in 4 jobs)\n",
      "NUTS: [lam]\n"
     ]
    },
    {
     "data": {
      "text/html": [
       "\n",
       "<style>\n",
       "    /* Turns off some styling */\n",
       "    progress {\n",
       "        /* gets rid of default border in Firefox and Opera. */\n",
       "        border: none;\n",
       "        /* Needs to be in here for Safari polyfill so background images work as expected. */\n",
       "        background-size: auto;\n",
       "    }\n",
       "    progress:not([value]), progress:not([value])::-webkit-progress-bar {\n",
       "        background: repeating-linear-gradient(45deg, #7e7e7e, #7e7e7e 10px, #5c5c5c 10px, #5c5c5c 20px);\n",
       "    }\n",
       "    .progress-bar-interrupted, .progress-bar-interrupted::-webkit-progress-bar {\n",
       "        background: #F44336;\n",
       "    }\n",
       "</style>\n"
      ],
      "text/plain": [
       "<IPython.core.display.HTML object>"
      ]
     },
     "metadata": {},
     "output_type": "display_data"
    },
    {
     "data": {
      "text/html": [
       "\n",
       "    <div>\n",
       "      <progress value='6000' class='' max='6000' style='width:300px; height:20px; vertical-align: middle;'></progress>\n",
       "      100.00% [6000/6000 00:01&lt;00:00 Sampling 4 chains, 0 divergences]\n",
       "    </div>\n",
       "    "
      ],
      "text/plain": [
       "<IPython.core.display.HTML object>"
      ]
     },
     "metadata": {},
     "output_type": "display_data"
    },
    {
     "name": "stderr",
     "output_type": "stream",
     "text": [
      "Sampling 4 chains for 1_000 tune and 500 draw iterations (4_000 + 2_000 draws total) took 31 seconds.\n"
     ]
    }
   ],
   "source": [
    "options = dict(return_inferencedata=False)\n",
    "\n",
    "with model2: \n",
    "    trace2 = pm.sample(500, **options)"
   ]
  },
  {
   "cell_type": "code",
   "execution_count": 60,
   "id": "47b97aaf",
   "metadata": {},
   "outputs": [],
   "source": [
    "sample_post_pymc = trace2['lam']"
   ]
  },
  {
   "cell_type": "code",
   "execution_count": 61,
   "id": "c844d529",
   "metadata": {},
   "outputs": [
    {
     "data": {
      "text/html": [
       "\n",
       "<style>\n",
       "    /* Turns off some styling */\n",
       "    progress {\n",
       "        /* gets rid of default border in Firefox and Opera. */\n",
       "        border: none;\n",
       "        /* Needs to be in here for Safari polyfill so background images work as expected. */\n",
       "        background-size: auto;\n",
       "    }\n",
       "    progress:not([value]), progress:not([value])::-webkit-progress-bar {\n",
       "        background: repeating-linear-gradient(45deg, #7e7e7e, #7e7e7e 10px, #5c5c5c 10px, #5c5c5c 20px);\n",
       "    }\n",
       "    .progress-bar-interrupted, .progress-bar-interrupted::-webkit-progress-bar {\n",
       "        background: #F44336;\n",
       "    }\n",
       "</style>\n"
      ],
      "text/plain": [
       "<IPython.core.display.HTML object>"
      ]
     },
     "metadata": {},
     "output_type": "display_data"
    },
    {
     "data": {
      "text/html": [
       "\n",
       "    <div>\n",
       "      <progress value='2000' class='' max='2000' style='width:300px; height:20px; vertical-align: middle;'></progress>\n",
       "      100.00% [2000/2000 00:00&lt;00:00]\n",
       "    </div>\n",
       "    "
      ],
      "text/plain": [
       "<IPython.core.display.HTML object>"
      ]
     },
     "metadata": {},
     "output_type": "display_data"
    }
   ],
   "source": [
    "with model2:\n",
    "    post_pred = pm.sample_posterior_predictive(trace2)"
   ]
  },
  {
   "cell_type": "code",
   "execution_count": 62,
   "id": "5e7a2a62",
   "metadata": {},
   "outputs": [],
   "source": [
    "sample_post_pred_pymc = post_pred['goals']"
   ]
  },
  {
   "cell_type": "code",
   "execution_count": 63,
   "id": "e49f64e4",
   "metadata": {},
   "outputs": [],
   "source": [
    "sample_post = posterior.sample(1000)\n",
    "sample_post_pred = poisson(sample_post).rvs()"
   ]
  },
  {
   "cell_type": "code",
   "execution_count": null,
   "id": "bc853ed7",
   "metadata": {},
   "outputs": [],
   "source": []
  }
 ],
 "metadata": {
  "kernelspec": {
   "display_name": "Python 3 (ipykernel)",
   "language": "python",
   "name": "python3"
  },
  "language_info": {
   "codemirror_mode": {
    "name": "ipython",
    "version": 3
   },
   "file_extension": ".py",
   "mimetype": "text/x-python",
   "name": "python",
   "nbconvert_exporter": "python",
   "pygments_lexer": "ipython3",
   "version": "3.9.12"
  }
 },
 "nbformat": 4,
 "nbformat_minor": 5
}
