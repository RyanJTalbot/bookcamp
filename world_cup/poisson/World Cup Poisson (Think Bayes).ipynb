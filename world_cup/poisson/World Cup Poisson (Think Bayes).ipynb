{
 "cells": [
  {
   "cell_type": "markdown",
   "id": "25ef7e2c",
   "metadata": {},
   "source": [
    "# Study Bayes\n",
    "\n",
    "### Chapters 8 & 18 \n",
    "- world cup \n",
    "\n",
    "#### Not working:\n",
    "- empiricaldist\n",
    "- prior (is part of empiricladist?)\n",
    "- utils\n",
    "\n",
    "https://stackoverflow.com/questions/27064348/no-module-named-utils-error-on-compiling-py-file"
   ]
  },
  {
   "cell_type": "code",
   "execution_count": 2,
   "id": "de90fb28",
   "metadata": {},
   "outputs": [
    {
     "name": "stdout",
     "output_type": "stream",
     "text": [
      "Requirement already satisfied: empiricaldist in /Users/ryantalbot/opt/anaconda3/lib/python3.9/site-packages (0.6.7)\r\n"
     ]
    }
   ],
   "source": [
    "!pip install empiricaldist"
   ]
  },
  {
   "cell_type": "code",
   "execution_count": 3,
   "id": "e636ef81",
   "metadata": {},
   "outputs": [
    {
     "ename": "ModuleNotFoundError",
     "evalue": "No module named 'empiricaldist'",
     "output_type": "error",
     "traceback": [
      "\u001b[0;31m---------------------------------------------------------------------------\u001b[0m",
      "\u001b[0;31mModuleNotFoundError\u001b[0m                       Traceback (most recent call last)",
      "Input \u001b[0;32mIn [3]\u001b[0m, in \u001b[0;36m<cell line: 8>\u001b[0;34m()\u001b[0m\n\u001b[1;32m      6\u001b[0m \u001b[38;5;28;01mfrom\u001b[39;00m \u001b[38;5;21;01mscipy\u001b[39;00m\u001b[38;5;21;01m.\u001b[39;00m\u001b[38;5;21;01mstats\u001b[39;00m \u001b[38;5;28;01mimport\u001b[39;00m rv_continuous\n\u001b[1;32m      7\u001b[0m \u001b[38;5;28;01mimport\u001b[39;00m \u001b[38;5;21;01mmatplotlib\u001b[39;00m\u001b[38;5;21;01m.\u001b[39;00m\u001b[38;5;21;01mpyplot\u001b[39;00m \u001b[38;5;28;01mas\u001b[39;00m \u001b[38;5;21;01mplt\u001b[39;00m\n\u001b[0;32m----> 8\u001b[0m \u001b[38;5;28;01mfrom\u001b[39;00m \u001b[38;5;21;01mempiricaldist\u001b[39;00m \u001b[38;5;28;01mimport\u001b[39;00m Pmf\n",
      "\u001b[0;31mModuleNotFoundError\u001b[0m: No module named 'empiricaldist'"
     ]
    }
   ],
   "source": [
    "import pandas as pd\n",
    "import numpy as np\n",
    "import scipy as scipy\n",
    "from scipy import linalg, optimize\n",
    "from scipy.stats import poisson\n",
    "from scipy.stats import rv_continuous\n",
    "import matplotlib.pyplot as plt\n",
    "from empiricaldist import Pmf"
   ]
  },
  {
   "cell_type": "code",
   "execution_count": null,
   "id": "2a9a6fc1",
   "metadata": {},
   "outputs": [],
   "source": [
    "df = pd.read_csv('./wc_goals.csv')"
   ]
  },
  {
   "cell_type": "code",
   "execution_count": null,
   "id": "cf51106a",
   "metadata": {},
   "outputs": [],
   "source": [
    "df.head()"
   ]
  },
  {
   "cell_type": "code",
   "execution_count": null,
   "id": "91074147",
   "metadata": {},
   "outputs": [],
   "source": [
    "lam = 1.4\n",
    "dist = poisson(lam)\n",
    "type(dist)\n",
    "scipy.stats._distn_infrastructure.rv_frozen"
   ]
  },
  {
   "cell_type": "code",
   "execution_count": null,
   "id": "3cc5041b",
   "metadata": {},
   "outputs": [],
   "source": [
    "k = 4\n",
    "dist.pmf(k)"
   ]
  },
  {
   "cell_type": "code",
   "execution_count": null,
   "id": "56e209a4",
   "metadata": {},
   "outputs": [],
   "source": [
    "def make_poisson_pmf(lam, qs):\n",
    "# \"\"\"Make a Pmf of a Poisson distribution.\"\"\"\n",
    "    ps = poisson(lam).pmf(qs)\n",
    "    pmf = Pmf(ps, qs)\n",
    "    pmf.normalize()\n",
    "    return pmf"
   ]
  },
  {
   "cell_type": "code",
   "execution_count": null,
   "id": "3fa566da",
   "metadata": {},
   "outputs": [],
   "source": [
    "lam = 1.4\n",
    "goals = np.arange(10)\n",
    "pmf_goals = make_poisson_pmf(lam, goals)"
   ]
  },
  {
   "cell_type": "code",
   "execution_count": null,
   "id": "ef604d56",
   "metadata": {},
   "outputs": [],
   "source": [
    "from scipy.stats import gamma\n",
    "alpha = 1.4\n",
    "qs = np.linspace(0, 10, 101)\n",
    "ps = gamma(alpha).pdf(qs)"
   ]
  },
  {
   "cell_type": "code",
   "execution_count": null,
   "id": "647d104b",
   "metadata": {},
   "outputs": [],
   "source": [
    "prior = Pmf(ps, qs)\n",
    "prior.normalize()"
   ]
  },
  {
   "cell_type": "code",
   "execution_count": null,
   "id": "117fbdaa",
   "metadata": {},
   "outputs": [],
   "source": [
    "lam = 1.4\n",
    "k = 4\n",
    "poisson(lam).pmf(4)"
   ]
  },
  {
   "cell_type": "code",
   "execution_count": null,
   "id": "1fd003c7",
   "metadata": {},
   "outputs": [],
   "source": [
    "lams = prior.qs\n",
    "k = 4\n",
    "likelihood = poisson(lams).pmf(k)"
   ]
  },
  {
   "cell_type": "code",
   "execution_count": null,
   "id": "5e217ec5",
   "metadata": {},
   "outputs": [],
   "source": [
    "def update_poisson(pmf, data):\n",
    "# \"\"\"Update Pmf with a Poisson likelihood.\"\"\"\n",
    "    k = data\n",
    "    lams = pmf.qs\n",
    "    likelihood = poisson(lams).pmf(k)\n",
    "    pmf *= likelihood\n",
    "    pmf.normalize()\n"
   ]
  },
  {
   "cell_type": "code",
   "execution_count": null,
   "id": "f9709625",
   "metadata": {},
   "outputs": [],
   "source": [
    "france = prior.copy()\n",
    "update_poisson(france, 4)"
   ]
  },
  {
   "cell_type": "code",
   "execution_count": null,
   "id": "cc8cc4b5",
   "metadata": {},
   "outputs": [],
   "source": [
    "croatia = prior.copy()\n",
    "update_poisson(croatia, 2)"
   ]
  },
  {
   "cell_type": "code",
   "execution_count": null,
   "id": "a970e17e",
   "metadata": {},
   "outputs": [],
   "source": [
    "def prob_gt(pmf1, pmf2):\n",
    "#     \"\"\"Compute the probability of superiority.\"\"\"\n",
    "    total = 0\n",
    "    for q1, p1 in pmf1.items():\n",
    "        for q2, p2 in pmf2.items():\n",
    "            if q1 > q2:\n",
    "                total += p1 * p2\n",
    "    return total"
   ]
  },
  {
   "cell_type": "code",
   "execution_count": null,
   "id": "8bf8e7df",
   "metadata": {},
   "outputs": [],
   "source": [
    "prob_gt(france, croatia)"
   ]
  },
  {
   "cell_type": "code",
   "execution_count": null,
   "id": "684574c1",
   "metadata": {},
   "outputs": [],
   "source": [
    "Pmf.prob_gt(france, croatia)"
   ]
  },
  {
   "cell_type": "code",
   "execution_count": null,
   "id": "e8b04cdc",
   "metadata": {},
   "outputs": [],
   "source": [
    "pmf_seq = [make_poisson_pmf(lam, goals)\n",
    "for lam in prior.qs]"
   ]
  },
  {
   "cell_type": "code",
   "execution_count": null,
   "id": "4f6c56a5",
   "metadata": {},
   "outputs": [],
   "source": [
    "pred_france = make_mixture(france, pmf_seq)"
   ]
  },
  {
   "cell_type": "code",
   "execution_count": null,
   "id": "8107787d",
   "metadata": {},
   "outputs": [],
   "source": [
    "pred_croatia = make_mixture(croatia, pmf_seq)"
   ]
  },
  {
   "cell_type": "code",
   "execution_count": null,
   "id": "02c8f4bc",
   "metadata": {},
   "outputs": [],
   "source": [
    "win = Pmf.prob_gt(pred_france, pred_croatia)\n",
    "win"
   ]
  },
  {
   "cell_type": "code",
   "execution_count": null,
   "id": "895bf4ec",
   "metadata": {},
   "outputs": [],
   "source": [
    "lose = Pmf.prob_lt(pred_france, pred_croatia)\n",
    "lose"
   ]
  },
  {
   "cell_type": "code",
   "execution_count": null,
   "id": "41684297",
   "metadata": {},
   "outputs": [],
   "source": [
    "tie = Pmf.prob_eq(pred_france, pred_croatia)\n",
    "tie"
   ]
  },
  {
   "cell_type": "code",
   "execution_count": null,
   "id": "aacef4ea",
   "metadata": {},
   "outputs": [],
   "source": [
    "win + tie/2"
   ]
  },
  {
   "cell_type": "code",
   "execution_count": null,
   "id": "50e85ed7",
   "metadata": {},
   "outputs": [],
   "source": [
    "def expo_pdf(t, lam):\n",
    "# \"\"\"Compute the PDF of the exponential distribution.\"\"\"\n",
    "    return lam * np.exp(-lam * t)\n"
   ]
  },
  {
   "cell_type": "code",
   "execution_count": null,
   "id": "c4c391fd",
   "metadata": {},
   "outputs": [],
   "source": [
    "lam = 1.4\n",
    "qs = np.linspace(0, 4, 101)\n",
    "ps = expo_pdf(qs, lam)\n",
    "pmf_time = Pmf(ps, qs)\n",
    "pmf_time.normalize()"
   ]
  },
  {
   "cell_type": "code",
   "execution_count": null,
   "id": "b3b24311",
   "metadata": {},
   "outputs": [],
   "source": []
  }
 ],
 "metadata": {
  "kernelspec": {
   "display_name": "Python 3 (ipykernel)",
   "language": "python",
   "name": "python3"
  },
  "language_info": {
   "codemirror_mode": {
    "name": "ipython",
    "version": 3
   },
   "file_extension": ".py",
   "mimetype": "text/x-python",
   "name": "python",
   "nbconvert_exporter": "python",
   "pygments_lexer": "ipython3",
   "version": "3.9.12"
  }
 },
 "nbformat": 4,
 "nbformat_minor": 5
}
